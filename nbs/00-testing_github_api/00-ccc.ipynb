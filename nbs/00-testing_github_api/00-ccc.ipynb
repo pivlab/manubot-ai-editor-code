{
 "cells": [
  {
   "cell_type": "markdown",
   "id": "070a050a-44d1-42c2-b274-c8c180a2a0ba",
   "metadata": {
    "editable": true,
    "papermill": {
     "duration": 0.002602,
     "end_time": "2024-03-15T00:15:15.975569",
     "exception": false,
     "start_time": "2024-03-15T00:15:15.972967",
     "status": "completed"
    },
    "slideshow": {
     "slide_type": ""
    },
    "tags": []
   },
   "source": [
    "# Description"
   ]
  },
  {
   "cell_type": "markdown",
   "id": "f7d8a977-9b43-459e-9dfb-b5be8286b4d2",
   "metadata": {
    "editable": true,
    "papermill": {
     "duration": 0.001866,
     "end_time": "2024-03-15T00:15:15.987917",
     "exception": false,
     "start_time": "2024-03-15T00:15:15.986051",
     "status": "completed"
    },
    "slideshow": {
     "slide_type": ""
    },
    "tags": []
   },
   "source": [
    "This notebook tests the PyGithub package to read a GitHub repository containing a Manubot-based manuscript."
   ]
  },
  {
   "cell_type": "markdown",
   "id": "b237f234-dc98-43e9-8ff5-8922c410c377",
   "metadata": {
    "editable": true,
    "papermill": {
     "duration": 0.00186,
     "end_time": "2024-03-15T00:15:15.991817",
     "exception": false,
     "start_time": "2024-03-15T00:15:15.989957",
     "status": "completed"
    },
    "slideshow": {
     "slide_type": ""
    },
    "tags": []
   },
   "source": [
    "# Modules"
   ]
  },
  {
   "cell_type": "code",
   "execution_count": 1,
   "id": "70413318-1f5e-4d58-b1a2-cb4f01c13e86",
   "metadata": {
    "editable": true,
    "papermill": {
     "duration": 0.113882,
     "end_time": "2024-03-15T00:15:16.107842",
     "exception": false,
     "start_time": "2024-03-15T00:15:15.993960",
     "status": "completed"
    },
    "slideshow": {
     "slide_type": ""
    },
    "tags": []
   },
   "outputs": [],
   "source": [
    "from github import Auth, Github\n",
    "from IPython.display import display\n",
    "from proj import conf"
   ]
  },
  {
   "cell_type": "markdown",
   "id": "3f78fd18-86b7-40b9-b80e-a8b18d001682",
   "metadata": {
    "editable": true,
    "papermill": {
     "duration": 0.010426,
     "end_time": "2024-03-15T00:15:16.119934",
     "exception": false,
     "start_time": "2024-03-15T00:15:16.109508",
     "status": "completed"
    },
    "slideshow": {
     "slide_type": ""
    },
    "tags": []
   },
   "source": [
    "# Settings/paths"
   ]
  },
  {
   "cell_type": "code",
   "execution_count": 2,
   "id": "10a3ceca-1480-45b0-b04d-cb402ff95abf",
   "metadata": {
    "editable": true,
    "papermill": {
     "duration": 0.000955,
     "end_time": "2024-03-15T00:15:16.122000",
     "exception": false,
     "start_time": "2024-03-15T00:15:16.121045",
     "status": "completed"
    },
    "slideshow": {
     "slide_type": ""
    },
    "tags": [
     "parameters"
    ]
   },
   "outputs": [],
   "source": [
    "REPO = \"pivlab/manubot-ai-editor-code-test-ccc-manuscript\"\n",
    "# PR 2: gpt-3.5-turbo\n",
    "# PR 3: gpt-4-0125-preview\n",
    "PR = 2"
   ]
  },
  {
   "cell_type": "markdown",
   "id": "c42b83b5-84b7-45ff-88ee-3651aa5c9c55",
   "metadata": {
    "editable": true,
    "papermill": {
     "duration": 0.000952,
     "end_time": "2024-03-15T00:15:16.124013",
     "exception": false,
     "start_time": "2024-03-15T00:15:16.123061",
     "status": "completed"
    },
    "slideshow": {
     "slide_type": ""
    },
    "tags": []
   },
   "source": [
    "# Get Repo"
   ]
  },
  {
   "cell_type": "code",
   "execution_count": 3,
   "id": "f1d1f476-f5b5-4d1c-9c3a-822e9bef4b27",
   "metadata": {
    "editable": true,
    "papermill": {
     "duration": 0.004874,
     "end_time": "2024-03-15T00:15:16.129892",
     "exception": false,
     "start_time": "2024-03-15T00:15:16.125018",
     "status": "completed"
    },
    "slideshow": {
     "slide_type": ""
    },
    "tags": []
   },
   "outputs": [],
   "source": [
    "auth = Auth.Token(conf.github.API_TOKEN)"
   ]
  },
  {
   "cell_type": "code",
   "execution_count": 4,
   "id": "4e3db6e2-f267-4d60-8ff3-703698a09f88",
   "metadata": {
    "editable": true,
    "papermill": {
     "duration": 0.006454,
     "end_time": "2024-03-15T00:15:16.137412",
     "exception": false,
     "start_time": "2024-03-15T00:15:16.130958",
     "status": "completed"
    },
    "slideshow": {
     "slide_type": ""
    },
    "tags": []
   },
   "outputs": [],
   "source": [
    "g = Github(auth=auth)"
   ]
  },
  {
   "cell_type": "code",
   "execution_count": 5,
   "id": "cc6a365d-59f5-4537-9fd7-869ee4156046",
   "metadata": {
    "editable": true,
    "papermill": {
     "duration": 0.001072,
     "end_time": "2024-03-15T00:15:16.140268",
     "exception": false,
     "start_time": "2024-03-15T00:15:16.139196",
     "status": "completed"
    },
    "slideshow": {
     "slide_type": ""
    },
    "tags": []
   },
   "outputs": [],
   "source": [
    "repo = g.get_repo(REPO)"
   ]
  },
  {
   "cell_type": "markdown",
   "id": "f2d9fb5d-6838-484b-9202-ceac74fcb336",
   "metadata": {
    "editable": true,
    "slideshow": {
     "slide_type": ""
    },
    "tags": []
   },
   "source": [
    "# Get Pull Request"
   ]
  },
  {
   "cell_type": "code",
   "execution_count": 6,
   "id": "297c9dec-9e00-490d-8723-44208b3fe8f4",
   "metadata": {
    "editable": true,
    "slideshow": {
     "slide_type": ""
    },
    "tags": []
   },
   "outputs": [],
   "source": [
    "pr = repo.get_pull(PR)"
   ]
  },
  {
   "cell_type": "code",
   "execution_count": 7,
   "id": "064b1017-a495-48b3-bea3-1b9a67ad1b6f",
   "metadata": {
    "editable": true,
    "slideshow": {
     "slide_type": ""
    },
    "tags": []
   },
   "outputs": [
    {
     "data": {
      "text/plain": [
       "[File(sha=\"4b1b8489a63dc51e4eba4d71f32b026169e901d1\", filename=\"content/01.abstract.md\"),\n",
       " File(sha=\"96b9d8fdf8b314d5156029ea5e5c0727408d6cee\", filename=\"content/02.introduction.md\"),\n",
       " File(sha=\"ad101146fd6476ed4bf1fd4bcbbe8fa9e174c2f0\", filename=\"content/04.05.results_intro.md\"),\n",
       " File(sha=\"74ea03690a400f1c576007aff728e41fc7fb0faf\", filename=\"content/04.10.results_comp.md\"),\n",
       " File(sha=\"5088c6fa5f7d04ffdf17fd2392cc27c9d917c7a0\", filename=\"content/04.12.results_giant.md\"),\n",
       " File(sha=\"e0be1fecd6158445a8102f098545b135abf07fed\", filename=\"content/06.discussion.md\"),\n",
       " File(sha=\"328b3aac9742ec34d4d0d0fcc42dca439952433d\", filename=\"content/08.01.methods.ccc.md\"),\n",
       " File(sha=\"0c5625cac78916c535fe5f1c404846e52c62b59a\", filename=\"content/08.05.methods.data.md\"),\n",
       " File(sha=\"16d0a39afea2c2c361967d01214f79d8bbf2d76d\", filename=\"content/08.15.methods.giant.md\"),\n",
       " File(sha=\"81b2c0d4c4fca81a3820bd2ac3bb46efdd7b2ca5\", filename=\"content/08.20.methods.mic.md\"),\n",
       " File(sha=\"176e79ecda4017d56f4808a244e70a2786683deb\", filename=\"content/20.00.supplementary_material.md\")]"
      ]
     },
     "execution_count": 7,
     "metadata": {},
     "output_type": "execute_result"
    }
   ],
   "source": [
    "list(pr.get_files())"
   ]
  },
  {
   "cell_type": "code",
   "execution_count": 8,
   "id": "7bc9b271-7ed2-4994-9d36-c8afa946b017",
   "metadata": {
    "editable": true,
    "slideshow": {
     "slide_type": ""
    },
    "tags": []
   },
   "outputs": [],
   "source": [
    "pr_commits = list(pr.get_commits())"
   ]
  },
  {
   "cell_type": "code",
   "execution_count": 9,
   "id": "446a1453-5729-4687-9b93-8165dd0e2793",
   "metadata": {
    "editable": true,
    "slideshow": {
     "slide_type": ""
    },
    "tags": []
   },
   "outputs": [
    {
     "data": {
      "text/plain": [
       "[Commit(sha=\"0adeb9d709cc9d66e52a325c114605655b1b4923\")]"
      ]
     },
     "execution_count": 9,
     "metadata": {},
     "output_type": "execute_result"
    }
   ],
   "source": [
    "pr_commits[0].parents"
   ]
  },
  {
   "cell_type": "code",
   "execution_count": 10,
   "id": "9c2382a1-adcc-47dc-8c75-d34f8500f93e",
   "metadata": {
    "editable": true,
    "slideshow": {
     "slide_type": ""
    },
    "tags": []
   },
   "outputs": [
    {
     "name": "stdout",
     "output_type": "stream",
     "text": [
      "0adeb9d709cc9d66e52a325c114605655b1b4923\n"
     ]
    }
   ],
   "source": [
    "pr_prev = pr_commits[0].parents[0].sha\n",
    "print(pr_prev)"
   ]
  },
  {
   "cell_type": "code",
   "execution_count": 11,
   "id": "96c9b088-a166-49d6-a0df-64d2cf690b7e",
   "metadata": {
    "editable": true,
    "slideshow": {
     "slide_type": ""
    },
    "tags": []
   },
   "outputs": [
    {
     "name": "stdout",
     "output_type": "stream",
     "text": [
      "bdee3d136aa9e8b6d80b31e926069f9b96e1cac5\n"
     ]
    }
   ],
   "source": [
    "pr_curr = pr_commits[0].sha\n",
    "print(pr_curr)"
   ]
  },
  {
   "cell_type": "markdown",
   "id": "10872c1e-0184-46c6-a04f-dce43438d404",
   "metadata": {
    "editable": true,
    "slideshow": {
     "slide_type": ""
    },
    "tags": []
   },
   "source": [
    "# Get file list"
   ]
  },
  {
   "cell_type": "code",
   "execution_count": 12,
   "id": "242729cf-1778-4162-b813-249ae6c8b632",
   "metadata": {
    "editable": true,
    "slideshow": {
     "slide_type": ""
    },
    "tags": []
   },
   "outputs": [
    {
     "data": {
      "text/plain": [
       "[File(sha=\"4b1b8489a63dc51e4eba4d71f32b026169e901d1\", filename=\"content/01.abstract.md\"),\n",
       " File(sha=\"96b9d8fdf8b314d5156029ea5e5c0727408d6cee\", filename=\"content/02.introduction.md\"),\n",
       " File(sha=\"ad101146fd6476ed4bf1fd4bcbbe8fa9e174c2f0\", filename=\"content/04.05.results_intro.md\"),\n",
       " File(sha=\"74ea03690a400f1c576007aff728e41fc7fb0faf\", filename=\"content/04.10.results_comp.md\"),\n",
       " File(sha=\"5088c6fa5f7d04ffdf17fd2392cc27c9d917c7a0\", filename=\"content/04.12.results_giant.md\"),\n",
       " File(sha=\"e0be1fecd6158445a8102f098545b135abf07fed\", filename=\"content/06.discussion.md\"),\n",
       " File(sha=\"328b3aac9742ec34d4d0d0fcc42dca439952433d\", filename=\"content/08.01.methods.ccc.md\"),\n",
       " File(sha=\"0c5625cac78916c535fe5f1c404846e52c62b59a\", filename=\"content/08.05.methods.data.md\"),\n",
       " File(sha=\"16d0a39afea2c2c361967d01214f79d8bbf2d76d\", filename=\"content/08.15.methods.giant.md\"),\n",
       " File(sha=\"81b2c0d4c4fca81a3820bd2ac3bb46efdd7b2ca5\", filename=\"content/08.20.methods.mic.md\"),\n",
       " File(sha=\"176e79ecda4017d56f4808a244e70a2786683deb\", filename=\"content/20.00.supplementary_material.md\")]"
      ]
     },
     "metadata": {},
     "output_type": "display_data"
    }
   ],
   "source": [
    "pr_files = [f for f in pr.get_files() if f.filename.endswith(\".md\")]\n",
    "display(pr_files)"
   ]
  },
  {
   "cell_type": "markdown",
   "id": "bce10792-ba0d-4716-9dcd-b44c2eb668d4",
   "metadata": {
    "editable": true,
    "slideshow": {
     "slide_type": ""
    },
    "tags": []
   },
   "source": [
    "# Get file content"
   ]
  },
  {
   "cell_type": "code",
   "execution_count": 13,
   "id": "1558f08b-19a8-4951-8dea-228d7f59099d",
   "metadata": {
    "editable": true,
    "slideshow": {
     "slide_type": ""
    },
    "tags": []
   },
   "outputs": [
    {
     "data": {
      "text/plain": [
       "'content/20.00.supplementary_material.md'"
      ]
     },
     "metadata": {},
     "output_type": "display_data"
    }
   ],
   "source": [
    "pr_filename = pr_files[-1].filename\n",
    "display(pr_filename)"
   ]
  },
  {
   "cell_type": "code",
   "execution_count": 14,
   "id": "6e34ec8c-9420-4988-8005-2ced76e5e0f0",
   "metadata": {
    "editable": true,
    "slideshow": {
     "slide_type": ""
    },
    "tags": []
   },
   "outputs": [
    {
     "name": "stdout",
     "output_type": "stream",
     "text": [
      "## Supplementary material {.page_break_before}\n",
      "\n",
      "### Supplementary Note 1: Comparison with the Maximal Information Coefficient (MIC) on gene expression data {#sec:mic}\n",
      "\n",
      "We compared all the coefficients in this study with MIC [@pmid:22174245], a popular nonlinear method that can find complex relationships in data, although very computationally intensive [@doi:10.1098/rsos.201424].\n",
      "We ran MIC<sub>e</sub> (see Methods) on all possible pairwise comparisons of our 5,000 highly variable genes from whole blood in GTEx v8.\n",
      "This took 4 days and 19 hours to finish (compared with 9 hours for CCC).\n",
      "Then we performed the analysis on the distribution of coefficients (the same as in the main text), shown in Figure @fig:dist_coefs_mic.\n",
      "We verified that CCC and MIC behave similarly in this dataset, with essentially the same distribution but only shifted.\n",
      "Figure @fig:dist_coefs_mic c shows that these two coefficients relate almost linearly, and both compare very similarly with Pearson and Spearman.\n",
      "\n",
      "![\n",
      "**Distribution of MIC values on gene expression (GTEx v8, whole blood)  and comparison with other methods.**\n",
      "**a)** Histogram of coefficient values.\n",
      "**b)** Corresponding cumulative histogram. The dotted line maps the coefficient value that accumulates 70% of gene pairs.\n",
      "**c)** 2D histogram plot with hexagonal bins between all coefficients, where a logarithmic scale was used to color each hexagon.\n",
      "](images/coefs_comp/gtex_whole_blood/mic/dist-main.svg \"Distribution of MIC values\"){#fig:dist_coefs_mic width=\"100%\"}\n",
      "\n",
      "\n",
      "\n",
      "### Supplementary Note 2: Computational complexity of coefficients {#sec:time_test .page_break_before}\n",
      "\n",
      "We also compared CCC with the other coefficients in terms of computational complexity.\n",
      "Although CCC and MIC might identify similar gene pairs in gene expression data (see [here](#sec:mic)), the use of MIC in large datasets remains limited due to its very long computation time, despite some methodological/implementation improvements [@doi:10.1093/bioinformatics/bts707; @doi:10.1371/journal.pone.0157567; @doi:10.4137/EBO.S13121; @doi:10.1038/srep06662; @doi:10.1098/rsos.201424].\n",
      "The original MIC implementation uses ApproxMaxMI, a computationally demanding heuristic estimator [@doi:10.1126/science.1205438].\n",
      "Recently, a more efficient implementation called MIC<sub>e</sub> was proposed [@Reshef2016].\n",
      "These two MIC estimators are provided by the `minepy` package [@doi:10.1093/bioinformatics/bts707], a C implementation available for Python.\n",
      "We compared all these coefficients in terms of computation time on randomly generated variables of different sizes, which simulates a scenario of gene expression data with different numbers of conditions.\n",
      "Differently from the rest, CCC allows us to easily parallelize the computation of a single gene pair (see [Methods](#sec:ccc_algo)), so we also tested the cases using 1 and 3 CPU cores.\n",
      "Figure @fig:time_test shows the time in seconds in log scale.\n",
      "\n",
      "![\n",
      "**Computational complexity of all correlation coefficients on simulated data.**\n",
      "We simulated variables/features with varying data sizes (from 100 to a million, $x$-axis).\n",
      "The plot shows the average time in seconds (log-scale) taken for each coefficient on ten repetitions (1000 repetitions were performed for data size 100).\n",
      "CCC was run using 1 and 3 CPU cores.\n",
      "MIC and MIC<sub>e</sub> did not finish running in a reasonable amount of time for data sizes of 10,000 and 100,000, respectively.\n",
      "](images/coefs_comp/time_test/time_test-main.svg \"Computation time\"){#fig:time_test width=\"55%\"}\n",
      "\n",
      "As we already expected, Pearson and Spearman were the fastest, given that they only need to compute basic summary statistics from the data.\n",
      "For example, Pearson is three orders of magnitude faster than CCC.\n",
      "Among the nonlinear coefficients, CCC was faster than the two MIC variations (up to two orders of magnitude), with the only exception in very small data sizes.\n",
      "The difference is important because both MIC variants were implemented in C [@doi:10.1093/bioinformatics/bts707], a high-performance programming language, whereas CCC was implemented in Python (optimized with `numba`).\n",
      "For a data size of a million, the multi-core CCC was twice as fast as the single-core CCC.\n",
      "This suggests that new implementations using more advanced processing units (such as GPUs) are feasible and could make CCC reach speeds closer to Pearson.\n",
      "\n",
      "\n",
      "\n",
      "### Tissue-specific gene networks with GIANT {.page_break_before}\n",
      "\n",
      "\n",
      "| | **Interaction confidence** <!-- $colspan=\"7\" -->    | | | | | | |\n",
      "|:------:|:-----:|:-----:|:-----:|:--------:|:-----:|:-----:|:-----:|\n",
      "| | **Blood** <!-- $colspan=\"3\" --> | | | **Predicted cell type** <!-- $colspan=\"4\" --> | | | |\n",
      "| **Gene** |  **Min.** | **Avg.** | **Max.** |  **Cell type** | **Min.** | **Avg.** | **Max.** |\n",
      "| *IFNG* | 0.19 | 0.42 | 0.54 | Natural killer cell<!-- $rowspan=\"2\" --> | 0.74 | 0.90 | 0.99 |\n",
      "| *SDS* | 0.18 | 0.29 | 0.41 | 0.65 | 0.81 | 0.94<!-- $removenext=\"2\" --> |\n",
      "| <!-- $colspan=\"7\" --> |||||||\n",
      "| *JUN* | 0.26 | 0.68 | 0.97 | Mononuclear phagocyte<!-- $rowspan=\"2\" --> | 0.36 | 0.73 | 0.94 |\n",
      "| *APOC1* | 0.22 | 0.47 | 0.77 | 0.29 | 0.50 | 0.80<!-- $removenext=\"2\" --> |\n",
      "| <!-- $colspan=\"7\" --> |||||||\n",
      "| *ZDHHC12* | 0.05 | 0.07 | 0.10 | Macrophage<!-- $rowspan=\"2\" --> | 0.03 | 0.12 | 0.33 |\n",
      "| *CCL18* | 0.74 | 0.79 | 0.86 | 0.36 | 0.70 | 0.90<!-- $removenext=\"2\" --> |\n",
      "| <!-- $colspan=\"7\" --> |||||||\n",
      "| *RASSF2* | 0.69 | 0.77 | 0.90 | Leukocyte<!-- $rowspan=\"2\" --> | 0.66 | 0.74 | 0.88 |\n",
      "| *CYTIP* | 0.74 | 0.85 | 0.91 | 0.76 | 0.84 | 0.91<!-- $removenext=\"2\" --> |\n",
      "| <!-- $colspan=\"7\" --> |||||||\n",
      "| *MYOZ1* | 0.09 | 0.17 | 0.37 | Skeletal muscle<!-- $rowspan=\"2\" --> | 0.11 | 0.11 | 0.12 |\n",
      "| *TNNI2* | 0.10 | 0.22 | 0.44 | 0.10 | 0.11 | 0.12<!-- $removenext=\"2\" --> |\n",
      "| <!-- $colspan=\"7\" --> |||||||\n",
      "| *PYGM* | 0.02 | 0.04 | 0.14 | Skeletal muscle<!-- $rowspan=\"2\" --> | 0.01 | 0.02 | 0.04 |\n",
      "| *TPM2* | 0.05 | 0.56 | 0.80 | 0.01 | 0.28 | 0.47<!-- $removenext=\"2\" --> |\n",
      "\n",
      "Table: Network statistics of six gene pairs shown in Figure @fig:upsetplot_coefs b for blood and predicted cell types.\n",
      "Only gene pairs present in GIANT models are listed.\n",
      "For each gene in the pair (first column), the minimum, average and maximum interaction coefficients with the other genes in the network are shown.\n",
      "{#tbl:giant:weights}\n",
      "\n",
      "\n",
      "<!-- ![\n",
      "**Predicted tissue-specific networks from GIANT for six gene pairs prioritized by correlation coefficients.**\n",
      "Gene pairs are from Figure @fig:upsetplot_coefs b.\n",
      "A node represents a gene and an edge the probability that two genes are part of the same biological process in a specific cell type.\n",
      "The cell type for each gene network was automatically predicted using [@doi:10.1101/gr.155697.113], and it is indicated at the top-right corner of each network.\n",
      "A maximum of 15 genes are shown for each subfigure.\n",
      "The GIANT web application automatically determined a minimum interaction confidence (edges' weights) to be shown.\n",
      "All these analyses can be performed online using the following links:\n",
      "*IFNG* - *SDS* [@url:https://hb.flatironinstitute.org/gene/10993+3458],\n",
      "*JUN* - *APOC1* [@url:https://hb.flatironinstitute.org/gene/3725+341],\n",
      "*ZDHHC12* - *CCL18* [@url:https://hb.flatironinstitute.org/gene/6362+84885],\n",
      "*RASSF2* - *CYTIP* [@url:https://hb.flatironinstitute.org/gene/9770+9595],\n",
      "*MYOZ1* - *TNNI2* [@url:https://hb.flatironinstitute.org/gene/58529+7136],\n",
      "*PYGM* - *TPM2* [@url:https://hb.flatironinstitute.org/gene/5837+7169].\n",
      "The GIANT web-server was accessed on April 4, 2022.\n",
      "](images/coefs_comp/giant_networks/auto_selected_tissues/main.svg \"GIANT network interaction\"){#fig:giant_gene_pairs:pred_tissue width=\"100%\"} -->\n",
      "\n"
     ]
    }
   ],
   "source": [
    "print(repo.get_contents(pr_filename, pr_prev).decoded_content.decode(\"utf-8\"))"
   ]
  },
  {
   "cell_type": "code",
   "execution_count": 15,
   "id": "db1bf394-3824-4cd3-a80f-9037f9a8c5b0",
   "metadata": {
    "editable": true,
    "slideshow": {
     "slide_type": ""
    },
    "tags": []
   },
   "outputs": [
    {
     "name": "stdout",
     "output_type": "stream",
     "text": [
      "## Supplementary material {.page_break_before}\n",
      "\n",
      "### Supplementary Note 1: Comparison with the Maximal Information Coefficient (MIC) on gene expression data {#sec:mic}\n",
      "\n",
      "We compared the coefficients from our study with the MIC method, which is known for identifying complex relationships in data but is computationally intensive.\n",
      "We applied MICe to all possible pairwise comparisons of 5,000 highly variable genes from whole blood in GTEx v8.\n",
      "This process took 4 days and 19 hours to complete, significantly longer than the 9 hours required for CCC.\n",
      "The analysis of coefficient distribution, as described in the main text, is shown in Figure 1.\n",
      "We found that CCC and MIC exhibited similar behavior in this dataset, with comparable distributions that were only slightly shifted.\n",
      "Figure 1c illustrates a nearly linear relationship between these two coefficients, which also showed similarities with Pearson and Spearman correlations.\n",
      "\n",
      "![\n",
      "**Distribution of MIC values on gene expression (GTEx v8, whole blood)  and comparison with other methods.**\n",
      "**a)** Histogram of coefficient values.\n",
      "**b)** Corresponding cumulative histogram. The dotted line maps the coefficient value that accumulates 70% of gene pairs.\n",
      "**c)** 2D histogram plot with hexagonal bins between all coefficients, where a logarithmic scale was used to color each hexagon.\n",
      "](images/coefs_comp/gtex_whole_blood/mic/dist-main.svg \"Distribution of MIC values\"){#fig:dist_coefs_mic width=\"100%\"}\n",
      "\n",
      "\n",
      "\n",
      "### Supplementary Note 2: Computational complexity of coefficients {#sec:time_test .page_break_before}\n",
      "\n",
      "We compared CCC with other correlation coefficients in terms of computational complexity.\n",
      "While CCC and MIC may identify similar gene pairs in gene expression data, MIC is limited in large datasets due to its long computation time.\n",
      "Some improvements have been made to the MIC method, but its original implementation, which uses ApproxMaxMI, is computationally demanding.\n",
      "A more efficient implementation called MICe has been proposed.\n",
      "Both MIC estimators are included in the minepy package, a C implementation available for Python.\n",
      "We compared these coefficients in terms of computation time on randomly generated variables of different sizes to simulate scenarios of gene expression data with varying numbers of conditions.\n",
      "Unlike other coefficients, CCC allows for easy parallelization of the computation of a single gene pair.\n",
      "We tested the cases using 1 and 3 CPU cores.\n",
      "The results are shown in Figure 1.\n",
      "\n",
      "![\n",
      "**Computational complexity of all correlation coefficients on simulated data.**\n",
      "We simulated variables/features with varying data sizes (from 100 to a million, $x$-axis).\n",
      "The plot shows the average time in seconds (log-scale) taken for each coefficient on ten repetitions (1000 repetitions were performed for data size 100).\n",
      "CCC was run using 1 and 3 CPU cores.\n",
      "MIC and MIC<sub>e</sub> did not finish running in a reasonable amount of time for data sizes of 10,000 and 100,000, respectively.\n",
      "](images/coefs_comp/time_test/time_test-main.svg \"Computation time\"){#fig:time_test width=\"55%\"}\n",
      "\n",
      "As we anticipated, Pearson and Spearman were the quickest as they only require basic summary statistics from the data.\n",
      "For instance, Pearson is significantly faster than CCC.\n",
      "Among the nonlinear coefficients, CCC was quicker than the two MIC variations (up to two orders of magnitude), except for very small data sizes.\n",
      "This difference is noteworthy because both MIC variants were coded in C, a high-performance programming language, while CCC was coded in Python (optimized with `numba`).\n",
      "For a dataset of a million, the multi-core CCC was twice as fast as the single-core CCC.\n",
      "This indicates that new implementations utilizing more advanced processing units (such as GPUs) are possible and could potentially increase CCC's speed closer to that of Pearson.\n",
      "\n",
      "\n",
      "\n",
      "### Tissue-specific gene networks with GIANT {.page_break_before}\n",
      "\n",
      "\n",
      "| | **Interaction confidence** <!-- $colspan=\"7\" -->    | | | | | | |\n",
      "|:------:|:-----:|:-----:|:-----:|:--------:|:-----:|:-----:|:-----:|\n",
      "| | **Blood** <!-- $colspan=\"3\" --> | | | **Predicted cell type** <!-- $colspan=\"4\" --> | | | |\n",
      "| **Gene** |  **Min.** | **Avg.** | **Max.** |  **Cell type** | **Min.** | **Avg.** | **Max.** |\n",
      "| *IFNG* | 0.19 | 0.42 | 0.54 | Natural killer cell<!-- $rowspan=\"2\" --> | 0.74 | 0.90 | 0.99 |\n",
      "| *SDS* | 0.18 | 0.29 | 0.41 | 0.65 | 0.81 | 0.94<!-- $removenext=\"2\" --> |\n",
      "| <!-- $colspan=\"7\" --> |||||||\n",
      "| *JUN* | 0.26 | 0.68 | 0.97 | Mononuclear phagocyte<!-- $rowspan=\"2\" --> | 0.36 | 0.73 | 0.94 |\n",
      "| *APOC1* | 0.22 | 0.47 | 0.77 | 0.29 | 0.50 | 0.80<!-- $removenext=\"2\" --> |\n",
      "| <!-- $colspan=\"7\" --> |||||||\n",
      "| *ZDHHC12* | 0.05 | 0.07 | 0.10 | Macrophage<!-- $rowspan=\"2\" --> | 0.03 | 0.12 | 0.33 |\n",
      "| *CCL18* | 0.74 | 0.79 | 0.86 | 0.36 | 0.70 | 0.90<!-- $removenext=\"2\" --> |\n",
      "| <!-- $colspan=\"7\" --> |||||||\n",
      "| *RASSF2* | 0.69 | 0.77 | 0.90 | Leukocyte<!-- $rowspan=\"2\" --> | 0.66 | 0.74 | 0.88 |\n",
      "| *CYTIP* | 0.74 | 0.85 | 0.91 | 0.76 | 0.84 | 0.91<!-- $removenext=\"2\" --> |\n",
      "| <!-- $colspan=\"7\" --> |||||||\n",
      "| *MYOZ1* | 0.09 | 0.17 | 0.37 | Skeletal muscle<!-- $rowspan=\"2\" --> | 0.11 | 0.11 | 0.12 |\n",
      "| *TNNI2* | 0.10 | 0.22 | 0.44 | 0.10 | 0.11 | 0.12<!-- $removenext=\"2\" --> |\n",
      "| <!-- $colspan=\"7\" --> |||||||\n",
      "| *PYGM* | 0.02 | 0.04 | 0.14 | Skeletal muscle<!-- $rowspan=\"2\" --> | 0.01 | 0.02 | 0.04 |\n",
      "| *TPM2* | 0.05 | 0.56 | 0.80 | 0.01 | 0.28 | 0.47<!-- $removenext=\"2\" --> |\n",
      "\n",
      "Table: Network statistics of six gene pairs shown in Figure @fig:upsetplot_coefs b for blood and predicted cell types.\n",
      "Only gene pairs present in GIANT models are listed.\n",
      "For each gene in the pair (first column), the minimum, average and maximum interaction coefficients with the other genes in the network are shown.\n",
      "{#tbl:giant:weights}\n",
      "\n",
      "\n",
      "<!-- ![\n",
      "**Predicted tissue-specific networks from GIANT for six gene pairs prioritized by correlation coefficients.**\n",
      "Gene pairs are from Figure @fig:upsetplot_coefs b.\n",
      "A node represents a gene and an edge the probability that two genes are part of the same biological process in a specific cell type.\n",
      "The cell type for each gene network was automatically predicted using [@doi:10.1101/gr.155697.113], and it is indicated at the top-right corner of each network.\n",
      "A maximum of 15 genes are shown for each subfigure.\n",
      "The GIANT web application automatically determined a minimum interaction confidence (edges' weights) to be shown.\n",
      "All these analyses can be performed online using the following links:\n",
      "*IFNG* - *SDS* [@url:https://hb.flatironinstitute.org/gene/10993+3458],\n",
      "*JUN* - *APOC1* [@url:https://hb.flatironinstitute.org/gene/3725+341],\n",
      "*ZDHHC12* - *CCL18* [@url:https://hb.flatironinstitute.org/gene/6362+84885],\n",
      "*RASSF2* - *CYTIP* [@url:https://hb.flatironinstitute.org/gene/9770+9595],\n",
      "*MYOZ1* - *TNNI2* [@url:https://hb.flatironinstitute.org/gene/58529+7136],\n",
      "*PYGM* - *TPM2* [@url:https://hb.flatironinstitute.org/gene/5837+7169].\n",
      "The GIANT web-server was accessed on April 4, 2022.\n",
      "](images/coefs_comp/giant_networks/auto_selected_tissues/main.svg \"GIANT network interaction\"){#fig:giant_gene_pairs:pred_tissue width=\"100%\"} -->\n",
      "\n"
     ]
    }
   ],
   "source": [
    "print(repo.get_contents(pr_filename, pr_curr).decoded_content.decode(\"utf-8\"))"
   ]
  },
  {
   "cell_type": "markdown",
   "id": "9a45b8eb-9a57-4d0a-b311-b7ce8f6b4ceb",
   "metadata": {
    "editable": true,
    "slideshow": {
     "slide_type": ""
    },
    "tags": []
   },
   "source": [
    "# Close connections"
   ]
  },
  {
   "cell_type": "code",
   "execution_count": 16,
   "id": "91fcd4bb-131b-42b2-b64f-127441bd608b",
   "metadata": {
    "editable": true,
    "slideshow": {
     "slide_type": ""
    },
    "tags": []
   },
   "outputs": [],
   "source": [
    "g.close()"
   ]
  },
  {
   "cell_type": "code",
   "execution_count": null,
   "id": "6b7e80bd-f678-4047-b0f6-3c4e55de4767",
   "metadata": {
    "editable": true,
    "slideshow": {
     "slide_type": ""
    },
    "tags": []
   },
   "outputs": [],
   "source": []
  }
 ],
 "metadata": {
  "jupytext": {
   "cell_metadata_filter": "all,-execution,-papermill,-trusted",
   "notebook_metadata_filter": "-jupytext.text_representation.jupytext_version"
  },
  "kernelspec": {
   "display_name": "Python 3 (ipykernel)",
   "language": "python",
   "name": "python3"
  },
  "language_info": {
   "codemirror_mode": {
    "name": "ipython",
    "version": 3
   },
   "file_extension": ".py",
   "mimetype": "text/x-python",
   "name": "python",
   "nbconvert_exporter": "python",
   "pygments_lexer": "ipython3",
   "version": "3.11.8"
  },
  "papermill": {
   "default_parameters": {},
   "duration": 1.243225,
   "end_time": "2024-03-15T00:15:16.356312",
   "environment_variables": {},
   "exception": null,
   "input_path": "nbs/00_play_with_pygithub.ipynb",
   "output_path": "nbs/00_play_with_pygithub.run.ipynb",
   "parameters": {
    "PROJ_NOTEBOOK_FILEPATH": "nbs/00_play_with_pygithub.ipynb"
   },
   "start_time": "2024-03-15T00:15:15.113087",
   "version": "2.5.0"
  }
 },
 "nbformat": 4,
 "nbformat_minor": 5
}
