{
 "cells": [
  {
   "cell_type": "markdown",
   "id": "070a050a-44d1-42c2-b274-c8c180a2a0ba",
   "metadata": {
    "editable": true,
    "papermill": {
     "duration": 0.002602,
     "end_time": "2024-03-15T00:15:15.975569",
     "exception": false,
     "start_time": "2024-03-15T00:15:15.972967",
     "status": "completed"
    },
    "slideshow": {
     "slide_type": ""
    },
    "tags": []
   },
   "source": [
    "# Description"
   ]
  },
  {
   "cell_type": "markdown",
   "id": "e4878829-80c0-42e0-b2f2-cd1e8c59a675",
   "metadata": {
    "editable": true,
    "papermill": {
     "duration": 0.001866,
     "end_time": "2024-03-15T00:15:15.987917",
     "exception": false,
     "start_time": "2024-03-15T00:15:15.986051",
     "status": "completed"
    },
    "slideshow": {
     "slide_type": ""
    },
    "tags": []
   },
   "source": [
    "This notebook tests the PyGithub package to read a GitHub repository containing a Manubot-based manuscript."
   ]
  },
  {
   "cell_type": "markdown",
   "id": "b237f234-dc98-43e9-8ff5-8922c410c377",
   "metadata": {
    "editable": true,
    "papermill": {
     "duration": 0.00186,
     "end_time": "2024-03-15T00:15:15.991817",
     "exception": false,
     "start_time": "2024-03-15T00:15:15.989957",
     "status": "completed"
    },
    "slideshow": {
     "slide_type": ""
    },
    "tags": []
   },
   "source": [
    "# Modules"
   ]
  },
  {
   "cell_type": "code",
   "execution_count": 1,
   "id": "70413318-1f5e-4d58-b1a2-cb4f01c13e86",
   "metadata": {
    "editable": true,
    "papermill": {
     "duration": 0.113882,
     "end_time": "2024-03-15T00:15:16.107842",
     "exception": false,
     "start_time": "2024-03-15T00:15:15.993960",
     "status": "completed"
    },
    "slideshow": {
     "slide_type": ""
    },
    "tags": []
   },
   "outputs": [],
   "source": [
    "from github import Auth, Github\n",
    "from IPython.display import display\n",
    "from proj import conf"
   ]
  },
  {
   "cell_type": "markdown",
   "id": "3f78fd18-86b7-40b9-b80e-a8b18d001682",
   "metadata": {
    "editable": true,
    "papermill": {
     "duration": 0.010426,
     "end_time": "2024-03-15T00:15:16.119934",
     "exception": false,
     "start_time": "2024-03-15T00:15:16.109508",
     "status": "completed"
    },
    "slideshow": {
     "slide_type": ""
    },
    "tags": []
   },
   "source": [
    "# Settings/paths"
   ]
  },
  {
   "cell_type": "code",
   "execution_count": 2,
   "id": "10a3ceca-1480-45b0-b04d-cb402ff95abf",
   "metadata": {
    "editable": true,
    "papermill": {
     "duration": 0.000955,
     "end_time": "2024-03-15T00:15:16.122000",
     "exception": false,
     "start_time": "2024-03-15T00:15:16.121045",
     "status": "completed"
    },
    "slideshow": {
     "slide_type": ""
    },
    "tags": [
     "parameters"
    ]
   },
   "outputs": [],
   "source": [
    "REPO = \"pivlab/manubot-ai-editor-code-test-mutator-epistasis-manuscript\"\n",
    "# PR 2: gpt-3.5-turbo\n",
    "# PR 3: gpt-4-0125-preview\n",
    "PR = 3"
   ]
  },
  {
   "cell_type": "markdown",
   "id": "c42b83b5-84b7-45ff-88ee-3651aa5c9c55",
   "metadata": {
    "editable": true,
    "papermill": {
     "duration": 0.000952,
     "end_time": "2024-03-15T00:15:16.124013",
     "exception": false,
     "start_time": "2024-03-15T00:15:16.123061",
     "status": "completed"
    },
    "slideshow": {
     "slide_type": ""
    },
    "tags": []
   },
   "source": [
    "# Get Repo"
   ]
  },
  {
   "cell_type": "code",
   "execution_count": 3,
   "id": "f1d1f476-f5b5-4d1c-9c3a-822e9bef4b27",
   "metadata": {
    "editable": true,
    "papermill": {
     "duration": 0.004874,
     "end_time": "2024-03-15T00:15:16.129892",
     "exception": false,
     "start_time": "2024-03-15T00:15:16.125018",
     "status": "completed"
    },
    "slideshow": {
     "slide_type": ""
    },
    "tags": []
   },
   "outputs": [],
   "source": [
    "auth = Auth.Token(conf.github.API_TOKEN)"
   ]
  },
  {
   "cell_type": "code",
   "execution_count": 4,
   "id": "4e3db6e2-f267-4d60-8ff3-703698a09f88",
   "metadata": {
    "editable": true,
    "papermill": {
     "duration": 0.006454,
     "end_time": "2024-03-15T00:15:16.137412",
     "exception": false,
     "start_time": "2024-03-15T00:15:16.130958",
     "status": "completed"
    },
    "slideshow": {
     "slide_type": ""
    },
    "tags": []
   },
   "outputs": [],
   "source": [
    "g = Github(auth=auth)"
   ]
  },
  {
   "cell_type": "code",
   "execution_count": 5,
   "id": "cc6a365d-59f5-4537-9fd7-869ee4156046",
   "metadata": {
    "editable": true,
    "papermill": {
     "duration": 0.001072,
     "end_time": "2024-03-15T00:15:16.140268",
     "exception": false,
     "start_time": "2024-03-15T00:15:16.139196",
     "status": "completed"
    },
    "slideshow": {
     "slide_type": ""
    },
    "tags": []
   },
   "outputs": [],
   "source": [
    "repo = g.get_repo(REPO)"
   ]
  },
  {
   "cell_type": "markdown",
   "id": "f2d9fb5d-6838-484b-9202-ceac74fcb336",
   "metadata": {
    "editable": true,
    "slideshow": {
     "slide_type": ""
    },
    "tags": []
   },
   "source": [
    "# Get Pull Request"
   ]
  },
  {
   "cell_type": "code",
   "execution_count": 6,
   "id": "297c9dec-9e00-490d-8723-44208b3fe8f4",
   "metadata": {
    "editable": true,
    "slideshow": {
     "slide_type": ""
    },
    "tags": []
   },
   "outputs": [],
   "source": [
    "pr = repo.get_pull(PR)"
   ]
  },
  {
   "cell_type": "code",
   "execution_count": 7,
   "id": "064b1017-a495-48b3-bea3-1b9a67ad1b6f",
   "metadata": {
    "editable": true,
    "slideshow": {
     "slide_type": ""
    },
    "tags": []
   },
   "outputs": [
    {
     "data": {
      "text/plain": [
       "[File(sha=\"5e9d3cccc415ea4275cda3896a06c942bb46cb9e\", filename=\"content/01.abstract.md\"),\n",
       " File(sha=\"dd47994278c9db83acb8446c7a27ba02d9d8ac98\", filename=\"content/02.introduction.md\"),\n",
       " File(sha=\"8ad1922ad244491463719dec68a8bb7636acbcba\", filename=\"content/03.results.md\"),\n",
       " File(sha=\"13e0461ce5fb268620cc4187f570e876b99b9a8b\", filename=\"content/04.discussion.md\"),\n",
       " File(sha=\"bd81f3473f5d9720a4c33eeebec55a8f31dc1732\", filename=\"content/05.methods.md\")]"
      ]
     },
     "execution_count": 7,
     "metadata": {},
     "output_type": "execute_result"
    }
   ],
   "source": [
    "list(pr.get_files())"
   ]
  },
  {
   "cell_type": "code",
   "execution_count": 8,
   "id": "7bc9b271-7ed2-4994-9d36-c8afa946b017",
   "metadata": {
    "editable": true,
    "slideshow": {
     "slide_type": ""
    },
    "tags": []
   },
   "outputs": [],
   "source": [
    "pr_commits = list(pr.get_commits())"
   ]
  },
  {
   "cell_type": "code",
   "execution_count": 9,
   "id": "446a1453-5729-4687-9b93-8165dd0e2793",
   "metadata": {
    "editable": true,
    "slideshow": {
     "slide_type": ""
    },
    "tags": []
   },
   "outputs": [
    {
     "data": {
      "text/plain": [
       "[Commit(sha=\"5c98a032259b13a812dc490a7a13edfa78768ba9\")]"
      ]
     },
     "execution_count": 9,
     "metadata": {},
     "output_type": "execute_result"
    }
   ],
   "source": [
    "pr_commits[0].parents"
   ]
  },
  {
   "cell_type": "code",
   "execution_count": 10,
   "id": "9c2382a1-adcc-47dc-8c75-d34f8500f93e",
   "metadata": {
    "editable": true,
    "slideshow": {
     "slide_type": ""
    },
    "tags": []
   },
   "outputs": [
    {
     "name": "stdout",
     "output_type": "stream",
     "text": [
      "5c98a032259b13a812dc490a7a13edfa78768ba9\n"
     ]
    }
   ],
   "source": [
    "pr_prev = pr_commits[0].parents[0].sha\n",
    "print(pr_prev)"
   ]
  },
  {
   "cell_type": "code",
   "execution_count": 11,
   "id": "96c9b088-a166-49d6-a0df-64d2cf690b7e",
   "metadata": {
    "editable": true,
    "slideshow": {
     "slide_type": ""
    },
    "tags": []
   },
   "outputs": [
    {
     "name": "stdout",
     "output_type": "stream",
     "text": [
      "e72330a56ef55de0c390fb1e8a68310663d6c834\n"
     ]
    }
   ],
   "source": [
    "pr_curr = pr_commits[0].sha\n",
    "print(pr_curr)"
   ]
  },
  {
   "cell_type": "markdown",
   "id": "10872c1e-0184-46c6-a04f-dce43438d404",
   "metadata": {
    "editable": true,
    "slideshow": {
     "slide_type": ""
    },
    "tags": []
   },
   "source": [
    "# Get file list"
   ]
  },
  {
   "cell_type": "code",
   "execution_count": 12,
   "id": "242729cf-1778-4162-b813-249ae6c8b632",
   "metadata": {
    "editable": true,
    "slideshow": {
     "slide_type": ""
    },
    "tags": []
   },
   "outputs": [
    {
     "data": {
      "text/plain": [
       "[File(sha=\"5e9d3cccc415ea4275cda3896a06c942bb46cb9e\", filename=\"content/01.abstract.md\"),\n",
       " File(sha=\"dd47994278c9db83acb8446c7a27ba02d9d8ac98\", filename=\"content/02.introduction.md\"),\n",
       " File(sha=\"8ad1922ad244491463719dec68a8bb7636acbcba\", filename=\"content/03.results.md\"),\n",
       " File(sha=\"13e0461ce5fb268620cc4187f570e876b99b9a8b\", filename=\"content/04.discussion.md\"),\n",
       " File(sha=\"bd81f3473f5d9720a4c33eeebec55a8f31dc1732\", filename=\"content/05.methods.md\")]"
      ]
     },
     "metadata": {},
     "output_type": "display_data"
    }
   ],
   "source": [
    "pr_files = [f for f in pr.get_files() if f.filename.endswith(\".md\")]\n",
    "display(pr_files)"
   ]
  },
  {
   "cell_type": "markdown",
   "id": "bce10792-ba0d-4716-9dcd-b44c2eb668d4",
   "metadata": {
    "editable": true,
    "slideshow": {
     "slide_type": ""
    },
    "tags": []
   },
   "source": [
    "# Get file content"
   ]
  },
  {
   "cell_type": "code",
   "execution_count": 13,
   "id": "1558f08b-19a8-4951-8dea-228d7f59099d",
   "metadata": {
    "editable": true,
    "slideshow": {
     "slide_type": ""
    },
    "tags": []
   },
   "outputs": [
    {
     "data": {
      "text/plain": [
       "'content/02.introduction.md'"
      ]
     },
     "metadata": {},
     "output_type": "display_data"
    }
   ],
   "source": [
    "pr_filename = pr_files[1].filename\n",
    "display(pr_filename)"
   ]
  },
  {
   "cell_type": "code",
   "execution_count": 14,
   "id": "6e34ec8c-9420-4988-8005-2ced76e5e0f0",
   "metadata": {
    "editable": true,
    "slideshow": {
     "slide_type": ""
    },
    "tags": []
   },
   "outputs": [
    {
     "name": "stdout",
     "output_type": "stream",
     "text": [
      "## Introduction\n",
      "\n",
      "Germline mutation rates reflect the complex interplay between DNA proofreading and repair pathways, exogenous sources of DNA damage, and life-history traits. \n",
      "For example, parental age is an important determinant of mutation rate variability; in many mammalian species, the number of germline *de novo* mutations observed in offspring increases as a function of paternal and maternal age [@PMID:28959963;@PMID:31549960;@PMID:35771663;@PMID:32804933;@PMID:31492841].\n",
      "Rates of germline mutation accumulation are also variable across human families [@PMID:26656846;@PMID:31549960], likely due to either genetic variation or differences in environmental exposures.\n",
      "Although numerous protein-coding genes contribute to the maintenance of genome integrity, genetic variants that increase germline mutation rates, known as *mutator alleles*, have proven difficult to discover in mammals.\n",
      "\n",
      "The dearth of observed germline mutators in mammalian genomes is not necessarily surprising, since alleles that lead to elevated germline mutation rates would likely have deleterious consequences and be purged by negative selection if their effect sizes are large [@PMID:27739533].\n",
      "Moreover, germline mutation rates are relatively low, and direct mutation rate measurements require whole-genome sequencing data from both parents and their offspring.\n",
      "As a result, large-scale association studies &mdash; which have been used to map the contributions of common genetic variants to many complex traits &mdash; are not currently well-powered to investigate the polygenic architecture of germline mutation rates [@PMID:31964835].  \n",
      "\n",
      "Despite these challenges, less traditional strategies have been used to identify a small number of mutator alleles in humans, macaques [@doi:10.1101/2023.03.27.534460], and mice. \n",
      "By focusing on families with rare genetic diseases, a recent study discovered two mutator alleles that led to significantly elevated rates of *de novo* germline mutation in human genomes [@PMID:35545669]. \n",
      "Other groups have observed mutator phenotypes in the germlines and somatic tissues of adults who carry cancer-predisposing inherited mutations in the POLE/POLD1 exonucleases [@PMID:34594041;@PMID:37336879].\n",
      "Candidate mutator loci were also found by identifying human haplotypes from the Thousand Genomes Project with excess counts of derived alleles in genomic windows [@PMID:28095480].\n",
      "\n",
      "In mice, a germline mutator allele was recently discovered by sequencing a large family of inbred mice [@PMID:35545679].\n",
      "Commonly known as the <u>B</u>X<u>D</u>s, these recombinant inbred lines (RILs) were derived from either F2 or advanced intercrosses of C57<u>B</u>L/6J and <u>D</u>BA/2J, two laboratory strains that exhibit significant differences in their germline mutation spectra [@PMID:33472028;@PMID:30753674]. \n",
      "The BXDs were maintained via brother-sister mating for up to 180 generations, and each BXD therefore accumulated hundreds or thousands of germline mutations on a nearly-homozygous linear mosaic of parental <u>B</u> and <u>D</u> haplotypes. \n",
      "Due to their husbandry in a controlled laboratory setting, the BXDs were largely free from confounding by environmental heterogeneity, and the effects of selection on *de novo* mutations were attenuated by strict inbreeding [@doi:10.1146/annurev.ecolsys.39.110707.173437]. \n",
      "\n",
      "In this previous study, whole-genome sequencing data from the BXD family were used to map a quantitative trait locus (QTL) for the C>A mutation rate [@PMID:35545679].\n",
      "Germline C>A mutation rates were nearly 50% higher in mice with *D* haplotypes at the QTL, likely due to genetic variation in the DNA glycosylase *Mutyh* that reduced the efficacy of oxidative DNA damage repair.\n",
      "Pathogenic variants of *Mutyh* also appear to act as mutators in normal human germline and somatic tissues [@PMID:35803914;@PMID:30753674].\n",
      "Importantly, the QTL did not reach genome-wide significance in a scan for variation in overall germline mutation rates, which were only modestly higher in BXDs with *D* alleles, demonstrating the utility of mutation spectrum analysis for mutator allele discovery.\n",
      "Close examination of the mutation spectrum is likely to be broadly useful for detecting mutator alleles, as genes involved in DNA proofreading and repair often recognize particular sequence motifs or excise specific types of DNA lesions [@PMID:32619789].\n",
      "Mutation spectra are usually defined in terms of $k$-mer nucleotide context; the 1-mer mutation spectrum, for example, consists of 6 mutation types after collapsing by strand complement (C>T, C>A, C>G, A>T, A>C, A>G), while the 3-mer mutation spectrum contains 96 (each of the 1-mer mutations partitioned by trinucleotide context).\n",
      "\n",
      "Although mutation spectrum analysis can enable the discovery of mutator alleles that affect the rates of specific mutation types, early implementations of this strategy have suffered from a few drawbacks. \n",
      "For example, performing association tests on the rates or fractions of every $k$-mer mutation type can quickly incur a substantial multiple testing burden.\n",
      "Since germline mutation rates are generally quite low, estimates of $k$-mer mutation type frequencies from individual samples can also be noisy and imprecise.\n",
      "Moreover, inbreeding duration can vary considerably across samples in populations of RILs; for example, some BXDs were inbred for only 20 generations, while others were inbred for nearly 200.\n",
      "As a result, the variance of individual $k$-mer mutation rate estimates in those populations will be much higher than if all samples were inbred for the same duration.\n",
      "We were therefore motivated to develop a statistical method that could overcome the sparsity of *de novo* mutation spectra, eliminate the need to test each $k$-mer mutation type separately, and enable sensitive detection of alleles that influence the germline mutation spectrum.\n",
      "\n",
      "Here, we present a new mutation spectrum association test, called \"aggregate mutation spectrum distance,\" that minimizes multiple testing burdens and mitigates the challenges of sparsity in *de novo* mutation datasets. \n",
      "We leverage this method to re-analyze germline mutation data from the BXD family and find compelling evidence for a second mutator allele that was not detected using previous approaches. \n",
      "The new allele appears to interact epistatically with the mutator that was previously discovered in the BXDs, further augmenting the C>A germline mutation rate in a subset of inbred mice. \n",
      "Our observation of epistasis suggests that mild DNA repair deficiencies can compound one another, as mutator alleles chip away at the redundant systems that collectively maintain germline integrity. \n",
      "\n"
     ]
    }
   ],
   "source": [
    "print(repo.get_contents(pr_filename, pr_prev).decoded_content.decode(\"utf-8\"))"
   ]
  },
  {
   "cell_type": "code",
   "execution_count": 15,
   "id": "db1bf394-3824-4cd3-a80f-9037f9a8c5b0",
   "metadata": {
    "editable": true,
    "slideshow": {
     "slide_type": ""
    },
    "tags": []
   },
   "outputs": [
    {
     "name": "stdout",
     "output_type": "stream",
     "text": [
      "## Introduction\n",
      "\n",
      "The rate at which mutations accumulate in the germline, the cells responsible for passing genetic material to offspring, is influenced by a complex mix of factors.\n",
      "These include the mechanisms that correct DNA errors, repair damaged DNA, external factors that can harm DNA, and various life-history characteristics.\n",
      "One significant factor affecting mutation rate variability is the age of the parents.\n",
      "Studies have shown that the number of new mutations found in the offspring tends to increase with both the father's and mother's age across many mammal species (references).\n",
      "Additionally, the rate at which mutations accumulate can differ significantly between human families (references), which may be attributed to genetic differences or varying environmental factors that individuals are exposed to.\n",
      "While a large number of genes are known to play a role in protecting the integrity of our genetic information, identifying specific genetic variations, known as mutator alleles, that lead to higher rates of mutations in the germline has been challenging in mammals.\n",
      "\n",
      "The scarcity of identified germline mutators, which are genetic variants that increase mutation rates in the reproductive cells of mammals, isn't entirely unexpected.\n",
      "This is because variants that significantly raise the mutation rates in germline cells could have harmful effects and thus be eliminated by natural selection processes if their impacts are substantial.\n",
      "Additionally, germline mutation rates are typically low, and accurately measuring these rates requires analyzing the complete genetic information from both parents and their offspring through whole-genome sequencing.\n",
      "Consequently, large-scale studies that have been instrumental in identifying how common genetic variants influence various complex traits are not yet effective for exploring the complex genetic basis of germline mutation rates.\n",
      "This limitation is due to the challenges in gathering and analyzing the necessary genetic data from families (Greenwood and Kelso, 2017; Besenbacher et al., 2020).\n",
      "\n",
      "Despite facing numerous challenges, researchers have employed innovative strategies to identify a select number of mutator alleles, which are genetic variants that increase the mutation rate, in humans, macaques, and mice.\n",
      "For instance, by studying families affected by rare genetic disorders, a recent investigation uncovered two mutator alleles responsible for significantly higher rates of new (de novo) germline mutations in human genomes.\n",
      "Additionally, several studies have reported the presence of mutator phenotypes—conditions where the mutation rate is increased—in both the reproductive cells and body cells of adults who have inherited mutations linked to cancer, specifically in the POLE/POLD1 exonucleases, enzymes involved in DNA replication and repair.\n",
      "Furthermore, researchers have pinpointed potential mutator loci, or specific locations on a chromosome that affect the mutation rate, by analyzing human genetic variations from the Thousand Genomes Project and identifying those with an unusually high number of mutations within certain sections of the genome.\n",
      "\n",
      "In recent research, scientists discovered a specific genetic variant in mice, known as a germline mutator allele, by studying a large group of closely related mice through genetic sequencing.\n",
      "This discovery was made within a special group of laboratory mice called BXDs.\n",
      "These BXDs are a product of breeding between two different strains of mice, namely C57BL/6J and DBA/2J, which are known to have distinct genetic mutation patterns in their germline, or reproductive cells.\n",
      "This breeding process involved either second-generation offspring (F2) or more complex breeding schemes, leading to the creation of these unique recombinant inbred lines (RILs).\n",
      "\n",
      "The BXD mice have been bred within their own family lines, through brother-sister mating, for as many as 180 generations.\n",
      "This extensive inbreeding has resulted in each BXD line accumulating a large number of germline mutations.\n",
      "These mutations are spread across a genetic background that is almost entirely made up of a mix of the original C57BL/6J and DBA/2J parental genetic material.\n",
      "This unique genetic makeup makes the BXDs an invaluable resource for studying the effects of genetic mutations.\n",
      "\n",
      "One of the key advantages of using BXDs for genetic research is their upbringing in a highly controlled laboratory environment.\n",
      "This setting minimizes the impact of external environmental factors on the mice, allowing scientists to focus on the genetic aspects of their studies.\n",
      "Moreover, the strict inbreeding practice helps to reduce the influence of natural selection on new, or de novo, mutations.\n",
      "This controlled breeding and environment make the BXDs an ideal model for investigating how genetic variations, such as the germline mutator allele, contribute to differences in the rate of genetic mutations across different mouse lines.\n",
      "\n",
      "In a previous study, researchers analyzed the whole-genome sequencing data from the BXD mouse family to identify a specific genetic region (quantitative trait locus or QTL) associated with the rate of C>A mutations (a type of genetic mutation) (PMID:35545679).\n",
      "They discovered that mice with a particular genetic variation (*D* haplotypes) at this QTL had C>A mutation rates nearly 50% higher than others.\n",
      "This increase in mutation rate was likely due to variations in the *Mutyh* gene, which plays a crucial role in repairing oxidative DNA damage.\n",
      "Similar variations in the *Mutyh* gene have also been found to increase mutation rates in both the germline (cells leading to eggs and sperm) and somatic (body) cells in humans (PMID:35803914; PMID:30753674).\n",
      "\n",
      "Interestingly, this genetic region did not show a significant association with overall germline mutation rates in the BXD mice, which were only slightly higher in mice with the *D* alleles.\n",
      "This highlights the importance of analyzing the mutation spectrum – the types and contexts of mutations – to uncover genes that may increase mutation rates.\n",
      "Analyzing the mutation spectrum can be particularly useful because genes involved in DNA repair often target specific sequences or types of damage (PMID:32619789).\n",
      "\n",
      "Mutation spectra can vary in complexity, from simple 1-mer spectra, which include 6 types of mutations, to more detailed 3-mer spectra, which can differentiate 96 types of mutations based on the surrounding nucleotide sequence.\n",
      "This level of detail helps researchers understand the specific contexts in which mutations are more likely to occur.\n",
      "\n",
      "The study of mutation spectrum analysis holds the potential to uncover mutator alleles, which are genetic variations that influence the frequency of specific types of mutations.\n",
      "However, early efforts to leverage this approach encountered several challenges.\n",
      "One significant issue is that analyzing the rates or proportions of mutations for each possible sequence change (referred to as $k$-mer mutation types) can lead to a high burden of statistical testing due to the sheer number of comparisons being made.\n",
      "This is problematic because the rate at which mutations occur in the germline is typically low, making the data derived from individual samples both noisy and imprecise.\n",
      "Additionally, the extent of inbreeding, which can vary widely in populations of recombinant inbred lines (RILs), affects the variability of mutation rate estimates.\n",
      "For instance, within the BXD mouse strains, the number of inbreeding generations ranges from as few as 20 to nearly 200.\n",
      "This variation in inbreeding duration means that the estimated mutation rates for individual sequence changes can vary significantly, complicating the analysis further.\n",
      "\n",
      "To address these issues, our research aimed to devise a statistical method capable of navigating the sparse nature of de novo mutation spectra.\n",
      "Our goal was to create a tool that would not only eliminate the necessity of testing each mutation type individually but also enhance the ability to detect alleles that have a significant impact on the germline mutation spectrum.\n",
      "This effort is crucial for advancing our understanding of genetic variability and its underlying mechanisms in laboratory mice, contributing to the broader field of genetic research.\n",
      "\n",
      "In this study, we introduce a novel approach for analyzing genetic mutations, named the \"aggregate mutation spectrum distance.\" This method effectively reduces the complexity of handling multiple tests and addresses the issue of limited data, which often complicates the analysis of new genetic mutations.\n",
      "Utilizing this technique, we revisited genetic data from the BXD mouse lineage and uncovered strong evidence for an additional mutator gene that had been missed by earlier studies.\n",
      "This newly identified gene seems to work in tandem with a previously discovered mutator gene in the BXD mice, significantly increasing the rate of C>A mutations in the germline of certain inbred mice.\n",
      "Our findings indicate that even slight weaknesses in DNA repair mechanisms can have a cumulative effect, as these mutator genes gradually undermine the various defense mechanisms that protect the integrity of germline DNA.\n",
      "\n"
     ]
    }
   ],
   "source": [
    "print(repo.get_contents(pr_filename, pr_curr).decoded_content.decode(\"utf-8\"))"
   ]
  },
  {
   "cell_type": "markdown",
   "id": "9a45b8eb-9a57-4d0a-b311-b7ce8f6b4ceb",
   "metadata": {
    "editable": true,
    "slideshow": {
     "slide_type": ""
    },
    "tags": []
   },
   "source": [
    "# Close connections"
   ]
  },
  {
   "cell_type": "code",
   "execution_count": 16,
   "id": "91fcd4bb-131b-42b2-b64f-127441bd608b",
   "metadata": {
    "editable": true,
    "slideshow": {
     "slide_type": ""
    },
    "tags": []
   },
   "outputs": [],
   "source": [
    "g.close()"
   ]
  },
  {
   "cell_type": "code",
   "execution_count": null,
   "id": "6b7e80bd-f678-4047-b0f6-3c4e55de4767",
   "metadata": {
    "editable": true,
    "slideshow": {
     "slide_type": ""
    },
    "tags": []
   },
   "outputs": [],
   "source": []
  }
 ],
 "metadata": {
  "jupytext": {
   "cell_metadata_filter": "all,-execution,-papermill,-trusted",
   "notebook_metadata_filter": "-jupytext.text_representation.jupytext_version"
  },
  "kernelspec": {
   "display_name": "Python 3 (ipykernel)",
   "language": "python",
   "name": "python3"
  },
  "language_info": {
   "codemirror_mode": {
    "name": "ipython",
    "version": 3
   },
   "file_extension": ".py",
   "mimetype": "text/x-python",
   "name": "python",
   "nbconvert_exporter": "python",
   "pygments_lexer": "ipython3",
   "version": "3.11.8"
  },
  "papermill": {
   "default_parameters": {},
   "duration": 1.243225,
   "end_time": "2024-03-15T00:15:16.356312",
   "environment_variables": {},
   "exception": null,
   "input_path": "nbs/00_play_with_pygithub.ipynb",
   "output_path": "nbs/00_play_with_pygithub.run.ipynb",
   "parameters": {
    "PROJ_NOTEBOOK_FILEPATH": "nbs/00_play_with_pygithub.ipynb"
   },
   "start_time": "2024-03-15T00:15:15.113087",
   "version": "2.5.0"
  }
 },
 "nbformat": 4,
 "nbformat_minor": 5
}
