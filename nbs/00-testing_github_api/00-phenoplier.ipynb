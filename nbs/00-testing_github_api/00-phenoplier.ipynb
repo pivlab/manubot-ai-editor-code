{
 "cells": [
  {
   "cell_type": "markdown",
   "id": "070a050a-44d1-42c2-b274-c8c180a2a0ba",
   "metadata": {
    "editable": true,
    "papermill": {
     "duration": 0.002602,
     "end_time": "2024-03-15T00:15:15.975569",
     "exception": false,
     "start_time": "2024-03-15T00:15:15.972967",
     "status": "completed"
    },
    "slideshow": {
     "slide_type": ""
    },
    "tags": []
   },
   "source": [
    "# Description"
   ]
  },
  {
   "cell_type": "markdown",
   "id": "82ad50fb-b69b-4eb7-995e-d3e9da978b76",
   "metadata": {
    "editable": true,
    "papermill": {
     "duration": 0.001866,
     "end_time": "2024-03-15T00:15:15.987917",
     "exception": false,
     "start_time": "2024-03-15T00:15:15.986051",
     "status": "completed"
    },
    "slideshow": {
     "slide_type": ""
    },
    "tags": []
   },
   "source": [
    "This notebook tests the PyGithub package to read a GitHub repository containing a Manubot-based manuscript."
   ]
  },
  {
   "cell_type": "markdown",
   "id": "b237f234-dc98-43e9-8ff5-8922c410c377",
   "metadata": {
    "editable": true,
    "papermill": {
     "duration": 0.00186,
     "end_time": "2024-03-15T00:15:15.991817",
     "exception": false,
     "start_time": "2024-03-15T00:15:15.989957",
     "status": "completed"
    },
    "slideshow": {
     "slide_type": ""
    },
    "tags": []
   },
   "source": [
    "# Modules"
   ]
  },
  {
   "cell_type": "code",
   "execution_count": 1,
   "id": "70413318-1f5e-4d58-b1a2-cb4f01c13e86",
   "metadata": {
    "editable": true,
    "papermill": {
     "duration": 0.113882,
     "end_time": "2024-03-15T00:15:16.107842",
     "exception": false,
     "start_time": "2024-03-15T00:15:15.993960",
     "status": "completed"
    },
    "slideshow": {
     "slide_type": ""
    },
    "tags": []
   },
   "outputs": [],
   "source": [
    "from github import Auth, Github\n",
    "from IPython.display import display\n",
    "from proj import conf"
   ]
  },
  {
   "cell_type": "markdown",
   "id": "3f78fd18-86b7-40b9-b80e-a8b18d001682",
   "metadata": {
    "editable": true,
    "papermill": {
     "duration": 0.010426,
     "end_time": "2024-03-15T00:15:16.119934",
     "exception": false,
     "start_time": "2024-03-15T00:15:16.109508",
     "status": "completed"
    },
    "slideshow": {
     "slide_type": ""
    },
    "tags": []
   },
   "source": [
    "# Settings/paths"
   ]
  },
  {
   "cell_type": "code",
   "execution_count": 2,
   "id": "10a3ceca-1480-45b0-b04d-cb402ff95abf",
   "metadata": {
    "editable": true,
    "papermill": {
     "duration": 0.000955,
     "end_time": "2024-03-15T00:15:16.122000",
     "exception": false,
     "start_time": "2024-03-15T00:15:16.121045",
     "status": "completed"
    },
    "slideshow": {
     "slide_type": ""
    },
    "tags": [
     "parameters"
    ]
   },
   "outputs": [],
   "source": [
    "REPO = \"pivlab/manubot-ai-editor-code-test-phenoplier-manuscript\"\n",
    "# PR 2: gpt-3.5-turbo\n",
    "# PR 3: gpt-4-0125-preview\n",
    "PR = 3"
   ]
  },
  {
   "cell_type": "markdown",
   "id": "c42b83b5-84b7-45ff-88ee-3651aa5c9c55",
   "metadata": {
    "editable": true,
    "papermill": {
     "duration": 0.000952,
     "end_time": "2024-03-15T00:15:16.124013",
     "exception": false,
     "start_time": "2024-03-15T00:15:16.123061",
     "status": "completed"
    },
    "slideshow": {
     "slide_type": ""
    },
    "tags": []
   },
   "source": [
    "# Get Repo"
   ]
  },
  {
   "cell_type": "code",
   "execution_count": 3,
   "id": "f1d1f476-f5b5-4d1c-9c3a-822e9bef4b27",
   "metadata": {
    "editable": true,
    "papermill": {
     "duration": 0.004874,
     "end_time": "2024-03-15T00:15:16.129892",
     "exception": false,
     "start_time": "2024-03-15T00:15:16.125018",
     "status": "completed"
    },
    "slideshow": {
     "slide_type": ""
    },
    "tags": []
   },
   "outputs": [],
   "source": [
    "auth = Auth.Token(conf.github.API_TOKEN)"
   ]
  },
  {
   "cell_type": "code",
   "execution_count": 4,
   "id": "4e3db6e2-f267-4d60-8ff3-703698a09f88",
   "metadata": {
    "editable": true,
    "papermill": {
     "duration": 0.006454,
     "end_time": "2024-03-15T00:15:16.137412",
     "exception": false,
     "start_time": "2024-03-15T00:15:16.130958",
     "status": "completed"
    },
    "slideshow": {
     "slide_type": ""
    },
    "tags": []
   },
   "outputs": [],
   "source": [
    "g = Github(auth=auth)"
   ]
  },
  {
   "cell_type": "code",
   "execution_count": 5,
   "id": "cc6a365d-59f5-4537-9fd7-869ee4156046",
   "metadata": {
    "editable": true,
    "papermill": {
     "duration": 0.001072,
     "end_time": "2024-03-15T00:15:16.140268",
     "exception": false,
     "start_time": "2024-03-15T00:15:16.139196",
     "status": "completed"
    },
    "slideshow": {
     "slide_type": ""
    },
    "tags": []
   },
   "outputs": [],
   "source": [
    "repo = g.get_repo(REPO)"
   ]
  },
  {
   "cell_type": "markdown",
   "id": "f2d9fb5d-6838-484b-9202-ceac74fcb336",
   "metadata": {
    "editable": true,
    "slideshow": {
     "slide_type": ""
    },
    "tags": []
   },
   "source": [
    "# Get Pull Request"
   ]
  },
  {
   "cell_type": "code",
   "execution_count": 6,
   "id": "297c9dec-9e00-490d-8723-44208b3fe8f4",
   "metadata": {
    "editable": true,
    "slideshow": {
     "slide_type": ""
    },
    "tags": []
   },
   "outputs": [],
   "source": [
    "pr = repo.get_pull(PR)"
   ]
  },
  {
   "cell_type": "code",
   "execution_count": 7,
   "id": "064b1017-a495-48b3-bea3-1b9a67ad1b6f",
   "metadata": {
    "editable": true,
    "slideshow": {
     "slide_type": ""
    },
    "tags": []
   },
   "outputs": [
    {
     "data": {
      "text/plain": [
       "[File(sha=\"e77cc7a085cf8d2f05e5c8d5dd94fe149961e335\", filename=\"content/01.abstract.md\"),\n",
       " File(sha=\"f67a7e41a5081e7feadff4f53f3bcfc70db8e143\", filename=\"content/02.introduction.md\"),\n",
       " File(sha=\"c34e130a675bee917274480f27389cb0f3aa1c3c\", filename=\"content/04.05.00.results_framework.md\"),\n",
       " File(sha=\"9ad7ef6f5a4cc2288c86a8807f52b9630baff667\", filename=\"content/05.discussion.md\"),\n",
       " File(sha=\"bb7fbd5889a3ce1866a95f3bce2d92778779787b\", filename=\"content/07.00.methods.md\"),\n",
       " File(sha=\"726098813744ee5919c17a2db2b669dc2db1df73\", filename=\"content/50.00.supplementary_material.md\")]"
      ]
     },
     "execution_count": 7,
     "metadata": {},
     "output_type": "execute_result"
    }
   ],
   "source": [
    "list(pr.get_files())"
   ]
  },
  {
   "cell_type": "code",
   "execution_count": 8,
   "id": "7bc9b271-7ed2-4994-9d36-c8afa946b017",
   "metadata": {
    "editable": true,
    "slideshow": {
     "slide_type": ""
    },
    "tags": []
   },
   "outputs": [],
   "source": [
    "pr_commits = list(pr.get_commits())"
   ]
  },
  {
   "cell_type": "code",
   "execution_count": 9,
   "id": "446a1453-5729-4687-9b93-8165dd0e2793",
   "metadata": {
    "editable": true,
    "slideshow": {
     "slide_type": ""
    },
    "tags": []
   },
   "outputs": [
    {
     "data": {
      "text/plain": [
       "[Commit(sha=\"523b22bc18a901c5583a5d321d3ce35a30a3b8de\")]"
      ]
     },
     "execution_count": 9,
     "metadata": {},
     "output_type": "execute_result"
    }
   ],
   "source": [
    "pr_commits[0].parents"
   ]
  },
  {
   "cell_type": "code",
   "execution_count": 10,
   "id": "9c2382a1-adcc-47dc-8c75-d34f8500f93e",
   "metadata": {
    "editable": true,
    "slideshow": {
     "slide_type": ""
    },
    "tags": []
   },
   "outputs": [
    {
     "name": "stdout",
     "output_type": "stream",
     "text": [
      "523b22bc18a901c5583a5d321d3ce35a30a3b8de\n"
     ]
    }
   ],
   "source": [
    "pr_prev = pr_commits[0].parents[0].sha\n",
    "print(pr_prev)"
   ]
  },
  {
   "cell_type": "code",
   "execution_count": 11,
   "id": "96c9b088-a166-49d6-a0df-64d2cf690b7e",
   "metadata": {
    "editable": true,
    "slideshow": {
     "slide_type": ""
    },
    "tags": []
   },
   "outputs": [
    {
     "name": "stdout",
     "output_type": "stream",
     "text": [
      "9a735ab6bb05c3ce05a2a7ed6dd268489c9b9c29\n"
     ]
    }
   ],
   "source": [
    "pr_curr = pr_commits[0].sha\n",
    "print(pr_curr)"
   ]
  },
  {
   "cell_type": "markdown",
   "id": "10872c1e-0184-46c6-a04f-dce43438d404",
   "metadata": {
    "editable": true,
    "slideshow": {
     "slide_type": ""
    },
    "tags": []
   },
   "source": [
    "# Get file list"
   ]
  },
  {
   "cell_type": "code",
   "execution_count": 12,
   "id": "242729cf-1778-4162-b813-249ae6c8b632",
   "metadata": {
    "editable": true,
    "slideshow": {
     "slide_type": ""
    },
    "tags": []
   },
   "outputs": [
    {
     "data": {
      "text/plain": [
       "[File(sha=\"e77cc7a085cf8d2f05e5c8d5dd94fe149961e335\", filename=\"content/01.abstract.md\"),\n",
       " File(sha=\"f67a7e41a5081e7feadff4f53f3bcfc70db8e143\", filename=\"content/02.introduction.md\"),\n",
       " File(sha=\"c34e130a675bee917274480f27389cb0f3aa1c3c\", filename=\"content/04.05.00.results_framework.md\"),\n",
       " File(sha=\"9ad7ef6f5a4cc2288c86a8807f52b9630baff667\", filename=\"content/05.discussion.md\"),\n",
       " File(sha=\"bb7fbd5889a3ce1866a95f3bce2d92778779787b\", filename=\"content/07.00.methods.md\"),\n",
       " File(sha=\"726098813744ee5919c17a2db2b669dc2db1df73\", filename=\"content/50.00.supplementary_material.md\")]"
      ]
     },
     "metadata": {},
     "output_type": "display_data"
    }
   ],
   "source": [
    "pr_files = [f for f in pr.get_files() if f.filename.endswith(\".md\")]\n",
    "display(pr_files)"
   ]
  },
  {
   "cell_type": "markdown",
   "id": "bce10792-ba0d-4716-9dcd-b44c2eb668d4",
   "metadata": {
    "editable": true,
    "slideshow": {
     "slide_type": ""
    },
    "tags": []
   },
   "source": [
    "# Get file content"
   ]
  },
  {
   "cell_type": "code",
   "execution_count": 13,
   "id": "1558f08b-19a8-4951-8dea-228d7f59099d",
   "metadata": {
    "editable": true,
    "slideshow": {
     "slide_type": ""
    },
    "tags": []
   },
   "outputs": [
    {
     "data": {
      "text/plain": [
       "'content/04.05.00.results_framework.md'"
      ]
     },
     "metadata": {},
     "output_type": "display_data"
    }
   ],
   "source": [
    "pr_filename = pr_files[2].filename\n",
    "display(pr_filename)"
   ]
  },
  {
   "cell_type": "code",
   "execution_count": 14,
   "id": "6e34ec8c-9420-4988-8005-2ced76e5e0f0",
   "metadata": {
    "editable": true,
    "slideshow": {
     "slide_type": ""
    },
    "tags": []
   },
   "outputs": [
    {
     "name": "stdout",
     "output_type": "stream",
     "text": [
      "### PhenoPLIER: an integration framework based on gene co-expression patterns\n",
      "\n",
      "![\n",
      "**Schematic of the PhenoPLIER framework.**\n",
      "**a)** High-level schematic of PhenoPLIER (a gene module-based method) in the context of TWAS (single-gene) and GWAS (single-variant).\n",
      "In GWAS, we identify variants associated with traits.\n",
      "In TWAS, first, we identify variants that are associated with gene expression levels (eQTLs); then, prediction models based on eQTLs are used to impute gene expression, which is used to compute gene-trait associations.\n",
      "Resources such as LINCS L1000 provide information about how a drug perturbs gene expression; at the bottom-right corner, we show how a drug downregulates two genes (A and C).\n",
      "In PhenoPLIER, these data types are integrated using groups of genes co-expressed across one or more conditions (such as cell types) that we call gene modules or latent variables/LVs. Created with BioRender.com.\n",
      "**b)** The integration process in PhenoPLIER uses low-dimensional representations (matrices $\\mathbf{Z}$ and $\\mathbf{B}$) learned from large gene expression datasets (top).\n",
      "We used gene-drug information $\\mathbf{L}$ from LINCS L1000 and gene-trait associations $\\mathbf{M}$ from TWAS: PhenomeXcan was used as the discovery cohort, and eMERGE as replication (middle).\n",
      "PhenoPLIER provides three computational components (bottom):\n",
      "1) an LV-based regression model that associates an LV $j$ ($\\mathbf{Z}_j$) with a trait $i$ ($\\mathbf{M}_i$),\n",
      "2) a clustering framework that learns groups of traits from TWAS associations projected into the LV space ($\\hat{\\mathbf{M}}$),\n",
      "and 3) an LV-based drug repurposing approach that uses the projection of TWAS ($\\hat{\\mathbf{M}}$) and LINCS L1000 ($\\hat{\\mathbf{L}}$) into the LV space.\n",
      "**c)** Genes that are part of LV603, termed as a neutrophil signature [@doi:10.1016/j.cels.2019.04.003], were expressed in relevant cell types (top), with 53 independent samples expressed in Neutrophils, 59 in Granulocytes, and 20 in Whole blood, 56 in PBMC, 8 in mDCs, 29 in Monocytes, and 5 in Epithelial cells (the boxplot shows the 25th, 50th and 75th percentiles while the whiskers extend to the minimum/maximum values).\n",
      "LV603 was associated in PhenoPLIER with neutrophil counts and other white blood cells (bottom, showing the top 10 traits for LV603 after projecting gene-trait associations in PhenomeXcan).\n",
      "eQTLs: expression quantitative trait loci;\n",
      "MVN: multivariate normal distribution;\n",
      "PBMC: peripheral blood mononuclear cells;\n",
      "mDCs: myeloid dendritic cells.\n",
      "](images/entire_process/entire_process.svg \"PhenoPLIER framework\"){#fig:entire_process width=\"100%\"}\n",
      "\n",
      "\n",
      "PhenoPLIER is a flexible computational framework that combines gene-trait and gene-drug associations with gene modules expressed in specific contexts (Figure {@fig:entire_process}a).\n",
      "The approach uses a latent representation (with latent variables or LVs representing gene modules) derived from a large gene expression compendium (Figure {@fig:entire_process}b, top) to integrate TWAS with drug-induced transcriptional responses (Figure {@fig:entire_process}b, middle) for a joint analysis.\n",
      "The approach consists in three main components (Figure {@fig:entire_process}b, bottom, see [Methods](#sec:methods)):\n",
      "1) an LV-based regression model to compute an association between an LV and a trait,\n",
      "2) a clustering framework to learn groups of traits with shared transcriptomic properties,\n",
      "and 3) an LV-based drug repurposing approach that links diseases to potential treatments.\n",
      "We performed extensive simulations for our regression model ([Supplementary Note 1](#sm:reg:null_sim)) and clustering framework ([Supplementary Note 2](#sm:clustering:null_sim)) to ensure proper calibration and expected results under a model of no association.\n",
      "\n",
      "\n",
      "We used TWAS results from PhenomeXcan [@doi:10.1126/sciadv.aba2083] and the eMERGE network [@doi:10.1101/2021.10.21.21265225] as discovery and replication cohorts, respectively ([Methods](#sec:methods:twas)).\n",
      "PhenomeXcan provides gene-trait associations for 4,091 different diseases and traits from the UK Biobank [@doi:10.1038/s41586-018-0579-z] and other studies, whereas the analyses on eMERGE were performed across 309 phecodes.\n",
      "TWAS results were derived using two statistical methods (see [Methods](#sec:methods:predixcan)):\n",
      "1) Summary-MultiXcan (S-MultiXcan) associations were used for the regression and clustering components,\n",
      "and 2) Summary-PrediXcan (S-PrediXcan) associations were used for the drug repurposing component.\n",
      "In addition, we also used colocalization results, which provide a probability of overlap between the GWAS and eQTL signals.\n",
      "For the drug-repurposing approach, we used transcriptional responses to small molecule perturbations from LINCS L1000 [@doi:10.1016/j.cell.2017.10.049] comprising 1,170 compounds.\n",
      "\n",
      "\n",
      "The latent gene expression representation was obtained from the MultiPLIER models [@doi:10.1016/j.cels.2019.04.003], which were derived by applying a matrix factorization method (the pathway-level information extractor or PLIER [@doi:10.1038/s41592-019-0456-1]) to recount2 [@doi:10.1038/nbt.3838] -- a uniformly-curated collection of transcript-level gene expression quantified by RNA-seq in a large, diverse set of samples collected across a range of disease states, cell types differentiation stages, and various stimuli (see [Methods](#sec:methods:multiplier)).\n",
      "The MultiPLIER models extracted 987 LVs by optimizing data reconstruction but also the alignment of LVs with prior knowledge/pathways.\n",
      "\n",
      "\n",
      "Each LV or gene module represents a group of weighted genes expressed together in the same tissues and cell types as a functional unit.\n",
      "Since LVs might represent a functional set of genes regulated by the same transcriptional program [@doi:10.1186/1471-2164-7-187; @doi:10.1186/s13059-019-1835-8], we conjecture that the projection of TWAS and pharmacologic perturbations data into this latent space could provide a better mechanistic understanding.\n",
      "For this projection of different data modalities into the same space, PhenoPLIER converts gene associations to an LV score: all genes' standardized effect sizes for a trait (from TWAS) or differential expression values for a drug (from pharmacologic perturbation data) are multiplied by the LV genes' weights and summed, producing a single value.\n",
      "Instead of looking at individual genes, this process links different traits and drugs to functionally-related groups of genes or LVs.\n",
      "PhenoPLIER uses LVs annotations about the specific conditions where the group of genes is expressed, such as cell types and tissues, even at specific developmental stages, disease stages or under distinct stimuli.\n",
      "Although this is not strictly necessary for PhenoPLIER to work, these annotations can dramatically improve the interpretability of results.\n",
      "MultiPLIER's models provide this information by linking LVs to samples, which may be annotated for experimental conditions (represented by matrix $\\mathbf{B}$ at the top of Figure {@fig:entire_process}b) in which genes in an LV are expressed.\n",
      "An example of this is shown in Figure {@fig:entire_process}c.\n",
      "In the original MultiPLIER study, the authors reported that one of the latent variables, identified as LV603, was associated with a known neutrophil pathway and highly correlated with neutrophil count estimates from whole blood RNA-seq profiles [@doi:10.1186/s13059-016-1070-5].\n",
      "We analyzed LV603 using PhenoPLIER and found that\n",
      "1) neutrophil counts and other white blood cell traits were ranked among the top 10 traits out of 4,091 (Figure {@fig:entire_process}c, bottom), and basophils count and percentage were significantly associated with this LV when using our regression method (Table @tbl:sup:phenomexcan_assocs:lv603),\n",
      "and 2) LV603's genes were expressed in highly relevant cell types (Figure {@fig:entire_process}c, top).\n",
      "These initial results suggested that groups of functionally related and co-expressed genes tend to correspond to groups of trait-associated genes, and the approach can link transcriptional mechanisms from large and diverse dataset collections to complex traits.\n",
      "\n",
      "\n",
      "Therefore, PhenoPLIER allows the user to address specific questions, namely:\n",
      "do disease-associated genes belong to modules expressed in specific tissues and cell types?\n",
      "Are these cell type-specific modules associated with _different_ diseases, thus potentially representing a \"network pleiotropy\" example from an omnigenic point of view [@doi:10.1016/j.cell.2017.05.038]?\n",
      "Is there a subset of module's genes that is closer to the definition of \"core\" genes (i.e., directly affecting the trait with no mediated regulation of other genes [@doi:10.1016/j.cell.2019.04.014]) and thus represents alternative and potentially better candidate targets?\n",
      "Are drugs perturbing these transcriptional mechanisms, and can they suggest potential mechanisms of action?\n",
      "\n"
     ]
    }
   ],
   "source": [
    "print(repo.get_contents(pr_filename, pr_prev).decoded_content.decode(\"utf-8\"))"
   ]
  },
  {
   "cell_type": "code",
   "execution_count": 15,
   "id": "db1bf394-3824-4cd3-a80f-9037f9a8c5b0",
   "metadata": {
    "editable": true,
    "slideshow": {
     "slide_type": ""
    },
    "tags": []
   },
   "outputs": [
    {
     "name": "stdout",
     "output_type": "stream",
     "text": [
      "### PhenoPLIER: an integration framework based on gene co-expression patterns\n",
      "\n",
      "![\n",
      "**Schematic of the PhenoPLIER framework.**\n",
      "**a)** High-level schematic of PhenoPLIER (a gene module-based method) in the context of TWAS (single-gene) and GWAS (single-variant).\n",
      "In GWAS, we identify variants associated with traits.\n",
      "In TWAS, first, we identify variants that are associated with gene expression levels (eQTLs); then, prediction models based on eQTLs are used to impute gene expression, which is used to compute gene-trait associations.\n",
      "Resources such as LINCS L1000 provide information about how a drug perturbs gene expression; at the bottom-right corner, we show how a drug downregulates two genes (A and C).\n",
      "In PhenoPLIER, these data types are integrated using groups of genes co-expressed across one or more conditions (such as cell types) that we call gene modules or latent variables/LVs. Created with BioRender.com.\n",
      "**b)** The integration process in PhenoPLIER uses low-dimensional representations (matrices $\\mathbf{Z}$ and $\\mathbf{B}$) learned from large gene expression datasets (top).\n",
      "We used gene-drug information $\\mathbf{L}$ from LINCS L1000 and gene-trait associations $\\mathbf{M}$ from TWAS: PhenomeXcan was used as the discovery cohort, and eMERGE as replication (middle).\n",
      "PhenoPLIER provides three computational components (bottom):\n",
      "1) an LV-based regression model that associates an LV $j$ ($\\mathbf{Z}_j$) with a trait $i$ ($\\mathbf{M}_i$),\n",
      "2) a clustering framework that learns groups of traits from TWAS associations projected into the LV space ($\\hat{\\mathbf{M}}$),\n",
      "and 3) an LV-based drug repurposing approach that uses the projection of TWAS ($\\hat{\\mathbf{M}}$) and LINCS L1000 ($\\hat{\\mathbf{L}}$) into the LV space.\n",
      "**c)** Genes that are part of LV603, termed as a neutrophil signature [@doi:10.1016/j.cels.2019.04.003], were expressed in relevant cell types (top), with 53 independent samples expressed in Neutrophils, 59 in Granulocytes, and 20 in Whole blood, 56 in PBMC, 8 in mDCs, 29 in Monocytes, and 5 in Epithelial cells (the boxplot shows the 25th, 50th and 75th percentiles while the whiskers extend to the minimum/maximum values).\n",
      "LV603 was associated in PhenoPLIER with neutrophil counts and other white blood cells (bottom, showing the top 10 traits for LV603 after projecting gene-trait associations in PhenomeXcan).\n",
      "eQTLs: expression quantitative trait loci;\n",
      "MVN: multivariate normal distribution;\n",
      "PBMC: peripheral blood mononuclear cells;\n",
      "mDCs: myeloid dendritic cells.\n",
      "](images/entire_process/entire_process.svg \"PhenoPLIER framework\"){#fig:entire_process width=\"100%\"}\n",
      "\n",
      "\n",
      "PhenoPLIER is a flexible computational tool designed to explore the connections between genes, traits, and drug effects by focusing on gene expression patterns in specific contexts (see Figure {@fig:entire_process}a).\n",
      "It employs a method that captures the essence of gene modules through latent variables (LVs), using a comprehensive gene expression dataset (Figure {@fig:entire_process}b, top).\n",
      "This method enables the simultaneous examination of genetic associations with traits and the impact of drugs on gene expression (Figure {@fig:entire_process}b, middle).\n",
      "PhenoPLIER consists of three key components (outlined in Figure {@fig:entire_process}b, bottom and detailed in the [Methods](#sec:methods) section): 1) a model that uses LVs to identify associations between gene modules and traits, 2) a clustering method to group traits based on similar gene expression changes, and 3) a strategy for identifying potential drug treatments based on LVs that link diseases with therapeutic options.\n",
      "To ensure accuracy and reliability, we conducted thorough simulations of our regression model ([Supplementary Note 1](#sm:reg:null_sim)) and clustering method ([Supplementary Note 2](#sm:clustering:null_sim)), confirming their effectiveness in situations without pre-existing associations.\n",
      "\n",
      "\n",
      "In our study, we analyzed gene-trait associations by utilizing data from PhenomeXcan and the eMERGE network as our primary and secondary datasets, respectively.\n",
      "PhenomeXcan integrates genetic information from the UK Biobank and other studies to provide associations for over 4,091 diseases and traits.\n",
      "On the other hand, our analysis with the eMERGE network covered 309 distinct disease codes.\n",
      "We employed two different statistical approaches from the Transcriptome-Wide Association Studies (TWAS) to analyze the data: Summary-MultiXcan (S-MultiXcan) and Summary-PrediXcan (S-PrediXcan).\n",
      "S-MultiXcan was used to identify and group related diseases and traits, while S-PrediXcan helped us in pinpointing potential drugs for repurposing based on gene expression changes.\n",
      "Additionally, we incorporated colocalization analyses to assess the likelihood of shared genetic signals between GWAS (genome-wide association studies) and eQTL (expression quantitative trait loci) studies.\n",
      "For the drug repurposing aspect of our research, we analyzed the effects of 1,170 small molecule drugs on gene expression using data from the LINCS L1000 project.\n",
      "\n",
      "\n",
      "The latent gene expression profiles were derived using MultiPLIER models, which employ a matrix factorization technique known as PLIER to analyze a comprehensive dataset called recount2.\n",
      "This dataset encompasses a wide variety of samples, detailing gene expression across different diseases, cell types, stages of differentiation, and responses to various stimuli (refer to the Methods section).\n",
      "The MultiPLIER approach successfully extracted 987 Latent Variables (LVs), focusing not only on optimizing data reconstruction but also on ensuring these LVs correspond with established pathways and prior knowledge.\n",
      "\n",
      "\n",
      "Each Latent Variable (LV) or gene module is a collection of genes that are expressed together in specific tissues and cell types, acting as a functional group.\n",
      "LVs are thought to represent sets of genes controlled by the same transcriptional mechanisms, suggesting that integrating gene association studies and drug effect data into this framework could enhance our understanding of disease mechanisms and drug actions.\n",
      "PhenoPLIER, the tool we used, transforms gene associations into an LV score by combining the effect sizes for traits (from gene association studies) or changes in gene expression due to drugs (from drug studies) with the weights of genes in an LV, resulting in a single comprehensive value.\n",
      "This method shifts the focus from individual genes to clusters of genes (LVs) that are linked to specific traits and drugs, thereby associating them with functionally related gene groups.\n",
      "\n",
      "PhenoPLIER also leverages information on where and when these gene groups are expressed, such as in certain cell types or tissues, during specific developmental or disease stages, or in response to particular stimuli.\n",
      "This information, provided by MultiPLIER's models, significantly enhances the interpretability of the results.\n",
      "For example, the models connect LVs to annotated samples, indicating the experimental conditions of gene expression within an LV (illustrated in Figure 2b).\n",
      "A case in point is LV603, which was previously identified to be associated with a neutrophil pathway and correlated with neutrophil counts from RNA-seq profiles.\n",
      "Our analysis with PhenoPLIER revealed that traits related to neutrophil and other white blood cell counts were among the top-ranked associations for LV603 (shown in Figure 2c, bottom), and that LV603 was significantly linked to basophil counts and percentages (Table 1).\n",
      "Additionally, the genes in LV603 were found to be expressed in relevant cell types (Figure 2c, top).\n",
      "\n",
      "These findings underscore that gene groups, which are functionally related and co-expressed, often align with clusters of traits, suggesting that our approach can effectively connect transcriptional mechanisms from extensive datasets to complex traits.\n",
      "\n",
      "\n",
      "<!--\n",
      "ERROR: the paragraph below could not be revised with the AI model due to the following error:\n",
      "\n",
      "Request failed due to server shutdown {\n",
      "  \"error\": {\n",
      "    \"message\": \"Request failed due to server shutdown\",\n",
      "    \"type\": \"server_error\",\n",
      "    \"param\": null,\n",
      "    \"code\": null\n",
      "  }\n",
      "}\n",
      " 500 {'error': {'message': 'Request failed due to server shutdown', 'type': 'server_error', 'param': None, 'code': None}} {'Date': 'Tue, 19 Mar 2024 17:01:20 GMT', 'Content-Type': 'application/json', 'Content-Length': '141', 'Connection': 'keep-alive', 'access-control-allow-origin': '*', 'openai-model': 'gpt-4-0125-preview', 'openai-organization': 'university-of-pennsylvania-201', 'openai-processing-ms': '16293', 'openai-version': '2020-10-01', 'strict-transport-security': 'max-age=15724800; includeSubDomains', 'x-ratelimit-limit-requests': '500', 'x-ratelimit-limit-tokens': '450000', 'x-ratelimit-remaining-requests': '499', 'x-ratelimit-remaining-tokens': '449275', 'x-ratelimit-reset-requests': '120ms', 'x-ratelimit-reset-tokens': '96ms', 'x-request-id': 'req_bd9017d047c9142d48dea1a1cbe62c16', 'CF-Cache-Status': 'DYNAMIC', 'Server': 'cloudflare', 'CF-RAY': '866f05b77ec33ae4-IAD', 'alt-svc': 'h3=\":443\"; ma=86400'}\n",
      "-->\n",
      "Therefore, PhenoPLIER allows the user to address specific questions, namely: do disease-associated genes belong to modules expressed in specific tissues and cell types? Are these cell type-specific modules associated with _different_ diseases, thus potentially representing a \"network pleiotropy\" example from an omnigenic point of view [@doi:10.1016/j.cell.2017.05.038]? Is there a subset of module's genes that is closer to the definition of \"core\" genes (i.e., directly affecting the trait with no mediated regulation of other genes [@doi:10.1016/j.cell.2019.04.014]) and thus represents alternative and potentially better candidate targets? Are drugs perturbing these transcriptional mechanisms, and can they suggest potential mechanisms of action?\n",
      "\n",
      "\n"
     ]
    }
   ],
   "source": [
    "print(repo.get_contents(pr_filename, pr_curr).decoded_content.decode(\"utf-8\"))"
   ]
  },
  {
   "cell_type": "markdown",
   "id": "9a45b8eb-9a57-4d0a-b311-b7ce8f6b4ceb",
   "metadata": {
    "editable": true,
    "slideshow": {
     "slide_type": ""
    },
    "tags": []
   },
   "source": [
    "# Close connections"
   ]
  },
  {
   "cell_type": "code",
   "execution_count": 16,
   "id": "91fcd4bb-131b-42b2-b64f-127441bd608b",
   "metadata": {
    "editable": true,
    "slideshow": {
     "slide_type": ""
    },
    "tags": []
   },
   "outputs": [],
   "source": [
    "g.close()"
   ]
  },
  {
   "cell_type": "code",
   "execution_count": null,
   "id": "6b7e80bd-f678-4047-b0f6-3c4e55de4767",
   "metadata": {
    "editable": true,
    "slideshow": {
     "slide_type": ""
    },
    "tags": []
   },
   "outputs": [],
   "source": []
  }
 ],
 "metadata": {
  "jupytext": {
   "cell_metadata_filter": "all,-execution,-papermill,-trusted",
   "notebook_metadata_filter": "-jupytext.text_representation.jupytext_version"
  },
  "kernelspec": {
   "display_name": "Python 3 (ipykernel)",
   "language": "python",
   "name": "python3"
  },
  "language_info": {
   "codemirror_mode": {
    "name": "ipython",
    "version": 3
   },
   "file_extension": ".py",
   "mimetype": "text/x-python",
   "name": "python",
   "nbconvert_exporter": "python",
   "pygments_lexer": "ipython3",
   "version": "3.11.8"
  },
  "papermill": {
   "default_parameters": {},
   "duration": 1.243225,
   "end_time": "2024-03-15T00:15:16.356312",
   "environment_variables": {},
   "exception": null,
   "input_path": "nbs/00_play_with_pygithub.ipynb",
   "output_path": "nbs/00_play_with_pygithub.run.ipynb",
   "parameters": {
    "PROJ_NOTEBOOK_FILEPATH": "nbs/00_play_with_pygithub.ipynb"
   },
   "start_time": "2024-03-15T00:15:15.113087",
   "version": "2.5.0"
  }
 },
 "nbformat": 4,
 "nbformat_minor": 5
}
