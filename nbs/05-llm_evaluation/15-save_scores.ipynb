{
 "cells": [
  {
   "cell_type": "markdown",
   "id": "070a050a-44d1-42c2-b274-c8c180a2a0ba",
   "metadata": {
    "editable": true,
    "papermill": {
     "duration": 0.005068,
     "end_time": "2024-03-25T16:41:46.895635",
     "exception": false,
     "start_time": "2024-03-25T16:41:46.890567",
     "status": "completed"
    },
    "slideshow": {
     "slide_type": ""
    },
    "tags": []
   },
   "source": [
    "# Description"
   ]
  },
  {
   "cell_type": "markdown",
   "id": "e4fcbb4d-aa04-4e1a-9aee-0053c559e157",
   "metadata": {
    "editable": true,
    "papermill": {
     "duration": 0.004382,
     "end_time": "2024-03-25T16:41:46.904611",
     "exception": false,
     "start_time": "2024-03-25T16:41:46.900229",
     "status": "completed"
    },
    "slideshow": {
     "slide_type": ""
    },
    "tags": []
   },
   "source": [
    "Save paragraph scores."
   ]
  },
  {
   "cell_type": "markdown",
   "id": "b237f234-dc98-43e9-8ff5-8922c410c377",
   "metadata": {
    "editable": true,
    "papermill": {
     "duration": 0.004397,
     "end_time": "2024-03-25T16:41:46.913510",
     "exception": false,
     "start_time": "2024-03-25T16:41:46.909113",
     "status": "completed"
    },
    "slideshow": {
     "slide_type": ""
    },
    "tags": []
   },
   "source": [
    "# Modules"
   ]
  },
  {
   "cell_type": "code",
   "execution_count": 1,
   "id": "70413318-1f5e-4d58-b1a2-cb4f01c13e86",
   "metadata": {
    "editable": true,
    "execution": {
     "iopub.execute_input": "2024-03-25T16:41:46.924582Z",
     "iopub.status.busy": "2024-03-25T16:41:46.924117Z",
     "iopub.status.idle": "2024-03-25T16:41:47.229740Z",
     "shell.execute_reply": "2024-03-25T16:41:47.229117Z"
    },
    "papermill": {
     "duration": 0.313151,
     "end_time": "2024-03-25T16:41:47.231108",
     "exception": false,
     "start_time": "2024-03-25T16:41:46.917957",
     "status": "completed"
    },
    "slideshow": {
     "slide_type": ""
    },
    "tags": []
   },
   "outputs": [],
   "source": [
    "from pathlib import Path\n",
    "\n",
    "import pandas as pd\n",
    "from IPython.display import display\n",
    "from openpyxl.cell.cell import ILLEGAL_CHARACTERS_RE\n",
    "from proj import conf"
   ]
  },
  {
   "cell_type": "markdown",
   "id": "3f78fd18-86b7-40b9-b80e-a8b18d001682",
   "metadata": {
    "editable": true,
    "papermill": {
     "duration": 0.03635,
     "end_time": "2024-03-25T16:41:47.272120",
     "exception": false,
     "start_time": "2024-03-25T16:41:47.235770",
     "status": "completed"
    },
    "slideshow": {
     "slide_type": ""
    },
    "tags": []
   },
   "source": [
    "# Settings/paths"
   ]
  },
  {
   "cell_type": "code",
   "execution_count": 2,
   "id": "cd18a89a-f0da-4add-bd09-ff2e420cc985",
   "metadata": {
    "editable": true,
    "execution": {
     "iopub.execute_input": "2024-03-25T16:41:47.281887Z",
     "iopub.status.busy": "2024-03-25T16:41:47.281718Z",
     "iopub.status.idle": "2024-03-25T16:41:47.283781Z",
     "shell.execute_reply": "2024-03-25T16:41:47.283471Z"
    },
    "papermill": {
     "duration": 0.008249,
     "end_time": "2024-03-25T16:41:47.284934",
     "exception": false,
     "start_time": "2024-03-25T16:41:47.276685",
     "status": "completed"
    },
    "slideshow": {
     "slide_type": ""
    },
    "tags": [
     "parameters"
    ]
   },
   "outputs": [],
   "source": [
    "OUTPUT_FILE = None"
   ]
  },
  {
   "cell_type": "code",
   "execution_count": 3,
   "id": "b7e51671",
   "metadata": {
    "execution": {
     "iopub.execute_input": "2024-03-25T16:41:47.294444Z",
     "iopub.status.busy": "2024-03-25T16:41:47.294322Z",
     "iopub.status.idle": "2024-03-25T16:41:47.296214Z",
     "shell.execute_reply": "2024-03-25T16:41:47.295917Z"
    },
    "papermill": {
     "duration": 0.007846,
     "end_time": "2024-03-25T16:41:47.297273",
     "exception": false,
     "start_time": "2024-03-25T16:41:47.289427",
     "status": "completed"
    },
    "tags": [
     "injected-parameters"
    ]
   },
   "outputs": [],
   "source": [
    "# Parameters\n",
    "OUTPUT_FILE = \"/home/miltondp/projects/others/manubot/manubot-gpt-manuscript/content/supplementary_files/Supplementary_File_05-Automatic_assessment.xlsx\"\n"
   ]
  },
  {
   "cell_type": "code",
   "execution_count": 4,
   "id": "2245c8bd-63ca-489c-aad5-91a4b57d5e37",
   "metadata": {
    "editable": true,
    "execution": {
     "iopub.execute_input": "2024-03-25T16:41:47.306799Z",
     "iopub.status.busy": "2024-03-25T16:41:47.306691Z",
     "iopub.status.idle": "2024-03-25T16:41:47.310589Z",
     "shell.execute_reply": "2024-03-25T16:41:47.310217Z"
    },
    "papermill": {
     "duration": 0.009916,
     "end_time": "2024-03-25T16:41:47.311700",
     "exception": false,
     "start_time": "2024-03-25T16:41:47.301784",
     "status": "completed"
    },
    "slideshow": {
     "slide_type": ""
    },
    "tags": []
   },
   "outputs": [
    {
     "data": {
      "text/plain": [
       "PosixPath('/home/miltondp/projects/others/manubot/manubot-ai-editor-code/base/results/llm_pairwise')"
      ]
     },
     "metadata": {},
     "output_type": "display_data"
    }
   ],
   "source": [
    "INPUT_DIR = conf.common.LLM_PAIRWISE_DIR\n",
    "assert INPUT_DIR.exists()\n",
    "display(INPUT_DIR)"
   ]
  },
  {
   "cell_type": "code",
   "execution_count": 5,
   "id": "0c9ed3fe-00f1-4ca3-b1f5-f3d37aa19f85",
   "metadata": {
    "editable": true,
    "execution": {
     "iopub.execute_input": "2024-03-25T16:41:47.321984Z",
     "iopub.status.busy": "2024-03-25T16:41:47.321631Z",
     "iopub.status.idle": "2024-03-25T16:41:47.325058Z",
     "shell.execute_reply": "2024-03-25T16:41:47.324643Z"
    },
    "papermill": {
     "duration": 0.009763,
     "end_time": "2024-03-25T16:41:47.326161",
     "exception": false,
     "start_time": "2024-03-25T16:41:47.316398",
     "status": "completed"
    },
    "slideshow": {
     "slide_type": ""
    },
    "tags": []
   },
   "outputs": [],
   "source": [
    "assert (\n",
    "    OUTPUT_FILE is not None and OUTPUT_FILE.strip() != \"\"\n",
    "), \"Output file not specified\"\n",
    "OUTPUT_FILE = Path(OUTPUT_FILE).resolve()\n",
    "\n",
    "assert OUTPUT_FILE.suffix == \".xlsx\", \"Output file should have the .xslx extension\"\n",
    "\n",
    "OUTPUT_FILE.parent.mkdir(parents=True, exist_ok=True)"
   ]
  },
  {
   "cell_type": "markdown",
   "id": "c42b83b5-84b7-45ff-88ee-3651aa5c9c55",
   "metadata": {
    "editable": true,
    "papermill": {
     "duration": 0.004585,
     "end_time": "2024-03-25T16:41:47.335380",
     "exception": false,
     "start_time": "2024-03-25T16:41:47.330795",
     "status": "completed"
    },
    "slideshow": {
     "slide_type": ""
    },
    "tags": []
   },
   "source": [
    "# Load LLM pairwise files"
   ]
  },
  {
   "cell_type": "code",
   "execution_count": 6,
   "id": "f1d1f476-f5b5-4d1c-9c3a-822e9bef4b27",
   "metadata": {
    "editable": true,
    "execution": {
     "iopub.execute_input": "2024-03-25T16:41:47.344831Z",
     "iopub.status.busy": "2024-03-25T16:41:47.344482Z",
     "iopub.status.idle": "2024-03-25T16:41:47.349046Z",
     "shell.execute_reply": "2024-03-25T16:41:47.348635Z"
    },
    "papermill": {
     "duration": 0.009758,
     "end_time": "2024-03-25T16:41:47.349766",
     "exception": false,
     "start_time": "2024-03-25T16:41:47.340008",
     "status": "completed"
    },
    "slideshow": {
     "slide_type": ""
    },
    "tags": []
   },
   "outputs": [
    {
     "data": {
      "text/plain": [
       "16"
      ]
     },
     "metadata": {},
     "output_type": "display_data"
    },
    {
     "data": {
      "text/plain": [
       "[PosixPath('/home/miltondp/projects/others/manubot/manubot-ai-editor-code/base/results/llm_pairwise/epistasis-manuscript--gpt-3.5-turbo--openai_gpt-3.5-turbo.pkl'),\n",
       " PosixPath('/home/miltondp/projects/others/manubot/manubot-ai-editor-code/base/results/llm_pairwise/phenoplier-manuscript--gpt-3.5-turbo--openai_gpt-3.5-turbo.pkl')]"
      ]
     },
     "metadata": {},
     "output_type": "display_data"
    }
   ],
   "source": [
    "result_files = list(INPUT_DIR.glob(\"*.pkl\"))\n",
    "display(len(result_files))\n",
    "display(result_files[:2])"
   ]
  },
  {
   "cell_type": "code",
   "execution_count": 7,
   "id": "e3c447d9-06c9-416a-9d44-2a5b44d9b094",
   "metadata": {
    "execution": {
     "iopub.execute_input": "2024-03-25T16:41:47.355766Z",
     "iopub.status.busy": "2024-03-25T16:41:47.355371Z",
     "iopub.status.idle": "2024-03-25T16:41:47.367086Z",
     "shell.execute_reply": "2024-03-25T16:41:47.366579Z"
    },
    "papermill": {
     "duration": 0.015551,
     "end_time": "2024-03-25T16:41:47.367838",
     "exception": false,
     "start_time": "2024-03-25T16:41:47.352287",
     "status": "completed"
    },
    "tags": []
   },
   "outputs": [
    {
     "data": {
      "text/html": [
       "<div>\n",
       "<style scoped>\n",
       "    .dataframe tbody tr th:only-of-type {\n",
       "        vertical-align: middle;\n",
       "    }\n",
       "\n",
       "    .dataframe tbody tr th {\n",
       "        vertical-align: top;\n",
       "    }\n",
       "\n",
       "    .dataframe thead th {\n",
       "        text-align: right;\n",
       "    }\n",
       "</style>\n",
       "<table border=\"1\" class=\"dataframe\">\n",
       "  <thead>\n",
       "    <tr style=\"text-align: right;\">\n",
       "      <th></th>\n",
       "      <th>rep_index</th>\n",
       "      <th>paragraph_index</th>\n",
       "      <th>paragraph_section</th>\n",
       "      <th>winner</th>\n",
       "      <th>rationale</th>\n",
       "      <th>winner_score</th>\n",
       "    </tr>\n",
       "  </thead>\n",
       "  <tbody>\n",
       "    <tr>\n",
       "      <th>0</th>\n",
       "      <td>0</td>\n",
       "      <td>0</td>\n",
       "      <td>abstract</td>\n",
       "      <td>Paragraph 1</td>\n",
       "      <td>Paragraph 1 slightly edges out Paragraph A in ...</td>\n",
       "      <td>1.0</td>\n",
       "    </tr>\n",
       "    <tr>\n",
       "      <th>1</th>\n",
       "      <td>0</td>\n",
       "      <td>1</td>\n",
       "      <td>introduction</td>\n",
       "      <td>tie</td>\n",
       "      <td>Both paragraphs exhibit clear sentence structu...</td>\n",
       "      <td>0.0</td>\n",
       "    </tr>\n",
       "    <tr>\n",
       "      <th>2</th>\n",
       "      <td>0</td>\n",
       "      <td>2</td>\n",
       "      <td>introduction</td>\n",
       "      <td>Paragraph 1</td>\n",
       "      <td>Paragraph 1 is slightly better due to the abse...</td>\n",
       "      <td>1.0</td>\n",
       "    </tr>\n",
       "    <tr>\n",
       "      <th>3</th>\n",
       "      <td>0</td>\n",
       "      <td>3</td>\n",
       "      <td>introduction</td>\n",
       "      <td>Paragraph 1</td>\n",
       "      <td>Both paragraphs exhibit clear sentence structu...</td>\n",
       "      <td>1.0</td>\n",
       "    </tr>\n",
       "    <tr>\n",
       "      <th>4</th>\n",
       "      <td>0</td>\n",
       "      <td>4</td>\n",
       "      <td>introduction</td>\n",
       "      <td>Paragraph 1</td>\n",
       "      <td>Both paragraphs exhibit clear sentence structu...</td>\n",
       "      <td>1.0</td>\n",
       "    </tr>\n",
       "    <tr>\n",
       "      <th>...</th>\n",
       "      <td>...</td>\n",
       "      <td>...</td>\n",
       "      <td>...</td>\n",
       "      <td>...</td>\n",
       "      <td>...</td>\n",
       "      <td>...</td>\n",
       "    </tr>\n",
       "    <tr>\n",
       "      <th>310</th>\n",
       "      <td>4</td>\n",
       "      <td>58</td>\n",
       "      <td>methods</td>\n",
       "      <td>tie</td>\n",
       "      <td>Both paragraphs exhibit clear sentence structu...</td>\n",
       "      <td>0.0</td>\n",
       "    </tr>\n",
       "    <tr>\n",
       "      <th>311</th>\n",
       "      <td>4</td>\n",
       "      <td>59</td>\n",
       "      <td>methods</td>\n",
       "      <td>Paragraph A</td>\n",
       "      <td>Paragraph A excels in having a clear sentence ...</td>\n",
       "      <td>-1.0</td>\n",
       "    </tr>\n",
       "    <tr>\n",
       "      <th>312</th>\n",
       "      <td>4</td>\n",
       "      <td>60</td>\n",
       "      <td>methods</td>\n",
       "      <td>Paragraph 1</td>\n",
       "      <td>Paragraph 1 is slightly better due to maintain...</td>\n",
       "      <td>1.0</td>\n",
       "    </tr>\n",
       "    <tr>\n",
       "      <th>313</th>\n",
       "      <td>4</td>\n",
       "      <td>61</td>\n",
       "      <td>methods</td>\n",
       "      <td>tie</td>\n",
       "      <td>Both paragraphs exhibit clear sentence structu...</td>\n",
       "      <td>0.0</td>\n",
       "    </tr>\n",
       "    <tr>\n",
       "      <th>314</th>\n",
       "      <td>4</td>\n",
       "      <td>62</td>\n",
       "      <td>methods</td>\n",
       "      <td>tie</td>\n",
       "      <td>Both paragraphs exhibit clear sentence structu...</td>\n",
       "      <td>0.0</td>\n",
       "    </tr>\n",
       "  </tbody>\n",
       "</table>\n",
       "<p>315 rows × 6 columns</p>\n",
       "</div>"
      ],
      "text/plain": [
       "     rep_index  paragraph_index paragraph_section       winner  \\\n",
       "0            0                0          abstract  Paragraph 1   \n",
       "1            0                1      introduction          tie   \n",
       "2            0                2      introduction  Paragraph 1   \n",
       "3            0                3      introduction  Paragraph 1   \n",
       "4            0                4      introduction  Paragraph 1   \n",
       "..         ...              ...               ...          ...   \n",
       "310          4               58           methods          tie   \n",
       "311          4               59           methods  Paragraph A   \n",
       "312          4               60           methods  Paragraph 1   \n",
       "313          4               61           methods          tie   \n",
       "314          4               62           methods          tie   \n",
       "\n",
       "                                             rationale  winner_score  \n",
       "0    Paragraph 1 slightly edges out Paragraph A in ...           1.0  \n",
       "1    Both paragraphs exhibit clear sentence structu...           0.0  \n",
       "2    Paragraph 1 is slightly better due to the abse...           1.0  \n",
       "3    Both paragraphs exhibit clear sentence structu...           1.0  \n",
       "4    Both paragraphs exhibit clear sentence structu...           1.0  \n",
       "..                                                 ...           ...  \n",
       "310  Both paragraphs exhibit clear sentence structu...           0.0  \n",
       "311  Paragraph A excels in having a clear sentence ...          -1.0  \n",
       "312  Paragraph 1 is slightly better due to maintain...           1.0  \n",
       "313  Both paragraphs exhibit clear sentence structu...           0.0  \n",
       "314  Both paragraphs exhibit clear sentence structu...           0.0  \n",
       "\n",
       "[315 rows x 6 columns]"
      ]
     },
     "execution_count": 7,
     "metadata": {},
     "output_type": "execute_result"
    }
   ],
   "source": [
    "pd.read_pickle(result_files[0])"
   ]
  },
  {
   "cell_type": "code",
   "execution_count": 8,
   "id": "84e2b009-4d28-4dc2-a0d2-02856c3abb03",
   "metadata": {
    "execution": {
     "iopub.execute_input": "2024-03-25T16:41:47.374022Z",
     "iopub.status.busy": "2024-03-25T16:41:47.373825Z",
     "iopub.status.idle": "2024-03-25T16:41:47.377669Z",
     "shell.execute_reply": "2024-03-25T16:41:47.377167Z"
    },
    "papermill": {
     "duration": 0.007749,
     "end_time": "2024-03-25T16:41:47.378365",
     "exception": false,
     "start_time": "2024-03-25T16:41:47.370616",
     "status": "completed"
    },
    "tags": []
   },
   "outputs": [
    {
     "data": {
      "text/plain": [
       "['epistasis-manuscript', 'gpt-3.5-turbo', 'openai_gpt-3.5-turbo.pkl']"
      ]
     },
     "execution_count": 8,
     "metadata": {},
     "output_type": "execute_result"
    }
   ],
   "source": [
    "result_files[0].name.split(\"--\")"
   ]
  },
  {
   "cell_type": "code",
   "execution_count": 9,
   "id": "4e3db6e2-f267-4d60-8ff3-703698a09f88",
   "metadata": {
    "editable": true,
    "execution": {
     "iopub.execute_input": "2024-03-25T16:41:47.384657Z",
     "iopub.status.busy": "2024-03-25T16:41:47.384346Z",
     "iopub.status.idle": "2024-03-25T16:41:47.418468Z",
     "shell.execute_reply": "2024-03-25T16:41:47.417934Z"
    },
    "papermill": {
     "duration": 0.038555,
     "end_time": "2024-03-25T16:41:47.419683",
     "exception": false,
     "start_time": "2024-03-25T16:41:47.381128",
     "status": "completed"
    },
    "slideshow": {
     "slide_type": ""
    },
    "tags": []
   },
   "outputs": [
    {
     "name": "stdout",
     "output_type": "stream",
     "text": [
      "epistasis-manuscript--gpt-3.5-turbo--openai_gpt-3.5-turbo.pkl\n"
     ]
    },
    {
     "name": "stdout",
     "output_type": "stream",
     "text": [
      "phenoplier-manuscript--gpt-3.5-turbo--openai_gpt-3.5-turbo.pkl\n"
     ]
    },
    {
     "name": "stdout",
     "output_type": "stream",
     "text": [
      "ccc-manuscript--gpt-3.5-turbo--reversed--openai_gpt-3.5-turbo.pkl\n"
     ]
    },
    {
     "name": "stdout",
     "output_type": "stream",
     "text": [
      "phenoplier-manuscript--gpt-3.5-turbo--reversed--openai_gpt-4-turbo-preview.pkl\n"
     ]
    },
    {
     "name": "stdout",
     "output_type": "stream",
     "text": [
      "phenoplier-manuscript--gpt-3.5-turbo--reversed--openai_gpt-3.5-turbo.pkl\n"
     ]
    },
    {
     "name": "stdout",
     "output_type": "stream",
     "text": [
      "ccc-manuscript--gpt-3.5-turbo--reversed--openai_gpt-4-turbo-preview.pkl\n"
     ]
    },
    {
     "name": "stdout",
     "output_type": "stream",
     "text": [
      "epistasis-manuscript--gpt-3.5-turbo--openai_gpt-4-turbo-preview.pkl\n"
     ]
    },
    {
     "name": "stdout",
     "output_type": "stream",
     "text": [
      "biochatter-manuscript--gpt-3.5-turbo--openai_gpt-4-turbo-preview.pkl\n"
     ]
    },
    {
     "name": "stdout",
     "output_type": "stream",
     "text": [
      "epistasis-manuscript--gpt-3.5-turbo--reversed--openai_gpt-3.5-turbo.pkl\n"
     ]
    },
    {
     "name": "stdout",
     "output_type": "stream",
     "text": [
      "biochatter-manuscript--gpt-3.5-turbo--openai_gpt-3.5-turbo.pkl\n"
     ]
    },
    {
     "name": "stdout",
     "output_type": "stream",
     "text": [
      "ccc-manuscript--gpt-3.5-turbo--openai_gpt-4-turbo-preview.pkl\n"
     ]
    },
    {
     "name": "stdout",
     "output_type": "stream",
     "text": [
      "epistasis-manuscript--gpt-3.5-turbo--reversed--openai_gpt-4-turbo-preview.pkl\n"
     ]
    },
    {
     "name": "stdout",
     "output_type": "stream",
     "text": [
      "ccc-manuscript--gpt-3.5-turbo--openai_gpt-3.5-turbo.pkl\n"
     ]
    },
    {
     "name": "stdout",
     "output_type": "stream",
     "text": [
      "biochatter-manuscript--gpt-3.5-turbo--reversed--openai_gpt-3.5-turbo.pkl\n"
     ]
    },
    {
     "name": "stdout",
     "output_type": "stream",
     "text": [
      "biochatter-manuscript--gpt-3.5-turbo--reversed--openai_gpt-4-turbo-preview.pkl\n"
     ]
    },
    {
     "name": "stdout",
     "output_type": "stream",
     "text": [
      "phenoplier-manuscript--gpt-3.5-turbo--openai_gpt-4-turbo-preview.pkl\n"
     ]
    }
   ],
   "source": [
    "all_results = []\n",
    "\n",
    "for f in result_files:\n",
    "    print(f.name, flush=True)\n",
    "    df = pd.read_pickle(f)\n",
    "\n",
    "    f_name_parts = f.name.split(\"--\")\n",
    "    idx = 0\n",
    "    manuscript_code = f_name_parts[idx]\n",
    "    manuscript_code = manuscript_code.split(\"-manuscript\")[0]\n",
    "    idx += 1\n",
    "\n",
    "    manuscript_pr_model = f_name_parts[idx]\n",
    "    idx += 1\n",
    "\n",
    "    reversed_paragraphs = False\n",
    "    if len(f_name_parts) > 3:\n",
    "        reversed_paragraphs = f_name_parts[idx] == \"reversed\"\n",
    "        idx += 1\n",
    "\n",
    "    llm_judge = f_name_parts[idx].split(\".pkl\")[0]\n",
    "\n",
    "    df.insert(0, \"llm_judge\", llm_judge)\n",
    "    df.insert(0, \"paragraphs_reversed\", reversed_paragraphs)\n",
    "    df.insert(0, \"pr_model\", manuscript_pr_model)\n",
    "    df.insert(0, \"manuscript_code\", manuscript_code)\n",
    "\n",
    "    all_results.append(df)"
   ]
  },
  {
   "cell_type": "code",
   "execution_count": 10,
   "id": "63be5e37-c3f7-4af4-bab4-b57503a91fb8",
   "metadata": {
    "execution": {
     "iopub.execute_input": "2024-03-25T16:41:47.432733Z",
     "iopub.status.busy": "2024-03-25T16:41:47.432324Z",
     "iopub.status.idle": "2024-03-25T16:41:47.437109Z",
     "shell.execute_reply": "2024-03-25T16:41:47.436612Z"
    },
    "papermill": {
     "duration": 0.012473,
     "end_time": "2024-03-25T16:41:47.438296",
     "exception": false,
     "start_time": "2024-03-25T16:41:47.425823",
     "status": "completed"
    },
    "tags": []
   },
   "outputs": [],
   "source": [
    "df = pd.concat(all_results, ignore_index=True)"
   ]
  },
  {
   "cell_type": "code",
   "execution_count": 11,
   "id": "cc6a365d-59f5-4537-9fd7-869ee4156046",
   "metadata": {
    "editable": true,
    "execution": {
     "iopub.execute_input": "2024-03-25T16:41:47.451265Z",
     "iopub.status.busy": "2024-03-25T16:41:47.450933Z",
     "iopub.status.idle": "2024-03-25T16:41:47.454488Z",
     "shell.execute_reply": "2024-03-25T16:41:47.454001Z"
    },
    "papermill": {
     "duration": 0.011175,
     "end_time": "2024-03-25T16:41:47.455564",
     "exception": false,
     "start_time": "2024-03-25T16:41:47.444389",
     "status": "completed"
    },
    "slideshow": {
     "slide_type": ""
    },
    "tags": []
   },
   "outputs": [
    {
     "data": {
      "text/plain": [
       "(3880, 10)"
      ]
     },
     "execution_count": 11,
     "metadata": {},
     "output_type": "execute_result"
    }
   ],
   "source": [
    "df.shape"
   ]
  },
  {
   "cell_type": "code",
   "execution_count": 12,
   "id": "589fb328-d62a-4573-8177-a9dbd1e495b0",
   "metadata": {
    "editable": true,
    "execution": {
     "iopub.execute_input": "2024-03-25T16:41:47.468490Z",
     "iopub.status.busy": "2024-03-25T16:41:47.468298Z",
     "iopub.status.idle": "2024-03-25T16:41:47.477643Z",
     "shell.execute_reply": "2024-03-25T16:41:47.477153Z"
    },
    "papermill": {
     "duration": 0.017048,
     "end_time": "2024-03-25T16:41:47.478744",
     "exception": false,
     "start_time": "2024-03-25T16:41:47.461696",
     "status": "completed"
    },
    "slideshow": {
     "slide_type": ""
    },
    "tags": []
   },
   "outputs": [
    {
     "data": {
      "text/html": [
       "<div>\n",
       "<style scoped>\n",
       "    .dataframe tbody tr th:only-of-type {\n",
       "        vertical-align: middle;\n",
       "    }\n",
       "\n",
       "    .dataframe tbody tr th {\n",
       "        vertical-align: top;\n",
       "    }\n",
       "\n",
       "    .dataframe thead th {\n",
       "        text-align: right;\n",
       "    }\n",
       "</style>\n",
       "<table border=\"1\" class=\"dataframe\">\n",
       "  <thead>\n",
       "    <tr style=\"text-align: right;\">\n",
       "      <th></th>\n",
       "      <th>manuscript_code</th>\n",
       "      <th>pr_model</th>\n",
       "      <th>paragraphs_reversed</th>\n",
       "      <th>llm_judge</th>\n",
       "      <th>rep_index</th>\n",
       "      <th>paragraph_index</th>\n",
       "      <th>paragraph_section</th>\n",
       "      <th>winner</th>\n",
       "      <th>rationale</th>\n",
       "      <th>winner_score</th>\n",
       "    </tr>\n",
       "  </thead>\n",
       "  <tbody>\n",
       "    <tr>\n",
       "      <th>0</th>\n",
       "      <td>epistasis</td>\n",
       "      <td>gpt-3.5-turbo</td>\n",
       "      <td>False</td>\n",
       "      <td>openai_gpt-3.5-turbo</td>\n",
       "      <td>0</td>\n",
       "      <td>0</td>\n",
       "      <td>abstract</td>\n",
       "      <td>Paragraph 1</td>\n",
       "      <td>Paragraph 1 slightly edges out Paragraph A in ...</td>\n",
       "      <td>1.0</td>\n",
       "    </tr>\n",
       "    <tr>\n",
       "      <th>1</th>\n",
       "      <td>epistasis</td>\n",
       "      <td>gpt-3.5-turbo</td>\n",
       "      <td>False</td>\n",
       "      <td>openai_gpt-3.5-turbo</td>\n",
       "      <td>0</td>\n",
       "      <td>1</td>\n",
       "      <td>introduction</td>\n",
       "      <td>tie</td>\n",
       "      <td>Both paragraphs exhibit clear sentence structu...</td>\n",
       "      <td>0.0</td>\n",
       "    </tr>\n",
       "    <tr>\n",
       "      <th>2</th>\n",
       "      <td>epistasis</td>\n",
       "      <td>gpt-3.5-turbo</td>\n",
       "      <td>False</td>\n",
       "      <td>openai_gpt-3.5-turbo</td>\n",
       "      <td>0</td>\n",
       "      <td>2</td>\n",
       "      <td>introduction</td>\n",
       "      <td>Paragraph 1</td>\n",
       "      <td>Paragraph 1 is slightly better due to the abse...</td>\n",
       "      <td>1.0</td>\n",
       "    </tr>\n",
       "    <tr>\n",
       "      <th>3</th>\n",
       "      <td>epistasis</td>\n",
       "      <td>gpt-3.5-turbo</td>\n",
       "      <td>False</td>\n",
       "      <td>openai_gpt-3.5-turbo</td>\n",
       "      <td>0</td>\n",
       "      <td>3</td>\n",
       "      <td>introduction</td>\n",
       "      <td>Paragraph 1</td>\n",
       "      <td>Both paragraphs exhibit clear sentence structu...</td>\n",
       "      <td>1.0</td>\n",
       "    </tr>\n",
       "    <tr>\n",
       "      <th>4</th>\n",
       "      <td>epistasis</td>\n",
       "      <td>gpt-3.5-turbo</td>\n",
       "      <td>False</td>\n",
       "      <td>openai_gpt-3.5-turbo</td>\n",
       "      <td>0</td>\n",
       "      <td>4</td>\n",
       "      <td>introduction</td>\n",
       "      <td>Paragraph 1</td>\n",
       "      <td>Both paragraphs exhibit clear sentence structu...</td>\n",
       "      <td>1.0</td>\n",
       "    </tr>\n",
       "  </tbody>\n",
       "</table>\n",
       "</div>"
      ],
      "text/plain": [
       "  manuscript_code       pr_model  paragraphs_reversed             llm_judge  \\\n",
       "0       epistasis  gpt-3.5-turbo                False  openai_gpt-3.5-turbo   \n",
       "1       epistasis  gpt-3.5-turbo                False  openai_gpt-3.5-turbo   \n",
       "2       epistasis  gpt-3.5-turbo                False  openai_gpt-3.5-turbo   \n",
       "3       epistasis  gpt-3.5-turbo                False  openai_gpt-3.5-turbo   \n",
       "4       epistasis  gpt-3.5-turbo                False  openai_gpt-3.5-turbo   \n",
       "\n",
       "   rep_index  paragraph_index paragraph_section       winner  \\\n",
       "0          0                0          abstract  Paragraph 1   \n",
       "1          0                1      introduction          tie   \n",
       "2          0                2      introduction  Paragraph 1   \n",
       "3          0                3      introduction  Paragraph 1   \n",
       "4          0                4      introduction  Paragraph 1   \n",
       "\n",
       "                                           rationale  winner_score  \n",
       "0  Paragraph 1 slightly edges out Paragraph A in ...           1.0  \n",
       "1  Both paragraphs exhibit clear sentence structu...           0.0  \n",
       "2  Paragraph 1 is slightly better due to the abse...           1.0  \n",
       "3  Both paragraphs exhibit clear sentence structu...           1.0  \n",
       "4  Both paragraphs exhibit clear sentence structu...           1.0  "
      ]
     },
     "execution_count": 12,
     "metadata": {},
     "output_type": "execute_result"
    }
   ],
   "source": [
    "df.head()"
   ]
  },
  {
   "cell_type": "markdown",
   "id": "a63ea28b-ab47-42dc-952b-d575b757538a",
   "metadata": {
    "editable": true,
    "papermill": {
     "duration": 0.006141,
     "end_time": "2024-03-25T16:41:47.491301",
     "exception": false,
     "start_time": "2024-03-25T16:41:47.485160",
     "status": "completed"
    },
    "slideshow": {
     "slide_type": ""
    },
    "tags": []
   },
   "source": [
    "# Process data for plotting"
   ]
  },
  {
   "cell_type": "code",
   "execution_count": 13,
   "id": "e1e82c24-99b5-4a3a-86fe-2a353a24514f",
   "metadata": {
    "execution": {
     "iopub.execute_input": "2024-03-25T16:41:47.504615Z",
     "iopub.status.busy": "2024-03-25T16:41:47.504428Z",
     "iopub.status.idle": "2024-03-25T16:41:47.508555Z",
     "shell.execute_reply": "2024-03-25T16:41:47.508039Z"
    },
    "papermill": {
     "duration": 0.01207,
     "end_time": "2024-03-25T16:41:47.509642",
     "exception": false,
     "start_time": "2024-03-25T16:41:47.497572",
     "status": "completed"
    },
    "tags": []
   },
   "outputs": [
    {
     "data": {
      "text/plain": [
       "array(['openai_gpt-3.5-turbo', 'openai_gpt-4-turbo-preview'], dtype=object)"
      ]
     },
     "execution_count": 13,
     "metadata": {},
     "output_type": "execute_result"
    }
   ],
   "source": [
    "df[\"llm_judge\"].unique()"
   ]
  },
  {
   "cell_type": "code",
   "execution_count": 14,
   "id": "f7fe33f7-fb62-4b27-a5b9-9d317b5f48d2",
   "metadata": {
    "execution": {
     "iopub.execute_input": "2024-03-25T16:41:47.523642Z",
     "iopub.status.busy": "2024-03-25T16:41:47.523230Z",
     "iopub.status.idle": "2024-03-25T16:41:47.527194Z",
     "shell.execute_reply": "2024-03-25T16:41:47.526710Z"
    },
    "papermill": {
     "duration": 0.011684,
     "end_time": "2024-03-25T16:41:47.527908",
     "exception": false,
     "start_time": "2024-03-25T16:41:47.516224",
     "status": "completed"
    },
    "tags": []
   },
   "outputs": [
    {
     "data": {
      "text/plain": [
       "array(['epistasis', 'phenoplier', 'ccc', 'biochatter'], dtype=object)"
      ]
     },
     "execution_count": 14,
     "metadata": {},
     "output_type": "execute_result"
    }
   ],
   "source": [
    "df[\"manuscript_code\"].unique()"
   ]
  },
  {
   "cell_type": "code",
   "execution_count": 15,
   "id": "4d3696f6-7c00-41f3-bb3e-d8e8e68bb63a",
   "metadata": {
    "execution": {
     "iopub.execute_input": "2024-03-25T16:41:47.535444Z",
     "iopub.status.busy": "2024-03-25T16:41:47.535119Z",
     "iopub.status.idle": "2024-03-25T16:41:47.538973Z",
     "shell.execute_reply": "2024-03-25T16:41:47.538493Z"
    },
    "papermill": {
     "duration": 0.008346,
     "end_time": "2024-03-25T16:41:47.539644",
     "exception": false,
     "start_time": "2024-03-25T16:41:47.531298",
     "status": "completed"
    },
    "tags": []
   },
   "outputs": [
    {
     "data": {
      "text/plain": [
       "array(['abstract', 'introduction', 'results', 'discussion', 'methods',\n",
       "       'supplementary material'], dtype=object)"
      ]
     },
     "execution_count": 15,
     "metadata": {},
     "output_type": "execute_result"
    }
   ],
   "source": [
    "df[\"paragraph_section\"].unique()"
   ]
  },
  {
   "cell_type": "markdown",
   "id": "f2c97c96-680e-4629-89e0-7344f475b698",
   "metadata": {
    "editable": true,
    "papermill": {
     "duration": 0.003442,
     "end_time": "2024-03-25T16:41:47.546582",
     "exception": false,
     "start_time": "2024-03-25T16:41:47.543140",
     "status": "completed"
    },
    "slideshow": {
     "slide_type": ""
    },
    "tags": []
   },
   "source": [
    "# Clean illegal characters for openpyxl"
   ]
  },
  {
   "cell_type": "code",
   "execution_count": 16,
   "id": "255e4475-806a-42b8-9730-75f911c31657",
   "metadata": {
    "execution": {
     "iopub.execute_input": "2024-03-25T16:41:47.554275Z",
     "iopub.status.busy": "2024-03-25T16:41:47.553956Z",
     "iopub.status.idle": "2024-03-25T16:41:47.581563Z",
     "shell.execute_reply": "2024-03-25T16:41:47.581121Z"
    },
    "papermill": {
     "duration": 0.032241,
     "end_time": "2024-03-25T16:41:47.582275",
     "exception": false,
     "start_time": "2024-03-25T16:41:47.550034",
     "status": "completed"
    },
    "tags": []
   },
   "outputs": [],
   "source": [
    "df = df.replace(ILLEGAL_CHARACTERS_RE, \"\", regex=True)"
   ]
  },
  {
   "cell_type": "markdown",
   "id": "585db066-fd94-46cc-82a5-23c60ba3e238",
   "metadata": {
    "editable": true,
    "papermill": {
     "duration": 0.003417,
     "end_time": "2024-03-25T16:41:47.589256",
     "exception": false,
     "start_time": "2024-03-25T16:41:47.585839",
     "status": "completed"
    },
    "slideshow": {
     "slide_type": ""
    },
    "tags": []
   },
   "source": [
    "# Save"
   ]
  },
  {
   "cell_type": "code",
   "execution_count": 17,
   "id": "9896a519-e88f-4abe-a2b4-6138a3e17168",
   "metadata": {
    "editable": true,
    "execution": {
     "iopub.execute_input": "2024-03-25T16:41:47.596874Z",
     "iopub.status.busy": "2024-03-25T16:41:47.596689Z",
     "iopub.status.idle": "2024-03-25T16:41:48.293314Z",
     "shell.execute_reply": "2024-03-25T16:41:48.292913Z"
    },
    "papermill": {
     "duration": 0.702032,
     "end_time": "2024-03-25T16:41:48.294714",
     "exception": false,
     "start_time": "2024-03-25T16:41:47.592682",
     "status": "completed"
    },
    "slideshow": {
     "slide_type": ""
    },
    "tags": []
   },
   "outputs": [],
   "source": [
    "df.to_excel(OUTPUT_FILE)"
   ]
  },
  {
   "cell_type": "code",
   "execution_count": null,
   "id": "5bd74d20-e371-47ed-8c61-43ff4a4d1f68",
   "metadata": {
    "papermill": {
     "duration": 0.006405,
     "end_time": "2024-03-25T16:41:48.307961",
     "exception": false,
     "start_time": "2024-03-25T16:41:48.301556",
     "status": "completed"
    },
    "tags": []
   },
   "outputs": [],
   "source": []
  }
 ],
 "metadata": {
  "jupytext": {
   "cell_metadata_filter": "all,-execution,-papermill,-trusted",
   "notebook_metadata_filter": "-jupytext.text_representation.jupytext_version"
  },
  "kernelspec": {
   "display_name": "Python 3 (ipykernel)",
   "language": "python",
   "name": "python3"
  },
  "language_info": {
   "codemirror_mode": {
    "name": "ipython",
    "version": 3
   },
   "file_extension": ".py",
   "mimetype": "text/x-python",
   "name": "python",
   "nbconvert_exporter": "python",
   "pygments_lexer": "ipython3",
   "version": "3.11.8"
  },
  "papermill": {
   "default_parameters": {},
   "duration": 2.39579,
   "end_time": "2024-03-25T16:41:48.629280",
   "environment_variables": {},
   "exception": null,
   "input_path": "/home/miltondp/projects/others/manubot/manubot-ai-editor-code/nbs/05-llm_evaluation/15-save_scores.ipynb",
   "output_path": "/home/miltondp/projects/others/manubot/manubot-ai-editor-code/nbs/05-llm_evaluation/15-save_scores.run.ipynb",
   "parameters": {
    "OUTPUT_FILE": "/home/miltondp/projects/others/manubot/manubot-gpt-manuscript/content/supplementary_files/Supplementary_File_05-Automatic_assessment.xlsx"
   },
   "start_time": "2024-03-25T16:41:46.233490",
   "version": "2.5.0"
  }
 },
 "nbformat": 4,
 "nbformat_minor": 5
}
