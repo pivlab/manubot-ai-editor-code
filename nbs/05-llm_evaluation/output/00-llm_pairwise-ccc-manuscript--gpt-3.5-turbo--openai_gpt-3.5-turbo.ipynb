{
 "cells": [
  {
   "cell_type": "markdown",
   "id": "070a050a-44d1-42c2-b274-c8c180a2a0ba",
   "metadata": {
    "editable": true,
    "papermill": {
     "duration": 0.006104,
     "end_time": "2024-03-21T15:09:09.269443",
     "exception": false,
     "start_time": "2024-03-21T15:09:09.263339",
     "status": "completed"
    },
    "slideshow": {
     "slide_type": ""
    },
    "tags": []
   },
   "source": [
    "# Description"
   ]
  },
  {
   "cell_type": "markdown",
   "id": "e4fcbb4d-aa04-4e1a-9aee-0053c559e157",
   "metadata": {
    "editable": true,
    "papermill": {
     "duration": 0.005338,
     "end_time": "2024-03-21T15:09:09.285319",
     "exception": false,
     "start_time": "2024-03-21T15:09:09.279981",
     "status": "completed"
    },
    "slideshow": {
     "slide_type": ""
    },
    "tags": []
   },
   "source": [
    "This notebook is a template notebook that is intended to be run across different parameters.\n",
    "\n",
    "TODO"
   ]
  },
  {
   "cell_type": "markdown",
   "id": "b237f234-dc98-43e9-8ff5-8922c410c377",
   "metadata": {
    "editable": true,
    "papermill": {
     "duration": 0.005522,
     "end_time": "2024-03-21T15:09:09.296208",
     "exception": false,
     "start_time": "2024-03-21T15:09:09.290686",
     "status": "completed"
    },
    "slideshow": {
     "slide_type": ""
    },
    "tags": []
   },
   "source": [
    "# Modules"
   ]
  },
  {
   "cell_type": "code",
   "execution_count": 1,
   "id": "70413318-1f5e-4d58-b1a2-cb4f01c13e86",
   "metadata": {
    "editable": true,
    "execution": {
     "iopub.execute_input": "2024-03-21T15:09:09.308408Z",
     "iopub.status.busy": "2024-03-21T15:09:09.308249Z",
     "iopub.status.idle": "2024-03-21T15:09:10.360366Z",
     "shell.execute_reply": "2024-03-21T15:09:10.359825Z"
    },
    "papermill": {
     "duration": 1.060368,
     "end_time": "2024-03-21T15:09:10.361929",
     "exception": false,
     "start_time": "2024-03-21T15:09:09.301561",
     "status": "completed"
    },
    "slideshow": {
     "slide_type": ""
    },
    "tags": []
   },
   "outputs": [],
   "source": [
    "import pandas as pd\n",
    "from IPython.display import display\n",
    "from langchain.cache import SQLiteCache\n",
    "from langchain.globals import set_llm_cache\n",
    "from proj import conf\n",
    "from proj.utils import llm_pairwise"
   ]
  },
  {
   "cell_type": "markdown",
   "id": "3f78fd18-86b7-40b9-b80e-a8b18d001682",
   "metadata": {
    "editable": true,
    "papermill": {
     "duration": 0.034006,
     "end_time": "2024-03-21T15:09:10.401664",
     "exception": false,
     "start_time": "2024-03-21T15:09:10.367658",
     "status": "completed"
    },
    "slideshow": {
     "slide_type": ""
    },
    "tags": []
   },
   "source": [
    "# Settings/paths"
   ]
  },
  {
   "cell_type": "code",
   "execution_count": 2,
   "id": "10a3ceca-1480-45b0-b04d-cb402ff95abf",
   "metadata": {
    "editable": true,
    "execution": {
     "iopub.execute_input": "2024-03-21T15:09:10.414093Z",
     "iopub.status.busy": "2024-03-21T15:09:10.413916Z",
     "iopub.status.idle": "2024-03-21T15:09:10.416784Z",
     "shell.execute_reply": "2024-03-21T15:09:10.416343Z"
    },
    "papermill": {
     "duration": 0.010671,
     "end_time": "2024-03-21T15:09:10.417857",
     "exception": false,
     "start_time": "2024-03-21T15:09:10.407186",
     "status": "completed"
    },
    "slideshow": {
     "slide_type": ""
    },
    "tags": [
     "parameters"
    ]
   },
   "outputs": [],
   "source": [
    "# Input manuscript\n",
    "REPO = None\n",
    "\n",
    "INPUT_FILE = None\n",
    "OUTPUT_FILE = None\n",
    "\n",
    "# Model and its parameters\n",
    "LLM_JUDGE = None\n",
    "TEMPERATURE = None\n",
    "MAX_TOKENS = 2000\n",
    "SEED_INIT = 0\n",
    "\n",
    "# Evaluation parameters\n",
    "N_REPS = None"
   ]
  },
  {
   "cell_type": "code",
   "execution_count": 3,
   "id": "3474a75a",
   "metadata": {
    "execution": {
     "iopub.execute_input": "2024-03-21T15:09:10.429478Z",
     "iopub.status.busy": "2024-03-21T15:09:10.429369Z",
     "iopub.status.idle": "2024-03-21T15:09:10.431873Z",
     "shell.execute_reply": "2024-03-21T15:09:10.431443Z"
    },
    "papermill": {
     "duration": 0.009613,
     "end_time": "2024-03-21T15:09:10.432971",
     "exception": false,
     "start_time": "2024-03-21T15:09:10.423358",
     "status": "completed"
    },
    "tags": [
     "injected-parameters"
    ]
   },
   "outputs": [],
   "source": [
    "# Parameters\n",
    "REPO = \"pivlab/manubot-ai-editor-code-test-ccc-manuscript\"\n",
    "INPUT_FILE = \"/home/miltondp/projects/others/manubot/manubot-ai-editor-code/base/results/paragraph_match/ccc-manuscript--gpt-3.5-turbo.pkl\"\n",
    "OUTPUT_FILE = \"/home/miltondp/projects/others/manubot/manubot-ai-editor-code/base/results/llm_pairwise/ccc-manuscript--gpt-3.5-turbo--openai_gpt-3.5-turbo.pkl\"\n",
    "LLM_JUDGE = \"openai:gpt-3.5-turbo\"\n",
    "TEMPERATURE = 0.5\n",
    "MAX_TOKENS = 2000\n",
    "SEED_INIT = 0\n",
    "N_REPS = 10\n"
   ]
  },
  {
   "cell_type": "code",
   "execution_count": 4,
   "id": "2245c8bd-63ca-489c-aad5-91a4b57d5e37",
   "metadata": {
    "editable": true,
    "execution": {
     "iopub.execute_input": "2024-03-21T15:09:10.444702Z",
     "iopub.status.busy": "2024-03-21T15:09:10.444578Z",
     "iopub.status.idle": "2024-03-21T15:09:10.448859Z",
     "shell.execute_reply": "2024-03-21T15:09:10.448444Z"
    },
    "papermill": {
     "duration": 0.011388,
     "end_time": "2024-03-21T15:09:10.449952",
     "exception": false,
     "start_time": "2024-03-21T15:09:10.438564",
     "status": "completed"
    },
    "slideshow": {
     "slide_type": ""
    },
    "tags": []
   },
   "outputs": [
    {
     "data": {
      "text/plain": [
       "PosixPath('/home/miltondp/projects/others/manubot/manubot-ai-editor-code/base/results/llm_cache')"
      ]
     },
     "metadata": {},
     "output_type": "display_data"
    }
   ],
   "source": [
    "conf.common.LLM_CACHE_DIR.mkdir(parents=True, exist_ok=True)\n",
    "display(conf.common.LLM_CACHE_DIR)"
   ]
  },
  {
   "cell_type": "markdown",
   "id": "c42b83b5-84b7-45ff-88ee-3651aa5c9c55",
   "metadata": {
    "editable": true,
    "papermill": {
     "duration": 0.005669,
     "end_time": "2024-03-21T15:09:10.461332",
     "exception": false,
     "start_time": "2024-03-21T15:09:10.455663",
     "status": "completed"
    },
    "slideshow": {
     "slide_type": ""
    },
    "tags": []
   },
   "source": [
    "# Load paragraphs"
   ]
  },
  {
   "cell_type": "code",
   "execution_count": 5,
   "id": "f1d1f476-f5b5-4d1c-9c3a-822e9bef4b27",
   "metadata": {
    "editable": true,
    "execution": {
     "iopub.execute_input": "2024-03-21T15:09:10.471341Z",
     "iopub.status.busy": "2024-03-21T15:09:10.471218Z",
     "iopub.status.idle": "2024-03-21T15:09:10.473880Z",
     "shell.execute_reply": "2024-03-21T15:09:10.473495Z"
    },
    "papermill": {
     "duration": 0.007435,
     "end_time": "2024-03-21T15:09:10.474503",
     "exception": false,
     "start_time": "2024-03-21T15:09:10.467068",
     "status": "completed"
    },
    "slideshow": {
     "slide_type": ""
    },
    "tags": []
   },
   "outputs": [],
   "source": [
    "df = pd.read_pickle(INPUT_FILE)"
   ]
  },
  {
   "cell_type": "code",
   "execution_count": 6,
   "id": "4e3db6e2-f267-4d60-8ff3-703698a09f88",
   "metadata": {
    "editable": true,
    "execution": {
     "iopub.execute_input": "2024-03-21T15:09:10.481210Z",
     "iopub.status.busy": "2024-03-21T15:09:10.481089Z",
     "iopub.status.idle": "2024-03-21T15:09:10.484069Z",
     "shell.execute_reply": "2024-03-21T15:09:10.483681Z"
    },
    "papermill": {
     "duration": 0.00714,
     "end_time": "2024-03-21T15:09:10.484741",
     "exception": false,
     "start_time": "2024-03-21T15:09:10.477601",
     "status": "completed"
    },
    "slideshow": {
     "slide_type": ""
    },
    "tags": []
   },
   "outputs": [
    {
     "data": {
      "text/plain": [
       "(31, 3)"
      ]
     },
     "execution_count": 6,
     "metadata": {},
     "output_type": "execute_result"
    }
   ],
   "source": [
    "df.shape"
   ]
  },
  {
   "cell_type": "code",
   "execution_count": 7,
   "id": "cc6a365d-59f5-4537-9fd7-869ee4156046",
   "metadata": {
    "editable": true,
    "execution": {
     "iopub.execute_input": "2024-03-21T15:09:10.491619Z",
     "iopub.status.busy": "2024-03-21T15:09:10.491497Z",
     "iopub.status.idle": "2024-03-21T15:09:10.496965Z",
     "shell.execute_reply": "2024-03-21T15:09:10.496578Z"
    },
    "papermill": {
     "duration": 0.009771,
     "end_time": "2024-03-21T15:09:10.497691",
     "exception": false,
     "start_time": "2024-03-21T15:09:10.487920",
     "status": "completed"
    },
    "slideshow": {
     "slide_type": ""
    },
    "tags": []
   },
   "outputs": [
    {
     "data": {
      "text/html": [
       "<div>\n",
       "<style scoped>\n",
       "    .dataframe tbody tr th:only-of-type {\n",
       "        vertical-align: middle;\n",
       "    }\n",
       "\n",
       "    .dataframe tbody tr th {\n",
       "        vertical-align: top;\n",
       "    }\n",
       "\n",
       "    .dataframe thead th {\n",
       "        text-align: right;\n",
       "    }\n",
       "</style>\n",
       "<table border=\"1\" class=\"dataframe\">\n",
       "  <thead>\n",
       "    <tr style=\"text-align: right;\">\n",
       "      <th></th>\n",
       "      <th>section</th>\n",
       "      <th>original</th>\n",
       "      <th>modified</th>\n",
       "    </tr>\n",
       "  </thead>\n",
       "  <tbody>\n",
       "    <tr>\n",
       "      <th>0</th>\n",
       "      <td>abstract</td>\n",
       "      <td>Correlation coefficients are widely used to id...</td>\n",
       "      <td>In transcriptomics, identifying patterns in ge...</td>\n",
       "    </tr>\n",
       "    <tr>\n",
       "      <th>1</th>\n",
       "      <td>introduction</td>\n",
       "      <td>New technologies have vastly improved data col...</td>\n",
       "      <td>Recent advancements in data collection have le...</td>\n",
       "    </tr>\n",
       "    <tr>\n",
       "      <th>2</th>\n",
       "      <td>introduction</td>\n",
       "      <td>In transcriptomics, many analyses start with e...</td>\n",
       "      <td>In the field of transcriptomics, many analyses...</td>\n",
       "    </tr>\n",
       "    <tr>\n",
       "      <th>3</th>\n",
       "      <td>introduction</td>\n",
       "      <td>The Pearson and Spearman correlation coefficie...</td>\n",
       "      <td>The Pearson and Spearman correlation coefficie...</td>\n",
       "    </tr>\n",
       "    <tr>\n",
       "      <th>4</th>\n",
       "      <td>results</td>\n",
       "      <td>The CCC provides a similarity measure between ...</td>\n",
       "      <td>The CCC calculates the similarity between pair...</td>\n",
       "    </tr>\n",
       "  </tbody>\n",
       "</table>\n",
       "</div>"
      ],
      "text/plain": [
       "        section                                           original  \\\n",
       "0      abstract  Correlation coefficients are widely used to id...   \n",
       "1  introduction  New technologies have vastly improved data col...   \n",
       "2  introduction  In transcriptomics, many analyses start with e...   \n",
       "3  introduction  The Pearson and Spearman correlation coefficie...   \n",
       "4       results  The CCC provides a similarity measure between ...   \n",
       "\n",
       "                                            modified  \n",
       "0  In transcriptomics, identifying patterns in ge...  \n",
       "1  Recent advancements in data collection have le...  \n",
       "2  In the field of transcriptomics, many analyses...  \n",
       "3  The Pearson and Spearman correlation coefficie...  \n",
       "4  The CCC calculates the similarity between pair...  "
      ]
     },
     "execution_count": 7,
     "metadata": {},
     "output_type": "execute_result"
    }
   ],
   "source": [
    "df.head()"
   ]
  },
  {
   "cell_type": "code",
   "execution_count": 8,
   "id": "589fb328-d62a-4573-8177-a9dbd1e495b0",
   "metadata": {
    "editable": true,
    "execution": {
     "iopub.execute_input": "2024-03-21T15:09:10.505307Z",
     "iopub.status.busy": "2024-03-21T15:09:10.504915Z",
     "iopub.status.idle": "2024-03-21T15:09:10.509050Z",
     "shell.execute_reply": "2024-03-21T15:09:10.508554Z"
    },
    "papermill": {
     "duration": 0.008794,
     "end_time": "2024-03-21T15:09:10.509814",
     "exception": false,
     "start_time": "2024-03-21T15:09:10.501020",
     "status": "completed"
    },
    "slideshow": {
     "slide_type": ""
    },
    "tags": []
   },
   "outputs": [
    {
     "data": {
      "text/plain": [
       "'Correlation coefficients are widely used to identify patterns in data that may be of particular interest. In transcriptomics, genes with correlated expression often share functions or are part of disease-relevant biological processes. Here we introduce the Clustermatch Correlation Coefficient (CCC), an efficient, easy-to-use and not-only-linear coefficient based on machine learning models. CCC reveals biologically meaningful linear and nonlinear patterns missed by standard, linear-only correlation coefficients. CCC captures general patterns in data by comparing clustering solutions while being much faster than state-of-the-art coefficients such as the Maximal Information Coefficient. When applied to human gene expression data, CCC identifies robust linear relationships while detecting nonlinear patterns associated, for example, with sex differences that are not captured by linear-only coefficients. Gene pairs highly ranked by CCC were enriched for interactions in integrated networks built from protein-protein interaction, transcription factor regulation, and chemical and genetic perturbations, suggesting that CCC could detect functional relationships that linear-only methods missed. CCC is a highly-efficient, next-generation not-only-linear correlation coefficient that can readily be applied to genome-scale data and other domains across different data types.'"
      ]
     },
     "execution_count": 8,
     "metadata": {},
     "output_type": "execute_result"
    }
   ],
   "source": [
    "df.iloc[0][\"original\"]"
   ]
  },
  {
   "cell_type": "code",
   "execution_count": 9,
   "id": "4b5fba85-97aa-4051-b755-c45f8dbf2448",
   "metadata": {
    "editable": true,
    "execution": {
     "iopub.execute_input": "2024-03-21T15:09:10.517680Z",
     "iopub.status.busy": "2024-03-21T15:09:10.517449Z",
     "iopub.status.idle": "2024-03-21T15:09:10.521592Z",
     "shell.execute_reply": "2024-03-21T15:09:10.521073Z"
    },
    "papermill": {
     "duration": 0.009164,
     "end_time": "2024-03-21T15:09:10.522382",
     "exception": false,
     "start_time": "2024-03-21T15:09:10.513218",
     "status": "completed"
    },
    "slideshow": {
     "slide_type": ""
    },
    "tags": []
   },
   "outputs": [
    {
     "data": {
      "text/plain": [
       "'In transcriptomics, identifying patterns in gene expression data is crucial for understanding biological processes. The traditional linear correlation coefficients may not capture all the complexities in gene relationships. To address this, we propose the Clustermatch Correlation Coefficient (CCC), a machine learning-based coefficient that can reveal both linear and nonlinear patterns efficiently. Compared to standard coefficients like the Maximal Information Coefficient, CCC is faster and can detect biologically meaningful patterns that are missed by linear-only methods. When applied to human gene expression data, CCC not only identifies robust linear relationships but also uncovers nonlinear patterns, such as sex differences. Additionally, CCC can detect functional relationships between genes that are overlooked by linear-only methods, as shown by enrichment in integrated networks. Overall, CCC is a versatile and efficient tool that can be applied to genome-scale data and various data types to uncover hidden relationships.'"
      ]
     },
     "execution_count": 9,
     "metadata": {},
     "output_type": "execute_result"
    }
   ],
   "source": [
    "df.iloc[0][\"modified\"]"
   ]
  },
  {
   "cell_type": "markdown",
   "id": "9291eef4-d5ee-4d89-b34d-997501f0cd0b",
   "metadata": {
    "editable": true,
    "papermill": {
     "duration": 0.003401,
     "end_time": "2024-03-21T15:09:10.529268",
     "exception": false,
     "start_time": "2024-03-21T15:09:10.525867",
     "status": "completed"
    },
    "slideshow": {
     "slide_type": ""
    },
    "tags": []
   },
   "source": [
    "# Test run"
   ]
  },
  {
   "cell_type": "code",
   "execution_count": 10,
   "id": "6b7e80bd-f678-4047-b0f6-3c4e55de4767",
   "metadata": {
    "editable": true,
    "execution": {
     "iopub.execute_input": "2024-03-21T15:09:10.537136Z",
     "iopub.status.busy": "2024-03-21T15:09:10.536720Z",
     "iopub.status.idle": "2024-03-21T15:09:15.789413Z",
     "shell.execute_reply": "2024-03-21T15:09:15.788819Z"
    },
    "papermill": {
     "duration": 5.258035,
     "end_time": "2024-03-21T15:09:15.790729",
     "exception": false,
     "start_time": "2024-03-21T15:09:10.532694",
     "status": "completed"
    },
    "slideshow": {
     "slide_type": ""
    },
    "tags": []
   },
   "outputs": [
    {
     "name": "stdout",
     "output_type": "stream",
     "text": [
      "\n",
      "\n",
      "\u001b[1m> Entering new LLMChain chain...\u001b[0m\n",
      "Prompt after formatting:\n",
      "\u001b[32;1m\u001b[1;3mSystem: You are an expert copyeditor with ample experience in scientific writing. You are assessing the quality of two versions of a paragraph from the Abstract of a scientific article.\n",
      "Human: Evaluate the quality of the following paragraph by writing a list with positive (if any) and/or negative (if any) aspects on the following areas: 1) has a clear sentence structure, 2) is easy to follow, 3) is correct in grammar, 4) has no spelling errors.\n",
      "\n",
      "Paragraph A: Correlation coefficients are widely used to identify patterns in data that may be of particular interest. In transcriptomics, genes with correlated expression often share functions or are part of disease-relevant biological processes. Here we introduce the Clustermatch Correlation Coefficient (CCC), an efficient, easy-to-use and not-only-linear coefficient based on machine learning models. CCC reveals biologically meaningful linear and nonlinear patterns missed by standard, linear-only correlation coefficients. CCC captures general patterns in data by comparing clustering solutions while being much faster than state-of-the-art coefficients such as the Maximal Information Coefficient. When applied to human gene expression data, CCC identifies robust linear relationships while detecting nonlinear patterns associated, for example, with sex differences that are not captured by linear-only coefficients. Gene pairs highly ranked by CCC were enriched for interactions in integrated networks built from protein-protein interaction, transcription factor regulation, and chemical and genetic perturbations, suggesting that CCC could detect functional relationships that linear-only methods missed. CCC is a highly-efficient, next-generation not-only-linear correlation coefficient that can readily be applied to genome-scale data and other domains across different data types.\u001b[0m\n"
     ]
    },
    {
     "name": "stdout",
     "output_type": "stream",
     "text": [
      "\n",
      "\u001b[1m> Finished chain.\u001b[0m\n",
      "\n",
      "\n",
      "\u001b[1m> Entering new LLMChain chain...\u001b[0m\n",
      "Prompt after formatting:\n",
      "\u001b[32;1m\u001b[1;3mSystem: You are an expert copyeditor with ample experience in scientific writing. You are assessing the quality of two versions of a paragraph from the Abstract of a scientific article.\n",
      "Human: Evaluate the quality of the following paragraph by writing a list with positive (if any) and/or negative (if any) aspects on the following areas: 1) has a clear sentence structure, 2) is easy to follow, 3) is correct in grammar, 4) has no spelling errors.\n",
      "\n",
      "Paragraph A: Correlation coefficients are widely used to identify patterns in data that may be of particular interest. In transcriptomics, genes with correlated expression often share functions or are part of disease-relevant biological processes. Here we introduce the Clustermatch Correlation Coefficient (CCC), an efficient, easy-to-use and not-only-linear coefficient based on machine learning models. CCC reveals biologically meaningful linear and nonlinear patterns missed by standard, linear-only correlation coefficients. CCC captures general patterns in data by comparing clustering solutions while being much faster than state-of-the-art coefficients such as the Maximal Information Coefficient. When applied to human gene expression data, CCC identifies robust linear relationships while detecting nonlinear patterns associated, for example, with sex differences that are not captured by linear-only coefficients. Gene pairs highly ranked by CCC were enriched for interactions in integrated networks built from protein-protein interaction, transcription factor regulation, and chemical and genetic perturbations, suggesting that CCC could detect functional relationships that linear-only methods missed. CCC is a highly-efficient, next-generation not-only-linear correlation coefficient that can readily be applied to genome-scale data and other domains across different data types.\n",
      "AI: Positive Aspects:\n",
      "1) The paragraph has a clear sentence structure, with each sentence conveying a distinct idea.\n",
      "2) The paragraph is easy to follow as it presents information in a logical sequence.\n",
      "3) The grammar is correct throughout the paragraph.\n",
      "4) There are no spelling errors in the paragraph.\n",
      "\n",
      "Negative Aspects:\n",
      "None identified.\n",
      "Human: Evaluate the quality of the following paragraph by writing a list with positive (if any) and/or negative (if any) aspects on the following areas: 1) has a clear sentence structure, 2) is easy to follow, 3) is correct in grammar, 4) has no spelling errors.\n",
      "\n",
      "Paragraph 1: In transcriptomics, identifying patterns in gene expression data is crucial for understanding biological processes. The traditional linear correlation coefficients may not capture all the complexities in gene relationships. To address this, we propose the Clustermatch Correlation Coefficient (CCC), a machine learning-based coefficient that can reveal both linear and nonlinear patterns efficiently. Compared to standard coefficients like the Maximal Information Coefficient, CCC is faster and can detect biologically meaningful patterns that are missed by linear-only methods. When applied to human gene expression data, CCC not only identifies robust linear relationships but also uncovers nonlinear patterns, such as sex differences. Additionally, CCC can detect functional relationships between genes that are overlooked by linear-only methods, as shown by enrichment in integrated networks. Overall, CCC is a versatile and efficient tool that can be applied to genome-scale data and various data types to uncover hidden relationships.\u001b[0m\n"
     ]
    },
    {
     "name": "stdout",
     "output_type": "stream",
     "text": [
      "\n",
      "\u001b[1m> Finished chain.\u001b[0m\n",
      "\n",
      "\n",
      "\u001b[1m> Entering new LLMChain chain...\u001b[0m\n",
      "Prompt after formatting:\n",
      "\u001b[32;1m\u001b[1;3mSystem: You are an expert copyeditor with ample experience in scientific writing. You are assessing the quality of two versions of a paragraph from the Abstract of a scientific article.\n",
      "Human: Evaluate the quality of the following paragraph by writing a list with positive (if any) and/or negative (if any) aspects on the following areas: 1) has a clear sentence structure, 2) is easy to follow, 3) is correct in grammar, 4) has no spelling errors.\n",
      "\n",
      "Paragraph A: Correlation coefficients are widely used to identify patterns in data that may be of particular interest. In transcriptomics, genes with correlated expression often share functions or are part of disease-relevant biological processes. Here we introduce the Clustermatch Correlation Coefficient (CCC), an efficient, easy-to-use and not-only-linear coefficient based on machine learning models. CCC reveals biologically meaningful linear and nonlinear patterns missed by standard, linear-only correlation coefficients. CCC captures general patterns in data by comparing clustering solutions while being much faster than state-of-the-art coefficients such as the Maximal Information Coefficient. When applied to human gene expression data, CCC identifies robust linear relationships while detecting nonlinear patterns associated, for example, with sex differences that are not captured by linear-only coefficients. Gene pairs highly ranked by CCC were enriched for interactions in integrated networks built from protein-protein interaction, transcription factor regulation, and chemical and genetic perturbations, suggesting that CCC could detect functional relationships that linear-only methods missed. CCC is a highly-efficient, next-generation not-only-linear correlation coefficient that can readily be applied to genome-scale data and other domains across different data types.\n",
      "AI: Positive Aspects:\n",
      "1) The paragraph has a clear sentence structure, with each sentence conveying a distinct idea.\n",
      "2) The paragraph is easy to follow as it presents information in a logical sequence.\n",
      "3) The grammar is correct throughout the paragraph.\n",
      "4) There are no spelling errors in the paragraph.\n",
      "\n",
      "Negative Aspects:\n",
      "None identified.\n",
      "Human: Evaluate the quality of the following paragraph by writing a list with positive (if any) and/or negative (if any) aspects on the following areas: 1) has a clear sentence structure, 2) is easy to follow, 3) is correct in grammar, 4) has no spelling errors.\n",
      "\n",
      "Paragraph 1: In transcriptomics, identifying patterns in gene expression data is crucial for understanding biological processes. The traditional linear correlation coefficients may not capture all the complexities in gene relationships. To address this, we propose the Clustermatch Correlation Coefficient (CCC), a machine learning-based coefficient that can reveal both linear and nonlinear patterns efficiently. Compared to standard coefficients like the Maximal Information Coefficient, CCC is faster and can detect biologically meaningful patterns that are missed by linear-only methods. When applied to human gene expression data, CCC not only identifies robust linear relationships but also uncovers nonlinear patterns, such as sex differences. Additionally, CCC can detect functional relationships between genes that are overlooked by linear-only methods, as shown by enrichment in integrated networks. Overall, CCC is a versatile and efficient tool that can be applied to genome-scale data and various data types to uncover hidden relationships.\n",
      "AI: Positive Aspects:\n",
      "1) The paragraph has a clear sentence structure, with each sentence presenting a coherent idea.\n",
      "2) The paragraph is easy to follow as it flows logically from one point to the next.\n",
      "3) The grammar is correct throughout the paragraph.\n",
      "4) There are no spelling errors in the paragraph.\n",
      "\n",
      "Negative Aspects:\n",
      "None identified.\n",
      "Human: Now, act as an impartial judge and evaluate the quality of these two paragraphs. Your evaluation must only consider the previous areas you commented on above. Compare the two versions and select the best only if one of them is clearly better than the other; if both versions are similar, then it is a tie. Avoid any position biases and ensure that the order in which the paragraphs were presented does not influence your decision. Do not favor certain paragraph identifiers. Be as objective as possible. Provide the output in JSON format with the following schema: {\"best\": string, \"rationale\": string}, where \"best\" can only have the following values: \"Paragraph A\", \"Paragraph 1\", or \"tie\".\u001b[0m\n"
     ]
    },
    {
     "name": "stdout",
     "output_type": "stream",
     "text": [
      "\n",
      "\u001b[1m> Finished chain.\u001b[0m\n"
     ]
    }
   ],
   "source": [
    "t_json = llm_pairwise(\n",
    "    df.iloc[0][\"original\"],\n",
    "    df.iloc[0][\"modified\"],\n",
    "    df.iloc[0][\"section\"],\n",
    "    model_name=LLM_JUDGE,\n",
    "    model_params={\n",
    "        \"temperature\": TEMPERATURE,\n",
    "        \"max_tokens\": MAX_TOKENS,\n",
    "        \"model_kwargs\": {\n",
    "            \"seed\": SEED_INIT,\n",
    "        },\n",
    "    },\n",
    "    verbose=True,\n",
    ")"
   ]
  },
  {
   "cell_type": "code",
   "execution_count": 11,
   "id": "22ef42b6-46f5-44ab-87a5-5d22460526fa",
   "metadata": {
    "editable": true,
    "execution": {
     "iopub.execute_input": "2024-03-21T15:09:15.810129Z",
     "iopub.status.busy": "2024-03-21T15:09:15.809592Z",
     "iopub.status.idle": "2024-03-21T15:09:15.813517Z",
     "shell.execute_reply": "2024-03-21T15:09:15.813027Z"
    },
    "papermill": {
     "duration": 0.016568,
     "end_time": "2024-03-21T15:09:15.814728",
     "exception": false,
     "start_time": "2024-03-21T15:09:15.798160",
     "status": "completed"
    },
    "slideshow": {
     "slide_type": ""
    },
    "tags": []
   },
   "outputs": [
    {
     "data": {
      "text/plain": [
       "{'best': 'Paragraph 1',\n",
       " 'rationale': 'Paragraph 1 is slightly better due to a more concise presentation of ideas and a smoother flow in the sequence of information.'}"
      ]
     },
     "execution_count": 11,
     "metadata": {},
     "output_type": "execute_result"
    }
   ],
   "source": [
    "t_json"
   ]
  },
  {
   "cell_type": "code",
   "execution_count": 12,
   "id": "48509fbd-178a-4580-b0bd-45a73ed3399d",
   "metadata": {
    "editable": true,
    "execution": {
     "iopub.execute_input": "2024-03-21T15:09:15.830434Z",
     "iopub.status.busy": "2024-03-21T15:09:15.829977Z",
     "iopub.status.idle": "2024-03-21T15:09:15.833576Z",
     "shell.execute_reply": "2024-03-21T15:09:15.833084Z"
    },
    "papermill": {
     "duration": 0.012739,
     "end_time": "2024-03-21T15:09:15.834775",
     "exception": false,
     "start_time": "2024-03-21T15:09:15.822036",
     "status": "completed"
    },
    "slideshow": {
     "slide_type": ""
    },
    "tags": []
   },
   "outputs": [
    {
     "data": {
      "text/plain": [
       "dict"
      ]
     },
     "execution_count": 12,
     "metadata": {},
     "output_type": "execute_result"
    }
   ],
   "source": [
    "type(t_json)"
   ]
  },
  {
   "cell_type": "markdown",
   "id": "d81ce233-57c0-420d-a104-1d1d1640fc2b",
   "metadata": {
    "editable": true,
    "papermill": {
     "duration": 0.007324,
     "end_time": "2024-03-21T15:09:15.849483",
     "exception": false,
     "start_time": "2024-03-21T15:09:15.842159",
     "status": "completed"
    },
    "slideshow": {
     "slide_type": ""
    },
    "tags": []
   },
   "source": [
    "# Run"
   ]
  },
  {
   "cell_type": "markdown",
   "id": "fc131605-64ef-4cab-b1a6-3bc296bbb03e",
   "metadata": {
    "editable": true,
    "papermill": {
     "duration": 0.007289,
     "end_time": "2024-03-21T15:09:15.864202",
     "exception": false,
     "start_time": "2024-03-21T15:09:15.856913",
     "status": "completed"
    },
    "slideshow": {
     "slide_type": ""
    },
    "tags": []
   },
   "source": [
    "Since models are stochastic, we run the pairwise comparison many times.\n",
    "\n",
    "Here I use a cache to avoid hitting an external API multiple times."
   ]
  },
  {
   "cell_type": "code",
   "execution_count": 13,
   "id": "b2c31f26-cd6b-4e11-a346-3ff6d89ab8c5",
   "metadata": {
    "editable": true,
    "execution": {
     "iopub.execute_input": "2024-03-21T15:09:15.879886Z",
     "iopub.status.busy": "2024-03-21T15:09:15.879553Z",
     "iopub.status.idle": "2024-03-21T15:09:15.882094Z",
     "shell.execute_reply": "2024-03-21T15:09:15.881622Z"
    },
    "papermill": {
     "duration": 0.011668,
     "end_time": "2024-03-21T15:09:15.883278",
     "exception": false,
     "start_time": "2024-03-21T15:09:15.871610",
     "status": "completed"
    },
    "slideshow": {
     "slide_type": ""
    },
    "tags": []
   },
   "outputs": [],
   "source": [
    "results = []"
   ]
  },
  {
   "cell_type": "code",
   "execution_count": 14,
   "id": "5721fab1-c08b-4774-93df-6448c3d8b574",
   "metadata": {
    "editable": true,
    "execution": {
     "iopub.execute_input": "2024-03-21T15:09:15.897857Z",
     "iopub.status.busy": "2024-03-21T15:09:15.897545Z",
     "iopub.status.idle": "2024-03-21T15:31:30.849712Z",
     "shell.execute_reply": "2024-03-21T15:31:30.849168Z"
    },
    "papermill": {
     "duration": 1334.960248,
     "end_time": "2024-03-21T15:31:30.850991",
     "exception": false,
     "start_time": "2024-03-21T15:09:15.890743",
     "status": "completed"
    },
    "slideshow": {
     "slide_type": ""
    },
    "tags": []
   },
   "outputs": [
    {
     "name": "stdout",
     "output_type": "stream",
     "text": [
      "00 (rep0.db): "
     ]
    },
    {
     "name": "stdout",
     "output_type": "stream",
     "text": [
      "."
     ]
    },
    {
     "name": "stdout",
     "output_type": "stream",
     "text": [
      "."
     ]
    },
    {
     "name": "stdout",
     "output_type": "stream",
     "text": [
      "."
     ]
    },
    {
     "name": "stdout",
     "output_type": "stream",
     "text": [
      "."
     ]
    },
    {
     "name": "stdout",
     "output_type": "stream",
     "text": [
      "."
     ]
    },
    {
     "name": "stdout",
     "output_type": "stream",
     "text": [
      "."
     ]
    },
    {
     "name": "stdout",
     "output_type": "stream",
     "text": [
      "."
     ]
    },
    {
     "name": "stdout",
     "output_type": "stream",
     "text": [
      "."
     ]
    },
    {
     "name": "stdout",
     "output_type": "stream",
     "text": [
      "."
     ]
    },
    {
     "name": "stdout",
     "output_type": "stream",
     "text": [
      "."
     ]
    },
    {
     "name": "stdout",
     "output_type": "stream",
     "text": [
      "."
     ]
    },
    {
     "name": "stdout",
     "output_type": "stream",
     "text": [
      "."
     ]
    },
    {
     "name": "stdout",
     "output_type": "stream",
     "text": [
      "."
     ]
    },
    {
     "name": "stdout",
     "output_type": "stream",
     "text": [
      "."
     ]
    },
    {
     "name": "stdout",
     "output_type": "stream",
     "text": [
      "."
     ]
    },
    {
     "name": "stdout",
     "output_type": "stream",
     "text": [
      "."
     ]
    },
    {
     "name": "stdout",
     "output_type": "stream",
     "text": [
      "."
     ]
    },
    {
     "name": "stdout",
     "output_type": "stream",
     "text": [
      "."
     ]
    },
    {
     "name": "stdout",
     "output_type": "stream",
     "text": [
      "."
     ]
    },
    {
     "name": "stdout",
     "output_type": "stream",
     "text": [
      "."
     ]
    },
    {
     "name": "stdout",
     "output_type": "stream",
     "text": [
      "."
     ]
    },
    {
     "name": "stdout",
     "output_type": "stream",
     "text": [
      "."
     ]
    },
    {
     "name": "stdout",
     "output_type": "stream",
     "text": [
      "."
     ]
    },
    {
     "name": "stdout",
     "output_type": "stream",
     "text": [
      "."
     ]
    },
    {
     "name": "stdout",
     "output_type": "stream",
     "text": [
      "."
     ]
    },
    {
     "name": "stdout",
     "output_type": "stream",
     "text": [
      "."
     ]
    },
    {
     "name": "stdout",
     "output_type": "stream",
     "text": [
      "."
     ]
    },
    {
     "name": "stdout",
     "output_type": "stream",
     "text": [
      "."
     ]
    },
    {
     "name": "stdout",
     "output_type": "stream",
     "text": [
      "."
     ]
    },
    {
     "name": "stdout",
     "output_type": "stream",
     "text": [
      "."
     ]
    },
    {
     "name": "stdout",
     "output_type": "stream",
     "text": [
      "."
     ]
    },
    {
     "name": "stdout",
     "output_type": "stream",
     "text": [
      "\n"
     ]
    },
    {
     "name": "stdout",
     "output_type": "stream",
     "text": [
      "01 (rep1.db): "
     ]
    },
    {
     "name": "stdout",
     "output_type": "stream",
     "text": [
      "."
     ]
    },
    {
     "name": "stdout",
     "output_type": "stream",
     "text": [
      "."
     ]
    },
    {
     "name": "stdout",
     "output_type": "stream",
     "text": [
      "."
     ]
    },
    {
     "name": "stdout",
     "output_type": "stream",
     "text": [
      "."
     ]
    },
    {
     "name": "stdout",
     "output_type": "stream",
     "text": [
      "."
     ]
    },
    {
     "name": "stdout",
     "output_type": "stream",
     "text": [
      "."
     ]
    },
    {
     "name": "stdout",
     "output_type": "stream",
     "text": [
      "."
     ]
    },
    {
     "name": "stdout",
     "output_type": "stream",
     "text": [
      "."
     ]
    },
    {
     "name": "stdout",
     "output_type": "stream",
     "text": [
      "."
     ]
    },
    {
     "name": "stdout",
     "output_type": "stream",
     "text": [
      "."
     ]
    },
    {
     "name": "stdout",
     "output_type": "stream",
     "text": [
      "."
     ]
    },
    {
     "name": "stdout",
     "output_type": "stream",
     "text": [
      "."
     ]
    },
    {
     "name": "stdout",
     "output_type": "stream",
     "text": [
      "."
     ]
    },
    {
     "name": "stdout",
     "output_type": "stream",
     "text": [
      "."
     ]
    },
    {
     "name": "stdout",
     "output_type": "stream",
     "text": [
      "."
     ]
    },
    {
     "name": "stdout",
     "output_type": "stream",
     "text": [
      "."
     ]
    },
    {
     "name": "stdout",
     "output_type": "stream",
     "text": [
      "."
     ]
    },
    {
     "name": "stdout",
     "output_type": "stream",
     "text": [
      "."
     ]
    },
    {
     "name": "stdout",
     "output_type": "stream",
     "text": [
      "."
     ]
    },
    {
     "name": "stdout",
     "output_type": "stream",
     "text": [
      "."
     ]
    },
    {
     "name": "stdout",
     "output_type": "stream",
     "text": [
      "."
     ]
    },
    {
     "name": "stdout",
     "output_type": "stream",
     "text": [
      "."
     ]
    },
    {
     "name": "stdout",
     "output_type": "stream",
     "text": [
      "."
     ]
    },
    {
     "name": "stdout",
     "output_type": "stream",
     "text": [
      "."
     ]
    },
    {
     "name": "stdout",
     "output_type": "stream",
     "text": [
      "."
     ]
    },
    {
     "name": "stdout",
     "output_type": "stream",
     "text": [
      "."
     ]
    },
    {
     "name": "stdout",
     "output_type": "stream",
     "text": [
      "."
     ]
    },
    {
     "name": "stdout",
     "output_type": "stream",
     "text": [
      "."
     ]
    },
    {
     "name": "stdout",
     "output_type": "stream",
     "text": [
      "."
     ]
    },
    {
     "name": "stdout",
     "output_type": "stream",
     "text": [
      "."
     ]
    },
    {
     "name": "stdout",
     "output_type": "stream",
     "text": [
      "."
     ]
    },
    {
     "name": "stdout",
     "output_type": "stream",
     "text": [
      "\n"
     ]
    },
    {
     "name": "stdout",
     "output_type": "stream",
     "text": [
      "02 (rep2.db): "
     ]
    },
    {
     "name": "stdout",
     "output_type": "stream",
     "text": [
      "."
     ]
    },
    {
     "name": "stdout",
     "output_type": "stream",
     "text": [
      "."
     ]
    },
    {
     "name": "stdout",
     "output_type": "stream",
     "text": [
      "."
     ]
    },
    {
     "name": "stdout",
     "output_type": "stream",
     "text": [
      "."
     ]
    },
    {
     "name": "stdout",
     "output_type": "stream",
     "text": [
      "."
     ]
    },
    {
     "name": "stdout",
     "output_type": "stream",
     "text": [
      "."
     ]
    },
    {
     "name": "stdout",
     "output_type": "stream",
     "text": [
      "."
     ]
    },
    {
     "name": "stdout",
     "output_type": "stream",
     "text": [
      "."
     ]
    },
    {
     "name": "stdout",
     "output_type": "stream",
     "text": [
      "."
     ]
    },
    {
     "name": "stdout",
     "output_type": "stream",
     "text": [
      "."
     ]
    },
    {
     "name": "stdout",
     "output_type": "stream",
     "text": [
      "."
     ]
    },
    {
     "name": "stdout",
     "output_type": "stream",
     "text": [
      "."
     ]
    },
    {
     "name": "stdout",
     "output_type": "stream",
     "text": [
      "."
     ]
    },
    {
     "name": "stdout",
     "output_type": "stream",
     "text": [
      "."
     ]
    },
    {
     "name": "stdout",
     "output_type": "stream",
     "text": [
      "."
     ]
    },
    {
     "name": "stdout",
     "output_type": "stream",
     "text": [
      "."
     ]
    },
    {
     "name": "stdout",
     "output_type": "stream",
     "text": [
      "."
     ]
    },
    {
     "name": "stdout",
     "output_type": "stream",
     "text": [
      "."
     ]
    },
    {
     "name": "stdout",
     "output_type": "stream",
     "text": [
      "."
     ]
    },
    {
     "name": "stdout",
     "output_type": "stream",
     "text": [
      "."
     ]
    },
    {
     "name": "stdout",
     "output_type": "stream",
     "text": [
      "."
     ]
    },
    {
     "name": "stdout",
     "output_type": "stream",
     "text": [
      "."
     ]
    },
    {
     "name": "stdout",
     "output_type": "stream",
     "text": [
      "."
     ]
    },
    {
     "name": "stdout",
     "output_type": "stream",
     "text": [
      "."
     ]
    },
    {
     "name": "stdout",
     "output_type": "stream",
     "text": [
      "."
     ]
    },
    {
     "name": "stdout",
     "output_type": "stream",
     "text": [
      "."
     ]
    },
    {
     "name": "stdout",
     "output_type": "stream",
     "text": [
      "."
     ]
    },
    {
     "name": "stdout",
     "output_type": "stream",
     "text": [
      "."
     ]
    },
    {
     "name": "stdout",
     "output_type": "stream",
     "text": [
      "."
     ]
    },
    {
     "name": "stdout",
     "output_type": "stream",
     "text": [
      "."
     ]
    },
    {
     "name": "stdout",
     "output_type": "stream",
     "text": [
      "."
     ]
    },
    {
     "name": "stdout",
     "output_type": "stream",
     "text": [
      "\n"
     ]
    },
    {
     "name": "stdout",
     "output_type": "stream",
     "text": [
      "03 (rep3.db): "
     ]
    },
    {
     "name": "stdout",
     "output_type": "stream",
     "text": [
      "."
     ]
    },
    {
     "name": "stdout",
     "output_type": "stream",
     "text": [
      "."
     ]
    },
    {
     "name": "stdout",
     "output_type": "stream",
     "text": [
      "."
     ]
    },
    {
     "name": "stdout",
     "output_type": "stream",
     "text": [
      "."
     ]
    },
    {
     "name": "stdout",
     "output_type": "stream",
     "text": [
      "."
     ]
    },
    {
     "name": "stdout",
     "output_type": "stream",
     "text": [
      "."
     ]
    },
    {
     "name": "stdout",
     "output_type": "stream",
     "text": [
      "."
     ]
    },
    {
     "name": "stdout",
     "output_type": "stream",
     "text": [
      "."
     ]
    },
    {
     "name": "stdout",
     "output_type": "stream",
     "text": [
      "."
     ]
    },
    {
     "name": "stdout",
     "output_type": "stream",
     "text": [
      "."
     ]
    },
    {
     "name": "stdout",
     "output_type": "stream",
     "text": [
      "."
     ]
    },
    {
     "name": "stdout",
     "output_type": "stream",
     "text": [
      "."
     ]
    },
    {
     "name": "stdout",
     "output_type": "stream",
     "text": [
      "."
     ]
    },
    {
     "name": "stdout",
     "output_type": "stream",
     "text": [
      "."
     ]
    },
    {
     "name": "stdout",
     "output_type": "stream",
     "text": [
      "."
     ]
    },
    {
     "name": "stdout",
     "output_type": "stream",
     "text": [
      "."
     ]
    },
    {
     "name": "stdout",
     "output_type": "stream",
     "text": [
      "."
     ]
    },
    {
     "name": "stdout",
     "output_type": "stream",
     "text": [
      "."
     ]
    },
    {
     "name": "stdout",
     "output_type": "stream",
     "text": [
      "."
     ]
    },
    {
     "name": "stdout",
     "output_type": "stream",
     "text": [
      "."
     ]
    },
    {
     "name": "stdout",
     "output_type": "stream",
     "text": [
      "."
     ]
    },
    {
     "name": "stdout",
     "output_type": "stream",
     "text": [
      "."
     ]
    },
    {
     "name": "stdout",
     "output_type": "stream",
     "text": [
      "."
     ]
    },
    {
     "name": "stdout",
     "output_type": "stream",
     "text": [
      "."
     ]
    },
    {
     "name": "stdout",
     "output_type": "stream",
     "text": [
      "."
     ]
    },
    {
     "name": "stdout",
     "output_type": "stream",
     "text": [
      "."
     ]
    },
    {
     "name": "stdout",
     "output_type": "stream",
     "text": [
      "."
     ]
    },
    {
     "name": "stdout",
     "output_type": "stream",
     "text": [
      "."
     ]
    },
    {
     "name": "stdout",
     "output_type": "stream",
     "text": [
      "."
     ]
    },
    {
     "name": "stdout",
     "output_type": "stream",
     "text": [
      "."
     ]
    },
    {
     "name": "stdout",
     "output_type": "stream",
     "text": [
      "."
     ]
    },
    {
     "name": "stdout",
     "output_type": "stream",
     "text": [
      "\n"
     ]
    },
    {
     "name": "stdout",
     "output_type": "stream",
     "text": [
      "04 (rep4.db): "
     ]
    },
    {
     "name": "stdout",
     "output_type": "stream",
     "text": [
      "."
     ]
    },
    {
     "name": "stdout",
     "output_type": "stream",
     "text": [
      "."
     ]
    },
    {
     "name": "stdout",
     "output_type": "stream",
     "text": [
      "."
     ]
    },
    {
     "name": "stdout",
     "output_type": "stream",
     "text": [
      "."
     ]
    },
    {
     "name": "stdout",
     "output_type": "stream",
     "text": [
      "."
     ]
    },
    {
     "name": "stdout",
     "output_type": "stream",
     "text": [
      "."
     ]
    },
    {
     "name": "stdout",
     "output_type": "stream",
     "text": [
      "."
     ]
    },
    {
     "name": "stdout",
     "output_type": "stream",
     "text": [
      "."
     ]
    },
    {
     "name": "stdout",
     "output_type": "stream",
     "text": [
      "."
     ]
    },
    {
     "name": "stdout",
     "output_type": "stream",
     "text": [
      "."
     ]
    },
    {
     "name": "stdout",
     "output_type": "stream",
     "text": [
      "."
     ]
    },
    {
     "name": "stdout",
     "output_type": "stream",
     "text": [
      "."
     ]
    },
    {
     "name": "stdout",
     "output_type": "stream",
     "text": [
      "."
     ]
    },
    {
     "name": "stdout",
     "output_type": "stream",
     "text": [
      "."
     ]
    },
    {
     "name": "stdout",
     "output_type": "stream",
     "text": [
      "."
     ]
    },
    {
     "name": "stdout",
     "output_type": "stream",
     "text": [
      "."
     ]
    },
    {
     "name": "stdout",
     "output_type": "stream",
     "text": [
      "."
     ]
    },
    {
     "name": "stdout",
     "output_type": "stream",
     "text": [
      "."
     ]
    },
    {
     "name": "stdout",
     "output_type": "stream",
     "text": [
      "."
     ]
    },
    {
     "name": "stdout",
     "output_type": "stream",
     "text": [
      "."
     ]
    },
    {
     "name": "stdout",
     "output_type": "stream",
     "text": [
      "."
     ]
    },
    {
     "name": "stdout",
     "output_type": "stream",
     "text": [
      "."
     ]
    },
    {
     "name": "stdout",
     "output_type": "stream",
     "text": [
      "."
     ]
    },
    {
     "name": "stdout",
     "output_type": "stream",
     "text": [
      "."
     ]
    },
    {
     "name": "stdout",
     "output_type": "stream",
     "text": [
      "."
     ]
    },
    {
     "name": "stdout",
     "output_type": "stream",
     "text": [
      "."
     ]
    },
    {
     "name": "stdout",
     "output_type": "stream",
     "text": [
      "."
     ]
    },
    {
     "name": "stdout",
     "output_type": "stream",
     "text": [
      "."
     ]
    },
    {
     "name": "stdout",
     "output_type": "stream",
     "text": [
      "."
     ]
    },
    {
     "name": "stdout",
     "output_type": "stream",
     "text": [
      "."
     ]
    },
    {
     "name": "stdout",
     "output_type": "stream",
     "text": [
      "."
     ]
    },
    {
     "name": "stdout",
     "output_type": "stream",
     "text": [
      "\n"
     ]
    },
    {
     "name": "stdout",
     "output_type": "stream",
     "text": [
      "05 (rep5.db): "
     ]
    },
    {
     "name": "stdout",
     "output_type": "stream",
     "text": [
      "."
     ]
    },
    {
     "name": "stdout",
     "output_type": "stream",
     "text": [
      "."
     ]
    },
    {
     "name": "stdout",
     "output_type": "stream",
     "text": [
      "."
     ]
    },
    {
     "name": "stdout",
     "output_type": "stream",
     "text": [
      "."
     ]
    },
    {
     "name": "stdout",
     "output_type": "stream",
     "text": [
      "."
     ]
    },
    {
     "name": "stdout",
     "output_type": "stream",
     "text": [
      "."
     ]
    },
    {
     "name": "stdout",
     "output_type": "stream",
     "text": [
      "."
     ]
    },
    {
     "name": "stdout",
     "output_type": "stream",
     "text": [
      "."
     ]
    },
    {
     "name": "stdout",
     "output_type": "stream",
     "text": [
      "."
     ]
    },
    {
     "name": "stdout",
     "output_type": "stream",
     "text": [
      "."
     ]
    },
    {
     "name": "stdout",
     "output_type": "stream",
     "text": [
      "."
     ]
    },
    {
     "name": "stdout",
     "output_type": "stream",
     "text": [
      "."
     ]
    },
    {
     "name": "stdout",
     "output_type": "stream",
     "text": [
      "."
     ]
    },
    {
     "name": "stdout",
     "output_type": "stream",
     "text": [
      "."
     ]
    },
    {
     "name": "stdout",
     "output_type": "stream",
     "text": [
      "."
     ]
    },
    {
     "name": "stdout",
     "output_type": "stream",
     "text": [
      "."
     ]
    },
    {
     "name": "stdout",
     "output_type": "stream",
     "text": [
      "."
     ]
    },
    {
     "name": "stdout",
     "output_type": "stream",
     "text": [
      "."
     ]
    },
    {
     "name": "stdout",
     "output_type": "stream",
     "text": [
      "."
     ]
    },
    {
     "name": "stdout",
     "output_type": "stream",
     "text": [
      "."
     ]
    },
    {
     "name": "stdout",
     "output_type": "stream",
     "text": [
      "."
     ]
    },
    {
     "name": "stdout",
     "output_type": "stream",
     "text": [
      "."
     ]
    },
    {
     "name": "stdout",
     "output_type": "stream",
     "text": [
      "."
     ]
    },
    {
     "name": "stdout",
     "output_type": "stream",
     "text": [
      "."
     ]
    },
    {
     "name": "stdout",
     "output_type": "stream",
     "text": [
      "."
     ]
    },
    {
     "name": "stdout",
     "output_type": "stream",
     "text": [
      "."
     ]
    },
    {
     "name": "stdout",
     "output_type": "stream",
     "text": [
      "."
     ]
    },
    {
     "name": "stdout",
     "output_type": "stream",
     "text": [
      "."
     ]
    },
    {
     "name": "stdout",
     "output_type": "stream",
     "text": [
      "."
     ]
    },
    {
     "name": "stdout",
     "output_type": "stream",
     "text": [
      "."
     ]
    },
    {
     "name": "stdout",
     "output_type": "stream",
     "text": [
      "."
     ]
    },
    {
     "name": "stdout",
     "output_type": "stream",
     "text": [
      "\n"
     ]
    },
    {
     "name": "stdout",
     "output_type": "stream",
     "text": [
      "06 (rep6.db): "
     ]
    },
    {
     "name": "stdout",
     "output_type": "stream",
     "text": [
      "."
     ]
    },
    {
     "name": "stdout",
     "output_type": "stream",
     "text": [
      "."
     ]
    },
    {
     "name": "stdout",
     "output_type": "stream",
     "text": [
      "."
     ]
    },
    {
     "name": "stdout",
     "output_type": "stream",
     "text": [
      "."
     ]
    },
    {
     "name": "stdout",
     "output_type": "stream",
     "text": [
      "."
     ]
    },
    {
     "name": "stdout",
     "output_type": "stream",
     "text": [
      "."
     ]
    },
    {
     "name": "stdout",
     "output_type": "stream",
     "text": [
      "."
     ]
    },
    {
     "name": "stdout",
     "output_type": "stream",
     "text": [
      "."
     ]
    },
    {
     "name": "stdout",
     "output_type": "stream",
     "text": [
      "."
     ]
    },
    {
     "name": "stdout",
     "output_type": "stream",
     "text": [
      "."
     ]
    },
    {
     "name": "stdout",
     "output_type": "stream",
     "text": [
      "."
     ]
    },
    {
     "name": "stdout",
     "output_type": "stream",
     "text": [
      "."
     ]
    },
    {
     "name": "stdout",
     "output_type": "stream",
     "text": [
      "."
     ]
    },
    {
     "name": "stdout",
     "output_type": "stream",
     "text": [
      "."
     ]
    },
    {
     "name": "stdout",
     "output_type": "stream",
     "text": [
      "."
     ]
    },
    {
     "name": "stdout",
     "output_type": "stream",
     "text": [
      "."
     ]
    },
    {
     "name": "stdout",
     "output_type": "stream",
     "text": [
      "."
     ]
    },
    {
     "name": "stdout",
     "output_type": "stream",
     "text": [
      "."
     ]
    },
    {
     "name": "stdout",
     "output_type": "stream",
     "text": [
      "."
     ]
    },
    {
     "name": "stdout",
     "output_type": "stream",
     "text": [
      "."
     ]
    },
    {
     "name": "stdout",
     "output_type": "stream",
     "text": [
      "."
     ]
    },
    {
     "name": "stdout",
     "output_type": "stream",
     "text": [
      "."
     ]
    },
    {
     "name": "stdout",
     "output_type": "stream",
     "text": [
      "."
     ]
    },
    {
     "name": "stdout",
     "output_type": "stream",
     "text": [
      "."
     ]
    },
    {
     "name": "stdout",
     "output_type": "stream",
     "text": [
      "."
     ]
    },
    {
     "name": "stdout",
     "output_type": "stream",
     "text": [
      "."
     ]
    },
    {
     "name": "stdout",
     "output_type": "stream",
     "text": [
      "."
     ]
    },
    {
     "name": "stdout",
     "output_type": "stream",
     "text": [
      "."
     ]
    },
    {
     "name": "stdout",
     "output_type": "stream",
     "text": [
      "."
     ]
    },
    {
     "name": "stdout",
     "output_type": "stream",
     "text": [
      "."
     ]
    },
    {
     "name": "stdout",
     "output_type": "stream",
     "text": [
      "."
     ]
    },
    {
     "name": "stdout",
     "output_type": "stream",
     "text": [
      "\n"
     ]
    },
    {
     "name": "stdout",
     "output_type": "stream",
     "text": [
      "07 (rep7.db): "
     ]
    },
    {
     "name": "stdout",
     "output_type": "stream",
     "text": [
      "."
     ]
    },
    {
     "name": "stdout",
     "output_type": "stream",
     "text": [
      "."
     ]
    },
    {
     "name": "stdout",
     "output_type": "stream",
     "text": [
      "."
     ]
    },
    {
     "name": "stdout",
     "output_type": "stream",
     "text": [
      "."
     ]
    },
    {
     "name": "stdout",
     "output_type": "stream",
     "text": [
      "."
     ]
    },
    {
     "name": "stdout",
     "output_type": "stream",
     "text": [
      "."
     ]
    },
    {
     "name": "stdout",
     "output_type": "stream",
     "text": [
      "."
     ]
    },
    {
     "name": "stdout",
     "output_type": "stream",
     "text": [
      "."
     ]
    },
    {
     "name": "stdout",
     "output_type": "stream",
     "text": [
      "."
     ]
    },
    {
     "name": "stdout",
     "output_type": "stream",
     "text": [
      "."
     ]
    },
    {
     "name": "stdout",
     "output_type": "stream",
     "text": [
      "."
     ]
    },
    {
     "name": "stdout",
     "output_type": "stream",
     "text": [
      "."
     ]
    },
    {
     "name": "stdout",
     "output_type": "stream",
     "text": [
      "."
     ]
    },
    {
     "name": "stdout",
     "output_type": "stream",
     "text": [
      "."
     ]
    },
    {
     "name": "stdout",
     "output_type": "stream",
     "text": [
      "."
     ]
    },
    {
     "name": "stdout",
     "output_type": "stream",
     "text": [
      "."
     ]
    },
    {
     "name": "stdout",
     "output_type": "stream",
     "text": [
      "."
     ]
    },
    {
     "name": "stdout",
     "output_type": "stream",
     "text": [
      "."
     ]
    },
    {
     "name": "stdout",
     "output_type": "stream",
     "text": [
      "."
     ]
    },
    {
     "name": "stdout",
     "output_type": "stream",
     "text": [
      "."
     ]
    },
    {
     "name": "stdout",
     "output_type": "stream",
     "text": [
      "."
     ]
    },
    {
     "name": "stdout",
     "output_type": "stream",
     "text": [
      "."
     ]
    },
    {
     "name": "stdout",
     "output_type": "stream",
     "text": [
      "."
     ]
    },
    {
     "name": "stdout",
     "output_type": "stream",
     "text": [
      "."
     ]
    },
    {
     "name": "stdout",
     "output_type": "stream",
     "text": [
      "."
     ]
    },
    {
     "name": "stdout",
     "output_type": "stream",
     "text": [
      "."
     ]
    },
    {
     "name": "stdout",
     "output_type": "stream",
     "text": [
      "."
     ]
    },
    {
     "name": "stdout",
     "output_type": "stream",
     "text": [
      "."
     ]
    },
    {
     "name": "stdout",
     "output_type": "stream",
     "text": [
      "."
     ]
    },
    {
     "name": "stdout",
     "output_type": "stream",
     "text": [
      "."
     ]
    },
    {
     "name": "stdout",
     "output_type": "stream",
     "text": [
      "."
     ]
    },
    {
     "name": "stdout",
     "output_type": "stream",
     "text": [
      "\n"
     ]
    },
    {
     "name": "stdout",
     "output_type": "stream",
     "text": [
      "08 (rep8.db): "
     ]
    },
    {
     "name": "stdout",
     "output_type": "stream",
     "text": [
      "."
     ]
    },
    {
     "name": "stdout",
     "output_type": "stream",
     "text": [
      "."
     ]
    },
    {
     "name": "stdout",
     "output_type": "stream",
     "text": [
      "."
     ]
    },
    {
     "name": "stdout",
     "output_type": "stream",
     "text": [
      "."
     ]
    },
    {
     "name": "stdout",
     "output_type": "stream",
     "text": [
      "."
     ]
    },
    {
     "name": "stdout",
     "output_type": "stream",
     "text": [
      "."
     ]
    },
    {
     "name": "stdout",
     "output_type": "stream",
     "text": [
      "."
     ]
    },
    {
     "name": "stdout",
     "output_type": "stream",
     "text": [
      "."
     ]
    },
    {
     "name": "stdout",
     "output_type": "stream",
     "text": [
      "."
     ]
    },
    {
     "name": "stdout",
     "output_type": "stream",
     "text": [
      "."
     ]
    },
    {
     "name": "stdout",
     "output_type": "stream",
     "text": [
      "."
     ]
    },
    {
     "name": "stdout",
     "output_type": "stream",
     "text": [
      "."
     ]
    },
    {
     "name": "stdout",
     "output_type": "stream",
     "text": [
      "."
     ]
    },
    {
     "name": "stdout",
     "output_type": "stream",
     "text": [
      "."
     ]
    },
    {
     "name": "stdout",
     "output_type": "stream",
     "text": [
      "."
     ]
    },
    {
     "name": "stdout",
     "output_type": "stream",
     "text": [
      "."
     ]
    },
    {
     "name": "stdout",
     "output_type": "stream",
     "text": [
      "."
     ]
    },
    {
     "name": "stdout",
     "output_type": "stream",
     "text": [
      "."
     ]
    },
    {
     "name": "stdout",
     "output_type": "stream",
     "text": [
      "."
     ]
    },
    {
     "name": "stdout",
     "output_type": "stream",
     "text": [
      "."
     ]
    },
    {
     "name": "stdout",
     "output_type": "stream",
     "text": [
      "."
     ]
    },
    {
     "name": "stdout",
     "output_type": "stream",
     "text": [
      "."
     ]
    },
    {
     "name": "stdout",
     "output_type": "stream",
     "text": [
      "."
     ]
    },
    {
     "name": "stdout",
     "output_type": "stream",
     "text": [
      "."
     ]
    },
    {
     "name": "stdout",
     "output_type": "stream",
     "text": [
      "."
     ]
    },
    {
     "name": "stdout",
     "output_type": "stream",
     "text": [
      "."
     ]
    },
    {
     "name": "stdout",
     "output_type": "stream",
     "text": [
      "."
     ]
    },
    {
     "name": "stdout",
     "output_type": "stream",
     "text": [
      "."
     ]
    },
    {
     "name": "stdout",
     "output_type": "stream",
     "text": [
      "."
     ]
    },
    {
     "name": "stdout",
     "output_type": "stream",
     "text": [
      "."
     ]
    },
    {
     "name": "stdout",
     "output_type": "stream",
     "text": [
      "."
     ]
    },
    {
     "name": "stdout",
     "output_type": "stream",
     "text": [
      "\n"
     ]
    },
    {
     "name": "stdout",
     "output_type": "stream",
     "text": [
      "09 (rep9.db): "
     ]
    },
    {
     "name": "stdout",
     "output_type": "stream",
     "text": [
      "."
     ]
    },
    {
     "name": "stdout",
     "output_type": "stream",
     "text": [
      "."
     ]
    },
    {
     "name": "stdout",
     "output_type": "stream",
     "text": [
      "."
     ]
    },
    {
     "name": "stdout",
     "output_type": "stream",
     "text": [
      "."
     ]
    },
    {
     "name": "stdout",
     "output_type": "stream",
     "text": [
      "."
     ]
    },
    {
     "name": "stdout",
     "output_type": "stream",
     "text": [
      "."
     ]
    },
    {
     "name": "stdout",
     "output_type": "stream",
     "text": [
      "."
     ]
    },
    {
     "name": "stdout",
     "output_type": "stream",
     "text": [
      "."
     ]
    },
    {
     "name": "stdout",
     "output_type": "stream",
     "text": [
      "."
     ]
    },
    {
     "name": "stdout",
     "output_type": "stream",
     "text": [
      "."
     ]
    },
    {
     "name": "stdout",
     "output_type": "stream",
     "text": [
      "."
     ]
    },
    {
     "name": "stdout",
     "output_type": "stream",
     "text": [
      "."
     ]
    },
    {
     "name": "stdout",
     "output_type": "stream",
     "text": [
      "."
     ]
    },
    {
     "name": "stdout",
     "output_type": "stream",
     "text": [
      "."
     ]
    },
    {
     "name": "stdout",
     "output_type": "stream",
     "text": [
      "."
     ]
    },
    {
     "name": "stdout",
     "output_type": "stream",
     "text": [
      "."
     ]
    },
    {
     "name": "stdout",
     "output_type": "stream",
     "text": [
      "."
     ]
    },
    {
     "name": "stdout",
     "output_type": "stream",
     "text": [
      "."
     ]
    },
    {
     "name": "stdout",
     "output_type": "stream",
     "text": [
      "."
     ]
    },
    {
     "name": "stdout",
     "output_type": "stream",
     "text": [
      "."
     ]
    },
    {
     "name": "stdout",
     "output_type": "stream",
     "text": [
      "."
     ]
    },
    {
     "name": "stdout",
     "output_type": "stream",
     "text": [
      "."
     ]
    },
    {
     "name": "stdout",
     "output_type": "stream",
     "text": [
      "."
     ]
    },
    {
     "name": "stdout",
     "output_type": "stream",
     "text": [
      "."
     ]
    },
    {
     "name": "stdout",
     "output_type": "stream",
     "text": [
      "."
     ]
    },
    {
     "name": "stdout",
     "output_type": "stream",
     "text": [
      "."
     ]
    },
    {
     "name": "stdout",
     "output_type": "stream",
     "text": [
      "."
     ]
    },
    {
     "name": "stdout",
     "output_type": "stream",
     "text": [
      "."
     ]
    },
    {
     "name": "stdout",
     "output_type": "stream",
     "text": [
      "."
     ]
    },
    {
     "name": "stdout",
     "output_type": "stream",
     "text": [
      "."
     ]
    },
    {
     "name": "stdout",
     "output_type": "stream",
     "text": [
      "."
     ]
    },
    {
     "name": "stdout",
     "output_type": "stream",
     "text": [
      "\n"
     ]
    }
   ],
   "source": [
    "for rep_idx in range(N_REPS):\n",
    "    # we cache prompt/results by repetition\n",
    "    output_cache_file = conf.common.LLM_CACHE_DIR / f\"rep{rep_idx}.db\"\n",
    "    set_llm_cache(SQLiteCache(database_path=str(output_cache_file)))\n",
    "\n",
    "    print(f\"{str(rep_idx).zfill(2)} ({output_cache_file.name}): \", end=\"\", flush=True)\n",
    "\n",
    "    for par_idx, par in df.iterrows():\n",
    "        print(\".\", end=\"\", flush=True)\n",
    "\n",
    "        res = llm_pairwise(\n",
    "            par[\"original\"],\n",
    "            par[\"modified\"],\n",
    "            par[\"section\"],\n",
    "            model_name=LLM_JUDGE,\n",
    "            model_params={\n",
    "                \"temperature\": TEMPERATURE,\n",
    "                \"max_tokens\": MAX_TOKENS,\n",
    "                \"model_kwargs\": {\n",
    "                    \"seed\": SEED_INIT + rep_idx,\n",
    "                },\n",
    "            },\n",
    "            verbose=False,\n",
    "        )\n",
    "\n",
    "        results.append(\n",
    "            {\n",
    "                \"rep_index\": rep_idx,\n",
    "                \"paragraph_index\": par_idx,\n",
    "                \"paragraph_section\": par[\"section\"],\n",
    "                \"winner\": res[\"best\"],\n",
    "                \"rationale\": res[\"rationale\"],\n",
    "            }\n",
    "        )\n",
    "\n",
    "    print(flush=True)"
   ]
  },
  {
   "cell_type": "markdown",
   "id": "6382932d-85d3-48f9-8a10-59709278f3b3",
   "metadata": {
    "editable": true,
    "papermill": {
     "duration": 0.024659,
     "end_time": "2024-03-21T15:31:30.900940",
     "exception": false,
     "start_time": "2024-03-21T15:31:30.876281",
     "status": "completed"
    },
    "slideshow": {
     "slide_type": ""
    },
    "tags": []
   },
   "source": [
    "# Process results"
   ]
  },
  {
   "cell_type": "code",
   "execution_count": 15,
   "id": "b3462b66-4958-44fa-aa96-2bd6c867dc97",
   "metadata": {
    "editable": true,
    "execution": {
     "iopub.execute_input": "2024-03-21T15:31:31.189940Z",
     "iopub.status.busy": "2024-03-21T15:31:31.189771Z",
     "iopub.status.idle": "2024-03-21T15:31:31.192443Z",
     "shell.execute_reply": "2024-03-21T15:31:31.192003Z"
    },
    "papermill": {
     "duration": 0.267628,
     "end_time": "2024-03-21T15:31:31.193362",
     "exception": false,
     "start_time": "2024-03-21T15:31:30.925734",
     "status": "completed"
    },
    "slideshow": {
     "slide_type": ""
    },
    "tags": []
   },
   "outputs": [],
   "source": [
    "winner_matchings = {\n",
    "    \"Paragraph A\": \"-1\",  # Original\n",
    "    \"Paragraph 1\": \"1\",  # Modified\n",
    "    \"tie\": \"0\",\n",
    "}"
   ]
  },
  {
   "cell_type": "code",
   "execution_count": 16,
   "id": "23c26bfc-51eb-46ac-aeb4-f5cd8b147ada",
   "metadata": {
    "execution": {
     "iopub.execute_input": "2024-03-21T15:31:31.233765Z",
     "iopub.status.busy": "2024-03-21T15:31:31.233654Z",
     "iopub.status.idle": "2024-03-21T15:31:31.236591Z",
     "shell.execute_reply": "2024-03-21T15:31:31.236233Z"
    },
    "papermill": {
     "duration": 0.024456,
     "end_time": "2024-03-21T15:31:31.237437",
     "exception": false,
     "start_time": "2024-03-21T15:31:31.212981",
     "status": "completed"
    },
    "tags": []
   },
   "outputs": [],
   "source": [
    "df_results = pd.DataFrame(results)"
   ]
  },
  {
   "cell_type": "code",
   "execution_count": 17,
   "id": "06097641-09ba-4c68-a237-21e6f80a700a",
   "metadata": {
    "execution": {
     "iopub.execute_input": "2024-03-21T15:31:31.278959Z",
     "iopub.status.busy": "2024-03-21T15:31:31.278415Z",
     "iopub.status.idle": "2024-03-21T15:31:31.282825Z",
     "shell.execute_reply": "2024-03-21T15:31:31.282229Z"
    },
    "papermill": {
     "duration": 0.026263,
     "end_time": "2024-03-21T15:31:31.283751",
     "exception": false,
     "start_time": "2024-03-21T15:31:31.257488",
     "status": "completed"
    },
    "tags": []
   },
   "outputs": [
    {
     "data": {
      "text/plain": [
       "(310, 5)"
      ]
     },
     "execution_count": 17,
     "metadata": {},
     "output_type": "execute_result"
    }
   ],
   "source": [
    "df_results.shape"
   ]
  },
  {
   "cell_type": "code",
   "execution_count": 18,
   "id": "0e700042-29de-40a0-9fa6-fcfdecd0c25c",
   "metadata": {
    "execution": {
     "iopub.execute_input": "2024-03-21T15:31:31.316484Z",
     "iopub.status.busy": "2024-03-21T15:31:31.316001Z",
     "iopub.status.idle": "2024-03-21T15:31:31.323558Z",
     "shell.execute_reply": "2024-03-21T15:31:31.323098Z"
    },
    "papermill": {
     "duration": 0.027252,
     "end_time": "2024-03-21T15:31:31.324397",
     "exception": false,
     "start_time": "2024-03-21T15:31:31.297145",
     "status": "completed"
    },
    "tags": []
   },
   "outputs": [
    {
     "data": {
      "text/html": [
       "<div>\n",
       "<style scoped>\n",
       "    .dataframe tbody tr th:only-of-type {\n",
       "        vertical-align: middle;\n",
       "    }\n",
       "\n",
       "    .dataframe tbody tr th {\n",
       "        vertical-align: top;\n",
       "    }\n",
       "\n",
       "    .dataframe thead th {\n",
       "        text-align: right;\n",
       "    }\n",
       "</style>\n",
       "<table border=\"1\" class=\"dataframe\">\n",
       "  <thead>\n",
       "    <tr style=\"text-align: right;\">\n",
       "      <th></th>\n",
       "      <th>rep_index</th>\n",
       "      <th>paragraph_index</th>\n",
       "      <th>paragraph_section</th>\n",
       "      <th>winner</th>\n",
       "      <th>rationale</th>\n",
       "    </tr>\n",
       "  </thead>\n",
       "  <tbody>\n",
       "    <tr>\n",
       "      <th>0</th>\n",
       "      <td>0</td>\n",
       "      <td>0</td>\n",
       "      <td>abstract</td>\n",
       "      <td>tie</td>\n",
       "      <td>Both paragraphs exhibit clear sentence structu...</td>\n",
       "    </tr>\n",
       "    <tr>\n",
       "      <th>1</th>\n",
       "      <td>0</td>\n",
       "      <td>1</td>\n",
       "      <td>introduction</td>\n",
       "      <td>tie</td>\n",
       "      <td>Both paragraphs exhibit clear sentence structu...</td>\n",
       "    </tr>\n",
       "    <tr>\n",
       "      <th>2</th>\n",
       "      <td>0</td>\n",
       "      <td>2</td>\n",
       "      <td>introduction</td>\n",
       "      <td>Paragraph 1</td>\n",
       "      <td>Both paragraphs exhibit clear sentence structu...</td>\n",
       "    </tr>\n",
       "    <tr>\n",
       "      <th>3</th>\n",
       "      <td>0</td>\n",
       "      <td>3</td>\n",
       "      <td>introduction</td>\n",
       "      <td>Paragraph 1</td>\n",
       "      <td>Paragraph 1 is slightly better as it contains ...</td>\n",
       "    </tr>\n",
       "    <tr>\n",
       "      <th>4</th>\n",
       "      <td>0</td>\n",
       "      <td>4</td>\n",
       "      <td>results</td>\n",
       "      <td>Paragraph A</td>\n",
       "      <td>Paragraph A has a slightly clearer sentence st...</td>\n",
       "    </tr>\n",
       "  </tbody>\n",
       "</table>\n",
       "</div>"
      ],
      "text/plain": [
       "   rep_index  paragraph_index paragraph_section       winner  \\\n",
       "0          0                0          abstract          tie   \n",
       "1          0                1      introduction          tie   \n",
       "2          0                2      introduction  Paragraph 1   \n",
       "3          0                3      introduction  Paragraph 1   \n",
       "4          0                4           results  Paragraph A   \n",
       "\n",
       "                                           rationale  \n",
       "0  Both paragraphs exhibit clear sentence structu...  \n",
       "1  Both paragraphs exhibit clear sentence structu...  \n",
       "2  Both paragraphs exhibit clear sentence structu...  \n",
       "3  Paragraph 1 is slightly better as it contains ...  \n",
       "4  Paragraph A has a slightly clearer sentence st...  "
      ]
     },
     "execution_count": 18,
     "metadata": {},
     "output_type": "execute_result"
    }
   ],
   "source": [
    "df_results.head()"
   ]
  },
  {
   "cell_type": "code",
   "execution_count": 19,
   "id": "103a3ada-1a24-4b86-8477-bc34330314e3",
   "metadata": {
    "execution": {
     "iopub.execute_input": "2024-03-21T15:31:31.352071Z",
     "iopub.status.busy": "2024-03-21T15:31:31.351664Z",
     "iopub.status.idle": "2024-03-21T15:31:31.355125Z",
     "shell.execute_reply": "2024-03-21T15:31:31.354626Z"
    },
    "papermill": {
     "duration": 0.018262,
     "end_time": "2024-03-21T15:31:31.355874",
     "exception": false,
     "start_time": "2024-03-21T15:31:31.337612",
     "status": "completed"
    },
    "tags": []
   },
   "outputs": [],
   "source": [
    "df_results = df_results[df_results[\"winner\"].isin(winner_matchings.keys())]"
   ]
  },
  {
   "cell_type": "code",
   "execution_count": 20,
   "id": "6c4b0e99-e2b8-47c6-a4b1-6ed8e74d8031",
   "metadata": {
    "execution": {
     "iopub.execute_input": "2024-03-21T15:31:31.383498Z",
     "iopub.status.busy": "2024-03-21T15:31:31.383086Z",
     "iopub.status.idle": "2024-03-21T15:31:31.386721Z",
     "shell.execute_reply": "2024-03-21T15:31:31.386241Z"
    },
    "papermill": {
     "duration": 0.018308,
     "end_time": "2024-03-21T15:31:31.387501",
     "exception": false,
     "start_time": "2024-03-21T15:31:31.369193",
     "status": "completed"
    },
    "tags": []
   },
   "outputs": [
    {
     "data": {
      "text/plain": [
       "(310, 5)"
      ]
     },
     "execution_count": 20,
     "metadata": {},
     "output_type": "execute_result"
    }
   ],
   "source": [
    "df_results.shape"
   ]
  },
  {
   "cell_type": "code",
   "execution_count": 21,
   "id": "b2b65209-a402-4a71-8eae-593dc3927381",
   "metadata": {
    "editable": true,
    "execution": {
     "iopub.execute_input": "2024-03-21T15:31:31.415159Z",
     "iopub.status.busy": "2024-03-21T15:31:31.414759Z",
     "iopub.status.idle": "2024-03-21T15:31:31.418977Z",
     "shell.execute_reply": "2024-03-21T15:31:31.418527Z"
    },
    "papermill": {
     "duration": 0.01879,
     "end_time": "2024-03-21T15:31:31.419741",
     "exception": false,
     "start_time": "2024-03-21T15:31:31.400951",
     "status": "completed"
    },
    "slideshow": {
     "slide_type": ""
    },
    "tags": []
   },
   "outputs": [],
   "source": [
    "df_results = df_results.assign(\n",
    "    winner_score=df_results[\"winner\"].replace(winner_matchings).apply(float)\n",
    ")"
   ]
  },
  {
   "cell_type": "code",
   "execution_count": 22,
   "id": "44b9c000-c8f5-49ca-989e-fbd7b5e5109e",
   "metadata": {
    "editable": true,
    "execution": {
     "iopub.execute_input": "2024-03-21T15:31:31.447714Z",
     "iopub.status.busy": "2024-03-21T15:31:31.447317Z",
     "iopub.status.idle": "2024-03-21T15:31:31.450719Z",
     "shell.execute_reply": "2024-03-21T15:31:31.450299Z"
    },
    "papermill": {
     "duration": 0.018195,
     "end_time": "2024-03-21T15:31:31.451482",
     "exception": false,
     "start_time": "2024-03-21T15:31:31.433287",
     "status": "completed"
    },
    "slideshow": {
     "slide_type": ""
    },
    "tags": []
   },
   "outputs": [
    {
     "data": {
      "text/plain": [
       "(310, 6)"
      ]
     },
     "execution_count": 22,
     "metadata": {},
     "output_type": "execute_result"
    }
   ],
   "source": [
    "df_results.shape"
   ]
  },
  {
   "cell_type": "code",
   "execution_count": 23,
   "id": "6743cafe-e446-4b6e-b832-b73d4ac54b1f",
   "metadata": {
    "editable": true,
    "execution": {
     "iopub.execute_input": "2024-03-21T15:31:31.479522Z",
     "iopub.status.busy": "2024-03-21T15:31:31.479035Z",
     "iopub.status.idle": "2024-03-21T15:31:31.486830Z",
     "shell.execute_reply": "2024-03-21T15:31:31.486364Z"
    },
    "papermill": {
     "duration": 0.022592,
     "end_time": "2024-03-21T15:31:31.487670",
     "exception": false,
     "start_time": "2024-03-21T15:31:31.465078",
     "status": "completed"
    },
    "slideshow": {
     "slide_type": ""
    },
    "tags": []
   },
   "outputs": [
    {
     "data": {
      "text/html": [
       "<div>\n",
       "<style scoped>\n",
       "    .dataframe tbody tr th:only-of-type {\n",
       "        vertical-align: middle;\n",
       "    }\n",
       "\n",
       "    .dataframe tbody tr th {\n",
       "        vertical-align: top;\n",
       "    }\n",
       "\n",
       "    .dataframe thead th {\n",
       "        text-align: right;\n",
       "    }\n",
       "</style>\n",
       "<table border=\"1\" class=\"dataframe\">\n",
       "  <thead>\n",
       "    <tr style=\"text-align: right;\">\n",
       "      <th></th>\n",
       "      <th>rep_index</th>\n",
       "      <th>paragraph_index</th>\n",
       "      <th>paragraph_section</th>\n",
       "      <th>winner</th>\n",
       "      <th>rationale</th>\n",
       "      <th>winner_score</th>\n",
       "    </tr>\n",
       "  </thead>\n",
       "  <tbody>\n",
       "    <tr>\n",
       "      <th>0</th>\n",
       "      <td>0</td>\n",
       "      <td>0</td>\n",
       "      <td>abstract</td>\n",
       "      <td>tie</td>\n",
       "      <td>Both paragraphs exhibit clear sentence structu...</td>\n",
       "      <td>0.0</td>\n",
       "    </tr>\n",
       "    <tr>\n",
       "      <th>1</th>\n",
       "      <td>0</td>\n",
       "      <td>1</td>\n",
       "      <td>introduction</td>\n",
       "      <td>tie</td>\n",
       "      <td>Both paragraphs exhibit clear sentence structu...</td>\n",
       "      <td>0.0</td>\n",
       "    </tr>\n",
       "    <tr>\n",
       "      <th>2</th>\n",
       "      <td>0</td>\n",
       "      <td>2</td>\n",
       "      <td>introduction</td>\n",
       "      <td>Paragraph 1</td>\n",
       "      <td>Both paragraphs exhibit clear sentence structu...</td>\n",
       "      <td>1.0</td>\n",
       "    </tr>\n",
       "    <tr>\n",
       "      <th>3</th>\n",
       "      <td>0</td>\n",
       "      <td>3</td>\n",
       "      <td>introduction</td>\n",
       "      <td>Paragraph 1</td>\n",
       "      <td>Paragraph 1 is slightly better as it contains ...</td>\n",
       "      <td>1.0</td>\n",
       "    </tr>\n",
       "    <tr>\n",
       "      <th>4</th>\n",
       "      <td>0</td>\n",
       "      <td>4</td>\n",
       "      <td>results</td>\n",
       "      <td>Paragraph A</td>\n",
       "      <td>Paragraph A has a slightly clearer sentence st...</td>\n",
       "      <td>-1.0</td>\n",
       "    </tr>\n",
       "  </tbody>\n",
       "</table>\n",
       "</div>"
      ],
      "text/plain": [
       "   rep_index  paragraph_index paragraph_section       winner  \\\n",
       "0          0                0          abstract          tie   \n",
       "1          0                1      introduction          tie   \n",
       "2          0                2      introduction  Paragraph 1   \n",
       "3          0                3      introduction  Paragraph 1   \n",
       "4          0                4           results  Paragraph A   \n",
       "\n",
       "                                           rationale  winner_score  \n",
       "0  Both paragraphs exhibit clear sentence structu...           0.0  \n",
       "1  Both paragraphs exhibit clear sentence structu...           0.0  \n",
       "2  Both paragraphs exhibit clear sentence structu...           1.0  \n",
       "3  Paragraph 1 is slightly better as it contains ...           1.0  \n",
       "4  Paragraph A has a slightly clearer sentence st...          -1.0  "
      ]
     },
     "execution_count": 23,
     "metadata": {},
     "output_type": "execute_result"
    }
   ],
   "source": [
    "df_results.head()"
   ]
  },
  {
   "cell_type": "code",
   "execution_count": 24,
   "id": "c34034ad-656d-4553-b90d-bd068f9c83e5",
   "metadata": {
    "editable": true,
    "execution": {
     "iopub.execute_input": "2024-03-21T15:31:31.517369Z",
     "iopub.status.busy": "2024-03-21T15:31:31.516963Z",
     "iopub.status.idle": "2024-03-21T15:31:31.521472Z",
     "shell.execute_reply": "2024-03-21T15:31:31.521028Z"
    },
    "papermill": {
     "duration": 0.021865,
     "end_time": "2024-03-21T15:31:31.522789",
     "exception": false,
     "start_time": "2024-03-21T15:31:31.500924",
     "status": "completed"
    },
    "slideshow": {
     "slide_type": ""
    },
    "tags": []
   },
   "outputs": [
    {
     "data": {
      "text/plain": [
       "rep_index              int64\n",
       "paragraph_index        int64\n",
       "paragraph_section     object\n",
       "winner                object\n",
       "rationale             object\n",
       "winner_score         float64\n",
       "dtype: object"
      ]
     },
     "execution_count": 24,
     "metadata": {},
     "output_type": "execute_result"
    }
   ],
   "source": [
    "df_results.dtypes"
   ]
  },
  {
   "cell_type": "code",
   "execution_count": 25,
   "id": "fa42ddf4-ec2a-4d55-869a-5942a4a87094",
   "metadata": {
    "editable": true,
    "execution": {
     "iopub.execute_input": "2024-03-21T15:31:31.551487Z",
     "iopub.status.busy": "2024-03-21T15:31:31.551192Z",
     "iopub.status.idle": "2024-03-21T15:31:31.556745Z",
     "shell.execute_reply": "2024-03-21T15:31:31.556344Z"
    },
    "papermill": {
     "duration": 0.020039,
     "end_time": "2024-03-21T15:31:31.557500",
     "exception": false,
     "start_time": "2024-03-21T15:31:31.537461",
     "status": "completed"
    },
    "slideshow": {
     "slide_type": ""
    },
    "tags": []
   },
   "outputs": [
    {
     "data": {
      "text/plain": [
       "paragraph_section\n",
       "abstract                  0.400000\n",
       "discussion                0.566667\n",
       "introduction              0.566667\n",
       "methods                   0.250000\n",
       "results                   0.630000\n",
       "supplementary material    0.333333\n",
       "Name: winner_score, dtype: float64"
      ]
     },
     "execution_count": 25,
     "metadata": {},
     "output_type": "execute_result"
    }
   ],
   "source": [
    "df_results.groupby(\"paragraph_section\")[\"winner_score\"].mean()"
   ]
  },
  {
   "cell_type": "markdown",
   "id": "5ba03c58-7563-416e-bc0e-a0b11796b0c7",
   "metadata": {
    "editable": true,
    "papermill": {
     "duration": 0.0131,
     "end_time": "2024-03-21T15:31:31.583982",
     "exception": false,
     "start_time": "2024-03-21T15:31:31.570882",
     "status": "completed"
    },
    "slideshow": {
     "slide_type": ""
    },
    "tags": []
   },
   "source": [
    "# Save"
   ]
  },
  {
   "cell_type": "code",
   "execution_count": 26,
   "id": "1e3899e4-da2c-4148-b226-268560c655f8",
   "metadata": {
    "editable": true,
    "execution": {
     "iopub.execute_input": "2024-03-21T15:31:31.611208Z",
     "iopub.status.busy": "2024-03-21T15:31:31.610904Z",
     "iopub.status.idle": "2024-03-21T15:31:31.614746Z",
     "shell.execute_reply": "2024-03-21T15:31:31.614335Z"
    },
    "papermill": {
     "duration": 0.018463,
     "end_time": "2024-03-21T15:31:31.615493",
     "exception": false,
     "start_time": "2024-03-21T15:31:31.597030",
     "status": "completed"
    },
    "slideshow": {
     "slide_type": ""
    },
    "tags": []
   },
   "outputs": [],
   "source": [
    "df_results.to_pickle(OUTPUT_FILE)"
   ]
  },
  {
   "cell_type": "code",
   "execution_count": null,
   "id": "46f23ada-3eda-47a0-a5ac-3d6d9a9672fc",
   "metadata": {
    "editable": true,
    "papermill": {
     "duration": 0.013162,
     "end_time": "2024-03-21T15:31:31.642045",
     "exception": false,
     "start_time": "2024-03-21T15:31:31.628883",
     "status": "completed"
    },
    "slideshow": {
     "slide_type": ""
    },
    "tags": []
   },
   "outputs": [],
   "source": []
  }
 ],
 "metadata": {
  "jupytext": {
   "cell_metadata_filter": "all,-execution,-papermill,-trusted",
   "notebook_metadata_filter": "-jupytext.text_representation.jupytext_version"
  },
  "kernelspec": {
   "display_name": "Python 3 (ipykernel)",
   "language": "python",
   "name": "python3"
  },
  "language_info": {
   "codemirror_mode": {
    "name": "ipython",
    "version": 3
   },
   "file_extension": ".py",
   "mimetype": "text/x-python",
   "name": "python",
   "nbconvert_exporter": "python",
   "pygments_lexer": "ipython3",
   "version": "3.11.8"
  },
  "papermill": {
   "default_parameters": {},
   "duration": 1343.574046,
   "end_time": "2024-03-21T15:31:32.173643",
   "environment_variables": {},
   "exception": null,
   "input_path": "/home/miltondp/projects/others/manubot/manubot-ai-editor-code/nbs/05-llm_evaluation/00-llm_pairwise-template.ipynb",
   "output_path": "/home/miltondp/projects/others/manubot/manubot-ai-editor-code/nbs/05-llm_evaluation/output/00-llm_pairwise-ccc-manuscript--gpt-3.5-turbo--openai_gpt-3.5-turbo.ipynb",
   "parameters": {
    "INPUT_FILE": "/home/miltondp/projects/others/manubot/manubot-ai-editor-code/base/results/paragraph_match/ccc-manuscript--gpt-3.5-turbo.pkl",
    "LLM_JUDGE": "openai:gpt-3.5-turbo",
    "MAX_TOKENS": 2000,
    "N_REPS": 10,
    "OUTPUT_FILE": "/home/miltondp/projects/others/manubot/manubot-ai-editor-code/base/results/llm_pairwise/ccc-manuscript--gpt-3.5-turbo--openai_gpt-3.5-turbo.pkl",
    "REPO": "pivlab/manubot-ai-editor-code-test-ccc-manuscript",
    "SEED_INIT": 0,
    "TEMPERATURE": 0.5
   },
   "start_time": "2024-03-21T15:09:08.599597",
   "version": "2.5.0"
  }
 },
 "nbformat": 4,
 "nbformat_minor": 5
}
