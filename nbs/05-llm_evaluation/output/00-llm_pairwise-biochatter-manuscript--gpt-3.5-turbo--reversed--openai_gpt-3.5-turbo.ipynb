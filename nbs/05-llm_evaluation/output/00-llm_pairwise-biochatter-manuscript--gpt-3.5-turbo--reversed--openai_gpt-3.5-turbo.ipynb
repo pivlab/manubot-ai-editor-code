{
 "cells": [
  {
   "cell_type": "markdown",
   "id": "070a050a-44d1-42c2-b274-c8c180a2a0ba",
   "metadata": {
    "editable": true,
    "papermill": {
     "duration": 0.006086,
     "end_time": "2024-03-21T00:51:38.000263",
     "exception": false,
     "start_time": "2024-03-21T00:51:37.994177",
     "status": "completed"
    },
    "slideshow": {
     "slide_type": ""
    },
    "tags": []
   },
   "source": [
    "# Description"
   ]
  },
  {
   "cell_type": "markdown",
   "id": "e4fcbb4d-aa04-4e1a-9aee-0053c559e157",
   "metadata": {
    "editable": true,
    "papermill": {
     "duration": 0.005359,
     "end_time": "2024-03-21T00:51:38.016154",
     "exception": false,
     "start_time": "2024-03-21T00:51:38.010795",
     "status": "completed"
    },
    "slideshow": {
     "slide_type": ""
    },
    "tags": []
   },
   "source": [
    "This notebook is a template notebook that is intended to be run across different parameters.\n",
    "\n",
    "TODO"
   ]
  },
  {
   "cell_type": "markdown",
   "id": "b237f234-dc98-43e9-8ff5-8922c410c377",
   "metadata": {
    "editable": true,
    "papermill": {
     "duration": 0.005335,
     "end_time": "2024-03-21T00:51:38.026898",
     "exception": false,
     "start_time": "2024-03-21T00:51:38.021563",
     "status": "completed"
    },
    "slideshow": {
     "slide_type": ""
    },
    "tags": []
   },
   "source": [
    "# Modules"
   ]
  },
  {
   "cell_type": "code",
   "execution_count": 1,
   "id": "70413318-1f5e-4d58-b1a2-cb4f01c13e86",
   "metadata": {
    "editable": true,
    "execution": {
     "iopub.execute_input": "2024-03-21T00:51:38.039319Z",
     "iopub.status.busy": "2024-03-21T00:51:38.039161Z",
     "iopub.status.idle": "2024-03-21T00:51:39.057966Z",
     "shell.execute_reply": "2024-03-21T00:51:39.057485Z"
    },
    "papermill": {
     "duration": 1.027223,
     "end_time": "2024-03-21T00:51:39.059480",
     "exception": false,
     "start_time": "2024-03-21T00:51:38.032257",
     "status": "completed"
    },
    "slideshow": {
     "slide_type": ""
    },
    "tags": []
   },
   "outputs": [],
   "source": [
    "import pandas as pd\n",
    "from IPython.display import display\n",
    "from langchain.cache import SQLiteCache\n",
    "from langchain.globals import set_llm_cache\n",
    "from proj import conf\n",
    "from proj.utils import llm_pairwise"
   ]
  },
  {
   "cell_type": "markdown",
   "id": "3f78fd18-86b7-40b9-b80e-a8b18d001682",
   "metadata": {
    "editable": true,
    "papermill": {
     "duration": 0.033974,
     "end_time": "2024-03-21T00:51:39.099149",
     "exception": false,
     "start_time": "2024-03-21T00:51:39.065175",
     "status": "completed"
    },
    "slideshow": {
     "slide_type": ""
    },
    "tags": []
   },
   "source": [
    "# Settings/paths"
   ]
  },
  {
   "cell_type": "code",
   "execution_count": 2,
   "id": "10a3ceca-1480-45b0-b04d-cb402ff95abf",
   "metadata": {
    "editable": true,
    "execution": {
     "iopub.execute_input": "2024-03-21T00:51:39.110884Z",
     "iopub.status.busy": "2024-03-21T00:51:39.110711Z",
     "iopub.status.idle": "2024-03-21T00:51:39.113665Z",
     "shell.execute_reply": "2024-03-21T00:51:39.113260Z"
    },
    "papermill": {
     "duration": 0.010071,
     "end_time": "2024-03-21T00:51:39.114721",
     "exception": false,
     "start_time": "2024-03-21T00:51:39.104650",
     "status": "completed"
    },
    "slideshow": {
     "slide_type": ""
    },
    "tags": [
     "parameters"
    ]
   },
   "outputs": [],
   "source": [
    "# Input manuscript\n",
    "REPO = None\n",
    "\n",
    "INPUT_FILE = None\n",
    "OUTPUT_FILE = None\n",
    "\n",
    "# Model and its parameters\n",
    "LLM_JUDGE = None\n",
    "TEMPERATURE = None\n",
    "MAX_TOKENS = 2000\n",
    "SEED_INIT = 0\n",
    "\n",
    "# Evaluation parameters\n",
    "N_REPS = None"
   ]
  },
  {
   "cell_type": "code",
   "execution_count": 3,
   "id": "ad932b9e",
   "metadata": {
    "execution": {
     "iopub.execute_input": "2024-03-21T00:51:39.126324Z",
     "iopub.status.busy": "2024-03-21T00:51:39.126219Z",
     "iopub.status.idle": "2024-03-21T00:51:39.128729Z",
     "shell.execute_reply": "2024-03-21T00:51:39.128330Z"
    },
    "papermill": {
     "duration": 0.009592,
     "end_time": "2024-03-21T00:51:39.129845",
     "exception": false,
     "start_time": "2024-03-21T00:51:39.120253",
     "status": "completed"
    },
    "tags": [
     "injected-parameters"
    ]
   },
   "outputs": [],
   "source": [
    "# Parameters\n",
    "REPO = \"pivlab/manubot-ai-editor-code-test-biochatter-manuscript\"\n",
    "INPUT_FILE = \"/home/miltondp/projects/others/manubot/manubot-ai-editor-code/base/results/paragraph_match/biochatter-manuscript--gpt-3.5-turbo--reversed.pkl\"\n",
    "OUTPUT_FILE = \"/home/miltondp/projects/others/manubot/manubot-ai-editor-code/base/results/llm_pairwise/biochatter-manuscript--gpt-3.5-turbo--reversed--openai_gpt-3.5-turbo.pkl\"\n",
    "LLM_JUDGE = \"openai:gpt-3.5-turbo\"\n",
    "TEMPERATURE = 0.5\n",
    "MAX_TOKENS = 2000\n",
    "SEED_INIT = 0\n",
    "N_REPS = 10\n"
   ]
  },
  {
   "cell_type": "code",
   "execution_count": 4,
   "id": "2245c8bd-63ca-489c-aad5-91a4b57d5e37",
   "metadata": {
    "editable": true,
    "execution": {
     "iopub.execute_input": "2024-03-21T00:51:39.141568Z",
     "iopub.status.busy": "2024-03-21T00:51:39.141449Z",
     "iopub.status.idle": "2024-03-21T00:51:39.145981Z",
     "shell.execute_reply": "2024-03-21T00:51:39.145580Z"
    },
    "papermill": {
     "duration": 0.01138,
     "end_time": "2024-03-21T00:51:39.146826",
     "exception": false,
     "start_time": "2024-03-21T00:51:39.135446",
     "status": "completed"
    },
    "slideshow": {
     "slide_type": ""
    },
    "tags": []
   },
   "outputs": [
    {
     "data": {
      "text/plain": [
       "PosixPath('/home/miltondp/projects/others/manubot/manubot-ai-editor-code/base/results/llm_cache')"
      ]
     },
     "metadata": {},
     "output_type": "display_data"
    }
   ],
   "source": [
    "conf.common.LLM_CACHE_DIR.mkdir(parents=True, exist_ok=True)\n",
    "display(conf.common.LLM_CACHE_DIR)"
   ]
  },
  {
   "cell_type": "markdown",
   "id": "c42b83b5-84b7-45ff-88ee-3651aa5c9c55",
   "metadata": {
    "editable": true,
    "papermill": {
     "duration": 0.004444,
     "end_time": "2024-03-21T00:51:39.155783",
     "exception": false,
     "start_time": "2024-03-21T00:51:39.151339",
     "status": "completed"
    },
    "slideshow": {
     "slide_type": ""
    },
    "tags": []
   },
   "source": [
    "# Load paragraphs"
   ]
  },
  {
   "cell_type": "code",
   "execution_count": 5,
   "id": "f1d1f476-f5b5-4d1c-9c3a-822e9bef4b27",
   "metadata": {
    "editable": true,
    "execution": {
     "iopub.execute_input": "2024-03-21T00:51:39.162816Z",
     "iopub.status.busy": "2024-03-21T00:51:39.162697Z",
     "iopub.status.idle": "2024-03-21T00:51:39.165337Z",
     "shell.execute_reply": "2024-03-21T00:51:39.164960Z"
    },
    "papermill": {
     "duration": 0.00669,
     "end_time": "2024-03-21T00:51:39.165969",
     "exception": false,
     "start_time": "2024-03-21T00:51:39.159279",
     "status": "completed"
    },
    "slideshow": {
     "slide_type": ""
    },
    "tags": []
   },
   "outputs": [],
   "source": [
    "df = pd.read_pickle(INPUT_FILE)"
   ]
  },
  {
   "cell_type": "code",
   "execution_count": 6,
   "id": "4e3db6e2-f267-4d60-8ff3-703698a09f88",
   "metadata": {
    "editable": true,
    "execution": {
     "iopub.execute_input": "2024-03-21T00:51:39.172521Z",
     "iopub.status.busy": "2024-03-21T00:51:39.172401Z",
     "iopub.status.idle": "2024-03-21T00:51:39.175385Z",
     "shell.execute_reply": "2024-03-21T00:51:39.175009Z"
    },
    "papermill": {
     "duration": 0.00699,
     "end_time": "2024-03-21T00:51:39.175997",
     "exception": false,
     "start_time": "2024-03-21T00:51:39.169007",
     "status": "completed"
    },
    "slideshow": {
     "slide_type": ""
    },
    "tags": []
   },
   "outputs": [
    {
     "data": {
      "text/plain": [
       "(37, 3)"
      ]
     },
     "execution_count": 6,
     "metadata": {},
     "output_type": "execute_result"
    }
   ],
   "source": [
    "df.shape"
   ]
  },
  {
   "cell_type": "code",
   "execution_count": 7,
   "id": "cc6a365d-59f5-4537-9fd7-869ee4156046",
   "metadata": {
    "editable": true,
    "execution": {
     "iopub.execute_input": "2024-03-21T00:51:39.182723Z",
     "iopub.status.busy": "2024-03-21T00:51:39.182603Z",
     "iopub.status.idle": "2024-03-21T00:51:39.187762Z",
     "shell.execute_reply": "2024-03-21T00:51:39.187364Z"
    },
    "papermill": {
     "duration": 0.009402,
     "end_time": "2024-03-21T00:51:39.188492",
     "exception": false,
     "start_time": "2024-03-21T00:51:39.179090",
     "status": "completed"
    },
    "slideshow": {
     "slide_type": ""
    },
    "tags": []
   },
   "outputs": [
    {
     "data": {
      "text/html": [
       "<div>\n",
       "<style scoped>\n",
       "    .dataframe tbody tr th:only-of-type {\n",
       "        vertical-align: middle;\n",
       "    }\n",
       "\n",
       "    .dataframe tbody tr th {\n",
       "        vertical-align: top;\n",
       "    }\n",
       "\n",
       "    .dataframe thead th {\n",
       "        text-align: right;\n",
       "    }\n",
       "</style>\n",
       "<table border=\"1\" class=\"dataframe\">\n",
       "  <thead>\n",
       "    <tr style=\"text-align: right;\">\n",
       "      <th></th>\n",
       "      <th>section</th>\n",
       "      <th>modified</th>\n",
       "      <th>original</th>\n",
       "    </tr>\n",
       "  </thead>\n",
       "  <tbody>\n",
       "    <tr>\n",
       "      <th>0</th>\n",
       "      <td>abstract</td>\n",
       "      <td>Current-generation Large Language Models (LLMs...</td>\n",
       "      <td>Large Language Models (LLMs) have generated si...</td>\n",
       "    </tr>\n",
       "    <tr>\n",
       "      <th>1</th>\n",
       "      <td>introduction</td>\n",
       "      <td>Despite technological advances, understanding ...</td>\n",
       "      <td>Despite technological advances, understanding ...</td>\n",
       "    </tr>\n",
       "    <tr>\n",
       "      <th>2</th>\n",
       "      <td>introduction</td>\n",
       "      <td>Large Language Models (LLMs) of the current ge...</td>\n",
       "      <td>The latest generation of Large Language Models...</td>\n",
       "    </tr>\n",
       "    <tr>\n",
       "      <th>3</th>\n",
       "      <td>introduction</td>\n",
       "      <td>Computational biomedicine involves many tasks ...</td>\n",
       "      <td>Computational biomedicine encompasses various ...</td>\n",
       "    </tr>\n",
       "    <tr>\n",
       "      <th>4</th>\n",
       "      <td>results</td>\n",
       "      <td>The framework is designed to be modular: any o...</td>\n",
       "      <td>The framework is designed to be modular, allow...</td>\n",
       "    </tr>\n",
       "  </tbody>\n",
       "</table>\n",
       "</div>"
      ],
      "text/plain": [
       "        section                                           modified  \\\n",
       "0      abstract  Current-generation Large Language Models (LLMs...   \n",
       "1  introduction  Despite technological advances, understanding ...   \n",
       "2  introduction  Large Language Models (LLMs) of the current ge...   \n",
       "3  introduction  Computational biomedicine involves many tasks ...   \n",
       "4       results  The framework is designed to be modular: any o...   \n",
       "\n",
       "                                            original  \n",
       "0  Large Language Models (LLMs) have generated si...  \n",
       "1  Despite technological advances, understanding ...  \n",
       "2  The latest generation of Large Language Models...  \n",
       "3  Computational biomedicine encompasses various ...  \n",
       "4  The framework is designed to be modular, allow...  "
      ]
     },
     "execution_count": 7,
     "metadata": {},
     "output_type": "execute_result"
    }
   ],
   "source": [
    "df.head()"
   ]
  },
  {
   "cell_type": "code",
   "execution_count": 8,
   "id": "589fb328-d62a-4573-8177-a9dbd1e495b0",
   "metadata": {
    "editable": true,
    "execution": {
     "iopub.execute_input": "2024-03-21T00:51:39.195336Z",
     "iopub.status.busy": "2024-03-21T00:51:39.195212Z",
     "iopub.status.idle": "2024-03-21T00:51:39.198102Z",
     "shell.execute_reply": "2024-03-21T00:51:39.197740Z"
    },
    "papermill": {
     "duration": 0.007107,
     "end_time": "2024-03-21T00:51:39.198778",
     "exception": false,
     "start_time": "2024-03-21T00:51:39.191671",
     "status": "completed"
    },
    "slideshow": {
     "slide_type": ""
    },
    "tags": []
   },
   "outputs": [
    {
     "data": {
      "text/plain": [
       "'Large Language Models (LLMs) have generated significant interest due to their potential for accessibility and automation in various fields, including biomedicine. However, they also present challenges and risks of misuse. In this paper, we address the need for a framework to interface with LLMs in the biomedical domain while ensuring their safe and effective use. To meet this need, we introduce BioChatter, an open-source framework that integrates various functionalities of LLMs, such as knowledge integration, retrieval-augmented generation, model chaining, and benchmarking. By leveraging open-source software packages, we have developed a user-friendly and versatile platform that can be applied across a range of biomedicine use cases. Our focus is on implementing robust and privacy-preserving local open-source LLMs. We showcase the utility of BioChatter through two multi-purpose web apps available at [https://chat.biocypher.org](https://chat.biocypher.org) and provide comprehensive documentation, support, and a vibrant open community.'"
      ]
     },
     "execution_count": 8,
     "metadata": {},
     "output_type": "execute_result"
    }
   ],
   "source": [
    "df.iloc[0][\"original\"]"
   ]
  },
  {
   "cell_type": "code",
   "execution_count": 9,
   "id": "4b5fba85-97aa-4051-b755-c45f8dbf2448",
   "metadata": {
    "editable": true,
    "execution": {
     "iopub.execute_input": "2024-03-21T00:51:39.205799Z",
     "iopub.status.busy": "2024-03-21T00:51:39.205699Z",
     "iopub.status.idle": "2024-03-21T00:51:39.208569Z",
     "shell.execute_reply": "2024-03-21T00:51:39.208175Z"
    },
    "papermill": {
     "duration": 0.007196,
     "end_time": "2024-03-21T00:51:39.209267",
     "exception": false,
     "start_time": "2024-03-21T00:51:39.202071",
     "status": "completed"
    },
    "slideshow": {
     "slide_type": ""
    },
    "tags": []
   },
   "outputs": [
    {
     "data": {
      "text/plain": [
       "'Current-generation Large Language Models (LLMs) have stirred enormous interest in recent months, yielding great potential for accessibility and automation, while simultaneously posing significant challenges and risk of misuse. To facilitate interfacing with LLMs in the biomedical space, while at the same time safeguarding their functionalities through sensible constraints, we propose a dedicated, open-source framework: BioChatter. Based on open-source software packages, we synergise the many functionalities that are currently developing around LLMs, such as knowledge integration / retrieval-augmented generation, model chaining, and benchmarking, resulting in an easy-to-use and inclusive framework for application in many use cases of biomedicine. We focus on robust and user-friendly implementation, including ways to deploy privacy-preserving local open-source LLMs. We demonstrate use cases via two multi-purpose web apps ([https://chat.biocypher.org](https://chat.biocypher.org)), and provide documentation, support, and an open community.'"
      ]
     },
     "execution_count": 9,
     "metadata": {},
     "output_type": "execute_result"
    }
   ],
   "source": [
    "df.iloc[0][\"modified\"]"
   ]
  },
  {
   "cell_type": "markdown",
   "id": "9291eef4-d5ee-4d89-b34d-997501f0cd0b",
   "metadata": {
    "editable": true,
    "papermill": {
     "duration": 0.003288,
     "end_time": "2024-03-21T00:51:39.215918",
     "exception": false,
     "start_time": "2024-03-21T00:51:39.212630",
     "status": "completed"
    },
    "slideshow": {
     "slide_type": ""
    },
    "tags": []
   },
   "source": [
    "# Test run"
   ]
  },
  {
   "cell_type": "code",
   "execution_count": 10,
   "id": "6b7e80bd-f678-4047-b0f6-3c4e55de4767",
   "metadata": {
    "editable": true,
    "execution": {
     "iopub.execute_input": "2024-03-21T00:51:39.223033Z",
     "iopub.status.busy": "2024-03-21T00:51:39.222919Z",
     "iopub.status.idle": "2024-03-21T00:51:43.928130Z",
     "shell.execute_reply": "2024-03-21T00:51:43.927484Z"
    },
    "papermill": {
     "duration": 4.710279,
     "end_time": "2024-03-21T00:51:43.929500",
     "exception": false,
     "start_time": "2024-03-21T00:51:39.219221",
     "status": "completed"
    },
    "slideshow": {
     "slide_type": ""
    },
    "tags": []
   },
   "outputs": [
    {
     "name": "stdout",
     "output_type": "stream",
     "text": [
      "\n",
      "\n",
      "\u001b[1m> Entering new LLMChain chain...\u001b[0m\n",
      "Prompt after formatting:\n",
      "\u001b[32;1m\u001b[1;3mSystem: You are an expert copyeditor with ample experience in scientific writing. You are assessing the quality of two versions of a paragraph from the Abstract of a scientific article.\n",
      "Human: Evaluate the quality of the following paragraph by writing a list with positive (if any) and/or negative (if any) aspects on the following areas: 1) has a clear sentence structure, 2) is easy to follow, 3) is correct in grammar, 4) has no spelling errors.\n",
      "\n",
      "Paragraph A: Large Language Models (LLMs) have generated significant interest due to their potential for accessibility and automation in various fields, including biomedicine. However, they also present challenges and risks of misuse. In this paper, we address the need for a framework to interface with LLMs in the biomedical domain while ensuring their safe and effective use. To meet this need, we introduce BioChatter, an open-source framework that integrates various functionalities of LLMs, such as knowledge integration, retrieval-augmented generation, model chaining, and benchmarking. By leveraging open-source software packages, we have developed a user-friendly and versatile platform that can be applied across a range of biomedicine use cases. Our focus is on implementing robust and privacy-preserving local open-source LLMs. We showcase the utility of BioChatter through two multi-purpose web apps available at [https://chat.biocypher.org](https://chat.biocypher.org) and provide comprehensive documentation, support, and a vibrant open community.\u001b[0m\n"
     ]
    },
    {
     "name": "stdout",
     "output_type": "stream",
     "text": [
      "\n",
      "\u001b[1m> Finished chain.\u001b[0m\n",
      "\n",
      "\n",
      "\u001b[1m> Entering new LLMChain chain...\u001b[0m\n",
      "Prompt after formatting:\n",
      "\u001b[32;1m\u001b[1;3mSystem: You are an expert copyeditor with ample experience in scientific writing. You are assessing the quality of two versions of a paragraph from the Abstract of a scientific article.\n",
      "Human: Evaluate the quality of the following paragraph by writing a list with positive (if any) and/or negative (if any) aspects on the following areas: 1) has a clear sentence structure, 2) is easy to follow, 3) is correct in grammar, 4) has no spelling errors.\n",
      "\n",
      "Paragraph A: Large Language Models (LLMs) have generated significant interest due to their potential for accessibility and automation in various fields, including biomedicine. However, they also present challenges and risks of misuse. In this paper, we address the need for a framework to interface with LLMs in the biomedical domain while ensuring their safe and effective use. To meet this need, we introduce BioChatter, an open-source framework that integrates various functionalities of LLMs, such as knowledge integration, retrieval-augmented generation, model chaining, and benchmarking. By leveraging open-source software packages, we have developed a user-friendly and versatile platform that can be applied across a range of biomedicine use cases. Our focus is on implementing robust and privacy-preserving local open-source LLMs. We showcase the utility of BioChatter through two multi-purpose web apps available at [https://chat.biocypher.org](https://chat.biocypher.org) and provide comprehensive documentation, support, and a vibrant open community.\n",
      "AI: Positive Aspects:\n",
      "1) The sentence structure is clear and well-organized.\n",
      "2) The paragraph is easy to follow, with a logical flow of ideas.\n",
      "3) The grammar is correct, with no apparent errors.\n",
      "4) There are no spelling errors.\n",
      "\n",
      "Overall, Paragraph A is well-written and effectively conveys the purpose and features of BioChatter in a concise and coherent manner.\n",
      "Human: Evaluate the quality of the following paragraph by writing a list with positive (if any) and/or negative (if any) aspects on the following areas: 1) has a clear sentence structure, 2) is easy to follow, 3) is correct in grammar, 4) has no spelling errors.\n",
      "\n",
      "Paragraph 1: Current-generation Large Language Models (LLMs) have stirred enormous interest in recent months, yielding great potential for accessibility and automation, while simultaneously posing significant challenges and risk of misuse. To facilitate interfacing with LLMs in the biomedical space, while at the same time safeguarding their functionalities through sensible constraints, we propose a dedicated, open-source framework: BioChatter. Based on open-source software packages, we synergise the many functionalities that are currently developing around LLMs, such as knowledge integration / retrieval-augmented generation, model chaining, and benchmarking, resulting in an easy-to-use and inclusive framework for application in many use cases of biomedicine. We focus on robust and user-friendly implementation, including ways to deploy privacy-preserving local open-source LLMs. We demonstrate use cases via two multi-purpose web apps ([https://chat.biocypher.org](https://chat.biocypher.org)), and provide documentation, support, and an open community.\u001b[0m\n"
     ]
    },
    {
     "name": "stdout",
     "output_type": "stream",
     "text": [
      "\n",
      "\u001b[1m> Finished chain.\u001b[0m\n",
      "\n",
      "\n",
      "\u001b[1m> Entering new LLMChain chain...\u001b[0m\n",
      "Prompt after formatting:\n",
      "\u001b[32;1m\u001b[1;3mSystem: You are an expert copyeditor with ample experience in scientific writing. You are assessing the quality of two versions of a paragraph from the Abstract of a scientific article.\n",
      "Human: Evaluate the quality of the following paragraph by writing a list with positive (if any) and/or negative (if any) aspects on the following areas: 1) has a clear sentence structure, 2) is easy to follow, 3) is correct in grammar, 4) has no spelling errors.\n",
      "\n",
      "Paragraph A: Large Language Models (LLMs) have generated significant interest due to their potential for accessibility and automation in various fields, including biomedicine. However, they also present challenges and risks of misuse. In this paper, we address the need for a framework to interface with LLMs in the biomedical domain while ensuring their safe and effective use. To meet this need, we introduce BioChatter, an open-source framework that integrates various functionalities of LLMs, such as knowledge integration, retrieval-augmented generation, model chaining, and benchmarking. By leveraging open-source software packages, we have developed a user-friendly and versatile platform that can be applied across a range of biomedicine use cases. Our focus is on implementing robust and privacy-preserving local open-source LLMs. We showcase the utility of BioChatter through two multi-purpose web apps available at [https://chat.biocypher.org](https://chat.biocypher.org) and provide comprehensive documentation, support, and a vibrant open community.\n",
      "AI: Positive Aspects:\n",
      "1) The sentence structure is clear and well-organized.\n",
      "2) The paragraph is easy to follow, with a logical flow of ideas.\n",
      "3) The grammar is correct, with no apparent errors.\n",
      "4) There are no spelling errors.\n",
      "\n",
      "Overall, Paragraph A is well-written and effectively conveys the purpose and features of BioChatter in a concise and coherent manner.\n",
      "Human: Evaluate the quality of the following paragraph by writing a list with positive (if any) and/or negative (if any) aspects on the following areas: 1) has a clear sentence structure, 2) is easy to follow, 3) is correct in grammar, 4) has no spelling errors.\n",
      "\n",
      "Paragraph 1: Current-generation Large Language Models (LLMs) have stirred enormous interest in recent months, yielding great potential for accessibility and automation, while simultaneously posing significant challenges and risk of misuse. To facilitate interfacing with LLMs in the biomedical space, while at the same time safeguarding their functionalities through sensible constraints, we propose a dedicated, open-source framework: BioChatter. Based on open-source software packages, we synergise the many functionalities that are currently developing around LLMs, such as knowledge integration / retrieval-augmented generation, model chaining, and benchmarking, resulting in an easy-to-use and inclusive framework for application in many use cases of biomedicine. We focus on robust and user-friendly implementation, including ways to deploy privacy-preserving local open-source LLMs. We demonstrate use cases via two multi-purpose web apps ([https://chat.biocypher.org](https://chat.biocypher.org)), and provide documentation, support, and an open community.\n",
      "AI: Positive Aspects:\n",
      "1) The sentence structure is clear and coherent, with a logical progression of ideas.\n",
      "2) The paragraph is easy to follow, as the ideas are presented in a structured and organized manner.\n",
      "3) The grammar is correct, with no evident errors.\n",
      "4) There are no spelling errors.\n",
      "\n",
      "Overall, Paragraph 1 is well-written and effectively communicates the purpose and features of BioChatter in the biomedical domain.\n",
      "Human: Now, act as an impartial judge and evaluate the quality of these two paragraphs. Your evaluation must only consider the previous areas you commented on above. Compare the two versions and select the best only if one of them is clearly better than the other; if both versions are similar, then it is a tie. Avoid any position biases and ensure that the order in which the paragraphs were presented does not influence your decision. Do not favor certain paragraph identifiers. Be as objective as possible. Provide the output in JSON format with the following schema: {\"best\": string, \"rationale\": string}, where \"best\" can only have the following values: \"Paragraph A\", \"Paragraph 1\", or \"tie\".\u001b[0m\n"
     ]
    },
    {
     "name": "stdout",
     "output_type": "stream",
     "text": [
      "\n",
      "\u001b[1m> Finished chain.\u001b[0m\n"
     ]
    }
   ],
   "source": [
    "t_json = llm_pairwise(\n",
    "    df.iloc[0][\"original\"],\n",
    "    df.iloc[0][\"modified\"],\n",
    "    df.iloc[0][\"section\"],\n",
    "    model_name=LLM_JUDGE,\n",
    "    model_params={\n",
    "        \"temperature\": TEMPERATURE,\n",
    "        \"max_tokens\": MAX_TOKENS,\n",
    "        \"model_kwargs\": {\n",
    "            \"seed\": SEED_INIT,\n",
    "        },\n",
    "    },\n",
    "    verbose=True,\n",
    ")"
   ]
  },
  {
   "cell_type": "code",
   "execution_count": 11,
   "id": "22ef42b6-46f5-44ab-87a5-5d22460526fa",
   "metadata": {
    "editable": true,
    "execution": {
     "iopub.execute_input": "2024-03-21T00:51:43.948523Z",
     "iopub.status.busy": "2024-03-21T00:51:43.948142Z",
     "iopub.status.idle": "2024-03-21T00:51:43.952439Z",
     "shell.execute_reply": "2024-03-21T00:51:43.951822Z"
    },
    "papermill": {
     "duration": 0.017092,
     "end_time": "2024-03-21T00:51:43.953713",
     "exception": false,
     "start_time": "2024-03-21T00:51:43.936621",
     "status": "completed"
    },
    "slideshow": {
     "slide_type": ""
    },
    "tags": []
   },
   "outputs": [
    {
     "data": {
      "text/plain": [
       "{'best': 'tie',\n",
       " 'rationale': 'Both paragraphs exhibit clear sentence structures, are easy to follow, correct in grammar, and have no spelling errors. Both versions effectively convey the purpose and features of BioChatter in the biomedical domain.'}"
      ]
     },
     "execution_count": 11,
     "metadata": {},
     "output_type": "execute_result"
    }
   ],
   "source": [
    "t_json"
   ]
  },
  {
   "cell_type": "code",
   "execution_count": 12,
   "id": "48509fbd-178a-4580-b0bd-45a73ed3399d",
   "metadata": {
    "editable": true,
    "execution": {
     "iopub.execute_input": "2024-03-21T00:51:43.968488Z",
     "iopub.status.busy": "2024-03-21T00:51:43.968276Z",
     "iopub.status.idle": "2024-03-21T00:51:43.972287Z",
     "shell.execute_reply": "2024-03-21T00:51:43.971800Z"
    },
    "papermill": {
     "duration": 0.012832,
     "end_time": "2024-03-21T00:51:43.973470",
     "exception": false,
     "start_time": "2024-03-21T00:51:43.960638",
     "status": "completed"
    },
    "slideshow": {
     "slide_type": ""
    },
    "tags": []
   },
   "outputs": [
    {
     "data": {
      "text/plain": [
       "dict"
      ]
     },
     "execution_count": 12,
     "metadata": {},
     "output_type": "execute_result"
    }
   ],
   "source": [
    "type(t_json)"
   ]
  },
  {
   "cell_type": "markdown",
   "id": "d81ce233-57c0-420d-a104-1d1d1640fc2b",
   "metadata": {
    "editable": true,
    "papermill": {
     "duration": 0.006936,
     "end_time": "2024-03-21T00:51:43.987465",
     "exception": false,
     "start_time": "2024-03-21T00:51:43.980529",
     "status": "completed"
    },
    "slideshow": {
     "slide_type": ""
    },
    "tags": []
   },
   "source": [
    "# Run"
   ]
  },
  {
   "cell_type": "markdown",
   "id": "fc131605-64ef-4cab-b1a6-3bc296bbb03e",
   "metadata": {
    "editable": true,
    "papermill": {
     "duration": 0.006982,
     "end_time": "2024-03-21T00:51:44.001609",
     "exception": false,
     "start_time": "2024-03-21T00:51:43.994627",
     "status": "completed"
    },
    "slideshow": {
     "slide_type": ""
    },
    "tags": []
   },
   "source": [
    "Since models are stochastic, we run the pairwise comparison many times.\n",
    "\n",
    "Here I use a cache to avoid hitting an external API multiple times."
   ]
  },
  {
   "cell_type": "code",
   "execution_count": 13,
   "id": "b2c31f26-cd6b-4e11-a346-3ff6d89ab8c5",
   "metadata": {
    "editable": true,
    "execution": {
     "iopub.execute_input": "2024-03-21T00:51:44.016511Z",
     "iopub.status.busy": "2024-03-21T00:51:44.016306Z",
     "iopub.status.idle": "2024-03-21T00:51:44.019234Z",
     "shell.execute_reply": "2024-03-21T00:51:44.018653Z"
    },
    "papermill": {
     "duration": 0.01189,
     "end_time": "2024-03-21T00:51:44.020524",
     "exception": false,
     "start_time": "2024-03-21T00:51:44.008634",
     "status": "completed"
    },
    "slideshow": {
     "slide_type": ""
    },
    "tags": []
   },
   "outputs": [],
   "source": [
    "results = []"
   ]
  },
  {
   "cell_type": "code",
   "execution_count": 14,
   "id": "5721fab1-c08b-4774-93df-6448c3d8b574",
   "metadata": {
    "editable": true,
    "execution": {
     "iopub.execute_input": "2024-03-21T00:51:44.034927Z",
     "iopub.status.busy": "2024-03-21T00:51:44.034822Z",
     "iopub.status.idle": "2024-03-21T01:15:19.479672Z",
     "shell.execute_reply": "2024-03-21T01:15:19.479128Z"
    },
    "papermill": {
     "duration": 1415.453245,
     "end_time": "2024-03-21T01:15:19.480884",
     "exception": false,
     "start_time": "2024-03-21T00:51:44.027639",
     "status": "completed"
    },
    "slideshow": {
     "slide_type": ""
    },
    "tags": []
   },
   "outputs": [
    {
     "name": "stdout",
     "output_type": "stream",
     "text": [
      "00 (rep0.db): "
     ]
    },
    {
     "name": "stdout",
     "output_type": "stream",
     "text": [
      "."
     ]
    },
    {
     "name": "stdout",
     "output_type": "stream",
     "text": [
      "."
     ]
    },
    {
     "name": "stdout",
     "output_type": "stream",
     "text": [
      "."
     ]
    },
    {
     "name": "stdout",
     "output_type": "stream",
     "text": [
      "."
     ]
    },
    {
     "name": "stdout",
     "output_type": "stream",
     "text": [
      "."
     ]
    },
    {
     "name": "stdout",
     "output_type": "stream",
     "text": [
      "."
     ]
    },
    {
     "name": "stdout",
     "output_type": "stream",
     "text": [
      "."
     ]
    },
    {
     "name": "stdout",
     "output_type": "stream",
     "text": [
      "."
     ]
    },
    {
     "name": "stdout",
     "output_type": "stream",
     "text": [
      "."
     ]
    },
    {
     "name": "stdout",
     "output_type": "stream",
     "text": [
      "."
     ]
    },
    {
     "name": "stdout",
     "output_type": "stream",
     "text": [
      "."
     ]
    },
    {
     "name": "stdout",
     "output_type": "stream",
     "text": [
      "."
     ]
    },
    {
     "name": "stdout",
     "output_type": "stream",
     "text": [
      "."
     ]
    },
    {
     "name": "stdout",
     "output_type": "stream",
     "text": [
      "."
     ]
    },
    {
     "name": "stdout",
     "output_type": "stream",
     "text": [
      "."
     ]
    },
    {
     "name": "stdout",
     "output_type": "stream",
     "text": [
      "."
     ]
    },
    {
     "name": "stdout",
     "output_type": "stream",
     "text": [
      "."
     ]
    },
    {
     "name": "stdout",
     "output_type": "stream",
     "text": [
      "."
     ]
    },
    {
     "name": "stdout",
     "output_type": "stream",
     "text": [
      "."
     ]
    },
    {
     "name": "stdout",
     "output_type": "stream",
     "text": [
      "."
     ]
    },
    {
     "name": "stdout",
     "output_type": "stream",
     "text": [
      "."
     ]
    },
    {
     "name": "stdout",
     "output_type": "stream",
     "text": [
      "."
     ]
    },
    {
     "name": "stdout",
     "output_type": "stream",
     "text": [
      "."
     ]
    },
    {
     "name": "stdout",
     "output_type": "stream",
     "text": [
      "."
     ]
    },
    {
     "name": "stdout",
     "output_type": "stream",
     "text": [
      "."
     ]
    },
    {
     "name": "stdout",
     "output_type": "stream",
     "text": [
      "."
     ]
    },
    {
     "name": "stdout",
     "output_type": "stream",
     "text": [
      "."
     ]
    },
    {
     "name": "stdout",
     "output_type": "stream",
     "text": [
      "."
     ]
    },
    {
     "name": "stdout",
     "output_type": "stream",
     "text": [
      "."
     ]
    },
    {
     "name": "stdout",
     "output_type": "stream",
     "text": [
      "."
     ]
    },
    {
     "name": "stdout",
     "output_type": "stream",
     "text": [
      "."
     ]
    },
    {
     "name": "stdout",
     "output_type": "stream",
     "text": [
      "."
     ]
    },
    {
     "name": "stdout",
     "output_type": "stream",
     "text": [
      "."
     ]
    },
    {
     "name": "stdout",
     "output_type": "stream",
     "text": [
      "."
     ]
    },
    {
     "name": "stdout",
     "output_type": "stream",
     "text": [
      "."
     ]
    },
    {
     "name": "stdout",
     "output_type": "stream",
     "text": [
      "."
     ]
    },
    {
     "name": "stdout",
     "output_type": "stream",
     "text": [
      "."
     ]
    },
    {
     "name": "stdout",
     "output_type": "stream",
     "text": [
      "\n"
     ]
    },
    {
     "name": "stdout",
     "output_type": "stream",
     "text": [
      "01 (rep1.db): "
     ]
    },
    {
     "name": "stdout",
     "output_type": "stream",
     "text": [
      "."
     ]
    },
    {
     "name": "stdout",
     "output_type": "stream",
     "text": [
      "."
     ]
    },
    {
     "name": "stdout",
     "output_type": "stream",
     "text": [
      "."
     ]
    },
    {
     "name": "stdout",
     "output_type": "stream",
     "text": [
      "."
     ]
    },
    {
     "name": "stdout",
     "output_type": "stream",
     "text": [
      "."
     ]
    },
    {
     "name": "stdout",
     "output_type": "stream",
     "text": [
      "."
     ]
    },
    {
     "name": "stdout",
     "output_type": "stream",
     "text": [
      "."
     ]
    },
    {
     "name": "stdout",
     "output_type": "stream",
     "text": [
      "."
     ]
    },
    {
     "name": "stdout",
     "output_type": "stream",
     "text": [
      "."
     ]
    },
    {
     "name": "stdout",
     "output_type": "stream",
     "text": [
      "."
     ]
    },
    {
     "name": "stdout",
     "output_type": "stream",
     "text": [
      "."
     ]
    },
    {
     "name": "stdout",
     "output_type": "stream",
     "text": [
      "."
     ]
    },
    {
     "name": "stdout",
     "output_type": "stream",
     "text": [
      "."
     ]
    },
    {
     "name": "stdout",
     "output_type": "stream",
     "text": [
      "."
     ]
    },
    {
     "name": "stdout",
     "output_type": "stream",
     "text": [
      "."
     ]
    },
    {
     "name": "stdout",
     "output_type": "stream",
     "text": [
      "."
     ]
    },
    {
     "name": "stdout",
     "output_type": "stream",
     "text": [
      "."
     ]
    },
    {
     "name": "stdout",
     "output_type": "stream",
     "text": [
      "."
     ]
    },
    {
     "name": "stdout",
     "output_type": "stream",
     "text": [
      "."
     ]
    },
    {
     "name": "stdout",
     "output_type": "stream",
     "text": [
      "."
     ]
    },
    {
     "name": "stdout",
     "output_type": "stream",
     "text": [
      "."
     ]
    },
    {
     "name": "stdout",
     "output_type": "stream",
     "text": [
      "."
     ]
    },
    {
     "name": "stdout",
     "output_type": "stream",
     "text": [
      "."
     ]
    },
    {
     "name": "stdout",
     "output_type": "stream",
     "text": [
      "."
     ]
    },
    {
     "name": "stdout",
     "output_type": "stream",
     "text": [
      "."
     ]
    },
    {
     "name": "stdout",
     "output_type": "stream",
     "text": [
      "."
     ]
    },
    {
     "name": "stdout",
     "output_type": "stream",
     "text": [
      "."
     ]
    },
    {
     "name": "stdout",
     "output_type": "stream",
     "text": [
      "."
     ]
    },
    {
     "name": "stdout",
     "output_type": "stream",
     "text": [
      "."
     ]
    },
    {
     "name": "stdout",
     "output_type": "stream",
     "text": [
      "."
     ]
    },
    {
     "name": "stdout",
     "output_type": "stream",
     "text": [
      "."
     ]
    },
    {
     "name": "stdout",
     "output_type": "stream",
     "text": [
      "."
     ]
    },
    {
     "name": "stdout",
     "output_type": "stream",
     "text": [
      "."
     ]
    },
    {
     "name": "stdout",
     "output_type": "stream",
     "text": [
      "."
     ]
    },
    {
     "name": "stdout",
     "output_type": "stream",
     "text": [
      "."
     ]
    },
    {
     "name": "stdout",
     "output_type": "stream",
     "text": [
      "."
     ]
    },
    {
     "name": "stdout",
     "output_type": "stream",
     "text": [
      "."
     ]
    },
    {
     "name": "stdout",
     "output_type": "stream",
     "text": [
      "\n"
     ]
    },
    {
     "name": "stdout",
     "output_type": "stream",
     "text": [
      "02 (rep2.db): "
     ]
    },
    {
     "name": "stdout",
     "output_type": "stream",
     "text": [
      "."
     ]
    },
    {
     "name": "stdout",
     "output_type": "stream",
     "text": [
      "."
     ]
    },
    {
     "name": "stdout",
     "output_type": "stream",
     "text": [
      "."
     ]
    },
    {
     "name": "stdout",
     "output_type": "stream",
     "text": [
      "."
     ]
    },
    {
     "name": "stdout",
     "output_type": "stream",
     "text": [
      "."
     ]
    },
    {
     "name": "stdout",
     "output_type": "stream",
     "text": [
      "."
     ]
    },
    {
     "name": "stdout",
     "output_type": "stream",
     "text": [
      "."
     ]
    },
    {
     "name": "stdout",
     "output_type": "stream",
     "text": [
      "."
     ]
    },
    {
     "name": "stdout",
     "output_type": "stream",
     "text": [
      "."
     ]
    },
    {
     "name": "stdout",
     "output_type": "stream",
     "text": [
      "."
     ]
    },
    {
     "name": "stdout",
     "output_type": "stream",
     "text": [
      "."
     ]
    },
    {
     "name": "stdout",
     "output_type": "stream",
     "text": [
      "."
     ]
    },
    {
     "name": "stdout",
     "output_type": "stream",
     "text": [
      "."
     ]
    },
    {
     "name": "stdout",
     "output_type": "stream",
     "text": [
      "."
     ]
    },
    {
     "name": "stdout",
     "output_type": "stream",
     "text": [
      "."
     ]
    },
    {
     "name": "stdout",
     "output_type": "stream",
     "text": [
      "."
     ]
    },
    {
     "name": "stdout",
     "output_type": "stream",
     "text": [
      "."
     ]
    },
    {
     "name": "stdout",
     "output_type": "stream",
     "text": [
      "."
     ]
    },
    {
     "name": "stdout",
     "output_type": "stream",
     "text": [
      "."
     ]
    },
    {
     "name": "stdout",
     "output_type": "stream",
     "text": [
      "."
     ]
    },
    {
     "name": "stdout",
     "output_type": "stream",
     "text": [
      "."
     ]
    },
    {
     "name": "stdout",
     "output_type": "stream",
     "text": [
      "."
     ]
    },
    {
     "name": "stdout",
     "output_type": "stream",
     "text": [
      "."
     ]
    },
    {
     "name": "stdout",
     "output_type": "stream",
     "text": [
      "."
     ]
    },
    {
     "name": "stdout",
     "output_type": "stream",
     "text": [
      "."
     ]
    },
    {
     "name": "stdout",
     "output_type": "stream",
     "text": [
      "."
     ]
    },
    {
     "name": "stdout",
     "output_type": "stream",
     "text": [
      "."
     ]
    },
    {
     "name": "stdout",
     "output_type": "stream",
     "text": [
      "."
     ]
    },
    {
     "name": "stdout",
     "output_type": "stream",
     "text": [
      "."
     ]
    },
    {
     "name": "stdout",
     "output_type": "stream",
     "text": [
      "."
     ]
    },
    {
     "name": "stdout",
     "output_type": "stream",
     "text": [
      "."
     ]
    },
    {
     "name": "stdout",
     "output_type": "stream",
     "text": [
      "."
     ]
    },
    {
     "name": "stdout",
     "output_type": "stream",
     "text": [
      "."
     ]
    },
    {
     "name": "stdout",
     "output_type": "stream",
     "text": [
      "."
     ]
    },
    {
     "name": "stdout",
     "output_type": "stream",
     "text": [
      "."
     ]
    },
    {
     "name": "stdout",
     "output_type": "stream",
     "text": [
      "."
     ]
    },
    {
     "name": "stdout",
     "output_type": "stream",
     "text": [
      "."
     ]
    },
    {
     "name": "stdout",
     "output_type": "stream",
     "text": [
      "\n"
     ]
    },
    {
     "name": "stdout",
     "output_type": "stream",
     "text": [
      "03 (rep3.db): "
     ]
    },
    {
     "name": "stdout",
     "output_type": "stream",
     "text": [
      "."
     ]
    },
    {
     "name": "stdout",
     "output_type": "stream",
     "text": [
      "."
     ]
    },
    {
     "name": "stdout",
     "output_type": "stream",
     "text": [
      "."
     ]
    },
    {
     "name": "stdout",
     "output_type": "stream",
     "text": [
      "."
     ]
    },
    {
     "name": "stdout",
     "output_type": "stream",
     "text": [
      "."
     ]
    },
    {
     "name": "stdout",
     "output_type": "stream",
     "text": [
      "."
     ]
    },
    {
     "name": "stdout",
     "output_type": "stream",
     "text": [
      "."
     ]
    },
    {
     "name": "stdout",
     "output_type": "stream",
     "text": [
      "."
     ]
    },
    {
     "name": "stdout",
     "output_type": "stream",
     "text": [
      "."
     ]
    },
    {
     "name": "stdout",
     "output_type": "stream",
     "text": [
      "."
     ]
    },
    {
     "name": "stdout",
     "output_type": "stream",
     "text": [
      "."
     ]
    },
    {
     "name": "stdout",
     "output_type": "stream",
     "text": [
      "."
     ]
    },
    {
     "name": "stdout",
     "output_type": "stream",
     "text": [
      "."
     ]
    },
    {
     "name": "stdout",
     "output_type": "stream",
     "text": [
      "."
     ]
    },
    {
     "name": "stdout",
     "output_type": "stream",
     "text": [
      "."
     ]
    },
    {
     "name": "stdout",
     "output_type": "stream",
     "text": [
      "."
     ]
    },
    {
     "name": "stdout",
     "output_type": "stream",
     "text": [
      "."
     ]
    },
    {
     "name": "stdout",
     "output_type": "stream",
     "text": [
      "."
     ]
    },
    {
     "name": "stdout",
     "output_type": "stream",
     "text": [
      "."
     ]
    },
    {
     "name": "stdout",
     "output_type": "stream",
     "text": [
      "."
     ]
    },
    {
     "name": "stdout",
     "output_type": "stream",
     "text": [
      "."
     ]
    },
    {
     "name": "stdout",
     "output_type": "stream",
     "text": [
      "."
     ]
    },
    {
     "name": "stdout",
     "output_type": "stream",
     "text": [
      "."
     ]
    },
    {
     "name": "stdout",
     "output_type": "stream",
     "text": [
      "."
     ]
    },
    {
     "name": "stdout",
     "output_type": "stream",
     "text": [
      "."
     ]
    },
    {
     "name": "stdout",
     "output_type": "stream",
     "text": [
      "."
     ]
    },
    {
     "name": "stdout",
     "output_type": "stream",
     "text": [
      "."
     ]
    },
    {
     "name": "stdout",
     "output_type": "stream",
     "text": [
      "."
     ]
    },
    {
     "name": "stdout",
     "output_type": "stream",
     "text": [
      "."
     ]
    },
    {
     "name": "stdout",
     "output_type": "stream",
     "text": [
      "."
     ]
    },
    {
     "name": "stdout",
     "output_type": "stream",
     "text": [
      "."
     ]
    },
    {
     "name": "stdout",
     "output_type": "stream",
     "text": [
      "."
     ]
    },
    {
     "name": "stdout",
     "output_type": "stream",
     "text": [
      "."
     ]
    },
    {
     "name": "stdout",
     "output_type": "stream",
     "text": [
      "."
     ]
    },
    {
     "name": "stdout",
     "output_type": "stream",
     "text": [
      "."
     ]
    },
    {
     "name": "stdout",
     "output_type": "stream",
     "text": [
      "."
     ]
    },
    {
     "name": "stdout",
     "output_type": "stream",
     "text": [
      "."
     ]
    },
    {
     "name": "stdout",
     "output_type": "stream",
     "text": [
      "\n"
     ]
    },
    {
     "name": "stdout",
     "output_type": "stream",
     "text": [
      "04 (rep4.db): "
     ]
    },
    {
     "name": "stdout",
     "output_type": "stream",
     "text": [
      "."
     ]
    },
    {
     "name": "stdout",
     "output_type": "stream",
     "text": [
      "."
     ]
    },
    {
     "name": "stdout",
     "output_type": "stream",
     "text": [
      "."
     ]
    },
    {
     "name": "stdout",
     "output_type": "stream",
     "text": [
      "."
     ]
    },
    {
     "name": "stdout",
     "output_type": "stream",
     "text": [
      "."
     ]
    },
    {
     "name": "stdout",
     "output_type": "stream",
     "text": [
      "."
     ]
    },
    {
     "name": "stdout",
     "output_type": "stream",
     "text": [
      "."
     ]
    },
    {
     "name": "stdout",
     "output_type": "stream",
     "text": [
      "."
     ]
    },
    {
     "name": "stdout",
     "output_type": "stream",
     "text": [
      "."
     ]
    },
    {
     "name": "stdout",
     "output_type": "stream",
     "text": [
      "."
     ]
    },
    {
     "name": "stdout",
     "output_type": "stream",
     "text": [
      "."
     ]
    },
    {
     "name": "stdout",
     "output_type": "stream",
     "text": [
      "."
     ]
    },
    {
     "name": "stdout",
     "output_type": "stream",
     "text": [
      "."
     ]
    },
    {
     "name": "stdout",
     "output_type": "stream",
     "text": [
      "."
     ]
    },
    {
     "name": "stdout",
     "output_type": "stream",
     "text": [
      "."
     ]
    },
    {
     "name": "stdout",
     "output_type": "stream",
     "text": [
      "."
     ]
    },
    {
     "name": "stdout",
     "output_type": "stream",
     "text": [
      "."
     ]
    },
    {
     "name": "stdout",
     "output_type": "stream",
     "text": [
      "."
     ]
    },
    {
     "name": "stdout",
     "output_type": "stream",
     "text": [
      "."
     ]
    },
    {
     "name": "stdout",
     "output_type": "stream",
     "text": [
      "."
     ]
    },
    {
     "name": "stdout",
     "output_type": "stream",
     "text": [
      "."
     ]
    },
    {
     "name": "stdout",
     "output_type": "stream",
     "text": [
      "."
     ]
    },
    {
     "name": "stdout",
     "output_type": "stream",
     "text": [
      "."
     ]
    },
    {
     "name": "stdout",
     "output_type": "stream",
     "text": [
      "."
     ]
    },
    {
     "name": "stdout",
     "output_type": "stream",
     "text": [
      "."
     ]
    },
    {
     "name": "stdout",
     "output_type": "stream",
     "text": [
      "."
     ]
    },
    {
     "name": "stdout",
     "output_type": "stream",
     "text": [
      "."
     ]
    },
    {
     "name": "stdout",
     "output_type": "stream",
     "text": [
      "."
     ]
    },
    {
     "name": "stdout",
     "output_type": "stream",
     "text": [
      "."
     ]
    },
    {
     "name": "stdout",
     "output_type": "stream",
     "text": [
      "."
     ]
    },
    {
     "name": "stdout",
     "output_type": "stream",
     "text": [
      "."
     ]
    },
    {
     "name": "stdout",
     "output_type": "stream",
     "text": [
      "."
     ]
    },
    {
     "name": "stdout",
     "output_type": "stream",
     "text": [
      "."
     ]
    },
    {
     "name": "stdout",
     "output_type": "stream",
     "text": [
      "."
     ]
    },
    {
     "name": "stdout",
     "output_type": "stream",
     "text": [
      "."
     ]
    },
    {
     "name": "stdout",
     "output_type": "stream",
     "text": [
      "."
     ]
    },
    {
     "name": "stdout",
     "output_type": "stream",
     "text": [
      "."
     ]
    },
    {
     "name": "stdout",
     "output_type": "stream",
     "text": [
      "\n"
     ]
    },
    {
     "name": "stdout",
     "output_type": "stream",
     "text": [
      "05 (rep5.db): "
     ]
    },
    {
     "name": "stdout",
     "output_type": "stream",
     "text": [
      "."
     ]
    },
    {
     "name": "stdout",
     "output_type": "stream",
     "text": [
      "."
     ]
    },
    {
     "name": "stdout",
     "output_type": "stream",
     "text": [
      "."
     ]
    },
    {
     "name": "stdout",
     "output_type": "stream",
     "text": [
      "."
     ]
    },
    {
     "name": "stdout",
     "output_type": "stream",
     "text": [
      "."
     ]
    },
    {
     "name": "stdout",
     "output_type": "stream",
     "text": [
      "."
     ]
    },
    {
     "name": "stdout",
     "output_type": "stream",
     "text": [
      "."
     ]
    },
    {
     "name": "stdout",
     "output_type": "stream",
     "text": [
      "."
     ]
    },
    {
     "name": "stdout",
     "output_type": "stream",
     "text": [
      "."
     ]
    },
    {
     "name": "stdout",
     "output_type": "stream",
     "text": [
      "."
     ]
    },
    {
     "name": "stdout",
     "output_type": "stream",
     "text": [
      "."
     ]
    },
    {
     "name": "stdout",
     "output_type": "stream",
     "text": [
      "."
     ]
    },
    {
     "name": "stdout",
     "output_type": "stream",
     "text": [
      "."
     ]
    },
    {
     "name": "stdout",
     "output_type": "stream",
     "text": [
      "."
     ]
    },
    {
     "name": "stdout",
     "output_type": "stream",
     "text": [
      "."
     ]
    },
    {
     "name": "stdout",
     "output_type": "stream",
     "text": [
      "."
     ]
    },
    {
     "name": "stdout",
     "output_type": "stream",
     "text": [
      "."
     ]
    },
    {
     "name": "stdout",
     "output_type": "stream",
     "text": [
      "."
     ]
    },
    {
     "name": "stdout",
     "output_type": "stream",
     "text": [
      "."
     ]
    },
    {
     "name": "stdout",
     "output_type": "stream",
     "text": [
      "."
     ]
    },
    {
     "name": "stdout",
     "output_type": "stream",
     "text": [
      "."
     ]
    },
    {
     "name": "stdout",
     "output_type": "stream",
     "text": [
      "."
     ]
    },
    {
     "name": "stdout",
     "output_type": "stream",
     "text": [
      "."
     ]
    },
    {
     "name": "stdout",
     "output_type": "stream",
     "text": [
      "."
     ]
    },
    {
     "name": "stdout",
     "output_type": "stream",
     "text": [
      "."
     ]
    },
    {
     "name": "stdout",
     "output_type": "stream",
     "text": [
      "."
     ]
    },
    {
     "name": "stdout",
     "output_type": "stream",
     "text": [
      "."
     ]
    },
    {
     "name": "stdout",
     "output_type": "stream",
     "text": [
      "."
     ]
    },
    {
     "name": "stdout",
     "output_type": "stream",
     "text": [
      "."
     ]
    },
    {
     "name": "stdout",
     "output_type": "stream",
     "text": [
      "."
     ]
    },
    {
     "name": "stdout",
     "output_type": "stream",
     "text": [
      "."
     ]
    },
    {
     "name": "stdout",
     "output_type": "stream",
     "text": [
      "."
     ]
    },
    {
     "name": "stdout",
     "output_type": "stream",
     "text": [
      "."
     ]
    },
    {
     "name": "stdout",
     "output_type": "stream",
     "text": [
      "."
     ]
    },
    {
     "name": "stdout",
     "output_type": "stream",
     "text": [
      "."
     ]
    },
    {
     "name": "stdout",
     "output_type": "stream",
     "text": [
      "."
     ]
    },
    {
     "name": "stdout",
     "output_type": "stream",
     "text": [
      "."
     ]
    },
    {
     "name": "stdout",
     "output_type": "stream",
     "text": [
      "\n"
     ]
    },
    {
     "name": "stdout",
     "output_type": "stream",
     "text": [
      "06 (rep6.db): "
     ]
    },
    {
     "name": "stdout",
     "output_type": "stream",
     "text": [
      "."
     ]
    },
    {
     "name": "stdout",
     "output_type": "stream",
     "text": [
      "."
     ]
    },
    {
     "name": "stdout",
     "output_type": "stream",
     "text": [
      "."
     ]
    },
    {
     "name": "stdout",
     "output_type": "stream",
     "text": [
      "."
     ]
    },
    {
     "name": "stdout",
     "output_type": "stream",
     "text": [
      "."
     ]
    },
    {
     "name": "stdout",
     "output_type": "stream",
     "text": [
      "."
     ]
    },
    {
     "name": "stdout",
     "output_type": "stream",
     "text": [
      "."
     ]
    },
    {
     "name": "stdout",
     "output_type": "stream",
     "text": [
      "."
     ]
    },
    {
     "name": "stdout",
     "output_type": "stream",
     "text": [
      "."
     ]
    },
    {
     "name": "stdout",
     "output_type": "stream",
     "text": [
      "."
     ]
    },
    {
     "name": "stdout",
     "output_type": "stream",
     "text": [
      "."
     ]
    },
    {
     "name": "stdout",
     "output_type": "stream",
     "text": [
      "."
     ]
    },
    {
     "name": "stdout",
     "output_type": "stream",
     "text": [
      "."
     ]
    },
    {
     "name": "stdout",
     "output_type": "stream",
     "text": [
      "."
     ]
    },
    {
     "name": "stdout",
     "output_type": "stream",
     "text": [
      "."
     ]
    },
    {
     "name": "stdout",
     "output_type": "stream",
     "text": [
      "."
     ]
    },
    {
     "name": "stdout",
     "output_type": "stream",
     "text": [
      "."
     ]
    },
    {
     "name": "stdout",
     "output_type": "stream",
     "text": [
      "."
     ]
    },
    {
     "name": "stdout",
     "output_type": "stream",
     "text": [
      "."
     ]
    },
    {
     "name": "stdout",
     "output_type": "stream",
     "text": [
      "."
     ]
    },
    {
     "name": "stdout",
     "output_type": "stream",
     "text": [
      "."
     ]
    },
    {
     "name": "stdout",
     "output_type": "stream",
     "text": [
      "."
     ]
    },
    {
     "name": "stdout",
     "output_type": "stream",
     "text": [
      "."
     ]
    },
    {
     "name": "stdout",
     "output_type": "stream",
     "text": [
      "."
     ]
    },
    {
     "name": "stdout",
     "output_type": "stream",
     "text": [
      "."
     ]
    },
    {
     "name": "stdout",
     "output_type": "stream",
     "text": [
      "."
     ]
    },
    {
     "name": "stdout",
     "output_type": "stream",
     "text": [
      "."
     ]
    },
    {
     "name": "stdout",
     "output_type": "stream",
     "text": [
      "."
     ]
    },
    {
     "name": "stdout",
     "output_type": "stream",
     "text": [
      "."
     ]
    },
    {
     "name": "stdout",
     "output_type": "stream",
     "text": [
      "."
     ]
    },
    {
     "name": "stdout",
     "output_type": "stream",
     "text": [
      "."
     ]
    },
    {
     "name": "stdout",
     "output_type": "stream",
     "text": [
      "."
     ]
    },
    {
     "name": "stdout",
     "output_type": "stream",
     "text": [
      "."
     ]
    },
    {
     "name": "stdout",
     "output_type": "stream",
     "text": [
      "."
     ]
    },
    {
     "name": "stdout",
     "output_type": "stream",
     "text": [
      "."
     ]
    },
    {
     "name": "stdout",
     "output_type": "stream",
     "text": [
      "."
     ]
    },
    {
     "name": "stdout",
     "output_type": "stream",
     "text": [
      "."
     ]
    },
    {
     "name": "stdout",
     "output_type": "stream",
     "text": [
      "\n"
     ]
    },
    {
     "name": "stdout",
     "output_type": "stream",
     "text": [
      "07 (rep7.db): "
     ]
    },
    {
     "name": "stdout",
     "output_type": "stream",
     "text": [
      "."
     ]
    },
    {
     "name": "stdout",
     "output_type": "stream",
     "text": [
      "."
     ]
    },
    {
     "name": "stdout",
     "output_type": "stream",
     "text": [
      "."
     ]
    },
    {
     "name": "stdout",
     "output_type": "stream",
     "text": [
      "."
     ]
    },
    {
     "name": "stdout",
     "output_type": "stream",
     "text": [
      "."
     ]
    },
    {
     "name": "stdout",
     "output_type": "stream",
     "text": [
      "."
     ]
    },
    {
     "name": "stdout",
     "output_type": "stream",
     "text": [
      "."
     ]
    },
    {
     "name": "stdout",
     "output_type": "stream",
     "text": [
      "."
     ]
    },
    {
     "name": "stdout",
     "output_type": "stream",
     "text": [
      "."
     ]
    },
    {
     "name": "stdout",
     "output_type": "stream",
     "text": [
      "."
     ]
    },
    {
     "name": "stdout",
     "output_type": "stream",
     "text": [
      "."
     ]
    },
    {
     "name": "stdout",
     "output_type": "stream",
     "text": [
      "."
     ]
    },
    {
     "name": "stdout",
     "output_type": "stream",
     "text": [
      "."
     ]
    },
    {
     "name": "stdout",
     "output_type": "stream",
     "text": [
      "."
     ]
    },
    {
     "name": "stdout",
     "output_type": "stream",
     "text": [
      "."
     ]
    },
    {
     "name": "stdout",
     "output_type": "stream",
     "text": [
      "."
     ]
    },
    {
     "name": "stdout",
     "output_type": "stream",
     "text": [
      "."
     ]
    },
    {
     "name": "stdout",
     "output_type": "stream",
     "text": [
      "."
     ]
    },
    {
     "name": "stdout",
     "output_type": "stream",
     "text": [
      "."
     ]
    },
    {
     "name": "stdout",
     "output_type": "stream",
     "text": [
      "."
     ]
    },
    {
     "name": "stdout",
     "output_type": "stream",
     "text": [
      "."
     ]
    },
    {
     "name": "stdout",
     "output_type": "stream",
     "text": [
      "."
     ]
    },
    {
     "name": "stdout",
     "output_type": "stream",
     "text": [
      "."
     ]
    },
    {
     "name": "stdout",
     "output_type": "stream",
     "text": [
      "."
     ]
    },
    {
     "name": "stdout",
     "output_type": "stream",
     "text": [
      "."
     ]
    },
    {
     "name": "stdout",
     "output_type": "stream",
     "text": [
      "."
     ]
    },
    {
     "name": "stdout",
     "output_type": "stream",
     "text": [
      "."
     ]
    },
    {
     "name": "stdout",
     "output_type": "stream",
     "text": [
      "."
     ]
    },
    {
     "name": "stdout",
     "output_type": "stream",
     "text": [
      "."
     ]
    },
    {
     "name": "stdout",
     "output_type": "stream",
     "text": [
      "."
     ]
    },
    {
     "name": "stdout",
     "output_type": "stream",
     "text": [
      "."
     ]
    },
    {
     "name": "stdout",
     "output_type": "stream",
     "text": [
      "."
     ]
    },
    {
     "name": "stdout",
     "output_type": "stream",
     "text": [
      "."
     ]
    },
    {
     "name": "stdout",
     "output_type": "stream",
     "text": [
      "."
     ]
    },
    {
     "name": "stdout",
     "output_type": "stream",
     "text": [
      "."
     ]
    },
    {
     "name": "stdout",
     "output_type": "stream",
     "text": [
      "."
     ]
    },
    {
     "name": "stdout",
     "output_type": "stream",
     "text": [
      "."
     ]
    },
    {
     "name": "stdout",
     "output_type": "stream",
     "text": [
      "\n"
     ]
    },
    {
     "name": "stdout",
     "output_type": "stream",
     "text": [
      "08 (rep8.db): "
     ]
    },
    {
     "name": "stdout",
     "output_type": "stream",
     "text": [
      "."
     ]
    },
    {
     "name": "stdout",
     "output_type": "stream",
     "text": [
      "."
     ]
    },
    {
     "name": "stdout",
     "output_type": "stream",
     "text": [
      "."
     ]
    },
    {
     "name": "stdout",
     "output_type": "stream",
     "text": [
      "."
     ]
    },
    {
     "name": "stdout",
     "output_type": "stream",
     "text": [
      "."
     ]
    },
    {
     "name": "stdout",
     "output_type": "stream",
     "text": [
      "."
     ]
    },
    {
     "name": "stdout",
     "output_type": "stream",
     "text": [
      "."
     ]
    },
    {
     "name": "stdout",
     "output_type": "stream",
     "text": [
      "."
     ]
    },
    {
     "name": "stdout",
     "output_type": "stream",
     "text": [
      "."
     ]
    },
    {
     "name": "stdout",
     "output_type": "stream",
     "text": [
      "."
     ]
    },
    {
     "name": "stdout",
     "output_type": "stream",
     "text": [
      "."
     ]
    },
    {
     "name": "stdout",
     "output_type": "stream",
     "text": [
      "."
     ]
    },
    {
     "name": "stdout",
     "output_type": "stream",
     "text": [
      "."
     ]
    },
    {
     "name": "stdout",
     "output_type": "stream",
     "text": [
      "."
     ]
    },
    {
     "name": "stdout",
     "output_type": "stream",
     "text": [
      "."
     ]
    },
    {
     "name": "stdout",
     "output_type": "stream",
     "text": [
      "."
     ]
    },
    {
     "name": "stdout",
     "output_type": "stream",
     "text": [
      "."
     ]
    },
    {
     "name": "stdout",
     "output_type": "stream",
     "text": [
      "."
     ]
    },
    {
     "name": "stdout",
     "output_type": "stream",
     "text": [
      "."
     ]
    },
    {
     "name": "stdout",
     "output_type": "stream",
     "text": [
      "."
     ]
    },
    {
     "name": "stdout",
     "output_type": "stream",
     "text": [
      "."
     ]
    },
    {
     "name": "stdout",
     "output_type": "stream",
     "text": [
      "."
     ]
    },
    {
     "name": "stdout",
     "output_type": "stream",
     "text": [
      "."
     ]
    },
    {
     "name": "stdout",
     "output_type": "stream",
     "text": [
      "."
     ]
    },
    {
     "name": "stdout",
     "output_type": "stream",
     "text": [
      "."
     ]
    },
    {
     "name": "stdout",
     "output_type": "stream",
     "text": [
      "."
     ]
    },
    {
     "name": "stdout",
     "output_type": "stream",
     "text": [
      "."
     ]
    },
    {
     "name": "stdout",
     "output_type": "stream",
     "text": [
      "."
     ]
    },
    {
     "name": "stdout",
     "output_type": "stream",
     "text": [
      "."
     ]
    },
    {
     "name": "stdout",
     "output_type": "stream",
     "text": [
      "."
     ]
    },
    {
     "name": "stdout",
     "output_type": "stream",
     "text": [
      "."
     ]
    },
    {
     "name": "stdout",
     "output_type": "stream",
     "text": [
      "."
     ]
    },
    {
     "name": "stdout",
     "output_type": "stream",
     "text": [
      "."
     ]
    },
    {
     "name": "stdout",
     "output_type": "stream",
     "text": [
      "."
     ]
    },
    {
     "name": "stdout",
     "output_type": "stream",
     "text": [
      "."
     ]
    },
    {
     "name": "stdout",
     "output_type": "stream",
     "text": [
      "."
     ]
    },
    {
     "name": "stdout",
     "output_type": "stream",
     "text": [
      "."
     ]
    },
    {
     "name": "stdout",
     "output_type": "stream",
     "text": [
      "\n"
     ]
    },
    {
     "name": "stdout",
     "output_type": "stream",
     "text": [
      "09 (rep9.db): "
     ]
    },
    {
     "name": "stdout",
     "output_type": "stream",
     "text": [
      "."
     ]
    },
    {
     "name": "stdout",
     "output_type": "stream",
     "text": [
      "."
     ]
    },
    {
     "name": "stdout",
     "output_type": "stream",
     "text": [
      "."
     ]
    },
    {
     "name": "stdout",
     "output_type": "stream",
     "text": [
      "."
     ]
    },
    {
     "name": "stdout",
     "output_type": "stream",
     "text": [
      "."
     ]
    },
    {
     "name": "stdout",
     "output_type": "stream",
     "text": [
      "."
     ]
    },
    {
     "name": "stdout",
     "output_type": "stream",
     "text": [
      "."
     ]
    },
    {
     "name": "stdout",
     "output_type": "stream",
     "text": [
      "."
     ]
    },
    {
     "name": "stdout",
     "output_type": "stream",
     "text": [
      "."
     ]
    },
    {
     "name": "stdout",
     "output_type": "stream",
     "text": [
      "."
     ]
    },
    {
     "name": "stdout",
     "output_type": "stream",
     "text": [
      "."
     ]
    },
    {
     "name": "stdout",
     "output_type": "stream",
     "text": [
      "."
     ]
    },
    {
     "name": "stdout",
     "output_type": "stream",
     "text": [
      "."
     ]
    },
    {
     "name": "stdout",
     "output_type": "stream",
     "text": [
      "."
     ]
    },
    {
     "name": "stdout",
     "output_type": "stream",
     "text": [
      "."
     ]
    },
    {
     "name": "stdout",
     "output_type": "stream",
     "text": [
      "."
     ]
    },
    {
     "name": "stdout",
     "output_type": "stream",
     "text": [
      "."
     ]
    },
    {
     "name": "stdout",
     "output_type": "stream",
     "text": [
      "."
     ]
    },
    {
     "name": "stdout",
     "output_type": "stream",
     "text": [
      "."
     ]
    },
    {
     "name": "stdout",
     "output_type": "stream",
     "text": [
      "."
     ]
    },
    {
     "name": "stdout",
     "output_type": "stream",
     "text": [
      "."
     ]
    },
    {
     "name": "stdout",
     "output_type": "stream",
     "text": [
      "."
     ]
    },
    {
     "name": "stdout",
     "output_type": "stream",
     "text": [
      "."
     ]
    },
    {
     "name": "stdout",
     "output_type": "stream",
     "text": [
      "."
     ]
    },
    {
     "name": "stdout",
     "output_type": "stream",
     "text": [
      "."
     ]
    },
    {
     "name": "stdout",
     "output_type": "stream",
     "text": [
      "."
     ]
    },
    {
     "name": "stdout",
     "output_type": "stream",
     "text": [
      "."
     ]
    },
    {
     "name": "stdout",
     "output_type": "stream",
     "text": [
      "."
     ]
    },
    {
     "name": "stdout",
     "output_type": "stream",
     "text": [
      "."
     ]
    },
    {
     "name": "stdout",
     "output_type": "stream",
     "text": [
      "."
     ]
    },
    {
     "name": "stdout",
     "output_type": "stream",
     "text": [
      "."
     ]
    },
    {
     "name": "stdout",
     "output_type": "stream",
     "text": [
      "."
     ]
    },
    {
     "name": "stdout",
     "output_type": "stream",
     "text": [
      "."
     ]
    },
    {
     "name": "stdout",
     "output_type": "stream",
     "text": [
      "."
     ]
    },
    {
     "name": "stdout",
     "output_type": "stream",
     "text": [
      "."
     ]
    },
    {
     "name": "stdout",
     "output_type": "stream",
     "text": [
      "."
     ]
    },
    {
     "name": "stdout",
     "output_type": "stream",
     "text": [
      "."
     ]
    },
    {
     "name": "stdout",
     "output_type": "stream",
     "text": [
      "\n"
     ]
    }
   ],
   "source": [
    "for rep_idx in range(N_REPS):\n",
    "    # we cache prompt/results by repetition\n",
    "    output_cache_file = conf.common.LLM_CACHE_DIR / f\"rep{rep_idx}.db\"\n",
    "    set_llm_cache(SQLiteCache(database_path=str(output_cache_file)))\n",
    "\n",
    "    print(f\"{str(rep_idx).zfill(2)} ({output_cache_file.name}): \", end=\"\", flush=True)\n",
    "\n",
    "    for par_idx, par in df.iterrows():\n",
    "        print(\".\", end=\"\", flush=True)\n",
    "\n",
    "        res = llm_pairwise(\n",
    "            par[\"original\"],\n",
    "            par[\"modified\"],\n",
    "            par[\"section\"],\n",
    "            model_name=LLM_JUDGE,\n",
    "            model_params={\n",
    "                \"temperature\": TEMPERATURE,\n",
    "                \"max_tokens\": MAX_TOKENS,\n",
    "                \"model_kwargs\": {\n",
    "                    \"seed\": SEED_INIT + rep_idx,\n",
    "                },\n",
    "            },\n",
    "            verbose=False,\n",
    "        )\n",
    "\n",
    "        results.append(\n",
    "            {\n",
    "                \"rep_index\": rep_idx,\n",
    "                \"paragraph_index\": par_idx,\n",
    "                \"paragraph_section\": par[\"section\"],\n",
    "                \"winner\": res[\"best\"],\n",
    "                \"rationale\": res[\"rationale\"],\n",
    "            }\n",
    "        )\n",
    "\n",
    "    print(flush=True)"
   ]
  },
  {
   "cell_type": "markdown",
   "id": "6382932d-85d3-48f9-8a10-59709278f3b3",
   "metadata": {
    "editable": true,
    "papermill": {
     "duration": 0.025899,
     "end_time": "2024-03-21T01:15:19.533605",
     "exception": false,
     "start_time": "2024-03-21T01:15:19.507706",
     "status": "completed"
    },
    "slideshow": {
     "slide_type": ""
    },
    "tags": []
   },
   "source": [
    "# Process results"
   ]
  },
  {
   "cell_type": "code",
   "execution_count": 15,
   "id": "b3462b66-4958-44fa-aa96-2bd6c867dc97",
   "metadata": {
    "editable": true,
    "execution": {
     "iopub.execute_input": "2024-03-21T01:15:19.857989Z",
     "iopub.status.busy": "2024-03-21T01:15:19.857832Z",
     "iopub.status.idle": "2024-03-21T01:15:19.860247Z",
     "shell.execute_reply": "2024-03-21T01:15:19.859909Z"
    },
    "papermill": {
     "duration": 0.301301,
     "end_time": "2024-03-21T01:15:19.861193",
     "exception": false,
     "start_time": "2024-03-21T01:15:19.559892",
     "status": "completed"
    },
    "slideshow": {
     "slide_type": ""
    },
    "tags": []
   },
   "outputs": [],
   "source": [
    "winner_matchings = {\n",
    "    \"Paragraph A\": \"-1\",  # Original\n",
    "    \"Paragraph 1\": \"1\",  # Modified\n",
    "    \"tie\": \"0\",\n",
    "}"
   ]
  },
  {
   "cell_type": "code",
   "execution_count": 16,
   "id": "23c26bfc-51eb-46ac-aeb4-f5cd8b147ada",
   "metadata": {
    "execution": {
     "iopub.execute_input": "2024-03-21T01:15:19.909699Z",
     "iopub.status.busy": "2024-03-21T01:15:19.909602Z",
     "iopub.status.idle": "2024-03-21T01:15:19.912397Z",
     "shell.execute_reply": "2024-03-21T01:15:19.912039Z"
    },
    "papermill": {
     "duration": 0.030559,
     "end_time": "2024-03-21T01:15:19.913475",
     "exception": false,
     "start_time": "2024-03-21T01:15:19.882916",
     "status": "completed"
    },
    "tags": []
   },
   "outputs": [],
   "source": [
    "df_results = pd.DataFrame(results)"
   ]
  },
  {
   "cell_type": "code",
   "execution_count": 17,
   "id": "06097641-09ba-4c68-a237-21e6f80a700a",
   "metadata": {
    "execution": {
     "iopub.execute_input": "2024-03-21T01:15:19.958160Z",
     "iopub.status.busy": "2024-03-21T01:15:19.958046Z",
     "iopub.status.idle": "2024-03-21T01:15:19.960857Z",
     "shell.execute_reply": "2024-03-21T01:15:19.960455Z"
    },
    "papermill": {
     "duration": 0.021729,
     "end_time": "2024-03-21T01:15:19.961584",
     "exception": false,
     "start_time": "2024-03-21T01:15:19.939855",
     "status": "completed"
    },
    "tags": []
   },
   "outputs": [
    {
     "data": {
      "text/plain": [
       "(370, 5)"
      ]
     },
     "execution_count": 17,
     "metadata": {},
     "output_type": "execute_result"
    }
   ],
   "source": [
    "df_results.shape"
   ]
  },
  {
   "cell_type": "code",
   "execution_count": 18,
   "id": "0e700042-29de-40a0-9fa6-fcfdecd0c25c",
   "metadata": {
    "execution": {
     "iopub.execute_input": "2024-03-21T01:15:19.990380Z",
     "iopub.status.busy": "2024-03-21T01:15:19.990238Z",
     "iopub.status.idle": "2024-03-21T01:15:19.995994Z",
     "shell.execute_reply": "2024-03-21T01:15:19.995581Z"
    },
    "papermill": {
     "duration": 0.021034,
     "end_time": "2024-03-21T01:15:19.996710",
     "exception": false,
     "start_time": "2024-03-21T01:15:19.975676",
     "status": "completed"
    },
    "tags": []
   },
   "outputs": [
    {
     "data": {
      "text/html": [
       "<div>\n",
       "<style scoped>\n",
       "    .dataframe tbody tr th:only-of-type {\n",
       "        vertical-align: middle;\n",
       "    }\n",
       "\n",
       "    .dataframe tbody tr th {\n",
       "        vertical-align: top;\n",
       "    }\n",
       "\n",
       "    .dataframe thead th {\n",
       "        text-align: right;\n",
       "    }\n",
       "</style>\n",
       "<table border=\"1\" class=\"dataframe\">\n",
       "  <thead>\n",
       "    <tr style=\"text-align: right;\">\n",
       "      <th></th>\n",
       "      <th>rep_index</th>\n",
       "      <th>paragraph_index</th>\n",
       "      <th>paragraph_section</th>\n",
       "      <th>winner</th>\n",
       "      <th>rationale</th>\n",
       "    </tr>\n",
       "  </thead>\n",
       "  <tbody>\n",
       "    <tr>\n",
       "      <th>0</th>\n",
       "      <td>0</td>\n",
       "      <td>0</td>\n",
       "      <td>abstract</td>\n",
       "      <td>Paragraph A</td>\n",
       "      <td>Paragraph A has a slightly clearer sentence st...</td>\n",
       "    </tr>\n",
       "    <tr>\n",
       "      <th>1</th>\n",
       "      <td>0</td>\n",
       "      <td>1</td>\n",
       "      <td>introduction</td>\n",
       "      <td>tie</td>\n",
       "      <td>Both paragraphs exhibit clear sentence structu...</td>\n",
       "    </tr>\n",
       "    <tr>\n",
       "      <th>2</th>\n",
       "      <td>0</td>\n",
       "      <td>2</td>\n",
       "      <td>introduction</td>\n",
       "      <td>Paragraph A</td>\n",
       "      <td>Paragraph A has a slightly clearer sentence st...</td>\n",
       "    </tr>\n",
       "    <tr>\n",
       "      <th>3</th>\n",
       "      <td>0</td>\n",
       "      <td>3</td>\n",
       "      <td>introduction</td>\n",
       "      <td>tie</td>\n",
       "      <td>Both paragraphs exhibit clear sentence structu...</td>\n",
       "    </tr>\n",
       "    <tr>\n",
       "      <th>4</th>\n",
       "      <td>0</td>\n",
       "      <td>4</td>\n",
       "      <td>results</td>\n",
       "      <td>Paragraph 1</td>\n",
       "      <td>Paragraph 1 has a clear and organized structur...</td>\n",
       "    </tr>\n",
       "  </tbody>\n",
       "</table>\n",
       "</div>"
      ],
      "text/plain": [
       "   rep_index  paragraph_index paragraph_section       winner  \\\n",
       "0          0                0          abstract  Paragraph A   \n",
       "1          0                1      introduction          tie   \n",
       "2          0                2      introduction  Paragraph A   \n",
       "3          0                3      introduction          tie   \n",
       "4          0                4           results  Paragraph 1   \n",
       "\n",
       "                                           rationale  \n",
       "0  Paragraph A has a slightly clearer sentence st...  \n",
       "1  Both paragraphs exhibit clear sentence structu...  \n",
       "2  Paragraph A has a slightly clearer sentence st...  \n",
       "3  Both paragraphs exhibit clear sentence structu...  \n",
       "4  Paragraph 1 has a clear and organized structur...  "
      ]
     },
     "execution_count": 18,
     "metadata": {},
     "output_type": "execute_result"
    }
   ],
   "source": [
    "df_results.head()"
   ]
  },
  {
   "cell_type": "code",
   "execution_count": 19,
   "id": "103a3ada-1a24-4b86-8477-bc34330314e3",
   "metadata": {
    "execution": {
     "iopub.execute_input": "2024-03-21T01:15:20.025795Z",
     "iopub.status.busy": "2024-03-21T01:15:20.025652Z",
     "iopub.status.idle": "2024-03-21T01:15:20.028661Z",
     "shell.execute_reply": "2024-03-21T01:15:20.028188Z"
    },
    "papermill": {
     "duration": 0.018377,
     "end_time": "2024-03-21T01:15:20.029385",
     "exception": false,
     "start_time": "2024-03-21T01:15:20.011008",
     "status": "completed"
    },
    "tags": []
   },
   "outputs": [],
   "source": [
    "df_results = df_results[df_results[\"winner\"].isin(winner_matchings.keys())]"
   ]
  },
  {
   "cell_type": "code",
   "execution_count": 20,
   "id": "6c4b0e99-e2b8-47c6-a4b1-6ed8e74d8031",
   "metadata": {
    "execution": {
     "iopub.execute_input": "2024-03-21T01:15:20.058480Z",
     "iopub.status.busy": "2024-03-21T01:15:20.058303Z",
     "iopub.status.idle": "2024-03-21T01:15:20.061653Z",
     "shell.execute_reply": "2024-03-21T01:15:20.061231Z"
    },
    "papermill": {
     "duration": 0.018787,
     "end_time": "2024-03-21T01:15:20.062396",
     "exception": false,
     "start_time": "2024-03-21T01:15:20.043609",
     "status": "completed"
    },
    "tags": []
   },
   "outputs": [
    {
     "data": {
      "text/plain": [
       "(370, 5)"
      ]
     },
     "execution_count": 20,
     "metadata": {},
     "output_type": "execute_result"
    }
   ],
   "source": [
    "df_results.shape"
   ]
  },
  {
   "cell_type": "code",
   "execution_count": 21,
   "id": "b2b65209-a402-4a71-8eae-593dc3927381",
   "metadata": {
    "editable": true,
    "execution": {
     "iopub.execute_input": "2024-03-21T01:15:20.092123Z",
     "iopub.status.busy": "2024-03-21T01:15:20.091663Z",
     "iopub.status.idle": "2024-03-21T01:15:20.095767Z",
     "shell.execute_reply": "2024-03-21T01:15:20.095329Z"
    },
    "papermill": {
     "duration": 0.019787,
     "end_time": "2024-03-21T01:15:20.096529",
     "exception": false,
     "start_time": "2024-03-21T01:15:20.076742",
     "status": "completed"
    },
    "slideshow": {
     "slide_type": ""
    },
    "tags": []
   },
   "outputs": [],
   "source": [
    "df_results = df_results.assign(\n",
    "    winner_score=df_results[\"winner\"].replace(winner_matchings).apply(float)\n",
    ")"
   ]
  },
  {
   "cell_type": "code",
   "execution_count": 22,
   "id": "44b9c000-c8f5-49ca-989e-fbd7b5e5109e",
   "metadata": {
    "editable": true,
    "execution": {
     "iopub.execute_input": "2024-03-21T01:15:20.126102Z",
     "iopub.status.busy": "2024-03-21T01:15:20.125920Z",
     "iopub.status.idle": "2024-03-21T01:15:20.129225Z",
     "shell.execute_reply": "2024-03-21T01:15:20.128793Z"
    },
    "papermill": {
     "duration": 0.01899,
     "end_time": "2024-03-21T01:15:20.129977",
     "exception": false,
     "start_time": "2024-03-21T01:15:20.110987",
     "status": "completed"
    },
    "slideshow": {
     "slide_type": ""
    },
    "tags": []
   },
   "outputs": [
    {
     "data": {
      "text/plain": [
       "(370, 6)"
      ]
     },
     "execution_count": 22,
     "metadata": {},
     "output_type": "execute_result"
    }
   ],
   "source": [
    "df_results.shape"
   ]
  },
  {
   "cell_type": "code",
   "execution_count": 23,
   "id": "6743cafe-e446-4b6e-b832-b73d4ac54b1f",
   "metadata": {
    "editable": true,
    "execution": {
     "iopub.execute_input": "2024-03-21T01:15:20.159461Z",
     "iopub.status.busy": "2024-03-21T01:15:20.159284Z",
     "iopub.status.idle": "2024-03-21T01:15:20.167158Z",
     "shell.execute_reply": "2024-03-21T01:15:20.166649Z"
    },
    "papermill": {
     "duration": 0.023481,
     "end_time": "2024-03-21T01:15:20.167869",
     "exception": false,
     "start_time": "2024-03-21T01:15:20.144388",
     "status": "completed"
    },
    "slideshow": {
     "slide_type": ""
    },
    "tags": []
   },
   "outputs": [
    {
     "data": {
      "text/html": [
       "<div>\n",
       "<style scoped>\n",
       "    .dataframe tbody tr th:only-of-type {\n",
       "        vertical-align: middle;\n",
       "    }\n",
       "\n",
       "    .dataframe tbody tr th {\n",
       "        vertical-align: top;\n",
       "    }\n",
       "\n",
       "    .dataframe thead th {\n",
       "        text-align: right;\n",
       "    }\n",
       "</style>\n",
       "<table border=\"1\" class=\"dataframe\">\n",
       "  <thead>\n",
       "    <tr style=\"text-align: right;\">\n",
       "      <th></th>\n",
       "      <th>rep_index</th>\n",
       "      <th>paragraph_index</th>\n",
       "      <th>paragraph_section</th>\n",
       "      <th>winner</th>\n",
       "      <th>rationale</th>\n",
       "      <th>winner_score</th>\n",
       "    </tr>\n",
       "  </thead>\n",
       "  <tbody>\n",
       "    <tr>\n",
       "      <th>0</th>\n",
       "      <td>0</td>\n",
       "      <td>0</td>\n",
       "      <td>abstract</td>\n",
       "      <td>Paragraph A</td>\n",
       "      <td>Paragraph A has a slightly clearer sentence st...</td>\n",
       "      <td>-1.0</td>\n",
       "    </tr>\n",
       "    <tr>\n",
       "      <th>1</th>\n",
       "      <td>0</td>\n",
       "      <td>1</td>\n",
       "      <td>introduction</td>\n",
       "      <td>tie</td>\n",
       "      <td>Both paragraphs exhibit clear sentence structu...</td>\n",
       "      <td>0.0</td>\n",
       "    </tr>\n",
       "    <tr>\n",
       "      <th>2</th>\n",
       "      <td>0</td>\n",
       "      <td>2</td>\n",
       "      <td>introduction</td>\n",
       "      <td>Paragraph A</td>\n",
       "      <td>Paragraph A has a slightly clearer sentence st...</td>\n",
       "      <td>-1.0</td>\n",
       "    </tr>\n",
       "    <tr>\n",
       "      <th>3</th>\n",
       "      <td>0</td>\n",
       "      <td>3</td>\n",
       "      <td>introduction</td>\n",
       "      <td>tie</td>\n",
       "      <td>Both paragraphs exhibit clear sentence structu...</td>\n",
       "      <td>0.0</td>\n",
       "    </tr>\n",
       "    <tr>\n",
       "      <th>4</th>\n",
       "      <td>0</td>\n",
       "      <td>4</td>\n",
       "      <td>results</td>\n",
       "      <td>Paragraph 1</td>\n",
       "      <td>Paragraph 1 has a clear and organized structur...</td>\n",
       "      <td>1.0</td>\n",
       "    </tr>\n",
       "  </tbody>\n",
       "</table>\n",
       "</div>"
      ],
      "text/plain": [
       "   rep_index  paragraph_index paragraph_section       winner  \\\n",
       "0          0                0          abstract  Paragraph A   \n",
       "1          0                1      introduction          tie   \n",
       "2          0                2      introduction  Paragraph A   \n",
       "3          0                3      introduction          tie   \n",
       "4          0                4           results  Paragraph 1   \n",
       "\n",
       "                                           rationale  winner_score  \n",
       "0  Paragraph A has a slightly clearer sentence st...          -1.0  \n",
       "1  Both paragraphs exhibit clear sentence structu...           0.0  \n",
       "2  Paragraph A has a slightly clearer sentence st...          -1.0  \n",
       "3  Both paragraphs exhibit clear sentence structu...           0.0  \n",
       "4  Paragraph 1 has a clear and organized structur...           1.0  "
      ]
     },
     "execution_count": 23,
     "metadata": {},
     "output_type": "execute_result"
    }
   ],
   "source": [
    "df_results.head()"
   ]
  },
  {
   "cell_type": "code",
   "execution_count": 24,
   "id": "c34034ad-656d-4553-b90d-bd068f9c83e5",
   "metadata": {
    "editable": true,
    "execution": {
     "iopub.execute_input": "2024-03-21T01:15:20.197981Z",
     "iopub.status.busy": "2024-03-21T01:15:20.197479Z",
     "iopub.status.idle": "2024-03-21T01:15:20.202393Z",
     "shell.execute_reply": "2024-03-21T01:15:20.201838Z"
    },
    "papermill": {
     "duration": 0.020652,
     "end_time": "2024-03-21T01:15:20.203064",
     "exception": false,
     "start_time": "2024-03-21T01:15:20.182412",
     "status": "completed"
    },
    "slideshow": {
     "slide_type": ""
    },
    "tags": []
   },
   "outputs": [
    {
     "data": {
      "text/plain": [
       "rep_index              int64\n",
       "paragraph_index        int64\n",
       "paragraph_section     object\n",
       "winner                object\n",
       "rationale             object\n",
       "winner_score         float64\n",
       "dtype: object"
      ]
     },
     "execution_count": 24,
     "metadata": {},
     "output_type": "execute_result"
    }
   ],
   "source": [
    "df_results.dtypes"
   ]
  },
  {
   "cell_type": "code",
   "execution_count": 25,
   "id": "fa42ddf4-ec2a-4d55-869a-5942a4a87094",
   "metadata": {
    "editable": true,
    "execution": {
     "iopub.execute_input": "2024-03-21T01:15:20.233095Z",
     "iopub.status.busy": "2024-03-21T01:15:20.232911Z",
     "iopub.status.idle": "2024-03-21T01:15:20.238475Z",
     "shell.execute_reply": "2024-03-21T01:15:20.237889Z"
    },
    "papermill": {
     "duration": 0.021539,
     "end_time": "2024-03-21T01:15:20.239225",
     "exception": false,
     "start_time": "2024-03-21T01:15:20.217686",
     "status": "completed"
    },
    "slideshow": {
     "slide_type": ""
    },
    "tags": []
   },
   "outputs": [
    {
     "data": {
      "text/plain": [
       "paragraph_section\n",
       "abstract       -0.300000\n",
       "discussion     -0.342857\n",
       "introduction   -0.666667\n",
       "methods        -0.218750\n",
       "results         0.040000\n",
       "Name: winner_score, dtype: float64"
      ]
     },
     "execution_count": 25,
     "metadata": {},
     "output_type": "execute_result"
    }
   ],
   "source": [
    "df_results.groupby(\"paragraph_section\")[\"winner_score\"].mean()"
   ]
  },
  {
   "cell_type": "markdown",
   "id": "5ba03c58-7563-416e-bc0e-a0b11796b0c7",
   "metadata": {
    "editable": true,
    "papermill": {
     "duration": 0.014403,
     "end_time": "2024-03-21T01:15:20.268245",
     "exception": false,
     "start_time": "2024-03-21T01:15:20.253842",
     "status": "completed"
    },
    "slideshow": {
     "slide_type": ""
    },
    "tags": []
   },
   "source": [
    "# Save"
   ]
  },
  {
   "cell_type": "code",
   "execution_count": 26,
   "id": "1e3899e4-da2c-4148-b226-268560c655f8",
   "metadata": {
    "editable": true,
    "execution": {
     "iopub.execute_input": "2024-03-21T01:15:20.298210Z",
     "iopub.status.busy": "2024-03-21T01:15:20.298025Z",
     "iopub.status.idle": "2024-03-21T01:15:20.302065Z",
     "shell.execute_reply": "2024-03-21T01:15:20.301498Z"
    },
    "papermill": {
     "duration": 0.02003,
     "end_time": "2024-03-21T01:15:20.302863",
     "exception": false,
     "start_time": "2024-03-21T01:15:20.282833",
     "status": "completed"
    },
    "slideshow": {
     "slide_type": ""
    },
    "tags": []
   },
   "outputs": [],
   "source": [
    "df_results.to_pickle(OUTPUT_FILE)"
   ]
  },
  {
   "cell_type": "code",
   "execution_count": null,
   "id": "46f23ada-3eda-47a0-a5ac-3d6d9a9672fc",
   "metadata": {
    "editable": true,
    "papermill": {
     "duration": 0.014564,
     "end_time": "2024-03-21T01:15:20.332421",
     "exception": false,
     "start_time": "2024-03-21T01:15:20.317857",
     "status": "completed"
    },
    "slideshow": {
     "slide_type": ""
    },
    "tags": []
   },
   "outputs": [],
   "source": []
  }
 ],
 "metadata": {
  "jupytext": {
   "cell_metadata_filter": "all,-execution,-papermill,-trusted",
   "notebook_metadata_filter": "-jupytext.text_representation.jupytext_version"
  },
  "kernelspec": {
   "display_name": "Python 3 (ipykernel)",
   "language": "python",
   "name": "python3"
  },
  "language_info": {
   "codemirror_mode": {
    "name": "ipython",
    "version": 3
   },
   "file_extension": ".py",
   "mimetype": "text/x-python",
   "name": "python",
   "nbconvert_exporter": "python",
   "pygments_lexer": "ipython3",
   "version": "3.11.8"
  },
  "papermill": {
   "default_parameters": {},
   "duration": 1423.631532,
   "end_time": "2024-03-21T01:15:20.967222",
   "environment_variables": {},
   "exception": null,
   "input_path": "/home/miltondp/projects/others/manubot/manubot-ai-editor-code/nbs/05-llm_evaluation/00-llm_pairwise-template.ipynb",
   "output_path": "/home/miltondp/projects/others/manubot/manubot-ai-editor-code/nbs/05-llm_evaluation/output/00-llm_pairwise-biochatter-manuscript--gpt-3.5-turbo--reversed--openai_gpt-3.5-turbo.ipynb",
   "parameters": {
    "INPUT_FILE": "/home/miltondp/projects/others/manubot/manubot-ai-editor-code/base/results/paragraph_match/biochatter-manuscript--gpt-3.5-turbo--reversed.pkl",
    "LLM_JUDGE": "openai:gpt-3.5-turbo",
    "MAX_TOKENS": 2000,
    "N_REPS": 10,
    "OUTPUT_FILE": "/home/miltondp/projects/others/manubot/manubot-ai-editor-code/base/results/llm_pairwise/biochatter-manuscript--gpt-3.5-turbo--reversed--openai_gpt-3.5-turbo.pkl",
    "REPO": "pivlab/manubot-ai-editor-code-test-biochatter-manuscript",
    "SEED_INIT": 0,
    "TEMPERATURE": 0.5
   },
   "start_time": "2024-03-21T00:51:37.335690",
   "version": "2.5.0"
  }
 },
 "nbformat": 4,
 "nbformat_minor": 5
}
