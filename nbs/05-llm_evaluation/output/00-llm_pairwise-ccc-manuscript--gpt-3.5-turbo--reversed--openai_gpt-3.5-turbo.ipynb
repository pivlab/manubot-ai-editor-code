{
 "cells": [
  {
   "cell_type": "markdown",
   "id": "070a050a-44d1-42c2-b274-c8c180a2a0ba",
   "metadata": {
    "editable": true,
    "papermill": {
     "duration": 0.006013,
     "end_time": "2024-03-21T14:24:17.051170",
     "exception": false,
     "start_time": "2024-03-21T14:24:17.045157",
     "status": "completed"
    },
    "slideshow": {
     "slide_type": ""
    },
    "tags": []
   },
   "source": [
    "# Description"
   ]
  },
  {
   "cell_type": "markdown",
   "id": "e4fcbb4d-aa04-4e1a-9aee-0053c559e157",
   "metadata": {
    "editable": true,
    "papermill": {
     "duration": 0.005326,
     "end_time": "2024-03-21T14:24:17.066996",
     "exception": false,
     "start_time": "2024-03-21T14:24:17.061670",
     "status": "completed"
    },
    "slideshow": {
     "slide_type": ""
    },
    "tags": []
   },
   "source": [
    "This notebook is a template notebook that is intended to be run across different parameters.\n",
    "\n",
    "TODO"
   ]
  },
  {
   "cell_type": "markdown",
   "id": "b237f234-dc98-43e9-8ff5-8922c410c377",
   "metadata": {
    "editable": true,
    "papermill": {
     "duration": 0.005279,
     "end_time": "2024-03-21T14:24:17.077644",
     "exception": false,
     "start_time": "2024-03-21T14:24:17.072365",
     "status": "completed"
    },
    "slideshow": {
     "slide_type": ""
    },
    "tags": []
   },
   "source": [
    "# Modules"
   ]
  },
  {
   "cell_type": "code",
   "execution_count": 1,
   "id": "70413318-1f5e-4d58-b1a2-cb4f01c13e86",
   "metadata": {
    "editable": true,
    "execution": {
     "iopub.execute_input": "2024-03-21T14:24:17.090668Z",
     "iopub.status.busy": "2024-03-21T14:24:17.090101Z",
     "iopub.status.idle": "2024-03-21T14:24:18.125395Z",
     "shell.execute_reply": "2024-03-21T14:24:18.124839Z"
    },
    "papermill": {
     "duration": 1.043815,
     "end_time": "2024-03-21T14:24:18.126833",
     "exception": false,
     "start_time": "2024-03-21T14:24:17.083018",
     "status": "completed"
    },
    "slideshow": {
     "slide_type": ""
    },
    "tags": []
   },
   "outputs": [],
   "source": [
    "import pandas as pd\n",
    "from IPython.display import display\n",
    "from langchain.cache import SQLiteCache\n",
    "from langchain.globals import set_llm_cache\n",
    "from proj import conf\n",
    "from proj.utils import llm_pairwise"
   ]
  },
  {
   "cell_type": "markdown",
   "id": "3f78fd18-86b7-40b9-b80e-a8b18d001682",
   "metadata": {
    "editable": true,
    "papermill": {
     "duration": 0.034039,
     "end_time": "2024-03-21T14:24:18.166608",
     "exception": false,
     "start_time": "2024-03-21T14:24:18.132569",
     "status": "completed"
    },
    "slideshow": {
     "slide_type": ""
    },
    "tags": []
   },
   "source": [
    "# Settings/paths"
   ]
  },
  {
   "cell_type": "code",
   "execution_count": 2,
   "id": "10a3ceca-1480-45b0-b04d-cb402ff95abf",
   "metadata": {
    "editable": true,
    "execution": {
     "iopub.execute_input": "2024-03-21T14:24:18.178436Z",
     "iopub.status.busy": "2024-03-21T14:24:18.178280Z",
     "iopub.status.idle": "2024-03-21T14:24:18.180988Z",
     "shell.execute_reply": "2024-03-21T14:24:18.180576Z"
    },
    "papermill": {
     "duration": 0.009917,
     "end_time": "2024-03-21T14:24:18.182102",
     "exception": false,
     "start_time": "2024-03-21T14:24:18.172185",
     "status": "completed"
    },
    "slideshow": {
     "slide_type": ""
    },
    "tags": [
     "parameters"
    ]
   },
   "outputs": [],
   "source": [
    "# Input manuscript\n",
    "REPO = None\n",
    "\n",
    "INPUT_FILE = None\n",
    "OUTPUT_FILE = None\n",
    "\n",
    "# Model and its parameters\n",
    "LLM_JUDGE = None\n",
    "TEMPERATURE = None\n",
    "MAX_TOKENS = 2000\n",
    "SEED_INIT = 0\n",
    "\n",
    "# Evaluation parameters\n",
    "N_REPS = None"
   ]
  },
  {
   "cell_type": "code",
   "execution_count": 3,
   "id": "1d2b857c",
   "metadata": {
    "execution": {
     "iopub.execute_input": "2024-03-21T14:24:18.193976Z",
     "iopub.status.busy": "2024-03-21T14:24:18.193780Z",
     "iopub.status.idle": "2024-03-21T14:24:18.197029Z",
     "shell.execute_reply": "2024-03-21T14:24:18.196510Z"
    },
    "papermill": {
     "duration": 0.01065,
     "end_time": "2024-03-21T14:24:18.198302",
     "exception": false,
     "start_time": "2024-03-21T14:24:18.187652",
     "status": "completed"
    },
    "tags": [
     "injected-parameters"
    ]
   },
   "outputs": [],
   "source": [
    "# Parameters\n",
    "REPO = \"pivlab/manubot-ai-editor-code-test-ccc-manuscript\"\n",
    "INPUT_FILE = \"/home/miltondp/projects/others/manubot/manubot-ai-editor-code/base/results/paragraph_match/ccc-manuscript--gpt-3.5-turbo--reversed.pkl\"\n",
    "OUTPUT_FILE = \"/home/miltondp/projects/others/manubot/manubot-ai-editor-code/base/results/llm_pairwise/ccc-manuscript--gpt-3.5-turbo--reversed--openai_gpt-3.5-turbo.pkl\"\n",
    "LLM_JUDGE = \"openai:gpt-3.5-turbo\"\n",
    "TEMPERATURE = 0.5\n",
    "MAX_TOKENS = 2000\n",
    "SEED_INIT = 0\n",
    "N_REPS = 10\n"
   ]
  },
  {
   "cell_type": "code",
   "execution_count": 4,
   "id": "2245c8bd-63ca-489c-aad5-91a4b57d5e37",
   "metadata": {
    "editable": true,
    "execution": {
     "iopub.execute_input": "2024-03-21T14:24:18.210541Z",
     "iopub.status.busy": "2024-03-21T14:24:18.210157Z",
     "iopub.status.idle": "2024-03-21T14:24:18.216457Z",
     "shell.execute_reply": "2024-03-21T14:24:18.215917Z"
    },
    "papermill": {
     "duration": 0.013663,
     "end_time": "2024-03-21T14:24:18.217606",
     "exception": false,
     "start_time": "2024-03-21T14:24:18.203943",
     "status": "completed"
    },
    "slideshow": {
     "slide_type": ""
    },
    "tags": []
   },
   "outputs": [
    {
     "data": {
      "text/plain": [
       "PosixPath('/home/miltondp/projects/others/manubot/manubot-ai-editor-code/base/results/llm_cache')"
      ]
     },
     "metadata": {},
     "output_type": "display_data"
    }
   ],
   "source": [
    "conf.common.LLM_CACHE_DIR.mkdir(parents=True, exist_ok=True)\n",
    "display(conf.common.LLM_CACHE_DIR)"
   ]
  },
  {
   "cell_type": "markdown",
   "id": "c42b83b5-84b7-45ff-88ee-3651aa5c9c55",
   "metadata": {
    "editable": true,
    "papermill": {
     "duration": 0.005711,
     "end_time": "2024-03-21T14:24:18.229060",
     "exception": false,
     "start_time": "2024-03-21T14:24:18.223349",
     "status": "completed"
    },
    "slideshow": {
     "slide_type": ""
    },
    "tags": []
   },
   "source": [
    "# Load paragraphs"
   ]
  },
  {
   "cell_type": "code",
   "execution_count": 5,
   "id": "f1d1f476-f5b5-4d1c-9c3a-822e9bef4b27",
   "metadata": {
    "editable": true,
    "execution": {
     "iopub.execute_input": "2024-03-21T14:24:18.240722Z",
     "iopub.status.busy": "2024-03-21T14:24:18.240358Z",
     "iopub.status.idle": "2024-03-21T14:24:18.243664Z",
     "shell.execute_reply": "2024-03-21T14:24:18.243164Z"
    },
    "papermill": {
     "duration": 0.009719,
     "end_time": "2024-03-21T14:24:18.244480",
     "exception": false,
     "start_time": "2024-03-21T14:24:18.234761",
     "status": "completed"
    },
    "slideshow": {
     "slide_type": ""
    },
    "tags": []
   },
   "outputs": [],
   "source": [
    "df = pd.read_pickle(INPUT_FILE)"
   ]
  },
  {
   "cell_type": "code",
   "execution_count": 6,
   "id": "4e3db6e2-f267-4d60-8ff3-703698a09f88",
   "metadata": {
    "editable": true,
    "execution": {
     "iopub.execute_input": "2024-03-21T14:24:18.251698Z",
     "iopub.status.busy": "2024-03-21T14:24:18.251282Z",
     "iopub.status.idle": "2024-03-21T14:24:18.254948Z",
     "shell.execute_reply": "2024-03-21T14:24:18.254459Z"
    },
    "papermill": {
     "duration": 0.008083,
     "end_time": "2024-03-21T14:24:18.255699",
     "exception": false,
     "start_time": "2024-03-21T14:24:18.247616",
     "status": "completed"
    },
    "slideshow": {
     "slide_type": ""
    },
    "tags": []
   },
   "outputs": [
    {
     "data": {
      "text/plain": [
       "(31, 3)"
      ]
     },
     "execution_count": 6,
     "metadata": {},
     "output_type": "execute_result"
    }
   ],
   "source": [
    "df.shape"
   ]
  },
  {
   "cell_type": "code",
   "execution_count": 7,
   "id": "cc6a365d-59f5-4537-9fd7-869ee4156046",
   "metadata": {
    "editable": true,
    "execution": {
     "iopub.execute_input": "2024-03-21T14:24:18.262855Z",
     "iopub.status.busy": "2024-03-21T14:24:18.262549Z",
     "iopub.status.idle": "2024-03-21T14:24:18.270177Z",
     "shell.execute_reply": "2024-03-21T14:24:18.269694Z"
    },
    "papermill": {
     "duration": 0.012038,
     "end_time": "2024-03-21T14:24:18.270936",
     "exception": false,
     "start_time": "2024-03-21T14:24:18.258898",
     "status": "completed"
    },
    "slideshow": {
     "slide_type": ""
    },
    "tags": []
   },
   "outputs": [
    {
     "data": {
      "text/html": [
       "<div>\n",
       "<style scoped>\n",
       "    .dataframe tbody tr th:only-of-type {\n",
       "        vertical-align: middle;\n",
       "    }\n",
       "\n",
       "    .dataframe tbody tr th {\n",
       "        vertical-align: top;\n",
       "    }\n",
       "\n",
       "    .dataframe thead th {\n",
       "        text-align: right;\n",
       "    }\n",
       "</style>\n",
       "<table border=\"1\" class=\"dataframe\">\n",
       "  <thead>\n",
       "    <tr style=\"text-align: right;\">\n",
       "      <th></th>\n",
       "      <th>section</th>\n",
       "      <th>modified</th>\n",
       "      <th>original</th>\n",
       "    </tr>\n",
       "  </thead>\n",
       "  <tbody>\n",
       "    <tr>\n",
       "      <th>0</th>\n",
       "      <td>abstract</td>\n",
       "      <td>Correlation coefficients are widely used to id...</td>\n",
       "      <td>In transcriptomics, identifying patterns in ge...</td>\n",
       "    </tr>\n",
       "    <tr>\n",
       "      <th>1</th>\n",
       "      <td>introduction</td>\n",
       "      <td>New technologies have vastly improved data col...</td>\n",
       "      <td>Recent advancements in data collection have le...</td>\n",
       "    </tr>\n",
       "    <tr>\n",
       "      <th>2</th>\n",
       "      <td>introduction</td>\n",
       "      <td>In transcriptomics, many analyses start with e...</td>\n",
       "      <td>In the field of transcriptomics, many analyses...</td>\n",
       "    </tr>\n",
       "    <tr>\n",
       "      <th>3</th>\n",
       "      <td>introduction</td>\n",
       "      <td>The Pearson and Spearman correlation coefficie...</td>\n",
       "      <td>The Pearson and Spearman correlation coefficie...</td>\n",
       "    </tr>\n",
       "    <tr>\n",
       "      <th>4</th>\n",
       "      <td>results</td>\n",
       "      <td>The CCC provides a similarity measure between ...</td>\n",
       "      <td>The CCC calculates the similarity between pair...</td>\n",
       "    </tr>\n",
       "  </tbody>\n",
       "</table>\n",
       "</div>"
      ],
      "text/plain": [
       "        section                                           modified  \\\n",
       "0      abstract  Correlation coefficients are widely used to id...   \n",
       "1  introduction  New technologies have vastly improved data col...   \n",
       "2  introduction  In transcriptomics, many analyses start with e...   \n",
       "3  introduction  The Pearson and Spearman correlation coefficie...   \n",
       "4       results  The CCC provides a similarity measure between ...   \n",
       "\n",
       "                                            original  \n",
       "0  In transcriptomics, identifying patterns in ge...  \n",
       "1  Recent advancements in data collection have le...  \n",
       "2  In the field of transcriptomics, many analyses...  \n",
       "3  The Pearson and Spearman correlation coefficie...  \n",
       "4  The CCC calculates the similarity between pair...  "
      ]
     },
     "execution_count": 7,
     "metadata": {},
     "output_type": "execute_result"
    }
   ],
   "source": [
    "df.head()"
   ]
  },
  {
   "cell_type": "code",
   "execution_count": 8,
   "id": "589fb328-d62a-4573-8177-a9dbd1e495b0",
   "metadata": {
    "editable": true,
    "execution": {
     "iopub.execute_input": "2024-03-21T14:24:18.278358Z",
     "iopub.status.busy": "2024-03-21T14:24:18.278035Z",
     "iopub.status.idle": "2024-03-21T14:24:18.281792Z",
     "shell.execute_reply": "2024-03-21T14:24:18.281299Z"
    },
    "papermill": {
     "duration": 0.008301,
     "end_time": "2024-03-21T14:24:18.282541",
     "exception": false,
     "start_time": "2024-03-21T14:24:18.274240",
     "status": "completed"
    },
    "slideshow": {
     "slide_type": ""
    },
    "tags": []
   },
   "outputs": [
    {
     "data": {
      "text/plain": [
       "'In transcriptomics, identifying patterns in gene expression data is crucial for understanding biological processes. The traditional linear correlation coefficients may not capture all the complexities in gene relationships. To address this, we propose the Clustermatch Correlation Coefficient (CCC), a machine learning-based coefficient that can reveal both linear and nonlinear patterns efficiently. Compared to standard coefficients like the Maximal Information Coefficient, CCC is faster and can detect biologically meaningful patterns that are missed by linear-only methods. When applied to human gene expression data, CCC not only identifies robust linear relationships but also uncovers nonlinear patterns, such as sex differences. Additionally, CCC can detect functional relationships between genes that are overlooked by linear-only methods, as shown by enrichment in integrated networks. Overall, CCC is a versatile and efficient tool that can be applied to genome-scale data and various data types to uncover hidden relationships.'"
      ]
     },
     "execution_count": 8,
     "metadata": {},
     "output_type": "execute_result"
    }
   ],
   "source": [
    "df.iloc[0][\"original\"]"
   ]
  },
  {
   "cell_type": "code",
   "execution_count": 9,
   "id": "4b5fba85-97aa-4051-b755-c45f8dbf2448",
   "metadata": {
    "editable": true,
    "execution": {
     "iopub.execute_input": "2024-03-21T14:24:18.290099Z",
     "iopub.status.busy": "2024-03-21T14:24:18.289791Z",
     "iopub.status.idle": "2024-03-21T14:24:18.293368Z",
     "shell.execute_reply": "2024-03-21T14:24:18.292880Z"
    },
    "papermill": {
     "duration": 0.008152,
     "end_time": "2024-03-21T14:24:18.294065",
     "exception": false,
     "start_time": "2024-03-21T14:24:18.285913",
     "status": "completed"
    },
    "slideshow": {
     "slide_type": ""
    },
    "tags": []
   },
   "outputs": [
    {
     "data": {
      "text/plain": [
       "'Correlation coefficients are widely used to identify patterns in data that may be of particular interest. In transcriptomics, genes with correlated expression often share functions or are part of disease-relevant biological processes. Here we introduce the Clustermatch Correlation Coefficient (CCC), an efficient, easy-to-use and not-only-linear coefficient based on machine learning models. CCC reveals biologically meaningful linear and nonlinear patterns missed by standard, linear-only correlation coefficients. CCC captures general patterns in data by comparing clustering solutions while being much faster than state-of-the-art coefficients such as the Maximal Information Coefficient. When applied to human gene expression data, CCC identifies robust linear relationships while detecting nonlinear patterns associated, for example, with sex differences that are not captured by linear-only coefficients. Gene pairs highly ranked by CCC were enriched for interactions in integrated networks built from protein-protein interaction, transcription factor regulation, and chemical and genetic perturbations, suggesting that CCC could detect functional relationships that linear-only methods missed. CCC is a highly-efficient, next-generation not-only-linear correlation coefficient that can readily be applied to genome-scale data and other domains across different data types.'"
      ]
     },
     "execution_count": 9,
     "metadata": {},
     "output_type": "execute_result"
    }
   ],
   "source": [
    "df.iloc[0][\"modified\"]"
   ]
  },
  {
   "cell_type": "markdown",
   "id": "9291eef4-d5ee-4d89-b34d-997501f0cd0b",
   "metadata": {
    "editable": true,
    "papermill": {
     "duration": 0.003585,
     "end_time": "2024-03-21T14:24:18.301242",
     "exception": false,
     "start_time": "2024-03-21T14:24:18.297657",
     "status": "completed"
    },
    "slideshow": {
     "slide_type": ""
    },
    "tags": []
   },
   "source": [
    "# Test run"
   ]
  },
  {
   "cell_type": "code",
   "execution_count": 10,
   "id": "6b7e80bd-f678-4047-b0f6-3c4e55de4767",
   "metadata": {
    "editable": true,
    "execution": {
     "iopub.execute_input": "2024-03-21T14:24:18.309494Z",
     "iopub.status.busy": "2024-03-21T14:24:18.308976Z",
     "iopub.status.idle": "2024-03-21T14:24:28.091189Z",
     "shell.execute_reply": "2024-03-21T14:24:28.090584Z"
    },
    "papermill": {
     "duration": 9.787745,
     "end_time": "2024-03-21T14:24:28.092494",
     "exception": false,
     "start_time": "2024-03-21T14:24:18.304749",
     "status": "completed"
    },
    "slideshow": {
     "slide_type": ""
    },
    "tags": []
   },
   "outputs": [
    {
     "name": "stdout",
     "output_type": "stream",
     "text": [
      "\n",
      "\n",
      "\u001b[1m> Entering new LLMChain chain...\u001b[0m\n",
      "Prompt after formatting:\n",
      "\u001b[32;1m\u001b[1;3mSystem: You are an expert copyeditor with ample experience in scientific writing. You are assessing the quality of two versions of a paragraph from the Abstract of a scientific article.\n",
      "Human: Evaluate the quality of the following paragraph by writing a list with positive (if any) and/or negative (if any) aspects on the following areas: 1) has a clear sentence structure, 2) is easy to follow, 3) is correct in grammar, 4) has no spelling errors.\n",
      "\n",
      "Paragraph A: In transcriptomics, identifying patterns in gene expression data is crucial for understanding biological processes. The traditional linear correlation coefficients may not capture all the complexities in gene relationships. To address this, we propose the Clustermatch Correlation Coefficient (CCC), a machine learning-based coefficient that can reveal both linear and nonlinear patterns efficiently. Compared to standard coefficients like the Maximal Information Coefficient, CCC is faster and can detect biologically meaningful patterns that are missed by linear-only methods. When applied to human gene expression data, CCC not only identifies robust linear relationships but also uncovers nonlinear patterns, such as sex differences. Additionally, CCC can detect functional relationships between genes that are overlooked by linear-only methods, as shown by enrichment in integrated networks. Overall, CCC is a versatile and efficient tool that can be applied to genome-scale data and various data types to uncover hidden relationships.\u001b[0m\n"
     ]
    },
    {
     "name": "stdout",
     "output_type": "stream",
     "text": [
      "\n",
      "\u001b[1m> Finished chain.\u001b[0m\n",
      "\n",
      "\n",
      "\u001b[1m> Entering new LLMChain chain...\u001b[0m\n",
      "Prompt after formatting:\n",
      "\u001b[32;1m\u001b[1;3mSystem: You are an expert copyeditor with ample experience in scientific writing. You are assessing the quality of two versions of a paragraph from the Abstract of a scientific article.\n",
      "Human: Evaluate the quality of the following paragraph by writing a list with positive (if any) and/or negative (if any) aspects on the following areas: 1) has a clear sentence structure, 2) is easy to follow, 3) is correct in grammar, 4) has no spelling errors.\n",
      "\n",
      "Paragraph A: In transcriptomics, identifying patterns in gene expression data is crucial for understanding biological processes. The traditional linear correlation coefficients may not capture all the complexities in gene relationships. To address this, we propose the Clustermatch Correlation Coefficient (CCC), a machine learning-based coefficient that can reveal both linear and nonlinear patterns efficiently. Compared to standard coefficients like the Maximal Information Coefficient, CCC is faster and can detect biologically meaningful patterns that are missed by linear-only methods. When applied to human gene expression data, CCC not only identifies robust linear relationships but also uncovers nonlinear patterns, such as sex differences. Additionally, CCC can detect functional relationships between genes that are overlooked by linear-only methods, as shown by enrichment in integrated networks. Overall, CCC is a versatile and efficient tool that can be applied to genome-scale data and various data types to uncover hidden relationships.\n",
      "AI: Positive Aspects:\n",
      "1) Clear sentence structure: The paragraph has a clear sentence structure that flows logically from one idea to the next.\n",
      "2) Easy to follow: The paragraph is easy to follow as it introduces a new concept (Clustermatch Correlation Coefficient) and explains its advantages compared to traditional methods.\n",
      "3) Correct in grammar: The paragraph is grammatically correct.\n",
      "4) No spelling errors: There are no spelling errors in the paragraph.\n",
      "\n",
      "Negative Aspects:\n",
      "None\n",
      "Human: Evaluate the quality of the following paragraph by writing a list with positive (if any) and/or negative (if any) aspects on the following areas: 1) has a clear sentence structure, 2) is easy to follow, 3) is correct in grammar, 4) has no spelling errors.\n",
      "\n",
      "Paragraph 1: Correlation coefficients are widely used to identify patterns in data that may be of particular interest. In transcriptomics, genes with correlated expression often share functions or are part of disease-relevant biological processes. Here we introduce the Clustermatch Correlation Coefficient (CCC), an efficient, easy-to-use and not-only-linear coefficient based on machine learning models. CCC reveals biologically meaningful linear and nonlinear patterns missed by standard, linear-only correlation coefficients. CCC captures general patterns in data by comparing clustering solutions while being much faster than state-of-the-art coefficients such as the Maximal Information Coefficient. When applied to human gene expression data, CCC identifies robust linear relationships while detecting nonlinear patterns associated, for example, with sex differences that are not captured by linear-only coefficients. Gene pairs highly ranked by CCC were enriched for interactions in integrated networks built from protein-protein interaction, transcription factor regulation, and chemical and genetic perturbations, suggesting that CCC could detect functional relationships that linear-only methods missed. CCC is a highly-efficient, next-generation not-only-linear correlation coefficient that can readily be applied to genome-scale data and other domains across different data types.\u001b[0m\n"
     ]
    },
    {
     "name": "stdout",
     "output_type": "stream",
     "text": [
      "\n",
      "\u001b[1m> Finished chain.\u001b[0m\n",
      "\n",
      "\n",
      "\u001b[1m> Entering new LLMChain chain...\u001b[0m\n",
      "Prompt after formatting:\n",
      "\u001b[32;1m\u001b[1;3mSystem: You are an expert copyeditor with ample experience in scientific writing. You are assessing the quality of two versions of a paragraph from the Abstract of a scientific article.\n",
      "Human: Evaluate the quality of the following paragraph by writing a list with positive (if any) and/or negative (if any) aspects on the following areas: 1) has a clear sentence structure, 2) is easy to follow, 3) is correct in grammar, 4) has no spelling errors.\n",
      "\n",
      "Paragraph A: In transcriptomics, identifying patterns in gene expression data is crucial for understanding biological processes. The traditional linear correlation coefficients may not capture all the complexities in gene relationships. To address this, we propose the Clustermatch Correlation Coefficient (CCC), a machine learning-based coefficient that can reveal both linear and nonlinear patterns efficiently. Compared to standard coefficients like the Maximal Information Coefficient, CCC is faster and can detect biologically meaningful patterns that are missed by linear-only methods. When applied to human gene expression data, CCC not only identifies robust linear relationships but also uncovers nonlinear patterns, such as sex differences. Additionally, CCC can detect functional relationships between genes that are overlooked by linear-only methods, as shown by enrichment in integrated networks. Overall, CCC is a versatile and efficient tool that can be applied to genome-scale data and various data types to uncover hidden relationships.\n",
      "AI: Positive Aspects:\n",
      "1) Clear sentence structure: The paragraph has a clear sentence structure that flows logically from one idea to the next.\n",
      "2) Easy to follow: The paragraph is easy to follow as it introduces a new concept (Clustermatch Correlation Coefficient) and explains its advantages compared to traditional methods.\n",
      "3) Correct in grammar: The paragraph is grammatically correct.\n",
      "4) No spelling errors: There are no spelling errors in the paragraph.\n",
      "\n",
      "Negative Aspects:\n",
      "None\n",
      "Human: Evaluate the quality of the following paragraph by writing a list with positive (if any) and/or negative (if any) aspects on the following areas: 1) has a clear sentence structure, 2) is easy to follow, 3) is correct in grammar, 4) has no spelling errors.\n",
      "\n",
      "Paragraph 1: Correlation coefficients are widely used to identify patterns in data that may be of particular interest. In transcriptomics, genes with correlated expression often share functions or are part of disease-relevant biological processes. Here we introduce the Clustermatch Correlation Coefficient (CCC), an efficient, easy-to-use and not-only-linear coefficient based on machine learning models. CCC reveals biologically meaningful linear and nonlinear patterns missed by standard, linear-only correlation coefficients. CCC captures general patterns in data by comparing clustering solutions while being much faster than state-of-the-art coefficients such as the Maximal Information Coefficient. When applied to human gene expression data, CCC identifies robust linear relationships while detecting nonlinear patterns associated, for example, with sex differences that are not captured by linear-only coefficients. Gene pairs highly ranked by CCC were enriched for interactions in integrated networks built from protein-protein interaction, transcription factor regulation, and chemical and genetic perturbations, suggesting that CCC could detect functional relationships that linear-only methods missed. CCC is a highly-efficient, next-generation not-only-linear correlation coefficient that can readily be applied to genome-scale data and other domains across different data types.\n",
      "AI: Positive Aspects:\n",
      "1) Clear sentence structure: The paragraph has a clear sentence structure that introduces the concept of the Clustermatch Correlation Coefficient and explains its advantages compared to traditional methods.\n",
      "2) Easy to follow: The paragraph is easy to follow as it progresses logically from discussing the importance of correlation coefficients to introducing CCC and its applications.\n",
      "3) Correct in grammar: The paragraph is grammatically correct.\n",
      "4) No spelling errors: There are no spelling errors in the paragraph.\n",
      "\n",
      "Negative Aspects:\n",
      "1) The paragraph is quite lengthy and could potentially be broken down into shorter, more digestible sentences for improved readability.\n",
      "2) The paragraph contains complex concepts and terms that may require further simplification for readers unfamiliar with the topic to fully grasp the content.\n",
      "\n",
      "Human: Now, act as an impartial judge and evaluate the quality of these two paragraphs. Your evaluation must only consider the previous areas you commented on above. Compare the two versions and select the best only if one of them is clearly better than the other; if both versions are similar, then it is a tie. Avoid any position biases and ensure that the order in which the paragraphs were presented does not influence your decision. Do not favor certain paragraph identifiers. Be as objective as possible. Provide the output in JSON format with the following schema: {\"best\": string, \"rationale\": string}, where \"best\" can only have the following values: \"Paragraph A\", \"Paragraph 1\", or \"tie\".\u001b[0m\n"
     ]
    },
    {
     "name": "stdout",
     "output_type": "stream",
     "text": [
      "\n",
      "\u001b[1m> Finished chain.\u001b[0m\n"
     ]
    }
   ],
   "source": [
    "t_json = llm_pairwise(\n",
    "    df.iloc[0][\"original\"],\n",
    "    df.iloc[0][\"modified\"],\n",
    "    df.iloc[0][\"section\"],\n",
    "    model_name=LLM_JUDGE,\n",
    "    model_params={\n",
    "        \"temperature\": TEMPERATURE,\n",
    "        \"max_tokens\": MAX_TOKENS,\n",
    "        \"model_kwargs\": {\n",
    "            \"seed\": SEED_INIT,\n",
    "        },\n",
    "    },\n",
    "    verbose=True,\n",
    ")"
   ]
  },
  {
   "cell_type": "code",
   "execution_count": 11,
   "id": "22ef42b6-46f5-44ab-87a5-5d22460526fa",
   "metadata": {
    "editable": true,
    "execution": {
     "iopub.execute_input": "2024-03-21T14:24:28.107790Z",
     "iopub.status.busy": "2024-03-21T14:24:28.107340Z",
     "iopub.status.idle": "2024-03-21T14:24:28.111162Z",
     "shell.execute_reply": "2024-03-21T14:24:28.110676Z"
    },
    "papermill": {
     "duration": 0.012544,
     "end_time": "2024-03-21T14:24:28.112342",
     "exception": false,
     "start_time": "2024-03-21T14:24:28.099798",
     "status": "completed"
    },
    "slideshow": {
     "slide_type": ""
    },
    "tags": []
   },
   "outputs": [
    {
     "data": {
      "text/plain": [
       "{'best': 'Paragraph A',\n",
       " 'rationale': 'Paragraph A has a slightly clearer sentence structure and is more concise, making it easier to follow and understand. Both paragraphs are correct in grammar and have no spelling errors.'}"
      ]
     },
     "execution_count": 11,
     "metadata": {},
     "output_type": "execute_result"
    }
   ],
   "source": [
    "t_json"
   ]
  },
  {
   "cell_type": "code",
   "execution_count": 12,
   "id": "48509fbd-178a-4580-b0bd-45a73ed3399d",
   "metadata": {
    "editable": true,
    "execution": {
     "iopub.execute_input": "2024-03-21T14:24:28.127433Z",
     "iopub.status.busy": "2024-03-21T14:24:28.127099Z",
     "iopub.status.idle": "2024-03-21T14:24:28.130565Z",
     "shell.execute_reply": "2024-03-21T14:24:28.130089Z"
    },
    "papermill": {
     "duration": 0.012182,
     "end_time": "2024-03-21T14:24:28.131741",
     "exception": false,
     "start_time": "2024-03-21T14:24:28.119559",
     "status": "completed"
    },
    "slideshow": {
     "slide_type": ""
    },
    "tags": []
   },
   "outputs": [
    {
     "data": {
      "text/plain": [
       "dict"
      ]
     },
     "execution_count": 12,
     "metadata": {},
     "output_type": "execute_result"
    }
   ],
   "source": [
    "type(t_json)"
   ]
  },
  {
   "cell_type": "markdown",
   "id": "d81ce233-57c0-420d-a104-1d1d1640fc2b",
   "metadata": {
    "editable": true,
    "papermill": {
     "duration": 0.007026,
     "end_time": "2024-03-21T14:24:28.146120",
     "exception": false,
     "start_time": "2024-03-21T14:24:28.139094",
     "status": "completed"
    },
    "slideshow": {
     "slide_type": ""
    },
    "tags": []
   },
   "source": [
    "# Run"
   ]
  },
  {
   "cell_type": "markdown",
   "id": "fc131605-64ef-4cab-b1a6-3bc296bbb03e",
   "metadata": {
    "editable": true,
    "papermill": {
     "duration": 0.006831,
     "end_time": "2024-03-21T14:24:28.160224",
     "exception": false,
     "start_time": "2024-03-21T14:24:28.153393",
     "status": "completed"
    },
    "slideshow": {
     "slide_type": ""
    },
    "tags": []
   },
   "source": [
    "Since models are stochastic, we run the pairwise comparison many times.\n",
    "\n",
    "Here I use a cache to avoid hitting an external API multiple times."
   ]
  },
  {
   "cell_type": "code",
   "execution_count": 13,
   "id": "b2c31f26-cd6b-4e11-a346-3ff6d89ab8c5",
   "metadata": {
    "editable": true,
    "execution": {
     "iopub.execute_input": "2024-03-21T14:24:28.175189Z",
     "iopub.status.busy": "2024-03-21T14:24:28.174811Z",
     "iopub.status.idle": "2024-03-21T14:24:28.177421Z",
     "shell.execute_reply": "2024-03-21T14:24:28.176929Z"
    },
    "papermill": {
     "duration": 0.011202,
     "end_time": "2024-03-21T14:24:28.178478",
     "exception": false,
     "start_time": "2024-03-21T14:24:28.167276",
     "status": "completed"
    },
    "slideshow": {
     "slide_type": ""
    },
    "tags": []
   },
   "outputs": [],
   "source": [
    "results = []"
   ]
  },
  {
   "cell_type": "code",
   "execution_count": 14,
   "id": "5721fab1-c08b-4774-93df-6448c3d8b574",
   "metadata": {
    "editable": true,
    "execution": {
     "iopub.execute_input": "2024-03-21T14:24:28.192866Z",
     "iopub.status.busy": "2024-03-21T14:24:28.192524Z",
     "iopub.status.idle": "2024-03-21T14:48:04.246970Z",
     "shell.execute_reply": "2024-03-21T14:48:04.246380Z"
    },
    "papermill": {
     "duration": 1416.062556,
     "end_time": "2024-03-21T14:48:04.248233",
     "exception": false,
     "start_time": "2024-03-21T14:24:28.185677",
     "status": "completed"
    },
    "slideshow": {
     "slide_type": ""
    },
    "tags": []
   },
   "outputs": [
    {
     "name": "stdout",
     "output_type": "stream",
     "text": [
      "00 (rep0.db): "
     ]
    },
    {
     "name": "stdout",
     "output_type": "stream",
     "text": [
      "."
     ]
    },
    {
     "name": "stdout",
     "output_type": "stream",
     "text": [
      "."
     ]
    },
    {
     "name": "stdout",
     "output_type": "stream",
     "text": [
      "."
     ]
    },
    {
     "name": "stdout",
     "output_type": "stream",
     "text": [
      "."
     ]
    },
    {
     "name": "stdout",
     "output_type": "stream",
     "text": [
      "."
     ]
    },
    {
     "name": "stdout",
     "output_type": "stream",
     "text": [
      "."
     ]
    },
    {
     "name": "stdout",
     "output_type": "stream",
     "text": [
      "."
     ]
    },
    {
     "name": "stdout",
     "output_type": "stream",
     "text": [
      "."
     ]
    },
    {
     "name": "stdout",
     "output_type": "stream",
     "text": [
      "."
     ]
    },
    {
     "name": "stdout",
     "output_type": "stream",
     "text": [
      "."
     ]
    },
    {
     "name": "stdout",
     "output_type": "stream",
     "text": [
      "."
     ]
    },
    {
     "name": "stdout",
     "output_type": "stream",
     "text": [
      "."
     ]
    },
    {
     "name": "stdout",
     "output_type": "stream",
     "text": [
      "."
     ]
    },
    {
     "name": "stdout",
     "output_type": "stream",
     "text": [
      "."
     ]
    },
    {
     "name": "stdout",
     "output_type": "stream",
     "text": [
      "."
     ]
    },
    {
     "name": "stdout",
     "output_type": "stream",
     "text": [
      "."
     ]
    },
    {
     "name": "stdout",
     "output_type": "stream",
     "text": [
      "."
     ]
    },
    {
     "name": "stdout",
     "output_type": "stream",
     "text": [
      "."
     ]
    },
    {
     "name": "stdout",
     "output_type": "stream",
     "text": [
      "."
     ]
    },
    {
     "name": "stdout",
     "output_type": "stream",
     "text": [
      "."
     ]
    },
    {
     "name": "stdout",
     "output_type": "stream",
     "text": [
      "."
     ]
    },
    {
     "name": "stdout",
     "output_type": "stream",
     "text": [
      "."
     ]
    },
    {
     "name": "stdout",
     "output_type": "stream",
     "text": [
      "."
     ]
    },
    {
     "name": "stdout",
     "output_type": "stream",
     "text": [
      "."
     ]
    },
    {
     "name": "stdout",
     "output_type": "stream",
     "text": [
      "."
     ]
    },
    {
     "name": "stdout",
     "output_type": "stream",
     "text": [
      "."
     ]
    },
    {
     "name": "stdout",
     "output_type": "stream",
     "text": [
      "."
     ]
    },
    {
     "name": "stdout",
     "output_type": "stream",
     "text": [
      "."
     ]
    },
    {
     "name": "stdout",
     "output_type": "stream",
     "text": [
      "."
     ]
    },
    {
     "name": "stdout",
     "output_type": "stream",
     "text": [
      "."
     ]
    },
    {
     "name": "stdout",
     "output_type": "stream",
     "text": [
      "."
     ]
    },
    {
     "name": "stdout",
     "output_type": "stream",
     "text": [
      "\n"
     ]
    },
    {
     "name": "stdout",
     "output_type": "stream",
     "text": [
      "01 (rep1.db): "
     ]
    },
    {
     "name": "stdout",
     "output_type": "stream",
     "text": [
      "."
     ]
    },
    {
     "name": "stdout",
     "output_type": "stream",
     "text": [
      "."
     ]
    },
    {
     "name": "stdout",
     "output_type": "stream",
     "text": [
      "."
     ]
    },
    {
     "name": "stdout",
     "output_type": "stream",
     "text": [
      "."
     ]
    },
    {
     "name": "stdout",
     "output_type": "stream",
     "text": [
      "."
     ]
    },
    {
     "name": "stdout",
     "output_type": "stream",
     "text": [
      "."
     ]
    },
    {
     "name": "stdout",
     "output_type": "stream",
     "text": [
      "."
     ]
    },
    {
     "name": "stdout",
     "output_type": "stream",
     "text": [
      "."
     ]
    },
    {
     "name": "stdout",
     "output_type": "stream",
     "text": [
      "."
     ]
    },
    {
     "name": "stdout",
     "output_type": "stream",
     "text": [
      "."
     ]
    },
    {
     "name": "stdout",
     "output_type": "stream",
     "text": [
      "."
     ]
    },
    {
     "name": "stdout",
     "output_type": "stream",
     "text": [
      "."
     ]
    },
    {
     "name": "stdout",
     "output_type": "stream",
     "text": [
      "."
     ]
    },
    {
     "name": "stdout",
     "output_type": "stream",
     "text": [
      "."
     ]
    },
    {
     "name": "stdout",
     "output_type": "stream",
     "text": [
      "."
     ]
    },
    {
     "name": "stdout",
     "output_type": "stream",
     "text": [
      "."
     ]
    },
    {
     "name": "stdout",
     "output_type": "stream",
     "text": [
      "."
     ]
    },
    {
     "name": "stdout",
     "output_type": "stream",
     "text": [
      "."
     ]
    },
    {
     "name": "stdout",
     "output_type": "stream",
     "text": [
      "."
     ]
    },
    {
     "name": "stdout",
     "output_type": "stream",
     "text": [
      "."
     ]
    },
    {
     "name": "stdout",
     "output_type": "stream",
     "text": [
      "."
     ]
    },
    {
     "name": "stdout",
     "output_type": "stream",
     "text": [
      "."
     ]
    },
    {
     "name": "stdout",
     "output_type": "stream",
     "text": [
      "."
     ]
    },
    {
     "name": "stdout",
     "output_type": "stream",
     "text": [
      "."
     ]
    },
    {
     "name": "stdout",
     "output_type": "stream",
     "text": [
      "."
     ]
    },
    {
     "name": "stdout",
     "output_type": "stream",
     "text": [
      "."
     ]
    },
    {
     "name": "stdout",
     "output_type": "stream",
     "text": [
      "."
     ]
    },
    {
     "name": "stdout",
     "output_type": "stream",
     "text": [
      "."
     ]
    },
    {
     "name": "stdout",
     "output_type": "stream",
     "text": [
      "."
     ]
    },
    {
     "name": "stdout",
     "output_type": "stream",
     "text": [
      "."
     ]
    },
    {
     "name": "stdout",
     "output_type": "stream",
     "text": [
      "."
     ]
    },
    {
     "name": "stdout",
     "output_type": "stream",
     "text": [
      "\n"
     ]
    },
    {
     "name": "stdout",
     "output_type": "stream",
     "text": [
      "02 (rep2.db): "
     ]
    },
    {
     "name": "stdout",
     "output_type": "stream",
     "text": [
      "."
     ]
    },
    {
     "name": "stdout",
     "output_type": "stream",
     "text": [
      "."
     ]
    },
    {
     "name": "stdout",
     "output_type": "stream",
     "text": [
      "."
     ]
    },
    {
     "name": "stdout",
     "output_type": "stream",
     "text": [
      "."
     ]
    },
    {
     "name": "stdout",
     "output_type": "stream",
     "text": [
      "."
     ]
    },
    {
     "name": "stdout",
     "output_type": "stream",
     "text": [
      "."
     ]
    },
    {
     "name": "stdout",
     "output_type": "stream",
     "text": [
      "."
     ]
    },
    {
     "name": "stdout",
     "output_type": "stream",
     "text": [
      "."
     ]
    },
    {
     "name": "stdout",
     "output_type": "stream",
     "text": [
      "."
     ]
    },
    {
     "name": "stdout",
     "output_type": "stream",
     "text": [
      "."
     ]
    },
    {
     "name": "stdout",
     "output_type": "stream",
     "text": [
      "."
     ]
    },
    {
     "name": "stdout",
     "output_type": "stream",
     "text": [
      "."
     ]
    },
    {
     "name": "stdout",
     "output_type": "stream",
     "text": [
      "."
     ]
    },
    {
     "name": "stdout",
     "output_type": "stream",
     "text": [
      "."
     ]
    },
    {
     "name": "stdout",
     "output_type": "stream",
     "text": [
      "."
     ]
    },
    {
     "name": "stdout",
     "output_type": "stream",
     "text": [
      "."
     ]
    },
    {
     "name": "stdout",
     "output_type": "stream",
     "text": [
      "."
     ]
    },
    {
     "name": "stdout",
     "output_type": "stream",
     "text": [
      "."
     ]
    },
    {
     "name": "stdout",
     "output_type": "stream",
     "text": [
      "."
     ]
    },
    {
     "name": "stdout",
     "output_type": "stream",
     "text": [
      "."
     ]
    },
    {
     "name": "stdout",
     "output_type": "stream",
     "text": [
      "."
     ]
    },
    {
     "name": "stdout",
     "output_type": "stream",
     "text": [
      "."
     ]
    },
    {
     "name": "stdout",
     "output_type": "stream",
     "text": [
      "."
     ]
    },
    {
     "name": "stdout",
     "output_type": "stream",
     "text": [
      "."
     ]
    },
    {
     "name": "stdout",
     "output_type": "stream",
     "text": [
      "."
     ]
    },
    {
     "name": "stdout",
     "output_type": "stream",
     "text": [
      "."
     ]
    },
    {
     "name": "stdout",
     "output_type": "stream",
     "text": [
      "."
     ]
    },
    {
     "name": "stdout",
     "output_type": "stream",
     "text": [
      "."
     ]
    },
    {
     "name": "stdout",
     "output_type": "stream",
     "text": [
      "."
     ]
    },
    {
     "name": "stdout",
     "output_type": "stream",
     "text": [
      "."
     ]
    },
    {
     "name": "stdout",
     "output_type": "stream",
     "text": [
      "."
     ]
    },
    {
     "name": "stdout",
     "output_type": "stream",
     "text": [
      "\n"
     ]
    },
    {
     "name": "stdout",
     "output_type": "stream",
     "text": [
      "03 (rep3.db): "
     ]
    },
    {
     "name": "stdout",
     "output_type": "stream",
     "text": [
      "."
     ]
    },
    {
     "name": "stdout",
     "output_type": "stream",
     "text": [
      "."
     ]
    },
    {
     "name": "stdout",
     "output_type": "stream",
     "text": [
      "."
     ]
    },
    {
     "name": "stdout",
     "output_type": "stream",
     "text": [
      "."
     ]
    },
    {
     "name": "stdout",
     "output_type": "stream",
     "text": [
      "."
     ]
    },
    {
     "name": "stdout",
     "output_type": "stream",
     "text": [
      "."
     ]
    },
    {
     "name": "stdout",
     "output_type": "stream",
     "text": [
      "."
     ]
    },
    {
     "name": "stdout",
     "output_type": "stream",
     "text": [
      "."
     ]
    },
    {
     "name": "stdout",
     "output_type": "stream",
     "text": [
      "."
     ]
    },
    {
     "name": "stdout",
     "output_type": "stream",
     "text": [
      "."
     ]
    },
    {
     "name": "stdout",
     "output_type": "stream",
     "text": [
      "."
     ]
    },
    {
     "name": "stdout",
     "output_type": "stream",
     "text": [
      "."
     ]
    },
    {
     "name": "stdout",
     "output_type": "stream",
     "text": [
      "."
     ]
    },
    {
     "name": "stdout",
     "output_type": "stream",
     "text": [
      "."
     ]
    },
    {
     "name": "stdout",
     "output_type": "stream",
     "text": [
      "."
     ]
    },
    {
     "name": "stdout",
     "output_type": "stream",
     "text": [
      "."
     ]
    },
    {
     "name": "stdout",
     "output_type": "stream",
     "text": [
      "."
     ]
    },
    {
     "name": "stdout",
     "output_type": "stream",
     "text": [
      "."
     ]
    },
    {
     "name": "stdout",
     "output_type": "stream",
     "text": [
      "."
     ]
    },
    {
     "name": "stdout",
     "output_type": "stream",
     "text": [
      "."
     ]
    },
    {
     "name": "stdout",
     "output_type": "stream",
     "text": [
      "."
     ]
    },
    {
     "name": "stdout",
     "output_type": "stream",
     "text": [
      "."
     ]
    },
    {
     "name": "stdout",
     "output_type": "stream",
     "text": [
      "."
     ]
    },
    {
     "name": "stdout",
     "output_type": "stream",
     "text": [
      "."
     ]
    },
    {
     "name": "stdout",
     "output_type": "stream",
     "text": [
      "."
     ]
    },
    {
     "name": "stdout",
     "output_type": "stream",
     "text": [
      "."
     ]
    },
    {
     "name": "stdout",
     "output_type": "stream",
     "text": [
      "."
     ]
    },
    {
     "name": "stdout",
     "output_type": "stream",
     "text": [
      "."
     ]
    },
    {
     "name": "stdout",
     "output_type": "stream",
     "text": [
      "."
     ]
    },
    {
     "name": "stdout",
     "output_type": "stream",
     "text": [
      "."
     ]
    },
    {
     "name": "stdout",
     "output_type": "stream",
     "text": [
      "."
     ]
    },
    {
     "name": "stdout",
     "output_type": "stream",
     "text": [
      "\n"
     ]
    },
    {
     "name": "stdout",
     "output_type": "stream",
     "text": [
      "04 (rep4.db): "
     ]
    },
    {
     "name": "stdout",
     "output_type": "stream",
     "text": [
      "."
     ]
    },
    {
     "name": "stdout",
     "output_type": "stream",
     "text": [
      "."
     ]
    },
    {
     "name": "stdout",
     "output_type": "stream",
     "text": [
      "."
     ]
    },
    {
     "name": "stdout",
     "output_type": "stream",
     "text": [
      "."
     ]
    },
    {
     "name": "stdout",
     "output_type": "stream",
     "text": [
      "."
     ]
    },
    {
     "name": "stdout",
     "output_type": "stream",
     "text": [
      "."
     ]
    },
    {
     "name": "stdout",
     "output_type": "stream",
     "text": [
      "."
     ]
    },
    {
     "name": "stdout",
     "output_type": "stream",
     "text": [
      "."
     ]
    },
    {
     "name": "stdout",
     "output_type": "stream",
     "text": [
      "."
     ]
    },
    {
     "name": "stdout",
     "output_type": "stream",
     "text": [
      "."
     ]
    },
    {
     "name": "stdout",
     "output_type": "stream",
     "text": [
      "."
     ]
    },
    {
     "name": "stdout",
     "output_type": "stream",
     "text": [
      "."
     ]
    },
    {
     "name": "stdout",
     "output_type": "stream",
     "text": [
      "."
     ]
    },
    {
     "name": "stdout",
     "output_type": "stream",
     "text": [
      "."
     ]
    },
    {
     "name": "stdout",
     "output_type": "stream",
     "text": [
      "."
     ]
    },
    {
     "name": "stdout",
     "output_type": "stream",
     "text": [
      "."
     ]
    },
    {
     "name": "stdout",
     "output_type": "stream",
     "text": [
      "."
     ]
    },
    {
     "name": "stdout",
     "output_type": "stream",
     "text": [
      "."
     ]
    },
    {
     "name": "stdout",
     "output_type": "stream",
     "text": [
      "."
     ]
    },
    {
     "name": "stdout",
     "output_type": "stream",
     "text": [
      "."
     ]
    },
    {
     "name": "stdout",
     "output_type": "stream",
     "text": [
      "."
     ]
    },
    {
     "name": "stdout",
     "output_type": "stream",
     "text": [
      "."
     ]
    },
    {
     "name": "stdout",
     "output_type": "stream",
     "text": [
      "."
     ]
    },
    {
     "name": "stdout",
     "output_type": "stream",
     "text": [
      "."
     ]
    },
    {
     "name": "stdout",
     "output_type": "stream",
     "text": [
      "."
     ]
    },
    {
     "name": "stdout",
     "output_type": "stream",
     "text": [
      "."
     ]
    },
    {
     "name": "stdout",
     "output_type": "stream",
     "text": [
      "."
     ]
    },
    {
     "name": "stdout",
     "output_type": "stream",
     "text": [
      "."
     ]
    },
    {
     "name": "stdout",
     "output_type": "stream",
     "text": [
      "."
     ]
    },
    {
     "name": "stdout",
     "output_type": "stream",
     "text": [
      "."
     ]
    },
    {
     "name": "stdout",
     "output_type": "stream",
     "text": [
      "."
     ]
    },
    {
     "name": "stdout",
     "output_type": "stream",
     "text": [
      "\n"
     ]
    },
    {
     "name": "stdout",
     "output_type": "stream",
     "text": [
      "05 (rep5.db): "
     ]
    },
    {
     "name": "stdout",
     "output_type": "stream",
     "text": [
      "."
     ]
    },
    {
     "name": "stdout",
     "output_type": "stream",
     "text": [
      "."
     ]
    },
    {
     "name": "stdout",
     "output_type": "stream",
     "text": [
      "."
     ]
    },
    {
     "name": "stdout",
     "output_type": "stream",
     "text": [
      "."
     ]
    },
    {
     "name": "stdout",
     "output_type": "stream",
     "text": [
      "."
     ]
    },
    {
     "name": "stdout",
     "output_type": "stream",
     "text": [
      "."
     ]
    },
    {
     "name": "stdout",
     "output_type": "stream",
     "text": [
      "."
     ]
    },
    {
     "name": "stdout",
     "output_type": "stream",
     "text": [
      "."
     ]
    },
    {
     "name": "stdout",
     "output_type": "stream",
     "text": [
      "."
     ]
    },
    {
     "name": "stdout",
     "output_type": "stream",
     "text": [
      "."
     ]
    },
    {
     "name": "stdout",
     "output_type": "stream",
     "text": [
      "."
     ]
    },
    {
     "name": "stdout",
     "output_type": "stream",
     "text": [
      "."
     ]
    },
    {
     "name": "stdout",
     "output_type": "stream",
     "text": [
      "."
     ]
    },
    {
     "name": "stdout",
     "output_type": "stream",
     "text": [
      "."
     ]
    },
    {
     "name": "stdout",
     "output_type": "stream",
     "text": [
      "."
     ]
    },
    {
     "name": "stdout",
     "output_type": "stream",
     "text": [
      "."
     ]
    },
    {
     "name": "stdout",
     "output_type": "stream",
     "text": [
      "."
     ]
    },
    {
     "name": "stdout",
     "output_type": "stream",
     "text": [
      "."
     ]
    },
    {
     "name": "stdout",
     "output_type": "stream",
     "text": [
      "."
     ]
    },
    {
     "name": "stdout",
     "output_type": "stream",
     "text": [
      "."
     ]
    },
    {
     "name": "stdout",
     "output_type": "stream",
     "text": [
      "."
     ]
    },
    {
     "name": "stdout",
     "output_type": "stream",
     "text": [
      "."
     ]
    },
    {
     "name": "stdout",
     "output_type": "stream",
     "text": [
      "."
     ]
    },
    {
     "name": "stdout",
     "output_type": "stream",
     "text": [
      "."
     ]
    },
    {
     "name": "stdout",
     "output_type": "stream",
     "text": [
      "."
     ]
    },
    {
     "name": "stdout",
     "output_type": "stream",
     "text": [
      "."
     ]
    },
    {
     "name": "stdout",
     "output_type": "stream",
     "text": [
      "."
     ]
    },
    {
     "name": "stdout",
     "output_type": "stream",
     "text": [
      "."
     ]
    },
    {
     "name": "stdout",
     "output_type": "stream",
     "text": [
      "."
     ]
    },
    {
     "name": "stdout",
     "output_type": "stream",
     "text": [
      "."
     ]
    },
    {
     "name": "stdout",
     "output_type": "stream",
     "text": [
      "."
     ]
    },
    {
     "name": "stdout",
     "output_type": "stream",
     "text": [
      "\n"
     ]
    },
    {
     "name": "stdout",
     "output_type": "stream",
     "text": [
      "06 (rep6.db): "
     ]
    },
    {
     "name": "stdout",
     "output_type": "stream",
     "text": [
      "."
     ]
    },
    {
     "name": "stdout",
     "output_type": "stream",
     "text": [
      "."
     ]
    },
    {
     "name": "stdout",
     "output_type": "stream",
     "text": [
      "."
     ]
    },
    {
     "name": "stdout",
     "output_type": "stream",
     "text": [
      "."
     ]
    },
    {
     "name": "stdout",
     "output_type": "stream",
     "text": [
      "."
     ]
    },
    {
     "name": "stdout",
     "output_type": "stream",
     "text": [
      "."
     ]
    },
    {
     "name": "stdout",
     "output_type": "stream",
     "text": [
      "."
     ]
    },
    {
     "name": "stdout",
     "output_type": "stream",
     "text": [
      "."
     ]
    },
    {
     "name": "stdout",
     "output_type": "stream",
     "text": [
      "."
     ]
    },
    {
     "name": "stdout",
     "output_type": "stream",
     "text": [
      "."
     ]
    },
    {
     "name": "stdout",
     "output_type": "stream",
     "text": [
      "."
     ]
    },
    {
     "name": "stdout",
     "output_type": "stream",
     "text": [
      "."
     ]
    },
    {
     "name": "stdout",
     "output_type": "stream",
     "text": [
      "."
     ]
    },
    {
     "name": "stdout",
     "output_type": "stream",
     "text": [
      "."
     ]
    },
    {
     "name": "stdout",
     "output_type": "stream",
     "text": [
      "."
     ]
    },
    {
     "name": "stdout",
     "output_type": "stream",
     "text": [
      "."
     ]
    },
    {
     "name": "stdout",
     "output_type": "stream",
     "text": [
      "."
     ]
    },
    {
     "name": "stdout",
     "output_type": "stream",
     "text": [
      "."
     ]
    },
    {
     "name": "stdout",
     "output_type": "stream",
     "text": [
      "."
     ]
    },
    {
     "name": "stdout",
     "output_type": "stream",
     "text": [
      "."
     ]
    },
    {
     "name": "stdout",
     "output_type": "stream",
     "text": [
      "."
     ]
    },
    {
     "name": "stdout",
     "output_type": "stream",
     "text": [
      "."
     ]
    },
    {
     "name": "stdout",
     "output_type": "stream",
     "text": [
      "."
     ]
    },
    {
     "name": "stdout",
     "output_type": "stream",
     "text": [
      "."
     ]
    },
    {
     "name": "stdout",
     "output_type": "stream",
     "text": [
      "."
     ]
    },
    {
     "name": "stdout",
     "output_type": "stream",
     "text": [
      "."
     ]
    },
    {
     "name": "stdout",
     "output_type": "stream",
     "text": [
      "."
     ]
    },
    {
     "name": "stdout",
     "output_type": "stream",
     "text": [
      "."
     ]
    },
    {
     "name": "stdout",
     "output_type": "stream",
     "text": [
      "."
     ]
    },
    {
     "name": "stdout",
     "output_type": "stream",
     "text": [
      "."
     ]
    },
    {
     "name": "stdout",
     "output_type": "stream",
     "text": [
      "."
     ]
    },
    {
     "name": "stdout",
     "output_type": "stream",
     "text": [
      "\n"
     ]
    },
    {
     "name": "stdout",
     "output_type": "stream",
     "text": [
      "07 (rep7.db): "
     ]
    },
    {
     "name": "stdout",
     "output_type": "stream",
     "text": [
      "."
     ]
    },
    {
     "name": "stdout",
     "output_type": "stream",
     "text": [
      "."
     ]
    },
    {
     "name": "stdout",
     "output_type": "stream",
     "text": [
      "."
     ]
    },
    {
     "name": "stdout",
     "output_type": "stream",
     "text": [
      "."
     ]
    },
    {
     "name": "stdout",
     "output_type": "stream",
     "text": [
      "."
     ]
    },
    {
     "name": "stdout",
     "output_type": "stream",
     "text": [
      "."
     ]
    },
    {
     "name": "stdout",
     "output_type": "stream",
     "text": [
      "."
     ]
    },
    {
     "name": "stdout",
     "output_type": "stream",
     "text": [
      "."
     ]
    },
    {
     "name": "stdout",
     "output_type": "stream",
     "text": [
      "."
     ]
    },
    {
     "name": "stdout",
     "output_type": "stream",
     "text": [
      "."
     ]
    },
    {
     "name": "stdout",
     "output_type": "stream",
     "text": [
      "."
     ]
    },
    {
     "name": "stdout",
     "output_type": "stream",
     "text": [
      "."
     ]
    },
    {
     "name": "stdout",
     "output_type": "stream",
     "text": [
      "."
     ]
    },
    {
     "name": "stdout",
     "output_type": "stream",
     "text": [
      "."
     ]
    },
    {
     "name": "stdout",
     "output_type": "stream",
     "text": [
      "."
     ]
    },
    {
     "name": "stdout",
     "output_type": "stream",
     "text": [
      "."
     ]
    },
    {
     "name": "stdout",
     "output_type": "stream",
     "text": [
      "."
     ]
    },
    {
     "name": "stdout",
     "output_type": "stream",
     "text": [
      "."
     ]
    },
    {
     "name": "stdout",
     "output_type": "stream",
     "text": [
      "."
     ]
    },
    {
     "name": "stdout",
     "output_type": "stream",
     "text": [
      "."
     ]
    },
    {
     "name": "stdout",
     "output_type": "stream",
     "text": [
      "."
     ]
    },
    {
     "name": "stdout",
     "output_type": "stream",
     "text": [
      "."
     ]
    },
    {
     "name": "stdout",
     "output_type": "stream",
     "text": [
      "."
     ]
    },
    {
     "name": "stdout",
     "output_type": "stream",
     "text": [
      "."
     ]
    },
    {
     "name": "stdout",
     "output_type": "stream",
     "text": [
      "."
     ]
    },
    {
     "name": "stdout",
     "output_type": "stream",
     "text": [
      "."
     ]
    },
    {
     "name": "stdout",
     "output_type": "stream",
     "text": [
      "."
     ]
    },
    {
     "name": "stdout",
     "output_type": "stream",
     "text": [
      "."
     ]
    },
    {
     "name": "stdout",
     "output_type": "stream",
     "text": [
      "."
     ]
    },
    {
     "name": "stdout",
     "output_type": "stream",
     "text": [
      "."
     ]
    },
    {
     "name": "stdout",
     "output_type": "stream",
     "text": [
      "."
     ]
    },
    {
     "name": "stdout",
     "output_type": "stream",
     "text": [
      "\n"
     ]
    },
    {
     "name": "stdout",
     "output_type": "stream",
     "text": [
      "08 (rep8.db): "
     ]
    },
    {
     "name": "stdout",
     "output_type": "stream",
     "text": [
      "."
     ]
    },
    {
     "name": "stdout",
     "output_type": "stream",
     "text": [
      "."
     ]
    },
    {
     "name": "stdout",
     "output_type": "stream",
     "text": [
      "."
     ]
    },
    {
     "name": "stdout",
     "output_type": "stream",
     "text": [
      "."
     ]
    },
    {
     "name": "stdout",
     "output_type": "stream",
     "text": [
      "."
     ]
    },
    {
     "name": "stdout",
     "output_type": "stream",
     "text": [
      "."
     ]
    },
    {
     "name": "stdout",
     "output_type": "stream",
     "text": [
      "."
     ]
    },
    {
     "name": "stdout",
     "output_type": "stream",
     "text": [
      "."
     ]
    },
    {
     "name": "stdout",
     "output_type": "stream",
     "text": [
      "."
     ]
    },
    {
     "name": "stdout",
     "output_type": "stream",
     "text": [
      "."
     ]
    },
    {
     "name": "stdout",
     "output_type": "stream",
     "text": [
      "."
     ]
    },
    {
     "name": "stdout",
     "output_type": "stream",
     "text": [
      "."
     ]
    },
    {
     "name": "stdout",
     "output_type": "stream",
     "text": [
      "."
     ]
    },
    {
     "name": "stdout",
     "output_type": "stream",
     "text": [
      "."
     ]
    },
    {
     "name": "stdout",
     "output_type": "stream",
     "text": [
      "."
     ]
    },
    {
     "name": "stdout",
     "output_type": "stream",
     "text": [
      "."
     ]
    },
    {
     "name": "stdout",
     "output_type": "stream",
     "text": [
      "."
     ]
    },
    {
     "name": "stdout",
     "output_type": "stream",
     "text": [
      "."
     ]
    },
    {
     "name": "stdout",
     "output_type": "stream",
     "text": [
      "."
     ]
    },
    {
     "name": "stdout",
     "output_type": "stream",
     "text": [
      "."
     ]
    },
    {
     "name": "stdout",
     "output_type": "stream",
     "text": [
      "."
     ]
    },
    {
     "name": "stdout",
     "output_type": "stream",
     "text": [
      "."
     ]
    },
    {
     "name": "stdout",
     "output_type": "stream",
     "text": [
      "."
     ]
    },
    {
     "name": "stdout",
     "output_type": "stream",
     "text": [
      "."
     ]
    },
    {
     "name": "stdout",
     "output_type": "stream",
     "text": [
      "."
     ]
    },
    {
     "name": "stdout",
     "output_type": "stream",
     "text": [
      "."
     ]
    },
    {
     "name": "stdout",
     "output_type": "stream",
     "text": [
      "."
     ]
    },
    {
     "name": "stdout",
     "output_type": "stream",
     "text": [
      "."
     ]
    },
    {
     "name": "stdout",
     "output_type": "stream",
     "text": [
      "."
     ]
    },
    {
     "name": "stdout",
     "output_type": "stream",
     "text": [
      "."
     ]
    },
    {
     "name": "stdout",
     "output_type": "stream",
     "text": [
      "."
     ]
    },
    {
     "name": "stdout",
     "output_type": "stream",
     "text": [
      "\n"
     ]
    },
    {
     "name": "stdout",
     "output_type": "stream",
     "text": [
      "09 (rep9.db): "
     ]
    },
    {
     "name": "stdout",
     "output_type": "stream",
     "text": [
      "."
     ]
    },
    {
     "name": "stdout",
     "output_type": "stream",
     "text": [
      "."
     ]
    },
    {
     "name": "stdout",
     "output_type": "stream",
     "text": [
      "."
     ]
    },
    {
     "name": "stdout",
     "output_type": "stream",
     "text": [
      "."
     ]
    },
    {
     "name": "stdout",
     "output_type": "stream",
     "text": [
      "."
     ]
    },
    {
     "name": "stdout",
     "output_type": "stream",
     "text": [
      "."
     ]
    },
    {
     "name": "stdout",
     "output_type": "stream",
     "text": [
      "."
     ]
    },
    {
     "name": "stdout",
     "output_type": "stream",
     "text": [
      "."
     ]
    },
    {
     "name": "stdout",
     "output_type": "stream",
     "text": [
      "."
     ]
    },
    {
     "name": "stdout",
     "output_type": "stream",
     "text": [
      "."
     ]
    },
    {
     "name": "stdout",
     "output_type": "stream",
     "text": [
      "."
     ]
    },
    {
     "name": "stdout",
     "output_type": "stream",
     "text": [
      "."
     ]
    },
    {
     "name": "stdout",
     "output_type": "stream",
     "text": [
      "."
     ]
    },
    {
     "name": "stdout",
     "output_type": "stream",
     "text": [
      "."
     ]
    },
    {
     "name": "stdout",
     "output_type": "stream",
     "text": [
      "."
     ]
    },
    {
     "name": "stdout",
     "output_type": "stream",
     "text": [
      "."
     ]
    },
    {
     "name": "stdout",
     "output_type": "stream",
     "text": [
      "."
     ]
    },
    {
     "name": "stdout",
     "output_type": "stream",
     "text": [
      "."
     ]
    },
    {
     "name": "stdout",
     "output_type": "stream",
     "text": [
      "."
     ]
    },
    {
     "name": "stdout",
     "output_type": "stream",
     "text": [
      "."
     ]
    },
    {
     "name": "stdout",
     "output_type": "stream",
     "text": [
      "."
     ]
    },
    {
     "name": "stdout",
     "output_type": "stream",
     "text": [
      "."
     ]
    },
    {
     "name": "stdout",
     "output_type": "stream",
     "text": [
      "."
     ]
    },
    {
     "name": "stdout",
     "output_type": "stream",
     "text": [
      "."
     ]
    },
    {
     "name": "stdout",
     "output_type": "stream",
     "text": [
      "."
     ]
    },
    {
     "name": "stdout",
     "output_type": "stream",
     "text": [
      "."
     ]
    },
    {
     "name": "stdout",
     "output_type": "stream",
     "text": [
      "."
     ]
    },
    {
     "name": "stdout",
     "output_type": "stream",
     "text": [
      "."
     ]
    },
    {
     "name": "stdout",
     "output_type": "stream",
     "text": [
      "."
     ]
    },
    {
     "name": "stdout",
     "output_type": "stream",
     "text": [
      "."
     ]
    },
    {
     "name": "stdout",
     "output_type": "stream",
     "text": [
      "."
     ]
    },
    {
     "name": "stdout",
     "output_type": "stream",
     "text": [
      "\n"
     ]
    }
   ],
   "source": [
    "for rep_idx in range(N_REPS):\n",
    "    # we cache prompt/results by repetition\n",
    "    output_cache_file = conf.common.LLM_CACHE_DIR / f\"rep{rep_idx}.db\"\n",
    "    set_llm_cache(SQLiteCache(database_path=str(output_cache_file)))\n",
    "\n",
    "    print(f\"{str(rep_idx).zfill(2)} ({output_cache_file.name}): \", end=\"\", flush=True)\n",
    "\n",
    "    for par_idx, par in df.iterrows():\n",
    "        print(\".\", end=\"\", flush=True)\n",
    "\n",
    "        res = llm_pairwise(\n",
    "            par[\"original\"],\n",
    "            par[\"modified\"],\n",
    "            par[\"section\"],\n",
    "            model_name=LLM_JUDGE,\n",
    "            model_params={\n",
    "                \"temperature\": TEMPERATURE,\n",
    "                \"max_tokens\": MAX_TOKENS,\n",
    "                \"model_kwargs\": {\n",
    "                    \"seed\": SEED_INIT + rep_idx,\n",
    "                },\n",
    "            },\n",
    "            verbose=False,\n",
    "        )\n",
    "\n",
    "        results.append(\n",
    "            {\n",
    "                \"rep_index\": rep_idx,\n",
    "                \"paragraph_index\": par_idx,\n",
    "                \"paragraph_section\": par[\"section\"],\n",
    "                \"winner\": res[\"best\"],\n",
    "                \"rationale\": res[\"rationale\"],\n",
    "            }\n",
    "        )\n",
    "\n",
    "    print(flush=True)"
   ]
  },
  {
   "cell_type": "markdown",
   "id": "6382932d-85d3-48f9-8a10-59709278f3b3",
   "metadata": {
    "editable": true,
    "papermill": {
     "duration": 0.025524,
     "end_time": "2024-03-21T14:48:04.299512",
     "exception": false,
     "start_time": "2024-03-21T14:48:04.273988",
     "status": "completed"
    },
    "slideshow": {
     "slide_type": ""
    },
    "tags": []
   },
   "source": [
    "# Process results"
   ]
  },
  {
   "cell_type": "code",
   "execution_count": 15,
   "id": "b3462b66-4958-44fa-aa96-2bd6c867dc97",
   "metadata": {
    "editable": true,
    "execution": {
     "iopub.execute_input": "2024-03-21T14:48:04.582877Z",
     "iopub.status.busy": "2024-03-21T14:48:04.582666Z",
     "iopub.status.idle": "2024-03-21T14:48:04.585163Z",
     "shell.execute_reply": "2024-03-21T14:48:04.584743Z"
    },
    "papermill": {
     "duration": 0.260862,
     "end_time": "2024-03-21T14:48:04.586010",
     "exception": false,
     "start_time": "2024-03-21T14:48:04.325148",
     "status": "completed"
    },
    "slideshow": {
     "slide_type": ""
    },
    "tags": []
   },
   "outputs": [],
   "source": [
    "winner_matchings = {\n",
    "    \"Paragraph A\": \"-1\",  # Original\n",
    "    \"Paragraph 1\": \"1\",  # Modified\n",
    "    \"tie\": \"0\",\n",
    "}"
   ]
  },
  {
   "cell_type": "code",
   "execution_count": 16,
   "id": "23c26bfc-51eb-46ac-aeb4-f5cd8b147ada",
   "metadata": {
    "execution": {
     "iopub.execute_input": "2024-03-21T14:48:04.628406Z",
     "iopub.status.busy": "2024-03-21T14:48:04.628021Z",
     "iopub.status.idle": "2024-03-21T14:48:04.631636Z",
     "shell.execute_reply": "2024-03-21T14:48:04.631132Z"
    },
    "papermill": {
     "duration": 0.024831,
     "end_time": "2024-03-21T14:48:04.632595",
     "exception": false,
     "start_time": "2024-03-21T14:48:04.607764",
     "status": "completed"
    },
    "tags": []
   },
   "outputs": [],
   "source": [
    "df_results = pd.DataFrame(results)"
   ]
  },
  {
   "cell_type": "code",
   "execution_count": 17,
   "id": "06097641-09ba-4c68-a237-21e6f80a700a",
   "metadata": {
    "execution": {
     "iopub.execute_input": "2024-03-21T14:48:04.670578Z",
     "iopub.status.busy": "2024-03-21T14:48:04.670350Z",
     "iopub.status.idle": "2024-03-21T14:48:04.674412Z",
     "shell.execute_reply": "2024-03-21T14:48:04.673863Z"
    },
    "papermill": {
     "duration": 0.024288,
     "end_time": "2024-03-21T14:48:04.675416",
     "exception": false,
     "start_time": "2024-03-21T14:48:04.651128",
     "status": "completed"
    },
    "tags": []
   },
   "outputs": [
    {
     "data": {
      "text/plain": [
       "(310, 5)"
      ]
     },
     "execution_count": 17,
     "metadata": {},
     "output_type": "execute_result"
    }
   ],
   "source": [
    "df_results.shape"
   ]
  },
  {
   "cell_type": "code",
   "execution_count": 18,
   "id": "0e700042-29de-40a0-9fa6-fcfdecd0c25c",
   "metadata": {
    "execution": {
     "iopub.execute_input": "2024-03-21T14:48:04.706086Z",
     "iopub.status.busy": "2024-03-21T14:48:04.705719Z",
     "iopub.status.idle": "2024-03-21T14:48:04.713027Z",
     "shell.execute_reply": "2024-03-21T14:48:04.712521Z"
    },
    "papermill": {
     "duration": 0.021287,
     "end_time": "2024-03-21T14:48:04.713778",
     "exception": false,
     "start_time": "2024-03-21T14:48:04.692491",
     "status": "completed"
    },
    "tags": []
   },
   "outputs": [
    {
     "data": {
      "text/html": [
       "<div>\n",
       "<style scoped>\n",
       "    .dataframe tbody tr th:only-of-type {\n",
       "        vertical-align: middle;\n",
       "    }\n",
       "\n",
       "    .dataframe tbody tr th {\n",
       "        vertical-align: top;\n",
       "    }\n",
       "\n",
       "    .dataframe thead th {\n",
       "        text-align: right;\n",
       "    }\n",
       "</style>\n",
       "<table border=\"1\" class=\"dataframe\">\n",
       "  <thead>\n",
       "    <tr style=\"text-align: right;\">\n",
       "      <th></th>\n",
       "      <th>rep_index</th>\n",
       "      <th>paragraph_index</th>\n",
       "      <th>paragraph_section</th>\n",
       "      <th>winner</th>\n",
       "      <th>rationale</th>\n",
       "    </tr>\n",
       "  </thead>\n",
       "  <tbody>\n",
       "    <tr>\n",
       "      <th>0</th>\n",
       "      <td>0</td>\n",
       "      <td>0</td>\n",
       "      <td>abstract</td>\n",
       "      <td>Paragraph A</td>\n",
       "      <td>Paragraph A slightly edges out Paragraph 1 in ...</td>\n",
       "    </tr>\n",
       "    <tr>\n",
       "      <th>1</th>\n",
       "      <td>0</td>\n",
       "      <td>1</td>\n",
       "      <td>introduction</td>\n",
       "      <td>tie</td>\n",
       "      <td>Both paragraphs have clear sentence structures...</td>\n",
       "    </tr>\n",
       "    <tr>\n",
       "      <th>2</th>\n",
       "      <td>0</td>\n",
       "      <td>2</td>\n",
       "      <td>introduction</td>\n",
       "      <td>Paragraph 1</td>\n",
       "      <td>Paragraph 1 slightly edges out Paragraph A in ...</td>\n",
       "    </tr>\n",
       "    <tr>\n",
       "      <th>3</th>\n",
       "      <td>0</td>\n",
       "      <td>3</td>\n",
       "      <td>introduction</td>\n",
       "      <td>Paragraph 1</td>\n",
       "      <td>Paragraph 1 slightly edges out as the best cho...</td>\n",
       "    </tr>\n",
       "    <tr>\n",
       "      <th>4</th>\n",
       "      <td>0</td>\n",
       "      <td>4</td>\n",
       "      <td>results</td>\n",
       "      <td>Paragraph A</td>\n",
       "      <td>Paragraph A has a clearer sentence structure a...</td>\n",
       "    </tr>\n",
       "  </tbody>\n",
       "</table>\n",
       "</div>"
      ],
      "text/plain": [
       "   rep_index  paragraph_index paragraph_section       winner  \\\n",
       "0          0                0          abstract  Paragraph A   \n",
       "1          0                1      introduction          tie   \n",
       "2          0                2      introduction  Paragraph 1   \n",
       "3          0                3      introduction  Paragraph 1   \n",
       "4          0                4           results  Paragraph A   \n",
       "\n",
       "                                           rationale  \n",
       "0  Paragraph A slightly edges out Paragraph 1 in ...  \n",
       "1  Both paragraphs have clear sentence structures...  \n",
       "2  Paragraph 1 slightly edges out Paragraph A in ...  \n",
       "3  Paragraph 1 slightly edges out as the best cho...  \n",
       "4  Paragraph A has a clearer sentence structure a...  "
      ]
     },
     "execution_count": 18,
     "metadata": {},
     "output_type": "execute_result"
    }
   ],
   "source": [
    "df_results.head()"
   ]
  },
  {
   "cell_type": "code",
   "execution_count": 19,
   "id": "103a3ada-1a24-4b86-8477-bc34330314e3",
   "metadata": {
    "execution": {
     "iopub.execute_input": "2024-03-21T14:48:04.740040Z",
     "iopub.status.busy": "2024-03-21T14:48:04.739704Z",
     "iopub.status.idle": "2024-03-21T14:48:04.743303Z",
     "shell.execute_reply": "2024-03-21T14:48:04.742728Z"
    },
    "papermill": {
     "duration": 0.017611,
     "end_time": "2024-03-21T14:48:04.744077",
     "exception": false,
     "start_time": "2024-03-21T14:48:04.726466",
     "status": "completed"
    },
    "tags": []
   },
   "outputs": [],
   "source": [
    "df_results = df_results[df_results[\"winner\"].isin(winner_matchings.keys())]"
   ]
  },
  {
   "cell_type": "code",
   "execution_count": 20,
   "id": "6c4b0e99-e2b8-47c6-a4b1-6ed8e74d8031",
   "metadata": {
    "execution": {
     "iopub.execute_input": "2024-03-21T14:48:04.770406Z",
     "iopub.status.busy": "2024-03-21T14:48:04.770069Z",
     "iopub.status.idle": "2024-03-21T14:48:04.773667Z",
     "shell.execute_reply": "2024-03-21T14:48:04.773175Z"
    },
    "papermill": {
     "duration": 0.017649,
     "end_time": "2024-03-21T14:48:04.774444",
     "exception": false,
     "start_time": "2024-03-21T14:48:04.756795",
     "status": "completed"
    },
    "tags": []
   },
   "outputs": [
    {
     "data": {
      "text/plain": [
       "(310, 5)"
      ]
     },
     "execution_count": 20,
     "metadata": {},
     "output_type": "execute_result"
    }
   ],
   "source": [
    "df_results.shape"
   ]
  },
  {
   "cell_type": "code",
   "execution_count": 21,
   "id": "b2b65209-a402-4a71-8eae-593dc3927381",
   "metadata": {
    "editable": true,
    "execution": {
     "iopub.execute_input": "2024-03-21T14:48:04.800746Z",
     "iopub.status.busy": "2024-03-21T14:48:04.800373Z",
     "iopub.status.idle": "2024-03-21T14:48:04.804853Z",
     "shell.execute_reply": "2024-03-21T14:48:04.804317Z"
    },
    "papermill": {
     "duration": 0.018588,
     "end_time": "2024-03-21T14:48:04.805589",
     "exception": false,
     "start_time": "2024-03-21T14:48:04.787001",
     "status": "completed"
    },
    "slideshow": {
     "slide_type": ""
    },
    "tags": []
   },
   "outputs": [],
   "source": [
    "df_results = df_results.assign(\n",
    "    winner_score=df_results[\"winner\"].replace(winner_matchings).apply(float)\n",
    ")"
   ]
  },
  {
   "cell_type": "code",
   "execution_count": 22,
   "id": "44b9c000-c8f5-49ca-989e-fbd7b5e5109e",
   "metadata": {
    "editable": true,
    "execution": {
     "iopub.execute_input": "2024-03-21T14:48:04.832451Z",
     "iopub.status.busy": "2024-03-21T14:48:04.831957Z",
     "iopub.status.idle": "2024-03-21T14:48:04.836010Z",
     "shell.execute_reply": "2024-03-21T14:48:04.835436Z"
    },
    "papermill": {
     "duration": 0.0183,
     "end_time": "2024-03-21T14:48:04.836874",
     "exception": false,
     "start_time": "2024-03-21T14:48:04.818574",
     "status": "completed"
    },
    "slideshow": {
     "slide_type": ""
    },
    "tags": []
   },
   "outputs": [
    {
     "data": {
      "text/plain": [
       "(310, 6)"
      ]
     },
     "execution_count": 22,
     "metadata": {},
     "output_type": "execute_result"
    }
   ],
   "source": [
    "df_results.shape"
   ]
  },
  {
   "cell_type": "code",
   "execution_count": 23,
   "id": "6743cafe-e446-4b6e-b832-b73d4ac54b1f",
   "metadata": {
    "editable": true,
    "execution": {
     "iopub.execute_input": "2024-03-21T14:48:04.864379Z",
     "iopub.status.busy": "2024-03-21T14:48:04.863865Z",
     "iopub.status.idle": "2024-03-21T14:48:04.873129Z",
     "shell.execute_reply": "2024-03-21T14:48:04.872744Z"
    },
    "papermill": {
     "duration": 0.023876,
     "end_time": "2024-03-21T14:48:04.873854",
     "exception": false,
     "start_time": "2024-03-21T14:48:04.849978",
     "status": "completed"
    },
    "slideshow": {
     "slide_type": ""
    },
    "tags": []
   },
   "outputs": [
    {
     "data": {
      "text/html": [
       "<div>\n",
       "<style scoped>\n",
       "    .dataframe tbody tr th:only-of-type {\n",
       "        vertical-align: middle;\n",
       "    }\n",
       "\n",
       "    .dataframe tbody tr th {\n",
       "        vertical-align: top;\n",
       "    }\n",
       "\n",
       "    .dataframe thead th {\n",
       "        text-align: right;\n",
       "    }\n",
       "</style>\n",
       "<table border=\"1\" class=\"dataframe\">\n",
       "  <thead>\n",
       "    <tr style=\"text-align: right;\">\n",
       "      <th></th>\n",
       "      <th>rep_index</th>\n",
       "      <th>paragraph_index</th>\n",
       "      <th>paragraph_section</th>\n",
       "      <th>winner</th>\n",
       "      <th>rationale</th>\n",
       "      <th>winner_score</th>\n",
       "    </tr>\n",
       "  </thead>\n",
       "  <tbody>\n",
       "    <tr>\n",
       "      <th>0</th>\n",
       "      <td>0</td>\n",
       "      <td>0</td>\n",
       "      <td>abstract</td>\n",
       "      <td>Paragraph A</td>\n",
       "      <td>Paragraph A slightly edges out Paragraph 1 in ...</td>\n",
       "      <td>-1.0</td>\n",
       "    </tr>\n",
       "    <tr>\n",
       "      <th>1</th>\n",
       "      <td>0</td>\n",
       "      <td>1</td>\n",
       "      <td>introduction</td>\n",
       "      <td>tie</td>\n",
       "      <td>Both paragraphs have clear sentence structures...</td>\n",
       "      <td>0.0</td>\n",
       "    </tr>\n",
       "    <tr>\n",
       "      <th>2</th>\n",
       "      <td>0</td>\n",
       "      <td>2</td>\n",
       "      <td>introduction</td>\n",
       "      <td>Paragraph 1</td>\n",
       "      <td>Paragraph 1 slightly edges out Paragraph A in ...</td>\n",
       "      <td>1.0</td>\n",
       "    </tr>\n",
       "    <tr>\n",
       "      <th>3</th>\n",
       "      <td>0</td>\n",
       "      <td>3</td>\n",
       "      <td>introduction</td>\n",
       "      <td>Paragraph 1</td>\n",
       "      <td>Paragraph 1 slightly edges out as the best cho...</td>\n",
       "      <td>1.0</td>\n",
       "    </tr>\n",
       "    <tr>\n",
       "      <th>4</th>\n",
       "      <td>0</td>\n",
       "      <td>4</td>\n",
       "      <td>results</td>\n",
       "      <td>Paragraph A</td>\n",
       "      <td>Paragraph A has a clearer sentence structure a...</td>\n",
       "      <td>-1.0</td>\n",
       "    </tr>\n",
       "  </tbody>\n",
       "</table>\n",
       "</div>"
      ],
      "text/plain": [
       "   rep_index  paragraph_index paragraph_section       winner  \\\n",
       "0          0                0          abstract  Paragraph A   \n",
       "1          0                1      introduction          tie   \n",
       "2          0                2      introduction  Paragraph 1   \n",
       "3          0                3      introduction  Paragraph 1   \n",
       "4          0                4           results  Paragraph A   \n",
       "\n",
       "                                           rationale  winner_score  \n",
       "0  Paragraph A slightly edges out Paragraph 1 in ...          -1.0  \n",
       "1  Both paragraphs have clear sentence structures...           0.0  \n",
       "2  Paragraph 1 slightly edges out Paragraph A in ...           1.0  \n",
       "3  Paragraph 1 slightly edges out as the best cho...           1.0  \n",
       "4  Paragraph A has a clearer sentence structure a...          -1.0  "
      ]
     },
     "execution_count": 23,
     "metadata": {},
     "output_type": "execute_result"
    }
   ],
   "source": [
    "df_results.head()"
   ]
  },
  {
   "cell_type": "code",
   "execution_count": 24,
   "id": "c34034ad-656d-4553-b90d-bd068f9c83e5",
   "metadata": {
    "editable": true,
    "execution": {
     "iopub.execute_input": "2024-03-21T14:48:04.901620Z",
     "iopub.status.busy": "2024-03-21T14:48:04.901407Z",
     "iopub.status.idle": "2024-03-21T14:48:04.905574Z",
     "shell.execute_reply": "2024-03-21T14:48:04.905222Z"
    },
    "papermill": {
     "duration": 0.018832,
     "end_time": "2024-03-21T14:48:04.906264",
     "exception": false,
     "start_time": "2024-03-21T14:48:04.887432",
     "status": "completed"
    },
    "slideshow": {
     "slide_type": ""
    },
    "tags": []
   },
   "outputs": [
    {
     "data": {
      "text/plain": [
       "rep_index              int64\n",
       "paragraph_index        int64\n",
       "paragraph_section     object\n",
       "winner                object\n",
       "rationale             object\n",
       "winner_score         float64\n",
       "dtype: object"
      ]
     },
     "execution_count": 24,
     "metadata": {},
     "output_type": "execute_result"
    }
   ],
   "source": [
    "df_results.dtypes"
   ]
  },
  {
   "cell_type": "code",
   "execution_count": 25,
   "id": "fa42ddf4-ec2a-4d55-869a-5942a4a87094",
   "metadata": {
    "editable": true,
    "execution": {
     "iopub.execute_input": "2024-03-21T14:48:04.933942Z",
     "iopub.status.busy": "2024-03-21T14:48:04.933730Z",
     "iopub.status.idle": "2024-03-21T14:48:04.938986Z",
     "shell.execute_reply": "2024-03-21T14:48:04.938621Z"
    },
    "papermill": {
     "duration": 0.02,
     "end_time": "2024-03-21T14:48:04.939689",
     "exception": false,
     "start_time": "2024-03-21T14:48:04.919689",
     "status": "completed"
    },
    "slideshow": {
     "slide_type": ""
    },
    "tags": []
   },
   "outputs": [
    {
     "data": {
      "text/plain": [
       "paragraph_section\n",
       "abstract                 -0.800000\n",
       "discussion               -0.350000\n",
       "introduction              0.333333\n",
       "methods                  -0.250000\n",
       "results                  -0.220000\n",
       "supplementary material   -0.666667\n",
       "Name: winner_score, dtype: float64"
      ]
     },
     "execution_count": 25,
     "metadata": {},
     "output_type": "execute_result"
    }
   ],
   "source": [
    "df_results.groupby(\"paragraph_section\")[\"winner_score\"].mean()"
   ]
  },
  {
   "cell_type": "markdown",
   "id": "5ba03c58-7563-416e-bc0e-a0b11796b0c7",
   "metadata": {
    "editable": true,
    "papermill": {
     "duration": 0.013466,
     "end_time": "2024-03-21T14:48:04.966675",
     "exception": false,
     "start_time": "2024-03-21T14:48:04.953209",
     "status": "completed"
    },
    "slideshow": {
     "slide_type": ""
    },
    "tags": []
   },
   "source": [
    "# Save"
   ]
  },
  {
   "cell_type": "code",
   "execution_count": 26,
   "id": "1e3899e4-da2c-4148-b226-268560c655f8",
   "metadata": {
    "editable": true,
    "execution": {
     "iopub.execute_input": "2024-03-21T14:48:04.994285Z",
     "iopub.status.busy": "2024-03-21T14:48:04.994074Z",
     "iopub.status.idle": "2024-03-21T14:48:04.997841Z",
     "shell.execute_reply": "2024-03-21T14:48:04.997392Z"
    },
    "papermill": {
     "duration": 0.019108,
     "end_time": "2024-03-21T14:48:04.999184",
     "exception": false,
     "start_time": "2024-03-21T14:48:04.980076",
     "status": "completed"
    },
    "slideshow": {
     "slide_type": ""
    },
    "tags": []
   },
   "outputs": [],
   "source": [
    "df_results.to_pickle(OUTPUT_FILE)"
   ]
  },
  {
   "cell_type": "code",
   "execution_count": null,
   "id": "46f23ada-3eda-47a0-a5ac-3d6d9a9672fc",
   "metadata": {
    "editable": true,
    "papermill": {
     "duration": 0.013082,
     "end_time": "2024-03-21T14:48:05.026097",
     "exception": false,
     "start_time": "2024-03-21T14:48:05.013015",
     "status": "completed"
    },
    "slideshow": {
     "slide_type": ""
    },
    "tags": []
   },
   "outputs": [],
   "source": []
  }
 ],
 "metadata": {
  "jupytext": {
   "cell_metadata_filter": "all,-execution,-papermill,-trusted",
   "notebook_metadata_filter": "-jupytext.text_representation.jupytext_version"
  },
  "kernelspec": {
   "display_name": "Python 3 (ipykernel)",
   "language": "python",
   "name": "python3"
  },
  "language_info": {
   "codemirror_mode": {
    "name": "ipython",
    "version": 3
   },
   "file_extension": ".py",
   "mimetype": "text/x-python",
   "name": "python",
   "nbconvert_exporter": "python",
   "pygments_lexer": "ipython3",
   "version": "3.11.8"
  },
  "papermill": {
   "default_parameters": {},
   "duration": 1429.382759,
   "end_time": "2024-03-21T14:48:05.557439",
   "environment_variables": {},
   "exception": null,
   "input_path": "/home/miltondp/projects/others/manubot/manubot-ai-editor-code/nbs/05-llm_evaluation/00-llm_pairwise-template.ipynb",
   "output_path": "/home/miltondp/projects/others/manubot/manubot-ai-editor-code/nbs/05-llm_evaluation/output/00-llm_pairwise-ccc-manuscript--gpt-3.5-turbo--reversed--openai_gpt-3.5-turbo.ipynb",
   "parameters": {
    "INPUT_FILE": "/home/miltondp/projects/others/manubot/manubot-ai-editor-code/base/results/paragraph_match/ccc-manuscript--gpt-3.5-turbo--reversed.pkl",
    "LLM_JUDGE": "openai:gpt-3.5-turbo",
    "MAX_TOKENS": 2000,
    "N_REPS": 10,
    "OUTPUT_FILE": "/home/miltondp/projects/others/manubot/manubot-ai-editor-code/base/results/llm_pairwise/ccc-manuscript--gpt-3.5-turbo--reversed--openai_gpt-3.5-turbo.pkl",
    "REPO": "pivlab/manubot-ai-editor-code-test-ccc-manuscript",
    "SEED_INIT": 0,
    "TEMPERATURE": 0.5
   },
   "start_time": "2024-03-21T14:24:16.174680",
   "version": "2.5.0"
  }
 },
 "nbformat": 4,
 "nbformat_minor": 5
}
