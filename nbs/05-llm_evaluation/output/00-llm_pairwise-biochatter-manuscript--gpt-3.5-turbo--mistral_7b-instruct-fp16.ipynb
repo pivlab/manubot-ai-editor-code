{
 "cells": [
  {
   "cell_type": "markdown",
   "id": "070a050a-44d1-42c2-b274-c8c180a2a0ba",
   "metadata": {
    "editable": true,
    "papermill": {
     "duration": 0.006369,
     "end_time": "2024-03-21T16:29:23.276419",
     "exception": false,
     "start_time": "2024-03-21T16:29:23.270050",
     "status": "completed"
    },
    "slideshow": {
     "slide_type": ""
    },
    "tags": []
   },
   "source": [
    "# Description"
   ]
  },
  {
   "cell_type": "markdown",
   "id": "e4fcbb4d-aa04-4e1a-9aee-0053c559e157",
   "metadata": {
    "editable": true,
    "papermill": {
     "duration": 0.005564,
     "end_time": "2024-03-21T16:29:23.292423",
     "exception": false,
     "start_time": "2024-03-21T16:29:23.286859",
     "status": "completed"
    },
    "slideshow": {
     "slide_type": ""
    },
    "tags": []
   },
   "source": [
    "This notebook is a template notebook that is intended to be run across different parameters.\n",
    "\n",
    "TODO"
   ]
  },
  {
   "cell_type": "markdown",
   "id": "b237f234-dc98-43e9-8ff5-8922c410c377",
   "metadata": {
    "editable": true,
    "papermill": {
     "duration": 0.005504,
     "end_time": "2024-03-21T16:29:23.303542",
     "exception": false,
     "start_time": "2024-03-21T16:29:23.298038",
     "status": "completed"
    },
    "slideshow": {
     "slide_type": ""
    },
    "tags": []
   },
   "source": [
    "# Modules"
   ]
  },
  {
   "cell_type": "code",
   "execution_count": 1,
   "id": "70413318-1f5e-4d58-b1a2-cb4f01c13e86",
   "metadata": {
    "editable": true,
    "execution": {
     "iopub.execute_input": "2024-03-21T16:29:23.316200Z",
     "iopub.status.busy": "2024-03-21T16:29:23.316076Z",
     "iopub.status.idle": "2024-03-21T16:29:24.319638Z",
     "shell.execute_reply": "2024-03-21T16:29:24.319065Z"
    },
    "papermill": {
     "duration": 1.01218,
     "end_time": "2024-03-21T16:29:24.321339",
     "exception": false,
     "start_time": "2024-03-21T16:29:23.309159",
     "status": "completed"
    },
    "slideshow": {
     "slide_type": ""
    },
    "tags": []
   },
   "outputs": [],
   "source": [
    "import pandas as pd\n",
    "from IPython.display import display\n",
    "from langchain.cache import SQLiteCache\n",
    "from langchain.globals import set_llm_cache\n",
    "from proj import conf\n",
    "from proj.utils import llm_pairwise"
   ]
  },
  {
   "cell_type": "markdown",
   "id": "3f78fd18-86b7-40b9-b80e-a8b18d001682",
   "metadata": {
    "editable": true,
    "papermill": {
     "duration": 0.03498,
     "end_time": "2024-03-21T16:29:24.361945",
     "exception": false,
     "start_time": "2024-03-21T16:29:24.326965",
     "status": "completed"
    },
    "slideshow": {
     "slide_type": ""
    },
    "tags": []
   },
   "source": [
    "# Settings/paths"
   ]
  },
  {
   "cell_type": "code",
   "execution_count": 2,
   "id": "10a3ceca-1480-45b0-b04d-cb402ff95abf",
   "metadata": {
    "editable": true,
    "execution": {
     "iopub.execute_input": "2024-03-21T16:29:24.373705Z",
     "iopub.status.busy": "2024-03-21T16:29:24.373540Z",
     "iopub.status.idle": "2024-03-21T16:29:24.376235Z",
     "shell.execute_reply": "2024-03-21T16:29:24.375817Z"
    },
    "papermill": {
     "duration": 0.009828,
     "end_time": "2024-03-21T16:29:24.377311",
     "exception": false,
     "start_time": "2024-03-21T16:29:24.367483",
     "status": "completed"
    },
    "slideshow": {
     "slide_type": ""
    },
    "tags": [
     "parameters"
    ]
   },
   "outputs": [],
   "source": [
    "# Input manuscript\n",
    "REPO = None\n",
    "\n",
    "INPUT_FILE = None\n",
    "OUTPUT_FILE = None\n",
    "\n",
    "# Model and its parameters\n",
    "LLM_JUDGE = None\n",
    "TEMPERATURE = None\n",
    "MAX_TOKENS = 2000\n",
    "SEED_INIT = 0\n",
    "\n",
    "# Evaluation parameters\n",
    "N_REPS = None"
   ]
  },
  {
   "cell_type": "code",
   "execution_count": 3,
   "id": "c9546aa7",
   "metadata": {
    "execution": {
     "iopub.execute_input": "2024-03-21T16:29:24.389010Z",
     "iopub.status.busy": "2024-03-21T16:29:24.388883Z",
     "iopub.status.idle": "2024-03-21T16:29:24.391552Z",
     "shell.execute_reply": "2024-03-21T16:29:24.391037Z"
    },
    "papermill": {
     "duration": 0.009886,
     "end_time": "2024-03-21T16:29:24.392781",
     "exception": false,
     "start_time": "2024-03-21T16:29:24.382895",
     "status": "completed"
    },
    "tags": [
     "injected-parameters"
    ]
   },
   "outputs": [],
   "source": [
    "# Parameters\n",
    "REPO = \"pivlab/manubot-ai-editor-code-test-biochatter-manuscript\"\n",
    "INPUT_FILE = \"/home/miltondp/projects/others/manubot/manubot-ai-editor-code/base/results/paragraph_match/biochatter-manuscript--gpt-3.5-turbo.pkl\"\n",
    "OUTPUT_FILE = \"/home/miltondp/projects/others/manubot/manubot-ai-editor-code/base/results/llm_pairwise/biochatter-manuscript--gpt-3.5-turbo--mistral_7b-instruct-fp16.pkl\"\n",
    "LLM_JUDGE = \"mistral:7b-instruct-fp16\"\n",
    "TEMPERATURE = 0.5\n",
    "MAX_TOKENS = 2000\n",
    "SEED_INIT = 0\n",
    "N_REPS = 10\n"
   ]
  },
  {
   "cell_type": "code",
   "execution_count": 4,
   "id": "2245c8bd-63ca-489c-aad5-91a4b57d5e37",
   "metadata": {
    "editable": true,
    "execution": {
     "iopub.execute_input": "2024-03-21T16:29:24.404719Z",
     "iopub.status.busy": "2024-03-21T16:29:24.404520Z",
     "iopub.status.idle": "2024-03-21T16:29:24.411031Z",
     "shell.execute_reply": "2024-03-21T16:29:24.410453Z"
    },
    "papermill": {
     "duration": 0.01391,
     "end_time": "2024-03-21T16:29:24.412219",
     "exception": false,
     "start_time": "2024-03-21T16:29:24.398309",
     "status": "completed"
    },
    "slideshow": {
     "slide_type": ""
    },
    "tags": []
   },
   "outputs": [
    {
     "data": {
      "text/plain": [
       "PosixPath('/home/miltondp/projects/others/manubot/manubot-ai-editor-code/base/results/llm_cache')"
      ]
     },
     "metadata": {},
     "output_type": "display_data"
    }
   ],
   "source": [
    "conf.common.LLM_CACHE_DIR.mkdir(parents=True, exist_ok=True)\n",
    "display(conf.common.LLM_CACHE_DIR)"
   ]
  },
  {
   "cell_type": "markdown",
   "id": "c42b83b5-84b7-45ff-88ee-3651aa5c9c55",
   "metadata": {
    "editable": true,
    "papermill": {
     "duration": 0.005672,
     "end_time": "2024-03-21T16:29:24.423659",
     "exception": false,
     "start_time": "2024-03-21T16:29:24.417987",
     "status": "completed"
    },
    "slideshow": {
     "slide_type": ""
    },
    "tags": []
   },
   "source": [
    "# Load paragraphs"
   ]
  },
  {
   "cell_type": "code",
   "execution_count": 5,
   "id": "f1d1f476-f5b5-4d1c-9c3a-822e9bef4b27",
   "metadata": {
    "editable": true,
    "execution": {
     "iopub.execute_input": "2024-03-21T16:29:24.435471Z",
     "iopub.status.busy": "2024-03-21T16:29:24.435269Z",
     "iopub.status.idle": "2024-03-21T16:29:24.438767Z",
     "shell.execute_reply": "2024-03-21T16:29:24.438253Z"
    },
    "papermill": {
     "duration": 0.010261,
     "end_time": "2024-03-21T16:29:24.439594",
     "exception": false,
     "start_time": "2024-03-21T16:29:24.429333",
     "status": "completed"
    },
    "slideshow": {
     "slide_type": ""
    },
    "tags": []
   },
   "outputs": [],
   "source": [
    "df = pd.read_pickle(INPUT_FILE)"
   ]
  },
  {
   "cell_type": "code",
   "execution_count": 6,
   "id": "4e3db6e2-f267-4d60-8ff3-703698a09f88",
   "metadata": {
    "editable": true,
    "execution": {
     "iopub.execute_input": "2024-03-21T16:29:24.446532Z",
     "iopub.status.busy": "2024-03-21T16:29:24.446338Z",
     "iopub.status.idle": "2024-03-21T16:29:24.450060Z",
     "shell.execute_reply": "2024-03-21T16:29:24.449561Z"
    },
    "papermill": {
     "duration": 0.008102,
     "end_time": "2024-03-21T16:29:24.450823",
     "exception": false,
     "start_time": "2024-03-21T16:29:24.442721",
     "status": "completed"
    },
    "slideshow": {
     "slide_type": ""
    },
    "tags": []
   },
   "outputs": [
    {
     "data": {
      "text/plain": [
       "(37, 3)"
      ]
     },
     "execution_count": 6,
     "metadata": {},
     "output_type": "execute_result"
    }
   ],
   "source": [
    "df.shape"
   ]
  },
  {
   "cell_type": "code",
   "execution_count": 7,
   "id": "cc6a365d-59f5-4537-9fd7-869ee4156046",
   "metadata": {
    "editable": true,
    "execution": {
     "iopub.execute_input": "2024-03-21T16:29:24.458134Z",
     "iopub.status.busy": "2024-03-21T16:29:24.457654Z",
     "iopub.status.idle": "2024-03-21T16:29:24.465641Z",
     "shell.execute_reply": "2024-03-21T16:29:24.465112Z"
    },
    "papermill": {
     "duration": 0.01246,
     "end_time": "2024-03-21T16:29:24.466424",
     "exception": false,
     "start_time": "2024-03-21T16:29:24.453964",
     "status": "completed"
    },
    "slideshow": {
     "slide_type": ""
    },
    "tags": []
   },
   "outputs": [
    {
     "data": {
      "text/html": [
       "<div>\n",
       "<style scoped>\n",
       "    .dataframe tbody tr th:only-of-type {\n",
       "        vertical-align: middle;\n",
       "    }\n",
       "\n",
       "    .dataframe tbody tr th {\n",
       "        vertical-align: top;\n",
       "    }\n",
       "\n",
       "    .dataframe thead th {\n",
       "        text-align: right;\n",
       "    }\n",
       "</style>\n",
       "<table border=\"1\" class=\"dataframe\">\n",
       "  <thead>\n",
       "    <tr style=\"text-align: right;\">\n",
       "      <th></th>\n",
       "      <th>section</th>\n",
       "      <th>original</th>\n",
       "      <th>modified</th>\n",
       "    </tr>\n",
       "  </thead>\n",
       "  <tbody>\n",
       "    <tr>\n",
       "      <th>0</th>\n",
       "      <td>abstract</td>\n",
       "      <td>Current-generation Large Language Models (LLMs...</td>\n",
       "      <td>Large Language Models (LLMs) have generated si...</td>\n",
       "    </tr>\n",
       "    <tr>\n",
       "      <th>1</th>\n",
       "      <td>introduction</td>\n",
       "      <td>Despite technological advances, understanding ...</td>\n",
       "      <td>Despite technological advances, understanding ...</td>\n",
       "    </tr>\n",
       "    <tr>\n",
       "      <th>2</th>\n",
       "      <td>introduction</td>\n",
       "      <td>Large Language Models (LLMs) of the current ge...</td>\n",
       "      <td>The latest generation of Large Language Models...</td>\n",
       "    </tr>\n",
       "    <tr>\n",
       "      <th>3</th>\n",
       "      <td>introduction</td>\n",
       "      <td>Computational biomedicine involves many tasks ...</td>\n",
       "      <td>Computational biomedicine encompasses various ...</td>\n",
       "    </tr>\n",
       "    <tr>\n",
       "      <th>4</th>\n",
       "      <td>results</td>\n",
       "      <td>The framework is designed to be modular: any o...</td>\n",
       "      <td>The framework is designed to be modular, allow...</td>\n",
       "    </tr>\n",
       "  </tbody>\n",
       "</table>\n",
       "</div>"
      ],
      "text/plain": [
       "        section                                           original  \\\n",
       "0      abstract  Current-generation Large Language Models (LLMs...   \n",
       "1  introduction  Despite technological advances, understanding ...   \n",
       "2  introduction  Large Language Models (LLMs) of the current ge...   \n",
       "3  introduction  Computational biomedicine involves many tasks ...   \n",
       "4       results  The framework is designed to be modular: any o...   \n",
       "\n",
       "                                            modified  \n",
       "0  Large Language Models (LLMs) have generated si...  \n",
       "1  Despite technological advances, understanding ...  \n",
       "2  The latest generation of Large Language Models...  \n",
       "3  Computational biomedicine encompasses various ...  \n",
       "4  The framework is designed to be modular, allow...  "
      ]
     },
     "execution_count": 7,
     "metadata": {},
     "output_type": "execute_result"
    }
   ],
   "source": [
    "df.head()"
   ]
  },
  {
   "cell_type": "code",
   "execution_count": 8,
   "id": "589fb328-d62a-4573-8177-a9dbd1e495b0",
   "metadata": {
    "editable": true,
    "execution": {
     "iopub.execute_input": "2024-03-21T16:29:24.473653Z",
     "iopub.status.busy": "2024-03-21T16:29:24.473448Z",
     "iopub.status.idle": "2024-03-21T16:29:24.477340Z",
     "shell.execute_reply": "2024-03-21T16:29:24.476821Z"
    },
    "papermill": {
     "duration": 0.008422,
     "end_time": "2024-03-21T16:29:24.478107",
     "exception": false,
     "start_time": "2024-03-21T16:29:24.469685",
     "status": "completed"
    },
    "slideshow": {
     "slide_type": ""
    },
    "tags": []
   },
   "outputs": [
    {
     "data": {
      "text/plain": [
       "'Current-generation Large Language Models (LLMs) have stirred enormous interest in recent months, yielding great potential for accessibility and automation, while simultaneously posing significant challenges and risk of misuse. To facilitate interfacing with LLMs in the biomedical space, while at the same time safeguarding their functionalities through sensible constraints, we propose a dedicated, open-source framework: BioChatter. Based on open-source software packages, we synergise the many functionalities that are currently developing around LLMs, such as knowledge integration / retrieval-augmented generation, model chaining, and benchmarking, resulting in an easy-to-use and inclusive framework for application in many use cases of biomedicine. We focus on robust and user-friendly implementation, including ways to deploy privacy-preserving local open-source LLMs. We demonstrate use cases via two multi-purpose web apps ([https://chat.biocypher.org](https://chat.biocypher.org)), and provide documentation, support, and an open community.'"
      ]
     },
     "execution_count": 8,
     "metadata": {},
     "output_type": "execute_result"
    }
   ],
   "source": [
    "df.iloc[0][\"original\"]"
   ]
  },
  {
   "cell_type": "code",
   "execution_count": 9,
   "id": "4b5fba85-97aa-4051-b755-c45f8dbf2448",
   "metadata": {
    "editable": true,
    "execution": {
     "iopub.execute_input": "2024-03-21T16:29:24.485780Z",
     "iopub.status.busy": "2024-03-21T16:29:24.485283Z",
     "iopub.status.idle": "2024-03-21T16:29:24.489096Z",
     "shell.execute_reply": "2024-03-21T16:29:24.488605Z"
    },
    "papermill": {
     "duration": 0.008356,
     "end_time": "2024-03-21T16:29:24.489803",
     "exception": false,
     "start_time": "2024-03-21T16:29:24.481447",
     "status": "completed"
    },
    "slideshow": {
     "slide_type": ""
    },
    "tags": []
   },
   "outputs": [
    {
     "data": {
      "text/plain": [
       "'Large Language Models (LLMs) have generated significant interest due to their potential for accessibility and automation in various fields, including biomedicine. However, they also present challenges and risks of misuse. In this paper, we address the need for a framework to interface with LLMs in the biomedical domain while ensuring their safe and effective use. To meet this need, we introduce BioChatter, an open-source framework that integrates various functionalities of LLMs, such as knowledge integration, retrieval-augmented generation, model chaining, and benchmarking. By leveraging open-source software packages, we have developed a user-friendly and versatile platform that can be applied across a range of biomedicine use cases. Our focus is on implementing robust and privacy-preserving local open-source LLMs. We showcase the utility of BioChatter through two multi-purpose web apps available at [https://chat.biocypher.org](https://chat.biocypher.org) and provide comprehensive documentation, support, and a vibrant open community.'"
      ]
     },
     "execution_count": 9,
     "metadata": {},
     "output_type": "execute_result"
    }
   ],
   "source": [
    "df.iloc[0][\"modified\"]"
   ]
  },
  {
   "cell_type": "markdown",
   "id": "9291eef4-d5ee-4d89-b34d-997501f0cd0b",
   "metadata": {
    "editable": true,
    "papermill": {
     "duration": 0.003342,
     "end_time": "2024-03-21T16:29:24.496535",
     "exception": false,
     "start_time": "2024-03-21T16:29:24.493193",
     "status": "completed"
    },
    "slideshow": {
     "slide_type": ""
    },
    "tags": []
   },
   "source": [
    "# Test run"
   ]
  },
  {
   "cell_type": "code",
   "execution_count": 10,
   "id": "6b7e80bd-f678-4047-b0f6-3c4e55de4767",
   "metadata": {
    "editable": true,
    "execution": {
     "iopub.execute_input": "2024-03-21T16:29:24.504310Z",
     "iopub.status.busy": "2024-03-21T16:29:24.503870Z",
     "iopub.status.idle": "2024-03-21T16:29:32.809007Z",
     "shell.execute_reply": "2024-03-21T16:29:32.808463Z"
    },
    "papermill": {
     "duration": 8.310634,
     "end_time": "2024-03-21T16:29:32.810551",
     "exception": false,
     "start_time": "2024-03-21T16:29:24.499917",
     "status": "completed"
    },
    "slideshow": {
     "slide_type": ""
    },
    "tags": []
   },
   "outputs": [
    {
     "name": "stdout",
     "output_type": "stream",
     "text": [
      "\n",
      "\n",
      "\u001b[1m> Entering new LLMChain chain...\u001b[0m\n",
      "Prompt after formatting:\n",
      "\u001b[32;1m\u001b[1;3mSystem: You are an expert copyeditor with ample experience in scientific writing. You are assessing the quality of two versions of a paragraph from the Abstract of a scientific article.\n",
      "Human: Evaluate the quality of the following paragraph by writing a list with positive (if any) and/or negative (if any) aspects on the following areas: 1) has a clear sentence structure, 2) is easy to follow, 3) is correct in grammar, 4) has no spelling errors.\n",
      "\n",
      "Paragraph A: Current-generation Large Language Models (LLMs) have stirred enormous interest in recent months, yielding great potential for accessibility and automation, while simultaneously posing significant challenges and risk of misuse. To facilitate interfacing with LLMs in the biomedical space, while at the same time safeguarding their functionalities through sensible constraints, we propose a dedicated, open-source framework: BioChatter. Based on open-source software packages, we synergise the many functionalities that are currently developing around LLMs, such as knowledge integration / retrieval-augmented generation, model chaining, and benchmarking, resulting in an easy-to-use and inclusive framework for application in many use cases of biomedicine. We focus on robust and user-friendly implementation, including ways to deploy privacy-preserving local open-source LLMs. We demonstrate use cases via two multi-purpose web apps ([https://chat.biocypher.org](https://chat.biocypher.org)), and provide documentation, support, and an open community.\u001b[0m\n"
     ]
    },
    {
     "name": "stdout",
     "output_type": "stream",
     "text": [
      "\n",
      "\u001b[1m> Finished chain.\u001b[0m\n",
      "\n",
      "\n",
      "\u001b[1m> Entering new LLMChain chain...\u001b[0m\n",
      "Prompt after formatting:\n",
      "\u001b[32;1m\u001b[1;3mSystem: You are an expert copyeditor with ample experience in scientific writing. You are assessing the quality of two versions of a paragraph from the Abstract of a scientific article.\n",
      "Human: Evaluate the quality of the following paragraph by writing a list with positive (if any) and/or negative (if any) aspects on the following areas: 1) has a clear sentence structure, 2) is easy to follow, 3) is correct in grammar, 4) has no spelling errors.\n",
      "\n",
      "Paragraph A: Current-generation Large Language Models (LLMs) have stirred enormous interest in recent months, yielding great potential for accessibility and automation, while simultaneously posing significant challenges and risk of misuse. To facilitate interfacing with LLMs in the biomedical space, while at the same time safeguarding their functionalities through sensible constraints, we propose a dedicated, open-source framework: BioChatter. Based on open-source software packages, we synergise the many functionalities that are currently developing around LLMs, such as knowledge integration / retrieval-augmented generation, model chaining, and benchmarking, resulting in an easy-to-use and inclusive framework for application in many use cases of biomedicine. We focus on robust and user-friendly implementation, including ways to deploy privacy-preserving local open-source LLMs. We demonstrate use cases via two multi-purpose web apps ([https://chat.biocypher.org](https://chat.biocypher.org)), and provide documentation, support, and an open community.\n",
      "AI: \n",
      "Positive aspects:\n",
      "\n",
      "1) The paragraph has a clear sentence structure, making it easy to read and understand the main points.\n",
      "2) It is easy to follow the train of thought, as the ideas are presented logically and coherently.\n",
      "3) The language used in the paragraph is correct in grammar, with proper subject-verb agreement and sentence structure.\n",
      "4) There are no spelling errors in the paragraph.\n",
      "\n",
      "Negative aspects:\n",
      "\n",
      "1) The paragraph may be too technical for non-scientific readers to fully understand the concepts being discussed.\n",
      "2) Some of the terms used in the paragraph (such as \"LLMs\" and \"biomedical space\") may require additional explanation or context for readers who are not familiar with these concepts.\n",
      "Human: Evaluate the quality of the following paragraph by writing a list with positive (if any) and/or negative (if any) aspects on the following areas: 1) has a clear sentence structure, 2) is easy to follow, 3) is correct in grammar, 4) has no spelling errors.\n",
      "\n",
      "Paragraph 1: Large Language Models (LLMs) have generated significant interest due to their potential for accessibility and automation in various fields, including biomedicine. However, they also present challenges and risks of misuse. In this paper, we address the need for a framework to interface with LLMs in the biomedical domain while ensuring their safe and effective use. To meet this need, we introduce BioChatter, an open-source framework that integrates various functionalities of LLMs, such as knowledge integration, retrieval-augmented generation, model chaining, and benchmarking. By leveraging open-source software packages, we have developed a user-friendly and versatile platform that can be applied across a range of biomedicine use cases. Our focus is on implementing robust and privacy-preserving local open-source LLMs. We showcase the utility of BioChatter through two multi-purpose web apps available at [https://chat.biocypher.org](https://chat.biocypher.org) and provide comprehensive documentation, support, and a vibrant open community.\u001b[0m\n"
     ]
    },
    {
     "name": "stdout",
     "output_type": "stream",
     "text": [
      "\n",
      "\u001b[1m> Finished chain.\u001b[0m\n",
      "\n",
      "\n",
      "\u001b[1m> Entering new LLMChain chain...\u001b[0m\n",
      "Prompt after formatting:\n",
      "\u001b[32;1m\u001b[1;3mSystem: You are an expert copyeditor with ample experience in scientific writing. You are assessing the quality of two versions of a paragraph from the Abstract of a scientific article.\n",
      "Human: Evaluate the quality of the following paragraph by writing a list with positive (if any) and/or negative (if any) aspects on the following areas: 1) has a clear sentence structure, 2) is easy to follow, 3) is correct in grammar, 4) has no spelling errors.\n",
      "\n",
      "Paragraph A: Current-generation Large Language Models (LLMs) have stirred enormous interest in recent months, yielding great potential for accessibility and automation, while simultaneously posing significant challenges and risk of misuse. To facilitate interfacing with LLMs in the biomedical space, while at the same time safeguarding their functionalities through sensible constraints, we propose a dedicated, open-source framework: BioChatter. Based on open-source software packages, we synergise the many functionalities that are currently developing around LLMs, such as knowledge integration / retrieval-augmented generation, model chaining, and benchmarking, resulting in an easy-to-use and inclusive framework for application in many use cases of biomedicine. We focus on robust and user-friendly implementation, including ways to deploy privacy-preserving local open-source LLMs. We demonstrate use cases via two multi-purpose web apps ([https://chat.biocypher.org](https://chat.biocypher.org)), and provide documentation, support, and an open community.\n",
      "AI: \n",
      "Positive aspects:\n",
      "\n",
      "1) The paragraph has a clear sentence structure, making it easy to read and understand the main points.\n",
      "2) It is easy to follow the train of thought, as the ideas are presented logically and coherently.\n",
      "3) The language used in the paragraph is correct in grammar, with proper subject-verb agreement and sentence structure.\n",
      "4) There are no spelling errors in the paragraph.\n",
      "\n",
      "Negative aspects:\n",
      "\n",
      "1) The paragraph may be too technical for non-scientific readers to fully understand the concepts being discussed.\n",
      "2) Some of the terms used in the paragraph (such as \"LLMs\" and \"biomedical space\") may require additional explanation or context for readers who are not familiar with these concepts.\n",
      "Human: Evaluate the quality of the following paragraph by writing a list with positive (if any) and/or negative (if any) aspects on the following areas: 1) has a clear sentence structure, 2) is easy to follow, 3) is correct in grammar, 4) has no spelling errors.\n",
      "\n",
      "Paragraph 1: Large Language Models (LLMs) have generated significant interest due to their potential for accessibility and automation in various fields, including biomedicine. However, they also present challenges and risks of misuse. In this paper, we address the need for a framework to interface with LLMs in the biomedical domain while ensuring their safe and effective use. To meet this need, we introduce BioChatter, an open-source framework that integrates various functionalities of LLMs, such as knowledge integration, retrieval-augmented generation, model chaining, and benchmarking. By leveraging open-source software packages, we have developed a user-friendly and versatile platform that can be applied across a range of biomedicine use cases. Our focus is on implementing robust and privacy-preserving local open-source LLMs. We showcase the utility of BioChatter through two multi-purpose web apps available at [https://chat.biocypher.org](https://chat.biocypher.org) and provide comprehensive documentation, support, and a vibrant open community.\n",
      "AI: \n",
      "Positive aspects:\n",
      "\n",
      "1) The paragraph has a clear sentence structure, making it easy to read and understand the main points.\n",
      "2) It is easy to follow the train of thought, as the ideas are presented logically and coherently.\n",
      "3) The language used in the paragraph is correct in grammar, with proper subject-verb agreement and sentence structure.\n",
      "4) There are no spelling errors in the paragraph.\n",
      "\n",
      "Negative aspects:\n",
      "\n",
      "1) Some of the terms used in the paragraph (such as \"LLMs\" and \"biomedical domain\") may require additional explanation or context for readers who are not familiar with these concepts.\n",
      "2) The use of technical jargon may make the paragraph difficult to understand for non-scientific readers.\n",
      "Human: Now, act as an impartial judge and evaluate the quality of these two paragraphs. Your evaluation must only consider the previous areas you commented on above. Compare the two versions and select the best only if one of them is clearly better than the other; if both versions are similar, then it is a tie. Avoid any position biases and ensure that the order in which the paragraphs were presented does not influence your decision. Do not favor certain paragraph identifiers. Be as objective as possible. Provide the output in JSON format with the following schema: {\"best\": string, \"rationale\": string}, where \"best\" can only have the following values: \"Paragraph A\", \"Paragraph 1\", or \"tie\".\u001b[0m\n"
     ]
    },
    {
     "name": "stdout",
     "output_type": "stream",
     "text": [
      "\n",
      "\u001b[1m> Finished chain.\u001b[0m\n"
     ]
    }
   ],
   "source": [
    "t_json = llm_pairwise(\n",
    "    df.iloc[0][\"original\"],\n",
    "    df.iloc[0][\"modified\"],\n",
    "    df.iloc[0][\"section\"],\n",
    "    model_name=LLM_JUDGE,\n",
    "    model_params={\n",
    "        \"temperature\": TEMPERATURE,\n",
    "        \"max_tokens\": MAX_TOKENS,\n",
    "        \"model_kwargs\": {\n",
    "            \"seed\": SEED_INIT,\n",
    "        },\n",
    "    },\n",
    "    verbose=True,\n",
    ")"
   ]
  },
  {
   "cell_type": "code",
   "execution_count": 11,
   "id": "22ef42b6-46f5-44ab-87a5-5d22460526fa",
   "metadata": {
    "editable": true,
    "execution": {
     "iopub.execute_input": "2024-03-21T16:29:32.829632Z",
     "iopub.status.busy": "2024-03-21T16:29:32.829419Z",
     "iopub.status.idle": "2024-03-21T16:29:32.833063Z",
     "shell.execute_reply": "2024-03-21T16:29:32.832646Z"
    },
    "papermill": {
     "duration": 0.016331,
     "end_time": "2024-03-21T16:29:32.834208",
     "exception": false,
     "start_time": "2024-03-21T16:29:32.817877",
     "status": "completed"
    },
    "slideshow": {
     "slide_type": ""
    },
    "tags": []
   },
   "outputs": [
    {
     "data": {
      "text/plain": [
       "{'best': 'tie',\n",
       " 'rationale': 'Both paragraphs have a clear sentence structure and are easy to follow. They are also correct in grammar and have no spelling errors. However, Paragraph 1 may be more accessible to non-scientific readers due to its simpler language and less technical jargon.'}"
      ]
     },
     "execution_count": 11,
     "metadata": {},
     "output_type": "execute_result"
    }
   ],
   "source": [
    "t_json"
   ]
  },
  {
   "cell_type": "code",
   "execution_count": 12,
   "id": "48509fbd-178a-4580-b0bd-45a73ed3399d",
   "metadata": {
    "editable": true,
    "execution": {
     "iopub.execute_input": "2024-03-21T16:29:32.848682Z",
     "iopub.status.busy": "2024-03-21T16:29:32.848482Z",
     "iopub.status.idle": "2024-03-21T16:29:32.851797Z",
     "shell.execute_reply": "2024-03-21T16:29:32.851362Z"
    },
    "papermill": {
     "duration": 0.011855,
     "end_time": "2024-03-21T16:29:32.852911",
     "exception": false,
     "start_time": "2024-03-21T16:29:32.841056",
     "status": "completed"
    },
    "slideshow": {
     "slide_type": ""
    },
    "tags": []
   },
   "outputs": [
    {
     "data": {
      "text/plain": [
       "dict"
      ]
     },
     "execution_count": 12,
     "metadata": {},
     "output_type": "execute_result"
    }
   ],
   "source": [
    "type(t_json)"
   ]
  },
  {
   "cell_type": "markdown",
   "id": "d81ce233-57c0-420d-a104-1d1d1640fc2b",
   "metadata": {
    "editable": true,
    "papermill": {
     "duration": 0.007709,
     "end_time": "2024-03-21T16:29:32.867578",
     "exception": false,
     "start_time": "2024-03-21T16:29:32.859869",
     "status": "completed"
    },
    "slideshow": {
     "slide_type": ""
    },
    "tags": []
   },
   "source": [
    "# Run"
   ]
  },
  {
   "cell_type": "markdown",
   "id": "fc131605-64ef-4cab-b1a6-3bc296bbb03e",
   "metadata": {
    "editable": true,
    "papermill": {
     "duration": 0.006892,
     "end_time": "2024-03-21T16:29:32.881392",
     "exception": false,
     "start_time": "2024-03-21T16:29:32.874500",
     "status": "completed"
    },
    "slideshow": {
     "slide_type": ""
    },
    "tags": []
   },
   "source": [
    "Since models are stochastic, we run the pairwise comparison many times.\n",
    "\n",
    "Here I use a cache to avoid hitting an external API multiple times."
   ]
  },
  {
   "cell_type": "code",
   "execution_count": 13,
   "id": "b2c31f26-cd6b-4e11-a346-3ff6d89ab8c5",
   "metadata": {
    "editable": true,
    "execution": {
     "iopub.execute_input": "2024-03-21T16:29:32.896263Z",
     "iopub.status.busy": "2024-03-21T16:29:32.895844Z",
     "iopub.status.idle": "2024-03-21T16:29:32.898372Z",
     "shell.execute_reply": "2024-03-21T16:29:32.897936Z"
    },
    "papermill": {
     "duration": 0.011146,
     "end_time": "2024-03-21T16:29:32.899451",
     "exception": false,
     "start_time": "2024-03-21T16:29:32.888305",
     "status": "completed"
    },
    "slideshow": {
     "slide_type": ""
    },
    "tags": []
   },
   "outputs": [],
   "source": [
    "results = []"
   ]
  },
  {
   "cell_type": "code",
   "execution_count": 14,
   "id": "5721fab1-c08b-4774-93df-6448c3d8b574",
   "metadata": {
    "editable": true,
    "execution": {
     "iopub.execute_input": "2024-03-21T16:29:32.914471Z",
     "iopub.status.busy": "2024-03-21T16:29:32.914101Z",
     "iopub.status.idle": "2024-03-21T16:48:01.896917Z",
     "shell.execute_reply": "2024-03-21T16:48:01.896293Z"
    },
    "papermill": {
     "duration": 1108.991718,
     "end_time": "2024-03-21T16:48:01.898214",
     "exception": false,
     "start_time": "2024-03-21T16:29:32.906496",
     "status": "completed"
    },
    "slideshow": {
     "slide_type": ""
    },
    "tags": []
   },
   "outputs": [
    {
     "name": "stdout",
     "output_type": "stream",
     "text": [
      "00 (rep0.db): "
     ]
    },
    {
     "name": "stdout",
     "output_type": "stream",
     "text": [
      "."
     ]
    },
    {
     "name": "stdout",
     "output_type": "stream",
     "text": [
      "."
     ]
    },
    {
     "name": "stdout",
     "output_type": "stream",
     "text": [
      "."
     ]
    },
    {
     "name": "stdout",
     "output_type": "stream",
     "text": [
      "."
     ]
    },
    {
     "name": "stdout",
     "output_type": "stream",
     "text": [
      "."
     ]
    },
    {
     "name": "stdout",
     "output_type": "stream",
     "text": [
      "."
     ]
    },
    {
     "name": "stdout",
     "output_type": "stream",
     "text": [
      "."
     ]
    },
    {
     "name": "stdout",
     "output_type": "stream",
     "text": [
      "."
     ]
    },
    {
     "name": "stdout",
     "output_type": "stream",
     "text": [
      "."
     ]
    },
    {
     "name": "stdout",
     "output_type": "stream",
     "text": [
      "."
     ]
    },
    {
     "name": "stdout",
     "output_type": "stream",
     "text": [
      "."
     ]
    },
    {
     "name": "stdout",
     "output_type": "stream",
     "text": [
      "."
     ]
    },
    {
     "name": "stdout",
     "output_type": "stream",
     "text": [
      "."
     ]
    },
    {
     "name": "stdout",
     "output_type": "stream",
     "text": [
      "."
     ]
    },
    {
     "name": "stdout",
     "output_type": "stream",
     "text": [
      "."
     ]
    },
    {
     "name": "stdout",
     "output_type": "stream",
     "text": [
      "."
     ]
    },
    {
     "name": "stdout",
     "output_type": "stream",
     "text": [
      "."
     ]
    },
    {
     "name": "stdout",
     "output_type": "stream",
     "text": [
      "."
     ]
    },
    {
     "name": "stdout",
     "output_type": "stream",
     "text": [
      "."
     ]
    },
    {
     "name": "stdout",
     "output_type": "stream",
     "text": [
      "."
     ]
    },
    {
     "name": "stdout",
     "output_type": "stream",
     "text": [
      "."
     ]
    },
    {
     "name": "stdout",
     "output_type": "stream",
     "text": [
      "."
     ]
    },
    {
     "name": "stdout",
     "output_type": "stream",
     "text": [
      "."
     ]
    },
    {
     "name": "stdout",
     "output_type": "stream",
     "text": [
      "."
     ]
    },
    {
     "name": "stdout",
     "output_type": "stream",
     "text": [
      "."
     ]
    },
    {
     "name": "stdout",
     "output_type": "stream",
     "text": [
      "."
     ]
    },
    {
     "name": "stdout",
     "output_type": "stream",
     "text": [
      "."
     ]
    },
    {
     "name": "stdout",
     "output_type": "stream",
     "text": [
      "."
     ]
    },
    {
     "name": "stdout",
     "output_type": "stream",
     "text": [
      "."
     ]
    },
    {
     "name": "stdout",
     "output_type": "stream",
     "text": [
      "."
     ]
    },
    {
     "name": "stdout",
     "output_type": "stream",
     "text": [
      "."
     ]
    },
    {
     "name": "stdout",
     "output_type": "stream",
     "text": [
      "."
     ]
    },
    {
     "name": "stdout",
     "output_type": "stream",
     "text": [
      "."
     ]
    },
    {
     "name": "stdout",
     "output_type": "stream",
     "text": [
      "."
     ]
    },
    {
     "name": "stdout",
     "output_type": "stream",
     "text": [
      "."
     ]
    },
    {
     "name": "stdout",
     "output_type": "stream",
     "text": [
      "."
     ]
    },
    {
     "name": "stdout",
     "output_type": "stream",
     "text": [
      "."
     ]
    },
    {
     "name": "stdout",
     "output_type": "stream",
     "text": [
      "\n"
     ]
    },
    {
     "name": "stdout",
     "output_type": "stream",
     "text": [
      "01 (rep1.db): "
     ]
    },
    {
     "name": "stdout",
     "output_type": "stream",
     "text": [
      "."
     ]
    },
    {
     "name": "stdout",
     "output_type": "stream",
     "text": [
      "."
     ]
    },
    {
     "name": "stdout",
     "output_type": "stream",
     "text": [
      "."
     ]
    },
    {
     "name": "stdout",
     "output_type": "stream",
     "text": [
      "."
     ]
    },
    {
     "name": "stdout",
     "output_type": "stream",
     "text": [
      "."
     ]
    },
    {
     "name": "stdout",
     "output_type": "stream",
     "text": [
      "."
     ]
    },
    {
     "name": "stdout",
     "output_type": "stream",
     "text": [
      "."
     ]
    },
    {
     "name": "stdout",
     "output_type": "stream",
     "text": [
      "."
     ]
    },
    {
     "name": "stdout",
     "output_type": "stream",
     "text": [
      "."
     ]
    },
    {
     "name": "stdout",
     "output_type": "stream",
     "text": [
      "."
     ]
    },
    {
     "name": "stdout",
     "output_type": "stream",
     "text": [
      "."
     ]
    },
    {
     "name": "stdout",
     "output_type": "stream",
     "text": [
      "."
     ]
    },
    {
     "name": "stdout",
     "output_type": "stream",
     "text": [
      "."
     ]
    },
    {
     "name": "stdout",
     "output_type": "stream",
     "text": [
      "."
     ]
    },
    {
     "name": "stdout",
     "output_type": "stream",
     "text": [
      "."
     ]
    },
    {
     "name": "stdout",
     "output_type": "stream",
     "text": [
      "."
     ]
    },
    {
     "name": "stdout",
     "output_type": "stream",
     "text": [
      "."
     ]
    },
    {
     "name": "stdout",
     "output_type": "stream",
     "text": [
      "."
     ]
    },
    {
     "name": "stdout",
     "output_type": "stream",
     "text": [
      "."
     ]
    },
    {
     "name": "stdout",
     "output_type": "stream",
     "text": [
      "."
     ]
    },
    {
     "name": "stdout",
     "output_type": "stream",
     "text": [
      "."
     ]
    },
    {
     "name": "stdout",
     "output_type": "stream",
     "text": [
      "."
     ]
    },
    {
     "name": "stdout",
     "output_type": "stream",
     "text": [
      "."
     ]
    },
    {
     "name": "stdout",
     "output_type": "stream",
     "text": [
      "."
     ]
    },
    {
     "name": "stdout",
     "output_type": "stream",
     "text": [
      "."
     ]
    },
    {
     "name": "stdout",
     "output_type": "stream",
     "text": [
      "."
     ]
    },
    {
     "name": "stdout",
     "output_type": "stream",
     "text": [
      "."
     ]
    },
    {
     "name": "stdout",
     "output_type": "stream",
     "text": [
      "."
     ]
    },
    {
     "name": "stdout",
     "output_type": "stream",
     "text": [
      "."
     ]
    },
    {
     "name": "stdout",
     "output_type": "stream",
     "text": [
      "."
     ]
    },
    {
     "name": "stdout",
     "output_type": "stream",
     "text": [
      "."
     ]
    },
    {
     "name": "stdout",
     "output_type": "stream",
     "text": [
      "."
     ]
    },
    {
     "name": "stdout",
     "output_type": "stream",
     "text": [
      "."
     ]
    },
    {
     "name": "stdout",
     "output_type": "stream",
     "text": [
      "."
     ]
    },
    {
     "name": "stdout",
     "output_type": "stream",
     "text": [
      "."
     ]
    },
    {
     "name": "stdout",
     "output_type": "stream",
     "text": [
      "."
     ]
    },
    {
     "name": "stdout",
     "output_type": "stream",
     "text": [
      "."
     ]
    },
    {
     "name": "stdout",
     "output_type": "stream",
     "text": [
      "\n"
     ]
    },
    {
     "name": "stdout",
     "output_type": "stream",
     "text": [
      "02 (rep2.db): "
     ]
    },
    {
     "name": "stdout",
     "output_type": "stream",
     "text": [
      "."
     ]
    },
    {
     "name": "stdout",
     "output_type": "stream",
     "text": [
      "."
     ]
    },
    {
     "name": "stdout",
     "output_type": "stream",
     "text": [
      "."
     ]
    },
    {
     "name": "stdout",
     "output_type": "stream",
     "text": [
      "."
     ]
    },
    {
     "name": "stdout",
     "output_type": "stream",
     "text": [
      "."
     ]
    },
    {
     "name": "stdout",
     "output_type": "stream",
     "text": [
      "."
     ]
    },
    {
     "name": "stdout",
     "output_type": "stream",
     "text": [
      "."
     ]
    },
    {
     "name": "stdout",
     "output_type": "stream",
     "text": [
      "."
     ]
    },
    {
     "name": "stdout",
     "output_type": "stream",
     "text": [
      "."
     ]
    },
    {
     "name": "stdout",
     "output_type": "stream",
     "text": [
      "."
     ]
    },
    {
     "name": "stdout",
     "output_type": "stream",
     "text": [
      "."
     ]
    },
    {
     "name": "stdout",
     "output_type": "stream",
     "text": [
      "."
     ]
    },
    {
     "name": "stdout",
     "output_type": "stream",
     "text": [
      "."
     ]
    },
    {
     "name": "stdout",
     "output_type": "stream",
     "text": [
      "."
     ]
    },
    {
     "name": "stdout",
     "output_type": "stream",
     "text": [
      "."
     ]
    },
    {
     "name": "stdout",
     "output_type": "stream",
     "text": [
      "."
     ]
    },
    {
     "name": "stdout",
     "output_type": "stream",
     "text": [
      "."
     ]
    },
    {
     "name": "stdout",
     "output_type": "stream",
     "text": [
      "."
     ]
    },
    {
     "name": "stdout",
     "output_type": "stream",
     "text": [
      "."
     ]
    },
    {
     "name": "stdout",
     "output_type": "stream",
     "text": [
      "."
     ]
    },
    {
     "name": "stdout",
     "output_type": "stream",
     "text": [
      "."
     ]
    },
    {
     "name": "stdout",
     "output_type": "stream",
     "text": [
      "."
     ]
    },
    {
     "name": "stdout",
     "output_type": "stream",
     "text": [
      "."
     ]
    },
    {
     "name": "stdout",
     "output_type": "stream",
     "text": [
      "."
     ]
    },
    {
     "name": "stdout",
     "output_type": "stream",
     "text": [
      "."
     ]
    },
    {
     "name": "stdout",
     "output_type": "stream",
     "text": [
      "."
     ]
    },
    {
     "name": "stdout",
     "output_type": "stream",
     "text": [
      "."
     ]
    },
    {
     "name": "stdout",
     "output_type": "stream",
     "text": [
      "."
     ]
    },
    {
     "name": "stdout",
     "output_type": "stream",
     "text": [
      "."
     ]
    },
    {
     "name": "stdout",
     "output_type": "stream",
     "text": [
      "."
     ]
    },
    {
     "name": "stdout",
     "output_type": "stream",
     "text": [
      "."
     ]
    },
    {
     "name": "stdout",
     "output_type": "stream",
     "text": [
      "."
     ]
    },
    {
     "name": "stdout",
     "output_type": "stream",
     "text": [
      "."
     ]
    },
    {
     "name": "stdout",
     "output_type": "stream",
     "text": [
      "."
     ]
    },
    {
     "name": "stdout",
     "output_type": "stream",
     "text": [
      "."
     ]
    },
    {
     "name": "stdout",
     "output_type": "stream",
     "text": [
      "."
     ]
    },
    {
     "name": "stdout",
     "output_type": "stream",
     "text": [
      "."
     ]
    },
    {
     "name": "stdout",
     "output_type": "stream",
     "text": [
      "\n"
     ]
    },
    {
     "name": "stdout",
     "output_type": "stream",
     "text": [
      "03 (rep3.db): "
     ]
    },
    {
     "name": "stdout",
     "output_type": "stream",
     "text": [
      "."
     ]
    },
    {
     "name": "stdout",
     "output_type": "stream",
     "text": [
      "."
     ]
    },
    {
     "name": "stdout",
     "output_type": "stream",
     "text": [
      "."
     ]
    },
    {
     "name": "stdout",
     "output_type": "stream",
     "text": [
      "."
     ]
    },
    {
     "name": "stdout",
     "output_type": "stream",
     "text": [
      "."
     ]
    },
    {
     "name": "stdout",
     "output_type": "stream",
     "text": [
      "."
     ]
    },
    {
     "name": "stdout",
     "output_type": "stream",
     "text": [
      "."
     ]
    },
    {
     "name": "stdout",
     "output_type": "stream",
     "text": [
      "."
     ]
    },
    {
     "name": "stdout",
     "output_type": "stream",
     "text": [
      "."
     ]
    },
    {
     "name": "stdout",
     "output_type": "stream",
     "text": [
      "."
     ]
    },
    {
     "name": "stdout",
     "output_type": "stream",
     "text": [
      "."
     ]
    },
    {
     "name": "stdout",
     "output_type": "stream",
     "text": [
      "."
     ]
    },
    {
     "name": "stdout",
     "output_type": "stream",
     "text": [
      "."
     ]
    },
    {
     "name": "stdout",
     "output_type": "stream",
     "text": [
      "."
     ]
    },
    {
     "name": "stdout",
     "output_type": "stream",
     "text": [
      "."
     ]
    },
    {
     "name": "stdout",
     "output_type": "stream",
     "text": [
      "."
     ]
    },
    {
     "name": "stdout",
     "output_type": "stream",
     "text": [
      "."
     ]
    },
    {
     "name": "stdout",
     "output_type": "stream",
     "text": [
      "."
     ]
    },
    {
     "name": "stdout",
     "output_type": "stream",
     "text": [
      "."
     ]
    },
    {
     "name": "stdout",
     "output_type": "stream",
     "text": [
      "."
     ]
    },
    {
     "name": "stdout",
     "output_type": "stream",
     "text": [
      "."
     ]
    },
    {
     "name": "stdout",
     "output_type": "stream",
     "text": [
      "."
     ]
    },
    {
     "name": "stdout",
     "output_type": "stream",
     "text": [
      "."
     ]
    },
    {
     "name": "stdout",
     "output_type": "stream",
     "text": [
      "."
     ]
    },
    {
     "name": "stdout",
     "output_type": "stream",
     "text": [
      "."
     ]
    },
    {
     "name": "stdout",
     "output_type": "stream",
     "text": [
      "."
     ]
    },
    {
     "name": "stdout",
     "output_type": "stream",
     "text": [
      "."
     ]
    },
    {
     "name": "stdout",
     "output_type": "stream",
     "text": [
      "."
     ]
    },
    {
     "name": "stdout",
     "output_type": "stream",
     "text": [
      "."
     ]
    },
    {
     "name": "stdout",
     "output_type": "stream",
     "text": [
      "."
     ]
    },
    {
     "name": "stdout",
     "output_type": "stream",
     "text": [
      "."
     ]
    },
    {
     "name": "stdout",
     "output_type": "stream",
     "text": [
      "."
     ]
    },
    {
     "name": "stdout",
     "output_type": "stream",
     "text": [
      "."
     ]
    },
    {
     "name": "stdout",
     "output_type": "stream",
     "text": [
      "."
     ]
    },
    {
     "name": "stdout",
     "output_type": "stream",
     "text": [
      "."
     ]
    },
    {
     "name": "stdout",
     "output_type": "stream",
     "text": [
      "."
     ]
    },
    {
     "name": "stdout",
     "output_type": "stream",
     "text": [
      "."
     ]
    },
    {
     "name": "stdout",
     "output_type": "stream",
     "text": [
      "\n"
     ]
    },
    {
     "name": "stdout",
     "output_type": "stream",
     "text": [
      "04 (rep4.db): "
     ]
    },
    {
     "name": "stdout",
     "output_type": "stream",
     "text": [
      "."
     ]
    },
    {
     "name": "stdout",
     "output_type": "stream",
     "text": [
      "."
     ]
    },
    {
     "name": "stdout",
     "output_type": "stream",
     "text": [
      "."
     ]
    },
    {
     "name": "stdout",
     "output_type": "stream",
     "text": [
      "."
     ]
    },
    {
     "name": "stdout",
     "output_type": "stream",
     "text": [
      "."
     ]
    },
    {
     "name": "stdout",
     "output_type": "stream",
     "text": [
      "."
     ]
    },
    {
     "name": "stdout",
     "output_type": "stream",
     "text": [
      "."
     ]
    },
    {
     "name": "stdout",
     "output_type": "stream",
     "text": [
      "."
     ]
    },
    {
     "name": "stdout",
     "output_type": "stream",
     "text": [
      "."
     ]
    },
    {
     "name": "stdout",
     "output_type": "stream",
     "text": [
      "."
     ]
    },
    {
     "name": "stdout",
     "output_type": "stream",
     "text": [
      "."
     ]
    },
    {
     "name": "stdout",
     "output_type": "stream",
     "text": [
      "."
     ]
    },
    {
     "name": "stdout",
     "output_type": "stream",
     "text": [
      "."
     ]
    },
    {
     "name": "stdout",
     "output_type": "stream",
     "text": [
      "."
     ]
    },
    {
     "name": "stdout",
     "output_type": "stream",
     "text": [
      "."
     ]
    },
    {
     "name": "stdout",
     "output_type": "stream",
     "text": [
      "."
     ]
    },
    {
     "name": "stdout",
     "output_type": "stream",
     "text": [
      "."
     ]
    },
    {
     "name": "stdout",
     "output_type": "stream",
     "text": [
      "."
     ]
    },
    {
     "name": "stdout",
     "output_type": "stream",
     "text": [
      "."
     ]
    },
    {
     "name": "stdout",
     "output_type": "stream",
     "text": [
      "."
     ]
    },
    {
     "name": "stdout",
     "output_type": "stream",
     "text": [
      "."
     ]
    },
    {
     "name": "stdout",
     "output_type": "stream",
     "text": [
      "."
     ]
    },
    {
     "name": "stdout",
     "output_type": "stream",
     "text": [
      "."
     ]
    },
    {
     "name": "stdout",
     "output_type": "stream",
     "text": [
      "."
     ]
    },
    {
     "name": "stdout",
     "output_type": "stream",
     "text": [
      "."
     ]
    },
    {
     "name": "stdout",
     "output_type": "stream",
     "text": [
      "."
     ]
    },
    {
     "name": "stdout",
     "output_type": "stream",
     "text": [
      "."
     ]
    },
    {
     "name": "stdout",
     "output_type": "stream",
     "text": [
      "."
     ]
    },
    {
     "name": "stdout",
     "output_type": "stream",
     "text": [
      "."
     ]
    },
    {
     "name": "stdout",
     "output_type": "stream",
     "text": [
      "."
     ]
    },
    {
     "name": "stdout",
     "output_type": "stream",
     "text": [
      "."
     ]
    },
    {
     "name": "stdout",
     "output_type": "stream",
     "text": [
      "."
     ]
    },
    {
     "name": "stdout",
     "output_type": "stream",
     "text": [
      "."
     ]
    },
    {
     "name": "stdout",
     "output_type": "stream",
     "text": [
      "."
     ]
    },
    {
     "name": "stdout",
     "output_type": "stream",
     "text": [
      "."
     ]
    },
    {
     "name": "stdout",
     "output_type": "stream",
     "text": [
      "."
     ]
    },
    {
     "name": "stdout",
     "output_type": "stream",
     "text": [
      "."
     ]
    },
    {
     "name": "stdout",
     "output_type": "stream",
     "text": [
      "\n"
     ]
    },
    {
     "name": "stdout",
     "output_type": "stream",
     "text": [
      "05 (rep5.db): "
     ]
    },
    {
     "name": "stdout",
     "output_type": "stream",
     "text": [
      "."
     ]
    },
    {
     "name": "stdout",
     "output_type": "stream",
     "text": [
      "."
     ]
    },
    {
     "name": "stdout",
     "output_type": "stream",
     "text": [
      "."
     ]
    },
    {
     "name": "stdout",
     "output_type": "stream",
     "text": [
      "."
     ]
    },
    {
     "name": "stdout",
     "output_type": "stream",
     "text": [
      "."
     ]
    },
    {
     "name": "stdout",
     "output_type": "stream",
     "text": [
      "."
     ]
    },
    {
     "name": "stdout",
     "output_type": "stream",
     "text": [
      "."
     ]
    },
    {
     "name": "stdout",
     "output_type": "stream",
     "text": [
      "."
     ]
    },
    {
     "name": "stdout",
     "output_type": "stream",
     "text": [
      "."
     ]
    },
    {
     "name": "stdout",
     "output_type": "stream",
     "text": [
      "."
     ]
    },
    {
     "name": "stdout",
     "output_type": "stream",
     "text": [
      "."
     ]
    },
    {
     "name": "stdout",
     "output_type": "stream",
     "text": [
      "."
     ]
    },
    {
     "name": "stdout",
     "output_type": "stream",
     "text": [
      "."
     ]
    },
    {
     "name": "stdout",
     "output_type": "stream",
     "text": [
      "."
     ]
    },
    {
     "name": "stdout",
     "output_type": "stream",
     "text": [
      "."
     ]
    },
    {
     "name": "stdout",
     "output_type": "stream",
     "text": [
      "."
     ]
    },
    {
     "name": "stdout",
     "output_type": "stream",
     "text": [
      "."
     ]
    },
    {
     "name": "stdout",
     "output_type": "stream",
     "text": [
      "."
     ]
    },
    {
     "name": "stdout",
     "output_type": "stream",
     "text": [
      "."
     ]
    },
    {
     "name": "stdout",
     "output_type": "stream",
     "text": [
      "."
     ]
    },
    {
     "name": "stdout",
     "output_type": "stream",
     "text": [
      "."
     ]
    },
    {
     "name": "stdout",
     "output_type": "stream",
     "text": [
      "."
     ]
    },
    {
     "name": "stdout",
     "output_type": "stream",
     "text": [
      "."
     ]
    },
    {
     "name": "stdout",
     "output_type": "stream",
     "text": [
      "."
     ]
    },
    {
     "name": "stdout",
     "output_type": "stream",
     "text": [
      "."
     ]
    },
    {
     "name": "stdout",
     "output_type": "stream",
     "text": [
      "."
     ]
    },
    {
     "name": "stdout",
     "output_type": "stream",
     "text": [
      "."
     ]
    },
    {
     "name": "stdout",
     "output_type": "stream",
     "text": [
      "."
     ]
    },
    {
     "name": "stdout",
     "output_type": "stream",
     "text": [
      "."
     ]
    },
    {
     "name": "stdout",
     "output_type": "stream",
     "text": [
      "."
     ]
    },
    {
     "name": "stdout",
     "output_type": "stream",
     "text": [
      "."
     ]
    },
    {
     "name": "stdout",
     "output_type": "stream",
     "text": [
      "."
     ]
    },
    {
     "name": "stdout",
     "output_type": "stream",
     "text": [
      "."
     ]
    },
    {
     "name": "stdout",
     "output_type": "stream",
     "text": [
      "."
     ]
    },
    {
     "name": "stdout",
     "output_type": "stream",
     "text": [
      "."
     ]
    },
    {
     "name": "stdout",
     "output_type": "stream",
     "text": [
      "."
     ]
    },
    {
     "name": "stdout",
     "output_type": "stream",
     "text": [
      "."
     ]
    },
    {
     "name": "stdout",
     "output_type": "stream",
     "text": [
      "\n"
     ]
    },
    {
     "name": "stdout",
     "output_type": "stream",
     "text": [
      "06 (rep6.db): "
     ]
    },
    {
     "name": "stdout",
     "output_type": "stream",
     "text": [
      "."
     ]
    },
    {
     "name": "stdout",
     "output_type": "stream",
     "text": [
      "."
     ]
    },
    {
     "name": "stdout",
     "output_type": "stream",
     "text": [
      "."
     ]
    },
    {
     "name": "stdout",
     "output_type": "stream",
     "text": [
      "."
     ]
    },
    {
     "name": "stdout",
     "output_type": "stream",
     "text": [
      "."
     ]
    },
    {
     "name": "stdout",
     "output_type": "stream",
     "text": [
      "."
     ]
    },
    {
     "name": "stdout",
     "output_type": "stream",
     "text": [
      "."
     ]
    },
    {
     "name": "stdout",
     "output_type": "stream",
     "text": [
      "."
     ]
    },
    {
     "name": "stdout",
     "output_type": "stream",
     "text": [
      "."
     ]
    },
    {
     "name": "stdout",
     "output_type": "stream",
     "text": [
      "."
     ]
    },
    {
     "name": "stdout",
     "output_type": "stream",
     "text": [
      "."
     ]
    },
    {
     "name": "stdout",
     "output_type": "stream",
     "text": [
      "."
     ]
    },
    {
     "name": "stdout",
     "output_type": "stream",
     "text": [
      "."
     ]
    },
    {
     "name": "stdout",
     "output_type": "stream",
     "text": [
      "."
     ]
    },
    {
     "name": "stdout",
     "output_type": "stream",
     "text": [
      "."
     ]
    },
    {
     "name": "stdout",
     "output_type": "stream",
     "text": [
      "."
     ]
    },
    {
     "name": "stdout",
     "output_type": "stream",
     "text": [
      "."
     ]
    },
    {
     "name": "stdout",
     "output_type": "stream",
     "text": [
      "."
     ]
    },
    {
     "name": "stdout",
     "output_type": "stream",
     "text": [
      "."
     ]
    },
    {
     "name": "stdout",
     "output_type": "stream",
     "text": [
      "."
     ]
    },
    {
     "name": "stdout",
     "output_type": "stream",
     "text": [
      "."
     ]
    },
    {
     "name": "stdout",
     "output_type": "stream",
     "text": [
      "."
     ]
    },
    {
     "name": "stdout",
     "output_type": "stream",
     "text": [
      "."
     ]
    },
    {
     "name": "stdout",
     "output_type": "stream",
     "text": [
      "."
     ]
    },
    {
     "name": "stdout",
     "output_type": "stream",
     "text": [
      "."
     ]
    },
    {
     "name": "stdout",
     "output_type": "stream",
     "text": [
      "."
     ]
    },
    {
     "name": "stdout",
     "output_type": "stream",
     "text": [
      "."
     ]
    },
    {
     "name": "stdout",
     "output_type": "stream",
     "text": [
      "."
     ]
    },
    {
     "name": "stdout",
     "output_type": "stream",
     "text": [
      "."
     ]
    },
    {
     "name": "stdout",
     "output_type": "stream",
     "text": [
      "."
     ]
    },
    {
     "name": "stdout",
     "output_type": "stream",
     "text": [
      "."
     ]
    },
    {
     "name": "stdout",
     "output_type": "stream",
     "text": [
      "."
     ]
    },
    {
     "name": "stdout",
     "output_type": "stream",
     "text": [
      "."
     ]
    },
    {
     "name": "stdout",
     "output_type": "stream",
     "text": [
      "."
     ]
    },
    {
     "name": "stdout",
     "output_type": "stream",
     "text": [
      "."
     ]
    },
    {
     "name": "stdout",
     "output_type": "stream",
     "text": [
      "."
     ]
    },
    {
     "name": "stdout",
     "output_type": "stream",
     "text": [
      "."
     ]
    },
    {
     "name": "stdout",
     "output_type": "stream",
     "text": [
      "\n"
     ]
    },
    {
     "name": "stdout",
     "output_type": "stream",
     "text": [
      "07 (rep7.db): "
     ]
    },
    {
     "name": "stdout",
     "output_type": "stream",
     "text": [
      "."
     ]
    },
    {
     "name": "stdout",
     "output_type": "stream",
     "text": [
      "."
     ]
    },
    {
     "name": "stdout",
     "output_type": "stream",
     "text": [
      "."
     ]
    },
    {
     "name": "stdout",
     "output_type": "stream",
     "text": [
      "."
     ]
    },
    {
     "name": "stdout",
     "output_type": "stream",
     "text": [
      "."
     ]
    },
    {
     "name": "stdout",
     "output_type": "stream",
     "text": [
      "."
     ]
    },
    {
     "name": "stdout",
     "output_type": "stream",
     "text": [
      "."
     ]
    },
    {
     "name": "stdout",
     "output_type": "stream",
     "text": [
      "."
     ]
    },
    {
     "name": "stdout",
     "output_type": "stream",
     "text": [
      "."
     ]
    },
    {
     "name": "stdout",
     "output_type": "stream",
     "text": [
      "."
     ]
    },
    {
     "name": "stdout",
     "output_type": "stream",
     "text": [
      "."
     ]
    },
    {
     "name": "stdout",
     "output_type": "stream",
     "text": [
      "."
     ]
    },
    {
     "name": "stdout",
     "output_type": "stream",
     "text": [
      "."
     ]
    },
    {
     "name": "stdout",
     "output_type": "stream",
     "text": [
      "."
     ]
    },
    {
     "name": "stdout",
     "output_type": "stream",
     "text": [
      "."
     ]
    },
    {
     "name": "stdout",
     "output_type": "stream",
     "text": [
      "."
     ]
    },
    {
     "name": "stdout",
     "output_type": "stream",
     "text": [
      "."
     ]
    },
    {
     "name": "stdout",
     "output_type": "stream",
     "text": [
      "."
     ]
    },
    {
     "name": "stdout",
     "output_type": "stream",
     "text": [
      "."
     ]
    },
    {
     "name": "stdout",
     "output_type": "stream",
     "text": [
      "."
     ]
    },
    {
     "name": "stdout",
     "output_type": "stream",
     "text": [
      "."
     ]
    },
    {
     "name": "stdout",
     "output_type": "stream",
     "text": [
      "."
     ]
    },
    {
     "name": "stdout",
     "output_type": "stream",
     "text": [
      "."
     ]
    },
    {
     "name": "stdout",
     "output_type": "stream",
     "text": [
      "."
     ]
    },
    {
     "name": "stdout",
     "output_type": "stream",
     "text": [
      "."
     ]
    },
    {
     "name": "stdout",
     "output_type": "stream",
     "text": [
      "."
     ]
    },
    {
     "name": "stdout",
     "output_type": "stream",
     "text": [
      "."
     ]
    },
    {
     "name": "stdout",
     "output_type": "stream",
     "text": [
      "."
     ]
    },
    {
     "name": "stdout",
     "output_type": "stream",
     "text": [
      "."
     ]
    },
    {
     "name": "stdout",
     "output_type": "stream",
     "text": [
      "."
     ]
    },
    {
     "name": "stdout",
     "output_type": "stream",
     "text": [
      "."
     ]
    },
    {
     "name": "stdout",
     "output_type": "stream",
     "text": [
      "."
     ]
    },
    {
     "name": "stdout",
     "output_type": "stream",
     "text": [
      "."
     ]
    },
    {
     "name": "stdout",
     "output_type": "stream",
     "text": [
      "."
     ]
    },
    {
     "name": "stdout",
     "output_type": "stream",
     "text": [
      "."
     ]
    },
    {
     "name": "stdout",
     "output_type": "stream",
     "text": [
      "."
     ]
    },
    {
     "name": "stdout",
     "output_type": "stream",
     "text": [
      "."
     ]
    },
    {
     "name": "stdout",
     "output_type": "stream",
     "text": [
      "\n"
     ]
    },
    {
     "name": "stdout",
     "output_type": "stream",
     "text": [
      "08 (rep8.db): "
     ]
    },
    {
     "name": "stdout",
     "output_type": "stream",
     "text": [
      "."
     ]
    },
    {
     "name": "stdout",
     "output_type": "stream",
     "text": [
      "."
     ]
    },
    {
     "name": "stdout",
     "output_type": "stream",
     "text": [
      "."
     ]
    },
    {
     "name": "stdout",
     "output_type": "stream",
     "text": [
      "."
     ]
    },
    {
     "name": "stdout",
     "output_type": "stream",
     "text": [
      "."
     ]
    },
    {
     "name": "stdout",
     "output_type": "stream",
     "text": [
      "."
     ]
    },
    {
     "name": "stdout",
     "output_type": "stream",
     "text": [
      "."
     ]
    },
    {
     "name": "stdout",
     "output_type": "stream",
     "text": [
      "."
     ]
    },
    {
     "name": "stdout",
     "output_type": "stream",
     "text": [
      "."
     ]
    },
    {
     "name": "stdout",
     "output_type": "stream",
     "text": [
      "."
     ]
    },
    {
     "name": "stdout",
     "output_type": "stream",
     "text": [
      "."
     ]
    },
    {
     "name": "stdout",
     "output_type": "stream",
     "text": [
      "."
     ]
    },
    {
     "name": "stdout",
     "output_type": "stream",
     "text": [
      "."
     ]
    },
    {
     "name": "stdout",
     "output_type": "stream",
     "text": [
      "."
     ]
    },
    {
     "name": "stdout",
     "output_type": "stream",
     "text": [
      "."
     ]
    },
    {
     "name": "stdout",
     "output_type": "stream",
     "text": [
      "."
     ]
    },
    {
     "name": "stdout",
     "output_type": "stream",
     "text": [
      "."
     ]
    },
    {
     "name": "stdout",
     "output_type": "stream",
     "text": [
      "."
     ]
    },
    {
     "name": "stdout",
     "output_type": "stream",
     "text": [
      "."
     ]
    },
    {
     "name": "stdout",
     "output_type": "stream",
     "text": [
      "."
     ]
    },
    {
     "name": "stdout",
     "output_type": "stream",
     "text": [
      "."
     ]
    },
    {
     "name": "stdout",
     "output_type": "stream",
     "text": [
      "."
     ]
    },
    {
     "name": "stdout",
     "output_type": "stream",
     "text": [
      "."
     ]
    },
    {
     "name": "stdout",
     "output_type": "stream",
     "text": [
      "."
     ]
    },
    {
     "name": "stdout",
     "output_type": "stream",
     "text": [
      "."
     ]
    },
    {
     "name": "stdout",
     "output_type": "stream",
     "text": [
      "."
     ]
    },
    {
     "name": "stdout",
     "output_type": "stream",
     "text": [
      "."
     ]
    },
    {
     "name": "stdout",
     "output_type": "stream",
     "text": [
      "."
     ]
    },
    {
     "name": "stdout",
     "output_type": "stream",
     "text": [
      "."
     ]
    },
    {
     "name": "stdout",
     "output_type": "stream",
     "text": [
      "."
     ]
    },
    {
     "name": "stdout",
     "output_type": "stream",
     "text": [
      "."
     ]
    },
    {
     "name": "stdout",
     "output_type": "stream",
     "text": [
      "."
     ]
    },
    {
     "name": "stdout",
     "output_type": "stream",
     "text": [
      "."
     ]
    },
    {
     "name": "stdout",
     "output_type": "stream",
     "text": [
      "."
     ]
    },
    {
     "name": "stdout",
     "output_type": "stream",
     "text": [
      "."
     ]
    },
    {
     "name": "stdout",
     "output_type": "stream",
     "text": [
      "."
     ]
    },
    {
     "name": "stdout",
     "output_type": "stream",
     "text": [
      "."
     ]
    },
    {
     "name": "stdout",
     "output_type": "stream",
     "text": [
      "\n"
     ]
    },
    {
     "name": "stdout",
     "output_type": "stream",
     "text": [
      "09 (rep9.db): "
     ]
    },
    {
     "name": "stdout",
     "output_type": "stream",
     "text": [
      "."
     ]
    },
    {
     "name": "stdout",
     "output_type": "stream",
     "text": [
      "."
     ]
    },
    {
     "name": "stdout",
     "output_type": "stream",
     "text": [
      "."
     ]
    },
    {
     "name": "stdout",
     "output_type": "stream",
     "text": [
      "."
     ]
    },
    {
     "name": "stdout",
     "output_type": "stream",
     "text": [
      "."
     ]
    },
    {
     "name": "stdout",
     "output_type": "stream",
     "text": [
      "."
     ]
    },
    {
     "name": "stdout",
     "output_type": "stream",
     "text": [
      "."
     ]
    },
    {
     "name": "stdout",
     "output_type": "stream",
     "text": [
      "."
     ]
    },
    {
     "name": "stdout",
     "output_type": "stream",
     "text": [
      "."
     ]
    },
    {
     "name": "stdout",
     "output_type": "stream",
     "text": [
      "."
     ]
    },
    {
     "name": "stdout",
     "output_type": "stream",
     "text": [
      "."
     ]
    },
    {
     "name": "stdout",
     "output_type": "stream",
     "text": [
      "."
     ]
    },
    {
     "name": "stdout",
     "output_type": "stream",
     "text": [
      "."
     ]
    },
    {
     "name": "stdout",
     "output_type": "stream",
     "text": [
      "."
     ]
    },
    {
     "name": "stdout",
     "output_type": "stream",
     "text": [
      "."
     ]
    },
    {
     "name": "stdout",
     "output_type": "stream",
     "text": [
      "."
     ]
    },
    {
     "name": "stdout",
     "output_type": "stream",
     "text": [
      "."
     ]
    },
    {
     "name": "stdout",
     "output_type": "stream",
     "text": [
      "."
     ]
    },
    {
     "name": "stdout",
     "output_type": "stream",
     "text": [
      "."
     ]
    },
    {
     "name": "stdout",
     "output_type": "stream",
     "text": [
      "."
     ]
    },
    {
     "name": "stdout",
     "output_type": "stream",
     "text": [
      "."
     ]
    },
    {
     "name": "stdout",
     "output_type": "stream",
     "text": [
      "."
     ]
    },
    {
     "name": "stdout",
     "output_type": "stream",
     "text": [
      "."
     ]
    },
    {
     "name": "stdout",
     "output_type": "stream",
     "text": [
      "."
     ]
    },
    {
     "name": "stdout",
     "output_type": "stream",
     "text": [
      "."
     ]
    },
    {
     "name": "stdout",
     "output_type": "stream",
     "text": [
      "."
     ]
    },
    {
     "name": "stdout",
     "output_type": "stream",
     "text": [
      "."
     ]
    },
    {
     "name": "stdout",
     "output_type": "stream",
     "text": [
      "."
     ]
    },
    {
     "name": "stdout",
     "output_type": "stream",
     "text": [
      "."
     ]
    },
    {
     "name": "stdout",
     "output_type": "stream",
     "text": [
      "."
     ]
    },
    {
     "name": "stdout",
     "output_type": "stream",
     "text": [
      "."
     ]
    },
    {
     "name": "stdout",
     "output_type": "stream",
     "text": [
      "."
     ]
    },
    {
     "name": "stdout",
     "output_type": "stream",
     "text": [
      "."
     ]
    },
    {
     "name": "stdout",
     "output_type": "stream",
     "text": [
      "."
     ]
    },
    {
     "name": "stdout",
     "output_type": "stream",
     "text": [
      "."
     ]
    },
    {
     "name": "stdout",
     "output_type": "stream",
     "text": [
      "."
     ]
    },
    {
     "name": "stdout",
     "output_type": "stream",
     "text": [
      "."
     ]
    },
    {
     "name": "stdout",
     "output_type": "stream",
     "text": [
      "\n"
     ]
    }
   ],
   "source": [
    "for rep_idx in range(N_REPS):\n",
    "    # we cache prompt/results by repetition\n",
    "    output_cache_file = conf.common.LLM_CACHE_DIR / f\"rep{rep_idx}.db\"\n",
    "    set_llm_cache(SQLiteCache(database_path=str(output_cache_file)))\n",
    "\n",
    "    print(f\"{str(rep_idx).zfill(2)} ({output_cache_file.name}): \", end=\"\", flush=True)\n",
    "\n",
    "    for par_idx, par in df.iterrows():\n",
    "        print(\".\", end=\"\", flush=True)\n",
    "\n",
    "        res = llm_pairwise(\n",
    "            par[\"original\"],\n",
    "            par[\"modified\"],\n",
    "            par[\"section\"],\n",
    "            model_name=LLM_JUDGE,\n",
    "            model_params={\n",
    "                \"temperature\": TEMPERATURE,\n",
    "                \"max_tokens\": MAX_TOKENS,\n",
    "                \"model_kwargs\": {\n",
    "                    \"seed\": SEED_INIT + rep_idx,\n",
    "                },\n",
    "            },\n",
    "            verbose=False,\n",
    "        )\n",
    "\n",
    "        results.append(\n",
    "            {\n",
    "                \"rep_index\": rep_idx,\n",
    "                \"paragraph_index\": par_idx,\n",
    "                \"paragraph_section\": par[\"section\"],\n",
    "                \"winner\": res[\"best\"],\n",
    "                \"rationale\": res[\"rationale\"],\n",
    "            }\n",
    "        )\n",
    "\n",
    "    print(flush=True)"
   ]
  },
  {
   "cell_type": "markdown",
   "id": "6382932d-85d3-48f9-8a10-59709278f3b3",
   "metadata": {
    "editable": true,
    "papermill": {
     "duration": 0.026256,
     "end_time": "2024-03-21T16:48:01.951448",
     "exception": false,
     "start_time": "2024-03-21T16:48:01.925192",
     "status": "completed"
    },
    "slideshow": {
     "slide_type": ""
    },
    "tags": []
   },
   "source": [
    "# Process results"
   ]
  },
  {
   "cell_type": "code",
   "execution_count": 15,
   "id": "b3462b66-4958-44fa-aa96-2bd6c867dc97",
   "metadata": {
    "editable": true,
    "execution": {
     "iopub.execute_input": "2024-03-21T16:48:01.993805Z",
     "iopub.status.busy": "2024-03-21T16:48:01.993580Z",
     "iopub.status.idle": "2024-03-21T16:48:01.996451Z",
     "shell.execute_reply": "2024-03-21T16:48:01.996004Z"
    },
    "papermill": {
     "duration": 0.0197,
     "end_time": "2024-03-21T16:48:01.997181",
     "exception": false,
     "start_time": "2024-03-21T16:48:01.977481",
     "status": "completed"
    },
    "slideshow": {
     "slide_type": ""
    },
    "tags": []
   },
   "outputs": [],
   "source": [
    "winner_matchings = {\n",
    "    \"Paragraph A\": \"-1\",  # Original\n",
    "    \"Paragraph 1\": \"1\",  # Modified\n",
    "    \"tie\": \"0\",\n",
    "}"
   ]
  },
  {
   "cell_type": "code",
   "execution_count": 16,
   "id": "23c26bfc-51eb-46ac-aeb4-f5cd8b147ada",
   "metadata": {
    "execution": {
     "iopub.execute_input": "2024-03-21T16:48:02.028009Z",
     "iopub.status.busy": "2024-03-21T16:48:02.027610Z",
     "iopub.status.idle": "2024-03-21T16:48:02.031352Z",
     "shell.execute_reply": "2024-03-21T16:48:02.030899Z"
    },
    "papermill": {
     "duration": 0.020622,
     "end_time": "2024-03-21T16:48:02.032065",
     "exception": false,
     "start_time": "2024-03-21T16:48:02.011443",
     "status": "completed"
    },
    "tags": []
   },
   "outputs": [],
   "source": [
    "df_results = pd.DataFrame(results)"
   ]
  },
  {
   "cell_type": "code",
   "execution_count": 17,
   "id": "06097641-09ba-4c68-a237-21e6f80a700a",
   "metadata": {
    "execution": {
     "iopub.execute_input": "2024-03-21T16:48:02.062293Z",
     "iopub.status.busy": "2024-03-21T16:48:02.061886Z",
     "iopub.status.idle": "2024-03-21T16:48:02.065443Z",
     "shell.execute_reply": "2024-03-21T16:48:02.064996Z"
    },
    "papermill": {
     "duration": 0.019273,
     "end_time": "2024-03-21T16:48:02.066112",
     "exception": false,
     "start_time": "2024-03-21T16:48:02.046839",
     "status": "completed"
    },
    "tags": []
   },
   "outputs": [
    {
     "data": {
      "text/plain": [
       "(370, 5)"
      ]
     },
     "execution_count": 17,
     "metadata": {},
     "output_type": "execute_result"
    }
   ],
   "source": [
    "df_results.shape"
   ]
  },
  {
   "cell_type": "code",
   "execution_count": 18,
   "id": "0e700042-29de-40a0-9fa6-fcfdecd0c25c",
   "metadata": {
    "execution": {
     "iopub.execute_input": "2024-03-21T16:48:02.096161Z",
     "iopub.status.busy": "2024-03-21T16:48:02.095622Z",
     "iopub.status.idle": "2024-03-21T16:48:02.102338Z",
     "shell.execute_reply": "2024-03-21T16:48:02.101904Z"
    },
    "papermill": {
     "duration": 0.022504,
     "end_time": "2024-03-21T16:48:02.103042",
     "exception": false,
     "start_time": "2024-03-21T16:48:02.080538",
     "status": "completed"
    },
    "tags": []
   },
   "outputs": [
    {
     "data": {
      "text/html": [
       "<div>\n",
       "<style scoped>\n",
       "    .dataframe tbody tr th:only-of-type {\n",
       "        vertical-align: middle;\n",
       "    }\n",
       "\n",
       "    .dataframe tbody tr th {\n",
       "        vertical-align: top;\n",
       "    }\n",
       "\n",
       "    .dataframe thead th {\n",
       "        text-align: right;\n",
       "    }\n",
       "</style>\n",
       "<table border=\"1\" class=\"dataframe\">\n",
       "  <thead>\n",
       "    <tr style=\"text-align: right;\">\n",
       "      <th></th>\n",
       "      <th>rep_index</th>\n",
       "      <th>paragraph_index</th>\n",
       "      <th>paragraph_section</th>\n",
       "      <th>winner</th>\n",
       "      <th>rationale</th>\n",
       "    </tr>\n",
       "  </thead>\n",
       "  <tbody>\n",
       "    <tr>\n",
       "      <th>0</th>\n",
       "      <td>0</td>\n",
       "      <td>0</td>\n",
       "      <td>abstract</td>\n",
       "      <td>tie</td>\n",
       "      <td>Both paragraphs are well-written and cover the...</td>\n",
       "    </tr>\n",
       "    <tr>\n",
       "      <th>1</th>\n",
       "      <td>0</td>\n",
       "      <td>1</td>\n",
       "      <td>introduction</td>\n",
       "      <td>Paragraph 1</td>\n",
       "      <td>While both paragraphs are well-written and mee...</td>\n",
       "    </tr>\n",
       "    <tr>\n",
       "      <th>2</th>\n",
       "      <td>0</td>\n",
       "      <td>2</td>\n",
       "      <td>introduction</td>\n",
       "      <td>tie</td>\n",
       "      <td>Both paragraphs are of similar quality. While ...</td>\n",
       "    </tr>\n",
       "    <tr>\n",
       "      <th>3</th>\n",
       "      <td>0</td>\n",
       "      <td>3</td>\n",
       "      <td>introduction</td>\n",
       "      <td>Paragraph 1</td>\n",
       "      <td>While both paragraphs are similar in structure...</td>\n",
       "    </tr>\n",
       "    <tr>\n",
       "      <th>4</th>\n",
       "      <td>0</td>\n",
       "      <td>4</td>\n",
       "      <td>results</td>\n",
       "      <td>tie</td>\n",
       "      <td>Both paragraphs are similar in quality. They b...</td>\n",
       "    </tr>\n",
       "  </tbody>\n",
       "</table>\n",
       "</div>"
      ],
      "text/plain": [
       "   rep_index  paragraph_index paragraph_section       winner  \\\n",
       "0          0                0          abstract          tie   \n",
       "1          0                1      introduction  Paragraph 1   \n",
       "2          0                2      introduction          tie   \n",
       "3          0                3      introduction  Paragraph 1   \n",
       "4          0                4           results          tie   \n",
       "\n",
       "                                           rationale  \n",
       "0  Both paragraphs are well-written and cover the...  \n",
       "1  While both paragraphs are well-written and mee...  \n",
       "2  Both paragraphs are of similar quality. While ...  \n",
       "3  While both paragraphs are similar in structure...  \n",
       "4  Both paragraphs are similar in quality. They b...  "
      ]
     },
     "execution_count": 18,
     "metadata": {},
     "output_type": "execute_result"
    }
   ],
   "source": [
    "df_results.head()"
   ]
  },
  {
   "cell_type": "code",
   "execution_count": 19,
   "id": "103a3ada-1a24-4b86-8477-bc34330314e3",
   "metadata": {
    "execution": {
     "iopub.execute_input": "2024-03-21T16:48:02.133250Z",
     "iopub.status.busy": "2024-03-21T16:48:02.132828Z",
     "iopub.status.idle": "2024-03-21T16:48:02.136193Z",
     "shell.execute_reply": "2024-03-21T16:48:02.135787Z"
    },
    "papermill": {
     "duration": 0.019375,
     "end_time": "2024-03-21T16:48:02.136929",
     "exception": false,
     "start_time": "2024-03-21T16:48:02.117554",
     "status": "completed"
    },
    "tags": []
   },
   "outputs": [],
   "source": [
    "df_results = df_results[df_results[\"winner\"].isin(winner_matchings.keys())]"
   ]
  },
  {
   "cell_type": "code",
   "execution_count": 20,
   "id": "6c4b0e99-e2b8-47c6-a4b1-6ed8e74d8031",
   "metadata": {
    "execution": {
     "iopub.execute_input": "2024-03-21T16:48:02.167205Z",
     "iopub.status.busy": "2024-03-21T16:48:02.166916Z",
     "iopub.status.idle": "2024-03-21T16:48:02.170693Z",
     "shell.execute_reply": "2024-03-21T16:48:02.170208Z"
    },
    "papermill": {
     "duration": 0.019833,
     "end_time": "2024-03-21T16:48:02.171363",
     "exception": false,
     "start_time": "2024-03-21T16:48:02.151530",
     "status": "completed"
    },
    "tags": []
   },
   "outputs": [
    {
     "data": {
      "text/plain": [
       "(370, 5)"
      ]
     },
     "execution_count": 20,
     "metadata": {},
     "output_type": "execute_result"
    }
   ],
   "source": [
    "df_results.shape"
   ]
  },
  {
   "cell_type": "code",
   "execution_count": 21,
   "id": "b2b65209-a402-4a71-8eae-593dc3927381",
   "metadata": {
    "editable": true,
    "execution": {
     "iopub.execute_input": "2024-03-21T16:48:02.201843Z",
     "iopub.status.busy": "2024-03-21T16:48:02.201558Z",
     "iopub.status.idle": "2024-03-21T16:48:02.205848Z",
     "shell.execute_reply": "2024-03-21T16:48:02.205351Z"
    },
    "papermill": {
     "duration": 0.020485,
     "end_time": "2024-03-21T16:48:02.206583",
     "exception": false,
     "start_time": "2024-03-21T16:48:02.186098",
     "status": "completed"
    },
    "slideshow": {
     "slide_type": ""
    },
    "tags": []
   },
   "outputs": [],
   "source": [
    "df_results = df_results.assign(\n",
    "    winner_score=df_results[\"winner\"].replace(winner_matchings).apply(float)\n",
    ")"
   ]
  },
  {
   "cell_type": "code",
   "execution_count": 22,
   "id": "44b9c000-c8f5-49ca-989e-fbd7b5e5109e",
   "metadata": {
    "editable": true,
    "execution": {
     "iopub.execute_input": "2024-03-21T16:48:02.237749Z",
     "iopub.status.busy": "2024-03-21T16:48:02.237412Z",
     "iopub.status.idle": "2024-03-21T16:48:02.241044Z",
     "shell.execute_reply": "2024-03-21T16:48:02.240631Z"
    },
    "papermill": {
     "duration": 0.020304,
     "end_time": "2024-03-21T16:48:02.241764",
     "exception": false,
     "start_time": "2024-03-21T16:48:02.221460",
     "status": "completed"
    },
    "slideshow": {
     "slide_type": ""
    },
    "tags": []
   },
   "outputs": [
    {
     "data": {
      "text/plain": [
       "(370, 6)"
      ]
     },
     "execution_count": 22,
     "metadata": {},
     "output_type": "execute_result"
    }
   ],
   "source": [
    "df_results.shape"
   ]
  },
  {
   "cell_type": "code",
   "execution_count": 23,
   "id": "6743cafe-e446-4b6e-b832-b73d4ac54b1f",
   "metadata": {
    "editable": true,
    "execution": {
     "iopub.execute_input": "2024-03-21T16:48:02.272587Z",
     "iopub.status.busy": "2024-03-21T16:48:02.272224Z",
     "iopub.status.idle": "2024-03-21T16:48:02.280105Z",
     "shell.execute_reply": "2024-03-21T16:48:02.279735Z"
    },
    "papermill": {
     "duration": 0.023795,
     "end_time": "2024-03-21T16:48:02.280805",
     "exception": false,
     "start_time": "2024-03-21T16:48:02.257010",
     "status": "completed"
    },
    "slideshow": {
     "slide_type": ""
    },
    "tags": []
   },
   "outputs": [
    {
     "data": {
      "text/html": [
       "<div>\n",
       "<style scoped>\n",
       "    .dataframe tbody tr th:only-of-type {\n",
       "        vertical-align: middle;\n",
       "    }\n",
       "\n",
       "    .dataframe tbody tr th {\n",
       "        vertical-align: top;\n",
       "    }\n",
       "\n",
       "    .dataframe thead th {\n",
       "        text-align: right;\n",
       "    }\n",
       "</style>\n",
       "<table border=\"1\" class=\"dataframe\">\n",
       "  <thead>\n",
       "    <tr style=\"text-align: right;\">\n",
       "      <th></th>\n",
       "      <th>rep_index</th>\n",
       "      <th>paragraph_index</th>\n",
       "      <th>paragraph_section</th>\n",
       "      <th>winner</th>\n",
       "      <th>rationale</th>\n",
       "      <th>winner_score</th>\n",
       "    </tr>\n",
       "  </thead>\n",
       "  <tbody>\n",
       "    <tr>\n",
       "      <th>0</th>\n",
       "      <td>0</td>\n",
       "      <td>0</td>\n",
       "      <td>abstract</td>\n",
       "      <td>tie</td>\n",
       "      <td>Both paragraphs are well-written and cover the...</td>\n",
       "      <td>0.0</td>\n",
       "    </tr>\n",
       "    <tr>\n",
       "      <th>1</th>\n",
       "      <td>0</td>\n",
       "      <td>1</td>\n",
       "      <td>introduction</td>\n",
       "      <td>Paragraph 1</td>\n",
       "      <td>While both paragraphs are well-written and mee...</td>\n",
       "      <td>1.0</td>\n",
       "    </tr>\n",
       "    <tr>\n",
       "      <th>2</th>\n",
       "      <td>0</td>\n",
       "      <td>2</td>\n",
       "      <td>introduction</td>\n",
       "      <td>tie</td>\n",
       "      <td>Both paragraphs are of similar quality. While ...</td>\n",
       "      <td>0.0</td>\n",
       "    </tr>\n",
       "    <tr>\n",
       "      <th>3</th>\n",
       "      <td>0</td>\n",
       "      <td>3</td>\n",
       "      <td>introduction</td>\n",
       "      <td>Paragraph 1</td>\n",
       "      <td>While both paragraphs are similar in structure...</td>\n",
       "      <td>1.0</td>\n",
       "    </tr>\n",
       "    <tr>\n",
       "      <th>4</th>\n",
       "      <td>0</td>\n",
       "      <td>4</td>\n",
       "      <td>results</td>\n",
       "      <td>tie</td>\n",
       "      <td>Both paragraphs are similar in quality. They b...</td>\n",
       "      <td>0.0</td>\n",
       "    </tr>\n",
       "  </tbody>\n",
       "</table>\n",
       "</div>"
      ],
      "text/plain": [
       "   rep_index  paragraph_index paragraph_section       winner  \\\n",
       "0          0                0          abstract          tie   \n",
       "1          0                1      introduction  Paragraph 1   \n",
       "2          0                2      introduction          tie   \n",
       "3          0                3      introduction  Paragraph 1   \n",
       "4          0                4           results          tie   \n",
       "\n",
       "                                           rationale  winner_score  \n",
       "0  Both paragraphs are well-written and cover the...           0.0  \n",
       "1  While both paragraphs are well-written and mee...           1.0  \n",
       "2  Both paragraphs are of similar quality. While ...           0.0  \n",
       "3  While both paragraphs are similar in structure...           1.0  \n",
       "4  Both paragraphs are similar in quality. They b...           0.0  "
      ]
     },
     "execution_count": 23,
     "metadata": {},
     "output_type": "execute_result"
    }
   ],
   "source": [
    "df_results.head()"
   ]
  },
  {
   "cell_type": "code",
   "execution_count": 24,
   "id": "c34034ad-656d-4553-b90d-bd068f9c83e5",
   "metadata": {
    "editable": true,
    "execution": {
     "iopub.execute_input": "2024-03-21T16:48:02.311194Z",
     "iopub.status.busy": "2024-03-21T16:48:02.310848Z",
     "iopub.status.idle": "2024-03-21T16:48:02.315004Z",
     "shell.execute_reply": "2024-03-21T16:48:02.314581Z"
    },
    "papermill": {
     "duration": 0.020177,
     "end_time": "2024-03-21T16:48:02.315724",
     "exception": false,
     "start_time": "2024-03-21T16:48:02.295547",
     "status": "completed"
    },
    "slideshow": {
     "slide_type": ""
    },
    "tags": []
   },
   "outputs": [
    {
     "data": {
      "text/plain": [
       "rep_index              int64\n",
       "paragraph_index        int64\n",
       "paragraph_section     object\n",
       "winner                object\n",
       "rationale             object\n",
       "winner_score         float64\n",
       "dtype: object"
      ]
     },
     "execution_count": 24,
     "metadata": {},
     "output_type": "execute_result"
    }
   ],
   "source": [
    "df_results.dtypes"
   ]
  },
  {
   "cell_type": "code",
   "execution_count": 25,
   "id": "fa42ddf4-ec2a-4d55-869a-5942a4a87094",
   "metadata": {
    "editable": true,
    "execution": {
     "iopub.execute_input": "2024-03-21T16:48:02.345941Z",
     "iopub.status.busy": "2024-03-21T16:48:02.345754Z",
     "iopub.status.idle": "2024-03-21T16:48:02.350894Z",
     "shell.execute_reply": "2024-03-21T16:48:02.350459Z"
    },
    "papermill": {
     "duration": 0.021017,
     "end_time": "2024-03-21T16:48:02.351609",
     "exception": false,
     "start_time": "2024-03-21T16:48:02.330592",
     "status": "completed"
    },
    "slideshow": {
     "slide_type": ""
    },
    "tags": []
   },
   "outputs": [
    {
     "data": {
      "text/plain": [
       "paragraph_section\n",
       "abstract        0.600000\n",
       "discussion      0.300000\n",
       "introduction    0.266667\n",
       "methods         0.212500\n",
       "results         0.060000\n",
       "Name: winner_score, dtype: float64"
      ]
     },
     "execution_count": 25,
     "metadata": {},
     "output_type": "execute_result"
    }
   ],
   "source": [
    "df_results.groupby(\"paragraph_section\")[\"winner_score\"].mean()"
   ]
  },
  {
   "cell_type": "markdown",
   "id": "5ba03c58-7563-416e-bc0e-a0b11796b0c7",
   "metadata": {
    "editable": true,
    "papermill": {
     "duration": 0.014796,
     "end_time": "2024-03-21T16:48:02.381194",
     "exception": false,
     "start_time": "2024-03-21T16:48:02.366398",
     "status": "completed"
    },
    "slideshow": {
     "slide_type": ""
    },
    "tags": []
   },
   "source": [
    "# Save"
   ]
  },
  {
   "cell_type": "code",
   "execution_count": 26,
   "id": "1e3899e4-da2c-4148-b226-268560c655f8",
   "metadata": {
    "editable": true,
    "execution": {
     "iopub.execute_input": "2024-03-21T16:48:02.411689Z",
     "iopub.status.busy": "2024-03-21T16:48:02.411338Z",
     "iopub.status.idle": "2024-03-21T16:48:02.414865Z",
     "shell.execute_reply": "2024-03-21T16:48:02.414426Z"
    },
    "papermill": {
     "duration": 0.019568,
     "end_time": "2024-03-21T16:48:02.415525",
     "exception": false,
     "start_time": "2024-03-21T16:48:02.395957",
     "status": "completed"
    },
    "slideshow": {
     "slide_type": ""
    },
    "tags": []
   },
   "outputs": [],
   "source": [
    "df_results.to_pickle(OUTPUT_FILE)"
   ]
  },
  {
   "cell_type": "code",
   "execution_count": null,
   "id": "46f23ada-3eda-47a0-a5ac-3d6d9a9672fc",
   "metadata": {
    "editable": true,
    "papermill": {
     "duration": 0.014688,
     "end_time": "2024-03-21T16:48:02.445076",
     "exception": false,
     "start_time": "2024-03-21T16:48:02.430388",
     "status": "completed"
    },
    "slideshow": {
     "slide_type": ""
    },
    "tags": []
   },
   "outputs": [],
   "source": []
  }
 ],
 "metadata": {
  "jupytext": {
   "cell_metadata_filter": "all,-execution,-papermill,-trusted",
   "notebook_metadata_filter": "-jupytext.text_representation.jupytext_version"
  },
  "kernelspec": {
   "display_name": "Python 3 (ipykernel)",
   "language": "python",
   "name": "python3"
  },
  "language_info": {
   "codemirror_mode": {
    "name": "ipython",
    "version": 3
   },
   "file_extension": ".py",
   "mimetype": "text/x-python",
   "name": "python",
   "nbconvert_exporter": "python",
   "pygments_lexer": "ipython3",
   "version": "3.11.8"
  },
  "papermill": {
   "default_parameters": {},
   "duration": 1120.369599,
   "end_time": "2024-03-21T16:48:02.978139",
   "environment_variables": {},
   "exception": null,
   "input_path": "/home/miltondp/projects/others/manubot/manubot-ai-editor-code/nbs/05-llm_evaluation/00-llm_pairwise-template.ipynb",
   "output_path": "/home/miltondp/projects/others/manubot/manubot-ai-editor-code/nbs/05-llm_evaluation/output/00-llm_pairwise-biochatter-manuscript--gpt-3.5-turbo--mistral_7b-instruct-fp16.ipynb",
   "parameters": {
    "INPUT_FILE": "/home/miltondp/projects/others/manubot/manubot-ai-editor-code/base/results/paragraph_match/biochatter-manuscript--gpt-3.5-turbo.pkl",
    "LLM_JUDGE": "mistral:7b-instruct-fp16",
    "MAX_TOKENS": 2000,
    "N_REPS": 10,
    "OUTPUT_FILE": "/home/miltondp/projects/others/manubot/manubot-ai-editor-code/base/results/llm_pairwise/biochatter-manuscript--gpt-3.5-turbo--mistral_7b-instruct-fp16.pkl",
    "REPO": "pivlab/manubot-ai-editor-code-test-biochatter-manuscript",
    "SEED_INIT": 0,
    "TEMPERATURE": 0.5
   },
   "start_time": "2024-03-21T16:29:22.608540",
   "version": "2.5.0"
  }
 },
 "nbformat": 4,
 "nbformat_minor": 5
}
