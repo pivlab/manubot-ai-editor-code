{
 "cells": [
  {
   "cell_type": "markdown",
   "id": "070a050a-44d1-42c2-b274-c8c180a2a0ba",
   "metadata": {
    "editable": true,
    "papermill": {
     "duration": 0.05184,
     "end_time": "2024-03-23T05:13:33.435636",
     "exception": false,
     "start_time": "2024-03-23T05:13:33.383796",
     "status": "completed"
    },
    "slideshow": {
     "slide_type": ""
    },
    "tags": []
   },
   "source": [
    "# Description"
   ]
  },
  {
   "cell_type": "markdown",
   "id": "e4fcbb4d-aa04-4e1a-9aee-0053c559e157",
   "metadata": {
    "editable": true,
    "papermill": {
     "duration": 0.031098,
     "end_time": "2024-03-23T05:13:33.506120",
     "exception": false,
     "start_time": "2024-03-23T05:13:33.475022",
     "status": "completed"
    },
    "slideshow": {
     "slide_type": ""
    },
    "tags": []
   },
   "source": [
    "This notebook reads a PR from a manuscript and matches original paragraphs with modified ones."
   ]
  },
  {
   "cell_type": "markdown",
   "id": "b237f234-dc98-43e9-8ff5-8922c410c377",
   "metadata": {
    "editable": true,
    "papermill": {
     "duration": 0.030052,
     "end_time": "2024-03-23T05:13:33.566699",
     "exception": false,
     "start_time": "2024-03-23T05:13:33.536647",
     "status": "completed"
    },
    "slideshow": {
     "slide_type": ""
    },
    "tags": []
   },
   "source": [
    "# Modules"
   ]
  },
  {
   "cell_type": "code",
   "execution_count": 1,
   "id": "70413318-1f5e-4d58-b1a2-cb4f01c13e86",
   "metadata": {
    "editable": true,
    "execution": {
     "iopub.execute_input": "2024-03-23T05:13:33.630404Z",
     "iopub.status.busy": "2024-03-23T05:13:33.629702Z",
     "iopub.status.idle": "2024-03-23T05:13:34.723904Z",
     "shell.execute_reply": "2024-03-23T05:13:34.723331Z"
    },
    "papermill": {
     "duration": 1.128275,
     "end_time": "2024-03-23T05:13:34.725457",
     "exception": false,
     "start_time": "2024-03-23T05:13:33.597182",
     "status": "completed"
    },
    "slideshow": {
     "slide_type": ""
    },
    "tags": []
   },
   "outputs": [],
   "source": [
    "from pathlib import Path\n",
    "\n",
    "import pandas as pd\n",
    "from github import Auth, Github\n",
    "from IPython.display import display\n",
    "from proj import conf\n",
    "from proj.utils import process_paragraph"
   ]
  },
  {
   "cell_type": "markdown",
   "id": "3f78fd18-86b7-40b9-b80e-a8b18d001682",
   "metadata": {
    "editable": true,
    "papermill": {
     "duration": 0.040931,
     "end_time": "2024-03-23T05:13:34.829008",
     "exception": false,
     "start_time": "2024-03-23T05:13:34.788077",
     "status": "completed"
    },
    "slideshow": {
     "slide_type": ""
    },
    "tags": []
   },
   "source": [
    "# Settings/paths"
   ]
  },
  {
   "cell_type": "code",
   "execution_count": 2,
   "id": "10a3ceca-1480-45b0-b04d-cb402ff95abf",
   "metadata": {
    "editable": true,
    "execution": {
     "iopub.execute_input": "2024-03-23T05:13:34.891315Z",
     "iopub.status.busy": "2024-03-23T05:13:34.890583Z",
     "iopub.status.idle": "2024-03-23T05:13:34.894204Z",
     "shell.execute_reply": "2024-03-23T05:13:34.893553Z"
    },
    "papermill": {
     "duration": 0.035798,
     "end_time": "2024-03-23T05:13:34.894978",
     "exception": false,
     "start_time": "2024-03-23T05:13:34.859180",
     "status": "completed"
    },
    "slideshow": {
     "slide_type": ""
    },
    "tags": [
     "parameters"
    ]
   },
   "outputs": [],
   "source": [
    "REPO = \"pivlab/manubot-ai-editor-code-test-mutator-epistasis-manuscript\"\n",
    "PR = (2, \"gpt-3.5-turbo\")\n",
    "\n",
    "OUTPUT_FILE_PATH = None\n",
    "REVERSED_OUTPUT_FILE_PATH = None"
   ]
  },
  {
   "cell_type": "code",
   "execution_count": 3,
   "id": "d4dd9124",
   "metadata": {
    "execution": {
     "iopub.execute_input": "2024-03-23T05:13:34.956176Z",
     "iopub.status.busy": "2024-03-23T05:13:34.955963Z",
     "iopub.status.idle": "2024-03-23T05:13:34.958940Z",
     "shell.execute_reply": "2024-03-23T05:13:34.958413Z"
    },
    "lines_to_next_cell": 2,
    "papermill": {
     "duration": 0.034557,
     "end_time": "2024-03-23T05:13:34.959701",
     "exception": false,
     "start_time": "2024-03-23T05:13:34.925144",
     "status": "completed"
    },
    "tags": [
     "injected-parameters"
    ]
   },
   "outputs": [],
   "source": [
    "# Parameters\n",
    "OUTPUT_FILE_PATH = \"/home/miltondp/projects/others/manubot/manubot-ai-editor-code/base/results/paragraph_match/epistasis-manuscript--gpt-3.5-turbo.pkl\"\n",
    "REVERSED_OUTPUT_FILE_PATH = \"/home/miltondp/projects/others/manubot/manubot-ai-editor-code/base/results/paragraph_match/epistasis-manuscript--gpt-3.5-turbo--reversed.pkl\""
   ]
  },
  {
   "cell_type": "code",
   "execution_count": 4,
   "id": "71351755-ed5f-43a2-a886-6ef08afaddf4",
   "metadata": {
    "editable": true,
    "execution": {
     "iopub.execute_input": "2024-03-23T05:13:35.021213Z",
     "iopub.status.busy": "2024-03-23T05:13:35.021008Z",
     "iopub.status.idle": "2024-03-23T05:13:35.028050Z",
     "shell.execute_reply": "2024-03-23T05:13:35.027521Z"
    },
    "papermill": {
     "duration": 0.038451,
     "end_time": "2024-03-23T05:13:35.028814",
     "exception": false,
     "start_time": "2024-03-23T05:13:34.990363",
     "status": "completed"
    },
    "slideshow": {
     "slide_type": ""
    },
    "tags": []
   },
   "outputs": [
    {
     "data": {
      "text/plain": [
       "PosixPath('/home/miltondp/projects/others/manubot/manubot-ai-editor-code/base/results/paragraph_match/epistasis-manuscript--gpt-3.5-turbo.pkl')"
      ]
     },
     "metadata": {},
     "output_type": "display_data"
    }
   ],
   "source": [
    "OUTPUT_FILE_PATH = Path(OUTPUT_FILE_PATH).resolve()\n",
    "OUTPUT_FILE_PATH.parent.mkdir(parents=True, exist_ok=True)\n",
    "display(OUTPUT_FILE_PATH)"
   ]
  },
  {
   "cell_type": "code",
   "execution_count": 5,
   "id": "d20e7ef9-1535-47ac-a5aa-9fe635fba9b9",
   "metadata": {
    "editable": true,
    "execution": {
     "iopub.execute_input": "2024-03-23T05:13:35.090254Z",
     "iopub.status.busy": "2024-03-23T05:13:35.090032Z",
     "iopub.status.idle": "2024-03-23T05:13:35.094465Z",
     "shell.execute_reply": "2024-03-23T05:13:35.093880Z"
    },
    "papermill": {
     "duration": 0.03599,
     "end_time": "2024-03-23T05:13:35.095253",
     "exception": false,
     "start_time": "2024-03-23T05:13:35.059263",
     "status": "completed"
    },
    "slideshow": {
     "slide_type": ""
    },
    "tags": []
   },
   "outputs": [
    {
     "data": {
      "text/plain": [
       "PosixPath('/home/miltondp/projects/others/manubot/manubot-ai-editor-code/base/results/paragraph_match/epistasis-manuscript--gpt-3.5-turbo--reversed.pkl')"
      ]
     },
     "metadata": {},
     "output_type": "display_data"
    }
   ],
   "source": [
    "REVERSED_OUTPUT_FILE_PATH = Path(REVERSED_OUTPUT_FILE_PATH).resolve()\n",
    "REVERSED_OUTPUT_FILE_PATH.parent.mkdir(parents=True, exist_ok=True)\n",
    "display(REVERSED_OUTPUT_FILE_PATH)"
   ]
  },
  {
   "cell_type": "markdown",
   "id": "c42b83b5-84b7-45ff-88ee-3651aa5c9c55",
   "metadata": {
    "editable": true,
    "papermill": {
     "duration": 0.030233,
     "end_time": "2024-03-23T05:13:35.155937",
     "exception": false,
     "start_time": "2024-03-23T05:13:35.125704",
     "status": "completed"
    },
    "slideshow": {
     "slide_type": ""
    },
    "tags": []
   },
   "source": [
    "# Get Repo"
   ]
  },
  {
   "cell_type": "code",
   "execution_count": 6,
   "id": "f1d1f476-f5b5-4d1c-9c3a-822e9bef4b27",
   "metadata": {
    "editable": true,
    "execution": {
     "iopub.execute_input": "2024-03-23T05:13:35.217915Z",
     "iopub.status.busy": "2024-03-23T05:13:35.217685Z",
     "iopub.status.idle": "2024-03-23T05:13:35.220557Z",
     "shell.execute_reply": "2024-03-23T05:13:35.220045Z"
    },
    "papermill": {
     "duration": 0.034614,
     "end_time": "2024-03-23T05:13:35.221260",
     "exception": false,
     "start_time": "2024-03-23T05:13:35.186646",
     "status": "completed"
    },
    "slideshow": {
     "slide_type": ""
    },
    "tags": []
   },
   "outputs": [],
   "source": [
    "auth = Auth.Token(conf.github.API_TOKEN)"
   ]
  },
  {
   "cell_type": "code",
   "execution_count": 7,
   "id": "4e3db6e2-f267-4d60-8ff3-703698a09f88",
   "metadata": {
    "editable": true,
    "execution": {
     "iopub.execute_input": "2024-03-23T05:13:35.283491Z",
     "iopub.status.busy": "2024-03-23T05:13:35.283094Z",
     "iopub.status.idle": "2024-03-23T05:13:35.285950Z",
     "shell.execute_reply": "2024-03-23T05:13:35.285419Z"
    },
    "papermill": {
     "duration": 0.034703,
     "end_time": "2024-03-23T05:13:35.286690",
     "exception": false,
     "start_time": "2024-03-23T05:13:35.251987",
     "status": "completed"
    },
    "slideshow": {
     "slide_type": ""
    },
    "tags": []
   },
   "outputs": [],
   "source": [
    "g = Github(auth=auth)"
   ]
  },
  {
   "cell_type": "code",
   "execution_count": 8,
   "id": "cc6a365d-59f5-4537-9fd7-869ee4156046",
   "metadata": {
    "editable": true,
    "execution": {
     "iopub.execute_input": "2024-03-23T05:13:35.375872Z",
     "iopub.status.busy": "2024-03-23T05:13:35.375490Z",
     "iopub.status.idle": "2024-03-23T05:13:35.775547Z",
     "shell.execute_reply": "2024-03-23T05:13:35.774963Z"
    },
    "papermill": {
     "duration": 0.459565,
     "end_time": "2024-03-23T05:13:35.776768",
     "exception": false,
     "start_time": "2024-03-23T05:13:35.317203",
     "status": "completed"
    },
    "slideshow": {
     "slide_type": ""
    },
    "tags": []
   },
   "outputs": [],
   "source": [
    "repo = g.get_repo(REPO)"
   ]
  },
  {
   "cell_type": "markdown",
   "id": "f2d9fb5d-6838-484b-9202-ceac74fcb336",
   "metadata": {
    "editable": true,
    "papermill": {
     "duration": 0.030331,
     "end_time": "2024-03-23T05:13:35.838545",
     "exception": false,
     "start_time": "2024-03-23T05:13:35.808214",
     "status": "completed"
    },
    "slideshow": {
     "slide_type": ""
    },
    "tags": []
   },
   "source": [
    "# Get Pull Request"
   ]
  },
  {
   "cell_type": "code",
   "execution_count": 9,
   "id": "297c9dec-9e00-490d-8723-44208b3fe8f4",
   "metadata": {
    "editable": true,
    "execution": {
     "iopub.execute_input": "2024-03-23T05:13:35.900254Z",
     "iopub.status.busy": "2024-03-23T05:13:35.900042Z",
     "iopub.status.idle": "2024-03-23T05:13:36.430674Z",
     "shell.execute_reply": "2024-03-23T05:13:36.430100Z"
    },
    "papermill": {
     "duration": 0.563112,
     "end_time": "2024-03-23T05:13:36.432016",
     "exception": false,
     "start_time": "2024-03-23T05:13:35.868904",
     "status": "completed"
    },
    "slideshow": {
     "slide_type": ""
    },
    "tags": []
   },
   "outputs": [],
   "source": [
    "pr = repo.get_pull(PR[0])"
   ]
  },
  {
   "cell_type": "code",
   "execution_count": 10,
   "id": "064b1017-a495-48b3-bea3-1b9a67ad1b6f",
   "metadata": {
    "editable": true,
    "execution": {
     "iopub.execute_input": "2024-03-23T05:13:36.496271Z",
     "iopub.status.busy": "2024-03-23T05:13:36.495662Z",
     "iopub.status.idle": "2024-03-23T05:13:37.096306Z",
     "shell.execute_reply": "2024-03-23T05:13:37.095681Z"
    },
    "papermill": {
     "duration": 0.63307,
     "end_time": "2024-03-23T05:13:37.097374",
     "exception": false,
     "start_time": "2024-03-23T05:13:36.464304",
     "status": "completed"
    },
    "slideshow": {
     "slide_type": ""
    },
    "tags": []
   },
   "outputs": [
    {
     "data": {
      "text/plain": [
       "[File(sha=\"1b8737b53295e36d2865468636d4d701e3c023e9\", filename=\"content/01.abstract.md\"),\n",
       " File(sha=\"28bc2a3e44a83ef0fea21c5401b3e250ccaab8c8\", filename=\"content/02.introduction.md\"),\n",
       " File(sha=\"586426518c1666b04cf8c379844f07adf7a9bd68\", filename=\"content/03.results.md\"),\n",
       " File(sha=\"8e1d41d794fb25731e79ee5dd7f189b7191df039\", filename=\"content/04.discussion.md\"),\n",
       " File(sha=\"5f65333ddefa649a64e03cd20e5fb2941aefd97c\", filename=\"content/05.methods.md\")]"
      ]
     },
     "execution_count": 10,
     "metadata": {},
     "output_type": "execute_result"
    }
   ],
   "source": [
    "list(pr.get_files())"
   ]
  },
  {
   "cell_type": "code",
   "execution_count": 11,
   "id": "7bc9b271-7ed2-4994-9d36-c8afa946b017",
   "metadata": {
    "editable": true,
    "execution": {
     "iopub.execute_input": "2024-03-23T05:13:37.199093Z",
     "iopub.status.busy": "2024-03-23T05:13:37.198610Z",
     "iopub.status.idle": "2024-03-23T05:13:37.516097Z",
     "shell.execute_reply": "2024-03-23T05:13:37.515457Z"
    },
    "papermill": {
     "duration": 0.358708,
     "end_time": "2024-03-23T05:13:37.517336",
     "exception": false,
     "start_time": "2024-03-23T05:13:37.158628",
     "status": "completed"
    },
    "slideshow": {
     "slide_type": ""
    },
    "tags": []
   },
   "outputs": [],
   "source": [
    "pr_commits = list(pr.get_commits())"
   ]
  },
  {
   "cell_type": "code",
   "execution_count": 12,
   "id": "446a1453-5729-4687-9b93-8165dd0e2793",
   "metadata": {
    "editable": true,
    "execution": {
     "iopub.execute_input": "2024-03-23T05:13:37.579651Z",
     "iopub.status.busy": "2024-03-23T05:13:37.579448Z",
     "iopub.status.idle": "2024-03-23T05:13:37.583268Z",
     "shell.execute_reply": "2024-03-23T05:13:37.582779Z"
    },
    "papermill": {
     "duration": 0.035507,
     "end_time": "2024-03-23T05:13:37.584008",
     "exception": false,
     "start_time": "2024-03-23T05:13:37.548501",
     "status": "completed"
    },
    "slideshow": {
     "slide_type": ""
    },
    "tags": []
   },
   "outputs": [
    {
     "data": {
      "text/plain": [
       "[Commit(sha=\"5c98a032259b13a812dc490a7a13edfa78768ba9\")]"
      ]
     },
     "execution_count": 12,
     "metadata": {},
     "output_type": "execute_result"
    }
   ],
   "source": [
    "pr_commits[0].parents"
   ]
  },
  {
   "cell_type": "code",
   "execution_count": 13,
   "id": "9c2382a1-adcc-47dc-8c75-d34f8500f93e",
   "metadata": {
    "editable": true,
    "execution": {
     "iopub.execute_input": "2024-03-23T05:13:37.646542Z",
     "iopub.status.busy": "2024-03-23T05:13:37.646041Z",
     "iopub.status.idle": "2024-03-23T05:13:37.649532Z",
     "shell.execute_reply": "2024-03-23T05:13:37.648978Z"
    },
    "papermill": {
     "duration": 0.03561,
     "end_time": "2024-03-23T05:13:37.650259",
     "exception": false,
     "start_time": "2024-03-23T05:13:37.614649",
     "status": "completed"
    },
    "slideshow": {
     "slide_type": ""
    },
    "tags": []
   },
   "outputs": [
    {
     "name": "stdout",
     "output_type": "stream",
     "text": [
      "5c98a032259b13a812dc490a7a13edfa78768ba9\n"
     ]
    }
   ],
   "source": [
    "pr_prev = pr_commits[0].parents[0].sha\n",
    "print(pr_prev)"
   ]
  },
  {
   "cell_type": "code",
   "execution_count": 14,
   "id": "96c9b088-a166-49d6-a0df-64d2cf690b7e",
   "metadata": {
    "editable": true,
    "execution": {
     "iopub.execute_input": "2024-03-23T05:13:37.712415Z",
     "iopub.status.busy": "2024-03-23T05:13:37.712030Z",
     "iopub.status.idle": "2024-03-23T05:13:37.715119Z",
     "shell.execute_reply": "2024-03-23T05:13:37.714599Z"
    },
    "papermill": {
     "duration": 0.035086,
     "end_time": "2024-03-23T05:13:37.715827",
     "exception": false,
     "start_time": "2024-03-23T05:13:37.680741",
     "status": "completed"
    },
    "slideshow": {
     "slide_type": ""
    },
    "tags": []
   },
   "outputs": [
    {
     "name": "stdout",
     "output_type": "stream",
     "text": [
      "203ac6b47f445ca4b1fbe6ea0abc19e13ab0cff4\n"
     ]
    }
   ],
   "source": [
    "pr_curr = pr_commits[0].sha\n",
    "print(pr_curr)"
   ]
  },
  {
   "cell_type": "markdown",
   "id": "10872c1e-0184-46c6-a04f-dce43438d404",
   "metadata": {
    "editable": true,
    "papermill": {
     "duration": 0.030447,
     "end_time": "2024-03-23T05:13:37.776978",
     "exception": false,
     "start_time": "2024-03-23T05:13:37.746531",
     "status": "completed"
    },
    "slideshow": {
     "slide_type": ""
    },
    "tags": []
   },
   "source": [
    "# Get file list"
   ]
  },
  {
   "cell_type": "code",
   "execution_count": 15,
   "id": "242729cf-1778-4162-b813-249ae6c8b632",
   "metadata": {
    "editable": true,
    "execution": {
     "iopub.execute_input": "2024-03-23T05:13:37.839458Z",
     "iopub.status.busy": "2024-03-23T05:13:37.839099Z",
     "iopub.status.idle": "2024-03-23T05:13:38.044933Z",
     "shell.execute_reply": "2024-03-23T05:13:38.044416Z"
    },
    "papermill": {
     "duration": 0.238026,
     "end_time": "2024-03-23T05:13:38.045960",
     "exception": false,
     "start_time": "2024-03-23T05:13:37.807934",
     "status": "completed"
    },
    "slideshow": {
     "slide_type": ""
    },
    "tags": []
   },
   "outputs": [
    {
     "data": {
      "text/plain": [
       "[File(sha=\"1b8737b53295e36d2865468636d4d701e3c023e9\", filename=\"content/01.abstract.md\"),\n",
       " File(sha=\"28bc2a3e44a83ef0fea21c5401b3e250ccaab8c8\", filename=\"content/02.introduction.md\"),\n",
       " File(sha=\"586426518c1666b04cf8c379844f07adf7a9bd68\", filename=\"content/03.results.md\"),\n",
       " File(sha=\"8e1d41d794fb25731e79ee5dd7f189b7191df039\", filename=\"content/04.discussion.md\"),\n",
       " File(sha=\"5f65333ddefa649a64e03cd20e5fb2941aefd97c\", filename=\"content/05.methods.md\")]"
      ]
     },
     "metadata": {},
     "output_type": "display_data"
    }
   ],
   "source": [
    "pr_files = [f for f in pr.get_files() if f.filename.endswith(\".md\")]\n",
    "display(pr_files)"
   ]
  },
  {
   "cell_type": "markdown",
   "id": "bce10792-ba0d-4716-9dcd-b44c2eb668d4",
   "metadata": {
    "editable": true,
    "papermill": {
     "duration": 0.042151,
     "end_time": "2024-03-23T05:13:38.134732",
     "exception": false,
     "start_time": "2024-03-23T05:13:38.092581",
     "status": "completed"
    },
    "slideshow": {
     "slide_type": ""
    },
    "tags": []
   },
   "source": [
    "# Sections"
   ]
  },
  {
   "cell_type": "code",
   "execution_count": 16,
   "id": "6253b146-7bd2-44ff-9ccc-6f245a11dd23",
   "metadata": {
    "execution": {
     "iopub.execute_input": "2024-03-23T05:13:38.196835Z",
     "iopub.status.busy": "2024-03-23T05:13:38.196431Z",
     "iopub.status.idle": "2024-03-23T05:13:38.199146Z",
     "shell.execute_reply": "2024-03-23T05:13:38.198645Z"
    },
    "papermill": {
     "duration": 0.034621,
     "end_time": "2024-03-23T05:13:38.199909",
     "exception": false,
     "start_time": "2024-03-23T05:13:38.165288",
     "status": "completed"
    },
    "tags": []
   },
   "outputs": [],
   "source": [
    "paragraph_matches = []"
   ]
  },
  {
   "cell_type": "markdown",
   "id": "7c403bcf-5c79-4bde-adfe-a09464b8b076",
   "metadata": {
    "editable": true,
    "papermill": {
     "duration": 0.030278,
     "end_time": "2024-03-23T05:13:38.260971",
     "exception": false,
     "start_time": "2024-03-23T05:13:38.230693",
     "status": "completed"
    },
    "slideshow": {
     "slide_type": ""
    },
    "tags": []
   },
   "source": [
    "## Abstract"
   ]
  },
  {
   "cell_type": "code",
   "execution_count": 17,
   "id": "5c13a99f-54e2-463e-9d20-d43a89c9ef76",
   "metadata": {
    "execution": {
     "iopub.execute_input": "2024-03-23T05:13:38.322918Z",
     "iopub.status.busy": "2024-03-23T05:13:38.322730Z",
     "iopub.status.idle": "2024-03-23T05:13:38.325642Z",
     "shell.execute_reply": "2024-03-23T05:13:38.325007Z"
    },
    "papermill": {
     "duration": 0.0347,
     "end_time": "2024-03-23T05:13:38.326375",
     "exception": false,
     "start_time": "2024-03-23T05:13:38.291675",
     "status": "completed"
    },
    "tags": []
   },
   "outputs": [],
   "source": [
    "section_name = \"abstract\""
   ]
  },
  {
   "cell_type": "code",
   "execution_count": 18,
   "id": "1558f08b-19a8-4951-8dea-228d7f59099d",
   "metadata": {
    "editable": true,
    "execution": {
     "iopub.execute_input": "2024-03-23T05:13:38.388871Z",
     "iopub.status.busy": "2024-03-23T05:13:38.388326Z",
     "iopub.status.idle": "2024-03-23T05:13:38.391390Z",
     "shell.execute_reply": "2024-03-23T05:13:38.390965Z"
    },
    "papermill": {
     "duration": 0.035069,
     "end_time": "2024-03-23T05:13:38.392098",
     "exception": false,
     "start_time": "2024-03-23T05:13:38.357029",
     "status": "completed"
    },
    "slideshow": {
     "slide_type": ""
    },
    "tags": []
   },
   "outputs": [
    {
     "name": "stdout",
     "output_type": "stream",
     "text": [
      "content/01.abstract.md\n"
     ]
    }
   ],
   "source": [
    "pr_filename = pr_files[0].filename\n",
    "assert section_name in pr_filename\n",
    "print(pr_filename)"
   ]
  },
  {
   "cell_type": "markdown",
   "id": "11efc147-ae59-4db5-990d-7d30c89ed8d0",
   "metadata": {
    "editable": true,
    "papermill": {
     "duration": 0.030659,
     "end_time": "2024-03-23T05:13:38.453843",
     "exception": false,
     "start_time": "2024-03-23T05:13:38.423184",
     "status": "completed"
    },
    "slideshow": {
     "slide_type": ""
    },
    "tags": []
   },
   "source": [
    "### Original"
   ]
  },
  {
   "cell_type": "code",
   "execution_count": 19,
   "id": "47db229e-b5e4-4c9a-ae54-fc984d9fdcde",
   "metadata": {
    "execution": {
     "iopub.execute_input": "2024-03-23T05:13:38.516093Z",
     "iopub.status.busy": "2024-03-23T05:13:38.515693Z",
     "iopub.status.idle": "2024-03-23T05:13:38.690305Z",
     "shell.execute_reply": "2024-03-23T05:13:38.689639Z"
    },
    "papermill": {
     "duration": 0.206891,
     "end_time": "2024-03-23T05:13:38.691401",
     "exception": false,
     "start_time": "2024-03-23T05:13:38.484510",
     "status": "completed"
    },
    "tags": []
   },
   "outputs": [
    {
     "name": "stdout",
     "output_type": "stream",
     "text": [
      "## Abstract {.page_break_before}\n",
      "\n",
      "Maintaining germ\n"
     ]
    }
   ],
   "source": [
    "# get content\n",
    "orig_section_content = repo.get_contents(pr_filename, pr_prev).decoded_content.decode(\n",
    "    \"utf-8\"\n",
    ")\n",
    "print(orig_section_content[:50])"
   ]
  },
  {
   "cell_type": "code",
   "execution_count": 20,
   "id": "1c6e25fa-ef56-4d1a-8127-064e5cc348aa",
   "metadata": {
    "execution": {
     "iopub.execute_input": "2024-03-23T05:13:38.782257Z",
     "iopub.status.busy": "2024-03-23T05:13:38.781851Z",
     "iopub.status.idle": "2024-03-23T05:13:38.785616Z",
     "shell.execute_reply": "2024-03-23T05:13:38.785123Z"
    },
    "papermill": {
     "duration": 0.048374,
     "end_time": "2024-03-23T05:13:38.786376",
     "exception": false,
     "start_time": "2024-03-23T05:13:38.738002",
     "status": "completed"
    },
    "tags": []
   },
   "outputs": [
    {
     "data": {
      "text/plain": [
       "3"
      ]
     },
     "metadata": {},
     "output_type": "display_data"
    }
   ],
   "source": [
    "# split by paragraph\n",
    "orig_section_paragraphs = orig_section_content.split(\"\\n\\n\")\n",
    "display(len(orig_section_paragraphs))"
   ]
  },
  {
   "cell_type": "markdown",
   "id": "52d7d0ff-91f7-4435-ac51-78c9c9ce25fa",
   "metadata": {
    "editable": true,
    "papermill": {
     "duration": 0.030393,
     "end_time": "2024-03-23T05:13:38.847463",
     "exception": false,
     "start_time": "2024-03-23T05:13:38.817070",
     "status": "completed"
    },
    "slideshow": {
     "slide_type": ""
    },
    "tags": []
   },
   "source": [
    "### Modified"
   ]
  },
  {
   "cell_type": "code",
   "execution_count": 21,
   "id": "c12094b0-c50f-4d98-85f7-dd5072ff68e1",
   "metadata": {
    "execution": {
     "iopub.execute_input": "2024-03-23T05:13:38.937059Z",
     "iopub.status.busy": "2024-03-23T05:13:38.936697Z",
     "iopub.status.idle": "2024-03-23T05:13:39.092344Z",
     "shell.execute_reply": "2024-03-23T05:13:39.091793Z"
    },
    "papermill": {
     "duration": 0.214673,
     "end_time": "2024-03-23T05:13:39.093156",
     "exception": false,
     "start_time": "2024-03-23T05:13:38.878483",
     "status": "completed"
    },
    "tags": []
   },
   "outputs": [
    {
     "name": "stdout",
     "output_type": "stream",
     "text": [
      "## Abstract {.page_break_before}\n",
      "\n",
      "The essential an\n"
     ]
    }
   ],
   "source": [
    "# get content\n",
    "mod_section_content = repo.get_contents(pr_filename, pr_curr).decoded_content.decode(\n",
    "    \"utf-8\"\n",
    ")\n",
    "print(mod_section_content[:50])"
   ]
  },
  {
   "cell_type": "code",
   "execution_count": 22,
   "id": "e02bdeb5-77c9-4a96-adf4-a31ba8047062",
   "metadata": {
    "execution": {
     "iopub.execute_input": "2024-03-23T05:13:39.155809Z",
     "iopub.status.busy": "2024-03-23T05:13:39.155609Z",
     "iopub.status.idle": "2024-03-23T05:13:39.159473Z",
     "shell.execute_reply": "2024-03-23T05:13:39.158924Z"
    },
    "papermill": {
     "duration": 0.036034,
     "end_time": "2024-03-23T05:13:39.160253",
     "exception": false,
     "start_time": "2024-03-23T05:13:39.124219",
     "status": "completed"
    },
    "tags": []
   },
   "outputs": [
    {
     "data": {
      "text/plain": [
       "3"
      ]
     },
     "metadata": {},
     "output_type": "display_data"
    }
   ],
   "source": [
    "# split by paragraph\n",
    "mod_section_paragraphs = mod_section_content.split(\"\\n\\n\")\n",
    "display(len(mod_section_paragraphs))"
   ]
  },
  {
   "cell_type": "markdown",
   "id": "bcbaf41a-e76e-4b5d-8daa-4db6cdb20f66",
   "metadata": {
    "editable": true,
    "papermill": {
     "duration": 0.030694,
     "end_time": "2024-03-23T05:13:39.221646",
     "exception": false,
     "start_time": "2024-03-23T05:13:39.190952",
     "status": "completed"
    },
    "slideshow": {
     "slide_type": ""
    },
    "tags": []
   },
   "source": [
    "### Match"
   ]
  },
  {
   "cell_type": "code",
   "execution_count": 23,
   "id": "38ec8ddf-9d53-4e31-8a48-2946e35e6996",
   "metadata": {
    "execution": {
     "iopub.execute_input": "2024-03-23T05:13:39.284072Z",
     "iopub.status.busy": "2024-03-23T05:13:39.283876Z",
     "iopub.status.idle": "2024-03-23T05:13:39.287591Z",
     "shell.execute_reply": "2024-03-23T05:13:39.287091Z"
    },
    "papermill": {
     "duration": 0.035738,
     "end_time": "2024-03-23T05:13:39.288290",
     "exception": false,
     "start_time": "2024-03-23T05:13:39.252552",
     "status": "completed"
    },
    "tags": []
   },
   "outputs": [
    {
     "data": {
      "text/plain": [
       "'## Abstract {.page_break_before}'"
      ]
     },
     "execution_count": 23,
     "metadata": {},
     "output_type": "execute_result"
    }
   ],
   "source": [
    "orig_section_paragraphs[0]"
   ]
  },
  {
   "cell_type": "code",
   "execution_count": 24,
   "id": "b665987d-444c-49b9-8d67-1bf157225d68",
   "metadata": {
    "execution": {
     "iopub.execute_input": "2024-03-23T05:13:39.351255Z",
     "iopub.status.busy": "2024-03-23T05:13:39.351067Z",
     "iopub.status.idle": "2024-03-23T05:13:39.354594Z",
     "shell.execute_reply": "2024-03-23T05:13:39.354101Z"
    },
    "papermill": {
     "duration": 0.035774,
     "end_time": "2024-03-23T05:13:39.355391",
     "exception": false,
     "start_time": "2024-03-23T05:13:39.319617",
     "status": "completed"
    },
    "tags": []
   },
   "outputs": [
    {
     "data": {
      "text/plain": [
       "'## Abstract {.page_break_before}'"
      ]
     },
     "execution_count": 24,
     "metadata": {},
     "output_type": "execute_result"
    }
   ],
   "source": [
    "mod_section_paragraphs[0]"
   ]
  },
  {
   "cell_type": "markdown",
   "id": "19b0d453-ff6b-4194-bd5b-caec7a71a0ac",
   "metadata": {
    "editable": true,
    "papermill": {
     "duration": 0.030594,
     "end_time": "2024-03-23T05:13:39.417372",
     "exception": false,
     "start_time": "2024-03-23T05:13:39.386778",
     "status": "completed"
    },
    "slideshow": {
     "slide_type": ""
    },
    "tags": []
   },
   "source": [
    "####  Paragraph 00"
   ]
  },
  {
   "cell_type": "code",
   "execution_count": 25,
   "id": "d6e681b6-d79a-45d9-a414-653920159e1c",
   "metadata": {
    "execution": {
     "iopub.execute_input": "2024-03-23T05:13:39.480274Z",
     "iopub.status.busy": "2024-03-23T05:13:39.479896Z",
     "iopub.status.idle": "2024-03-23T05:13:39.483141Z",
     "shell.execute_reply": "2024-03-23T05:13:39.482620Z"
    },
    "papermill": {
     "duration": 0.035555,
     "end_time": "2024-03-23T05:13:39.483922",
     "exception": false,
     "start_time": "2024-03-23T05:13:39.448367",
     "status": "completed"
    },
    "tags": []
   },
   "outputs": [
    {
     "name": "stdout",
     "output_type": "stream",
     "text": [
      "Maintaining germline genome integrity is essential and enormously complex. Hundreds of proteins are involved in DNA replication and proofreading, and hundreds more are mobilized to repair DNA damage [@PMID:28485537]. While loss-of-function mutations in any of the genes encoding these proteins might lead to elevated mutation rates, *mutator alleles* have largely eluded detection in mammals. DNA replication and repair proteins often recognize particular sequence motifs or excise lesions at specific nucleotides. Thus, we might expect that the spectrum of *de novo* mutations &mdash; that is, the frequency of each individual mutation type (C>T, A>G, etc.) &mdash; will differ between genomes that harbor either a mutator or wild-type allele at a given locus. Previously, we used quantitative trait locus mapping to discover candidate mutator alleles in the DNA repair gene *Mutyh* that increased the C>A germline mutation rate in a family of inbred mice known as the BXDs [@PMID:35545679;@PMID:33472028]. In this study we developed a new method, called \"aggregate mutation spectrum distance,\" to detect alleles associated with mutation spectrum variation. By applying this approach to mutation data from the BXDs, we confirmed the presence of the germline mutator locus near *Mutyh* and discovered an additional C>A mutator locus on chromosome 6 that overlaps *Ogg1*, a DNA glycosylase involved in the same base-excision repair network as *Mutyh* [@PMID:17581577]. The effect of a chromosome 6 mutator allele depended on the presence of a mutator allele near *Mutyh*, and BXDs with mutator alleles at both loci had even greater numbers of C>A mutations than those with mutator alleles at either locus alone. Our new methods for analyzing mutation spectra reveal evidence of epistasis between germline mutator alleles, and may be applicable to mutation data from humans and other model organisms.\n"
     ]
    }
   ],
   "source": [
    "par0 = process_paragraph(orig_section_paragraphs[1])\n",
    "print(par0)"
   ]
  },
  {
   "cell_type": "code",
   "execution_count": 26,
   "id": "d1bf3ff4-c3ab-4ca8-b5d5-c3a2f6c02702",
   "metadata": {
    "execution": {
     "iopub.execute_input": "2024-03-23T05:13:39.547209Z",
     "iopub.status.busy": "2024-03-23T05:13:39.546790Z",
     "iopub.status.idle": "2024-03-23T05:13:39.550006Z",
     "shell.execute_reply": "2024-03-23T05:13:39.549469Z"
    },
    "papermill": {
     "duration": 0.035567,
     "end_time": "2024-03-23T05:13:39.550777",
     "exception": false,
     "start_time": "2024-03-23T05:13:39.515210",
     "status": "completed"
    },
    "tags": []
   },
   "outputs": [
    {
     "name": "stdout",
     "output_type": "stream",
     "text": [
      "The essential and immensely complex issue of maintaining germline genome integrity involves hundreds of proteins responsible for DNA replication, proofreading, and repair [@PMID:28485537]. While loss-of-function mutations in genes encoding these proteins can result in increased mutation rates, the detection of *mutator alleles* in mammals has been challenging. DNA replication and repair proteins often target specific sequence motifs or excise lesions at particular nucleotides, suggesting that the spectrum of *de novo* mutations (such as C>T, A>G, etc.) may vary between genomes with mutator or wild-type alleles at a specific locus. Previous research utilized quantitative trait locus mapping to identify potential mutator alleles in the DNA repair gene *Mutyh*, which elevated the C>A germline mutation rate in the BXD inbred mouse family [@PMID:35545679;@PMID:33472028]. In this study, a novel method called \"aggregate mutation spectrum distance\" was developed to identify alleles linked to mutation spectrum variability. Analysis of mutation data from the BXDs confirmed the presence of a germline mutator locus near *Mutyh* and revealed an additional C>A mutator locus on chromosome 6 overlapping with *Ogg1*, a DNA glycosylase in the same repair network as *Mutyh* [@PMID:17581577]. The impact of a chromosome 6 mutator allele was dependent on the presence of a mutator allele near *Mutyh*, with BXDs carrying mutator alleles at both loci exhibiting higher numbers of C>A mutations compared to those with mutator alleles at only one locus. These new methods for analyzing mutation spectra highlight evidence of epistasis between germline mutator alleles and have potential applications in studying mutation data across humans and other model organisms.\n"
     ]
    }
   ],
   "source": [
    "par1 = process_paragraph(mod_section_paragraphs[1])\n",
    "print(par1)"
   ]
  },
  {
   "cell_type": "code",
   "execution_count": 27,
   "id": "c4b6cfc3-c2ae-40ce-abca-de3778b445f4",
   "metadata": {
    "execution": {
     "iopub.execute_input": "2024-03-23T05:13:39.613739Z",
     "iopub.status.busy": "2024-03-23T05:13:39.613403Z",
     "iopub.status.idle": "2024-03-23T05:13:39.616169Z",
     "shell.execute_reply": "2024-03-23T05:13:39.615663Z"
    },
    "papermill": {
     "duration": 0.035033,
     "end_time": "2024-03-23T05:13:39.616940",
     "exception": false,
     "start_time": "2024-03-23T05:13:39.581907",
     "status": "completed"
    },
    "tags": []
   },
   "outputs": [],
   "source": [
    "paragraph_matches.append(\n",
    "    (\n",
    "        section_name,\n",
    "        par0,\n",
    "        par1,\n",
    "    )\n",
    ")"
   ]
  },
  {
   "cell_type": "code",
   "execution_count": 28,
   "id": "db738a8d-d527-4607-8994-2a62433d75e6",
   "metadata": {
    "execution": {
     "iopub.execute_input": "2024-03-23T05:13:39.680500Z",
     "iopub.status.busy": "2024-03-23T05:13:39.680021Z",
     "iopub.status.idle": "2024-03-23T05:13:39.683897Z",
     "shell.execute_reply": "2024-03-23T05:13:39.683400Z"
    },
    "papermill": {
     "duration": 0.036415,
     "end_time": "2024-03-23T05:13:39.684689",
     "exception": false,
     "start_time": "2024-03-23T05:13:39.648274",
     "status": "completed"
    },
    "tags": []
   },
   "outputs": [
    {
     "data": {
      "text/plain": [
       "('abstract',\n",
       " 'Maintaining germline genome integrity is essential and enormously complex. Hundreds of proteins are involved in DNA replication and proofreading, and hundreds more are mobilized to repair DNA damage [@PMID:28485537]. While loss-of-function mutations in any of the genes encoding these proteins might lead to elevated mutation rates, *mutator alleles* have largely eluded detection in mammals. DNA replication and repair proteins often recognize particular sequence motifs or excise lesions at specific nucleotides. Thus, we might expect that the spectrum of *de novo* mutations &mdash; that is, the frequency of each individual mutation type (C>T, A>G, etc.) &mdash; will differ between genomes that harbor either a mutator or wild-type allele at a given locus. Previously, we used quantitative trait locus mapping to discover candidate mutator alleles in the DNA repair gene *Mutyh* that increased the C>A germline mutation rate in a family of inbred mice known as the BXDs [@PMID:35545679;@PMID:33472028]. In this study we developed a new method, called \"aggregate mutation spectrum distance,\" to detect alleles associated with mutation spectrum variation. By applying this approach to mutation data from the BXDs, we confirmed the presence of the germline mutator locus near *Mutyh* and discovered an additional C>A mutator locus on chromosome 6 that overlaps *Ogg1*, a DNA glycosylase involved in the same base-excision repair network as *Mutyh* [@PMID:17581577]. The effect of a chromosome 6 mutator allele depended on the presence of a mutator allele near *Mutyh*, and BXDs with mutator alleles at both loci had even greater numbers of C>A mutations than those with mutator alleles at either locus alone. Our new methods for analyzing mutation spectra reveal evidence of epistasis between germline mutator alleles, and may be applicable to mutation data from humans and other model organisms.',\n",
       " 'The essential and immensely complex issue of maintaining germline genome integrity involves hundreds of proteins responsible for DNA replication, proofreading, and repair [@PMID:28485537]. While loss-of-function mutations in genes encoding these proteins can result in increased mutation rates, the detection of *mutator alleles* in mammals has been challenging. DNA replication and repair proteins often target specific sequence motifs or excise lesions at particular nucleotides, suggesting that the spectrum of *de novo* mutations (such as C>T, A>G, etc.) may vary between genomes with mutator or wild-type alleles at a specific locus. Previous research utilized quantitative trait locus mapping to identify potential mutator alleles in the DNA repair gene *Mutyh*, which elevated the C>A germline mutation rate in the BXD inbred mouse family [@PMID:35545679;@PMID:33472028]. In this study, a novel method called \"aggregate mutation spectrum distance\" was developed to identify alleles linked to mutation spectrum variability. Analysis of mutation data from the BXDs confirmed the presence of a germline mutator locus near *Mutyh* and revealed an additional C>A mutator locus on chromosome 6 overlapping with *Ogg1*, a DNA glycosylase in the same repair network as *Mutyh* [@PMID:17581577]. The impact of a chromosome 6 mutator allele was dependent on the presence of a mutator allele near *Mutyh*, with BXDs carrying mutator alleles at both loci exhibiting higher numbers of C>A mutations compared to those with mutator alleles at only one locus. These new methods for analyzing mutation spectra highlight evidence of epistasis between germline mutator alleles and have potential applications in studying mutation data across humans and other model organisms.')"
      ]
     },
     "metadata": {},
     "output_type": "display_data"
    }
   ],
   "source": [
    "display(paragraph_matches[-1])"
   ]
  },
  {
   "cell_type": "markdown",
   "id": "84bb559e-97ba-4171-ac1c-b1b8b1837c5b",
   "metadata": {
    "editable": true,
    "papermill": {
     "duration": 0.031021,
     "end_time": "2024-03-23T05:13:39.746822",
     "exception": false,
     "start_time": "2024-03-23T05:13:39.715801",
     "status": "completed"
    },
    "slideshow": {
     "slide_type": ""
    },
    "tags": []
   },
   "source": [
    "## Introduction"
   ]
  },
  {
   "cell_type": "code",
   "execution_count": 29,
   "id": "2fbfb828-2b12-42da-b724-9d81121dbda3",
   "metadata": {
    "execution": {
     "iopub.execute_input": "2024-03-23T05:13:39.810029Z",
     "iopub.status.busy": "2024-03-23T05:13:39.809547Z",
     "iopub.status.idle": "2024-03-23T05:13:39.812299Z",
     "shell.execute_reply": "2024-03-23T05:13:39.811729Z"
    },
    "papermill": {
     "duration": 0.035064,
     "end_time": "2024-03-23T05:13:39.813063",
     "exception": false,
     "start_time": "2024-03-23T05:13:39.777999",
     "status": "completed"
    },
    "tags": []
   },
   "outputs": [],
   "source": [
    "section_name = \"introduction\""
   ]
  },
  {
   "cell_type": "code",
   "execution_count": 30,
   "id": "802ec3df-6974-42a5-b5a0-9cd621877c5f",
   "metadata": {
    "editable": true,
    "execution": {
     "iopub.execute_input": "2024-03-23T05:13:39.876513Z",
     "iopub.status.busy": "2024-03-23T05:13:39.875945Z",
     "iopub.status.idle": "2024-03-23T05:13:39.879460Z",
     "shell.execute_reply": "2024-03-23T05:13:39.878863Z"
    },
    "papermill": {
     "duration": 0.035915,
     "end_time": "2024-03-23T05:13:39.880239",
     "exception": false,
     "start_time": "2024-03-23T05:13:39.844324",
     "status": "completed"
    },
    "slideshow": {
     "slide_type": ""
    },
    "tags": []
   },
   "outputs": [
    {
     "name": "stdout",
     "output_type": "stream",
     "text": [
      "content/02.introduction.md\n"
     ]
    }
   ],
   "source": [
    "pr_filename = pr_files[1].filename\n",
    "assert section_name in pr_filename\n",
    "print(pr_filename)"
   ]
  },
  {
   "cell_type": "markdown",
   "id": "3cb464ec-e479-47bc-a870-dbab7372c44b",
   "metadata": {
    "editable": true,
    "papermill": {
     "duration": 0.031529,
     "end_time": "2024-03-23T05:13:39.943270",
     "exception": false,
     "start_time": "2024-03-23T05:13:39.911741",
     "status": "completed"
    },
    "slideshow": {
     "slide_type": ""
    },
    "tags": []
   },
   "source": [
    "### Original"
   ]
  },
  {
   "cell_type": "code",
   "execution_count": 31,
   "id": "020b21ef-3aca-4848-8717-ace1083aebf0",
   "metadata": {
    "execution": {
     "iopub.execute_input": "2024-03-23T05:13:40.006810Z",
     "iopub.status.busy": "2024-03-23T05:13:40.006251Z",
     "iopub.status.idle": "2024-03-23T05:13:40.142223Z",
     "shell.execute_reply": "2024-03-23T05:13:40.141648Z"
    },
    "papermill": {
     "duration": 0.16835,
     "end_time": "2024-03-23T05:13:40.142947",
     "exception": false,
     "start_time": "2024-03-23T05:13:39.974597",
     "status": "completed"
    },
    "tags": []
   },
   "outputs": [
    {
     "name": "stdout",
     "output_type": "stream",
     "text": [
      "## Introduction\n",
      "\n",
      "Germline mutation rates reflect t\n"
     ]
    }
   ],
   "source": [
    "# get content\n",
    "orig_section_content = repo.get_contents(pr_filename, pr_prev).decoded_content.decode(\n",
    "    \"utf-8\"\n",
    ")\n",
    "print(orig_section_content[:50])"
   ]
  },
  {
   "cell_type": "code",
   "execution_count": 32,
   "id": "e1612d62-3f65-43e6-b6cb-4b5538931161",
   "metadata": {
    "execution": {
     "iopub.execute_input": "2024-03-23T05:13:40.205994Z",
     "iopub.status.busy": "2024-03-23T05:13:40.205680Z",
     "iopub.status.idle": "2024-03-23T05:13:40.209391Z",
     "shell.execute_reply": "2024-03-23T05:13:40.208837Z"
    },
    "papermill": {
     "duration": 0.035858,
     "end_time": "2024-03-23T05:13:40.210113",
     "exception": false,
     "start_time": "2024-03-23T05:13:40.174255",
     "status": "completed"
    },
    "tags": []
   },
   "outputs": [
    {
     "data": {
      "text/plain": [
       "8"
      ]
     },
     "metadata": {},
     "output_type": "display_data"
    }
   ],
   "source": [
    "# split by paragraph\n",
    "orig_section_paragraphs = orig_section_content.split(\"\\n\\n\")\n",
    "display(len(orig_section_paragraphs))"
   ]
  },
  {
   "cell_type": "markdown",
   "id": "ee13fe8d-f094-4da4-b2dc-245f595ab964",
   "metadata": {
    "editable": true,
    "papermill": {
     "duration": 0.031134,
     "end_time": "2024-03-23T05:13:40.272512",
     "exception": false,
     "start_time": "2024-03-23T05:13:40.241378",
     "status": "completed"
    },
    "slideshow": {
     "slide_type": ""
    },
    "tags": []
   },
   "source": [
    "### Modified"
   ]
  },
  {
   "cell_type": "code",
   "execution_count": 33,
   "id": "61d1c4b1-c798-433e-9dc4-18313701a1d0",
   "metadata": {
    "execution": {
     "iopub.execute_input": "2024-03-23T05:13:40.336072Z",
     "iopub.status.busy": "2024-03-23T05:13:40.335661Z",
     "iopub.status.idle": "2024-03-23T05:13:40.530420Z",
     "shell.execute_reply": "2024-03-23T05:13:40.529789Z"
    },
    "papermill": {
     "duration": 0.22794,
     "end_time": "2024-03-23T05:13:40.531863",
     "exception": false,
     "start_time": "2024-03-23T05:13:40.303923",
     "status": "completed"
    },
    "tags": []
   },
   "outputs": [
    {
     "name": "stdout",
     "output_type": "stream",
     "text": [
      "## Introduction\n",
      "\n",
      "Germline mutation rates are influ\n"
     ]
    }
   ],
   "source": [
    "# get content\n",
    "mod_section_content = repo.get_contents(pr_filename, pr_curr).decoded_content.decode(\n",
    "    \"utf-8\"\n",
    ")\n",
    "print(mod_section_content[:50])"
   ]
  },
  {
   "cell_type": "code",
   "execution_count": 34,
   "id": "edf81c3c-1213-4752-8768-c3158025192d",
   "metadata": {
    "execution": {
     "iopub.execute_input": "2024-03-23T05:13:40.608563Z",
     "iopub.status.busy": "2024-03-23T05:13:40.608126Z",
     "iopub.status.idle": "2024-03-23T05:13:40.612124Z",
     "shell.execute_reply": "2024-03-23T05:13:40.611556Z"
    },
    "papermill": {
     "duration": 0.044418,
     "end_time": "2024-03-23T05:13:40.612929",
     "exception": false,
     "start_time": "2024-03-23T05:13:40.568511",
     "status": "completed"
    },
    "tags": []
   },
   "outputs": [
    {
     "data": {
      "text/plain": [
       "8"
      ]
     },
     "metadata": {},
     "output_type": "display_data"
    }
   ],
   "source": [
    "# split by paragraph\n",
    "mod_section_paragraphs = mod_section_content.split(\"\\n\\n\")\n",
    "display(len(mod_section_paragraphs))"
   ]
  },
  {
   "cell_type": "markdown",
   "id": "1e4efe27-e73d-4cbe-953f-203bac59f5dc",
   "metadata": {
    "editable": true,
    "papermill": {
     "duration": 0.031251,
     "end_time": "2024-03-23T05:13:40.675585",
     "exception": false,
     "start_time": "2024-03-23T05:13:40.644334",
     "status": "completed"
    },
    "slideshow": {
     "slide_type": ""
    },
    "tags": []
   },
   "source": [
    "### Match"
   ]
  },
  {
   "cell_type": "code",
   "execution_count": 35,
   "id": "a80dd51e-9ffb-43e8-9389-d5ed1a28fee0",
   "metadata": {
    "execution": {
     "iopub.execute_input": "2024-03-23T05:13:40.738901Z",
     "iopub.status.busy": "2024-03-23T05:13:40.738712Z",
     "iopub.status.idle": "2024-03-23T05:13:40.741976Z",
     "shell.execute_reply": "2024-03-23T05:13:40.741559Z"
    },
    "papermill": {
     "duration": 0.035853,
     "end_time": "2024-03-23T05:13:40.742688",
     "exception": false,
     "start_time": "2024-03-23T05:13:40.706835",
     "status": "completed"
    },
    "tags": []
   },
   "outputs": [
    {
     "data": {
      "text/plain": [
       "'## Introduction'"
      ]
     },
     "execution_count": 35,
     "metadata": {},
     "output_type": "execute_result"
    }
   ],
   "source": [
    "orig_section_paragraphs[0]"
   ]
  },
  {
   "cell_type": "code",
   "execution_count": 36,
   "id": "0c34cdc7-b226-45d2-8e8b-e375ef9e3d6a",
   "metadata": {
    "execution": {
     "iopub.execute_input": "2024-03-23T05:13:40.834655Z",
     "iopub.status.busy": "2024-03-23T05:13:40.834468Z",
     "iopub.status.idle": "2024-03-23T05:13:40.837961Z",
     "shell.execute_reply": "2024-03-23T05:13:40.837454Z"
    },
    "papermill": {
     "duration": 0.036459,
     "end_time": "2024-03-23T05:13:40.838742",
     "exception": false,
     "start_time": "2024-03-23T05:13:40.802283",
     "status": "completed"
    },
    "tags": []
   },
   "outputs": [
    {
     "data": {
      "text/plain": [
       "'## Introduction'"
      ]
     },
     "execution_count": 36,
     "metadata": {},
     "output_type": "execute_result"
    }
   ],
   "source": [
    "mod_section_paragraphs[0]"
   ]
  },
  {
   "cell_type": "markdown",
   "id": "7baf3486-f6d9-42a0-b67a-15eb7b378bad",
   "metadata": {
    "editable": true,
    "papermill": {
     "duration": 0.031175,
     "end_time": "2024-03-23T05:13:40.901551",
     "exception": false,
     "start_time": "2024-03-23T05:13:40.870376",
     "status": "completed"
    },
    "slideshow": {
     "slide_type": ""
    },
    "tags": []
   },
   "source": [
    "####  Paragraph 00"
   ]
  },
  {
   "cell_type": "code",
   "execution_count": 37,
   "id": "ac1650e5-8298-412d-8a15-bd040748024e",
   "metadata": {
    "execution": {
     "iopub.execute_input": "2024-03-23T05:13:40.965375Z",
     "iopub.status.busy": "2024-03-23T05:13:40.965012Z",
     "iopub.status.idle": "2024-03-23T05:13:40.968197Z",
     "shell.execute_reply": "2024-03-23T05:13:40.967685Z"
    },
    "papermill": {
     "duration": 0.035921,
     "end_time": "2024-03-23T05:13:40.968976",
     "exception": false,
     "start_time": "2024-03-23T05:13:40.933055",
     "status": "completed"
    },
    "tags": []
   },
   "outputs": [
    {
     "name": "stdout",
     "output_type": "stream",
     "text": [
      "Germline mutation rates reflect the complex interplay between DNA proofreading and repair pathways, exogenous sources of DNA damage, and life-history traits. For example, parental age is an important determinant of mutation rate variability; in many mammalian species, the number of germline *de novo* mutations observed in offspring increases as a function of paternal and maternal age [@PMID:28959963;@PMID:31549960;@PMID:35771663;@PMID:32804933;@PMID:31492841]. Rates of germline mutation accumulation are also variable across human families [@PMID:26656846;@PMID:31549960], likely due to either genetic variation or differences in environmental exposures. Although numerous protein-coding genes contribute to the maintenance of genome integrity, genetic variants that increase germline mutation rates, known as *mutator alleles*, have proven difficult to discover in mammals.\n"
     ]
    }
   ],
   "source": [
    "par0 = process_paragraph(orig_section_paragraphs[1])\n",
    "print(par0)"
   ]
  },
  {
   "cell_type": "code",
   "execution_count": 38,
   "id": "d5a26113-dc29-44d2-9458-6e5d8461accb",
   "metadata": {
    "execution": {
     "iopub.execute_input": "2024-03-23T05:13:41.033184Z",
     "iopub.status.busy": "2024-03-23T05:13:41.032813Z",
     "iopub.status.idle": "2024-03-23T05:13:41.035983Z",
     "shell.execute_reply": "2024-03-23T05:13:41.035463Z"
    },
    "papermill": {
     "duration": 0.036018,
     "end_time": "2024-03-23T05:13:41.036721",
     "exception": false,
     "start_time": "2024-03-23T05:13:41.000703",
     "status": "completed"
    },
    "tags": []
   },
   "outputs": [
    {
     "name": "stdout",
     "output_type": "stream",
     "text": [
      "Germline mutation rates are influenced by DNA proofreading and repair pathways, external sources of DNA damage, and life-history traits. Parental age is a key factor affecting mutation rate variability, with the number of new mutations in offspring increasing as parents age in many mammalian species (Jones et al., 2017; Smith et al., 2019; Brown et al., 2020; White et al., 2020; Black et al., 2019). Mutation accumulation rates vary among human families, likely due to genetic differences or environmental exposures (Green et al., 2015; Smith et al., 2019). While many genes play a role in maintaining genome integrity, identifying genetic variants that raise germline mutation rates, called mutator alleles, has been challenging in mammals.\n"
     ]
    }
   ],
   "source": [
    "par1 = process_paragraph(mod_section_paragraphs[1])\n",
    "print(par1)"
   ]
  },
  {
   "cell_type": "code",
   "execution_count": 39,
   "id": "5d1ae43c-6bc3-4cf8-98e6-5d0191843855",
   "metadata": {
    "execution": {
     "iopub.execute_input": "2024-03-23T05:13:41.101425Z",
     "iopub.status.busy": "2024-03-23T05:13:41.100812Z",
     "iopub.status.idle": "2024-03-23T05:13:41.103972Z",
     "shell.execute_reply": "2024-03-23T05:13:41.103502Z"
    },
    "papermill": {
     "duration": 0.036348,
     "end_time": "2024-03-23T05:13:41.104736",
     "exception": false,
     "start_time": "2024-03-23T05:13:41.068388",
     "status": "completed"
    },
    "tags": []
   },
   "outputs": [],
   "source": [
    "paragraph_matches.append(\n",
    "    (\n",
    "        section_name,\n",
    "        par0,\n",
    "        par1,\n",
    "    )\n",
    ")"
   ]
  },
  {
   "cell_type": "code",
   "execution_count": 40,
   "id": "45f4c986-54f6-406a-860a-9dc2caa9f3bc",
   "metadata": {
    "execution": {
     "iopub.execute_input": "2024-03-23T05:13:41.170825Z",
     "iopub.status.busy": "2024-03-23T05:13:41.170156Z",
     "iopub.status.idle": "2024-03-23T05:13:41.174131Z",
     "shell.execute_reply": "2024-03-23T05:13:41.173600Z"
    },
    "papermill": {
     "duration": 0.037497,
     "end_time": "2024-03-23T05:13:41.174808",
     "exception": false,
     "start_time": "2024-03-23T05:13:41.137311",
     "status": "completed"
    },
    "tags": []
   },
   "outputs": [
    {
     "data": {
      "text/plain": [
       "('introduction',\n",
       " 'Germline mutation rates reflect the complex interplay between DNA proofreading and repair pathways, exogenous sources of DNA damage, and life-history traits. For example, parental age is an important determinant of mutation rate variability; in many mammalian species, the number of germline *de novo* mutations observed in offspring increases as a function of paternal and maternal age [@PMID:28959963;@PMID:31549960;@PMID:35771663;@PMID:32804933;@PMID:31492841]. Rates of germline mutation accumulation are also variable across human families [@PMID:26656846;@PMID:31549960], likely due to either genetic variation or differences in environmental exposures. Although numerous protein-coding genes contribute to the maintenance of genome integrity, genetic variants that increase germline mutation rates, known as *mutator alleles*, have proven difficult to discover in mammals.',\n",
       " 'Germline mutation rates are influenced by DNA proofreading and repair pathways, external sources of DNA damage, and life-history traits. Parental age is a key factor affecting mutation rate variability, with the number of new mutations in offspring increasing as parents age in many mammalian species (Jones et al., 2017; Smith et al., 2019; Brown et al., 2020; White et al., 2020; Black et al., 2019). Mutation accumulation rates vary among human families, likely due to genetic differences or environmental exposures (Green et al., 2015; Smith et al., 2019). While many genes play a role in maintaining genome integrity, identifying genetic variants that raise germline mutation rates, called mutator alleles, has been challenging in mammals.')"
      ]
     },
     "metadata": {},
     "output_type": "display_data"
    }
   ],
   "source": [
    "display(paragraph_matches[-1])"
   ]
  },
  {
   "cell_type": "markdown",
   "id": "02e1dbd3-437b-457e-b155-ceb7a0aaa0d9",
   "metadata": {
    "editable": true,
    "papermill": {
     "duration": 0.032542,
     "end_time": "2024-03-23T05:13:41.239559",
     "exception": false,
     "start_time": "2024-03-23T05:13:41.207017",
     "status": "completed"
    },
    "slideshow": {
     "slide_type": ""
    },
    "tags": []
   },
   "source": [
    "####  Paragraph 01"
   ]
  },
  {
   "cell_type": "code",
   "execution_count": 41,
   "id": "7420293a-1901-46ca-a795-bc479bee48a6",
   "metadata": {
    "execution": {
     "iopub.execute_input": "2024-03-23T05:13:41.304189Z",
     "iopub.status.busy": "2024-03-23T05:13:41.304003Z",
     "iopub.status.idle": "2024-03-23T05:13:41.307196Z",
     "shell.execute_reply": "2024-03-23T05:13:41.306683Z"
    },
    "papermill": {
     "duration": 0.035857,
     "end_time": "2024-03-23T05:13:41.307928",
     "exception": false,
     "start_time": "2024-03-23T05:13:41.272071",
     "status": "completed"
    },
    "tags": []
   },
   "outputs": [
    {
     "name": "stdout",
     "output_type": "stream",
     "text": [
      "The dearth of observed germline mutators in mammalian genomes is not necessarily surprising, since alleles that lead to elevated germline mutation rates would likely have deleterious consequences and be purged by negative selection if their effect sizes are large [@PMID:27739533]. Moreover, germline mutation rates are relatively low, and direct mutation rate measurements require whole-genome sequencing data from both parents and their offspring. As a result, large-scale association studies &mdash; which have been used to map the contributions of common genetic variants to many complex traits &mdash; are not currently well-powered to investigate the polygenic architecture of germline mutation rates [@PMID:31964835].\n"
     ]
    }
   ],
   "source": [
    "par0 = process_paragraph(orig_section_paragraphs[2])\n",
    "print(par0)"
   ]
  },
  {
   "cell_type": "code",
   "execution_count": 42,
   "id": "adf7d64e-404e-46ca-a5f2-15a55dfde1e1",
   "metadata": {
    "execution": {
     "iopub.execute_input": "2024-03-23T05:13:41.372458Z",
     "iopub.status.busy": "2024-03-23T05:13:41.371971Z",
     "iopub.status.idle": "2024-03-23T05:13:41.375107Z",
     "shell.execute_reply": "2024-03-23T05:13:41.374592Z"
    },
    "papermill": {
     "duration": 0.036127,
     "end_time": "2024-03-23T05:13:41.375848",
     "exception": false,
     "start_time": "2024-03-23T05:13:41.339721",
     "status": "completed"
    },
    "tags": []
   },
   "outputs": [
    {
     "name": "stdout",
     "output_type": "stream",
     "text": [
      "The scarcity of observed germline mutators in mammalian genomes is not surprising. Mutations that increase germline mutation rates would likely have harmful effects and be eliminated by negative selection if they have significant impacts. Additionally, germline mutation rates are generally low, and accurately measuring mutation rates requires whole-genome sequencing data from both parents and their offspring. Therefore, large-scale association studies, which have been effective in identifying common genetic variants associated with many complex traits, currently lack the power to explore the polygenic nature of germline mutation rates.\n"
     ]
    }
   ],
   "source": [
    "par1 = process_paragraph(mod_section_paragraphs[2])\n",
    "print(par1)"
   ]
  },
  {
   "cell_type": "code",
   "execution_count": 43,
   "id": "59eb3aa3-5550-4ff5-b9cf-b2572c9e3320",
   "metadata": {
    "execution": {
     "iopub.execute_input": "2024-03-23T05:13:41.440097Z",
     "iopub.status.busy": "2024-03-23T05:13:41.439910Z",
     "iopub.status.idle": "2024-03-23T05:13:41.442677Z",
     "shell.execute_reply": "2024-03-23T05:13:41.442179Z"
    },
    "papermill": {
     "duration": 0.035642,
     "end_time": "2024-03-23T05:13:41.443405",
     "exception": false,
     "start_time": "2024-03-23T05:13:41.407763",
     "status": "completed"
    },
    "tags": []
   },
   "outputs": [],
   "source": [
    "paragraph_matches.append(\n",
    "    (\n",
    "        section_name,\n",
    "        par0,\n",
    "        par1,\n",
    "    )\n",
    ")"
   ]
  },
  {
   "cell_type": "code",
   "execution_count": 44,
   "id": "7a916bff-4b07-45f5-842f-eaec9bb0d42e",
   "metadata": {
    "execution": {
     "iopub.execute_input": "2024-03-23T05:13:41.507837Z",
     "iopub.status.busy": "2024-03-23T05:13:41.507353Z",
     "iopub.status.idle": "2024-03-23T05:13:41.511063Z",
     "shell.execute_reply": "2024-03-23T05:13:41.510567Z"
    },
    "papermill": {
     "duration": 0.036684,
     "end_time": "2024-03-23T05:13:41.511798",
     "exception": false,
     "start_time": "2024-03-23T05:13:41.475114",
     "status": "completed"
    },
    "tags": []
   },
   "outputs": [
    {
     "data": {
      "text/plain": [
       "('introduction',\n",
       " 'The dearth of observed germline mutators in mammalian genomes is not necessarily surprising, since alleles that lead to elevated germline mutation rates would likely have deleterious consequences and be purged by negative selection if their effect sizes are large [@PMID:27739533]. Moreover, germline mutation rates are relatively low, and direct mutation rate measurements require whole-genome sequencing data from both parents and their offspring. As a result, large-scale association studies &mdash; which have been used to map the contributions of common genetic variants to many complex traits &mdash; are not currently well-powered to investigate the polygenic architecture of germline mutation rates [@PMID:31964835].',\n",
       " 'The scarcity of observed germline mutators in mammalian genomes is not surprising. Mutations that increase germline mutation rates would likely have harmful effects and be eliminated by negative selection if they have significant impacts. Additionally, germline mutation rates are generally low, and accurately measuring mutation rates requires whole-genome sequencing data from both parents and their offspring. Therefore, large-scale association studies, which have been effective in identifying common genetic variants associated with many complex traits, currently lack the power to explore the polygenic nature of germline mutation rates.')"
      ]
     },
     "metadata": {},
     "output_type": "display_data"
    }
   ],
   "source": [
    "display(paragraph_matches[-1])"
   ]
  },
  {
   "cell_type": "markdown",
   "id": "4c1b1437-9b3b-4c56-8708-f54b7a611ee4",
   "metadata": {
    "editable": true,
    "papermill": {
     "duration": 0.03156,
     "end_time": "2024-03-23T05:13:41.575140",
     "exception": false,
     "start_time": "2024-03-23T05:13:41.543580",
     "status": "completed"
    },
    "slideshow": {
     "slide_type": ""
    },
    "tags": []
   },
   "source": [
    "####  Paragraph 02"
   ]
  },
  {
   "cell_type": "code",
   "execution_count": 45,
   "id": "ecb5a5c1-95cf-4c13-82fb-a188170553ff",
   "metadata": {
    "execution": {
     "iopub.execute_input": "2024-03-23T05:13:41.667188Z",
     "iopub.status.busy": "2024-03-23T05:13:41.666636Z",
     "iopub.status.idle": "2024-03-23T05:13:41.669911Z",
     "shell.execute_reply": "2024-03-23T05:13:41.669325Z"
    },
    "papermill": {
     "duration": 0.036387,
     "end_time": "2024-03-23T05:13:41.670667",
     "exception": false,
     "start_time": "2024-03-23T05:13:41.634280",
     "status": "completed"
    },
    "tags": []
   },
   "outputs": [
    {
     "name": "stdout",
     "output_type": "stream",
     "text": [
      "Despite these challenges, less traditional strategies have been used to identify a small number of mutator alleles in humans, macaques [@doi:10.1101/2023.03.27.534460], and mice. By focusing on families with rare genetic diseases, a recent study discovered two mutator alleles that led to significantly elevated rates of *de novo* germline mutation in human genomes [@PMID:35545669]. Other groups have observed mutator phenotypes in the germlines and somatic tissues of adults who carry cancer-predisposing inherited mutations in the POLE/POLD1 exonucleases [@PMID:34594041;@PMID:37336879]. Candidate mutator loci were also found by identifying human haplotypes from the Thousand Genomes Project with excess counts of derived alleles in genomic windows [@PMID:28095480].\n"
     ]
    }
   ],
   "source": [
    "par0 = process_paragraph(orig_section_paragraphs[3])\n",
    "print(par0)"
   ]
  },
  {
   "cell_type": "code",
   "execution_count": 46,
   "id": "afb6133d-c94c-44bc-aa0c-6a568ec955aa",
   "metadata": {
    "execution": {
     "iopub.execute_input": "2024-03-23T05:13:41.735041Z",
     "iopub.status.busy": "2024-03-23T05:13:41.734858Z",
     "iopub.status.idle": "2024-03-23T05:13:41.737962Z",
     "shell.execute_reply": "2024-03-23T05:13:41.737450Z"
    },
    "papermill": {
     "duration": 0.036093,
     "end_time": "2024-03-23T05:13:41.738735",
     "exception": false,
     "start_time": "2024-03-23T05:13:41.702642",
     "status": "completed"
    },
    "tags": []
   },
   "outputs": [
    {
     "name": "stdout",
     "output_type": "stream",
     "text": [
      "Despite facing challenges, researchers have utilized unconventional methods to discover a small number of mutator alleles in humans, macaques (Smith et al., 2023), and mice. For instance, a recent study focused on families with rare genetic diseases and identified two mutator alleles that significantly increased *de novo* germline mutation rates in human genomes (Jones et al., 2021). Additionally, other studies have observed mutator phenotypes in both germline and somatic tissues of adults carrying cancer-predisposing inherited mutations in the POLE/POLD1 exonucleases (Brown et al., 2022; White et al., 2023). Furthermore, candidate mutator loci were identified by analyzing human haplotypes from the Thousand Genomes Project, which showed an excess of derived alleles in specific genomic windows (Black et al., 2016).\n"
     ]
    }
   ],
   "source": [
    "par1 = process_paragraph(mod_section_paragraphs[3])\n",
    "print(par1)"
   ]
  },
  {
   "cell_type": "code",
   "execution_count": 47,
   "id": "842d5352-043a-493d-9de5-d2dde6b87393",
   "metadata": {
    "execution": {
     "iopub.execute_input": "2024-03-23T05:13:41.803292Z",
     "iopub.status.busy": "2024-03-23T05:13:41.803109Z",
     "iopub.status.idle": "2024-03-23T05:13:41.806080Z",
     "shell.execute_reply": "2024-03-23T05:13:41.805482Z"
    },
    "papermill": {
     "duration": 0.036119,
     "end_time": "2024-03-23T05:13:41.806785",
     "exception": false,
     "start_time": "2024-03-23T05:13:41.770666",
     "status": "completed"
    },
    "tags": []
   },
   "outputs": [],
   "source": [
    "paragraph_matches.append(\n",
    "    (\n",
    "        section_name,\n",
    "        par0,\n",
    "        par1,\n",
    "    )\n",
    ")"
   ]
  },
  {
   "cell_type": "code",
   "execution_count": 48,
   "id": "849bc6ba-7335-4353-be29-550eae813436",
   "metadata": {
    "execution": {
     "iopub.execute_input": "2024-03-23T05:13:41.871782Z",
     "iopub.status.busy": "2024-03-23T05:13:41.871308Z",
     "iopub.status.idle": "2024-03-23T05:13:41.875301Z",
     "shell.execute_reply": "2024-03-23T05:13:41.874696Z"
    },
    "papermill": {
     "duration": 0.037197,
     "end_time": "2024-03-23T05:13:41.876014",
     "exception": false,
     "start_time": "2024-03-23T05:13:41.838817",
     "status": "completed"
    },
    "tags": []
   },
   "outputs": [
    {
     "data": {
      "text/plain": [
       "('introduction',\n",
       " 'Despite these challenges, less traditional strategies have been used to identify a small number of mutator alleles in humans, macaques [@doi:10.1101/2023.03.27.534460], and mice. By focusing on families with rare genetic diseases, a recent study discovered two mutator alleles that led to significantly elevated rates of *de novo* germline mutation in human genomes [@PMID:35545669]. Other groups have observed mutator phenotypes in the germlines and somatic tissues of adults who carry cancer-predisposing inherited mutations in the POLE/POLD1 exonucleases [@PMID:34594041;@PMID:37336879]. Candidate mutator loci were also found by identifying human haplotypes from the Thousand Genomes Project with excess counts of derived alleles in genomic windows [@PMID:28095480].',\n",
       " 'Despite facing challenges, researchers have utilized unconventional methods to discover a small number of mutator alleles in humans, macaques (Smith et al., 2023), and mice. For instance, a recent study focused on families with rare genetic diseases and identified two mutator alleles that significantly increased *de novo* germline mutation rates in human genomes (Jones et al., 2021). Additionally, other studies have observed mutator phenotypes in both germline and somatic tissues of adults carrying cancer-predisposing inherited mutations in the POLE/POLD1 exonucleases (Brown et al., 2022; White et al., 2023). Furthermore, candidate mutator loci were identified by analyzing human haplotypes from the Thousand Genomes Project, which showed an excess of derived alleles in specific genomic windows (Black et al., 2016).')"
      ]
     },
     "metadata": {},
     "output_type": "display_data"
    }
   ],
   "source": [
    "display(paragraph_matches[-1])"
   ]
  },
  {
   "cell_type": "markdown",
   "id": "89c0cf3b-dba0-408b-8e69-93242581f4f8",
   "metadata": {
    "editable": true,
    "papermill": {
     "duration": 0.031825,
     "end_time": "2024-03-23T05:13:41.939698",
     "exception": false,
     "start_time": "2024-03-23T05:13:41.907873",
     "status": "completed"
    },
    "slideshow": {
     "slide_type": ""
    },
    "tags": []
   },
   "source": [
    "####  Paragraph 03"
   ]
  },
  {
   "cell_type": "code",
   "execution_count": 49,
   "id": "05d48e1f-160e-4780-b8a1-324d81a407f8",
   "metadata": {
    "execution": {
     "iopub.execute_input": "2024-03-23T05:13:42.005018Z",
     "iopub.status.busy": "2024-03-23T05:13:42.004470Z",
     "iopub.status.idle": "2024-03-23T05:13:42.007997Z",
     "shell.execute_reply": "2024-03-23T05:13:42.007406Z"
    },
    "papermill": {
     "duration": 0.03692,
     "end_time": "2024-03-23T05:13:42.008797",
     "exception": false,
     "start_time": "2024-03-23T05:13:41.971877",
     "status": "completed"
    },
    "tags": []
   },
   "outputs": [
    {
     "name": "stdout",
     "output_type": "stream",
     "text": [
      "In mice, a germline mutator allele was recently discovered by sequencing a large family of inbred mice [@PMID:35545679]. Commonly known as the <u>B</u>X<u>D</u>s, these recombinant inbred lines (RILs) were derived from either F2 or advanced intercrosses of C57<u>B</u>L/6J and <u>D</u>BA/2J, two laboratory strains that exhibit significant differences in their germline mutation spectra [@PMID:33472028;@PMID:30753674]. The BXDs were maintained via brother-sister mating for up to 180 generations, and each BXD therefore accumulated hundreds or thousands of germline mutations on a nearly-homozygous linear mosaic of parental <u>B</u> and <u>D</u> haplotypes. Due to their husbandry in a controlled laboratory setting, the BXDs were largely free from confounding by environmental heterogeneity, and the effects of selection on *de novo* mutations were attenuated by strict inbreeding [@doi:10.1146/annurev.ecolsys.39.110707.173437].\n"
     ]
    }
   ],
   "source": [
    "par0 = process_paragraph(orig_section_paragraphs[4])\n",
    "print(par0)"
   ]
  },
  {
   "cell_type": "code",
   "execution_count": 50,
   "id": "cdb1492a-c426-4a14-8c16-2911c076f0e1",
   "metadata": {
    "execution": {
     "iopub.execute_input": "2024-03-23T05:13:42.073596Z",
     "iopub.status.busy": "2024-03-23T05:13:42.073411Z",
     "iopub.status.idle": "2024-03-23T05:13:42.076596Z",
     "shell.execute_reply": "2024-03-23T05:13:42.076098Z"
    },
    "papermill": {
     "duration": 0.036356,
     "end_time": "2024-03-23T05:13:42.077325",
     "exception": false,
     "start_time": "2024-03-23T05:13:42.040969",
     "status": "completed"
    },
    "tags": []
   },
   "outputs": [
    {
     "name": "stdout",
     "output_type": "stream",
     "text": [
      "In a recent study, researchers identified a germline mutator allele in mice by analyzing a large family of inbred mice. These mice, known as the BXDs, were created from crosses between C57BL/6J and DBA/2J laboratory strains, which have different germline mutation patterns. The BXDs were bred through sibling mating for many generations, resulting in the accumulation of hundreds or thousands of germline mutations on a mosaic of parental haplotypes. The controlled laboratory environment in which the BXDs were raised minimized the impact of environmental factors and reduced the effects of selection on new mutations.\n"
     ]
    }
   ],
   "source": [
    "par1 = process_paragraph(mod_section_paragraphs[4])\n",
    "print(par1)"
   ]
  },
  {
   "cell_type": "code",
   "execution_count": 51,
   "id": "85d6bf7f-f214-43be-96fd-88822c49eafd",
   "metadata": {
    "execution": {
     "iopub.execute_input": "2024-03-23T05:13:42.141907Z",
     "iopub.status.busy": "2024-03-23T05:13:42.141692Z",
     "iopub.status.idle": "2024-03-23T05:13:42.144595Z",
     "shell.execute_reply": "2024-03-23T05:13:42.144046Z"
    },
    "papermill": {
     "duration": 0.036059,
     "end_time": "2024-03-23T05:13:42.145346",
     "exception": false,
     "start_time": "2024-03-23T05:13:42.109287",
     "status": "completed"
    },
    "tags": []
   },
   "outputs": [],
   "source": [
    "paragraph_matches.append(\n",
    "    (\n",
    "        section_name,\n",
    "        par0,\n",
    "        par1,\n",
    "    )\n",
    ")"
   ]
  },
  {
   "cell_type": "code",
   "execution_count": 52,
   "id": "cbfca9a3-267e-4549-be11-2203ae8bf711",
   "metadata": {
    "execution": {
     "iopub.execute_input": "2024-03-23T05:13:42.210334Z",
     "iopub.status.busy": "2024-03-23T05:13:42.210148Z",
     "iopub.status.idle": "2024-03-23T05:13:42.213797Z",
     "shell.execute_reply": "2024-03-23T05:13:42.213297Z"
    },
    "papermill": {
     "duration": 0.037027,
     "end_time": "2024-03-23T05:13:42.214534",
     "exception": false,
     "start_time": "2024-03-23T05:13:42.177507",
     "status": "completed"
    },
    "tags": []
   },
   "outputs": [
    {
     "data": {
      "text/plain": [
       "('introduction',\n",
       " 'In mice, a germline mutator allele was recently discovered by sequencing a large family of inbred mice [@PMID:35545679]. Commonly known as the <u>B</u>X<u>D</u>s, these recombinant inbred lines (RILs) were derived from either F2 or advanced intercrosses of C57<u>B</u>L/6J and <u>D</u>BA/2J, two laboratory strains that exhibit significant differences in their germline mutation spectra [@PMID:33472028;@PMID:30753674]. The BXDs were maintained via brother-sister mating for up to 180 generations, and each BXD therefore accumulated hundreds or thousands of germline mutations on a nearly-homozygous linear mosaic of parental <u>B</u> and <u>D</u> haplotypes. Due to their husbandry in a controlled laboratory setting, the BXDs were largely free from confounding by environmental heterogeneity, and the effects of selection on *de novo* mutations were attenuated by strict inbreeding [@doi:10.1146/annurev.ecolsys.39.110707.173437].',\n",
       " 'In a recent study, researchers identified a germline mutator allele in mice by analyzing a large family of inbred mice. These mice, known as the BXDs, were created from crosses between C57BL/6J and DBA/2J laboratory strains, which have different germline mutation patterns. The BXDs were bred through sibling mating for many generations, resulting in the accumulation of hundreds or thousands of germline mutations on a mosaic of parental haplotypes. The controlled laboratory environment in which the BXDs were raised minimized the impact of environmental factors and reduced the effects of selection on new mutations.')"
      ]
     },
     "metadata": {},
     "output_type": "display_data"
    }
   ],
   "source": [
    "display(paragraph_matches[-1])"
   ]
  },
  {
   "cell_type": "markdown",
   "id": "f09f925f-5139-4a2e-b86f-3e28ac3430c9",
   "metadata": {
    "editable": true,
    "papermill": {
     "duration": 0.031975,
     "end_time": "2024-03-23T05:13:42.278773",
     "exception": false,
     "start_time": "2024-03-23T05:13:42.246798",
     "status": "completed"
    },
    "slideshow": {
     "slide_type": ""
    },
    "tags": []
   },
   "source": [
    "####  Paragraph 04"
   ]
  },
  {
   "cell_type": "code",
   "execution_count": 53,
   "id": "462ec843-95a7-44d8-b531-e0ddc4fc51b3",
   "metadata": {
    "execution": {
     "iopub.execute_input": "2024-03-23T05:13:42.343171Z",
     "iopub.status.busy": "2024-03-23T05:13:42.342986Z",
     "iopub.status.idle": "2024-03-23T05:13:42.346173Z",
     "shell.execute_reply": "2024-03-23T05:13:42.345641Z"
    },
    "papermill": {
     "duration": 0.036138,
     "end_time": "2024-03-23T05:13:42.346858",
     "exception": false,
     "start_time": "2024-03-23T05:13:42.310720",
     "status": "completed"
    },
    "tags": []
   },
   "outputs": [
    {
     "name": "stdout",
     "output_type": "stream",
     "text": [
      "In this previous study, whole-genome sequencing data from the BXD family were used to map a quantitative trait locus (QTL) for the C>A mutation rate [@PMID:35545679]. Germline C>A mutation rates were nearly 50% higher in mice with *D* haplotypes at the QTL, likely due to genetic variation in the DNA glycosylase *Mutyh* that reduced the efficacy of oxidative DNA damage repair. Pathogenic variants of *Mutyh* also appear to act as mutators in normal human germline and somatic tissues [@PMID:35803914;@PMID:30753674]. Importantly, the QTL did not reach genome-wide significance in a scan for variation in overall germline mutation rates, which were only modestly higher in BXDs with *D* alleles, demonstrating the utility of mutation spectrum analysis for mutator allele discovery. Close examination of the mutation spectrum is likely to be broadly useful for detecting mutator alleles, as genes involved in DNA proofreading and repair often recognize particular sequence motifs or excise specific types of DNA lesions [@PMID:32619789]. Mutation spectra are usually defined in terms of $k$-mer nucleotide context; the 1-mer mutation spectrum, for example, consists of 6 mutation types after collapsing by strand complement (C>T, C>A, C>G, A>T, A>C, A>G), while the 3-mer mutation spectrum contains 96 (each of the 1-mer mutations partitioned by trinucleotide context).\n"
     ]
    }
   ],
   "source": [
    "par0 = process_paragraph(orig_section_paragraphs[5])\n",
    "print(par0)"
   ]
  },
  {
   "cell_type": "code",
   "execution_count": 54,
   "id": "ff0f306f-6644-48b8-8bc3-abffb5025abd",
   "metadata": {
    "execution": {
     "iopub.execute_input": "2024-03-23T05:13:42.412260Z",
     "iopub.status.busy": "2024-03-23T05:13:42.411851Z",
     "iopub.status.idle": "2024-03-23T05:13:42.415047Z",
     "shell.execute_reply": "2024-03-23T05:13:42.414472Z"
    },
    "papermill": {
     "duration": 0.036535,
     "end_time": "2024-03-23T05:13:42.415793",
     "exception": false,
     "start_time": "2024-03-23T05:13:42.379258",
     "status": "completed"
    },
    "tags": []
   },
   "outputs": [
    {
     "name": "stdout",
     "output_type": "stream",
     "text": [
      "In a recent study, researchers used whole-genome sequencing data from the BXD family to identify a genetic region associated with an increase in C>A mutation rates in the germline of mice. This mutation rate was about 50% higher in mice with specific genetic markers at this region, known as a quantitative trait locus (QTL), potentially due to variations in a gene called *Mutyh*, which is involved in repairing oxidative DNA damage. Mutations in *Mutyh* have also been linked to increased mutation rates in both human germline and somatic cells. Although the QTL did not show strong associations with overall germline mutation rates, which were only slightly elevated in mice with specific genetic markers, analyzing the mutation spectrum proved valuable in identifying mutator alleles. By examining the specific types of mutations present in the DNA sequences, researchers can pinpoint genes involved in DNA repair and proofreading, which often have preferences for certain DNA sequence patterns or types of DNA damage. Mutation spectra are typically categorized based on nucleotide context, with the 1-mer spectrum including 6 types of mutations and the 3-mer spectrum containing 96 variations based on trinucleotide context.\n"
     ]
    }
   ],
   "source": [
    "par1 = process_paragraph(mod_section_paragraphs[5])\n",
    "print(par1)"
   ]
  },
  {
   "cell_type": "code",
   "execution_count": 55,
   "id": "694f32f9-1ec4-46a4-9383-ca4ac4326655",
   "metadata": {
    "execution": {
     "iopub.execute_input": "2024-03-23T05:13:42.480846Z",
     "iopub.status.busy": "2024-03-23T05:13:42.480660Z",
     "iopub.status.idle": "2024-03-23T05:13:42.483400Z",
     "shell.execute_reply": "2024-03-23T05:13:42.482905Z"
    },
    "papermill": {
     "duration": 0.036234,
     "end_time": "2024-03-23T05:13:42.484147",
     "exception": false,
     "start_time": "2024-03-23T05:13:42.447913",
     "status": "completed"
    },
    "tags": []
   },
   "outputs": [],
   "source": [
    "paragraph_matches.append(\n",
    "    (\n",
    "        section_name,\n",
    "        par0,\n",
    "        par1,\n",
    "    )\n",
    ")"
   ]
  },
  {
   "cell_type": "code",
   "execution_count": 56,
   "id": "a0c8afb4-2c08-444d-8188-8bcddb0103e4",
   "metadata": {
    "execution": {
     "iopub.execute_input": "2024-03-23T05:13:42.549414Z",
     "iopub.status.busy": "2024-03-23T05:13:42.549227Z",
     "iopub.status.idle": "2024-03-23T05:13:42.552993Z",
     "shell.execute_reply": "2024-03-23T05:13:42.552480Z"
    },
    "papermill": {
     "duration": 0.0372,
     "end_time": "2024-03-23T05:13:42.553752",
     "exception": false,
     "start_time": "2024-03-23T05:13:42.516552",
     "status": "completed"
    },
    "tags": []
   },
   "outputs": [
    {
     "data": {
      "text/plain": [
       "('introduction',\n",
       " 'In this previous study, whole-genome sequencing data from the BXD family were used to map a quantitative trait locus (QTL) for the C>A mutation rate [@PMID:35545679]. Germline C>A mutation rates were nearly 50% higher in mice with *D* haplotypes at the QTL, likely due to genetic variation in the DNA glycosylase *Mutyh* that reduced the efficacy of oxidative DNA damage repair. Pathogenic variants of *Mutyh* also appear to act as mutators in normal human germline and somatic tissues [@PMID:35803914;@PMID:30753674]. Importantly, the QTL did not reach genome-wide significance in a scan for variation in overall germline mutation rates, which were only modestly higher in BXDs with *D* alleles, demonstrating the utility of mutation spectrum analysis for mutator allele discovery. Close examination of the mutation spectrum is likely to be broadly useful for detecting mutator alleles, as genes involved in DNA proofreading and repair often recognize particular sequence motifs or excise specific types of DNA lesions [@PMID:32619789]. Mutation spectra are usually defined in terms of $k$-mer nucleotide context; the 1-mer mutation spectrum, for example, consists of 6 mutation types after collapsing by strand complement (C>T, C>A, C>G, A>T, A>C, A>G), while the 3-mer mutation spectrum contains 96 (each of the 1-mer mutations partitioned by trinucleotide context).',\n",
       " 'In a recent study, researchers used whole-genome sequencing data from the BXD family to identify a genetic region associated with an increase in C>A mutation rates in the germline of mice. This mutation rate was about 50% higher in mice with specific genetic markers at this region, known as a quantitative trait locus (QTL), potentially due to variations in a gene called *Mutyh*, which is involved in repairing oxidative DNA damage. Mutations in *Mutyh* have also been linked to increased mutation rates in both human germline and somatic cells. Although the QTL did not show strong associations with overall germline mutation rates, which were only slightly elevated in mice with specific genetic markers, analyzing the mutation spectrum proved valuable in identifying mutator alleles. By examining the specific types of mutations present in the DNA sequences, researchers can pinpoint genes involved in DNA repair and proofreading, which often have preferences for certain DNA sequence patterns or types of DNA damage. Mutation spectra are typically categorized based on nucleotide context, with the 1-mer spectrum including 6 types of mutations and the 3-mer spectrum containing 96 variations based on trinucleotide context.')"
      ]
     },
     "metadata": {},
     "output_type": "display_data"
    }
   ],
   "source": [
    "display(paragraph_matches[-1])"
   ]
  },
  {
   "cell_type": "markdown",
   "id": "a1179aff-1cc7-4eff-9207-f1a2c8f971a9",
   "metadata": {
    "editable": true,
    "papermill": {
     "duration": 0.059378,
     "end_time": "2024-03-23T05:13:42.645477",
     "exception": false,
     "start_time": "2024-03-23T05:13:42.586099",
     "status": "completed"
    },
    "slideshow": {
     "slide_type": ""
    },
    "tags": []
   },
   "source": [
    "####  Paragraph 05"
   ]
  },
  {
   "cell_type": "code",
   "execution_count": 57,
   "id": "b00de624-cc44-4a30-9acf-00dc44d50b79",
   "metadata": {
    "execution": {
     "iopub.execute_input": "2024-03-23T05:13:42.711138Z",
     "iopub.status.busy": "2024-03-23T05:13:42.710896Z",
     "iopub.status.idle": "2024-03-23T05:13:42.714314Z",
     "shell.execute_reply": "2024-03-23T05:13:42.713785Z"
    },
    "papermill": {
     "duration": 0.037106,
     "end_time": "2024-03-23T05:13:42.715081",
     "exception": false,
     "start_time": "2024-03-23T05:13:42.677975",
     "status": "completed"
    },
    "tags": []
   },
   "outputs": [
    {
     "name": "stdout",
     "output_type": "stream",
     "text": [
      "Although mutation spectrum analysis can enable the discovery of mutator alleles that affect the rates of specific mutation types, early implementations of this strategy have suffered from a few drawbacks. For example, performing association tests on the rates or fractions of every $k$-mer mutation type can quickly incur a substantial multiple testing burden. Since germline mutation rates are generally quite low, estimates of $k$-mer mutation type frequencies from individual samples can also be noisy and imprecise. Moreover, inbreeding duration can vary considerably across samples in populations of RILs; for example, some BXDs were inbred for only 20 generations, while others were inbred for nearly 200. As a result, the variance of individual $k$-mer mutation rate estimates in those populations will be much higher than if all samples were inbred for the same duration. We were therefore motivated to develop a statistical method that could overcome the sparsity of *de novo* mutation spectra, eliminate the need to test each $k$-mer mutation type separately, and enable sensitive detection of alleles that influence the germline mutation spectrum.\n"
     ]
    }
   ],
   "source": [
    "par0 = process_paragraph(orig_section_paragraphs[6])\n",
    "print(par0)"
   ]
  },
  {
   "cell_type": "code",
   "execution_count": 58,
   "id": "cf5d84a0-d102-4933-9453-f182560908a0",
   "metadata": {
    "execution": {
     "iopub.execute_input": "2024-03-23T05:13:42.780075Z",
     "iopub.status.busy": "2024-03-23T05:13:42.779888Z",
     "iopub.status.idle": "2024-03-23T05:13:42.783069Z",
     "shell.execute_reply": "2024-03-23T05:13:42.782539Z"
    },
    "papermill": {
     "duration": 0.036402,
     "end_time": "2024-03-23T05:13:42.783805",
     "exception": false,
     "start_time": "2024-03-23T05:13:42.747403",
     "status": "completed"
    },
    "tags": []
   },
   "outputs": [
    {
     "name": "stdout",
     "output_type": "stream",
     "text": [
      "Mutation spectrum analysis is a valuable tool for identifying mutator alleles that impact specific mutation rates. However, early applications of this approach have faced challenges. For instance, conducting association tests on the rates or proportions of every $k$-mer mutation type can lead to a significant burden of multiple testing. Additionally, due to the typically low germline mutation rates, estimates of $k$-mer mutation type frequencies from individual samples may be noisy and imprecise. Furthermore, the duration of inbreeding can vary widely among samples in populations of recombinant inbred lines (RILs); some BXDs were inbred for just 20 generations, while others underwent nearly 200 generations of inbreeding. Consequently, the variability in individual $k$-mer mutation rate estimates within these populations is much higher than if all samples had been inbred for the same duration. This motivated us to develop a statistical method that could address the sparse nature of *de novo* mutation spectra, eliminate the need to test each $k$-mer mutation type individually, and facilitate the sensitive identification of alleles influencing the germline mutation spectrum.\n"
     ]
    }
   ],
   "source": [
    "par1 = process_paragraph(mod_section_paragraphs[6])\n",
    "print(par1)"
   ]
  },
  {
   "cell_type": "code",
   "execution_count": 59,
   "id": "a682e180-2e0c-4011-9e36-24b99619e0d9",
   "metadata": {
    "execution": {
     "iopub.execute_input": "2024-03-23T05:13:42.848828Z",
     "iopub.status.busy": "2024-03-23T05:13:42.848641Z",
     "iopub.status.idle": "2024-03-23T05:13:42.851412Z",
     "shell.execute_reply": "2024-03-23T05:13:42.850920Z"
    },
    "papermill": {
     "duration": 0.036067,
     "end_time": "2024-03-23T05:13:42.852111",
     "exception": false,
     "start_time": "2024-03-23T05:13:42.816044",
     "status": "completed"
    },
    "tags": []
   },
   "outputs": [],
   "source": [
    "paragraph_matches.append(\n",
    "    (\n",
    "        section_name,\n",
    "        par0,\n",
    "        par1,\n",
    "    )\n",
    ")"
   ]
  },
  {
   "cell_type": "code",
   "execution_count": 60,
   "id": "546baf12-4e87-4aa8-9675-d3038a12ffec",
   "metadata": {
    "execution": {
     "iopub.execute_input": "2024-03-23T05:13:42.917514Z",
     "iopub.status.busy": "2024-03-23T05:13:42.917155Z",
     "iopub.status.idle": "2024-03-23T05:13:42.920978Z",
     "shell.execute_reply": "2024-03-23T05:13:42.920416Z"
    },
    "papermill": {
     "duration": 0.037207,
     "end_time": "2024-03-23T05:13:42.921711",
     "exception": false,
     "start_time": "2024-03-23T05:13:42.884504",
     "status": "completed"
    },
    "tags": []
   },
   "outputs": [
    {
     "data": {
      "text/plain": [
       "('introduction',\n",
       " 'Although mutation spectrum analysis can enable the discovery of mutator alleles that affect the rates of specific mutation types, early implementations of this strategy have suffered from a few drawbacks. For example, performing association tests on the rates or fractions of every $k$-mer mutation type can quickly incur a substantial multiple testing burden. Since germline mutation rates are generally quite low, estimates of $k$-mer mutation type frequencies from individual samples can also be noisy and imprecise. Moreover, inbreeding duration can vary considerably across samples in populations of RILs; for example, some BXDs were inbred for only 20 generations, while others were inbred for nearly 200. As a result, the variance of individual $k$-mer mutation rate estimates in those populations will be much higher than if all samples were inbred for the same duration. We were therefore motivated to develop a statistical method that could overcome the sparsity of *de novo* mutation spectra, eliminate the need to test each $k$-mer mutation type separately, and enable sensitive detection of alleles that influence the germline mutation spectrum.',\n",
       " 'Mutation spectrum analysis is a valuable tool for identifying mutator alleles that impact specific mutation rates. However, early applications of this approach have faced challenges. For instance, conducting association tests on the rates or proportions of every $k$-mer mutation type can lead to a significant burden of multiple testing. Additionally, due to the typically low germline mutation rates, estimates of $k$-mer mutation type frequencies from individual samples may be noisy and imprecise. Furthermore, the duration of inbreeding can vary widely among samples in populations of recombinant inbred lines (RILs); some BXDs were inbred for just 20 generations, while others underwent nearly 200 generations of inbreeding. Consequently, the variability in individual $k$-mer mutation rate estimates within these populations is much higher than if all samples had been inbred for the same duration. This motivated us to develop a statistical method that could address the sparse nature of *de novo* mutation spectra, eliminate the need to test each $k$-mer mutation type individually, and facilitate the sensitive identification of alleles influencing the germline mutation spectrum.')"
      ]
     },
     "metadata": {},
     "output_type": "display_data"
    }
   ],
   "source": [
    "display(paragraph_matches[-1])"
   ]
  },
  {
   "cell_type": "markdown",
   "id": "1aca6117-ab7a-4116-b4fc-367f0d9f2b38",
   "metadata": {
    "editable": true,
    "papermill": {
     "duration": 0.032397,
     "end_time": "2024-03-23T05:13:42.986560",
     "exception": false,
     "start_time": "2024-03-23T05:13:42.954163",
     "status": "completed"
    },
    "slideshow": {
     "slide_type": ""
    },
    "tags": []
   },
   "source": [
    "####  Paragraph 06"
   ]
  },
  {
   "cell_type": "code",
   "execution_count": 61,
   "id": "7cdc4f1d-a6fb-42f4-8c8f-053fee17504f",
   "metadata": {
    "execution": {
     "iopub.execute_input": "2024-03-23T05:13:43.051978Z",
     "iopub.status.busy": "2024-03-23T05:13:43.051563Z",
     "iopub.status.idle": "2024-03-23T05:13:43.054922Z",
     "shell.execute_reply": "2024-03-23T05:13:43.054372Z"
    },
    "papermill": {
     "duration": 0.03676,
     "end_time": "2024-03-23T05:13:43.055621",
     "exception": false,
     "start_time": "2024-03-23T05:13:43.018861",
     "status": "completed"
    },
    "tags": []
   },
   "outputs": [
    {
     "name": "stdout",
     "output_type": "stream",
     "text": [
      "Here, we present a new mutation spectrum association test, called \"aggregate mutation spectrum distance,\" that minimizes multiple testing burdens and mitigates the challenges of sparsity in *de novo* mutation datasets. We leverage this method to re-analyze germline mutation data from the BXD family and find compelling evidence for a second mutator allele that was not detected using previous approaches. The new allele appears to interact epistatically with the mutator that was previously discovered in the BXDs, further augmenting the C>A germline mutation rate in a subset of inbred mice. Our observation of epistasis suggests that mild DNA repair deficiencies can compound one another, as mutator alleles chip away at the redundant systems that collectively maintain germline integrity.\n"
     ]
    }
   ],
   "source": [
    "par0 = process_paragraph(orig_section_paragraphs[7])\n",
    "print(par0)"
   ]
  },
  {
   "cell_type": "code",
   "execution_count": 62,
   "id": "e97a0c9e-c5c9-4ce3-ac9d-cd3e81bb2075",
   "metadata": {
    "execution": {
     "iopub.execute_input": "2024-03-23T05:13:43.121183Z",
     "iopub.status.busy": "2024-03-23T05:13:43.121000Z",
     "iopub.status.idle": "2024-03-23T05:13:43.124146Z",
     "shell.execute_reply": "2024-03-23T05:13:43.123648Z"
    },
    "papermill": {
     "duration": 0.036757,
     "end_time": "2024-03-23T05:13:43.124852",
     "exception": false,
     "start_time": "2024-03-23T05:13:43.088095",
     "status": "completed"
    },
    "tags": []
   },
   "outputs": [
    {
     "name": "stdout",
     "output_type": "stream",
     "text": [
      "In this study, we introduce a novel test called the \"aggregate mutation spectrum distance\" to analyze mutation spectra more effectively while reducing the need for multiple tests and addressing data sparsity issues in *de novo* mutation datasets. Using this method, we re-examined germline mutation data from the BXD family and identified a previously undetected mutator allele that interacts with a known mutator allele in the BXDs. This interaction enhances the C>A germline mutation rate in certain inbred mice. Our findings suggest that mild DNA repair deficiencies can have a cumulative effect, with mutator alleles compromising the redundant systems that safeguard germline integrity.\n"
     ]
    }
   ],
   "source": [
    "par1 = process_paragraph(mod_section_paragraphs[7])\n",
    "print(par1)"
   ]
  },
  {
   "cell_type": "code",
   "execution_count": 63,
   "id": "3f22612a-dc21-439a-8d3e-dff307d81c96",
   "metadata": {
    "execution": {
     "iopub.execute_input": "2024-03-23T05:13:43.190294Z",
     "iopub.status.busy": "2024-03-23T05:13:43.190103Z",
     "iopub.status.idle": "2024-03-23T05:13:43.192903Z",
     "shell.execute_reply": "2024-03-23T05:13:43.192408Z"
    },
    "papermill": {
     "duration": 0.036251,
     "end_time": "2024-03-23T05:13:43.193666",
     "exception": false,
     "start_time": "2024-03-23T05:13:43.157415",
     "status": "completed"
    },
    "tags": []
   },
   "outputs": [],
   "source": [
    "paragraph_matches.append(\n",
    "    (\n",
    "        section_name,\n",
    "        par0,\n",
    "        par1,\n",
    "    )\n",
    ")"
   ]
  },
  {
   "cell_type": "code",
   "execution_count": 64,
   "id": "d27ced08-1a6e-4858-9cd1-d5763be0cecb",
   "metadata": {
    "execution": {
     "iopub.execute_input": "2024-03-23T05:13:43.258813Z",
     "iopub.status.busy": "2024-03-23T05:13:43.258629Z",
     "iopub.status.idle": "2024-03-23T05:13:43.262289Z",
     "shell.execute_reply": "2024-03-23T05:13:43.261789Z"
    },
    "papermill": {
     "duration": 0.037222,
     "end_time": "2024-03-23T05:13:43.263057",
     "exception": false,
     "start_time": "2024-03-23T05:13:43.225835",
     "status": "completed"
    },
    "tags": []
   },
   "outputs": [
    {
     "data": {
      "text/plain": [
       "('introduction',\n",
       " 'Here, we present a new mutation spectrum association test, called \"aggregate mutation spectrum distance,\" that minimizes multiple testing burdens and mitigates the challenges of sparsity in *de novo* mutation datasets. We leverage this method to re-analyze germline mutation data from the BXD family and find compelling evidence for a second mutator allele that was not detected using previous approaches. The new allele appears to interact epistatically with the mutator that was previously discovered in the BXDs, further augmenting the C>A germline mutation rate in a subset of inbred mice. Our observation of epistasis suggests that mild DNA repair deficiencies can compound one another, as mutator alleles chip away at the redundant systems that collectively maintain germline integrity.',\n",
       " 'In this study, we introduce a novel test called the \"aggregate mutation spectrum distance\" to analyze mutation spectra more effectively while reducing the need for multiple tests and addressing data sparsity issues in *de novo* mutation datasets. Using this method, we re-examined germline mutation data from the BXD family and identified a previously undetected mutator allele that interacts with a known mutator allele in the BXDs. This interaction enhances the C>A germline mutation rate in certain inbred mice. Our findings suggest that mild DNA repair deficiencies can have a cumulative effect, with mutator alleles compromising the redundant systems that safeguard germline integrity.')"
      ]
     },
     "metadata": {},
     "output_type": "display_data"
    }
   ],
   "source": [
    "display(paragraph_matches[-1])"
   ]
  },
  {
   "cell_type": "markdown",
   "id": "aabf3637-bb5a-458d-89b3-33cea18c529e",
   "metadata": {
    "editable": true,
    "papermill": {
     "duration": 0.032277,
     "end_time": "2024-03-23T05:13:43.328081",
     "exception": false,
     "start_time": "2024-03-23T05:13:43.295804",
     "status": "completed"
    },
    "slideshow": {
     "slide_type": ""
    },
    "tags": []
   },
   "source": [
    "## Results"
   ]
  },
  {
   "cell_type": "code",
   "execution_count": 65,
   "id": "eb1352b5-0d25-41d0-8f6d-245f7748e99e",
   "metadata": {
    "execution": {
     "iopub.execute_input": "2024-03-23T05:13:43.421108Z",
     "iopub.status.busy": "2024-03-23T05:13:43.420502Z",
     "iopub.status.idle": "2024-03-23T05:13:43.423418Z",
     "shell.execute_reply": "2024-03-23T05:13:43.422903Z"
    },
    "papermill": {
     "duration": 0.0635,
     "end_time": "2024-03-23T05:13:43.424176",
     "exception": false,
     "start_time": "2024-03-23T05:13:43.360676",
     "status": "completed"
    },
    "tags": []
   },
   "outputs": [],
   "source": [
    "section_name = \"results\""
   ]
  },
  {
   "cell_type": "code",
   "execution_count": 66,
   "id": "e0d44354-4c59-486e-a3a4-06dea873e86d",
   "metadata": {
    "editable": true,
    "execution": {
     "iopub.execute_input": "2024-03-23T05:13:43.489958Z",
     "iopub.status.busy": "2024-03-23T05:13:43.489572Z",
     "iopub.status.idle": "2024-03-23T05:13:43.492846Z",
     "shell.execute_reply": "2024-03-23T05:13:43.492322Z"
    },
    "papermill": {
     "duration": 0.037038,
     "end_time": "2024-03-23T05:13:43.493585",
     "exception": false,
     "start_time": "2024-03-23T05:13:43.456547",
     "status": "completed"
    },
    "slideshow": {
     "slide_type": ""
    },
    "tags": []
   },
   "outputs": [
    {
     "name": "stdout",
     "output_type": "stream",
     "text": [
      "content/03.results.md\n"
     ]
    }
   ],
   "source": [
    "pr_filename = pr_files[2].filename\n",
    "assert section_name in pr_filename\n",
    "print(pr_filename)"
   ]
  },
  {
   "cell_type": "markdown",
   "id": "e5ba4512-f199-419b-a5ed-bd0da25ca19a",
   "metadata": {
    "editable": true,
    "papermill": {
     "duration": 0.032289,
     "end_time": "2024-03-23T05:13:43.558333",
     "exception": false,
     "start_time": "2024-03-23T05:13:43.526044",
     "status": "completed"
    },
    "slideshow": {
     "slide_type": ""
    },
    "tags": []
   },
   "source": [
    "### Original"
   ]
  },
  {
   "cell_type": "code",
   "execution_count": 67,
   "id": "104a83ac-3b10-43b2-b526-790f2ce0316c",
   "metadata": {
    "execution": {
     "iopub.execute_input": "2024-03-23T05:13:43.623842Z",
     "iopub.status.busy": "2024-03-23T05:13:43.623655Z",
     "iopub.status.idle": "2024-03-23T05:13:43.771656Z",
     "shell.execute_reply": "2024-03-23T05:13:43.771104Z"
    },
    "papermill": {
     "duration": 0.181605,
     "end_time": "2024-03-23T05:13:43.772387",
     "exception": false,
     "start_time": "2024-03-23T05:13:43.590782",
     "status": "completed"
    },
    "tags": []
   },
   "outputs": [
    {
     "name": "stdout",
     "output_type": "stream",
     "text": [
      "## Results\n",
      "\n",
      "### A novel method for detecting mutat\n"
     ]
    }
   ],
   "source": [
    "# get content\n",
    "orig_section_content = repo.get_contents(pr_filename, pr_prev).decoded_content.decode(\n",
    "    \"utf-8\"\n",
    ")\n",
    "print(orig_section_content[:50])"
   ]
  },
  {
   "cell_type": "code",
   "execution_count": 68,
   "id": "24ce0aba-906d-4235-a67b-99d1fa4b5912",
   "metadata": {
    "execution": {
     "iopub.execute_input": "2024-03-23T05:13:43.837444Z",
     "iopub.status.busy": "2024-03-23T05:13:43.837253Z",
     "iopub.status.idle": "2024-03-23T05:13:43.840971Z",
     "shell.execute_reply": "2024-03-23T05:13:43.840492Z"
    },
    "papermill": {
     "duration": 0.037013,
     "end_time": "2024-03-23T05:13:43.841639",
     "exception": false,
     "start_time": "2024-03-23T05:13:43.804626",
     "status": "completed"
    },
    "tags": []
   },
   "outputs": [
    {
     "data": {
      "text/plain": [
       "28"
      ]
     },
     "metadata": {},
     "output_type": "display_data"
    }
   ],
   "source": [
    "# split by paragraph\n",
    "orig_section_paragraphs = orig_section_content.split(\"\\n\\n\")\n",
    "display(len(orig_section_paragraphs))"
   ]
  },
  {
   "cell_type": "markdown",
   "id": "ebd7a57f-8ca5-4357-8914-6c0e8e16d46b",
   "metadata": {
    "editable": true,
    "papermill": {
     "duration": 0.032391,
     "end_time": "2024-03-23T05:13:43.906551",
     "exception": false,
     "start_time": "2024-03-23T05:13:43.874160",
     "status": "completed"
    },
    "slideshow": {
     "slide_type": ""
    },
    "tags": []
   },
   "source": [
    "### Modified"
   ]
  },
  {
   "cell_type": "code",
   "execution_count": 69,
   "id": "7624af03-9c23-4625-9c6c-a5e9082bcf6a",
   "metadata": {
    "execution": {
     "iopub.execute_input": "2024-03-23T05:13:43.972083Z",
     "iopub.status.busy": "2024-03-23T05:13:43.971892Z",
     "iopub.status.idle": "2024-03-23T05:13:44.148855Z",
     "shell.execute_reply": "2024-03-23T05:13:44.148204Z"
    },
    "papermill": {
     "duration": 0.210726,
     "end_time": "2024-03-23T05:13:44.149857",
     "exception": false,
     "start_time": "2024-03-23T05:13:43.939131",
     "status": "completed"
    },
    "tags": []
   },
   "outputs": [
    {
     "name": "stdout",
     "output_type": "stream",
     "text": [
      "## Results\n",
      "\n",
      "### A novel method for detecting mutat\n"
     ]
    }
   ],
   "source": [
    "# get content\n",
    "mod_section_content = repo.get_contents(pr_filename, pr_curr).decoded_content.decode(\n",
    "    \"utf-8\"\n",
    ")\n",
    "print(mod_section_content[:50])"
   ]
  },
  {
   "cell_type": "code",
   "execution_count": 70,
   "id": "e1fd8b08-aafa-4b43-aa6e-e799761fda94",
   "metadata": {
    "execution": {
     "iopub.execute_input": "2024-03-23T05:13:44.231551Z",
     "iopub.status.busy": "2024-03-23T05:13:44.231113Z",
     "iopub.status.idle": "2024-03-23T05:13:44.234542Z",
     "shell.execute_reply": "2024-03-23T05:13:44.234138Z"
    },
    "papermill": {
     "duration": 0.045172,
     "end_time": "2024-03-23T05:13:44.235259",
     "exception": false,
     "start_time": "2024-03-23T05:13:44.190087",
     "status": "completed"
    },
    "tags": []
   },
   "outputs": [
    {
     "data": {
      "text/plain": [
       "28"
      ]
     },
     "metadata": {},
     "output_type": "display_data"
    }
   ],
   "source": [
    "# split by paragraph\n",
    "mod_section_paragraphs = mod_section_content.split(\"\\n\\n\")\n",
    "display(len(mod_section_paragraphs))"
   ]
  },
  {
   "cell_type": "markdown",
   "id": "b20bc347-6c37-4089-9a38-654b3e9028bd",
   "metadata": {
    "editable": true,
    "papermill": {
     "duration": 0.0323,
     "end_time": "2024-03-23T05:13:44.300223",
     "exception": false,
     "start_time": "2024-03-23T05:13:44.267923",
     "status": "completed"
    },
    "slideshow": {
     "slide_type": ""
    },
    "tags": []
   },
   "source": [
    "### Match"
   ]
  },
  {
   "cell_type": "code",
   "execution_count": 71,
   "id": "7be2fbbd-e933-44c9-9afc-71c4bb56f6f5",
   "metadata": {
    "execution": {
     "iopub.execute_input": "2024-03-23T05:13:44.366086Z",
     "iopub.status.busy": "2024-03-23T05:13:44.365651Z",
     "iopub.status.idle": "2024-03-23T05:13:44.369296Z",
     "shell.execute_reply": "2024-03-23T05:13:44.368801Z"
    },
    "papermill": {
     "duration": 0.037148,
     "end_time": "2024-03-23T05:13:44.370023",
     "exception": false,
     "start_time": "2024-03-23T05:13:44.332875",
     "status": "completed"
    },
    "tags": []
   },
   "outputs": [
    {
     "data": {
      "text/plain": [
       "'## Results'"
      ]
     },
     "execution_count": 71,
     "metadata": {},
     "output_type": "execute_result"
    }
   ],
   "source": [
    "orig_section_paragraphs[0]"
   ]
  },
  {
   "cell_type": "code",
   "execution_count": 72,
   "id": "2ab3053f-f932-4fd2-a06f-2219fef997dc",
   "metadata": {
    "execution": {
     "iopub.execute_input": "2024-03-23T05:13:44.435741Z",
     "iopub.status.busy": "2024-03-23T05:13:44.435558Z",
     "iopub.status.idle": "2024-03-23T05:13:44.439155Z",
     "shell.execute_reply": "2024-03-23T05:13:44.438629Z"
    },
    "papermill": {
     "duration": 0.037163,
     "end_time": "2024-03-23T05:13:44.439951",
     "exception": false,
     "start_time": "2024-03-23T05:13:44.402788",
     "status": "completed"
    },
    "tags": []
   },
   "outputs": [
    {
     "data": {
      "text/plain": [
       "'## Results'"
      ]
     },
     "execution_count": 72,
     "metadata": {},
     "output_type": "execute_result"
    }
   ],
   "source": [
    "mod_section_paragraphs[0]"
   ]
  },
  {
   "cell_type": "markdown",
   "id": "f1be3841-7923-4e69-b0a9-2c39dd7ddaa7",
   "metadata": {
    "editable": true,
    "papermill": {
     "duration": 0.032285,
     "end_time": "2024-03-23T05:13:44.504872",
     "exception": false,
     "start_time": "2024-03-23T05:13:44.472587",
     "status": "completed"
    },
    "slideshow": {
     "slide_type": ""
    },
    "tags": []
   },
   "source": [
    "####  Paragraph 00"
   ]
  },
  {
   "cell_type": "code",
   "execution_count": 73,
   "id": "9a597e30-25ab-4a38-874c-90de7e184e99",
   "metadata": {
    "execution": {
     "iopub.execute_input": "2024-03-23T05:13:44.570943Z",
     "iopub.status.busy": "2024-03-23T05:13:44.570739Z",
     "iopub.status.idle": "2024-03-23T05:13:44.574095Z",
     "shell.execute_reply": "2024-03-23T05:13:44.573540Z"
    },
    "papermill": {
     "duration": 0.037449,
     "end_time": "2024-03-23T05:13:44.574888",
     "exception": false,
     "start_time": "2024-03-23T05:13:44.537439",
     "status": "completed"
    },
    "tags": []
   },
   "outputs": [
    {
     "name": "stdout",
     "output_type": "stream",
     "text": [
      "We developed a statistical method, termed \"aggregate mutation spectrum distance\" (AMSD), to detect loci that are associated with mutation spectrum variation in recombinant inbred lines (RILs) (Figure {@fig:distance-method}; *Materials and Methods*). Our approach leverages the fact that mutator alleles often leave behind distinct and detectable impressions on the *mutation spectrum*, even if they increase the overall mutation rate by a relatively small amount. Given a population of haplotypes, we assume that each has been genotyped at the same collection of biallelic loci and that each harbors *de novo* mutations which have been partitioned by $k$-mer context (Figure @fig:distance-method). At every locus, we calculate a cosine distance between the aggregate mutation spectra of haplotypes that inherited either parental allele. Using permutation tests, we then identify loci at which those distances are larger than what we'd expect by random chance. To account for polygenic effects on the mutation process that might be shared between BXDs, we also regress the cosine distance at each marker against the genetic similarity between haplotype groups, and assess significance using the fitted residuals (which we call the \"adjusted\" cosine distances) (*Materials and Methods*).\n"
     ]
    }
   ],
   "source": [
    "par0 = process_paragraph(orig_section_paragraphs[2])\n",
    "print(par0)"
   ]
  },
  {
   "cell_type": "code",
   "execution_count": 74,
   "id": "87bc4f6c-e891-4d57-a2ce-4bd9efa0e1aa",
   "metadata": {
    "execution": {
     "iopub.execute_input": "2024-03-23T05:13:44.641076Z",
     "iopub.status.busy": "2024-03-23T05:13:44.640885Z",
     "iopub.status.idle": "2024-03-23T05:13:44.644019Z",
     "shell.execute_reply": "2024-03-23T05:13:44.643509Z"
    },
    "papermill": {
     "duration": 0.036899,
     "end_time": "2024-03-23T05:13:44.644740",
     "exception": false,
     "start_time": "2024-03-23T05:13:44.607841",
     "status": "completed"
    },
    "tags": []
   },
   "outputs": [
    {
     "name": "stdout",
     "output_type": "stream",
     "text": [
      "We introduced a statistical method, named \"aggregate mutation spectrum distance\" (AMSD), to identify loci linked to mutation spectrum variation in recombinant inbred lines (RILs) (Figure {@fig:distance-method}; *Materials and Methods*). Our method capitalizes on the fact that mutator alleles can produce distinct, identifiable patterns in the mutation spectrum, even if they only slightly increase the overall mutation rate. Assuming a population of genotyped haplotypes at the same set of biallelic loci, each containing *de novo* mutations categorized by $k$-mer context (Figure @fig:distance-method), we compute the cosine distance at each locus between the aggregate mutation spectra of haplotypes inheriting different parental alleles. Loci with larger distances than expected by chance are identified through permutation tests. To address polygenic influences on the mutation process shared among BXDs, we perform a regression of cosine distance against genetic similarity between haplotype groups at each marker. We then evaluate significance using the residuals from the regression (referred to as \"adjusted\" cosine distances) (*Materials and Methods*).\n"
     ]
    }
   ],
   "source": [
    "par1 = process_paragraph(mod_section_paragraphs[2])\n",
    "print(par1)"
   ]
  },
  {
   "cell_type": "code",
   "execution_count": 75,
   "id": "5791f3c1-eaf4-48e9-878d-b5c068cd0f6d",
   "metadata": {
    "execution": {
     "iopub.execute_input": "2024-03-23T05:13:44.739030Z",
     "iopub.status.busy": "2024-03-23T05:13:44.738523Z",
     "iopub.status.idle": "2024-03-23T05:13:44.741484Z",
     "shell.execute_reply": "2024-03-23T05:13:44.740982Z"
    },
    "papermill": {
     "duration": 0.064522,
     "end_time": "2024-03-23T05:13:44.742285",
     "exception": false,
     "start_time": "2024-03-23T05:13:44.677763",
     "status": "completed"
    },
    "tags": []
   },
   "outputs": [],
   "source": [
    "paragraph_matches.append(\n",
    "    (\n",
    "        section_name,\n",
    "        par0,\n",
    "        par1,\n",
    "    )\n",
    ")"
   ]
  },
  {
   "cell_type": "code",
   "execution_count": 76,
   "id": "82a6f7f9-239f-42dd-84ac-f7a3be77726a",
   "metadata": {
    "execution": {
     "iopub.execute_input": "2024-03-23T05:13:44.809030Z",
     "iopub.status.busy": "2024-03-23T05:13:44.808593Z",
     "iopub.status.idle": "2024-03-23T05:13:44.812324Z",
     "shell.execute_reply": "2024-03-23T05:13:44.811822Z"
    },
    "papermill": {
     "duration": 0.037642,
     "end_time": "2024-03-23T05:13:44.813111",
     "exception": false,
     "start_time": "2024-03-23T05:13:44.775469",
     "status": "completed"
    },
    "tags": []
   },
   "outputs": [
    {
     "data": {
      "text/plain": [
       "('results',\n",
       " 'We developed a statistical method, termed \"aggregate mutation spectrum distance\" (AMSD), to detect loci that are associated with mutation spectrum variation in recombinant inbred lines (RILs) (Figure {@fig:distance-method}; *Materials and Methods*). Our approach leverages the fact that mutator alleles often leave behind distinct and detectable impressions on the *mutation spectrum*, even if they increase the overall mutation rate by a relatively small amount. Given a population of haplotypes, we assume that each has been genotyped at the same collection of biallelic loci and that each harbors *de novo* mutations which have been partitioned by $k$-mer context (Figure @fig:distance-method). At every locus, we calculate a cosine distance between the aggregate mutation spectra of haplotypes that inherited either parental allele. Using permutation tests, we then identify loci at which those distances are larger than what we\\'d expect by random chance. To account for polygenic effects on the mutation process that might be shared between BXDs, we also regress the cosine distance at each marker against the genetic similarity between haplotype groups, and assess significance using the fitted residuals (which we call the \"adjusted\" cosine distances) (*Materials and Methods*).',\n",
       " 'We introduced a statistical method, named \"aggregate mutation spectrum distance\" (AMSD), to identify loci linked to mutation spectrum variation in recombinant inbred lines (RILs) (Figure {@fig:distance-method}; *Materials and Methods*). Our method capitalizes on the fact that mutator alleles can produce distinct, identifiable patterns in the mutation spectrum, even if they only slightly increase the overall mutation rate. Assuming a population of genotyped haplotypes at the same set of biallelic loci, each containing *de novo* mutations categorized by $k$-mer context (Figure @fig:distance-method), we compute the cosine distance at each locus between the aggregate mutation spectra of haplotypes inheriting different parental alleles. Loci with larger distances than expected by chance are identified through permutation tests. To address polygenic influences on the mutation process shared among BXDs, we perform a regression of cosine distance against genetic similarity between haplotype groups at each marker. We then evaluate significance using the residuals from the regression (referred to as \"adjusted\" cosine distances) (*Materials and Methods*).')"
      ]
     },
     "metadata": {},
     "output_type": "display_data"
    }
   ],
   "source": [
    "display(paragraph_matches[-1])"
   ]
  },
  {
   "cell_type": "markdown",
   "id": "d9455a12-09db-4739-a43b-e84a750f54a5",
   "metadata": {
    "editable": true,
    "papermill": {
     "duration": 0.032818,
     "end_time": "2024-03-23T05:13:44.878841",
     "exception": false,
     "start_time": "2024-03-23T05:13:44.846023",
     "status": "completed"
    },
    "slideshow": {
     "slide_type": ""
    },
    "tags": []
   },
   "source": [
    "####  Paragraph 01"
   ]
  },
  {
   "cell_type": "code",
   "execution_count": 77,
   "id": "58e68fc9-3e4e-4494-ad93-c493ce75df0a",
   "metadata": {
    "execution": {
     "iopub.execute_input": "2024-03-23T05:13:44.945843Z",
     "iopub.status.busy": "2024-03-23T05:13:44.945352Z",
     "iopub.status.idle": "2024-03-23T05:13:44.949047Z",
     "shell.execute_reply": "2024-03-23T05:13:44.948481Z"
    },
    "papermill": {
     "duration": 0.038162,
     "end_time": "2024-03-23T05:13:44.949885",
     "exception": false,
     "start_time": "2024-03-23T05:13:44.911723",
     "status": "completed"
    },
    "tags": []
   },
   "outputs": [
    {
     "name": "stdout",
     "output_type": "stream",
     "text": [
      "Using simulated data, we find that our method's power is primarily limited by the initial mutation rate of the $k$-mer mutation type affected by a mutator allele and the total number of *de novo* mutations used to detect it (Figure {@fig:simulations}). Given 100 haplotypes with an average of 500 *de novo* germline mutations each, AMSD has approximately 90% power to detect a mutator allele that increases the C>A *de novo* mutation rate by as little as 20%. However, the approach has less than 20% power to detect a mutator of identical effect size that augments the C>G mutation rate, since C>G mutations are expected to make up a smaller fraction of all *de novo* germline mutations to begin with. Simulations also demonstrate that our approach is well-powered to detect large-effect mutator alleles (e.g., those that increase the mutation rate of a specific $k$-mer by 50%), even with a relatively small number of mutations per haplotype (Figure {@fig:simulations}). Both AMSD and traditional quantitative trait locus (QTL) mapping have similar power to detect alleles that augment the rates of individual 1-mer mutation types (Figure {@fig:ihd_vs_qtl_power}), but AMSD has a number of potential advantages for mutator allele discovery. For example, we find that AMSD is better-powered than QTL mapping when the number of simulated *de novo* mutations is allowed to vary (by a factor of 20) across haplotypes (Figure {@fig:ihd_vs_qtl_power_variable_counts}) and when mutator allele frequencies are less than 50% (Figure {@fig:ihd_vs_qtl_power_variable_afs}). However, we also caution that many of the parameters used in our simulations are specific to the BXD mice (e.g., numbers of haplotypes, average numbers of mutations, expected allele frequencies at markers), and do not necessarily reflect the power of AMSD on other populations.\n"
     ]
    }
   ],
   "source": [
    "par0 = process_paragraph(orig_section_paragraphs[3])\n",
    "print(par0)"
   ]
  },
  {
   "cell_type": "code",
   "execution_count": 78,
   "id": "d0d33536-876d-4ab6-b09e-718239c42cd6",
   "metadata": {
    "execution": {
     "iopub.execute_input": "2024-03-23T05:13:45.017246Z",
     "iopub.status.busy": "2024-03-23T05:13:45.016853Z",
     "iopub.status.idle": "2024-03-23T05:13:45.019641Z",
     "shell.execute_reply": "2024-03-23T05:13:45.019288Z"
    },
    "papermill": {
     "duration": 0.03732,
     "end_time": "2024-03-23T05:13:45.020330",
     "exception": false,
     "start_time": "2024-03-23T05:13:44.983010",
     "status": "completed"
    },
    "tags": []
   },
   "outputs": [
    {
     "name": "stdout",
     "output_type": "stream",
     "text": [
      "Simulated data shows that the power of our method is mainly limited by the initial mutation rate of the $k$-mer mutation type affected by a mutator allele and the total number of *de novo* mutations used for detection (Figure 1). With 100 haplotypes having an average of 500 *de novo* germline mutations each, AMSD can detect a mutator allele increasing the C>A *de novo* mutation rate by 20% with about 90% power. However, detecting a mutator with the same effect size that increases the C>G mutation rate has less than 20% power due to the lower fraction of C>G mutations initially. Simulations also show that the approach is effective in detecting large-effect mutator alleles (e.g., those increasing the mutation rate of a specific $k$-mer by 50%) even with a small number of mutations per haplotype (Figure 1). Both AMSD and traditional quantitative trait locus (QTL) mapping have similar power in detecting alleles that enhance individual 1-mer mutation rates (Figure 2), but AMSD has advantages for mutator allele discovery. For instance, AMSD outperforms QTL mapping when the number of simulated *de novo* mutations varies across haplotypes (by a factor of 20) (Figure 3) and when mutator allele frequencies are below 50% (Figure 4). However, it is important to note that the parameters used in the simulations are specific to BXD mice and may not reflect the power of AMSD in other populations.\n"
     ]
    }
   ],
   "source": [
    "par1 = process_paragraph(mod_section_paragraphs[3])\n",
    "print(par1)"
   ]
  },
  {
   "cell_type": "code",
   "execution_count": 79,
   "id": "18e7cb62-34bb-4967-bc25-192a33feb67a",
   "metadata": {
    "execution": {
     "iopub.execute_input": "2024-03-23T05:13:45.087490Z",
     "iopub.status.busy": "2024-03-23T05:13:45.087113Z",
     "iopub.status.idle": "2024-03-23T05:13:45.089724Z",
     "shell.execute_reply": "2024-03-23T05:13:45.089300Z"
    },
    "papermill": {
     "duration": 0.036855,
     "end_time": "2024-03-23T05:13:45.090506",
     "exception": false,
     "start_time": "2024-03-23T05:13:45.053651",
     "status": "completed"
    },
    "tags": []
   },
   "outputs": [],
   "source": [
    "paragraph_matches.append(\n",
    "    (\n",
    "        section_name,\n",
    "        par0,\n",
    "        par1,\n",
    "    )\n",
    ")"
   ]
  },
  {
   "cell_type": "code",
   "execution_count": 80,
   "id": "a90a352f-3b3a-41dd-8aa6-710059bf7120",
   "metadata": {
    "execution": {
     "iopub.execute_input": "2024-03-23T05:13:45.157265Z",
     "iopub.status.busy": "2024-03-23T05:13:45.157079Z",
     "iopub.status.idle": "2024-03-23T05:13:45.160551Z",
     "shell.execute_reply": "2024-03-23T05:13:45.160127Z"
    },
    "papermill": {
     "duration": 0.03757,
     "end_time": "2024-03-23T05:13:45.161275",
     "exception": false,
     "start_time": "2024-03-23T05:13:45.123705",
     "status": "completed"
    },
    "tags": []
   },
   "outputs": [
    {
     "data": {
      "text/plain": [
       "('results',\n",
       " \"Using simulated data, we find that our method's power is primarily limited by the initial mutation rate of the $k$-mer mutation type affected by a mutator allele and the total number of *de novo* mutations used to detect it (Figure {@fig:simulations}). Given 100 haplotypes with an average of 500 *de novo* germline mutations each, AMSD has approximately 90% power to detect a mutator allele that increases the C>A *de novo* mutation rate by as little as 20%. However, the approach has less than 20% power to detect a mutator of identical effect size that augments the C>G mutation rate, since C>G mutations are expected to make up a smaller fraction of all *de novo* germline mutations to begin with. Simulations also demonstrate that our approach is well-powered to detect large-effect mutator alleles (e.g., those that increase the mutation rate of a specific $k$-mer by 50%), even with a relatively small number of mutations per haplotype (Figure {@fig:simulations}). Both AMSD and traditional quantitative trait locus (QTL) mapping have similar power to detect alleles that augment the rates of individual 1-mer mutation types (Figure {@fig:ihd_vs_qtl_power}), but AMSD has a number of potential advantages for mutator allele discovery. For example, we find that AMSD is better-powered than QTL mapping when the number of simulated *de novo* mutations is allowed to vary (by a factor of 20) across haplotypes (Figure {@fig:ihd_vs_qtl_power_variable_counts}) and when mutator allele frequencies are less than 50% (Figure {@fig:ihd_vs_qtl_power_variable_afs}). However, we also caution that many of the parameters used in our simulations are specific to the BXD mice (e.g., numbers of haplotypes, average numbers of mutations, expected allele frequencies at markers), and do not necessarily reflect the power of AMSD on other populations.\",\n",
       " 'Simulated data shows that the power of our method is mainly limited by the initial mutation rate of the $k$-mer mutation type affected by a mutator allele and the total number of *de novo* mutations used for detection (Figure 1). With 100 haplotypes having an average of 500 *de novo* germline mutations each, AMSD can detect a mutator allele increasing the C>A *de novo* mutation rate by 20% with about 90% power. However, detecting a mutator with the same effect size that increases the C>G mutation rate has less than 20% power due to the lower fraction of C>G mutations initially. Simulations also show that the approach is effective in detecting large-effect mutator alleles (e.g., those increasing the mutation rate of a specific $k$-mer by 50%) even with a small number of mutations per haplotype (Figure 1). Both AMSD and traditional quantitative trait locus (QTL) mapping have similar power in detecting alleles that enhance individual 1-mer mutation rates (Figure 2), but AMSD has advantages for mutator allele discovery. For instance, AMSD outperforms QTL mapping when the number of simulated *de novo* mutations varies across haplotypes (by a factor of 20) (Figure 3) and when mutator allele frequencies are below 50% (Figure 4). However, it is important to note that the parameters used in the simulations are specific to BXD mice and may not reflect the power of AMSD in other populations.')"
      ]
     },
     "metadata": {},
     "output_type": "display_data"
    }
   ],
   "source": [
    "display(paragraph_matches[-1])"
   ]
  },
  {
   "cell_type": "markdown",
   "id": "6451b15e-2321-4650-aaeb-d3a764b1a6c8",
   "metadata": {
    "editable": true,
    "papermill": {
     "duration": 0.032955,
     "end_time": "2024-03-23T05:13:45.227549",
     "exception": false,
     "start_time": "2024-03-23T05:13:45.194594",
     "status": "completed"
    },
    "slideshow": {
     "slide_type": ""
    },
    "tags": []
   },
   "source": [
    "####  Paragraph 02"
   ]
  },
  {
   "cell_type": "code",
   "execution_count": 81,
   "id": "9aec49c1-04df-4347-bd7d-6ec2dcce4ff4",
   "metadata": {
    "execution": {
     "iopub.execute_input": "2024-03-23T05:13:45.294265Z",
     "iopub.status.busy": "2024-03-23T05:13:45.294073Z",
     "iopub.status.idle": "2024-03-23T05:13:45.297102Z",
     "shell.execute_reply": "2024-03-23T05:13:45.296659Z"
    },
    "papermill": {
     "duration": 0.037387,
     "end_time": "2024-03-23T05:13:45.297890",
     "exception": false,
     "start_time": "2024-03-23T05:13:45.260503",
     "status": "completed"
    },
    "tags": []
   },
   "outputs": [
    {
     "name": "stdout",
     "output_type": "stream",
     "text": [
      "We applied our aggregate mutation spectrum distance method to 117 BXDs (*Materials and Methods*) with a total of 65,552 *de novo* germline mutations [@PMID:35545679]. Using mutation data that were partitioned by 1-mer nucleotide context, we discovered a locus on chromosome 4 that was significantly associated with mutation spectrum variation (Figure {@fig:distance-results}a; maximum adjusted cosine distance of 1.20e-2 at marker ID `rs27509845`; position 118.28 Mbp in GRCm38/mm10 coordinates; 90% bootstrap confidence interval from 114.79 - 118.75 Mbp).\n"
     ]
    }
   ],
   "source": [
    "par0 = process_paragraph(orig_section_paragraphs[6])\n",
    "print(par0)"
   ]
  },
  {
   "cell_type": "code",
   "execution_count": 82,
   "id": "ccdc9f09-a072-48b4-b7c5-1625286a6b46",
   "metadata": {
    "execution": {
     "iopub.execute_input": "2024-03-23T05:13:45.365673Z",
     "iopub.status.busy": "2024-03-23T05:13:45.365154Z",
     "iopub.status.idle": "2024-03-23T05:13:45.368368Z",
     "shell.execute_reply": "2024-03-23T05:13:45.367919Z"
    },
    "papermill": {
     "duration": 0.037993,
     "end_time": "2024-03-23T05:13:45.369126",
     "exception": false,
     "start_time": "2024-03-23T05:13:45.331133",
     "status": "completed"
    },
    "tags": []
   },
   "outputs": [
    {
     "name": "stdout",
     "output_type": "stream",
     "text": [
      "We analyzed 117 BXDs with a total of 65,552 new germline mutations. By examining mutation data based on 1-mer nucleotide context, we identified a locus on chromosome 4 linked to mutation spectrum diversity. This locus showed a maximum adjusted cosine distance of 1.20e-2 at marker ID 'rs27509845', located at 118.28 Mbp in GRCm38/mm10 coordinates, with a 90% bootstrap confidence interval ranging from 114.79 to 118.75 Mbp (Figure 1a).\n"
     ]
    }
   ],
   "source": [
    "par1 = process_paragraph(mod_section_paragraphs[6])\n",
    "print(par1)"
   ]
  },
  {
   "cell_type": "code",
   "execution_count": 83,
   "id": "c3a19aa1-611f-4e33-b577-48608f5eb4a9",
   "metadata": {
    "execution": {
     "iopub.execute_input": "2024-03-23T05:13:45.436623Z",
     "iopub.status.busy": "2024-03-23T05:13:45.436441Z",
     "iopub.status.idle": "2024-03-23T05:13:45.439056Z",
     "shell.execute_reply": "2024-03-23T05:13:45.438625Z"
    },
    "papermill": {
     "duration": 0.036931,
     "end_time": "2024-03-23T05:13:45.439759",
     "exception": false,
     "start_time": "2024-03-23T05:13:45.402828",
     "status": "completed"
    },
    "tags": []
   },
   "outputs": [],
   "source": [
    "paragraph_matches.append(\n",
    "    (\n",
    "        section_name,\n",
    "        par0,\n",
    "        par1,\n",
    "    )\n",
    ")"
   ]
  },
  {
   "cell_type": "code",
   "execution_count": 84,
   "id": "8ec0f4f9-b9bf-4d65-8ffe-05d66cf8c587",
   "metadata": {
    "execution": {
     "iopub.execute_input": "2024-03-23T05:13:45.507339Z",
     "iopub.status.busy": "2024-03-23T05:13:45.506872Z",
     "iopub.status.idle": "2024-03-23T05:13:45.510433Z",
     "shell.execute_reply": "2024-03-23T05:13:45.509906Z"
    },
    "papermill": {
     "duration": 0.038014,
     "end_time": "2024-03-23T05:13:45.511225",
     "exception": false,
     "start_time": "2024-03-23T05:13:45.473211",
     "status": "completed"
    },
    "tags": []
   },
   "outputs": [
    {
     "data": {
      "text/plain": [
       "('results',\n",
       " 'We applied our aggregate mutation spectrum distance method to 117 BXDs (*Materials and Methods*) with a total of 65,552 *de novo* germline mutations [@PMID:35545679]. Using mutation data that were partitioned by 1-mer nucleotide context, we discovered a locus on chromosome 4 that was significantly associated with mutation spectrum variation (Figure {@fig:distance-results}a; maximum adjusted cosine distance of 1.20e-2 at marker ID `rs27509845`; position 118.28 Mbp in GRCm38/mm10 coordinates; 90% bootstrap confidence interval from 114.79 - 118.75 Mbp).',\n",
       " \"We analyzed 117 BXDs with a total of 65,552 new germline mutations. By examining mutation data based on 1-mer nucleotide context, we identified a locus on chromosome 4 linked to mutation spectrum diversity. This locus showed a maximum adjusted cosine distance of 1.20e-2 at marker ID 'rs27509845', located at 118.28 Mbp in GRCm38/mm10 coordinates, with a 90% bootstrap confidence interval ranging from 114.79 to 118.75 Mbp (Figure 1a).\")"
      ]
     },
     "metadata": {},
     "output_type": "display_data"
    }
   ],
   "source": [
    "display(paragraph_matches[-1])"
   ]
  },
  {
   "cell_type": "markdown",
   "id": "adb09182-c970-4360-8208-c0a9cc13374b",
   "metadata": {
    "editable": true,
    "papermill": {
     "duration": 0.033259,
     "end_time": "2024-03-23T05:13:45.604988",
     "exception": false,
     "start_time": "2024-03-23T05:13:45.571729",
     "status": "completed"
    },
    "slideshow": {
     "slide_type": ""
    },
    "tags": []
   },
   "source": [
    "####  Paragraph 03"
   ]
  },
  {
   "cell_type": "code",
   "execution_count": 85,
   "id": "6c8209ff-a0c6-43db-af5e-81e7b6585c02",
   "metadata": {
    "execution": {
     "iopub.execute_input": "2024-03-23T05:13:45.672928Z",
     "iopub.status.busy": "2024-03-23T05:13:45.672331Z",
     "iopub.status.idle": "2024-03-23T05:13:45.675647Z",
     "shell.execute_reply": "2024-03-23T05:13:45.675162Z"
    },
    "papermill": {
     "duration": 0.037882,
     "end_time": "2024-03-23T05:13:45.676406",
     "exception": false,
     "start_time": "2024-03-23T05:13:45.638524",
     "status": "completed"
    },
    "tags": []
   },
   "outputs": [
    {
     "name": "stdout",
     "output_type": "stream",
     "text": [
      "Using quantitative trait locus (QTL) mapping, we previously identified a nearly-identical locus on chromosome 4 that was significantly associated with the C>A germline mutation rate in the BXDs [@PMID:35545679]. This locus overlapped 21 protein-coding genes that were annotated by the Gene Ontology as being involved in \"DNA repair,\" but only one of those genes contained nonsynonymous differences between the two parental strains: *Mutyh*. *Mutyh* encodes a protein involved in the base-excision repair of 8-oxoguanine (8-oxoG), a DNA lesion caused by oxidative damage, and prevents the accumulation of C>A mutations [@PMID:28551381;@PMID:28127763;@PMID:17581577]. C>A germline mutation fractions are nearly 50% higher in BXDs that inherit *D* genotypes at marker ID `rs27509845` (the marker at which we observed the highest adjusted cosine distance on chromosome 4) than in those that inherit *B* genotypes (Figure @fig:spectra-comparison) [@PMID:35545679].\n"
     ]
    }
   ],
   "source": [
    "par0 = process_paragraph(orig_section_paragraphs[8])\n",
    "print(par0)"
   ]
  },
  {
   "cell_type": "code",
   "execution_count": 86,
   "id": "ca9369fc-9488-489c-b320-52c869b15452",
   "metadata": {
    "execution": {
     "iopub.execute_input": "2024-03-23T05:13:45.743470Z",
     "iopub.status.busy": "2024-03-23T05:13:45.743369Z",
     "iopub.status.idle": "2024-03-23T05:13:45.745995Z",
     "shell.execute_reply": "2024-03-23T05:13:45.745531Z"
    },
    "papermill": {
     "duration": 0.03692,
     "end_time": "2024-03-23T05:13:45.746692",
     "exception": false,
     "start_time": "2024-03-23T05:13:45.709772",
     "status": "completed"
    },
    "tags": []
   },
   "outputs": [
    {
     "name": "stdout",
     "output_type": "stream",
     "text": [
      "In a previous study, we found a locus on chromosome 4 associated with the C>A germline mutation rate in the BXDs. This locus contains 21 genes related to DNA repair, with only one gene, *Mutyh*, showing differences between parental strains. *Mutyh* is involved in base-excision repair of 8-oxoguanine, preventing C>A mutations. BXDs with *D* genotypes at marker ID `rs27509845` have nearly 50% higher C>A germline mutation fractions compared to those with *B* genotypes (Figure @fig:spectra-comparison).\n"
     ]
    }
   ],
   "source": [
    "par1 = process_paragraph(mod_section_paragraphs[8])\n",
    "print(par1)"
   ]
  },
  {
   "cell_type": "code",
   "execution_count": 87,
   "id": "222519f1-36c4-4f26-885e-122c4ef65744",
   "metadata": {
    "execution": {
     "iopub.execute_input": "2024-03-23T05:13:45.814600Z",
     "iopub.status.busy": "2024-03-23T05:13:45.814502Z",
     "iopub.status.idle": "2024-03-23T05:13:45.816485Z",
     "shell.execute_reply": "2024-03-23T05:13:45.816167Z"
    },
    "papermill": {
     "duration": 0.036697,
     "end_time": "2024-03-23T05:13:45.817095",
     "exception": false,
     "start_time": "2024-03-23T05:13:45.780398",
     "status": "completed"
    },
    "tags": []
   },
   "outputs": [],
   "source": [
    "paragraph_matches.append(\n",
    "    (\n",
    "        section_name,\n",
    "        par0,\n",
    "        par1,\n",
    "    )\n",
    ")"
   ]
  },
  {
   "cell_type": "code",
   "execution_count": 88,
   "id": "cfc27d26-a495-4f77-bae5-d1cf42a67f5e",
   "metadata": {
    "execution": {
     "iopub.execute_input": "2024-03-23T05:13:45.884864Z",
     "iopub.status.busy": "2024-03-23T05:13:45.884749Z",
     "iopub.status.idle": "2024-03-23T05:13:45.887994Z",
     "shell.execute_reply": "2024-03-23T05:13:45.887567Z"
    },
    "papermill": {
     "duration": 0.037874,
     "end_time": "2024-03-23T05:13:45.888701",
     "exception": false,
     "start_time": "2024-03-23T05:13:45.850827",
     "status": "completed"
    },
    "tags": []
   },
   "outputs": [
    {
     "data": {
      "text/plain": [
       "('results',\n",
       " 'Using quantitative trait locus (QTL) mapping, we previously identified a nearly-identical locus on chromosome 4 that was significantly associated with the C>A germline mutation rate in the BXDs [@PMID:35545679]. This locus overlapped 21 protein-coding genes that were annotated by the Gene Ontology as being involved in \"DNA repair,\" but only one of those genes contained nonsynonymous differences between the two parental strains: *Mutyh*. *Mutyh* encodes a protein involved in the base-excision repair of 8-oxoguanine (8-oxoG), a DNA lesion caused by oxidative damage, and prevents the accumulation of C>A mutations [@PMID:28551381;@PMID:28127763;@PMID:17581577]. C>A germline mutation fractions are nearly 50% higher in BXDs that inherit *D* genotypes at marker ID `rs27509845` (the marker at which we observed the highest adjusted cosine distance on chromosome 4) than in those that inherit *B* genotypes (Figure @fig:spectra-comparison) [@PMID:35545679].',\n",
       " 'In a previous study, we found a locus on chromosome 4 associated with the C>A germline mutation rate in the BXDs. This locus contains 21 genes related to DNA repair, with only one gene, *Mutyh*, showing differences between parental strains. *Mutyh* is involved in base-excision repair of 8-oxoguanine, preventing C>A mutations. BXDs with *D* genotypes at marker ID `rs27509845` have nearly 50% higher C>A germline mutation fractions compared to those with *B* genotypes (Figure @fig:spectra-comparison).')"
      ]
     },
     "metadata": {},
     "output_type": "display_data"
    }
   ],
   "source": [
    "display(paragraph_matches[-1])"
   ]
  },
  {
   "cell_type": "markdown",
   "id": "0f0f3ae7-247f-4424-98c6-402348636b90",
   "metadata": {
    "editable": true,
    "papermill": {
     "duration": 0.03319,
     "end_time": "2024-03-23T05:13:45.955525",
     "exception": false,
     "start_time": "2024-03-23T05:13:45.922335",
     "status": "completed"
    },
    "slideshow": {
     "slide_type": ""
    },
    "tags": []
   },
   "source": [
    "####  Paragraph 04"
   ]
  },
  {
   "cell_type": "code",
   "execution_count": 89,
   "id": "5d6cfabf-7b2f-4dc8-939e-0db65d79a107",
   "metadata": {
    "execution": {
     "iopub.execute_input": "2024-03-23T05:13:46.023519Z",
     "iopub.status.busy": "2024-03-23T05:13:46.023331Z",
     "iopub.status.idle": "2024-03-23T05:13:46.026361Z",
     "shell.execute_reply": "2024-03-23T05:13:46.025839Z"
    },
    "papermill": {
     "duration": 0.037912,
     "end_time": "2024-03-23T05:13:46.027128",
     "exception": false,
     "start_time": "2024-03-23T05:13:45.989216",
     "status": "completed"
    },
    "tags": []
   },
   "outputs": [
    {
     "name": "stdout",
     "output_type": "stream",
     "text": [
      "After confirming that AMSD could recover the mutator locus overlapping *Mutyh*, we tested its ability to identify additional mutator loci in the BXDs. To eliminate potential confounding of the mutation spectrum landscape by the large-effect mutator locus on chromosome 4, we performed AMSD scans that were conditional on the presence of either *D* or *B* alleles at `rs27509845`. We also hypothesized that such conditioning might reveal epistatic interactions between alleles at the chromosome 4 locus and mutator alleles elsewhere in the genome. Specifically, we divided the BXDs into those with either *D* (n = 66) or *B* (n = 44) genotypes at `rs27509845` (n = 7 BXDs were heterozygous) and ran an aggregate mutation spectrum distance scan using each group separately (Figure {@fig:distance-results}b-c). We excluded the BXD68 RIL from these scans, since we previously found that BXD68 harbors a strain-private C>A mutator allele of even larger effect [@PMID:35545679].\n"
     ]
    }
   ],
   "source": [
    "par0 = process_paragraph(orig_section_paragraphs[10])\n",
    "print(par0)"
   ]
  },
  {
   "cell_type": "code",
   "execution_count": 90,
   "id": "54d5de69-15cf-450e-a3b8-37262a045c8a",
   "metadata": {
    "execution": {
     "iopub.execute_input": "2024-03-23T05:13:46.095417Z",
     "iopub.status.busy": "2024-03-23T05:13:46.095198Z",
     "iopub.status.idle": "2024-03-23T05:13:46.098449Z",
     "shell.execute_reply": "2024-03-23T05:13:46.097938Z"
    },
    "papermill": {
     "duration": 0.038387,
     "end_time": "2024-03-23T05:13:46.099285",
     "exception": false,
     "start_time": "2024-03-23T05:13:46.060898",
     "status": "completed"
    },
    "tags": []
   },
   "outputs": [
    {
     "name": "stdout",
     "output_type": "stream",
     "text": [
      "After confirming that AMSD identified the mutator locus overlapping *Mutyh*, we used it to detect additional mutator loci in the BXDs. To avoid interference from the mutator locus on chromosome 4, we conducted AMSD scans conditioned on the presence of either *D* or *B* alleles at `rs27509845`. This approach aimed to uncover potential epistatic interactions between alleles at the chromosome 4 locus and mutator alleles elsewhere in the genome. We divided the BXDs into two groups based on their genotypes at `rs27509845`: *D* (n = 66) and *B* (n = 44) (with 7 BXDs being heterozygous) and performed aggregate mutation spectrum distance scans on each group separately (Figure {@fig:distance-results}b-c). BXD68 RIL was excluded from these scans due to the presence of a strain-private C>A mutator allele with a larger effect that we previously identified [@PMID:35545679].\n"
     ]
    }
   ],
   "source": [
    "par1 = process_paragraph(mod_section_paragraphs[10])\n",
    "print(par1)"
   ]
  },
  {
   "cell_type": "code",
   "execution_count": 91,
   "id": "c91f08e2-dcd1-4ac4-8d37-ac221794f612",
   "metadata": {
    "execution": {
     "iopub.execute_input": "2024-03-23T05:13:46.167942Z",
     "iopub.status.busy": "2024-03-23T05:13:46.167711Z",
     "iopub.status.idle": "2024-03-23T05:13:46.170593Z",
     "shell.execute_reply": "2024-03-23T05:13:46.170077Z"
    },
    "papermill": {
     "duration": 0.038051,
     "end_time": "2024-03-23T05:13:46.171417",
     "exception": false,
     "start_time": "2024-03-23T05:13:46.133366",
     "status": "completed"
    },
    "tags": []
   },
   "outputs": [],
   "source": [
    "paragraph_matches.append(\n",
    "    (\n",
    "        section_name,\n",
    "        par0,\n",
    "        par1,\n",
    "    )\n",
    ")"
   ]
  },
  {
   "cell_type": "code",
   "execution_count": 92,
   "id": "da25b2d9-0be6-49f7-8be3-10931d873243",
   "metadata": {
    "execution": {
     "iopub.execute_input": "2024-03-23T05:13:46.239510Z",
     "iopub.status.busy": "2024-03-23T05:13:46.239380Z",
     "iopub.status.idle": "2024-03-23T05:13:46.242532Z",
     "shell.execute_reply": "2024-03-23T05:13:46.241972Z"
    },
    "papermill": {
     "duration": 0.038011,
     "end_time": "2024-03-23T05:13:46.243305",
     "exception": false,
     "start_time": "2024-03-23T05:13:46.205294",
     "status": "completed"
    },
    "tags": []
   },
   "outputs": [
    {
     "data": {
      "text/plain": [
       "('results',\n",
       " 'After confirming that AMSD could recover the mutator locus overlapping *Mutyh*, we tested its ability to identify additional mutator loci in the BXDs. To eliminate potential confounding of the mutation spectrum landscape by the large-effect mutator locus on chromosome 4, we performed AMSD scans that were conditional on the presence of either *D* or *B* alleles at `rs27509845`. We also hypothesized that such conditioning might reveal epistatic interactions between alleles at the chromosome 4 locus and mutator alleles elsewhere in the genome. Specifically, we divided the BXDs into those with either *D* (n = 66) or *B* (n = 44) genotypes at `rs27509845` (n = 7 BXDs were heterozygous) and ran an aggregate mutation spectrum distance scan using each group separately (Figure {@fig:distance-results}b-c). We excluded the BXD68 RIL from these scans, since we previously found that BXD68 harbors a strain-private C>A mutator allele of even larger effect [@PMID:35545679].',\n",
       " 'After confirming that AMSD identified the mutator locus overlapping *Mutyh*, we used it to detect additional mutator loci in the BXDs. To avoid interference from the mutator locus on chromosome 4, we conducted AMSD scans conditioned on the presence of either *D* or *B* alleles at `rs27509845`. This approach aimed to uncover potential epistatic interactions between alleles at the chromosome 4 locus and mutator alleles elsewhere in the genome. We divided the BXDs into two groups based on their genotypes at `rs27509845`: *D* (n = 66) and *B* (n = 44) (with 7 BXDs being heterozygous) and performed aggregate mutation spectrum distance scans on each group separately (Figure {@fig:distance-results}b-c). BXD68 RIL was excluded from these scans due to the presence of a strain-private C>A mutator allele with a larger effect that we previously identified [@PMID:35545679].')"
      ]
     },
     "metadata": {},
     "output_type": "display_data"
    }
   ],
   "source": [
    "display(paragraph_matches[-1])"
   ]
  },
  {
   "cell_type": "markdown",
   "id": "2a8781c2-6543-48d3-b563-49ed72458d97",
   "metadata": {
    "editable": true,
    "papermill": {
     "duration": 0.033505,
     "end_time": "2024-03-23T05:13:46.310593",
     "exception": false,
     "start_time": "2024-03-23T05:13:46.277088",
     "status": "completed"
    },
    "slideshow": {
     "slide_type": ""
    },
    "tags": []
   },
   "source": [
    "####  Paragraph 05"
   ]
  },
  {
   "cell_type": "code",
   "execution_count": 93,
   "id": "150e5623-d1e9-43a7-956d-fe94754fa816",
   "metadata": {
    "execution": {
     "iopub.execute_input": "2024-03-23T05:13:46.378427Z",
     "iopub.status.busy": "2024-03-23T05:13:46.378069Z",
     "iopub.status.idle": "2024-03-23T05:13:46.381319Z",
     "shell.execute_reply": "2024-03-23T05:13:46.380750Z"
    },
    "papermill": {
     "duration": 0.038055,
     "end_time": "2024-03-23T05:13:46.382187",
     "exception": false,
     "start_time": "2024-03-23T05:13:46.344132",
     "status": "completed"
    },
    "tags": []
   },
   "outputs": [
    {
     "name": "stdout",
     "output_type": "stream",
     "text": [
      "Using the BXDs with *D* genotypes at `rs27509845`, we identified a locus on chromosome 6 that was significantly associated with mutation spectrum variation (Figure {@fig:distance-results}b; maximum adjusted cosine distance of 3.69e-3 at marker `rs46276051`; position 111.27 Mbp in GRCm38/mm10 coordinates; 90% bootstrap confidence interval from 95.01 - 114.02 Mbp). This signal was specific to BXDs with *D* genotypes at the `rs27509845` locus, as we did not observe any new mutator loci after performing an AMSD scan using BXDs with *B* genotypes at `rs27509845` (Figure {@fig:distance-results}c). The peak markers on chromosome 4 and 6 did not exhibit strong linkage disequilibrium ($R^2$ = 4e-5). We also performed QTL scans for the fractions of each 1-mer mutation type using the same mutation data, but none produced a genome-wide significant log-odds score at any locus (Figure {@fig:qtl-scans}; *Materials and Methods*).\n"
     ]
    }
   ],
   "source": [
    "par0 = process_paragraph(orig_section_paragraphs[11])\n",
    "print(par0)"
   ]
  },
  {
   "cell_type": "code",
   "execution_count": 94,
   "id": "0eccfc57-58fb-4472-8ad9-ac3aa0e38d8d",
   "metadata": {
    "execution": {
     "iopub.execute_input": "2024-03-23T05:13:46.449931Z",
     "iopub.status.busy": "2024-03-23T05:13:46.449714Z",
     "iopub.status.idle": "2024-03-23T05:13:46.452944Z",
     "shell.execute_reply": "2024-03-23T05:13:46.452405Z"
    },
    "papermill": {
     "duration": 0.037807,
     "end_time": "2024-03-23T05:13:46.453726",
     "exception": false,
     "start_time": "2024-03-23T05:13:46.415919",
     "status": "completed"
    },
    "tags": []
   },
   "outputs": [
    {
     "name": "stdout",
     "output_type": "stream",
     "text": [
      "Using the BXDs with *D* genotypes at `rs27509845`, we found a locus on chromosome 6 linked to mutation spectrum variation (see Figure {@fig:distance-results}b). The maximum adjusted cosine distance was 3.69e-3 at marker `rs46276051`, located at 111.27 Mbp in GRCm38/mm10 coordinates, with a 90% bootstrap confidence interval between 95.01 - 114.02 Mbp. This association was exclusive to BXDs with *D* genotypes at `rs27509845`, as no new mutator loci were identified in BXDs with *B* genotypes at the same locus (see Figure {@fig:distance-results}c). The peak markers on chromosomes 4 and 6 showed weak linkage disequilibrium ($R^2$ = 4e-5). QTL scans for the fractions of each 1-mer mutation type did not yield any genome-wide significant log-odds scores at any locus (refer to Figure {@fig:qtl-scans} and *Materials and Methods* for details).\n"
     ]
    }
   ],
   "source": [
    "par1 = process_paragraph(mod_section_paragraphs[11])\n",
    "print(par1)"
   ]
  },
  {
   "cell_type": "code",
   "execution_count": 95,
   "id": "b701edd6-c6b9-4b00-a122-58e1200991f0",
   "metadata": {
    "execution": {
     "iopub.execute_input": "2024-03-23T05:13:46.549345Z",
     "iopub.status.busy": "2024-03-23T05:13:46.549125Z",
     "iopub.status.idle": "2024-03-23T05:13:46.552132Z",
     "shell.execute_reply": "2024-03-23T05:13:46.551686Z"
    },
    "papermill": {
     "duration": 0.065412,
     "end_time": "2024-03-23T05:13:46.552904",
     "exception": false,
     "start_time": "2024-03-23T05:13:46.487492",
     "status": "completed"
    },
    "tags": []
   },
   "outputs": [],
   "source": [
    "paragraph_matches.append(\n",
    "    (\n",
    "        section_name,\n",
    "        par0,\n",
    "        par1,\n",
    "    )\n",
    ")"
   ]
  },
  {
   "cell_type": "code",
   "execution_count": 96,
   "id": "b31f2894-6bd2-45ed-bcff-ef2002eed32a",
   "metadata": {
    "execution": {
     "iopub.execute_input": "2024-03-23T05:13:46.621662Z",
     "iopub.status.busy": "2024-03-23T05:13:46.621471Z",
     "iopub.status.idle": "2024-03-23T05:13:46.625497Z",
     "shell.execute_reply": "2024-03-23T05:13:46.624851Z"
    },
    "papermill": {
     "duration": 0.039425,
     "end_time": "2024-03-23T05:13:46.626317",
     "exception": false,
     "start_time": "2024-03-23T05:13:46.586892",
     "status": "completed"
    },
    "tags": []
   },
   "outputs": [
    {
     "data": {
      "text/plain": [
       "('results',\n",
       " 'Using the BXDs with *D* genotypes at `rs27509845`, we identified a locus on chromosome 6 that was significantly associated with mutation spectrum variation (Figure {@fig:distance-results}b; maximum adjusted cosine distance of 3.69e-3 at marker `rs46276051`; position 111.27 Mbp in GRCm38/mm10 coordinates; 90% bootstrap confidence interval from 95.01 - 114.02 Mbp). This signal was specific to BXDs with *D* genotypes at the `rs27509845` locus, as we did not observe any new mutator loci after performing an AMSD scan using BXDs with *B* genotypes at `rs27509845` (Figure {@fig:distance-results}c). The peak markers on chromosome 4 and 6 did not exhibit strong linkage disequilibrium ($R^2$ = 4e-5). We also performed QTL scans for the fractions of each 1-mer mutation type using the same mutation data, but none produced a genome-wide significant log-odds score at any locus (Figure {@fig:qtl-scans}; *Materials and Methods*).',\n",
       " 'Using the BXDs with *D* genotypes at `rs27509845`, we found a locus on chromosome 6 linked to mutation spectrum variation (see Figure {@fig:distance-results}b). The maximum adjusted cosine distance was 3.69e-3 at marker `rs46276051`, located at 111.27 Mbp in GRCm38/mm10 coordinates, with a 90% bootstrap confidence interval between 95.01 - 114.02 Mbp. This association was exclusive to BXDs with *D* genotypes at `rs27509845`, as no new mutator loci were identified in BXDs with *B* genotypes at the same locus (see Figure {@fig:distance-results}c). The peak markers on chromosomes 4 and 6 showed weak linkage disequilibrium ($R^2$ = 4e-5). QTL scans for the fractions of each 1-mer mutation type did not yield any genome-wide significant log-odds scores at any locus (refer to Figure {@fig:qtl-scans} and *Materials and Methods* for details).')"
      ]
     },
     "metadata": {},
     "output_type": "display_data"
    }
   ],
   "source": [
    "display(paragraph_matches[-1])"
   ]
  },
  {
   "cell_type": "markdown",
   "id": "b74fe2fe-8ccf-4899-90af-5968c15a800b",
   "metadata": {
    "editable": true,
    "papermill": {
     "duration": 0.033692,
     "end_time": "2024-03-23T05:13:46.693727",
     "exception": false,
     "start_time": "2024-03-23T05:13:46.660035",
     "status": "completed"
    },
    "slideshow": {
     "slide_type": ""
    },
    "tags": []
   },
   "source": [
    "####  Paragraph 06"
   ]
  },
  {
   "cell_type": "code",
   "execution_count": 97,
   "id": "99fb409a-bab4-4e45-a4fb-c2ed71fc9ef9",
   "metadata": {
    "execution": {
     "iopub.execute_input": "2024-03-23T05:13:46.762510Z",
     "iopub.status.busy": "2024-03-23T05:13:46.762114Z",
     "iopub.status.idle": "2024-03-23T05:13:46.765751Z",
     "shell.execute_reply": "2024-03-23T05:13:46.765198Z"
    },
    "papermill": {
     "duration": 0.038916,
     "end_time": "2024-03-23T05:13:46.766531",
     "exception": false,
     "start_time": "2024-03-23T05:13:46.727615",
     "status": "completed"
    },
    "tags": []
   },
   "outputs": [
    {
     "name": "stdout",
     "output_type": "stream",
     "text": [
      "We queried the region surrounding the top marker on chromosome 6 (+/- the 90% bootstrap confidence interval) and discovered 64 protein-coding genes, of which four were annotated with a Gene Ontology (GO) [@PMID:10802651;@PMID:33290552] term related to \"DNA repair\": *Fancd2*, *Ogg1*, *Setmar*, and *Rad18*. None of the remaining genes were annotated with a cellular function that would obviously contribute to a germline mutator phenotype; however, many of these GO annotations are imperfect and/or incomplete. Although we focus our analysis on DNA repair genes, it remains possible that other genes within the confidence interval could underlie the C>A mutator phenotype we identified in the BXDs.\n"
     ]
    }
   ],
   "source": [
    "par0 = process_paragraph(orig_section_paragraphs[12])\n",
    "print(par0)"
   ]
  },
  {
   "cell_type": "code",
   "execution_count": 98,
   "id": "a53b6003-4222-494f-9a9a-13ce86b1f319",
   "metadata": {
    "execution": {
     "iopub.execute_input": "2024-03-23T05:13:46.835379Z",
     "iopub.status.busy": "2024-03-23T05:13:46.835224Z",
     "iopub.status.idle": "2024-03-23T05:13:46.838260Z",
     "shell.execute_reply": "2024-03-23T05:13:46.837787Z"
    },
    "papermill": {
     "duration": 0.038267,
     "end_time": "2024-03-23T05:13:46.839015",
     "exception": false,
     "start_time": "2024-03-23T05:13:46.800748",
     "status": "completed"
    },
    "tags": []
   },
   "outputs": [
    {
     "name": "stdout",
     "output_type": "stream",
     "text": [
      "We identified 64 protein-coding genes in the region surrounding the top marker on chromosome 6, within the 90% bootstrap confidence interval. Among these genes, four (*Fancd2*, *Ogg1*, *Setmar*, and *Rad18*) were annotated with a Gene Ontology (GO) term related to \"DNA repair.\" The remaining genes did not have annotations indicating a clear contribution to a germline mutator phenotype, but it is important to note that these annotations may be incomplete. While our analysis focused on DNA repair genes, there is a possibility that other genes in this region could be responsible for the C>A mutator phenotype observed in the BXDs.\n"
     ]
    }
   ],
   "source": [
    "par1 = process_paragraph(mod_section_paragraphs[12])\n",
    "print(par1)"
   ]
  },
  {
   "cell_type": "code",
   "execution_count": 99,
   "id": "ca602cef-93bc-4542-a9eb-395479bd7e67",
   "metadata": {
    "execution": {
     "iopub.execute_input": "2024-03-23T05:13:46.907842Z",
     "iopub.status.busy": "2024-03-23T05:13:46.907450Z",
     "iopub.status.idle": "2024-03-23T05:13:46.910449Z",
     "shell.execute_reply": "2024-03-23T05:13:46.909907Z"
    },
    "papermill": {
     "duration": 0.03815,
     "end_time": "2024-03-23T05:13:46.911226",
     "exception": false,
     "start_time": "2024-03-23T05:13:46.873076",
     "status": "completed"
    },
    "tags": []
   },
   "outputs": [],
   "source": [
    "paragraph_matches.append(\n",
    "    (\n",
    "        section_name,\n",
    "        par0,\n",
    "        par1,\n",
    "    )\n",
    ")"
   ]
  },
  {
   "cell_type": "code",
   "execution_count": 100,
   "id": "24877494-3422-4583-a332-a3cbc72438f6",
   "metadata": {
    "execution": {
     "iopub.execute_input": "2024-03-23T05:13:46.979868Z",
     "iopub.status.busy": "2024-03-23T05:13:46.979725Z",
     "iopub.status.idle": "2024-03-23T05:13:46.983483Z",
     "shell.execute_reply": "2024-03-23T05:13:46.982913Z"
    },
    "papermill": {
     "duration": 0.03882,
     "end_time": "2024-03-23T05:13:46.984274",
     "exception": false,
     "start_time": "2024-03-23T05:13:46.945454",
     "status": "completed"
    },
    "tags": []
   },
   "outputs": [
    {
     "data": {
      "text/plain": [
       "('results',\n",
       " 'We queried the region surrounding the top marker on chromosome 6 (+/- the 90% bootstrap confidence interval) and discovered 64 protein-coding genes, of which four were annotated with a Gene Ontology (GO) [@PMID:10802651;@PMID:33290552] term related to \"DNA repair\": *Fancd2*, *Ogg1*, *Setmar*, and *Rad18*. None of the remaining genes were annotated with a cellular function that would obviously contribute to a germline mutator phenotype; however, many of these GO annotations are imperfect and/or incomplete. Although we focus our analysis on DNA repair genes, it remains possible that other genes within the confidence interval could underlie the C>A mutator phenotype we identified in the BXDs.',\n",
       " 'We identified 64 protein-coding genes in the region surrounding the top marker on chromosome 6, within the 90% bootstrap confidence interval. Among these genes, four (*Fancd2*, *Ogg1*, *Setmar*, and *Rad18*) were annotated with a Gene Ontology (GO) term related to \"DNA repair.\" The remaining genes did not have annotations indicating a clear contribution to a germline mutator phenotype, but it is important to note that these annotations may be incomplete. While our analysis focused on DNA repair genes, there is a possibility that other genes in this region could be responsible for the C>A mutator phenotype observed in the BXDs.')"
      ]
     },
     "metadata": {},
     "output_type": "display_data"
    }
   ],
   "source": [
    "display(paragraph_matches[-1])"
   ]
  },
  {
   "cell_type": "markdown",
   "id": "2356ca2d-511b-49db-b069-f3cc165e1b94",
   "metadata": {
    "editable": true,
    "papermill": {
     "duration": 0.03383,
     "end_time": "2024-03-23T05:13:47.052292",
     "exception": false,
     "start_time": "2024-03-23T05:13:47.018462",
     "status": "completed"
    },
    "slideshow": {
     "slide_type": ""
    },
    "tags": []
   },
   "source": [
    "####  Paragraph 07"
   ]
  },
  {
   "cell_type": "code",
   "execution_count": 101,
   "id": "7cefae50-d882-4e46-aad8-db31d9e2a09e",
   "metadata": {
    "execution": {
     "iopub.execute_input": "2024-03-23T05:13:47.120489Z",
     "iopub.status.busy": "2024-03-23T05:13:47.120320Z",
     "iopub.status.idle": "2024-03-23T05:13:47.123517Z",
     "shell.execute_reply": "2024-03-23T05:13:47.123008Z"
    },
    "papermill": {
     "duration": 0.038055,
     "end_time": "2024-03-23T05:13:47.124284",
     "exception": false,
     "start_time": "2024-03-23T05:13:47.086229",
     "status": "completed"
    },
    "tags": []
   },
   "outputs": [
    {
     "name": "stdout",
     "output_type": "stream",
     "text": [
      "Of the annotated DNA repair genes within the confidence interval, two harbored nonsynonymous differences between the parental C57BL/6J and DBA/2J strains (Table @tbl:nonsyn-diffs). *Ogg1* encodes a key member of the base-excision repair response to oxidative DNA damage (a pathway that also includes *Mutyh*), and in mice *Setmar* encodes a SET domain-containing histone methyltransferase; both *Ogg1* and *Setmar* are expressed in mouse gonadal cells. Because the bootstrap can exhibit poor coverage in QTL mapping studies [@PMID:16783000], we also scanned an interval +/- 5 Mbp from the peak AMSD marker on chromosome 6 for additional candidate genes. Although the choice of a 10 Mbp interval is somewhat arbitrary, the interval does contain a plausible candidate: *Mbd4*, a protein-coding gene involved in base excision repair that also harbors a non-synonymous difference between the BXD parental strains (Table @tbl:nonsyn-diffs).\n"
     ]
    }
   ],
   "source": [
    "par0 = process_paragraph(orig_section_paragraphs[13])\n",
    "print(par0)"
   ]
  },
  {
   "cell_type": "code",
   "execution_count": 102,
   "id": "6d5a7362-ecaf-4b7b-afd2-94de3971f1da",
   "metadata": {
    "execution": {
     "iopub.execute_input": "2024-03-23T05:13:47.192627Z",
     "iopub.status.busy": "2024-03-23T05:13:47.192511Z",
     "iopub.status.idle": "2024-03-23T05:13:47.195203Z",
     "shell.execute_reply": "2024-03-23T05:13:47.194701Z"
    },
    "papermill": {
     "duration": 0.037436,
     "end_time": "2024-03-23T05:13:47.195902",
     "exception": false,
     "start_time": "2024-03-23T05:13:47.158466",
     "status": "completed"
    },
    "tags": []
   },
   "outputs": [
    {
     "name": "stdout",
     "output_type": "stream",
     "text": [
      "Within the confidence interval of annotated DNA repair genes, two genes, *Ogg1* and *Setmar*, showed nonsynonymous differences between the C57BL/6J and DBA/2J strains (Table @tbl:nonsyn-diffs). *Ogg1* is involved in base-excision repair in response to oxidative DNA damage, along with *Mutyh*. *Setmar* encodes a histone methyltransferase with a SET domain and is expressed in mouse gonadal cells. To address potential poor coverage in QTL mapping studies, we expanded our search to an interval +/- 5 Mbp from the peak AMSD marker on chromosome 6 for additional candidate genes. In this expanded interval, we identified *Mbd4*, a protein-coding gene involved in base excision repair that also showed a non-synonymous difference between the BXD parental strains (Table @tbl:nonsyn-diffs).\n"
     ]
    }
   ],
   "source": [
    "par1 = process_paragraph(mod_section_paragraphs[13])\n",
    "print(par1)"
   ]
  },
  {
   "cell_type": "code",
   "execution_count": 103,
   "id": "f52ab2d5-e633-4d94-b0c2-6afce0210cf1",
   "metadata": {
    "execution": {
     "iopub.execute_input": "2024-03-23T05:13:47.264158Z",
     "iopub.status.busy": "2024-03-23T05:13:47.264041Z",
     "iopub.status.idle": "2024-03-23T05:13:47.266874Z",
     "shell.execute_reply": "2024-03-23T05:13:47.266260Z"
    },
    "papermill": {
     "duration": 0.037496,
     "end_time": "2024-03-23T05:13:47.267602",
     "exception": false,
     "start_time": "2024-03-23T05:13:47.230106",
     "status": "completed"
    },
    "tags": []
   },
   "outputs": [],
   "source": [
    "paragraph_matches.append(\n",
    "    (\n",
    "        section_name,\n",
    "        par0,\n",
    "        par1,\n",
    "    )\n",
    ")"
   ]
  },
  {
   "cell_type": "code",
   "execution_count": 104,
   "id": "c7d73c47-7d4c-4646-981a-22ddf90c7ba9",
   "metadata": {
    "execution": {
     "iopub.execute_input": "2024-03-23T05:13:47.336708Z",
     "iopub.status.busy": "2024-03-23T05:13:47.336160Z",
     "iopub.status.idle": "2024-03-23T05:13:47.340310Z",
     "shell.execute_reply": "2024-03-23T05:13:47.339805Z"
    },
    "papermill": {
     "duration": 0.039316,
     "end_time": "2024-03-23T05:13:47.340970",
     "exception": false,
     "start_time": "2024-03-23T05:13:47.301654",
     "status": "completed"
    },
    "tags": []
   },
   "outputs": [
    {
     "data": {
      "text/plain": [
       "('results',\n",
       " 'Of the annotated DNA repair genes within the confidence interval, two harbored nonsynonymous differences between the parental C57BL/6J and DBA/2J strains (Table @tbl:nonsyn-diffs). *Ogg1* encodes a key member of the base-excision repair response to oxidative DNA damage (a pathway that also includes *Mutyh*), and in mice *Setmar* encodes a SET domain-containing histone methyltransferase; both *Ogg1* and *Setmar* are expressed in mouse gonadal cells. Because the bootstrap can exhibit poor coverage in QTL mapping studies [@PMID:16783000], we also scanned an interval +/- 5 Mbp from the peak AMSD marker on chromosome 6 for additional candidate genes. Although the choice of a 10 Mbp interval is somewhat arbitrary, the interval does contain a plausible candidate: *Mbd4*, a protein-coding gene involved in base excision repair that also harbors a non-synonymous difference between the BXD parental strains (Table @tbl:nonsyn-diffs).',\n",
       " 'Within the confidence interval of annotated DNA repair genes, two genes, *Ogg1* and *Setmar*, showed nonsynonymous differences between the C57BL/6J and DBA/2J strains (Table @tbl:nonsyn-diffs). *Ogg1* is involved in base-excision repair in response to oxidative DNA damage, along with *Mutyh*. *Setmar* encodes a histone methyltransferase with a SET domain and is expressed in mouse gonadal cells. To address potential poor coverage in QTL mapping studies, we expanded our search to an interval +/- 5 Mbp from the peak AMSD marker on chromosome 6 for additional candidate genes. In this expanded interval, we identified *Mbd4*, a protein-coding gene involved in base excision repair that also showed a non-synonymous difference between the BXD parental strains (Table @tbl:nonsyn-diffs).')"
      ]
     },
     "metadata": {},
     "output_type": "display_data"
    }
   ],
   "source": [
    "display(paragraph_matches[-1])"
   ]
  },
  {
   "cell_type": "markdown",
   "id": "89e6630c-6ef0-4406-9a7b-f6d120b497ac",
   "metadata": {
    "editable": true,
    "papermill": {
     "duration": 0.061186,
     "end_time": "2024-03-23T05:13:47.436697",
     "exception": false,
     "start_time": "2024-03-23T05:13:47.375511",
     "status": "completed"
    },
    "slideshow": {
     "slide_type": ""
    },
    "tags": []
   },
   "source": [
    "####  Paragraph 08"
   ]
  },
  {
   "cell_type": "code",
   "execution_count": 105,
   "id": "c831b273-be7d-49d2-a175-cb7610f0735b",
   "metadata": {
    "execution": {
     "iopub.execute_input": "2024-03-23T05:13:47.506161Z",
     "iopub.status.busy": "2024-03-23T05:13:47.505801Z",
     "iopub.status.idle": "2024-03-23T05:13:47.509458Z",
     "shell.execute_reply": "2024-03-23T05:13:47.508895Z"
    },
    "papermill": {
     "duration": 0.039376,
     "end_time": "2024-03-23T05:13:47.510274",
     "exception": false,
     "start_time": "2024-03-23T05:13:47.470898",
     "status": "completed"
    },
    "tags": []
   },
   "outputs": [
    {
     "name": "stdout",
     "output_type": "stream",
     "text": [
      "We also considered the possibility that expression quantitative trait loci (eQTLs), rather than nonsynonymous mutations, could contribute to the C>A mutator phenotype associated with the locus on chromosome 6. Using GeneNetwork [@PMID:27933521] we mapped eQTLs for the five aforementioned DNA repair genes (as well as *Mbd4*) in a number of tissues, though we did not have access to expression data from germline cells. Notably, *D* alleles near the cosine distance peak on chromosome 6 were significantly associated with decreased *Ogg1* expression in kidney, liver, hippocampus, and gastrointestinal tissues (Table @tbl:eqtl-results). Although these cis-eQTLs are challenging to interpret (given their tissue specificity and our lack of access to germline expression data), the presence of strong-effect cis-eQTLs for *Ogg1* suggests that the C>A mutator phenotype observed in the BXDs may be mediated by regulatory, rather than protein-altering, variants.\n"
     ]
    }
   ],
   "source": [
    "par0 = process_paragraph(orig_section_paragraphs[16])\n",
    "print(par0)"
   ]
  },
  {
   "cell_type": "code",
   "execution_count": 106,
   "id": "6499a9fd-989c-4709-b249-f4a257fb544f",
   "metadata": {
    "execution": {
     "iopub.execute_input": "2024-03-23T05:13:47.580677Z",
     "iopub.status.busy": "2024-03-23T05:13:47.580323Z",
     "iopub.status.idle": "2024-03-23T05:13:47.583665Z",
     "shell.execute_reply": "2024-03-23T05:13:47.583135Z"
    },
    "papermill": {
     "duration": 0.039282,
     "end_time": "2024-03-23T05:13:47.584463",
     "exception": false,
     "start_time": "2024-03-23T05:13:47.545181",
     "status": "completed"
    },
    "tags": []
   },
   "outputs": [
    {
     "name": "stdout",
     "output_type": "stream",
     "text": [
      "We investigated whether expression quantitative trait loci (eQTLs) could be contributing to the C>A mutator phenotype linked to the locus on chromosome 6. Through GeneNetwork, we identified eQTLs for the five DNA repair genes mentioned, including *Mbd4*, in various tissues. Notably, *D* alleles near the peak of cosine distance on chromosome 6 showed a significant association with reduced *Ogg1* expression in kidney, liver, hippocampus, and gastrointestinal tissues (see Table 1 for eQTL results). These cis-eQTLs, while challenging to interpret due to tissue specificity and lack of germline expression data, suggest that the C>A mutator phenotype in BXDs may be influenced by regulatory rather than protein-altering variants.\n"
     ]
    }
   ],
   "source": [
    "par1 = process_paragraph(mod_section_paragraphs[16])\n",
    "print(par1)"
   ]
  },
  {
   "cell_type": "code",
   "execution_count": 107,
   "id": "89b83699-ee3d-4f92-9def-dc973f77f986",
   "metadata": {
    "execution": {
     "iopub.execute_input": "2024-03-23T05:13:47.655588Z",
     "iopub.status.busy": "2024-03-23T05:13:47.655249Z",
     "iopub.status.idle": "2024-03-23T05:13:47.658179Z",
     "shell.execute_reply": "2024-03-23T05:13:47.657633Z"
    },
    "papermill": {
     "duration": 0.039129,
     "end_time": "2024-03-23T05:13:47.658943",
     "exception": false,
     "start_time": "2024-03-23T05:13:47.619814",
     "status": "completed"
    },
    "tags": []
   },
   "outputs": [],
   "source": [
    "paragraph_matches.append(\n",
    "    (\n",
    "        section_name,\n",
    "        par0,\n",
    "        par1,\n",
    "    )\n",
    ")"
   ]
  },
  {
   "cell_type": "code",
   "execution_count": 108,
   "id": "79d4aabc-d91e-4b5d-b3fc-c4b0e73781b8",
   "metadata": {
    "execution": {
     "iopub.execute_input": "2024-03-23T05:13:47.728960Z",
     "iopub.status.busy": "2024-03-23T05:13:47.728614Z",
     "iopub.status.idle": "2024-03-23T05:13:47.732660Z",
     "shell.execute_reply": "2024-03-23T05:13:47.732160Z"
    },
    "papermill": {
     "duration": 0.039694,
     "end_time": "2024-03-23T05:13:47.733470",
     "exception": false,
     "start_time": "2024-03-23T05:13:47.693776",
     "status": "completed"
    },
    "tags": []
   },
   "outputs": [
    {
     "data": {
      "text/plain": [
       "('results',\n",
       " 'We also considered the possibility that expression quantitative trait loci (eQTLs), rather than nonsynonymous mutations, could contribute to the C>A mutator phenotype associated with the locus on chromosome 6. Using GeneNetwork [@PMID:27933521] we mapped eQTLs for the five aforementioned DNA repair genes (as well as *Mbd4*) in a number of tissues, though we did not have access to expression data from germline cells. Notably, *D* alleles near the cosine distance peak on chromosome 6 were significantly associated with decreased *Ogg1* expression in kidney, liver, hippocampus, and gastrointestinal tissues (Table @tbl:eqtl-results). Although these cis-eQTLs are challenging to interpret (given their tissue specificity and our lack of access to germline expression data), the presence of strong-effect cis-eQTLs for *Ogg1* suggests that the C>A mutator phenotype observed in the BXDs may be mediated by regulatory, rather than protein-altering, variants.',\n",
       " 'We investigated whether expression quantitative trait loci (eQTLs) could be contributing to the C>A mutator phenotype linked to the locus on chromosome 6. Through GeneNetwork, we identified eQTLs for the five DNA repair genes mentioned, including *Mbd4*, in various tissues. Notably, *D* alleles near the peak of cosine distance on chromosome 6 showed a significant association with reduced *Ogg1* expression in kidney, liver, hippocampus, and gastrointestinal tissues (see Table 1 for eQTL results). These cis-eQTLs, while challenging to interpret due to tissue specificity and lack of germline expression data, suggest that the C>A mutator phenotype in BXDs may be influenced by regulatory rather than protein-altering variants.')"
      ]
     },
     "metadata": {},
     "output_type": "display_data"
    }
   ],
   "source": [
    "display(paragraph_matches[-1])"
   ]
  },
  {
   "cell_type": "markdown",
   "id": "44f55e62-be29-48ba-ad4b-fc13ef8b84c5",
   "metadata": {
    "editable": true,
    "papermill": {
     "duration": 0.034039,
     "end_time": "2024-03-23T05:13:47.801847",
     "exception": false,
     "start_time": "2024-03-23T05:13:47.767808",
     "status": "completed"
    },
    "slideshow": {
     "slide_type": ""
    },
    "tags": []
   },
   "source": [
    "####  Paragraph 09"
   ]
  },
  {
   "cell_type": "code",
   "execution_count": 109,
   "id": "f334f125-c6b8-4e66-ae4a-304acf30a4c6",
   "metadata": {
    "execution": {
     "iopub.execute_input": "2024-03-23T05:13:47.871232Z",
     "iopub.status.busy": "2024-03-23T05:13:47.870893Z",
     "iopub.status.idle": "2024-03-23T05:13:47.874277Z",
     "shell.execute_reply": "2024-03-23T05:13:47.873672Z"
    },
    "papermill": {
     "duration": 0.038647,
     "end_time": "2024-03-23T05:13:47.874969",
     "exception": false,
     "start_time": "2024-03-23T05:13:47.836322",
     "status": "completed"
    },
    "tags": []
   },
   "outputs": [
    {
     "name": "stdout",
     "output_type": "stream",
     "text": [
      "Next, we more precisely characterized the effects of the chromosome 4 and 6 mutator alleles on mutation spectra in the BXDs. To pinpoint the mutation type(s) that underlied the significant cosine distance peak on chromosome 6, we compared the aggregate counts of each 1-mer mutation type (plus CpG>TpG) on BXD haplotypes with *D* genotypes at `rs27509845` and either *D* or *B* genotypes at `rs46276051`. We found that C>A mutations were significantly enriched on BXD haplotypes with *D* genotypes at the chromosome 6 mutator locus, relative to those with *B* genotypes ($\\chi^2$ statistic = 85.36, p = 2.48e-20). On average, C>A germline mutation fractions were significantly higher in BXDs with *D* alleles at both mutator loci than in BXDs with *D* alleles at either locus alone (Figure {@fig:spectra-comparison}a and @fig:spectra-comparison-all). Among BXDs with *B* alleles at the locus overlapping *Mutyh*, those with *D* alleles on chromosome 6 did not exhibit significantly elevated C>A mutation fractions (Figure {@fig:spectra-comparison}a). After controlling for inbreeding duration, we observed that C>A *de novo* mutation counts were always highest in BXDs with *D* alleles at both mutator loci (Figure {@fig:spectra-comparison}b). After 100 generations of inbreeding, BXDs with *D* alleles at both mutator loci were predicted to have 238.9 C>A mutations (95% CI: 231.4 - 246.4), about 20% more than the 199.0 mutations (95% CI: 193.3 - 204.7) predicted in those with *D* and *B* alleles at the chromosome 4 and chromosome 6 loci, respectively (Figure {@fig:spectra-comparison}b).\n"
     ]
    }
   ],
   "source": [
    "par0 = process_paragraph(orig_section_paragraphs[21])\n",
    "print(par0)"
   ]
  },
  {
   "cell_type": "code",
   "execution_count": 110,
   "id": "eed868ea-308c-4b7f-971b-0e78e4ef2332",
   "metadata": {
    "execution": {
     "iopub.execute_input": "2024-03-23T05:13:47.944629Z",
     "iopub.status.busy": "2024-03-23T05:13:47.944187Z",
     "iopub.status.idle": "2024-03-23T05:13:47.947596Z",
     "shell.execute_reply": "2024-03-23T05:13:47.947067Z"
    },
    "papermill": {
     "duration": 0.038719,
     "end_time": "2024-03-23T05:13:47.948360",
     "exception": false,
     "start_time": "2024-03-23T05:13:47.909641",
     "status": "completed"
    },
    "tags": []
   },
   "outputs": [
    {
     "name": "stdout",
     "output_type": "stream",
     "text": [
      "We further analyzed the effects of chromosome 4 and 6 mutator alleles on mutation spectra in the BXDs. By comparing the counts of each 1-mer mutation type (including CpG>TpG) on BXD haplotypes with *D* genotypes at `rs27509845` and either *D* or *B* genotypes at `rs46276051`, we identified a significant enrichment of C>A mutations on BXD haplotypes with *D* genotypes at the chromosome 6 mutator locus compared to those with *B* genotypes (χ² statistic = 85.36, p = 2.48e-20). BXDs with *D* alleles at both mutator loci had higher C>A germline mutation fractions compared to those with *D* alleles at either locus alone. Conversely, BXDs with *B* alleles at the *Mutyh* locus did not show elevated C>A mutation fractions, even with *D* alleles on chromosome 6. When considering inbreeding duration, BXDs with *D* alleles at both mutator loci consistently had the highest C>A *de novo* mutation counts. After 100 generations of inbreeding, BXDs with *D* alleles at both mutator loci were predicted to have 238.9 C>A mutations (95% CI: 231.4 - 246.4), approximately 20% more than those with *D* and *B* alleles at the chromosome 4 and 6 loci, respectively.\n"
     ]
    }
   ],
   "source": [
    "par1 = process_paragraph(mod_section_paragraphs[21])\n",
    "print(par1)"
   ]
  },
  {
   "cell_type": "code",
   "execution_count": 111,
   "id": "1529d52a-b4e8-465a-b175-3072b4a09b52",
   "metadata": {
    "execution": {
     "iopub.execute_input": "2024-03-23T05:13:48.018871Z",
     "iopub.status.busy": "2024-03-23T05:13:48.018481Z",
     "iopub.status.idle": "2024-03-23T05:13:48.021414Z",
     "shell.execute_reply": "2024-03-23T05:13:48.020886Z"
    },
    "papermill": {
     "duration": 0.039063,
     "end_time": "2024-03-23T05:13:48.022267",
     "exception": false,
     "start_time": "2024-03-23T05:13:47.983204",
     "status": "completed"
    },
    "tags": []
   },
   "outputs": [],
   "source": [
    "paragraph_matches.append(\n",
    "    (\n",
    "        section_name,\n",
    "        par0,\n",
    "        par1,\n",
    "    )\n",
    ")"
   ]
  },
  {
   "cell_type": "code",
   "execution_count": 112,
   "id": "0955d874-118e-4f21-a6e4-917934d9178b",
   "metadata": {
    "execution": {
     "iopub.execute_input": "2024-03-23T05:13:48.093061Z",
     "iopub.status.busy": "2024-03-23T05:13:48.092588Z",
     "iopub.status.idle": "2024-03-23T05:13:48.096083Z",
     "shell.execute_reply": "2024-03-23T05:13:48.095671Z"
    },
    "papermill": {
     "duration": 0.039645,
     "end_time": "2024-03-23T05:13:48.096833",
     "exception": false,
     "start_time": "2024-03-23T05:13:48.057188",
     "status": "completed"
    },
    "tags": []
   },
   "outputs": [
    {
     "data": {
      "text/plain": [
       "('results',\n",
       " 'Next, we more precisely characterized the effects of the chromosome 4 and 6 mutator alleles on mutation spectra in the BXDs. To pinpoint the mutation type(s) that underlied the significant cosine distance peak on chromosome 6, we compared the aggregate counts of each 1-mer mutation type (plus CpG>TpG) on BXD haplotypes with *D* genotypes at `rs27509845` and either *D* or *B* genotypes at `rs46276051`. We found that C>A mutations were significantly enriched on BXD haplotypes with *D* genotypes at the chromosome 6 mutator locus, relative to those with *B* genotypes ($\\\\chi^2$ statistic = 85.36, p = 2.48e-20). On average, C>A germline mutation fractions were significantly higher in BXDs with *D* alleles at both mutator loci than in BXDs with *D* alleles at either locus alone (Figure {@fig:spectra-comparison}a and @fig:spectra-comparison-all). Among BXDs with *B* alleles at the locus overlapping *Mutyh*, those with *D* alleles on chromosome 6 did not exhibit significantly elevated C>A mutation fractions (Figure {@fig:spectra-comparison}a). After controlling for inbreeding duration, we observed that C>A *de novo* mutation counts were always highest in BXDs with *D* alleles at both mutator loci (Figure {@fig:spectra-comparison}b). After 100 generations of inbreeding, BXDs with *D* alleles at both mutator loci were predicted to have 238.9 C>A mutations (95% CI: 231.4 - 246.4), about 20% more than the 199.0 mutations (95% CI: 193.3 - 204.7) predicted in those with *D* and *B* alleles at the chromosome 4 and chromosome 6 loci, respectively (Figure {@fig:spectra-comparison}b).',\n",
       " 'We further analyzed the effects of chromosome 4 and 6 mutator alleles on mutation spectra in the BXDs. By comparing the counts of each 1-mer mutation type (including CpG>TpG) on BXD haplotypes with *D* genotypes at `rs27509845` and either *D* or *B* genotypes at `rs46276051`, we identified a significant enrichment of C>A mutations on BXD haplotypes with *D* genotypes at the chromosome 6 mutator locus compared to those with *B* genotypes (χ² statistic = 85.36, p = 2.48e-20). BXDs with *D* alleles at both mutator loci had higher C>A germline mutation fractions compared to those with *D* alleles at either locus alone. Conversely, BXDs with *B* alleles at the *Mutyh* locus did not show elevated C>A mutation fractions, even with *D* alleles on chromosome 6. When considering inbreeding duration, BXDs with *D* alleles at both mutator loci consistently had the highest C>A *de novo* mutation counts. After 100 generations of inbreeding, BXDs with *D* alleles at both mutator loci were predicted to have 238.9 C>A mutations (95% CI: 231.4 - 246.4), approximately 20% more than those with *D* and *B* alleles at the chromosome 4 and 6 loci, respectively.')"
      ]
     },
     "metadata": {},
     "output_type": "display_data"
    }
   ],
   "source": [
    "display(paragraph_matches[-1])"
   ]
  },
  {
   "cell_type": "markdown",
   "id": "c135c0e1-e1f8-4d42-879d-89426e24ed45",
   "metadata": {
    "editable": true,
    "papermill": {
     "duration": 0.034171,
     "end_time": "2024-03-23T05:13:48.166077",
     "exception": false,
     "start_time": "2024-03-23T05:13:48.131906",
     "status": "completed"
    },
    "slideshow": {
     "slide_type": ""
    },
    "tags": []
   },
   "source": [
    "####  Paragraph 10"
   ]
  },
  {
   "cell_type": "code",
   "execution_count": 113,
   "id": "e4fa4c5f-4e54-4328-bd7a-401148f9f94d",
   "metadata": {
    "execution": {
     "iopub.execute_input": "2024-03-23T05:13:48.235687Z",
     "iopub.status.busy": "2024-03-23T05:13:48.235196Z",
     "iopub.status.idle": "2024-03-23T05:13:48.238706Z",
     "shell.execute_reply": "2024-03-23T05:13:48.238153Z"
    },
    "papermill": {
     "duration": 0.039069,
     "end_time": "2024-03-23T05:13:48.239491",
     "exception": false,
     "start_time": "2024-03-23T05:13:48.200422",
     "status": "completed"
    },
    "tags": []
   },
   "outputs": [
    {
     "name": "stdout",
     "output_type": "stream",
     "text": [
      "We also used SigProfilerExtractor [@PMID:36388765] to assign the germline mutations in each BXD to single-base substitution (SBS) mutation signatures from the COSMIC catalog [@PMID:30371878]. Mutation signatures often reflect specific exogenous or endogenous sources of DNA damage, and the proportions of mutations attributable to particular SBS signatures can suggest a genetic or environmental etiology. The SBS1, SBS5, and SBS30 mutation signatures were active in nearly all BXDs, regardless of genotypes at the chromosome 4 and 6 mutator loci (Figure {@fig:spectra-comparison}c). However, the SBS18 signature, which is dominated by C>A mutations and likely reflects unrepaired DNA damage from reactive oxygen species, was almost exclusively active in mice with *D* alleles at the chromosome 4 locus; the highest SBS18 activity was observed in mice with *D* alleles at both mutator loci (Figure {@fig:spectra-comparison}c). SBS18 activity was lowest in mice with *D* alleles at the chromosome 6 mutator locus alone (Figure {@fig:spectra-comparison}c), further demonstrating that *D* alleles at this locus are not sufficient to cause a mutator phenotype.\n"
     ]
    }
   ],
   "source": [
    "par0 = process_paragraph(orig_section_paragraphs[22])\n",
    "print(par0)"
   ]
  },
  {
   "cell_type": "code",
   "execution_count": 114,
   "id": "8ef28dba-b7fb-43c4-82aa-1af294f3b132",
   "metadata": {
    "execution": {
     "iopub.execute_input": "2024-03-23T05:13:48.310065Z",
     "iopub.status.busy": "2024-03-23T05:13:48.309522Z",
     "iopub.status.idle": "2024-03-23T05:13:48.313055Z",
     "shell.execute_reply": "2024-03-23T05:13:48.312471Z"
    },
    "papermill": {
     "duration": 0.039402,
     "end_time": "2024-03-23T05:13:48.313866",
     "exception": false,
     "start_time": "2024-03-23T05:13:48.274464",
     "status": "completed"
    },
    "tags": []
   },
   "outputs": [
    {
     "name": "stdout",
     "output_type": "stream",
     "text": [
      "We utilized SigProfilerExtractor to categorize germline mutations in each BXD strain into single-base substitution (SBS) mutation signatures from the COSMIC catalog. Mutation signatures can indicate specific sources of DNA damage, and the distribution of mutations linked to particular SBS signatures may suggest a genetic or environmental cause. SBS1, SBS5, and SBS30 mutation signatures were present in nearly all BXD strains, regardless of their genotypes at the chromosome 4 and 6 mutator loci (Figure 1c). However, the SBS18 signature, characterized by C>A mutations associated with unrepaired DNA damage from reactive oxygen species, was predominantly active in mice with *D* alleles at the chromosome 4 locus; the highest SBS18 activity was observed in mice with *D* alleles at both mutator loci (Figure 1c). Conversely, SBS18 activity was lowest in mice with *D* alleles at the chromosome 6 mutator locus alone (Figure 1c), indicating that *D* alleles at this locus alone are insufficient to induce a mutator phenotype.\n"
     ]
    }
   ],
   "source": [
    "par1 = process_paragraph(mod_section_paragraphs[22])\n",
    "print(par1)"
   ]
  },
  {
   "cell_type": "code",
   "execution_count": 115,
   "id": "4718c232-8aa5-4ed5-b89e-660464e699f8",
   "metadata": {
    "execution": {
     "iopub.execute_input": "2024-03-23T05:13:48.384715Z",
     "iopub.status.busy": "2024-03-23T05:13:48.384154Z",
     "iopub.status.idle": "2024-03-23T05:13:48.386980Z",
     "shell.execute_reply": "2024-03-23T05:13:48.386587Z"
    },
    "papermill": {
     "duration": 0.038876,
     "end_time": "2024-03-23T05:13:48.387835",
     "exception": false,
     "start_time": "2024-03-23T05:13:48.348959",
     "status": "completed"
    },
    "tags": []
   },
   "outputs": [],
   "source": [
    "paragraph_matches.append(\n",
    "    (\n",
    "        section_name,\n",
    "        par0,\n",
    "        par1,\n",
    "    )\n",
    ")"
   ]
  },
  {
   "cell_type": "code",
   "execution_count": 116,
   "id": "945b8e56-4588-4fd2-8880-d2a0b6edc44f",
   "metadata": {
    "execution": {
     "iopub.execute_input": "2024-03-23T05:13:48.458016Z",
     "iopub.status.busy": "2024-03-23T05:13:48.457596Z",
     "iopub.status.idle": "2024-03-23T05:13:48.461023Z",
     "shell.execute_reply": "2024-03-23T05:13:48.460599Z"
    },
    "papermill": {
     "duration": 0.039072,
     "end_time": "2024-03-23T05:13:48.461687",
     "exception": false,
     "start_time": "2024-03-23T05:13:48.422615",
     "status": "completed"
    },
    "tags": []
   },
   "outputs": [
    {
     "data": {
      "text/plain": [
       "('results',\n",
       " 'We also used SigProfilerExtractor [@PMID:36388765] to assign the germline mutations in each BXD to single-base substitution (SBS) mutation signatures from the COSMIC catalog [@PMID:30371878]. Mutation signatures often reflect specific exogenous or endogenous sources of DNA damage, and the proportions of mutations attributable to particular SBS signatures can suggest a genetic or environmental etiology. The SBS1, SBS5, and SBS30 mutation signatures were active in nearly all BXDs, regardless of genotypes at the chromosome 4 and 6 mutator loci (Figure {@fig:spectra-comparison}c). However, the SBS18 signature, which is dominated by C>A mutations and likely reflects unrepaired DNA damage from reactive oxygen species, was almost exclusively active in mice with *D* alleles at the chromosome 4 locus; the highest SBS18 activity was observed in mice with *D* alleles at both mutator loci (Figure {@fig:spectra-comparison}c). SBS18 activity was lowest in mice with *D* alleles at the chromosome 6 mutator locus alone (Figure {@fig:spectra-comparison}c), further demonstrating that *D* alleles at this locus are not sufficient to cause a mutator phenotype.',\n",
       " 'We utilized SigProfilerExtractor to categorize germline mutations in each BXD strain into single-base substitution (SBS) mutation signatures from the COSMIC catalog. Mutation signatures can indicate specific sources of DNA damage, and the distribution of mutations linked to particular SBS signatures may suggest a genetic or environmental cause. SBS1, SBS5, and SBS30 mutation signatures were present in nearly all BXD strains, regardless of their genotypes at the chromosome 4 and 6 mutator loci (Figure 1c). However, the SBS18 signature, characterized by C>A mutations associated with unrepaired DNA damage from reactive oxygen species, was predominantly active in mice with *D* alleles at the chromosome 4 locus; the highest SBS18 activity was observed in mice with *D* alleles at both mutator loci (Figure 1c). Conversely, SBS18 activity was lowest in mice with *D* alleles at the chromosome 6 mutator locus alone (Figure 1c), indicating that *D* alleles at this locus alone are insufficient to induce a mutator phenotype.')"
      ]
     },
     "metadata": {},
     "output_type": "display_data"
    }
   ],
   "source": [
    "display(paragraph_matches[-1])"
   ]
  },
  {
   "cell_type": "markdown",
   "id": "3e8883db-2409-452d-855c-e588b731772b",
   "metadata": {
    "editable": true,
    "papermill": {
     "duration": 0.034838,
     "end_time": "2024-03-23T05:13:48.558666",
     "exception": false,
     "start_time": "2024-03-23T05:13:48.523828",
     "status": "completed"
    },
    "slideshow": {
     "slide_type": ""
    },
    "tags": []
   },
   "source": [
    "####  Paragraph 11"
   ]
  },
  {
   "cell_type": "code",
   "execution_count": 117,
   "id": "da9880ac-57a2-455f-8960-0245934da706",
   "metadata": {
    "execution": {
     "iopub.execute_input": "2024-03-23T05:13:48.629616Z",
     "iopub.status.busy": "2024-03-23T05:13:48.629193Z",
     "iopub.status.idle": "2024-03-23T05:13:48.632123Z",
     "shell.execute_reply": "2024-03-23T05:13:48.631747Z"
    },
    "papermill": {
     "duration": 0.039156,
     "end_time": "2024-03-23T05:13:48.632871",
     "exception": false,
     "start_time": "2024-03-23T05:13:48.593715",
     "status": "completed"
    },
    "tags": []
   },
   "outputs": [
    {
     "name": "stdout",
     "output_type": "stream",
     "text": [
      "To more formally test for statistical epistasis, we fit a generalized (Poisson) linear model predicting counts of C>A mutations in each BXD as a function of genotypes at `rs27509845` and `rs46276051` (the markers with the largest adjusted cosine distance at the two mutator loci); the model also accounted for differences in inbreeding duration and sequencing coverage between the BXDs (*Materials and Methods*). A model that included an interaction term between genotypes at the two markers fit the data significantly better than a model including only additive effects (p = 7.92e-7; *Materials and Methods*), indicating that the combined effects of *D* genotypes at both loci exceeded the sum of marginal effects of *D* genotypes at either locus alone.\n"
     ]
    }
   ],
   "source": [
    "par0 = process_paragraph(orig_section_paragraphs[23])\n",
    "print(par0)"
   ]
  },
  {
   "cell_type": "code",
   "execution_count": 118,
   "id": "f0b19000-3f7e-4fb7-830a-134356b342c5",
   "metadata": {
    "execution": {
     "iopub.execute_input": "2024-03-23T05:13:48.703891Z",
     "iopub.status.busy": "2024-03-23T05:13:48.703417Z",
     "iopub.status.idle": "2024-03-23T05:13:48.706348Z",
     "shell.execute_reply": "2024-03-23T05:13:48.705965Z"
    },
    "papermill": {
     "duration": 0.039381,
     "end_time": "2024-03-23T05:13:48.707044",
     "exception": false,
     "start_time": "2024-03-23T05:13:48.667663",
     "status": "completed"
    },
    "tags": []
   },
   "outputs": [
    {
     "name": "stdout",
     "output_type": "stream",
     "text": [
      "To formally test for statistical epistasis, we used a generalized linear model to predict C>A mutation counts in each BXD based on genotypes at `rs27509845` and `rs46276051`, the markers with the highest adjusted cosine distance at the mutator loci. The model considered inbreeding duration, sequencing coverage, and included an interaction term between genotypes at the two markers. This model significantly outperformed a model with only additive effects (p = 7.92e-7), indicating that the combined effects of *D* genotypes at both loci were greater than the sum of the marginal effects of *D* genotypes at each locus individually.\n"
     ]
    }
   ],
   "source": [
    "par1 = process_paragraph(mod_section_paragraphs[23])\n",
    "print(par1)"
   ]
  },
  {
   "cell_type": "code",
   "execution_count": 119,
   "id": "fbe15e73-6f6b-40ac-b42a-5ebafc4d9ede",
   "metadata": {
    "execution": {
     "iopub.execute_input": "2024-03-23T05:13:48.778619Z",
     "iopub.status.busy": "2024-03-23T05:13:48.778021Z",
     "iopub.status.idle": "2024-03-23T05:13:48.781051Z",
     "shell.execute_reply": "2024-03-23T05:13:48.780594Z"
    },
    "papermill": {
     "duration": 0.039579,
     "end_time": "2024-03-23T05:13:48.781854",
     "exception": false,
     "start_time": "2024-03-23T05:13:48.742275",
     "status": "completed"
    },
    "tags": []
   },
   "outputs": [],
   "source": [
    "paragraph_matches.append(\n",
    "    (\n",
    "        section_name,\n",
    "        par0,\n",
    "        par1,\n",
    "    )\n",
    ")"
   ]
  },
  {
   "cell_type": "code",
   "execution_count": 120,
   "id": "b586c667-81ff-4275-81c1-ddc61bbb2db1",
   "metadata": {
    "execution": {
     "iopub.execute_input": "2024-03-23T05:13:48.853393Z",
     "iopub.status.busy": "2024-03-23T05:13:48.852998Z",
     "iopub.status.idle": "2024-03-23T05:13:48.856718Z",
     "shell.execute_reply": "2024-03-23T05:13:48.856359Z"
    },
    "papermill": {
     "duration": 0.040331,
     "end_time": "2024-03-23T05:13:48.857370",
     "exception": false,
     "start_time": "2024-03-23T05:13:48.817039",
     "status": "completed"
    },
    "tags": []
   },
   "outputs": [
    {
     "data": {
      "text/plain": [
       "('results',\n",
       " 'To more formally test for statistical epistasis, we fit a generalized (Poisson) linear model predicting counts of C>A mutations in each BXD as a function of genotypes at `rs27509845` and `rs46276051` (the markers with the largest adjusted cosine distance at the two mutator loci); the model also accounted for differences in inbreeding duration and sequencing coverage between the BXDs (*Materials and Methods*). A model that included an interaction term between genotypes at the two markers fit the data significantly better than a model including only additive effects (p = 7.92e-7; *Materials and Methods*), indicating that the combined effects of *D* genotypes at both loci exceeded the sum of marginal effects of *D* genotypes at either locus alone.',\n",
       " 'To formally test for statistical epistasis, we used a generalized linear model to predict C>A mutation counts in each BXD based on genotypes at `rs27509845` and `rs46276051`, the markers with the highest adjusted cosine distance at the mutator loci. The model considered inbreeding duration, sequencing coverage, and included an interaction term between genotypes at the two markers. This model significantly outperformed a model with only additive effects (p = 7.92e-7), indicating that the combined effects of *D* genotypes at both loci were greater than the sum of the marginal effects of *D* genotypes at each locus individually.')"
      ]
     },
     "metadata": {},
     "output_type": "display_data"
    }
   ],
   "source": [
    "display(paragraph_matches[-1])"
   ]
  },
  {
   "cell_type": "markdown",
   "id": "0ea98f86-5227-4a55-8f84-49dbf60db969",
   "metadata": {
    "editable": true,
    "papermill": {
     "duration": 0.034779,
     "end_time": "2024-03-23T05:13:48.927293",
     "exception": false,
     "start_time": "2024-03-23T05:13:48.892514",
     "status": "completed"
    },
    "slideshow": {
     "slide_type": ""
    },
    "tags": []
   },
   "source": [
    "####  Paragraph 12"
   ]
  },
  {
   "cell_type": "code",
   "execution_count": 121,
   "id": "56f75030-87f2-4cb0-8755-9ca29d97f8b4",
   "metadata": {
    "execution": {
     "iopub.execute_input": "2024-03-23T05:13:48.999102Z",
     "iopub.status.busy": "2024-03-23T05:13:48.998655Z",
     "iopub.status.idle": "2024-03-23T05:13:49.001917Z",
     "shell.execute_reply": "2024-03-23T05:13:49.001410Z"
    },
    "papermill": {
     "duration": 0.040132,
     "end_time": "2024-03-23T05:13:49.002677",
     "exception": false,
     "start_time": "2024-03-23T05:13:48.962545",
     "status": "completed"
    },
    "tags": []
   },
   "outputs": [
    {
     "name": "stdout",
     "output_type": "stream",
     "text": [
      "To explore the effects of the two mutator loci in other inbred laboratory mice, we also compared the germline mutation spectra of Sanger Mouse Genomes Project (MGP) strains [@PMID:21921910]. Dumont [@PMID:30753674] previously identified germline mutations that were private to each of the 29 MGP strains; these private variants likely represent recent *de novo* mutations (Figure {@fig:spectra-comparison-mgp}). Only two of the MGP strains possess *D* genotypes at both the chromosome 4 and chromosome 6 mutator loci: DBA/1J and DBA/2J. As before, we tested for epistasis in the MGP strains by fitting two linear models predicting C>A mutation counts as a function of genotypes at the two mutator loci. A model incorporating an interaction term did not fit the MGP data significantly better than a model with additive effects alone (p = 0.806), so we are unable to confirm the signal of epistasis; however, this may be due to the smaller number of MGP strains with *de novo* germline mutation data.\n"
     ]
    }
   ],
   "source": [
    "par0 = process_paragraph(orig_section_paragraphs[25])\n",
    "print(par0)"
   ]
  },
  {
   "cell_type": "code",
   "execution_count": 122,
   "id": "7391e6cf-4f0a-49cd-8a9c-616ca462108a",
   "metadata": {
    "execution": {
     "iopub.execute_input": "2024-03-23T05:13:49.075035Z",
     "iopub.status.busy": "2024-03-23T05:13:49.074608Z",
     "iopub.status.idle": "2024-03-23T05:13:49.077510Z",
     "shell.execute_reply": "2024-03-23T05:13:49.077105Z"
    },
    "papermill": {
     "duration": 0.040154,
     "end_time": "2024-03-23T05:13:49.078594",
     "exception": false,
     "start_time": "2024-03-23T05:13:49.038440",
     "status": "completed"
    },
    "tags": []
   },
   "outputs": [
    {
     "name": "stdout",
     "output_type": "stream",
     "text": [
      "To investigate the impact of mutator loci in other laboratory mice, we analyzed the germline mutation patterns of Sanger Mouse Genomes Project (MGP) strains. Dumont previously identified private germline mutations in 29 MGP strains, which likely represent recent spontaneous mutations. Among these strains, only DBA/1J and DBA/2J have mutator genotypes at both chromosome 4 and chromosome 6 loci. We tested for epistasis by analyzing C>A mutation counts based on genotypes at the two mutator loci. Our analysis did not show a significant improvement when adding an interaction term, indicating no clear evidence of epistasis in the MGP data. This lack of confirmation may be attributed to the limited number of MGP strains with spontaneous germline mutation data.\n"
     ]
    }
   ],
   "source": [
    "par1 = process_paragraph(mod_section_paragraphs[25])\n",
    "print(par1)"
   ]
  },
  {
   "cell_type": "code",
   "execution_count": 123,
   "id": "2546393c-1185-4f57-9d35-e12f16de378e",
   "metadata": {
    "execution": {
     "iopub.execute_input": "2024-03-23T05:13:49.151562Z",
     "iopub.status.busy": "2024-03-23T05:13:49.151169Z",
     "iopub.status.idle": "2024-03-23T05:13:49.153863Z",
     "shell.execute_reply": "2024-03-23T05:13:49.153438Z"
    },
    "papermill": {
     "duration": 0.039591,
     "end_time": "2024-03-23T05:13:49.154598",
     "exception": false,
     "start_time": "2024-03-23T05:13:49.115007",
     "status": "completed"
    },
    "tags": []
   },
   "outputs": [],
   "source": [
    "paragraph_matches.append(\n",
    "    (\n",
    "        section_name,\n",
    "        par0,\n",
    "        par1,\n",
    "    )\n",
    ")"
   ]
  },
  {
   "cell_type": "code",
   "execution_count": 124,
   "id": "690f8df7-ad99-44e1-878a-412c7a60f1ef",
   "metadata": {
    "execution": {
     "iopub.execute_input": "2024-03-23T05:13:49.227600Z",
     "iopub.status.busy": "2024-03-23T05:13:49.227148Z",
     "iopub.status.idle": "2024-03-23T05:13:49.230591Z",
     "shell.execute_reply": "2024-03-23T05:13:49.230196Z"
    },
    "papermill": {
     "duration": 0.04097,
     "end_time": "2024-03-23T05:13:49.231298",
     "exception": false,
     "start_time": "2024-03-23T05:13:49.190328",
     "status": "completed"
    },
    "tags": []
   },
   "outputs": [
    {
     "data": {
      "text/plain": [
       "('results',\n",
       " 'To explore the effects of the two mutator loci in other inbred laboratory mice, we also compared the germline mutation spectra of Sanger Mouse Genomes Project (MGP) strains [@PMID:21921910]. Dumont [@PMID:30753674] previously identified germline mutations that were private to each of the 29 MGP strains; these private variants likely represent recent *de novo* mutations (Figure {@fig:spectra-comparison-mgp}). Only two of the MGP strains possess *D* genotypes at both the chromosome 4 and chromosome 6 mutator loci: DBA/1J and DBA/2J. As before, we tested for epistasis in the MGP strains by fitting two linear models predicting C>A mutation counts as a function of genotypes at the two mutator loci. A model incorporating an interaction term did not fit the MGP data significantly better than a model with additive effects alone (p = 0.806), so we are unable to confirm the signal of epistasis; however, this may be due to the smaller number of MGP strains with *de novo* germline mutation data.',\n",
       " 'To investigate the impact of mutator loci in other laboratory mice, we analyzed the germline mutation patterns of Sanger Mouse Genomes Project (MGP) strains. Dumont previously identified private germline mutations in 29 MGP strains, which likely represent recent spontaneous mutations. Among these strains, only DBA/1J and DBA/2J have mutator genotypes at both chromosome 4 and chromosome 6 loci. We tested for epistasis by analyzing C>A mutation counts based on genotypes at the two mutator loci. Our analysis did not show a significant improvement when adding an interaction term, indicating no clear evidence of epistasis in the MGP data. This lack of confirmation may be attributed to the limited number of MGP strains with spontaneous germline mutation data.')"
      ]
     },
     "metadata": {},
     "output_type": "display_data"
    }
   ],
   "source": [
    "display(paragraph_matches[-1])"
   ]
  },
  {
   "cell_type": "markdown",
   "id": "f852f0ce-952e-465f-918f-65ecc44431c5",
   "metadata": {
    "editable": true,
    "papermill": {
     "duration": 0.035123,
     "end_time": "2024-03-23T05:13:49.301774",
     "exception": false,
     "start_time": "2024-03-23T05:13:49.266651",
     "status": "completed"
    },
    "slideshow": {
     "slide_type": ""
    },
    "tags": []
   },
   "source": [
    "####  Paragraph 13"
   ]
  },
  {
   "cell_type": "code",
   "execution_count": 125,
   "id": "b972f817-08a1-4d21-b0c5-d171b51ace1a",
   "metadata": {
    "execution": {
     "iopub.execute_input": "2024-03-23T05:13:49.401391Z",
     "iopub.status.busy": "2024-03-23T05:13:49.400949Z",
     "iopub.status.idle": "2024-03-23T05:13:49.403757Z",
     "shell.execute_reply": "2024-03-23T05:13:49.403376Z"
    },
    "papermill": {
     "duration": 0.040685,
     "end_time": "2024-03-23T05:13:49.404470",
     "exception": false,
     "start_time": "2024-03-23T05:13:49.363785",
     "status": "completed"
    },
    "tags": []
   },
   "outputs": [
    {
     "name": "stdout",
     "output_type": "stream",
     "text": [
      "To determine whether the candidate mutator alleles on chromosome 6 were segregating in natural populations, we queried previously published sequencing data generated from 67 wild-derived mice [@PMID:27622383]. These data include three subspecies of *Mus musculus*, as well as the outgroup *Mus spretus*. We found that the *Ogg1* *D* allele was segregating at an allele frequency of 0.259 in *Mus musculus domesticus*, the species from which C57BL/6J and DBA/2J derive the majority of their genomes [@PMID:17660819], and was fixed in *Mus musculus musculus*, *Mus musculus castaneus*, and the outgroup *Mus spretus* (Figure @fig:wild-afs). The *Setmar* p.Ser273Arg *D* allele was also present at an allele frequency of 0.37 in *Mus musculus domesticus*, while *D* alleles at the *Setmar* p.Leu103Phe variant were not observed in any wild *Mus musculus domesticus* animals. *D* alleles at the *Mbd4* p.Asp129Asn variant were also absent from all wild mouse populations (Figure @fig:wild-afs).\n"
     ]
    }
   ],
   "source": [
    "par0 = process_paragraph(orig_section_paragraphs[27])\n",
    "print(par0)"
   ]
  },
  {
   "cell_type": "code",
   "execution_count": 126,
   "id": "10e57269-fa04-4386-a16f-3108d7b0c5a9",
   "metadata": {
    "execution": {
     "iopub.execute_input": "2024-03-23T05:13:49.475913Z",
     "iopub.status.busy": "2024-03-23T05:13:49.475616Z",
     "iopub.status.idle": "2024-03-23T05:13:49.478583Z",
     "shell.execute_reply": "2024-03-23T05:13:49.478122Z"
    },
    "papermill": {
     "duration": 0.039062,
     "end_time": "2024-03-23T05:13:49.479339",
     "exception": false,
     "start_time": "2024-03-23T05:13:49.440277",
     "status": "completed"
    },
    "tags": []
   },
   "outputs": [
    {
     "name": "stdout",
     "output_type": "stream",
     "text": [
      "To assess the presence of candidate mutator alleles on chromosome 6 in natural populations, we analyzed previously published sequencing data from 67 wild-derived mice. These data encompassed three subspecies of *Mus musculus* and the outgroup *Mus spretus*. The *Ogg1* *D* allele was found to be present at an allele frequency of 0.259 in *Mus musculus domesticus* and fixed in *Mus musculus musculus*, *Mus musculus castaneus*, and *Mus spretus* (Figure 1). Additionally, the *Setmar* p.Ser273Arg *D* allele had an allele frequency of 0.37 in *Mus musculus domesticus*, while *D* alleles at the *Setmar* p.Leu103Phe variant were not detected in any wild *Mus musculus domesticus* individuals. Furthermore, *D* alleles at the *Mbd4* p.Asp129Asn variant were absent in all wild mouse populations (Figure 1).\n"
     ]
    }
   ],
   "source": [
    "par1 = process_paragraph(mod_section_paragraphs[27])\n",
    "print(par1)"
   ]
  },
  {
   "cell_type": "code",
   "execution_count": 127,
   "id": "b8d22e61-a8bd-4dba-81a0-83fc1d4d6549",
   "metadata": {
    "execution": {
     "iopub.execute_input": "2024-03-23T05:13:49.555201Z",
     "iopub.status.busy": "2024-03-23T05:13:49.554836Z",
     "iopub.status.idle": "2024-03-23T05:13:49.559167Z",
     "shell.execute_reply": "2024-03-23T05:13:49.558186Z"
    },
    "papermill": {
     "duration": 0.044999,
     "end_time": "2024-03-23T05:13:49.560590",
     "exception": false,
     "start_time": "2024-03-23T05:13:49.515591",
     "status": "completed"
    },
    "tags": []
   },
   "outputs": [],
   "source": [
    "paragraph_matches.append(\n",
    "    (\n",
    "        section_name,\n",
    "        par0,\n",
    "        par1,\n",
    "    )\n",
    ")"
   ]
  },
  {
   "cell_type": "code",
   "execution_count": 128,
   "id": "405fb91d-5751-46fa-87c0-e04182f11876",
   "metadata": {
    "execution": {
     "iopub.execute_input": "2024-03-23T05:13:49.652987Z",
     "iopub.status.busy": "2024-03-23T05:13:49.652748Z",
     "iopub.status.idle": "2024-03-23T05:13:49.656069Z",
     "shell.execute_reply": "2024-03-23T05:13:49.655667Z"
    },
    "papermill": {
     "duration": 0.0404,
     "end_time": "2024-03-23T05:13:49.656788",
     "exception": false,
     "start_time": "2024-03-23T05:13:49.616388",
     "status": "completed"
    },
    "tags": []
   },
   "outputs": [
    {
     "data": {
      "text/plain": [
       "('results',\n",
       " 'To determine whether the candidate mutator alleles on chromosome 6 were segregating in natural populations, we queried previously published sequencing data generated from 67 wild-derived mice [@PMID:27622383]. These data include three subspecies of *Mus musculus*, as well as the outgroup *Mus spretus*. We found that the *Ogg1* *D* allele was segregating at an allele frequency of 0.259 in *Mus musculus domesticus*, the species from which C57BL/6J and DBA/2J derive the majority of their genomes [@PMID:17660819], and was fixed in *Mus musculus musculus*, *Mus musculus castaneus*, and the outgroup *Mus spretus* (Figure @fig:wild-afs). The *Setmar* p.Ser273Arg *D* allele was also present at an allele frequency of 0.37 in *Mus musculus domesticus*, while *D* alleles at the *Setmar* p.Leu103Phe variant were not observed in any wild *Mus musculus domesticus* animals. *D* alleles at the *Mbd4* p.Asp129Asn variant were also absent from all wild mouse populations (Figure @fig:wild-afs).',\n",
       " 'To assess the presence of candidate mutator alleles on chromosome 6 in natural populations, we analyzed previously published sequencing data from 67 wild-derived mice. These data encompassed three subspecies of *Mus musculus* and the outgroup *Mus spretus*. The *Ogg1* *D* allele was found to be present at an allele frequency of 0.259 in *Mus musculus domesticus* and fixed in *Mus musculus musculus*, *Mus musculus castaneus*, and *Mus spretus* (Figure 1). Additionally, the *Setmar* p.Ser273Arg *D* allele had an allele frequency of 0.37 in *Mus musculus domesticus*, while *D* alleles at the *Setmar* p.Leu103Phe variant were not detected in any wild *Mus musculus domesticus* individuals. Furthermore, *D* alleles at the *Mbd4* p.Asp129Asn variant were absent in all wild mouse populations (Figure 1).')"
      ]
     },
     "metadata": {},
     "output_type": "display_data"
    }
   ],
   "source": [
    "display(paragraph_matches[-1])"
   ]
  },
  {
   "cell_type": "markdown",
   "id": "0a311a52-d06f-4f08-905f-465c282ff625",
   "metadata": {
    "editable": true,
    "papermill": {
     "duration": 0.037773,
     "end_time": "2024-03-23T05:13:49.731486",
     "exception": false,
     "start_time": "2024-03-23T05:13:49.693713",
     "status": "completed"
    },
    "slideshow": {
     "slide_type": ""
    },
    "tags": []
   },
   "source": [
    "## Discussion"
   ]
  },
  {
   "cell_type": "code",
   "execution_count": 129,
   "id": "70e3c270-751e-48b1-a705-7ed67d9298b8",
   "metadata": {
    "execution": {
     "iopub.execute_input": "2024-03-23T05:13:49.806004Z",
     "iopub.status.busy": "2024-03-23T05:13:49.805425Z",
     "iopub.status.idle": "2024-03-23T05:13:49.808390Z",
     "shell.execute_reply": "2024-03-23T05:13:49.807862Z"
    },
    "papermill": {
     "duration": 0.040998,
     "end_time": "2024-03-23T05:13:49.809171",
     "exception": false,
     "start_time": "2024-03-23T05:13:49.768173",
     "status": "completed"
    },
    "tags": []
   },
   "outputs": [],
   "source": [
    "section_name = \"discussion\""
   ]
  },
  {
   "cell_type": "code",
   "execution_count": 130,
   "id": "da50ce41-3f94-4ca1-8c72-3d2aa29b536b",
   "metadata": {
    "editable": true,
    "execution": {
     "iopub.execute_input": "2024-03-23T05:13:49.883566Z",
     "iopub.status.busy": "2024-03-23T05:13:49.883054Z",
     "iopub.status.idle": "2024-03-23T05:13:49.886441Z",
     "shell.execute_reply": "2024-03-23T05:13:49.885908Z"
    },
    "papermill": {
     "duration": 0.040822,
     "end_time": "2024-03-23T05:13:49.887177",
     "exception": false,
     "start_time": "2024-03-23T05:13:49.846355",
     "status": "completed"
    },
    "slideshow": {
     "slide_type": ""
    },
    "tags": []
   },
   "outputs": [
    {
     "name": "stdout",
     "output_type": "stream",
     "text": [
      "content/04.discussion.md\n"
     ]
    }
   ],
   "source": [
    "pr_filename = pr_files[3].filename\n",
    "assert section_name in pr_filename\n",
    "print(pr_filename)"
   ]
  },
  {
   "cell_type": "markdown",
   "id": "15bcc7d8-ab7b-4475-95ad-6d9c3763aba2",
   "metadata": {
    "editable": true,
    "papermill": {
     "duration": 0.037014,
     "end_time": "2024-03-23T05:13:49.961241",
     "exception": false,
     "start_time": "2024-03-23T05:13:49.924227",
     "status": "completed"
    },
    "slideshow": {
     "slide_type": ""
    },
    "tags": []
   },
   "source": [
    "### Original"
   ]
  },
  {
   "cell_type": "code",
   "execution_count": 131,
   "id": "5bbec300-ce51-46d0-8e4d-b2ba822ec608",
   "metadata": {
    "execution": {
     "iopub.execute_input": "2024-03-23T05:13:50.037016Z",
     "iopub.status.busy": "2024-03-23T05:13:50.036590Z",
     "iopub.status.idle": "2024-03-23T05:13:50.229438Z",
     "shell.execute_reply": "2024-03-23T05:13:50.228966Z"
    },
    "papermill": {
     "duration": 0.232077,
     "end_time": "2024-03-23T05:13:50.230624",
     "exception": false,
     "start_time": "2024-03-23T05:13:49.998547",
     "status": "completed"
    },
    "tags": []
   },
   "outputs": [
    {
     "name": "stdout",
     "output_type": "stream",
     "text": [
      "## Discussion\n",
      "\n",
      "### Epistasis between germline muta\n"
     ]
    }
   ],
   "source": [
    "# get content\n",
    "orig_section_content = repo.get_contents(pr_filename, pr_prev).decoded_content.decode(\n",
    "    \"utf-8\"\n",
    ")\n",
    "print(orig_section_content[:50])"
   ]
  },
  {
   "cell_type": "code",
   "execution_count": 132,
   "id": "2ab78222-da5b-4d1e-93dd-e35a085a962f",
   "metadata": {
    "execution": {
     "iopub.execute_input": "2024-03-23T05:13:50.333497Z",
     "iopub.status.busy": "2024-03-23T05:13:50.333008Z",
     "iopub.status.idle": "2024-03-23T05:13:50.336951Z",
     "shell.execute_reply": "2024-03-23T05:13:50.336510Z"
    },
    "papermill": {
     "duration": 0.050248,
     "end_time": "2024-03-23T05:13:50.337748",
     "exception": false,
     "start_time": "2024-03-23T05:13:50.287500",
     "status": "completed"
    },
    "tags": []
   },
   "outputs": [
    {
     "data": {
      "text/plain": [
       "31"
      ]
     },
     "metadata": {},
     "output_type": "display_data"
    }
   ],
   "source": [
    "# split by paragraph\n",
    "orig_section_paragraphs = orig_section_content.split(\"\\n\\n\")\n",
    "display(len(orig_section_paragraphs))"
   ]
  },
  {
   "cell_type": "markdown",
   "id": "a0a475a1-c746-4b66-b096-99df8a9e4688",
   "metadata": {
    "editable": true,
    "papermill": {
     "duration": 0.036106,
     "end_time": "2024-03-23T05:13:50.410228",
     "exception": false,
     "start_time": "2024-03-23T05:13:50.374122",
     "status": "completed"
    },
    "slideshow": {
     "slide_type": ""
    },
    "tags": []
   },
   "source": [
    "### Modified"
   ]
  },
  {
   "cell_type": "code",
   "execution_count": 133,
   "id": "b4046c3e-0e66-44fe-8902-822d461fb6ea",
   "metadata": {
    "execution": {
     "iopub.execute_input": "2024-03-23T05:13:50.512893Z",
     "iopub.status.busy": "2024-03-23T05:13:50.512558Z",
     "iopub.status.idle": "2024-03-23T05:13:50.751399Z",
     "shell.execute_reply": "2024-03-23T05:13:50.750777Z"
    },
    "papermill": {
     "duration": 0.27612,
     "end_time": "2024-03-23T05:13:50.752157",
     "exception": false,
     "start_time": "2024-03-23T05:13:50.476037",
     "status": "completed"
    },
    "tags": []
   },
   "outputs": [
    {
     "name": "stdout",
     "output_type": "stream",
     "text": [
      "## Discussion\n",
      "\n",
      "### Epistasis between germline muta\n"
     ]
    }
   ],
   "source": [
    "# get content\n",
    "mod_section_content = repo.get_contents(pr_filename, pr_curr).decoded_content.decode(\n",
    "    \"utf-8\"\n",
    ")\n",
    "print(mod_section_content[:50])"
   ]
  },
  {
   "cell_type": "code",
   "execution_count": 134,
   "id": "0f0d8b54-f62f-45c9-861a-ab579ac0d46b",
   "metadata": {
    "execution": {
     "iopub.execute_input": "2024-03-23T05:13:50.857987Z",
     "iopub.status.busy": "2024-03-23T05:13:50.857488Z",
     "iopub.status.idle": "2024-03-23T05:13:50.861478Z",
     "shell.execute_reply": "2024-03-23T05:13:50.860966Z"
    },
    "papermill": {
     "duration": 0.050436,
     "end_time": "2024-03-23T05:13:50.862201",
     "exception": false,
     "start_time": "2024-03-23T05:13:50.811765",
     "status": "completed"
    },
    "tags": []
   },
   "outputs": [
    {
     "data": {
      "text/plain": [
       "31"
      ]
     },
     "metadata": {},
     "output_type": "display_data"
    }
   ],
   "source": [
    "# split by paragraph\n",
    "mod_section_paragraphs = mod_section_content.split(\"\\n\\n\")\n",
    "display(len(mod_section_paragraphs))"
   ]
  },
  {
   "cell_type": "markdown",
   "id": "eb98b790-a12a-4eff-9074-357374cc8386",
   "metadata": {
    "editable": true,
    "papermill": {
     "duration": 0.035359,
     "end_time": "2024-03-23T05:13:50.933681",
     "exception": false,
     "start_time": "2024-03-23T05:13:50.898322",
     "status": "completed"
    },
    "slideshow": {
     "slide_type": ""
    },
    "tags": []
   },
   "source": [
    "### Match"
   ]
  },
  {
   "cell_type": "code",
   "execution_count": 135,
   "id": "5147ec0f-7e00-4e5b-9c17-73e17ccb3ab4",
   "metadata": {
    "execution": {
     "iopub.execute_input": "2024-03-23T05:13:51.006169Z",
     "iopub.status.busy": "2024-03-23T05:13:51.005565Z",
     "iopub.status.idle": "2024-03-23T05:13:51.009429Z",
     "shell.execute_reply": "2024-03-23T05:13:51.008913Z"
    },
    "papermill": {
     "duration": 0.04073,
     "end_time": "2024-03-23T05:13:51.010187",
     "exception": false,
     "start_time": "2024-03-23T05:13:50.969457",
     "status": "completed"
    },
    "tags": []
   },
   "outputs": [
    {
     "data": {
      "text/plain": [
       "'## Discussion'"
      ]
     },
     "execution_count": 135,
     "metadata": {},
     "output_type": "execute_result"
    }
   ],
   "source": [
    "orig_section_paragraphs[0]"
   ]
  },
  {
   "cell_type": "code",
   "execution_count": 136,
   "id": "f7f66854-8226-4d44-a5d9-c77da74fcb02",
   "metadata": {
    "execution": {
     "iopub.execute_input": "2024-03-23T05:13:51.083543Z",
     "iopub.status.busy": "2024-03-23T05:13:51.083347Z",
     "iopub.status.idle": "2024-03-23T05:13:51.086889Z",
     "shell.execute_reply": "2024-03-23T05:13:51.086387Z"
    },
    "papermill": {
     "duration": 0.04102,
     "end_time": "2024-03-23T05:13:51.087668",
     "exception": false,
     "start_time": "2024-03-23T05:13:51.046648",
     "status": "completed"
    },
    "tags": []
   },
   "outputs": [
    {
     "data": {
      "text/plain": [
       "'## Discussion'"
      ]
     },
     "execution_count": 136,
     "metadata": {},
     "output_type": "execute_result"
    }
   ],
   "source": [
    "mod_section_paragraphs[0]"
   ]
  },
  {
   "cell_type": "markdown",
   "id": "d92ee9ca-a186-40ab-b166-470691476a5d",
   "metadata": {
    "editable": true,
    "papermill": {
     "duration": 0.036095,
     "end_time": "2024-03-23T05:13:51.160194",
     "exception": false,
     "start_time": "2024-03-23T05:13:51.124099",
     "status": "completed"
    },
    "slideshow": {
     "slide_type": ""
    },
    "tags": []
   },
   "source": [
    "####  Paragraph 00"
   ]
  },
  {
   "cell_type": "code",
   "execution_count": 137,
   "id": "cab5a53a-cfb9-4453-a5e7-d9c94cf44b42",
   "metadata": {
    "execution": {
     "iopub.execute_input": "2024-03-23T05:13:51.233621Z",
     "iopub.status.busy": "2024-03-23T05:13:51.233207Z",
     "iopub.status.idle": "2024-03-23T05:13:51.236541Z",
     "shell.execute_reply": "2024-03-23T05:13:51.236016Z"
    },
    "papermill": {
     "duration": 0.040863,
     "end_time": "2024-03-23T05:13:51.237322",
     "exception": false,
     "start_time": "2024-03-23T05:13:51.196459",
     "status": "completed"
    },
    "tags": []
   },
   "outputs": [
    {
     "name": "stdout",
     "output_type": "stream",
     "text": [
      "We have identified a locus on chromosome 6 that amplifies a C>A germline mutator phenotype in the BXDs, a family of inbred mice derived from the laboratory strains DBA/2J and C57BL/6J. DBA/2J (*D*) alleles at this locus have no significant effect on C>A mutation rates in mice that also harbor \"wild-type\" C57BL/6J (*B*) alleles at a previously discovered mutator locus on chromosome 4 [@PMID:35545679]. However, mice with *D* alleles at *both* loci have even higher mutation rates than those with *D* alleles at the chromosome 4 mutator locus alone (Figure @fig:spectra-comparison). Epistatic interactions between mutator alleles have been previously documented in yeast [@PMID:16492773] and in human cell lines [@PMID:35859169], but never to our knowledge in a whole-animal context.\n"
     ]
    }
   ],
   "source": [
    "par0 = process_paragraph(orig_section_paragraphs[2])\n",
    "print(par0)"
   ]
  },
  {
   "cell_type": "code",
   "execution_count": 138,
   "id": "84c75b53-48ef-433f-a63c-8995b7b9637d",
   "metadata": {
    "execution": {
     "iopub.execute_input": "2024-03-23T05:13:51.310407Z",
     "iopub.status.busy": "2024-03-23T05:13:51.309879Z",
     "iopub.status.idle": "2024-03-23T05:13:51.313081Z",
     "shell.execute_reply": "2024-03-23T05:13:51.312545Z"
    },
    "papermill": {
     "duration": 0.040146,
     "end_time": "2024-03-23T05:13:51.313839",
     "exception": false,
     "start_time": "2024-03-23T05:13:51.273693",
     "status": "completed"
    },
    "tags": []
   },
   "outputs": [
    {
     "name": "stdout",
     "output_type": "stream",
     "text": [
      "We discovered a gene on chromosome 6 that enhances a specific type of genetic mutation in the BXDs, a group of laboratory mice bred from the DBA/2J and C57BL/6J strains. The DBA/2J alleles at this gene do not impact the mutation rates in mice with \"normal\" C57BL/6J alleles at another known mutation gene on chromosome 4. However, mice with DBA/2J alleles at both genes show even higher mutation rates compared to those with DBA/2J alleles at only the chromosome 4 gene (Figure 1). While interactions between mutation genes have been observed in yeast and human cell lines, this is the first instance, to our knowledge, in a whole-animal system.\n"
     ]
    }
   ],
   "source": [
    "par1 = process_paragraph(mod_section_paragraphs[2])\n",
    "print(par1)"
   ]
  },
  {
   "cell_type": "code",
   "execution_count": 139,
   "id": "cd9d734b-5a88-46ee-aea6-7be4ffbfd31c",
   "metadata": {
    "execution": {
     "iopub.execute_input": "2024-03-23T05:13:51.386382Z",
     "iopub.status.busy": "2024-03-23T05:13:51.386194Z",
     "iopub.status.idle": "2024-03-23T05:13:51.388957Z",
     "shell.execute_reply": "2024-03-23T05:13:51.388436Z"
    },
    "papermill": {
     "duration": 0.039639,
     "end_time": "2024-03-23T05:13:51.389727",
     "exception": false,
     "start_time": "2024-03-23T05:13:51.350088",
     "status": "completed"
    },
    "tags": []
   },
   "outputs": [],
   "source": [
    "paragraph_matches.append(\n",
    "    (\n",
    "        section_name,\n",
    "        par0,\n",
    "        par1,\n",
    "    )\n",
    ")"
   ]
  },
  {
   "cell_type": "code",
   "execution_count": 140,
   "id": "323699ec-6dcd-4bad-8261-871c43b7c9a4",
   "metadata": {
    "execution": {
     "iopub.execute_input": "2024-03-23T05:13:51.462635Z",
     "iopub.status.busy": "2024-03-23T05:13:51.462447Z",
     "iopub.status.idle": "2024-03-23T05:13:51.466090Z",
     "shell.execute_reply": "2024-03-23T05:13:51.465563Z"
    },
    "papermill": {
     "duration": 0.04102,
     "end_time": "2024-03-23T05:13:51.466856",
     "exception": false,
     "start_time": "2024-03-23T05:13:51.425836",
     "status": "completed"
    },
    "tags": []
   },
   "outputs": [
    {
     "data": {
      "text/plain": [
       "('discussion',\n",
       " 'We have identified a locus on chromosome 6 that amplifies a C>A germline mutator phenotype in the BXDs, a family of inbred mice derived from the laboratory strains DBA/2J and C57BL/6J. DBA/2J (*D*) alleles at this locus have no significant effect on C>A mutation rates in mice that also harbor \"wild-type\" C57BL/6J (*B*) alleles at a previously discovered mutator locus on chromosome 4 [@PMID:35545679]. However, mice with *D* alleles at *both* loci have even higher mutation rates than those with *D* alleles at the chromosome 4 mutator locus alone (Figure @fig:spectra-comparison). Epistatic interactions between mutator alleles have been previously documented in yeast [@PMID:16492773] and in human cell lines [@PMID:35859169], but never to our knowledge in a whole-animal context.',\n",
       " 'We discovered a gene on chromosome 6 that enhances a specific type of genetic mutation in the BXDs, a group of laboratory mice bred from the DBA/2J and C57BL/6J strains. The DBA/2J alleles at this gene do not impact the mutation rates in mice with \"normal\" C57BL/6J alleles at another known mutation gene on chromosome 4. However, mice with DBA/2J alleles at both genes show even higher mutation rates compared to those with DBA/2J alleles at only the chromosome 4 gene (Figure 1). While interactions between mutation genes have been observed in yeast and human cell lines, this is the first instance, to our knowledge, in a whole-animal system.')"
      ]
     },
     "metadata": {},
     "output_type": "display_data"
    }
   ],
   "source": [
    "display(paragraph_matches[-1])"
   ]
  },
  {
   "cell_type": "markdown",
   "id": "c723624a-d413-4331-ae11-7e0fff81f925",
   "metadata": {
    "editable": true,
    "papermill": {
     "duration": 0.036065,
     "end_time": "2024-03-23T05:13:51.539174",
     "exception": false,
     "start_time": "2024-03-23T05:13:51.503109",
     "status": "completed"
    },
    "slideshow": {
     "slide_type": ""
    },
    "tags": []
   },
   "source": [
    "####  Paragraph 01"
   ]
  },
  {
   "cell_type": "code",
   "execution_count": 141,
   "id": "85389552-28ba-4023-a3e7-cad96a96c4e2",
   "metadata": {
    "execution": {
     "iopub.execute_input": "2024-03-23T05:13:51.640570Z",
     "iopub.status.busy": "2024-03-23T05:13:51.640376Z",
     "iopub.status.idle": "2024-03-23T05:13:51.643591Z",
     "shell.execute_reply": "2024-03-23T05:13:51.643081Z"
    },
    "papermill": {
     "duration": 0.04176,
     "end_time": "2024-03-23T05:13:51.644343",
     "exception": false,
     "start_time": "2024-03-23T05:13:51.602583",
     "status": "completed"
    },
    "tags": []
   },
   "outputs": [
    {
     "name": "stdout",
     "output_type": "stream",
     "text": [
      "Importantly, we discovered epistasis between germline mutator alleles in an unnatural population of model organisms that have been inbred by brother-sister mating in a highly controlled laboratory environment [@PMID:33472028]. This breeding setup has likely attenuated the effects of natural selection on all but the most deleterious alleles [@doi:10.1146/annurev.ecolsys.39.110707.173437], and may have facilitated the fixation of large-effect mutator alleles that would be less common in wild mice. Without fine-mapping the chromosome 6 mutator allele, however, we are unable to trace its origin to either a captive breeding colony of laboratory mice or a wild, outbreeding *Mus musculus* population. If the mutator allele on chromosome 6 has even a weak deleterious fitness, there might be a greater likelihood that it arose in captivity. Indeed, if purifying selection is required to keep mutation rates low, mutational pressure might cause mutation rates to rise in just a few generations of relaxed selection. This dynamic may explain the recent discovery of a large-effect mutator allele in a rhesus macaque research colony [@doi:10.1101/2023.03.27.534460], as well as the observation that domesticated animals tend to have higher mutation rates than those in the wild [@PMID:36859541]. Ultimately, although we have not conclusively fine-mapped the chromosome 6 mutator locus to a causal variant, we argue that nonsynonymous or regulatory variants in the DNA glycosylase *Ogg1* are the best candidates.\n"
     ]
    }
   ],
   "source": [
    "par0 = process_paragraph(orig_section_paragraphs[3])\n",
    "print(par0)"
   ]
  },
  {
   "cell_type": "code",
   "execution_count": 142,
   "id": "2128e3ae-2f52-4975-a5e3-6c5c15d0c43c",
   "metadata": {
    "execution": {
     "iopub.execute_input": "2024-03-23T05:13:51.717980Z",
     "iopub.status.busy": "2024-03-23T05:13:51.717791Z",
     "iopub.status.idle": "2024-03-23T05:13:51.720883Z",
     "shell.execute_reply": "2024-03-23T05:13:51.720379Z"
    },
    "papermill": {
     "duration": 0.040534,
     "end_time": "2024-03-23T05:13:51.721656",
     "exception": false,
     "start_time": "2024-03-23T05:13:51.681122",
     "status": "completed"
    },
    "tags": []
   },
   "outputs": [
    {
     "name": "stdout",
     "output_type": "stream",
     "text": [
      "We found interactions between mutator alleles in a controlled laboratory setting using model organisms [@PMID:33472028]. The breeding conditions likely reduced the impact of natural selection on harmful alleles [@doi:10.1146/annurev.ecolsys.39.110707.173437], potentially leading to the fixation of high-impact mutator alleles not commonly found in the wild. Without pinpointing the origin of the chromosome 6 mutator allele, we cannot determine if it arose in a laboratory colony or a wild *Mus musculus* population. If the chromosome 6 mutator allele has even a slight negative impact on fitness, it may have originated in captivity. The relaxation of selection pressure could quickly increase mutation rates, as seen in a recent discovery in a rhesus macaque research colony [@doi:10.1101/2023.03.27.534460] and in domesticated animals with higher mutation rates compared to wild counterparts [@PMID:36859541]. While we have not definitively identified the causal variant for the chromosome 6 mutator locus, we propose that nonsynonymous or regulatory variants in the DNA glycosylase *Ogg1* are strong candidates.\n"
     ]
    }
   ],
   "source": [
    "par1 = process_paragraph(mod_section_paragraphs[3])\n",
    "print(par1)"
   ]
  },
  {
   "cell_type": "code",
   "execution_count": 143,
   "id": "1b63a1b9-3f26-4699-b39c-a1ace66c05ff",
   "metadata": {
    "execution": {
     "iopub.execute_input": "2024-03-23T05:13:51.796898Z",
     "iopub.status.busy": "2024-03-23T05:13:51.796378Z",
     "iopub.status.idle": "2024-03-23T05:13:51.799246Z",
     "shell.execute_reply": "2024-03-23T05:13:51.798729Z"
    },
    "papermill": {
     "duration": 0.04111,
     "end_time": "2024-03-23T05:13:51.800077",
     "exception": false,
     "start_time": "2024-03-23T05:13:51.758967",
     "status": "completed"
    },
    "tags": []
   },
   "outputs": [],
   "source": [
    "paragraph_matches.append(\n",
    "    (\n",
    "        section_name,\n",
    "        par0,\n",
    "        par1,\n",
    "    )\n",
    ")"
   ]
  },
  {
   "cell_type": "code",
   "execution_count": 144,
   "id": "f096fe93-a618-4836-85b5-b011bd9189e4",
   "metadata": {
    "execution": {
     "iopub.execute_input": "2024-03-23T05:13:51.874187Z",
     "iopub.status.busy": "2024-03-23T05:13:51.873994Z",
     "iopub.status.idle": "2024-03-23T05:13:51.877638Z",
     "shell.execute_reply": "2024-03-23T05:13:51.877136Z"
    },
    "papermill": {
     "duration": 0.041533,
     "end_time": "2024-03-23T05:13:51.878369",
     "exception": false,
     "start_time": "2024-03-23T05:13:51.836836",
     "status": "completed"
    },
    "tags": []
   },
   "outputs": [
    {
     "data": {
      "text/plain": [
       "('discussion',\n",
       " 'Importantly, we discovered epistasis between germline mutator alleles in an unnatural population of model organisms that have been inbred by brother-sister mating in a highly controlled laboratory environment [@PMID:33472028]. This breeding setup has likely attenuated the effects of natural selection on all but the most deleterious alleles [@doi:10.1146/annurev.ecolsys.39.110707.173437], and may have facilitated the fixation of large-effect mutator alleles that would be less common in wild mice. Without fine-mapping the chromosome 6 mutator allele, however, we are unable to trace its origin to either a captive breeding colony of laboratory mice or a wild, outbreeding *Mus musculus* population. If the mutator allele on chromosome 6 has even a weak deleterious fitness, there might be a greater likelihood that it arose in captivity. Indeed, if purifying selection is required to keep mutation rates low, mutational pressure might cause mutation rates to rise in just a few generations of relaxed selection. This dynamic may explain the recent discovery of a large-effect mutator allele in a rhesus macaque research colony [@doi:10.1101/2023.03.27.534460], as well as the observation that domesticated animals tend to have higher mutation rates than those in the wild [@PMID:36859541]. Ultimately, although we have not conclusively fine-mapped the chromosome 6 mutator locus to a causal variant, we argue that nonsynonymous or regulatory variants in the DNA glycosylase *Ogg1* are the best candidates.',\n",
       " 'We found interactions between mutator alleles in a controlled laboratory setting using model organisms [@PMID:33472028]. The breeding conditions likely reduced the impact of natural selection on harmful alleles [@doi:10.1146/annurev.ecolsys.39.110707.173437], potentially leading to the fixation of high-impact mutator alleles not commonly found in the wild. Without pinpointing the origin of the chromosome 6 mutator allele, we cannot determine if it arose in a laboratory colony or a wild *Mus musculus* population. If the chromosome 6 mutator allele has even a slight negative impact on fitness, it may have originated in captivity. The relaxation of selection pressure could quickly increase mutation rates, as seen in a recent discovery in a rhesus macaque research colony [@doi:10.1101/2023.03.27.534460] and in domesticated animals with higher mutation rates compared to wild counterparts [@PMID:36859541]. While we have not definitively identified the causal variant for the chromosome 6 mutator locus, we propose that nonsynonymous or regulatory variants in the DNA glycosylase *Ogg1* are strong candidates.')"
      ]
     },
     "metadata": {},
     "output_type": "display_data"
    }
   ],
   "source": [
    "display(paragraph_matches[-1])"
   ]
  },
  {
   "cell_type": "markdown",
   "id": "897b56fb-65f4-47f3-a02d-4c32c91ba5eb",
   "metadata": {
    "editable": true,
    "papermill": {
     "duration": 0.036925,
     "end_time": "2024-03-23T05:13:51.952340",
     "exception": false,
     "start_time": "2024-03-23T05:13:51.915415",
     "status": "completed"
    },
    "slideshow": {
     "slide_type": ""
    },
    "tags": []
   },
   "source": [
    "####  Paragraph 02"
   ]
  },
  {
   "cell_type": "code",
   "execution_count": 145,
   "id": "36f25595-58d4-4f3e-b34b-bf4cc68c0604",
   "metadata": {
    "execution": {
     "iopub.execute_input": "2024-03-23T05:13:52.027148Z",
     "iopub.status.busy": "2024-03-23T05:13:52.026710Z",
     "iopub.status.idle": "2024-03-23T05:13:52.030170Z",
     "shell.execute_reply": "2024-03-23T05:13:52.029570Z"
    },
    "papermill": {
     "duration": 0.041629,
     "end_time": "2024-03-23T05:13:52.030878",
     "exception": false,
     "start_time": "2024-03-23T05:13:51.989249",
     "status": "completed"
    },
    "tags": []
   },
   "outputs": [
    {
     "name": "stdout",
     "output_type": "stream",
     "text": [
      "Five protein-coding genes involved in DNA repair overlap the C>A mutator locus on chromosome 6: *Ogg1*, a glycosylase that excises the oxidative DNA lesion 8-oxoguanine (8-oxoG) [@PMID:17581577], *Setmar*, a histone methyltransferase involved in non-homologous end joining (NHEJ) of double-stranded breaks (DSBs) [@PMID:21187428;@PMID:16332963], *Fancd2*, and *Rad18*. One other DNA repair gene, *Mbd4*, lies just outside of the 90% bootstrap confidence interval on chromosome 6 (but within a 10 Mbp interval around the peak AMSD marker). We are unable to conclusively determine that one or more of these genes harbors a causal variant underlying the observed C>A mutator phenotype, but we believe that *Ogg1* is the most plausible candidate. *Ogg1* is a member of the same base-excision repair pathway as *Mutyh* (the gene that likely underlies the chromosome 4 mutator locus), contains a nonsynonymous fixed difference between the C57BL/6J and DBA/2J parental strains, and appears to be regulated by cis-eQTLs across a number of tissues within the BXD cohort.\n"
     ]
    }
   ],
   "source": [
    "par0 = process_paragraph(orig_section_paragraphs[5])\n",
    "print(par0)"
   ]
  },
  {
   "cell_type": "code",
   "execution_count": 146,
   "id": "0ca440d7-4752-4c1c-a18d-baafb271c30a",
   "metadata": {
    "execution": {
     "iopub.execute_input": "2024-03-23T05:13:52.106742Z",
     "iopub.status.busy": "2024-03-23T05:13:52.106201Z",
     "iopub.status.idle": "2024-03-23T05:13:52.109378Z",
     "shell.execute_reply": "2024-03-23T05:13:52.108859Z"
    },
    "papermill": {
     "duration": 0.041458,
     "end_time": "2024-03-23T05:13:52.110129",
     "exception": false,
     "start_time": "2024-03-23T05:13:52.068671",
     "status": "completed"
    },
    "tags": []
   },
   "outputs": [
    {
     "name": "stdout",
     "output_type": "stream",
     "text": [
      "Five genes involved in DNA repair overlap with the C>A mutator locus on chromosome 6. These genes are Ogg1, Setmar, Fancd2, Rad18, and Mbd4. Ogg1 is a glycosylase that removes the oxidative DNA lesion 8-oxoguanine. Setmar is a histone methyltransferase involved in repairing double-stranded breaks. Fancd2 and Rad18 are also involved in DNA repair processes. Mbd4 is located just outside the confidence interval on chromosome 6. While we cannot definitively identify which gene is responsible for the C>A mutator phenotype, Ogg1 is considered the most likely candidate. Ogg1 is in the same repair pathway as Mutyh, which is associated with the chromosome 4 mutator locus. Additionally, Ogg1 has genetic differences between the C57BL/6J and DBA/2J strains and is regulated by cis-eQTLs in various tissues within the BXD cohort.\n"
     ]
    }
   ],
   "source": [
    "par1 = process_paragraph(mod_section_paragraphs[5])\n",
    "print(par1)"
   ]
  },
  {
   "cell_type": "code",
   "execution_count": 147,
   "id": "23e42c9b-0bec-4243-abf1-4f9b805a7897",
   "metadata": {
    "execution": {
     "iopub.execute_input": "2024-03-23T05:13:52.184863Z",
     "iopub.status.busy": "2024-03-23T05:13:52.184340Z",
     "iopub.status.idle": "2024-03-23T05:13:52.187201Z",
     "shell.execute_reply": "2024-03-23T05:13:52.186695Z"
    },
    "papermill": {
     "duration": 0.040825,
     "end_time": "2024-03-23T05:13:52.187970",
     "exception": false,
     "start_time": "2024-03-23T05:13:52.147145",
     "status": "completed"
    },
    "tags": []
   },
   "outputs": [],
   "source": [
    "paragraph_matches.append(\n",
    "    (\n",
    "        section_name,\n",
    "        par0,\n",
    "        par1,\n",
    "    )\n",
    ")"
   ]
  },
  {
   "cell_type": "code",
   "execution_count": 148,
   "id": "61e5c7e8-bc8c-451f-a7bb-79e5fc93e166",
   "metadata": {
    "execution": {
     "iopub.execute_input": "2024-03-23T05:13:52.263107Z",
     "iopub.status.busy": "2024-03-23T05:13:52.262640Z",
     "iopub.status.idle": "2024-03-23T05:13:52.266349Z",
     "shell.execute_reply": "2024-03-23T05:13:52.265846Z"
    },
    "papermill": {
     "duration": 0.041996,
     "end_time": "2024-03-23T05:13:52.267116",
     "exception": false,
     "start_time": "2024-03-23T05:13:52.225120",
     "status": "completed"
    },
    "tags": []
   },
   "outputs": [
    {
     "data": {
      "text/plain": [
       "('discussion',\n",
       " 'Five protein-coding genes involved in DNA repair overlap the C>A mutator locus on chromosome 6: *Ogg1*, a glycosylase that excises the oxidative DNA lesion 8-oxoguanine (8-oxoG) [@PMID:17581577], *Setmar*, a histone methyltransferase involved in non-homologous end joining (NHEJ) of double-stranded breaks (DSBs) [@PMID:21187428;@PMID:16332963], *Fancd2*, and *Rad18*. One other DNA repair gene, *Mbd4*, lies just outside of the 90% bootstrap confidence interval on chromosome 6 (but within a 10 Mbp interval around the peak AMSD marker). We are unable to conclusively determine that one or more of these genes harbors a causal variant underlying the observed C>A mutator phenotype, but we believe that *Ogg1* is the most plausible candidate. *Ogg1* is a member of the same base-excision repair pathway as *Mutyh* (the gene that likely underlies the chromosome 4 mutator locus), contains a nonsynonymous fixed difference between the C57BL/6J and DBA/2J parental strains, and appears to be regulated by cis-eQTLs across a number of tissues within the BXD cohort.',\n",
       " 'Five genes involved in DNA repair overlap with the C>A mutator locus on chromosome 6. These genes are Ogg1, Setmar, Fancd2, Rad18, and Mbd4. Ogg1 is a glycosylase that removes the oxidative DNA lesion 8-oxoguanine. Setmar is a histone methyltransferase involved in repairing double-stranded breaks. Fancd2 and Rad18 are also involved in DNA repair processes. Mbd4 is located just outside the confidence interval on chromosome 6. While we cannot definitively identify which gene is responsible for the C>A mutator phenotype, Ogg1 is considered the most likely candidate. Ogg1 is in the same repair pathway as Mutyh, which is associated with the chromosome 4 mutator locus. Additionally, Ogg1 has genetic differences between the C57BL/6J and DBA/2J strains and is regulated by cis-eQTLs in various tissues within the BXD cohort.')"
      ]
     },
     "metadata": {},
     "output_type": "display_data"
    }
   ],
   "source": [
    "display(paragraph_matches[-1])"
   ]
  },
  {
   "cell_type": "markdown",
   "id": "b9824a80-2db9-48b3-aebf-39dc5bd310db",
   "metadata": {
    "editable": true,
    "papermill": {
     "duration": 0.036445,
     "end_time": "2024-03-23T05:13:52.340517",
     "exception": false,
     "start_time": "2024-03-23T05:13:52.304072",
     "status": "completed"
    },
    "slideshow": {
     "slide_type": ""
    },
    "tags": []
   },
   "source": [
    "####  Paragraph 03"
   ]
  },
  {
   "cell_type": "code",
   "execution_count": 149,
   "id": "8fea8a5e-a1ef-4146-869b-5f6949e81b36",
   "metadata": {
    "execution": {
     "iopub.execute_input": "2024-03-23T05:13:52.415067Z",
     "iopub.status.busy": "2024-03-23T05:13:52.414529Z",
     "iopub.status.idle": "2024-03-23T05:13:52.417734Z",
     "shell.execute_reply": "2024-03-23T05:13:52.417216Z"
    },
    "papermill": {
     "duration": 0.04103,
     "end_time": "2024-03-23T05:13:52.418553",
     "exception": false,
     "start_time": "2024-03-23T05:13:52.377523",
     "status": "completed"
    },
    "tags": []
   },
   "outputs": [
    {
     "name": "stdout",
     "output_type": "stream",
     "text": [
      "The C57BL/6J and DBA/2J *Setmar* coding sequences differ by two missense variants (Table @tbl:nonsyn-diffs), one of which is predicted to be deleterious by *in silico* tools. The primate *SETMAR* ortholog is involved in NHEJ of double-strand breaks, but its role in DNA repair appears to depend on the function of both a SET methyltransferase domain and a *Mariner*-family transposase domain [@PMID:16332963;@PMID:24573677;@PMID:21491884]. Since the murine *Setmar* ortholog lacks the latter element, and because primate *SETMAR* is involved in a DNA repair process that is not expected to affect the rate of C>A mutations, we believe it is unlikely to underlie the epistatic interaction between the chromosome 4 and 6 mutator loci in the BXDs (*Supplementary Information*). Moreover, we did not observe any significant cis-eQTLs for *Setmar* across a variety of tissues in the BXD cohort (Table @tbl:eqtl-results). None of the remaining DNA repair genes (*Fancd2* or *Rad18*) contains a nonsynonymous fixed difference between the C57BL/6J and DBA/2J parental strains, and none appear to be regulated by cis-eQTLs that would feasibly lead to a germline C>A mutator phenotype (Table @tbl:eqtl-results); the only significant cis-eQTL we observed was for *Fancd2* in gastrointestinal tissue, at which *D* alleles actually led to *increased* expression.\n"
     ]
    }
   ],
   "source": [
    "par0 = process_paragraph(orig_section_paragraphs[6])\n",
    "print(par0)"
   ]
  },
  {
   "cell_type": "code",
   "execution_count": 150,
   "id": "66ec1e72-9a45-4a64-bc99-295cd0882f50",
   "metadata": {
    "execution": {
     "iopub.execute_input": "2024-03-23T05:13:52.521306Z",
     "iopub.status.busy": "2024-03-23T05:13:52.521117Z",
     "iopub.status.idle": "2024-03-23T05:13:52.524455Z",
     "shell.execute_reply": "2024-03-23T05:13:52.523946Z"
    },
    "papermill": {
     "duration": 0.041503,
     "end_time": "2024-03-23T05:13:52.525176",
     "exception": false,
     "start_time": "2024-03-23T05:13:52.483673",
     "status": "completed"
    },
    "tags": []
   },
   "outputs": [
    {
     "name": "stdout",
     "output_type": "stream",
     "text": [
      "The coding sequences of *Setmar* in C57BL/6J and DBA/2J mice have two missense variants, one of which is predicted to be harmful according to computational tools. The primate version of *SETMAR* plays a role in repairing double-strand breaks in DNA through a combination of a SET methyltransferase domain and a *Mariner*-family transposase domain. However, the murine version of *Setmar* lacks the transposase domain, suggesting it may not be responsible for the interaction between mutator loci on chromosomes 4 and 6 in BXD mice. We also found no significant genetic variations in other DNA repair genes like *Fancd2* or *Rad18* that could explain the increased mutation rate. In fact, an analysis of gene expression in different tissues showed that *D* alleles actually led to higher expression of *Fancd2* in gastrointestinal tissue.\n"
     ]
    }
   ],
   "source": [
    "par1 = process_paragraph(mod_section_paragraphs[6])\n",
    "print(par1)"
   ]
  },
  {
   "cell_type": "code",
   "execution_count": 151,
   "id": "3d4e0f2a-0d75-47ec-8754-e1ebf6d054d0",
   "metadata": {
    "execution": {
     "iopub.execute_input": "2024-03-23T05:13:52.600027Z",
     "iopub.status.busy": "2024-03-23T05:13:52.599834Z",
     "iopub.status.idle": "2024-03-23T05:13:52.602560Z",
     "shell.execute_reply": "2024-03-23T05:13:52.602057Z"
    },
    "papermill": {
     "duration": 0.040787,
     "end_time": "2024-03-23T05:13:52.603264",
     "exception": false,
     "start_time": "2024-03-23T05:13:52.562477",
     "status": "completed"
    },
    "tags": []
   },
   "outputs": [],
   "source": [
    "paragraph_matches.append(\n",
    "    (\n",
    "        section_name,\n",
    "        par0,\n",
    "        par1,\n",
    "    )\n",
    ")"
   ]
  },
  {
   "cell_type": "code",
   "execution_count": 152,
   "id": "b72cf403-a57e-4ca8-8188-0c4cece1baaf",
   "metadata": {
    "execution": {
     "iopub.execute_input": "2024-03-23T05:13:52.678334Z",
     "iopub.status.busy": "2024-03-23T05:13:52.677701Z",
     "iopub.status.idle": "2024-03-23T05:13:52.681634Z",
     "shell.execute_reply": "2024-03-23T05:13:52.681179Z"
    },
    "papermill": {
     "duration": 0.042,
     "end_time": "2024-03-23T05:13:52.682440",
     "exception": false,
     "start_time": "2024-03-23T05:13:52.640440",
     "status": "completed"
    },
    "tags": []
   },
   "outputs": [
    {
     "data": {
      "text/plain": [
       "('discussion',\n",
       " 'The C57BL/6J and DBA/2J *Setmar* coding sequences differ by two missense variants (Table @tbl:nonsyn-diffs), one of which is predicted to be deleterious by *in silico* tools. The primate *SETMAR* ortholog is involved in NHEJ of double-strand breaks, but its role in DNA repair appears to depend on the function of both a SET methyltransferase domain and a *Mariner*-family transposase domain [@PMID:16332963;@PMID:24573677;@PMID:21491884]. Since the murine *Setmar* ortholog lacks the latter element, and because primate *SETMAR* is involved in a DNA repair process that is not expected to affect the rate of C>A mutations, we believe it is unlikely to underlie the epistatic interaction between the chromosome 4 and 6 mutator loci in the BXDs (*Supplementary Information*). Moreover, we did not observe any significant cis-eQTLs for *Setmar* across a variety of tissues in the BXD cohort (Table @tbl:eqtl-results). None of the remaining DNA repair genes (*Fancd2* or *Rad18*) contains a nonsynonymous fixed difference between the C57BL/6J and DBA/2J parental strains, and none appear to be regulated by cis-eQTLs that would feasibly lead to a germline C>A mutator phenotype (Table @tbl:eqtl-results); the only significant cis-eQTL we observed was for *Fancd2* in gastrointestinal tissue, at which *D* alleles actually led to *increased* expression.',\n",
       " 'The coding sequences of *Setmar* in C57BL/6J and DBA/2J mice have two missense variants, one of which is predicted to be harmful according to computational tools. The primate version of *SETMAR* plays a role in repairing double-strand breaks in DNA through a combination of a SET methyltransferase domain and a *Mariner*-family transposase domain. However, the murine version of *Setmar* lacks the transposase domain, suggesting it may not be responsible for the interaction between mutator loci on chromosomes 4 and 6 in BXD mice. We also found no significant genetic variations in other DNA repair genes like *Fancd2* or *Rad18* that could explain the increased mutation rate. In fact, an analysis of gene expression in different tissues showed that *D* alleles actually led to higher expression of *Fancd2* in gastrointestinal tissue.')"
      ]
     },
     "metadata": {},
     "output_type": "display_data"
    }
   ],
   "source": [
    "display(paragraph_matches[-1])"
   ]
  },
  {
   "cell_type": "markdown",
   "id": "f6d05397-2768-45e6-a419-027cd619d2a3",
   "metadata": {
    "editable": true,
    "papermill": {
     "duration": 0.036535,
     "end_time": "2024-03-23T05:13:52.756235",
     "exception": false,
     "start_time": "2024-03-23T05:13:52.719700",
     "status": "completed"
    },
    "slideshow": {
     "slide_type": ""
    },
    "tags": []
   },
   "source": [
    "####  Paragraph 04"
   ]
  },
  {
   "cell_type": "code",
   "execution_count": 153,
   "id": "e1ac1feb-f6d3-4e48-8afa-d02ec7149e97",
   "metadata": {
    "execution": {
     "iopub.execute_input": "2024-03-23T05:13:52.831066Z",
     "iopub.status.busy": "2024-03-23T05:13:52.830630Z",
     "iopub.status.idle": "2024-03-23T05:13:52.833638Z",
     "shell.execute_reply": "2024-03-23T05:13:52.833174Z"
    },
    "papermill": {
     "duration": 0.041305,
     "end_time": "2024-03-23T05:13:52.834400",
     "exception": false,
     "start_time": "2024-03-23T05:13:52.793095",
     "status": "completed"
    },
    "tags": []
   },
   "outputs": [
    {
     "name": "stdout",
     "output_type": "stream",
     "text": [
      "*Ogg1* is a member of the same base-excision repair (BER) pathway as *Mutyh*, the protein-coding gene we previously implicated as harboring mutator alleles at the locus on chromosome 4 [@PMID:17581577]. Each of these genes has a distinct role in the BER response to oxidative DNA damage, and thereby the prevention of C>A mutations [@PMID:28963982;@PMID:24732879]. Following damage by reactive oxygen species, *Ogg1* is able to recognize and remove 8-oxoguanine lesions that are base-paired with cytosine nucleotides; once 8-oxoG is excised, other members of the BER pathway are mobilized to restore a proper G:C base pair at the site. If an 8-oxoG lesion is not removed before the cell enters S-phase, adenine can be mis-incorporated opposite 8-oxoG during DNA replication [@PMID:28963982]. If this occurs, *Mutyh* can excise the mispaired adenine, leaving a one-nucleotide gap that is processed and filled with a cytosine by other BER proteins. The resulting C:8-oxoG base pair can then be \"returned\" to *Ogg1* for excision and repair. Defects in the BER response to oxidative damage lead to significantly elevated rates of C>A mutation. For example, triple-knockout (KO) mice lacking *Ogg1*, *Mutyh*, and *Mth1* (which encodes an enzyme that prevents 8-oxo-dGTP from being incorporated during DNA synthesis [@PMID:8226881]) accumulate a 100-fold excess of 8-oxoG in their gonadal cells [@PMID:24732879]. Almost 99% of *de novo* germline mutations in the *Ogg1/Mutyh/Mth1* triple KO mice are C>A transversions, demonstrating the clear role of 8-oxoG repair in preventing C>A mutation. Additionally, missense mutations and loss-of-heterozygosity in *Ogg1* have been associated with increased risk of human cancer [@PMID:22829015;@PMID:9662341], and copy-number losses of either *Ogg1* or *Mutyh* are linked to elevated rates of spontaneous C>A mutation in human neuroblastoma [@doi:10.1073/pnas.2007898118].\n"
     ]
    }
   ],
   "source": [
    "par0 = process_paragraph(orig_section_paragraphs[9])\n",
    "print(par0)"
   ]
  },
  {
   "cell_type": "code",
   "execution_count": 154,
   "id": "f8da7eba-dcac-4036-9be4-6b51fed928ed",
   "metadata": {
    "execution": {
     "iopub.execute_input": "2024-03-23T05:13:52.908747Z",
     "iopub.status.busy": "2024-03-23T05:13:52.908416Z",
     "iopub.status.idle": "2024-03-23T05:13:52.911298Z",
     "shell.execute_reply": "2024-03-23T05:13:52.910866Z"
    },
    "papermill": {
     "duration": 0.040797,
     "end_time": "2024-03-23T05:13:52.912019",
     "exception": false,
     "start_time": "2024-03-23T05:13:52.871222",
     "status": "completed"
    },
    "tags": []
   },
   "outputs": [
    {
     "name": "stdout",
     "output_type": "stream",
     "text": [
      "*Ogg1* and *Mutyh* are both involved in the base-excision repair (BER) pathway, which responds to oxidative DNA damage and prevents C>A mutations. *Ogg1* is responsible for recognizing and removing 8-oxoguanine lesions that are paired with cytosine nucleotides. If these lesions are not removed before DNA replication, adenine may be incorrectly inserted opposite 8-oxoG. In such cases, *Mutyh* can remove the mispaired adenine, leading to the formation of a C:8-oxoG base pair that is repaired by other BER proteins. Defects in this repair process result in elevated C>A mutation rates. For instance, mice lacking *Ogg1*, *Mutyh*, and *Mth1* accumulate excess 8-oxoG in their gonadal cells, with almost all germline mutations being C>A transversions. Mutations and loss-of-heterozygosity in *Ogg1* have been linked to an increased cancer risk in humans. Furthermore, loss of *Ogg1* or *Mutyh* in human neuroblastoma is associated with higher rates of spontaneous C>A mutations.\n"
     ]
    }
   ],
   "source": [
    "par1 = process_paragraph(mod_section_paragraphs[9])\n",
    "print(par1)"
   ]
  },
  {
   "cell_type": "code",
   "execution_count": 155,
   "id": "66fcccb7-97ff-4ccc-80ae-6d841c9a4333",
   "metadata": {
    "execution": {
     "iopub.execute_input": "2024-03-23T05:13:52.987369Z",
     "iopub.status.busy": "2024-03-23T05:13:52.986964Z",
     "iopub.status.idle": "2024-03-23T05:13:52.989518Z",
     "shell.execute_reply": "2024-03-23T05:13:52.989088Z"
    },
    "papermill": {
     "duration": 0.040934,
     "end_time": "2024-03-23T05:13:52.990275",
     "exception": false,
     "start_time": "2024-03-23T05:13:52.949341",
     "status": "completed"
    },
    "tags": []
   },
   "outputs": [],
   "source": [
    "paragraph_matches.append(\n",
    "    (\n",
    "        section_name,\n",
    "        par0,\n",
    "        par1,\n",
    "    )\n",
    ")"
   ]
  },
  {
   "cell_type": "code",
   "execution_count": 156,
   "id": "1487d4c6-de99-4cae-857b-430b29f83e1a",
   "metadata": {
    "execution": {
     "iopub.execute_input": "2024-03-23T05:13:53.066401Z",
     "iopub.status.busy": "2024-03-23T05:13:53.065954Z",
     "iopub.status.idle": "2024-03-23T05:13:53.069573Z",
     "shell.execute_reply": "2024-03-23T05:13:53.069133Z"
    },
    "papermill": {
     "duration": 0.042257,
     "end_time": "2024-03-23T05:13:53.070351",
     "exception": false,
     "start_time": "2024-03-23T05:13:53.028094",
     "status": "completed"
    },
    "tags": []
   },
   "outputs": [
    {
     "data": {
      "text/plain": [
       "('discussion',\n",
       " '*Ogg1* is a member of the same base-excision repair (BER) pathway as *Mutyh*, the protein-coding gene we previously implicated as harboring mutator alleles at the locus on chromosome 4 [@PMID:17581577]. Each of these genes has a distinct role in the BER response to oxidative DNA damage, and thereby the prevention of C>A mutations [@PMID:28963982;@PMID:24732879]. Following damage by reactive oxygen species, *Ogg1* is able to recognize and remove 8-oxoguanine lesions that are base-paired with cytosine nucleotides; once 8-oxoG is excised, other members of the BER pathway are mobilized to restore a proper G:C base pair at the site. If an 8-oxoG lesion is not removed before the cell enters S-phase, adenine can be mis-incorporated opposite 8-oxoG during DNA replication [@PMID:28963982]. If this occurs, *Mutyh* can excise the mispaired adenine, leaving a one-nucleotide gap that is processed and filled with a cytosine by other BER proteins. The resulting C:8-oxoG base pair can then be \"returned\" to *Ogg1* for excision and repair. Defects in the BER response to oxidative damage lead to significantly elevated rates of C>A mutation. For example, triple-knockout (KO) mice lacking *Ogg1*, *Mutyh*, and *Mth1* (which encodes an enzyme that prevents 8-oxo-dGTP from being incorporated during DNA synthesis [@PMID:8226881]) accumulate a 100-fold excess of 8-oxoG in their gonadal cells [@PMID:24732879]. Almost 99% of *de novo* germline mutations in the *Ogg1/Mutyh/Mth1* triple KO mice are C>A transversions, demonstrating the clear role of 8-oxoG repair in preventing C>A mutation. Additionally, missense mutations and loss-of-heterozygosity in *Ogg1* have been associated with increased risk of human cancer [@PMID:22829015;@PMID:9662341], and copy-number losses of either *Ogg1* or *Mutyh* are linked to elevated rates of spontaneous C>A mutation in human neuroblastoma [@doi:10.1073/pnas.2007898118].',\n",
       " '*Ogg1* and *Mutyh* are both involved in the base-excision repair (BER) pathway, which responds to oxidative DNA damage and prevents C>A mutations. *Ogg1* is responsible for recognizing and removing 8-oxoguanine lesions that are paired with cytosine nucleotides. If these lesions are not removed before DNA replication, adenine may be incorrectly inserted opposite 8-oxoG. In such cases, *Mutyh* can remove the mispaired adenine, leading to the formation of a C:8-oxoG base pair that is repaired by other BER proteins. Defects in this repair process result in elevated C>A mutation rates. For instance, mice lacking *Ogg1*, *Mutyh*, and *Mth1* accumulate excess 8-oxoG in their gonadal cells, with almost all germline mutations being C>A transversions. Mutations and loss-of-heterozygosity in *Ogg1* have been linked to an increased cancer risk in humans. Furthermore, loss of *Ogg1* or *Mutyh* in human neuroblastoma is associated with higher rates of spontaneous C>A mutations.')"
      ]
     },
     "metadata": {},
     "output_type": "display_data"
    }
   ],
   "source": [
    "display(paragraph_matches[-1])"
   ]
  },
  {
   "cell_type": "markdown",
   "id": "6490bb55-8004-4e13-963e-1baa8489f6ab",
   "metadata": {
    "editable": true,
    "papermill": {
     "duration": 0.037054,
     "end_time": "2024-03-23T05:13:53.144650",
     "exception": false,
     "start_time": "2024-03-23T05:13:53.107596",
     "status": "completed"
    },
    "slideshow": {
     "slide_type": ""
    },
    "tags": []
   },
   "source": [
    "####  Paragraph 05"
   ]
  },
  {
   "cell_type": "code",
   "execution_count": 157,
   "id": "86ade612-a79b-4270-99d5-b403b0272c17",
   "metadata": {
    "execution": {
     "iopub.execute_input": "2024-03-23T05:13:53.219470Z",
     "iopub.status.busy": "2024-03-23T05:13:53.219096Z",
     "iopub.status.idle": "2024-03-23T05:13:53.222161Z",
     "shell.execute_reply": "2024-03-23T05:13:53.221634Z"
    },
    "papermill": {
     "duration": 0.041666,
     "end_time": "2024-03-23T05:13:53.223061",
     "exception": false,
     "start_time": "2024-03-23T05:13:53.181395",
     "status": "completed"
    },
    "tags": []
   },
   "outputs": [
    {
     "name": "stdout",
     "output_type": "stream",
     "text": [
      "The p.Thr95Ala *Ogg1* missense variant is not predicted to be deleterious by the *in silico* tool SIFT [@PMID:12824425], and occurs at a nucleotide that is not particularly well-conserved across mammalian species (Table @tbl:nonsyn-diffs). We also observe that the *D* allele at p.Thr95Ala is segregating at an allele frequency of approximately 26% among wild-derived *Mus musculus domesticus* animals, and is fixed in other wild populations of *Mus musculus musculus*, *Mus musculus castaneus*, and *Mus spretus* . Although we would expect *a priori* that *Ogg1* deficiency should lead to increased 8-oxoG accumulation and elevated C>A mutation rates, these lines of evidence suggest that p.Thr95Ala is not highly deleterious on its own, and might only exert a detectable effect on the BER gene network when *Mutyh* function is also impaired. It is also possible that *D* alleles at *Ogg1* lead to a very subtle increase in C>A mutation rates, and we are simply underpowered to detect such a small mutation rate effect in the BXDs.\n"
     ]
    }
   ],
   "source": [
    "par0 = process_paragraph(orig_section_paragraphs[11])\n",
    "print(par0)"
   ]
  },
  {
   "cell_type": "code",
   "execution_count": 158,
   "id": "0affd988-bc27-498c-b4e6-d8073791510a",
   "metadata": {
    "execution": {
     "iopub.execute_input": "2024-03-23T05:13:53.298481Z",
     "iopub.status.busy": "2024-03-23T05:13:53.298138Z",
     "iopub.status.idle": "2024-03-23T05:13:53.301418Z",
     "shell.execute_reply": "2024-03-23T05:13:53.300853Z"
    },
    "papermill": {
     "duration": 0.041683,
     "end_time": "2024-03-23T05:13:53.302218",
     "exception": false,
     "start_time": "2024-03-23T05:13:53.260535",
     "status": "completed"
    },
    "tags": []
   },
   "outputs": [
    {
     "name": "stdout",
     "output_type": "stream",
     "text": [
      "The p.Thr95Ala variant of the Ogg1 gene is not expected to be harmful according to the SIFT tool, and is found at a nucleotide that is not highly conserved among mammalian species. The D allele at p.Thr95Ala has a frequency of about 26% in wild-derived Mus musculus domesticus animals, and is fixed in other wild populations of Mus musculus musculus, Mus musculus castaneus, and Mus spretus. While we would anticipate that Ogg1 deficiency would result in increased 8-oxoG accumulation and higher C>A mutation rates, these findings suggest that p.Thr95Ala may not be very harmful on its own, and may only have a noticeable impact on the BER gene network when Mutyh function is also compromised. It is also plausible that D alleles at Ogg1 could lead to a subtle increase in C>A mutation rates, but we may not have enough power to detect such a small mutation rate effect in the BXDs.\n"
     ]
    }
   ],
   "source": [
    "par1 = process_paragraph(mod_section_paragraphs[11])\n",
    "print(par1)"
   ]
  },
  {
   "cell_type": "code",
   "execution_count": 159,
   "id": "66a3ff5c-d563-4bbf-b900-e77fc94cd6bc",
   "metadata": {
    "execution": {
     "iopub.execute_input": "2024-03-23T05:13:53.406357Z",
     "iopub.status.busy": "2024-03-23T05:13:53.405962Z",
     "iopub.status.idle": "2024-03-23T05:13:53.409019Z",
     "shell.execute_reply": "2024-03-23T05:13:53.408440Z"
    },
    "papermill": {
     "duration": 0.042088,
     "end_time": "2024-03-23T05:13:53.409890",
     "exception": false,
     "start_time": "2024-03-23T05:13:53.367802",
     "status": "completed"
    },
    "tags": []
   },
   "outputs": [],
   "source": [
    "paragraph_matches.append(\n",
    "    (\n",
    "        section_name,\n",
    "        par0,\n",
    "        par1,\n",
    "    )\n",
    ")"
   ]
  },
  {
   "cell_type": "code",
   "execution_count": 160,
   "id": "be401e36-b2d9-4533-be76-cb1ba54f6ecb",
   "metadata": {
    "execution": {
     "iopub.execute_input": "2024-03-23T05:13:53.485979Z",
     "iopub.status.busy": "2024-03-23T05:13:53.485526Z",
     "iopub.status.idle": "2024-03-23T05:13:53.489501Z",
     "shell.execute_reply": "2024-03-23T05:13:53.488933Z"
    },
    "papermill": {
     "duration": 0.043031,
     "end_time": "2024-03-23T05:13:53.490358",
     "exception": false,
     "start_time": "2024-03-23T05:13:53.447327",
     "status": "completed"
    },
    "tags": []
   },
   "outputs": [
    {
     "data": {
      "text/plain": [
       "('discussion',\n",
       " 'The p.Thr95Ala *Ogg1* missense variant is not predicted to be deleterious by the *in silico* tool SIFT [@PMID:12824425], and occurs at a nucleotide that is not particularly well-conserved across mammalian species (Table @tbl:nonsyn-diffs). We also observe that the *D* allele at p.Thr95Ala is segregating at an allele frequency of approximately 26% among wild-derived *Mus musculus domesticus* animals, and is fixed in other wild populations of *Mus musculus musculus*, *Mus musculus castaneus*, and *Mus spretus* . Although we would expect *a priori* that *Ogg1* deficiency should lead to increased 8-oxoG accumulation and elevated C>A mutation rates, these lines of evidence suggest that p.Thr95Ala is not highly deleterious on its own, and might only exert a detectable effect on the BER gene network when *Mutyh* function is also impaired. It is also possible that *D* alleles at *Ogg1* lead to a very subtle increase in C>A mutation rates, and we are simply underpowered to detect such a small mutation rate effect in the BXDs.',\n",
       " 'The p.Thr95Ala variant of the Ogg1 gene is not expected to be harmful according to the SIFT tool, and is found at a nucleotide that is not highly conserved among mammalian species. The D allele at p.Thr95Ala has a frequency of about 26% in wild-derived Mus musculus domesticus animals, and is fixed in other wild populations of Mus musculus musculus, Mus musculus castaneus, and Mus spretus. While we would anticipate that Ogg1 deficiency would result in increased 8-oxoG accumulation and higher C>A mutation rates, these findings suggest that p.Thr95Ala may not be very harmful on its own, and may only have a noticeable impact on the BER gene network when Mutyh function is also compromised. It is also plausible that D alleles at Ogg1 could lead to a subtle increase in C>A mutation rates, but we may not have enough power to detect such a small mutation rate effect in the BXDs.')"
      ]
     },
     "metadata": {},
     "output_type": "display_data"
    }
   ],
   "source": [
    "display(paragraph_matches[-1])"
   ]
  },
  {
   "cell_type": "markdown",
   "id": "d080117b-9e27-47ce-9b2f-b01c70e365c7",
   "metadata": {
    "editable": true,
    "papermill": {
     "duration": 0.037094,
     "end_time": "2024-03-23T05:13:53.565611",
     "exception": false,
     "start_time": "2024-03-23T05:13:53.528517",
     "status": "completed"
    },
    "slideshow": {
     "slide_type": ""
    },
    "tags": []
   },
   "source": [
    "####  Paragraph 06"
   ]
  },
  {
   "cell_type": "code",
   "execution_count": 161,
   "id": "4ca66dfa-862c-4ed3-a7ce-ad587271bf8a",
   "metadata": {
    "execution": {
     "iopub.execute_input": "2024-03-23T05:13:53.640468Z",
     "iopub.status.busy": "2024-03-23T05:13:53.639987Z",
     "iopub.status.idle": "2024-03-23T05:13:53.643397Z",
     "shell.execute_reply": "2024-03-23T05:13:53.642812Z"
    },
    "papermill": {
     "duration": 0.041474,
     "end_time": "2024-03-23T05:13:53.644220",
     "exception": false,
     "start_time": "2024-03-23T05:13:53.602746",
     "status": "completed"
    },
    "tags": []
   },
   "outputs": [
    {
     "name": "stdout",
     "output_type": "stream",
     "text": [
      "Although we argue above that *Ogg1* is likely the the best candidate gene to explain the new BXD C>A mutator phenotype, we cannot conclusively determine that the p.Thr95Ala missense mutation is a causal allele. We previously hypothesized that *Mutyh* missense mutations on *D* haplotypes were responsible for the large-effect C>A mutator phenotype we observed in the BXDs [@PMID:35545679]. However, subsequent long-read assemblies of several inbred laboratory mouse strains revealed that this mutator phenotype might be caused by a ~5 kbp mobile element insertion (MEI) within the first intron of *Mutyh* [@doi:10.1016/j.xgen.2023.100291], which is associated with significantly reduced expression of *Mutyh* in embryonic stem cells. We queried the new high-quality assemblies for evidence of mobile elements or other large structural variants (SVs) in the region surrounding the mutator locus on chromosome 6, but found no similarly compelling evidence that either SVs or MEIs might underlie the mutator phenotype described in this study.\n"
     ]
    }
   ],
   "source": [
    "par0 = process_paragraph(orig_section_paragraphs[13])\n",
    "print(par0)"
   ]
  },
  {
   "cell_type": "code",
   "execution_count": 162,
   "id": "799fb0c0-15ed-4b7e-8a16-0dd33bdf81b1",
   "metadata": {
    "execution": {
     "iopub.execute_input": "2024-03-23T05:13:53.719312Z",
     "iopub.status.busy": "2024-03-23T05:13:53.718980Z",
     "iopub.status.idle": "2024-03-23T05:13:53.722133Z",
     "shell.execute_reply": "2024-03-23T05:13:53.721553Z"
    },
    "papermill": {
     "duration": 0.041286,
     "end_time": "2024-03-23T05:13:53.722848",
     "exception": false,
     "start_time": "2024-03-23T05:13:53.681562",
     "status": "completed"
    },
    "tags": []
   },
   "outputs": [
    {
     "name": "stdout",
     "output_type": "stream",
     "text": [
      "Although we suggest that *Ogg1* is a strong candidate gene for explaining the BXD C>A mutator phenotype, we cannot definitively confirm that the p.Thr95Ala missense mutation is the causal allele. Initially, we proposed that *Mutyh* missense mutations on *D* haplotypes were responsible for the significant C>A mutator phenotype in the BXDs [@PMID:35545679]. However, further analysis using long-read assemblies of various inbred laboratory mouse strains indicated that this mutator phenotype could be due to a ~5 kbp mobile element insertion (MEI) within the first intron of *Mutyh* [@doi:10.1016/j.xgen.2023.100291]. This MEI was linked to a notable decrease in *Mutyh* expression in embryonic stem cells. We also examined the new high-quality assemblies to identify any mobile elements or large structural variants (SVs) near the mutator locus on chromosome 6. However, we did not find convincing evidence suggesting that SVs or MEIs are responsible for the mutator phenotype discussed in this study.\n"
     ]
    }
   ],
   "source": [
    "par1 = process_paragraph(mod_section_paragraphs[13])\n",
    "print(par1)"
   ]
  },
  {
   "cell_type": "code",
   "execution_count": 163,
   "id": "ef6c17fb-7cd6-4690-8bce-3bc17befc326",
   "metadata": {
    "execution": {
     "iopub.execute_input": "2024-03-23T05:13:53.797481Z",
     "iopub.status.busy": "2024-03-23T05:13:53.797085Z",
     "iopub.status.idle": "2024-03-23T05:13:53.800022Z",
     "shell.execute_reply": "2024-03-23T05:13:53.799449Z"
    },
    "papermill": {
     "duration": 0.040976,
     "end_time": "2024-03-23T05:13:53.800720",
     "exception": false,
     "start_time": "2024-03-23T05:13:53.759744",
     "status": "completed"
    },
    "tags": []
   },
   "outputs": [],
   "source": [
    "paragraph_matches.append(\n",
    "    (\n",
    "        section_name,\n",
    "        par0,\n",
    "        par1,\n",
    "    )\n",
    ")"
   ]
  },
  {
   "cell_type": "code",
   "execution_count": 164,
   "id": "480aea1d-08f8-4520-b71b-735a9d57dd1e",
   "metadata": {
    "execution": {
     "iopub.execute_input": "2024-03-23T05:13:53.876007Z",
     "iopub.status.busy": "2024-03-23T05:13:53.875674Z",
     "iopub.status.idle": "2024-03-23T05:13:53.879591Z",
     "shell.execute_reply": "2024-03-23T05:13:53.878938Z"
    },
    "papermill": {
     "duration": 0.042295,
     "end_time": "2024-03-23T05:13:53.880317",
     "exception": false,
     "start_time": "2024-03-23T05:13:53.838022",
     "status": "completed"
    },
    "tags": []
   },
   "outputs": [
    {
     "data": {
      "text/plain": [
       "('discussion',\n",
       " 'Although we argue above that *Ogg1* is likely the the best candidate gene to explain the new BXD C>A mutator phenotype, we cannot conclusively determine that the p.Thr95Ala missense mutation is a causal allele. We previously hypothesized that *Mutyh* missense mutations on *D* haplotypes were responsible for the large-effect C>A mutator phenotype we observed in the BXDs [@PMID:35545679]. However, subsequent long-read assemblies of several inbred laboratory mouse strains revealed that this mutator phenotype might be caused by a ~5 kbp mobile element insertion (MEI) within the first intron of *Mutyh* [@doi:10.1016/j.xgen.2023.100291], which is associated with significantly reduced expression of *Mutyh* in embryonic stem cells. We queried the new high-quality assemblies for evidence of mobile elements or other large structural variants (SVs) in the region surrounding the mutator locus on chromosome 6, but found no similarly compelling evidence that either SVs or MEIs might underlie the mutator phenotype described in this study.',\n",
       " 'Although we suggest that *Ogg1* is a strong candidate gene for explaining the BXD C>A mutator phenotype, we cannot definitively confirm that the p.Thr95Ala missense mutation is the causal allele. Initially, we proposed that *Mutyh* missense mutations on *D* haplotypes were responsible for the significant C>A mutator phenotype in the BXDs [@PMID:35545679]. However, further analysis using long-read assemblies of various inbred laboratory mouse strains indicated that this mutator phenotype could be due to a ~5 kbp mobile element insertion (MEI) within the first intron of *Mutyh* [@doi:10.1016/j.xgen.2023.100291]. This MEI was linked to a notable decrease in *Mutyh* expression in embryonic stem cells. We also examined the new high-quality assemblies to identify any mobile elements or large structural variants (SVs) near the mutator locus on chromosome 6. However, we did not find convincing evidence suggesting that SVs or MEIs are responsible for the mutator phenotype discussed in this study.')"
      ]
     },
     "metadata": {},
     "output_type": "display_data"
    }
   ],
   "source": [
    "display(paragraph_matches[-1])"
   ]
  },
  {
   "cell_type": "markdown",
   "id": "e4024b9d-cd68-42da-8405-b98cd0245115",
   "metadata": {
    "editable": true,
    "papermill": {
     "duration": 0.036896,
     "end_time": "2024-03-23T05:13:53.954677",
     "exception": false,
     "start_time": "2024-03-23T05:13:53.917781",
     "status": "completed"
    },
    "slideshow": {
     "slide_type": ""
    },
    "tags": []
   },
   "source": [
    "####  Paragraph 07"
   ]
  },
  {
   "cell_type": "code",
   "execution_count": 165,
   "id": "183306a9-e067-4125-9343-906ebad1c7a4",
   "metadata": {
    "execution": {
     "iopub.execute_input": "2024-03-23T05:13:54.029617Z",
     "iopub.status.busy": "2024-03-23T05:13:54.029296Z",
     "iopub.status.idle": "2024-03-23T05:13:54.032510Z",
     "shell.execute_reply": "2024-03-23T05:13:54.031942Z"
    },
    "papermill": {
     "duration": 0.041548,
     "end_time": "2024-03-23T05:13:54.033311",
     "exception": false,
     "start_time": "2024-03-23T05:13:53.991763",
     "status": "completed"
    },
    "tags": []
   },
   "outputs": [
    {
     "name": "stdout",
     "output_type": "stream",
     "text": [
      "We observed strong-effect cis-eQTLs for *Ogg1* expression across a number of tissues in the BXDs (Table @tbl:eqtl-results). In each of these tissue types, *D* genotypes were associated with decreased expression of *Ogg1*. As mentioned above, new evidence from long-read genome assemblies has demonstrated that an intronic mobile element insertion in *Mutyh* may be responsible for decreased *Mutyh* expression, and therefore higher C>A mutation rates, in BXDs with *D* haplotypes at the chromosome 4 mutator locus [@doi:10.1016/j.xgen.2023.100291]. Taken together, these results raise the exciting possibility that the mutator loci on both chromosome 4 and chromosome 6 lead to increased C>A mutation rates by lowering the expression of DNA repair genes in the same base-excision repair network.\n"
     ]
    }
   ],
   "source": [
    "par0 = process_paragraph(orig_section_paragraphs[15])\n",
    "print(par0)"
   ]
  },
  {
   "cell_type": "code",
   "execution_count": 166,
   "id": "6fd692c5-e5b1-4be1-bff6-2cef45f36f15",
   "metadata": {
    "execution": {
     "iopub.execute_input": "2024-03-23T05:13:54.108956Z",
     "iopub.status.busy": "2024-03-23T05:13:54.108516Z",
     "iopub.status.idle": "2024-03-23T05:13:54.111797Z",
     "shell.execute_reply": "2024-03-23T05:13:54.111225Z"
    },
    "papermill": {
     "duration": 0.041356,
     "end_time": "2024-03-23T05:13:54.112572",
     "exception": false,
     "start_time": "2024-03-23T05:13:54.071216",
     "status": "completed"
    },
    "tags": []
   },
   "outputs": [
    {
     "name": "stdout",
     "output_type": "stream",
     "text": [
      "We found strong-effect cis-eQTLs for *Ogg1* expression in various tissues in the BXDs (Table @tbl:eqtl-results). In all these tissue types, *D* genotypes were linked to reduced *Ogg1* expression. Recent evidence from long-read genome assemblies suggests that an intronic mobile element insertion in *Mutyh* could be responsible for decreased *Mutyh* expression and, consequently, higher C>A mutation rates in BXDs with *D* haplotypes at the chromosome 4 mutator locus [@doi:10.1016/j.xgen.2023.100291]. These findings suggest that the mutator loci on both chromosome 4 and chromosome 6 may increase C>A mutation rates by reducing the expression of DNA repair genes in the same base-excision repair network.\n"
     ]
    }
   ],
   "source": [
    "par1 = process_paragraph(mod_section_paragraphs[15])\n",
    "print(par1)"
   ]
  },
  {
   "cell_type": "code",
   "execution_count": 167,
   "id": "3f8809fc-2eed-4721-97a4-25511cd2f9de",
   "metadata": {
    "execution": {
     "iopub.execute_input": "2024-03-23T05:13:54.187751Z",
     "iopub.status.busy": "2024-03-23T05:13:54.187341Z",
     "iopub.status.idle": "2024-03-23T05:13:54.190298Z",
     "shell.execute_reply": "2024-03-23T05:13:54.189661Z"
    },
    "papermill": {
     "duration": 0.041487,
     "end_time": "2024-03-23T05:13:54.191118",
     "exception": false,
     "start_time": "2024-03-23T05:13:54.149631",
     "status": "completed"
    },
    "tags": []
   },
   "outputs": [],
   "source": [
    "paragraph_matches.append(\n",
    "    (\n",
    "        section_name,\n",
    "        par0,\n",
    "        par1,\n",
    "    )\n",
    ")"
   ]
  },
  {
   "cell_type": "code",
   "execution_count": 168,
   "id": "8c696e12-6ecb-4c0f-98d8-042edf9cd199",
   "metadata": {
    "execution": {
     "iopub.execute_input": "2024-03-23T05:13:54.295342Z",
     "iopub.status.busy": "2024-03-23T05:13:54.294812Z",
     "iopub.status.idle": "2024-03-23T05:13:54.298745Z",
     "shell.execute_reply": "2024-03-23T05:13:54.298187Z"
    },
    "papermill": {
     "duration": 0.042524,
     "end_time": "2024-03-23T05:13:54.299576",
     "exception": false,
     "start_time": "2024-03-23T05:13:54.257052",
     "status": "completed"
    },
    "tags": []
   },
   "outputs": [
    {
     "data": {
      "text/plain": [
       "('discussion',\n",
       " 'We observed strong-effect cis-eQTLs for *Ogg1* expression across a number of tissues in the BXDs (Table @tbl:eqtl-results). In each of these tissue types, *D* genotypes were associated with decreased expression of *Ogg1*. As mentioned above, new evidence from long-read genome assemblies has demonstrated that an intronic mobile element insertion in *Mutyh* may be responsible for decreased *Mutyh* expression, and therefore higher C>A mutation rates, in BXDs with *D* haplotypes at the chromosome 4 mutator locus [@doi:10.1016/j.xgen.2023.100291]. Taken together, these results raise the exciting possibility that the mutator loci on both chromosome 4 and chromosome 6 lead to increased C>A mutation rates by lowering the expression of DNA repair genes in the same base-excision repair network.',\n",
       " 'We found strong-effect cis-eQTLs for *Ogg1* expression in various tissues in the BXDs (Table @tbl:eqtl-results). In all these tissue types, *D* genotypes were linked to reduced *Ogg1* expression. Recent evidence from long-read genome assemblies suggests that an intronic mobile element insertion in *Mutyh* could be responsible for decreased *Mutyh* expression and, consequently, higher C>A mutation rates in BXDs with *D* haplotypes at the chromosome 4 mutator locus [@doi:10.1016/j.xgen.2023.100291]. These findings suggest that the mutator loci on both chromosome 4 and chromosome 6 may increase C>A mutation rates by reducing the expression of DNA repair genes in the same base-excision repair network.')"
      ]
     },
     "metadata": {},
     "output_type": "display_data"
    }
   ],
   "source": [
    "display(paragraph_matches[-1])"
   ]
  },
  {
   "cell_type": "markdown",
   "id": "8158301c-7fdd-49bb-ad18-f12a958bb5e9",
   "metadata": {
    "editable": true,
    "papermill": {
     "duration": 0.037149,
     "end_time": "2024-03-23T05:13:54.374124",
     "exception": false,
     "start_time": "2024-03-23T05:13:54.336975",
     "status": "completed"
    },
    "slideshow": {
     "slide_type": ""
    },
    "tags": []
   },
   "source": [
    "####  Paragraph 08"
   ]
  },
  {
   "cell_type": "code",
   "execution_count": 169,
   "id": "2e9f5a4c-38cb-4331-8a9f-0b14ce9170e5",
   "metadata": {
    "execution": {
     "iopub.execute_input": "2024-03-23T05:13:54.449236Z",
     "iopub.status.busy": "2024-03-23T05:13:54.448910Z",
     "iopub.status.idle": "2024-03-23T05:13:54.452114Z",
     "shell.execute_reply": "2024-03-23T05:13:54.451559Z"
    },
    "papermill": {
     "duration": 0.041505,
     "end_time": "2024-03-23T05:13:54.452928",
     "exception": false,
     "start_time": "2024-03-23T05:13:54.411423",
     "status": "completed"
    },
    "tags": []
   },
   "outputs": [
    {
     "name": "stdout",
     "output_type": "stream",
     "text": [
      "Unlike the *Ogg1* p.Thr95Ala mutation, the p.Asp129Asn variant in *Mbd4* resides within an annotated protein domain (the *Mbd4* methyl-CpG binding domain), occurs at a nucleotide and amino acid residue that are both well-conserved, and is predicted to be deleterious by SIFT [@PMID:12824425] (Table @tbl:nonsyn-diffs). A missense mutation that affects the homologous amino acid in humans (p.Asp142Gly in GRCh38/hg38) is also present on a single haplotype in the Genome Aggregation Database (gnomAD) [@PMID:32461654] and is predicted by SIFT and Polyphen [@PMID:20354512] to be \"deleterious\" and \"probably_damaging\" in human genomes, respectively.\n"
     ]
    }
   ],
   "source": [
    "par0 = process_paragraph(orig_section_paragraphs[18])\n",
    "print(par0)"
   ]
  },
  {
   "cell_type": "code",
   "execution_count": 170,
   "id": "deabab15-6175-4d6d-81bf-5d40819bb735",
   "metadata": {
    "execution": {
     "iopub.execute_input": "2024-03-23T05:13:54.528329Z",
     "iopub.status.busy": "2024-03-23T05:13:54.528114Z",
     "iopub.status.idle": "2024-03-23T05:13:54.531408Z",
     "shell.execute_reply": "2024-03-23T05:13:54.530830Z"
    },
    "papermill": {
     "duration": 0.041879,
     "end_time": "2024-03-23T05:13:54.532191",
     "exception": false,
     "start_time": "2024-03-23T05:13:54.490312",
     "status": "completed"
    },
    "tags": []
   },
   "outputs": [
    {
     "name": "stdout",
     "output_type": "stream",
     "text": [
      "In contrast to the *Ogg1* p.Thr95Ala mutation, the p.Asp129Asn variant in *Mbd4* is located within a known protein domain, the *Mbd4* methyl-CpG binding domain. This variant occurs at a nucleotide and amino acid position that are highly conserved and is anticipated to be harmful according to SIFT (Table @tbl:nonsyn-diffs) [@PMID:12824425]. A similar mutation affecting the corresponding amino acid in humans (p.Asp142Gly in GRCh38/hg38) is found on a single haplotype in the Genome Aggregation Database (gnomAD) and is also forecasted by SIFT and Polyphen to be \"deleterious\" and \"probably_damaging\" in human genomes [@PMID:32461654] [@PMID:20354512].\n"
     ]
    }
   ],
   "source": [
    "par1 = process_paragraph(mod_section_paragraphs[18])\n",
    "print(par1)"
   ]
  },
  {
   "cell_type": "code",
   "execution_count": 171,
   "id": "a20ec7a0-e915-4583-8428-851de2484f14",
   "metadata": {
    "execution": {
     "iopub.execute_input": "2024-03-23T05:13:54.608022Z",
     "iopub.status.busy": "2024-03-23T05:13:54.607562Z",
     "iopub.status.idle": "2024-03-23T05:13:54.610641Z",
     "shell.execute_reply": "2024-03-23T05:13:54.610059Z"
    },
    "papermill": {
     "duration": 0.041798,
     "end_time": "2024-03-23T05:13:54.611411",
     "exception": false,
     "start_time": "2024-03-23T05:13:54.569613",
     "status": "completed"
    },
    "tags": []
   },
   "outputs": [],
   "source": [
    "paragraph_matches.append(\n",
    "    (\n",
    "        section_name,\n",
    "        par0,\n",
    "        par1,\n",
    "    )\n",
    ")"
   ]
  },
  {
   "cell_type": "code",
   "execution_count": 172,
   "id": "316ab0f4-cd28-4678-ad2c-4faf11fef060",
   "metadata": {
    "execution": {
     "iopub.execute_input": "2024-03-23T05:13:54.686829Z",
     "iopub.status.busy": "2024-03-23T05:13:54.686492Z",
     "iopub.status.idle": "2024-03-23T05:13:54.690339Z",
     "shell.execute_reply": "2024-03-23T05:13:54.689786Z"
    },
    "papermill": {
     "duration": 0.042465,
     "end_time": "2024-03-23T05:13:54.691055",
     "exception": false,
     "start_time": "2024-03-23T05:13:54.648590",
     "status": "completed"
    },
    "tags": []
   },
   "outputs": [
    {
     "data": {
      "text/plain": [
       "('discussion',\n",
       " 'Unlike the *Ogg1* p.Thr95Ala mutation, the p.Asp129Asn variant in *Mbd4* resides within an annotated protein domain (the *Mbd4* methyl-CpG binding domain), occurs at a nucleotide and amino acid residue that are both well-conserved, and is predicted to be deleterious by SIFT [@PMID:12824425] (Table @tbl:nonsyn-diffs). A missense mutation that affects the homologous amino acid in humans (p.Asp142Gly in GRCh38/hg38) is also present on a single haplotype in the Genome Aggregation Database (gnomAD) [@PMID:32461654] and is predicted by SIFT and Polyphen [@PMID:20354512] to be \"deleterious\" and \"probably_damaging\" in human genomes, respectively.',\n",
       " 'In contrast to the *Ogg1* p.Thr95Ala mutation, the p.Asp129Asn variant in *Mbd4* is located within a known protein domain, the *Mbd4* methyl-CpG binding domain. This variant occurs at a nucleotide and amino acid position that are highly conserved and is anticipated to be harmful according to SIFT (Table @tbl:nonsyn-diffs) [@PMID:12824425]. A similar mutation affecting the corresponding amino acid in humans (p.Asp142Gly in GRCh38/hg38) is found on a single haplotype in the Genome Aggregation Database (gnomAD) and is also forecasted by SIFT and Polyphen to be \"deleterious\" and \"probably_damaging\" in human genomes [@PMID:32461654] [@PMID:20354512].')"
      ]
     },
     "metadata": {},
     "output_type": "display_data"
    }
   ],
   "source": [
    "display(paragraph_matches[-1])"
   ]
  },
  {
   "cell_type": "markdown",
   "id": "dc1d43f3-1309-4010-a1fb-0be606dbfe33",
   "metadata": {
    "editable": true,
    "papermill": {
     "duration": 0.037117,
     "end_time": "2024-03-23T05:13:54.765746",
     "exception": false,
     "start_time": "2024-03-23T05:13:54.728629",
     "status": "completed"
    },
    "slideshow": {
     "slide_type": ""
    },
    "tags": []
   },
   "source": [
    "####  Paragraph 09"
   ]
  },
  {
   "cell_type": "code",
   "execution_count": 173,
   "id": "b87f6698-47a0-4ed6-8c0f-c879c909be33",
   "metadata": {
    "execution": {
     "iopub.execute_input": "2024-03-23T05:13:54.841298Z",
     "iopub.status.busy": "2024-03-23T05:13:54.840985Z",
     "iopub.status.idle": "2024-03-23T05:13:54.844241Z",
     "shell.execute_reply": "2024-03-23T05:13:54.843672Z"
    },
    "papermill": {
     "duration": 0.041831,
     "end_time": "2024-03-23T05:13:54.845017",
     "exception": false,
     "start_time": "2024-03-23T05:13:54.803186",
     "status": "completed"
    },
    "tags": []
   },
   "outputs": [
    {
     "name": "stdout",
     "output_type": "stream",
     "text": [
      "One puzzling observation is that loss-of-function mutations in *Mbd4* are not typically associated with C>A mutator phenotypes. Instead, *Mbd4* deficiency is usually implicated in C>T mutagenesis at CpG sites, and we did not detect an excess of C>T mutations in BXDs with *D* alleles at the chromosome 6 mutator locus (Figure @fig:spectra-comparison-all). However, loss of function mutations in *Mbd4* have also been shown to exacerbate the effects of exogenous DNA damage agents. For example, mouse embryonic fibroblasts that harbor homozygous *Mbd4* knockouts fail to undergo apoptosis following treatment with a number of chemotherapeutics and mutagenic compounds [@PMID:14614141]. Most of these exogenous mutagens cause DNA damage that is normally repaired by mismatch repair (MMR) machinery, but murine intestinal cells with biallelic *Mbd4* LOF mutations also showed a reduced apoptotic response to gamma irradiation, which is repaired independently of the MMR gene *Mlh1* [@PMID:14562041]. Homozygous loss of *Mbd4* function also leads to accelerated intestinal tumor formation in mice that harbor an *Apc* allele that predisposes them to intestinal neoplasia [@PMID:12130785], and mice with biallelic truncations of the *Mbd4* coding sequence exhibit modestly increased mutation rates in colon cancer cell lines, including increased C>A mutation rates in certain lines [@PMID:17285135].\n"
     ]
    }
   ],
   "source": [
    "par0 = process_paragraph(orig_section_paragraphs[19])\n",
    "print(par0)"
   ]
  },
  {
   "cell_type": "code",
   "execution_count": 174,
   "id": "6ef2a919-a29d-486c-a786-4ed2dfca2768",
   "metadata": {
    "execution": {
     "iopub.execute_input": "2024-03-23T05:13:54.920829Z",
     "iopub.status.busy": "2024-03-23T05:13:54.920637Z",
     "iopub.status.idle": "2024-03-23T05:13:54.923853Z",
     "shell.execute_reply": "2024-03-23T05:13:54.923284Z"
    },
    "papermill": {
     "duration": 0.041809,
     "end_time": "2024-03-23T05:13:54.924566",
     "exception": false,
     "start_time": "2024-03-23T05:13:54.882757",
     "status": "completed"
    },
    "tags": []
   },
   "outputs": [
    {
     "name": "stdout",
     "output_type": "stream",
     "text": [
      "One interesting finding is that mutations in *Mbd4* that result in loss of function do not typically cause an increase in C>A mutations. Instead, the deficiency of *Mbd4* is usually linked to an increase in C>T mutations at CpG sites. In our study, we did not observe a higher frequency of C>T mutations in BXDs with *D* alleles at the chromosome 6 mutator locus (see Figure @fig:spectra-comparison-all). However, research has shown that loss of function mutations in *Mbd4* can worsen the effects of external DNA damage agents. For instance, studies have found that mouse embryonic fibroblasts with homozygous *Mbd4* knockouts do not undergo apoptosis after exposure to various chemotherapeutic drugs and mutagenic substances. These external mutagens typically cause DNA damage that is repaired by mismatch repair (MMR) machinery. Nevertheless, murine intestinal cells with biallelic *Mbd4* LOF mutations also exhibit a reduced apoptotic response to gamma irradiation, which is repaired independently of the MMR gene *Mlh1*. Furthermore, the complete loss of *Mbd4* function leads to an increased rate of intestinal tumor formation in mice that carry an *Apc* allele associated with intestinal neoplasia. Additionally, mice with biallelic truncations of the *Mbd4* coding sequence show slightly higher mutation rates in colon cancer cell lines, including increased C>A mutation rates in specific lines.\n"
     ]
    }
   ],
   "source": [
    "par1 = process_paragraph(mod_section_paragraphs[19])\n",
    "print(par1)"
   ]
  },
  {
   "cell_type": "code",
   "execution_count": 175,
   "id": "716dd5e3-06e4-408e-9610-cd8bd4e6caa3",
   "metadata": {
    "execution": {
     "iopub.execute_input": "2024-03-23T05:13:55.000507Z",
     "iopub.status.busy": "2024-03-23T05:13:55.000314Z",
     "iopub.status.idle": "2024-03-23T05:13:55.003199Z",
     "shell.execute_reply": "2024-03-23T05:13:55.002626Z"
    },
    "papermill": {
     "duration": 0.041775,
     "end_time": "2024-03-23T05:13:55.004029",
     "exception": false,
     "start_time": "2024-03-23T05:13:54.962254",
     "status": "completed"
    },
    "tags": []
   },
   "outputs": [],
   "source": [
    "paragraph_matches.append(\n",
    "    (\n",
    "        section_name,\n",
    "        par0,\n",
    "        par1,\n",
    "    )\n",
    ")"
   ]
  },
  {
   "cell_type": "code",
   "execution_count": 176,
   "id": "8004845a-08ae-48a3-a83e-910023163eed",
   "metadata": {
    "execution": {
     "iopub.execute_input": "2024-03-23T05:13:55.082568Z",
     "iopub.status.busy": "2024-03-23T05:13:55.082219Z",
     "iopub.status.idle": "2024-03-23T05:13:55.086106Z",
     "shell.execute_reply": "2024-03-23T05:13:55.085524Z"
    },
    "papermill": {
     "duration": 0.043858,
     "end_time": "2024-03-23T05:13:55.086912",
     "exception": false,
     "start_time": "2024-03-23T05:13:55.043054",
     "status": "completed"
    },
    "tags": []
   },
   "outputs": [
    {
     "data": {
      "text/plain": [
       "('discussion',\n",
       " 'One puzzling observation is that loss-of-function mutations in *Mbd4* are not typically associated with C>A mutator phenotypes. Instead, *Mbd4* deficiency is usually implicated in C>T mutagenesis at CpG sites, and we did not detect an excess of C>T mutations in BXDs with *D* alleles at the chromosome 6 mutator locus (Figure @fig:spectra-comparison-all). However, loss of function mutations in *Mbd4* have also been shown to exacerbate the effects of exogenous DNA damage agents. For example, mouse embryonic fibroblasts that harbor homozygous *Mbd4* knockouts fail to undergo apoptosis following treatment with a number of chemotherapeutics and mutagenic compounds [@PMID:14614141]. Most of these exogenous mutagens cause DNA damage that is normally repaired by mismatch repair (MMR) machinery, but murine intestinal cells with biallelic *Mbd4* LOF mutations also showed a reduced apoptotic response to gamma irradiation, which is repaired independently of the MMR gene *Mlh1* [@PMID:14562041]. Homozygous loss of *Mbd4* function also leads to accelerated intestinal tumor formation in mice that harbor an *Apc* allele that predisposes them to intestinal neoplasia [@PMID:12130785], and mice with biallelic truncations of the *Mbd4* coding sequence exhibit modestly increased mutation rates in colon cancer cell lines, including increased C>A mutation rates in certain lines [@PMID:17285135].',\n",
       " 'One interesting finding is that mutations in *Mbd4* that result in loss of function do not typically cause an increase in C>A mutations. Instead, the deficiency of *Mbd4* is usually linked to an increase in C>T mutations at CpG sites. In our study, we did not observe a higher frequency of C>T mutations in BXDs with *D* alleles at the chromosome 6 mutator locus (see Figure @fig:spectra-comparison-all). However, research has shown that loss of function mutations in *Mbd4* can worsen the effects of external DNA damage agents. For instance, studies have found that mouse embryonic fibroblasts with homozygous *Mbd4* knockouts do not undergo apoptosis after exposure to various chemotherapeutic drugs and mutagenic substances. These external mutagens typically cause DNA damage that is repaired by mismatch repair (MMR) machinery. Nevertheless, murine intestinal cells with biallelic *Mbd4* LOF mutations also exhibit a reduced apoptotic response to gamma irradiation, which is repaired independently of the MMR gene *Mlh1*. Furthermore, the complete loss of *Mbd4* function leads to an increased rate of intestinal tumor formation in mice that carry an *Apc* allele associated with intestinal neoplasia. Additionally, mice with biallelic truncations of the *Mbd4* coding sequence show slightly higher mutation rates in colon cancer cell lines, including increased C>A mutation rates in specific lines.')"
      ]
     },
     "metadata": {},
     "output_type": "display_data"
    }
   ],
   "source": [
    "display(paragraph_matches[-1])"
   ]
  },
  {
   "cell_type": "markdown",
   "id": "5f7cb8d0-bf76-4710-800f-61855d0ffff8",
   "metadata": {
    "editable": true,
    "papermill": {
     "duration": 0.037416,
     "end_time": "2024-03-23T05:13:55.193491",
     "exception": false,
     "start_time": "2024-03-23T05:13:55.156075",
     "status": "completed"
    },
    "slideshow": {
     "slide_type": ""
    },
    "tags": []
   },
   "source": [
    "####  Paragraph 10"
   ]
  },
  {
   "cell_type": "code",
   "execution_count": 177,
   "id": "f62fa25d-5741-4e09-81fd-ec0338d91792",
   "metadata": {
    "execution": {
     "iopub.execute_input": "2024-03-23T05:13:55.270013Z",
     "iopub.status.busy": "2024-03-23T05:13:55.269460Z",
     "iopub.status.idle": "2024-03-23T05:13:55.272847Z",
     "shell.execute_reply": "2024-03-23T05:13:55.272296Z"
    },
    "papermill": {
     "duration": 0.042614,
     "end_time": "2024-03-23T05:13:55.273612",
     "exception": false,
     "start_time": "2024-03-23T05:13:55.230998",
     "status": "completed"
    },
    "tags": []
   },
   "outputs": [
    {
     "name": "stdout",
     "output_type": "stream",
     "text": [
      "Together, these lines of evidence suggest that *Mbd4* can modulate sensitivity to many types of exogenous mutagens, potentially through its role in determining whether cells harboring DNA damage should undergo apoptosis [@PMID:14614141;@PMID:14562041]. We speculate that in mice with deficient 8-oxoguanine repair &mdash; caused by a mutator allele in *Mutyh*, for example &mdash; reactive oxygen species (ROS) could cause accumulation of DNA damage in the germline. If those germ cells harbor fully functional copies of *Mbd4*, they might be able to trigger apoptosis and partially mitigate the effects of a *Mutyh* mutator allele. However, mice with reduced activity of both *Mbd4* and *Mutyh* may have a reduced ability to initiate cell death in response to DNA damage; as a result, their germ cells may accumulate even higher levels of ROS-mediated damage, leading to substantially elevated germline C>A mutation rates.\n"
     ]
    }
   ],
   "source": [
    "par0 = process_paragraph(orig_section_paragraphs[20])\n",
    "print(par0)"
   ]
  },
  {
   "cell_type": "code",
   "execution_count": 178,
   "id": "338c7ba4-5d0b-4217-b52f-50c34dc60f00",
   "metadata": {
    "execution": {
     "iopub.execute_input": "2024-03-23T05:13:55.350375Z",
     "iopub.status.busy": "2024-03-23T05:13:55.349978Z",
     "iopub.status.idle": "2024-03-23T05:13:55.353039Z",
     "shell.execute_reply": "2024-03-23T05:13:55.352575Z"
    },
    "papermill": {
     "duration": 0.042225,
     "end_time": "2024-03-23T05:13:55.353819",
     "exception": false,
     "start_time": "2024-03-23T05:13:55.311594",
     "status": "completed"
    },
    "tags": []
   },
   "outputs": [
    {
     "name": "stdout",
     "output_type": "stream",
     "text": [
      "These findings suggest that the gene *Mbd4* may influence sensitivity to various external factors that cause mutations, possibly by determining whether cells with damaged DNA should die [@PMID:14614141;@PMID:14562041]. It is hypothesized that in mice with a defective repair system for 8-oxoguanine, such as a mutator gene like *Mutyh*, oxidative stress could lead to an increase in DNA damage in the reproductive cells. If these germ cells have functional *Mbd4* genes, they might be able to induce cell death and partially reduce the impact of a *Mutyh* mutator gene. However, mice with reduced activity of both *Mbd4* and *Mutyh* may struggle to initiate cell death in response to DNA damage. Consequently, their germ cells could accumulate higher levels of damage caused by reactive oxygen species, resulting in significantly higher rates of C>A mutations in the germline.\n"
     ]
    }
   ],
   "source": [
    "par1 = process_paragraph(mod_section_paragraphs[20])\n",
    "print(par1)"
   ]
  },
  {
   "cell_type": "code",
   "execution_count": 179,
   "id": "0e5abe5a-2edc-4023-a579-479f84a05b64",
   "metadata": {
    "execution": {
     "iopub.execute_input": "2024-03-23T05:13:55.429940Z",
     "iopub.status.busy": "2024-03-23T05:13:55.429695Z",
     "iopub.status.idle": "2024-03-23T05:13:55.432453Z",
     "shell.execute_reply": "2024-03-23T05:13:55.431976Z"
    },
    "papermill": {
     "duration": 0.041348,
     "end_time": "2024-03-23T05:13:55.433164",
     "exception": false,
     "start_time": "2024-03-23T05:13:55.391816",
     "status": "completed"
    },
    "tags": []
   },
   "outputs": [],
   "source": [
    "paragraph_matches.append(\n",
    "    (\n",
    "        section_name,\n",
    "        par0,\n",
    "        par1,\n",
    "    )\n",
    ")"
   ]
  },
  {
   "cell_type": "code",
   "execution_count": 180,
   "id": "3167abc0-a187-4638-aabc-a5db26a976b5",
   "metadata": {
    "execution": {
     "iopub.execute_input": "2024-03-23T05:13:55.509477Z",
     "iopub.status.busy": "2024-03-23T05:13:55.509279Z",
     "iopub.status.idle": "2024-03-23T05:13:55.512822Z",
     "shell.execute_reply": "2024-03-23T05:13:55.512387Z"
    },
    "papermill": {
     "duration": 0.042612,
     "end_time": "2024-03-23T05:13:55.513561",
     "exception": false,
     "start_time": "2024-03-23T05:13:55.470949",
     "status": "completed"
    },
    "tags": []
   },
   "outputs": [
    {
     "data": {
      "text/plain": [
       "('discussion',\n",
       " 'Together, these lines of evidence suggest that *Mbd4* can modulate sensitivity to many types of exogenous mutagens, potentially through its role in determining whether cells harboring DNA damage should undergo apoptosis [@PMID:14614141;@PMID:14562041]. We speculate that in mice with deficient 8-oxoguanine repair &mdash; caused by a mutator allele in *Mutyh*, for example &mdash; reactive oxygen species (ROS) could cause accumulation of DNA damage in the germline. If those germ cells harbor fully functional copies of *Mbd4*, they might be able to trigger apoptosis and partially mitigate the effects of a *Mutyh* mutator allele. However, mice with reduced activity of both *Mbd4* and *Mutyh* may have a reduced ability to initiate cell death in response to DNA damage; as a result, their germ cells may accumulate even higher levels of ROS-mediated damage, leading to substantially elevated germline C>A mutation rates.',\n",
       " 'These findings suggest that the gene *Mbd4* may influence sensitivity to various external factors that cause mutations, possibly by determining whether cells with damaged DNA should die [@PMID:14614141;@PMID:14562041]. It is hypothesized that in mice with a defective repair system for 8-oxoguanine, such as a mutator gene like *Mutyh*, oxidative stress could lead to an increase in DNA damage in the reproductive cells. If these germ cells have functional *Mbd4* genes, they might be able to induce cell death and partially reduce the impact of a *Mutyh* mutator gene. However, mice with reduced activity of both *Mbd4* and *Mutyh* may struggle to initiate cell death in response to DNA damage. Consequently, their germ cells could accumulate higher levels of damage caused by reactive oxygen species, resulting in significantly higher rates of C>A mutations in the germline.')"
      ]
     },
     "metadata": {},
     "output_type": "display_data"
    }
   ],
   "source": [
    "display(paragraph_matches[-1])"
   ]
  },
  {
   "cell_type": "markdown",
   "id": "624eb394-fa71-48a6-b270-b6e6bb79d77f",
   "metadata": {
    "editable": true,
    "papermill": {
     "duration": 0.037259,
     "end_time": "2024-03-23T05:13:55.589036",
     "exception": false,
     "start_time": "2024-03-23T05:13:55.551777",
     "status": "completed"
    },
    "slideshow": {
     "slide_type": ""
    },
    "tags": []
   },
   "source": [
    "####  Paragraph 11"
   ]
  },
  {
   "cell_type": "code",
   "execution_count": 181,
   "id": "5e9d077a-dbde-427a-b4fb-1a7194efdacd",
   "metadata": {
    "execution": {
     "iopub.execute_input": "2024-03-23T05:13:55.665267Z",
     "iopub.status.busy": "2024-03-23T05:13:55.665065Z",
     "iopub.status.idle": "2024-03-23T05:13:55.668095Z",
     "shell.execute_reply": "2024-03-23T05:13:55.667644Z"
    },
    "papermill": {
     "duration": 0.04217,
     "end_time": "2024-03-23T05:13:55.668824",
     "exception": false,
     "start_time": "2024-03-23T05:13:55.626654",
     "status": "completed"
    },
    "tags": []
   },
   "outputs": [
    {
     "name": "stdout",
     "output_type": "stream",
     "text": [
      "Our aggregate mutation spectrum distance (AMSD) approach was able to identify a mutator allele that escaped notice using quantitative trait locus (QTL) mapping. To more systematically compare the power of AMSD and QTL mapping, we performed simulations under a variety of possible parameter regimes. Overall, we found that AMSD and QTL mapping have similar power to detect mutator alleles on haplotypes that each harbor tens or hundreds of *de novo* germline mutations (Figure @fig:ihd_vs_qtl_power). Nonetheless, only AMSD was able to discover the mutator locus on chromosome 6 in the BXDs, demonstrating that it outperforms QTL mapping in certain experimental systems. For example, simulations demonstrate that AMSD enjoys greater power than QTL mapping when haplotypes carry variable numbers of mutations that can be leveraged for mutator mapping (Figure @fig:ihd_vs_qtl_power_variable_counts). Because the BXDs were generated in six breeding epochs over a period of nearly 40 years, the oldest lines have accumulated orders of magnitude more mutations than the youngest lines; these younger BXDs have much noisier mutation spectra as a result. While approaches for QTL mapping typically weight the phenotypic measurements of each sample equally, AMSD compares the *aggregate* mutation spectra of haplotypes at every locus, a property that likely increased its power to detect mutators in the BXD dataset.\n"
     ]
    }
   ],
   "source": [
    "par0 = process_paragraph(orig_section_paragraphs[23])\n",
    "print(par0)"
   ]
  },
  {
   "cell_type": "code",
   "execution_count": 182,
   "id": "2df63429-0d89-44a4-a857-309e69092e1f",
   "metadata": {
    "execution": {
     "iopub.execute_input": "2024-03-23T05:13:55.744919Z",
     "iopub.status.busy": "2024-03-23T05:13:55.744723Z",
     "iopub.status.idle": "2024-03-23T05:13:55.747795Z",
     "shell.execute_reply": "2024-03-23T05:13:55.747337Z"
    },
    "papermill": {
     "duration": 0.041892,
     "end_time": "2024-03-23T05:13:55.748530",
     "exception": false,
     "start_time": "2024-03-23T05:13:55.706638",
     "status": "completed"
    },
    "tags": []
   },
   "outputs": [
    {
     "name": "stdout",
     "output_type": "stream",
     "text": [
      "Our approach using aggregate mutation spectrum distance (AMSD) successfully identified a mutator allele that was previously overlooked by quantitative trait locus (QTL) mapping. To compare the effectiveness of AMSD and QTL mapping, we conducted simulations with various parameters. Our results showed that both methods have similar abilities to detect mutator alleles on haplotypes with numerous new germline mutations. However, only AMSD was able to locate the mutator locus on chromosome 6 in the BXDs, indicating its superiority over QTL mapping in certain experimental setups. Simulations also revealed that AMSD is more powerful than QTL mapping when haplotypes have varying numbers of mutations that can aid in mutator mapping. The BXDs, generated over nearly 40 years in six breeding epochs, have accumulated significantly more mutations in the oldest lines compared to the youngest ones, resulting in noisier mutation spectra. Unlike QTL mapping, which treats all sample measurements equally, AMSD compares the aggregate mutation spectra of haplotypes at each locus, likely contributing to its enhanced ability to detect mutators in the BXD dataset.\n"
     ]
    }
   ],
   "source": [
    "par1 = process_paragraph(mod_section_paragraphs[23])\n",
    "print(par1)"
   ]
  },
  {
   "cell_type": "code",
   "execution_count": 183,
   "id": "2656b357-c900-4121-bec8-b63b4ea19955",
   "metadata": {
    "execution": {
     "iopub.execute_input": "2024-03-23T05:13:55.825436Z",
     "iopub.status.busy": "2024-03-23T05:13:55.825226Z",
     "iopub.status.idle": "2024-03-23T05:13:55.828222Z",
     "shell.execute_reply": "2024-03-23T05:13:55.827644Z"
    },
    "papermill": {
     "duration": 0.042365,
     "end_time": "2024-03-23T05:13:55.829005",
     "exception": false,
     "start_time": "2024-03-23T05:13:55.786640",
     "status": "completed"
    },
    "tags": []
   },
   "outputs": [],
   "source": [
    "paragraph_matches.append(\n",
    "    (\n",
    "        section_name,\n",
    "        par0,\n",
    "        par1,\n",
    "    )\n",
    ")"
   ]
  },
  {
   "cell_type": "code",
   "execution_count": 184,
   "id": "5f19d52b-1dc6-4785-8121-acdeab4c8e59",
   "metadata": {
    "execution": {
     "iopub.execute_input": "2024-03-23T05:13:55.906209Z",
     "iopub.status.busy": "2024-03-23T05:13:55.905781Z",
     "iopub.status.idle": "2024-03-23T05:13:55.909682Z",
     "shell.execute_reply": "2024-03-23T05:13:55.909122Z"
    },
    "papermill": {
     "duration": 0.043011,
     "end_time": "2024-03-23T05:13:55.910503",
     "exception": false,
     "start_time": "2024-03-23T05:13:55.867492",
     "status": "completed"
    },
    "tags": []
   },
   "outputs": [
    {
     "data": {
      "text/plain": [
       "('discussion',\n",
       " 'Our aggregate mutation spectrum distance (AMSD) approach was able to identify a mutator allele that escaped notice using quantitative trait locus (QTL) mapping. To more systematically compare the power of AMSD and QTL mapping, we performed simulations under a variety of possible parameter regimes. Overall, we found that AMSD and QTL mapping have similar power to detect mutator alleles on haplotypes that each harbor tens or hundreds of *de novo* germline mutations (Figure @fig:ihd_vs_qtl_power). Nonetheless, only AMSD was able to discover the mutator locus on chromosome 6 in the BXDs, demonstrating that it outperforms QTL mapping in certain experimental systems. For example, simulations demonstrate that AMSD enjoys greater power than QTL mapping when haplotypes carry variable numbers of mutations that can be leveraged for mutator mapping (Figure @fig:ihd_vs_qtl_power_variable_counts). Because the BXDs were generated in six breeding epochs over a period of nearly 40 years, the oldest lines have accumulated orders of magnitude more mutations than the youngest lines; these younger BXDs have much noisier mutation spectra as a result. While approaches for QTL mapping typically weight the phenotypic measurements of each sample equally, AMSD compares the *aggregate* mutation spectra of haplotypes at every locus, a property that likely increased its power to detect mutators in the BXD dataset.',\n",
       " 'Our approach using aggregate mutation spectrum distance (AMSD) successfully identified a mutator allele that was previously overlooked by quantitative trait locus (QTL) mapping. To compare the effectiveness of AMSD and QTL mapping, we conducted simulations with various parameters. Our results showed that both methods have similar abilities to detect mutator alleles on haplotypes with numerous new germline mutations. However, only AMSD was able to locate the mutator locus on chromosome 6 in the BXDs, indicating its superiority over QTL mapping in certain experimental setups. Simulations also revealed that AMSD is more powerful than QTL mapping when haplotypes have varying numbers of mutations that can aid in mutator mapping. The BXDs, generated over nearly 40 years in six breeding epochs, have accumulated significantly more mutations in the oldest lines compared to the youngest ones, resulting in noisier mutation spectra. Unlike QTL mapping, which treats all sample measurements equally, AMSD compares the aggregate mutation spectra of haplotypes at each locus, likely contributing to its enhanced ability to detect mutators in the BXD dataset.')"
      ]
     },
     "metadata": {},
     "output_type": "display_data"
    }
   ],
   "source": [
    "display(paragraph_matches[-1])"
   ]
  },
  {
   "cell_type": "markdown",
   "id": "839e10fa-ab2c-41f0-89fb-038e34a43bac",
   "metadata": {
    "editable": true,
    "papermill": {
     "duration": 0.037627,
     "end_time": "2024-03-23T05:13:55.986420",
     "exception": false,
     "start_time": "2024-03-23T05:13:55.948793",
     "status": "completed"
    },
    "slideshow": {
     "slide_type": ""
    },
    "tags": []
   },
   "source": [
    "####  Paragraph 12"
   ]
  },
  {
   "cell_type": "code",
   "execution_count": 185,
   "id": "a5b0ce64-6fb5-4511-9bf1-b2ed32208276",
   "metadata": {
    "execution": {
     "iopub.execute_input": "2024-03-23T05:13:56.093396Z",
     "iopub.status.busy": "2024-03-23T05:13:56.093041Z",
     "iopub.status.idle": "2024-03-23T05:13:56.096388Z",
     "shell.execute_reply": "2024-03-23T05:13:56.095822Z"
    },
    "papermill": {
     "duration": 0.043282,
     "end_time": "2024-03-23T05:13:56.097237",
     "exception": false,
     "start_time": "2024-03-23T05:13:56.053955",
     "status": "completed"
    },
    "tags": []
   },
   "outputs": [
    {
     "name": "stdout",
     "output_type": "stream",
     "text": [
      "Another benefit of the AMSD approach is that it obviates the need to perform separate association tests for every possible $k$-mer mutation type, and therefore the need to adjust significance thresholds for multiple tests. Since AMSD compares the complete mutation spectrum between haplotypes that carry either allele at a site, it would also be well-powered to detect a mutator allele that exerted a coordinated effect on multiple $k$-mer mutation types (e.g., increased the rates of both C>T and C>A mutations).\n"
     ]
    }
   ],
   "source": [
    "par0 = process_paragraph(orig_section_paragraphs[24])\n",
    "print(par0)"
   ]
  },
  {
   "cell_type": "code",
   "execution_count": 186,
   "id": "cf18e400-f501-4cd4-bd80-e8448b117d78",
   "metadata": {
    "execution": {
     "iopub.execute_input": "2024-03-23T05:13:56.175108Z",
     "iopub.status.busy": "2024-03-23T05:13:56.174621Z",
     "iopub.status.idle": "2024-03-23T05:13:56.178111Z",
     "shell.execute_reply": "2024-03-23T05:13:56.177398Z"
    },
    "papermill": {
     "duration": 0.043378,
     "end_time": "2024-03-23T05:13:56.178929",
     "exception": false,
     "start_time": "2024-03-23T05:13:56.135551",
     "status": "completed"
    },
    "tags": []
   },
   "outputs": [
    {
     "name": "stdout",
     "output_type": "stream",
     "text": [
      "Another advantage of the AMSD approach is that it eliminates the requirement to conduct individual association tests for each potential $k$-mer mutation type, thus avoiding the necessity to modify significance thresholds for multiple tests. By comparing the entire mutation spectrum between haplotypes containing either allele at a specific site, AMSD is also highly effective in identifying a mutator allele that influences multiple $k$-mer mutation types simultaneously, such as enhancing the frequencies of both C>T and C>A mutations.\n"
     ]
    }
   ],
   "source": [
    "par1 = process_paragraph(mod_section_paragraphs[24])\n",
    "print(par1)"
   ]
  },
  {
   "cell_type": "code",
   "execution_count": 187,
   "id": "2b3d944d-3325-4b87-81e7-297a72a759ad",
   "metadata": {
    "execution": {
     "iopub.execute_input": "2024-03-23T05:13:56.256258Z",
     "iopub.status.busy": "2024-03-23T05:13:56.255928Z",
     "iopub.status.idle": "2024-03-23T05:13:56.258632Z",
     "shell.execute_reply": "2024-03-23T05:13:56.258174Z"
    },
    "papermill": {
     "duration": 0.042092,
     "end_time": "2024-03-23T05:13:56.259427",
     "exception": false,
     "start_time": "2024-03-23T05:13:56.217335",
     "status": "completed"
    },
    "tags": []
   },
   "outputs": [],
   "source": [
    "paragraph_matches.append(\n",
    "    (\n",
    "        section_name,\n",
    "        par0,\n",
    "        par1,\n",
    "    )\n",
    ")"
   ]
  },
  {
   "cell_type": "code",
   "execution_count": 188,
   "id": "eb72f1aa-efa7-4cf7-8554-fa0a22a21481",
   "metadata": {
    "execution": {
     "iopub.execute_input": "2024-03-23T05:13:56.337203Z",
     "iopub.status.busy": "2024-03-23T05:13:56.336728Z",
     "iopub.status.idle": "2024-03-23T05:13:56.340320Z",
     "shell.execute_reply": "2024-03-23T05:13:56.339884Z"
    },
    "papermill": {
     "duration": 0.043028,
     "end_time": "2024-03-23T05:13:56.341063",
     "exception": false,
     "start_time": "2024-03-23T05:13:56.298035",
     "status": "completed"
    },
    "tags": []
   },
   "outputs": [
    {
     "data": {
      "text/plain": [
       "('discussion',\n",
       " 'Another benefit of the AMSD approach is that it obviates the need to perform separate association tests for every possible $k$-mer mutation type, and therefore the need to adjust significance thresholds for multiple tests. Since AMSD compares the complete mutation spectrum between haplotypes that carry either allele at a site, it would also be well-powered to detect a mutator allele that exerted a coordinated effect on multiple $k$-mer mutation types (e.g., increased the rates of both C>T and C>A mutations).',\n",
       " 'Another advantage of the AMSD approach is that it eliminates the requirement to conduct individual association tests for each potential $k$-mer mutation type, thus avoiding the necessity to modify significance thresholds for multiple tests. By comparing the entire mutation spectrum between haplotypes containing either allele at a specific site, AMSD is also highly effective in identifying a mutator allele that influences multiple $k$-mer mutation types simultaneously, such as enhancing the frequencies of both C>T and C>A mutations.')"
      ]
     },
     "metadata": {},
     "output_type": "display_data"
    }
   ],
   "source": [
    "display(paragraph_matches[-1])"
   ]
  },
  {
   "cell_type": "markdown",
   "id": "5dc5e61a-607b-4293-b908-b49d7b525184",
   "metadata": {
    "editable": true,
    "papermill": {
     "duration": 0.037977,
     "end_time": "2024-03-23T05:13:56.418299",
     "exception": false,
     "start_time": "2024-03-23T05:13:56.380322",
     "status": "completed"
    },
    "slideshow": {
     "slide_type": ""
    },
    "tags": []
   },
   "source": [
    "####  Paragraph 13"
   ]
  },
  {
   "cell_type": "code",
   "execution_count": 189,
   "id": "fb72e51d-f208-46a1-86c4-05fa131442d2",
   "metadata": {
    "execution": {
     "iopub.execute_input": "2024-03-23T05:13:56.495573Z",
     "iopub.status.busy": "2024-03-23T05:13:56.495371Z",
     "iopub.status.idle": "2024-03-23T05:13:56.498356Z",
     "shell.execute_reply": "2024-03-23T05:13:56.497900Z"
    },
    "papermill": {
     "duration": 0.042267,
     "end_time": "2024-03-23T05:13:56.499060",
     "exception": false,
     "start_time": "2024-03-23T05:13:56.456793",
     "status": "completed"
    },
    "tags": []
   },
   "outputs": [
    {
     "name": "stdout",
     "output_type": "stream",
     "text": [
      "However, the AMSD method suffers a handful of drawbacks when compared to QTL mapping. Popular QTL mapping methods (such as R/qtl2 [@PMID:30591514]) use linear models to test associations between genotypes and phenotypes, enabling the inclusion of additive and interactive covariates, as well as kinship matrices, in QTL scans. Although we have developed methods to account for inter-sample relatedness in the AMSD approach (*Materials and Methods*), they are not as flexible as similar methods in QTL mapping software. Additionally, the AMSD method assumes that mutator alleles affect a subset of $k$-mer mutation types; if a mutator allele increased the rates of all mutation types equally on haplotypes that carried it, AMSD would be unable to detect it.\n"
     ]
    }
   ],
   "source": [
    "par0 = process_paragraph(orig_section_paragraphs[26])\n",
    "print(par0)"
   ]
  },
  {
   "cell_type": "code",
   "execution_count": 190,
   "id": "f528e483-c722-4325-9508-394b18c0ac22",
   "metadata": {
    "execution": {
     "iopub.execute_input": "2024-03-23T05:13:56.576548Z",
     "iopub.status.busy": "2024-03-23T05:13:56.576144Z",
     "iopub.status.idle": "2024-03-23T05:13:56.579074Z",
     "shell.execute_reply": "2024-03-23T05:13:56.578624Z"
    },
    "papermill": {
     "duration": 0.04263,
     "end_time": "2024-03-23T05:13:56.579838",
     "exception": false,
     "start_time": "2024-03-23T05:13:56.537208",
     "status": "completed"
    },
    "tags": []
   },
   "outputs": [
    {
     "name": "stdout",
     "output_type": "stream",
     "text": [
      "However, the AMSD method has some limitations compared to QTL mapping. Common QTL mapping techniques, such as R/qtl2 (Broman et al., 2019), utilize linear models to assess relationships between genotypes and traits. This allows for the consideration of various factors, including additive and interactive covariates, as well as kinship matrices, in QTL analyses. While we have implemented strategies to address relatedness among samples in the AMSD method (see *Materials and Methods*), these approaches are not as versatile as those found in QTL mapping software. Moreover, the AMSD method assumes that mutator alleles impact a specific subset of mutation types. If a mutator allele were to uniformly increase mutation rates across all types on the haplotypes it is present in, AMSD would not be able to identify this effect.\n"
     ]
    }
   ],
   "source": [
    "par1 = process_paragraph(mod_section_paragraphs[26])\n",
    "print(par1)"
   ]
  },
  {
   "cell_type": "code",
   "execution_count": 191,
   "id": "533de1cf-f6cb-48f6-9152-d6c4503b4be0",
   "metadata": {
    "execution": {
     "iopub.execute_input": "2024-03-23T05:13:56.657635Z",
     "iopub.status.busy": "2024-03-23T05:13:56.657246Z",
     "iopub.status.idle": "2024-03-23T05:13:56.660082Z",
     "shell.execute_reply": "2024-03-23T05:13:56.659630Z"
    },
    "papermill": {
     "duration": 0.042809,
     "end_time": "2024-03-23T05:13:56.660849",
     "exception": false,
     "start_time": "2024-03-23T05:13:56.618040",
     "status": "completed"
    },
    "tags": []
   },
   "outputs": [],
   "source": [
    "paragraph_matches.append(\n",
    "    (\n",
    "        section_name,\n",
    "        par0,\n",
    "        par1,\n",
    "    )\n",
    ")"
   ]
  },
  {
   "cell_type": "code",
   "execution_count": 192,
   "id": "5ca4f1c1-ff77-4987-8643-19e30386bd53",
   "metadata": {
    "execution": {
     "iopub.execute_input": "2024-03-23T05:13:56.738489Z",
     "iopub.status.busy": "2024-03-23T05:13:56.738162Z",
     "iopub.status.idle": "2024-03-23T05:13:56.741537Z",
     "shell.execute_reply": "2024-03-23T05:13:56.741111Z"
    },
    "papermill": {
     "duration": 0.042987,
     "end_time": "2024-03-23T05:13:56.742252",
     "exception": false,
     "start_time": "2024-03-23T05:13:56.699265",
     "status": "completed"
    },
    "tags": []
   },
   "outputs": [
    {
     "data": {
      "text/plain": [
       "('discussion',\n",
       " 'However, the AMSD method suffers a handful of drawbacks when compared to QTL mapping. Popular QTL mapping methods (such as R/qtl2 [@PMID:30591514]) use linear models to test associations between genotypes and phenotypes, enabling the inclusion of additive and interactive covariates, as well as kinship matrices, in QTL scans. Although we have developed methods to account for inter-sample relatedness in the AMSD approach (*Materials and Methods*), they are not as flexible as similar methods in QTL mapping software. Additionally, the AMSD method assumes that mutator alleles affect a subset of $k$-mer mutation types; if a mutator allele increased the rates of all mutation types equally on haplotypes that carried it, AMSD would be unable to detect it.',\n",
       " 'However, the AMSD method has some limitations compared to QTL mapping. Common QTL mapping techniques, such as R/qtl2 (Broman et al., 2019), utilize linear models to assess relationships between genotypes and traits. This allows for the consideration of various factors, including additive and interactive covariates, as well as kinship matrices, in QTL analyses. While we have implemented strategies to address relatedness among samples in the AMSD method (see *Materials and Methods*), these approaches are not as versatile as those found in QTL mapping software. Moreover, the AMSD method assumes that mutator alleles impact a specific subset of mutation types. If a mutator allele were to uniformly increase mutation rates across all types on the haplotypes it is present in, AMSD would not be able to identify this effect.')"
      ]
     },
     "metadata": {},
     "output_type": "display_data"
    }
   ],
   "source": [
    "display(paragraph_matches[-1])"
   ]
  },
  {
   "cell_type": "markdown",
   "id": "429ce7ed-02dc-4a3d-8ff1-8be339278b47",
   "metadata": {
    "editable": true,
    "papermill": {
     "duration": 0.038064,
     "end_time": "2024-03-23T05:13:56.818709",
     "exception": false,
     "start_time": "2024-03-23T05:13:56.780645",
     "status": "completed"
    },
    "slideshow": {
     "slide_type": ""
    },
    "tags": []
   },
   "source": [
    "####  Paragraph 14"
   ]
  },
  {
   "cell_type": "code",
   "execution_count": 193,
   "id": "fa1df3b6-2720-476a-a255-6279d721de56",
   "metadata": {
    "execution": {
     "iopub.execute_input": "2024-03-23T05:13:56.896214Z",
     "iopub.status.busy": "2024-03-23T05:13:56.896026Z",
     "iopub.status.idle": "2024-03-23T05:13:56.899048Z",
     "shell.execute_reply": "2024-03-23T05:13:56.898563Z"
    },
    "papermill": {
     "duration": 0.042455,
     "end_time": "2024-03-23T05:13:56.899729",
     "exception": false,
     "start_time": "2024-03-23T05:13:56.857274",
     "status": "completed"
    },
    "tags": []
   },
   "outputs": [
    {
     "name": "stdout",
     "output_type": "stream",
     "text": [
      "Our discovery of a second BXD mutator allele underscores the power of recombinant inbred lines (RILs) as a resource for dissecting the genetic architecture of germline mutation rates. Large populations of RILs exist for many model organisms, and we anticipate that as whole-genome sequencing becomes cheaper and cheaper, the AMSD method could be useful for future mutator allele discovery outside of the BXDs. At the same time, RILs are a finite resource that require enormous investments of time and labor to construct. If germline mutator alleles are only detectable in these highly unusual experimental populations, we are unlikely to discover more than a small fraction of the mutator alleles that may exist in nature.\n"
     ]
    }
   ],
   "source": [
    "par0 = process_paragraph(orig_section_paragraphs[28])\n",
    "print(par0)"
   ]
  },
  {
   "cell_type": "code",
   "execution_count": 194,
   "id": "3dfa4000-f709-478d-93d9-477cbeb2c5a1",
   "metadata": {
    "execution": {
     "iopub.execute_input": "2024-03-23T05:13:57.004730Z",
     "iopub.status.busy": "2024-03-23T05:13:57.004297Z",
     "iopub.status.idle": "2024-03-23T05:13:57.007278Z",
     "shell.execute_reply": "2024-03-23T05:13:57.006811Z"
    },
    "papermill": {
     "duration": 0.042335,
     "end_time": "2024-03-23T05:13:57.007988",
     "exception": false,
     "start_time": "2024-03-23T05:13:56.965653",
     "status": "completed"
    },
    "tags": []
   },
   "outputs": [
    {
     "name": "stdout",
     "output_type": "stream",
     "text": [
      "The identification of a second BXD mutator allele highlights the importance of using recombinant inbred lines (RILs) to study the genetic basis of germline mutation rates. RIL populations are available for many model organisms, and with the decreasing cost of whole-genome sequencing, the AMSD method could be applied to identify mutator alleles in other genetic backgrounds. However, constructing RIL populations is a time-consuming process that requires significant effort. If germline mutator alleles can only be identified in these specialized populations, we may only uncover a small portion of the mutator alleles present in natural populations.\n"
     ]
    }
   ],
   "source": [
    "par1 = process_paragraph(mod_section_paragraphs[28])\n",
    "print(par1)"
   ]
  },
  {
   "cell_type": "code",
   "execution_count": 195,
   "id": "421c1231-d7ff-418f-8034-d14b3a83264f",
   "metadata": {
    "execution": {
     "iopub.execute_input": "2024-03-23T05:13:57.089433Z",
     "iopub.status.busy": "2024-03-23T05:13:57.088994Z",
     "iopub.status.idle": "2024-03-23T05:13:57.091897Z",
     "shell.execute_reply": "2024-03-23T05:13:57.091435Z"
    },
    "papermill": {
     "duration": 0.046126,
     "end_time": "2024-03-23T05:13:57.092650",
     "exception": false,
     "start_time": "2024-03-23T05:13:57.046524",
     "status": "completed"
    },
    "tags": []
   },
   "outputs": [],
   "source": [
    "paragraph_matches.append(\n",
    "    (\n",
    "        section_name,\n",
    "        par0,\n",
    "        par1,\n",
    "    )\n",
    ")"
   ]
  },
  {
   "cell_type": "code",
   "execution_count": 196,
   "id": "1e01feb1-0ad6-42a7-b295-25a46a17c714",
   "metadata": {
    "execution": {
     "iopub.execute_input": "2024-03-23T05:13:57.170480Z",
     "iopub.status.busy": "2024-03-23T05:13:57.170170Z",
     "iopub.status.idle": "2024-03-23T05:13:57.173577Z",
     "shell.execute_reply": "2024-03-23T05:13:57.173156Z"
    },
    "papermill": {
     "duration": 0.042462,
     "end_time": "2024-03-23T05:13:57.174316",
     "exception": false,
     "start_time": "2024-03-23T05:13:57.131854",
     "status": "completed"
    },
    "tags": []
   },
   "outputs": [
    {
     "data": {
      "text/plain": [
       "('discussion',\n",
       " 'Our discovery of a second BXD mutator allele underscores the power of recombinant inbred lines (RILs) as a resource for dissecting the genetic architecture of germline mutation rates. Large populations of RILs exist for many model organisms, and we anticipate that as whole-genome sequencing becomes cheaper and cheaper, the AMSD method could be useful for future mutator allele discovery outside of the BXDs. At the same time, RILs are a finite resource that require enormous investments of time and labor to construct. If germline mutator alleles are only detectable in these highly unusual experimental populations, we are unlikely to discover more than a small fraction of the mutator alleles that may exist in nature.',\n",
       " 'The identification of a second BXD mutator allele highlights the importance of using recombinant inbred lines (RILs) to study the genetic basis of germline mutation rates. RIL populations are available for many model organisms, and with the decreasing cost of whole-genome sequencing, the AMSD method could be applied to identify mutator alleles in other genetic backgrounds. However, constructing RIL populations is a time-consuming process that requires significant effort. If germline mutator alleles can only be identified in these specialized populations, we may only uncover a small portion of the mutator alleles present in natural populations.')"
      ]
     },
     "metadata": {},
     "output_type": "display_data"
    }
   ],
   "source": [
    "display(paragraph_matches[-1])"
   ]
  },
  {
   "cell_type": "markdown",
   "id": "8a8c105d-ae9f-4976-81f8-a8f4ddeaf5c1",
   "metadata": {
    "editable": true,
    "papermill": {
     "duration": 0.037528,
     "end_time": "2024-03-23T05:13:57.250119",
     "exception": false,
     "start_time": "2024-03-23T05:13:57.212591",
     "status": "completed"
    },
    "slideshow": {
     "slide_type": ""
    },
    "tags": []
   },
   "source": [
    "####  Paragraph 15"
   ]
  },
  {
   "cell_type": "code",
   "execution_count": 197,
   "id": "57407b25-4d48-49e8-8a8e-fae2f4e857ae",
   "metadata": {
    "execution": {
     "iopub.execute_input": "2024-03-23T05:13:57.326543Z",
     "iopub.status.busy": "2024-03-23T05:13:57.326215Z",
     "iopub.status.idle": "2024-03-23T05:13:57.329147Z",
     "shell.execute_reply": "2024-03-23T05:13:57.328692Z"
    },
    "papermill": {
     "duration": 0.041818,
     "end_time": "2024-03-23T05:13:57.329870",
     "exception": false,
     "start_time": "2024-03-23T05:13:57.288052",
     "status": "completed"
    },
    "tags": []
   },
   "outputs": [
    {
     "name": "stdout",
     "output_type": "stream",
     "text": [
      "Fortunately, the approach introduced in this paper is readily adaptable to datasets beyond RILs. Thousands of human pedigrees have been sequenced in an effort to precisely estimate the rate of human *de novo* germline mutation [@PMID:31549960;@PMID:28959963;@PMID:29700473], and as family sequencing has become a more common step in the diagnosis of many congenital disorders, these datasets are growing on a daily basis. Large cohorts of two- or three-generation families are an example of a regime in which AMSD could enjoy high power; by pooling sparse mutation counts across many individuals who share the same candidate mutator allele, even a subtle mutator signal could potentially rise above the noise of *de novo* germline mutation rate estimates. We note, however, that the aggregate mutation spectrum distance approach will require modification before it can be successfully applied to cohorts of outbred, sexually-reproducing individuals. AMSD assumes that individuals harbor one of two possible genotypes at each marker, and does not yet account for heterozygous genotypes. As a result, our method is currently applicable only to resources like the BXD RILs, in which individuals have been inbred for sufficiently long that effectively all genotypes are homozygous.\n"
     ]
    }
   ],
   "source": [
    "par0 = process_paragraph(orig_section_paragraphs[29])\n",
    "print(par0)"
   ]
  },
  {
   "cell_type": "code",
   "execution_count": 198,
   "id": "8b11646b-5397-449c-be01-8c3b9400ecbb",
   "metadata": {
    "execution": {
     "iopub.execute_input": "2024-03-23T05:13:57.406614Z",
     "iopub.status.busy": "2024-03-23T05:13:57.406254Z",
     "iopub.status.idle": "2024-03-23T05:13:57.409238Z",
     "shell.execute_reply": "2024-03-23T05:13:57.408783Z"
    },
    "papermill": {
     "duration": 0.041921,
     "end_time": "2024-03-23T05:13:57.409938",
     "exception": false,
     "start_time": "2024-03-23T05:13:57.368017",
     "status": "completed"
    },
    "tags": []
   },
   "outputs": [
    {
     "name": "stdout",
     "output_type": "stream",
     "text": [
      "Fortunately, the method introduced in this paper can be easily applied to datasets beyond RILs. Numerous human pedigrees have been sequenced to accurately determine the rate of human *de novo* germline mutation (Campbell et al., 2019; Rahbari et al., 2016; Jónsson et al., 2017). With the increasing use of family sequencing for diagnosing congenital disorders, these datasets are expanding daily. Large cohorts of two- or three-generation families provide a scenario where AMSD could be highly effective. By combining mutation counts from many individuals sharing the same mutator allele, even a subtle mutator signal could potentially be detected amidst the noise of *de novo* germline mutation rate estimates. It is important to note, however, that modifications will be needed to apply the aggregate mutation spectrum distance approach to outbred, sexually-reproducing cohorts. AMSD currently assumes individuals have one of two possible genotypes at each marker, without accounting for heterozygous genotypes. Therefore, the method is currently only suitable for populations like the BXD RILs, where individuals have been inbred long enough for all genotypes to be effectively homozygous.\n"
     ]
    }
   ],
   "source": [
    "par1 = process_paragraph(mod_section_paragraphs[29])\n",
    "print(par1)"
   ]
  },
  {
   "cell_type": "code",
   "execution_count": 199,
   "id": "9abcfd37-32bd-40b6-b2a5-da9a7cd6ddc9",
   "metadata": {
    "execution": {
     "iopub.execute_input": "2024-03-23T05:13:57.486525Z",
     "iopub.status.busy": "2024-03-23T05:13:57.486185Z",
     "iopub.status.idle": "2024-03-23T05:13:57.489003Z",
     "shell.execute_reply": "2024-03-23T05:13:57.488440Z"
    },
    "papermill": {
     "duration": 0.041879,
     "end_time": "2024-03-23T05:13:57.489859",
     "exception": false,
     "start_time": "2024-03-23T05:13:57.447980",
     "status": "completed"
    },
    "tags": []
   },
   "outputs": [],
   "source": [
    "paragraph_matches.append(\n",
    "    (\n",
    "        section_name,\n",
    "        par0,\n",
    "        par1,\n",
    "    )\n",
    ")"
   ]
  },
  {
   "cell_type": "code",
   "execution_count": 200,
   "id": "022add59-b21f-4bd7-82b9-1ed9aaf35a02",
   "metadata": {
    "execution": {
     "iopub.execute_input": "2024-03-23T05:13:57.566748Z",
     "iopub.status.busy": "2024-03-23T05:13:57.566413Z",
     "iopub.status.idle": "2024-03-23T05:13:57.570242Z",
     "shell.execute_reply": "2024-03-23T05:13:57.569680Z"
    },
    "papermill": {
     "duration": 0.043194,
     "end_time": "2024-03-23T05:13:57.571029",
     "exception": false,
     "start_time": "2024-03-23T05:13:57.527835",
     "status": "completed"
    },
    "tags": []
   },
   "outputs": [
    {
     "data": {
      "text/plain": [
       "('discussion',\n",
       " 'Fortunately, the approach introduced in this paper is readily adaptable to datasets beyond RILs. Thousands of human pedigrees have been sequenced in an effort to precisely estimate the rate of human *de novo* germline mutation [@PMID:31549960;@PMID:28959963;@PMID:29700473], and as family sequencing has become a more common step in the diagnosis of many congenital disorders, these datasets are growing on a daily basis. Large cohorts of two- or three-generation families are an example of a regime in which AMSD could enjoy high power; by pooling sparse mutation counts across many individuals who share the same candidate mutator allele, even a subtle mutator signal could potentially rise above the noise of *de novo* germline mutation rate estimates. We note, however, that the aggregate mutation spectrum distance approach will require modification before it can be successfully applied to cohorts of outbred, sexually-reproducing individuals. AMSD assumes that individuals harbor one of two possible genotypes at each marker, and does not yet account for heterozygous genotypes. As a result, our method is currently applicable only to resources like the BXD RILs, in which individuals have been inbred for sufficiently long that effectively all genotypes are homozygous.',\n",
       " 'Fortunately, the method introduced in this paper can be easily applied to datasets beyond RILs. Numerous human pedigrees have been sequenced to accurately determine the rate of human *de novo* germline mutation (Campbell et al., 2019; Rahbari et al., 2016; Jónsson et al., 2017). With the increasing use of family sequencing for diagnosing congenital disorders, these datasets are expanding daily. Large cohorts of two- or three-generation families provide a scenario where AMSD could be highly effective. By combining mutation counts from many individuals sharing the same mutator allele, even a subtle mutator signal could potentially be detected amidst the noise of *de novo* germline mutation rate estimates. It is important to note, however, that modifications will be needed to apply the aggregate mutation spectrum distance approach to outbred, sexually-reproducing cohorts. AMSD currently assumes individuals have one of two possible genotypes at each marker, without accounting for heterozygous genotypes. Therefore, the method is currently only suitable for populations like the BXD RILs, where individuals have been inbred long enough for all genotypes to be effectively homozygous.')"
      ]
     },
     "metadata": {},
     "output_type": "display_data"
    }
   ],
   "source": [
    "display(paragraph_matches[-1])"
   ]
  },
  {
   "cell_type": "markdown",
   "id": "a81a469a-d336-4bf9-831d-32ca7fef674c",
   "metadata": {
    "editable": true,
    "papermill": {
     "duration": 0.037886,
     "end_time": "2024-03-23T05:13:57.647077",
     "exception": false,
     "start_time": "2024-03-23T05:13:57.609191",
     "status": "completed"
    },
    "slideshow": {
     "slide_type": ""
    },
    "tags": []
   },
   "source": [
    "####  Paragraph 16"
   ]
  },
  {
   "cell_type": "code",
   "execution_count": 201,
   "id": "b0d69bdc-b12f-4dad-b3df-4368c38d471b",
   "metadata": {
    "execution": {
     "iopub.execute_input": "2024-03-23T05:13:57.724168Z",
     "iopub.status.busy": "2024-03-23T05:13:57.723640Z",
     "iopub.status.idle": "2024-03-23T05:13:57.726987Z",
     "shell.execute_reply": "2024-03-23T05:13:57.726414Z"
    },
    "papermill": {
     "duration": 0.04251,
     "end_time": "2024-03-23T05:13:57.727766",
     "exception": false,
     "start_time": "2024-03-23T05:13:57.685256",
     "status": "completed"
    },
    "tags": []
   },
   "outputs": [
    {
     "name": "stdout",
     "output_type": "stream",
     "text": [
      "Selection on germline mutator alleles will likely prevent large-effect mutators from reaching high allele frequencies, but a subset may be detectable by sequencing a sufficient number of human trios [@PMID:35666194]. Since germline mutators often seem to exert their effects on a small number of mutation types, mutation spectrum analyses may have greater power to detect the genes that underlie heritable mutation rate variation, even if each gene has only a modest effect on the overall mutation rate per generation.\n"
     ]
    }
   ],
   "source": [
    "par0 = process_paragraph(orig_section_paragraphs[30])\n",
    "print(par0)"
   ]
  },
  {
   "cell_type": "code",
   "execution_count": 202,
   "id": "ec86c495-aa35-45d2-bfa1-0436b32ba11e",
   "metadata": {
    "execution": {
     "iopub.execute_input": "2024-03-23T05:13:57.804805Z",
     "iopub.status.busy": "2024-03-23T05:13:57.804600Z",
     "iopub.status.idle": "2024-03-23T05:13:57.807821Z",
     "shell.execute_reply": "2024-03-23T05:13:57.807251Z"
    },
    "papermill": {
     "duration": 0.042496,
     "end_time": "2024-03-23T05:13:57.808564",
     "exception": false,
     "start_time": "2024-03-23T05:13:57.766068",
     "status": "completed"
    },
    "tags": []
   },
   "outputs": [
    {
     "name": "stdout",
     "output_type": "stream",
     "text": [
      "Selection pressure on mutator alleles in the germline is expected to limit the prevalence of high-impact mutators, although some may still be identifiable through sequencing a significant number of human trios (Smith et al., 2021). Given that germline mutators typically influence a specific set of mutation types, analyzing mutation spectra may enhance the ability to identify the specific genes responsible for variations in heritable mutation rates, even if each gene has a relatively minor impact on the overall mutation rate per generation (Jones et al., 2019).\n"
     ]
    }
   ],
   "source": [
    "par1 = process_paragraph(mod_section_paragraphs[30])\n",
    "print(par1)"
   ]
  },
  {
   "cell_type": "code",
   "execution_count": 203,
   "id": "cf0672b7-64da-43e2-82f5-11351ba442b4",
   "metadata": {
    "execution": {
     "iopub.execute_input": "2024-03-23T05:13:57.914088Z",
     "iopub.status.busy": "2024-03-23T05:13:57.913884Z",
     "iopub.status.idle": "2024-03-23T05:13:57.916718Z",
     "shell.execute_reply": "2024-03-23T05:13:57.916156Z"
    },
    "papermill": {
     "duration": 0.07062,
     "end_time": "2024-03-23T05:13:57.917430",
     "exception": false,
     "start_time": "2024-03-23T05:13:57.846810",
     "status": "completed"
    },
    "tags": []
   },
   "outputs": [],
   "source": [
    "paragraph_matches.append(\n",
    "    (\n",
    "        section_name,\n",
    "        par0,\n",
    "        par1,\n",
    "    )\n",
    ")"
   ]
  },
  {
   "cell_type": "code",
   "execution_count": 204,
   "id": "e2df2d98-2ca8-42ea-b14a-90e2f39f6d75",
   "metadata": {
    "execution": {
     "iopub.execute_input": "2024-03-23T05:13:57.994976Z",
     "iopub.status.busy": "2024-03-23T05:13:57.994664Z",
     "iopub.status.idle": "2024-03-23T05:13:57.998406Z",
     "shell.execute_reply": "2024-03-23T05:13:57.997861Z"
    },
    "papermill": {
     "duration": 0.043111,
     "end_time": "2024-03-23T05:13:57.999194",
     "exception": false,
     "start_time": "2024-03-23T05:13:57.956083",
     "status": "completed"
    },
    "tags": []
   },
   "outputs": [
    {
     "data": {
      "text/plain": [
       "('discussion',\n",
       " 'Selection on germline mutator alleles will likely prevent large-effect mutators from reaching high allele frequencies, but a subset may be detectable by sequencing a sufficient number of human trios [@PMID:35666194]. Since germline mutators often seem to exert their effects on a small number of mutation types, mutation spectrum analyses may have greater power to detect the genes that underlie heritable mutation rate variation, even if each gene has only a modest effect on the overall mutation rate per generation.',\n",
       " 'Selection pressure on mutator alleles in the germline is expected to limit the prevalence of high-impact mutators, although some may still be identifiable through sequencing a significant number of human trios (Smith et al., 2021). Given that germline mutators typically influence a specific set of mutation types, analyzing mutation spectra may enhance the ability to identify the specific genes responsible for variations in heritable mutation rates, even if each gene has a relatively minor impact on the overall mutation rate per generation (Jones et al., 2019).')"
      ]
     },
     "metadata": {},
     "output_type": "display_data"
    }
   ],
   "source": [
    "display(paragraph_matches[-1])"
   ]
  },
  {
   "cell_type": "markdown",
   "id": "59e442fb-dfda-434d-b1d4-265fbe96ccfc",
   "metadata": {
    "editable": true,
    "papermill": {
     "duration": 0.03826,
     "end_time": "2024-03-23T05:13:58.075904",
     "exception": false,
     "start_time": "2024-03-23T05:13:58.037644",
     "status": "completed"
    },
    "slideshow": {
     "slide_type": ""
    },
    "tags": []
   },
   "source": [
    "## Methods"
   ]
  },
  {
   "cell_type": "code",
   "execution_count": 205,
   "id": "42676dcc-e716-44d9-a957-db23dd90e123",
   "metadata": {
    "execution": {
     "iopub.execute_input": "2024-03-23T05:13:58.153373Z",
     "iopub.status.busy": "2024-03-23T05:13:58.153160Z",
     "iopub.status.idle": "2024-03-23T05:13:58.156022Z",
     "shell.execute_reply": "2024-03-23T05:13:58.155455Z"
    },
    "papermill": {
     "duration": 0.042506,
     "end_time": "2024-03-23T05:13:58.156804",
     "exception": false,
     "start_time": "2024-03-23T05:13:58.114298",
     "status": "completed"
    },
    "tags": []
   },
   "outputs": [],
   "source": [
    "section_name = \"methods\""
   ]
  },
  {
   "cell_type": "code",
   "execution_count": 206,
   "id": "8f280817-fdf2-447f-b74f-a496c7034555",
   "metadata": {
    "editable": true,
    "execution": {
     "iopub.execute_input": "2024-03-23T05:13:58.234383Z",
     "iopub.status.busy": "2024-03-23T05:13:58.233929Z",
     "iopub.status.idle": "2024-03-23T05:13:58.237230Z",
     "shell.execute_reply": "2024-03-23T05:13:58.236674Z"
    },
    "papermill": {
     "duration": 0.042618,
     "end_time": "2024-03-23T05:13:58.237939",
     "exception": false,
     "start_time": "2024-03-23T05:13:58.195321",
     "status": "completed"
    },
    "slideshow": {
     "slide_type": ""
    },
    "tags": []
   },
   "outputs": [
    {
     "name": "stdout",
     "output_type": "stream",
     "text": [
      "content/05.methods.md\n"
     ]
    }
   ],
   "source": [
    "pr_filename = pr_files[4].filename\n",
    "assert section_name in pr_filename\n",
    "print(pr_filename)"
   ]
  },
  {
   "cell_type": "markdown",
   "id": "c4466db8-9485-49cc-a08f-dfdf243e1f06",
   "metadata": {
    "editable": true,
    "papermill": {
     "duration": 0.038139,
     "end_time": "2024-03-23T05:13:58.314355",
     "exception": false,
     "start_time": "2024-03-23T05:13:58.276216",
     "status": "completed"
    },
    "slideshow": {
     "slide_type": ""
    },
    "tags": []
   },
   "source": [
    "### Original"
   ]
  },
  {
   "cell_type": "code",
   "execution_count": 207,
   "id": "d28b84ac-727b-4412-8504-2cb1d9764a91",
   "metadata": {
    "execution": {
     "iopub.execute_input": "2024-03-23T05:13:58.391460Z",
     "iopub.status.busy": "2024-03-23T05:13:58.391147Z",
     "iopub.status.idle": "2024-03-23T05:13:58.541173Z",
     "shell.execute_reply": "2024-03-23T05:13:58.540708Z"
    },
    "papermill": {
     "duration": 0.189377,
     "end_time": "2024-03-23T05:13:58.541931",
     "exception": false,
     "start_time": "2024-03-23T05:13:58.352554",
     "status": "completed"
    },
    "tags": []
   },
   "outputs": [
    {
     "name": "stdout",
     "output_type": "stream",
     "text": [
      "## Materials and Methods\n",
      "\n",
      "### Identifying *de novo\n"
     ]
    }
   ],
   "source": [
    "# get content\n",
    "orig_section_content = repo.get_contents(pr_filename, pr_prev).decoded_content.decode(\n",
    "    \"utf-8\"\n",
    ")\n",
    "print(orig_section_content[:50])"
   ]
  },
  {
   "cell_type": "code",
   "execution_count": 208,
   "id": "18fe5c96-6270-45fe-8f3a-2da927318d82",
   "metadata": {
    "execution": {
     "iopub.execute_input": "2024-03-23T05:13:58.620021Z",
     "iopub.status.busy": "2024-03-23T05:13:58.619683Z",
     "iopub.status.idle": "2024-03-23T05:13:58.623271Z",
     "shell.execute_reply": "2024-03-23T05:13:58.622860Z"
    },
    "papermill": {
     "duration": 0.043437,
     "end_time": "2024-03-23T05:13:58.623994",
     "exception": false,
     "start_time": "2024-03-23T05:13:58.580557",
     "status": "completed"
    },
    "tags": []
   },
   "outputs": [
    {
     "data": {
      "text/plain": [
       "92"
      ]
     },
     "metadata": {},
     "output_type": "display_data"
    }
   ],
   "source": [
    "# split by paragraph\n",
    "orig_section_paragraphs = orig_section_content.split(\"\\n\\n\")\n",
    "display(len(orig_section_paragraphs))"
   ]
  },
  {
   "cell_type": "markdown",
   "id": "6066a4d2-2696-4e7d-9da4-d1818871259d",
   "metadata": {
    "editable": true,
    "papermill": {
     "duration": 0.038414,
     "end_time": "2024-03-23T05:13:58.700916",
     "exception": false,
     "start_time": "2024-03-23T05:13:58.662502",
     "status": "completed"
    },
    "slideshow": {
     "slide_type": ""
    },
    "tags": []
   },
   "source": [
    "### Modified"
   ]
  },
  {
   "cell_type": "code",
   "execution_count": 209,
   "id": "4e8d95f9-376b-450b-99d5-67891963f997",
   "metadata": {
    "execution": {
     "iopub.execute_input": "2024-03-23T05:13:58.778616Z",
     "iopub.status.busy": "2024-03-23T05:13:58.778289Z",
     "iopub.status.idle": "2024-03-23T05:13:58.954535Z",
     "shell.execute_reply": "2024-03-23T05:13:58.954074Z"
    },
    "papermill": {
     "duration": 0.216068,
     "end_time": "2024-03-23T05:13:58.955476",
     "exception": false,
     "start_time": "2024-03-23T05:13:58.739408",
     "status": "completed"
    },
    "tags": []
   },
   "outputs": [
    {
     "name": "stdout",
     "output_type": "stream",
     "text": [
      "## Materials and Methods\n",
      "\n",
      "### Identifying *de novo\n"
     ]
    }
   ],
   "source": [
    "# get content\n",
    "mod_section_content = repo.get_contents(pr_filename, pr_curr).decoded_content.decode(\n",
    "    \"utf-8\"\n",
    ")\n",
    "print(mod_section_content[:50])"
   ]
  },
  {
   "cell_type": "code",
   "execution_count": 210,
   "id": "6c0d91e9-b334-4b74-9ea5-7080c5e7fa6d",
   "metadata": {
    "execution": {
     "iopub.execute_input": "2024-03-23T05:13:59.059276Z",
     "iopub.status.busy": "2024-03-23T05:13:59.058948Z",
     "iopub.status.idle": "2024-03-23T05:13:59.062410Z",
     "shell.execute_reply": "2024-03-23T05:13:59.061986Z"
    },
    "papermill": {
     "duration": 0.050208,
     "end_time": "2024-03-23T05:13:59.063090",
     "exception": false,
     "start_time": "2024-03-23T05:13:59.012882",
     "status": "completed"
    },
    "tags": []
   },
   "outputs": [
    {
     "data": {
      "text/plain": [
       "134"
      ]
     },
     "metadata": {},
     "output_type": "display_data"
    }
   ],
   "source": [
    "# split by paragraph\n",
    "mod_section_paragraphs = mod_section_content.split(\"\\n\\n\")\n",
    "display(len(mod_section_paragraphs))"
   ]
  },
  {
   "cell_type": "markdown",
   "id": "f1da0d8d-adc4-4403-be49-4385ea781ac8",
   "metadata": {
    "editable": true,
    "papermill": {
     "duration": 0.038145,
     "end_time": "2024-03-23T05:13:59.140923",
     "exception": false,
     "start_time": "2024-03-23T05:13:59.102778",
     "status": "completed"
    },
    "slideshow": {
     "slide_type": ""
    },
    "tags": []
   },
   "source": [
    "### Match"
   ]
  },
  {
   "cell_type": "code",
   "execution_count": 211,
   "id": "53720cd3-8e0a-4d31-8883-c206026f9e5f",
   "metadata": {
    "execution": {
     "iopub.execute_input": "2024-03-23T05:13:59.218325Z",
     "iopub.status.busy": "2024-03-23T05:13:59.218136Z",
     "iopub.status.idle": "2024-03-23T05:13:59.221428Z",
     "shell.execute_reply": "2024-03-23T05:13:59.221002Z"
    },
    "papermill": {
     "duration": 0.042983,
     "end_time": "2024-03-23T05:13:59.222183",
     "exception": false,
     "start_time": "2024-03-23T05:13:59.179200",
     "status": "completed"
    },
    "tags": []
   },
   "outputs": [
    {
     "data": {
      "text/plain": [
       "'## Materials and Methods'"
      ]
     },
     "execution_count": 211,
     "metadata": {},
     "output_type": "execute_result"
    }
   ],
   "source": [
    "orig_section_paragraphs[0]"
   ]
  },
  {
   "cell_type": "code",
   "execution_count": 212,
   "id": "2638f377-a44a-4d05-8fca-bfa9383ca736",
   "metadata": {
    "execution": {
     "iopub.execute_input": "2024-03-23T05:13:59.327925Z",
     "iopub.status.busy": "2024-03-23T05:13:59.327539Z",
     "iopub.status.idle": "2024-03-23T05:13:59.330899Z",
     "shell.execute_reply": "2024-03-23T05:13:59.330479Z"
    },
    "papermill": {
     "duration": 0.070711,
     "end_time": "2024-03-23T05:13:59.331641",
     "exception": false,
     "start_time": "2024-03-23T05:13:59.260930",
     "status": "completed"
    },
    "tags": []
   },
   "outputs": [
    {
     "data": {
      "text/plain": [
       "'## Materials and Methods'"
      ]
     },
     "execution_count": 212,
     "metadata": {},
     "output_type": "execute_result"
    }
   ],
   "source": [
    "mod_section_paragraphs[0]"
   ]
  },
  {
   "cell_type": "markdown",
   "id": "639829e1-1463-41b5-b91d-b2bdd319e04e",
   "metadata": {
    "editable": true,
    "papermill": {
     "duration": 0.038309,
     "end_time": "2024-03-23T05:13:59.408777",
     "exception": false,
     "start_time": "2024-03-23T05:13:59.370468",
     "status": "completed"
    },
    "slideshow": {
     "slide_type": ""
    },
    "tags": []
   },
   "source": [
    "####  Paragraph 00"
   ]
  },
  {
   "cell_type": "code",
   "execution_count": 213,
   "id": "bde47e33-80ca-4c52-a420-868e3721fdf3",
   "metadata": {
    "execution": {
     "iopub.execute_input": "2024-03-23T05:13:59.486667Z",
     "iopub.status.busy": "2024-03-23T05:13:59.486345Z",
     "iopub.status.idle": "2024-03-23T05:13:59.489202Z",
     "shell.execute_reply": "2024-03-23T05:13:59.488758Z"
    },
    "papermill": {
     "duration": 0.042187,
     "end_time": "2024-03-23T05:13:59.489943",
     "exception": false,
     "start_time": "2024-03-23T05:13:59.447756",
     "status": "completed"
    },
    "tags": []
   },
   "outputs": [
    {
     "name": "stdout",
     "output_type": "stream",
     "text": [
      "The BXD resource currently comprises a total of 152 recombinant inbred lines (RILs). BXDs were derived from either F2 or advanced intercrosses, and subsequently inbred by brother-sister mating for up to 180 generations [@PMID:33472028]. BXDs were generated in distinct breeding \"epochs,\" which were each initiated with a distinct cross of C57BL/6J and DBA/2J parents; epochs 1, 2, 4, and 6 were derived from F2 crosses, while epochs 3 and 5 were derived from advanced intercrosses [@PMID:33472028]. Previously, we analyzed whole-genome sequencing data from the BXDs and identified candidate *de novo* germline mutations in each line [@PMID:35545679]. A detailed description of the methods used for DNA extraction, sequencing, alignment, and variant processing, as well as the characteristics of the *de novo* mutations, are available in a previous manuscript [@PMID:35545679].\n"
     ]
    }
   ],
   "source": [
    "par0 = process_paragraph(orig_section_paragraphs[2])\n",
    "print(par0)"
   ]
  },
  {
   "cell_type": "code",
   "execution_count": 214,
   "id": "a613037a-a64e-43cf-abda-cf0a4a736502",
   "metadata": {
    "execution": {
     "iopub.execute_input": "2024-03-23T05:13:59.567564Z",
     "iopub.status.busy": "2024-03-23T05:13:59.567240Z",
     "iopub.status.idle": "2024-03-23T05:13:59.570346Z",
     "shell.execute_reply": "2024-03-23T05:13:59.569917Z"
    },
    "papermill": {
     "duration": 0.042631,
     "end_time": "2024-03-23T05:13:59.571075",
     "exception": false,
     "start_time": "2024-03-23T05:13:59.528444",
     "status": "completed"
    },
    "tags": []
   },
   "outputs": [
    {
     "name": "stdout",
     "output_type": "stream",
     "text": [
      "The BXD resource currently comprises a total of 152 Recombinant Inbred Lines (RILs). BXDs were derived from either F2 or advanced intercrosses, and subsequently inbred by brother-sister mating for up to 180 generations (Zhu et al., 2021). BXDs were generated in distinct breeding \"epochs,\" which were each initiated with a distinct cross of C57BL/6J and DBA/2J parents; epochs 1, 2, 4, and 6 were derived from F2 crosses, while epochs 3 and 5 were derived from advanced intercrosses (Zhu et al., 2021). Previously, we analyzed whole-genome sequencing data from the BXDs and identified candidate *de novo* germline mutations in each line (Zhu et al., 2023). \n",
      "$$ \n",
      "\\text{A detailed description of the methods used for DNA extraction, sequencing, alignment, and variant processing, as well as the characteristics of the *de novo* mutations, are available in a previous manuscript (Zhu et al., 2023).} \n",
      "$$\n"
     ]
    }
   ],
   "source": [
    "par1 = (\n",
    "    process_paragraph(mod_section_paragraphs[2:4])\n",
    "    .replace(\"$$\", \"\\n$$\")\n",
    "    .replace(\"\\\\text\", \"\\n\\\\text\")\n",
    ")\n",
    "print(par1)"
   ]
  },
  {
   "cell_type": "code",
   "execution_count": 215,
   "id": "fd5ca3b4-323c-4abf-8cb9-9a9773f4aed1",
   "metadata": {
    "execution": {
     "iopub.execute_input": "2024-03-23T05:13:59.650143Z",
     "iopub.status.busy": "2024-03-23T05:13:59.649603Z",
     "iopub.status.idle": "2024-03-23T05:13:59.652397Z",
     "shell.execute_reply": "2024-03-23T05:13:59.651959Z"
    },
    "papermill": {
     "duration": 0.042433,
     "end_time": "2024-03-23T05:13:59.653116",
     "exception": false,
     "start_time": "2024-03-23T05:13:59.610683",
     "status": "completed"
    },
    "tags": []
   },
   "outputs": [],
   "source": [
    "paragraph_matches.append(\n",
    "    (\n",
    "        section_name,\n",
    "        par0,\n",
    "        par1,\n",
    "    )\n",
    ")"
   ]
  },
  {
   "cell_type": "code",
   "execution_count": 216,
   "id": "1fb17a25-e891-4ae1-a04f-a58e8eb33558",
   "metadata": {
    "execution": {
     "iopub.execute_input": "2024-03-23T05:13:59.731015Z",
     "iopub.status.busy": "2024-03-23T05:13:59.730624Z",
     "iopub.status.idle": "2024-03-23T05:13:59.734126Z",
     "shell.execute_reply": "2024-03-23T05:13:59.733679Z"
    },
    "papermill": {
     "duration": 0.043139,
     "end_time": "2024-03-23T05:13:59.734877",
     "exception": false,
     "start_time": "2024-03-23T05:13:59.691738",
     "status": "completed"
    },
    "tags": []
   },
   "outputs": [
    {
     "data": {
      "text/plain": [
       "('methods',\n",
       " 'The BXD resource currently comprises a total of 152 recombinant inbred lines (RILs). BXDs were derived from either F2 or advanced intercrosses, and subsequently inbred by brother-sister mating for up to 180 generations [@PMID:33472028]. BXDs were generated in distinct breeding \"epochs,\" which were each initiated with a distinct cross of C57BL/6J and DBA/2J parents; epochs 1, 2, 4, and 6 were derived from F2 crosses, while epochs 3 and 5 were derived from advanced intercrosses [@PMID:33472028]. Previously, we analyzed whole-genome sequencing data from the BXDs and identified candidate *de novo* germline mutations in each line [@PMID:35545679]. A detailed description of the methods used for DNA extraction, sequencing, alignment, and variant processing, as well as the characteristics of the *de novo* mutations, are available in a previous manuscript [@PMID:35545679].',\n",
       " 'The BXD resource currently comprises a total of 152 Recombinant Inbred Lines (RILs). BXDs were derived from either F2 or advanced intercrosses, and subsequently inbred by brother-sister mating for up to 180 generations (Zhu et al., 2021). BXDs were generated in distinct breeding \"epochs,\" which were each initiated with a distinct cross of C57BL/6J and DBA/2J parents; epochs 1, 2, 4, and 6 were derived from F2 crosses, while epochs 3 and 5 were derived from advanced intercrosses (Zhu et al., 2021). Previously, we analyzed whole-genome sequencing data from the BXDs and identified candidate *de novo* germline mutations in each line (Zhu et al., 2023). \\n$$ \\n\\\\text{A detailed description of the methods used for DNA extraction, sequencing, alignment, and variant processing, as well as the characteristics of the *de novo* mutations, are available in a previous manuscript (Zhu et al., 2023).} \\n$$')"
      ]
     },
     "metadata": {},
     "output_type": "display_data"
    }
   ],
   "source": [
    "display(paragraph_matches[-1])"
   ]
  },
  {
   "cell_type": "markdown",
   "id": "e53a832e-2c58-4ce1-a200-858fdad1cc31",
   "metadata": {
    "editable": true,
    "papermill": {
     "duration": 0.038373,
     "end_time": "2024-03-23T05:13:59.812492",
     "exception": false,
     "start_time": "2024-03-23T05:13:59.774119",
     "status": "completed"
    },
    "slideshow": {
     "slide_type": ""
    },
    "tags": []
   },
   "source": [
    "####  Paragraph 01"
   ]
  },
  {
   "cell_type": "code",
   "execution_count": 217,
   "id": "de328467-032b-4a8d-82ca-8be273596712",
   "metadata": {
    "execution": {
     "iopub.execute_input": "2024-03-23T05:13:59.890439Z",
     "iopub.status.busy": "2024-03-23T05:13:59.890112Z",
     "iopub.status.idle": "2024-03-23T05:13:59.893101Z",
     "shell.execute_reply": "2024-03-23T05:13:59.892660Z"
    },
    "papermill": {
     "duration": 0.042691,
     "end_time": "2024-03-23T05:13:59.893938",
     "exception": false,
     "start_time": "2024-03-23T05:13:59.851247",
     "status": "completed"
    },
    "tags": []
   },
   "outputs": [
    {
     "name": "stdout",
     "output_type": "stream",
     "text": [
      "Briefly, we identified private single-nucleotide mutations in each BXD that were absent from all other BXDs, as well as from the C57BL/6J and DBA/2J parents. We required each private variant to be meet the following criteria:\n",
      "* genotyped as either homozygous or heterozygous for the alternate allele, with at least 90% of sequencing reads supporting the alternate allele\n",
      "* supported by at least 10 sequencing reads\n",
      "* Phred-scaled genotype quality of at least 20\n",
      "* must not overlap regions of the genome annotated as segmental duplications or simple repeats in GRCm38/mm10\n",
      "* must occur on a parental haplotype that was inherited by at least one other BXD at the same locus; these other BXDs must be homozygous for the reference allele at the variant site\n"
     ]
    }
   ],
   "source": [
    "par0 = process_paragraph(orig_section_paragraphs[3:9]).replace(\" * \", \"\\n* \")\n",
    "print(par0)"
   ]
  },
  {
   "cell_type": "code",
   "execution_count": 218,
   "id": "40976da6-5724-4c9d-b2ef-c59f1902830f",
   "metadata": {
    "execution": {
     "iopub.execute_input": "2024-03-23T05:13:59.972003Z",
     "iopub.status.busy": "2024-03-23T05:13:59.971665Z",
     "iopub.status.idle": "2024-03-23T05:13:59.975114Z",
     "shell.execute_reply": "2024-03-23T05:13:59.974674Z"
    },
    "papermill": {
     "duration": 0.043193,
     "end_time": "2024-03-23T05:13:59.975853",
     "exception": false,
     "start_time": "2024-03-23T05:13:59.932660",
     "status": "completed"
    },
    "tags": []
   },
   "outputs": [
    {
     "name": "stdout",
     "output_type": "stream",
     "text": [
      "Briefly, we identified private single-nucleotide mutations in each BXD that were absent from all other BXDs, as well as from the C57BL/6J and DBA/2J parents. Each private variant had to meet the following criteria: \n",
      "$$ \n",
      "\\begin{aligned} \n",
      "&\\text{Genotyped as either homozygous or heterozygous for the alternate allele, with at least 90\\% of sequencing reads supporting the alternate allele} \\\\ \n",
      "&\\text{Supported by at least 10 sequencing reads} \\\\ \n",
      "&\\text{Phred-scaled genotype quality of at least 20} \\\\ \n",
      "&\\text{Must not overlap regions of the genome annotated as segmental duplications or simple repeats in GRCm38/mm10} \\\\ \n",
      "&\\text{Must occur on a parental haplotype that was inherited by at least one other BXD at the same locus; these other BXDs must be homozygous for the reference allele at the variant site} \n",
      "\\end{aligned} \n",
      "$$\n",
      "This rigorous approach ensured the accuracy and reliability of the identified private mutations.\n"
     ]
    }
   ],
   "source": [
    "par1 = (\n",
    "    process_paragraph(mod_section_paragraphs[4:7])\n",
    "    .replace(\"$$\", \"\\n$$\")\n",
    "    .replace(\"\\\\begin{\", \"\\n\\\\begin{\")\n",
    "    .replace(\"&\\\\\", \"\\n&\\\\\")\n",
    "    .replace(\"\\\\end{\", \"\\n\\\\end{\")\n",
    "    .replace(\"$$ This\", \"$$\\nThis\")\n",
    ")\n",
    "print(par1)"
   ]
  },
  {
   "cell_type": "code",
   "execution_count": 219,
   "id": "21dd96c5-a977-4553-be0a-c2feea567a90",
   "metadata": {
    "execution": {
     "iopub.execute_input": "2024-03-23T05:14:00.054293Z",
     "iopub.status.busy": "2024-03-23T05:14:00.054110Z",
     "iopub.status.idle": "2024-03-23T05:14:00.056615Z",
     "shell.execute_reply": "2024-03-23T05:14:00.056186Z"
    },
    "papermill": {
     "duration": 0.042413,
     "end_time": "2024-03-23T05:14:00.057344",
     "exception": false,
     "start_time": "2024-03-23T05:14:00.014931",
     "status": "completed"
    },
    "tags": []
   },
   "outputs": [],
   "source": [
    "paragraph_matches.append(\n",
    "    (\n",
    "        section_name,\n",
    "        par0,\n",
    "        par1,\n",
    "    )\n",
    ")"
   ]
  },
  {
   "cell_type": "code",
   "execution_count": 220,
   "id": "6d67880d-92ac-452a-9416-204f5366eb6e",
   "metadata": {
    "execution": {
     "iopub.execute_input": "2024-03-23T05:14:00.136037Z",
     "iopub.status.busy": "2024-03-23T05:14:00.135622Z",
     "iopub.status.idle": "2024-03-23T05:14:00.139051Z",
     "shell.execute_reply": "2024-03-23T05:14:00.138619Z"
    },
    "papermill": {
     "duration": 0.043478,
     "end_time": "2024-03-23T05:14:00.139802",
     "exception": false,
     "start_time": "2024-03-23T05:14:00.096324",
     "status": "completed"
    },
    "tags": []
   },
   "outputs": [
    {
     "data": {
      "text/plain": [
       "('methods',\n",
       " 'Briefly, we identified private single-nucleotide mutations in each BXD that were absent from all other BXDs, as well as from the C57BL/6J and DBA/2J parents. We required each private variant to be meet the following criteria:\\n* genotyped as either homozygous or heterozygous for the alternate allele, with at least 90% of sequencing reads supporting the alternate allele\\n* supported by at least 10 sequencing reads\\n* Phred-scaled genotype quality of at least 20\\n* must not overlap regions of the genome annotated as segmental duplications or simple repeats in GRCm38/mm10\\n* must occur on a parental haplotype that was inherited by at least one other BXD at the same locus; these other BXDs must be homozygous for the reference allele at the variant site',\n",
       " 'Briefly, we identified private single-nucleotide mutations in each BXD that were absent from all other BXDs, as well as from the C57BL/6J and DBA/2J parents. Each private variant had to meet the following criteria: \\n$$ \\n\\\\begin{aligned} \\n&\\\\text{Genotyped as either homozygous or heterozygous for the alternate allele, with at least 90\\\\% of sequencing reads supporting the alternate allele} \\\\\\\\ \\n&\\\\text{Supported by at least 10 sequencing reads} \\\\\\\\ \\n&\\\\text{Phred-scaled genotype quality of at least 20} \\\\\\\\ \\n&\\\\text{Must not overlap regions of the genome annotated as segmental duplications or simple repeats in GRCm38/mm10} \\\\\\\\ \\n&\\\\text{Must occur on a parental haplotype that was inherited by at least one other BXD at the same locus; these other BXDs must be homozygous for the reference allele at the variant site} \\n\\\\end{aligned} \\n$$\\nThis rigorous approach ensured the accuracy and reliability of the identified private mutations.')"
      ]
     },
     "metadata": {},
     "output_type": "display_data"
    }
   ],
   "source": [
    "display(paragraph_matches[-1])"
   ]
  },
  {
   "cell_type": "markdown",
   "id": "ceb8066a-2e39-42eb-a7c6-242cee7992c6",
   "metadata": {
    "editable": true,
    "papermill": {
     "duration": 0.038387,
     "end_time": "2024-03-23T05:14:00.216863",
     "exception": false,
     "start_time": "2024-03-23T05:14:00.178476",
     "status": "completed"
    },
    "slideshow": {
     "slide_type": ""
    },
    "tags": []
   },
   "source": [
    "####  Paragraph 02"
   ]
  },
  {
   "cell_type": "code",
   "execution_count": 221,
   "id": "8ee14b5c-364e-46fa-aa52-f86d0731ec76",
   "metadata": {
    "execution": {
     "iopub.execute_input": "2024-03-23T05:14:00.322397Z",
     "iopub.status.busy": "2024-03-23T05:14:00.322064Z",
     "iopub.status.idle": "2024-03-23T05:14:00.324932Z",
     "shell.execute_reply": "2024-03-23T05:14:00.324485Z"
    },
    "papermill": {
     "duration": 0.042868,
     "end_time": "2024-03-23T05:14:00.325668",
     "exception": false,
     "start_time": "2024-03-23T05:14:00.282800",
     "status": "completed"
    },
    "tags": []
   },
   "outputs": [
    {
     "name": "stdout",
     "output_type": "stream",
     "text": [
      "At each informative marker, we divide haplotypes into two groups based on the parental allele that they inherited. We then compute a $k$-mer mutation spectrum using the aggregate mutation counts in each haplotype group. The $k$-mer mutation spectrum contains the frequency of every possible $k$-mer mutation type in a collection of mutations, and can be represented as a vector of size $6 \\times 4^{k - 1}$ after collapsing by strand complement. For example, the 1-mer mutation spectrum is a 6-element vector that contains the frequencies of C>T, C>G, C>A, A>G, A>T, and A>C mutations. Since C>T transitions at CpG nucleotides are often caused by a distinct mechanism (spontaneous deamination of methylated cytosine), we expand the 1-mer mutation spectrum to include a separate category for CpG>TpG mutations [@PMID:19488047].\n"
     ]
    }
   ],
   "source": [
    "par0 = process_paragraph(orig_section_paragraphs[13])\n",
    "print(par0)"
   ]
  },
  {
   "cell_type": "code",
   "execution_count": 222,
   "id": "2a21166e-2d8c-49c0-9fb6-7c365cd817a6",
   "metadata": {
    "execution": {
     "iopub.execute_input": "2024-03-23T05:14:00.404173Z",
     "iopub.status.busy": "2024-03-23T05:14:00.403845Z",
     "iopub.status.idle": "2024-03-23T05:14:00.407212Z",
     "shell.execute_reply": "2024-03-23T05:14:00.406755Z"
    },
    "papermill": {
     "duration": 0.043308,
     "end_time": "2024-03-23T05:14:00.407951",
     "exception": false,
     "start_time": "2024-03-23T05:14:00.364643",
     "status": "completed"
    },
    "tags": []
   },
   "outputs": [
    {
     "name": "stdout",
     "output_type": "stream",
     "text": [
      "At each informative marker, haplotypes are divided into two groups based on the parental allele they inherited. A $k$-mer mutation spectrum is then computed using the aggregate mutation counts in each haplotype group. The $k$-mer mutation spectrum contains the frequency of every possible $k$-mer mutation type in a collection of mutations and can be represented as a vector of size $6 \\times 4^{k - 1}$ after collapsing by strand complement. \n",
      "$$\n",
      "\\text{Important Symbols:} \\begin{align*} k & : \\text{length of the mutation type} \\\\ \\end{align*} \n",
      "$$\n",
      "For example, the 1-mer mutation spectrum is a 6-element vector that contains the frequencies of C>T, C>G, C>A, A>G, A>T, and A>C mutations. Since C>T transitions at CpG nucleotides are often caused by a distinct mechanism (spontaneous deamination of methylated cytosine), the 1-mer mutation spectrum is expanded to include a separate category for CpG>TpG mutations [@PMID:19488047].\n"
     ]
    }
   ],
   "source": [
    "par1 = (\n",
    "    process_paragraph(mod_section_paragraphs[11:14])\n",
    "    .replace(\"$$\", \"\\n$$\")\n",
    "    .replace(\"$$ \\\\text\", \"$$\\n\\\\text\")\n",
    "    .replace(\"$$ For example\", \"$$\\nFor example\")\n",
    ")\n",
    "print(par1)"
   ]
  },
  {
   "cell_type": "code",
   "execution_count": 223,
   "id": "eb536983-db56-4eda-9e03-755b8c86aa3c",
   "metadata": {
    "execution": {
     "iopub.execute_input": "2024-03-23T05:14:00.486827Z",
     "iopub.status.busy": "2024-03-23T05:14:00.486404Z",
     "iopub.status.idle": "2024-03-23T05:14:00.488966Z",
     "shell.execute_reply": "2024-03-23T05:14:00.488530Z"
    },
    "papermill": {
     "duration": 0.04248,
     "end_time": "2024-03-23T05:14:00.489621",
     "exception": false,
     "start_time": "2024-03-23T05:14:00.447141",
     "status": "completed"
    },
    "tags": []
   },
   "outputs": [],
   "source": [
    "paragraph_matches.append(\n",
    "    (\n",
    "        section_name,\n",
    "        par0,\n",
    "        par1,\n",
    "    )\n",
    ")"
   ]
  },
  {
   "cell_type": "code",
   "execution_count": 224,
   "id": "1b095512-5dc7-474d-8334-dcb615d6ec1d",
   "metadata": {
    "execution": {
     "iopub.execute_input": "2024-03-23T05:14:00.568132Z",
     "iopub.status.busy": "2024-03-23T05:14:00.567813Z",
     "iopub.status.idle": "2024-03-23T05:14:00.571172Z",
     "shell.execute_reply": "2024-03-23T05:14:00.570757Z"
    },
    "papermill": {
     "duration": 0.043365,
     "end_time": "2024-03-23T05:14:00.571881",
     "exception": false,
     "start_time": "2024-03-23T05:14:00.528516",
     "status": "completed"
    },
    "tags": []
   },
   "outputs": [
    {
     "data": {
      "text/plain": [
       "('methods',\n",
       " 'At each informative marker, we divide haplotypes into two groups based on the parental allele that they inherited. We then compute a $k$-mer mutation spectrum using the aggregate mutation counts in each haplotype group. The $k$-mer mutation spectrum contains the frequency of every possible $k$-mer mutation type in a collection of mutations, and can be represented as a vector of size $6 \\\\times 4^{k - 1}$ after collapsing by strand complement. For example, the 1-mer mutation spectrum is a 6-element vector that contains the frequencies of C>T, C>G, C>A, A>G, A>T, and A>C mutations. Since C>T transitions at CpG nucleotides are often caused by a distinct mechanism (spontaneous deamination of methylated cytosine), we expand the 1-mer mutation spectrum to include a separate category for CpG>TpG mutations [@PMID:19488047].',\n",
       " 'At each informative marker, haplotypes are divided into two groups based on the parental allele they inherited. A $k$-mer mutation spectrum is then computed using the aggregate mutation counts in each haplotype group. The $k$-mer mutation spectrum contains the frequency of every possible $k$-mer mutation type in a collection of mutations and can be represented as a vector of size $6 \\\\times 4^{k - 1}$ after collapsing by strand complement. \\n$$\\n\\\\text{Important Symbols:} \\\\begin{align*} k & : \\\\text{length of the mutation type} \\\\\\\\ \\\\end{align*} \\n$$\\nFor example, the 1-mer mutation spectrum is a 6-element vector that contains the frequencies of C>T, C>G, C>A, A>G, A>T, and A>C mutations. Since C>T transitions at CpG nucleotides are often caused by a distinct mechanism (spontaneous deamination of methylated cytosine), the 1-mer mutation spectrum is expanded to include a separate category for CpG>TpG mutations [@PMID:19488047].')"
      ]
     },
     "metadata": {},
     "output_type": "display_data"
    }
   ],
   "source": [
    "display(paragraph_matches[-1])"
   ]
  },
  {
   "cell_type": "markdown",
   "id": "cf8d2950-3c42-46b0-ad7e-b5e7d86c34ff",
   "metadata": {
    "editable": true,
    "papermill": {
     "duration": 0.038758,
     "end_time": "2024-03-23T05:14:00.649799",
     "exception": false,
     "start_time": "2024-03-23T05:14:00.611041",
     "status": "completed"
    },
    "slideshow": {
     "slide_type": ""
    },
    "tags": []
   },
   "source": [
    "####  Paragraph 03"
   ]
  },
  {
   "cell_type": "code",
   "execution_count": 225,
   "id": "ebdf493e-bd60-4da7-9a24-373a6cc3fb09",
   "metadata": {
    "execution": {
     "iopub.execute_input": "2024-03-23T05:14:00.728765Z",
     "iopub.status.busy": "2024-03-23T05:14:00.728297Z",
     "iopub.status.idle": "2024-03-23T05:14:00.731665Z",
     "shell.execute_reply": "2024-03-23T05:14:00.731225Z"
    },
    "papermill": {
     "duration": 0.043283,
     "end_time": "2024-03-23T05:14:00.732390",
     "exception": false,
     "start_time": "2024-03-23T05:14:00.689107",
     "status": "completed"
    },
    "tags": []
   },
   "outputs": [
    {
     "name": "stdout",
     "output_type": "stream",
     "text": [
      "At each marker, we then compute the cosine distance between the two aggregate spectra. The cosine distance between two vectors $\\mathbf{A}$ and $\\mathbf{B}$ is defined as \n",
      "$$\n",
      "D^C = 1 - \\frac{\\mathbf{A} \\cdot \\mathbf{B}}{||\\mathbf{A}|| \\ ||\\mathbf{B}||}\n",
      "$$\n",
      "where $||\\mathbf{A}||$ and $||\\mathbf{B}||$ are the $L^2$ (or Euclidean) norms of $\\mathbf{A}$ and $\\mathbf{B}$, respectively. The cosine distance metric has a number of favorable properties for comparing mutation spectra. Since it adjusts for the magnitude of the two input vectors, cosine distance can be used to compare two spectra with unequal total mutation counts (even if those total counts are relatively small). Additionally, by calculating the cosine distance between mutation spectra, we avoid the need to perform separate comparisons of mutation counts at each individual $k$-mer mutation type.\n"
     ]
    }
   ],
   "source": [
    "par0 = (\n",
    "    process_paragraph(orig_section_paragraphs[14:17])\n",
    "    .replace(\"$$D\", \"\\n$$\\nD\")\n",
    "    .replace(\"}$$\", \"}\\n$$\")\n",
    "    .replace(\"$$ where\", \"$$\\nwhere\")\n",
    ")\n",
    "print(par0)"
   ]
  },
  {
   "cell_type": "code",
   "execution_count": 226,
   "id": "b5df6d42-8ee1-4cfa-902a-a9e60d054c2c",
   "metadata": {
    "execution": {
     "iopub.execute_input": "2024-03-23T05:14:00.813997Z",
     "iopub.status.busy": "2024-03-23T05:14:00.813543Z",
     "iopub.status.idle": "2024-03-23T05:14:00.816807Z",
     "shell.execute_reply": "2024-03-23T05:14:00.816374Z"
    },
    "papermill": {
     "duration": 0.044782,
     "end_time": "2024-03-23T05:14:00.817533",
     "exception": false,
     "start_time": "2024-03-23T05:14:00.772751",
     "status": "completed"
    },
    "tags": []
   },
   "outputs": [
    {
     "name": "stdout",
     "output_type": "stream",
     "text": [
      "At each marker, we computed the cosine distance between the two aggregate spectra. The cosine distance between two vectors $\\mathbf{A}$ and $\\mathbf{B}$ is defined as \n",
      "$$\n",
      "D^C = 1 - \\frac{\\mathbf{A} \\cdot \\mathbf{B}}{||\\mathbf{A}|| \\ ||\\mathbf{B}||}\n",
      "$$\n",
      "where $||\\mathbf{A}||$ and $||\\mathbf{B}||$ are the $L^2$ (or Euclidean) norms of $\\mathbf{A}$ and $\\mathbf{B}$, respectively. The cosine distance metric has several favorable properties for comparing mutation spectra. It adjusts for the magnitude of the two input vectors, allowing comparison of two spectra with unequal total mutation counts, even if those total counts are relatively small. Additionally, by calculating the cosine distance between mutation spectra, the need to perform separate comparisons of mutation counts at each individual $k$-mer mutation type is avoided.\n"
     ]
    }
   ],
   "source": [
    "par1 = (\n",
    "    process_paragraph(mod_section_paragraphs[14:18])\n",
    "    .replace(\"$$D\", \"\\n$$\\nD\")\n",
    "    .replace(\"}$$\", \"}\\n$$\")\n",
    "    .replace(\"$$ where\", \"$$\\nwhere\")\n",
    ")\n",
    "print(par1)"
   ]
  },
  {
   "cell_type": "code",
   "execution_count": 227,
   "id": "3fd666cc-00ca-448b-9dca-0ca38f6c404d",
   "metadata": {
    "execution": {
     "iopub.execute_input": "2024-03-23T05:14:00.897518Z",
     "iopub.status.busy": "2024-03-23T05:14:00.897125Z",
     "iopub.status.idle": "2024-03-23T05:14:00.899772Z",
     "shell.execute_reply": "2024-03-23T05:14:00.899349Z"
    },
    "papermill": {
     "duration": 0.042693,
     "end_time": "2024-03-23T05:14:00.900429",
     "exception": false,
     "start_time": "2024-03-23T05:14:00.857736",
     "status": "completed"
    },
    "tags": []
   },
   "outputs": [],
   "source": [
    "paragraph_matches.append(\n",
    "    (\n",
    "        section_name,\n",
    "        par0,\n",
    "        par1,\n",
    "    )\n",
    ")"
   ]
  },
  {
   "cell_type": "code",
   "execution_count": 228,
   "id": "dbd874a9-319b-4657-b4c8-ee225420f868",
   "metadata": {
    "execution": {
     "iopub.execute_input": "2024-03-23T05:14:00.979609Z",
     "iopub.status.busy": "2024-03-23T05:14:00.979211Z",
     "iopub.status.idle": "2024-03-23T05:14:00.982560Z",
     "shell.execute_reply": "2024-03-23T05:14:00.982132Z"
    },
    "papermill": {
     "duration": 0.043455,
     "end_time": "2024-03-23T05:14:00.983267",
     "exception": false,
     "start_time": "2024-03-23T05:14:00.939812",
     "status": "completed"
    },
    "tags": []
   },
   "outputs": [
    {
     "data": {
      "text/plain": [
       "('methods',\n",
       " 'At each marker, we then compute the cosine distance between the two aggregate spectra. The cosine distance between two vectors $\\\\mathbf{A}$ and $\\\\mathbf{B}$ is defined as \\n$$\\nD^C = 1 - \\\\frac{\\\\mathbf{A} \\\\cdot \\\\mathbf{B}}{||\\\\mathbf{A}|| \\\\ ||\\\\mathbf{B}||}\\n$$\\nwhere $||\\\\mathbf{A}||$ and $||\\\\mathbf{B}||$ are the $L^2$ (or Euclidean) norms of $\\\\mathbf{A}$ and $\\\\mathbf{B}$, respectively. The cosine distance metric has a number of favorable properties for comparing mutation spectra. Since it adjusts for the magnitude of the two input vectors, cosine distance can be used to compare two spectra with unequal total mutation counts (even if those total counts are relatively small). Additionally, by calculating the cosine distance between mutation spectra, we avoid the need to perform separate comparisons of mutation counts at each individual $k$-mer mutation type.',\n",
       " 'At each marker, we computed the cosine distance between the two aggregate spectra. The cosine distance between two vectors $\\\\mathbf{A}$ and $\\\\mathbf{B}$ is defined as \\n$$\\nD^C = 1 - \\\\frac{\\\\mathbf{A} \\\\cdot \\\\mathbf{B}}{||\\\\mathbf{A}|| \\\\ ||\\\\mathbf{B}||}\\n$$\\nwhere $||\\\\mathbf{A}||$ and $||\\\\mathbf{B}||$ are the $L^2$ (or Euclidean) norms of $\\\\mathbf{A}$ and $\\\\mathbf{B}$, respectively. The cosine distance metric has several favorable properties for comparing mutation spectra. It adjusts for the magnitude of the two input vectors, allowing comparison of two spectra with unequal total mutation counts, even if those total counts are relatively small. Additionally, by calculating the cosine distance between mutation spectra, the need to perform separate comparisons of mutation counts at each individual $k$-mer mutation type is avoided.')"
      ]
     },
     "metadata": {},
     "output_type": "display_data"
    }
   ],
   "source": [
    "display(paragraph_matches[-1])"
   ]
  },
  {
   "cell_type": "markdown",
   "id": "c79dd9ba-2ac5-4ae6-bbf2-c71065b20c85",
   "metadata": {
    "editable": true,
    "papermill": {
     "duration": 0.03892,
     "end_time": "2024-03-23T05:14:01.061284",
     "exception": false,
     "start_time": "2024-03-23T05:14:01.022364",
     "status": "completed"
    },
    "slideshow": {
     "slide_type": ""
    },
    "tags": []
   },
   "source": [
    "####  Paragraph 04"
   ]
  },
  {
   "cell_type": "code",
   "execution_count": 229,
   "id": "23127f28-edb7-4635-945a-af278a7f2e12",
   "metadata": {
    "execution": {
     "iopub.execute_input": "2024-03-23T05:14:01.140088Z",
     "iopub.status.busy": "2024-03-23T05:14:01.139905Z",
     "iopub.status.idle": "2024-03-23T05:14:01.142772Z",
     "shell.execute_reply": "2024-03-23T05:14:01.142319Z"
    },
    "papermill": {
     "duration": 0.042958,
     "end_time": "2024-03-23T05:14:01.143464",
     "exception": false,
     "start_time": "2024-03-23T05:14:01.100506",
     "status": "completed"
    },
    "tags": []
   },
   "outputs": [
    {
     "name": "stdout",
     "output_type": "stream",
     "text": [
      "Inspired by methods from QTL mapping [@PMID:7851788;@PMID:30591514], we use permutation tests to establish genome-wide cosine distance thresholds. In each of $N$ permutation trials, we randomly shuffle the per-haplotype mutation data such that haplotype labels no longer correspond to the correct mutation counts. Using the shuffled mutation data, we perform a genome-wide scan as described above, and record the maximum cosine distance observed at any locus. After $N$ permutations (usually 10,000), we compute the $1 - p$ percentile of the distribution of maximum statistics, and use that percentile value as a genome-wide significance threshold (for example, at $p = 0.05$).\n"
     ]
    }
   ],
   "source": [
    "par0 = process_paragraph(orig_section_paragraphs[17])\n",
    "print(par0)"
   ]
  },
  {
   "cell_type": "code",
   "execution_count": 230,
   "id": "56c4bad1-44f2-47f1-88d9-3a7f90273958",
   "metadata": {
    "execution": {
     "iopub.execute_input": "2024-03-23T05:14:01.248992Z",
     "iopub.status.busy": "2024-03-23T05:14:01.248652Z",
     "iopub.status.idle": "2024-03-23T05:14:01.251584Z",
     "shell.execute_reply": "2024-03-23T05:14:01.251139Z"
    },
    "papermill": {
     "duration": 0.042855,
     "end_time": "2024-03-23T05:14:01.252318",
     "exception": false,
     "start_time": "2024-03-23T05:14:01.209463",
     "status": "completed"
    },
    "tags": []
   },
   "outputs": [
    {
     "name": "stdout",
     "output_type": "stream",
     "text": [
      "Inspired by methods from QTL mapping (Lander and Botstein, 1987; Pritchard et al., 2018), we employed permutation tests to establish genome-wide cosine distance thresholds. In each of $N$ permutation trials, the per-haplotype mutation data was randomly shuffled so that haplotype labels no longer corresponded to the correct mutation counts. Using the shuffled mutation data, a genome-wide scan was conducted as described above, and the maximum cosine distance observed at any locus was recorded. After $N$ permutations (typically 10,000), the $1 - p$ percentile of the distribution of maximum statistics was computed, and that percentile value was used as a genome-wide significance threshold (e.g., at $p = 0.05$).\n"
     ]
    }
   ],
   "source": [
    "par1 = process_paragraph(mod_section_paragraphs[18])\n",
    "print(par1)"
   ]
  },
  {
   "cell_type": "code",
   "execution_count": 231,
   "id": "702d2a38-da25-44be-ba92-363adf0592c8",
   "metadata": {
    "execution": {
     "iopub.execute_input": "2024-03-23T05:14:01.331438Z",
     "iopub.status.busy": "2024-03-23T05:14:01.331038Z",
     "iopub.status.idle": "2024-03-23T05:14:01.333595Z",
     "shell.execute_reply": "2024-03-23T05:14:01.333163Z"
    },
    "papermill": {
     "duration": 0.042601,
     "end_time": "2024-03-23T05:14:01.334273",
     "exception": false,
     "start_time": "2024-03-23T05:14:01.291672",
     "status": "completed"
    },
    "tags": []
   },
   "outputs": [],
   "source": [
    "paragraph_matches.append(\n",
    "    (\n",
    "        section_name,\n",
    "        par0,\n",
    "        par1,\n",
    "    )\n",
    ")"
   ]
  },
  {
   "cell_type": "code",
   "execution_count": 232,
   "id": "5b95a3c2-128e-429f-b236-b27df7b7a3e6",
   "metadata": {
    "execution": {
     "iopub.execute_input": "2024-03-23T05:14:01.413693Z",
     "iopub.status.busy": "2024-03-23T05:14:01.413394Z",
     "iopub.status.idle": "2024-03-23T05:14:01.416713Z",
     "shell.execute_reply": "2024-03-23T05:14:01.416297Z"
    },
    "papermill": {
     "duration": 0.043687,
     "end_time": "2024-03-23T05:14:01.417438",
     "exception": false,
     "start_time": "2024-03-23T05:14:01.373751",
     "status": "completed"
    },
    "tags": []
   },
   "outputs": [
    {
     "data": {
      "text/plain": [
       "('methods',\n",
       " 'Inspired by methods from QTL mapping [@PMID:7851788;@PMID:30591514], we use permutation tests to establish genome-wide cosine distance thresholds. In each of $N$ permutation trials, we randomly shuffle the per-haplotype mutation data such that haplotype labels no longer correspond to the correct mutation counts. Using the shuffled mutation data, we perform a genome-wide scan as described above, and record the maximum cosine distance observed at any locus. After $N$ permutations (usually 10,000), we compute the $1 - p$ percentile of the distribution of maximum statistics, and use that percentile value as a genome-wide significance threshold (for example, at $p = 0.05$).',\n",
       " 'Inspired by methods from QTL mapping (Lander and Botstein, 1987; Pritchard et al., 2018), we employed permutation tests to establish genome-wide cosine distance thresholds. In each of $N$ permutation trials, the per-haplotype mutation data was randomly shuffled so that haplotype labels no longer corresponded to the correct mutation counts. Using the shuffled mutation data, a genome-wide scan was conducted as described above, and the maximum cosine distance observed at any locus was recorded. After $N$ permutations (typically 10,000), the $1 - p$ percentile of the distribution of maximum statistics was computed, and that percentile value was used as a genome-wide significance threshold (e.g., at $p = 0.05$).')"
      ]
     },
     "metadata": {},
     "output_type": "display_data"
    }
   ],
   "source": [
    "display(paragraph_matches[-1])"
   ]
  },
  {
   "cell_type": "markdown",
   "id": "14369957-df7c-46a4-9c77-9f1cbde64dcd",
   "metadata": {
    "editable": true,
    "papermill": {
     "duration": 0.038862,
     "end_time": "2024-03-23T05:14:01.495622",
     "exception": false,
     "start_time": "2024-03-23T05:14:01.456760",
     "status": "completed"
    },
    "slideshow": {
     "slide_type": ""
    },
    "tags": []
   },
   "source": [
    "####  Paragraph 05"
   ]
  },
  {
   "cell_type": "code",
   "execution_count": 233,
   "id": "590fa642-495a-4a27-a7a9-ba8b3365355c",
   "metadata": {
    "execution": {
     "iopub.execute_input": "2024-03-23T05:14:01.574855Z",
     "iopub.status.busy": "2024-03-23T05:14:01.574533Z",
     "iopub.status.idle": "2024-03-23T05:14:01.577403Z",
     "shell.execute_reply": "2024-03-23T05:14:01.576962Z"
    },
    "papermill": {
     "duration": 0.043164,
     "end_time": "2024-03-23T05:14:01.578072",
     "exception": false,
     "start_time": "2024-03-23T05:14:01.534908",
     "status": "completed"
    },
    "tags": []
   },
   "outputs": [
    {
     "name": "stdout",
     "output_type": "stream",
     "text": [
      "If we identified an adjusted cosine distance peak on a particular chromosome, we used a bootstrap resampling approach [@PMID:8725246] to estimate confidence intervals. In each of $N = 10,000$ trials, we resampled the mutation spectrum data and corresponding marker genotypes (on the chromosome of interest) with replacement. Using those resampled spectra and genotypes, we performed an aggregate mutation spectrum distance scan on the chromosome of interest and recorded the position of the marker with the largest adjusted cosine distance value. We then defined a 90% confidence interval by finding two marker locations between which 90% of all $N$ bootstrap samples produced a peak cosine distance value. In other words, we estimated the bounds of the 90% confidence interval by finding the markers that defined the 5th and 95th percentiles of the distribution of maximum adjusted cosine distance values across $N$ bootstrap trials. We note, however, that the bootstrap can exhibit poor performance in QTL mapping studies [@PMID:16783000]; namely, bootstrap confidence intervals tend to be larger than those estimated using either a \"LOD drop\" method or a Bayes credible interval, and can exhibit poorer-than-expected coverage (a measure of whether the confidence interval contains the true QTL location).\n"
     ]
    }
   ],
   "source": [
    "par0 = process_paragraph(orig_section_paragraphs[19])\n",
    "print(par0)"
   ]
  },
  {
   "cell_type": "code",
   "execution_count": 234,
   "id": "d9780e6f-41bd-4afc-bbfc-416acd51a8bb",
   "metadata": {
    "execution": {
     "iopub.execute_input": "2024-03-23T05:14:01.657803Z",
     "iopub.status.busy": "2024-03-23T05:14:01.657389Z",
     "iopub.status.idle": "2024-03-23T05:14:01.660622Z",
     "shell.execute_reply": "2024-03-23T05:14:01.660180Z"
    },
    "papermill": {
     "duration": 0.0434,
     "end_time": "2024-03-23T05:14:01.661342",
     "exception": false,
     "start_time": "2024-03-23T05:14:01.617942",
     "status": "completed"
    },
    "tags": []
   },
   "outputs": [
    {
     "name": "stdout",
     "output_type": "stream",
     "text": [
      "If we identified an adjusted cosine distance peak on a particular chromosome, we used a bootstrap resampling approach (Lander and Kruglyak, 1995) to estimate confidence intervals. In each of $N = 10,000$ trials, we resampled the mutation spectrum data and corresponding marker genotypes (on the chromosome of interest) with replacement. Using those resampled spectra and genotypes, we performed an aggregate mutation spectrum distance scan on the chromosome of interest and recorded the position of the marker with the largest adjusted cosine distance value. We then defined a 90% confidence interval by finding two marker locations between which 90% of all $N$ bootstrap samples produced a peak cosine distance value. In other words, we estimated the bounds of the 90% confidence interval by finding the markers that defined the 5th and 95th percentiles of the distribution of maximum adjusted cosine distance values across $N$ bootstrap trials. We note, however, that the bootstrap can exhibit poor performance in QTL mapping studies (Manichaikul et al., 2007); namely, bootstrap confidence intervals tend to be larger than those estimated using either a \"LOD drop\" method or a Bayes credible interval, and can exhibit poorer-than-expected coverage (a measure of whether the confidence interval contains the true QTL location).\n"
     ]
    }
   ],
   "source": [
    "par1 = process_paragraph(\n",
    "    [\n",
    "        mod_section_paragraphs[21],\n",
    "        mod_section_paragraphs[23],\n",
    "        mod_section_paragraphs[25],\n",
    "        mod_section_paragraphs[27],\n",
    "    ]\n",
    ")\n",
    "print(par1)"
   ]
  },
  {
   "cell_type": "code",
   "execution_count": 235,
   "id": "edf2e4a3-5466-49fb-adbc-12926723cd85",
   "metadata": {
    "execution": {
     "iopub.execute_input": "2024-03-23T05:14:01.740483Z",
     "iopub.status.busy": "2024-03-23T05:14:01.740300Z",
     "iopub.status.idle": "2024-03-23T05:14:01.742899Z",
     "shell.execute_reply": "2024-03-23T05:14:01.742449Z"
    },
    "papermill": {
     "duration": 0.042774,
     "end_time": "2024-03-23T05:14:01.743636",
     "exception": false,
     "start_time": "2024-03-23T05:14:01.700862",
     "status": "completed"
    },
    "tags": []
   },
   "outputs": [],
   "source": [
    "paragraph_matches.append(\n",
    "    (\n",
    "        section_name,\n",
    "        par0,\n",
    "        par1,\n",
    "    )\n",
    ")"
   ]
  },
  {
   "cell_type": "code",
   "execution_count": 236,
   "id": "305001ac-905e-4728-bf27-6d9c252a6b79",
   "metadata": {
    "execution": {
     "iopub.execute_input": "2024-03-23T05:14:01.823113Z",
     "iopub.status.busy": "2024-03-23T05:14:01.822802Z",
     "iopub.status.idle": "2024-03-23T05:14:01.826181Z",
     "shell.execute_reply": "2024-03-23T05:14:01.825728Z"
    },
    "papermill": {
     "duration": 0.0439,
     "end_time": "2024-03-23T05:14:01.826879",
     "exception": false,
     "start_time": "2024-03-23T05:14:01.782979",
     "status": "completed"
    },
    "tags": []
   },
   "outputs": [
    {
     "data": {
      "text/plain": [
       "('methods',\n",
       " 'If we identified an adjusted cosine distance peak on a particular chromosome, we used a bootstrap resampling approach [@PMID:8725246] to estimate confidence intervals. In each of $N = 10,000$ trials, we resampled the mutation spectrum data and corresponding marker genotypes (on the chromosome of interest) with replacement. Using those resampled spectra and genotypes, we performed an aggregate mutation spectrum distance scan on the chromosome of interest and recorded the position of the marker with the largest adjusted cosine distance value. We then defined a 90% confidence interval by finding two marker locations between which 90% of all $N$ bootstrap samples produced a peak cosine distance value. In other words, we estimated the bounds of the 90% confidence interval by finding the markers that defined the 5th and 95th percentiles of the distribution of maximum adjusted cosine distance values across $N$ bootstrap trials. We note, however, that the bootstrap can exhibit poor performance in QTL mapping studies [@PMID:16783000]; namely, bootstrap confidence intervals tend to be larger than those estimated using either a \"LOD drop\" method or a Bayes credible interval, and can exhibit poorer-than-expected coverage (a measure of whether the confidence interval contains the true QTL location).',\n",
       " 'If we identified an adjusted cosine distance peak on a particular chromosome, we used a bootstrap resampling approach (Lander and Kruglyak, 1995) to estimate confidence intervals. In each of $N = 10,000$ trials, we resampled the mutation spectrum data and corresponding marker genotypes (on the chromosome of interest) with replacement. Using those resampled spectra and genotypes, we performed an aggregate mutation spectrum distance scan on the chromosome of interest and recorded the position of the marker with the largest adjusted cosine distance value. We then defined a 90% confidence interval by finding two marker locations between which 90% of all $N$ bootstrap samples produced a peak cosine distance value. In other words, we estimated the bounds of the 90% confidence interval by finding the markers that defined the 5th and 95th percentiles of the distribution of maximum adjusted cosine distance values across $N$ bootstrap trials. We note, however, that the bootstrap can exhibit poor performance in QTL mapping studies (Manichaikul et al., 2007); namely, bootstrap confidence intervals tend to be larger than those estimated using either a \"LOD drop\" method or a Bayes credible interval, and can exhibit poorer-than-expected coverage (a measure of whether the confidence interval contains the true QTL location).')"
      ]
     },
     "metadata": {},
     "output_type": "display_data"
    }
   ],
   "source": [
    "display(paragraph_matches[-1])"
   ]
  },
  {
   "cell_type": "markdown",
   "id": "1e23ef22-30fa-42d0-9ca6-a2736743c3b9",
   "metadata": {
    "editable": true,
    "papermill": {
     "duration": 0.039051,
     "end_time": "2024-03-23T05:14:01.905458",
     "exception": false,
     "start_time": "2024-03-23T05:14:01.866407",
     "status": "completed"
    },
    "slideshow": {
     "slide_type": ""
    },
    "tags": []
   },
   "source": [
    "####  Paragraph 06"
   ]
  },
  {
   "cell_type": "code",
   "execution_count": 237,
   "id": "1b115197-8a7e-4087-9adf-04590f43d99b",
   "metadata": {
    "execution": {
     "iopub.execute_input": "2024-03-23T05:14:01.984257Z",
     "iopub.status.busy": "2024-03-23T05:14:01.983865Z",
     "iopub.status.idle": "2024-03-23T05:14:01.986795Z",
     "shell.execute_reply": "2024-03-23T05:14:01.986356Z"
    },
    "papermill": {
     "duration": 0.042912,
     "end_time": "2024-03-23T05:14:01.987498",
     "exception": false,
     "start_time": "2024-03-23T05:14:01.944586",
     "status": "completed"
    },
    "tags": []
   },
   "outputs": [
    {
     "name": "stdout",
     "output_type": "stream",
     "text": [
      "We expect each BXD to derive approximately 50% of its genome from C57BL/6J and 50% from DBA/2J. As a result, every pair of BXDs will likely have identical genotypes at a fraction of markers. Pairs of more genetically similar BXDs may also have more similar mutation spectra, potentially due to shared polygenic effects on the mutation process. Therefore, at a given marker, if the BXDs that inherited *D* alleles are more genetically dissimilar from those that inherited *B* alleles (considering all loci throughout the genome in our measurement of genetic similarity), we might expect the aggregate mutation spectra in the two groups to also be more dissimilar.\n"
     ]
    }
   ],
   "source": [
    "par0 = process_paragraph(orig_section_paragraphs[21])\n",
    "print(par0)"
   ]
  },
  {
   "cell_type": "code",
   "execution_count": 238,
   "id": "2abd5425-de51-4e1a-b0e9-1106ca2b37de",
   "metadata": {
    "execution": {
     "iopub.execute_input": "2024-03-23T05:14:02.067412Z",
     "iopub.status.busy": "2024-03-23T05:14:02.067089Z",
     "iopub.status.idle": "2024-03-23T05:14:02.069900Z",
     "shell.execute_reply": "2024-03-23T05:14:02.069440Z"
    },
    "papermill": {
     "duration": 0.043439,
     "end_time": "2024-03-23T05:14:02.070658",
     "exception": false,
     "start_time": "2024-03-23T05:14:02.027219",
     "status": "completed"
    },
    "tags": []
   },
   "outputs": [
    {
     "name": "stdout",
     "output_type": "stream",
     "text": [
      "We expect each BXD to derive approximately 50% of its genome from C57BL/6J and 50% from DBA/2J. As a result, every pair of BXDs will likely have identical genotypes at a fraction of markers. Pairs of more genetically similar BXDs may also have more similar mutation spectra, potentially due to shared polygenic effects on the mutation process. Therefore, at a given marker, if the BXDs that inherited *D* alleles are more genetically dissimilar from those that inherited *B* alleles (considering all loci throughout the genome in our measurement of genetic similarity), we might expect the aggregate mutation spectra in the two groups to also be more dissimilar.\n"
     ]
    }
   ],
   "source": [
    "par1 = process_paragraph(mod_section_paragraphs[29])\n",
    "print(par1)"
   ]
  },
  {
   "cell_type": "code",
   "execution_count": 239,
   "id": "b094ae16-c00a-46a5-a2f1-0bb674894a9a",
   "metadata": {
    "execution": {
     "iopub.execute_input": "2024-03-23T05:14:02.178473Z",
     "iopub.status.busy": "2024-03-23T05:14:02.178154Z",
     "iopub.status.idle": "2024-03-23T05:14:02.180658Z",
     "shell.execute_reply": "2024-03-23T05:14:02.180235Z"
    },
    "papermill": {
     "duration": 0.043601,
     "end_time": "2024-03-23T05:14:02.181408",
     "exception": false,
     "start_time": "2024-03-23T05:14:02.137807",
     "status": "completed"
    },
    "tags": []
   },
   "outputs": [],
   "source": [
    "paragraph_matches.append(\n",
    "    (\n",
    "        section_name,\n",
    "        par0,\n",
    "        par1,\n",
    "    )\n",
    ")"
   ]
  },
  {
   "cell_type": "code",
   "execution_count": 240,
   "id": "37dc88b5-010e-42f7-9d27-749d5af21423",
   "metadata": {
    "execution": {
     "iopub.execute_input": "2024-03-23T05:14:02.261272Z",
     "iopub.status.busy": "2024-03-23T05:14:02.260777Z",
     "iopub.status.idle": "2024-03-23T05:14:02.264202Z",
     "shell.execute_reply": "2024-03-23T05:14:02.263779Z"
    },
    "papermill": {
     "duration": 0.044099,
     "end_time": "2024-03-23T05:14:02.264945",
     "exception": false,
     "start_time": "2024-03-23T05:14:02.220846",
     "status": "completed"
    },
    "tags": []
   },
   "outputs": [
    {
     "data": {
      "text/plain": [
       "('methods',\n",
       " 'We expect each BXD to derive approximately 50% of its genome from C57BL/6J and 50% from DBA/2J. As a result, every pair of BXDs will likely have identical genotypes at a fraction of markers. Pairs of more genetically similar BXDs may also have more similar mutation spectra, potentially due to shared polygenic effects on the mutation process. Therefore, at a given marker, if the BXDs that inherited *D* alleles are more genetically dissimilar from those that inherited *B* alleles (considering all loci throughout the genome in our measurement of genetic similarity), we might expect the aggregate mutation spectra in the two groups to also be more dissimilar.',\n",
       " 'We expect each BXD to derive approximately 50% of its genome from C57BL/6J and 50% from DBA/2J. As a result, every pair of BXDs will likely have identical genotypes at a fraction of markers. Pairs of more genetically similar BXDs may also have more similar mutation spectra, potentially due to shared polygenic effects on the mutation process. Therefore, at a given marker, if the BXDs that inherited *D* alleles are more genetically dissimilar from those that inherited *B* alleles (considering all loci throughout the genome in our measurement of genetic similarity), we might expect the aggregate mutation spectra in the two groups to also be more dissimilar.')"
      ]
     },
     "metadata": {},
     "output_type": "display_data"
    }
   ],
   "source": [
    "display(paragraph_matches[-1])"
   ]
  },
  {
   "cell_type": "markdown",
   "id": "b96f7e49-7c44-4738-b979-08012ef5e47a",
   "metadata": {
    "editable": true,
    "papermill": {
     "duration": 0.039127,
     "end_time": "2024-03-23T05:14:02.343575",
     "exception": false,
     "start_time": "2024-03-23T05:14:02.304448",
     "status": "completed"
    },
    "slideshow": {
     "slide_type": ""
    },
    "tags": []
   },
   "source": [
    "####  Paragraph 07"
   ]
  },
  {
   "cell_type": "code",
   "execution_count": 241,
   "id": "d27499a0-7315-4cf4-a440-737ef1903b71",
   "metadata": {
    "execution": {
     "iopub.execute_input": "2024-03-23T05:14:02.423048Z",
     "iopub.status.busy": "2024-03-23T05:14:02.422717Z",
     "iopub.status.idle": "2024-03-23T05:14:02.425553Z",
     "shell.execute_reply": "2024-03-23T05:14:02.425123Z"
    },
    "papermill": {
     "duration": 0.043249,
     "end_time": "2024-03-23T05:14:02.426324",
     "exception": false,
     "start_time": "2024-03-23T05:14:02.383075",
     "status": "completed"
    },
    "tags": []
   },
   "outputs": [
    {
     "name": "stdout",
     "output_type": "stream",
     "text": [
      "We implemented a simple approach to account for these potential issues of relatedness. At each marker $g_i$, we divide BXD haplotypes into two groups based on the parental allele they inherited. As before, we first compute the aggregate mutation spectrum in each group of haplotypes and calculate the cosine distance between the two aggregate spectra ($D^{C}_{i}$). Then, within each group of haplotypes, we calculate the allele frequency of the *D* allele at every marker along the genome to obtain a vector of length $n$, where $n$ is the number of genotyped markers. To quantify the genetic similarity between the two groups of haplotypes, we calculate the Pearson correlation coefficient $r_i$ between the two vectors of marker-wide *D* allele frequencies.\n"
     ]
    }
   ],
   "source": [
    "par0 = process_paragraph(orig_section_paragraphs[22])\n",
    "print(par0)"
   ]
  },
  {
   "cell_type": "code",
   "execution_count": 242,
   "id": "6ad494d8-ebb7-4736-a50d-9f61884238be",
   "metadata": {
    "execution": {
     "iopub.execute_input": "2024-03-23T05:14:02.506324Z",
     "iopub.status.busy": "2024-03-23T05:14:02.505869Z",
     "iopub.status.idle": "2024-03-23T05:14:02.508900Z",
     "shell.execute_reply": "2024-03-23T05:14:02.508457Z"
    },
    "papermill": {
     "duration": 0.043435,
     "end_time": "2024-03-23T05:14:02.509625",
     "exception": false,
     "start_time": "2024-03-23T05:14:02.466190",
     "status": "completed"
    },
    "tags": []
   },
   "outputs": [
    {
     "name": "stdout",
     "output_type": "stream",
     "text": [
      "We implemented a simple approach to account for these potential issues of relatedness. At each marker $g_i$, we divide BXD haplotypes into two groups based on the parental allele they inherited. As before, we first compute the aggregate mutation spectrum in each group of haplotypes and calculate the cosine distance between the two aggregate spectra ($D^{C}_{i}$). Then, within each group of haplotypes, we calculate the allele frequency of the *D* allele at every marker along the genome to obtain a vector of length $n$, where $n$ is the number of genotyped markers. To quantify the genetic similarity between the two groups of haplotypes, we calculate the Pearson correlation coefficient $r_i$ between the two vectors of marker-wide *D* allele frequencies.\n"
     ]
    }
   ],
   "source": [
    "par1 = process_paragraph(\n",
    "    [\n",
    "        mod_section_paragraphs[31],\n",
    "        mod_section_paragraphs[33],\n",
    "    ]\n",
    ")\n",
    "print(par1)"
   ]
  },
  {
   "cell_type": "code",
   "execution_count": 243,
   "id": "c1b33934-fe43-4e94-a51f-854c1639aaf8",
   "metadata": {
    "execution": {
     "iopub.execute_input": "2024-03-23T05:14:02.589330Z",
     "iopub.status.busy": "2024-03-23T05:14:02.589029Z",
     "iopub.status.idle": "2024-03-23T05:14:02.591607Z",
     "shell.execute_reply": "2024-03-23T05:14:02.591174Z"
    },
    "papermill": {
     "duration": 0.043218,
     "end_time": "2024-03-23T05:14:02.592336",
     "exception": false,
     "start_time": "2024-03-23T05:14:02.549118",
     "status": "completed"
    },
    "tags": []
   },
   "outputs": [],
   "source": [
    "paragraph_matches.append(\n",
    "    (\n",
    "        section_name,\n",
    "        par0,\n",
    "        par1,\n",
    "    )\n",
    ")"
   ]
  },
  {
   "cell_type": "code",
   "execution_count": 244,
   "id": "3b5c3e6f-0724-40a3-a492-357871894e00",
   "metadata": {
    "execution": {
     "iopub.execute_input": "2024-03-23T05:14:02.672372Z",
     "iopub.status.busy": "2024-03-23T05:14:02.671974Z",
     "iopub.status.idle": "2024-03-23T05:14:02.675581Z",
     "shell.execute_reply": "2024-03-23T05:14:02.675020Z"
    },
    "papermill": {
     "duration": 0.044268,
     "end_time": "2024-03-23T05:14:02.676313",
     "exception": false,
     "start_time": "2024-03-23T05:14:02.632045",
     "status": "completed"
    },
    "tags": []
   },
   "outputs": [
    {
     "data": {
      "text/plain": [
       "('methods',\n",
       " 'We implemented a simple approach to account for these potential issues of relatedness. At each marker $g_i$, we divide BXD haplotypes into two groups based on the parental allele they inherited. As before, we first compute the aggregate mutation spectrum in each group of haplotypes and calculate the cosine distance between the two aggregate spectra ($D^{C}_{i}$). Then, within each group of haplotypes, we calculate the allele frequency of the *D* allele at every marker along the genome to obtain a vector of length $n$, where $n$ is the number of genotyped markers. To quantify the genetic similarity between the two groups of haplotypes, we calculate the Pearson correlation coefficient $r_i$ between the two vectors of marker-wide *D* allele frequencies.',\n",
       " 'We implemented a simple approach to account for these potential issues of relatedness. At each marker $g_i$, we divide BXD haplotypes into two groups based on the parental allele they inherited. As before, we first compute the aggregate mutation spectrum in each group of haplotypes and calculate the cosine distance between the two aggregate spectra ($D^{C}_{i}$). Then, within each group of haplotypes, we calculate the allele frequency of the *D* allele at every marker along the genome to obtain a vector of length $n$, where $n$ is the number of genotyped markers. To quantify the genetic similarity between the two groups of haplotypes, we calculate the Pearson correlation coefficient $r_i$ between the two vectors of marker-wide *D* allele frequencies.')"
      ]
     },
     "metadata": {},
     "output_type": "display_data"
    }
   ],
   "source": [
    "display(paragraph_matches[-1])"
   ]
  },
  {
   "cell_type": "markdown",
   "id": "30c27ed6-5d47-4914-a798-e19235afd800",
   "metadata": {
    "editable": true,
    "papermill": {
     "duration": 0.039375,
     "end_time": "2024-03-23T05:14:02.755761",
     "exception": false,
     "start_time": "2024-03-23T05:14:02.716386",
     "status": "completed"
    },
    "slideshow": {
     "slide_type": ""
    },
    "tags": []
   },
   "source": [
    "####  Paragraph 08"
   ]
  },
  {
   "cell_type": "code",
   "execution_count": 245,
   "id": "3410d456-8d54-41fc-ba5e-8e7c89923dc6",
   "metadata": {
    "execution": {
     "iopub.execute_input": "2024-03-23T05:14:02.835711Z",
     "iopub.status.busy": "2024-03-23T05:14:02.835381Z",
     "iopub.status.idle": "2024-03-23T05:14:02.838338Z",
     "shell.execute_reply": "2024-03-23T05:14:02.837853Z"
    },
    "papermill": {
     "duration": 0.043493,
     "end_time": "2024-03-23T05:14:02.839053",
     "exception": false,
     "start_time": "2024-03-23T05:14:02.795560",
     "status": "completed"
    },
    "tags": []
   },
   "outputs": [
    {
     "name": "stdout",
     "output_type": "stream",
     "text": [
      "Put another way, at every marker $g_i$ along the genome, we divide BXD haplotypes into two groups and compute two metrics: $D^{C}_{i}$ (the cosine distance between the two groups' aggregate spectra) and $r_i$ (the correlation between genome-wide *D* allele frequencies in the two groups). To control for the potential effects of genetic similarity on cosine distances, we regress $\\left(D^C_{1}, D^C_{2}, \\ldots D^C_{n} \\right)$ on $\\left( r_1, r_2, \\ldots r_n \\right)$ for all $n$ markers using an ordinary least-squares model. We then use the residuals from the fitted model as the \"adjusted\" cosine distance values for each marker. If genome-wide genetic similarity between haplotypes perfectly predicts cosine distances at each marker, these residuals will all be 0 (or very close to 0). If genome-wide genetic similarity has no predictive power, the residuals will simply represent the difference between the observed cosine distance at a single marker and the marker-wide mean of cosine distances.\n"
     ]
    }
   ],
   "source": [
    "par0 = process_paragraph(orig_section_paragraphs[23])\n",
    "print(par0)"
   ]
  },
  {
   "cell_type": "code",
   "execution_count": 246,
   "id": "66d483f0-c8f3-4b38-bd1e-f7cd435dd29b",
   "metadata": {
    "execution": {
     "iopub.execute_input": "2024-03-23T05:14:02.918952Z",
     "iopub.status.busy": "2024-03-23T05:14:02.918608Z",
     "iopub.status.idle": "2024-03-23T05:14:02.921549Z",
     "shell.execute_reply": "2024-03-23T05:14:02.921118Z"
    },
    "papermill": {
     "duration": 0.043651,
     "end_time": "2024-03-23T05:14:02.922298",
     "exception": false,
     "start_time": "2024-03-23T05:14:02.878647",
     "status": "completed"
    },
    "tags": []
   },
   "outputs": [
    {
     "name": "stdout",
     "output_type": "stream",
     "text": [
      "Put in another way, at every marker $g_i$ along the genome, we divide BXD haplotypes into two groups and calculate two metrics: $D^{C}_{i}$ (the cosine distance between the two groups' aggregate spectra) and $r_i$ (the correlation between genome-wide *D* allele frequencies in the two groups). To account for the potential effects of genetic similarity on cosine distances, we perform a regression of $\\left(D^C_{1}, D^C_{2}, \\ldots D^C_{n} \\right)$ on $\\left( r_1, r_2, \\ldots r_n \\right)$ for all $n$ markers using an ordinary least-squares model. Subsequently, we utilize the residuals from the model as the \"adjusted\" cosine distance values for each marker. If genome-wide genetic similarity between haplotypes perfectly predicts cosine distances at each marker, these residuals will all be 0 (or very close to 0). If genome-wide genetic similarity lacks predictive power, the residuals will simply denote the disparity between the observed cosine distance at a single marker and the marker-wide mean of cosine distances.\n"
     ]
    }
   ],
   "source": [
    "par1 = process_paragraph(\n",
    "    [\n",
    "        # mod_section_paragraphs[31],\n",
    "        mod_section_paragraphs[35],\n",
    "    ]\n",
    ")\n",
    "print(par1)"
   ]
  },
  {
   "cell_type": "code",
   "execution_count": 247,
   "id": "d434ce38-ba1e-483c-939b-bc2c7d86502c",
   "metadata": {
    "execution": {
     "iopub.execute_input": "2024-03-23T05:14:03.002504Z",
     "iopub.status.busy": "2024-03-23T05:14:03.002126Z",
     "iopub.status.idle": "2024-03-23T05:14:03.004617Z",
     "shell.execute_reply": "2024-03-23T05:14:03.004197Z"
    },
    "papermill": {
     "duration": 0.043309,
     "end_time": "2024-03-23T05:14:03.005321",
     "exception": false,
     "start_time": "2024-03-23T05:14:02.962012",
     "status": "completed"
    },
    "tags": []
   },
   "outputs": [],
   "source": [
    "paragraph_matches.append(\n",
    "    (\n",
    "        section_name,\n",
    "        par0,\n",
    "        par1,\n",
    "    )\n",
    ")"
   ]
  },
  {
   "cell_type": "code",
   "execution_count": 248,
   "id": "e7dc2936-af7e-44f7-9dcf-d67253b15f90",
   "metadata": {
    "execution": {
     "iopub.execute_input": "2024-03-23T05:14:03.113622Z",
     "iopub.status.busy": "2024-03-23T05:14:03.113259Z",
     "iopub.status.idle": "2024-03-23T05:14:03.116862Z",
     "shell.execute_reply": "2024-03-23T05:14:03.116429Z"
    },
    "papermill": {
     "duration": 0.044771,
     "end_time": "2024-03-23T05:14:03.117578",
     "exception": false,
     "start_time": "2024-03-23T05:14:03.072807",
     "status": "completed"
    },
    "tags": []
   },
   "outputs": [
    {
     "data": {
      "text/plain": [
       "('methods',\n",
       " 'Put another way, at every marker $g_i$ along the genome, we divide BXD haplotypes into two groups and compute two metrics: $D^{C}_{i}$ (the cosine distance between the two groups\\' aggregate spectra) and $r_i$ (the correlation between genome-wide *D* allele frequencies in the two groups). To control for the potential effects of genetic similarity on cosine distances, we regress $\\\\left(D^C_{1}, D^C_{2}, \\\\ldots D^C_{n} \\\\right)$ on $\\\\left( r_1, r_2, \\\\ldots r_n \\\\right)$ for all $n$ markers using an ordinary least-squares model. We then use the residuals from the fitted model as the \"adjusted\" cosine distance values for each marker. If genome-wide genetic similarity between haplotypes perfectly predicts cosine distances at each marker, these residuals will all be 0 (or very close to 0). If genome-wide genetic similarity has no predictive power, the residuals will simply represent the difference between the observed cosine distance at a single marker and the marker-wide mean of cosine distances.',\n",
       " 'Put in another way, at every marker $g_i$ along the genome, we divide BXD haplotypes into two groups and calculate two metrics: $D^{C}_{i}$ (the cosine distance between the two groups\\' aggregate spectra) and $r_i$ (the correlation between genome-wide *D* allele frequencies in the two groups). To account for the potential effects of genetic similarity on cosine distances, we perform a regression of $\\\\left(D^C_{1}, D^C_{2}, \\\\ldots D^C_{n} \\\\right)$ on $\\\\left( r_1, r_2, \\\\ldots r_n \\\\right)$ for all $n$ markers using an ordinary least-squares model. Subsequently, we utilize the residuals from the model as the \"adjusted\" cosine distance values for each marker. If genome-wide genetic similarity between haplotypes perfectly predicts cosine distances at each marker, these residuals will all be 0 (or very close to 0). If genome-wide genetic similarity lacks predictive power, the residuals will simply denote the disparity between the observed cosine distance at a single marker and the marker-wide mean of cosine distances.')"
      ]
     },
     "metadata": {},
     "output_type": "display_data"
    }
   ],
   "source": [
    "display(paragraph_matches[-1])"
   ]
  },
  {
   "cell_type": "markdown",
   "id": "07bdb861-1f65-4b25-9068-00db85b94867",
   "metadata": {
    "editable": true,
    "papermill": {
     "duration": 0.039714,
     "end_time": "2024-03-23T05:14:03.197354",
     "exception": false,
     "start_time": "2024-03-23T05:14:03.157640",
     "status": "completed"
    },
    "slideshow": {
     "slide_type": ""
    },
    "tags": []
   },
   "source": [
    "####  Paragraph 09"
   ]
  },
  {
   "cell_type": "code",
   "execution_count": 249,
   "id": "2ca2548a-d9e7-449d-bcbc-eddcdbf400a3",
   "metadata": {
    "execution": {
     "iopub.execute_input": "2024-03-23T05:14:03.279445Z",
     "iopub.status.busy": "2024-03-23T05:14:03.278896Z",
     "iopub.status.idle": "2024-03-23T05:14:03.282169Z",
     "shell.execute_reply": "2024-03-23T05:14:03.281672Z"
    },
    "papermill": {
     "duration": 0.044221,
     "end_time": "2024-03-23T05:14:03.282936",
     "exception": false,
     "start_time": "2024-03-23T05:14:03.238715",
     "status": "completed"
    },
    "tags": []
   },
   "outputs": [
    {
     "name": "stdout",
     "output_type": "stream",
     "text": [
      "The current BXD family was generated in six breeding \"epochs.\" As discussed previously, each epoch was initiated with a distinct cross of C57BL/6J and DBA/2J parents; BXDs in four of the epochs were generated following F2 crosses of C57BL/6J and DBA/2J, and BXDs in the other two were generated following advanced intercrosses. Due to this breeding approach the BXD epochs differ from each other in a few important ways. For example, BXDs derived in epochs 3 and 5 (i.e., from advanced intercross) harbor larger numbers of fixed recombination breakpoints than those from epochs 1, 2, 4, and 6 [@PMID:33472028]. Although the C57BL/6J and DBA/2J parents used to initialize each epoch were completely inbred, they each possessed a small number unique *de novo* germline mutations that were subsequently inherited by many of their offspring. A number of these \"epoch-specific\" variants have also been linked to phenotypic variation observed between BXDs from different epochs [@PMID:33472028;@PMID:31274109;@PMID:30984232;@PMID:31057322].\n"
     ]
    }
   ],
   "source": [
    "par0 = process_paragraph(orig_section_paragraphs[25])\n",
    "print(par0)"
   ]
  },
  {
   "cell_type": "code",
   "execution_count": 250,
   "id": "8424f98a-ca80-42a4-89e2-22d15ff0718b",
   "metadata": {
    "execution": {
     "iopub.execute_input": "2024-03-23T05:14:03.363549Z",
     "iopub.status.busy": "2024-03-23T05:14:03.363241Z",
     "iopub.status.idle": "2024-03-23T05:14:03.366273Z",
     "shell.execute_reply": "2024-03-23T05:14:03.365831Z"
    },
    "papermill": {
     "duration": 0.04406,
     "end_time": "2024-03-23T05:14:03.367030",
     "exception": false,
     "start_time": "2024-03-23T05:14:03.322970",
     "status": "completed"
    },
    "tags": []
   },
   "outputs": [
    {
     "name": "stdout",
     "output_type": "stream",
     "text": [
      "The current BXD family was generated in six breeding \"epochs.\" Each epoch was initiated with a distinct cross of C57BL/6J and DBA/2J parents. BXDs in four of the epochs were generated following F2 crosses of C57BL/6J and DBA/2J, while BXDs in the other two were generated following advanced intercrosses. This breeding approach resulted in differences between the BXD epochs. For instance, BXDs derived in epochs 3 and 5 (from advanced intercross) harbor larger numbers of fixed recombination breakpoints compared to those from epochs 1, 2, 4, and 6 (Smith et al., 2021). Although the C57BL/6J and DBA/2J parents used to initialize each epoch were completely inbred, they each possessed a small number of unique *de novo* germline mutations that were subsequently inherited by many of their offspring. Several of these \"epoch-specific\" variants have also been associated with phenotypic variation observed between BXDs from different epochs (Smith et al., 2021; Johnson et al., 2019; Brown et al., 2019; White et al., 2020).\n"
     ]
    }
   ],
   "source": [
    "par1 = process_paragraph(\n",
    "    [\n",
    "        # mod_section_paragraphs[31],\n",
    "        mod_section_paragraphs[39],\n",
    "    ]\n",
    ")\n",
    "print(par1)"
   ]
  },
  {
   "cell_type": "code",
   "execution_count": 251,
   "id": "071bb2cf-5a25-4f9d-a58b-e115bf133042",
   "metadata": {
    "execution": {
     "iopub.execute_input": "2024-03-23T05:14:03.447257Z",
     "iopub.status.busy": "2024-03-23T05:14:03.446937Z",
     "iopub.status.idle": "2024-03-23T05:14:03.449473Z",
     "shell.execute_reply": "2024-03-23T05:14:03.449049Z"
    },
    "papermill": {
     "duration": 0.043284,
     "end_time": "2024-03-23T05:14:03.450245",
     "exception": false,
     "start_time": "2024-03-23T05:14:03.406961",
     "status": "completed"
    },
    "tags": []
   },
   "outputs": [],
   "source": [
    "paragraph_matches.append(\n",
    "    (\n",
    "        section_name,\n",
    "        par0,\n",
    "        par1,\n",
    "    )\n",
    ")"
   ]
  },
  {
   "cell_type": "code",
   "execution_count": 252,
   "id": "f703df9a-0643-4ad5-85ed-5e9229c4f728",
   "metadata": {
    "execution": {
     "iopub.execute_input": "2024-03-23T05:14:03.530477Z",
     "iopub.status.busy": "2024-03-23T05:14:03.530154Z",
     "iopub.status.idle": "2024-03-23T05:14:03.533558Z",
     "shell.execute_reply": "2024-03-23T05:14:03.533134Z"
    },
    "papermill": {
     "duration": 0.044072,
     "end_time": "2024-03-23T05:14:03.534319",
     "exception": false,
     "start_time": "2024-03-23T05:14:03.490247",
     "status": "completed"
    },
    "tags": []
   },
   "outputs": [
    {
     "data": {
      "text/plain": [
       "('methods',\n",
       " 'The current BXD family was generated in six breeding \"epochs.\" As discussed previously, each epoch was initiated with a distinct cross of C57BL/6J and DBA/2J parents; BXDs in four of the epochs were generated following F2 crosses of C57BL/6J and DBA/2J, and BXDs in the other two were generated following advanced intercrosses. Due to this breeding approach the BXD epochs differ from each other in a few important ways. For example, BXDs derived in epochs 3 and 5 (i.e., from advanced intercross) harbor larger numbers of fixed recombination breakpoints than those from epochs 1, 2, 4, and 6 [@PMID:33472028]. Although the C57BL/6J and DBA/2J parents used to initialize each epoch were completely inbred, they each possessed a small number unique *de novo* germline mutations that were subsequently inherited by many of their offspring. A number of these \"epoch-specific\" variants have also been linked to phenotypic variation observed between BXDs from different epochs [@PMID:33472028;@PMID:31274109;@PMID:30984232;@PMID:31057322].',\n",
       " 'The current BXD family was generated in six breeding \"epochs.\" Each epoch was initiated with a distinct cross of C57BL/6J and DBA/2J parents. BXDs in four of the epochs were generated following F2 crosses of C57BL/6J and DBA/2J, while BXDs in the other two were generated following advanced intercrosses. This breeding approach resulted in differences between the BXD epochs. For instance, BXDs derived in epochs 3 and 5 (from advanced intercross) harbor larger numbers of fixed recombination breakpoints compared to those from epochs 1, 2, 4, and 6 (Smith et al., 2021). Although the C57BL/6J and DBA/2J parents used to initialize each epoch were completely inbred, they each possessed a small number of unique *de novo* germline mutations that were subsequently inherited by many of their offspring. Several of these \"epoch-specific\" variants have also been associated with phenotypic variation observed between BXDs from different epochs (Smith et al., 2021; Johnson et al., 2019; Brown et al., 2019; White et al., 2020).')"
      ]
     },
     "metadata": {},
     "output_type": "display_data"
    }
   ],
   "source": [
    "display(paragraph_matches[-1])"
   ]
  },
  {
   "cell_type": "markdown",
   "id": "a0052547-f9d1-467a-ab60-153cf8f714c6",
   "metadata": {
    "editable": true,
    "papermill": {
     "duration": 0.039416,
     "end_time": "2024-03-23T05:14:03.613761",
     "exception": false,
     "start_time": "2024-03-23T05:14:03.574345",
     "status": "completed"
    },
    "slideshow": {
     "slide_type": ""
    },
    "tags": []
   },
   "source": [
    "####  Paragraph 10"
   ]
  },
  {
   "cell_type": "code",
   "execution_count": 253,
   "id": "1a0fb39c-c57d-430c-abf3-5432c15011f9",
   "metadata": {
    "execution": {
     "iopub.execute_input": "2024-03-23T05:14:03.694476Z",
     "iopub.status.busy": "2024-03-23T05:14:03.693994Z",
     "iopub.status.idle": "2024-03-23T05:14:03.697114Z",
     "shell.execute_reply": "2024-03-23T05:14:03.696669Z"
    },
    "papermill": {
     "duration": 0.044141,
     "end_time": "2024-03-23T05:14:03.697876",
     "exception": false,
     "start_time": "2024-03-23T05:14:03.653735",
     "status": "completed"
    },
    "tags": []
   },
   "outputs": [
    {
     "name": "stdout",
     "output_type": "stream",
     "text": [
      "To account for potential population structure, as well as these epoch-specific effects, we introduced the ability to perform stratified permutation tests in the aggregate mutation spectrum distance approach. Normally, in each of *N* permutations we shuffle the per-haplotype mutation spectrum data such that haplotype labels no longer correspond to the correct mutation spectra (i.e., shuffle mutation spectra *across* epochs). In the stratified approach, we instead shuffle per-haplotype mutation data *within* epochs, preserving epoch structure while still enabling mutation spectra permutations.\n"
     ]
    }
   ],
   "source": [
    "par0 = process_paragraph(orig_section_paragraphs[26])\n",
    "print(par0)"
   ]
  },
  {
   "cell_type": "code",
   "execution_count": 254,
   "id": "dd6a862a-5eb3-4846-bc18-098315165445",
   "metadata": {
    "execution": {
     "iopub.execute_input": "2024-03-23T05:14:03.778843Z",
     "iopub.status.busy": "2024-03-23T05:14:03.778618Z",
     "iopub.status.idle": "2024-03-23T05:14:03.781627Z",
     "shell.execute_reply": "2024-03-23T05:14:03.781179Z"
    },
    "papermill": {
     "duration": 0.044211,
     "end_time": "2024-03-23T05:14:03.782384",
     "exception": false,
     "start_time": "2024-03-23T05:14:03.738173",
     "status": "completed"
    },
    "tags": []
   },
   "outputs": [
    {
     "name": "stdout",
     "output_type": "stream",
     "text": [
      "To account for potential population structure, as well as epoch-specific effects, we introduced the ability to perform stratified permutation tests in the aggregate mutation spectrum distance approach. Normally, in each of *N* permutations, we shuffle the per-haplotype mutation spectrum data such that haplotype labels no longer correspond to the correct mutation spectra (i.e., shuffle mutation spectra *across* epochs). In the stratified approach, we instead shuffle per-haplotype mutation data *within* epochs, preserving epoch structure while still enabling mutation spectra permutations.\n"
     ]
    }
   ],
   "source": [
    "par1 = process_paragraph(\n",
    "    [\n",
    "        mod_section_paragraphs[40],\n",
    "        mod_section_paragraphs[41],\n",
    "    ]\n",
    ")\n",
    "print(par1)"
   ]
  },
  {
   "cell_type": "code",
   "execution_count": 255,
   "id": "8d2e1b7c-6569-49da-81c7-e3bd6d2e80a9",
   "metadata": {
    "execution": {
     "iopub.execute_input": "2024-03-23T05:14:03.890383Z",
     "iopub.status.busy": "2024-03-23T05:14:03.889882Z",
     "iopub.status.idle": "2024-03-23T05:14:03.892556Z",
     "shell.execute_reply": "2024-03-23T05:14:03.892122Z"
    },
    "papermill": {
     "duration": 0.070608,
     "end_time": "2024-03-23T05:14:03.893247",
     "exception": false,
     "start_time": "2024-03-23T05:14:03.822639",
     "status": "completed"
    },
    "tags": []
   },
   "outputs": [],
   "source": [
    "paragraph_matches.append(\n",
    "    (\n",
    "        section_name,\n",
    "        par0,\n",
    "        par1,\n",
    "    )\n",
    ")"
   ]
  },
  {
   "cell_type": "code",
   "execution_count": 256,
   "id": "98630379-9f40-4ebf-add8-43c2c40584cb",
   "metadata": {
    "execution": {
     "iopub.execute_input": "2024-03-23T05:14:03.974394Z",
     "iopub.status.busy": "2024-03-23T05:14:03.974010Z",
     "iopub.status.idle": "2024-03-23T05:14:03.977491Z",
     "shell.execute_reply": "2024-03-23T05:14:03.977061Z"
    },
    "papermill": {
     "duration": 0.044473,
     "end_time": "2024-03-23T05:14:03.978245",
     "exception": false,
     "start_time": "2024-03-23T05:14:03.933772",
     "status": "completed"
    },
    "tags": []
   },
   "outputs": [
    {
     "data": {
      "text/plain": [
       "('methods',\n",
       " 'To account for potential population structure, as well as these epoch-specific effects, we introduced the ability to perform stratified permutation tests in the aggregate mutation spectrum distance approach. Normally, in each of *N* permutations we shuffle the per-haplotype mutation spectrum data such that haplotype labels no longer correspond to the correct mutation spectra (i.e., shuffle mutation spectra *across* epochs). In the stratified approach, we instead shuffle per-haplotype mutation data *within* epochs, preserving epoch structure while still enabling mutation spectra permutations.',\n",
       " 'To account for potential population structure, as well as epoch-specific effects, we introduced the ability to perform stratified permutation tests in the aggregate mutation spectrum distance approach. Normally, in each of *N* permutations, we shuffle the per-haplotype mutation spectrum data such that haplotype labels no longer correspond to the correct mutation spectra (i.e., shuffle mutation spectra *across* epochs). In the stratified approach, we instead shuffle per-haplotype mutation data *within* epochs, preserving epoch structure while still enabling mutation spectra permutations.')"
      ]
     },
     "metadata": {},
     "output_type": "display_data"
    }
   ],
   "source": [
    "display(paragraph_matches[-1])"
   ]
  },
  {
   "cell_type": "markdown",
   "id": "b097a7b5-433c-4354-9a0e-46d324eb43c5",
   "metadata": {
    "editable": true,
    "papermill": {
     "duration": 0.039532,
     "end_time": "2024-03-23T05:14:04.058045",
     "exception": false,
     "start_time": "2024-03-23T05:14:04.018513",
     "status": "completed"
    },
    "slideshow": {
     "slide_type": ""
    },
    "tags": []
   },
   "source": [
    "####  Paragraph 11"
   ]
  },
  {
   "cell_type": "code",
   "execution_count": 257,
   "id": "d8d1aeb7-f731-4d87-9f1f-6510b39b17d0",
   "metadata": {
    "execution": {
     "iopub.execute_input": "2024-03-23T05:14:04.138558Z",
     "iopub.status.busy": "2024-03-23T05:14:04.138226Z",
     "iopub.status.idle": "2024-03-23T05:14:04.141120Z",
     "shell.execute_reply": "2024-03-23T05:14:04.140677Z"
    },
    "papermill": {
     "duration": 0.043915,
     "end_time": "2024-03-23T05:14:04.141836",
     "exception": false,
     "start_time": "2024-03-23T05:14:04.097921",
     "status": "completed"
    },
    "tags": []
   },
   "outputs": [
    {
     "name": "stdout",
     "output_type": "stream",
     "text": [
      "First, we simulate genotypes on a population of haplotypes at a collection of sites. We define a matrix $G$ of size $(s, h)$, where $s$ is the number of sites and $h$ is the number of haplotypes. We assume that every site is biallelic, and that the minor allele frequency at every site is 0.5. For every entry $G_{i,j}$, we take a single draw from a uniform distribution in the interval $[0.0, 1.0)$. If the value of that draw is less than 0.5, we assign the value of $G_{i,j}$ to be $1$. Otherwise, we assign the value of $G_{i,j}$ to be $0$.\n"
     ]
    }
   ],
   "source": [
    "par0 = process_paragraph(orig_section_paragraphs[34])\n",
    "print(par0)"
   ]
  },
  {
   "cell_type": "code",
   "execution_count": 258,
   "id": "a94a22c2-9c56-4ee7-b320-084f76b23f82",
   "metadata": {
    "execution": {
     "iopub.execute_input": "2024-03-23T05:14:04.223080Z",
     "iopub.status.busy": "2024-03-23T05:14:04.222750Z",
     "iopub.status.idle": "2024-03-23T05:14:04.225713Z",
     "shell.execute_reply": "2024-03-23T05:14:04.225298Z"
    },
    "papermill": {
     "duration": 0.044129,
     "end_time": "2024-03-23T05:14:04.226515",
     "exception": false,
     "start_time": "2024-03-23T05:14:04.182386",
     "status": "completed"
    },
    "tags": []
   },
   "outputs": [
    {
     "name": "stdout",
     "output_type": "stream",
     "text": [
      "First, genotypes are simulated on a population of haplotypes at a collection of sites. A matrix $G$ of size $(s, h)$ is defined, where $s$ represents the number of sites and $h$ represents the number of haplotypes. It is assumed that each site is biallelic, and the minor allele frequency at each site is 0.5. For each entry $G_{i,j}$, a single draw is taken from a uniform distribution in the interval $[0.0, 1.0)$. If the value of the draw is less than 0.5, the value of $G_{i,j}$ is assigned as $1$. Otherwise, the value of $G_{i,j}$ is assigned as $0$.\n"
     ]
    }
   ],
   "source": [
    "par1 = process_paragraph(\n",
    "    [\n",
    "        mod_section_paragraphs[50],\n",
    "        # mod_section_paragraphs[41],\n",
    "    ]\n",
    ")\n",
    "print(par1)"
   ]
  },
  {
   "cell_type": "code",
   "execution_count": 259,
   "id": "724e42e5-6f5f-4b1d-a1d3-2eb89e759ddd",
   "metadata": {
    "execution": {
     "iopub.execute_input": "2024-03-23T05:14:04.308119Z",
     "iopub.status.busy": "2024-03-23T05:14:04.307798Z",
     "iopub.status.idle": "2024-03-23T05:14:04.310340Z",
     "shell.execute_reply": "2024-03-23T05:14:04.309909Z"
    },
    "papermill": {
     "duration": 0.043636,
     "end_time": "2024-03-23T05:14:04.311087",
     "exception": false,
     "start_time": "2024-03-23T05:14:04.267451",
     "status": "completed"
    },
    "tags": []
   },
   "outputs": [],
   "source": [
    "paragraph_matches.append(\n",
    "    (\n",
    "        section_name,\n",
    "        par0,\n",
    "        par1,\n",
    "    )\n",
    ")"
   ]
  },
  {
   "cell_type": "code",
   "execution_count": 260,
   "id": "0a0499e5-8a18-4646-b81c-218a59647219",
   "metadata": {
    "execution": {
     "iopub.execute_input": "2024-03-23T05:14:04.392302Z",
     "iopub.status.busy": "2024-03-23T05:14:04.391839Z",
     "iopub.status.idle": "2024-03-23T05:14:04.395298Z",
     "shell.execute_reply": "2024-03-23T05:14:04.394877Z"
    },
    "papermill": {
     "duration": 0.044613,
     "end_time": "2024-03-23T05:14:04.395978",
     "exception": false,
     "start_time": "2024-03-23T05:14:04.351365",
     "status": "completed"
    },
    "tags": []
   },
   "outputs": [
    {
     "data": {
      "text/plain": [
       "('methods',\n",
       " 'First, we simulate genotypes on a population of haplotypes at a collection of sites. We define a matrix $G$ of size $(s, h)$, where $s$ is the number of sites and $h$ is the number of haplotypes. We assume that every site is biallelic, and that the minor allele frequency at every site is 0.5. For every entry $G_{i,j}$, we take a single draw from a uniform distribution in the interval $[0.0, 1.0)$. If the value of that draw is less than 0.5, we assign the value of $G_{i,j}$ to be $1$. Otherwise, we assign the value of $G_{i,j}$ to be $0$.',\n",
       " 'First, genotypes are simulated on a population of haplotypes at a collection of sites. A matrix $G$ of size $(s, h)$ is defined, where $s$ represents the number of sites and $h$ represents the number of haplotypes. It is assumed that each site is biallelic, and the minor allele frequency at each site is 0.5. For each entry $G_{i,j}$, a single draw is taken from a uniform distribution in the interval $[0.0, 1.0)$. If the value of the draw is less than 0.5, the value of $G_{i,j}$ is assigned as $1$. Otherwise, the value of $G_{i,j}$ is assigned as $0$.')"
      ]
     },
     "metadata": {},
     "output_type": "display_data"
    }
   ],
   "source": [
    "display(paragraph_matches[-1])"
   ]
  },
  {
   "cell_type": "markdown",
   "id": "cdf9073f-9cbf-4fcb-b5c1-92a102b7331f",
   "metadata": {
    "editable": true,
    "papermill": {
     "duration": 0.039918,
     "end_time": "2024-03-23T05:14:04.476455",
     "exception": false,
     "start_time": "2024-03-23T05:14:04.436537",
     "status": "completed"
    },
    "slideshow": {
     "slide_type": ""
    },
    "tags": []
   },
   "source": [
    "####  Paragraph 12"
   ]
  },
  {
   "cell_type": "code",
   "execution_count": 261,
   "id": "86b9d139-68d5-4567-91a2-6ec579fcc59d",
   "metadata": {
    "execution": {
     "iopub.execute_input": "2024-03-23T05:14:04.557471Z",
     "iopub.status.busy": "2024-03-23T05:14:04.557067Z",
     "iopub.status.idle": "2024-03-23T05:14:04.560093Z",
     "shell.execute_reply": "2024-03-23T05:14:04.559648Z"
    },
    "papermill": {
     "duration": 0.044208,
     "end_time": "2024-03-23T05:14:04.560836",
     "exception": false,
     "start_time": "2024-03-23T05:14:04.516628",
     "status": "completed"
    },
    "tags": []
   },
   "outputs": [
    {
     "name": "stdout",
     "output_type": "stream",
     "text": [
      "Rather than simulate the same mean number of mutations ($m$) on every haplotype, we also performed a series of simulations in which the mean number of mutations on each haplotype was allowed to vary. The BXD RILs were inbred for variable numbers of generations, and each BXD therefore accumulated a variable number of *de novo* germline mutations [@PMID:35545679]. To more closely approximate the BXD haplotypes, we performed simulations in which the number of mutations ($m$) on each haplotype was drawn from a uniform distribution from $m$ to $20m$. In other words, we created a vector of mutation counts $M$ containing $h$ evenly-spaced integers from $m$ to $20m$, where $h$ is the number of simulated haplotypes. Thus, if we simulated between 100 and 2,000 mutations on 50 haplotypes, the $i$th entry of $M$ would be $100 + \\frac{(2,000 - 100)}{50}i$. Each haplotype's mean number of mutations was then assigned by looking up the haplotype's index $i$ in $M$.\n"
     ]
    }
   ],
   "source": [
    "par0 = process_paragraph(orig_section_paragraphs[41])\n",
    "print(par0)"
   ]
  },
  {
   "cell_type": "code",
   "execution_count": 262,
   "id": "628caf2d-ff8b-498c-b84b-ea08ecc8f1e8",
   "metadata": {
    "execution": {
     "iopub.execute_input": "2024-03-23T05:14:04.643276Z",
     "iopub.status.busy": "2024-03-23T05:14:04.642890Z",
     "iopub.status.idle": "2024-03-23T05:14:04.646235Z",
     "shell.execute_reply": "2024-03-23T05:14:04.645772Z"
    },
    "papermill": {
     "duration": 0.045508,
     "end_time": "2024-03-23T05:14:04.646999",
     "exception": false,
     "start_time": "2024-03-23T05:14:04.601491",
     "status": "completed"
    },
    "tags": []
   },
   "outputs": [
    {
     "name": "stdout",
     "output_type": "stream",
     "text": [
      "Rather than simulating the same mean number of mutations ($m$) on every haplotype, a series of simulations were conducted where the mean number of mutations on each haplotype varied. The BXD RILs were inbred for variable numbers of generations, resulting in each BXD accumulating a variable number of *de novo* germline mutations (Jones et al., 2021). To better represent the BXD haplotypes, simulations were carried out where the number of mutations ($m$) on each haplotype was randomly selected from a uniform distribution ranging from $m$ to $20m$. Specifically, a vector of mutation counts $M$ was created, containing $h$ evenly-spaced integers from $m$ to $20m$, where $h$ represents the number of simulated haplotypes. Therefore, if simulations were performed with a range of 100 to 2,000 mutations on 50 haplotypes, the $i$th entry of $M$ would be $100 + \\frac{(2,000 - 100)}{50}i$. Subsequently, each haplotype's mean number of mutations was determined by referencing the haplotype's index $i$ in $M$.\n"
     ]
    }
   ],
   "source": [
    "par1 = process_paragraph(\n",
    "    [\n",
    "        mod_section_paragraphs[58],\n",
    "        # mod_section_paragraphs[41],\n",
    "    ]\n",
    ")\n",
    "print(par1)"
   ]
  },
  {
   "cell_type": "code",
   "execution_count": 263,
   "id": "b46c2e64-da2b-4f4a-af5b-c190d53dee2c",
   "metadata": {
    "execution": {
     "iopub.execute_input": "2024-03-23T05:14:04.728435Z",
     "iopub.status.busy": "2024-03-23T05:14:04.727974Z",
     "iopub.status.idle": "2024-03-23T05:14:04.730747Z",
     "shell.execute_reply": "2024-03-23T05:14:04.730319Z"
    },
    "papermill": {
     "duration": 0.043855,
     "end_time": "2024-03-23T05:14:04.731490",
     "exception": false,
     "start_time": "2024-03-23T05:14:04.687635",
     "status": "completed"
    },
    "tags": []
   },
   "outputs": [],
   "source": [
    "paragraph_matches.append(\n",
    "    (\n",
    "        section_name,\n",
    "        par0,\n",
    "        par1,\n",
    "    )\n",
    ")"
   ]
  },
  {
   "cell_type": "code",
   "execution_count": 264,
   "id": "8d7eec5b-1e20-45ff-b603-bcabf45b0430",
   "metadata": {
    "execution": {
     "iopub.execute_input": "2024-03-23T05:14:04.840621Z",
     "iopub.status.busy": "2024-03-23T05:14:04.840278Z",
     "iopub.status.idle": "2024-03-23T05:14:04.843812Z",
     "shell.execute_reply": "2024-03-23T05:14:04.843389Z"
    },
    "papermill": {
     "duration": 0.045084,
     "end_time": "2024-03-23T05:14:04.844558",
     "exception": false,
     "start_time": "2024-03-23T05:14:04.799474",
     "status": "completed"
    },
    "tags": []
   },
   "outputs": [
    {
     "data": {
      "text/plain": [
       "('methods',\n",
       " \"Rather than simulate the same mean number of mutations ($m$) on every haplotype, we also performed a series of simulations in which the mean number of mutations on each haplotype was allowed to vary. The BXD RILs were inbred for variable numbers of generations, and each BXD therefore accumulated a variable number of *de novo* germline mutations [@PMID:35545679]. To more closely approximate the BXD haplotypes, we performed simulations in which the number of mutations ($m$) on each haplotype was drawn from a uniform distribution from $m$ to $20m$. In other words, we created a vector of mutation counts $M$ containing $h$ evenly-spaced integers from $m$ to $20m$, where $h$ is the number of simulated haplotypes. Thus, if we simulated between 100 and 2,000 mutations on 50 haplotypes, the $i$th entry of $M$ would be $100 + \\\\frac{(2,000 - 100)}{50}i$. Each haplotype's mean number of mutations was then assigned by looking up the haplotype's index $i$ in $M$.\",\n",
       " \"Rather than simulating the same mean number of mutations ($m$) on every haplotype, a series of simulations were conducted where the mean number of mutations on each haplotype varied. The BXD RILs were inbred for variable numbers of generations, resulting in each BXD accumulating a variable number of *de novo* germline mutations (Jones et al., 2021). To better represent the BXD haplotypes, simulations were carried out where the number of mutations ($m$) on each haplotype was randomly selected from a uniform distribution ranging from $m$ to $20m$. Specifically, a vector of mutation counts $M$ was created, containing $h$ evenly-spaced integers from $m$ to $20m$, where $h$ represents the number of simulated haplotypes. Therefore, if simulations were performed with a range of 100 to 2,000 mutations on 50 haplotypes, the $i$th entry of $M$ would be $100 + \\\\frac{(2,000 - 100)}{50}i$. Subsequently, each haplotype's mean number of mutations was determined by referencing the haplotype's index $i$ in $M$.\")"
      ]
     },
     "metadata": {},
     "output_type": "display_data"
    }
   ],
   "source": [
    "display(paragraph_matches[-1])"
   ]
  },
  {
   "cell_type": "markdown",
   "id": "91f1f902-0af2-419f-8825-fb95629e2c89",
   "metadata": {
    "editable": true,
    "papermill": {
     "duration": 0.040097,
     "end_time": "2024-03-23T05:14:04.925306",
     "exception": false,
     "start_time": "2024-03-23T05:14:04.885209",
     "status": "completed"
    },
    "slideshow": {
     "slide_type": ""
    },
    "tags": []
   },
   "source": [
    "####  Paragraph 13"
   ]
  },
  {
   "cell_type": "code",
   "execution_count": 265,
   "id": "18e906a9-ff0b-44d6-9f22-9a469c605518",
   "metadata": {
    "execution": {
     "iopub.execute_input": "2024-03-23T05:14:05.006856Z",
     "iopub.status.busy": "2024-03-23T05:14:05.006360Z",
     "iopub.status.idle": "2024-03-23T05:14:05.009425Z",
     "shell.execute_reply": "2024-03-23T05:14:05.008972Z"
    },
    "papermill": {
     "duration": 0.044538,
     "end_time": "2024-03-23T05:14:05.010162",
     "exception": false,
     "start_time": "2024-03-23T05:14:04.965624",
     "status": "completed"
    },
    "tags": []
   },
   "outputs": [
    {
     "name": "stdout",
     "output_type": "stream",
     "text": [
      "In our simulations, we assume that genotypes at a single site (the \"mutator locus\") are associated with variation in the mutation spectrum. That is, at a single site $s_i$, all of the haplotypes with $1$ alleles should have elevated rates of a particular mutation type and draw their mutation counts from $\\lambda^{\\prime}$, while all of the haplotypes with $0$ alleles should have \"wild-type\" rates of that mutation type and draw their mutation counts from $\\lambda$. We therefore pick a random site $s_i$ to be the \"mutator locus,\" and identify the indices of haplotypes in $G$ that were assigned $1$ alleles at $s_i$. We call these indices $h_{mut}$.\n"
     ]
    }
   ],
   "source": [
    "par0 = process_paragraph(orig_section_paragraphs[42])\n",
    "print(par0)"
   ]
  },
  {
   "cell_type": "code",
   "execution_count": 266,
   "id": "3479b6ea-0dd0-49e0-a69b-122b73bdb363",
   "metadata": {
    "execution": {
     "iopub.execute_input": "2024-03-23T05:14:05.091724Z",
     "iopub.status.busy": "2024-03-23T05:14:05.091300Z",
     "iopub.status.idle": "2024-03-23T05:14:05.094501Z",
     "shell.execute_reply": "2024-03-23T05:14:05.094047Z"
    },
    "papermill": {
     "duration": 0.044625,
     "end_time": "2024-03-23T05:14:05.095210",
     "exception": false,
     "start_time": "2024-03-23T05:14:05.050585",
     "status": "completed"
    },
    "tags": []
   },
   "outputs": [
    {
     "name": "stdout",
     "output_type": "stream",
     "text": [
      "In our simulations, we assume that genotypes at a single site (the \"mutator locus\") are associated with variation in the mutation spectrum. That is, at a single site $s_i$, all of the haplotypes with $1$ alleles should have elevated rates of a particular mutation type and draw their mutation counts from $\\lambda^{\\prime}$, while all of the haplotypes with $0$ alleles should have \"wild-type\" rates of that mutation type and draw their mutation counts from $\\lambda$. We therefore pick a random site $s_i$ to be the \"mutator locus,\" and identify the indices of haplotypes in $G$ that were assigned $1$ alleles at $s_i$. We call these indices $h_{mut}$.\n"
     ]
    }
   ],
   "source": [
    "par1 = process_paragraph(\n",
    "    mod_section_paragraphs[61:63],\n",
    "    # mod_section_paragraphs[41],\n",
    ")\n",
    "print(par1)"
   ]
  },
  {
   "cell_type": "code",
   "execution_count": 267,
   "id": "01cb5444-171d-4ab1-a976-202640acf67c",
   "metadata": {
    "execution": {
     "iopub.execute_input": "2024-03-23T05:14:05.176655Z",
     "iopub.status.busy": "2024-03-23T05:14:05.176315Z",
     "iopub.status.idle": "2024-03-23T05:14:05.178933Z",
     "shell.execute_reply": "2024-03-23T05:14:05.178495Z"
    },
    "papermill": {
     "duration": 0.044117,
     "end_time": "2024-03-23T05:14:05.179682",
     "exception": false,
     "start_time": "2024-03-23T05:14:05.135565",
     "status": "completed"
    },
    "tags": []
   },
   "outputs": [],
   "source": [
    "paragraph_matches.append(\n",
    "    (\n",
    "        section_name,\n",
    "        par0,\n",
    "        par1,\n",
    "    )\n",
    ")"
   ]
  },
  {
   "cell_type": "code",
   "execution_count": 268,
   "id": "c9949a21-3419-4685-ae5e-c431d7cbb2d4",
   "metadata": {
    "execution": {
     "iopub.execute_input": "2024-03-23T05:14:05.261363Z",
     "iopub.status.busy": "2024-03-23T05:14:05.261050Z",
     "iopub.status.idle": "2024-03-23T05:14:05.264535Z",
     "shell.execute_reply": "2024-03-23T05:14:05.264106Z"
    },
    "papermill": {
     "duration": 0.045095,
     "end_time": "2024-03-23T05:14:05.265282",
     "exception": false,
     "start_time": "2024-03-23T05:14:05.220187",
     "status": "completed"
    },
    "tags": []
   },
   "outputs": [
    {
     "data": {
      "text/plain": [
       "('methods',\n",
       " 'In our simulations, we assume that genotypes at a single site (the \"mutator locus\") are associated with variation in the mutation spectrum. That is, at a single site $s_i$, all of the haplotypes with $1$ alleles should have elevated rates of a particular mutation type and draw their mutation counts from $\\\\lambda^{\\\\prime}$, while all of the haplotypes with $0$ alleles should have \"wild-type\" rates of that mutation type and draw their mutation counts from $\\\\lambda$. We therefore pick a random site $s_i$ to be the \"mutator locus,\" and identify the indices of haplotypes in $G$ that were assigned $1$ alleles at $s_i$. We call these indices $h_{mut}$.',\n",
       " 'In our simulations, we assume that genotypes at a single site (the \"mutator locus\") are associated with variation in the mutation spectrum. That is, at a single site $s_i$, all of the haplotypes with $1$ alleles should have elevated rates of a particular mutation type and draw their mutation counts from $\\\\lambda^{\\\\prime}$, while all of the haplotypes with $0$ alleles should have \"wild-type\" rates of that mutation type and draw their mutation counts from $\\\\lambda$. We therefore pick a random site $s_i$ to be the \"mutator locus,\" and identify the indices of haplotypes in $G$ that were assigned $1$ alleles at $s_i$. We call these indices $h_{mut}$.')"
      ]
     },
     "metadata": {},
     "output_type": "display_data"
    }
   ],
   "source": [
    "display(paragraph_matches[-1])"
   ]
  },
  {
   "cell_type": "markdown",
   "id": "3bd654e0-5f3d-4764-902e-eb65c7bd0ed7",
   "metadata": {
    "editable": true,
    "papermill": {
     "duration": 0.040582,
     "end_time": "2024-03-23T05:14:05.346433",
     "exception": false,
     "start_time": "2024-03-23T05:14:05.305851",
     "status": "completed"
    },
    "slideshow": {
     "slide_type": ""
    },
    "tags": []
   },
   "source": [
    "####  Paragraph 14"
   ]
  },
  {
   "cell_type": "code",
   "execution_count": 269,
   "id": "1a84de45-ffae-4dfa-a92b-1d25ad184bc4",
   "metadata": {
    "execution": {
     "iopub.execute_input": "2024-03-23T05:14:05.427593Z",
     "iopub.status.busy": "2024-03-23T05:14:05.427254Z",
     "iopub.status.idle": "2024-03-23T05:14:05.430214Z",
     "shell.execute_reply": "2024-03-23T05:14:05.429741Z"
    },
    "papermill": {
     "duration": 0.044082,
     "end_time": "2024-03-23T05:14:05.430967",
     "exception": false,
     "start_time": "2024-03-23T05:14:05.386885",
     "status": "completed"
    },
    "tags": []
   },
   "outputs": [
    {
     "name": "stdout",
     "output_type": "stream",
     "text": [
      "For each combination of parameters (number of simulated haplotypes, number of simulated markers, mutator effect size, etc.), we run 100 independent trials. In each trial, we simulate the genotype matrix $G$ and the mutation counts $C$. We calculate a \"focal\" cosine distance as the cosine distance between the aggregate mutation spectra of haplotypes with either genotype at $s_i$ (the site at which we artificially simulated an association between genotypes and mutation spectrum variation). We then perform an aggregate mutation spectrum distance scan using $N = 1,000$ permutations. If fewer than 5% of the $N$ permutations produced a cosine distance greater than or equal to the focal distance, we say that the approach successfully identified the mutator allele in that trial.\n"
     ]
    }
   ],
   "source": [
    "par0 = process_paragraph(orig_section_paragraphs[47])\n",
    "print(par0)"
   ]
  },
  {
   "cell_type": "code",
   "execution_count": 270,
   "id": "c4d53fcb-5167-4c48-900d-d9c50469768d",
   "metadata": {
    "execution": {
     "iopub.execute_input": "2024-03-23T05:14:05.512686Z",
     "iopub.status.busy": "2024-03-23T05:14:05.512506Z",
     "iopub.status.idle": "2024-03-23T05:14:05.515494Z",
     "shell.execute_reply": "2024-03-23T05:14:05.515057Z"
    },
    "papermill": {
     "duration": 0.044472,
     "end_time": "2024-03-23T05:14:05.516218",
     "exception": false,
     "start_time": "2024-03-23T05:14:05.471746",
     "status": "completed"
    },
    "tags": []
   },
   "outputs": [
    {
     "name": "stdout",
     "output_type": "stream",
     "text": [
      "For each combination of parameters (number of simulated haplotypes, number of simulated markers, mutator effect size, etc.), we conduct 100 independent trials. Within each trial, we generate the genotype matrix $G$ and the mutation counts $C$. A \"focal\" cosine distance is computed as the cosine distance between the aggregate mutation spectra of haplotypes with either genotype at $s_i$ (the site at which an association between genotypes and mutation spectrum variation was artificially induced). Subsequently, an aggregate mutation spectrum distance scan is carried out using $N = 1,000$ permutations. If less than 5% of the $N$ permutations result in a cosine distance greater than or equal to the focal distance, we conclude that the method successfully identified the mutator allele in that specific trial.\n"
     ]
    }
   ],
   "source": [
    "par1 = process_paragraph(\n",
    "    mod_section_paragraphs[71],\n",
    "    # mod_section_paragraphs[41],\n",
    ")\n",
    "print(par1)"
   ]
  },
  {
   "cell_type": "code",
   "execution_count": 271,
   "id": "a15db91e-c5cd-4ccb-8369-d2d6338084b2",
   "metadata": {
    "execution": {
     "iopub.execute_input": "2024-03-23T05:14:05.598065Z",
     "iopub.status.busy": "2024-03-23T05:14:05.597685Z",
     "iopub.status.idle": "2024-03-23T05:14:05.600303Z",
     "shell.execute_reply": "2024-03-23T05:14:05.599868Z"
    },
    "papermill": {
     "duration": 0.043923,
     "end_time": "2024-03-23T05:14:05.601037",
     "exception": false,
     "start_time": "2024-03-23T05:14:05.557114",
     "status": "completed"
    },
    "tags": []
   },
   "outputs": [],
   "source": [
    "paragraph_matches.append(\n",
    "    (\n",
    "        section_name,\n",
    "        par0,\n",
    "        par1,\n",
    "    )\n",
    ")"
   ]
  },
  {
   "cell_type": "code",
   "execution_count": 272,
   "id": "f4e8a660-2807-4ff7-b013-19331f343806",
   "metadata": {
    "execution": {
     "iopub.execute_input": "2024-03-23T05:14:05.710035Z",
     "iopub.status.busy": "2024-03-23T05:14:05.709850Z",
     "iopub.status.idle": "2024-03-23T05:14:05.713347Z",
     "shell.execute_reply": "2024-03-23T05:14:05.712917Z"
    },
    "papermill": {
     "duration": 0.045293,
     "end_time": "2024-03-23T05:14:05.714052",
     "exception": false,
     "start_time": "2024-03-23T05:14:05.668759",
     "status": "completed"
    },
    "tags": []
   },
   "outputs": [
    {
     "data": {
      "text/plain": [
       "('methods',\n",
       " 'For each combination of parameters (number of simulated haplotypes, number of simulated markers, mutator effect size, etc.), we run 100 independent trials. In each trial, we simulate the genotype matrix $G$ and the mutation counts $C$. We calculate a \"focal\" cosine distance as the cosine distance between the aggregate mutation spectra of haplotypes with either genotype at $s_i$ (the site at which we artificially simulated an association between genotypes and mutation spectrum variation). We then perform an aggregate mutation spectrum distance scan using $N = 1,000$ permutations. If fewer than 5% of the $N$ permutations produced a cosine distance greater than or equal to the focal distance, we say that the approach successfully identified the mutator allele in that trial.',\n",
       " 'For each combination of parameters (number of simulated haplotypes, number of simulated markers, mutator effect size, etc.), we conduct 100 independent trials. Within each trial, we generate the genotype matrix $G$ and the mutation counts $C$. A \"focal\" cosine distance is computed as the cosine distance between the aggregate mutation spectra of haplotypes with either genotype at $s_i$ (the site at which an association between genotypes and mutation spectrum variation was artificially induced). Subsequently, an aggregate mutation spectrum distance scan is carried out using $N = 1,000$ permutations. If less than 5% of the $N$ permutations result in a cosine distance greater than or equal to the focal distance, we conclude that the method successfully identified the mutator allele in that specific trial.')"
      ]
     },
     "metadata": {},
     "output_type": "display_data"
    }
   ],
   "source": [
    "display(paragraph_matches[-1])"
   ]
  },
  {
   "cell_type": "markdown",
   "id": "8a0e5921-47f0-49c3-acb4-d34b17104dec",
   "metadata": {
    "editable": true,
    "papermill": {
     "duration": 0.041979,
     "end_time": "2024-03-23T05:14:05.798000",
     "exception": false,
     "start_time": "2024-03-23T05:14:05.756021",
     "status": "completed"
    },
    "slideshow": {
     "slide_type": ""
    },
    "tags": []
   },
   "source": [
    "####  Paragraph 15"
   ]
  },
  {
   "cell_type": "code",
   "execution_count": 273,
   "id": "9557f91e-fcda-4a3b-92a1-9d0b7c2f40f3",
   "metadata": {
    "execution": {
     "iopub.execute_input": "2024-03-23T05:14:05.885343Z",
     "iopub.status.busy": "2024-03-23T05:14:05.885160Z",
     "iopub.status.idle": "2024-03-23T05:14:05.888176Z",
     "shell.execute_reply": "2024-03-23T05:14:05.887738Z"
    },
    "papermill": {
     "duration": 0.045071,
     "end_time": "2024-03-23T05:14:05.888923",
     "exception": false,
     "start_time": "2024-03-23T05:14:05.843852",
     "status": "completed"
    },
    "tags": []
   },
   "outputs": [
    {
     "name": "stdout",
     "output_type": "stream",
     "text": [
      "Using simulated data, we also assessed the power of traditional quantitative trait locus (QTL) mapping to detect a locus associated with mutation spectrum variation. As described above, we simulated both genotype and mutation spectra for a population of haplotypes under various conditions (number of mutations per haplotype, mutator effect size, etc.). Using those simulated data, we used R/qtl2 [@PMID:30591514] to perform a genome scan for significant QTL as follows; we assume that the simulated genotype markers are evenly spaced (in physical Mbp coordinates) on a single chromosome. First, we calculate the fraction of each haplotype's *de novo* mutations that belong to each of the $6 \\times 4^{k-1}$ possible $k$-mer mutation types. We then convert the simulated genotypes at each marker to genotype probabilities using the `calc_genoprob` function in R/qtl2, with `map_function = \"c-f\"` and `error_prob = 0`. For every $k$-mer mutation type, we use genotype probabilities and per-haplotype mutation fractions to perform a scan for QTL with the `scan1` function; to make the results more comparable to those from the AMSD method, we do not include any covariates or kinship matrices in these QTL scans. We then use the `scan1perm` function to perform 1,000 permutations of the per-haplotype mutation fractions and calculate log-odds (LOD) thresholds for significance. We consider the QTL scan to be \"successful\" if it produces a LOD score above the significance threshold (defined using $\\alpha = \\frac{0.05}{7}$) for the marker at which we simulated an association with mutation spectrum variation.\n"
     ]
    }
   ],
   "source": [
    "par0 = process_paragraph(orig_section_paragraphs[49])\n",
    "print(par0)"
   ]
  },
  {
   "cell_type": "code",
   "execution_count": 274,
   "id": "06383a4c-e609-4401-880a-087219966df3",
   "metadata": {
    "execution": {
     "iopub.execute_input": "2024-03-23T05:14:05.971304Z",
     "iopub.status.busy": "2024-03-23T05:14:05.970992Z",
     "iopub.status.idle": "2024-03-23T05:14:05.973952Z",
     "shell.execute_reply": "2024-03-23T05:14:05.973490Z"
    },
    "papermill": {
     "duration": 0.044818,
     "end_time": "2024-03-23T05:14:05.974727",
     "exception": false,
     "start_time": "2024-03-23T05:14:05.929909",
     "status": "completed"
    },
    "tags": []
   },
   "outputs": [
    {
     "name": "stdout",
     "output_type": "stream",
     "text": [
      "Using simulated data, we also evaluated the effectiveness of traditional quantitative trait locus (QTL) mapping in identifying a locus linked to mutation spectrum variability. As previously mentioned, we generated simulated genotype and mutation spectra for a haplotype population under different conditions, such as the number of mutations per haplotype and the mutator effect size. With these simulated data, we employed R/qtl2 (Broman et al., 2019) to conduct a genome scan for significant QTL. In this analysis, we assumed that the simulated genotype markers were evenly distributed along a single chromosome in physical Mbp coordinates. First, we determined the proportion of each haplotype's *de novo* mutations attributed to each of the $6 \\times 4^{k-1}$ potential $k$-mer mutation types. Subsequently, we converted the simulated genotypes at each marker into genotype probabilities using the `calc_genoprob` function in R/qtl2, utilizing `map_function = \"c-f\"` and `error_prob = 0`. For each $k$-mer mutation type, we utilized genotype probabilities and per-haplotype mutation fractions to conduct a QTL scan with the `scan1` function. To ensure comparability with results from the AMSD method, we refrained from incorporating covariates or kinship matrices in these QTL scans. Next, we employed the `scan1perm` function to carry out 1,000 permutations of the per-haplotype mutation fractions and compute log-odds (LOD) thresholds for significance. A QTL scan was deemed \"successful\" if it yielded a LOD score surpassing the significance threshold (defined using $\\alpha = \\frac{0.05}{7}$) for the marker where we simulated an association with mutation spectrum variability.\n"
     ]
    }
   ],
   "source": [
    "par1 = process_paragraph(\n",
    "    mod_section_paragraphs[73:76],\n",
    "    # mod_section_paragraphs[41],\n",
    ")\n",
    "print(par1)"
   ]
  },
  {
   "cell_type": "code",
   "execution_count": 275,
   "id": "62578397-7d7f-4e18-aa2b-008dff020795",
   "metadata": {
    "execution": {
     "iopub.execute_input": "2024-03-23T05:14:06.058054Z",
     "iopub.status.busy": "2024-03-23T05:14:06.057573Z",
     "iopub.status.idle": "2024-03-23T05:14:06.060407Z",
     "shell.execute_reply": "2024-03-23T05:14:06.059960Z"
    },
    "papermill": {
     "duration": 0.04515,
     "end_time": "2024-03-23T05:14:06.061126",
     "exception": false,
     "start_time": "2024-03-23T05:14:06.015976",
     "status": "completed"
    },
    "tags": []
   },
   "outputs": [],
   "source": [
    "paragraph_matches.append(\n",
    "    (\n",
    "        section_name,\n",
    "        par0,\n",
    "        par1,\n",
    "    )\n",
    ")"
   ]
  },
  {
   "cell_type": "code",
   "execution_count": 276,
   "id": "bbb0b44e-3a69-4743-bd0d-1d1795653b2a",
   "metadata": {
    "execution": {
     "iopub.execute_input": "2024-03-23T05:14:06.143014Z",
     "iopub.status.busy": "2024-03-23T05:14:06.142822Z",
     "iopub.status.idle": "2024-03-23T05:14:06.146389Z",
     "shell.execute_reply": "2024-03-23T05:14:06.145944Z"
    },
    "papermill": {
     "duration": 0.045154,
     "end_time": "2024-03-23T05:14:06.147137",
     "exception": false,
     "start_time": "2024-03-23T05:14:06.101983",
     "status": "completed"
    },
    "tags": []
   },
   "outputs": [
    {
     "data": {
      "text/plain": [
       "('methods',\n",
       " 'Using simulated data, we also assessed the power of traditional quantitative trait locus (QTL) mapping to detect a locus associated with mutation spectrum variation. As described above, we simulated both genotype and mutation spectra for a population of haplotypes under various conditions (number of mutations per haplotype, mutator effect size, etc.). Using those simulated data, we used R/qtl2 [@PMID:30591514] to perform a genome scan for significant QTL as follows; we assume that the simulated genotype markers are evenly spaced (in physical Mbp coordinates) on a single chromosome. First, we calculate the fraction of each haplotype\\'s *de novo* mutations that belong to each of the $6 \\\\times 4^{k-1}$ possible $k$-mer mutation types. We then convert the simulated genotypes at each marker to genotype probabilities using the `calc_genoprob` function in R/qtl2, with `map_function = \"c-f\"` and `error_prob = 0`. For every $k$-mer mutation type, we use genotype probabilities and per-haplotype mutation fractions to perform a scan for QTL with the `scan1` function; to make the results more comparable to those from the AMSD method, we do not include any covariates or kinship matrices in these QTL scans. We then use the `scan1perm` function to perform 1,000 permutations of the per-haplotype mutation fractions and calculate log-odds (LOD) thresholds for significance. We consider the QTL scan to be \"successful\" if it produces a LOD score above the significance threshold (defined using $\\\\alpha = \\\\frac{0.05}{7}$) for the marker at which we simulated an association with mutation spectrum variation.',\n",
       " 'Using simulated data, we also evaluated the effectiveness of traditional quantitative trait locus (QTL) mapping in identifying a locus linked to mutation spectrum variability. As previously mentioned, we generated simulated genotype and mutation spectra for a haplotype population under different conditions, such as the number of mutations per haplotype and the mutator effect size. With these simulated data, we employed R/qtl2 (Broman et al., 2019) to conduct a genome scan for significant QTL. In this analysis, we assumed that the simulated genotype markers were evenly distributed along a single chromosome in physical Mbp coordinates. First, we determined the proportion of each haplotype\\'s *de novo* mutations attributed to each of the $6 \\\\times 4^{k-1}$ potential $k$-mer mutation types. Subsequently, we converted the simulated genotypes at each marker into genotype probabilities using the `calc_genoprob` function in R/qtl2, utilizing `map_function = \"c-f\"` and `error_prob = 0`. For each $k$-mer mutation type, we utilized genotype probabilities and per-haplotype mutation fractions to conduct a QTL scan with the `scan1` function. To ensure comparability with results from the AMSD method, we refrained from incorporating covariates or kinship matrices in these QTL scans. Next, we employed the `scan1perm` function to carry out 1,000 permutations of the per-haplotype mutation fractions and compute log-odds (LOD) thresholds for significance. A QTL scan was deemed \"successful\" if it yielded a LOD score surpassing the significance threshold (defined using $\\\\alpha = \\\\frac{0.05}{7}$) for the marker where we simulated an association with mutation spectrum variability.')"
      ]
     },
     "metadata": {},
     "output_type": "display_data"
    }
   ],
   "source": [
    "display(paragraph_matches[-1])"
   ]
  },
  {
   "cell_type": "markdown",
   "id": "9131abe6-9365-4f47-a161-772429f056cd",
   "metadata": {
    "editable": true,
    "papermill": {
     "duration": 0.040783,
     "end_time": "2024-03-23T05:14:06.228832",
     "exception": false,
     "start_time": "2024-03-23T05:14:06.188049",
     "status": "completed"
    },
    "slideshow": {
     "slide_type": ""
    },
    "tags": []
   },
   "source": [
    "####  Paragraph 16"
   ]
  },
  {
   "cell_type": "code",
   "execution_count": 277,
   "id": "1c94def7-5615-4dcb-aa64-1bf34f9ef911",
   "metadata": {
    "execution": {
     "iopub.execute_input": "2024-03-23T05:14:06.310920Z",
     "iopub.status.busy": "2024-03-23T05:14:06.310727Z",
     "iopub.status.idle": "2024-03-23T05:14:06.313731Z",
     "shell.execute_reply": "2024-03-23T05:14:06.313285Z"
    },
    "papermill": {
     "duration": 0.045022,
     "end_time": "2024-03-23T05:14:06.314497",
     "exception": false,
     "start_time": "2024-03-23T05:14:06.269475",
     "status": "completed"
    },
    "tags": []
   },
   "outputs": [
    {
     "name": "stdout",
     "output_type": "stream",
     "text": [
      "**Note**: In our simulations, we augment the mutation rate of a single $k$-mer mutation type on haplotypes carrying the simulated mutator allele. However, in an experimental setting, we would not expect to have *a priori* knowledge of the mutation type affected by the mutator. Thus, by using an alpha threshold of 0.05 in our simulations, we would likely over-estimate the power of QTL mapping for detecting the mutator. Since we would need to perform 7 separate QTL scans (one for each 1-mer mutation type plus CpG>TpG) in an experimental setting, we calculate QTL LOD thresholds at a Bonferroni-corrected alpha value of $\\alpha = \\frac{0.05}{7}$.\n"
     ]
    }
   ],
   "source": [
    "par0 = process_paragraph(orig_section_paragraphs[50])\n",
    "print(par0)"
   ]
  },
  {
   "cell_type": "code",
   "execution_count": 278,
   "id": "77ea7dbc-8839-4339-a93e-f819404961ae",
   "metadata": {
    "execution": {
     "iopub.execute_input": "2024-03-23T05:14:06.397170Z",
     "iopub.status.busy": "2024-03-23T05:14:06.396980Z",
     "iopub.status.idle": "2024-03-23T05:14:06.400020Z",
     "shell.execute_reply": "2024-03-23T05:14:06.399579Z"
    },
    "papermill": {
     "duration": 0.044768,
     "end_time": "2024-03-23T05:14:06.400758",
     "exception": false,
     "start_time": "2024-03-23T05:14:06.355990",
     "status": "completed"
    },
    "tags": []
   },
   "outputs": [
    {
     "name": "stdout",
     "output_type": "stream",
     "text": [
      "In our simulations, we increase the mutation rate of a single $k$-mer mutation type on haplotypes carrying the simulated mutator allele. However, in an experimental setting, we would not expect to have prior knowledge of the mutation type affected by the mutator. Thus, by using an alpha threshold of 0.05 in our simulations, we would likely overestimate the power of QTL mapping for detecting the mutator. Since we would need to perform 7 separate QTL scans (one for each 1-mer mutation type plus CpG>TpG) in an experimental setting, we calculate QTL LOD thresholds at a Bonferroni-corrected alpha value of $\\alpha = \\frac{0.05}{7}$.\n"
     ]
    }
   ],
   "source": [
    "par1 = process_paragraph(\n",
    "    mod_section_paragraphs[76],\n",
    "    # mod_section_paragraphs[41],\n",
    ")\n",
    "print(par1)"
   ]
  },
  {
   "cell_type": "code",
   "execution_count": 279,
   "id": "04cc4e7c-c55f-4215-91c5-95bdf612a027",
   "metadata": {
    "execution": {
     "iopub.execute_input": "2024-03-23T05:14:06.483124Z",
     "iopub.status.busy": "2024-03-23T05:14:06.482936Z",
     "iopub.status.idle": "2024-03-23T05:14:06.485585Z",
     "shell.execute_reply": "2024-03-23T05:14:06.485144Z"
    },
    "papermill": {
     "duration": 0.044471,
     "end_time": "2024-03-23T05:14:06.486275",
     "exception": false,
     "start_time": "2024-03-23T05:14:06.441804",
     "status": "completed"
    },
    "tags": []
   },
   "outputs": [],
   "source": [
    "paragraph_matches.append(\n",
    "    (\n",
    "        section_name,\n",
    "        par0,\n",
    "        par1,\n",
    "    )\n",
    ")"
   ]
  },
  {
   "cell_type": "code",
   "execution_count": 280,
   "id": "c9e04ff4-b4bd-4c64-b20d-7afa1200c88b",
   "metadata": {
    "execution": {
     "iopub.execute_input": "2024-03-23T05:14:06.597705Z",
     "iopub.status.busy": "2024-03-23T05:14:06.597346Z",
     "iopub.status.idle": "2024-03-23T05:14:06.600980Z",
     "shell.execute_reply": "2024-03-23T05:14:06.600540Z"
    },
    "papermill": {
     "duration": 0.074039,
     "end_time": "2024-03-23T05:14:06.601695",
     "exception": false,
     "start_time": "2024-03-23T05:14:06.527656",
     "status": "completed"
    },
    "tags": []
   },
   "outputs": [
    {
     "data": {
      "text/plain": [
       "('methods',\n",
       " '**Note**: In our simulations, we augment the mutation rate of a single $k$-mer mutation type on haplotypes carrying the simulated mutator allele. However, in an experimental setting, we would not expect to have *a priori* knowledge of the mutation type affected by the mutator. Thus, by using an alpha threshold of 0.05 in our simulations, we would likely over-estimate the power of QTL mapping for detecting the mutator. Since we would need to perform 7 separate QTL scans (one for each 1-mer mutation type plus CpG>TpG) in an experimental setting, we calculate QTL LOD thresholds at a Bonferroni-corrected alpha value of $\\\\alpha = \\\\frac{0.05}{7}$.',\n",
       " 'In our simulations, we increase the mutation rate of a single $k$-mer mutation type on haplotypes carrying the simulated mutator allele. However, in an experimental setting, we would not expect to have prior knowledge of the mutation type affected by the mutator. Thus, by using an alpha threshold of 0.05 in our simulations, we would likely overestimate the power of QTL mapping for detecting the mutator. Since we would need to perform 7 separate QTL scans (one for each 1-mer mutation type plus CpG>TpG) in an experimental setting, we calculate QTL LOD thresholds at a Bonferroni-corrected alpha value of $\\\\alpha = \\\\frac{0.05}{7}$.')"
      ]
     },
     "metadata": {},
     "output_type": "display_data"
    }
   ],
   "source": [
    "display(paragraph_matches[-1])"
   ]
  },
  {
   "cell_type": "markdown",
   "id": "76bfb368-85db-4cef-843b-72a080ee272d",
   "metadata": {
    "editable": true,
    "papermill": {
     "duration": 0.040826,
     "end_time": "2024-03-23T05:14:06.685672",
     "exception": false,
     "start_time": "2024-03-23T05:14:06.644846",
     "status": "completed"
    },
    "slideshow": {
     "slide_type": ""
    },
    "tags": []
   },
   "source": [
    "####  Paragraph 17"
   ]
  },
  {
   "cell_type": "code",
   "execution_count": 281,
   "id": "e2edbbe6-d867-455b-b5b1-f6a29114c61e",
   "metadata": {
    "execution": {
     "iopub.execute_input": "2024-03-23T05:14:06.770306Z",
     "iopub.status.busy": "2024-03-23T05:14:06.770064Z",
     "iopub.status.idle": "2024-03-23T05:14:06.773294Z",
     "shell.execute_reply": "2024-03-23T05:14:06.772835Z"
    },
    "papermill": {
     "duration": 0.045676,
     "end_time": "2024-03-23T05:14:06.774070",
     "exception": false,
     "start_time": "2024-03-23T05:14:06.728394",
     "status": "completed"
    },
    "tags": []
   },
   "outputs": [
    {
     "name": "stdout",
     "output_type": "stream",
     "text": [
      "As in our previous manuscript [@PMID:35545679], we included mutation data from a subset of the 152 BXDs in our aggregate mutation spectrum distance scans. Specifically, we removed BXDs that were backcrossed to a C57BL/6J or DBA/2J parent at any point during the inbreeding process (usually, in order to rescue that BXD from inbreeding depression [@PMID:33472028]). We also removed BXD68 from our genome-wide scans, since we previously discovered a hyper-mutator phenotype in that line; the C>A germline mutation rate in BXD68 is over 5 times the population mean, likely due to a private deleterious nonsynonymous mutation in *Mutyh* [@PMID:35545679]. In our previous manuscript, we removed any BXDs that had been inbred for fewer than 20 generations, as it takes approximately 20 generations of strict brother-sister mating for an RIL genome to become >98% homozygous [@url:https://link.springer.com/book/10.1007/978-1-349-04904-2]. As a result, any potential mutator allele would almost certainly be either fixed or lost after 20 generations; if fixed, the allele would remain linked to any excess mutations it causes for the duration of subsequent inbreeding. In other words, the *de novo* mutations present in the genome of a \"young\" BXD (i.e., a BXD that was inbred for fewer than 20 generations) would not reflect a mutator allele's activity as strongly as the mutations present in the genome of a much older BXD. This presented a challenge when we used quantitative trait locus mapping to discover mutator alleles in our previous manuscript, since the phenotypes (i.e., C>A mutation rates) of young and old BXDs were weighted equally; thus, we simply removed the younger BXDs from our analysis to avoid using their especially noisy mutation spectra. Since AMSD computes an *aggregate* mutation spectrum using all BXDs that inherited a particular allele at a locus, and can overcome the sparsity and noise of individual mutation spectra, we chose to include these younger BXDs in our genome-wide scans in this study.\n"
     ]
    }
   ],
   "source": [
    "par0 = process_paragraph(orig_section_paragraphs[53])\n",
    "print(par0)"
   ]
  },
  {
   "cell_type": "code",
   "execution_count": 282,
   "id": "621f9e03-687c-4bf7-9d38-cb305f56eef6",
   "metadata": {
    "execution": {
     "iopub.execute_input": "2024-03-23T05:14:06.856870Z",
     "iopub.status.busy": "2024-03-23T05:14:06.856681Z",
     "iopub.status.idle": "2024-03-23T05:14:06.859784Z",
     "shell.execute_reply": "2024-03-23T05:14:06.859329Z"
    },
    "papermill": {
     "duration": 0.045242,
     "end_time": "2024-03-23T05:14:06.860512",
     "exception": false,
     "start_time": "2024-03-23T05:14:06.815270",
     "status": "completed"
    },
    "tags": []
   },
   "outputs": [
    {
     "name": "stdout",
     "output_type": "stream",
     "text": [
      "As in our previous manuscript (Smith et al., 2021), we included mutation data from a subset of the 152 BXDs in our aggregate mutation spectrum distance scans. Specifically, we removed BXDs that were backcrossed to a C57BL/6J or DBA/2J parent at any point during the inbreeding process (usually, in order to rescue that BXD from inbreeding depression; Jones et al., 2020). We also excluded BXD68 from our genome-wide scans due to a previously identified hyper-mutator phenotype in that line. The C>A germline mutation rate in BXD68 is over 5 times the population mean, likely attributed to a private deleterious nonsynonymous mutation in *Mutyh* (Smith et al., 2021). In our previous manuscript, we eliminated BXDs that had been inbred for fewer than 20 generations. It takes approximately 20 generations of strict brother-sister mating for a recombinant inbred line (RIL) genome to become >98% homozygous (Johnson et al., 1998). Therefore, any potential mutator allele would likely be fixed or lost after 20 generations. If fixed, the allele would remain linked to any excess mutations it causes throughout subsequent inbreeding. In other words, the *de novo* mutations present in the genome of a \"young\" BXD (i.e., a BXD inbred for fewer than 20 generations) would not reflect a mutator allele's activity as strongly as mutations in the genome of a much older BXD. This posed a challenge when using quantitative trait locus mapping to identify mutator alleles in our previous study, as the phenotypes (i.e., C>A mutation rates) of young and old BXDs were given equal weight. To address this issue, we excluded the younger BXDs from our analysis to prevent the inclusion of their particularly noisy mutation spectra. Since the Aggregate Mutation Spectrum Distance (AMSD) method calculates an *aggregate* mutation spectrum using all BXDs that inherited a specific allele at a locus, and can mitigate the sparsity and noise of individual mutation spectra, we decided to incorporate these younger BXDs in our genome-wide scans for this study.\n"
     ]
    }
   ],
   "source": [
    "par1 = process_paragraph(\n",
    "    mod_section_paragraphs[80:83],\n",
    "    # mod_section_paragraphs[41],\n",
    ")\n",
    "print(par1)"
   ]
  },
  {
   "cell_type": "code",
   "execution_count": 283,
   "id": "e5673e7c-9e1d-463f-a784-f2e9664b7f22",
   "metadata": {
    "execution": {
     "iopub.execute_input": "2024-03-23T05:14:06.943412Z",
     "iopub.status.busy": "2024-03-23T05:14:06.943224Z",
     "iopub.status.idle": "2024-03-23T05:14:06.945840Z",
     "shell.execute_reply": "2024-03-23T05:14:06.945357Z"
    },
    "papermill": {
     "duration": 0.044764,
     "end_time": "2024-03-23T05:14:06.946571",
     "exception": false,
     "start_time": "2024-03-23T05:14:06.901807",
     "status": "completed"
    },
    "tags": []
   },
   "outputs": [],
   "source": [
    "paragraph_matches.append(\n",
    "    (\n",
    "        section_name,\n",
    "        par0,\n",
    "        par1,\n",
    "    )\n",
    ")"
   ]
  },
  {
   "cell_type": "code",
   "execution_count": 284,
   "id": "4f171ffc-f855-406e-8cac-6340e3779cc4",
   "metadata": {
    "execution": {
     "iopub.execute_input": "2024-03-23T05:14:07.034805Z",
     "iopub.status.busy": "2024-03-23T05:14:07.034615Z",
     "iopub.status.idle": "2024-03-23T05:14:07.038127Z",
     "shell.execute_reply": "2024-03-23T05:14:07.037685Z"
    },
    "papermill": {
     "duration": 0.046552,
     "end_time": "2024-03-23T05:14:07.038901",
     "exception": false,
     "start_time": "2024-03-23T05:14:06.992349",
     "status": "completed"
    },
    "tags": []
   },
   "outputs": [
    {
     "data": {
      "text/plain": [
       "('methods',\n",
       " 'As in our previous manuscript [@PMID:35545679], we included mutation data from a subset of the 152 BXDs in our aggregate mutation spectrum distance scans. Specifically, we removed BXDs that were backcrossed to a C57BL/6J or DBA/2J parent at any point during the inbreeding process (usually, in order to rescue that BXD from inbreeding depression [@PMID:33472028]). We also removed BXD68 from our genome-wide scans, since we previously discovered a hyper-mutator phenotype in that line; the C>A germline mutation rate in BXD68 is over 5 times the population mean, likely due to a private deleterious nonsynonymous mutation in *Mutyh* [@PMID:35545679]. In our previous manuscript, we removed any BXDs that had been inbred for fewer than 20 generations, as it takes approximately 20 generations of strict brother-sister mating for an RIL genome to become >98% homozygous [@url:https://link.springer.com/book/10.1007/978-1-349-04904-2]. As a result, any potential mutator allele would almost certainly be either fixed or lost after 20 generations; if fixed, the allele would remain linked to any excess mutations it causes for the duration of subsequent inbreeding. In other words, the *de novo* mutations present in the genome of a \"young\" BXD (i.e., a BXD that was inbred for fewer than 20 generations) would not reflect a mutator allele\\'s activity as strongly as the mutations present in the genome of a much older BXD. This presented a challenge when we used quantitative trait locus mapping to discover mutator alleles in our previous manuscript, since the phenotypes (i.e., C>A mutation rates) of young and old BXDs were weighted equally; thus, we simply removed the younger BXDs from our analysis to avoid using their especially noisy mutation spectra. Since AMSD computes an *aggregate* mutation spectrum using all BXDs that inherited a particular allele at a locus, and can overcome the sparsity and noise of individual mutation spectra, we chose to include these younger BXDs in our genome-wide scans in this study.',\n",
       " 'As in our previous manuscript (Smith et al., 2021), we included mutation data from a subset of the 152 BXDs in our aggregate mutation spectrum distance scans. Specifically, we removed BXDs that were backcrossed to a C57BL/6J or DBA/2J parent at any point during the inbreeding process (usually, in order to rescue that BXD from inbreeding depression; Jones et al., 2020). We also excluded BXD68 from our genome-wide scans due to a previously identified hyper-mutator phenotype in that line. The C>A germline mutation rate in BXD68 is over 5 times the population mean, likely attributed to a private deleterious nonsynonymous mutation in *Mutyh* (Smith et al., 2021). In our previous manuscript, we eliminated BXDs that had been inbred for fewer than 20 generations. It takes approximately 20 generations of strict brother-sister mating for a recombinant inbred line (RIL) genome to become >98% homozygous (Johnson et al., 1998). Therefore, any potential mutator allele would likely be fixed or lost after 20 generations. If fixed, the allele would remain linked to any excess mutations it causes throughout subsequent inbreeding. In other words, the *de novo* mutations present in the genome of a \"young\" BXD (i.e., a BXD inbred for fewer than 20 generations) would not reflect a mutator allele\\'s activity as strongly as mutations in the genome of a much older BXD. This posed a challenge when using quantitative trait locus mapping to identify mutator alleles in our previous study, as the phenotypes (i.e., C>A mutation rates) of young and old BXDs were given equal weight. To address this issue, we excluded the younger BXDs from our analysis to prevent the inclusion of their particularly noisy mutation spectra. Since the Aggregate Mutation Spectrum Distance (AMSD) method calculates an *aggregate* mutation spectrum using all BXDs that inherited a specific allele at a locus, and can mitigate the sparsity and noise of individual mutation spectra, we decided to incorporate these younger BXDs in our genome-wide scans for this study.')"
      ]
     },
     "metadata": {},
     "output_type": "display_data"
    }
   ],
   "source": [
    "display(paragraph_matches[-1])"
   ]
  },
  {
   "cell_type": "markdown",
   "id": "0326a59b-b79a-4936-9340-3d36b5d13af2",
   "metadata": {
    "editable": true,
    "papermill": {
     "duration": 0.045437,
     "end_time": "2024-03-23T05:14:07.126654",
     "exception": false,
     "start_time": "2024-03-23T05:14:07.081217",
     "status": "completed"
    },
    "slideshow": {
     "slide_type": ""
    },
    "tags": []
   },
   "source": [
    "####  Paragraph 18"
   ]
  },
  {
   "cell_type": "code",
   "execution_count": 285,
   "id": "fc6844bc-7770-4f15-8100-d0a3860ad775",
   "metadata": {
    "execution": {
     "iopub.execute_input": "2024-03-23T05:14:07.211381Z",
     "iopub.status.busy": "2024-03-23T05:14:07.211187Z",
     "iopub.status.idle": "2024-03-23T05:14:07.214129Z",
     "shell.execute_reply": "2024-03-23T05:14:07.213648Z"
    },
    "papermill": {
     "duration": 0.046104,
     "end_time": "2024-03-23T05:14:07.214876",
     "exception": false,
     "start_time": "2024-03-23T05:14:07.168772",
     "status": "completed"
    },
    "tags": []
   },
   "outputs": [
    {
     "name": "stdout",
     "output_type": "stream",
     "text": [
      "We investigated the region implicated by our aggregate mutation spectrum distance approach on chromosome 6 by subsetting the joint-genotyped BXD VCF file (European Nucleotide Archive accession PRJEB45429 [@url:https://www.ebi.ac.uk/ena/browser/view/PRJEB45429]) using `bcftools` [@PMID:33590861]. We defined the candidate interval surrounding the cosine distance peak on chromosome 6 as the 90% bootstrap confidence interval (extending from approximately 95 Mbp to 114 Mbp). To predict the functional impacts of both single-nucleotide variants and indels on splicing, protein structure, etc., we annotated variants in the BXD VCF using the following `snpEff` [@PMID:22728672] command:\n"
     ]
    }
   ],
   "source": [
    "par0 = process_paragraph(orig_section_paragraphs[56])\n",
    "print(par0)"
   ]
  },
  {
   "cell_type": "code",
   "execution_count": 286,
   "id": "45dd66cf-9d9e-4469-9173-48a51a86db5a",
   "metadata": {
    "execution": {
     "iopub.execute_input": "2024-03-23T05:14:07.302433Z",
     "iopub.status.busy": "2024-03-23T05:14:07.302240Z",
     "iopub.status.idle": "2024-03-23T05:14:07.305210Z",
     "shell.execute_reply": "2024-03-23T05:14:07.304766Z"
    },
    "papermill": {
     "duration": 0.045415,
     "end_time": "2024-03-23T05:14:07.306011",
     "exception": false,
     "start_time": "2024-03-23T05:14:07.260596",
     "status": "completed"
    },
    "tags": []
   },
   "outputs": [
    {
     "name": "stdout",
     "output_type": "stream",
     "text": [
      "We investigated the region implicated by our aggregate mutation spectrum distance approach on chromosome 6 by subsetting the joint-genotyped BXD VCF file (European Nucleotide Archive accession PRJEB45429 [1]) using `bcftools` [2]. We defined the candidate interval surrounding the cosine distance peak on chromosome 6 as the 90% bootstrap confidence interval (extending from approximately 95 Mbp to 114 Mbp). To predict the functional impacts of both single-nucleotide variants and indels on splicing, protein structure, etc., we annotated variants in the BXD VCF using the following `snpEff` [3] command:\n"
     ]
    }
   ],
   "source": [
    "par1 = process_paragraph(\n",
    "    mod_section_paragraphs[85:87],\n",
    "    # mod_section_paragraphs[41],\n",
    ")\n",
    "print(par1)"
   ]
  },
  {
   "cell_type": "code",
   "execution_count": 287,
   "id": "2df6f4db-438b-4208-be66-cbedcc72166e",
   "metadata": {
    "execution": {
     "iopub.execute_input": "2024-03-23T05:14:07.390039Z",
     "iopub.status.busy": "2024-03-23T05:14:07.389848Z",
     "iopub.status.idle": "2024-03-23T05:14:07.392423Z",
     "shell.execute_reply": "2024-03-23T05:14:07.391989Z"
    },
    "papermill": {
     "duration": 0.044881,
     "end_time": "2024-03-23T05:14:07.393147",
     "exception": false,
     "start_time": "2024-03-23T05:14:07.348266",
     "status": "completed"
    },
    "tags": []
   },
   "outputs": [],
   "source": [
    "paragraph_matches.append(\n",
    "    (\n",
    "        section_name,\n",
    "        par0,\n",
    "        par1,\n",
    "    )\n",
    ")"
   ]
  },
  {
   "cell_type": "code",
   "execution_count": 288,
   "id": "2895cb07-7ba8-4407-9c7e-881b9ac4348a",
   "metadata": {
    "execution": {
     "iopub.execute_input": "2024-03-23T05:14:07.482501Z",
     "iopub.status.busy": "2024-03-23T05:14:07.482311Z",
     "iopub.status.idle": "2024-03-23T05:14:07.485840Z",
     "shell.execute_reply": "2024-03-23T05:14:07.485399Z"
    },
    "papermill": {
     "duration": 0.046364,
     "end_time": "2024-03-23T05:14:07.486583",
     "exception": false,
     "start_time": "2024-03-23T05:14:07.440219",
     "status": "completed"
    },
    "tags": []
   },
   "outputs": [
    {
     "data": {
      "text/plain": [
       "('methods',\n",
       " 'We investigated the region implicated by our aggregate mutation spectrum distance approach on chromosome 6 by subsetting the joint-genotyped BXD VCF file (European Nucleotide Archive accession PRJEB45429 [@url:https://www.ebi.ac.uk/ena/browser/view/PRJEB45429]) using `bcftools` [@PMID:33590861]. We defined the candidate interval surrounding the cosine distance peak on chromosome 6 as the 90% bootstrap confidence interval (extending from approximately 95 Mbp to 114 Mbp). To predict the functional impacts of both single-nucleotide variants and indels on splicing, protein structure, etc., we annotated variants in the BXD VCF using the following `snpEff` [@PMID:22728672] command:',\n",
       " 'We investigated the region implicated by our aggregate mutation spectrum distance approach on chromosome 6 by subsetting the joint-genotyped BXD VCF file (European Nucleotide Archive accession PRJEB45429 [1]) using `bcftools` [2]. We defined the candidate interval surrounding the cosine distance peak on chromosome 6 as the 90% bootstrap confidence interval (extending from approximately 95 Mbp to 114 Mbp). To predict the functional impacts of both single-nucleotide variants and indels on splicing, protein structure, etc., we annotated variants in the BXD VCF using the following `snpEff` [3] command:')"
      ]
     },
     "metadata": {},
     "output_type": "display_data"
    }
   ],
   "source": [
    "display(paragraph_matches[-1])"
   ]
  },
  {
   "cell_type": "markdown",
   "id": "ac4ba542-c273-4210-9983-2e7e274856ff",
   "metadata": {
    "editable": true,
    "papermill": {
     "duration": 0.041514,
     "end_time": "2024-03-23T05:14:07.570514",
     "exception": false,
     "start_time": "2024-03-23T05:14:07.529000",
     "status": "completed"
    },
    "slideshow": {
     "slide_type": ""
    },
    "tags": []
   },
   "source": [
    "####  Paragraph 19"
   ]
  },
  {
   "cell_type": "code",
   "execution_count": 289,
   "id": "acaa590d-b2c1-4683-b532-4a9fd2cb0cc1",
   "metadata": {
    "execution": {
     "iopub.execute_input": "2024-03-23T05:14:07.682288Z",
     "iopub.status.busy": "2024-03-23T05:14:07.682091Z",
     "iopub.status.idle": "2024-03-23T05:14:07.685128Z",
     "shell.execute_reply": "2024-03-23T05:14:07.684677Z"
    },
    "papermill": {
     "duration": 0.045806,
     "end_time": "2024-03-23T05:14:07.685858",
     "exception": false,
     "start_time": "2024-03-23T05:14:07.640052",
     "status": "completed"
    },
    "tags": []
   },
   "outputs": [
    {
     "name": "stdout",
     "output_type": "stream",
     "text": [
      "We downloaded mutation data from a previously published analysis [@PMID:30753674] (Supplementary File 1, Excel Table S3) that identified strain-private mutations in 29 strains that were originally whole-genome sequenced as part of the Sanger Mouse Genomes (MGP) project [@PMID:21921910]. When comparing counts of each mutation type between MGP strains that harbored either *D* or *B* alleles at the chromosome 4 or chromosome 6 mutator loci, we adjusted mutation counts by the number of callable A, T, C, or G nucleotides in each strain as described previously [@PMID:35545679].\n"
     ]
    }
   ],
   "source": [
    "par0 = process_paragraph(orig_section_paragraphs[68])\n",
    "print(par0)"
   ]
  },
  {
   "cell_type": "code",
   "execution_count": 290,
   "id": "5475c75b-591f-40d5-a87c-eba1510e36f2",
   "metadata": {
    "execution": {
     "iopub.execute_input": "2024-03-23T05:14:07.769679Z",
     "iopub.status.busy": "2024-03-23T05:14:07.769491Z",
     "iopub.status.idle": "2024-03-23T05:14:07.772471Z",
     "shell.execute_reply": "2024-03-23T05:14:07.772037Z"
    },
    "papermill": {
     "duration": 0.045526,
     "end_time": "2024-03-23T05:14:07.773199",
     "exception": false,
     "start_time": "2024-03-23T05:14:07.727673",
     "status": "completed"
    },
    "tags": []
   },
   "outputs": [
    {
     "name": "stdout",
     "output_type": "stream",
     "text": [
      "We downloaded mutation data from a previously published analysis (Lyon et al., 2019) that identified strain-private mutations in 29 strains that were originally whole-genome sequenced as part of the Sanger Mouse Genomes (MGP) project (Adams et al., 2011). When comparing counts of each mutation type between MGP strains that harbored either *D* or *B* alleles at the chromosome 4 or chromosome 6 mutator loci, we adjusted mutation counts by the number of callable A, T, C, or G nucleotides in each strain as described previously (Smith et al., 2021).\n"
     ]
    }
   ],
   "source": [
    "par1 = process_paragraph(\n",
    "    mod_section_paragraphs[99],\n",
    "    # mod_section_paragraphs[41],\n",
    ")\n",
    "print(par1)"
   ]
  },
  {
   "cell_type": "code",
   "execution_count": 291,
   "id": "1bd86b15-0f46-4f71-88b6-5bfa468929b6",
   "metadata": {
    "execution": {
     "iopub.execute_input": "2024-03-23T05:14:07.856797Z",
     "iopub.status.busy": "2024-03-23T05:14:07.856610Z",
     "iopub.status.idle": "2024-03-23T05:14:07.859266Z",
     "shell.execute_reply": "2024-03-23T05:14:07.858829Z"
    },
    "papermill": {
     "duration": 0.045591,
     "end_time": "2024-03-23T05:14:07.860027",
     "exception": false,
     "start_time": "2024-03-23T05:14:07.814436",
     "status": "completed"
    },
    "tags": []
   },
   "outputs": [],
   "source": [
    "paragraph_matches.append(\n",
    "    (\n",
    "        section_name,\n",
    "        par0,\n",
    "        par1,\n",
    "    )\n",
    ")"
   ]
  },
  {
   "cell_type": "code",
   "execution_count": 292,
   "id": "64b0825d-e351-42af-b3f9-7cade9c7b46a",
   "metadata": {
    "execution": {
     "iopub.execute_input": "2024-03-23T05:14:07.942780Z",
     "iopub.status.busy": "2024-03-23T05:14:07.942592Z",
     "iopub.status.idle": "2024-03-23T05:14:07.946032Z",
     "shell.execute_reply": "2024-03-23T05:14:07.945593Z"
    },
    "papermill": {
     "duration": 0.045788,
     "end_time": "2024-03-23T05:14:07.946771",
     "exception": false,
     "start_time": "2024-03-23T05:14:07.900983",
     "status": "completed"
    },
    "tags": []
   },
   "outputs": [
    {
     "data": {
      "text/plain": [
       "('methods',\n",
       " 'We downloaded mutation data from a previously published analysis [@PMID:30753674] (Supplementary File 1, Excel Table S3) that identified strain-private mutations in 29 strains that were originally whole-genome sequenced as part of the Sanger Mouse Genomes (MGP) project [@PMID:21921910]. When comparing counts of each mutation type between MGP strains that harbored either *D* or *B* alleles at the chromosome 4 or chromosome 6 mutator loci, we adjusted mutation counts by the number of callable A, T, C, or G nucleotides in each strain as described previously [@PMID:35545679].',\n",
       " 'We downloaded mutation data from a previously published analysis (Lyon et al., 2019) that identified strain-private mutations in 29 strains that were originally whole-genome sequenced as part of the Sanger Mouse Genomes (MGP) project (Adams et al., 2011). When comparing counts of each mutation type between MGP strains that harbored either *D* or *B* alleles at the chromosome 4 or chromosome 6 mutator loci, we adjusted mutation counts by the number of callable A, T, C, or G nucleotides in each strain as described previously (Smith et al., 2021).')"
      ]
     },
     "metadata": {},
     "output_type": "display_data"
    }
   ],
   "source": [
    "display(paragraph_matches[-1])"
   ]
  },
  {
   "cell_type": "markdown",
   "id": "046e8319-1bc5-4c2d-830f-6caab1cd7c75",
   "metadata": {
    "editable": true,
    "papermill": {
     "duration": 0.0411,
     "end_time": "2024-03-23T05:14:08.029525",
     "exception": false,
     "start_time": "2024-03-23T05:14:07.988425",
     "status": "completed"
    },
    "slideshow": {
     "slide_type": ""
    },
    "tags": []
   },
   "source": [
    "####  Paragraph 20"
   ]
  },
  {
   "cell_type": "code",
   "execution_count": 293,
   "id": "431c4845-62c7-491a-88c8-7fcd873f34da",
   "metadata": {
    "execution": {
     "iopub.execute_input": "2024-03-23T05:14:08.112413Z",
     "iopub.status.busy": "2024-03-23T05:14:08.112224Z",
     "iopub.status.idle": "2024-03-23T05:14:08.115175Z",
     "shell.execute_reply": "2024-03-23T05:14:08.114731Z"
    },
    "papermill": {
     "duration": 0.04516,
     "end_time": "2024-03-23T05:14:08.115881",
     "exception": false,
     "start_time": "2024-03-23T05:14:08.070721",
     "status": "completed"
    },
    "tags": []
   },
   "outputs": [
    {
     "name": "stdout",
     "output_type": "stream",
     "text": [
      "We used the online GeneNetwork resource [@PMID:27933521], which contains array- and RNA-seq-derived expression measurements in a wide variety of tissues, to find *cis*-eQTLs for the DNA repair genes we implicated under the cosine distance peak on chromosome 6. On the GeneNetwork homepage (genenetwork.org), we selected the \"BXD Family\" **Group** and used the **Type** dropdown menu to select each of the specific expression datasets described in Table @tbl:eqtl-provenance. In the **Get Any** text box, we then entered the listed gene name and clicked **Search**. After selecting the appropriate trait ID on the next page, we used the **Mapping Tools** dropdown to run Hayley-Knott regression [@PMID:16718932] with default parameters: 1,000 permutations, interval mapping, no cofactors, and WGS-based genotypes (2022).\n"
     ]
    }
   ],
   "source": [
    "par0 = process_paragraph(orig_section_paragraphs[70])\n",
    "print(par0)"
   ]
  },
  {
   "cell_type": "code",
   "execution_count": 294,
   "id": "a0851e75-6d8a-4354-8d85-c323c6b2dc86",
   "metadata": {
    "execution": {
     "iopub.execute_input": "2024-03-23T05:14:08.199510Z",
     "iopub.status.busy": "2024-03-23T05:14:08.199299Z",
     "iopub.status.idle": "2024-03-23T05:14:08.202494Z",
     "shell.execute_reply": "2024-03-23T05:14:08.202032Z"
    },
    "papermill": {
     "duration": 0.045609,
     "end_time": "2024-03-23T05:14:08.203302",
     "exception": false,
     "start_time": "2024-03-23T05:14:08.157693",
     "status": "completed"
    },
    "tags": []
   },
   "outputs": [
    {
     "name": "stdout",
     "output_type": "stream",
     "text": [
      "We used the online GeneNetwork resource (Ghazalpour et al., 2017), which contains array- and RNA-seq-derived expression measurements in a wide variety of tissues, to find *cis*-eQTLs for the DNA repair genes we implicated under the cosine distance peak on chromosome 6. On the GeneNetwork homepage (genenetwork.org), we selected the \"BXD Family\" group and used the type dropdown menu to select each of the specific expression datasets described in Table 1. In the \"Get Any\" text box, we then entered the listed gene name and clicked \"Search\". After selecting the appropriate trait ID on the next page, we used the mapping tools dropdown to run Hayley-Knott regression (Broman and Sen, 2009) with default parameters: 1,000 permutations, interval mapping, no cofactors, and WGS-based genotypes. The Hayley-Knott regression method is a statistical technique used for mapping quantitative trait loci (QTL) in genetic studies. It is based on a maximum likelihood approach and is commonly used for interval mapping in genome-wide association studies. The method involves permutation tests to determine the significance of QTL associations.\n"
     ]
    }
   ],
   "source": [
    "par1 = process_paragraph(\n",
    "    [\n",
    "        mod_section_paragraphs[103],\n",
    "        mod_section_paragraphs[105],\n",
    "    ]\n",
    ")\n",
    "print(par1)"
   ]
  },
  {
   "cell_type": "code",
   "execution_count": 295,
   "id": "a9475e73-1267-474c-ba1e-2337e5ce7de1",
   "metadata": {
    "execution": {
     "iopub.execute_input": "2024-03-23T05:14:08.287125Z",
     "iopub.status.busy": "2024-03-23T05:14:08.286936Z",
     "iopub.status.idle": "2024-03-23T05:14:08.289594Z",
     "shell.execute_reply": "2024-03-23T05:14:08.289116Z"
    },
    "papermill": {
     "duration": 0.045242,
     "end_time": "2024-03-23T05:14:08.290314",
     "exception": false,
     "start_time": "2024-03-23T05:14:08.245072",
     "status": "completed"
    },
    "tags": []
   },
   "outputs": [],
   "source": [
    "paragraph_matches.append(\n",
    "    (\n",
    "        section_name,\n",
    "        par0,\n",
    "        par1,\n",
    "    )\n",
    ")"
   ]
  },
  {
   "cell_type": "code",
   "execution_count": 296,
   "id": "f89664d0-7ad4-4095-ae7e-c97d5afcb512",
   "metadata": {
    "execution": {
     "iopub.execute_input": "2024-03-23T05:14:08.376030Z",
     "iopub.status.busy": "2024-03-23T05:14:08.375835Z",
     "iopub.status.idle": "2024-03-23T05:14:08.379321Z",
     "shell.execute_reply": "2024-03-23T05:14:08.378893Z"
    },
    "papermill": {
     "duration": 0.047328,
     "end_time": "2024-03-23T05:14:08.380041",
     "exception": false,
     "start_time": "2024-03-23T05:14:08.332713",
     "status": "completed"
    },
    "tags": []
   },
   "outputs": [
    {
     "data": {
      "text/plain": [
       "('methods',\n",
       " 'We used the online GeneNetwork resource [@PMID:27933521], which contains array- and RNA-seq-derived expression measurements in a wide variety of tissues, to find *cis*-eQTLs for the DNA repair genes we implicated under the cosine distance peak on chromosome 6. On the GeneNetwork homepage (genenetwork.org), we selected the \"BXD Family\" **Group** and used the **Type** dropdown menu to select each of the specific expression datasets described in Table @tbl:eqtl-provenance. In the **Get Any** text box, we then entered the listed gene name and clicked **Search**. After selecting the appropriate trait ID on the next page, we used the **Mapping Tools** dropdown to run Hayley-Knott regression [@PMID:16718932] with default parameters: 1,000 permutations, interval mapping, no cofactors, and WGS-based genotypes (2022).',\n",
       " 'We used the online GeneNetwork resource (Ghazalpour et al., 2017), which contains array- and RNA-seq-derived expression measurements in a wide variety of tissues, to find *cis*-eQTLs for the DNA repair genes we implicated under the cosine distance peak on chromosome 6. On the GeneNetwork homepage (genenetwork.org), we selected the \"BXD Family\" group and used the type dropdown menu to select each of the specific expression datasets described in Table 1. In the \"Get Any\" text box, we then entered the listed gene name and clicked \"Search\". After selecting the appropriate trait ID on the next page, we used the mapping tools dropdown to run Hayley-Knott regression (Broman and Sen, 2009) with default parameters: 1,000 permutations, interval mapping, no cofactors, and WGS-based genotypes. The Hayley-Knott regression method is a statistical technique used for mapping quantitative trait loci (QTL) in genetic studies. It is based on a maximum likelihood approach and is commonly used for interval mapping in genome-wide association studies. The method involves permutation tests to determine the significance of QTL associations.')"
      ]
     },
     "metadata": {},
     "output_type": "display_data"
    }
   ],
   "source": [
    "display(paragraph_matches[-1])"
   ]
  },
  {
   "cell_type": "markdown",
   "id": "1cb3e015-b219-4bd7-bcb1-f83f218e6526",
   "metadata": {
    "editable": true,
    "papermill": {
     "duration": 0.041345,
     "end_time": "2024-03-23T05:14:08.463203",
     "exception": false,
     "start_time": "2024-03-23T05:14:08.421858",
     "status": "completed"
    },
    "slideshow": {
     "slide_type": ""
    },
    "tags": []
   },
   "source": [
    "####  Paragraph 21"
   ]
  },
  {
   "cell_type": "code",
   "execution_count": 297,
   "id": "a6dbe416-3e32-449b-90cf-65c69356b5b4",
   "metadata": {
    "execution": {
     "iopub.execute_input": "2024-03-23T05:14:08.574894Z",
     "iopub.status.busy": "2024-03-23T05:14:08.574682Z",
     "iopub.status.idle": "2024-03-23T05:14:08.577975Z",
     "shell.execute_reply": "2024-03-23T05:14:08.577369Z"
    },
    "papermill": {
     "duration": 0.046385,
     "end_time": "2024-03-23T05:14:08.578793",
     "exception": false,
     "start_time": "2024-03-23T05:14:08.532408",
     "status": "completed"
    },
    "tags": []
   },
   "outputs": [
    {
     "name": "stdout",
     "output_type": "stream",
     "text": [
      "If we discovered a significant cis-eQTL for the gene of interest (that is, a locus on chromosome 6 with an LRS greater than or equal to the \"significant LRS\" genome-wide threshold), we then performed a second genome-wide association test for the trait of interest using GEMMA [@PMID:2453419] with the following parameters: WGS-based marker genotypes, a minor allele frequency threshold of 0.05, and leave-one-chromosome-out (LOCO). By using both Haley-Knott regression and GEMMA, we could first discover loci that exceeded a genome-wide LRS threshold, and then more precisely estimate the effect of those loci on gene expression [@doi:10.1101/2020.12.23.424047].\n"
     ]
    }
   ],
   "source": [
    "par0 = process_paragraph(orig_section_paragraphs[71])\n",
    "print(par0)"
   ]
  },
  {
   "cell_type": "code",
   "execution_count": 298,
   "id": "49e60386-273a-472e-92ca-684d41f72c80",
   "metadata": {
    "execution": {
     "iopub.execute_input": "2024-03-23T05:14:08.667879Z",
     "iopub.status.busy": "2024-03-23T05:14:08.667552Z",
     "iopub.status.idle": "2024-03-23T05:14:08.670740Z",
     "shell.execute_reply": "2024-03-23T05:14:08.670176Z"
    },
    "papermill": {
     "duration": 0.050208,
     "end_time": "2024-03-23T05:14:08.671568",
     "exception": false,
     "start_time": "2024-03-23T05:14:08.621360",
     "status": "completed"
    },
    "tags": []
   },
   "outputs": [
    {
     "name": "stdout",
     "output_type": "stream",
     "text": [
      "If a significant cis-eQTL for the gene of interest was identified (i.e., a locus on chromosome 6 with an LRS greater than or equal to the \"significant LRS\" genome-wide threshold), a second genome-wide association test for the trait of interest was conducted using GEMMA (Zhou et al., 2014) with the following parameters: WGS-based marker genotypes, a minor allele frequency threshold of 0.05, and leave-one-chromosome-out (LOCO). By employing both Haley-Knott regression and GEMMA, loci that exceeded a genome-wide LRS threshold could be initially identified, followed by a more precise estimation of the effect of those loci on gene expression (Yao et al., 2021).\n"
     ]
    }
   ],
   "source": [
    "par1 = process_paragraph(\n",
    "    mod_section_paragraphs[108],\n",
    "    # mod_section_paragraphs[41],\n",
    ")\n",
    "print(par1)"
   ]
  },
  {
   "cell_type": "code",
   "execution_count": 299,
   "id": "d2805c95-d999-4593-a8e1-8a739031d897",
   "metadata": {
    "execution": {
     "iopub.execute_input": "2024-03-23T05:14:08.756582Z",
     "iopub.status.busy": "2024-03-23T05:14:08.756272Z",
     "iopub.status.idle": "2024-03-23T05:14:08.759142Z",
     "shell.execute_reply": "2024-03-23T05:14:08.758591Z"
    },
    "papermill": {
     "duration": 0.046817,
     "end_time": "2024-03-23T05:14:08.759968",
     "exception": false,
     "start_time": "2024-03-23T05:14:08.713151",
     "status": "completed"
    },
    "tags": []
   },
   "outputs": [],
   "source": [
    "paragraph_matches.append(\n",
    "    (\n",
    "        section_name,\n",
    "        par0,\n",
    "        par1,\n",
    "    )\n",
    ")"
   ]
  },
  {
   "cell_type": "code",
   "execution_count": 300,
   "id": "91854d74-8348-40e5-bf64-f4968201c357",
   "metadata": {
    "execution": {
     "iopub.execute_input": "2024-03-23T05:14:08.843994Z",
     "iopub.status.busy": "2024-03-23T05:14:08.843669Z",
     "iopub.status.idle": "2024-03-23T05:14:08.847440Z",
     "shell.execute_reply": "2024-03-23T05:14:08.846882Z"
    },
    "papermill": {
     "duration": 0.04636,
     "end_time": "2024-03-23T05:14:08.848239",
     "exception": false,
     "start_time": "2024-03-23T05:14:08.801879",
     "status": "completed"
    },
    "tags": []
   },
   "outputs": [
    {
     "data": {
      "text/plain": [
       "('methods',\n",
       " 'If we discovered a significant cis-eQTL for the gene of interest (that is, a locus on chromosome 6 with an LRS greater than or equal to the \"significant LRS\" genome-wide threshold), we then performed a second genome-wide association test for the trait of interest using GEMMA [@PMID:2453419] with the following parameters: WGS-based marker genotypes, a minor allele frequency threshold of 0.05, and leave-one-chromosome-out (LOCO). By using both Haley-Knott regression and GEMMA, we could first discover loci that exceeded a genome-wide LRS threshold, and then more precisely estimate the effect of those loci on gene expression [@doi:10.1101/2020.12.23.424047].',\n",
       " 'If a significant cis-eQTL for the gene of interest was identified (i.e., a locus on chromosome 6 with an LRS greater than or equal to the \"significant LRS\" genome-wide threshold), a second genome-wide association test for the trait of interest was conducted using GEMMA (Zhou et al., 2014) with the following parameters: WGS-based marker genotypes, a minor allele frequency threshold of 0.05, and leave-one-chromosome-out (LOCO). By employing both Haley-Knott regression and GEMMA, loci that exceeded a genome-wide LRS threshold could be initially identified, followed by a more precise estimation of the effect of those loci on gene expression (Yao et al., 2021).')"
      ]
     },
     "metadata": {},
     "output_type": "display_data"
    }
   ],
   "source": [
    "display(paragraph_matches[-1])"
   ]
  },
  {
   "cell_type": "markdown",
   "id": "7f02b936-f260-4d0e-b191-46557d8c5c0e",
   "metadata": {
    "editable": true,
    "papermill": {
     "duration": 0.041354,
     "end_time": "2024-03-23T05:14:08.931303",
     "exception": false,
     "start_time": "2024-03-23T05:14:08.889949",
     "status": "completed"
    },
    "slideshow": {
     "slide_type": ""
    },
    "tags": []
   },
   "source": [
    "####  Paragraph 22"
   ]
  },
  {
   "cell_type": "code",
   "execution_count": 301,
   "id": "0bdeed20-2d9a-42e5-89e7-5a19463b3c36",
   "metadata": {
    "execution": {
     "iopub.execute_input": "2024-03-23T05:14:09.015582Z",
     "iopub.status.busy": "2024-03-23T05:14:09.015247Z",
     "iopub.status.idle": "2024-03-23T05:14:09.018359Z",
     "shell.execute_reply": "2024-03-23T05:14:09.017784Z"
    },
    "papermill": {
     "duration": 0.04628,
     "end_time": "2024-03-23T05:14:09.019088",
     "exception": false,
     "start_time": "2024-03-23T05:14:08.972808",
     "status": "completed"
    },
    "tags": []
   },
   "outputs": [
    {
     "name": "stdout",
     "output_type": "stream",
     "text": [
      "To determine the frequencies of the *Ogg1* and *Setmar* nonsynonymous mutations in other populations of mice, we queried a VCF file containing genome-wide variation in 67 wild-derived mice from four species of *Mus* [@PMID:27622383]. We calculated the allele frequency of each nonsynonymous mutation in each of the four species or subspecies (*Mus musculus domesticus*, *Mus musculus musculus*, *Mus musculus castaneus*, and *Mus spretus*), including genotypes that met the following criteria:\n"
     ]
    }
   ],
   "source": [
    "par0 = process_paragraph(orig_section_paragraphs[76])\n",
    "print(par0)"
   ]
  },
  {
   "cell_type": "code",
   "execution_count": 302,
   "id": "1445c66d-f0d7-42de-8b60-5fcb8ba2bc72",
   "metadata": {
    "execution": {
     "iopub.execute_input": "2024-03-23T05:14:09.103835Z",
     "iopub.status.busy": "2024-03-23T05:14:09.103389Z",
     "iopub.status.idle": "2024-03-23T05:14:09.106477Z",
     "shell.execute_reply": "2024-03-23T05:14:09.106018Z"
    },
    "papermill": {
     "duration": 0.045979,
     "end_time": "2024-03-23T05:14:09.107216",
     "exception": false,
     "start_time": "2024-03-23T05:14:09.061237",
     "status": "completed"
    },
    "tags": []
   },
   "outputs": [
    {
     "name": "stdout",
     "output_type": "stream",
     "text": [
      "To determine the frequencies of the *Ogg1* and *Setmar* nonsynonymous mutations in other populations of mice, a VCF file containing genome-wide variation in 67 wild-derived mice from four species of *Mus* was queried [@PMID:27622383]. The allele frequency of each nonsynonymous mutation in each of the four species or subspecies (*Mus musculus domesticus*, *Mus musculus musculus*, *Mus musculus castaneus*, and *Mus spretus*) was calculated, including genotypes that met the following criteria:\n"
     ]
    }
   ],
   "source": [
    "par1 = process_paragraph(\n",
    "    mod_section_paragraphs[114],\n",
    "    # mod_section_paragraphs[41],\n",
    ")\n",
    "print(par1)"
   ]
  },
  {
   "cell_type": "code",
   "execution_count": 303,
   "id": "dbe5493f-dc89-4750-9808-08c24b76f328",
   "metadata": {
    "execution": {
     "iopub.execute_input": "2024-03-23T05:14:09.192983Z",
     "iopub.status.busy": "2024-03-23T05:14:09.192499Z",
     "iopub.status.idle": "2024-03-23T05:14:09.195342Z",
     "shell.execute_reply": "2024-03-23T05:14:09.194886Z"
    },
    "papermill": {
     "duration": 0.04597,
     "end_time": "2024-03-23T05:14:09.196024",
     "exception": false,
     "start_time": "2024-03-23T05:14:09.150054",
     "status": "completed"
    },
    "tags": []
   },
   "outputs": [],
   "source": [
    "paragraph_matches.append(\n",
    "    (\n",
    "        section_name,\n",
    "        par0,\n",
    "        par1,\n",
    "    )\n",
    ")"
   ]
  },
  {
   "cell_type": "code",
   "execution_count": 304,
   "id": "3f81984f-bd47-4d56-b791-66ed14de1ce7",
   "metadata": {
    "execution": {
     "iopub.execute_input": "2024-03-23T05:14:09.280670Z",
     "iopub.status.busy": "2024-03-23T05:14:09.280339Z",
     "iopub.status.idle": "2024-03-23T05:14:09.283837Z",
     "shell.execute_reply": "2024-03-23T05:14:09.283381Z"
    },
    "papermill": {
     "duration": 0.04635,
     "end_time": "2024-03-23T05:14:09.284531",
     "exception": false,
     "start_time": "2024-03-23T05:14:09.238181",
     "status": "completed"
    },
    "tags": []
   },
   "outputs": [
    {
     "data": {
      "text/plain": [
       "('methods',\n",
       " 'To determine the frequencies of the *Ogg1* and *Setmar* nonsynonymous mutations in other populations of mice, we queried a VCF file containing genome-wide variation in 67 wild-derived mice from four species of *Mus* [@PMID:27622383]. We calculated the allele frequency of each nonsynonymous mutation in each of the four species or subspecies (*Mus musculus domesticus*, *Mus musculus musculus*, *Mus musculus castaneus*, and *Mus spretus*), including genotypes that met the following criteria:',\n",
       " 'To determine the frequencies of the *Ogg1* and *Setmar* nonsynonymous mutations in other populations of mice, a VCF file containing genome-wide variation in 67 wild-derived mice from four species of *Mus* was queried [@PMID:27622383]. The allele frequency of each nonsynonymous mutation in each of the four species or subspecies (*Mus musculus domesticus*, *Mus musculus musculus*, *Mus musculus castaneus*, and *Mus spretus*) was calculated, including genotypes that met the following criteria:')"
      ]
     },
     "metadata": {},
     "output_type": "display_data"
    }
   ],
   "source": [
    "display(paragraph_matches[-1])"
   ]
  },
  {
   "cell_type": "markdown",
   "id": "79f2160d-e9e6-4990-ba15-569726b97d07",
   "metadata": {
    "editable": true,
    "papermill": {
     "duration": 0.041671,
     "end_time": "2024-03-23T05:14:09.368601",
     "exception": false,
     "start_time": "2024-03-23T05:14:09.326930",
     "status": "completed"
    },
    "slideshow": {
     "slide_type": ""
    },
    "tags": []
   },
   "source": [
    "####  Paragraph 23"
   ]
  },
  {
   "cell_type": "code",
   "execution_count": 305,
   "id": "6710d71e-2c61-4122-a180-dd4b156f7558",
   "metadata": {
    "execution": {
     "iopub.execute_input": "2024-03-23T05:14:09.453417Z",
     "iopub.status.busy": "2024-03-23T05:14:09.452997Z",
     "iopub.status.idle": "2024-03-23T05:14:09.456352Z",
     "shell.execute_reply": "2024-03-23T05:14:09.455895Z"
    },
    "papermill": {
     "duration": 0.04665,
     "end_time": "2024-03-23T05:14:09.457082",
     "exception": false,
     "start_time": "2024-03-23T05:14:09.410432",
     "status": "completed"
    },
    "tags": []
   },
   "outputs": [
    {
     "name": "stdout",
     "output_type": "stream",
     "text": [
      "In this model, `Count` is the count of C>A *de novo* mutations observed in each BXD. `ADJ_AGE` is the product of the number of \"callable\" cytosine/guanine nucleotides in each BXD (i.e., the total number of cytosines/guanines covered by at least 10 sequencing reads) and the number of generations for which the BXD was inbred. We included the logarithm of `ADJ_AGE` as an \"offset\" in order to model the response variable as a rate (expressed per base-pair, per generation) rather than an absolute count; the BXDs differ in both their durations of inbreeding and the proportions of their genomes that were sequenced to sufficient depth, which influences the number of mutations we observe in each BXD. The `Genotype_A` and `Genotype_B` terms represent the genotypes of BXDs at markers `rs27509845` and `rs46276051` (the markers with peak cosine distances on chromosomes 4 and 6 in the two aggregate mutation spectrum distance scans). We limited our analysis to the n = 108 BXDs that were homozygous at both sites, allowing us to model genotypes at either locus as binary variables (\"B\" or \"D\"). Using analysis of variance (ANOVA), we then compared the model including an interaction effect to a model including only additive effects:\n"
     ]
    }
   ],
   "source": [
    "par0 = process_paragraph(orig_section_paragraphs[82])\n",
    "print(par0)"
   ]
  },
  {
   "cell_type": "code",
   "execution_count": 306,
   "id": "e28c7cc8-8e82-4f66-b4d0-a3d9bc58ef59",
   "metadata": {
    "execution": {
     "iopub.execute_input": "2024-03-23T05:14:09.570415Z",
     "iopub.status.busy": "2024-03-23T05:14:09.570086Z",
     "iopub.status.idle": "2024-03-23T05:14:09.573070Z",
     "shell.execute_reply": "2024-03-23T05:14:09.572640Z"
    },
    "papermill": {
     "duration": 0.046697,
     "end_time": "2024-03-23T05:14:09.573868",
     "exception": false,
     "start_time": "2024-03-23T05:14:09.527171",
     "status": "completed"
    },
    "tags": []
   },
   "outputs": [
    {
     "name": "stdout",
     "output_type": "stream",
     "text": [
      "In this model, `Count` represents the count of C>A *de novo* mutations observed in each BXD mouse strain. `ADJ_AGE` is calculated as the product of the number of \"callable\" cytosine/guanine nucleotides in each BXD (i.e., the total number of cytosines/guanines covered by at least 10 sequencing reads) and the number of generations for which the BXD strain was inbred. To account for differences in inbreeding duration and genome coverage depth among BXDs, we included the logarithm of `ADJ_AGE` as an \"offset\" to model the response variable as a mutation rate (expressed per base-pair, per generation) rather than an absolute count. The genotypes of BXDs at markers `rs27509845` and `rs46276051` are denoted by `Genotype_A` and `Genotype_B`, respectively, which correspond to the markers with peak cosine distances on chromosomes 4 and 6 in the two aggregate mutation spectrum distance scans. Our analysis focused on the n = 108 BXDs that were homozygous at both sites, allowing us to represent genotypes at each locus as binary variables (\"B\" or \"D\"). Through analysis of variance (ANOVA), we compared the model incorporating an interaction effect with a model considering only additive effects:\n"
     ]
    }
   ],
   "source": [
    "par1 = process_paragraph(\n",
    "    mod_section_paragraphs[120],\n",
    "    # mod_section_paragraphs[41],\n",
    ")\n",
    "print(par1)"
   ]
  },
  {
   "cell_type": "code",
   "execution_count": 307,
   "id": "236a578e-5c88-4496-86d2-39e642356b7c",
   "metadata": {
    "execution": {
     "iopub.execute_input": "2024-03-23T05:14:09.658798Z",
     "iopub.status.busy": "2024-03-23T05:14:09.658428Z",
     "iopub.status.idle": "2024-03-23T05:14:09.661074Z",
     "shell.execute_reply": "2024-03-23T05:14:09.660645Z"
    },
    "papermill": {
     "duration": 0.045938,
     "end_time": "2024-03-23T05:14:09.661831",
     "exception": false,
     "start_time": "2024-03-23T05:14:09.615893",
     "status": "completed"
    },
    "tags": []
   },
   "outputs": [],
   "source": [
    "paragraph_matches.append(\n",
    "    (\n",
    "        section_name,\n",
    "        par0,\n",
    "        par1,\n",
    "    )\n",
    ")"
   ]
  },
  {
   "cell_type": "code",
   "execution_count": 308,
   "id": "38188aa4-63b5-4080-b6d1-834bb54f3ce7",
   "metadata": {
    "execution": {
     "iopub.execute_input": "2024-03-23T05:14:09.746424Z",
     "iopub.status.busy": "2024-03-23T05:14:09.746095Z",
     "iopub.status.idle": "2024-03-23T05:14:09.749596Z",
     "shell.execute_reply": "2024-03-23T05:14:09.749167Z"
    },
    "papermill": {
     "duration": 0.046406,
     "end_time": "2024-03-23T05:14:09.750347",
     "exception": false,
     "start_time": "2024-03-23T05:14:09.703941",
     "status": "completed"
    },
    "tags": []
   },
   "outputs": [
    {
     "data": {
      "text/plain": [
       "('methods',\n",
       " 'In this model, `Count` is the count of C>A *de novo* mutations observed in each BXD. `ADJ_AGE` is the product of the number of \"callable\" cytosine/guanine nucleotides in each BXD (i.e., the total number of cytosines/guanines covered by at least 10 sequencing reads) and the number of generations for which the BXD was inbred. We included the logarithm of `ADJ_AGE` as an \"offset\" in order to model the response variable as a rate (expressed per base-pair, per generation) rather than an absolute count; the BXDs differ in both their durations of inbreeding and the proportions of their genomes that were sequenced to sufficient depth, which influences the number of mutations we observe in each BXD. The `Genotype_A` and `Genotype_B` terms represent the genotypes of BXDs at markers `rs27509845` and `rs46276051` (the markers with peak cosine distances on chromosomes 4 and 6 in the two aggregate mutation spectrum distance scans). We limited our analysis to the n = 108 BXDs that were homozygous at both sites, allowing us to model genotypes at either locus as binary variables (\"B\" or \"D\"). Using analysis of variance (ANOVA), we then compared the model including an interaction effect to a model including only additive effects:',\n",
       " 'In this model, `Count` represents the count of C>A *de novo* mutations observed in each BXD mouse strain. `ADJ_AGE` is calculated as the product of the number of \"callable\" cytosine/guanine nucleotides in each BXD (i.e., the total number of cytosines/guanines covered by at least 10 sequencing reads) and the number of generations for which the BXD strain was inbred. To account for differences in inbreeding duration and genome coverage depth among BXDs, we included the logarithm of `ADJ_AGE` as an \"offset\" to model the response variable as a mutation rate (expressed per base-pair, per generation) rather than an absolute count. The genotypes of BXDs at markers `rs27509845` and `rs46276051` are denoted by `Genotype_A` and `Genotype_B`, respectively, which correspond to the markers with peak cosine distances on chromosomes 4 and 6 in the two aggregate mutation spectrum distance scans. Our analysis focused on the n = 108 BXDs that were homozygous at both sites, allowing us to represent genotypes at each locus as binary variables (\"B\" or \"D\"). Through analysis of variance (ANOVA), we compared the model incorporating an interaction effect with a model considering only additive effects:')"
      ]
     },
     "metadata": {},
     "output_type": "display_data"
    }
   ],
   "source": [
    "display(paragraph_matches[-1])"
   ]
  },
  {
   "cell_type": "markdown",
   "id": "9a45b8eb-9a57-4d0a-b311-b7ce8f6b4ceb",
   "metadata": {
    "editable": true,
    "papermill": {
     "duration": 0.041857,
     "end_time": "2024-03-23T05:14:09.834285",
     "exception": false,
     "start_time": "2024-03-23T05:14:09.792428",
     "status": "completed"
    },
    "slideshow": {
     "slide_type": ""
    },
    "tags": []
   },
   "source": [
    "# Close connections"
   ]
  },
  {
   "cell_type": "code",
   "execution_count": 309,
   "id": "91fcd4bb-131b-42b2-b64f-127441bd608b",
   "metadata": {
    "editable": true,
    "execution": {
     "iopub.execute_input": "2024-03-23T05:14:09.919228Z",
     "iopub.status.busy": "2024-03-23T05:14:09.918894Z",
     "iopub.status.idle": "2024-03-23T05:14:09.922393Z",
     "shell.execute_reply": "2024-03-23T05:14:09.921930Z"
    },
    "papermill": {
     "duration": 0.046929,
     "end_time": "2024-03-23T05:14:09.923297",
     "exception": false,
     "start_time": "2024-03-23T05:14:09.876368",
     "status": "completed"
    },
    "slideshow": {
     "slide_type": ""
    },
    "tags": []
   },
   "outputs": [],
   "source": [
    "g.close()"
   ]
  },
  {
   "cell_type": "markdown",
   "id": "be4b2259-6562-4d79-a0d2-a594c44a7fa8",
   "metadata": {
    "editable": true,
    "papermill": {
     "duration": 0.042352,
     "end_time": "2024-03-23T05:14:10.007452",
     "exception": false,
     "start_time": "2024-03-23T05:14:09.965100",
     "status": "completed"
    },
    "slideshow": {
     "slide_type": ""
    },
    "tags": []
   },
   "source": [
    "# Save"
   ]
  },
  {
   "cell_type": "code",
   "execution_count": 310,
   "id": "6b7e80bd-f678-4047-b0f6-3c4e55de4767",
   "metadata": {
    "editable": true,
    "execution": {
     "iopub.execute_input": "2024-03-23T05:14:10.092263Z",
     "iopub.status.busy": "2024-03-23T05:14:10.091949Z",
     "iopub.status.idle": "2024-03-23T05:14:10.095435Z",
     "shell.execute_reply": "2024-03-23T05:14:10.094980Z"
    },
    "papermill": {
     "duration": 0.046627,
     "end_time": "2024-03-23T05:14:10.096112",
     "exception": false,
     "start_time": "2024-03-23T05:14:10.049485",
     "status": "completed"
    },
    "slideshow": {
     "slide_type": ""
    },
    "tags": []
   },
   "outputs": [
    {
     "data": {
      "text/plain": [
       "63"
      ]
     },
     "execution_count": 310,
     "metadata": {},
     "output_type": "execute_result"
    }
   ],
   "source": [
    "len(paragraph_matches)"
   ]
  },
  {
   "cell_type": "code",
   "execution_count": 311,
   "id": "876f2147-1ea0-4f45-8eb2-722761b5394c",
   "metadata": {
    "execution": {
     "iopub.execute_input": "2024-03-23T05:14:10.181013Z",
     "iopub.status.busy": "2024-03-23T05:14:10.180686Z",
     "iopub.status.idle": "2024-03-23T05:14:10.184331Z",
     "shell.execute_reply": "2024-03-23T05:14:10.183894Z"
    },
    "papermill": {
     "duration": 0.046834,
     "end_time": "2024-03-23T05:14:10.185000",
     "exception": false,
     "start_time": "2024-03-23T05:14:10.138166",
     "status": "completed"
    },
    "tags": []
   },
   "outputs": [
    {
     "data": {
      "text/plain": [
       "[('abstract',\n",
       "  'Maintaining germline genome integrity is essential and enormously complex. Hundreds of proteins are involved in DNA replication and proofreading, and hundreds more are mobilized to repair DNA damage [@PMID:28485537]. While loss-of-function mutations in any of the genes encoding these proteins might lead to elevated mutation rates, *mutator alleles* have largely eluded detection in mammals. DNA replication and repair proteins often recognize particular sequence motifs or excise lesions at specific nucleotides. Thus, we might expect that the spectrum of *de novo* mutations &mdash; that is, the frequency of each individual mutation type (C>T, A>G, etc.) &mdash; will differ between genomes that harbor either a mutator or wild-type allele at a given locus. Previously, we used quantitative trait locus mapping to discover candidate mutator alleles in the DNA repair gene *Mutyh* that increased the C>A germline mutation rate in a family of inbred mice known as the BXDs [@PMID:35545679;@PMID:33472028]. In this study we developed a new method, called \"aggregate mutation spectrum distance,\" to detect alleles associated with mutation spectrum variation. By applying this approach to mutation data from the BXDs, we confirmed the presence of the germline mutator locus near *Mutyh* and discovered an additional C>A mutator locus on chromosome 6 that overlaps *Ogg1*, a DNA glycosylase involved in the same base-excision repair network as *Mutyh* [@PMID:17581577]. The effect of a chromosome 6 mutator allele depended on the presence of a mutator allele near *Mutyh*, and BXDs with mutator alleles at both loci had even greater numbers of C>A mutations than those with mutator alleles at either locus alone. Our new methods for analyzing mutation spectra reveal evidence of epistasis between germline mutator alleles, and may be applicable to mutation data from humans and other model organisms.',\n",
       "  'The essential and immensely complex issue of maintaining germline genome integrity involves hundreds of proteins responsible for DNA replication, proofreading, and repair [@PMID:28485537]. While loss-of-function mutations in genes encoding these proteins can result in increased mutation rates, the detection of *mutator alleles* in mammals has been challenging. DNA replication and repair proteins often target specific sequence motifs or excise lesions at particular nucleotides, suggesting that the spectrum of *de novo* mutations (such as C>T, A>G, etc.) may vary between genomes with mutator or wild-type alleles at a specific locus. Previous research utilized quantitative trait locus mapping to identify potential mutator alleles in the DNA repair gene *Mutyh*, which elevated the C>A germline mutation rate in the BXD inbred mouse family [@PMID:35545679;@PMID:33472028]. In this study, a novel method called \"aggregate mutation spectrum distance\" was developed to identify alleles linked to mutation spectrum variability. Analysis of mutation data from the BXDs confirmed the presence of a germline mutator locus near *Mutyh* and revealed an additional C>A mutator locus on chromosome 6 overlapping with *Ogg1*, a DNA glycosylase in the same repair network as *Mutyh* [@PMID:17581577]. The impact of a chromosome 6 mutator allele was dependent on the presence of a mutator allele near *Mutyh*, with BXDs carrying mutator alleles at both loci exhibiting higher numbers of C>A mutations compared to those with mutator alleles at only one locus. These new methods for analyzing mutation spectra highlight evidence of epistasis between germline mutator alleles and have potential applications in studying mutation data across humans and other model organisms.'),\n",
       " ('introduction',\n",
       "  'Germline mutation rates reflect the complex interplay between DNA proofreading and repair pathways, exogenous sources of DNA damage, and life-history traits. For example, parental age is an important determinant of mutation rate variability; in many mammalian species, the number of germline *de novo* mutations observed in offspring increases as a function of paternal and maternal age [@PMID:28959963;@PMID:31549960;@PMID:35771663;@PMID:32804933;@PMID:31492841]. Rates of germline mutation accumulation are also variable across human families [@PMID:26656846;@PMID:31549960], likely due to either genetic variation or differences in environmental exposures. Although numerous protein-coding genes contribute to the maintenance of genome integrity, genetic variants that increase germline mutation rates, known as *mutator alleles*, have proven difficult to discover in mammals.',\n",
       "  'Germline mutation rates are influenced by DNA proofreading and repair pathways, external sources of DNA damage, and life-history traits. Parental age is a key factor affecting mutation rate variability, with the number of new mutations in offspring increasing as parents age in many mammalian species (Jones et al., 2017; Smith et al., 2019; Brown et al., 2020; White et al., 2020; Black et al., 2019). Mutation accumulation rates vary among human families, likely due to genetic differences or environmental exposures (Green et al., 2015; Smith et al., 2019). While many genes play a role in maintaining genome integrity, identifying genetic variants that raise germline mutation rates, called mutator alleles, has been challenging in mammals.')]"
      ]
     },
     "execution_count": 311,
     "metadata": {},
     "output_type": "execute_result"
    }
   ],
   "source": [
    "paragraph_matches[:2]"
   ]
  },
  {
   "cell_type": "code",
   "execution_count": 312,
   "id": "77d20807-9017-4e10-8cb7-6a3c706e9111",
   "metadata": {
    "execution": {
     "iopub.execute_input": "2024-03-23T05:14:10.270314Z",
     "iopub.status.busy": "2024-03-23T05:14:10.270131Z",
     "iopub.status.idle": "2024-03-23T05:14:10.273721Z",
     "shell.execute_reply": "2024-03-23T05:14:10.273279Z"
    },
    "papermill": {
     "duration": 0.046883,
     "end_time": "2024-03-23T05:14:10.274477",
     "exception": false,
     "start_time": "2024-03-23T05:14:10.227594",
     "status": "completed"
    },
    "tags": []
   },
   "outputs": [],
   "source": [
    "df = pd.DataFrame(paragraph_matches).rename(\n",
    "    columns={\n",
    "        0: \"section\",\n",
    "        1: \"original\",\n",
    "        2: \"modified\",\n",
    "    }\n",
    ")"
   ]
  },
  {
   "cell_type": "code",
   "execution_count": 313,
   "id": "44e31258-2754-49a0-af7a-5f3b4ef3a961",
   "metadata": {
    "execution": {
     "iopub.execute_input": "2024-03-23T05:14:10.360465Z",
     "iopub.status.busy": "2024-03-23T05:14:10.360126Z",
     "iopub.status.idle": "2024-03-23T05:14:10.363528Z",
     "shell.execute_reply": "2024-03-23T05:14:10.363090Z"
    },
    "papermill": {
     "duration": 0.047097,
     "end_time": "2024-03-23T05:14:10.364263",
     "exception": false,
     "start_time": "2024-03-23T05:14:10.317166",
     "status": "completed"
    },
    "tags": []
   },
   "outputs": [
    {
     "data": {
      "text/plain": [
       "(63, 3)"
      ]
     },
     "execution_count": 313,
     "metadata": {},
     "output_type": "execute_result"
    }
   ],
   "source": [
    "df.shape"
   ]
  },
  {
   "cell_type": "code",
   "execution_count": 314,
   "id": "f7612c30-e726-474f-8039-aa4bc44d1f16",
   "metadata": {
    "execution": {
     "iopub.execute_input": "2024-03-23T05:14:10.449213Z",
     "iopub.status.busy": "2024-03-23T05:14:10.448905Z",
     "iopub.status.idle": "2024-03-23T05:14:10.456487Z",
     "shell.execute_reply": "2024-03-23T05:14:10.456036Z"
    },
    "papermill": {
     "duration": 0.050615,
     "end_time": "2024-03-23T05:14:10.457192",
     "exception": false,
     "start_time": "2024-03-23T05:14:10.406577",
     "status": "completed"
    },
    "tags": []
   },
   "outputs": [
    {
     "data": {
      "text/html": [
       "<div>\n",
       "<style scoped>\n",
       "    .dataframe tbody tr th:only-of-type {\n",
       "        vertical-align: middle;\n",
       "    }\n",
       "\n",
       "    .dataframe tbody tr th {\n",
       "        vertical-align: top;\n",
       "    }\n",
       "\n",
       "    .dataframe thead th {\n",
       "        text-align: right;\n",
       "    }\n",
       "</style>\n",
       "<table border=\"1\" class=\"dataframe\">\n",
       "  <thead>\n",
       "    <tr style=\"text-align: right;\">\n",
       "      <th></th>\n",
       "      <th>section</th>\n",
       "      <th>original</th>\n",
       "      <th>modified</th>\n",
       "    </tr>\n",
       "  </thead>\n",
       "  <tbody>\n",
       "    <tr>\n",
       "      <th>0</th>\n",
       "      <td>abstract</td>\n",
       "      <td>Maintaining germline genome integrity is essen...</td>\n",
       "      <td>The essential and immensely complex issue of m...</td>\n",
       "    </tr>\n",
       "    <tr>\n",
       "      <th>1</th>\n",
       "      <td>introduction</td>\n",
       "      <td>Germline mutation rates reflect the complex in...</td>\n",
       "      <td>Germline mutation rates are influenced by DNA ...</td>\n",
       "    </tr>\n",
       "    <tr>\n",
       "      <th>2</th>\n",
       "      <td>introduction</td>\n",
       "      <td>The dearth of observed germline mutators in ma...</td>\n",
       "      <td>The scarcity of observed germline mutators in ...</td>\n",
       "    </tr>\n",
       "    <tr>\n",
       "      <th>3</th>\n",
       "      <td>introduction</td>\n",
       "      <td>Despite these challenges, less traditional str...</td>\n",
       "      <td>Despite facing challenges, researchers have ut...</td>\n",
       "    </tr>\n",
       "    <tr>\n",
       "      <th>4</th>\n",
       "      <td>introduction</td>\n",
       "      <td>In mice, a germline mutator allele was recentl...</td>\n",
       "      <td>In a recent study, researchers identified a ge...</td>\n",
       "    </tr>\n",
       "  </tbody>\n",
       "</table>\n",
       "</div>"
      ],
      "text/plain": [
       "        section                                           original  \\\n",
       "0      abstract  Maintaining germline genome integrity is essen...   \n",
       "1  introduction  Germline mutation rates reflect the complex in...   \n",
       "2  introduction  The dearth of observed germline mutators in ma...   \n",
       "3  introduction  Despite these challenges, less traditional str...   \n",
       "4  introduction  In mice, a germline mutator allele was recentl...   \n",
       "\n",
       "                                            modified  \n",
       "0  The essential and immensely complex issue of m...  \n",
       "1  Germline mutation rates are influenced by DNA ...  \n",
       "2  The scarcity of observed germline mutators in ...  \n",
       "3  Despite facing challenges, researchers have ut...  \n",
       "4  In a recent study, researchers identified a ge...  "
      ]
     },
     "execution_count": 314,
     "metadata": {},
     "output_type": "execute_result"
    }
   ],
   "source": [
    "df.head()"
   ]
  },
  {
   "cell_type": "code",
   "execution_count": 315,
   "id": "e072fbf8-91bd-4684-8782-9ccb8d6ee565",
   "metadata": {
    "execution": {
     "iopub.execute_input": "2024-03-23T05:14:10.570763Z",
     "iopub.status.busy": "2024-03-23T05:14:10.570433Z",
     "iopub.status.idle": "2024-03-23T05:14:10.573784Z",
     "shell.execute_reply": "2024-03-23T05:14:10.573336Z"
    },
    "papermill": {
     "duration": 0.046781,
     "end_time": "2024-03-23T05:14:10.574533",
     "exception": false,
     "start_time": "2024-03-23T05:14:10.527752",
     "status": "completed"
    },
    "tags": []
   },
   "outputs": [],
   "source": [
    "df.to_pickle(OUTPUT_FILE_PATH)"
   ]
  },
  {
   "cell_type": "markdown",
   "id": "41ee2c19-18a5-4742-a3ec-42771e914fb7",
   "metadata": {
    "editable": true,
    "papermill": {
     "duration": 0.041888,
     "end_time": "2024-03-23T05:14:10.659024",
     "exception": false,
     "start_time": "2024-03-23T05:14:10.617136",
     "status": "completed"
    },
    "slideshow": {
     "slide_type": ""
    },
    "tags": []
   },
   "source": [
    "# Reverse original/modified columns"
   ]
  },
  {
   "cell_type": "code",
   "execution_count": 316,
   "id": "ead9e4b4-17dc-4ebd-9d7f-a1c96b4a84de",
   "metadata": {
    "editable": true,
    "execution": {
     "iopub.execute_input": "2024-03-23T05:14:10.745299Z",
     "iopub.status.busy": "2024-03-23T05:14:10.744972Z",
     "iopub.status.idle": "2024-03-23T05:14:10.748652Z",
     "shell.execute_reply": "2024-03-23T05:14:10.748189Z"
    },
    "papermill": {
     "duration": 0.047322,
     "end_time": "2024-03-23T05:14:10.749387",
     "exception": false,
     "start_time": "2024-03-23T05:14:10.702065",
     "status": "completed"
    },
    "slideshow": {
     "slide_type": ""
    },
    "tags": []
   },
   "outputs": [],
   "source": [
    "df_reversed = df.rename(columns={\"original\": \"modified2\"}).rename(\n",
    "    columns={\"modified\": \"original\", \"modified2\": \"modified\"}\n",
    ")"
   ]
  },
  {
   "cell_type": "code",
   "execution_count": 317,
   "id": "74e3f179-5564-4cc5-aff6-26ec01072739",
   "metadata": {
    "editable": true,
    "execution": {
     "iopub.execute_input": "2024-03-23T05:14:10.834815Z",
     "iopub.status.busy": "2024-03-23T05:14:10.834483Z",
     "iopub.status.idle": "2024-03-23T05:14:10.837984Z",
     "shell.execute_reply": "2024-03-23T05:14:10.837475Z"
    },
    "papermill": {
     "duration": 0.046893,
     "end_time": "2024-03-23T05:14:10.838720",
     "exception": false,
     "start_time": "2024-03-23T05:14:10.791827",
     "status": "completed"
    },
    "slideshow": {
     "slide_type": ""
    },
    "tags": []
   },
   "outputs": [
    {
     "data": {
      "text/plain": [
       "(63, 3)"
      ]
     },
     "execution_count": 317,
     "metadata": {},
     "output_type": "execute_result"
    }
   ],
   "source": [
    "df_reversed.shape"
   ]
  },
  {
   "cell_type": "code",
   "execution_count": 318,
   "id": "0da23618-76b8-4e26-b053-e2acb025bc27",
   "metadata": {
    "editable": true,
    "execution": {
     "iopub.execute_input": "2024-03-23T05:14:10.924127Z",
     "iopub.status.busy": "2024-03-23T05:14:10.923935Z",
     "iopub.status.idle": "2024-03-23T05:14:10.930252Z",
     "shell.execute_reply": "2024-03-23T05:14:10.929790Z"
    },
    "papermill": {
     "duration": 0.049651,
     "end_time": "2024-03-23T05:14:10.930930",
     "exception": false,
     "start_time": "2024-03-23T05:14:10.881279",
     "status": "completed"
    },
    "slideshow": {
     "slide_type": ""
    },
    "tags": []
   },
   "outputs": [
    {
     "data": {
      "text/html": [
       "<div>\n",
       "<style scoped>\n",
       "    .dataframe tbody tr th:only-of-type {\n",
       "        vertical-align: middle;\n",
       "    }\n",
       "\n",
       "    .dataframe tbody tr th {\n",
       "        vertical-align: top;\n",
       "    }\n",
       "\n",
       "    .dataframe thead th {\n",
       "        text-align: right;\n",
       "    }\n",
       "</style>\n",
       "<table border=\"1\" class=\"dataframe\">\n",
       "  <thead>\n",
       "    <tr style=\"text-align: right;\">\n",
       "      <th></th>\n",
       "      <th>section</th>\n",
       "      <th>modified</th>\n",
       "      <th>original</th>\n",
       "    </tr>\n",
       "  </thead>\n",
       "  <tbody>\n",
       "    <tr>\n",
       "      <th>0</th>\n",
       "      <td>abstract</td>\n",
       "      <td>Maintaining germline genome integrity is essen...</td>\n",
       "      <td>The essential and immensely complex issue of m...</td>\n",
       "    </tr>\n",
       "    <tr>\n",
       "      <th>1</th>\n",
       "      <td>introduction</td>\n",
       "      <td>Germline mutation rates reflect the complex in...</td>\n",
       "      <td>Germline mutation rates are influenced by DNA ...</td>\n",
       "    </tr>\n",
       "    <tr>\n",
       "      <th>2</th>\n",
       "      <td>introduction</td>\n",
       "      <td>The dearth of observed germline mutators in ma...</td>\n",
       "      <td>The scarcity of observed germline mutators in ...</td>\n",
       "    </tr>\n",
       "    <tr>\n",
       "      <th>3</th>\n",
       "      <td>introduction</td>\n",
       "      <td>Despite these challenges, less traditional str...</td>\n",
       "      <td>Despite facing challenges, researchers have ut...</td>\n",
       "    </tr>\n",
       "    <tr>\n",
       "      <th>4</th>\n",
       "      <td>introduction</td>\n",
       "      <td>In mice, a germline mutator allele was recentl...</td>\n",
       "      <td>In a recent study, researchers identified a ge...</td>\n",
       "    </tr>\n",
       "  </tbody>\n",
       "</table>\n",
       "</div>"
      ],
      "text/plain": [
       "        section                                           modified  \\\n",
       "0      abstract  Maintaining germline genome integrity is essen...   \n",
       "1  introduction  Germline mutation rates reflect the complex in...   \n",
       "2  introduction  The dearth of observed germline mutators in ma...   \n",
       "3  introduction  Despite these challenges, less traditional str...   \n",
       "4  introduction  In mice, a germline mutator allele was recentl...   \n",
       "\n",
       "                                            original  \n",
       "0  The essential and immensely complex issue of m...  \n",
       "1  Germline mutation rates are influenced by DNA ...  \n",
       "2  The scarcity of observed germline mutators in ...  \n",
       "3  Despite facing challenges, researchers have ut...  \n",
       "4  In a recent study, researchers identified a ge...  "
      ]
     },
     "execution_count": 318,
     "metadata": {},
     "output_type": "execute_result"
    }
   ],
   "source": [
    "df_reversed.head()"
   ]
  },
  {
   "cell_type": "markdown",
   "id": "054e4b28-53f4-41c2-abb7-ff1a0182164b",
   "metadata": {
    "editable": true,
    "papermill": {
     "duration": 0.042383,
     "end_time": "2024-03-23T05:14:11.015980",
     "exception": false,
     "start_time": "2024-03-23T05:14:10.973597",
     "status": "completed"
    },
    "slideshow": {
     "slide_type": ""
    },
    "tags": []
   },
   "source": [
    "## Save"
   ]
  },
  {
   "cell_type": "code",
   "execution_count": 319,
   "id": "af88ecb3-70f7-40d3-8289-68ba99bbc7f3",
   "metadata": {
    "execution": {
     "iopub.execute_input": "2024-03-23T05:14:11.105125Z",
     "iopub.status.busy": "2024-03-23T05:14:11.104669Z",
     "iopub.status.idle": "2024-03-23T05:14:11.108021Z",
     "shell.execute_reply": "2024-03-23T05:14:11.107580Z"
    },
    "papermill": {
     "duration": 0.048797,
     "end_time": "2024-03-23T05:14:11.108745",
     "exception": false,
     "start_time": "2024-03-23T05:14:11.059948",
     "status": "completed"
    },
    "tags": []
   },
   "outputs": [],
   "source": [
    "df_reversed.to_pickle(REVERSED_OUTPUT_FILE_PATH)"
   ]
  },
  {
   "cell_type": "code",
   "execution_count": null,
   "id": "02304589-1223-48c7-9c0a-26bfa26392e7",
   "metadata": {
    "editable": true,
    "papermill": {
     "duration": 0.043235,
     "end_time": "2024-03-23T05:14:11.224684",
     "exception": false,
     "start_time": "2024-03-23T05:14:11.181449",
     "status": "completed"
    },
    "slideshow": {
     "slide_type": ""
    },
    "tags": []
   },
   "outputs": [],
   "source": []
  }
 ],
 "metadata": {
  "jupytext": {
   "cell_metadata_filter": "all,-execution,-papermill,-trusted",
   "notebook_metadata_filter": "-jupytext.text_representation.jupytext_version"
  },
  "kernelspec": {
   "display_name": "Python 3 (ipykernel)",
   "language": "python",
   "name": "python3"
  },
  "language_info": {
   "codemirror_mode": {
    "name": "ipython",
    "version": 3
   },
   "file_extension": ".py",
   "mimetype": "text/x-python",
   "name": "python",
   "nbconvert_exporter": "python",
   "pygments_lexer": "ipython3",
   "version": "3.11.8"
  },
  "papermill": {
   "default_parameters": {},
   "duration": 39.116859,
   "end_time": "2024-03-23T05:14:11.786413",
   "environment_variables": {},
   "exception": null,
   "input_path": "/home/miltondp/projects/others/manubot/manubot-ai-editor-code/nbs/01-paragraph_match/01-epistasis-gpt35-par_match.ipynb",
   "output_path": "/home/miltondp/projects/others/manubot/manubot-ai-editor-code/nbs/01-paragraph_match/01-epistasis-gpt35-par_match.run.ipynb",
   "parameters": {
    "OUTPUT_FILE_PATH": "/home/miltondp/projects/others/manubot/manubot-ai-editor-code/base/results/paragraph_match/epistasis-manuscript--gpt-3.5-turbo.pkl",
    "REVERSED_OUTPUT_FILE_PATH": "/home/miltondp/projects/others/manubot/manubot-ai-editor-code/base/results/paragraph_match/epistasis-manuscript--gpt-3.5-turbo--reversed.pkl"
   },
   "start_time": "2024-03-23T05:13:32.669554",
   "version": "2.5.0"
  }
 },
 "nbformat": 4,
 "nbformat_minor": 5
}
