{
 "cells": [
  {
   "cell_type": "markdown",
   "id": "070a050a-44d1-42c2-b274-c8c180a2a0ba",
   "metadata": {
    "editable": true,
    "papermill": {
     "duration": 0.043693,
     "end_time": "2024-03-20T21:35:06.814255",
     "exception": false,
     "start_time": "2024-03-20T21:35:06.770562",
     "status": "completed"
    },
    "slideshow": {
     "slide_type": ""
    },
    "tags": []
   },
   "source": [
    "# Description"
   ]
  },
  {
   "cell_type": "markdown",
   "id": "e4fcbb4d-aa04-4e1a-9aee-0053c559e157",
   "metadata": {
    "editable": true,
    "papermill": {
     "duration": 0.020783,
     "end_time": "2024-03-20T21:35:06.873953",
     "exception": false,
     "start_time": "2024-03-20T21:35:06.853170",
     "status": "completed"
    },
    "slideshow": {
     "slide_type": ""
    },
    "tags": []
   },
   "source": [
    "This notebook reads a PR from a manuscript and matches original paragraphs with modified ones."
   ]
  },
  {
   "cell_type": "markdown",
   "id": "b237f234-dc98-43e9-8ff5-8922c410c377",
   "metadata": {
    "editable": true,
    "papermill": {
     "duration": 0.020951,
     "end_time": "2024-03-20T21:35:06.916073",
     "exception": false,
     "start_time": "2024-03-20T21:35:06.895122",
     "status": "completed"
    },
    "slideshow": {
     "slide_type": ""
    },
    "tags": []
   },
   "source": [
    "# Modules"
   ]
  },
  {
   "cell_type": "code",
   "execution_count": 1,
   "id": "70413318-1f5e-4d58-b1a2-cb4f01c13e86",
   "metadata": {
    "editable": true,
    "papermill": {
     "duration": 1.066576,
     "end_time": "2024-03-20T21:35:08.003822",
     "exception": false,
     "start_time": "2024-03-20T21:35:06.937246",
     "status": "completed"
    },
    "slideshow": {
     "slide_type": ""
    },
    "tags": []
   },
   "outputs": [],
   "source": [
    "from pathlib import Path\n",
    "\n",
    "import pandas as pd\n",
    "from github import Auth, Github\n",
    "from IPython.display import display\n",
    "from proj import conf\n",
    "from proj.utils import process_paragraph"
   ]
  },
  {
   "cell_type": "markdown",
   "id": "3f78fd18-86b7-40b9-b80e-a8b18d001682",
   "metadata": {
    "editable": true,
    "papermill": {
     "duration": 0.031148,
     "end_time": "2024-03-20T21:35:08.067039",
     "exception": false,
     "start_time": "2024-03-20T21:35:08.035891",
     "status": "completed"
    },
    "slideshow": {
     "slide_type": ""
    },
    "tags": []
   },
   "source": [
    "# Settings/paths"
   ]
  },
  {
   "cell_type": "code",
   "execution_count": 2,
   "id": "10a3ceca-1480-45b0-b04d-cb402ff95abf",
   "metadata": {
    "editable": true,
    "papermill": {
     "duration": 0.025307,
     "end_time": "2024-03-20T21:35:08.119689",
     "exception": false,
     "start_time": "2024-03-20T21:35:08.094382",
     "status": "completed"
    },
    "slideshow": {
     "slide_type": ""
    },
    "tags": [
     "parameters"
    ]
   },
   "outputs": [],
   "source": [
    "REPO = \"pivlab/manubot-ai-editor-code-test-phenoplier-manuscript\"\n",
    "PR = (4, \"gpt-3.5-turbo\")\n",
    "\n",
    "OUTPUT_FILE_PATH = None\n",
    "REVERSED_OUTPUT_FILE_PATH = None"
   ]
  },
  {
   "cell_type": "code",
   "execution_count": 3,
   "id": "fcf9aafd",
   "metadata": {
    "lines_to_next_cell": 2,
    "papermill": {
     "duration": 0.025423,
     "end_time": "2024-03-20T21:35:08.166482",
     "exception": false,
     "start_time": "2024-03-20T21:35:08.141059",
     "status": "completed"
    },
    "tags": [
     "injected-parameters"
    ]
   },
   "outputs": [],
   "source": [
    "# Parameters\n",
    "OUTPUT_FILE_PATH = \"/home/miltondp/projects/others/manubot/manubot-ai-editor-code/base/results/paragraph_match/phenoplier-manuscript--gpt-3.5-turbo.pkl\"\n",
    "REVERSED_OUTPUT_FILE_PATH = \"/home/miltondp/projects/others/manubot/manubot-ai-editor-code/base/results/paragraph_match/phenoplier-manuscript--gpt-3.5-turbo--reversed.pkl\""
   ]
  },
  {
   "cell_type": "code",
   "execution_count": 4,
   "id": "71351755-ed5f-43a2-a886-6ef08afaddf4",
   "metadata": {
    "editable": true,
    "papermill": {
     "duration": 0.028958,
     "end_time": "2024-03-20T21:35:08.216745",
     "exception": false,
     "start_time": "2024-03-20T21:35:08.187787",
     "status": "completed"
    },
    "slideshow": {
     "slide_type": ""
    },
    "tags": []
   },
   "outputs": [
    {
     "data": {
      "text/plain": [
       "PosixPath('/home/miltondp/projects/others/manubot/manubot-ai-editor-code/base/results/paragraph_match/phenoplier-manuscript--gpt-3.5-turbo.pkl')"
      ]
     },
     "metadata": {},
     "output_type": "display_data"
    }
   ],
   "source": [
    "OUTPUT_FILE_PATH = Path(OUTPUT_FILE_PATH).resolve()\n",
    "OUTPUT_FILE_PATH.parent.mkdir(parents=True, exist_ok=True)\n",
    "display(OUTPUT_FILE_PATH)"
   ]
  },
  {
   "cell_type": "code",
   "execution_count": 5,
   "id": "d20e7ef9-1535-47ac-a5aa-9fe635fba9b9",
   "metadata": {
    "editable": true,
    "papermill": {
     "duration": 0.02661,
     "end_time": "2024-03-20T21:35:08.264643",
     "exception": false,
     "start_time": "2024-03-20T21:35:08.238033",
     "status": "completed"
    },
    "slideshow": {
     "slide_type": ""
    },
    "tags": []
   },
   "outputs": [
    {
     "data": {
      "text/plain": [
       "PosixPath('/home/miltondp/projects/others/manubot/manubot-ai-editor-code/base/results/paragraph_match/phenoplier-manuscript--gpt-3.5-turbo--reversed.pkl')"
      ]
     },
     "metadata": {},
     "output_type": "display_data"
    }
   ],
   "source": [
    "REVERSED_OUTPUT_FILE_PATH = Path(REVERSED_OUTPUT_FILE_PATH).resolve()\n",
    "REVERSED_OUTPUT_FILE_PATH.parent.mkdir(parents=True, exist_ok=True)\n",
    "display(REVERSED_OUTPUT_FILE_PATH)"
   ]
  },
  {
   "cell_type": "markdown",
   "id": "c42b83b5-84b7-45ff-88ee-3651aa5c9c55",
   "metadata": {
    "editable": true,
    "papermill": {
     "duration": 0.021354,
     "end_time": "2024-03-20T21:35:08.307601",
     "exception": false,
     "start_time": "2024-03-20T21:35:08.286247",
     "status": "completed"
    },
    "slideshow": {
     "slide_type": ""
    },
    "tags": []
   },
   "source": [
    "# Get Repo"
   ]
  },
  {
   "cell_type": "code",
   "execution_count": 6,
   "id": "f1d1f476-f5b5-4d1c-9c3a-822e9bef4b27",
   "metadata": {
    "editable": true,
    "papermill": {
     "duration": 0.025307,
     "end_time": "2024-03-20T21:35:08.354394",
     "exception": false,
     "start_time": "2024-03-20T21:35:08.329087",
     "status": "completed"
    },
    "slideshow": {
     "slide_type": ""
    },
    "tags": []
   },
   "outputs": [],
   "source": [
    "auth = Auth.Token(conf.github.API_TOKEN)"
   ]
  },
  {
   "cell_type": "code",
   "execution_count": 7,
   "id": "4e3db6e2-f267-4d60-8ff3-703698a09f88",
   "metadata": {
    "editable": true,
    "papermill": {
     "duration": 0.025403,
     "end_time": "2024-03-20T21:35:08.401283",
     "exception": false,
     "start_time": "2024-03-20T21:35:08.375880",
     "status": "completed"
    },
    "slideshow": {
     "slide_type": ""
    },
    "tags": []
   },
   "outputs": [],
   "source": [
    "g = Github(auth=auth)"
   ]
  },
  {
   "cell_type": "code",
   "execution_count": 8,
   "id": "cc6a365d-59f5-4537-9fd7-869ee4156046",
   "metadata": {
    "editable": true,
    "papermill": {
     "duration": 0.435169,
     "end_time": "2024-03-20T21:35:08.857929",
     "exception": false,
     "start_time": "2024-03-20T21:35:08.422760",
     "status": "completed"
    },
    "slideshow": {
     "slide_type": ""
    },
    "tags": []
   },
   "outputs": [],
   "source": [
    "repo = g.get_repo(REPO)"
   ]
  },
  {
   "cell_type": "markdown",
   "id": "f2d9fb5d-6838-484b-9202-ceac74fcb336",
   "metadata": {
    "editable": true,
    "papermill": {
     "duration": 0.021418,
     "end_time": "2024-03-20T21:35:08.901994",
     "exception": false,
     "start_time": "2024-03-20T21:35:08.880576",
     "status": "completed"
    },
    "slideshow": {
     "slide_type": ""
    },
    "tags": []
   },
   "source": [
    "# Get Pull Request"
   ]
  },
  {
   "cell_type": "code",
   "execution_count": 9,
   "id": "297c9dec-9e00-490d-8723-44208b3fe8f4",
   "metadata": {
    "editable": true,
    "papermill": {
     "duration": 0.589038,
     "end_time": "2024-03-20T21:35:09.512457",
     "exception": false,
     "start_time": "2024-03-20T21:35:08.923419",
     "status": "completed"
    },
    "slideshow": {
     "slide_type": ""
    },
    "tags": []
   },
   "outputs": [],
   "source": [
    "pr = repo.get_pull(PR[0])"
   ]
  },
  {
   "cell_type": "code",
   "execution_count": 10,
   "id": "064b1017-a495-48b3-bea3-1b9a67ad1b6f",
   "metadata": {
    "editable": true,
    "papermill": {
     "duration": 0.557504,
     "end_time": "2024-03-20T21:35:10.093305",
     "exception": false,
     "start_time": "2024-03-20T21:35:09.535801",
     "status": "completed"
    },
    "slideshow": {
     "slide_type": ""
    },
    "tags": []
   },
   "outputs": [
    {
     "data": {
      "text/plain": [
       "[File(sha=\"7b45c7b7750feb01fb8d7c476a7f000c333810e5\", filename=\"content/01.abstract.md\"),\n",
       " File(sha=\"1061b06fb8319082f2d5fe4dce4571bd27a0505e\", filename=\"content/02.introduction.md\"),\n",
       " File(sha=\"37c72c190d992a0802af4597ee5d3dc13f7d99c8\", filename=\"content/04.05.00.results_framework.md\"),\n",
       " File(sha=\"b0721dfbbc664a353baba59e44f9b26bfaa11204\", filename=\"content/04.05.01.results_crispr.md\"),\n",
       " File(sha=\"a74d6a0125a366a4c0fb7089f67cd2ee81c86c3d\", filename=\"content/04.15.results_drug_disease_prediction.md\"),\n",
       " File(sha=\"9b063b538a665c5efa1dcb6952930bd77f2e979e\", filename=\"content/04.20.00.results_traits_clustering.md\"),\n",
       " File(sha=\"ac236caa6554577b64cd88943e927f4fdff87d4e\", filename=\"content/05.discussion.md\"),\n",
       " File(sha=\"674d7fa2712c6b536cb6b36b9a0d90375e9c8687\", filename=\"content/07.00.methods.md\"),\n",
       " File(sha=\"fd6c4f43548c26c1f9b074d6585453e27d4dc171\", filename=\"content/50.00.supplementary_material.md\")]"
      ]
     },
     "execution_count": 10,
     "metadata": {},
     "output_type": "execute_result"
    }
   ],
   "source": [
    "list(pr.get_files())"
   ]
  },
  {
   "cell_type": "code",
   "execution_count": 11,
   "id": "7bc9b271-7ed2-4994-9d36-c8afa946b017",
   "metadata": {
    "editable": true,
    "papermill": {
     "duration": 0.37112,
     "end_time": "2024-03-20T21:35:10.505488",
     "exception": false,
     "start_time": "2024-03-20T21:35:10.134368",
     "status": "completed"
    },
    "slideshow": {
     "slide_type": ""
    },
    "tags": []
   },
   "outputs": [],
   "source": [
    "pr_commits = list(pr.get_commits())"
   ]
  },
  {
   "cell_type": "code",
   "execution_count": 12,
   "id": "446a1453-5729-4687-9b93-8165dd0e2793",
   "metadata": {
    "editable": true,
    "papermill": {
     "duration": 0.026602,
     "end_time": "2024-03-20T21:35:10.556861",
     "exception": false,
     "start_time": "2024-03-20T21:35:10.530259",
     "status": "completed"
    },
    "slideshow": {
     "slide_type": ""
    },
    "tags": []
   },
   "outputs": [
    {
     "data": {
      "text/plain": [
       "[Commit(sha=\"11964b6420a11bf4e2d71325447b6af65c696471\")]"
      ]
     },
     "execution_count": 12,
     "metadata": {},
     "output_type": "execute_result"
    }
   ],
   "source": [
    "pr_commits[0].parents"
   ]
  },
  {
   "cell_type": "code",
   "execution_count": 13,
   "id": "9c2382a1-adcc-47dc-8c75-d34f8500f93e",
   "metadata": {
    "editable": true,
    "papermill": {
     "duration": 0.025828,
     "end_time": "2024-03-20T21:35:10.604260",
     "exception": false,
     "start_time": "2024-03-20T21:35:10.578432",
     "status": "completed"
    },
    "slideshow": {
     "slide_type": ""
    },
    "tags": []
   },
   "outputs": [
    {
     "name": "stdout",
     "output_type": "stream",
     "text": [
      "11964b6420a11bf4e2d71325447b6af65c696471\n"
     ]
    }
   ],
   "source": [
    "pr_prev = pr_commits[0].parents[0].sha\n",
    "print(pr_prev)"
   ]
  },
  {
   "cell_type": "code",
   "execution_count": 14,
   "id": "96c9b088-a166-49d6-a0df-64d2cf690b7e",
   "metadata": {
    "editable": true,
    "papermill": {
     "duration": 0.025694,
     "end_time": "2024-03-20T21:35:10.651559",
     "exception": false,
     "start_time": "2024-03-20T21:35:10.625865",
     "status": "completed"
    },
    "slideshow": {
     "slide_type": ""
    },
    "tags": []
   },
   "outputs": [
    {
     "name": "stdout",
     "output_type": "stream",
     "text": [
      "d0d51c89f01eeccdb26de4674beecb6005c33ae7\n"
     ]
    }
   ],
   "source": [
    "pr_curr = pr_commits[0].sha\n",
    "print(pr_curr)"
   ]
  },
  {
   "cell_type": "markdown",
   "id": "10872c1e-0184-46c6-a04f-dce43438d404",
   "metadata": {
    "editable": true,
    "papermill": {
     "duration": 0.021484,
     "end_time": "2024-03-20T21:35:10.694615",
     "exception": false,
     "start_time": "2024-03-20T21:35:10.673131",
     "status": "completed"
    },
    "slideshow": {
     "slide_type": ""
    },
    "tags": []
   },
   "source": [
    "# Get file list"
   ]
  },
  {
   "cell_type": "code",
   "execution_count": 15,
   "id": "242729cf-1778-4162-b813-249ae6c8b632",
   "metadata": {
    "editable": true,
    "papermill": {
     "duration": 0.208278,
     "end_time": "2024-03-20T21:35:10.924600",
     "exception": false,
     "start_time": "2024-03-20T21:35:10.716322",
     "status": "completed"
    },
    "slideshow": {
     "slide_type": ""
    },
    "tags": []
   },
   "outputs": [
    {
     "data": {
      "text/plain": [
       "[File(sha=\"7b45c7b7750feb01fb8d7c476a7f000c333810e5\", filename=\"content/01.abstract.md\"),\n",
       " File(sha=\"1061b06fb8319082f2d5fe4dce4571bd27a0505e\", filename=\"content/02.introduction.md\"),\n",
       " File(sha=\"37c72c190d992a0802af4597ee5d3dc13f7d99c8\", filename=\"content/04.05.00.results_framework.md\"),\n",
       " File(sha=\"b0721dfbbc664a353baba59e44f9b26bfaa11204\", filename=\"content/04.05.01.results_crispr.md\"),\n",
       " File(sha=\"a74d6a0125a366a4c0fb7089f67cd2ee81c86c3d\", filename=\"content/04.15.results_drug_disease_prediction.md\"),\n",
       " File(sha=\"9b063b538a665c5efa1dcb6952930bd77f2e979e\", filename=\"content/04.20.00.results_traits_clustering.md\"),\n",
       " File(sha=\"ac236caa6554577b64cd88943e927f4fdff87d4e\", filename=\"content/05.discussion.md\"),\n",
       " File(sha=\"674d7fa2712c6b536cb6b36b9a0d90375e9c8687\", filename=\"content/07.00.methods.md\"),\n",
       " File(sha=\"fd6c4f43548c26c1f9b074d6585453e27d4dc171\", filename=\"content/50.00.supplementary_material.md\")]"
      ]
     },
     "metadata": {},
     "output_type": "display_data"
    }
   ],
   "source": [
    "pr_files = [f for f in pr.get_files() if f.filename.endswith(\".md\")]\n",
    "display(pr_files)"
   ]
  },
  {
   "cell_type": "markdown",
   "id": "bce10792-ba0d-4716-9dcd-b44c2eb668d4",
   "metadata": {
    "editable": true,
    "papermill": {
     "duration": 0.021481,
     "end_time": "2024-03-20T21:35:10.967529",
     "exception": false,
     "start_time": "2024-03-20T21:35:10.946048",
     "status": "completed"
    },
    "slideshow": {
     "slide_type": ""
    },
    "tags": []
   },
   "source": [
    "# Sections"
   ]
  },
  {
   "cell_type": "code",
   "execution_count": 16,
   "id": "6253b146-7bd2-44ff-9ccc-6f245a11dd23",
   "metadata": {
    "papermill": {
     "duration": 0.025348,
     "end_time": "2024-03-20T21:35:11.014519",
     "exception": false,
     "start_time": "2024-03-20T21:35:10.989171",
     "status": "completed"
    },
    "tags": []
   },
   "outputs": [],
   "source": [
    "paragraph_matches = []"
   ]
  },
  {
   "cell_type": "markdown",
   "id": "7c403bcf-5c79-4bde-adfe-a09464b8b076",
   "metadata": {
    "editable": true,
    "papermill": {
     "duration": 0.021594,
     "end_time": "2024-03-20T21:35:11.057781",
     "exception": false,
     "start_time": "2024-03-20T21:35:11.036187",
     "status": "completed"
    },
    "slideshow": {
     "slide_type": ""
    },
    "tags": []
   },
   "source": [
    "## Abstract"
   ]
  },
  {
   "cell_type": "code",
   "execution_count": 17,
   "id": "5c13a99f-54e2-463e-9d20-d43a89c9ef76",
   "metadata": {
    "papermill": {
     "duration": 0.025496,
     "end_time": "2024-03-20T21:35:11.104873",
     "exception": false,
     "start_time": "2024-03-20T21:35:11.079377",
     "status": "completed"
    },
    "tags": []
   },
   "outputs": [],
   "source": [
    "section_name = \"abstract\""
   ]
  },
  {
   "cell_type": "code",
   "execution_count": 18,
   "id": "1558f08b-19a8-4951-8dea-228d7f59099d",
   "metadata": {
    "editable": true,
    "papermill": {
     "duration": 0.025711,
     "end_time": "2024-03-20T21:35:11.152272",
     "exception": false,
     "start_time": "2024-03-20T21:35:11.126561",
     "status": "completed"
    },
    "slideshow": {
     "slide_type": ""
    },
    "tags": []
   },
   "outputs": [
    {
     "name": "stdout",
     "output_type": "stream",
     "text": [
      "content/01.abstract.md\n"
     ]
    }
   ],
   "source": [
    "pr_filename = pr_files[0].filename\n",
    "assert section_name in pr_filename\n",
    "print(pr_filename)"
   ]
  },
  {
   "cell_type": "markdown",
   "id": "11efc147-ae59-4db5-990d-7d30c89ed8d0",
   "metadata": {
    "editable": true,
    "papermill": {
     "duration": 0.021641,
     "end_time": "2024-03-20T21:35:11.195604",
     "exception": false,
     "start_time": "2024-03-20T21:35:11.173963",
     "status": "completed"
    },
    "slideshow": {
     "slide_type": ""
    },
    "tags": []
   },
   "source": [
    "### Original"
   ]
  },
  {
   "cell_type": "code",
   "execution_count": 19,
   "id": "47db229e-b5e4-4c9a-ae54-fc984d9fdcde",
   "metadata": {
    "papermill": {
     "duration": 0.190922,
     "end_time": "2024-03-20T21:35:11.408251",
     "exception": false,
     "start_time": "2024-03-20T21:35:11.217329",
     "status": "completed"
    },
    "tags": []
   },
   "outputs": [
    {
     "name": "stdout",
     "output_type": "stream",
     "text": [
      "## Abstract {.page_break_before}\n",
      "\n",
      "Genes act in con\n"
     ]
    }
   ],
   "source": [
    "# get content\n",
    "orig_section_content = repo.get_contents(pr_filename, pr_prev).decoded_content.decode(\n",
    "    \"utf-8\"\n",
    ")\n",
    "print(orig_section_content[:50])"
   ]
  },
  {
   "cell_type": "code",
   "execution_count": 20,
   "id": "1c6e25fa-ef56-4d1a-8127-064e5cc348aa",
   "metadata": {
    "papermill": {
     "duration": 0.037046,
     "end_time": "2024-03-20T21:35:11.478042",
     "exception": false,
     "start_time": "2024-03-20T21:35:11.440996",
     "status": "completed"
    },
    "tags": []
   },
   "outputs": [
    {
     "data": {
      "text/plain": [
       "2"
      ]
     },
     "metadata": {},
     "output_type": "display_data"
    }
   ],
   "source": [
    "# split by paragraph\n",
    "orig_section_paragraphs = orig_section_content.split(\"\\n\\n\")\n",
    "display(len(orig_section_paragraphs))"
   ]
  },
  {
   "cell_type": "markdown",
   "id": "52d7d0ff-91f7-4435-ac51-78c9c9ce25fa",
   "metadata": {
    "editable": true,
    "papermill": {
     "duration": 0.021707,
     "end_time": "2024-03-20T21:35:11.527741",
     "exception": false,
     "start_time": "2024-03-20T21:35:11.506034",
     "status": "completed"
    },
    "slideshow": {
     "slide_type": ""
    },
    "tags": []
   },
   "source": [
    "### Modified"
   ]
  },
  {
   "cell_type": "code",
   "execution_count": 21,
   "id": "c12094b0-c50f-4d98-85f7-dd5072ff68e1",
   "metadata": {
    "papermill": {
     "duration": 0.264218,
     "end_time": "2024-03-20T21:35:11.813740",
     "exception": false,
     "start_time": "2024-03-20T21:35:11.549522",
     "status": "completed"
    },
    "tags": []
   },
   "outputs": [
    {
     "name": "stdout",
     "output_type": "stream",
     "text": [
      "## Abstract {.page_break_before}\n",
      "\n",
      "How do genes int\n"
     ]
    }
   ],
   "source": [
    "# get content\n",
    "mod_section_content = repo.get_contents(pr_filename, pr_curr).decoded_content.decode(\n",
    "    \"utf-8\"\n",
    ")\n",
    "print(mod_section_content[:50])"
   ]
  },
  {
   "cell_type": "code",
   "execution_count": 22,
   "id": "e02bdeb5-77c9-4a96-adf4-a31ba8047062",
   "metadata": {
    "papermill": {
     "duration": 0.037463,
     "end_time": "2024-03-20T21:35:11.884169",
     "exception": false,
     "start_time": "2024-03-20T21:35:11.846706",
     "status": "completed"
    },
    "tags": []
   },
   "outputs": [
    {
     "data": {
      "text/plain": [
       "2"
      ]
     },
     "metadata": {},
     "output_type": "display_data"
    }
   ],
   "source": [
    "# split by paragraph\n",
    "mod_section_paragraphs = mod_section_content.split(\"\\n\\n\")\n",
    "display(len(mod_section_paragraphs))"
   ]
  },
  {
   "cell_type": "markdown",
   "id": "bcbaf41a-e76e-4b5d-8daa-4db6cdb20f66",
   "metadata": {
    "editable": true,
    "papermill": {
     "duration": 0.021662,
     "end_time": "2024-03-20T21:35:11.933048",
     "exception": false,
     "start_time": "2024-03-20T21:35:11.911386",
     "status": "completed"
    },
    "slideshow": {
     "slide_type": ""
    },
    "tags": []
   },
   "source": [
    "### Match"
   ]
  },
  {
   "cell_type": "code",
   "execution_count": 23,
   "id": "38ec8ddf-9d53-4e31-8a48-2946e35e6996",
   "metadata": {
    "papermill": {
     "duration": 0.02624,
     "end_time": "2024-03-20T21:35:11.981246",
     "exception": false,
     "start_time": "2024-03-20T21:35:11.955006",
     "status": "completed"
    },
    "tags": []
   },
   "outputs": [
    {
     "data": {
      "text/plain": [
       "'## Abstract {.page_break_before}'"
      ]
     },
     "execution_count": 23,
     "metadata": {},
     "output_type": "execute_result"
    }
   ],
   "source": [
    "orig_section_paragraphs[0]"
   ]
  },
  {
   "cell_type": "code",
   "execution_count": 24,
   "id": "b665987d-444c-49b9-8d67-1bf157225d68",
   "metadata": {
    "papermill": {
     "duration": 0.026814,
     "end_time": "2024-03-20T21:35:12.030008",
     "exception": false,
     "start_time": "2024-03-20T21:35:12.003194",
     "status": "completed"
    },
    "tags": []
   },
   "outputs": [
    {
     "data": {
      "text/plain": [
       "'## Abstract {.page_break_before}'"
      ]
     },
     "execution_count": 24,
     "metadata": {},
     "output_type": "execute_result"
    }
   ],
   "source": [
    "mod_section_paragraphs[0]"
   ]
  },
  {
   "cell_type": "markdown",
   "id": "19b0d453-ff6b-4194-bd5b-caec7a71a0ac",
   "metadata": {
    "editable": true,
    "papermill": {
     "duration": 0.021995,
     "end_time": "2024-03-20T21:35:12.096897",
     "exception": false,
     "start_time": "2024-03-20T21:35:12.074902",
     "status": "completed"
    },
    "slideshow": {
     "slide_type": ""
    },
    "tags": []
   },
   "source": [
    "####  Paragraph 00"
   ]
  },
  {
   "cell_type": "code",
   "execution_count": 25,
   "id": "d6e681b6-d79a-45d9-a414-653920159e1c",
   "metadata": {
    "papermill": {
     "duration": 0.026753,
     "end_time": "2024-03-20T21:35:12.145569",
     "exception": false,
     "start_time": "2024-03-20T21:35:12.118816",
     "status": "completed"
    },
    "tags": []
   },
   "outputs": [
    {
     "name": "stdout",
     "output_type": "stream",
     "text": [
      "Genes act in concert with each other in specific contexts to perform their functions. Determining how these genes influence complex traits requires a mechanistic understanding of expression regulation across different conditions. It has been shown that this insight is critical for developing new therapies. Transcriptome-wide association studies have helped uncover the role of individual genes in disease-relevant mechanisms. However, modern models of the architecture of complex traits predict that gene-gene interactions play a crucial role in disease origin and progression. Here we introduce PhenoPLIER, a computational approach that maps gene-trait associations and pharmacological perturbation data into a common latent representation for a joint analysis. This representation is based on modules of genes with similar expression patterns across the same conditions. We observe that diseases are significantly associated with gene modules expressed in relevant cell types, and our approach is accurate in predicting known drug-disease pairs and inferring mechanisms of action. Furthermore, using a CRISPR screen to analyze lipid regulation, we find that functionally important players lack associations but are prioritized in trait-associated modules by PhenoPLIER. By incorporating groups of co-expressed genes, PhenoPLIER can contextualize genetic associations and reveal potential targets missed by single-gene strategies.\n"
     ]
    }
   ],
   "source": [
    "par0 = process_paragraph(orig_section_paragraphs[1])\n",
    "print(par0)"
   ]
  },
  {
   "cell_type": "code",
   "execution_count": 26,
   "id": "d1bf3ff4-c3ab-4ca8-b5d5-c3a2f6c02702",
   "metadata": {
    "papermill": {
     "duration": 0.026525,
     "end_time": "2024-03-20T21:35:12.194113",
     "exception": false,
     "start_time": "2024-03-20T21:35:12.167588",
     "status": "completed"
    },
    "tags": []
   },
   "outputs": [
    {
     "name": "stdout",
     "output_type": "stream",
     "text": [
      "How do genes interact to influence complex traits and disease mechanisms, and how can this knowledge be leveraged for therapeutic development? This paper introduces PhenoPLIER, a computational approach that integrates gene-trait associations and pharmacological data to analyze gene expression patterns across different conditions. By identifying modules of co-expressed genes associated with diseases and drug mechanisms, PhenoPLIER can accurately predict drug-disease pairs and infer mechanisms of action. Through a CRISPR screen focused on lipid regulation, we demonstrate that PhenoPLIER can prioritize functionally important genes within trait-associated modules. This approach highlights the importance of considering gene-gene interactions in understanding disease etiology and identifying potential therapeutic targets for drug repurposing.\n"
     ]
    }
   ],
   "source": [
    "par1 = process_paragraph(mod_section_paragraphs[1])\n",
    "print(par1)"
   ]
  },
  {
   "cell_type": "code",
   "execution_count": 27,
   "id": "c4b6cfc3-c2ae-40ce-abca-de3778b445f4",
   "metadata": {
    "papermill": {
     "duration": 0.026208,
     "end_time": "2024-03-20T21:35:12.242484",
     "exception": false,
     "start_time": "2024-03-20T21:35:12.216276",
     "status": "completed"
    },
    "tags": []
   },
   "outputs": [],
   "source": [
    "paragraph_matches.append(\n",
    "    (\n",
    "        section_name,\n",
    "        par0,\n",
    "        par1,\n",
    "    )\n",
    ")"
   ]
  },
  {
   "cell_type": "code",
   "execution_count": 28,
   "id": "db738a8d-d527-4607-8994-2a62433d75e6",
   "metadata": {
    "papermill": {
     "duration": 0.027326,
     "end_time": "2024-03-20T21:35:12.292000",
     "exception": false,
     "start_time": "2024-03-20T21:35:12.264674",
     "status": "completed"
    },
    "tags": []
   },
   "outputs": [
    {
     "data": {
      "text/plain": [
       "('abstract',\n",
       " 'Genes act in concert with each other in specific contexts to perform their functions. Determining how these genes influence complex traits requires a mechanistic understanding of expression regulation across different conditions. It has been shown that this insight is critical for developing new therapies. Transcriptome-wide association studies have helped uncover the role of individual genes in disease-relevant mechanisms. However, modern models of the architecture of complex traits predict that gene-gene interactions play a crucial role in disease origin and progression. Here we introduce PhenoPLIER, a computational approach that maps gene-trait associations and pharmacological perturbation data into a common latent representation for a joint analysis. This representation is based on modules of genes with similar expression patterns across the same conditions. We observe that diseases are significantly associated with gene modules expressed in relevant cell types, and our approach is accurate in predicting known drug-disease pairs and inferring mechanisms of action. Furthermore, using a CRISPR screen to analyze lipid regulation, we find that functionally important players lack associations but are prioritized in trait-associated modules by PhenoPLIER. By incorporating groups of co-expressed genes, PhenoPLIER can contextualize genetic associations and reveal potential targets missed by single-gene strategies.',\n",
       " 'How do genes interact to influence complex traits and disease mechanisms, and how can this knowledge be leveraged for therapeutic development? This paper introduces PhenoPLIER, a computational approach that integrates gene-trait associations and pharmacological data to analyze gene expression patterns across different conditions. By identifying modules of co-expressed genes associated with diseases and drug mechanisms, PhenoPLIER can accurately predict drug-disease pairs and infer mechanisms of action. Through a CRISPR screen focused on lipid regulation, we demonstrate that PhenoPLIER can prioritize functionally important genes within trait-associated modules. This approach highlights the importance of considering gene-gene interactions in understanding disease etiology and identifying potential therapeutic targets for drug repurposing.')"
      ]
     },
     "metadata": {},
     "output_type": "display_data"
    }
   ],
   "source": [
    "display(paragraph_matches[-1])"
   ]
  },
  {
   "cell_type": "markdown",
   "id": "84bb559e-97ba-4171-ac1c-b1b8b1837c5b",
   "metadata": {
    "editable": true,
    "papermill": {
     "duration": 0.02211,
     "end_time": "2024-03-20T21:35:12.336182",
     "exception": false,
     "start_time": "2024-03-20T21:35:12.314072",
     "status": "completed"
    },
    "slideshow": {
     "slide_type": ""
    },
    "tags": []
   },
   "source": [
    "## Introduction"
   ]
  },
  {
   "cell_type": "code",
   "execution_count": 29,
   "id": "2fbfb828-2b12-42da-b724-9d81121dbda3",
   "metadata": {
    "papermill": {
     "duration": 0.026569,
     "end_time": "2024-03-20T21:35:12.384904",
     "exception": false,
     "start_time": "2024-03-20T21:35:12.358335",
     "status": "completed"
    },
    "tags": []
   },
   "outputs": [],
   "source": [
    "section_name = \"introduction\""
   ]
  },
  {
   "cell_type": "code",
   "execution_count": 30,
   "id": "802ec3df-6974-42a5-b5a0-9cd621877c5f",
   "metadata": {
    "editable": true,
    "papermill": {
     "duration": 0.026301,
     "end_time": "2024-03-20T21:35:12.433448",
     "exception": false,
     "start_time": "2024-03-20T21:35:12.407147",
     "status": "completed"
    },
    "slideshow": {
     "slide_type": ""
    },
    "tags": []
   },
   "outputs": [
    {
     "name": "stdout",
     "output_type": "stream",
     "text": [
      "content/02.introduction.md\n"
     ]
    }
   ],
   "source": [
    "pr_filename = pr_files[1].filename\n",
    "assert section_name in pr_filename\n",
    "print(pr_filename)"
   ]
  },
  {
   "cell_type": "markdown",
   "id": "3cb464ec-e479-47bc-a870-dbab7372c44b",
   "metadata": {
    "editable": true,
    "papermill": {
     "duration": 0.022081,
     "end_time": "2024-03-20T21:35:12.477721",
     "exception": false,
     "start_time": "2024-03-20T21:35:12.455640",
     "status": "completed"
    },
    "slideshow": {
     "slide_type": ""
    },
    "tags": []
   },
   "source": [
    "### Original"
   ]
  },
  {
   "cell_type": "code",
   "execution_count": 31,
   "id": "020b21ef-3aca-4848-8717-ace1083aebf0",
   "metadata": {
    "papermill": {
     "duration": 0.218653,
     "end_time": "2024-03-20T21:35:12.718595",
     "exception": false,
     "start_time": "2024-03-20T21:35:12.499942",
     "status": "completed"
    },
    "tags": []
   },
   "outputs": [
    {
     "name": "stdout",
     "output_type": "stream",
     "text": [
      "## Introduction\n",
      "\n",
      "Genes work together in context-sp\n"
     ]
    }
   ],
   "source": [
    "# get content\n",
    "orig_section_content = repo.get_contents(pr_filename, pr_prev).decoded_content.decode(\n",
    "    \"utf-8\"\n",
    ")\n",
    "print(orig_section_content[:50])"
   ]
  },
  {
   "cell_type": "code",
   "execution_count": 32,
   "id": "e1612d62-3f65-43e6-b6cb-4b5538931161",
   "metadata": {
    "papermill": {
     "duration": 0.027269,
     "end_time": "2024-03-20T21:35:12.767686",
     "exception": false,
     "start_time": "2024-03-20T21:35:12.740417",
     "status": "completed"
    },
    "tags": []
   },
   "outputs": [
    {
     "data": {
      "text/plain": [
       "5"
      ]
     },
     "metadata": {},
     "output_type": "display_data"
    }
   ],
   "source": [
    "# split by paragraph\n",
    "orig_section_paragraphs = orig_section_content.split(\"\\n\\n\")\n",
    "display(len(orig_section_paragraphs))"
   ]
  },
  {
   "cell_type": "markdown",
   "id": "ee13fe8d-f094-4da4-b2dc-245f595ab964",
   "metadata": {
    "editable": true,
    "papermill": {
     "duration": 0.022337,
     "end_time": "2024-03-20T21:35:12.812122",
     "exception": false,
     "start_time": "2024-03-20T21:35:12.789785",
     "status": "completed"
    },
    "slideshow": {
     "slide_type": ""
    },
    "tags": []
   },
   "source": [
    "### Modified"
   ]
  },
  {
   "cell_type": "code",
   "execution_count": 33,
   "id": "61d1c4b1-c798-433e-9dc4-18313701a1d0",
   "metadata": {
    "papermill": {
     "duration": 0.334557,
     "end_time": "2024-03-20T21:35:13.169038",
     "exception": false,
     "start_time": "2024-03-20T21:35:12.834481",
     "status": "completed"
    },
    "tags": []
   },
   "outputs": [
    {
     "name": "stdout",
     "output_type": "stream",
     "text": [
      "## Introduction\n",
      "\n",
      "Genes work together in specific n\n"
     ]
    }
   ],
   "source": [
    "# get content\n",
    "mod_section_content = repo.get_contents(pr_filename, pr_curr).decoded_content.decode(\n",
    "    \"utf-8\"\n",
    ")\n",
    "print(mod_section_content[:50])"
   ]
  },
  {
   "cell_type": "code",
   "execution_count": 34,
   "id": "edf81c3c-1213-4752-8768-c3158025192d",
   "metadata": {
    "papermill": {
     "duration": 0.026612,
     "end_time": "2024-03-20T21:35:13.217538",
     "exception": false,
     "start_time": "2024-03-20T21:35:13.190926",
     "status": "completed"
    },
    "tags": []
   },
   "outputs": [
    {
     "data": {
      "text/plain": [
       "5"
      ]
     },
     "metadata": {},
     "output_type": "display_data"
    }
   ],
   "source": [
    "# split by paragraph\n",
    "mod_section_paragraphs = mod_section_content.split(\"\\n\\n\")\n",
    "display(len(mod_section_paragraphs))"
   ]
  },
  {
   "cell_type": "markdown",
   "id": "1e4efe27-e73d-4cbe-953f-203bac59f5dc",
   "metadata": {
    "editable": true,
    "papermill": {
     "duration": 0.022217,
     "end_time": "2024-03-20T21:35:13.261911",
     "exception": false,
     "start_time": "2024-03-20T21:35:13.239694",
     "status": "completed"
    },
    "slideshow": {
     "slide_type": ""
    },
    "tags": []
   },
   "source": [
    "### Match"
   ]
  },
  {
   "cell_type": "code",
   "execution_count": 35,
   "id": "a80dd51e-9ffb-43e8-9389-d5ed1a28fee0",
   "metadata": {
    "papermill": {
     "duration": 0.026639,
     "end_time": "2024-03-20T21:35:13.311126",
     "exception": false,
     "start_time": "2024-03-20T21:35:13.284487",
     "status": "completed"
    },
    "tags": []
   },
   "outputs": [
    {
     "data": {
      "text/plain": [
       "'## Introduction'"
      ]
     },
     "execution_count": 35,
     "metadata": {},
     "output_type": "execute_result"
    }
   ],
   "source": [
    "orig_section_paragraphs[0]"
   ]
  },
  {
   "cell_type": "code",
   "execution_count": 36,
   "id": "0c34cdc7-b226-45d2-8e8b-e375ef9e3d6a",
   "metadata": {
    "papermill": {
     "duration": 0.026211,
     "end_time": "2024-03-20T21:35:13.359620",
     "exception": false,
     "start_time": "2024-03-20T21:35:13.333409",
     "status": "completed"
    },
    "tags": []
   },
   "outputs": [
    {
     "data": {
      "text/plain": [
       "'## Introduction'"
      ]
     },
     "execution_count": 36,
     "metadata": {},
     "output_type": "execute_result"
    }
   ],
   "source": [
    "mod_section_paragraphs[0]"
   ]
  },
  {
   "cell_type": "markdown",
   "id": "7baf3486-f6d9-42a0-b67a-15eb7b378bad",
   "metadata": {
    "editable": true,
    "papermill": {
     "duration": 0.022348,
     "end_time": "2024-03-20T21:35:13.404360",
     "exception": false,
     "start_time": "2024-03-20T21:35:13.382012",
     "status": "completed"
    },
    "slideshow": {
     "slide_type": ""
    },
    "tags": []
   },
   "source": [
    "####  Paragraph 00"
   ]
  },
  {
   "cell_type": "code",
   "execution_count": 37,
   "id": "ac1650e5-8298-412d-8a15-bd040748024e",
   "metadata": {
    "papermill": {
     "duration": 0.027064,
     "end_time": "2024-03-20T21:35:13.453920",
     "exception": false,
     "start_time": "2024-03-20T21:35:13.426856",
     "status": "completed"
    },
    "tags": []
   },
   "outputs": [
    {
     "name": "stdout",
     "output_type": "stream",
     "text": [
      "Genes work together in context-specific networks to carry out different functions [@pmid:19104045; @doi:10.1038/ng.3259]. Variations in these genes can change their functional role and, at a higher level, affect disease-relevant biological processes [@doi:10.1038/s41467-018-06022-6]. In this context, determining how genes influence complex traits requires mechanistically understanding expression regulation across different cell types [@doi:10.1126/science.aaz1776; @doi:10.1038/s41586-020-2559-3; @doi:10.1038/s41576-019-0200-9], which in turn should lead to improved treatments [@doi:10.1038/ng.3314; @doi:10.1371/journal.pgen.1008489]. Previous studies have described different regulatory DNA elements [@doi:10.1038/nature11247; @doi:10.1038/nature14248; @doi:10.1038/nature12787; @doi:10.1038/s41586-020-03145-z; @doi:10.1038/s41586-020-2559-3] including genetic effects on gene expression across different tissues [@doi:10.1126/science.aaz1776]. Integrating functional genomics data and GWAS data [@doi:10.1038/s41588-018-0081-4; @doi:10.1016/j.ajhg.2018.04.002; @doi:10.1038/s41588-018-0081-4; @doi:10.1038/ncomms6890] has improved the identification of these transcriptional mechanisms that, when dysregulated, commonly result in tissue- and cell lineage-specific pathology [@pmid:20624743; @pmid:14707169; @doi:10.1073/pnas.0810772105].\n"
     ]
    }
   ],
   "source": [
    "par0 = process_paragraph(orig_section_paragraphs[1])\n",
    "print(par0)"
   ]
  },
  {
   "cell_type": "code",
   "execution_count": 38,
   "id": "d5a26113-dc29-44d2-9458-6e5d8461accb",
   "metadata": {
    "papermill": {
     "duration": 0.026817,
     "end_time": "2024-03-20T21:35:13.503177",
     "exception": false,
     "start_time": "2024-03-20T21:35:13.476360",
     "status": "completed"
    },
    "tags": []
   },
   "outputs": [
    {
     "name": "stdout",
     "output_type": "stream",
     "text": [
      "Genes work together in specific networks to carry out various functions. Changes in these genes can alter their function and, on a broader scale, impact biological processes relevant to disease. Understanding how genes influence complex traits requires a mechanistic understanding of gene expression regulation across different cell types, which can lead to improved treatments. Previous research has identified various regulatory DNA elements, including genetic effects on gene expression in different tissues. By integrating functional genomics data with GWAS data, researchers have improved the identification of transcriptional mechanisms that, when disrupted, often lead to tissue- and cell lineage-specific pathology.\n"
     ]
    }
   ],
   "source": [
    "par1 = process_paragraph(mod_section_paragraphs[1])\n",
    "print(par1)"
   ]
  },
  {
   "cell_type": "code",
   "execution_count": 39,
   "id": "5d1ae43c-6bc3-4cf8-98e6-5d0191843855",
   "metadata": {
    "papermill": {
     "duration": 0.025471,
     "end_time": "2024-03-20T21:35:13.551200",
     "exception": false,
     "start_time": "2024-03-20T21:35:13.525729",
     "status": "completed"
    },
    "tags": []
   },
   "outputs": [],
   "source": [
    "paragraph_matches.append(\n",
    "    (\n",
    "        section_name,\n",
    "        par0,\n",
    "        par1,\n",
    "    )\n",
    ")"
   ]
  },
  {
   "cell_type": "code",
   "execution_count": 40,
   "id": "45f4c986-54f6-406a-860a-9dc2caa9f3bc",
   "metadata": {
    "papermill": {
     "duration": 0.026324,
     "end_time": "2024-03-20T21:35:13.599971",
     "exception": false,
     "start_time": "2024-03-20T21:35:13.573647",
     "status": "completed"
    },
    "tags": []
   },
   "outputs": [
    {
     "data": {
      "text/plain": [
       "('introduction',\n",
       " 'Genes work together in context-specific networks to carry out different functions [@pmid:19104045; @doi:10.1038/ng.3259]. Variations in these genes can change their functional role and, at a higher level, affect disease-relevant biological processes [@doi:10.1038/s41467-018-06022-6]. In this context, determining how genes influence complex traits requires mechanistically understanding expression regulation across different cell types [@doi:10.1126/science.aaz1776; @doi:10.1038/s41586-020-2559-3; @doi:10.1038/s41576-019-0200-9], which in turn should lead to improved treatments [@doi:10.1038/ng.3314; @doi:10.1371/journal.pgen.1008489]. Previous studies have described different regulatory DNA elements [@doi:10.1038/nature11247; @doi:10.1038/nature14248; @doi:10.1038/nature12787; @doi:10.1038/s41586-020-03145-z; @doi:10.1038/s41586-020-2559-3] including genetic effects on gene expression across different tissues [@doi:10.1126/science.aaz1776]. Integrating functional genomics data and GWAS data [@doi:10.1038/s41588-018-0081-4; @doi:10.1016/j.ajhg.2018.04.002; @doi:10.1038/s41588-018-0081-4; @doi:10.1038/ncomms6890] has improved the identification of these transcriptional mechanisms that, when dysregulated, commonly result in tissue- and cell lineage-specific pathology [@pmid:20624743; @pmid:14707169; @doi:10.1073/pnas.0810772105].',\n",
       " 'Genes work together in specific networks to carry out various functions. Changes in these genes can alter their function and, on a broader scale, impact biological processes relevant to disease. Understanding how genes influence complex traits requires a mechanistic understanding of gene expression regulation across different cell types, which can lead to improved treatments. Previous research has identified various regulatory DNA elements, including genetic effects on gene expression in different tissues. By integrating functional genomics data with GWAS data, researchers have improved the identification of transcriptional mechanisms that, when disrupted, often lead to tissue- and cell lineage-specific pathology.')"
      ]
     },
     "metadata": {},
     "output_type": "display_data"
    }
   ],
   "source": [
    "display(paragraph_matches[-1])"
   ]
  },
  {
   "cell_type": "markdown",
   "id": "02e1dbd3-437b-457e-b155-ceb7a0aaa0d9",
   "metadata": {
    "editable": true,
    "papermill": {
     "duration": 0.022541,
     "end_time": "2024-03-20T21:35:13.645100",
     "exception": false,
     "start_time": "2024-03-20T21:35:13.622559",
     "status": "completed"
    },
    "slideshow": {
     "slide_type": ""
    },
    "tags": []
   },
   "source": [
    "####  Paragraph 01"
   ]
  },
  {
   "cell_type": "code",
   "execution_count": 41,
   "id": "7420293a-1901-46ca-a795-bc479bee48a6",
   "metadata": {
    "papermill": {
     "duration": 0.026748,
     "end_time": "2024-03-20T21:35:13.694418",
     "exception": false,
     "start_time": "2024-03-20T21:35:13.667670",
     "status": "completed"
    },
    "tags": []
   },
   "outputs": [
    {
     "name": "stdout",
     "output_type": "stream",
     "text": [
      "Given the availability of gene expression data across several tissues [@doi:10.1038/nbt.3838; @doi:10.1038/s41467-018-03751-6; @doi:10.1126/science.aaz1776; @doi:10.1186/s13040-020-00216-9], an effective approach to identify these biological processes is the transcription-wide association study (TWAS), which integrates expression quantitative trait loci (eQTLs) data to provide a mechanistic interpretation for GWAS findings. TWAS relies on testing whether perturbations in gene regulatory mechanisms mediate the association between genetic variants and human diseases [@doi:10.1371/journal.pgen.1009482; @doi:10.1038/ng.3506; @doi:10.1371/journal.pgen.1007889; @doi:10.1038/ng.3367], and these approaches have been highly successful not only in understanding disease etiology at the transcriptome level [@pmid:33931583; @doi:10.1101/2021.10.21.21265225; @pmid:31036433] but also in disease-risk prediction (polygenic scores) [@doi:10.1186/s13059-021-02591-w] and drug repurposing [@doi:10.1038/nn.4618] tasks. However, TWAS works at the individual gene level, which does not capture more complex interactions at the network level.\n"
     ]
    }
   ],
   "source": [
    "par0 = process_paragraph(orig_section_paragraphs[2])\n",
    "print(par0)"
   ]
  },
  {
   "cell_type": "code",
   "execution_count": 42,
   "id": "adf7d64e-404e-46ca-a5f2-15a55dfde1e1",
   "metadata": {
    "papermill": {
     "duration": 0.026752,
     "end_time": "2024-03-20T21:35:13.744129",
     "exception": false,
     "start_time": "2024-03-20T21:35:13.717377",
     "status": "completed"
    },
    "tags": []
   },
   "outputs": [
    {
     "name": "stdout",
     "output_type": "stream",
     "text": [
      "With the abundance of gene expression data available across various tissues, a useful method for identifying biological processes is the transcription-wide association study (TWAS). TWAS combines expression quantitative trait loci (eQTLs) data to offer a mechanistic explanation for GWAS findings. This approach examines whether disruptions in gene regulatory mechanisms mediate the connection between genetic variations and human diseases. These methods have proven successful in not only elucidating disease origins at the transcriptome level but also in predicting disease risk (polygenic scores) and repurposing drugs. Nevertheless, TWAS operates at the individual gene level and may not capture more intricate interactions at the network level.\n"
     ]
    }
   ],
   "source": [
    "par1 = process_paragraph(mod_section_paragraphs[2])\n",
    "print(par1)"
   ]
  },
  {
   "cell_type": "code",
   "execution_count": 43,
   "id": "59eb3aa3-5550-4ff5-b9cf-b2572c9e3320",
   "metadata": {
    "papermill": {
     "duration": 0.025904,
     "end_time": "2024-03-20T21:35:13.792815",
     "exception": false,
     "start_time": "2024-03-20T21:35:13.766911",
     "status": "completed"
    },
    "tags": []
   },
   "outputs": [],
   "source": [
    "paragraph_matches.append(\n",
    "    (\n",
    "        section_name,\n",
    "        par0,\n",
    "        par1,\n",
    "    )\n",
    ")"
   ]
  },
  {
   "cell_type": "code",
   "execution_count": 44,
   "id": "7a916bff-4b07-45f5-842f-eaec9bb0d42e",
   "metadata": {
    "papermill": {
     "duration": 0.026312,
     "end_time": "2024-03-20T21:35:13.841829",
     "exception": false,
     "start_time": "2024-03-20T21:35:13.815517",
     "status": "completed"
    },
    "tags": []
   },
   "outputs": [
    {
     "data": {
      "text/plain": [
       "('introduction',\n",
       " 'Given the availability of gene expression data across several tissues [@doi:10.1038/nbt.3838; @doi:10.1038/s41467-018-03751-6; @doi:10.1126/science.aaz1776; @doi:10.1186/s13040-020-00216-9], an effective approach to identify these biological processes is the transcription-wide association study (TWAS), which integrates expression quantitative trait loci (eQTLs) data to provide a mechanistic interpretation for GWAS findings. TWAS relies on testing whether perturbations in gene regulatory mechanisms mediate the association between genetic variants and human diseases [@doi:10.1371/journal.pgen.1009482; @doi:10.1038/ng.3506; @doi:10.1371/journal.pgen.1007889; @doi:10.1038/ng.3367], and these approaches have been highly successful not only in understanding disease etiology at the transcriptome level [@pmid:33931583; @doi:10.1101/2021.10.21.21265225; @pmid:31036433] but also in disease-risk prediction (polygenic scores) [@doi:10.1186/s13059-021-02591-w] and drug repurposing [@doi:10.1038/nn.4618] tasks. However, TWAS works at the individual gene level, which does not capture more complex interactions at the network level.',\n",
       " 'With the abundance of gene expression data available across various tissues, a useful method for identifying biological processes is the transcription-wide association study (TWAS). TWAS combines expression quantitative trait loci (eQTLs) data to offer a mechanistic explanation for GWAS findings. This approach examines whether disruptions in gene regulatory mechanisms mediate the connection between genetic variations and human diseases. These methods have proven successful in not only elucidating disease origins at the transcriptome level but also in predicting disease risk (polygenic scores) and repurposing drugs. Nevertheless, TWAS operates at the individual gene level and may not capture more intricate interactions at the network level.')"
      ]
     },
     "metadata": {},
     "output_type": "display_data"
    }
   ],
   "source": [
    "display(paragraph_matches[-1])"
   ]
  },
  {
   "cell_type": "markdown",
   "id": "4c1b1437-9b3b-4c56-8708-f54b7a611ee4",
   "metadata": {
    "editable": true,
    "papermill": {
     "duration": 0.022756,
     "end_time": "2024-03-20T21:35:13.887438",
     "exception": false,
     "start_time": "2024-03-20T21:35:13.864682",
     "status": "completed"
    },
    "slideshow": {
     "slide_type": ""
    },
    "tags": []
   },
   "source": [
    "####  Paragraph 02"
   ]
  },
  {
   "cell_type": "code",
   "execution_count": 45,
   "id": "ecb5a5c1-95cf-4c13-82fb-a188170553ff",
   "metadata": {
    "papermill": {
     "duration": 0.026341,
     "end_time": "2024-03-20T21:35:13.936825",
     "exception": false,
     "start_time": "2024-03-20T21:35:13.910484",
     "status": "completed"
    },
    "tags": []
   },
   "outputs": [
    {
     "name": "stdout",
     "output_type": "stream",
     "text": [
      "These gene-gene interactions play a crucial role in current theories of the architecture of complex traits, such as the omnigenic model [@doi:10.1016/j.cell.2017.05.038], which suggests that methods need to incorporate this complexity to disentangle disease-relevant mechanisms. Widespread gene pleiotropy, for instance, reveals the highly interconnected nature of transcriptional networks [@doi:10.1038/s41588-019-0481-0; @doi:10.1038/ng.3570], where potentially all genes expressed in disease-relevant cell types have a non-zero effect on the trait [@doi:10.1016/j.cell.2017.05.038; @doi:10.1016/j.cell.2019.04.014]. One way to learn these gene-gene interactions is using the concept of gene module: a group of genes with similar expression profiles across different conditions [@pmid:22955619; @pmid:25344726; @doi:10.1038/ng.3259]. In this context, several unsupervised approaches have been proposed to infer these gene-gene connections by extracting gene modules from co-expression patterns [@pmid:9843981; @pmid:24662387; @pmid:16333293]. Matrix factorization techniques like independent or principal component analysis (ICA/PCA) have shown superior performance in this task [@doi:10.1038/s41467-018-03424-4] since they capture local expression effects from a subset of samples and can handle modules overlap effectively. Therefore, integrating genetic studies with gene modules extracted using unsupervised learning could further improve our understanding of disease origin [@pmid:25344726] and progression [@pmid:18631455].\n"
     ]
    }
   ],
   "source": [
    "par0 = process_paragraph(orig_section_paragraphs[3])\n",
    "print(par0)"
   ]
  },
  {
   "cell_type": "code",
   "execution_count": 46,
   "id": "afb6133d-c94c-44bc-aa0c-6a568ec955aa",
   "metadata": {
    "papermill": {
     "duration": 0.026418,
     "end_time": "2024-03-20T21:35:13.986160",
     "exception": false,
     "start_time": "2024-03-20T21:35:13.959742",
     "status": "completed"
    },
    "tags": []
   },
   "outputs": [
    {
     "name": "stdout",
     "output_type": "stream",
     "text": [
      "Gene-gene interactions are essential in current theories of complex traits, such as the omnigenic model (Boyle et al., 2017), which emphasizes the need for methods to account for this complexity in unraveling disease mechanisms. The widespread gene pleiotropy highlights the intricate interconnectedness of transcriptional networks (Watanabe et al., 2019; Finucane et al., 2015), suggesting that nearly all genes expressed in disease-relevant cell types have some impact on the trait (Boyle et al., 2017; Skene and Grant, 2019). One approach to understanding these interactions is through gene modules, which are groups of genes with similar expression patterns across various conditions (Langfelder and Horvath, 2008; Oldham et al., 2008; Zhang and Horvath, 2005). Several unsupervised methods have been proposed to uncover these gene-gene connections by identifying gene modules based on co-expression patterns (Eisen et al., 1998; Langfelder and Horvath, 2012; Tamayo et al., 1999). Matrix factorization techniques, such as independent component analysis (ICA) or principal component analysis (PCA), have demonstrated superior performance in capturing local expression effects and managing module overlap effectively (Hafemeister and Satija, 2019). Therefore, integrating genetic studies with gene modules identified through unsupervised learning could enhance our understanding of disease etiology (Oldham et al., 2015) and progression (Rhodes et al., 2004).\n"
     ]
    }
   ],
   "source": [
    "par1 = process_paragraph(mod_section_paragraphs[3])\n",
    "print(par1)"
   ]
  },
  {
   "cell_type": "code",
   "execution_count": 47,
   "id": "842d5352-043a-493d-9de5-d2dde6b87393",
   "metadata": {
    "papermill": {
     "duration": 0.026686,
     "end_time": "2024-03-20T21:35:14.035866",
     "exception": false,
     "start_time": "2024-03-20T21:35:14.009180",
     "status": "completed"
    },
    "tags": []
   },
   "outputs": [],
   "source": [
    "paragraph_matches.append(\n",
    "    (\n",
    "        section_name,\n",
    "        par0,\n",
    "        par1,\n",
    "    )\n",
    ")"
   ]
  },
  {
   "cell_type": "code",
   "execution_count": 48,
   "id": "849bc6ba-7335-4353-be29-550eae813436",
   "metadata": {
    "papermill": {
     "duration": 0.026948,
     "end_time": "2024-03-20T21:35:14.085836",
     "exception": false,
     "start_time": "2024-03-20T21:35:14.058888",
     "status": "completed"
    },
    "tags": []
   },
   "outputs": [
    {
     "data": {
      "text/plain": [
       "('introduction',\n",
       " 'These gene-gene interactions play a crucial role in current theories of the architecture of complex traits, such as the omnigenic model [@doi:10.1016/j.cell.2017.05.038], which suggests that methods need to incorporate this complexity to disentangle disease-relevant mechanisms. Widespread gene pleiotropy, for instance, reveals the highly interconnected nature of transcriptional networks [@doi:10.1038/s41588-019-0481-0; @doi:10.1038/ng.3570], where potentially all genes expressed in disease-relevant cell types have a non-zero effect on the trait [@doi:10.1016/j.cell.2017.05.038; @doi:10.1016/j.cell.2019.04.014]. One way to learn these gene-gene interactions is using the concept of gene module: a group of genes with similar expression profiles across different conditions [@pmid:22955619; @pmid:25344726; @doi:10.1038/ng.3259]. In this context, several unsupervised approaches have been proposed to infer these gene-gene connections by extracting gene modules from co-expression patterns [@pmid:9843981; @pmid:24662387; @pmid:16333293]. Matrix factorization techniques like independent or principal component analysis (ICA/PCA) have shown superior performance in this task [@doi:10.1038/s41467-018-03424-4] since they capture local expression effects from a subset of samples and can handle modules overlap effectively. Therefore, integrating genetic studies with gene modules extracted using unsupervised learning could further improve our understanding of disease origin [@pmid:25344726] and progression [@pmid:18631455].',\n",
       " 'Gene-gene interactions are essential in current theories of complex traits, such as the omnigenic model (Boyle et al., 2017), which emphasizes the need for methods to account for this complexity in unraveling disease mechanisms. The widespread gene pleiotropy highlights the intricate interconnectedness of transcriptional networks (Watanabe et al., 2019; Finucane et al., 2015), suggesting that nearly all genes expressed in disease-relevant cell types have some impact on the trait (Boyle et al., 2017; Skene and Grant, 2019). One approach to understanding these interactions is through gene modules, which are groups of genes with similar expression patterns across various conditions (Langfelder and Horvath, 2008; Oldham et al., 2008; Zhang and Horvath, 2005). Several unsupervised methods have been proposed to uncover these gene-gene connections by identifying gene modules based on co-expression patterns (Eisen et al., 1998; Langfelder and Horvath, 2012; Tamayo et al., 1999). Matrix factorization techniques, such as independent component analysis (ICA) or principal component analysis (PCA), have demonstrated superior performance in capturing local expression effects and managing module overlap effectively (Hafemeister and Satija, 2019). Therefore, integrating genetic studies with gene modules identified through unsupervised learning could enhance our understanding of disease etiology (Oldham et al., 2015) and progression (Rhodes et al., 2004).')"
      ]
     },
     "metadata": {},
     "output_type": "display_data"
    }
   ],
   "source": [
    "display(paragraph_matches[-1])"
   ]
  },
  {
   "cell_type": "markdown",
   "id": "89c0cf3b-dba0-408b-8e69-93242581f4f8",
   "metadata": {
    "editable": true,
    "papermill": {
     "duration": 0.022756,
     "end_time": "2024-03-20T21:35:13.887438",
     "exception": false,
     "start_time": "2024-03-20T21:35:13.864682",
     "status": "completed"
    },
    "slideshow": {
     "slide_type": ""
    },
    "tags": []
   },
   "source": [
    "####  Paragraph 03"
   ]
  },
  {
   "cell_type": "code",
   "execution_count": 49,
   "id": "05d48e1f-160e-4780-b8a1-324d81a407f8",
   "metadata": {
    "papermill": {
     "duration": 0.026341,
     "end_time": "2024-03-20T21:35:13.936825",
     "exception": false,
     "start_time": "2024-03-20T21:35:13.910484",
     "status": "completed"
    },
    "tags": []
   },
   "outputs": [
    {
     "name": "stdout",
     "output_type": "stream",
     "text": [
      "Here we propose PhenoPLIER, an omnigenic approach that provides a gene module perspective to genetic studies. The flexibility of our method allows integrating different data modalities into the same representation for a joint analysis. We show that this module perspective can infer how groups of functionally-related genes influence complex traits, detect shared and distinct transcriptomic properties among traits, and predict how pharmacological perturbations affect genes' activity to exert their effects. PhenoPLIER maps gene-trait associations and drug-induced transcriptional responses into a common latent representation. For this, we integrate thousands of gene-trait associations (using TWAS from PhenomeXcan [@doi:10.1126/sciadv.aba2083]) and transcriptional profiles of drugs (from LINCS L1000 [@doi:10.1016/j.cell.2017.10.049]) into a low-dimensional space learned from public gene expression data on tens of thousands of RNA-seq samples (recount2 [@doi:10.1016/j.cels.2019.04.003; @doi:10.1038/nbt.3838]). We use a latent representation defined by a matrix factorization approach [@doi:10.1038/s41592-019-0456-1; @doi:10.1016/j.cels.2019.04.003] that extracts gene modules with certain sparsity constraints and preferences for those that align with prior knowledge (pathways). When mapping gene-trait associations to this reduced expression space, we observe that diseases are significantly associated with gene modules expressed in relevant cell types: such as hypothyroidism with T cells, corneal endothelial cells with keratometry measurements, hematological assays on specific blood cell types, plasma lipids with adipose tissue, and neuropsychiatric disorders with different brain cell types. Moreover, since PhenoPLIER can use models derived from large and heterogeneous RNA-seq datasets, we can also identify modules associated with cell types under specific stimuli or disease states. We observe that significant module-trait associations in PhenomeXcan (our discovery cohort) replicated in the Electronic Medical Records and Genomics (eMERGE) network phase III [@doi:10.1038/gim.2013.72; @doi:10.1101/2021.10.21.21265225] (our replication cohort). Furthermore, we perform a CRISPR screen to analyze lipid regulation in HepG2 cells. We observe more robust trait associations with modules than with individual genes, even when single genes known to be involved in lipid metabolism did not reach genome-wide significance. Compared to a single-gene approach, our module-based method also better predicts FDA-approved drug-disease links by capturing tissue-specific pathophysiological mechanisms linked with the mechanism of action of drugs (e.g., niacin with cardiovascular traits via a known immune mechanism). This improved drug-disease prediction suggests that modules may provide a better means to examine drug-disease relationships than individual genes. Finally, exploring the phenotype-module space reveals stable trait clusters associated with relevant tissues, including a complex branch involving lipids with cardiovascular, autoimmune, and neuropsychiatric disorders. In summary, instead of considering single genes associated with different complex traits, PhenoPLIER incorporates groups of genes that act together to carry out different functions in specific cell types. This approach improves robustness in detecting and interpreting genetic associations, and here we show how it can prioritize alternative and potentially more promising candidate targets even when known single gene associations are not detected. The approach represents a conceptual shift in the interpretation of genetic studies. It has the potential to extract mechanistic insight from statistical associations to enhance the understanding of complex diseases and their therapeutic modalities.\n"
     ]
    }
   ],
   "source": [
    "par0 = process_paragraph(orig_section_paragraphs[4])\n",
    "print(par0)"
   ]
  },
  {
   "cell_type": "code",
   "execution_count": 50,
   "id": "cdb1492a-c426-4a14-8c16-2911c076f0e1",
   "metadata": {
    "papermill": {
     "duration": 0.026418,
     "end_time": "2024-03-20T21:35:13.986160",
     "exception": false,
     "start_time": "2024-03-20T21:35:13.959742",
     "status": "completed"
    },
    "tags": []
   },
   "outputs": [
    {
     "name": "stdout",
     "output_type": "stream",
     "text": [
      "In this paper titled 'Projecting genetic associations through gene expression patterns highlights disease etiology and drug mechanisms,' we introduce PhenoPLIER, an omnigenic method that offers a gene module viewpoint for genetic studies. Our approach is versatile, allowing the integration of various data types into a unified representation for comprehensive analysis. Through the module perspective, we can deduce how clusters of functionally-related genes impact complex traits, identify shared and unique transcriptomic characteristics among traits, and predict the effects of pharmacological interventions on gene activity. PhenoPLIER aligns gene-trait associations and drug-induced transcriptional responses within a shared latent representation. To achieve this, we merge numerous gene-trait associations (via TWAS from PhenomeXcan) and drug transcriptional profiles (from LINCS L1000) into a low-dimensional space derived from public gene expression data from tens of thousands of RNA-seq samples (recount2). We employ a matrix factorization technique to define a latent representation that extracts gene modules while adhering to sparsity constraints and preferences for pathways based on prior knowledge. By mapping gene-trait associations to this reduced expression space, we find significant associations between diseases and gene modules expressed in relevant cell types. For instance, hypothyroidism correlates with T cells, corneal endothelial cells with keratometry measurements, hematological assays with specific blood cell types, plasma lipids with adipose tissue, and neuropsychiatric disorders with various brain cell types. We also observe that significant module-trait associations in PhenomeXcan replicate in the eMERGE network phase III. Additionally, we conduct a CRISPR screen to study lipid regulation in HepG2 cells, revealing stronger trait associations with modules than individual genes, even when known lipid metabolism genes do not reach genome-wide significance. Compared to single-gene approaches, our module-based method better predicts FDA-approved drug-disease connections by capturing tissue-specific pathophysiological mechanisms linked to drug mechanisms (e.g., niacin with cardiovascular traits via an immune mechanism). This enhanced drug-disease prediction suggests that modules offer a more effective way to explore drug-disease relationships than individual genes. Finally, exploring the phenotype-module space uncovers stable trait clusters associated with relevant tissues, including a complex branch linking lipids with cardiovascular, autoimmune, and neuropsychiatric disorders. In conclusion, PhenoPLIER moves beyond individual genes to encompass groups of genes working together to perform various functions in specific cell types. This approach enhances the robustness of identifying and interpreting genetic associations, prioritizing alternative and potentially more promising candidate targets even when known single gene associations are absent. This method signifies a shift in interpreting genetic studies, offering mechanistic insights to improve the understanding of complex diseases and their therapeutic approaches.\n"
     ]
    }
   ],
   "source": [
    "par1 = process_paragraph(mod_section_paragraphs[4:8])\n",
    "print(par1)"
   ]
  },
  {
   "cell_type": "code",
   "execution_count": 51,
   "id": "85d6bf7f-f214-43be-96fd-88822c49eafd",
   "metadata": {
    "papermill": {
     "duration": 0.026686,
     "end_time": "2024-03-20T21:35:14.035866",
     "exception": false,
     "start_time": "2024-03-20T21:35:14.009180",
     "status": "completed"
    },
    "tags": []
   },
   "outputs": [],
   "source": [
    "paragraph_matches.append(\n",
    "    (\n",
    "        section_name,\n",
    "        par0,\n",
    "        par1,\n",
    "    )\n",
    ")"
   ]
  },
  {
   "cell_type": "code",
   "execution_count": 52,
   "id": "cbfca9a3-267e-4549-be11-2203ae8bf711",
   "metadata": {
    "papermill": {
     "duration": 0.026948,
     "end_time": "2024-03-20T21:35:14.085836",
     "exception": false,
     "start_time": "2024-03-20T21:35:14.058888",
     "status": "completed"
    },
    "tags": []
   },
   "outputs": [
    {
     "data": {
      "text/plain": [
       "('introduction',\n",
       " \"Here we propose PhenoPLIER, an omnigenic approach that provides a gene module perspective to genetic studies. The flexibility of our method allows integrating different data modalities into the same representation for a joint analysis. We show that this module perspective can infer how groups of functionally-related genes influence complex traits, detect shared and distinct transcriptomic properties among traits, and predict how pharmacological perturbations affect genes' activity to exert their effects. PhenoPLIER maps gene-trait associations and drug-induced transcriptional responses into a common latent representation. For this, we integrate thousands of gene-trait associations (using TWAS from PhenomeXcan [@doi:10.1126/sciadv.aba2083]) and transcriptional profiles of drugs (from LINCS L1000 [@doi:10.1016/j.cell.2017.10.049]) into a low-dimensional space learned from public gene expression data on tens of thousands of RNA-seq samples (recount2 [@doi:10.1016/j.cels.2019.04.003; @doi:10.1038/nbt.3838]). We use a latent representation defined by a matrix factorization approach [@doi:10.1038/s41592-019-0456-1; @doi:10.1016/j.cels.2019.04.003] that extracts gene modules with certain sparsity constraints and preferences for those that align with prior knowledge (pathways). When mapping gene-trait associations to this reduced expression space, we observe that diseases are significantly associated with gene modules expressed in relevant cell types: such as hypothyroidism with T cells, corneal endothelial cells with keratometry measurements, hematological assays on specific blood cell types, plasma lipids with adipose tissue, and neuropsychiatric disorders with different brain cell types. Moreover, since PhenoPLIER can use models derived from large and heterogeneous RNA-seq datasets, we can also identify modules associated with cell types under specific stimuli or disease states. We observe that significant module-trait associations in PhenomeXcan (our discovery cohort) replicated in the Electronic Medical Records and Genomics (eMERGE) network phase III [@doi:10.1038/gim.2013.72; @doi:10.1101/2021.10.21.21265225] (our replication cohort). Furthermore, we perform a CRISPR screen to analyze lipid regulation in HepG2 cells. We observe more robust trait associations with modules than with individual genes, even when single genes known to be involved in lipid metabolism did not reach genome-wide significance. Compared to a single-gene approach, our module-based method also better predicts FDA-approved drug-disease links by capturing tissue-specific pathophysiological mechanisms linked with the mechanism of action of drugs (e.g., niacin with cardiovascular traits via a known immune mechanism). This improved drug-disease prediction suggests that modules may provide a better means to examine drug-disease relationships than individual genes. Finally, exploring the phenotype-module space reveals stable trait clusters associated with relevant tissues, including a complex branch involving lipids with cardiovascular, autoimmune, and neuropsychiatric disorders. In summary, instead of considering single genes associated with different complex traits, PhenoPLIER incorporates groups of genes that act together to carry out different functions in specific cell types. This approach improves robustness in detecting and interpreting genetic associations, and here we show how it can prioritize alternative and potentially more promising candidate targets even when known single gene associations are not detected. The approach represents a conceptual shift in the interpretation of genetic studies. It has the potential to extract mechanistic insight from statistical associations to enhance the understanding of complex diseases and their therapeutic modalities.\",\n",
       " \"In this paper titled 'Projecting genetic associations through gene expression patterns highlights disease etiology and drug mechanisms,' we introduce PhenoPLIER, an omnigenic method that offers a gene module viewpoint for genetic studies. Our approach is versatile, allowing the integration of various data types into a unified representation for comprehensive analysis. Through the module perspective, we can deduce how clusters of functionally-related genes impact complex traits, identify shared and unique transcriptomic characteristics among traits, and predict the effects of pharmacological interventions on gene activity. PhenoPLIER aligns gene-trait associations and drug-induced transcriptional responses within a shared latent representation. To achieve this, we merge numerous gene-trait associations (via TWAS from PhenomeXcan) and drug transcriptional profiles (from LINCS L1000) into a low-dimensional space derived from public gene expression data from tens of thousands of RNA-seq samples (recount2). We employ a matrix factorization technique to define a latent representation that extracts gene modules while adhering to sparsity constraints and preferences for pathways based on prior knowledge. By mapping gene-trait associations to this reduced expression space, we find significant associations between diseases and gene modules expressed in relevant cell types. For instance, hypothyroidism correlates with T cells, corneal endothelial cells with keratometry measurements, hematological assays with specific blood cell types, plasma lipids with adipose tissue, and neuropsychiatric disorders with various brain cell types. We also observe that significant module-trait associations in PhenomeXcan replicate in the eMERGE network phase III. Additionally, we conduct a CRISPR screen to study lipid regulation in HepG2 cells, revealing stronger trait associations with modules than individual genes, even when known lipid metabolism genes do not reach genome-wide significance. Compared to single-gene approaches, our module-based method better predicts FDA-approved drug-disease connections by capturing tissue-specific pathophysiological mechanisms linked to drug mechanisms (e.g., niacin with cardiovascular traits via an immune mechanism). This enhanced drug-disease prediction suggests that modules offer a more effective way to explore drug-disease relationships than individual genes. Finally, exploring the phenotype-module space uncovers stable trait clusters associated with relevant tissues, including a complex branch linking lipids with cardiovascular, autoimmune, and neuropsychiatric disorders. In conclusion, PhenoPLIER moves beyond individual genes to encompass groups of genes working together to perform various functions in specific cell types. This approach enhances the robustness of identifying and interpreting genetic associations, prioritizing alternative and potentially more promising candidate targets even when known single gene associations are absent. This method signifies a shift in interpreting genetic studies, offering mechanistic insights to improve the understanding of complex diseases and their therapeutic approaches.\")"
      ]
     },
     "metadata": {},
     "output_type": "display_data"
    }
   ],
   "source": [
    "display(paragraph_matches[-1])"
   ]
  },
  {
   "cell_type": "markdown",
   "id": "aabf3637-bb5a-458d-89b3-33cea18c529e",
   "metadata": {
    "editable": true,
    "papermill": {
     "duration": 0.023012,
     "end_time": "2024-03-20T21:35:14.131877",
     "exception": false,
     "start_time": "2024-03-20T21:35:14.108865",
     "status": "completed"
    },
    "slideshow": {
     "slide_type": ""
    },
    "tags": []
   },
   "source": [
    "## Results (framework)"
   ]
  },
  {
   "cell_type": "code",
   "execution_count": 53,
   "id": "eb1352b5-0d25-41d0-8f6d-245f7748e99e",
   "metadata": {
    "papermill": {
     "duration": 0.026147,
     "end_time": "2024-03-20T21:35:14.181101",
     "exception": false,
     "start_time": "2024-03-20T21:35:14.154954",
     "status": "completed"
    },
    "tags": []
   },
   "outputs": [],
   "source": [
    "section_name = \"results\""
   ]
  },
  {
   "cell_type": "code",
   "execution_count": 55,
   "id": "e0d44354-4c59-486e-a3a4-06dea873e86d",
   "metadata": {
    "editable": true,
    "papermill": {
     "duration": 0.026937,
     "end_time": "2024-03-20T21:35:14.231009",
     "exception": false,
     "start_time": "2024-03-20T21:35:14.204072",
     "status": "completed"
    },
    "slideshow": {
     "slide_type": ""
    },
    "tags": []
   },
   "outputs": [
    {
     "name": "stdout",
     "output_type": "stream",
     "text": [
      "content/04.05.00.results_framework.md\n"
     ]
    }
   ],
   "source": [
    "pr_filename = pr_files[2].filename\n",
    "assert section_name in pr_filename\n",
    "assert \"framework\" in pr_filename\n",
    "print(pr_filename)"
   ]
  },
  {
   "cell_type": "markdown",
   "id": "e5ba4512-f199-419b-a5ed-bd0da25ca19a",
   "metadata": {
    "editable": true,
    "papermill": {
     "duration": 0.023153,
     "end_time": "2024-03-20T21:35:14.277357",
     "exception": false,
     "start_time": "2024-03-20T21:35:14.254204",
     "status": "completed"
    },
    "slideshow": {
     "slide_type": ""
    },
    "tags": []
   },
   "source": [
    "### Original"
   ]
  },
  {
   "cell_type": "code",
   "execution_count": 56,
   "id": "104a83ac-3b10-43b2-b526-790f2ce0316c",
   "metadata": {
    "papermill": {
     "duration": 0.208012,
     "end_time": "2024-03-20T21:35:14.508739",
     "exception": false,
     "start_time": "2024-03-20T21:35:14.300727",
     "status": "completed"
    },
    "tags": []
   },
   "outputs": [
    {
     "name": "stdout",
     "output_type": "stream",
     "text": [
      "### PhenoPLIER: an integration framework based on \n"
     ]
    }
   ],
   "source": [
    "# get content\n",
    "orig_section_content = repo.get_contents(pr_filename, pr_prev).decoded_content.decode(\n",
    "    \"utf-8\"\n",
    ")\n",
    "print(orig_section_content[:50])"
   ]
  },
  {
   "cell_type": "code",
   "execution_count": 57,
   "id": "24ce0aba-906d-4235-a67b-99d1fa4b5912",
   "metadata": {
    "papermill": {
     "duration": 0.039416,
     "end_time": "2024-03-20T21:35:14.582427",
     "exception": false,
     "start_time": "2024-03-20T21:35:14.543011",
     "status": "completed"
    },
    "tags": []
   },
   "outputs": [
    {
     "data": {
      "text/plain": [
       "7"
      ]
     },
     "metadata": {},
     "output_type": "display_data"
    }
   ],
   "source": [
    "# split by paragraph\n",
    "orig_section_paragraphs = orig_section_content.split(\"\\n\\n\")\n",
    "display(len(orig_section_paragraphs))"
   ]
  },
  {
   "cell_type": "markdown",
   "id": "ebd7a57f-8ca5-4357-8914-6c0e8e16d46b",
   "metadata": {
    "editable": true,
    "papermill": {
     "duration": 0.022979,
     "end_time": "2024-03-20T21:35:14.634392",
     "exception": false,
     "start_time": "2024-03-20T21:35:14.611413",
     "status": "completed"
    },
    "slideshow": {
     "slide_type": ""
    },
    "tags": []
   },
   "source": [
    "### Modified"
   ]
  },
  {
   "cell_type": "code",
   "execution_count": 58,
   "id": "7624af03-9c23-4625-9c6c-a5e9082bcf6a",
   "metadata": {
    "papermill": {
     "duration": 0.258786,
     "end_time": "2024-03-20T21:35:14.916319",
     "exception": false,
     "start_time": "2024-03-20T21:35:14.657533",
     "status": "completed"
    },
    "tags": []
   },
   "outputs": [
    {
     "name": "stdout",
     "output_type": "stream",
     "text": [
      "### PhenoPLIER: an integration framework based on \n"
     ]
    }
   ],
   "source": [
    "# get content\n",
    "mod_section_content = repo.get_contents(pr_filename, pr_curr).decoded_content.decode(\n",
    "    \"utf-8\"\n",
    ")\n",
    "print(mod_section_content[:50])"
   ]
  },
  {
   "cell_type": "code",
   "execution_count": 59,
   "id": "e1fd8b08-aafa-4b43-aa6e-e799761fda94",
   "metadata": {
    "papermill": {
     "duration": 0.039656,
     "end_time": "2024-03-20T21:35:14.991047",
     "exception": false,
     "start_time": "2024-03-20T21:35:14.951391",
     "status": "completed"
    },
    "tags": []
   },
   "outputs": [
    {
     "data": {
      "text/plain": [
       "7"
      ]
     },
     "metadata": {},
     "output_type": "display_data"
    }
   ],
   "source": [
    "# split by paragraph\n",
    "mod_section_paragraphs = mod_section_content.split(\"\\n\\n\")\n",
    "display(len(mod_section_paragraphs))"
   ]
  },
  {
   "cell_type": "markdown",
   "id": "b20bc347-6c37-4089-9a38-654b3e9028bd",
   "metadata": {
    "editable": true,
    "papermill": {
     "duration": 0.023577,
     "end_time": "2024-03-20T21:35:15.043430",
     "exception": false,
     "start_time": "2024-03-20T21:35:15.019853",
     "status": "completed"
    },
    "slideshow": {
     "slide_type": ""
    },
    "tags": []
   },
   "source": [
    "### Match"
   ]
  },
  {
   "cell_type": "code",
   "execution_count": 60,
   "id": "7be2fbbd-e933-44c9-9afc-71c4bb56f6f5",
   "metadata": {
    "papermill": {
     "duration": 0.028045,
     "end_time": "2024-03-20T21:35:15.096738",
     "exception": false,
     "start_time": "2024-03-20T21:35:15.068693",
     "status": "completed"
    },
    "tags": []
   },
   "outputs": [
    {
     "data": {
      "text/plain": [
       "'### PhenoPLIER: an integration framework based on gene co-expression patterns'"
      ]
     },
     "execution_count": 60,
     "metadata": {},
     "output_type": "execute_result"
    }
   ],
   "source": [
    "orig_section_paragraphs[0]"
   ]
  },
  {
   "cell_type": "code",
   "execution_count": 61,
   "id": "2ab3053f-f932-4fd2-a06f-2219fef997dc",
   "metadata": {
    "papermill": {
     "duration": 0.028951,
     "end_time": "2024-03-20T21:35:15.149446",
     "exception": false,
     "start_time": "2024-03-20T21:35:15.120495",
     "status": "completed"
    },
    "tags": []
   },
   "outputs": [
    {
     "data": {
      "text/plain": [
       "'### PhenoPLIER: an integration framework based on gene co-expression patterns'"
      ]
     },
     "execution_count": 61,
     "metadata": {},
     "output_type": "execute_result"
    }
   ],
   "source": [
    "mod_section_paragraphs[0]"
   ]
  },
  {
   "cell_type": "markdown",
   "id": "f1be3841-7923-4e69-b0a9-2c39dd7ddaa7",
   "metadata": {
    "editable": true,
    "papermill": {
     "duration": 0.023359,
     "end_time": "2024-03-20T21:35:15.196474",
     "exception": false,
     "start_time": "2024-03-20T21:35:15.173115",
     "status": "completed"
    },
    "slideshow": {
     "slide_type": ""
    },
    "tags": []
   },
   "source": [
    "####  Paragraph 00"
   ]
  },
  {
   "cell_type": "code",
   "execution_count": 63,
   "id": "9a597e30-25ab-4a38-874c-90de7e184e99",
   "metadata": {
    "papermill": {
     "duration": 0.027843,
     "end_time": "2024-03-20T21:35:15.248846",
     "exception": false,
     "start_time": "2024-03-20T21:35:15.221003",
     "status": "completed"
    },
    "tags": []
   },
   "outputs": [
    {
     "name": "stdout",
     "output_type": "stream",
     "text": [
      "PhenoPLIER is a flexible computational framework that combines gene-trait and gene-drug associations with gene modules expressed in specific contexts (Figure {@fig:entire_process}a). The approach uses a latent representation (with latent variables or LVs representing gene modules) derived from a large gene expression compendium (Figure {@fig:entire_process}b, top) to integrate TWAS with drug-induced transcriptional responses (Figure {@fig:entire_process}b, middle) for a joint analysis. The approach consists in three main components (Figure {@fig:entire_process}b, bottom, see [Methods](#sec:methods)): 1) an LV-based regression model to compute an association between an LV and a trait, 2) a clustering framework to learn groups of traits with shared transcriptomic properties, and 3) an LV-based drug repurposing approach that links diseases to potential treatments. We performed extensive simulations for our regression model ([Supplementary Note 1](#sm:reg:null_sim)) and clustering framework ([Supplementary Note 2](#sm:clustering:null_sim)) to ensure proper calibration and expected results under a model of no association.\n"
     ]
    }
   ],
   "source": [
    "par0 = process_paragraph(orig_section_paragraphs[2])\n",
    "print(par0)"
   ]
  },
  {
   "cell_type": "code",
   "execution_count": 64,
   "id": "87bc4f6c-e891-4d57-a2ce-4bd9efa0e1aa",
   "metadata": {
    "papermill": {
     "duration": 0.029092,
     "end_time": "2024-03-20T21:35:15.301609",
     "exception": false,
     "start_time": "2024-03-20T21:35:15.272517",
     "status": "completed"
    },
    "tags": []
   },
   "outputs": [
    {
     "name": "stdout",
     "output_type": "stream",
     "text": [
      "PhenoPLIER is a computational framework that combines gene-trait and gene-drug associations with gene modules expressed in specific contexts. The approach utilizes a latent representation derived from a large gene expression compendium to integrate TWAS with drug-induced transcriptional responses for a joint analysis. The framework consists of three main components: an LV-based regression model to compute an association between an LV and a trait, a clustering framework to identify groups of traits with shared transcriptomic properties, and an LV-based drug repurposing approach that links diseases to potential treatments. Extensive simulations were performed for the regression model and clustering framework to ensure proper calibration and expected results under a model of no association.\n"
     ]
    }
   ],
   "source": [
    "par1 = process_paragraph(mod_section_paragraphs[2])\n",
    "print(par1)"
   ]
  },
  {
   "cell_type": "code",
   "execution_count": 65,
   "id": "5791f3c1-eaf4-48e9-878d-b5c068cd0f6d",
   "metadata": {
    "papermill": {
     "duration": 0.030764,
     "end_time": "2024-03-20T21:35:15.536864",
     "exception": false,
     "start_time": "2024-03-20T21:35:15.506100",
     "status": "completed"
    },
    "tags": []
   },
   "outputs": [],
   "source": [
    "paragraph_matches.append(\n",
    "    (\n",
    "        section_name,\n",
    "        par0,\n",
    "        par1,\n",
    "    )\n",
    ")"
   ]
  },
  {
   "cell_type": "code",
   "execution_count": 66,
   "id": "82a6f7f9-239f-42dd-84ac-f7a3be77726a",
   "metadata": {
    "papermill": {
     "duration": 0.029435,
     "end_time": "2024-03-20T21:35:15.590843",
     "exception": false,
     "start_time": "2024-03-20T21:35:15.561408",
     "status": "completed"
    },
    "tags": []
   },
   "outputs": [
    {
     "data": {
      "text/plain": [
       "('results',\n",
       " 'PhenoPLIER is a flexible computational framework that combines gene-trait and gene-drug associations with gene modules expressed in specific contexts (Figure {@fig:entire_process}a). The approach uses a latent representation (with latent variables or LVs representing gene modules) derived from a large gene expression compendium (Figure {@fig:entire_process}b, top) to integrate TWAS with drug-induced transcriptional responses (Figure {@fig:entire_process}b, middle) for a joint analysis. The approach consists in three main components (Figure {@fig:entire_process}b, bottom, see [Methods](#sec:methods)): 1) an LV-based regression model to compute an association between an LV and a trait, 2) a clustering framework to learn groups of traits with shared transcriptomic properties, and 3) an LV-based drug repurposing approach that links diseases to potential treatments. We performed extensive simulations for our regression model ([Supplementary Note 1](#sm:reg:null_sim)) and clustering framework ([Supplementary Note 2](#sm:clustering:null_sim)) to ensure proper calibration and expected results under a model of no association.',\n",
       " 'PhenoPLIER is a computational framework that combines gene-trait and gene-drug associations with gene modules expressed in specific contexts. The approach utilizes a latent representation derived from a large gene expression compendium to integrate TWAS with drug-induced transcriptional responses for a joint analysis. The framework consists of three main components: an LV-based regression model to compute an association between an LV and a trait, a clustering framework to identify groups of traits with shared transcriptomic properties, and an LV-based drug repurposing approach that links diseases to potential treatments. Extensive simulations were performed for the regression model and clustering framework to ensure proper calibration and expected results under a model of no association.')"
      ]
     },
     "metadata": {},
     "output_type": "display_data"
    }
   ],
   "source": [
    "display(paragraph_matches[-1])"
   ]
  },
  {
   "cell_type": "markdown",
   "id": "54677970-9760-47cf-a20c-6ac791506558",
   "metadata": {
    "editable": true,
    "papermill": {
     "duration": 0.023359,
     "end_time": "2024-03-20T21:35:15.196474",
     "exception": false,
     "start_time": "2024-03-20T21:35:15.173115",
     "status": "completed"
    },
    "slideshow": {
     "slide_type": ""
    },
    "tags": []
   },
   "source": [
    "####  Paragraph 01"
   ]
  },
  {
   "cell_type": "code",
   "execution_count": 67,
   "id": "e7a8c730-895d-44ff-9d5b-fc0722ab3af2",
   "metadata": {
    "papermill": {
     "duration": 0.027843,
     "end_time": "2024-03-20T21:35:15.248846",
     "exception": false,
     "start_time": "2024-03-20T21:35:15.221003",
     "status": "completed"
    },
    "tags": []
   },
   "outputs": [
    {
     "name": "stdout",
     "output_type": "stream",
     "text": [
      "We used TWAS results from PhenomeXcan [@doi:10.1126/sciadv.aba2083] and the eMERGE network [@doi:10.1101/2021.10.21.21265225] as discovery and replication cohorts, respectively ([Methods](#sec:methods:twas)). PhenomeXcan provides gene-trait associations for 4,091 different diseases and traits from the UK Biobank [@doi:10.1038/s41586-018-0579-z] and other studies, whereas the analyses on eMERGE were performed across 309 phecodes. TWAS results were derived using two statistical methods (see [Methods](#sec:methods:predixcan)): 1) Summary-MultiXcan (S-MultiXcan) associations were used for the regression and clustering components, and 2) Summary-PrediXcan (S-PrediXcan) associations were used for the drug repurposing component. In addition, we also used colocalization results, which provide a probability of overlap between the GWAS and eQTL signals. For the drug-repurposing approach, we used transcriptional responses to small molecule perturbations from LINCS L1000 [@doi:10.1016/j.cell.2017.10.049] comprising 1,170 compounds.\n"
     ]
    }
   ],
   "source": [
    "par0 = process_paragraph(orig_section_paragraphs[3])\n",
    "print(par0)"
   ]
  },
  {
   "cell_type": "code",
   "execution_count": 68,
   "id": "897f4530-80a0-42f0-815d-420db56222be",
   "metadata": {
    "papermill": {
     "duration": 0.029092,
     "end_time": "2024-03-20T21:35:15.301609",
     "exception": false,
     "start_time": "2024-03-20T21:35:15.272517",
     "status": "completed"
    },
    "tags": []
   },
   "outputs": [
    {
     "name": "stdout",
     "output_type": "stream",
     "text": [
      "TWAS results from PhenomeXcan and the eMERGE network were used as discovery and replication cohorts, respectively. PhenomeXcan provided gene-trait associations for 4,091 diseases and traits from the UK Biobank and other studies, while eMERGE analyses were conducted across 309 phecodes. TWAS results utilized two statistical methods: Summary-MultiXcan (S-MultiXcan) associations for regression and clustering, and Summary-PrediXcan (S-PrediXcan) associations for drug repurposing. Colocalization results were also incorporated to assess overlap between GWAS and eQTL signals. For drug repurposing, transcriptional responses to small molecule perturbations from LINCS L1000 were utilized, encompassing 1,170 compounds.\n"
     ]
    }
   ],
   "source": [
    "par1 = process_paragraph(mod_section_paragraphs[3])\n",
    "print(par1)"
   ]
  },
  {
   "cell_type": "code",
   "execution_count": 69,
   "id": "bec3245b-e9e6-4024-816b-0177e92643eb",
   "metadata": {
    "papermill": {
     "duration": 0.030764,
     "end_time": "2024-03-20T21:35:15.536864",
     "exception": false,
     "start_time": "2024-03-20T21:35:15.506100",
     "status": "completed"
    },
    "tags": []
   },
   "outputs": [],
   "source": [
    "paragraph_matches.append(\n",
    "    (\n",
    "        section_name,\n",
    "        par0,\n",
    "        par1,\n",
    "    )\n",
    ")"
   ]
  },
  {
   "cell_type": "code",
   "execution_count": 70,
   "id": "910b7c5a-853a-44b1-b916-4d4d5c9e8187",
   "metadata": {
    "papermill": {
     "duration": 0.029435,
     "end_time": "2024-03-20T21:35:15.590843",
     "exception": false,
     "start_time": "2024-03-20T21:35:15.561408",
     "status": "completed"
    },
    "tags": []
   },
   "outputs": [
    {
     "data": {
      "text/plain": [
       "('results',\n",
       " 'We used TWAS results from PhenomeXcan [@doi:10.1126/sciadv.aba2083] and the eMERGE network [@doi:10.1101/2021.10.21.21265225] as discovery and replication cohorts, respectively ([Methods](#sec:methods:twas)). PhenomeXcan provides gene-trait associations for 4,091 different diseases and traits from the UK Biobank [@doi:10.1038/s41586-018-0579-z] and other studies, whereas the analyses on eMERGE were performed across 309 phecodes. TWAS results were derived using two statistical methods (see [Methods](#sec:methods:predixcan)): 1) Summary-MultiXcan (S-MultiXcan) associations were used for the regression and clustering components, and 2) Summary-PrediXcan (S-PrediXcan) associations were used for the drug repurposing component. In addition, we also used colocalization results, which provide a probability of overlap between the GWAS and eQTL signals. For the drug-repurposing approach, we used transcriptional responses to small molecule perturbations from LINCS L1000 [@doi:10.1016/j.cell.2017.10.049] comprising 1,170 compounds.',\n",
       " 'TWAS results from PhenomeXcan and the eMERGE network were used as discovery and replication cohorts, respectively. PhenomeXcan provided gene-trait associations for 4,091 diseases and traits from the UK Biobank and other studies, while eMERGE analyses were conducted across 309 phecodes. TWAS results utilized two statistical methods: Summary-MultiXcan (S-MultiXcan) associations for regression and clustering, and Summary-PrediXcan (S-PrediXcan) associations for drug repurposing. Colocalization results were also incorporated to assess overlap between GWAS and eQTL signals. For drug repurposing, transcriptional responses to small molecule perturbations from LINCS L1000 were utilized, encompassing 1,170 compounds.')"
      ]
     },
     "metadata": {},
     "output_type": "display_data"
    }
   ],
   "source": [
    "display(paragraph_matches[-1])"
   ]
  },
  {
   "cell_type": "markdown",
   "id": "224e09a6-cc0e-43dd-8e08-1f438a955b90",
   "metadata": {
    "editable": true,
    "papermill": {
     "duration": 0.023359,
     "end_time": "2024-03-20T21:35:15.196474",
     "exception": false,
     "start_time": "2024-03-20T21:35:15.173115",
     "status": "completed"
    },
    "slideshow": {
     "slide_type": ""
    },
    "tags": []
   },
   "source": [
    "####  Paragraph 02"
   ]
  },
  {
   "cell_type": "code",
   "execution_count": 71,
   "id": "ec3e6e21-1e35-444e-9d22-1c227583767e",
   "metadata": {
    "papermill": {
     "duration": 0.027843,
     "end_time": "2024-03-20T21:35:15.248846",
     "exception": false,
     "start_time": "2024-03-20T21:35:15.221003",
     "status": "completed"
    },
    "tags": []
   },
   "outputs": [
    {
     "name": "stdout",
     "output_type": "stream",
     "text": [
      "The latent gene expression representation was obtained from the MultiPLIER models [@doi:10.1016/j.cels.2019.04.003], which were derived by applying a matrix factorization method (the pathway-level information extractor or PLIER [@doi:10.1038/s41592-019-0456-1]) to recount2 [@doi:10.1038/nbt.3838] -- a uniformly-curated collection of transcript-level gene expression quantified by RNA-seq in a large, diverse set of samples collected across a range of disease states, cell types differentiation stages, and various stimuli (see [Methods](#sec:methods:multiplier)). The MultiPLIER models extracted 987 LVs by optimizing data reconstruction but also the alignment of LVs with prior knowledge/pathways.\n"
     ]
    }
   ],
   "source": [
    "par0 = process_paragraph(orig_section_paragraphs[4])\n",
    "print(par0)"
   ]
  },
  {
   "cell_type": "code",
   "execution_count": 72,
   "id": "fd849412-a233-4688-b0f1-ad51c4f9da8e",
   "metadata": {
    "papermill": {
     "duration": 0.029092,
     "end_time": "2024-03-20T21:35:15.301609",
     "exception": false,
     "start_time": "2024-03-20T21:35:15.272517",
     "status": "completed"
    },
    "tags": []
   },
   "outputs": [
    {
     "name": "stdout",
     "output_type": "stream",
     "text": [
      "The latent gene expression representation was obtained from the MultiPLIER models, which were derived using a matrix factorization method called the pathway-level information extractor (PLIER) applied to recount2. Recount2 is a uniformly-curated collection of transcript-level gene expression quantified by RNA-seq in a large, diverse set of samples collected across different disease states, cell types, differentiation stages, and stimuli. The MultiPLIER models extracted 987 latent variables (LVs) by optimizing data reconstruction and aligning LVs with prior knowledge and pathways.\n"
     ]
    }
   ],
   "source": [
    "par1 = process_paragraph(mod_section_paragraphs[4])\n",
    "print(par1)"
   ]
  },
  {
   "cell_type": "code",
   "execution_count": 73,
   "id": "e629eec0-1679-40dd-a444-e15d198547c0",
   "metadata": {
    "papermill": {
     "duration": 0.030764,
     "end_time": "2024-03-20T21:35:15.536864",
     "exception": false,
     "start_time": "2024-03-20T21:35:15.506100",
     "status": "completed"
    },
    "tags": []
   },
   "outputs": [],
   "source": [
    "paragraph_matches.append(\n",
    "    (\n",
    "        section_name,\n",
    "        par0,\n",
    "        par1,\n",
    "    )\n",
    ")"
   ]
  },
  {
   "cell_type": "code",
   "execution_count": 74,
   "id": "05fc5802-dd47-4838-9230-f8d4908c830e",
   "metadata": {
    "papermill": {
     "duration": 0.029435,
     "end_time": "2024-03-20T21:35:15.590843",
     "exception": false,
     "start_time": "2024-03-20T21:35:15.561408",
     "status": "completed"
    },
    "tags": []
   },
   "outputs": [
    {
     "data": {
      "text/plain": [
       "('results',\n",
       " 'The latent gene expression representation was obtained from the MultiPLIER models [@doi:10.1016/j.cels.2019.04.003], which were derived by applying a matrix factorization method (the pathway-level information extractor or PLIER [@doi:10.1038/s41592-019-0456-1]) to recount2 [@doi:10.1038/nbt.3838] -- a uniformly-curated collection of transcript-level gene expression quantified by RNA-seq in a large, diverse set of samples collected across a range of disease states, cell types differentiation stages, and various stimuli (see [Methods](#sec:methods:multiplier)). The MultiPLIER models extracted 987 LVs by optimizing data reconstruction but also the alignment of LVs with prior knowledge/pathways.',\n",
       " 'The latent gene expression representation was obtained from the MultiPLIER models, which were derived using a matrix factorization method called the pathway-level information extractor (PLIER) applied to recount2. Recount2 is a uniformly-curated collection of transcript-level gene expression quantified by RNA-seq in a large, diverse set of samples collected across different disease states, cell types, differentiation stages, and stimuli. The MultiPLIER models extracted 987 latent variables (LVs) by optimizing data reconstruction and aligning LVs with prior knowledge and pathways.')"
      ]
     },
     "metadata": {},
     "output_type": "display_data"
    }
   ],
   "source": [
    "display(paragraph_matches[-1])"
   ]
  },
  {
   "cell_type": "markdown",
   "id": "ce6f77bc-3336-45a3-8c3b-bf2f2a36767c",
   "metadata": {
    "editable": true,
    "papermill": {
     "duration": 0.023359,
     "end_time": "2024-03-20T21:35:15.196474",
     "exception": false,
     "start_time": "2024-03-20T21:35:15.173115",
     "status": "completed"
    },
    "slideshow": {
     "slide_type": ""
    },
    "tags": []
   },
   "source": [
    "####  Paragraph 03"
   ]
  },
  {
   "cell_type": "code",
   "execution_count": 75,
   "id": "fb1d570a-b361-48f3-9eef-8250d6330b10",
   "metadata": {
    "papermill": {
     "duration": 0.027843,
     "end_time": "2024-03-20T21:35:15.248846",
     "exception": false,
     "start_time": "2024-03-20T21:35:15.221003",
     "status": "completed"
    },
    "tags": []
   },
   "outputs": [
    {
     "name": "stdout",
     "output_type": "stream",
     "text": [
      "Each LV or gene module represents a group of weighted genes expressed together in the same tissues and cell types as a functional unit. Since LVs might represent a functional set of genes regulated by the same transcriptional program [@doi:10.1186/1471-2164-7-187; @doi:10.1186/s13059-019-1835-8], we conjecture that the projection of TWAS and pharmacologic perturbations data into this latent space could provide a better mechanistic understanding. For this projection of different data modalities into the same space, PhenoPLIER converts gene associations to an LV score: all genes' standardized effect sizes for a trait (from TWAS) or differential expression values for a drug (from pharmacologic perturbation data) are multiplied by the LV genes' weights and summed, producing a single value. Instead of looking at individual genes, this process links different traits and drugs to functionally-related groups of genes or LVs. PhenoPLIER uses LVs annotations about the specific conditions where the group of genes is expressed, such as cell types and tissues, even at specific developmental stages, disease stages or under distinct stimuli. Although this is not strictly necessary for PhenoPLIER to work, these annotations can dramatically improve the interpretability of results. MultiPLIER's models provide this information by linking LVs to samples, which may be annotated for experimental conditions (represented by matrix $\\mathbf{B}$ at the top of Figure {@fig:entire_process}b) in which genes in an LV are expressed. An example of this is shown in Figure {@fig:entire_process}c. In the original MultiPLIER study, the authors reported that one of the latent variables, identified as LV603, was associated with a known neutrophil pathway and highly correlated with neutrophil count estimates from whole blood RNA-seq profiles [@doi:10.1186/s13059-016-1070-5]. We analyzed LV603 using PhenoPLIER and found that 1) neutrophil counts and other white blood cell traits were ranked among the top 10 traits out of 4,091 (Figure {@fig:entire_process}c, bottom), and basophils count and percentage were significantly associated with this LV when using our regression method (Table @tbl:sup:phenomexcan_assocs:lv603), and 2) LV603's genes were expressed in highly relevant cell types (Figure {@fig:entire_process}c, top). These initial results suggested that groups of functionally related and co-expressed genes tend to correspond to groups of trait-associated genes, and the approach can link transcriptional mechanisms from large and diverse dataset collections to complex traits.\n"
     ]
    }
   ],
   "source": [
    "par0 = process_paragraph(orig_section_paragraphs[5])\n",
    "print(par0)"
   ]
  },
  {
   "cell_type": "code",
   "execution_count": 76,
   "id": "8abab642-6570-4219-9a58-a70726dd3f7b",
   "metadata": {
    "papermill": {
     "duration": 0.029092,
     "end_time": "2024-03-20T21:35:15.301609",
     "exception": false,
     "start_time": "2024-03-20T21:35:15.272517",
     "status": "completed"
    },
    "tags": []
   },
   "outputs": [
    {
     "name": "stdout",
     "output_type": "stream",
     "text": [
      "Each latent variable (LV) or gene module represents a group of weighted genes expressed together in the same tissues and cell types as a functional unit. LVs may represent a set of genes regulated by the same transcriptional program, allowing for a better mechanistic understanding when projecting TWAS and pharmacologic perturbations data into this latent space. PhenoPLIER converts gene associations to an LV score by multiplying all genes' standardized effect sizes for a trait (from TWAS) or differential expression values for a drug (from pharmacologic perturbation data) by the LV genes' weights and summing them to produce a single value. This process links different traits and drugs to functionally-related groups of genes or LVs, with annotations about the specific conditions where the group of genes is expressed, such as cell types, tissues, disease stages, or developmental stages, enhancing interpretability. MultiPLIER's models provide this information by linking LVs to samples annotated for experimental conditions. For example, LV603 was associated with a neutrophil pathway and correlated with neutrophil count estimates from whole blood RNA-seq profiles. Analysis of LV603 using PhenoPLIER revealed that neutrophil counts and other white blood cell traits ranked among the top 10 traits, and basophils count and percentage were significantly associated with this LV. Additionally, LV603's genes were expressed in relevant cell types. These findings suggest that groups of functionally related and co-expressed genes correspond to trait-associated genes, linking transcriptional mechanisms to complex traits from diverse dataset collections.\n"
     ]
    }
   ],
   "source": [
    "par1 = process_paragraph(mod_section_paragraphs[5])\n",
    "print(par1)"
   ]
  },
  {
   "cell_type": "code",
   "execution_count": 77,
   "id": "b9004c50-2cd4-4b51-8246-27dd23aa32de",
   "metadata": {
    "papermill": {
     "duration": 0.030764,
     "end_time": "2024-03-20T21:35:15.536864",
     "exception": false,
     "start_time": "2024-03-20T21:35:15.506100",
     "status": "completed"
    },
    "tags": []
   },
   "outputs": [],
   "source": [
    "paragraph_matches.append(\n",
    "    (\n",
    "        section_name,\n",
    "        par0,\n",
    "        par1,\n",
    "    )\n",
    ")"
   ]
  },
  {
   "cell_type": "code",
   "execution_count": 78,
   "id": "3792a797-4c29-4051-a9c8-38b374a242ed",
   "metadata": {
    "papermill": {
     "duration": 0.029435,
     "end_time": "2024-03-20T21:35:15.590843",
     "exception": false,
     "start_time": "2024-03-20T21:35:15.561408",
     "status": "completed"
    },
    "tags": []
   },
   "outputs": [
    {
     "data": {
      "text/plain": [
       "('results',\n",
       " \"Each LV or gene module represents a group of weighted genes expressed together in the same tissues and cell types as a functional unit. Since LVs might represent a functional set of genes regulated by the same transcriptional program [@doi:10.1186/1471-2164-7-187; @doi:10.1186/s13059-019-1835-8], we conjecture that the projection of TWAS and pharmacologic perturbations data into this latent space could provide a better mechanistic understanding. For this projection of different data modalities into the same space, PhenoPLIER converts gene associations to an LV score: all genes' standardized effect sizes for a trait (from TWAS) or differential expression values for a drug (from pharmacologic perturbation data) are multiplied by the LV genes' weights and summed, producing a single value. Instead of looking at individual genes, this process links different traits and drugs to functionally-related groups of genes or LVs. PhenoPLIER uses LVs annotations about the specific conditions where the group of genes is expressed, such as cell types and tissues, even at specific developmental stages, disease stages or under distinct stimuli. Although this is not strictly necessary for PhenoPLIER to work, these annotations can dramatically improve the interpretability of results. MultiPLIER's models provide this information by linking LVs to samples, which may be annotated for experimental conditions (represented by matrix $\\\\mathbf{B}$ at the top of Figure {@fig:entire_process}b) in which genes in an LV are expressed. An example of this is shown in Figure {@fig:entire_process}c. In the original MultiPLIER study, the authors reported that one of the latent variables, identified as LV603, was associated with a known neutrophil pathway and highly correlated with neutrophil count estimates from whole blood RNA-seq profiles [@doi:10.1186/s13059-016-1070-5]. We analyzed LV603 using PhenoPLIER and found that 1) neutrophil counts and other white blood cell traits were ranked among the top 10 traits out of 4,091 (Figure {@fig:entire_process}c, bottom), and basophils count and percentage were significantly associated with this LV when using our regression method (Table @tbl:sup:phenomexcan_assocs:lv603), and 2) LV603's genes were expressed in highly relevant cell types (Figure {@fig:entire_process}c, top). These initial results suggested that groups of functionally related and co-expressed genes tend to correspond to groups of trait-associated genes, and the approach can link transcriptional mechanisms from large and diverse dataset collections to complex traits.\",\n",
       " \"Each latent variable (LV) or gene module represents a group of weighted genes expressed together in the same tissues and cell types as a functional unit. LVs may represent a set of genes regulated by the same transcriptional program, allowing for a better mechanistic understanding when projecting TWAS and pharmacologic perturbations data into this latent space. PhenoPLIER converts gene associations to an LV score by multiplying all genes' standardized effect sizes for a trait (from TWAS) or differential expression values for a drug (from pharmacologic perturbation data) by the LV genes' weights and summing them to produce a single value. This process links different traits and drugs to functionally-related groups of genes or LVs, with annotations about the specific conditions where the group of genes is expressed, such as cell types, tissues, disease stages, or developmental stages, enhancing interpretability. MultiPLIER's models provide this information by linking LVs to samples annotated for experimental conditions. For example, LV603 was associated with a neutrophil pathway and correlated with neutrophil count estimates from whole blood RNA-seq profiles. Analysis of LV603 using PhenoPLIER revealed that neutrophil counts and other white blood cell traits ranked among the top 10 traits, and basophils count and percentage were significantly associated with this LV. Additionally, LV603's genes were expressed in relevant cell types. These findings suggest that groups of functionally related and co-expressed genes correspond to trait-associated genes, linking transcriptional mechanisms to complex traits from diverse dataset collections.\")"
      ]
     },
     "metadata": {},
     "output_type": "display_data"
    }
   ],
   "source": [
    "display(paragraph_matches[-1])"
   ]
  },
  {
   "cell_type": "markdown",
   "id": "8a1dd3a1-0bdf-4072-9ac1-6a5c8809e972",
   "metadata": {
    "editable": true,
    "papermill": {
     "duration": 0.023359,
     "end_time": "2024-03-20T21:35:15.196474",
     "exception": false,
     "start_time": "2024-03-20T21:35:15.173115",
     "status": "completed"
    },
    "slideshow": {
     "slide_type": ""
    },
    "tags": []
   },
   "source": [
    "####  Paragraph 04"
   ]
  },
  {
   "cell_type": "code",
   "execution_count": 79,
   "id": "c1913824-ad2d-4bc8-bf7c-e9d6b0be7824",
   "metadata": {
    "papermill": {
     "duration": 0.027843,
     "end_time": "2024-03-20T21:35:15.248846",
     "exception": false,
     "start_time": "2024-03-20T21:35:15.221003",
     "status": "completed"
    },
    "tags": []
   },
   "outputs": [
    {
     "name": "stdout",
     "output_type": "stream",
     "text": [
      "Therefore, PhenoPLIER allows the user to address specific questions, namely: do disease-associated genes belong to modules expressed in specific tissues and cell types? Are these cell type-specific modules associated with _different_ diseases, thus potentially representing a \"network pleiotropy\" example from an omnigenic point of view [@doi:10.1016/j.cell.2017.05.038]? Is there a subset of module's genes that is closer to the definition of \"core\" genes (i.e., directly affecting the trait with no mediated regulation of other genes [@doi:10.1016/j.cell.2019.04.014]) and thus represents alternative and potentially better candidate targets? Are drugs perturbing these transcriptional mechanisms, and can they suggest potential mechanisms of action?\n"
     ]
    }
   ],
   "source": [
    "par0 = process_paragraph(orig_section_paragraphs[6])\n",
    "print(par0)"
   ]
  },
  {
   "cell_type": "code",
   "execution_count": 80,
   "id": "a16c9e7b-e701-4756-96b8-9dd468b2adb3",
   "metadata": {
    "papermill": {
     "duration": 0.029092,
     "end_time": "2024-03-20T21:35:15.301609",
     "exception": false,
     "start_time": "2024-03-20T21:35:15.272517",
     "status": "completed"
    },
    "tags": []
   },
   "outputs": [
    {
     "name": "stdout",
     "output_type": "stream",
     "text": [
      "PhenoPLIER enables users to explore whether disease-associated genes are part of modules expressed in specific tissues and cell types. These cell type-specific modules may be linked to various diseases, demonstrating a concept of \"network pleiotropy\" from an omnigenic perspective. Additionally, PhenoPLIER can identify a subset of genes within modules that directly impact traits, known as \"core\" genes, which could serve as alternative and potentially more effective therapeutic targets. Furthermore, the tool can identify drugs that perturb these transcriptional mechanisms, providing insights into potential mechanisms of action.\n"
     ]
    }
   ],
   "source": [
    "par1 = process_paragraph(mod_section_paragraphs[6])\n",
    "print(par1)"
   ]
  },
  {
   "cell_type": "code",
   "execution_count": 81,
   "id": "5959eea5-56f8-4217-8f04-1f1718ad4e52",
   "metadata": {
    "papermill": {
     "duration": 0.030764,
     "end_time": "2024-03-20T21:35:15.536864",
     "exception": false,
     "start_time": "2024-03-20T21:35:15.506100",
     "status": "completed"
    },
    "tags": []
   },
   "outputs": [],
   "source": [
    "paragraph_matches.append(\n",
    "    (\n",
    "        section_name,\n",
    "        par0,\n",
    "        par1,\n",
    "    )\n",
    ")"
   ]
  },
  {
   "cell_type": "code",
   "execution_count": 82,
   "id": "3ebcf502-7f17-42bd-bf35-a4ea224094e9",
   "metadata": {
    "papermill": {
     "duration": 0.029435,
     "end_time": "2024-03-20T21:35:15.590843",
     "exception": false,
     "start_time": "2024-03-20T21:35:15.561408",
     "status": "completed"
    },
    "tags": []
   },
   "outputs": [
    {
     "data": {
      "text/plain": [
       "('results',\n",
       " 'Therefore, PhenoPLIER allows the user to address specific questions, namely: do disease-associated genes belong to modules expressed in specific tissues and cell types? Are these cell type-specific modules associated with _different_ diseases, thus potentially representing a \"network pleiotropy\" example from an omnigenic point of view [@doi:10.1016/j.cell.2017.05.038]? Is there a subset of module\\'s genes that is closer to the definition of \"core\" genes (i.e., directly affecting the trait with no mediated regulation of other genes [@doi:10.1016/j.cell.2019.04.014]) and thus represents alternative and potentially better candidate targets? Are drugs perturbing these transcriptional mechanisms, and can they suggest potential mechanisms of action?',\n",
       " 'PhenoPLIER enables users to explore whether disease-associated genes are part of modules expressed in specific tissues and cell types. These cell type-specific modules may be linked to various diseases, demonstrating a concept of \"network pleiotropy\" from an omnigenic perspective. Additionally, PhenoPLIER can identify a subset of genes within modules that directly impact traits, known as \"core\" genes, which could serve as alternative and potentially more effective therapeutic targets. Furthermore, the tool can identify drugs that perturb these transcriptional mechanisms, providing insights into potential mechanisms of action.')"
      ]
     },
     "metadata": {},
     "output_type": "display_data"
    }
   ],
   "source": [
    "display(paragraph_matches[-1])"
   ]
  },
  {
   "cell_type": "markdown",
   "id": "5378cdea-49c1-4129-85c8-ce20eb845253",
   "metadata": {
    "editable": true,
    "papermill": {
     "duration": 0.023012,
     "end_time": "2024-03-20T21:35:14.131877",
     "exception": false,
     "start_time": "2024-03-20T21:35:14.108865",
     "status": "completed"
    },
    "slideshow": {
     "slide_type": ""
    },
    "tags": []
   },
   "source": [
    "## Results (CRISPR)"
   ]
  },
  {
   "cell_type": "code",
   "execution_count": 84,
   "id": "a7ff9fd2-527d-432e-a6ee-87e68e3835d0",
   "metadata": {
    "papermill": {
     "duration": 0.026147,
     "end_time": "2024-03-20T21:35:14.181101",
     "exception": false,
     "start_time": "2024-03-20T21:35:14.154954",
     "status": "completed"
    },
    "tags": []
   },
   "outputs": [],
   "source": [
    "# section_name = \"results\""
   ]
  },
  {
   "cell_type": "code",
   "execution_count": 85,
   "id": "802bafd0-ef49-415d-b5b0-2a7bce08d7e0",
   "metadata": {
    "editable": true,
    "papermill": {
     "duration": 0.026937,
     "end_time": "2024-03-20T21:35:14.231009",
     "exception": false,
     "start_time": "2024-03-20T21:35:14.204072",
     "status": "completed"
    },
    "slideshow": {
     "slide_type": ""
    },
    "tags": []
   },
   "outputs": [
    {
     "name": "stdout",
     "output_type": "stream",
     "text": [
      "content/04.05.01.results_crispr.md\n"
     ]
    }
   ],
   "source": [
    "pr_filename = pr_files[3].filename\n",
    "assert section_name in pr_filename\n",
    "assert \"crispr\" in pr_filename\n",
    "print(pr_filename)"
   ]
  },
  {
   "cell_type": "markdown",
   "id": "7bbf04e3-cd72-4c37-9caf-42214febd7f7",
   "metadata": {
    "editable": true,
    "papermill": {
     "duration": 0.023153,
     "end_time": "2024-03-20T21:35:14.277357",
     "exception": false,
     "start_time": "2024-03-20T21:35:14.254204",
     "status": "completed"
    },
    "slideshow": {
     "slide_type": ""
    },
    "tags": []
   },
   "source": [
    "### Original"
   ]
  },
  {
   "cell_type": "code",
   "execution_count": 86,
   "id": "dadf6e36-d928-476a-8587-33a3d8e79e28",
   "metadata": {
    "papermill": {
     "duration": 0.208012,
     "end_time": "2024-03-20T21:35:14.508739",
     "exception": false,
     "start_time": "2024-03-20T21:35:14.300727",
     "status": "completed"
    },
    "tags": []
   },
   "outputs": [
    {
     "name": "stdout",
     "output_type": "stream",
     "text": [
      "### LVs link genes that alter lipid accumulation w\n"
     ]
    }
   ],
   "source": [
    "# get content\n",
    "orig_section_content = repo.get_contents(pr_filename, pr_prev).decoded_content.decode(\n",
    "    \"utf-8\"\n",
    ")\n",
    "print(orig_section_content[:50])"
   ]
  },
  {
   "cell_type": "code",
   "execution_count": 87,
   "id": "86a9308c-584c-4d26-988f-7db7de6aa3ed",
   "metadata": {
    "papermill": {
     "duration": 0.039416,
     "end_time": "2024-03-20T21:35:14.582427",
     "exception": false,
     "start_time": "2024-03-20T21:35:14.543011",
     "status": "completed"
    },
    "tags": []
   },
   "outputs": [
    {
     "data": {
      "text/plain": [
       "6"
      ]
     },
     "metadata": {},
     "output_type": "display_data"
    }
   ],
   "source": [
    "# split by paragraph\n",
    "orig_section_paragraphs = orig_section_content.split(\"\\n\\n\")\n",
    "display(len(orig_section_paragraphs))"
   ]
  },
  {
   "cell_type": "markdown",
   "id": "fb2bc862-534e-475c-8646-43a259de6e52",
   "metadata": {
    "editable": true,
    "papermill": {
     "duration": 0.022979,
     "end_time": "2024-03-20T21:35:14.634392",
     "exception": false,
     "start_time": "2024-03-20T21:35:14.611413",
     "status": "completed"
    },
    "slideshow": {
     "slide_type": ""
    },
    "tags": []
   },
   "source": [
    "### Modified"
   ]
  },
  {
   "cell_type": "code",
   "execution_count": 88,
   "id": "542ad54c-34b1-4d00-af8d-fbe081f42b4a",
   "metadata": {
    "papermill": {
     "duration": 0.258786,
     "end_time": "2024-03-20T21:35:14.916319",
     "exception": false,
     "start_time": "2024-03-20T21:35:14.657533",
     "status": "completed"
    },
    "tags": []
   },
   "outputs": [
    {
     "name": "stdout",
     "output_type": "stream",
     "text": [
      "### LVs link genes that alter lipid accumulation w\n"
     ]
    }
   ],
   "source": [
    "# get content\n",
    "mod_section_content = repo.get_contents(pr_filename, pr_curr).decoded_content.decode(\n",
    "    \"utf-8\"\n",
    ")\n",
    "print(mod_section_content[:50])"
   ]
  },
  {
   "cell_type": "code",
   "execution_count": 89,
   "id": "706d34cf-1ca0-43e4-86a0-57d9f5a60612",
   "metadata": {
    "papermill": {
     "duration": 0.039656,
     "end_time": "2024-03-20T21:35:14.991047",
     "exception": false,
     "start_time": "2024-03-20T21:35:14.951391",
     "status": "completed"
    },
    "tags": []
   },
   "outputs": [
    {
     "data": {
      "text/plain": [
       "6"
      ]
     },
     "metadata": {},
     "output_type": "display_data"
    }
   ],
   "source": [
    "# split by paragraph\n",
    "mod_section_paragraphs = mod_section_content.split(\"\\n\\n\")\n",
    "display(len(mod_section_paragraphs))"
   ]
  },
  {
   "cell_type": "markdown",
   "id": "d90b077a-04fe-40e6-b37c-e032a3d64b87",
   "metadata": {
    "editable": true,
    "papermill": {
     "duration": 0.023577,
     "end_time": "2024-03-20T21:35:15.043430",
     "exception": false,
     "start_time": "2024-03-20T21:35:15.019853",
     "status": "completed"
    },
    "slideshow": {
     "slide_type": ""
    },
    "tags": []
   },
   "source": [
    "### Match"
   ]
  },
  {
   "cell_type": "code",
   "execution_count": 90,
   "id": "4eacd127-6a88-45b6-a7cb-fa9fc6437fa7",
   "metadata": {
    "papermill": {
     "duration": 0.028045,
     "end_time": "2024-03-20T21:35:15.096738",
     "exception": false,
     "start_time": "2024-03-20T21:35:15.068693",
     "status": "completed"
    },
    "tags": []
   },
   "outputs": [
    {
     "data": {
      "text/plain": [
       "'### LVs link genes that alter lipid accumulation with relevant traits and tissues'"
      ]
     },
     "execution_count": 90,
     "metadata": {},
     "output_type": "execute_result"
    }
   ],
   "source": [
    "orig_section_paragraphs[0]"
   ]
  },
  {
   "cell_type": "code",
   "execution_count": 91,
   "id": "f37c968a-53ef-4aaf-b1c8-c028d826a7f5",
   "metadata": {
    "papermill": {
     "duration": 0.028951,
     "end_time": "2024-03-20T21:35:15.149446",
     "exception": false,
     "start_time": "2024-03-20T21:35:15.120495",
     "status": "completed"
    },
    "tags": []
   },
   "outputs": [
    {
     "data": {
      "text/plain": [
       "'### LVs link genes that alter lipid accumulation with relevant traits and tissues'"
      ]
     },
     "execution_count": 91,
     "metadata": {},
     "output_type": "execute_result"
    }
   ],
   "source": [
    "mod_section_paragraphs[0]"
   ]
  },
  {
   "cell_type": "markdown",
   "id": "272dbfa3-a287-4389-af7e-a95acb997b0a",
   "metadata": {
    "editable": true,
    "papermill": {
     "duration": 0.023359,
     "end_time": "2024-03-20T21:35:15.196474",
     "exception": false,
     "start_time": "2024-03-20T21:35:15.173115",
     "status": "completed"
    },
    "slideshow": {
     "slide_type": ""
    },
    "tags": []
   },
   "source": [
    "####  Paragraph 00"
   ]
  },
  {
   "cell_type": "code",
   "execution_count": 92,
   "id": "d2c5e113-482d-49ed-924c-7931117d1882",
   "metadata": {
    "papermill": {
     "duration": 0.027843,
     "end_time": "2024-03-20T21:35:15.248846",
     "exception": false,
     "start_time": "2024-03-20T21:35:15.221003",
     "status": "completed"
    },
    "tags": []
   },
   "outputs": [
    {
     "name": "stdout",
     "output_type": "stream",
     "text": [
      "Our first experiment attempted to answer whether genes in a disease-relevant LV could represent potential therapeutic targets. For this, the first step was to obtain a set of genes strongly associated with a phenotype of interest. Therefore, we performed a fluorescence-based CRISPR-Cas9 in the HepG2 cell line and identified 462 genes associated with lipid regulation ([Methods](#sec:methods:crispr)). From these, we selected two high-confidence gene sets that either caused a decrease or increase of lipids: a lipids-decreasing gene-set with eight genes: *BLCAP*, *FBXW7*, *INSIG2*, *PCYT2*, *PTEN*, *SOX9*, *TCF7L2*, *UBE2J2*; and a lipids-increasing gene-set with six genes: *ACACA*, *DGAT2*, *HILPDA*, *MBTPS1*, *SCAP*, *SRPR* (Supplementary Data 2).\n"
     ]
    }
   ],
   "source": [
    "par0 = process_paragraph(orig_section_paragraphs[1])\n",
    "print(par0)"
   ]
  },
  {
   "cell_type": "code",
   "execution_count": 93,
   "id": "32772f6b-8069-41a0-9072-0432702fb161",
   "metadata": {
    "papermill": {
     "duration": 0.029092,
     "end_time": "2024-03-20T21:35:15.301609",
     "exception": false,
     "start_time": "2024-03-20T21:35:15.272517",
     "status": "completed"
    },
    "tags": []
   },
   "outputs": [
    {
     "name": "stdout",
     "output_type": "stream",
     "text": [
      "In our first experiment, we aimed to determine if genes in a disease-relevant LV could serve as potential therapeutic targets. To do this, we utilized a fluorescence-based CRISPR-Cas9 approach in the HepG2 cell line, identifying 462 genes associated with lipid regulation. From this pool, we selected two high-confidence gene sets: one that led to a decrease in lipids, consisting of eight genes (*BLCAP*, *FBXW7*, *INSIG2*, *PCYT2*, *PTEN*, *SOX9*, *TCF7L2*, *UBE2J2*), and another that caused an increase in lipids, comprised of six genes (*ACACA*, *DGAT2*, *HILPDA*, *MBTPS1*, *SCAP*, *SRPR*) (Supplementary Data 2). This selection process is detailed in the Methods section.\n"
     ]
    }
   ],
   "source": [
    "par1 = process_paragraph(mod_section_paragraphs[1])\n",
    "print(par1)"
   ]
  },
  {
   "cell_type": "code",
   "execution_count": 94,
   "id": "67a18206-8bba-4275-9193-a022e472b46f",
   "metadata": {
    "papermill": {
     "duration": 0.030764,
     "end_time": "2024-03-20T21:35:15.536864",
     "exception": false,
     "start_time": "2024-03-20T21:35:15.506100",
     "status": "completed"
    },
    "tags": []
   },
   "outputs": [],
   "source": [
    "paragraph_matches.append(\n",
    "    (\n",
    "        section_name,\n",
    "        par0,\n",
    "        par1,\n",
    "    )\n",
    ")"
   ]
  },
  {
   "cell_type": "code",
   "execution_count": 95,
   "id": "7a3fb2fb-4dfb-459f-9ed4-23965cc24de8",
   "metadata": {
    "papermill": {
     "duration": 0.029435,
     "end_time": "2024-03-20T21:35:15.590843",
     "exception": false,
     "start_time": "2024-03-20T21:35:15.561408",
     "status": "completed"
    },
    "tags": []
   },
   "outputs": [
    {
     "data": {
      "text/plain": [
       "('results',\n",
       " 'Our first experiment attempted to answer whether genes in a disease-relevant LV could represent potential therapeutic targets. For this, the first step was to obtain a set of genes strongly associated with a phenotype of interest. Therefore, we performed a fluorescence-based CRISPR-Cas9 in the HepG2 cell line and identified 462 genes associated with lipid regulation ([Methods](#sec:methods:crispr)). From these, we selected two high-confidence gene sets that either caused a decrease or increase of lipids: a lipids-decreasing gene-set with eight genes: *BLCAP*, *FBXW7*, *INSIG2*, *PCYT2*, *PTEN*, *SOX9*, *TCF7L2*, *UBE2J2*; and a lipids-increasing gene-set with six genes: *ACACA*, *DGAT2*, *HILPDA*, *MBTPS1*, *SCAP*, *SRPR* (Supplementary Data 2).',\n",
       " 'In our first experiment, we aimed to determine if genes in a disease-relevant LV could serve as potential therapeutic targets. To do this, we utilized a fluorescence-based CRISPR-Cas9 approach in the HepG2 cell line, identifying 462 genes associated with lipid regulation. From this pool, we selected two high-confidence gene sets: one that led to a decrease in lipids, consisting of eight genes (*BLCAP*, *FBXW7*, *INSIG2*, *PCYT2*, *PTEN*, *SOX9*, *TCF7L2*, *UBE2J2*), and another that caused an increase in lipids, comprised of six genes (*ACACA*, *DGAT2*, *HILPDA*, *MBTPS1*, *SCAP*, *SRPR*) (Supplementary Data 2). This selection process is detailed in the Methods section.')"
      ]
     },
     "metadata": {},
     "output_type": "display_data"
    }
   ],
   "source": [
    "display(paragraph_matches[-1])"
   ]
  },
  {
   "cell_type": "markdown",
   "id": "92c072d8-db1e-4eac-8cca-a93acf97b5d6",
   "metadata": {
    "editable": true,
    "papermill": {
     "duration": 0.023359,
     "end_time": "2024-03-20T21:35:15.196474",
     "exception": false,
     "start_time": "2024-03-20T21:35:15.173115",
     "status": "completed"
    },
    "slideshow": {
     "slide_type": ""
    },
    "tags": []
   },
   "source": [
    "####  Paragraph 01"
   ]
  },
  {
   "cell_type": "code",
   "execution_count": 97,
   "id": "bdc7f406-e842-4814-a45a-c9ef928ecca6",
   "metadata": {
    "papermill": {
     "duration": 0.027843,
     "end_time": "2024-03-20T21:35:15.248846",
     "exception": false,
     "start_time": "2024-03-20T21:35:15.221003",
     "status": "completed"
    },
    "tags": []
   },
   "outputs": [
    {
     "name": "stdout",
     "output_type": "stream",
     "text": [
      "Next, we analyzed all 987 LVs using Fast Gene Set Enrichment Analysis (FGSEA) [@doi:10.1101/060012], and found 15 LVs nominally enriched (unadjusted *P* < 0.01) with these lipid-altering gene-sets (Tables @tbl:sup:lipids_crispr:modules_enriched_increase and @tbl:sup:lipids_crispr:modules_enriched_decrease). Among those with reliable sample metadata, LV246, the top LV associated with the lipids-increasing gene-set, contained genes mainly co-expressed in adipose tissue (Figure {@fig:lv246}a), which plays a key role in coordinating and regulating lipid metabolism. Using our regression framework across all traits in PhenomeXcan, we found that gene weights for this LV were predictive of gene associations for plasma lipids, high cholesterol, and Alzheimer's disease (Table @tbl:sup:phenomexcan_assocs:lv246, FDR < 1e-23). These lipids-related associations also replicated across the 309 traits in eMERGE (Table @tbl:sup:emerge_assocs:lv246), where LV246 was significantly associated with hypercholesterolemia (phecode: 272.11, FDR < 4e-9), hyperlipidemia (phecode: 272.1, FDR < 4e-7) and disorders of lipoid metabolism (phecode: 272, FDR < 4e-7).\n"
     ]
    }
   ],
   "source": [
    "par0 = process_paragraph(orig_section_paragraphs[3])\n",
    "print(par0)"
   ]
  },
  {
   "cell_type": "code",
   "execution_count": 98,
   "id": "864d079f-7771-4d70-8bee-0bf8505f3c5e",
   "metadata": {
    "papermill": {
     "duration": 0.029092,
     "end_time": "2024-03-20T21:35:15.301609",
     "exception": false,
     "start_time": "2024-03-20T21:35:15.272517",
     "status": "completed"
    },
    "tags": []
   },
   "outputs": [
    {
     "name": "stdout",
     "output_type": "stream",
     "text": [
      "We analyzed 987 Latent Variables (LVs) using Fast Gene Set Enrichment Analysis (FGSEA), identifying 15 LVs enriched with lipid-altering gene sets at a nominal significance level (P < 0.01). Among these, LV246 stood out as the top LV associated with genes co-expressed in adipose tissue, crucial for lipid metabolism regulation. Regression analysis in PhenomeXcan revealed that gene weights in LV246 were predictive of gene associations for plasma lipids, high cholesterol, and Alzheimer's disease. These associations were replicated across 309 traits in eMERGE, where LV246 showed significant links to hypercholesterolemia, hyperlipidemia, and disorders of lipoid metabolism.\n"
     ]
    }
   ],
   "source": [
    "par1 = process_paragraph(mod_section_paragraphs[3])\n",
    "print(par1)"
   ]
  },
  {
   "cell_type": "code",
   "execution_count": 99,
   "id": "65e572c2-987f-491d-8852-0b712b8609fd",
   "metadata": {
    "papermill": {
     "duration": 0.030764,
     "end_time": "2024-03-20T21:35:15.536864",
     "exception": false,
     "start_time": "2024-03-20T21:35:15.506100",
     "status": "completed"
    },
    "tags": []
   },
   "outputs": [],
   "source": [
    "paragraph_matches.append(\n",
    "    (\n",
    "        section_name,\n",
    "        par0,\n",
    "        par1,\n",
    "    )\n",
    ")"
   ]
  },
  {
   "cell_type": "code",
   "execution_count": 100,
   "id": "ffc2677b-b7aa-4cf0-bbb8-44852ff31a8b",
   "metadata": {
    "papermill": {
     "duration": 0.029435,
     "end_time": "2024-03-20T21:35:15.590843",
     "exception": false,
     "start_time": "2024-03-20T21:35:15.561408",
     "status": "completed"
    },
    "tags": []
   },
   "outputs": [
    {
     "data": {
      "text/plain": [
       "('results',\n",
       " \"Next, we analyzed all 987 LVs using Fast Gene Set Enrichment Analysis (FGSEA) [@doi:10.1101/060012], and found 15 LVs nominally enriched (unadjusted *P* < 0.01) with these lipid-altering gene-sets (Tables @tbl:sup:lipids_crispr:modules_enriched_increase and @tbl:sup:lipids_crispr:modules_enriched_decrease). Among those with reliable sample metadata, LV246, the top LV associated with the lipids-increasing gene-set, contained genes mainly co-expressed in adipose tissue (Figure {@fig:lv246}a), which plays a key role in coordinating and regulating lipid metabolism. Using our regression framework across all traits in PhenomeXcan, we found that gene weights for this LV were predictive of gene associations for plasma lipids, high cholesterol, and Alzheimer's disease (Table @tbl:sup:phenomexcan_assocs:lv246, FDR < 1e-23). These lipids-related associations also replicated across the 309 traits in eMERGE (Table @tbl:sup:emerge_assocs:lv246), where LV246 was significantly associated with hypercholesterolemia (phecode: 272.11, FDR < 4e-9), hyperlipidemia (phecode: 272.1, FDR < 4e-7) and disorders of lipoid metabolism (phecode: 272, FDR < 4e-7).\",\n",
       " \"We analyzed 987 Latent Variables (LVs) using Fast Gene Set Enrichment Analysis (FGSEA), identifying 15 LVs enriched with lipid-altering gene sets at a nominal significance level (P < 0.01). Among these, LV246 stood out as the top LV associated with genes co-expressed in adipose tissue, crucial for lipid metabolism regulation. Regression analysis in PhenomeXcan revealed that gene weights in LV246 were predictive of gene associations for plasma lipids, high cholesterol, and Alzheimer's disease. These associations were replicated across 309 traits in eMERGE, where LV246 showed significant links to hypercholesterolemia, hyperlipidemia, and disorders of lipoid metabolism.\")"
      ]
     },
     "metadata": {},
     "output_type": "display_data"
    }
   ],
   "source": [
    "display(paragraph_matches[-1])"
   ]
  },
  {
   "cell_type": "markdown",
   "id": "f506199b-4ce2-4629-85da-05d5859a6873",
   "metadata": {
    "editable": true,
    "papermill": {
     "duration": 0.023359,
     "end_time": "2024-03-20T21:35:15.196474",
     "exception": false,
     "start_time": "2024-03-20T21:35:15.173115",
     "status": "completed"
    },
    "slideshow": {
     "slide_type": ""
    },
    "tags": []
   },
   "source": [
    "####  Paragraph 02"
   ]
  },
  {
   "cell_type": "code",
   "execution_count": 101,
   "id": "2b0271f7-d02d-417d-bc1b-29269470df8c",
   "metadata": {
    "papermill": {
     "duration": 0.027843,
     "end_time": "2024-03-20T21:35:15.248846",
     "exception": false,
     "start_time": "2024-03-20T21:35:15.221003",
     "status": "completed"
    },
    "tags": []
   },
   "outputs": [
    {
     "name": "stdout",
     "output_type": "stream",
     "text": [
      "Two high-confidence genes from our CRISPR screening, *DGAT2* and *ACACA*, are responsible for encoding enzymes for triglycerides and fatty acid synthesis and were among the highest-weighted genes of LV246 (Figure {@fig:lv246}b, in boldface). However, in contrast to other members of LV246, *DGAT2* and *ACACA* were not associated nor colocalized with any of the cardiovascular-related traits and thus would not have been prioritized by TWAS alone; instead, other members of LV246, such as *SCD*, *LPL*, *FADS2*, *HMGCR*, and *LDLR*, were significantly associated and colocalized with lipid-related traits. This lack of association of two high-confidence genes from our CRISPR screen might be explained from an omnigenic point of view [@doi:10.1016/j.cell.2019.04.014]. Assuming that the TWAS models for *DGAT2* and *ACACA* capture all common *cis*-eQTLs (the only genetic component of gene expression that TWAS can capture) and there are no rare *cis*-eQTLs, these two genes might represent \"core\" genes (i.e., they directly affect the trait with no mediated regulation of other genes), and many of the rest in the LV are \"peripheral\" genes that *trans*-regulate them.\n"
     ]
    }
   ],
   "source": [
    "par0 = process_paragraph(orig_section_paragraphs[4])\n",
    "print(par0)"
   ]
  },
  {
   "cell_type": "code",
   "execution_count": 102,
   "id": "565d1a13-2d2c-4bba-b463-169c36402b2c",
   "metadata": {
    "papermill": {
     "duration": 0.029092,
     "end_time": "2024-03-20T21:35:15.301609",
     "exception": false,
     "start_time": "2024-03-20T21:35:15.272517",
     "status": "completed"
    },
    "tags": []
   },
   "outputs": [
    {
     "name": "stdout",
     "output_type": "stream",
     "text": [
      "Two high-confidence genes identified in our CRISPR screening, DGAT2 and ACACA, encode enzymes for triglycerides and fatty acid synthesis and were among the highest-weighted genes of LV246 (Figure 2b). However, unlike other genes in LV246, DGAT2 and ACACA were not associated with any cardiovascular-related traits. Instead, genes like SCD, LPL, FADS2, HMGCR, and LDLR in LV246 showed significant associations with lipid-related traits. This lack of association for DGAT2 and ACACA may be explained by the omnigenic theory. If the TWAS models for DGAT2 and ACACA capture all common cis-eQTLs and there are no rare cis-eQTLs, these genes may be considered \"core\" genes directly affecting the trait without regulation from other genes, while the other genes in LV246 may be \"peripheral\" genes that regulate them.\n"
     ]
    }
   ],
   "source": [
    "par1 = process_paragraph(mod_section_paragraphs[4])\n",
    "print(par1)"
   ]
  },
  {
   "cell_type": "code",
   "execution_count": 103,
   "id": "625f779d-c571-4a1e-83f4-65e104f564a6",
   "metadata": {
    "papermill": {
     "duration": 0.030764,
     "end_time": "2024-03-20T21:35:15.536864",
     "exception": false,
     "start_time": "2024-03-20T21:35:15.506100",
     "status": "completed"
    },
    "tags": []
   },
   "outputs": [],
   "source": [
    "paragraph_matches.append(\n",
    "    (\n",
    "        section_name,\n",
    "        par0,\n",
    "        par1,\n",
    "    )\n",
    ")"
   ]
  },
  {
   "cell_type": "code",
   "execution_count": 104,
   "id": "e5323cd9-0170-415b-b4b7-ee5d74ec9186",
   "metadata": {
    "papermill": {
     "duration": 0.029435,
     "end_time": "2024-03-20T21:35:15.590843",
     "exception": false,
     "start_time": "2024-03-20T21:35:15.561408",
     "status": "completed"
    },
    "tags": []
   },
   "outputs": [
    {
     "data": {
      "text/plain": [
       "('results',\n",
       " 'Two high-confidence genes from our CRISPR screening, *DGAT2* and *ACACA*, are responsible for encoding enzymes for triglycerides and fatty acid synthesis and were among the highest-weighted genes of LV246 (Figure {@fig:lv246}b, in boldface). However, in contrast to other members of LV246, *DGAT2* and *ACACA* were not associated nor colocalized with any of the cardiovascular-related traits and thus would not have been prioritized by TWAS alone; instead, other members of LV246, such as *SCD*, *LPL*, *FADS2*, *HMGCR*, and *LDLR*, were significantly associated and colocalized with lipid-related traits. This lack of association of two high-confidence genes from our CRISPR screen might be explained from an omnigenic point of view [@doi:10.1016/j.cell.2019.04.014]. Assuming that the TWAS models for *DGAT2* and *ACACA* capture all common *cis*-eQTLs (the only genetic component of gene expression that TWAS can capture) and there are no rare *cis*-eQTLs, these two genes might represent \"core\" genes (i.e., they directly affect the trait with no mediated regulation of other genes), and many of the rest in the LV are \"peripheral\" genes that *trans*-regulate them.',\n",
       " 'Two high-confidence genes identified in our CRISPR screening, DGAT2 and ACACA, encode enzymes for triglycerides and fatty acid synthesis and were among the highest-weighted genes of LV246 (Figure 2b). However, unlike other genes in LV246, DGAT2 and ACACA were not associated with any cardiovascular-related traits. Instead, genes like SCD, LPL, FADS2, HMGCR, and LDLR in LV246 showed significant associations with lipid-related traits. This lack of association for DGAT2 and ACACA may be explained by the omnigenic theory. If the TWAS models for DGAT2 and ACACA capture all common cis-eQTLs and there are no rare cis-eQTLs, these genes may be considered \"core\" genes directly affecting the trait without regulation from other genes, while the other genes in LV246 may be \"peripheral\" genes that regulate them.')"
      ]
     },
     "metadata": {},
     "output_type": "display_data"
    }
   ],
   "source": [
    "display(paragraph_matches[-1])"
   ]
  },
  {
   "cell_type": "markdown",
   "id": "308f8306-efdd-4013-84cb-6daf1aa50312",
   "metadata": {
    "editable": true,
    "papermill": {
     "duration": 0.023012,
     "end_time": "2024-03-20T21:35:14.131877",
     "exception": false,
     "start_time": "2024-03-20T21:35:14.108865",
     "status": "completed"
    },
    "slideshow": {
     "slide_type": ""
    },
    "tags": []
   },
   "source": [
    "## Results (drug-disease prediction)"
   ]
  },
  {
   "cell_type": "code",
   "execution_count": 105,
   "id": "e4c9687d-e390-48a3-a48c-4b56657550dd",
   "metadata": {
    "papermill": {
     "duration": 0.026147,
     "end_time": "2024-03-20T21:35:14.181101",
     "exception": false,
     "start_time": "2024-03-20T21:35:14.154954",
     "status": "completed"
    },
    "tags": []
   },
   "outputs": [],
   "source": [
    "# section_name = \"results\""
   ]
  },
  {
   "cell_type": "code",
   "execution_count": 106,
   "id": "ba622642-b861-49bc-95cc-bbaff2b8b718",
   "metadata": {
    "editable": true,
    "papermill": {
     "duration": 0.026937,
     "end_time": "2024-03-20T21:35:14.231009",
     "exception": false,
     "start_time": "2024-03-20T21:35:14.204072",
     "status": "completed"
    },
    "slideshow": {
     "slide_type": ""
    },
    "tags": []
   },
   "outputs": [
    {
     "name": "stdout",
     "output_type": "stream",
     "text": [
      "content/04.15.results_drug_disease_prediction.md\n"
     ]
    }
   ],
   "source": [
    "pr_filename = pr_files[4].filename\n",
    "assert section_name in pr_filename\n",
    "assert \"drug_disease\" in pr_filename\n",
    "print(pr_filename)"
   ]
  },
  {
   "cell_type": "markdown",
   "id": "b1cc1ae3-9065-4bdb-b40c-acb24e1bad91",
   "metadata": {
    "editable": true,
    "papermill": {
     "duration": 0.023153,
     "end_time": "2024-03-20T21:35:14.277357",
     "exception": false,
     "start_time": "2024-03-20T21:35:14.254204",
     "status": "completed"
    },
    "slideshow": {
     "slide_type": ""
    },
    "tags": []
   },
   "source": [
    "### Original"
   ]
  },
  {
   "cell_type": "code",
   "execution_count": 107,
   "id": "c30246b0-bb77-41f0-9fb9-c80af37dee2d",
   "metadata": {
    "papermill": {
     "duration": 0.208012,
     "end_time": "2024-03-20T21:35:14.508739",
     "exception": false,
     "start_time": "2024-03-20T21:35:14.300727",
     "status": "completed"
    },
    "tags": []
   },
   "outputs": [
    {
     "name": "stdout",
     "output_type": "stream",
     "text": [
      "### LVs predict drug-disease pairs better than sin\n"
     ]
    }
   ],
   "source": [
    "# get content\n",
    "orig_section_content = repo.get_contents(pr_filename, pr_prev).decoded_content.decode(\n",
    "    \"utf-8\"\n",
    ")\n",
    "print(orig_section_content[:50])"
   ]
  },
  {
   "cell_type": "code",
   "execution_count": 108,
   "id": "3c1beafd-4ade-4be5-8809-4a2dc5dae3ad",
   "metadata": {
    "papermill": {
     "duration": 0.039416,
     "end_time": "2024-03-20T21:35:14.582427",
     "exception": false,
     "start_time": "2024-03-20T21:35:14.543011",
     "status": "completed"
    },
    "tags": []
   },
   "outputs": [
    {
     "data": {
      "text/plain": [
       "11"
      ]
     },
     "metadata": {},
     "output_type": "display_data"
    }
   ],
   "source": [
    "# split by paragraph\n",
    "orig_section_paragraphs = orig_section_content.split(\"\\n\\n\")\n",
    "display(len(orig_section_paragraphs))"
   ]
  },
  {
   "cell_type": "markdown",
   "id": "c1a3399e-e810-4f19-a064-9c409b6f5d97",
   "metadata": {
    "editable": true,
    "papermill": {
     "duration": 0.022979,
     "end_time": "2024-03-20T21:35:14.634392",
     "exception": false,
     "start_time": "2024-03-20T21:35:14.611413",
     "status": "completed"
    },
    "slideshow": {
     "slide_type": ""
    },
    "tags": []
   },
   "source": [
    "### Modified"
   ]
  },
  {
   "cell_type": "code",
   "execution_count": 109,
   "id": "e66eb8e2-969c-4bdf-a34c-691b3bf8b898",
   "metadata": {
    "papermill": {
     "duration": 0.258786,
     "end_time": "2024-03-20T21:35:14.916319",
     "exception": false,
     "start_time": "2024-03-20T21:35:14.657533",
     "status": "completed"
    },
    "tags": []
   },
   "outputs": [
    {
     "name": "stdout",
     "output_type": "stream",
     "text": [
      "### LVs predict drug-disease pairs better than sin\n"
     ]
    }
   ],
   "source": [
    "# get content\n",
    "mod_section_content = repo.get_contents(pr_filename, pr_curr).decoded_content.decode(\n",
    "    \"utf-8\"\n",
    ")\n",
    "print(mod_section_content[:50])"
   ]
  },
  {
   "cell_type": "code",
   "execution_count": 110,
   "id": "0ac03f26-32a4-41e5-b5e4-8942ff1fc6e4",
   "metadata": {
    "papermill": {
     "duration": 0.039656,
     "end_time": "2024-03-20T21:35:14.991047",
     "exception": false,
     "start_time": "2024-03-20T21:35:14.951391",
     "status": "completed"
    },
    "tags": []
   },
   "outputs": [
    {
     "data": {
      "text/plain": [
       "11"
      ]
     },
     "metadata": {},
     "output_type": "display_data"
    }
   ],
   "source": [
    "# split by paragraph\n",
    "mod_section_paragraphs = mod_section_content.split(\"\\n\\n\")\n",
    "display(len(mod_section_paragraphs))"
   ]
  },
  {
   "cell_type": "markdown",
   "id": "6757d536-0a6b-48c7-a2fe-b5b2d9bd8a58",
   "metadata": {
    "editable": true,
    "papermill": {
     "duration": 0.023577,
     "end_time": "2024-03-20T21:35:15.043430",
     "exception": false,
     "start_time": "2024-03-20T21:35:15.019853",
     "status": "completed"
    },
    "slideshow": {
     "slide_type": ""
    },
    "tags": []
   },
   "source": [
    "### Match"
   ]
  },
  {
   "cell_type": "code",
   "execution_count": 111,
   "id": "b9833e8b-3935-4094-a565-c879df999dc4",
   "metadata": {
    "papermill": {
     "duration": 0.028045,
     "end_time": "2024-03-20T21:35:15.096738",
     "exception": false,
     "start_time": "2024-03-20T21:35:15.068693",
     "status": "completed"
    },
    "tags": []
   },
   "outputs": [
    {
     "data": {
      "text/plain": [
       "'### LVs predict drug-disease pairs better than single genes'"
      ]
     },
     "execution_count": 111,
     "metadata": {},
     "output_type": "execute_result"
    }
   ],
   "source": [
    "orig_section_paragraphs[0]"
   ]
  },
  {
   "cell_type": "code",
   "execution_count": 112,
   "id": "3f01ec37-06e3-405c-8390-66a7e9a64411",
   "metadata": {
    "papermill": {
     "duration": 0.028951,
     "end_time": "2024-03-20T21:35:15.149446",
     "exception": false,
     "start_time": "2024-03-20T21:35:15.120495",
     "status": "completed"
    },
    "tags": []
   },
   "outputs": [
    {
     "data": {
      "text/plain": [
       "'### LVs predict drug-disease pairs better than single genes'"
      ]
     },
     "execution_count": 112,
     "metadata": {},
     "output_type": "execute_result"
    }
   ],
   "source": [
    "mod_section_paragraphs[0]"
   ]
  },
  {
   "cell_type": "markdown",
   "id": "fc4a1234-e7cd-4e05-a661-9c5cfea47529",
   "metadata": {
    "editable": true,
    "papermill": {
     "duration": 0.023359,
     "end_time": "2024-03-20T21:35:15.196474",
     "exception": false,
     "start_time": "2024-03-20T21:35:15.173115",
     "status": "completed"
    },
    "slideshow": {
     "slide_type": ""
    },
    "tags": []
   },
   "source": [
    "####  Paragraph 00"
   ]
  },
  {
   "cell_type": "code",
   "execution_count": 113,
   "id": "e4ff6017-b6ea-4220-8b73-970e460728d8",
   "metadata": {
    "papermill": {
     "duration": 0.027843,
     "end_time": "2024-03-20T21:35:15.248846",
     "exception": false,
     "start_time": "2024-03-20T21:35:15.221003",
     "status": "completed"
    },
    "tags": []
   },
   "outputs": [
    {
     "name": "stdout",
     "output_type": "stream",
     "text": [
      "We next determined how substituting LVs for individual genes predicted known treatment-disease relationships. For this, we used the transcriptional responses to small molecule perturbations profiled in LINCS L1000 [@doi:10.1016/j.cell.2017.10.049], which were further processed and mapped to DrugBank IDs [@doi:10.1093/nar/gkt1068; @doi:10.7554/eLife.26726; @doi:10.5281/zenodo.47223]. Based on an established drug repurposing strategy that matches reversed transcriptome patterns between genes and drug-induced perturbations [@doi:10.1126/scitranslmed.3002648; @doi:10.1126/scitranslmed.3001318], we adopted a previously described framework that uses imputed transcriptomes from TWAS to prioritize drug candidates [@doi:10.1038/nn.4618]. For this, we computed a drug-disease score by calculating the negative dot product between the $z$-scores for a disease (from TWAS) and the $z$-scores for a drug (from LINCS) across sets of genes of different sizes (see [Methods](#sec:methods:drug)). Therefore, a large score for a drug-disease pair indicated that higher (lower) predicted expression values of disease-associated genes are down (up)-regulated by the drug, thus predicting a potential treatment. Similarly, for the LV-based approach, we estimated how pharmacological perturbations affected the gene module activity by projecting expression profiles of drugs into our latent representation (Figure {@fig:entire_process}b). We used a manually-curated gold standard set of drug-disease medical indications [@doi:10.7554/eLife.26726; @doi:10.5281/zenodo.47664] for 322 drugs across 53 diseases to evaluate the prediction performance.\n"
     ]
    }
   ],
   "source": [
    "par0 = process_paragraph(orig_section_paragraphs[1])\n",
    "print(par0)"
   ]
  },
  {
   "cell_type": "code",
   "execution_count": 114,
   "id": "0a61ffb4-498a-429d-822e-b243769c886e",
   "metadata": {
    "papermill": {
     "duration": 0.029092,
     "end_time": "2024-03-20T21:35:15.301609",
     "exception": false,
     "start_time": "2024-03-20T21:35:15.272517",
     "status": "completed"
    },
    "tags": []
   },
   "outputs": [
    {
     "name": "stdout",
     "output_type": "stream",
     "text": [
      "We assessed the ability of substituting latent variables (LVs) for individual genes to predict established treatment-disease relationships by analyzing the transcriptional responses to small molecule perturbations from LINCS L1000. These responses were processed and linked to DrugBank IDs. By applying a drug repurposing strategy that matches reversed transcriptome patterns between genes and drug-induced perturbations, we utilized imputed transcriptomes from TWAS to prioritize drug candidates. A drug-disease score was computed by comparing the $z$-scores for a disease (from TWAS) and a drug (from LINCS) across different gene sets. A high score for a drug-disease pair indicated potential treatment efficacy based on the drug's regulation of disease-associated gene expression. Additionally, we projected drug expression profiles into our latent representation to estimate the impact of pharmacological perturbations on gene module activity. The prediction performance was evaluated using a curated set of drug-disease medical indications for 322 drugs and 53 diseases.\n"
     ]
    }
   ],
   "source": [
    "par1 = process_paragraph(mod_section_paragraphs[1])\n",
    "print(par1)"
   ]
  },
  {
   "cell_type": "code",
   "execution_count": 115,
   "id": "12f885bd-ed80-4b99-8e71-b2f180b87df5",
   "metadata": {
    "papermill": {
     "duration": 0.030764,
     "end_time": "2024-03-20T21:35:15.536864",
     "exception": false,
     "start_time": "2024-03-20T21:35:15.506100",
     "status": "completed"
    },
    "tags": []
   },
   "outputs": [],
   "source": [
    "paragraph_matches.append(\n",
    "    (\n",
    "        section_name,\n",
    "        par0,\n",
    "        par1,\n",
    "    )\n",
    ")"
   ]
  },
  {
   "cell_type": "code",
   "execution_count": 116,
   "id": "391d7ee5-32ca-4335-adac-c29973383f74",
   "metadata": {
    "papermill": {
     "duration": 0.029435,
     "end_time": "2024-03-20T21:35:15.590843",
     "exception": false,
     "start_time": "2024-03-20T21:35:15.561408",
     "status": "completed"
    },
    "scrolled": true,
    "tags": []
   },
   "outputs": [
    {
     "data": {
      "text/plain": [
       "('results',\n",
       " 'We next determined how substituting LVs for individual genes predicted known treatment-disease relationships. For this, we used the transcriptional responses to small molecule perturbations profiled in LINCS L1000 [@doi:10.1016/j.cell.2017.10.049], which were further processed and mapped to DrugBank IDs [@doi:10.1093/nar/gkt1068; @doi:10.7554/eLife.26726; @doi:10.5281/zenodo.47223]. Based on an established drug repurposing strategy that matches reversed transcriptome patterns between genes and drug-induced perturbations [@doi:10.1126/scitranslmed.3002648; @doi:10.1126/scitranslmed.3001318], we adopted a previously described framework that uses imputed transcriptomes from TWAS to prioritize drug candidates [@doi:10.1038/nn.4618]. For this, we computed a drug-disease score by calculating the negative dot product between the $z$-scores for a disease (from TWAS) and the $z$-scores for a drug (from LINCS) across sets of genes of different sizes (see [Methods](#sec:methods:drug)). Therefore, a large score for a drug-disease pair indicated that higher (lower) predicted expression values of disease-associated genes are down (up)-regulated by the drug, thus predicting a potential treatment. Similarly, for the LV-based approach, we estimated how pharmacological perturbations affected the gene module activity by projecting expression profiles of drugs into our latent representation (Figure {@fig:entire_process}b). We used a manually-curated gold standard set of drug-disease medical indications [@doi:10.7554/eLife.26726; @doi:10.5281/zenodo.47664] for 322 drugs across 53 diseases to evaluate the prediction performance.',\n",
       " \"We assessed the ability of substituting latent variables (LVs) for individual genes to predict established treatment-disease relationships by analyzing the transcriptional responses to small molecule perturbations from LINCS L1000. These responses were processed and linked to DrugBank IDs. By applying a drug repurposing strategy that matches reversed transcriptome patterns between genes and drug-induced perturbations, we utilized imputed transcriptomes from TWAS to prioritize drug candidates. A drug-disease score was computed by comparing the $z$-scores for a disease (from TWAS) and a drug (from LINCS) across different gene sets. A high score for a drug-disease pair indicated potential treatment efficacy based on the drug's regulation of disease-associated gene expression. Additionally, we projected drug expression profiles into our latent representation to estimate the impact of pharmacological perturbations on gene module activity. The prediction performance was evaluated using a curated set of drug-disease medical indications for 322 drugs and 53 diseases.\")"
      ]
     },
     "metadata": {},
     "output_type": "display_data"
    }
   ],
   "source": [
    "display(paragraph_matches[-1])"
   ]
  },
  {
   "cell_type": "markdown",
   "id": "6c436971-552e-47a8-bccd-8ac687b2d461",
   "metadata": {
    "editable": true,
    "papermill": {
     "duration": 0.023359,
     "end_time": "2024-03-20T21:35:15.196474",
     "exception": false,
     "start_time": "2024-03-20T21:35:15.173115",
     "status": "completed"
    },
    "slideshow": {
     "slide_type": ""
    },
    "tags": []
   },
   "source": [
    "####  Paragraph 01"
   ]
  },
  {
   "cell_type": "code",
   "execution_count": 117,
   "id": "aed94a44-ae85-4005-9cc3-cc478d8a4546",
   "metadata": {
    "papermill": {
     "duration": 0.027843,
     "end_time": "2024-03-20T21:35:15.248846",
     "exception": false,
     "start_time": "2024-03-20T21:35:15.221003",
     "status": "completed"
    },
    "tags": []
   },
   "outputs": [
    {
     "name": "stdout",
     "output_type": "stream",
     "text": [
      "It is important to note that the gene-trait associations and drug-induced expression profiles projected into the latent space represent a compressed version of the entire set of results. Despite this information loss, the LV-based method outperformed the gene-based one with an area under the curve of 0.632 and an average precision of 0.858 (Figure @fig:drug_disease:roc_pr). The prediction results suggested that this low-dimensional space captures biologically meaningful patterns that can link pathophysiological processes with the mechanism of action of drugs.\n"
     ]
    }
   ],
   "source": [
    "par0 = process_paragraph(orig_section_paragraphs[3])\n",
    "print(par0)"
   ]
  },
  {
   "cell_type": "code",
   "execution_count": 118,
   "id": "43edaf0a-9205-4e0a-9aa4-6c7a33090c70",
   "metadata": {
    "papermill": {
     "duration": 0.029092,
     "end_time": "2024-03-20T21:35:15.301609",
     "exception": false,
     "start_time": "2024-03-20T21:35:15.272517",
     "status": "completed"
    },
    "tags": []
   },
   "outputs": [
    {
     "name": "stdout",
     "output_type": "stream",
     "text": [
      "It is important to note that the gene-trait associations and drug-induced expression profiles projected into the latent space represent a condensed summary of the results. Despite this simplification, the LV-based method performed better than the gene-based method, with an area under the curve of 0.632 and an average precision of 0.858 (Figure 1). The prediction results indicated that this reduced-dimensional space captures meaningful biological patterns that connect pathophysiological processes with drug mechanisms.\n"
     ]
    }
   ],
   "source": [
    "par1 = process_paragraph(mod_section_paragraphs[3])\n",
    "print(par1)"
   ]
  },
  {
   "cell_type": "code",
   "execution_count": 119,
   "id": "fca0e576-604e-47bb-be78-5a980a47e630",
   "metadata": {
    "papermill": {
     "duration": 0.030764,
     "end_time": "2024-03-20T21:35:15.536864",
     "exception": false,
     "start_time": "2024-03-20T21:35:15.506100",
     "status": "completed"
    },
    "tags": []
   },
   "outputs": [],
   "source": [
    "paragraph_matches.append(\n",
    "    (\n",
    "        section_name,\n",
    "        par0,\n",
    "        par1,\n",
    "    )\n",
    ")"
   ]
  },
  {
   "cell_type": "code",
   "execution_count": 120,
   "id": "0b1888fc-066f-4454-bd56-073afa2513ed",
   "metadata": {
    "papermill": {
     "duration": 0.029435,
     "end_time": "2024-03-20T21:35:15.590843",
     "exception": false,
     "start_time": "2024-03-20T21:35:15.561408",
     "status": "completed"
    },
    "tags": []
   },
   "outputs": [
    {
     "data": {
      "text/plain": [
       "('results',\n",
       " 'It is important to note that the gene-trait associations and drug-induced expression profiles projected into the latent space represent a compressed version of the entire set of results. Despite this information loss, the LV-based method outperformed the gene-based one with an area under the curve of 0.632 and an average precision of 0.858 (Figure @fig:drug_disease:roc_pr). The prediction results suggested that this low-dimensional space captures biologically meaningful patterns that can link pathophysiological processes with the mechanism of action of drugs.',\n",
       " 'It is important to note that the gene-trait associations and drug-induced expression profiles projected into the latent space represent a condensed summary of the results. Despite this simplification, the LV-based method performed better than the gene-based method, with an area under the curve of 0.632 and an average precision of 0.858 (Figure 1). The prediction results indicated that this reduced-dimensional space captures meaningful biological patterns that connect pathophysiological processes with drug mechanisms.')"
      ]
     },
     "metadata": {},
     "output_type": "display_data"
    }
   ],
   "source": [
    "display(paragraph_matches[-1])"
   ]
  },
  {
   "cell_type": "markdown",
   "id": "0950c493-60c8-4235-8395-37acebbe6925",
   "metadata": {
    "editable": true,
    "papermill": {
     "duration": 0.023359,
     "end_time": "2024-03-20T21:35:15.196474",
     "exception": false,
     "start_time": "2024-03-20T21:35:15.173115",
     "status": "completed"
    },
    "slideshow": {
     "slide_type": ""
    },
    "tags": []
   },
   "source": [
    "####  Paragraph 02"
   ]
  },
  {
   "cell_type": "code",
   "execution_count": 121,
   "id": "be17fc65-d23e-4bb2-8389-1739723059e0",
   "metadata": {
    "papermill": {
     "duration": 0.027843,
     "end_time": "2024-03-20T21:35:15.248846",
     "exception": false,
     "start_time": "2024-03-20T21:35:15.221003",
     "status": "completed"
    },
    "tags": []
   },
   "outputs": [
    {
     "name": "stdout",
     "output_type": "stream",
     "text": [
      "We examined a specific drug-disease pair to determine whether the LVs driving the prediction were biologically plausible. Nicotinic acid (niacin) is a B vitamin widely used clinically to treat lipid disorders, although there is controversy on its clinical utility in preventing cardiovascular disease [@pmid:22085343; @pmid:25014686; @pmid:30977858]. Niacin exerts its effects on multiple tissues, although its mechanisms are not well understood [@doi:10.1016/j.amjcard.2008.02.029; @doi:10.1194/jlr.S092007; @pmid:24363242; @pmid:24713591]. This compound can increase high-density lipoprotein (HDL) by inhibiting an HDL catabolism receptor in the liver. Niacin also inhibits diacylglycerol acyltransferase–2 (DGAT2), which decreases the production of low-density lipoproteins (LDL) either by modulating triglyceride synthesis in hepatocytes or by inhibiting adipocyte triglyceride lipolysis [@doi:10.1016/j.amjcard.2008.02.029]. Niacin was one of the drugs in the gold standard set indicated for atherosclerosis (AT) and coronary artery disease (CAD). We observed that this compound was predicted by the gene-based and LV-based approach as a medical indication for coronary artery disease (CAD), with scores above the mean (0.51 and 0.96, respectively). For AT, the LV-based approach predicted niacin as a therapeutic drug with a score of 0.52, whereas the gene-based method assigned a negative score of -0.01 (below the mean). Since LVs represent interpretable features associated with specific cell types, we analyzed which LVs positively contributed to these predictions (i.e., with an opposite direction between niacin and the disease). Notably, LV246 (Figure @fig:lv246), expressed in adipose tissue and liver and associated with plasma lipids and high cholesterol (Table @tbl:sup:phenomexcan_assocs:lv246), was the 16th most important module in the prediction of niacin as a therapeutic drug for AT. Besides the gold standard set, LV246 was among the top modules for other cardiovascular diseases, such as ischaemic heart disease (wide definition, 15th module) and high cholesterol (7th module).\n"
     ]
    }
   ],
   "source": [
    "par0 = process_paragraph(orig_section_paragraphs[4])\n",
    "print(par0)"
   ]
  },
  {
   "cell_type": "code",
   "execution_count": 122,
   "id": "bb614d4f-a775-42de-ad4c-c3495ff1f83f",
   "metadata": {
    "papermill": {
     "duration": 0.029092,
     "end_time": "2024-03-20T21:35:15.301609",
     "exception": false,
     "start_time": "2024-03-20T21:35:15.272517",
     "status": "completed"
    },
    "tags": []
   },
   "outputs": [
    {
     "name": "stdout",
     "output_type": "stream",
     "text": [
      "We investigated the relationship between niacin and coronary artery disease (CAD) using gene expression patterns. Niacin, a B vitamin commonly used to treat lipid disorders, has unclear clinical benefits in preventing cardiovascular disease. Its mechanisms of action involve inhibiting an HDL catabolism receptor in the liver and DGAT2, which reduces LDL production. Our analysis showed that niacin was predicted as a potential treatment for CAD and atherosclerosis (AT) using gene-based and latent variable (LV)-based methods. LV246, associated with plasma lipids and high cholesterol, was identified as a key factor in predicting niacin's therapeutic effects on AT. Additionally, LV246 was also relevant for ischaemic heart disease and high cholesterol.\n"
     ]
    }
   ],
   "source": [
    "par1 = process_paragraph(mod_section_paragraphs[4])\n",
    "print(par1)"
   ]
  },
  {
   "cell_type": "code",
   "execution_count": 123,
   "id": "6f7da9f8-c83d-4353-ad5f-3a81bf42439e",
   "metadata": {
    "papermill": {
     "duration": 0.030764,
     "end_time": "2024-03-20T21:35:15.536864",
     "exception": false,
     "start_time": "2024-03-20T21:35:15.506100",
     "status": "completed"
    },
    "tags": []
   },
   "outputs": [],
   "source": [
    "paragraph_matches.append(\n",
    "    (\n",
    "        section_name,\n",
    "        par0,\n",
    "        par1,\n",
    "    )\n",
    ")"
   ]
  },
  {
   "cell_type": "code",
   "execution_count": 124,
   "id": "24174590-f5f6-43ff-925e-f25186b35935",
   "metadata": {
    "papermill": {
     "duration": 0.029435,
     "end_time": "2024-03-20T21:35:15.590843",
     "exception": false,
     "start_time": "2024-03-20T21:35:15.561408",
     "status": "completed"
    },
    "tags": []
   },
   "outputs": [
    {
     "data": {
      "text/plain": [
       "('results',\n",
       " 'We examined a specific drug-disease pair to determine whether the LVs driving the prediction were biologically plausible. Nicotinic acid (niacin) is a B vitamin widely used clinically to treat lipid disorders, although there is controversy on its clinical utility in preventing cardiovascular disease [@pmid:22085343; @pmid:25014686; @pmid:30977858]. Niacin exerts its effects on multiple tissues, although its mechanisms are not well understood [@doi:10.1016/j.amjcard.2008.02.029; @doi:10.1194/jlr.S092007; @pmid:24363242; @pmid:24713591]. This compound can increase high-density lipoprotein (HDL) by inhibiting an HDL catabolism receptor in the liver. Niacin also inhibits diacylglycerol acyltransferase–2 (DGAT2), which decreases the production of low-density lipoproteins (LDL) either by modulating triglyceride synthesis in hepatocytes or by inhibiting adipocyte triglyceride lipolysis [@doi:10.1016/j.amjcard.2008.02.029]. Niacin was one of the drugs in the gold standard set indicated for atherosclerosis (AT) and coronary artery disease (CAD). We observed that this compound was predicted by the gene-based and LV-based approach as a medical indication for coronary artery disease (CAD), with scores above the mean (0.51 and 0.96, respectively). For AT, the LV-based approach predicted niacin as a therapeutic drug with a score of 0.52, whereas the gene-based method assigned a negative score of -0.01 (below the mean). Since LVs represent interpretable features associated with specific cell types, we analyzed which LVs positively contributed to these predictions (i.e., with an opposite direction between niacin and the disease). Notably, LV246 (Figure @fig:lv246), expressed in adipose tissue and liver and associated with plasma lipids and high cholesterol (Table @tbl:sup:phenomexcan_assocs:lv246), was the 16th most important module in the prediction of niacin as a therapeutic drug for AT. Besides the gold standard set, LV246 was among the top modules for other cardiovascular diseases, such as ischaemic heart disease (wide definition, 15th module) and high cholesterol (7th module).',\n",
       " \"We investigated the relationship between niacin and coronary artery disease (CAD) using gene expression patterns. Niacin, a B vitamin commonly used to treat lipid disorders, has unclear clinical benefits in preventing cardiovascular disease. Its mechanisms of action involve inhibiting an HDL catabolism receptor in the liver and DGAT2, which reduces LDL production. Our analysis showed that niacin was predicted as a potential treatment for CAD and atherosclerosis (AT) using gene-based and latent variable (LV)-based methods. LV246, associated with plasma lipids and high cholesterol, was identified as a key factor in predicting niacin's therapeutic effects on AT. Additionally, LV246 was also relevant for ischaemic heart disease and high cholesterol.\")"
      ]
     },
     "metadata": {},
     "output_type": "display_data"
    }
   ],
   "source": [
    "display(paragraph_matches[-1])"
   ]
  },
  {
   "cell_type": "markdown",
   "id": "a2a6579b-0aac-4c90-994f-bbf2a80f0fa7",
   "metadata": {
    "editable": true,
    "papermill": {
     "duration": 0.023359,
     "end_time": "2024-03-20T21:35:15.196474",
     "exception": false,
     "start_time": "2024-03-20T21:35:15.173115",
     "status": "completed"
    },
    "slideshow": {
     "slide_type": ""
    },
    "tags": []
   },
   "source": [
    "####  Paragraph 03"
   ]
  },
  {
   "cell_type": "code",
   "execution_count": 127,
   "id": "ccaa11b8-53d6-4aa1-bc49-d0d553c61c5c",
   "metadata": {
    "papermill": {
     "duration": 0.027843,
     "end_time": "2024-03-20T21:35:15.248846",
     "exception": false,
     "start_time": "2024-03-20T21:35:15.221003",
     "status": "completed"
    },
    "tags": []
   },
   "outputs": [
    {
     "name": "stdout",
     "output_type": "stream",
     "text": [
      "The analysis of other top niacin-contributing LVs across different cardiovascular diseases revealed additional mechanisms of action. For example, *GPR109A/HCAR2* encodes a G protein-coupled high-affinity niacin receptor in adipocytes and immune cells, including monocytes, macrophages, neutrophils and dendritic cells [@doi:10.1016/j.tips.2006.05.008; @doi:10.1038/sj.jid.5700586]. It was initially thought that the antiatherogenic effects of niacin were solely due to the inhibition of lipolysis in adipose tissue. However, it has been shown that nicotinic acid can reduce atherosclerosis progression independently of its antidyslipidemic activity by activating *GPR109A* in immune cells [@doi:10.1172/JCI41651], thus boosting anti-inflammatory processes [@doi:10.1161/ATVBAHA.108.179283]. In addition, flushing, a common adverse effect of niacin, is also produced by the activation of GPR109A in Langerhans cells (macrophages of the skin). This alternative mechanism for niacin could have been hypothesized by examining the cell types where the top-contributing modules are expressed: for instance, LV116 and LV931 (Figures @fig:lv116:cell_types and @fig:sup:lv931, and Tables @tbl:sup:multiplier_pathways:lv116 and @tbl:sup:multiplier_pathways:lv931) were the top two modules for AT, with a strong signature in monocytes, macrophages, neutrophils, dendritic cells, among others. In Figure @fig:lv116:cell_types, it can be seen that LV116's genes are expressed as an immune response when these cell types are under different stimuli, such as diarrhea caused by different pathogens [@doi:10.1371/journal.pone.0192082], samples from multiple sclerosis or systemic lupus erythematosus [@doi:10.1371/journal.pone.0109760; @doi:10.1126/science.aac7442], or infected with different viruses (such as herpes simplex [@url:https://www.ncbi.nlm.nih.gov/bioproject/PRJNA258384], West Nile virus [@doi:10.3390/v5071664], *Salmonella typhimurium* [@doi:10.1038/srep16882], among others). These three LVs (LV246, LV116 and LV931) were among the top 20 modules contributing to the niacin prediction across different cardiovascular traits (Table @tbl:niacin:cardio:top_lvs).\n"
     ]
    }
   ],
   "source": [
    "par0 = process_paragraph(orig_section_paragraphs[7])\n",
    "print(par0)"
   ]
  },
  {
   "cell_type": "code",
   "execution_count": 128,
   "id": "72dd7868-14b6-4219-90f9-99abf1c6242a",
   "metadata": {
    "papermill": {
     "duration": 0.029092,
     "end_time": "2024-03-20T21:35:15.301609",
     "exception": false,
     "start_time": "2024-03-20T21:35:15.272517",
     "status": "completed"
    },
    "tags": []
   },
   "outputs": [
    {
     "name": "stdout",
     "output_type": "stream",
     "text": [
      "Analysis of top niacin-contributing LVs in various cardiovascular diseases revealed additional mechanisms of action. For instance, the gene *GPR109A/HCAR2* encodes a high-affinity niacin receptor in adipocytes and immune cells, including monocytes, macrophages, neutrophils, and dendritic cells. Initially, niacin's antiatherogenic effects were attributed to inhibiting lipolysis in adipose tissue. However, studies have shown that nicotinic acid can independently reduce atherosclerosis progression by activating *GPR109A* in immune cells, promoting anti-inflammatory processes. Moreover, flushing, a common niacin side effect, is also triggered by *GPR109A* activation in Langerhans cells. This alternative mechanism could have been predicted by examining cell types expressing top-contributing modules, such as LV116 and LV931, which show strong signatures in immune cells like monocytes and macrophages (Figures @fig:lv116:cell_types and @fig:sup:lv931, Tables @tbl:sup:multiplier_pathways:lv116 and @tbl:sup:multiplier_pathways:lv931). These modules exhibit an immune response when exposed to various stimuli, including infections from different pathogens or viruses. LV246, LV116, and LV931 were among the top 20 modules predicting niacin effects on different cardiovascular traits (Table @tbl:niacin:cardio:top_lvs).\n"
     ]
    }
   ],
   "source": [
    "par1 = process_paragraph(mod_section_paragraphs[7])\n",
    "print(par1)"
   ]
  },
  {
   "cell_type": "code",
   "execution_count": 129,
   "id": "1eef59e4-3276-4212-9402-046282a0a693",
   "metadata": {
    "papermill": {
     "duration": 0.030764,
     "end_time": "2024-03-20T21:35:15.536864",
     "exception": false,
     "start_time": "2024-03-20T21:35:15.506100",
     "status": "completed"
    },
    "tags": []
   },
   "outputs": [],
   "source": [
    "paragraph_matches.append(\n",
    "    (\n",
    "        section_name,\n",
    "        par0,\n",
    "        par1,\n",
    "    )\n",
    ")"
   ]
  },
  {
   "cell_type": "code",
   "execution_count": 130,
   "id": "3fe28c5f-1b7a-44ff-ad31-d1ffa784a224",
   "metadata": {
    "papermill": {
     "duration": 0.029435,
     "end_time": "2024-03-20T21:35:15.590843",
     "exception": false,
     "start_time": "2024-03-20T21:35:15.561408",
     "status": "completed"
    },
    "tags": []
   },
   "outputs": [
    {
     "data": {
      "text/plain": [
       "('results',\n",
       " \"The analysis of other top niacin-contributing LVs across different cardiovascular diseases revealed additional mechanisms of action. For example, *GPR109A/HCAR2* encodes a G protein-coupled high-affinity niacin receptor in adipocytes and immune cells, including monocytes, macrophages, neutrophils and dendritic cells [@doi:10.1016/j.tips.2006.05.008; @doi:10.1038/sj.jid.5700586]. It was initially thought that the antiatherogenic effects of niacin were solely due to the inhibition of lipolysis in adipose tissue. However, it has been shown that nicotinic acid can reduce atherosclerosis progression independently of its antidyslipidemic activity by activating *GPR109A* in immune cells [@doi:10.1172/JCI41651], thus boosting anti-inflammatory processes [@doi:10.1161/ATVBAHA.108.179283]. In addition, flushing, a common adverse effect of niacin, is also produced by the activation of GPR109A in Langerhans cells (macrophages of the skin). This alternative mechanism for niacin could have been hypothesized by examining the cell types where the top-contributing modules are expressed: for instance, LV116 and LV931 (Figures @fig:lv116:cell_types and @fig:sup:lv931, and Tables @tbl:sup:multiplier_pathways:lv116 and @tbl:sup:multiplier_pathways:lv931) were the top two modules for AT, with a strong signature in monocytes, macrophages, neutrophils, dendritic cells, among others. In Figure @fig:lv116:cell_types, it can be seen that LV116's genes are expressed as an immune response when these cell types are under different stimuli, such as diarrhea caused by different pathogens [@doi:10.1371/journal.pone.0192082], samples from multiple sclerosis or systemic lupus erythematosus [@doi:10.1371/journal.pone.0109760; @doi:10.1126/science.aac7442], or infected with different viruses (such as herpes simplex [@url:https://www.ncbi.nlm.nih.gov/bioproject/PRJNA258384], West Nile virus [@doi:10.3390/v5071664], *Salmonella typhimurium* [@doi:10.1038/srep16882], among others). These three LVs (LV246, LV116 and LV931) were among the top 20 modules contributing to the niacin prediction across different cardiovascular traits (Table @tbl:niacin:cardio:top_lvs).\",\n",
       " \"Analysis of top niacin-contributing LVs in various cardiovascular diseases revealed additional mechanisms of action. For instance, the gene *GPR109A/HCAR2* encodes a high-affinity niacin receptor in adipocytes and immune cells, including monocytes, macrophages, neutrophils, and dendritic cells. Initially, niacin's antiatherogenic effects were attributed to inhibiting lipolysis in adipose tissue. However, studies have shown that nicotinic acid can independently reduce atherosclerosis progression by activating *GPR109A* in immune cells, promoting anti-inflammatory processes. Moreover, flushing, a common niacin side effect, is also triggered by *GPR109A* activation in Langerhans cells. This alternative mechanism could have been predicted by examining cell types expressing top-contributing modules, such as LV116 and LV931, which show strong signatures in immune cells like monocytes and macrophages (Figures @fig:lv116:cell_types and @fig:sup:lv931, Tables @tbl:sup:multiplier_pathways:lv116 and @tbl:sup:multiplier_pathways:lv931). These modules exhibit an immune response when exposed to various stimuli, including infections from different pathogens or viruses. LV246, LV116, and LV931 were among the top 20 modules predicting niacin effects on different cardiovascular traits (Table @tbl:niacin:cardio:top_lvs).\")"
      ]
     },
     "metadata": {},
     "output_type": "display_data"
    }
   ],
   "source": [
    "display(paragraph_matches[-1])"
   ]
  },
  {
   "cell_type": "markdown",
   "id": "41b64df9-3426-4c16-afe1-f0d63cb81440",
   "metadata": {
    "editable": true,
    "papermill": {
     "duration": 0.023359,
     "end_time": "2024-03-20T21:35:15.196474",
     "exception": false,
     "start_time": "2024-03-20T21:35:15.173115",
     "status": "completed"
    },
    "slideshow": {
     "slide_type": ""
    },
    "tags": []
   },
   "source": [
    "####  Paragraph 04"
   ]
  },
  {
   "cell_type": "code",
   "execution_count": 132,
   "id": "211b55a4-3399-4f2d-a72c-c061bb71576b",
   "metadata": {
    "papermill": {
     "duration": 0.027843,
     "end_time": "2024-03-20T21:35:15.248846",
     "exception": false,
     "start_time": "2024-03-20T21:35:15.221003",
     "status": "completed"
    },
    "tags": []
   },
   "outputs": [
    {
     "name": "stdout",
     "output_type": "stream",
     "text": [
      "Beyond cardiovascular traits, there are other potentially interesting LVs that could extend our understanding of the mechanisms of niacin. For example, LV66, one of the top LVs affected by niacin (Figure @fig:sup:lv66), was mainly expressed in ovarian granulosa cells. This compound has been very recently considered a potential therapeutic for ovarian diseases [@doi:10.1159/000495051; @doi:10.1071/RD20306], as it was found to promote follicle growth and inhibit granulosa cell apoptosis in animal models.\n"
     ]
    }
   ],
   "source": [
    "par0 = process_paragraph(orig_section_paragraphs[10])\n",
    "print(par0)"
   ]
  },
  {
   "cell_type": "code",
   "execution_count": 133,
   "id": "6bcb43b3-841e-49b3-ad15-c6a21a87adc2",
   "metadata": {
    "papermill": {
     "duration": 0.029092,
     "end_time": "2024-03-20T21:35:15.301609",
     "exception": false,
     "start_time": "2024-03-20T21:35:15.272517",
     "status": "completed"
    },
    "tags": []
   },
   "outputs": [
    {
     "name": "stdout",
     "output_type": "stream",
     "text": [
      "In addition to cardiovascular traits, other LVs could enhance our knowledge of niacin mechanisms. For instance, LV66, a key LV impacted by niacin (Figure 1), showed predominant expression in ovarian granulosa cells. Recent studies have suggested niacin as a potential therapy for ovarian diseases, as it has been shown to stimulate follicle growth and prevent granulosa cell apoptosis in animal models.\n"
     ]
    }
   ],
   "source": [
    "par1 = process_paragraph(mod_section_paragraphs[10])\n",
    "print(par1)"
   ]
  },
  {
   "cell_type": "code",
   "execution_count": 134,
   "id": "3500c2a1-31f8-4699-acd4-9fca688815bb",
   "metadata": {
    "papermill": {
     "duration": 0.030764,
     "end_time": "2024-03-20T21:35:15.536864",
     "exception": false,
     "start_time": "2024-03-20T21:35:15.506100",
     "status": "completed"
    },
    "tags": []
   },
   "outputs": [],
   "source": [
    "paragraph_matches.append(\n",
    "    (\n",
    "        section_name,\n",
    "        par0,\n",
    "        par1,\n",
    "    )\n",
    ")"
   ]
  },
  {
   "cell_type": "code",
   "execution_count": 135,
   "id": "3948b191-16e9-4046-bdc7-e4c2aea8b42e",
   "metadata": {
    "papermill": {
     "duration": 0.029435,
     "end_time": "2024-03-20T21:35:15.590843",
     "exception": false,
     "start_time": "2024-03-20T21:35:15.561408",
     "status": "completed"
    },
    "tags": []
   },
   "outputs": [
    {
     "data": {
      "text/plain": [
       "('results',\n",
       " 'Beyond cardiovascular traits, there are other potentially interesting LVs that could extend our understanding of the mechanisms of niacin. For example, LV66, one of the top LVs affected by niacin (Figure @fig:sup:lv66), was mainly expressed in ovarian granulosa cells. This compound has been very recently considered a potential therapeutic for ovarian diseases [@doi:10.1159/000495051; @doi:10.1071/RD20306], as it was found to promote follicle growth and inhibit granulosa cell apoptosis in animal models.',\n",
       " 'In addition to cardiovascular traits, other LVs could enhance our knowledge of niacin mechanisms. For instance, LV66, a key LV impacted by niacin (Figure 1), showed predominant expression in ovarian granulosa cells. Recent studies have suggested niacin as a potential therapy for ovarian diseases, as it has been shown to stimulate follicle growth and prevent granulosa cell apoptosis in animal models.')"
      ]
     },
     "metadata": {},
     "output_type": "display_data"
    }
   ],
   "source": [
    "display(paragraph_matches[-1])"
   ]
  },
  {
   "cell_type": "markdown",
   "id": "90d4d27a-ebbe-4314-b2d6-5df00bb6d33e",
   "metadata": {
    "editable": true,
    "papermill": {
     "duration": 0.023012,
     "end_time": "2024-03-20T21:35:14.131877",
     "exception": false,
     "start_time": "2024-03-20T21:35:14.108865",
     "status": "completed"
    },
    "slideshow": {
     "slide_type": ""
    },
    "tags": []
   },
   "source": [
    "## Results (clustering)"
   ]
  },
  {
   "cell_type": "code",
   "execution_count": 136,
   "id": "fd221cc2-4c89-4e24-98bb-55debc8bf194",
   "metadata": {
    "papermill": {
     "duration": 0.026147,
     "end_time": "2024-03-20T21:35:14.181101",
     "exception": false,
     "start_time": "2024-03-20T21:35:14.154954",
     "status": "completed"
    },
    "tags": []
   },
   "outputs": [],
   "source": [
    "# section_name = \"results\""
   ]
  },
  {
   "cell_type": "code",
   "execution_count": 138,
   "id": "3ab1b2e6-9a21-4ad5-a586-867ef0932e01",
   "metadata": {
    "editable": true,
    "papermill": {
     "duration": 0.026937,
     "end_time": "2024-03-20T21:35:14.231009",
     "exception": false,
     "start_time": "2024-03-20T21:35:14.204072",
     "status": "completed"
    },
    "slideshow": {
     "slide_type": ""
    },
    "tags": []
   },
   "outputs": [
    {
     "name": "stdout",
     "output_type": "stream",
     "text": [
      "content/04.20.00.results_traits_clustering.md\n"
     ]
    }
   ],
   "source": [
    "pr_filename = pr_files[5].filename\n",
    "assert section_name in pr_filename\n",
    "assert \"traits_clustering\" in pr_filename\n",
    "print(pr_filename)"
   ]
  },
  {
   "cell_type": "markdown",
   "id": "a3ea57fe-0598-44b9-a827-9ab9ecfdaa55",
   "metadata": {
    "editable": true,
    "papermill": {
     "duration": 0.023153,
     "end_time": "2024-03-20T21:35:14.277357",
     "exception": false,
     "start_time": "2024-03-20T21:35:14.254204",
     "status": "completed"
    },
    "slideshow": {
     "slide_type": ""
    },
    "tags": []
   },
   "source": [
    "### Original"
   ]
  },
  {
   "cell_type": "code",
   "execution_count": 139,
   "id": "a3b0a5a5-33fe-4b3b-864e-97d801c19d3c",
   "metadata": {
    "papermill": {
     "duration": 0.208012,
     "end_time": "2024-03-20T21:35:14.508739",
     "exception": false,
     "start_time": "2024-03-20T21:35:14.300727",
     "status": "completed"
    },
    "tags": []
   },
   "outputs": [
    {
     "name": "stdout",
     "output_type": "stream",
     "text": [
      "### LVs reveal trait clusters with shared transcri\n"
     ]
    }
   ],
   "source": [
    "# get content\n",
    "orig_section_content = repo.get_contents(pr_filename, pr_prev).decoded_content.decode(\n",
    "    \"utf-8\"\n",
    ")\n",
    "print(orig_section_content[:50])"
   ]
  },
  {
   "cell_type": "code",
   "execution_count": 140,
   "id": "83502bc8-e7c9-45e8-84c0-54c249088508",
   "metadata": {
    "papermill": {
     "duration": 0.039416,
     "end_time": "2024-03-20T21:35:14.582427",
     "exception": false,
     "start_time": "2024-03-20T21:35:14.543011",
     "status": "completed"
    },
    "tags": []
   },
   "outputs": [
    {
     "data": {
      "text/plain": [
       "9"
      ]
     },
     "metadata": {},
     "output_type": "display_data"
    }
   ],
   "source": [
    "# split by paragraph\n",
    "orig_section_paragraphs = orig_section_content.split(\"\\n\\n\")\n",
    "display(len(orig_section_paragraphs))"
   ]
  },
  {
   "cell_type": "markdown",
   "id": "f490a83c-917f-4659-a2dd-a3d78a8e09a0",
   "metadata": {
    "editable": true,
    "papermill": {
     "duration": 0.022979,
     "end_time": "2024-03-20T21:35:14.634392",
     "exception": false,
     "start_time": "2024-03-20T21:35:14.611413",
     "status": "completed"
    },
    "slideshow": {
     "slide_type": ""
    },
    "tags": []
   },
   "source": [
    "### Modified"
   ]
  },
  {
   "cell_type": "code",
   "execution_count": 141,
   "id": "699ec362-a3d9-495c-8767-84b36c47987e",
   "metadata": {
    "papermill": {
     "duration": 0.258786,
     "end_time": "2024-03-20T21:35:14.916319",
     "exception": false,
     "start_time": "2024-03-20T21:35:14.657533",
     "status": "completed"
    },
    "tags": []
   },
   "outputs": [
    {
     "name": "stdout",
     "output_type": "stream",
     "text": [
      "### LVs reveal trait clusters with shared transcri\n"
     ]
    }
   ],
   "source": [
    "# get content\n",
    "mod_section_content = repo.get_contents(pr_filename, pr_curr).decoded_content.decode(\n",
    "    \"utf-8\"\n",
    ")\n",
    "print(mod_section_content[:50])"
   ]
  },
  {
   "cell_type": "code",
   "execution_count": 142,
   "id": "8970336c-c75b-4513-a265-619beb2c0c69",
   "metadata": {
    "papermill": {
     "duration": 0.039656,
     "end_time": "2024-03-20T21:35:14.991047",
     "exception": false,
     "start_time": "2024-03-20T21:35:14.951391",
     "status": "completed"
    },
    "tags": []
   },
   "outputs": [
    {
     "data": {
      "text/plain": [
       "10"
      ]
     },
     "metadata": {},
     "output_type": "display_data"
    }
   ],
   "source": [
    "# split by paragraph\n",
    "mod_section_paragraphs = mod_section_content.split(\"\\n\\n\")\n",
    "display(len(mod_section_paragraphs))"
   ]
  },
  {
   "cell_type": "markdown",
   "id": "7af17b40-78c1-4ac2-a7bf-29202e185288",
   "metadata": {
    "editable": true,
    "papermill": {
     "duration": 0.023577,
     "end_time": "2024-03-20T21:35:15.043430",
     "exception": false,
     "start_time": "2024-03-20T21:35:15.019853",
     "status": "completed"
    },
    "slideshow": {
     "slide_type": ""
    },
    "tags": []
   },
   "source": [
    "### Match"
   ]
  },
  {
   "cell_type": "code",
   "execution_count": 143,
   "id": "74a51ba1-8ef2-4740-97e1-52e8b4f72a3f",
   "metadata": {
    "papermill": {
     "duration": 0.028045,
     "end_time": "2024-03-20T21:35:15.096738",
     "exception": false,
     "start_time": "2024-03-20T21:35:15.068693",
     "status": "completed"
    },
    "tags": []
   },
   "outputs": [
    {
     "data": {
      "text/plain": [
       "'### LVs reveal trait clusters with shared transcriptomic properties'"
      ]
     },
     "execution_count": 143,
     "metadata": {},
     "output_type": "execute_result"
    }
   ],
   "source": [
    "orig_section_paragraphs[0]"
   ]
  },
  {
   "cell_type": "code",
   "execution_count": 144,
   "id": "e53b60c3-42e3-43d9-8259-0ca06cb8a951",
   "metadata": {
    "papermill": {
     "duration": 0.028951,
     "end_time": "2024-03-20T21:35:15.149446",
     "exception": false,
     "start_time": "2024-03-20T21:35:15.120495",
     "status": "completed"
    },
    "tags": []
   },
   "outputs": [
    {
     "data": {
      "text/plain": [
       "'### LVs reveal trait clusters with shared transcriptomic properties'"
      ]
     },
     "execution_count": 144,
     "metadata": {},
     "output_type": "execute_result"
    }
   ],
   "source": [
    "mod_section_paragraphs[0]"
   ]
  },
  {
   "cell_type": "markdown",
   "id": "662d127e-f60d-46e6-90ae-597a8e9a2948",
   "metadata": {
    "editable": true,
    "papermill": {
     "duration": 0.023359,
     "end_time": "2024-03-20T21:35:15.196474",
     "exception": false,
     "start_time": "2024-03-20T21:35:15.173115",
     "status": "completed"
    },
    "slideshow": {
     "slide_type": ""
    },
    "tags": []
   },
   "source": [
    "####  Paragraph 00"
   ]
  },
  {
   "cell_type": "code",
   "execution_count": 149,
   "id": "24b696b2-51a4-43f2-a7bb-9426dfc42ff4",
   "metadata": {
    "papermill": {
     "duration": 0.027843,
     "end_time": "2024-03-20T21:35:15.248846",
     "exception": false,
     "start_time": "2024-03-20T21:35:15.221003",
     "status": "completed"
    },
    "tags": []
   },
   "outputs": [
    {
     "name": "stdout",
     "output_type": "stream",
     "text": [
      "We used the projection of gene-trait associations into the latent space to find groups of clusters linked by the same transcriptional processes. Since individual clustering algorithms have different biases (i.e., assumptions about the data structure), we designed a consensus clustering framework that combines solutions or partitions of traits generated by different methods ([Methods](#sec:methods:clustering)). Consensus or ensemble approaches have been recommended to avoid several pitfalls when performing cluster analysis on biological data [@doi:10.1126/scisignal.aad1932]. Since diversity in the ensemble is crucial for these methods, we generated different data versions which were processed using different methods with varying sets of parameters (Figure {@fig:clustering:design}a). Then, a consensus function combines the ensemble into a consolidated solution, which has been shown to outperform any individual member of the ensemble [@Strehl2002; @doi:10.1109/TPAMI.2005.113]. Our clustering pipeline generated 15 final consensus clustering solutions (Figure @fig:sup:clustering:agreement). The number of clusters of these partitions (between 5 to 29) was learned from the data by selecting the partitions with the largest agreement with the ensemble [@Strehl2002]. Instead of selecting one of these final solutions with a specific number of clusters, we used a clustering tree [@doi:10.1093/gigascience/giy083] (Figure @fig:clustering:tree) to examine stable groups of traits across multiple resolutions. To understand which latent variables differentiated the group of traits, we trained a decision tree classifier on the input data $\\hat{\\mathbf{M}}$ using the clusters found as labels (Figure {@fig:clustering:design}b, see [Methods](#sec:methods:clustering)).\n"
     ]
    }
   ],
   "source": [
    "par0 = process_paragraph(orig_section_paragraphs[2])\n",
    "print(par0)"
   ]
  },
  {
   "cell_type": "code",
   "execution_count": 150,
   "id": "97884e0e-a7c5-45fa-941e-53aad6a22bdb",
   "metadata": {
    "papermill": {
     "duration": 0.029092,
     "end_time": "2024-03-20T21:35:15.301609",
     "exception": false,
     "start_time": "2024-03-20T21:35:15.272517",
     "status": "completed"
    },
    "tags": []
   },
   "outputs": [
    {
     "name": "stdout",
     "output_type": "stream",
     "text": [
      "Gene-trait associations were projected into a latent space to identify clusters with similar transcriptional processes. To address biases in individual clustering algorithms, we developed a consensus clustering framework that combines trait partitions from different methods. This approach, recommended for biological data analysis, involved generating diverse data versions processed with varying parameters. A consensus function then consolidated these solutions, outperforming individual ensemble members. Our pipeline produced 15 final consensus clustering solutions, with cluster numbers ranging from 5 to 29. Instead of selecting a specific solution, we utilized a clustering tree to identify stable trait groups across various resolutions. To determine the distinguishing latent variables, a decision tree classifier was trained on the input data using the identified clusters as labels.\n"
     ]
    }
   ],
   "source": [
    "par1 = process_paragraph(mod_section_paragraphs[2])\n",
    "print(par1)"
   ]
  },
  {
   "cell_type": "code",
   "execution_count": 151,
   "id": "a1a14ad2-980e-471b-9a80-e13c9b51d558",
   "metadata": {
    "papermill": {
     "duration": 0.030764,
     "end_time": "2024-03-20T21:35:15.536864",
     "exception": false,
     "start_time": "2024-03-20T21:35:15.506100",
     "status": "completed"
    },
    "tags": []
   },
   "outputs": [],
   "source": [
    "paragraph_matches.append(\n",
    "    (\n",
    "        section_name,\n",
    "        par0,\n",
    "        par1,\n",
    "    )\n",
    ")"
   ]
  },
  {
   "cell_type": "code",
   "execution_count": 152,
   "id": "b8545341-544f-49c8-9a37-ed16e85a56f0",
   "metadata": {
    "papermill": {
     "duration": 0.029435,
     "end_time": "2024-03-20T21:35:15.590843",
     "exception": false,
     "start_time": "2024-03-20T21:35:15.561408",
     "status": "completed"
    },
    "scrolled": true,
    "tags": []
   },
   "outputs": [
    {
     "data": {
      "text/plain": [
       "('results',\n",
       " 'We used the projection of gene-trait associations into the latent space to find groups of clusters linked by the same transcriptional processes. Since individual clustering algorithms have different biases (i.e., assumptions about the data structure), we designed a consensus clustering framework that combines solutions or partitions of traits generated by different methods ([Methods](#sec:methods:clustering)). Consensus or ensemble approaches have been recommended to avoid several pitfalls when performing cluster analysis on biological data [@doi:10.1126/scisignal.aad1932]. Since diversity in the ensemble is crucial for these methods, we generated different data versions which were processed using different methods with varying sets of parameters (Figure {@fig:clustering:design}a). Then, a consensus function combines the ensemble into a consolidated solution, which has been shown to outperform any individual member of the ensemble [@Strehl2002; @doi:10.1109/TPAMI.2005.113]. Our clustering pipeline generated 15 final consensus clustering solutions (Figure @fig:sup:clustering:agreement). The number of clusters of these partitions (between 5 to 29) was learned from the data by selecting the partitions with the largest agreement with the ensemble [@Strehl2002]. Instead of selecting one of these final solutions with a specific number of clusters, we used a clustering tree [@doi:10.1093/gigascience/giy083] (Figure @fig:clustering:tree) to examine stable groups of traits across multiple resolutions. To understand which latent variables differentiated the group of traits, we trained a decision tree classifier on the input data $\\\\hat{\\\\mathbf{M}}$ using the clusters found as labels (Figure {@fig:clustering:design}b, see [Methods](#sec:methods:clustering)).',\n",
       " 'Gene-trait associations were projected into a latent space to identify clusters with similar transcriptional processes. To address biases in individual clustering algorithms, we developed a consensus clustering framework that combines trait partitions from different methods. This approach, recommended for biological data analysis, involved generating diverse data versions processed with varying parameters. A consensus function then consolidated these solutions, outperforming individual ensemble members. Our pipeline produced 15 final consensus clustering solutions, with cluster numbers ranging from 5 to 29. Instead of selecting a specific solution, we utilized a clustering tree to identify stable trait groups across various resolutions. To determine the distinguishing latent variables, a decision tree classifier was trained on the input data using the identified clusters as labels.')"
      ]
     },
     "metadata": {},
     "output_type": "display_data"
    }
   ],
   "source": [
    "display(paragraph_matches[-1])"
   ]
  },
  {
   "cell_type": "markdown",
   "id": "785ec5b1-faee-46b2-8196-3929fa815c10",
   "metadata": {
    "editable": true,
    "papermill": {
     "duration": 0.023359,
     "end_time": "2024-03-20T21:35:15.196474",
     "exception": false,
     "start_time": "2024-03-20T21:35:15.173115",
     "status": "completed"
    },
    "slideshow": {
     "slide_type": ""
    },
    "tags": []
   },
   "source": [
    "####  Paragraph 01"
   ]
  },
  {
   "cell_type": "code",
   "execution_count": 153,
   "id": "d83d1e91-f067-46f7-9a28-60a9388438be",
   "metadata": {
    "papermill": {
     "duration": 0.027843,
     "end_time": "2024-03-20T21:35:15.248846",
     "exception": false,
     "start_time": "2024-03-20T21:35:15.221003",
     "status": "completed"
    },
    "tags": []
   },
   "outputs": [
    {
     "name": "stdout",
     "output_type": "stream",
     "text": [
      "We found that phenotypes were grouped into five clear branches, defined by their first node at the top of the Figure @fig:clustering:tree: 0) a \"large\" branch that includes most of the traits subdivided only starting at $k$=16 (with asthma, subjective well-being traits, and nutrient intake clusters), 1) heel bone-densitometry measurements, 2) hematological assays on red blood cells, 3) physical measures, including spirometry and body impedance, and anthropometric traits with fat-free and fat mass measures in separate sub-branches, and 4) a \"complex\" branch including keratometry measurements, assays on white blood cells and platelets, skin and hair color traits, autoimmune disorders, and cardiovascular diseases (which also included other cardiovascular-related traits such as hand-grip strength [@pmid:25982160], and environmental/behavioral factors such as physical activity and diet) (see Supplementary Data 3-7 for all clustering results). Within these branches, results were relatively stable, with the same traits often clustered together across different resolutions. Arrows between clusters show traits moving from one group to another, and this mainly happens between clusters within the \"complex\" branch (4) and between clusters from the \"large\" branch (0) to the \"complex\" branch. This behavior is expected since complex diseases are usually associated with shared genetic and environmental factors and are thus hard to categorize into a single cluster.\n"
     ]
    }
   ],
   "source": [
    "par0 = process_paragraph(orig_section_paragraphs[4])\n",
    "print(par0)"
   ]
  },
  {
   "cell_type": "code",
   "execution_count": 154,
   "id": "e52a98f9-c622-4bc2-9731-63a9c5eb22b4",
   "metadata": {
    "papermill": {
     "duration": 0.029092,
     "end_time": "2024-03-20T21:35:15.301609",
     "exception": false,
     "start_time": "2024-03-20T21:35:15.272517",
     "status": "completed"
    },
    "tags": []
   },
   "outputs": [
    {
     "name": "stdout",
     "output_type": "stream",
     "text": [
      "Phenotypes were grouped into five branches based on the clustering analysis. The first branch, labeled as \"large,\" encompassed most traits and subdivided only at $k$=16, including asthma, subjective well-being traits, and nutrient intake clusters. The second branch included heel bone-densitometry measurements, while the third branch consisted of hematological assays on red blood cells, physical measures such as spirometry and body impedance, and anthropometric traits with fat-free and fat mass measures in separate sub-branches. The fourth branch, labeled as \"complex,\" comprised keratometry measurements, assays on white blood cells and platelets, skin and hair color traits, autoimmune disorders, and cardiovascular diseases, along with other cardiovascular-related traits like hand-grip strength and environmental/behavioral factors such as physical activity and diet. Results within these branches were stable, with the same traits often clustered together across different resolutions. Arrows between clusters indicated traits moving from one group to another, primarily within the \"complex\" branch and between clusters from the \"large\" branch to the \"complex\" branch. This behavior was expected due to the shared genetic and environmental factors associated with complex diseases, making them challenging to categorize into a single cluster. (Refer to Supplementary Data 3-7 for detailed clustering results).\n"
     ]
    }
   ],
   "source": [
    "par1 = process_paragraph(mod_section_paragraphs[4])\n",
    "print(par1)"
   ]
  },
  {
   "cell_type": "code",
   "execution_count": 155,
   "id": "15c94958-bfbf-48d0-bc41-8d2f13e14802",
   "metadata": {
    "papermill": {
     "duration": 0.030764,
     "end_time": "2024-03-20T21:35:15.536864",
     "exception": false,
     "start_time": "2024-03-20T21:35:15.506100",
     "status": "completed"
    },
    "tags": []
   },
   "outputs": [],
   "source": [
    "paragraph_matches.append(\n",
    "    (\n",
    "        section_name,\n",
    "        par0,\n",
    "        par1,\n",
    "    )\n",
    ")"
   ]
  },
  {
   "cell_type": "code",
   "execution_count": 156,
   "id": "d1f5c851-c813-438b-ae7f-3f3f7055cc17",
   "metadata": {
    "papermill": {
     "duration": 0.029435,
     "end_time": "2024-03-20T21:35:15.590843",
     "exception": false,
     "start_time": "2024-03-20T21:35:15.561408",
     "status": "completed"
    },
    "scrolled": true,
    "tags": []
   },
   "outputs": [
    {
     "data": {
      "text/plain": [
       "('results',\n",
       " 'We found that phenotypes were grouped into five clear branches, defined by their first node at the top of the Figure @fig:clustering:tree: 0) a \"large\" branch that includes most of the traits subdivided only starting at $k$=16 (with asthma, subjective well-being traits, and nutrient intake clusters), 1) heel bone-densitometry measurements, 2) hematological assays on red blood cells, 3) physical measures, including spirometry and body impedance, and anthropometric traits with fat-free and fat mass measures in separate sub-branches, and 4) a \"complex\" branch including keratometry measurements, assays on white blood cells and platelets, skin and hair color traits, autoimmune disorders, and cardiovascular diseases (which also included other cardiovascular-related traits such as hand-grip strength [@pmid:25982160], and environmental/behavioral factors such as physical activity and diet) (see Supplementary Data 3-7 for all clustering results). Within these branches, results were relatively stable, with the same traits often clustered together across different resolutions. Arrows between clusters show traits moving from one group to another, and this mainly happens between clusters within the \"complex\" branch (4) and between clusters from the \"large\" branch (0) to the \"complex\" branch. This behavior is expected since complex diseases are usually associated with shared genetic and environmental factors and are thus hard to categorize into a single cluster.',\n",
       " 'Phenotypes were grouped into five branches based on the clustering analysis. The first branch, labeled as \"large,\" encompassed most traits and subdivided only at $k$=16, including asthma, subjective well-being traits, and nutrient intake clusters. The second branch included heel bone-densitometry measurements, while the third branch consisted of hematological assays on red blood cells, physical measures such as spirometry and body impedance, and anthropometric traits with fat-free and fat mass measures in separate sub-branches. The fourth branch, labeled as \"complex,\" comprised keratometry measurements, assays on white blood cells and platelets, skin and hair color traits, autoimmune disorders, and cardiovascular diseases, along with other cardiovascular-related traits like hand-grip strength and environmental/behavioral factors such as physical activity and diet. Results within these branches were stable, with the same traits often clustered together across different resolutions. Arrows between clusters indicated traits moving from one group to another, primarily within the \"complex\" branch and between clusters from the \"large\" branch to the \"complex\" branch. This behavior was expected due to the shared genetic and environmental factors associated with complex diseases, making them challenging to categorize into a single cluster. (Refer to Supplementary Data 3-7 for detailed clustering results).')"
      ]
     },
     "metadata": {},
     "output_type": "display_data"
    }
   ],
   "source": [
    "display(paragraph_matches[-1])"
   ]
  },
  {
   "cell_type": "markdown",
   "id": "1228b804-7ee8-4dc6-a990-cee1db5e329b",
   "metadata": {
    "editable": true,
    "papermill": {
     "duration": 0.023359,
     "end_time": "2024-03-20T21:35:15.196474",
     "exception": false,
     "start_time": "2024-03-20T21:35:15.173115",
     "status": "completed"
    },
    "slideshow": {
     "slide_type": ""
    },
    "tags": []
   },
   "source": [
    "####  Paragraph 02"
   ]
  },
  {
   "cell_type": "code",
   "execution_count": 158,
   "id": "444edfdf-c249-4f91-819a-a184f08cf853",
   "metadata": {
    "papermill": {
     "duration": 0.027843,
     "end_time": "2024-03-20T21:35:15.248846",
     "exception": false,
     "start_time": "2024-03-20T21:35:15.221003",
     "status": "completed"
    },
    "tags": []
   },
   "outputs": [
    {
     "name": "stdout",
     "output_type": "stream",
     "text": [
      "Next, we analyzed which LVs were driving these clusters of traits. For this, we trained decision tree classifiers on the input data using each cluster at $k$=29 (bottom of Figure @fig:clustering:tree) as labels (see [Methods](#sec:methods:clustering)). This procedure yielded the top LVs that were most discriminative for each cluster. Several of these LVs were well-aligned to existing pathways (Figure @fig:clustering:heatmap), whereas others were not aligned to prior knowledge but still expressed in relevant tissues (Figure @fig:sup:clustering:novel:heatmap). In Figure @fig:clustering:heatmap, it can be seen that some LVs were highly specific to certain traits, while others were associated with a wide range of different phenotypes, thus potentially involved in more general biological functions. We used our regression framework to determine whether these LVs were significantly associated with different traits. For example, LVs such as LV928 and LV30, which were well-aligned to early progenitors of the erythrocytes lineage [@doi:10.1016/j.cell.2011.01.004] (Tables @tbl:sup:multiplier_pathways:lv928 and @tbl:sup:multiplier_pathways:lv30), were predominantly expressed in early differentiation stages of erythropoiesis (Figures @fig:sup:lv928 and @fig:sup:lv30) and strongly associated with different assays on red blood cells (FDR < 0.05; Tables @tbl:sup:phenomexcan_assocs:lv928, @tbl:sup:emerge_assocs:lv928, and @tbl:sup:emerge_assocs:lv30). In contrast, other LVs were highly specific, such as LV730, which is expressed in thrombocytes from different cancer samples (Figure @fig:sup:lv730 and Table @tbl:sup:multiplier_pathways:lv730), and strongly associated with hematological assays on platelets (FDR < 0.05, Table @tbl:sup:phenomexcan_assocs:lv730); or LV598, whose genes were expressed in corneal endothelial cells (Figure @fig:sup:lv598 and Table @tbl:sup:multiplier_pathways:lv598) and associated with keratometry measurements (Table @tbl:sup:phenomexcan_assocs:lv598).\n"
     ]
    }
   ],
   "source": [
    "par0 = process_paragraph(orig_section_paragraphs[6])\n",
    "print(par0)"
   ]
  },
  {
   "cell_type": "code",
   "execution_count": 160,
   "id": "8a4f5dfd-f98e-440f-ad08-e09ef004e8a7",
   "metadata": {
    "papermill": {
     "duration": 0.029092,
     "end_time": "2024-03-20T21:35:15.301609",
     "exception": false,
     "start_time": "2024-03-20T21:35:15.272517",
     "status": "completed"
    },
    "tags": []
   },
   "outputs": [
    {
     "name": "stdout",
     "output_type": "stream",
     "text": [
      "We identified the key latent variables (LVs) driving clusters of traits by training decision tree classifiers on the input data using each cluster at $k$=29 as labels. This analysis is shown in Figure 1 at the bottom of the clustering tree. The top LVs that were most discriminative for each cluster were determined through this process. Some of these LVs aligned well with known pathways, as depicted in Figure 2, while others were not previously associated with known pathways but were expressed in relevant tissues, as shown in Figure 3. In Figure 2, it is evident that certain LVs were specific to particular traits, while others were linked to a broad range of phenotypes, potentially indicating involvement in general biological functions. Using our regression framework, we assessed the significant associations of these LVs with various traits. For instance, LVs like LV928 and LV30, which aligned with early progenitors of the erythrocytes lineage, were predominantly expressed in early differentiation stages of erythropoiesis. These LVs were strongly associated with assays on red blood cells (FDR < 0.05). On the other hand, LV730, which is expressed in thrombocytes from different cancer samples, and LV598, expressed in corneal endothelial cells, were highly specific and associated with hematological assays on platelets and keratometry measurements, respectively. Detailed information on these associations can be found in Tables 1, 2, and 3.\n"
     ]
    }
   ],
   "source": [
    "par1 = process_paragraph(mod_section_paragraphs[6:8])\n",
    "print(par1)"
   ]
  },
  {
   "cell_type": "code",
   "execution_count": 161,
   "id": "c4f4f31a-6d59-43fc-8984-416dc159c622",
   "metadata": {
    "papermill": {
     "duration": 0.030764,
     "end_time": "2024-03-20T21:35:15.536864",
     "exception": false,
     "start_time": "2024-03-20T21:35:15.506100",
     "status": "completed"
    },
    "tags": []
   },
   "outputs": [],
   "source": [
    "paragraph_matches.append(\n",
    "    (\n",
    "        section_name,\n",
    "        par0,\n",
    "        par1,\n",
    "    )\n",
    ")"
   ]
  },
  {
   "cell_type": "code",
   "execution_count": 162,
   "id": "25fe2511-c13e-481f-a225-8e9bfe3072cc",
   "metadata": {
    "papermill": {
     "duration": 0.029435,
     "end_time": "2024-03-20T21:35:15.590843",
     "exception": false,
     "start_time": "2024-03-20T21:35:15.561408",
     "status": "completed"
    },
    "tags": []
   },
   "outputs": [
    {
     "data": {
      "text/plain": [
       "('results',\n",
       " 'Next, we analyzed which LVs were driving these clusters of traits. For this, we trained decision tree classifiers on the input data using each cluster at $k$=29 (bottom of Figure @fig:clustering:tree) as labels (see [Methods](#sec:methods:clustering)). This procedure yielded the top LVs that were most discriminative for each cluster. Several of these LVs were well-aligned to existing pathways (Figure @fig:clustering:heatmap), whereas others were not aligned to prior knowledge but still expressed in relevant tissues (Figure @fig:sup:clustering:novel:heatmap). In Figure @fig:clustering:heatmap, it can be seen that some LVs were highly specific to certain traits, while others were associated with a wide range of different phenotypes, thus potentially involved in more general biological functions. We used our regression framework to determine whether these LVs were significantly associated with different traits. For example, LVs such as LV928 and LV30, which were well-aligned to early progenitors of the erythrocytes lineage [@doi:10.1016/j.cell.2011.01.004] (Tables @tbl:sup:multiplier_pathways:lv928 and @tbl:sup:multiplier_pathways:lv30), were predominantly expressed in early differentiation stages of erythropoiesis (Figures @fig:sup:lv928 and @fig:sup:lv30) and strongly associated with different assays on red blood cells (FDR < 0.05; Tables @tbl:sup:phenomexcan_assocs:lv928, @tbl:sup:emerge_assocs:lv928, and @tbl:sup:emerge_assocs:lv30). In contrast, other LVs were highly specific, such as LV730, which is expressed in thrombocytes from different cancer samples (Figure @fig:sup:lv730 and Table @tbl:sup:multiplier_pathways:lv730), and strongly associated with hematological assays on platelets (FDR < 0.05, Table @tbl:sup:phenomexcan_assocs:lv730); or LV598, whose genes were expressed in corneal endothelial cells (Figure @fig:sup:lv598 and Table @tbl:sup:multiplier_pathways:lv598) and associated with keratometry measurements (Table @tbl:sup:phenomexcan_assocs:lv598).',\n",
       " 'We identified the key latent variables (LVs) driving clusters of traits by training decision tree classifiers on the input data using each cluster at $k$=29 as labels. This analysis is shown in Figure 1 at the bottom of the clustering tree. The top LVs that were most discriminative for each cluster were determined through this process. Some of these LVs aligned well with known pathways, as depicted in Figure 2, while others were not previously associated with known pathways but were expressed in relevant tissues, as shown in Figure 3. In Figure 2, it is evident that certain LVs were specific to particular traits, while others were linked to a broad range of phenotypes, potentially indicating involvement in general biological functions. Using our regression framework, we assessed the significant associations of these LVs with various traits. For instance, LVs like LV928 and LV30, which aligned with early progenitors of the erythrocytes lineage, were predominantly expressed in early differentiation stages of erythropoiesis. These LVs were strongly associated with assays on red blood cells (FDR < 0.05). On the other hand, LV730, which is expressed in thrombocytes from different cancer samples, and LV598, expressed in corneal endothelial cells, were highly specific and associated with hematological assays on platelets and keratometry measurements, respectively. Detailed information on these associations can be found in Tables 1, 2, and 3.')"
      ]
     },
     "metadata": {},
     "output_type": "display_data"
    }
   ],
   "source": [
    "display(paragraph_matches[-1])"
   ]
  },
  {
   "cell_type": "markdown",
   "id": "81d8e39a-f8d1-4f7d-bea3-1c74f1e5449f",
   "metadata": {
    "editable": true,
    "papermill": {
     "duration": 0.023359,
     "end_time": "2024-03-20T21:35:15.196474",
     "exception": false,
     "start_time": "2024-03-20T21:35:15.173115",
     "status": "completed"
    },
    "slideshow": {
     "slide_type": ""
    },
    "tags": []
   },
   "source": [
    "####  Paragraph 03"
   ]
  },
  {
   "cell_type": "code",
   "execution_count": 163,
   "id": "89e9e2b0-3b3f-4c2f-88df-5cec7b169103",
   "metadata": {
    "papermill": {
     "duration": 0.027843,
     "end_time": "2024-03-20T21:35:15.248846",
     "exception": false,
     "start_time": "2024-03-20T21:35:15.221003",
     "status": "completed"
    },
    "tags": []
   },
   "outputs": [
    {
     "name": "stdout",
     "output_type": "stream",
     "text": [
      "The sub-branches of autoimmune and cardiovascular diseases merged together at $k=10$ (middle of Figure @fig:clustering:tree), so we expected to find LVs that specifically affect one or both of these types of diseases. For example, LV57, expressed in T cells (Figure @fig:sup:lv57 and Table @tbl:sup:multiplier_pathways:lv57), was the most strongly associated gene module with autoimmune disorders in PhenomeXcan (Table @tbl:sup:phenomexcan_assocs:lv57), with significant associations with hypothyroidism that were replicated in eMERGE (Table @tbl:sup:emerge_assocs:lv57). However, this LV was also strongly associated with deep venous thrombosis in both PhenomeXcan and eMERGE. On the other hand, LV844 was more autoimmune-specific, with associations to polymyalgia rheumatica, type 1 diabetes, rheumatoid arthritis, and celiac disease in PhenomeXcan (Table @tbl:sup:phenomexcan_assocs:lv844). However, these did not replicate in eMERGE. This LV was expressed in a wide range of cell types, including blood, breast organoids, myeloma cells, lung fibroblasts, and different cell types from the brain (Figure @fig:sup:lv844 and Table @tbl:sup:multiplier_pathways:lv844).\n"
     ]
    }
   ],
   "source": [
    "par0 = process_paragraph(orig_section_paragraphs[7])\n",
    "print(par0)"
   ]
  },
  {
   "cell_type": "code",
   "execution_count": 164,
   "id": "bbd2f58c-668e-4fcc-a453-7bb888f2647d",
   "metadata": {
    "papermill": {
     "duration": 0.029092,
     "end_time": "2024-03-20T21:35:15.301609",
     "exception": false,
     "start_time": "2024-03-20T21:35:15.272517",
     "status": "completed"
    },
    "tags": []
   },
   "outputs": [
    {
     "name": "stdout",
     "output_type": "stream",
     "text": [
      "The autoimmune and cardiovascular disease sub-branches converged at $k=10$ as shown in Figure 1, indicating potential shared genetic factors. LV57, predominantly expressed in T cells (Figure 2 and Table 1), showed strong associations with autoimmune disorders in PhenomeXcan (Table 2) and replicated associations with hypothyroidism in eMERGE (Table 3). Additionally, LV57 was also associated with deep venous thrombosis. In contrast, LV844 exhibited more autoimmune-specific associations with diseases like polymyalgia rheumatica, type 1 diabetes, rheumatoid arthritis, and celiac disease in PhenomeXcan (Table 4), although these associations were not replicated in eMERGE. LV844 showed broad expression across various cell types, including blood, breast organoids, myeloma cells, lung fibroblasts, and brain cell types (Figure 3 and Table 5).\n"
     ]
    }
   ],
   "source": [
    "par1 = process_paragraph(mod_section_paragraphs[8])\n",
    "print(par1)"
   ]
  },
  {
   "cell_type": "code",
   "execution_count": 165,
   "id": "9336fe9b-4172-4801-8619-1b758d7ade48",
   "metadata": {
    "papermill": {
     "duration": 0.030764,
     "end_time": "2024-03-20T21:35:15.536864",
     "exception": false,
     "start_time": "2024-03-20T21:35:15.506100",
     "status": "completed"
    },
    "tags": []
   },
   "outputs": [],
   "source": [
    "paragraph_matches.append(\n",
    "    (\n",
    "        section_name,\n",
    "        par0,\n",
    "        par1,\n",
    "    )\n",
    ")"
   ]
  },
  {
   "cell_type": "code",
   "execution_count": 166,
   "id": "cebe54ed-22a4-452f-b965-0f163a36e3d7",
   "metadata": {
    "papermill": {
     "duration": 0.029435,
     "end_time": "2024-03-20T21:35:15.590843",
     "exception": false,
     "start_time": "2024-03-20T21:35:15.561408",
     "status": "completed"
    },
    "tags": []
   },
   "outputs": [
    {
     "data": {
      "text/plain": [
       "('results',\n",
       " 'The sub-branches of autoimmune and cardiovascular diseases merged together at $k=10$ (middle of Figure @fig:clustering:tree), so we expected to find LVs that specifically affect one or both of these types of diseases. For example, LV57, expressed in T cells (Figure @fig:sup:lv57 and Table @tbl:sup:multiplier_pathways:lv57), was the most strongly associated gene module with autoimmune disorders in PhenomeXcan (Table @tbl:sup:phenomexcan_assocs:lv57), with significant associations with hypothyroidism that were replicated in eMERGE (Table @tbl:sup:emerge_assocs:lv57). However, this LV was also strongly associated with deep venous thrombosis in both PhenomeXcan and eMERGE. On the other hand, LV844 was more autoimmune-specific, with associations to polymyalgia rheumatica, type 1 diabetes, rheumatoid arthritis, and celiac disease in PhenomeXcan (Table @tbl:sup:phenomexcan_assocs:lv844). However, these did not replicate in eMERGE. This LV was expressed in a wide range of cell types, including blood, breast organoids, myeloma cells, lung fibroblasts, and different cell types from the brain (Figure @fig:sup:lv844 and Table @tbl:sup:multiplier_pathways:lv844).',\n",
       " 'The autoimmune and cardiovascular disease sub-branches converged at $k=10$ as shown in Figure 1, indicating potential shared genetic factors. LV57, predominantly expressed in T cells (Figure 2 and Table 1), showed strong associations with autoimmune disorders in PhenomeXcan (Table 2) and replicated associations with hypothyroidism in eMERGE (Table 3). Additionally, LV57 was also associated with deep venous thrombosis. In contrast, LV844 exhibited more autoimmune-specific associations with diseases like polymyalgia rheumatica, type 1 diabetes, rheumatoid arthritis, and celiac disease in PhenomeXcan (Table 4), although these associations were not replicated in eMERGE. LV844 showed broad expression across various cell types, including blood, breast organoids, myeloma cells, lung fibroblasts, and brain cell types (Figure 3 and Table 5).')"
      ]
     },
     "metadata": {},
     "output_type": "display_data"
    }
   ],
   "source": [
    "display(paragraph_matches[-1])"
   ]
  },
  {
   "cell_type": "markdown",
   "id": "94bdb2aa-ace6-4314-be0f-4f162a97423f",
   "metadata": {
    "editable": true,
    "papermill": {
     "duration": 0.023359,
     "end_time": "2024-03-20T21:35:15.196474",
     "exception": false,
     "start_time": "2024-03-20T21:35:15.173115",
     "status": "completed"
    },
    "slideshow": {
     "slide_type": ""
    },
    "tags": []
   },
   "source": [
    "####  Paragraph 04"
   ]
  },
  {
   "cell_type": "code",
   "execution_count": 167,
   "id": "9414b184-f12a-4ee5-a71d-e2ce680fb984",
   "metadata": {
    "papermill": {
     "duration": 0.027843,
     "end_time": "2024-03-20T21:35:15.248846",
     "exception": false,
     "start_time": "2024-03-20T21:35:15.221003",
     "status": "completed"
    },
    "tags": []
   },
   "outputs": [
    {
     "name": "stdout",
     "output_type": "stream",
     "text": [
      "The cardiovascular sub-branch had 129 significant LV-trait associations in PhenomeXcan and 23 in eMERGE. LV136, aligned with known collagen formation and muscle contraction pathways (Table @tbl:sup:multiplier_pathways:lv136), was associated with coronary artery disease and keratometry measurements in PhenomeXcan (Table @tbl:sup:phenomexcan_assocs:lv136). In eMERGE, this LV was associated with coronary atherosclerosis (phecode: 411.4) (Table @tbl:sup:emerge_assocs:lv136). LV136 was expressed in a wide range of cell types, including fibroblasts, mesenchymal stem cells, osteoblasts, pancreatic stellate cells, cardiomyocytes, and adipocytes (Figure @fig:sup:lv136). Within the cardiovascular sub-branch, we found neuropsychiatric and neurodevelopmental disorders such as Alzheimer's disease, schizophrenia, and attention deficit hyperactivity disorder (ADHD). These disorders were previously linked to the cardiovascular system [@pmid:12093424; @doi:10.1161/CIRCULATIONAHA.113.002065; @doi:10.1192/bjp.bp.117.202606; @doi:10.1161/CIRCRESAHA.118.313563] and share several risk factors, including hypertension, high cholesterol, obesity, smoking, among others [@doi:10.1186/s12916-014-0206-2; @doi:10.1111/j.1076-7460.2007.06696.x]. However, our results grouped these diseases by potentially shared transcriptional processes expressed in specific tissues/cell types. Alzheimer's disease (not present in eMERGE), for instance, was significantly associated with LV21 in PhenomeXcan (Table @tbl:sup:phenomexcan_assocs:lv21). LV21, a gene module not aligned to prior pathways, was strongly expressed in a variety of soft tissue sarcomas, monocytes/macrophages (including microglia from cortex samples), and aortic valves (Figure @fig:sup:lv21 and Table @tbl:sup:multiplier_pathways:lv21). This LV was also strongly associated with lipids and high cholesterol in PhenomeXcan and hyperlipidemia (phecode: 272.1) in eMERGE (Table @tbl:sup:emerge_assocs:lv21). As discussed previously, macrophages play a key role in the reverse cholesterol transport and thus atherogenesis [@doi:10.1093/qjmed/hci136], and lipid metabolism in microglia has been recently identified as an important factor in the development of neurodegenerative diseases [@doi:10.3389/fphys.2020.00393].\n"
     ]
    }
   ],
   "source": [
    "par0 = process_paragraph(orig_section_paragraphs[8])\n",
    "print(par0)"
   ]
  },
  {
   "cell_type": "code",
   "execution_count": 168,
   "id": "2b3a7622-4255-407e-bda4-a5f82bb0799d",
   "metadata": {
    "papermill": {
     "duration": 0.029092,
     "end_time": "2024-03-20T21:35:15.301609",
     "exception": false,
     "start_time": "2024-03-20T21:35:15.272517",
     "status": "completed"
    },
    "tags": []
   },
   "outputs": [
    {
     "name": "stdout",
     "output_type": "stream",
     "text": [
      "The cardiovascular sub-branch showed 129 significant LV-trait associations in PhenomeXcan and 23 in eMERGE. LV136, related to collagen formation and muscle contraction pathways, was associated with coronary artery disease and keratometry measurements in PhenomeXcan. In eMERGE, LV136 was linked to coronary atherosclerosis. This LV was expressed in various cell types, including fibroblasts, mesenchymal stem cells, osteoblasts, pancreatic stellate cells, cardiomyocytes, and adipocytes. Within the cardiovascular sub-branch, neuropsychiatric and neurodevelopmental disorders like Alzheimer's disease, schizophrenia, and ADHD were found to be associated. These disorders share risk factors such as hypertension, high cholesterol, obesity, and smoking. Alzheimer's disease was significantly associated with LV21 in PhenomeXcan, which was strongly expressed in soft tissue sarcomas, monocytes/macrophages, and aortic valves. LV21 was also associated with lipids and high cholesterol in PhenomeXcan and hyperlipidemia in eMERGE. Macrophages play a crucial role in reverse cholesterol transport and atherogenesis, while lipid metabolism in microglia is important in neurodegenerative diseases.\n"
     ]
    }
   ],
   "source": [
    "par1 = process_paragraph(mod_section_paragraphs[9])\n",
    "print(par1)"
   ]
  },
  {
   "cell_type": "code",
   "execution_count": 169,
   "id": "9ca1b6e1-96c5-4ecb-aec6-ab16550dae58",
   "metadata": {
    "papermill": {
     "duration": 0.030764,
     "end_time": "2024-03-20T21:35:15.536864",
     "exception": false,
     "start_time": "2024-03-20T21:35:15.506100",
     "status": "completed"
    },
    "tags": []
   },
   "outputs": [],
   "source": [
    "paragraph_matches.append(\n",
    "    (\n",
    "        section_name,\n",
    "        par0,\n",
    "        par1,\n",
    "    )\n",
    ")"
   ]
  },
  {
   "cell_type": "code",
   "execution_count": 170,
   "id": "3db1cd84-77ad-4185-b658-ba22ecb8c66f",
   "metadata": {
    "papermill": {
     "duration": 0.029435,
     "end_time": "2024-03-20T21:35:15.590843",
     "exception": false,
     "start_time": "2024-03-20T21:35:15.561408",
     "status": "completed"
    },
    "tags": []
   },
   "outputs": [
    {
     "data": {
      "text/plain": [
       "('results',\n",
       " \"The cardiovascular sub-branch had 129 significant LV-trait associations in PhenomeXcan and 23 in eMERGE. LV136, aligned with known collagen formation and muscle contraction pathways (Table @tbl:sup:multiplier_pathways:lv136), was associated with coronary artery disease and keratometry measurements in PhenomeXcan (Table @tbl:sup:phenomexcan_assocs:lv136). In eMERGE, this LV was associated with coronary atherosclerosis (phecode: 411.4) (Table @tbl:sup:emerge_assocs:lv136). LV136 was expressed in a wide range of cell types, including fibroblasts, mesenchymal stem cells, osteoblasts, pancreatic stellate cells, cardiomyocytes, and adipocytes (Figure @fig:sup:lv136). Within the cardiovascular sub-branch, we found neuropsychiatric and neurodevelopmental disorders such as Alzheimer's disease, schizophrenia, and attention deficit hyperactivity disorder (ADHD). These disorders were previously linked to the cardiovascular system [@pmid:12093424; @doi:10.1161/CIRCULATIONAHA.113.002065; @doi:10.1192/bjp.bp.117.202606; @doi:10.1161/CIRCRESAHA.118.313563] and share several risk factors, including hypertension, high cholesterol, obesity, smoking, among others [@doi:10.1186/s12916-014-0206-2; @doi:10.1111/j.1076-7460.2007.06696.x]. However, our results grouped these diseases by potentially shared transcriptional processes expressed in specific tissues/cell types. Alzheimer's disease (not present in eMERGE), for instance, was significantly associated with LV21 in PhenomeXcan (Table @tbl:sup:phenomexcan_assocs:lv21). LV21, a gene module not aligned to prior pathways, was strongly expressed in a variety of soft tissue sarcomas, monocytes/macrophages (including microglia from cortex samples), and aortic valves (Figure @fig:sup:lv21 and Table @tbl:sup:multiplier_pathways:lv21). This LV was also strongly associated with lipids and high cholesterol in PhenomeXcan and hyperlipidemia (phecode: 272.1) in eMERGE (Table @tbl:sup:emerge_assocs:lv21). As discussed previously, macrophages play a key role in the reverse cholesterol transport and thus atherogenesis [@doi:10.1093/qjmed/hci136], and lipid metabolism in microglia has been recently identified as an important factor in the development of neurodegenerative diseases [@doi:10.3389/fphys.2020.00393].\",\n",
       " \"The cardiovascular sub-branch showed 129 significant LV-trait associations in PhenomeXcan and 23 in eMERGE. LV136, related to collagen formation and muscle contraction pathways, was associated with coronary artery disease and keratometry measurements in PhenomeXcan. In eMERGE, LV136 was linked to coronary atherosclerosis. This LV was expressed in various cell types, including fibroblasts, mesenchymal stem cells, osteoblasts, pancreatic stellate cells, cardiomyocytes, and adipocytes. Within the cardiovascular sub-branch, neuropsychiatric and neurodevelopmental disorders like Alzheimer's disease, schizophrenia, and ADHD were found to be associated. These disorders share risk factors such as hypertension, high cholesterol, obesity, and smoking. Alzheimer's disease was significantly associated with LV21 in PhenomeXcan, which was strongly expressed in soft tissue sarcomas, monocytes/macrophages, and aortic valves. LV21 was also associated with lipids and high cholesterol in PhenomeXcan and hyperlipidemia in eMERGE. Macrophages play a crucial role in reverse cholesterol transport and atherogenesis, while lipid metabolism in microglia is important in neurodegenerative diseases.\")"
      ]
     },
     "metadata": {},
     "output_type": "display_data"
    }
   ],
   "source": [
    "display(paragraph_matches[-1])"
   ]
  },
  {
   "cell_type": "markdown",
   "id": "0a311a52-d06f-4f08-905f-465c282ff625",
   "metadata": {
    "editable": true,
    "papermill": {
     "duration": 0.025027,
     "end_time": "2024-03-20T21:35:18.040099",
     "exception": false,
     "start_time": "2024-03-20T21:35:18.015072",
     "status": "completed"
    },
    "slideshow": {
     "slide_type": ""
    },
    "tags": []
   },
   "source": [
    "## Discussion"
   ]
  },
  {
   "cell_type": "code",
   "execution_count": 171,
   "id": "70e3c270-751e-48b1-a705-7ed67d9298b8",
   "metadata": {
    "papermill": {
     "duration": 0.028905,
     "end_time": "2024-03-20T21:35:18.093898",
     "exception": false,
     "start_time": "2024-03-20T21:35:18.064993",
     "status": "completed"
    },
    "tags": []
   },
   "outputs": [],
   "source": [
    "section_name = \"discussion\""
   ]
  },
  {
   "cell_type": "code",
   "execution_count": 174,
   "id": "da50ce41-3f94-4ca1-8c72-3d2aa29b536b",
   "metadata": {
    "editable": true,
    "papermill": {
     "duration": 0.029398,
     "end_time": "2024-03-20T21:35:18.148093",
     "exception": false,
     "start_time": "2024-03-20T21:35:18.118695",
     "status": "completed"
    },
    "slideshow": {
     "slide_type": ""
    },
    "tags": []
   },
   "outputs": [
    {
     "name": "stdout",
     "output_type": "stream",
     "text": [
      "content/05.discussion.md\n"
     ]
    }
   ],
   "source": [
    "pr_filename = pr_files[6].filename\n",
    "assert section_name in pr_filename\n",
    "print(pr_filename)"
   ]
  },
  {
   "cell_type": "markdown",
   "id": "15bcc7d8-ab7b-4475-95ad-6d9c3763aba2",
   "metadata": {
    "editable": true,
    "papermill": {
     "duration": 0.024875,
     "end_time": "2024-03-20T21:35:18.197871",
     "exception": false,
     "start_time": "2024-03-20T21:35:18.172996",
     "status": "completed"
    },
    "slideshow": {
     "slide_type": ""
    },
    "tags": []
   },
   "source": [
    "### Original"
   ]
  },
  {
   "cell_type": "code",
   "execution_count": 175,
   "id": "5bbec300-ce51-46d0-8e4d-b2ba822ec608",
   "metadata": {
    "papermill": {
     "duration": 0.188969,
     "end_time": "2024-03-20T21:35:18.411879",
     "exception": false,
     "start_time": "2024-03-20T21:35:18.222910",
     "status": "completed"
    },
    "tags": []
   },
   "outputs": [
    {
     "name": "stdout",
     "output_type": "stream",
     "text": [
      "## Discussion\n",
      "\n",
      "We have introduced a novel computat\n"
     ]
    }
   ],
   "source": [
    "# get content\n",
    "orig_section_content = repo.get_contents(pr_filename, pr_prev).decoded_content.decode(\n",
    "    \"utf-8\"\n",
    ")\n",
    "print(orig_section_content[:50])"
   ]
  },
  {
   "cell_type": "code",
   "execution_count": 176,
   "id": "2ab78222-da5b-4d1e-93dd-e35a085a962f",
   "metadata": {
    "papermill": {
     "duration": 0.045243,
     "end_time": "2024-03-20T21:35:18.504665",
     "exception": false,
     "start_time": "2024-03-20T21:35:18.459422",
     "status": "completed"
    },
    "tags": []
   },
   "outputs": [
    {
     "data": {
      "text/plain": [
       "9"
      ]
     },
     "metadata": {},
     "output_type": "display_data"
    }
   ],
   "source": [
    "# split by paragraph\n",
    "orig_section_paragraphs = orig_section_content.split(\"\\n\\n\")\n",
    "display(len(orig_section_paragraphs))"
   ]
  },
  {
   "cell_type": "markdown",
   "id": "a0a475a1-c746-4b66-b096-99df8a9e4688",
   "metadata": {
    "editable": true,
    "papermill": {
     "duration": 0.02492,
     "end_time": "2024-03-20T21:35:18.554629",
     "exception": false,
     "start_time": "2024-03-20T21:35:18.529709",
     "status": "completed"
    },
    "slideshow": {
     "slide_type": ""
    },
    "tags": []
   },
   "source": [
    "### Modified"
   ]
  },
  {
   "cell_type": "code",
   "execution_count": 177,
   "id": "b4046c3e-0e66-44fe-8902-822d461fb6ea",
   "metadata": {
    "papermill": {
     "duration": 0.229462,
     "end_time": "2024-03-20T21:35:18.809042",
     "exception": false,
     "start_time": "2024-03-20T21:35:18.579580",
     "status": "completed"
    },
    "tags": []
   },
   "outputs": [
    {
     "name": "stdout",
     "output_type": "stream",
     "text": [
      "## Discussion\n",
      "\n",
      "We have developed a new computation\n"
     ]
    }
   ],
   "source": [
    "# get content\n",
    "mod_section_content = repo.get_contents(pr_filename, pr_curr).decoded_content.decode(\n",
    "    \"utf-8\"\n",
    ")\n",
    "print(mod_section_content[:50])"
   ]
  },
  {
   "cell_type": "code",
   "execution_count": 178,
   "id": "0f0d8b54-f62f-45c9-861a-ab579ac0d46b",
   "metadata": {
    "papermill": {
     "duration": 0.029621,
     "end_time": "2024-03-20T21:35:18.863571",
     "exception": false,
     "start_time": "2024-03-20T21:35:18.833950",
     "status": "completed"
    },
    "tags": []
   },
   "outputs": [
    {
     "data": {
      "text/plain": [
       "10"
      ]
     },
     "metadata": {},
     "output_type": "display_data"
    }
   ],
   "source": [
    "# split by paragraph\n",
    "mod_section_paragraphs = mod_section_content.split(\"\\n\\n\")\n",
    "display(len(mod_section_paragraphs))"
   ]
  },
  {
   "cell_type": "markdown",
   "id": "eb98b790-a12a-4eff-9074-357374cc8386",
   "metadata": {
    "editable": true,
    "papermill": {
     "duration": 0.025272,
     "end_time": "2024-03-20T21:35:18.913935",
     "exception": false,
     "start_time": "2024-03-20T21:35:18.888663",
     "status": "completed"
    },
    "slideshow": {
     "slide_type": ""
    },
    "tags": []
   },
   "source": [
    "### Match"
   ]
  },
  {
   "cell_type": "code",
   "execution_count": 179,
   "id": "5147ec0f-7e00-4e5b-9c17-73e17ccb3ab4",
   "metadata": {
    "papermill": {
     "duration": 0.0298,
     "end_time": "2024-03-20T21:35:18.968987",
     "exception": false,
     "start_time": "2024-03-20T21:35:18.939187",
     "status": "completed"
    },
    "tags": []
   },
   "outputs": [
    {
     "data": {
      "text/plain": [
       "'## Discussion'"
      ]
     },
     "execution_count": 179,
     "metadata": {},
     "output_type": "execute_result"
    }
   ],
   "source": [
    "orig_section_paragraphs[0]"
   ]
  },
  {
   "cell_type": "code",
   "execution_count": 180,
   "id": "f7f66854-8226-4d44-a5d9-c77da74fcb02",
   "metadata": {
    "papermill": {
     "duration": 0.029998,
     "end_time": "2024-03-20T21:35:19.024268",
     "exception": false,
     "start_time": "2024-03-20T21:35:18.994270",
     "status": "completed"
    },
    "tags": []
   },
   "outputs": [
    {
     "data": {
      "text/plain": [
       "'## Discussion'"
      ]
     },
     "execution_count": 180,
     "metadata": {},
     "output_type": "execute_result"
    }
   ],
   "source": [
    "mod_section_paragraphs[0]"
   ]
  },
  {
   "cell_type": "markdown",
   "id": "d92ee9ca-a186-40ab-b166-470691476a5d",
   "metadata": {
    "editable": true,
    "papermill": {
     "duration": 0.025251,
     "end_time": "2024-03-20T21:35:19.074725",
     "exception": false,
     "start_time": "2024-03-20T21:35:19.049474",
     "status": "completed"
    },
    "slideshow": {
     "slide_type": ""
    },
    "tags": []
   },
   "source": [
    "####  Paragraph 00"
   ]
  },
  {
   "cell_type": "code",
   "execution_count": 181,
   "id": "cab5a53a-cfb9-4453-a5e7-d9c94cf44b42",
   "metadata": {
    "papermill": {
     "duration": 0.052614,
     "end_time": "2024-03-20T21:35:19.152541",
     "exception": false,
     "start_time": "2024-03-20T21:35:19.099927",
     "status": "completed"
    },
    "tags": []
   },
   "outputs": [
    {
     "name": "stdout",
     "output_type": "stream",
     "text": [
      "We have introduced a novel computational strategy that integrates statistical associations from TWAS with groups of genes (gene modules) that have similar expression patterns across the same cell types. Our key innovation is that we project gene-trait associations through a latent representation derived not strictly from measures of normal tissue but also from cell types under a variety of stimuli and at various developmental stages. This improves interpretation by going beyond statistical associations to infer cell type-specific features of complex phenotypes. Our approach can identify disease-relevant cell types from summary statistics, and several disease-associated gene modules were replicated in eMERGE. Using a CRISPR screen to analyze lipid regulation, we found that our gene module-based approach can prioritize causal genes even when single gene associations are not detected. We interpret these findings with an omnigenic perspective of \"core\" and \"peripheral\" genes, suggesting that the approach can identify genes that directly affect the trait with no mediated regulation of other genes and thus prioritize alternative and potentially more attractive therapeutic targets.\n"
     ]
    }
   ],
   "source": [
    "par0 = process_paragraph(orig_section_paragraphs[1])\n",
    "print(par0)"
   ]
  },
  {
   "cell_type": "code",
   "execution_count": 182,
   "id": "84c75b53-48ef-433f-a63c-8995b7b9637d",
   "metadata": {
    "papermill": {
     "duration": 0.029563,
     "end_time": "2024-03-20T21:35:19.207560",
     "exception": false,
     "start_time": "2024-03-20T21:35:19.177997",
     "status": "completed"
    },
    "tags": []
   },
   "outputs": [
    {
     "name": "stdout",
     "output_type": "stream",
     "text": [
      "We have developed a new computational method that combines statistical links from Transcriptome-Wide Association Studies (TWAS) with groups of genes that share similar expression patterns in the same cell types, known as gene modules. Our innovative approach involves projecting gene-trait relationships through a latent representation based not only on normal tissue measures but also on cell types exposed to different stimuli and at various developmental stages. This enhances our ability to understand complex phenotypes by moving beyond statistical connections to deduce cell type-specific characteristics. Our method can pinpoint cell types relevant to diseases using summary data, and several gene modules linked to diseases were confirmed in the eMERGE database. By conducting a CRISPR screen on lipid regulation, we demonstrated that our gene module-centered approach can prioritize causal genes even in the absence of individual gene associations. We interpret these results through the concept of \"core\" and \"peripheral\" genes in the omnigenic model, indicating that our method can identify genes directly impacting a trait without being regulated by other genes. This allows us to prioritize alternative and potentially more effective therapeutic targets.\n"
     ]
    }
   ],
   "source": [
    "par1 = process_paragraph(mod_section_paragraphs[1])\n",
    "print(par1)"
   ]
  },
  {
   "cell_type": "code",
   "execution_count": 183,
   "id": "cd9d734b-5a88-46ee-aea6-7be4ffbfd31c",
   "metadata": {
    "papermill": {
     "duration": 0.029169,
     "end_time": "2024-03-20T21:35:19.262188",
     "exception": false,
     "start_time": "2024-03-20T21:35:19.233019",
     "status": "completed"
    },
    "tags": []
   },
   "outputs": [],
   "source": [
    "paragraph_matches.append(\n",
    "    (\n",
    "        section_name,\n",
    "        par0,\n",
    "        par1,\n",
    "    )\n",
    ")"
   ]
  },
  {
   "cell_type": "code",
   "execution_count": 184,
   "id": "323699ec-6dcd-4bad-8261-871c43b7c9a4",
   "metadata": {
    "papermill": {
     "duration": 0.029995,
     "end_time": "2024-03-20T21:35:19.317541",
     "exception": false,
     "start_time": "2024-03-20T21:35:19.287546",
     "status": "completed"
    },
    "tags": []
   },
   "outputs": [
    {
     "data": {
      "text/plain": [
       "('discussion',\n",
       " 'We have introduced a novel computational strategy that integrates statistical associations from TWAS with groups of genes (gene modules) that have similar expression patterns across the same cell types. Our key innovation is that we project gene-trait associations through a latent representation derived not strictly from measures of normal tissue but also from cell types under a variety of stimuli and at various developmental stages. This improves interpretation by going beyond statistical associations to infer cell type-specific features of complex phenotypes. Our approach can identify disease-relevant cell types from summary statistics, and several disease-associated gene modules were replicated in eMERGE. Using a CRISPR screen to analyze lipid regulation, we found that our gene module-based approach can prioritize causal genes even when single gene associations are not detected. We interpret these findings with an omnigenic perspective of \"core\" and \"peripheral\" genes, suggesting that the approach can identify genes that directly affect the trait with no mediated regulation of other genes and thus prioritize alternative and potentially more attractive therapeutic targets.',\n",
       " 'We have developed a new computational method that combines statistical links from Transcriptome-Wide Association Studies (TWAS) with groups of genes that share similar expression patterns in the same cell types, known as gene modules. Our innovative approach involves projecting gene-trait relationships through a latent representation based not only on normal tissue measures but also on cell types exposed to different stimuli and at various developmental stages. This enhances our ability to understand complex phenotypes by moving beyond statistical connections to deduce cell type-specific characteristics. Our method can pinpoint cell types relevant to diseases using summary data, and several gene modules linked to diseases were confirmed in the eMERGE database. By conducting a CRISPR screen on lipid regulation, we demonstrated that our gene module-centered approach can prioritize causal genes even in the absence of individual gene associations. We interpret these results through the concept of \"core\" and \"peripheral\" genes in the omnigenic model, indicating that our method can identify genes directly impacting a trait without being regulated by other genes. This allows us to prioritize alternative and potentially more effective therapeutic targets.')"
      ]
     },
     "metadata": {},
     "output_type": "display_data"
    }
   ],
   "source": [
    "display(paragraph_matches[-1])"
   ]
  },
  {
   "cell_type": "markdown",
   "id": "c723624a-d413-4331-ae11-7e0fff81f925",
   "metadata": {
    "editable": true,
    "papermill": {
     "duration": 0.025465,
     "end_time": "2024-03-20T21:35:19.368796",
     "exception": false,
     "start_time": "2024-03-20T21:35:19.343331",
     "status": "completed"
    },
    "slideshow": {
     "slide_type": ""
    },
    "tags": []
   },
   "source": [
    "####  Paragraph 01"
   ]
  },
  {
   "cell_type": "code",
   "execution_count": 185,
   "id": "85389552-28ba-4023-a3e7-cad96a96c4e2",
   "metadata": {
    "papermill": {
     "duration": 0.029736,
     "end_time": "2024-03-20T21:35:19.423910",
     "exception": false,
     "start_time": "2024-03-20T21:35:19.394174",
     "status": "completed"
    },
    "tags": []
   },
   "outputs": [
    {
     "name": "stdout",
     "output_type": "stream",
     "text": [
      "Using our gene module perspective, we also integrated drug-induced transcriptional profiles, which allowed us to connect diseases, drugs, and cell types. We showed that the LV-based drug-repurposing approach outperformed the gene-based one when predicting drug-disease links for 322 drugs across 53 diseases. Furthermore, and beyond statistical prediction, we focused on cardiovascular traits and a particular drug, niacin, to show that the approach connects pathophysiological processes with known mechanisms of action, including those in adipose tissue, immune cells, and ovarian granulosa cells. Our LV-based approach could be helpful in generating novel hypotheses to evaluate potential mechanisms of action, or even adverse effects, of known or experimental drugs.\n"
     ]
    }
   ],
   "source": [
    "par0 = process_paragraph(orig_section_paragraphs[2])\n",
    "print(par0)"
   ]
  },
  {
   "cell_type": "code",
   "execution_count": 186,
   "id": "2128e3ae-2f52-4975-a5e3-6c5c15d0c43c",
   "metadata": {
    "papermill": {
     "duration": 0.0294,
     "end_time": "2024-03-20T21:35:19.478801",
     "exception": false,
     "start_time": "2024-03-20T21:35:19.449401",
     "status": "completed"
    },
    "tags": []
   },
   "outputs": [
    {
     "name": "stdout",
     "output_type": "stream",
     "text": [
      "Utilizing our gene module perspective, we also incorporated drug-induced transcriptional profiles to establish connections between diseases, drugs, and cell types. Our study demonstrated that the latent variable (LV) based drug-repurposing method performed better than the gene-based approach in predicting links between drugs and diseases, analyzing 322 drugs across 53 diseases. Additionally, we focused on cardiovascular traits and the drug niacin to illustrate how our approach can link pathophysiological processes with known mechanisms of action, specifically in adipose tissue, immune cells, and ovarian granulosa cells. This LV-based method has the potential to generate new hypotheses for evaluating the mechanisms of action, and potential adverse effects, of both established and experimental drugs.\n"
     ]
    }
   ],
   "source": [
    "par1 = process_paragraph(mod_section_paragraphs[2])\n",
    "print(par1)"
   ]
  },
  {
   "cell_type": "code",
   "execution_count": 187,
   "id": "1b63a1b9-3f26-4699-b39c-a1ace66c05ff",
   "metadata": {
    "papermill": {
     "duration": 0.02941,
     "end_time": "2024-03-20T21:35:19.533552",
     "exception": false,
     "start_time": "2024-03-20T21:35:19.504142",
     "status": "completed"
    },
    "tags": []
   },
   "outputs": [],
   "source": [
    "paragraph_matches.append(\n",
    "    (\n",
    "        section_name,\n",
    "        par0,\n",
    "        par1,\n",
    "    )\n",
    ")"
   ]
  },
  {
   "cell_type": "code",
   "execution_count": 188,
   "id": "f096fe93-a618-4836-85b5-b011bd9189e4",
   "metadata": {
    "papermill": {
     "duration": 0.030165,
     "end_time": "2024-03-20T21:35:19.589365",
     "exception": false,
     "start_time": "2024-03-20T21:35:19.559200",
     "status": "completed"
    },
    "tags": []
   },
   "outputs": [
    {
     "data": {
      "text/plain": [
       "('discussion',\n",
       " 'Using our gene module perspective, we also integrated drug-induced transcriptional profiles, which allowed us to connect diseases, drugs, and cell types. We showed that the LV-based drug-repurposing approach outperformed the gene-based one when predicting drug-disease links for 322 drugs across 53 diseases. Furthermore, and beyond statistical prediction, we focused on cardiovascular traits and a particular drug, niacin, to show that the approach connects pathophysiological processes with known mechanisms of action, including those in adipose tissue, immune cells, and ovarian granulosa cells. Our LV-based approach could be helpful in generating novel hypotheses to evaluate potential mechanisms of action, or even adverse effects, of known or experimental drugs.',\n",
       " 'Utilizing our gene module perspective, we also incorporated drug-induced transcriptional profiles to establish connections between diseases, drugs, and cell types. Our study demonstrated that the latent variable (LV) based drug-repurposing method performed better than the gene-based approach in predicting links between drugs and diseases, analyzing 322 drugs across 53 diseases. Additionally, we focused on cardiovascular traits and the drug niacin to illustrate how our approach can link pathophysiological processes with known mechanisms of action, specifically in adipose tissue, immune cells, and ovarian granulosa cells. This LV-based method has the potential to generate new hypotheses for evaluating the mechanisms of action, and potential adverse effects, of both established and experimental drugs.')"
      ]
     },
     "metadata": {},
     "output_type": "display_data"
    }
   ],
   "source": [
    "display(paragraph_matches[-1])"
   ]
  },
  {
   "cell_type": "markdown",
   "id": "897b56fb-65f4-47f3-a02d-4c32c91ba5eb",
   "metadata": {
    "editable": true,
    "papermill": {
     "duration": 0.026082,
     "end_time": "2024-03-20T21:35:19.641093",
     "exception": false,
     "start_time": "2024-03-20T21:35:19.615011",
     "status": "completed"
    },
    "slideshow": {
     "slide_type": ""
    },
    "tags": []
   },
   "source": [
    "####  Paragraph 02"
   ]
  },
  {
   "cell_type": "code",
   "execution_count": 189,
   "id": "36f25595-58d4-4f3e-b34b-bf4cc68c0604",
   "metadata": {
    "papermill": {
     "duration": 0.029658,
     "end_time": "2024-03-20T21:35:19.696419",
     "exception": false,
     "start_time": "2024-03-20T21:35:19.666761",
     "status": "completed"
    },
    "tags": []
   },
   "outputs": [
    {
     "name": "stdout",
     "output_type": "stream",
     "text": [
      "We found that the analysis of associations through latent representations provided reasonable groupings of diseases and traits affected by shared and distinct transcriptional mechanisms expressed in highly relevant tissues. Our cluster analysis approach also detected the LVs that were most discriminative for each cluster. Several of these LVs were also significantly associated with different traits. Some LVs were strongly aligned with known pathways, but others (like LV57) were not, which might represent novel disease-relevant mechanisms. In some cases, the features/LVs linked to phenotypes appear to be associated with specific cell types. Associations with such cell type marker genes may reveal potentially causal cell types for a phenotype with more precision. We observed modules expressed primarily in one tissue (such as adipose in LV246 or ovary in LV66). Others appeared to be expressed in many contexts, which may capture pathways associated with related complex diseases. For example, LV136 is associated with cardiovascular disease and measures of corneal biomechanics and is expressed in fibroblasts, osteoblasts, pancreas, liver, and cardiomyocytes, among others. Other examples include LV844, expressed in whole blood samples and associated with a range of autoimmune diseases; or LV57, which is clearly expressed in T cells and strongly associated with autoimmune and venous thromboembolism. From an omnigenic point of view, these patterns might represent cases of \"network pleiotropy,\" where the same cell types mediate molecularly related traits. To our knowledge, projection through a representation learned on complementary but distinct datasets is a novel approach to identifying cell type and pathway effects on complex phenotypes that is computationally simple to implement.\n"
     ]
    }
   ],
   "source": [
    "par0 = process_paragraph(orig_section_paragraphs[3])\n",
    "print(par0)"
   ]
  },
  {
   "cell_type": "code",
   "execution_count": 190,
   "id": "0ca440d7-4752-4c1c-a18d-baafb271c30a",
   "metadata": {
    "papermill": {
     "duration": 0.029676,
     "end_time": "2024-03-20T21:35:19.751517",
     "exception": false,
     "start_time": "2024-03-20T21:35:19.721841",
     "status": "completed"
    },
    "tags": []
   },
   "outputs": [
    {
     "name": "stdout",
     "output_type": "stream",
     "text": [
      "Our analysis of genetic associations through latent representations revealed groupings of diseases and traits impacted by shared and distinct transcriptional mechanisms in relevant tissues. The cluster analysis approach identified discriminative latent variables (LVs) for each cluster, some of which were significantly associated with different traits. While some LVs aligned with known pathways, others like LV57 may represent novel disease-relevant mechanisms. Associations with cell type marker genes could pinpoint causal cell types for specific phenotypes more accurately. We observed modules primarily expressed in specific tissues, such as adipose in LV246 or ovary in LV66, while others seemed to be expressed across multiple contexts, potentially capturing pathways related to complex diseases. For instance, LV136, associated with cardiovascular disease and corneal biomechanics, was expressed in various cell types including fibroblasts, osteoblasts, pancreas, liver, and cardiomyocytes. Another example is LV844, expressed in whole blood samples and linked to autoimmune diseases, or LV57, expressed in T cells and associated with autoimmune conditions and venous thromboembolism. These patterns may reflect instances of \"network pleiotropy,\" where the same cell types influence molecularly related traits. Our approach of projecting through a representation learned from different datasets offers a new way to uncover cell type and pathway effects on complex phenotypes in a computationally straightforward manner.\n"
     ]
    }
   ],
   "source": [
    "par1 = process_paragraph(mod_section_paragraphs[3])\n",
    "print(par1)"
   ]
  },
  {
   "cell_type": "code",
   "execution_count": 191,
   "id": "23e42c9b-0bec-4243-abf1-4f9b805a7897",
   "metadata": {
    "papermill": {
     "duration": 0.029525,
     "end_time": "2024-03-20T21:35:19.806750",
     "exception": false,
     "start_time": "2024-03-20T21:35:19.777225",
     "status": "completed"
    },
    "tags": []
   },
   "outputs": [],
   "source": [
    "paragraph_matches.append(\n",
    "    (\n",
    "        section_name,\n",
    "        par0,\n",
    "        par1,\n",
    "    )\n",
    ")"
   ]
  },
  {
   "cell_type": "code",
   "execution_count": 192,
   "id": "61e5c7e8-bc8c-451f-a7bb-79e5fc93e166",
   "metadata": {
    "papermill": {
     "duration": 0.030191,
     "end_time": "2024-03-20T21:35:19.862512",
     "exception": false,
     "start_time": "2024-03-20T21:35:19.832321",
     "status": "completed"
    },
    "tags": []
   },
   "outputs": [
    {
     "data": {
      "text/plain": [
       "('discussion',\n",
       " 'We found that the analysis of associations through latent representations provided reasonable groupings of diseases and traits affected by shared and distinct transcriptional mechanisms expressed in highly relevant tissues. Our cluster analysis approach also detected the LVs that were most discriminative for each cluster. Several of these LVs were also significantly associated with different traits. Some LVs were strongly aligned with known pathways, but others (like LV57) were not, which might represent novel disease-relevant mechanisms. In some cases, the features/LVs linked to phenotypes appear to be associated with specific cell types. Associations with such cell type marker genes may reveal potentially causal cell types for a phenotype with more precision. We observed modules expressed primarily in one tissue (such as adipose in LV246 or ovary in LV66). Others appeared to be expressed in many contexts, which may capture pathways associated with related complex diseases. For example, LV136 is associated with cardiovascular disease and measures of corneal biomechanics and is expressed in fibroblasts, osteoblasts, pancreas, liver, and cardiomyocytes, among others. Other examples include LV844, expressed in whole blood samples and associated with a range of autoimmune diseases; or LV57, which is clearly expressed in T cells and strongly associated with autoimmune and venous thromboembolism. From an omnigenic point of view, these patterns might represent cases of \"network pleiotropy,\" where the same cell types mediate molecularly related traits. To our knowledge, projection through a representation learned on complementary but distinct datasets is a novel approach to identifying cell type and pathway effects on complex phenotypes that is computationally simple to implement.',\n",
       " 'Our analysis of genetic associations through latent representations revealed groupings of diseases and traits impacted by shared and distinct transcriptional mechanisms in relevant tissues. The cluster analysis approach identified discriminative latent variables (LVs) for each cluster, some of which were significantly associated with different traits. While some LVs aligned with known pathways, others like LV57 may represent novel disease-relevant mechanisms. Associations with cell type marker genes could pinpoint causal cell types for specific phenotypes more accurately. We observed modules primarily expressed in specific tissues, such as adipose in LV246 or ovary in LV66, while others seemed to be expressed across multiple contexts, potentially capturing pathways related to complex diseases. For instance, LV136, associated with cardiovascular disease and corneal biomechanics, was expressed in various cell types including fibroblasts, osteoblasts, pancreas, liver, and cardiomyocytes. Another example is LV844, expressed in whole blood samples and linked to autoimmune diseases, or LV57, expressed in T cells and associated with autoimmune conditions and venous thromboembolism. These patterns may reflect instances of \"network pleiotropy,\" where the same cell types influence molecularly related traits. Our approach of projecting through a representation learned from different datasets offers a new way to uncover cell type and pathway effects on complex phenotypes in a computationally straightforward manner.')"
      ]
     },
     "metadata": {},
     "output_type": "display_data"
    }
   ],
   "source": [
    "display(paragraph_matches[-1])"
   ]
  },
  {
   "cell_type": "markdown",
   "id": "b9824a80-2db9-48b3-aebf-39dc5bd310db",
   "metadata": {
    "editable": true,
    "papermill": {
     "duration": 0.025466,
     "end_time": "2024-03-20T21:35:19.913636",
     "exception": false,
     "start_time": "2024-03-20T21:35:19.888170",
     "status": "completed"
    },
    "slideshow": {
     "slide_type": ""
    },
    "tags": []
   },
   "source": [
    "####  Paragraph 03"
   ]
  },
  {
   "cell_type": "code",
   "execution_count": 193,
   "id": "8fea8a5e-a1ef-4146-869b-5f6949e81b36",
   "metadata": {
    "papermill": {
     "duration": 0.029841,
     "end_time": "2024-03-20T21:35:19.969126",
     "exception": false,
     "start_time": "2024-03-20T21:35:19.939285",
     "status": "completed"
    },
    "tags": []
   },
   "outputs": [
    {
     "name": "stdout",
     "output_type": "stream",
     "text": [
      "We also demonstrated that clustering trees, introduced initially as a means to examine developmental processes in single-cell data, provide a multi-resolution grouping of phenotypes based on latent variable associations. We employed hard-partitioning algorithms (one trait belongs exclusively to one cluster) where the distance between two traits takes into account all gene modules. However, it is also plausible for two complex diseases to share only a few biological processes instead of being similar across most of them. Another important consideration is that our TWAS results were derived from a large set of GWAS of different sample sizes and qualities. Although the potential issues derived from this data heterogeneity were addressed before performing our cluster analyses on traits, data preprocessing steps are always challenging and might not avoid bias altogether. Considering groups of related diseases was previously shown to be more powerful in detecting shared genetic etiology [@doi:10.1038/ng.3985; @doi:10.1038/s41588-018-0121-0], and clustering trees provide a way to explore such relationships in the context of latent variables.\n"
     ]
    }
   ],
   "source": [
    "par0 = process_paragraph(orig_section_paragraphs[4])\n",
    "print(par0)"
   ]
  },
  {
   "cell_type": "code",
   "execution_count": 194,
   "id": "66ec1e72-9a45-4a64-bc99-295cd0882f50",
   "metadata": {
    "papermill": {
     "duration": 0.029739,
     "end_time": "2024-03-20T21:35:20.024544",
     "exception": false,
     "start_time": "2024-03-20T21:35:19.994805",
     "status": "completed"
    },
    "tags": []
   },
   "outputs": [
    {
     "name": "stdout",
     "output_type": "stream",
     "text": [
      "We have also shown that clustering trees, originally introduced to study developmental processes in single-cell data, can group phenotypes based on associations with latent variables at multiple levels of resolution. We used hard-partitioning algorithms, where each trait is assigned exclusively to one cluster, and the distance between traits considers all gene modules. However, it is possible for two complex diseases to share only a few biological processes rather than being similar across most of them. It is important to note that our Transcriptome-Wide Association Study (TWAS) results were based on a large set of Genome-Wide Association Studies (GWAS) with varying sample sizes and qualities. While we addressed potential issues arising from this data heterogeneity before conducting our cluster analyses, data preprocessing steps are always challenging and may not completely eliminate bias. Previous research has shown that considering groups of related diseases can be more effective in identifying shared genetic causes, and clustering trees offer a way to explore these relationships in the context of latent variables.\n"
     ]
    }
   ],
   "source": [
    "par1 = process_paragraph(mod_section_paragraphs[4])\n",
    "print(par1)"
   ]
  },
  {
   "cell_type": "code",
   "execution_count": 195,
   "id": "3d4e0f2a-0d75-47ec-8754-e1ebf6d054d0",
   "metadata": {
    "papermill": {
     "duration": 0.02963,
     "end_time": "2024-03-20T21:35:20.079887",
     "exception": false,
     "start_time": "2024-03-20T21:35:20.050257",
     "status": "completed"
    },
    "tags": []
   },
   "outputs": [],
   "source": [
    "paragraph_matches.append(\n",
    "    (\n",
    "        section_name,\n",
    "        par0,\n",
    "        par1,\n",
    "    )\n",
    ")"
   ]
  },
  {
   "cell_type": "code",
   "execution_count": 196,
   "id": "b72cf403-a57e-4ca8-8188-0c4cece1baaf",
   "metadata": {
    "papermill": {
     "duration": 0.030421,
     "end_time": "2024-03-20T21:35:20.136059",
     "exception": false,
     "start_time": "2024-03-20T21:35:20.105638",
     "status": "completed"
    },
    "tags": []
   },
   "outputs": [
    {
     "data": {
      "text/plain": [
       "('discussion',\n",
       " 'We also demonstrated that clustering trees, introduced initially as a means to examine developmental processes in single-cell data, provide a multi-resolution grouping of phenotypes based on latent variable associations. We employed hard-partitioning algorithms (one trait belongs exclusively to one cluster) where the distance between two traits takes into account all gene modules. However, it is also plausible for two complex diseases to share only a few biological processes instead of being similar across most of them. Another important consideration is that our TWAS results were derived from a large set of GWAS of different sample sizes and qualities. Although the potential issues derived from this data heterogeneity were addressed before performing our cluster analyses on traits, data preprocessing steps are always challenging and might not avoid bias altogether. Considering groups of related diseases was previously shown to be more powerful in detecting shared genetic etiology [@doi:10.1038/ng.3985; @doi:10.1038/s41588-018-0121-0], and clustering trees provide a way to explore such relationships in the context of latent variables.',\n",
       " 'We have also shown that clustering trees, originally introduced to study developmental processes in single-cell data, can group phenotypes based on associations with latent variables at multiple levels of resolution. We used hard-partitioning algorithms, where each trait is assigned exclusively to one cluster, and the distance between traits considers all gene modules. However, it is possible for two complex diseases to share only a few biological processes rather than being similar across most of them. It is important to note that our Transcriptome-Wide Association Study (TWAS) results were based on a large set of Genome-Wide Association Studies (GWAS) with varying sample sizes and qualities. While we addressed potential issues arising from this data heterogeneity before conducting our cluster analyses, data preprocessing steps are always challenging and may not completely eliminate bias. Previous research has shown that considering groups of related diseases can be more effective in identifying shared genetic causes, and clustering trees offer a way to explore these relationships in the context of latent variables.')"
      ]
     },
     "metadata": {},
     "output_type": "display_data"
    }
   ],
   "source": [
    "display(paragraph_matches[-1])"
   ]
  },
  {
   "cell_type": "markdown",
   "id": "f6d05397-2768-45e6-a419-027cd619d2a3",
   "metadata": {
    "editable": true,
    "papermill": {
     "duration": 0.025748,
     "end_time": "2024-03-20T21:35:20.187716",
     "exception": false,
     "start_time": "2024-03-20T21:35:20.161968",
     "status": "completed"
    },
    "slideshow": {
     "slide_type": ""
    },
    "tags": []
   },
   "source": [
    "####  Paragraph 04"
   ]
  },
  {
   "cell_type": "code",
   "execution_count": 197,
   "id": "e1ac1feb-f6d3-4e48-8afa-d02ec7149e97",
   "metadata": {
    "papermill": {
     "duration": 0.030276,
     "end_time": "2024-03-20T21:35:20.244004",
     "exception": false,
     "start_time": "2024-03-20T21:35:20.213728",
     "status": "completed"
    },
    "tags": []
   },
   "outputs": [
    {
     "name": "stdout",
     "output_type": "stream",
     "text": [
      "Finally, we developed an LV-based regression framework to detect whether gene modules are associated with a trait using TWAS $p$-values. We used PhenomeXcan as a discovery cohort across four thousand traits, and many LV-trait associations replicated in eMERGE. In PhenomeXcan, we found 3,450 significant LV-trait associations (FDR < 0.05) with 686 LVs (out of 987) associated with at least one trait and 1,176 traits associated with at least one LV. In eMERGE, we found 196 significant LV-trait associations, with 116 LVs associated with at least one trait/phecode and 81 traits with at least one LV. We only focused on a few disease types from our trait clusters, but the complete set of associations on other disease domains is available in our [Github repository](https://github.com/greenelab/phenoplier) for future research. As noted in [Methods](#sec:methods:reg), one limitation of the regression approach is that the gene-gene correlations are only approximately accurate, which could lead to false positives if the correlation among the top genes in a module is not precisely captured. The regression model, however, is approximately well-calibrated, and we did not observe inflation when running the method in real data.\n"
     ]
    }
   ],
   "source": [
    "par0 = process_paragraph(orig_section_paragraphs[5])\n",
    "print(par0)"
   ]
  },
  {
   "cell_type": "code",
   "execution_count": 198,
   "id": "f8da7eba-dcac-4036-9be4-6b51fed928ed",
   "metadata": {
    "papermill": {
     "duration": 0.030208,
     "end_time": "2024-03-20T21:35:20.323110",
     "exception": false,
     "start_time": "2024-03-20T21:35:20.292902",
     "status": "completed"
    },
    "tags": []
   },
   "outputs": [
    {
     "name": "stdout",
     "output_type": "stream",
     "text": [
      "We utilized a Latent Variable (LV)-based regression framework to identify associations between gene modules and traits based on TWAS $p$-values. Our analysis was conducted using PhenomeXcan as a discovery cohort, encompassing over four thousand traits, with many of the LV-trait associations being replicated in the eMERGE dataset. In PhenomeXcan, we identified 3,450 significant LV-trait associations (FDR < 0.05), with 686 out of 987 LVs being linked to at least one trait, and 1,176 traits associated with at least one LV. In the eMERGE dataset, we found 196 significant LV-trait associations, with 116 LVs associated with at least one trait/phecode, and 81 traits linked to at least one LV. While we focused on specific disease types within our trait clusters, the comprehensive set of associations across other disease domains can be accessed in our [Github repository](https://github.com/greenelab/phenoplier) for future investigations. It is important to note, as detailed in the [Methods](#sec:methods:reg) section, that a limitation of the regression approach is the approximation of gene-gene correlations, which may result in false positives if the correlation among the top genes in a module is not accurately captured. Despite this limitation, our regression model demonstrates good calibration, as we did not observe inflation when applying the method to real data.\n"
     ]
    }
   ],
   "source": [
    "par1 = process_paragraph(mod_section_paragraphs[5])\n",
    "print(par1)"
   ]
  },
  {
   "cell_type": "code",
   "execution_count": 199,
   "id": "66fcccb7-97ff-4ccc-80ae-6d841c9a4333",
   "metadata": {
    "papermill": {
     "duration": 0.029864,
     "end_time": "2024-03-20T21:35:20.379157",
     "exception": false,
     "start_time": "2024-03-20T21:35:20.349293",
     "status": "completed"
    },
    "tags": []
   },
   "outputs": [],
   "source": [
    "paragraph_matches.append(\n",
    "    (\n",
    "        section_name,\n",
    "        par0,\n",
    "        par1,\n",
    "    )\n",
    ")"
   ]
  },
  {
   "cell_type": "code",
   "execution_count": 200,
   "id": "1487d4c6-de99-4cae-857b-430b29f83e1a",
   "metadata": {
    "papermill": {
     "duration": 0.030705,
     "end_time": "2024-03-20T21:35:20.435892",
     "exception": false,
     "start_time": "2024-03-20T21:35:20.405187",
     "status": "completed"
    },
    "tags": []
   },
   "outputs": [
    {
     "data": {
      "text/plain": [
       "('discussion',\n",
       " 'Finally, we developed an LV-based regression framework to detect whether gene modules are associated with a trait using TWAS $p$-values. We used PhenomeXcan as a discovery cohort across four thousand traits, and many LV-trait associations replicated in eMERGE. In PhenomeXcan, we found 3,450 significant LV-trait associations (FDR < 0.05) with 686 LVs (out of 987) associated with at least one trait and 1,176 traits associated with at least one LV. In eMERGE, we found 196 significant LV-trait associations, with 116 LVs associated with at least one trait/phecode and 81 traits with at least one LV. We only focused on a few disease types from our trait clusters, but the complete set of associations on other disease domains is available in our [Github repository](https://github.com/greenelab/phenoplier) for future research. As noted in [Methods](#sec:methods:reg), one limitation of the regression approach is that the gene-gene correlations are only approximately accurate, which could lead to false positives if the correlation among the top genes in a module is not precisely captured. The regression model, however, is approximately well-calibrated, and we did not observe inflation when running the method in real data.',\n",
       " 'We utilized a Latent Variable (LV)-based regression framework to identify associations between gene modules and traits based on TWAS $p$-values. Our analysis was conducted using PhenomeXcan as a discovery cohort, encompassing over four thousand traits, with many of the LV-trait associations being replicated in the eMERGE dataset. In PhenomeXcan, we identified 3,450 significant LV-trait associations (FDR < 0.05), with 686 out of 987 LVs being linked to at least one trait, and 1,176 traits associated with at least one LV. In the eMERGE dataset, we found 196 significant LV-trait associations, with 116 LVs associated with at least one trait/phecode, and 81 traits linked to at least one LV. While we focused on specific disease types within our trait clusters, the comprehensive set of associations across other disease domains can be accessed in our [Github repository](https://github.com/greenelab/phenoplier) for future investigations. It is important to note, as detailed in the [Methods](#sec:methods:reg) section, that a limitation of the regression approach is the approximation of gene-gene correlations, which may result in false positives if the correlation among the top genes in a module is not accurately captured. Despite this limitation, our regression model demonstrates good calibration, as we did not observe inflation when applying the method to real data.')"
      ]
     },
     "metadata": {},
     "output_type": "display_data"
    }
   ],
   "source": [
    "display(paragraph_matches[-1])"
   ]
  },
  {
   "cell_type": "markdown",
   "id": "6490bb55-8004-4e13-963e-1baa8489f6ab",
   "metadata": {
    "editable": true,
    "papermill": {
     "duration": 0.025859,
     "end_time": "2024-03-20T21:35:20.487802",
     "exception": false,
     "start_time": "2024-03-20T21:35:20.461943",
     "status": "completed"
    },
    "slideshow": {
     "slide_type": ""
    },
    "tags": []
   },
   "source": [
    "####  Paragraph 05"
   ]
  },
  {
   "cell_type": "code",
   "execution_count": 201,
   "id": "86ade612-a79b-4270-99d5-b403b0272c17",
   "metadata": {
    "papermill": {
     "duration": 0.029941,
     "end_time": "2024-03-20T21:35:20.543726",
     "exception": false,
     "start_time": "2024-03-20T21:35:20.513785",
     "status": "completed"
    },
    "tags": []
   },
   "outputs": [
    {
     "name": "stdout",
     "output_type": "stream",
     "text": [
      "Our approach rests on the assumption that gene modules with coordinated expression patterns will also manifest coordinated pathological effects. Our implementation in this work integrates two complementary approaches. The first is MultiPLIER, which extracts latent variables from large expression datasets, and these LVs could represent either real transcriptional processes or technical factors (\"batch effects\"). We used a previously published model derived from recount2, which was designed to analyze rare disorders but might not be the optimal latent representation for the wide range of complex diseases considered here. Also, the underlying factorization method rests on linear combinations of variables, which could miss important and more complex co-expression patterns. In addition, recount2, the training dataset used, has since been surpassed in size and scale by other resources [@doi:10.1038/s41467-018-03751-6; @doi:10.1101/2021.05.21.445138]. However, it is important to note that our models impose very few assumptions on the latent expression representation. Therefore, we should be able to easily replace MultiPLIER with other similar approaches like GenomicSuperSignature [@doi:10.1038/s41467-022-31411-3]. The second approach we used in this study is TWAS, where we are only considering the hypothesis that GWAS loci affect traits via changes in gene expression. Other effects, such as coding variants disrupting protein-protein interactions, are not captured. Additionally, TWAS has several limitations that can lead to false positives [@doi:10.1038/s41588-019-0385-z; @doi:10.1016/j.ajhg.2020.11.012]. Like GWAS, which generally detects groups of associated variants in linkage disequilibrium (LD), TWAS usually identifies several genes within the same locus [@doi:10.1038/s41588-018-0092-1; @doi:10.1038/ng.3367]. This is due to sharing of GWAS variants in gene expression models, correlated expression of nearby genes, or even correlation of their predicted expression due to eQTLs in LD, among others [@doi:10.1038/s41588-019-0385-z]. Our LV-based regression framework, however, accounts for these gene-gene correlations in TWAS reasonably well.\n"
     ]
    }
   ],
   "source": [
    "par0 = process_paragraph(orig_section_paragraphs[6])\n",
    "print(par0)"
   ]
  },
  {
   "cell_type": "code",
   "execution_count": 203,
   "id": "0affd988-bc27-498c-b4e6-d8073791510a",
   "metadata": {
    "papermill": {
     "duration": 0.030121,
     "end_time": "2024-03-20T21:35:20.600038",
     "exception": false,
     "start_time": "2024-03-20T21:35:20.569917",
     "status": "completed"
    },
    "tags": []
   },
   "outputs": [
    {
     "name": "stdout",
     "output_type": "stream",
     "text": [
      "Our study is based on the idea that genes that are expressed together will also have similar effects on diseases. We used two main methods in our research. The first method, MultiPLIER, extracts hidden variables from large gene expression datasets, which could represent real gene expression processes or technical factors. We used a model from recount2, which was originally designed for rare disorders and may not be ideal for the wide range of complex diseases we are studying. Additionally, the method used in MultiPLIER relies on linear combinations of variables, which may overlook important and more complex patterns of gene expression. Furthermore, recount2, the dataset we used for training, has been surpassed in size and scale by newer resources. However, our models do not make many assumptions about gene expression patterns, so we could easily replace MultiPLIER with similar approaches like GenomicSuperSignature. The second method we used in our study is TWAS, where we are focusing on the idea that genetic variants identified in GWAS affect traits through changes in gene expression. TWAS has limitations that can lead to false results, such as identifying multiple genes in the same genetic locus. Our regression framework based on hidden variables, however, addresses these gene-gene correlations in TWAS effectively.\n"
     ]
    }
   ],
   "source": [
    "par1 = process_paragraph(mod_section_paragraphs[6:8])\n",
    "print(par1)"
   ]
  },
  {
   "cell_type": "code",
   "execution_count": 204,
   "id": "66a3ff5c-d563-4bbf-b900-e77fc94cd6bc",
   "metadata": {
    "papermill": {
     "duration": 0.030005,
     "end_time": "2024-03-20T21:35:20.656355",
     "exception": false,
     "start_time": "2024-03-20T21:35:20.626350",
     "status": "completed"
    },
    "tags": []
   },
   "outputs": [],
   "source": [
    "paragraph_matches.append(\n",
    "    (\n",
    "        section_name,\n",
    "        par0,\n",
    "        par1,\n",
    "    )\n",
    ")"
   ]
  },
  {
   "cell_type": "code",
   "execution_count": 205,
   "id": "be401e36-b2d9-4533-be76-cb1ba54f6ecb",
   "metadata": {
    "papermill": {
     "duration": 0.030939,
     "end_time": "2024-03-20T21:35:20.713419",
     "exception": false,
     "start_time": "2024-03-20T21:35:20.682480",
     "status": "completed"
    },
    "tags": []
   },
   "outputs": [
    {
     "data": {
      "text/plain": [
       "('discussion',\n",
       " 'Our approach rests on the assumption that gene modules with coordinated expression patterns will also manifest coordinated pathological effects. Our implementation in this work integrates two complementary approaches. The first is MultiPLIER, which extracts latent variables from large expression datasets, and these LVs could represent either real transcriptional processes or technical factors (\"batch effects\"). We used a previously published model derived from recount2, which was designed to analyze rare disorders but might not be the optimal latent representation for the wide range of complex diseases considered here. Also, the underlying factorization method rests on linear combinations of variables, which could miss important and more complex co-expression patterns. In addition, recount2, the training dataset used, has since been surpassed in size and scale by other resources [@doi:10.1038/s41467-018-03751-6; @doi:10.1101/2021.05.21.445138]. However, it is important to note that our models impose very few assumptions on the latent expression representation. Therefore, we should be able to easily replace MultiPLIER with other similar approaches like GenomicSuperSignature [@doi:10.1038/s41467-022-31411-3]. The second approach we used in this study is TWAS, where we are only considering the hypothesis that GWAS loci affect traits via changes in gene expression. Other effects, such as coding variants disrupting protein-protein interactions, are not captured. Additionally, TWAS has several limitations that can lead to false positives [@doi:10.1038/s41588-019-0385-z; @doi:10.1016/j.ajhg.2020.11.012]. Like GWAS, which generally detects groups of associated variants in linkage disequilibrium (LD), TWAS usually identifies several genes within the same locus [@doi:10.1038/s41588-018-0092-1; @doi:10.1038/ng.3367]. This is due to sharing of GWAS variants in gene expression models, correlated expression of nearby genes, or even correlation of their predicted expression due to eQTLs in LD, among others [@doi:10.1038/s41588-019-0385-z]. Our LV-based regression framework, however, accounts for these gene-gene correlations in TWAS reasonably well.',\n",
       " 'Our study is based on the idea that genes that are expressed together will also have similar effects on diseases. We used two main methods in our research. The first method, MultiPLIER, extracts hidden variables from large gene expression datasets, which could represent real gene expression processes or technical factors. We used a model from recount2, which was originally designed for rare disorders and may not be ideal for the wide range of complex diseases we are studying. Additionally, the method used in MultiPLIER relies on linear combinations of variables, which may overlook important and more complex patterns of gene expression. Furthermore, recount2, the dataset we used for training, has been surpassed in size and scale by newer resources. However, our models do not make many assumptions about gene expression patterns, so we could easily replace MultiPLIER with similar approaches like GenomicSuperSignature. The second method we used in our study is TWAS, where we are focusing on the idea that genetic variants identified in GWAS affect traits through changes in gene expression. TWAS has limitations that can lead to false results, such as identifying multiple genes in the same genetic locus. Our regression framework based on hidden variables, however, addresses these gene-gene correlations in TWAS effectively.')"
      ]
     },
     "metadata": {},
     "output_type": "display_data"
    }
   ],
   "source": [
    "display(paragraph_matches[-1])"
   ]
  },
  {
   "cell_type": "markdown",
   "id": "d080117b-9e27-47ce-9b2f-b01c70e365c7",
   "metadata": {
    "editable": true,
    "papermill": {
     "duration": 0.026066,
     "end_time": "2024-03-20T21:35:20.765668",
     "exception": false,
     "start_time": "2024-03-20T21:35:20.739602",
     "status": "completed"
    },
    "slideshow": {
     "slide_type": ""
    },
    "tags": []
   },
   "source": [
    "####  Paragraph 06"
   ]
  },
  {
   "cell_type": "code",
   "execution_count": 206,
   "id": "4ca66dfa-862c-4ed3-a7ce-ad587271bf8a",
   "metadata": {
    "papermill": {
     "duration": 0.030404,
     "end_time": "2024-03-20T21:35:20.822166",
     "exception": false,
     "start_time": "2024-03-20T21:35:20.791762",
     "status": "completed"
    },
    "tags": []
   },
   "outputs": [
    {
     "name": "stdout",
     "output_type": "stream",
     "text": [
      "Our findings are concordant with previous studies showing that drugs with genetic support are more likely to succeed through the drug development pipeline [@doi:10.1038/ng.3314; @doi:10.1038/nn.4618]. In this case, projecting association results through latent variables better prioritized disease-treatment pairs than considering single-gene effects alone. An additional benefit is that the latent variables driving predictions represent interpretable genetic features that can be examined to infer potential mechanisms of action. Here we prioritized drugs for diseases with very different tissue etiologies, and a challenge of the approach is to select the most appropriate tissue model from TWAS to find reversed transcriptome patterns between genes and drug-induced perturbations.\n"
     ]
    }
   ],
   "source": [
    "par0 = process_paragraph(orig_section_paragraphs[7])\n",
    "print(par0)"
   ]
  },
  {
   "cell_type": "code",
   "execution_count": 207,
   "id": "799fb0c0-15ed-4b7e-8a16-0dd33bdf81b1",
   "metadata": {
    "papermill": {
     "duration": 0.030137,
     "end_time": "2024-03-20T21:35:20.878385",
     "exception": false,
     "start_time": "2024-03-20T21:35:20.848248",
     "status": "completed"
    },
    "tags": []
   },
   "outputs": [
    {
     "name": "stdout",
     "output_type": "stream",
     "text": [
      "Our findings align with previous research indicating that drugs with genetic support are more likely to succeed in the drug development pipeline (Smith et al., 2018; Johnson et al., 2019). In this study, projecting association results through latent variables proved to be more effective in prioritizing disease-treatment pairs compared to focusing solely on single-gene effects. A key advantage of this approach is that the latent variables used in predictions represent understandable genetic characteristics that can offer insights into potential mechanisms of action. In our analysis, we prioritized drugs for diseases with diverse tissue origins, highlighting the challenge of selecting the most suitable tissue model from Transcriptome-Wide Association Studies (TWAS) to identify reversed transcriptome patterns between genes and drug-induced changes.\n"
     ]
    }
   ],
   "source": [
    "par1 = process_paragraph(mod_section_paragraphs[8])\n",
    "print(par1)"
   ]
  },
  {
   "cell_type": "code",
   "execution_count": 208,
   "id": "ef6c17fb-7cd6-4690-8bce-3bc17befc326",
   "metadata": {
    "papermill": {
     "duration": 0.029869,
     "end_time": "2024-03-20T21:35:20.934431",
     "exception": false,
     "start_time": "2024-03-20T21:35:20.904562",
     "status": "completed"
    },
    "tags": []
   },
   "outputs": [],
   "source": [
    "paragraph_matches.append(\n",
    "    (\n",
    "        section_name,\n",
    "        par0,\n",
    "        par1,\n",
    "    )\n",
    ")"
   ]
  },
  {
   "cell_type": "code",
   "execution_count": 209,
   "id": "480aea1d-08f8-4520-b71b-735a9d57dd1e",
   "metadata": {
    "papermill": {
     "duration": 0.030832,
     "end_time": "2024-03-20T21:35:20.991382",
     "exception": false,
     "start_time": "2024-03-20T21:35:20.960550",
     "status": "completed"
    },
    "tags": []
   },
   "outputs": [
    {
     "data": {
      "text/plain": [
       "('discussion',\n",
       " 'Our findings are concordant with previous studies showing that drugs with genetic support are more likely to succeed through the drug development pipeline [@doi:10.1038/ng.3314; @doi:10.1038/nn.4618]. In this case, projecting association results through latent variables better prioritized disease-treatment pairs than considering single-gene effects alone. An additional benefit is that the latent variables driving predictions represent interpretable genetic features that can be examined to infer potential mechanisms of action. Here we prioritized drugs for diseases with very different tissue etiologies, and a challenge of the approach is to select the most appropriate tissue model from TWAS to find reversed transcriptome patterns between genes and drug-induced perturbations.',\n",
       " 'Our findings align with previous research indicating that drugs with genetic support are more likely to succeed in the drug development pipeline (Smith et al., 2018; Johnson et al., 2019). In this study, projecting association results through latent variables proved to be more effective in prioritizing disease-treatment pairs compared to focusing solely on single-gene effects. A key advantage of this approach is that the latent variables used in predictions represent understandable genetic characteristics that can offer insights into potential mechanisms of action. In our analysis, we prioritized drugs for diseases with diverse tissue origins, highlighting the challenge of selecting the most suitable tissue model from Transcriptome-Wide Association Studies (TWAS) to identify reversed transcriptome patterns between genes and drug-induced changes.')"
      ]
     },
     "metadata": {},
     "output_type": "display_data"
    }
   ],
   "source": [
    "display(paragraph_matches[-1])"
   ]
  },
  {
   "cell_type": "markdown",
   "id": "e4024b9d-cd68-42da-8405-b98cd0245115",
   "metadata": {
    "editable": true,
    "papermill": {
     "duration": 0.026066,
     "end_time": "2024-03-20T21:35:20.765668",
     "exception": false,
     "start_time": "2024-03-20T21:35:20.739602",
     "status": "completed"
    },
    "slideshow": {
     "slide_type": ""
    },
    "tags": []
   },
   "source": [
    "####  Paragraph 07"
   ]
  },
  {
   "cell_type": "code",
   "execution_count": 210,
   "id": "183306a9-e067-4125-9343-906ebad1c7a4",
   "metadata": {
    "papermill": {
     "duration": 0.030404,
     "end_time": "2024-03-20T21:35:20.822166",
     "exception": false,
     "start_time": "2024-03-20T21:35:20.791762",
     "status": "completed"
    },
    "tags": []
   },
   "outputs": [
    {
     "name": "stdout",
     "output_type": "stream",
     "text": [
      "Ultimately, the quality of the representations is essential to performance. Here we used a representation derived from a factorization of bulk RNA-seq data. Detailed perturbation datasets and single-cell profiling of tissues, with and without perturbagens, and at various stages of development provide an avenue to generate higher quality and more interpretable representations. On the other hand, the key to interpretability is driven by the annotation of sample metadata. New approaches to infer and annotate with structured metadata are promising and can be directly applied to existing data [@doi:10.1101/2021.05.10.443525]. Rapid improvements in both areas set the stage for latent variable projections to be widely applied to disentangle the genetic basis of complex human phenotypes. By providing a new perspective for a mechanistic understanding of statistical associations from TWAS, our method can generate testable hypotheses for the post-GWAS functional characterization of complex diseases, which will likely be an area of great importance in the coming years.\n"
     ]
    }
   ],
   "source": [
    "par0 = process_paragraph(orig_section_paragraphs[8])\n",
    "print(par0)"
   ]
  },
  {
   "cell_type": "code",
   "execution_count": 211,
   "id": "6fd692c5-e5b1-4be1-bff6-2cef45f36f15",
   "metadata": {
    "papermill": {
     "duration": 0.030137,
     "end_time": "2024-03-20T21:35:20.878385",
     "exception": false,
     "start_time": "2024-03-20T21:35:20.848248",
     "status": "completed"
    },
    "tags": []
   },
   "outputs": [
    {
     "name": "stdout",
     "output_type": "stream",
     "text": [
      "Ultimately, the quality of the representations is crucial for performance. In this study, we utilized a representation obtained from a factorization of bulk RNA-seq data. More detailed perturbation datasets and single-cell profiling of tissues, both with and without perturbagens, and at different developmental stages, offer a way to create higher quality and more easily understandable representations. The key to interpretability lies in the annotation of sample metadata. New methods for inferring and annotating structured metadata show promise and can be directly applied to existing data (Smith et al., 2021). The rapid advancements in both of these areas pave the way for latent variable projections to be widely used in unraveling the genetic underpinnings of complex human traits. By offering a new perspective to comprehend the statistical associations from TWAS, our approach can propose testable hypotheses for the post-GWAS functional analysis of complex diseases, which is likely to be a crucial area of research in the future.\n"
     ]
    }
   ],
   "source": [
    "par1 = process_paragraph(mod_section_paragraphs[9])\n",
    "print(par1)"
   ]
  },
  {
   "cell_type": "code",
   "execution_count": 212,
   "id": "3f8809fc-2eed-4721-97a4-25511cd2f9de",
   "metadata": {
    "papermill": {
     "duration": 0.029869,
     "end_time": "2024-03-20T21:35:20.934431",
     "exception": false,
     "start_time": "2024-03-20T21:35:20.904562",
     "status": "completed"
    },
    "tags": []
   },
   "outputs": [],
   "source": [
    "paragraph_matches.append(\n",
    "    (\n",
    "        section_name,\n",
    "        par0,\n",
    "        par1,\n",
    "    )\n",
    ")"
   ]
  },
  {
   "cell_type": "code",
   "execution_count": 213,
   "id": "8c696e12-6ecb-4c0f-98d8-042edf9cd199",
   "metadata": {
    "papermill": {
     "duration": 0.030832,
     "end_time": "2024-03-20T21:35:20.991382",
     "exception": false,
     "start_time": "2024-03-20T21:35:20.960550",
     "status": "completed"
    },
    "tags": []
   },
   "outputs": [
    {
     "data": {
      "text/plain": [
       "('discussion',\n",
       " 'Ultimately, the quality of the representations is essential to performance. Here we used a representation derived from a factorization of bulk RNA-seq data. Detailed perturbation datasets and single-cell profiling of tissues, with and without perturbagens, and at various stages of development provide an avenue to generate higher quality and more interpretable representations. On the other hand, the key to interpretability is driven by the annotation of sample metadata. New approaches to infer and annotate with structured metadata are promising and can be directly applied to existing data [@doi:10.1101/2021.05.10.443525]. Rapid improvements in both areas set the stage for latent variable projections to be widely applied to disentangle the genetic basis of complex human phenotypes. By providing a new perspective for a mechanistic understanding of statistical associations from TWAS, our method can generate testable hypotheses for the post-GWAS functional characterization of complex diseases, which will likely be an area of great importance in the coming years.',\n",
       " 'Ultimately, the quality of the representations is crucial for performance. In this study, we utilized a representation obtained from a factorization of bulk RNA-seq data. More detailed perturbation datasets and single-cell profiling of tissues, both with and without perturbagens, and at different developmental stages, offer a way to create higher quality and more easily understandable representations. The key to interpretability lies in the annotation of sample metadata. New methods for inferring and annotating structured metadata show promise and can be directly applied to existing data (Smith et al., 2021). The rapid advancements in both of these areas pave the way for latent variable projections to be widely used in unraveling the genetic underpinnings of complex human traits. By offering a new perspective to comprehend the statistical associations from TWAS, our approach can propose testable hypotheses for the post-GWAS functional analysis of complex diseases, which is likely to be a crucial area of research in the future.')"
      ]
     },
     "metadata": {},
     "output_type": "display_data"
    }
   ],
   "source": [
    "display(paragraph_matches[-1])"
   ]
  },
  {
   "cell_type": "markdown",
   "id": "59e442fb-dfda-434d-b1d4-265fbe96ccfc",
   "metadata": {
    "editable": true,
    "papermill": {
     "duration": 0.026196,
     "end_time": "2024-03-20T21:35:21.043788",
     "exception": false,
     "start_time": "2024-03-20T21:35:21.017592",
     "status": "completed"
    },
    "slideshow": {
     "slide_type": ""
    },
    "tags": []
   },
   "source": [
    "## Methods"
   ]
  },
  {
   "cell_type": "code",
   "execution_count": 214,
   "id": "42676dcc-e716-44d9-a957-db23dd90e123",
   "metadata": {
    "papermill": {
     "duration": 0.030025,
     "end_time": "2024-03-20T21:35:21.099982",
     "exception": false,
     "start_time": "2024-03-20T21:35:21.069957",
     "status": "completed"
    },
    "tags": []
   },
   "outputs": [],
   "source": [
    "section_name = \"methods\""
   ]
  },
  {
   "cell_type": "code",
   "execution_count": 216,
   "id": "8f280817-fdf2-447f-b74f-a496c7034555",
   "metadata": {
    "editable": true,
    "papermill": {
     "duration": 0.030471,
     "end_time": "2024-03-20T21:35:21.156594",
     "exception": false,
     "start_time": "2024-03-20T21:35:21.126123",
     "status": "completed"
    },
    "slideshow": {
     "slide_type": ""
    },
    "tags": []
   },
   "outputs": [
    {
     "name": "stdout",
     "output_type": "stream",
     "text": [
      "content/07.00.methods.md\n"
     ]
    }
   ],
   "source": [
    "pr_filename = pr_files[7].filename\n",
    "assert section_name in pr_filename\n",
    "print(pr_filename)"
   ]
  },
  {
   "cell_type": "markdown",
   "id": "c4466db8-9485-49cc-a08f-dfdf243e1f06",
   "metadata": {
    "editable": true,
    "papermill": {
     "duration": 0.026299,
     "end_time": "2024-03-20T21:35:21.209162",
     "exception": false,
     "start_time": "2024-03-20T21:35:21.182863",
     "status": "completed"
    },
    "slideshow": {
     "slide_type": ""
    },
    "tags": []
   },
   "source": [
    "### Original"
   ]
  },
  {
   "cell_type": "code",
   "execution_count": 217,
   "id": "d28b84ac-727b-4412-8504-2cb1d9764a91",
   "metadata": {
    "papermill": {
     "duration": 0.189672,
     "end_time": "2024-03-20T21:35:21.425571",
     "exception": false,
     "start_time": "2024-03-20T21:35:21.235899",
     "status": "completed"
    },
    "tags": []
   },
   "outputs": [
    {
     "name": "stdout",
     "output_type": "stream",
     "text": [
      "## Methods {#sec:methods}\n",
      "\n",
      "PhenoPLIER is a framewo\n"
     ]
    }
   ],
   "source": [
    "# get content\n",
    "orig_section_content = repo.get_contents(pr_filename, pr_prev).decoded_content.decode(\n",
    "    \"utf-8\"\n",
    ")\n",
    "print(orig_section_content[:50])"
   ]
  },
  {
   "cell_type": "code",
   "execution_count": 218,
   "id": "18fe5c96-6270-45fe-8f3a-2da927318d82",
   "metadata": {
    "papermill": {
     "duration": 0.043729,
     "end_time": "2024-03-20T21:35:21.508245",
     "exception": false,
     "start_time": "2024-03-20T21:35:21.464516",
     "status": "completed"
    },
    "tags": []
   },
   "outputs": [
    {
     "data": {
      "text/plain": [
       "71"
      ]
     },
     "metadata": {},
     "output_type": "display_data"
    }
   ],
   "source": [
    "# split by paragraph\n",
    "orig_section_paragraphs = orig_section_content.split(\"\\n\\n\")\n",
    "display(len(orig_section_paragraphs))"
   ]
  },
  {
   "cell_type": "markdown",
   "id": "6066a4d2-2696-4e7d-9da4-d1818871259d",
   "metadata": {
    "editable": true,
    "papermill": {
     "duration": 0.026507,
     "end_time": "2024-03-20T21:35:21.561069",
     "exception": false,
     "start_time": "2024-03-20T21:35:21.534562",
     "status": "completed"
    },
    "slideshow": {
     "slide_type": ""
    },
    "tags": []
   },
   "source": [
    "### Modified"
   ]
  },
  {
   "cell_type": "code",
   "execution_count": 219,
   "id": "4e8d95f9-376b-450b-99d5-67891963f997",
   "metadata": {
    "papermill": {
     "duration": 0.235617,
     "end_time": "2024-03-20T21:35:21.822990",
     "exception": false,
     "start_time": "2024-03-20T21:35:21.587373",
     "status": "completed"
    },
    "tags": []
   },
   "outputs": [
    {
     "name": "stdout",
     "output_type": "stream",
     "text": [
      "## Methods {#sec:methods}\n",
      "\n",
      "PhenoPLIER is a framewo\n"
     ]
    }
   ],
   "source": [
    "# get content\n",
    "mod_section_content = repo.get_contents(pr_filename, pr_curr).decoded_content.decode(\n",
    "    \"utf-8\"\n",
    ")\n",
    "print(mod_section_content[:50])"
   ]
  },
  {
   "cell_type": "code",
   "execution_count": 220,
   "id": "6c0d91e9-b334-4b74-9ea5-7080c5e7fa6d",
   "metadata": {
    "papermill": {
     "duration": 0.043653,
     "end_time": "2024-03-20T21:35:21.906251",
     "exception": false,
     "start_time": "2024-03-20T21:35:21.862598",
     "status": "completed"
    },
    "tags": []
   },
   "outputs": [
    {
     "data": {
      "text/plain": [
       "105"
      ]
     },
     "metadata": {},
     "output_type": "display_data"
    }
   ],
   "source": [
    "# split by paragraph\n",
    "mod_section_paragraphs = mod_section_content.split(\"\\n\\n\")\n",
    "display(len(mod_section_paragraphs))"
   ]
  },
  {
   "cell_type": "markdown",
   "id": "f1da0d8d-adc4-4403-be49-4385ea781ac8",
   "metadata": {
    "editable": true,
    "papermill": {
     "duration": 0.026636,
     "end_time": "2024-03-20T21:35:21.959504",
     "exception": false,
     "start_time": "2024-03-20T21:35:21.932868",
     "status": "completed"
    },
    "slideshow": {
     "slide_type": ""
    },
    "tags": []
   },
   "source": [
    "### Match"
   ]
  },
  {
   "cell_type": "code",
   "execution_count": 221,
   "id": "53720cd3-8e0a-4d31-8883-c206026f9e5f",
   "metadata": {
    "papermill": {
     "duration": 0.031386,
     "end_time": "2024-03-20T21:35:22.017602",
     "exception": false,
     "start_time": "2024-03-20T21:35:21.986216",
     "status": "completed"
    },
    "tags": []
   },
   "outputs": [
    {
     "data": {
      "text/plain": [
       "'## Methods {#sec:methods}'"
      ]
     },
     "execution_count": 221,
     "metadata": {},
     "output_type": "execute_result"
    }
   ],
   "source": [
    "orig_section_paragraphs[0]"
   ]
  },
  {
   "cell_type": "code",
   "execution_count": 222,
   "id": "2638f377-a44a-4d05-8fca-bfa9383ca736",
   "metadata": {
    "papermill": {
     "duration": 0.031042,
     "end_time": "2024-03-20T21:35:22.075527",
     "exception": false,
     "start_time": "2024-03-20T21:35:22.044485",
     "status": "completed"
    },
    "tags": []
   },
   "outputs": [
    {
     "data": {
      "text/plain": [
       "'## Methods {#sec:methods}'"
      ]
     },
     "execution_count": 222,
     "metadata": {},
     "output_type": "execute_result"
    }
   ],
   "source": [
    "mod_section_paragraphs[0]"
   ]
  },
  {
   "cell_type": "markdown",
   "id": "639829e1-1463-41b5-b91d-b2bdd319e04e",
   "metadata": {
    "editable": true,
    "papermill": {
     "duration": 0.026793,
     "end_time": "2024-03-20T21:35:22.128948",
     "exception": false,
     "start_time": "2024-03-20T21:35:22.102155",
     "status": "completed"
    },
    "slideshow": {
     "slide_type": ""
    },
    "tags": []
   },
   "source": [
    "####  Paragraph 00"
   ]
  },
  {
   "cell_type": "code",
   "execution_count": 224,
   "id": "bde47e33-80ca-4c52-a420-868e3721fdf3",
   "metadata": {
    "papermill": {
     "duration": 0.030794,
     "end_time": "2024-03-20T21:35:22.186333",
     "exception": false,
     "start_time": "2024-03-20T21:35:22.155539",
     "status": "completed"
    },
    "tags": []
   },
   "outputs": [
    {
     "name": "stdout",
     "output_type": "stream",
     "text": [
      "PhenoPLIER is a framework that combines different computational approaches to integrate gene-trait associations and drug-induced transcriptional responses with groups of functionally-related genes (referred to as gene modules or latent variables/LVs). Gene-trait associations are computed using the PrediXcan family of methods, whereas latent variables are inferred by the MultiPLIER models applied on large gene expression compendia. PhenoPLIER provides 1) a regression model to compute an LV-trait association, 2) a consensus clustering approach applied to the latent space to learn shared and distinct transcriptomic properties between traits, and 3) an interpretable, LV-based drug repurposing framework. We provide the details of these methods below.\n"
     ]
    }
   ],
   "source": [
    "par0 = process_paragraph(orig_section_paragraphs[1])\n",
    "print(par0)"
   ]
  },
  {
   "cell_type": "code",
   "execution_count": 227,
   "id": "a613037a-a64e-43cf-abda-cf0a4a736502",
   "metadata": {
    "papermill": {
     "duration": 0.031321,
     "end_time": "2024-03-20T21:35:22.244328",
     "exception": false,
     "start_time": "2024-03-20T21:35:22.213007",
     "status": "completed"
    },
    "tags": []
   },
   "outputs": [
    {
     "name": "stdout",
     "output_type": "stream",
     "text": [
      "PhenoPLIER is a framework that combines different computational approaches to integrate gene-trait associations and drug-induced transcriptional responses with groups of functionally-related genes (referred to as gene modules or latent variables/LVs). Gene-trait associations are computed using the PrediXcan family of methods, whereas latent variables are inferred by the MultiPLIER models applied on large gene expression compendia. PhenoPLIER provides: 1) A regression model to compute an LV-trait association. 2) A consensus clustering approach applied to the latent space to learn shared and distinct transcriptomic properties between traits. 3) An interpretable, LV-based drug repurposing framework. The details of these methods are provided below.\n"
     ]
    }
   ],
   "source": [
    "par1 = (\n",
    "    process_paragraph(mod_section_paragraphs[1:4])\n",
    ")\n",
    "print(par1)"
   ]
  },
  {
   "cell_type": "code",
   "execution_count": 228,
   "id": "fd5ca3b4-323c-4abf-8cb9-9a9773f4aed1",
   "metadata": {
    "papermill": {
     "duration": 0.030508,
     "end_time": "2024-03-20T21:35:22.301560",
     "exception": false,
     "start_time": "2024-03-20T21:35:22.271052",
     "status": "completed"
    },
    "tags": []
   },
   "outputs": [],
   "source": [
    "paragraph_matches.append(\n",
    "    (\n",
    "        section_name,\n",
    "        par0,\n",
    "        par1,\n",
    "    )\n",
    ")"
   ]
  },
  {
   "cell_type": "code",
   "execution_count": 229,
   "id": "1fb17a25-e891-4ae1-a04f-a58e8eb33558",
   "metadata": {
    "papermill": {
     "duration": 0.031629,
     "end_time": "2024-03-20T21:35:22.360047",
     "exception": false,
     "start_time": "2024-03-20T21:35:22.328418",
     "status": "completed"
    },
    "tags": []
   },
   "outputs": [
    {
     "data": {
      "text/plain": [
       "('methods',\n",
       " 'PhenoPLIER is a framework that combines different computational approaches to integrate gene-trait associations and drug-induced transcriptional responses with groups of functionally-related genes (referred to as gene modules or latent variables/LVs). Gene-trait associations are computed using the PrediXcan family of methods, whereas latent variables are inferred by the MultiPLIER models applied on large gene expression compendia. PhenoPLIER provides 1) a regression model to compute an LV-trait association, 2) a consensus clustering approach applied to the latent space to learn shared and distinct transcriptomic properties between traits, and 3) an interpretable, LV-based drug repurposing framework. We provide the details of these methods below.',\n",
       " 'PhenoPLIER is a framework that combines different computational approaches to integrate gene-trait associations and drug-induced transcriptional responses with groups of functionally-related genes (referred to as gene modules or latent variables/LVs). Gene-trait associations are computed using the PrediXcan family of methods, whereas latent variables are inferred by the MultiPLIER models applied on large gene expression compendia. PhenoPLIER provides: 1) A regression model to compute an LV-trait association. 2) A consensus clustering approach applied to the latent space to learn shared and distinct transcriptomic properties between traits. 3) An interpretable, LV-based drug repurposing framework. The details of these methods are provided below.')"
      ]
     },
     "metadata": {},
     "output_type": "display_data"
    }
   ],
   "source": [
    "display(paragraph_matches[-1])"
   ]
  },
  {
   "cell_type": "markdown",
   "id": "e53a832e-2c58-4ce1-a200-858fdad1cc31",
   "metadata": {
    "editable": true,
    "papermill": {
     "duration": 0.026793,
     "end_time": "2024-03-20T21:35:22.128948",
     "exception": false,
     "start_time": "2024-03-20T21:35:22.102155",
     "status": "completed"
    },
    "slideshow": {
     "slide_type": ""
    },
    "tags": []
   },
   "source": [
    "####  Paragraph 01"
   ]
  },
  {
   "cell_type": "code",
   "execution_count": 234,
   "id": "de328467-032b-4a8d-82ca-8be273596712",
   "metadata": {
    "papermill": {
     "duration": 0.030794,
     "end_time": "2024-03-20T21:35:22.186333",
     "exception": false,
     "start_time": "2024-03-20T21:35:22.155539",
     "status": "completed"
    },
    "tags": []
   },
   "outputs": [
    {
     "name": "stdout",
     "output_type": "stream",
     "text": [
      "Here we briefly provide the details about these TWAS methods that are necessary to explain our regression framework later (see the referenced articles for more information). In the following, we refer to $\\mathbf{y}$ as a vector of traits for $n$ individuals that is centered for convenience (so that no intercept is necessary); $\\tilde{\\mathbf{t}}_l = \\sum_{a \\in \\mathrm{model}_l} w_{a}^{l} X_{a}$ is the gene's predicted expression for all individuals in tissue $l$, $X_a$ is the genotype of SNP $a$ and $w_{a}$ its weight in the tissue prediction model $l$; and $\\mathbf{t}_l$ is the standardized version of $\\tilde{\\mathbf{t}}_l$ with mean equal to zero and standard deviation equal to one.\n"
     ]
    }
   ],
   "source": [
    "par0 = process_paragraph(orig_section_paragraphs[4])\n",
    "print(par0)"
   ]
  },
  {
   "cell_type": "code",
   "execution_count": 240,
   "id": "40976da6-5724-4c9d-b2ef-c59f1902830f",
   "metadata": {
    "papermill": {
     "duration": 0.031321,
     "end_time": "2024-03-20T21:35:22.244328",
     "exception": false,
     "start_time": "2024-03-20T21:35:22.213007",
     "status": "completed"
    },
    "tags": []
   },
   "outputs": [
    {
     "name": "stdout",
     "output_type": "stream",
     "text": [
      "Here we briefly provide the details about the Transcriptome-Wide Association Study (TWAS) methods that are necessary to explain our regression framework later (see the referenced articles for more information). In the following, we refer to $\\mathbf{y}$ as a vector of traits for $n$ individuals that is centered for convenience (so that no intercept is necessary); \n",
      "$$\n",
      "\\tilde{\\mathbf{t}}_l = \\sum_{a \\in \\mathrm{model}_l} w_{a}^{l} X_{a} \n",
      "$$ {#eq:1}\n",
      "is the gene's predicted expression for all individuals in tissue $l$, where $X_a$ is the genotype of SNP $a$ and $w_{a}$ is its weight in the tissue prediction model $l$; and $\\mathbf{t}_l$ is the standardized version of $\\tilde{\\mathbf{t}}_l$ with mean equal to zero and standard deviation equal to one.\n"
     ]
    }
   ],
   "source": [
    "par1 = (\n",
    "    process_paragraph(mod_section_paragraphs[8:11])\n",
    "    .replace(\"$$\", \"\\n$$\")\n",
    "    .replace(\"$$ \\\\tilde\", \"$$\\n\\\\tilde\")\n",
    "    .replace(\"$$ {#eq:1} is\", \"$$ {#eq:1}\\nis\")\n",
    "    # .replace(\"$$ For example\", \"$$\\nFor example\")\n",
    ")\n",
    "print(par1)"
   ]
  },
  {
   "cell_type": "code",
   "execution_count": 241,
   "id": "21dd96c5-a977-4553-be0a-c2feea567a90",
   "metadata": {
    "papermill": {
     "duration": 0.030508,
     "end_time": "2024-03-20T21:35:22.301560",
     "exception": false,
     "start_time": "2024-03-20T21:35:22.271052",
     "status": "completed"
    },
    "tags": []
   },
   "outputs": [],
   "source": [
    "paragraph_matches.append(\n",
    "    (\n",
    "        section_name,\n",
    "        par0,\n",
    "        par1,\n",
    "    )\n",
    ")"
   ]
  },
  {
   "cell_type": "code",
   "execution_count": 242,
   "id": "6d67880d-92ac-452a-9416-204f5366eb6e",
   "metadata": {
    "papermill": {
     "duration": 0.031629,
     "end_time": "2024-03-20T21:35:22.360047",
     "exception": false,
     "start_time": "2024-03-20T21:35:22.328418",
     "status": "completed"
    },
    "tags": []
   },
   "outputs": [
    {
     "data": {
      "text/plain": [
       "('methods',\n",
       " \"Here we briefly provide the details about these TWAS methods that are necessary to explain our regression framework later (see the referenced articles for more information). In the following, we refer to $\\\\mathbf{y}$ as a vector of traits for $n$ individuals that is centered for convenience (so that no intercept is necessary); $\\\\tilde{\\\\mathbf{t}}_l = \\\\sum_{a \\\\in \\\\mathrm{model}_l} w_{a}^{l} X_{a}$ is the gene's predicted expression for all individuals in tissue $l$, $X_a$ is the genotype of SNP $a$ and $w_{a}$ its weight in the tissue prediction model $l$; and $\\\\mathbf{t}_l$ is the standardized version of $\\\\tilde{\\\\mathbf{t}}_l$ with mean equal to zero and standard deviation equal to one.\",\n",
       " \"Here we briefly provide the details about the Transcriptome-Wide Association Study (TWAS) methods that are necessary to explain our regression framework later (see the referenced articles for more information). In the following, we refer to $\\\\mathbf{y}$ as a vector of traits for $n$ individuals that is centered for convenience (so that no intercept is necessary); \\n$$\\n\\\\tilde{\\\\mathbf{t}}_l = \\\\sum_{a \\\\in \\\\mathrm{model}_l} w_{a}^{l} X_{a} \\n$$ {#eq:1}\\nis the gene's predicted expression for all individuals in tissue $l$, where $X_a$ is the genotype of SNP $a$ and $w_{a}$ is its weight in the tissue prediction model $l$; and $\\\\mathbf{t}_l$ is the standardized version of $\\\\tilde{\\\\mathbf{t}}_l$ with mean equal to zero and standard deviation equal to one.\")"
      ]
     },
     "metadata": {},
     "output_type": "display_data"
    }
   ],
   "source": [
    "display(paragraph_matches[-1])"
   ]
  },
  {
   "cell_type": "markdown",
   "id": "ceb8066a-2e39-42eb-a7c6-242cee7992c6",
   "metadata": {
    "editable": true,
    "papermill": {
     "duration": 0.026793,
     "end_time": "2024-03-20T21:35:22.128948",
     "exception": false,
     "start_time": "2024-03-20T21:35:22.102155",
     "status": "completed"
    },
    "slideshow": {
     "slide_type": ""
    },
    "tags": []
   },
   "source": [
    "####  Paragraph 02"
   ]
  },
  {
   "cell_type": "code",
   "execution_count": 254,
   "id": "8ee14b5c-364e-46fa-aa52-f86d0731ec76",
   "metadata": {
    "papermill": {
     "duration": 0.030794,
     "end_time": "2024-03-20T21:35:22.186333",
     "exception": false,
     "start_time": "2024-03-20T21:35:22.155539",
     "status": "completed"
    },
    "tags": []
   },
   "outputs": [
    {
     "name": "stdout",
     "output_type": "stream",
     "text": [
      "S-PrediXcan [@doi:10.1038/s41467-018-03621-1] is the summary version of PrediXcan [@doi:10.1038/ng.3367]. PrediXcan models the trait as a linear function of the gene's expression on a single tissue using the univariate model \n",
      "$$\n",
      "\\mathbf{y} = \\mathbf{t}_l \\gamma_l + \\bm{\\epsilon}_l, \n",
      "$$ {#eq:predixcan}\n",
      "where $\\hat{\\gamma}_l$ is the estimated effect size or regression coefficient, and $\\bm{\\epsilon}_l$ are the error terms with variance $\\sigma_{\\epsilon}^{2}$. The significance of the association is assessed by computing the $z$-score $\\hat{z}_{l}=\\hat{\\gamma}_l / \\mathrm{se}(\\hat{\\gamma}_l)$ for a gene's tissue model $l$. PrediXcan needs individual-level data to fit this model, whereas S-PrediXcan approximates PrediXcan $z$-scores using only GWAS summary statistics with the expression \n",
      "$$\n",
      "\\hat{z}_{l} \\approx \\sum_{a \\in model_{l}} w_a^l \\frac{\\hat{\\sigma}_a}{\\hat{\\sigma}_l} \\frac{\\hat{\\beta}_a}{\\mathrm{se}(\\hat{\\beta}_a)}, \n",
      "$$ {#eq:spredixcan}\n",
      "where $\\hat{\\sigma}_a$ is the variance of SNP $a$, $\\hat{\\sigma}_l$ is the variance of the predicted expression of a gene in tissue $l$, and $\\hat{\\beta}_a$ is the estimated effect size of SNP $a$ from the GWAS. In these TWAS methods, the genotype variances and covariances are always estimated using the Genotype-Tissue Expression project (GTEx v8) [@doi:10.1126/science.aaz1776] as the reference panel. Since S-PrediXcan provides tissue-specific direction of effects (for instance, whether a higher or lower predicted expression of a gene confers more or less disease risk), we used the $z$-scores in our drug repurposing approach (described below).\n"
     ]
    }
   ],
   "source": [
    "par0 = (\n",
    "    process_paragraph(orig_section_paragraphs[5:10])\n",
    "    .replace(\"$$\", \"\\n$$\")\n",
    "    .replace(\"$$ \\\\\", \"$$\\n\\\\\")\n",
    "    .replace(\":predixcan} where\", \":predixcan}\\nwhere\")\n",
    "    .replace(\":spredixcan} where\", \":spredixcan}\\nwhere\")\n",
    ")\n",
    "print(par0)"
   ]
  },
  {
   "cell_type": "code",
   "execution_count": 257,
   "id": "2a21166e-2d8c-49c0-9fb6-7c365cd817a6",
   "metadata": {
    "papermill": {
     "duration": 0.031321,
     "end_time": "2024-03-20T21:35:22.244328",
     "exception": false,
     "start_time": "2024-03-20T21:35:22.213007",
     "status": "completed"
    },
    "tags": []
   },
   "outputs": [
    {
     "name": "stdout",
     "output_type": "stream",
     "text": [
      "S-PrediXcan [@doi:10.1038/s41467-018-03621-1] is the condensed version of PrediXcan [@doi:10.1038/ng.3367]. PrediXcan represents the trait as a linear function of gene expression in a single tissue using the univariate model \n",
      "$$\n",
      "\\mathbf{y} = \\mathbf{t}_l \\gamma_l + \\bm{\\epsilon}_l, \n",
      "$$ {#eq:predixcan}\n",
      "where $\\hat{\\gamma}_l$ is the estimated effect size or regression coefficient, and $\\bm{\\epsilon}_l$ represents the error terms with variance $\\sigma_{\\epsilon}^{2}$. The significance of the association is determined by calculating the $z$-score $\\hat{z}_{l}=\\hat{\\gamma}_l / \\mathrm{se}(\\hat{\\gamma}_l)$ for a gene's tissue model $l$. PrediXcan requires individual-level data to fit this model, while S-PrediXcan approximates PrediXcan $z$-scores using only GWAS summary statistics with the expression \n",
      "$$\n",
      "\\hat{z}_{l} \\approx \\sum_{a \\in model_{l}} w_a^l \\frac{\\hat{\\sigma}_a}{\\hat{\\sigma}_l} \\frac{\\hat{\\beta}_a}{\\mathrm{se}(\\hat{\\beta}_a)}, \n",
      "$$ {#eq:spredixcan}\n",
      "where $\\hat{\\sigma}_a$ is the variance of SNP $a$, $\\hat{\\sigma}_l$ is the variance of the predicted expression of a gene in tissue $l$, and $\\hat{\\beta}_a$ is the estimated effect size of SNP $a$ from the GWAS. In these Transcriptome-Wide Association Study (TWAS) methods, the genotype variances and covariances are estimated using the Genotype-Tissue Expression project (GTEx v8) [@doi:10.1126/science.aaz1776] as the reference panel. As S-PrediXcan offers tissue-specific direction of effects (e.g., whether higher or lower predicted expression of a gene confers more or less disease risk), we utilized the $z$-scores in our drug repurposing approach (described below).\n"
     ]
    }
   ],
   "source": [
    "par1 = (\n",
    "    process_paragraph(mod_section_paragraphs[11:16])\n",
    "    .replace(\"$$\", \"\\n$$\")\n",
    "    .replace(\"$$ \\\\\", \"$$\\n\\\\\")\n",
    "    .replace(\":predixcan} where\", \":predixcan}\\nwhere\")\n",
    "    .replace(\":spredixcan} where\", \":spredixcan}\\nwhere\")\n",
    ")\n",
    "print(par1)"
   ]
  },
  {
   "cell_type": "code",
   "execution_count": 258,
   "id": "eb536983-db56-4eda-9e03-755b8c86aa3c",
   "metadata": {
    "papermill": {
     "duration": 0.030508,
     "end_time": "2024-03-20T21:35:22.301560",
     "exception": false,
     "start_time": "2024-03-20T21:35:22.271052",
     "status": "completed"
    },
    "tags": []
   },
   "outputs": [],
   "source": [
    "paragraph_matches.append(\n",
    "    (\n",
    "        section_name,\n",
    "        par0,\n",
    "        par1,\n",
    "    )\n",
    ")"
   ]
  },
  {
   "cell_type": "code",
   "execution_count": 259,
   "id": "1b095512-5dc7-474d-8334-dcb615d6ec1d",
   "metadata": {
    "papermill": {
     "duration": 0.031629,
     "end_time": "2024-03-20T21:35:22.360047",
     "exception": false,
     "start_time": "2024-03-20T21:35:22.328418",
     "status": "completed"
    },
    "tags": []
   },
   "outputs": [
    {
     "data": {
      "text/plain": [
       "('methods',\n",
       " \"S-PrediXcan [@doi:10.1038/s41467-018-03621-1] is the summary version of PrediXcan [@doi:10.1038/ng.3367]. PrediXcan models the trait as a linear function of the gene's expression on a single tissue using the univariate model \\n$$\\n\\\\mathbf{y} = \\\\mathbf{t}_l \\\\gamma_l + \\\\bm{\\\\epsilon}_l, \\n$$ {#eq:predixcan}\\nwhere $\\\\hat{\\\\gamma}_l$ is the estimated effect size or regression coefficient, and $\\\\bm{\\\\epsilon}_l$ are the error terms with variance $\\\\sigma_{\\\\epsilon}^{2}$. The significance of the association is assessed by computing the $z$-score $\\\\hat{z}_{l}=\\\\hat{\\\\gamma}_l / \\\\mathrm{se}(\\\\hat{\\\\gamma}_l)$ for a gene's tissue model $l$. PrediXcan needs individual-level data to fit this model, whereas S-PrediXcan approximates PrediXcan $z$-scores using only GWAS summary statistics with the expression \\n$$\\n\\\\hat{z}_{l} \\\\approx \\\\sum_{a \\\\in model_{l}} w_a^l \\\\frac{\\\\hat{\\\\sigma}_a}{\\\\hat{\\\\sigma}_l} \\\\frac{\\\\hat{\\\\beta}_a}{\\\\mathrm{se}(\\\\hat{\\\\beta}_a)}, \\n$$ {#eq:spredixcan}\\nwhere $\\\\hat{\\\\sigma}_a$ is the variance of SNP $a$, $\\\\hat{\\\\sigma}_l$ is the variance of the predicted expression of a gene in tissue $l$, and $\\\\hat{\\\\beta}_a$ is the estimated effect size of SNP $a$ from the GWAS. In these TWAS methods, the genotype variances and covariances are always estimated using the Genotype-Tissue Expression project (GTEx v8) [@doi:10.1126/science.aaz1776] as the reference panel. Since S-PrediXcan provides tissue-specific direction of effects (for instance, whether a higher or lower predicted expression of a gene confers more or less disease risk), we used the $z$-scores in our drug repurposing approach (described below).\",\n",
       " \"S-PrediXcan [@doi:10.1038/s41467-018-03621-1] is the condensed version of PrediXcan [@doi:10.1038/ng.3367]. PrediXcan represents the trait as a linear function of gene expression in a single tissue using the univariate model \\n$$\\n\\\\mathbf{y} = \\\\mathbf{t}_l \\\\gamma_l + \\\\bm{\\\\epsilon}_l, \\n$$ {#eq:predixcan}\\nwhere $\\\\hat{\\\\gamma}_l$ is the estimated effect size or regression coefficient, and $\\\\bm{\\\\epsilon}_l$ represents the error terms with variance $\\\\sigma_{\\\\epsilon}^{2}$. The significance of the association is determined by calculating the $z$-score $\\\\hat{z}_{l}=\\\\hat{\\\\gamma}_l / \\\\mathrm{se}(\\\\hat{\\\\gamma}_l)$ for a gene's tissue model $l$. PrediXcan requires individual-level data to fit this model, while S-PrediXcan approximates PrediXcan $z$-scores using only GWAS summary statistics with the expression \\n$$\\n\\\\hat{z}_{l} \\\\approx \\\\sum_{a \\\\in model_{l}} w_a^l \\\\frac{\\\\hat{\\\\sigma}_a}{\\\\hat{\\\\sigma}_l} \\\\frac{\\\\hat{\\\\beta}_a}{\\\\mathrm{se}(\\\\hat{\\\\beta}_a)}, \\n$$ {#eq:spredixcan}\\nwhere $\\\\hat{\\\\sigma}_a$ is the variance of SNP $a$, $\\\\hat{\\\\sigma}_l$ is the variance of the predicted expression of a gene in tissue $l$, and $\\\\hat{\\\\beta}_a$ is the estimated effect size of SNP $a$ from the GWAS. In these Transcriptome-Wide Association Study (TWAS) methods, the genotype variances and covariances are estimated using the Genotype-Tissue Expression project (GTEx v8) [@doi:10.1126/science.aaz1776] as the reference panel. As S-PrediXcan offers tissue-specific direction of effects (e.g., whether higher or lower predicted expression of a gene confers more or less disease risk), we utilized the $z$-scores in our drug repurposing approach (described below).\")"
      ]
     },
     "metadata": {},
     "output_type": "display_data"
    }
   ],
   "source": [
    "display(paragraph_matches[-1])"
   ]
  },
  {
   "cell_type": "markdown",
   "id": "cf8d2950-3c42-46b0-ad7e-b5e7d86c34ff",
   "metadata": {
    "editable": true,
    "papermill": {
     "duration": 0.026793,
     "end_time": "2024-03-20T21:35:22.128948",
     "exception": false,
     "start_time": "2024-03-20T21:35:22.102155",
     "status": "completed"
    },
    "slideshow": {
     "slide_type": ""
    },
    "tags": []
   },
   "source": [
    "####  Paragraph 03"
   ]
  },
  {
   "cell_type": "code",
   "execution_count": 269,
   "id": "ebdf493e-bd60-4da7-9a24-373a6cc3fb09",
   "metadata": {
    "papermill": {
     "duration": 0.030794,
     "end_time": "2024-03-20T21:35:22.186333",
     "exception": false,
     "start_time": "2024-03-20T21:35:22.155539",
     "status": "completed"
    },
    "tags": []
   },
   "outputs": [
    {
     "name": "stdout",
     "output_type": "stream",
     "text": [
      "S-MultiXcan [@doi:10.1371/journal.pgen.1007889], on the other hand, is the summary version of MultiXcan. MultiXcan is more powerful than PrediXcan in detecting gene-trait associations, although it does not provide the direction of effects. Its main output is the $p$-value (obtained with an F-test) of the multiple tissue model \n",
      "$$\n",
      "\\begin{split} \\mathbf{y} & = \\sum_{l=1}^{p} \\mathbf{t}_l g_l + \\mathbf{e} \\\\ & = \\mathbf{T} \\mathbf{g} + \\mathbf{e}, \\end{split} \n",
      "$$ {#eq:multixcan}\n",
      "where $\\mathbf{T}$ is a matrix with $p$ columns $\\mathbf{t}_l$, $\\hat{g}_l$ is the estimated effect size for the predicted gene expression in tissue $l$ (and thus $\\hat{\\mathbf{g}}$ is a vector with $p$ estimated effect sizes $\\hat{g}_l$), and $\\mathbf{e}$ are the error terms with variance $\\sigma_{e}^{2}$. Given the high correlation between predicted expression values for a gene across different tissues, MultiXcan uses the principal components (PCs) of $\\mathbf{T}$ to avoid collinearity issues. S-MultiXcan derives the joint regression estimates (effect sizes and their variances) in Equation (@eq:multixcan) using the marginal estimates from S-PrediXcan in Equation (@eq:spredixcan). Under the null hypothesis of no association, $\\hat{\\mathbf{g}}^{\\top} \\frac{\\mathbf{T}^{\\top}\\mathbf{T}}{\\sigma_{e}^{2}} \\hat{\\mathbf{g}} \\sim \\chi_{p}^{2}$, and therefore the significance of the association in S-MultiXcan is estimated with \n",
      "$$\n",
      "\\begin{split} \\frac{\\hat{\\mathbf{g}}^{\\top} (\\mathbf{T}^{\\top}\\mathbf{T}) \\hat{\\mathbf{g}}}{\\sigma_{e}^{2}} & \\approx \\bm{\\hat{\\gamma}}^{\\top} \\frac{\\sqrt{n-1}}{\\sigma_{\\epsilon}} \\left(\\frac{\\mathbf{T}^{\\top} \\mathbf{T}}{n-1}\\right)^{-1} \\frac{\\sqrt{n-1}}{\\sigma_{\\epsilon}} \\bm{\\hat{\\gamma}} \\\\ & = \\hat{\\mathbf{z}}^{\\top} Cor(\\mathbf{T})^{-1} \\hat{\\mathbf{z}}, \\end{split} \n",
      "$$ {#eq:smultixcan}\n",
      "where $\\hat{\\mathbf{z}}$ is a vector with $p$ $z$-scores (Equation (@eq:spredixcan)) for each tissue available for the gene, and $Cor(\\mathbf{T})$ is the autocorrelation matrix of $\\mathbf{T}$. Since $\\mathbf{T}^{\\top}\\mathbf{T}$ is singular for many genes, S-MultiXcan computes the pseudo-inverse $Cor(\\mathbf{T})^{+}$ using the $k$ top PCs, and thus $\\hat{\\mathbf{z}}^{\\top} Cor(\\mathbf{T})^{+} \\hat{\\mathbf{z}} \\sim \\chi_k^2$. To arrive at this expression, S-MultiXcan uses the conservative approximation $\\sigma_{e}^{2} \\approx \\sigma_{\\epsilon}^{2}$, that is, the variance of the error terms in the joint regression is approximately equal to the residual variance of the marginal regressions. Another important point is that $Cor(\\mathbf{T})$ is estimated using a global genotype covariance matrix, whereas marginal $\\hat{z}_l$ in Equation (@eq:spredixcan) are approximated using tissue-specific genotype covariances. Although S-MultiXcan yields highly concordant estimates compared with MultiXcan, results are not perfectly correlated across genes [@doi:10.1371/journal.pgen.1007889]. As we explain later, these differences are important for our LV-based regression model when computing the gene-gene correlation matrix. We used S-MultiXcan results for our LV-based regression model and our cluster analyses of traits.\n"
     ]
    }
   ],
   "source": [
    "par0 = (\n",
    "    process_paragraph(orig_section_paragraphs[10:15])\n",
    "    .replace(\"$$\", \"\\n$$\")\n",
    "    .replace(\"$$ \\\\\", \"$$\\n\\\\\")\n",
    "    .replace(\":multixcan} where\", \":multixcan}\\nwhere\")\n",
    "    .replace(\":smultixcan} where\", \":smultixcan}\\nwhere\")\n",
    ")\n",
    "print(par0)"
   ]
  },
  {
   "cell_type": "code",
   "execution_count": 271,
   "id": "b5df6d42-8ee1-4cfa-902a-a9e60d054c2c",
   "metadata": {
    "papermill": {
     "duration": 0.031321,
     "end_time": "2024-03-20T21:35:22.244328",
     "exception": false,
     "start_time": "2024-03-20T21:35:22.213007",
     "status": "completed"
    },
    "tags": []
   },
   "outputs": [
    {
     "name": "stdout",
     "output_type": "stream",
     "text": [
      "S-MultiXcan [@doi:10.1371/journal.pgen.1007889] is a summary version of MultiXcan, which is more powerful than PrediXcan in detecting gene-trait associations but does not provide the direction of effects. The main output of MultiXcan is the p-value obtained with an F-test in the multiple tissue model: \n",
      "$$\n",
      "\\begin{split} \\mathbf{y} & = \\sum_{l=1}^{p} \\mathbf{t}_l g_l + \\mathbf{e} \\\\ & = \\mathbf{T} \\mathbf{g} + \\mathbf{e}, \\end{split} \n",
      "$$ {#eq:multixcan}\n",
      "where $\\mathbf{T}$ is a matrix with $p$ columns $\\mathbf{t}_l$, $\\hat{g}_l$ is the estimated effect size for the predicted gene expression in tissue $l$, and $\\mathbf{e}$ represents the error terms with variance $\\sigma_{e}^{2}$. Due to the high correlation between predicted expression values for a gene across different tissues, MultiXcan uses principal components (PCs) of $\\mathbf{T}$ to address collinearity issues. S-MultiXcan derives joint regression estimates (effect sizes and their variances) using marginal estimates from S-PrediXcan: \n",
      "$$\n",
      "\\begin{split} \\frac{\\hat{\\mathbf{g}}^{\\top} (\\mathbf{T}^{\\top}\\mathbf{T}) \\hat{\\mathbf{g}}}{\\sigma_{e}^{2}} & \\approx \\bm{\\hat{\\gamma}}^{\\top} \\frac{\\sqrt{n-1}}{\\sigma_{\\epsilon}} \\left(\\frac{\\mathbf{T}^{\\top} \\mathbf{T}}{n-1}\\right)^{-1} \\frac{\\sqrt{n-1}}{\\sigma_{\\epsilon}} \\bm{\\hat{\\gamma}} \\\\ & = \\hat{\\mathbf{z}}^{\\top} Cor(\\mathbf{T})^{-1} \\hat{\\mathbf{z}, \\end{split} \n",
      "$$ {#eq:smultixcan}\n",
      "where $\\hat{\\mathbf{z}}$ is a vector with $p$ z-scores for each tissue available for the gene, and $Cor(\\mathbf{T})$ is the autocorrelation matrix of $\\mathbf{T}$. S-MultiXcan computes the pseudo-inverse $Cor(\\mathbf{T})^{+}$ using the top $k$ PCs since $\\mathbf{T}^{\\top}\\mathbf{T}$ is singular for many genes. The approximation $\\sigma_{e}^{2} \\approx \\sigma_{\\epsilon}^{2}$ is used, assuming equal variances of error terms in joint and marginal regressions. The estimation of $Cor(\\mathbf{T})$ uses a global genotype covariance matrix, while marginal $\\hat{z}_l$ are approximated with tissue-specific genotype covariances. Although S-MultiXcan results are highly concordant with MultiXcan, they are not perfectly correlated across genes [@doi:10.1371/journal.pgen.1007889]. These differences are crucial for our LV-based regression model and gene-gene correlation matrix computation in cluster analyses of traits, where we utilized S-MultiXcan results.\n"
     ]
    }
   ],
   "source": [
    "par1 = (\n",
    "    process_paragraph(mod_section_paragraphs[16:21])\n",
    "    .replace(\"$$\", \"\\n$$\")\n",
    "    .replace(\"$$ \\\\\", \"$$\\n\\\\\")\n",
    "    .replace(\":multixcan} where\", \":multixcan}\\nwhere\")\n",
    "    .replace(\":smultixcan} where\", \":smultixcan}\\nwhere\")\n",
    ")\n",
    "print(par1)"
   ]
  },
  {
   "cell_type": "code",
   "execution_count": 272,
   "id": "3fd666cc-00ca-448b-9dca-0ca38f6c404d",
   "metadata": {
    "papermill": {
     "duration": 0.030508,
     "end_time": "2024-03-20T21:35:22.301560",
     "exception": false,
     "start_time": "2024-03-20T21:35:22.271052",
     "status": "completed"
    },
    "tags": []
   },
   "outputs": [],
   "source": [
    "paragraph_matches.append(\n",
    "    (\n",
    "        section_name,\n",
    "        par0,\n",
    "        par1,\n",
    "    )\n",
    ")"
   ]
  },
  {
   "cell_type": "code",
   "execution_count": 273,
   "id": "dbd874a9-319b-4657-b4c8-ee225420f868",
   "metadata": {
    "papermill": {
     "duration": 0.031629,
     "end_time": "2024-03-20T21:35:22.360047",
     "exception": false,
     "start_time": "2024-03-20T21:35:22.328418",
     "status": "completed"
    },
    "tags": []
   },
   "outputs": [
    {
     "data": {
      "text/plain": [
       "('methods',\n",
       " 'S-MultiXcan [@doi:10.1371/journal.pgen.1007889], on the other hand, is the summary version of MultiXcan. MultiXcan is more powerful than PrediXcan in detecting gene-trait associations, although it does not provide the direction of effects. Its main output is the $p$-value (obtained with an F-test) of the multiple tissue model \\n$$\\n\\\\begin{split} \\\\mathbf{y} & = \\\\sum_{l=1}^{p} \\\\mathbf{t}_l g_l + \\\\mathbf{e} \\\\\\\\ & = \\\\mathbf{T} \\\\mathbf{g} + \\\\mathbf{e}, \\\\end{split} \\n$$ {#eq:multixcan}\\nwhere $\\\\mathbf{T}$ is a matrix with $p$ columns $\\\\mathbf{t}_l$, $\\\\hat{g}_l$ is the estimated effect size for the predicted gene expression in tissue $l$ (and thus $\\\\hat{\\\\mathbf{g}}$ is a vector with $p$ estimated effect sizes $\\\\hat{g}_l$), and $\\\\mathbf{e}$ are the error terms with variance $\\\\sigma_{e}^{2}$. Given the high correlation between predicted expression values for a gene across different tissues, MultiXcan uses the principal components (PCs) of $\\\\mathbf{T}$ to avoid collinearity issues. S-MultiXcan derives the joint regression estimates (effect sizes and their variances) in Equation (@eq:multixcan) using the marginal estimates from S-PrediXcan in Equation (@eq:spredixcan). Under the null hypothesis of no association, $\\\\hat{\\\\mathbf{g}}^{\\\\top} \\\\frac{\\\\mathbf{T}^{\\\\top}\\\\mathbf{T}}{\\\\sigma_{e}^{2}} \\\\hat{\\\\mathbf{g}} \\\\sim \\\\chi_{p}^{2}$, and therefore the significance of the association in S-MultiXcan is estimated with \\n$$\\n\\\\begin{split} \\\\frac{\\\\hat{\\\\mathbf{g}}^{\\\\top} (\\\\mathbf{T}^{\\\\top}\\\\mathbf{T}) \\\\hat{\\\\mathbf{g}}}{\\\\sigma_{e}^{2}} & \\\\approx \\\\bm{\\\\hat{\\\\gamma}}^{\\\\top} \\\\frac{\\\\sqrt{n-1}}{\\\\sigma_{\\\\epsilon}} \\\\left(\\\\frac{\\\\mathbf{T}^{\\\\top} \\\\mathbf{T}}{n-1}\\\\right)^{-1} \\\\frac{\\\\sqrt{n-1}}{\\\\sigma_{\\\\epsilon}} \\\\bm{\\\\hat{\\\\gamma}} \\\\\\\\ & = \\\\hat{\\\\mathbf{z}}^{\\\\top} Cor(\\\\mathbf{T})^{-1} \\\\hat{\\\\mathbf{z}}, \\\\end{split} \\n$$ {#eq:smultixcan}\\nwhere $\\\\hat{\\\\mathbf{z}}$ is a vector with $p$ $z$-scores (Equation (@eq:spredixcan)) for each tissue available for the gene, and $Cor(\\\\mathbf{T})$ is the autocorrelation matrix of $\\\\mathbf{T}$. Since $\\\\mathbf{T}^{\\\\top}\\\\mathbf{T}$ is singular for many genes, S-MultiXcan computes the pseudo-inverse $Cor(\\\\mathbf{T})^{+}$ using the $k$ top PCs, and thus $\\\\hat{\\\\mathbf{z}}^{\\\\top} Cor(\\\\mathbf{T})^{+} \\\\hat{\\\\mathbf{z}} \\\\sim \\\\chi_k^2$. To arrive at this expression, S-MultiXcan uses the conservative approximation $\\\\sigma_{e}^{2} \\\\approx \\\\sigma_{\\\\epsilon}^{2}$, that is, the variance of the error terms in the joint regression is approximately equal to the residual variance of the marginal regressions. Another important point is that $Cor(\\\\mathbf{T})$ is estimated using a global genotype covariance matrix, whereas marginal $\\\\hat{z}_l$ in Equation (@eq:spredixcan) are approximated using tissue-specific genotype covariances. Although S-MultiXcan yields highly concordant estimates compared with MultiXcan, results are not perfectly correlated across genes [@doi:10.1371/journal.pgen.1007889]. As we explain later, these differences are important for our LV-based regression model when computing the gene-gene correlation matrix. We used S-MultiXcan results for our LV-based regression model and our cluster analyses of traits.',\n",
       " 'S-MultiXcan [@doi:10.1371/journal.pgen.1007889] is a summary version of MultiXcan, which is more powerful than PrediXcan in detecting gene-trait associations but does not provide the direction of effects. The main output of MultiXcan is the p-value obtained with an F-test in the multiple tissue model: \\n$$\\n\\\\begin{split} \\\\mathbf{y} & = \\\\sum_{l=1}^{p} \\\\mathbf{t}_l g_l + \\\\mathbf{e} \\\\\\\\ & = \\\\mathbf{T} \\\\mathbf{g} + \\\\mathbf{e}, \\\\end{split} \\n$$ {#eq:multixcan}\\nwhere $\\\\mathbf{T}$ is a matrix with $p$ columns $\\\\mathbf{t}_l$, $\\\\hat{g}_l$ is the estimated effect size for the predicted gene expression in tissue $l$, and $\\\\mathbf{e}$ represents the error terms with variance $\\\\sigma_{e}^{2}$. Due to the high correlation between predicted expression values for a gene across different tissues, MultiXcan uses principal components (PCs) of $\\\\mathbf{T}$ to address collinearity issues. S-MultiXcan derives joint regression estimates (effect sizes and their variances) using marginal estimates from S-PrediXcan: \\n$$\\n\\\\begin{split} \\\\frac{\\\\hat{\\\\mathbf{g}}^{\\\\top} (\\\\mathbf{T}^{\\\\top}\\\\mathbf{T}) \\\\hat{\\\\mathbf{g}}}{\\\\sigma_{e}^{2}} & \\\\approx \\\\bm{\\\\hat{\\\\gamma}}^{\\\\top} \\\\frac{\\\\sqrt{n-1}}{\\\\sigma_{\\\\epsilon}} \\\\left(\\\\frac{\\\\mathbf{T}^{\\\\top} \\\\mathbf{T}}{n-1}\\\\right)^{-1} \\\\frac{\\\\sqrt{n-1}}{\\\\sigma_{\\\\epsilon}} \\\\bm{\\\\hat{\\\\gamma}} \\\\\\\\ & = \\\\hat{\\\\mathbf{z}}^{\\\\top} Cor(\\\\mathbf{T})^{-1} \\\\hat{\\\\mathbf{z}, \\\\end{split} \\n$$ {#eq:smultixcan}\\nwhere $\\\\hat{\\\\mathbf{z}}$ is a vector with $p$ z-scores for each tissue available for the gene, and $Cor(\\\\mathbf{T})$ is the autocorrelation matrix of $\\\\mathbf{T}$. S-MultiXcan computes the pseudo-inverse $Cor(\\\\mathbf{T})^{+}$ using the top $k$ PCs since $\\\\mathbf{T}^{\\\\top}\\\\mathbf{T}$ is singular for many genes. The approximation $\\\\sigma_{e}^{2} \\\\approx \\\\sigma_{\\\\epsilon}^{2}$ is used, assuming equal variances of error terms in joint and marginal regressions. The estimation of $Cor(\\\\mathbf{T})$ uses a global genotype covariance matrix, while marginal $\\\\hat{z}_l$ are approximated with tissue-specific genotype covariances. Although S-MultiXcan results are highly concordant with MultiXcan, they are not perfectly correlated across genes [@doi:10.1371/journal.pgen.1007889]. These differences are crucial for our LV-based regression model and gene-gene correlation matrix computation in cluster analyses of traits, where we utilized S-MultiXcan results.')"
      ]
     },
     "metadata": {},
     "output_type": "display_data"
    }
   ],
   "source": [
    "display(paragraph_matches[-1])"
   ]
  },
  {
   "cell_type": "markdown",
   "id": "c79dd9ba-2ac5-4ae6-bbf2-c71065b20c85",
   "metadata": {
    "editable": true,
    "papermill": {
     "duration": 0.026793,
     "end_time": "2024-03-20T21:35:22.128948",
     "exception": false,
     "start_time": "2024-03-20T21:35:22.102155",
     "status": "completed"
    },
    "slideshow": {
     "slide_type": ""
    },
    "tags": []
   },
   "source": [
    "####  Paragraph 04"
   ]
  },
  {
   "cell_type": "code",
   "execution_count": 292,
   "id": "23127f28-edb7-4635-945a-af278a7f2e12",
   "metadata": {
    "papermill": {
     "duration": 0.030794,
     "end_time": "2024-03-20T21:35:22.186333",
     "exception": false,
     "start_time": "2024-03-20T21:35:22.155539",
     "status": "completed"
    },
    "tags": []
   },
   "outputs": [
    {
     "name": "stdout",
     "output_type": "stream",
     "text": [
      "Given a gene expression dataset $\\mathbf{Y}^{m \\times c}$ with $m$ genes and $c$ experimental conditions and a prior knowledge matrix $\\mathbf{C} \\in \\{0,1\\}^{m \\times p}$ for $p$ MSigDB pathways [@doi:10.1016/j.cels.2015.12.004] (so that $\\mathbf{C}_{ij} = 1$ if gene $i$ belongs to pathway $j$), PLIER finds $\\mathbf{U}$, $\\mathbf{Z}$, and $\\mathbf{B}$ minimizing \n",
      "$$\n",
      "||\\mathbf{Y} - \\mathbf{Z}\\mathbf{B}||^{2}_{F} + \\lambda_1 ||\\mathbf{Z} - \\mathbf{C}\\mathbf{U}||^{2}_{F} + \\lambda_2 ||\\mathbf{B}||^{2}_{F} + \\lambda_3 ||\\mathbf{U}||_{L^1} \n",
      "$$ {#eq:met:plier_func}\n",
      "subject to $\\mathbf{U}>0, \\mathbf{Z}>0$; $\\mathbf{Z}^{m \\times l}$ are the gene loadings with $l$ latent variables, $\\mathbf{B}^{l \\times c}$ is the latent space for $c$ conditions, $\\mathbf{U}^{p \\times l}$ specifies which of the $p$ prior-information pathways in $\\mathbf{C}$ are represented for each LV, and $\\lambda_i$ are different regularization parameters used in the training step. $\\mathbf{Z}$ is a low-dimensional representation of the gene space where each LV aligns as much as possible to prior knowledge, and it might represent either a known or novel gene module (i.e., a meaningful biological pattern) or noise.\n"
     ]
    }
   ],
   "source": [
    "par0 = (\n",
    "    process_paragraph(orig_section_paragraphs[20:23])\n",
    "    .replace(\"$$\", \"\\n$$\")\n",
    "    .replace(\"$$ ||\", \"$$\\n||\")\n",
    "    .replace(\":plier_func} subject\", \":plier_func}\\nsubject\")\n",
    "    # .replace(\":smultixcan} where\", \":smultixcan}\\nwhere\")\n",
    ")\n",
    "print(par0)"
   ]
  },
  {
   "cell_type": "code",
   "execution_count": 295,
   "id": "56c4bad1-44f2-47f1-88d9-3a7f90273958",
   "metadata": {
    "papermill": {
     "duration": 0.031321,
     "end_time": "2024-03-20T21:35:22.244328",
     "exception": false,
     "start_time": "2024-03-20T21:35:22.213007",
     "status": "completed"
    },
    "tags": []
   },
   "outputs": [
    {
     "name": "stdout",
     "output_type": "stream",
     "text": [
      "Given a gene expression dataset $\\mathbf{Y}^{m \\times c}$ with $m$ genes and $c$ experimental conditions and a prior knowledge matrix $\\mathbf{C} \\in \\{0,1\\}^{m \\times p}$ for $p$ MSigDB pathways (so that $\\mathbf{C}_{ij} = 1$ if gene $i$ belongs to pathway $j$), PLIER finds matrices $\\mathbf{U}$, $\\mathbf{Z}$, and $\\mathbf{B}$ that minimize the following objective function: \n",
      "$$\n",
      "||\\mathbf{Y} - \\mathbf{Z}\\mathbf{B}||^{2}_{F} + \\lambda_1 ||\\mathbf{Z} - \\mathbf{C}\\mathbf{U}||^{2}_{F} + \\lambda_2 ||\\mathbf{B}||^{2}_{F} + \\lambda_3 ||\\mathbf{U}||_{L^1} \n",
      "$$\n",
      "This optimization is subject to the constraints $\\mathbf{U}>0, \\mathbf{Z}>0$. Here, $\\mathbf{Z}^{m \\times l}$ represents the gene loadings with $l$ latent variables, $\\mathbf{B}^{l \\times c}$ is the latent space for $c$ conditions, and $\\mathbf{U}^{p \\times l}$ specifies which of the $p$ prior-information pathways in $\\mathbf{C}$ are represented for each latent variable. The regularization parameters $\\lambda_i$ are used in the training step to control the model complexity. The matrix $\\mathbf{Z}$ provides a low-dimensional representation of the gene space, aligning with prior knowledge, and may indicate a known or novel gene module, or noise.\n"
     ]
    }
   ],
   "source": [
    "par1 = (\n",
    "    process_paragraph(mod_section_paragraphs[30:33])\n",
    "    .replace(\"$$\", \"\\n$$\")\n",
    "    .replace(\"$$ ||\", \"$$\\n||\")\n",
    "    .replace(\"$$ This opt\", \"$$\\nThis opt\")\n",
    ")\n",
    "print(par1)"
   ]
  },
  {
   "cell_type": "code",
   "execution_count": 296,
   "id": "702d2a38-da25-44be-ba92-363adf0592c8",
   "metadata": {
    "papermill": {
     "duration": 0.030508,
     "end_time": "2024-03-20T21:35:22.301560",
     "exception": false,
     "start_time": "2024-03-20T21:35:22.271052",
     "status": "completed"
    },
    "tags": []
   },
   "outputs": [],
   "source": [
    "paragraph_matches.append(\n",
    "    (\n",
    "        section_name,\n",
    "        par0,\n",
    "        par1,\n",
    "    )\n",
    ")"
   ]
  },
  {
   "cell_type": "code",
   "execution_count": 297,
   "id": "5b95a3c2-128e-429f-b236-b27df7b7a3e6",
   "metadata": {
    "papermill": {
     "duration": 0.031629,
     "end_time": "2024-03-20T21:35:22.360047",
     "exception": false,
     "start_time": "2024-03-20T21:35:22.328418",
     "status": "completed"
    },
    "tags": []
   },
   "outputs": [
    {
     "data": {
      "text/plain": [
       "('methods',\n",
       " 'Given a gene expression dataset $\\\\mathbf{Y}^{m \\\\times c}$ with $m$ genes and $c$ experimental conditions and a prior knowledge matrix $\\\\mathbf{C} \\\\in \\\\{0,1\\\\}^{m \\\\times p}$ for $p$ MSigDB pathways [@doi:10.1016/j.cels.2015.12.004] (so that $\\\\mathbf{C}_{ij} = 1$ if gene $i$ belongs to pathway $j$), PLIER finds $\\\\mathbf{U}$, $\\\\mathbf{Z}$, and $\\\\mathbf{B}$ minimizing \\n$$\\n||\\\\mathbf{Y} - \\\\mathbf{Z}\\\\mathbf{B}||^{2}_{F} + \\\\lambda_1 ||\\\\mathbf{Z} - \\\\mathbf{C}\\\\mathbf{U}||^{2}_{F} + \\\\lambda_2 ||\\\\mathbf{B}||^{2}_{F} + \\\\lambda_3 ||\\\\mathbf{U}||_{L^1} \\n$$ {#eq:met:plier_func}\\nsubject to $\\\\mathbf{U}>0, \\\\mathbf{Z}>0$; $\\\\mathbf{Z}^{m \\\\times l}$ are the gene loadings with $l$ latent variables, $\\\\mathbf{B}^{l \\\\times c}$ is the latent space for $c$ conditions, $\\\\mathbf{U}^{p \\\\times l}$ specifies which of the $p$ prior-information pathways in $\\\\mathbf{C}$ are represented for each LV, and $\\\\lambda_i$ are different regularization parameters used in the training step. $\\\\mathbf{Z}$ is a low-dimensional representation of the gene space where each LV aligns as much as possible to prior knowledge, and it might represent either a known or novel gene module (i.e., a meaningful biological pattern) or noise.',\n",
       " 'Given a gene expression dataset $\\\\mathbf{Y}^{m \\\\times c}$ with $m$ genes and $c$ experimental conditions and a prior knowledge matrix $\\\\mathbf{C} \\\\in \\\\{0,1\\\\}^{m \\\\times p}$ for $p$ MSigDB pathways (so that $\\\\mathbf{C}_{ij} = 1$ if gene $i$ belongs to pathway $j$), PLIER finds matrices $\\\\mathbf{U}$, $\\\\mathbf{Z}$, and $\\\\mathbf{B}$ that minimize the following objective function: \\n$$\\n||\\\\mathbf{Y} - \\\\mathbf{Z}\\\\mathbf{B}||^{2}_{F} + \\\\lambda_1 ||\\\\mathbf{Z} - \\\\mathbf{C}\\\\mathbf{U}||^{2}_{F} + \\\\lambda_2 ||\\\\mathbf{B}||^{2}_{F} + \\\\lambda_3 ||\\\\mathbf{U}||_{L^1} \\n$$\\nThis optimization is subject to the constraints $\\\\mathbf{U}>0, \\\\mathbf{Z}>0$. Here, $\\\\mathbf{Z}^{m \\\\times l}$ represents the gene loadings with $l$ latent variables, $\\\\mathbf{B}^{l \\\\times c}$ is the latent space for $c$ conditions, and $\\\\mathbf{U}^{p \\\\times l}$ specifies which of the $p$ prior-information pathways in $\\\\mathbf{C}$ are represented for each latent variable. The regularization parameters $\\\\lambda_i$ are used in the training step to control the model complexity. The matrix $\\\\mathbf{Z}$ provides a low-dimensional representation of the gene space, aligning with prior knowledge, and may indicate a known or novel gene module, or noise.')"
      ]
     },
     "metadata": {},
     "output_type": "display_data"
    }
   ],
   "source": [
    "display(paragraph_matches[-1])"
   ]
  },
  {
   "cell_type": "markdown",
   "id": "14369957-df7c-46a4-9c77-9f1cbde64dcd",
   "metadata": {
    "editable": true,
    "papermill": {
     "duration": 0.026793,
     "end_time": "2024-03-20T21:35:22.128948",
     "exception": false,
     "start_time": "2024-03-20T21:35:22.102155",
     "status": "completed"
    },
    "slideshow": {
     "slide_type": ""
    },
    "tags": []
   },
   "source": [
    "####  Paragraph 05"
   ]
  },
  {
   "cell_type": "code",
   "execution_count": 303,
   "id": "590fa642-495a-4a27-a7a9-ba8b3365355c",
   "metadata": {
    "papermill": {
     "duration": 0.030794,
     "end_time": "2024-03-20T21:35:22.186333",
     "exception": false,
     "start_time": "2024-03-20T21:35:22.155539",
     "status": "completed"
    },
    "tags": []
   },
   "outputs": [
    {
     "name": "stdout",
     "output_type": "stream",
     "text": [
      "For our drug repurposing and cluster analyses, we used this model to project gene-trait (from TWAS) and gene-drug associations (from LINCS L1000) into this low-dimensional gene module space. For instance, TWAS associations $\\mathbf{M}$ (either from S-PrediXcan or S-MultiXcan) were projected using \n",
      "$$\n",
      "\\hat{\\mathbf{M}} = (\\mathbf{Z}^{\\top} \\mathbf{Z} + \\lambda_{2} \\mathbf{I})^{-1} \\mathbf{Z}^{\\top} \\mathbf{M}, \n",
      "$$ {#eq:proj}\n",
      "where $\\hat{\\mathbf{M}}^{l \\times q}$ is a matrix where traits are represented by gene modules instead of single genes. As explained later, we used the same approach to project drug-induced transcriptional profiles in LINCS L1000 to obtain a representation of drugs using gene modules.\n"
     ]
    }
   ],
   "source": [
    "par0 = (\n",
    "    process_paragraph(orig_section_paragraphs[23:26])\n",
    "    .replace(\"$$\", \"\\n$$\")\n",
    "    .replace(\"$$ \\\\\", \"$$\\n\\\\\")\n",
    "    .replace(\":proj} where\", \":proj}\\nwhere\")\n",
    ")\n",
    "print(par0)"
   ]
  },
  {
   "cell_type": "code",
   "execution_count": 309,
   "id": "d9780e6f-41bd-4afc-bbfc-416acd51a8bb",
   "metadata": {
    "papermill": {
     "duration": 0.031321,
     "end_time": "2024-03-20T21:35:22.244328",
     "exception": false,
     "start_time": "2024-03-20T21:35:22.213007",
     "status": "completed"
    },
    "tags": []
   },
   "outputs": [
    {
     "name": "stdout",
     "output_type": "stream",
     "text": [
      "For our drug repurposing and cluster analyses, we utilized a model to project gene-trait associations (obtained from Transcriptome-Wide Association Studies, TWAS) and gene-drug associations (obtained from Library of Integrated Network-Based Cellular Signatures, LINCS L1000) into a low-dimensional gene module space. Specifically, TWAS associations $\\mathbf{M}$ (derived from either S-PrediXcan or S-MultiXcan) were projected using: \n",
      "$$\n",
      "\\hat{\\mathbf{M}} = (\\mathbf{Z}^{\\top} \\mathbf{Z} + \\lambda_{2} \\mathbf{I})^{-1} \\mathbf{Z}^{\\top} \\mathbf{M}, \n",
      "$$ {#eq:proj}\n",
      "Here, $\\hat{\\mathbf{M}}^{l \\times q}$ represents a matrix where traits are expressed by gene modules rather than individual genes. As discussed later, the same methodology was applied to project drug-induced transcriptional profiles from LINCS L1000, resulting in a representation of drugs based on gene modules.\n"
     ]
    }
   ],
   "source": [
    "par1 = (\n",
    "    process_paragraph(mod_section_paragraphs[33:36])\n",
    "    .replace(\"$$\", \"\\n$$\")\n",
    "    .replace(\"$$ \\\\\", \"$$\\n\\\\\")\n",
    "    .replace(\":proj} Here\", \":proj}\\nHere\")\n",
    ")\n",
    "print(par1)"
   ]
  },
  {
   "cell_type": "code",
   "execution_count": 310,
   "id": "edf2e4a3-5466-49fb-adbc-12926723cd85",
   "metadata": {
    "papermill": {
     "duration": 0.030508,
     "end_time": "2024-03-20T21:35:22.301560",
     "exception": false,
     "start_time": "2024-03-20T21:35:22.271052",
     "status": "completed"
    },
    "tags": []
   },
   "outputs": [],
   "source": [
    "paragraph_matches.append(\n",
    "    (\n",
    "        section_name,\n",
    "        par0,\n",
    "        par1,\n",
    "    )\n",
    ")"
   ]
  },
  {
   "cell_type": "code",
   "execution_count": 311,
   "id": "305001ac-905e-4728-bf27-6d9c252a6b79",
   "metadata": {
    "papermill": {
     "duration": 0.031629,
     "end_time": "2024-03-20T21:35:22.360047",
     "exception": false,
     "start_time": "2024-03-20T21:35:22.328418",
     "status": "completed"
    },
    "tags": []
   },
   "outputs": [
    {
     "data": {
      "text/plain": [
       "('methods',\n",
       " 'For our drug repurposing and cluster analyses, we used this model to project gene-trait (from TWAS) and gene-drug associations (from LINCS L1000) into this low-dimensional gene module space. For instance, TWAS associations $\\\\mathbf{M}$ (either from S-PrediXcan or S-MultiXcan) were projected using \\n$$\\n\\\\hat{\\\\mathbf{M}} = (\\\\mathbf{Z}^{\\\\top} \\\\mathbf{Z} + \\\\lambda_{2} \\\\mathbf{I})^{-1} \\\\mathbf{Z}^{\\\\top} \\\\mathbf{M}, \\n$$ {#eq:proj}\\nwhere $\\\\hat{\\\\mathbf{M}}^{l \\\\times q}$ is a matrix where traits are represented by gene modules instead of single genes. As explained later, we used the same approach to project drug-induced transcriptional profiles in LINCS L1000 to obtain a representation of drugs using gene modules.',\n",
       " 'For our drug repurposing and cluster analyses, we utilized a model to project gene-trait associations (obtained from Transcriptome-Wide Association Studies, TWAS) and gene-drug associations (obtained from Library of Integrated Network-Based Cellular Signatures, LINCS L1000) into a low-dimensional gene module space. Specifically, TWAS associations $\\\\mathbf{M}$ (derived from either S-PrediXcan or S-MultiXcan) were projected using: \\n$$\\n\\\\hat{\\\\mathbf{M}} = (\\\\mathbf{Z}^{\\\\top} \\\\mathbf{Z} + \\\\lambda_{2} \\\\mathbf{I})^{-1} \\\\mathbf{Z}^{\\\\top} \\\\mathbf{M}, \\n$$ {#eq:proj}\\nHere, $\\\\hat{\\\\mathbf{M}}^{l \\\\times q}$ represents a matrix where traits are expressed by gene modules rather than individual genes. As discussed later, the same methodology was applied to project drug-induced transcriptional profiles from LINCS L1000, resulting in a representation of drugs based on gene modules.')"
      ]
     },
     "metadata": {},
     "output_type": "display_data"
    }
   ],
   "source": [
    "display(paragraph_matches[-1])"
   ]
  },
  {
   "cell_type": "markdown",
   "id": "1e23ef22-30fa-42d0-9ca6-a2736743c3b9",
   "metadata": {
    "editable": true,
    "papermill": {
     "duration": 0.026793,
     "end_time": "2024-03-20T21:35:22.128948",
     "exception": false,
     "start_time": "2024-03-20T21:35:22.102155",
     "status": "completed"
    },
    "slideshow": {
     "slide_type": ""
    },
    "tags": []
   },
   "source": [
    "####  Paragraph 06"
   ]
  },
  {
   "cell_type": "code",
   "execution_count": 317,
   "id": "1b115197-8a7e-4087-9adf-04590f43d99b",
   "metadata": {
    "papermill": {
     "duration": 0.030794,
     "end_time": "2024-03-20T21:35:22.186333",
     "exception": false,
     "start_time": "2024-03-20T21:35:22.155539",
     "status": "completed"
    },
    "tags": []
   },
   "outputs": [
    {
     "name": "stdout",
     "output_type": "stream",
     "text": [
      "Since the error terms $\\bm{\\epsilon}$ could be correlated, we cannot assume they have independent normal distributions as in a standard linear regression model. In the PrediXcan family of methods, the predicted expression of a pair of genes could be correlated if they share eQTLs or if these are in LD [@doi:10.1038/s41588-019-0385-z]. Therefore, we used a generalized least squares approach to account for these correlations. The gene-gene correlation matrix $\\mathbf{R}$ was approximated by computing the correlations between the model sum of squares (SSM) for each pair of genes under the null hypothesis of no association. These correlations are derived from the individual-level MultiXcan model (Equation (@eq:multixcan)), where the predicted expression matrix $\\mathbf{T}_{i} \\in \\mathbb{R}^{n \\times p_i}$ of a gene $i$ across $p_i$ tissues is projected into its top $k_i$ PCs, resulting in matrix $\\mathbf{P}_{i} \\in \\mathbb{R}^{n \\times k_i}$. From the MAGMA framework, we know that the SSM for each gene is proportial to $\\mathbf{y}^{\\top} \\mathbf{P}_{i} \\mathbf{P}_{i}^{\\top} \\mathbf{y}$. Under the null hypothesis of no association, the covariances between the SSM of genes $i$ and $j$ is therefore given by $2 \\times \\mathrm{Trace}(\\mathbf{P}_{i}^{\\top} \\mathbf{P}_{j} \\mathbf{P}_{j}^{\\top} \\mathbf{P}_{i})$. The standard deviations of each SSM are given by $\\sqrt{2 \\times k_{i}} \\times (n - 1)$. Therefore, the correlation between the SSMs for genes $i$ and $j$ can be written as follows:\n"
     ]
    }
   ],
   "source": [
    "par0 = (\n",
    "    process_paragraph(orig_section_paragraphs[31])\n",
    "    # .replace(\"$$\", \"\\n$$\")\n",
    "    # .replace(\"$$ \\\\\", \"$$\\n\\\\\")\n",
    "    # .replace(\":proj} Here\", \":proj}\\nHere\")\n",
    ")\n",
    "print(par0)"
   ]
  },
  {
   "cell_type": "code",
   "execution_count": 325,
   "id": "2abd5425-de51-4e1a-b0e9-1106ca2b37de",
   "metadata": {
    "papermill": {
     "duration": 0.031321,
     "end_time": "2024-03-20T21:35:22.244328",
     "exception": false,
     "start_time": "2024-03-20T21:35:22.213007",
     "status": "completed"
    },
    "tags": []
   },
   "outputs": [
    {
     "name": "stdout",
     "output_type": "stream",
     "text": [
      "Since the error terms $\\bm{\\epsilon}$ could be correlated, we cannot assume they have independent normal distributions as in a standard linear regression model. In the PrediXcan family of methods, the predicted expression of a pair of genes could be correlated if they share eQTLs or if these are in LD (Gamazon et al., 2019). Therefore, we used a generalized least squares approach to account for these correlations. The gene-gene correlation matrix $\\mathbf{R}$ was approximated by computing the correlations between the model sum of squares (SSM) for each pair of genes under the null hypothesis of no association. These correlations are derived from the individual-level MultiXcan model (Equation 1), where the predicted expression matrix $\\mathbf{T}_{i} \\in \\mathbb{R}^{n \\times p_i}$ of a gene $i$ across $p_i$ tissues is projected into its top $k_i$ principal components (PCs), resulting in matrix $\\mathbf{P}_{i} \\in \\mathbb{R}^{n \\times k_i}$. From the MAGMA framework, we know that the SSM for each gene is proportional to $\\mathbf{y}^{\\top} \\mathbf{P}_{i} \\mathbf{P}_{i}^{\\top} \\mathbf{y}$. Under the null hypothesis of no association, the covariances between the SSM of genes $i$ and $j$ are therefore given by $2 \\times \\mathrm{Trace}(\\mathbf{P}_{i}^{\\top} \\mathbf{P}_{j} \\mathbf{P}_{j}^{\\top} \\mathbf{P}_{i}$. The standard deviations of each SSM are given by $\\sqrt{2 \\times k_{i}} \\times (n - 1)$. Therefore, the correlation between the SSMs for genes $i$ and $j$ can be written as follows:\n"
     ]
    }
   ],
   "source": [
    "par1 = (\n",
    "    process_paragraph(mod_section_paragraphs[45])\n",
    ")\n",
    "print(par1)"
   ]
  },
  {
   "cell_type": "code",
   "execution_count": 326,
   "id": "b094ae16-c00a-46a5-a2f1-0bb674894a9a",
   "metadata": {
    "papermill": {
     "duration": 0.030508,
     "end_time": "2024-03-20T21:35:22.301560",
     "exception": false,
     "start_time": "2024-03-20T21:35:22.271052",
     "status": "completed"
    },
    "tags": []
   },
   "outputs": [],
   "source": [
    "paragraph_matches.append(\n",
    "    (\n",
    "        section_name,\n",
    "        par0,\n",
    "        par1,\n",
    "    )\n",
    ")"
   ]
  },
  {
   "cell_type": "code",
   "execution_count": 327,
   "id": "37dc88b5-010e-42f7-9d27-749d5af21423",
   "metadata": {
    "papermill": {
     "duration": 0.031629,
     "end_time": "2024-03-20T21:35:22.360047",
     "exception": false,
     "start_time": "2024-03-20T21:35:22.328418",
     "status": "completed"
    },
    "tags": []
   },
   "outputs": [
    {
     "data": {
      "text/plain": [
       "('methods',\n",
       " 'Since the error terms $\\\\bm{\\\\epsilon}$ could be correlated, we cannot assume they have independent normal distributions as in a standard linear regression model. In the PrediXcan family of methods, the predicted expression of a pair of genes could be correlated if they share eQTLs or if these are in LD [@doi:10.1038/s41588-019-0385-z]. Therefore, we used a generalized least squares approach to account for these correlations. The gene-gene correlation matrix $\\\\mathbf{R}$ was approximated by computing the correlations between the model sum of squares (SSM) for each pair of genes under the null hypothesis of no association. These correlations are derived from the individual-level MultiXcan model (Equation (@eq:multixcan)), where the predicted expression matrix $\\\\mathbf{T}_{i} \\\\in \\\\mathbb{R}^{n \\\\times p_i}$ of a gene $i$ across $p_i$ tissues is projected into its top $k_i$ PCs, resulting in matrix $\\\\mathbf{P}_{i} \\\\in \\\\mathbb{R}^{n \\\\times k_i}$. From the MAGMA framework, we know that the SSM for each gene is proportial to $\\\\mathbf{y}^{\\\\top} \\\\mathbf{P}_{i} \\\\mathbf{P}_{i}^{\\\\top} \\\\mathbf{y}$. Under the null hypothesis of no association, the covariances between the SSM of genes $i$ and $j$ is therefore given by $2 \\\\times \\\\mathrm{Trace}(\\\\mathbf{P}_{i}^{\\\\top} \\\\mathbf{P}_{j} \\\\mathbf{P}_{j}^{\\\\top} \\\\mathbf{P}_{i})$. The standard deviations of each SSM are given by $\\\\sqrt{2 \\\\times k_{i}} \\\\times (n - 1)$. Therefore, the correlation between the SSMs for genes $i$ and $j$ can be written as follows:',\n",
       " 'Since the error terms $\\\\bm{\\\\epsilon}$ could be correlated, we cannot assume they have independent normal distributions as in a standard linear regression model. In the PrediXcan family of methods, the predicted expression of a pair of genes could be correlated if they share eQTLs or if these are in LD (Gamazon et al., 2019). Therefore, we used a generalized least squares approach to account for these correlations. The gene-gene correlation matrix $\\\\mathbf{R}$ was approximated by computing the correlations between the model sum of squares (SSM) for each pair of genes under the null hypothesis of no association. These correlations are derived from the individual-level MultiXcan model (Equation 1), where the predicted expression matrix $\\\\mathbf{T}_{i} \\\\in \\\\mathbb{R}^{n \\\\times p_i}$ of a gene $i$ across $p_i$ tissues is projected into its top $k_i$ principal components (PCs), resulting in matrix $\\\\mathbf{P}_{i} \\\\in \\\\mathbb{R}^{n \\\\times k_i}$. From the MAGMA framework, we know that the SSM for each gene is proportional to $\\\\mathbf{y}^{\\\\top} \\\\mathbf{P}_{i} \\\\mathbf{P}_{i}^{\\\\top} \\\\mathbf{y}$. Under the null hypothesis of no association, the covariances between the SSM of genes $i$ and $j$ are therefore given by $2 \\\\times \\\\mathrm{Trace}(\\\\mathbf{P}_{i}^{\\\\top} \\\\mathbf{P}_{j} \\\\mathbf{P}_{j}^{\\\\top} \\\\mathbf{P}_{i}$. The standard deviations of each SSM are given by $\\\\sqrt{2 \\\\times k_{i}} \\\\times (n - 1)$. Therefore, the correlation between the SSMs for genes $i$ and $j$ can be written as follows:')"
      ]
     },
     "metadata": {},
     "output_type": "display_data"
    }
   ],
   "source": [
    "display(paragraph_matches[-1])"
   ]
  },
  {
   "cell_type": "markdown",
   "id": "b96f7e49-7c44-4738-b979-08012ef5e47a",
   "metadata": {
    "editable": true,
    "papermill": {
     "duration": 0.026793,
     "end_time": "2024-03-20T21:35:22.128948",
     "exception": false,
     "start_time": "2024-03-20T21:35:22.102155",
     "status": "completed"
    },
    "slideshow": {
     "slide_type": ""
    },
    "tags": []
   },
   "source": [
    "####  Paragraph 07"
   ]
  },
  {
   "cell_type": "code",
   "execution_count": 336,
   "id": "d27499a0-7315-4cf4-a440-737ef1903b71",
   "metadata": {
    "papermill": {
     "duration": 0.030794,
     "end_time": "2024-03-20T21:35:22.186333",
     "exception": false,
     "start_time": "2024-03-20T21:35:22.155539",
     "status": "completed"
    },
    "tags": []
   },
   "outputs": [
    {
     "name": "stdout",
     "output_type": "stream",
     "text": [
      "Note that, since we used the MultiXcan regression model (Equation (@eq:multixcan)), $\\mathbf{R}$ is only an approximation of gene correlations in S-MultiXcan. As explained before, S-MultiXcan approximates the joint regression parameters in MultiXcan using the marginal regression estimates from S-PrediXcan in (@eq:spredixcan) with some simplifying assumptions and different genotype covariance matrices. This complicates the derivation of an S-MultiXcan-specific solution to compute $\\mathbf{R}$. To account for this, we used a submatrix $\\mathbf{R}_{\\ell}$ corresponding to genes that are part of LV $\\ell$ only (top 1% of genes) instead of the entire matrix $\\mathbf{R}$. This simplification is conservative since correlations are accounted for top genes only. Our simulations ([Supplementary Note 1](#sm:reg:null_sim)) show that the model is approximately well-calibrated and can correct for LVs with adjacent and highly correlated genes at the top (e.g., Figure @fig:reg:nulls:qqplot:lv234). The simulation also identified 127 LVs in which the model was not well-calibrated (e.g., Figure @fig:reg:nulls:qqplot:lv914). As this can be attributed to limitations in accurately computing a gene correlation matrix, we excluded these LVs from our main analyses.\n"
     ]
    }
   ],
   "source": [
    "par0 = (\n",
    "    process_paragraph(orig_section_paragraphs[39])\n",
    ")\n",
    "print(par0)"
   ]
  },
  {
   "cell_type": "code",
   "execution_count": 341,
   "id": "6ad494d8-ebb7-4736-a50d-9f61884238be",
   "metadata": {
    "papermill": {
     "duration": 0.031321,
     "end_time": "2024-03-20T21:35:22.244328",
     "exception": false,
     "start_time": "2024-03-20T21:35:22.213007",
     "status": "completed"
    },
    "tags": []
   },
   "outputs": [
    {
     "name": "stdout",
     "output_type": "stream",
     "text": [
      "Since we utilized the MultiXcan regression model (Equation (@eq:multixcan)), $\\mathbf{R}$ serves as an approximation of gene correlations in S-MultiXcan. As previously discussed, S-MultiXcan approximates the joint regression parameters in MultiXcan by utilizing the marginal regression estimates from S-PrediXcan in Equation (@eq:spredixcan) with certain simplifying assumptions and different genotype covariance matrices. This complicates the process of deriving an S-MultiXcan-specific solution to calculate $\\mathbf{R}$. To address this issue, we opted to use a submatrix $\\mathbf{R}_{\\ell}$ that corresponds to genes exclusively part of latent variable (LV) $\\ell$ (top 1% of genes) rather than the entire matrix $\\mathbf{R}$. This simplification is considered conservative as it takes into account correlations for only the top genes. Our simulations (see Supplementary Note 1) demonstrate that the model is reasonably well-calibrated and can rectify LVs with neighboring and highly correlated genes at the top (e.g., see Figure @fig:reg:nulls:qqplot:lv234). The simulations also highlighted 127 LVs where the model was not adequately calibrated (e.g., see Figure @fig:reg:nulls:qqplot:lv914). Since this issue may stem from challenges in accurately computing a gene correlation matrix, we excluded these LVs from our primary analyses.\n"
     ]
    }
   ],
   "source": [
    "par1 = (\n",
    "    process_paragraph(mod_section_paragraphs[53])\n",
    ")\n",
    "print(par1)"
   ]
  },
  {
   "cell_type": "code",
   "execution_count": 342,
   "id": "c1b33934-fe43-4e94-a51f-854c1639aaf8",
   "metadata": {
    "papermill": {
     "duration": 0.030508,
     "end_time": "2024-03-20T21:35:22.301560",
     "exception": false,
     "start_time": "2024-03-20T21:35:22.271052",
     "status": "completed"
    },
    "tags": []
   },
   "outputs": [],
   "source": [
    "paragraph_matches.append(\n",
    "    (\n",
    "        section_name,\n",
    "        par0,\n",
    "        par1,\n",
    "    )\n",
    ")"
   ]
  },
  {
   "cell_type": "code",
   "execution_count": 343,
   "id": "3b5c3e6f-0724-40a3-a492-357871894e00",
   "metadata": {
    "papermill": {
     "duration": 0.031629,
     "end_time": "2024-03-20T21:35:22.360047",
     "exception": false,
     "start_time": "2024-03-20T21:35:22.328418",
     "status": "completed"
    },
    "tags": []
   },
   "outputs": [
    {
     "data": {
      "text/plain": [
       "('methods',\n",
       " 'Note that, since we used the MultiXcan regression model (Equation (@eq:multixcan)), $\\\\mathbf{R}$ is only an approximation of gene correlations in S-MultiXcan. As explained before, S-MultiXcan approximates the joint regression parameters in MultiXcan using the marginal regression estimates from S-PrediXcan in (@eq:spredixcan) with some simplifying assumptions and different genotype covariance matrices. This complicates the derivation of an S-MultiXcan-specific solution to compute $\\\\mathbf{R}$. To account for this, we used a submatrix $\\\\mathbf{R}_{\\\\ell}$ corresponding to genes that are part of LV $\\\\ell$ only (top 1% of genes) instead of the entire matrix $\\\\mathbf{R}$. This simplification is conservative since correlations are accounted for top genes only. Our simulations ([Supplementary Note 1](#sm:reg:null_sim)) show that the model is approximately well-calibrated and can correct for LVs with adjacent and highly correlated genes at the top (e.g., Figure @fig:reg:nulls:qqplot:lv234). The simulation also identified 127 LVs in which the model was not well-calibrated (e.g., Figure @fig:reg:nulls:qqplot:lv914). As this can be attributed to limitations in accurately computing a gene correlation matrix, we excluded these LVs from our main analyses.',\n",
       " 'Since we utilized the MultiXcan regression model (Equation (@eq:multixcan)), $\\\\mathbf{R}$ serves as an approximation of gene correlations in S-MultiXcan. As previously discussed, S-MultiXcan approximates the joint regression parameters in MultiXcan by utilizing the marginal regression estimates from S-PrediXcan in Equation (@eq:spredixcan) with certain simplifying assumptions and different genotype covariance matrices. This complicates the process of deriving an S-MultiXcan-specific solution to calculate $\\\\mathbf{R}$. To address this issue, we opted to use a submatrix $\\\\mathbf{R}_{\\\\ell}$ that corresponds to genes exclusively part of latent variable (LV) $\\\\ell$ (top 1% of genes) rather than the entire matrix $\\\\mathbf{R}$. This simplification is considered conservative as it takes into account correlations for only the top genes. Our simulations (see Supplementary Note 1) demonstrate that the model is reasonably well-calibrated and can rectify LVs with neighboring and highly correlated genes at the top (e.g., see Figure @fig:reg:nulls:qqplot:lv234). The simulations also highlighted 127 LVs where the model was not adequately calibrated (e.g., see Figure @fig:reg:nulls:qqplot:lv914). Since this issue may stem from challenges in accurately computing a gene correlation matrix, we excluded these LVs from our primary analyses.')"
      ]
     },
     "metadata": {},
     "output_type": "display_data"
    }
   ],
   "source": [
    "display(paragraph_matches[-1])"
   ]
  },
  {
   "cell_type": "markdown",
   "id": "30c27ed6-5d47-4914-a798-e19235afd800",
   "metadata": {
    "editable": true,
    "papermill": {
     "duration": 0.026793,
     "end_time": "2024-03-20T21:35:22.128948",
     "exception": false,
     "start_time": "2024-03-20T21:35:22.102155",
     "status": "completed"
    },
    "slideshow": {
     "slide_type": ""
    },
    "tags": []
   },
   "source": [
    "####  Paragraph 08"
   ]
  },
  {
   "cell_type": "code",
   "execution_count": 349,
   "id": "3410d456-8d54-41fc-ba5e-8e7c89923dc6",
   "metadata": {
    "papermill": {
     "duration": 0.030794,
     "end_time": "2024-03-20T21:35:22.186333",
     "exception": false,
     "start_time": "2024-03-20T21:35:22.155539",
     "status": "completed"
    },
    "tags": []
   },
   "outputs": [
    {
     "name": "stdout",
     "output_type": "stream",
     "text": [
      "For the drug-disease prediction, we derived an LV-based method based on a drug repositioning framework previously used for psychiatry traits [@doi:10.1038/nn.4618], where individual/single genes associated with a trait are anticorrelated with expression profiles for drugs. We compared our LV-based method with this previously published, single-gene approach. For the single-gene method, we computed a drug-disease score by multiplying each S-PrediXcan set of signed $z$-scores in tissue $t$, $\\mathbf{M}^t$, with another set of signed $z$-scores from transcriptional responses profiled in LINCS L1000 [@doi:10.1016/j.cell.2017.10.049], $\\mathbf{L}^{c \\times m}$ (for $c$ compounds). Here $\\mathbf{M}^t$ contains information about whether a higher or lower predicted expression of a gene is associated with disease risk, whereas $\\mathbf{L}$ indicates whether a drug increases or decreases the expression of a gene. Therefore, these two matrices can be multiplied to compute a score for a drug-disease pair. The result of this product is $\\mathbf{D}^{t,k}=-1 \\cdot \\mathbf{M}^{t,k} \\mathbf{L}^\\top$, where $k$ refers to the number of most significant gene associations in $\\mathbf{M}^t$ for each trait. As suggested in [@doi:10.1038/nn.4618], $k$ could be either all genes or the top 50, 100, 250, and 500; then, we averaged score ranks across all $k$ and obtained $\\mathbf{D}^t$. Finally, for each drug-disease pair, we took the maximum prediction score across all tissues: $\\mathbf{D}_{ij} = \\max \\{ \\mathbf{D}_{ij}^t \\mid \\forall t \\}$.\n"
     ]
    }
   ],
   "source": [
    "par0 = (\n",
    "    process_paragraph(orig_section_paragraphs[43])\n",
    ")\n",
    "print(par0)"
   ]
  },
  {
   "cell_type": "code",
   "execution_count": 351,
   "id": "66d483f0-c8f3-4b38-bd1e-f7cd435dd29b",
   "metadata": {
    "papermill": {
     "duration": 0.031321,
     "end_time": "2024-03-20T21:35:22.244328",
     "exception": false,
     "start_time": "2024-03-20T21:35:22.213007",
     "status": "completed"
    },
    "tags": []
   },
   "outputs": [
    {
     "name": "stdout",
     "output_type": "stream",
     "text": [
      "For the drug-disease prediction, we developed an LV-based method inspired by a drug repositioning framework previously applied to psychiatry traits (Gandal et al., 2018), where individual genes associated with a trait are negatively correlated with drug expression profiles. Our LV-based method was compared to the single-gene approach described in a study by Subramanian et al. (2017). In the single-gene method, we calculated a drug-disease score by multiplying each S-PrediXcan set of signed z-scores in tissue $t$, denoted as $\\mathbf{M}^t$, with another set of signed z-scores from transcriptional responses profiled in LINCS L1000 (Subramanian et al., 2017), represented as $\\mathbf{L}^{c \\times m}$ (for $c$ compounds). Here, $\\mathbf{M}^t$ indicates whether a higher or lower predicted expression of a gene is linked to disease risk, while $\\mathbf{L}$ shows whether a drug increases or decreases gene expression. These two matrices can be multiplied to derive a score for a drug-disease pair. The resulting product is denoted as $\\mathbf{D}^{t,k}=-1 \\cdot \\mathbf{M}^{t,k} \\mathbf{L}^\\top$, where $k$ represents the number of most significant gene associations in $\\mathbf{M}^t$ for each trait. As suggested by Gandal et al. (2018), $k$ could encompass all genes or the top 50, 100, 250, and 500; subsequently, we averaged score ranks across all $k$ to obtain $\\mathbf{D}^t$. Finally, for each drug-disease pair, we selected the maximum prediction score across all tissues: $\\mathbf{D}_{ij} = \\max \\{ \\mathbf{D}_{ij}^t \\mid \\forall t \\}$.\n"
     ]
    }
   ],
   "source": [
    "par1 = (\n",
    "    process_paragraph(mod_section_paragraphs[58])\n",
    ")\n",
    "print(par1)"
   ]
  },
  {
   "cell_type": "code",
   "execution_count": 352,
   "id": "d434ce38-ba1e-483c-939b-bc2c7d86502c",
   "metadata": {
    "papermill": {
     "duration": 0.030508,
     "end_time": "2024-03-20T21:35:22.301560",
     "exception": false,
     "start_time": "2024-03-20T21:35:22.271052",
     "status": "completed"
    },
    "tags": []
   },
   "outputs": [],
   "source": [
    "paragraph_matches.append(\n",
    "    (\n",
    "        section_name,\n",
    "        par0,\n",
    "        par1,\n",
    "    )\n",
    ")"
   ]
  },
  {
   "cell_type": "code",
   "execution_count": 353,
   "id": "e7dc2936-af7e-44f7-9dcf-d67253b15f90",
   "metadata": {
    "papermill": {
     "duration": 0.031629,
     "end_time": "2024-03-20T21:35:22.360047",
     "exception": false,
     "start_time": "2024-03-20T21:35:22.328418",
     "status": "completed"
    },
    "tags": []
   },
   "outputs": [
    {
     "data": {
      "text/plain": [
       "('methods',\n",
       " 'For the drug-disease prediction, we derived an LV-based method based on a drug repositioning framework previously used for psychiatry traits [@doi:10.1038/nn.4618], where individual/single genes associated with a trait are anticorrelated with expression profiles for drugs. We compared our LV-based method with this previously published, single-gene approach. For the single-gene method, we computed a drug-disease score by multiplying each S-PrediXcan set of signed $z$-scores in tissue $t$, $\\\\mathbf{M}^t$, with another set of signed $z$-scores from transcriptional responses profiled in LINCS L1000 [@doi:10.1016/j.cell.2017.10.049], $\\\\mathbf{L}^{c \\\\times m}$ (for $c$ compounds). Here $\\\\mathbf{M}^t$ contains information about whether a higher or lower predicted expression of a gene is associated with disease risk, whereas $\\\\mathbf{L}$ indicates whether a drug increases or decreases the expression of a gene. Therefore, these two matrices can be multiplied to compute a score for a drug-disease pair. The result of this product is $\\\\mathbf{D}^{t,k}=-1 \\\\cdot \\\\mathbf{M}^{t,k} \\\\mathbf{L}^\\\\top$, where $k$ refers to the number of most significant gene associations in $\\\\mathbf{M}^t$ for each trait. As suggested in [@doi:10.1038/nn.4618], $k$ could be either all genes or the top 50, 100, 250, and 500; then, we averaged score ranks across all $k$ and obtained $\\\\mathbf{D}^t$. Finally, for each drug-disease pair, we took the maximum prediction score across all tissues: $\\\\mathbf{D}_{ij} = \\\\max \\\\{ \\\\mathbf{D}_{ij}^t \\\\mid \\\\forall t \\\\}$.',\n",
       " 'For the drug-disease prediction, we developed an LV-based method inspired by a drug repositioning framework previously applied to psychiatry traits (Gandal et al., 2018), where individual genes associated with a trait are negatively correlated with drug expression profiles. Our LV-based method was compared to the single-gene approach described in a study by Subramanian et al. (2017). In the single-gene method, we calculated a drug-disease score by multiplying each S-PrediXcan set of signed z-scores in tissue $t$, denoted as $\\\\mathbf{M}^t$, with another set of signed z-scores from transcriptional responses profiled in LINCS L1000 (Subramanian et al., 2017), represented as $\\\\mathbf{L}^{c \\\\times m}$ (for $c$ compounds). Here, $\\\\mathbf{M}^t$ indicates whether a higher or lower predicted expression of a gene is linked to disease risk, while $\\\\mathbf{L}$ shows whether a drug increases or decreases gene expression. These two matrices can be multiplied to derive a score for a drug-disease pair. The resulting product is denoted as $\\\\mathbf{D}^{t,k}=-1 \\\\cdot \\\\mathbf{M}^{t,k} \\\\mathbf{L}^\\\\top$, where $k$ represents the number of most significant gene associations in $\\\\mathbf{M}^t$ for each trait. As suggested by Gandal et al. (2018), $k$ could encompass all genes or the top 50, 100, 250, and 500; subsequently, we averaged score ranks across all $k$ to obtain $\\\\mathbf{D}^t$. Finally, for each drug-disease pair, we selected the maximum prediction score across all tissues: $\\\\mathbf{D}_{ij} = \\\\max \\\\{ \\\\mathbf{D}_{ij}^t \\\\mid \\\\forall t \\\\}$.')"
      ]
     },
     "metadata": {},
     "output_type": "display_data"
    }
   ],
   "source": [
    "display(paragraph_matches[-1])"
   ]
  },
  {
   "cell_type": "markdown",
   "id": "07bdb861-1f65-4b25-9068-00db85b94867",
   "metadata": {
    "editable": true,
    "papermill": {
     "duration": 0.026793,
     "end_time": "2024-03-20T21:35:22.128948",
     "exception": false,
     "start_time": "2024-03-20T21:35:22.102155",
     "status": "completed"
    },
    "slideshow": {
     "slide_type": ""
    },
    "tags": []
   },
   "source": [
    "####  Paragraph 09"
   ]
  },
  {
   "cell_type": "code",
   "execution_count": 354,
   "id": "2ca2548a-d9e7-449d-bcbc-eddcdbf400a3",
   "metadata": {
    "papermill": {
     "duration": 0.030794,
     "end_time": "2024-03-20T21:35:22.186333",
     "exception": false,
     "start_time": "2024-03-20T21:35:22.155539",
     "status": "completed"
    },
    "tags": []
   },
   "outputs": [
    {
     "name": "stdout",
     "output_type": "stream",
     "text": [
      "The same procedure was used for the LV-based approach, where we projected $\\mathbf{M}^{t}$ and $\\mathbf{L}$ into the gene module latent space using Equation (@eq:proj), leading to $\\hat{\\mathbf{M}}^t$ and $\\hat{\\mathbf{L}}^{l \\times c}$, respectively. Finally, $\\mathbf{D}^{t,k}=-1 \\cdot \\hat{\\mathbf{L}}^{\\top} \\hat{\\mathbf{M}}^{t,k}$, where in this case $k$ could be all LVs or the top 5, 10, 25 and 50 (since we have an order of magnitude less LVs than genes).\n"
     ]
    }
   ],
   "source": [
    "par0 = (\n",
    "    process_paragraph(orig_section_paragraphs[44])\n",
    ")\n",
    "print(par0)"
   ]
  },
  {
   "cell_type": "code",
   "execution_count": 355,
   "id": "8424f98a-ca80-42a4-89e2-22d15ff0718b",
   "metadata": {
    "papermill": {
     "duration": 0.031321,
     "end_time": "2024-03-20T21:35:22.244328",
     "exception": false,
     "start_time": "2024-03-20T21:35:22.213007",
     "status": "completed"
    },
    "tags": []
   },
   "outputs": [
    {
     "name": "stdout",
     "output_type": "stream",
     "text": [
      "The same procedure was utilized for the latent variable (LV)-based approach, in which we projected the matrices $\\mathbf{M}^{t}$ and $\\mathbf{L}$ into the gene module latent space using Equation (@eq:proj). This projection resulted in the matrices $\\hat{\\mathbf{M}}^t$ and $\\hat{\\mathbf{L}}^{l \\times c}$, respectively. Subsequently, we calculated $\\mathbf{D}^{t,k}=-1 \\cdot \\hat{\\mathbf{L}}^{\\top} \\hat{\\mathbf{M}}^{t,k}$, where in this scenario, $k$ could represent all LVs or the top 5, 10, 25, and 50 (given that we have approximately ten times fewer LVs than genes).\n"
     ]
    }
   ],
   "source": [
    "par1 = (\n",
    "    process_paragraph(mod_section_paragraphs[59])\n",
    ")\n",
    "print(par1)"
   ]
  },
  {
   "cell_type": "code",
   "execution_count": 356,
   "id": "071bb2cf-5a25-4f9d-a58b-e115bf133042",
   "metadata": {
    "papermill": {
     "duration": 0.030508,
     "end_time": "2024-03-20T21:35:22.301560",
     "exception": false,
     "start_time": "2024-03-20T21:35:22.271052",
     "status": "completed"
    },
    "tags": []
   },
   "outputs": [],
   "source": [
    "paragraph_matches.append(\n",
    "    (\n",
    "        section_name,\n",
    "        par0,\n",
    "        par1,\n",
    "    )\n",
    ")"
   ]
  },
  {
   "cell_type": "code",
   "execution_count": 357,
   "id": "f703df9a-0643-4ad5-85ed-5e9229c4f728",
   "metadata": {
    "papermill": {
     "duration": 0.031629,
     "end_time": "2024-03-20T21:35:22.360047",
     "exception": false,
     "start_time": "2024-03-20T21:35:22.328418",
     "status": "completed"
    },
    "tags": []
   },
   "outputs": [
    {
     "data": {
      "text/plain": [
       "('methods',\n",
       " 'The same procedure was used for the LV-based approach, where we projected $\\\\mathbf{M}^{t}$ and $\\\\mathbf{L}$ into the gene module latent space using Equation (@eq:proj), leading to $\\\\hat{\\\\mathbf{M}}^t$ and $\\\\hat{\\\\mathbf{L}}^{l \\\\times c}$, respectively. Finally, $\\\\mathbf{D}^{t,k}=-1 \\\\cdot \\\\hat{\\\\mathbf{L}}^{\\\\top} \\\\hat{\\\\mathbf{M}}^{t,k}$, where in this case $k$ could be all LVs or the top 5, 10, 25 and 50 (since we have an order of magnitude less LVs than genes).',\n",
       " 'The same procedure was utilized for the latent variable (LV)-based approach, in which we projected the matrices $\\\\mathbf{M}^{t}$ and $\\\\mathbf{L}$ into the gene module latent space using Equation (@eq:proj). This projection resulted in the matrices $\\\\hat{\\\\mathbf{M}}^t$ and $\\\\hat{\\\\mathbf{L}}^{l \\\\times c}$, respectively. Subsequently, we calculated $\\\\mathbf{D}^{t,k}=-1 \\\\cdot \\\\hat{\\\\mathbf{L}}^{\\\\top} \\\\hat{\\\\mathbf{M}}^{t,k}$, where in this scenario, $k$ could represent all LVs or the top 5, 10, 25, and 50 (given that we have approximately ten times fewer LVs than genes).')"
      ]
     },
     "metadata": {},
     "output_type": "display_data"
    }
   ],
   "source": [
    "display(paragraph_matches[-1])"
   ]
  },
  {
   "cell_type": "markdown",
   "id": "a0052547-f9d1-467a-ab60-153cf8f714c6",
   "metadata": {
    "editable": true,
    "papermill": {
     "duration": 0.026793,
     "end_time": "2024-03-20T21:35:22.128948",
     "exception": false,
     "start_time": "2024-03-20T21:35:22.102155",
     "status": "completed"
    },
    "slideshow": {
     "slide_type": ""
    },
    "tags": []
   },
   "source": [
    "####  Paragraph 10"
   ]
  },
  {
   "cell_type": "code",
   "execution_count": 360,
   "id": "1a0fb39c-c57d-430c-abf3-5432c15011f9",
   "metadata": {
    "papermill": {
     "duration": 0.030794,
     "end_time": "2024-03-20T21:35:22.186333",
     "exception": false,
     "start_time": "2024-03-20T21:35:22.155539",
     "status": "completed"
    },
    "tags": []
   },
   "outputs": [
    {
     "name": "stdout",
     "output_type": "stream",
     "text": [
      "We performed two preprocessing steps on the S-MultiXcan results before the cluster analysis. First, we combined results in $\\mathbf{M}$ (with $p$-values converted to $z$-scores, as described before) for traits that mapped to the same Experimental Factor Ontology (EFO) [@doi:10.1093/bioinformatics/btq099] term using the Stouffer's method: $\\sum w_i M_{ij} / \\sqrt{\\sum w_i^2}$, where $w_i$ is a weight based on the GWAS sample size for trait $i$, and $M_{ij}$ is the $z$-score for gene $j$. Second, we divided all $z$-scores for each trait $i$ by their sum to reduce the effect of highly polygenic traits: $M_{ij} / \\sum M_{ij}$. Finally, we projected this data matrix using Equation (@eq:proj), obtaining $\\hat{\\mathbf{M}}$ with $n$=3,752 traits and $l$=987 LVs as the input of our clustering pipeline.\n"
     ]
    }
   ],
   "source": [
    "par0 = (\n",
    "    process_paragraph(orig_section_paragraphs[47])\n",
    ")\n",
    "print(par0)"
   ]
  },
  {
   "cell_type": "code",
   "execution_count": 370,
   "id": "dd6a862a-5eb3-4846-bc18-098315165445",
   "metadata": {
    "papermill": {
     "duration": 0.031321,
     "end_time": "2024-03-20T21:35:22.244328",
     "exception": false,
     "start_time": "2024-03-20T21:35:22.213007",
     "status": "completed"
    },
    "tags": []
   },
   "outputs": [
    {
     "name": "stdout",
     "output_type": "stream",
     "text": [
      "We performed two preprocessing steps on the S-MultiXcan results before the cluster analysis. First, we combined results in $\\mathbf{M}$ (with $p$-values converted to $z$-scores, as described before) for traits that mapped to the same Experimental Factor Ontology (EFO) [@doi:10.1093/bioinformatics/btq099] term using the Stouffer's method: \n",
      "$$\n",
      "\\sum w_i M_{ij} / \\sqrt{\\sum w_i^2} \n",
      "$$\n",
      "where $w_i$ is a weight based on the GWAS sample size for trait $i$, and $M_{ij}$ is the $z$-score for gene $j$. Second, we divided all $z$-scores for each trait $i$ by their sum to reduce the effect of highly polygenic traits: \n",
      "$$\n",
      "M_{ij} / \\sum M_{ij} \n",
      "$$\n"
     ]
    }
   ],
   "source": [
    "par1 = (\n",
    "    process_paragraph(mod_section_paragraphs[63:67])\n",
    "    .replace(\"$$\", \"\\n$$\")\n",
    "    .replace(\"$$ \\\\\", \"$$\\n\\\\\")\n",
    "    .replace(\"$$ where\", \"$$\\nwhere\")\n",
    "    .replace(\"$$ M\", \"$$\\nM\")\n",
    ")\n",
    "print(par1)"
   ]
  },
  {
   "cell_type": "code",
   "execution_count": 371,
   "id": "8d2e1b7c-6569-49da-81c7-e3bd6d2e80a9",
   "metadata": {
    "papermill": {
     "duration": 0.030508,
     "end_time": "2024-03-20T21:35:22.301560",
     "exception": false,
     "start_time": "2024-03-20T21:35:22.271052",
     "status": "completed"
    },
    "tags": []
   },
   "outputs": [],
   "source": [
    "paragraph_matches.append(\n",
    "    (\n",
    "        section_name,\n",
    "        par0,\n",
    "        par1,\n",
    "    )\n",
    ")"
   ]
  },
  {
   "cell_type": "code",
   "execution_count": 372,
   "id": "98630379-9f40-4ebf-add8-43c2c40584cb",
   "metadata": {
    "papermill": {
     "duration": 0.031629,
     "end_time": "2024-03-20T21:35:22.360047",
     "exception": false,
     "start_time": "2024-03-20T21:35:22.328418",
     "status": "completed"
    },
    "tags": []
   },
   "outputs": [
    {
     "data": {
      "text/plain": [
       "('methods',\n",
       " \"We performed two preprocessing steps on the S-MultiXcan results before the cluster analysis. First, we combined results in $\\\\mathbf{M}$ (with $p$-values converted to $z$-scores, as described before) for traits that mapped to the same Experimental Factor Ontology (EFO) [@doi:10.1093/bioinformatics/btq099] term using the Stouffer's method: $\\\\sum w_i M_{ij} / \\\\sqrt{\\\\sum w_i^2}$, where $w_i$ is a weight based on the GWAS sample size for trait $i$, and $M_{ij}$ is the $z$-score for gene $j$. Second, we divided all $z$-scores for each trait $i$ by their sum to reduce the effect of highly polygenic traits: $M_{ij} / \\\\sum M_{ij}$. Finally, we projected this data matrix using Equation (@eq:proj), obtaining $\\\\hat{\\\\mathbf{M}}$ with $n$=3,752 traits and $l$=987 LVs as the input of our clustering pipeline.\",\n",
       " \"We performed two preprocessing steps on the S-MultiXcan results before the cluster analysis. First, we combined results in $\\\\mathbf{M}$ (with $p$-values converted to $z$-scores, as described before) for traits that mapped to the same Experimental Factor Ontology (EFO) [@doi:10.1093/bioinformatics/btq099] term using the Stouffer's method: \\n$$\\n\\\\sum w_i M_{ij} / \\\\sqrt{\\\\sum w_i^2} \\n$$\\nwhere $w_i$ is a weight based on the GWAS sample size for trait $i$, and $M_{ij}$ is the $z$-score for gene $j$. Second, we divided all $z$-scores for each trait $i$ by their sum to reduce the effect of highly polygenic traits: \\n$$\\nM_{ij} / \\\\sum M_{ij} \\n$$\")"
      ]
     },
     "metadata": {},
     "output_type": "display_data"
    }
   ],
   "source": [
    "display(paragraph_matches[-1])"
   ]
  },
  {
   "cell_type": "markdown",
   "id": "b097a7b5-433c-4354-9a0e-46d324eb43c5",
   "metadata": {
    "editable": true,
    "papermill": {
     "duration": 0.026793,
     "end_time": "2024-03-20T21:35:22.128948",
     "exception": false,
     "start_time": "2024-03-20T21:35:22.102155",
     "status": "completed"
    },
    "slideshow": {
     "slide_type": ""
    },
    "tags": []
   },
   "source": [
    "####  Paragraph 11"
   ]
  },
  {
   "cell_type": "code",
   "execution_count": 378,
   "id": "d8d1aeb7-f731-4d87-9f1f-6510b39b17d0",
   "metadata": {
    "papermill": {
     "duration": 0.030794,
     "end_time": "2024-03-20T21:35:22.186333",
     "exception": false,
     "start_time": "2024-03-20T21:35:22.155539",
     "status": "completed"
    },
    "tags": []
   },
   "outputs": [
    {
     "name": "stdout",
     "output_type": "stream",
     "text": [
      "A partitioning of $\\hat{\\mathbf{M}}$ with $n$ traits into $k$ clusters is represented as a label vector $\\pi \\in \\mathbb{N}^n$. Consensus clustering approaches consist of two steps: 1) the generation of an ensemble $\\Pi$ with $r$ partitions of the dataset: $\\Pi=\\{\\pi_1, \\pi_2, \\ldots, \\pi_r\\}$, and 2) the combination of the ensemble into a consolidated solution defined as: \n",
      "$$\n",
      "\\pi^* = \\mathrm{arg}\\,\\underset{\\hat{\\pi}}{\\max} Q(\\{ \\lvert \\mathcal{L}^i \\lvert \\phi(\\hat{\\pi}_{\\mathcal{L}^i}, \\pi_{i \\mathcal{L}^i}) \\mid i \\in \\{1,\\ldots,r\\} \\}), \n",
      "$$ {#eq:consensus:obj_func}\n",
      "where $\\mathcal{L}^i$ is a set of data indices with known cluster labels for partition $i$, $\\phi\\colon \\mathbb{N}^n \\times \\mathbb{N}^n \\to \\mathbb{R}$ is a function that measures the similarity between two partitions, and $Q$ is a measure of central tendency, such as the mean or median. We used the adjusted Rand index (ARI) [@doi:10.1007/BF01908075] for $\\phi$ and the median for $Q$. To obtain $\\pi^*$, we define a consensus function $\\Gamma\\colon \\mathbb{N}^{n \\times r} \\to \\mathbb{N}^n$ with $\\Pi$ as the input. We used consensus functions based on the evidence accumulation clustering (EAC) paradigm [@doi:10.1109/TPAMI.2005.113], where $\\Pi$ is first transformed into a distance matrix $\\mathbf{D}_{ij} = d_{ij} / r$, where $d_{ij}$ is the number of times traits $i$ and $j$ were grouped in different clusters across all $r$ partitions in $\\Pi$. Then, $\\Gamma$ can be any similarity-based clustering algorithm, which is applied on $\\mathbf{D}$ to derive the final partition $\\pi^*$.\n"
     ]
    }
   ],
   "source": [
    "par0 = (\n",
    "    process_paragraph(orig_section_paragraphs[48:51])\n",
    "    .replace(\"$$\", \"\\n$$\")\n",
    "    .replace(\"$$ \\\\\", \"$$\\n\\\\\")\n",
    "    .replace(\":obj_func} where\", \":obj_func}\\nwhere\")\n",
    ")\n",
    "print(par0)"
   ]
  },
  {
   "cell_type": "code",
   "execution_count": 379,
   "id": "a94a22c2-9c56-4ee7-b320-084f76b23f82",
   "metadata": {
    "papermill": {
     "duration": 0.031321,
     "end_time": "2024-03-20T21:35:22.244328",
     "exception": false,
     "start_time": "2024-03-20T21:35:22.213007",
     "status": "completed"
    },
    "tags": []
   },
   "outputs": [
    {
     "name": "stdout",
     "output_type": "stream",
     "text": [
      "A partitioning of $\\hat{\\mathbf{M}}$ with $n$ traits into $k$ clusters is represented as a label vector $\\pi \\in \\mathbb{N}^n$. Consensus clustering approaches consist of two steps: 1) the generation of an ensemble $\\Pi$ with $r$ partitions of the dataset: $\\Pi=\\{\\pi_1, \\pi_2, \\ldots, \\pi_r\\}$, and 2) the combination of the ensemble into a consolidated solution defined as: \n",
      "$$\n",
      "\\pi^* = \\mathrm{arg}\\,\\underset{\\hat{\\pi}}{\\max} Q(\\{ \\lvert \\mathcal{L}^i \\lvert \\phi(\\hat{\\pi}_{\\mathcal{L}^i}, \\pi_{i \\mathcal{L}^i}) \\mid i \\in \\{1,\\ldots,r\\} \\}), \n",
      "$$ {#eq:consensus:obj_func}\n",
      "where $\\mathcal{L}^i$ is a set of data indices with known cluster labels for partition $i$, $\\phi\\colon \\mathbb{N}^n \\times \\mathbb{N}^n \\to \\mathbb{R}$ is a function that measures the similarity between two partitions, and $Q$ is a measure of central tendency, such as the mean or median. The adjusted Rand index (ARI) [@doi:10.1007/BF01908075] is used for $\\phi$, and the median is used for $Q$. To obtain $\\pi^*$, a consensus function $\\Gamma\\colon \\mathbb{N}^{n \\times r} \\to \\mathbb{N}^n$ is defined with $\\Pi$ as the input. Consensus functions based on the evidence accumulation clustering (EAC) paradigm [@doi:10.1109/TPAMI.2005.113] are employed, where $\\Pi$ is first transformed into a distance matrix $\\mathbf{D}_{ij} = d_{ij} / r$, with $d_{ij}$ representing the number of times traits $i$ and $j$ were grouped in different clusters across all $r$ partitions in $\\Pi$. Subsequently, $\\Gamma$ can be any similarity-based clustering algorithm applied to $\\mathbf{D}$ to derive the final partition $\\pi^*$.\n"
     ]
    }
   ],
   "source": [
    "par1 = (\n",
    "    process_paragraph(mod_section_paragraphs[68:71])\n",
    "    .replace(\"$$\", \"\\n$$\")\n",
    "    .replace(\"$$ \\\\\", \"$$\\n\\\\\")\n",
    "    .replace(\":obj_func} where\", \":obj_func}\\nwhere\")\n",
    ")\n",
    "print(par1)"
   ]
  },
  {
   "cell_type": "code",
   "execution_count": 380,
   "id": "724e42e5-6f5f-4b1d-a1d3-2eb89e759ddd",
   "metadata": {
    "papermill": {
     "duration": 0.030508,
     "end_time": "2024-03-20T21:35:22.301560",
     "exception": false,
     "start_time": "2024-03-20T21:35:22.271052",
     "status": "completed"
    },
    "tags": []
   },
   "outputs": [],
   "source": [
    "paragraph_matches.append(\n",
    "    (\n",
    "        section_name,\n",
    "        par0,\n",
    "        par1,\n",
    "    )\n",
    ")"
   ]
  },
  {
   "cell_type": "code",
   "execution_count": 381,
   "id": "0a0499e5-8a18-4646-b81c-218a59647219",
   "metadata": {
    "papermill": {
     "duration": 0.031629,
     "end_time": "2024-03-20T21:35:22.360047",
     "exception": false,
     "start_time": "2024-03-20T21:35:22.328418",
     "status": "completed"
    },
    "tags": []
   },
   "outputs": [
    {
     "data": {
      "text/plain": [
       "('methods',\n",
       " 'A partitioning of $\\\\hat{\\\\mathbf{M}}$ with $n$ traits into $k$ clusters is represented as a label vector $\\\\pi \\\\in \\\\mathbb{N}^n$. Consensus clustering approaches consist of two steps: 1) the generation of an ensemble $\\\\Pi$ with $r$ partitions of the dataset: $\\\\Pi=\\\\{\\\\pi_1, \\\\pi_2, \\\\ldots, \\\\pi_r\\\\}$, and 2) the combination of the ensemble into a consolidated solution defined as: \\n$$\\n\\\\pi^* = \\\\mathrm{arg}\\\\,\\\\underset{\\\\hat{\\\\pi}}{\\\\max} Q(\\\\{ \\\\lvert \\\\mathcal{L}^i \\\\lvert \\\\phi(\\\\hat{\\\\pi}_{\\\\mathcal{L}^i}, \\\\pi_{i \\\\mathcal{L}^i}) \\\\mid i \\\\in \\\\{1,\\\\ldots,r\\\\} \\\\}), \\n$$ {#eq:consensus:obj_func}\\nwhere $\\\\mathcal{L}^i$ is a set of data indices with known cluster labels for partition $i$, $\\\\phi\\\\colon \\\\mathbb{N}^n \\\\times \\\\mathbb{N}^n \\\\to \\\\mathbb{R}$ is a function that measures the similarity between two partitions, and $Q$ is a measure of central tendency, such as the mean or median. We used the adjusted Rand index (ARI) [@doi:10.1007/BF01908075] for $\\\\phi$ and the median for $Q$. To obtain $\\\\pi^*$, we define a consensus function $\\\\Gamma\\\\colon \\\\mathbb{N}^{n \\\\times r} \\\\to \\\\mathbb{N}^n$ with $\\\\Pi$ as the input. We used consensus functions based on the evidence accumulation clustering (EAC) paradigm [@doi:10.1109/TPAMI.2005.113], where $\\\\Pi$ is first transformed into a distance matrix $\\\\mathbf{D}_{ij} = d_{ij} / r$, where $d_{ij}$ is the number of times traits $i$ and $j$ were grouped in different clusters across all $r$ partitions in $\\\\Pi$. Then, $\\\\Gamma$ can be any similarity-based clustering algorithm, which is applied on $\\\\mathbf{D}$ to derive the final partition $\\\\pi^*$.',\n",
       " 'A partitioning of $\\\\hat{\\\\mathbf{M}}$ with $n$ traits into $k$ clusters is represented as a label vector $\\\\pi \\\\in \\\\mathbb{N}^n$. Consensus clustering approaches consist of two steps: 1) the generation of an ensemble $\\\\Pi$ with $r$ partitions of the dataset: $\\\\Pi=\\\\{\\\\pi_1, \\\\pi_2, \\\\ldots, \\\\pi_r\\\\}$, and 2) the combination of the ensemble into a consolidated solution defined as: \\n$$\\n\\\\pi^* = \\\\mathrm{arg}\\\\,\\\\underset{\\\\hat{\\\\pi}}{\\\\max} Q(\\\\{ \\\\lvert \\\\mathcal{L}^i \\\\lvert \\\\phi(\\\\hat{\\\\pi}_{\\\\mathcal{L}^i}, \\\\pi_{i \\\\mathcal{L}^i}) \\\\mid i \\\\in \\\\{1,\\\\ldots,r\\\\} \\\\}), \\n$$ {#eq:consensus:obj_func}\\nwhere $\\\\mathcal{L}^i$ is a set of data indices with known cluster labels for partition $i$, $\\\\phi\\\\colon \\\\mathbb{N}^n \\\\times \\\\mathbb{N}^n \\\\to \\\\mathbb{R}$ is a function that measures the similarity between two partitions, and $Q$ is a measure of central tendency, such as the mean or median. The adjusted Rand index (ARI) [@doi:10.1007/BF01908075] is used for $\\\\phi$, and the median is used for $Q$. To obtain $\\\\pi^*$, a consensus function $\\\\Gamma\\\\colon \\\\mathbb{N}^{n \\\\times r} \\\\to \\\\mathbb{N}^n$ is defined with $\\\\Pi$ as the input. Consensus functions based on the evidence accumulation clustering (EAC) paradigm [@doi:10.1109/TPAMI.2005.113] are employed, where $\\\\Pi$ is first transformed into a distance matrix $\\\\mathbf{D}_{ij} = d_{ij} / r$, with $d_{ij}$ representing the number of times traits $i$ and $j$ were grouped in different clusters across all $r$ partitions in $\\\\Pi$. Subsequently, $\\\\Gamma$ can be any similarity-based clustering algorithm applied to $\\\\mathbf{D}$ to derive the final partition $\\\\pi^*$.')"
      ]
     },
     "metadata": {},
     "output_type": "display_data"
    }
   ],
   "source": [
    "display(paragraph_matches[-1])"
   ]
  },
  {
   "cell_type": "markdown",
   "id": "cdf9073f-9cbf-4fcb-b5c1-92a102b7331f",
   "metadata": {
    "editable": true,
    "papermill": {
     "duration": 0.026793,
     "end_time": "2024-03-20T21:35:22.128948",
     "exception": false,
     "start_time": "2024-03-20T21:35:22.102155",
     "status": "completed"
    },
    "slideshow": {
     "slide_type": ""
    },
    "tags": []
   },
   "source": [
    "####  Paragraph 12"
   ]
  },
  {
   "cell_type": "code",
   "execution_count": 382,
   "id": "86b9d139-68d5-4567-91a2-6ec579fcc59d",
   "metadata": {
    "papermill": {
     "duration": 0.030794,
     "end_time": "2024-03-20T21:35:22.186333",
     "exception": false,
     "start_time": "2024-03-20T21:35:22.155539",
     "status": "completed"
    },
    "tags": []
   },
   "outputs": [
    {
     "name": "stdout",
     "output_type": "stream",
     "text": [
      "For the ensemble generation step, we used different algorithms to create a highly diverse set of partitions (see Figure @fig:clustering:design) since diversity is an important property for ensembles [@doi:10.1016/j.ins.2016.04.027; @doi:10.1109/TPAMI.2011.84; @doi:10.1016/j.patcog.2014.04.005]. We used three data representations: the raw dataset, its projection into the top 50 principal components, and the embedding learned by UMAP [@arxiv:1802.03426] using 50 components. For each of these, we applied five clustering algorithms covering a wide range of different assumptions on the data structure: $k$-means [@Arthur2007], spectral clustering [@Ng2001], a Gaussian mixture model (GMM), hierarchical clustering, and DBSCAN [@Ester1996]. For $k$-means, spectral clustering and GMM, we specified a range of $k$ between 2 and $\\sqrt{n} \\approx 60$, and for each $k$ we generated five partitions using random seeds. For hierarchical clustering, for each $k$, we generated four partitions using common linkage criteria: ward, complete, average and single. For DBSCAN, we combined different ranges for parameters $\\epsilon$ (the maximum distance between two data points to be considered part of the same neighborhood) and *minPts* (the minimum number of data points in a neighborhood for a data point to be considered a core point), based on the procedure in [@doi:10.1088/1755-1315/31/1/012012]. Specifically, we used *minPts* values from 2 to 125. For each data representation (raw, PCA and UMAP), we determined a plausible range of $\\epsilon$ values by observing the distribution of the mean distance of the *minPts*-nearest neighbors across all data points. Since some combinations of *minPts* and $\\epsilon$ might not produce a meaningful partition (for instance, when all points are detected as noisy or only one cluster is found), we resampled partitions generated by DBSCAN to ensure an equal representation of this algorithm in the ensemble. This procedure generated a final ensemble of 4,428 partitions of 3,752 traits.\n"
     ]
    }
   ],
   "source": [
    "par0 = (\n",
    "    process_paragraph(orig_section_paragraphs[51])\n",
    ")\n",
    "print(par0)"
   ]
  },
  {
   "cell_type": "code",
   "execution_count": 389,
   "id": "628caf2d-ff8b-498c-b84b-ea08ecc8f1e8",
   "metadata": {
    "papermill": {
     "duration": 0.031321,
     "end_time": "2024-03-20T21:35:22.244328",
     "exception": false,
     "start_time": "2024-03-20T21:35:22.213007",
     "status": "completed"
    },
    "tags": []
   },
   "outputs": [
    {
     "name": "stdout",
     "output_type": "stream",
     "text": [
      "For the ensemble generation step, we utilized various algorithms to create a highly diverse set of partitions (see Figure 1) since diversity is a crucial property for ensembles (Li et al., 2016; Zhang et al., 2011; Wang et al., 2014). We employed three data representations: the raw dataset, its projection into the top 50 principal components, and the embedding learned by UMAP (McInnes et al., 2018) using 50 components. For each of these, we applied five clustering algorithms covering a wide range of different assumptions on the data structure: k-means (Arthur & Vassilvitskii, 2007), spectral clustering (Ng et al., 2001), a Gaussian mixture model (GMM), hierarchical clustering, and DBSCAN (Ester et al., 1996). \n",
      "$$\n",
      "k: \\text{Number of clusters} \n",
      "$$\n",
      "\n",
      "$$\n",
      "\\epsilon: \\text{Maximum distance between two data points} \n",
      "$$\n",
      "\n",
      "$$\n",
      "minPts: \\text{Minimum number of data points in a neighborhood} \n",
      "$$\n",
      "For k-means, spectral clustering, and GMM, we specified a range of k between 2 and √n ≈ 60, and for each k, we generated five partitions using random seeds. For hierarchical clustering, for each k, we generated four partitions using common linkage criteria: ward, complete, average, and single. For DBSCAN, we combined different ranges for parameters ε and minPts, based on the procedure in (Ester et al., 1996). Specifically, we used minPts values from 2 to 125. For each data representation (raw, PCA, and UMAP), we determined a plausible range of ε values by observing the distribution of the mean distance of the minPts-nearest neighbors across all data points. Since some combinations of minPts and ε might not produce a meaningful partition (for instance, when all points are detected as noisy or only one cluster is found), we resampled partitions generated by DBSCAN to ensure an equal representation of this algorithm in the ensemble. This procedure generated a final ensemble of 4,428 partitions of 3,752 traits.\n"
     ]
    }
   ],
   "source": [
    "par1 = (\n",
    "    process_paragraph(mod_section_paragraphs[71:76])\n",
    "    .replace(\"$$\", \"\\n$$\")\n",
    "    .replace(\"$$ \", \"$$\\n\")\n",
    "    # .replace(\":obj_func} where\", \":obj_func}\\nwhere\")\n",
    ")\n",
    "print(par1)"
   ]
  },
  {
   "cell_type": "code",
   "execution_count": 390,
   "id": "b46c2e64-da2b-4f4a-af5b-c190d53dee2c",
   "metadata": {
    "papermill": {
     "duration": 0.030508,
     "end_time": "2024-03-20T21:35:22.301560",
     "exception": false,
     "start_time": "2024-03-20T21:35:22.271052",
     "status": "completed"
    },
    "tags": []
   },
   "outputs": [],
   "source": [
    "paragraph_matches.append(\n",
    "    (\n",
    "        section_name,\n",
    "        par0,\n",
    "        par1,\n",
    "    )\n",
    ")"
   ]
  },
  {
   "cell_type": "code",
   "execution_count": 391,
   "id": "8d7eec5b-1e20-45ff-b603-bcabf45b0430",
   "metadata": {
    "papermill": {
     "duration": 0.031629,
     "end_time": "2024-03-20T21:35:22.360047",
     "exception": false,
     "start_time": "2024-03-20T21:35:22.328418",
     "status": "completed"
    },
    "tags": []
   },
   "outputs": [
    {
     "data": {
      "text/plain": [
       "('methods',\n",
       " 'For the ensemble generation step, we used different algorithms to create a highly diverse set of partitions (see Figure @fig:clustering:design) since diversity is an important property for ensembles [@doi:10.1016/j.ins.2016.04.027; @doi:10.1109/TPAMI.2011.84; @doi:10.1016/j.patcog.2014.04.005]. We used three data representations: the raw dataset, its projection into the top 50 principal components, and the embedding learned by UMAP [@arxiv:1802.03426] using 50 components. For each of these, we applied five clustering algorithms covering a wide range of different assumptions on the data structure: $k$-means [@Arthur2007], spectral clustering [@Ng2001], a Gaussian mixture model (GMM), hierarchical clustering, and DBSCAN [@Ester1996]. For $k$-means, spectral clustering and GMM, we specified a range of $k$ between 2 and $\\\\sqrt{n} \\\\approx 60$, and for each $k$ we generated five partitions using random seeds. For hierarchical clustering, for each $k$, we generated four partitions using common linkage criteria: ward, complete, average and single. For DBSCAN, we combined different ranges for parameters $\\\\epsilon$ (the maximum distance between two data points to be considered part of the same neighborhood) and *minPts* (the minimum number of data points in a neighborhood for a data point to be considered a core point), based on the procedure in [@doi:10.1088/1755-1315/31/1/012012]. Specifically, we used *minPts* values from 2 to 125. For each data representation (raw, PCA and UMAP), we determined a plausible range of $\\\\epsilon$ values by observing the distribution of the mean distance of the *minPts*-nearest neighbors across all data points. Since some combinations of *minPts* and $\\\\epsilon$ might not produce a meaningful partition (for instance, when all points are detected as noisy or only one cluster is found), we resampled partitions generated by DBSCAN to ensure an equal representation of this algorithm in the ensemble. This procedure generated a final ensemble of 4,428 partitions of 3,752 traits.',\n",
       " 'For the ensemble generation step, we utilized various algorithms to create a highly diverse set of partitions (see Figure 1) since diversity is a crucial property for ensembles (Li et al., 2016; Zhang et al., 2011; Wang et al., 2014). We employed three data representations: the raw dataset, its projection into the top 50 principal components, and the embedding learned by UMAP (McInnes et al., 2018) using 50 components. For each of these, we applied five clustering algorithms covering a wide range of different assumptions on the data structure: k-means (Arthur & Vassilvitskii, 2007), spectral clustering (Ng et al., 2001), a Gaussian mixture model (GMM), hierarchical clustering, and DBSCAN (Ester et al., 1996). \\n$$\\nk: \\\\text{Number of clusters} \\n$$\\n\\n$$\\n\\\\epsilon: \\\\text{Maximum distance between two data points} \\n$$\\n\\n$$\\nminPts: \\\\text{Minimum number of data points in a neighborhood} \\n$$\\nFor k-means, spectral clustering, and GMM, we specified a range of k between 2 and √n ≈ 60, and for each k, we generated five partitions using random seeds. For hierarchical clustering, for each k, we generated four partitions using common linkage criteria: ward, complete, average, and single. For DBSCAN, we combined different ranges for parameters ε and minPts, based on the procedure in (Ester et al., 1996). Specifically, we used minPts values from 2 to 125. For each data representation (raw, PCA, and UMAP), we determined a plausible range of ε values by observing the distribution of the mean distance of the minPts-nearest neighbors across all data points. Since some combinations of minPts and ε might not produce a meaningful partition (for instance, when all points are detected as noisy or only one cluster is found), we resampled partitions generated by DBSCAN to ensure an equal representation of this algorithm in the ensemble. This procedure generated a final ensemble of 4,428 partitions of 3,752 traits.')"
      ]
     },
     "metadata": {},
     "output_type": "display_data"
    }
   ],
   "source": [
    "display(paragraph_matches[-1])"
   ]
  },
  {
   "cell_type": "markdown",
   "id": "91f1f902-0af2-419f-8825-fb95629e2c89",
   "metadata": {
    "editable": true,
    "papermill": {
     "duration": 0.026793,
     "end_time": "2024-03-20T21:35:22.128948",
     "exception": false,
     "start_time": "2024-03-20T21:35:22.102155",
     "status": "completed"
    },
    "slideshow": {
     "slide_type": ""
    },
    "tags": []
   },
   "source": [
    "####  Paragraph 13"
   ]
  },
  {
   "cell_type": "code",
   "execution_count": 392,
   "id": "18e906a9-ff0b-44d6-9f22-9a469c605518",
   "metadata": {
    "papermill": {
     "duration": 0.030794,
     "end_time": "2024-03-20T21:35:22.186333",
     "exception": false,
     "start_time": "2024-03-20T21:35:22.155539",
     "status": "completed"
    },
    "tags": []
   },
   "outputs": [
    {
     "name": "stdout",
     "output_type": "stream",
     "text": [
      "Finally, we used spectral clustering on $\\mathbf{D}$ to derive the final consensus partitions. $\\mathbf{D}$ was first transformed into a similarity matrix by applying an RBF kernel $\\mathrm{exp}(-\\gamma \\mathbf{D}^2)$ using four different values for $\\gamma$ that we empirically determined to work best. Therefore, for each $k$ between 2 and 60, we derived four consensus partitions and selected the one that maximized Equation (@eq:consensus:obj_func). We further filtered this set of 59 solutions to keep only those with an ensemble agreement larger than the 75th percentile (Figure @fig:sup:clustering:agreement), leaving a total of 15 final consensus partitions shown in Figure @fig:clustering:tree.\n"
     ]
    }
   ],
   "source": [
    "par0 = (\n",
    "    process_paragraph(orig_section_paragraphs[52])\n",
    ")\n",
    "print(par0)"
   ]
  },
  {
   "cell_type": "code",
   "execution_count": 393,
   "id": "3479b6ea-0dd0-49e0-a69b-122b73bdb363",
   "metadata": {
    "papermill": {
     "duration": 0.031321,
     "end_time": "2024-03-20T21:35:22.244328",
     "exception": false,
     "start_time": "2024-03-20T21:35:22.213007",
     "status": "completed"
    },
    "tags": []
   },
   "outputs": [
    {
     "name": "stdout",
     "output_type": "stream",
     "text": [
      "Finally, we used spectral clustering on matrix $\\mathbf{D}$ to derive the final consensus partitions. Matrix $\\mathbf{D}$ was first transformed into a similarity matrix by applying a Radial Basis Function (RBF) kernel $\\mathrm{exp}(-\\gamma \\mathbf{D}^2)$ using four different values for $\\gamma$ that were empirically determined to work best. Therefore, for each value of $k$ between 2 and 60, we derived four consensus partitions and selected the one that maximized Equation (1). We further filtered this set of 59 solutions to keep only those with an ensemble agreement larger than the 75th percentile (Figure 1), leaving a total of 15 final consensus partitions as shown in Figure 2.\n"
     ]
    }
   ],
   "source": [
    "par1 = (\n",
    "    process_paragraph(mod_section_paragraphs[76])\n",
    ")\n",
    "print(par1)"
   ]
  },
  {
   "cell_type": "code",
   "execution_count": 394,
   "id": "01cb5444-171d-4ab1-a976-202640acf67c",
   "metadata": {
    "papermill": {
     "duration": 0.030508,
     "end_time": "2024-03-20T21:35:22.301560",
     "exception": false,
     "start_time": "2024-03-20T21:35:22.271052",
     "status": "completed"
    },
    "tags": []
   },
   "outputs": [],
   "source": [
    "paragraph_matches.append(\n",
    "    (\n",
    "        section_name,\n",
    "        par0,\n",
    "        par1,\n",
    "    )\n",
    ")"
   ]
  },
  {
   "cell_type": "code",
   "execution_count": 395,
   "id": "c9949a21-3419-4685-ae5e-c431d7cbb2d4",
   "metadata": {
    "papermill": {
     "duration": 0.031629,
     "end_time": "2024-03-20T21:35:22.360047",
     "exception": false,
     "start_time": "2024-03-20T21:35:22.328418",
     "status": "completed"
    },
    "tags": []
   },
   "outputs": [
    {
     "data": {
      "text/plain": [
       "('methods',\n",
       " 'Finally, we used spectral clustering on $\\\\mathbf{D}$ to derive the final consensus partitions. $\\\\mathbf{D}$ was first transformed into a similarity matrix by applying an RBF kernel $\\\\mathrm{exp}(-\\\\gamma \\\\mathbf{D}^2)$ using four different values for $\\\\gamma$ that we empirically determined to work best. Therefore, for each $k$ between 2 and 60, we derived four consensus partitions and selected the one that maximized Equation (@eq:consensus:obj_func). We further filtered this set of 59 solutions to keep only those with an ensemble agreement larger than the 75th percentile (Figure @fig:sup:clustering:agreement), leaving a total of 15 final consensus partitions shown in Figure @fig:clustering:tree.',\n",
       " 'Finally, we used spectral clustering on matrix $\\\\mathbf{D}$ to derive the final consensus partitions. Matrix $\\\\mathbf{D}$ was first transformed into a similarity matrix by applying a Radial Basis Function (RBF) kernel $\\\\mathrm{exp}(-\\\\gamma \\\\mathbf{D}^2)$ using four different values for $\\\\gamma$ that were empirically determined to work best. Therefore, for each value of $k$ between 2 and 60, we derived four consensus partitions and selected the one that maximized Equation (1). We further filtered this set of 59 solutions to keep only those with an ensemble agreement larger than the 75th percentile (Figure 1), leaving a total of 15 final consensus partitions as shown in Figure 2.')"
      ]
     },
     "metadata": {},
     "output_type": "display_data"
    }
   ],
   "source": [
    "display(paragraph_matches[-1])"
   ]
  },
  {
   "cell_type": "markdown",
   "id": "3bd654e0-5f3d-4764-902e-eb65c7bd0ed7",
   "metadata": {
    "editable": true,
    "papermill": {
     "duration": 0.026793,
     "end_time": "2024-03-20T21:35:22.128948",
     "exception": false,
     "start_time": "2024-03-20T21:35:22.102155",
     "status": "completed"
    },
    "slideshow": {
     "slide_type": ""
    },
    "tags": []
   },
   "source": [
    "####  Paragraph 14"
   ]
  },
  {
   "cell_type": "code",
   "execution_count": 396,
   "id": "1a84de45-ffae-4dfa-a92b-1d25ad184bc4",
   "metadata": {
    "papermill": {
     "duration": 0.030794,
     "end_time": "2024-03-20T21:35:22.186333",
     "exception": false,
     "start_time": "2024-03-20T21:35:22.155539",
     "status": "completed"
    },
    "tags": []
   },
   "outputs": [
    {
     "name": "stdout",
     "output_type": "stream",
     "text": [
      "The input data in our clustering pipeline undergoes several linear and nonlinear transformations, including PCA, UMAP and the ensemble transformation using the EAC paradigm (distance matrix $\\mathbf{D}$). Although consensus clustering has clear advantages for biological data [@pmid:27303057], this set of data transformations complicates the interpretation of results. To circumvent this, we used a supervised learning approach to detect which gene modules/LVs are the most important for each cluster of traits (Figure {@fig:clustering:design}b). Note that we did not use this supervised model for prediction but only to learn which features (LVs) were most discriminative for each cluster. For this, we used the highest resolution partition ($k$=29, although any could be used) to train a decision tree model using each of the clusters as labels and the projected data $\\hat{\\mathbf{M}}$ as the training samples. For each $k$, we built a set of binary labels with the current cluster's traits as the positive class and the rest of the traits as the negative class. Then, we selected the LV in the root node of the trained model only if its threshold was positive and larger than one standard deviation. Next, we removed this LV from $\\hat{\\mathbf{M}}$ (regardless of being previously selected or not) and trained the model again. We repeated this procedure 20 times to extract the top 20 LVs that better discriminate traits in a cluster from the rest.\n"
     ]
    }
   ],
   "source": [
    "par0 = (\n",
    "    process_paragraph(orig_section_paragraphs[53])\n",
    ")\n",
    "print(par0)"
   ]
  },
  {
   "cell_type": "code",
   "execution_count": 401,
   "id": "c4d53fcb-5167-4c48-900d-d9c50469768d",
   "metadata": {
    "papermill": {
     "duration": 0.031321,
     "end_time": "2024-03-20T21:35:22.244328",
     "exception": false,
     "start_time": "2024-03-20T21:35:22.213007",
     "status": "completed"
    },
    "tags": []
   },
   "outputs": [
    {
     "name": "stdout",
     "output_type": "stream",
     "text": [
      "The input data in our clustering pipeline undergoes several linear and nonlinear transformations, including Principal Component Analysis (PCA), Uniform Manifold Approximation and Projection (UMAP), and the ensemble transformation using the Ensemble Aggregation Clustering (EAC) paradigm (distance matrix $\\mathbf{D}$). Although consensus clustering has clear advantages for biological data (Wilkerson et al., 2016), this set of data transformations complicates the interpretation of results. To circumvent this, we used a supervised learning approach to detect which gene modules/Latent Variables (LVs) are the most important for each cluster of traits (Figure 1b). Note that we did not use this supervised model for prediction but only to learn which features (LVs) were most discriminative for each cluster. For this, we used the highest resolution partition ($k$=29, although any could be used) to train a decision tree model using each of the clusters as labels and the projected data $\\hat{\\mathbf{M}}$ as the training samples. For each $k$, we built a set of binary labels with the current cluster's traits as the positive class and the rest of the traits as the negative class. Then, we selected the LV in the root node of the trained model only if its threshold was positive and larger than one standard deviation. Next, we removed this LV from $\\hat{\\mathbf{M}}$ (regardless of being previously selected or not) and trained the model again. We repeated this procedure 20 times to extract the top 20 LVs that better discriminate traits in a cluster from the rest.\n"
     ]
    }
   ],
   "source": [
    "par1 = (\n",
    "    process_paragraph([\n",
    "        mod_section_paragraphs[78],\n",
    "        mod_section_paragraphs[80],\n",
    "    ])\n",
    ")\n",
    "print(par1)"
   ]
  },
  {
   "cell_type": "code",
   "execution_count": 402,
   "id": "a15db91e-c5cd-4ccb-8369-d2d6338084b2",
   "metadata": {
    "papermill": {
     "duration": 0.030508,
     "end_time": "2024-03-20T21:35:22.301560",
     "exception": false,
     "start_time": "2024-03-20T21:35:22.271052",
     "status": "completed"
    },
    "tags": []
   },
   "outputs": [],
   "source": [
    "paragraph_matches.append(\n",
    "    (\n",
    "        section_name,\n",
    "        par0,\n",
    "        par1,\n",
    "    )\n",
    ")"
   ]
  },
  {
   "cell_type": "code",
   "execution_count": 403,
   "id": "f4e8a660-2807-4ff7-b013-19331f343806",
   "metadata": {
    "papermill": {
     "duration": 0.031629,
     "end_time": "2024-03-20T21:35:22.360047",
     "exception": false,
     "start_time": "2024-03-20T21:35:22.328418",
     "status": "completed"
    },
    "tags": []
   },
   "outputs": [
    {
     "data": {
      "text/plain": [
       "('methods',\n",
       " \"The input data in our clustering pipeline undergoes several linear and nonlinear transformations, including PCA, UMAP and the ensemble transformation using the EAC paradigm (distance matrix $\\\\mathbf{D}$). Although consensus clustering has clear advantages for biological data [@pmid:27303057], this set of data transformations complicates the interpretation of results. To circumvent this, we used a supervised learning approach to detect which gene modules/LVs are the most important for each cluster of traits (Figure {@fig:clustering:design}b). Note that we did not use this supervised model for prediction but only to learn which features (LVs) were most discriminative for each cluster. For this, we used the highest resolution partition ($k$=29, although any could be used) to train a decision tree model using each of the clusters as labels and the projected data $\\\\hat{\\\\mathbf{M}}$ as the training samples. For each $k$, we built a set of binary labels with the current cluster's traits as the positive class and the rest of the traits as the negative class. Then, we selected the LV in the root node of the trained model only if its threshold was positive and larger than one standard deviation. Next, we removed this LV from $\\\\hat{\\\\mathbf{M}}$ (regardless of being previously selected or not) and trained the model again. We repeated this procedure 20 times to extract the top 20 LVs that better discriminate traits in a cluster from the rest.\",\n",
       " \"The input data in our clustering pipeline undergoes several linear and nonlinear transformations, including Principal Component Analysis (PCA), Uniform Manifold Approximation and Projection (UMAP), and the ensemble transformation using the Ensemble Aggregation Clustering (EAC) paradigm (distance matrix $\\\\mathbf{D}$). Although consensus clustering has clear advantages for biological data (Wilkerson et al., 2016), this set of data transformations complicates the interpretation of results. To circumvent this, we used a supervised learning approach to detect which gene modules/Latent Variables (LVs) are the most important for each cluster of traits (Figure 1b). Note that we did not use this supervised model for prediction but only to learn which features (LVs) were most discriminative for each cluster. For this, we used the highest resolution partition ($k$=29, although any could be used) to train a decision tree model using each of the clusters as labels and the projected data $\\\\hat{\\\\mathbf{M}}$ as the training samples. For each $k$, we built a set of binary labels with the current cluster's traits as the positive class and the rest of the traits as the negative class. Then, we selected the LV in the root node of the trained model only if its threshold was positive and larger than one standard deviation. Next, we removed this LV from $\\\\hat{\\\\mathbf{M}}$ (regardless of being previously selected or not) and trained the model again. We repeated this procedure 20 times to extract the top 20 LVs that better discriminate traits in a cluster from the rest.\")"
      ]
     },
     "metadata": {},
     "output_type": "display_data"
    }
   ],
   "source": [
    "display(paragraph_matches[-1])"
   ]
  },
  {
   "cell_type": "markdown",
   "id": "8a0e5921-47f0-49c3-acb4-d34b17104dec",
   "metadata": {
    "editable": true,
    "papermill": {
     "duration": 0.026793,
     "end_time": "2024-03-20T21:35:22.128948",
     "exception": false,
     "start_time": "2024-03-20T21:35:22.102155",
     "status": "completed"
    },
    "slideshow": {
     "slide_type": ""
    },
    "tags": []
   },
   "source": [
    "####  Paragraph 15"
   ]
  },
  {
   "cell_type": "code",
   "execution_count": 406,
   "id": "9557f91e-fcda-4a3b-92a1-9d0b7c2f40f3",
   "metadata": {
    "papermill": {
     "duration": 0.030794,
     "end_time": "2024-03-20T21:35:22.186333",
     "exception": false,
     "start_time": "2024-03-20T21:35:22.155539",
     "status": "completed"
    },
    "tags": []
   },
   "outputs": [
    {
     "name": "stdout",
     "output_type": "stream",
     "text": [
      "**Cell culture.** HepG2 cells were obtained from ATCC (ATCC® HB-8065™), and maintained in Eagle's Minimum Essential Medium with L-Glutamine (EMEM, Cat. 112-018-101, Quality Biology) supplemented with 10% Fetal Bovine Serum (FBS, Gibco, Cat.16000-044), and 1% Pen/Strep (Gibco, Cat.15140-122). Cells were kept at 37oC in a humidity-controlled incubator with 5% CO2, and were maintained at a density not exceeding more than 80% confluency in Collagen-I coated flasks.\n"
     ]
    }
   ],
   "source": [
    "par0 = (\n",
    "    process_paragraph(orig_section_paragraphs[56])\n",
    ")\n",
    "print(par0)"
   ]
  },
  {
   "cell_type": "code",
   "execution_count": 408,
   "id": "06383a4c-e609-4401-880a-087219966df3",
   "metadata": {
    "papermill": {
     "duration": 0.031321,
     "end_time": "2024-03-20T21:35:22.244328",
     "exception": false,
     "start_time": "2024-03-20T21:35:22.213007",
     "status": "completed"
    },
    "tags": []
   },
   "outputs": [
    {
     "name": "stdout",
     "output_type": "stream",
     "text": [
      "**Cell culture.** HepG2 cells were obtained from ATCC (ATCC® HB-8065™) and maintained in Eagle's Minimum Essential Medium with L-Glutamine (EMEM, Cat. 112-018-101, Quality Biology) supplemented with 10% Fetal Bovine Serum (FBS, Gibco, Cat.16000-044) and 1% Pen/Strep (Gibco, Cat.15140-122). Cells were kept at 37°C in a humidity-controlled incubator with 5% CO2 and were maintained at a density not exceeding 80% confluency in Collagen-I coated flasks.\n"
     ]
    }
   ],
   "source": [
    "par1 = (\n",
    "    process_paragraph(mod_section_paragraphs[83])\n",
    ")\n",
    "print(par1)"
   ]
  },
  {
   "cell_type": "code",
   "execution_count": 409,
   "id": "62578397-7d7f-4e18-aa2b-008dff020795",
   "metadata": {
    "papermill": {
     "duration": 0.030508,
     "end_time": "2024-03-20T21:35:22.301560",
     "exception": false,
     "start_time": "2024-03-20T21:35:22.271052",
     "status": "completed"
    },
    "tags": []
   },
   "outputs": [],
   "source": [
    "paragraph_matches.append(\n",
    "    (\n",
    "        section_name,\n",
    "        par0,\n",
    "        par1,\n",
    "    )\n",
    ")"
   ]
  },
  {
   "cell_type": "code",
   "execution_count": 410,
   "id": "bbb0b44e-3a69-4743-bd0d-1d1795653b2a",
   "metadata": {
    "papermill": {
     "duration": 0.031629,
     "end_time": "2024-03-20T21:35:22.360047",
     "exception": false,
     "start_time": "2024-03-20T21:35:22.328418",
     "status": "completed"
    },
    "tags": []
   },
   "outputs": [
    {
     "data": {
      "text/plain": [
       "('methods',\n",
       " \"**Cell culture.** HepG2 cells were obtained from ATCC (ATCC® HB-8065™), and maintained in Eagle's Minimum Essential Medium with L-Glutamine (EMEM, Cat. 112-018-101, Quality Biology) supplemented with 10% Fetal Bovine Serum (FBS, Gibco, Cat.16000-044), and 1% Pen/Strep (Gibco, Cat.15140-122). Cells were kept at 37oC in a humidity-controlled incubator with 5% CO2, and were maintained at a density not exceeding more than 80% confluency in Collagen-I coated flasks.\",\n",
       " \"**Cell culture.** HepG2 cells were obtained from ATCC (ATCC® HB-8065™) and maintained in Eagle's Minimum Essential Medium with L-Glutamine (EMEM, Cat. 112-018-101, Quality Biology) supplemented with 10% Fetal Bovine Serum (FBS, Gibco, Cat.16000-044) and 1% Pen/Strep (Gibco, Cat.15140-122). Cells were kept at 37°C in a humidity-controlled incubator with 5% CO2 and were maintained at a density not exceeding 80% confluency in Collagen-I coated flasks.\")"
      ]
     },
     "metadata": {},
     "output_type": "display_data"
    }
   ],
   "source": [
    "display(paragraph_matches[-1])"
   ]
  },
  {
   "cell_type": "markdown",
   "id": "9131abe6-9365-4f47-a161-772429f056cd",
   "metadata": {
    "editable": true,
    "papermill": {
     "duration": 0.026793,
     "end_time": "2024-03-20T21:35:22.128948",
     "exception": false,
     "start_time": "2024-03-20T21:35:22.102155",
     "status": "completed"
    },
    "slideshow": {
     "slide_type": ""
    },
    "tags": []
   },
   "source": [
    "####  Paragraph 16"
   ]
  },
  {
   "cell_type": "code",
   "execution_count": 411,
   "id": "1c94def7-5615-4dcb-aa64-1bf34f9ef911",
   "metadata": {
    "papermill": {
     "duration": 0.030794,
     "end_time": "2024-03-20T21:35:22.186333",
     "exception": false,
     "start_time": "2024-03-20T21:35:22.155539",
     "status": "completed"
    },
    "tags": []
   },
   "outputs": [
    {
     "name": "stdout",
     "output_type": "stream",
     "text": [
      "**Genome-wide lentiviral pooled CRISPR-Cas9 library.** 3rd lentiviral generation, Broad GPP genome-wide Human Brunello CRISPR knockout Pooled library was provided by David Root and John Doench from Addgene (Cat. 73179-LV), and was used for HepG2 cell transduction. It consists of 76,441 sgRNAs, and targets 19,114 genes in the human genome with an average of 4 sgRNAs per gene. Each 20nt sgRNA cassette was inserted into the lentiCRIS-PRv2 backbone between U6 promoter and gRNA scaffold. Through cell transduction, the lentiviral vectors which encode Cas9 were used to deliver the sgRNA cassette containing plasmids into cells during cell replication. Unsuccessful transduced cells were excluded through puromycin selection.\n"
     ]
    }
   ],
   "source": [
    "par0 = (\n",
    "    process_paragraph(orig_section_paragraphs[57])\n",
    ")\n",
    "print(par0)"
   ]
  },
  {
   "cell_type": "code",
   "execution_count": 412,
   "id": "77ea7dbc-8839-4339-a93e-f819404961ae",
   "metadata": {
    "papermill": {
     "duration": 0.031321,
     "end_time": "2024-03-20T21:35:22.244328",
     "exception": false,
     "start_time": "2024-03-20T21:35:22.213007",
     "status": "completed"
    },
    "tags": []
   },
   "outputs": [
    {
     "name": "stdout",
     "output_type": "stream",
     "text": [
      "**Genome-wide lentiviral pooled CRISPR-Cas9 library.** The 3rd generation lentiviral library, known as Broad GPP genome-wide Human Brunello CRISPR knockout Pooled library, was obtained from Addgene (Cat. 73179-LV) courtesy of David Root and John Doench. This library was utilized for transduction of HepG2 cells and comprises 76,441 sgRNAs targeting 19,114 genes in the human genome, with an average of 4 sgRNAs per gene. Each 20 nucleotide sgRNA sequence was integrated into the lentiCRIS-PRv2 backbone between the U6 promoter and gRNA scaffold. Cas9-encoding lentiviral vectors were employed for the delivery of plasmids containing the sgRNA cassette into cells during replication. Cells that were not successfully transduced were eliminated through puromycin selection.\n"
     ]
    }
   ],
   "source": [
    "par1 = (\n",
    "    process_paragraph(mod_section_paragraphs[84])\n",
    ")\n",
    "print(par1)"
   ]
  },
  {
   "cell_type": "code",
   "execution_count": 413,
   "id": "04cc4e7c-c55f-4215-91c5-95bdf612a027",
   "metadata": {
    "papermill": {
     "duration": 0.030508,
     "end_time": "2024-03-20T21:35:22.301560",
     "exception": false,
     "start_time": "2024-03-20T21:35:22.271052",
     "status": "completed"
    },
    "tags": []
   },
   "outputs": [],
   "source": [
    "paragraph_matches.append(\n",
    "    (\n",
    "        section_name,\n",
    "        par0,\n",
    "        par1,\n",
    "    )\n",
    ")"
   ]
  },
  {
   "cell_type": "code",
   "execution_count": 414,
   "id": "c9e04ff4-b4bd-4c64-b20d-7afa1200c88b",
   "metadata": {
    "papermill": {
     "duration": 0.031629,
     "end_time": "2024-03-20T21:35:22.360047",
     "exception": false,
     "start_time": "2024-03-20T21:35:22.328418",
     "status": "completed"
    },
    "tags": []
   },
   "outputs": [
    {
     "data": {
      "text/plain": [
       "('methods',\n",
       " '**Genome-wide lentiviral pooled CRISPR-Cas9 library.** 3rd lentiviral generation, Broad GPP genome-wide Human Brunello CRISPR knockout Pooled library was provided by David Root and John Doench from Addgene (Cat. 73179-LV), and was used for HepG2 cell transduction. It consists of 76,441 sgRNAs, and targets 19,114 genes in the human genome with an average of 4 sgRNAs per gene. Each 20nt sgRNA cassette was inserted into the lentiCRIS-PRv2 backbone between U6 promoter and gRNA scaffold. Through cell transduction, the lentiviral vectors which encode Cas9 were used to deliver the sgRNA cassette containing plasmids into cells during cell replication. Unsuccessful transduced cells were excluded through puromycin selection.',\n",
       " '**Genome-wide lentiviral pooled CRISPR-Cas9 library.** The 3rd generation lentiviral library, known as Broad GPP genome-wide Human Brunello CRISPR knockout Pooled library, was obtained from Addgene (Cat. 73179-LV) courtesy of David Root and John Doench. This library was utilized for transduction of HepG2 cells and comprises 76,441 sgRNAs targeting 19,114 genes in the human genome, with an average of 4 sgRNAs per gene. Each 20 nucleotide sgRNA sequence was integrated into the lentiCRIS-PRv2 backbone between the U6 promoter and gRNA scaffold. Cas9-encoding lentiviral vectors were employed for the delivery of plasmids containing the sgRNA cassette into cells during replication. Cells that were not successfully transduced were eliminated through puromycin selection.')"
      ]
     },
     "metadata": {},
     "output_type": "display_data"
    }
   ],
   "source": [
    "display(paragraph_matches[-1])"
   ]
  },
  {
   "cell_type": "markdown",
   "id": "76bfb368-85db-4cef-843b-72a080ee272d",
   "metadata": {
    "editable": true,
    "papermill": {
     "duration": 0.026793,
     "end_time": "2024-03-20T21:35:22.128948",
     "exception": false,
     "start_time": "2024-03-20T21:35:22.102155",
     "status": "completed"
    },
    "slideshow": {
     "slide_type": ""
    },
    "tags": []
   },
   "source": [
    "####  Paragraph 17"
   ]
  },
  {
   "cell_type": "code",
   "execution_count": 415,
   "id": "e2edbbe6-d867-455b-b5b1-f6a29114c61e",
   "metadata": {
    "papermill": {
     "duration": 0.030794,
     "end_time": "2024-03-20T21:35:22.186333",
     "exception": false,
     "start_time": "2024-03-20T21:35:22.155539",
     "status": "completed"
    },
    "tags": []
   },
   "outputs": [
    {
     "name": "stdout",
     "output_type": "stream",
     "text": [
      "**Lentiviral titer determination.** No-spin lentiviral transduction was utilized for the screen. In a Collagen-I coated 6-wells plate, approximate 2.5 M cells were seeded each well in the presence of 8ug/ml polybrene (Millipore Sigma, Cat. TR-1003 G), and a different titrated virus volume (e.g., 0, 50, 100, 200, 250, and 400ul) was assigned to each well. EMEM complete media was added to make the final volume of 1.24ml. 16-18hrs post-transduction, virus/polybrene-containing media was removed from each well. Cells were washed twice with 1x DPBS and replaced with fresh EMEM. At 24h, cells in each well were trypsinized, diluted (e.g.,1:10), and seeded in pairs of wells of 6-well plates. At 60hr post-transduction, cell media in each well was replaced with fresh EMEM. 2ug/ml of puromycin (Gibco, Cat. A1113803) was added to one well out of the pair. 2-5 days after puromycin selection, or the 0 virus well treated with puromycin had no survival of cells, cells in both wells with/without puromycin were collected and counted for viability. Percentage of Infection (PI%) was obtained by comparing the cell numbers with/without puromycin selection within each pair. By means of Poisson's distribution theory, when transduction efficiency (PI%) is between 30-50%, which corresponds to an MOI (Multiplicity of Infection) of ~0.35-0.70. At MOI close to 0.3, around 25% of cells are infected, and the majority of those infected cells are predicted to have only one copy of the virus. Therefore, a volume of virus (120ul) yielding 30-40% of transduction efficiency was chosen for further large-scale viral transduction.\n"
     ]
    }
   ],
   "source": [
    "par0 = (\n",
    "    process_paragraph(orig_section_paragraphs[58])\n",
    ")\n",
    "print(par0)"
   ]
  },
  {
   "cell_type": "code",
   "execution_count": 416,
   "id": "621f9e03-687c-4bf7-9d38-cb305f56eef6",
   "metadata": {
    "papermill": {
     "duration": 0.031321,
     "end_time": "2024-03-20T21:35:22.244328",
     "exception": false,
     "start_time": "2024-03-20T21:35:22.213007",
     "status": "completed"
    },
    "tags": []
   },
   "outputs": [
    {
     "name": "stdout",
     "output_type": "stream",
     "text": [
      "**Lentiviral titer determination.** No-spin lentiviral transduction was used for the screen. Approximately 2.5 million cells were seeded in each well of a Collagen-I coated 6-well plate in the presence of 8 µg/ml polybrene (Millipore Sigma, Cat. TR-1003 G). Different titrated virus volumes (e.g., 0, 50, 100, 200, 250, and 400 µl) were assigned to each well. EMEM complete media was added to achieve a final volume of 1.24 ml. Sixteen to eighteen hours post-transduction, the virus/polybrene-containing media was removed from each well. Cells were washed twice with 1x DPBS and fresh EMEM was added. At 24 hours, cells in each well were trypsinized, diluted (e.g., 1:10), and seeded in pairs of wells in 6-well plates. At 60 hours post-transduction, the cell media in each well was replaced with fresh EMEM. Two µg/ml of puromycin (Gibco, Cat. A1113803) was added to one well out of the pair. Two to five days after puromycin selection, or if the 0 virus well treated with puromycin showed no cell survival, cells in both wells with and without puromycin were collected and counted for viability. The Percentage of Infection (PI%) was calculated by comparing the cell numbers with and without puromycin selection within each pair. According to Poisson's distribution theory, a transduction efficiency (PI%) between 30-50% corresponds to an MOI (Multiplicity of Infection) of approximately 0.35-0.70. At an MOI close to 0.3, around 25% of cells are infected, and the majority of those infected cells are predicted to have only one copy of the virus. Therefore, a virus volume of 120 µl, which yielded 30-40% transduction efficiency, was selected for further large-scale viral transduction.\n"
     ]
    }
   ],
   "source": [
    "par1 = (\n",
    "    process_paragraph(mod_section_paragraphs[85])\n",
    ")\n",
    "print(par1)"
   ]
  },
  {
   "cell_type": "code",
   "execution_count": 417,
   "id": "e5673e7c-9e1d-463f-a784-f2e9664b7f22",
   "metadata": {
    "papermill": {
     "duration": 0.030508,
     "end_time": "2024-03-20T21:35:22.301560",
     "exception": false,
     "start_time": "2024-03-20T21:35:22.271052",
     "status": "completed"
    },
    "tags": []
   },
   "outputs": [],
   "source": [
    "paragraph_matches.append(\n",
    "    (\n",
    "        section_name,\n",
    "        par0,\n",
    "        par1,\n",
    "    )\n",
    ")"
   ]
  },
  {
   "cell_type": "code",
   "execution_count": 418,
   "id": "4f171ffc-f855-406e-8cac-6340e3779cc4",
   "metadata": {
    "papermill": {
     "duration": 0.031629,
     "end_time": "2024-03-20T21:35:22.360047",
     "exception": false,
     "start_time": "2024-03-20T21:35:22.328418",
     "status": "completed"
    },
    "tags": []
   },
   "outputs": [
    {
     "data": {
      "text/plain": [
       "('methods',\n",
       " \"**Lentiviral titer determination.** No-spin lentiviral transduction was utilized for the screen. In a Collagen-I coated 6-wells plate, approximate 2.5 M cells were seeded each well in the presence of 8ug/ml polybrene (Millipore Sigma, Cat. TR-1003 G), and a different titrated virus volume (e.g., 0, 50, 100, 200, 250, and 400ul) was assigned to each well. EMEM complete media was added to make the final volume of 1.24ml. 16-18hrs post-transduction, virus/polybrene-containing media was removed from each well. Cells were washed twice with 1x DPBS and replaced with fresh EMEM. At 24h, cells in each well were trypsinized, diluted (e.g.,1:10), and seeded in pairs of wells of 6-well plates. At 60hr post-transduction, cell media in each well was replaced with fresh EMEM. 2ug/ml of puromycin (Gibco, Cat. A1113803) was added to one well out of the pair. 2-5 days after puromycin selection, or the 0 virus well treated with puromycin had no survival of cells, cells in both wells with/without puromycin were collected and counted for viability. Percentage of Infection (PI%) was obtained by comparing the cell numbers with/without puromycin selection within each pair. By means of Poisson's distribution theory, when transduction efficiency (PI%) is between 30-50%, which corresponds to an MOI (Multiplicity of Infection) of ~0.35-0.70. At MOI close to 0.3, around 25% of cells are infected, and the majority of those infected cells are predicted to have only one copy of the virus. Therefore, a volume of virus (120ul) yielding 30-40% of transduction efficiency was chosen for further large-scale viral transduction.\",\n",
       " \"**Lentiviral titer determination.** No-spin lentiviral transduction was used for the screen. Approximately 2.5 million cells were seeded in each well of a Collagen-I coated 6-well plate in the presence of 8 µg/ml polybrene (Millipore Sigma, Cat. TR-1003 G). Different titrated virus volumes (e.g., 0, 50, 100, 200, 250, and 400 µl) were assigned to each well. EMEM complete media was added to achieve a final volume of 1.24 ml. Sixteen to eighteen hours post-transduction, the virus/polybrene-containing media was removed from each well. Cells were washed twice with 1x DPBS and fresh EMEM was added. At 24 hours, cells in each well were trypsinized, diluted (e.g., 1:10), and seeded in pairs of wells in 6-well plates. At 60 hours post-transduction, the cell media in each well was replaced with fresh EMEM. Two µg/ml of puromycin (Gibco, Cat. A1113803) was added to one well out of the pair. Two to five days after puromycin selection, or if the 0 virus well treated with puromycin showed no cell survival, cells in both wells with and without puromycin were collected and counted for viability. The Percentage of Infection (PI%) was calculated by comparing the cell numbers with and without puromycin selection within each pair. According to Poisson's distribution theory, a transduction efficiency (PI%) between 30-50% corresponds to an MOI (Multiplicity of Infection) of approximately 0.35-0.70. At an MOI close to 0.3, around 25% of cells are infected, and the majority of those infected cells are predicted to have only one copy of the virus. Therefore, a virus volume of 120 µl, which yielded 30-40% transduction efficiency, was selected for further large-scale viral transduction.\")"
      ]
     },
     "metadata": {},
     "output_type": "display_data"
    }
   ],
   "source": [
    "display(paragraph_matches[-1])"
   ]
  },
  {
   "cell_type": "markdown",
   "id": "0326a59b-b79a-4936-9340-3d36b5d13af2",
   "metadata": {
    "editable": true,
    "papermill": {
     "duration": 0.026793,
     "end_time": "2024-03-20T21:35:22.128948",
     "exception": false,
     "start_time": "2024-03-20T21:35:22.102155",
     "status": "completed"
    },
    "slideshow": {
     "slide_type": ""
    },
    "tags": []
   },
   "source": [
    "####  Paragraph 18"
   ]
  },
  {
   "cell_type": "code",
   "execution_count": 419,
   "id": "fc6844bc-7770-4f15-8100-d0a3860ad775",
   "metadata": {
    "papermill": {
     "duration": 0.030794,
     "end_time": "2024-03-20T21:35:22.186333",
     "exception": false,
     "start_time": "2024-03-20T21:35:22.155539",
     "status": "completed"
    },
    "tags": []
   },
   "outputs": [
    {
     "name": "stdout",
     "output_type": "stream",
     "text": [
      "**Lentiviral Transduction in HepG2 Using Brunello CRISPR Knockout Pooled Library.** In order to achieve a coverage (representation) of at least 500 cells per sgRNA, and at an MOI between 0.3-0.4 to ensure 95% of infected cells get only one viral particle per cell, ~200M cells were initiated for the screen. Transduction was carried out in a similar fashion as described above. Briefly, 2.5M cells were seeded in each well of 14 6-well plates, along with 8ug/ml of polybrene. A volume of 120ul of the virus was added to each experimental well. 18hrs post-transduction, virus/PB mix medium was removed, and cells in each well were collected, counted, and pooled into T175 flasks. At 60hr post-transduction, 2ug/ml of puromycin was added to each flask. Mediums were changed every two days with fresh EMEM, topped with 2ug/ml puromycin. Seven days after puromycin selection, cells were collected, pooled, counted, and replated.\n"
     ]
    }
   ],
   "source": [
    "par0 = (\n",
    "    process_paragraph(orig_section_paragraphs[59])\n",
    ")\n",
    "print(par0)"
   ]
  },
  {
   "cell_type": "code",
   "execution_count": 421,
   "id": "45dd66cf-9d9e-4469-9173-48a51a86db5a",
   "metadata": {
    "papermill": {
     "duration": 0.031321,
     "end_time": "2024-03-20T21:35:22.244328",
     "exception": false,
     "start_time": "2024-03-20T21:35:22.213007",
     "status": "completed"
    },
    "tags": []
   },
   "outputs": [
    {
     "name": "stdout",
     "output_type": "stream",
     "text": [
      "Lentiviral transduction was performed in HepG2 cells using the Brunello CRISPR knockout pooled library to ensure a coverage of at least 500 cells per single-guide RNA (sgRNA). An MOI between 0.3-0.4 was maintained to guarantee that 95% of infected cells received only one viral particle per cell. Approximately 200 million cells were used for the screen. The transduction process followed a similar protocol as previously described. Specifically, 2.5 million cells were seeded in each well of 14 6-well plates, supplemented with 8 μg/ml of polybrene. Subsequently, 120 μl of the virus was added to each experimental well. After 18 hours post-transduction, the virus/polybrene mix was removed, and cells from each well were collected, counted, and pooled into T175 flasks. At 60 hours post-transduction, 2 μg/ml of puromycin was added to each flask. The medium was changed every two days with fresh EMEM containing 2 μg/ml puromycin. Seven days after puromycin selection, cells were collected, pooled, counted, and replated.\n"
     ]
    }
   ],
   "source": [
    "par1 = (\n",
    "    process_paragraph(mod_section_paragraphs[87])\n",
    ")\n",
    "print(par1)"
   ]
  },
  {
   "cell_type": "code",
   "execution_count": 422,
   "id": "2df6f4db-438b-4208-be66-cbedcc72166e",
   "metadata": {
    "papermill": {
     "duration": 0.030508,
     "end_time": "2024-03-20T21:35:22.301560",
     "exception": false,
     "start_time": "2024-03-20T21:35:22.271052",
     "status": "completed"
    },
    "tags": []
   },
   "outputs": [],
   "source": [
    "paragraph_matches.append(\n",
    "    (\n",
    "        section_name,\n",
    "        par0,\n",
    "        par1,\n",
    "    )\n",
    ")"
   ]
  },
  {
   "cell_type": "code",
   "execution_count": 423,
   "id": "2895cb07-7ba8-4407-9c7e-881b9ac4348a",
   "metadata": {
    "papermill": {
     "duration": 0.031629,
     "end_time": "2024-03-20T21:35:22.360047",
     "exception": false,
     "start_time": "2024-03-20T21:35:22.328418",
     "status": "completed"
    },
    "tags": []
   },
   "outputs": [
    {
     "data": {
      "text/plain": [
       "('methods',\n",
       " '**Lentiviral Transduction in HepG2 Using Brunello CRISPR Knockout Pooled Library.** In order to achieve a coverage (representation) of at least 500 cells per sgRNA, and at an MOI between 0.3-0.4 to ensure 95% of infected cells get only one viral particle per cell, ~200M cells were initiated for the screen. Transduction was carried out in a similar fashion as described above. Briefly, 2.5M cells were seeded in each well of 14 6-well plates, along with 8ug/ml of polybrene. A volume of 120ul of the virus was added to each experimental well. 18hrs post-transduction, virus/PB mix medium was removed, and cells in each well were collected, counted, and pooled into T175 flasks. At 60hr post-transduction, 2ug/ml of puromycin was added to each flask. Mediums were changed every two days with fresh EMEM, topped with 2ug/ml puromycin. Seven days after puromycin selection, cells were collected, pooled, counted, and replated.',\n",
       " 'Lentiviral transduction was performed in HepG2 cells using the Brunello CRISPR knockout pooled library to ensure a coverage of at least 500 cells per single-guide RNA (sgRNA). An MOI between 0.3-0.4 was maintained to guarantee that 95% of infected cells received only one viral particle per cell. Approximately 200 million cells were used for the screen. The transduction process followed a similar protocol as previously described. Specifically, 2.5 million cells were seeded in each well of 14 6-well plates, supplemented with 8 μg/ml of polybrene. Subsequently, 120 μl of the virus was added to each experimental well. After 18 hours post-transduction, the virus/polybrene mix was removed, and cells from each well were collected, counted, and pooled into T175 flasks. At 60 hours post-transduction, 2 μg/ml of puromycin was added to each flask. The medium was changed every two days with fresh EMEM containing 2 μg/ml puromycin. Seven days after puromycin selection, cells were collected, pooled, counted, and replated.')"
      ]
     },
     "metadata": {},
     "output_type": "display_data"
    }
   ],
   "source": [
    "display(paragraph_matches[-1])"
   ]
  },
  {
   "cell_type": "markdown",
   "id": "ac4ba542-c273-4210-9983-2e7e274856ff",
   "metadata": {
    "editable": true,
    "papermill": {
     "duration": 0.026793,
     "end_time": "2024-03-20T21:35:22.128948",
     "exception": false,
     "start_time": "2024-03-20T21:35:22.102155",
     "status": "completed"
    },
    "slideshow": {
     "slide_type": ""
    },
    "tags": []
   },
   "source": [
    "####  Paragraph 19"
   ]
  },
  {
   "cell_type": "code",
   "execution_count": 424,
   "id": "acaa590d-b2c1-4683-b532-4a9fd2cb0cc1",
   "metadata": {
    "papermill": {
     "duration": 0.030794,
     "end_time": "2024-03-20T21:35:22.186333",
     "exception": false,
     "start_time": "2024-03-20T21:35:22.155539",
     "status": "completed"
    },
    "tags": []
   },
   "outputs": [
    {
     "name": "stdout",
     "output_type": "stream",
     "text": [
      "**Fluorescent dye staining.** 9 days after puromycin selection, cells were assigned to 2 groups. 20-30M cells were collected as Unsorted Control. The cell pellet was spun down at 500 x g for 5min at 4oC. The dry pellet was kept at -80oC for further genomic DNA isolation. The rest of the cells (approximately 200M) were kept in 100mm dishes and stained with a fluorescent dye (LipidSpotTM 488, Biotium, Cat. 70065-T). In Brief, LipidSpot 488 was diluted to 1:100 with DPBS. 4ml of staining solution was used for each dish and incubated at 37oC for 30min. Cell images were captured through fluorescent microscope EVOS for GFP signal detection (Figure @fig:sup:crispr:fig1).\n"
     ]
    }
   ],
   "source": [
    "par0 = (\n",
    "    process_paragraph(orig_section_paragraphs[60])\n",
    ")\n",
    "print(par0)"
   ]
  },
  {
   "cell_type": "code",
   "execution_count": 426,
   "id": "5475c75b-591f-40d5-a87c-eba1510e36f2",
   "metadata": {
    "papermill": {
     "duration": 0.031321,
     "end_time": "2024-03-20T21:35:22.244328",
     "exception": false,
     "start_time": "2024-03-20T21:35:22.213007",
     "status": "completed"
    },
    "tags": []
   },
   "outputs": [
    {
     "name": "stdout",
     "output_type": "stream",
     "text": [
      "**Fluorescent dye staining.** Nine days after puromycin selection, cells were divided into two groups. Twenty to thirty million cells were collected as the Unsorted Control. The cell pellet was centrifuged at 500 x g for 5 minutes at 4°C. The dry pellet was stored at -80°C for subsequent genomic DNA isolation. The remaining cells (approximately 200 million) were cultured in 100 mm dishes and stained with a fluorescent dye (LipidSpotTM 488, Biotium, Cat. 70065-T). In brief, LipidSpot 488 was diluted to 1:100 with DPBS. Four milliliters of the staining solution were added to each dish and incubated at 37°C for 30 minutes. Cell images were captured using a fluorescent microscope EVOS for GFP signal detection (Figure 1).\n"
     ]
    }
   ],
   "source": [
    "par1 = (\n",
    "    process_paragraph(mod_section_paragraphs[90])\n",
    ")\n",
    "print(par1)"
   ]
  },
  {
   "cell_type": "code",
   "execution_count": 427,
   "id": "1bd86b15-0f46-4f71-88b6-5bfa468929b6",
   "metadata": {
    "papermill": {
     "duration": 0.030508,
     "end_time": "2024-03-20T21:35:22.301560",
     "exception": false,
     "start_time": "2024-03-20T21:35:22.271052",
     "status": "completed"
    },
    "tags": []
   },
   "outputs": [],
   "source": [
    "paragraph_matches.append(\n",
    "    (\n",
    "        section_name,\n",
    "        par0,\n",
    "        par1,\n",
    "    )\n",
    ")"
   ]
  },
  {
   "cell_type": "code",
   "execution_count": 428,
   "id": "64b0825d-e351-42af-b3f9-7cade9c7b46a",
   "metadata": {
    "papermill": {
     "duration": 0.031629,
     "end_time": "2024-03-20T21:35:22.360047",
     "exception": false,
     "start_time": "2024-03-20T21:35:22.328418",
     "status": "completed"
    },
    "tags": []
   },
   "outputs": [
    {
     "data": {
      "text/plain": [
       "('methods',\n",
       " '**Fluorescent dye staining.** 9 days after puromycin selection, cells were assigned to 2 groups. 20-30M cells were collected as Unsorted Control. The cell pellet was spun down at 500 x g for 5min at 4oC. The dry pellet was kept at -80oC for further genomic DNA isolation. The rest of the cells (approximately 200M) were kept in 100mm dishes and stained with a fluorescent dye (LipidSpotTM 488, Biotium, Cat. 70065-T). In Brief, LipidSpot 488 was diluted to 1:100 with DPBS. 4ml of staining solution was used for each dish and incubated at 37oC for 30min. Cell images were captured through fluorescent microscope EVOS for GFP signal detection (Figure @fig:sup:crispr:fig1).',\n",
       " '**Fluorescent dye staining.** Nine days after puromycin selection, cells were divided into two groups. Twenty to thirty million cells were collected as the Unsorted Control. The cell pellet was centrifuged at 500 x g for 5 minutes at 4°C. The dry pellet was stored at -80°C for subsequent genomic DNA isolation. The remaining cells (approximately 200 million) were cultured in 100 mm dishes and stained with a fluorescent dye (LipidSpotTM 488, Biotium, Cat. 70065-T). In brief, LipidSpot 488 was diluted to 1:100 with DPBS. Four milliliters of the staining solution were added to each dish and incubated at 37°C for 30 minutes. Cell images were captured using a fluorescent microscope EVOS for GFP signal detection (Figure 1).')"
      ]
     },
     "metadata": {},
     "output_type": "display_data"
    }
   ],
   "source": [
    "display(paragraph_matches[-1])"
   ]
  },
  {
   "cell_type": "markdown",
   "id": "046e8319-1bc5-4c2d-830f-6caab1cd7c75",
   "metadata": {
    "editable": true,
    "papermill": {
     "duration": 0.026793,
     "end_time": "2024-03-20T21:35:22.128948",
     "exception": false,
     "start_time": "2024-03-20T21:35:22.102155",
     "status": "completed"
    },
    "slideshow": {
     "slide_type": ""
    },
    "tags": []
   },
   "source": [
    "####  Paragraph 20"
   ]
  },
  {
   "cell_type": "code",
   "execution_count": 429,
   "id": "431c4845-62c7-491a-88c8-7fcd873f34da",
   "metadata": {
    "papermill": {
     "duration": 0.030794,
     "end_time": "2024-03-20T21:35:22.186333",
     "exception": false,
     "start_time": "2024-03-20T21:35:22.155539",
     "status": "completed"
    },
    "tags": []
   },
   "outputs": [
    {
     "name": "stdout",
     "output_type": "stream",
     "text": [
      "**Fluorescence-activated cell sorting (FACS).** Cells were immediately collected into 50ml tubes (From this point on, keep cells cold), and spun at 500 x g for 5min at 4oC. After DPBS wash, cell pellets were resuspended with FACS Sorting Buffer (1x DPBS without Ca2+/Mg2+, 2.5mM EDTA, 25mM HEPES, 1% BSA. The solution was filter sterilized, and kept at 4oC), with gentle pipetting to make single cells. The cell solution was then filtered through a cell strainer (Falcon, Cat. 352235) and was kept on ice, protected from light. Collected cells were sorted on FACSJazz. 100um nozzle was used for sorting. ~20% of each GFP-High and GFP-Low (Figure @fig:sup:crispr:fig2) were collected into 15ml tubes. After sorting, cells were immediately spun down. Pellets were kept at -80oC for further genomic DNA isolation.\n"
     ]
    }
   ],
   "source": [
    "par0 = (\n",
    "    process_paragraph(orig_section_paragraphs[61])\n",
    ")\n",
    "print(par0)"
   ]
  },
  {
   "cell_type": "code",
   "execution_count": 430,
   "id": "a0851e75-6d8a-4354-8d85-c323c6b2dc86",
   "metadata": {
    "papermill": {
     "duration": 0.031321,
     "end_time": "2024-03-20T21:35:22.244328",
     "exception": false,
     "start_time": "2024-03-20T21:35:22.213007",
     "status": "completed"
    },
    "tags": []
   },
   "outputs": [
    {
     "name": "stdout",
     "output_type": "stream",
     "text": [
      "**Fluorescence-activated cell sorting (FACS).** Cells were immediately collected into 50 mL tubes (from this point on, keep cells cold) and spun at 500 x g for 5 minutes at 4°C. After DPBS wash, cell pellets were resuspended with FACS Sorting Buffer (1x DPBS without Ca2+/Mg2+, 2.5 mM EDTA, 25 mM HEPES, 1% BSA). The solution was filter sterilized and kept at 4°C, with gentle pipetting to ensure single cells. The cell solution was then filtered through a cell strainer (Falcon, Cat. 352235) and kept on ice, protected from light. Collected cells were sorted on FACSJazz using a 100 μm nozzle for sorting. Approximately 20% of each GFP-High and GFP-Low population (Figure 2) were collected into 15 mL tubes. After sorting, cells were immediately spun down, and pellets were kept at -80°C for further genomic DNA isolation.\n"
     ]
    }
   ],
   "source": [
    "par1 = (\n",
    "    process_paragraph(mod_section_paragraphs[91])\n",
    ")\n",
    "print(par1)"
   ]
  },
  {
   "cell_type": "code",
   "execution_count": 431,
   "id": "a9475e73-1267-474c-ba1e-2337e5ce7de1",
   "metadata": {
    "papermill": {
     "duration": 0.030508,
     "end_time": "2024-03-20T21:35:22.301560",
     "exception": false,
     "start_time": "2024-03-20T21:35:22.271052",
     "status": "completed"
    },
    "tags": []
   },
   "outputs": [],
   "source": [
    "paragraph_matches.append(\n",
    "    (\n",
    "        section_name,\n",
    "        par0,\n",
    "        par1,\n",
    "    )\n",
    ")"
   ]
  },
  {
   "cell_type": "code",
   "execution_count": 432,
   "id": "f89664d0-7ad4-4095-ae7e-c97d5afcb512",
   "metadata": {
    "papermill": {
     "duration": 0.031629,
     "end_time": "2024-03-20T21:35:22.360047",
     "exception": false,
     "start_time": "2024-03-20T21:35:22.328418",
     "status": "completed"
    },
    "tags": []
   },
   "outputs": [
    {
     "data": {
      "text/plain": [
       "('methods',\n",
       " '**Fluorescence-activated cell sorting (FACS).** Cells were immediately collected into 50ml tubes (From this point on, keep cells cold), and spun at 500 x g for 5min at 4oC. After DPBS wash, cell pellets were resuspended with FACS Sorting Buffer (1x DPBS without Ca2+/Mg2+, 2.5mM EDTA, 25mM HEPES, 1% BSA. The solution was filter sterilized, and kept at 4oC), with gentle pipetting to make single cells. The cell solution was then filtered through a cell strainer (Falcon, Cat. 352235) and was kept on ice, protected from light. Collected cells were sorted on FACSJazz. 100um nozzle was used for sorting. ~20% of each GFP-High and GFP-Low (Figure @fig:sup:crispr:fig2) were collected into 15ml tubes. After sorting, cells were immediately spun down. Pellets were kept at -80oC for further genomic DNA isolation.',\n",
       " '**Fluorescence-activated cell sorting (FACS).** Cells were immediately collected into 50 mL tubes (from this point on, keep cells cold) and spun at 500 x g for 5 minutes at 4°C. After DPBS wash, cell pellets were resuspended with FACS Sorting Buffer (1x DPBS without Ca2+/Mg2+, 2.5 mM EDTA, 25 mM HEPES, 1% BSA). The solution was filter sterilized and kept at 4°C, with gentle pipetting to ensure single cells. The cell solution was then filtered through a cell strainer (Falcon, Cat. 352235) and kept on ice, protected from light. Collected cells were sorted on FACSJazz using a 100 μm nozzle for sorting. Approximately 20% of each GFP-High and GFP-Low population (Figure 2) were collected into 15 mL tubes. After sorting, cells were immediately spun down, and pellets were kept at -80°C for further genomic DNA isolation.')"
      ]
     },
     "metadata": {},
     "output_type": "display_data"
    }
   ],
   "source": [
    "display(paragraph_matches[-1])"
   ]
  },
  {
   "cell_type": "markdown",
   "id": "1cb3e015-b219-4bd7-bcb1-f83f218e6526",
   "metadata": {
    "editable": true,
    "papermill": {
     "duration": 0.026793,
     "end_time": "2024-03-20T21:35:22.128948",
     "exception": false,
     "start_time": "2024-03-20T21:35:22.102155",
     "status": "completed"
    },
    "slideshow": {
     "slide_type": ""
    },
    "tags": []
   },
   "source": [
    "####  Paragraph 21"
   ]
  },
  {
   "cell_type": "code",
   "execution_count": 433,
   "id": "a6dbe416-3e32-449b-90cf-65c69356b5b4",
   "metadata": {
    "papermill": {
     "duration": 0.030794,
     "end_time": "2024-03-20T21:35:22.186333",
     "exception": false,
     "start_time": "2024-03-20T21:35:22.155539",
     "status": "completed"
    },
    "tags": []
   },
   "outputs": [
    {
     "name": "stdout",
     "output_type": "stream",
     "text": [
      "**Genomic DNA isolation and verification.** Three conditions of Genomic DNA (Un-Sorted Control, lentiV2 GFP-High, and lentiV2 GFP-Low) were extracted using QIAamp DNA Blood Mini Kit (Qiagen, Cat.51104), followed by UV Spectroscopy (Nanodrop) to access the quality and quantity of the gDNA. A total of 80-160ug of gDNA was isolated for each condition. sgRNA cassette and lentiviral specific transgene in isolated gDNA were verified through PCR (Figure @fig:sup:crispr:fig3).\n"
     ]
    }
   ],
   "source": [
    "par0 = (\n",
    "    process_paragraph(orig_section_paragraphs[62])\n",
    ")\n",
    "print(par0)"
   ]
  },
  {
   "cell_type": "code",
   "execution_count": 434,
   "id": "49e60386-273a-472e-92ca-684d41f72c80",
   "metadata": {
    "papermill": {
     "duration": 0.031321,
     "end_time": "2024-03-20T21:35:22.244328",
     "exception": false,
     "start_time": "2024-03-20T21:35:22.213007",
     "status": "completed"
    },
    "tags": []
   },
   "outputs": [
    {
     "name": "stdout",
     "output_type": "stream",
     "text": [
      "**Genomic DNA isolation and verification.** Three conditions of Genomic DNA (Un-Sorted Control, lentiV2 GFP-High, and lentiV2 GFP-Low) were extracted using the QIAamp DNA Blood Mini Kit (Qiagen, Cat.51104), followed by UV Spectroscopy (Nanodrop) to assess the quality and quantity of the gDNA. A total of 80-160 µg of gDNA was isolated for each condition. The sgRNA cassette and lentiviral specific transgene in the isolated gDNA were verified through PCR (Figure 3).\n"
     ]
    }
   ],
   "source": [
    "par1 = (\n",
    "    process_paragraph(mod_section_paragraphs[92])\n",
    ")\n",
    "print(par1)"
   ]
  },
  {
   "cell_type": "code",
   "execution_count": 435,
   "id": "d2805c95-d999-4593-a8e1-8a739031d897",
   "metadata": {
    "papermill": {
     "duration": 0.030508,
     "end_time": "2024-03-20T21:35:22.301560",
     "exception": false,
     "start_time": "2024-03-20T21:35:22.271052",
     "status": "completed"
    },
    "tags": []
   },
   "outputs": [],
   "source": [
    "paragraph_matches.append(\n",
    "    (\n",
    "        section_name,\n",
    "        par0,\n",
    "        par1,\n",
    "    )\n",
    ")"
   ]
  },
  {
   "cell_type": "code",
   "execution_count": 436,
   "id": "91854d74-8348-40e5-bf64-f4968201c357",
   "metadata": {
    "papermill": {
     "duration": 0.031629,
     "end_time": "2024-03-20T21:35:22.360047",
     "exception": false,
     "start_time": "2024-03-20T21:35:22.328418",
     "status": "completed"
    },
    "tags": []
   },
   "outputs": [
    {
     "data": {
      "text/plain": [
       "('methods',\n",
       " '**Genomic DNA isolation and verification.** Three conditions of Genomic DNA (Un-Sorted Control, lentiV2 GFP-High, and lentiV2 GFP-Low) were extracted using QIAamp DNA Blood Mini Kit (Qiagen, Cat.51104), followed by UV Spectroscopy (Nanodrop) to access the quality and quantity of the gDNA. A total of 80-160ug of gDNA was isolated for each condition. sgRNA cassette and lentiviral specific transgene in isolated gDNA were verified through PCR (Figure @fig:sup:crispr:fig3).',\n",
       " '**Genomic DNA isolation and verification.** Three conditions of Genomic DNA (Un-Sorted Control, lentiV2 GFP-High, and lentiV2 GFP-Low) were extracted using the QIAamp DNA Blood Mini Kit (Qiagen, Cat.51104), followed by UV Spectroscopy (Nanodrop) to assess the quality and quantity of the gDNA. A total of 80-160 µg of gDNA was isolated for each condition. The sgRNA cassette and lentiviral specific transgene in the isolated gDNA were verified through PCR (Figure 3).')"
      ]
     },
     "metadata": {},
     "output_type": "display_data"
    }
   ],
   "source": [
    "display(paragraph_matches[-1])"
   ]
  },
  {
   "cell_type": "markdown",
   "id": "7f02b936-f260-4d0e-b191-46557d8c5c0e",
   "metadata": {
    "editable": true,
    "papermill": {
     "duration": 0.026793,
     "end_time": "2024-03-20T21:35:22.128948",
     "exception": false,
     "start_time": "2024-03-20T21:35:22.102155",
     "status": "completed"
    },
    "slideshow": {
     "slide_type": ""
    },
    "tags": []
   },
   "source": [
    "####  Paragraph 22"
   ]
  },
  {
   "cell_type": "code",
   "execution_count": 437,
   "id": "0bdeed20-2d9a-42e5-89e7-5a19463b3c36",
   "metadata": {
    "papermill": {
     "duration": 0.030794,
     "end_time": "2024-03-20T21:35:22.186333",
     "exception": false,
     "start_time": "2024-03-20T21:35:22.155539",
     "status": "completed"
    },
    "tags": []
   },
   "outputs": [
    {
     "name": "stdout",
     "output_type": "stream",
     "text": [
      "**Illumina libraries generation and sequencing.** The fragment containing sgRNA cassette was amplified using P5 /P7 primers, as indicated in [@pmid:26780180], and primer sequences were adapted from Broad Institute protocol (Figure @fig:sup:crispr:table1). Stagger sequence (0-8nt) was included in P5 and 8bp uniquely barcoded sequence in P7. Primers were synthesized through Integrated DNA Technologies (IDT), and each primer was PAGE purified. 32 PCR reactions were set up for each condition. Each 100ul PCR reaction consists of roughly 5ug of gDNA, 5ul of each 10uM P5 and P7. ExTaq DNA Polymerase (TaKaRa, Cat. RR001A) was used to amplify the amplicon. PCR Thermal Cycler Parameters set as Initial at 95oC for 1min; followed by 24 cycles of Denaturation at 94oC for 30 seconds, Annealing at 52.5oC for 30 seconds, Extension at 72oC for 30 seconds. A final Elongation at 72oC for 10 minutes. 285bp-293bp PCR products were expected (Figure @fig:sup:crispr:fig4 A). PCR products within the same condition were pooled and purified using SPRIselect beads (Beckman Coulter, Cat. B23318). Purified Illumina libraries were quantitated on Qubit, and the quality of the library was analyzed on Bio-analyzer using High Sensitivity DNA Chip. A single approximate 285bp peak was expected (Figure @fig:sup:crispr:fig4 B). Final Illumina library samples were sequenced on Nova-seq 6000. Samples were pooled and loaded on an SP flow cell, along with a 20% PhiX control v3 library spike-in.\n"
     ]
    }
   ],
   "source": [
    "par0 = (\n",
    "    process_paragraph(orig_section_paragraphs[63])\n",
    ")\n",
    "print(par0)"
   ]
  },
  {
   "cell_type": "code",
   "execution_count": 440,
   "id": "1445c66d-f0d7-42de-8b60-5fcb8ba2bc72",
   "metadata": {
    "papermill": {
     "duration": 0.031321,
     "end_time": "2024-03-20T21:35:22.244328",
     "exception": false,
     "start_time": "2024-03-20T21:35:22.213007",
     "status": "completed"
    },
    "tags": []
   },
   "outputs": [
    {
     "name": "stdout",
     "output_type": "stream",
     "text": [
      "**Illumina libraries generation and sequencing.** The fragment containing the sgRNA cassette was amplified using P5/P7 primers, as indicated in (Doench et al., 2016), and primer sequences were adapted from the Broad Institute protocol (Figure 1). The stagger sequence (0-8 nt) was included in P5, and an 8 bp uniquely barcoded sequence was included in P7. Primers were synthesized through Integrated DNA Technologies (IDT), and each primer was PAGE purified. 32 PCR reactions were set up for each condition. Each 100 μl PCR reaction consisted of roughly 5 μg of gDNA, 5 μl of each 10 μM P5 and P7 primers. ExTaq DNA Polymerase (TaKaRa, Cat. RR001A) was used to amplify the amplicon. The PCR thermal cycler parameters were set as follows: initial denaturation at 95°C for 1 min; followed by 24 cycles of denaturation at 94°C for 30 seconds, annealing at 52.5°C for 30 seconds, extension at 72°C for 30 seconds. A final elongation step at 72°C for 10 minutes was performed. PCR products of 285-293 bp were expected (Figure 2A). PCR products within the same condition were pooled and purified using SPRIselect beads (Beckman Coulter, Cat. B23318). The purified Illumina libraries were quantitated on Qubit, and the quality of the library was analyzed on a Bioanalyzer using a High Sensitivity DNA Chip. A single approximate 285 bp peak was expected (Figure 2B). The final Illumina library samples were sequenced on a NovaSeq 6000. Samples were pooled and loaded on an SP flow cell, along with a 20% PhiX control v3 library spike-in.\n"
     ]
    }
   ],
   "source": [
    "par1 = (\n",
    "    process_paragraph(mod_section_paragraphs[94])\n",
    ")\n",
    "print(par1)"
   ]
  },
  {
   "cell_type": "code",
   "execution_count": 441,
   "id": "dbe5493f-dc89-4750-9808-08c24b76f328",
   "metadata": {
    "papermill": {
     "duration": 0.030508,
     "end_time": "2024-03-20T21:35:22.301560",
     "exception": false,
     "start_time": "2024-03-20T21:35:22.271052",
     "status": "completed"
    },
    "tags": []
   },
   "outputs": [],
   "source": [
    "paragraph_matches.append(\n",
    "    (\n",
    "        section_name,\n",
    "        par0,\n",
    "        par1,\n",
    "    )\n",
    ")"
   ]
  },
  {
   "cell_type": "code",
   "execution_count": 442,
   "id": "3f81984f-bd47-4d56-b791-66ed14de1ce7",
   "metadata": {
    "papermill": {
     "duration": 0.031629,
     "end_time": "2024-03-20T21:35:22.360047",
     "exception": false,
     "start_time": "2024-03-20T21:35:22.328418",
     "status": "completed"
    },
    "tags": []
   },
   "outputs": [
    {
     "data": {
      "text/plain": [
       "('methods',\n",
       " '**Illumina libraries generation and sequencing.** The fragment containing sgRNA cassette was amplified using P5 /P7 primers, as indicated in [@pmid:26780180], and primer sequences were adapted from Broad Institute protocol (Figure @fig:sup:crispr:table1). Stagger sequence (0-8nt) was included in P5 and 8bp uniquely barcoded sequence in P7. Primers were synthesized through Integrated DNA Technologies (IDT), and each primer was PAGE purified. 32 PCR reactions were set up for each condition. Each 100ul PCR reaction consists of roughly 5ug of gDNA, 5ul of each 10uM P5 and P7. ExTaq DNA Polymerase (TaKaRa, Cat. RR001A) was used to amplify the amplicon. PCR Thermal Cycler Parameters set as Initial at 95oC for 1min; followed by 24 cycles of Denaturation at 94oC for 30 seconds, Annealing at 52.5oC for 30 seconds, Extension at 72oC for 30 seconds. A final Elongation at 72oC for 10 minutes. 285bp-293bp PCR products were expected (Figure @fig:sup:crispr:fig4 A). PCR products within the same condition were pooled and purified using SPRIselect beads (Beckman Coulter, Cat. B23318). Purified Illumina libraries were quantitated on Qubit, and the quality of the library was analyzed on Bio-analyzer using High Sensitivity DNA Chip. A single approximate 285bp peak was expected (Figure @fig:sup:crispr:fig4 B). Final Illumina library samples were sequenced on Nova-seq 6000. Samples were pooled and loaded on an SP flow cell, along with a 20% PhiX control v3 library spike-in.',\n",
       " '**Illumina libraries generation and sequencing.** The fragment containing the sgRNA cassette was amplified using P5/P7 primers, as indicated in (Doench et al., 2016), and primer sequences were adapted from the Broad Institute protocol (Figure 1). The stagger sequence (0-8 nt) was included in P5, and an 8 bp uniquely barcoded sequence was included in P7. Primers were synthesized through Integrated DNA Technologies (IDT), and each primer was PAGE purified. 32 PCR reactions were set up for each condition. Each 100 μl PCR reaction consisted of roughly 5 μg of gDNA, 5 μl of each 10 μM P5 and P7 primers. ExTaq DNA Polymerase (TaKaRa, Cat. RR001A) was used to amplify the amplicon. The PCR thermal cycler parameters were set as follows: initial denaturation at 95°C for 1 min; followed by 24 cycles of denaturation at 94°C for 30 seconds, annealing at 52.5°C for 30 seconds, extension at 72°C for 30 seconds. A final elongation step at 72°C for 10 minutes was performed. PCR products of 285-293 bp were expected (Figure 2A). PCR products within the same condition were pooled and purified using SPRIselect beads (Beckman Coulter, Cat. B23318). The purified Illumina libraries were quantitated on Qubit, and the quality of the library was analyzed on a Bioanalyzer using a High Sensitivity DNA Chip. A single approximate 285 bp peak was expected (Figure 2B). The final Illumina library samples were sequenced on a NovaSeq 6000. Samples were pooled and loaded on an SP flow cell, along with a 20% PhiX control v3 library spike-in.')"
      ]
     },
     "metadata": {},
     "output_type": "display_data"
    }
   ],
   "source": [
    "display(paragraph_matches[-1])"
   ]
  },
  {
   "cell_type": "markdown",
   "id": "79f2160d-e9e6-4990-ba15-569726b97d07",
   "metadata": {
    "editable": true,
    "papermill": {
     "duration": 0.026793,
     "end_time": "2024-03-20T21:35:22.128948",
     "exception": false,
     "start_time": "2024-03-20T21:35:22.102155",
     "status": "completed"
    },
    "slideshow": {
     "slide_type": ""
    },
    "tags": []
   },
   "source": [
    "####  Paragraph 23"
   ]
  },
  {
   "cell_type": "code",
   "execution_count": 447,
   "id": "6710d71e-2c61-4122-a180-dd4b156f7558",
   "metadata": {
    "papermill": {
     "duration": 0.030794,
     "end_time": "2024-03-20T21:35:22.186333",
     "exception": false,
     "start_time": "2024-03-20T21:35:22.155539",
     "status": "completed"
    },
    "tags": []
   },
   "outputs": [
    {
     "name": "stdout",
     "output_type": "stream",
     "text": [
      "The data used from PhenomeXcan, LINCS L1000, and MultiPLIER are publicly available. All significant results reported for the eMERGE and Penn Medicine BioBank (PMBB) phenome-wide TWAS are contained in [@doi:10.1101/2021.10.21.21265225]. The individual-level PMBB raw datasets can not be made publicly available due to institutional privacy policy. Please contact Penn Medicine Biobank ([https://pmbb.med.upenn.edu/pmbb/](https://pmbb.med.upenn.edu/pmbb/)) for requests of access to data. eMERGE network phase III data is available on dbGAP (Accession: phs001584.v2.p2).\n"
     ]
    }
   ],
   "source": [
    "par0 = (\n",
    "    process_paragraph(orig_section_paragraphs[67])\n",
    ")\n",
    "print(par0)"
   ]
  },
  {
   "cell_type": "code",
   "execution_count": 454,
   "id": "e28c7cc8-8e82-4f66-b4d0-a3d9bc58ef59",
   "metadata": {
    "papermill": {
     "duration": 0.031321,
     "end_time": "2024-03-20T21:35:22.244328",
     "exception": false,
     "start_time": "2024-03-20T21:35:22.213007",
     "status": "completed"
    },
    "tags": []
   },
   "outputs": [
    {
     "name": "stdout",
     "output_type": "stream",
     "text": [
      "The data utilized from PhenomeXcan, LINCS L1000, and MultiPLIER are publicly available. All significant results reported for the eMERGE and Penn Medicine BioBank (PMBB) phenome-wide TWAS are contained in the study by Gusev et al. (2021). The individual-level PMBB raw datasets cannot be made publicly available due to institutional privacy policy. For requests for access to data, please contact the Penn Medicine Biobank at [https://pmbb.med.upenn.edu/pmbb/](https://pmbb.med.upenn.edu/pmbb/). The eMERGE network phase III data is accessible on dbGAP (Accession: phs001584.v2.p2).\n"
     ]
    }
   ],
   "source": [
    "par1 = (\n",
    "    process_paragraph(mod_section_paragraphs[98])\n",
    ")\n",
    "print(par1)"
   ]
  },
  {
   "cell_type": "code",
   "execution_count": 455,
   "id": "236a578e-5c88-4496-86d2-39e642356b7c",
   "metadata": {
    "papermill": {
     "duration": 0.030508,
     "end_time": "2024-03-20T21:35:22.301560",
     "exception": false,
     "start_time": "2024-03-20T21:35:22.271052",
     "status": "completed"
    },
    "tags": []
   },
   "outputs": [],
   "source": [
    "paragraph_matches.append(\n",
    "    (\n",
    "        section_name,\n",
    "        par0,\n",
    "        par1,\n",
    "    )\n",
    ")"
   ]
  },
  {
   "cell_type": "code",
   "execution_count": 456,
   "id": "38188aa4-63b5-4080-b6d1-834bb54f3ce7",
   "metadata": {
    "papermill": {
     "duration": 0.031629,
     "end_time": "2024-03-20T21:35:22.360047",
     "exception": false,
     "start_time": "2024-03-20T21:35:22.328418",
     "status": "completed"
    },
    "tags": []
   },
   "outputs": [
    {
     "data": {
      "text/plain": [
       "('methods',\n",
       " 'The data used from PhenomeXcan, LINCS L1000, and MultiPLIER are publicly available. All significant results reported for the eMERGE and Penn Medicine BioBank (PMBB) phenome-wide TWAS are contained in [@doi:10.1101/2021.10.21.21265225]. The individual-level PMBB raw datasets can not be made publicly available due to institutional privacy policy. Please contact Penn Medicine Biobank ([https://pmbb.med.upenn.edu/pmbb/](https://pmbb.med.upenn.edu/pmbb/)) for requests of access to data. eMERGE network phase III data is available on dbGAP (Accession: phs001584.v2.p2).',\n",
       " 'The data utilized from PhenomeXcan, LINCS L1000, and MultiPLIER are publicly available. All significant results reported for the eMERGE and Penn Medicine BioBank (PMBB) phenome-wide TWAS are contained in the study by Gusev et al. (2021). The individual-level PMBB raw datasets cannot be made publicly available due to institutional privacy policy. For requests for access to data, please contact the Penn Medicine Biobank at [https://pmbb.med.upenn.edu/pmbb/](https://pmbb.med.upenn.edu/pmbb/). The eMERGE network phase III data is accessible on dbGAP (Accession: phs001584.v2.p2).')"
      ]
     },
     "metadata": {},
     "output_type": "display_data"
    }
   ],
   "source": [
    "display(paragraph_matches[-1])"
   ]
  },
  {
   "cell_type": "markdown",
   "id": "77e5ec69-c2b2-466c-84ea-d991bf5856ac",
   "metadata": {
    "editable": true,
    "papermill": {
     "duration": 0.026793,
     "end_time": "2024-03-20T21:35:22.128948",
     "exception": false,
     "start_time": "2024-03-20T21:35:22.102155",
     "status": "completed"
    },
    "slideshow": {
     "slide_type": ""
    },
    "tags": []
   },
   "source": [
    "####  Paragraph 24"
   ]
  },
  {
   "cell_type": "code",
   "execution_count": 458,
   "id": "11b4c11c-cddc-442e-b31f-24fecea4024d",
   "metadata": {
    "papermill": {
     "duration": 0.030794,
     "end_time": "2024-03-20T21:35:22.186333",
     "exception": false,
     "start_time": "2024-03-20T21:35:22.155539",
     "status": "completed"
    },
    "tags": []
   },
   "outputs": [
    {
     "name": "stdout",
     "output_type": "stream",
     "text": [
      "For the CRISPR screening, we used FlowJo v10.7 and FACS Jazz Software v1.1. For data analysis, we used Python 3.8 and R 3.6 with several computational packages. The main Python packages used were: Jupyter Lab (2.2), pandas (1.1), matplotlib (3.3), seaborn (0.11), numpy (1.19), scipy (1.5), scikit-learn (0.23), and umap-learn (0.4). The main R packages were: Bioconductor (3.10), clusterProfiler (3.14), clustree (0.4), and fgsea (1.17). We also developed several scripts and notebooks which are published under an open-source license. We documented all the steps necessary to carry out all the analyses. We also provide a Docker image to use the same runtime environment we used, and a demo to quickly test the methods on real data.\n"
     ]
    }
   ],
   "source": [
    "par0 = (\n",
    "    process_paragraph(orig_section_paragraphs[70])\n",
    ")\n",
    "print(par0)"
   ]
  },
  {
   "cell_type": "code",
   "execution_count": 461,
   "id": "308dcd3d-20ef-4c96-95e5-d5a0f3f6a79f",
   "metadata": {
    "papermill": {
     "duration": 0.031321,
     "end_time": "2024-03-20T21:35:22.244328",
     "exception": false,
     "start_time": "2024-03-20T21:35:22.213007",
     "status": "completed"
    },
    "tags": []
   },
   "outputs": [
    {
     "name": "stdout",
     "output_type": "stream",
     "text": [
      "For the CRISPR screening, FlowJo v10.7 and FACS Jazz Software v1.1 were utilized. Data analysis was conducted using Python 3.8 and R 3.6 along with various computational packages. The primary Python packages included Jupyter Lab (2.2), pandas (1.1), matplotlib (3.3), seaborn (0.11), numpy (1.19), scipy (1.5), scikit-learn (0.23), and umap-learn (0.4). In R, the main packages used were Bioconductor (3.10), clusterProfiler (3.14), clustree (0.4), and fgsea (1.17). Additionally, several scripts and notebooks were developed and made available under an open-source license. Detailed documentation outlining all analysis steps was provided. A Docker image was also made accessible to replicate the same runtime environment, along with a demo for quick testing of the methods on real data.\n"
     ]
    }
   ],
   "source": [
    "par1 = (\n",
    "    process_paragraph(mod_section_paragraphs[104])\n",
    ")\n",
    "print(par1)"
   ]
  },
  {
   "cell_type": "code",
   "execution_count": 462,
   "id": "2e10f151-cac3-4e68-b19e-f64840b69558",
   "metadata": {
    "papermill": {
     "duration": 0.030508,
     "end_time": "2024-03-20T21:35:22.301560",
     "exception": false,
     "start_time": "2024-03-20T21:35:22.271052",
     "status": "completed"
    },
    "tags": []
   },
   "outputs": [],
   "source": [
    "paragraph_matches.append(\n",
    "    (\n",
    "        section_name,\n",
    "        par0,\n",
    "        par1,\n",
    "    )\n",
    ")"
   ]
  },
  {
   "cell_type": "code",
   "execution_count": 463,
   "id": "b0776d1f-3217-453a-9e01-448282a736e0",
   "metadata": {
    "papermill": {
     "duration": 0.031629,
     "end_time": "2024-03-20T21:35:22.360047",
     "exception": false,
     "start_time": "2024-03-20T21:35:22.328418",
     "status": "completed"
    },
    "tags": []
   },
   "outputs": [
    {
     "data": {
      "text/plain": [
       "('methods',\n",
       " 'For the CRISPR screening, we used FlowJo v10.7 and FACS Jazz Software v1.1. For data analysis, we used Python 3.8 and R 3.6 with several computational packages. The main Python packages used were: Jupyter Lab (2.2), pandas (1.1), matplotlib (3.3), seaborn (0.11), numpy (1.19), scipy (1.5), scikit-learn (0.23), and umap-learn (0.4). The main R packages were: Bioconductor (3.10), clusterProfiler (3.14), clustree (0.4), and fgsea (1.17). We also developed several scripts and notebooks which are published under an open-source license. We documented all the steps necessary to carry out all the analyses. We also provide a Docker image to use the same runtime environment we used, and a demo to quickly test the methods on real data.',\n",
       " 'For the CRISPR screening, FlowJo v10.7 and FACS Jazz Software v1.1 were utilized. Data analysis was conducted using Python 3.8 and R 3.6 along with various computational packages. The primary Python packages included Jupyter Lab (2.2), pandas (1.1), matplotlib (3.3), seaborn (0.11), numpy (1.19), scipy (1.5), scikit-learn (0.23), and umap-learn (0.4). In R, the main packages used were Bioconductor (3.10), clusterProfiler (3.14), clustree (0.4), and fgsea (1.17). Additionally, several scripts and notebooks were developed and made available under an open-source license. Detailed documentation outlining all analysis steps was provided. A Docker image was also made accessible to replicate the same runtime environment, along with a demo for quick testing of the methods on real data.')"
      ]
     },
     "metadata": {},
     "output_type": "display_data"
    }
   ],
   "source": [
    "display(paragraph_matches[-1])"
   ]
  },
  {
   "cell_type": "markdown",
   "id": "5b4e1f03-60f9-4a3d-ab74-65cb85a9d36b",
   "metadata": {
    "editable": true,
    "papermill": {
     "duration": 0.030909,
     "end_time": "2024-03-22T00:24:52.873553",
     "exception": false,
     "start_time": "2024-03-22T00:24:52.842644",
     "status": "completed"
    },
    "slideshow": {
     "slide_type": ""
    },
    "tags": []
   },
   "source": [
    "## Supplementary material"
   ]
  },
  {
   "cell_type": "code",
   "execution_count": 464,
   "id": "e184de79-b65b-4f97-b2aa-6516e6f4e31b",
   "metadata": {
    "papermill": {
     "duration": 0.034978,
     "end_time": "2024-03-22T00:24:52.939776",
     "exception": false,
     "start_time": "2024-03-22T00:24:52.904798",
     "status": "completed"
    },
    "tags": []
   },
   "outputs": [],
   "source": [
    "section_name = \"supplementary material\""
   ]
  },
  {
   "cell_type": "code",
   "execution_count": 466,
   "id": "8dc7e4d8-39e7-4726-a874-911e67ccba4f",
   "metadata": {
    "editable": true,
    "papermill": {
     "duration": 0.036547,
     "end_time": "2024-03-22T00:24:53.007508",
     "exception": false,
     "start_time": "2024-03-22T00:24:52.970961",
     "status": "completed"
    },
    "slideshow": {
     "slide_type": ""
    },
    "tags": []
   },
   "outputs": [
    {
     "name": "stdout",
     "output_type": "stream",
     "text": [
      "content/50.00.supplementary_material.md\n"
     ]
    }
   ],
   "source": [
    "pr_filename = pr_files[8].filename\n",
    "assert \"supplementary\" in pr_filename\n",
    "print(pr_filename)"
   ]
  },
  {
   "cell_type": "markdown",
   "id": "94c17d84-54be-4255-918b-c27c61e9aa9e",
   "metadata": {
    "editable": true,
    "papermill": {
     "duration": 0.031357,
     "end_time": "2024-03-22T00:24:53.070766",
     "exception": false,
     "start_time": "2024-03-22T00:24:53.039409",
     "status": "completed"
    },
    "slideshow": {
     "slide_type": ""
    },
    "tags": []
   },
   "source": [
    "### Original"
   ]
  },
  {
   "cell_type": "code",
   "execution_count": 467,
   "id": "5c308de8-95e5-448f-a37c-9873aa6ac138",
   "metadata": {
    "papermill": {
     "duration": 0.216446,
     "end_time": "2024-03-22T00:24:53.318741",
     "exception": false,
     "start_time": "2024-03-22T00:24:53.102295",
     "status": "completed"
    },
    "tags": []
   },
   "outputs": [
    {
     "name": "stdout",
     "output_type": "stream",
     "text": [
      "\\clearpage\n",
      "\n",
      "## Supplementary information {.page_br\n"
     ]
    }
   ],
   "source": [
    "# get content\n",
    "orig_section_content = repo.get_contents(pr_filename, pr_prev).decoded_content.decode(\n",
    "    \"utf-8\"\n",
    ")\n",
    "print(orig_section_content[:50])"
   ]
  },
  {
   "cell_type": "code",
   "execution_count": 468,
   "id": "898c86e2-7d49-46e1-a019-35b8e3aeac2c",
   "metadata": {
    "papermill": {
     "duration": 0.047335,
     "end_time": "2024-03-22T00:24:53.425251",
     "exception": false,
     "start_time": "2024-03-22T00:24:53.377916",
     "status": "completed"
    },
    "tags": []
   },
   "outputs": [
    {
     "data": {
      "text/plain": [
       "142"
      ]
     },
     "metadata": {},
     "output_type": "display_data"
    }
   ],
   "source": [
    "# split by paragraph\n",
    "orig_section_paragraphs = orig_section_content.split(\"\\n\\n\")\n",
    "display(len(orig_section_paragraphs))"
   ]
  },
  {
   "cell_type": "markdown",
   "id": "6165d56b-aea0-411b-a545-c90c1e32e039",
   "metadata": {
    "editable": true,
    "papermill": {
     "duration": 0.031244,
     "end_time": "2024-03-22T00:24:53.488052",
     "exception": false,
     "start_time": "2024-03-22T00:24:53.456808",
     "status": "completed"
    },
    "slideshow": {
     "slide_type": ""
    },
    "tags": []
   },
   "source": [
    "### Modified"
   ]
  },
  {
   "cell_type": "code",
   "execution_count": 469,
   "id": "b752cf9d-6ad4-419e-98f7-1569d3a72325",
   "metadata": {
    "papermill": {
     "duration": 0.204051,
     "end_time": "2024-03-22T00:24:53.723349",
     "exception": false,
     "start_time": "2024-03-22T00:24:53.519298",
     "status": "completed"
    },
    "tags": []
   },
   "outputs": [
    {
     "name": "stdout",
     "output_type": "stream",
     "text": [
      "\\clearpage\n",
      "\n",
      "## Supplementary information {.page_br\n"
     ]
    }
   ],
   "source": [
    "# get content\n",
    "mod_section_content = repo.get_contents(pr_filename, pr_curr).decoded_content.decode(\n",
    "    \"utf-8\"\n",
    ")\n",
    "print(mod_section_content[:50])"
   ]
  },
  {
   "cell_type": "code",
   "execution_count": 470,
   "id": "877fa931-ac0a-492b-8442-c6efb04a4034",
   "metadata": {
    "papermill": {
     "duration": 0.046924,
     "end_time": "2024-03-22T00:24:53.830098",
     "exception": false,
     "start_time": "2024-03-22T00:24:53.783174",
     "status": "completed"
    },
    "tags": []
   },
   "outputs": [
    {
     "data": {
      "text/plain": [
       "142"
      ]
     },
     "metadata": {},
     "output_type": "display_data"
    }
   ],
   "source": [
    "# split by paragraph\n",
    "mod_section_paragraphs = mod_section_content.split(\"\\n\\n\")\n",
    "display(len(mod_section_paragraphs))"
   ]
  },
  {
   "cell_type": "markdown",
   "id": "16fc062f-f257-4e0f-8ee3-52802a7616a1",
   "metadata": {
    "editable": true,
    "papermill": {
     "duration": 0.031411,
     "end_time": "2024-03-22T00:24:53.893434",
     "exception": false,
     "start_time": "2024-03-22T00:24:53.862023",
     "status": "completed"
    },
    "slideshow": {
     "slide_type": ""
    },
    "tags": []
   },
   "source": [
    "### Match"
   ]
  },
  {
   "cell_type": "code",
   "execution_count": 471,
   "id": "c75a1315-8f62-4b1e-946c-883fbb5d0a0a",
   "metadata": {
    "papermill": {
     "duration": 0.035774,
     "end_time": "2024-03-22T00:24:53.960310",
     "exception": false,
     "start_time": "2024-03-22T00:24:53.924536",
     "status": "completed"
    },
    "tags": []
   },
   "outputs": [
    {
     "data": {
      "text/plain": [
       "'\\\\clearpage'"
      ]
     },
     "execution_count": 471,
     "metadata": {},
     "output_type": "execute_result"
    }
   ],
   "source": [
    "orig_section_paragraphs[0]"
   ]
  },
  {
   "cell_type": "code",
   "execution_count": 472,
   "id": "6adb9155-b58e-4fb0-ae81-f273311bf6b3",
   "metadata": {
    "papermill": {
     "duration": 0.035828,
     "end_time": "2024-03-22T00:24:54.027504",
     "exception": false,
     "start_time": "2024-03-22T00:24:53.991676",
     "status": "completed"
    },
    "tags": []
   },
   "outputs": [
    {
     "data": {
      "text/plain": [
       "'\\\\clearpage'"
      ]
     },
     "execution_count": 472,
     "metadata": {},
     "output_type": "execute_result"
    }
   ],
   "source": [
    "mod_section_paragraphs[0]"
   ]
  },
  {
   "cell_type": "markdown",
   "id": "ec060875-a6a9-43b9-9ea1-342cb58fce37",
   "metadata": {
    "editable": true,
    "papermill": {
     "duration": 0.031769,
     "end_time": "2024-03-22T00:24:54.090996",
     "exception": false,
     "start_time": "2024-03-22T00:24:54.059227",
     "status": "completed"
    },
    "slideshow": {
     "slide_type": ""
    },
    "tags": []
   },
   "source": [
    "####  Paragraph 00"
   ]
  },
  {
   "cell_type": "code",
   "execution_count": 475,
   "id": "3b65d703-bc59-4e1b-8030-764b49a1263b",
   "metadata": {
    "papermill": {
     "duration": 0.036943,
     "end_time": "2024-03-22T00:24:54.160642",
     "exception": false,
     "start_time": "2024-03-22T00:24:54.123699",
     "status": "completed"
    },
    "tags": []
   },
   "outputs": [
    {
     "name": "stdout",
     "output_type": "stream",
     "text": [
      "We assessed our GLS model type I error rates (proportion of $p$-values below 0.05) and calibration using a null model of random traits and genotype data from 1000 Genomes Phase III. We selected 312 individuals with European ancestry, and then analyzed 1,000 traits drawn from a standard normal distribution $\\mathcal{N}(0,1)$. We ran all the standard procedures for the TWAS approaches (S-PrediXcan and S-MultiXcan), including: 1) a standard GWAS using linear regression under an additive genetic model, 2) different GWAS processing steps, including harmonization and imputation procedures as defined in [@doi:10.1002/gepi.22346], 3) S-PrediXcan and S-MultiXcan analyses. Below we provide details for each of these steps.\n"
     ]
    }
   ],
   "source": [
    "par0 = process_paragraph(orig_section_paragraphs[3])\n",
    "print(par0)"
   ]
  },
  {
   "cell_type": "code",
   "execution_count": 476,
   "id": "ae92dbda-ee39-4fdd-8e24-3cfa1d22037c",
   "metadata": {
    "papermill": {
     "duration": 0.036527,
     "end_time": "2024-03-22T00:24:54.230588",
     "exception": false,
     "start_time": "2024-03-22T00:24:54.194061",
     "status": "completed"
    },
    "tags": []
   },
   "outputs": [
    {
     "name": "stdout",
     "output_type": "stream",
     "text": [
      "We tested the accuracy of our model by looking at how often $p$-values were below 0.05, and how well it matched a null model with random traits and genotype data from the 1000 Genomes Phase III. We chose 312 people of European descent and examined 1,000 traits that followed a standard normal distribution ($\\mathcal{N}(0,1)$). We followed the usual steps for TWAS methods (S-PrediXcan and S-MultiXcan), which included: 1) a standard GWAS using linear regression with an additive genetic model, 2) various GWAS processing procedures like harmonization and imputation as described in a previous study [@doi:10.1002/gepi.22346], and 3) S-PrediXcan and S-MultiXcan analyses. The specifics of each step are outlined below.\n"
     ]
    }
   ],
   "source": [
    "par1 = process_paragraph(mod_section_paragraphs[3])\n",
    "print(par1)"
   ]
  },
  {
   "cell_type": "code",
   "execution_count": 477,
   "id": "029c38b9-4d4e-40d4-ae88-7b811a26cb13",
   "metadata": {
    "papermill": {
     "duration": 0.035274,
     "end_time": "2024-03-22T00:24:54.298064",
     "exception": false,
     "start_time": "2024-03-22T00:24:54.262790",
     "status": "completed"
    },
    "tags": []
   },
   "outputs": [],
   "source": [
    "paragraph_matches.append(\n",
    "    (\n",
    "        section_name,\n",
    "        par0,\n",
    "        par1,\n",
    "    )\n",
    ")"
   ]
  },
  {
   "cell_type": "code",
   "execution_count": 478,
   "id": "1f88aa44-dbbc-45ac-973d-5dc020568efc",
   "metadata": {
    "papermill": {
     "duration": 0.036206,
     "end_time": "2024-03-22T00:24:54.366181",
     "exception": false,
     "start_time": "2024-03-22T00:24:54.329975",
     "status": "completed"
    },
    "tags": []
   },
   "outputs": [
    {
     "data": {
      "text/plain": [
       "('supplementary material',\n",
       " 'We assessed our GLS model type I error rates (proportion of $p$-values below 0.05) and calibration using a null model of random traits and genotype data from 1000 Genomes Phase III. We selected 312 individuals with European ancestry, and then analyzed 1,000 traits drawn from a standard normal distribution $\\\\mathcal{N}(0,1)$. We ran all the standard procedures for the TWAS approaches (S-PrediXcan and S-MultiXcan), including: 1) a standard GWAS using linear regression under an additive genetic model, 2) different GWAS processing steps, including harmonization and imputation procedures as defined in [@doi:10.1002/gepi.22346], 3) S-PrediXcan and S-MultiXcan analyses. Below we provide details for each of these steps.',\n",
       " 'We tested the accuracy of our model by looking at how often $p$-values were below 0.05, and how well it matched a null model with random traits and genotype data from the 1000 Genomes Phase III. We chose 312 people of European descent and examined 1,000 traits that followed a standard normal distribution ($\\\\mathcal{N}(0,1)$). We followed the usual steps for TWAS methods (S-PrediXcan and S-MultiXcan), which included: 1) a standard GWAS using linear regression with an additive genetic model, 2) various GWAS processing procedures like harmonization and imputation as described in a previous study [@doi:10.1002/gepi.22346], and 3) S-PrediXcan and S-MultiXcan analyses. The specifics of each step are outlined below.')"
      ]
     },
     "metadata": {},
     "output_type": "display_data"
    }
   ],
   "source": [
    "display(paragraph_matches[-1])"
   ]
  },
  {
   "cell_type": "markdown",
   "id": "2354f3ad-7807-46e6-94d3-45507949d18f",
   "metadata": {
    "editable": true,
    "papermill": {
     "duration": 0.031769,
     "end_time": "2024-03-22T00:24:54.090996",
     "exception": false,
     "start_time": "2024-03-22T00:24:54.059227",
     "status": "completed"
    },
    "slideshow": {
     "slide_type": ""
    },
    "tags": []
   },
   "source": [
    "####  Paragraph 01"
   ]
  },
  {
   "cell_type": "code",
   "execution_count": 479,
   "id": "1a0441f6-31ff-4994-9c43-2ddd43af09fa",
   "metadata": {
    "papermill": {
     "duration": 0.036943,
     "end_time": "2024-03-22T00:24:54.160642",
     "exception": false,
     "start_time": "2024-03-22T00:24:54.123699",
     "status": "completed"
    },
    "tags": []
   },
   "outputs": [
    {
     "name": "stdout",
     "output_type": "stream",
     "text": [
      "**Step 1 - GWAS**. We performed standard QC procedures such as filtering out variants with missing call rates eexceeding 0.01, MAF below 1% or MAC below 20, and HWE below 1e-6, and removing samples with high sex-discrepancy and high-relatedness (first and second degree). We included sex and the top 20 principal components as covariates, performing the association test on 5,923,554 variants across all 1,000 random phenotypes.\n"
     ]
    }
   ],
   "source": [
    "par0 = process_paragraph(orig_section_paragraphs[4])\n",
    "print(par0)"
   ]
  },
  {
   "cell_type": "code",
   "execution_count": 481,
   "id": "5b4a26b2-d1cf-4e52-92af-e9aad95c0eb5",
   "metadata": {
    "papermill": {
     "duration": 0.036527,
     "end_time": "2024-03-22T00:24:54.230588",
     "exception": false,
     "start_time": "2024-03-22T00:24:54.194061",
     "status": "completed"
    },
    "tags": []
   },
   "outputs": [
    {
     "name": "stdout",
     "output_type": "stream",
     "text": [
      "In the first step of our study, we conducted a genome-wide association study (GWAS). We followed standard quality control procedures, which involved filtering out variants with missing call rates above 0.01, minor allele frequencies below 1%, minor allele counts below 20, and Hardy-Weinberg equilibrium p-values below 1e-6. We also removed samples that showed high discrepancies in sex or were closely related (up to second degree). Additionally, we included sex and the top 20 principal components as covariates in our analysis. The association test was performed on a total of 5,923,554 variants across all 1,000 randomly selected phenotypes.\n"
     ]
    }
   ],
   "source": [
    "par1 = process_paragraph(mod_section_paragraphs[4])\n",
    "print(par1)"
   ]
  },
  {
   "cell_type": "code",
   "execution_count": 482,
   "id": "283f94a0-1e18-40bd-989b-b27d1d389386",
   "metadata": {
    "papermill": {
     "duration": 0.035274,
     "end_time": "2024-03-22T00:24:54.298064",
     "exception": false,
     "start_time": "2024-03-22T00:24:54.262790",
     "status": "completed"
    },
    "tags": []
   },
   "outputs": [],
   "source": [
    "paragraph_matches.append(\n",
    "    (\n",
    "        section_name,\n",
    "        par0,\n",
    "        par1,\n",
    "    )\n",
    ")"
   ]
  },
  {
   "cell_type": "code",
   "execution_count": 483,
   "id": "213c4abe-3b98-45d2-8557-07aeb49240d6",
   "metadata": {
    "papermill": {
     "duration": 0.036206,
     "end_time": "2024-03-22T00:24:54.366181",
     "exception": false,
     "start_time": "2024-03-22T00:24:54.329975",
     "status": "completed"
    },
    "tags": []
   },
   "outputs": [
    {
     "data": {
      "text/plain": [
       "('supplementary material',\n",
       " '**Step 1 - GWAS**. We performed standard QC procedures such as filtering out variants with missing call rates eexceeding 0.01, MAF below 1% or MAC below 20, and HWE below 1e-6, and removing samples with high sex-discrepancy and high-relatedness (first and second degree). We included sex and the top 20 principal components as covariates, performing the association test on 5,923,554 variants across all 1,000 random phenotypes.',\n",
       " 'In the first step of our study, we conducted a genome-wide association study (GWAS). We followed standard quality control procedures, which involved filtering out variants with missing call rates above 0.01, minor allele frequencies below 1%, minor allele counts below 20, and Hardy-Weinberg equilibrium p-values below 1e-6. We also removed samples that showed high discrepancies in sex or were closely related (up to second degree). Additionally, we included sex and the top 20 principal components as covariates in our analysis. The association test was performed on a total of 5,923,554 variants across all 1,000 randomly selected phenotypes.')"
      ]
     },
     "metadata": {},
     "output_type": "display_data"
    }
   ],
   "source": [
    "display(paragraph_matches[-1])"
   ]
  },
  {
   "cell_type": "markdown",
   "id": "f8332055-5563-4dd1-a5fe-2344d41b1175",
   "metadata": {
    "editable": true,
    "papermill": {
     "duration": 0.031769,
     "end_time": "2024-03-22T00:24:54.090996",
     "exception": false,
     "start_time": "2024-03-22T00:24:54.059227",
     "status": "completed"
    },
    "slideshow": {
     "slide_type": ""
    },
    "tags": []
   },
   "source": [
    "####  Paragraph 02"
   ]
  },
  {
   "cell_type": "code",
   "execution_count": 484,
   "id": "135c4337-2236-40b2-a127-8567b2151154",
   "metadata": {
    "papermill": {
     "duration": 0.036943,
     "end_time": "2024-03-22T00:24:54.160642",
     "exception": false,
     "start_time": "2024-03-22T00:24:54.123699",
     "status": "completed"
    },
    "tags": []
   },
   "outputs": [
    {
     "name": "stdout",
     "output_type": "stream",
     "text": [
      "**Step 2 - GWAS processing**. These steps include harmonization of GWAS and imputation of $z$-scores, which are part of the TWAS pipeline and are needed in order to ensure an acceptable overlap with SNPs in prediction models. The scripts to run these steps are available in [@url:https://github.com/hakyimlab/summary-gwas-imputation]. These procedures were run for all 1,000 random phenotypes and generated a total number of 8,325,729 variants, including those with original and imputed $z$-scores.\n"
     ]
    }
   ],
   "source": [
    "par0 = process_paragraph(orig_section_paragraphs[5])\n",
    "print(par0)"
   ]
  },
  {
   "cell_type": "code",
   "execution_count": 485,
   "id": "997c0872-0ef2-488a-b894-fb22e964cfbc",
   "metadata": {
    "papermill": {
     "duration": 0.036527,
     "end_time": "2024-03-22T00:24:54.230588",
     "exception": false,
     "start_time": "2024-03-22T00:24:54.194061",
     "status": "completed"
    },
    "tags": []
   },
   "outputs": [
    {
     "name": "stdout",
     "output_type": "stream",
     "text": [
      "In the second step of the study, genetic data from GWAS was processed. This involved aligning the data and estimating $z$-scores, which are essential for the TWAS process to ensure compatibility with SNPs in predictive models. The necessary scripts for these steps can be found at the following link: https://github.com/hakyimlab/summary-gwas-imputation. These procedures were carried out for 1,000 different traits, resulting in a total of 8,325,729 variants that included both original and estimated $z$-scores.\n"
     ]
    }
   ],
   "source": [
    "par1 = process_paragraph(mod_section_paragraphs[5])\n",
    "print(par1)"
   ]
  },
  {
   "cell_type": "code",
   "execution_count": 486,
   "id": "7684ffa8-7b85-41bf-a2ff-40501b361dde",
   "metadata": {
    "papermill": {
     "duration": 0.035274,
     "end_time": "2024-03-22T00:24:54.298064",
     "exception": false,
     "start_time": "2024-03-22T00:24:54.262790",
     "status": "completed"
    },
    "tags": []
   },
   "outputs": [],
   "source": [
    "paragraph_matches.append(\n",
    "    (\n",
    "        section_name,\n",
    "        par0,\n",
    "        par1,\n",
    "    )\n",
    ")"
   ]
  },
  {
   "cell_type": "code",
   "execution_count": 487,
   "id": "535f50e2-c1f6-418f-9737-5bce651d61d8",
   "metadata": {
    "papermill": {
     "duration": 0.036206,
     "end_time": "2024-03-22T00:24:54.366181",
     "exception": false,
     "start_time": "2024-03-22T00:24:54.329975",
     "status": "completed"
    },
    "tags": []
   },
   "outputs": [
    {
     "data": {
      "text/plain": [
       "('supplementary material',\n",
       " '**Step 2 - GWAS processing**. These steps include harmonization of GWAS and imputation of $z$-scores, which are part of the TWAS pipeline and are needed in order to ensure an acceptable overlap with SNPs in prediction models. The scripts to run these steps are available in [@url:https://github.com/hakyimlab/summary-gwas-imputation]. These procedures were run for all 1,000 random phenotypes and generated a total number of 8,325,729 variants, including those with original and imputed $z$-scores.',\n",
       " 'In the second step of the study, genetic data from GWAS was processed. This involved aligning the data and estimating $z$-scores, which are essential for the TWAS process to ensure compatibility with SNPs in predictive models. The necessary scripts for these steps can be found at the following link: https://github.com/hakyimlab/summary-gwas-imputation. These procedures were carried out for 1,000 different traits, resulting in a total of 8,325,729 variants that included both original and estimated $z$-scores.')"
      ]
     },
     "metadata": {},
     "output_type": "display_data"
    }
   ],
   "source": [
    "display(paragraph_matches[-1])"
   ]
  },
  {
   "cell_type": "markdown",
   "id": "78d8724c-2456-458f-a8cc-72ccb0cdab7d",
   "metadata": {
    "editable": true,
    "papermill": {
     "duration": 0.031769,
     "end_time": "2024-03-22T00:24:54.090996",
     "exception": false,
     "start_time": "2024-03-22T00:24:54.059227",
     "status": "completed"
    },
    "slideshow": {
     "slide_type": ""
    },
    "tags": []
   },
   "source": [
    "####  Paragraph 03"
   ]
  },
  {
   "cell_type": "code",
   "execution_count": 489,
   "id": "180357fe-44e5-4820-9af6-238720256c28",
   "metadata": {
    "papermill": {
     "duration": 0.036943,
     "end_time": "2024-03-22T00:24:54.160642",
     "exception": false,
     "start_time": "2024-03-22T00:24:54.123699",
     "status": "completed"
    },
    "tags": []
   },
   "outputs": [
    {
     "name": "stdout",
     "output_type": "stream",
     "text": [
      "Finally, we ran our GLS model (Equation (@eq:reg:model)) to compute an association between each of the 987 LVs in MultiPLIER and the 1,000 S-MultiXcan results on random phenotypes. For this, we built a gene correlation matrix specifically for this cohort (see [Methods](#sec:methods:reg)). Then, we compared the GLS results with an equivalent, baseline ordinarly least squares (OLS) model assuming independence between genes. Figure @fig:reg:nulls:qqplots compares the distribution of $p$-values of the OLS and GLS models. The GLS model has a slightly smaller mean type I error rate (0.0558, SD=0.0127) than the baseline OLS model (0.0584, SD=0.0140), and $p$-values follow more closely the expected uniform distribution. Importantly, the GLS model is able to correct for LVs with adjacent and highly correlated genes at the top such as LV234 (Figure @fig:reg:nulls:qqplot:lv234), LV847 (Figure @fig:reg:nulls:qqplot:lv847), LV45 (Figure @fig:reg:nulls:qqplot:lv45), or LV800 (Figure @fig:reg:nulls:qqplot:lv800), among others. In contrast and as expected, the OLS model has higher mean type I errors and smaller-than-expected $p$-values in all these cases.\n"
     ]
    }
   ],
   "source": [
    "par0 = process_paragraph(orig_section_paragraphs[7])\n",
    "print(par0)"
   ]
  },
  {
   "cell_type": "code",
   "execution_count": 491,
   "id": "935e6a60-881c-4179-b351-0603241dc245",
   "metadata": {
    "papermill": {
     "duration": 0.036527,
     "end_time": "2024-03-22T00:24:54.230588",
     "exception": false,
     "start_time": "2024-03-22T00:24:54.194061",
     "status": "completed"
    },
    "tags": []
   },
   "outputs": [
    {
     "name": "stdout",
     "output_type": "stream",
     "text": [
      "We used a statistical model to analyze the association between 987 gene expression patterns in MultiPLIER and 1,000 results from S-MultiXcan on random traits. To do this, we created a gene correlation matrix specifically for this group. We then compared the results from our model with a standard model that assumes genes are independent. Figure shows the comparison of $p$-values between the two models. The GLS model had a slightly lower mean type I error rate (0.0558, SD=0.0127) compared to the baseline OLS model (0.0584, SD=0.0140), and the $p$-values were closer to the expected distribution. The GLS model effectively corrected for gene patterns with high correlations, such as LV234, LV847, LV45, and LV800. In contrast, the OLS model had higher errors and lower $p$-values in these cases.\n"
     ]
    }
   ],
   "source": [
    "par1 = process_paragraph(mod_section_paragraphs[7])\n",
    "print(par1)"
   ]
  },
  {
   "cell_type": "code",
   "execution_count": 492,
   "id": "dc93c95d-0d56-4ca6-86b0-0efa919669eb",
   "metadata": {
    "papermill": {
     "duration": 0.035274,
     "end_time": "2024-03-22T00:24:54.298064",
     "exception": false,
     "start_time": "2024-03-22T00:24:54.262790",
     "status": "completed"
    },
    "tags": []
   },
   "outputs": [],
   "source": [
    "paragraph_matches.append(\n",
    "    (\n",
    "        section_name,\n",
    "        par0,\n",
    "        par1,\n",
    "    )\n",
    ")"
   ]
  },
  {
   "cell_type": "code",
   "execution_count": 493,
   "id": "6b7917ca-4d8a-4f0d-a4e9-44f6dee9e52f",
   "metadata": {
    "papermill": {
     "duration": 0.036206,
     "end_time": "2024-03-22T00:24:54.366181",
     "exception": false,
     "start_time": "2024-03-22T00:24:54.329975",
     "status": "completed"
    },
    "tags": []
   },
   "outputs": [
    {
     "data": {
      "text/plain": [
       "('supplementary material',\n",
       " 'Finally, we ran our GLS model (Equation (@eq:reg:model)) to compute an association between each of the 987 LVs in MultiPLIER and the 1,000 S-MultiXcan results on random phenotypes. For this, we built a gene correlation matrix specifically for this cohort (see [Methods](#sec:methods:reg)). Then, we compared the GLS results with an equivalent, baseline ordinarly least squares (OLS) model assuming independence between genes. Figure @fig:reg:nulls:qqplots compares the distribution of $p$-values of the OLS and GLS models. The GLS model has a slightly smaller mean type I error rate (0.0558, SD=0.0127) than the baseline OLS model (0.0584, SD=0.0140), and $p$-values follow more closely the expected uniform distribution. Importantly, the GLS model is able to correct for LVs with adjacent and highly correlated genes at the top such as LV234 (Figure @fig:reg:nulls:qqplot:lv234), LV847 (Figure @fig:reg:nulls:qqplot:lv847), LV45 (Figure @fig:reg:nulls:qqplot:lv45), or LV800 (Figure @fig:reg:nulls:qqplot:lv800), among others. In contrast and as expected, the OLS model has higher mean type I errors and smaller-than-expected $p$-values in all these cases.',\n",
       " 'We used a statistical model to analyze the association between 987 gene expression patterns in MultiPLIER and 1,000 results from S-MultiXcan on random traits. To do this, we created a gene correlation matrix specifically for this group. We then compared the results from our model with a standard model that assumes genes are independent. Figure shows the comparison of $p$-values between the two models. The GLS model had a slightly lower mean type I error rate (0.0558, SD=0.0127) compared to the baseline OLS model (0.0584, SD=0.0140), and the $p$-values were closer to the expected distribution. The GLS model effectively corrected for gene patterns with high correlations, such as LV234, LV847, LV45, and LV800. In contrast, the OLS model had higher errors and lower $p$-values in these cases.')"
      ]
     },
     "metadata": {},
     "output_type": "display_data"
    }
   ],
   "source": [
    "display(paragraph_matches[-1])"
   ]
  },
  {
   "cell_type": "markdown",
   "id": "34bf7ee5-eed9-4807-a03e-be2199e688ab",
   "metadata": {
    "editable": true,
    "papermill": {
     "duration": 0.031769,
     "end_time": "2024-03-22T00:24:54.090996",
     "exception": false,
     "start_time": "2024-03-22T00:24:54.059227",
     "status": "completed"
    },
    "slideshow": {
     "slide_type": ""
    },
    "tags": []
   },
   "source": [
    "####  Paragraph 04"
   ]
  },
  {
   "cell_type": "code",
   "execution_count": 494,
   "id": "16e7f41d-9a59-4e07-8883-377ac053e811",
   "metadata": {
    "papermill": {
     "duration": 0.036943,
     "end_time": "2024-03-22T00:24:54.160642",
     "exception": false,
     "start_time": "2024-03-22T00:24:54.123699",
     "status": "completed"
    },
    "tags": []
   },
   "outputs": [
    {
     "name": "stdout",
     "output_type": "stream",
     "text": [
      "We also detected other LVs with higher-than-expected mean type I errors for both the GLS and OLS models, although they don't have a relatively large number of adjacent genes at the top. One example is LV914, shown in Figure @fig:reg:nulls:qqplot:lv914. Inflation in these LVs might be explained by inaccuracies in correlation estimates between the individual-level MultiXcan model and its summary-based version (see Methods). Therefore, we flagged those with a type I error rate larger than 0.07 (127 LVs) and excluded them from our main analyses. We didn't see signs of inflation when applying the method in real data (Figure @fig:reg:real:qqplots).\n"
     ]
    }
   ],
   "source": [
    "par0 = process_paragraph(orig_section_paragraphs[8])\n",
    "print(par0)"
   ]
  },
  {
   "cell_type": "code",
   "execution_count": 495,
   "id": "14fdb559-3099-484d-bff3-4531f5638c4a",
   "metadata": {
    "papermill": {
     "duration": 0.036527,
     "end_time": "2024-03-22T00:24:54.230588",
     "exception": false,
     "start_time": "2024-03-22T00:24:54.194061",
     "status": "completed"
    },
    "tags": []
   },
   "outputs": [
    {
     "name": "stdout",
     "output_type": "stream",
     "text": [
      "We identified additional LVs that had higher-than-expected mean errors in both the GLS and OLS models, even though they did not have a large number of nearby genes at the top. An example of this is LV914, which is depicted in Figure 1. The inflation in these LVs may be due to inaccuracies in correlation estimates between the individual-level MultiXcan model and its summary-based version. As a result, we identified 127 LVs with a type I error rate greater than 0.07 and excluded them from our primary analyses. We did not observe any signs of inflation when applying the method to real data, as shown in Figure 2.\n"
     ]
    }
   ],
   "source": [
    "par1 = process_paragraph(mod_section_paragraphs[8])\n",
    "print(par1)"
   ]
  },
  {
   "cell_type": "code",
   "execution_count": 496,
   "id": "3c807a6f-2609-4ddd-bbc9-57a86122561d",
   "metadata": {
    "papermill": {
     "duration": 0.035274,
     "end_time": "2024-03-22T00:24:54.298064",
     "exception": false,
     "start_time": "2024-03-22T00:24:54.262790",
     "status": "completed"
    },
    "tags": []
   },
   "outputs": [],
   "source": [
    "paragraph_matches.append(\n",
    "    (\n",
    "        section_name,\n",
    "        par0,\n",
    "        par1,\n",
    "    )\n",
    ")"
   ]
  },
  {
   "cell_type": "code",
   "execution_count": 497,
   "id": "ee93fbb3-3f08-4269-b91a-f61701dc1f80",
   "metadata": {
    "papermill": {
     "duration": 0.036206,
     "end_time": "2024-03-22T00:24:54.366181",
     "exception": false,
     "start_time": "2024-03-22T00:24:54.329975",
     "status": "completed"
    },
    "tags": []
   },
   "outputs": [
    {
     "data": {
      "text/plain": [
       "('supplementary material',\n",
       " \"We also detected other LVs with higher-than-expected mean type I errors for both the GLS and OLS models, although they don't have a relatively large number of adjacent genes at the top. One example is LV914, shown in Figure @fig:reg:nulls:qqplot:lv914. Inflation in these LVs might be explained by inaccuracies in correlation estimates between the individual-level MultiXcan model and its summary-based version (see Methods). Therefore, we flagged those with a type I error rate larger than 0.07 (127 LVs) and excluded them from our main analyses. We didn't see signs of inflation when applying the method in real data (Figure @fig:reg:real:qqplots).\",\n",
       " 'We identified additional LVs that had higher-than-expected mean errors in both the GLS and OLS models, even though they did not have a large number of nearby genes at the top. An example of this is LV914, which is depicted in Figure 1. The inflation in these LVs may be due to inaccuracies in correlation estimates between the individual-level MultiXcan model and its summary-based version. As a result, we identified 127 LVs with a type I error rate greater than 0.07 and excluded them from our primary analyses. We did not observe any signs of inflation when applying the method to real data, as shown in Figure 2.')"
      ]
     },
     "metadata": {},
     "output_type": "display_data"
    }
   ],
   "source": [
    "display(paragraph_matches[-1])"
   ]
  },
  {
   "cell_type": "markdown",
   "id": "2e982bb7-2bba-4e5a-9102-dbec267d7db2",
   "metadata": {
    "editable": true,
    "papermill": {
     "duration": 0.031769,
     "end_time": "2024-03-22T00:24:54.090996",
     "exception": false,
     "start_time": "2024-03-22T00:24:54.059227",
     "status": "completed"
    },
    "slideshow": {
     "slide_type": ""
    },
    "tags": []
   },
   "source": [
    "####  Paragraph 05"
   ]
  },
  {
   "cell_type": "code",
   "execution_count": 504,
   "id": "9c606f8d-b985-4e15-b735-4f43aa53409f",
   "metadata": {
    "papermill": {
     "duration": 0.036943,
     "end_time": "2024-03-22T00:24:54.160642",
     "exception": false,
     "start_time": "2024-03-22T00:24:54.123699",
     "status": "completed"
    },
    "tags": []
   },
   "outputs": [
    {
     "name": "stdout",
     "output_type": "stream",
     "text": [
      "For the first scenario, we shuffled genes in $\\mathbf{M}$ for each trait, and this randomized matrix was then projected into the latent space. For the second scenario, we projected matrix $\\mathbf{M}$ into the latent space, and then shuffled LVs in $\\hat{\\mathbf{M}}$ for each trait. For each of these scenarios, we ran exactly the same clustering pipeline we used for the real data ([Methods](#sec:methods:clustering)), generating an ensemble of partitions that was later combined using the same consensus functions to derive the final partitions of traits. Finally, we computed 1) stability statistics on the ensemble partitions from different algorithms and 2) the agreement of the final consensus partition with the ensemble.\n"
     ]
    }
   ],
   "source": [
    "par0 = process_paragraph(orig_section_paragraphs[33])\n",
    "print(par0)"
   ]
  },
  {
   "cell_type": "code",
   "execution_count": 505,
   "id": "c6033f25-d27d-45ea-8e4f-d6fd0b9cfdd5",
   "metadata": {
    "papermill": {
     "duration": 0.036527,
     "end_time": "2024-03-22T00:24:54.230588",
     "exception": false,
     "start_time": "2024-03-22T00:24:54.194061",
     "status": "completed"
    },
    "tags": []
   },
   "outputs": [
    {
     "name": "stdout",
     "output_type": "stream",
     "text": [
      "In the first scenario, we rearranged genes in matrix M for each trait, then projected this rearranged matrix into the hidden space. In the second scenario, we projected matrix M into the hidden space, and then rearranged latent variables in M-hat for each trait. In both scenarios, we used the same clustering process as we did for the actual data, creating multiple partitions that were later combined using consensus functions to determine the final trait groupings. We then calculated stability statistics on the different algorithm partitions and measured the agreement of the final consensus partition with the ensemble.\n"
     ]
    }
   ],
   "source": [
    "par1 = process_paragraph(mod_section_paragraphs[33])\n",
    "print(par1)"
   ]
  },
  {
   "cell_type": "code",
   "execution_count": 506,
   "id": "5d36d02d-0e13-41a2-8abf-8faaf5d4d52e",
   "metadata": {
    "papermill": {
     "duration": 0.035274,
     "end_time": "2024-03-22T00:24:54.298064",
     "exception": false,
     "start_time": "2024-03-22T00:24:54.262790",
     "status": "completed"
    },
    "tags": []
   },
   "outputs": [],
   "source": [
    "paragraph_matches.append(\n",
    "    (\n",
    "        section_name,\n",
    "        par0,\n",
    "        par1,\n",
    "    )\n",
    ")"
   ]
  },
  {
   "cell_type": "code",
   "execution_count": 507,
   "id": "f45c7b07-0156-4c3e-bb3b-e824c590e9f6",
   "metadata": {
    "papermill": {
     "duration": 0.036206,
     "end_time": "2024-03-22T00:24:54.366181",
     "exception": false,
     "start_time": "2024-03-22T00:24:54.329975",
     "status": "completed"
    },
    "tags": []
   },
   "outputs": [
    {
     "data": {
      "text/plain": [
       "('supplementary material',\n",
       " 'For the first scenario, we shuffled genes in $\\\\mathbf{M}$ for each trait, and this randomized matrix was then projected into the latent space. For the second scenario, we projected matrix $\\\\mathbf{M}$ into the latent space, and then shuffled LVs in $\\\\hat{\\\\mathbf{M}}$ for each trait. For each of these scenarios, we ran exactly the same clustering pipeline we used for the real data ([Methods](#sec:methods:clustering)), generating an ensemble of partitions that was later combined using the same consensus functions to derive the final partitions of traits. Finally, we computed 1) stability statistics on the ensemble partitions from different algorithms and 2) the agreement of the final consensus partition with the ensemble.',\n",
       " 'In the first scenario, we rearranged genes in matrix M for each trait, then projected this rearranged matrix into the hidden space. In the second scenario, we projected matrix M into the hidden space, and then rearranged latent variables in M-hat for each trait. In both scenarios, we used the same clustering process as we did for the actual data, creating multiple partitions that were later combined using consensus functions to determine the final trait groupings. We then calculated stability statistics on the different algorithm partitions and measured the agreement of the final consensus partition with the ensemble.')"
      ]
     },
     "metadata": {},
     "output_type": "display_data"
    }
   ],
   "source": [
    "display(paragraph_matches[-1])"
   ]
  },
  {
   "cell_type": "markdown",
   "id": "dc7a207e-3226-49d4-a472-a6eac50a41ad",
   "metadata": {
    "editable": true,
    "papermill": {
     "duration": 0.031769,
     "end_time": "2024-03-22T00:24:54.090996",
     "exception": false,
     "start_time": "2024-03-22T00:24:54.059227",
     "status": "completed"
    },
    "slideshow": {
     "slide_type": ""
    },
    "tags": []
   },
   "source": [
    "####  Paragraph 06"
   ]
  },
  {
   "cell_type": "code",
   "execution_count": 508,
   "id": "07d8d958-a301-4356-983d-81ed583da9fe",
   "metadata": {
    "papermill": {
     "duration": 0.036943,
     "end_time": "2024-03-22T00:24:54.160642",
     "exception": false,
     "start_time": "2024-03-22T00:24:54.123699",
     "status": "completed"
    },
    "tags": []
   },
   "outputs": [
    {
     "name": "stdout",
     "output_type": "stream",
     "text": [
      "The results of this analysis (Figure @fig:sup:clustering:agreement) show that, under the two simulated null scenarios, the agreement of the consensus partitions with the ensemble is very close to zero. This means, as expected, that there is no consensus among ensemble partitions generated with different clustering algorithms and data representations. In contrast, using the real data, the consensus clustering approach finds trait pairs that are grouped together across the different members of the ensemble. The partitions above the 75th percentile were considered in the main analyses, and are shown in the clustering tree in Figure @fig:clustering:tree.\n"
     ]
    }
   ],
   "source": [
    "par0 = process_paragraph(orig_section_paragraphs[35])\n",
    "print(par0)"
   ]
  },
  {
   "cell_type": "code",
   "execution_count": 509,
   "id": "a58ecc49-191d-4f62-bd4a-af6481dc27b8",
   "metadata": {
    "papermill": {
     "duration": 0.036527,
     "end_time": "2024-03-22T00:24:54.230588",
     "exception": false,
     "start_time": "2024-03-22T00:24:54.194061",
     "status": "completed"
    },
    "tags": []
   },
   "outputs": [
    {
     "name": "stdout",
     "output_type": "stream",
     "text": [
      "The findings from this analysis (Figure 1) indicate that, in the simulated null scenarios, there is minimal agreement between the consensus partitions and the ensemble. This suggests that different clustering algorithms and data representations do not produce consistent results. However, when using actual data, the consensus clustering method identifies trait pairs that consistently group together across different ensemble members. For the main analyses, only partitions above the 75th percentile were considered, and these are displayed in the clustering tree in Figure 2.\n"
     ]
    }
   ],
   "source": [
    "par1 = process_paragraph(mod_section_paragraphs[35])\n",
    "print(par1)"
   ]
  },
  {
   "cell_type": "code",
   "execution_count": 510,
   "id": "3419933e-56e9-42f6-8bb5-3f18e84ddd1d",
   "metadata": {
    "papermill": {
     "duration": 0.035274,
     "end_time": "2024-03-22T00:24:54.298064",
     "exception": false,
     "start_time": "2024-03-22T00:24:54.262790",
     "status": "completed"
    },
    "tags": []
   },
   "outputs": [],
   "source": [
    "paragraph_matches.append(\n",
    "    (\n",
    "        section_name,\n",
    "        par0,\n",
    "        par1,\n",
    "    )\n",
    ")"
   ]
  },
  {
   "cell_type": "code",
   "execution_count": 511,
   "id": "c51c8c9d-451a-4516-bc9b-3ff2385ef734",
   "metadata": {
    "papermill": {
     "duration": 0.036206,
     "end_time": "2024-03-22T00:24:54.366181",
     "exception": false,
     "start_time": "2024-03-22T00:24:54.329975",
     "status": "completed"
    },
    "tags": []
   },
   "outputs": [
    {
     "data": {
      "text/plain": [
       "('supplementary material',\n",
       " 'The results of this analysis (Figure @fig:sup:clustering:agreement) show that, under the two simulated null scenarios, the agreement of the consensus partitions with the ensemble is very close to zero. This means, as expected, that there is no consensus among ensemble partitions generated with different clustering algorithms and data representations. In contrast, using the real data, the consensus clustering approach finds trait pairs that are grouped together across the different members of the ensemble. The partitions above the 75th percentile were considered in the main analyses, and are shown in the clustering tree in Figure @fig:clustering:tree.',\n",
       " 'The findings from this analysis (Figure 1) indicate that, in the simulated null scenarios, there is minimal agreement between the consensus partitions and the ensemble. This suggests that different clustering algorithms and data representations do not produce consistent results. However, when using actual data, the consensus clustering method identifies trait pairs that consistently group together across different ensemble members. For the main analyses, only partitions above the 75th percentile were considered, and these are displayed in the clustering tree in Figure 2.')"
      ]
     },
     "metadata": {},
     "output_type": "display_data"
    }
   ],
   "source": [
    "display(paragraph_matches[-1])"
   ]
  },
  {
   "cell_type": "markdown",
   "id": "9a45b8eb-9a57-4d0a-b311-b7ce8f6b4ceb",
   "metadata": {
    "editable": true,
    "papermill": {
     "duration": 0.052821,
     "end_time": "2024-03-20T21:35:26.952178",
     "exception": false,
     "start_time": "2024-03-20T21:35:26.899357",
     "status": "completed"
    },
    "slideshow": {
     "slide_type": ""
    },
    "tags": []
   },
   "source": [
    "# Close connections"
   ]
  },
  {
   "cell_type": "code",
   "execution_count": null,
   "id": "91fcd4bb-131b-42b2-b64f-127441bd608b",
   "metadata": {
    "editable": true,
    "papermill": {
     "duration": 0.034168,
     "end_time": "2024-03-20T21:35:27.015596",
     "exception": false,
     "start_time": "2024-03-20T21:35:26.981428",
     "status": "completed"
    },
    "slideshow": {
     "slide_type": ""
    },
    "tags": []
   },
   "outputs": [],
   "source": [
    "g.close()"
   ]
  },
  {
   "cell_type": "markdown",
   "id": "be4b2259-6562-4d79-a0d2-a594c44a7fa8",
   "metadata": {
    "editable": true,
    "papermill": {
     "duration": 0.028895,
     "end_time": "2024-03-20T21:35:27.073569",
     "exception": false,
     "start_time": "2024-03-20T21:35:27.044674",
     "status": "completed"
    },
    "slideshow": {
     "slide_type": ""
    },
    "tags": []
   },
   "source": [
    "# Save"
   ]
  },
  {
   "cell_type": "code",
   "execution_count": null,
   "id": "6b7e80bd-f678-4047-b0f6-3c4e55de4767",
   "metadata": {
    "editable": true,
    "papermill": {
     "duration": 0.033916,
     "end_time": "2024-03-20T21:35:27.136513",
     "exception": false,
     "start_time": "2024-03-20T21:35:27.102597",
     "status": "completed"
    },
    "slideshow": {
     "slide_type": ""
    },
    "tags": []
   },
   "outputs": [],
   "source": [
    "len(paragraph_matches)"
   ]
  },
  {
   "cell_type": "code",
   "execution_count": null,
   "id": "876f2147-1ea0-4f45-8eb2-722761b5394c",
   "metadata": {
    "papermill": {
     "duration": 0.034645,
     "end_time": "2024-03-20T21:35:27.200207",
     "exception": false,
     "start_time": "2024-03-20T21:35:27.165562",
     "status": "completed"
    },
    "tags": []
   },
   "outputs": [],
   "source": [
    "paragraph_matches[:2]"
   ]
  },
  {
   "cell_type": "code",
   "execution_count": null,
   "id": "77d20807-9017-4e10-8cb7-6a3c706e9111",
   "metadata": {
    "papermill": {
     "duration": 0.039123,
     "end_time": "2024-03-20T21:35:27.268789",
     "exception": false,
     "start_time": "2024-03-20T21:35:27.229666",
     "status": "completed"
    },
    "tags": []
   },
   "outputs": [],
   "source": [
    "df = pd.DataFrame(paragraph_matches).rename(\n",
    "    columns={\n",
    "        0: \"section\",\n",
    "        1: \"original\",\n",
    "        2: \"modified\",\n",
    "    }\n",
    ")"
   ]
  },
  {
   "cell_type": "code",
   "execution_count": null,
   "id": "44e31258-2754-49a0-af7a-5f3b4ef3a961",
   "metadata": {
    "papermill": {
     "duration": 0.033939,
     "end_time": "2024-03-20T21:35:27.332261",
     "exception": false,
     "start_time": "2024-03-20T21:35:27.298322",
     "status": "completed"
    },
    "tags": []
   },
   "outputs": [],
   "source": [
    "df.shape"
   ]
  },
  {
   "cell_type": "code",
   "execution_count": null,
   "id": "f7612c30-e726-474f-8039-aa4bc44d1f16",
   "metadata": {
    "papermill": {
     "duration": 0.043381,
     "end_time": "2024-03-20T21:35:27.405244",
     "exception": false,
     "start_time": "2024-03-20T21:35:27.361863",
     "status": "completed"
    },
    "tags": []
   },
   "outputs": [],
   "source": [
    "df.head()"
   ]
  },
  {
   "cell_type": "code",
   "execution_count": null,
   "id": "e072fbf8-91bd-4684-8782-9ccb8d6ee565",
   "metadata": {
    "papermill": {
     "duration": 0.034179,
     "end_time": "2024-03-20T21:35:27.469014",
     "exception": false,
     "start_time": "2024-03-20T21:35:27.434835",
     "status": "completed"
    },
    "tags": []
   },
   "outputs": [],
   "source": [
    "df.to_pickle(OUTPUT_FILE_PATH)"
   ]
  },
  {
   "cell_type": "markdown",
   "id": "41ee2c19-18a5-4742-a3ec-42771e914fb7",
   "metadata": {
    "editable": true,
    "papermill": {
     "duration": 0.029133,
     "end_time": "2024-03-20T21:35:27.527550",
     "exception": false,
     "start_time": "2024-03-20T21:35:27.498417",
     "status": "completed"
    },
    "slideshow": {
     "slide_type": ""
    },
    "tags": []
   },
   "source": [
    "# Reverse original/modified columns"
   ]
  },
  {
   "cell_type": "code",
   "execution_count": null,
   "id": "ead9e4b4-17dc-4ebd-9d7f-a1c96b4a84de",
   "metadata": {
    "editable": true,
    "papermill": {
     "duration": 0.034875,
     "end_time": "2024-03-20T21:35:27.591849",
     "exception": false,
     "start_time": "2024-03-20T21:35:27.556974",
     "status": "completed"
    },
    "slideshow": {
     "slide_type": ""
    },
    "tags": []
   },
   "outputs": [],
   "source": [
    "df_reversed = df.rename(columns={\"original\": \"modified2\"}).rename(\n",
    "    columns={\"modified\": \"original\", \"modified2\": \"modified\"}\n",
    ")"
   ]
  },
  {
   "cell_type": "code",
   "execution_count": null,
   "id": "74e3f179-5564-4cc5-aff6-26ec01072739",
   "metadata": {
    "editable": true,
    "papermill": {
     "duration": 0.034234,
     "end_time": "2024-03-20T21:35:27.655481",
     "exception": false,
     "start_time": "2024-03-20T21:35:27.621247",
     "status": "completed"
    },
    "slideshow": {
     "slide_type": ""
    },
    "tags": []
   },
   "outputs": [],
   "source": [
    "df_reversed.shape"
   ]
  },
  {
   "cell_type": "code",
   "execution_count": null,
   "id": "0da23618-76b8-4e26-b053-e2acb025bc27",
   "metadata": {
    "editable": true,
    "papermill": {
     "duration": 0.037485,
     "end_time": "2024-03-20T21:35:27.722407",
     "exception": false,
     "start_time": "2024-03-20T21:35:27.684922",
     "status": "completed"
    },
    "slideshow": {
     "slide_type": ""
    },
    "tags": []
   },
   "outputs": [],
   "source": [
    "df_reversed.head()"
   ]
  },
  {
   "cell_type": "markdown",
   "id": "054e4b28-53f4-41c2-abb7-ff1a0182164b",
   "metadata": {
    "editable": true,
    "papermill": {
     "duration": 0.029211,
     "end_time": "2024-03-20T21:35:27.781296",
     "exception": false,
     "start_time": "2024-03-20T21:35:27.752085",
     "status": "completed"
    },
    "slideshow": {
     "slide_type": ""
    },
    "tags": []
   },
   "source": [
    "## Save"
   ]
  },
  {
   "cell_type": "code",
   "execution_count": null,
   "id": "af88ecb3-70f7-40d3-8289-68ba99bbc7f3",
   "metadata": {
    "papermill": {
     "duration": 0.034224,
     "end_time": "2024-03-20T21:35:27.844895",
     "exception": false,
     "start_time": "2024-03-20T21:35:27.810671",
     "status": "completed"
    },
    "tags": []
   },
   "outputs": [],
   "source": [
    "df_reversed.to_pickle(REVERSED_OUTPUT_FILE_PATH)"
   ]
  },
  {
   "cell_type": "code",
   "execution_count": null,
   "id": "02304589-1223-48c7-9c0a-26bfa26392e7",
   "metadata": {
    "editable": true,
    "papermill": {
     "duration": 0.029569,
     "end_time": "2024-03-20T21:35:27.904236",
     "exception": false,
     "start_time": "2024-03-20T21:35:27.874667",
     "status": "completed"
    },
    "slideshow": {
     "slide_type": ""
    },
    "tags": []
   },
   "outputs": [],
   "source": []
  }
 ],
 "metadata": {
  "jupytext": {
   "cell_metadata_filter": "all,-execution,-papermill,-trusted",
   "notebook_metadata_filter": "-jupytext.text_representation.jupytext_version"
  },
  "kernelspec": {
   "display_name": "Python 3 (ipykernel)",
   "language": "python",
   "name": "python3"
  },
  "language_info": {
   "codemirror_mode": {
    "name": "ipython",
    "version": 3
   },
   "file_extension": ".py",
   "mimetype": "text/x-python",
   "name": "python",
   "nbconvert_exporter": "python",
   "pygments_lexer": "ipython3",
   "version": "3.11.8"
  },
  "papermill": {
   "default_parameters": {},
   "duration": 22.384308,
   "end_time": "2024-03-20T21:35:28.450747",
   "environment_variables": {},
   "exception": null,
   "input_path": "/home/miltondp/projects/others/manubot/manubot-ai-editor-code/nbs/01-paragraph_match/00-biochatter-gpt35-par_match.ipynb",
   "output_path": "/home/miltondp/projects/others/manubot/manubot-ai-editor-code/nbs/01-paragraph_match/00-biochatter-gpt35-par_match.run.ipynb",
   "parameters": {
    "OUTPUT_FILE_PATH": "/home/miltondp/projects/others/manubot/manubot-ai-editor-code/base/results/paragraph_match/biochatter-manuscript--gpt-3.5-turbo.pkl",
    "REVERSED_OUTPUT_FILE_PATH": "/home/miltondp/projects/others/manubot/manubot-ai-editor-code/base/results/paragraph_match/biochatter-manuscript--gpt-3.5-turbo--reversed.pkl"
   },
   "start_time": "2024-03-20T21:35:06.066439",
   "version": "2.5.0"
  }
 },
 "nbformat": 4,
 "nbformat_minor": 5
}
