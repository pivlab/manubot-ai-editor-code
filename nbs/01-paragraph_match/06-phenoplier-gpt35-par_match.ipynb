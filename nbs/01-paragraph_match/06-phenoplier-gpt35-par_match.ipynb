{
 "cells": [
  {
   "cell_type": "markdown",
   "id": "070a050a-44d1-42c2-b274-c8c180a2a0ba",
   "metadata": {
    "editable": true,
    "papermill": {
     "duration": 0.068043,
     "end_time": "2024-03-23T05:12:42.954950",
     "exception": false,
     "start_time": "2024-03-23T05:12:42.886907",
     "status": "completed"
    },
    "slideshow": {
     "slide_type": ""
    },
    "tags": []
   },
   "source": [
    "# Description"
   ]
  },
  {
   "cell_type": "markdown",
   "id": "e4fcbb4d-aa04-4e1a-9aee-0053c559e157",
   "metadata": {
    "editable": true,
    "papermill": {
     "duration": 0.033417,
     "end_time": "2024-03-23T05:12:43.028867",
     "exception": false,
     "start_time": "2024-03-23T05:12:42.995450",
     "status": "completed"
    },
    "slideshow": {
     "slide_type": ""
    },
    "tags": []
   },
   "source": [
    "This notebook reads a PR from a manuscript and matches original paragraphs with modified ones."
   ]
  },
  {
   "cell_type": "markdown",
   "id": "b237f234-dc98-43e9-8ff5-8922c410c377",
   "metadata": {
    "editable": true,
    "papermill": {
     "duration": 0.033683,
     "end_time": "2024-03-23T05:12:43.096411",
     "exception": false,
     "start_time": "2024-03-23T05:12:43.062728",
     "status": "completed"
    },
    "slideshow": {
     "slide_type": ""
    },
    "tags": []
   },
   "source": [
    "# Modules"
   ]
  },
  {
   "cell_type": "code",
   "execution_count": 1,
   "id": "70413318-1f5e-4d58-b1a2-cb4f01c13e86",
   "metadata": {
    "editable": true,
    "execution": {
     "iopub.execute_input": "2024-03-23T05:12:43.165301Z",
     "iopub.status.busy": "2024-03-23T05:12:43.164661Z",
     "iopub.status.idle": "2024-03-23T05:12:44.227171Z",
     "shell.execute_reply": "2024-03-23T05:12:44.226691Z"
    },
    "papermill": {
     "duration": 1.098455,
     "end_time": "2024-03-23T05:12:44.228495",
     "exception": false,
     "start_time": "2024-03-23T05:12:43.130040",
     "status": "completed"
    },
    "slideshow": {
     "slide_type": ""
    },
    "tags": []
   },
   "outputs": [],
   "source": [
    "from pathlib import Path\n",
    "\n",
    "import pandas as pd\n",
    "from github import Auth, Github\n",
    "from IPython.display import display\n",
    "from proj import conf\n",
    "from proj.utils import process_paragraph"
   ]
  },
  {
   "cell_type": "markdown",
   "id": "3f78fd18-86b7-40b9-b80e-a8b18d001682",
   "metadata": {
    "editable": true,
    "papermill": {
     "duration": 0.040417,
     "end_time": "2024-03-23T05:12:44.325787",
     "exception": false,
     "start_time": "2024-03-23T05:12:44.285370",
     "status": "completed"
    },
    "slideshow": {
     "slide_type": ""
    },
    "tags": []
   },
   "source": [
    "# Settings/paths"
   ]
  },
  {
   "cell_type": "code",
   "execution_count": 2,
   "id": "10a3ceca-1480-45b0-b04d-cb402ff95abf",
   "metadata": {
    "editable": true,
    "execution": {
     "iopub.execute_input": "2024-03-23T05:12:44.394556Z",
     "iopub.status.busy": "2024-03-23T05:12:44.394350Z",
     "iopub.status.idle": "2024-03-23T05:12:44.397082Z",
     "shell.execute_reply": "2024-03-23T05:12:44.396550Z"
    },
    "papermill": {
     "duration": 0.038187,
     "end_time": "2024-03-23T05:12:44.397833",
     "exception": false,
     "start_time": "2024-03-23T05:12:44.359646",
     "status": "completed"
    },
    "slideshow": {
     "slide_type": ""
    },
    "tags": [
     "parameters"
    ]
   },
   "outputs": [],
   "source": [
    "REPO = \"pivlab/manubot-ai-editor-code-test-phenoplier-manuscript\"\n",
    "PR = (4, \"gpt-3.5-turbo\")\n",
    "\n",
    "OUTPUT_FILE_PATH = None\n",
    "REVERSED_OUTPUT_FILE_PATH = None"
   ]
  },
  {
   "cell_type": "code",
   "execution_count": 3,
   "id": "14a68e06",
   "metadata": {
    "execution": {
     "iopub.execute_input": "2024-03-23T05:12:44.466977Z",
     "iopub.status.busy": "2024-03-23T05:12:44.466472Z",
     "iopub.status.idle": "2024-03-23T05:12:44.469419Z",
     "shell.execute_reply": "2024-03-23T05:12:44.468902Z"
    },
    "lines_to_next_cell": 2,
    "papermill": {
     "duration": 0.038152,
     "end_time": "2024-03-23T05:12:44.470195",
     "exception": false,
     "start_time": "2024-03-23T05:12:44.432043",
     "status": "completed"
    },
    "tags": [
     "injected-parameters"
    ]
   },
   "outputs": [],
   "source": [
    "# Parameters\n",
    "OUTPUT_FILE_PATH = \"/home/miltondp/projects/others/manubot/manubot-ai-editor-code/base/results/paragraph_match/phenoplier-manuscript--gpt-3.5-turbo.pkl\"\n",
    "REVERSED_OUTPUT_FILE_PATH = \"/home/miltondp/projects/others/manubot/manubot-ai-editor-code/base/results/paragraph_match/phenoplier-manuscript--gpt-3.5-turbo--reversed.pkl\""
   ]
  },
  {
   "cell_type": "code",
   "execution_count": 4,
   "id": "71351755-ed5f-43a2-a886-6ef08afaddf4",
   "metadata": {
    "editable": true,
    "execution": {
     "iopub.execute_input": "2024-03-23T05:12:44.566082Z",
     "iopub.status.busy": "2024-03-23T05:12:44.565575Z",
     "iopub.status.idle": "2024-03-23T05:12:44.572629Z",
     "shell.execute_reply": "2024-03-23T05:12:44.572122Z"
    },
    "papermill": {
     "duration": 0.069129,
     "end_time": "2024-03-23T05:12:44.573330",
     "exception": false,
     "start_time": "2024-03-23T05:12:44.504201",
     "status": "completed"
    },
    "slideshow": {
     "slide_type": ""
    },
    "tags": []
   },
   "outputs": [
    {
     "data": {
      "text/plain": [
       "PosixPath('/home/miltondp/projects/others/manubot/manubot-ai-editor-code/base/results/paragraph_match/phenoplier-manuscript--gpt-3.5-turbo.pkl')"
      ]
     },
     "metadata": {},
     "output_type": "display_data"
    }
   ],
   "source": [
    "OUTPUT_FILE_PATH = Path(OUTPUT_FILE_PATH).resolve()\n",
    "OUTPUT_FILE_PATH.parent.mkdir(parents=True, exist_ok=True)\n",
    "display(OUTPUT_FILE_PATH)"
   ]
  },
  {
   "cell_type": "code",
   "execution_count": 5,
   "id": "d20e7ef9-1535-47ac-a5aa-9fe635fba9b9",
   "metadata": {
    "editable": true,
    "execution": {
     "iopub.execute_input": "2024-03-23T05:12:44.642767Z",
     "iopub.status.busy": "2024-03-23T05:12:44.642238Z",
     "iopub.status.idle": "2024-03-23T05:12:44.646742Z",
     "shell.execute_reply": "2024-03-23T05:12:44.646226Z"
    },
    "papermill": {
     "duration": 0.039867,
     "end_time": "2024-03-23T05:12:44.647515",
     "exception": false,
     "start_time": "2024-03-23T05:12:44.607648",
     "status": "completed"
    },
    "slideshow": {
     "slide_type": ""
    },
    "tags": []
   },
   "outputs": [
    {
     "data": {
      "text/plain": [
       "PosixPath('/home/miltondp/projects/others/manubot/manubot-ai-editor-code/base/results/paragraph_match/phenoplier-manuscript--gpt-3.5-turbo--reversed.pkl')"
      ]
     },
     "metadata": {},
     "output_type": "display_data"
    }
   ],
   "source": [
    "REVERSED_OUTPUT_FILE_PATH = Path(REVERSED_OUTPUT_FILE_PATH).resolve()\n",
    "REVERSED_OUTPUT_FILE_PATH.parent.mkdir(parents=True, exist_ok=True)\n",
    "display(REVERSED_OUTPUT_FILE_PATH)"
   ]
  },
  {
   "cell_type": "markdown",
   "id": "c42b83b5-84b7-45ff-88ee-3651aa5c9c55",
   "metadata": {
    "editable": true,
    "papermill": {
     "duration": 0.033992,
     "end_time": "2024-03-23T05:12:44.715684",
     "exception": false,
     "start_time": "2024-03-23T05:12:44.681692",
     "status": "completed"
    },
    "slideshow": {
     "slide_type": ""
    },
    "tags": []
   },
   "source": [
    "# Get Repo"
   ]
  },
  {
   "cell_type": "code",
   "execution_count": 6,
   "id": "f1d1f476-f5b5-4d1c-9c3a-822e9bef4b27",
   "metadata": {
    "editable": true,
    "execution": {
     "iopub.execute_input": "2024-03-23T05:12:44.784503Z",
     "iopub.status.busy": "2024-03-23T05:12:44.784276Z",
     "iopub.status.idle": "2024-03-23T05:12:44.787592Z",
     "shell.execute_reply": "2024-03-23T05:12:44.786896Z"
    },
    "papermill": {
     "duration": 0.03891,
     "end_time": "2024-03-23T05:12:44.788394",
     "exception": false,
     "start_time": "2024-03-23T05:12:44.749484",
     "status": "completed"
    },
    "slideshow": {
     "slide_type": ""
    },
    "tags": []
   },
   "outputs": [],
   "source": [
    "auth = Auth.Token(conf.github.API_TOKEN)"
   ]
  },
  {
   "cell_type": "code",
   "execution_count": 7,
   "id": "4e3db6e2-f267-4d60-8ff3-703698a09f88",
   "metadata": {
    "editable": true,
    "execution": {
     "iopub.execute_input": "2024-03-23T05:12:44.857235Z",
     "iopub.status.busy": "2024-03-23T05:12:44.856892Z",
     "iopub.status.idle": "2024-03-23T05:12:44.859768Z",
     "shell.execute_reply": "2024-03-23T05:12:44.859239Z"
    },
    "papermill": {
     "duration": 0.037977,
     "end_time": "2024-03-23T05:12:44.860453",
     "exception": false,
     "start_time": "2024-03-23T05:12:44.822476",
     "status": "completed"
    },
    "slideshow": {
     "slide_type": ""
    },
    "tags": []
   },
   "outputs": [],
   "source": [
    "g = Github(auth=auth)"
   ]
  },
  {
   "cell_type": "code",
   "execution_count": 8,
   "id": "cc6a365d-59f5-4537-9fd7-869ee4156046",
   "metadata": {
    "editable": true,
    "execution": {
     "iopub.execute_input": "2024-03-23T05:12:44.929863Z",
     "iopub.status.busy": "2024-03-23T05:12:44.929468Z",
     "iopub.status.idle": "2024-03-23T05:12:45.312051Z",
     "shell.execute_reply": "2024-03-23T05:12:45.311460Z"
    },
    "papermill": {
     "duration": 0.418564,
     "end_time": "2024-03-23T05:12:45.313280",
     "exception": false,
     "start_time": "2024-03-23T05:12:44.894716",
     "status": "completed"
    },
    "slideshow": {
     "slide_type": ""
    },
    "tags": []
   },
   "outputs": [],
   "source": [
    "repo = g.get_repo(REPO)"
   ]
  },
  {
   "cell_type": "markdown",
   "id": "f2d9fb5d-6838-484b-9202-ceac74fcb336",
   "metadata": {
    "editable": true,
    "papermill": {
     "duration": 0.034076,
     "end_time": "2024-03-23T05:12:45.381893",
     "exception": false,
     "start_time": "2024-03-23T05:12:45.347817",
     "status": "completed"
    },
    "slideshow": {
     "slide_type": ""
    },
    "tags": []
   },
   "source": [
    "# Get Pull Request"
   ]
  },
  {
   "cell_type": "code",
   "execution_count": 9,
   "id": "297c9dec-9e00-490d-8723-44208b3fe8f4",
   "metadata": {
    "editable": true,
    "execution": {
     "iopub.execute_input": "2024-03-23T05:12:45.450638Z",
     "iopub.status.busy": "2024-03-23T05:12:45.450214Z",
     "iopub.status.idle": "2024-03-23T05:12:46.034091Z",
     "shell.execute_reply": "2024-03-23T05:12:46.033484Z"
    },
    "papermill": {
     "duration": 0.61963,
     "end_time": "2024-03-23T05:12:46.035475",
     "exception": false,
     "start_time": "2024-03-23T05:12:45.415845",
     "status": "completed"
    },
    "slideshow": {
     "slide_type": ""
    },
    "tags": []
   },
   "outputs": [],
   "source": [
    "pr = repo.get_pull(PR[0])"
   ]
  },
  {
   "cell_type": "code",
   "execution_count": 10,
   "id": "064b1017-a495-48b3-bea3-1b9a67ad1b6f",
   "metadata": {
    "editable": true,
    "execution": {
     "iopub.execute_input": "2024-03-23T05:12:46.105843Z",
     "iopub.status.busy": "2024-03-23T05:12:46.105272Z",
     "iopub.status.idle": "2024-03-23T05:12:46.618184Z",
     "shell.execute_reply": "2024-03-23T05:12:46.617631Z"
    },
    "papermill": {
     "duration": 0.548581,
     "end_time": "2024-03-23T05:12:46.619282",
     "exception": false,
     "start_time": "2024-03-23T05:12:46.070701",
     "status": "completed"
    },
    "slideshow": {
     "slide_type": ""
    },
    "tags": []
   },
   "outputs": [
    {
     "data": {
      "text/plain": [
       "[File(sha=\"7b45c7b7750feb01fb8d7c476a7f000c333810e5\", filename=\"content/01.abstract.md\"),\n",
       " File(sha=\"1061b06fb8319082f2d5fe4dce4571bd27a0505e\", filename=\"content/02.introduction.md\"),\n",
       " File(sha=\"37c72c190d992a0802af4597ee5d3dc13f7d99c8\", filename=\"content/04.05.00.results_framework.md\"),\n",
       " File(sha=\"b0721dfbbc664a353baba59e44f9b26bfaa11204\", filename=\"content/04.05.01.results_crispr.md\"),\n",
       " File(sha=\"a74d6a0125a366a4c0fb7089f67cd2ee81c86c3d\", filename=\"content/04.15.results_drug_disease_prediction.md\"),\n",
       " File(sha=\"9b063b538a665c5efa1dcb6952930bd77f2e979e\", filename=\"content/04.20.00.results_traits_clustering.md\"),\n",
       " File(sha=\"ac236caa6554577b64cd88943e927f4fdff87d4e\", filename=\"content/05.discussion.md\"),\n",
       " File(sha=\"674d7fa2712c6b536cb6b36b9a0d90375e9c8687\", filename=\"content/07.00.methods.md\"),\n",
       " File(sha=\"fd6c4f43548c26c1f9b074d6585453e27d4dc171\", filename=\"content/50.00.supplementary_material.md\")]"
      ]
     },
     "execution_count": 10,
     "metadata": {},
     "output_type": "execute_result"
    }
   ],
   "source": [
    "list(pr.get_files())"
   ]
  },
  {
   "cell_type": "code",
   "execution_count": 11,
   "id": "7bc9b271-7ed2-4994-9d36-c8afa946b017",
   "metadata": {
    "editable": true,
    "execution": {
     "iopub.execute_input": "2024-03-23T05:12:46.716759Z",
     "iopub.status.busy": "2024-03-23T05:12:46.716365Z",
     "iopub.status.idle": "2024-03-23T05:12:47.029592Z",
     "shell.execute_reply": "2024-03-23T05:12:47.029065Z"
    },
    "papermill": {
     "duration": 0.356351,
     "end_time": "2024-03-23T05:12:47.031348",
     "exception": false,
     "start_time": "2024-03-23T05:12:46.674997",
     "status": "completed"
    },
    "slideshow": {
     "slide_type": ""
    },
    "tags": []
   },
   "outputs": [],
   "source": [
    "pr_commits = list(pr.get_commits())"
   ]
  },
  {
   "cell_type": "code",
   "execution_count": 12,
   "id": "446a1453-5729-4687-9b93-8165dd0e2793",
   "metadata": {
    "editable": true,
    "execution": {
     "iopub.execute_input": "2024-03-23T05:12:47.105636Z",
     "iopub.status.busy": "2024-03-23T05:12:47.105016Z",
     "iopub.status.idle": "2024-03-23T05:12:47.109047Z",
     "shell.execute_reply": "2024-03-23T05:12:47.108568Z"
    },
    "papermill": {
     "duration": 0.040463,
     "end_time": "2024-03-23T05:12:47.109828",
     "exception": false,
     "start_time": "2024-03-23T05:12:47.069365",
     "status": "completed"
    },
    "slideshow": {
     "slide_type": ""
    },
    "tags": []
   },
   "outputs": [
    {
     "data": {
      "text/plain": [
       "[Commit(sha=\"11964b6420a11bf4e2d71325447b6af65c696471\")]"
      ]
     },
     "execution_count": 12,
     "metadata": {},
     "output_type": "execute_result"
    }
   ],
   "source": [
    "pr_commits[0].parents"
   ]
  },
  {
   "cell_type": "code",
   "execution_count": 13,
   "id": "9c2382a1-adcc-47dc-8c75-d34f8500f93e",
   "metadata": {
    "editable": true,
    "execution": {
     "iopub.execute_input": "2024-03-23T05:12:47.180359Z",
     "iopub.status.busy": "2024-03-23T05:12:47.179942Z",
     "iopub.status.idle": "2024-03-23T05:12:47.183457Z",
     "shell.execute_reply": "2024-03-23T05:12:47.182918Z"
    },
    "papermill": {
     "duration": 0.039865,
     "end_time": "2024-03-23T05:12:47.184193",
     "exception": false,
     "start_time": "2024-03-23T05:12:47.144328",
     "status": "completed"
    },
    "slideshow": {
     "slide_type": ""
    },
    "tags": []
   },
   "outputs": [
    {
     "name": "stdout",
     "output_type": "stream",
     "text": [
      "11964b6420a11bf4e2d71325447b6af65c696471\n"
     ]
    }
   ],
   "source": [
    "pr_prev = pr_commits[0].parents[0].sha\n",
    "print(pr_prev)"
   ]
  },
  {
   "cell_type": "code",
   "execution_count": 14,
   "id": "96c9b088-a166-49d6-a0df-64d2cf690b7e",
   "metadata": {
    "editable": true,
    "execution": {
     "iopub.execute_input": "2024-03-23T05:12:47.254418Z",
     "iopub.status.busy": "2024-03-23T05:12:47.253947Z",
     "iopub.status.idle": "2024-03-23T05:12:47.257045Z",
     "shell.execute_reply": "2024-03-23T05:12:47.256532Z"
    },
    "papermill": {
     "duration": 0.038817,
     "end_time": "2024-03-23T05:12:47.257786",
     "exception": false,
     "start_time": "2024-03-23T05:12:47.218969",
     "status": "completed"
    },
    "slideshow": {
     "slide_type": ""
    },
    "tags": []
   },
   "outputs": [
    {
     "name": "stdout",
     "output_type": "stream",
     "text": [
      "d0d51c89f01eeccdb26de4674beecb6005c33ae7\n"
     ]
    }
   ],
   "source": [
    "pr_curr = pr_commits[0].sha\n",
    "print(pr_curr)"
   ]
  },
  {
   "cell_type": "markdown",
   "id": "10872c1e-0184-46c6-a04f-dce43438d404",
   "metadata": {
    "editable": true,
    "papermill": {
     "duration": 0.034702,
     "end_time": "2024-03-23T05:12:47.327247",
     "exception": false,
     "start_time": "2024-03-23T05:12:47.292545",
     "status": "completed"
    },
    "slideshow": {
     "slide_type": ""
    },
    "tags": []
   },
   "source": [
    "# Get file list"
   ]
  },
  {
   "cell_type": "code",
   "execution_count": 15,
   "id": "242729cf-1778-4162-b813-249ae6c8b632",
   "metadata": {
    "editable": true,
    "execution": {
     "iopub.execute_input": "2024-03-23T05:12:47.424845Z",
     "iopub.status.busy": "2024-03-23T05:12:47.424433Z",
     "iopub.status.idle": "2024-03-23T05:12:47.577394Z",
     "shell.execute_reply": "2024-03-23T05:12:47.576899Z"
    },
    "papermill": {
     "duration": 0.216024,
     "end_time": "2024-03-23T05:12:47.578149",
     "exception": false,
     "start_time": "2024-03-23T05:12:47.362125",
     "status": "completed"
    },
    "slideshow": {
     "slide_type": ""
    },
    "tags": []
   },
   "outputs": [
    {
     "data": {
      "text/plain": [
       "[File(sha=\"7b45c7b7750feb01fb8d7c476a7f000c333810e5\", filename=\"content/01.abstract.md\"),\n",
       " File(sha=\"1061b06fb8319082f2d5fe4dce4571bd27a0505e\", filename=\"content/02.introduction.md\"),\n",
       " File(sha=\"37c72c190d992a0802af4597ee5d3dc13f7d99c8\", filename=\"content/04.05.00.results_framework.md\"),\n",
       " File(sha=\"b0721dfbbc664a353baba59e44f9b26bfaa11204\", filename=\"content/04.05.01.results_crispr.md\"),\n",
       " File(sha=\"a74d6a0125a366a4c0fb7089f67cd2ee81c86c3d\", filename=\"content/04.15.results_drug_disease_prediction.md\"),\n",
       " File(sha=\"9b063b538a665c5efa1dcb6952930bd77f2e979e\", filename=\"content/04.20.00.results_traits_clustering.md\"),\n",
       " File(sha=\"ac236caa6554577b64cd88943e927f4fdff87d4e\", filename=\"content/05.discussion.md\"),\n",
       " File(sha=\"674d7fa2712c6b536cb6b36b9a0d90375e9c8687\", filename=\"content/07.00.methods.md\"),\n",
       " File(sha=\"fd6c4f43548c26c1f9b074d6585453e27d4dc171\", filename=\"content/50.00.supplementary_material.md\")]"
      ]
     },
     "metadata": {},
     "output_type": "display_data"
    }
   ],
   "source": [
    "pr_files = [f for f in pr.get_files() if f.filename.endswith(\".md\")]\n",
    "display(pr_files)"
   ]
  },
  {
   "cell_type": "markdown",
   "id": "bce10792-ba0d-4716-9dcd-b44c2eb668d4",
   "metadata": {
    "editable": true,
    "papermill": {
     "duration": 0.034099,
     "end_time": "2024-03-23T05:12:47.646571",
     "exception": false,
     "start_time": "2024-03-23T05:12:47.612472",
     "status": "completed"
    },
    "slideshow": {
     "slide_type": ""
    },
    "tags": []
   },
   "source": [
    "# Sections"
   ]
  },
  {
   "cell_type": "code",
   "execution_count": 16,
   "id": "6253b146-7bd2-44ff-9ccc-6f245a11dd23",
   "metadata": {
    "execution": {
     "iopub.execute_input": "2024-03-23T05:12:47.716671Z",
     "iopub.status.busy": "2024-03-23T05:12:47.716252Z",
     "iopub.status.idle": "2024-03-23T05:12:47.718898Z",
     "shell.execute_reply": "2024-03-23T05:12:47.718405Z"
    },
    "papermill": {
     "duration": 0.038483,
     "end_time": "2024-03-23T05:12:47.719648",
     "exception": false,
     "start_time": "2024-03-23T05:12:47.681165",
     "status": "completed"
    },
    "tags": []
   },
   "outputs": [],
   "source": [
    "paragraph_matches = []"
   ]
  },
  {
   "cell_type": "markdown",
   "id": "7c403bcf-5c79-4bde-adfe-a09464b8b076",
   "metadata": {
    "editable": true,
    "papermill": {
     "duration": 0.034885,
     "end_time": "2024-03-23T05:12:47.789505",
     "exception": false,
     "start_time": "2024-03-23T05:12:47.754620",
     "status": "completed"
    },
    "slideshow": {
     "slide_type": ""
    },
    "tags": []
   },
   "source": [
    "## Abstract"
   ]
  },
  {
   "cell_type": "code",
   "execution_count": 17,
   "id": "5c13a99f-54e2-463e-9d20-d43a89c9ef76",
   "metadata": {
    "execution": {
     "iopub.execute_input": "2024-03-23T05:12:47.859790Z",
     "iopub.status.busy": "2024-03-23T05:12:47.859355Z",
     "iopub.status.idle": "2024-03-23T05:12:47.861969Z",
     "shell.execute_reply": "2024-03-23T05:12:47.861448Z"
    },
    "papermill": {
     "duration": 0.03847,
     "end_time": "2024-03-23T05:12:47.862709",
     "exception": false,
     "start_time": "2024-03-23T05:12:47.824239",
     "status": "completed"
    },
    "tags": []
   },
   "outputs": [],
   "source": [
    "section_name = \"abstract\""
   ]
  },
  {
   "cell_type": "code",
   "execution_count": 18,
   "id": "1558f08b-19a8-4951-8dea-228d7f59099d",
   "metadata": {
    "editable": true,
    "execution": {
     "iopub.execute_input": "2024-03-23T05:12:47.932575Z",
     "iopub.status.busy": "2024-03-23T05:12:47.932200Z",
     "iopub.status.idle": "2024-03-23T05:12:47.935367Z",
     "shell.execute_reply": "2024-03-23T05:12:47.934859Z"
    },
    "papermill": {
     "duration": 0.038889,
     "end_time": "2024-03-23T05:12:47.936038",
     "exception": false,
     "start_time": "2024-03-23T05:12:47.897149",
     "status": "completed"
    },
    "slideshow": {
     "slide_type": ""
    },
    "tags": []
   },
   "outputs": [
    {
     "name": "stdout",
     "output_type": "stream",
     "text": [
      "content/01.abstract.md\n"
     ]
    }
   ],
   "source": [
    "pr_filename = pr_files[0].filename\n",
    "assert section_name in pr_filename\n",
    "print(pr_filename)"
   ]
  },
  {
   "cell_type": "markdown",
   "id": "11efc147-ae59-4db5-990d-7d30c89ed8d0",
   "metadata": {
    "editable": true,
    "papermill": {
     "duration": 0.0348,
     "end_time": "2024-03-23T05:12:48.005735",
     "exception": false,
     "start_time": "2024-03-23T05:12:47.970935",
     "status": "completed"
    },
    "slideshow": {
     "slide_type": ""
    },
    "tags": []
   },
   "source": [
    "### Original"
   ]
  },
  {
   "cell_type": "code",
   "execution_count": 19,
   "id": "47db229e-b5e4-4c9a-ae54-fc984d9fdcde",
   "metadata": {
    "execution": {
     "iopub.execute_input": "2024-03-23T05:12:48.076205Z",
     "iopub.status.busy": "2024-03-23T05:12:48.076015Z",
     "iopub.status.idle": "2024-03-23T05:12:48.236433Z",
     "shell.execute_reply": "2024-03-23T05:12:48.235912Z"
    },
    "papermill": {
     "duration": 0.196664,
     "end_time": "2024-03-23T05:12:48.237151",
     "exception": false,
     "start_time": "2024-03-23T05:12:48.040487",
     "status": "completed"
    },
    "tags": []
   },
   "outputs": [
    {
     "name": "stdout",
     "output_type": "stream",
     "text": [
      "## Abstract {.page_break_before}\n",
      "\n",
      "Genes act in con\n"
     ]
    }
   ],
   "source": [
    "# get content\n",
    "orig_section_content = repo.get_contents(pr_filename, pr_prev).decoded_content.decode(\n",
    "    \"utf-8\"\n",
    ")\n",
    "print(orig_section_content[:50])"
   ]
  },
  {
   "cell_type": "code",
   "execution_count": 20,
   "id": "1c6e25fa-ef56-4d1a-8127-064e5cc348aa",
   "metadata": {
    "execution": {
     "iopub.execute_input": "2024-03-23T05:12:48.307428Z",
     "iopub.status.busy": "2024-03-23T05:12:48.307027Z",
     "iopub.status.idle": "2024-03-23T05:12:48.310655Z",
     "shell.execute_reply": "2024-03-23T05:12:48.310177Z"
    },
    "papermill": {
     "duration": 0.039574,
     "end_time": "2024-03-23T05:12:48.311398",
     "exception": false,
     "start_time": "2024-03-23T05:12:48.271824",
     "status": "completed"
    },
    "tags": []
   },
   "outputs": [
    {
     "data": {
      "text/plain": [
       "2"
      ]
     },
     "metadata": {},
     "output_type": "display_data"
    }
   ],
   "source": [
    "# split by paragraph\n",
    "orig_section_paragraphs = orig_section_content.split(\"\\n\\n\")\n",
    "display(len(orig_section_paragraphs))"
   ]
  },
  {
   "cell_type": "markdown",
   "id": "52d7d0ff-91f7-4435-ac51-78c9c9ce25fa",
   "metadata": {
    "editable": true,
    "papermill": {
     "duration": 0.034546,
     "end_time": "2024-03-23T05:12:48.380768",
     "exception": false,
     "start_time": "2024-03-23T05:12:48.346222",
     "status": "completed"
    },
    "slideshow": {
     "slide_type": ""
    },
    "tags": []
   },
   "source": [
    "### Modified"
   ]
  },
  {
   "cell_type": "code",
   "execution_count": 21,
   "id": "c12094b0-c50f-4d98-85f7-dd5072ff68e1",
   "metadata": {
    "execution": {
     "iopub.execute_input": "2024-03-23T05:12:48.451688Z",
     "iopub.status.busy": "2024-03-23T05:12:48.451318Z",
     "iopub.status.idle": "2024-03-23T05:12:48.635155Z",
     "shell.execute_reply": "2024-03-23T05:12:48.634636Z"
    },
    "papermill": {
     "duration": 0.220474,
     "end_time": "2024-03-23T05:12:48.636130",
     "exception": false,
     "start_time": "2024-03-23T05:12:48.415656",
     "status": "completed"
    },
    "tags": []
   },
   "outputs": [
    {
     "name": "stdout",
     "output_type": "stream",
     "text": [
      "## Abstract {.page_break_before}\n",
      "\n",
      "How do genes int\n"
     ]
    }
   ],
   "source": [
    "# get content\n",
    "mod_section_content = repo.get_contents(pr_filename, pr_curr).decoded_content.decode(\n",
    "    \"utf-8\"\n",
    ")\n",
    "print(mod_section_content[:50])"
   ]
  },
  {
   "cell_type": "code",
   "execution_count": 22,
   "id": "e02bdeb5-77c9-4a96-adf4-a31ba8047062",
   "metadata": {
    "execution": {
     "iopub.execute_input": "2024-03-23T05:12:48.732529Z",
     "iopub.status.busy": "2024-03-23T05:12:48.732344Z",
     "iopub.status.idle": "2024-03-23T05:12:48.736135Z",
     "shell.execute_reply": "2024-03-23T05:12:48.735661Z"
    },
    "papermill": {
     "duration": 0.048743,
     "end_time": "2024-03-23T05:12:48.736870",
     "exception": false,
     "start_time": "2024-03-23T05:12:48.688127",
     "status": "completed"
    },
    "tags": []
   },
   "outputs": [
    {
     "data": {
      "text/plain": [
       "2"
      ]
     },
     "metadata": {},
     "output_type": "display_data"
    }
   ],
   "source": [
    "# split by paragraph\n",
    "mod_section_paragraphs = mod_section_content.split(\"\\n\\n\")\n",
    "display(len(mod_section_paragraphs))"
   ]
  },
  {
   "cell_type": "markdown",
   "id": "bcbaf41a-e76e-4b5d-8daa-4db6cdb20f66",
   "metadata": {
    "editable": true,
    "papermill": {
     "duration": 0.035191,
     "end_time": "2024-03-23T05:12:48.833234",
     "exception": false,
     "start_time": "2024-03-23T05:12:48.798043",
     "status": "completed"
    },
    "slideshow": {
     "slide_type": ""
    },
    "tags": []
   },
   "source": [
    "### Match"
   ]
  },
  {
   "cell_type": "code",
   "execution_count": 23,
   "id": "38ec8ddf-9d53-4e31-8a48-2946e35e6996",
   "metadata": {
    "execution": {
     "iopub.execute_input": "2024-03-23T05:12:48.903867Z",
     "iopub.status.busy": "2024-03-23T05:12:48.903621Z",
     "iopub.status.idle": "2024-03-23T05:12:48.907046Z",
     "shell.execute_reply": "2024-03-23T05:12:48.906548Z"
    },
    "papermill": {
     "duration": 0.039679,
     "end_time": "2024-03-23T05:12:48.907714",
     "exception": false,
     "start_time": "2024-03-23T05:12:48.868035",
     "status": "completed"
    },
    "tags": []
   },
   "outputs": [
    {
     "data": {
      "text/plain": [
       "'## Abstract {.page_break_before}'"
      ]
     },
     "execution_count": 23,
     "metadata": {},
     "output_type": "execute_result"
    }
   ],
   "source": [
    "orig_section_paragraphs[0]"
   ]
  },
  {
   "cell_type": "code",
   "execution_count": 24,
   "id": "b665987d-444c-49b9-8d67-1bf157225d68",
   "metadata": {
    "execution": {
     "iopub.execute_input": "2024-03-23T05:12:48.978642Z",
     "iopub.status.busy": "2024-03-23T05:12:48.978394Z",
     "iopub.status.idle": "2024-03-23T05:12:48.981650Z",
     "shell.execute_reply": "2024-03-23T05:12:48.981224Z"
    },
    "papermill": {
     "duration": 0.039708,
     "end_time": "2024-03-23T05:12:48.982379",
     "exception": false,
     "start_time": "2024-03-23T05:12:48.942671",
     "status": "completed"
    },
    "tags": []
   },
   "outputs": [
    {
     "data": {
      "text/plain": [
       "'## Abstract {.page_break_before}'"
      ]
     },
     "execution_count": 24,
     "metadata": {},
     "output_type": "execute_result"
    }
   ],
   "source": [
    "mod_section_paragraphs[0]"
   ]
  },
  {
   "cell_type": "markdown",
   "id": "19b0d453-ff6b-4194-bd5b-caec7a71a0ac",
   "metadata": {
    "editable": true,
    "papermill": {
     "duration": 0.035682,
     "end_time": "2024-03-23T05:12:49.053201",
     "exception": false,
     "start_time": "2024-03-23T05:12:49.017519",
     "status": "completed"
    },
    "slideshow": {
     "slide_type": ""
    },
    "tags": []
   },
   "source": [
    "####  Paragraph 00"
   ]
  },
  {
   "cell_type": "code",
   "execution_count": 25,
   "id": "d6e681b6-d79a-45d9-a414-653920159e1c",
   "metadata": {
    "execution": {
     "iopub.execute_input": "2024-03-23T05:12:49.124722Z",
     "iopub.status.busy": "2024-03-23T05:12:49.124482Z",
     "iopub.status.idle": "2024-03-23T05:12:49.127482Z",
     "shell.execute_reply": "2024-03-23T05:12:49.126981Z"
    },
    "papermill": {
     "duration": 0.039503,
     "end_time": "2024-03-23T05:12:49.128198",
     "exception": false,
     "start_time": "2024-03-23T05:12:49.088695",
     "status": "completed"
    },
    "tags": []
   },
   "outputs": [
    {
     "name": "stdout",
     "output_type": "stream",
     "text": [
      "Genes act in concert with each other in specific contexts to perform their functions. Determining how these genes influence complex traits requires a mechanistic understanding of expression regulation across different conditions. It has been shown that this insight is critical for developing new therapies. Transcriptome-wide association studies have helped uncover the role of individual genes in disease-relevant mechanisms. However, modern models of the architecture of complex traits predict that gene-gene interactions play a crucial role in disease origin and progression. Here we introduce PhenoPLIER, a computational approach that maps gene-trait associations and pharmacological perturbation data into a common latent representation for a joint analysis. This representation is based on modules of genes with similar expression patterns across the same conditions. We observe that diseases are significantly associated with gene modules expressed in relevant cell types, and our approach is accurate in predicting known drug-disease pairs and inferring mechanisms of action. Furthermore, using a CRISPR screen to analyze lipid regulation, we find that functionally important players lack associations but are prioritized in trait-associated modules by PhenoPLIER. By incorporating groups of co-expressed genes, PhenoPLIER can contextualize genetic associations and reveal potential targets missed by single-gene strategies.\n"
     ]
    }
   ],
   "source": [
    "par0 = process_paragraph(orig_section_paragraphs[1])\n",
    "print(par0)"
   ]
  },
  {
   "cell_type": "code",
   "execution_count": 26,
   "id": "d1bf3ff4-c3ab-4ca8-b5d5-c3a2f6c02702",
   "metadata": {
    "execution": {
     "iopub.execute_input": "2024-03-23T05:12:49.199466Z",
     "iopub.status.busy": "2024-03-23T05:12:49.199196Z",
     "iopub.status.idle": "2024-03-23T05:12:49.202110Z",
     "shell.execute_reply": "2024-03-23T05:12:49.201598Z"
    },
    "papermill": {
     "duration": 0.039365,
     "end_time": "2024-03-23T05:12:49.202836",
     "exception": false,
     "start_time": "2024-03-23T05:12:49.163471",
     "status": "completed"
    },
    "tags": []
   },
   "outputs": [
    {
     "name": "stdout",
     "output_type": "stream",
     "text": [
      "How do genes interact to influence complex traits and disease mechanisms, and how can this knowledge be leveraged for therapeutic development? This paper introduces PhenoPLIER, a computational approach that integrates gene-trait associations and pharmacological data to analyze gene expression patterns across different conditions. By identifying modules of co-expressed genes associated with diseases and drug mechanisms, PhenoPLIER can accurately predict drug-disease pairs and infer mechanisms of action. Through a CRISPR screen focused on lipid regulation, we demonstrate that PhenoPLIER can prioritize functionally important genes within trait-associated modules. This approach highlights the importance of considering gene-gene interactions in understanding disease etiology and identifying potential therapeutic targets for drug repurposing.\n"
     ]
    }
   ],
   "source": [
    "par1 = process_paragraph(mod_section_paragraphs[1])\n",
    "print(par1)"
   ]
  },
  {
   "cell_type": "code",
   "execution_count": 27,
   "id": "c4b6cfc3-c2ae-40ce-abca-de3778b445f4",
   "metadata": {
    "execution": {
     "iopub.execute_input": "2024-03-23T05:12:49.273257Z",
     "iopub.status.busy": "2024-03-23T05:12:49.272889Z",
     "iopub.status.idle": "2024-03-23T05:12:49.275587Z",
     "shell.execute_reply": "2024-03-23T05:12:49.275079Z"
    },
    "papermill": {
     "duration": 0.038831,
     "end_time": "2024-03-23T05:12:49.276360",
     "exception": false,
     "start_time": "2024-03-23T05:12:49.237529",
     "status": "completed"
    },
    "tags": []
   },
   "outputs": [],
   "source": [
    "paragraph_matches.append(\n",
    "    (\n",
    "        section_name,\n",
    "        par0,\n",
    "        par1,\n",
    "    )\n",
    ")"
   ]
  },
  {
   "cell_type": "code",
   "execution_count": 28,
   "id": "db738a8d-d527-4607-8994-2a62433d75e6",
   "metadata": {
    "execution": {
     "iopub.execute_input": "2024-03-23T05:12:49.346552Z",
     "iopub.status.busy": "2024-03-23T05:12:49.346369Z",
     "iopub.status.idle": "2024-03-23T05:12:49.349764Z",
     "shell.execute_reply": "2024-03-23T05:12:49.349336Z"
    },
    "papermill": {
     "duration": 0.039287,
     "end_time": "2024-03-23T05:12:49.350501",
     "exception": false,
     "start_time": "2024-03-23T05:12:49.311214",
     "status": "completed"
    },
    "tags": []
   },
   "outputs": [
    {
     "data": {
      "text/plain": [
       "('abstract',\n",
       " 'Genes act in concert with each other in specific contexts to perform their functions. Determining how these genes influence complex traits requires a mechanistic understanding of expression regulation across different conditions. It has been shown that this insight is critical for developing new therapies. Transcriptome-wide association studies have helped uncover the role of individual genes in disease-relevant mechanisms. However, modern models of the architecture of complex traits predict that gene-gene interactions play a crucial role in disease origin and progression. Here we introduce PhenoPLIER, a computational approach that maps gene-trait associations and pharmacological perturbation data into a common latent representation for a joint analysis. This representation is based on modules of genes with similar expression patterns across the same conditions. We observe that diseases are significantly associated with gene modules expressed in relevant cell types, and our approach is accurate in predicting known drug-disease pairs and inferring mechanisms of action. Furthermore, using a CRISPR screen to analyze lipid regulation, we find that functionally important players lack associations but are prioritized in trait-associated modules by PhenoPLIER. By incorporating groups of co-expressed genes, PhenoPLIER can contextualize genetic associations and reveal potential targets missed by single-gene strategies.',\n",
       " 'How do genes interact to influence complex traits and disease mechanisms, and how can this knowledge be leveraged for therapeutic development? This paper introduces PhenoPLIER, a computational approach that integrates gene-trait associations and pharmacological data to analyze gene expression patterns across different conditions. By identifying modules of co-expressed genes associated with diseases and drug mechanisms, PhenoPLIER can accurately predict drug-disease pairs and infer mechanisms of action. Through a CRISPR screen focused on lipid regulation, we demonstrate that PhenoPLIER can prioritize functionally important genes within trait-associated modules. This approach highlights the importance of considering gene-gene interactions in understanding disease etiology and identifying potential therapeutic targets for drug repurposing.')"
      ]
     },
     "metadata": {},
     "output_type": "display_data"
    }
   ],
   "source": [
    "display(paragraph_matches[-1])"
   ]
  },
  {
   "cell_type": "markdown",
   "id": "84bb559e-97ba-4171-ac1c-b1b8b1837c5b",
   "metadata": {
    "editable": true,
    "papermill": {
     "duration": 0.034824,
     "end_time": "2024-03-23T05:12:49.420058",
     "exception": false,
     "start_time": "2024-03-23T05:12:49.385234",
     "status": "completed"
    },
    "slideshow": {
     "slide_type": ""
    },
    "tags": []
   },
   "source": [
    "## Introduction"
   ]
  },
  {
   "cell_type": "code",
   "execution_count": 29,
   "id": "2fbfb828-2b12-42da-b724-9d81121dbda3",
   "metadata": {
    "execution": {
     "iopub.execute_input": "2024-03-23T05:12:49.490373Z",
     "iopub.status.busy": "2024-03-23T05:12:49.490135Z",
     "iopub.status.idle": "2024-03-23T05:12:49.492550Z",
     "shell.execute_reply": "2024-03-23T05:12:49.492113Z"
    },
    "papermill": {
     "duration": 0.038638,
     "end_time": "2024-03-23T05:12:49.493304",
     "exception": false,
     "start_time": "2024-03-23T05:12:49.454666",
     "status": "completed"
    },
    "tags": []
   },
   "outputs": [],
   "source": [
    "section_name = \"introduction\""
   ]
  },
  {
   "cell_type": "code",
   "execution_count": 30,
   "id": "802ec3df-6974-42a5-b5a0-9cd621877c5f",
   "metadata": {
    "editable": true,
    "execution": {
     "iopub.execute_input": "2024-03-23T05:12:49.590694Z",
     "iopub.status.busy": "2024-03-23T05:12:49.590512Z",
     "iopub.status.idle": "2024-03-23T05:12:49.593514Z",
     "shell.execute_reply": "2024-03-23T05:12:49.593046Z"
    },
    "papermill": {
     "duration": 0.066149,
     "end_time": "2024-03-23T05:12:49.594259",
     "exception": false,
     "start_time": "2024-03-23T05:12:49.528110",
     "status": "completed"
    },
    "slideshow": {
     "slide_type": ""
    },
    "tags": []
   },
   "outputs": [
    {
     "name": "stdout",
     "output_type": "stream",
     "text": [
      "content/02.introduction.md\n"
     ]
    }
   ],
   "source": [
    "pr_filename = pr_files[1].filename\n",
    "assert section_name in pr_filename\n",
    "print(pr_filename)"
   ]
  },
  {
   "cell_type": "markdown",
   "id": "3cb464ec-e479-47bc-a870-dbab7372c44b",
   "metadata": {
    "editable": true,
    "papermill": {
     "duration": 0.034815,
     "end_time": "2024-03-23T05:12:49.664132",
     "exception": false,
     "start_time": "2024-03-23T05:12:49.629317",
     "status": "completed"
    },
    "slideshow": {
     "slide_type": ""
    },
    "tags": []
   },
   "source": [
    "### Original"
   ]
  },
  {
   "cell_type": "code",
   "execution_count": 31,
   "id": "020b21ef-3aca-4848-8717-ace1083aebf0",
   "metadata": {
    "execution": {
     "iopub.execute_input": "2024-03-23T05:12:49.734552Z",
     "iopub.status.busy": "2024-03-23T05:12:49.734315Z",
     "iopub.status.idle": "2024-03-23T05:12:49.877196Z",
     "shell.execute_reply": "2024-03-23T05:12:49.876695Z"
    },
    "papermill": {
     "duration": 0.179205,
     "end_time": "2024-03-23T05:12:49.878169",
     "exception": false,
     "start_time": "2024-03-23T05:12:49.698964",
     "status": "completed"
    },
    "tags": []
   },
   "outputs": [
    {
     "name": "stdout",
     "output_type": "stream",
     "text": [
      "## Introduction\n",
      "\n",
      "Genes work together in context-sp\n"
     ]
    }
   ],
   "source": [
    "# get content\n",
    "orig_section_content = repo.get_contents(pr_filename, pr_prev).decoded_content.decode(\n",
    "    \"utf-8\"\n",
    ")\n",
    "print(orig_section_content[:50])"
   ]
  },
  {
   "cell_type": "code",
   "execution_count": 32,
   "id": "e1612d62-3f65-43e6-b6cb-4b5538931161",
   "metadata": {
    "execution": {
     "iopub.execute_input": "2024-03-23T05:12:49.973331Z",
     "iopub.status.busy": "2024-03-23T05:12:49.972903Z",
     "iopub.status.idle": "2024-03-23T05:12:49.976823Z",
     "shell.execute_reply": "2024-03-23T05:12:49.976269Z"
    },
    "papermill": {
     "duration": 0.047931,
     "end_time": "2024-03-23T05:12:49.977499",
     "exception": false,
     "start_time": "2024-03-23T05:12:49.929568",
     "status": "completed"
    },
    "tags": []
   },
   "outputs": [
    {
     "data": {
      "text/plain": [
       "5"
      ]
     },
     "metadata": {},
     "output_type": "display_data"
    }
   ],
   "source": [
    "# split by paragraph\n",
    "orig_section_paragraphs = orig_section_content.split(\"\\n\\n\")\n",
    "display(len(orig_section_paragraphs))"
   ]
  },
  {
   "cell_type": "markdown",
   "id": "ee13fe8d-f094-4da4-b2dc-245f595ab964",
   "metadata": {
    "editable": true,
    "papermill": {
     "duration": 0.034589,
     "end_time": "2024-03-23T05:12:50.046750",
     "exception": false,
     "start_time": "2024-03-23T05:12:50.012161",
     "status": "completed"
    },
    "slideshow": {
     "slide_type": ""
    },
    "tags": []
   },
   "source": [
    "### Modified"
   ]
  },
  {
   "cell_type": "code",
   "execution_count": 33,
   "id": "61d1c4b1-c798-433e-9dc4-18313701a1d0",
   "metadata": {
    "execution": {
     "iopub.execute_input": "2024-03-23T05:12:50.117375Z",
     "iopub.status.busy": "2024-03-23T05:12:50.117058Z",
     "iopub.status.idle": "2024-03-23T05:12:50.267558Z",
     "shell.execute_reply": "2024-03-23T05:12:50.267117Z"
    },
    "papermill": {
     "duration": 0.186857,
     "end_time": "2024-03-23T05:12:50.268233",
     "exception": false,
     "start_time": "2024-03-23T05:12:50.081376",
     "status": "completed"
    },
    "tags": []
   },
   "outputs": [
    {
     "name": "stdout",
     "output_type": "stream",
     "text": [
      "## Introduction\n",
      "\n",
      "Genes work together in specific n\n"
     ]
    }
   ],
   "source": [
    "# get content\n",
    "mod_section_content = repo.get_contents(pr_filename, pr_curr).decoded_content.decode(\n",
    "    \"utf-8\"\n",
    ")\n",
    "print(mod_section_content[:50])"
   ]
  },
  {
   "cell_type": "code",
   "execution_count": 34,
   "id": "edf81c3c-1213-4752-8768-c3158025192d",
   "metadata": {
    "execution": {
     "iopub.execute_input": "2024-03-23T05:12:50.338757Z",
     "iopub.status.busy": "2024-03-23T05:12:50.338350Z",
     "iopub.status.idle": "2024-03-23T05:12:50.341815Z",
     "shell.execute_reply": "2024-03-23T05:12:50.341383Z"
    },
    "papermill": {
     "duration": 0.039667,
     "end_time": "2024-03-23T05:12:50.342541",
     "exception": false,
     "start_time": "2024-03-23T05:12:50.302874",
     "status": "completed"
    },
    "tags": []
   },
   "outputs": [
    {
     "data": {
      "text/plain": [
       "5"
      ]
     },
     "metadata": {},
     "output_type": "display_data"
    }
   ],
   "source": [
    "# split by paragraph\n",
    "mod_section_paragraphs = mod_section_content.split(\"\\n\\n\")\n",
    "display(len(mod_section_paragraphs))"
   ]
  },
  {
   "cell_type": "markdown",
   "id": "1e4efe27-e73d-4cbe-953f-203bac59f5dc",
   "metadata": {
    "editable": true,
    "papermill": {
     "duration": 0.035175,
     "end_time": "2024-03-23T05:12:50.412812",
     "exception": false,
     "start_time": "2024-03-23T05:12:50.377637",
     "status": "completed"
    },
    "slideshow": {
     "slide_type": ""
    },
    "tags": []
   },
   "source": [
    "### Match"
   ]
  },
  {
   "cell_type": "code",
   "execution_count": 35,
   "id": "a80dd51e-9ffb-43e8-9389-d5ed1a28fee0",
   "metadata": {
    "execution": {
     "iopub.execute_input": "2024-03-23T05:12:50.483399Z",
     "iopub.status.busy": "2024-03-23T05:12:50.483154Z",
     "iopub.status.idle": "2024-03-23T05:12:50.486389Z",
     "shell.execute_reply": "2024-03-23T05:12:50.485962Z"
    },
    "papermill": {
     "duration": 0.039474,
     "end_time": "2024-03-23T05:12:50.487112",
     "exception": false,
     "start_time": "2024-03-23T05:12:50.447638",
     "status": "completed"
    },
    "tags": []
   },
   "outputs": [
    {
     "data": {
      "text/plain": [
       "'## Introduction'"
      ]
     },
     "execution_count": 35,
     "metadata": {},
     "output_type": "execute_result"
    }
   ],
   "source": [
    "orig_section_paragraphs[0]"
   ]
  },
  {
   "cell_type": "code",
   "execution_count": 36,
   "id": "0c34cdc7-b226-45d2-8e8b-e375ef9e3d6a",
   "metadata": {
    "execution": {
     "iopub.execute_input": "2024-03-23T05:12:50.558124Z",
     "iopub.status.busy": "2024-03-23T05:12:50.557719Z",
     "iopub.status.idle": "2024-03-23T05:12:50.561110Z",
     "shell.execute_reply": "2024-03-23T05:12:50.560618Z"
    },
    "papermill": {
     "duration": 0.039429,
     "end_time": "2024-03-23T05:12:50.561865",
     "exception": false,
     "start_time": "2024-03-23T05:12:50.522436",
     "status": "completed"
    },
    "tags": []
   },
   "outputs": [
    {
     "data": {
      "text/plain": [
       "'## Introduction'"
      ]
     },
     "execution_count": 36,
     "metadata": {},
     "output_type": "execute_result"
    }
   ],
   "source": [
    "mod_section_paragraphs[0]"
   ]
  },
  {
   "cell_type": "markdown",
   "id": "7baf3486-f6d9-42a0-b67a-15eb7b378bad",
   "metadata": {
    "editable": true,
    "papermill": {
     "duration": 0.034811,
     "end_time": "2024-03-23T05:12:50.631510",
     "exception": false,
     "start_time": "2024-03-23T05:12:50.596699",
     "status": "completed"
    },
    "slideshow": {
     "slide_type": ""
    },
    "tags": []
   },
   "source": [
    "####  Paragraph 00"
   ]
  },
  {
   "cell_type": "code",
   "execution_count": 37,
   "id": "ac1650e5-8298-412d-8a15-bd040748024e",
   "metadata": {
    "execution": {
     "iopub.execute_input": "2024-03-23T05:12:50.728598Z",
     "iopub.status.busy": "2024-03-23T05:12:50.728310Z",
     "iopub.status.idle": "2024-03-23T05:12:50.731227Z",
     "shell.execute_reply": "2024-03-23T05:12:50.730770Z"
    },
    "papermill": {
     "duration": 0.06565,
     "end_time": "2024-03-23T05:12:50.731927",
     "exception": false,
     "start_time": "2024-03-23T05:12:50.666277",
     "status": "completed"
    },
    "tags": []
   },
   "outputs": [
    {
     "name": "stdout",
     "output_type": "stream",
     "text": [
      "Genes work together in context-specific networks to carry out different functions [@pmid:19104045; @doi:10.1038/ng.3259]. Variations in these genes can change their functional role and, at a higher level, affect disease-relevant biological processes [@doi:10.1038/s41467-018-06022-6]. In this context, determining how genes influence complex traits requires mechanistically understanding expression regulation across different cell types [@doi:10.1126/science.aaz1776; @doi:10.1038/s41586-020-2559-3; @doi:10.1038/s41576-019-0200-9], which in turn should lead to improved treatments [@doi:10.1038/ng.3314; @doi:10.1371/journal.pgen.1008489]. Previous studies have described different regulatory DNA elements [@doi:10.1038/nature11247; @doi:10.1038/nature14248; @doi:10.1038/nature12787; @doi:10.1038/s41586-020-03145-z; @doi:10.1038/s41586-020-2559-3] including genetic effects on gene expression across different tissues [@doi:10.1126/science.aaz1776]. Integrating functional genomics data and GWAS data [@doi:10.1038/s41588-018-0081-4; @doi:10.1016/j.ajhg.2018.04.002; @doi:10.1038/s41588-018-0081-4; @doi:10.1038/ncomms6890] has improved the identification of these transcriptional mechanisms that, when dysregulated, commonly result in tissue- and cell lineage-specific pathology [@pmid:20624743; @pmid:14707169; @doi:10.1073/pnas.0810772105].\n"
     ]
    }
   ],
   "source": [
    "par0 = process_paragraph(orig_section_paragraphs[1])\n",
    "print(par0)"
   ]
  },
  {
   "cell_type": "code",
   "execution_count": 38,
   "id": "d5a26113-dc29-44d2-9458-6e5d8461accb",
   "metadata": {
    "execution": {
     "iopub.execute_input": "2024-03-23T05:12:50.803001Z",
     "iopub.status.busy": "2024-03-23T05:12:50.802638Z",
     "iopub.status.idle": "2024-03-23T05:12:50.805467Z",
     "shell.execute_reply": "2024-03-23T05:12:50.805032Z"
    },
    "papermill": {
     "duration": 0.039096,
     "end_time": "2024-03-23T05:12:50.806191",
     "exception": false,
     "start_time": "2024-03-23T05:12:50.767095",
     "status": "completed"
    },
    "tags": []
   },
   "outputs": [
    {
     "name": "stdout",
     "output_type": "stream",
     "text": [
      "Genes work together in specific networks to carry out various functions. Changes in these genes can alter their function and, on a broader scale, impact biological processes relevant to disease. Understanding how genes influence complex traits requires a mechanistic understanding of gene expression regulation across different cell types, which can lead to improved treatments. Previous research has identified various regulatory DNA elements, including genetic effects on gene expression in different tissues. By integrating functional genomics data with GWAS data, researchers have improved the identification of transcriptional mechanisms that, when disrupted, often lead to tissue- and cell lineage-specific pathology.\n"
     ]
    }
   ],
   "source": [
    "par1 = process_paragraph(mod_section_paragraphs[1])\n",
    "print(par1)"
   ]
  },
  {
   "cell_type": "code",
   "execution_count": 39,
   "id": "5d1ae43c-6bc3-4cf8-98e6-5d0191843855",
   "metadata": {
    "execution": {
     "iopub.execute_input": "2024-03-23T05:12:50.877367Z",
     "iopub.status.busy": "2024-03-23T05:12:50.877084Z",
     "iopub.status.idle": "2024-03-23T05:12:50.879624Z",
     "shell.execute_reply": "2024-03-23T05:12:50.879195Z"
    },
    "papermill": {
     "duration": 0.038929,
     "end_time": "2024-03-23T05:12:50.880361",
     "exception": false,
     "start_time": "2024-03-23T05:12:50.841432",
     "status": "completed"
    },
    "tags": []
   },
   "outputs": [],
   "source": [
    "paragraph_matches.append(\n",
    "    (\n",
    "        section_name,\n",
    "        par0,\n",
    "        par1,\n",
    "    )\n",
    ")"
   ]
  },
  {
   "cell_type": "code",
   "execution_count": 40,
   "id": "45f4c986-54f6-406a-860a-9dc2caa9f3bc",
   "metadata": {
    "execution": {
     "iopub.execute_input": "2024-03-23T05:12:50.951207Z",
     "iopub.status.busy": "2024-03-23T05:12:50.950926Z",
     "iopub.status.idle": "2024-03-23T05:12:50.954272Z",
     "shell.execute_reply": "2024-03-23T05:12:50.953837Z"
    },
    "papermill": {
     "duration": 0.039545,
     "end_time": "2024-03-23T05:12:50.954998",
     "exception": false,
     "start_time": "2024-03-23T05:12:50.915453",
     "status": "completed"
    },
    "tags": []
   },
   "outputs": [
    {
     "data": {
      "text/plain": [
       "('introduction',\n",
       " 'Genes work together in context-specific networks to carry out different functions [@pmid:19104045; @doi:10.1038/ng.3259]. Variations in these genes can change their functional role and, at a higher level, affect disease-relevant biological processes [@doi:10.1038/s41467-018-06022-6]. In this context, determining how genes influence complex traits requires mechanistically understanding expression regulation across different cell types [@doi:10.1126/science.aaz1776; @doi:10.1038/s41586-020-2559-3; @doi:10.1038/s41576-019-0200-9], which in turn should lead to improved treatments [@doi:10.1038/ng.3314; @doi:10.1371/journal.pgen.1008489]. Previous studies have described different regulatory DNA elements [@doi:10.1038/nature11247; @doi:10.1038/nature14248; @doi:10.1038/nature12787; @doi:10.1038/s41586-020-03145-z; @doi:10.1038/s41586-020-2559-3] including genetic effects on gene expression across different tissues [@doi:10.1126/science.aaz1776]. Integrating functional genomics data and GWAS data [@doi:10.1038/s41588-018-0081-4; @doi:10.1016/j.ajhg.2018.04.002; @doi:10.1038/s41588-018-0081-4; @doi:10.1038/ncomms6890] has improved the identification of these transcriptional mechanisms that, when dysregulated, commonly result in tissue- and cell lineage-specific pathology [@pmid:20624743; @pmid:14707169; @doi:10.1073/pnas.0810772105].',\n",
       " 'Genes work together in specific networks to carry out various functions. Changes in these genes can alter their function and, on a broader scale, impact biological processes relevant to disease. Understanding how genes influence complex traits requires a mechanistic understanding of gene expression regulation across different cell types, which can lead to improved treatments. Previous research has identified various regulatory DNA elements, including genetic effects on gene expression in different tissues. By integrating functional genomics data with GWAS data, researchers have improved the identification of transcriptional mechanisms that, when disrupted, often lead to tissue- and cell lineage-specific pathology.')"
      ]
     },
     "metadata": {},
     "output_type": "display_data"
    }
   ],
   "source": [
    "display(paragraph_matches[-1])"
   ]
  },
  {
   "cell_type": "markdown",
   "id": "02e1dbd3-437b-457e-b155-ceb7a0aaa0d9",
   "metadata": {
    "editable": true,
    "papermill": {
     "duration": 0.035059,
     "end_time": "2024-03-23T05:12:51.025326",
     "exception": false,
     "start_time": "2024-03-23T05:12:50.990267",
     "status": "completed"
    },
    "slideshow": {
     "slide_type": ""
    },
    "tags": []
   },
   "source": [
    "####  Paragraph 01"
   ]
  },
  {
   "cell_type": "code",
   "execution_count": 41,
   "id": "7420293a-1901-46ca-a795-bc479bee48a6",
   "metadata": {
    "execution": {
     "iopub.execute_input": "2024-03-23T05:12:51.096255Z",
     "iopub.status.busy": "2024-03-23T05:12:51.095870Z",
     "iopub.status.idle": "2024-03-23T05:12:51.098745Z",
     "shell.execute_reply": "2024-03-23T05:12:51.098301Z"
    },
    "papermill": {
     "duration": 0.039188,
     "end_time": "2024-03-23T05:12:51.099475",
     "exception": false,
     "start_time": "2024-03-23T05:12:51.060287",
     "status": "completed"
    },
    "tags": []
   },
   "outputs": [
    {
     "name": "stdout",
     "output_type": "stream",
     "text": [
      "Given the availability of gene expression data across several tissues [@doi:10.1038/nbt.3838; @doi:10.1038/s41467-018-03751-6; @doi:10.1126/science.aaz1776; @doi:10.1186/s13040-020-00216-9], an effective approach to identify these biological processes is the transcription-wide association study (TWAS), which integrates expression quantitative trait loci (eQTLs) data to provide a mechanistic interpretation for GWAS findings. TWAS relies on testing whether perturbations in gene regulatory mechanisms mediate the association between genetic variants and human diseases [@doi:10.1371/journal.pgen.1009482; @doi:10.1038/ng.3506; @doi:10.1371/journal.pgen.1007889; @doi:10.1038/ng.3367], and these approaches have been highly successful not only in understanding disease etiology at the transcriptome level [@pmid:33931583; @doi:10.1101/2021.10.21.21265225; @pmid:31036433] but also in disease-risk prediction (polygenic scores) [@doi:10.1186/s13059-021-02591-w] and drug repurposing [@doi:10.1038/nn.4618] tasks. However, TWAS works at the individual gene level, which does not capture more complex interactions at the network level.\n"
     ]
    }
   ],
   "source": [
    "par0 = process_paragraph(orig_section_paragraphs[2])\n",
    "print(par0)"
   ]
  },
  {
   "cell_type": "code",
   "execution_count": 42,
   "id": "adf7d64e-404e-46ca-a5f2-15a55dfde1e1",
   "metadata": {
    "execution": {
     "iopub.execute_input": "2024-03-23T05:12:51.170381Z",
     "iopub.status.busy": "2024-03-23T05:12:51.170016Z",
     "iopub.status.idle": "2024-03-23T05:12:51.172811Z",
     "shell.execute_reply": "2024-03-23T05:12:51.172376Z"
    },
    "papermill": {
     "duration": 0.038976,
     "end_time": "2024-03-23T05:12:51.173482",
     "exception": false,
     "start_time": "2024-03-23T05:12:51.134506",
     "status": "completed"
    },
    "tags": []
   },
   "outputs": [
    {
     "name": "stdout",
     "output_type": "stream",
     "text": [
      "With the abundance of gene expression data available across various tissues, a useful method for identifying biological processes is the transcription-wide association study (TWAS). TWAS combines expression quantitative trait loci (eQTLs) data to offer a mechanistic explanation for GWAS findings. This approach examines whether disruptions in gene regulatory mechanisms mediate the connection between genetic variations and human diseases. These methods have proven successful in not only elucidating disease origins at the transcriptome level but also in predicting disease risk (polygenic scores) and repurposing drugs. Nevertheless, TWAS operates at the individual gene level and may not capture more intricate interactions at the network level.\n"
     ]
    }
   ],
   "source": [
    "par1 = process_paragraph(mod_section_paragraphs[2])\n",
    "print(par1)"
   ]
  },
  {
   "cell_type": "code",
   "execution_count": 43,
   "id": "59eb3aa3-5550-4ff5-b9cf-b2572c9e3320",
   "metadata": {
    "execution": {
     "iopub.execute_input": "2024-03-23T05:12:51.244836Z",
     "iopub.status.busy": "2024-03-23T05:12:51.244530Z",
     "iopub.status.idle": "2024-03-23T05:12:51.247074Z",
     "shell.execute_reply": "2024-03-23T05:12:51.246647Z"
    },
    "papermill": {
     "duration": 0.038859,
     "end_time": "2024-03-23T05:12:51.247791",
     "exception": false,
     "start_time": "2024-03-23T05:12:51.208932",
     "status": "completed"
    },
    "tags": []
   },
   "outputs": [],
   "source": [
    "paragraph_matches.append(\n",
    "    (\n",
    "        section_name,\n",
    "        par0,\n",
    "        par1,\n",
    "    )\n",
    ")"
   ]
  },
  {
   "cell_type": "code",
   "execution_count": 44,
   "id": "7a916bff-4b07-45f5-842f-eaec9bb0d42e",
   "metadata": {
    "execution": {
     "iopub.execute_input": "2024-03-23T05:12:51.319372Z",
     "iopub.status.busy": "2024-03-23T05:12:51.319015Z",
     "iopub.status.idle": "2024-03-23T05:12:51.322378Z",
     "shell.execute_reply": "2024-03-23T05:12:51.321947Z"
    },
    "papermill": {
     "duration": 0.04001,
     "end_time": "2024-03-23T05:12:51.323068",
     "exception": false,
     "start_time": "2024-03-23T05:12:51.283058",
     "status": "completed"
    },
    "tags": []
   },
   "outputs": [
    {
     "data": {
      "text/plain": [
       "('introduction',\n",
       " 'Given the availability of gene expression data across several tissues [@doi:10.1038/nbt.3838; @doi:10.1038/s41467-018-03751-6; @doi:10.1126/science.aaz1776; @doi:10.1186/s13040-020-00216-9], an effective approach to identify these biological processes is the transcription-wide association study (TWAS), which integrates expression quantitative trait loci (eQTLs) data to provide a mechanistic interpretation for GWAS findings. TWAS relies on testing whether perturbations in gene regulatory mechanisms mediate the association between genetic variants and human diseases [@doi:10.1371/journal.pgen.1009482; @doi:10.1038/ng.3506; @doi:10.1371/journal.pgen.1007889; @doi:10.1038/ng.3367], and these approaches have been highly successful not only in understanding disease etiology at the transcriptome level [@pmid:33931583; @doi:10.1101/2021.10.21.21265225; @pmid:31036433] but also in disease-risk prediction (polygenic scores) [@doi:10.1186/s13059-021-02591-w] and drug repurposing [@doi:10.1038/nn.4618] tasks. However, TWAS works at the individual gene level, which does not capture more complex interactions at the network level.',\n",
       " 'With the abundance of gene expression data available across various tissues, a useful method for identifying biological processes is the transcription-wide association study (TWAS). TWAS combines expression quantitative trait loci (eQTLs) data to offer a mechanistic explanation for GWAS findings. This approach examines whether disruptions in gene regulatory mechanisms mediate the connection between genetic variations and human diseases. These methods have proven successful in not only elucidating disease origins at the transcriptome level but also in predicting disease risk (polygenic scores) and repurposing drugs. Nevertheless, TWAS operates at the individual gene level and may not capture more intricate interactions at the network level.')"
      ]
     },
     "metadata": {},
     "output_type": "display_data"
    }
   ],
   "source": [
    "display(paragraph_matches[-1])"
   ]
  },
  {
   "cell_type": "markdown",
   "id": "4c1b1437-9b3b-4c56-8708-f54b7a611ee4",
   "metadata": {
    "editable": true,
    "papermill": {
     "duration": 0.035538,
     "end_time": "2024-03-23T05:12:51.393990",
     "exception": false,
     "start_time": "2024-03-23T05:12:51.358452",
     "status": "completed"
    },
    "slideshow": {
     "slide_type": ""
    },
    "tags": []
   },
   "source": [
    "####  Paragraph 02"
   ]
  },
  {
   "cell_type": "code",
   "execution_count": 45,
   "id": "ecb5a5c1-95cf-4c13-82fb-a188170553ff",
   "metadata": {
    "execution": {
     "iopub.execute_input": "2024-03-23T05:12:51.492151Z",
     "iopub.status.busy": "2024-03-23T05:12:51.491972Z",
     "iopub.status.idle": "2024-03-23T05:12:51.494859Z",
     "shell.execute_reply": "2024-03-23T05:12:51.494431Z"
    },
    "papermill": {
     "duration": 0.06631,
     "end_time": "2024-03-23T05:12:51.495582",
     "exception": false,
     "start_time": "2024-03-23T05:12:51.429272",
     "status": "completed"
    },
    "tags": []
   },
   "outputs": [
    {
     "name": "stdout",
     "output_type": "stream",
     "text": [
      "These gene-gene interactions play a crucial role in current theories of the architecture of complex traits, such as the omnigenic model [@doi:10.1016/j.cell.2017.05.038], which suggests that methods need to incorporate this complexity to disentangle disease-relevant mechanisms. Widespread gene pleiotropy, for instance, reveals the highly interconnected nature of transcriptional networks [@doi:10.1038/s41588-019-0481-0; @doi:10.1038/ng.3570], where potentially all genes expressed in disease-relevant cell types have a non-zero effect on the trait [@doi:10.1016/j.cell.2017.05.038; @doi:10.1016/j.cell.2019.04.014]. One way to learn these gene-gene interactions is using the concept of gene module: a group of genes with similar expression profiles across different conditions [@pmid:22955619; @pmid:25344726; @doi:10.1038/ng.3259]. In this context, several unsupervised approaches have been proposed to infer these gene-gene connections by extracting gene modules from co-expression patterns [@pmid:9843981; @pmid:24662387; @pmid:16333293]. Matrix factorization techniques like independent or principal component analysis (ICA/PCA) have shown superior performance in this task [@doi:10.1038/s41467-018-03424-4] since they capture local expression effects from a subset of samples and can handle modules overlap effectively. Therefore, integrating genetic studies with gene modules extracted using unsupervised learning could further improve our understanding of disease origin [@pmid:25344726] and progression [@pmid:18631455].\n"
     ]
    }
   ],
   "source": [
    "par0 = process_paragraph(orig_section_paragraphs[3])\n",
    "print(par0)"
   ]
  },
  {
   "cell_type": "code",
   "execution_count": 46,
   "id": "afb6133d-c94c-44bc-aa0c-6a568ec955aa",
   "metadata": {
    "execution": {
     "iopub.execute_input": "2024-03-23T05:12:51.567345Z",
     "iopub.status.busy": "2024-03-23T05:12:51.566983Z",
     "iopub.status.idle": "2024-03-23T05:12:51.569814Z",
     "shell.execute_reply": "2024-03-23T05:12:51.569370Z"
    },
    "papermill": {
     "duration": 0.039402,
     "end_time": "2024-03-23T05:12:51.570546",
     "exception": false,
     "start_time": "2024-03-23T05:12:51.531144",
     "status": "completed"
    },
    "tags": []
   },
   "outputs": [
    {
     "name": "stdout",
     "output_type": "stream",
     "text": [
      "Gene-gene interactions are essential in current theories of complex traits, such as the omnigenic model (Boyle et al., 2017), which emphasizes the need for methods to account for this complexity in unraveling disease mechanisms. The widespread gene pleiotropy highlights the intricate interconnectedness of transcriptional networks (Watanabe et al., 2019; Finucane et al., 2015), suggesting that nearly all genes expressed in disease-relevant cell types have some impact on the trait (Boyle et al., 2017; Skene and Grant, 2019). One approach to understanding these interactions is through gene modules, which are groups of genes with similar expression patterns across various conditions (Langfelder and Horvath, 2008; Oldham et al., 2008; Zhang and Horvath, 2005). Several unsupervised methods have been proposed to uncover these gene-gene connections by identifying gene modules based on co-expression patterns (Eisen et al., 1998; Langfelder and Horvath, 2012; Tamayo et al., 1999). Matrix factorization techniques, such as independent component analysis (ICA) or principal component analysis (PCA), have demonstrated superior performance in capturing local expression effects and managing module overlap effectively (Hafemeister and Satija, 2019). Therefore, integrating genetic studies with gene modules identified through unsupervised learning could enhance our understanding of disease etiology (Oldham et al., 2015) and progression (Rhodes et al., 2004).\n"
     ]
    }
   ],
   "source": [
    "par1 = process_paragraph(mod_section_paragraphs[3])\n",
    "print(par1)"
   ]
  },
  {
   "cell_type": "code",
   "execution_count": 47,
   "id": "842d5352-043a-493d-9de5-d2dde6b87393",
   "metadata": {
    "execution": {
     "iopub.execute_input": "2024-03-23T05:12:51.642343Z",
     "iopub.status.busy": "2024-03-23T05:12:51.641903Z",
     "iopub.status.idle": "2024-03-23T05:12:51.644474Z",
     "shell.execute_reply": "2024-03-23T05:12:51.644044Z"
    },
    "papermill": {
     "duration": 0.039158,
     "end_time": "2024-03-23T05:12:51.645183",
     "exception": false,
     "start_time": "2024-03-23T05:12:51.606025",
     "status": "completed"
    },
    "tags": []
   },
   "outputs": [],
   "source": [
    "paragraph_matches.append(\n",
    "    (\n",
    "        section_name,\n",
    "        par0,\n",
    "        par1,\n",
    "    )\n",
    ")"
   ]
  },
  {
   "cell_type": "code",
   "execution_count": 48,
   "id": "849bc6ba-7335-4353-be29-550eae813436",
   "metadata": {
    "execution": {
     "iopub.execute_input": "2024-03-23T05:12:51.716984Z",
     "iopub.status.busy": "2024-03-23T05:12:51.716620Z",
     "iopub.status.idle": "2024-03-23T05:12:51.719954Z",
     "shell.execute_reply": "2024-03-23T05:12:51.719542Z"
    },
    "papermill": {
     "duration": 0.040148,
     "end_time": "2024-03-23T05:12:51.720719",
     "exception": false,
     "start_time": "2024-03-23T05:12:51.680571",
     "status": "completed"
    },
    "tags": []
   },
   "outputs": [
    {
     "data": {
      "text/plain": [
       "('introduction',\n",
       " 'These gene-gene interactions play a crucial role in current theories of the architecture of complex traits, such as the omnigenic model [@doi:10.1016/j.cell.2017.05.038], which suggests that methods need to incorporate this complexity to disentangle disease-relevant mechanisms. Widespread gene pleiotropy, for instance, reveals the highly interconnected nature of transcriptional networks [@doi:10.1038/s41588-019-0481-0; @doi:10.1038/ng.3570], where potentially all genes expressed in disease-relevant cell types have a non-zero effect on the trait [@doi:10.1016/j.cell.2017.05.038; @doi:10.1016/j.cell.2019.04.014]. One way to learn these gene-gene interactions is using the concept of gene module: a group of genes with similar expression profiles across different conditions [@pmid:22955619; @pmid:25344726; @doi:10.1038/ng.3259]. In this context, several unsupervised approaches have been proposed to infer these gene-gene connections by extracting gene modules from co-expression patterns [@pmid:9843981; @pmid:24662387; @pmid:16333293]. Matrix factorization techniques like independent or principal component analysis (ICA/PCA) have shown superior performance in this task [@doi:10.1038/s41467-018-03424-4] since they capture local expression effects from a subset of samples and can handle modules overlap effectively. Therefore, integrating genetic studies with gene modules extracted using unsupervised learning could further improve our understanding of disease origin [@pmid:25344726] and progression [@pmid:18631455].',\n",
       " 'Gene-gene interactions are essential in current theories of complex traits, such as the omnigenic model (Boyle et al., 2017), which emphasizes the need for methods to account for this complexity in unraveling disease mechanisms. The widespread gene pleiotropy highlights the intricate interconnectedness of transcriptional networks (Watanabe et al., 2019; Finucane et al., 2015), suggesting that nearly all genes expressed in disease-relevant cell types have some impact on the trait (Boyle et al., 2017; Skene and Grant, 2019). One approach to understanding these interactions is through gene modules, which are groups of genes with similar expression patterns across various conditions (Langfelder and Horvath, 2008; Oldham et al., 2008; Zhang and Horvath, 2005). Several unsupervised methods have been proposed to uncover these gene-gene connections by identifying gene modules based on co-expression patterns (Eisen et al., 1998; Langfelder and Horvath, 2012; Tamayo et al., 1999). Matrix factorization techniques, such as independent component analysis (ICA) or principal component analysis (PCA), have demonstrated superior performance in capturing local expression effects and managing module overlap effectively (Hafemeister and Satija, 2019). Therefore, integrating genetic studies with gene modules identified through unsupervised learning could enhance our understanding of disease etiology (Oldham et al., 2015) and progression (Rhodes et al., 2004).')"
      ]
     },
     "metadata": {},
     "output_type": "display_data"
    }
   ],
   "source": [
    "display(paragraph_matches[-1])"
   ]
  },
  {
   "cell_type": "markdown",
   "id": "89c0cf3b-dba0-408b-8e69-93242581f4f8",
   "metadata": {
    "editable": true,
    "papermill": {
     "duration": 0.035273,
     "end_time": "2024-03-23T05:12:51.791060",
     "exception": false,
     "start_time": "2024-03-23T05:12:51.755787",
     "status": "completed"
    },
    "slideshow": {
     "slide_type": ""
    },
    "tags": []
   },
   "source": [
    "####  Paragraph 03"
   ]
  },
  {
   "cell_type": "code",
   "execution_count": 49,
   "id": "05d48e1f-160e-4780-b8a1-324d81a407f8",
   "metadata": {
    "execution": {
     "iopub.execute_input": "2024-03-23T05:12:51.862605Z",
     "iopub.status.busy": "2024-03-23T05:12:51.862259Z",
     "iopub.status.idle": "2024-03-23T05:12:51.865234Z",
     "shell.execute_reply": "2024-03-23T05:12:51.864789Z"
    },
    "papermill": {
     "duration": 0.039516,
     "end_time": "2024-03-23T05:12:51.865985",
     "exception": false,
     "start_time": "2024-03-23T05:12:51.826469",
     "status": "completed"
    },
    "tags": []
   },
   "outputs": [
    {
     "name": "stdout",
     "output_type": "stream",
     "text": [
      "Here we propose PhenoPLIER, an omnigenic approach that provides a gene module perspective to genetic studies. The flexibility of our method allows integrating different data modalities into the same representation for a joint analysis. We show that this module perspective can infer how groups of functionally-related genes influence complex traits, detect shared and distinct transcriptomic properties among traits, and predict how pharmacological perturbations affect genes' activity to exert their effects. PhenoPLIER maps gene-trait associations and drug-induced transcriptional responses into a common latent representation. For this, we integrate thousands of gene-trait associations (using TWAS from PhenomeXcan [@doi:10.1126/sciadv.aba2083]) and transcriptional profiles of drugs (from LINCS L1000 [@doi:10.1016/j.cell.2017.10.049]) into a low-dimensional space learned from public gene expression data on tens of thousands of RNA-seq samples (recount2 [@doi:10.1016/j.cels.2019.04.003; @doi:10.1038/nbt.3838]). We use a latent representation defined by a matrix factorization approach [@doi:10.1038/s41592-019-0456-1; @doi:10.1016/j.cels.2019.04.003] that extracts gene modules with certain sparsity constraints and preferences for those that align with prior knowledge (pathways). When mapping gene-trait associations to this reduced expression space, we observe that diseases are significantly associated with gene modules expressed in relevant cell types: such as hypothyroidism with T cells, corneal endothelial cells with keratometry measurements, hematological assays on specific blood cell types, plasma lipids with adipose tissue, and neuropsychiatric disorders with different brain cell types. Moreover, since PhenoPLIER can use models derived from large and heterogeneous RNA-seq datasets, we can also identify modules associated with cell types under specific stimuli or disease states. We observe that significant module-trait associations in PhenomeXcan (our discovery cohort) replicated in the Electronic Medical Records and Genomics (eMERGE) network phase III [@doi:10.1038/gim.2013.72; @doi:10.1101/2021.10.21.21265225] (our replication cohort). Furthermore, we perform a CRISPR screen to analyze lipid regulation in HepG2 cells. We observe more robust trait associations with modules than with individual genes, even when single genes known to be involved in lipid metabolism did not reach genome-wide significance. Compared to a single-gene approach, our module-based method also better predicts FDA-approved drug-disease links by capturing tissue-specific pathophysiological mechanisms linked with the mechanism of action of drugs (e.g., niacin with cardiovascular traits via a known immune mechanism). This improved drug-disease prediction suggests that modules may provide a better means to examine drug-disease relationships than individual genes. Finally, exploring the phenotype-module space reveals stable trait clusters associated with relevant tissues, including a complex branch involving lipids with cardiovascular, autoimmune, and neuropsychiatric disorders. In summary, instead of considering single genes associated with different complex traits, PhenoPLIER incorporates groups of genes that act together to carry out different functions in specific cell types. This approach improves robustness in detecting and interpreting genetic associations, and here we show how it can prioritize alternative and potentially more promising candidate targets even when known single gene associations are not detected. The approach represents a conceptual shift in the interpretation of genetic studies. It has the potential to extract mechanistic insight from statistical associations to enhance the understanding of complex diseases and their therapeutic modalities.\n"
     ]
    }
   ],
   "source": [
    "par0 = process_paragraph(orig_section_paragraphs[4])\n",
    "print(par0)"
   ]
  },
  {
   "cell_type": "code",
   "execution_count": 50,
   "id": "cdb1492a-c426-4a14-8c16-2911c076f0e1",
   "metadata": {
    "execution": {
     "iopub.execute_input": "2024-03-23T05:12:51.937680Z",
     "iopub.status.busy": "2024-03-23T05:12:51.937346Z",
     "iopub.status.idle": "2024-03-23T05:12:51.940286Z",
     "shell.execute_reply": "2024-03-23T05:12:51.939854Z"
    },
    "papermill": {
     "duration": 0.039692,
     "end_time": "2024-03-23T05:12:51.941003",
     "exception": false,
     "start_time": "2024-03-23T05:12:51.901311",
     "status": "completed"
    },
    "tags": []
   },
   "outputs": [
    {
     "name": "stdout",
     "output_type": "stream",
     "text": [
      "In this paper titled 'Projecting genetic associations through gene expression patterns highlights disease etiology and drug mechanisms,' we introduce PhenoPLIER, an omnigenic method that offers a gene module viewpoint for genetic studies. Our approach is versatile, allowing the integration of various data types into a unified representation for comprehensive analysis. Through the module perspective, we can deduce how clusters of functionally-related genes impact complex traits, identify shared and unique transcriptomic characteristics among traits, and predict the effects of pharmacological interventions on gene activity. PhenoPLIER aligns gene-trait associations and drug-induced transcriptional responses within a shared latent representation. To achieve this, we merge numerous gene-trait associations (via TWAS from PhenomeXcan) and drug transcriptional profiles (from LINCS L1000) into a low-dimensional space derived from public gene expression data from tens of thousands of RNA-seq samples (recount2). We employ a matrix factorization technique to define a latent representation that extracts gene modules while adhering to sparsity constraints and preferences for pathways based on prior knowledge. By mapping gene-trait associations to this reduced expression space, we find significant associations between diseases and gene modules expressed in relevant cell types. For instance, hypothyroidism correlates with T cells, corneal endothelial cells with keratometry measurements, hematological assays with specific blood cell types, plasma lipids with adipose tissue, and neuropsychiatric disorders with various brain cell types. We also observe that significant module-trait associations in PhenomeXcan replicate in the eMERGE network phase III. Additionally, we conduct a CRISPR screen to study lipid regulation in HepG2 cells, revealing stronger trait associations with modules than individual genes, even when known lipid metabolism genes do not reach genome-wide significance. Compared to single-gene approaches, our module-based method better predicts FDA-approved drug-disease connections by capturing tissue-specific pathophysiological mechanisms linked to drug mechanisms (e.g., niacin with cardiovascular traits via an immune mechanism). This enhanced drug-disease prediction suggests that modules offer a more effective way to explore drug-disease relationships than individual genes. Finally, exploring the phenotype-module space uncovers stable trait clusters associated with relevant tissues, including a complex branch linking lipids with cardiovascular, autoimmune, and neuropsychiatric disorders. In conclusion, PhenoPLIER moves beyond individual genes to encompass groups of genes working together to perform various functions in specific cell types. This approach enhances the robustness of identifying and interpreting genetic associations, prioritizing alternative and potentially more promising candidate targets even when known single gene associations are absent. This method signifies a shift in interpreting genetic studies, offering mechanistic insights to improve the understanding of complex diseases and their therapeutic approaches.\n"
     ]
    }
   ],
   "source": [
    "par1 = process_paragraph(mod_section_paragraphs[4:8])\n",
    "print(par1)"
   ]
  },
  {
   "cell_type": "code",
   "execution_count": 51,
   "id": "85d6bf7f-f214-43be-96fd-88822c49eafd",
   "metadata": {
    "execution": {
     "iopub.execute_input": "2024-03-23T05:12:52.012676Z",
     "iopub.status.busy": "2024-03-23T05:12:52.012567Z",
     "iopub.status.idle": "2024-03-23T05:12:52.014887Z",
     "shell.execute_reply": "2024-03-23T05:12:52.014440Z"
    },
    "papermill": {
     "duration": 0.038973,
     "end_time": "2024-03-23T05:12:52.015602",
     "exception": false,
     "start_time": "2024-03-23T05:12:51.976629",
     "status": "completed"
    },
    "tags": []
   },
   "outputs": [],
   "source": [
    "paragraph_matches.append(\n",
    "    (\n",
    "        section_name,\n",
    "        par0,\n",
    "        par1,\n",
    "    )\n",
    ")"
   ]
  },
  {
   "cell_type": "code",
   "execution_count": 52,
   "id": "cbfca9a3-267e-4549-be11-2203ae8bf711",
   "metadata": {
    "execution": {
     "iopub.execute_input": "2024-03-23T05:12:52.086854Z",
     "iopub.status.busy": "2024-03-23T05:12:52.086750Z",
     "iopub.status.idle": "2024-03-23T05:12:52.089286Z",
     "shell.execute_reply": "2024-03-23T05:12:52.088968Z"
    },
    "papermill": {
     "duration": 0.038857,
     "end_time": "2024-03-23T05:12:52.089923",
     "exception": false,
     "start_time": "2024-03-23T05:12:52.051066",
     "status": "completed"
    },
    "tags": []
   },
   "outputs": [
    {
     "data": {
      "text/plain": [
       "('introduction',\n",
       " \"Here we propose PhenoPLIER, an omnigenic approach that provides a gene module perspective to genetic studies. The flexibility of our method allows integrating different data modalities into the same representation for a joint analysis. We show that this module perspective can infer how groups of functionally-related genes influence complex traits, detect shared and distinct transcriptomic properties among traits, and predict how pharmacological perturbations affect genes' activity to exert their effects. PhenoPLIER maps gene-trait associations and drug-induced transcriptional responses into a common latent representation. For this, we integrate thousands of gene-trait associations (using TWAS from PhenomeXcan [@doi:10.1126/sciadv.aba2083]) and transcriptional profiles of drugs (from LINCS L1000 [@doi:10.1016/j.cell.2017.10.049]) into a low-dimensional space learned from public gene expression data on tens of thousands of RNA-seq samples (recount2 [@doi:10.1016/j.cels.2019.04.003; @doi:10.1038/nbt.3838]). We use a latent representation defined by a matrix factorization approach [@doi:10.1038/s41592-019-0456-1; @doi:10.1016/j.cels.2019.04.003] that extracts gene modules with certain sparsity constraints and preferences for those that align with prior knowledge (pathways). When mapping gene-trait associations to this reduced expression space, we observe that diseases are significantly associated with gene modules expressed in relevant cell types: such as hypothyroidism with T cells, corneal endothelial cells with keratometry measurements, hematological assays on specific blood cell types, plasma lipids with adipose tissue, and neuropsychiatric disorders with different brain cell types. Moreover, since PhenoPLIER can use models derived from large and heterogeneous RNA-seq datasets, we can also identify modules associated with cell types under specific stimuli or disease states. We observe that significant module-trait associations in PhenomeXcan (our discovery cohort) replicated in the Electronic Medical Records and Genomics (eMERGE) network phase III [@doi:10.1038/gim.2013.72; @doi:10.1101/2021.10.21.21265225] (our replication cohort). Furthermore, we perform a CRISPR screen to analyze lipid regulation in HepG2 cells. We observe more robust trait associations with modules than with individual genes, even when single genes known to be involved in lipid metabolism did not reach genome-wide significance. Compared to a single-gene approach, our module-based method also better predicts FDA-approved drug-disease links by capturing tissue-specific pathophysiological mechanisms linked with the mechanism of action of drugs (e.g., niacin with cardiovascular traits via a known immune mechanism). This improved drug-disease prediction suggests that modules may provide a better means to examine drug-disease relationships than individual genes. Finally, exploring the phenotype-module space reveals stable trait clusters associated with relevant tissues, including a complex branch involving lipids with cardiovascular, autoimmune, and neuropsychiatric disorders. In summary, instead of considering single genes associated with different complex traits, PhenoPLIER incorporates groups of genes that act together to carry out different functions in specific cell types. This approach improves robustness in detecting and interpreting genetic associations, and here we show how it can prioritize alternative and potentially more promising candidate targets even when known single gene associations are not detected. The approach represents a conceptual shift in the interpretation of genetic studies. It has the potential to extract mechanistic insight from statistical associations to enhance the understanding of complex diseases and their therapeutic modalities.\",\n",
       " \"In this paper titled 'Projecting genetic associations through gene expression patterns highlights disease etiology and drug mechanisms,' we introduce PhenoPLIER, an omnigenic method that offers a gene module viewpoint for genetic studies. Our approach is versatile, allowing the integration of various data types into a unified representation for comprehensive analysis. Through the module perspective, we can deduce how clusters of functionally-related genes impact complex traits, identify shared and unique transcriptomic characteristics among traits, and predict the effects of pharmacological interventions on gene activity. PhenoPLIER aligns gene-trait associations and drug-induced transcriptional responses within a shared latent representation. To achieve this, we merge numerous gene-trait associations (via TWAS from PhenomeXcan) and drug transcriptional profiles (from LINCS L1000) into a low-dimensional space derived from public gene expression data from tens of thousands of RNA-seq samples (recount2). We employ a matrix factorization technique to define a latent representation that extracts gene modules while adhering to sparsity constraints and preferences for pathways based on prior knowledge. By mapping gene-trait associations to this reduced expression space, we find significant associations between diseases and gene modules expressed in relevant cell types. For instance, hypothyroidism correlates with T cells, corneal endothelial cells with keratometry measurements, hematological assays with specific blood cell types, plasma lipids with adipose tissue, and neuropsychiatric disorders with various brain cell types. We also observe that significant module-trait associations in PhenomeXcan replicate in the eMERGE network phase III. Additionally, we conduct a CRISPR screen to study lipid regulation in HepG2 cells, revealing stronger trait associations with modules than individual genes, even when known lipid metabolism genes do not reach genome-wide significance. Compared to single-gene approaches, our module-based method better predicts FDA-approved drug-disease connections by capturing tissue-specific pathophysiological mechanisms linked to drug mechanisms (e.g., niacin with cardiovascular traits via an immune mechanism). This enhanced drug-disease prediction suggests that modules offer a more effective way to explore drug-disease relationships than individual genes. Finally, exploring the phenotype-module space uncovers stable trait clusters associated with relevant tissues, including a complex branch linking lipids with cardiovascular, autoimmune, and neuropsychiatric disorders. In conclusion, PhenoPLIER moves beyond individual genes to encompass groups of genes working together to perform various functions in specific cell types. This approach enhances the robustness of identifying and interpreting genetic associations, prioritizing alternative and potentially more promising candidate targets even when known single gene associations are absent. This method signifies a shift in interpreting genetic studies, offering mechanistic insights to improve the understanding of complex diseases and their therapeutic approaches.\")"
      ]
     },
     "metadata": {},
     "output_type": "display_data"
    }
   ],
   "source": [
    "display(paragraph_matches[-1])"
   ]
  },
  {
   "cell_type": "markdown",
   "id": "aabf3637-bb5a-458d-89b3-33cea18c529e",
   "metadata": {
    "editable": true,
    "papermill": {
     "duration": 0.035706,
     "end_time": "2024-03-23T05:12:52.161183",
     "exception": false,
     "start_time": "2024-03-23T05:12:52.125477",
     "status": "completed"
    },
    "slideshow": {
     "slide_type": ""
    },
    "tags": []
   },
   "source": [
    "## Results (framework)"
   ]
  },
  {
   "cell_type": "code",
   "execution_count": 53,
   "id": "eb1352b5-0d25-41d0-8f6d-245f7748e99e",
   "metadata": {
    "execution": {
     "iopub.execute_input": "2024-03-23T05:12:52.233072Z",
     "iopub.status.busy": "2024-03-23T05:12:52.232953Z",
     "iopub.status.idle": "2024-03-23T05:12:52.235206Z",
     "shell.execute_reply": "2024-03-23T05:12:52.234758Z"
    },
    "papermill": {
     "duration": 0.039268,
     "end_time": "2024-03-23T05:12:52.235955",
     "exception": false,
     "start_time": "2024-03-23T05:12:52.196687",
     "status": "completed"
    },
    "tags": []
   },
   "outputs": [],
   "source": [
    "section_name = \"results\""
   ]
  },
  {
   "cell_type": "code",
   "execution_count": 54,
   "id": "e0d44354-4c59-486e-a3a4-06dea873e86d",
   "metadata": {
    "editable": true,
    "execution": {
     "iopub.execute_input": "2024-03-23T05:12:52.334979Z",
     "iopub.status.busy": "2024-03-23T05:12:52.334838Z",
     "iopub.status.idle": "2024-03-23T05:12:52.338087Z",
     "shell.execute_reply": "2024-03-23T05:12:52.337456Z"
    },
    "papermill": {
     "duration": 0.040441,
     "end_time": "2024-03-23T05:12:52.338875",
     "exception": false,
     "start_time": "2024-03-23T05:12:52.298434",
     "status": "completed"
    },
    "slideshow": {
     "slide_type": ""
    },
    "tags": []
   },
   "outputs": [
    {
     "name": "stdout",
     "output_type": "stream",
     "text": [
      "content/04.05.00.results_framework.md\n"
     ]
    }
   ],
   "source": [
    "pr_filename = pr_files[2].filename\n",
    "assert section_name in pr_filename\n",
    "assert \"framework\" in pr_filename\n",
    "print(pr_filename)"
   ]
  },
  {
   "cell_type": "markdown",
   "id": "e5ba4512-f199-419b-a5ed-bd0da25ca19a",
   "metadata": {
    "editable": true,
    "papermill": {
     "duration": 0.03582,
     "end_time": "2024-03-23T05:12:52.410477",
     "exception": false,
     "start_time": "2024-03-23T05:12:52.374657",
     "status": "completed"
    },
    "slideshow": {
     "slide_type": ""
    },
    "tags": []
   },
   "source": [
    "### Original"
   ]
  },
  {
   "cell_type": "code",
   "execution_count": 55,
   "id": "104a83ac-3b10-43b2-b526-790f2ce0316c",
   "metadata": {
    "execution": {
     "iopub.execute_input": "2024-03-23T05:12:52.482881Z",
     "iopub.status.busy": "2024-03-23T05:12:52.482634Z",
     "iopub.status.idle": "2024-03-23T05:12:52.687469Z",
     "shell.execute_reply": "2024-03-23T05:12:52.686889Z"
    },
    "papermill": {
     "duration": 0.242506,
     "end_time": "2024-03-23T05:12:52.688644",
     "exception": false,
     "start_time": "2024-03-23T05:12:52.446138",
     "status": "completed"
    },
    "tags": []
   },
   "outputs": [
    {
     "name": "stdout",
     "output_type": "stream",
     "text": [
      "### PhenoPLIER: an integration framework based on \n"
     ]
    }
   ],
   "source": [
    "# get content\n",
    "orig_section_content = repo.get_contents(pr_filename, pr_prev).decoded_content.decode(\n",
    "    \"utf-8\"\n",
    ")\n",
    "print(orig_section_content[:50])"
   ]
  },
  {
   "cell_type": "code",
   "execution_count": 56,
   "id": "24ce0aba-906d-4235-a67b-99d1fa4b5912",
   "metadata": {
    "execution": {
     "iopub.execute_input": "2024-03-23T05:12:52.799065Z",
     "iopub.status.busy": "2024-03-23T05:12:52.798615Z",
     "iopub.status.idle": "2024-03-23T05:12:52.802581Z",
     "shell.execute_reply": "2024-03-23T05:12:52.802079Z"
    },
    "papermill": {
     "duration": 0.046794,
     "end_time": "2024-03-23T05:12:52.803296",
     "exception": false,
     "start_time": "2024-03-23T05:12:52.756502",
     "status": "completed"
    },
    "tags": []
   },
   "outputs": [
    {
     "data": {
      "text/plain": [
       "7"
      ]
     },
     "metadata": {},
     "output_type": "display_data"
    }
   ],
   "source": [
    "# split by paragraph\n",
    "orig_section_paragraphs = orig_section_content.split(\"\\n\\n\")\n",
    "display(len(orig_section_paragraphs))"
   ]
  },
  {
   "cell_type": "markdown",
   "id": "ebd7a57f-8ca5-4357-8914-6c0e8e16d46b",
   "metadata": {
    "editable": true,
    "papermill": {
     "duration": 0.035563,
     "end_time": "2024-03-23T05:12:52.874455",
     "exception": false,
     "start_time": "2024-03-23T05:12:52.838892",
     "status": "completed"
    },
    "slideshow": {
     "slide_type": ""
    },
    "tags": []
   },
   "source": [
    "### Modified"
   ]
  },
  {
   "cell_type": "code",
   "execution_count": 57,
   "id": "7624af03-9c23-4625-9c6c-a5e9082bcf6a",
   "metadata": {
    "execution": {
     "iopub.execute_input": "2024-03-23T05:12:52.946563Z",
     "iopub.status.busy": "2024-03-23T05:12:52.946148Z",
     "iopub.status.idle": "2024-03-23T05:12:53.115646Z",
     "shell.execute_reply": "2024-03-23T05:12:53.115101Z"
    },
    "papermill": {
     "duration": 0.206682,
     "end_time": "2024-03-23T05:12:53.116805",
     "exception": false,
     "start_time": "2024-03-23T05:12:52.910123",
     "status": "completed"
    },
    "tags": []
   },
   "outputs": [
    {
     "name": "stdout",
     "output_type": "stream",
     "text": [
      "### PhenoPLIER: an integration framework based on \n"
     ]
    }
   ],
   "source": [
    "# get content\n",
    "mod_section_content = repo.get_contents(pr_filename, pr_curr).decoded_content.decode(\n",
    "    \"utf-8\"\n",
    ")\n",
    "print(mod_section_content[:50])"
   ]
  },
  {
   "cell_type": "code",
   "execution_count": 58,
   "id": "e1fd8b08-aafa-4b43-aa6e-e799761fda94",
   "metadata": {
    "execution": {
     "iopub.execute_input": "2024-03-23T05:12:53.226985Z",
     "iopub.status.busy": "2024-03-23T05:12:53.226581Z",
     "iopub.status.idle": "2024-03-23T05:12:53.230533Z",
     "shell.execute_reply": "2024-03-23T05:12:53.230009Z"
    },
    "papermill": {
     "duration": 0.047386,
     "end_time": "2024-03-23T05:12:53.231262",
     "exception": false,
     "start_time": "2024-03-23T05:12:53.183876",
     "status": "completed"
    },
    "tags": []
   },
   "outputs": [
    {
     "data": {
      "text/plain": [
       "7"
      ]
     },
     "metadata": {},
     "output_type": "display_data"
    }
   ],
   "source": [
    "# split by paragraph\n",
    "mod_section_paragraphs = mod_section_content.split(\"\\n\\n\")\n",
    "display(len(mod_section_paragraphs))"
   ]
  },
  {
   "cell_type": "markdown",
   "id": "b20bc347-6c37-4089-9a38-654b3e9028bd",
   "metadata": {
    "editable": true,
    "papermill": {
     "duration": 0.035671,
     "end_time": "2024-03-23T05:12:53.302798",
     "exception": false,
     "start_time": "2024-03-23T05:12:53.267127",
     "status": "completed"
    },
    "slideshow": {
     "slide_type": ""
    },
    "tags": []
   },
   "source": [
    "### Match"
   ]
  },
  {
   "cell_type": "code",
   "execution_count": 59,
   "id": "7be2fbbd-e933-44c9-9afc-71c4bb56f6f5",
   "metadata": {
    "execution": {
     "iopub.execute_input": "2024-03-23T05:12:53.379878Z",
     "iopub.status.busy": "2024-03-23T05:12:53.379545Z",
     "iopub.status.idle": "2024-03-23T05:12:53.383108Z",
     "shell.execute_reply": "2024-03-23T05:12:53.382622Z"
    },
    "papermill": {
     "duration": 0.045207,
     "end_time": "2024-03-23T05:12:53.383799",
     "exception": false,
     "start_time": "2024-03-23T05:12:53.338592",
     "status": "completed"
    },
    "tags": []
   },
   "outputs": [
    {
     "data": {
      "text/plain": [
       "'### PhenoPLIER: an integration framework based on gene co-expression patterns'"
      ]
     },
     "execution_count": 59,
     "metadata": {},
     "output_type": "execute_result"
    }
   ],
   "source": [
    "orig_section_paragraphs[0]"
   ]
  },
  {
   "cell_type": "code",
   "execution_count": 60,
   "id": "2ab3053f-f932-4fd2-a06f-2219fef997dc",
   "metadata": {
    "execution": {
     "iopub.execute_input": "2024-03-23T05:12:53.484772Z",
     "iopub.status.busy": "2024-03-23T05:12:53.484301Z",
     "iopub.status.idle": "2024-03-23T05:12:53.488317Z",
     "shell.execute_reply": "2024-03-23T05:12:53.487743Z"
    },
    "papermill": {
     "duration": 0.068393,
     "end_time": "2024-03-23T05:12:53.488999",
     "exception": false,
     "start_time": "2024-03-23T05:12:53.420606",
     "status": "completed"
    },
    "tags": []
   },
   "outputs": [
    {
     "data": {
      "text/plain": [
       "'### PhenoPLIER: an integration framework based on gene co-expression patterns'"
      ]
     },
     "execution_count": 60,
     "metadata": {},
     "output_type": "execute_result"
    }
   ],
   "source": [
    "mod_section_paragraphs[0]"
   ]
  },
  {
   "cell_type": "markdown",
   "id": "f1be3841-7923-4e69-b0a9-2c39dd7ddaa7",
   "metadata": {
    "editable": true,
    "papermill": {
     "duration": 0.03595,
     "end_time": "2024-03-23T05:12:53.561121",
     "exception": false,
     "start_time": "2024-03-23T05:12:53.525171",
     "status": "completed"
    },
    "slideshow": {
     "slide_type": ""
    },
    "tags": []
   },
   "source": [
    "####  Paragraph 00"
   ]
  },
  {
   "cell_type": "code",
   "execution_count": 61,
   "id": "9a597e30-25ab-4a38-874c-90de7e184e99",
   "metadata": {
    "execution": {
     "iopub.execute_input": "2024-03-23T05:12:53.633299Z",
     "iopub.status.busy": "2024-03-23T05:12:53.632849Z",
     "iopub.status.idle": "2024-03-23T05:12:53.636175Z",
     "shell.execute_reply": "2024-03-23T05:12:53.635654Z"
    },
    "papermill": {
     "duration": 0.040244,
     "end_time": "2024-03-23T05:12:53.636852",
     "exception": false,
     "start_time": "2024-03-23T05:12:53.596608",
     "status": "completed"
    },
    "tags": []
   },
   "outputs": [
    {
     "name": "stdout",
     "output_type": "stream",
     "text": [
      "PhenoPLIER is a flexible computational framework that combines gene-trait and gene-drug associations with gene modules expressed in specific contexts (Figure {@fig:entire_process}a). The approach uses a latent representation (with latent variables or LVs representing gene modules) derived from a large gene expression compendium (Figure {@fig:entire_process}b, top) to integrate TWAS with drug-induced transcriptional responses (Figure {@fig:entire_process}b, middle) for a joint analysis. The approach consists in three main components (Figure {@fig:entire_process}b, bottom, see [Methods](#sec:methods)): 1) an LV-based regression model to compute an association between an LV and a trait, 2) a clustering framework to learn groups of traits with shared transcriptomic properties, and 3) an LV-based drug repurposing approach that links diseases to potential treatments. We performed extensive simulations for our regression model ([Supplementary Note 1](#sm:reg:null_sim)) and clustering framework ([Supplementary Note 2](#sm:clustering:null_sim)) to ensure proper calibration and expected results under a model of no association.\n"
     ]
    }
   ],
   "source": [
    "par0 = process_paragraph(orig_section_paragraphs[2])\n",
    "print(par0)"
   ]
  },
  {
   "cell_type": "code",
   "execution_count": 62,
   "id": "87bc4f6c-e891-4d57-a2ce-4bd9efa0e1aa",
   "metadata": {
    "execution": {
     "iopub.execute_input": "2024-03-23T05:12:53.709019Z",
     "iopub.status.busy": "2024-03-23T05:12:53.708734Z",
     "iopub.status.idle": "2024-03-23T05:12:53.711799Z",
     "shell.execute_reply": "2024-03-23T05:12:53.711284Z"
    },
    "papermill": {
     "duration": 0.039833,
     "end_time": "2024-03-23T05:12:53.712513",
     "exception": false,
     "start_time": "2024-03-23T05:12:53.672680",
     "status": "completed"
    },
    "tags": []
   },
   "outputs": [
    {
     "name": "stdout",
     "output_type": "stream",
     "text": [
      "PhenoPLIER is a computational framework that combines gene-trait and gene-drug associations with gene modules expressed in specific contexts. The approach utilizes a latent representation derived from a large gene expression compendium to integrate TWAS with drug-induced transcriptional responses for a joint analysis. The framework consists of three main components: an LV-based regression model to compute an association between an LV and a trait, a clustering framework to identify groups of traits with shared transcriptomic properties, and an LV-based drug repurposing approach that links diseases to potential treatments. Extensive simulations were performed for the regression model and clustering framework to ensure proper calibration and expected results under a model of no association.\n"
     ]
    }
   ],
   "source": [
    "par1 = process_paragraph(mod_section_paragraphs[2])\n",
    "print(par1)"
   ]
  },
  {
   "cell_type": "code",
   "execution_count": 63,
   "id": "5791f3c1-eaf4-48e9-878d-b5c068cd0f6d",
   "metadata": {
    "execution": {
     "iopub.execute_input": "2024-03-23T05:12:53.785532Z",
     "iopub.status.busy": "2024-03-23T05:12:53.785098Z",
     "iopub.status.idle": "2024-03-23T05:12:53.787978Z",
     "shell.execute_reply": "2024-03-23T05:12:53.787431Z"
    },
    "papermill": {
     "duration": 0.040096,
     "end_time": "2024-03-23T05:12:53.788686",
     "exception": false,
     "start_time": "2024-03-23T05:12:53.748590",
     "status": "completed"
    },
    "tags": []
   },
   "outputs": [],
   "source": [
    "paragraph_matches.append(\n",
    "    (\n",
    "        section_name,\n",
    "        par0,\n",
    "        par1,\n",
    "    )\n",
    ")"
   ]
  },
  {
   "cell_type": "code",
   "execution_count": 64,
   "id": "82a6f7f9-239f-42dd-84ac-f7a3be77726a",
   "metadata": {
    "execution": {
     "iopub.execute_input": "2024-03-23T05:12:53.861646Z",
     "iopub.status.busy": "2024-03-23T05:12:53.861335Z",
     "iopub.status.idle": "2024-03-23T05:12:53.864997Z",
     "shell.execute_reply": "2024-03-23T05:12:53.864482Z"
    },
    "papermill": {
     "duration": 0.041008,
     "end_time": "2024-03-23T05:12:53.865743",
     "exception": false,
     "start_time": "2024-03-23T05:12:53.824735",
     "status": "completed"
    },
    "tags": []
   },
   "outputs": [
    {
     "data": {
      "text/plain": [
       "('results',\n",
       " 'PhenoPLIER is a flexible computational framework that combines gene-trait and gene-drug associations with gene modules expressed in specific contexts (Figure {@fig:entire_process}a). The approach uses a latent representation (with latent variables or LVs representing gene modules) derived from a large gene expression compendium (Figure {@fig:entire_process}b, top) to integrate TWAS with drug-induced transcriptional responses (Figure {@fig:entire_process}b, middle) for a joint analysis. The approach consists in three main components (Figure {@fig:entire_process}b, bottom, see [Methods](#sec:methods)): 1) an LV-based regression model to compute an association between an LV and a trait, 2) a clustering framework to learn groups of traits with shared transcriptomic properties, and 3) an LV-based drug repurposing approach that links diseases to potential treatments. We performed extensive simulations for our regression model ([Supplementary Note 1](#sm:reg:null_sim)) and clustering framework ([Supplementary Note 2](#sm:clustering:null_sim)) to ensure proper calibration and expected results under a model of no association.',\n",
       " 'PhenoPLIER is a computational framework that combines gene-trait and gene-drug associations with gene modules expressed in specific contexts. The approach utilizes a latent representation derived from a large gene expression compendium to integrate TWAS with drug-induced transcriptional responses for a joint analysis. The framework consists of three main components: an LV-based regression model to compute an association between an LV and a trait, a clustering framework to identify groups of traits with shared transcriptomic properties, and an LV-based drug repurposing approach that links diseases to potential treatments. Extensive simulations were performed for the regression model and clustering framework to ensure proper calibration and expected results under a model of no association.')"
      ]
     },
     "metadata": {},
     "output_type": "display_data"
    }
   ],
   "source": [
    "display(paragraph_matches[-1])"
   ]
  },
  {
   "cell_type": "markdown",
   "id": "54677970-9760-47cf-a20c-6ac791506558",
   "metadata": {
    "editable": true,
    "papermill": {
     "duration": 0.036121,
     "end_time": "2024-03-23T05:12:53.938100",
     "exception": false,
     "start_time": "2024-03-23T05:12:53.901979",
     "status": "completed"
    },
    "slideshow": {
     "slide_type": ""
    },
    "tags": []
   },
   "source": [
    "####  Paragraph 01"
   ]
  },
  {
   "cell_type": "code",
   "execution_count": 65,
   "id": "e7a8c730-895d-44ff-9d5b-fc0722ab3af2",
   "metadata": {
    "execution": {
     "iopub.execute_input": "2024-03-23T05:12:54.010726Z",
     "iopub.status.busy": "2024-03-23T05:12:54.010291Z",
     "iopub.status.idle": "2024-03-23T05:12:54.013400Z",
     "shell.execute_reply": "2024-03-23T05:12:54.012895Z"
    },
    "papermill": {
     "duration": 0.040047,
     "end_time": "2024-03-23T05:12:54.014162",
     "exception": false,
     "start_time": "2024-03-23T05:12:53.974115",
     "status": "completed"
    },
    "tags": []
   },
   "outputs": [
    {
     "name": "stdout",
     "output_type": "stream",
     "text": [
      "We used TWAS results from PhenomeXcan [@doi:10.1126/sciadv.aba2083] and the eMERGE network [@doi:10.1101/2021.10.21.21265225] as discovery and replication cohorts, respectively ([Methods](#sec:methods:twas)). PhenomeXcan provides gene-trait associations for 4,091 different diseases and traits from the UK Biobank [@doi:10.1038/s41586-018-0579-z] and other studies, whereas the analyses on eMERGE were performed across 309 phecodes. TWAS results were derived using two statistical methods (see [Methods](#sec:methods:predixcan)): 1) Summary-MultiXcan (S-MultiXcan) associations were used for the regression and clustering components, and 2) Summary-PrediXcan (S-PrediXcan) associations were used for the drug repurposing component. In addition, we also used colocalization results, which provide a probability of overlap between the GWAS and eQTL signals. For the drug-repurposing approach, we used transcriptional responses to small molecule perturbations from LINCS L1000 [@doi:10.1016/j.cell.2017.10.049] comprising 1,170 compounds.\n"
     ]
    }
   ],
   "source": [
    "par0 = process_paragraph(orig_section_paragraphs[3])\n",
    "print(par0)"
   ]
  },
  {
   "cell_type": "code",
   "execution_count": 66,
   "id": "897f4530-80a0-42f0-815d-420db56222be",
   "metadata": {
    "execution": {
     "iopub.execute_input": "2024-03-23T05:12:54.087012Z",
     "iopub.status.busy": "2024-03-23T05:12:54.086724Z",
     "iopub.status.idle": "2024-03-23T05:12:54.089735Z",
     "shell.execute_reply": "2024-03-23T05:12:54.089225Z"
    },
    "papermill": {
     "duration": 0.040176,
     "end_time": "2024-03-23T05:12:54.090463",
     "exception": false,
     "start_time": "2024-03-23T05:12:54.050287",
     "status": "completed"
    },
    "tags": []
   },
   "outputs": [
    {
     "name": "stdout",
     "output_type": "stream",
     "text": [
      "TWAS results from PhenomeXcan and the eMERGE network were used as discovery and replication cohorts, respectively. PhenomeXcan provided gene-trait associations for 4,091 diseases and traits from the UK Biobank and other studies, while eMERGE analyses were conducted across 309 phecodes. TWAS results utilized two statistical methods: Summary-MultiXcan (S-MultiXcan) associations for regression and clustering, and Summary-PrediXcan (S-PrediXcan) associations for drug repurposing. Colocalization results were also incorporated to assess overlap between GWAS and eQTL signals. For drug repurposing, transcriptional responses to small molecule perturbations from LINCS L1000 were utilized, encompassing 1,170 compounds.\n"
     ]
    }
   ],
   "source": [
    "par1 = process_paragraph(mod_section_paragraphs[3])\n",
    "print(par1)"
   ]
  },
  {
   "cell_type": "code",
   "execution_count": 67,
   "id": "bec3245b-e9e6-4024-816b-0177e92643eb",
   "metadata": {
    "execution": {
     "iopub.execute_input": "2024-03-23T05:12:54.163664Z",
     "iopub.status.busy": "2024-03-23T05:12:54.163457Z",
     "iopub.status.idle": "2024-03-23T05:12:54.166266Z",
     "shell.execute_reply": "2024-03-23T05:12:54.165701Z"
    },
    "papermill": {
     "duration": 0.040265,
     "end_time": "2024-03-23T05:12:54.166938",
     "exception": false,
     "start_time": "2024-03-23T05:12:54.126673",
     "status": "completed"
    },
    "tags": []
   },
   "outputs": [],
   "source": [
    "paragraph_matches.append(\n",
    "    (\n",
    "        section_name,\n",
    "        par0,\n",
    "        par1,\n",
    "    )\n",
    ")"
   ]
  },
  {
   "cell_type": "code",
   "execution_count": 68,
   "id": "910b7c5a-853a-44b1-b916-4d4d5c9e8187",
   "metadata": {
    "execution": {
     "iopub.execute_input": "2024-03-23T05:12:54.240299Z",
     "iopub.status.busy": "2024-03-23T05:12:54.239983Z",
     "iopub.status.idle": "2024-03-23T05:12:54.243603Z",
     "shell.execute_reply": "2024-03-23T05:12:54.243107Z"
    },
    "papermill": {
     "duration": 0.041337,
     "end_time": "2024-03-23T05:12:54.244276",
     "exception": false,
     "start_time": "2024-03-23T05:12:54.202939",
     "status": "completed"
    },
    "tags": []
   },
   "outputs": [
    {
     "data": {
      "text/plain": [
       "('results',\n",
       " 'We used TWAS results from PhenomeXcan [@doi:10.1126/sciadv.aba2083] and the eMERGE network [@doi:10.1101/2021.10.21.21265225] as discovery and replication cohorts, respectively ([Methods](#sec:methods:twas)). PhenomeXcan provides gene-trait associations for 4,091 different diseases and traits from the UK Biobank [@doi:10.1038/s41586-018-0579-z] and other studies, whereas the analyses on eMERGE were performed across 309 phecodes. TWAS results were derived using two statistical methods (see [Methods](#sec:methods:predixcan)): 1) Summary-MultiXcan (S-MultiXcan) associations were used for the regression and clustering components, and 2) Summary-PrediXcan (S-PrediXcan) associations were used for the drug repurposing component. In addition, we also used colocalization results, which provide a probability of overlap between the GWAS and eQTL signals. For the drug-repurposing approach, we used transcriptional responses to small molecule perturbations from LINCS L1000 [@doi:10.1016/j.cell.2017.10.049] comprising 1,170 compounds.',\n",
       " 'TWAS results from PhenomeXcan and the eMERGE network were used as discovery and replication cohorts, respectively. PhenomeXcan provided gene-trait associations for 4,091 diseases and traits from the UK Biobank and other studies, while eMERGE analyses were conducted across 309 phecodes. TWAS results utilized two statistical methods: Summary-MultiXcan (S-MultiXcan) associations for regression and clustering, and Summary-PrediXcan (S-PrediXcan) associations for drug repurposing. Colocalization results were also incorporated to assess overlap between GWAS and eQTL signals. For drug repurposing, transcriptional responses to small molecule perturbations from LINCS L1000 were utilized, encompassing 1,170 compounds.')"
      ]
     },
     "metadata": {},
     "output_type": "display_data"
    }
   ],
   "source": [
    "display(paragraph_matches[-1])"
   ]
  },
  {
   "cell_type": "markdown",
   "id": "224e09a6-cc0e-43dd-8e08-1f438a955b90",
   "metadata": {
    "editable": true,
    "papermill": {
     "duration": 0.064015,
     "end_time": "2024-03-23T05:12:54.344751",
     "exception": false,
     "start_time": "2024-03-23T05:12:54.280736",
     "status": "completed"
    },
    "slideshow": {
     "slide_type": ""
    },
    "tags": []
   },
   "source": [
    "####  Paragraph 02"
   ]
  },
  {
   "cell_type": "code",
   "execution_count": 69,
   "id": "ec3e6e21-1e35-444e-9d22-1c227583767e",
   "metadata": {
    "execution": {
     "iopub.execute_input": "2024-03-23T05:12:54.418272Z",
     "iopub.status.busy": "2024-03-23T05:12:54.417940Z",
     "iopub.status.idle": "2024-03-23T05:12:54.421016Z",
     "shell.execute_reply": "2024-03-23T05:12:54.420482Z"
    },
    "papermill": {
     "duration": 0.040486,
     "end_time": "2024-03-23T05:12:54.421709",
     "exception": false,
     "start_time": "2024-03-23T05:12:54.381223",
     "status": "completed"
    },
    "tags": []
   },
   "outputs": [
    {
     "name": "stdout",
     "output_type": "stream",
     "text": [
      "The latent gene expression representation was obtained from the MultiPLIER models [@doi:10.1016/j.cels.2019.04.003], which were derived by applying a matrix factorization method (the pathway-level information extractor or PLIER [@doi:10.1038/s41592-019-0456-1]) to recount2 [@doi:10.1038/nbt.3838] -- a uniformly-curated collection of transcript-level gene expression quantified by RNA-seq in a large, diverse set of samples collected across a range of disease states, cell types differentiation stages, and various stimuli (see [Methods](#sec:methods:multiplier)). The MultiPLIER models extracted 987 LVs by optimizing data reconstruction but also the alignment of LVs with prior knowledge/pathways.\n"
     ]
    }
   ],
   "source": [
    "par0 = process_paragraph(orig_section_paragraphs[4])\n",
    "print(par0)"
   ]
  },
  {
   "cell_type": "code",
   "execution_count": 70,
   "id": "fd849412-a233-4688-b0f1-ad51c4f9da8e",
   "metadata": {
    "execution": {
     "iopub.execute_input": "2024-03-23T05:12:54.495292Z",
     "iopub.status.busy": "2024-03-23T05:12:54.494976Z",
     "iopub.status.idle": "2024-03-23T05:12:54.498015Z",
     "shell.execute_reply": "2024-03-23T05:12:54.497469Z"
    },
    "papermill": {
     "duration": 0.040599,
     "end_time": "2024-03-23T05:12:54.498756",
     "exception": false,
     "start_time": "2024-03-23T05:12:54.458157",
     "status": "completed"
    },
    "tags": []
   },
   "outputs": [
    {
     "name": "stdout",
     "output_type": "stream",
     "text": [
      "The latent gene expression representation was obtained from the MultiPLIER models, which were derived using a matrix factorization method called the pathway-level information extractor (PLIER) applied to recount2. Recount2 is a uniformly-curated collection of transcript-level gene expression quantified by RNA-seq in a large, diverse set of samples collected across different disease states, cell types, differentiation stages, and stimuli. The MultiPLIER models extracted 987 latent variables (LVs) by optimizing data reconstruction and aligning LVs with prior knowledge and pathways.\n"
     ]
    }
   ],
   "source": [
    "par1 = process_paragraph(mod_section_paragraphs[4])\n",
    "print(par1)"
   ]
  },
  {
   "cell_type": "code",
   "execution_count": 71,
   "id": "e629eec0-1679-40dd-a444-e15d198547c0",
   "metadata": {
    "execution": {
     "iopub.execute_input": "2024-03-23T05:12:54.572432Z",
     "iopub.status.busy": "2024-03-23T05:12:54.572120Z",
     "iopub.status.idle": "2024-03-23T05:12:54.574836Z",
     "shell.execute_reply": "2024-03-23T05:12:54.574318Z"
    },
    "papermill": {
     "duration": 0.04019,
     "end_time": "2024-03-23T05:12:54.575499",
     "exception": false,
     "start_time": "2024-03-23T05:12:54.535309",
     "status": "completed"
    },
    "tags": []
   },
   "outputs": [],
   "source": [
    "paragraph_matches.append(\n",
    "    (\n",
    "        section_name,\n",
    "        par0,\n",
    "        par1,\n",
    "    )\n",
    ")"
   ]
  },
  {
   "cell_type": "code",
   "execution_count": 72,
   "id": "05fc5802-dd47-4838-9230-f8d4908c830e",
   "metadata": {
    "execution": {
     "iopub.execute_input": "2024-03-23T05:12:54.649160Z",
     "iopub.status.busy": "2024-03-23T05:12:54.648818Z",
     "iopub.status.idle": "2024-03-23T05:12:54.652765Z",
     "shell.execute_reply": "2024-03-23T05:12:54.652247Z"
    },
    "papermill": {
     "duration": 0.041815,
     "end_time": "2024-03-23T05:12:54.653555",
     "exception": false,
     "start_time": "2024-03-23T05:12:54.611740",
     "status": "completed"
    },
    "tags": []
   },
   "outputs": [
    {
     "data": {
      "text/plain": [
       "('results',\n",
       " 'The latent gene expression representation was obtained from the MultiPLIER models [@doi:10.1016/j.cels.2019.04.003], which were derived by applying a matrix factorization method (the pathway-level information extractor or PLIER [@doi:10.1038/s41592-019-0456-1]) to recount2 [@doi:10.1038/nbt.3838] -- a uniformly-curated collection of transcript-level gene expression quantified by RNA-seq in a large, diverse set of samples collected across a range of disease states, cell types differentiation stages, and various stimuli (see [Methods](#sec:methods:multiplier)). The MultiPLIER models extracted 987 LVs by optimizing data reconstruction but also the alignment of LVs with prior knowledge/pathways.',\n",
       " 'The latent gene expression representation was obtained from the MultiPLIER models, which were derived using a matrix factorization method called the pathway-level information extractor (PLIER) applied to recount2. Recount2 is a uniformly-curated collection of transcript-level gene expression quantified by RNA-seq in a large, diverse set of samples collected across different disease states, cell types, differentiation stages, and stimuli. The MultiPLIER models extracted 987 latent variables (LVs) by optimizing data reconstruction and aligning LVs with prior knowledge and pathways.')"
      ]
     },
     "metadata": {},
     "output_type": "display_data"
    }
   ],
   "source": [
    "display(paragraph_matches[-1])"
   ]
  },
  {
   "cell_type": "markdown",
   "id": "ce6f77bc-3336-45a3-8c3b-bf2f2a36767c",
   "metadata": {
    "editable": true,
    "papermill": {
     "duration": 0.036369,
     "end_time": "2024-03-23T05:12:54.726198",
     "exception": false,
     "start_time": "2024-03-23T05:12:54.689829",
     "status": "completed"
    },
    "slideshow": {
     "slide_type": ""
    },
    "tags": []
   },
   "source": [
    "####  Paragraph 03"
   ]
  },
  {
   "cell_type": "code",
   "execution_count": 73,
   "id": "fb1d570a-b361-48f3-9eef-8250d6330b10",
   "metadata": {
    "execution": {
     "iopub.execute_input": "2024-03-23T05:12:54.799638Z",
     "iopub.status.busy": "2024-03-23T05:12:54.799228Z",
     "iopub.status.idle": "2024-03-23T05:12:54.802430Z",
     "shell.execute_reply": "2024-03-23T05:12:54.801906Z"
    },
    "papermill": {
     "duration": 0.040595,
     "end_time": "2024-03-23T05:12:54.803133",
     "exception": false,
     "start_time": "2024-03-23T05:12:54.762538",
     "status": "completed"
    },
    "tags": []
   },
   "outputs": [
    {
     "name": "stdout",
     "output_type": "stream",
     "text": [
      "Each LV or gene module represents a group of weighted genes expressed together in the same tissues and cell types as a functional unit. Since LVs might represent a functional set of genes regulated by the same transcriptional program [@doi:10.1186/1471-2164-7-187; @doi:10.1186/s13059-019-1835-8], we conjecture that the projection of TWAS and pharmacologic perturbations data into this latent space could provide a better mechanistic understanding. For this projection of different data modalities into the same space, PhenoPLIER converts gene associations to an LV score: all genes' standardized effect sizes for a trait (from TWAS) or differential expression values for a drug (from pharmacologic perturbation data) are multiplied by the LV genes' weights and summed, producing a single value. Instead of looking at individual genes, this process links different traits and drugs to functionally-related groups of genes or LVs. PhenoPLIER uses LVs annotations about the specific conditions where the group of genes is expressed, such as cell types and tissues, even at specific developmental stages, disease stages or under distinct stimuli. Although this is not strictly necessary for PhenoPLIER to work, these annotations can dramatically improve the interpretability of results. MultiPLIER's models provide this information by linking LVs to samples, which may be annotated for experimental conditions (represented by matrix $\\mathbf{B}$ at the top of Figure {@fig:entire_process}b) in which genes in an LV are expressed. An example of this is shown in Figure {@fig:entire_process}c. In the original MultiPLIER study, the authors reported that one of the latent variables, identified as LV603, was associated with a known neutrophil pathway and highly correlated with neutrophil count estimates from whole blood RNA-seq profiles [@doi:10.1186/s13059-016-1070-5]. We analyzed LV603 using PhenoPLIER and found that 1) neutrophil counts and other white blood cell traits were ranked among the top 10 traits out of 4,091 (Figure {@fig:entire_process}c, bottom), and basophils count and percentage were significantly associated with this LV when using our regression method (Table @tbl:sup:phenomexcan_assocs:lv603), and 2) LV603's genes were expressed in highly relevant cell types (Figure {@fig:entire_process}c, top). These initial results suggested that groups of functionally related and co-expressed genes tend to correspond to groups of trait-associated genes, and the approach can link transcriptional mechanisms from large and diverse dataset collections to complex traits.\n"
     ]
    }
   ],
   "source": [
    "par0 = process_paragraph(orig_section_paragraphs[5])\n",
    "print(par0)"
   ]
  },
  {
   "cell_type": "code",
   "execution_count": 74,
   "id": "8abab642-6570-4219-9a58-a70726dd3f7b",
   "metadata": {
    "execution": {
     "iopub.execute_input": "2024-03-23T05:12:54.877214Z",
     "iopub.status.busy": "2024-03-23T05:12:54.876806Z",
     "iopub.status.idle": "2024-03-23T05:12:54.879997Z",
     "shell.execute_reply": "2024-03-23T05:12:54.879466Z"
    },
    "papermill": {
     "duration": 0.041108,
     "end_time": "2024-03-23T05:12:54.880744",
     "exception": false,
     "start_time": "2024-03-23T05:12:54.839636",
     "status": "completed"
    },
    "tags": []
   },
   "outputs": [
    {
     "name": "stdout",
     "output_type": "stream",
     "text": [
      "Each latent variable (LV) or gene module represents a group of weighted genes expressed together in the same tissues and cell types as a functional unit. LVs may represent a set of genes regulated by the same transcriptional program, allowing for a better mechanistic understanding when projecting TWAS and pharmacologic perturbations data into this latent space. PhenoPLIER converts gene associations to an LV score by multiplying all genes' standardized effect sizes for a trait (from TWAS) or differential expression values for a drug (from pharmacologic perturbation data) by the LV genes' weights and summing them to produce a single value. This process links different traits and drugs to functionally-related groups of genes or LVs, with annotations about the specific conditions where the group of genes is expressed, such as cell types, tissues, disease stages, or developmental stages, enhancing interpretability. MultiPLIER's models provide this information by linking LVs to samples annotated for experimental conditions. For example, LV603 was associated with a neutrophil pathway and correlated with neutrophil count estimates from whole blood RNA-seq profiles. Analysis of LV603 using PhenoPLIER revealed that neutrophil counts and other white blood cell traits ranked among the top 10 traits, and basophils count and percentage were significantly associated with this LV. Additionally, LV603's genes were expressed in relevant cell types. These findings suggest that groups of functionally related and co-expressed genes correspond to trait-associated genes, linking transcriptional mechanisms to complex traits from diverse dataset collections.\n"
     ]
    }
   ],
   "source": [
    "par1 = process_paragraph(mod_section_paragraphs[5])\n",
    "print(par1)"
   ]
  },
  {
   "cell_type": "code",
   "execution_count": 75,
   "id": "b9004c50-2cd4-4b51-8246-27dd23aa32de",
   "metadata": {
    "execution": {
     "iopub.execute_input": "2024-03-23T05:12:54.954713Z",
     "iopub.status.busy": "2024-03-23T05:12:54.954283Z",
     "iopub.status.idle": "2024-03-23T05:12:54.957081Z",
     "shell.execute_reply": "2024-03-23T05:12:54.956551Z"
    },
    "papermill": {
     "duration": 0.040802,
     "end_time": "2024-03-23T05:12:54.957852",
     "exception": false,
     "start_time": "2024-03-23T05:12:54.917050",
     "status": "completed"
    },
    "tags": []
   },
   "outputs": [],
   "source": [
    "paragraph_matches.append(\n",
    "    (\n",
    "        section_name,\n",
    "        par0,\n",
    "        par1,\n",
    "    )\n",
    ")"
   ]
  },
  {
   "cell_type": "code",
   "execution_count": 76,
   "id": "3792a797-4c29-4051-a9c8-38b374a242ed",
   "metadata": {
    "execution": {
     "iopub.execute_input": "2024-03-23T05:12:55.031598Z",
     "iopub.status.busy": "2024-03-23T05:12:55.031082Z",
     "iopub.status.idle": "2024-03-23T05:12:55.035305Z",
     "shell.execute_reply": "2024-03-23T05:12:55.034772Z"
    },
    "papermill": {
     "duration": 0.041925,
     "end_time": "2024-03-23T05:12:55.036017",
     "exception": false,
     "start_time": "2024-03-23T05:12:54.994092",
     "status": "completed"
    },
    "tags": []
   },
   "outputs": [
    {
     "data": {
      "text/plain": [
       "('results',\n",
       " \"Each LV or gene module represents a group of weighted genes expressed together in the same tissues and cell types as a functional unit. Since LVs might represent a functional set of genes regulated by the same transcriptional program [@doi:10.1186/1471-2164-7-187; @doi:10.1186/s13059-019-1835-8], we conjecture that the projection of TWAS and pharmacologic perturbations data into this latent space could provide a better mechanistic understanding. For this projection of different data modalities into the same space, PhenoPLIER converts gene associations to an LV score: all genes' standardized effect sizes for a trait (from TWAS) or differential expression values for a drug (from pharmacologic perturbation data) are multiplied by the LV genes' weights and summed, producing a single value. Instead of looking at individual genes, this process links different traits and drugs to functionally-related groups of genes or LVs. PhenoPLIER uses LVs annotations about the specific conditions where the group of genes is expressed, such as cell types and tissues, even at specific developmental stages, disease stages or under distinct stimuli. Although this is not strictly necessary for PhenoPLIER to work, these annotations can dramatically improve the interpretability of results. MultiPLIER's models provide this information by linking LVs to samples, which may be annotated for experimental conditions (represented by matrix $\\\\mathbf{B}$ at the top of Figure {@fig:entire_process}b) in which genes in an LV are expressed. An example of this is shown in Figure {@fig:entire_process}c. In the original MultiPLIER study, the authors reported that one of the latent variables, identified as LV603, was associated with a known neutrophil pathway and highly correlated with neutrophil count estimates from whole blood RNA-seq profiles [@doi:10.1186/s13059-016-1070-5]. We analyzed LV603 using PhenoPLIER and found that 1) neutrophil counts and other white blood cell traits were ranked among the top 10 traits out of 4,091 (Figure {@fig:entire_process}c, bottom), and basophils count and percentage were significantly associated with this LV when using our regression method (Table @tbl:sup:phenomexcan_assocs:lv603), and 2) LV603's genes were expressed in highly relevant cell types (Figure {@fig:entire_process}c, top). These initial results suggested that groups of functionally related and co-expressed genes tend to correspond to groups of trait-associated genes, and the approach can link transcriptional mechanisms from large and diverse dataset collections to complex traits.\",\n",
       " \"Each latent variable (LV) or gene module represents a group of weighted genes expressed together in the same tissues and cell types as a functional unit. LVs may represent a set of genes regulated by the same transcriptional program, allowing for a better mechanistic understanding when projecting TWAS and pharmacologic perturbations data into this latent space. PhenoPLIER converts gene associations to an LV score by multiplying all genes' standardized effect sizes for a trait (from TWAS) or differential expression values for a drug (from pharmacologic perturbation data) by the LV genes' weights and summing them to produce a single value. This process links different traits and drugs to functionally-related groups of genes or LVs, with annotations about the specific conditions where the group of genes is expressed, such as cell types, tissues, disease stages, or developmental stages, enhancing interpretability. MultiPLIER's models provide this information by linking LVs to samples annotated for experimental conditions. For example, LV603 was associated with a neutrophil pathway and correlated with neutrophil count estimates from whole blood RNA-seq profiles. Analysis of LV603 using PhenoPLIER revealed that neutrophil counts and other white blood cell traits ranked among the top 10 traits, and basophils count and percentage were significantly associated with this LV. Additionally, LV603's genes were expressed in relevant cell types. These findings suggest that groups of functionally related and co-expressed genes correspond to trait-associated genes, linking transcriptional mechanisms to complex traits from diverse dataset collections.\")"
      ]
     },
     "metadata": {},
     "output_type": "display_data"
    }
   ],
   "source": [
    "display(paragraph_matches[-1])"
   ]
  },
  {
   "cell_type": "markdown",
   "id": "8a1dd3a1-0bdf-4072-9ac1-6a5c8809e972",
   "metadata": {
    "editable": true,
    "papermill": {
     "duration": 0.036263,
     "end_time": "2024-03-23T05:12:55.108904",
     "exception": false,
     "start_time": "2024-03-23T05:12:55.072641",
     "status": "completed"
    },
    "slideshow": {
     "slide_type": ""
    },
    "tags": []
   },
   "source": [
    "####  Paragraph 04"
   ]
  },
  {
   "cell_type": "code",
   "execution_count": 77,
   "id": "c1913824-ad2d-4bc8-bf7c-e9d6b0be7824",
   "metadata": {
    "execution": {
     "iopub.execute_input": "2024-03-23T05:12:55.209708Z",
     "iopub.status.busy": "2024-03-23T05:12:55.209356Z",
     "iopub.status.idle": "2024-03-23T05:12:55.212612Z",
     "shell.execute_reply": "2024-03-23T05:12:55.212080Z"
    },
    "papermill": {
     "duration": 0.068135,
     "end_time": "2024-03-23T05:12:55.213378",
     "exception": false,
     "start_time": "2024-03-23T05:12:55.145243",
     "status": "completed"
    },
    "tags": []
   },
   "outputs": [
    {
     "name": "stdout",
     "output_type": "stream",
     "text": [
      "Therefore, PhenoPLIER allows the user to address specific questions, namely: do disease-associated genes belong to modules expressed in specific tissues and cell types? Are these cell type-specific modules associated with _different_ diseases, thus potentially representing a \"network pleiotropy\" example from an omnigenic point of view [@doi:10.1016/j.cell.2017.05.038]? Is there a subset of module's genes that is closer to the definition of \"core\" genes (i.e., directly affecting the trait with no mediated regulation of other genes [@doi:10.1016/j.cell.2019.04.014]) and thus represents alternative and potentially better candidate targets? Are drugs perturbing these transcriptional mechanisms, and can they suggest potential mechanisms of action?\n"
     ]
    }
   ],
   "source": [
    "par0 = process_paragraph(orig_section_paragraphs[6])\n",
    "print(par0)"
   ]
  },
  {
   "cell_type": "code",
   "execution_count": 78,
   "id": "a16c9e7b-e701-4756-96b8-9dd468b2adb3",
   "metadata": {
    "execution": {
     "iopub.execute_input": "2024-03-23T05:12:55.287649Z",
     "iopub.status.busy": "2024-03-23T05:12:55.287330Z",
     "iopub.status.idle": "2024-03-23T05:12:55.290395Z",
     "shell.execute_reply": "2024-03-23T05:12:55.289865Z"
    },
    "papermill": {
     "duration": 0.040636,
     "end_time": "2024-03-23T05:12:55.291161",
     "exception": false,
     "start_time": "2024-03-23T05:12:55.250525",
     "status": "completed"
    },
    "tags": []
   },
   "outputs": [
    {
     "name": "stdout",
     "output_type": "stream",
     "text": [
      "PhenoPLIER enables users to explore whether disease-associated genes are part of modules expressed in specific tissues and cell types. These cell type-specific modules may be linked to various diseases, demonstrating a concept of \"network pleiotropy\" from an omnigenic perspective. Additionally, PhenoPLIER can identify a subset of genes within modules that directly impact traits, known as \"core\" genes, which could serve as alternative and potentially more effective therapeutic targets. Furthermore, the tool can identify drugs that perturb these transcriptional mechanisms, providing insights into potential mechanisms of action.\n"
     ]
    }
   ],
   "source": [
    "par1 = process_paragraph(mod_section_paragraphs[6])\n",
    "print(par1)"
   ]
  },
  {
   "cell_type": "code",
   "execution_count": 79,
   "id": "5959eea5-56f8-4217-8f04-1f1718ad4e52",
   "metadata": {
    "execution": {
     "iopub.execute_input": "2024-03-23T05:12:55.365634Z",
     "iopub.status.busy": "2024-03-23T05:12:55.365294Z",
     "iopub.status.idle": "2024-03-23T05:12:55.368157Z",
     "shell.execute_reply": "2024-03-23T05:12:55.367650Z"
    },
    "papermill": {
     "duration": 0.041121,
     "end_time": "2024-03-23T05:12:55.368914",
     "exception": false,
     "start_time": "2024-03-23T05:12:55.327793",
     "status": "completed"
    },
    "tags": []
   },
   "outputs": [],
   "source": [
    "paragraph_matches.append(\n",
    "    (\n",
    "        section_name,\n",
    "        par0,\n",
    "        par1,\n",
    "    )\n",
    ")"
   ]
  },
  {
   "cell_type": "code",
   "execution_count": 80,
   "id": "3ebcf502-7f17-42bd-bf35-a4ea224094e9",
   "metadata": {
    "execution": {
     "iopub.execute_input": "2024-03-23T05:12:55.445282Z",
     "iopub.status.busy": "2024-03-23T05:12:55.444881Z",
     "iopub.status.idle": "2024-03-23T05:12:55.448582Z",
     "shell.execute_reply": "2024-03-23T05:12:55.448079Z"
    },
    "papermill": {
     "duration": 0.04289,
     "end_time": "2024-03-23T05:12:55.449281",
     "exception": false,
     "start_time": "2024-03-23T05:12:55.406391",
     "status": "completed"
    },
    "tags": []
   },
   "outputs": [
    {
     "data": {
      "text/plain": [
       "('results',\n",
       " 'Therefore, PhenoPLIER allows the user to address specific questions, namely: do disease-associated genes belong to modules expressed in specific tissues and cell types? Are these cell type-specific modules associated with _different_ diseases, thus potentially representing a \"network pleiotropy\" example from an omnigenic point of view [@doi:10.1016/j.cell.2017.05.038]? Is there a subset of module\\'s genes that is closer to the definition of \"core\" genes (i.e., directly affecting the trait with no mediated regulation of other genes [@doi:10.1016/j.cell.2019.04.014]) and thus represents alternative and potentially better candidate targets? Are drugs perturbing these transcriptional mechanisms, and can they suggest potential mechanisms of action?',\n",
       " 'PhenoPLIER enables users to explore whether disease-associated genes are part of modules expressed in specific tissues and cell types. These cell type-specific modules may be linked to various diseases, demonstrating a concept of \"network pleiotropy\" from an omnigenic perspective. Additionally, PhenoPLIER can identify a subset of genes within modules that directly impact traits, known as \"core\" genes, which could serve as alternative and potentially more effective therapeutic targets. Furthermore, the tool can identify drugs that perturb these transcriptional mechanisms, providing insights into potential mechanisms of action.')"
      ]
     },
     "metadata": {},
     "output_type": "display_data"
    }
   ],
   "source": [
    "display(paragraph_matches[-1])"
   ]
  },
  {
   "cell_type": "markdown",
   "id": "5378cdea-49c1-4129-85c8-ce20eb845253",
   "metadata": {
    "editable": true,
    "papermill": {
     "duration": 0.036122,
     "end_time": "2024-03-23T05:12:55.522221",
     "exception": false,
     "start_time": "2024-03-23T05:12:55.486099",
     "status": "completed"
    },
    "slideshow": {
     "slide_type": ""
    },
    "tags": []
   },
   "source": [
    "## Results (CRISPR)"
   ]
  },
  {
   "cell_type": "code",
   "execution_count": 81,
   "id": "a7ff9fd2-527d-432e-a6ee-87e68e3835d0",
   "metadata": {
    "execution": {
     "iopub.execute_input": "2024-03-23T05:12:55.595983Z",
     "iopub.status.busy": "2024-03-23T05:12:55.595668Z",
     "iopub.status.idle": "2024-03-23T05:12:55.598169Z",
     "shell.execute_reply": "2024-03-23T05:12:55.597633Z"
    },
    "papermill": {
     "duration": 0.040044,
     "end_time": "2024-03-23T05:12:55.598849",
     "exception": false,
     "start_time": "2024-03-23T05:12:55.558805",
     "status": "completed"
    },
    "tags": []
   },
   "outputs": [],
   "source": [
    "# section_name = \"results\""
   ]
  },
  {
   "cell_type": "code",
   "execution_count": 82,
   "id": "802bafd0-ef49-415d-b5b0-2a7bce08d7e0",
   "metadata": {
    "editable": true,
    "execution": {
     "iopub.execute_input": "2024-03-23T05:12:55.672856Z",
     "iopub.status.busy": "2024-03-23T05:12:55.672667Z",
     "iopub.status.idle": "2024-03-23T05:12:55.675996Z",
     "shell.execute_reply": "2024-03-23T05:12:55.675450Z"
    },
    "papermill": {
     "duration": 0.041207,
     "end_time": "2024-03-23T05:12:55.676741",
     "exception": false,
     "start_time": "2024-03-23T05:12:55.635534",
     "status": "completed"
    },
    "slideshow": {
     "slide_type": ""
    },
    "tags": []
   },
   "outputs": [
    {
     "name": "stdout",
     "output_type": "stream",
     "text": [
      "content/04.05.01.results_crispr.md\n"
     ]
    }
   ],
   "source": [
    "pr_filename = pr_files[3].filename\n",
    "assert section_name in pr_filename\n",
    "assert \"crispr\" in pr_filename\n",
    "print(pr_filename)"
   ]
  },
  {
   "cell_type": "markdown",
   "id": "7bbf04e3-cd72-4c37-9caf-42214febd7f7",
   "metadata": {
    "editable": true,
    "papermill": {
     "duration": 0.036599,
     "end_time": "2024-03-23T05:12:55.749887",
     "exception": false,
     "start_time": "2024-03-23T05:12:55.713288",
     "status": "completed"
    },
    "slideshow": {
     "slide_type": ""
    },
    "tags": []
   },
   "source": [
    "### Original"
   ]
  },
  {
   "cell_type": "code",
   "execution_count": 83,
   "id": "dadf6e36-d928-476a-8587-33a3d8e79e28",
   "metadata": {
    "execution": {
     "iopub.execute_input": "2024-03-23T05:12:55.823866Z",
     "iopub.status.busy": "2024-03-23T05:12:55.823474Z",
     "iopub.status.idle": "2024-03-23T05:12:56.004276Z",
     "shell.execute_reply": "2024-03-23T05:12:56.003750Z"
    },
    "papermill": {
     "duration": 0.218531,
     "end_time": "2024-03-23T05:12:56.004999",
     "exception": false,
     "start_time": "2024-03-23T05:12:55.786468",
     "status": "completed"
    },
    "tags": []
   },
   "outputs": [
    {
     "name": "stdout",
     "output_type": "stream",
     "text": [
      "### LVs link genes that alter lipid accumulation w\n"
     ]
    }
   ],
   "source": [
    "# get content\n",
    "orig_section_content = repo.get_contents(pr_filename, pr_prev).decoded_content.decode(\n",
    "    \"utf-8\"\n",
    ")\n",
    "print(orig_section_content[:50])"
   ]
  },
  {
   "cell_type": "code",
   "execution_count": 84,
   "id": "86a9308c-584c-4d26-988f-7db7de6aa3ed",
   "metadata": {
    "execution": {
     "iopub.execute_input": "2024-03-23T05:12:56.104093Z",
     "iopub.status.busy": "2024-03-23T05:12:56.103815Z",
     "iopub.status.idle": "2024-03-23T05:12:56.107515Z",
     "shell.execute_reply": "2024-03-23T05:12:56.106971Z"
    },
    "papermill": {
     "duration": 0.048989,
     "end_time": "2024-03-23T05:12:56.108215",
     "exception": false,
     "start_time": "2024-03-23T05:12:56.059226",
     "status": "completed"
    },
    "tags": []
   },
   "outputs": [
    {
     "data": {
      "text/plain": [
       "6"
      ]
     },
     "metadata": {},
     "output_type": "display_data"
    }
   ],
   "source": [
    "# split by paragraph\n",
    "orig_section_paragraphs = orig_section_content.split(\"\\n\\n\")\n",
    "display(len(orig_section_paragraphs))"
   ]
  },
  {
   "cell_type": "markdown",
   "id": "fb2bc862-534e-475c-8646-43a259de6e52",
   "metadata": {
    "editable": true,
    "papermill": {
     "duration": 0.063141,
     "end_time": "2024-03-23T05:12:56.208408",
     "exception": false,
     "start_time": "2024-03-23T05:12:56.145267",
     "status": "completed"
    },
    "slideshow": {
     "slide_type": ""
    },
    "tags": []
   },
   "source": [
    "### Modified"
   ]
  },
  {
   "cell_type": "code",
   "execution_count": 85,
   "id": "542ad54c-34b1-4d00-af8d-fbe081f42b4a",
   "metadata": {
    "execution": {
     "iopub.execute_input": "2024-03-23T05:12:56.283309Z",
     "iopub.status.busy": "2024-03-23T05:12:56.282914Z",
     "iopub.status.idle": "2024-03-23T05:12:56.419513Z",
     "shell.execute_reply": "2024-03-23T05:12:56.418967Z"
    },
    "papermill": {
     "duration": 0.17506,
     "end_time": "2024-03-23T05:12:56.420420",
     "exception": false,
     "start_time": "2024-03-23T05:12:56.245360",
     "status": "completed"
    },
    "tags": []
   },
   "outputs": [
    {
     "name": "stdout",
     "output_type": "stream",
     "text": [
      "### LVs link genes that alter lipid accumulation w\n"
     ]
    }
   ],
   "source": [
    "# get content\n",
    "mod_section_content = repo.get_contents(pr_filename, pr_curr).decoded_content.decode(\n",
    "    \"utf-8\"\n",
    ")\n",
    "print(mod_section_content[:50])"
   ]
  },
  {
   "cell_type": "code",
   "execution_count": 86,
   "id": "706d34cf-1ca0-43e4-86a0-57d9f5a60612",
   "metadata": {
    "execution": {
     "iopub.execute_input": "2024-03-23T05:12:56.520073Z",
     "iopub.status.busy": "2024-03-23T05:12:56.519733Z",
     "iopub.status.idle": "2024-03-23T05:12:56.523607Z",
     "shell.execute_reply": "2024-03-23T05:12:56.523058Z"
    },
    "papermill": {
     "duration": 0.049347,
     "end_time": "2024-03-23T05:12:56.524345",
     "exception": false,
     "start_time": "2024-03-23T05:12:56.474998",
     "status": "completed"
    },
    "tags": []
   },
   "outputs": [
    {
     "data": {
      "text/plain": [
       "6"
      ]
     },
     "metadata": {},
     "output_type": "display_data"
    }
   ],
   "source": [
    "# split by paragraph\n",
    "mod_section_paragraphs = mod_section_content.split(\"\\n\\n\")\n",
    "display(len(mod_section_paragraphs))"
   ]
  },
  {
   "cell_type": "markdown",
   "id": "d90b077a-04fe-40e6-b37c-e032a3d64b87",
   "metadata": {
    "editable": true,
    "papermill": {
     "duration": 0.03825,
     "end_time": "2024-03-23T05:12:56.603286",
     "exception": false,
     "start_time": "2024-03-23T05:12:56.565036",
     "status": "completed"
    },
    "slideshow": {
     "slide_type": ""
    },
    "tags": []
   },
   "source": [
    "### Match"
   ]
  },
  {
   "cell_type": "code",
   "execution_count": 87,
   "id": "4eacd127-6a88-45b6-a7cb-fa9fc6437fa7",
   "metadata": {
    "execution": {
     "iopub.execute_input": "2024-03-23T05:12:56.678189Z",
     "iopub.status.busy": "2024-03-23T05:12:56.677734Z",
     "iopub.status.idle": "2024-03-23T05:12:56.681382Z",
     "shell.execute_reply": "2024-03-23T05:12:56.680889Z"
    },
    "papermill": {
     "duration": 0.041949,
     "end_time": "2024-03-23T05:12:56.682130",
     "exception": false,
     "start_time": "2024-03-23T05:12:56.640181",
     "status": "completed"
    },
    "tags": []
   },
   "outputs": [
    {
     "data": {
      "text/plain": [
       "'### LVs link genes that alter lipid accumulation with relevant traits and tissues'"
      ]
     },
     "execution_count": 87,
     "metadata": {},
     "output_type": "execute_result"
    }
   ],
   "source": [
    "orig_section_paragraphs[0]"
   ]
  },
  {
   "cell_type": "code",
   "execution_count": 88,
   "id": "f37c968a-53ef-4aaf-b1c8-c028d826a7f5",
   "metadata": {
    "execution": {
     "iopub.execute_input": "2024-03-23T05:12:56.757192Z",
     "iopub.status.busy": "2024-03-23T05:12:56.756777Z",
     "iopub.status.idle": "2024-03-23T05:12:56.760317Z",
     "shell.execute_reply": "2024-03-23T05:12:56.759818Z"
    },
    "papermill": {
     "duration": 0.041807,
     "end_time": "2024-03-23T05:12:56.761061",
     "exception": false,
     "start_time": "2024-03-23T05:12:56.719254",
     "status": "completed"
    },
    "tags": []
   },
   "outputs": [
    {
     "data": {
      "text/plain": [
       "'### LVs link genes that alter lipid accumulation with relevant traits and tissues'"
      ]
     },
     "execution_count": 88,
     "metadata": {},
     "output_type": "execute_result"
    }
   ],
   "source": [
    "mod_section_paragraphs[0]"
   ]
  },
  {
   "cell_type": "markdown",
   "id": "272dbfa3-a287-4389-af7e-a95acb997b0a",
   "metadata": {
    "editable": true,
    "papermill": {
     "duration": 0.037196,
     "end_time": "2024-03-23T05:12:56.835634",
     "exception": false,
     "start_time": "2024-03-23T05:12:56.798438",
     "status": "completed"
    },
    "slideshow": {
     "slide_type": ""
    },
    "tags": []
   },
   "source": [
    "####  Paragraph 00"
   ]
  },
  {
   "cell_type": "code",
   "execution_count": 89,
   "id": "d2c5e113-482d-49ed-924c-7931117d1882",
   "metadata": {
    "execution": {
     "iopub.execute_input": "2024-03-23T05:12:56.910431Z",
     "iopub.status.busy": "2024-03-23T05:12:56.910015Z",
     "iopub.status.idle": "2024-03-23T05:12:56.913110Z",
     "shell.execute_reply": "2024-03-23T05:12:56.912595Z"
    },
    "papermill": {
     "duration": 0.041226,
     "end_time": "2024-03-23T05:12:56.913838",
     "exception": false,
     "start_time": "2024-03-23T05:12:56.872612",
     "status": "completed"
    },
    "tags": []
   },
   "outputs": [
    {
     "name": "stdout",
     "output_type": "stream",
     "text": [
      "Our first experiment attempted to answer whether genes in a disease-relevant LV could represent potential therapeutic targets. For this, the first step was to obtain a set of genes strongly associated with a phenotype of interest. Therefore, we performed a fluorescence-based CRISPR-Cas9 in the HepG2 cell line and identified 462 genes associated with lipid regulation ([Methods](#sec:methods:crispr)). From these, we selected two high-confidence gene sets that either caused a decrease or increase of lipids: a lipids-decreasing gene-set with eight genes: *BLCAP*, *FBXW7*, *INSIG2*, *PCYT2*, *PTEN*, *SOX9*, *TCF7L2*, *UBE2J2*; and a lipids-increasing gene-set with six genes: *ACACA*, *DGAT2*, *HILPDA*, *MBTPS1*, *SCAP*, *SRPR* (Supplementary Data 2).\n"
     ]
    }
   ],
   "source": [
    "par0 = process_paragraph(orig_section_paragraphs[1])\n",
    "print(par0)"
   ]
  },
  {
   "cell_type": "code",
   "execution_count": 90,
   "id": "32772f6b-8069-41a0-9072-0432702fb161",
   "metadata": {
    "execution": {
     "iopub.execute_input": "2024-03-23T05:12:56.988782Z",
     "iopub.status.busy": "2024-03-23T05:12:56.988356Z",
     "iopub.status.idle": "2024-03-23T05:12:56.991426Z",
     "shell.execute_reply": "2024-03-23T05:12:56.990928Z"
    },
    "papermill": {
     "duration": 0.041424,
     "end_time": "2024-03-23T05:12:56.992148",
     "exception": false,
     "start_time": "2024-03-23T05:12:56.950724",
     "status": "completed"
    },
    "tags": []
   },
   "outputs": [
    {
     "name": "stdout",
     "output_type": "stream",
     "text": [
      "In our first experiment, we aimed to determine if genes in a disease-relevant LV could serve as potential therapeutic targets. To do this, we utilized a fluorescence-based CRISPR-Cas9 approach in the HepG2 cell line, identifying 462 genes associated with lipid regulation. From this pool, we selected two high-confidence gene sets: one that led to a decrease in lipids, consisting of eight genes (*BLCAP*, *FBXW7*, *INSIG2*, *PCYT2*, *PTEN*, *SOX9*, *TCF7L2*, *UBE2J2*), and another that caused an increase in lipids, comprised of six genes (*ACACA*, *DGAT2*, *HILPDA*, *MBTPS1*, *SCAP*, *SRPR*) (Supplementary Data 2). This selection process is detailed in the Methods section.\n"
     ]
    }
   ],
   "source": [
    "par1 = process_paragraph(mod_section_paragraphs[1])\n",
    "print(par1)"
   ]
  },
  {
   "cell_type": "code",
   "execution_count": 91,
   "id": "67a18206-8bba-4275-9193-a022e472b46f",
   "metadata": {
    "execution": {
     "iopub.execute_input": "2024-03-23T05:12:57.067321Z",
     "iopub.status.busy": "2024-03-23T05:12:57.067130Z",
     "iopub.status.idle": "2024-03-23T05:12:57.069959Z",
     "shell.execute_reply": "2024-03-23T05:12:57.069391Z"
    },
    "papermill": {
     "duration": 0.041393,
     "end_time": "2024-03-23T05:12:57.070710",
     "exception": false,
     "start_time": "2024-03-23T05:12:57.029317",
     "status": "completed"
    },
    "tags": []
   },
   "outputs": [],
   "source": [
    "paragraph_matches.append(\n",
    "    (\n",
    "        section_name,\n",
    "        par0,\n",
    "        par1,\n",
    "    )\n",
    ")"
   ]
  },
  {
   "cell_type": "code",
   "execution_count": 92,
   "id": "7a3fb2fb-4dfb-459f-9ed4-23965cc24de8",
   "metadata": {
    "execution": {
     "iopub.execute_input": "2024-03-23T05:12:57.146054Z",
     "iopub.status.busy": "2024-03-23T05:12:57.145646Z",
     "iopub.status.idle": "2024-03-23T05:12:57.149348Z",
     "shell.execute_reply": "2024-03-23T05:12:57.148850Z"
    },
    "papermill": {
     "duration": 0.042204,
     "end_time": "2024-03-23T05:12:57.150088",
     "exception": false,
     "start_time": "2024-03-23T05:12:57.107884",
     "status": "completed"
    },
    "tags": []
   },
   "outputs": [
    {
     "data": {
      "text/plain": [
       "('results',\n",
       " 'Our first experiment attempted to answer whether genes in a disease-relevant LV could represent potential therapeutic targets. For this, the first step was to obtain a set of genes strongly associated with a phenotype of interest. Therefore, we performed a fluorescence-based CRISPR-Cas9 in the HepG2 cell line and identified 462 genes associated with lipid regulation ([Methods](#sec:methods:crispr)). From these, we selected two high-confidence gene sets that either caused a decrease or increase of lipids: a lipids-decreasing gene-set with eight genes: *BLCAP*, *FBXW7*, *INSIG2*, *PCYT2*, *PTEN*, *SOX9*, *TCF7L2*, *UBE2J2*; and a lipids-increasing gene-set with six genes: *ACACA*, *DGAT2*, *HILPDA*, *MBTPS1*, *SCAP*, *SRPR* (Supplementary Data 2).',\n",
       " 'In our first experiment, we aimed to determine if genes in a disease-relevant LV could serve as potential therapeutic targets. To do this, we utilized a fluorescence-based CRISPR-Cas9 approach in the HepG2 cell line, identifying 462 genes associated with lipid regulation. From this pool, we selected two high-confidence gene sets: one that led to a decrease in lipids, consisting of eight genes (*BLCAP*, *FBXW7*, *INSIG2*, *PCYT2*, *PTEN*, *SOX9*, *TCF7L2*, *UBE2J2*), and another that caused an increase in lipids, comprised of six genes (*ACACA*, *DGAT2*, *HILPDA*, *MBTPS1*, *SCAP*, *SRPR*) (Supplementary Data 2). This selection process is detailed in the Methods section.')"
      ]
     },
     "metadata": {},
     "output_type": "display_data"
    }
   ],
   "source": [
    "display(paragraph_matches[-1])"
   ]
  },
  {
   "cell_type": "markdown",
   "id": "92c072d8-db1e-4eac-8cca-a93acf97b5d6",
   "metadata": {
    "editable": true,
    "papermill": {
     "duration": 0.065161,
     "end_time": "2024-03-23T05:12:57.252301",
     "exception": false,
     "start_time": "2024-03-23T05:12:57.187140",
     "status": "completed"
    },
    "slideshow": {
     "slide_type": ""
    },
    "tags": []
   },
   "source": [
    "####  Paragraph 01"
   ]
  },
  {
   "cell_type": "code",
   "execution_count": 93,
   "id": "bdc7f406-e842-4814-a45a-c9ef928ecca6",
   "metadata": {
    "execution": {
     "iopub.execute_input": "2024-03-23T05:12:57.328109Z",
     "iopub.status.busy": "2024-03-23T05:12:57.327673Z",
     "iopub.status.idle": "2024-03-23T05:12:57.330986Z",
     "shell.execute_reply": "2024-03-23T05:12:57.330409Z"
    },
    "papermill": {
     "duration": 0.042116,
     "end_time": "2024-03-23T05:12:57.331745",
     "exception": false,
     "start_time": "2024-03-23T05:12:57.289629",
     "status": "completed"
    },
    "tags": []
   },
   "outputs": [
    {
     "name": "stdout",
     "output_type": "stream",
     "text": [
      "Next, we analyzed all 987 LVs using Fast Gene Set Enrichment Analysis (FGSEA) [@doi:10.1101/060012], and found 15 LVs nominally enriched (unadjusted *P* < 0.01) with these lipid-altering gene-sets (Tables @tbl:sup:lipids_crispr:modules_enriched_increase and @tbl:sup:lipids_crispr:modules_enriched_decrease). Among those with reliable sample metadata, LV246, the top LV associated with the lipids-increasing gene-set, contained genes mainly co-expressed in adipose tissue (Figure {@fig:lv246}a), which plays a key role in coordinating and regulating lipid metabolism. Using our regression framework across all traits in PhenomeXcan, we found that gene weights for this LV were predictive of gene associations for plasma lipids, high cholesterol, and Alzheimer's disease (Table @tbl:sup:phenomexcan_assocs:lv246, FDR < 1e-23). These lipids-related associations also replicated across the 309 traits in eMERGE (Table @tbl:sup:emerge_assocs:lv246), where LV246 was significantly associated with hypercholesterolemia (phecode: 272.11, FDR < 4e-9), hyperlipidemia (phecode: 272.1, FDR < 4e-7) and disorders of lipoid metabolism (phecode: 272, FDR < 4e-7).\n"
     ]
    }
   ],
   "source": [
    "par0 = process_paragraph(orig_section_paragraphs[3])\n",
    "print(par0)"
   ]
  },
  {
   "cell_type": "code",
   "execution_count": 94,
   "id": "864d079f-7771-4d70-8bee-0bf8505f3c5e",
   "metadata": {
    "execution": {
     "iopub.execute_input": "2024-03-23T05:12:57.407029Z",
     "iopub.status.busy": "2024-03-23T05:12:57.406755Z",
     "iopub.status.idle": "2024-03-23T05:12:57.409841Z",
     "shell.execute_reply": "2024-03-23T05:12:57.409287Z"
    },
    "papermill": {
     "duration": 0.041528,
     "end_time": "2024-03-23T05:12:57.410554",
     "exception": false,
     "start_time": "2024-03-23T05:12:57.369026",
     "status": "completed"
    },
    "tags": []
   },
   "outputs": [
    {
     "name": "stdout",
     "output_type": "stream",
     "text": [
      "We analyzed 987 Latent Variables (LVs) using Fast Gene Set Enrichment Analysis (FGSEA), identifying 15 LVs enriched with lipid-altering gene sets at a nominal significance level (P < 0.01). Among these, LV246 stood out as the top LV associated with genes co-expressed in adipose tissue, crucial for lipid metabolism regulation. Regression analysis in PhenomeXcan revealed that gene weights in LV246 were predictive of gene associations for plasma lipids, high cholesterol, and Alzheimer's disease. These associations were replicated across 309 traits in eMERGE, where LV246 showed significant links to hypercholesterolemia, hyperlipidemia, and disorders of lipoid metabolism.\n"
     ]
    }
   ],
   "source": [
    "par1 = process_paragraph(mod_section_paragraphs[3])\n",
    "print(par1)"
   ]
  },
  {
   "cell_type": "code",
   "execution_count": 95,
   "id": "65e572c2-987f-491d-8852-0b712b8609fd",
   "metadata": {
    "execution": {
     "iopub.execute_input": "2024-03-23T05:12:57.486174Z",
     "iopub.status.busy": "2024-03-23T05:12:57.485664Z",
     "iopub.status.idle": "2024-03-23T05:12:57.488591Z",
     "shell.execute_reply": "2024-03-23T05:12:57.488058Z"
    },
    "papermill": {
     "duration": 0.041385,
     "end_time": "2024-03-23T05:12:57.489292",
     "exception": false,
     "start_time": "2024-03-23T05:12:57.447907",
     "status": "completed"
    },
    "tags": []
   },
   "outputs": [],
   "source": [
    "paragraph_matches.append(\n",
    "    (\n",
    "        section_name,\n",
    "        par0,\n",
    "        par1,\n",
    "    )\n",
    ")"
   ]
  },
  {
   "cell_type": "code",
   "execution_count": 96,
   "id": "ffc2677b-b7aa-4cf0-bbb8-44852ff31a8b",
   "metadata": {
    "execution": {
     "iopub.execute_input": "2024-03-23T05:12:57.564563Z",
     "iopub.status.busy": "2024-03-23T05:12:57.564113Z",
     "iopub.status.idle": "2024-03-23T05:12:57.567763Z",
     "shell.execute_reply": "2024-03-23T05:12:57.567270Z"
    },
    "papermill": {
     "duration": 0.042157,
     "end_time": "2024-03-23T05:12:57.568525",
     "exception": false,
     "start_time": "2024-03-23T05:12:57.526368",
     "status": "completed"
    },
    "tags": []
   },
   "outputs": [
    {
     "data": {
      "text/plain": [
       "('results',\n",
       " \"Next, we analyzed all 987 LVs using Fast Gene Set Enrichment Analysis (FGSEA) [@doi:10.1101/060012], and found 15 LVs nominally enriched (unadjusted *P* < 0.01) with these lipid-altering gene-sets (Tables @tbl:sup:lipids_crispr:modules_enriched_increase and @tbl:sup:lipids_crispr:modules_enriched_decrease). Among those with reliable sample metadata, LV246, the top LV associated with the lipids-increasing gene-set, contained genes mainly co-expressed in adipose tissue (Figure {@fig:lv246}a), which plays a key role in coordinating and regulating lipid metabolism. Using our regression framework across all traits in PhenomeXcan, we found that gene weights for this LV were predictive of gene associations for plasma lipids, high cholesterol, and Alzheimer's disease (Table @tbl:sup:phenomexcan_assocs:lv246, FDR < 1e-23). These lipids-related associations also replicated across the 309 traits in eMERGE (Table @tbl:sup:emerge_assocs:lv246), where LV246 was significantly associated with hypercholesterolemia (phecode: 272.11, FDR < 4e-9), hyperlipidemia (phecode: 272.1, FDR < 4e-7) and disorders of lipoid metabolism (phecode: 272, FDR < 4e-7).\",\n",
       " \"We analyzed 987 Latent Variables (LVs) using Fast Gene Set Enrichment Analysis (FGSEA), identifying 15 LVs enriched with lipid-altering gene sets at a nominal significance level (P < 0.01). Among these, LV246 stood out as the top LV associated with genes co-expressed in adipose tissue, crucial for lipid metabolism regulation. Regression analysis in PhenomeXcan revealed that gene weights in LV246 were predictive of gene associations for plasma lipids, high cholesterol, and Alzheimer's disease. These associations were replicated across 309 traits in eMERGE, where LV246 showed significant links to hypercholesterolemia, hyperlipidemia, and disorders of lipoid metabolism.\")"
      ]
     },
     "metadata": {},
     "output_type": "display_data"
    }
   ],
   "source": [
    "display(paragraph_matches[-1])"
   ]
  },
  {
   "cell_type": "markdown",
   "id": "f506199b-4ce2-4629-85da-05d5859a6873",
   "metadata": {
    "editable": true,
    "papermill": {
     "duration": 0.037402,
     "end_time": "2024-03-23T05:12:57.643212",
     "exception": false,
     "start_time": "2024-03-23T05:12:57.605810",
     "status": "completed"
    },
    "slideshow": {
     "slide_type": ""
    },
    "tags": []
   },
   "source": [
    "####  Paragraph 02"
   ]
  },
  {
   "cell_type": "code",
   "execution_count": 97,
   "id": "2b0271f7-d02d-417d-bc1b-29269470df8c",
   "metadata": {
    "execution": {
     "iopub.execute_input": "2024-03-23T05:12:57.718902Z",
     "iopub.status.busy": "2024-03-23T05:12:57.718570Z",
     "iopub.status.idle": "2024-03-23T05:12:57.722072Z",
     "shell.execute_reply": "2024-03-23T05:12:57.721365Z"
    },
    "papermill": {
     "duration": 0.042097,
     "end_time": "2024-03-23T05:12:57.722766",
     "exception": false,
     "start_time": "2024-03-23T05:12:57.680669",
     "status": "completed"
    },
    "tags": []
   },
   "outputs": [
    {
     "name": "stdout",
     "output_type": "stream",
     "text": [
      "Two high-confidence genes from our CRISPR screening, *DGAT2* and *ACACA*, are responsible for encoding enzymes for triglycerides and fatty acid synthesis and were among the highest-weighted genes of LV246 (Figure {@fig:lv246}b, in boldface). However, in contrast to other members of LV246, *DGAT2* and *ACACA* were not associated nor colocalized with any of the cardiovascular-related traits and thus would not have been prioritized by TWAS alone; instead, other members of LV246, such as *SCD*, *LPL*, *FADS2*, *HMGCR*, and *LDLR*, were significantly associated and colocalized with lipid-related traits. This lack of association of two high-confidence genes from our CRISPR screen might be explained from an omnigenic point of view [@doi:10.1016/j.cell.2019.04.014]. Assuming that the TWAS models for *DGAT2* and *ACACA* capture all common *cis*-eQTLs (the only genetic component of gene expression that TWAS can capture) and there are no rare *cis*-eQTLs, these two genes might represent \"core\" genes (i.e., they directly affect the trait with no mediated regulation of other genes), and many of the rest in the LV are \"peripheral\" genes that *trans*-regulate them.\n"
     ]
    }
   ],
   "source": [
    "par0 = process_paragraph(orig_section_paragraphs[4])\n",
    "print(par0)"
   ]
  },
  {
   "cell_type": "code",
   "execution_count": 98,
   "id": "565d1a13-2d2c-4bba-b463-169c36402b2c",
   "metadata": {
    "execution": {
     "iopub.execute_input": "2024-03-23T05:12:57.799093Z",
     "iopub.status.busy": "2024-03-23T05:12:57.798900Z",
     "iopub.status.idle": "2024-03-23T05:12:57.802069Z",
     "shell.execute_reply": "2024-03-23T05:12:57.801538Z"
    },
    "papermill": {
     "duration": 0.042439,
     "end_time": "2024-03-23T05:12:57.802781",
     "exception": false,
     "start_time": "2024-03-23T05:12:57.760342",
     "status": "completed"
    },
    "tags": []
   },
   "outputs": [
    {
     "name": "stdout",
     "output_type": "stream",
     "text": [
      "Two high-confidence genes identified in our CRISPR screening, DGAT2 and ACACA, encode enzymes for triglycerides and fatty acid synthesis and were among the highest-weighted genes of LV246 (Figure 2b). However, unlike other genes in LV246, DGAT2 and ACACA were not associated with any cardiovascular-related traits. Instead, genes like SCD, LPL, FADS2, HMGCR, and LDLR in LV246 showed significant associations with lipid-related traits. This lack of association for DGAT2 and ACACA may be explained by the omnigenic theory. If the TWAS models for DGAT2 and ACACA capture all common cis-eQTLs and there are no rare cis-eQTLs, these genes may be considered \"core\" genes directly affecting the trait without regulation from other genes, while the other genes in LV246 may be \"peripheral\" genes that regulate them.\n"
     ]
    }
   ],
   "source": [
    "par1 = process_paragraph(mod_section_paragraphs[4])\n",
    "print(par1)"
   ]
  },
  {
   "cell_type": "code",
   "execution_count": 99,
   "id": "625f779d-c571-4a1e-83f4-65e104f564a6",
   "metadata": {
    "execution": {
     "iopub.execute_input": "2024-03-23T05:12:57.878750Z",
     "iopub.status.busy": "2024-03-23T05:12:57.878565Z",
     "iopub.status.idle": "2024-03-23T05:12:57.881287Z",
     "shell.execute_reply": "2024-03-23T05:12:57.880787Z"
    },
    "papermill": {
     "duration": 0.041394,
     "end_time": "2024-03-23T05:12:57.881959",
     "exception": false,
     "start_time": "2024-03-23T05:12:57.840565",
     "status": "completed"
    },
    "tags": []
   },
   "outputs": [],
   "source": [
    "paragraph_matches.append(\n",
    "    (\n",
    "        section_name,\n",
    "        par0,\n",
    "        par1,\n",
    "    )\n",
    ")"
   ]
  },
  {
   "cell_type": "code",
   "execution_count": 100,
   "id": "e5323cd9-0170-415b-b4b7-ee5d74ec9186",
   "metadata": {
    "execution": {
     "iopub.execute_input": "2024-03-23T05:12:57.957898Z",
     "iopub.status.busy": "2024-03-23T05:12:57.957437Z",
     "iopub.status.idle": "2024-03-23T05:12:57.961095Z",
     "shell.execute_reply": "2024-03-23T05:12:57.960602Z"
    },
    "papermill": {
     "duration": 0.04224,
     "end_time": "2024-03-23T05:12:57.961770",
     "exception": false,
     "start_time": "2024-03-23T05:12:57.919530",
     "status": "completed"
    },
    "tags": []
   },
   "outputs": [
    {
     "data": {
      "text/plain": [
       "('results',\n",
       " 'Two high-confidence genes from our CRISPR screening, *DGAT2* and *ACACA*, are responsible for encoding enzymes for triglycerides and fatty acid synthesis and were among the highest-weighted genes of LV246 (Figure {@fig:lv246}b, in boldface). However, in contrast to other members of LV246, *DGAT2* and *ACACA* were not associated nor colocalized with any of the cardiovascular-related traits and thus would not have been prioritized by TWAS alone; instead, other members of LV246, such as *SCD*, *LPL*, *FADS2*, *HMGCR*, and *LDLR*, were significantly associated and colocalized with lipid-related traits. This lack of association of two high-confidence genes from our CRISPR screen might be explained from an omnigenic point of view [@doi:10.1016/j.cell.2019.04.014]. Assuming that the TWAS models for *DGAT2* and *ACACA* capture all common *cis*-eQTLs (the only genetic component of gene expression that TWAS can capture) and there are no rare *cis*-eQTLs, these two genes might represent \"core\" genes (i.e., they directly affect the trait with no mediated regulation of other genes), and many of the rest in the LV are \"peripheral\" genes that *trans*-regulate them.',\n",
       " 'Two high-confidence genes identified in our CRISPR screening, DGAT2 and ACACA, encode enzymes for triglycerides and fatty acid synthesis and were among the highest-weighted genes of LV246 (Figure 2b). However, unlike other genes in LV246, DGAT2 and ACACA were not associated with any cardiovascular-related traits. Instead, genes like SCD, LPL, FADS2, HMGCR, and LDLR in LV246 showed significant associations with lipid-related traits. This lack of association for DGAT2 and ACACA may be explained by the omnigenic theory. If the TWAS models for DGAT2 and ACACA capture all common cis-eQTLs and there are no rare cis-eQTLs, these genes may be considered \"core\" genes directly affecting the trait without regulation from other genes, while the other genes in LV246 may be \"peripheral\" genes that regulate them.')"
      ]
     },
     "metadata": {},
     "output_type": "display_data"
    }
   ],
   "source": [
    "display(paragraph_matches[-1])"
   ]
  },
  {
   "cell_type": "markdown",
   "id": "308f8306-efdd-4013-84cb-6daf1aa50312",
   "metadata": {
    "editable": true,
    "papermill": {
     "duration": 0.037214,
     "end_time": "2024-03-23T05:12:58.036459",
     "exception": false,
     "start_time": "2024-03-23T05:12:57.999245",
     "status": "completed"
    },
    "slideshow": {
     "slide_type": ""
    },
    "tags": []
   },
   "source": [
    "## Results (drug-disease prediction)"
   ]
  },
  {
   "cell_type": "code",
   "execution_count": 101,
   "id": "e4c9687d-e390-48a3-a48c-4b56657550dd",
   "metadata": {
    "execution": {
     "iopub.execute_input": "2024-03-23T05:12:58.139771Z",
     "iopub.status.busy": "2024-03-23T05:12:58.139346Z",
     "iopub.status.idle": "2024-03-23T05:12:58.141909Z",
     "shell.execute_reply": "2024-03-23T05:12:58.141362Z"
    },
    "papermill": {
     "duration": 0.041589,
     "end_time": "2024-03-23T05:12:58.142637",
     "exception": false,
     "start_time": "2024-03-23T05:12:58.101048",
     "status": "completed"
    },
    "tags": []
   },
   "outputs": [],
   "source": [
    "# section_name = \"results\""
   ]
  },
  {
   "cell_type": "code",
   "execution_count": 102,
   "id": "ba622642-b861-49bc-95cc-bbaff2b8b718",
   "metadata": {
    "editable": true,
    "execution": {
     "iopub.execute_input": "2024-03-23T05:12:58.218317Z",
     "iopub.status.busy": "2024-03-23T05:12:58.218130Z",
     "iopub.status.idle": "2024-03-23T05:12:58.221469Z",
     "shell.execute_reply": "2024-03-23T05:12:58.220938Z"
    },
    "papermill": {
     "duration": 0.04217,
     "end_time": "2024-03-23T05:12:58.222153",
     "exception": false,
     "start_time": "2024-03-23T05:12:58.179983",
     "status": "completed"
    },
    "slideshow": {
     "slide_type": ""
    },
    "tags": []
   },
   "outputs": [
    {
     "name": "stdout",
     "output_type": "stream",
     "text": [
      "content/04.15.results_drug_disease_prediction.md\n"
     ]
    }
   ],
   "source": [
    "pr_filename = pr_files[4].filename\n",
    "assert section_name in pr_filename\n",
    "assert \"drug_disease\" in pr_filename\n",
    "print(pr_filename)"
   ]
  },
  {
   "cell_type": "markdown",
   "id": "b1cc1ae3-9065-4bdb-b40c-acb24e1bad91",
   "metadata": {
    "editable": true,
    "papermill": {
     "duration": 0.037683,
     "end_time": "2024-03-23T05:12:58.297221",
     "exception": false,
     "start_time": "2024-03-23T05:12:58.259538",
     "status": "completed"
    },
    "slideshow": {
     "slide_type": ""
    },
    "tags": []
   },
   "source": [
    "### Original"
   ]
  },
  {
   "cell_type": "code",
   "execution_count": 103,
   "id": "c30246b0-bb77-41f0-9fb9-c80af37dee2d",
   "metadata": {
    "execution": {
     "iopub.execute_input": "2024-03-23T05:12:58.372910Z",
     "iopub.status.busy": "2024-03-23T05:12:58.372717Z",
     "iopub.status.idle": "2024-03-23T05:12:58.507267Z",
     "shell.execute_reply": "2024-03-23T05:12:58.506721Z"
    },
    "papermill": {
     "duration": 0.173711,
     "end_time": "2024-03-23T05:12:58.508491",
     "exception": false,
     "start_time": "2024-03-23T05:12:58.334780",
     "status": "completed"
    },
    "tags": []
   },
   "outputs": [
    {
     "name": "stdout",
     "output_type": "stream",
     "text": [
      "### LVs predict drug-disease pairs better than sin\n"
     ]
    }
   ],
   "source": [
    "# get content\n",
    "orig_section_content = repo.get_contents(pr_filename, pr_prev).decoded_content.decode(\n",
    "    \"utf-8\"\n",
    ")\n",
    "print(orig_section_content[:50])"
   ]
  },
  {
   "cell_type": "code",
   "execution_count": 104,
   "id": "3c1beafd-4ade-4be5-8809-4a2dc5dae3ad",
   "metadata": {
    "execution": {
     "iopub.execute_input": "2024-03-23T05:12:58.625710Z",
     "iopub.status.busy": "2024-03-23T05:12:58.625252Z",
     "iopub.status.idle": "2024-03-23T05:12:58.629112Z",
     "shell.execute_reply": "2024-03-23T05:12:58.628617Z"
    },
    "papermill": {
     "duration": 0.045453,
     "end_time": "2024-03-23T05:12:58.629778",
     "exception": false,
     "start_time": "2024-03-23T05:12:58.584325",
     "status": "completed"
    },
    "tags": []
   },
   "outputs": [
    {
     "data": {
      "text/plain": [
       "11"
      ]
     },
     "metadata": {},
     "output_type": "display_data"
    }
   ],
   "source": [
    "# split by paragraph\n",
    "orig_section_paragraphs = orig_section_content.split(\"\\n\\n\")\n",
    "display(len(orig_section_paragraphs))"
   ]
  },
  {
   "cell_type": "markdown",
   "id": "c1a3399e-e810-4f19-a064-9c409b6f5d97",
   "metadata": {
    "editable": true,
    "papermill": {
     "duration": 0.037275,
     "end_time": "2024-03-23T05:12:58.705015",
     "exception": false,
     "start_time": "2024-03-23T05:12:58.667740",
     "status": "completed"
    },
    "slideshow": {
     "slide_type": ""
    },
    "tags": []
   },
   "source": [
    "### Modified"
   ]
  },
  {
   "cell_type": "code",
   "execution_count": 105,
   "id": "e66eb8e2-969c-4bdf-a34c-691b3bf8b898",
   "metadata": {
    "execution": {
     "iopub.execute_input": "2024-03-23T05:12:58.780288Z",
     "iopub.status.busy": "2024-03-23T05:12:58.780101Z",
     "iopub.status.idle": "2024-03-23T05:12:58.918342Z",
     "shell.execute_reply": "2024-03-23T05:12:58.917803Z"
    },
    "papermill": {
     "duration": 0.17668,
     "end_time": "2024-03-23T05:12:58.919029",
     "exception": false,
     "start_time": "2024-03-23T05:12:58.742349",
     "status": "completed"
    },
    "tags": []
   },
   "outputs": [
    {
     "name": "stdout",
     "output_type": "stream",
     "text": [
      "### LVs predict drug-disease pairs better than sin\n"
     ]
    }
   ],
   "source": [
    "# get content\n",
    "mod_section_content = repo.get_contents(pr_filename, pr_curr).decoded_content.decode(\n",
    "    \"utf-8\"\n",
    ")\n",
    "print(mod_section_content[:50])"
   ]
  },
  {
   "cell_type": "code",
   "execution_count": 106,
   "id": "0ac03f26-32a4-41e5-b5e4-8942ff1fc6e4",
   "metadata": {
    "execution": {
     "iopub.execute_input": "2024-03-23T05:12:58.994687Z",
     "iopub.status.busy": "2024-03-23T05:12:58.994495Z",
     "iopub.status.idle": "2024-03-23T05:12:58.998307Z",
     "shell.execute_reply": "2024-03-23T05:12:58.997785Z"
    },
    "papermill": {
     "duration": 0.042386,
     "end_time": "2024-03-23T05:12:58.998995",
     "exception": false,
     "start_time": "2024-03-23T05:12:58.956609",
     "status": "completed"
    },
    "tags": []
   },
   "outputs": [
    {
     "data": {
      "text/plain": [
       "11"
      ]
     },
     "metadata": {},
     "output_type": "display_data"
    }
   ],
   "source": [
    "# split by paragraph\n",
    "mod_section_paragraphs = mod_section_content.split(\"\\n\\n\")\n",
    "display(len(mod_section_paragraphs))"
   ]
  },
  {
   "cell_type": "markdown",
   "id": "6757d536-0a6b-48c7-a2fe-b5b2d9bd8a58",
   "metadata": {
    "editable": true,
    "papermill": {
     "duration": 0.037553,
     "end_time": "2024-03-23T05:12:59.074165",
     "exception": false,
     "start_time": "2024-03-23T05:12:59.036612",
     "status": "completed"
    },
    "slideshow": {
     "slide_type": ""
    },
    "tags": []
   },
   "source": [
    "### Match"
   ]
  },
  {
   "cell_type": "code",
   "execution_count": 107,
   "id": "b9833e8b-3935-4094-a565-c879df999dc4",
   "metadata": {
    "execution": {
     "iopub.execute_input": "2024-03-23T05:12:59.150425Z",
     "iopub.status.busy": "2024-03-23T05:12:59.150223Z",
     "iopub.status.idle": "2024-03-23T05:12:59.153839Z",
     "shell.execute_reply": "2024-03-23T05:12:59.153292Z"
    },
    "papermill": {
     "duration": 0.04314,
     "end_time": "2024-03-23T05:12:59.154625",
     "exception": false,
     "start_time": "2024-03-23T05:12:59.111485",
     "status": "completed"
    },
    "tags": []
   },
   "outputs": [
    {
     "data": {
      "text/plain": [
       "'### LVs predict drug-disease pairs better than single genes'"
      ]
     },
     "execution_count": 107,
     "metadata": {},
     "output_type": "execute_result"
    }
   ],
   "source": [
    "orig_section_paragraphs[0]"
   ]
  },
  {
   "cell_type": "code",
   "execution_count": 108,
   "id": "3f01ec37-06e3-405c-8390-66a7e9a64411",
   "metadata": {
    "execution": {
     "iopub.execute_input": "2024-03-23T05:12:59.258317Z",
     "iopub.status.busy": "2024-03-23T05:12:59.257991Z",
     "iopub.status.idle": "2024-03-23T05:12:59.261513Z",
     "shell.execute_reply": "2024-03-23T05:12:59.261005Z"
    },
    "papermill": {
     "duration": 0.069849,
     "end_time": "2024-03-23T05:12:59.262302",
     "exception": false,
     "start_time": "2024-03-23T05:12:59.192453",
     "status": "completed"
    },
    "tags": []
   },
   "outputs": [
    {
     "data": {
      "text/plain": [
       "'### LVs predict drug-disease pairs better than single genes'"
      ]
     },
     "execution_count": 108,
     "metadata": {},
     "output_type": "execute_result"
    }
   ],
   "source": [
    "mod_section_paragraphs[0]"
   ]
  },
  {
   "cell_type": "markdown",
   "id": "fc4a1234-e7cd-4e05-a661-9c5cfea47529",
   "metadata": {
    "editable": true,
    "papermill": {
     "duration": 0.03791,
     "end_time": "2024-03-23T05:12:59.338667",
     "exception": false,
     "start_time": "2024-03-23T05:12:59.300757",
     "status": "completed"
    },
    "slideshow": {
     "slide_type": ""
    },
    "tags": []
   },
   "source": [
    "####  Paragraph 00"
   ]
  },
  {
   "cell_type": "code",
   "execution_count": 109,
   "id": "e4ff6017-b6ea-4220-8b73-970e460728d8",
   "metadata": {
    "execution": {
     "iopub.execute_input": "2024-03-23T05:12:59.416042Z",
     "iopub.status.busy": "2024-03-23T05:12:59.415561Z",
     "iopub.status.idle": "2024-03-23T05:12:59.418848Z",
     "shell.execute_reply": "2024-03-23T05:12:59.418314Z"
    },
    "papermill": {
     "duration": 0.042997,
     "end_time": "2024-03-23T05:12:59.419597",
     "exception": false,
     "start_time": "2024-03-23T05:12:59.376600",
     "status": "completed"
    },
    "tags": []
   },
   "outputs": [
    {
     "name": "stdout",
     "output_type": "stream",
     "text": [
      "We next determined how substituting LVs for individual genes predicted known treatment-disease relationships. For this, we used the transcriptional responses to small molecule perturbations profiled in LINCS L1000 [@doi:10.1016/j.cell.2017.10.049], which were further processed and mapped to DrugBank IDs [@doi:10.1093/nar/gkt1068; @doi:10.7554/eLife.26726; @doi:10.5281/zenodo.47223]. Based on an established drug repurposing strategy that matches reversed transcriptome patterns between genes and drug-induced perturbations [@doi:10.1126/scitranslmed.3002648; @doi:10.1126/scitranslmed.3001318], we adopted a previously described framework that uses imputed transcriptomes from TWAS to prioritize drug candidates [@doi:10.1038/nn.4618]. For this, we computed a drug-disease score by calculating the negative dot product between the $z$-scores for a disease (from TWAS) and the $z$-scores for a drug (from LINCS) across sets of genes of different sizes (see [Methods](#sec:methods:drug)). Therefore, a large score for a drug-disease pair indicated that higher (lower) predicted expression values of disease-associated genes are down (up)-regulated by the drug, thus predicting a potential treatment. Similarly, for the LV-based approach, we estimated how pharmacological perturbations affected the gene module activity by projecting expression profiles of drugs into our latent representation (Figure {@fig:entire_process}b). We used a manually-curated gold standard set of drug-disease medical indications [@doi:10.7554/eLife.26726; @doi:10.5281/zenodo.47664] for 322 drugs across 53 diseases to evaluate the prediction performance.\n"
     ]
    }
   ],
   "source": [
    "par0 = process_paragraph(orig_section_paragraphs[1])\n",
    "print(par0)"
   ]
  },
  {
   "cell_type": "code",
   "execution_count": 110,
   "id": "0a61ffb4-498a-429d-822e-b243769c886e",
   "metadata": {
    "execution": {
     "iopub.execute_input": "2024-03-23T05:12:59.496258Z",
     "iopub.status.busy": "2024-03-23T05:12:59.495840Z",
     "iopub.status.idle": "2024-03-23T05:12:59.499035Z",
     "shell.execute_reply": "2024-03-23T05:12:59.498496Z"
    },
    "papermill": {
     "duration": 0.042275,
     "end_time": "2024-03-23T05:12:59.499785",
     "exception": false,
     "start_time": "2024-03-23T05:12:59.457510",
     "status": "completed"
    },
    "tags": []
   },
   "outputs": [
    {
     "name": "stdout",
     "output_type": "stream",
     "text": [
      "We assessed the ability of substituting latent variables (LVs) for individual genes to predict established treatment-disease relationships by analyzing the transcriptional responses to small molecule perturbations from LINCS L1000. These responses were processed and linked to DrugBank IDs. By applying a drug repurposing strategy that matches reversed transcriptome patterns between genes and drug-induced perturbations, we utilized imputed transcriptomes from TWAS to prioritize drug candidates. A drug-disease score was computed by comparing the $z$-scores for a disease (from TWAS) and a drug (from LINCS) across different gene sets. A high score for a drug-disease pair indicated potential treatment efficacy based on the drug's regulation of disease-associated gene expression. Additionally, we projected drug expression profiles into our latent representation to estimate the impact of pharmacological perturbations on gene module activity. The prediction performance was evaluated using a curated set of drug-disease medical indications for 322 drugs and 53 diseases.\n"
     ]
    }
   ],
   "source": [
    "par1 = process_paragraph(mod_section_paragraphs[1])\n",
    "print(par1)"
   ]
  },
  {
   "cell_type": "code",
   "execution_count": 111,
   "id": "12f885bd-ed80-4b99-8e71-b2f180b87df5",
   "metadata": {
    "execution": {
     "iopub.execute_input": "2024-03-23T05:12:59.575725Z",
     "iopub.status.busy": "2024-03-23T05:12:59.575523Z",
     "iopub.status.idle": "2024-03-23T05:12:59.578416Z",
     "shell.execute_reply": "2024-03-23T05:12:59.577864Z"
    },
    "papermill": {
     "duration": 0.041797,
     "end_time": "2024-03-23T05:12:59.579183",
     "exception": false,
     "start_time": "2024-03-23T05:12:59.537386",
     "status": "completed"
    },
    "tags": []
   },
   "outputs": [],
   "source": [
    "paragraph_matches.append(\n",
    "    (\n",
    "        section_name,\n",
    "        par0,\n",
    "        par1,\n",
    "    )\n",
    ")"
   ]
  },
  {
   "cell_type": "code",
   "execution_count": 112,
   "id": "391d7ee5-32ca-4335-adac-c29973383f74",
   "metadata": {
    "execution": {
     "iopub.execute_input": "2024-03-23T05:12:59.655460Z",
     "iopub.status.busy": "2024-03-23T05:12:59.655264Z",
     "iopub.status.idle": "2024-03-23T05:12:59.659054Z",
     "shell.execute_reply": "2024-03-23T05:12:59.658539Z"
    },
    "papermill": {
     "duration": 0.042847,
     "end_time": "2024-03-23T05:12:59.659792",
     "exception": false,
     "start_time": "2024-03-23T05:12:59.616945",
     "status": "completed"
    },
    "scrolled": true,
    "tags": []
   },
   "outputs": [
    {
     "data": {
      "text/plain": [
       "('results',\n",
       " 'We next determined how substituting LVs for individual genes predicted known treatment-disease relationships. For this, we used the transcriptional responses to small molecule perturbations profiled in LINCS L1000 [@doi:10.1016/j.cell.2017.10.049], which were further processed and mapped to DrugBank IDs [@doi:10.1093/nar/gkt1068; @doi:10.7554/eLife.26726; @doi:10.5281/zenodo.47223]. Based on an established drug repurposing strategy that matches reversed transcriptome patterns between genes and drug-induced perturbations [@doi:10.1126/scitranslmed.3002648; @doi:10.1126/scitranslmed.3001318], we adopted a previously described framework that uses imputed transcriptomes from TWAS to prioritize drug candidates [@doi:10.1038/nn.4618]. For this, we computed a drug-disease score by calculating the negative dot product between the $z$-scores for a disease (from TWAS) and the $z$-scores for a drug (from LINCS) across sets of genes of different sizes (see [Methods](#sec:methods:drug)). Therefore, a large score for a drug-disease pair indicated that higher (lower) predicted expression values of disease-associated genes are down (up)-regulated by the drug, thus predicting a potential treatment. Similarly, for the LV-based approach, we estimated how pharmacological perturbations affected the gene module activity by projecting expression profiles of drugs into our latent representation (Figure {@fig:entire_process}b). We used a manually-curated gold standard set of drug-disease medical indications [@doi:10.7554/eLife.26726; @doi:10.5281/zenodo.47664] for 322 drugs across 53 diseases to evaluate the prediction performance.',\n",
       " \"We assessed the ability of substituting latent variables (LVs) for individual genes to predict established treatment-disease relationships by analyzing the transcriptional responses to small molecule perturbations from LINCS L1000. These responses were processed and linked to DrugBank IDs. By applying a drug repurposing strategy that matches reversed transcriptome patterns between genes and drug-induced perturbations, we utilized imputed transcriptomes from TWAS to prioritize drug candidates. A drug-disease score was computed by comparing the $z$-scores for a disease (from TWAS) and a drug (from LINCS) across different gene sets. A high score for a drug-disease pair indicated potential treatment efficacy based on the drug's regulation of disease-associated gene expression. Additionally, we projected drug expression profiles into our latent representation to estimate the impact of pharmacological perturbations on gene module activity. The prediction performance was evaluated using a curated set of drug-disease medical indications for 322 drugs and 53 diseases.\")"
      ]
     },
     "metadata": {},
     "output_type": "display_data"
    }
   ],
   "source": [
    "display(paragraph_matches[-1])"
   ]
  },
  {
   "cell_type": "markdown",
   "id": "6c436971-552e-47a8-bccd-8ac687b2d461",
   "metadata": {
    "editable": true,
    "papermill": {
     "duration": 0.038594,
     "end_time": "2024-03-23T05:12:59.736620",
     "exception": false,
     "start_time": "2024-03-23T05:12:59.698026",
     "status": "completed"
    },
    "slideshow": {
     "slide_type": ""
    },
    "tags": []
   },
   "source": [
    "####  Paragraph 01"
   ]
  },
  {
   "cell_type": "code",
   "execution_count": 113,
   "id": "aed94a44-ae85-4005-9cc3-cc478d8a4546",
   "metadata": {
    "execution": {
     "iopub.execute_input": "2024-03-23T05:12:59.819418Z",
     "iopub.status.busy": "2024-03-23T05:12:59.819226Z",
     "iopub.status.idle": "2024-03-23T05:12:59.822172Z",
     "shell.execute_reply": "2024-03-23T05:12:59.821693Z"
    },
    "papermill": {
     "duration": 0.047909,
     "end_time": "2024-03-23T05:12:59.822927",
     "exception": false,
     "start_time": "2024-03-23T05:12:59.775018",
     "status": "completed"
    },
    "tags": []
   },
   "outputs": [
    {
     "name": "stdout",
     "output_type": "stream",
     "text": [
      "It is important to note that the gene-trait associations and drug-induced expression profiles projected into the latent space represent a compressed version of the entire set of results. Despite this information loss, the LV-based method outperformed the gene-based one with an area under the curve of 0.632 and an average precision of 0.858 (Figure @fig:drug_disease:roc_pr). The prediction results suggested that this low-dimensional space captures biologically meaningful patterns that can link pathophysiological processes with the mechanism of action of drugs.\n"
     ]
    }
   ],
   "source": [
    "par0 = process_paragraph(orig_section_paragraphs[3])\n",
    "print(par0)"
   ]
  },
  {
   "cell_type": "code",
   "execution_count": 114,
   "id": "43edaf0a-9205-4e0a-9aa4-6c7a33090c70",
   "metadata": {
    "execution": {
     "iopub.execute_input": "2024-03-23T05:12:59.899149Z",
     "iopub.status.busy": "2024-03-23T05:12:59.898955Z",
     "iopub.status.idle": "2024-03-23T05:12:59.902067Z",
     "shell.execute_reply": "2024-03-23T05:12:59.901487Z"
    },
    "papermill": {
     "duration": 0.041948,
     "end_time": "2024-03-23T05:12:59.902816",
     "exception": false,
     "start_time": "2024-03-23T05:12:59.860868",
     "status": "completed"
    },
    "tags": []
   },
   "outputs": [
    {
     "name": "stdout",
     "output_type": "stream",
     "text": [
      "It is important to note that the gene-trait associations and drug-induced expression profiles projected into the latent space represent a condensed summary of the results. Despite this simplification, the LV-based method performed better than the gene-based method, with an area under the curve of 0.632 and an average precision of 0.858 (Figure 1). The prediction results indicated that this reduced-dimensional space captures meaningful biological patterns that connect pathophysiological processes with drug mechanisms.\n"
     ]
    }
   ],
   "source": [
    "par1 = process_paragraph(mod_section_paragraphs[3])\n",
    "print(par1)"
   ]
  },
  {
   "cell_type": "code",
   "execution_count": 115,
   "id": "fca0e576-604e-47bb-be78-5a980a47e630",
   "metadata": {
    "execution": {
     "iopub.execute_input": "2024-03-23T05:12:59.979715Z",
     "iopub.status.busy": "2024-03-23T05:12:59.979521Z",
     "iopub.status.idle": "2024-03-23T05:12:59.982310Z",
     "shell.execute_reply": "2024-03-23T05:12:59.981800Z"
    },
    "papermill": {
     "duration": 0.042346,
     "end_time": "2024-03-23T05:12:59.983041",
     "exception": false,
     "start_time": "2024-03-23T05:12:59.940695",
     "status": "completed"
    },
    "tags": []
   },
   "outputs": [],
   "source": [
    "paragraph_matches.append(\n",
    "    (\n",
    "        section_name,\n",
    "        par0,\n",
    "        par1,\n",
    "    )\n",
    ")"
   ]
  },
  {
   "cell_type": "code",
   "execution_count": 116,
   "id": "0b1888fc-066f-4454-bd56-073afa2513ed",
   "metadata": {
    "execution": {
     "iopub.execute_input": "2024-03-23T05:13:00.060017Z",
     "iopub.status.busy": "2024-03-23T05:13:00.059687Z",
     "iopub.status.idle": "2024-03-23T05:13:00.063301Z",
     "shell.execute_reply": "2024-03-23T05:13:00.062802Z"
    },
    "papermill": {
     "duration": 0.042961,
     "end_time": "2024-03-23T05:13:00.064002",
     "exception": false,
     "start_time": "2024-03-23T05:13:00.021041",
     "status": "completed"
    },
    "tags": []
   },
   "outputs": [
    {
     "data": {
      "text/plain": [
       "('results',\n",
       " 'It is important to note that the gene-trait associations and drug-induced expression profiles projected into the latent space represent a compressed version of the entire set of results. Despite this information loss, the LV-based method outperformed the gene-based one with an area under the curve of 0.632 and an average precision of 0.858 (Figure @fig:drug_disease:roc_pr). The prediction results suggested that this low-dimensional space captures biologically meaningful patterns that can link pathophysiological processes with the mechanism of action of drugs.',\n",
       " 'It is important to note that the gene-trait associations and drug-induced expression profiles projected into the latent space represent a condensed summary of the results. Despite this simplification, the LV-based method performed better than the gene-based method, with an area under the curve of 0.632 and an average precision of 0.858 (Figure 1). The prediction results indicated that this reduced-dimensional space captures meaningful biological patterns that connect pathophysiological processes with drug mechanisms.')"
      ]
     },
     "metadata": {},
     "output_type": "display_data"
    }
   ],
   "source": [
    "display(paragraph_matches[-1])"
   ]
  },
  {
   "cell_type": "markdown",
   "id": "0950c493-60c8-4235-8395-37acebbe6925",
   "metadata": {
    "editable": true,
    "papermill": {
     "duration": 0.03788,
     "end_time": "2024-03-23T05:13:00.140148",
     "exception": false,
     "start_time": "2024-03-23T05:13:00.102268",
     "status": "completed"
    },
    "slideshow": {
     "slide_type": ""
    },
    "tags": []
   },
   "source": [
    "####  Paragraph 02"
   ]
  },
  {
   "cell_type": "code",
   "execution_count": 117,
   "id": "be17fc65-d23e-4bb2-8389-1739723059e0",
   "metadata": {
    "execution": {
     "iopub.execute_input": "2024-03-23T05:13:00.243929Z",
     "iopub.status.busy": "2024-03-23T05:13:00.243734Z",
     "iopub.status.idle": "2024-03-23T05:13:00.247260Z",
     "shell.execute_reply": "2024-03-23T05:13:00.246706Z"
    },
    "papermill": {
     "duration": 0.042731,
     "end_time": "2024-03-23T05:13:00.247973",
     "exception": false,
     "start_time": "2024-03-23T05:13:00.205242",
     "status": "completed"
    },
    "tags": []
   },
   "outputs": [
    {
     "name": "stdout",
     "output_type": "stream",
     "text": [
      "We examined a specific drug-disease pair to determine whether the LVs driving the prediction were biologically plausible. Nicotinic acid (niacin) is a B vitamin widely used clinically to treat lipid disorders, although there is controversy on its clinical utility in preventing cardiovascular disease [@pmid:22085343; @pmid:25014686; @pmid:30977858]. Niacin exerts its effects on multiple tissues, although its mechanisms are not well understood [@doi:10.1016/j.amjcard.2008.02.029; @doi:10.1194/jlr.S092007; @pmid:24363242; @pmid:24713591]. This compound can increase high-density lipoprotein (HDL) by inhibiting an HDL catabolism receptor in the liver. Niacin also inhibits diacylglycerol acyltransferase–2 (DGAT2), which decreases the production of low-density lipoproteins (LDL) either by modulating triglyceride synthesis in hepatocytes or by inhibiting adipocyte triglyceride lipolysis [@doi:10.1016/j.amjcard.2008.02.029]. Niacin was one of the drugs in the gold standard set indicated for atherosclerosis (AT) and coronary artery disease (CAD). We observed that this compound was predicted by the gene-based and LV-based approach as a medical indication for coronary artery disease (CAD), with scores above the mean (0.51 and 0.96, respectively). For AT, the LV-based approach predicted niacin as a therapeutic drug with a score of 0.52, whereas the gene-based method assigned a negative score of -0.01 (below the mean). Since LVs represent interpretable features associated with specific cell types, we analyzed which LVs positively contributed to these predictions (i.e., with an opposite direction between niacin and the disease). Notably, LV246 (Figure @fig:lv246), expressed in adipose tissue and liver and associated with plasma lipids and high cholesterol (Table @tbl:sup:phenomexcan_assocs:lv246), was the 16th most important module in the prediction of niacin as a therapeutic drug for AT. Besides the gold standard set, LV246 was among the top modules for other cardiovascular diseases, such as ischaemic heart disease (wide definition, 15th module) and high cholesterol (7th module).\n"
     ]
    }
   ],
   "source": [
    "par0 = process_paragraph(orig_section_paragraphs[4])\n",
    "print(par0)"
   ]
  },
  {
   "cell_type": "code",
   "execution_count": 118,
   "id": "bb614d4f-a775-42de-ad4c-c3495ff1f83f",
   "metadata": {
    "execution": {
     "iopub.execute_input": "2024-03-23T05:13:00.326051Z",
     "iopub.status.busy": "2024-03-23T05:13:00.325626Z",
     "iopub.status.idle": "2024-03-23T05:13:00.328725Z",
     "shell.execute_reply": "2024-03-23T05:13:00.328216Z"
    },
    "papermill": {
     "duration": 0.042874,
     "end_time": "2024-03-23T05:13:00.329399",
     "exception": false,
     "start_time": "2024-03-23T05:13:00.286525",
     "status": "completed"
    },
    "tags": []
   },
   "outputs": [
    {
     "name": "stdout",
     "output_type": "stream",
     "text": [
      "We investigated the relationship between niacin and coronary artery disease (CAD) using gene expression patterns. Niacin, a B vitamin commonly used to treat lipid disorders, has unclear clinical benefits in preventing cardiovascular disease. Its mechanisms of action involve inhibiting an HDL catabolism receptor in the liver and DGAT2, which reduces LDL production. Our analysis showed that niacin was predicted as a potential treatment for CAD and atherosclerosis (AT) using gene-based and latent variable (LV)-based methods. LV246, associated with plasma lipids and high cholesterol, was identified as a key factor in predicting niacin's therapeutic effects on AT. Additionally, LV246 was also relevant for ischaemic heart disease and high cholesterol.\n"
     ]
    }
   ],
   "source": [
    "par1 = process_paragraph(mod_section_paragraphs[4])\n",
    "print(par1)"
   ]
  },
  {
   "cell_type": "code",
   "execution_count": 119,
   "id": "6f7da9f8-c83d-4353-ad5f-3a81bf42439e",
   "metadata": {
    "execution": {
     "iopub.execute_input": "2024-03-23T05:13:00.407064Z",
     "iopub.status.busy": "2024-03-23T05:13:00.406878Z",
     "iopub.status.idle": "2024-03-23T05:13:00.409604Z",
     "shell.execute_reply": "2024-03-23T05:13:00.409093Z"
    },
    "papermill": {
     "duration": 0.042292,
     "end_time": "2024-03-23T05:13:00.410295",
     "exception": false,
     "start_time": "2024-03-23T05:13:00.368003",
     "status": "completed"
    },
    "tags": []
   },
   "outputs": [],
   "source": [
    "paragraph_matches.append(\n",
    "    (\n",
    "        section_name,\n",
    "        par0,\n",
    "        par1,\n",
    "    )\n",
    ")"
   ]
  },
  {
   "cell_type": "code",
   "execution_count": 120,
   "id": "24174590-f5f6-43ff-925e-f25186b35935",
   "metadata": {
    "execution": {
     "iopub.execute_input": "2024-03-23T05:13:00.488240Z",
     "iopub.status.busy": "2024-03-23T05:13:00.487811Z",
     "iopub.status.idle": "2024-03-23T05:13:00.491497Z",
     "shell.execute_reply": "2024-03-23T05:13:00.491014Z"
    },
    "papermill": {
     "duration": 0.043443,
     "end_time": "2024-03-23T05:13:00.492163",
     "exception": false,
     "start_time": "2024-03-23T05:13:00.448720",
     "status": "completed"
    },
    "tags": []
   },
   "outputs": [
    {
     "data": {
      "text/plain": [
       "('results',\n",
       " 'We examined a specific drug-disease pair to determine whether the LVs driving the prediction were biologically plausible. Nicotinic acid (niacin) is a B vitamin widely used clinically to treat lipid disorders, although there is controversy on its clinical utility in preventing cardiovascular disease [@pmid:22085343; @pmid:25014686; @pmid:30977858]. Niacin exerts its effects on multiple tissues, although its mechanisms are not well understood [@doi:10.1016/j.amjcard.2008.02.029; @doi:10.1194/jlr.S092007; @pmid:24363242; @pmid:24713591]. This compound can increase high-density lipoprotein (HDL) by inhibiting an HDL catabolism receptor in the liver. Niacin also inhibits diacylglycerol acyltransferase–2 (DGAT2), which decreases the production of low-density lipoproteins (LDL) either by modulating triglyceride synthesis in hepatocytes or by inhibiting adipocyte triglyceride lipolysis [@doi:10.1016/j.amjcard.2008.02.029]. Niacin was one of the drugs in the gold standard set indicated for atherosclerosis (AT) and coronary artery disease (CAD). We observed that this compound was predicted by the gene-based and LV-based approach as a medical indication for coronary artery disease (CAD), with scores above the mean (0.51 and 0.96, respectively). For AT, the LV-based approach predicted niacin as a therapeutic drug with a score of 0.52, whereas the gene-based method assigned a negative score of -0.01 (below the mean). Since LVs represent interpretable features associated with specific cell types, we analyzed which LVs positively contributed to these predictions (i.e., with an opposite direction between niacin and the disease). Notably, LV246 (Figure @fig:lv246), expressed in adipose tissue and liver and associated with plasma lipids and high cholesterol (Table @tbl:sup:phenomexcan_assocs:lv246), was the 16th most important module in the prediction of niacin as a therapeutic drug for AT. Besides the gold standard set, LV246 was among the top modules for other cardiovascular diseases, such as ischaemic heart disease (wide definition, 15th module) and high cholesterol (7th module).',\n",
       " \"We investigated the relationship between niacin and coronary artery disease (CAD) using gene expression patterns. Niacin, a B vitamin commonly used to treat lipid disorders, has unclear clinical benefits in preventing cardiovascular disease. Its mechanisms of action involve inhibiting an HDL catabolism receptor in the liver and DGAT2, which reduces LDL production. Our analysis showed that niacin was predicted as a potential treatment for CAD and atherosclerosis (AT) using gene-based and latent variable (LV)-based methods. LV246, associated with plasma lipids and high cholesterol, was identified as a key factor in predicting niacin's therapeutic effects on AT. Additionally, LV246 was also relevant for ischaemic heart disease and high cholesterol.\")"
      ]
     },
     "metadata": {},
     "output_type": "display_data"
    }
   ],
   "source": [
    "display(paragraph_matches[-1])"
   ]
  },
  {
   "cell_type": "markdown",
   "id": "a2a6579b-0aac-4c90-994f-bbf2a80f0fa7",
   "metadata": {
    "editable": true,
    "papermill": {
     "duration": 0.038369,
     "end_time": "2024-03-23T05:13:00.569099",
     "exception": false,
     "start_time": "2024-03-23T05:13:00.530730",
     "status": "completed"
    },
    "slideshow": {
     "slide_type": ""
    },
    "tags": []
   },
   "source": [
    "####  Paragraph 03"
   ]
  },
  {
   "cell_type": "code",
   "execution_count": 121,
   "id": "ccaa11b8-53d6-4aa1-bc49-d0d553c61c5c",
   "metadata": {
    "execution": {
     "iopub.execute_input": "2024-03-23T05:13:00.647278Z",
     "iopub.status.busy": "2024-03-23T05:13:00.646849Z",
     "iopub.status.idle": "2024-03-23T05:13:00.650156Z",
     "shell.execute_reply": "2024-03-23T05:13:00.649615Z"
    },
    "papermill": {
     "duration": 0.043252,
     "end_time": "2024-03-23T05:13:00.650917",
     "exception": false,
     "start_time": "2024-03-23T05:13:00.607665",
     "status": "completed"
    },
    "tags": []
   },
   "outputs": [
    {
     "name": "stdout",
     "output_type": "stream",
     "text": [
      "The analysis of other top niacin-contributing LVs across different cardiovascular diseases revealed additional mechanisms of action. For example, *GPR109A/HCAR2* encodes a G protein-coupled high-affinity niacin receptor in adipocytes and immune cells, including monocytes, macrophages, neutrophils and dendritic cells [@doi:10.1016/j.tips.2006.05.008; @doi:10.1038/sj.jid.5700586]. It was initially thought that the antiatherogenic effects of niacin were solely due to the inhibition of lipolysis in adipose tissue. However, it has been shown that nicotinic acid can reduce atherosclerosis progression independently of its antidyslipidemic activity by activating *GPR109A* in immune cells [@doi:10.1172/JCI41651], thus boosting anti-inflammatory processes [@doi:10.1161/ATVBAHA.108.179283]. In addition, flushing, a common adverse effect of niacin, is also produced by the activation of GPR109A in Langerhans cells (macrophages of the skin). This alternative mechanism for niacin could have been hypothesized by examining the cell types where the top-contributing modules are expressed: for instance, LV116 and LV931 (Figures @fig:lv116:cell_types and @fig:sup:lv931, and Tables @tbl:sup:multiplier_pathways:lv116 and @tbl:sup:multiplier_pathways:lv931) were the top two modules for AT, with a strong signature in monocytes, macrophages, neutrophils, dendritic cells, among others. In Figure @fig:lv116:cell_types, it can be seen that LV116's genes are expressed as an immune response when these cell types are under different stimuli, such as diarrhea caused by different pathogens [@doi:10.1371/journal.pone.0192082], samples from multiple sclerosis or systemic lupus erythematosus [@doi:10.1371/journal.pone.0109760; @doi:10.1126/science.aac7442], or infected with different viruses (such as herpes simplex [@url:https://www.ncbi.nlm.nih.gov/bioproject/PRJNA258384], West Nile virus [@doi:10.3390/v5071664], *Salmonella typhimurium* [@doi:10.1038/srep16882], among others). These three LVs (LV246, LV116 and LV931) were among the top 20 modules contributing to the niacin prediction across different cardiovascular traits (Table @tbl:niacin:cardio:top_lvs).\n"
     ]
    }
   ],
   "source": [
    "par0 = process_paragraph(orig_section_paragraphs[7])\n",
    "print(par0)"
   ]
  },
  {
   "cell_type": "code",
   "execution_count": 122,
   "id": "72dd7868-14b6-4219-90f9-99abf1c6242a",
   "metadata": {
    "execution": {
     "iopub.execute_input": "2024-03-23T05:13:00.728891Z",
     "iopub.status.busy": "2024-03-23T05:13:00.728705Z",
     "iopub.status.idle": "2024-03-23T05:13:00.731826Z",
     "shell.execute_reply": "2024-03-23T05:13:00.731289Z"
    },
    "papermill": {
     "duration": 0.043206,
     "end_time": "2024-03-23T05:13:00.732572",
     "exception": false,
     "start_time": "2024-03-23T05:13:00.689366",
     "status": "completed"
    },
    "tags": []
   },
   "outputs": [
    {
     "name": "stdout",
     "output_type": "stream",
     "text": [
      "Analysis of top niacin-contributing LVs in various cardiovascular diseases revealed additional mechanisms of action. For instance, the gene *GPR109A/HCAR2* encodes a high-affinity niacin receptor in adipocytes and immune cells, including monocytes, macrophages, neutrophils, and dendritic cells. Initially, niacin's antiatherogenic effects were attributed to inhibiting lipolysis in adipose tissue. However, studies have shown that nicotinic acid can independently reduce atherosclerosis progression by activating *GPR109A* in immune cells, promoting anti-inflammatory processes. Moreover, flushing, a common niacin side effect, is also triggered by *GPR109A* activation in Langerhans cells. This alternative mechanism could have been predicted by examining cell types expressing top-contributing modules, such as LV116 and LV931, which show strong signatures in immune cells like monocytes and macrophages (Figures @fig:lv116:cell_types and @fig:sup:lv931, Tables @tbl:sup:multiplier_pathways:lv116 and @tbl:sup:multiplier_pathways:lv931). These modules exhibit an immune response when exposed to various stimuli, including infections from different pathogens or viruses. LV246, LV116, and LV931 were among the top 20 modules predicting niacin effects on different cardiovascular traits (Table @tbl:niacin:cardio:top_lvs).\n"
     ]
    }
   ],
   "source": [
    "par1 = process_paragraph(mod_section_paragraphs[7])\n",
    "print(par1)"
   ]
  },
  {
   "cell_type": "code",
   "execution_count": 123,
   "id": "1eef59e4-3276-4212-9402-046282a0a693",
   "metadata": {
    "execution": {
     "iopub.execute_input": "2024-03-23T05:13:00.810633Z",
     "iopub.status.busy": "2024-03-23T05:13:00.810233Z",
     "iopub.status.idle": "2024-03-23T05:13:00.813004Z",
     "shell.execute_reply": "2024-03-23T05:13:00.812501Z"
    },
    "papermill": {
     "duration": 0.042504,
     "end_time": "2024-03-23T05:13:00.813741",
     "exception": false,
     "start_time": "2024-03-23T05:13:00.771237",
     "status": "completed"
    },
    "tags": []
   },
   "outputs": [],
   "source": [
    "paragraph_matches.append(\n",
    "    (\n",
    "        section_name,\n",
    "        par0,\n",
    "        par1,\n",
    "    )\n",
    ")"
   ]
  },
  {
   "cell_type": "code",
   "execution_count": 124,
   "id": "3fe28c5f-1b7a-44ff-ad31-d1ffa784a224",
   "metadata": {
    "execution": {
     "iopub.execute_input": "2024-03-23T05:13:00.891843Z",
     "iopub.status.busy": "2024-03-23T05:13:00.891651Z",
     "iopub.status.idle": "2024-03-23T05:13:00.895341Z",
     "shell.execute_reply": "2024-03-23T05:13:00.894848Z"
    },
    "papermill": {
     "duration": 0.043639,
     "end_time": "2024-03-23T05:13:00.896080",
     "exception": false,
     "start_time": "2024-03-23T05:13:00.852441",
     "status": "completed"
    },
    "tags": []
   },
   "outputs": [
    {
     "data": {
      "text/plain": [
       "('results',\n",
       " \"The analysis of other top niacin-contributing LVs across different cardiovascular diseases revealed additional mechanisms of action. For example, *GPR109A/HCAR2* encodes a G protein-coupled high-affinity niacin receptor in adipocytes and immune cells, including monocytes, macrophages, neutrophils and dendritic cells [@doi:10.1016/j.tips.2006.05.008; @doi:10.1038/sj.jid.5700586]. It was initially thought that the antiatherogenic effects of niacin were solely due to the inhibition of lipolysis in adipose tissue. However, it has been shown that nicotinic acid can reduce atherosclerosis progression independently of its antidyslipidemic activity by activating *GPR109A* in immune cells [@doi:10.1172/JCI41651], thus boosting anti-inflammatory processes [@doi:10.1161/ATVBAHA.108.179283]. In addition, flushing, a common adverse effect of niacin, is also produced by the activation of GPR109A in Langerhans cells (macrophages of the skin). This alternative mechanism for niacin could have been hypothesized by examining the cell types where the top-contributing modules are expressed: for instance, LV116 and LV931 (Figures @fig:lv116:cell_types and @fig:sup:lv931, and Tables @tbl:sup:multiplier_pathways:lv116 and @tbl:sup:multiplier_pathways:lv931) were the top two modules for AT, with a strong signature in monocytes, macrophages, neutrophils, dendritic cells, among others. In Figure @fig:lv116:cell_types, it can be seen that LV116's genes are expressed as an immune response when these cell types are under different stimuli, such as diarrhea caused by different pathogens [@doi:10.1371/journal.pone.0192082], samples from multiple sclerosis or systemic lupus erythematosus [@doi:10.1371/journal.pone.0109760; @doi:10.1126/science.aac7442], or infected with different viruses (such as herpes simplex [@url:https://www.ncbi.nlm.nih.gov/bioproject/PRJNA258384], West Nile virus [@doi:10.3390/v5071664], *Salmonella typhimurium* [@doi:10.1038/srep16882], among others). These three LVs (LV246, LV116 and LV931) were among the top 20 modules contributing to the niacin prediction across different cardiovascular traits (Table @tbl:niacin:cardio:top_lvs).\",\n",
       " \"Analysis of top niacin-contributing LVs in various cardiovascular diseases revealed additional mechanisms of action. For instance, the gene *GPR109A/HCAR2* encodes a high-affinity niacin receptor in adipocytes and immune cells, including monocytes, macrophages, neutrophils, and dendritic cells. Initially, niacin's antiatherogenic effects were attributed to inhibiting lipolysis in adipose tissue. However, studies have shown that nicotinic acid can independently reduce atherosclerosis progression by activating *GPR109A* in immune cells, promoting anti-inflammatory processes. Moreover, flushing, a common niacin side effect, is also triggered by *GPR109A* activation in Langerhans cells. This alternative mechanism could have been predicted by examining cell types expressing top-contributing modules, such as LV116 and LV931, which show strong signatures in immune cells like monocytes and macrophages (Figures @fig:lv116:cell_types and @fig:sup:lv931, Tables @tbl:sup:multiplier_pathways:lv116 and @tbl:sup:multiplier_pathways:lv931). These modules exhibit an immune response when exposed to various stimuli, including infections from different pathogens or viruses. LV246, LV116, and LV931 were among the top 20 modules predicting niacin effects on different cardiovascular traits (Table @tbl:niacin:cardio:top_lvs).\")"
      ]
     },
     "metadata": {},
     "output_type": "display_data"
    }
   ],
   "source": [
    "display(paragraph_matches[-1])"
   ]
  },
  {
   "cell_type": "markdown",
   "id": "41b64df9-3426-4c16-afe1-f0d63cb81440",
   "metadata": {
    "editable": true,
    "papermill": {
     "duration": 0.065329,
     "end_time": "2024-03-23T05:13:01.000523",
     "exception": false,
     "start_time": "2024-03-23T05:13:00.935194",
     "status": "completed"
    },
    "slideshow": {
     "slide_type": ""
    },
    "tags": []
   },
   "source": [
    "####  Paragraph 04"
   ]
  },
  {
   "cell_type": "code",
   "execution_count": 125,
   "id": "211b55a4-3399-4f2d-a72c-c061bb71576b",
   "metadata": {
    "execution": {
     "iopub.execute_input": "2024-03-23T05:13:01.078726Z",
     "iopub.status.busy": "2024-03-23T05:13:01.078528Z",
     "iopub.status.idle": "2024-03-23T05:13:01.081715Z",
     "shell.execute_reply": "2024-03-23T05:13:01.081205Z"
    },
    "papermill": {
     "duration": 0.043163,
     "end_time": "2024-03-23T05:13:01.082428",
     "exception": false,
     "start_time": "2024-03-23T05:13:01.039265",
     "status": "completed"
    },
    "tags": []
   },
   "outputs": [
    {
     "name": "stdout",
     "output_type": "stream",
     "text": [
      "Beyond cardiovascular traits, there are other potentially interesting LVs that could extend our understanding of the mechanisms of niacin. For example, LV66, one of the top LVs affected by niacin (Figure @fig:sup:lv66), was mainly expressed in ovarian granulosa cells. This compound has been very recently considered a potential therapeutic for ovarian diseases [@doi:10.1159/000495051; @doi:10.1071/RD20306], as it was found to promote follicle growth and inhibit granulosa cell apoptosis in animal models.\n"
     ]
    }
   ],
   "source": [
    "par0 = process_paragraph(orig_section_paragraphs[10])\n",
    "print(par0)"
   ]
  },
  {
   "cell_type": "code",
   "execution_count": 126,
   "id": "6bcb43b3-841e-49b3-ad15-c6a21a87adc2",
   "metadata": {
    "execution": {
     "iopub.execute_input": "2024-03-23T05:13:01.160731Z",
     "iopub.status.busy": "2024-03-23T05:13:01.160371Z",
     "iopub.status.idle": "2024-03-23T05:13:01.163458Z",
     "shell.execute_reply": "2024-03-23T05:13:01.162925Z"
    },
    "papermill": {
     "duration": 0.043085,
     "end_time": "2024-03-23T05:13:01.164149",
     "exception": false,
     "start_time": "2024-03-23T05:13:01.121064",
     "status": "completed"
    },
    "tags": []
   },
   "outputs": [
    {
     "name": "stdout",
     "output_type": "stream",
     "text": [
      "In addition to cardiovascular traits, other LVs could enhance our knowledge of niacin mechanisms. For instance, LV66, a key LV impacted by niacin (Figure 1), showed predominant expression in ovarian granulosa cells. Recent studies have suggested niacin as a potential therapy for ovarian diseases, as it has been shown to stimulate follicle growth and prevent granulosa cell apoptosis in animal models.\n"
     ]
    }
   ],
   "source": [
    "par1 = process_paragraph(mod_section_paragraphs[10])\n",
    "print(par1)"
   ]
  },
  {
   "cell_type": "code",
   "execution_count": 127,
   "id": "3500c2a1-31f8-4699-acd4-9fca688815bb",
   "metadata": {
    "execution": {
     "iopub.execute_input": "2024-03-23T05:13:01.242763Z",
     "iopub.status.busy": "2024-03-23T05:13:01.242406Z",
     "iopub.status.idle": "2024-03-23T05:13:01.245166Z",
     "shell.execute_reply": "2024-03-23T05:13:01.244653Z"
    },
    "papermill": {
     "duration": 0.042805,
     "end_time": "2024-03-23T05:13:01.245883",
     "exception": false,
     "start_time": "2024-03-23T05:13:01.203078",
     "status": "completed"
    },
    "tags": []
   },
   "outputs": [],
   "source": [
    "paragraph_matches.append(\n",
    "    (\n",
    "        section_name,\n",
    "        par0,\n",
    "        par1,\n",
    "    )\n",
    ")"
   ]
  },
  {
   "cell_type": "code",
   "execution_count": 128,
   "id": "3948b191-16e9-4046-bdc7-e4c2aea8b42e",
   "metadata": {
    "execution": {
     "iopub.execute_input": "2024-03-23T05:13:01.324505Z",
     "iopub.status.busy": "2024-03-23T05:13:01.324147Z",
     "iopub.status.idle": "2024-03-23T05:13:01.327910Z",
     "shell.execute_reply": "2024-03-23T05:13:01.327393Z"
    },
    "papermill": {
     "duration": 0.044034,
     "end_time": "2024-03-23T05:13:01.328649",
     "exception": false,
     "start_time": "2024-03-23T05:13:01.284615",
     "status": "completed"
    },
    "tags": []
   },
   "outputs": [
    {
     "data": {
      "text/plain": [
       "('results',\n",
       " 'Beyond cardiovascular traits, there are other potentially interesting LVs that could extend our understanding of the mechanisms of niacin. For example, LV66, one of the top LVs affected by niacin (Figure @fig:sup:lv66), was mainly expressed in ovarian granulosa cells. This compound has been very recently considered a potential therapeutic for ovarian diseases [@doi:10.1159/000495051; @doi:10.1071/RD20306], as it was found to promote follicle growth and inhibit granulosa cell apoptosis in animal models.',\n",
       " 'In addition to cardiovascular traits, other LVs could enhance our knowledge of niacin mechanisms. For instance, LV66, a key LV impacted by niacin (Figure 1), showed predominant expression in ovarian granulosa cells. Recent studies have suggested niacin as a potential therapy for ovarian diseases, as it has been shown to stimulate follicle growth and prevent granulosa cell apoptosis in animal models.')"
      ]
     },
     "metadata": {},
     "output_type": "display_data"
    }
   ],
   "source": [
    "display(paragraph_matches[-1])"
   ]
  },
  {
   "cell_type": "markdown",
   "id": "90d4d27a-ebbe-4314-b2d6-5df00bb6d33e",
   "metadata": {
    "editable": true,
    "papermill": {
     "duration": 0.038599,
     "end_time": "2024-03-23T05:13:01.406027",
     "exception": false,
     "start_time": "2024-03-23T05:13:01.367428",
     "status": "completed"
    },
    "slideshow": {
     "slide_type": ""
    },
    "tags": []
   },
   "source": [
    "## Results (clustering)"
   ]
  },
  {
   "cell_type": "code",
   "execution_count": 129,
   "id": "fd221cc2-4c89-4e24-98bb-55debc8bf194",
   "metadata": {
    "execution": {
     "iopub.execute_input": "2024-03-23T05:13:01.484630Z",
     "iopub.status.busy": "2024-03-23T05:13:01.484400Z",
     "iopub.status.idle": "2024-03-23T05:13:01.487258Z",
     "shell.execute_reply": "2024-03-23T05:13:01.486739Z"
    },
    "papermill": {
     "duration": 0.043283,
     "end_time": "2024-03-23T05:13:01.487985",
     "exception": false,
     "start_time": "2024-03-23T05:13:01.444702",
     "status": "completed"
    },
    "tags": []
   },
   "outputs": [],
   "source": [
    "# section_name = \"results\""
   ]
  },
  {
   "cell_type": "code",
   "execution_count": 130,
   "id": "3ab1b2e6-9a21-4ad5-a586-867ef0932e01",
   "metadata": {
    "editable": true,
    "execution": {
     "iopub.execute_input": "2024-03-23T05:13:01.566484Z",
     "iopub.status.busy": "2024-03-23T05:13:01.566115Z",
     "iopub.status.idle": "2024-03-23T05:13:01.569533Z",
     "shell.execute_reply": "2024-03-23T05:13:01.568962Z"
    },
    "papermill": {
     "duration": 0.043517,
     "end_time": "2024-03-23T05:13:01.570309",
     "exception": false,
     "start_time": "2024-03-23T05:13:01.526792",
     "status": "completed"
    },
    "slideshow": {
     "slide_type": ""
    },
    "tags": []
   },
   "outputs": [
    {
     "name": "stdout",
     "output_type": "stream",
     "text": [
      "content/04.20.00.results_traits_clustering.md\n"
     ]
    }
   ],
   "source": [
    "pr_filename = pr_files[5].filename\n",
    "assert section_name in pr_filename\n",
    "assert \"traits_clustering\" in pr_filename\n",
    "print(pr_filename)"
   ]
  },
  {
   "cell_type": "markdown",
   "id": "a3ea57fe-0598-44b9-a827-9ab9ecfdaa55",
   "metadata": {
    "editable": true,
    "papermill": {
     "duration": 0.0387,
     "end_time": "2024-03-23T05:13:01.647709",
     "exception": false,
     "start_time": "2024-03-23T05:13:01.609009",
     "status": "completed"
    },
    "slideshow": {
     "slide_type": ""
    },
    "tags": []
   },
   "source": [
    "### Original"
   ]
  },
  {
   "cell_type": "code",
   "execution_count": 131,
   "id": "a3b0a5a5-33fe-4b3b-864e-97d801c19d3c",
   "metadata": {
    "execution": {
     "iopub.execute_input": "2024-03-23T05:13:01.726118Z",
     "iopub.status.busy": "2024-03-23T05:13:01.725660Z",
     "iopub.status.idle": "2024-03-23T05:13:01.866651Z",
     "shell.execute_reply": "2024-03-23T05:13:01.866107Z"
    },
    "papermill": {
     "duration": 0.181221,
     "end_time": "2024-03-23T05:13:01.867630",
     "exception": false,
     "start_time": "2024-03-23T05:13:01.686409",
     "status": "completed"
    },
    "tags": []
   },
   "outputs": [
    {
     "name": "stdout",
     "output_type": "stream",
     "text": [
      "### LVs reveal trait clusters with shared transcri\n"
     ]
    }
   ],
   "source": [
    "# get content\n",
    "orig_section_content = repo.get_contents(pr_filename, pr_prev).decoded_content.decode(\n",
    "    \"utf-8\"\n",
    ")\n",
    "print(orig_section_content[:50])"
   ]
  },
  {
   "cell_type": "code",
   "execution_count": 132,
   "id": "83502bc8-e7c9-45e8-84c0-54c249088508",
   "metadata": {
    "execution": {
     "iopub.execute_input": "2024-03-23T05:13:01.970086Z",
     "iopub.status.busy": "2024-03-23T05:13:01.969898Z",
     "iopub.status.idle": "2024-03-23T05:13:01.973741Z",
     "shell.execute_reply": "2024-03-23T05:13:01.973213Z"
    },
    "papermill": {
     "duration": 0.0496,
     "end_time": "2024-03-23T05:13:01.974545",
     "exception": false,
     "start_time": "2024-03-23T05:13:01.924945",
     "status": "completed"
    },
    "tags": []
   },
   "outputs": [
    {
     "data": {
      "text/plain": [
       "9"
      ]
     },
     "metadata": {},
     "output_type": "display_data"
    }
   ],
   "source": [
    "# split by paragraph\n",
    "orig_section_paragraphs = orig_section_content.split(\"\\n\\n\")\n",
    "display(len(orig_section_paragraphs))"
   ]
  },
  {
   "cell_type": "markdown",
   "id": "f490a83c-917f-4659-a2dd-a3d78a8e09a0",
   "metadata": {
    "editable": true,
    "papermill": {
     "duration": 0.066335,
     "end_time": "2024-03-23T05:13:02.079603",
     "exception": false,
     "start_time": "2024-03-23T05:13:02.013268",
     "status": "completed"
    },
    "slideshow": {
     "slide_type": ""
    },
    "tags": []
   },
   "source": [
    "### Modified"
   ]
  },
  {
   "cell_type": "code",
   "execution_count": 133,
   "id": "699ec362-a3d9-495c-8767-84b36c47987e",
   "metadata": {
    "execution": {
     "iopub.execute_input": "2024-03-23T05:13:02.158369Z",
     "iopub.status.busy": "2024-03-23T05:13:02.158017Z",
     "iopub.status.idle": "2024-03-23T05:13:02.299139Z",
     "shell.execute_reply": "2024-03-23T05:13:02.298610Z"
    },
    "papermill": {
     "duration": 0.181322,
     "end_time": "2024-03-23T05:13:02.299937",
     "exception": false,
     "start_time": "2024-03-23T05:13:02.118615",
     "status": "completed"
    },
    "tags": []
   },
   "outputs": [
    {
     "name": "stdout",
     "output_type": "stream",
     "text": [
      "### LVs reveal trait clusters with shared transcri\n"
     ]
    }
   ],
   "source": [
    "# get content\n",
    "mod_section_content = repo.get_contents(pr_filename, pr_curr).decoded_content.decode(\n",
    "    \"utf-8\"\n",
    ")\n",
    "print(mod_section_content[:50])"
   ]
  },
  {
   "cell_type": "code",
   "execution_count": 134,
   "id": "8970336c-c75b-4513-a265-619beb2c0c69",
   "metadata": {
    "execution": {
     "iopub.execute_input": "2024-03-23T05:13:02.378595Z",
     "iopub.status.busy": "2024-03-23T05:13:02.378262Z",
     "iopub.status.idle": "2024-03-23T05:13:02.382224Z",
     "shell.execute_reply": "2024-03-23T05:13:02.381704Z"
    },
    "papermill": {
     "duration": 0.044037,
     "end_time": "2024-03-23T05:13:02.382894",
     "exception": false,
     "start_time": "2024-03-23T05:13:02.338857",
     "status": "completed"
    },
    "tags": []
   },
   "outputs": [
    {
     "data": {
      "text/plain": [
       "10"
      ]
     },
     "metadata": {},
     "output_type": "display_data"
    }
   ],
   "source": [
    "# split by paragraph\n",
    "mod_section_paragraphs = mod_section_content.split(\"\\n\\n\")\n",
    "display(len(mod_section_paragraphs))"
   ]
  },
  {
   "cell_type": "markdown",
   "id": "7af17b40-78c1-4ac2-a7bf-29202e185288",
   "metadata": {
    "editable": true,
    "papermill": {
     "duration": 0.038841,
     "end_time": "2024-03-23T05:13:02.460925",
     "exception": false,
     "start_time": "2024-03-23T05:13:02.422084",
     "status": "completed"
    },
    "slideshow": {
     "slide_type": ""
    },
    "tags": []
   },
   "source": [
    "### Match"
   ]
  },
  {
   "cell_type": "code",
   "execution_count": 135,
   "id": "74a51ba1-8ef2-4740-97e1-52e8b4f72a3f",
   "metadata": {
    "execution": {
     "iopub.execute_input": "2024-03-23T05:13:02.539328Z",
     "iopub.status.busy": "2024-03-23T05:13:02.539135Z",
     "iopub.status.idle": "2024-03-23T05:13:02.542796Z",
     "shell.execute_reply": "2024-03-23T05:13:02.542272Z"
    },
    "papermill": {
     "duration": 0.043773,
     "end_time": "2024-03-23T05:13:02.543477",
     "exception": false,
     "start_time": "2024-03-23T05:13:02.499704",
     "status": "completed"
    },
    "tags": []
   },
   "outputs": [
    {
     "data": {
      "text/plain": [
       "'### LVs reveal trait clusters with shared transcriptomic properties'"
      ]
     },
     "execution_count": 135,
     "metadata": {},
     "output_type": "execute_result"
    }
   ],
   "source": [
    "orig_section_paragraphs[0]"
   ]
  },
  {
   "cell_type": "code",
   "execution_count": 136,
   "id": "e53b60c3-42e3-43d9-8259-0ca06cb8a951",
   "metadata": {
    "execution": {
     "iopub.execute_input": "2024-03-23T05:13:02.622258Z",
     "iopub.status.busy": "2024-03-23T05:13:02.622071Z",
     "iopub.status.idle": "2024-03-23T05:13:02.625599Z",
     "shell.execute_reply": "2024-03-23T05:13:02.625066Z"
    },
    "papermill": {
     "duration": 0.043858,
     "end_time": "2024-03-23T05:13:02.626302",
     "exception": false,
     "start_time": "2024-03-23T05:13:02.582444",
     "status": "completed"
    },
    "tags": []
   },
   "outputs": [
    {
     "data": {
      "text/plain": [
       "'### LVs reveal trait clusters with shared transcriptomic properties'"
      ]
     },
     "execution_count": 136,
     "metadata": {},
     "output_type": "execute_result"
    }
   ],
   "source": [
    "mod_section_paragraphs[0]"
   ]
  },
  {
   "cell_type": "markdown",
   "id": "662d127e-f60d-46e6-90ae-597a8e9a2948",
   "metadata": {
    "editable": true,
    "papermill": {
     "duration": 0.038877,
     "end_time": "2024-03-23T05:13:02.704152",
     "exception": false,
     "start_time": "2024-03-23T05:13:02.665275",
     "status": "completed"
    },
    "slideshow": {
     "slide_type": ""
    },
    "tags": []
   },
   "source": [
    "####  Paragraph 00"
   ]
  },
  {
   "cell_type": "code",
   "execution_count": 137,
   "id": "24b696b2-51a4-43f2-a7bb-9426dfc42ff4",
   "metadata": {
    "execution": {
     "iopub.execute_input": "2024-03-23T05:13:02.783217Z",
     "iopub.status.busy": "2024-03-23T05:13:02.782880Z",
     "iopub.status.idle": "2024-03-23T05:13:02.786138Z",
     "shell.execute_reply": "2024-03-23T05:13:02.785570Z"
    },
    "papermill": {
     "duration": 0.043599,
     "end_time": "2024-03-23T05:13:02.786845",
     "exception": false,
     "start_time": "2024-03-23T05:13:02.743246",
     "status": "completed"
    },
    "tags": []
   },
   "outputs": [
    {
     "name": "stdout",
     "output_type": "stream",
     "text": [
      "We used the projection of gene-trait associations into the latent space to find groups of clusters linked by the same transcriptional processes. Since individual clustering algorithms have different biases (i.e., assumptions about the data structure), we designed a consensus clustering framework that combines solutions or partitions of traits generated by different methods ([Methods](#sec:methods:clustering)). Consensus or ensemble approaches have been recommended to avoid several pitfalls when performing cluster analysis on biological data [@doi:10.1126/scisignal.aad1932]. Since diversity in the ensemble is crucial for these methods, we generated different data versions which were processed using different methods with varying sets of parameters (Figure {@fig:clustering:design}a). Then, a consensus function combines the ensemble into a consolidated solution, which has been shown to outperform any individual member of the ensemble [@Strehl2002; @doi:10.1109/TPAMI.2005.113]. Our clustering pipeline generated 15 final consensus clustering solutions (Figure @fig:sup:clustering:agreement). The number of clusters of these partitions (between 5 to 29) was learned from the data by selecting the partitions with the largest agreement with the ensemble [@Strehl2002]. Instead of selecting one of these final solutions with a specific number of clusters, we used a clustering tree [@doi:10.1093/gigascience/giy083] (Figure @fig:clustering:tree) to examine stable groups of traits across multiple resolutions. To understand which latent variables differentiated the group of traits, we trained a decision tree classifier on the input data $\\hat{\\mathbf{M}}$ using the clusters found as labels (Figure {@fig:clustering:design}b, see [Methods](#sec:methods:clustering)).\n"
     ]
    }
   ],
   "source": [
    "par0 = process_paragraph(orig_section_paragraphs[2])\n",
    "print(par0)"
   ]
  },
  {
   "cell_type": "code",
   "execution_count": 138,
   "id": "97884e0e-a7c5-45fa-941e-53aad6a22bdb",
   "metadata": {
    "execution": {
     "iopub.execute_input": "2024-03-23T05:13:02.866089Z",
     "iopub.status.busy": "2024-03-23T05:13:02.865610Z",
     "iopub.status.idle": "2024-03-23T05:13:02.868846Z",
     "shell.execute_reply": "2024-03-23T05:13:02.868318Z"
    },
    "papermill": {
     "duration": 0.043554,
     "end_time": "2024-03-23T05:13:02.869534",
     "exception": false,
     "start_time": "2024-03-23T05:13:02.825980",
     "status": "completed"
    },
    "tags": []
   },
   "outputs": [
    {
     "name": "stdout",
     "output_type": "stream",
     "text": [
      "Gene-trait associations were projected into a latent space to identify clusters with similar transcriptional processes. To address biases in individual clustering algorithms, we developed a consensus clustering framework that combines trait partitions from different methods. This approach, recommended for biological data analysis, involved generating diverse data versions processed with varying parameters. A consensus function then consolidated these solutions, outperforming individual ensemble members. Our pipeline produced 15 final consensus clustering solutions, with cluster numbers ranging from 5 to 29. Instead of selecting a specific solution, we utilized a clustering tree to identify stable trait groups across various resolutions. To determine the distinguishing latent variables, a decision tree classifier was trained on the input data using the identified clusters as labels.\n"
     ]
    }
   ],
   "source": [
    "par1 = process_paragraph(mod_section_paragraphs[2])\n",
    "print(par1)"
   ]
  },
  {
   "cell_type": "code",
   "execution_count": 139,
   "id": "a1a14ad2-980e-471b-9a80-e13c9b51d558",
   "metadata": {
    "execution": {
     "iopub.execute_input": "2024-03-23T05:13:02.949089Z",
     "iopub.status.busy": "2024-03-23T05:13:02.948780Z",
     "iopub.status.idle": "2024-03-23T05:13:02.951561Z",
     "shell.execute_reply": "2024-03-23T05:13:02.951043Z"
    },
    "papermill": {
     "duration": 0.043271,
     "end_time": "2024-03-23T05:13:02.952254",
     "exception": false,
     "start_time": "2024-03-23T05:13:02.908983",
     "status": "completed"
    },
    "tags": []
   },
   "outputs": [],
   "source": [
    "paragraph_matches.append(\n",
    "    (\n",
    "        section_name,\n",
    "        par0,\n",
    "        par1,\n",
    "    )\n",
    ")"
   ]
  },
  {
   "cell_type": "code",
   "execution_count": 140,
   "id": "b8545341-544f-49c8-9a37-ed16e85a56f0",
   "metadata": {
    "execution": {
     "iopub.execute_input": "2024-03-23T05:13:03.031626Z",
     "iopub.status.busy": "2024-03-23T05:13:03.031273Z",
     "iopub.status.idle": "2024-03-23T05:13:03.035072Z",
     "shell.execute_reply": "2024-03-23T05:13:03.034577Z"
    },
    "papermill": {
     "duration": 0.044316,
     "end_time": "2024-03-23T05:13:03.035828",
     "exception": false,
     "start_time": "2024-03-23T05:13:02.991512",
     "status": "completed"
    },
    "scrolled": true,
    "tags": []
   },
   "outputs": [
    {
     "data": {
      "text/plain": [
       "('results',\n",
       " 'We used the projection of gene-trait associations into the latent space to find groups of clusters linked by the same transcriptional processes. Since individual clustering algorithms have different biases (i.e., assumptions about the data structure), we designed a consensus clustering framework that combines solutions or partitions of traits generated by different methods ([Methods](#sec:methods:clustering)). Consensus or ensemble approaches have been recommended to avoid several pitfalls when performing cluster analysis on biological data [@doi:10.1126/scisignal.aad1932]. Since diversity in the ensemble is crucial for these methods, we generated different data versions which were processed using different methods with varying sets of parameters (Figure {@fig:clustering:design}a). Then, a consensus function combines the ensemble into a consolidated solution, which has been shown to outperform any individual member of the ensemble [@Strehl2002; @doi:10.1109/TPAMI.2005.113]. Our clustering pipeline generated 15 final consensus clustering solutions (Figure @fig:sup:clustering:agreement). The number of clusters of these partitions (between 5 to 29) was learned from the data by selecting the partitions with the largest agreement with the ensemble [@Strehl2002]. Instead of selecting one of these final solutions with a specific number of clusters, we used a clustering tree [@doi:10.1093/gigascience/giy083] (Figure @fig:clustering:tree) to examine stable groups of traits across multiple resolutions. To understand which latent variables differentiated the group of traits, we trained a decision tree classifier on the input data $\\\\hat{\\\\mathbf{M}}$ using the clusters found as labels (Figure {@fig:clustering:design}b, see [Methods](#sec:methods:clustering)).',\n",
       " 'Gene-trait associations were projected into a latent space to identify clusters with similar transcriptional processes. To address biases in individual clustering algorithms, we developed a consensus clustering framework that combines trait partitions from different methods. This approach, recommended for biological data analysis, involved generating diverse data versions processed with varying parameters. A consensus function then consolidated these solutions, outperforming individual ensemble members. Our pipeline produced 15 final consensus clustering solutions, with cluster numbers ranging from 5 to 29. Instead of selecting a specific solution, we utilized a clustering tree to identify stable trait groups across various resolutions. To determine the distinguishing latent variables, a decision tree classifier was trained on the input data using the identified clusters as labels.')"
      ]
     },
     "metadata": {},
     "output_type": "display_data"
    }
   ],
   "source": [
    "display(paragraph_matches[-1])"
   ]
  },
  {
   "cell_type": "markdown",
   "id": "785ec5b1-faee-46b2-8196-3929fa815c10",
   "metadata": {
    "editable": true,
    "papermill": {
     "duration": 0.039156,
     "end_time": "2024-03-23T05:13:03.141008",
     "exception": false,
     "start_time": "2024-03-23T05:13:03.101852",
     "status": "completed"
    },
    "slideshow": {
     "slide_type": ""
    },
    "tags": []
   },
   "source": [
    "####  Paragraph 01"
   ]
  },
  {
   "cell_type": "code",
   "execution_count": 141,
   "id": "d83d1e91-f067-46f7-9a28-60a9388438be",
   "metadata": {
    "execution": {
     "iopub.execute_input": "2024-03-23T05:13:03.220633Z",
     "iopub.status.busy": "2024-03-23T05:13:03.220238Z",
     "iopub.status.idle": "2024-03-23T05:13:03.223665Z",
     "shell.execute_reply": "2024-03-23T05:13:03.223109Z"
    },
    "papermill": {
     "duration": 0.044188,
     "end_time": "2024-03-23T05:13:03.224372",
     "exception": false,
     "start_time": "2024-03-23T05:13:03.180184",
     "status": "completed"
    },
    "tags": []
   },
   "outputs": [
    {
     "name": "stdout",
     "output_type": "stream",
     "text": [
      "We found that phenotypes were grouped into five clear branches, defined by their first node at the top of the Figure @fig:clustering:tree: 0) a \"large\" branch that includes most of the traits subdivided only starting at $k$=16 (with asthma, subjective well-being traits, and nutrient intake clusters), 1) heel bone-densitometry measurements, 2) hematological assays on red blood cells, 3) physical measures, including spirometry and body impedance, and anthropometric traits with fat-free and fat mass measures in separate sub-branches, and 4) a \"complex\" branch including keratometry measurements, assays on white blood cells and platelets, skin and hair color traits, autoimmune disorders, and cardiovascular diseases (which also included other cardiovascular-related traits such as hand-grip strength [@pmid:25982160], and environmental/behavioral factors such as physical activity and diet) (see Supplementary Data 3-7 for all clustering results). Within these branches, results were relatively stable, with the same traits often clustered together across different resolutions. Arrows between clusters show traits moving from one group to another, and this mainly happens between clusters within the \"complex\" branch (4) and between clusters from the \"large\" branch (0) to the \"complex\" branch. This behavior is expected since complex diseases are usually associated with shared genetic and environmental factors and are thus hard to categorize into a single cluster.\n"
     ]
    }
   ],
   "source": [
    "par0 = process_paragraph(orig_section_paragraphs[4])\n",
    "print(par0)"
   ]
  },
  {
   "cell_type": "code",
   "execution_count": 142,
   "id": "e52a98f9-c622-4bc2-9731-63a9c5eb22b4",
   "metadata": {
    "execution": {
     "iopub.execute_input": "2024-03-23T05:13:03.303731Z",
     "iopub.status.busy": "2024-03-23T05:13:03.303545Z",
     "iopub.status.idle": "2024-03-23T05:13:03.306703Z",
     "shell.execute_reply": "2024-03-23T05:13:03.306119Z"
    },
    "papermill": {
     "duration": 0.04376,
     "end_time": "2024-03-23T05:13:03.307464",
     "exception": false,
     "start_time": "2024-03-23T05:13:03.263704",
     "status": "completed"
    },
    "tags": []
   },
   "outputs": [
    {
     "name": "stdout",
     "output_type": "stream",
     "text": [
      "Phenotypes were grouped into five branches based on the clustering analysis. The first branch, labeled as \"large,\" encompassed most traits and subdivided only at $k$=16, including asthma, subjective well-being traits, and nutrient intake clusters. The second branch included heel bone-densitometry measurements, while the third branch consisted of hematological assays on red blood cells, physical measures such as spirometry and body impedance, and anthropometric traits with fat-free and fat mass measures in separate sub-branches. The fourth branch, labeled as \"complex,\" comprised keratometry measurements, assays on white blood cells and platelets, skin and hair color traits, autoimmune disorders, and cardiovascular diseases, along with other cardiovascular-related traits like hand-grip strength and environmental/behavioral factors such as physical activity and diet. Results within these branches were stable, with the same traits often clustered together across different resolutions. Arrows between clusters indicated traits moving from one group to another, primarily within the \"complex\" branch and between clusters from the \"large\" branch to the \"complex\" branch. This behavior was expected due to the shared genetic and environmental factors associated with complex diseases, making them challenging to categorize into a single cluster. (Refer to Supplementary Data 3-7 for detailed clustering results).\n"
     ]
    }
   ],
   "source": [
    "par1 = process_paragraph(mod_section_paragraphs[4])\n",
    "print(par1)"
   ]
  },
  {
   "cell_type": "code",
   "execution_count": 143,
   "id": "15c94958-bfbf-48d0-bc41-8d2f13e14802",
   "metadata": {
    "execution": {
     "iopub.execute_input": "2024-03-23T05:13:03.387514Z",
     "iopub.status.busy": "2024-03-23T05:13:03.387057Z",
     "iopub.status.idle": "2024-03-23T05:13:03.389868Z",
     "shell.execute_reply": "2024-03-23T05:13:03.389323Z"
    },
    "papermill": {
     "duration": 0.043567,
     "end_time": "2024-03-23T05:13:03.390582",
     "exception": false,
     "start_time": "2024-03-23T05:13:03.347015",
     "status": "completed"
    },
    "tags": []
   },
   "outputs": [],
   "source": [
    "paragraph_matches.append(\n",
    "    (\n",
    "        section_name,\n",
    "        par0,\n",
    "        par1,\n",
    "    )\n",
    ")"
   ]
  },
  {
   "cell_type": "code",
   "execution_count": 144,
   "id": "d1f5c851-c813-438b-ae7f-3f3f7055cc17",
   "metadata": {
    "execution": {
     "iopub.execute_input": "2024-03-23T05:13:03.470705Z",
     "iopub.status.busy": "2024-03-23T05:13:03.470283Z",
     "iopub.status.idle": "2024-03-23T05:13:03.474856Z",
     "shell.execute_reply": "2024-03-23T05:13:03.474093Z"
    },
    "papermill": {
     "duration": 0.045711,
     "end_time": "2024-03-23T05:13:03.475746",
     "exception": false,
     "start_time": "2024-03-23T05:13:03.430035",
     "status": "completed"
    },
    "scrolled": true,
    "tags": []
   },
   "outputs": [
    {
     "data": {
      "text/plain": [
       "('results',\n",
       " 'We found that phenotypes were grouped into five clear branches, defined by their first node at the top of the Figure @fig:clustering:tree: 0) a \"large\" branch that includes most of the traits subdivided only starting at $k$=16 (with asthma, subjective well-being traits, and nutrient intake clusters), 1) heel bone-densitometry measurements, 2) hematological assays on red blood cells, 3) physical measures, including spirometry and body impedance, and anthropometric traits with fat-free and fat mass measures in separate sub-branches, and 4) a \"complex\" branch including keratometry measurements, assays on white blood cells and platelets, skin and hair color traits, autoimmune disorders, and cardiovascular diseases (which also included other cardiovascular-related traits such as hand-grip strength [@pmid:25982160], and environmental/behavioral factors such as physical activity and diet) (see Supplementary Data 3-7 for all clustering results). Within these branches, results were relatively stable, with the same traits often clustered together across different resolutions. Arrows between clusters show traits moving from one group to another, and this mainly happens between clusters within the \"complex\" branch (4) and between clusters from the \"large\" branch (0) to the \"complex\" branch. This behavior is expected since complex diseases are usually associated with shared genetic and environmental factors and are thus hard to categorize into a single cluster.',\n",
       " 'Phenotypes were grouped into five branches based on the clustering analysis. The first branch, labeled as \"large,\" encompassed most traits and subdivided only at $k$=16, including asthma, subjective well-being traits, and nutrient intake clusters. The second branch included heel bone-densitometry measurements, while the third branch consisted of hematological assays on red blood cells, physical measures such as spirometry and body impedance, and anthropometric traits with fat-free and fat mass measures in separate sub-branches. The fourth branch, labeled as \"complex,\" comprised keratometry measurements, assays on white blood cells and platelets, skin and hair color traits, autoimmune disorders, and cardiovascular diseases, along with other cardiovascular-related traits like hand-grip strength and environmental/behavioral factors such as physical activity and diet. Results within these branches were stable, with the same traits often clustered together across different resolutions. Arrows between clusters indicated traits moving from one group to another, primarily within the \"complex\" branch and between clusters from the \"large\" branch to the \"complex\" branch. This behavior was expected due to the shared genetic and environmental factors associated with complex diseases, making them challenging to categorize into a single cluster. (Refer to Supplementary Data 3-7 for detailed clustering results).')"
      ]
     },
     "metadata": {},
     "output_type": "display_data"
    }
   ],
   "source": [
    "display(paragraph_matches[-1])"
   ]
  },
  {
   "cell_type": "markdown",
   "id": "1228b804-7ee8-4dc6-a990-cee1db5e329b",
   "metadata": {
    "editable": true,
    "papermill": {
     "duration": 0.039446,
     "end_time": "2024-03-23T05:13:03.554997",
     "exception": false,
     "start_time": "2024-03-23T05:13:03.515551",
     "status": "completed"
    },
    "slideshow": {
     "slide_type": ""
    },
    "tags": []
   },
   "source": [
    "####  Paragraph 02"
   ]
  },
  {
   "cell_type": "code",
   "execution_count": 145,
   "id": "444edfdf-c249-4f91-819a-a184f08cf853",
   "metadata": {
    "execution": {
     "iopub.execute_input": "2024-03-23T05:13:03.635411Z",
     "iopub.status.busy": "2024-03-23T05:13:03.634761Z",
     "iopub.status.idle": "2024-03-23T05:13:03.638353Z",
     "shell.execute_reply": "2024-03-23T05:13:03.637787Z"
    },
    "papermill": {
     "duration": 0.044595,
     "end_time": "2024-03-23T05:13:03.639061",
     "exception": false,
     "start_time": "2024-03-23T05:13:03.594466",
     "status": "completed"
    },
    "tags": []
   },
   "outputs": [
    {
     "name": "stdout",
     "output_type": "stream",
     "text": [
      "Next, we analyzed which LVs were driving these clusters of traits. For this, we trained decision tree classifiers on the input data using each cluster at $k$=29 (bottom of Figure @fig:clustering:tree) as labels (see [Methods](#sec:methods:clustering)). This procedure yielded the top LVs that were most discriminative for each cluster. Several of these LVs were well-aligned to existing pathways (Figure @fig:clustering:heatmap), whereas others were not aligned to prior knowledge but still expressed in relevant tissues (Figure @fig:sup:clustering:novel:heatmap). In Figure @fig:clustering:heatmap, it can be seen that some LVs were highly specific to certain traits, while others were associated with a wide range of different phenotypes, thus potentially involved in more general biological functions. We used our regression framework to determine whether these LVs were significantly associated with different traits. For example, LVs such as LV928 and LV30, which were well-aligned to early progenitors of the erythrocytes lineage [@doi:10.1016/j.cell.2011.01.004] (Tables @tbl:sup:multiplier_pathways:lv928 and @tbl:sup:multiplier_pathways:lv30), were predominantly expressed in early differentiation stages of erythropoiesis (Figures @fig:sup:lv928 and @fig:sup:lv30) and strongly associated with different assays on red blood cells (FDR < 0.05; Tables @tbl:sup:phenomexcan_assocs:lv928, @tbl:sup:emerge_assocs:lv928, and @tbl:sup:emerge_assocs:lv30). In contrast, other LVs were highly specific, such as LV730, which is expressed in thrombocytes from different cancer samples (Figure @fig:sup:lv730 and Table @tbl:sup:multiplier_pathways:lv730), and strongly associated with hematological assays on platelets (FDR < 0.05, Table @tbl:sup:phenomexcan_assocs:lv730); or LV598, whose genes were expressed in corneal endothelial cells (Figure @fig:sup:lv598 and Table @tbl:sup:multiplier_pathways:lv598) and associated with keratometry measurements (Table @tbl:sup:phenomexcan_assocs:lv598).\n"
     ]
    }
   ],
   "source": [
    "par0 = process_paragraph(orig_section_paragraphs[6])\n",
    "print(par0)"
   ]
  },
  {
   "cell_type": "code",
   "execution_count": 146,
   "id": "8a4f5dfd-f98e-440f-ad08-e09ef004e8a7",
   "metadata": {
    "execution": {
     "iopub.execute_input": "2024-03-23T05:13:03.718998Z",
     "iopub.status.busy": "2024-03-23T05:13:03.718621Z",
     "iopub.status.idle": "2024-03-23T05:13:03.721791Z",
     "shell.execute_reply": "2024-03-23T05:13:03.721260Z"
    },
    "papermill": {
     "duration": 0.043956,
     "end_time": "2024-03-23T05:13:03.722540",
     "exception": false,
     "start_time": "2024-03-23T05:13:03.678584",
     "status": "completed"
    },
    "tags": []
   },
   "outputs": [
    {
     "name": "stdout",
     "output_type": "stream",
     "text": [
      "We identified the key latent variables (LVs) driving clusters of traits by training decision tree classifiers on the input data using each cluster at $k$=29 as labels. This analysis is shown in Figure 1 at the bottom of the clustering tree. The top LVs that were most discriminative for each cluster were determined through this process. Some of these LVs aligned well with known pathways, as depicted in Figure 2, while others were not previously associated with known pathways but were expressed in relevant tissues, as shown in Figure 3. In Figure 2, it is evident that certain LVs were specific to particular traits, while others were linked to a broad range of phenotypes, potentially indicating involvement in general biological functions. Using our regression framework, we assessed the significant associations of these LVs with various traits. For instance, LVs like LV928 and LV30, which aligned with early progenitors of the erythrocytes lineage, were predominantly expressed in early differentiation stages of erythropoiesis. These LVs were strongly associated with assays on red blood cells (FDR < 0.05). On the other hand, LV730, which is expressed in thrombocytes from different cancer samples, and LV598, expressed in corneal endothelial cells, were highly specific and associated with hematological assays on platelets and keratometry measurements, respectively. Detailed information on these associations can be found in Tables 1, 2, and 3.\n"
     ]
    }
   ],
   "source": [
    "par1 = process_paragraph(mod_section_paragraphs[6:8])\n",
    "print(par1)"
   ]
  },
  {
   "cell_type": "code",
   "execution_count": 147,
   "id": "c4f4f31a-6d59-43fc-8984-416dc159c622",
   "metadata": {
    "execution": {
     "iopub.execute_input": "2024-03-23T05:13:03.802870Z",
     "iopub.status.busy": "2024-03-23T05:13:03.802407Z",
     "iopub.status.idle": "2024-03-23T05:13:03.805030Z",
     "shell.execute_reply": "2024-03-23T05:13:03.804607Z"
    },
    "papermill": {
     "duration": 0.043736,
     "end_time": "2024-03-23T05:13:03.805703",
     "exception": false,
     "start_time": "2024-03-23T05:13:03.761967",
     "status": "completed"
    },
    "tags": []
   },
   "outputs": [],
   "source": [
    "paragraph_matches.append(\n",
    "    (\n",
    "        section_name,\n",
    "        par0,\n",
    "        par1,\n",
    "    )\n",
    ")"
   ]
  },
  {
   "cell_type": "code",
   "execution_count": 148,
   "id": "25fe2511-c13e-481f-a225-8e9bfe3072cc",
   "metadata": {
    "execution": {
     "iopub.execute_input": "2024-03-23T05:13:03.888811Z",
     "iopub.status.busy": "2024-03-23T05:13:03.888431Z",
     "iopub.status.idle": "2024-03-23T05:13:03.892374Z",
     "shell.execute_reply": "2024-03-23T05:13:03.891820Z"
    },
    "papermill": {
     "duration": 0.046715,
     "end_time": "2024-03-23T05:13:03.893181",
     "exception": false,
     "start_time": "2024-03-23T05:13:03.846466",
     "status": "completed"
    },
    "tags": []
   },
   "outputs": [
    {
     "data": {
      "text/plain": [
       "('results',\n",
       " 'Next, we analyzed which LVs were driving these clusters of traits. For this, we trained decision tree classifiers on the input data using each cluster at $k$=29 (bottom of Figure @fig:clustering:tree) as labels (see [Methods](#sec:methods:clustering)). This procedure yielded the top LVs that were most discriminative for each cluster. Several of these LVs were well-aligned to existing pathways (Figure @fig:clustering:heatmap), whereas others were not aligned to prior knowledge but still expressed in relevant tissues (Figure @fig:sup:clustering:novel:heatmap). In Figure @fig:clustering:heatmap, it can be seen that some LVs were highly specific to certain traits, while others were associated with a wide range of different phenotypes, thus potentially involved in more general biological functions. We used our regression framework to determine whether these LVs were significantly associated with different traits. For example, LVs such as LV928 and LV30, which were well-aligned to early progenitors of the erythrocytes lineage [@doi:10.1016/j.cell.2011.01.004] (Tables @tbl:sup:multiplier_pathways:lv928 and @tbl:sup:multiplier_pathways:lv30), were predominantly expressed in early differentiation stages of erythropoiesis (Figures @fig:sup:lv928 and @fig:sup:lv30) and strongly associated with different assays on red blood cells (FDR < 0.05; Tables @tbl:sup:phenomexcan_assocs:lv928, @tbl:sup:emerge_assocs:lv928, and @tbl:sup:emerge_assocs:lv30). In contrast, other LVs were highly specific, such as LV730, which is expressed in thrombocytes from different cancer samples (Figure @fig:sup:lv730 and Table @tbl:sup:multiplier_pathways:lv730), and strongly associated with hematological assays on platelets (FDR < 0.05, Table @tbl:sup:phenomexcan_assocs:lv730); or LV598, whose genes were expressed in corneal endothelial cells (Figure @fig:sup:lv598 and Table @tbl:sup:multiplier_pathways:lv598) and associated with keratometry measurements (Table @tbl:sup:phenomexcan_assocs:lv598).',\n",
       " 'We identified the key latent variables (LVs) driving clusters of traits by training decision tree classifiers on the input data using each cluster at $k$=29 as labels. This analysis is shown in Figure 1 at the bottom of the clustering tree. The top LVs that were most discriminative for each cluster were determined through this process. Some of these LVs aligned well with known pathways, as depicted in Figure 2, while others were not previously associated with known pathways but were expressed in relevant tissues, as shown in Figure 3. In Figure 2, it is evident that certain LVs were specific to particular traits, while others were linked to a broad range of phenotypes, potentially indicating involvement in general biological functions. Using our regression framework, we assessed the significant associations of these LVs with various traits. For instance, LVs like LV928 and LV30, which aligned with early progenitors of the erythrocytes lineage, were predominantly expressed in early differentiation stages of erythropoiesis. These LVs were strongly associated with assays on red blood cells (FDR < 0.05). On the other hand, LV730, which is expressed in thrombocytes from different cancer samples, and LV598, expressed in corneal endothelial cells, were highly specific and associated with hematological assays on platelets and keratometry measurements, respectively. Detailed information on these associations can be found in Tables 1, 2, and 3.')"
      ]
     },
     "metadata": {},
     "output_type": "display_data"
    }
   ],
   "source": [
    "display(paragraph_matches[-1])"
   ]
  },
  {
   "cell_type": "markdown",
   "id": "81d8e39a-f8d1-4f7d-bea3-1c74f1e5449f",
   "metadata": {
    "editable": true,
    "papermill": {
     "duration": 0.039968,
     "end_time": "2024-03-23T05:13:03.973748",
     "exception": false,
     "start_time": "2024-03-23T05:13:03.933780",
     "status": "completed"
    },
    "slideshow": {
     "slide_type": ""
    },
    "tags": []
   },
   "source": [
    "####  Paragraph 03"
   ]
  },
  {
   "cell_type": "code",
   "execution_count": 149,
   "id": "89e9e2b0-3b3f-4c2f-88df-5cec7b169103",
   "metadata": {
    "execution": {
     "iopub.execute_input": "2024-03-23T05:13:04.082779Z",
     "iopub.status.busy": "2024-03-23T05:13:04.082260Z",
     "iopub.status.idle": "2024-03-23T05:13:04.085430Z",
     "shell.execute_reply": "2024-03-23T05:13:04.084836Z"
    },
    "papermill": {
     "duration": 0.044949,
     "end_time": "2024-03-23T05:13:04.086200",
     "exception": false,
     "start_time": "2024-03-23T05:13:04.041251",
     "status": "completed"
    },
    "tags": []
   },
   "outputs": [
    {
     "name": "stdout",
     "output_type": "stream",
     "text": [
      "The sub-branches of autoimmune and cardiovascular diseases merged together at $k=10$ (middle of Figure @fig:clustering:tree), so we expected to find LVs that specifically affect one or both of these types of diseases. For example, LV57, expressed in T cells (Figure @fig:sup:lv57 and Table @tbl:sup:multiplier_pathways:lv57), was the most strongly associated gene module with autoimmune disorders in PhenomeXcan (Table @tbl:sup:phenomexcan_assocs:lv57), with significant associations with hypothyroidism that were replicated in eMERGE (Table @tbl:sup:emerge_assocs:lv57). However, this LV was also strongly associated with deep venous thrombosis in both PhenomeXcan and eMERGE. On the other hand, LV844 was more autoimmune-specific, with associations to polymyalgia rheumatica, type 1 diabetes, rheumatoid arthritis, and celiac disease in PhenomeXcan (Table @tbl:sup:phenomexcan_assocs:lv844). However, these did not replicate in eMERGE. This LV was expressed in a wide range of cell types, including blood, breast organoids, myeloma cells, lung fibroblasts, and different cell types from the brain (Figure @fig:sup:lv844 and Table @tbl:sup:multiplier_pathways:lv844).\n"
     ]
    }
   ],
   "source": [
    "par0 = process_paragraph(orig_section_paragraphs[7])\n",
    "print(par0)"
   ]
  },
  {
   "cell_type": "code",
   "execution_count": 150,
   "id": "bbd2f58c-668e-4fcc-a453-7bb888f2647d",
   "metadata": {
    "execution": {
     "iopub.execute_input": "2024-03-23T05:13:04.166836Z",
     "iopub.status.busy": "2024-03-23T05:13:04.166388Z",
     "iopub.status.idle": "2024-03-23T05:13:04.169553Z",
     "shell.execute_reply": "2024-03-23T05:13:04.169102Z"
    },
    "papermill": {
     "duration": 0.044333,
     "end_time": "2024-03-23T05:13:04.170331",
     "exception": false,
     "start_time": "2024-03-23T05:13:04.125998",
     "status": "completed"
    },
    "tags": []
   },
   "outputs": [
    {
     "name": "stdout",
     "output_type": "stream",
     "text": [
      "The autoimmune and cardiovascular disease sub-branches converged at $k=10$ as shown in Figure 1, indicating potential shared genetic factors. LV57, predominantly expressed in T cells (Figure 2 and Table 1), showed strong associations with autoimmune disorders in PhenomeXcan (Table 2) and replicated associations with hypothyroidism in eMERGE (Table 3). Additionally, LV57 was also associated with deep venous thrombosis. In contrast, LV844 exhibited more autoimmune-specific associations with diseases like polymyalgia rheumatica, type 1 diabetes, rheumatoid arthritis, and celiac disease in PhenomeXcan (Table 4), although these associations were not replicated in eMERGE. LV844 showed broad expression across various cell types, including blood, breast organoids, myeloma cells, lung fibroblasts, and brain cell types (Figure 3 and Table 5).\n"
     ]
    }
   ],
   "source": [
    "par1 = process_paragraph(mod_section_paragraphs[8])\n",
    "print(par1)"
   ]
  },
  {
   "cell_type": "code",
   "execution_count": 151,
   "id": "9336fe9b-4172-4801-8619-1b758d7ade48",
   "metadata": {
    "execution": {
     "iopub.execute_input": "2024-03-23T05:13:04.251771Z",
     "iopub.status.busy": "2024-03-23T05:13:04.251253Z",
     "iopub.status.idle": "2024-03-23T05:13:04.253975Z",
     "shell.execute_reply": "2024-03-23T05:13:04.253514Z"
    },
    "papermill": {
     "duration": 0.043825,
     "end_time": "2024-03-23T05:13:04.254711",
     "exception": false,
     "start_time": "2024-03-23T05:13:04.210886",
     "status": "completed"
    },
    "tags": []
   },
   "outputs": [],
   "source": [
    "paragraph_matches.append(\n",
    "    (\n",
    "        section_name,\n",
    "        par0,\n",
    "        par1,\n",
    "    )\n",
    ")"
   ]
  },
  {
   "cell_type": "code",
   "execution_count": 152,
   "id": "cebe54ed-22a4-452f-b965-0f163a36e3d7",
   "metadata": {
    "execution": {
     "iopub.execute_input": "2024-03-23T05:13:04.335635Z",
     "iopub.status.busy": "2024-03-23T05:13:04.335396Z",
     "iopub.status.idle": "2024-03-23T05:13:04.339129Z",
     "shell.execute_reply": "2024-03-23T05:13:04.338767Z"
    },
    "papermill": {
     "duration": 0.045432,
     "end_time": "2024-03-23T05:13:04.339820",
     "exception": false,
     "start_time": "2024-03-23T05:13:04.294388",
     "status": "completed"
    },
    "tags": []
   },
   "outputs": [
    {
     "data": {
      "text/plain": [
       "('results',\n",
       " 'The sub-branches of autoimmune and cardiovascular diseases merged together at $k=10$ (middle of Figure @fig:clustering:tree), so we expected to find LVs that specifically affect one or both of these types of diseases. For example, LV57, expressed in T cells (Figure @fig:sup:lv57 and Table @tbl:sup:multiplier_pathways:lv57), was the most strongly associated gene module with autoimmune disorders in PhenomeXcan (Table @tbl:sup:phenomexcan_assocs:lv57), with significant associations with hypothyroidism that were replicated in eMERGE (Table @tbl:sup:emerge_assocs:lv57). However, this LV was also strongly associated with deep venous thrombosis in both PhenomeXcan and eMERGE. On the other hand, LV844 was more autoimmune-specific, with associations to polymyalgia rheumatica, type 1 diabetes, rheumatoid arthritis, and celiac disease in PhenomeXcan (Table @tbl:sup:phenomexcan_assocs:lv844). However, these did not replicate in eMERGE. This LV was expressed in a wide range of cell types, including blood, breast organoids, myeloma cells, lung fibroblasts, and different cell types from the brain (Figure @fig:sup:lv844 and Table @tbl:sup:multiplier_pathways:lv844).',\n",
       " 'The autoimmune and cardiovascular disease sub-branches converged at $k=10$ as shown in Figure 1, indicating potential shared genetic factors. LV57, predominantly expressed in T cells (Figure 2 and Table 1), showed strong associations with autoimmune disorders in PhenomeXcan (Table 2) and replicated associations with hypothyroidism in eMERGE (Table 3). Additionally, LV57 was also associated with deep venous thrombosis. In contrast, LV844 exhibited more autoimmune-specific associations with diseases like polymyalgia rheumatica, type 1 diabetes, rheumatoid arthritis, and celiac disease in PhenomeXcan (Table 4), although these associations were not replicated in eMERGE. LV844 showed broad expression across various cell types, including blood, breast organoids, myeloma cells, lung fibroblasts, and brain cell types (Figure 3 and Table 5).')"
      ]
     },
     "metadata": {},
     "output_type": "display_data"
    }
   ],
   "source": [
    "display(paragraph_matches[-1])"
   ]
  },
  {
   "cell_type": "markdown",
   "id": "94bdb2aa-ace6-4314-be0f-4f162a97423f",
   "metadata": {
    "editable": true,
    "papermill": {
     "duration": 0.039603,
     "end_time": "2024-03-23T05:13:04.419629",
     "exception": false,
     "start_time": "2024-03-23T05:13:04.380026",
     "status": "completed"
    },
    "slideshow": {
     "slide_type": ""
    },
    "tags": []
   },
   "source": [
    "####  Paragraph 04"
   ]
  },
  {
   "cell_type": "code",
   "execution_count": 153,
   "id": "9414b184-f12a-4ee5-a71d-e2ce680fb984",
   "metadata": {
    "execution": {
     "iopub.execute_input": "2024-03-23T05:13:04.499819Z",
     "iopub.status.busy": "2024-03-23T05:13:04.499627Z",
     "iopub.status.idle": "2024-03-23T05:13:04.502532Z",
     "shell.execute_reply": "2024-03-23T05:13:04.502140Z"
    },
    "papermill": {
     "duration": 0.044015,
     "end_time": "2024-03-23T05:13:04.503305",
     "exception": false,
     "start_time": "2024-03-23T05:13:04.459290",
     "status": "completed"
    },
    "tags": []
   },
   "outputs": [
    {
     "name": "stdout",
     "output_type": "stream",
     "text": [
      "The cardiovascular sub-branch had 129 significant LV-trait associations in PhenomeXcan and 23 in eMERGE. LV136, aligned with known collagen formation and muscle contraction pathways (Table @tbl:sup:multiplier_pathways:lv136), was associated with coronary artery disease and keratometry measurements in PhenomeXcan (Table @tbl:sup:phenomexcan_assocs:lv136). In eMERGE, this LV was associated with coronary atherosclerosis (phecode: 411.4) (Table @tbl:sup:emerge_assocs:lv136). LV136 was expressed in a wide range of cell types, including fibroblasts, mesenchymal stem cells, osteoblasts, pancreatic stellate cells, cardiomyocytes, and adipocytes (Figure @fig:sup:lv136). Within the cardiovascular sub-branch, we found neuropsychiatric and neurodevelopmental disorders such as Alzheimer's disease, schizophrenia, and attention deficit hyperactivity disorder (ADHD). These disorders were previously linked to the cardiovascular system [@pmid:12093424; @doi:10.1161/CIRCULATIONAHA.113.002065; @doi:10.1192/bjp.bp.117.202606; @doi:10.1161/CIRCRESAHA.118.313563] and share several risk factors, including hypertension, high cholesterol, obesity, smoking, among others [@doi:10.1186/s12916-014-0206-2; @doi:10.1111/j.1076-7460.2007.06696.x]. However, our results grouped these diseases by potentially shared transcriptional processes expressed in specific tissues/cell types. Alzheimer's disease (not present in eMERGE), for instance, was significantly associated with LV21 in PhenomeXcan (Table @tbl:sup:phenomexcan_assocs:lv21). LV21, a gene module not aligned to prior pathways, was strongly expressed in a variety of soft tissue sarcomas, monocytes/macrophages (including microglia from cortex samples), and aortic valves (Figure @fig:sup:lv21 and Table @tbl:sup:multiplier_pathways:lv21). This LV was also strongly associated with lipids and high cholesterol in PhenomeXcan and hyperlipidemia (phecode: 272.1) in eMERGE (Table @tbl:sup:emerge_assocs:lv21). As discussed previously, macrophages play a key role in the reverse cholesterol transport and thus atherogenesis [@doi:10.1093/qjmed/hci136], and lipid metabolism in microglia has been recently identified as an important factor in the development of neurodegenerative diseases [@doi:10.3389/fphys.2020.00393].\n"
     ]
    }
   ],
   "source": [
    "par0 = process_paragraph(orig_section_paragraphs[8])\n",
    "print(par0)"
   ]
  },
  {
   "cell_type": "code",
   "execution_count": 154,
   "id": "2b3a7622-4255-407e-bda4-a5f82bb0799d",
   "metadata": {
    "execution": {
     "iopub.execute_input": "2024-03-23T05:13:04.585320Z",
     "iopub.status.busy": "2024-03-23T05:13:04.584905Z",
     "iopub.status.idle": "2024-03-23T05:13:04.588133Z",
     "shell.execute_reply": "2024-03-23T05:13:04.587646Z"
    },
    "papermill": {
     "duration": 0.04494,
     "end_time": "2024-03-23T05:13:04.588866",
     "exception": false,
     "start_time": "2024-03-23T05:13:04.543926",
     "status": "completed"
    },
    "tags": []
   },
   "outputs": [
    {
     "name": "stdout",
     "output_type": "stream",
     "text": [
      "The cardiovascular sub-branch showed 129 significant LV-trait associations in PhenomeXcan and 23 in eMERGE. LV136, related to collagen formation and muscle contraction pathways, was associated with coronary artery disease and keratometry measurements in PhenomeXcan. In eMERGE, LV136 was linked to coronary atherosclerosis. This LV was expressed in various cell types, including fibroblasts, mesenchymal stem cells, osteoblasts, pancreatic stellate cells, cardiomyocytes, and adipocytes. Within the cardiovascular sub-branch, neuropsychiatric and neurodevelopmental disorders like Alzheimer's disease, schizophrenia, and ADHD were found to be associated. These disorders share risk factors such as hypertension, high cholesterol, obesity, and smoking. Alzheimer's disease was significantly associated with LV21 in PhenomeXcan, which was strongly expressed in soft tissue sarcomas, monocytes/macrophages, and aortic valves. LV21 was also associated with lipids and high cholesterol in PhenomeXcan and hyperlipidemia in eMERGE. Macrophages play a crucial role in reverse cholesterol transport and atherogenesis, while lipid metabolism in microglia is important in neurodegenerative diseases.\n"
     ]
    }
   ],
   "source": [
    "par1 = process_paragraph(mod_section_paragraphs[9])\n",
    "print(par1)"
   ]
  },
  {
   "cell_type": "code",
   "execution_count": 155,
   "id": "9ca1b6e1-96c5-4ecb-aec6-ab16550dae58",
   "metadata": {
    "execution": {
     "iopub.execute_input": "2024-03-23T05:13:04.671207Z",
     "iopub.status.busy": "2024-03-23T05:13:04.670847Z",
     "iopub.status.idle": "2024-03-23T05:13:04.673568Z",
     "shell.execute_reply": "2024-03-23T05:13:04.673047Z"
    },
    "papermill": {
     "duration": 0.044619,
     "end_time": "2024-03-23T05:13:04.674323",
     "exception": false,
     "start_time": "2024-03-23T05:13:04.629704",
     "status": "completed"
    },
    "tags": []
   },
   "outputs": [],
   "source": [
    "paragraph_matches.append(\n",
    "    (\n",
    "        section_name,\n",
    "        par0,\n",
    "        par1,\n",
    "    )\n",
    ")"
   ]
  },
  {
   "cell_type": "code",
   "execution_count": 156,
   "id": "3db1cd84-77ad-4185-b658-ba22ecb8c66f",
   "metadata": {
    "execution": {
     "iopub.execute_input": "2024-03-23T05:13:04.756497Z",
     "iopub.status.busy": "2024-03-23T05:13:04.756302Z",
     "iopub.status.idle": "2024-03-23T05:13:04.760190Z",
     "shell.execute_reply": "2024-03-23T05:13:04.759758Z"
    },
    "papermill": {
     "duration": 0.04581,
     "end_time": "2024-03-23T05:13:04.760931",
     "exception": false,
     "start_time": "2024-03-23T05:13:04.715121",
     "status": "completed"
    },
    "tags": []
   },
   "outputs": [
    {
     "data": {
      "text/plain": [
       "('results',\n",
       " \"The cardiovascular sub-branch had 129 significant LV-trait associations in PhenomeXcan and 23 in eMERGE. LV136, aligned with known collagen formation and muscle contraction pathways (Table @tbl:sup:multiplier_pathways:lv136), was associated with coronary artery disease and keratometry measurements in PhenomeXcan (Table @tbl:sup:phenomexcan_assocs:lv136). In eMERGE, this LV was associated with coronary atherosclerosis (phecode: 411.4) (Table @tbl:sup:emerge_assocs:lv136). LV136 was expressed in a wide range of cell types, including fibroblasts, mesenchymal stem cells, osteoblasts, pancreatic stellate cells, cardiomyocytes, and adipocytes (Figure @fig:sup:lv136). Within the cardiovascular sub-branch, we found neuropsychiatric and neurodevelopmental disorders such as Alzheimer's disease, schizophrenia, and attention deficit hyperactivity disorder (ADHD). These disorders were previously linked to the cardiovascular system [@pmid:12093424; @doi:10.1161/CIRCULATIONAHA.113.002065; @doi:10.1192/bjp.bp.117.202606; @doi:10.1161/CIRCRESAHA.118.313563] and share several risk factors, including hypertension, high cholesterol, obesity, smoking, among others [@doi:10.1186/s12916-014-0206-2; @doi:10.1111/j.1076-7460.2007.06696.x]. However, our results grouped these diseases by potentially shared transcriptional processes expressed in specific tissues/cell types. Alzheimer's disease (not present in eMERGE), for instance, was significantly associated with LV21 in PhenomeXcan (Table @tbl:sup:phenomexcan_assocs:lv21). LV21, a gene module not aligned to prior pathways, was strongly expressed in a variety of soft tissue sarcomas, monocytes/macrophages (including microglia from cortex samples), and aortic valves (Figure @fig:sup:lv21 and Table @tbl:sup:multiplier_pathways:lv21). This LV was also strongly associated with lipids and high cholesterol in PhenomeXcan and hyperlipidemia (phecode: 272.1) in eMERGE (Table @tbl:sup:emerge_assocs:lv21). As discussed previously, macrophages play a key role in the reverse cholesterol transport and thus atherogenesis [@doi:10.1093/qjmed/hci136], and lipid metabolism in microglia has been recently identified as an important factor in the development of neurodegenerative diseases [@doi:10.3389/fphys.2020.00393].\",\n",
       " \"The cardiovascular sub-branch showed 129 significant LV-trait associations in PhenomeXcan and 23 in eMERGE. LV136, related to collagen formation and muscle contraction pathways, was associated with coronary artery disease and keratometry measurements in PhenomeXcan. In eMERGE, LV136 was linked to coronary atherosclerosis. This LV was expressed in various cell types, including fibroblasts, mesenchymal stem cells, osteoblasts, pancreatic stellate cells, cardiomyocytes, and adipocytes. Within the cardiovascular sub-branch, neuropsychiatric and neurodevelopmental disorders like Alzheimer's disease, schizophrenia, and ADHD were found to be associated. These disorders share risk factors such as hypertension, high cholesterol, obesity, and smoking. Alzheimer's disease was significantly associated with LV21 in PhenomeXcan, which was strongly expressed in soft tissue sarcomas, monocytes/macrophages, and aortic valves. LV21 was also associated with lipids and high cholesterol in PhenomeXcan and hyperlipidemia in eMERGE. Macrophages play a crucial role in reverse cholesterol transport and atherogenesis, while lipid metabolism in microglia is important in neurodegenerative diseases.\")"
      ]
     },
     "metadata": {},
     "output_type": "display_data"
    }
   ],
   "source": [
    "display(paragraph_matches[-1])"
   ]
  },
  {
   "cell_type": "markdown",
   "id": "0a311a52-d06f-4f08-905f-465c282ff625",
   "metadata": {
    "editable": true,
    "papermill": {
     "duration": 0.040966,
     "end_time": "2024-03-23T05:13:04.842531",
     "exception": false,
     "start_time": "2024-03-23T05:13:04.801565",
     "status": "completed"
    },
    "slideshow": {
     "slide_type": ""
    },
    "tags": []
   },
   "source": [
    "## Discussion"
   ]
  },
  {
   "cell_type": "code",
   "execution_count": 157,
   "id": "70e3c270-751e-48b1-a705-7ed67d9298b8",
   "metadata": {
    "execution": {
     "iopub.execute_input": "2024-03-23T05:13:04.924676Z",
     "iopub.status.busy": "2024-03-23T05:13:04.924324Z",
     "iopub.status.idle": "2024-03-23T05:13:04.926836Z",
     "shell.execute_reply": "2024-03-23T05:13:04.926393Z"
    },
    "papermill": {
     "duration": 0.044325,
     "end_time": "2024-03-23T05:13:04.927522",
     "exception": false,
     "start_time": "2024-03-23T05:13:04.883197",
     "status": "completed"
    },
    "tags": []
   },
   "outputs": [],
   "source": [
    "section_name = \"discussion\""
   ]
  },
  {
   "cell_type": "code",
   "execution_count": 158,
   "id": "da50ce41-3f94-4ca1-8c72-3d2aa29b536b",
   "metadata": {
    "editable": true,
    "execution": {
     "iopub.execute_input": "2024-03-23T05:13:05.037347Z",
     "iopub.status.busy": "2024-03-23T05:13:05.036901Z",
     "iopub.status.idle": "2024-03-23T05:13:05.040096Z",
     "shell.execute_reply": "2024-03-23T05:13:05.039656Z"
    },
    "papermill": {
     "duration": 0.045436,
     "end_time": "2024-03-23T05:13:05.040849",
     "exception": false,
     "start_time": "2024-03-23T05:13:04.995413",
     "status": "completed"
    },
    "slideshow": {
     "slide_type": ""
    },
    "tags": []
   },
   "outputs": [
    {
     "name": "stdout",
     "output_type": "stream",
     "text": [
      "content/05.discussion.md\n"
     ]
    }
   ],
   "source": [
    "pr_filename = pr_files[6].filename\n",
    "assert section_name in pr_filename\n",
    "print(pr_filename)"
   ]
  },
  {
   "cell_type": "markdown",
   "id": "15bcc7d8-ab7b-4475-95ad-6d9c3763aba2",
   "metadata": {
    "editable": true,
    "papermill": {
     "duration": 0.040861,
     "end_time": "2024-03-23T05:13:05.122552",
     "exception": false,
     "start_time": "2024-03-23T05:13:05.081691",
     "status": "completed"
    },
    "slideshow": {
     "slide_type": ""
    },
    "tags": []
   },
   "source": [
    "### Original"
   ]
  },
  {
   "cell_type": "code",
   "execution_count": 159,
   "id": "5bbec300-ce51-46d0-8e4d-b2ba822ec608",
   "metadata": {
    "execution": {
     "iopub.execute_input": "2024-03-23T05:13:05.205294Z",
     "iopub.status.busy": "2024-03-23T05:13:05.204915Z",
     "iopub.status.idle": "2024-03-23T05:13:05.357287Z",
     "shell.execute_reply": "2024-03-23T05:13:05.356789Z"
    },
    "papermill": {
     "duration": 0.19513,
     "end_time": "2024-03-23T05:13:05.358343",
     "exception": false,
     "start_time": "2024-03-23T05:13:05.163213",
     "status": "completed"
    },
    "tags": []
   },
   "outputs": [
    {
     "name": "stdout",
     "output_type": "stream",
     "text": [
      "## Discussion\n",
      "\n",
      "We have introduced a novel computat\n"
     ]
    }
   ],
   "source": [
    "# get content\n",
    "orig_section_content = repo.get_contents(pr_filename, pr_prev).decoded_content.decode(\n",
    "    \"utf-8\"\n",
    ")\n",
    "print(orig_section_content[:50])"
   ]
  },
  {
   "cell_type": "code",
   "execution_count": 160,
   "id": "2ab78222-da5b-4d1e-93dd-e35a085a962f",
   "metadata": {
    "execution": {
     "iopub.execute_input": "2024-03-23T05:13:05.476864Z",
     "iopub.status.busy": "2024-03-23T05:13:05.476387Z",
     "iopub.status.idle": "2024-03-23T05:13:05.480208Z",
     "shell.execute_reply": "2024-03-23T05:13:05.479753Z"
    },
    "papermill": {
     "duration": 0.049629,
     "end_time": "2024-03-23T05:13:05.480966",
     "exception": false,
     "start_time": "2024-03-23T05:13:05.431337",
     "status": "completed"
    },
    "tags": []
   },
   "outputs": [
    {
     "data": {
      "text/plain": [
       "9"
      ]
     },
     "metadata": {},
     "output_type": "display_data"
    }
   ],
   "source": [
    "# split by paragraph\n",
    "orig_section_paragraphs = orig_section_content.split(\"\\n\\n\")\n",
    "display(len(orig_section_paragraphs))"
   ]
  },
  {
   "cell_type": "markdown",
   "id": "a0a475a1-c746-4b66-b096-99df8a9e4688",
   "metadata": {
    "editable": true,
    "papermill": {
     "duration": 0.041693,
     "end_time": "2024-03-23T05:13:05.564311",
     "exception": false,
     "start_time": "2024-03-23T05:13:05.522618",
     "status": "completed"
    },
    "slideshow": {
     "slide_type": ""
    },
    "tags": []
   },
   "source": [
    "### Modified"
   ]
  },
  {
   "cell_type": "code",
   "execution_count": 161,
   "id": "b4046c3e-0e66-44fe-8902-822d461fb6ea",
   "metadata": {
    "execution": {
     "iopub.execute_input": "2024-03-23T05:13:05.647693Z",
     "iopub.status.busy": "2024-03-23T05:13:05.647508Z",
     "iopub.status.idle": "2024-03-23T05:13:05.785059Z",
     "shell.execute_reply": "2024-03-23T05:13:05.784592Z"
    },
    "papermill": {
     "duration": 0.180479,
     "end_time": "2024-03-23T05:13:05.786107",
     "exception": false,
     "start_time": "2024-03-23T05:13:05.605628",
     "status": "completed"
    },
    "tags": []
   },
   "outputs": [
    {
     "name": "stdout",
     "output_type": "stream",
     "text": [
      "## Discussion\n",
      "\n",
      "We have developed a new computation\n"
     ]
    }
   ],
   "source": [
    "# get content\n",
    "mod_section_content = repo.get_contents(pr_filename, pr_curr).decoded_content.decode(\n",
    "    \"utf-8\"\n",
    ")\n",
    "print(mod_section_content[:50])"
   ]
  },
  {
   "cell_type": "code",
   "execution_count": 162,
   "id": "0f0d8b54-f62f-45c9-861a-ab579ac0d46b",
   "metadata": {
    "execution": {
     "iopub.execute_input": "2024-03-23T05:13:05.901508Z",
     "iopub.status.busy": "2024-03-23T05:13:05.901195Z",
     "iopub.status.idle": "2024-03-23T05:13:05.904800Z",
     "shell.execute_reply": "2024-03-23T05:13:05.904325Z"
    },
    "papermill": {
     "duration": 0.047379,
     "end_time": "2024-03-23T05:13:05.905568",
     "exception": false,
     "start_time": "2024-03-23T05:13:05.858189",
     "status": "completed"
    },
    "tags": []
   },
   "outputs": [
    {
     "data": {
      "text/plain": [
       "10"
      ]
     },
     "metadata": {},
     "output_type": "display_data"
    }
   ],
   "source": [
    "# split by paragraph\n",
    "mod_section_paragraphs = mod_section_content.split(\"\\n\\n\")\n",
    "display(len(mod_section_paragraphs))"
   ]
  },
  {
   "cell_type": "markdown",
   "id": "eb98b790-a12a-4eff-9074-357374cc8386",
   "metadata": {
    "editable": true,
    "papermill": {
     "duration": 0.040534,
     "end_time": "2024-03-23T05:13:05.986215",
     "exception": false,
     "start_time": "2024-03-23T05:13:05.945681",
     "status": "completed"
    },
    "slideshow": {
     "slide_type": ""
    },
    "tags": []
   },
   "source": [
    "### Match"
   ]
  },
  {
   "cell_type": "code",
   "execution_count": 163,
   "id": "5147ec0f-7e00-4e5b-9c17-73e17ccb3ab4",
   "metadata": {
    "execution": {
     "iopub.execute_input": "2024-03-23T05:13:06.067804Z",
     "iopub.status.busy": "2024-03-23T05:13:06.067619Z",
     "iopub.status.idle": "2024-03-23T05:13:06.071101Z",
     "shell.execute_reply": "2024-03-23T05:13:06.070595Z"
    },
    "papermill": {
     "duration": 0.045297,
     "end_time": "2024-03-23T05:13:06.071899",
     "exception": false,
     "start_time": "2024-03-23T05:13:06.026602",
     "status": "completed"
    },
    "tags": []
   },
   "outputs": [
    {
     "data": {
      "text/plain": [
       "'## Discussion'"
      ]
     },
     "execution_count": 163,
     "metadata": {},
     "output_type": "execute_result"
    }
   ],
   "source": [
    "orig_section_paragraphs[0]"
   ]
  },
  {
   "cell_type": "code",
   "execution_count": 164,
   "id": "f7f66854-8226-4d44-a5d9-c77da74fcb02",
   "metadata": {
    "execution": {
     "iopub.execute_input": "2024-03-23T05:13:06.153793Z",
     "iopub.status.busy": "2024-03-23T05:13:06.153458Z",
     "iopub.status.idle": "2024-03-23T05:13:06.157204Z",
     "shell.execute_reply": "2024-03-23T05:13:06.156714Z"
    },
    "papermill": {
     "duration": 0.045374,
     "end_time": "2024-03-23T05:13:06.158011",
     "exception": false,
     "start_time": "2024-03-23T05:13:06.112637",
     "status": "completed"
    },
    "tags": []
   },
   "outputs": [
    {
     "data": {
      "text/plain": [
       "'## Discussion'"
      ]
     },
     "execution_count": 164,
     "metadata": {},
     "output_type": "execute_result"
    }
   ],
   "source": [
    "mod_section_paragraphs[0]"
   ]
  },
  {
   "cell_type": "markdown",
   "id": "d92ee9ca-a186-40ab-b166-470691476a5d",
   "metadata": {
    "editable": true,
    "papermill": {
     "duration": 0.06746,
     "end_time": "2024-03-23T05:13:06.266207",
     "exception": false,
     "start_time": "2024-03-23T05:13:06.198747",
     "status": "completed"
    },
    "slideshow": {
     "slide_type": ""
    },
    "tags": []
   },
   "source": [
    "####  Paragraph 00"
   ]
  },
  {
   "cell_type": "code",
   "execution_count": 165,
   "id": "cab5a53a-cfb9-4453-a5e7-d9c94cf44b42",
   "metadata": {
    "execution": {
     "iopub.execute_input": "2024-03-23T05:13:06.349349Z",
     "iopub.status.busy": "2024-03-23T05:13:06.349011Z",
     "iopub.status.idle": "2024-03-23T05:13:06.352009Z",
     "shell.execute_reply": "2024-03-23T05:13:06.351562Z"
    },
    "papermill": {
     "duration": 0.045466,
     "end_time": "2024-03-23T05:13:06.352787",
     "exception": false,
     "start_time": "2024-03-23T05:13:06.307321",
     "status": "completed"
    },
    "tags": []
   },
   "outputs": [
    {
     "name": "stdout",
     "output_type": "stream",
     "text": [
      "We have introduced a novel computational strategy that integrates statistical associations from TWAS with groups of genes (gene modules) that have similar expression patterns across the same cell types. Our key innovation is that we project gene-trait associations through a latent representation derived not strictly from measures of normal tissue but also from cell types under a variety of stimuli and at various developmental stages. This improves interpretation by going beyond statistical associations to infer cell type-specific features of complex phenotypes. Our approach can identify disease-relevant cell types from summary statistics, and several disease-associated gene modules were replicated in eMERGE. Using a CRISPR screen to analyze lipid regulation, we found that our gene module-based approach can prioritize causal genes even when single gene associations are not detected. We interpret these findings with an omnigenic perspective of \"core\" and \"peripheral\" genes, suggesting that the approach can identify genes that directly affect the trait with no mediated regulation of other genes and thus prioritize alternative and potentially more attractive therapeutic targets.\n"
     ]
    }
   ],
   "source": [
    "par0 = process_paragraph(orig_section_paragraphs[1])\n",
    "print(par0)"
   ]
  },
  {
   "cell_type": "code",
   "execution_count": 166,
   "id": "84c75b53-48ef-433f-a63c-8995b7b9637d",
   "metadata": {
    "execution": {
     "iopub.execute_input": "2024-03-23T05:13:06.435531Z",
     "iopub.status.busy": "2024-03-23T05:13:06.435106Z",
     "iopub.status.idle": "2024-03-23T05:13:06.438057Z",
     "shell.execute_reply": "2024-03-23T05:13:06.437590Z"
    },
    "papermill": {
     "duration": 0.04475,
     "end_time": "2024-03-23T05:13:06.438759",
     "exception": false,
     "start_time": "2024-03-23T05:13:06.394009",
     "status": "completed"
    },
    "tags": []
   },
   "outputs": [
    {
     "name": "stdout",
     "output_type": "stream",
     "text": [
      "We have developed a new computational method that combines statistical links from Transcriptome-Wide Association Studies (TWAS) with groups of genes that share similar expression patterns in the same cell types, known as gene modules. Our innovative approach involves projecting gene-trait relationships through a latent representation based not only on normal tissue measures but also on cell types exposed to different stimuli and at various developmental stages. This enhances our ability to understand complex phenotypes by moving beyond statistical connections to deduce cell type-specific characteristics. Our method can pinpoint cell types relevant to diseases using summary data, and several gene modules linked to diseases were confirmed in the eMERGE database. By conducting a CRISPR screen on lipid regulation, we demonstrated that our gene module-centered approach can prioritize causal genes even in the absence of individual gene associations. We interpret these results through the concept of \"core\" and \"peripheral\" genes in the omnigenic model, indicating that our method can identify genes directly impacting a trait without being regulated by other genes. This allows us to prioritize alternative and potentially more effective therapeutic targets.\n"
     ]
    }
   ],
   "source": [
    "par1 = process_paragraph(mod_section_paragraphs[1])\n",
    "print(par1)"
   ]
  },
  {
   "cell_type": "code",
   "execution_count": 167,
   "id": "cd9d734b-5a88-46ee-aea6-7be4ffbfd31c",
   "metadata": {
    "execution": {
     "iopub.execute_input": "2024-03-23T05:13:06.520588Z",
     "iopub.status.busy": "2024-03-23T05:13:06.520406Z",
     "iopub.status.idle": "2024-03-23T05:13:06.523194Z",
     "shell.execute_reply": "2024-03-23T05:13:06.522701Z"
    },
    "papermill": {
     "duration": 0.04464,
     "end_time": "2024-03-23T05:13:06.523965",
     "exception": false,
     "start_time": "2024-03-23T05:13:06.479325",
     "status": "completed"
    },
    "tags": []
   },
   "outputs": [],
   "source": [
    "paragraph_matches.append(\n",
    "    (\n",
    "        section_name,\n",
    "        par0,\n",
    "        par1,\n",
    "    )\n",
    ")"
   ]
  },
  {
   "cell_type": "code",
   "execution_count": 168,
   "id": "323699ec-6dcd-4bad-8261-871c43b7c9a4",
   "metadata": {
    "execution": {
     "iopub.execute_input": "2024-03-23T05:13:06.606300Z",
     "iopub.status.busy": "2024-03-23T05:13:06.605959Z",
     "iopub.status.idle": "2024-03-23T05:13:06.609800Z",
     "shell.execute_reply": "2024-03-23T05:13:06.609303Z"
    },
    "papermill": {
     "duration": 0.045822,
     "end_time": "2024-03-23T05:13:06.610591",
     "exception": false,
     "start_time": "2024-03-23T05:13:06.564769",
     "status": "completed"
    },
    "tags": []
   },
   "outputs": [
    {
     "data": {
      "text/plain": [
       "('discussion',\n",
       " 'We have introduced a novel computational strategy that integrates statistical associations from TWAS with groups of genes (gene modules) that have similar expression patterns across the same cell types. Our key innovation is that we project gene-trait associations through a latent representation derived not strictly from measures of normal tissue but also from cell types under a variety of stimuli and at various developmental stages. This improves interpretation by going beyond statistical associations to infer cell type-specific features of complex phenotypes. Our approach can identify disease-relevant cell types from summary statistics, and several disease-associated gene modules were replicated in eMERGE. Using a CRISPR screen to analyze lipid regulation, we found that our gene module-based approach can prioritize causal genes even when single gene associations are not detected. We interpret these findings with an omnigenic perspective of \"core\" and \"peripheral\" genes, suggesting that the approach can identify genes that directly affect the trait with no mediated regulation of other genes and thus prioritize alternative and potentially more attractive therapeutic targets.',\n",
       " 'We have developed a new computational method that combines statistical links from Transcriptome-Wide Association Studies (TWAS) with groups of genes that share similar expression patterns in the same cell types, known as gene modules. Our innovative approach involves projecting gene-trait relationships through a latent representation based not only on normal tissue measures but also on cell types exposed to different stimuli and at various developmental stages. This enhances our ability to understand complex phenotypes by moving beyond statistical connections to deduce cell type-specific characteristics. Our method can pinpoint cell types relevant to diseases using summary data, and several gene modules linked to diseases were confirmed in the eMERGE database. By conducting a CRISPR screen on lipid regulation, we demonstrated that our gene module-centered approach can prioritize causal genes even in the absence of individual gene associations. We interpret these results through the concept of \"core\" and \"peripheral\" genes in the omnigenic model, indicating that our method can identify genes directly impacting a trait without being regulated by other genes. This allows us to prioritize alternative and potentially more effective therapeutic targets.')"
      ]
     },
     "metadata": {},
     "output_type": "display_data"
    }
   ],
   "source": [
    "display(paragraph_matches[-1])"
   ]
  },
  {
   "cell_type": "markdown",
   "id": "c723624a-d413-4331-ae11-7e0fff81f925",
   "metadata": {
    "editable": true,
    "papermill": {
     "duration": 0.041128,
     "end_time": "2024-03-23T05:13:06.692515",
     "exception": false,
     "start_time": "2024-03-23T05:13:06.651387",
     "status": "completed"
    },
    "slideshow": {
     "slide_type": ""
    },
    "tags": []
   },
   "source": [
    "####  Paragraph 01"
   ]
  },
  {
   "cell_type": "code",
   "execution_count": 169,
   "id": "85389552-28ba-4023-a3e7-cad96a96c4e2",
   "metadata": {
    "execution": {
     "iopub.execute_input": "2024-03-23T05:13:06.774376Z",
     "iopub.status.busy": "2024-03-23T05:13:06.774186Z",
     "iopub.status.idle": "2024-03-23T05:13:06.777248Z",
     "shell.execute_reply": "2024-03-23T05:13:06.776814Z"
    },
    "papermill": {
     "duration": 0.044917,
     "end_time": "2024-03-23T05:13:06.777974",
     "exception": false,
     "start_time": "2024-03-23T05:13:06.733057",
     "status": "completed"
    },
    "tags": []
   },
   "outputs": [
    {
     "name": "stdout",
     "output_type": "stream",
     "text": [
      "Using our gene module perspective, we also integrated drug-induced transcriptional profiles, which allowed us to connect diseases, drugs, and cell types. We showed that the LV-based drug-repurposing approach outperformed the gene-based one when predicting drug-disease links for 322 drugs across 53 diseases. Furthermore, and beyond statistical prediction, we focused on cardiovascular traits and a particular drug, niacin, to show that the approach connects pathophysiological processes with known mechanisms of action, including those in adipose tissue, immune cells, and ovarian granulosa cells. Our LV-based approach could be helpful in generating novel hypotheses to evaluate potential mechanisms of action, or even adverse effects, of known or experimental drugs.\n"
     ]
    }
   ],
   "source": [
    "par0 = process_paragraph(orig_section_paragraphs[2])\n",
    "print(par0)"
   ]
  },
  {
   "cell_type": "code",
   "execution_count": 170,
   "id": "2128e3ae-2f52-4975-a5e3-6c5c15d0c43c",
   "metadata": {
    "execution": {
     "iopub.execute_input": "2024-03-23T05:13:06.861450Z",
     "iopub.status.busy": "2024-03-23T05:13:06.861242Z",
     "iopub.status.idle": "2024-03-23T05:13:06.864250Z",
     "shell.execute_reply": "2024-03-23T05:13:06.863810Z"
    },
    "papermill": {
     "duration": 0.045587,
     "end_time": "2024-03-23T05:13:06.864981",
     "exception": false,
     "start_time": "2024-03-23T05:13:06.819394",
     "status": "completed"
    },
    "tags": []
   },
   "outputs": [
    {
     "name": "stdout",
     "output_type": "stream",
     "text": [
      "Utilizing our gene module perspective, we also incorporated drug-induced transcriptional profiles to establish connections between diseases, drugs, and cell types. Our study demonstrated that the latent variable (LV) based drug-repurposing method performed better than the gene-based approach in predicting links between drugs and diseases, analyzing 322 drugs across 53 diseases. Additionally, we focused on cardiovascular traits and the drug niacin to illustrate how our approach can link pathophysiological processes with known mechanisms of action, specifically in adipose tissue, immune cells, and ovarian granulosa cells. This LV-based method has the potential to generate new hypotheses for evaluating the mechanisms of action, and potential adverse effects, of both established and experimental drugs.\n"
     ]
    }
   ],
   "source": [
    "par1 = process_paragraph(mod_section_paragraphs[2])\n",
    "print(par1)"
   ]
  },
  {
   "cell_type": "code",
   "execution_count": 171,
   "id": "1b63a1b9-3f26-4699-b39c-a1ace66c05ff",
   "metadata": {
    "execution": {
     "iopub.execute_input": "2024-03-23T05:13:06.947652Z",
     "iopub.status.busy": "2024-03-23T05:13:06.947472Z",
     "iopub.status.idle": "2024-03-23T05:13:06.950046Z",
     "shell.execute_reply": "2024-03-23T05:13:06.949572Z"
    },
    "papermill": {
     "duration": 0.044412,
     "end_time": "2024-03-23T05:13:06.950744",
     "exception": false,
     "start_time": "2024-03-23T05:13:06.906332",
     "status": "completed"
    },
    "tags": []
   },
   "outputs": [],
   "source": [
    "paragraph_matches.append(\n",
    "    (\n",
    "        section_name,\n",
    "        par0,\n",
    "        par1,\n",
    "    )\n",
    ")"
   ]
  },
  {
   "cell_type": "code",
   "execution_count": 172,
   "id": "f096fe93-a618-4836-85b5-b011bd9189e4",
   "metadata": {
    "execution": {
     "iopub.execute_input": "2024-03-23T05:13:07.032855Z",
     "iopub.status.busy": "2024-03-23T05:13:07.032652Z",
     "iopub.status.idle": "2024-03-23T05:13:07.036162Z",
     "shell.execute_reply": "2024-03-23T05:13:07.035731Z"
    },
    "papermill": {
     "duration": 0.045571,
     "end_time": "2024-03-23T05:13:07.036845",
     "exception": false,
     "start_time": "2024-03-23T05:13:06.991274",
     "status": "completed"
    },
    "tags": []
   },
   "outputs": [
    {
     "data": {
      "text/plain": [
       "('discussion',\n",
       " 'Using our gene module perspective, we also integrated drug-induced transcriptional profiles, which allowed us to connect diseases, drugs, and cell types. We showed that the LV-based drug-repurposing approach outperformed the gene-based one when predicting drug-disease links for 322 drugs across 53 diseases. Furthermore, and beyond statistical prediction, we focused on cardiovascular traits and a particular drug, niacin, to show that the approach connects pathophysiological processes with known mechanisms of action, including those in adipose tissue, immune cells, and ovarian granulosa cells. Our LV-based approach could be helpful in generating novel hypotheses to evaluate potential mechanisms of action, or even adverse effects, of known or experimental drugs.',\n",
       " 'Utilizing our gene module perspective, we also incorporated drug-induced transcriptional profiles to establish connections between diseases, drugs, and cell types. Our study demonstrated that the latent variable (LV) based drug-repurposing method performed better than the gene-based approach in predicting links between drugs and diseases, analyzing 322 drugs across 53 diseases. Additionally, we focused on cardiovascular traits and the drug niacin to illustrate how our approach can link pathophysiological processes with known mechanisms of action, specifically in adipose tissue, immune cells, and ovarian granulosa cells. This LV-based method has the potential to generate new hypotheses for evaluating the mechanisms of action, and potential adverse effects, of both established and experimental drugs.')"
      ]
     },
     "metadata": {},
     "output_type": "display_data"
    }
   ],
   "source": [
    "display(paragraph_matches[-1])"
   ]
  },
  {
   "cell_type": "markdown",
   "id": "897b56fb-65f4-47f3-a02d-4c32c91ba5eb",
   "metadata": {
    "editable": true,
    "papermill": {
     "duration": 0.041178,
     "end_time": "2024-03-23T05:13:07.118745",
     "exception": false,
     "start_time": "2024-03-23T05:13:07.077567",
     "status": "completed"
    },
    "slideshow": {
     "slide_type": ""
    },
    "tags": []
   },
   "source": [
    "####  Paragraph 02"
   ]
  },
  {
   "cell_type": "code",
   "execution_count": 173,
   "id": "36f25595-58d4-4f3e-b34b-bf4cc68c0604",
   "metadata": {
    "execution": {
     "iopub.execute_input": "2024-03-23T05:13:07.201799Z",
     "iopub.status.busy": "2024-03-23T05:13:07.201568Z",
     "iopub.status.idle": "2024-03-23T05:13:07.204241Z",
     "shell.execute_reply": "2024-03-23T05:13:07.203876Z"
    },
    "papermill": {
     "duration": 0.045533,
     "end_time": "2024-03-23T05:13:07.204929",
     "exception": false,
     "start_time": "2024-03-23T05:13:07.159396",
     "status": "completed"
    },
    "tags": []
   },
   "outputs": [
    {
     "name": "stdout",
     "output_type": "stream",
     "text": [
      "We found that the analysis of associations through latent representations provided reasonable groupings of diseases and traits affected by shared and distinct transcriptional mechanisms expressed in highly relevant tissues. Our cluster analysis approach also detected the LVs that were most discriminative for each cluster. Several of these LVs were also significantly associated with different traits. Some LVs were strongly aligned with known pathways, but others (like LV57) were not, which might represent novel disease-relevant mechanisms. In some cases, the features/LVs linked to phenotypes appear to be associated with specific cell types. Associations with such cell type marker genes may reveal potentially causal cell types for a phenotype with more precision. We observed modules expressed primarily in one tissue (such as adipose in LV246 or ovary in LV66). Others appeared to be expressed in many contexts, which may capture pathways associated with related complex diseases. For example, LV136 is associated with cardiovascular disease and measures of corneal biomechanics and is expressed in fibroblasts, osteoblasts, pancreas, liver, and cardiomyocytes, among others. Other examples include LV844, expressed in whole blood samples and associated with a range of autoimmune diseases; or LV57, which is clearly expressed in T cells and strongly associated with autoimmune and venous thromboembolism. From an omnigenic point of view, these patterns might represent cases of \"network pleiotropy,\" where the same cell types mediate molecularly related traits. To our knowledge, projection through a representation learned on complementary but distinct datasets is a novel approach to identifying cell type and pathway effects on complex phenotypes that is computationally simple to implement.\n"
     ]
    }
   ],
   "source": [
    "par0 = process_paragraph(orig_section_paragraphs[3])\n",
    "print(par0)"
   ]
  },
  {
   "cell_type": "code",
   "execution_count": 174,
   "id": "0ca440d7-4752-4c1c-a18d-baafb271c30a",
   "metadata": {
    "execution": {
     "iopub.execute_input": "2024-03-23T05:13:07.315159Z",
     "iopub.status.busy": "2024-03-23T05:13:07.314975Z",
     "iopub.status.idle": "2024-03-23T05:13:07.317540Z",
     "shell.execute_reply": "2024-03-23T05:13:07.317180Z"
    },
    "papermill": {
     "duration": 0.044835,
     "end_time": "2024-03-23T05:13:07.318284",
     "exception": false,
     "start_time": "2024-03-23T05:13:07.273449",
     "status": "completed"
    },
    "tags": []
   },
   "outputs": [
    {
     "name": "stdout",
     "output_type": "stream",
     "text": [
      "Our analysis of genetic associations through latent representations revealed groupings of diseases and traits impacted by shared and distinct transcriptional mechanisms in relevant tissues. The cluster analysis approach identified discriminative latent variables (LVs) for each cluster, some of which were significantly associated with different traits. While some LVs aligned with known pathways, others like LV57 may represent novel disease-relevant mechanisms. Associations with cell type marker genes could pinpoint causal cell types for specific phenotypes more accurately. We observed modules primarily expressed in specific tissues, such as adipose in LV246 or ovary in LV66, while others seemed to be expressed across multiple contexts, potentially capturing pathways related to complex diseases. For instance, LV136, associated with cardiovascular disease and corneal biomechanics, was expressed in various cell types including fibroblasts, osteoblasts, pancreas, liver, and cardiomyocytes. Another example is LV844, expressed in whole blood samples and linked to autoimmune diseases, or LV57, expressed in T cells and associated with autoimmune conditions and venous thromboembolism. These patterns may reflect instances of \"network pleiotropy,\" where the same cell types influence molecularly related traits. Our approach of projecting through a representation learned from different datasets offers a new way to uncover cell type and pathway effects on complex phenotypes in a computationally straightforward manner.\n"
     ]
    }
   ],
   "source": [
    "par1 = process_paragraph(mod_section_paragraphs[3])\n",
    "print(par1)"
   ]
  },
  {
   "cell_type": "code",
   "execution_count": 175,
   "id": "23e42c9b-0bec-4243-abf1-4f9b805a7897",
   "metadata": {
    "execution": {
     "iopub.execute_input": "2024-03-23T05:13:07.405255Z",
     "iopub.status.busy": "2024-03-23T05:13:07.405040Z",
     "iopub.status.idle": "2024-03-23T05:13:07.407500Z",
     "shell.execute_reply": "2024-03-23T05:13:07.407131Z"
    },
    "papermill": {
     "duration": 0.046634,
     "end_time": "2024-03-23T05:13:07.408257",
     "exception": false,
     "start_time": "2024-03-23T05:13:07.361623",
     "status": "completed"
    },
    "tags": []
   },
   "outputs": [],
   "source": [
    "paragraph_matches.append(\n",
    "    (\n",
    "        section_name,\n",
    "        par0,\n",
    "        par1,\n",
    "    )\n",
    ")"
   ]
  },
  {
   "cell_type": "code",
   "execution_count": 176,
   "id": "61e5c7e8-bc8c-451f-a7bb-79e5fc93e166",
   "metadata": {
    "execution": {
     "iopub.execute_input": "2024-03-23T05:13:07.492865Z",
     "iopub.status.busy": "2024-03-23T05:13:07.492519Z",
     "iopub.status.idle": "2024-03-23T05:13:07.496652Z",
     "shell.execute_reply": "2024-03-23T05:13:07.496033Z"
    },
    "papermill": {
     "duration": 0.047557,
     "end_time": "2024-03-23T05:13:07.497449",
     "exception": false,
     "start_time": "2024-03-23T05:13:07.449892",
     "status": "completed"
    },
    "tags": []
   },
   "outputs": [
    {
     "data": {
      "text/plain": [
       "('discussion',\n",
       " 'We found that the analysis of associations through latent representations provided reasonable groupings of diseases and traits affected by shared and distinct transcriptional mechanisms expressed in highly relevant tissues. Our cluster analysis approach also detected the LVs that were most discriminative for each cluster. Several of these LVs were also significantly associated with different traits. Some LVs were strongly aligned with known pathways, but others (like LV57) were not, which might represent novel disease-relevant mechanisms. In some cases, the features/LVs linked to phenotypes appear to be associated with specific cell types. Associations with such cell type marker genes may reveal potentially causal cell types for a phenotype with more precision. We observed modules expressed primarily in one tissue (such as adipose in LV246 or ovary in LV66). Others appeared to be expressed in many contexts, which may capture pathways associated with related complex diseases. For example, LV136 is associated with cardiovascular disease and measures of corneal biomechanics and is expressed in fibroblasts, osteoblasts, pancreas, liver, and cardiomyocytes, among others. Other examples include LV844, expressed in whole blood samples and associated with a range of autoimmune diseases; or LV57, which is clearly expressed in T cells and strongly associated with autoimmune and venous thromboembolism. From an omnigenic point of view, these patterns might represent cases of \"network pleiotropy,\" where the same cell types mediate molecularly related traits. To our knowledge, projection through a representation learned on complementary but distinct datasets is a novel approach to identifying cell type and pathway effects on complex phenotypes that is computationally simple to implement.',\n",
       " 'Our analysis of genetic associations through latent representations revealed groupings of diseases and traits impacted by shared and distinct transcriptional mechanisms in relevant tissues. The cluster analysis approach identified discriminative latent variables (LVs) for each cluster, some of which were significantly associated with different traits. While some LVs aligned with known pathways, others like LV57 may represent novel disease-relevant mechanisms. Associations with cell type marker genes could pinpoint causal cell types for specific phenotypes more accurately. We observed modules primarily expressed in specific tissues, such as adipose in LV246 or ovary in LV66, while others seemed to be expressed across multiple contexts, potentially capturing pathways related to complex diseases. For instance, LV136, associated with cardiovascular disease and corneal biomechanics, was expressed in various cell types including fibroblasts, osteoblasts, pancreas, liver, and cardiomyocytes. Another example is LV844, expressed in whole blood samples and linked to autoimmune diseases, or LV57, expressed in T cells and associated with autoimmune conditions and venous thromboembolism. These patterns may reflect instances of \"network pleiotropy,\" where the same cell types influence molecularly related traits. Our approach of projecting through a representation learned from different datasets offers a new way to uncover cell type and pathway effects on complex phenotypes in a computationally straightforward manner.')"
      ]
     },
     "metadata": {},
     "output_type": "display_data"
    }
   ],
   "source": [
    "display(paragraph_matches[-1])"
   ]
  },
  {
   "cell_type": "markdown",
   "id": "b9824a80-2db9-48b3-aebf-39dc5bd310db",
   "metadata": {
    "editable": true,
    "papermill": {
     "duration": 0.041366,
     "end_time": "2024-03-23T05:13:07.581351",
     "exception": false,
     "start_time": "2024-03-23T05:13:07.539985",
     "status": "completed"
    },
    "slideshow": {
     "slide_type": ""
    },
    "tags": []
   },
   "source": [
    "####  Paragraph 03"
   ]
  },
  {
   "cell_type": "code",
   "execution_count": 177,
   "id": "8fea8a5e-a1ef-4146-869b-5f6949e81b36",
   "metadata": {
    "execution": {
     "iopub.execute_input": "2024-03-23T05:13:07.665362Z",
     "iopub.status.busy": "2024-03-23T05:13:07.665159Z",
     "iopub.status.idle": "2024-03-23T05:13:07.668342Z",
     "shell.execute_reply": "2024-03-23T05:13:07.667777Z"
    },
    "papermill": {
     "duration": 0.045906,
     "end_time": "2024-03-23T05:13:07.669126",
     "exception": false,
     "start_time": "2024-03-23T05:13:07.623220",
     "status": "completed"
    },
    "tags": []
   },
   "outputs": [
    {
     "name": "stdout",
     "output_type": "stream",
     "text": [
      "We also demonstrated that clustering trees, introduced initially as a means to examine developmental processes in single-cell data, provide a multi-resolution grouping of phenotypes based on latent variable associations. We employed hard-partitioning algorithms (one trait belongs exclusively to one cluster) where the distance between two traits takes into account all gene modules. However, it is also plausible for two complex diseases to share only a few biological processes instead of being similar across most of them. Another important consideration is that our TWAS results were derived from a large set of GWAS of different sample sizes and qualities. Although the potential issues derived from this data heterogeneity were addressed before performing our cluster analyses on traits, data preprocessing steps are always challenging and might not avoid bias altogether. Considering groups of related diseases was previously shown to be more powerful in detecting shared genetic etiology [@doi:10.1038/ng.3985; @doi:10.1038/s41588-018-0121-0], and clustering trees provide a way to explore such relationships in the context of latent variables.\n"
     ]
    }
   ],
   "source": [
    "par0 = process_paragraph(orig_section_paragraphs[4])\n",
    "print(par0)"
   ]
  },
  {
   "cell_type": "code",
   "execution_count": 178,
   "id": "66ec1e72-9a45-4a64-bc99-295cd0882f50",
   "metadata": {
    "execution": {
     "iopub.execute_input": "2024-03-23T05:13:07.758415Z",
     "iopub.status.busy": "2024-03-23T05:13:07.758199Z",
     "iopub.status.idle": "2024-03-23T05:13:07.761345Z",
     "shell.execute_reply": "2024-03-23T05:13:07.760793Z"
    },
    "papermill": {
     "duration": 0.051375,
     "end_time": "2024-03-23T05:13:07.762157",
     "exception": false,
     "start_time": "2024-03-23T05:13:07.710782",
     "status": "completed"
    },
    "tags": []
   },
   "outputs": [
    {
     "name": "stdout",
     "output_type": "stream",
     "text": [
      "We have also shown that clustering trees, originally introduced to study developmental processes in single-cell data, can group phenotypes based on associations with latent variables at multiple levels of resolution. We used hard-partitioning algorithms, where each trait is assigned exclusively to one cluster, and the distance between traits considers all gene modules. However, it is possible for two complex diseases to share only a few biological processes rather than being similar across most of them. It is important to note that our Transcriptome-Wide Association Study (TWAS) results were based on a large set of Genome-Wide Association Studies (GWAS) with varying sample sizes and qualities. While we addressed potential issues arising from this data heterogeneity before conducting our cluster analyses, data preprocessing steps are always challenging and may not completely eliminate bias. Previous research has shown that considering groups of related diseases can be more effective in identifying shared genetic causes, and clustering trees offer a way to explore these relationships in the context of latent variables.\n"
     ]
    }
   ],
   "source": [
    "par1 = process_paragraph(mod_section_paragraphs[4])\n",
    "print(par1)"
   ]
  },
  {
   "cell_type": "code",
   "execution_count": 179,
   "id": "3d4e0f2a-0d75-47ec-8754-e1ebf6d054d0",
   "metadata": {
    "execution": {
     "iopub.execute_input": "2024-03-23T05:13:07.847777Z",
     "iopub.status.busy": "2024-03-23T05:13:07.847572Z",
     "iopub.status.idle": "2024-03-23T05:13:07.850328Z",
     "shell.execute_reply": "2024-03-23T05:13:07.849785Z"
    },
    "papermill": {
     "duration": 0.046459,
     "end_time": "2024-03-23T05:13:07.851160",
     "exception": false,
     "start_time": "2024-03-23T05:13:07.804701",
     "status": "completed"
    },
    "tags": []
   },
   "outputs": [],
   "source": [
    "paragraph_matches.append(\n",
    "    (\n",
    "        section_name,\n",
    "        par0,\n",
    "        par1,\n",
    "    )\n",
    ")"
   ]
  },
  {
   "cell_type": "code",
   "execution_count": 180,
   "id": "b72cf403-a57e-4ca8-8188-0c4cece1baaf",
   "metadata": {
    "execution": {
     "iopub.execute_input": "2024-03-23T05:13:07.934574Z",
     "iopub.status.busy": "2024-03-23T05:13:07.934342Z",
     "iopub.status.idle": "2024-03-23T05:13:07.938271Z",
     "shell.execute_reply": "2024-03-23T05:13:07.937628Z"
    },
    "papermill": {
     "duration": 0.046441,
     "end_time": "2024-03-23T05:13:07.939155",
     "exception": false,
     "start_time": "2024-03-23T05:13:07.892714",
     "status": "completed"
    },
    "tags": []
   },
   "outputs": [
    {
     "data": {
      "text/plain": [
       "('discussion',\n",
       " 'We also demonstrated that clustering trees, introduced initially as a means to examine developmental processes in single-cell data, provide a multi-resolution grouping of phenotypes based on latent variable associations. We employed hard-partitioning algorithms (one trait belongs exclusively to one cluster) where the distance between two traits takes into account all gene modules. However, it is also plausible for two complex diseases to share only a few biological processes instead of being similar across most of them. Another important consideration is that our TWAS results were derived from a large set of GWAS of different sample sizes and qualities. Although the potential issues derived from this data heterogeneity were addressed before performing our cluster analyses on traits, data preprocessing steps are always challenging and might not avoid bias altogether. Considering groups of related diseases was previously shown to be more powerful in detecting shared genetic etiology [@doi:10.1038/ng.3985; @doi:10.1038/s41588-018-0121-0], and clustering trees provide a way to explore such relationships in the context of latent variables.',\n",
       " 'We have also shown that clustering trees, originally introduced to study developmental processes in single-cell data, can group phenotypes based on associations with latent variables at multiple levels of resolution. We used hard-partitioning algorithms, where each trait is assigned exclusively to one cluster, and the distance between traits considers all gene modules. However, it is possible for two complex diseases to share only a few biological processes rather than being similar across most of them. It is important to note that our Transcriptome-Wide Association Study (TWAS) results were based on a large set of Genome-Wide Association Studies (GWAS) with varying sample sizes and qualities. While we addressed potential issues arising from this data heterogeneity before conducting our cluster analyses, data preprocessing steps are always challenging and may not completely eliminate bias. Previous research has shown that considering groups of related diseases can be more effective in identifying shared genetic causes, and clustering trees offer a way to explore these relationships in the context of latent variables.')"
      ]
     },
     "metadata": {},
     "output_type": "display_data"
    }
   ],
   "source": [
    "display(paragraph_matches[-1])"
   ]
  },
  {
   "cell_type": "markdown",
   "id": "f6d05397-2768-45e6-a419-027cd619d2a3",
   "metadata": {
    "editable": true,
    "papermill": {
     "duration": 0.04446,
     "end_time": "2024-03-23T05:13:08.025129",
     "exception": false,
     "start_time": "2024-03-23T05:13:07.980669",
     "status": "completed"
    },
    "slideshow": {
     "slide_type": ""
    },
    "tags": []
   },
   "source": [
    "####  Paragraph 04"
   ]
  },
  {
   "cell_type": "code",
   "execution_count": 181,
   "id": "e1ac1feb-f6d3-4e48-8afa-d02ec7149e97",
   "metadata": {
    "execution": {
     "iopub.execute_input": "2024-03-23T05:13:08.138324Z",
     "iopub.status.busy": "2024-03-23T05:13:08.137974Z",
     "iopub.status.idle": "2024-03-23T05:13:08.141320Z",
     "shell.execute_reply": "2024-03-23T05:13:08.140697Z"
    },
    "papermill": {
     "duration": 0.045891,
     "end_time": "2024-03-23T05:13:08.142241",
     "exception": false,
     "start_time": "2024-03-23T05:13:08.096350",
     "status": "completed"
    },
    "tags": []
   },
   "outputs": [
    {
     "name": "stdout",
     "output_type": "stream",
     "text": [
      "Finally, we developed an LV-based regression framework to detect whether gene modules are associated with a trait using TWAS $p$-values. We used PhenomeXcan as a discovery cohort across four thousand traits, and many LV-trait associations replicated in eMERGE. In PhenomeXcan, we found 3,450 significant LV-trait associations (FDR < 0.05) with 686 LVs (out of 987) associated with at least one trait and 1,176 traits associated with at least one LV. In eMERGE, we found 196 significant LV-trait associations, with 116 LVs associated with at least one trait/phecode and 81 traits with at least one LV. We only focused on a few disease types from our trait clusters, but the complete set of associations on other disease domains is available in our [Github repository](https://github.com/greenelab/phenoplier) for future research. As noted in [Methods](#sec:methods:reg), one limitation of the regression approach is that the gene-gene correlations are only approximately accurate, which could lead to false positives if the correlation among the top genes in a module is not precisely captured. The regression model, however, is approximately well-calibrated, and we did not observe inflation when running the method in real data.\n"
     ]
    }
   ],
   "source": [
    "par0 = process_paragraph(orig_section_paragraphs[5])\n",
    "print(par0)"
   ]
  },
  {
   "cell_type": "code",
   "execution_count": 182,
   "id": "f8da7eba-dcac-4036-9be4-6b51fed928ed",
   "metadata": {
    "execution": {
     "iopub.execute_input": "2024-03-23T05:13:08.226674Z",
     "iopub.status.busy": "2024-03-23T05:13:08.226470Z",
     "iopub.status.idle": "2024-03-23T05:13:08.229628Z",
     "shell.execute_reply": "2024-03-23T05:13:08.229062Z"
    },
    "papermill": {
     "duration": 0.046349,
     "end_time": "2024-03-23T05:13:08.230446",
     "exception": false,
     "start_time": "2024-03-23T05:13:08.184097",
     "status": "completed"
    },
    "tags": []
   },
   "outputs": [
    {
     "name": "stdout",
     "output_type": "stream",
     "text": [
      "We utilized a Latent Variable (LV)-based regression framework to identify associations between gene modules and traits based on TWAS $p$-values. Our analysis was conducted using PhenomeXcan as a discovery cohort, encompassing over four thousand traits, with many of the LV-trait associations being replicated in the eMERGE dataset. In PhenomeXcan, we identified 3,450 significant LV-trait associations (FDR < 0.05), with 686 out of 987 LVs being linked to at least one trait, and 1,176 traits associated with at least one LV. In the eMERGE dataset, we found 196 significant LV-trait associations, with 116 LVs associated with at least one trait/phecode, and 81 traits linked to at least one LV. While we focused on specific disease types within our trait clusters, the comprehensive set of associations across other disease domains can be accessed in our [Github repository](https://github.com/greenelab/phenoplier) for future investigations. It is important to note, as detailed in the [Methods](#sec:methods:reg) section, that a limitation of the regression approach is the approximation of gene-gene correlations, which may result in false positives if the correlation among the top genes in a module is not accurately captured. Despite this limitation, our regression model demonstrates good calibration, as we did not observe inflation when applying the method to real data.\n"
     ]
    }
   ],
   "source": [
    "par1 = process_paragraph(mod_section_paragraphs[5])\n",
    "print(par1)"
   ]
  },
  {
   "cell_type": "code",
   "execution_count": 183,
   "id": "66fcccb7-97ff-4ccc-80ae-6d841c9a4333",
   "metadata": {
    "execution": {
     "iopub.execute_input": "2024-03-23T05:13:08.313942Z",
     "iopub.status.busy": "2024-03-23T05:13:08.313577Z",
     "iopub.status.idle": "2024-03-23T05:13:08.316402Z",
     "shell.execute_reply": "2024-03-23T05:13:08.315862Z"
    },
    "papermill": {
     "duration": 0.045255,
     "end_time": "2024-03-23T05:13:08.317127",
     "exception": false,
     "start_time": "2024-03-23T05:13:08.271872",
     "status": "completed"
    },
    "tags": []
   },
   "outputs": [],
   "source": [
    "paragraph_matches.append(\n",
    "    (\n",
    "        section_name,\n",
    "        par0,\n",
    "        par1,\n",
    "    )\n",
    ")"
   ]
  },
  {
   "cell_type": "code",
   "execution_count": 184,
   "id": "1487d4c6-de99-4cae-857b-430b29f83e1a",
   "metadata": {
    "execution": {
     "iopub.execute_input": "2024-03-23T05:13:08.400332Z",
     "iopub.status.busy": "2024-03-23T05:13:08.400098Z",
     "iopub.status.idle": "2024-03-23T05:13:08.404141Z",
     "shell.execute_reply": "2024-03-23T05:13:08.403593Z"
    },
    "papermill": {
     "duration": 0.046564,
     "end_time": "2024-03-23T05:13:08.404933",
     "exception": false,
     "start_time": "2024-03-23T05:13:08.358369",
     "status": "completed"
    },
    "tags": []
   },
   "outputs": [
    {
     "data": {
      "text/plain": [
       "('discussion',\n",
       " 'Finally, we developed an LV-based regression framework to detect whether gene modules are associated with a trait using TWAS $p$-values. We used PhenomeXcan as a discovery cohort across four thousand traits, and many LV-trait associations replicated in eMERGE. In PhenomeXcan, we found 3,450 significant LV-trait associations (FDR < 0.05) with 686 LVs (out of 987) associated with at least one trait and 1,176 traits associated with at least one LV. In eMERGE, we found 196 significant LV-trait associations, with 116 LVs associated with at least one trait/phecode and 81 traits with at least one LV. We only focused on a few disease types from our trait clusters, but the complete set of associations on other disease domains is available in our [Github repository](https://github.com/greenelab/phenoplier) for future research. As noted in [Methods](#sec:methods:reg), one limitation of the regression approach is that the gene-gene correlations are only approximately accurate, which could lead to false positives if the correlation among the top genes in a module is not precisely captured. The regression model, however, is approximately well-calibrated, and we did not observe inflation when running the method in real data.',\n",
       " 'We utilized a Latent Variable (LV)-based regression framework to identify associations between gene modules and traits based on TWAS $p$-values. Our analysis was conducted using PhenomeXcan as a discovery cohort, encompassing over four thousand traits, with many of the LV-trait associations being replicated in the eMERGE dataset. In PhenomeXcan, we identified 3,450 significant LV-trait associations (FDR < 0.05), with 686 out of 987 LVs being linked to at least one trait, and 1,176 traits associated with at least one LV. In the eMERGE dataset, we found 196 significant LV-trait associations, with 116 LVs associated with at least one trait/phecode, and 81 traits linked to at least one LV. While we focused on specific disease types within our trait clusters, the comprehensive set of associations across other disease domains can be accessed in our [Github repository](https://github.com/greenelab/phenoplier) for future investigations. It is important to note, as detailed in the [Methods](#sec:methods:reg) section, that a limitation of the regression approach is the approximation of gene-gene correlations, which may result in false positives if the correlation among the top genes in a module is not accurately captured. Despite this limitation, our regression model demonstrates good calibration, as we did not observe inflation when applying the method to real data.')"
      ]
     },
     "metadata": {},
     "output_type": "display_data"
    }
   ],
   "source": [
    "display(paragraph_matches[-1])"
   ]
  },
  {
   "cell_type": "markdown",
   "id": "6490bb55-8004-4e13-963e-1baa8489f6ab",
   "metadata": {
    "editable": true,
    "papermill": {
     "duration": 0.041011,
     "end_time": "2024-03-23T05:13:08.487439",
     "exception": false,
     "start_time": "2024-03-23T05:13:08.446428",
     "status": "completed"
    },
    "slideshow": {
     "slide_type": ""
    },
    "tags": []
   },
   "source": [
    "####  Paragraph 05"
   ]
  },
  {
   "cell_type": "code",
   "execution_count": 185,
   "id": "86ade612-a79b-4270-99d5-b403b0272c17",
   "metadata": {
    "execution": {
     "iopub.execute_input": "2024-03-23T05:13:08.570891Z",
     "iopub.status.busy": "2024-03-23T05:13:08.570680Z",
     "iopub.status.idle": "2024-03-23T05:13:08.573930Z",
     "shell.execute_reply": "2024-03-23T05:13:08.573331Z"
    },
    "papermill": {
     "duration": 0.045985,
     "end_time": "2024-03-23T05:13:08.574757",
     "exception": false,
     "start_time": "2024-03-23T05:13:08.528772",
     "status": "completed"
    },
    "tags": []
   },
   "outputs": [
    {
     "name": "stdout",
     "output_type": "stream",
     "text": [
      "Our approach rests on the assumption that gene modules with coordinated expression patterns will also manifest coordinated pathological effects. Our implementation in this work integrates two complementary approaches. The first is MultiPLIER, which extracts latent variables from large expression datasets, and these LVs could represent either real transcriptional processes or technical factors (\"batch effects\"). We used a previously published model derived from recount2, which was designed to analyze rare disorders but might not be the optimal latent representation for the wide range of complex diseases considered here. Also, the underlying factorization method rests on linear combinations of variables, which could miss important and more complex co-expression patterns. In addition, recount2, the training dataset used, has since been surpassed in size and scale by other resources [@doi:10.1038/s41467-018-03751-6; @doi:10.1101/2021.05.21.445138]. However, it is important to note that our models impose very few assumptions on the latent expression representation. Therefore, we should be able to easily replace MultiPLIER with other similar approaches like GenomicSuperSignature [@doi:10.1038/s41467-022-31411-3]. The second approach we used in this study is TWAS, where we are only considering the hypothesis that GWAS loci affect traits via changes in gene expression. Other effects, such as coding variants disrupting protein-protein interactions, are not captured. Additionally, TWAS has several limitations that can lead to false positives [@doi:10.1038/s41588-019-0385-z; @doi:10.1016/j.ajhg.2020.11.012]. Like GWAS, which generally detects groups of associated variants in linkage disequilibrium (LD), TWAS usually identifies several genes within the same locus [@doi:10.1038/s41588-018-0092-1; @doi:10.1038/ng.3367]. This is due to sharing of GWAS variants in gene expression models, correlated expression of nearby genes, or even correlation of their predicted expression due to eQTLs in LD, among others [@doi:10.1038/s41588-019-0385-z]. Our LV-based regression framework, however, accounts for these gene-gene correlations in TWAS reasonably well.\n"
     ]
    }
   ],
   "source": [
    "par0 = process_paragraph(orig_section_paragraphs[6])\n",
    "print(par0)"
   ]
  },
  {
   "cell_type": "code",
   "execution_count": 186,
   "id": "0affd988-bc27-498c-b4e6-d8073791510a",
   "metadata": {
    "execution": {
     "iopub.execute_input": "2024-03-23T05:13:08.660366Z",
     "iopub.status.busy": "2024-03-23T05:13:08.660133Z",
     "iopub.status.idle": "2024-03-23T05:13:08.663757Z",
     "shell.execute_reply": "2024-03-23T05:13:08.663106Z"
    },
    "papermill": {
     "duration": 0.047188,
     "end_time": "2024-03-23T05:13:08.664607",
     "exception": false,
     "start_time": "2024-03-23T05:13:08.617419",
     "status": "completed"
    },
    "tags": []
   },
   "outputs": [
    {
     "name": "stdout",
     "output_type": "stream",
     "text": [
      "Our study is based on the idea that genes that are expressed together will also have similar effects on diseases. We used two main methods in our research. The first method, MultiPLIER, extracts hidden variables from large gene expression datasets, which could represent real gene expression processes or technical factors. We used a model from recount2, which was originally designed for rare disorders and may not be ideal for the wide range of complex diseases we are studying. Additionally, the method used in MultiPLIER relies on linear combinations of variables, which may overlook important and more complex patterns of gene expression. Furthermore, recount2, the dataset we used for training, has been surpassed in size and scale by newer resources. However, our models do not make many assumptions about gene expression patterns, so we could easily replace MultiPLIER with similar approaches like GenomicSuperSignature. The second method we used in our study is TWAS, where we are focusing on the idea that genetic variants identified in GWAS affect traits through changes in gene expression. TWAS has limitations that can lead to false results, such as identifying multiple genes in the same genetic locus. Our regression framework based on hidden variables, however, addresses these gene-gene correlations in TWAS effectively.\n"
     ]
    }
   ],
   "source": [
    "par1 = process_paragraph(mod_section_paragraphs[6:8])\n",
    "print(par1)"
   ]
  },
  {
   "cell_type": "code",
   "execution_count": 187,
   "id": "66a3ff5c-d563-4bbf-b900-e77fc94cd6bc",
   "metadata": {
    "execution": {
     "iopub.execute_input": "2024-03-23T05:13:08.776356Z",
     "iopub.status.busy": "2024-03-23T05:13:08.776017Z",
     "iopub.status.idle": "2024-03-23T05:13:08.778789Z",
     "shell.execute_reply": "2024-03-23T05:13:08.778232Z"
    },
    "papermill": {
     "duration": 0.073208,
     "end_time": "2024-03-23T05:13:08.779602",
     "exception": false,
     "start_time": "2024-03-23T05:13:08.706394",
     "status": "completed"
    },
    "tags": []
   },
   "outputs": [],
   "source": [
    "paragraph_matches.append(\n",
    "    (\n",
    "        section_name,\n",
    "        par0,\n",
    "        par1,\n",
    "    )\n",
    ")"
   ]
  },
  {
   "cell_type": "code",
   "execution_count": 188,
   "id": "be401e36-b2d9-4533-be76-cb1ba54f6ecb",
   "metadata": {
    "execution": {
     "iopub.execute_input": "2024-03-23T05:13:08.863447Z",
     "iopub.status.busy": "2024-03-23T05:13:08.863121Z",
     "iopub.status.idle": "2024-03-23T05:13:08.867103Z",
     "shell.execute_reply": "2024-03-23T05:13:08.866546Z"
    },
    "papermill": {
     "duration": 0.04664,
     "end_time": "2024-03-23T05:13:08.867900",
     "exception": false,
     "start_time": "2024-03-23T05:13:08.821260",
     "status": "completed"
    },
    "tags": []
   },
   "outputs": [
    {
     "data": {
      "text/plain": [
       "('discussion',\n",
       " 'Our approach rests on the assumption that gene modules with coordinated expression patterns will also manifest coordinated pathological effects. Our implementation in this work integrates two complementary approaches. The first is MultiPLIER, which extracts latent variables from large expression datasets, and these LVs could represent either real transcriptional processes or technical factors (\"batch effects\"). We used a previously published model derived from recount2, which was designed to analyze rare disorders but might not be the optimal latent representation for the wide range of complex diseases considered here. Also, the underlying factorization method rests on linear combinations of variables, which could miss important and more complex co-expression patterns. In addition, recount2, the training dataset used, has since been surpassed in size and scale by other resources [@doi:10.1038/s41467-018-03751-6; @doi:10.1101/2021.05.21.445138]. However, it is important to note that our models impose very few assumptions on the latent expression representation. Therefore, we should be able to easily replace MultiPLIER with other similar approaches like GenomicSuperSignature [@doi:10.1038/s41467-022-31411-3]. The second approach we used in this study is TWAS, where we are only considering the hypothesis that GWAS loci affect traits via changes in gene expression. Other effects, such as coding variants disrupting protein-protein interactions, are not captured. Additionally, TWAS has several limitations that can lead to false positives [@doi:10.1038/s41588-019-0385-z; @doi:10.1016/j.ajhg.2020.11.012]. Like GWAS, which generally detects groups of associated variants in linkage disequilibrium (LD), TWAS usually identifies several genes within the same locus [@doi:10.1038/s41588-018-0092-1; @doi:10.1038/ng.3367]. This is due to sharing of GWAS variants in gene expression models, correlated expression of nearby genes, or even correlation of their predicted expression due to eQTLs in LD, among others [@doi:10.1038/s41588-019-0385-z]. Our LV-based regression framework, however, accounts for these gene-gene correlations in TWAS reasonably well.',\n",
       " 'Our study is based on the idea that genes that are expressed together will also have similar effects on diseases. We used two main methods in our research. The first method, MultiPLIER, extracts hidden variables from large gene expression datasets, which could represent real gene expression processes or technical factors. We used a model from recount2, which was originally designed for rare disorders and may not be ideal for the wide range of complex diseases we are studying. Additionally, the method used in MultiPLIER relies on linear combinations of variables, which may overlook important and more complex patterns of gene expression. Furthermore, recount2, the dataset we used for training, has been surpassed in size and scale by newer resources. However, our models do not make many assumptions about gene expression patterns, so we could easily replace MultiPLIER with similar approaches like GenomicSuperSignature. The second method we used in our study is TWAS, where we are focusing on the idea that genetic variants identified in GWAS affect traits through changes in gene expression. TWAS has limitations that can lead to false results, such as identifying multiple genes in the same genetic locus. Our regression framework based on hidden variables, however, addresses these gene-gene correlations in TWAS effectively.')"
      ]
     },
     "metadata": {},
     "output_type": "display_data"
    }
   ],
   "source": [
    "display(paragraph_matches[-1])"
   ]
  },
  {
   "cell_type": "markdown",
   "id": "d080117b-9e27-47ce-9b2f-b01c70e365c7",
   "metadata": {
    "editable": true,
    "papermill": {
     "duration": 0.041744,
     "end_time": "2024-03-23T05:13:08.951066",
     "exception": false,
     "start_time": "2024-03-23T05:13:08.909322",
     "status": "completed"
    },
    "slideshow": {
     "slide_type": ""
    },
    "tags": []
   },
   "source": [
    "####  Paragraph 06"
   ]
  },
  {
   "cell_type": "code",
   "execution_count": 189,
   "id": "4ca66dfa-862c-4ed3-a7ce-ad587271bf8a",
   "metadata": {
    "execution": {
     "iopub.execute_input": "2024-03-23T05:13:09.036609Z",
     "iopub.status.busy": "2024-03-23T05:13:09.036116Z",
     "iopub.status.idle": "2024-03-23T05:13:09.039532Z",
     "shell.execute_reply": "2024-03-23T05:13:09.038985Z"
    },
    "papermill": {
     "duration": 0.046934,
     "end_time": "2024-03-23T05:13:09.040317",
     "exception": false,
     "start_time": "2024-03-23T05:13:08.993383",
     "status": "completed"
    },
    "tags": []
   },
   "outputs": [
    {
     "name": "stdout",
     "output_type": "stream",
     "text": [
      "Our findings are concordant with previous studies showing that drugs with genetic support are more likely to succeed through the drug development pipeline [@doi:10.1038/ng.3314; @doi:10.1038/nn.4618]. In this case, projecting association results through latent variables better prioritized disease-treatment pairs than considering single-gene effects alone. An additional benefit is that the latent variables driving predictions represent interpretable genetic features that can be examined to infer potential mechanisms of action. Here we prioritized drugs for diseases with very different tissue etiologies, and a challenge of the approach is to select the most appropriate tissue model from TWAS to find reversed transcriptome patterns between genes and drug-induced perturbations.\n"
     ]
    }
   ],
   "source": [
    "par0 = process_paragraph(orig_section_paragraphs[7])\n",
    "print(par0)"
   ]
  },
  {
   "cell_type": "code",
   "execution_count": 190,
   "id": "799fb0c0-15ed-4b7e-8a16-0dd33bdf81b1",
   "metadata": {
    "execution": {
     "iopub.execute_input": "2024-03-23T05:13:09.124452Z",
     "iopub.status.busy": "2024-03-23T05:13:09.124248Z",
     "iopub.status.idle": "2024-03-23T05:13:09.127422Z",
     "shell.execute_reply": "2024-03-23T05:13:09.126854Z"
    },
    "papermill": {
     "duration": 0.046066,
     "end_time": "2024-03-23T05:13:09.128264",
     "exception": false,
     "start_time": "2024-03-23T05:13:09.082198",
     "status": "completed"
    },
    "tags": []
   },
   "outputs": [
    {
     "name": "stdout",
     "output_type": "stream",
     "text": [
      "Our findings align with previous research indicating that drugs with genetic support are more likely to succeed in the drug development pipeline (Smith et al., 2018; Johnson et al., 2019). In this study, projecting association results through latent variables proved to be more effective in prioritizing disease-treatment pairs compared to focusing solely on single-gene effects. A key advantage of this approach is that the latent variables used in predictions represent understandable genetic characteristics that can offer insights into potential mechanisms of action. In our analysis, we prioritized drugs for diseases with diverse tissue origins, highlighting the challenge of selecting the most suitable tissue model from Transcriptome-Wide Association Studies (TWAS) to identify reversed transcriptome patterns between genes and drug-induced changes.\n"
     ]
    }
   ],
   "source": [
    "par1 = process_paragraph(mod_section_paragraphs[8])\n",
    "print(par1)"
   ]
  },
  {
   "cell_type": "code",
   "execution_count": 191,
   "id": "ef6c17fb-7cd6-4690-8bce-3bc17befc326",
   "metadata": {
    "execution": {
     "iopub.execute_input": "2024-03-23T05:13:09.212244Z",
     "iopub.status.busy": "2024-03-23T05:13:09.212018Z",
     "iopub.status.idle": "2024-03-23T05:13:09.214841Z",
     "shell.execute_reply": "2024-03-23T05:13:09.214284Z"
    },
    "papermill": {
     "duration": 0.045339,
     "end_time": "2024-03-23T05:13:09.215608",
     "exception": false,
     "start_time": "2024-03-23T05:13:09.170269",
     "status": "completed"
    },
    "tags": []
   },
   "outputs": [],
   "source": [
    "paragraph_matches.append(\n",
    "    (\n",
    "        section_name,\n",
    "        par0,\n",
    "        par1,\n",
    "    )\n",
    ")"
   ]
  },
  {
   "cell_type": "code",
   "execution_count": 192,
   "id": "480aea1d-08f8-4520-b71b-735a9d57dd1e",
   "metadata": {
    "execution": {
     "iopub.execute_input": "2024-03-23T05:13:09.299534Z",
     "iopub.status.busy": "2024-03-23T05:13:09.299210Z",
     "iopub.status.idle": "2024-03-23T05:13:09.303040Z",
     "shell.execute_reply": "2024-03-23T05:13:09.302466Z"
    },
    "papermill": {
     "duration": 0.046592,
     "end_time": "2024-03-23T05:13:09.303859",
     "exception": false,
     "start_time": "2024-03-23T05:13:09.257267",
     "status": "completed"
    },
    "tags": []
   },
   "outputs": [
    {
     "data": {
      "text/plain": [
       "('discussion',\n",
       " 'Our findings are concordant with previous studies showing that drugs with genetic support are more likely to succeed through the drug development pipeline [@doi:10.1038/ng.3314; @doi:10.1038/nn.4618]. In this case, projecting association results through latent variables better prioritized disease-treatment pairs than considering single-gene effects alone. An additional benefit is that the latent variables driving predictions represent interpretable genetic features that can be examined to infer potential mechanisms of action. Here we prioritized drugs for diseases with very different tissue etiologies, and a challenge of the approach is to select the most appropriate tissue model from TWAS to find reversed transcriptome patterns between genes and drug-induced perturbations.',\n",
       " 'Our findings align with previous research indicating that drugs with genetic support are more likely to succeed in the drug development pipeline (Smith et al., 2018; Johnson et al., 2019). In this study, projecting association results through latent variables proved to be more effective in prioritizing disease-treatment pairs compared to focusing solely on single-gene effects. A key advantage of this approach is that the latent variables used in predictions represent understandable genetic characteristics that can offer insights into potential mechanisms of action. In our analysis, we prioritized drugs for diseases with diverse tissue origins, highlighting the challenge of selecting the most suitable tissue model from Transcriptome-Wide Association Studies (TWAS) to identify reversed transcriptome patterns between genes and drug-induced changes.')"
      ]
     },
     "metadata": {},
     "output_type": "display_data"
    }
   ],
   "source": [
    "display(paragraph_matches[-1])"
   ]
  },
  {
   "cell_type": "markdown",
   "id": "e4024b9d-cd68-42da-8405-b98cd0245115",
   "metadata": {
    "editable": true,
    "papermill": {
     "duration": 0.0419,
     "end_time": "2024-03-23T05:13:09.387490",
     "exception": false,
     "start_time": "2024-03-23T05:13:09.345590",
     "status": "completed"
    },
    "slideshow": {
     "slide_type": ""
    },
    "tags": []
   },
   "source": [
    "####  Paragraph 07"
   ]
  },
  {
   "cell_type": "code",
   "execution_count": 193,
   "id": "183306a9-e067-4125-9343-906ebad1c7a4",
   "metadata": {
    "execution": {
     "iopub.execute_input": "2024-03-23T05:13:09.499542Z",
     "iopub.status.busy": "2024-03-23T05:13:09.499186Z",
     "iopub.status.idle": "2024-03-23T05:13:09.502338Z",
     "shell.execute_reply": "2024-03-23T05:13:09.501787Z"
    },
    "papermill": {
     "duration": 0.046189,
     "end_time": "2024-03-23T05:13:09.503141",
     "exception": false,
     "start_time": "2024-03-23T05:13:09.456952",
     "status": "completed"
    },
    "tags": []
   },
   "outputs": [
    {
     "name": "stdout",
     "output_type": "stream",
     "text": [
      "Ultimately, the quality of the representations is essential to performance. Here we used a representation derived from a factorization of bulk RNA-seq data. Detailed perturbation datasets and single-cell profiling of tissues, with and without perturbagens, and at various stages of development provide an avenue to generate higher quality and more interpretable representations. On the other hand, the key to interpretability is driven by the annotation of sample metadata. New approaches to infer and annotate with structured metadata are promising and can be directly applied to existing data [@doi:10.1101/2021.05.10.443525]. Rapid improvements in both areas set the stage for latent variable projections to be widely applied to disentangle the genetic basis of complex human phenotypes. By providing a new perspective for a mechanistic understanding of statistical associations from TWAS, our method can generate testable hypotheses for the post-GWAS functional characterization of complex diseases, which will likely be an area of great importance in the coming years.\n"
     ]
    }
   ],
   "source": [
    "par0 = process_paragraph(orig_section_paragraphs[8])\n",
    "print(par0)"
   ]
  },
  {
   "cell_type": "code",
   "execution_count": 194,
   "id": "6fd692c5-e5b1-4be1-bff6-2cef45f36f15",
   "metadata": {
    "execution": {
     "iopub.execute_input": "2024-03-23T05:13:09.587380Z",
     "iopub.status.busy": "2024-03-23T05:13:09.587029Z",
     "iopub.status.idle": "2024-03-23T05:13:09.590306Z",
     "shell.execute_reply": "2024-03-23T05:13:09.589669Z"
    },
    "papermill": {
     "duration": 0.046207,
     "end_time": "2024-03-23T05:13:09.591021",
     "exception": false,
     "start_time": "2024-03-23T05:13:09.544814",
     "status": "completed"
    },
    "tags": []
   },
   "outputs": [
    {
     "name": "stdout",
     "output_type": "stream",
     "text": [
      "Ultimately, the quality of the representations is crucial for performance. In this study, we utilized a representation obtained from a factorization of bulk RNA-seq data. More detailed perturbation datasets and single-cell profiling of tissues, both with and without perturbagens, and at different developmental stages, offer a way to create higher quality and more easily understandable representations. The key to interpretability lies in the annotation of sample metadata. New methods for inferring and annotating structured metadata show promise and can be directly applied to existing data (Smith et al., 2021). The rapid advancements in both of these areas pave the way for latent variable projections to be widely used in unraveling the genetic underpinnings of complex human traits. By offering a new perspective to comprehend the statistical associations from TWAS, our approach can propose testable hypotheses for the post-GWAS functional analysis of complex diseases, which is likely to be a crucial area of research in the future.\n"
     ]
    }
   ],
   "source": [
    "par1 = process_paragraph(mod_section_paragraphs[9])\n",
    "print(par1)"
   ]
  },
  {
   "cell_type": "code",
   "execution_count": 195,
   "id": "3f8809fc-2eed-4721-97a4-25511cd2f9de",
   "metadata": {
    "execution": {
     "iopub.execute_input": "2024-03-23T05:13:09.675441Z",
     "iopub.status.busy": "2024-03-23T05:13:09.675338Z",
     "iopub.status.idle": "2024-03-23T05:13:09.677549Z",
     "shell.execute_reply": "2024-03-23T05:13:09.677101Z"
    },
    "papermill": {
     "duration": 0.045219,
     "end_time": "2024-03-23T05:13:09.678302",
     "exception": false,
     "start_time": "2024-03-23T05:13:09.633083",
     "status": "completed"
    },
    "tags": []
   },
   "outputs": [],
   "source": [
    "paragraph_matches.append(\n",
    "    (\n",
    "        section_name,\n",
    "        par0,\n",
    "        par1,\n",
    "    )\n",
    ")"
   ]
  },
  {
   "cell_type": "code",
   "execution_count": 196,
   "id": "8c696e12-6ecb-4c0f-98d8-042edf9cd199",
   "metadata": {
    "execution": {
     "iopub.execute_input": "2024-03-23T05:13:09.762952Z",
     "iopub.status.busy": "2024-03-23T05:13:09.762845Z",
     "iopub.status.idle": "2024-03-23T05:13:09.766122Z",
     "shell.execute_reply": "2024-03-23T05:13:09.765637Z"
    },
    "papermill": {
     "duration": 0.046722,
     "end_time": "2024-03-23T05:13:09.766869",
     "exception": false,
     "start_time": "2024-03-23T05:13:09.720147",
     "status": "completed"
    },
    "tags": []
   },
   "outputs": [
    {
     "data": {
      "text/plain": [
       "('discussion',\n",
       " 'Ultimately, the quality of the representations is essential to performance. Here we used a representation derived from a factorization of bulk RNA-seq data. Detailed perturbation datasets and single-cell profiling of tissues, with and without perturbagens, and at various stages of development provide an avenue to generate higher quality and more interpretable representations. On the other hand, the key to interpretability is driven by the annotation of sample metadata. New approaches to infer and annotate with structured metadata are promising and can be directly applied to existing data [@doi:10.1101/2021.05.10.443525]. Rapid improvements in both areas set the stage for latent variable projections to be widely applied to disentangle the genetic basis of complex human phenotypes. By providing a new perspective for a mechanistic understanding of statistical associations from TWAS, our method can generate testable hypotheses for the post-GWAS functional characterization of complex diseases, which will likely be an area of great importance in the coming years.',\n",
       " 'Ultimately, the quality of the representations is crucial for performance. In this study, we utilized a representation obtained from a factorization of bulk RNA-seq data. More detailed perturbation datasets and single-cell profiling of tissues, both with and without perturbagens, and at different developmental stages, offer a way to create higher quality and more easily understandable representations. The key to interpretability lies in the annotation of sample metadata. New methods for inferring and annotating structured metadata show promise and can be directly applied to existing data (Smith et al., 2021). The rapid advancements in both of these areas pave the way for latent variable projections to be widely used in unraveling the genetic underpinnings of complex human traits. By offering a new perspective to comprehend the statistical associations from TWAS, our approach can propose testable hypotheses for the post-GWAS functional analysis of complex diseases, which is likely to be a crucial area of research in the future.')"
      ]
     },
     "metadata": {},
     "output_type": "display_data"
    }
   ],
   "source": [
    "display(paragraph_matches[-1])"
   ]
  },
  {
   "cell_type": "markdown",
   "id": "59e442fb-dfda-434d-b1d4-265fbe96ccfc",
   "metadata": {
    "editable": true,
    "papermill": {
     "duration": 0.041665,
     "end_time": "2024-03-23T05:13:09.850495",
     "exception": false,
     "start_time": "2024-03-23T05:13:09.808830",
     "status": "completed"
    },
    "slideshow": {
     "slide_type": ""
    },
    "tags": []
   },
   "source": [
    "## Methods"
   ]
  },
  {
   "cell_type": "code",
   "execution_count": 197,
   "id": "42676dcc-e716-44d9-a957-db23dd90e123",
   "metadata": {
    "execution": {
     "iopub.execute_input": "2024-03-23T05:13:09.933998Z",
     "iopub.status.busy": "2024-03-23T05:13:09.933898Z",
     "iopub.status.idle": "2024-03-23T05:13:09.935950Z",
     "shell.execute_reply": "2024-03-23T05:13:09.935503Z"
    },
    "papermill": {
     "duration": 0.044586,
     "end_time": "2024-03-23T05:13:09.936627",
     "exception": false,
     "start_time": "2024-03-23T05:13:09.892041",
     "status": "completed"
    },
    "tags": []
   },
   "outputs": [],
   "source": [
    "section_name = \"methods\""
   ]
  },
  {
   "cell_type": "code",
   "execution_count": 198,
   "id": "8f280817-fdf2-447f-b74f-a496c7034555",
   "metadata": {
    "editable": true,
    "execution": {
     "iopub.execute_input": "2024-03-23T05:13:10.021208Z",
     "iopub.status.busy": "2024-03-23T05:13:10.020732Z",
     "iopub.status.idle": "2024-03-23T05:13:10.023898Z",
     "shell.execute_reply": "2024-03-23T05:13:10.023443Z"
    },
    "papermill": {
     "duration": 0.046247,
     "end_time": "2024-03-23T05:13:10.024638",
     "exception": false,
     "start_time": "2024-03-23T05:13:09.978391",
     "status": "completed"
    },
    "slideshow": {
     "slide_type": ""
    },
    "tags": []
   },
   "outputs": [
    {
     "name": "stdout",
     "output_type": "stream",
     "text": [
      "content/07.00.methods.md\n"
     ]
    }
   ],
   "source": [
    "pr_filename = pr_files[7].filename\n",
    "assert section_name in pr_filename\n",
    "print(pr_filename)"
   ]
  },
  {
   "cell_type": "markdown",
   "id": "c4466db8-9485-49cc-a08f-dfdf243e1f06",
   "metadata": {
    "editable": true,
    "papermill": {
     "duration": 0.069273,
     "end_time": "2024-03-23T05:13:10.135761",
     "exception": false,
     "start_time": "2024-03-23T05:13:10.066488",
     "status": "completed"
    },
    "slideshow": {
     "slide_type": ""
    },
    "tags": []
   },
   "source": [
    "### Original"
   ]
  },
  {
   "cell_type": "code",
   "execution_count": 199,
   "id": "d28b84ac-727b-4412-8504-2cb1d9764a91",
   "metadata": {
    "execution": {
     "iopub.execute_input": "2024-03-23T05:13:10.220389Z",
     "iopub.status.busy": "2024-03-23T05:13:10.220278Z",
     "iopub.status.idle": "2024-03-23T05:13:10.368021Z",
     "shell.execute_reply": "2024-03-23T05:13:10.367539Z"
    },
    "papermill": {
     "duration": 0.190928,
     "end_time": "2024-03-23T05:13:10.368973",
     "exception": false,
     "start_time": "2024-03-23T05:13:10.178045",
     "status": "completed"
    },
    "tags": []
   },
   "outputs": [
    {
     "name": "stdout",
     "output_type": "stream",
     "text": [
      "## Methods {#sec:methods}\n",
      "\n",
      "PhenoPLIER is a framewo\n"
     ]
    }
   ],
   "source": [
    "# get content\n",
    "orig_section_content = repo.get_contents(pr_filename, pr_prev).decoded_content.decode(\n",
    "    \"utf-8\"\n",
    ")\n",
    "print(orig_section_content[:50])"
   ]
  },
  {
   "cell_type": "code",
   "execution_count": 200,
   "id": "18fe5c96-6270-45fe-8f3a-2da927318d82",
   "metadata": {
    "execution": {
     "iopub.execute_input": "2024-03-23T05:13:10.483157Z",
     "iopub.status.busy": "2024-03-23T05:13:10.482708Z",
     "iopub.status.idle": "2024-03-23T05:13:10.486610Z",
     "shell.execute_reply": "2024-03-23T05:13:10.485974Z"
    },
    "papermill": {
     "duration": 0.051716,
     "end_time": "2024-03-23T05:13:10.487491",
     "exception": false,
     "start_time": "2024-03-23T05:13:10.435775",
     "status": "completed"
    },
    "tags": []
   },
   "outputs": [
    {
     "data": {
      "text/plain": [
       "71"
      ]
     },
     "metadata": {},
     "output_type": "display_data"
    }
   ],
   "source": [
    "# split by paragraph\n",
    "orig_section_paragraphs = orig_section_content.split(\"\\n\\n\")\n",
    "display(len(orig_section_paragraphs))"
   ]
  },
  {
   "cell_type": "markdown",
   "id": "6066a4d2-2696-4e7d-9da4-d1818871259d",
   "metadata": {
    "editable": true,
    "papermill": {
     "duration": 0.043182,
     "end_time": "2024-03-23T05:13:10.573705",
     "exception": false,
     "start_time": "2024-03-23T05:13:10.530523",
     "status": "completed"
    },
    "slideshow": {
     "slide_type": ""
    },
    "tags": []
   },
   "source": [
    "### Modified"
   ]
  },
  {
   "cell_type": "code",
   "execution_count": 201,
   "id": "4e8d95f9-376b-450b-99d5-67891963f997",
   "metadata": {
    "execution": {
     "iopub.execute_input": "2024-03-23T05:13:10.658673Z",
     "iopub.status.busy": "2024-03-23T05:13:10.658251Z",
     "iopub.status.idle": "2024-03-23T05:13:10.809961Z",
     "shell.execute_reply": "2024-03-23T05:13:10.809369Z"
    },
    "papermill": {
     "duration": 0.194674,
     "end_time": "2024-03-23T05:13:10.810753",
     "exception": false,
     "start_time": "2024-03-23T05:13:10.616079",
     "status": "completed"
    },
    "tags": []
   },
   "outputs": [
    {
     "name": "stdout",
     "output_type": "stream",
     "text": [
      "## Methods {#sec:methods}\n",
      "\n",
      "PhenoPLIER is a framewo\n"
     ]
    }
   ],
   "source": [
    "# get content\n",
    "mod_section_content = repo.get_contents(pr_filename, pr_curr).decoded_content.decode(\n",
    "    \"utf-8\"\n",
    ")\n",
    "print(mod_section_content[:50])"
   ]
  },
  {
   "cell_type": "code",
   "execution_count": 202,
   "id": "6c0d91e9-b334-4b74-9ea5-7080c5e7fa6d",
   "metadata": {
    "execution": {
     "iopub.execute_input": "2024-03-23T05:13:10.928499Z",
     "iopub.status.busy": "2024-03-23T05:13:10.928159Z",
     "iopub.status.idle": "2024-03-23T05:13:10.932220Z",
     "shell.execute_reply": "2024-03-23T05:13:10.931587Z"
    },
    "papermill": {
     "duration": 0.072121,
     "end_time": "2024-03-23T05:13:10.932950",
     "exception": false,
     "start_time": "2024-03-23T05:13:10.860829",
     "status": "completed"
    },
    "tags": []
   },
   "outputs": [
    {
     "data": {
      "text/plain": [
       "105"
      ]
     },
     "metadata": {},
     "output_type": "display_data"
    }
   ],
   "source": [
    "# split by paragraph\n",
    "mod_section_paragraphs = mod_section_content.split(\"\\n\\n\")\n",
    "display(len(mod_section_paragraphs))"
   ]
  },
  {
   "cell_type": "markdown",
   "id": "f1da0d8d-adc4-4403-be49-4385ea781ac8",
   "metadata": {
    "editable": true,
    "papermill": {
     "duration": 0.042003,
     "end_time": "2024-03-23T05:13:11.017259",
     "exception": false,
     "start_time": "2024-03-23T05:13:10.975256",
     "status": "completed"
    },
    "slideshow": {
     "slide_type": ""
    },
    "tags": []
   },
   "source": [
    "### Match"
   ]
  },
  {
   "cell_type": "code",
   "execution_count": 203,
   "id": "53720cd3-8e0a-4d31-8883-c206026f9e5f",
   "metadata": {
    "execution": {
     "iopub.execute_input": "2024-03-23T05:13:11.102646Z",
     "iopub.status.busy": "2024-03-23T05:13:11.102211Z",
     "iopub.status.idle": "2024-03-23T05:13:11.105597Z",
     "shell.execute_reply": "2024-03-23T05:13:11.105126Z"
    },
    "papermill": {
     "duration": 0.046539,
     "end_time": "2024-03-23T05:13:11.106365",
     "exception": false,
     "start_time": "2024-03-23T05:13:11.059826",
     "status": "completed"
    },
    "tags": []
   },
   "outputs": [
    {
     "data": {
      "text/plain": [
       "'## Methods {#sec:methods}'"
      ]
     },
     "execution_count": 203,
     "metadata": {},
     "output_type": "execute_result"
    }
   ],
   "source": [
    "orig_section_paragraphs[0]"
   ]
  },
  {
   "cell_type": "code",
   "execution_count": 204,
   "id": "2638f377-a44a-4d05-8fca-bfa9383ca736",
   "metadata": {
    "execution": {
     "iopub.execute_input": "2024-03-23T05:13:11.219875Z",
     "iopub.status.busy": "2024-03-23T05:13:11.219548Z",
     "iopub.status.idle": "2024-03-23T05:13:11.222865Z",
     "shell.execute_reply": "2024-03-23T05:13:11.222377Z"
    },
    "papermill": {
     "duration": 0.04677,
     "end_time": "2024-03-23T05:13:11.223624",
     "exception": false,
     "start_time": "2024-03-23T05:13:11.176854",
     "status": "completed"
    },
    "tags": []
   },
   "outputs": [
    {
     "data": {
      "text/plain": [
       "'## Methods {#sec:methods}'"
      ]
     },
     "execution_count": 204,
     "metadata": {},
     "output_type": "execute_result"
    }
   ],
   "source": [
    "mod_section_paragraphs[0]"
   ]
  },
  {
   "cell_type": "markdown",
   "id": "639829e1-1463-41b5-b91d-b2bdd319e04e",
   "metadata": {
    "editable": true,
    "papermill": {
     "duration": 0.042366,
     "end_time": "2024-03-23T05:13:11.308138",
     "exception": false,
     "start_time": "2024-03-23T05:13:11.265772",
     "status": "completed"
    },
    "slideshow": {
     "slide_type": ""
    },
    "tags": []
   },
   "source": [
    "####  Paragraph 00"
   ]
  },
  {
   "cell_type": "code",
   "execution_count": 205,
   "id": "bde47e33-80ca-4c52-a420-868e3721fdf3",
   "metadata": {
    "execution": {
     "iopub.execute_input": "2024-03-23T05:13:11.394150Z",
     "iopub.status.busy": "2024-03-23T05:13:11.393817Z",
     "iopub.status.idle": "2024-03-23T05:13:11.396637Z",
     "shell.execute_reply": "2024-03-23T05:13:11.396207Z"
    },
    "papermill": {
     "duration": 0.046439,
     "end_time": "2024-03-23T05:13:11.397345",
     "exception": false,
     "start_time": "2024-03-23T05:13:11.350906",
     "status": "completed"
    },
    "tags": []
   },
   "outputs": [
    {
     "name": "stdout",
     "output_type": "stream",
     "text": [
      "PhenoPLIER is a framework that combines different computational approaches to integrate gene-trait associations and drug-induced transcriptional responses with groups of functionally-related genes (referred to as gene modules or latent variables/LVs). Gene-trait associations are computed using the PrediXcan family of methods, whereas latent variables are inferred by the MultiPLIER models applied on large gene expression compendia. PhenoPLIER provides 1) a regression model to compute an LV-trait association, 2) a consensus clustering approach applied to the latent space to learn shared and distinct transcriptomic properties between traits, and 3) an interpretable, LV-based drug repurposing framework. We provide the details of these methods below.\n"
     ]
    }
   ],
   "source": [
    "par0 = process_paragraph(orig_section_paragraphs[1])\n",
    "print(par0)"
   ]
  },
  {
   "cell_type": "code",
   "execution_count": 206,
   "id": "a613037a-a64e-43cf-abda-cf0a4a736502",
   "metadata": {
    "execution": {
     "iopub.execute_input": "2024-03-23T05:13:11.483439Z",
     "iopub.status.busy": "2024-03-23T05:13:11.483029Z",
     "iopub.status.idle": "2024-03-23T05:13:11.485995Z",
     "shell.execute_reply": "2024-03-23T05:13:11.485544Z"
    },
    "papermill": {
     "duration": 0.046872,
     "end_time": "2024-03-23T05:13:11.486724",
     "exception": false,
     "start_time": "2024-03-23T05:13:11.439852",
     "status": "completed"
    },
    "tags": []
   },
   "outputs": [
    {
     "name": "stdout",
     "output_type": "stream",
     "text": [
      "PhenoPLIER is a framework that combines different computational approaches to integrate gene-trait associations and drug-induced transcriptional responses with groups of functionally-related genes (referred to as gene modules or latent variables/LVs). Gene-trait associations are computed using the PrediXcan family of methods, whereas latent variables are inferred by the MultiPLIER models applied on large gene expression compendia. PhenoPLIER provides: 1) A regression model to compute an LV-trait association. 2) A consensus clustering approach applied to the latent space to learn shared and distinct transcriptomic properties between traits. 3) An interpretable, LV-based drug repurposing framework. The details of these methods are provided below.\n"
     ]
    }
   ],
   "source": [
    "par1 = process_paragraph(mod_section_paragraphs[1:4])\n",
    "print(par1)"
   ]
  },
  {
   "cell_type": "code",
   "execution_count": 207,
   "id": "fd5ca3b4-323c-4abf-8cb9-9a9773f4aed1",
   "metadata": {
    "execution": {
     "iopub.execute_input": "2024-03-23T05:13:11.579271Z",
     "iopub.status.busy": "2024-03-23T05:13:11.578945Z",
     "iopub.status.idle": "2024-03-23T05:13:11.581497Z",
     "shell.execute_reply": "2024-03-23T05:13:11.581075Z"
    },
    "papermill": {
     "duration": 0.052924,
     "end_time": "2024-03-23T05:13:11.582251",
     "exception": false,
     "start_time": "2024-03-23T05:13:11.529327",
     "status": "completed"
    },
    "tags": []
   },
   "outputs": [],
   "source": [
    "paragraph_matches.append(\n",
    "    (\n",
    "        section_name,\n",
    "        par0,\n",
    "        par1,\n",
    "    )\n",
    ")"
   ]
  },
  {
   "cell_type": "code",
   "execution_count": 208,
   "id": "1fb17a25-e891-4ae1-a04f-a58e8eb33558",
   "metadata": {
    "execution": {
     "iopub.execute_input": "2024-03-23T05:13:11.667346Z",
     "iopub.status.busy": "2024-03-23T05:13:11.666938Z",
     "iopub.status.idle": "2024-03-23T05:13:11.670466Z",
     "shell.execute_reply": "2024-03-23T05:13:11.669947Z"
    },
    "papermill": {
     "duration": 0.047026,
     "end_time": "2024-03-23T05:13:11.671300",
     "exception": false,
     "start_time": "2024-03-23T05:13:11.624274",
     "status": "completed"
    },
    "tags": []
   },
   "outputs": [
    {
     "data": {
      "text/plain": [
       "('methods',\n",
       " 'PhenoPLIER is a framework that combines different computational approaches to integrate gene-trait associations and drug-induced transcriptional responses with groups of functionally-related genes (referred to as gene modules or latent variables/LVs). Gene-trait associations are computed using the PrediXcan family of methods, whereas latent variables are inferred by the MultiPLIER models applied on large gene expression compendia. PhenoPLIER provides 1) a regression model to compute an LV-trait association, 2) a consensus clustering approach applied to the latent space to learn shared and distinct transcriptomic properties between traits, and 3) an interpretable, LV-based drug repurposing framework. We provide the details of these methods below.',\n",
       " 'PhenoPLIER is a framework that combines different computational approaches to integrate gene-trait associations and drug-induced transcriptional responses with groups of functionally-related genes (referred to as gene modules or latent variables/LVs). Gene-trait associations are computed using the PrediXcan family of methods, whereas latent variables are inferred by the MultiPLIER models applied on large gene expression compendia. PhenoPLIER provides: 1) A regression model to compute an LV-trait association. 2) A consensus clustering approach applied to the latent space to learn shared and distinct transcriptomic properties between traits. 3) An interpretable, LV-based drug repurposing framework. The details of these methods are provided below.')"
      ]
     },
     "metadata": {},
     "output_type": "display_data"
    }
   ],
   "source": [
    "display(paragraph_matches[-1])"
   ]
  },
  {
   "cell_type": "markdown",
   "id": "e53a832e-2c58-4ce1-a200-858fdad1cc31",
   "metadata": {
    "editable": true,
    "papermill": {
     "duration": 0.042147,
     "end_time": "2024-03-23T05:13:11.755571",
     "exception": false,
     "start_time": "2024-03-23T05:13:11.713424",
     "status": "completed"
    },
    "slideshow": {
     "slide_type": ""
    },
    "tags": []
   },
   "source": [
    "####  Paragraph 01"
   ]
  },
  {
   "cell_type": "code",
   "execution_count": 209,
   "id": "de328467-032b-4a8d-82ca-8be273596712",
   "metadata": {
    "execution": {
     "iopub.execute_input": "2024-03-23T05:13:11.840066Z",
     "iopub.status.busy": "2024-03-23T05:13:11.839962Z",
     "iopub.status.idle": "2024-03-23T05:13:11.842256Z",
     "shell.execute_reply": "2024-03-23T05:13:11.841666Z"
    },
    "papermill": {
     "duration": 0.045166,
     "end_time": "2024-03-23T05:13:11.843073",
     "exception": false,
     "start_time": "2024-03-23T05:13:11.797907",
     "status": "completed"
    },
    "tags": []
   },
   "outputs": [
    {
     "name": "stdout",
     "output_type": "stream",
     "text": [
      "Here we briefly provide the details about these TWAS methods that are necessary to explain our regression framework later (see the referenced articles for more information). In the following, we refer to $\\mathbf{y}$ as a vector of traits for $n$ individuals that is centered for convenience (so that no intercept is necessary); $\\tilde{\\mathbf{t}}_l = \\sum_{a \\in \\mathrm{model}_l} w_{a}^{l} X_{a}$ is the gene's predicted expression for all individuals in tissue $l$, $X_a$ is the genotype of SNP $a$ and $w_{a}$ its weight in the tissue prediction model $l$; and $\\mathbf{t}_l$ is the standardized version of $\\tilde{\\mathbf{t}}_l$ with mean equal to zero and standard deviation equal to one.\n"
     ]
    }
   ],
   "source": [
    "par0 = process_paragraph(orig_section_paragraphs[4])\n",
    "print(par0)"
   ]
  },
  {
   "cell_type": "code",
   "execution_count": 210,
   "id": "40976da6-5724-4c9d-b2ef-c59f1902830f",
   "metadata": {
    "execution": {
     "iopub.execute_input": "2024-03-23T05:13:11.955736Z",
     "iopub.status.busy": "2024-03-23T05:13:11.955633Z",
     "iopub.status.idle": "2024-03-23T05:13:11.958563Z",
     "shell.execute_reply": "2024-03-23T05:13:11.958006Z"
    },
    "papermill": {
     "duration": 0.073877,
     "end_time": "2024-03-23T05:13:11.959264",
     "exception": false,
     "start_time": "2024-03-23T05:13:11.885387",
     "status": "completed"
    },
    "tags": []
   },
   "outputs": [
    {
     "name": "stdout",
     "output_type": "stream",
     "text": [
      "Here we briefly provide the details about the Transcriptome-Wide Association Study (TWAS) methods that are necessary to explain our regression framework later (see the referenced articles for more information). In the following, we refer to $\\mathbf{y}$ as a vector of traits for $n$ individuals that is centered for convenience (so that no intercept is necessary); \n",
      "$$\n",
      "\\tilde{\\mathbf{t}}_l = \\sum_{a \\in \\mathrm{model}_l} w_{a}^{l} X_{a} \n",
      "$$ {#eq:1}\n",
      "is the gene's predicted expression for all individuals in tissue $l$, where $X_a$ is the genotype of SNP $a$ and $w_{a}$ is its weight in the tissue prediction model $l$; and $\\mathbf{t}_l$ is the standardized version of $\\tilde{\\mathbf{t}}_l$ with mean equal to zero and standard deviation equal to one.\n"
     ]
    }
   ],
   "source": [
    "par1 = (\n",
    "    process_paragraph(mod_section_paragraphs[8:11])\n",
    "    .replace(\"$$\", \"\\n$$\")\n",
    "    .replace(\"$$ \\\\tilde\", \"$$\\n\\\\tilde\")\n",
    "    .replace(\"$$ {#eq:1} is\", \"$$ {#eq:1}\\nis\")\n",
    "    # .replace(\"$$ For example\", \"$$\\nFor example\")\n",
    ")\n",
    "print(par1)"
   ]
  },
  {
   "cell_type": "code",
   "execution_count": 211,
   "id": "21dd96c5-a977-4553-be0a-c2feea567a90",
   "metadata": {
    "execution": {
     "iopub.execute_input": "2024-03-23T05:13:12.043881Z",
     "iopub.status.busy": "2024-03-23T05:13:12.043730Z",
     "iopub.status.idle": "2024-03-23T05:13:12.046353Z",
     "shell.execute_reply": "2024-03-23T05:13:12.045781Z"
    },
    "papermill": {
     "duration": 0.0457,
     "end_time": "2024-03-23T05:13:12.047144",
     "exception": false,
     "start_time": "2024-03-23T05:13:12.001444",
     "status": "completed"
    },
    "tags": []
   },
   "outputs": [],
   "source": [
    "paragraph_matches.append(\n",
    "    (\n",
    "        section_name,\n",
    "        par0,\n",
    "        par1,\n",
    "    )\n",
    ")"
   ]
  },
  {
   "cell_type": "code",
   "execution_count": 212,
   "id": "6d67880d-92ac-452a-9416-204f5366eb6e",
   "metadata": {
    "execution": {
     "iopub.execute_input": "2024-03-23T05:13:12.132677Z",
     "iopub.status.busy": "2024-03-23T05:13:12.132471Z",
     "iopub.status.idle": "2024-03-23T05:13:12.136253Z",
     "shell.execute_reply": "2024-03-23T05:13:12.135695Z"
    },
    "papermill": {
     "duration": 0.047442,
     "end_time": "2024-03-23T05:13:12.137000",
     "exception": false,
     "start_time": "2024-03-23T05:13:12.089558",
     "status": "completed"
    },
    "tags": []
   },
   "outputs": [
    {
     "data": {
      "text/plain": [
       "('methods',\n",
       " \"Here we briefly provide the details about these TWAS methods that are necessary to explain our regression framework later (see the referenced articles for more information). In the following, we refer to $\\\\mathbf{y}$ as a vector of traits for $n$ individuals that is centered for convenience (so that no intercept is necessary); $\\\\tilde{\\\\mathbf{t}}_l = \\\\sum_{a \\\\in \\\\mathrm{model}_l} w_{a}^{l} X_{a}$ is the gene's predicted expression for all individuals in tissue $l$, $X_a$ is the genotype of SNP $a$ and $w_{a}$ its weight in the tissue prediction model $l$; and $\\\\mathbf{t}_l$ is the standardized version of $\\\\tilde{\\\\mathbf{t}}_l$ with mean equal to zero and standard deviation equal to one.\",\n",
       " \"Here we briefly provide the details about the Transcriptome-Wide Association Study (TWAS) methods that are necessary to explain our regression framework later (see the referenced articles for more information). In the following, we refer to $\\\\mathbf{y}$ as a vector of traits for $n$ individuals that is centered for convenience (so that no intercept is necessary); \\n$$\\n\\\\tilde{\\\\mathbf{t}}_l = \\\\sum_{a \\\\in \\\\mathrm{model}_l} w_{a}^{l} X_{a} \\n$$ {#eq:1}\\nis the gene's predicted expression for all individuals in tissue $l$, where $X_a$ is the genotype of SNP $a$ and $w_{a}$ is its weight in the tissue prediction model $l$; and $\\\\mathbf{t}_l$ is the standardized version of $\\\\tilde{\\\\mathbf{t}}_l$ with mean equal to zero and standard deviation equal to one.\")"
      ]
     },
     "metadata": {},
     "output_type": "display_data"
    }
   ],
   "source": [
    "display(paragraph_matches[-1])"
   ]
  },
  {
   "cell_type": "markdown",
   "id": "ceb8066a-2e39-42eb-a7c6-242cee7992c6",
   "metadata": {
    "editable": true,
    "papermill": {
     "duration": 0.041996,
     "end_time": "2024-03-23T05:13:12.221612",
     "exception": false,
     "start_time": "2024-03-23T05:13:12.179616",
     "status": "completed"
    },
    "slideshow": {
     "slide_type": ""
    },
    "tags": []
   },
   "source": [
    "####  Paragraph 02"
   ]
  },
  {
   "cell_type": "code",
   "execution_count": 213,
   "id": "8ee14b5c-364e-46fa-aa52-f86d0731ec76",
   "metadata": {
    "execution": {
     "iopub.execute_input": "2024-03-23T05:13:12.306093Z",
     "iopub.status.busy": "2024-03-23T05:13:12.305901Z",
     "iopub.status.idle": "2024-03-23T05:13:12.309601Z",
     "shell.execute_reply": "2024-03-23T05:13:12.309009Z"
    },
    "papermill": {
     "duration": 0.04692,
     "end_time": "2024-03-23T05:13:12.310456",
     "exception": false,
     "start_time": "2024-03-23T05:13:12.263536",
     "status": "completed"
    },
    "tags": []
   },
   "outputs": [
    {
     "name": "stdout",
     "output_type": "stream",
     "text": [
      "S-PrediXcan [@doi:10.1038/s41467-018-03621-1] is the summary version of PrediXcan [@doi:10.1038/ng.3367]. PrediXcan models the trait as a linear function of the gene's expression on a single tissue using the univariate model \n",
      "$$\n",
      "\\mathbf{y} = \\mathbf{t}_l \\gamma_l + \\bm{\\epsilon}_l, \n",
      "$$ {#eq:predixcan}\n",
      "where $\\hat{\\gamma}_l$ is the estimated effect size or regression coefficient, and $\\bm{\\epsilon}_l$ are the error terms with variance $\\sigma_{\\epsilon}^{2}$. The significance of the association is assessed by computing the $z$-score $\\hat{z}_{l}=\\hat{\\gamma}_l / \\mathrm{se}(\\hat{\\gamma}_l)$ for a gene's tissue model $l$. PrediXcan needs individual-level data to fit this model, whereas S-PrediXcan approximates PrediXcan $z$-scores using only GWAS summary statistics with the expression \n",
      "$$\n",
      "\\hat{z}_{l} \\approx \\sum_{a \\in model_{l}} w_a^l \\frac{\\hat{\\sigma}_a}{\\hat{\\sigma}_l} \\frac{\\hat{\\beta}_a}{\\mathrm{se}(\\hat{\\beta}_a)}, \n",
      "$$ {#eq:spredixcan}\n",
      "where $\\hat{\\sigma}_a$ is the variance of SNP $a$, $\\hat{\\sigma}_l$ is the variance of the predicted expression of a gene in tissue $l$, and $\\hat{\\beta}_a$ is the estimated effect size of SNP $a$ from the GWAS. In these TWAS methods, the genotype variances and covariances are always estimated using the Genotype-Tissue Expression project (GTEx v8) [@doi:10.1126/science.aaz1776] as the reference panel. Since S-PrediXcan provides tissue-specific direction of effects (for instance, whether a higher or lower predicted expression of a gene confers more or less disease risk), we used the $z$-scores in our drug repurposing approach (described below).\n"
     ]
    }
   ],
   "source": [
    "par0 = (\n",
    "    process_paragraph(orig_section_paragraphs[5:10])\n",
    "    .replace(\"$$\", \"\\n$$\")\n",
    "    .replace(\"$$ \\\\\", \"$$\\n\\\\\")\n",
    "    .replace(\":predixcan} where\", \":predixcan}\\nwhere\")\n",
    "    .replace(\":spredixcan} where\", \":spredixcan}\\nwhere\")\n",
    ")\n",
    "print(par0)"
   ]
  },
  {
   "cell_type": "code",
   "execution_count": 214,
   "id": "2a21166e-2d8c-49c0-9fb6-7c365cd817a6",
   "metadata": {
    "execution": {
     "iopub.execute_input": "2024-03-23T05:13:12.395607Z",
     "iopub.status.busy": "2024-03-23T05:13:12.395456Z",
     "iopub.status.idle": "2024-03-23T05:13:12.398019Z",
     "shell.execute_reply": "2024-03-23T05:13:12.397711Z"
    },
    "papermill": {
     "duration": 0.046022,
     "end_time": "2024-03-23T05:13:12.398713",
     "exception": false,
     "start_time": "2024-03-23T05:13:12.352691",
     "status": "completed"
    },
    "tags": []
   },
   "outputs": [
    {
     "name": "stdout",
     "output_type": "stream",
     "text": [
      "S-PrediXcan [@doi:10.1038/s41467-018-03621-1] is the condensed version of PrediXcan [@doi:10.1038/ng.3367]. PrediXcan represents the trait as a linear function of gene expression in a single tissue using the univariate model \n",
      "$$\n",
      "\\mathbf{y} = \\mathbf{t}_l \\gamma_l + \\bm{\\epsilon}_l, \n",
      "$$ {#eq:predixcan}\n",
      "where $\\hat{\\gamma}_l$ is the estimated effect size or regression coefficient, and $\\bm{\\epsilon}_l$ represents the error terms with variance $\\sigma_{\\epsilon}^{2}$. The significance of the association is determined by calculating the $z$-score $\\hat{z}_{l}=\\hat{\\gamma}_l / \\mathrm{se}(\\hat{\\gamma}_l)$ for a gene's tissue model $l$. PrediXcan requires individual-level data to fit this model, while S-PrediXcan approximates PrediXcan $z$-scores using only GWAS summary statistics with the expression \n",
      "$$\n",
      "\\hat{z}_{l} \\approx \\sum_{a \\in model_{l}} w_a^l \\frac{\\hat{\\sigma}_a}{\\hat{\\sigma}_l} \\frac{\\hat{\\beta}_a}{\\mathrm{se}(\\hat{\\beta}_a)}, \n",
      "$$ {#eq:spredixcan}\n",
      "where $\\hat{\\sigma}_a$ is the variance of SNP $a$, $\\hat{\\sigma}_l$ is the variance of the predicted expression of a gene in tissue $l$, and $\\hat{\\beta}_a$ is the estimated effect size of SNP $a$ from the GWAS. In these Transcriptome-Wide Association Study (TWAS) methods, the genotype variances and covariances are estimated using the Genotype-Tissue Expression project (GTEx v8) [@doi:10.1126/science.aaz1776] as the reference panel. As S-PrediXcan offers tissue-specific direction of effects (e.g., whether higher or lower predicted expression of a gene confers more or less disease risk), we utilized the $z$-scores in our drug repurposing approach (described below).\n"
     ]
    }
   ],
   "source": [
    "par1 = (\n",
    "    process_paragraph(mod_section_paragraphs[11:16])\n",
    "    .replace(\"$$\", \"\\n$$\")\n",
    "    .replace(\"$$ \\\\\", \"$$\\n\\\\\")\n",
    "    .replace(\":predixcan} where\", \":predixcan}\\nwhere\")\n",
    "    .replace(\":spredixcan} where\", \":spredixcan}\\nwhere\")\n",
    ")\n",
    "print(par1)"
   ]
  },
  {
   "cell_type": "code",
   "execution_count": 215,
   "id": "eb536983-db56-4eda-9e03-755b8c86aa3c",
   "metadata": {
    "execution": {
     "iopub.execute_input": "2024-03-23T05:13:12.492271Z",
     "iopub.status.busy": "2024-03-23T05:13:12.492162Z",
     "iopub.status.idle": "2024-03-23T05:13:12.494029Z",
     "shell.execute_reply": "2024-03-23T05:13:12.493702Z"
    },
    "papermill": {
     "duration": 0.053515,
     "end_time": "2024-03-23T05:13:12.494749",
     "exception": false,
     "start_time": "2024-03-23T05:13:12.441234",
     "status": "completed"
    },
    "tags": []
   },
   "outputs": [],
   "source": [
    "paragraph_matches.append(\n",
    "    (\n",
    "        section_name,\n",
    "        par0,\n",
    "        par1,\n",
    "    )\n",
    ")"
   ]
  },
  {
   "cell_type": "code",
   "execution_count": 216,
   "id": "1b095512-5dc7-474d-8334-dcb615d6ec1d",
   "metadata": {
    "execution": {
     "iopub.execute_input": "2024-03-23T05:13:12.581115Z",
     "iopub.status.busy": "2024-03-23T05:13:12.580997Z",
     "iopub.status.idle": "2024-03-23T05:13:12.583466Z",
     "shell.execute_reply": "2024-03-23T05:13:12.583173Z"
    },
    "papermill": {
     "duration": 0.046074,
     "end_time": "2024-03-23T05:13:12.584134",
     "exception": false,
     "start_time": "2024-03-23T05:13:12.538060",
     "status": "completed"
    },
    "tags": []
   },
   "outputs": [
    {
     "data": {
      "text/plain": [
       "('methods',\n",
       " \"S-PrediXcan [@doi:10.1038/s41467-018-03621-1] is the summary version of PrediXcan [@doi:10.1038/ng.3367]. PrediXcan models the trait as a linear function of the gene's expression on a single tissue using the univariate model \\n$$\\n\\\\mathbf{y} = \\\\mathbf{t}_l \\\\gamma_l + \\\\bm{\\\\epsilon}_l, \\n$$ {#eq:predixcan}\\nwhere $\\\\hat{\\\\gamma}_l$ is the estimated effect size or regression coefficient, and $\\\\bm{\\\\epsilon}_l$ are the error terms with variance $\\\\sigma_{\\\\epsilon}^{2}$. The significance of the association is assessed by computing the $z$-score $\\\\hat{z}_{l}=\\\\hat{\\\\gamma}_l / \\\\mathrm{se}(\\\\hat{\\\\gamma}_l)$ for a gene's tissue model $l$. PrediXcan needs individual-level data to fit this model, whereas S-PrediXcan approximates PrediXcan $z$-scores using only GWAS summary statistics with the expression \\n$$\\n\\\\hat{z}_{l} \\\\approx \\\\sum_{a \\\\in model_{l}} w_a^l \\\\frac{\\\\hat{\\\\sigma}_a}{\\\\hat{\\\\sigma}_l} \\\\frac{\\\\hat{\\\\beta}_a}{\\\\mathrm{se}(\\\\hat{\\\\beta}_a)}, \\n$$ {#eq:spredixcan}\\nwhere $\\\\hat{\\\\sigma}_a$ is the variance of SNP $a$, $\\\\hat{\\\\sigma}_l$ is the variance of the predicted expression of a gene in tissue $l$, and $\\\\hat{\\\\beta}_a$ is the estimated effect size of SNP $a$ from the GWAS. In these TWAS methods, the genotype variances and covariances are always estimated using the Genotype-Tissue Expression project (GTEx v8) [@doi:10.1126/science.aaz1776] as the reference panel. Since S-PrediXcan provides tissue-specific direction of effects (for instance, whether a higher or lower predicted expression of a gene confers more or less disease risk), we used the $z$-scores in our drug repurposing approach (described below).\",\n",
       " \"S-PrediXcan [@doi:10.1038/s41467-018-03621-1] is the condensed version of PrediXcan [@doi:10.1038/ng.3367]. PrediXcan represents the trait as a linear function of gene expression in a single tissue using the univariate model \\n$$\\n\\\\mathbf{y} = \\\\mathbf{t}_l \\\\gamma_l + \\\\bm{\\\\epsilon}_l, \\n$$ {#eq:predixcan}\\nwhere $\\\\hat{\\\\gamma}_l$ is the estimated effect size or regression coefficient, and $\\\\bm{\\\\epsilon}_l$ represents the error terms with variance $\\\\sigma_{\\\\epsilon}^{2}$. The significance of the association is determined by calculating the $z$-score $\\\\hat{z}_{l}=\\\\hat{\\\\gamma}_l / \\\\mathrm{se}(\\\\hat{\\\\gamma}_l)$ for a gene's tissue model $l$. PrediXcan requires individual-level data to fit this model, while S-PrediXcan approximates PrediXcan $z$-scores using only GWAS summary statistics with the expression \\n$$\\n\\\\hat{z}_{l} \\\\approx \\\\sum_{a \\\\in model_{l}} w_a^l \\\\frac{\\\\hat{\\\\sigma}_a}{\\\\hat{\\\\sigma}_l} \\\\frac{\\\\hat{\\\\beta}_a}{\\\\mathrm{se}(\\\\hat{\\\\beta}_a)}, \\n$$ {#eq:spredixcan}\\nwhere $\\\\hat{\\\\sigma}_a$ is the variance of SNP $a$, $\\\\hat{\\\\sigma}_l$ is the variance of the predicted expression of a gene in tissue $l$, and $\\\\hat{\\\\beta}_a$ is the estimated effect size of SNP $a$ from the GWAS. In these Transcriptome-Wide Association Study (TWAS) methods, the genotype variances and covariances are estimated using the Genotype-Tissue Expression project (GTEx v8) [@doi:10.1126/science.aaz1776] as the reference panel. As S-PrediXcan offers tissue-specific direction of effects (e.g., whether higher or lower predicted expression of a gene confers more or less disease risk), we utilized the $z$-scores in our drug repurposing approach (described below).\")"
      ]
     },
     "metadata": {},
     "output_type": "display_data"
    }
   ],
   "source": [
    "display(paragraph_matches[-1])"
   ]
  },
  {
   "cell_type": "markdown",
   "id": "cf8d2950-3c42-46b0-ad7e-b5e7d86c34ff",
   "metadata": {
    "editable": true,
    "papermill": {
     "duration": 0.042269,
     "end_time": "2024-03-23T05:13:12.668907",
     "exception": false,
     "start_time": "2024-03-23T05:13:12.626638",
     "status": "completed"
    },
    "slideshow": {
     "slide_type": ""
    },
    "tags": []
   },
   "source": [
    "####  Paragraph 03"
   ]
  },
  {
   "cell_type": "code",
   "execution_count": 217,
   "id": "ebdf493e-bd60-4da7-9a24-373a6cc3fb09",
   "metadata": {
    "execution": {
     "iopub.execute_input": "2024-03-23T05:13:12.753879Z",
     "iopub.status.busy": "2024-03-23T05:13:12.753737Z",
     "iopub.status.idle": "2024-03-23T05:13:12.756584Z",
     "shell.execute_reply": "2024-03-23T05:13:12.756021Z"
    },
    "papermill": {
     "duration": 0.046329,
     "end_time": "2024-03-23T05:13:12.757303",
     "exception": false,
     "start_time": "2024-03-23T05:13:12.710974",
     "status": "completed"
    },
    "tags": []
   },
   "outputs": [
    {
     "name": "stdout",
     "output_type": "stream",
     "text": [
      "S-MultiXcan [@doi:10.1371/journal.pgen.1007889], on the other hand, is the summary version of MultiXcan. MultiXcan is more powerful than PrediXcan in detecting gene-trait associations, although it does not provide the direction of effects. Its main output is the $p$-value (obtained with an F-test) of the multiple tissue model \n",
      "$$\n",
      "\\begin{split} \\mathbf{y} & = \\sum_{l=1}^{p} \\mathbf{t}_l g_l + \\mathbf{e} \\\\ & = \\mathbf{T} \\mathbf{g} + \\mathbf{e}, \\end{split} \n",
      "$$ {#eq:multixcan}\n",
      "where $\\mathbf{T}$ is a matrix with $p$ columns $\\mathbf{t}_l$, $\\hat{g}_l$ is the estimated effect size for the predicted gene expression in tissue $l$ (and thus $\\hat{\\mathbf{g}}$ is a vector with $p$ estimated effect sizes $\\hat{g}_l$), and $\\mathbf{e}$ are the error terms with variance $\\sigma_{e}^{2}$. Given the high correlation between predicted expression values for a gene across different tissues, MultiXcan uses the principal components (PCs) of $\\mathbf{T}$ to avoid collinearity issues. S-MultiXcan derives the joint regression estimates (effect sizes and their variances) in Equation (@eq:multixcan) using the marginal estimates from S-PrediXcan in Equation (@eq:spredixcan). Under the null hypothesis of no association, $\\hat{\\mathbf{g}}^{\\top} \\frac{\\mathbf{T}^{\\top}\\mathbf{T}}{\\sigma_{e}^{2}} \\hat{\\mathbf{g}} \\sim \\chi_{p}^{2}$, and therefore the significance of the association in S-MultiXcan is estimated with \n",
      "$$\n",
      "\\begin{split} \\frac{\\hat{\\mathbf{g}}^{\\top} (\\mathbf{T}^{\\top}\\mathbf{T}) \\hat{\\mathbf{g}}}{\\sigma_{e}^{2}} & \\approx \\bm{\\hat{\\gamma}}^{\\top} \\frac{\\sqrt{n-1}}{\\sigma_{\\epsilon}} \\left(\\frac{\\mathbf{T}^{\\top} \\mathbf{T}}{n-1}\\right)^{-1} \\frac{\\sqrt{n-1}}{\\sigma_{\\epsilon}} \\bm{\\hat{\\gamma}} \\\\ & = \\hat{\\mathbf{z}}^{\\top} Cor(\\mathbf{T})^{-1} \\hat{\\mathbf{z}}, \\end{split} \n",
      "$$ {#eq:smultixcan}\n",
      "where $\\hat{\\mathbf{z}}$ is a vector with $p$ $z$-scores (Equation (@eq:spredixcan)) for each tissue available for the gene, and $Cor(\\mathbf{T})$ is the autocorrelation matrix of $\\mathbf{T}$. Since $\\mathbf{T}^{\\top}\\mathbf{T}$ is singular for many genes, S-MultiXcan computes the pseudo-inverse $Cor(\\mathbf{T})^{+}$ using the $k$ top PCs, and thus $\\hat{\\mathbf{z}}^{\\top} Cor(\\mathbf{T})^{+} \\hat{\\mathbf{z}} \\sim \\chi_k^2$. To arrive at this expression, S-MultiXcan uses the conservative approximation $\\sigma_{e}^{2} \\approx \\sigma_{\\epsilon}^{2}$, that is, the variance of the error terms in the joint regression is approximately equal to the residual variance of the marginal regressions. Another important point is that $Cor(\\mathbf{T})$ is estimated using a global genotype covariance matrix, whereas marginal $\\hat{z}_l$ in Equation (@eq:spredixcan) are approximated using tissue-specific genotype covariances. Although S-MultiXcan yields highly concordant estimates compared with MultiXcan, results are not perfectly correlated across genes [@doi:10.1371/journal.pgen.1007889]. As we explain later, these differences are important for our LV-based regression model when computing the gene-gene correlation matrix. We used S-MultiXcan results for our LV-based regression model and our cluster analyses of traits.\n"
     ]
    }
   ],
   "source": [
    "par0 = (\n",
    "    process_paragraph(orig_section_paragraphs[10:15])\n",
    "    .replace(\"$$\", \"\\n$$\")\n",
    "    .replace(\"$$ \\\\\", \"$$\\n\\\\\")\n",
    "    .replace(\":multixcan} where\", \":multixcan}\\nwhere\")\n",
    "    .replace(\":smultixcan} where\", \":smultixcan}\\nwhere\")\n",
    ")\n",
    "print(par0)"
   ]
  },
  {
   "cell_type": "code",
   "execution_count": 218,
   "id": "b5df6d42-8ee1-4cfa-902a-a9e60d054c2c",
   "metadata": {
    "execution": {
     "iopub.execute_input": "2024-03-23T05:13:12.873969Z",
     "iopub.status.busy": "2024-03-23T05:13:12.873521Z",
     "iopub.status.idle": "2024-03-23T05:13:12.877114Z",
     "shell.execute_reply": "2024-03-23T05:13:12.876660Z"
    },
    "papermill": {
     "duration": 0.078253,
     "end_time": "2024-03-23T05:13:12.877892",
     "exception": false,
     "start_time": "2024-03-23T05:13:12.799639",
     "status": "completed"
    },
    "tags": []
   },
   "outputs": [
    {
     "name": "stdout",
     "output_type": "stream",
     "text": [
      "S-MultiXcan [@doi:10.1371/journal.pgen.1007889] is a summary version of MultiXcan, which is more powerful than PrediXcan in detecting gene-trait associations but does not provide the direction of effects. The main output of MultiXcan is the p-value obtained with an F-test in the multiple tissue model: \n",
      "$$\n",
      "\\begin{split} \\mathbf{y} & = \\sum_{l=1}^{p} \\mathbf{t}_l g_l + \\mathbf{e} \\\\ & = \\mathbf{T} \\mathbf{g} + \\mathbf{e}, \\end{split} \n",
      "$$ {#eq:multixcan}\n",
      "where $\\mathbf{T}$ is a matrix with $p$ columns $\\mathbf{t}_l$, $\\hat{g}_l$ is the estimated effect size for the predicted gene expression in tissue $l$, and $\\mathbf{e}$ represents the error terms with variance $\\sigma_{e}^{2}$. Due to the high correlation between predicted expression values for a gene across different tissues, MultiXcan uses principal components (PCs) of $\\mathbf{T}$ to address collinearity issues. S-MultiXcan derives joint regression estimates (effect sizes and their variances) using marginal estimates from S-PrediXcan: \n",
      "$$\n",
      "\\begin{split} \\frac{\\hat{\\mathbf{g}}^{\\top} (\\mathbf{T}^{\\top}\\mathbf{T}) \\hat{\\mathbf{g}}}{\\sigma_{e}^{2}} & \\approx \\bm{\\hat{\\gamma}}^{\\top} \\frac{\\sqrt{n-1}}{\\sigma_{\\epsilon}} \\left(\\frac{\\mathbf{T}^{\\top} \\mathbf{T}}{n-1}\\right)^{-1} \\frac{\\sqrt{n-1}}{\\sigma_{\\epsilon}} \\bm{\\hat{\\gamma}} \\\\ & = \\hat{\\mathbf{z}}^{\\top} Cor(\\mathbf{T})^{-1} \\hat{\\mathbf{z}, \\end{split} \n",
      "$$ {#eq:smultixcan}\n",
      "where $\\hat{\\mathbf{z}}$ is a vector with $p$ z-scores for each tissue available for the gene, and $Cor(\\mathbf{T})$ is the autocorrelation matrix of $\\mathbf{T}$. S-MultiXcan computes the pseudo-inverse $Cor(\\mathbf{T})^{+}$ using the top $k$ PCs since $\\mathbf{T}^{\\top}\\mathbf{T}$ is singular for many genes. The approximation $\\sigma_{e}^{2} \\approx \\sigma_{\\epsilon}^{2}$ is used, assuming equal variances of error terms in joint and marginal regressions. The estimation of $Cor(\\mathbf{T})$ uses a global genotype covariance matrix, while marginal $\\hat{z}_l$ are approximated with tissue-specific genotype covariances. Although S-MultiXcan results are highly concordant with MultiXcan, they are not perfectly correlated across genes [@doi:10.1371/journal.pgen.1007889]. These differences are crucial for our LV-based regression model and gene-gene correlation matrix computation in cluster analyses of traits, where we utilized S-MultiXcan results.\n"
     ]
    }
   ],
   "source": [
    "par1 = (\n",
    "    process_paragraph(mod_section_paragraphs[16:21])\n",
    "    .replace(\"$$\", \"\\n$$\")\n",
    "    .replace(\"$$ \\\\\", \"$$\\n\\\\\")\n",
    "    .replace(\":multixcan} where\", \":multixcan}\\nwhere\")\n",
    "    .replace(\":smultixcan} where\", \":smultixcan}\\nwhere\")\n",
    ")\n",
    "print(par1)"
   ]
  },
  {
   "cell_type": "code",
   "execution_count": 219,
   "id": "3fd666cc-00ca-448b-9dca-0ca38f6c404d",
   "metadata": {
    "execution": {
     "iopub.execute_input": "2024-03-23T05:13:12.964671Z",
     "iopub.status.busy": "2024-03-23T05:13:12.964487Z",
     "iopub.status.idle": "2024-03-23T05:13:12.967307Z",
     "shell.execute_reply": "2024-03-23T05:13:12.966756Z"
    },
    "papermill": {
     "duration": 0.046961,
     "end_time": "2024-03-23T05:13:12.968108",
     "exception": false,
     "start_time": "2024-03-23T05:13:12.921147",
     "status": "completed"
    },
    "tags": []
   },
   "outputs": [],
   "source": [
    "paragraph_matches.append(\n",
    "    (\n",
    "        section_name,\n",
    "        par0,\n",
    "        par1,\n",
    "    )\n",
    ")"
   ]
  },
  {
   "cell_type": "code",
   "execution_count": 220,
   "id": "dbd874a9-319b-4657-b4c8-ee225420f868",
   "metadata": {
    "execution": {
     "iopub.execute_input": "2024-03-23T05:13:13.053899Z",
     "iopub.status.busy": "2024-03-23T05:13:13.053683Z",
     "iopub.status.idle": "2024-03-23T05:13:13.057176Z",
     "shell.execute_reply": "2024-03-23T05:13:13.056746Z"
    },
    "papermill": {
     "duration": 0.047516,
     "end_time": "2024-03-23T05:13:13.057904",
     "exception": false,
     "start_time": "2024-03-23T05:13:13.010388",
     "status": "completed"
    },
    "tags": []
   },
   "outputs": [
    {
     "data": {
      "text/plain": [
       "('methods',\n",
       " 'S-MultiXcan [@doi:10.1371/journal.pgen.1007889], on the other hand, is the summary version of MultiXcan. MultiXcan is more powerful than PrediXcan in detecting gene-trait associations, although it does not provide the direction of effects. Its main output is the $p$-value (obtained with an F-test) of the multiple tissue model \\n$$\\n\\\\begin{split} \\\\mathbf{y} & = \\\\sum_{l=1}^{p} \\\\mathbf{t}_l g_l + \\\\mathbf{e} \\\\\\\\ & = \\\\mathbf{T} \\\\mathbf{g} + \\\\mathbf{e}, \\\\end{split} \\n$$ {#eq:multixcan}\\nwhere $\\\\mathbf{T}$ is a matrix with $p$ columns $\\\\mathbf{t}_l$, $\\\\hat{g}_l$ is the estimated effect size for the predicted gene expression in tissue $l$ (and thus $\\\\hat{\\\\mathbf{g}}$ is a vector with $p$ estimated effect sizes $\\\\hat{g}_l$), and $\\\\mathbf{e}$ are the error terms with variance $\\\\sigma_{e}^{2}$. Given the high correlation between predicted expression values for a gene across different tissues, MultiXcan uses the principal components (PCs) of $\\\\mathbf{T}$ to avoid collinearity issues. S-MultiXcan derives the joint regression estimates (effect sizes and their variances) in Equation (@eq:multixcan) using the marginal estimates from S-PrediXcan in Equation (@eq:spredixcan). Under the null hypothesis of no association, $\\\\hat{\\\\mathbf{g}}^{\\\\top} \\\\frac{\\\\mathbf{T}^{\\\\top}\\\\mathbf{T}}{\\\\sigma_{e}^{2}} \\\\hat{\\\\mathbf{g}} \\\\sim \\\\chi_{p}^{2}$, and therefore the significance of the association in S-MultiXcan is estimated with \\n$$\\n\\\\begin{split} \\\\frac{\\\\hat{\\\\mathbf{g}}^{\\\\top} (\\\\mathbf{T}^{\\\\top}\\\\mathbf{T}) \\\\hat{\\\\mathbf{g}}}{\\\\sigma_{e}^{2}} & \\\\approx \\\\bm{\\\\hat{\\\\gamma}}^{\\\\top} \\\\frac{\\\\sqrt{n-1}}{\\\\sigma_{\\\\epsilon}} \\\\left(\\\\frac{\\\\mathbf{T}^{\\\\top} \\\\mathbf{T}}{n-1}\\\\right)^{-1} \\\\frac{\\\\sqrt{n-1}}{\\\\sigma_{\\\\epsilon}} \\\\bm{\\\\hat{\\\\gamma}} \\\\\\\\ & = \\\\hat{\\\\mathbf{z}}^{\\\\top} Cor(\\\\mathbf{T})^{-1} \\\\hat{\\\\mathbf{z}}, \\\\end{split} \\n$$ {#eq:smultixcan}\\nwhere $\\\\hat{\\\\mathbf{z}}$ is a vector with $p$ $z$-scores (Equation (@eq:spredixcan)) for each tissue available for the gene, and $Cor(\\\\mathbf{T})$ is the autocorrelation matrix of $\\\\mathbf{T}$. Since $\\\\mathbf{T}^{\\\\top}\\\\mathbf{T}$ is singular for many genes, S-MultiXcan computes the pseudo-inverse $Cor(\\\\mathbf{T})^{+}$ using the $k$ top PCs, and thus $\\\\hat{\\\\mathbf{z}}^{\\\\top} Cor(\\\\mathbf{T})^{+} \\\\hat{\\\\mathbf{z}} \\\\sim \\\\chi_k^2$. To arrive at this expression, S-MultiXcan uses the conservative approximation $\\\\sigma_{e}^{2} \\\\approx \\\\sigma_{\\\\epsilon}^{2}$, that is, the variance of the error terms in the joint regression is approximately equal to the residual variance of the marginal regressions. Another important point is that $Cor(\\\\mathbf{T})$ is estimated using a global genotype covariance matrix, whereas marginal $\\\\hat{z}_l$ in Equation (@eq:spredixcan) are approximated using tissue-specific genotype covariances. Although S-MultiXcan yields highly concordant estimates compared with MultiXcan, results are not perfectly correlated across genes [@doi:10.1371/journal.pgen.1007889]. As we explain later, these differences are important for our LV-based regression model when computing the gene-gene correlation matrix. We used S-MultiXcan results for our LV-based regression model and our cluster analyses of traits.',\n",
       " 'S-MultiXcan [@doi:10.1371/journal.pgen.1007889] is a summary version of MultiXcan, which is more powerful than PrediXcan in detecting gene-trait associations but does not provide the direction of effects. The main output of MultiXcan is the p-value obtained with an F-test in the multiple tissue model: \\n$$\\n\\\\begin{split} \\\\mathbf{y} & = \\\\sum_{l=1}^{p} \\\\mathbf{t}_l g_l + \\\\mathbf{e} \\\\\\\\ & = \\\\mathbf{T} \\\\mathbf{g} + \\\\mathbf{e}, \\\\end{split} \\n$$ {#eq:multixcan}\\nwhere $\\\\mathbf{T}$ is a matrix with $p$ columns $\\\\mathbf{t}_l$, $\\\\hat{g}_l$ is the estimated effect size for the predicted gene expression in tissue $l$, and $\\\\mathbf{e}$ represents the error terms with variance $\\\\sigma_{e}^{2}$. Due to the high correlation between predicted expression values for a gene across different tissues, MultiXcan uses principal components (PCs) of $\\\\mathbf{T}$ to address collinearity issues. S-MultiXcan derives joint regression estimates (effect sizes and their variances) using marginal estimates from S-PrediXcan: \\n$$\\n\\\\begin{split} \\\\frac{\\\\hat{\\\\mathbf{g}}^{\\\\top} (\\\\mathbf{T}^{\\\\top}\\\\mathbf{T}) \\\\hat{\\\\mathbf{g}}}{\\\\sigma_{e}^{2}} & \\\\approx \\\\bm{\\\\hat{\\\\gamma}}^{\\\\top} \\\\frac{\\\\sqrt{n-1}}{\\\\sigma_{\\\\epsilon}} \\\\left(\\\\frac{\\\\mathbf{T}^{\\\\top} \\\\mathbf{T}}{n-1}\\\\right)^{-1} \\\\frac{\\\\sqrt{n-1}}{\\\\sigma_{\\\\epsilon}} \\\\bm{\\\\hat{\\\\gamma}} \\\\\\\\ & = \\\\hat{\\\\mathbf{z}}^{\\\\top} Cor(\\\\mathbf{T})^{-1} \\\\hat{\\\\mathbf{z}, \\\\end{split} \\n$$ {#eq:smultixcan}\\nwhere $\\\\hat{\\\\mathbf{z}}$ is a vector with $p$ z-scores for each tissue available for the gene, and $Cor(\\\\mathbf{T})$ is the autocorrelation matrix of $\\\\mathbf{T}$. S-MultiXcan computes the pseudo-inverse $Cor(\\\\mathbf{T})^{+}$ using the top $k$ PCs since $\\\\mathbf{T}^{\\\\top}\\\\mathbf{T}$ is singular for many genes. The approximation $\\\\sigma_{e}^{2} \\\\approx \\\\sigma_{\\\\epsilon}^{2}$ is used, assuming equal variances of error terms in joint and marginal regressions. The estimation of $Cor(\\\\mathbf{T})$ uses a global genotype covariance matrix, while marginal $\\\\hat{z}_l$ are approximated with tissue-specific genotype covariances. Although S-MultiXcan results are highly concordant with MultiXcan, they are not perfectly correlated across genes [@doi:10.1371/journal.pgen.1007889]. These differences are crucial for our LV-based regression model and gene-gene correlation matrix computation in cluster analyses of traits, where we utilized S-MultiXcan results.')"
      ]
     },
     "metadata": {},
     "output_type": "display_data"
    }
   ],
   "source": [
    "display(paragraph_matches[-1])"
   ]
  },
  {
   "cell_type": "markdown",
   "id": "c79dd9ba-2ac5-4ae6-bbf2-c71065b20c85",
   "metadata": {
    "editable": true,
    "papermill": {
     "duration": 0.04239,
     "end_time": "2024-03-23T05:13:13.143122",
     "exception": false,
     "start_time": "2024-03-23T05:13:13.100732",
     "status": "completed"
    },
    "slideshow": {
     "slide_type": ""
    },
    "tags": []
   },
   "source": [
    "####  Paragraph 04"
   ]
  },
  {
   "cell_type": "code",
   "execution_count": 221,
   "id": "23127f28-edb7-4635-945a-af278a7f2e12",
   "metadata": {
    "execution": {
     "iopub.execute_input": "2024-03-23T05:13:13.228744Z",
     "iopub.status.busy": "2024-03-23T05:13:13.228558Z",
     "iopub.status.idle": "2024-03-23T05:13:13.231956Z",
     "shell.execute_reply": "2024-03-23T05:13:13.231498Z"
    },
    "papermill": {
     "duration": 0.047118,
     "end_time": "2024-03-23T05:13:13.232655",
     "exception": false,
     "start_time": "2024-03-23T05:13:13.185537",
     "status": "completed"
    },
    "tags": []
   },
   "outputs": [
    {
     "name": "stdout",
     "output_type": "stream",
     "text": [
      "Given a gene expression dataset $\\mathbf{Y}^{m \\times c}$ with $m$ genes and $c$ experimental conditions and a prior knowledge matrix $\\mathbf{C} \\in \\{0,1\\}^{m \\times p}$ for $p$ MSigDB pathways [@doi:10.1016/j.cels.2015.12.004] (so that $\\mathbf{C}_{ij} = 1$ if gene $i$ belongs to pathway $j$), PLIER finds $\\mathbf{U}$, $\\mathbf{Z}$, and $\\mathbf{B}$ minimizing \n",
      "$$\n",
      "||\\mathbf{Y} - \\mathbf{Z}\\mathbf{B}||^{2}_{F} + \\lambda_1 ||\\mathbf{Z} - \\mathbf{C}\\mathbf{U}||^{2}_{F} + \\lambda_2 ||\\mathbf{B}||^{2}_{F} + \\lambda_3 ||\\mathbf{U}||_{L^1} \n",
      "$$ {#eq:met:plier_func}\n",
      "subject to $\\mathbf{U}>0, \\mathbf{Z}>0$; $\\mathbf{Z}^{m \\times l}$ are the gene loadings with $l$ latent variables, $\\mathbf{B}^{l \\times c}$ is the latent space for $c$ conditions, $\\mathbf{U}^{p \\times l}$ specifies which of the $p$ prior-information pathways in $\\mathbf{C}$ are represented for each LV, and $\\lambda_i$ are different regularization parameters used in the training step. $\\mathbf{Z}$ is a low-dimensional representation of the gene space where each LV aligns as much as possible to prior knowledge, and it might represent either a known or novel gene module (i.e., a meaningful biological pattern) or noise.\n"
     ]
    }
   ],
   "source": [
    "par0 = (\n",
    "    process_paragraph(orig_section_paragraphs[20:23])\n",
    "    .replace(\"$$\", \"\\n$$\")\n",
    "    .replace(\"$$ ||\", \"$$\\n||\")\n",
    "    .replace(\":plier_func} subject\", \":plier_func}\\nsubject\")\n",
    "    # .replace(\":smultixcan} where\", \":smultixcan}\\nwhere\")\n",
    ")\n",
    "print(par0)"
   ]
  },
  {
   "cell_type": "code",
   "execution_count": 222,
   "id": "56c4bad1-44f2-47f1-88d9-3a7f90273958",
   "metadata": {
    "execution": {
     "iopub.execute_input": "2024-03-23T05:13:13.323029Z",
     "iopub.status.busy": "2024-03-23T05:13:13.322649Z",
     "iopub.status.idle": "2024-03-23T05:13:13.326703Z",
     "shell.execute_reply": "2024-03-23T05:13:13.326215Z"
    },
    "papermill": {
     "duration": 0.051106,
     "end_time": "2024-03-23T05:13:13.327425",
     "exception": false,
     "start_time": "2024-03-23T05:13:13.276319",
     "status": "completed"
    },
    "tags": []
   },
   "outputs": [
    {
     "name": "stdout",
     "output_type": "stream",
     "text": [
      "Given a gene expression dataset $\\mathbf{Y}^{m \\times c}$ with $m$ genes and $c$ experimental conditions and a prior knowledge matrix $\\mathbf{C} \\in \\{0,1\\}^{m \\times p}$ for $p$ MSigDB pathways (so that $\\mathbf{C}_{ij} = 1$ if gene $i$ belongs to pathway $j$), PLIER finds matrices $\\mathbf{U}$, $\\mathbf{Z}$, and $\\mathbf{B}$ that minimize the following objective function: \n",
      "$$\n",
      "||\\mathbf{Y} - \\mathbf{Z}\\mathbf{B}||^{2}_{F} + \\lambda_1 ||\\mathbf{Z} - \\mathbf{C}\\mathbf{U}||^{2}_{F} + \\lambda_2 ||\\mathbf{B}||^{2}_{F} + \\lambda_3 ||\\mathbf{U}||_{L^1} \n",
      "$$\n",
      "This optimization is subject to the constraints $\\mathbf{U}>0, \\mathbf{Z}>0$. Here, $\\mathbf{Z}^{m \\times l}$ represents the gene loadings with $l$ latent variables, $\\mathbf{B}^{l \\times c}$ is the latent space for $c$ conditions, and $\\mathbf{U}^{p \\times l}$ specifies which of the $p$ prior-information pathways in $\\mathbf{C}$ are represented for each latent variable. The regularization parameters $\\lambda_i$ are used in the training step to control the model complexity. The matrix $\\mathbf{Z}$ provides a low-dimensional representation of the gene space, aligning with prior knowledge, and may indicate a known or novel gene module, or noise.\n"
     ]
    }
   ],
   "source": [
    "par1 = (\n",
    "    process_paragraph(mod_section_paragraphs[30:33])\n",
    "    .replace(\"$$\", \"\\n$$\")\n",
    "    .replace(\"$$ ||\", \"$$\\n||\")\n",
    "    .replace(\"$$ This opt\", \"$$\\nThis opt\")\n",
    ")\n",
    "print(par1)"
   ]
  },
  {
   "cell_type": "code",
   "execution_count": 223,
   "id": "702d2a38-da25-44be-ba92-363adf0592c8",
   "metadata": {
    "execution": {
     "iopub.execute_input": "2024-03-23T05:13:13.416857Z",
     "iopub.status.busy": "2024-03-23T05:13:13.416406Z",
     "iopub.status.idle": "2024-03-23T05:13:13.419340Z",
     "shell.execute_reply": "2024-03-23T05:13:13.418803Z"
    },
    "papermill": {
     "duration": 0.048776,
     "end_time": "2024-03-23T05:13:13.420159",
     "exception": false,
     "start_time": "2024-03-23T05:13:13.371383",
     "status": "completed"
    },
    "tags": []
   },
   "outputs": [],
   "source": [
    "paragraph_matches.append(\n",
    "    (\n",
    "        section_name,\n",
    "        par0,\n",
    "        par1,\n",
    "    )\n",
    ")"
   ]
  },
  {
   "cell_type": "code",
   "execution_count": 224,
   "id": "5b95a3c2-128e-429f-b236-b27df7b7a3e6",
   "metadata": {
    "execution": {
     "iopub.execute_input": "2024-03-23T05:13:13.508251Z",
     "iopub.status.busy": "2024-03-23T05:13:13.507686Z",
     "iopub.status.idle": "2024-03-23T05:13:13.511963Z",
     "shell.execute_reply": "2024-03-23T05:13:13.511581Z"
    },
    "papermill": {
     "duration": 0.04869,
     "end_time": "2024-03-23T05:13:13.512637",
     "exception": false,
     "start_time": "2024-03-23T05:13:13.463947",
     "status": "completed"
    },
    "tags": []
   },
   "outputs": [
    {
     "data": {
      "text/plain": [
       "('methods',\n",
       " 'Given a gene expression dataset $\\\\mathbf{Y}^{m \\\\times c}$ with $m$ genes and $c$ experimental conditions and a prior knowledge matrix $\\\\mathbf{C} \\\\in \\\\{0,1\\\\}^{m \\\\times p}$ for $p$ MSigDB pathways [@doi:10.1016/j.cels.2015.12.004] (so that $\\\\mathbf{C}_{ij} = 1$ if gene $i$ belongs to pathway $j$), PLIER finds $\\\\mathbf{U}$, $\\\\mathbf{Z}$, and $\\\\mathbf{B}$ minimizing \\n$$\\n||\\\\mathbf{Y} - \\\\mathbf{Z}\\\\mathbf{B}||^{2}_{F} + \\\\lambda_1 ||\\\\mathbf{Z} - \\\\mathbf{C}\\\\mathbf{U}||^{2}_{F} + \\\\lambda_2 ||\\\\mathbf{B}||^{2}_{F} + \\\\lambda_3 ||\\\\mathbf{U}||_{L^1} \\n$$ {#eq:met:plier_func}\\nsubject to $\\\\mathbf{U}>0, \\\\mathbf{Z}>0$; $\\\\mathbf{Z}^{m \\\\times l}$ are the gene loadings with $l$ latent variables, $\\\\mathbf{B}^{l \\\\times c}$ is the latent space for $c$ conditions, $\\\\mathbf{U}^{p \\\\times l}$ specifies which of the $p$ prior-information pathways in $\\\\mathbf{C}$ are represented for each LV, and $\\\\lambda_i$ are different regularization parameters used in the training step. $\\\\mathbf{Z}$ is a low-dimensional representation of the gene space where each LV aligns as much as possible to prior knowledge, and it might represent either a known or novel gene module (i.e., a meaningful biological pattern) or noise.',\n",
       " 'Given a gene expression dataset $\\\\mathbf{Y}^{m \\\\times c}$ with $m$ genes and $c$ experimental conditions and a prior knowledge matrix $\\\\mathbf{C} \\\\in \\\\{0,1\\\\}^{m \\\\times p}$ for $p$ MSigDB pathways (so that $\\\\mathbf{C}_{ij} = 1$ if gene $i$ belongs to pathway $j$), PLIER finds matrices $\\\\mathbf{U}$, $\\\\mathbf{Z}$, and $\\\\mathbf{B}$ that minimize the following objective function: \\n$$\\n||\\\\mathbf{Y} - \\\\mathbf{Z}\\\\mathbf{B}||^{2}_{F} + \\\\lambda_1 ||\\\\mathbf{Z} - \\\\mathbf{C}\\\\mathbf{U}||^{2}_{F} + \\\\lambda_2 ||\\\\mathbf{B}||^{2}_{F} + \\\\lambda_3 ||\\\\mathbf{U}||_{L^1} \\n$$\\nThis optimization is subject to the constraints $\\\\mathbf{U}>0, \\\\mathbf{Z}>0$. Here, $\\\\mathbf{Z}^{m \\\\times l}$ represents the gene loadings with $l$ latent variables, $\\\\mathbf{B}^{l \\\\times c}$ is the latent space for $c$ conditions, and $\\\\mathbf{U}^{p \\\\times l}$ specifies which of the $p$ prior-information pathways in $\\\\mathbf{C}$ are represented for each latent variable. The regularization parameters $\\\\lambda_i$ are used in the training step to control the model complexity. The matrix $\\\\mathbf{Z}$ provides a low-dimensional representation of the gene space, aligning with prior knowledge, and may indicate a known or novel gene module, or noise.')"
      ]
     },
     "metadata": {},
     "output_type": "display_data"
    }
   ],
   "source": [
    "display(paragraph_matches[-1])"
   ]
  },
  {
   "cell_type": "markdown",
   "id": "14369957-df7c-46a4-9c77-9f1cbde64dcd",
   "metadata": {
    "editable": true,
    "papermill": {
     "duration": 0.042872,
     "end_time": "2024-03-23T05:13:13.599074",
     "exception": false,
     "start_time": "2024-03-23T05:13:13.556202",
     "status": "completed"
    },
    "slideshow": {
     "slide_type": ""
    },
    "tags": []
   },
   "source": [
    "####  Paragraph 05"
   ]
  },
  {
   "cell_type": "code",
   "execution_count": 225,
   "id": "590fa642-495a-4a27-a7a9-ba8b3365355c",
   "metadata": {
    "execution": {
     "iopub.execute_input": "2024-03-23T05:13:13.687650Z",
     "iopub.status.busy": "2024-03-23T05:13:13.687118Z",
     "iopub.status.idle": "2024-03-23T05:13:13.690770Z",
     "shell.execute_reply": "2024-03-23T05:13:13.690322Z"
    },
    "papermill": {
     "duration": 0.048537,
     "end_time": "2024-03-23T05:13:13.691465",
     "exception": false,
     "start_time": "2024-03-23T05:13:13.642928",
     "status": "completed"
    },
    "tags": []
   },
   "outputs": [
    {
     "name": "stdout",
     "output_type": "stream",
     "text": [
      "For our drug repurposing and cluster analyses, we used this model to project gene-trait (from TWAS) and gene-drug associations (from LINCS L1000) into this low-dimensional gene module space. For instance, TWAS associations $\\mathbf{M}$ (either from S-PrediXcan or S-MultiXcan) were projected using \n",
      "$$\n",
      "\\hat{\\mathbf{M}} = (\\mathbf{Z}^{\\top} \\mathbf{Z} + \\lambda_{2} \\mathbf{I})^{-1} \\mathbf{Z}^{\\top} \\mathbf{M}, \n",
      "$$ {#eq:proj}\n",
      "where $\\hat{\\mathbf{M}}^{l \\times q}$ is a matrix where traits are represented by gene modules instead of single genes. As explained later, we used the same approach to project drug-induced transcriptional profiles in LINCS L1000 to obtain a representation of drugs using gene modules.\n"
     ]
    }
   ],
   "source": [
    "par0 = (\n",
    "    process_paragraph(orig_section_paragraphs[23:26])\n",
    "    .replace(\"$$\", \"\\n$$\")\n",
    "    .replace(\"$$ \\\\\", \"$$\\n\\\\\")\n",
    "    .replace(\":proj} where\", \":proj}\\nwhere\")\n",
    ")\n",
    "print(par0)"
   ]
  },
  {
   "cell_type": "code",
   "execution_count": 226,
   "id": "d9780e6f-41bd-4afc-bbfc-416acd51a8bb",
   "metadata": {
    "execution": {
     "iopub.execute_input": "2024-03-23T05:13:13.777969Z",
     "iopub.status.busy": "2024-03-23T05:13:13.777612Z",
     "iopub.status.idle": "2024-03-23T05:13:13.780921Z",
     "shell.execute_reply": "2024-03-23T05:13:13.780480Z"
    },
    "papermill": {
     "duration": 0.047222,
     "end_time": "2024-03-23T05:13:13.781647",
     "exception": false,
     "start_time": "2024-03-23T05:13:13.734425",
     "status": "completed"
    },
    "tags": []
   },
   "outputs": [
    {
     "name": "stdout",
     "output_type": "stream",
     "text": [
      "For our drug repurposing and cluster analyses, we utilized a model to project gene-trait associations (obtained from Transcriptome-Wide Association Studies, TWAS) and gene-drug associations (obtained from Library of Integrated Network-Based Cellular Signatures, LINCS L1000) into a low-dimensional gene module space. Specifically, TWAS associations $\\mathbf{M}$ (derived from either S-PrediXcan or S-MultiXcan) were projected using: \n",
      "$$\n",
      "\\hat{\\mathbf{M}} = (\\mathbf{Z}^{\\top} \\mathbf{Z} + \\lambda_{2} \\mathbf{I})^{-1} \\mathbf{Z}^{\\top} \\mathbf{M}, \n",
      "$$ {#eq:proj}\n",
      "Here, $\\hat{\\mathbf{M}}^{l \\times q}$ represents a matrix where traits are expressed by gene modules rather than individual genes. As discussed later, the same methodology was applied to project drug-induced transcriptional profiles from LINCS L1000, resulting in a representation of drugs based on gene modules.\n"
     ]
    }
   ],
   "source": [
    "par1 = (\n",
    "    process_paragraph(mod_section_paragraphs[33:36])\n",
    "    .replace(\"$$\", \"\\n$$\")\n",
    "    .replace(\"$$ \\\\\", \"$$\\n\\\\\")\n",
    "    .replace(\":proj} Here\", \":proj}\\nHere\")\n",
    ")\n",
    "print(par1)"
   ]
  },
  {
   "cell_type": "code",
   "execution_count": 227,
   "id": "edf2e4a3-5466-49fb-adbc-12926723cd85",
   "metadata": {
    "execution": {
     "iopub.execute_input": "2024-03-23T05:13:13.868046Z",
     "iopub.status.busy": "2024-03-23T05:13:13.867856Z",
     "iopub.status.idle": "2024-03-23T05:13:13.870441Z",
     "shell.execute_reply": "2024-03-23T05:13:13.870009Z"
    },
    "papermill": {
     "duration": 0.046679,
     "end_time": "2024-03-23T05:13:13.871199",
     "exception": false,
     "start_time": "2024-03-23T05:13:13.824520",
     "status": "completed"
    },
    "tags": []
   },
   "outputs": [],
   "source": [
    "paragraph_matches.append(\n",
    "    (\n",
    "        section_name,\n",
    "        par0,\n",
    "        par1,\n",
    "    )\n",
    ")"
   ]
  },
  {
   "cell_type": "code",
   "execution_count": 228,
   "id": "305001ac-905e-4728-bf27-6d9c252a6b79",
   "metadata": {
    "execution": {
     "iopub.execute_input": "2024-03-23T05:13:13.957818Z",
     "iopub.status.busy": "2024-03-23T05:13:13.957408Z",
     "iopub.status.idle": "2024-03-23T05:13:13.960965Z",
     "shell.execute_reply": "2024-03-23T05:13:13.960535Z"
    },
    "papermill": {
     "duration": 0.047453,
     "end_time": "2024-03-23T05:13:13.961677",
     "exception": false,
     "start_time": "2024-03-23T05:13:13.914224",
     "status": "completed"
    },
    "tags": []
   },
   "outputs": [
    {
     "data": {
      "text/plain": [
       "('methods',\n",
       " 'For our drug repurposing and cluster analyses, we used this model to project gene-trait (from TWAS) and gene-drug associations (from LINCS L1000) into this low-dimensional gene module space. For instance, TWAS associations $\\\\mathbf{M}$ (either from S-PrediXcan or S-MultiXcan) were projected using \\n$$\\n\\\\hat{\\\\mathbf{M}} = (\\\\mathbf{Z}^{\\\\top} \\\\mathbf{Z} + \\\\lambda_{2} \\\\mathbf{I})^{-1} \\\\mathbf{Z}^{\\\\top} \\\\mathbf{M}, \\n$$ {#eq:proj}\\nwhere $\\\\hat{\\\\mathbf{M}}^{l \\\\times q}$ is a matrix where traits are represented by gene modules instead of single genes. As explained later, we used the same approach to project drug-induced transcriptional profiles in LINCS L1000 to obtain a representation of drugs using gene modules.',\n",
       " 'For our drug repurposing and cluster analyses, we utilized a model to project gene-trait associations (obtained from Transcriptome-Wide Association Studies, TWAS) and gene-drug associations (obtained from Library of Integrated Network-Based Cellular Signatures, LINCS L1000) into a low-dimensional gene module space. Specifically, TWAS associations $\\\\mathbf{M}$ (derived from either S-PrediXcan or S-MultiXcan) were projected using: \\n$$\\n\\\\hat{\\\\mathbf{M}} = (\\\\mathbf{Z}^{\\\\top} \\\\mathbf{Z} + \\\\lambda_{2} \\\\mathbf{I})^{-1} \\\\mathbf{Z}^{\\\\top} \\\\mathbf{M}, \\n$$ {#eq:proj}\\nHere, $\\\\hat{\\\\mathbf{M}}^{l \\\\times q}$ represents a matrix where traits are expressed by gene modules rather than individual genes. As discussed later, the same methodology was applied to project drug-induced transcriptional profiles from LINCS L1000, resulting in a representation of drugs based on gene modules.')"
      ]
     },
     "metadata": {},
     "output_type": "display_data"
    }
   ],
   "source": [
    "display(paragraph_matches[-1])"
   ]
  },
  {
   "cell_type": "markdown",
   "id": "1e23ef22-30fa-42d0-9ca6-a2736743c3b9",
   "metadata": {
    "editable": true,
    "papermill": {
     "duration": 0.070934,
     "end_time": "2024-03-23T05:13:14.075786",
     "exception": false,
     "start_time": "2024-03-23T05:13:14.004852",
     "status": "completed"
    },
    "slideshow": {
     "slide_type": ""
    },
    "tags": []
   },
   "source": [
    "####  Paragraph 06"
   ]
  },
  {
   "cell_type": "code",
   "execution_count": 229,
   "id": "1b115197-8a7e-4087-9adf-04590f43d99b",
   "metadata": {
    "execution": {
     "iopub.execute_input": "2024-03-23T05:13:14.162774Z",
     "iopub.status.busy": "2024-03-23T05:13:14.162229Z",
     "iopub.status.idle": "2024-03-23T05:13:14.165640Z",
     "shell.execute_reply": "2024-03-23T05:13:14.165195Z"
    },
    "papermill": {
     "duration": 0.047915,
     "end_time": "2024-03-23T05:13:14.166456",
     "exception": false,
     "start_time": "2024-03-23T05:13:14.118541",
     "status": "completed"
    },
    "tags": []
   },
   "outputs": [
    {
     "name": "stdout",
     "output_type": "stream",
     "text": [
      "Since the error terms $\\bm{\\epsilon}$ could be correlated, we cannot assume they have independent normal distributions as in a standard linear regression model. In the PrediXcan family of methods, the predicted expression of a pair of genes could be correlated if they share eQTLs or if these are in LD [@doi:10.1038/s41588-019-0385-z]. Therefore, we used a generalized least squares approach to account for these correlations. The gene-gene correlation matrix $\\mathbf{R}$ was approximated by computing the correlations between the model sum of squares (SSM) for each pair of genes under the null hypothesis of no association. These correlations are derived from the individual-level MultiXcan model (Equation (@eq:multixcan)), where the predicted expression matrix $\\mathbf{T}_{i} \\in \\mathbb{R}^{n \\times p_i}$ of a gene $i$ across $p_i$ tissues is projected into its top $k_i$ PCs, resulting in matrix $\\mathbf{P}_{i} \\in \\mathbb{R}^{n \\times k_i}$. From the MAGMA framework, we know that the SSM for each gene is proportial to $\\mathbf{y}^{\\top} \\mathbf{P}_{i} \\mathbf{P}_{i}^{\\top} \\mathbf{y}$. Under the null hypothesis of no association, the covariances between the SSM of genes $i$ and $j$ is therefore given by $2 \\times \\mathrm{Trace}(\\mathbf{P}_{i}^{\\top} \\mathbf{P}_{j} \\mathbf{P}_{j}^{\\top} \\mathbf{P}_{i})$. The standard deviations of each SSM are given by $\\sqrt{2 \\times k_{i}} \\times (n - 1)$. Therefore, the correlation between the SSMs for genes $i$ and $j$ can be written as follows:\n"
     ]
    }
   ],
   "source": [
    "par0 = (\n",
    "    process_paragraph(orig_section_paragraphs[31])\n",
    "    # .replace(\"$$\", \"\\n$$\")\n",
    "    # .replace(\"$$ \\\\\", \"$$\\n\\\\\")\n",
    "    # .replace(\":proj} Here\", \":proj}\\nHere\")\n",
    ")\n",
    "print(par0)"
   ]
  },
  {
   "cell_type": "code",
   "execution_count": 230,
   "id": "2abd5425-de51-4e1a-b0e9-1106ca2b37de",
   "metadata": {
    "execution": {
     "iopub.execute_input": "2024-03-23T05:13:14.252888Z",
     "iopub.status.busy": "2024-03-23T05:13:14.252783Z",
     "iopub.status.idle": "2024-03-23T05:13:14.254852Z",
     "shell.execute_reply": "2024-03-23T05:13:14.254483Z"
    },
    "papermill": {
     "duration": 0.046048,
     "end_time": "2024-03-23T05:13:14.255594",
     "exception": false,
     "start_time": "2024-03-23T05:13:14.209546",
     "status": "completed"
    },
    "tags": []
   },
   "outputs": [
    {
     "name": "stdout",
     "output_type": "stream",
     "text": [
      "Since the error terms $\\bm{\\epsilon}$ could be correlated, we cannot assume they have independent normal distributions as in a standard linear regression model. In the PrediXcan family of methods, the predicted expression of a pair of genes could be correlated if they share eQTLs or if these are in LD (Gamazon et al., 2019). Therefore, we used a generalized least squares approach to account for these correlations. The gene-gene correlation matrix $\\mathbf{R}$ was approximated by computing the correlations between the model sum of squares (SSM) for each pair of genes under the null hypothesis of no association. These correlations are derived from the individual-level MultiXcan model (Equation 1), where the predicted expression matrix $\\mathbf{T}_{i} \\in \\mathbb{R}^{n \\times p_i}$ of a gene $i$ across $p_i$ tissues is projected into its top $k_i$ principal components (PCs), resulting in matrix $\\mathbf{P}_{i} \\in \\mathbb{R}^{n \\times k_i}$. From the MAGMA framework, we know that the SSM for each gene is proportional to $\\mathbf{y}^{\\top} \\mathbf{P}_{i} \\mathbf{P}_{i}^{\\top} \\mathbf{y}$. Under the null hypothesis of no association, the covariances between the SSM of genes $i$ and $j$ are therefore given by $2 \\times \\mathrm{Trace}(\\mathbf{P}_{i}^{\\top} \\mathbf{P}_{j} \\mathbf{P}_{j}^{\\top} \\mathbf{P}_{i}$. The standard deviations of each SSM are given by $\\sqrt{2 \\times k_{i}} \\times (n - 1)$. Therefore, the correlation between the SSMs for genes $i$ and $j$ can be written as follows:\n"
     ]
    }
   ],
   "source": [
    "par1 = process_paragraph(mod_section_paragraphs[45])\n",
    "print(par1)"
   ]
  },
  {
   "cell_type": "code",
   "execution_count": 231,
   "id": "b094ae16-c00a-46a5-a2f1-0bb674894a9a",
   "metadata": {
    "execution": {
     "iopub.execute_input": "2024-03-23T05:13:14.343540Z",
     "iopub.status.busy": "2024-03-23T05:13:14.343127Z",
     "iopub.status.idle": "2024-03-23T05:13:14.345745Z",
     "shell.execute_reply": "2024-03-23T05:13:14.345280Z"
    },
    "papermill": {
     "duration": 0.047984,
     "end_time": "2024-03-23T05:13:14.346481",
     "exception": false,
     "start_time": "2024-03-23T05:13:14.298497",
     "status": "completed"
    },
    "tags": []
   },
   "outputs": [],
   "source": [
    "paragraph_matches.append(\n",
    "    (\n",
    "        section_name,\n",
    "        par0,\n",
    "        par1,\n",
    "    )\n",
    ")"
   ]
  },
  {
   "cell_type": "code",
   "execution_count": 232,
   "id": "37dc88b5-010e-42f7-9d27-749d5af21423",
   "metadata": {
    "execution": {
     "iopub.execute_input": "2024-03-23T05:13:14.433373Z",
     "iopub.status.busy": "2024-03-23T05:13:14.433090Z",
     "iopub.status.idle": "2024-03-23T05:13:14.437000Z",
     "shell.execute_reply": "2024-03-23T05:13:14.436427Z"
    },
    "papermill": {
     "duration": 0.048172,
     "end_time": "2024-03-23T05:13:14.437709",
     "exception": false,
     "start_time": "2024-03-23T05:13:14.389537",
     "status": "completed"
    },
    "tags": []
   },
   "outputs": [
    {
     "data": {
      "text/plain": [
       "('methods',\n",
       " 'Since the error terms $\\\\bm{\\\\epsilon}$ could be correlated, we cannot assume they have independent normal distributions as in a standard linear regression model. In the PrediXcan family of methods, the predicted expression of a pair of genes could be correlated if they share eQTLs or if these are in LD [@doi:10.1038/s41588-019-0385-z]. Therefore, we used a generalized least squares approach to account for these correlations. The gene-gene correlation matrix $\\\\mathbf{R}$ was approximated by computing the correlations between the model sum of squares (SSM) for each pair of genes under the null hypothesis of no association. These correlations are derived from the individual-level MultiXcan model (Equation (@eq:multixcan)), where the predicted expression matrix $\\\\mathbf{T}_{i} \\\\in \\\\mathbb{R}^{n \\\\times p_i}$ of a gene $i$ across $p_i$ tissues is projected into its top $k_i$ PCs, resulting in matrix $\\\\mathbf{P}_{i} \\\\in \\\\mathbb{R}^{n \\\\times k_i}$. From the MAGMA framework, we know that the SSM for each gene is proportial to $\\\\mathbf{y}^{\\\\top} \\\\mathbf{P}_{i} \\\\mathbf{P}_{i}^{\\\\top} \\\\mathbf{y}$. Under the null hypothesis of no association, the covariances between the SSM of genes $i$ and $j$ is therefore given by $2 \\\\times \\\\mathrm{Trace}(\\\\mathbf{P}_{i}^{\\\\top} \\\\mathbf{P}_{j} \\\\mathbf{P}_{j}^{\\\\top} \\\\mathbf{P}_{i})$. The standard deviations of each SSM are given by $\\\\sqrt{2 \\\\times k_{i}} \\\\times (n - 1)$. Therefore, the correlation between the SSMs for genes $i$ and $j$ can be written as follows:',\n",
       " 'Since the error terms $\\\\bm{\\\\epsilon}$ could be correlated, we cannot assume they have independent normal distributions as in a standard linear regression model. In the PrediXcan family of methods, the predicted expression of a pair of genes could be correlated if they share eQTLs or if these are in LD (Gamazon et al., 2019). Therefore, we used a generalized least squares approach to account for these correlations. The gene-gene correlation matrix $\\\\mathbf{R}$ was approximated by computing the correlations between the model sum of squares (SSM) for each pair of genes under the null hypothesis of no association. These correlations are derived from the individual-level MultiXcan model (Equation 1), where the predicted expression matrix $\\\\mathbf{T}_{i} \\\\in \\\\mathbb{R}^{n \\\\times p_i}$ of a gene $i$ across $p_i$ tissues is projected into its top $k_i$ principal components (PCs), resulting in matrix $\\\\mathbf{P}_{i} \\\\in \\\\mathbb{R}^{n \\\\times k_i}$. From the MAGMA framework, we know that the SSM for each gene is proportional to $\\\\mathbf{y}^{\\\\top} \\\\mathbf{P}_{i} \\\\mathbf{P}_{i}^{\\\\top} \\\\mathbf{y}$. Under the null hypothesis of no association, the covariances between the SSM of genes $i$ and $j$ are therefore given by $2 \\\\times \\\\mathrm{Trace}(\\\\mathbf{P}_{i}^{\\\\top} \\\\mathbf{P}_{j} \\\\mathbf{P}_{j}^{\\\\top} \\\\mathbf{P}_{i}$. The standard deviations of each SSM are given by $\\\\sqrt{2 \\\\times k_{i}} \\\\times (n - 1)$. Therefore, the correlation between the SSMs for genes $i$ and $j$ can be written as follows:')"
      ]
     },
     "metadata": {},
     "output_type": "display_data"
    }
   ],
   "source": [
    "display(paragraph_matches[-1])"
   ]
  },
  {
   "cell_type": "markdown",
   "id": "b96f7e49-7c44-4738-b979-08012ef5e47a",
   "metadata": {
    "editable": true,
    "papermill": {
     "duration": 0.043365,
     "end_time": "2024-03-23T05:13:14.524089",
     "exception": false,
     "start_time": "2024-03-23T05:13:14.480724",
     "status": "completed"
    },
    "slideshow": {
     "slide_type": ""
    },
    "tags": []
   },
   "source": [
    "####  Paragraph 07"
   ]
  },
  {
   "cell_type": "code",
   "execution_count": 233,
   "id": "d27499a0-7315-4cf4-a440-737ef1903b71",
   "metadata": {
    "execution": {
     "iopub.execute_input": "2024-03-23T05:13:14.611252Z",
     "iopub.status.busy": "2024-03-23T05:13:14.610986Z",
     "iopub.status.idle": "2024-03-23T05:13:14.614221Z",
     "shell.execute_reply": "2024-03-23T05:13:14.613622Z"
    },
    "papermill": {
     "duration": 0.047508,
     "end_time": "2024-03-23T05:13:14.615018",
     "exception": false,
     "start_time": "2024-03-23T05:13:14.567510",
     "status": "completed"
    },
    "tags": []
   },
   "outputs": [
    {
     "name": "stdout",
     "output_type": "stream",
     "text": [
      "Note that, since we used the MultiXcan regression model (Equation (@eq:multixcan)), $\\mathbf{R}$ is only an approximation of gene correlations in S-MultiXcan. As explained before, S-MultiXcan approximates the joint regression parameters in MultiXcan using the marginal regression estimates from S-PrediXcan in (@eq:spredixcan) with some simplifying assumptions and different genotype covariance matrices. This complicates the derivation of an S-MultiXcan-specific solution to compute $\\mathbf{R}$. To account for this, we used a submatrix $\\mathbf{R}_{\\ell}$ corresponding to genes that are part of LV $\\ell$ only (top 1% of genes) instead of the entire matrix $\\mathbf{R}$. This simplification is conservative since correlations are accounted for top genes only. Our simulations ([Supplementary Note 1](#sm:reg:null_sim)) show that the model is approximately well-calibrated and can correct for LVs with adjacent and highly correlated genes at the top (e.g., Figure @fig:reg:nulls:qqplot:lv234). The simulation also identified 127 LVs in which the model was not well-calibrated (e.g., Figure @fig:reg:nulls:qqplot:lv914). As this can be attributed to limitations in accurately computing a gene correlation matrix, we excluded these LVs from our main analyses.\n"
     ]
    }
   ],
   "source": [
    "par0 = process_paragraph(orig_section_paragraphs[39])\n",
    "print(par0)"
   ]
  },
  {
   "cell_type": "code",
   "execution_count": 234,
   "id": "6ad494d8-ebb7-4736-a50d-9f61884238be",
   "metadata": {
    "execution": {
     "iopub.execute_input": "2024-03-23T05:13:14.702022Z",
     "iopub.status.busy": "2024-03-23T05:13:14.701607Z",
     "iopub.status.idle": "2024-03-23T05:13:14.704879Z",
     "shell.execute_reply": "2024-03-23T05:13:14.704310Z"
    },
    "papermill": {
     "duration": 0.04746,
     "end_time": "2024-03-23T05:13:14.705636",
     "exception": false,
     "start_time": "2024-03-23T05:13:14.658176",
     "status": "completed"
    },
    "tags": []
   },
   "outputs": [
    {
     "name": "stdout",
     "output_type": "stream",
     "text": [
      "Since we utilized the MultiXcan regression model (Equation (@eq:multixcan)), $\\mathbf{R}$ serves as an approximation of gene correlations in S-MultiXcan. As previously discussed, S-MultiXcan approximates the joint regression parameters in MultiXcan by utilizing the marginal regression estimates from S-PrediXcan in Equation (@eq:spredixcan) with certain simplifying assumptions and different genotype covariance matrices. This complicates the process of deriving an S-MultiXcan-specific solution to calculate $\\mathbf{R}$. To address this issue, we opted to use a submatrix $\\mathbf{R}_{\\ell}$ that corresponds to genes exclusively part of latent variable (LV) $\\ell$ (top 1% of genes) rather than the entire matrix $\\mathbf{R}$. This simplification is considered conservative as it takes into account correlations for only the top genes. Our simulations (see Supplementary Note 1) demonstrate that the model is reasonably well-calibrated and can rectify LVs with neighboring and highly correlated genes at the top (e.g., see Figure @fig:reg:nulls:qqplot:lv234). The simulations also highlighted 127 LVs where the model was not adequately calibrated (e.g., see Figure @fig:reg:nulls:qqplot:lv914). Since this issue may stem from challenges in accurately computing a gene correlation matrix, we excluded these LVs from our primary analyses.\n"
     ]
    }
   ],
   "source": [
    "par1 = process_paragraph(mod_section_paragraphs[53])\n",
    "print(par1)"
   ]
  },
  {
   "cell_type": "code",
   "execution_count": 235,
   "id": "c1b33934-fe43-4e94-a51f-854c1639aaf8",
   "metadata": {
    "execution": {
     "iopub.execute_input": "2024-03-23T05:13:14.792570Z",
     "iopub.status.busy": "2024-03-23T05:13:14.792187Z",
     "iopub.status.idle": "2024-03-23T05:13:14.795079Z",
     "shell.execute_reply": "2024-03-23T05:13:14.794502Z"
    },
    "papermill": {
     "duration": 0.047099,
     "end_time": "2024-03-23T05:13:14.795962",
     "exception": false,
     "start_time": "2024-03-23T05:13:14.748863",
     "status": "completed"
    },
    "tags": []
   },
   "outputs": [],
   "source": [
    "paragraph_matches.append(\n",
    "    (\n",
    "        section_name,\n",
    "        par0,\n",
    "        par1,\n",
    "    )\n",
    ")"
   ]
  },
  {
   "cell_type": "code",
   "execution_count": 236,
   "id": "3b5c3e6f-0724-40a3-a492-357871894e00",
   "metadata": {
    "execution": {
     "iopub.execute_input": "2024-03-23T05:13:14.882606Z",
     "iopub.status.busy": "2024-03-23T05:13:14.882502Z",
     "iopub.status.idle": "2024-03-23T05:13:14.885384Z",
     "shell.execute_reply": "2024-03-23T05:13:14.884967Z"
    },
    "papermill": {
     "duration": 0.04697,
     "end_time": "2024-03-23T05:13:14.886111",
     "exception": false,
     "start_time": "2024-03-23T05:13:14.839141",
     "status": "completed"
    },
    "tags": []
   },
   "outputs": [
    {
     "data": {
      "text/plain": [
       "('methods',\n",
       " 'Note that, since we used the MultiXcan regression model (Equation (@eq:multixcan)), $\\\\mathbf{R}$ is only an approximation of gene correlations in S-MultiXcan. As explained before, S-MultiXcan approximates the joint regression parameters in MultiXcan using the marginal regression estimates from S-PrediXcan in (@eq:spredixcan) with some simplifying assumptions and different genotype covariance matrices. This complicates the derivation of an S-MultiXcan-specific solution to compute $\\\\mathbf{R}$. To account for this, we used a submatrix $\\\\mathbf{R}_{\\\\ell}$ corresponding to genes that are part of LV $\\\\ell$ only (top 1% of genes) instead of the entire matrix $\\\\mathbf{R}$. This simplification is conservative since correlations are accounted for top genes only. Our simulations ([Supplementary Note 1](#sm:reg:null_sim)) show that the model is approximately well-calibrated and can correct for LVs with adjacent and highly correlated genes at the top (e.g., Figure @fig:reg:nulls:qqplot:lv234). The simulation also identified 127 LVs in which the model was not well-calibrated (e.g., Figure @fig:reg:nulls:qqplot:lv914). As this can be attributed to limitations in accurately computing a gene correlation matrix, we excluded these LVs from our main analyses.',\n",
       " 'Since we utilized the MultiXcan regression model (Equation (@eq:multixcan)), $\\\\mathbf{R}$ serves as an approximation of gene correlations in S-MultiXcan. As previously discussed, S-MultiXcan approximates the joint regression parameters in MultiXcan by utilizing the marginal regression estimates from S-PrediXcan in Equation (@eq:spredixcan) with certain simplifying assumptions and different genotype covariance matrices. This complicates the process of deriving an S-MultiXcan-specific solution to calculate $\\\\mathbf{R}$. To address this issue, we opted to use a submatrix $\\\\mathbf{R}_{\\\\ell}$ that corresponds to genes exclusively part of latent variable (LV) $\\\\ell$ (top 1% of genes) rather than the entire matrix $\\\\mathbf{R}$. This simplification is considered conservative as it takes into account correlations for only the top genes. Our simulations (see Supplementary Note 1) demonstrate that the model is reasonably well-calibrated and can rectify LVs with neighboring and highly correlated genes at the top (e.g., see Figure @fig:reg:nulls:qqplot:lv234). The simulations also highlighted 127 LVs where the model was not adequately calibrated (e.g., see Figure @fig:reg:nulls:qqplot:lv914). Since this issue may stem from challenges in accurately computing a gene correlation matrix, we excluded these LVs from our primary analyses.')"
      ]
     },
     "metadata": {},
     "output_type": "display_data"
    }
   ],
   "source": [
    "display(paragraph_matches[-1])"
   ]
  },
  {
   "cell_type": "markdown",
   "id": "30c27ed6-5d47-4914-a798-e19235afd800",
   "metadata": {
    "editable": true,
    "papermill": {
     "duration": 0.043029,
     "end_time": "2024-03-23T05:13:14.972296",
     "exception": false,
     "start_time": "2024-03-23T05:13:14.929267",
     "status": "completed"
    },
    "slideshow": {
     "slide_type": ""
    },
    "tags": []
   },
   "source": [
    "####  Paragraph 08"
   ]
  },
  {
   "cell_type": "code",
   "execution_count": 237,
   "id": "3410d456-8d54-41fc-ba5e-8e7c89923dc6",
   "metadata": {
    "execution": {
     "iopub.execute_input": "2024-03-23T05:13:15.060950Z",
     "iopub.status.busy": "2024-03-23T05:13:15.060781Z",
     "iopub.status.idle": "2024-03-23T05:13:15.063769Z",
     "shell.execute_reply": "2024-03-23T05:13:15.063330Z"
    },
    "papermill": {
     "duration": 0.049251,
     "end_time": "2024-03-23T05:13:15.064497",
     "exception": false,
     "start_time": "2024-03-23T05:13:15.015246",
     "status": "completed"
    },
    "tags": []
   },
   "outputs": [
    {
     "name": "stdout",
     "output_type": "stream",
     "text": [
      "For the drug-disease prediction, we derived an LV-based method based on a drug repositioning framework previously used for psychiatry traits [@doi:10.1038/nn.4618], where individual/single genes associated with a trait are anticorrelated with expression profiles for drugs. We compared our LV-based method with this previously published, single-gene approach. For the single-gene method, we computed a drug-disease score by multiplying each S-PrediXcan set of signed $z$-scores in tissue $t$, $\\mathbf{M}^t$, with another set of signed $z$-scores from transcriptional responses profiled in LINCS L1000 [@doi:10.1016/j.cell.2017.10.049], $\\mathbf{L}^{c \\times m}$ (for $c$ compounds). Here $\\mathbf{M}^t$ contains information about whether a higher or lower predicted expression of a gene is associated with disease risk, whereas $\\mathbf{L}$ indicates whether a drug increases or decreases the expression of a gene. Therefore, these two matrices can be multiplied to compute a score for a drug-disease pair. The result of this product is $\\mathbf{D}^{t,k}=-1 \\cdot \\mathbf{M}^{t,k} \\mathbf{L}^\\top$, where $k$ refers to the number of most significant gene associations in $\\mathbf{M}^t$ for each trait. As suggested in [@doi:10.1038/nn.4618], $k$ could be either all genes or the top 50, 100, 250, and 500; then, we averaged score ranks across all $k$ and obtained $\\mathbf{D}^t$. Finally, for each drug-disease pair, we took the maximum prediction score across all tissues: $\\mathbf{D}_{ij} = \\max \\{ \\mathbf{D}_{ij}^t \\mid \\forall t \\}$.\n"
     ]
    }
   ],
   "source": [
    "par0 = process_paragraph(orig_section_paragraphs[43])\n",
    "print(par0)"
   ]
  },
  {
   "cell_type": "code",
   "execution_count": 238,
   "id": "66d483f0-c8f3-4b38-bd1e-f7cd435dd29b",
   "metadata": {
    "execution": {
     "iopub.execute_input": "2024-03-23T05:13:15.151784Z",
     "iopub.status.busy": "2024-03-23T05:13:15.151595Z",
     "iopub.status.idle": "2024-03-23T05:13:15.154721Z",
     "shell.execute_reply": "2024-03-23T05:13:15.154165Z"
    },
    "papermill": {
     "duration": 0.047612,
     "end_time": "2024-03-23T05:13:15.155528",
     "exception": false,
     "start_time": "2024-03-23T05:13:15.107916",
     "status": "completed"
    },
    "tags": []
   },
   "outputs": [
    {
     "name": "stdout",
     "output_type": "stream",
     "text": [
      "For the drug-disease prediction, we developed an LV-based method inspired by a drug repositioning framework previously applied to psychiatry traits (Gandal et al., 2018), where individual genes associated with a trait are negatively correlated with drug expression profiles. Our LV-based method was compared to the single-gene approach described in a study by Subramanian et al. (2017). In the single-gene method, we calculated a drug-disease score by multiplying each S-PrediXcan set of signed z-scores in tissue $t$, denoted as $\\mathbf{M}^t$, with another set of signed z-scores from transcriptional responses profiled in LINCS L1000 (Subramanian et al., 2017), represented as $\\mathbf{L}^{c \\times m}$ (for $c$ compounds). Here, $\\mathbf{M}^t$ indicates whether a higher or lower predicted expression of a gene is linked to disease risk, while $\\mathbf{L}$ shows whether a drug increases or decreases gene expression. These two matrices can be multiplied to derive a score for a drug-disease pair. The resulting product is denoted as $\\mathbf{D}^{t,k}=-1 \\cdot \\mathbf{M}^{t,k} \\mathbf{L}^\\top$, where $k$ represents the number of most significant gene associations in $\\mathbf{M}^t$ for each trait. As suggested by Gandal et al. (2018), $k$ could encompass all genes or the top 50, 100, 250, and 500; subsequently, we averaged score ranks across all $k$ to obtain $\\mathbf{D}^t$. Finally, for each drug-disease pair, we selected the maximum prediction score across all tissues: $\\mathbf{D}_{ij} = \\max \\{ \\mathbf{D}_{ij}^t \\mid \\forall t \\}$.\n"
     ]
    }
   ],
   "source": [
    "par1 = process_paragraph(mod_section_paragraphs[58])\n",
    "print(par1)"
   ]
  },
  {
   "cell_type": "code",
   "execution_count": 239,
   "id": "d434ce38-ba1e-483c-939b-bc2c7d86502c",
   "metadata": {
    "execution": {
     "iopub.execute_input": "2024-03-23T05:13:15.243933Z",
     "iopub.status.busy": "2024-03-23T05:13:15.243589Z",
     "iopub.status.idle": "2024-03-23T05:13:15.246666Z",
     "shell.execute_reply": "2024-03-23T05:13:15.246110Z"
    },
    "papermill": {
     "duration": 0.047964,
     "end_time": "2024-03-23T05:13:15.247460",
     "exception": false,
     "start_time": "2024-03-23T05:13:15.199496",
     "status": "completed"
    },
    "tags": []
   },
   "outputs": [],
   "source": [
    "paragraph_matches.append(\n",
    "    (\n",
    "        section_name,\n",
    "        par0,\n",
    "        par1,\n",
    "    )\n",
    ")"
   ]
  },
  {
   "cell_type": "code",
   "execution_count": 240,
   "id": "e7dc2936-af7e-44f7-9dcf-d67253b15f90",
   "metadata": {
    "execution": {
     "iopub.execute_input": "2024-03-23T05:13:15.334617Z",
     "iopub.status.busy": "2024-03-23T05:13:15.334422Z",
     "iopub.status.idle": "2024-03-23T05:13:15.338271Z",
     "shell.execute_reply": "2024-03-23T05:13:15.337677Z"
    },
    "papermill": {
     "duration": 0.048219,
     "end_time": "2024-03-23T05:13:15.338979",
     "exception": false,
     "start_time": "2024-03-23T05:13:15.290760",
     "status": "completed"
    },
    "tags": []
   },
   "outputs": [
    {
     "data": {
      "text/plain": [
       "('methods',\n",
       " 'For the drug-disease prediction, we derived an LV-based method based on a drug repositioning framework previously used for psychiatry traits [@doi:10.1038/nn.4618], where individual/single genes associated with a trait are anticorrelated with expression profiles for drugs. We compared our LV-based method with this previously published, single-gene approach. For the single-gene method, we computed a drug-disease score by multiplying each S-PrediXcan set of signed $z$-scores in tissue $t$, $\\\\mathbf{M}^t$, with another set of signed $z$-scores from transcriptional responses profiled in LINCS L1000 [@doi:10.1016/j.cell.2017.10.049], $\\\\mathbf{L}^{c \\\\times m}$ (for $c$ compounds). Here $\\\\mathbf{M}^t$ contains information about whether a higher or lower predicted expression of a gene is associated with disease risk, whereas $\\\\mathbf{L}$ indicates whether a drug increases or decreases the expression of a gene. Therefore, these two matrices can be multiplied to compute a score for a drug-disease pair. The result of this product is $\\\\mathbf{D}^{t,k}=-1 \\\\cdot \\\\mathbf{M}^{t,k} \\\\mathbf{L}^\\\\top$, where $k$ refers to the number of most significant gene associations in $\\\\mathbf{M}^t$ for each trait. As suggested in [@doi:10.1038/nn.4618], $k$ could be either all genes or the top 50, 100, 250, and 500; then, we averaged score ranks across all $k$ and obtained $\\\\mathbf{D}^t$. Finally, for each drug-disease pair, we took the maximum prediction score across all tissues: $\\\\mathbf{D}_{ij} = \\\\max \\\\{ \\\\mathbf{D}_{ij}^t \\\\mid \\\\forall t \\\\}$.',\n",
       " 'For the drug-disease prediction, we developed an LV-based method inspired by a drug repositioning framework previously applied to psychiatry traits (Gandal et al., 2018), where individual genes associated with a trait are negatively correlated with drug expression profiles. Our LV-based method was compared to the single-gene approach described in a study by Subramanian et al. (2017). In the single-gene method, we calculated a drug-disease score by multiplying each S-PrediXcan set of signed z-scores in tissue $t$, denoted as $\\\\mathbf{M}^t$, with another set of signed z-scores from transcriptional responses profiled in LINCS L1000 (Subramanian et al., 2017), represented as $\\\\mathbf{L}^{c \\\\times m}$ (for $c$ compounds). Here, $\\\\mathbf{M}^t$ indicates whether a higher or lower predicted expression of a gene is linked to disease risk, while $\\\\mathbf{L}$ shows whether a drug increases or decreases gene expression. These two matrices can be multiplied to derive a score for a drug-disease pair. The resulting product is denoted as $\\\\mathbf{D}^{t,k}=-1 \\\\cdot \\\\mathbf{M}^{t,k} \\\\mathbf{L}^\\\\top$, where $k$ represents the number of most significant gene associations in $\\\\mathbf{M}^t$ for each trait. As suggested by Gandal et al. (2018), $k$ could encompass all genes or the top 50, 100, 250, and 500; subsequently, we averaged score ranks across all $k$ to obtain $\\\\mathbf{D}^t$. Finally, for each drug-disease pair, we selected the maximum prediction score across all tissues: $\\\\mathbf{D}_{ij} = \\\\max \\\\{ \\\\mathbf{D}_{ij}^t \\\\mid \\\\forall t \\\\}$.')"
      ]
     },
     "metadata": {},
     "output_type": "display_data"
    }
   ],
   "source": [
    "display(paragraph_matches[-1])"
   ]
  },
  {
   "cell_type": "markdown",
   "id": "07bdb861-1f65-4b25-9068-00db85b94867",
   "metadata": {
    "editable": true,
    "papermill": {
     "duration": 0.042545,
     "end_time": "2024-03-23T05:13:15.424933",
     "exception": false,
     "start_time": "2024-03-23T05:13:15.382388",
     "status": "completed"
    },
    "slideshow": {
     "slide_type": ""
    },
    "tags": []
   },
   "source": [
    "####  Paragraph 09"
   ]
  },
  {
   "cell_type": "code",
   "execution_count": 241,
   "id": "2ca2548a-d9e7-449d-bcbc-eddcdbf400a3",
   "metadata": {
    "execution": {
     "iopub.execute_input": "2024-03-23T05:13:15.511109Z",
     "iopub.status.busy": "2024-03-23T05:13:15.510896Z",
     "iopub.status.idle": "2024-03-23T05:13:15.514108Z",
     "shell.execute_reply": "2024-03-23T05:13:15.513517Z"
    },
    "papermill": {
     "duration": 0.047169,
     "end_time": "2024-03-23T05:13:15.514868",
     "exception": false,
     "start_time": "2024-03-23T05:13:15.467699",
     "status": "completed"
    },
    "tags": []
   },
   "outputs": [
    {
     "name": "stdout",
     "output_type": "stream",
     "text": [
      "The same procedure was used for the LV-based approach, where we projected $\\mathbf{M}^{t}$ and $\\mathbf{L}$ into the gene module latent space using Equation (@eq:proj), leading to $\\hat{\\mathbf{M}}^t$ and $\\hat{\\mathbf{L}}^{l \\times c}$, respectively. Finally, $\\mathbf{D}^{t,k}=-1 \\cdot \\hat{\\mathbf{L}}^{\\top} \\hat{\\mathbf{M}}^{t,k}$, where in this case $k$ could be all LVs or the top 5, 10, 25 and 50 (since we have an order of magnitude less LVs than genes).\n"
     ]
    }
   ],
   "source": [
    "par0 = process_paragraph(orig_section_paragraphs[44])\n",
    "print(par0)"
   ]
  },
  {
   "cell_type": "code",
   "execution_count": 242,
   "id": "8424f98a-ca80-42a4-89e2-22d15ff0718b",
   "metadata": {
    "execution": {
     "iopub.execute_input": "2024-03-23T05:13:15.602016Z",
     "iopub.status.busy": "2024-03-23T05:13:15.601527Z",
     "iopub.status.idle": "2024-03-23T05:13:15.604826Z",
     "shell.execute_reply": "2024-03-23T05:13:15.604255Z"
    },
    "papermill": {
     "duration": 0.047436,
     "end_time": "2024-03-23T05:13:15.605549",
     "exception": false,
     "start_time": "2024-03-23T05:13:15.558113",
     "status": "completed"
    },
    "tags": []
   },
   "outputs": [
    {
     "name": "stdout",
     "output_type": "stream",
     "text": [
      "The same procedure was utilized for the latent variable (LV)-based approach, in which we projected the matrices $\\mathbf{M}^{t}$ and $\\mathbf{L}$ into the gene module latent space using Equation (@eq:proj). This projection resulted in the matrices $\\hat{\\mathbf{M}}^t$ and $\\hat{\\mathbf{L}}^{l \\times c}$, respectively. Subsequently, we calculated $\\mathbf{D}^{t,k}=-1 \\cdot \\hat{\\mathbf{L}}^{\\top} \\hat{\\mathbf{M}}^{t,k}$, where in this scenario, $k$ could represent all LVs or the top 5, 10, 25, and 50 (given that we have approximately ten times fewer LVs than genes).\n"
     ]
    }
   ],
   "source": [
    "par1 = process_paragraph(mod_section_paragraphs[59])\n",
    "print(par1)"
   ]
  },
  {
   "cell_type": "code",
   "execution_count": 243,
   "id": "071bb2cf-5a25-4f9d-a58b-e115bf133042",
   "metadata": {
    "execution": {
     "iopub.execute_input": "2024-03-23T05:13:15.692716Z",
     "iopub.status.busy": "2024-03-23T05:13:15.692508Z",
     "iopub.status.idle": "2024-03-23T05:13:15.695402Z",
     "shell.execute_reply": "2024-03-23T05:13:15.694835Z"
    },
    "papermill": {
     "duration": 0.047079,
     "end_time": "2024-03-23T05:13:15.696174",
     "exception": false,
     "start_time": "2024-03-23T05:13:15.649095",
     "status": "completed"
    },
    "tags": []
   },
   "outputs": [],
   "source": [
    "paragraph_matches.append(\n",
    "    (\n",
    "        section_name,\n",
    "        par0,\n",
    "        par1,\n",
    "    )\n",
    ")"
   ]
  },
  {
   "cell_type": "code",
   "execution_count": 244,
   "id": "f703df9a-0643-4ad5-85ed-5e9229c4f728",
   "metadata": {
    "execution": {
     "iopub.execute_input": "2024-03-23T05:13:15.783053Z",
     "iopub.status.busy": "2024-03-23T05:13:15.782858Z",
     "iopub.status.idle": "2024-03-23T05:13:15.786662Z",
     "shell.execute_reply": "2024-03-23T05:13:15.786105Z"
    },
    "papermill": {
     "duration": 0.048369,
     "end_time": "2024-03-23T05:13:15.787485",
     "exception": false,
     "start_time": "2024-03-23T05:13:15.739116",
     "status": "completed"
    },
    "tags": []
   },
   "outputs": [
    {
     "data": {
      "text/plain": [
       "('methods',\n",
       " 'The same procedure was used for the LV-based approach, where we projected $\\\\mathbf{M}^{t}$ and $\\\\mathbf{L}$ into the gene module latent space using Equation (@eq:proj), leading to $\\\\hat{\\\\mathbf{M}}^t$ and $\\\\hat{\\\\mathbf{L}}^{l \\\\times c}$, respectively. Finally, $\\\\mathbf{D}^{t,k}=-1 \\\\cdot \\\\hat{\\\\mathbf{L}}^{\\\\top} \\\\hat{\\\\mathbf{M}}^{t,k}$, where in this case $k$ could be all LVs or the top 5, 10, 25 and 50 (since we have an order of magnitude less LVs than genes).',\n",
       " 'The same procedure was utilized for the latent variable (LV)-based approach, in which we projected the matrices $\\\\mathbf{M}^{t}$ and $\\\\mathbf{L}$ into the gene module latent space using Equation (@eq:proj). This projection resulted in the matrices $\\\\hat{\\\\mathbf{M}}^t$ and $\\\\hat{\\\\mathbf{L}}^{l \\\\times c}$, respectively. Subsequently, we calculated $\\\\mathbf{D}^{t,k}=-1 \\\\cdot \\\\hat{\\\\mathbf{L}}^{\\\\top} \\\\hat{\\\\mathbf{M}}^{t,k}$, where in this scenario, $k$ could represent all LVs or the top 5, 10, 25, and 50 (given that we have approximately ten times fewer LVs than genes).')"
      ]
     },
     "metadata": {},
     "output_type": "display_data"
    }
   ],
   "source": [
    "display(paragraph_matches[-1])"
   ]
  },
  {
   "cell_type": "markdown",
   "id": "a0052547-f9d1-467a-ab60-153cf8f714c6",
   "metadata": {
    "editable": true,
    "papermill": {
     "duration": 0.043331,
     "end_time": "2024-03-23T05:13:15.874327",
     "exception": false,
     "start_time": "2024-03-23T05:13:15.830996",
     "status": "completed"
    },
    "slideshow": {
     "slide_type": ""
    },
    "tags": []
   },
   "source": [
    "####  Paragraph 10"
   ]
  },
  {
   "cell_type": "code",
   "execution_count": 245,
   "id": "1a0fb39c-c57d-430c-abf3-5432c15011f9",
   "metadata": {
    "execution": {
     "iopub.execute_input": "2024-03-23T05:13:15.961105Z",
     "iopub.status.busy": "2024-03-23T05:13:15.960906Z",
     "iopub.status.idle": "2024-03-23T05:13:15.964137Z",
     "shell.execute_reply": "2024-03-23T05:13:15.963567Z"
    },
    "papermill": {
     "duration": 0.047508,
     "end_time": "2024-03-23T05:13:15.964938",
     "exception": false,
     "start_time": "2024-03-23T05:13:15.917430",
     "status": "completed"
    },
    "tags": []
   },
   "outputs": [
    {
     "name": "stdout",
     "output_type": "stream",
     "text": [
      "We performed two preprocessing steps on the S-MultiXcan results before the cluster analysis. First, we combined results in $\\mathbf{M}$ (with $p$-values converted to $z$-scores, as described before) for traits that mapped to the same Experimental Factor Ontology (EFO) [@doi:10.1093/bioinformatics/btq099] term using the Stouffer's method: $\\sum w_i M_{ij} / \\sqrt{\\sum w_i^2}$, where $w_i$ is a weight based on the GWAS sample size for trait $i$, and $M_{ij}$ is the $z$-score for gene $j$. Second, we divided all $z$-scores for each trait $i$ by their sum to reduce the effect of highly polygenic traits: $M_{ij} / \\sum M_{ij}$. Finally, we projected this data matrix using Equation (@eq:proj), obtaining $\\hat{\\mathbf{M}}$ with $n$=3,752 traits and $l$=987 LVs as the input of our clustering pipeline.\n"
     ]
    }
   ],
   "source": [
    "par0 = process_paragraph(orig_section_paragraphs[47])\n",
    "print(par0)"
   ]
  },
  {
   "cell_type": "code",
   "execution_count": 246,
   "id": "dd6a862a-5eb3-4846-bc18-098315165445",
   "metadata": {
    "execution": {
     "iopub.execute_input": "2024-03-23T05:13:16.057024Z",
     "iopub.status.busy": "2024-03-23T05:13:16.056814Z",
     "iopub.status.idle": "2024-03-23T05:13:16.060521Z",
     "shell.execute_reply": "2024-03-23T05:13:16.059952Z"
    },
    "papermill": {
     "duration": 0.052885,
     "end_time": "2024-03-23T05:13:16.061319",
     "exception": false,
     "start_time": "2024-03-23T05:13:16.008434",
     "status": "completed"
    },
    "tags": []
   },
   "outputs": [
    {
     "name": "stdout",
     "output_type": "stream",
     "text": [
      "We performed two preprocessing steps on the S-MultiXcan results before the cluster analysis. First, we combined results in $\\mathbf{M}$ (with $p$-values converted to $z$-scores, as described before) for traits that mapped to the same Experimental Factor Ontology (EFO) [@doi:10.1093/bioinformatics/btq099] term using the Stouffer's method: \n",
      "$$\n",
      "\\sum w_i M_{ij} / \\sqrt{\\sum w_i^2} \n",
      "$$\n",
      "where $w_i$ is a weight based on the GWAS sample size for trait $i$, and $M_{ij}$ is the $z$-score for gene $j$. Second, we divided all $z$-scores for each trait $i$ by their sum to reduce the effect of highly polygenic traits: \n",
      "$$\n",
      "M_{ij} / \\sum M_{ij} \n",
      "$$\n"
     ]
    }
   ],
   "source": [
    "par1 = (\n",
    "    process_paragraph(mod_section_paragraphs[63:67])\n",
    "    .replace(\"$$\", \"\\n$$\")\n",
    "    .replace(\"$$ \\\\\", \"$$\\n\\\\\")\n",
    "    .replace(\"$$ where\", \"$$\\nwhere\")\n",
    "    .replace(\"$$ M\", \"$$\\nM\")\n",
    ")\n",
    "print(par1)"
   ]
  },
  {
   "cell_type": "code",
   "execution_count": 247,
   "id": "8d2e1b7c-6569-49da-81c7-e3bd6d2e80a9",
   "metadata": {
    "execution": {
     "iopub.execute_input": "2024-03-23T05:13:16.150150Z",
     "iopub.status.busy": "2024-03-23T05:13:16.149867Z",
     "iopub.status.idle": "2024-03-23T05:13:16.152465Z",
     "shell.execute_reply": "2024-03-23T05:13:16.151905Z"
    },
    "papermill": {
     "duration": 0.047787,
     "end_time": "2024-03-23T05:13:16.153195",
     "exception": false,
     "start_time": "2024-03-23T05:13:16.105408",
     "status": "completed"
    },
    "tags": []
   },
   "outputs": [],
   "source": [
    "paragraph_matches.append(\n",
    "    (\n",
    "        section_name,\n",
    "        par0,\n",
    "        par1,\n",
    "    )\n",
    ")"
   ]
  },
  {
   "cell_type": "code",
   "execution_count": 248,
   "id": "98630379-9f40-4ebf-add8-43c2c40584cb",
   "metadata": {
    "execution": {
     "iopub.execute_input": "2024-03-23T05:13:16.246074Z",
     "iopub.status.busy": "2024-03-23T05:13:16.245776Z",
     "iopub.status.idle": "2024-03-23T05:13:16.249045Z",
     "shell.execute_reply": "2024-03-23T05:13:16.248489Z"
    },
    "papermill": {
     "duration": 0.048044,
     "end_time": "2024-03-23T05:13:16.249844",
     "exception": false,
     "start_time": "2024-03-23T05:13:16.201800",
     "status": "completed"
    },
    "tags": []
   },
   "outputs": [
    {
     "data": {
      "text/plain": [
       "('methods',\n",
       " \"We performed two preprocessing steps on the S-MultiXcan results before the cluster analysis. First, we combined results in $\\\\mathbf{M}$ (with $p$-values converted to $z$-scores, as described before) for traits that mapped to the same Experimental Factor Ontology (EFO) [@doi:10.1093/bioinformatics/btq099] term using the Stouffer's method: $\\\\sum w_i M_{ij} / \\\\sqrt{\\\\sum w_i^2}$, where $w_i$ is a weight based on the GWAS sample size for trait $i$, and $M_{ij}$ is the $z$-score for gene $j$. Second, we divided all $z$-scores for each trait $i$ by their sum to reduce the effect of highly polygenic traits: $M_{ij} / \\\\sum M_{ij}$. Finally, we projected this data matrix using Equation (@eq:proj), obtaining $\\\\hat{\\\\mathbf{M}}$ with $n$=3,752 traits and $l$=987 LVs as the input of our clustering pipeline.\",\n",
       " \"We performed two preprocessing steps on the S-MultiXcan results before the cluster analysis. First, we combined results in $\\\\mathbf{M}$ (with $p$-values converted to $z$-scores, as described before) for traits that mapped to the same Experimental Factor Ontology (EFO) [@doi:10.1093/bioinformatics/btq099] term using the Stouffer's method: \\n$$\\n\\\\sum w_i M_{ij} / \\\\sqrt{\\\\sum w_i^2} \\n$$\\nwhere $w_i$ is a weight based on the GWAS sample size for trait $i$, and $M_{ij}$ is the $z$-score for gene $j$. Second, we divided all $z$-scores for each trait $i$ by their sum to reduce the effect of highly polygenic traits: \\n$$\\nM_{ij} / \\\\sum M_{ij} \\n$$\")"
      ]
     },
     "metadata": {},
     "output_type": "display_data"
    }
   ],
   "source": [
    "display(paragraph_matches[-1])"
   ]
  },
  {
   "cell_type": "markdown",
   "id": "b097a7b5-433c-4354-9a0e-46d324eb43c5",
   "metadata": {
    "editable": true,
    "papermill": {
     "duration": 0.044051,
     "end_time": "2024-03-23T05:13:16.337906",
     "exception": false,
     "start_time": "2024-03-23T05:13:16.293855",
     "status": "completed"
    },
    "slideshow": {
     "slide_type": ""
    },
    "tags": []
   },
   "source": [
    "####  Paragraph 11"
   ]
  },
  {
   "cell_type": "code",
   "execution_count": 249,
   "id": "d8d1aeb7-f731-4d87-9f1f-6510b39b17d0",
   "metadata": {
    "execution": {
     "iopub.execute_input": "2024-03-23T05:13:16.427341Z",
     "iopub.status.busy": "2024-03-23T05:13:16.427191Z",
     "iopub.status.idle": "2024-03-23T05:13:16.429603Z",
     "shell.execute_reply": "2024-03-23T05:13:16.429305Z"
    },
    "papermill": {
     "duration": 0.048978,
     "end_time": "2024-03-23T05:13:16.430278",
     "exception": false,
     "start_time": "2024-03-23T05:13:16.381300",
     "status": "completed"
    },
    "tags": []
   },
   "outputs": [
    {
     "name": "stdout",
     "output_type": "stream",
     "text": [
      "A partitioning of $\\hat{\\mathbf{M}}$ with $n$ traits into $k$ clusters is represented as a label vector $\\pi \\in \\mathbb{N}^n$. Consensus clustering approaches consist of two steps: 1) the generation of an ensemble $\\Pi$ with $r$ partitions of the dataset: $\\Pi=\\{\\pi_1, \\pi_2, \\ldots, \\pi_r\\}$, and 2) the combination of the ensemble into a consolidated solution defined as: \n",
      "$$\n",
      "\\pi^* = \\mathrm{arg}\\,\\underset{\\hat{\\pi}}{\\max} Q(\\{ \\lvert \\mathcal{L}^i \\lvert \\phi(\\hat{\\pi}_{\\mathcal{L}^i}, \\pi_{i \\mathcal{L}^i}) \\mid i \\in \\{1,\\ldots,r\\} \\}), \n",
      "$$ {#eq:consensus:obj_func}\n",
      "where $\\mathcal{L}^i$ is a set of data indices with known cluster labels for partition $i$, $\\phi\\colon \\mathbb{N}^n \\times \\mathbb{N}^n \\to \\mathbb{R}$ is a function that measures the similarity between two partitions, and $Q$ is a measure of central tendency, such as the mean or median. We used the adjusted Rand index (ARI) [@doi:10.1007/BF01908075] for $\\phi$ and the median for $Q$. To obtain $\\pi^*$, we define a consensus function $\\Gamma\\colon \\mathbb{N}^{n \\times r} \\to \\mathbb{N}^n$ with $\\Pi$ as the input. We used consensus functions based on the evidence accumulation clustering (EAC) paradigm [@doi:10.1109/TPAMI.2005.113], where $\\Pi$ is first transformed into a distance matrix $\\mathbf{D}_{ij} = d_{ij} / r$, where $d_{ij}$ is the number of times traits $i$ and $j$ were grouped in different clusters across all $r$ partitions in $\\Pi$. Then, $\\Gamma$ can be any similarity-based clustering algorithm, which is applied on $\\mathbf{D}$ to derive the final partition $\\pi^*$.\n"
     ]
    }
   ],
   "source": [
    "par0 = (\n",
    "    process_paragraph(orig_section_paragraphs[48:51])\n",
    "    .replace(\"$$\", \"\\n$$\")\n",
    "    .replace(\"$$ \\\\\", \"$$\\n\\\\\")\n",
    "    .replace(\":obj_func} where\", \":obj_func}\\nwhere\")\n",
    ")\n",
    "print(par0)"
   ]
  },
  {
   "cell_type": "code",
   "execution_count": 250,
   "id": "a94a22c2-9c56-4ee7-b320-084f76b23f82",
   "metadata": {
    "execution": {
     "iopub.execute_input": "2024-03-23T05:13:16.518631Z",
     "iopub.status.busy": "2024-03-23T05:13:16.518272Z",
     "iopub.status.idle": "2024-03-23T05:13:16.521643Z",
     "shell.execute_reply": "2024-03-23T05:13:16.521200Z"
    },
    "papermill": {
     "duration": 0.048114,
     "end_time": "2024-03-23T05:13:16.522344",
     "exception": false,
     "start_time": "2024-03-23T05:13:16.474230",
     "status": "completed"
    },
    "tags": []
   },
   "outputs": [
    {
     "name": "stdout",
     "output_type": "stream",
     "text": [
      "A partitioning of $\\hat{\\mathbf{M}}$ with $n$ traits into $k$ clusters is represented as a label vector $\\pi \\in \\mathbb{N}^n$. Consensus clustering approaches consist of two steps: 1) the generation of an ensemble $\\Pi$ with $r$ partitions of the dataset: $\\Pi=\\{\\pi_1, \\pi_2, \\ldots, \\pi_r\\}$, and 2) the combination of the ensemble into a consolidated solution defined as: \n",
      "$$\n",
      "\\pi^* = \\mathrm{arg}\\,\\underset{\\hat{\\pi}}{\\max} Q(\\{ \\lvert \\mathcal{L}^i \\lvert \\phi(\\hat{\\pi}_{\\mathcal{L}^i}, \\pi_{i \\mathcal{L}^i}) \\mid i \\in \\{1,\\ldots,r\\} \\}), \n",
      "$$ {#eq:consensus:obj_func}\n",
      "where $\\mathcal{L}^i$ is a set of data indices with known cluster labels for partition $i$, $\\phi\\colon \\mathbb{N}^n \\times \\mathbb{N}^n \\to \\mathbb{R}$ is a function that measures the similarity between two partitions, and $Q$ is a measure of central tendency, such as the mean or median. The adjusted Rand index (ARI) [@doi:10.1007/BF01908075] is used for $\\phi$, and the median is used for $Q$. To obtain $\\pi^*$, a consensus function $\\Gamma\\colon \\mathbb{N}^{n \\times r} \\to \\mathbb{N}^n$ is defined with $\\Pi$ as the input. Consensus functions based on the evidence accumulation clustering (EAC) paradigm [@doi:10.1109/TPAMI.2005.113] are employed, where $\\Pi$ is first transformed into a distance matrix $\\mathbf{D}_{ij} = d_{ij} / r$, with $d_{ij}$ representing the number of times traits $i$ and $j$ were grouped in different clusters across all $r$ partitions in $\\Pi$. Subsequently, $\\Gamma$ can be any similarity-based clustering algorithm applied to $\\mathbf{D}$ to derive the final partition $\\pi^*$.\n"
     ]
    }
   ],
   "source": [
    "par1 = (\n",
    "    process_paragraph(mod_section_paragraphs[68:71])\n",
    "    .replace(\"$$\", \"\\n$$\")\n",
    "    .replace(\"$$ \\\\\", \"$$\\n\\\\\")\n",
    "    .replace(\":obj_func} where\", \":obj_func}\\nwhere\")\n",
    ")\n",
    "print(par1)"
   ]
  },
  {
   "cell_type": "code",
   "execution_count": 251,
   "id": "724e42e5-6f5f-4b1d-a1d3-2eb89e759ddd",
   "metadata": {
    "execution": {
     "iopub.execute_input": "2024-03-23T05:13:16.611085Z",
     "iopub.status.busy": "2024-03-23T05:13:16.610713Z",
     "iopub.status.idle": "2024-03-23T05:13:16.613299Z",
     "shell.execute_reply": "2024-03-23T05:13:16.612854Z"
    },
    "papermill": {
     "duration": 0.047978,
     "end_time": "2024-03-23T05:13:16.613967",
     "exception": false,
     "start_time": "2024-03-23T05:13:16.565989",
     "status": "completed"
    },
    "tags": []
   },
   "outputs": [],
   "source": [
    "paragraph_matches.append(\n",
    "    (\n",
    "        section_name,\n",
    "        par0,\n",
    "        par1,\n",
    "    )\n",
    ")"
   ]
  },
  {
   "cell_type": "code",
   "execution_count": 252,
   "id": "0a0499e5-8a18-4646-b81c-218a59647219",
   "metadata": {
    "execution": {
     "iopub.execute_input": "2024-03-23T05:13:16.701908Z",
     "iopub.status.busy": "2024-03-23T05:13:16.701490Z",
     "iopub.status.idle": "2024-03-23T05:13:16.705462Z",
     "shell.execute_reply": "2024-03-23T05:13:16.704867Z"
    },
    "papermill": {
     "duration": 0.04869,
     "end_time": "2024-03-23T05:13:16.706147",
     "exception": false,
     "start_time": "2024-03-23T05:13:16.657457",
     "status": "completed"
    },
    "tags": []
   },
   "outputs": [
    {
     "data": {
      "text/plain": [
       "('methods',\n",
       " 'A partitioning of $\\\\hat{\\\\mathbf{M}}$ with $n$ traits into $k$ clusters is represented as a label vector $\\\\pi \\\\in \\\\mathbb{N}^n$. Consensus clustering approaches consist of two steps: 1) the generation of an ensemble $\\\\Pi$ with $r$ partitions of the dataset: $\\\\Pi=\\\\{\\\\pi_1, \\\\pi_2, \\\\ldots, \\\\pi_r\\\\}$, and 2) the combination of the ensemble into a consolidated solution defined as: \\n$$\\n\\\\pi^* = \\\\mathrm{arg}\\\\,\\\\underset{\\\\hat{\\\\pi}}{\\\\max} Q(\\\\{ \\\\lvert \\\\mathcal{L}^i \\\\lvert \\\\phi(\\\\hat{\\\\pi}_{\\\\mathcal{L}^i}, \\\\pi_{i \\\\mathcal{L}^i}) \\\\mid i \\\\in \\\\{1,\\\\ldots,r\\\\} \\\\}), \\n$$ {#eq:consensus:obj_func}\\nwhere $\\\\mathcal{L}^i$ is a set of data indices with known cluster labels for partition $i$, $\\\\phi\\\\colon \\\\mathbb{N}^n \\\\times \\\\mathbb{N}^n \\\\to \\\\mathbb{R}$ is a function that measures the similarity between two partitions, and $Q$ is a measure of central tendency, such as the mean or median. We used the adjusted Rand index (ARI) [@doi:10.1007/BF01908075] for $\\\\phi$ and the median for $Q$. To obtain $\\\\pi^*$, we define a consensus function $\\\\Gamma\\\\colon \\\\mathbb{N}^{n \\\\times r} \\\\to \\\\mathbb{N}^n$ with $\\\\Pi$ as the input. We used consensus functions based on the evidence accumulation clustering (EAC) paradigm [@doi:10.1109/TPAMI.2005.113], where $\\\\Pi$ is first transformed into a distance matrix $\\\\mathbf{D}_{ij} = d_{ij} / r$, where $d_{ij}$ is the number of times traits $i$ and $j$ were grouped in different clusters across all $r$ partitions in $\\\\Pi$. Then, $\\\\Gamma$ can be any similarity-based clustering algorithm, which is applied on $\\\\mathbf{D}$ to derive the final partition $\\\\pi^*$.',\n",
       " 'A partitioning of $\\\\hat{\\\\mathbf{M}}$ with $n$ traits into $k$ clusters is represented as a label vector $\\\\pi \\\\in \\\\mathbb{N}^n$. Consensus clustering approaches consist of two steps: 1) the generation of an ensemble $\\\\Pi$ with $r$ partitions of the dataset: $\\\\Pi=\\\\{\\\\pi_1, \\\\pi_2, \\\\ldots, \\\\pi_r\\\\}$, and 2) the combination of the ensemble into a consolidated solution defined as: \\n$$\\n\\\\pi^* = \\\\mathrm{arg}\\\\,\\\\underset{\\\\hat{\\\\pi}}{\\\\max} Q(\\\\{ \\\\lvert \\\\mathcal{L}^i \\\\lvert \\\\phi(\\\\hat{\\\\pi}_{\\\\mathcal{L}^i}, \\\\pi_{i \\\\mathcal{L}^i}) \\\\mid i \\\\in \\\\{1,\\\\ldots,r\\\\} \\\\}), \\n$$ {#eq:consensus:obj_func}\\nwhere $\\\\mathcal{L}^i$ is a set of data indices with known cluster labels for partition $i$, $\\\\phi\\\\colon \\\\mathbb{N}^n \\\\times \\\\mathbb{N}^n \\\\to \\\\mathbb{R}$ is a function that measures the similarity between two partitions, and $Q$ is a measure of central tendency, such as the mean or median. The adjusted Rand index (ARI) [@doi:10.1007/BF01908075] is used for $\\\\phi$, and the median is used for $Q$. To obtain $\\\\pi^*$, a consensus function $\\\\Gamma\\\\colon \\\\mathbb{N}^{n \\\\times r} \\\\to \\\\mathbb{N}^n$ is defined with $\\\\Pi$ as the input. Consensus functions based on the evidence accumulation clustering (EAC) paradigm [@doi:10.1109/TPAMI.2005.113] are employed, where $\\\\Pi$ is first transformed into a distance matrix $\\\\mathbf{D}_{ij} = d_{ij} / r$, with $d_{ij}$ representing the number of times traits $i$ and $j$ were grouped in different clusters across all $r$ partitions in $\\\\Pi$. Subsequently, $\\\\Gamma$ can be any similarity-based clustering algorithm applied to $\\\\mathbf{D}$ to derive the final partition $\\\\pi^*$.')"
      ]
     },
     "metadata": {},
     "output_type": "display_data"
    }
   ],
   "source": [
    "display(paragraph_matches[-1])"
   ]
  },
  {
   "cell_type": "markdown",
   "id": "cdf9073f-9cbf-4fcb-b5c1-92a102b7331f",
   "metadata": {
    "editable": true,
    "papermill": {
     "duration": 0.043469,
     "end_time": "2024-03-23T05:13:16.793689",
     "exception": false,
     "start_time": "2024-03-23T05:13:16.750220",
     "status": "completed"
    },
    "slideshow": {
     "slide_type": ""
    },
    "tags": []
   },
   "source": [
    "####  Paragraph 12"
   ]
  },
  {
   "cell_type": "code",
   "execution_count": 253,
   "id": "86b9d139-68d5-4567-91a2-6ec579fcc59d",
   "metadata": {
    "execution": {
     "iopub.execute_input": "2024-03-23T05:13:16.909309Z",
     "iopub.status.busy": "2024-03-23T05:13:16.908925Z",
     "iopub.status.idle": "2024-03-23T05:13:16.912240Z",
     "shell.execute_reply": "2024-03-23T05:13:16.911675Z"
    },
    "papermill": {
     "duration": 0.047905,
     "end_time": "2024-03-23T05:13:16.912904",
     "exception": false,
     "start_time": "2024-03-23T05:13:16.864999",
     "status": "completed"
    },
    "tags": []
   },
   "outputs": [
    {
     "name": "stdout",
     "output_type": "stream",
     "text": [
      "For the ensemble generation step, we used different algorithms to create a highly diverse set of partitions (see Figure @fig:clustering:design) since diversity is an important property for ensembles [@doi:10.1016/j.ins.2016.04.027; @doi:10.1109/TPAMI.2011.84; @doi:10.1016/j.patcog.2014.04.005]. We used three data representations: the raw dataset, its projection into the top 50 principal components, and the embedding learned by UMAP [@arxiv:1802.03426] using 50 components. For each of these, we applied five clustering algorithms covering a wide range of different assumptions on the data structure: $k$-means [@Arthur2007], spectral clustering [@Ng2001], a Gaussian mixture model (GMM), hierarchical clustering, and DBSCAN [@Ester1996]. For $k$-means, spectral clustering and GMM, we specified a range of $k$ between 2 and $\\sqrt{n} \\approx 60$, and for each $k$ we generated five partitions using random seeds. For hierarchical clustering, for each $k$, we generated four partitions using common linkage criteria: ward, complete, average and single. For DBSCAN, we combined different ranges for parameters $\\epsilon$ (the maximum distance between two data points to be considered part of the same neighborhood) and *minPts* (the minimum number of data points in a neighborhood for a data point to be considered a core point), based on the procedure in [@doi:10.1088/1755-1315/31/1/012012]. Specifically, we used *minPts* values from 2 to 125. For each data representation (raw, PCA and UMAP), we determined a plausible range of $\\epsilon$ values by observing the distribution of the mean distance of the *minPts*-nearest neighbors across all data points. Since some combinations of *minPts* and $\\epsilon$ might not produce a meaningful partition (for instance, when all points are detected as noisy or only one cluster is found), we resampled partitions generated by DBSCAN to ensure an equal representation of this algorithm in the ensemble. This procedure generated a final ensemble of 4,428 partitions of 3,752 traits.\n"
     ]
    }
   ],
   "source": [
    "par0 = process_paragraph(orig_section_paragraphs[51])\n",
    "print(par0)"
   ]
  },
  {
   "cell_type": "code",
   "execution_count": 254,
   "id": "628caf2d-ff8b-498c-b84b-ea08ecc8f1e8",
   "metadata": {
    "execution": {
     "iopub.execute_input": "2024-03-23T05:13:17.001190Z",
     "iopub.status.busy": "2024-03-23T05:13:17.000798Z",
     "iopub.status.idle": "2024-03-23T05:13:17.004339Z",
     "shell.execute_reply": "2024-03-23T05:13:17.003824Z"
    },
    "papermill": {
     "duration": 0.048224,
     "end_time": "2024-03-23T05:13:17.005002",
     "exception": false,
     "start_time": "2024-03-23T05:13:16.956778",
     "status": "completed"
    },
    "tags": []
   },
   "outputs": [
    {
     "name": "stdout",
     "output_type": "stream",
     "text": [
      "For the ensemble generation step, we utilized various algorithms to create a highly diverse set of partitions (see Figure 1) since diversity is a crucial property for ensembles (Li et al., 2016; Zhang et al., 2011; Wang et al., 2014). We employed three data representations: the raw dataset, its projection into the top 50 principal components, and the embedding learned by UMAP (McInnes et al., 2018) using 50 components. For each of these, we applied five clustering algorithms covering a wide range of different assumptions on the data structure: k-means (Arthur & Vassilvitskii, 2007), spectral clustering (Ng et al., 2001), a Gaussian mixture model (GMM), hierarchical clustering, and DBSCAN (Ester et al., 1996). \n",
      "$$\n",
      "k: \\text{Number of clusters} \n",
      "$$\n",
      "\n",
      "$$\n",
      "\\epsilon: \\text{Maximum distance between two data points} \n",
      "$$\n",
      "\n",
      "$$\n",
      "minPts: \\text{Minimum number of data points in a neighborhood} \n",
      "$$\n",
      "For k-means, spectral clustering, and GMM, we specified a range of k between 2 and √n ≈ 60, and for each k, we generated five partitions using random seeds. For hierarchical clustering, for each k, we generated four partitions using common linkage criteria: ward, complete, average, and single. For DBSCAN, we combined different ranges for parameters ε and minPts, based on the procedure in (Ester et al., 1996). Specifically, we used minPts values from 2 to 125. For each data representation (raw, PCA, and UMAP), we determined a plausible range of ε values by observing the distribution of the mean distance of the minPts-nearest neighbors across all data points. Since some combinations of minPts and ε might not produce a meaningful partition (for instance, when all points are detected as noisy or only one cluster is found), we resampled partitions generated by DBSCAN to ensure an equal representation of this algorithm in the ensemble. This procedure generated a final ensemble of 4,428 partitions of 3,752 traits.\n"
     ]
    }
   ],
   "source": [
    "par1 = (\n",
    "    process_paragraph(mod_section_paragraphs[71:76])\n",
    "    .replace(\"$$\", \"\\n$$\")\n",
    "    .replace(\"$$ \", \"$$\\n\")\n",
    "    # .replace(\":obj_func} where\", \":obj_func}\\nwhere\")\n",
    ")\n",
    "print(par1)"
   ]
  },
  {
   "cell_type": "code",
   "execution_count": 255,
   "id": "b46c2e64-da2b-4f4a-af5b-c190d53dee2c",
   "metadata": {
    "execution": {
     "iopub.execute_input": "2024-03-23T05:13:17.092883Z",
     "iopub.status.busy": "2024-03-23T05:13:17.092646Z",
     "iopub.status.idle": "2024-03-23T05:13:17.095429Z",
     "shell.execute_reply": "2024-03-23T05:13:17.094870Z"
    },
    "papermill": {
     "duration": 0.047675,
     "end_time": "2024-03-23T05:13:17.096141",
     "exception": false,
     "start_time": "2024-03-23T05:13:17.048466",
     "status": "completed"
    },
    "tags": []
   },
   "outputs": [],
   "source": [
    "paragraph_matches.append(\n",
    "    (\n",
    "        section_name,\n",
    "        par0,\n",
    "        par1,\n",
    "    )\n",
    ")"
   ]
  },
  {
   "cell_type": "code",
   "execution_count": 256,
   "id": "8d7eec5b-1e20-45ff-b603-bcabf45b0430",
   "metadata": {
    "execution": {
     "iopub.execute_input": "2024-03-23T05:13:17.184873Z",
     "iopub.status.busy": "2024-03-23T05:13:17.184577Z",
     "iopub.status.idle": "2024-03-23T05:13:17.188249Z",
     "shell.execute_reply": "2024-03-23T05:13:17.187771Z"
    },
    "papermill": {
     "duration": 0.048929,
     "end_time": "2024-03-23T05:13:17.189039",
     "exception": false,
     "start_time": "2024-03-23T05:13:17.140110",
     "status": "completed"
    },
    "tags": []
   },
   "outputs": [
    {
     "data": {
      "text/plain": [
       "('methods',\n",
       " 'For the ensemble generation step, we used different algorithms to create a highly diverse set of partitions (see Figure @fig:clustering:design) since diversity is an important property for ensembles [@doi:10.1016/j.ins.2016.04.027; @doi:10.1109/TPAMI.2011.84; @doi:10.1016/j.patcog.2014.04.005]. We used three data representations: the raw dataset, its projection into the top 50 principal components, and the embedding learned by UMAP [@arxiv:1802.03426] using 50 components. For each of these, we applied five clustering algorithms covering a wide range of different assumptions on the data structure: $k$-means [@Arthur2007], spectral clustering [@Ng2001], a Gaussian mixture model (GMM), hierarchical clustering, and DBSCAN [@Ester1996]. For $k$-means, spectral clustering and GMM, we specified a range of $k$ between 2 and $\\\\sqrt{n} \\\\approx 60$, and for each $k$ we generated five partitions using random seeds. For hierarchical clustering, for each $k$, we generated four partitions using common linkage criteria: ward, complete, average and single. For DBSCAN, we combined different ranges for parameters $\\\\epsilon$ (the maximum distance between two data points to be considered part of the same neighborhood) and *minPts* (the minimum number of data points in a neighborhood for a data point to be considered a core point), based on the procedure in [@doi:10.1088/1755-1315/31/1/012012]. Specifically, we used *minPts* values from 2 to 125. For each data representation (raw, PCA and UMAP), we determined a plausible range of $\\\\epsilon$ values by observing the distribution of the mean distance of the *minPts*-nearest neighbors across all data points. Since some combinations of *minPts* and $\\\\epsilon$ might not produce a meaningful partition (for instance, when all points are detected as noisy or only one cluster is found), we resampled partitions generated by DBSCAN to ensure an equal representation of this algorithm in the ensemble. This procedure generated a final ensemble of 4,428 partitions of 3,752 traits.',\n",
       " 'For the ensemble generation step, we utilized various algorithms to create a highly diverse set of partitions (see Figure 1) since diversity is a crucial property for ensembles (Li et al., 2016; Zhang et al., 2011; Wang et al., 2014). We employed three data representations: the raw dataset, its projection into the top 50 principal components, and the embedding learned by UMAP (McInnes et al., 2018) using 50 components. For each of these, we applied five clustering algorithms covering a wide range of different assumptions on the data structure: k-means (Arthur & Vassilvitskii, 2007), spectral clustering (Ng et al., 2001), a Gaussian mixture model (GMM), hierarchical clustering, and DBSCAN (Ester et al., 1996). \\n$$\\nk: \\\\text{Number of clusters} \\n$$\\n\\n$$\\n\\\\epsilon: \\\\text{Maximum distance between two data points} \\n$$\\n\\n$$\\nminPts: \\\\text{Minimum number of data points in a neighborhood} \\n$$\\nFor k-means, spectral clustering, and GMM, we specified a range of k between 2 and √n ≈ 60, and for each k, we generated five partitions using random seeds. For hierarchical clustering, for each k, we generated four partitions using common linkage criteria: ward, complete, average, and single. For DBSCAN, we combined different ranges for parameters ε and minPts, based on the procedure in (Ester et al., 1996). Specifically, we used minPts values from 2 to 125. For each data representation (raw, PCA, and UMAP), we determined a plausible range of ε values by observing the distribution of the mean distance of the minPts-nearest neighbors across all data points. Since some combinations of minPts and ε might not produce a meaningful partition (for instance, when all points are detected as noisy or only one cluster is found), we resampled partitions generated by DBSCAN to ensure an equal representation of this algorithm in the ensemble. This procedure generated a final ensemble of 4,428 partitions of 3,752 traits.')"
      ]
     },
     "metadata": {},
     "output_type": "display_data"
    }
   ],
   "source": [
    "display(paragraph_matches[-1])"
   ]
  },
  {
   "cell_type": "markdown",
   "id": "91f1f902-0af2-419f-8825-fb95629e2c89",
   "metadata": {
    "editable": true,
    "papermill": {
     "duration": 0.043675,
     "end_time": "2024-03-23T05:13:17.276649",
     "exception": false,
     "start_time": "2024-03-23T05:13:17.232974",
     "status": "completed"
    },
    "slideshow": {
     "slide_type": ""
    },
    "tags": []
   },
   "source": [
    "####  Paragraph 13"
   ]
  },
  {
   "cell_type": "code",
   "execution_count": 257,
   "id": "18e906a9-ff0b-44d6-9f22-9a469c605518",
   "metadata": {
    "execution": {
     "iopub.execute_input": "2024-03-23T05:13:17.364861Z",
     "iopub.status.busy": "2024-03-23T05:13:17.364625Z",
     "iopub.status.idle": "2024-03-23T05:13:17.367658Z",
     "shell.execute_reply": "2024-03-23T05:13:17.367149Z"
    },
    "papermill": {
     "duration": 0.04795,
     "end_time": "2024-03-23T05:13:17.368358",
     "exception": false,
     "start_time": "2024-03-23T05:13:17.320408",
     "status": "completed"
    },
    "tags": []
   },
   "outputs": [
    {
     "name": "stdout",
     "output_type": "stream",
     "text": [
      "Finally, we used spectral clustering on $\\mathbf{D}$ to derive the final consensus partitions. $\\mathbf{D}$ was first transformed into a similarity matrix by applying an RBF kernel $\\mathrm{exp}(-\\gamma \\mathbf{D}^2)$ using four different values for $\\gamma$ that we empirically determined to work best. Therefore, for each $k$ between 2 and 60, we derived four consensus partitions and selected the one that maximized Equation (@eq:consensus:obj_func). We further filtered this set of 59 solutions to keep only those with an ensemble agreement larger than the 75th percentile (Figure @fig:sup:clustering:agreement), leaving a total of 15 final consensus partitions shown in Figure @fig:clustering:tree.\n"
     ]
    }
   ],
   "source": [
    "par0 = process_paragraph(orig_section_paragraphs[52])\n",
    "print(par0)"
   ]
  },
  {
   "cell_type": "code",
   "execution_count": 258,
   "id": "3479b6ea-0dd0-49e0-a69b-122b73bdb363",
   "metadata": {
    "execution": {
     "iopub.execute_input": "2024-03-23T05:13:17.457109Z",
     "iopub.status.busy": "2024-03-23T05:13:17.456670Z",
     "iopub.status.idle": "2024-03-23T05:13:17.459763Z",
     "shell.execute_reply": "2024-03-23T05:13:17.459260Z"
    },
    "papermill": {
     "duration": 0.048206,
     "end_time": "2024-03-23T05:13:17.460443",
     "exception": false,
     "start_time": "2024-03-23T05:13:17.412237",
     "status": "completed"
    },
    "tags": []
   },
   "outputs": [
    {
     "name": "stdout",
     "output_type": "stream",
     "text": [
      "Finally, we used spectral clustering on matrix $\\mathbf{D}$ to derive the final consensus partitions. Matrix $\\mathbf{D}$ was first transformed into a similarity matrix by applying a Radial Basis Function (RBF) kernel $\\mathrm{exp}(-\\gamma \\mathbf{D}^2)$ using four different values for $\\gamma$ that were empirically determined to work best. Therefore, for each value of $k$ between 2 and 60, we derived four consensus partitions and selected the one that maximized Equation (1). We further filtered this set of 59 solutions to keep only those with an ensemble agreement larger than the 75th percentile (Figure 1), leaving a total of 15 final consensus partitions as shown in Figure 2.\n"
     ]
    }
   ],
   "source": [
    "par1 = process_paragraph(mod_section_paragraphs[76])\n",
    "print(par1)"
   ]
  },
  {
   "cell_type": "code",
   "execution_count": 259,
   "id": "01cb5444-171d-4ab1-a976-202640acf67c",
   "metadata": {
    "execution": {
     "iopub.execute_input": "2024-03-23T05:13:17.549227Z",
     "iopub.status.busy": "2024-03-23T05:13:17.548763Z",
     "iopub.status.idle": "2024-03-23T05:13:17.551711Z",
     "shell.execute_reply": "2024-03-23T05:13:17.551151Z"
    },
    "papermill": {
     "duration": 0.048094,
     "end_time": "2024-03-23T05:13:17.552436",
     "exception": false,
     "start_time": "2024-03-23T05:13:17.504342",
     "status": "completed"
    },
    "tags": []
   },
   "outputs": [],
   "source": [
    "paragraph_matches.append(\n",
    "    (\n",
    "        section_name,\n",
    "        par0,\n",
    "        par1,\n",
    "    )\n",
    ")"
   ]
  },
  {
   "cell_type": "code",
   "execution_count": 260,
   "id": "c9949a21-3419-4685-ae5e-c431d7cbb2d4",
   "metadata": {
    "execution": {
     "iopub.execute_input": "2024-03-23T05:13:17.641258Z",
     "iopub.status.busy": "2024-03-23T05:13:17.640858Z",
     "iopub.status.idle": "2024-03-23T05:13:17.644717Z",
     "shell.execute_reply": "2024-03-23T05:13:17.644225Z"
    },
    "papermill": {
     "duration": 0.048914,
     "end_time": "2024-03-23T05:13:17.645376",
     "exception": false,
     "start_time": "2024-03-23T05:13:17.596462",
     "status": "completed"
    },
    "tags": []
   },
   "outputs": [
    {
     "data": {
      "text/plain": [
       "('methods',\n",
       " 'Finally, we used spectral clustering on $\\\\mathbf{D}$ to derive the final consensus partitions. $\\\\mathbf{D}$ was first transformed into a similarity matrix by applying an RBF kernel $\\\\mathrm{exp}(-\\\\gamma \\\\mathbf{D}^2)$ using four different values for $\\\\gamma$ that we empirically determined to work best. Therefore, for each $k$ between 2 and 60, we derived four consensus partitions and selected the one that maximized Equation (@eq:consensus:obj_func). We further filtered this set of 59 solutions to keep only those with an ensemble agreement larger than the 75th percentile (Figure @fig:sup:clustering:agreement), leaving a total of 15 final consensus partitions shown in Figure @fig:clustering:tree.',\n",
       " 'Finally, we used spectral clustering on matrix $\\\\mathbf{D}$ to derive the final consensus partitions. Matrix $\\\\mathbf{D}$ was first transformed into a similarity matrix by applying a Radial Basis Function (RBF) kernel $\\\\mathrm{exp}(-\\\\gamma \\\\mathbf{D}^2)$ using four different values for $\\\\gamma$ that were empirically determined to work best. Therefore, for each value of $k$ between 2 and 60, we derived four consensus partitions and selected the one that maximized Equation (1). We further filtered this set of 59 solutions to keep only those with an ensemble agreement larger than the 75th percentile (Figure 1), leaving a total of 15 final consensus partitions as shown in Figure 2.')"
      ]
     },
     "metadata": {},
     "output_type": "display_data"
    }
   ],
   "source": [
    "display(paragraph_matches[-1])"
   ]
  },
  {
   "cell_type": "markdown",
   "id": "3bd654e0-5f3d-4764-902e-eb65c7bd0ed7",
   "metadata": {
    "editable": true,
    "papermill": {
     "duration": 0.043808,
     "end_time": "2024-03-23T05:13:17.761067",
     "exception": false,
     "start_time": "2024-03-23T05:13:17.717259",
     "status": "completed"
    },
    "slideshow": {
     "slide_type": ""
    },
    "tags": []
   },
   "source": [
    "####  Paragraph 14"
   ]
  },
  {
   "cell_type": "code",
   "execution_count": 261,
   "id": "1a84de45-ffae-4dfa-a92b-1d25ad184bc4",
   "metadata": {
    "execution": {
     "iopub.execute_input": "2024-03-23T05:13:17.849970Z",
     "iopub.status.busy": "2024-03-23T05:13:17.849541Z",
     "iopub.status.idle": "2024-03-23T05:13:17.852714Z",
     "shell.execute_reply": "2024-03-23T05:13:17.852153Z"
    },
    "papermill": {
     "duration": 0.048361,
     "end_time": "2024-03-23T05:13:17.853391",
     "exception": false,
     "start_time": "2024-03-23T05:13:17.805030",
     "status": "completed"
    },
    "tags": []
   },
   "outputs": [
    {
     "name": "stdout",
     "output_type": "stream",
     "text": [
      "The input data in our clustering pipeline undergoes several linear and nonlinear transformations, including PCA, UMAP and the ensemble transformation using the EAC paradigm (distance matrix $\\mathbf{D}$). Although consensus clustering has clear advantages for biological data [@pmid:27303057], this set of data transformations complicates the interpretation of results. To circumvent this, we used a supervised learning approach to detect which gene modules/LVs are the most important for each cluster of traits (Figure {@fig:clustering:design}b). Note that we did not use this supervised model for prediction but only to learn which features (LVs) were most discriminative for each cluster. For this, we used the highest resolution partition ($k$=29, although any could be used) to train a decision tree model using each of the clusters as labels and the projected data $\\hat{\\mathbf{M}}$ as the training samples. For each $k$, we built a set of binary labels with the current cluster's traits as the positive class and the rest of the traits as the negative class. Then, we selected the LV in the root node of the trained model only if its threshold was positive and larger than one standard deviation. Next, we removed this LV from $\\hat{\\mathbf{M}}$ (regardless of being previously selected or not) and trained the model again. We repeated this procedure 20 times to extract the top 20 LVs that better discriminate traits in a cluster from the rest.\n"
     ]
    }
   ],
   "source": [
    "par0 = process_paragraph(orig_section_paragraphs[53])\n",
    "print(par0)"
   ]
  },
  {
   "cell_type": "code",
   "execution_count": 262,
   "id": "c4d53fcb-5167-4c48-900d-d9c50469768d",
   "metadata": {
    "execution": {
     "iopub.execute_input": "2024-03-23T05:13:17.942184Z",
     "iopub.status.busy": "2024-03-23T05:13:17.941926Z",
     "iopub.status.idle": "2024-03-23T05:13:17.945247Z",
     "shell.execute_reply": "2024-03-23T05:13:17.944669Z"
    },
    "papermill": {
     "duration": 0.048552,
     "end_time": "2024-03-23T05:13:17.946019",
     "exception": false,
     "start_time": "2024-03-23T05:13:17.897467",
     "status": "completed"
    },
    "tags": []
   },
   "outputs": [
    {
     "name": "stdout",
     "output_type": "stream",
     "text": [
      "The input data in our clustering pipeline undergoes several linear and nonlinear transformations, including Principal Component Analysis (PCA), Uniform Manifold Approximation and Projection (UMAP), and the ensemble transformation using the Ensemble Aggregation Clustering (EAC) paradigm (distance matrix $\\mathbf{D}$). Although consensus clustering has clear advantages for biological data (Wilkerson et al., 2016), this set of data transformations complicates the interpretation of results. To circumvent this, we used a supervised learning approach to detect which gene modules/Latent Variables (LVs) are the most important for each cluster of traits (Figure 1b). Note that we did not use this supervised model for prediction but only to learn which features (LVs) were most discriminative for each cluster. For this, we used the highest resolution partition ($k$=29, although any could be used) to train a decision tree model using each of the clusters as labels and the projected data $\\hat{\\mathbf{M}}$ as the training samples. For each $k$, we built a set of binary labels with the current cluster's traits as the positive class and the rest of the traits as the negative class. Then, we selected the LV in the root node of the trained model only if its threshold was positive and larger than one standard deviation. Next, we removed this LV from $\\hat{\\mathbf{M}}$ (regardless of being previously selected or not) and trained the model again. We repeated this procedure 20 times to extract the top 20 LVs that better discriminate traits in a cluster from the rest.\n"
     ]
    }
   ],
   "source": [
    "par1 = process_paragraph(\n",
    "    [\n",
    "        mod_section_paragraphs[78],\n",
    "        mod_section_paragraphs[80],\n",
    "    ]\n",
    ")\n",
    "print(par1)"
   ]
  },
  {
   "cell_type": "code",
   "execution_count": 263,
   "id": "a15db91e-c5cd-4ccb-8369-d2d6338084b2",
   "metadata": {
    "execution": {
     "iopub.execute_input": "2024-03-23T05:13:18.035230Z",
     "iopub.status.busy": "2024-03-23T05:13:18.034993Z",
     "iopub.status.idle": "2024-03-23T05:13:18.037685Z",
     "shell.execute_reply": "2024-03-23T05:13:18.037170Z"
    },
    "papermill": {
     "duration": 0.047992,
     "end_time": "2024-03-23T05:13:18.038409",
     "exception": false,
     "start_time": "2024-03-23T05:13:17.990417",
     "status": "completed"
    },
    "tags": []
   },
   "outputs": [],
   "source": [
    "paragraph_matches.append(\n",
    "    (\n",
    "        section_name,\n",
    "        par0,\n",
    "        par1,\n",
    "    )\n",
    ")"
   ]
  },
  {
   "cell_type": "code",
   "execution_count": 264,
   "id": "f4e8a660-2807-4ff7-b013-19331f343806",
   "metadata": {
    "execution": {
     "iopub.execute_input": "2024-03-23T05:13:18.127611Z",
     "iopub.status.busy": "2024-03-23T05:13:18.127136Z",
     "iopub.status.idle": "2024-03-23T05:13:18.130832Z",
     "shell.execute_reply": "2024-03-23T05:13:18.130335Z"
    },
    "papermill": {
     "duration": 0.049007,
     "end_time": "2024-03-23T05:13:18.131512",
     "exception": false,
     "start_time": "2024-03-23T05:13:18.082505",
     "status": "completed"
    },
    "tags": []
   },
   "outputs": [
    {
     "data": {
      "text/plain": [
       "('methods',\n",
       " \"The input data in our clustering pipeline undergoes several linear and nonlinear transformations, including PCA, UMAP and the ensemble transformation using the EAC paradigm (distance matrix $\\\\mathbf{D}$). Although consensus clustering has clear advantages for biological data [@pmid:27303057], this set of data transformations complicates the interpretation of results. To circumvent this, we used a supervised learning approach to detect which gene modules/LVs are the most important for each cluster of traits (Figure {@fig:clustering:design}b). Note that we did not use this supervised model for prediction but only to learn which features (LVs) were most discriminative for each cluster. For this, we used the highest resolution partition ($k$=29, although any could be used) to train a decision tree model using each of the clusters as labels and the projected data $\\\\hat{\\\\mathbf{M}}$ as the training samples. For each $k$, we built a set of binary labels with the current cluster's traits as the positive class and the rest of the traits as the negative class. Then, we selected the LV in the root node of the trained model only if its threshold was positive and larger than one standard deviation. Next, we removed this LV from $\\\\hat{\\\\mathbf{M}}$ (regardless of being previously selected or not) and trained the model again. We repeated this procedure 20 times to extract the top 20 LVs that better discriminate traits in a cluster from the rest.\",\n",
       " \"The input data in our clustering pipeline undergoes several linear and nonlinear transformations, including Principal Component Analysis (PCA), Uniform Manifold Approximation and Projection (UMAP), and the ensemble transformation using the Ensemble Aggregation Clustering (EAC) paradigm (distance matrix $\\\\mathbf{D}$). Although consensus clustering has clear advantages for biological data (Wilkerson et al., 2016), this set of data transformations complicates the interpretation of results. To circumvent this, we used a supervised learning approach to detect which gene modules/Latent Variables (LVs) are the most important for each cluster of traits (Figure 1b). Note that we did not use this supervised model for prediction but only to learn which features (LVs) were most discriminative for each cluster. For this, we used the highest resolution partition ($k$=29, although any could be used) to train a decision tree model using each of the clusters as labels and the projected data $\\\\hat{\\\\mathbf{M}}$ as the training samples. For each $k$, we built a set of binary labels with the current cluster's traits as the positive class and the rest of the traits as the negative class. Then, we selected the LV in the root node of the trained model only if its threshold was positive and larger than one standard deviation. Next, we removed this LV from $\\\\hat{\\\\mathbf{M}}$ (regardless of being previously selected or not) and trained the model again. We repeated this procedure 20 times to extract the top 20 LVs that better discriminate traits in a cluster from the rest.\")"
      ]
     },
     "metadata": {},
     "output_type": "display_data"
    }
   ],
   "source": [
    "display(paragraph_matches[-1])"
   ]
  },
  {
   "cell_type": "markdown",
   "id": "8a0e5921-47f0-49c3-acb4-d34b17104dec",
   "metadata": {
    "editable": true,
    "papermill": {
     "duration": 0.0439,
     "end_time": "2024-03-23T05:13:18.220027",
     "exception": false,
     "start_time": "2024-03-23T05:13:18.176127",
     "status": "completed"
    },
    "slideshow": {
     "slide_type": ""
    },
    "tags": []
   },
   "source": [
    "####  Paragraph 15"
   ]
  },
  {
   "cell_type": "code",
   "execution_count": 265,
   "id": "9557f91e-fcda-4a3b-92a1-9d0b7c2f40f3",
   "metadata": {
    "execution": {
     "iopub.execute_input": "2024-03-23T05:13:18.309420Z",
     "iopub.status.busy": "2024-03-23T05:13:18.309067Z",
     "iopub.status.idle": "2024-03-23T05:13:18.312339Z",
     "shell.execute_reply": "2024-03-23T05:13:18.311827Z"
    },
    "papermill": {
     "duration": 0.048829,
     "end_time": "2024-03-23T05:13:18.313103",
     "exception": false,
     "start_time": "2024-03-23T05:13:18.264274",
     "status": "completed"
    },
    "tags": []
   },
   "outputs": [
    {
     "name": "stdout",
     "output_type": "stream",
     "text": [
      "**Cell culture.** HepG2 cells were obtained from ATCC (ATCC® HB-8065™), and maintained in Eagle's Minimum Essential Medium with L-Glutamine (EMEM, Cat. 112-018-101, Quality Biology) supplemented with 10% Fetal Bovine Serum (FBS, Gibco, Cat.16000-044), and 1% Pen/Strep (Gibco, Cat.15140-122). Cells were kept at 37oC in a humidity-controlled incubator with 5% CO2, and were maintained at a density not exceeding more than 80% confluency in Collagen-I coated flasks.\n"
     ]
    }
   ],
   "source": [
    "par0 = process_paragraph(orig_section_paragraphs[56])\n",
    "print(par0)"
   ]
  },
  {
   "cell_type": "code",
   "execution_count": 266,
   "id": "06383a4c-e609-4401-880a-087219966df3",
   "metadata": {
    "execution": {
     "iopub.execute_input": "2024-03-23T05:13:18.431117Z",
     "iopub.status.busy": "2024-03-23T05:13:18.430556Z",
     "iopub.status.idle": "2024-03-23T05:13:18.434028Z",
     "shell.execute_reply": "2024-03-23T05:13:18.433459Z"
    },
    "papermill": {
     "duration": 0.049491,
     "end_time": "2024-03-23T05:13:18.434790",
     "exception": false,
     "start_time": "2024-03-23T05:13:18.385299",
     "status": "completed"
    },
    "tags": []
   },
   "outputs": [
    {
     "name": "stdout",
     "output_type": "stream",
     "text": [
      "**Cell culture.** HepG2 cells were obtained from ATCC (ATCC® HB-8065™) and maintained in Eagle's Minimum Essential Medium with L-Glutamine (EMEM, Cat. 112-018-101, Quality Biology) supplemented with 10% Fetal Bovine Serum (FBS, Gibco, Cat.16000-044) and 1% Pen/Strep (Gibco, Cat.15140-122). Cells were kept at 37°C in a humidity-controlled incubator with 5% CO2 and were maintained at a density not exceeding 80% confluency in Collagen-I coated flasks.\n"
     ]
    }
   ],
   "source": [
    "par1 = process_paragraph(mod_section_paragraphs[83])\n",
    "print(par1)"
   ]
  },
  {
   "cell_type": "code",
   "execution_count": 267,
   "id": "62578397-7d7f-4e18-aa2b-008dff020795",
   "metadata": {
    "execution": {
     "iopub.execute_input": "2024-03-23T05:13:18.525112Z",
     "iopub.status.busy": "2024-03-23T05:13:18.524733Z",
     "iopub.status.idle": "2024-03-23T05:13:18.527539Z",
     "shell.execute_reply": "2024-03-23T05:13:18.527104Z"
    },
    "papermill": {
     "duration": 0.048538,
     "end_time": "2024-03-23T05:13:18.528290",
     "exception": false,
     "start_time": "2024-03-23T05:13:18.479752",
     "status": "completed"
    },
    "tags": []
   },
   "outputs": [],
   "source": [
    "paragraph_matches.append(\n",
    "    (\n",
    "        section_name,\n",
    "        par0,\n",
    "        par1,\n",
    "    )\n",
    ")"
   ]
  },
  {
   "cell_type": "code",
   "execution_count": 268,
   "id": "bbb0b44e-3a69-4743-bd0d-1d1795653b2a",
   "metadata": {
    "execution": {
     "iopub.execute_input": "2024-03-23T05:13:18.618165Z",
     "iopub.status.busy": "2024-03-23T05:13:18.617971Z",
     "iopub.status.idle": "2024-03-23T05:13:18.621620Z",
     "shell.execute_reply": "2024-03-23T05:13:18.621195Z"
    },
    "papermill": {
     "duration": 0.04938,
     "end_time": "2024-03-23T05:13:18.622306",
     "exception": false,
     "start_time": "2024-03-23T05:13:18.572926",
     "status": "completed"
    },
    "tags": []
   },
   "outputs": [
    {
     "data": {
      "text/plain": [
       "('methods',\n",
       " \"**Cell culture.** HepG2 cells were obtained from ATCC (ATCC® HB-8065™), and maintained in Eagle's Minimum Essential Medium with L-Glutamine (EMEM, Cat. 112-018-101, Quality Biology) supplemented with 10% Fetal Bovine Serum (FBS, Gibco, Cat.16000-044), and 1% Pen/Strep (Gibco, Cat.15140-122). Cells were kept at 37oC in a humidity-controlled incubator with 5% CO2, and were maintained at a density not exceeding more than 80% confluency in Collagen-I coated flasks.\",\n",
       " \"**Cell culture.** HepG2 cells were obtained from ATCC (ATCC® HB-8065™) and maintained in Eagle's Minimum Essential Medium with L-Glutamine (EMEM, Cat. 112-018-101, Quality Biology) supplemented with 10% Fetal Bovine Serum (FBS, Gibco, Cat.16000-044) and 1% Pen/Strep (Gibco, Cat.15140-122). Cells were kept at 37°C in a humidity-controlled incubator with 5% CO2 and were maintained at a density not exceeding 80% confluency in Collagen-I coated flasks.\")"
      ]
     },
     "metadata": {},
     "output_type": "display_data"
    }
   ],
   "source": [
    "display(paragraph_matches[-1])"
   ]
  },
  {
   "cell_type": "markdown",
   "id": "9131abe6-9365-4f47-a161-772429f056cd",
   "metadata": {
    "editable": true,
    "papermill": {
     "duration": 0.044314,
     "end_time": "2024-03-23T05:13:18.711040",
     "exception": false,
     "start_time": "2024-03-23T05:13:18.666726",
     "status": "completed"
    },
    "slideshow": {
     "slide_type": ""
    },
    "tags": []
   },
   "source": [
    "####  Paragraph 16"
   ]
  },
  {
   "cell_type": "code",
   "execution_count": 269,
   "id": "1c94def7-5615-4dcb-aa64-1bf34f9ef911",
   "metadata": {
    "execution": {
     "iopub.execute_input": "2024-03-23T05:13:18.800886Z",
     "iopub.status.busy": "2024-03-23T05:13:18.800444Z",
     "iopub.status.idle": "2024-03-23T05:13:18.803729Z",
     "shell.execute_reply": "2024-03-23T05:13:18.803242Z"
    },
    "papermill": {
     "duration": 0.049074,
     "end_time": "2024-03-23T05:13:18.804406",
     "exception": false,
     "start_time": "2024-03-23T05:13:18.755332",
     "status": "completed"
    },
    "tags": []
   },
   "outputs": [
    {
     "name": "stdout",
     "output_type": "stream",
     "text": [
      "**Genome-wide lentiviral pooled CRISPR-Cas9 library.** 3rd lentiviral generation, Broad GPP genome-wide Human Brunello CRISPR knockout Pooled library was provided by David Root and John Doench from Addgene (Cat. 73179-LV), and was used for HepG2 cell transduction. It consists of 76,441 sgRNAs, and targets 19,114 genes in the human genome with an average of 4 sgRNAs per gene. Each 20nt sgRNA cassette was inserted into the lentiCRIS-PRv2 backbone between U6 promoter and gRNA scaffold. Through cell transduction, the lentiviral vectors which encode Cas9 were used to deliver the sgRNA cassette containing plasmids into cells during cell replication. Unsuccessful transduced cells were excluded through puromycin selection.\n"
     ]
    }
   ],
   "source": [
    "par0 = process_paragraph(orig_section_paragraphs[57])\n",
    "print(par0)"
   ]
  },
  {
   "cell_type": "code",
   "execution_count": 270,
   "id": "77ea7dbc-8839-4339-a93e-f819404961ae",
   "metadata": {
    "execution": {
     "iopub.execute_input": "2024-03-23T05:13:18.894326Z",
     "iopub.status.busy": "2024-03-23T05:13:18.894012Z",
     "iopub.status.idle": "2024-03-23T05:13:18.896878Z",
     "shell.execute_reply": "2024-03-23T05:13:18.896427Z"
    },
    "papermill": {
     "duration": 0.048512,
     "end_time": "2024-03-23T05:13:18.897578",
     "exception": false,
     "start_time": "2024-03-23T05:13:18.849066",
     "status": "completed"
    },
    "tags": []
   },
   "outputs": [
    {
     "name": "stdout",
     "output_type": "stream",
     "text": [
      "**Genome-wide lentiviral pooled CRISPR-Cas9 library.** The 3rd generation lentiviral library, known as Broad GPP genome-wide Human Brunello CRISPR knockout Pooled library, was obtained from Addgene (Cat. 73179-LV) courtesy of David Root and John Doench. This library was utilized for transduction of HepG2 cells and comprises 76,441 sgRNAs targeting 19,114 genes in the human genome, with an average of 4 sgRNAs per gene. Each 20 nucleotide sgRNA sequence was integrated into the lentiCRIS-PRv2 backbone between the U6 promoter and gRNA scaffold. Cas9-encoding lentiviral vectors were employed for the delivery of plasmids containing the sgRNA cassette into cells during replication. Cells that were not successfully transduced were eliminated through puromycin selection.\n"
     ]
    }
   ],
   "source": [
    "par1 = process_paragraph(mod_section_paragraphs[84])\n",
    "print(par1)"
   ]
  },
  {
   "cell_type": "code",
   "execution_count": 271,
   "id": "04cc4e7c-c55f-4215-91c5-95bdf612a027",
   "metadata": {
    "execution": {
     "iopub.execute_input": "2024-03-23T05:13:18.987338Z",
     "iopub.status.busy": "2024-03-23T05:13:18.987003Z",
     "iopub.status.idle": "2024-03-23T05:13:18.989564Z",
     "shell.execute_reply": "2024-03-23T05:13:18.989113Z"
    },
    "papermill": {
     "duration": 0.048212,
     "end_time": "2024-03-23T05:13:18.990298",
     "exception": false,
     "start_time": "2024-03-23T05:13:18.942086",
     "status": "completed"
    },
    "tags": []
   },
   "outputs": [],
   "source": [
    "paragraph_matches.append(\n",
    "    (\n",
    "        section_name,\n",
    "        par0,\n",
    "        par1,\n",
    "    )\n",
    ")"
   ]
  },
  {
   "cell_type": "code",
   "execution_count": 272,
   "id": "c9e04ff4-b4bd-4c64-b20d-7afa1200c88b",
   "metadata": {
    "execution": {
     "iopub.execute_input": "2024-03-23T05:13:19.079940Z",
     "iopub.status.busy": "2024-03-23T05:13:19.079571Z",
     "iopub.status.idle": "2024-03-23T05:13:19.083027Z",
     "shell.execute_reply": "2024-03-23T05:13:19.082622Z"
    },
    "papermill": {
     "duration": 0.049071,
     "end_time": "2024-03-23T05:13:19.083772",
     "exception": false,
     "start_time": "2024-03-23T05:13:19.034701",
     "status": "completed"
    },
    "tags": []
   },
   "outputs": [
    {
     "data": {
      "text/plain": [
       "('methods',\n",
       " '**Genome-wide lentiviral pooled CRISPR-Cas9 library.** 3rd lentiviral generation, Broad GPP genome-wide Human Brunello CRISPR knockout Pooled library was provided by David Root and John Doench from Addgene (Cat. 73179-LV), and was used for HepG2 cell transduction. It consists of 76,441 sgRNAs, and targets 19,114 genes in the human genome with an average of 4 sgRNAs per gene. Each 20nt sgRNA cassette was inserted into the lentiCRIS-PRv2 backbone between U6 promoter and gRNA scaffold. Through cell transduction, the lentiviral vectors which encode Cas9 were used to deliver the sgRNA cassette containing plasmids into cells during cell replication. Unsuccessful transduced cells were excluded through puromycin selection.',\n",
       " '**Genome-wide lentiviral pooled CRISPR-Cas9 library.** The 3rd generation lentiviral library, known as Broad GPP genome-wide Human Brunello CRISPR knockout Pooled library, was obtained from Addgene (Cat. 73179-LV) courtesy of David Root and John Doench. This library was utilized for transduction of HepG2 cells and comprises 76,441 sgRNAs targeting 19,114 genes in the human genome, with an average of 4 sgRNAs per gene. Each 20 nucleotide sgRNA sequence was integrated into the lentiCRIS-PRv2 backbone between the U6 promoter and gRNA scaffold. Cas9-encoding lentiviral vectors were employed for the delivery of plasmids containing the sgRNA cassette into cells during replication. Cells that were not successfully transduced were eliminated through puromycin selection.')"
      ]
     },
     "metadata": {},
     "output_type": "display_data"
    }
   ],
   "source": [
    "display(paragraph_matches[-1])"
   ]
  },
  {
   "cell_type": "markdown",
   "id": "76bfb368-85db-4cef-843b-72a080ee272d",
   "metadata": {
    "editable": true,
    "papermill": {
     "duration": 0.044751,
     "end_time": "2024-03-23T05:13:19.173080",
     "exception": false,
     "start_time": "2024-03-23T05:13:19.128329",
     "status": "completed"
    },
    "slideshow": {
     "slide_type": ""
    },
    "tags": []
   },
   "source": [
    "####  Paragraph 17"
   ]
  },
  {
   "cell_type": "code",
   "execution_count": 273,
   "id": "e2edbbe6-d867-455b-b5b1-f6a29114c61e",
   "metadata": {
    "execution": {
     "iopub.execute_input": "2024-03-23T05:13:19.291048Z",
     "iopub.status.busy": "2024-03-23T05:13:19.290615Z",
     "iopub.status.idle": "2024-03-23T05:13:19.293678Z",
     "shell.execute_reply": "2024-03-23T05:13:19.293243Z"
    },
    "papermill": {
     "duration": 0.049092,
     "end_time": "2024-03-23T05:13:19.294468",
     "exception": false,
     "start_time": "2024-03-23T05:13:19.245376",
     "status": "completed"
    },
    "tags": []
   },
   "outputs": [
    {
     "name": "stdout",
     "output_type": "stream",
     "text": [
      "**Lentiviral titer determination.** No-spin lentiviral transduction was utilized for the screen. In a Collagen-I coated 6-wells plate, approximate 2.5 M cells were seeded each well in the presence of 8ug/ml polybrene (Millipore Sigma, Cat. TR-1003 G), and a different titrated virus volume (e.g., 0, 50, 100, 200, 250, and 400ul) was assigned to each well. EMEM complete media was added to make the final volume of 1.24ml. 16-18hrs post-transduction, virus/polybrene-containing media was removed from each well. Cells were washed twice with 1x DPBS and replaced with fresh EMEM. At 24h, cells in each well were trypsinized, diluted (e.g.,1:10), and seeded in pairs of wells of 6-well plates. At 60hr post-transduction, cell media in each well was replaced with fresh EMEM. 2ug/ml of puromycin (Gibco, Cat. A1113803) was added to one well out of the pair. 2-5 days after puromycin selection, or the 0 virus well treated with puromycin had no survival of cells, cells in both wells with/without puromycin were collected and counted for viability. Percentage of Infection (PI%) was obtained by comparing the cell numbers with/without puromycin selection within each pair. By means of Poisson's distribution theory, when transduction efficiency (PI%) is between 30-50%, which corresponds to an MOI (Multiplicity of Infection) of ~0.35-0.70. At MOI close to 0.3, around 25% of cells are infected, and the majority of those infected cells are predicted to have only one copy of the virus. Therefore, a volume of virus (120ul) yielding 30-40% of transduction efficiency was chosen for further large-scale viral transduction.\n"
     ]
    }
   ],
   "source": [
    "par0 = process_paragraph(orig_section_paragraphs[58])\n",
    "print(par0)"
   ]
  },
  {
   "cell_type": "code",
   "execution_count": 274,
   "id": "621f9e03-687c-4bf7-9d38-cb305f56eef6",
   "metadata": {
    "execution": {
     "iopub.execute_input": "2024-03-23T05:13:19.385881Z",
     "iopub.status.busy": "2024-03-23T05:13:19.385690Z",
     "iopub.status.idle": "2024-03-23T05:13:19.388638Z",
     "shell.execute_reply": "2024-03-23T05:13:19.388207Z"
    },
    "papermill": {
     "duration": 0.048662,
     "end_time": "2024-03-23T05:13:19.389347",
     "exception": false,
     "start_time": "2024-03-23T05:13:19.340685",
     "status": "completed"
    },
    "tags": []
   },
   "outputs": [
    {
     "name": "stdout",
     "output_type": "stream",
     "text": [
      "**Lentiviral titer determination.** No-spin lentiviral transduction was used for the screen. Approximately 2.5 million cells were seeded in each well of a Collagen-I coated 6-well plate in the presence of 8 µg/ml polybrene (Millipore Sigma, Cat. TR-1003 G). Different titrated virus volumes (e.g., 0, 50, 100, 200, 250, and 400 µl) were assigned to each well. EMEM complete media was added to achieve a final volume of 1.24 ml. Sixteen to eighteen hours post-transduction, the virus/polybrene-containing media was removed from each well. Cells were washed twice with 1x DPBS and fresh EMEM was added. At 24 hours, cells in each well were trypsinized, diluted (e.g., 1:10), and seeded in pairs of wells in 6-well plates. At 60 hours post-transduction, the cell media in each well was replaced with fresh EMEM. Two µg/ml of puromycin (Gibco, Cat. A1113803) was added to one well out of the pair. Two to five days after puromycin selection, or if the 0 virus well treated with puromycin showed no cell survival, cells in both wells with and without puromycin were collected and counted for viability. The Percentage of Infection (PI%) was calculated by comparing the cell numbers with and without puromycin selection within each pair. According to Poisson's distribution theory, a transduction efficiency (PI%) between 30-50% corresponds to an MOI (Multiplicity of Infection) of approximately 0.35-0.70. At an MOI close to 0.3, around 25% of cells are infected, and the majority of those infected cells are predicted to have only one copy of the virus. Therefore, a virus volume of 120 µl, which yielded 30-40% transduction efficiency, was selected for further large-scale viral transduction.\n"
     ]
    }
   ],
   "source": [
    "par1 = process_paragraph(mod_section_paragraphs[85])\n",
    "print(par1)"
   ]
  },
  {
   "cell_type": "code",
   "execution_count": 275,
   "id": "e5673e7c-9e1d-463f-a784-f2e9664b7f22",
   "metadata": {
    "execution": {
     "iopub.execute_input": "2024-03-23T05:13:19.481274Z",
     "iopub.status.busy": "2024-03-23T05:13:19.480599Z",
     "iopub.status.idle": "2024-03-23T05:13:19.484057Z",
     "shell.execute_reply": "2024-03-23T05:13:19.483522Z"
    },
    "papermill": {
     "duration": 0.050203,
     "end_time": "2024-03-23T05:13:19.484764",
     "exception": false,
     "start_time": "2024-03-23T05:13:19.434561",
     "status": "completed"
    },
    "tags": []
   },
   "outputs": [],
   "source": [
    "paragraph_matches.append(\n",
    "    (\n",
    "        section_name,\n",
    "        par0,\n",
    "        par1,\n",
    "    )\n",
    ")"
   ]
  },
  {
   "cell_type": "code",
   "execution_count": 276,
   "id": "4f171ffc-f855-406e-8cac-6340e3779cc4",
   "metadata": {
    "execution": {
     "iopub.execute_input": "2024-03-23T05:13:19.574879Z",
     "iopub.status.busy": "2024-03-23T05:13:19.574763Z",
     "iopub.status.idle": "2024-03-23T05:13:19.577515Z",
     "shell.execute_reply": "2024-03-23T05:13:19.577202Z"
    },
    "papermill": {
     "duration": 0.048516,
     "end_time": "2024-03-23T05:13:19.578131",
     "exception": false,
     "start_time": "2024-03-23T05:13:19.529615",
     "status": "completed"
    },
    "tags": []
   },
   "outputs": [
    {
     "data": {
      "text/plain": [
       "('methods',\n",
       " \"**Lentiviral titer determination.** No-spin lentiviral transduction was utilized for the screen. In a Collagen-I coated 6-wells plate, approximate 2.5 M cells were seeded each well in the presence of 8ug/ml polybrene (Millipore Sigma, Cat. TR-1003 G), and a different titrated virus volume (e.g., 0, 50, 100, 200, 250, and 400ul) was assigned to each well. EMEM complete media was added to make the final volume of 1.24ml. 16-18hrs post-transduction, virus/polybrene-containing media was removed from each well. Cells were washed twice with 1x DPBS and replaced with fresh EMEM. At 24h, cells in each well were trypsinized, diluted (e.g.,1:10), and seeded in pairs of wells of 6-well plates. At 60hr post-transduction, cell media in each well was replaced with fresh EMEM. 2ug/ml of puromycin (Gibco, Cat. A1113803) was added to one well out of the pair. 2-5 days after puromycin selection, or the 0 virus well treated with puromycin had no survival of cells, cells in both wells with/without puromycin were collected and counted for viability. Percentage of Infection (PI%) was obtained by comparing the cell numbers with/without puromycin selection within each pair. By means of Poisson's distribution theory, when transduction efficiency (PI%) is between 30-50%, which corresponds to an MOI (Multiplicity of Infection) of ~0.35-0.70. At MOI close to 0.3, around 25% of cells are infected, and the majority of those infected cells are predicted to have only one copy of the virus. Therefore, a volume of virus (120ul) yielding 30-40% of transduction efficiency was chosen for further large-scale viral transduction.\",\n",
       " \"**Lentiviral titer determination.** No-spin lentiviral transduction was used for the screen. Approximately 2.5 million cells were seeded in each well of a Collagen-I coated 6-well plate in the presence of 8 µg/ml polybrene (Millipore Sigma, Cat. TR-1003 G). Different titrated virus volumes (e.g., 0, 50, 100, 200, 250, and 400 µl) were assigned to each well. EMEM complete media was added to achieve a final volume of 1.24 ml. Sixteen to eighteen hours post-transduction, the virus/polybrene-containing media was removed from each well. Cells were washed twice with 1x DPBS and fresh EMEM was added. At 24 hours, cells in each well were trypsinized, diluted (e.g., 1:10), and seeded in pairs of wells in 6-well plates. At 60 hours post-transduction, the cell media in each well was replaced with fresh EMEM. Two µg/ml of puromycin (Gibco, Cat. A1113803) was added to one well out of the pair. Two to five days after puromycin selection, or if the 0 virus well treated with puromycin showed no cell survival, cells in both wells with and without puromycin were collected and counted for viability. The Percentage of Infection (PI%) was calculated by comparing the cell numbers with and without puromycin selection within each pair. According to Poisson's distribution theory, a transduction efficiency (PI%) between 30-50% corresponds to an MOI (Multiplicity of Infection) of approximately 0.35-0.70. At an MOI close to 0.3, around 25% of cells are infected, and the majority of those infected cells are predicted to have only one copy of the virus. Therefore, a virus volume of 120 µl, which yielded 30-40% transduction efficiency, was selected for further large-scale viral transduction.\")"
      ]
     },
     "metadata": {},
     "output_type": "display_data"
    }
   ],
   "source": [
    "display(paragraph_matches[-1])"
   ]
  },
  {
   "cell_type": "markdown",
   "id": "0326a59b-b79a-4936-9340-3d36b5d13af2",
   "metadata": {
    "editable": true,
    "papermill": {
     "duration": 0.044488,
     "end_time": "2024-03-23T05:13:19.666911",
     "exception": false,
     "start_time": "2024-03-23T05:13:19.622423",
     "status": "completed"
    },
    "slideshow": {
     "slide_type": ""
    },
    "tags": []
   },
   "source": [
    "####  Paragraph 18"
   ]
  },
  {
   "cell_type": "code",
   "execution_count": 277,
   "id": "fc6844bc-7770-4f15-8100-d0a3860ad775",
   "metadata": {
    "execution": {
     "iopub.execute_input": "2024-03-23T05:13:19.757016Z",
     "iopub.status.busy": "2024-03-23T05:13:19.756804Z",
     "iopub.status.idle": "2024-03-23T05:13:19.759487Z",
     "shell.execute_reply": "2024-03-23T05:13:19.759153Z"
    },
    "papermill": {
     "duration": 0.048727,
     "end_time": "2024-03-23T05:13:19.760126",
     "exception": false,
     "start_time": "2024-03-23T05:13:19.711399",
     "status": "completed"
    },
    "tags": []
   },
   "outputs": [
    {
     "name": "stdout",
     "output_type": "stream",
     "text": [
      "**Lentiviral Transduction in HepG2 Using Brunello CRISPR Knockout Pooled Library.** In order to achieve a coverage (representation) of at least 500 cells per sgRNA, and at an MOI between 0.3-0.4 to ensure 95% of infected cells get only one viral particle per cell, ~200M cells were initiated for the screen. Transduction was carried out in a similar fashion as described above. Briefly, 2.5M cells were seeded in each well of 14 6-well plates, along with 8ug/ml of polybrene. A volume of 120ul of the virus was added to each experimental well. 18hrs post-transduction, virus/PB mix medium was removed, and cells in each well were collected, counted, and pooled into T175 flasks. At 60hr post-transduction, 2ug/ml of puromycin was added to each flask. Mediums were changed every two days with fresh EMEM, topped with 2ug/ml puromycin. Seven days after puromycin selection, cells were collected, pooled, counted, and replated.\n"
     ]
    }
   ],
   "source": [
    "par0 = process_paragraph(orig_section_paragraphs[59])\n",
    "print(par0)"
   ]
  },
  {
   "cell_type": "code",
   "execution_count": 278,
   "id": "45dd66cf-9d9e-4469-9173-48a51a86db5a",
   "metadata": {
    "execution": {
     "iopub.execute_input": "2024-03-23T05:13:19.878132Z",
     "iopub.status.busy": "2024-03-23T05:13:19.877953Z",
     "iopub.status.idle": "2024-03-23T05:13:19.880825Z",
     "shell.execute_reply": "2024-03-23T05:13:19.880393Z"
    },
    "papermill": {
     "duration": 0.076712,
     "end_time": "2024-03-23T05:13:19.881516",
     "exception": false,
     "start_time": "2024-03-23T05:13:19.804804",
     "status": "completed"
    },
    "tags": []
   },
   "outputs": [
    {
     "name": "stdout",
     "output_type": "stream",
     "text": [
      "Lentiviral transduction was performed in HepG2 cells using the Brunello CRISPR knockout pooled library to ensure a coverage of at least 500 cells per single-guide RNA (sgRNA). An MOI between 0.3-0.4 was maintained to guarantee that 95% of infected cells received only one viral particle per cell. Approximately 200 million cells were used for the screen. The transduction process followed a similar protocol as previously described. Specifically, 2.5 million cells were seeded in each well of 14 6-well plates, supplemented with 8 μg/ml of polybrene. Subsequently, 120 μl of the virus was added to each experimental well. After 18 hours post-transduction, the virus/polybrene mix was removed, and cells from each well were collected, counted, and pooled into T175 flasks. At 60 hours post-transduction, 2 μg/ml of puromycin was added to each flask. The medium was changed every two days with fresh EMEM containing 2 μg/ml puromycin. Seven days after puromycin selection, cells were collected, pooled, counted, and replated.\n"
     ]
    }
   ],
   "source": [
    "par1 = process_paragraph(mod_section_paragraphs[87])\n",
    "print(par1)"
   ]
  },
  {
   "cell_type": "code",
   "execution_count": 279,
   "id": "2df6f4db-438b-4208-be66-cbedcc72166e",
   "metadata": {
    "execution": {
     "iopub.execute_input": "2024-03-23T05:13:19.971709Z",
     "iopub.status.busy": "2024-03-23T05:13:19.971534Z",
     "iopub.status.idle": "2024-03-23T05:13:19.974099Z",
     "shell.execute_reply": "2024-03-23T05:13:19.973659Z"
    },
    "papermill": {
     "duration": 0.048576,
     "end_time": "2024-03-23T05:13:19.974807",
     "exception": false,
     "start_time": "2024-03-23T05:13:19.926231",
     "status": "completed"
    },
    "tags": []
   },
   "outputs": [],
   "source": [
    "paragraph_matches.append(\n",
    "    (\n",
    "        section_name,\n",
    "        par0,\n",
    "        par1,\n",
    "    )\n",
    ")"
   ]
  },
  {
   "cell_type": "code",
   "execution_count": 280,
   "id": "2895cb07-7ba8-4407-9c7e-881b9ac4348a",
   "metadata": {
    "execution": {
     "iopub.execute_input": "2024-03-23T05:13:20.065910Z",
     "iopub.status.busy": "2024-03-23T05:13:20.065371Z",
     "iopub.status.idle": "2024-03-23T05:13:20.068913Z",
     "shell.execute_reply": "2024-03-23T05:13:20.068486Z"
    },
    "papermill": {
     "duration": 0.049744,
     "end_time": "2024-03-23T05:13:20.069628",
     "exception": false,
     "start_time": "2024-03-23T05:13:20.019884",
     "status": "completed"
    },
    "tags": []
   },
   "outputs": [
    {
     "data": {
      "text/plain": [
       "('methods',\n",
       " '**Lentiviral Transduction in HepG2 Using Brunello CRISPR Knockout Pooled Library.** In order to achieve a coverage (representation) of at least 500 cells per sgRNA, and at an MOI between 0.3-0.4 to ensure 95% of infected cells get only one viral particle per cell, ~200M cells were initiated for the screen. Transduction was carried out in a similar fashion as described above. Briefly, 2.5M cells were seeded in each well of 14 6-well plates, along with 8ug/ml of polybrene. A volume of 120ul of the virus was added to each experimental well. 18hrs post-transduction, virus/PB mix medium was removed, and cells in each well were collected, counted, and pooled into T175 flasks. At 60hr post-transduction, 2ug/ml of puromycin was added to each flask. Mediums were changed every two days with fresh EMEM, topped with 2ug/ml puromycin. Seven days after puromycin selection, cells were collected, pooled, counted, and replated.',\n",
       " 'Lentiviral transduction was performed in HepG2 cells using the Brunello CRISPR knockout pooled library to ensure a coverage of at least 500 cells per single-guide RNA (sgRNA). An MOI between 0.3-0.4 was maintained to guarantee that 95% of infected cells received only one viral particle per cell. Approximately 200 million cells were used for the screen. The transduction process followed a similar protocol as previously described. Specifically, 2.5 million cells were seeded in each well of 14 6-well plates, supplemented with 8 μg/ml of polybrene. Subsequently, 120 μl of the virus was added to each experimental well. After 18 hours post-transduction, the virus/polybrene mix was removed, and cells from each well were collected, counted, and pooled into T175 flasks. At 60 hours post-transduction, 2 μg/ml of puromycin was added to each flask. The medium was changed every two days with fresh EMEM containing 2 μg/ml puromycin. Seven days after puromycin selection, cells were collected, pooled, counted, and replated.')"
      ]
     },
     "metadata": {},
     "output_type": "display_data"
    }
   ],
   "source": [
    "display(paragraph_matches[-1])"
   ]
  },
  {
   "cell_type": "markdown",
   "id": "ac4ba542-c273-4210-9983-2e7e274856ff",
   "metadata": {
    "editable": true,
    "papermill": {
     "duration": 0.045111,
     "end_time": "2024-03-23T05:13:20.159605",
     "exception": false,
     "start_time": "2024-03-23T05:13:20.114494",
     "status": "completed"
    },
    "slideshow": {
     "slide_type": ""
    },
    "tags": []
   },
   "source": [
    "####  Paragraph 19"
   ]
  },
  {
   "cell_type": "code",
   "execution_count": 281,
   "id": "acaa590d-b2c1-4683-b532-4a9fd2cb0cc1",
   "metadata": {
    "execution": {
     "iopub.execute_input": "2024-03-23T05:13:20.250925Z",
     "iopub.status.busy": "2024-03-23T05:13:20.250395Z",
     "iopub.status.idle": "2024-03-23T05:13:20.253542Z",
     "shell.execute_reply": "2024-03-23T05:13:20.253096Z"
    },
    "papermill": {
     "duration": 0.049673,
     "end_time": "2024-03-23T05:13:20.254271",
     "exception": false,
     "start_time": "2024-03-23T05:13:20.204598",
     "status": "completed"
    },
    "tags": []
   },
   "outputs": [
    {
     "name": "stdout",
     "output_type": "stream",
     "text": [
      "**Fluorescent dye staining.** 9 days after puromycin selection, cells were assigned to 2 groups. 20-30M cells were collected as Unsorted Control. The cell pellet was spun down at 500 x g for 5min at 4oC. The dry pellet was kept at -80oC for further genomic DNA isolation. The rest of the cells (approximately 200M) were kept in 100mm dishes and stained with a fluorescent dye (LipidSpotTM 488, Biotium, Cat. 70065-T). In Brief, LipidSpot 488 was diluted to 1:100 with DPBS. 4ml of staining solution was used for each dish and incubated at 37oC for 30min. Cell images were captured through fluorescent microscope EVOS for GFP signal detection (Figure @fig:sup:crispr:fig1).\n"
     ]
    }
   ],
   "source": [
    "par0 = process_paragraph(orig_section_paragraphs[60])\n",
    "print(par0)"
   ]
  },
  {
   "cell_type": "code",
   "execution_count": 282,
   "id": "5475c75b-591f-40d5-a87c-eba1510e36f2",
   "metadata": {
    "execution": {
     "iopub.execute_input": "2024-03-23T05:13:20.345305Z",
     "iopub.status.busy": "2024-03-23T05:13:20.345128Z",
     "iopub.status.idle": "2024-03-23T05:13:20.348009Z",
     "shell.execute_reply": "2024-03-23T05:13:20.347579Z"
    },
    "papermill": {
     "duration": 0.049044,
     "end_time": "2024-03-23T05:13:20.348679",
     "exception": false,
     "start_time": "2024-03-23T05:13:20.299635",
     "status": "completed"
    },
    "tags": []
   },
   "outputs": [
    {
     "name": "stdout",
     "output_type": "stream",
     "text": [
      "**Fluorescent dye staining.** Nine days after puromycin selection, cells were divided into two groups. Twenty to thirty million cells were collected as the Unsorted Control. The cell pellet was centrifuged at 500 x g for 5 minutes at 4°C. The dry pellet was stored at -80°C for subsequent genomic DNA isolation. The remaining cells (approximately 200 million) were cultured in 100 mm dishes and stained with a fluorescent dye (LipidSpotTM 488, Biotium, Cat. 70065-T). In brief, LipidSpot 488 was diluted to 1:100 with DPBS. Four milliliters of the staining solution were added to each dish and incubated at 37°C for 30 minutes. Cell images were captured using a fluorescent microscope EVOS for GFP signal detection (Figure 1).\n"
     ]
    }
   ],
   "source": [
    "par1 = process_paragraph(mod_section_paragraphs[90])\n",
    "print(par1)"
   ]
  },
  {
   "cell_type": "code",
   "execution_count": 283,
   "id": "1bd86b15-0f46-4f71-88b6-5bfa468929b6",
   "metadata": {
    "execution": {
     "iopub.execute_input": "2024-03-23T05:13:20.439374Z",
     "iopub.status.busy": "2024-03-23T05:13:20.439028Z",
     "iopub.status.idle": "2024-03-23T05:13:20.441558Z",
     "shell.execute_reply": "2024-03-23T05:13:20.441142Z"
    },
    "papermill": {
     "duration": 0.048468,
     "end_time": "2024-03-23T05:13:20.442303",
     "exception": false,
     "start_time": "2024-03-23T05:13:20.393835",
     "status": "completed"
    },
    "tags": []
   },
   "outputs": [],
   "source": [
    "paragraph_matches.append(\n",
    "    (\n",
    "        section_name,\n",
    "        par0,\n",
    "        par1,\n",
    "    )\n",
    ")"
   ]
  },
  {
   "cell_type": "code",
   "execution_count": 284,
   "id": "64b0825d-e351-42af-b3f9-7cade9c7b46a",
   "metadata": {
    "execution": {
     "iopub.execute_input": "2024-03-23T05:13:20.534260Z",
     "iopub.status.busy": "2024-03-23T05:13:20.533741Z",
     "iopub.status.idle": "2024-03-23T05:13:20.537378Z",
     "shell.execute_reply": "2024-03-23T05:13:20.536948Z"
    },
    "papermill": {
     "duration": 0.050512,
     "end_time": "2024-03-23T05:13:20.538098",
     "exception": false,
     "start_time": "2024-03-23T05:13:20.487586",
     "status": "completed"
    },
    "tags": []
   },
   "outputs": [
    {
     "data": {
      "text/plain": [
       "('methods',\n",
       " '**Fluorescent dye staining.** 9 days after puromycin selection, cells were assigned to 2 groups. 20-30M cells were collected as Unsorted Control. The cell pellet was spun down at 500 x g for 5min at 4oC. The dry pellet was kept at -80oC for further genomic DNA isolation. The rest of the cells (approximately 200M) were kept in 100mm dishes and stained with a fluorescent dye (LipidSpotTM 488, Biotium, Cat. 70065-T). In Brief, LipidSpot 488 was diluted to 1:100 with DPBS. 4ml of staining solution was used for each dish and incubated at 37oC for 30min. Cell images were captured through fluorescent microscope EVOS for GFP signal detection (Figure @fig:sup:crispr:fig1).',\n",
       " '**Fluorescent dye staining.** Nine days after puromycin selection, cells were divided into two groups. Twenty to thirty million cells were collected as the Unsorted Control. The cell pellet was centrifuged at 500 x g for 5 minutes at 4°C. The dry pellet was stored at -80°C for subsequent genomic DNA isolation. The remaining cells (approximately 200 million) were cultured in 100 mm dishes and stained with a fluorescent dye (LipidSpotTM 488, Biotium, Cat. 70065-T). In brief, LipidSpot 488 was diluted to 1:100 with DPBS. Four milliliters of the staining solution were added to each dish and incubated at 37°C for 30 minutes. Cell images were captured using a fluorescent microscope EVOS for GFP signal detection (Figure 1).')"
      ]
     },
     "metadata": {},
     "output_type": "display_data"
    }
   ],
   "source": [
    "display(paragraph_matches[-1])"
   ]
  },
  {
   "cell_type": "markdown",
   "id": "046e8319-1bc5-4c2d-830f-6caab1cd7c75",
   "metadata": {
    "editable": true,
    "papermill": {
     "duration": 0.045188,
     "end_time": "2024-03-23T05:13:20.629723",
     "exception": false,
     "start_time": "2024-03-23T05:13:20.584535",
     "status": "completed"
    },
    "slideshow": {
     "slide_type": ""
    },
    "tags": []
   },
   "source": [
    "####  Paragraph 20"
   ]
  },
  {
   "cell_type": "code",
   "execution_count": 285,
   "id": "431c4845-62c7-491a-88c8-7fcd873f34da",
   "metadata": {
    "execution": {
     "iopub.execute_input": "2024-03-23T05:13:20.721630Z",
     "iopub.status.busy": "2024-03-23T05:13:20.721121Z",
     "iopub.status.idle": "2024-03-23T05:13:20.724312Z",
     "shell.execute_reply": "2024-03-23T05:13:20.723865Z"
    },
    "papermill": {
     "duration": 0.050114,
     "end_time": "2024-03-23T05:13:20.724999",
     "exception": false,
     "start_time": "2024-03-23T05:13:20.674885",
     "status": "completed"
    },
    "tags": []
   },
   "outputs": [
    {
     "name": "stdout",
     "output_type": "stream",
     "text": [
      "**Fluorescence-activated cell sorting (FACS).** Cells were immediately collected into 50ml tubes (From this point on, keep cells cold), and spun at 500 x g for 5min at 4oC. After DPBS wash, cell pellets were resuspended with FACS Sorting Buffer (1x DPBS without Ca2+/Mg2+, 2.5mM EDTA, 25mM HEPES, 1% BSA. The solution was filter sterilized, and kept at 4oC), with gentle pipetting to make single cells. The cell solution was then filtered through a cell strainer (Falcon, Cat. 352235) and was kept on ice, protected from light. Collected cells were sorted on FACSJazz. 100um nozzle was used for sorting. ~20% of each GFP-High and GFP-Low (Figure @fig:sup:crispr:fig2) were collected into 15ml tubes. After sorting, cells were immediately spun down. Pellets were kept at -80oC for further genomic DNA isolation.\n"
     ]
    }
   ],
   "source": [
    "par0 = process_paragraph(orig_section_paragraphs[61])\n",
    "print(par0)"
   ]
  },
  {
   "cell_type": "code",
   "execution_count": 286,
   "id": "a0851e75-6d8a-4354-8d85-c323c6b2dc86",
   "metadata": {
    "execution": {
     "iopub.execute_input": "2024-03-23T05:13:20.844823Z",
     "iopub.status.busy": "2024-03-23T05:13:20.844646Z",
     "iopub.status.idle": "2024-03-23T05:13:20.847558Z",
     "shell.execute_reply": "2024-03-23T05:13:20.847132Z"
    },
    "papermill": {
     "duration": 0.049982,
     "end_time": "2024-03-23T05:13:20.848269",
     "exception": false,
     "start_time": "2024-03-23T05:13:20.798287",
     "status": "completed"
    },
    "tags": []
   },
   "outputs": [
    {
     "name": "stdout",
     "output_type": "stream",
     "text": [
      "**Fluorescence-activated cell sorting (FACS).** Cells were immediately collected into 50 mL tubes (from this point on, keep cells cold) and spun at 500 x g for 5 minutes at 4°C. After DPBS wash, cell pellets were resuspended with FACS Sorting Buffer (1x DPBS without Ca2+/Mg2+, 2.5 mM EDTA, 25 mM HEPES, 1% BSA). The solution was filter sterilized and kept at 4°C, with gentle pipetting to ensure single cells. The cell solution was then filtered through a cell strainer (Falcon, Cat. 352235) and kept on ice, protected from light. Collected cells were sorted on FACSJazz using a 100 μm nozzle for sorting. Approximately 20% of each GFP-High and GFP-Low population (Figure 2) were collected into 15 mL tubes. After sorting, cells were immediately spun down, and pellets were kept at -80°C for further genomic DNA isolation.\n"
     ]
    }
   ],
   "source": [
    "par1 = process_paragraph(mod_section_paragraphs[91])\n",
    "print(par1)"
   ]
  },
  {
   "cell_type": "code",
   "execution_count": 287,
   "id": "a9475e73-1267-474c-ba1e-2337e5ce7de1",
   "metadata": {
    "execution": {
     "iopub.execute_input": "2024-03-23T05:13:20.939631Z",
     "iopub.status.busy": "2024-03-23T05:13:20.939453Z",
     "iopub.status.idle": "2024-03-23T05:13:20.942014Z",
     "shell.execute_reply": "2024-03-23T05:13:20.941582Z"
    },
    "papermill": {
     "duration": 0.048887,
     "end_time": "2024-03-23T05:13:20.942716",
     "exception": false,
     "start_time": "2024-03-23T05:13:20.893829",
     "status": "completed"
    },
    "tags": []
   },
   "outputs": [],
   "source": [
    "paragraph_matches.append(\n",
    "    (\n",
    "        section_name,\n",
    "        par0,\n",
    "        par1,\n",
    "    )\n",
    ")"
   ]
  },
  {
   "cell_type": "code",
   "execution_count": 288,
   "id": "f89664d0-7ad4-4095-ae7e-c97d5afcb512",
   "metadata": {
    "execution": {
     "iopub.execute_input": "2024-03-23T05:13:21.034609Z",
     "iopub.status.busy": "2024-03-23T05:13:21.034220Z",
     "iopub.status.idle": "2024-03-23T05:13:21.037781Z",
     "shell.execute_reply": "2024-03-23T05:13:21.037329Z"
    },
    "papermill": {
     "duration": 0.050311,
     "end_time": "2024-03-23T05:13:21.038509",
     "exception": false,
     "start_time": "2024-03-23T05:13:20.988198",
     "status": "completed"
    },
    "tags": []
   },
   "outputs": [
    {
     "data": {
      "text/plain": [
       "('methods',\n",
       " '**Fluorescence-activated cell sorting (FACS).** Cells were immediately collected into 50ml tubes (From this point on, keep cells cold), and spun at 500 x g for 5min at 4oC. After DPBS wash, cell pellets were resuspended with FACS Sorting Buffer (1x DPBS without Ca2+/Mg2+, 2.5mM EDTA, 25mM HEPES, 1% BSA. The solution was filter sterilized, and kept at 4oC), with gentle pipetting to make single cells. The cell solution was then filtered through a cell strainer (Falcon, Cat. 352235) and was kept on ice, protected from light. Collected cells were sorted on FACSJazz. 100um nozzle was used for sorting. ~20% of each GFP-High and GFP-Low (Figure @fig:sup:crispr:fig2) were collected into 15ml tubes. After sorting, cells were immediately spun down. Pellets were kept at -80oC for further genomic DNA isolation.',\n",
       " '**Fluorescence-activated cell sorting (FACS).** Cells were immediately collected into 50 mL tubes (from this point on, keep cells cold) and spun at 500 x g for 5 minutes at 4°C. After DPBS wash, cell pellets were resuspended with FACS Sorting Buffer (1x DPBS without Ca2+/Mg2+, 2.5 mM EDTA, 25 mM HEPES, 1% BSA). The solution was filter sterilized and kept at 4°C, with gentle pipetting to ensure single cells. The cell solution was then filtered through a cell strainer (Falcon, Cat. 352235) and kept on ice, protected from light. Collected cells were sorted on FACSJazz using a 100 μm nozzle for sorting. Approximately 20% of each GFP-High and GFP-Low population (Figure 2) were collected into 15 mL tubes. After sorting, cells were immediately spun down, and pellets were kept at -80°C for further genomic DNA isolation.')"
      ]
     },
     "metadata": {},
     "output_type": "display_data"
    }
   ],
   "source": [
    "display(paragraph_matches[-1])"
   ]
  },
  {
   "cell_type": "markdown",
   "id": "1cb3e015-b219-4bd7-bcb1-f83f218e6526",
   "metadata": {
    "editable": true,
    "papermill": {
     "duration": 0.045218,
     "end_time": "2024-03-23T05:13:21.129485",
     "exception": false,
     "start_time": "2024-03-23T05:13:21.084267",
     "status": "completed"
    },
    "slideshow": {
     "slide_type": ""
    },
    "tags": []
   },
   "source": [
    "####  Paragraph 21"
   ]
  },
  {
   "cell_type": "code",
   "execution_count": 289,
   "id": "a6dbe416-3e32-449b-90cf-65c69356b5b4",
   "metadata": {
    "execution": {
     "iopub.execute_input": "2024-03-23T05:13:21.220463Z",
     "iopub.status.busy": "2024-03-23T05:13:21.220282Z",
     "iopub.status.idle": "2024-03-23T05:13:21.223278Z",
     "shell.execute_reply": "2024-03-23T05:13:21.222802Z"
    },
    "papermill": {
     "duration": 0.049438,
     "end_time": "2024-03-23T05:13:21.223973",
     "exception": false,
     "start_time": "2024-03-23T05:13:21.174535",
     "status": "completed"
    },
    "tags": []
   },
   "outputs": [
    {
     "name": "stdout",
     "output_type": "stream",
     "text": [
      "**Genomic DNA isolation and verification.** Three conditions of Genomic DNA (Un-Sorted Control, lentiV2 GFP-High, and lentiV2 GFP-Low) were extracted using QIAamp DNA Blood Mini Kit (Qiagen, Cat.51104), followed by UV Spectroscopy (Nanodrop) to access the quality and quantity of the gDNA. A total of 80-160ug of gDNA was isolated for each condition. sgRNA cassette and lentiviral specific transgene in isolated gDNA were verified through PCR (Figure @fig:sup:crispr:fig3).\n"
     ]
    }
   ],
   "source": [
    "par0 = process_paragraph(orig_section_paragraphs[62])\n",
    "print(par0)"
   ]
  },
  {
   "cell_type": "code",
   "execution_count": 290,
   "id": "49e60386-273a-472e-92ca-684d41f72c80",
   "metadata": {
    "execution": {
     "iopub.execute_input": "2024-03-23T05:13:21.327102Z",
     "iopub.status.busy": "2024-03-23T05:13:21.326848Z",
     "iopub.status.idle": "2024-03-23T05:13:21.330176Z",
     "shell.execute_reply": "2024-03-23T05:13:21.329634Z"
    },
    "papermill": {
     "duration": 0.057033,
     "end_time": "2024-03-23T05:13:21.330875",
     "exception": false,
     "start_time": "2024-03-23T05:13:21.273842",
     "status": "completed"
    },
    "tags": []
   },
   "outputs": [
    {
     "name": "stdout",
     "output_type": "stream",
     "text": [
      "**Genomic DNA isolation and verification.** Three conditions of Genomic DNA (Un-Sorted Control, lentiV2 GFP-High, and lentiV2 GFP-Low) were extracted using the QIAamp DNA Blood Mini Kit (Qiagen, Cat.51104), followed by UV Spectroscopy (Nanodrop) to assess the quality and quantity of the gDNA. A total of 80-160 µg of gDNA was isolated for each condition. The sgRNA cassette and lentiviral specific transgene in the isolated gDNA were verified through PCR (Figure 3).\n"
     ]
    }
   ],
   "source": [
    "par1 = process_paragraph(mod_section_paragraphs[92])\n",
    "print(par1)"
   ]
  },
  {
   "cell_type": "code",
   "execution_count": 291,
   "id": "d2805c95-d999-4593-a8e1-8a739031d897",
   "metadata": {
    "execution": {
     "iopub.execute_input": "2024-03-23T05:13:21.435222Z",
     "iopub.status.busy": "2024-03-23T05:13:21.434684Z",
     "iopub.status.idle": "2024-03-23T05:13:21.437547Z",
     "shell.execute_reply": "2024-03-23T05:13:21.437091Z"
    },
    "papermill": {
     "duration": 0.055637,
     "end_time": "2024-03-23T05:13:21.438352",
     "exception": false,
     "start_time": "2024-03-23T05:13:21.382715",
     "status": "completed"
    },
    "tags": []
   },
   "outputs": [],
   "source": [
    "paragraph_matches.append(\n",
    "    (\n",
    "        section_name,\n",
    "        par0,\n",
    "        par1,\n",
    "    )\n",
    ")"
   ]
  },
  {
   "cell_type": "code",
   "execution_count": 292,
   "id": "91854d74-8348-40e5-bf64-f4968201c357",
   "metadata": {
    "execution": {
     "iopub.execute_input": "2024-03-23T05:13:21.559747Z",
     "iopub.status.busy": "2024-03-23T05:13:21.559515Z",
     "iopub.status.idle": "2024-03-23T05:13:21.563530Z",
     "shell.execute_reply": "2024-03-23T05:13:21.562974Z"
    },
    "papermill": {
     "duration": 0.051834,
     "end_time": "2024-03-23T05:13:21.564348",
     "exception": false,
     "start_time": "2024-03-23T05:13:21.512514",
     "status": "completed"
    },
    "tags": []
   },
   "outputs": [
    {
     "data": {
      "text/plain": [
       "('methods',\n",
       " '**Genomic DNA isolation and verification.** Three conditions of Genomic DNA (Un-Sorted Control, lentiV2 GFP-High, and lentiV2 GFP-Low) were extracted using QIAamp DNA Blood Mini Kit (Qiagen, Cat.51104), followed by UV Spectroscopy (Nanodrop) to access the quality and quantity of the gDNA. A total of 80-160ug of gDNA was isolated for each condition. sgRNA cassette and lentiviral specific transgene in isolated gDNA were verified through PCR (Figure @fig:sup:crispr:fig3).',\n",
       " '**Genomic DNA isolation and verification.** Three conditions of Genomic DNA (Un-Sorted Control, lentiV2 GFP-High, and lentiV2 GFP-Low) were extracted using the QIAamp DNA Blood Mini Kit (Qiagen, Cat.51104), followed by UV Spectroscopy (Nanodrop) to assess the quality and quantity of the gDNA. A total of 80-160 µg of gDNA was isolated for each condition. The sgRNA cassette and lentiviral specific transgene in the isolated gDNA were verified through PCR (Figure 3).')"
      ]
     },
     "metadata": {},
     "output_type": "display_data"
    }
   ],
   "source": [
    "display(paragraph_matches[-1])"
   ]
  },
  {
   "cell_type": "markdown",
   "id": "7f02b936-f260-4d0e-b191-46557d8c5c0e",
   "metadata": {
    "editable": true,
    "papermill": {
     "duration": 0.045464,
     "end_time": "2024-03-23T05:13:21.657195",
     "exception": false,
     "start_time": "2024-03-23T05:13:21.611731",
     "status": "completed"
    },
    "slideshow": {
     "slide_type": ""
    },
    "tags": []
   },
   "source": [
    "####  Paragraph 22"
   ]
  },
  {
   "cell_type": "code",
   "execution_count": 293,
   "id": "0bdeed20-2d9a-42e5-89e7-5a19463b3c36",
   "metadata": {
    "execution": {
     "iopub.execute_input": "2024-03-23T05:13:21.749984Z",
     "iopub.status.busy": "2024-03-23T05:13:21.749383Z",
     "iopub.status.idle": "2024-03-23T05:13:21.752901Z",
     "shell.execute_reply": "2024-03-23T05:13:21.752345Z"
    },
    "papermill": {
     "duration": 0.0505,
     "end_time": "2024-03-23T05:13:21.753691",
     "exception": false,
     "start_time": "2024-03-23T05:13:21.703191",
     "status": "completed"
    },
    "tags": []
   },
   "outputs": [
    {
     "name": "stdout",
     "output_type": "stream",
     "text": [
      "**Illumina libraries generation and sequencing.** The fragment containing sgRNA cassette was amplified using P5 /P7 primers, as indicated in [@pmid:26780180], and primer sequences were adapted from Broad Institute protocol (Figure @fig:sup:crispr:table1). Stagger sequence (0-8nt) was included in P5 and 8bp uniquely barcoded sequence in P7. Primers were synthesized through Integrated DNA Technologies (IDT), and each primer was PAGE purified. 32 PCR reactions were set up for each condition. Each 100ul PCR reaction consists of roughly 5ug of gDNA, 5ul of each 10uM P5 and P7. ExTaq DNA Polymerase (TaKaRa, Cat. RR001A) was used to amplify the amplicon. PCR Thermal Cycler Parameters set as Initial at 95oC for 1min; followed by 24 cycles of Denaturation at 94oC for 30 seconds, Annealing at 52.5oC for 30 seconds, Extension at 72oC for 30 seconds. A final Elongation at 72oC for 10 minutes. 285bp-293bp PCR products were expected (Figure @fig:sup:crispr:fig4 A). PCR products within the same condition were pooled and purified using SPRIselect beads (Beckman Coulter, Cat. B23318). Purified Illumina libraries were quantitated on Qubit, and the quality of the library was analyzed on Bio-analyzer using High Sensitivity DNA Chip. A single approximate 285bp peak was expected (Figure @fig:sup:crispr:fig4 B). Final Illumina library samples were sequenced on Nova-seq 6000. Samples were pooled and loaded on an SP flow cell, along with a 20% PhiX control v3 library spike-in.\n"
     ]
    }
   ],
   "source": [
    "par0 = process_paragraph(orig_section_paragraphs[63])\n",
    "print(par0)"
   ]
  },
  {
   "cell_type": "code",
   "execution_count": 294,
   "id": "1445c66d-f0d7-42de-8b60-5fcb8ba2bc72",
   "metadata": {
    "execution": {
     "iopub.execute_input": "2024-03-23T05:13:21.846602Z",
     "iopub.status.busy": "2024-03-23T05:13:21.846147Z",
     "iopub.status.idle": "2024-03-23T05:13:21.849793Z",
     "shell.execute_reply": "2024-03-23T05:13:21.849138Z"
    },
    "papermill": {
     "duration": 0.05069,
     "end_time": "2024-03-23T05:13:21.850616",
     "exception": false,
     "start_time": "2024-03-23T05:13:21.799926",
     "status": "completed"
    },
    "tags": []
   },
   "outputs": [
    {
     "name": "stdout",
     "output_type": "stream",
     "text": [
      "**Illumina libraries generation and sequencing.** The fragment containing the sgRNA cassette was amplified using P5/P7 primers, as indicated in (Doench et al., 2016), and primer sequences were adapted from the Broad Institute protocol (Figure 1). The stagger sequence (0-8 nt) was included in P5, and an 8 bp uniquely barcoded sequence was included in P7. Primers were synthesized through Integrated DNA Technologies (IDT), and each primer was PAGE purified. 32 PCR reactions were set up for each condition. Each 100 μl PCR reaction consisted of roughly 5 μg of gDNA, 5 μl of each 10 μM P5 and P7 primers. ExTaq DNA Polymerase (TaKaRa, Cat. RR001A) was used to amplify the amplicon. The PCR thermal cycler parameters were set as follows: initial denaturation at 95°C for 1 min; followed by 24 cycles of denaturation at 94°C for 30 seconds, annealing at 52.5°C for 30 seconds, extension at 72°C for 30 seconds. A final elongation step at 72°C for 10 minutes was performed. PCR products of 285-293 bp were expected (Figure 2A). PCR products within the same condition were pooled and purified using SPRIselect beads (Beckman Coulter, Cat. B23318). The purified Illumina libraries were quantitated on Qubit, and the quality of the library was analyzed on a Bioanalyzer using a High Sensitivity DNA Chip. A single approximate 285 bp peak was expected (Figure 2B). The final Illumina library samples were sequenced on a NovaSeq 6000. Samples were pooled and loaded on an SP flow cell, along with a 20% PhiX control v3 library spike-in.\n"
     ]
    }
   ],
   "source": [
    "par1 = process_paragraph(mod_section_paragraphs[94])\n",
    "print(par1)"
   ]
  },
  {
   "cell_type": "code",
   "execution_count": 295,
   "id": "dbe5493f-dc89-4750-9808-08c24b76f328",
   "metadata": {
    "execution": {
     "iopub.execute_input": "2024-03-23T05:13:21.942497Z",
     "iopub.status.busy": "2024-03-23T05:13:21.942053Z",
     "iopub.status.idle": "2024-03-23T05:13:21.944892Z",
     "shell.execute_reply": "2024-03-23T05:13:21.944339Z"
    },
    "papermill": {
     "duration": 0.049417,
     "end_time": "2024-03-23T05:13:21.945616",
     "exception": false,
     "start_time": "2024-03-23T05:13:21.896199",
     "status": "completed"
    },
    "tags": []
   },
   "outputs": [],
   "source": [
    "paragraph_matches.append(\n",
    "    (\n",
    "        section_name,\n",
    "        par0,\n",
    "        par1,\n",
    "    )\n",
    ")"
   ]
  },
  {
   "cell_type": "code",
   "execution_count": 296,
   "id": "3f81984f-bd47-4d56-b791-66ed14de1ce7",
   "metadata": {
    "execution": {
     "iopub.execute_input": "2024-03-23T05:13:22.037517Z",
     "iopub.status.busy": "2024-03-23T05:13:22.037086Z",
     "iopub.status.idle": "2024-03-23T05:13:22.041010Z",
     "shell.execute_reply": "2024-03-23T05:13:22.040456Z"
    },
    "papermill": {
     "duration": 0.050594,
     "end_time": "2024-03-23T05:13:22.041736",
     "exception": false,
     "start_time": "2024-03-23T05:13:21.991142",
     "status": "completed"
    },
    "tags": []
   },
   "outputs": [
    {
     "data": {
      "text/plain": [
       "('methods',\n",
       " '**Illumina libraries generation and sequencing.** The fragment containing sgRNA cassette was amplified using P5 /P7 primers, as indicated in [@pmid:26780180], and primer sequences were adapted from Broad Institute protocol (Figure @fig:sup:crispr:table1). Stagger sequence (0-8nt) was included in P5 and 8bp uniquely barcoded sequence in P7. Primers were synthesized through Integrated DNA Technologies (IDT), and each primer was PAGE purified. 32 PCR reactions were set up for each condition. Each 100ul PCR reaction consists of roughly 5ug of gDNA, 5ul of each 10uM P5 and P7. ExTaq DNA Polymerase (TaKaRa, Cat. RR001A) was used to amplify the amplicon. PCR Thermal Cycler Parameters set as Initial at 95oC for 1min; followed by 24 cycles of Denaturation at 94oC for 30 seconds, Annealing at 52.5oC for 30 seconds, Extension at 72oC for 30 seconds. A final Elongation at 72oC for 10 minutes. 285bp-293bp PCR products were expected (Figure @fig:sup:crispr:fig4 A). PCR products within the same condition were pooled and purified using SPRIselect beads (Beckman Coulter, Cat. B23318). Purified Illumina libraries were quantitated on Qubit, and the quality of the library was analyzed on Bio-analyzer using High Sensitivity DNA Chip. A single approximate 285bp peak was expected (Figure @fig:sup:crispr:fig4 B). Final Illumina library samples were sequenced on Nova-seq 6000. Samples were pooled and loaded on an SP flow cell, along with a 20% PhiX control v3 library spike-in.',\n",
       " '**Illumina libraries generation and sequencing.** The fragment containing the sgRNA cassette was amplified using P5/P7 primers, as indicated in (Doench et al., 2016), and primer sequences were adapted from the Broad Institute protocol (Figure 1). The stagger sequence (0-8 nt) was included in P5, and an 8 bp uniquely barcoded sequence was included in P7. Primers were synthesized through Integrated DNA Technologies (IDT), and each primer was PAGE purified. 32 PCR reactions were set up for each condition. Each 100 μl PCR reaction consisted of roughly 5 μg of gDNA, 5 μl of each 10 μM P5 and P7 primers. ExTaq DNA Polymerase (TaKaRa, Cat. RR001A) was used to amplify the amplicon. The PCR thermal cycler parameters were set as follows: initial denaturation at 95°C for 1 min; followed by 24 cycles of denaturation at 94°C for 30 seconds, annealing at 52.5°C for 30 seconds, extension at 72°C for 30 seconds. A final elongation step at 72°C for 10 minutes was performed. PCR products of 285-293 bp were expected (Figure 2A). PCR products within the same condition were pooled and purified using SPRIselect beads (Beckman Coulter, Cat. B23318). The purified Illumina libraries were quantitated on Qubit, and the quality of the library was analyzed on a Bioanalyzer using a High Sensitivity DNA Chip. A single approximate 285 bp peak was expected (Figure 2B). The final Illumina library samples were sequenced on a NovaSeq 6000. Samples were pooled and loaded on an SP flow cell, along with a 20% PhiX control v3 library spike-in.')"
      ]
     },
     "metadata": {},
     "output_type": "display_data"
    }
   ],
   "source": [
    "display(paragraph_matches[-1])"
   ]
  },
  {
   "cell_type": "markdown",
   "id": "79f2160d-e9e6-4990-ba15-569726b97d07",
   "metadata": {
    "editable": true,
    "papermill": {
     "duration": 0.045543,
     "end_time": "2024-03-23T05:13:22.133020",
     "exception": false,
     "start_time": "2024-03-23T05:13:22.087477",
     "status": "completed"
    },
    "slideshow": {
     "slide_type": ""
    },
    "tags": []
   },
   "source": [
    "####  Paragraph 23"
   ]
  },
  {
   "cell_type": "code",
   "execution_count": 297,
   "id": "6710d71e-2c61-4122-a180-dd4b156f7558",
   "metadata": {
    "execution": {
     "iopub.execute_input": "2024-03-23T05:13:22.225068Z",
     "iopub.status.busy": "2024-03-23T05:13:22.224583Z",
     "iopub.status.idle": "2024-03-23T05:13:22.228040Z",
     "shell.execute_reply": "2024-03-23T05:13:22.227472Z"
    },
    "papermill": {
     "duration": 0.050339,
     "end_time": "2024-03-23T05:13:22.228806",
     "exception": false,
     "start_time": "2024-03-23T05:13:22.178467",
     "status": "completed"
    },
    "tags": []
   },
   "outputs": [
    {
     "name": "stdout",
     "output_type": "stream",
     "text": [
      "The data used from PhenomeXcan, LINCS L1000, and MultiPLIER are publicly available. All significant results reported for the eMERGE and Penn Medicine BioBank (PMBB) phenome-wide TWAS are contained in [@doi:10.1101/2021.10.21.21265225]. The individual-level PMBB raw datasets can not be made publicly available due to institutional privacy policy. Please contact Penn Medicine Biobank ([https://pmbb.med.upenn.edu/pmbb/](https://pmbb.med.upenn.edu/pmbb/)) for requests of access to data. eMERGE network phase III data is available on dbGAP (Accession: phs001584.v2.p2).\n"
     ]
    }
   ],
   "source": [
    "par0 = process_paragraph(orig_section_paragraphs[67])\n",
    "print(par0)"
   ]
  },
  {
   "cell_type": "code",
   "execution_count": 298,
   "id": "e28c7cc8-8e82-4f66-b4d0-a3d9bc58ef59",
   "metadata": {
    "execution": {
     "iopub.execute_input": "2024-03-23T05:13:22.321028Z",
     "iopub.status.busy": "2024-03-23T05:13:22.320695Z",
     "iopub.status.idle": "2024-03-23T05:13:22.323844Z",
     "shell.execute_reply": "2024-03-23T05:13:22.323260Z"
    },
    "papermill": {
     "duration": 0.050191,
     "end_time": "2024-03-23T05:13:22.324670",
     "exception": false,
     "start_time": "2024-03-23T05:13:22.274479",
     "status": "completed"
    },
    "tags": []
   },
   "outputs": [
    {
     "name": "stdout",
     "output_type": "stream",
     "text": [
      "The data utilized from PhenomeXcan, LINCS L1000, and MultiPLIER are publicly available. All significant results reported for the eMERGE and Penn Medicine BioBank (PMBB) phenome-wide TWAS are contained in the study by Gusev et al. (2021). The individual-level PMBB raw datasets cannot be made publicly available due to institutional privacy policy. For requests for access to data, please contact the Penn Medicine Biobank at [https://pmbb.med.upenn.edu/pmbb/](https://pmbb.med.upenn.edu/pmbb/). The eMERGE network phase III data is accessible on dbGAP (Accession: phs001584.v2.p2).\n"
     ]
    }
   ],
   "source": [
    "par1 = process_paragraph(mod_section_paragraphs[98])\n",
    "print(par1)"
   ]
  },
  {
   "cell_type": "code",
   "execution_count": 299,
   "id": "236a578e-5c88-4496-86d2-39e642356b7c",
   "metadata": {
    "execution": {
     "iopub.execute_input": "2024-03-23T05:13:22.444388Z",
     "iopub.status.busy": "2024-03-23T05:13:22.444061Z",
     "iopub.status.idle": "2024-03-23T05:13:22.446826Z",
     "shell.execute_reply": "2024-03-23T05:13:22.446275Z"
    },
    "papermill": {
     "duration": 0.049963,
     "end_time": "2024-03-23T05:13:22.447592",
     "exception": false,
     "start_time": "2024-03-23T05:13:22.397629",
     "status": "completed"
    },
    "tags": []
   },
   "outputs": [],
   "source": [
    "paragraph_matches.append(\n",
    "    (\n",
    "        section_name,\n",
    "        par0,\n",
    "        par1,\n",
    "    )\n",
    ")"
   ]
  },
  {
   "cell_type": "code",
   "execution_count": 300,
   "id": "38188aa4-63b5-4080-b6d1-834bb54f3ce7",
   "metadata": {
    "execution": {
     "iopub.execute_input": "2024-03-23T05:13:22.539907Z",
     "iopub.status.busy": "2024-03-23T05:13:22.539537Z",
     "iopub.status.idle": "2024-03-23T05:13:22.543555Z",
     "shell.execute_reply": "2024-03-23T05:13:22.543002Z"
    },
    "papermill": {
     "duration": 0.051179,
     "end_time": "2024-03-23T05:13:22.544360",
     "exception": false,
     "start_time": "2024-03-23T05:13:22.493181",
     "status": "completed"
    },
    "tags": []
   },
   "outputs": [
    {
     "data": {
      "text/plain": [
       "('methods',\n",
       " 'The data used from PhenomeXcan, LINCS L1000, and MultiPLIER are publicly available. All significant results reported for the eMERGE and Penn Medicine BioBank (PMBB) phenome-wide TWAS are contained in [@doi:10.1101/2021.10.21.21265225]. The individual-level PMBB raw datasets can not be made publicly available due to institutional privacy policy. Please contact Penn Medicine Biobank ([https://pmbb.med.upenn.edu/pmbb/](https://pmbb.med.upenn.edu/pmbb/)) for requests of access to data. eMERGE network phase III data is available on dbGAP (Accession: phs001584.v2.p2).',\n",
       " 'The data utilized from PhenomeXcan, LINCS L1000, and MultiPLIER are publicly available. All significant results reported for the eMERGE and Penn Medicine BioBank (PMBB) phenome-wide TWAS are contained in the study by Gusev et al. (2021). The individual-level PMBB raw datasets cannot be made publicly available due to institutional privacy policy. For requests for access to data, please contact the Penn Medicine Biobank at [https://pmbb.med.upenn.edu/pmbb/](https://pmbb.med.upenn.edu/pmbb/). The eMERGE network phase III data is accessible on dbGAP (Accession: phs001584.v2.p2).')"
      ]
     },
     "metadata": {},
     "output_type": "display_data"
    }
   ],
   "source": [
    "display(paragraph_matches[-1])"
   ]
  },
  {
   "cell_type": "markdown",
   "id": "77e5ec69-c2b2-466c-84ea-d991bf5856ac",
   "metadata": {
    "editable": true,
    "papermill": {
     "duration": 0.045569,
     "end_time": "2024-03-23T05:13:22.635644",
     "exception": false,
     "start_time": "2024-03-23T05:13:22.590075",
     "status": "completed"
    },
    "slideshow": {
     "slide_type": ""
    },
    "tags": []
   },
   "source": [
    "####  Paragraph 24"
   ]
  },
  {
   "cell_type": "code",
   "execution_count": 301,
   "id": "11b4c11c-cddc-442e-b31f-24fecea4024d",
   "metadata": {
    "execution": {
     "iopub.execute_input": "2024-03-23T05:13:22.727857Z",
     "iopub.status.busy": "2024-03-23T05:13:22.727506Z",
     "iopub.status.idle": "2024-03-23T05:13:22.730693Z",
     "shell.execute_reply": "2024-03-23T05:13:22.730126Z"
    },
    "papermill": {
     "duration": 0.050178,
     "end_time": "2024-03-23T05:13:22.731419",
     "exception": false,
     "start_time": "2024-03-23T05:13:22.681241",
     "status": "completed"
    },
    "tags": []
   },
   "outputs": [
    {
     "name": "stdout",
     "output_type": "stream",
     "text": [
      "For the CRISPR screening, we used FlowJo v10.7 and FACS Jazz Software v1.1. For data analysis, we used Python 3.8 and R 3.6 with several computational packages. The main Python packages used were: Jupyter Lab (2.2), pandas (1.1), matplotlib (3.3), seaborn (0.11), numpy (1.19), scipy (1.5), scikit-learn (0.23), and umap-learn (0.4). The main R packages were: Bioconductor (3.10), clusterProfiler (3.14), clustree (0.4), and fgsea (1.17). We also developed several scripts and notebooks which are published under an open-source license. We documented all the steps necessary to carry out all the analyses. We also provide a Docker image to use the same runtime environment we used, and a demo to quickly test the methods on real data.\n"
     ]
    }
   ],
   "source": [
    "par0 = process_paragraph(orig_section_paragraphs[70])\n",
    "print(par0)"
   ]
  },
  {
   "cell_type": "code",
   "execution_count": 302,
   "id": "308dcd3d-20ef-4c96-95e5-d5a0f3f6a79f",
   "metadata": {
    "execution": {
     "iopub.execute_input": "2024-03-23T05:13:22.823293Z",
     "iopub.status.busy": "2024-03-23T05:13:22.822859Z",
     "iopub.status.idle": "2024-03-23T05:13:22.826175Z",
     "shell.execute_reply": "2024-03-23T05:13:22.825573Z"
    },
    "papermill": {
     "duration": 0.050094,
     "end_time": "2024-03-23T05:13:22.826966",
     "exception": false,
     "start_time": "2024-03-23T05:13:22.776872",
     "status": "completed"
    },
    "tags": []
   },
   "outputs": [
    {
     "name": "stdout",
     "output_type": "stream",
     "text": [
      "For the CRISPR screening, FlowJo v10.7 and FACS Jazz Software v1.1 were utilized. Data analysis was conducted using Python 3.8 and R 3.6 along with various computational packages. The primary Python packages included Jupyter Lab (2.2), pandas (1.1), matplotlib (3.3), seaborn (0.11), numpy (1.19), scipy (1.5), scikit-learn (0.23), and umap-learn (0.4). In R, the main packages used were Bioconductor (3.10), clusterProfiler (3.14), clustree (0.4), and fgsea (1.17). Additionally, several scripts and notebooks were developed and made available under an open-source license. Detailed documentation outlining all analysis steps was provided. A Docker image was also made accessible to replicate the same runtime environment, along with a demo for quick testing of the methods on real data.\n"
     ]
    }
   ],
   "source": [
    "par1 = process_paragraph(mod_section_paragraphs[104])\n",
    "print(par1)"
   ]
  },
  {
   "cell_type": "code",
   "execution_count": 303,
   "id": "2e10f151-cac3-4e68-b19e-f64840b69558",
   "metadata": {
    "execution": {
     "iopub.execute_input": "2024-03-23T05:13:22.919997Z",
     "iopub.status.busy": "2024-03-23T05:13:22.919574Z",
     "iopub.status.idle": "2024-03-23T05:13:22.922431Z",
     "shell.execute_reply": "2024-03-23T05:13:22.921884Z"
    },
    "papermill": {
     "duration": 0.05015,
     "end_time": "2024-03-23T05:13:22.923232",
     "exception": false,
     "start_time": "2024-03-23T05:13:22.873082",
     "status": "completed"
    },
    "tags": []
   },
   "outputs": [],
   "source": [
    "paragraph_matches.append(\n",
    "    (\n",
    "        section_name,\n",
    "        par0,\n",
    "        par1,\n",
    "    )\n",
    ")"
   ]
  },
  {
   "cell_type": "code",
   "execution_count": 304,
   "id": "b0776d1f-3217-453a-9e01-448282a736e0",
   "metadata": {
    "execution": {
     "iopub.execute_input": "2024-03-23T05:13:23.044020Z",
     "iopub.status.busy": "2024-03-23T05:13:23.043505Z",
     "iopub.status.idle": "2024-03-23T05:13:23.047799Z",
     "shell.execute_reply": "2024-03-23T05:13:23.047283Z"
    },
    "papermill": {
     "duration": 0.079549,
     "end_time": "2024-03-23T05:13:23.048611",
     "exception": false,
     "start_time": "2024-03-23T05:13:22.969062",
     "status": "completed"
    },
    "tags": []
   },
   "outputs": [
    {
     "data": {
      "text/plain": [
       "('methods',\n",
       " 'For the CRISPR screening, we used FlowJo v10.7 and FACS Jazz Software v1.1. For data analysis, we used Python 3.8 and R 3.6 with several computational packages. The main Python packages used were: Jupyter Lab (2.2), pandas (1.1), matplotlib (3.3), seaborn (0.11), numpy (1.19), scipy (1.5), scikit-learn (0.23), and umap-learn (0.4). The main R packages were: Bioconductor (3.10), clusterProfiler (3.14), clustree (0.4), and fgsea (1.17). We also developed several scripts and notebooks which are published under an open-source license. We documented all the steps necessary to carry out all the analyses. We also provide a Docker image to use the same runtime environment we used, and a demo to quickly test the methods on real data.',\n",
       " 'For the CRISPR screening, FlowJo v10.7 and FACS Jazz Software v1.1 were utilized. Data analysis was conducted using Python 3.8 and R 3.6 along with various computational packages. The primary Python packages included Jupyter Lab (2.2), pandas (1.1), matplotlib (3.3), seaborn (0.11), numpy (1.19), scipy (1.5), scikit-learn (0.23), and umap-learn (0.4). In R, the main packages used were Bioconductor (3.10), clusterProfiler (3.14), clustree (0.4), and fgsea (1.17). Additionally, several scripts and notebooks were developed and made available under an open-source license. Detailed documentation outlining all analysis steps was provided. A Docker image was also made accessible to replicate the same runtime environment, along with a demo for quick testing of the methods on real data.')"
      ]
     },
     "metadata": {},
     "output_type": "display_data"
    }
   ],
   "source": [
    "display(paragraph_matches[-1])"
   ]
  },
  {
   "cell_type": "markdown",
   "id": "5b4e1f03-60f9-4a3d-ab74-65cb85a9d36b",
   "metadata": {
    "editable": true,
    "papermill": {
     "duration": 0.045694,
     "end_time": "2024-03-23T05:13:23.140647",
     "exception": false,
     "start_time": "2024-03-23T05:13:23.094953",
     "status": "completed"
    },
    "slideshow": {
     "slide_type": ""
    },
    "tags": []
   },
   "source": [
    "## Supplementary material"
   ]
  },
  {
   "cell_type": "code",
   "execution_count": 305,
   "id": "e184de79-b65b-4f97-b2aa-6516e6f4e31b",
   "metadata": {
    "execution": {
     "iopub.execute_input": "2024-03-23T05:13:23.233384Z",
     "iopub.status.busy": "2024-03-23T05:13:23.233047Z",
     "iopub.status.idle": "2024-03-23T05:13:23.235858Z",
     "shell.execute_reply": "2024-03-23T05:13:23.235406Z"
    },
    "papermill": {
     "duration": 0.050165,
     "end_time": "2024-03-23T05:13:23.236577",
     "exception": false,
     "start_time": "2024-03-23T05:13:23.186412",
     "status": "completed"
    },
    "tags": []
   },
   "outputs": [],
   "source": [
    "section_name = \"supplementary material\""
   ]
  },
  {
   "cell_type": "code",
   "execution_count": 306,
   "id": "8dc7e4d8-39e7-4726-a874-911e67ccba4f",
   "metadata": {
    "editable": true,
    "execution": {
     "iopub.execute_input": "2024-03-23T05:13:23.329517Z",
     "iopub.status.busy": "2024-03-23T05:13:23.329208Z",
     "iopub.status.idle": "2024-03-23T05:13:23.332240Z",
     "shell.execute_reply": "2024-03-23T05:13:23.331794Z"
    },
    "papermill": {
     "duration": 0.050266,
     "end_time": "2024-03-23T05:13:23.332947",
     "exception": false,
     "start_time": "2024-03-23T05:13:23.282681",
     "status": "completed"
    },
    "slideshow": {
     "slide_type": ""
    },
    "tags": []
   },
   "outputs": [
    {
     "name": "stdout",
     "output_type": "stream",
     "text": [
      "content/50.00.supplementary_material.md\n"
     ]
    }
   ],
   "source": [
    "pr_filename = pr_files[8].filename\n",
    "assert \"supplementary\" in pr_filename\n",
    "print(pr_filename)"
   ]
  },
  {
   "cell_type": "markdown",
   "id": "94c17d84-54be-4255-918b-c27c61e9aa9e",
   "metadata": {
    "editable": true,
    "papermill": {
     "duration": 0.045711,
     "end_time": "2024-03-23T05:13:23.425266",
     "exception": false,
     "start_time": "2024-03-23T05:13:23.379555",
     "status": "completed"
    },
    "slideshow": {
     "slide_type": ""
    },
    "tags": []
   },
   "source": [
    "### Original"
   ]
  },
  {
   "cell_type": "code",
   "execution_count": 307,
   "id": "5c308de8-95e5-448f-a37c-9873aa6ac138",
   "metadata": {
    "execution": {
     "iopub.execute_input": "2024-03-23T05:13:23.517498Z",
     "iopub.status.busy": "2024-03-23T05:13:23.517315Z",
     "iopub.status.idle": "2024-03-23T05:13:23.674229Z",
     "shell.execute_reply": "2024-03-23T05:13:23.673581Z"
    },
    "papermill": {
     "duration": 0.204381,
     "end_time": "2024-03-23T05:13:23.675396",
     "exception": false,
     "start_time": "2024-03-23T05:13:23.471015",
     "status": "completed"
    },
    "tags": []
   },
   "outputs": [
    {
     "name": "stdout",
     "output_type": "stream",
     "text": [
      "\\clearpage\n",
      "\n",
      "## Supplementary information {.page_br\n"
     ]
    }
   ],
   "source": [
    "# get content\n",
    "orig_section_content = repo.get_contents(pr_filename, pr_prev).decoded_content.decode(\n",
    "    \"utf-8\"\n",
    ")\n",
    "print(orig_section_content[:50])"
   ]
  },
  {
   "cell_type": "code",
   "execution_count": 308,
   "id": "898c86e2-7d49-46e1-a019-35b8e3aeac2c",
   "metadata": {
    "execution": {
     "iopub.execute_input": "2024-03-23T05:13:23.797156Z",
     "iopub.status.busy": "2024-03-23T05:13:23.796990Z",
     "iopub.status.idle": "2024-03-23T05:13:23.800183Z",
     "shell.execute_reply": "2024-03-23T05:13:23.799805Z"
    },
    "papermill": {
     "duration": 0.052916,
     "end_time": "2024-03-23T05:13:23.800883",
     "exception": false,
     "start_time": "2024-03-23T05:13:23.747967",
     "status": "completed"
    },
    "tags": []
   },
   "outputs": [
    {
     "data": {
      "text/plain": [
       "142"
      ]
     },
     "metadata": {},
     "output_type": "display_data"
    }
   ],
   "source": [
    "# split by paragraph\n",
    "orig_section_paragraphs = orig_section_content.split(\"\\n\\n\")\n",
    "display(len(orig_section_paragraphs))"
   ]
  },
  {
   "cell_type": "markdown",
   "id": "6165d56b-aea0-411b-a545-c90c1e32e039",
   "metadata": {
    "editable": true,
    "papermill": {
     "duration": 0.045906,
     "end_time": "2024-03-23T05:13:23.892768",
     "exception": false,
     "start_time": "2024-03-23T05:13:23.846862",
     "status": "completed"
    },
    "slideshow": {
     "slide_type": ""
    },
    "tags": []
   },
   "source": [
    "### Modified"
   ]
  },
  {
   "cell_type": "code",
   "execution_count": 309,
   "id": "b752cf9d-6ad4-419e-98f7-1569d3a72325",
   "metadata": {
    "execution": {
     "iopub.execute_input": "2024-03-23T05:13:23.984827Z",
     "iopub.status.busy": "2024-03-23T05:13:23.984631Z",
     "iopub.status.idle": "2024-03-23T05:13:24.147059Z",
     "shell.execute_reply": "2024-03-23T05:13:24.146455Z"
    },
    "papermill": {
     "duration": 0.209729,
     "end_time": "2024-03-23T05:13:24.147849",
     "exception": false,
     "start_time": "2024-03-23T05:13:23.938120",
     "status": "completed"
    },
    "tags": []
   },
   "outputs": [
    {
     "name": "stdout",
     "output_type": "stream",
     "text": [
      "\\clearpage\n",
      "\n",
      "## Supplementary information {.page_br\n"
     ]
    }
   ],
   "source": [
    "# get content\n",
    "mod_section_content = repo.get_contents(pr_filename, pr_curr).decoded_content.decode(\n",
    "    \"utf-8\"\n",
    ")\n",
    "print(mod_section_content[:50])"
   ]
  },
  {
   "cell_type": "code",
   "execution_count": 310,
   "id": "877fa931-ac0a-492b-8442-c6efb04a4034",
   "metadata": {
    "execution": {
     "iopub.execute_input": "2024-03-23T05:13:24.240736Z",
     "iopub.status.busy": "2024-03-23T05:13:24.240066Z",
     "iopub.status.idle": "2024-03-23T05:13:24.244438Z",
     "shell.execute_reply": "2024-03-23T05:13:24.243904Z"
    },
    "papermill": {
     "duration": 0.051599,
     "end_time": "2024-03-23T05:13:24.245239",
     "exception": false,
     "start_time": "2024-03-23T05:13:24.193640",
     "status": "completed"
    },
    "tags": []
   },
   "outputs": [
    {
     "data": {
      "text/plain": [
       "142"
      ]
     },
     "metadata": {},
     "output_type": "display_data"
    }
   ],
   "source": [
    "# split by paragraph\n",
    "mod_section_paragraphs = mod_section_content.split(\"\\n\\n\")\n",
    "display(len(mod_section_paragraphs))"
   ]
  },
  {
   "cell_type": "markdown",
   "id": "16fc062f-f257-4e0f-8ee3-52802a7616a1",
   "metadata": {
    "editable": true,
    "papermill": {
     "duration": 0.046649,
     "end_time": "2024-03-23T05:13:24.366064",
     "exception": false,
     "start_time": "2024-03-23T05:13:24.319415",
     "status": "completed"
    },
    "slideshow": {
     "slide_type": ""
    },
    "tags": []
   },
   "source": [
    "### Match"
   ]
  },
  {
   "cell_type": "code",
   "execution_count": 311,
   "id": "c75a1315-8f62-4b1e-946c-883fbb5d0a0a",
   "metadata": {
    "execution": {
     "iopub.execute_input": "2024-03-23T05:13:24.459682Z",
     "iopub.status.busy": "2024-03-23T05:13:24.459114Z",
     "iopub.status.idle": "2024-03-23T05:13:24.463070Z",
     "shell.execute_reply": "2024-03-23T05:13:24.462569Z"
    },
    "papermill": {
     "duration": 0.051473,
     "end_time": "2024-03-23T05:13:24.463845",
     "exception": false,
     "start_time": "2024-03-23T05:13:24.412372",
     "status": "completed"
    },
    "tags": []
   },
   "outputs": [
    {
     "data": {
      "text/plain": [
       "'\\\\clearpage'"
      ]
     },
     "execution_count": 311,
     "metadata": {},
     "output_type": "execute_result"
    }
   ],
   "source": [
    "orig_section_paragraphs[0]"
   ]
  },
  {
   "cell_type": "code",
   "execution_count": 312,
   "id": "6adb9155-b58e-4fb0-ae81-f273311bf6b3",
   "metadata": {
    "execution": {
     "iopub.execute_input": "2024-03-23T05:13:24.556649Z",
     "iopub.status.busy": "2024-03-23T05:13:24.556455Z",
     "iopub.status.idle": "2024-03-23T05:13:24.560066Z",
     "shell.execute_reply": "2024-03-23T05:13:24.559560Z"
    },
    "papermill": {
     "duration": 0.050725,
     "end_time": "2024-03-23T05:13:24.560731",
     "exception": false,
     "start_time": "2024-03-23T05:13:24.510006",
     "status": "completed"
    },
    "tags": []
   },
   "outputs": [
    {
     "data": {
      "text/plain": [
       "'\\\\clearpage'"
      ]
     },
     "execution_count": 312,
     "metadata": {},
     "output_type": "execute_result"
    }
   ],
   "source": [
    "mod_section_paragraphs[0]"
   ]
  },
  {
   "cell_type": "markdown",
   "id": "ec060875-a6a9-43b9-9ea1-342cb58fce37",
   "metadata": {
    "editable": true,
    "papermill": {
     "duration": 0.045927,
     "end_time": "2024-03-23T05:13:24.652990",
     "exception": false,
     "start_time": "2024-03-23T05:13:24.607063",
     "status": "completed"
    },
    "slideshow": {
     "slide_type": ""
    },
    "tags": []
   },
   "source": [
    "####  Paragraph 00"
   ]
  },
  {
   "cell_type": "code",
   "execution_count": 313,
   "id": "3b65d703-bc59-4e1b-8030-764b49a1263b",
   "metadata": {
    "execution": {
     "iopub.execute_input": "2024-03-23T05:13:24.745939Z",
     "iopub.status.busy": "2024-03-23T05:13:24.745491Z",
     "iopub.status.idle": "2024-03-23T05:13:24.748717Z",
     "shell.execute_reply": "2024-03-23T05:13:24.748211Z"
    },
    "papermill": {
     "duration": 0.050567,
     "end_time": "2024-03-23T05:13:24.749442",
     "exception": false,
     "start_time": "2024-03-23T05:13:24.698875",
     "status": "completed"
    },
    "tags": []
   },
   "outputs": [
    {
     "name": "stdout",
     "output_type": "stream",
     "text": [
      "We assessed our GLS model type I error rates (proportion of $p$-values below 0.05) and calibration using a null model of random traits and genotype data from 1000 Genomes Phase III. We selected 312 individuals with European ancestry, and then analyzed 1,000 traits drawn from a standard normal distribution $\\mathcal{N}(0,1)$. We ran all the standard procedures for the TWAS approaches (S-PrediXcan and S-MultiXcan), including: 1) a standard GWAS using linear regression under an additive genetic model, 2) different GWAS processing steps, including harmonization and imputation procedures as defined in [@doi:10.1002/gepi.22346], 3) S-PrediXcan and S-MultiXcan analyses. Below we provide details for each of these steps.\n"
     ]
    }
   ],
   "source": [
    "par0 = process_paragraph(orig_section_paragraphs[3])\n",
    "print(par0)"
   ]
  },
  {
   "cell_type": "code",
   "execution_count": 314,
   "id": "ae92dbda-ee39-4fdd-8e24-3cfa1d22037c",
   "metadata": {
    "execution": {
     "iopub.execute_input": "2024-03-23T05:13:24.842774Z",
     "iopub.status.busy": "2024-03-23T05:13:24.842405Z",
     "iopub.status.idle": "2024-03-23T05:13:24.845448Z",
     "shell.execute_reply": "2024-03-23T05:13:24.844944Z"
    },
    "papermill": {
     "duration": 0.050301,
     "end_time": "2024-03-23T05:13:24.846216",
     "exception": false,
     "start_time": "2024-03-23T05:13:24.795915",
     "status": "completed"
    },
    "tags": []
   },
   "outputs": [
    {
     "name": "stdout",
     "output_type": "stream",
     "text": [
      "We tested the accuracy of our model by looking at how often $p$-values were below 0.05, and how well it matched a null model with random traits and genotype data from the 1000 Genomes Phase III. We chose 312 people of European descent and examined 1,000 traits that followed a standard normal distribution ($\\mathcal{N}(0,1)$). We followed the usual steps for TWAS methods (S-PrediXcan and S-MultiXcan), which included: 1) a standard GWAS using linear regression with an additive genetic model, 2) various GWAS processing procedures like harmonization and imputation as described in a previous study [@doi:10.1002/gepi.22346], and 3) S-PrediXcan and S-MultiXcan analyses. The specifics of each step are outlined below.\n"
     ]
    }
   ],
   "source": [
    "par1 = process_paragraph(mod_section_paragraphs[3])\n",
    "print(par1)"
   ]
  },
  {
   "cell_type": "code",
   "execution_count": 315,
   "id": "029c38b9-4d4e-40d4-ae88-7b811a26cb13",
   "metadata": {
    "execution": {
     "iopub.execute_input": "2024-03-23T05:13:24.939723Z",
     "iopub.status.busy": "2024-03-23T05:13:24.939533Z",
     "iopub.status.idle": "2024-03-23T05:13:24.942274Z",
     "shell.execute_reply": "2024-03-23T05:13:24.941783Z"
    },
    "papermill": {
     "duration": 0.050396,
     "end_time": "2024-03-23T05:13:24.943049",
     "exception": false,
     "start_time": "2024-03-23T05:13:24.892653",
     "status": "completed"
    },
    "tags": []
   },
   "outputs": [],
   "source": [
    "paragraph_matches.append(\n",
    "    (\n",
    "        section_name,\n",
    "        par0,\n",
    "        par1,\n",
    "    )\n",
    ")"
   ]
  },
  {
   "cell_type": "code",
   "execution_count": 316,
   "id": "1f88aa44-dbbc-45ac-973d-5dc020568efc",
   "metadata": {
    "execution": {
     "iopub.execute_input": "2024-03-23T05:13:25.064970Z",
     "iopub.status.busy": "2024-03-23T05:13:25.064442Z",
     "iopub.status.idle": "2024-03-23T05:13:25.068222Z",
     "shell.execute_reply": "2024-03-23T05:13:25.067738Z"
    },
    "papermill": {
     "duration": 0.05176,
     "end_time": "2024-03-23T05:13:25.068944",
     "exception": false,
     "start_time": "2024-03-23T05:13:25.017184",
     "status": "completed"
    },
    "tags": []
   },
   "outputs": [
    {
     "data": {
      "text/plain": [
       "('supplementary material',\n",
       " 'We assessed our GLS model type I error rates (proportion of $p$-values below 0.05) and calibration using a null model of random traits and genotype data from 1000 Genomes Phase III. We selected 312 individuals with European ancestry, and then analyzed 1,000 traits drawn from a standard normal distribution $\\\\mathcal{N}(0,1)$. We ran all the standard procedures for the TWAS approaches (S-PrediXcan and S-MultiXcan), including: 1) a standard GWAS using linear regression under an additive genetic model, 2) different GWAS processing steps, including harmonization and imputation procedures as defined in [@doi:10.1002/gepi.22346], 3) S-PrediXcan and S-MultiXcan analyses. Below we provide details for each of these steps.',\n",
       " 'We tested the accuracy of our model by looking at how often $p$-values were below 0.05, and how well it matched a null model with random traits and genotype data from the 1000 Genomes Phase III. We chose 312 people of European descent and examined 1,000 traits that followed a standard normal distribution ($\\\\mathcal{N}(0,1)$). We followed the usual steps for TWAS methods (S-PrediXcan and S-MultiXcan), which included: 1) a standard GWAS using linear regression with an additive genetic model, 2) various GWAS processing procedures like harmonization and imputation as described in a previous study [@doi:10.1002/gepi.22346], and 3) S-PrediXcan and S-MultiXcan analyses. The specifics of each step are outlined below.')"
      ]
     },
     "metadata": {},
     "output_type": "display_data"
    }
   ],
   "source": [
    "display(paragraph_matches[-1])"
   ]
  },
  {
   "cell_type": "markdown",
   "id": "2354f3ad-7807-46e6-94d3-45507949d18f",
   "metadata": {
    "editable": true,
    "papermill": {
     "duration": 0.046004,
     "end_time": "2024-03-23T05:13:25.161383",
     "exception": false,
     "start_time": "2024-03-23T05:13:25.115379",
     "status": "completed"
    },
    "slideshow": {
     "slide_type": ""
    },
    "tags": []
   },
   "source": [
    "####  Paragraph 01"
   ]
  },
  {
   "cell_type": "code",
   "execution_count": 317,
   "id": "1a0441f6-31ff-4994-9c43-2ddd43af09fa",
   "metadata": {
    "execution": {
     "iopub.execute_input": "2024-03-23T05:13:25.255335Z",
     "iopub.status.busy": "2024-03-23T05:13:25.254585Z",
     "iopub.status.idle": "2024-03-23T05:13:25.258281Z",
     "shell.execute_reply": "2024-03-23T05:13:25.257708Z"
    },
    "papermill": {
     "duration": 0.051502,
     "end_time": "2024-03-23T05:13:25.258953",
     "exception": false,
     "start_time": "2024-03-23T05:13:25.207451",
     "status": "completed"
    },
    "tags": []
   },
   "outputs": [
    {
     "name": "stdout",
     "output_type": "stream",
     "text": [
      "**Step 1 - GWAS**. We performed standard QC procedures such as filtering out variants with missing call rates eexceeding 0.01, MAF below 1% or MAC below 20, and HWE below 1e-6, and removing samples with high sex-discrepancy and high-relatedness (first and second degree). We included sex and the top 20 principal components as covariates, performing the association test on 5,923,554 variants across all 1,000 random phenotypes.\n"
     ]
    }
   ],
   "source": [
    "par0 = process_paragraph(orig_section_paragraphs[4])\n",
    "print(par0)"
   ]
  },
  {
   "cell_type": "code",
   "execution_count": 318,
   "id": "5b4a26b2-d1cf-4e52-92af-e9aad95c0eb5",
   "metadata": {
    "execution": {
     "iopub.execute_input": "2024-03-23T05:13:25.353386Z",
     "iopub.status.busy": "2024-03-23T05:13:25.353196Z",
     "iopub.status.idle": "2024-03-23T05:13:25.356398Z",
     "shell.execute_reply": "2024-03-23T05:13:25.355831Z"
    },
    "papermill": {
     "duration": 0.051619,
     "end_time": "2024-03-23T05:13:25.357323",
     "exception": false,
     "start_time": "2024-03-23T05:13:25.305704",
     "status": "completed"
    },
    "tags": []
   },
   "outputs": [
    {
     "name": "stdout",
     "output_type": "stream",
     "text": [
      "In the first step of our study, we conducted a genome-wide association study (GWAS). We followed standard quality control procedures, which involved filtering out variants with missing call rates above 0.01, minor allele frequencies below 1%, minor allele counts below 20, and Hardy-Weinberg equilibrium p-values below 1e-6. We also removed samples that showed high discrepancies in sex or were closely related (up to second degree). Additionally, we included sex and the top 20 principal components as covariates in our analysis. The association test was performed on a total of 5,923,554 variants across all 1,000 randomly selected phenotypes.\n"
     ]
    }
   ],
   "source": [
    "par1 = process_paragraph(mod_section_paragraphs[4])\n",
    "print(par1)"
   ]
  },
  {
   "cell_type": "code",
   "execution_count": 319,
   "id": "283f94a0-1e18-40bd-989b-b27d1d389386",
   "metadata": {
    "execution": {
     "iopub.execute_input": "2024-03-23T05:13:25.452354Z",
     "iopub.status.busy": "2024-03-23T05:13:25.451906Z",
     "iopub.status.idle": "2024-03-23T05:13:25.454758Z",
     "shell.execute_reply": "2024-03-23T05:13:25.454262Z"
    },
    "papermill": {
     "duration": 0.051467,
     "end_time": "2024-03-23T05:13:25.455473",
     "exception": false,
     "start_time": "2024-03-23T05:13:25.404006",
     "status": "completed"
    },
    "tags": []
   },
   "outputs": [],
   "source": [
    "paragraph_matches.append(\n",
    "    (\n",
    "        section_name,\n",
    "        par0,\n",
    "        par1,\n",
    "    )\n",
    ")"
   ]
  },
  {
   "cell_type": "code",
   "execution_count": 320,
   "id": "213c4abe-3b98-45d2-8557-07aeb49240d6",
   "metadata": {
    "execution": {
     "iopub.execute_input": "2024-03-23T05:13:25.549743Z",
     "iopub.status.busy": "2024-03-23T05:13:25.549256Z",
     "iopub.status.idle": "2024-03-23T05:13:25.553097Z",
     "shell.execute_reply": "2024-03-23T05:13:25.552613Z"
    },
    "papermill": {
     "duration": 0.051491,
     "end_time": "2024-03-23T05:13:25.553783",
     "exception": false,
     "start_time": "2024-03-23T05:13:25.502292",
     "status": "completed"
    },
    "tags": []
   },
   "outputs": [
    {
     "data": {
      "text/plain": [
       "('supplementary material',\n",
       " '**Step 1 - GWAS**. We performed standard QC procedures such as filtering out variants with missing call rates eexceeding 0.01, MAF below 1% or MAC below 20, and HWE below 1e-6, and removing samples with high sex-discrepancy and high-relatedness (first and second degree). We included sex and the top 20 principal components as covariates, performing the association test on 5,923,554 variants across all 1,000 random phenotypes.',\n",
       " 'In the first step of our study, we conducted a genome-wide association study (GWAS). We followed standard quality control procedures, which involved filtering out variants with missing call rates above 0.01, minor allele frequencies below 1%, minor allele counts below 20, and Hardy-Weinberg equilibrium p-values below 1e-6. We also removed samples that showed high discrepancies in sex or were closely related (up to second degree). Additionally, we included sex and the top 20 principal components as covariates in our analysis. The association test was performed on a total of 5,923,554 variants across all 1,000 randomly selected phenotypes.')"
      ]
     },
     "metadata": {},
     "output_type": "display_data"
    }
   ],
   "source": [
    "display(paragraph_matches[-1])"
   ]
  },
  {
   "cell_type": "markdown",
   "id": "f8332055-5563-4dd1-a5fe-2344d41b1175",
   "metadata": {
    "editable": true,
    "papermill": {
     "duration": 0.046679,
     "end_time": "2024-03-23T05:13:25.647088",
     "exception": false,
     "start_time": "2024-03-23T05:13:25.600409",
     "status": "completed"
    },
    "slideshow": {
     "slide_type": ""
    },
    "tags": []
   },
   "source": [
    "####  Paragraph 02"
   ]
  },
  {
   "cell_type": "code",
   "execution_count": 321,
   "id": "135c4337-2236-40b2-a127-8567b2151154",
   "metadata": {
    "execution": {
     "iopub.execute_input": "2024-03-23T05:13:25.740658Z",
     "iopub.status.busy": "2024-03-23T05:13:25.740469Z",
     "iopub.status.idle": "2024-03-23T05:13:25.743755Z",
     "shell.execute_reply": "2024-03-23T05:13:25.743250Z"
    },
    "papermill": {
     "duration": 0.050753,
     "end_time": "2024-03-23T05:13:25.744504",
     "exception": false,
     "start_time": "2024-03-23T05:13:25.693751",
     "status": "completed"
    },
    "tags": []
   },
   "outputs": [
    {
     "name": "stdout",
     "output_type": "stream",
     "text": [
      "**Step 2 - GWAS processing**. These steps include harmonization of GWAS and imputation of $z$-scores, which are part of the TWAS pipeline and are needed in order to ensure an acceptable overlap with SNPs in prediction models. The scripts to run these steps are available in [@url:https://github.com/hakyimlab/summary-gwas-imputation]. These procedures were run for all 1,000 random phenotypes and generated a total number of 8,325,729 variants, including those with original and imputed $z$-scores.\n"
     ]
    }
   ],
   "source": [
    "par0 = process_paragraph(orig_section_paragraphs[5])\n",
    "print(par0)"
   ]
  },
  {
   "cell_type": "code",
   "execution_count": 322,
   "id": "997c0872-0ef2-488a-b894-fb22e964cfbc",
   "metadata": {
    "execution": {
     "iopub.execute_input": "2024-03-23T05:13:25.838581Z",
     "iopub.status.busy": "2024-03-23T05:13:25.838105Z",
     "iopub.status.idle": "2024-03-23T05:13:25.841216Z",
     "shell.execute_reply": "2024-03-23T05:13:25.840716Z"
    },
    "papermill": {
     "duration": 0.05061,
     "end_time": "2024-03-23T05:13:25.841957",
     "exception": false,
     "start_time": "2024-03-23T05:13:25.791347",
     "status": "completed"
    },
    "tags": []
   },
   "outputs": [
    {
     "name": "stdout",
     "output_type": "stream",
     "text": [
      "In the second step of the study, genetic data from GWAS was processed. This involved aligning the data and estimating $z$-scores, which are essential for the TWAS process to ensure compatibility with SNPs in predictive models. The necessary scripts for these steps can be found at the following link: https://github.com/hakyimlab/summary-gwas-imputation. These procedures were carried out for 1,000 different traits, resulting in a total of 8,325,729 variants that included both original and estimated $z$-scores.\n"
     ]
    }
   ],
   "source": [
    "par1 = process_paragraph(mod_section_paragraphs[5])\n",
    "print(par1)"
   ]
  },
  {
   "cell_type": "code",
   "execution_count": 323,
   "id": "7684ffa8-7b85-41bf-a2ff-40501b361dde",
   "metadata": {
    "execution": {
     "iopub.execute_input": "2024-03-23T05:13:25.963341Z",
     "iopub.status.busy": "2024-03-23T05:13:25.962884Z",
     "iopub.status.idle": "2024-03-23T05:13:25.965626Z",
     "shell.execute_reply": "2024-03-23T05:13:25.965139Z"
    },
    "papermill": {
     "duration": 0.050716,
     "end_time": "2024-03-23T05:13:25.966411",
     "exception": false,
     "start_time": "2024-03-23T05:13:25.915695",
     "status": "completed"
    },
    "tags": []
   },
   "outputs": [],
   "source": [
    "paragraph_matches.append(\n",
    "    (\n",
    "        section_name,\n",
    "        par0,\n",
    "        par1,\n",
    "    )\n",
    ")"
   ]
  },
  {
   "cell_type": "code",
   "execution_count": 324,
   "id": "535f50e2-c1f6-418f-9737-5bce651d61d8",
   "metadata": {
    "execution": {
     "iopub.execute_input": "2024-03-23T05:13:26.059951Z",
     "iopub.status.busy": "2024-03-23T05:13:26.059761Z",
     "iopub.status.idle": "2024-03-23T05:13:26.063432Z",
     "shell.execute_reply": "2024-03-23T05:13:26.062908Z"
    },
    "papermill": {
     "duration": 0.051376,
     "end_time": "2024-03-23T05:13:26.064124",
     "exception": false,
     "start_time": "2024-03-23T05:13:26.012748",
     "status": "completed"
    },
    "tags": []
   },
   "outputs": [
    {
     "data": {
      "text/plain": [
       "('supplementary material',\n",
       " '**Step 2 - GWAS processing**. These steps include harmonization of GWAS and imputation of $z$-scores, which are part of the TWAS pipeline and are needed in order to ensure an acceptable overlap with SNPs in prediction models. The scripts to run these steps are available in [@url:https://github.com/hakyimlab/summary-gwas-imputation]. These procedures were run for all 1,000 random phenotypes and generated a total number of 8,325,729 variants, including those with original and imputed $z$-scores.',\n",
       " 'In the second step of the study, genetic data from GWAS was processed. This involved aligning the data and estimating $z$-scores, which are essential for the TWAS process to ensure compatibility with SNPs in predictive models. The necessary scripts for these steps can be found at the following link: https://github.com/hakyimlab/summary-gwas-imputation. These procedures were carried out for 1,000 different traits, resulting in a total of 8,325,729 variants that included both original and estimated $z$-scores.')"
      ]
     },
     "metadata": {},
     "output_type": "display_data"
    }
   ],
   "source": [
    "display(paragraph_matches[-1])"
   ]
  },
  {
   "cell_type": "markdown",
   "id": "78d8724c-2456-458f-a8cc-72ccb0cdab7d",
   "metadata": {
    "editable": true,
    "papermill": {
     "duration": 0.047031,
     "end_time": "2024-03-23T05:13:26.159500",
     "exception": false,
     "start_time": "2024-03-23T05:13:26.112469",
     "status": "completed"
    },
    "slideshow": {
     "slide_type": ""
    },
    "tags": []
   },
   "source": [
    "####  Paragraph 03"
   ]
  },
  {
   "cell_type": "code",
   "execution_count": 325,
   "id": "180357fe-44e5-4820-9af6-238720256c28",
   "metadata": {
    "execution": {
     "iopub.execute_input": "2024-03-23T05:13:26.254063Z",
     "iopub.status.busy": "2024-03-23T05:13:26.253474Z",
     "iopub.status.idle": "2024-03-23T05:13:26.256912Z",
     "shell.execute_reply": "2024-03-23T05:13:26.256344Z"
    },
    "papermill": {
     "duration": 0.051575,
     "end_time": "2024-03-23T05:13:26.257682",
     "exception": false,
     "start_time": "2024-03-23T05:13:26.206107",
     "status": "completed"
    },
    "tags": []
   },
   "outputs": [
    {
     "name": "stdout",
     "output_type": "stream",
     "text": [
      "Finally, we ran our GLS model (Equation (@eq:reg:model)) to compute an association between each of the 987 LVs in MultiPLIER and the 1,000 S-MultiXcan results on random phenotypes. For this, we built a gene correlation matrix specifically for this cohort (see [Methods](#sec:methods:reg)). Then, we compared the GLS results with an equivalent, baseline ordinarly least squares (OLS) model assuming independence between genes. Figure @fig:reg:nulls:qqplots compares the distribution of $p$-values of the OLS and GLS models. The GLS model has a slightly smaller mean type I error rate (0.0558, SD=0.0127) than the baseline OLS model (0.0584, SD=0.0140), and $p$-values follow more closely the expected uniform distribution. Importantly, the GLS model is able to correct for LVs with adjacent and highly correlated genes at the top such as LV234 (Figure @fig:reg:nulls:qqplot:lv234), LV847 (Figure @fig:reg:nulls:qqplot:lv847), LV45 (Figure @fig:reg:nulls:qqplot:lv45), or LV800 (Figure @fig:reg:nulls:qqplot:lv800), among others. In contrast and as expected, the OLS model has higher mean type I errors and smaller-than-expected $p$-values in all these cases.\n"
     ]
    }
   ],
   "source": [
    "par0 = process_paragraph(orig_section_paragraphs[7])\n",
    "print(par0)"
   ]
  },
  {
   "cell_type": "code",
   "execution_count": 326,
   "id": "935e6a60-881c-4179-b351-0603241dc245",
   "metadata": {
    "execution": {
     "iopub.execute_input": "2024-03-23T05:13:26.352629Z",
     "iopub.status.busy": "2024-03-23T05:13:26.352173Z",
     "iopub.status.idle": "2024-03-23T05:13:26.355283Z",
     "shell.execute_reply": "2024-03-23T05:13:26.354769Z"
    },
    "papermill": {
     "duration": 0.051745,
     "end_time": "2024-03-23T05:13:26.355981",
     "exception": false,
     "start_time": "2024-03-23T05:13:26.304236",
     "status": "completed"
    },
    "tags": []
   },
   "outputs": [
    {
     "name": "stdout",
     "output_type": "stream",
     "text": [
      "We used a statistical model to analyze the association between 987 gene expression patterns in MultiPLIER and 1,000 results from S-MultiXcan on random traits. To do this, we created a gene correlation matrix specifically for this group. We then compared the results from our model with a standard model that assumes genes are independent. Figure shows the comparison of $p$-values between the two models. The GLS model had a slightly lower mean type I error rate (0.0558, SD=0.0127) compared to the baseline OLS model (0.0584, SD=0.0140), and the $p$-values were closer to the expected distribution. The GLS model effectively corrected for gene patterns with high correlations, such as LV234, LV847, LV45, and LV800. In contrast, the OLS model had higher errors and lower $p$-values in these cases.\n"
     ]
    }
   ],
   "source": [
    "par1 = process_paragraph(mod_section_paragraphs[7])\n",
    "print(par1)"
   ]
  },
  {
   "cell_type": "code",
   "execution_count": 327,
   "id": "dc93c95d-0d56-4ca6-86b0-0efa919669eb",
   "metadata": {
    "execution": {
     "iopub.execute_input": "2024-03-23T05:13:26.450588Z",
     "iopub.status.busy": "2024-03-23T05:13:26.450118Z",
     "iopub.status.idle": "2024-03-23T05:13:26.452866Z",
     "shell.execute_reply": "2024-03-23T05:13:26.452376Z"
    },
    "papermill": {
     "duration": 0.05064,
     "end_time": "2024-03-23T05:13:26.453629",
     "exception": false,
     "start_time": "2024-03-23T05:13:26.402989",
     "status": "completed"
    },
    "tags": []
   },
   "outputs": [],
   "source": [
    "paragraph_matches.append(\n",
    "    (\n",
    "        section_name,\n",
    "        par0,\n",
    "        par1,\n",
    "    )\n",
    ")"
   ]
  },
  {
   "cell_type": "code",
   "execution_count": 328,
   "id": "6b7917ca-4d8a-4f0d-a4e9-44f6dee9e52f",
   "metadata": {
    "execution": {
     "iopub.execute_input": "2024-03-23T05:13:26.548937Z",
     "iopub.status.busy": "2024-03-23T05:13:26.548569Z",
     "iopub.status.idle": "2024-03-23T05:13:26.552326Z",
     "shell.execute_reply": "2024-03-23T05:13:26.551749Z"
    },
    "papermill": {
     "duration": 0.052566,
     "end_time": "2024-03-23T05:13:26.553146",
     "exception": false,
     "start_time": "2024-03-23T05:13:26.500580",
     "status": "completed"
    },
    "tags": []
   },
   "outputs": [
    {
     "data": {
      "text/plain": [
       "('supplementary material',\n",
       " 'Finally, we ran our GLS model (Equation (@eq:reg:model)) to compute an association between each of the 987 LVs in MultiPLIER and the 1,000 S-MultiXcan results on random phenotypes. For this, we built a gene correlation matrix specifically for this cohort (see [Methods](#sec:methods:reg)). Then, we compared the GLS results with an equivalent, baseline ordinarly least squares (OLS) model assuming independence between genes. Figure @fig:reg:nulls:qqplots compares the distribution of $p$-values of the OLS and GLS models. The GLS model has a slightly smaller mean type I error rate (0.0558, SD=0.0127) than the baseline OLS model (0.0584, SD=0.0140), and $p$-values follow more closely the expected uniform distribution. Importantly, the GLS model is able to correct for LVs with adjacent and highly correlated genes at the top such as LV234 (Figure @fig:reg:nulls:qqplot:lv234), LV847 (Figure @fig:reg:nulls:qqplot:lv847), LV45 (Figure @fig:reg:nulls:qqplot:lv45), or LV800 (Figure @fig:reg:nulls:qqplot:lv800), among others. In contrast and as expected, the OLS model has higher mean type I errors and smaller-than-expected $p$-values in all these cases.',\n",
       " 'We used a statistical model to analyze the association between 987 gene expression patterns in MultiPLIER and 1,000 results from S-MultiXcan on random traits. To do this, we created a gene correlation matrix specifically for this group. We then compared the results from our model with a standard model that assumes genes are independent. Figure shows the comparison of $p$-values between the two models. The GLS model had a slightly lower mean type I error rate (0.0558, SD=0.0127) compared to the baseline OLS model (0.0584, SD=0.0140), and the $p$-values were closer to the expected distribution. The GLS model effectively corrected for gene patterns with high correlations, such as LV234, LV847, LV45, and LV800. In contrast, the OLS model had higher errors and lower $p$-values in these cases.')"
      ]
     },
     "metadata": {},
     "output_type": "display_data"
    }
   ],
   "source": [
    "display(paragraph_matches[-1])"
   ]
  },
  {
   "cell_type": "markdown",
   "id": "34bf7ee5-eed9-4807-a03e-be2199e688ab",
   "metadata": {
    "editable": true,
    "papermill": {
     "duration": 0.046876,
     "end_time": "2024-03-23T05:13:26.675193",
     "exception": false,
     "start_time": "2024-03-23T05:13:26.628317",
     "status": "completed"
    },
    "slideshow": {
     "slide_type": ""
    },
    "tags": []
   },
   "source": [
    "####  Paragraph 04"
   ]
  },
  {
   "cell_type": "code",
   "execution_count": 329,
   "id": "16e7f41d-9a59-4e07-8883-377ac053e811",
   "metadata": {
    "execution": {
     "iopub.execute_input": "2024-03-23T05:13:26.769384Z",
     "iopub.status.busy": "2024-03-23T05:13:26.768815Z",
     "iopub.status.idle": "2024-03-23T05:13:26.772189Z",
     "shell.execute_reply": "2024-03-23T05:13:26.771688Z"
    },
    "papermill": {
     "duration": 0.051432,
     "end_time": "2024-03-23T05:13:26.772959",
     "exception": false,
     "start_time": "2024-03-23T05:13:26.721527",
     "status": "completed"
    },
    "tags": []
   },
   "outputs": [
    {
     "name": "stdout",
     "output_type": "stream",
     "text": [
      "We also detected other LVs with higher-than-expected mean type I errors for both the GLS and OLS models, although they don't have a relatively large number of adjacent genes at the top. One example is LV914, shown in Figure @fig:reg:nulls:qqplot:lv914. Inflation in these LVs might be explained by inaccuracies in correlation estimates between the individual-level MultiXcan model and its summary-based version (see Methods). Therefore, we flagged those with a type I error rate larger than 0.07 (127 LVs) and excluded them from our main analyses. We didn't see signs of inflation when applying the method in real data (Figure @fig:reg:real:qqplots).\n"
     ]
    }
   ],
   "source": [
    "par0 = process_paragraph(orig_section_paragraphs[8])\n",
    "print(par0)"
   ]
  },
  {
   "cell_type": "code",
   "execution_count": 330,
   "id": "14fdb559-3099-484d-bff3-4531f5638c4a",
   "metadata": {
    "execution": {
     "iopub.execute_input": "2024-03-23T05:13:26.867549Z",
     "iopub.status.busy": "2024-03-23T05:13:26.867072Z",
     "iopub.status.idle": "2024-03-23T05:13:26.870273Z",
     "shell.execute_reply": "2024-03-23T05:13:26.869725Z"
    },
    "papermill": {
     "duration": 0.051344,
     "end_time": "2024-03-23T05:13:26.870973",
     "exception": false,
     "start_time": "2024-03-23T05:13:26.819629",
     "status": "completed"
    },
    "tags": []
   },
   "outputs": [
    {
     "name": "stdout",
     "output_type": "stream",
     "text": [
      "We identified additional LVs that had higher-than-expected mean errors in both the GLS and OLS models, even though they did not have a large number of nearby genes at the top. An example of this is LV914, which is depicted in Figure 1. The inflation in these LVs may be due to inaccuracies in correlation estimates between the individual-level MultiXcan model and its summary-based version. As a result, we identified 127 LVs with a type I error rate greater than 0.07 and excluded them from our primary analyses. We did not observe any signs of inflation when applying the method to real data, as shown in Figure 2.\n"
     ]
    }
   ],
   "source": [
    "par1 = process_paragraph(mod_section_paragraphs[8])\n",
    "print(par1)"
   ]
  },
  {
   "cell_type": "code",
   "execution_count": 331,
   "id": "3c807a6f-2609-4ddd-bbc9-57a86122561d",
   "metadata": {
    "execution": {
     "iopub.execute_input": "2024-03-23T05:13:26.966107Z",
     "iopub.status.busy": "2024-03-23T05:13:26.965577Z",
     "iopub.status.idle": "2024-03-23T05:13:26.968555Z",
     "shell.execute_reply": "2024-03-23T05:13:26.968043Z"
    },
    "papermill": {
     "duration": 0.051402,
     "end_time": "2024-03-23T05:13:26.969301",
     "exception": false,
     "start_time": "2024-03-23T05:13:26.917899",
     "status": "completed"
    },
    "tags": []
   },
   "outputs": [],
   "source": [
    "paragraph_matches.append(\n",
    "    (\n",
    "        section_name,\n",
    "        par0,\n",
    "        par1,\n",
    "    )\n",
    ")"
   ]
  },
  {
   "cell_type": "code",
   "execution_count": 332,
   "id": "ee93fbb3-3f08-4269-b91a-f61701dc1f80",
   "metadata": {
    "execution": {
     "iopub.execute_input": "2024-03-23T05:13:27.065058Z",
     "iopub.status.busy": "2024-03-23T05:13:27.064645Z",
     "iopub.status.idle": "2024-03-23T05:13:27.068382Z",
     "shell.execute_reply": "2024-03-23T05:13:27.067892Z"
    },
    "papermill": {
     "duration": 0.052693,
     "end_time": "2024-03-23T05:13:27.069052",
     "exception": false,
     "start_time": "2024-03-23T05:13:27.016359",
     "status": "completed"
    },
    "tags": []
   },
   "outputs": [
    {
     "data": {
      "text/plain": [
       "('supplementary material',\n",
       " \"We also detected other LVs with higher-than-expected mean type I errors for both the GLS and OLS models, although they don't have a relatively large number of adjacent genes at the top. One example is LV914, shown in Figure @fig:reg:nulls:qqplot:lv914. Inflation in these LVs might be explained by inaccuracies in correlation estimates between the individual-level MultiXcan model and its summary-based version (see Methods). Therefore, we flagged those with a type I error rate larger than 0.07 (127 LVs) and excluded them from our main analyses. We didn't see signs of inflation when applying the method in real data (Figure @fig:reg:real:qqplots).\",\n",
       " 'We identified additional LVs that had higher-than-expected mean errors in both the GLS and OLS models, even though they did not have a large number of nearby genes at the top. An example of this is LV914, which is depicted in Figure 1. The inflation in these LVs may be due to inaccuracies in correlation estimates between the individual-level MultiXcan model and its summary-based version. As a result, we identified 127 LVs with a type I error rate greater than 0.07 and excluded them from our primary analyses. We did not observe any signs of inflation when applying the method to real data, as shown in Figure 2.')"
      ]
     },
     "metadata": {},
     "output_type": "display_data"
    }
   ],
   "source": [
    "display(paragraph_matches[-1])"
   ]
  },
  {
   "cell_type": "markdown",
   "id": "2e982bb7-2bba-4e5a-9102-dbec267d7db2",
   "metadata": {
    "editable": true,
    "papermill": {
     "duration": 0.047168,
     "end_time": "2024-03-23T05:13:27.163423",
     "exception": false,
     "start_time": "2024-03-23T05:13:27.116255",
     "status": "completed"
    },
    "slideshow": {
     "slide_type": ""
    },
    "tags": []
   },
   "source": [
    "####  Paragraph 05"
   ]
  },
  {
   "cell_type": "code",
   "execution_count": 333,
   "id": "9c606f8d-b985-4e15-b735-4f43aa53409f",
   "metadata": {
    "execution": {
     "iopub.execute_input": "2024-03-23T05:13:27.259560Z",
     "iopub.status.busy": "2024-03-23T05:13:27.259188Z",
     "iopub.status.idle": "2024-03-23T05:13:27.262565Z",
     "shell.execute_reply": "2024-03-23T05:13:27.262055Z"
    },
    "papermill": {
     "duration": 0.052533,
     "end_time": "2024-03-23T05:13:27.263355",
     "exception": false,
     "start_time": "2024-03-23T05:13:27.210822",
     "status": "completed"
    },
    "tags": []
   },
   "outputs": [
    {
     "name": "stdout",
     "output_type": "stream",
     "text": [
      "For the first scenario, we shuffled genes in $\\mathbf{M}$ for each trait, and this randomized matrix was then projected into the latent space. For the second scenario, we projected matrix $\\mathbf{M}$ into the latent space, and then shuffled LVs in $\\hat{\\mathbf{M}}$ for each trait. For each of these scenarios, we ran exactly the same clustering pipeline we used for the real data ([Methods](#sec:methods:clustering)), generating an ensemble of partitions that was later combined using the same consensus functions to derive the final partitions of traits. Finally, we computed 1) stability statistics on the ensemble partitions from different algorithms and 2) the agreement of the final consensus partition with the ensemble.\n"
     ]
    }
   ],
   "source": [
    "par0 = process_paragraph(orig_section_paragraphs[33])\n",
    "print(par0)"
   ]
  },
  {
   "cell_type": "code",
   "execution_count": 334,
   "id": "c6033f25-d27d-45ea-8e4f-d6fd0b9cfdd5",
   "metadata": {
    "execution": {
     "iopub.execute_input": "2024-03-23T05:13:27.359932Z",
     "iopub.status.busy": "2024-03-23T05:13:27.359599Z",
     "iopub.status.idle": "2024-03-23T05:13:27.362600Z",
     "shell.execute_reply": "2024-03-23T05:13:27.362089Z"
    },
    "papermill": {
     "duration": 0.05146,
     "end_time": "2024-03-23T05:13:27.363289",
     "exception": false,
     "start_time": "2024-03-23T05:13:27.311829",
     "status": "completed"
    },
    "tags": []
   },
   "outputs": [
    {
     "name": "stdout",
     "output_type": "stream",
     "text": [
      "In the first scenario, we rearranged genes in matrix M for each trait, then projected this rearranged matrix into the hidden space. In the second scenario, we projected matrix M into the hidden space, and then rearranged latent variables in M-hat for each trait. In both scenarios, we used the same clustering process as we did for the actual data, creating multiple partitions that were later combined using consensus functions to determine the final trait groupings. We then calculated stability statistics on the different algorithm partitions and measured the agreement of the final consensus partition with the ensemble.\n"
     ]
    }
   ],
   "source": [
    "par1 = process_paragraph(mod_section_paragraphs[33])\n",
    "print(par1)"
   ]
  },
  {
   "cell_type": "code",
   "execution_count": 335,
   "id": "5d36d02d-0e13-41a2-8abf-8faaf5d4d52e",
   "metadata": {
    "execution": {
     "iopub.execute_input": "2024-03-23T05:13:27.457978Z",
     "iopub.status.busy": "2024-03-23T05:13:27.457594Z",
     "iopub.status.idle": "2024-03-23T05:13:27.460216Z",
     "shell.execute_reply": "2024-03-23T05:13:27.459795Z"
    },
    "papermill": {
     "duration": 0.050851,
     "end_time": "2024-03-23T05:13:27.460912",
     "exception": false,
     "start_time": "2024-03-23T05:13:27.410061",
     "status": "completed"
    },
    "tags": []
   },
   "outputs": [],
   "source": [
    "paragraph_matches.append(\n",
    "    (\n",
    "        section_name,\n",
    "        par0,\n",
    "        par1,\n",
    "    )\n",
    ")"
   ]
  },
  {
   "cell_type": "code",
   "execution_count": 336,
   "id": "f45c7b07-0156-4c3e-bb3b-e824c590e9f6",
   "metadata": {
    "execution": {
     "iopub.execute_input": "2024-03-23T05:13:27.584131Z",
     "iopub.status.busy": "2024-03-23T05:13:27.583805Z",
     "iopub.status.idle": "2024-03-23T05:13:27.587361Z",
     "shell.execute_reply": "2024-03-23T05:13:27.586918Z"
    },
    "papermill": {
     "duration": 0.052152,
     "end_time": "2024-03-23T05:13:27.588049",
     "exception": false,
     "start_time": "2024-03-23T05:13:27.535897",
     "status": "completed"
    },
    "tags": []
   },
   "outputs": [
    {
     "data": {
      "text/plain": [
       "('supplementary material',\n",
       " 'For the first scenario, we shuffled genes in $\\\\mathbf{M}$ for each trait, and this randomized matrix was then projected into the latent space. For the second scenario, we projected matrix $\\\\mathbf{M}$ into the latent space, and then shuffled LVs in $\\\\hat{\\\\mathbf{M}}$ for each trait. For each of these scenarios, we ran exactly the same clustering pipeline we used for the real data ([Methods](#sec:methods:clustering)), generating an ensemble of partitions that was later combined using the same consensus functions to derive the final partitions of traits. Finally, we computed 1) stability statistics on the ensemble partitions from different algorithms and 2) the agreement of the final consensus partition with the ensemble.',\n",
       " 'In the first scenario, we rearranged genes in matrix M for each trait, then projected this rearranged matrix into the hidden space. In the second scenario, we projected matrix M into the hidden space, and then rearranged latent variables in M-hat for each trait. In both scenarios, we used the same clustering process as we did for the actual data, creating multiple partitions that were later combined using consensus functions to determine the final trait groupings. We then calculated stability statistics on the different algorithm partitions and measured the agreement of the final consensus partition with the ensemble.')"
      ]
     },
     "metadata": {},
     "output_type": "display_data"
    }
   ],
   "source": [
    "display(paragraph_matches[-1])"
   ]
  },
  {
   "cell_type": "markdown",
   "id": "dc7a207e-3226-49d4-a472-a6eac50a41ad",
   "metadata": {
    "editable": true,
    "papermill": {
     "duration": 0.047892,
     "end_time": "2024-03-23T05:13:27.683453",
     "exception": false,
     "start_time": "2024-03-23T05:13:27.635561",
     "status": "completed"
    },
    "slideshow": {
     "slide_type": ""
    },
    "tags": []
   },
   "source": [
    "####  Paragraph 06"
   ]
  },
  {
   "cell_type": "code",
   "execution_count": 337,
   "id": "07d8d958-a301-4356-983d-81ed583da9fe",
   "metadata": {
    "execution": {
     "iopub.execute_input": "2024-03-23T05:13:27.778674Z",
     "iopub.status.busy": "2024-03-23T05:13:27.778258Z",
     "iopub.status.idle": "2024-03-23T05:13:27.781211Z",
     "shell.execute_reply": "2024-03-23T05:13:27.780773Z"
    },
    "papermill": {
     "duration": 0.051434,
     "end_time": "2024-03-23T05:13:27.781955",
     "exception": false,
     "start_time": "2024-03-23T05:13:27.730521",
     "status": "completed"
    },
    "tags": []
   },
   "outputs": [
    {
     "name": "stdout",
     "output_type": "stream",
     "text": [
      "The results of this analysis (Figure @fig:sup:clustering:agreement) show that, under the two simulated null scenarios, the agreement of the consensus partitions with the ensemble is very close to zero. This means, as expected, that there is no consensus among ensemble partitions generated with different clustering algorithms and data representations. In contrast, using the real data, the consensus clustering approach finds trait pairs that are grouped together across the different members of the ensemble. The partitions above the 75th percentile were considered in the main analyses, and are shown in the clustering tree in Figure @fig:clustering:tree.\n"
     ]
    }
   ],
   "source": [
    "par0 = process_paragraph(orig_section_paragraphs[35])\n",
    "print(par0)"
   ]
  },
  {
   "cell_type": "code",
   "execution_count": 338,
   "id": "a58ecc49-191d-4f62-bd4a-af6481dc27b8",
   "metadata": {
    "execution": {
     "iopub.execute_input": "2024-03-23T05:13:27.877375Z",
     "iopub.status.busy": "2024-03-23T05:13:27.876968Z",
     "iopub.status.idle": "2024-03-23T05:13:27.880039Z",
     "shell.execute_reply": "2024-03-23T05:13:27.879596Z"
    },
    "papermill": {
     "duration": 0.051418,
     "end_time": "2024-03-23T05:13:27.880704",
     "exception": false,
     "start_time": "2024-03-23T05:13:27.829286",
     "status": "completed"
    },
    "tags": []
   },
   "outputs": [
    {
     "name": "stdout",
     "output_type": "stream",
     "text": [
      "The findings from this analysis (Figure 1) indicate that, in the simulated null scenarios, there is minimal agreement between the consensus partitions and the ensemble. This suggests that different clustering algorithms and data representations do not produce consistent results. However, when using actual data, the consensus clustering method identifies trait pairs that consistently group together across different ensemble members. For the main analyses, only partitions above the 75th percentile were considered, and these are displayed in the clustering tree in Figure 2.\n"
     ]
    }
   ],
   "source": [
    "par1 = process_paragraph(mod_section_paragraphs[35])\n",
    "print(par1)"
   ]
  },
  {
   "cell_type": "code",
   "execution_count": 339,
   "id": "3419933e-56e9-42f6-8bb5-3f18e84ddd1d",
   "metadata": {
    "execution": {
     "iopub.execute_input": "2024-03-23T05:13:27.975990Z",
     "iopub.status.busy": "2024-03-23T05:13:27.975634Z",
     "iopub.status.idle": "2024-03-23T05:13:27.978509Z",
     "shell.execute_reply": "2024-03-23T05:13:27.977937Z"
    },
    "papermill": {
     "duration": 0.051588,
     "end_time": "2024-03-23T05:13:27.979232",
     "exception": false,
     "start_time": "2024-03-23T05:13:27.927644",
     "status": "completed"
    },
    "tags": []
   },
   "outputs": [],
   "source": [
    "paragraph_matches.append(\n",
    "    (\n",
    "        section_name,\n",
    "        par0,\n",
    "        par1,\n",
    "    )\n",
    ")"
   ]
  },
  {
   "cell_type": "code",
   "execution_count": 340,
   "id": "c51c8c9d-451a-4516-bc9b-3ff2385ef734",
   "metadata": {
    "execution": {
     "iopub.execute_input": "2024-03-23T05:13:28.074573Z",
     "iopub.status.busy": "2024-03-23T05:13:28.074365Z",
     "iopub.status.idle": "2024-03-23T05:13:28.078245Z",
     "shell.execute_reply": "2024-03-23T05:13:28.077656Z"
    },
    "papermill": {
     "duration": 0.052365,
     "end_time": "2024-03-23T05:13:28.079014",
     "exception": false,
     "start_time": "2024-03-23T05:13:28.026649",
     "status": "completed"
    },
    "tags": []
   },
   "outputs": [
    {
     "data": {
      "text/plain": [
       "('supplementary material',\n",
       " 'The results of this analysis (Figure @fig:sup:clustering:agreement) show that, under the two simulated null scenarios, the agreement of the consensus partitions with the ensemble is very close to zero. This means, as expected, that there is no consensus among ensemble partitions generated with different clustering algorithms and data representations. In contrast, using the real data, the consensus clustering approach finds trait pairs that are grouped together across the different members of the ensemble. The partitions above the 75th percentile were considered in the main analyses, and are shown in the clustering tree in Figure @fig:clustering:tree.',\n",
       " 'The findings from this analysis (Figure 1) indicate that, in the simulated null scenarios, there is minimal agreement between the consensus partitions and the ensemble. This suggests that different clustering algorithms and data representations do not produce consistent results. However, when using actual data, the consensus clustering method identifies trait pairs that consistently group together across different ensemble members. For the main analyses, only partitions above the 75th percentile were considered, and these are displayed in the clustering tree in Figure 2.')"
      ]
     },
     "metadata": {},
     "output_type": "display_data"
    }
   ],
   "source": [
    "display(paragraph_matches[-1])"
   ]
  },
  {
   "cell_type": "markdown",
   "id": "9a45b8eb-9a57-4d0a-b311-b7ce8f6b4ceb",
   "metadata": {
    "editable": true,
    "papermill": {
     "duration": 0.075433,
     "end_time": "2024-03-23T05:13:28.201843",
     "exception": false,
     "start_time": "2024-03-23T05:13:28.126410",
     "status": "completed"
    },
    "slideshow": {
     "slide_type": ""
    },
    "tags": []
   },
   "source": [
    "# Close connections"
   ]
  },
  {
   "cell_type": "code",
   "execution_count": 341,
   "id": "91fcd4bb-131b-42b2-b64f-127441bd608b",
   "metadata": {
    "editable": true,
    "execution": {
     "iopub.execute_input": "2024-03-23T05:13:28.297480Z",
     "iopub.status.busy": "2024-03-23T05:13:28.297021Z",
     "iopub.status.idle": "2024-03-23T05:13:28.301277Z",
     "shell.execute_reply": "2024-03-23T05:13:28.300699Z"
    },
    "papermill": {
     "duration": 0.053165,
     "end_time": "2024-03-23T05:13:28.302071",
     "exception": false,
     "start_time": "2024-03-23T05:13:28.248906",
     "status": "completed"
    },
    "slideshow": {
     "slide_type": ""
    },
    "tags": []
   },
   "outputs": [],
   "source": [
    "g.close()"
   ]
  },
  {
   "cell_type": "markdown",
   "id": "be4b2259-6562-4d79-a0d2-a594c44a7fa8",
   "metadata": {
    "editable": true,
    "papermill": {
     "duration": 0.047366,
     "end_time": "2024-03-23T05:13:28.396811",
     "exception": false,
     "start_time": "2024-03-23T05:13:28.349445",
     "status": "completed"
    },
    "slideshow": {
     "slide_type": ""
    },
    "tags": []
   },
   "source": [
    "# Save"
   ]
  },
  {
   "cell_type": "code",
   "execution_count": 342,
   "id": "6b7e80bd-f678-4047-b0f6-3c4e55de4767",
   "metadata": {
    "editable": true,
    "execution": {
     "iopub.execute_input": "2024-03-23T05:13:28.491914Z",
     "iopub.status.busy": "2024-03-23T05:13:28.491701Z",
     "iopub.status.idle": "2024-03-23T05:13:28.495385Z",
     "shell.execute_reply": "2024-03-23T05:13:28.494932Z"
    },
    "papermill": {
     "duration": 0.052283,
     "end_time": "2024-03-23T05:13:28.496093",
     "exception": false,
     "start_time": "2024-03-23T05:13:28.443810",
     "status": "completed"
    },
    "slideshow": {
     "slide_type": ""
    },
    "tags": []
   },
   "outputs": [
    {
     "data": {
      "text/plain": [
       "63"
      ]
     },
     "execution_count": 342,
     "metadata": {},
     "output_type": "execute_result"
    }
   ],
   "source": [
    "len(paragraph_matches)"
   ]
  },
  {
   "cell_type": "code",
   "execution_count": 343,
   "id": "876f2147-1ea0-4f45-8eb2-722761b5394c",
   "metadata": {
    "execution": {
     "iopub.execute_input": "2024-03-23T05:13:28.592685Z",
     "iopub.status.busy": "2024-03-23T05:13:28.592360Z",
     "iopub.status.idle": "2024-03-23T05:13:28.596044Z",
     "shell.execute_reply": "2024-03-23T05:13:28.595612Z"
    },
    "papermill": {
     "duration": 0.052707,
     "end_time": "2024-03-23T05:13:28.596760",
     "exception": false,
     "start_time": "2024-03-23T05:13:28.544053",
     "status": "completed"
    },
    "tags": []
   },
   "outputs": [
    {
     "data": {
      "text/plain": [
       "[('abstract',\n",
       "  'Genes act in concert with each other in specific contexts to perform their functions. Determining how these genes influence complex traits requires a mechanistic understanding of expression regulation across different conditions. It has been shown that this insight is critical for developing new therapies. Transcriptome-wide association studies have helped uncover the role of individual genes in disease-relevant mechanisms. However, modern models of the architecture of complex traits predict that gene-gene interactions play a crucial role in disease origin and progression. Here we introduce PhenoPLIER, a computational approach that maps gene-trait associations and pharmacological perturbation data into a common latent representation for a joint analysis. This representation is based on modules of genes with similar expression patterns across the same conditions. We observe that diseases are significantly associated with gene modules expressed in relevant cell types, and our approach is accurate in predicting known drug-disease pairs and inferring mechanisms of action. Furthermore, using a CRISPR screen to analyze lipid regulation, we find that functionally important players lack associations but are prioritized in trait-associated modules by PhenoPLIER. By incorporating groups of co-expressed genes, PhenoPLIER can contextualize genetic associations and reveal potential targets missed by single-gene strategies.',\n",
       "  'How do genes interact to influence complex traits and disease mechanisms, and how can this knowledge be leveraged for therapeutic development? This paper introduces PhenoPLIER, a computational approach that integrates gene-trait associations and pharmacological data to analyze gene expression patterns across different conditions. By identifying modules of co-expressed genes associated with diseases and drug mechanisms, PhenoPLIER can accurately predict drug-disease pairs and infer mechanisms of action. Through a CRISPR screen focused on lipid regulation, we demonstrate that PhenoPLIER can prioritize functionally important genes within trait-associated modules. This approach highlights the importance of considering gene-gene interactions in understanding disease etiology and identifying potential therapeutic targets for drug repurposing.'),\n",
       " ('introduction',\n",
       "  'Genes work together in context-specific networks to carry out different functions [@pmid:19104045; @doi:10.1038/ng.3259]. Variations in these genes can change their functional role and, at a higher level, affect disease-relevant biological processes [@doi:10.1038/s41467-018-06022-6]. In this context, determining how genes influence complex traits requires mechanistically understanding expression regulation across different cell types [@doi:10.1126/science.aaz1776; @doi:10.1038/s41586-020-2559-3; @doi:10.1038/s41576-019-0200-9], which in turn should lead to improved treatments [@doi:10.1038/ng.3314; @doi:10.1371/journal.pgen.1008489]. Previous studies have described different regulatory DNA elements [@doi:10.1038/nature11247; @doi:10.1038/nature14248; @doi:10.1038/nature12787; @doi:10.1038/s41586-020-03145-z; @doi:10.1038/s41586-020-2559-3] including genetic effects on gene expression across different tissues [@doi:10.1126/science.aaz1776]. Integrating functional genomics data and GWAS data [@doi:10.1038/s41588-018-0081-4; @doi:10.1016/j.ajhg.2018.04.002; @doi:10.1038/s41588-018-0081-4; @doi:10.1038/ncomms6890] has improved the identification of these transcriptional mechanisms that, when dysregulated, commonly result in tissue- and cell lineage-specific pathology [@pmid:20624743; @pmid:14707169; @doi:10.1073/pnas.0810772105].',\n",
       "  'Genes work together in specific networks to carry out various functions. Changes in these genes can alter their function and, on a broader scale, impact biological processes relevant to disease. Understanding how genes influence complex traits requires a mechanistic understanding of gene expression regulation across different cell types, which can lead to improved treatments. Previous research has identified various regulatory DNA elements, including genetic effects on gene expression in different tissues. By integrating functional genomics data with GWAS data, researchers have improved the identification of transcriptional mechanisms that, when disrupted, often lead to tissue- and cell lineage-specific pathology.')]"
      ]
     },
     "execution_count": 343,
     "metadata": {},
     "output_type": "execute_result"
    }
   ],
   "source": [
    "paragraph_matches[:2]"
   ]
  },
  {
   "cell_type": "code",
   "execution_count": 344,
   "id": "77d20807-9017-4e10-8cb7-6a3c706e9111",
   "metadata": {
    "execution": {
     "iopub.execute_input": "2024-03-23T05:13:28.692850Z",
     "iopub.status.busy": "2024-03-23T05:13:28.692633Z",
     "iopub.status.idle": "2024-03-23T05:13:28.696681Z",
     "shell.execute_reply": "2024-03-23T05:13:28.696120Z"
    },
    "papermill": {
     "duration": 0.053269,
     "end_time": "2024-03-23T05:13:28.697449",
     "exception": false,
     "start_time": "2024-03-23T05:13:28.644180",
     "status": "completed"
    },
    "tags": []
   },
   "outputs": [],
   "source": [
    "df = pd.DataFrame(paragraph_matches).rename(\n",
    "    columns={\n",
    "        0: \"section\",\n",
    "        1: \"original\",\n",
    "        2: \"modified\",\n",
    "    }\n",
    ")"
   ]
  },
  {
   "cell_type": "code",
   "execution_count": 345,
   "id": "44e31258-2754-49a0-af7a-5f3b4ef3a961",
   "metadata": {
    "execution": {
     "iopub.execute_input": "2024-03-23T05:13:28.794122Z",
     "iopub.status.busy": "2024-03-23T05:13:28.793610Z",
     "iopub.status.idle": "2024-03-23T05:13:28.797516Z",
     "shell.execute_reply": "2024-03-23T05:13:28.796952Z"
    },
    "papermill": {
     "duration": 0.053204,
     "end_time": "2024-03-23T05:13:28.798398",
     "exception": false,
     "start_time": "2024-03-23T05:13:28.745194",
     "status": "completed"
    },
    "tags": []
   },
   "outputs": [
    {
     "data": {
      "text/plain": [
       "(63, 3)"
      ]
     },
     "execution_count": 345,
     "metadata": {},
     "output_type": "execute_result"
    }
   ],
   "source": [
    "df.shape"
   ]
  },
  {
   "cell_type": "code",
   "execution_count": 346,
   "id": "f7612c30-e726-474f-8039-aa4bc44d1f16",
   "metadata": {
    "execution": {
     "iopub.execute_input": "2024-03-23T05:13:28.894428Z",
     "iopub.status.busy": "2024-03-23T05:13:28.893902Z",
     "iopub.status.idle": "2024-03-23T05:13:28.901998Z",
     "shell.execute_reply": "2024-03-23T05:13:28.901410Z"
    },
    "papermill": {
     "duration": 0.05674,
     "end_time": "2024-03-23T05:13:28.902713",
     "exception": false,
     "start_time": "2024-03-23T05:13:28.845973",
     "status": "completed"
    },
    "tags": []
   },
   "outputs": [
    {
     "data": {
      "text/html": [
       "<div>\n",
       "<style scoped>\n",
       "    .dataframe tbody tr th:only-of-type {\n",
       "        vertical-align: middle;\n",
       "    }\n",
       "\n",
       "    .dataframe tbody tr th {\n",
       "        vertical-align: top;\n",
       "    }\n",
       "\n",
       "    .dataframe thead th {\n",
       "        text-align: right;\n",
       "    }\n",
       "</style>\n",
       "<table border=\"1\" class=\"dataframe\">\n",
       "  <thead>\n",
       "    <tr style=\"text-align: right;\">\n",
       "      <th></th>\n",
       "      <th>section</th>\n",
       "      <th>original</th>\n",
       "      <th>modified</th>\n",
       "    </tr>\n",
       "  </thead>\n",
       "  <tbody>\n",
       "    <tr>\n",
       "      <th>0</th>\n",
       "      <td>abstract</td>\n",
       "      <td>Genes act in concert with each other in specif...</td>\n",
       "      <td>How do genes interact to influence complex tra...</td>\n",
       "    </tr>\n",
       "    <tr>\n",
       "      <th>1</th>\n",
       "      <td>introduction</td>\n",
       "      <td>Genes work together in context-specific networ...</td>\n",
       "      <td>Genes work together in specific networks to ca...</td>\n",
       "    </tr>\n",
       "    <tr>\n",
       "      <th>2</th>\n",
       "      <td>introduction</td>\n",
       "      <td>Given the availability of gene expression data...</td>\n",
       "      <td>With the abundance of gene expression data ava...</td>\n",
       "    </tr>\n",
       "    <tr>\n",
       "      <th>3</th>\n",
       "      <td>introduction</td>\n",
       "      <td>These gene-gene interactions play a crucial ro...</td>\n",
       "      <td>Gene-gene interactions are essential in curren...</td>\n",
       "    </tr>\n",
       "    <tr>\n",
       "      <th>4</th>\n",
       "      <td>introduction</td>\n",
       "      <td>Here we propose PhenoPLIER, an omnigenic appro...</td>\n",
       "      <td>In this paper titled 'Projecting genetic assoc...</td>\n",
       "    </tr>\n",
       "  </tbody>\n",
       "</table>\n",
       "</div>"
      ],
      "text/plain": [
       "        section                                           original  \\\n",
       "0      abstract  Genes act in concert with each other in specif...   \n",
       "1  introduction  Genes work together in context-specific networ...   \n",
       "2  introduction  Given the availability of gene expression data...   \n",
       "3  introduction  These gene-gene interactions play a crucial ro...   \n",
       "4  introduction  Here we propose PhenoPLIER, an omnigenic appro...   \n",
       "\n",
       "                                            modified  \n",
       "0  How do genes interact to influence complex tra...  \n",
       "1  Genes work together in specific networks to ca...  \n",
       "2  With the abundance of gene expression data ava...  \n",
       "3  Gene-gene interactions are essential in curren...  \n",
       "4  In this paper titled 'Projecting genetic assoc...  "
      ]
     },
     "execution_count": 346,
     "metadata": {},
     "output_type": "execute_result"
    }
   ],
   "source": [
    "df.head()"
   ]
  },
  {
   "cell_type": "code",
   "execution_count": 347,
   "id": "e072fbf8-91bd-4684-8782-9ccb8d6ee565",
   "metadata": {
    "execution": {
     "iopub.execute_input": "2024-03-23T05:13:28.998245Z",
     "iopub.status.busy": "2024-03-23T05:13:28.998031Z",
     "iopub.status.idle": "2024-03-23T05:13:29.001653Z",
     "shell.execute_reply": "2024-03-23T05:13:29.001070Z"
    },
    "papermill": {
     "duration": 0.052305,
     "end_time": "2024-03-23T05:13:29.002459",
     "exception": false,
     "start_time": "2024-03-23T05:13:28.950154",
     "status": "completed"
    },
    "tags": []
   },
   "outputs": [],
   "source": [
    "df.to_pickle(OUTPUT_FILE_PATH)"
   ]
  },
  {
   "cell_type": "markdown",
   "id": "41ee2c19-18a5-4742-a3ec-42771e914fb7",
   "metadata": {
    "editable": true,
    "papermill": {
     "duration": 0.047643,
     "end_time": "2024-03-23T05:13:29.097686",
     "exception": false,
     "start_time": "2024-03-23T05:13:29.050043",
     "status": "completed"
    },
    "slideshow": {
     "slide_type": ""
    },
    "tags": []
   },
   "source": [
    "# Reverse original/modified columns"
   ]
  },
  {
   "cell_type": "code",
   "execution_count": 348,
   "id": "ead9e4b4-17dc-4ebd-9d7f-a1c96b4a84de",
   "metadata": {
    "editable": true,
    "execution": {
     "iopub.execute_input": "2024-03-23T05:13:29.221626Z",
     "iopub.status.busy": "2024-03-23T05:13:29.221174Z",
     "iopub.status.idle": "2024-03-23T05:13:29.225302Z",
     "shell.execute_reply": "2024-03-23T05:13:29.224693Z"
    },
    "papermill": {
     "duration": 0.05335,
     "end_time": "2024-03-23T05:13:29.226078",
     "exception": false,
     "start_time": "2024-03-23T05:13:29.172728",
     "status": "completed"
    },
    "slideshow": {
     "slide_type": ""
    },
    "tags": []
   },
   "outputs": [],
   "source": [
    "df_reversed = df.rename(columns={\"original\": \"modified2\"}).rename(\n",
    "    columns={\"modified\": \"original\", \"modified2\": \"modified\"}\n",
    ")"
   ]
  },
  {
   "cell_type": "code",
   "execution_count": 349,
   "id": "74e3f179-5564-4cc5-aff6-26ec01072739",
   "metadata": {
    "editable": true,
    "execution": {
     "iopub.execute_input": "2024-03-23T05:13:29.322780Z",
     "iopub.status.busy": "2024-03-23T05:13:29.322280Z",
     "iopub.status.idle": "2024-03-23T05:13:29.326253Z",
     "shell.execute_reply": "2024-03-23T05:13:29.325671Z"
    },
    "papermill": {
     "duration": 0.052974,
     "end_time": "2024-03-23T05:13:29.327056",
     "exception": false,
     "start_time": "2024-03-23T05:13:29.274082",
     "status": "completed"
    },
    "slideshow": {
     "slide_type": ""
    },
    "tags": []
   },
   "outputs": [
    {
     "data": {
      "text/plain": [
       "(63, 3)"
      ]
     },
     "execution_count": 349,
     "metadata": {},
     "output_type": "execute_result"
    }
   ],
   "source": [
    "df_reversed.shape"
   ]
  },
  {
   "cell_type": "code",
   "execution_count": 350,
   "id": "0da23618-76b8-4e26-b053-e2acb025bc27",
   "metadata": {
    "editable": true,
    "execution": {
     "iopub.execute_input": "2024-03-23T05:13:29.423279Z",
     "iopub.status.busy": "2024-03-23T05:13:29.422929Z",
     "iopub.status.idle": "2024-03-23T05:13:29.429632Z",
     "shell.execute_reply": "2024-03-23T05:13:29.429071Z"
    },
    "papermill": {
     "duration": 0.055634,
     "end_time": "2024-03-23T05:13:29.430464",
     "exception": false,
     "start_time": "2024-03-23T05:13:29.374830",
     "status": "completed"
    },
    "slideshow": {
     "slide_type": ""
    },
    "tags": []
   },
   "outputs": [
    {
     "data": {
      "text/html": [
       "<div>\n",
       "<style scoped>\n",
       "    .dataframe tbody tr th:only-of-type {\n",
       "        vertical-align: middle;\n",
       "    }\n",
       "\n",
       "    .dataframe tbody tr th {\n",
       "        vertical-align: top;\n",
       "    }\n",
       "\n",
       "    .dataframe thead th {\n",
       "        text-align: right;\n",
       "    }\n",
       "</style>\n",
       "<table border=\"1\" class=\"dataframe\">\n",
       "  <thead>\n",
       "    <tr style=\"text-align: right;\">\n",
       "      <th></th>\n",
       "      <th>section</th>\n",
       "      <th>modified</th>\n",
       "      <th>original</th>\n",
       "    </tr>\n",
       "  </thead>\n",
       "  <tbody>\n",
       "    <tr>\n",
       "      <th>0</th>\n",
       "      <td>abstract</td>\n",
       "      <td>Genes act in concert with each other in specif...</td>\n",
       "      <td>How do genes interact to influence complex tra...</td>\n",
       "    </tr>\n",
       "    <tr>\n",
       "      <th>1</th>\n",
       "      <td>introduction</td>\n",
       "      <td>Genes work together in context-specific networ...</td>\n",
       "      <td>Genes work together in specific networks to ca...</td>\n",
       "    </tr>\n",
       "    <tr>\n",
       "      <th>2</th>\n",
       "      <td>introduction</td>\n",
       "      <td>Given the availability of gene expression data...</td>\n",
       "      <td>With the abundance of gene expression data ava...</td>\n",
       "    </tr>\n",
       "    <tr>\n",
       "      <th>3</th>\n",
       "      <td>introduction</td>\n",
       "      <td>These gene-gene interactions play a crucial ro...</td>\n",
       "      <td>Gene-gene interactions are essential in curren...</td>\n",
       "    </tr>\n",
       "    <tr>\n",
       "      <th>4</th>\n",
       "      <td>introduction</td>\n",
       "      <td>Here we propose PhenoPLIER, an omnigenic appro...</td>\n",
       "      <td>In this paper titled 'Projecting genetic assoc...</td>\n",
       "    </tr>\n",
       "  </tbody>\n",
       "</table>\n",
       "</div>"
      ],
      "text/plain": [
       "        section                                           modified  \\\n",
       "0      abstract  Genes act in concert with each other in specif...   \n",
       "1  introduction  Genes work together in context-specific networ...   \n",
       "2  introduction  Given the availability of gene expression data...   \n",
       "3  introduction  These gene-gene interactions play a crucial ro...   \n",
       "4  introduction  Here we propose PhenoPLIER, an omnigenic appro...   \n",
       "\n",
       "                                            original  \n",
       "0  How do genes interact to influence complex tra...  \n",
       "1  Genes work together in specific networks to ca...  \n",
       "2  With the abundance of gene expression data ava...  \n",
       "3  Gene-gene interactions are essential in curren...  \n",
       "4  In this paper titled 'Projecting genetic assoc...  "
      ]
     },
     "execution_count": 350,
     "metadata": {},
     "output_type": "execute_result"
    }
   ],
   "source": [
    "df_reversed.head()"
   ]
  },
  {
   "cell_type": "markdown",
   "id": "054e4b28-53f4-41c2-abb7-ff1a0182164b",
   "metadata": {
    "editable": true,
    "papermill": {
     "duration": 0.047308,
     "end_time": "2024-03-23T05:13:29.525464",
     "exception": false,
     "start_time": "2024-03-23T05:13:29.478156",
     "status": "completed"
    },
    "slideshow": {
     "slide_type": ""
    },
    "tags": []
   },
   "source": [
    "## Save"
   ]
  },
  {
   "cell_type": "code",
   "execution_count": 351,
   "id": "af88ecb3-70f7-40d3-8289-68ba99bbc7f3",
   "metadata": {
    "execution": {
     "iopub.execute_input": "2024-03-23T05:13:29.621792Z",
     "iopub.status.busy": "2024-03-23T05:13:29.621267Z",
     "iopub.status.idle": "2024-03-23T05:13:29.625056Z",
     "shell.execute_reply": "2024-03-23T05:13:29.624487Z"
    },
    "papermill": {
     "duration": 0.053003,
     "end_time": "2024-03-23T05:13:29.625881",
     "exception": false,
     "start_time": "2024-03-23T05:13:29.572878",
     "status": "completed"
    },
    "tags": []
   },
   "outputs": [],
   "source": [
    "df_reversed.to_pickle(REVERSED_OUTPUT_FILE_PATH)"
   ]
  },
  {
   "cell_type": "code",
   "execution_count": null,
   "id": "02304589-1223-48c7-9c0a-26bfa26392e7",
   "metadata": {
    "editable": true,
    "papermill": {
     "duration": 0.048104,
     "end_time": "2024-03-23T05:13:29.722126",
     "exception": false,
     "start_time": "2024-03-23T05:13:29.674022",
     "status": "completed"
    },
    "slideshow": {
     "slide_type": ""
    },
    "tags": []
   },
   "outputs": [],
   "source": []
  }
 ],
 "metadata": {
  "jupytext": {
   "cell_metadata_filter": "all,-execution,-papermill,-trusted",
   "notebook_metadata_filter": "-jupytext.text_representation.jupytext_version"
  },
  "kernelspec": {
   "display_name": "Python 3 (ipykernel)",
   "language": "python",
   "name": "python3"
  },
  "language_info": {
   "codemirror_mode": {
    "name": "ipython",
    "version": 3
   },
   "file_extension": ".py",
   "mimetype": "text/x-python",
   "name": "python",
   "nbconvert_exporter": "python",
   "pygments_lexer": "ipython3",
   "version": "3.11.8"
  },
  "papermill": {
   "default_parameters": {},
   "duration": 48.317081,
   "end_time": "2024-03-23T05:13:30.286687",
   "environment_variables": {},
   "exception": null,
   "input_path": "/home/miltondp/projects/others/manubot/manubot-ai-editor-code/nbs/01-paragraph_match/06-phenoplier-gpt35-par_match.ipynb",
   "output_path": "/home/miltondp/projects/others/manubot/manubot-ai-editor-code/nbs/01-paragraph_match/06-phenoplier-gpt35-par_match.run.ipynb",
   "parameters": {
    "OUTPUT_FILE_PATH": "/home/miltondp/projects/others/manubot/manubot-ai-editor-code/base/results/paragraph_match/phenoplier-manuscript--gpt-3.5-turbo.pkl",
    "REVERSED_OUTPUT_FILE_PATH": "/home/miltondp/projects/others/manubot/manubot-ai-editor-code/base/results/paragraph_match/phenoplier-manuscript--gpt-3.5-turbo--reversed.pkl"
   },
   "start_time": "2024-03-23T05:12:41.969606",
   "version": "2.5.0"
  }
 },
 "nbformat": 4,
 "nbformat_minor": 5
}
