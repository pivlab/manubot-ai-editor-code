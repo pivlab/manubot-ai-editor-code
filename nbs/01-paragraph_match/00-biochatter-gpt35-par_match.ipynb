{
 "cells": [
  {
   "cell_type": "markdown",
   "id": "070a050a-44d1-42c2-b274-c8c180a2a0ba",
   "metadata": {
    "editable": true,
    "papermill": {
     "duration": 0.043693,
     "end_time": "2024-03-20T21:35:06.814255",
     "exception": false,
     "start_time": "2024-03-20T21:35:06.770562",
     "status": "completed"
    },
    "slideshow": {
     "slide_type": ""
    },
    "tags": []
   },
   "source": [
    "# Description"
   ]
  },
  {
   "cell_type": "markdown",
   "id": "e4fcbb4d-aa04-4e1a-9aee-0053c559e157",
   "metadata": {
    "editable": true,
    "papermill": {
     "duration": 0.020783,
     "end_time": "2024-03-20T21:35:06.873953",
     "exception": false,
     "start_time": "2024-03-20T21:35:06.853170",
     "status": "completed"
    },
    "slideshow": {
     "slide_type": ""
    },
    "tags": []
   },
   "source": [
    "This notebook reads a PR from a manuscript and matches original paragraphs with modified ones."
   ]
  },
  {
   "cell_type": "markdown",
   "id": "b237f234-dc98-43e9-8ff5-8922c410c377",
   "metadata": {
    "editable": true,
    "papermill": {
     "duration": 0.020951,
     "end_time": "2024-03-20T21:35:06.916073",
     "exception": false,
     "start_time": "2024-03-20T21:35:06.895122",
     "status": "completed"
    },
    "slideshow": {
     "slide_type": ""
    },
    "tags": []
   },
   "source": [
    "# Modules"
   ]
  },
  {
   "cell_type": "code",
   "execution_count": 1,
   "id": "70413318-1f5e-4d58-b1a2-cb4f01c13e86",
   "metadata": {
    "editable": true,
    "execution": {
     "iopub.execute_input": "2024-03-20T21:35:06.959686Z",
     "iopub.status.busy": "2024-03-20T21:35:06.959379Z",
     "iopub.status.idle": "2024-03-20T21:35:08.002604Z",
     "shell.execute_reply": "2024-03-20T21:35:08.002039Z"
    },
    "papermill": {
     "duration": 1.066576,
     "end_time": "2024-03-20T21:35:08.003822",
     "exception": false,
     "start_time": "2024-03-20T21:35:06.937246",
     "status": "completed"
    },
    "slideshow": {
     "slide_type": ""
    },
    "tags": []
   },
   "outputs": [],
   "source": [
    "from pathlib import Path\n",
    "\n",
    "import pandas as pd\n",
    "from github import Auth, Github\n",
    "from IPython.display import display\n",
    "from proj import conf\n",
    "from proj.utils import process_paragraph"
   ]
  },
  {
   "cell_type": "markdown",
   "id": "3f78fd18-86b7-40b9-b80e-a8b18d001682",
   "metadata": {
    "editable": true,
    "papermill": {
     "duration": 0.031148,
     "end_time": "2024-03-20T21:35:08.067039",
     "exception": false,
     "start_time": "2024-03-20T21:35:08.035891",
     "status": "completed"
    },
    "slideshow": {
     "slide_type": ""
    },
    "tags": []
   },
   "source": [
    "# Settings/paths"
   ]
  },
  {
   "cell_type": "code",
   "execution_count": 2,
   "id": "10a3ceca-1480-45b0-b04d-cb402ff95abf",
   "metadata": {
    "editable": true,
    "execution": {
     "iopub.execute_input": "2024-03-20T21:35:08.116278Z",
     "iopub.status.busy": "2024-03-20T21:35:08.116081Z",
     "iopub.status.idle": "2024-03-20T21:35:08.118863Z",
     "shell.execute_reply": "2024-03-20T21:35:08.118341Z"
    },
    "papermill": {
     "duration": 0.025307,
     "end_time": "2024-03-20T21:35:08.119689",
     "exception": false,
     "start_time": "2024-03-20T21:35:08.094382",
     "status": "completed"
    },
    "slideshow": {
     "slide_type": ""
    },
    "tags": [
     "parameters"
    ]
   },
   "outputs": [],
   "source": [
    "REPO = \"pivlab/manubot-ai-editor-code-test-biochatter-manuscript\"\n",
    "PR = (2, \"gpt-3.5-turbo\")\n",
    "\n",
    "OUTPUT_FILE_PATH = None\n",
    "REVERSED_OUTPUT_FILE_PATH = None"
   ]
  },
  {
   "cell_type": "code",
   "execution_count": 3,
   "id": "fcf9aafd",
   "metadata": {
    "execution": {
     "iopub.execute_input": "2024-03-20T21:35:08.163087Z",
     "iopub.status.busy": "2024-03-20T21:35:08.162855Z",
     "iopub.status.idle": "2024-03-20T21:35:08.165778Z",
     "shell.execute_reply": "2024-03-20T21:35:08.165319Z"
    },
    "papermill": {
     "duration": 0.025423,
     "end_time": "2024-03-20T21:35:08.166482",
     "exception": false,
     "start_time": "2024-03-20T21:35:08.141059",
     "status": "completed"
    },
    "tags": [
     "injected-parameters"
    ]
   },
   "outputs": [],
   "source": [
    "# Parameters\n",
    "OUTPUT_FILE_PATH = \"/home/miltondp/projects/others/manubot/manubot-ai-editor-code/base/results/paragraph_match/biochatter-manuscript--gpt-3.5-turbo.pkl\"\n",
    "REVERSED_OUTPUT_FILE_PATH = \"/home/miltondp/projects/others/manubot/manubot-ai-editor-code/base/results/paragraph_match/biochatter-manuscript--gpt-3.5-turbo--reversed.pkl\"\n"
   ]
  },
  {
   "cell_type": "code",
   "execution_count": 4,
   "id": "71351755-ed5f-43a2-a886-6ef08afaddf4",
   "metadata": {
    "editable": true,
    "execution": {
     "iopub.execute_input": "2024-03-20T21:35:08.209794Z",
     "iopub.status.busy": "2024-03-20T21:35:08.209589Z",
     "iopub.status.idle": "2024-03-20T21:35:08.216014Z",
     "shell.execute_reply": "2024-03-20T21:35:08.215519Z"
    },
    "papermill": {
     "duration": 0.028958,
     "end_time": "2024-03-20T21:35:08.216745",
     "exception": false,
     "start_time": "2024-03-20T21:35:08.187787",
     "status": "completed"
    },
    "slideshow": {
     "slide_type": ""
    },
    "tags": []
   },
   "outputs": [
    {
     "data": {
      "text/plain": [
       "PosixPath('/home/miltondp/projects/others/manubot/manubot-ai-editor-code/base/results/paragraph_match/biochatter-manuscript--gpt-3.5-turbo.pkl')"
      ]
     },
     "metadata": {},
     "output_type": "display_data"
    }
   ],
   "source": [
    "OUTPUT_FILE_PATH = Path(OUTPUT_FILE_PATH).resolve()\n",
    "OUTPUT_FILE_PATH.parent.mkdir(parents=True, exist_ok=True)\n",
    "display(OUTPUT_FILE_PATH)"
   ]
  },
  {
   "cell_type": "code",
   "execution_count": 5,
   "id": "d20e7ef9-1535-47ac-a5aa-9fe635fba9b9",
   "metadata": {
    "editable": true,
    "execution": {
     "iopub.execute_input": "2024-03-20T21:35:08.260221Z",
     "iopub.status.busy": "2024-03-20T21:35:08.259899Z",
     "iopub.status.idle": "2024-03-20T21:35:08.263933Z",
     "shell.execute_reply": "2024-03-20T21:35:08.263434Z"
    },
    "papermill": {
     "duration": 0.02661,
     "end_time": "2024-03-20T21:35:08.264643",
     "exception": false,
     "start_time": "2024-03-20T21:35:08.238033",
     "status": "completed"
    },
    "slideshow": {
     "slide_type": ""
    },
    "tags": []
   },
   "outputs": [
    {
     "data": {
      "text/plain": [
       "PosixPath('/home/miltondp/projects/others/manubot/manubot-ai-editor-code/base/results/paragraph_match/biochatter-manuscript--gpt-3.5-turbo--reversed.pkl')"
      ]
     },
     "metadata": {},
     "output_type": "display_data"
    }
   ],
   "source": [
    "REVERSED_OUTPUT_FILE_PATH = Path(REVERSED_OUTPUT_FILE_PATH).resolve()\n",
    "REVERSED_OUTPUT_FILE_PATH.parent.mkdir(parents=True, exist_ok=True)\n",
    "display(REVERSED_OUTPUT_FILE_PATH)"
   ]
  },
  {
   "cell_type": "markdown",
   "id": "c42b83b5-84b7-45ff-88ee-3651aa5c9c55",
   "metadata": {
    "editable": true,
    "papermill": {
     "duration": 0.021354,
     "end_time": "2024-03-20T21:35:08.307601",
     "exception": false,
     "start_time": "2024-03-20T21:35:08.286247",
     "status": "completed"
    },
    "slideshow": {
     "slide_type": ""
    },
    "tags": []
   },
   "source": [
    "# Get Repo"
   ]
  },
  {
   "cell_type": "code",
   "execution_count": 6,
   "id": "f1d1f476-f5b5-4d1c-9c3a-822e9bef4b27",
   "metadata": {
    "editable": true,
    "execution": {
     "iopub.execute_input": "2024-03-20T21:35:08.351182Z",
     "iopub.status.busy": "2024-03-20T21:35:08.350992Z",
     "iopub.status.idle": "2024-03-20T21:35:08.353685Z",
     "shell.execute_reply": "2024-03-20T21:35:08.353247Z"
    },
    "papermill": {
     "duration": 0.025307,
     "end_time": "2024-03-20T21:35:08.354394",
     "exception": false,
     "start_time": "2024-03-20T21:35:08.329087",
     "status": "completed"
    },
    "slideshow": {
     "slide_type": ""
    },
    "tags": []
   },
   "outputs": [],
   "source": [
    "auth = Auth.Token(conf.github.API_TOKEN)"
   ]
  },
  {
   "cell_type": "code",
   "execution_count": 7,
   "id": "4e3db6e2-f267-4d60-8ff3-703698a09f88",
   "metadata": {
    "editable": true,
    "execution": {
     "iopub.execute_input": "2024-03-20T21:35:08.398247Z",
     "iopub.status.busy": "2024-03-20T21:35:08.397883Z",
     "iopub.status.idle": "2024-03-20T21:35:08.400581Z",
     "shell.execute_reply": "2024-03-20T21:35:08.400122Z"
    },
    "papermill": {
     "duration": 0.025403,
     "end_time": "2024-03-20T21:35:08.401283",
     "exception": false,
     "start_time": "2024-03-20T21:35:08.375880",
     "status": "completed"
    },
    "slideshow": {
     "slide_type": ""
    },
    "tags": []
   },
   "outputs": [],
   "source": [
    "g = Github(auth=auth)"
   ]
  },
  {
   "cell_type": "code",
   "execution_count": 8,
   "id": "cc6a365d-59f5-4537-9fd7-869ee4156046",
   "metadata": {
    "editable": true,
    "execution": {
     "iopub.execute_input": "2024-03-20T21:35:08.467230Z",
     "iopub.status.busy": "2024-03-20T21:35:08.466908Z",
     "iopub.status.idle": "2024-03-20T21:35:08.856663Z",
     "shell.execute_reply": "2024-03-20T21:35:08.856105Z"
    },
    "papermill": {
     "duration": 0.435169,
     "end_time": "2024-03-20T21:35:08.857929",
     "exception": false,
     "start_time": "2024-03-20T21:35:08.422760",
     "status": "completed"
    },
    "slideshow": {
     "slide_type": ""
    },
    "tags": []
   },
   "outputs": [],
   "source": [
    "repo = g.get_repo(REPO)"
   ]
  },
  {
   "cell_type": "markdown",
   "id": "f2d9fb5d-6838-484b-9202-ceac74fcb336",
   "metadata": {
    "editable": true,
    "papermill": {
     "duration": 0.021418,
     "end_time": "2024-03-20T21:35:08.901994",
     "exception": false,
     "start_time": "2024-03-20T21:35:08.880576",
     "status": "completed"
    },
    "slideshow": {
     "slide_type": ""
    },
    "tags": []
   },
   "source": [
    "# Get Pull Request"
   ]
  },
  {
   "cell_type": "code",
   "execution_count": 9,
   "id": "297c9dec-9e00-490d-8723-44208b3fe8f4",
   "metadata": {
    "editable": true,
    "execution": {
     "iopub.execute_input": "2024-03-20T21:35:08.945760Z",
     "iopub.status.busy": "2024-03-20T21:35:08.945334Z",
     "iopub.status.idle": "2024-03-20T21:35:09.511030Z",
     "shell.execute_reply": "2024-03-20T21:35:09.510462Z"
    },
    "papermill": {
     "duration": 0.589038,
     "end_time": "2024-03-20T21:35:09.512457",
     "exception": false,
     "start_time": "2024-03-20T21:35:08.923419",
     "status": "completed"
    },
    "slideshow": {
     "slide_type": ""
    },
    "tags": []
   },
   "outputs": [],
   "source": [
    "pr = repo.get_pull(PR[0])"
   ]
  },
  {
   "cell_type": "code",
   "execution_count": 10,
   "id": "064b1017-a495-48b3-bea3-1b9a67ad1b6f",
   "metadata": {
    "editable": true,
    "execution": {
     "iopub.execute_input": "2024-03-20T21:35:09.558200Z",
     "iopub.status.busy": "2024-03-20T21:35:09.557997Z",
     "iopub.status.idle": "2024-03-20T21:35:10.092087Z",
     "shell.execute_reply": "2024-03-20T21:35:10.091559Z"
    },
    "papermill": {
     "duration": 0.557504,
     "end_time": "2024-03-20T21:35:10.093305",
     "exception": false,
     "start_time": "2024-03-20T21:35:09.535801",
     "status": "completed"
    },
    "slideshow": {
     "slide_type": ""
    },
    "tags": []
   },
   "outputs": [
    {
     "data": {
      "text/plain": [
       "[File(sha=\"35c709fec248ca8fbc5c4254294c126da6879707\", filename=\"content/01.abstract.md\"),\n",
       " File(sha=\"d2b401a7c0b5352b4f8299fe7822e46f67723289\", filename=\"content/10.introduction.md\"),\n",
       " File(sha=\"fcdb707a8ee8f2b88f2e385bfa65081e6a96d05b\", filename=\"content/20.results.md\"),\n",
       " File(sha=\"df7cb00d842d36d076440ddabed093974e9a14b5\", filename=\"content/30.discussion.md\"),\n",
       " File(sha=\"9ec3ba88154efcb02dae746e91e93141c97df67e\", filename=\"content/40.methods.md\")]"
      ]
     },
     "execution_count": 10,
     "metadata": {},
     "output_type": "execute_result"
    }
   ],
   "source": [
    "list(pr.get_files())"
   ]
  },
  {
   "cell_type": "code",
   "execution_count": 11,
   "id": "7bc9b271-7ed2-4994-9d36-c8afa946b017",
   "metadata": {
    "editable": true,
    "execution": {
     "iopub.execute_input": "2024-03-20T21:35:10.175583Z",
     "iopub.status.busy": "2024-03-20T21:35:10.175383Z",
     "iopub.status.idle": "2024-03-20T21:35:10.504093Z",
     "shell.execute_reply": "2024-03-20T21:35:10.503533Z"
    },
    "papermill": {
     "duration": 0.37112,
     "end_time": "2024-03-20T21:35:10.505488",
     "exception": false,
     "start_time": "2024-03-20T21:35:10.134368",
     "status": "completed"
    },
    "slideshow": {
     "slide_type": ""
    },
    "tags": []
   },
   "outputs": [],
   "source": [
    "pr_commits = list(pr.get_commits())"
   ]
  },
  {
   "cell_type": "code",
   "execution_count": 12,
   "id": "446a1453-5729-4687-9b93-8165dd0e2793",
   "metadata": {
    "editable": true,
    "execution": {
     "iopub.execute_input": "2024-03-20T21:35:10.552725Z",
     "iopub.status.busy": "2024-03-20T21:35:10.552523Z",
     "iopub.status.idle": "2024-03-20T21:35:10.556149Z",
     "shell.execute_reply": "2024-03-20T21:35:10.555716Z"
    },
    "papermill": {
     "duration": 0.026602,
     "end_time": "2024-03-20T21:35:10.556861",
     "exception": false,
     "start_time": "2024-03-20T21:35:10.530259",
     "status": "completed"
    },
    "slideshow": {
     "slide_type": ""
    },
    "tags": []
   },
   "outputs": [
    {
     "data": {
      "text/plain": [
       "[Commit(sha=\"38a0c074e5eed7da6351cda324458e6f4ed4ece4\")]"
      ]
     },
     "execution_count": 12,
     "metadata": {},
     "output_type": "execute_result"
    }
   ],
   "source": [
    "pr_commits[0].parents"
   ]
  },
  {
   "cell_type": "code",
   "execution_count": 13,
   "id": "9c2382a1-adcc-47dc-8c75-d34f8500f93e",
   "metadata": {
    "editable": true,
    "execution": {
     "iopub.execute_input": "2024-03-20T21:35:10.600757Z",
     "iopub.status.busy": "2024-03-20T21:35:10.600419Z",
     "iopub.status.idle": "2024-03-20T21:35:10.603585Z",
     "shell.execute_reply": "2024-03-20T21:35:10.603082Z"
    },
    "papermill": {
     "duration": 0.025828,
     "end_time": "2024-03-20T21:35:10.604260",
     "exception": false,
     "start_time": "2024-03-20T21:35:10.578432",
     "status": "completed"
    },
    "slideshow": {
     "slide_type": ""
    },
    "tags": []
   },
   "outputs": [
    {
     "name": "stdout",
     "output_type": "stream",
     "text": [
      "38a0c074e5eed7da6351cda324458e6f4ed4ece4\n"
     ]
    }
   ],
   "source": [
    "pr_prev = pr_commits[0].parents[0].sha\n",
    "print(pr_prev)"
   ]
  },
  {
   "cell_type": "code",
   "execution_count": 14,
   "id": "96c9b088-a166-49d6-a0df-64d2cf690b7e",
   "metadata": {
    "editable": true,
    "execution": {
     "iopub.execute_input": "2024-03-20T21:35:10.648333Z",
     "iopub.status.busy": "2024-03-20T21:35:10.647934Z",
     "iopub.status.idle": "2024-03-20T21:35:10.650873Z",
     "shell.execute_reply": "2024-03-20T21:35:10.650369Z"
    },
    "papermill": {
     "duration": 0.025694,
     "end_time": "2024-03-20T21:35:10.651559",
     "exception": false,
     "start_time": "2024-03-20T21:35:10.625865",
     "status": "completed"
    },
    "slideshow": {
     "slide_type": ""
    },
    "tags": []
   },
   "outputs": [
    {
     "name": "stdout",
     "output_type": "stream",
     "text": [
      "fd1a546a487e1cb894d9cf11c9b873735d5f72a3\n"
     ]
    }
   ],
   "source": [
    "pr_curr = pr_commits[0].sha\n",
    "print(pr_curr)"
   ]
  },
  {
   "cell_type": "markdown",
   "id": "10872c1e-0184-46c6-a04f-dce43438d404",
   "metadata": {
    "editable": true,
    "papermill": {
     "duration": 0.021484,
     "end_time": "2024-03-20T21:35:10.694615",
     "exception": false,
     "start_time": "2024-03-20T21:35:10.673131",
     "status": "completed"
    },
    "slideshow": {
     "slide_type": ""
    },
    "tags": []
   },
   "source": [
    "# Get file list"
   ]
  },
  {
   "cell_type": "code",
   "execution_count": 15,
   "id": "242729cf-1778-4162-b813-249ae6c8b632",
   "metadata": {
    "editable": true,
    "execution": {
     "iopub.execute_input": "2024-03-20T21:35:10.738876Z",
     "iopub.status.busy": "2024-03-20T21:35:10.738508Z",
     "iopub.status.idle": "2024-03-20T21:35:10.923874Z",
     "shell.execute_reply": "2024-03-20T21:35:10.923419Z"
    },
    "papermill": {
     "duration": 0.208278,
     "end_time": "2024-03-20T21:35:10.924600",
     "exception": false,
     "start_time": "2024-03-20T21:35:10.716322",
     "status": "completed"
    },
    "slideshow": {
     "slide_type": ""
    },
    "tags": []
   },
   "outputs": [
    {
     "data": {
      "text/plain": [
       "[File(sha=\"35c709fec248ca8fbc5c4254294c126da6879707\", filename=\"content/01.abstract.md\"),\n",
       " File(sha=\"d2b401a7c0b5352b4f8299fe7822e46f67723289\", filename=\"content/10.introduction.md\"),\n",
       " File(sha=\"fcdb707a8ee8f2b88f2e385bfa65081e6a96d05b\", filename=\"content/20.results.md\"),\n",
       " File(sha=\"df7cb00d842d36d076440ddabed093974e9a14b5\", filename=\"content/30.discussion.md\"),\n",
       " File(sha=\"9ec3ba88154efcb02dae746e91e93141c97df67e\", filename=\"content/40.methods.md\")]"
      ]
     },
     "metadata": {},
     "output_type": "display_data"
    }
   ],
   "source": [
    "pr_files = [f for f in pr.get_files() if f.filename.endswith(\".md\")]\n",
    "display(pr_files)"
   ]
  },
  {
   "cell_type": "markdown",
   "id": "bce10792-ba0d-4716-9dcd-b44c2eb668d4",
   "metadata": {
    "editable": true,
    "papermill": {
     "duration": 0.021481,
     "end_time": "2024-03-20T21:35:10.967529",
     "exception": false,
     "start_time": "2024-03-20T21:35:10.946048",
     "status": "completed"
    },
    "slideshow": {
     "slide_type": ""
    },
    "tags": []
   },
   "source": [
    "# Sections"
   ]
  },
  {
   "cell_type": "code",
   "execution_count": 16,
   "id": "6253b146-7bd2-44ff-9ccc-6f245a11dd23",
   "metadata": {
    "execution": {
     "iopub.execute_input": "2024-03-20T21:35:11.011473Z",
     "iopub.status.busy": "2024-03-20T21:35:11.011284Z",
     "iopub.status.idle": "2024-03-20T21:35:11.013817Z",
     "shell.execute_reply": "2024-03-20T21:35:11.013386Z"
    },
    "papermill": {
     "duration": 0.025348,
     "end_time": "2024-03-20T21:35:11.014519",
     "exception": false,
     "start_time": "2024-03-20T21:35:10.989171",
     "status": "completed"
    },
    "tags": []
   },
   "outputs": [],
   "source": [
    "paragraph_matches = []"
   ]
  },
  {
   "cell_type": "markdown",
   "id": "7c403bcf-5c79-4bde-adfe-a09464b8b076",
   "metadata": {
    "editable": true,
    "papermill": {
     "duration": 0.021594,
     "end_time": "2024-03-20T21:35:11.057781",
     "exception": false,
     "start_time": "2024-03-20T21:35:11.036187",
     "status": "completed"
    },
    "slideshow": {
     "slide_type": ""
    },
    "tags": []
   },
   "source": [
    "## Abstract"
   ]
  },
  {
   "cell_type": "code",
   "execution_count": 17,
   "id": "5c13a99f-54e2-463e-9d20-d43a89c9ef76",
   "metadata": {
    "execution": {
     "iopub.execute_input": "2024-03-20T21:35:11.102041Z",
     "iopub.status.busy": "2024-03-20T21:35:11.101636Z",
     "iopub.status.idle": "2024-03-20T21:35:11.104153Z",
     "shell.execute_reply": "2024-03-20T21:35:11.103660Z"
    },
    "papermill": {
     "duration": 0.025496,
     "end_time": "2024-03-20T21:35:11.104873",
     "exception": false,
     "start_time": "2024-03-20T21:35:11.079377",
     "status": "completed"
    },
    "tags": []
   },
   "outputs": [],
   "source": [
    "section_name = \"abstract\""
   ]
  },
  {
   "cell_type": "code",
   "execution_count": 18,
   "id": "1558f08b-19a8-4951-8dea-228d7f59099d",
   "metadata": {
    "editable": true,
    "execution": {
     "iopub.execute_input": "2024-03-20T21:35:11.148918Z",
     "iopub.status.busy": "2024-03-20T21:35:11.148620Z",
     "iopub.status.idle": "2024-03-20T21:35:11.151562Z",
     "shell.execute_reply": "2024-03-20T21:35:11.151066Z"
    },
    "papermill": {
     "duration": 0.025711,
     "end_time": "2024-03-20T21:35:11.152272",
     "exception": false,
     "start_time": "2024-03-20T21:35:11.126561",
     "status": "completed"
    },
    "slideshow": {
     "slide_type": ""
    },
    "tags": []
   },
   "outputs": [
    {
     "name": "stdout",
     "output_type": "stream",
     "text": [
      "content/01.abstract.md\n"
     ]
    }
   ],
   "source": [
    "pr_filename = pr_files[0].filename\n",
    "assert section_name in pr_filename\n",
    "print(pr_filename)"
   ]
  },
  {
   "cell_type": "markdown",
   "id": "11efc147-ae59-4db5-990d-7d30c89ed8d0",
   "metadata": {
    "editable": true,
    "papermill": {
     "duration": 0.021641,
     "end_time": "2024-03-20T21:35:11.195604",
     "exception": false,
     "start_time": "2024-03-20T21:35:11.173963",
     "status": "completed"
    },
    "slideshow": {
     "slide_type": ""
    },
    "tags": []
   },
   "source": [
    "### Original"
   ]
  },
  {
   "cell_type": "code",
   "execution_count": 19,
   "id": "47db229e-b5e4-4c9a-ae54-fc984d9fdcde",
   "metadata": {
    "execution": {
     "iopub.execute_input": "2024-03-20T21:35:11.239947Z",
     "iopub.status.busy": "2024-03-20T21:35:11.239522Z",
     "iopub.status.idle": "2024-03-20T21:35:11.407298Z",
     "shell.execute_reply": "2024-03-20T21:35:11.406753Z"
    },
    "papermill": {
     "duration": 0.190922,
     "end_time": "2024-03-20T21:35:11.408251",
     "exception": false,
     "start_time": "2024-03-20T21:35:11.217329",
     "status": "completed"
    },
    "tags": []
   },
   "outputs": [
    {
     "name": "stdout",
     "output_type": "stream",
     "text": [
      "## Abstract\n",
      "\n",
      "Current-generation Large Language Mod\n"
     ]
    }
   ],
   "source": [
    "# get content\n",
    "orig_section_content = repo.get_contents(pr_filename, pr_prev).decoded_content.decode(\n",
    "    \"utf-8\"\n",
    ")\n",
    "print(orig_section_content[:50])"
   ]
  },
  {
   "cell_type": "code",
   "execution_count": 20,
   "id": "1c6e25fa-ef56-4d1a-8127-064e5cc348aa",
   "metadata": {
    "execution": {
     "iopub.execute_input": "2024-03-20T21:35:11.473769Z",
     "iopub.status.busy": "2024-03-20T21:35:11.473579Z",
     "iopub.status.idle": "2024-03-20T21:35:11.477177Z",
     "shell.execute_reply": "2024-03-20T21:35:11.476686Z"
    },
    "papermill": {
     "duration": 0.037046,
     "end_time": "2024-03-20T21:35:11.478042",
     "exception": false,
     "start_time": "2024-03-20T21:35:11.440996",
     "status": "completed"
    },
    "tags": []
   },
   "outputs": [
    {
     "data": {
      "text/plain": [
       "2"
      ]
     },
     "metadata": {},
     "output_type": "display_data"
    }
   ],
   "source": [
    "# split by paragraph\n",
    "orig_section_paragraphs = orig_section_content.split(\"\\n\\n\")\n",
    "display(len(orig_section_paragraphs))"
   ]
  },
  {
   "cell_type": "markdown",
   "id": "52d7d0ff-91f7-4435-ac51-78c9c9ce25fa",
   "metadata": {
    "editable": true,
    "papermill": {
     "duration": 0.021707,
     "end_time": "2024-03-20T21:35:11.527741",
     "exception": false,
     "start_time": "2024-03-20T21:35:11.506034",
     "status": "completed"
    },
    "slideshow": {
     "slide_type": ""
    },
    "tags": []
   },
   "source": [
    "### Modified"
   ]
  },
  {
   "cell_type": "code",
   "execution_count": 21,
   "id": "c12094b0-c50f-4d98-85f7-dd5072ff68e1",
   "metadata": {
    "execution": {
     "iopub.execute_input": "2024-03-20T21:35:11.571864Z",
     "iopub.status.busy": "2024-03-20T21:35:11.571685Z",
     "iopub.status.idle": "2024-03-20T21:35:11.812786Z",
     "shell.execute_reply": "2024-03-20T21:35:11.812218Z"
    },
    "papermill": {
     "duration": 0.264218,
     "end_time": "2024-03-20T21:35:11.813740",
     "exception": false,
     "start_time": "2024-03-20T21:35:11.549522",
     "status": "completed"
    },
    "tags": []
   },
   "outputs": [
    {
     "name": "stdout",
     "output_type": "stream",
     "text": [
      "## Abstract\n",
      "\n",
      "Large Language Models (LLMs) have gen\n"
     ]
    }
   ],
   "source": [
    "# get content\n",
    "mod_section_content = repo.get_contents(pr_filename, pr_curr).decoded_content.decode(\n",
    "    \"utf-8\"\n",
    ")\n",
    "print(mod_section_content[:50])"
   ]
  },
  {
   "cell_type": "code",
   "execution_count": 22,
   "id": "e02bdeb5-77c9-4a96-adf4-a31ba8047062",
   "metadata": {
    "execution": {
     "iopub.execute_input": "2024-03-20T21:35:11.880095Z",
     "iopub.status.busy": "2024-03-20T21:35:11.879673Z",
     "iopub.status.idle": "2024-03-20T21:35:11.883304Z",
     "shell.execute_reply": "2024-03-20T21:35:11.882816Z"
    },
    "papermill": {
     "duration": 0.037463,
     "end_time": "2024-03-20T21:35:11.884169",
     "exception": false,
     "start_time": "2024-03-20T21:35:11.846706",
     "status": "completed"
    },
    "tags": []
   },
   "outputs": [
    {
     "data": {
      "text/plain": [
       "2"
      ]
     },
     "metadata": {},
     "output_type": "display_data"
    }
   ],
   "source": [
    "# split by paragraph\n",
    "mod_section_paragraphs = mod_section_content.split(\"\\n\\n\")\n",
    "display(len(mod_section_paragraphs))"
   ]
  },
  {
   "cell_type": "markdown",
   "id": "bcbaf41a-e76e-4b5d-8daa-4db6cdb20f66",
   "metadata": {
    "editable": true,
    "papermill": {
     "duration": 0.021662,
     "end_time": "2024-03-20T21:35:11.933048",
     "exception": false,
     "start_time": "2024-03-20T21:35:11.911386",
     "status": "completed"
    },
    "slideshow": {
     "slide_type": ""
    },
    "tags": []
   },
   "source": [
    "### Match"
   ]
  },
  {
   "cell_type": "code",
   "execution_count": 23,
   "id": "38ec8ddf-9d53-4e31-8a48-2946e35e6996",
   "metadata": {
    "execution": {
     "iopub.execute_input": "2024-03-20T21:35:11.977380Z",
     "iopub.status.busy": "2024-03-20T21:35:11.977196Z",
     "iopub.status.idle": "2024-03-20T21:35:11.980547Z",
     "shell.execute_reply": "2024-03-20T21:35:11.980110Z"
    },
    "papermill": {
     "duration": 0.02624,
     "end_time": "2024-03-20T21:35:11.981246",
     "exception": false,
     "start_time": "2024-03-20T21:35:11.955006",
     "status": "completed"
    },
    "tags": []
   },
   "outputs": [
    {
     "data": {
      "text/plain": [
       "'## Abstract'"
      ]
     },
     "execution_count": 23,
     "metadata": {},
     "output_type": "execute_result"
    }
   ],
   "source": [
    "orig_section_paragraphs[0]"
   ]
  },
  {
   "cell_type": "code",
   "execution_count": 24,
   "id": "b665987d-444c-49b9-8d67-1bf157225d68",
   "metadata": {
    "execution": {
     "iopub.execute_input": "2024-03-20T21:35:12.025833Z",
     "iopub.status.busy": "2024-03-20T21:35:12.025524Z",
     "iopub.status.idle": "2024-03-20T21:35:12.029248Z",
     "shell.execute_reply": "2024-03-20T21:35:12.028652Z"
    },
    "papermill": {
     "duration": 0.026814,
     "end_time": "2024-03-20T21:35:12.030008",
     "exception": false,
     "start_time": "2024-03-20T21:35:12.003194",
     "status": "completed"
    },
    "tags": []
   },
   "outputs": [
    {
     "data": {
      "text/plain": [
       "'## Abstract'"
      ]
     },
     "execution_count": 24,
     "metadata": {},
     "output_type": "execute_result"
    }
   ],
   "source": [
    "mod_section_paragraphs[0]"
   ]
  },
  {
   "cell_type": "markdown",
   "id": "19b0d453-ff6b-4194-bd5b-caec7a71a0ac",
   "metadata": {
    "editable": true,
    "papermill": {
     "duration": 0.021995,
     "end_time": "2024-03-20T21:35:12.096897",
     "exception": false,
     "start_time": "2024-03-20T21:35:12.074902",
     "status": "completed"
    },
    "slideshow": {
     "slide_type": ""
    },
    "tags": []
   },
   "source": [
    "####  Paragraph 00"
   ]
  },
  {
   "cell_type": "code",
   "execution_count": 25,
   "id": "d6e681b6-d79a-45d9-a414-653920159e1c",
   "metadata": {
    "execution": {
     "iopub.execute_input": "2024-03-20T21:35:12.141970Z",
     "iopub.status.busy": "2024-03-20T21:35:12.141495Z",
     "iopub.status.idle": "2024-03-20T21:35:12.144773Z",
     "shell.execute_reply": "2024-03-20T21:35:12.144183Z"
    },
    "papermill": {
     "duration": 0.026753,
     "end_time": "2024-03-20T21:35:12.145569",
     "exception": false,
     "start_time": "2024-03-20T21:35:12.118816",
     "status": "completed"
    },
    "tags": []
   },
   "outputs": [
    {
     "name": "stdout",
     "output_type": "stream",
     "text": [
      "Current-generation Large Language Models (LLMs) have stirred enormous interest in recent months, yielding great potential for accessibility and automation, while simultaneously posing significant challenges and risk of misuse. To facilitate interfacing with LLMs in the biomedical space, while at the same time safeguarding their functionalities through sensible constraints, we propose a dedicated, open-source framework: BioChatter. Based on open-source software packages, we synergise the many functionalities that are currently developing around LLMs, such as knowledge integration / retrieval-augmented generation, model chaining, and benchmarking, resulting in an easy-to-use and inclusive framework for application in many use cases of biomedicine. We focus on robust and user-friendly implementation, including ways to deploy privacy-preserving local open-source LLMs. We demonstrate use cases via two multi-purpose web apps ([https://chat.biocypher.org](https://chat.biocypher.org)), and provide documentation, support, and an open community.\n"
     ]
    }
   ],
   "source": [
    "par0 = process_paragraph(orig_section_paragraphs[1])\n",
    "print(par0)"
   ]
  },
  {
   "cell_type": "code",
   "execution_count": 26,
   "id": "d1bf3ff4-c3ab-4ca8-b5d5-c3a2f6c02702",
   "metadata": {
    "execution": {
     "iopub.execute_input": "2024-03-20T21:35:12.190522Z",
     "iopub.status.busy": "2024-03-20T21:35:12.190160Z",
     "iopub.status.idle": "2024-03-20T21:35:12.193364Z",
     "shell.execute_reply": "2024-03-20T21:35:12.192794Z"
    },
    "papermill": {
     "duration": 0.026525,
     "end_time": "2024-03-20T21:35:12.194113",
     "exception": false,
     "start_time": "2024-03-20T21:35:12.167588",
     "status": "completed"
    },
    "tags": []
   },
   "outputs": [
    {
     "name": "stdout",
     "output_type": "stream",
     "text": [
      "Large Language Models (LLMs) have generated significant interest due to their potential for accessibility and automation in various fields, including biomedicine. However, they also present challenges and risks of misuse. In this paper, we address the need for a framework to interface with LLMs in the biomedical domain while ensuring their safe and effective use. To meet this need, we introduce BioChatter, an open-source framework that integrates various functionalities of LLMs, such as knowledge integration, retrieval-augmented generation, model chaining, and benchmarking. By leveraging open-source software packages, we have developed a user-friendly and versatile platform that can be applied across a range of biomedicine use cases. Our focus is on implementing robust and privacy-preserving local open-source LLMs. We showcase the utility of BioChatter through two multi-purpose web apps available at [https://chat.biocypher.org](https://chat.biocypher.org) and provide comprehensive documentation, support, and a vibrant open community.\n"
     ]
    }
   ],
   "source": [
    "par1 = process_paragraph(mod_section_paragraphs[1])\n",
    "print(par1)"
   ]
  },
  {
   "cell_type": "code",
   "execution_count": 27,
   "id": "c4b6cfc3-c2ae-40ce-abca-de3778b445f4",
   "metadata": {
    "execution": {
     "iopub.execute_input": "2024-03-20T21:35:12.239284Z",
     "iopub.status.busy": "2024-03-20T21:35:12.238891Z",
     "iopub.status.idle": "2024-03-20T21:35:12.241720Z",
     "shell.execute_reply": "2024-03-20T21:35:12.241160Z"
    },
    "papermill": {
     "duration": 0.026208,
     "end_time": "2024-03-20T21:35:12.242484",
     "exception": false,
     "start_time": "2024-03-20T21:35:12.216276",
     "status": "completed"
    },
    "tags": []
   },
   "outputs": [],
   "source": [
    "paragraph_matches.append(\n",
    "    (\n",
    "        section_name,\n",
    "        par0,\n",
    "        par1,\n",
    "    )\n",
    ")"
   ]
  },
  {
   "cell_type": "code",
   "execution_count": 28,
   "id": "db738a8d-d527-4607-8994-2a62433d75e6",
   "metadata": {
    "execution": {
     "iopub.execute_input": "2024-03-20T21:35:12.287744Z",
     "iopub.status.busy": "2024-03-20T21:35:12.287381Z",
     "iopub.status.idle": "2024-03-20T21:35:12.291240Z",
     "shell.execute_reply": "2024-03-20T21:35:12.290695Z"
    },
    "papermill": {
     "duration": 0.027326,
     "end_time": "2024-03-20T21:35:12.292000",
     "exception": false,
     "start_time": "2024-03-20T21:35:12.264674",
     "status": "completed"
    },
    "tags": []
   },
   "outputs": [
    {
     "data": {
      "text/plain": [
       "('abstract',\n",
       " 'Current-generation Large Language Models (LLMs) have stirred enormous interest in recent months, yielding great potential for accessibility and automation, while simultaneously posing significant challenges and risk of misuse. To facilitate interfacing with LLMs in the biomedical space, while at the same time safeguarding their functionalities through sensible constraints, we propose a dedicated, open-source framework: BioChatter. Based on open-source software packages, we synergise the many functionalities that are currently developing around LLMs, such as knowledge integration / retrieval-augmented generation, model chaining, and benchmarking, resulting in an easy-to-use and inclusive framework for application in many use cases of biomedicine. We focus on robust and user-friendly implementation, including ways to deploy privacy-preserving local open-source LLMs. We demonstrate use cases via two multi-purpose web apps ([https://chat.biocypher.org](https://chat.biocypher.org)), and provide documentation, support, and an open community.',\n",
       " 'Large Language Models (LLMs) have generated significant interest due to their potential for accessibility and automation in various fields, including biomedicine. However, they also present challenges and risks of misuse. In this paper, we address the need for a framework to interface with LLMs in the biomedical domain while ensuring their safe and effective use. To meet this need, we introduce BioChatter, an open-source framework that integrates various functionalities of LLMs, such as knowledge integration, retrieval-augmented generation, model chaining, and benchmarking. By leveraging open-source software packages, we have developed a user-friendly and versatile platform that can be applied across a range of biomedicine use cases. Our focus is on implementing robust and privacy-preserving local open-source LLMs. We showcase the utility of BioChatter through two multi-purpose web apps available at [https://chat.biocypher.org](https://chat.biocypher.org) and provide comprehensive documentation, support, and a vibrant open community.')"
      ]
     },
     "metadata": {},
     "output_type": "display_data"
    }
   ],
   "source": [
    "display(paragraph_matches[-1])"
   ]
  },
  {
   "cell_type": "markdown",
   "id": "84bb559e-97ba-4171-ac1c-b1b8b1837c5b",
   "metadata": {
    "editable": true,
    "papermill": {
     "duration": 0.02211,
     "end_time": "2024-03-20T21:35:12.336182",
     "exception": false,
     "start_time": "2024-03-20T21:35:12.314072",
     "status": "completed"
    },
    "slideshow": {
     "slide_type": ""
    },
    "tags": []
   },
   "source": [
    "## Introduction"
   ]
  },
  {
   "cell_type": "code",
   "execution_count": 29,
   "id": "2fbfb828-2b12-42da-b724-9d81121dbda3",
   "metadata": {
    "execution": {
     "iopub.execute_input": "2024-03-20T21:35:12.381816Z",
     "iopub.status.busy": "2024-03-20T21:35:12.381270Z",
     "iopub.status.idle": "2024-03-20T21:35:12.384127Z",
     "shell.execute_reply": "2024-03-20T21:35:12.383618Z"
    },
    "papermill": {
     "duration": 0.026569,
     "end_time": "2024-03-20T21:35:12.384904",
     "exception": false,
     "start_time": "2024-03-20T21:35:12.358335",
     "status": "completed"
    },
    "tags": []
   },
   "outputs": [],
   "source": [
    "section_name = \"introduction\""
   ]
  },
  {
   "cell_type": "code",
   "execution_count": 30,
   "id": "802ec3df-6974-42a5-b5a0-9cd621877c5f",
   "metadata": {
    "editable": true,
    "execution": {
     "iopub.execute_input": "2024-03-20T21:35:12.430207Z",
     "iopub.status.busy": "2024-03-20T21:35:12.429820Z",
     "iopub.status.idle": "2024-03-20T21:35:12.432780Z",
     "shell.execute_reply": "2024-03-20T21:35:12.432315Z"
    },
    "papermill": {
     "duration": 0.026301,
     "end_time": "2024-03-20T21:35:12.433448",
     "exception": false,
     "start_time": "2024-03-20T21:35:12.407147",
     "status": "completed"
    },
    "slideshow": {
     "slide_type": ""
    },
    "tags": []
   },
   "outputs": [
    {
     "name": "stdout",
     "output_type": "stream",
     "text": [
      "content/10.introduction.md\n"
     ]
    }
   ],
   "source": [
    "pr_filename = pr_files[1].filename\n",
    "assert section_name in pr_filename\n",
    "print(pr_filename)"
   ]
  },
  {
   "cell_type": "markdown",
   "id": "3cb464ec-e479-47bc-a870-dbab7372c44b",
   "metadata": {
    "editable": true,
    "papermill": {
     "duration": 0.022081,
     "end_time": "2024-03-20T21:35:12.477721",
     "exception": false,
     "start_time": "2024-03-20T21:35:12.455640",
     "status": "completed"
    },
    "slideshow": {
     "slide_type": ""
    },
    "tags": []
   },
   "source": [
    "### Original"
   ]
  },
  {
   "cell_type": "code",
   "execution_count": 31,
   "id": "020b21ef-3aca-4848-8717-ace1083aebf0",
   "metadata": {
    "execution": {
     "iopub.execute_input": "2024-03-20T21:35:12.523241Z",
     "iopub.status.busy": "2024-03-20T21:35:12.522721Z",
     "iopub.status.idle": "2024-03-20T21:35:12.717883Z",
     "shell.execute_reply": "2024-03-20T21:35:12.717388Z"
    },
    "papermill": {
     "duration": 0.218653,
     "end_time": "2024-03-20T21:35:12.718595",
     "exception": false,
     "start_time": "2024-03-20T21:35:12.499942",
     "status": "completed"
    },
    "tags": []
   },
   "outputs": [
    {
     "name": "stdout",
     "output_type": "stream",
     "text": [
      "## Introduction\n",
      "\n",
      "Despite technological advances, u\n"
     ]
    }
   ],
   "source": [
    "# get content\n",
    "orig_section_content = repo.get_contents(pr_filename, pr_prev).decoded_content.decode(\n",
    "    \"utf-8\"\n",
    ")\n",
    "print(orig_section_content[:50])"
   ]
  },
  {
   "cell_type": "code",
   "execution_count": 32,
   "id": "e1612d62-3f65-43e6-b6cb-4b5538931161",
   "metadata": {
    "execution": {
     "iopub.execute_input": "2024-03-20T21:35:12.763266Z",
     "iopub.status.busy": "2024-03-20T21:35:12.763067Z",
     "iopub.status.idle": "2024-03-20T21:35:12.766960Z",
     "shell.execute_reply": "2024-03-20T21:35:12.766477Z"
    },
    "papermill": {
     "duration": 0.027269,
     "end_time": "2024-03-20T21:35:12.767686",
     "exception": false,
     "start_time": "2024-03-20T21:35:12.740417",
     "status": "completed"
    },
    "tags": []
   },
   "outputs": [
    {
     "data": {
      "text/plain": [
       "5"
      ]
     },
     "metadata": {},
     "output_type": "display_data"
    }
   ],
   "source": [
    "# split by paragraph\n",
    "orig_section_paragraphs = orig_section_content.split(\"\\n\\n\")\n",
    "display(len(orig_section_paragraphs))"
   ]
  },
  {
   "cell_type": "markdown",
   "id": "ee13fe8d-f094-4da4-b2dc-245f595ab964",
   "metadata": {
    "editable": true,
    "papermill": {
     "duration": 0.022337,
     "end_time": "2024-03-20T21:35:12.812122",
     "exception": false,
     "start_time": "2024-03-20T21:35:12.789785",
     "status": "completed"
    },
    "slideshow": {
     "slide_type": ""
    },
    "tags": []
   },
   "source": [
    "### Modified"
   ]
  },
  {
   "cell_type": "code",
   "execution_count": 33,
   "id": "61d1c4b1-c798-433e-9dc4-18313701a1d0",
   "metadata": {
    "execution": {
     "iopub.execute_input": "2024-03-20T21:35:12.857330Z",
     "iopub.status.busy": "2024-03-20T21:35:12.857155Z",
     "iopub.status.idle": "2024-03-20T21:35:13.168271Z",
     "shell.execute_reply": "2024-03-20T21:35:13.167662Z"
    },
    "papermill": {
     "duration": 0.334557,
     "end_time": "2024-03-20T21:35:13.169038",
     "exception": false,
     "start_time": "2024-03-20T21:35:12.834481",
     "status": "completed"
    },
    "tags": []
   },
   "outputs": [
    {
     "name": "stdout",
     "output_type": "stream",
     "text": [
      "## Introduction\n",
      "\n",
      "Despite technological advances, u\n"
     ]
    }
   ],
   "source": [
    "# get content\n",
    "mod_section_content = repo.get_contents(pr_filename, pr_curr).decoded_content.decode(\n",
    "    \"utf-8\"\n",
    ")\n",
    "print(mod_section_content[:50])"
   ]
  },
  {
   "cell_type": "code",
   "execution_count": 34,
   "id": "edf81c3c-1213-4752-8768-c3158025192d",
   "metadata": {
    "execution": {
     "iopub.execute_input": "2024-03-20T21:35:13.213582Z",
     "iopub.status.busy": "2024-03-20T21:35:13.213424Z",
     "iopub.status.idle": "2024-03-20T21:35:13.216796Z",
     "shell.execute_reply": "2024-03-20T21:35:13.216341Z"
    },
    "papermill": {
     "duration": 0.026612,
     "end_time": "2024-03-20T21:35:13.217538",
     "exception": false,
     "start_time": "2024-03-20T21:35:13.190926",
     "status": "completed"
    },
    "tags": []
   },
   "outputs": [
    {
     "data": {
      "text/plain": [
       "7"
      ]
     },
     "metadata": {},
     "output_type": "display_data"
    }
   ],
   "source": [
    "# split by paragraph\n",
    "mod_section_paragraphs = mod_section_content.split(\"\\n\\n\")\n",
    "display(len(mod_section_paragraphs))"
   ]
  },
  {
   "cell_type": "markdown",
   "id": "1e4efe27-e73d-4cbe-953f-203bac59f5dc",
   "metadata": {
    "editable": true,
    "papermill": {
     "duration": 0.022217,
     "end_time": "2024-03-20T21:35:13.261911",
     "exception": false,
     "start_time": "2024-03-20T21:35:13.239694",
     "status": "completed"
    },
    "slideshow": {
     "slide_type": ""
    },
    "tags": []
   },
   "source": [
    "### Match"
   ]
  },
  {
   "cell_type": "code",
   "execution_count": 35,
   "id": "a80dd51e-9ffb-43e8-9389-d5ed1a28fee0",
   "metadata": {
    "execution": {
     "iopub.execute_input": "2024-03-20T21:35:13.307567Z",
     "iopub.status.busy": "2024-03-20T21:35:13.307404Z",
     "iopub.status.idle": "2024-03-20T21:35:13.310476Z",
     "shell.execute_reply": "2024-03-20T21:35:13.310092Z"
    },
    "papermill": {
     "duration": 0.026639,
     "end_time": "2024-03-20T21:35:13.311126",
     "exception": false,
     "start_time": "2024-03-20T21:35:13.284487",
     "status": "completed"
    },
    "tags": []
   },
   "outputs": [
    {
     "data": {
      "text/plain": [
       "'## Introduction'"
      ]
     },
     "execution_count": 35,
     "metadata": {},
     "output_type": "execute_result"
    }
   ],
   "source": [
    "orig_section_paragraphs[0]"
   ]
  },
  {
   "cell_type": "code",
   "execution_count": 36,
   "id": "0c34cdc7-b226-45d2-8e8b-e375ef9e3d6a",
   "metadata": {
    "execution": {
     "iopub.execute_input": "2024-03-20T21:35:13.356187Z",
     "iopub.status.busy": "2024-03-20T21:35:13.356068Z",
     "iopub.status.idle": "2024-03-20T21:35:13.359035Z",
     "shell.execute_reply": "2024-03-20T21:35:13.358656Z"
    },
    "papermill": {
     "duration": 0.026211,
     "end_time": "2024-03-20T21:35:13.359620",
     "exception": false,
     "start_time": "2024-03-20T21:35:13.333409",
     "status": "completed"
    },
    "tags": []
   },
   "outputs": [
    {
     "data": {
      "text/plain": [
       "'## Introduction'"
      ]
     },
     "execution_count": 36,
     "metadata": {},
     "output_type": "execute_result"
    }
   ],
   "source": [
    "mod_section_paragraphs[0]"
   ]
  },
  {
   "cell_type": "markdown",
   "id": "7baf3486-f6d9-42a0-b67a-15eb7b378bad",
   "metadata": {
    "editable": true,
    "papermill": {
     "duration": 0.022348,
     "end_time": "2024-03-20T21:35:13.404360",
     "exception": false,
     "start_time": "2024-03-20T21:35:13.382012",
     "status": "completed"
    },
    "slideshow": {
     "slide_type": ""
    },
    "tags": []
   },
   "source": [
    "####  Paragraph 00"
   ]
  },
  {
   "cell_type": "code",
   "execution_count": 37,
   "id": "ac1650e5-8298-412d-8a15-bd040748024e",
   "metadata": {
    "execution": {
     "iopub.execute_input": "2024-03-20T21:35:13.450207Z",
     "iopub.status.busy": "2024-03-20T21:35:13.450013Z",
     "iopub.status.idle": "2024-03-20T21:35:13.453221Z",
     "shell.execute_reply": "2024-03-20T21:35:13.452689Z"
    },
    "papermill": {
     "duration": 0.027064,
     "end_time": "2024-03-20T21:35:13.453920",
     "exception": false,
     "start_time": "2024-03-20T21:35:13.426856",
     "status": "completed"
    },
    "tags": []
   },
   "outputs": [
    {
     "name": "stdout",
     "output_type": "stream",
     "text": [
      "Despite technological advances, understanding biological and biomedical systems still poses major challenges [@gallagher-infinite;@dl-bioscience]. We measure more and more data points with ever-increasing resolution to such a degree that their analysis and interpretation have become the bottleneck for their exploitation [@dl-bioscience]. One reason for this challenge may be the inherent limitation of human knowledge [@doi:10.1016/j.tics.2005.04.010]: Even seasoned domain experts cannot know the implications of every gene, molecule, symptom, or biomarker. In addition, biological events are context-dependent, for instance with respect to a cell type or specific disease.\n"
     ]
    }
   ],
   "source": [
    "par0 = process_paragraph(orig_section_paragraphs[1])\n",
    "print(par0)"
   ]
  },
  {
   "cell_type": "code",
   "execution_count": 38,
   "id": "d5a26113-dc29-44d2-9458-6e5d8461accb",
   "metadata": {
    "execution": {
     "iopub.execute_input": "2024-03-20T21:35:13.499743Z",
     "iopub.status.busy": "2024-03-20T21:35:13.499315Z",
     "iopub.status.idle": "2024-03-20T21:35:13.502441Z",
     "shell.execute_reply": "2024-03-20T21:35:13.501917Z"
    },
    "papermill": {
     "duration": 0.026817,
     "end_time": "2024-03-20T21:35:13.503177",
     "exception": false,
     "start_time": "2024-03-20T21:35:13.476360",
     "status": "completed"
    },
    "tags": []
   },
   "outputs": [
    {
     "name": "stdout",
     "output_type": "stream",
     "text": [
      "Despite technological advances, understanding biological and biomedical systems continues to present significant challenges (Gallagher et al., 2020; DL Bioscience, 2019). The volume of data generated is increasing exponentially, leading to a bottleneck in the analysis and interpretation of this data (DL Bioscience, 2019). One possible explanation for this challenge is the inherent limitation of human knowledge (Smith, 2005). Even experts in the field may not fully comprehend the implications of every gene, molecule, symptom, or biomarker. Moreover, biological processes are influenced by various contextual factors, such as cell type or specific disease conditions.\n"
     ]
    }
   ],
   "source": [
    "par1 = process_paragraph(mod_section_paragraphs[1])\n",
    "print(par1)"
   ]
  },
  {
   "cell_type": "code",
   "execution_count": 39,
   "id": "5d1ae43c-6bc3-4cf8-98e6-5d0191843855",
   "metadata": {
    "execution": {
     "iopub.execute_input": "2024-03-20T21:35:13.548601Z",
     "iopub.status.busy": "2024-03-20T21:35:13.548484Z",
     "iopub.status.idle": "2024-03-20T21:35:13.550617Z",
     "shell.execute_reply": "2024-03-20T21:35:13.550248Z"
    },
    "papermill": {
     "duration": 0.025471,
     "end_time": "2024-03-20T21:35:13.551200",
     "exception": false,
     "start_time": "2024-03-20T21:35:13.525729",
     "status": "completed"
    },
    "tags": []
   },
   "outputs": [],
   "source": [
    "paragraph_matches.append(\n",
    "    (\n",
    "        section_name,\n",
    "        par0,\n",
    "        par1,\n",
    "    )\n",
    ")"
   ]
  },
  {
   "cell_type": "code",
   "execution_count": 40,
   "id": "45f4c986-54f6-406a-860a-9dc2caa9f3bc",
   "metadata": {
    "execution": {
     "iopub.execute_input": "2024-03-20T21:35:13.596701Z",
     "iopub.status.busy": "2024-03-20T21:35:13.596584Z",
     "iopub.status.idle": "2024-03-20T21:35:13.599380Z",
     "shell.execute_reply": "2024-03-20T21:35:13.599015Z"
    },
    "papermill": {
     "duration": 0.026324,
     "end_time": "2024-03-20T21:35:13.599971",
     "exception": false,
     "start_time": "2024-03-20T21:35:13.573647",
     "status": "completed"
    },
    "tags": []
   },
   "outputs": [
    {
     "data": {
      "text/plain": [
       "('introduction',\n",
       " 'Despite technological advances, understanding biological and biomedical systems still poses major challenges [@gallagher-infinite;@dl-bioscience]. We measure more and more data points with ever-increasing resolution to such a degree that their analysis and interpretation have become the bottleneck for their exploitation [@dl-bioscience]. One reason for this challenge may be the inherent limitation of human knowledge [@doi:10.1016/j.tics.2005.04.010]: Even seasoned domain experts cannot know the implications of every gene, molecule, symptom, or biomarker. In addition, biological events are context-dependent, for instance with respect to a cell type or specific disease.',\n",
       " 'Despite technological advances, understanding biological and biomedical systems continues to present significant challenges (Gallagher et al., 2020; DL Bioscience, 2019). The volume of data generated is increasing exponentially, leading to a bottleneck in the analysis and interpretation of this data (DL Bioscience, 2019). One possible explanation for this challenge is the inherent limitation of human knowledge (Smith, 2005). Even experts in the field may not fully comprehend the implications of every gene, molecule, symptom, or biomarker. Moreover, biological processes are influenced by various contextual factors, such as cell type or specific disease conditions.')"
      ]
     },
     "metadata": {},
     "output_type": "display_data"
    }
   ],
   "source": [
    "display(paragraph_matches[-1])"
   ]
  },
  {
   "cell_type": "markdown",
   "id": "02e1dbd3-437b-457e-b155-ceb7a0aaa0d9",
   "metadata": {
    "editable": true,
    "papermill": {
     "duration": 0.022541,
     "end_time": "2024-03-20T21:35:13.645100",
     "exception": false,
     "start_time": "2024-03-20T21:35:13.622559",
     "status": "completed"
    },
    "slideshow": {
     "slide_type": ""
    },
    "tags": []
   },
   "source": [
    "####  Paragraph 01"
   ]
  },
  {
   "cell_type": "code",
   "execution_count": 41,
   "id": "7420293a-1901-46ca-a795-bc479bee48a6",
   "metadata": {
    "execution": {
     "iopub.execute_input": "2024-03-20T21:35:13.690852Z",
     "iopub.status.busy": "2024-03-20T21:35:13.690700Z",
     "iopub.status.idle": "2024-03-20T21:35:13.693723Z",
     "shell.execute_reply": "2024-03-20T21:35:13.693272Z"
    },
    "papermill": {
     "duration": 0.026748,
     "end_time": "2024-03-20T21:35:13.694418",
     "exception": false,
     "start_time": "2024-03-20T21:35:13.667670",
     "status": "completed"
    },
    "tags": []
   },
   "outputs": [
    {
     "name": "stdout",
     "output_type": "stream",
     "text": [
      "Large Language Models (LLMs) of the current generation, in contrast, can access enormous amounts of knowledge, encoded (incomprehensibly) in their billions of parameters [@doi:10.48550/arxiv.2204.02311;@doi:10.48550/arxiv.2201.08239;@doi:10.48550/arxiv.2303.08774;@doi:10.1609/aaai.v36i11.21488]. Trained correctly, they can recall and combine virtually limitless knowledge from their training set. LLMs have taken the world by storm, and many biomedical researchers already use them in their daily work, for general as well as research tasks [@doi:10.1038/s41586-023-06792-0;@doi:10.1101/2023.04.16.537094;@doi:10.1038/s41587-023-01789-6]. However, the current way of interacting with LLMs is predominantly manual, virtually non-reproducible, and their behaviour can be erratic. For instance, they are known to confabulate: they make up facts as they go along, and, to make matters worse, are convinced — and convincing — regarding the truth of their confabulations [@doi:10.1038/s41586-023-05881-4;@doi:10.1038/s41587-023-01789-6]. Current efforts towards Artificial General Intelligence have made some progress in addressing these issues by ensembling multiple models [@{https://python.langchain.com}] with long-term memory stores [@{https://autogpt.net/}]. However, current AI systems have not yet earned sufficient trust for use in biomedical fields [@doi:10.1038/s41586-023-05881-4]. These areas demand greater care in data privacy, licensing, and transparency than many other issues and cannot be approached without oversight [@doi:10.48550/arXiv.2401.05654].\n"
     ]
    }
   ],
   "source": [
    "par0 = process_paragraph(orig_section_paragraphs[2])\n",
    "print(par0)"
   ]
  },
  {
   "cell_type": "code",
   "execution_count": 42,
   "id": "adf7d64e-404e-46ca-a5f2-15a55dfde1e1",
   "metadata": {
    "execution": {
     "iopub.execute_input": "2024-03-20T21:35:13.740942Z",
     "iopub.status.busy": "2024-03-20T21:35:13.740653Z",
     "iopub.status.idle": "2024-03-20T21:35:13.743487Z",
     "shell.execute_reply": "2024-03-20T21:35:13.743063Z"
    },
    "papermill": {
     "duration": 0.026752,
     "end_time": "2024-03-20T21:35:13.744129",
     "exception": false,
     "start_time": "2024-03-20T21:35:13.717377",
     "status": "completed"
    },
    "tags": []
   },
   "outputs": [
    {
     "name": "stdout",
     "output_type": "stream",
     "text": [
      "The latest generation of Large Language Models (LLMs) have the capability to access vast amounts of knowledge stored within their billions of parameters (Smith et al., 2022; Jones et al., 2022; Brown et al., 2023; Lee et al., 2024). When trained effectively, these models can recall and integrate an extensive range of information from their training data. LLMs have gained significant popularity, with many researchers in the biomedical field incorporating them into their daily work for various tasks (Johnson et al., 2023; White et al., 2023; Black et al., 2023). Despite their widespread use, the current methods of interacting with LLMs are primarily manual, lacking reproducibility, and often exhibiting unpredictable behavior. One common issue is the tendency of these models to confabulate, generating false information and presenting it as accurate (White et al., 2023; Black et al., 2023). Efforts towards Artificial General Intelligence have shown progress in mitigating these challenges by combining multiple models with long-term memory capabilities (LangChain, n.d.; AutoGPT, n.d.). However, the trustworthiness of current AI systems for biomedical applications remains a concern (White et al., 2023). The unique demands of biomedical fields, such as data privacy, licensing, and transparency, require careful consideration and oversight (Smith et al., 2024). These critical issues must be addressed before widespread adoption of AI systems in the biomedical domain can be achieved.\n"
     ]
    }
   ],
   "source": [
    "# par1 = \" \".join(mod_section_paragraphs[2:5]).strip()\n",
    "par1 = process_paragraph(mod_section_paragraphs[2:5])\n",
    "print(par1)"
   ]
  },
  {
   "cell_type": "code",
   "execution_count": 43,
   "id": "59eb3aa3-5550-4ff5-b9cf-b2572c9e3320",
   "metadata": {
    "execution": {
     "iopub.execute_input": "2024-03-20T21:35:13.790120Z",
     "iopub.status.busy": "2024-03-20T21:35:13.790018Z",
     "iopub.status.idle": "2024-03-20T21:35:13.792154Z",
     "shell.execute_reply": "2024-03-20T21:35:13.791765Z"
    },
    "papermill": {
     "duration": 0.025904,
     "end_time": "2024-03-20T21:35:13.792815",
     "exception": false,
     "start_time": "2024-03-20T21:35:13.766911",
     "status": "completed"
    },
    "tags": []
   },
   "outputs": [],
   "source": [
    "paragraph_matches.append(\n",
    "    (\n",
    "        section_name,\n",
    "        par0,\n",
    "        par1,\n",
    "    )\n",
    ")"
   ]
  },
  {
   "cell_type": "code",
   "execution_count": 44,
   "id": "7a916bff-4b07-45f5-842f-eaec9bb0d42e",
   "metadata": {
    "execution": {
     "iopub.execute_input": "2024-03-20T21:35:13.838589Z",
     "iopub.status.busy": "2024-03-20T21:35:13.838471Z",
     "iopub.status.idle": "2024-03-20T21:35:13.841234Z",
     "shell.execute_reply": "2024-03-20T21:35:13.840869Z"
    },
    "papermill": {
     "duration": 0.026312,
     "end_time": "2024-03-20T21:35:13.841829",
     "exception": false,
     "start_time": "2024-03-20T21:35:13.815517",
     "status": "completed"
    },
    "tags": []
   },
   "outputs": [
    {
     "data": {
      "text/plain": [
       "('introduction',\n",
       " 'Large Language Models (LLMs) of the current generation, in contrast, can access enormous amounts of knowledge, encoded (incomprehensibly) in their billions of parameters [@doi:10.48550/arxiv.2204.02311;@doi:10.48550/arxiv.2201.08239;@doi:10.48550/arxiv.2303.08774;@doi:10.1609/aaai.v36i11.21488]. Trained correctly, they can recall and combine virtually limitless knowledge from their training set. LLMs have taken the world by storm, and many biomedical researchers already use them in their daily work, for general as well as research tasks [@doi:10.1038/s41586-023-06792-0;@doi:10.1101/2023.04.16.537094;@doi:10.1038/s41587-023-01789-6]. However, the current way of interacting with LLMs is predominantly manual, virtually non-reproducible, and their behaviour can be erratic. For instance, they are known to confabulate: they make up facts as they go along, and, to make matters worse, are convinced — and convincing — regarding the truth of their confabulations [@doi:10.1038/s41586-023-05881-4;@doi:10.1038/s41587-023-01789-6]. Current efforts towards Artificial General Intelligence have made some progress in addressing these issues by ensembling multiple models [@{https://python.langchain.com}] with long-term memory stores [@{https://autogpt.net/}]. However, current AI systems have not yet earned sufficient trust for use in biomedical fields [@doi:10.1038/s41586-023-05881-4]. These areas demand greater care in data privacy, licensing, and transparency than many other issues and cannot be approached without oversight [@doi:10.48550/arXiv.2401.05654].',\n",
       " 'The latest generation of Large Language Models (LLMs) have the capability to access vast amounts of knowledge stored within their billions of parameters (Smith et al., 2022; Jones et al., 2022; Brown et al., 2023; Lee et al., 2024). When trained effectively, these models can recall and integrate an extensive range of information from their training data. LLMs have gained significant popularity, with many researchers in the biomedical field incorporating them into their daily work for various tasks (Johnson et al., 2023; White et al., 2023; Black et al., 2023). Despite their widespread use, the current methods of interacting with LLMs are primarily manual, lacking reproducibility, and often exhibiting unpredictable behavior. One common issue is the tendency of these models to confabulate, generating false information and presenting it as accurate (White et al., 2023; Black et al., 2023). Efforts towards Artificial General Intelligence have shown progress in mitigating these challenges by combining multiple models with long-term memory capabilities (LangChain, n.d.; AutoGPT, n.d.). However, the trustworthiness of current AI systems for biomedical applications remains a concern (White et al., 2023). The unique demands of biomedical fields, such as data privacy, licensing, and transparency, require careful consideration and oversight (Smith et al., 2024). These critical issues must be addressed before widespread adoption of AI systems in the biomedical domain can be achieved.')"
      ]
     },
     "metadata": {},
     "output_type": "display_data"
    }
   ],
   "source": [
    "display(paragraph_matches[-1])"
   ]
  },
  {
   "cell_type": "markdown",
   "id": "4c1b1437-9b3b-4c56-8708-f54b7a611ee4",
   "metadata": {
    "editable": true,
    "papermill": {
     "duration": 0.022756,
     "end_time": "2024-03-20T21:35:13.887438",
     "exception": false,
     "start_time": "2024-03-20T21:35:13.864682",
     "status": "completed"
    },
    "slideshow": {
     "slide_type": ""
    },
    "tags": []
   },
   "source": [
    "####  Paragraph 02"
   ]
  },
  {
   "cell_type": "code",
   "execution_count": 45,
   "id": "ecb5a5c1-95cf-4c13-82fb-a188170553ff",
   "metadata": {
    "execution": {
     "iopub.execute_input": "2024-03-20T21:35:13.933846Z",
     "iopub.status.busy": "2024-03-20T21:35:13.933743Z",
     "iopub.status.idle": "2024-03-20T21:35:13.936158Z",
     "shell.execute_reply": "2024-03-20T21:35:13.935769Z"
    },
    "papermill": {
     "duration": 0.026341,
     "end_time": "2024-03-20T21:35:13.936825",
     "exception": false,
     "start_time": "2024-03-20T21:35:13.910484",
     "status": "completed"
    },
    "tags": []
   },
   "outputs": [
    {
     "name": "stdout",
     "output_type": "stream",
     "text": [
      "Computational biomedicine involves many tasks that could be assisted by LLMs, such as experimental design, outcome interpretation, literature evaluation, and web resource exploration. To improve and accelerate these tasks, we have developed BioChatter, a platform optimised for communicating with LLMs in biomedical research (Figure @fig:overview). The platform guides the human researcher intuitively through the interaction with the model, while counteracting the problematic behaviours of the LLM. Since the interaction is mainly based on plain text (in any language), it can be used by virtually any researcher.\n"
     ]
    }
   ],
   "source": [
    "par0 = process_paragraph(orig_section_paragraphs[3])\n",
    "print(par0)"
   ]
  },
  {
   "cell_type": "code",
   "execution_count": 46,
   "id": "afb6133d-c94c-44bc-aa0c-6a568ec955aa",
   "metadata": {
    "execution": {
     "iopub.execute_input": "2024-03-20T21:35:13.983118Z",
     "iopub.status.busy": "2024-03-20T21:35:13.983003Z",
     "iopub.status.idle": "2024-03-20T21:35:13.985556Z",
     "shell.execute_reply": "2024-03-20T21:35:13.985177Z"
    },
    "papermill": {
     "duration": 0.026418,
     "end_time": "2024-03-20T21:35:13.986160",
     "exception": false,
     "start_time": "2024-03-20T21:35:13.959742",
     "status": "completed"
    },
    "tags": []
   },
   "outputs": [
    {
     "name": "stdout",
     "output_type": "stream",
     "text": [
      "Computational biomedicine encompasses various tasks that could benefit from the use of Large Language Models (LLMs), including experimental design, outcome interpretation, literature evaluation, and web resource exploration. In order to enhance and expedite these tasks, we have created BioChatter, a platform designed for interacting with LLMs in biomedical research (see Figure 1). This platform facilitates seamless communication between human researchers and the model, while mitigating any potential issues with the LLM's behavior. Because the interaction primarily involves plain text (in any language), it is accessible to researchers across different fields.\n"
     ]
    }
   ],
   "source": [
    "# par1 = \" \".join(mod_section_paragraphs[2:5]).strip()\n",
    "par1 = process_paragraph(mod_section_paragraphs[5:6])\n",
    "print(par1)"
   ]
  },
  {
   "cell_type": "code",
   "execution_count": 47,
   "id": "842d5352-043a-493d-9de5-d2dde6b87393",
   "metadata": {
    "execution": {
     "iopub.execute_input": "2024-03-20T21:35:14.032870Z",
     "iopub.status.busy": "2024-03-20T21:35:14.032710Z",
     "iopub.status.idle": "2024-03-20T21:35:14.035243Z",
     "shell.execute_reply": "2024-03-20T21:35:14.034811Z"
    },
    "papermill": {
     "duration": 0.026686,
     "end_time": "2024-03-20T21:35:14.035866",
     "exception": false,
     "start_time": "2024-03-20T21:35:14.009180",
     "status": "completed"
    },
    "tags": []
   },
   "outputs": [],
   "source": [
    "paragraph_matches.append(\n",
    "    (\n",
    "        section_name,\n",
    "        par0,\n",
    "        par1,\n",
    "    )\n",
    ")"
   ]
  },
  {
   "cell_type": "code",
   "execution_count": 48,
   "id": "849bc6ba-7335-4353-be29-550eae813436",
   "metadata": {
    "execution": {
     "iopub.execute_input": "2024-03-20T21:35:14.082358Z",
     "iopub.status.busy": "2024-03-20T21:35:14.082243Z",
     "iopub.status.idle": "2024-03-20T21:35:14.085237Z",
     "shell.execute_reply": "2024-03-20T21:35:14.084858Z"
    },
    "papermill": {
     "duration": 0.026948,
     "end_time": "2024-03-20T21:35:14.085836",
     "exception": false,
     "start_time": "2024-03-20T21:35:14.058888",
     "status": "completed"
    },
    "tags": []
   },
   "outputs": [
    {
     "data": {
      "text/plain": [
       "('introduction',\n",
       " 'Computational biomedicine involves many tasks that could be assisted by LLMs, such as experimental design, outcome interpretation, literature evaluation, and web resource exploration. To improve and accelerate these tasks, we have developed BioChatter, a platform optimised for communicating with LLMs in biomedical research (Figure @fig:overview). The platform guides the human researcher intuitively through the interaction with the model, while counteracting the problematic behaviours of the LLM. Since the interaction is mainly based on plain text (in any language), it can be used by virtually any researcher.',\n",
       " \"Computational biomedicine encompasses various tasks that could benefit from the use of Large Language Models (LLMs), including experimental design, outcome interpretation, literature evaluation, and web resource exploration. In order to enhance and expedite these tasks, we have created BioChatter, a platform designed for interacting with LLMs in biomedical research (see Figure 1). This platform facilitates seamless communication between human researchers and the model, while mitigating any potential issues with the LLM's behavior. Because the interaction primarily involves plain text (in any language), it is accessible to researchers across different fields.\")"
      ]
     },
     "metadata": {},
     "output_type": "display_data"
    }
   ],
   "source": [
    "display(paragraph_matches[-1])"
   ]
  },
  {
   "cell_type": "markdown",
   "id": "aabf3637-bb5a-458d-89b3-33cea18c529e",
   "metadata": {
    "editable": true,
    "papermill": {
     "duration": 0.023012,
     "end_time": "2024-03-20T21:35:14.131877",
     "exception": false,
     "start_time": "2024-03-20T21:35:14.108865",
     "status": "completed"
    },
    "slideshow": {
     "slide_type": ""
    },
    "tags": []
   },
   "source": [
    "## Results"
   ]
  },
  {
   "cell_type": "code",
   "execution_count": 49,
   "id": "eb1352b5-0d25-41d0-8f6d-245f7748e99e",
   "metadata": {
    "execution": {
     "iopub.execute_input": "2024-03-20T21:35:14.178507Z",
     "iopub.status.busy": "2024-03-20T21:35:14.178391Z",
     "iopub.status.idle": "2024-03-20T21:35:14.180501Z",
     "shell.execute_reply": "2024-03-20T21:35:14.180105Z"
    },
    "papermill": {
     "duration": 0.026147,
     "end_time": "2024-03-20T21:35:14.181101",
     "exception": false,
     "start_time": "2024-03-20T21:35:14.154954",
     "status": "completed"
    },
    "tags": []
   },
   "outputs": [],
   "source": [
    "section_name = \"results\""
   ]
  },
  {
   "cell_type": "code",
   "execution_count": 50,
   "id": "e0d44354-4c59-486e-a3a4-06dea873e86d",
   "metadata": {
    "editable": true,
    "execution": {
     "iopub.execute_input": "2024-03-20T21:35:14.227693Z",
     "iopub.status.busy": "2024-03-20T21:35:14.227592Z",
     "iopub.status.idle": "2024-03-20T21:35:14.230247Z",
     "shell.execute_reply": "2024-03-20T21:35:14.229720Z"
    },
    "papermill": {
     "duration": 0.026937,
     "end_time": "2024-03-20T21:35:14.231009",
     "exception": false,
     "start_time": "2024-03-20T21:35:14.204072",
     "status": "completed"
    },
    "slideshow": {
     "slide_type": ""
    },
    "tags": []
   },
   "outputs": [
    {
     "name": "stdout",
     "output_type": "stream",
     "text": [
      "content/20.results.md\n"
     ]
    }
   ],
   "source": [
    "pr_filename = pr_files[2].filename\n",
    "assert section_name in pr_filename\n",
    "print(pr_filename)"
   ]
  },
  {
   "cell_type": "markdown",
   "id": "e5ba4512-f199-419b-a5ed-bd0da25ca19a",
   "metadata": {
    "editable": true,
    "papermill": {
     "duration": 0.023153,
     "end_time": "2024-03-20T21:35:14.277357",
     "exception": false,
     "start_time": "2024-03-20T21:35:14.254204",
     "status": "completed"
    },
    "slideshow": {
     "slide_type": ""
    },
    "tags": []
   },
   "source": [
    "### Original"
   ]
  },
  {
   "cell_type": "code",
   "execution_count": 51,
   "id": "104a83ac-3b10-43b2-b526-790f2ce0316c",
   "metadata": {
    "execution": {
     "iopub.execute_input": "2024-03-20T21:35:14.324661Z",
     "iopub.status.busy": "2024-03-20T21:35:14.324434Z",
     "iopub.status.idle": "2024-03-20T21:35:14.507758Z",
     "shell.execute_reply": "2024-03-20T21:35:14.507226Z"
    },
    "papermill": {
     "duration": 0.208012,
     "end_time": "2024-03-20T21:35:14.508739",
     "exception": false,
     "start_time": "2024-03-20T21:35:14.300727",
     "status": "completed"
    },
    "tags": []
   },
   "outputs": [
    {
     "name": "stdout",
     "output_type": "stream",
     "text": [
      "## Results\n",
      "\n",
      "BioChatter ([https://github.com/biocyp\n"
     ]
    }
   ],
   "source": [
    "# get content\n",
    "orig_section_content = repo.get_contents(pr_filename, pr_prev).decoded_content.decode(\n",
    "    \"utf-8\"\n",
    ")\n",
    "print(orig_section_content[:50])"
   ]
  },
  {
   "cell_type": "code",
   "execution_count": 52,
   "id": "24ce0aba-906d-4235-a67b-99d1fa4b5912",
   "metadata": {
    "execution": {
     "iopub.execute_input": "2024-03-20T21:35:14.578001Z",
     "iopub.status.busy": "2024-03-20T21:35:14.577803Z",
     "iopub.status.idle": "2024-03-20T21:35:14.581551Z",
     "shell.execute_reply": "2024-03-20T21:35:14.581060Z"
    },
    "papermill": {
     "duration": 0.039416,
     "end_time": "2024-03-20T21:35:14.582427",
     "exception": false,
     "start_time": "2024-03-20T21:35:14.543011",
     "status": "completed"
    },
    "tags": []
   },
   "outputs": [
    {
     "data": {
      "text/plain": [
       "28"
      ]
     },
     "metadata": {},
     "output_type": "display_data"
    }
   ],
   "source": [
    "# split by paragraph\n",
    "orig_section_paragraphs = orig_section_content.split(\"\\n\\n\")\n",
    "display(len(orig_section_paragraphs))"
   ]
  },
  {
   "cell_type": "markdown",
   "id": "ebd7a57f-8ca5-4357-8914-6c0e8e16d46b",
   "metadata": {
    "editable": true,
    "papermill": {
     "duration": 0.022979,
     "end_time": "2024-03-20T21:35:14.634392",
     "exception": false,
     "start_time": "2024-03-20T21:35:14.611413",
     "status": "completed"
    },
    "slideshow": {
     "slide_type": ""
    },
    "tags": []
   },
   "source": [
    "### Modified"
   ]
  },
  {
   "cell_type": "code",
   "execution_count": 53,
   "id": "7624af03-9c23-4625-9c6c-a5e9082bcf6a",
   "metadata": {
    "execution": {
     "iopub.execute_input": "2024-03-20T21:35:14.681430Z",
     "iopub.status.busy": "2024-03-20T21:35:14.681223Z",
     "iopub.status.idle": "2024-03-20T21:35:14.915348Z",
     "shell.execute_reply": "2024-03-20T21:35:14.914852Z"
    },
    "papermill": {
     "duration": 0.258786,
     "end_time": "2024-03-20T21:35:14.916319",
     "exception": false,
     "start_time": "2024-03-20T21:35:14.657533",
     "status": "completed"
    },
    "tags": []
   },
   "outputs": [
    {
     "name": "stdout",
     "output_type": "stream",
     "text": [
      "## Results\n",
      "\n",
      "BioChatter ([https://github.com/biocyp\n"
     ]
    }
   ],
   "source": [
    "# get content\n",
    "mod_section_content = repo.get_contents(pr_filename, pr_curr).decoded_content.decode(\n",
    "    \"utf-8\"\n",
    ")\n",
    "print(mod_section_content[:50])"
   ]
  },
  {
   "cell_type": "code",
   "execution_count": 54,
   "id": "e1fd8b08-aafa-4b43-aa6e-e799761fda94",
   "metadata": {
    "execution": {
     "iopub.execute_input": "2024-03-20T21:35:14.987349Z",
     "iopub.status.busy": "2024-03-20T21:35:14.986946Z",
     "iopub.status.idle": "2024-03-20T21:35:14.990167Z",
     "shell.execute_reply": "2024-03-20T21:35:14.989768Z"
    },
    "papermill": {
     "duration": 0.039656,
     "end_time": "2024-03-20T21:35:14.991047",
     "exception": false,
     "start_time": "2024-03-20T21:35:14.951391",
     "status": "completed"
    },
    "tags": []
   },
   "outputs": [
    {
     "data": {
      "text/plain": [
       "21"
      ]
     },
     "metadata": {},
     "output_type": "display_data"
    }
   ],
   "source": [
    "# split by paragraph\n",
    "mod_section_paragraphs = mod_section_content.split(\"\\n\\n\")\n",
    "display(len(mod_section_paragraphs))"
   ]
  },
  {
   "cell_type": "markdown",
   "id": "b20bc347-6c37-4089-9a38-654b3e9028bd",
   "metadata": {
    "editable": true,
    "papermill": {
     "duration": 0.023577,
     "end_time": "2024-03-20T21:35:15.043430",
     "exception": false,
     "start_time": "2024-03-20T21:35:15.019853",
     "status": "completed"
    },
    "slideshow": {
     "slide_type": ""
    },
    "tags": []
   },
   "source": [
    "### Match"
   ]
  },
  {
   "cell_type": "code",
   "execution_count": 55,
   "id": "7be2fbbd-e933-44c9-9afc-71c4bb56f6f5",
   "metadata": {
    "execution": {
     "iopub.execute_input": "2024-03-20T21:35:15.093259Z",
     "iopub.status.busy": "2024-03-20T21:35:15.093059Z",
     "iopub.status.idle": "2024-03-20T21:35:15.096128Z",
     "shell.execute_reply": "2024-03-20T21:35:15.095752Z"
    },
    "papermill": {
     "duration": 0.028045,
     "end_time": "2024-03-20T21:35:15.096738",
     "exception": false,
     "start_time": "2024-03-20T21:35:15.068693",
     "status": "completed"
    },
    "tags": []
   },
   "outputs": [
    {
     "data": {
      "text/plain": [
       "'## Results'"
      ]
     },
     "execution_count": 55,
     "metadata": {},
     "output_type": "execute_result"
    }
   ],
   "source": [
    "orig_section_paragraphs[0]"
   ]
  },
  {
   "cell_type": "code",
   "execution_count": 56,
   "id": "2ab3053f-f932-4fd2-a06f-2219fef997dc",
   "metadata": {
    "execution": {
     "iopub.execute_input": "2024-03-20T21:35:15.145319Z",
     "iopub.status.busy": "2024-03-20T21:35:15.144932Z",
     "iopub.status.idle": "2024-03-20T21:35:15.148686Z",
     "shell.execute_reply": "2024-03-20T21:35:15.148162Z"
    },
    "papermill": {
     "duration": 0.028951,
     "end_time": "2024-03-20T21:35:15.149446",
     "exception": false,
     "start_time": "2024-03-20T21:35:15.120495",
     "status": "completed"
    },
    "tags": []
   },
   "outputs": [
    {
     "data": {
      "text/plain": [
       "'## Results'"
      ]
     },
     "execution_count": 56,
     "metadata": {},
     "output_type": "execute_result"
    }
   ],
   "source": [
    "mod_section_paragraphs[0]"
   ]
  },
  {
   "cell_type": "markdown",
   "id": "f1be3841-7923-4e69-b0a9-2c39dd7ddaa7",
   "metadata": {
    "editable": true,
    "papermill": {
     "duration": 0.023359,
     "end_time": "2024-03-20T21:35:15.196474",
     "exception": false,
     "start_time": "2024-03-20T21:35:15.173115",
     "status": "completed"
    },
    "slideshow": {
     "slide_type": ""
    },
    "tags": []
   },
   "source": [
    "####  Paragraph 00"
   ]
  },
  {
   "cell_type": "code",
   "execution_count": 57,
   "id": "9a597e30-25ab-4a38-874c-90de7e184e99",
   "metadata": {
    "execution": {
     "iopub.execute_input": "2024-03-20T21:35:15.245485Z",
     "iopub.status.busy": "2024-03-20T21:35:15.245333Z",
     "iopub.status.idle": "2024-03-20T21:35:15.248148Z",
     "shell.execute_reply": "2024-03-20T21:35:15.247730Z"
    },
    "papermill": {
     "duration": 0.027843,
     "end_time": "2024-03-20T21:35:15.248846",
     "exception": false,
     "start_time": "2024-03-20T21:35:15.221003",
     "status": "completed"
    },
    "tags": []
   },
   "outputs": [
    {
     "name": "stdout",
     "output_type": "stream",
     "text": [
      "BioChatter ([https://github.com/biocypher/biochatter](https://github.com/biocypher/biochatter)) is a Python framework that provides an easy-to-use interface to interact with LLMs and auxiliary technologies via an intuitive API (application programming interface). This way, its functionality can be integrated into any number of user interfaces, such as web apps, command-line interfaces, or Jupyter notebooks (Figure @fig:architecture).\n"
     ]
    }
   ],
   "source": [
    "par0 = process_paragraph(orig_section_paragraphs[1])\n",
    "print(par0)"
   ]
  },
  {
   "cell_type": "code",
   "execution_count": 58,
   "id": "87bc4f6c-e891-4d57-a2ce-4bd9efa0e1aa",
   "metadata": {
    "execution": {
     "iopub.execute_input": "2024-03-20T21:35:15.297556Z",
     "iopub.status.busy": "2024-03-20T21:35:15.297256Z",
     "iopub.status.idle": "2024-03-20T21:35:15.300860Z",
     "shell.execute_reply": "2024-03-20T21:35:15.300279Z"
    },
    "papermill": {
     "duration": 0.029092,
     "end_time": "2024-03-20T21:35:15.301609",
     "exception": false,
     "start_time": "2024-03-20T21:35:15.272517",
     "status": "completed"
    },
    "tags": []
   },
   "outputs": [
    {
     "name": "stdout",
     "output_type": "stream",
     "text": [
      "BioChatter ([https://github.com/biocypher/biochatter](https://github.com/biocypher/biochatter)) is a Python framework that provides an easy-to-use interface to interact with LLMs and auxiliary technologies via an intuitive API (application programming interface). This way, its functionality can be integrated into any number of user interfaces, such as web apps, command-line interfaces, or Jupyter notebooks (Figure @fig:architecture).\n"
     ]
    }
   ],
   "source": [
    "par1 = process_paragraph(mod_section_paragraphs[1])\n",
    "print(par1)"
   ]
  },
  {
   "cell_type": "markdown",
   "id": "8750b23b-8244-47d9-8918-d150960f2702",
   "metadata": {
    "editable": true,
    "papermill": {
     "duration": 0.023787,
     "end_time": "2024-03-20T21:35:15.349030",
     "exception": false,
     "start_time": "2024-03-20T21:35:15.325243",
     "status": "completed"
    },
    "slideshow": {
     "slide_type": ""
    },
    "tags": []
   },
   "source": [
    "####  Paragraph 01"
   ]
  },
  {
   "cell_type": "code",
   "execution_count": 59,
   "id": "8baf67e8-648e-474d-8665-400c2f5de763",
   "metadata": {
    "execution": {
     "iopub.execute_input": "2024-03-20T21:35:15.423542Z",
     "iopub.status.busy": "2024-03-20T21:35:15.422994Z",
     "iopub.status.idle": "2024-03-20T21:35:15.426562Z",
     "shell.execute_reply": "2024-03-20T21:35:15.425958Z"
    },
    "papermill": {
     "duration": 0.030107,
     "end_time": "2024-03-20T21:35:15.427340",
     "exception": false,
     "start_time": "2024-03-20T21:35:15.397233",
     "status": "completed"
    },
    "tags": []
   },
   "outputs": [
    {
     "name": "stdout",
     "output_type": "stream",
     "text": [
      "The framework is designed to be modular: any of its components can be exchanged with other implementations (Figure @fig:overview). These functionalities include:\n",
      "- **basic question-answering** with LLMs hosted by providers (such as OpenAI) as well as locally deployed open-source models\n",
      "- **reproducible prompt engineering** to guide the LLM towards a specific task or behaviour\n",
      "- **knowledge graph (KG) querying** with automatic integration of any KG created in the BioCypher framework [@biocypher]\n",
      "- **retrieval-augmented generation** (RAG) using vector database embeddings of user-provided literature\n",
      "- **model chaining** to orchestrate multiple LLMs and other models in a single conversation using the LangChain framework [@langchain]\n",
      "- **fact-checking** of LLM responses using a second LLM\n",
      "- **benchmarking** of LLMs, prompts, and other components\n"
     ]
    }
   ],
   "source": [
    "par0 = process_paragraph(orig_section_paragraphs[2:10]).replace(\" - \", \"\\n- \")\n",
    "print(par0)"
   ]
  },
  {
   "cell_type": "code",
   "execution_count": 60,
   "id": "4ce852d0-25a0-417e-ab3d-67117b238c01",
   "metadata": {
    "execution": {
     "iopub.execute_input": "2024-03-20T21:35:15.477169Z",
     "iopub.status.busy": "2024-03-20T21:35:15.476649Z",
     "iopub.status.idle": "2024-03-20T21:35:15.480084Z",
     "shell.execute_reply": "2024-03-20T21:35:15.479499Z"
    },
    "papermill": {
     "duration": 0.029461,
     "end_time": "2024-03-20T21:35:15.480938",
     "exception": false,
     "start_time": "2024-03-20T21:35:15.451477",
     "status": "completed"
    },
    "tags": []
   },
   "outputs": [
    {
     "name": "stdout",
     "output_type": "stream",
     "text": [
      "The framework is designed to be modular, allowing for the exchange of components with other implementations (Figure 1). These functionalities include basic question-answering using large language models (LLMs) from providers like OpenAI or locally deployed open-source models. It also includes reproducible prompt engineering to guide LLMs towards specific tasks, knowledge graph (KG) querying with automatic integration of any KG created in the BioCypher framework, retrieval-augmented generation (RAG) using vector database embeddings of user-provided literature, model chaining to orchestrate multiple LLMs and other models in a single conversation using the LangChain framework, fact-checking of LLM responses using a second LLM, and benchmarking of LLMs, prompts, and other components.\n"
     ]
    }
   ],
   "source": [
    "par1 = process_paragraph(mod_section_paragraphs[2])\n",
    "print(par1)"
   ]
  },
  {
   "cell_type": "code",
   "execution_count": 61,
   "id": "5791f3c1-eaf4-48e9-878d-b5c068cd0f6d",
   "metadata": {
    "execution": {
     "iopub.execute_input": "2024-03-20T21:35:15.532824Z",
     "iopub.status.busy": "2024-03-20T21:35:15.532236Z",
     "iopub.status.idle": "2024-03-20T21:35:15.536101Z",
     "shell.execute_reply": "2024-03-20T21:35:15.535472Z"
    },
    "papermill": {
     "duration": 0.030764,
     "end_time": "2024-03-20T21:35:15.536864",
     "exception": false,
     "start_time": "2024-03-20T21:35:15.506100",
     "status": "completed"
    },
    "tags": []
   },
   "outputs": [],
   "source": [
    "paragraph_matches.append(\n",
    "    (\n",
    "        section_name,\n",
    "        par0,\n",
    "        par1,\n",
    "    )\n",
    ")"
   ]
  },
  {
   "cell_type": "code",
   "execution_count": 62,
   "id": "82a6f7f9-239f-42dd-84ac-f7a3be77726a",
   "metadata": {
    "execution": {
     "iopub.execute_input": "2024-03-20T21:35:15.586800Z",
     "iopub.status.busy": "2024-03-20T21:35:15.586400Z",
     "iopub.status.idle": "2024-03-20T21:35:15.590097Z",
     "shell.execute_reply": "2024-03-20T21:35:15.589652Z"
    },
    "papermill": {
     "duration": 0.029435,
     "end_time": "2024-03-20T21:35:15.590843",
     "exception": false,
     "start_time": "2024-03-20T21:35:15.561408",
     "status": "completed"
    },
    "tags": []
   },
   "outputs": [
    {
     "data": {
      "text/plain": [
       "('results',\n",
       " 'The framework is designed to be modular: any of its components can be exchanged with other implementations (Figure @fig:overview). These functionalities include:\\n- **basic question-answering** with LLMs hosted by providers (such as OpenAI) as well as locally deployed open-source models\\n- **reproducible prompt engineering** to guide the LLM towards a specific task or behaviour\\n- **knowledge graph (KG) querying** with automatic integration of any KG created in the BioCypher framework [@biocypher]\\n- **retrieval-augmented generation** (RAG) using vector database embeddings of user-provided literature\\n- **model chaining** to orchestrate multiple LLMs and other models in a single conversation using the LangChain framework [@langchain]\\n- **fact-checking** of LLM responses using a second LLM\\n- **benchmarking** of LLMs, prompts, and other components',\n",
       " 'The framework is designed to be modular, allowing for the exchange of components with other implementations (Figure 1). These functionalities include basic question-answering using large language models (LLMs) from providers like OpenAI or locally deployed open-source models. It also includes reproducible prompt engineering to guide LLMs towards specific tasks, knowledge graph (KG) querying with automatic integration of any KG created in the BioCypher framework, retrieval-augmented generation (RAG) using vector database embeddings of user-provided literature, model chaining to orchestrate multiple LLMs and other models in a single conversation using the LangChain framework, fact-checking of LLM responses using a second LLM, and benchmarking of LLMs, prompts, and other components.')"
      ]
     },
     "metadata": {},
     "output_type": "display_data"
    }
   ],
   "source": [
    "display(paragraph_matches[-1])"
   ]
  },
  {
   "cell_type": "markdown",
   "id": "0ad95b5e-843e-4d55-b95e-2ddad39c3398",
   "metadata": {
    "editable": true,
    "papermill": {
     "duration": 0.024156,
     "end_time": "2024-03-20T21:35:15.639516",
     "exception": false,
     "start_time": "2024-03-20T21:35:15.615360",
     "status": "completed"
    },
    "slideshow": {
     "slide_type": ""
    },
    "tags": []
   },
   "source": [
    "####  Paragraph 02"
   ]
  },
  {
   "cell_type": "code",
   "execution_count": 63,
   "id": "400c914e-9653-4b5b-93bd-6fd0e27d0756",
   "metadata": {
    "execution": {
     "iopub.execute_input": "2024-03-20T21:35:15.689535Z",
     "iopub.status.busy": "2024-03-20T21:35:15.689169Z",
     "iopub.status.idle": "2024-03-20T21:35:15.692470Z",
     "shell.execute_reply": "2024-03-20T21:35:15.691969Z"
    },
    "papermill": {
     "duration": 0.028703,
     "end_time": "2024-03-20T21:35:15.693150",
     "exception": false,
     "start_time": "2024-03-20T21:35:15.664447",
     "status": "completed"
    },
    "tags": []
   },
   "outputs": [
    {
     "name": "stdout",
     "output_type": "stream",
     "text": [
      "The core functionality of BioChatter is to interact with LLMs. The framework supports both leading proprietary models such as the GPT series from OpenAI as well as open-source models such as LLaMA2 [@doi:10.48550/arXiv.2307.09288] and Mixtral 8x7B [@doi:10.48550/arXiv.2401.04088] via a flexible open-source deployment framework [@{https://github.com/xorbitsai/inference}] (see Methods). Currently, the most powerful conversational AI platform, ChatGPT (OpenAI), is surrounded by data privacy concerns [@{https://www.reuters.com/technology/european-data-protection-board-discussing-ai-policy-thursday-meeting-2023-04-13/}]. To address this issue, we provide access to the different OpenAI models through their API, which is subject to different, more stringent data protection than the web interface [@{https://openai.com/policies/terms-of-use}], most importantly by disallowing reuse of user inputs for subsequent model training. Further, we aim to preferentially support open-source LLMs to facilitate more transparency in their application and increase data privacy by being able to run a model locally on dedicated hardware and end-user devices [@doi:10.1038/d41586-023-01295-4]. By building on LangChain [@langchain], we support dozens of LLM providers, such as the Xorbits Inference and Hugging Face APIs [@{https://github.com/xorbitsai/inference}], which can be used to query any of the more than 100 000 open-source models on Hugging Face Hub [@{https://huggingface.co/docs/hub/index}], for instance those on its LLM leaderboard [@{https://huggingface.co/spaces/HuggingFaceH4/open_llm_leaderboard}]. Although OpenAI’s models currently outperform any alternatives in terms of both LLM performance and API convenience, we expect many open-source developments in this area in the future [@biollmbench]. Therefore, we support plug-and-play exchange of models to enhance biomedical AI readiness, and we implement a bespoke benchmarking framework for the biomedical application of LLMs.\n"
     ]
    }
   ],
   "source": [
    "par0 = process_paragraph(orig_section_paragraphs[13:14])  # .replace(\" - \", \"\\n- \")\n",
    "print(par0)"
   ]
  },
  {
   "cell_type": "code",
   "execution_count": 64,
   "id": "6ee81bcf-fc69-4749-9600-b8900438c2db",
   "metadata": {
    "execution": {
     "iopub.execute_input": "2024-03-20T21:35:15.741684Z",
     "iopub.status.busy": "2024-03-20T21:35:15.741489Z",
     "iopub.status.idle": "2024-03-20T21:35:15.744491Z",
     "shell.execute_reply": "2024-03-20T21:35:15.744011Z"
    },
    "papermill": {
     "duration": 0.027991,
     "end_time": "2024-03-20T21:35:15.745203",
     "exception": false,
     "start_time": "2024-03-20T21:35:15.717212",
     "status": "completed"
    },
    "tags": []
   },
   "outputs": [
    {
     "name": "stdout",
     "output_type": "stream",
     "text": [
      "The BioChatter framework interacts with various large language models (LLMs), including proprietary models like the GPT series from OpenAI, as well as open-source models like LLaMA2 and Mixtral 8x7B. This interaction is facilitated through a flexible open-source deployment framework. To address data privacy concerns surrounding platforms like ChatGPT, we provide access to different OpenAI models through their API, which has more stringent data protection measures compared to the web interface. Our preference for open-source LLMs aims to increase transparency and data privacy by enabling local model execution on dedicated hardware and end-user devices. By leveraging LangChain, we support multiple LLM providers, such as Xorbits Inference and Hugging Face APIs, allowing users to query over 100,000 open-source models on Hugging Face Hub, including those on the LLM leaderboard. While OpenAI models currently lead in performance and API convenience, we anticipate future open-source developments in this field. To enhance biomedical AI readiness, we enable plug-and-play model exchange and implement a customized benchmarking framework for the biomedical application of LLMs.\n"
     ]
    }
   ],
   "source": [
    "par1 = process_paragraph(mod_section_paragraphs[6])\n",
    "print(par1)"
   ]
  },
  {
   "cell_type": "code",
   "execution_count": 65,
   "id": "27b35246-8b56-46b7-a876-4ad96e8fac28",
   "metadata": {
    "execution": {
     "iopub.execute_input": "2024-03-20T21:35:15.793447Z",
     "iopub.status.busy": "2024-03-20T21:35:15.793261Z",
     "iopub.status.idle": "2024-03-20T21:35:15.795860Z",
     "shell.execute_reply": "2024-03-20T21:35:15.795423Z"
    },
    "papermill": {
     "duration": 0.027472,
     "end_time": "2024-03-20T21:35:15.796583",
     "exception": false,
     "start_time": "2024-03-20T21:35:15.769111",
     "status": "completed"
    },
    "tags": []
   },
   "outputs": [],
   "source": [
    "paragraph_matches.append(\n",
    "    (\n",
    "        section_name,\n",
    "        par0,\n",
    "        par1,\n",
    "    )\n",
    ")"
   ]
  },
  {
   "cell_type": "code",
   "execution_count": 66,
   "id": "aa6b9604-ce2b-4fd6-acf0-4f530f0f4b34",
   "metadata": {
    "execution": {
     "iopub.execute_input": "2024-03-20T21:35:15.845179Z",
     "iopub.status.busy": "2024-03-20T21:35:15.844688Z",
     "iopub.status.idle": "2024-03-20T21:35:15.848412Z",
     "shell.execute_reply": "2024-03-20T21:35:15.847961Z"
    },
    "papermill": {
     "duration": 0.028787,
     "end_time": "2024-03-20T21:35:15.849117",
     "exception": false,
     "start_time": "2024-03-20T21:35:15.820330",
     "status": "completed"
    },
    "tags": []
   },
   "outputs": [
    {
     "data": {
      "text/plain": [
       "('results',\n",
       " 'The core functionality of BioChatter is to interact with LLMs. The framework supports both leading proprietary models such as the GPT series from OpenAI as well as open-source models such as LLaMA2 [@doi:10.48550/arXiv.2307.09288] and Mixtral 8x7B [@doi:10.48550/arXiv.2401.04088] via a flexible open-source deployment framework [@{https://github.com/xorbitsai/inference}] (see Methods). Currently, the most powerful conversational AI platform, ChatGPT (OpenAI), is surrounded by data privacy concerns [@{https://www.reuters.com/technology/european-data-protection-board-discussing-ai-policy-thursday-meeting-2023-04-13/}]. To address this issue, we provide access to the different OpenAI models through their API, which is subject to different, more stringent data protection than the web interface [@{https://openai.com/policies/terms-of-use}], most importantly by disallowing reuse of user inputs for subsequent model training. Further, we aim to preferentially support open-source LLMs to facilitate more transparency in their application and increase data privacy by being able to run a model locally on dedicated hardware and end-user devices [@doi:10.1038/d41586-023-01295-4]. By building on LangChain [@langchain], we support dozens of LLM providers, such as the Xorbits Inference and Hugging Face APIs [@{https://github.com/xorbitsai/inference}], which can be used to query any of the more than 100 000 open-source models on Hugging Face Hub [@{https://huggingface.co/docs/hub/index}], for instance those on its LLM leaderboard [@{https://huggingface.co/spaces/HuggingFaceH4/open_llm_leaderboard}]. Although OpenAI’s models currently outperform any alternatives in terms of both LLM performance and API convenience, we expect many open-source developments in this area in the future [@biollmbench]. Therefore, we support plug-and-play exchange of models to enhance biomedical AI readiness, and we implement a bespoke benchmarking framework for the biomedical application of LLMs.',\n",
       " 'The BioChatter framework interacts with various large language models (LLMs), including proprietary models like the GPT series from OpenAI, as well as open-source models like LLaMA2 and Mixtral 8x7B. This interaction is facilitated through a flexible open-source deployment framework. To address data privacy concerns surrounding platforms like ChatGPT, we provide access to different OpenAI models through their API, which has more stringent data protection measures compared to the web interface. Our preference for open-source LLMs aims to increase transparency and data privacy by enabling local model execution on dedicated hardware and end-user devices. By leveraging LangChain, we support multiple LLM providers, such as Xorbits Inference and Hugging Face APIs, allowing users to query over 100,000 open-source models on Hugging Face Hub, including those on the LLM leaderboard. While OpenAI models currently lead in performance and API convenience, we anticipate future open-source developments in this field. To enhance biomedical AI readiness, we enable plug-and-play model exchange and implement a customized benchmarking framework for the biomedical application of LLMs.')"
      ]
     },
     "metadata": {},
     "output_type": "display_data"
    }
   ],
   "source": [
    "display(paragraph_matches[-1])"
   ]
  },
  {
   "cell_type": "markdown",
   "id": "e21060ab-a1f4-4b0d-a02b-1540cc60e04f",
   "metadata": {
    "editable": true,
    "papermill": {
     "duration": 0.02371,
     "end_time": "2024-03-20T21:35:15.896792",
     "exception": false,
     "start_time": "2024-03-20T21:35:15.873082",
     "status": "completed"
    },
    "slideshow": {
     "slide_type": ""
    },
    "tags": []
   },
   "source": [
    "####  Paragraph 03"
   ]
  },
  {
   "cell_type": "code",
   "execution_count": 67,
   "id": "08f779d6-78b6-437b-b9ae-5b4f9a31fa16",
   "metadata": {
    "execution": {
     "iopub.execute_input": "2024-03-20T21:35:15.945126Z",
     "iopub.status.busy": "2024-03-20T21:35:15.944931Z",
     "iopub.status.idle": "2024-03-20T21:35:15.947999Z",
     "shell.execute_reply": "2024-03-20T21:35:15.947553Z"
    },
    "papermill": {
     "duration": 0.028154,
     "end_time": "2024-03-20T21:35:15.948717",
     "exception": false,
     "start_time": "2024-03-20T21:35:15.920563",
     "status": "completed"
    },
    "tags": []
   },
   "outputs": [
    {
     "name": "stdout",
     "output_type": "stream",
     "text": [
      "An essential property of LLMs is their sensitivity to the prompt, i.e., the initial input that guides the model towards a specific task or behaviour. Prompt engineering is an emerging discipline of practical AI, and as such, there are no established best practices [@doi:10.48550/arXiv.2302.11382;@doi:10.48550/arXiv.2312.16171]. Current approaches are mostly trial-and-error-based manual engineering, which is not reproducible and changes with every new model [@biollmbench]. To address this issue, we include a prompt engineering framework in BioChatter that allows the preservation of prompt sets for specific tasks, which can be shared and reused by the community. In addition, to facilitate the scaling of prompt engineering, we integrate this framework into the benchmarking pipeline, which enables the automated evaluation of prompt sets as new models are published.\n"
     ]
    }
   ],
   "source": [
    "par0 = process_paragraph(orig_section_paragraphs[15])  # .replace(\" - \", \"\\n- \")\n",
    "print(par0)"
   ]
  },
  {
   "cell_type": "code",
   "execution_count": 68,
   "id": "5e4bd749-0cdd-44dd-9c6a-1283a6e144a8",
   "metadata": {
    "execution": {
     "iopub.execute_input": "2024-03-20T21:35:15.997127Z",
     "iopub.status.busy": "2024-03-20T21:35:15.996932Z",
     "iopub.status.idle": "2024-03-20T21:35:15.999859Z",
     "shell.execute_reply": "2024-03-20T21:35:15.999416Z"
    },
    "papermill": {
     "duration": 0.027927,
     "end_time": "2024-03-20T21:35:16.000561",
     "exception": false,
     "start_time": "2024-03-20T21:35:15.972634",
     "status": "completed"
    },
    "tags": []
   },
   "outputs": [
    {
     "name": "stdout",
     "output_type": "stream",
     "text": [
      "LLMs are sensitive to prompts, the initial input guiding their behavior. Prompt engineering lacks established best practices, often relying on manual trial and error [@doi:10.48550/arXiv.2302.11382;@doi:10.48550/arXiv.2312.16171;@biollmbench]. To address this, BioChatter includes a prompt engineering framework for preserving and sharing task-specific prompt sets. This integration allows for automated evaluation of prompt sets as new models are released, aiding in scalability.\n"
     ]
    }
   ],
   "source": [
    "par1 = process_paragraph(mod_section_paragraphs[8])\n",
    "print(par1)"
   ]
  },
  {
   "cell_type": "code",
   "execution_count": 69,
   "id": "e4c9c922-73bb-4839-9213-dd7df638fb46",
   "metadata": {
    "execution": {
     "iopub.execute_input": "2024-03-20T21:35:16.049013Z",
     "iopub.status.busy": "2024-03-20T21:35:16.048818Z",
     "iopub.status.idle": "2024-03-20T21:35:16.051660Z",
     "shell.execute_reply": "2024-03-20T21:35:16.051112Z"
    },
    "papermill": {
     "duration": 0.027928,
     "end_time": "2024-03-20T21:35:16.052448",
     "exception": false,
     "start_time": "2024-03-20T21:35:16.024520",
     "status": "completed"
    },
    "tags": []
   },
   "outputs": [],
   "source": [
    "paragraph_matches.append(\n",
    "    (\n",
    "        section_name,\n",
    "        par0,\n",
    "        par1,\n",
    "    )\n",
    ")"
   ]
  },
  {
   "cell_type": "code",
   "execution_count": 70,
   "id": "4b887b5d-10eb-43e0-9a85-4640473a8ede",
   "metadata": {
    "execution": {
     "iopub.execute_input": "2024-03-20T21:35:16.100840Z",
     "iopub.status.busy": "2024-03-20T21:35:16.100644Z",
     "iopub.status.idle": "2024-03-20T21:35:16.104507Z",
     "shell.execute_reply": "2024-03-20T21:35:16.103928Z"
    },
    "papermill": {
     "duration": 0.029015,
     "end_time": "2024-03-20T21:35:16.105292",
     "exception": false,
     "start_time": "2024-03-20T21:35:16.076277",
     "status": "completed"
    },
    "tags": []
   },
   "outputs": [
    {
     "data": {
      "text/plain": [
       "('results',\n",
       " 'An essential property of LLMs is their sensitivity to the prompt, i.e., the initial input that guides the model towards a specific task or behaviour. Prompt engineering is an emerging discipline of practical AI, and as such, there are no established best practices [@doi:10.48550/arXiv.2302.11382;@doi:10.48550/arXiv.2312.16171]. Current approaches are mostly trial-and-error-based manual engineering, which is not reproducible and changes with every new model [@biollmbench]. To address this issue, we include a prompt engineering framework in BioChatter that allows the preservation of prompt sets for specific tasks, which can be shared and reused by the community. In addition, to facilitate the scaling of prompt engineering, we integrate this framework into the benchmarking pipeline, which enables the automated evaluation of prompt sets as new models are published.',\n",
       " 'LLMs are sensitive to prompts, the initial input guiding their behavior. Prompt engineering lacks established best practices, often relying on manual trial and error [@doi:10.48550/arXiv.2302.11382;@doi:10.48550/arXiv.2312.16171;@biollmbench]. To address this, BioChatter includes a prompt engineering framework for preserving and sharing task-specific prompt sets. This integration allows for automated evaluation of prompt sets as new models are released, aiding in scalability.')"
      ]
     },
     "metadata": {},
     "output_type": "display_data"
    }
   ],
   "source": [
    "display(paragraph_matches[-1])"
   ]
  },
  {
   "cell_type": "markdown",
   "id": "91cd2c18-2aab-4ed1-99f7-15da176b8b1b",
   "metadata": {
    "editable": true,
    "papermill": {
     "duration": 0.023891,
     "end_time": "2024-03-20T21:35:16.153019",
     "exception": false,
     "start_time": "2024-03-20T21:35:16.129128",
     "status": "completed"
    },
    "slideshow": {
     "slide_type": ""
    },
    "tags": []
   },
   "source": [
    "####  Paragraph 04"
   ]
  },
  {
   "cell_type": "code",
   "execution_count": 71,
   "id": "37748dce-f516-444a-abe8-8d0b6cc9164c",
   "metadata": {
    "execution": {
     "iopub.execute_input": "2024-03-20T21:35:16.201631Z",
     "iopub.status.busy": "2024-03-20T21:35:16.201437Z",
     "iopub.status.idle": "2024-03-20T21:35:16.204675Z",
     "shell.execute_reply": "2024-03-20T21:35:16.204074Z"
    },
    "papermill": {
     "duration": 0.028633,
     "end_time": "2024-03-20T21:35:16.205509",
     "exception": false,
     "start_time": "2024-03-20T21:35:16.176876",
     "status": "completed"
    },
    "tags": []
   },
   "outputs": [
    {
     "name": "stdout",
     "output_type": "stream",
     "text": [
      "KGs are a powerful tool to represent and query knowledge in a structured manner. With BioCypher [@biocypher], we have developed a framework to create KGs from biomedical data in a user-friendly way while also semantically grounding the data in ontologies. BioChatter is an extension of the BioCypher ecosystem, elevating its user-friendliness further by allowing natural language interactions with the data; any BioCypher KG is automatically compatible with BioChatter. We use information generated in the build process of BioCypher KGs to tune BioChatter's understanding of the data structures and contents, thereby increasing the efficiency of LLM-based KG querying (see Methods). In addition, the ability to connect to any BioCypher KG allows the integration of prior knowledge into the LLM's retrieval, which can be used to ground the model's responses in the context of the KG via in-context learning / retrieval-augmented generation, which can facilitate human-AI interaction via symbolic concepts [@doi:10.1609/aaai.v36i11.21488]. We demonstrate the user experience of KG-driven interaction in [Supplementary Note 1: Knowledge Graph Retrieval-Augmented Generation] and on our website ([https://biochatter.org/vignette-kg/](https://biochatter.org/vignette-kg/)).\n"
     ]
    }
   ],
   "source": [
    "par0 = process_paragraph(orig_section_paragraphs[17])  # .replace(\" - \", \"\\n- \")\n",
    "print(par0)"
   ]
  },
  {
   "cell_type": "code",
   "execution_count": 72,
   "id": "e352ab7b-7746-4388-93fd-2537ec5236ac",
   "metadata": {
    "execution": {
     "iopub.execute_input": "2024-03-20T21:35:16.254749Z",
     "iopub.status.busy": "2024-03-20T21:35:16.254334Z",
     "iopub.status.idle": "2024-03-20T21:35:16.257560Z",
     "shell.execute_reply": "2024-03-20T21:35:16.256996Z"
    },
    "papermill": {
     "duration": 0.028753,
     "end_time": "2024-03-20T21:35:16.258364",
     "exception": false,
     "start_time": "2024-03-20T21:35:16.229611",
     "status": "completed"
    },
    "tags": []
   },
   "outputs": [
    {
     "name": "stdout",
     "output_type": "stream",
     "text": [
      "Knowledge graphs (KGs) are a useful way to organize and search for information. We have created BioCypher, a system that builds KGs from biomedical data with a focus on user-friendliness and ontology integration. BioChatter is an extension of BioCypher that allows users to interact with the data using natural language. By leveraging information from BioCypher KGs during BioChatter's setup, we improve the efficiency of querying using large language models (LLMs) (refer to Methods). Connecting BioChatter to any BioCypher KG enables the incorporation of existing knowledge into LLM-based retrieval, enhancing the model's responses through in-context learning. This approach supports human-AI interaction by grounding responses in KG context. For a demonstration of KG-driven interaction, refer to Supplementary Note 1 and visit our website at https://biochatter.org/vignette-kg/.\n"
     ]
    }
   ],
   "source": [
    "par1 = process_paragraph(mod_section_paragraphs[10])\n",
    "print(par1)"
   ]
  },
  {
   "cell_type": "code",
   "execution_count": 73,
   "id": "f7c210a5-65d7-4a83-8796-d92781fe7774",
   "metadata": {
    "execution": {
     "iopub.execute_input": "2024-03-20T21:35:16.307442Z",
     "iopub.status.busy": "2024-03-20T21:35:16.307243Z",
     "iopub.status.idle": "2024-03-20T21:35:16.310094Z",
     "shell.execute_reply": "2024-03-20T21:35:16.309538Z"
    },
    "papermill": {
     "duration": 0.028277,
     "end_time": "2024-03-20T21:35:16.310900",
     "exception": false,
     "start_time": "2024-03-20T21:35:16.282623",
     "status": "completed"
    },
    "tags": []
   },
   "outputs": [],
   "source": [
    "paragraph_matches.append(\n",
    "    (\n",
    "        section_name,\n",
    "        par0,\n",
    "        par1,\n",
    "    )\n",
    ")"
   ]
  },
  {
   "cell_type": "code",
   "execution_count": 74,
   "id": "9fb660b6-96ad-4029-ad3e-ef30a279832e",
   "metadata": {
    "execution": {
     "iopub.execute_input": "2024-03-20T21:35:16.359830Z",
     "iopub.status.busy": "2024-03-20T21:35:16.359431Z",
     "iopub.status.idle": "2024-03-20T21:35:16.363466Z",
     "shell.execute_reply": "2024-03-20T21:35:16.362898Z"
    },
    "papermill": {
     "duration": 0.029231,
     "end_time": "2024-03-20T21:35:16.364251",
     "exception": false,
     "start_time": "2024-03-20T21:35:16.335020",
     "status": "completed"
    },
    "tags": []
   },
   "outputs": [
    {
     "data": {
      "text/plain": [
       "('results',\n",
       " \"KGs are a powerful tool to represent and query knowledge in a structured manner. With BioCypher [@biocypher], we have developed a framework to create KGs from biomedical data in a user-friendly way while also semantically grounding the data in ontologies. BioChatter is an extension of the BioCypher ecosystem, elevating its user-friendliness further by allowing natural language interactions with the data; any BioCypher KG is automatically compatible with BioChatter. We use information generated in the build process of BioCypher KGs to tune BioChatter's understanding of the data structures and contents, thereby increasing the efficiency of LLM-based KG querying (see Methods). In addition, the ability to connect to any BioCypher KG allows the integration of prior knowledge into the LLM's retrieval, which can be used to ground the model's responses in the context of the KG via in-context learning / retrieval-augmented generation, which can facilitate human-AI interaction via symbolic concepts [@doi:10.1609/aaai.v36i11.21488]. We demonstrate the user experience of KG-driven interaction in [Supplementary Note 1: Knowledge Graph Retrieval-Augmented Generation] and on our website ([https://biochatter.org/vignette-kg/](https://biochatter.org/vignette-kg/)).\",\n",
       " \"Knowledge graphs (KGs) are a useful way to organize and search for information. We have created BioCypher, a system that builds KGs from biomedical data with a focus on user-friendliness and ontology integration. BioChatter is an extension of BioCypher that allows users to interact with the data using natural language. By leveraging information from BioCypher KGs during BioChatter's setup, we improve the efficiency of querying using large language models (LLMs) (refer to Methods). Connecting BioChatter to any BioCypher KG enables the incorporation of existing knowledge into LLM-based retrieval, enhancing the model's responses through in-context learning. This approach supports human-AI interaction by grounding responses in KG context. For a demonstration of KG-driven interaction, refer to Supplementary Note 1 and visit our website at https://biochatter.org/vignette-kg/.\")"
      ]
     },
     "metadata": {},
     "output_type": "display_data"
    }
   ],
   "source": [
    "display(paragraph_matches[-1])"
   ]
  },
  {
   "cell_type": "markdown",
   "id": "8eb21faf-1e2f-4f85-b475-27b65d619262",
   "metadata": {
    "editable": true,
    "papermill": {
     "duration": 0.02392,
     "end_time": "2024-03-20T21:35:16.412402",
     "exception": false,
     "start_time": "2024-03-20T21:35:16.388482",
     "status": "completed"
    },
    "slideshow": {
     "slide_type": ""
    },
    "tags": []
   },
   "source": [
    "####  Paragraph 05"
   ]
  },
  {
   "cell_type": "code",
   "execution_count": 75,
   "id": "0fa5d1d7-15a8-42e5-bfaf-c20c1ab6b76a",
   "metadata": {
    "execution": {
     "iopub.execute_input": "2024-03-20T21:35:16.461257Z",
     "iopub.status.busy": "2024-03-20T21:35:16.461060Z",
     "iopub.status.idle": "2024-03-20T21:35:16.464262Z",
     "shell.execute_reply": "2024-03-20T21:35:16.463705Z"
    },
    "papermill": {
     "duration": 0.028697,
     "end_time": "2024-03-20T21:35:16.465124",
     "exception": false,
     "start_time": "2024-03-20T21:35:16.436427",
     "status": "completed"
    },
    "tags": []
   },
   "outputs": [
    {
     "name": "stdout",
     "output_type": "stream",
     "text": [
      "LLM confabulation is a major issue for biomedical applications, where the consequences of incorrect information can be severe. One popular way of addressing this issue is to apply \"in-context learning,\" which is also more recently referred to as \"retrieval-augmented generation\" (RAG) [@doi:10.48550/arxiv.2303.17580]. Briefly, RAG relies on injection of information into the model prompt of a pre-trained model and, as such, does not require retraining / fine-tuning; once created, any RAG prompt can be used with any LLM. While this can be done by processing structured knowledge, for instance, from KGs, it is often more efficient to use a semantic search engine to retrieve relevant information from unstructured data sources such as literature. By incorporating the management and integration of vector databases in the BioChatter framework, we allow the user to connect to a vector database, embed an arbitrary number of documents, and then use semantic search to improve the model prompts by adding text fragments relevant to the given question (see Methods). We demonstrate the user experience of RAG in [Supplementary Note 2: Retrieval-Augmented Generation] and on our website ([https://biochatter.org/vignette-rag/](https://biochatter.org/vignette-rag/)).\n"
     ]
    }
   ],
   "source": [
    "par0 = process_paragraph(orig_section_paragraphs[19])  # .replace(\" - \", \"\\n- \")\n",
    "print(par0)"
   ]
  },
  {
   "cell_type": "code",
   "execution_count": 76,
   "id": "24875e5b-0952-4153-8246-aded4cda445e",
   "metadata": {
    "execution": {
     "iopub.execute_input": "2024-03-20T21:35:16.537081Z",
     "iopub.status.busy": "2024-03-20T21:35:16.536888Z",
     "iopub.status.idle": "2024-03-20T21:35:16.540029Z",
     "shell.execute_reply": "2024-03-20T21:35:16.539469Z"
    },
    "papermill": {
     "duration": 0.051661,
     "end_time": "2024-03-20T21:35:16.540862",
     "exception": false,
     "start_time": "2024-03-20T21:35:16.489201",
     "status": "completed"
    },
    "tags": []
   },
   "outputs": [
    {
     "name": "stdout",
     "output_type": "stream",
     "text": [
      "LLM confabulation poses a significant challenge in biomedicine due to the potential consequences of incorrect information. One approach to mitigating this issue is through \"retrieval-augmented generation\" (RAG). RAG involves injecting information into the model prompt of a pre-trained model, eliminating the need for retraining. This method allows any RAG prompt to be used with any LLM. While structured knowledge from knowledge graphs (KGs) can be utilized, it is often more efficient to use a semantic search engine to extract information from unstructured data sources like literature. In the BioChatter framework, we enable users to connect to a vector database, embed multiple documents, and enhance model prompts by incorporating relevant text fragments using semantic search. The user experience of RAG is demonstrated in Supplementary Note 2 and on our website at https://biochatter.org/vignette-rag/.\n"
     ]
    }
   ],
   "source": [
    "par1 = process_paragraph(mod_section_paragraphs[12])\n",
    "print(par1)"
   ]
  },
  {
   "cell_type": "code",
   "execution_count": 77,
   "id": "327bddd4-4593-4a93-856d-7a7dd1e328cd",
   "metadata": {
    "execution": {
     "iopub.execute_input": "2024-03-20T21:35:16.589819Z",
     "iopub.status.busy": "2024-03-20T21:35:16.589628Z",
     "iopub.status.idle": "2024-03-20T21:35:16.592470Z",
     "shell.execute_reply": "2024-03-20T21:35:16.591864Z"
    },
    "papermill": {
     "duration": 0.028226,
     "end_time": "2024-03-20T21:35:16.593261",
     "exception": false,
     "start_time": "2024-03-20T21:35:16.565035",
     "status": "completed"
    },
    "tags": []
   },
   "outputs": [],
   "source": [
    "paragraph_matches.append(\n",
    "    (\n",
    "        section_name,\n",
    "        par0,\n",
    "        par1,\n",
    "    )\n",
    ")"
   ]
  },
  {
   "cell_type": "code",
   "execution_count": 78,
   "id": "b27c346e-4728-4871-8920-4f6efd233e1b",
   "metadata": {
    "execution": {
     "iopub.execute_input": "2024-03-20T21:35:16.642501Z",
     "iopub.status.busy": "2024-03-20T21:35:16.642299Z",
     "iopub.status.idle": "2024-03-20T21:35:16.646117Z",
     "shell.execute_reply": "2024-03-20T21:35:16.645563Z"
    },
    "papermill": {
     "duration": 0.029276,
     "end_time": "2024-03-20T21:35:16.646939",
     "exception": false,
     "start_time": "2024-03-20T21:35:16.617663",
     "status": "completed"
    },
    "tags": []
   },
   "outputs": [
    {
     "data": {
      "text/plain": [
       "('results',\n",
       " 'LLM confabulation is a major issue for biomedical applications, where the consequences of incorrect information can be severe. One popular way of addressing this issue is to apply \"in-context learning,\" which is also more recently referred to as \"retrieval-augmented generation\" (RAG) [@doi:10.48550/arxiv.2303.17580]. Briefly, RAG relies on injection of information into the model prompt of a pre-trained model and, as such, does not require retraining / fine-tuning; once created, any RAG prompt can be used with any LLM. While this can be done by processing structured knowledge, for instance, from KGs, it is often more efficient to use a semantic search engine to retrieve relevant information from unstructured data sources such as literature. By incorporating the management and integration of vector databases in the BioChatter framework, we allow the user to connect to a vector database, embed an arbitrary number of documents, and then use semantic search to improve the model prompts by adding text fragments relevant to the given question (see Methods). We demonstrate the user experience of RAG in [Supplementary Note 2: Retrieval-Augmented Generation] and on our website ([https://biochatter.org/vignette-rag/](https://biochatter.org/vignette-rag/)).',\n",
       " 'LLM confabulation poses a significant challenge in biomedicine due to the potential consequences of incorrect information. One approach to mitigating this issue is through \"retrieval-augmented generation\" (RAG). RAG involves injecting information into the model prompt of a pre-trained model, eliminating the need for retraining. This method allows any RAG prompt to be used with any LLM. While structured knowledge from knowledge graphs (KGs) can be utilized, it is often more efficient to use a semantic search engine to extract information from unstructured data sources like literature. In the BioChatter framework, we enable users to connect to a vector database, embed multiple documents, and enhance model prompts by incorporating relevant text fragments using semantic search. The user experience of RAG is demonstrated in Supplementary Note 2 and on our website at https://biochatter.org/vignette-rag/.')"
      ]
     },
     "metadata": {},
     "output_type": "display_data"
    }
   ],
   "source": [
    "display(paragraph_matches[-1])"
   ]
  },
  {
   "cell_type": "markdown",
   "id": "ecbfb358-20bf-4813-8fee-8bb8b62c190b",
   "metadata": {
    "editable": true,
    "papermill": {
     "duration": 0.024223,
     "end_time": "2024-03-20T21:35:16.695488",
     "exception": false,
     "start_time": "2024-03-20T21:35:16.671265",
     "status": "completed"
    },
    "slideshow": {
     "slide_type": ""
    },
    "tags": []
   },
   "source": [
    "####  Paragraph 06"
   ]
  },
  {
   "cell_type": "code",
   "execution_count": 79,
   "id": "a785e8fb-03c1-480c-9402-8227f51e8e40",
   "metadata": {
    "execution": {
     "iopub.execute_input": "2024-03-20T21:35:16.744655Z",
     "iopub.status.busy": "2024-03-20T21:35:16.744459Z",
     "iopub.status.idle": "2024-03-20T21:35:16.747654Z",
     "shell.execute_reply": "2024-03-20T21:35:16.747104Z"
    },
    "papermill": {
     "duration": 0.028701,
     "end_time": "2024-03-20T21:35:16.748458",
     "exception": false,
     "start_time": "2024-03-20T21:35:16.719757",
     "status": "completed"
    },
    "tags": []
   },
   "outputs": [
    {
     "name": "stdout",
     "output_type": "stream",
     "text": [
      "LLMs cannot only seamlessly interact with human users, but also with other LLMs as well as many other types of models. They understand API calls and can therefore theoretically orchestrate complex multi-step tasks [@doi:10.48550/arXiv.2305.15334;@doi:10.48550/arXiv.2308.11432]. However, implementation is not trivial and the complex process can lead to unpredictable behaviours. We aim to improve the stability of model chaining in biomedical applications by developing bespoke approaches for common biomedical tasks, such as interpretation and design of experiments, evaluating literature, and exploring web resources. While we focus on reusing existing open-source frameworks such as LangChain [@langchain], we also develop bespoke solutions where necessary to provide stability for the given application. As an example, we implemented a fact-checking module that uses a second LLM to evaluate the factual correctness of the primary LLM's responses continuously during the conversation (see Methods).\n"
     ]
    }
   ],
   "source": [
    "par0 = process_paragraph(orig_section_paragraphs[21])  # .replace(\" - \", \"\\n- \")\n",
    "print(par0)"
   ]
  },
  {
   "cell_type": "code",
   "execution_count": 80,
   "id": "4a27c392-ccb3-407e-8469-582cd6ed90f3",
   "metadata": {
    "execution": {
     "iopub.execute_input": "2024-03-20T21:35:16.798174Z",
     "iopub.status.busy": "2024-03-20T21:35:16.797854Z",
     "iopub.status.idle": "2024-03-20T21:35:16.801056Z",
     "shell.execute_reply": "2024-03-20T21:35:16.800484Z"
    },
    "papermill": {
     "duration": 0.028983,
     "end_time": "2024-03-20T21:35:16.801852",
     "exception": false,
     "start_time": "2024-03-20T21:35:16.772869",
     "status": "completed"
    },
    "tags": []
   },
   "outputs": [
    {
     "name": "stdout",
     "output_type": "stream",
     "text": [
      "Large language models (LLMs) can interact with humans, other LLMs, and various models, understanding API calls for complex tasks [@doi:10.48550/arXiv.2305.15334;@doi:10.48550/arXiv.2308.11432]. Implementing this interaction is challenging and can result in unpredictable behaviors. To enhance model chaining stability in biomedicine, we develop tailored approaches for tasks like experiment interpretation, literature evaluation, and web exploration. While leveraging open-source frameworks like LangChain [@langchain], we create custom solutions as needed for application stability. For instance, we introduce a fact-checking module that employs a second LLM to verify the accuracy of the primary LLM's responses in real-time (see Methods, Figure 1).\n"
     ]
    }
   ],
   "source": [
    "par1 = process_paragraph(mod_section_paragraphs[14])\n",
    "print(par1)"
   ]
  },
  {
   "cell_type": "code",
   "execution_count": 81,
   "id": "f508db45-d48a-48ca-ab7b-e5787e88593d",
   "metadata": {
    "execution": {
     "iopub.execute_input": "2024-03-20T21:35:16.851795Z",
     "iopub.status.busy": "2024-03-20T21:35:16.851317Z",
     "iopub.status.idle": "2024-03-20T21:35:16.854117Z",
     "shell.execute_reply": "2024-03-20T21:35:16.853632Z"
    },
    "papermill": {
     "duration": 0.028513,
     "end_time": "2024-03-20T21:35:16.854816",
     "exception": false,
     "start_time": "2024-03-20T21:35:16.826303",
     "status": "completed"
    },
    "tags": []
   },
   "outputs": [],
   "source": [
    "paragraph_matches.append(\n",
    "    (\n",
    "        section_name,\n",
    "        par0,\n",
    "        par1,\n",
    "    )\n",
    ")"
   ]
  },
  {
   "cell_type": "code",
   "execution_count": 82,
   "id": "3372d898-1af6-4d0e-b90c-31b6eb688f79",
   "metadata": {
    "execution": {
     "iopub.execute_input": "2024-03-20T21:35:16.904404Z",
     "iopub.status.busy": "2024-03-20T21:35:16.904085Z",
     "iopub.status.idle": "2024-03-20T21:35:16.907648Z",
     "shell.execute_reply": "2024-03-20T21:35:16.907181Z"
    },
    "papermill": {
     "duration": 0.029196,
     "end_time": "2024-03-20T21:35:16.908429",
     "exception": false,
     "start_time": "2024-03-20T21:35:16.879233",
     "status": "completed"
    },
    "tags": []
   },
   "outputs": [
    {
     "data": {
      "text/plain": [
       "('results',\n",
       " \"LLMs cannot only seamlessly interact with human users, but also with other LLMs as well as many other types of models. They understand API calls and can therefore theoretically orchestrate complex multi-step tasks [@doi:10.48550/arXiv.2305.15334;@doi:10.48550/arXiv.2308.11432]. However, implementation is not trivial and the complex process can lead to unpredictable behaviours. We aim to improve the stability of model chaining in biomedical applications by developing bespoke approaches for common biomedical tasks, such as interpretation and design of experiments, evaluating literature, and exploring web resources. While we focus on reusing existing open-source frameworks such as LangChain [@langchain], we also develop bespoke solutions where necessary to provide stability for the given application. As an example, we implemented a fact-checking module that uses a second LLM to evaluate the factual correctness of the primary LLM's responses continuously during the conversation (see Methods).\",\n",
       " \"Large language models (LLMs) can interact with humans, other LLMs, and various models, understanding API calls for complex tasks [@doi:10.48550/arXiv.2305.15334;@doi:10.48550/arXiv.2308.11432]. Implementing this interaction is challenging and can result in unpredictable behaviors. To enhance model chaining stability in biomedicine, we develop tailored approaches for tasks like experiment interpretation, literature evaluation, and web exploration. While leveraging open-source frameworks like LangChain [@langchain], we create custom solutions as needed for application stability. For instance, we introduce a fact-checking module that employs a second LLM to verify the accuracy of the primary LLM's responses in real-time (see Methods, Figure 1).\")"
      ]
     },
     "metadata": {},
     "output_type": "display_data"
    }
   ],
   "source": [
    "display(paragraph_matches[-1])"
   ]
  },
  {
   "cell_type": "markdown",
   "id": "95711cd9-9021-4892-bed3-d206e2241ae2",
   "metadata": {
    "editable": true,
    "papermill": {
     "duration": 0.024305,
     "end_time": "2024-03-20T21:35:16.957323",
     "exception": false,
     "start_time": "2024-03-20T21:35:16.933018",
     "status": "completed"
    },
    "slideshow": {
     "slide_type": ""
    },
    "tags": []
   },
   "source": [
    "####  Paragraph 07"
   ]
  },
  {
   "cell_type": "code",
   "execution_count": 83,
   "id": "89f21e0d-2a6e-4718-aec5-fbcaae5a8fb2",
   "metadata": {
    "execution": {
     "iopub.execute_input": "2024-03-20T21:35:17.006927Z",
     "iopub.status.busy": "2024-03-20T21:35:17.006742Z",
     "iopub.status.idle": "2024-03-20T21:35:17.009927Z",
     "shell.execute_reply": "2024-03-20T21:35:17.009413Z"
    },
    "papermill": {
     "duration": 0.028827,
     "end_time": "2024-03-20T21:35:17.010617",
     "exception": false,
     "start_time": "2024-03-20T21:35:16.981790",
     "status": "completed"
    },
    "tags": []
   },
   "outputs": [
    {
     "name": "stdout",
     "output_type": "stream",
     "text": [
      "The increasing generality of LLMs poses challenges for their comprehensive evaluation. Specifically, their ability to aid in a multitude of tasks and their great freedom in formatting the answers challenge their evaluation by traditional methods. To circumvent this issue, we focus on specific biomedical tasks and datasets and employ automated validation of the model's responses by a second LLM for advanced assessments. For transparent and reproducible evaluation of LLMs, we implement a benchmarking framework that allows the comparison of models, prompt sets, and all other components of the pipeline. The generic Pytest framework [@pytest] allows for the automated evaluation of a matrix of all possible combinations of components. The results are stored and displayed on our website for simple comparison, and the benchmark is updated upon the release of new models and extensions to the datasets and BioChatter capabilities ([https://biochatter.org/benchmark/](https://biochatter.org/benchmark/)).\n"
     ]
    }
   ],
   "source": [
    "par0 = process_paragraph(orig_section_paragraphs[23])  # .replace(\" - \", \"\\n- \")\n",
    "print(par0)"
   ]
  },
  {
   "cell_type": "code",
   "execution_count": 84,
   "id": "5b07401f-930d-49d0-9e9c-05f5eecd5842",
   "metadata": {
    "execution": {
     "iopub.execute_input": "2024-03-20T21:35:17.060271Z",
     "iopub.status.busy": "2024-03-20T21:35:17.060077Z",
     "iopub.status.idle": "2024-03-20T21:35:17.063010Z",
     "shell.execute_reply": "2024-03-20T21:35:17.062564Z"
    },
    "papermill": {
     "duration": 0.028564,
     "end_time": "2024-03-20T21:35:17.063765",
     "exception": false,
     "start_time": "2024-03-20T21:35:17.035201",
     "status": "completed"
    },
    "tags": []
   },
   "outputs": [
    {
     "name": "stdout",
     "output_type": "stream",
     "text": [
      "The broad capabilities of LLMs present challenges for their thorough evaluation, particularly in assisting with various tasks and providing answers in different formats. To address this, we focus on specific biomedical tasks and datasets and use a second LLM for automated validation of the model's responses. To ensure transparent and reproducible evaluation, we have developed a benchmarking framework that enables comparison of models, prompt sets, and other pipeline components. The Pytest framework allows for automated evaluation of all possible component combinations. Results are stored and displayed on our website for easy comparison, and the benchmark is regularly updated with new models, extensions to datasets, and BioChatter capabilities (https://biochatter.org/benchmark/).\n"
     ]
    }
   ],
   "source": [
    "par1 = process_paragraph(mod_section_paragraphs[16])\n",
    "print(par1)"
   ]
  },
  {
   "cell_type": "code",
   "execution_count": 85,
   "id": "4ca840b9-2732-4ad1-acd3-4151d8525bf6",
   "metadata": {
    "execution": {
     "iopub.execute_input": "2024-03-20T21:35:17.113529Z",
     "iopub.status.busy": "2024-03-20T21:35:17.113336Z",
     "iopub.status.idle": "2024-03-20T21:35:17.116119Z",
     "shell.execute_reply": "2024-03-20T21:35:17.115604Z"
    },
    "papermill": {
     "duration": 0.028729,
     "end_time": "2024-03-20T21:35:17.116930",
     "exception": false,
     "start_time": "2024-03-20T21:35:17.088201",
     "status": "completed"
    },
    "tags": []
   },
   "outputs": [],
   "source": [
    "paragraph_matches.append(\n",
    "    (\n",
    "        section_name,\n",
    "        par0,\n",
    "        par1,\n",
    "    )\n",
    ")"
   ]
  },
  {
   "cell_type": "code",
   "execution_count": 86,
   "id": "1353132c-a3fc-4a26-88d8-dfa7f6b048d5",
   "metadata": {
    "execution": {
     "iopub.execute_input": "2024-03-20T21:35:17.166746Z",
     "iopub.status.busy": "2024-03-20T21:35:17.166553Z",
     "iopub.status.idle": "2024-03-20T21:35:17.170323Z",
     "shell.execute_reply": "2024-03-20T21:35:17.169780Z"
    },
    "papermill": {
     "duration": 0.029614,
     "end_time": "2024-03-20T21:35:17.171102",
     "exception": false,
     "start_time": "2024-03-20T21:35:17.141488",
     "status": "completed"
    },
    "tags": []
   },
   "outputs": [
    {
     "data": {
      "text/plain": [
       "('results',\n",
       " \"The increasing generality of LLMs poses challenges for their comprehensive evaluation. Specifically, their ability to aid in a multitude of tasks and their great freedom in formatting the answers challenge their evaluation by traditional methods. To circumvent this issue, we focus on specific biomedical tasks and datasets and employ automated validation of the model's responses by a second LLM for advanced assessments. For transparent and reproducible evaluation of LLMs, we implement a benchmarking framework that allows the comparison of models, prompt sets, and all other components of the pipeline. The generic Pytest framework [@pytest] allows for the automated evaluation of a matrix of all possible combinations of components. The results are stored and displayed on our website for simple comparison, and the benchmark is updated upon the release of new models and extensions to the datasets and BioChatter capabilities ([https://biochatter.org/benchmark/](https://biochatter.org/benchmark/)).\",\n",
       " \"The broad capabilities of LLMs present challenges for their thorough evaluation, particularly in assisting with various tasks and providing answers in different formats. To address this, we focus on specific biomedical tasks and datasets and use a second LLM for automated validation of the model's responses. To ensure transparent and reproducible evaluation, we have developed a benchmarking framework that enables comparison of models, prompt sets, and other pipeline components. The Pytest framework allows for automated evaluation of all possible component combinations. Results are stored and displayed on our website for easy comparison, and the benchmark is regularly updated with new models, extensions to datasets, and BioChatter capabilities (https://biochatter.org/benchmark/).\")"
      ]
     },
     "metadata": {},
     "output_type": "display_data"
    }
   ],
   "source": [
    "display(paragraph_matches[-1])"
   ]
  },
  {
   "cell_type": "markdown",
   "id": "f69ae725-647e-4892-a316-50a103daa3fa",
   "metadata": {
    "editable": true,
    "papermill": {
     "duration": 0.024311,
     "end_time": "2024-03-20T21:35:17.220109",
     "exception": false,
     "start_time": "2024-03-20T21:35:17.195798",
     "status": "completed"
    },
    "slideshow": {
     "slide_type": ""
    },
    "tags": []
   },
   "source": [
    "####  Paragraph 08"
   ]
  },
  {
   "cell_type": "code",
   "execution_count": 87,
   "id": "a825be11-dea1-4e5f-840c-8d2bcafeeb71",
   "metadata": {
    "execution": {
     "iopub.execute_input": "2024-03-20T21:35:17.270073Z",
     "iopub.status.busy": "2024-03-20T21:35:17.269881Z",
     "iopub.status.idle": "2024-03-20T21:35:17.273038Z",
     "shell.execute_reply": "2024-03-20T21:35:17.272529Z"
    },
    "papermill": {
     "duration": 0.028912,
     "end_time": "2024-03-20T21:35:17.273793",
     "exception": false,
     "start_time": "2024-03-20T21:35:17.244881",
     "status": "completed"
    },
    "tags": []
   },
   "outputs": [
    {
     "name": "stdout",
     "output_type": "stream",
     "text": [
      "Since the biomedical domain has its own tasks and requirements [@biollmbench], we created a bespoke benchmark that allows us to be more precise in the evaluation of components. This is complementary to the existing, general-purpose benchmarks and leaderboards for LLMs [@doi:10.1038/s41586-023-06291-2;@{https://huggingface.co/spaces/HuggingFaceH4/open_llm_leaderboard};@{https://crfm.stanford.edu/helm/lite/latest/}]. Furthermore, to prevent leakage of the benchmark data into the training data of the models, a known issue in the general-purpose benchmarks [@doi:10.48550/arXiv.2310.18018], we implemented an encrypted pipeline that contains the benchmark datasets and is only accessible to the workflow that executes the benchmark (see Methods).\n"
     ]
    }
   ],
   "source": [
    "par0 = process_paragraph(orig_section_paragraphs[24])  # .replace(\" - \", \"\\n- \")\n",
    "print(par0)"
   ]
  },
  {
   "cell_type": "code",
   "execution_count": 88,
   "id": "62fef1b6-4c3c-4fc8-8d2a-a75a804174fc",
   "metadata": {
    "execution": {
     "iopub.execute_input": "2024-03-20T21:35:17.324124Z",
     "iopub.status.busy": "2024-03-20T21:35:17.323931Z",
     "iopub.status.idle": "2024-03-20T21:35:17.326876Z",
     "shell.execute_reply": "2024-03-20T21:35:17.326429Z"
    },
    "papermill": {
     "duration": 0.029173,
     "end_time": "2024-03-20T21:35:17.327621",
     "exception": false,
     "start_time": "2024-03-20T21:35:17.298448",
     "status": "completed"
    },
    "tags": []
   },
   "outputs": [
    {
     "name": "stdout",
     "output_type": "stream",
     "text": [
      "Given the unique tasks and requirements of the biomedical field, we developed a specialized benchmark to evaluate components more accurately [@biollmbench]. This complements existing general benchmarks and leaderboards for Large Language Models (LLMs) [@doi:10.1038/s41586-023-06291-2;@{https://huggingface.co/spaces/HuggingFaceH4/open_llm_leaderboard};@{https://crfm.stanford.edu/helm/lite/latest/}]. To address the issue of data leakage from benchmarks to model training data, a common problem in general benchmarks [@doi:10.48550/arXiv.2310.18018], we established an encrypted pipeline that contains benchmark datasets accessible only to the benchmark execution workflow (refer to Methods).\n"
     ]
    }
   ],
   "source": [
    "par1 = process_paragraph(mod_section_paragraphs[17])\n",
    "print(par1)"
   ]
  },
  {
   "cell_type": "code",
   "execution_count": 89,
   "id": "a7a28d9e-cbb7-4527-843e-6869a9ee40dd",
   "metadata": {
    "execution": {
     "iopub.execute_input": "2024-03-20T21:35:17.377852Z",
     "iopub.status.busy": "2024-03-20T21:35:17.377659Z",
     "iopub.status.idle": "2024-03-20T21:35:17.380436Z",
     "shell.execute_reply": "2024-03-20T21:35:17.379897Z"
    },
    "papermill": {
     "duration": 0.028777,
     "end_time": "2024-03-20T21:35:17.381190",
     "exception": false,
     "start_time": "2024-03-20T21:35:17.352413",
     "status": "completed"
    },
    "tags": []
   },
   "outputs": [],
   "source": [
    "paragraph_matches.append(\n",
    "    (\n",
    "        section_name,\n",
    "        par0,\n",
    "        par1,\n",
    "    )\n",
    ")"
   ]
  },
  {
   "cell_type": "code",
   "execution_count": 90,
   "id": "10674c2e-fdbb-445d-8c63-8289c4554e22",
   "metadata": {
    "execution": {
     "iopub.execute_input": "2024-03-20T21:35:17.431256Z",
     "iopub.status.busy": "2024-03-20T21:35:17.431066Z",
     "iopub.status.idle": "2024-03-20T21:35:17.434919Z",
     "shell.execute_reply": "2024-03-20T21:35:17.434415Z"
    },
    "papermill": {
     "duration": 0.029805,
     "end_time": "2024-03-20T21:35:17.435614",
     "exception": false,
     "start_time": "2024-03-20T21:35:17.405809",
     "status": "completed"
    },
    "tags": []
   },
   "outputs": [
    {
     "data": {
      "text/plain": [
       "('results',\n",
       " 'Since the biomedical domain has its own tasks and requirements [@biollmbench], we created a bespoke benchmark that allows us to be more precise in the evaluation of components. This is complementary to the existing, general-purpose benchmarks and leaderboards for LLMs [@doi:10.1038/s41586-023-06291-2;@{https://huggingface.co/spaces/HuggingFaceH4/open_llm_leaderboard};@{https://crfm.stanford.edu/helm/lite/latest/}]. Furthermore, to prevent leakage of the benchmark data into the training data of the models, a known issue in the general-purpose benchmarks [@doi:10.48550/arXiv.2310.18018], we implemented an encrypted pipeline that contains the benchmark datasets and is only accessible to the workflow that executes the benchmark (see Methods).',\n",
       " 'Given the unique tasks and requirements of the biomedical field, we developed a specialized benchmark to evaluate components more accurately [@biollmbench]. This complements existing general benchmarks and leaderboards for Large Language Models (LLMs) [@doi:10.1038/s41586-023-06291-2;@{https://huggingface.co/spaces/HuggingFaceH4/open_llm_leaderboard};@{https://crfm.stanford.edu/helm/lite/latest/}]. To address the issue of data leakage from benchmarks to model training data, a common problem in general benchmarks [@doi:10.48550/arXiv.2310.18018], we established an encrypted pipeline that contains benchmark datasets accessible only to the benchmark execution workflow (refer to Methods).')"
      ]
     },
     "metadata": {},
     "output_type": "display_data"
    }
   ],
   "source": [
    "display(paragraph_matches[-1])"
   ]
  },
  {
   "cell_type": "markdown",
   "id": "65a5357e-3f1c-4f7f-b7ab-57ddf3f683a4",
   "metadata": {
    "editable": true,
    "papermill": {
     "duration": 0.02467,
     "end_time": "2024-03-20T21:35:17.485057",
     "exception": false,
     "start_time": "2024-03-20T21:35:17.460387",
     "status": "completed"
    },
    "slideshow": {
     "slide_type": ""
    },
    "tags": []
   },
   "source": [
    "####  Paragraph 09"
   ]
  },
  {
   "cell_type": "code",
   "execution_count": 91,
   "id": "53251a46-75d0-4b4e-ac43-6a6b0d3543cd",
   "metadata": {
    "execution": {
     "iopub.execute_input": "2024-03-20T21:35:17.535298Z",
     "iopub.status.busy": "2024-03-20T21:35:17.535102Z",
     "iopub.status.idle": "2024-03-20T21:35:17.538208Z",
     "shell.execute_reply": "2024-03-20T21:35:17.537695Z"
    },
    "papermill": {
     "duration": 0.029077,
     "end_time": "2024-03-20T21:35:17.538930",
     "exception": false,
     "start_time": "2024-03-20T21:35:17.509853",
     "status": "completed"
    },
    "tags": []
   },
   "outputs": [
    {
     "name": "stdout",
     "output_type": "stream",
     "text": [
      "Analysis of these benchmarks confirmed the prevailing opinion of OpenAI's leading role in LLM performance (Figure @fig:benchmark A). Since the benchmark datasets were created to specifically cover functions relevant in BioChatter's application domain, the benchmark results are primarily a measure of the LLMs' usefulness in our applications. OpenAI's GPT models (gpt-4 and gpt-3.5-turbo) lead by some margin on overall performance and consistency, but several open-source models reach high performance in specific tasks. Of note, while the newer version (0125) of gpt-3.5-turbo outperforms the previous version (0613) of gpt-4, version 0125 of gpt-4 shows a significant drop in performance. The performance of open-source models appears to depend on their quantisation level, i.e., the bit-precision used to represent the model's parameters. For models that offer quantisation options, performance apparently plateaus or even decreases after the 4- or 5-bit mark (Figure @fig:benchmark A). There is no apparent correlation between model size and performance (Pearson's r = 0.171, p < 0.001).\n"
     ]
    }
   ],
   "source": [
    "par0 = process_paragraph(orig_section_paragraphs[25])  # .replace(\" - \", \"\\n- \")\n",
    "print(par0)"
   ]
  },
  {
   "cell_type": "code",
   "execution_count": 92,
   "id": "672ee53b-51da-4aea-8b5c-e9cfd7cd2109",
   "metadata": {
    "execution": {
     "iopub.execute_input": "2024-03-20T21:35:17.589126Z",
     "iopub.status.busy": "2024-03-20T21:35:17.588932Z",
     "iopub.status.idle": "2024-03-20T21:35:17.591818Z",
     "shell.execute_reply": "2024-03-20T21:35:17.591355Z"
    },
    "papermill": {
     "duration": 0.028751,
     "end_time": "2024-03-20T21:35:17.592509",
     "exception": false,
     "start_time": "2024-03-20T21:35:17.563758",
     "status": "completed"
    },
    "tags": []
   },
   "outputs": [
    {
     "name": "stdout",
     "output_type": "stream",
     "text": [
      "Analysis of the benchmark results (Figure @fig:benchmark A) confirmed OpenAI's strong performance in large language models (LLMs). The benchmark datasets were tailored to BioChatter's needs, making these results particularly relevant. OpenAI's GPT models (gpt-4 and gpt-3.5-turbo) outperformed others overall, with gpt-3.5-turbo version 0125 surpassing gpt-4 version 0613. Interestingly, gpt-4 version 0125 showed a decrease in performance. Open-source models performed well in specific tasks, with performance leveling off or declining after 4-5 bit quantization. Model size did not correlate with performance (Pearson's r = 0.171, p < 0.001).\n"
     ]
    }
   ],
   "source": [
    "par1 = process_paragraph(mod_section_paragraphs[18])\n",
    "print(par1)"
   ]
  },
  {
   "cell_type": "code",
   "execution_count": 93,
   "id": "ea8ea3a8-4600-4884-924c-af4816e8bb2c",
   "metadata": {
    "execution": {
     "iopub.execute_input": "2024-03-20T21:35:17.666624Z",
     "iopub.status.busy": "2024-03-20T21:35:17.666431Z",
     "iopub.status.idle": "2024-03-20T21:35:17.669016Z",
     "shell.execute_reply": "2024-03-20T21:35:17.668577Z"
    },
    "papermill": {
     "duration": 0.02876,
     "end_time": "2024-03-20T21:35:17.669793",
     "exception": false,
     "start_time": "2024-03-20T21:35:17.641033",
     "status": "completed"
    },
    "tags": []
   },
   "outputs": [],
   "source": [
    "paragraph_matches.append(\n",
    "    (\n",
    "        section_name,\n",
    "        par0,\n",
    "        par1,\n",
    "    )\n",
    ")"
   ]
  },
  {
   "cell_type": "code",
   "execution_count": 94,
   "id": "c84c5ee4-a129-4a39-bef8-8479eb11d856",
   "metadata": {
    "execution": {
     "iopub.execute_input": "2024-03-20T21:35:17.720205Z",
     "iopub.status.busy": "2024-03-20T21:35:17.719824Z",
     "iopub.status.idle": "2024-03-20T21:35:17.723312Z",
     "shell.execute_reply": "2024-03-20T21:35:17.722890Z"
    },
    "papermill": {
     "duration": 0.029499,
     "end_time": "2024-03-20T21:35:17.724037",
     "exception": false,
     "start_time": "2024-03-20T21:35:17.694538",
     "status": "completed"
    },
    "tags": []
   },
   "outputs": [
    {
     "data": {
      "text/plain": [
       "('results',\n",
       " \"Analysis of these benchmarks confirmed the prevailing opinion of OpenAI's leading role in LLM performance (Figure @fig:benchmark A). Since the benchmark datasets were created to specifically cover functions relevant in BioChatter's application domain, the benchmark results are primarily a measure of the LLMs' usefulness in our applications. OpenAI's GPT models (gpt-4 and gpt-3.5-turbo) lead by some margin on overall performance and consistency, but several open-source models reach high performance in specific tasks. Of note, while the newer version (0125) of gpt-3.5-turbo outperforms the previous version (0613) of gpt-4, version 0125 of gpt-4 shows a significant drop in performance. The performance of open-source models appears to depend on their quantisation level, i.e., the bit-precision used to represent the model's parameters. For models that offer quantisation options, performance apparently plateaus or even decreases after the 4- or 5-bit mark (Figure @fig:benchmark A). There is no apparent correlation between model size and performance (Pearson's r = 0.171, p < 0.001).\",\n",
       " \"Analysis of the benchmark results (Figure @fig:benchmark A) confirmed OpenAI's strong performance in large language models (LLMs). The benchmark datasets were tailored to BioChatter's needs, making these results particularly relevant. OpenAI's GPT models (gpt-4 and gpt-3.5-turbo) outperformed others overall, with gpt-3.5-turbo version 0125 surpassing gpt-4 version 0613. Interestingly, gpt-4 version 0125 showed a decrease in performance. Open-source models performed well in specific tasks, with performance leveling off or declining after 4-5 bit quantization. Model size did not correlate with performance (Pearson's r = 0.171, p < 0.001).\")"
      ]
     },
     "metadata": {},
     "output_type": "display_data"
    }
   ],
   "source": [
    "display(paragraph_matches[-1])"
   ]
  },
  {
   "cell_type": "markdown",
   "id": "54327d94-0a86-4564-a584-7791a11a2178",
   "metadata": {
    "editable": true,
    "papermill": {
     "duration": 0.024987,
     "end_time": "2024-03-20T21:35:17.773971",
     "exception": false,
     "start_time": "2024-03-20T21:35:17.748984",
     "status": "completed"
    },
    "slideshow": {
     "slide_type": ""
    },
    "tags": []
   },
   "source": [
    "####  Paragraph 10"
   ]
  },
  {
   "cell_type": "code",
   "execution_count": 95,
   "id": "61004c9b-5f28-4d97-86b9-9ac9d42e9213",
   "metadata": {
    "execution": {
     "iopub.execute_input": "2024-03-20T21:35:17.824408Z",
     "iopub.status.busy": "2024-03-20T21:35:17.824173Z",
     "iopub.status.idle": "2024-03-20T21:35:17.827231Z",
     "shell.execute_reply": "2024-03-20T21:35:17.826782Z"
    },
    "papermill": {
     "duration": 0.029063,
     "end_time": "2024-03-20T21:35:17.827897",
     "exception": false,
     "start_time": "2024-03-20T21:35:17.798834",
     "status": "completed"
    },
    "tags": []
   },
   "outputs": [
    {
     "name": "stdout",
     "output_type": "stream",
     "text": [
      "To evaluate the benefit of BioChatter functionality, we compared the performance of models with and without the use of BioChatter's prompt engine for KG querying. The models without prompt engine still have access to the BioCypher schema definition, which details the KG structure, but they do not use the multi-step procedure available through BioChatter. Consequently, the models without prompt engine show a lower performance in creating correct queries than the same models with prompt engine (0.444±0.11 vs. 0.818±0.11, unpaired t-test P < 0.001, Figure @fig:benchmark B).\n"
     ]
    }
   ],
   "source": [
    "par0 = process_paragraph(orig_section_paragraphs[26])  # .replace(\" - \", \"\\n- \")\n",
    "print(par0)"
   ]
  },
  {
   "cell_type": "code",
   "execution_count": 96,
   "id": "b4a4cd91-c391-42ec-b0ec-7e30a78f03df",
   "metadata": {
    "execution": {
     "iopub.execute_input": "2024-03-20T21:35:17.878474Z",
     "iopub.status.busy": "2024-03-20T21:35:17.878285Z",
     "iopub.status.idle": "2024-03-20T21:35:17.881132Z",
     "shell.execute_reply": "2024-03-20T21:35:17.880692Z"
    },
    "papermill": {
     "duration": 0.028879,
     "end_time": "2024-03-20T21:35:17.881792",
     "exception": false,
     "start_time": "2024-03-20T21:35:17.852913",
     "status": "completed"
    },
    "tags": []
   },
   "outputs": [
    {
     "name": "stdout",
     "output_type": "stream",
     "text": [
      "To assess the impact of BioChatter functionality, we compared model performance with and without the prompt engine for KG querying. Models lacking the prompt engine can access the BioCypher schema definition outlining the KG structure but lack the multi-step procedure offered by BioChatter. Models without the prompt engine exhibit lower query accuracy compared to those with the prompt engine (0.444±0.11 vs. 0.818±0.11, unpaired t-test P < 0.001, Figure 2B).\n"
     ]
    }
   ],
   "source": [
    "par1 = process_paragraph(mod_section_paragraphs[19])\n",
    "print(par1)"
   ]
  },
  {
   "cell_type": "code",
   "execution_count": 97,
   "id": "b2370a90-85eb-4070-8bfd-60d5cb818b4b",
   "metadata": {
    "execution": {
     "iopub.execute_input": "2024-03-20T21:35:17.932614Z",
     "iopub.status.busy": "2024-03-20T21:35:17.932423Z",
     "iopub.status.idle": "2024-03-20T21:35:17.934992Z",
     "shell.execute_reply": "2024-03-20T21:35:17.934553Z"
    },
    "papermill": {
     "duration": 0.028854,
     "end_time": "2024-03-20T21:35:17.935718",
     "exception": false,
     "start_time": "2024-03-20T21:35:17.906864",
     "status": "completed"
    },
    "tags": []
   },
   "outputs": [],
   "source": [
    "paragraph_matches.append(\n",
    "    (\n",
    "        section_name,\n",
    "        par0,\n",
    "        par1,\n",
    "    )\n",
    ")"
   ]
  },
  {
   "cell_type": "code",
   "execution_count": 98,
   "id": "91d9a9c4-6833-4fbf-829d-22f8866240e9",
   "metadata": {
    "execution": {
     "iopub.execute_input": "2024-03-20T21:35:17.986142Z",
     "iopub.status.busy": "2024-03-20T21:35:17.985950Z",
     "iopub.status.idle": "2024-03-20T21:35:17.989502Z",
     "shell.execute_reply": "2024-03-20T21:35:17.989071Z"
    },
    "papermill": {
     "duration": 0.029558,
     "end_time": "2024-03-20T21:35:17.990150",
     "exception": false,
     "start_time": "2024-03-20T21:35:17.960592",
     "status": "completed"
    },
    "tags": []
   },
   "outputs": [
    {
     "data": {
      "text/plain": [
       "('results',\n",
       " \"To evaluate the benefit of BioChatter functionality, we compared the performance of models with and without the use of BioChatter's prompt engine for KG querying. The models without prompt engine still have access to the BioCypher schema definition, which details the KG structure, but they do not use the multi-step procedure available through BioChatter. Consequently, the models without prompt engine show a lower performance in creating correct queries than the same models with prompt engine (0.444±0.11 vs. 0.818±0.11, unpaired t-test P < 0.001, Figure @fig:benchmark B).\",\n",
       " 'To assess the impact of BioChatter functionality, we compared model performance with and without the prompt engine for KG querying. Models lacking the prompt engine can access the BioCypher schema definition outlining the KG structure but lack the multi-step procedure offered by BioChatter. Models without the prompt engine exhibit lower query accuracy compared to those with the prompt engine (0.444±0.11 vs. 0.818±0.11, unpaired t-test P < 0.001, Figure 2B).')"
      ]
     },
     "metadata": {},
     "output_type": "display_data"
    }
   ],
   "source": [
    "display(paragraph_matches[-1])"
   ]
  },
  {
   "cell_type": "markdown",
   "id": "0a311a52-d06f-4f08-905f-465c282ff625",
   "metadata": {
    "editable": true,
    "papermill": {
     "duration": 0.025027,
     "end_time": "2024-03-20T21:35:18.040099",
     "exception": false,
     "start_time": "2024-03-20T21:35:18.015072",
     "status": "completed"
    },
    "slideshow": {
     "slide_type": ""
    },
    "tags": []
   },
   "source": [
    "## Discussion"
   ]
  },
  {
   "cell_type": "code",
   "execution_count": 99,
   "id": "70e3c270-751e-48b1-a705-7ed67d9298b8",
   "metadata": {
    "execution": {
     "iopub.execute_input": "2024-03-20T21:35:18.090748Z",
     "iopub.status.busy": "2024-03-20T21:35:18.090557Z",
     "iopub.status.idle": "2024-03-20T21:35:18.093162Z",
     "shell.execute_reply": "2024-03-20T21:35:18.092657Z"
    },
    "papermill": {
     "duration": 0.028905,
     "end_time": "2024-03-20T21:35:18.093898",
     "exception": false,
     "start_time": "2024-03-20T21:35:18.064993",
     "status": "completed"
    },
    "tags": []
   },
   "outputs": [],
   "source": [
    "section_name = \"discussion\""
   ]
  },
  {
   "cell_type": "code",
   "execution_count": 100,
   "id": "da50ce41-3f94-4ca1-8c72-3d2aa29b536b",
   "metadata": {
    "editable": true,
    "execution": {
     "iopub.execute_input": "2024-03-20T21:35:18.144274Z",
     "iopub.status.busy": "2024-03-20T21:35:18.144082Z",
     "iopub.status.idle": "2024-03-20T21:35:18.147364Z",
     "shell.execute_reply": "2024-03-20T21:35:18.146847Z"
    },
    "papermill": {
     "duration": 0.029398,
     "end_time": "2024-03-20T21:35:18.148093",
     "exception": false,
     "start_time": "2024-03-20T21:35:18.118695",
     "status": "completed"
    },
    "slideshow": {
     "slide_type": ""
    },
    "tags": []
   },
   "outputs": [
    {
     "name": "stdout",
     "output_type": "stream",
     "text": [
      "content/30.discussion.md\n"
     ]
    }
   ],
   "source": [
    "pr_filename = pr_files[3].filename\n",
    "assert section_name in pr_filename\n",
    "print(pr_filename)"
   ]
  },
  {
   "cell_type": "markdown",
   "id": "15bcc7d8-ab7b-4475-95ad-6d9c3763aba2",
   "metadata": {
    "editable": true,
    "papermill": {
     "duration": 0.024875,
     "end_time": "2024-03-20T21:35:18.197871",
     "exception": false,
     "start_time": "2024-03-20T21:35:18.172996",
     "status": "completed"
    },
    "slideshow": {
     "slide_type": ""
    },
    "tags": []
   },
   "source": [
    "### Original"
   ]
  },
  {
   "cell_type": "code",
   "execution_count": 101,
   "id": "5bbec300-ce51-46d0-8e4d-b2ba822ec608",
   "metadata": {
    "execution": {
     "iopub.execute_input": "2024-03-20T21:35:18.248727Z",
     "iopub.status.busy": "2024-03-20T21:35:18.248534Z",
     "iopub.status.idle": "2024-03-20T21:35:18.410691Z",
     "shell.execute_reply": "2024-03-20T21:35:18.410116Z"
    },
    "papermill": {
     "duration": 0.188969,
     "end_time": "2024-03-20T21:35:18.411879",
     "exception": false,
     "start_time": "2024-03-20T21:35:18.222910",
     "status": "completed"
    },
    "tags": []
   },
   "outputs": [
    {
     "name": "stdout",
     "output_type": "stream",
     "text": [
      "## Discussion\n",
      "\n",
      "The fast pace of developments aroun\n"
     ]
    }
   ],
   "source": [
    "# get content\n",
    "orig_section_content = repo.get_contents(pr_filename, pr_prev).decoded_content.decode(\n",
    "    \"utf-8\"\n",
    ")\n",
    "print(orig_section_content[:50])"
   ]
  },
  {
   "cell_type": "code",
   "execution_count": 102,
   "id": "2ab78222-da5b-4d1e-93dd-e35a085a962f",
   "metadata": {
    "execution": {
     "iopub.execute_input": "2024-03-20T21:35:18.500862Z",
     "iopub.status.busy": "2024-03-20T21:35:18.500423Z",
     "iopub.status.idle": "2024-03-20T21:35:18.503959Z",
     "shell.execute_reply": "2024-03-20T21:35:18.503516Z"
    },
    "papermill": {
     "duration": 0.045243,
     "end_time": "2024-03-20T21:35:18.504665",
     "exception": false,
     "start_time": "2024-03-20T21:35:18.459422",
     "status": "completed"
    },
    "tags": []
   },
   "outputs": [
    {
     "data": {
      "text/plain": [
       "10"
      ]
     },
     "metadata": {},
     "output_type": "display_data"
    }
   ],
   "source": [
    "# split by paragraph\n",
    "orig_section_paragraphs = orig_section_content.split(\"\\n\\n\")\n",
    "display(len(orig_section_paragraphs))"
   ]
  },
  {
   "cell_type": "markdown",
   "id": "a0a475a1-c746-4b66-b096-99df8a9e4688",
   "metadata": {
    "editable": true,
    "papermill": {
     "duration": 0.02492,
     "end_time": "2024-03-20T21:35:18.554629",
     "exception": false,
     "start_time": "2024-03-20T21:35:18.529709",
     "status": "completed"
    },
    "slideshow": {
     "slide_type": ""
    },
    "tags": []
   },
   "source": [
    "### Modified"
   ]
  },
  {
   "cell_type": "code",
   "execution_count": 103,
   "id": "b4046c3e-0e66-44fe-8902-822d461fb6ea",
   "metadata": {
    "execution": {
     "iopub.execute_input": "2024-03-20T21:35:18.605572Z",
     "iopub.status.busy": "2024-03-20T21:35:18.605382Z",
     "iopub.status.idle": "2024-03-20T21:35:18.808279Z",
     "shell.execute_reply": "2024-03-20T21:35:18.807812Z"
    },
    "papermill": {
     "duration": 0.229462,
     "end_time": "2024-03-20T21:35:18.809042",
     "exception": false,
     "start_time": "2024-03-20T21:35:18.579580",
     "status": "completed"
    },
    "tags": []
   },
   "outputs": [
    {
     "name": "stdout",
     "output_type": "stream",
     "text": [
      "## Discussion\n",
      "\n",
      "The rapid progress of current-gener\n"
     ]
    }
   ],
   "source": [
    "# get content\n",
    "mod_section_content = repo.get_contents(pr_filename, pr_curr).decoded_content.decode(\n",
    "    \"utf-8\"\n",
    ")\n",
    "print(mod_section_content[:50])"
   ]
  },
  {
   "cell_type": "code",
   "execution_count": 104,
   "id": "0f0d8b54-f62f-45c9-861a-ab579ac0d46b",
   "metadata": {
    "execution": {
     "iopub.execute_input": "2024-03-20T21:35:18.859535Z",
     "iopub.status.busy": "2024-03-20T21:35:18.859343Z",
     "iopub.status.idle": "2024-03-20T21:35:18.862876Z",
     "shell.execute_reply": "2024-03-20T21:35:18.862444Z"
    },
    "papermill": {
     "duration": 0.029621,
     "end_time": "2024-03-20T21:35:18.863571",
     "exception": false,
     "start_time": "2024-03-20T21:35:18.833950",
     "status": "completed"
    },
    "tags": []
   },
   "outputs": [
    {
     "data": {
      "text/plain": [
       "10"
      ]
     },
     "metadata": {},
     "output_type": "display_data"
    }
   ],
   "source": [
    "# split by paragraph\n",
    "mod_section_paragraphs = mod_section_content.split(\"\\n\\n\")\n",
    "display(len(mod_section_paragraphs))"
   ]
  },
  {
   "cell_type": "markdown",
   "id": "eb98b790-a12a-4eff-9074-357374cc8386",
   "metadata": {
    "editable": true,
    "papermill": {
     "duration": 0.025272,
     "end_time": "2024-03-20T21:35:18.913935",
     "exception": false,
     "start_time": "2024-03-20T21:35:18.888663",
     "status": "completed"
    },
    "slideshow": {
     "slide_type": ""
    },
    "tags": []
   },
   "source": [
    "### Match"
   ]
  },
  {
   "cell_type": "code",
   "execution_count": 105,
   "id": "5147ec0f-7e00-4e5b-9c17-73e17ccb3ab4",
   "metadata": {
    "execution": {
     "iopub.execute_input": "2024-03-20T21:35:18.965042Z",
     "iopub.status.busy": "2024-03-20T21:35:18.964850Z",
     "iopub.status.idle": "2024-03-20T21:35:18.968247Z",
     "shell.execute_reply": "2024-03-20T21:35:18.967821Z"
    },
    "papermill": {
     "duration": 0.0298,
     "end_time": "2024-03-20T21:35:18.968987",
     "exception": false,
     "start_time": "2024-03-20T21:35:18.939187",
     "status": "completed"
    },
    "tags": []
   },
   "outputs": [
    {
     "data": {
      "text/plain": [
       "'## Discussion'"
      ]
     },
     "execution_count": 105,
     "metadata": {},
     "output_type": "execute_result"
    }
   ],
   "source": [
    "orig_section_paragraphs[0]"
   ]
  },
  {
   "cell_type": "code",
   "execution_count": 106,
   "id": "f7f66854-8226-4d44-a5d9-c77da74fcb02",
   "metadata": {
    "execution": {
     "iopub.execute_input": "2024-03-20T21:35:19.020441Z",
     "iopub.status.busy": "2024-03-20T21:35:19.020235Z",
     "iopub.status.idle": "2024-03-20T21:35:19.023574Z",
     "shell.execute_reply": "2024-03-20T21:35:19.023141Z"
    },
    "papermill": {
     "duration": 0.029998,
     "end_time": "2024-03-20T21:35:19.024268",
     "exception": false,
     "start_time": "2024-03-20T21:35:18.994270",
     "status": "completed"
    },
    "tags": []
   },
   "outputs": [
    {
     "data": {
      "text/plain": [
       "'## Discussion'"
      ]
     },
     "execution_count": 106,
     "metadata": {},
     "output_type": "execute_result"
    }
   ],
   "source": [
    "mod_section_paragraphs[0]"
   ]
  },
  {
   "cell_type": "markdown",
   "id": "d92ee9ca-a186-40ab-b166-470691476a5d",
   "metadata": {
    "editable": true,
    "papermill": {
     "duration": 0.025251,
     "end_time": "2024-03-20T21:35:19.074725",
     "exception": false,
     "start_time": "2024-03-20T21:35:19.049474",
     "status": "completed"
    },
    "slideshow": {
     "slide_type": ""
    },
    "tags": []
   },
   "source": [
    "####  Paragraph 00"
   ]
  },
  {
   "cell_type": "code",
   "execution_count": 107,
   "id": "cab5a53a-cfb9-4453-a5e7-d9c94cf44b42",
   "metadata": {
    "execution": {
     "iopub.execute_input": "2024-03-20T21:35:19.149073Z",
     "iopub.status.busy": "2024-03-20T21:35:19.148883Z",
     "iopub.status.idle": "2024-03-20T21:35:19.151834Z",
     "shell.execute_reply": "2024-03-20T21:35:19.151400Z"
    },
    "papermill": {
     "duration": 0.052614,
     "end_time": "2024-03-20T21:35:19.152541",
     "exception": false,
     "start_time": "2024-03-20T21:35:19.099927",
     "status": "completed"
    },
    "tags": []
   },
   "outputs": [
    {
     "name": "stdout",
     "output_type": "stream",
     "text": [
      "The fast pace of developments around current-generation LLMs poses a great challenge to society as a whole and the biomedical community in particular [@doi:10.1038/d41586-024-00029-4;@doi:10.1038/d41586-023-03817-6;@doi:10.1038/d41586-023-03803-y]. While the potential of these models is enormous, their application is not straightforward, and their use requires a certain level of expertise [@doi:10.1038/s41587-023-02103-0]. In addition, biomedical research is often performed in a siloed way due to the complexity of the domain and systemic incentives that work against open science and collaboration [@doi:10.1177/1745691612459058;@doi:10.1038/d41586-024-00322-2]. Inspired by the productivity of open source libraries such as LangChain [@langchain], we propose an open framework that allows biomedical researchers to focus on the application of LLMs as opposed to engineering challenges. To keep the framework effective and sustainable, we reuse existing open-source libraries and tools while adapting the advancements from the wider LLM community to the biomedical domain. The transparency we emphasise at every step of the framework is essential to a sustainable application of LLMs in biomedical research and beyond [@doi:10.1038/d41586-024-00029-4].\n"
     ]
    }
   ],
   "source": [
    "par0 = process_paragraph(orig_section_paragraphs[1])\n",
    "print(par0)"
   ]
  },
  {
   "cell_type": "code",
   "execution_count": 108,
   "id": "84c75b53-48ef-433f-a63c-8995b7b9637d",
   "metadata": {
    "execution": {
     "iopub.execute_input": "2024-03-20T21:35:19.204021Z",
     "iopub.status.busy": "2024-03-20T21:35:19.203832Z",
     "iopub.status.idle": "2024-03-20T21:35:19.206829Z",
     "shell.execute_reply": "2024-03-20T21:35:19.206382Z"
    },
    "papermill": {
     "duration": 0.029563,
     "end_time": "2024-03-20T21:35:19.207560",
     "exception": false,
     "start_time": "2024-03-20T21:35:19.177997",
     "status": "completed"
    },
    "tags": []
   },
   "outputs": [
    {
     "name": "stdout",
     "output_type": "stream",
     "text": [
      "The rapid progress of current-generation Large Language Models (LLMs) presents a significant challenge to society and the biomedical field specifically (Nature, 2024; Nature, 2023; Nature, 2023). While these models hold immense potential, their implementation is complex and requires expertise (Nature, 2023). Furthermore, biomedical research is often conducted in isolation due to the intricate nature of the domain and incentives that hinder open collaboration (Nature, 2012; Nature, 2024). Taking inspiration from successful open-source platforms like LangChain, we suggest an open framework for biomedical researchers to focus on utilizing LLMs rather than dealing with technical obstacles. To ensure the framework's effectiveness and longevity, we leverage existing open-source tools while incorporating innovations from the broader LLM community into the biomedical field. Emphasizing transparency at each stage of the framework is crucial for the sustainable application of LLMs in biomedical research and beyond (Nature, 2024).\n"
     ]
    }
   ],
   "source": [
    "par1 = process_paragraph(mod_section_paragraphs[1])\n",
    "print(par1)"
   ]
  },
  {
   "cell_type": "code",
   "execution_count": 109,
   "id": "cd9d734b-5a88-46ee-aea6-7be4ffbfd31c",
   "metadata": {
    "execution": {
     "iopub.execute_input": "2024-03-20T21:35:19.259018Z",
     "iopub.status.busy": "2024-03-20T21:35:19.258827Z",
     "iopub.status.idle": "2024-03-20T21:35:19.261482Z",
     "shell.execute_reply": "2024-03-20T21:35:19.261032Z"
    },
    "papermill": {
     "duration": 0.029169,
     "end_time": "2024-03-20T21:35:19.262188",
     "exception": false,
     "start_time": "2024-03-20T21:35:19.233019",
     "status": "completed"
    },
    "tags": []
   },
   "outputs": [],
   "source": [
    "paragraph_matches.append(\n",
    "    (\n",
    "        section_name,\n",
    "        par0,\n",
    "        par1,\n",
    "    )\n",
    ")"
   ]
  },
  {
   "cell_type": "code",
   "execution_count": 110,
   "id": "323699ec-6dcd-4bad-8261-871c43b7c9a4",
   "metadata": {
    "execution": {
     "iopub.execute_input": "2024-03-20T21:35:19.313490Z",
     "iopub.status.busy": "2024-03-20T21:35:19.313298Z",
     "iopub.status.idle": "2024-03-20T21:35:19.316831Z",
     "shell.execute_reply": "2024-03-20T21:35:19.316391Z"
    },
    "papermill": {
     "duration": 0.029995,
     "end_time": "2024-03-20T21:35:19.317541",
     "exception": false,
     "start_time": "2024-03-20T21:35:19.287546",
     "status": "completed"
    },
    "tags": []
   },
   "outputs": [
    {
     "data": {
      "text/plain": [
       "('discussion',\n",
       " 'The fast pace of developments around current-generation LLMs poses a great challenge to society as a whole and the biomedical community in particular [@doi:10.1038/d41586-024-00029-4;@doi:10.1038/d41586-023-03817-6;@doi:10.1038/d41586-023-03803-y]. While the potential of these models is enormous, their application is not straightforward, and their use requires a certain level of expertise [@doi:10.1038/s41587-023-02103-0]. In addition, biomedical research is often performed in a siloed way due to the complexity of the domain and systemic incentives that work against open science and collaboration [@doi:10.1177/1745691612459058;@doi:10.1038/d41586-024-00322-2]. Inspired by the productivity of open source libraries such as LangChain [@langchain], we propose an open framework that allows biomedical researchers to focus on the application of LLMs as opposed to engineering challenges. To keep the framework effective and sustainable, we reuse existing open-source libraries and tools while adapting the advancements from the wider LLM community to the biomedical domain. The transparency we emphasise at every step of the framework is essential to a sustainable application of LLMs in biomedical research and beyond [@doi:10.1038/d41586-024-00029-4].',\n",
       " \"The rapid progress of current-generation Large Language Models (LLMs) presents a significant challenge to society and the biomedical field specifically (Nature, 2024; Nature, 2023; Nature, 2023). While these models hold immense potential, their implementation is complex and requires expertise (Nature, 2023). Furthermore, biomedical research is often conducted in isolation due to the intricate nature of the domain and incentives that hinder open collaboration (Nature, 2012; Nature, 2024). Taking inspiration from successful open-source platforms like LangChain, we suggest an open framework for biomedical researchers to focus on utilizing LLMs rather than dealing with technical obstacles. To ensure the framework's effectiveness and longevity, we leverage existing open-source tools while incorporating innovations from the broader LLM community into the biomedical field. Emphasizing transparency at each stage of the framework is crucial for the sustainable application of LLMs in biomedical research and beyond (Nature, 2024).\")"
      ]
     },
     "metadata": {},
     "output_type": "display_data"
    }
   ],
   "source": [
    "display(paragraph_matches[-1])"
   ]
  },
  {
   "cell_type": "markdown",
   "id": "c723624a-d413-4331-ae11-7e0fff81f925",
   "metadata": {
    "editable": true,
    "papermill": {
     "duration": 0.025465,
     "end_time": "2024-03-20T21:35:19.368796",
     "exception": false,
     "start_time": "2024-03-20T21:35:19.343331",
     "status": "completed"
    },
    "slideshow": {
     "slide_type": ""
    },
    "tags": []
   },
   "source": [
    "####  Paragraph 01"
   ]
  },
  {
   "cell_type": "code",
   "execution_count": 111,
   "id": "85389552-28ba-4023-a3e7-cad96a96c4e2",
   "metadata": {
    "execution": {
     "iopub.execute_input": "2024-03-20T21:35:19.420439Z",
     "iopub.status.busy": "2024-03-20T21:35:19.420209Z",
     "iopub.status.idle": "2024-03-20T21:35:19.423215Z",
     "shell.execute_reply": "2024-03-20T21:35:19.422767Z"
    },
    "papermill": {
     "duration": 0.029736,
     "end_time": "2024-03-20T21:35:19.423910",
     "exception": false,
     "start_time": "2024-03-20T21:35:19.394174",
     "status": "completed"
    },
    "tags": []
   },
   "outputs": [
    {
     "name": "stdout",
     "output_type": "stream",
     "text": [
      "Efficient human-AI interaction may require a \"lingua franca\": symbolic representations of concepts at least at the surface level of the conversation [@doi:10.1609/aaai.v36i11.21488]. We enable interaction with LLMs on a symbolic level by providing ontological grounding via the synergy of BioChatter with BioCypher KGs. The configuration of BioCypher KGs allows the user to specify the contextual domain by mapping KG concepts to existing ontologies and custom terminology. This way, we guarantee an overlap in the contextual understanding of user and LLM despite the generic nature of most pre-trained models.\n"
     ]
    }
   ],
   "source": [
    "par0 = process_paragraph(orig_section_paragraphs[2])\n",
    "print(par0)"
   ]
  },
  {
   "cell_type": "code",
   "execution_count": 112,
   "id": "2128e3ae-2f52-4975-a5e3-6c5c15d0c43c",
   "metadata": {
    "execution": {
     "iopub.execute_input": "2024-03-20T21:35:19.475357Z",
     "iopub.status.busy": "2024-03-20T21:35:19.475167Z",
     "iopub.status.idle": "2024-03-20T21:35:19.478090Z",
     "shell.execute_reply": "2024-03-20T21:35:19.477641Z"
    },
    "papermill": {
     "duration": 0.0294,
     "end_time": "2024-03-20T21:35:19.478801",
     "exception": false,
     "start_time": "2024-03-20T21:35:19.449401",
     "status": "completed"
    },
    "tags": []
   },
   "outputs": [
    {
     "name": "stdout",
     "output_type": "stream",
     "text": [
      "Efficient communication between humans and artificial intelligence may benefit from a common language: symbolic representations of concepts that are easily understood during conversation (Smith, 2019). Our platform facilitates interaction with large language models (LLMs) using symbolic representations through the integration of BioChatter with BioCypher knowledge graphs (KGs). The setup of BioCypher KGs enables users to define the specific domain context by linking KG concepts to established ontologies and personalized terminology. This approach ensures a shared understanding of the context between the user and the LLM, even though most pre-trained models are generally applicable.\n"
     ]
    }
   ],
   "source": [
    "par1 = process_paragraph(mod_section_paragraphs[2])\n",
    "print(par1)"
   ]
  },
  {
   "cell_type": "code",
   "execution_count": 113,
   "id": "1b63a1b9-3f26-4699-b39c-a1ace66c05ff",
   "metadata": {
    "execution": {
     "iopub.execute_input": "2024-03-20T21:35:19.530443Z",
     "iopub.status.busy": "2024-03-20T21:35:19.530251Z",
     "iopub.status.idle": "2024-03-20T21:35:19.532883Z",
     "shell.execute_reply": "2024-03-20T21:35:19.532443Z"
    },
    "papermill": {
     "duration": 0.02941,
     "end_time": "2024-03-20T21:35:19.533552",
     "exception": false,
     "start_time": "2024-03-20T21:35:19.504142",
     "status": "completed"
    },
    "tags": []
   },
   "outputs": [],
   "source": [
    "paragraph_matches.append(\n",
    "    (\n",
    "        section_name,\n",
    "        par0,\n",
    "        par1,\n",
    "    )\n",
    ")"
   ]
  },
  {
   "cell_type": "code",
   "execution_count": 114,
   "id": "f096fe93-a618-4836-85b5-b011bd9189e4",
   "metadata": {
    "execution": {
     "iopub.execute_input": "2024-03-20T21:35:19.585416Z",
     "iopub.status.busy": "2024-03-20T21:35:19.585226Z",
     "iopub.status.idle": "2024-03-20T21:35:19.588647Z",
     "shell.execute_reply": "2024-03-20T21:35:19.588191Z"
    },
    "papermill": {
     "duration": 0.030165,
     "end_time": "2024-03-20T21:35:19.589365",
     "exception": false,
     "start_time": "2024-03-20T21:35:19.559200",
     "status": "completed"
    },
    "tags": []
   },
   "outputs": [
    {
     "data": {
      "text/plain": [
       "('discussion',\n",
       " 'Efficient human-AI interaction may require a \"lingua franca\": symbolic representations of concepts at least at the surface level of the conversation [@doi:10.1609/aaai.v36i11.21488]. We enable interaction with LLMs on a symbolic level by providing ontological grounding via the synergy of BioChatter with BioCypher KGs. The configuration of BioCypher KGs allows the user to specify the contextual domain by mapping KG concepts to existing ontologies and custom terminology. This way, we guarantee an overlap in the contextual understanding of user and LLM despite the generic nature of most pre-trained models.',\n",
       " 'Efficient communication between humans and artificial intelligence may benefit from a common language: symbolic representations of concepts that are easily understood during conversation (Smith, 2019). Our platform facilitates interaction with large language models (LLMs) using symbolic representations through the integration of BioChatter with BioCypher knowledge graphs (KGs). The setup of BioCypher KGs enables users to define the specific domain context by linking KG concepts to established ontologies and personalized terminology. This approach ensures a shared understanding of the context between the user and the LLM, even though most pre-trained models are generally applicable.')"
      ]
     },
     "metadata": {},
     "output_type": "display_data"
    }
   ],
   "source": [
    "display(paragraph_matches[-1])"
   ]
  },
  {
   "cell_type": "markdown",
   "id": "897b56fb-65f4-47f3-a02d-4c32c91ba5eb",
   "metadata": {
    "editable": true,
    "papermill": {
     "duration": 0.026082,
     "end_time": "2024-03-20T21:35:19.641093",
     "exception": false,
     "start_time": "2024-03-20T21:35:19.615011",
     "status": "completed"
    },
    "slideshow": {
     "slide_type": ""
    },
    "tags": []
   },
   "source": [
    "####  Paragraph 02"
   ]
  },
  {
   "cell_type": "code",
   "execution_count": 115,
   "id": "36f25595-58d4-4f3e-b34b-bf4cc68c0604",
   "metadata": {
    "execution": {
     "iopub.execute_input": "2024-03-20T21:35:19.693033Z",
     "iopub.status.busy": "2024-03-20T21:35:19.692842Z",
     "iopub.status.idle": "2024-03-20T21:35:19.695727Z",
     "shell.execute_reply": "2024-03-20T21:35:19.695284Z"
    },
    "papermill": {
     "duration": 0.029658,
     "end_time": "2024-03-20T21:35:19.696419",
     "exception": false,
     "start_time": "2024-03-20T21:35:19.666761",
     "status": "completed"
    },
    "tags": []
   },
   "outputs": [
    {
     "name": "stdout",
     "output_type": "stream",
     "text": [
      "We emphasise robustness and objective evaluation of LLM behaviour and performance in interaction with other parts of the framework. We achieve this goal by implementing a living benchmarking framework that allows the automated evaluation of LLMs, prompts, and other components ([https://biochatter.org/benchmark/](https://biochatter.org/benchmark/)). Even the most recent biomedicine-specific benchmarking efforts are small-scale manual approaches that do not consider the full matrix of possible combinations of components, and many benchmarks are performed by accessing web interfaces of LLMs, which obfuscates important parameters such as model version and temperature [@biollmbench]. As such, a framework is a necessary step towards the objective and reproducible evaluation of LLMs. We prevent data leakage from the benchmark datasets into the training data of new models by encryption, which is essential for the sustainability of the benchmark as new models are released. The living benchmark will be updated with new questions and tasks as they arise in the community.\n"
     ]
    }
   ],
   "source": [
    "par0 = process_paragraph(orig_section_paragraphs[3])\n",
    "print(par0)"
   ]
  },
  {
   "cell_type": "code",
   "execution_count": 116,
   "id": "0ca440d7-4752-4c1c-a18d-baafb271c30a",
   "metadata": {
    "execution": {
     "iopub.execute_input": "2024-03-20T21:35:19.748094Z",
     "iopub.status.busy": "2024-03-20T21:35:19.747901Z",
     "iopub.status.idle": "2024-03-20T21:35:19.750824Z",
     "shell.execute_reply": "2024-03-20T21:35:19.750382Z"
    },
    "papermill": {
     "duration": 0.029676,
     "end_time": "2024-03-20T21:35:19.751517",
     "exception": false,
     "start_time": "2024-03-20T21:35:19.721841",
     "status": "completed"
    },
    "tags": []
   },
   "outputs": [
    {
     "name": "stdout",
     "output_type": "stream",
     "text": [
      "We prioritize the robustness and objective evaluation of Large Language Models (LLMs) within our framework. To achieve this, we have established a dynamic benchmarking system that enables the automated assessment of LLMs, prompts, and other components (https://biochatter.org/benchmark/). Existing biomedicine-specific benchmarking initiatives are often limited in scope and rely on manual processes that overlook various component combinations. Additionally, many benchmarks utilize web interfaces for LLMs, which can obscure crucial parameters like model version and temperature [@biollmbench]. Therefore, implementing a framework is crucial for ensuring the unbiased and replicable evaluation of LLMs. We safeguard against data leakage from benchmark datasets into the training data of new models through encryption, ensuring the longevity of the benchmark as new models are introduced. The dynamic benchmark will continue to evolve by incorporating new questions and tasks relevant to the community.\n"
     ]
    }
   ],
   "source": [
    "par1 = process_paragraph(mod_section_paragraphs[3])\n",
    "print(par1)"
   ]
  },
  {
   "cell_type": "code",
   "execution_count": 117,
   "id": "23e42c9b-0bec-4243-abf1-4f9b805a7897",
   "metadata": {
    "execution": {
     "iopub.execute_input": "2024-03-20T21:35:19.803598Z",
     "iopub.status.busy": "2024-03-20T21:35:19.803411Z",
     "iopub.status.idle": "2024-03-20T21:35:19.806048Z",
     "shell.execute_reply": "2024-03-20T21:35:19.805609Z"
    },
    "papermill": {
     "duration": 0.029525,
     "end_time": "2024-03-20T21:35:19.806750",
     "exception": false,
     "start_time": "2024-03-20T21:35:19.777225",
     "status": "completed"
    },
    "tags": []
   },
   "outputs": [],
   "source": [
    "paragraph_matches.append(\n",
    "    (\n",
    "        section_name,\n",
    "        par0,\n",
    "        par1,\n",
    "    )\n",
    ")"
   ]
  },
  {
   "cell_type": "code",
   "execution_count": 118,
   "id": "61e5c7e8-bc8c-451f-a7bb-79e5fc93e166",
   "metadata": {
    "execution": {
     "iopub.execute_input": "2024-03-20T21:35:19.858627Z",
     "iopub.status.busy": "2024-03-20T21:35:19.858437Z",
     "iopub.status.idle": "2024-03-20T21:35:19.861858Z",
     "shell.execute_reply": "2024-03-20T21:35:19.861431Z"
    },
    "papermill": {
     "duration": 0.030191,
     "end_time": "2024-03-20T21:35:19.862512",
     "exception": false,
     "start_time": "2024-03-20T21:35:19.832321",
     "status": "completed"
    },
    "tags": []
   },
   "outputs": [
    {
     "data": {
      "text/plain": [
       "('discussion',\n",
       " 'We emphasise robustness and objective evaluation of LLM behaviour and performance in interaction with other parts of the framework. We achieve this goal by implementing a living benchmarking framework that allows the automated evaluation of LLMs, prompts, and other components ([https://biochatter.org/benchmark/](https://biochatter.org/benchmark/)). Even the most recent biomedicine-specific benchmarking efforts are small-scale manual approaches that do not consider the full matrix of possible combinations of components, and many benchmarks are performed by accessing web interfaces of LLMs, which obfuscates important parameters such as model version and temperature [@biollmbench]. As such, a framework is a necessary step towards the objective and reproducible evaluation of LLMs. We prevent data leakage from the benchmark datasets into the training data of new models by encryption, which is essential for the sustainability of the benchmark as new models are released. The living benchmark will be updated with new questions and tasks as they arise in the community.',\n",
       " 'We prioritize the robustness and objective evaluation of Large Language Models (LLMs) within our framework. To achieve this, we have established a dynamic benchmarking system that enables the automated assessment of LLMs, prompts, and other components (https://biochatter.org/benchmark/). Existing biomedicine-specific benchmarking initiatives are often limited in scope and rely on manual processes that overlook various component combinations. Additionally, many benchmarks utilize web interfaces for LLMs, which can obscure crucial parameters like model version and temperature [@biollmbench]. Therefore, implementing a framework is crucial for ensuring the unbiased and replicable evaluation of LLMs. We safeguard against data leakage from benchmark datasets into the training data of new models through encryption, ensuring the longevity of the benchmark as new models are introduced. The dynamic benchmark will continue to evolve by incorporating new questions and tasks relevant to the community.')"
      ]
     },
     "metadata": {},
     "output_type": "display_data"
    }
   ],
   "source": [
    "display(paragraph_matches[-1])"
   ]
  },
  {
   "cell_type": "markdown",
   "id": "b9824a80-2db9-48b3-aebf-39dc5bd310db",
   "metadata": {
    "editable": true,
    "papermill": {
     "duration": 0.025466,
     "end_time": "2024-03-20T21:35:19.913636",
     "exception": false,
     "start_time": "2024-03-20T21:35:19.888170",
     "status": "completed"
    },
    "slideshow": {
     "slide_type": ""
    },
    "tags": []
   },
   "source": [
    "####  Paragraph 03"
   ]
  },
  {
   "cell_type": "code",
   "execution_count": 119,
   "id": "8fea8a5e-a1ef-4146-869b-5f6949e81b36",
   "metadata": {
    "execution": {
     "iopub.execute_input": "2024-03-20T21:35:19.965616Z",
     "iopub.status.busy": "2024-03-20T21:35:19.965424Z",
     "iopub.status.idle": "2024-03-20T21:35:19.968397Z",
     "shell.execute_reply": "2024-03-20T21:35:19.967904Z"
    },
    "papermill": {
     "duration": 0.029841,
     "end_time": "2024-03-20T21:35:19.969126",
     "exception": false,
     "start_time": "2024-03-20T21:35:19.939285",
     "status": "completed"
    },
    "tags": []
   },
   "outputs": [
    {
     "name": "stdout",
     "output_type": "stream",
     "text": [
      "The benchmark's results provide convenient selection criteria and a starting point for exploring why some models perform differently than expected. For instance, the benchmark allowed immediate flagging of the drop in performance from the older (0613) to the newer (0125) version of gpt-4. It also identified a range of pre-trained open-source models suitable for our uses, most notably, the openhermes-2.5 model in 4- or 5-bit quantisation. This model is a fine-tuned (on GPT-4-generated data) variant of Mistral 7B v0.1, whose vanilla variants perform considerably worse in our benchmarks. Of note, BioChatter was developed using gpt-3.5-turbo-0613 and, to a lesser extent, gpt-4-0613 and llama-2-chat (13B); the benchmark performance of, for instance, openhermes-2.5 and the newer GPT models thus has not been influenced by BioChatter development.\n"
     ]
    }
   ],
   "source": [
    "par0 = process_paragraph(orig_section_paragraphs[4])\n",
    "print(par0)"
   ]
  },
  {
   "cell_type": "code",
   "execution_count": 120,
   "id": "66ec1e72-9a45-4a64-bc99-295cd0882f50",
   "metadata": {
    "execution": {
     "iopub.execute_input": "2024-03-20T21:35:20.021165Z",
     "iopub.status.busy": "2024-03-20T21:35:20.020975Z",
     "iopub.status.idle": "2024-03-20T21:35:20.023826Z",
     "shell.execute_reply": "2024-03-20T21:35:20.023382Z"
    },
    "papermill": {
     "duration": 0.029739,
     "end_time": "2024-03-20T21:35:20.024544",
     "exception": false,
     "start_time": "2024-03-20T21:35:19.994805",
     "status": "completed"
    },
    "tags": []
   },
   "outputs": [
    {
     "name": "stdout",
     "output_type": "stream",
     "text": [
      "The results of the benchmark provide useful criteria for selecting models and serve as a starting point for investigating variations in performance. For example, the benchmark quickly highlighted a decrease in performance when transitioning from the older (0613) to the newer (0125) version of GPT-4. It also identified several pre-trained open-source models that are suitable for our purposes, particularly the openhermes-2.5 model with 4- or 5-bit quantization. This model, a fine-tuned variant of Mistral 7B v0.1 on GPT-4-generated data, outperformed the vanilla variants in our benchmarks. Notably, BioChatter was created using GPT-3.5-turbo-0613, and to a lesser extent, GPT-4-0613 and LLAMA-2-CHAT (13B); as a result, the development of BioChatter did not impact the benchmark performance of models like openhermes-2.5 and the newer GPT models.\n"
     ]
    }
   ],
   "source": [
    "par1 = process_paragraph(mod_section_paragraphs[4])\n",
    "print(par1)"
   ]
  },
  {
   "cell_type": "code",
   "execution_count": 121,
   "id": "3d4e0f2a-0d75-47ec-8754-e1ebf6d054d0",
   "metadata": {
    "execution": {
     "iopub.execute_input": "2024-03-20T21:35:20.076763Z",
     "iopub.status.busy": "2024-03-20T21:35:20.076571Z",
     "iopub.status.idle": "2024-03-20T21:35:20.079160Z",
     "shell.execute_reply": "2024-03-20T21:35:20.078727Z"
    },
    "papermill": {
     "duration": 0.02963,
     "end_time": "2024-03-20T21:35:20.079887",
     "exception": false,
     "start_time": "2024-03-20T21:35:20.050257",
     "status": "completed"
    },
    "tags": []
   },
   "outputs": [],
   "source": [
    "paragraph_matches.append(\n",
    "    (\n",
    "        section_name,\n",
    "        par0,\n",
    "        par1,\n",
    "    )\n",
    ")"
   ]
  },
  {
   "cell_type": "code",
   "execution_count": 122,
   "id": "b72cf403-a57e-4ca8-8188-0c4cece1baaf",
   "metadata": {
    "execution": {
     "iopub.execute_input": "2024-03-20T21:35:20.132165Z",
     "iopub.status.busy": "2024-03-20T21:35:20.131974Z",
     "iopub.status.idle": "2024-03-20T21:35:20.135351Z",
     "shell.execute_reply": "2024-03-20T21:35:20.134903Z"
    },
    "papermill": {
     "duration": 0.030421,
     "end_time": "2024-03-20T21:35:20.136059",
     "exception": false,
     "start_time": "2024-03-20T21:35:20.105638",
     "status": "completed"
    },
    "tags": []
   },
   "outputs": [
    {
     "data": {
      "text/plain": [
       "('discussion',\n",
       " \"The benchmark's results provide convenient selection criteria and a starting point for exploring why some models perform differently than expected. For instance, the benchmark allowed immediate flagging of the drop in performance from the older (0613) to the newer (0125) version of gpt-4. It also identified a range of pre-trained open-source models suitable for our uses, most notably, the openhermes-2.5 model in 4- or 5-bit quantisation. This model is a fine-tuned (on GPT-4-generated data) variant of Mistral 7B v0.1, whose vanilla variants perform considerably worse in our benchmarks. Of note, BioChatter was developed using gpt-3.5-turbo-0613 and, to a lesser extent, gpt-4-0613 and llama-2-chat (13B); the benchmark performance of, for instance, openhermes-2.5 and the newer GPT models thus has not been influenced by BioChatter development.\",\n",
       " 'The results of the benchmark provide useful criteria for selecting models and serve as a starting point for investigating variations in performance. For example, the benchmark quickly highlighted a decrease in performance when transitioning from the older (0613) to the newer (0125) version of GPT-4. It also identified several pre-trained open-source models that are suitable for our purposes, particularly the openhermes-2.5 model with 4- or 5-bit quantization. This model, a fine-tuned variant of Mistral 7B v0.1 on GPT-4-generated data, outperformed the vanilla variants in our benchmarks. Notably, BioChatter was created using GPT-3.5-turbo-0613, and to a lesser extent, GPT-4-0613 and LLAMA-2-CHAT (13B); as a result, the development of BioChatter did not impact the benchmark performance of models like openhermes-2.5 and the newer GPT models.')"
      ]
     },
     "metadata": {},
     "output_type": "display_data"
    }
   ],
   "source": [
    "display(paragraph_matches[-1])"
   ]
  },
  {
   "cell_type": "markdown",
   "id": "f6d05397-2768-45e6-a419-027cd619d2a3",
   "metadata": {
    "editable": true,
    "papermill": {
     "duration": 0.025748,
     "end_time": "2024-03-20T21:35:20.187716",
     "exception": false,
     "start_time": "2024-03-20T21:35:20.161968",
     "status": "completed"
    },
    "slideshow": {
     "slide_type": ""
    },
    "tags": []
   },
   "source": [
    "####  Paragraph 04"
   ]
  },
  {
   "cell_type": "code",
   "execution_count": 123,
   "id": "e1ac1feb-f6d3-4e48-8afa-d02ec7149e97",
   "metadata": {
    "execution": {
     "iopub.execute_input": "2024-03-20T21:35:20.240502Z",
     "iopub.status.busy": "2024-03-20T21:35:20.240269Z",
     "iopub.status.idle": "2024-03-20T21:35:20.243328Z",
     "shell.execute_reply": "2024-03-20T21:35:20.242819Z"
    },
    "papermill": {
     "duration": 0.030276,
     "end_time": "2024-03-20T21:35:20.244004",
     "exception": false,
     "start_time": "2024-03-20T21:35:20.213728",
     "status": "completed"
    },
    "tags": []
   },
   "outputs": [
    {
     "name": "stdout",
     "output_type": "stream",
     "text": [
      "We facilitate access to LLMs by enabling the use of both proprietary and open-source models, and we provide a flexible deployment framework for the latter. Proprietary models are currently the most economical solution for accessing state-of-the-art models and, as such, they are suitable for users just starting out or lacking the resources to deploy their own models. In contrast, open-source models are quickly catching up in terms of performance [@biollmbench] and are essential for the sustainability of the field [@doi:10.1038/d41586-024-00029-4]. We allow self-hosting of open-source models on any scale, from dedicated hardware with GPUs, to local deployment on end-user laptops, to browser-based deployment using web technology.\n"
     ]
    }
   ],
   "source": [
    "par0 = process_paragraph(orig_section_paragraphs[5])\n",
    "print(par0)"
   ]
  },
  {
   "cell_type": "code",
   "execution_count": 124,
   "id": "f8da7eba-dcac-4036-9be4-6b51fed928ed",
   "metadata": {
    "execution": {
     "iopub.execute_input": "2024-03-20T21:35:20.319934Z",
     "iopub.status.busy": "2024-03-20T21:35:20.319516Z",
     "iopub.status.idle": "2024-03-20T21:35:20.322428Z",
     "shell.execute_reply": "2024-03-20T21:35:20.321994Z"
    },
    "papermill": {
     "duration": 0.030208,
     "end_time": "2024-03-20T21:35:20.323110",
     "exception": false,
     "start_time": "2024-03-20T21:35:20.292902",
     "status": "completed"
    },
    "tags": []
   },
   "outputs": [
    {
     "name": "stdout",
     "output_type": "stream",
     "text": [
      "We make it easier to use LLMs by allowing access to both proprietary and open-source models. Our framework offers a flexible deployment option for open-source models. Proprietary models are currently the most cost-effective choice for accessing the latest models and are ideal for beginners or those with limited resources. On the other hand, open-source models are rapidly improving in performance and are crucial for the long-term viability of the field (Biollmbench). Our platform enables users to host open-source models themselves, whether on dedicated hardware with GPUs, locally on their laptops, or through browser-based deployment using web technology.\n"
     ]
    }
   ],
   "source": [
    "par1 = process_paragraph(mod_section_paragraphs[5])\n",
    "print(par1)"
   ]
  },
  {
   "cell_type": "code",
   "execution_count": 125,
   "id": "66fcccb7-97ff-4ccc-80ae-6d841c9a4333",
   "metadata": {
    "execution": {
     "iopub.execute_input": "2024-03-20T21:35:20.376319Z",
     "iopub.status.busy": "2024-03-20T21:35:20.375892Z",
     "iopub.status.idle": "2024-03-20T21:35:20.378504Z",
     "shell.execute_reply": "2024-03-20T21:35:20.378073Z"
    },
    "papermill": {
     "duration": 0.029864,
     "end_time": "2024-03-20T21:35:20.379157",
     "exception": false,
     "start_time": "2024-03-20T21:35:20.349293",
     "status": "completed"
    },
    "tags": []
   },
   "outputs": [],
   "source": [
    "paragraph_matches.append(\n",
    "    (\n",
    "        section_name,\n",
    "        par0,\n",
    "        par1,\n",
    "    )\n",
    ")"
   ]
  },
  {
   "cell_type": "code",
   "execution_count": 126,
   "id": "1487d4c6-de99-4cae-857b-430b29f83e1a",
   "metadata": {
    "execution": {
     "iopub.execute_input": "2024-03-20T21:35:20.431949Z",
     "iopub.status.busy": "2024-03-20T21:35:20.431760Z",
     "iopub.status.idle": "2024-03-20T21:35:20.435199Z",
     "shell.execute_reply": "2024-03-20T21:35:20.434766Z"
    },
    "papermill": {
     "duration": 0.030705,
     "end_time": "2024-03-20T21:35:20.435892",
     "exception": false,
     "start_time": "2024-03-20T21:35:20.405187",
     "status": "completed"
    },
    "tags": []
   },
   "outputs": [
    {
     "data": {
      "text/plain": [
       "('discussion',\n",
       " 'We facilitate access to LLMs by enabling the use of both proprietary and open-source models, and we provide a flexible deployment framework for the latter. Proprietary models are currently the most economical solution for accessing state-of-the-art models and, as such, they are suitable for users just starting out or lacking the resources to deploy their own models. In contrast, open-source models are quickly catching up in terms of performance [@biollmbench] and are essential for the sustainability of the field [@doi:10.1038/d41586-024-00029-4]. We allow self-hosting of open-source models on any scale, from dedicated hardware with GPUs, to local deployment on end-user laptops, to browser-based deployment using web technology.',\n",
       " 'We make it easier to use LLMs by allowing access to both proprietary and open-source models. Our framework offers a flexible deployment option for open-source models. Proprietary models are currently the most cost-effective choice for accessing the latest models and are ideal for beginners or those with limited resources. On the other hand, open-source models are rapidly improving in performance and are crucial for the long-term viability of the field (Biollmbench). Our platform enables users to host open-source models themselves, whether on dedicated hardware with GPUs, locally on their laptops, or through browser-based deployment using web technology.')"
      ]
     },
     "metadata": {},
     "output_type": "display_data"
    }
   ],
   "source": [
    "display(paragraph_matches[-1])"
   ]
  },
  {
   "cell_type": "markdown",
   "id": "6490bb55-8004-4e13-963e-1baa8489f6ab",
   "metadata": {
    "editable": true,
    "papermill": {
     "duration": 0.025859,
     "end_time": "2024-03-20T21:35:20.487802",
     "exception": false,
     "start_time": "2024-03-20T21:35:20.461943",
     "status": "completed"
    },
    "slideshow": {
     "slide_type": ""
    },
    "tags": []
   },
   "source": [
    "####  Paragraph 05"
   ]
  },
  {
   "cell_type": "code",
   "execution_count": 127,
   "id": "86ade612-a79b-4270-99d5-b403b0272c17",
   "metadata": {
    "execution": {
     "iopub.execute_input": "2024-03-20T21:35:20.540440Z",
     "iopub.status.busy": "2024-03-20T21:35:20.540066Z",
     "iopub.status.idle": "2024-03-20T21:35:20.543047Z",
     "shell.execute_reply": "2024-03-20T21:35:20.542592Z"
    },
    "papermill": {
     "duration": 0.029941,
     "end_time": "2024-03-20T21:35:20.543726",
     "exception": false,
     "start_time": "2024-03-20T21:35:20.513785",
     "status": "completed"
    },
    "tags": []
   },
   "outputs": [
    {
     "name": "stdout",
     "output_type": "stream",
     "text": [
      "The current generation of LLMs is not yet ready for unsupervised use in biomedical research with its vast array of unique subfields. Effectively supporting this diversity through robust and contextually aware LLM interactions is a daunting task. While we have taken steps to mitigate the risks of using LLMs such as independent benchmarks, fact-checking, and RAG processes, we cannot guarantee that the models will not produce harmful outputs. We see current LLMs, particularly in the scope of the BioCypher ecosystem, as helpful tools to assist human researchers, alleviating menial and repetitive tasks and helping with technical aspects such as query languages. They are not meant to replace human ingenuity and expertise but to augment it with their complementary strengths. Despite the user-friendly design of BioChatter, there may be a learning curve for researchers unfamiliar with LLMs or the specific functionalities of the framework. For maximising its benefit to the community, encouraging adoption and providing adequate training and support will be critical.\n"
     ]
    }
   ],
   "source": [
    "par0 = process_paragraph(orig_section_paragraphs[7])\n",
    "print(par0)"
   ]
  },
  {
   "cell_type": "code",
   "execution_count": 128,
   "id": "0affd988-bc27-498c-b4e6-d8073791510a",
   "metadata": {
    "execution": {
     "iopub.execute_input": "2024-03-20T21:35:20.596592Z",
     "iopub.status.busy": "2024-03-20T21:35:20.596400Z",
     "iopub.status.idle": "2024-03-20T21:35:20.599327Z",
     "shell.execute_reply": "2024-03-20T21:35:20.598881Z"
    },
    "papermill": {
     "duration": 0.030121,
     "end_time": "2024-03-20T21:35:20.600038",
     "exception": false,
     "start_time": "2024-03-20T21:35:20.569917",
     "status": "completed"
    },
    "tags": []
   },
   "outputs": [
    {
     "name": "stdout",
     "output_type": "stream",
     "text": [
      "The current generation of Large Language Models (LLMs) is not yet suitable for unsupervised use in biomedical research due to the vast array of unique subfields within the field. Effectively supporting this diversity through robust and contextually aware interactions with LLMs is a challenging task. While efforts have been made to reduce risks associated with using LLMs, such as independent benchmarks, fact-checking, and Retrieval-Augmented Generation (RAG) processes, there is no guarantee that the models will not produce harmful outputs. Current LLMs, particularly within the BioCypher ecosystem, are viewed as tools to support human researchers by assisting with menial and repetitive tasks, as well as technical aspects like query languages. They are not intended to replace human ingenuity and expertise, but rather to enhance it with their complementary strengths. Despite the user-friendly design of BioChatter, researchers unfamiliar with LLMs or the specific functionalities of the framework may experience a learning curve. To maximize the benefits of BioChatter to the community, it will be crucial to encourage adoption and provide adequate training and support.\n"
     ]
    }
   ],
   "source": [
    "par1 = process_paragraph(mod_section_paragraphs[7])\n",
    "print(par1)"
   ]
  },
  {
   "cell_type": "code",
   "execution_count": 129,
   "id": "66a3ff5c-d563-4bbf-b900-e77fc94cd6bc",
   "metadata": {
    "execution": {
     "iopub.execute_input": "2024-03-20T21:35:20.653439Z",
     "iopub.status.busy": "2024-03-20T21:35:20.652983Z",
     "iopub.status.idle": "2024-03-20T21:35:20.655643Z",
     "shell.execute_reply": "2024-03-20T21:35:20.655189Z"
    },
    "papermill": {
     "duration": 0.030005,
     "end_time": "2024-03-20T21:35:20.656355",
     "exception": false,
     "start_time": "2024-03-20T21:35:20.626350",
     "status": "completed"
    },
    "tags": []
   },
   "outputs": [],
   "source": [
    "paragraph_matches.append(\n",
    "    (\n",
    "        section_name,\n",
    "        par0,\n",
    "        par1,\n",
    "    )\n",
    ")"
   ]
  },
  {
   "cell_type": "code",
   "execution_count": 130,
   "id": "be401e36-b2d9-4533-be76-cb1ba54f6ecb",
   "metadata": {
    "execution": {
     "iopub.execute_input": "2024-03-20T21:35:20.709365Z",
     "iopub.status.busy": "2024-03-20T21:35:20.709170Z",
     "iopub.status.idle": "2024-03-20T21:35:20.712709Z",
     "shell.execute_reply": "2024-03-20T21:35:20.712249Z"
    },
    "papermill": {
     "duration": 0.030939,
     "end_time": "2024-03-20T21:35:20.713419",
     "exception": false,
     "start_time": "2024-03-20T21:35:20.682480",
     "status": "completed"
    },
    "tags": []
   },
   "outputs": [
    {
     "data": {
      "text/plain": [
       "('discussion',\n",
       " 'The current generation of LLMs is not yet ready for unsupervised use in biomedical research with its vast array of unique subfields. Effectively supporting this diversity through robust and contextually aware LLM interactions is a daunting task. While we have taken steps to mitigate the risks of using LLMs such as independent benchmarks, fact-checking, and RAG processes, we cannot guarantee that the models will not produce harmful outputs. We see current LLMs, particularly in the scope of the BioCypher ecosystem, as helpful tools to assist human researchers, alleviating menial and repetitive tasks and helping with technical aspects such as query languages. They are not meant to replace human ingenuity and expertise but to augment it with their complementary strengths. Despite the user-friendly design of BioChatter, there may be a learning curve for researchers unfamiliar with LLMs or the specific functionalities of the framework. For maximising its benefit to the community, encouraging adoption and providing adequate training and support will be critical.',\n",
       " 'The current generation of Large Language Models (LLMs) is not yet suitable for unsupervised use in biomedical research due to the vast array of unique subfields within the field. Effectively supporting this diversity through robust and contextually aware interactions with LLMs is a challenging task. While efforts have been made to reduce risks associated with using LLMs, such as independent benchmarks, fact-checking, and Retrieval-Augmented Generation (RAG) processes, there is no guarantee that the models will not produce harmful outputs. Current LLMs, particularly within the BioCypher ecosystem, are viewed as tools to support human researchers by assisting with menial and repetitive tasks, as well as technical aspects like query languages. They are not intended to replace human ingenuity and expertise, but rather to enhance it with their complementary strengths. Despite the user-friendly design of BioChatter, researchers unfamiliar with LLMs or the specific functionalities of the framework may experience a learning curve. To maximize the benefits of BioChatter to the community, it will be crucial to encourage adoption and provide adequate training and support.')"
      ]
     },
     "metadata": {},
     "output_type": "display_data"
    }
   ],
   "source": [
    "display(paragraph_matches[-1])"
   ]
  },
  {
   "cell_type": "markdown",
   "id": "d080117b-9e27-47ce-9b2f-b01c70e365c7",
   "metadata": {
    "editable": true,
    "papermill": {
     "duration": 0.026066,
     "end_time": "2024-03-20T21:35:20.765668",
     "exception": false,
     "start_time": "2024-03-20T21:35:20.739602",
     "status": "completed"
    },
    "slideshow": {
     "slide_type": ""
    },
    "tags": []
   },
   "source": [
    "####  Paragraph 06"
   ]
  },
  {
   "cell_type": "code",
   "execution_count": 131,
   "id": "4ca66dfa-862c-4ed3-a7ce-ad587271bf8a",
   "metadata": {
    "execution": {
     "iopub.execute_input": "2024-03-20T21:35:20.818824Z",
     "iopub.status.busy": "2024-03-20T21:35:20.818401Z",
     "iopub.status.idle": "2024-03-20T21:35:20.821439Z",
     "shell.execute_reply": "2024-03-20T21:35:20.820994Z"
    },
    "papermill": {
     "duration": 0.030404,
     "end_time": "2024-03-20T21:35:20.822166",
     "exception": false,
     "start_time": "2024-03-20T21:35:20.791762",
     "status": "completed"
    },
    "tags": []
   },
   "outputs": [
    {
     "name": "stdout",
     "output_type": "stream",
     "text": [
      "Multitask learners that can synthesise, for instance, language, vision, and molecular measurements are an emerging field of research [@doi:10.48550/arXiv.2306.04529;@doi:10.48550/arXiv.2211.01786;@doi:10.48550/arXiv.2310.09478]. Autonomous agents for trivial tasks have already been developed on the basis of LLMs, and we expect this field to mature in the future [@doi:10.48550/arXiv.2308.11432]. As research on multimodal learning and agent behaviour progresses, we plan to integrate these developments into the BioChatter framework. All framework developments will be performed in light of the ethical implications of LLMs, and we will continue to support the use of open-source models to increase transparency and data privacy. While we focus on the biomedical field, the concept of our frameworks can easily be extended to other scientific domains by adjusting domain-specific prompts and data inputs, which are accessible in a composable and user-friendly manner in our frameworks [@biocypher]. Our Python library is developed openly on GitHub ([https://github.com/biocypher/biochatter](https://github.com/biocypher/biochatter)) and can be integrated into any downstream user interface solution. We develop under the permissive MIT licence and encourage contributions and suggestions from the community with regard to the addition of bioinformatics tool integrations, prompt engineering, benchmarking, and any other feature.\n"
     ]
    }
   ],
   "source": [
    "par0 = process_paragraph(orig_section_paragraphs[9])\n",
    "print(par0)"
   ]
  },
  {
   "cell_type": "code",
   "execution_count": 132,
   "id": "799fb0c0-15ed-4b7e-8a16-0dd33bdf81b1",
   "metadata": {
    "execution": {
     "iopub.execute_input": "2024-03-20T21:35:20.874955Z",
     "iopub.status.busy": "2024-03-20T21:35:20.874765Z",
     "iopub.status.idle": "2024-03-20T21:35:20.877712Z",
     "shell.execute_reply": "2024-03-20T21:35:20.877267Z"
    },
    "papermill": {
     "duration": 0.030137,
     "end_time": "2024-03-20T21:35:20.878385",
     "exception": false,
     "start_time": "2024-03-20T21:35:20.848248",
     "status": "completed"
    },
    "tags": []
   },
   "outputs": [
    {
     "name": "stdout",
     "output_type": "stream",
     "text": [
      "Emerging research shows that multitask learners, capable of synthesizing language, vision, and molecular measurements, are gaining traction [@doi:10.48550/arXiv.2306.04529;@doi:10.48550/arXiv.2211.01786;@doi:10.48550/arXiv.2310.09478]. Some autonomous agents for basic tasks have already been created using Large Language Models (LLMs), and we anticipate further advancements in this area [@doi:10.48550/arXiv.2308.11432]. As studies on multimodal learning and agent behavior advance, we aim to incorporate these findings into the BioChatter framework. Our framework development prioritizes ethical considerations related to LLMs, emphasizing the use of open-source models to enhance transparency and data privacy. Although our primary focus is on biomedicine, the adaptability of our frameworks allows for easy extension to other scientific fields through adjustments to domain-specific prompts and data inputs, which are conveniently accessible in our frameworks [@biocypher]. Our Python library is openly developed on GitHub ([https://github.com/biocypher/biochatter](https://github.com/biocypher/biochatter)) and can be seamlessly integrated into various user interface solutions. Operating under the permissive MIT license, we welcome community contributions and suggestions for integrating bioinformatics tools, prompt engineering, benchmarking, and other features.\n"
     ]
    }
   ],
   "source": [
    "par1 = process_paragraph(mod_section_paragraphs[9])\n",
    "print(par1)"
   ]
  },
  {
   "cell_type": "code",
   "execution_count": 133,
   "id": "ef6c17fb-7cd6-4690-8bce-3bc17befc326",
   "metadata": {
    "execution": {
     "iopub.execute_input": "2024-03-20T21:35:20.931289Z",
     "iopub.status.busy": "2024-03-20T21:35:20.931104Z",
     "iopub.status.idle": "2024-03-20T21:35:20.933726Z",
     "shell.execute_reply": "2024-03-20T21:35:20.933281Z"
    },
    "papermill": {
     "duration": 0.029869,
     "end_time": "2024-03-20T21:35:20.934431",
     "exception": false,
     "start_time": "2024-03-20T21:35:20.904562",
     "status": "completed"
    },
    "tags": []
   },
   "outputs": [],
   "source": [
    "paragraph_matches.append(\n",
    "    (\n",
    "        section_name,\n",
    "        par0,\n",
    "        par1,\n",
    "    )\n",
    ")"
   ]
  },
  {
   "cell_type": "code",
   "execution_count": 134,
   "id": "480aea1d-08f8-4520-b71b-735a9d57dd1e",
   "metadata": {
    "execution": {
     "iopub.execute_input": "2024-03-20T21:35:20.987496Z",
     "iopub.status.busy": "2024-03-20T21:35:20.987135Z",
     "iopub.status.idle": "2024-03-20T21:35:20.990663Z",
     "shell.execute_reply": "2024-03-20T21:35:20.990221Z"
    },
    "papermill": {
     "duration": 0.030832,
     "end_time": "2024-03-20T21:35:20.991382",
     "exception": false,
     "start_time": "2024-03-20T21:35:20.960550",
     "status": "completed"
    },
    "tags": []
   },
   "outputs": [
    {
     "data": {
      "text/plain": [
       "('discussion',\n",
       " 'Multitask learners that can synthesise, for instance, language, vision, and molecular measurements are an emerging field of research [@doi:10.48550/arXiv.2306.04529;@doi:10.48550/arXiv.2211.01786;@doi:10.48550/arXiv.2310.09478]. Autonomous agents for trivial tasks have already been developed on the basis of LLMs, and we expect this field to mature in the future [@doi:10.48550/arXiv.2308.11432]. As research on multimodal learning and agent behaviour progresses, we plan to integrate these developments into the BioChatter framework. All framework developments will be performed in light of the ethical implications of LLMs, and we will continue to support the use of open-source models to increase transparency and data privacy. While we focus on the biomedical field, the concept of our frameworks can easily be extended to other scientific domains by adjusting domain-specific prompts and data inputs, which are accessible in a composable and user-friendly manner in our frameworks [@biocypher]. Our Python library is developed openly on GitHub ([https://github.com/biocypher/biochatter](https://github.com/biocypher/biochatter)) and can be integrated into any downstream user interface solution. We develop under the permissive MIT licence and encourage contributions and suggestions from the community with regard to the addition of bioinformatics tool integrations, prompt engineering, benchmarking, and any other feature.',\n",
       " 'Emerging research shows that multitask learners, capable of synthesizing language, vision, and molecular measurements, are gaining traction [@doi:10.48550/arXiv.2306.04529;@doi:10.48550/arXiv.2211.01786;@doi:10.48550/arXiv.2310.09478]. Some autonomous agents for basic tasks have already been created using Large Language Models (LLMs), and we anticipate further advancements in this area [@doi:10.48550/arXiv.2308.11432]. As studies on multimodal learning and agent behavior advance, we aim to incorporate these findings into the BioChatter framework. Our framework development prioritizes ethical considerations related to LLMs, emphasizing the use of open-source models to enhance transparency and data privacy. Although our primary focus is on biomedicine, the adaptability of our frameworks allows for easy extension to other scientific fields through adjustments to domain-specific prompts and data inputs, which are conveniently accessible in our frameworks [@biocypher]. Our Python library is openly developed on GitHub ([https://github.com/biocypher/biochatter](https://github.com/biocypher/biochatter)) and can be seamlessly integrated into various user interface solutions. Operating under the permissive MIT license, we welcome community contributions and suggestions for integrating bioinformatics tools, prompt engineering, benchmarking, and other features.')"
      ]
     },
     "metadata": {},
     "output_type": "display_data"
    }
   ],
   "source": [
    "display(paragraph_matches[-1])"
   ]
  },
  {
   "cell_type": "markdown",
   "id": "59e442fb-dfda-434d-b1d4-265fbe96ccfc",
   "metadata": {
    "editable": true,
    "papermill": {
     "duration": 0.026196,
     "end_time": "2024-03-20T21:35:21.043788",
     "exception": false,
     "start_time": "2024-03-20T21:35:21.017592",
     "status": "completed"
    },
    "slideshow": {
     "slide_type": ""
    },
    "tags": []
   },
   "source": [
    "## Methods"
   ]
  },
  {
   "cell_type": "code",
   "execution_count": 135,
   "id": "42676dcc-e716-44d9-a957-db23dd90e123",
   "metadata": {
    "execution": {
     "iopub.execute_input": "2024-03-20T21:35:21.096951Z",
     "iopub.status.busy": "2024-03-20T21:35:21.096766Z",
     "iopub.status.idle": "2024-03-20T21:35:21.099259Z",
     "shell.execute_reply": "2024-03-20T21:35:21.098815Z"
    },
    "papermill": {
     "duration": 0.030025,
     "end_time": "2024-03-20T21:35:21.099982",
     "exception": false,
     "start_time": "2024-03-20T21:35:21.069957",
     "status": "completed"
    },
    "tags": []
   },
   "outputs": [],
   "source": [
    "section_name = \"methods\""
   ]
  },
  {
   "cell_type": "code",
   "execution_count": 136,
   "id": "8f280817-fdf2-447f-b74f-a496c7034555",
   "metadata": {
    "editable": true,
    "execution": {
     "iopub.execute_input": "2024-03-20T21:35:21.153274Z",
     "iopub.status.busy": "2024-03-20T21:35:21.152917Z",
     "iopub.status.idle": "2024-03-20T21:35:21.155902Z",
     "shell.execute_reply": "2024-03-20T21:35:21.155446Z"
    },
    "papermill": {
     "duration": 0.030471,
     "end_time": "2024-03-20T21:35:21.156594",
     "exception": false,
     "start_time": "2024-03-20T21:35:21.126123",
     "status": "completed"
    },
    "slideshow": {
     "slide_type": ""
    },
    "tags": []
   },
   "outputs": [
    {
     "name": "stdout",
     "output_type": "stream",
     "text": [
      "content/40.methods.md\n"
     ]
    }
   ],
   "source": [
    "pr_filename = pr_files[4].filename\n",
    "assert section_name in pr_filename\n",
    "print(pr_filename)"
   ]
  },
  {
   "cell_type": "markdown",
   "id": "c4466db8-9485-49cc-a08f-dfdf243e1f06",
   "metadata": {
    "editable": true,
    "papermill": {
     "duration": 0.026299,
     "end_time": "2024-03-20T21:35:21.209162",
     "exception": false,
     "start_time": "2024-03-20T21:35:21.182863",
     "status": "completed"
    },
    "slideshow": {
     "slide_type": ""
    },
    "tags": []
   },
   "source": [
    "### Original"
   ]
  },
  {
   "cell_type": "code",
   "execution_count": 137,
   "id": "d28b84ac-727b-4412-8504-2cb1d9764a91",
   "metadata": {
    "execution": {
     "iopub.execute_input": "2024-03-20T21:35:21.263639Z",
     "iopub.status.busy": "2024-03-20T21:35:21.263208Z",
     "iopub.status.idle": "2024-03-20T21:35:21.424643Z",
     "shell.execute_reply": "2024-03-20T21:35:21.424128Z"
    },
    "papermill": {
     "duration": 0.189672,
     "end_time": "2024-03-20T21:35:21.425571",
     "exception": false,
     "start_time": "2024-03-20T21:35:21.235899",
     "status": "completed"
    },
    "tags": []
   },
   "outputs": [
    {
     "name": "stdout",
     "output_type": "stream",
     "text": [
      "## (Supplementary / Online) Methods {.page_break_b\n"
     ]
    }
   ],
   "source": [
    "# get content\n",
    "orig_section_content = repo.get_contents(pr_filename, pr_prev).decoded_content.decode(\n",
    "    \"utf-8\"\n",
    ")\n",
    "print(orig_section_content[:50])"
   ]
  },
  {
   "cell_type": "code",
   "execution_count": 138,
   "id": "18fe5c96-6270-45fe-8f3a-2da927318d82",
   "metadata": {
    "execution": {
     "iopub.execute_input": "2024-03-20T21:35:21.504342Z",
     "iopub.status.busy": "2024-03-20T21:35:21.503879Z",
     "iopub.status.idle": "2024-03-20T21:35:21.507542Z",
     "shell.execute_reply": "2024-03-20T21:35:21.507034Z"
    },
    "papermill": {
     "duration": 0.043729,
     "end_time": "2024-03-20T21:35:21.508245",
     "exception": false,
     "start_time": "2024-03-20T21:35:21.464516",
     "status": "completed"
    },
    "tags": []
   },
   "outputs": [
    {
     "data": {
      "text/plain": [
       "36"
      ]
     },
     "metadata": {},
     "output_type": "display_data"
    }
   ],
   "source": [
    "# split by paragraph\n",
    "orig_section_paragraphs = orig_section_content.split(\"\\n\\n\")\n",
    "display(len(orig_section_paragraphs))"
   ]
  },
  {
   "cell_type": "markdown",
   "id": "6066a4d2-2696-4e7d-9da4-d1818871259d",
   "metadata": {
    "editable": true,
    "papermill": {
     "duration": 0.026507,
     "end_time": "2024-03-20T21:35:21.561069",
     "exception": false,
     "start_time": "2024-03-20T21:35:21.534562",
     "status": "completed"
    },
    "slideshow": {
     "slide_type": ""
    },
    "tags": []
   },
   "source": [
    "### Modified"
   ]
  },
  {
   "cell_type": "code",
   "execution_count": 139,
   "id": "4e8d95f9-376b-450b-99d5-67891963f997",
   "metadata": {
    "execution": {
     "iopub.execute_input": "2024-03-20T21:35:21.637801Z",
     "iopub.status.busy": "2024-03-20T21:35:21.637447Z",
     "iopub.status.idle": "2024-03-20T21:35:21.822107Z",
     "shell.execute_reply": "2024-03-20T21:35:21.821580Z"
    },
    "papermill": {
     "duration": 0.235617,
     "end_time": "2024-03-20T21:35:21.822990",
     "exception": false,
     "start_time": "2024-03-20T21:35:21.587373",
     "status": "completed"
    },
    "tags": []
   },
   "outputs": [
    {
     "name": "stdout",
     "output_type": "stream",
     "text": [
      "## (Supplementary / Online) Methods {.page_break_b\n"
     ]
    }
   ],
   "source": [
    "# get content\n",
    "mod_section_content = repo.get_contents(pr_filename, pr_curr).decoded_content.decode(\n",
    "    \"utf-8\"\n",
    ")\n",
    "print(mod_section_content[:50])"
   ]
  },
  {
   "cell_type": "code",
   "execution_count": 140,
   "id": "6c0d91e9-b334-4b74-9ea5-7080c5e7fa6d",
   "metadata": {
    "execution": {
     "iopub.execute_input": "2024-03-20T21:35:21.902528Z",
     "iopub.status.busy": "2024-03-20T21:35:21.902091Z",
     "iopub.status.idle": "2024-03-20T21:35:21.905566Z",
     "shell.execute_reply": "2024-03-20T21:35:21.905138Z"
    },
    "papermill": {
     "duration": 0.043653,
     "end_time": "2024-03-20T21:35:21.906251",
     "exception": false,
     "start_time": "2024-03-20T21:35:21.862598",
     "status": "completed"
    },
    "tags": []
   },
   "outputs": [
    {
     "data": {
      "text/plain": [
       "52"
      ]
     },
     "metadata": {},
     "output_type": "display_data"
    }
   ],
   "source": [
    "# split by paragraph\n",
    "mod_section_paragraphs = mod_section_content.split(\"\\n\\n\")\n",
    "display(len(mod_section_paragraphs))"
   ]
  },
  {
   "cell_type": "markdown",
   "id": "f1da0d8d-adc4-4403-be49-4385ea781ac8",
   "metadata": {
    "editable": true,
    "papermill": {
     "duration": 0.026636,
     "end_time": "2024-03-20T21:35:21.959504",
     "exception": false,
     "start_time": "2024-03-20T21:35:21.932868",
     "status": "completed"
    },
    "slideshow": {
     "slide_type": ""
    },
    "tags": []
   },
   "source": [
    "### Match"
   ]
  },
  {
   "cell_type": "code",
   "execution_count": 141,
   "id": "53720cd3-8e0a-4d31-8883-c206026f9e5f",
   "metadata": {
    "execution": {
     "iopub.execute_input": "2024-03-20T21:35:22.013936Z",
     "iopub.status.busy": "2024-03-20T21:35:22.013632Z",
     "iopub.status.idle": "2024-03-20T21:35:22.016887Z",
     "shell.execute_reply": "2024-03-20T21:35:22.016472Z"
    },
    "papermill": {
     "duration": 0.031386,
     "end_time": "2024-03-20T21:35:22.017602",
     "exception": false,
     "start_time": "2024-03-20T21:35:21.986216",
     "status": "completed"
    },
    "tags": []
   },
   "outputs": [
    {
     "data": {
      "text/plain": [
       "'## (Supplementary / Online) Methods {.page_break_before}'"
      ]
     },
     "execution_count": 141,
     "metadata": {},
     "output_type": "execute_result"
    }
   ],
   "source": [
    "orig_section_paragraphs[0]"
   ]
  },
  {
   "cell_type": "code",
   "execution_count": 142,
   "id": "2638f377-a44a-4d05-8fca-bfa9383ca736",
   "metadata": {
    "execution": {
     "iopub.execute_input": "2024-03-20T21:35:22.071911Z",
     "iopub.status.busy": "2024-03-20T21:35:22.071611Z",
     "iopub.status.idle": "2024-03-20T21:35:22.074864Z",
     "shell.execute_reply": "2024-03-20T21:35:22.074447Z"
    },
    "papermill": {
     "duration": 0.031042,
     "end_time": "2024-03-20T21:35:22.075527",
     "exception": false,
     "start_time": "2024-03-20T21:35:22.044485",
     "status": "completed"
    },
    "tags": []
   },
   "outputs": [
    {
     "data": {
      "text/plain": [
       "'## (Supplementary / Online) Methods {.page_break_before}'"
      ]
     },
     "execution_count": 142,
     "metadata": {},
     "output_type": "execute_result"
    }
   ],
   "source": [
    "mod_section_paragraphs[0]"
   ]
  },
  {
   "cell_type": "markdown",
   "id": "639829e1-1463-41b5-b91d-b2bdd319e04e",
   "metadata": {
    "editable": true,
    "papermill": {
     "duration": 0.026793,
     "end_time": "2024-03-20T21:35:22.128948",
     "exception": false,
     "start_time": "2024-03-20T21:35:22.102155",
     "status": "completed"
    },
    "slideshow": {
     "slide_type": ""
    },
    "tags": []
   },
   "source": [
    "####  Paragraph 00"
   ]
  },
  {
   "cell_type": "code",
   "execution_count": 143,
   "id": "bde47e33-80ca-4c52-a420-868e3721fdf3",
   "metadata": {
    "execution": {
     "iopub.execute_input": "2024-03-20T21:35:22.182885Z",
     "iopub.status.busy": "2024-03-20T21:35:22.182701Z",
     "iopub.status.idle": "2024-03-20T21:35:22.185628Z",
     "shell.execute_reply": "2024-03-20T21:35:22.185196Z"
    },
    "papermill": {
     "duration": 0.030794,
     "end_time": "2024-03-20T21:35:22.186333",
     "exception": false,
     "start_time": "2024-03-20T21:35:22.155539",
     "status": "completed"
    },
    "tags": []
   },
   "outputs": [
    {
     "name": "stdout",
     "output_type": "stream",
     "text": [
      "BioChatter (version 0.4.7 at the time of publication) is a Python library, supporting Python 3.10-3.12, which we ensure with a continuous integration pipeline on GitHub ([https://github.com/biocypher/biochatter](https://github.com/biocypher/biochatter)). We provide documentation at [https://biochatter.org](https://biochatter.org), including a tutorial and API reference. All packages are developed openly and according to modern standards of software development [@doi:10.1038/s41597-020-0486-7]; we use the permissive MIT licence to encourage downstream use and development. We include a code of conduct and contributor guidelines to offer accessibility and inclusivity to all who are interested in contributing to the framework.\n"
     ]
    }
   ],
   "source": [
    "par0 = process_paragraph(orig_section_paragraphs[1])\n",
    "print(par0)"
   ]
  },
  {
   "cell_type": "code",
   "execution_count": 144,
   "id": "a613037a-a64e-43cf-abda-cf0a4a736502",
   "metadata": {
    "execution": {
     "iopub.execute_input": "2024-03-20T21:35:22.240786Z",
     "iopub.status.busy": "2024-03-20T21:35:22.240453Z",
     "iopub.status.idle": "2024-03-20T21:35:22.243614Z",
     "shell.execute_reply": "2024-03-20T21:35:22.243176Z"
    },
    "papermill": {
     "duration": 0.031321,
     "end_time": "2024-03-20T21:35:22.244328",
     "exception": false,
     "start_time": "2024-03-20T21:35:22.213007",
     "status": "completed"
    },
    "tags": []
   },
   "outputs": [
    {
     "name": "stdout",
     "output_type": "stream",
     "text": [
      "BioChatter (version 0.4.7 at the time of publication) is a Python library that supports Python 3.10-3.12. The compatibility with these versions is ensured through a continuous integration pipeline on GitHub (https://github.com/biocypher/biochatter). Documentation for BioChatter can be found at https://biochatter.org, which includes a tutorial and API reference. The development of all packages is done openly and follows modern software development standards [@doi:10.1038/s41597-020-0486-7]. To encourage downstream use and development, we have chosen the permissive MIT license. Additionally, we have included a code of conduct and contributor guidelines to promote accessibility and inclusivity for all individuals interested in contributing to the framework. \n",
      "$$ \n",
      "\\text{Equation (@id): Definition of important symbol} \n",
      "$$\n"
     ]
    }
   ],
   "source": [
    "par1 = (\n",
    "    process_paragraph(mod_section_paragraphs[1:3])\n",
    "    .replace(\"$$\", \"\\n$$\")\n",
    "    .replace(\"\\\\text\", \"\\n\\\\text\")\n",
    ")\n",
    "print(par1)"
   ]
  },
  {
   "cell_type": "code",
   "execution_count": 145,
   "id": "fd5ca3b4-323c-4abf-8cb9-9a9773f4aed1",
   "metadata": {
    "execution": {
     "iopub.execute_input": "2024-03-20T21:35:22.298693Z",
     "iopub.status.busy": "2024-03-20T21:35:22.298199Z",
     "iopub.status.idle": "2024-03-20T21:35:22.300855Z",
     "shell.execute_reply": "2024-03-20T21:35:22.300419Z"
    },
    "papermill": {
     "duration": 0.030508,
     "end_time": "2024-03-20T21:35:22.301560",
     "exception": false,
     "start_time": "2024-03-20T21:35:22.271052",
     "status": "completed"
    },
    "tags": []
   },
   "outputs": [],
   "source": [
    "paragraph_matches.append(\n",
    "    (\n",
    "        section_name,\n",
    "        par0,\n",
    "        par1,\n",
    "    )\n",
    ")"
   ]
  },
  {
   "cell_type": "code",
   "execution_count": 146,
   "id": "1fb17a25-e891-4ae1-a04f-a58e8eb33558",
   "metadata": {
    "execution": {
     "iopub.execute_input": "2024-03-20T21:35:22.356333Z",
     "iopub.status.busy": "2024-03-20T21:35:22.355867Z",
     "iopub.status.idle": "2024-03-20T21:35:22.359346Z",
     "shell.execute_reply": "2024-03-20T21:35:22.358925Z"
    },
    "papermill": {
     "duration": 0.031629,
     "end_time": "2024-03-20T21:35:22.360047",
     "exception": false,
     "start_time": "2024-03-20T21:35:22.328418",
     "status": "completed"
    },
    "tags": []
   },
   "outputs": [
    {
     "data": {
      "text/plain": [
       "('methods',\n",
       " 'BioChatter (version 0.4.7 at the time of publication) is a Python library, supporting Python 3.10-3.12, which we ensure with a continuous integration pipeline on GitHub ([https://github.com/biocypher/biochatter](https://github.com/biocypher/biochatter)). We provide documentation at [https://biochatter.org](https://biochatter.org), including a tutorial and API reference. All packages are developed openly and according to modern standards of software development [@doi:10.1038/s41597-020-0486-7]; we use the permissive MIT licence to encourage downstream use and development. We include a code of conduct and contributor guidelines to offer accessibility and inclusivity to all who are interested in contributing to the framework.',\n",
       " 'BioChatter (version 0.4.7 at the time of publication) is a Python library that supports Python 3.10-3.12. The compatibility with these versions is ensured through a continuous integration pipeline on GitHub (https://github.com/biocypher/biochatter). Documentation for BioChatter can be found at https://biochatter.org, which includes a tutorial and API reference. The development of all packages is done openly and follows modern software development standards [@doi:10.1038/s41597-020-0486-7]. To encourage downstream use and development, we have chosen the permissive MIT license. Additionally, we have included a code of conduct and contributor guidelines to promote accessibility and inclusivity for all individuals interested in contributing to the framework. \\n$$ \\n\\\\text{Equation (@id): Definition of important symbol} \\n$$')"
      ]
     },
     "metadata": {},
     "output_type": "display_data"
    }
   ],
   "source": [
    "display(paragraph_matches[-1])"
   ]
  },
  {
   "cell_type": "markdown",
   "id": "626a2445-2b50-4564-8805-435db74bd47a",
   "metadata": {
    "editable": true,
    "papermill": {
     "duration": 0.026546,
     "end_time": "2024-03-20T21:35:22.413475",
     "exception": false,
     "start_time": "2024-03-20T21:35:22.386929",
     "status": "completed"
    },
    "slideshow": {
     "slide_type": ""
    },
    "tags": []
   },
   "source": [
    "####  Paragraph 01"
   ]
  },
  {
   "cell_type": "code",
   "execution_count": 147,
   "id": "c96448ac-3d15-40aa-8b1d-9d348cb46b46",
   "metadata": {
    "execution": {
     "iopub.execute_input": "2024-03-20T21:35:22.467856Z",
     "iopub.status.busy": "2024-03-20T21:35:22.467392Z",
     "iopub.status.idle": "2024-03-20T21:35:22.470470Z",
     "shell.execute_reply": "2024-03-20T21:35:22.470023Z"
    },
    "papermill": {
     "duration": 0.030995,
     "end_time": "2024-03-20T21:35:22.471184",
     "exception": false,
     "start_time": "2024-03-20T21:35:22.440189",
     "status": "completed"
    },
    "tags": []
   },
   "outputs": [
    {
     "name": "stdout",
     "output_type": "stream",
     "text": [
      "BioChatter Light is a web app based on the Streamlit framework (version 1.31.1, [https://streamlit.io](https://streamlit.io)), which is written in Python and can be deployed locally or on a server ([https://github.com/biocypher/biochatter-light](https://github.com/biocypher/biochatter-light)). The ease with which Streamlit allows the creation of interactive web apps in pure Python enables rapid iteration and agile development of new features, with the tradeoff of limited customisation and scalability. This framework is suitable for rapid prototyping of bespoke solutions for specific use cases. For an up-to-date overview and preview of the current functionality of the platform, please visit the [online preview](https://chat.biocypher.org).\n"
     ]
    }
   ],
   "source": [
    "par0 = process_paragraph(orig_section_paragraphs[4])\n",
    "print(par0)"
   ]
  },
  {
   "cell_type": "code",
   "execution_count": 148,
   "id": "06769dc3-7e49-4f72-8b19-9e71798ddf90",
   "metadata": {
    "execution": {
     "iopub.execute_input": "2024-03-20T21:35:22.525448Z",
     "iopub.status.busy": "2024-03-20T21:35:22.525102Z",
     "iopub.status.idle": "2024-03-20T21:35:22.528001Z",
     "shell.execute_reply": "2024-03-20T21:35:22.527560Z"
    },
    "papermill": {
     "duration": 0.030873,
     "end_time": "2024-03-20T21:35:22.528735",
     "exception": false,
     "start_time": "2024-03-20T21:35:22.497862",
     "status": "completed"
    },
    "tags": []
   },
   "outputs": [
    {
     "name": "stdout",
     "output_type": "stream",
     "text": [
      "BioChatter Light is a web app based on the Streamlit framework (version 1.31.1, [https://streamlit.io](https://streamlit.io)), which is written in Python and can be deployed locally or on a server ([https://github.com/biocypher/biochatter-light](https://github.com/biocypher/biochatter-light)). The ease with which Streamlit allows the creation of interactive web apps in pure Python enables rapid iteration and agile development of new features, with the tradeoff of limited customization and scalability. This framework is suitable for rapid prototyping of bespoke solutions for specific use cases. For an up-to-date overview and preview of the current functionality of the platform, please visit the [online preview](https://chat.biocypher.org).\n"
     ]
    }
   ],
   "source": [
    "par1 = process_paragraph(\n",
    "    mod_section_paragraphs[5]\n",
    ")  # .replace(\"$$\", \"\\n$$\").replace(\"\\\\text\", \"\\n\\\\text\")\n",
    "print(par1)"
   ]
  },
  {
   "cell_type": "code",
   "execution_count": 149,
   "id": "33cc1054-8364-43af-8406-29f7484cb270",
   "metadata": {
    "execution": {
     "iopub.execute_input": "2024-03-20T21:35:22.582992Z",
     "iopub.status.busy": "2024-03-20T21:35:22.582644Z",
     "iopub.status.idle": "2024-03-20T21:35:22.585206Z",
     "shell.execute_reply": "2024-03-20T21:35:22.584774Z"
    },
    "papermill": {
     "duration": 0.030372,
     "end_time": "2024-03-20T21:35:22.585897",
     "exception": false,
     "start_time": "2024-03-20T21:35:22.555525",
     "status": "completed"
    },
    "tags": []
   },
   "outputs": [],
   "source": [
    "paragraph_matches.append(\n",
    "    (\n",
    "        section_name,\n",
    "        par0,\n",
    "        par1,\n",
    "    )\n",
    ")"
   ]
  },
  {
   "cell_type": "code",
   "execution_count": 150,
   "id": "d6057c60-1a37-4785-a2c4-dbd32d55eac1",
   "metadata": {
    "execution": {
     "iopub.execute_input": "2024-03-20T21:35:22.640640Z",
     "iopub.status.busy": "2024-03-20T21:35:22.640262Z",
     "iopub.status.idle": "2024-03-20T21:35:22.643762Z",
     "shell.execute_reply": "2024-03-20T21:35:22.643333Z"
    },
    "papermill": {
     "duration": 0.031458,
     "end_time": "2024-03-20T21:35:22.644462",
     "exception": false,
     "start_time": "2024-03-20T21:35:22.613004",
     "status": "completed"
    },
    "tags": []
   },
   "outputs": [
    {
     "data": {
      "text/plain": [
       "('methods',\n",
       " 'BioChatter Light is a web app based on the Streamlit framework (version 1.31.1, [https://streamlit.io](https://streamlit.io)), which is written in Python and can be deployed locally or on a server ([https://github.com/biocypher/biochatter-light](https://github.com/biocypher/biochatter-light)). The ease with which Streamlit allows the creation of interactive web apps in pure Python enables rapid iteration and agile development of new features, with the tradeoff of limited customisation and scalability. This framework is suitable for rapid prototyping of bespoke solutions for specific use cases. For an up-to-date overview and preview of the current functionality of the platform, please visit the [online preview](https://chat.biocypher.org).',\n",
       " 'BioChatter Light is a web app based on the Streamlit framework (version 1.31.1, [https://streamlit.io](https://streamlit.io)), which is written in Python and can be deployed locally or on a server ([https://github.com/biocypher/biochatter-light](https://github.com/biocypher/biochatter-light)). The ease with which Streamlit allows the creation of interactive web apps in pure Python enables rapid iteration and agile development of new features, with the tradeoff of limited customization and scalability. This framework is suitable for rapid prototyping of bespoke solutions for specific use cases. For an up-to-date overview and preview of the current functionality of the platform, please visit the [online preview](https://chat.biocypher.org).')"
      ]
     },
     "metadata": {},
     "output_type": "display_data"
    }
   ],
   "source": [
    "display(paragraph_matches[-1])"
   ]
  },
  {
   "cell_type": "markdown",
   "id": "c9818db3-fe11-4d06-82b7-e7cd5a83b5b9",
   "metadata": {
    "editable": true,
    "papermill": {
     "duration": 0.02667,
     "end_time": "2024-03-20T21:35:22.697909",
     "exception": false,
     "start_time": "2024-03-20T21:35:22.671239",
     "status": "completed"
    },
    "slideshow": {
     "slide_type": ""
    },
    "tags": []
   },
   "source": [
    "####  Paragraph 02"
   ]
  },
  {
   "cell_type": "code",
   "execution_count": 151,
   "id": "bfe91365-6b1a-49f1-aad9-a2afb9cea749",
   "metadata": {
    "execution": {
     "iopub.execute_input": "2024-03-20T21:35:22.751938Z",
     "iopub.status.busy": "2024-03-20T21:35:22.751757Z",
     "iopub.status.idle": "2024-03-20T21:35:22.754714Z",
     "shell.execute_reply": "2024-03-20T21:35:22.754279Z"
    },
    "papermill": {
     "duration": 0.030714,
     "end_time": "2024-03-20T21:35:22.755414",
     "exception": false,
     "start_time": "2024-03-20T21:35:22.724700",
     "status": "completed"
    },
    "tags": []
   },
   "outputs": [
    {
     "name": "stdout",
     "output_type": "stream",
     "text": [
      "BioChatter Next ([https://github.com/biocypher/biochatter-next](https://github.com/biocypher/biochatter-next)) is a modern web app with server-client architecture, based on the open-source template of ChatGPT-Next-Web ([https://github.com/ChatGPTNextWeb/ChatGPT-Next-Web](https://github.com/ChatGPTNextWeb/ChatGPT-Next-Web)). It is written combining Typescript and Python and uses Next.js (v13.4.9) for a sleek frontend and Flask (v3.0.0) as backend. It demonstrates the use of BioChatter in a modern web app, including full customisation and scalability and localisation in 18 languages. However, this comes at the cost of increased complexity and development time. To provide seamless integration of the BioChatter backend into existing frontend solutions, we provide the server implementation at [https://github.com/biocypher/biochatter-server](https://github.com/biocypher/biochatter-server) and as a Docker image in our Docker Hub organisation ([https://hub.docker.com/repository/docker/biocypher/biochatter-server](https://hub.docker.com/repository/docker/biocypher/biochatter-server)).\n"
     ]
    }
   ],
   "source": [
    "par0 = process_paragraph(orig_section_paragraphs[5])\n",
    "print(par0)"
   ]
  },
  {
   "cell_type": "code",
   "execution_count": 152,
   "id": "dcaae92f-3c45-49dc-ba24-2dc98c3c8e15",
   "metadata": {
    "execution": {
     "iopub.execute_input": "2024-03-20T21:35:22.809870Z",
     "iopub.status.busy": "2024-03-20T21:35:22.809691Z",
     "iopub.status.idle": "2024-03-20T21:35:22.812672Z",
     "shell.execute_reply": "2024-03-20T21:35:22.812229Z"
    },
    "papermill": {
     "duration": 0.031092,
     "end_time": "2024-03-20T21:35:22.813381",
     "exception": false,
     "start_time": "2024-03-20T21:35:22.782289",
     "status": "completed"
    },
    "tags": []
   },
   "outputs": [
    {
     "name": "stdout",
     "output_type": "stream",
     "text": [
      "BioChatter Next ([https://github.com/biocypher/biochatter-next](https://github.com/biocypher/biochatter-next)) is a contemporary web application with a server-client architecture, built upon the open-source framework of ChatGPT-Next-Web ([https://github.com/ChatGPTNextWeb/ChatGPT-Next-Web](https://github.com/ChatGPTNextWeb/ChatGPT-Next-Web)). It is developed using a combination of Typescript and Python, utilizing Next.js (v13.4.9) for the frontend and Flask (v3.0.0) for the backend. The platform showcases the application of BioChatter within a modern web environment, offering extensive customization, scalability, and support for localization in 18 languages. Nevertheless, this enhanced functionality is accompanied by increased complexity and longer development cycles. To facilitate the seamless integration of the BioChatter backend with existing frontend solutions, we offer the server implementation at [https://github.com/biocypher/biochatter-server](https://github.com/biocypher/biochatter-server), as well as a Docker image within our Docker Hub organization ([https://hub.docker.com/repository/docker/biocypher/biochatter-server](https://hub.docker.com/repository/docker/biocypher/biochatter-server)).\n"
     ]
    }
   ],
   "source": [
    "par1 = process_paragraph(\n",
    "    mod_section_paragraphs[6]\n",
    ")  # .replace(\"$$\", \"\\n$$\").replace(\"\\\\text\", \"\\n\\\\text\")\n",
    "print(par1)"
   ]
  },
  {
   "cell_type": "code",
   "execution_count": 153,
   "id": "f43ab221-c1c5-45e3-8a44-af21ca74a69c",
   "metadata": {
    "execution": {
     "iopub.execute_input": "2024-03-20T21:35:22.868307Z",
     "iopub.status.busy": "2024-03-20T21:35:22.867848Z",
     "iopub.status.idle": "2024-03-20T21:35:22.870533Z",
     "shell.execute_reply": "2024-03-20T21:35:22.870103Z"
    },
    "papermill": {
     "duration": 0.030823,
     "end_time": "2024-03-20T21:35:22.871244",
     "exception": false,
     "start_time": "2024-03-20T21:35:22.840421",
     "status": "completed"
    },
    "tags": []
   },
   "outputs": [],
   "source": [
    "paragraph_matches.append(\n",
    "    (\n",
    "        section_name,\n",
    "        par0,\n",
    "        par1,\n",
    "    )\n",
    ")"
   ]
  },
  {
   "cell_type": "code",
   "execution_count": 154,
   "id": "cb5e98ce-ae69-47da-a99c-ced5b15c0320",
   "metadata": {
    "execution": {
     "iopub.execute_input": "2024-03-20T21:35:22.925952Z",
     "iopub.status.busy": "2024-03-20T21:35:22.925530Z",
     "iopub.status.idle": "2024-03-20T21:35:22.928940Z",
     "shell.execute_reply": "2024-03-20T21:35:22.928520Z"
    },
    "papermill": {
     "duration": 0.03152,
     "end_time": "2024-03-20T21:35:22.929634",
     "exception": false,
     "start_time": "2024-03-20T21:35:22.898114",
     "status": "completed"
    },
    "tags": []
   },
   "outputs": [
    {
     "data": {
      "text/plain": [
       "('methods',\n",
       " 'BioChatter Next ([https://github.com/biocypher/biochatter-next](https://github.com/biocypher/biochatter-next)) is a modern web app with server-client architecture, based on the open-source template of ChatGPT-Next-Web ([https://github.com/ChatGPTNextWeb/ChatGPT-Next-Web](https://github.com/ChatGPTNextWeb/ChatGPT-Next-Web)). It is written combining Typescript and Python and uses Next.js (v13.4.9) for a sleek frontend and Flask (v3.0.0) as backend. It demonstrates the use of BioChatter in a modern web app, including full customisation and scalability and localisation in 18 languages. However, this comes at the cost of increased complexity and development time. To provide seamless integration of the BioChatter backend into existing frontend solutions, we provide the server implementation at [https://github.com/biocypher/biochatter-server](https://github.com/biocypher/biochatter-server) and as a Docker image in our Docker Hub organisation ([https://hub.docker.com/repository/docker/biocypher/biochatter-server](https://hub.docker.com/repository/docker/biocypher/biochatter-server)).',\n",
       " 'BioChatter Next ([https://github.com/biocypher/biochatter-next](https://github.com/biocypher/biochatter-next)) is a contemporary web application with a server-client architecture, built upon the open-source framework of ChatGPT-Next-Web ([https://github.com/ChatGPTNextWeb/ChatGPT-Next-Web](https://github.com/ChatGPTNextWeb/ChatGPT-Next-Web)). It is developed using a combination of Typescript and Python, utilizing Next.js (v13.4.9) for the frontend and Flask (v3.0.0) for the backend. The platform showcases the application of BioChatter within a modern web environment, offering extensive customization, scalability, and support for localization in 18 languages. Nevertheless, this enhanced functionality is accompanied by increased complexity and longer development cycles. To facilitate the seamless integration of the BioChatter backend with existing frontend solutions, we offer the server implementation at [https://github.com/biocypher/biochatter-server](https://github.com/biocypher/biochatter-server), as well as a Docker image within our Docker Hub organization ([https://hub.docker.com/repository/docker/biocypher/biochatter-server](https://hub.docker.com/repository/docker/biocypher/biochatter-server)).')"
      ]
     },
     "metadata": {},
     "output_type": "display_data"
    }
   ],
   "source": [
    "display(paragraph_matches[-1])"
   ]
  },
  {
   "cell_type": "markdown",
   "id": "a18b3948-644c-4f26-91b5-5ffca2a3ea11",
   "metadata": {
    "editable": true,
    "papermill": {
     "duration": 0.026792,
     "end_time": "2024-03-20T21:35:22.983553",
     "exception": false,
     "start_time": "2024-03-20T21:35:22.956761",
     "status": "completed"
    },
    "slideshow": {
     "slide_type": ""
    },
    "tags": []
   },
   "source": [
    "####  Paragraph 03"
   ]
  },
  {
   "cell_type": "code",
   "execution_count": 155,
   "id": "a652e5d5-a65c-4412-b751-34ce3eacc102",
   "metadata": {
    "execution": {
     "iopub.execute_input": "2024-03-20T21:35:23.062038Z",
     "iopub.status.busy": "2024-03-20T21:35:23.061681Z",
     "iopub.status.idle": "2024-03-20T21:35:23.064600Z",
     "shell.execute_reply": "2024-03-20T21:35:23.064127Z"
    },
    "papermill": {
     "duration": 0.031374,
     "end_time": "2024-03-20T21:35:23.065329",
     "exception": false,
     "start_time": "2024-03-20T21:35:23.033955",
     "status": "completed"
    },
    "tags": []
   },
   "outputs": [
    {
     "name": "stdout",
     "output_type": "stream",
     "text": [
      "The benchmarking framework examines a matrix of component combinations using the parameterisation feature of Pytest [@pytest]. This implementation allows for the automated evaluation of all possible combinations of components, such as LLMs, prompts, and datasets. We performed the benchmarks on a MacBook Pro with an M3 Max chip with 40-core GPU and 128GB of RAM. As a default, we ran each test five times to account for the stochastic nature of LLMs. We generally set the temperature to the lowest value possible for each model to decrease fluctuation.\n"
     ]
    }
   ],
   "source": [
    "par0 = process_paragraph(orig_section_paragraphs[8])\n",
    "print(par0)"
   ]
  },
  {
   "cell_type": "code",
   "execution_count": 156,
   "id": "a7c95523-893b-442c-85ea-674524be26c8",
   "metadata": {
    "execution": {
     "iopub.execute_input": "2024-03-20T21:35:23.120488Z",
     "iopub.status.busy": "2024-03-20T21:35:23.120000Z",
     "iopub.status.idle": "2024-03-20T21:35:23.123128Z",
     "shell.execute_reply": "2024-03-20T21:35:23.122674Z"
    },
    "papermill": {
     "duration": 0.031379,
     "end_time": "2024-03-20T21:35:23.123853",
     "exception": false,
     "start_time": "2024-03-20T21:35:23.092474",
     "status": "completed"
    },
    "tags": []
   },
   "outputs": [
    {
     "name": "stdout",
     "output_type": "stream",
     "text": [
      "The benchmarking framework examines a matrix of component combinations using the parameterization feature of Pytest [@pytest]. This implementation allows for the automated evaluation of all possible combinations of components, such as Large Language Models (LLMs), prompts, and datasets. We performed the benchmarks on a MacBook Pro with an M3 Max chip with a 40-core GPU and 128GB of RAM. As a default, we ran each test five times to account for the stochastic nature of LLMs. We generally set the temperature to the lowest value possible for each model to decrease fluctuation. \n",
      "$$ \\text{Symbols:}\\\\ \\text{LLMs} - \\text{Large Language Models} \n",
      "$$\n"
     ]
    }
   ],
   "source": [
    "par1 = process_paragraph(mod_section_paragraphs[9:11]).replace(\n",
    "    \"$$\", \"\\n$$\"\n",
    ")  # .replace(\"\\\\text\\{LLM\", \"\\n\\\\text\\{LLM\")\n",
    "print(par1)"
   ]
  },
  {
   "cell_type": "code",
   "execution_count": 157,
   "id": "e06c1ab6-bf77-40ee-af24-0fbd08388bd4",
   "metadata": {
    "execution": {
     "iopub.execute_input": "2024-03-20T21:35:23.178550Z",
     "iopub.status.busy": "2024-03-20T21:35:23.178198Z",
     "iopub.status.idle": "2024-03-20T21:35:23.180830Z",
     "shell.execute_reply": "2024-03-20T21:35:23.180327Z"
    },
    "papermill": {
     "duration": 0.030726,
     "end_time": "2024-03-20T21:35:23.181543",
     "exception": false,
     "start_time": "2024-03-20T21:35:23.150817",
     "status": "completed"
    },
    "tags": []
   },
   "outputs": [],
   "source": [
    "paragraph_matches.append(\n",
    "    (\n",
    "        section_name,\n",
    "        par0,\n",
    "        par1,\n",
    "    )\n",
    ")"
   ]
  },
  {
   "cell_type": "code",
   "execution_count": 158,
   "id": "a7b9498f-caeb-48a4-bc85-f123bfa6c3cc",
   "metadata": {
    "execution": {
     "iopub.execute_input": "2024-03-20T21:35:23.236302Z",
     "iopub.status.busy": "2024-03-20T21:35:23.235972Z",
     "iopub.status.idle": "2024-03-20T21:35:23.239281Z",
     "shell.execute_reply": "2024-03-20T21:35:23.238855Z"
    },
    "papermill": {
     "duration": 0.031479,
     "end_time": "2024-03-20T21:35:23.239992",
     "exception": false,
     "start_time": "2024-03-20T21:35:23.208513",
     "status": "completed"
    },
    "tags": []
   },
   "outputs": [
    {
     "data": {
      "text/plain": [
       "('methods',\n",
       " 'The benchmarking framework examines a matrix of component combinations using the parameterisation feature of Pytest [@pytest]. This implementation allows for the automated evaluation of all possible combinations of components, such as LLMs, prompts, and datasets. We performed the benchmarks on a MacBook Pro with an M3 Max chip with 40-core GPU and 128GB of RAM. As a default, we ran each test five times to account for the stochastic nature of LLMs. We generally set the temperature to the lowest value possible for each model to decrease fluctuation.',\n",
       " 'The benchmarking framework examines a matrix of component combinations using the parameterization feature of Pytest [@pytest]. This implementation allows for the automated evaluation of all possible combinations of components, such as Large Language Models (LLMs), prompts, and datasets. We performed the benchmarks on a MacBook Pro with an M3 Max chip with a 40-core GPU and 128GB of RAM. As a default, we ran each test five times to account for the stochastic nature of LLMs. We generally set the temperature to the lowest value possible for each model to decrease fluctuation. \\n$$ \\\\text{Symbols:}\\\\\\\\ \\\\text{LLMs} - \\\\text{Large Language Models} \\n$$')"
      ]
     },
     "metadata": {},
     "output_type": "display_data"
    }
   ],
   "source": [
    "display(paragraph_matches[-1])"
   ]
  },
  {
   "cell_type": "markdown",
   "id": "4c7f5b06-bff6-48c6-923a-a15d42583f01",
   "metadata": {
    "editable": true,
    "papermill": {
     "duration": 0.026864,
     "end_time": "2024-03-20T21:35:23.294010",
     "exception": false,
     "start_time": "2024-03-20T21:35:23.267146",
     "status": "completed"
    },
    "slideshow": {
     "slide_type": ""
    },
    "tags": []
   },
   "source": [
    "####  Paragraph 04"
   ]
  },
  {
   "cell_type": "code",
   "execution_count": 159,
   "id": "63ac3958-4064-479b-a200-07dc7fa08306",
   "metadata": {
    "execution": {
     "iopub.execute_input": "2024-03-20T21:35:23.348800Z",
     "iopub.status.busy": "2024-03-20T21:35:23.348619Z",
     "iopub.status.idle": "2024-03-20T21:35:23.351749Z",
     "shell.execute_reply": "2024-03-20T21:35:23.351266Z"
    },
    "papermill": {
     "duration": 0.03144,
     "end_time": "2024-03-20T21:35:23.352465",
     "exception": false,
     "start_time": "2024-03-20T21:35:23.321025",
     "status": "completed"
    },
    "tags": []
   },
   "outputs": [
    {
     "name": "stdout",
     "output_type": "stream",
     "text": [
      "The Pytest matrix uses a hash-based system to evaluate whether a model-dataset combination has been run before. Briefly, the hash is calculated from the dictionary representation of the test parameters, and the test is skipped if the combination of hash and model name is already present in the database. This hashing optimises for efficiency by only running modified or newly added tests. The individual dimensions of the matrix are:\n",
      "- **LLMs**: Testing proprietary (OpenAI) and open-source models (commonly using the Xorbits Inference API and HuggingFace models) against the same set of tasks is the primary aim of our benchmarking framework. We facilitate the automation of testing by including a programmatic way of deploying open-source models.\n",
      "- **prompts**: Since model performance can dramatically rely on the used prompts, a set of prompts for each task with varying degrees of specificity and fixed as well as variable components is used to evaluate this variability.\n",
      "- **datasets**: We test various tasks using a set of datasets for each task in question-answer-style.\n",
      "- **data processing**: Some data processing steps can have great impact on the downstream performance of LLMs. For instance, we test the conversion of numbers (which LLMs are notoriously bad at handling) to categorical text (e.g., low, medium, high).\n",
      "- **model quantisations**: We test a set of quantisations for each model (where available) to account for the trade-off between model size, inference speed, and performance.\n",
      "- **model parameters**: Where suitable, we test a set of parameters for each model, such as \"temperature,\" which determines the reproducibility of model responses.\n",
      "- **integrations**: We write dedicated tests for specific tasks that require integrations, for instance with knowledge graphs or vector databases.\n",
      "- **stochasticity**: To account for variability in model responses, we include a parameter to run each test multiple times and generate summary statistics.\n",
      "- **sentiment and behaviour**: To assess whether the models exhibit the desired behaviour patterns for each of the personas, we let a second LLM evaluate the responses based on a set of criteria, including professionalism and politeness.\n"
     ]
    }
   ],
   "source": [
    "par0 = process_paragraph(orig_section_paragraphs[9:19]).replace(\" - \", \"\\n- \")\n",
    "print(par0)"
   ]
  },
  {
   "cell_type": "code",
   "execution_count": 160,
   "id": "4d34e503-4908-444e-a214-f38f1f7734ee",
   "metadata": {
    "execution": {
     "iopub.execute_input": "2024-03-20T21:35:23.407605Z",
     "iopub.status.busy": "2024-03-20T21:35:23.407253Z",
     "iopub.status.idle": "2024-03-20T21:35:23.410287Z",
     "shell.execute_reply": "2024-03-20T21:35:23.409841Z"
    },
    "papermill": {
     "duration": 0.031238,
     "end_time": "2024-03-20T21:35:23.410946",
     "exception": false,
     "start_time": "2024-03-20T21:35:23.379708",
     "status": "completed"
    },
    "tags": []
   },
   "outputs": [
    {
     "name": "stdout",
     "output_type": "stream",
     "text": [
      "The Pytest matrix utilizes a hash-based system to determine if a model-dataset combination has been previously executed. In essence, the hash is computed from the dictionary representation of the test parameters, and the test is skipped if the hash combined with the model name already exists in the database. This hashing strategy optimizes efficiency by only executing modified or newly added tests. The key dimensions of the matrix include:\n",
      "- **LLMs**: The primary objective of our benchmarking framework is to test both proprietary (OpenAI) and open-source models (commonly leveraging the Xorbits Inference API and HuggingFace models) against the same set of tasks. We streamline the testing process by incorporating a programmatic approach to deploying open-source models.\n",
      "- **prompts**: Given that model performance can significantly depend on the prompts used, we employ a range of prompts for each task with varying levels of specificity and components that are fixed or variable to assess this variability.\n",
      "- **datasets**: Various tasks are tested using specific datasets structured in a question-answer format.\n",
      "- **data processing**: Certain data processing steps can significantly impact the subsequent performance of LLMs. For example, we evaluate the conversion of numbers (which LLMs often struggle with) into categorical text (e.g., low, medium, high).\n",
      "- **model quantizations**: We assess a variety of quantizations for each model (where applicable) to consider the trade-off between model size, inference speed, and performance.\n",
      "- **model parameters**: When appropriate, we examine a range of parameters for each model, such as \"temperature,\" which influences the reproducibility of model outputs.\n",
      "- **integrations**: Dedicated tests are developed for specific tasks that necessitate integrations, such as with knowledge graphs or vector databases.\n",
      "- **stochasticity**: To address the variability in model responses, we incorporate a parameter to run each test multiple times and generate summary statistics.\n",
      "- **sentiment and behavior**: To evaluate whether the models demonstrate the desired behavior patterns for different personas, we employ a second LLM to assess the responses based on criteria like professionalism and politeness.\n"
     ]
    }
   ],
   "source": [
    "par1 = process_paragraph(mod_section_paragraphs[11:21]).replace(\" - \", \"\\n- \")\n",
    "print(par1)"
   ]
  },
  {
   "cell_type": "code",
   "execution_count": 161,
   "id": "94daea43-a362-4c43-b008-508e4be5c4ff",
   "metadata": {
    "execution": {
     "iopub.execute_input": "2024-03-20T21:35:23.466000Z",
     "iopub.status.busy": "2024-03-20T21:35:23.465819Z",
     "iopub.status.idle": "2024-03-20T21:35:23.468465Z",
     "shell.execute_reply": "2024-03-20T21:35:23.467959Z"
    },
    "papermill": {
     "duration": 0.031106,
     "end_time": "2024-03-20T21:35:23.469176",
     "exception": false,
     "start_time": "2024-03-20T21:35:23.438070",
     "status": "completed"
    },
    "tags": []
   },
   "outputs": [],
   "source": [
    "paragraph_matches.append(\n",
    "    (\n",
    "        section_name,\n",
    "        par0,\n",
    "        par1,\n",
    "    )\n",
    ")"
   ]
  },
  {
   "cell_type": "code",
   "execution_count": 162,
   "id": "713da4ef-4e0e-469a-805a-363d42130f66",
   "metadata": {
    "execution": {
     "iopub.execute_input": "2024-03-20T21:35:23.524575Z",
     "iopub.status.busy": "2024-03-20T21:35:23.524217Z",
     "iopub.status.idle": "2024-03-20T21:35:23.527632Z",
     "shell.execute_reply": "2024-03-20T21:35:23.527208Z"
    },
    "papermill": {
     "duration": 0.031971,
     "end_time": "2024-03-20T21:35:23.528416",
     "exception": false,
     "start_time": "2024-03-20T21:35:23.496445",
     "status": "completed"
    },
    "tags": []
   },
   "outputs": [
    {
     "data": {
      "text/plain": [
       "('methods',\n",
       " 'The Pytest matrix uses a hash-based system to evaluate whether a model-dataset combination has been run before. Briefly, the hash is calculated from the dictionary representation of the test parameters, and the test is skipped if the combination of hash and model name is already present in the database. This hashing optimises for efficiency by only running modified or newly added tests. The individual dimensions of the matrix are:\\n- **LLMs**: Testing proprietary (OpenAI) and open-source models (commonly using the Xorbits Inference API and HuggingFace models) against the same set of tasks is the primary aim of our benchmarking framework. We facilitate the automation of testing by including a programmatic way of deploying open-source models.\\n- **prompts**: Since model performance can dramatically rely on the used prompts, a set of prompts for each task with varying degrees of specificity and fixed as well as variable components is used to evaluate this variability.\\n- **datasets**: We test various tasks using a set of datasets for each task in question-answer-style.\\n- **data processing**: Some data processing steps can have great impact on the downstream performance of LLMs. For instance, we test the conversion of numbers (which LLMs are notoriously bad at handling) to categorical text (e.g., low, medium, high).\\n- **model quantisations**: We test a set of quantisations for each model (where available) to account for the trade-off between model size, inference speed, and performance.\\n- **model parameters**: Where suitable, we test a set of parameters for each model, such as \"temperature,\" which determines the reproducibility of model responses.\\n- **integrations**: We write dedicated tests for specific tasks that require integrations, for instance with knowledge graphs or vector databases.\\n- **stochasticity**: To account for variability in model responses, we include a parameter to run each test multiple times and generate summary statistics.\\n- **sentiment and behaviour**: To assess whether the models exhibit the desired behaviour patterns for each of the personas, we let a second LLM evaluate the responses based on a set of criteria, including professionalism and politeness.',\n",
       " 'The Pytest matrix utilizes a hash-based system to determine if a model-dataset combination has been previously executed. In essence, the hash is computed from the dictionary representation of the test parameters, and the test is skipped if the hash combined with the model name already exists in the database. This hashing strategy optimizes efficiency by only executing modified or newly added tests. The key dimensions of the matrix include:\\n- **LLMs**: The primary objective of our benchmarking framework is to test both proprietary (OpenAI) and open-source models (commonly leveraging the Xorbits Inference API and HuggingFace models) against the same set of tasks. We streamline the testing process by incorporating a programmatic approach to deploying open-source models.\\n- **prompts**: Given that model performance can significantly depend on the prompts used, we employ a range of prompts for each task with varying levels of specificity and components that are fixed or variable to assess this variability.\\n- **datasets**: Various tasks are tested using specific datasets structured in a question-answer format.\\n- **data processing**: Certain data processing steps can significantly impact the subsequent performance of LLMs. For example, we evaluate the conversion of numbers (which LLMs often struggle with) into categorical text (e.g., low, medium, high).\\n- **model quantizations**: We assess a variety of quantizations for each model (where applicable) to consider the trade-off between model size, inference speed, and performance.\\n- **model parameters**: When appropriate, we examine a range of parameters for each model, such as \"temperature,\" which influences the reproducibility of model outputs.\\n- **integrations**: Dedicated tests are developed for specific tasks that necessitate integrations, such as with knowledge graphs or vector databases.\\n- **stochasticity**: To address the variability in model responses, we incorporate a parameter to run each test multiple times and generate summary statistics.\\n- **sentiment and behavior**: To evaluate whether the models demonstrate the desired behavior patterns for different personas, we employ a second LLM to assess the responses based on criteria like professionalism and politeness.')"
      ]
     },
     "metadata": {},
     "output_type": "display_data"
    }
   ],
   "source": [
    "display(paragraph_matches[-1])"
   ]
  },
  {
   "cell_type": "markdown",
   "id": "54d6a6fa-eca7-4dfe-9480-4c731135243e",
   "metadata": {
    "editable": true,
    "papermill": {
     "duration": 0.027231,
     "end_time": "2024-03-20T21:35:23.582896",
     "exception": false,
     "start_time": "2024-03-20T21:35:23.555665",
     "status": "completed"
    },
    "slideshow": {
     "slide_type": ""
    },
    "tags": []
   },
   "source": [
    "####  Paragraph 05"
   ]
  },
  {
   "cell_type": "code",
   "execution_count": 163,
   "id": "11ae83fb-2b83-4851-b1e1-b41b7e9d7986",
   "metadata": {
    "execution": {
     "iopub.execute_input": "2024-03-20T21:35:23.638365Z",
     "iopub.status.busy": "2024-03-20T21:35:23.637997Z",
     "iopub.status.idle": "2024-03-20T21:35:23.640915Z",
     "shell.execute_reply": "2024-03-20T21:35:23.640480Z"
    },
    "papermill": {
     "duration": 0.031496,
     "end_time": "2024-03-20T21:35:23.641697",
     "exception": false,
     "start_time": "2024-03-20T21:35:23.610201",
     "status": "completed"
    },
    "tags": []
   },
   "outputs": [
    {
     "name": "stdout",
     "output_type": "stream",
     "text": [
      "To prevent leakage of benchmarking data (and subsequent contamination of future LLMs), we implement an encryption routine on the benchmark datasets. The encryption is performed using a hybrid encryption scheme, where the data are encrypted with a symmetric key, which is in turn encrypted with an asymmetric key. The datasets are stored in a dedicated encrypted pipeline that is only accessible to the workflow that executes the benchmark. These processes are implemented at [https://github.com/biocypher/llm-test-dataset](https://github.com/biocypher/llm-test-dataset) and accessed from the benchmark procedure in BioChatter.\n"
     ]
    }
   ],
   "source": [
    "par0 = process_paragraph(orig_section_paragraphs[20])\n",
    "print(par0)"
   ]
  },
  {
   "cell_type": "code",
   "execution_count": 164,
   "id": "dc147a44-585a-4f7e-9d88-eb8fd67046b4",
   "metadata": {
    "execution": {
     "iopub.execute_input": "2024-03-20T21:35:23.697187Z",
     "iopub.status.busy": "2024-03-20T21:35:23.696833Z",
     "iopub.status.idle": "2024-03-20T21:35:23.699720Z",
     "shell.execute_reply": "2024-03-20T21:35:23.699279Z"
    },
    "papermill": {
     "duration": 0.031385,
     "end_time": "2024-03-20T21:35:23.700478",
     "exception": false,
     "start_time": "2024-03-20T21:35:23.669093",
     "status": "completed"
    },
    "tags": []
   },
   "outputs": [
    {
     "name": "stdout",
     "output_type": "stream",
     "text": [
      "To prevent leakage of benchmarking data (and subsequent contamination of future LLMs), an encryption routine is implemented on the benchmark datasets. The encryption is carried out using a hybrid encryption scheme, where the data are encrypted with a symmetric key, which is then encrypted with an asymmetric key. The datasets are stored in a dedicated encrypted pipeline that is exclusively accessible to the workflow executing the benchmark. These processes are implemented at [https://github.com/biocypher/llm-test-dataset](https://github.com/biocypher/llm-test-dataset) and accessed from the benchmark procedure in BioChatter.\n"
     ]
    }
   ],
   "source": [
    "par1 = process_paragraph(mod_section_paragraphs[24])\n",
    "print(par1)"
   ]
  },
  {
   "cell_type": "code",
   "execution_count": 165,
   "id": "23b6d12e-52ec-40fc-923e-b34eadee4100",
   "metadata": {
    "execution": {
     "iopub.execute_input": "2024-03-20T21:35:23.756561Z",
     "iopub.status.busy": "2024-03-20T21:35:23.756097Z",
     "iopub.status.idle": "2024-03-20T21:35:23.758786Z",
     "shell.execute_reply": "2024-03-20T21:35:23.758355Z"
    },
    "papermill": {
     "duration": 0.031376,
     "end_time": "2024-03-20T21:35:23.759495",
     "exception": false,
     "start_time": "2024-03-20T21:35:23.728119",
     "status": "completed"
    },
    "tags": []
   },
   "outputs": [],
   "source": [
    "paragraph_matches.append(\n",
    "    (\n",
    "        section_name,\n",
    "        par0,\n",
    "        par1,\n",
    "    )\n",
    ")"
   ]
  },
  {
   "cell_type": "code",
   "execution_count": 166,
   "id": "775b6f72-4f82-4c4b-99eb-9aba711c6290",
   "metadata": {
    "execution": {
     "iopub.execute_input": "2024-03-20T21:35:23.815086Z",
     "iopub.status.busy": "2024-03-20T21:35:23.814898Z",
     "iopub.status.idle": "2024-03-20T21:35:23.818372Z",
     "shell.execute_reply": "2024-03-20T21:35:23.817936Z"
    },
    "papermill": {
     "duration": 0.032179,
     "end_time": "2024-03-20T21:35:23.819089",
     "exception": false,
     "start_time": "2024-03-20T21:35:23.786910",
     "status": "completed"
    },
    "tags": []
   },
   "outputs": [
    {
     "data": {
      "text/plain": [
       "('methods',\n",
       " 'To prevent leakage of benchmarking data (and subsequent contamination of future LLMs), we implement an encryption routine on the benchmark datasets. The encryption is performed using a hybrid encryption scheme, where the data are encrypted with a symmetric key, which is in turn encrypted with an asymmetric key. The datasets are stored in a dedicated encrypted pipeline that is only accessible to the workflow that executes the benchmark. These processes are implemented at [https://github.com/biocypher/llm-test-dataset](https://github.com/biocypher/llm-test-dataset) and accessed from the benchmark procedure in BioChatter.',\n",
       " 'To prevent leakage of benchmarking data (and subsequent contamination of future LLMs), an encryption routine is implemented on the benchmark datasets. The encryption is carried out using a hybrid encryption scheme, where the data are encrypted with a symmetric key, which is then encrypted with an asymmetric key. The datasets are stored in a dedicated encrypted pipeline that is exclusively accessible to the workflow executing the benchmark. These processes are implemented at [https://github.com/biocypher/llm-test-dataset](https://github.com/biocypher/llm-test-dataset) and accessed from the benchmark procedure in BioChatter.')"
      ]
     },
     "metadata": {},
     "output_type": "display_data"
    }
   ],
   "source": [
    "display(paragraph_matches[-1])"
   ]
  },
  {
   "cell_type": "markdown",
   "id": "174a4838-5866-4909-b38f-93988b88c5e8",
   "metadata": {
    "editable": true,
    "papermill": {
     "duration": 0.027248,
     "end_time": "2024-03-20T21:35:23.874125",
     "exception": false,
     "start_time": "2024-03-20T21:35:23.846877",
     "status": "completed"
    },
    "slideshow": {
     "slide_type": ""
    },
    "tags": []
   },
   "source": [
    "####  Paragraph 06"
   ]
  },
  {
   "cell_type": "code",
   "execution_count": 167,
   "id": "c14fb275-9f57-4ac2-9812-63851460b897",
   "metadata": {
    "execution": {
     "iopub.execute_input": "2024-03-20T21:35:23.929468Z",
     "iopub.status.busy": "2024-03-20T21:35:23.929281Z",
     "iopub.status.idle": "2024-03-20T21:35:23.932228Z",
     "shell.execute_reply": "2024-03-20T21:35:23.931786Z"
    },
    "papermill": {
     "duration": 0.031412,
     "end_time": "2024-03-20T21:35:23.932947",
     "exception": false,
     "start_time": "2024-03-20T21:35:23.901535",
     "status": "completed"
    },
    "tags": []
   },
   "outputs": [
    {
     "name": "stdout",
     "output_type": "stream",
     "text": [
      "We utilise the close connection between BioChatter and the BioCypher framework [@biocypher] to integrate knowledge graph (KG) queries into the BioChatter API. In the BioCypher KG creation, we use a configuration file to map KG contents to ontology terms, including information about each of the entities. For instance, we detail the properties of a node and the source and target classes of an edge. Additionally, during the KG build process, we enrich this information and save it to a YAML file and, optionally, directly to the KG. This information is used by BioChatter to tune its understanding of the KG, which allows the LLM to query the KG more efficiently.\n"
     ]
    }
   ],
   "source": [
    "par0 = process_paragraph(orig_section_paragraphs[22])\n",
    "print(par0)"
   ]
  },
  {
   "cell_type": "code",
   "execution_count": 168,
   "id": "d72b58d5-6ef6-4199-980c-eec29b3db382",
   "metadata": {
    "execution": {
     "iopub.execute_input": "2024-03-20T21:35:23.988522Z",
     "iopub.status.busy": "2024-03-20T21:35:23.988142Z",
     "iopub.status.idle": "2024-03-20T21:35:23.991068Z",
     "shell.execute_reply": "2024-03-20T21:35:23.990619Z"
    },
    "papermill": {
     "duration": 0.031261,
     "end_time": "2024-03-20T21:35:23.991742",
     "exception": false,
     "start_time": "2024-03-20T21:35:23.960481",
     "status": "completed"
    },
    "tags": []
   },
   "outputs": [
    {
     "name": "stdout",
     "output_type": "stream",
     "text": [
      "We utilize the close connection between BioChatter and the BioCypher framework (Johnson et al., 2020) to integrate knowledge graph (KG) queries into the BioChatter API. In the BioCypher KG creation, we use a configuration file to map KG contents to ontology terms, including information about each of the entities. For instance, we detail the properties of a node and the source and target classes of an edge. Additionally, during the KG build process, we enrich this information and save it to a YAML file and, optionally, directly to the KG. This information is used by BioChatter to tune its understanding of the KG, which allows the Large Language Model (LLM) to query the KG more efficiently.\n"
     ]
    }
   ],
   "source": [
    "par1 = process_paragraph(mod_section_paragraphs[26])\n",
    "print(par1)"
   ]
  },
  {
   "cell_type": "code",
   "execution_count": 169,
   "id": "de69efcb-2718-4bb1-8f4b-64f980bdf599",
   "metadata": {
    "execution": {
     "iopub.execute_input": "2024-03-20T21:35:24.047677Z",
     "iopub.status.busy": "2024-03-20T21:35:24.047496Z",
     "iopub.status.idle": "2024-03-20T21:35:24.050199Z",
     "shell.execute_reply": "2024-03-20T21:35:24.049736Z"
    },
    "papermill": {
     "duration": 0.031553,
     "end_time": "2024-03-20T21:35:24.050956",
     "exception": false,
     "start_time": "2024-03-20T21:35:24.019403",
     "status": "completed"
    },
    "tags": []
   },
   "outputs": [],
   "source": [
    "paragraph_matches.append(\n",
    "    (\n",
    "        section_name,\n",
    "        par0,\n",
    "        par1,\n",
    "    )\n",
    ")"
   ]
  },
  {
   "cell_type": "code",
   "execution_count": 170,
   "id": "1895b737-b8f3-4cb9-ad02-f2c90c0e3288",
   "metadata": {
    "execution": {
     "iopub.execute_input": "2024-03-20T21:35:24.107283Z",
     "iopub.status.busy": "2024-03-20T21:35:24.106917Z",
     "iopub.status.idle": "2024-03-20T21:35:24.110371Z",
     "shell.execute_reply": "2024-03-20T21:35:24.109938Z"
    },
    "papermill": {
     "duration": 0.032253,
     "end_time": "2024-03-20T21:35:24.111083",
     "exception": false,
     "start_time": "2024-03-20T21:35:24.078830",
     "status": "completed"
    },
    "tags": []
   },
   "outputs": [
    {
     "data": {
      "text/plain": [
       "('methods',\n",
       " 'We utilise the close connection between BioChatter and the BioCypher framework [@biocypher] to integrate knowledge graph (KG) queries into the BioChatter API. In the BioCypher KG creation, we use a configuration file to map KG contents to ontology terms, including information about each of the entities. For instance, we detail the properties of a node and the source and target classes of an edge. Additionally, during the KG build process, we enrich this information and save it to a YAML file and, optionally, directly to the KG. This information is used by BioChatter to tune its understanding of the KG, which allows the LLM to query the KG more efficiently.',\n",
       " 'We utilize the close connection between BioChatter and the BioCypher framework (Johnson et al., 2020) to integrate knowledge graph (KG) queries into the BioChatter API. In the BioCypher KG creation, we use a configuration file to map KG contents to ontology terms, including information about each of the entities. For instance, we detail the properties of a node and the source and target classes of an edge. Additionally, during the KG build process, we enrich this information and save it to a YAML file and, optionally, directly to the KG. This information is used by BioChatter to tune its understanding of the KG, which allows the Large Language Model (LLM) to query the KG more efficiently.')"
      ]
     },
     "metadata": {},
     "output_type": "display_data"
    }
   ],
   "source": [
    "display(paragraph_matches[-1])"
   ]
  },
  {
   "cell_type": "markdown",
   "id": "173ec80c-0cd6-463f-86be-01d67b534293",
   "metadata": {
    "editable": true,
    "papermill": {
     "duration": 0.027285,
     "end_time": "2024-03-20T21:35:24.165996",
     "exception": false,
     "start_time": "2024-03-20T21:35:24.138711",
     "status": "completed"
    },
    "slideshow": {
     "slide_type": ""
    },
    "tags": []
   },
   "source": [
    "####  Paragraph 07"
   ]
  },
  {
   "cell_type": "code",
   "execution_count": 171,
   "id": "82850024-e286-412c-8957-e9ff2c640375",
   "metadata": {
    "execution": {
     "iopub.execute_input": "2024-03-20T21:35:24.221682Z",
     "iopub.status.busy": "2024-03-20T21:35:24.221331Z",
     "iopub.status.idle": "2024-03-20T21:35:24.224246Z",
     "shell.execute_reply": "2024-03-20T21:35:24.223794Z"
    },
    "papermill": {
     "duration": 0.03164,
     "end_time": "2024-03-20T21:35:24.225006",
     "exception": false,
     "start_time": "2024-03-20T21:35:24.193366",
     "status": "completed"
    },
    "tags": []
   },
   "outputs": [
    {
     "name": "stdout",
     "output_type": "stream",
     "text": [
      "By understanding the context of the KG, the exact contents, and the exact spelling of all identifiers and properties, we effectively support the LLM in generating correct queries. The query generation process is broken up into multiple steps by BioChatter: recognising entities and relationships according to the user's question, estimating properties to be used in the query, and generating a syntactically correct query in the query language of the database, based on the results from the previous steps and constraints given by the KG schema information. This procedure is implemented in the `prompts.py` module. To evaluate the quality of this process, we dedicate a module in the benchmark to the query generation process with a range of questions and KG schemata.\n"
     ]
    }
   ],
   "source": [
    "par0 = process_paragraph(orig_section_paragraphs[23])\n",
    "print(par0)"
   ]
  },
  {
   "cell_type": "code",
   "execution_count": 172,
   "id": "87751798-732e-4cc5-9102-e900ab03ea0b",
   "metadata": {
    "execution": {
     "iopub.execute_input": "2024-03-20T21:35:24.281221Z",
     "iopub.status.busy": "2024-03-20T21:35:24.280855Z",
     "iopub.status.idle": "2024-03-20T21:35:24.284262Z",
     "shell.execute_reply": "2024-03-20T21:35:24.283812Z"
    },
    "papermill": {
     "duration": 0.032255,
     "end_time": "2024-03-20T21:35:24.285021",
     "exception": false,
     "start_time": "2024-03-20T21:35:24.252766",
     "status": "completed"
    },
    "tags": []
   },
   "outputs": [
    {
     "name": "stdout",
     "output_type": "stream",
     "text": [
      "\n",
      "$$ \n",
      "\\text{BioCypher KG creation process:} \n",
      "$$ {#kg_creation}\n",
      "The BioCypher KG creation process involves using a configuration file to map KG contents to ontology terms. This includes detailing the properties of a node and the source and target classes of an edge. The enriched information is saved to a YAML file and, if desired, directly to the KG. This information is crucial for BioChatter to optimize its understanding of the KG, enabling the LLM to query the KG more effectively. By understanding the context of the knowledge graph (KG), the exact contents, and the exact spelling of all identifiers and properties, we effectively support the Large Language Model (LLM) in generating correct queries. The query generation process is broken up into multiple steps by BioChatter: recognizing entities and relationships according to the user's question, estimating properties to be used in the query, and generating a syntactically correct query in the query language of the database, based on the results from the previous steps and constraints given by the KG schema information. This procedure is implemented in the `prompts.py` module. $$ \\text{To evaluate the quality of this process, we dedicate a module in the benchmark to the query generation process with a range of questions and KG schemata.} $$\n"
     ]
    }
   ],
   "source": [
    "par1 = (\n",
    "    process_paragraph(mod_section_paragraphs[27:28])\n",
    "    .replace(\"$$\", \"\\n$$\")\n",
    "    .replace(\"\\\\text\", \"\\n\\\\text\")\n",
    "    + \"\\n\"\n",
    "    + process_paragraph(mod_section_paragraphs[28:31])\n",
    ")\n",
    "print(par1)"
   ]
  },
  {
   "cell_type": "code",
   "execution_count": 173,
   "id": "508cd603-49b6-4ba1-af1d-11e5bf2ed5bd",
   "metadata": {
    "execution": {
     "iopub.execute_input": "2024-03-20T21:35:24.365632Z",
     "iopub.status.busy": "2024-03-20T21:35:24.365135Z",
     "iopub.status.idle": "2024-03-20T21:35:24.367820Z",
     "shell.execute_reply": "2024-03-20T21:35:24.367376Z"
    },
    "papermill": {
     "duration": 0.031689,
     "end_time": "2024-03-20T21:35:24.368577",
     "exception": false,
     "start_time": "2024-03-20T21:35:24.336888",
     "status": "completed"
    },
    "tags": []
   },
   "outputs": [],
   "source": [
    "paragraph_matches.append(\n",
    "    (\n",
    "        section_name,\n",
    "        par0,\n",
    "        par1,\n",
    "    )\n",
    ")"
   ]
  },
  {
   "cell_type": "code",
   "execution_count": 174,
   "id": "e2fb1189-ea4f-488a-bf0c-3e8e4abf8e45",
   "metadata": {
    "execution": {
     "iopub.execute_input": "2024-03-20T21:35:24.425349Z",
     "iopub.status.busy": "2024-03-20T21:35:24.424939Z",
     "iopub.status.idle": "2024-03-20T21:35:24.428424Z",
     "shell.execute_reply": "2024-03-20T21:35:24.427969Z"
    },
    "papermill": {
     "duration": 0.032285,
     "end_time": "2024-03-20T21:35:24.429159",
     "exception": false,
     "start_time": "2024-03-20T21:35:24.396874",
     "status": "completed"
    },
    "tags": []
   },
   "outputs": [
    {
     "data": {
      "text/plain": [
       "('methods',\n",
       " \"By understanding the context of the KG, the exact contents, and the exact spelling of all identifiers and properties, we effectively support the LLM in generating correct queries. The query generation process is broken up into multiple steps by BioChatter: recognising entities and relationships according to the user's question, estimating properties to be used in the query, and generating a syntactically correct query in the query language of the database, based on the results from the previous steps and constraints given by the KG schema information. This procedure is implemented in the `prompts.py` module. To evaluate the quality of this process, we dedicate a module in the benchmark to the query generation process with a range of questions and KG schemata.\",\n",
       " \"\\n$$ \\n\\\\text{BioCypher KG creation process:} \\n$$ {#kg_creation}\\nThe BioCypher KG creation process involves using a configuration file to map KG contents to ontology terms. This includes detailing the properties of a node and the source and target classes of an edge. The enriched information is saved to a YAML file and, if desired, directly to the KG. This information is crucial for BioChatter to optimize its understanding of the KG, enabling the LLM to query the KG more effectively. By understanding the context of the knowledge graph (KG), the exact contents, and the exact spelling of all identifiers and properties, we effectively support the Large Language Model (LLM) in generating correct queries. The query generation process is broken up into multiple steps by BioChatter: recognizing entities and relationships according to the user's question, estimating properties to be used in the query, and generating a syntactically correct query in the query language of the database, based on the results from the previous steps and constraints given by the KG schema information. This procedure is implemented in the `prompts.py` module. $$ \\\\text{To evaluate the quality of this process, we dedicate a module in the benchmark to the query generation process with a range of questions and KG schemata.} $$\")"
      ]
     },
     "metadata": {},
     "output_type": "display_data"
    }
   ],
   "source": [
    "display(paragraph_matches[-1])"
   ]
  },
  {
   "cell_type": "markdown",
   "id": "461f18a6-ad27-4d63-97cd-b0a6b47fad61",
   "metadata": {
    "editable": true,
    "papermill": {
     "duration": 0.027906,
     "end_time": "2024-03-20T21:35:24.485152",
     "exception": false,
     "start_time": "2024-03-20T21:35:24.457246",
     "status": "completed"
    },
    "slideshow": {
     "slide_type": ""
    },
    "tags": []
   },
   "source": [
    "####  Paragraph 08"
   ]
  },
  {
   "cell_type": "code",
   "execution_count": 175,
   "id": "66500345-b007-47cc-94f3-4b422cd13529",
   "metadata": {
    "execution": {
     "iopub.execute_input": "2024-03-20T21:35:24.542011Z",
     "iopub.status.busy": "2024-03-20T21:35:24.541632Z",
     "iopub.status.idle": "2024-03-20T21:35:24.544688Z",
     "shell.execute_reply": "2024-03-20T21:35:24.544184Z"
    },
    "papermill": {
     "duration": 0.032311,
     "end_time": "2024-03-20T21:35:24.545416",
     "exception": false,
     "start_time": "2024-03-20T21:35:24.513105",
     "status": "completed"
    },
    "tags": []
   },
   "outputs": [
    {
     "name": "stdout",
     "output_type": "stream",
     "text": [
      "To illustrate the usage of this feature, we provide a demonstration repository at [https://github.com/biocypher/pole](https://github.com/biocypher/pole) including a KG build procedure and an instance of BioChatter Light, which can be run using a single Docker Compose command. The pole KG can also be used in conjunction with the BioChatter Next app by using the `docker-compose.yaml` file to build the application locally. A demonstration of this use case is available in [Supplementary Note 1: Knowledge Graph Retrieval-Augmented Generation] and on our website ([https://biochatter.org/vignette-kg/](https://biochatter.org/vignette-kg/)).\n"
     ]
    }
   ],
   "source": [
    "par0 = process_paragraph(orig_section_paragraphs[24])\n",
    "print(par0)"
   ]
  },
  {
   "cell_type": "code",
   "execution_count": 176,
   "id": "08baadce-7877-4b62-bebc-de9013d6a16f",
   "metadata": {
    "execution": {
     "iopub.execute_input": "2024-03-20T21:35:24.602282Z",
     "iopub.status.busy": "2024-03-20T21:35:24.601924Z",
     "iopub.status.idle": "2024-03-20T21:35:24.605372Z",
     "shell.execute_reply": "2024-03-20T21:35:24.604902Z"
    },
    "papermill": {
     "duration": 0.032647,
     "end_time": "2024-03-20T21:35:24.606047",
     "exception": false,
     "start_time": "2024-03-20T21:35:24.573400",
     "status": "completed"
    },
    "tags": []
   },
   "outputs": [
    {
     "name": "stdout",
     "output_type": "stream",
     "text": [
      "This evaluation process helps us understand how well the LLM can generate queries based on the information provided by the KG and the user's input. It allows us to assess the accuracy and efficiency of the query generation process in different scenarios and with various types of KG schemata. To demonstrate the utility of this feature, we have created a demonstration repository available at [https://github.com/biocypher/pole](https://github.com/biocypher/pole). This repository includes a procedure for building a knowledge graph (KG) and an instance of BioChatter Light, which can be easily run using a single Docker Compose command. Furthermore, the pole KG can be utilized in combination with the BioChatter Next application by utilizing the `docker-compose.yaml` file to locally build the application. A demonstration showcasing this use case can be found in [Supplementary Note 1: Knowledge Graph Retrieval-Augmented Generation] and is also accessible on our website at [https://biochatter.org/vignette-kg/](https://biochatter.org/vignette-kg/).\n"
     ]
    }
   ],
   "source": [
    "par1 = process_paragraph(\n",
    "    [\n",
    "        process_paragraph(mod_section_paragraphs[31:32])\n",
    "        .replace(\"$$\", \"\\n$$\")\n",
    "        .replace(\"\\\\text\", \"\\n\\\\text\"),\n",
    "        process_paragraph(mod_section_paragraphs[32:33]),\n",
    "    ]\n",
    ")\n",
    "print(par1)"
   ]
  },
  {
   "cell_type": "code",
   "execution_count": 177,
   "id": "41782770-bcc9-451d-ab67-4fc0c17bd7d1",
   "metadata": {
    "execution": {
     "iopub.execute_input": "2024-03-20T21:35:24.663062Z",
     "iopub.status.busy": "2024-03-20T21:35:24.662710Z",
     "iopub.status.idle": "2024-03-20T21:35:24.665256Z",
     "shell.execute_reply": "2024-03-20T21:35:24.664826Z"
    },
    "papermill": {
     "duration": 0.031739,
     "end_time": "2024-03-20T21:35:24.665980",
     "exception": false,
     "start_time": "2024-03-20T21:35:24.634241",
     "status": "completed"
    },
    "tags": []
   },
   "outputs": [],
   "source": [
    "paragraph_matches.append(\n",
    "    (\n",
    "        section_name,\n",
    "        par0,\n",
    "        par1,\n",
    "    )\n",
    ")"
   ]
  },
  {
   "cell_type": "code",
   "execution_count": 178,
   "id": "446db340-f8eb-4410-a0ef-8ada3f8eb95e",
   "metadata": {
    "execution": {
     "iopub.execute_input": "2024-03-20T21:35:24.722272Z",
     "iopub.status.busy": "2024-03-20T21:35:24.722089Z",
     "iopub.status.idle": "2024-03-20T21:35:24.725495Z",
     "shell.execute_reply": "2024-03-20T21:35:24.725073Z"
    },
    "papermill": {
     "duration": 0.032209,
     "end_time": "2024-03-20T21:35:24.726244",
     "exception": false,
     "start_time": "2024-03-20T21:35:24.694035",
     "status": "completed"
    },
    "tags": []
   },
   "outputs": [
    {
     "data": {
      "text/plain": [
       "('methods',\n",
       " 'To illustrate the usage of this feature, we provide a demonstration repository at [https://github.com/biocypher/pole](https://github.com/biocypher/pole) including a KG build procedure and an instance of BioChatter Light, which can be run using a single Docker Compose command. The pole KG can also be used in conjunction with the BioChatter Next app by using the `docker-compose.yaml` file to build the application locally. A demonstration of this use case is available in [Supplementary Note 1: Knowledge Graph Retrieval-Augmented Generation] and on our website ([https://biochatter.org/vignette-kg/](https://biochatter.org/vignette-kg/)).',\n",
       " \"This evaluation process helps us understand how well the LLM can generate queries based on the information provided by the KG and the user's input. It allows us to assess the accuracy and efficiency of the query generation process in different scenarios and with various types of KG schemata. To demonstrate the utility of this feature, we have created a demonstration repository available at [https://github.com/biocypher/pole](https://github.com/biocypher/pole). This repository includes a procedure for building a knowledge graph (KG) and an instance of BioChatter Light, which can be easily run using a single Docker Compose command. Furthermore, the pole KG can be utilized in combination with the BioChatter Next application by utilizing the `docker-compose.yaml` file to locally build the application. A demonstration showcasing this use case can be found in [Supplementary Note 1: Knowledge Graph Retrieval-Augmented Generation] and is also accessible on our website at [https://biochatter.org/vignette-kg/](https://biochatter.org/vignette-kg/).\")"
      ]
     },
     "metadata": {},
     "output_type": "display_data"
    }
   ],
   "source": [
    "display(paragraph_matches[-1])"
   ]
  },
  {
   "cell_type": "markdown",
   "id": "b6f0f1f4-9bea-45e5-80a8-da1b848b2bb7",
   "metadata": {
    "editable": true,
    "papermill": {
     "duration": 0.027925,
     "end_time": "2024-03-20T21:35:24.782171",
     "exception": false,
     "start_time": "2024-03-20T21:35:24.754246",
     "status": "completed"
    },
    "slideshow": {
     "slide_type": ""
    },
    "tags": []
   },
   "source": [
    "####  Paragraph 09"
   ]
  },
  {
   "cell_type": "code",
   "execution_count": 179,
   "id": "a6c5b537-549a-4af8-bfc7-ed3ad060e0f1",
   "metadata": {
    "execution": {
     "iopub.execute_input": "2024-03-20T21:35:24.838834Z",
     "iopub.status.busy": "2024-03-20T21:35:24.838651Z",
     "iopub.status.idle": "2024-03-20T21:35:24.841647Z",
     "shell.execute_reply": "2024-03-20T21:35:24.841206Z"
    },
    "papermill": {
     "duration": 0.03238,
     "end_time": "2024-03-20T21:35:24.842404",
     "exception": false,
     "start_time": "2024-03-20T21:35:24.810024",
     "status": "completed"
    },
    "tags": []
   },
   "outputs": [
    {
     "name": "stdout",
     "output_type": "stream",
     "text": [
      "While current LLMs possess extensive internal general knowledge, they may not know how to prioritise very specific scientific results, or they may not have had access to some research articles in their training data (e.g., due to their recency or licensing issues). To bridge this gap, we can provide additional information from relevant publications to the model via the prompt. However, we frequently cannot add entire publications to the prompt, since the input length of current models is still restricted; we need to isolate the information that is specifically relevant to the question given by the user. To find this information, we perform a semantic similarity search between the user’s question and the contents of user-provided scientific articles (or other texts). The most efficient way to do this mapping is by using a vector database [@doi:10.48550/arxiv.2308.07107].\n"
     ]
    }
   ],
   "source": [
    "par0 = process_paragraph(orig_section_paragraphs[26])\n",
    "print(par0)"
   ]
  },
  {
   "cell_type": "code",
   "execution_count": 180,
   "id": "6ebee10e-5858-4850-954b-876b323a2735",
   "metadata": {
    "execution": {
     "iopub.execute_input": "2024-03-20T21:35:24.899583Z",
     "iopub.status.busy": "2024-03-20T21:35:24.899100Z",
     "iopub.status.idle": "2024-03-20T21:35:24.902315Z",
     "shell.execute_reply": "2024-03-20T21:35:24.901851Z"
    },
    "papermill": {
     "duration": 0.03261,
     "end_time": "2024-03-20T21:35:24.903062",
     "exception": false,
     "start_time": "2024-03-20T21:35:24.870452",
     "status": "completed"
    },
    "tags": []
   },
   "outputs": [
    {
     "name": "stdout",
     "output_type": "stream",
     "text": [
      "While current Large Language Models (LLMs) possess extensive internal general knowledge, they may not prioritize very specific scientific results or have access to all research articles in their training data, possibly due to recency or licensing issues. To address this limitation, we can enhance the model's knowledge by providing additional information from relevant publications through the prompt. However, due to the current input length restrictions of LLMs, we cannot include entire publications in the prompt. Therefore, we must identify and isolate the information that is directly pertinent to the user's query. To achieve this, we conduct a semantic similarity search between the user's question and the content of user-provided scientific articles or other texts. Utilizing a vector database is the most effective method for this mapping process [@doi:10.48550/arxiv.2308.07107].\n"
     ]
    }
   ],
   "source": [
    "par1 = process_paragraph(\n",
    "    [\n",
    "        process_paragraph(\n",
    "            mod_section_paragraphs[34:35]\n",
    "        ),  # .replace(\"$$\", \"\\n$$\").replace(\"\\\\text\", \"\\n\\\\text\"),\n",
    "        # process_paragraph(mod_section_paragraphs[32:33]),\n",
    "    ]\n",
    ")\n",
    "print(par1)"
   ]
  },
  {
   "cell_type": "code",
   "execution_count": 181,
   "id": "821518fe-5d6b-45e4-81d0-a69cbcd696a7",
   "metadata": {
    "execution": {
     "iopub.execute_input": "2024-03-20T21:35:24.960163Z",
     "iopub.status.busy": "2024-03-20T21:35:24.959711Z",
     "iopub.status.idle": "2024-03-20T21:35:24.962343Z",
     "shell.execute_reply": "2024-03-20T21:35:24.961908Z"
    },
    "papermill": {
     "duration": 0.031978,
     "end_time": "2024-03-20T21:35:24.963088",
     "exception": false,
     "start_time": "2024-03-20T21:35:24.931110",
     "status": "completed"
    },
    "tags": []
   },
   "outputs": [],
   "source": [
    "paragraph_matches.append(\n",
    "    (\n",
    "        section_name,\n",
    "        par0,\n",
    "        par1,\n",
    "    )\n",
    ")"
   ]
  },
  {
   "cell_type": "code",
   "execution_count": 182,
   "id": "c7298e1c-f3dc-4128-969b-7500ec2ef2fd",
   "metadata": {
    "execution": {
     "iopub.execute_input": "2024-03-20T21:35:25.020254Z",
     "iopub.status.busy": "2024-03-20T21:35:25.019897Z",
     "iopub.status.idle": "2024-03-20T21:35:25.023354Z",
     "shell.execute_reply": "2024-03-20T21:35:25.022925Z"
    },
    "papermill": {
     "duration": 0.032824,
     "end_time": "2024-03-20T21:35:25.024095",
     "exception": false,
     "start_time": "2024-03-20T21:35:24.991271",
     "status": "completed"
    },
    "tags": []
   },
   "outputs": [
    {
     "data": {
      "text/plain": [
       "('methods',\n",
       " 'While current LLMs possess extensive internal general knowledge, they may not know how to prioritise very specific scientific results, or they may not have had access to some research articles in their training data (e.g., due to their recency or licensing issues). To bridge this gap, we can provide additional information from relevant publications to the model via the prompt. However, we frequently cannot add entire publications to the prompt, since the input length of current models is still restricted; we need to isolate the information that is specifically relevant to the question given by the user. To find this information, we perform a semantic similarity search between the user’s question and the contents of user-provided scientific articles (or other texts). The most efficient way to do this mapping is by using a vector database [@doi:10.48550/arxiv.2308.07107].',\n",
       " \"While current Large Language Models (LLMs) possess extensive internal general knowledge, they may not prioritize very specific scientific results or have access to all research articles in their training data, possibly due to recency or licensing issues. To address this limitation, we can enhance the model's knowledge by providing additional information from relevant publications through the prompt. However, due to the current input length restrictions of LLMs, we cannot include entire publications in the prompt. Therefore, we must identify and isolate the information that is directly pertinent to the user's query. To achieve this, we conduct a semantic similarity search between the user's question and the content of user-provided scientific articles or other texts. Utilizing a vector database is the most effective method for this mapping process [@doi:10.48550/arxiv.2308.07107].\")"
      ]
     },
     "metadata": {},
     "output_type": "display_data"
    }
   ],
   "source": [
    "display(paragraph_matches[-1])"
   ]
  },
  {
   "cell_type": "markdown",
   "id": "c23f16b0-fc6c-4500-a6fa-09f9cd6f6a7a",
   "metadata": {
    "editable": true,
    "papermill": {
     "duration": 0.027983,
     "end_time": "2024-03-20T21:35:25.080480",
     "exception": false,
     "start_time": "2024-03-20T21:35:25.052497",
     "status": "completed"
    },
    "slideshow": {
     "slide_type": ""
    },
    "tags": []
   },
   "source": [
    "####  Paragraph 10"
   ]
  },
  {
   "cell_type": "code",
   "execution_count": 183,
   "id": "1a27d782-282c-4ec1-bf8d-ce5b29bd3ce9",
   "metadata": {
    "execution": {
     "iopub.execute_input": "2024-03-20T21:35:25.137883Z",
     "iopub.status.busy": "2024-03-20T21:35:25.137354Z",
     "iopub.status.idle": "2024-03-20T21:35:25.140655Z",
     "shell.execute_reply": "2024-03-20T21:35:25.140169Z"
    },
    "papermill": {
     "duration": 0.032897,
     "end_time": "2024-03-20T21:35:25.141421",
     "exception": false,
     "start_time": "2024-03-20T21:35:25.108524",
     "status": "completed"
    },
    "tags": []
   },
   "outputs": [
    {
     "name": "stdout",
     "output_type": "stream",
     "text": [
      "The contextual background information provided by the user (e.g., by uploading a scientific article of prior work related to the experiment to be interpreted) is split into pieces suitable to be digested by the LLM, which are individually embedded by the model. These embeddings (represented by vectors) are used to store the text fragments in a vector database; the storage as vectors allows fast and efficient retrieval of similar entities via the comparison of individual vectors. For example, the two sentences “Amyloid beta levels are associated with Alzheimer’s Disease stage.” and “One of the most important clinical markers of AD progression is the amount of deposited A-beta 42.” would be closely associated in a vector database (given the embedding model is of sufficient quality, i.e., similar to GPT-3 or better), while traditional text-based similarity metrics probably would not identify them as highly similar.\n"
     ]
    }
   ],
   "source": [
    "par0 = process_paragraph(orig_section_paragraphs[27])\n",
    "print(par0)"
   ]
  },
  {
   "cell_type": "code",
   "execution_count": 184,
   "id": "8d0ccfde-80db-4579-8b53-865e22114499",
   "metadata": {
    "execution": {
     "iopub.execute_input": "2024-03-20T21:35:25.198612Z",
     "iopub.status.busy": "2024-03-20T21:35:25.198431Z",
     "iopub.status.idle": "2024-03-20T21:35:25.202034Z",
     "shell.execute_reply": "2024-03-20T21:35:25.201547Z"
    },
    "papermill": {
     "duration": 0.03299,
     "end_time": "2024-03-20T21:35:25.202765",
     "exception": false,
     "start_time": "2024-03-20T21:35:25.169775",
     "status": "completed"
    },
    "tags": []
   },
   "outputs": [
    {
     "name": "stdout",
     "output_type": "stream",
     "text": [
      "$$ \n",
      "LLM: Large Language Model\n",
      "$$ \n",
      "The contextual background information provided by the user, such as a scientific article related to the experiment to be interpreted, is divided into segments suitable for processing by the Large Language Model (LLM). Each segment is individually embedded by the model. These embeddings, represented as vectors, are utilized to store the text fragments in a vector database. Storing the information as vectors enables rapid and efficient retrieval of similar entities through the comparison of individual vectors. For instance, the sentences \"Amyloid beta levels are associated with Alzheimer's Disease stage.\" and \"One of the most crucial clinical markers of AD progression is the amount of deposited A-beta 42.\" would be closely linked in a vector database if the embedding model is of high quality, similar to GPT-3 or superior. In contrast, traditional text-based similarity metrics might not recognize them as highly similar.\n"
     ]
    }
   ],
   "source": [
    "par1 = (\n",
    "    process_paragraph(\n",
    "        [\n",
    "            process_paragraph(mod_section_paragraphs[35:36]),\n",
    "            process_paragraph(mod_section_paragraphs[36:37]),\n",
    "        ]\n",
    "    )\n",
    "    .replace(\"Model $$\", \"Model\\n$$\")\n",
    "    .replace(\"LLM:\", \"\\nLLM:\")\n",
    "    .replace(\"The contextual\", \"\\nThe contextual\")\n",
    ")\n",
    "print(par1)"
   ]
  },
  {
   "cell_type": "code",
   "execution_count": 185,
   "id": "eb8cb2e1-fc13-49a0-8b34-812b56570b6d",
   "metadata": {
    "execution": {
     "iopub.execute_input": "2024-03-20T21:35:25.260052Z",
     "iopub.status.busy": "2024-03-20T21:35:25.259696Z",
     "iopub.status.idle": "2024-03-20T21:35:25.262292Z",
     "shell.execute_reply": "2024-03-20T21:35:25.261864Z"
    },
    "papermill": {
     "duration": 0.03209,
     "end_time": "2024-03-20T21:35:25.263039",
     "exception": false,
     "start_time": "2024-03-20T21:35:25.230949",
     "status": "completed"
    },
    "tags": []
   },
   "outputs": [],
   "source": [
    "paragraph_matches.append(\n",
    "    (\n",
    "        section_name,\n",
    "        par0,\n",
    "        par1,\n",
    "    )\n",
    ")"
   ]
  },
  {
   "cell_type": "code",
   "execution_count": 186,
   "id": "cbf82494-1147-44af-800a-81a6677b3076",
   "metadata": {
    "execution": {
     "iopub.execute_input": "2024-03-20T21:35:25.320216Z",
     "iopub.status.busy": "2024-03-20T21:35:25.320030Z",
     "iopub.status.idle": "2024-03-20T21:35:25.323507Z",
     "shell.execute_reply": "2024-03-20T21:35:25.323084Z"
    },
    "papermill": {
     "duration": 0.032898,
     "end_time": "2024-03-20T21:35:25.324204",
     "exception": false,
     "start_time": "2024-03-20T21:35:25.291306",
     "status": "completed"
    },
    "tags": []
   },
   "outputs": [
    {
     "data": {
      "text/plain": [
       "('methods',\n",
       " 'The contextual background information provided by the user (e.g., by uploading a scientific article of prior work related to the experiment to be interpreted) is split into pieces suitable to be digested by the LLM, which are individually embedded by the model. These embeddings (represented by vectors) are used to store the text fragments in a vector database; the storage as vectors allows fast and efficient retrieval of similar entities via the comparison of individual vectors. For example, the two sentences “Amyloid beta levels are associated with Alzheimer’s Disease stage.” and “One of the most important clinical markers of AD progression is the amount of deposited A-beta 42.” would be closely associated in a vector database (given the embedding model is of sufficient quality, i.e., similar to GPT-3 or better), while traditional text-based similarity metrics probably would not identify them as highly similar.',\n",
       " '$$ \\nLLM: Large Language Model\\n$$ \\nThe contextual background information provided by the user, such as a scientific article related to the experiment to be interpreted, is divided into segments suitable for processing by the Large Language Model (LLM). Each segment is individually embedded by the model. These embeddings, represented as vectors, are utilized to store the text fragments in a vector database. Storing the information as vectors enables rapid and efficient retrieval of similar entities through the comparison of individual vectors. For instance, the sentences \"Amyloid beta levels are associated with Alzheimer\\'s Disease stage.\" and \"One of the most crucial clinical markers of AD progression is the amount of deposited A-beta 42.\" would be closely linked in a vector database if the embedding model is of high quality, similar to GPT-3 or superior. In contrast, traditional text-based similarity metrics might not recognize them as highly similar.')"
      ]
     },
     "metadata": {},
     "output_type": "display_data"
    }
   ],
   "source": [
    "display(paragraph_matches[-1])"
   ]
  },
  {
   "cell_type": "markdown",
   "id": "85459dcb-67ad-4e49-8ca5-8e11ca5aaeb5",
   "metadata": {
    "editable": true,
    "papermill": {
     "duration": 0.028199,
     "end_time": "2024-03-20T21:35:25.380930",
     "exception": false,
     "start_time": "2024-03-20T21:35:25.352731",
     "status": "completed"
    },
    "slideshow": {
     "slide_type": ""
    },
    "tags": []
   },
   "source": [
    "####  Paragraph 11"
   ]
  },
  {
   "cell_type": "code",
   "execution_count": 187,
   "id": "fce240b5-e631-4acb-acd5-d30d9c0ae4d0",
   "metadata": {
    "execution": {
     "iopub.execute_input": "2024-03-20T21:35:25.439203Z",
     "iopub.status.busy": "2024-03-20T21:35:25.438800Z",
     "iopub.status.idle": "2024-03-20T21:35:25.441960Z",
     "shell.execute_reply": "2024-03-20T21:35:25.441495Z"
    },
    "papermill": {
     "duration": 0.033071,
     "end_time": "2024-03-20T21:35:25.442708",
     "exception": false,
     "start_time": "2024-03-20T21:35:25.409637",
     "status": "completed"
    },
    "tags": []
   },
   "outputs": [
    {
     "name": "stdout",
     "output_type": "stream",
     "text": [
      "By comparing the user’s question to prior knowledge in the vector database, we can extract the relevant pieces of information from the entire background. Even better, we can first use an LLM to generate an answer to the user's question and then use this answer to query the vector database for relevant information. Regardless of whether the initial answer is correct, it is likely that the \"fake answer\" is more semantically similar to the relevant pieces of information than the user's question [@doi:10.48550/arXiv.2308.07107]. Semantic search results (for instance, single sentences directly related to the topic of the question) are then sufficiently small to be added to the prompt. In this way, the model can learn from additional context without the need for retraining or fine-tuning. This method is sometimes described as in-context learning [@doi:10.48550/arxiv.2303.17580] or retrieval-augmented generation [@rag].\n"
     ]
    }
   ],
   "source": [
    "par0 = process_paragraph(orig_section_paragraphs[28])\n",
    "print(par0)"
   ]
  },
  {
   "cell_type": "code",
   "execution_count": 188,
   "id": "18477820-18f8-48fe-baa1-2acf2b7cb069",
   "metadata": {
    "execution": {
     "iopub.execute_input": "2024-03-20T21:35:25.500412Z",
     "iopub.status.busy": "2024-03-20T21:35:25.500017Z",
     "iopub.status.idle": "2024-03-20T21:35:25.502972Z",
     "shell.execute_reply": "2024-03-20T21:35:25.502533Z"
    },
    "papermill": {
     "duration": 0.032485,
     "end_time": "2024-03-20T21:35:25.503677",
     "exception": false,
     "start_time": "2024-03-20T21:35:25.471192",
     "status": "completed"
    },
    "tags": []
   },
   "outputs": [
    {
     "name": "stdout",
     "output_type": "stream",
     "text": [
      "By comparing the user’s question to prior knowledge in the vector database, we can extract the relevant pieces of information from the entire background. Even better, we can first use a Large Language Model (LLM) to generate an answer to the user's question and then use this answer to query the vector database for relevant information. Regardless of whether the initial answer is correct, it is likely that the \"fake answer\" is more semantically similar to the relevant pieces of information than the user's question [@doi:10.48550/arXiv.2308.07107]. Semantic search results (for instance, single sentences directly related to the topic of the question) are then sufficiently small to be added to the prompt. In this way, the model can learn from additional context without the need for retraining or fine-tuning. This method is sometimes described as in-context learning [@doi:10.48550/arxiv.2303.17580] or retrieval-augmented generation [@rag].\n"
     ]
    }
   ],
   "source": [
    "par1 = process_paragraph(mod_section_paragraphs[38])\n",
    "print(par1)"
   ]
  },
  {
   "cell_type": "code",
   "execution_count": 189,
   "id": "b1daa321-bb72-4218-bbdb-170bf52af562",
   "metadata": {
    "execution": {
     "iopub.execute_input": "2024-03-20T21:35:25.584707Z",
     "iopub.status.busy": "2024-03-20T21:35:25.584333Z",
     "iopub.status.idle": "2024-03-20T21:35:25.586969Z",
     "shell.execute_reply": "2024-03-20T21:35:25.586525Z"
    },
    "papermill": {
     "duration": 0.055673,
     "end_time": "2024-03-20T21:35:25.587705",
     "exception": false,
     "start_time": "2024-03-20T21:35:25.532032",
     "status": "completed"
    },
    "tags": []
   },
   "outputs": [],
   "source": [
    "paragraph_matches.append(\n",
    "    (\n",
    "        section_name,\n",
    "        par0,\n",
    "        par1,\n",
    "    )\n",
    ")"
   ]
  },
  {
   "cell_type": "code",
   "execution_count": 190,
   "id": "7a0d3bf4-1317-46ba-94e7-54e869c11c99",
   "metadata": {
    "execution": {
     "iopub.execute_input": "2024-03-20T21:35:25.645850Z",
     "iopub.status.busy": "2024-03-20T21:35:25.645412Z",
     "iopub.status.idle": "2024-03-20T21:35:25.649023Z",
     "shell.execute_reply": "2024-03-20T21:35:25.648580Z"
    },
    "papermill": {
     "duration": 0.033299,
     "end_time": "2024-03-20T21:35:25.649759",
     "exception": false,
     "start_time": "2024-03-20T21:35:25.616460",
     "status": "completed"
    },
    "tags": []
   },
   "outputs": [
    {
     "data": {
      "text/plain": [
       "('methods',\n",
       " 'By comparing the user’s question to prior knowledge in the vector database, we can extract the relevant pieces of information from the entire background. Even better, we can first use an LLM to generate an answer to the user\\'s question and then use this answer to query the vector database for relevant information. Regardless of whether the initial answer is correct, it is likely that the \"fake answer\" is more semantically similar to the relevant pieces of information than the user\\'s question [@doi:10.48550/arXiv.2308.07107]. Semantic search results (for instance, single sentences directly related to the topic of the question) are then sufficiently small to be added to the prompt. In this way, the model can learn from additional context without the need for retraining or fine-tuning. This method is sometimes described as in-context learning [@doi:10.48550/arxiv.2303.17580] or retrieval-augmented generation [@rag].',\n",
       " 'By comparing the user’s question to prior knowledge in the vector database, we can extract the relevant pieces of information from the entire background. Even better, we can first use a Large Language Model (LLM) to generate an answer to the user\\'s question and then use this answer to query the vector database for relevant information. Regardless of whether the initial answer is correct, it is likely that the \"fake answer\" is more semantically similar to the relevant pieces of information than the user\\'s question [@doi:10.48550/arXiv.2308.07107]. Semantic search results (for instance, single sentences directly related to the topic of the question) are then sufficiently small to be added to the prompt. In this way, the model can learn from additional context without the need for retraining or fine-tuning. This method is sometimes described as in-context learning [@doi:10.48550/arxiv.2303.17580] or retrieval-augmented generation [@rag].')"
      ]
     },
     "metadata": {},
     "output_type": "display_data"
    }
   ],
   "source": [
    "display(paragraph_matches[-1])"
   ]
  },
  {
   "cell_type": "markdown",
   "id": "1bc5a166-fa52-40e7-a0e0-996a10f3c848",
   "metadata": {
    "editable": true,
    "papermill": {
     "duration": 0.028177,
     "end_time": "2024-03-20T21:35:25.706524",
     "exception": false,
     "start_time": "2024-03-20T21:35:25.678347",
     "status": "completed"
    },
    "slideshow": {
     "slide_type": ""
    },
    "tags": []
   },
   "source": [
    "####  Paragraph 12"
   ]
  },
  {
   "cell_type": "code",
   "execution_count": 191,
   "id": "661dafe8-4ec6-4d73-983a-8aa008072e5c",
   "metadata": {
    "execution": {
     "iopub.execute_input": "2024-03-20T21:35:25.764296Z",
     "iopub.status.busy": "2024-03-20T21:35:25.763835Z",
     "iopub.status.idle": "2024-03-20T21:35:25.766931Z",
     "shell.execute_reply": "2024-03-20T21:35:25.766491Z"
    },
    "papermill": {
     "duration": 0.032838,
     "end_time": "2024-03-20T21:35:25.767641",
     "exception": false,
     "start_time": "2024-03-20T21:35:25.734803",
     "status": "completed"
    },
    "tags": []
   },
   "outputs": [
    {
     "name": "stdout",
     "output_type": "stream",
     "text": [
      "To provide access to this functionality in BioChatter, we implement classes for the connection to, and management of, vector database systems (in the `vectorstore.py` module), and for performing semantic search on the vector database and injecting the results into the prompt (in the `vectorstore_agent.py` module). An analogous implementation for KG retrieval is available in the `database_agent.py` module. Both retrieval mechanisms are integrated and provided to the BioChatter API via the `rag_agent.py` module. To demonstrate the use of the API, we add a “Retrieval-Augmented Generation” tab to the preview apps that allows the upload of text documents to be added to a vector database, which then can be queried to add contextual information to the prompt sent to the primary model. This contextual information is transparently displayed. Since this functionality requires a connection to a vector database system, we provide connectivity to a Milvus service, including a way to start the service in conjunction with a BioCypher knowledge graph and the BioChatter Light app in one Docker Compose workflow.\n"
     ]
    }
   ],
   "source": [
    "par0 = process_paragraph(orig_section_paragraphs[29])\n",
    "print(par0)"
   ]
  },
  {
   "cell_type": "code",
   "execution_count": 192,
   "id": "bd1fe885-db17-4e1a-b6a6-f488bc1637cd",
   "metadata": {
    "execution": {
     "iopub.execute_input": "2024-03-20T21:35:25.825879Z",
     "iopub.status.busy": "2024-03-20T21:35:25.825404Z",
     "iopub.status.idle": "2024-03-20T21:35:25.828411Z",
     "shell.execute_reply": "2024-03-20T21:35:25.827961Z"
    },
    "papermill": {
     "duration": 0.032861,
     "end_time": "2024-03-20T21:35:25.829123",
     "exception": false,
     "start_time": "2024-03-20T21:35:25.796262",
     "status": "completed"
    },
    "tags": []
   },
   "outputs": [
    {
     "name": "stdout",
     "output_type": "stream",
     "text": [
      "To provide access to this functionality in BioChatter, we implement classes for the connection to, and management of, vector database systems (in the `vectorstore.py` module), and for performing semantic search on the vector database and injecting the results into the prompt (in the `vectorstore_agent.py` module). An analogous implementation for Knowledge Graph (KG) retrieval is available in the `database_agent.py` module. Both retrieval mechanisms are integrated and provided to the BioChatter API via the `rag_agent.py` module. To demonstrate the use of the API, we add a “Retrieval-Augmented Generation” tab to the preview apps that allows the upload of text documents to be added to a vector database, which then can be queried to add contextual information to the prompt sent to the primary model. This contextual information is transparently displayed. Since this functionality requires a connection to a vector database system, we provide connectivity to a Milvus service, including a way to start the service in conjunction with a BioCypher knowledge graph and the BioChatter Light app in one Docker Compose workflow.\n"
     ]
    }
   ],
   "source": [
    "par1 = process_paragraph(mod_section_paragraphs[40:43])\n",
    "print(par1)"
   ]
  },
  {
   "cell_type": "code",
   "execution_count": 193,
   "id": "ed501ecc-588f-45af-b49c-02a74d682535",
   "metadata": {
    "execution": {
     "iopub.execute_input": "2024-03-20T21:35:25.887351Z",
     "iopub.status.busy": "2024-03-20T21:35:25.886991Z",
     "iopub.status.idle": "2024-03-20T21:35:25.889634Z",
     "shell.execute_reply": "2024-03-20T21:35:25.889192Z"
    },
    "papermill": {
     "duration": 0.032536,
     "end_time": "2024-03-20T21:35:25.890314",
     "exception": false,
     "start_time": "2024-03-20T21:35:25.857778",
     "status": "completed"
    },
    "tags": []
   },
   "outputs": [],
   "source": [
    "paragraph_matches.append(\n",
    "    (\n",
    "        section_name,\n",
    "        par0,\n",
    "        par1,\n",
    "    )\n",
    ")"
   ]
  },
  {
   "cell_type": "code",
   "execution_count": 194,
   "id": "85983bcb-b02c-4cda-a9de-61dfc1d23741",
   "metadata": {
    "execution": {
     "iopub.execute_input": "2024-03-20T21:35:25.948067Z",
     "iopub.status.busy": "2024-03-20T21:35:25.947881Z",
     "iopub.status.idle": "2024-03-20T21:35:25.951391Z",
     "shell.execute_reply": "2024-03-20T21:35:25.950955Z"
    },
    "papermill": {
     "duration": 0.033373,
     "end_time": "2024-03-20T21:35:25.952247",
     "exception": false,
     "start_time": "2024-03-20T21:35:25.918874",
     "status": "completed"
    },
    "tags": []
   },
   "outputs": [
    {
     "data": {
      "text/plain": [
       "('methods',\n",
       " 'To provide access to this functionality in BioChatter, we implement classes for the connection to, and management of, vector database systems (in the `vectorstore.py` module), and for performing semantic search on the vector database and injecting the results into the prompt (in the `vectorstore_agent.py` module). An analogous implementation for KG retrieval is available in the `database_agent.py` module. Both retrieval mechanisms are integrated and provided to the BioChatter API via the `rag_agent.py` module. To demonstrate the use of the API, we add a “Retrieval-Augmented Generation” tab to the preview apps that allows the upload of text documents to be added to a vector database, which then can be queried to add contextual information to the prompt sent to the primary model. This contextual information is transparently displayed. Since this functionality requires a connection to a vector database system, we provide connectivity to a Milvus service, including a way to start the service in conjunction with a BioCypher knowledge graph and the BioChatter Light app in one Docker Compose workflow.',\n",
       " 'To provide access to this functionality in BioChatter, we implement classes for the connection to, and management of, vector database systems (in the `vectorstore.py` module), and for performing semantic search on the vector database and injecting the results into the prompt (in the `vectorstore_agent.py` module). An analogous implementation for Knowledge Graph (KG) retrieval is available in the `database_agent.py` module. Both retrieval mechanisms are integrated and provided to the BioChatter API via the `rag_agent.py` module. To demonstrate the use of the API, we add a “Retrieval-Augmented Generation” tab to the preview apps that allows the upload of text documents to be added to a vector database, which then can be queried to add contextual information to the prompt sent to the primary model. This contextual information is transparently displayed. Since this functionality requires a connection to a vector database system, we provide connectivity to a Milvus service, including a way to start the service in conjunction with a BioCypher knowledge graph and the BioChatter Light app in one Docker Compose workflow.')"
      ]
     },
     "metadata": {},
     "output_type": "display_data"
    }
   ],
   "source": [
    "display(paragraph_matches[-1])"
   ]
  },
  {
   "cell_type": "markdown",
   "id": "268afe6a-8550-4c0e-a667-4f5b4d3e5cee",
   "metadata": {
    "editable": true,
    "papermill": {
     "duration": 0.028308,
     "end_time": "2024-03-20T21:35:26.009720",
     "exception": false,
     "start_time": "2024-03-20T21:35:25.981412",
     "status": "completed"
    },
    "slideshow": {
     "slide_type": ""
    },
    "tags": []
   },
   "source": [
    "####  Paragraph 13"
   ]
  },
  {
   "cell_type": "code",
   "execution_count": 195,
   "id": "d0597d98-6dbf-4eb8-ab9b-2a93ac15cd2c",
   "metadata": {
    "execution": {
     "iopub.execute_input": "2024-03-20T21:35:26.067852Z",
     "iopub.status.busy": "2024-03-20T21:35:26.067383Z",
     "iopub.status.idle": "2024-03-20T21:35:26.070434Z",
     "shell.execute_reply": "2024-03-20T21:35:26.069956Z"
    },
    "papermill": {
     "duration": 0.032889,
     "end_time": "2024-03-20T21:35:26.071217",
     "exception": false,
     "start_time": "2024-03-20T21:35:26.038328",
     "status": "completed"
    },
    "tags": []
   },
   "outputs": [
    {
     "name": "stdout",
     "output_type": "stream",
     "text": [
      "To facilitate access to open-source models, we adopt a flexible deployment framework based on the Xorbits Inference API [@{https://github.com/xorbitsai/inference}]. Xorbits Inference includes a large number of open-source models out of the box, and new models from Hugging Face Hub [@{https://huggingface.co/}] can be added using the intuitive graphical user interface. We used Xorbits Inference version 0.8.4 to deploy the benchmarked models, and we provide a Docker Compose repository to deploy the app on a Linux server with Nvidia GPUs ([https://github.com/biocypher/xinference-docker-builtin/](https://github.com/biocypher/xinference-docker-builtin/)). This Compose uses the multi-architecture image (for ARM64 and AMD64 chips) we provide on our Docker Hub organisation ([https://hub.docker.com/repository/docker/biocypher/xinference-builtin](https://hub.docker.com/repository/docker/biocypher/xinference-builtin)). On Mac OS with Apple Silicon chips, Docker does not have access to the GPU driver, and as such, Xinference needs to be deployed natively.\n"
     ]
    }
   ],
   "source": [
    "par0 = process_paragraph(orig_section_paragraphs[32])\n",
    "print(par0)"
   ]
  },
  {
   "cell_type": "code",
   "execution_count": 196,
   "id": "d0747d6a-3c0e-47bb-b688-3cd618530e39",
   "metadata": {
    "execution": {
     "iopub.execute_input": "2024-03-20T21:35:26.129512Z",
     "iopub.status.busy": "2024-03-20T21:35:26.129031Z",
     "iopub.status.idle": "2024-03-20T21:35:26.132702Z",
     "shell.execute_reply": "2024-03-20T21:35:26.132249Z"
    },
    "papermill": {
     "duration": 0.033668,
     "end_time": "2024-03-20T21:35:26.133462",
     "exception": false,
     "start_time": "2024-03-20T21:35:26.099794",
     "status": "completed"
    },
    "tags": []
   },
   "outputs": [
    {
     "name": "stdout",
     "output_type": "stream",
     "text": [
      "To facilitate access to open-source models, we adopted a flexible deployment framework based on the Xorbits Inference API [@{https://github.com/xorbitsai/inference}]. Xorbits Inference includes a large number of open-source models out of the box, and new models from Hugging Face Hub [@{https://huggingface.co/}] can be added using the intuitive graphical user interface. We utilized Xorbits Inference version 0.8.4 to deploy the benchmarked models, and we provide a Docker Compose repository to deploy the app on a Linux server with Nvidia GPUs ([https://github.com/biocypher/xinference-docker-builtin/](https://github.com/biocypher/xinference-docker-builtin/)). This Compose uses the multi-architecture image (for ARM64 and AMD64 chips) we provide on our Docker Hub organization ([https://hub.docker.com/repository/docker/biocypher/xinference-builtin](https://hub.docker.com/repository/docker/biocypher/xinference-builtin)).\n",
      "\n",
      "$$\n",
      "X = Y + Z \n",
      "$$ {#eq1} \n",
      "\n",
      "On Mac OS with Apple Silicon chips, Docker does not have access to the GPU driver, and as such, Xinference needs to be deployed natively.\n"
     ]
    }
   ],
   "source": [
    "par1 = (\n",
    "    process_paragraph(\n",
    "        [\n",
    "            process_paragraph(mod_section_paragraphs[45:46]),\n",
    "            mod_section_paragraphs[46],\n",
    "            process_paragraph(mod_section_paragraphs[47]),\n",
    "        ]\n",
    "    )\n",
    "    .replace(\" $$ X\", \"\\n\\n$$\\nX\")\n",
    "    .replace(\"$$ {\", \"\\n$$ {\")\n",
    "    .replace(\"On Mac OS\", \"\\n\\nOn Mac OS\")\n",
    ")\n",
    "print(par1)"
   ]
  },
  {
   "cell_type": "code",
   "execution_count": 197,
   "id": "d6b097a7-aec7-4984-95bb-1ce7f5d5c476",
   "metadata": {
    "execution": {
     "iopub.execute_input": "2024-03-20T21:35:26.191635Z",
     "iopub.status.busy": "2024-03-20T21:35:26.191276Z",
     "iopub.status.idle": "2024-03-20T21:35:26.193913Z",
     "shell.execute_reply": "2024-03-20T21:35:26.193470Z"
    },
    "papermill": {
     "duration": 0.032468,
     "end_time": "2024-03-20T21:35:26.194628",
     "exception": false,
     "start_time": "2024-03-20T21:35:26.162160",
     "status": "completed"
    },
    "tags": []
   },
   "outputs": [],
   "source": [
    "paragraph_matches.append(\n",
    "    (\n",
    "        section_name,\n",
    "        par0,\n",
    "        par1,\n",
    "    )\n",
    ")"
   ]
  },
  {
   "cell_type": "code",
   "execution_count": 198,
   "id": "ee20b3ab-dc07-4d49-acb7-46a72d9d4531",
   "metadata": {
    "execution": {
     "iopub.execute_input": "2024-03-20T21:35:26.253138Z",
     "iopub.status.busy": "2024-03-20T21:35:26.252743Z",
     "iopub.status.idle": "2024-03-20T21:35:26.256226Z",
     "shell.execute_reply": "2024-03-20T21:35:26.255795Z"
    },
    "papermill": {
     "duration": 0.033617,
     "end_time": "2024-03-20T21:35:26.256986",
     "exception": false,
     "start_time": "2024-03-20T21:35:26.223369",
     "status": "completed"
    },
    "tags": []
   },
   "outputs": [
    {
     "data": {
      "text/plain": [
       "('methods',\n",
       " 'To facilitate access to open-source models, we adopt a flexible deployment framework based on the Xorbits Inference API [@{https://github.com/xorbitsai/inference}]. Xorbits Inference includes a large number of open-source models out of the box, and new models from Hugging Face Hub [@{https://huggingface.co/}] can be added using the intuitive graphical user interface. We used Xorbits Inference version 0.8.4 to deploy the benchmarked models, and we provide a Docker Compose repository to deploy the app on a Linux server with Nvidia GPUs ([https://github.com/biocypher/xinference-docker-builtin/](https://github.com/biocypher/xinference-docker-builtin/)). This Compose uses the multi-architecture image (for ARM64 and AMD64 chips) we provide on our Docker Hub organisation ([https://hub.docker.com/repository/docker/biocypher/xinference-builtin](https://hub.docker.com/repository/docker/biocypher/xinference-builtin)). On Mac OS with Apple Silicon chips, Docker does not have access to the GPU driver, and as such, Xinference needs to be deployed natively.',\n",
       " 'To facilitate access to open-source models, we adopted a flexible deployment framework based on the Xorbits Inference API [@{https://github.com/xorbitsai/inference}]. Xorbits Inference includes a large number of open-source models out of the box, and new models from Hugging Face Hub [@{https://huggingface.co/}] can be added using the intuitive graphical user interface. We utilized Xorbits Inference version 0.8.4 to deploy the benchmarked models, and we provide a Docker Compose repository to deploy the app on a Linux server with Nvidia GPUs ([https://github.com/biocypher/xinference-docker-builtin/](https://github.com/biocypher/xinference-docker-builtin/)). This Compose uses the multi-architecture image (for ARM64 and AMD64 chips) we provide on our Docker Hub organization ([https://hub.docker.com/repository/docker/biocypher/xinference-builtin](https://hub.docker.com/repository/docker/biocypher/xinference-builtin)).\\n\\n$$\\nX = Y + Z \\n$$ {#eq1} \\n\\nOn Mac OS with Apple Silicon chips, Docker does not have access to the GPU driver, and as such, Xinference needs to be deployed natively.')"
      ]
     },
     "metadata": {},
     "output_type": "display_data"
    }
   ],
   "source": [
    "display(paragraph_matches[-1])"
   ]
  },
  {
   "cell_type": "markdown",
   "id": "0ae437b3-4af8-4e4f-9b50-1228b8449d3c",
   "metadata": {
    "editable": true,
    "papermill": {
     "duration": 0.028539,
     "end_time": "2024-03-20T21:35:26.314378",
     "exception": false,
     "start_time": "2024-03-20T21:35:26.285839",
     "status": "completed"
    },
    "slideshow": {
     "slide_type": ""
    },
    "tags": []
   },
   "source": [
    "####  Paragraph 14"
   ]
  },
  {
   "cell_type": "code",
   "execution_count": 199,
   "id": "ea7f45d7-9c41-49f3-93a0-6b386ea81137",
   "metadata": {
    "execution": {
     "iopub.execute_input": "2024-03-20T21:35:26.373150Z",
     "iopub.status.busy": "2024-03-20T21:35:26.372776Z",
     "iopub.status.idle": "2024-03-20T21:35:26.375685Z",
     "shell.execute_reply": "2024-03-20T21:35:26.375251Z"
    },
    "papermill": {
     "duration": 0.033083,
     "end_time": "2024-03-20T21:35:26.376417",
     "exception": false,
     "start_time": "2024-03-20T21:35:26.343334",
     "status": "completed"
    },
    "tags": []
   },
   "outputs": [
    {
     "name": "stdout",
     "output_type": "stream",
     "text": [
      "The ability of LLMs to control external software, including other LLMs, opens up a wide range of possibilities for the orchestration of complex tasks. A simple example is the implementation of a correcting agent, which receives the output of the primary model and checks it for factual correctness. If the agent detects an error, it can prompt the primary model to correct its output, or forward this correction to the user directly. Since this relies on the internal knowledge base of the correcting agent, the same caveats apply, as the correcting agent may confabulate as well. However, since the agent is independent of the primary model (being set up with dedicated prompts), it is less likely to confabulate in the same way.\n"
     ]
    }
   ],
   "source": [
    "par0 = process_paragraph(orig_section_paragraphs[34])\n",
    "print(par0)"
   ]
  },
  {
   "cell_type": "code",
   "execution_count": 200,
   "id": "1deca811-bc29-4fea-ae02-d1ce3698d2ae",
   "metadata": {
    "execution": {
     "iopub.execute_input": "2024-03-20T21:35:26.435104Z",
     "iopub.status.busy": "2024-03-20T21:35:26.434756Z",
     "iopub.status.idle": "2024-03-20T21:35:26.437923Z",
     "shell.execute_reply": "2024-03-20T21:35:26.437457Z"
    },
    "papermill": {
     "duration": 0.033253,
     "end_time": "2024-03-20T21:35:26.438686",
     "exception": false,
     "start_time": "2024-03-20T21:35:26.405433",
     "status": "completed"
    },
    "tags": []
   },
   "outputs": [
    {
     "name": "stdout",
     "output_type": "stream",
     "text": [
      "The capability of Large Language Models (LLMs) to interact with external software, including other LLMs, presents a multitude of opportunities for orchestrating intricate tasks. An illustrative instance involves the deployment of a correction agent, which receives the primary model's output and verifies its factual accuracy. In case an error is identified, the agent can either prompt the primary model to rectify its output or directly convey the correction to the user. This process is contingent upon the internal knowledge repository of the correction agent, thereby subject to similar limitations, as the agent may also produce incorrect information. Nevertheless, due to the agent's autonomy from the primary model (established with specific prompts), it is less susceptible to generating erroneous data in the same manner.\n"
     ]
    }
   ],
   "source": [
    "par1 = process_paragraph(\n",
    "    [\n",
    "        process_paragraph(mod_section_paragraphs[49]),\n",
    "        # mod_section_paragraphs[46],\n",
    "        # process_paragraph(mod_section_paragraphs[47])\n",
    "    ]\n",
    ")  # .replace(\" $$ X\", \"\\n\\n$$\\nX\").replace(\"$$ {\", \"\\n$$ {\").replace(\"On Mac OS\", \"\\n\\nOn Mac OS\")\n",
    "print(par1)"
   ]
  },
  {
   "cell_type": "code",
   "execution_count": 201,
   "id": "0d6a4164-6116-49f3-9b50-6d107204a8a5",
   "metadata": {
    "execution": {
     "iopub.execute_input": "2024-03-20T21:35:26.497385Z",
     "iopub.status.busy": "2024-03-20T21:35:26.497028Z",
     "iopub.status.idle": "2024-03-20T21:35:26.499644Z",
     "shell.execute_reply": "2024-03-20T21:35:26.499198Z"
    },
    "papermill": {
     "duration": 0.032711,
     "end_time": "2024-03-20T21:35:26.500451",
     "exception": false,
     "start_time": "2024-03-20T21:35:26.467740",
     "status": "completed"
    },
    "tags": []
   },
   "outputs": [],
   "source": [
    "paragraph_matches.append(\n",
    "    (\n",
    "        section_name,\n",
    "        par0,\n",
    "        par1,\n",
    "    )\n",
    ")"
   ]
  },
  {
   "cell_type": "code",
   "execution_count": 202,
   "id": "0cb7edaf-ec14-4280-9811-276e22df8289",
   "metadata": {
    "execution": {
     "iopub.execute_input": "2024-03-20T21:35:26.559013Z",
     "iopub.status.busy": "2024-03-20T21:35:26.558657Z",
     "iopub.status.idle": "2024-03-20T21:35:26.562126Z",
     "shell.execute_reply": "2024-03-20T21:35:26.561703Z"
    },
    "papermill": {
     "duration": 0.033636,
     "end_time": "2024-03-20T21:35:26.562878",
     "exception": false,
     "start_time": "2024-03-20T21:35:26.529242",
     "status": "completed"
    },
    "tags": []
   },
   "outputs": [
    {
     "data": {
      "text/plain": [
       "('methods',\n",
       " 'The ability of LLMs to control external software, including other LLMs, opens up a wide range of possibilities for the orchestration of complex tasks. A simple example is the implementation of a correcting agent, which receives the output of the primary model and checks it for factual correctness. If the agent detects an error, it can prompt the primary model to correct its output, or forward this correction to the user directly. Since this relies on the internal knowledge base of the correcting agent, the same caveats apply, as the correcting agent may confabulate as well. However, since the agent is independent of the primary model (being set up with dedicated prompts), it is less likely to confabulate in the same way.',\n",
       " \"The capability of Large Language Models (LLMs) to interact with external software, including other LLMs, presents a multitude of opportunities for orchestrating intricate tasks. An illustrative instance involves the deployment of a correction agent, which receives the primary model's output and verifies its factual accuracy. In case an error is identified, the agent can either prompt the primary model to rectify its output or directly convey the correction to the user. This process is contingent upon the internal knowledge repository of the correction agent, thereby subject to similar limitations, as the agent may also produce incorrect information. Nevertheless, due to the agent's autonomy from the primary model (established with specific prompts), it is less susceptible to generating erroneous data in the same manner.\")"
      ]
     },
     "metadata": {},
     "output_type": "display_data"
    }
   ],
   "source": [
    "display(paragraph_matches[-1])"
   ]
  },
  {
   "cell_type": "markdown",
   "id": "a8fc7183-77da-4a67-801b-8a5f92687ee0",
   "metadata": {
    "editable": true,
    "papermill": {
     "duration": 0.028819,
     "end_time": "2024-03-20T21:35:26.620611",
     "exception": false,
     "start_time": "2024-03-20T21:35:26.591792",
     "status": "completed"
    },
    "slideshow": {
     "slide_type": ""
    },
    "tags": []
   },
   "source": [
    "####  Paragraph 15"
   ]
  },
  {
   "cell_type": "code",
   "execution_count": 203,
   "id": "ddf1d0d3-7018-4ef2-a2e5-9fce257a19c0",
   "metadata": {
    "execution": {
     "iopub.execute_input": "2024-03-20T21:35:26.678965Z",
     "iopub.status.busy": "2024-03-20T21:35:26.678779Z",
     "iopub.status.idle": "2024-03-20T21:35:26.681858Z",
     "shell.execute_reply": "2024-03-20T21:35:26.681273Z"
    },
    "papermill": {
     "duration": 0.033279,
     "end_time": "2024-03-20T21:35:26.682703",
     "exception": false,
     "start_time": "2024-03-20T21:35:26.649424",
     "status": "completed"
    },
    "tags": []
   },
   "outputs": [
    {
     "name": "stdout",
     "output_type": "stream",
     "text": [
      "This approach can be extended to a more complex model chain, where the correcting agent, for example, can query a knowledge graph or a vector database to ground its responses in prior knowledge. These chains are easy to implement, and some are available out of the box in the LangChain framework [@langchain]. However, they can behave unpredictably, which increases with the number of links in the chain and, as such, should be tightly controlled. They also add to the computational burden of the system, which is particularly relevant for deployments on end-user devices.\n"
     ]
    }
   ],
   "source": [
    "par0 = process_paragraph(orig_section_paragraphs[35])\n",
    "print(par0)"
   ]
  },
  {
   "cell_type": "code",
   "execution_count": 204,
   "id": "e1ef7cfb-439e-4eea-bab1-34e900a6c424",
   "metadata": {
    "execution": {
     "iopub.execute_input": "2024-03-20T21:35:26.741689Z",
     "iopub.status.busy": "2024-03-20T21:35:26.741330Z",
     "iopub.status.idle": "2024-03-20T21:35:26.744627Z",
     "shell.execute_reply": "2024-03-20T21:35:26.744003Z"
    },
    "papermill": {
     "duration": 0.033497,
     "end_time": "2024-03-20T21:35:26.745350",
     "exception": false,
     "start_time": "2024-03-20T21:35:26.711853",
     "status": "completed"
    },
    "tags": []
   },
   "outputs": [
    {
     "name": "stdout",
     "output_type": "stream",
     "text": [
      "This approach can be extended to a more complex model chain, where the correcting agent, for example, can query a knowledge graph or a vector database to ground its responses in prior knowledge. These chains are easy to implement, and some are available out of the box in the LangChain framework (Doe et al., 2020). However, they can behave unpredictably, which increases with the number of links in the chain and, as such, should be tightly controlled. They also add to the computational burden of the system, which is particularly relevant for deployments on end-user devices.\n"
     ]
    }
   ],
   "source": [
    "par1 = process_paragraph(\n",
    "    [\n",
    "        process_paragraph(mod_section_paragraphs[51]),\n",
    "        # mod_section_paragraphs[46],\n",
    "        # process_paragraph(mod_section_paragraphs[47])\n",
    "    ]\n",
    ")  # .replace(\" $$ X\", \"\\n\\n$$\\nX\").replace(\"$$ {\", \"\\n$$ {\").replace(\"On Mac OS\", \"\\n\\nOn Mac OS\")\n",
    "print(par1)"
   ]
  },
  {
   "cell_type": "code",
   "execution_count": 205,
   "id": "c9363e84-d8b7-47df-97f6-863584381112",
   "metadata": {
    "execution": {
     "iopub.execute_input": "2024-03-20T21:35:26.804081Z",
     "iopub.status.busy": "2024-03-20T21:35:26.803768Z",
     "iopub.status.idle": "2024-03-20T21:35:26.806516Z",
     "shell.execute_reply": "2024-03-20T21:35:26.806019Z"
    },
    "papermill": {
     "duration": 0.032817,
     "end_time": "2024-03-20T21:35:26.807237",
     "exception": false,
     "start_time": "2024-03-20T21:35:26.774420",
     "status": "completed"
    },
    "tags": []
   },
   "outputs": [],
   "source": [
    "paragraph_matches.append(\n",
    "    (\n",
    "        section_name,\n",
    "        par0,\n",
    "        par1,\n",
    "    )\n",
    ")"
   ]
  },
  {
   "cell_type": "code",
   "execution_count": 206,
   "id": "c2c5d2b5-aa4a-4efd-9c4f-8edfbf70f5a8",
   "metadata": {
    "editable": true,
    "execution": {
     "iopub.execute_input": "2024-03-20T21:35:26.865951Z",
     "iopub.status.busy": "2024-03-20T21:35:26.865761Z",
     "iopub.status.idle": "2024-03-20T21:35:26.869409Z",
     "shell.execute_reply": "2024-03-20T21:35:26.868905Z"
    },
    "papermill": {
     "duration": 0.033981,
     "end_time": "2024-03-20T21:35:26.870202",
     "exception": false,
     "start_time": "2024-03-20T21:35:26.836221",
     "status": "completed"
    },
    "slideshow": {
     "slide_type": ""
    },
    "tags": []
   },
   "outputs": [
    {
     "data": {
      "text/plain": [
       "('methods',\n",
       " 'This approach can be extended to a more complex model chain, where the correcting agent, for example, can query a knowledge graph or a vector database to ground its responses in prior knowledge. These chains are easy to implement, and some are available out of the box in the LangChain framework [@langchain]. However, they can behave unpredictably, which increases with the number of links in the chain and, as such, should be tightly controlled. They also add to the computational burden of the system, which is particularly relevant for deployments on end-user devices.',\n",
       " 'This approach can be extended to a more complex model chain, where the correcting agent, for example, can query a knowledge graph or a vector database to ground its responses in prior knowledge. These chains are easy to implement, and some are available out of the box in the LangChain framework (Doe et al., 2020). However, they can behave unpredictably, which increases with the number of links in the chain and, as such, should be tightly controlled. They also add to the computational burden of the system, which is particularly relevant for deployments on end-user devices.')"
      ]
     },
     "metadata": {},
     "output_type": "display_data"
    }
   ],
   "source": [
    "display(paragraph_matches[-1])"
   ]
  },
  {
   "cell_type": "markdown",
   "id": "9a45b8eb-9a57-4d0a-b311-b7ce8f6b4ceb",
   "metadata": {
    "editable": true,
    "papermill": {
     "duration": 0.052821,
     "end_time": "2024-03-20T21:35:26.952178",
     "exception": false,
     "start_time": "2024-03-20T21:35:26.899357",
     "status": "completed"
    },
    "slideshow": {
     "slide_type": ""
    },
    "tags": []
   },
   "source": [
    "# Close connections"
   ]
  },
  {
   "cell_type": "code",
   "execution_count": 207,
   "id": "91fcd4bb-131b-42b2-b64f-127441bd608b",
   "metadata": {
    "editable": true,
    "execution": {
     "iopub.execute_input": "2024-03-20T21:35:27.011295Z",
     "iopub.status.busy": "2024-03-20T21:35:27.010951Z",
     "iopub.status.idle": "2024-03-20T21:35:27.014621Z",
     "shell.execute_reply": "2024-03-20T21:35:27.014087Z"
    },
    "papermill": {
     "duration": 0.034168,
     "end_time": "2024-03-20T21:35:27.015596",
     "exception": false,
     "start_time": "2024-03-20T21:35:26.981428",
     "status": "completed"
    },
    "slideshow": {
     "slide_type": ""
    },
    "tags": []
   },
   "outputs": [],
   "source": [
    "g.close()"
   ]
  },
  {
   "cell_type": "markdown",
   "id": "be4b2259-6562-4d79-a0d2-a594c44a7fa8",
   "metadata": {
    "editable": true,
    "papermill": {
     "duration": 0.028895,
     "end_time": "2024-03-20T21:35:27.073569",
     "exception": false,
     "start_time": "2024-03-20T21:35:27.044674",
     "status": "completed"
    },
    "slideshow": {
     "slide_type": ""
    },
    "tags": []
   },
   "source": [
    "# Save"
   ]
  },
  {
   "cell_type": "code",
   "execution_count": 208,
   "id": "6b7e80bd-f678-4047-b0f6-3c4e55de4767",
   "metadata": {
    "editable": true,
    "execution": {
     "iopub.execute_input": "2024-03-20T21:35:27.132569Z",
     "iopub.status.busy": "2024-03-20T21:35:27.132183Z",
     "iopub.status.idle": "2024-03-20T21:35:27.135664Z",
     "shell.execute_reply": "2024-03-20T21:35:27.135200Z"
    },
    "papermill": {
     "duration": 0.033916,
     "end_time": "2024-03-20T21:35:27.136513",
     "exception": false,
     "start_time": "2024-03-20T21:35:27.102597",
     "status": "completed"
    },
    "slideshow": {
     "slide_type": ""
    },
    "tags": []
   },
   "outputs": [
    {
     "data": {
      "text/plain": [
       "37"
      ]
     },
     "execution_count": 208,
     "metadata": {},
     "output_type": "execute_result"
    }
   ],
   "source": [
    "len(paragraph_matches)"
   ]
  },
  {
   "cell_type": "code",
   "execution_count": 209,
   "id": "876f2147-1ea0-4f45-8eb2-722761b5394c",
   "metadata": {
    "execution": {
     "iopub.execute_input": "2024-03-20T21:35:27.195927Z",
     "iopub.status.busy": "2024-03-20T21:35:27.195576Z",
     "iopub.status.idle": "2024-03-20T21:35:27.199371Z",
     "shell.execute_reply": "2024-03-20T21:35:27.198874Z"
    },
    "papermill": {
     "duration": 0.034645,
     "end_time": "2024-03-20T21:35:27.200207",
     "exception": false,
     "start_time": "2024-03-20T21:35:27.165562",
     "status": "completed"
    },
    "tags": []
   },
   "outputs": [
    {
     "data": {
      "text/plain": [
       "[('abstract',\n",
       "  'Current-generation Large Language Models (LLMs) have stirred enormous interest in recent months, yielding great potential for accessibility and automation, while simultaneously posing significant challenges and risk of misuse. To facilitate interfacing with LLMs in the biomedical space, while at the same time safeguarding their functionalities through sensible constraints, we propose a dedicated, open-source framework: BioChatter. Based on open-source software packages, we synergise the many functionalities that are currently developing around LLMs, such as knowledge integration / retrieval-augmented generation, model chaining, and benchmarking, resulting in an easy-to-use and inclusive framework for application in many use cases of biomedicine. We focus on robust and user-friendly implementation, including ways to deploy privacy-preserving local open-source LLMs. We demonstrate use cases via two multi-purpose web apps ([https://chat.biocypher.org](https://chat.biocypher.org)), and provide documentation, support, and an open community.',\n",
       "  'Large Language Models (LLMs) have generated significant interest due to their potential for accessibility and automation in various fields, including biomedicine. However, they also present challenges and risks of misuse. In this paper, we address the need for a framework to interface with LLMs in the biomedical domain while ensuring their safe and effective use. To meet this need, we introduce BioChatter, an open-source framework that integrates various functionalities of LLMs, such as knowledge integration, retrieval-augmented generation, model chaining, and benchmarking. By leveraging open-source software packages, we have developed a user-friendly and versatile platform that can be applied across a range of biomedicine use cases. Our focus is on implementing robust and privacy-preserving local open-source LLMs. We showcase the utility of BioChatter through two multi-purpose web apps available at [https://chat.biocypher.org](https://chat.biocypher.org) and provide comprehensive documentation, support, and a vibrant open community.'),\n",
       " ('introduction',\n",
       "  'Despite technological advances, understanding biological and biomedical systems still poses major challenges [@gallagher-infinite;@dl-bioscience]. We measure more and more data points with ever-increasing resolution to such a degree that their analysis and interpretation have become the bottleneck for their exploitation [@dl-bioscience]. One reason for this challenge may be the inherent limitation of human knowledge [@doi:10.1016/j.tics.2005.04.010]: Even seasoned domain experts cannot know the implications of every gene, molecule, symptom, or biomarker. In addition, biological events are context-dependent, for instance with respect to a cell type or specific disease.',\n",
       "  'Despite technological advances, understanding biological and biomedical systems continues to present significant challenges (Gallagher et al., 2020; DL Bioscience, 2019). The volume of data generated is increasing exponentially, leading to a bottleneck in the analysis and interpretation of this data (DL Bioscience, 2019). One possible explanation for this challenge is the inherent limitation of human knowledge (Smith, 2005). Even experts in the field may not fully comprehend the implications of every gene, molecule, symptom, or biomarker. Moreover, biological processes are influenced by various contextual factors, such as cell type or specific disease conditions.')]"
      ]
     },
     "execution_count": 209,
     "metadata": {},
     "output_type": "execute_result"
    }
   ],
   "source": [
    "paragraph_matches[:2]"
   ]
  },
  {
   "cell_type": "code",
   "execution_count": 210,
   "id": "77d20807-9017-4e10-8cb7-6a3c706e9111",
   "metadata": {
    "execution": {
     "iopub.execute_input": "2024-03-20T21:35:27.264290Z",
     "iopub.status.busy": "2024-03-20T21:35:27.263773Z",
     "iopub.status.idle": "2024-03-20T21:35:27.267990Z",
     "shell.execute_reply": "2024-03-20T21:35:27.267437Z"
    },
    "papermill": {
     "duration": 0.039123,
     "end_time": "2024-03-20T21:35:27.268789",
     "exception": false,
     "start_time": "2024-03-20T21:35:27.229666",
     "status": "completed"
    },
    "tags": []
   },
   "outputs": [],
   "source": [
    "df = pd.DataFrame(paragraph_matches).rename(\n",
    "    columns={\n",
    "        0: \"section\",\n",
    "        1: \"original\",\n",
    "        2: \"modified\",\n",
    "    }\n",
    ")"
   ]
  },
  {
   "cell_type": "code",
   "execution_count": 211,
   "id": "44e31258-2754-49a0-af7a-5f3b4ef3a961",
   "metadata": {
    "execution": {
     "iopub.execute_input": "2024-03-20T21:35:27.328231Z",
     "iopub.status.busy": "2024-03-20T21:35:27.327918Z",
     "iopub.status.idle": "2024-03-20T21:35:27.331468Z",
     "shell.execute_reply": "2024-03-20T21:35:27.330983Z"
    },
    "papermill": {
     "duration": 0.033939,
     "end_time": "2024-03-20T21:35:27.332261",
     "exception": false,
     "start_time": "2024-03-20T21:35:27.298322",
     "status": "completed"
    },
    "tags": []
   },
   "outputs": [
    {
     "data": {
      "text/plain": [
       "(37, 3)"
      ]
     },
     "execution_count": 211,
     "metadata": {},
     "output_type": "execute_result"
    }
   ],
   "source": [
    "df.shape"
   ]
  },
  {
   "cell_type": "code",
   "execution_count": 212,
   "id": "f7612c30-e726-474f-8039-aa4bc44d1f16",
   "metadata": {
    "execution": {
     "iopub.execute_input": "2024-03-20T21:35:27.392085Z",
     "iopub.status.busy": "2024-03-20T21:35:27.391746Z",
     "iopub.status.idle": "2024-03-20T21:35:27.404416Z",
     "shell.execute_reply": "2024-03-20T21:35:27.403881Z"
    },
    "papermill": {
     "duration": 0.043381,
     "end_time": "2024-03-20T21:35:27.405244",
     "exception": false,
     "start_time": "2024-03-20T21:35:27.361863",
     "status": "completed"
    },
    "tags": []
   },
   "outputs": [
    {
     "data": {
      "text/html": [
       "<div>\n",
       "<style scoped>\n",
       "    .dataframe tbody tr th:only-of-type {\n",
       "        vertical-align: middle;\n",
       "    }\n",
       "\n",
       "    .dataframe tbody tr th {\n",
       "        vertical-align: top;\n",
       "    }\n",
       "\n",
       "    .dataframe thead th {\n",
       "        text-align: right;\n",
       "    }\n",
       "</style>\n",
       "<table border=\"1\" class=\"dataframe\">\n",
       "  <thead>\n",
       "    <tr style=\"text-align: right;\">\n",
       "      <th></th>\n",
       "      <th>section</th>\n",
       "      <th>original</th>\n",
       "      <th>modified</th>\n",
       "    </tr>\n",
       "  </thead>\n",
       "  <tbody>\n",
       "    <tr>\n",
       "      <th>0</th>\n",
       "      <td>abstract</td>\n",
       "      <td>Current-generation Large Language Models (LLMs...</td>\n",
       "      <td>Large Language Models (LLMs) have generated si...</td>\n",
       "    </tr>\n",
       "    <tr>\n",
       "      <th>1</th>\n",
       "      <td>introduction</td>\n",
       "      <td>Despite technological advances, understanding ...</td>\n",
       "      <td>Despite technological advances, understanding ...</td>\n",
       "    </tr>\n",
       "    <tr>\n",
       "      <th>2</th>\n",
       "      <td>introduction</td>\n",
       "      <td>Large Language Models (LLMs) of the current ge...</td>\n",
       "      <td>The latest generation of Large Language Models...</td>\n",
       "    </tr>\n",
       "    <tr>\n",
       "      <th>3</th>\n",
       "      <td>introduction</td>\n",
       "      <td>Computational biomedicine involves many tasks ...</td>\n",
       "      <td>Computational biomedicine encompasses various ...</td>\n",
       "    </tr>\n",
       "    <tr>\n",
       "      <th>4</th>\n",
       "      <td>results</td>\n",
       "      <td>The framework is designed to be modular: any o...</td>\n",
       "      <td>The framework is designed to be modular, allow...</td>\n",
       "    </tr>\n",
       "  </tbody>\n",
       "</table>\n",
       "</div>"
      ],
      "text/plain": [
       "        section                                           original  \\\n",
       "0      abstract  Current-generation Large Language Models (LLMs...   \n",
       "1  introduction  Despite technological advances, understanding ...   \n",
       "2  introduction  Large Language Models (LLMs) of the current ge...   \n",
       "3  introduction  Computational biomedicine involves many tasks ...   \n",
       "4       results  The framework is designed to be modular: any o...   \n",
       "\n",
       "                                            modified  \n",
       "0  Large Language Models (LLMs) have generated si...  \n",
       "1  Despite technological advances, understanding ...  \n",
       "2  The latest generation of Large Language Models...  \n",
       "3  Computational biomedicine encompasses various ...  \n",
       "4  The framework is designed to be modular, allow...  "
      ]
     },
     "execution_count": 212,
     "metadata": {},
     "output_type": "execute_result"
    }
   ],
   "source": [
    "df.head()"
   ]
  },
  {
   "cell_type": "code",
   "execution_count": 213,
   "id": "e072fbf8-91bd-4684-8782-9ccb8d6ee565",
   "metadata": {
    "execution": {
     "iopub.execute_input": "2024-03-20T21:35:27.465055Z",
     "iopub.status.busy": "2024-03-20T21:35:27.464693Z",
     "iopub.status.idle": "2024-03-20T21:35:27.468184Z",
     "shell.execute_reply": "2024-03-20T21:35:27.467662Z"
    },
    "papermill": {
     "duration": 0.034179,
     "end_time": "2024-03-20T21:35:27.469014",
     "exception": false,
     "start_time": "2024-03-20T21:35:27.434835",
     "status": "completed"
    },
    "tags": []
   },
   "outputs": [],
   "source": [
    "df.to_pickle(OUTPUT_FILE_PATH)"
   ]
  },
  {
   "cell_type": "markdown",
   "id": "41ee2c19-18a5-4742-a3ec-42771e914fb7",
   "metadata": {
    "editable": true,
    "papermill": {
     "duration": 0.029133,
     "end_time": "2024-03-20T21:35:27.527550",
     "exception": false,
     "start_time": "2024-03-20T21:35:27.498417",
     "status": "completed"
    },
    "slideshow": {
     "slide_type": ""
    },
    "tags": []
   },
   "source": [
    "# Reverse original/modified columns"
   ]
  },
  {
   "cell_type": "code",
   "execution_count": 214,
   "id": "ead9e4b4-17dc-4ebd-9d7f-a1c96b4a84de",
   "metadata": {
    "editable": true,
    "execution": {
     "iopub.execute_input": "2024-03-20T21:35:27.587599Z",
     "iopub.status.busy": "2024-03-20T21:35:27.587092Z",
     "iopub.status.idle": "2024-03-20T21:35:27.591051Z",
     "shell.execute_reply": "2024-03-20T21:35:27.590533Z"
    },
    "papermill": {
     "duration": 0.034875,
     "end_time": "2024-03-20T21:35:27.591849",
     "exception": false,
     "start_time": "2024-03-20T21:35:27.556974",
     "status": "completed"
    },
    "slideshow": {
     "slide_type": ""
    },
    "tags": []
   },
   "outputs": [],
   "source": [
    "df_reversed = df.rename(columns={\"original\": \"modified2\"}).rename(\n",
    "    columns={\"modified\": \"original\", \"modified2\": \"modified\"}\n",
    ")"
   ]
  },
  {
   "cell_type": "code",
   "execution_count": 215,
   "id": "74e3f179-5564-4cc5-aff6-26ec01072739",
   "metadata": {
    "editable": true,
    "execution": {
     "iopub.execute_input": "2024-03-20T21:35:27.651488Z",
     "iopub.status.busy": "2024-03-20T21:35:27.651049Z",
     "iopub.status.idle": "2024-03-20T21:35:27.654734Z",
     "shell.execute_reply": "2024-03-20T21:35:27.654233Z"
    },
    "papermill": {
     "duration": 0.034234,
     "end_time": "2024-03-20T21:35:27.655481",
     "exception": false,
     "start_time": "2024-03-20T21:35:27.621247",
     "status": "completed"
    },
    "slideshow": {
     "slide_type": ""
    },
    "tags": []
   },
   "outputs": [
    {
     "data": {
      "text/plain": [
       "(37, 3)"
      ]
     },
     "execution_count": 215,
     "metadata": {},
     "output_type": "execute_result"
    }
   ],
   "source": [
    "df_reversed.shape"
   ]
  },
  {
   "cell_type": "code",
   "execution_count": 216,
   "id": "0da23618-76b8-4e26-b053-e2acb025bc27",
   "metadata": {
    "editable": true,
    "execution": {
     "iopub.execute_input": "2024-03-20T21:35:27.715112Z",
     "iopub.status.busy": "2024-03-20T21:35:27.714768Z",
     "iopub.status.idle": "2024-03-20T21:35:27.721577Z",
     "shell.execute_reply": "2024-03-20T21:35:27.721078Z"
    },
    "papermill": {
     "duration": 0.037485,
     "end_time": "2024-03-20T21:35:27.722407",
     "exception": false,
     "start_time": "2024-03-20T21:35:27.684922",
     "status": "completed"
    },
    "slideshow": {
     "slide_type": ""
    },
    "tags": []
   },
   "outputs": [
    {
     "data": {
      "text/html": [
       "<div>\n",
       "<style scoped>\n",
       "    .dataframe tbody tr th:only-of-type {\n",
       "        vertical-align: middle;\n",
       "    }\n",
       "\n",
       "    .dataframe tbody tr th {\n",
       "        vertical-align: top;\n",
       "    }\n",
       "\n",
       "    .dataframe thead th {\n",
       "        text-align: right;\n",
       "    }\n",
       "</style>\n",
       "<table border=\"1\" class=\"dataframe\">\n",
       "  <thead>\n",
       "    <tr style=\"text-align: right;\">\n",
       "      <th></th>\n",
       "      <th>section</th>\n",
       "      <th>modified</th>\n",
       "      <th>original</th>\n",
       "    </tr>\n",
       "  </thead>\n",
       "  <tbody>\n",
       "    <tr>\n",
       "      <th>0</th>\n",
       "      <td>abstract</td>\n",
       "      <td>Current-generation Large Language Models (LLMs...</td>\n",
       "      <td>Large Language Models (LLMs) have generated si...</td>\n",
       "    </tr>\n",
       "    <tr>\n",
       "      <th>1</th>\n",
       "      <td>introduction</td>\n",
       "      <td>Despite technological advances, understanding ...</td>\n",
       "      <td>Despite technological advances, understanding ...</td>\n",
       "    </tr>\n",
       "    <tr>\n",
       "      <th>2</th>\n",
       "      <td>introduction</td>\n",
       "      <td>Large Language Models (LLMs) of the current ge...</td>\n",
       "      <td>The latest generation of Large Language Models...</td>\n",
       "    </tr>\n",
       "    <tr>\n",
       "      <th>3</th>\n",
       "      <td>introduction</td>\n",
       "      <td>Computational biomedicine involves many tasks ...</td>\n",
       "      <td>Computational biomedicine encompasses various ...</td>\n",
       "    </tr>\n",
       "    <tr>\n",
       "      <th>4</th>\n",
       "      <td>results</td>\n",
       "      <td>The framework is designed to be modular: any o...</td>\n",
       "      <td>The framework is designed to be modular, allow...</td>\n",
       "    </tr>\n",
       "  </tbody>\n",
       "</table>\n",
       "</div>"
      ],
      "text/plain": [
       "        section                                           modified  \\\n",
       "0      abstract  Current-generation Large Language Models (LLMs...   \n",
       "1  introduction  Despite technological advances, understanding ...   \n",
       "2  introduction  Large Language Models (LLMs) of the current ge...   \n",
       "3  introduction  Computational biomedicine involves many tasks ...   \n",
       "4       results  The framework is designed to be modular: any o...   \n",
       "\n",
       "                                            original  \n",
       "0  Large Language Models (LLMs) have generated si...  \n",
       "1  Despite technological advances, understanding ...  \n",
       "2  The latest generation of Large Language Models...  \n",
       "3  Computational biomedicine encompasses various ...  \n",
       "4  The framework is designed to be modular, allow...  "
      ]
     },
     "execution_count": 216,
     "metadata": {},
     "output_type": "execute_result"
    }
   ],
   "source": [
    "df_reversed.head()"
   ]
  },
  {
   "cell_type": "markdown",
   "id": "054e4b28-53f4-41c2-abb7-ff1a0182164b",
   "metadata": {
    "editable": true,
    "papermill": {
     "duration": 0.029211,
     "end_time": "2024-03-20T21:35:27.781296",
     "exception": false,
     "start_time": "2024-03-20T21:35:27.752085",
     "status": "completed"
    },
    "slideshow": {
     "slide_type": ""
    },
    "tags": []
   },
   "source": [
    "## Save"
   ]
  },
  {
   "cell_type": "code",
   "execution_count": 217,
   "id": "af88ecb3-70f7-40d3-8289-68ba99bbc7f3",
   "metadata": {
    "execution": {
     "iopub.execute_input": "2024-03-20T21:35:27.841162Z",
     "iopub.status.busy": "2024-03-20T21:35:27.840824Z",
     "iopub.status.idle": "2024-03-20T21:35:27.844081Z",
     "shell.execute_reply": "2024-03-20T21:35:27.843569Z"
    },
    "papermill": {
     "duration": 0.034224,
     "end_time": "2024-03-20T21:35:27.844895",
     "exception": false,
     "start_time": "2024-03-20T21:35:27.810671",
     "status": "completed"
    },
    "tags": []
   },
   "outputs": [],
   "source": [
    "df_reversed.to_pickle(REVERSED_OUTPUT_FILE_PATH)"
   ]
  },
  {
   "cell_type": "code",
   "execution_count": null,
   "id": "02304589-1223-48c7-9c0a-26bfa26392e7",
   "metadata": {
    "editable": true,
    "papermill": {
     "duration": 0.029569,
     "end_time": "2024-03-20T21:35:27.904236",
     "exception": false,
     "start_time": "2024-03-20T21:35:27.874667",
     "status": "completed"
    },
    "slideshow": {
     "slide_type": ""
    },
    "tags": []
   },
   "outputs": [],
   "source": []
  }
 ],
 "metadata": {
  "jupytext": {
   "cell_metadata_filter": "all,-execution,-papermill,-trusted",
   "notebook_metadata_filter": "-jupytext.text_representation.jupytext_version"
  },
  "kernelspec": {
   "display_name": "Python 3 (ipykernel)",
   "language": "python",
   "name": "python3"
  },
  "language_info": {
   "codemirror_mode": {
    "name": "ipython",
    "version": 3
   },
   "file_extension": ".py",
   "mimetype": "text/x-python",
   "name": "python",
   "nbconvert_exporter": "python",
   "pygments_lexer": "ipython3",
   "version": "3.11.8"
  },
  "papermill": {
   "default_parameters": {},
   "duration": 22.384308,
   "end_time": "2024-03-20T21:35:28.450747",
   "environment_variables": {},
   "exception": null,
   "input_path": "/home/miltondp/projects/others/manubot/manubot-ai-editor-code/nbs/01-paragraph_match/00-biochatter-gpt35-par_match.ipynb",
   "output_path": "/home/miltondp/projects/others/manubot/manubot-ai-editor-code/nbs/01-paragraph_match/00-biochatter-gpt35-par_match.run.ipynb",
   "parameters": {
    "OUTPUT_FILE_PATH": "/home/miltondp/projects/others/manubot/manubot-ai-editor-code/base/results/paragraph_match/biochatter-manuscript--gpt-3.5-turbo.pkl",
    "REVERSED_OUTPUT_FILE_PATH": "/home/miltondp/projects/others/manubot/manubot-ai-editor-code/base/results/paragraph_match/biochatter-manuscript--gpt-3.5-turbo--reversed.pkl"
   },
   "start_time": "2024-03-20T21:35:06.066439",
   "version": "2.5.0"
  }
 },
 "nbformat": 4,
 "nbformat_minor": 5
}
