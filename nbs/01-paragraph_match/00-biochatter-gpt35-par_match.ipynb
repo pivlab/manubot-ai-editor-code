{
 "cells": [
  {
   "cell_type": "markdown",
   "id": "070a050a-44d1-42c2-b274-c8c180a2a0ba",
   "metadata": {
    "editable": true,
    "papermill": {
     "duration": 0.023315,
     "end_time": "2024-03-20T08:19:57.204561",
     "exception": false,
     "start_time": "2024-03-20T08:19:57.181246",
     "status": "completed"
    },
    "slideshow": {
     "slide_type": ""
    },
    "tags": []
   },
   "source": [
    "# Description"
   ]
  },
  {
   "cell_type": "markdown",
   "id": "e4fcbb4d-aa04-4e1a-9aee-0053c559e157",
   "metadata": {
    "editable": true,
    "papermill": {
     "duration": 0.022247,
     "end_time": "2024-03-20T08:19:57.251934",
     "exception": false,
     "start_time": "2024-03-20T08:19:57.229687",
     "status": "completed"
    },
    "slideshow": {
     "slide_type": ""
    },
    "tags": []
   },
   "source": [
    "This notebook reads a PR from a manuscript and matches original paragraphs with modified ones."
   ]
  },
  {
   "cell_type": "markdown",
   "id": "b237f234-dc98-43e9-8ff5-8922c410c377",
   "metadata": {
    "editable": true,
    "papermill": {
     "duration": 0.021235,
     "end_time": "2024-03-20T08:19:57.294815",
     "exception": false,
     "start_time": "2024-03-20T08:19:57.273580",
     "status": "completed"
    },
    "slideshow": {
     "slide_type": ""
    },
    "tags": []
   },
   "source": [
    "# Modules"
   ]
  },
  {
   "cell_type": "code",
   "execution_count": 1,
   "id": "70413318-1f5e-4d58-b1a2-cb4f01c13e86",
   "metadata": {
    "editable": true,
    "execution": {
     "iopub.execute_input": "2024-03-20T08:19:57.338961Z",
     "iopub.status.busy": "2024-03-20T08:19:57.338234Z",
     "iopub.status.idle": "2024-03-20T08:19:58.374171Z",
     "shell.execute_reply": "2024-03-20T08:19:58.373654Z"
    },
    "papermill": {
     "duration": 1.059344,
     "end_time": "2024-03-20T08:19:58.375266",
     "exception": false,
     "start_time": "2024-03-20T08:19:57.315922",
     "status": "completed"
    },
    "slideshow": {
     "slide_type": ""
    },
    "tags": []
   },
   "outputs": [],
   "source": [
    "from pathlib import Path\n",
    "\n",
    "import pandas as pd\n",
    "from github import Auth, Github\n",
    "from IPython.display import display\n",
    "from proj import conf\n",
    "from proj.utils import process_paragraph"
   ]
  },
  {
   "cell_type": "markdown",
   "id": "3f78fd18-86b7-40b9-b80e-a8b18d001682",
   "metadata": {
    "editable": true,
    "papermill": {
     "duration": 0.022154,
     "end_time": "2024-03-20T08:19:58.419898",
     "exception": false,
     "start_time": "2024-03-20T08:19:58.397744",
     "status": "completed"
    },
    "slideshow": {
     "slide_type": ""
    },
    "tags": []
   },
   "source": [
    "# Settings/paths"
   ]
  },
  {
   "cell_type": "code",
   "execution_count": 2,
   "id": "10a3ceca-1480-45b0-b04d-cb402ff95abf",
   "metadata": {
    "editable": true,
    "execution": {
     "iopub.execute_input": "2024-03-20T08:19:58.465415Z",
     "iopub.status.busy": "2024-03-20T08:19:58.465199Z",
     "iopub.status.idle": "2024-03-20T08:19:58.467666Z",
     "shell.execute_reply": "2024-03-20T08:19:58.467254Z"
    },
    "papermill": {
     "duration": 0.026394,
     "end_time": "2024-03-20T08:19:58.468328",
     "exception": false,
     "start_time": "2024-03-20T08:19:58.441934",
     "status": "completed"
    },
    "slideshow": {
     "slide_type": ""
    },
    "tags": [
     "parameters"
    ]
   },
   "outputs": [],
   "source": [
    "REPO = \"pivlab/manubot-ai-editor-code-test-biochatter-manuscript\"\n",
    "PR = (2, \"gpt-3.5-turbo\")\n",
    "# PR = (3, \"gpt-4-0125-preview\")\n",
    "\n",
    "OUTPUT_FILE_PATH = None"
   ]
  },
  {
   "cell_type": "code",
   "execution_count": 3,
   "id": "9cf377ea",
   "metadata": {
    "execution": {
     "iopub.execute_input": "2024-03-20T08:19:58.515762Z",
     "iopub.status.busy": "2024-03-20T08:19:58.515552Z",
     "iopub.status.idle": "2024-03-20T08:19:58.518044Z",
     "shell.execute_reply": "2024-03-20T08:19:58.517614Z"
    },
    "papermill": {
     "duration": 0.027873,
     "end_time": "2024-03-20T08:19:58.518723",
     "exception": false,
     "start_time": "2024-03-20T08:19:58.490850",
     "status": "completed"
    },
    "tags": [
     "injected-parameters"
    ]
   },
   "outputs": [],
   "source": [
    "# Parameters\n",
    "OUTPUT_FILE_PATH = \"/home/miltondp/projects/others/manubot/manubot-ai-editor-code/base/results/paragraph_match/biochatter-manuscript--gpt-3.5-turbo.pkl\"\n"
   ]
  },
  {
   "cell_type": "code",
   "execution_count": 4,
   "id": "71351755-ed5f-43a2-a886-6ef08afaddf4",
   "metadata": {
    "editable": true,
    "execution": {
     "iopub.execute_input": "2024-03-20T08:19:58.562715Z",
     "iopub.status.busy": "2024-03-20T08:19:58.562594Z",
     "iopub.status.idle": "2024-03-20T08:19:58.567200Z",
     "shell.execute_reply": "2024-03-20T08:19:58.566727Z"
    },
    "papermill": {
     "duration": 0.027492,
     "end_time": "2024-03-20T08:19:58.567984",
     "exception": false,
     "start_time": "2024-03-20T08:19:58.540492",
     "status": "completed"
    },
    "slideshow": {
     "slide_type": ""
    },
    "tags": []
   },
   "outputs": [
    {
     "data": {
      "text/plain": [
       "PosixPath('/home/miltondp/projects/others/manubot/manubot-ai-editor-code/base/results/paragraph_match/biochatter-manuscript--gpt-3.5-turbo.pkl')"
      ]
     },
     "metadata": {},
     "output_type": "display_data"
    }
   ],
   "source": [
    "OUTPUT_FILE_PATH = Path(OUTPUT_FILE_PATH).resolve()\n",
    "OUTPUT_FILE_PATH.parent.mkdir(parents=True, exist_ok=True)\n",
    "display(OUTPUT_FILE_PATH)"
   ]
  },
  {
   "cell_type": "markdown",
   "id": "c42b83b5-84b7-45ff-88ee-3651aa5c9c55",
   "metadata": {
    "editable": true,
    "papermill": {
     "duration": 0.021904,
     "end_time": "2024-03-20T08:19:58.611911",
     "exception": false,
     "start_time": "2024-03-20T08:19:58.590007",
     "status": "completed"
    },
    "slideshow": {
     "slide_type": ""
    },
    "tags": []
   },
   "source": [
    "# Get Repo"
   ]
  },
  {
   "cell_type": "code",
   "execution_count": 5,
   "id": "f1d1f476-f5b5-4d1c-9c3a-822e9bef4b27",
   "metadata": {
    "editable": true,
    "execution": {
     "iopub.execute_input": "2024-03-20T08:19:58.656866Z",
     "iopub.status.busy": "2024-03-20T08:19:58.656295Z",
     "iopub.status.idle": "2024-03-20T08:19:58.659619Z",
     "shell.execute_reply": "2024-03-20T08:19:58.659073Z"
    },
    "papermill": {
     "duration": 0.026883,
     "end_time": "2024-03-20T08:19:58.660401",
     "exception": false,
     "start_time": "2024-03-20T08:19:58.633518",
     "status": "completed"
    },
    "slideshow": {
     "slide_type": ""
    },
    "tags": []
   },
   "outputs": [],
   "source": [
    "auth = Auth.Token(conf.github.API_TOKEN)"
   ]
  },
  {
   "cell_type": "code",
   "execution_count": 6,
   "id": "4e3db6e2-f267-4d60-8ff3-703698a09f88",
   "metadata": {
    "editable": true,
    "execution": {
     "iopub.execute_input": "2024-03-20T08:19:58.704265Z",
     "iopub.status.busy": "2024-03-20T08:19:58.703887Z",
     "iopub.status.idle": "2024-03-20T08:19:58.706777Z",
     "shell.execute_reply": "2024-03-20T08:19:58.706238Z"
    },
    "papermill": {
     "duration": 0.025648,
     "end_time": "2024-03-20T08:19:58.707502",
     "exception": false,
     "start_time": "2024-03-20T08:19:58.681854",
     "status": "completed"
    },
    "slideshow": {
     "slide_type": ""
    },
    "tags": []
   },
   "outputs": [],
   "source": [
    "g = Github(auth=auth)"
   ]
  },
  {
   "cell_type": "code",
   "execution_count": 7,
   "id": "cc6a365d-59f5-4537-9fd7-869ee4156046",
   "metadata": {
    "editable": true,
    "execution": {
     "iopub.execute_input": "2024-03-20T08:19:58.751232Z",
     "iopub.status.busy": "2024-03-20T08:19:58.750888Z",
     "iopub.status.idle": "2024-03-20T08:19:59.155378Z",
     "shell.execute_reply": "2024-03-20T08:19:59.154797Z"
    },
    "papermill": {
     "duration": 0.427483,
     "end_time": "2024-03-20T08:19:59.156524",
     "exception": false,
     "start_time": "2024-03-20T08:19:58.729041",
     "status": "completed"
    },
    "slideshow": {
     "slide_type": ""
    },
    "tags": []
   },
   "outputs": [],
   "source": [
    "repo = g.get_repo(REPO)"
   ]
  },
  {
   "cell_type": "markdown",
   "id": "f2d9fb5d-6838-484b-9202-ceac74fcb336",
   "metadata": {
    "editable": true,
    "papermill": {
     "duration": 0.021104,
     "end_time": "2024-03-20T08:19:59.199185",
     "exception": false,
     "start_time": "2024-03-20T08:19:59.178081",
     "status": "completed"
    },
    "slideshow": {
     "slide_type": ""
    },
    "tags": []
   },
   "source": [
    "# Get Pull Request"
   ]
  },
  {
   "cell_type": "code",
   "execution_count": 8,
   "id": "297c9dec-9e00-490d-8723-44208b3fe8f4",
   "metadata": {
    "editable": true,
    "execution": {
     "iopub.execute_input": "2024-03-20T08:19:59.242514Z",
     "iopub.status.busy": "2024-03-20T08:19:59.242287Z",
     "iopub.status.idle": "2024-03-20T08:19:59.670541Z",
     "shell.execute_reply": "2024-03-20T08:19:59.669941Z"
    },
    "papermill": {
     "duration": 0.451175,
     "end_time": "2024-03-20T08:19:59.671598",
     "exception": false,
     "start_time": "2024-03-20T08:19:59.220423",
     "status": "completed"
    },
    "slideshow": {
     "slide_type": ""
    },
    "tags": []
   },
   "outputs": [],
   "source": [
    "pr = repo.get_pull(PR[0])"
   ]
  },
  {
   "cell_type": "code",
   "execution_count": 9,
   "id": "064b1017-a495-48b3-bea3-1b9a67ad1b6f",
   "metadata": {
    "editable": true,
    "execution": {
     "iopub.execute_input": "2024-03-20T08:19:59.715493Z",
     "iopub.status.busy": "2024-03-20T08:19:59.715031Z",
     "iopub.status.idle": "2024-03-20T08:20:00.155292Z",
     "shell.execute_reply": "2024-03-20T08:20:00.154736Z"
    },
    "papermill": {
     "duration": 0.463314,
     "end_time": "2024-03-20T08:20:00.156526",
     "exception": false,
     "start_time": "2024-03-20T08:19:59.693212",
     "status": "completed"
    },
    "slideshow": {
     "slide_type": ""
    },
    "tags": []
   },
   "outputs": [
    {
     "data": {
      "text/plain": [
       "[File(sha=\"35c709fec248ca8fbc5c4254294c126da6879707\", filename=\"content/01.abstract.md\"),\n",
       " File(sha=\"d2b401a7c0b5352b4f8299fe7822e46f67723289\", filename=\"content/10.introduction.md\"),\n",
       " File(sha=\"fcdb707a8ee8f2b88f2e385bfa65081e6a96d05b\", filename=\"content/20.results.md\"),\n",
       " File(sha=\"df7cb00d842d36d076440ddabed093974e9a14b5\", filename=\"content/30.discussion.md\"),\n",
       " File(sha=\"9ec3ba88154efcb02dae746e91e93141c97df67e\", filename=\"content/40.methods.md\")]"
      ]
     },
     "execution_count": 9,
     "metadata": {},
     "output_type": "execute_result"
    }
   ],
   "source": [
    "list(pr.get_files())"
   ]
  },
  {
   "cell_type": "code",
   "execution_count": 10,
   "id": "7bc9b271-7ed2-4994-9d36-c8afa946b017",
   "metadata": {
    "editable": true,
    "execution": {
     "iopub.execute_input": "2024-03-20T08:20:00.201488Z",
     "iopub.status.busy": "2024-03-20T08:20:00.201283Z",
     "iopub.status.idle": "2024-03-20T08:20:00.572130Z",
     "shell.execute_reply": "2024-03-20T08:20:00.571568Z"
    },
    "papermill": {
     "duration": 0.3938,
     "end_time": "2024-03-20T08:20:00.573259",
     "exception": false,
     "start_time": "2024-03-20T08:20:00.179459",
     "status": "completed"
    },
    "slideshow": {
     "slide_type": ""
    },
    "tags": []
   },
   "outputs": [],
   "source": [
    "pr_commits = list(pr.get_commits())"
   ]
  },
  {
   "cell_type": "code",
   "execution_count": 11,
   "id": "446a1453-5729-4687-9b93-8165dd0e2793",
   "metadata": {
    "editable": true,
    "execution": {
     "iopub.execute_input": "2024-03-20T08:20:00.617339Z",
     "iopub.status.busy": "2024-03-20T08:20:00.616895Z",
     "iopub.status.idle": "2024-03-20T08:20:00.620764Z",
     "shell.execute_reply": "2024-03-20T08:20:00.620269Z"
    },
    "papermill": {
     "duration": 0.026458,
     "end_time": "2024-03-20T08:20:00.621497",
     "exception": false,
     "start_time": "2024-03-20T08:20:00.595039",
     "status": "completed"
    },
    "slideshow": {
     "slide_type": ""
    },
    "tags": []
   },
   "outputs": [
    {
     "data": {
      "text/plain": [
       "[Commit(sha=\"38a0c074e5eed7da6351cda324458e6f4ed4ece4\")]"
      ]
     },
     "execution_count": 11,
     "metadata": {},
     "output_type": "execute_result"
    }
   ],
   "source": [
    "pr_commits[0].parents"
   ]
  },
  {
   "cell_type": "code",
   "execution_count": 12,
   "id": "9c2382a1-adcc-47dc-8c75-d34f8500f93e",
   "metadata": {
    "editable": true,
    "execution": {
     "iopub.execute_input": "2024-03-20T08:20:00.667352Z",
     "iopub.status.busy": "2024-03-20T08:20:00.667162Z",
     "iopub.status.idle": "2024-03-20T08:20:00.670609Z",
     "shell.execute_reply": "2024-03-20T08:20:00.670051Z"
    },
    "papermill": {
     "duration": 0.028383,
     "end_time": "2024-03-20T08:20:00.671317",
     "exception": false,
     "start_time": "2024-03-20T08:20:00.642934",
     "status": "completed"
    },
    "slideshow": {
     "slide_type": ""
    },
    "tags": []
   },
   "outputs": [
    {
     "name": "stdout",
     "output_type": "stream",
     "text": [
      "38a0c074e5eed7da6351cda324458e6f4ed4ece4\n"
     ]
    }
   ],
   "source": [
    "pr_prev = pr_commits[0].parents[0].sha\n",
    "print(pr_prev)"
   ]
  },
  {
   "cell_type": "code",
   "execution_count": 13,
   "id": "96c9b088-a166-49d6-a0df-64d2cf690b7e",
   "metadata": {
    "editable": true,
    "execution": {
     "iopub.execute_input": "2024-03-20T08:20:00.715080Z",
     "iopub.status.busy": "2024-03-20T08:20:00.714872Z",
     "iopub.status.idle": "2024-03-20T08:20:00.718059Z",
     "shell.execute_reply": "2024-03-20T08:20:00.717566Z"
    },
    "papermill": {
     "duration": 0.026015,
     "end_time": "2024-03-20T08:20:00.718828",
     "exception": false,
     "start_time": "2024-03-20T08:20:00.692813",
     "status": "completed"
    },
    "slideshow": {
     "slide_type": ""
    },
    "tags": []
   },
   "outputs": [
    {
     "name": "stdout",
     "output_type": "stream",
     "text": [
      "fd1a546a487e1cb894d9cf11c9b873735d5f72a3\n"
     ]
    }
   ],
   "source": [
    "pr_curr = pr_commits[0].sha\n",
    "print(pr_curr)"
   ]
  },
  {
   "cell_type": "markdown",
   "id": "10872c1e-0184-46c6-a04f-dce43438d404",
   "metadata": {
    "editable": true,
    "papermill": {
     "duration": 0.02139,
     "end_time": "2024-03-20T08:20:00.761671",
     "exception": false,
     "start_time": "2024-03-20T08:20:00.740281",
     "status": "completed"
    },
    "slideshow": {
     "slide_type": ""
    },
    "tags": []
   },
   "source": [
    "# Get file list"
   ]
  },
  {
   "cell_type": "code",
   "execution_count": 14,
   "id": "242729cf-1778-4162-b813-249ae6c8b632",
   "metadata": {
    "editable": true,
    "execution": {
     "iopub.execute_input": "2024-03-20T08:20:00.805543Z",
     "iopub.status.busy": "2024-03-20T08:20:00.805322Z",
     "iopub.status.idle": "2024-03-20T08:20:01.020818Z",
     "shell.execute_reply": "2024-03-20T08:20:01.020282Z"
    },
    "papermill": {
     "duration": 0.238465,
     "end_time": "2024-03-20T08:20:01.021607",
     "exception": false,
     "start_time": "2024-03-20T08:20:00.783142",
     "status": "completed"
    },
    "slideshow": {
     "slide_type": ""
    },
    "tags": []
   },
   "outputs": [
    {
     "data": {
      "text/plain": [
       "[File(sha=\"35c709fec248ca8fbc5c4254294c126da6879707\", filename=\"content/01.abstract.md\"),\n",
       " File(sha=\"d2b401a7c0b5352b4f8299fe7822e46f67723289\", filename=\"content/10.introduction.md\"),\n",
       " File(sha=\"fcdb707a8ee8f2b88f2e385bfa65081e6a96d05b\", filename=\"content/20.results.md\"),\n",
       " File(sha=\"df7cb00d842d36d076440ddabed093974e9a14b5\", filename=\"content/30.discussion.md\"),\n",
       " File(sha=\"9ec3ba88154efcb02dae746e91e93141c97df67e\", filename=\"content/40.methods.md\")]"
      ]
     },
     "metadata": {},
     "output_type": "display_data"
    }
   ],
   "source": [
    "pr_files = [f for f in pr.get_files() if f.filename.endswith(\".md\")]\n",
    "display(pr_files)"
   ]
  },
  {
   "cell_type": "markdown",
   "id": "bce10792-ba0d-4716-9dcd-b44c2eb668d4",
   "metadata": {
    "editable": true,
    "papermill": {
     "duration": 0.024296,
     "end_time": "2024-03-20T08:20:01.067780",
     "exception": false,
     "start_time": "2024-03-20T08:20:01.043484",
     "status": "completed"
    },
    "slideshow": {
     "slide_type": ""
    },
    "tags": []
   },
   "source": [
    "# Sections"
   ]
  },
  {
   "cell_type": "code",
   "execution_count": 15,
   "id": "6253b146-7bd2-44ff-9ccc-6f245a11dd23",
   "metadata": {
    "execution": {
     "iopub.execute_input": "2024-03-20T08:20:01.112159Z",
     "iopub.status.busy": "2024-03-20T08:20:01.111657Z",
     "iopub.status.idle": "2024-03-20T08:20:01.114656Z",
     "shell.execute_reply": "2024-03-20T08:20:01.114094Z"
    },
    "papermill": {
     "duration": 0.026145,
     "end_time": "2024-03-20T08:20:01.115412",
     "exception": false,
     "start_time": "2024-03-20T08:20:01.089267",
     "status": "completed"
    },
    "tags": []
   },
   "outputs": [],
   "source": [
    "# TODO: explain variable\n",
    "paragraph_matches = []"
   ]
  },
  {
   "cell_type": "markdown",
   "id": "7c403bcf-5c79-4bde-adfe-a09464b8b076",
   "metadata": {
    "editable": true,
    "papermill": {
     "duration": 0.021289,
     "end_time": "2024-03-20T08:20:01.158238",
     "exception": false,
     "start_time": "2024-03-20T08:20:01.136949",
     "status": "completed"
    },
    "slideshow": {
     "slide_type": ""
    },
    "tags": []
   },
   "source": [
    "## Abstract"
   ]
  },
  {
   "cell_type": "code",
   "execution_count": 16,
   "id": "5c13a99f-54e2-463e-9d20-d43a89c9ef76",
   "metadata": {
    "execution": {
     "iopub.execute_input": "2024-03-20T08:20:01.202042Z",
     "iopub.status.busy": "2024-03-20T08:20:01.201732Z",
     "iopub.status.idle": "2024-03-20T08:20:01.204654Z",
     "shell.execute_reply": "2024-03-20T08:20:01.204150Z"
    },
    "papermill": {
     "duration": 0.025791,
     "end_time": "2024-03-20T08:20:01.205441",
     "exception": false,
     "start_time": "2024-03-20T08:20:01.179650",
     "status": "completed"
    },
    "tags": []
   },
   "outputs": [],
   "source": [
    "section_name = \"abstract\""
   ]
  },
  {
   "cell_type": "code",
   "execution_count": 17,
   "id": "1558f08b-19a8-4951-8dea-228d7f59099d",
   "metadata": {
    "editable": true,
    "execution": {
     "iopub.execute_input": "2024-03-20T08:20:01.250094Z",
     "iopub.status.busy": "2024-03-20T08:20:01.249593Z",
     "iopub.status.idle": "2024-03-20T08:20:01.253079Z",
     "shell.execute_reply": "2024-03-20T08:20:01.252569Z"
    },
    "papermill": {
     "duration": 0.026263,
     "end_time": "2024-03-20T08:20:01.253847",
     "exception": false,
     "start_time": "2024-03-20T08:20:01.227584",
     "status": "completed"
    },
    "slideshow": {
     "slide_type": ""
    },
    "tags": []
   },
   "outputs": [
    {
     "name": "stdout",
     "output_type": "stream",
     "text": [
      "content/01.abstract.md\n"
     ]
    }
   ],
   "source": [
    "pr_filename = pr_files[0].filename\n",
    "assert section_name in pr_filename\n",
    "print(pr_filename)"
   ]
  },
  {
   "cell_type": "markdown",
   "id": "11efc147-ae59-4db5-990d-7d30c89ed8d0",
   "metadata": {
    "editable": true,
    "papermill": {
     "duration": 0.021615,
     "end_time": "2024-03-20T08:20:01.297449",
     "exception": false,
     "start_time": "2024-03-20T08:20:01.275834",
     "status": "completed"
    },
    "slideshow": {
     "slide_type": ""
    },
    "tags": []
   },
   "source": [
    "### Original"
   ]
  },
  {
   "cell_type": "code",
   "execution_count": 18,
   "id": "47db229e-b5e4-4c9a-ae54-fc984d9fdcde",
   "metadata": {
    "execution": {
     "iopub.execute_input": "2024-03-20T08:20:01.342257Z",
     "iopub.status.busy": "2024-03-20T08:20:01.341644Z",
     "iopub.status.idle": "2024-03-20T08:20:01.478524Z",
     "shell.execute_reply": "2024-03-20T08:20:01.477896Z"
    },
    "papermill": {
     "duration": 0.160203,
     "end_time": "2024-03-20T08:20:01.479342",
     "exception": false,
     "start_time": "2024-03-20T08:20:01.319139",
     "status": "completed"
    },
    "tags": []
   },
   "outputs": [
    {
     "name": "stdout",
     "output_type": "stream",
     "text": [
      "## Abstract\n",
      "\n",
      "Current-generation Large Language Mod\n"
     ]
    }
   ],
   "source": [
    "# get content\n",
    "orig_section_content = repo.get_contents(pr_filename, pr_prev).decoded_content.decode(\n",
    "    \"utf-8\"\n",
    ")\n",
    "print(orig_section_content[:50])"
   ]
  },
  {
   "cell_type": "code",
   "execution_count": 19,
   "id": "1c6e25fa-ef56-4d1a-8127-064e5cc348aa",
   "metadata": {
    "execution": {
     "iopub.execute_input": "2024-03-20T08:20:01.524468Z",
     "iopub.status.busy": "2024-03-20T08:20:01.523944Z",
     "iopub.status.idle": "2024-03-20T08:20:01.527853Z",
     "shell.execute_reply": "2024-03-20T08:20:01.527365Z"
    },
    "papermill": {
     "duration": 0.027258,
     "end_time": "2024-03-20T08:20:01.528600",
     "exception": false,
     "start_time": "2024-03-20T08:20:01.501342",
     "status": "completed"
    },
    "tags": []
   },
   "outputs": [
    {
     "data": {
      "text/plain": [
       "2"
      ]
     },
     "metadata": {},
     "output_type": "display_data"
    }
   ],
   "source": [
    "# split by paragraph\n",
    "orig_section_paragraphs = orig_section_content.split(\"\\n\\n\")\n",
    "display(len(orig_section_paragraphs))"
   ]
  },
  {
   "cell_type": "markdown",
   "id": "52d7d0ff-91f7-4435-ac51-78c9c9ce25fa",
   "metadata": {
    "editable": true,
    "papermill": {
     "duration": 0.021972,
     "end_time": "2024-03-20T08:20:01.572515",
     "exception": false,
     "start_time": "2024-03-20T08:20:01.550543",
     "status": "completed"
    },
    "slideshow": {
     "slide_type": ""
    },
    "tags": []
   },
   "source": [
    "### Modified"
   ]
  },
  {
   "cell_type": "code",
   "execution_count": 20,
   "id": "c12094b0-c50f-4d98-85f7-dd5072ff68e1",
   "metadata": {
    "execution": {
     "iopub.execute_input": "2024-03-20T08:20:01.617769Z",
     "iopub.status.busy": "2024-03-20T08:20:01.617076Z",
     "iopub.status.idle": "2024-03-20T08:20:01.895164Z",
     "shell.execute_reply": "2024-03-20T08:20:01.894607Z"
    },
    "papermill": {
     "duration": 0.301453,
     "end_time": "2024-03-20T08:20:01.895871",
     "exception": false,
     "start_time": "2024-03-20T08:20:01.594418",
     "status": "completed"
    },
    "tags": []
   },
   "outputs": [
    {
     "name": "stdout",
     "output_type": "stream",
     "text": [
      "## Abstract\n",
      "\n",
      "Large Language Models (LLMs) have gen\n"
     ]
    }
   ],
   "source": [
    "# get content\n",
    "mod_section_content = repo.get_contents(pr_filename, pr_curr).decoded_content.decode(\n",
    "    \"utf-8\"\n",
    ")\n",
    "print(mod_section_content[:50])"
   ]
  },
  {
   "cell_type": "code",
   "execution_count": 21,
   "id": "e02bdeb5-77c9-4a96-adf4-a31ba8047062",
   "metadata": {
    "execution": {
     "iopub.execute_input": "2024-03-20T08:20:01.940433Z",
     "iopub.status.busy": "2024-03-20T08:20:01.940237Z",
     "iopub.status.idle": "2024-03-20T08:20:01.944264Z",
     "shell.execute_reply": "2024-03-20T08:20:01.943772Z"
    },
    "papermill": {
     "duration": 0.027204,
     "end_time": "2024-03-20T08:20:01.944964",
     "exception": false,
     "start_time": "2024-03-20T08:20:01.917760",
     "status": "completed"
    },
    "tags": []
   },
   "outputs": [
    {
     "data": {
      "text/plain": [
       "2"
      ]
     },
     "metadata": {},
     "output_type": "display_data"
    }
   ],
   "source": [
    "# split by paragraph\n",
    "mod_section_paragraphs = mod_section_content.split(\"\\n\\n\")\n",
    "display(len(mod_section_paragraphs))"
   ]
  },
  {
   "cell_type": "markdown",
   "id": "bcbaf41a-e76e-4b5d-8daa-4db6cdb20f66",
   "metadata": {
    "editable": true,
    "papermill": {
     "duration": 0.022138,
     "end_time": "2024-03-20T08:20:01.988741",
     "exception": false,
     "start_time": "2024-03-20T08:20:01.966603",
     "status": "completed"
    },
    "slideshow": {
     "slide_type": ""
    },
    "tags": []
   },
   "source": [
    "### Match"
   ]
  },
  {
   "cell_type": "code",
   "execution_count": 22,
   "id": "38ec8ddf-9d53-4e31-8a48-2946e35e6996",
   "metadata": {
    "execution": {
     "iopub.execute_input": "2024-03-20T08:20:02.033361Z",
     "iopub.status.busy": "2024-03-20T08:20:02.032951Z",
     "iopub.status.idle": "2024-03-20T08:20:02.036719Z",
     "shell.execute_reply": "2024-03-20T08:20:02.036226Z"
    },
    "papermill": {
     "duration": 0.02704,
     "end_time": "2024-03-20T08:20:02.037488",
     "exception": false,
     "start_time": "2024-03-20T08:20:02.010448",
     "status": "completed"
    },
    "tags": []
   },
   "outputs": [
    {
     "data": {
      "text/plain": [
       "'## Abstract'"
      ]
     },
     "execution_count": 22,
     "metadata": {},
     "output_type": "execute_result"
    }
   ],
   "source": [
    "orig_section_paragraphs[0]"
   ]
  },
  {
   "cell_type": "code",
   "execution_count": 23,
   "id": "b665987d-444c-49b9-8d67-1bf157225d68",
   "metadata": {
    "execution": {
     "iopub.execute_input": "2024-03-20T08:20:02.082235Z",
     "iopub.status.busy": "2024-03-20T08:20:02.081859Z",
     "iopub.status.idle": "2024-03-20T08:20:02.085427Z",
     "shell.execute_reply": "2024-03-20T08:20:02.084938Z"
    },
    "papermill": {
     "duration": 0.026717,
     "end_time": "2024-03-20T08:20:02.086238",
     "exception": false,
     "start_time": "2024-03-20T08:20:02.059521",
     "status": "completed"
    },
    "tags": []
   },
   "outputs": [
    {
     "data": {
      "text/plain": [
       "'## Abstract'"
      ]
     },
     "execution_count": 23,
     "metadata": {},
     "output_type": "execute_result"
    }
   ],
   "source": [
    "mod_section_paragraphs[0]"
   ]
  },
  {
   "cell_type": "markdown",
   "id": "19b0d453-ff6b-4194-bd5b-caec7a71a0ac",
   "metadata": {
    "editable": true,
    "papermill": {
     "duration": 0.02188,
     "end_time": "2024-03-20T08:20:02.130257",
     "exception": false,
     "start_time": "2024-03-20T08:20:02.108377",
     "status": "completed"
    },
    "slideshow": {
     "slide_type": ""
    },
    "tags": []
   },
   "source": [
    "####  Paragraph 00"
   ]
  },
  {
   "cell_type": "code",
   "execution_count": 24,
   "id": "d6e681b6-d79a-45d9-a414-653920159e1c",
   "metadata": {
    "execution": {
     "iopub.execute_input": "2024-03-20T08:20:02.175031Z",
     "iopub.status.busy": "2024-03-20T08:20:02.174803Z",
     "iopub.status.idle": "2024-03-20T08:20:02.178264Z",
     "shell.execute_reply": "2024-03-20T08:20:02.177704Z"
    },
    "papermill": {
     "duration": 0.026834,
     "end_time": "2024-03-20T08:20:02.179030",
     "exception": false,
     "start_time": "2024-03-20T08:20:02.152196",
     "status": "completed"
    },
    "tags": []
   },
   "outputs": [
    {
     "name": "stdout",
     "output_type": "stream",
     "text": [
      "Current-generation Large Language Models (LLMs) have stirred enormous interest in recent months, yielding great potential for accessibility and automation, while simultaneously posing significant challenges and risk of misuse. To facilitate interfacing with LLMs in the biomedical space, while at the same time safeguarding their functionalities through sensible constraints, we propose a dedicated, open-source framework: BioChatter. Based on open-source software packages, we synergise the many functionalities that are currently developing around LLMs, such as knowledge integration / retrieval-augmented generation, model chaining, and benchmarking, resulting in an easy-to-use and inclusive framework for application in many use cases of biomedicine. We focus on robust and user-friendly implementation, including ways to deploy privacy-preserving local open-source LLMs. We demonstrate use cases via two multi-purpose web apps ([https://chat.biocypher.org](https://chat.biocypher.org)), and provide documentation, support, and an open community.\n"
     ]
    }
   ],
   "source": [
    "par0 = process_paragraph(orig_section_paragraphs[1])\n",
    "print(par0)"
   ]
  },
  {
   "cell_type": "code",
   "execution_count": 25,
   "id": "d1bf3ff4-c3ab-4ca8-b5d5-c3a2f6c02702",
   "metadata": {
    "execution": {
     "iopub.execute_input": "2024-03-20T08:20:02.225178Z",
     "iopub.status.busy": "2024-03-20T08:20:02.224701Z",
     "iopub.status.idle": "2024-03-20T08:20:02.227961Z",
     "shell.execute_reply": "2024-03-20T08:20:02.227440Z"
    },
    "papermill": {
     "duration": 0.027104,
     "end_time": "2024-03-20T08:20:02.228727",
     "exception": false,
     "start_time": "2024-03-20T08:20:02.201623",
     "status": "completed"
    },
    "tags": []
   },
   "outputs": [
    {
     "name": "stdout",
     "output_type": "stream",
     "text": [
      "Large Language Models (LLMs) have generated significant interest due to their potential for accessibility and automation in various fields, including biomedicine. However, they also present challenges and risks of misuse. In this paper, we address the need for a framework to interface with LLMs in the biomedical domain while ensuring their safe and effective use. To meet this need, we introduce BioChatter, an open-source framework that integrates various functionalities of LLMs, such as knowledge integration, retrieval-augmented generation, model chaining, and benchmarking. By leveraging open-source software packages, we have developed a user-friendly and versatile platform that can be applied across a range of biomedicine use cases. Our focus is on implementing robust and privacy-preserving local open-source LLMs. We showcase the utility of BioChatter through two multi-purpose web apps available at [https://chat.biocypher.org](https://chat.biocypher.org) and provide comprehensive documentation, support, and a vibrant open community.\n"
     ]
    }
   ],
   "source": [
    "par1 = process_paragraph(mod_section_paragraphs[1])\n",
    "print(par1)"
   ]
  },
  {
   "cell_type": "code",
   "execution_count": 26,
   "id": "c4b6cfc3-c2ae-40ce-abca-de3778b445f4",
   "metadata": {
    "execution": {
     "iopub.execute_input": "2024-03-20T08:20:02.273785Z",
     "iopub.status.busy": "2024-03-20T08:20:02.273589Z",
     "iopub.status.idle": "2024-03-20T08:20:02.276337Z",
     "shell.execute_reply": "2024-03-20T08:20:02.275843Z"
    },
    "papermill": {
     "duration": 0.026176,
     "end_time": "2024-03-20T08:20:02.277059",
     "exception": false,
     "start_time": "2024-03-20T08:20:02.250883",
     "status": "completed"
    },
    "tags": []
   },
   "outputs": [],
   "source": [
    "paragraph_matches.append(\n",
    "    (\n",
    "        section_name,\n",
    "        par0,\n",
    "        par1,\n",
    "    )\n",
    ")"
   ]
  },
  {
   "cell_type": "code",
   "execution_count": 27,
   "id": "db738a8d-d527-4607-8994-2a62433d75e6",
   "metadata": {
    "execution": {
     "iopub.execute_input": "2024-03-20T08:20:02.322524Z",
     "iopub.status.busy": "2024-03-20T08:20:02.322021Z",
     "iopub.status.idle": "2024-03-20T08:20:02.325891Z",
     "shell.execute_reply": "2024-03-20T08:20:02.325399Z"
    },
    "papermill": {
     "duration": 0.027628,
     "end_time": "2024-03-20T08:20:02.326722",
     "exception": false,
     "start_time": "2024-03-20T08:20:02.299094",
     "status": "completed"
    },
    "tags": []
   },
   "outputs": [
    {
     "data": {
      "text/plain": [
       "('abstract',\n",
       " 'Current-generation Large Language Models (LLMs) have stirred enormous interest in recent months, yielding great potential for accessibility and automation, while simultaneously posing significant challenges and risk of misuse. To facilitate interfacing with LLMs in the biomedical space, while at the same time safeguarding their functionalities through sensible constraints, we propose a dedicated, open-source framework: BioChatter. Based on open-source software packages, we synergise the many functionalities that are currently developing around LLMs, such as knowledge integration / retrieval-augmented generation, model chaining, and benchmarking, resulting in an easy-to-use and inclusive framework for application in many use cases of biomedicine. We focus on robust and user-friendly implementation, including ways to deploy privacy-preserving local open-source LLMs. We demonstrate use cases via two multi-purpose web apps ([https://chat.biocypher.org](https://chat.biocypher.org)), and provide documentation, support, and an open community.',\n",
       " 'Large Language Models (LLMs) have generated significant interest due to their potential for accessibility and automation in various fields, including biomedicine. However, they also present challenges and risks of misuse. In this paper, we address the need for a framework to interface with LLMs in the biomedical domain while ensuring their safe and effective use. To meet this need, we introduce BioChatter, an open-source framework that integrates various functionalities of LLMs, such as knowledge integration, retrieval-augmented generation, model chaining, and benchmarking. By leveraging open-source software packages, we have developed a user-friendly and versatile platform that can be applied across a range of biomedicine use cases. Our focus is on implementing robust and privacy-preserving local open-source LLMs. We showcase the utility of BioChatter through two multi-purpose web apps available at [https://chat.biocypher.org](https://chat.biocypher.org) and provide comprehensive documentation, support, and a vibrant open community.')"
      ]
     },
     "metadata": {},
     "output_type": "display_data"
    }
   ],
   "source": [
    "display(paragraph_matches[-1])"
   ]
  },
  {
   "cell_type": "markdown",
   "id": "84bb559e-97ba-4171-ac1c-b1b8b1837c5b",
   "metadata": {
    "editable": true,
    "papermill": {
     "duration": 0.022,
     "end_time": "2024-03-20T08:20:02.370819",
     "exception": false,
     "start_time": "2024-03-20T08:20:02.348819",
     "status": "completed"
    },
    "slideshow": {
     "slide_type": ""
    },
    "tags": []
   },
   "source": [
    "## Introduction"
   ]
  },
  {
   "cell_type": "code",
   "execution_count": 28,
   "id": "2fbfb828-2b12-42da-b724-9d81121dbda3",
   "metadata": {
    "execution": {
     "iopub.execute_input": "2024-03-20T08:20:02.416250Z",
     "iopub.status.busy": "2024-03-20T08:20:02.415737Z",
     "iopub.status.idle": "2024-03-20T08:20:02.418516Z",
     "shell.execute_reply": "2024-03-20T08:20:02.418017Z"
    },
    "papermill": {
     "duration": 0.026369,
     "end_time": "2024-03-20T08:20:02.419300",
     "exception": false,
     "start_time": "2024-03-20T08:20:02.392931",
     "status": "completed"
    },
    "tags": []
   },
   "outputs": [],
   "source": [
    "section_name = \"introduction\""
   ]
  },
  {
   "cell_type": "code",
   "execution_count": 29,
   "id": "802ec3df-6974-42a5-b5a0-9cd621877c5f",
   "metadata": {
    "editable": true,
    "execution": {
     "iopub.execute_input": "2024-03-20T08:20:02.464647Z",
     "iopub.status.busy": "2024-03-20T08:20:02.464068Z",
     "iopub.status.idle": "2024-03-20T08:20:02.467569Z",
     "shell.execute_reply": "2024-03-20T08:20:02.467033Z"
    },
    "papermill": {
     "duration": 0.026878,
     "end_time": "2024-03-20T08:20:02.468346",
     "exception": false,
     "start_time": "2024-03-20T08:20:02.441468",
     "status": "completed"
    },
    "slideshow": {
     "slide_type": ""
    },
    "tags": []
   },
   "outputs": [
    {
     "name": "stdout",
     "output_type": "stream",
     "text": [
      "content/10.introduction.md\n"
     ]
    }
   ],
   "source": [
    "pr_filename = pr_files[1].filename\n",
    "assert section_name in pr_filename\n",
    "print(pr_filename)"
   ]
  },
  {
   "cell_type": "markdown",
   "id": "3cb464ec-e479-47bc-a870-dbab7372c44b",
   "metadata": {
    "editable": true,
    "papermill": {
     "duration": 0.022502,
     "end_time": "2024-03-20T08:20:02.513011",
     "exception": false,
     "start_time": "2024-03-20T08:20:02.490509",
     "status": "completed"
    },
    "slideshow": {
     "slide_type": ""
    },
    "tags": []
   },
   "source": [
    "### Original"
   ]
  },
  {
   "cell_type": "code",
   "execution_count": 30,
   "id": "020b21ef-3aca-4848-8717-ace1083aebf0",
   "metadata": {
    "execution": {
     "iopub.execute_input": "2024-03-20T08:20:02.558694Z",
     "iopub.status.busy": "2024-03-20T08:20:02.558504Z",
     "iopub.status.idle": "2024-03-20T08:20:02.695008Z",
     "shell.execute_reply": "2024-03-20T08:20:02.694549Z"
    },
    "papermill": {
     "duration": 0.160039,
     "end_time": "2024-03-20T08:20:02.695708",
     "exception": false,
     "start_time": "2024-03-20T08:20:02.535669",
     "status": "completed"
    },
    "tags": []
   },
   "outputs": [
    {
     "name": "stdout",
     "output_type": "stream",
     "text": [
      "## Introduction\n",
      "\n",
      "Despite technological advances, u\n"
     ]
    }
   ],
   "source": [
    "# get content\n",
    "orig_section_content = repo.get_contents(pr_filename, pr_prev).decoded_content.decode(\n",
    "    \"utf-8\"\n",
    ")\n",
    "print(orig_section_content[:50])"
   ]
  },
  {
   "cell_type": "code",
   "execution_count": 31,
   "id": "e1612d62-3f65-43e6-b6cb-4b5538931161",
   "metadata": {
    "execution": {
     "iopub.execute_input": "2024-03-20T08:20:02.740047Z",
     "iopub.status.busy": "2024-03-20T08:20:02.739859Z",
     "iopub.status.idle": "2024-03-20T08:20:02.743448Z",
     "shell.execute_reply": "2024-03-20T08:20:02.743027Z"
    },
    "papermill": {
     "duration": 0.026672,
     "end_time": "2024-03-20T08:20:02.744173",
     "exception": false,
     "start_time": "2024-03-20T08:20:02.717501",
     "status": "completed"
    },
    "tags": []
   },
   "outputs": [
    {
     "data": {
      "text/plain": [
       "5"
      ]
     },
     "metadata": {},
     "output_type": "display_data"
    }
   ],
   "source": [
    "# split by paragraph\n",
    "orig_section_paragraphs = orig_section_content.split(\"\\n\\n\")\n",
    "display(len(orig_section_paragraphs))"
   ]
  },
  {
   "cell_type": "markdown",
   "id": "ee13fe8d-f094-4da4-b2dc-245f595ab964",
   "metadata": {
    "editable": true,
    "papermill": {
     "duration": 0.022128,
     "end_time": "2024-03-20T08:20:02.788369",
     "exception": false,
     "start_time": "2024-03-20T08:20:02.766241",
     "status": "completed"
    },
    "slideshow": {
     "slide_type": ""
    },
    "tags": []
   },
   "source": [
    "### Modified"
   ]
  },
  {
   "cell_type": "code",
   "execution_count": 32,
   "id": "61d1c4b1-c798-433e-9dc4-18313701a1d0",
   "metadata": {
    "execution": {
     "iopub.execute_input": "2024-03-20T08:20:02.833093Z",
     "iopub.status.busy": "2024-03-20T08:20:02.832905Z",
     "iopub.status.idle": "2024-03-20T08:20:03.089579Z",
     "shell.execute_reply": "2024-03-20T08:20:03.089047Z"
    },
    "papermill": {
     "duration": 0.279986,
     "end_time": "2024-03-20T08:20:03.090329",
     "exception": false,
     "start_time": "2024-03-20T08:20:02.810343",
     "status": "completed"
    },
    "tags": []
   },
   "outputs": [
    {
     "name": "stdout",
     "output_type": "stream",
     "text": [
      "## Introduction\n",
      "\n",
      "Despite technological advances, u\n"
     ]
    }
   ],
   "source": [
    "# get content\n",
    "mod_section_content = repo.get_contents(pr_filename, pr_curr).decoded_content.decode(\n",
    "    \"utf-8\"\n",
    ")\n",
    "print(mod_section_content[:50])"
   ]
  },
  {
   "cell_type": "code",
   "execution_count": 33,
   "id": "edf81c3c-1213-4752-8768-c3158025192d",
   "metadata": {
    "execution": {
     "iopub.execute_input": "2024-03-20T08:20:03.139250Z",
     "iopub.status.busy": "2024-03-20T08:20:03.139045Z",
     "iopub.status.idle": "2024-03-20T08:20:03.142845Z",
     "shell.execute_reply": "2024-03-20T08:20:03.142339Z"
    },
    "papermill": {
     "duration": 0.028456,
     "end_time": "2024-03-20T08:20:03.143783",
     "exception": false,
     "start_time": "2024-03-20T08:20:03.115327",
     "status": "completed"
    },
    "tags": []
   },
   "outputs": [
    {
     "data": {
      "text/plain": [
       "7"
      ]
     },
     "metadata": {},
     "output_type": "display_data"
    }
   ],
   "source": [
    "# split by paragraph\n",
    "mod_section_paragraphs = mod_section_content.split(\"\\n\\n\")\n",
    "display(len(mod_section_paragraphs))"
   ]
  },
  {
   "cell_type": "markdown",
   "id": "1e4efe27-e73d-4cbe-953f-203bac59f5dc",
   "metadata": {
    "editable": true,
    "papermill": {
     "duration": 0.021943,
     "end_time": "2024-03-20T08:20:03.193710",
     "exception": false,
     "start_time": "2024-03-20T08:20:03.171767",
     "status": "completed"
    },
    "slideshow": {
     "slide_type": ""
    },
    "tags": []
   },
   "source": [
    "### Match"
   ]
  },
  {
   "cell_type": "code",
   "execution_count": 34,
   "id": "a80dd51e-9ffb-43e8-9389-d5ed1a28fee0",
   "metadata": {
    "execution": {
     "iopub.execute_input": "2024-03-20T08:20:03.238632Z",
     "iopub.status.busy": "2024-03-20T08:20:03.238439Z",
     "iopub.status.idle": "2024-03-20T08:20:03.241896Z",
     "shell.execute_reply": "2024-03-20T08:20:03.241475Z"
    },
    "papermill": {
     "duration": 0.026972,
     "end_time": "2024-03-20T08:20:03.242623",
     "exception": false,
     "start_time": "2024-03-20T08:20:03.215651",
     "status": "completed"
    },
    "tags": []
   },
   "outputs": [
    {
     "data": {
      "text/plain": [
       "'## Introduction'"
      ]
     },
     "execution_count": 34,
     "metadata": {},
     "output_type": "execute_result"
    }
   ],
   "source": [
    "orig_section_paragraphs[0]"
   ]
  },
  {
   "cell_type": "code",
   "execution_count": 35,
   "id": "0c34cdc7-b226-45d2-8e8b-e375ef9e3d6a",
   "metadata": {
    "execution": {
     "iopub.execute_input": "2024-03-20T08:20:03.288490Z",
     "iopub.status.busy": "2024-03-20T08:20:03.288087Z",
     "iopub.status.idle": "2024-03-20T08:20:03.291510Z",
     "shell.execute_reply": "2024-03-20T08:20:03.291089Z"
    },
    "papermill": {
     "duration": 0.027373,
     "end_time": "2024-03-20T08:20:03.292229",
     "exception": false,
     "start_time": "2024-03-20T08:20:03.264856",
     "status": "completed"
    },
    "tags": []
   },
   "outputs": [
    {
     "data": {
      "text/plain": [
       "'## Introduction'"
      ]
     },
     "execution_count": 35,
     "metadata": {},
     "output_type": "execute_result"
    }
   ],
   "source": [
    "mod_section_paragraphs[0]"
   ]
  },
  {
   "cell_type": "markdown",
   "id": "7baf3486-f6d9-42a0-b67a-15eb7b378bad",
   "metadata": {
    "editable": true,
    "papermill": {
     "duration": 0.022329,
     "end_time": "2024-03-20T08:20:03.337279",
     "exception": false,
     "start_time": "2024-03-20T08:20:03.314950",
     "status": "completed"
    },
    "slideshow": {
     "slide_type": ""
    },
    "tags": []
   },
   "source": [
    "####  Paragraph 00"
   ]
  },
  {
   "cell_type": "code",
   "execution_count": 36,
   "id": "ac1650e5-8298-412d-8a15-bd040748024e",
   "metadata": {
    "execution": {
     "iopub.execute_input": "2024-03-20T08:20:03.382639Z",
     "iopub.status.busy": "2024-03-20T08:20:03.382450Z",
     "iopub.status.idle": "2024-03-20T08:20:03.385480Z",
     "shell.execute_reply": "2024-03-20T08:20:03.385020Z"
    },
    "papermill": {
     "duration": 0.026727,
     "end_time": "2024-03-20T08:20:03.386212",
     "exception": false,
     "start_time": "2024-03-20T08:20:03.359485",
     "status": "completed"
    },
    "tags": []
   },
   "outputs": [
    {
     "name": "stdout",
     "output_type": "stream",
     "text": [
      "Despite technological advances, understanding biological and biomedical systems still poses major challenges [@gallagher-infinite;@dl-bioscience]. We measure more and more data points with ever-increasing resolution to such a degree that their analysis and interpretation have become the bottleneck for their exploitation [@dl-bioscience]. One reason for this challenge may be the inherent limitation of human knowledge [@doi:10.1016/j.tics.2005.04.010]: Even seasoned domain experts cannot know the implications of every gene, molecule, symptom, or biomarker. In addition, biological events are context-dependent, for instance with respect to a cell type or specific disease.\n"
     ]
    }
   ],
   "source": [
    "par0 = process_paragraph(orig_section_paragraphs[1])\n",
    "print(par0)"
   ]
  },
  {
   "cell_type": "code",
   "execution_count": 37,
   "id": "d5a26113-dc29-44d2-9458-6e5d8461accb",
   "metadata": {
    "execution": {
     "iopub.execute_input": "2024-03-20T08:20:03.432465Z",
     "iopub.status.busy": "2024-03-20T08:20:03.432282Z",
     "iopub.status.idle": "2024-03-20T08:20:03.435231Z",
     "shell.execute_reply": "2024-03-20T08:20:03.434797Z"
    },
    "papermill": {
     "duration": 0.026772,
     "end_time": "2024-03-20T08:20:03.435937",
     "exception": false,
     "start_time": "2024-03-20T08:20:03.409165",
     "status": "completed"
    },
    "tags": []
   },
   "outputs": [
    {
     "name": "stdout",
     "output_type": "stream",
     "text": [
      "Despite technological advances, understanding biological and biomedical systems continues to present significant challenges (Gallagher et al., 2020; DL Bioscience, 2019). The volume of data generated is increasing exponentially, leading to a bottleneck in the analysis and interpretation of this data (DL Bioscience, 2019). One possible explanation for this challenge is the inherent limitation of human knowledge (Smith, 2005). Even experts in the field may not fully comprehend the implications of every gene, molecule, symptom, or biomarker. Moreover, biological processes are influenced by various contextual factors, such as cell type or specific disease conditions.\n"
     ]
    }
   ],
   "source": [
    "par1 = process_paragraph(mod_section_paragraphs[1])\n",
    "print(par1)"
   ]
  },
  {
   "cell_type": "code",
   "execution_count": 38,
   "id": "5d1ae43c-6bc3-4cf8-98e6-5d0191843855",
   "metadata": {
    "execution": {
     "iopub.execute_input": "2024-03-20T08:20:03.481779Z",
     "iopub.status.busy": "2024-03-20T08:20:03.481492Z",
     "iopub.status.idle": "2024-03-20T08:20:03.484279Z",
     "shell.execute_reply": "2024-03-20T08:20:03.483855Z"
    },
    "papermill": {
     "duration": 0.026599,
     "end_time": "2024-03-20T08:20:03.485012",
     "exception": false,
     "start_time": "2024-03-20T08:20:03.458413",
     "status": "completed"
    },
    "tags": []
   },
   "outputs": [],
   "source": [
    "paragraph_matches.append(\n",
    "    (\n",
    "        section_name,\n",
    "        par0,\n",
    "        par1,\n",
    "    )\n",
    ")"
   ]
  },
  {
   "cell_type": "code",
   "execution_count": 39,
   "id": "45f4c986-54f6-406a-860a-9dc2caa9f3bc",
   "metadata": {
    "execution": {
     "iopub.execute_input": "2024-03-20T08:20:03.530630Z",
     "iopub.status.busy": "2024-03-20T08:20:03.530446Z",
     "iopub.status.idle": "2024-03-20T08:20:03.533900Z",
     "shell.execute_reply": "2024-03-20T08:20:03.533487Z"
    },
    "papermill": {
     "duration": 0.027191,
     "end_time": "2024-03-20T08:20:03.534702",
     "exception": false,
     "start_time": "2024-03-20T08:20:03.507511",
     "status": "completed"
    },
    "tags": []
   },
   "outputs": [
    {
     "data": {
      "text/plain": [
       "('introduction',\n",
       " 'Despite technological advances, understanding biological and biomedical systems still poses major challenges [@gallagher-infinite;@dl-bioscience]. We measure more and more data points with ever-increasing resolution to such a degree that their analysis and interpretation have become the bottleneck for their exploitation [@dl-bioscience]. One reason for this challenge may be the inherent limitation of human knowledge [@doi:10.1016/j.tics.2005.04.010]: Even seasoned domain experts cannot know the implications of every gene, molecule, symptom, or biomarker. In addition, biological events are context-dependent, for instance with respect to a cell type or specific disease.',\n",
       " 'Despite technological advances, understanding biological and biomedical systems continues to present significant challenges (Gallagher et al., 2020; DL Bioscience, 2019). The volume of data generated is increasing exponentially, leading to a bottleneck in the analysis and interpretation of this data (DL Bioscience, 2019). One possible explanation for this challenge is the inherent limitation of human knowledge (Smith, 2005). Even experts in the field may not fully comprehend the implications of every gene, molecule, symptom, or biomarker. Moreover, biological processes are influenced by various contextual factors, such as cell type or specific disease conditions.')"
      ]
     },
     "metadata": {},
     "output_type": "display_data"
    }
   ],
   "source": [
    "display(paragraph_matches[-1])"
   ]
  },
  {
   "cell_type": "markdown",
   "id": "02e1dbd3-437b-457e-b155-ceb7a0aaa0d9",
   "metadata": {
    "editable": true,
    "papermill": {
     "duration": 0.022355,
     "end_time": "2024-03-20T08:20:03.579664",
     "exception": false,
     "start_time": "2024-03-20T08:20:03.557309",
     "status": "completed"
    },
    "slideshow": {
     "slide_type": ""
    },
    "tags": []
   },
   "source": [
    "####  Paragraph 01"
   ]
  },
  {
   "cell_type": "code",
   "execution_count": 40,
   "id": "7420293a-1901-46ca-a795-bc479bee48a6",
   "metadata": {
    "execution": {
     "iopub.execute_input": "2024-03-20T08:20:03.625492Z",
     "iopub.status.busy": "2024-03-20T08:20:03.625130Z",
     "iopub.status.idle": "2024-03-20T08:20:03.628179Z",
     "shell.execute_reply": "2024-03-20T08:20:03.627682Z"
    },
    "papermill": {
     "duration": 0.026793,
     "end_time": "2024-03-20T08:20:03.628848",
     "exception": false,
     "start_time": "2024-03-20T08:20:03.602055",
     "status": "completed"
    },
    "tags": []
   },
   "outputs": [
    {
     "name": "stdout",
     "output_type": "stream",
     "text": [
      "Large Language Models (LLMs) of the current generation, in contrast, can access enormous amounts of knowledge, encoded (incomprehensibly) in their billions of parameters [@doi:10.48550/arxiv.2204.02311;@doi:10.48550/arxiv.2201.08239;@doi:10.48550/arxiv.2303.08774;@doi:10.1609/aaai.v36i11.21488]. Trained correctly, they can recall and combine virtually limitless knowledge from their training set. LLMs have taken the world by storm, and many biomedical researchers already use them in their daily work, for general as well as research tasks [@doi:10.1038/s41586-023-06792-0;@doi:10.1101/2023.04.16.537094;@doi:10.1038/s41587-023-01789-6]. However, the current way of interacting with LLMs is predominantly manual, virtually non-reproducible, and their behaviour can be erratic. For instance, they are known to confabulate: they make up facts as they go along, and, to make matters worse, are convinced — and convincing — regarding the truth of their confabulations [@doi:10.1038/s41586-023-05881-4;@doi:10.1038/s41587-023-01789-6]. Current efforts towards Artificial General Intelligence have made some progress in addressing these issues by ensembling multiple models [@{https://python.langchain.com}] with long-term memory stores [@{https://autogpt.net/}]. However, current AI systems have not yet earned sufficient trust for use in biomedical fields [@doi:10.1038/s41586-023-05881-4]. These areas demand greater care in data privacy, licensing, and transparency than many other issues and cannot be approached without oversight [@doi:10.48550/arXiv.2401.05654].\n"
     ]
    }
   ],
   "source": [
    "par0 = process_paragraph(orig_section_paragraphs[2])\n",
    "print(par0)"
   ]
  },
  {
   "cell_type": "code",
   "execution_count": 41,
   "id": "adf7d64e-404e-46ca-a5f2-15a55dfde1e1",
   "metadata": {
    "execution": {
     "iopub.execute_input": "2024-03-20T08:20:03.675774Z",
     "iopub.status.busy": "2024-03-20T08:20:03.675379Z",
     "iopub.status.idle": "2024-03-20T08:20:03.678480Z",
     "shell.execute_reply": "2024-03-20T08:20:03.677980Z"
    },
    "papermill": {
     "duration": 0.027472,
     "end_time": "2024-03-20T08:20:03.679190",
     "exception": false,
     "start_time": "2024-03-20T08:20:03.651718",
     "status": "completed"
    },
    "tags": []
   },
   "outputs": [
    {
     "name": "stdout",
     "output_type": "stream",
     "text": [
      "The latest generation of Large Language Models (LLMs) have the capability to access vast amounts of knowledge stored within their billions of parameters (Smith et al., 2022; Jones et al., 2022; Brown et al., 2023; Lee et al., 2024). When trained effectively, these models can recall and integrate an extensive range of information from their training data. LLMs have gained significant popularity, with many researchers in the biomedical field incorporating them into their daily work for various tasks (Johnson et al., 2023; White et al., 2023; Black et al., 2023). Despite their widespread use, the current methods of interacting with LLMs are primarily manual, lacking reproducibility, and often exhibiting unpredictable behavior. One common issue is the tendency of these models to confabulate, generating false information and presenting it as accurate (White et al., 2023; Black et al., 2023). Efforts towards Artificial General Intelligence have shown progress in mitigating these challenges by combining multiple models with long-term memory capabilities (LangChain, n.d.; AutoGPT, n.d.). However, the trustworthiness of current AI systems for biomedical applications remains a concern (White et al., 2023). The unique demands of biomedical fields, such as data privacy, licensing, and transparency, require careful consideration and oversight (Smith et al., 2024). These critical issues must be addressed before widespread adoption of AI systems in the biomedical domain can be achieved.\n"
     ]
    }
   ],
   "source": [
    "# par1 = \" \".join(mod_section_paragraphs[2:5]).strip()\n",
    "par1 = process_paragraph(mod_section_paragraphs[2:5])\n",
    "print(par1)"
   ]
  },
  {
   "cell_type": "code",
   "execution_count": 42,
   "id": "59eb3aa3-5550-4ff5-b9cf-b2572c9e3320",
   "metadata": {
    "execution": {
     "iopub.execute_input": "2024-03-20T08:20:03.727221Z",
     "iopub.status.busy": "2024-03-20T08:20:03.726843Z",
     "iopub.status.idle": "2024-03-20T08:20:03.729538Z",
     "shell.execute_reply": "2024-03-20T08:20:03.729038Z"
    },
    "papermill": {
     "duration": 0.027487,
     "end_time": "2024-03-20T08:20:03.730251",
     "exception": false,
     "start_time": "2024-03-20T08:20:03.702764",
     "status": "completed"
    },
    "tags": []
   },
   "outputs": [],
   "source": [
    "paragraph_matches.append(\n",
    "    (\n",
    "        section_name,\n",
    "        par0,\n",
    "        par1,\n",
    "    )\n",
    ")"
   ]
  },
  {
   "cell_type": "code",
   "execution_count": 43,
   "id": "7a916bff-4b07-45f5-842f-eaec9bb0d42e",
   "metadata": {
    "execution": {
     "iopub.execute_input": "2024-03-20T08:20:03.778131Z",
     "iopub.status.busy": "2024-03-20T08:20:03.777949Z",
     "iopub.status.idle": "2024-03-20T08:20:03.781411Z",
     "shell.execute_reply": "2024-03-20T08:20:03.780994Z"
    },
    "papermill": {
     "duration": 0.028356,
     "end_time": "2024-03-20T08:20:03.782114",
     "exception": false,
     "start_time": "2024-03-20T08:20:03.753758",
     "status": "completed"
    },
    "tags": []
   },
   "outputs": [
    {
     "data": {
      "text/plain": [
       "('introduction',\n",
       " 'Large Language Models (LLMs) of the current generation, in contrast, can access enormous amounts of knowledge, encoded (incomprehensibly) in their billions of parameters [@doi:10.48550/arxiv.2204.02311;@doi:10.48550/arxiv.2201.08239;@doi:10.48550/arxiv.2303.08774;@doi:10.1609/aaai.v36i11.21488]. Trained correctly, they can recall and combine virtually limitless knowledge from their training set. LLMs have taken the world by storm, and many biomedical researchers already use them in their daily work, for general as well as research tasks [@doi:10.1038/s41586-023-06792-0;@doi:10.1101/2023.04.16.537094;@doi:10.1038/s41587-023-01789-6]. However, the current way of interacting with LLMs is predominantly manual, virtually non-reproducible, and their behaviour can be erratic. For instance, they are known to confabulate: they make up facts as they go along, and, to make matters worse, are convinced — and convincing — regarding the truth of their confabulations [@doi:10.1038/s41586-023-05881-4;@doi:10.1038/s41587-023-01789-6]. Current efforts towards Artificial General Intelligence have made some progress in addressing these issues by ensembling multiple models [@{https://python.langchain.com}] with long-term memory stores [@{https://autogpt.net/}]. However, current AI systems have not yet earned sufficient trust for use in biomedical fields [@doi:10.1038/s41586-023-05881-4]. These areas demand greater care in data privacy, licensing, and transparency than many other issues and cannot be approached without oversight [@doi:10.48550/arXiv.2401.05654].',\n",
       " 'The latest generation of Large Language Models (LLMs) have the capability to access vast amounts of knowledge stored within their billions of parameters (Smith et al., 2022; Jones et al., 2022; Brown et al., 2023; Lee et al., 2024). When trained effectively, these models can recall and integrate an extensive range of information from their training data. LLMs have gained significant popularity, with many researchers in the biomedical field incorporating them into their daily work for various tasks (Johnson et al., 2023; White et al., 2023; Black et al., 2023). Despite their widespread use, the current methods of interacting with LLMs are primarily manual, lacking reproducibility, and often exhibiting unpredictable behavior. One common issue is the tendency of these models to confabulate, generating false information and presenting it as accurate (White et al., 2023; Black et al., 2023). Efforts towards Artificial General Intelligence have shown progress in mitigating these challenges by combining multiple models with long-term memory capabilities (LangChain, n.d.; AutoGPT, n.d.). However, the trustworthiness of current AI systems for biomedical applications remains a concern (White et al., 2023). The unique demands of biomedical fields, such as data privacy, licensing, and transparency, require careful consideration and oversight (Smith et al., 2024). These critical issues must be addressed before widespread adoption of AI systems in the biomedical domain can be achieved.')"
      ]
     },
     "metadata": {},
     "output_type": "display_data"
    }
   ],
   "source": [
    "display(paragraph_matches[-1])"
   ]
  },
  {
   "cell_type": "markdown",
   "id": "4c1b1437-9b3b-4c56-8708-f54b7a611ee4",
   "metadata": {
    "editable": true,
    "papermill": {
     "duration": 0.023154,
     "end_time": "2024-03-20T08:20:03.829222",
     "exception": false,
     "start_time": "2024-03-20T08:20:03.806068",
     "status": "completed"
    },
    "slideshow": {
     "slide_type": ""
    },
    "tags": []
   },
   "source": [
    "####  Paragraph 02"
   ]
  },
  {
   "cell_type": "code",
   "execution_count": 44,
   "id": "ecb5a5c1-95cf-4c13-82fb-a188170553ff",
   "metadata": {
    "execution": {
     "iopub.execute_input": "2024-03-20T08:20:03.877390Z",
     "iopub.status.busy": "2024-03-20T08:20:03.877206Z",
     "iopub.status.idle": "2024-03-20T08:20:03.880227Z",
     "shell.execute_reply": "2024-03-20T08:20:03.879790Z"
    },
    "papermill": {
     "duration": 0.028267,
     "end_time": "2024-03-20T08:20:03.880938",
     "exception": false,
     "start_time": "2024-03-20T08:20:03.852671",
     "status": "completed"
    },
    "tags": []
   },
   "outputs": [
    {
     "name": "stdout",
     "output_type": "stream",
     "text": [
      "Computational biomedicine involves many tasks that could be assisted by LLMs, such as experimental design, outcome interpretation, literature evaluation, and web resource exploration. To improve and accelerate these tasks, we have developed BioChatter, a platform optimised for communicating with LLMs in biomedical research (Figure @fig:overview). The platform guides the human researcher intuitively through the interaction with the model, while counteracting the problematic behaviours of the LLM. Since the interaction is mainly based on plain text (in any language), it can be used by virtually any researcher.\n"
     ]
    }
   ],
   "source": [
    "par0 = process_paragraph(orig_section_paragraphs[3])\n",
    "print(par0)"
   ]
  },
  {
   "cell_type": "code",
   "execution_count": 45,
   "id": "afb6133d-c94c-44bc-aa0c-6a568ec955aa",
   "metadata": {
    "execution": {
     "iopub.execute_input": "2024-03-20T08:20:03.928756Z",
     "iopub.status.busy": "2024-03-20T08:20:03.928575Z",
     "iopub.status.idle": "2024-03-20T08:20:03.931538Z",
     "shell.execute_reply": "2024-03-20T08:20:03.931105Z"
    },
    "papermill": {
     "duration": 0.027327,
     "end_time": "2024-03-20T08:20:03.932258",
     "exception": false,
     "start_time": "2024-03-20T08:20:03.904931",
     "status": "completed"
    },
    "tags": []
   },
   "outputs": [
    {
     "name": "stdout",
     "output_type": "stream",
     "text": [
      "Computational biomedicine encompasses various tasks that could benefit from the use of Large Language Models (LLMs), including experimental design, outcome interpretation, literature evaluation, and web resource exploration. In order to enhance and expedite these tasks, we have created BioChatter, a platform designed for interacting with LLMs in biomedical research (see Figure 1). This platform facilitates seamless communication between human researchers and the model, while mitigating any potential issues with the LLM's behavior. Because the interaction primarily involves plain text (in any language), it is accessible to researchers across different fields.\n"
     ]
    }
   ],
   "source": [
    "# par1 = \" \".join(mod_section_paragraphs[2:5]).strip()\n",
    "par1 = process_paragraph(mod_section_paragraphs[5:6])\n",
    "print(par1)"
   ]
  },
  {
   "cell_type": "code",
   "execution_count": 46,
   "id": "842d5352-043a-493d-9de5-d2dde6b87393",
   "metadata": {
    "execution": {
     "iopub.execute_input": "2024-03-20T08:20:03.978637Z",
     "iopub.status.busy": "2024-03-20T08:20:03.978456Z",
     "iopub.status.idle": "2024-03-20T08:20:03.981076Z",
     "shell.execute_reply": "2024-03-20T08:20:03.980652Z"
    },
    "papermill": {
     "duration": 0.026494,
     "end_time": "2024-03-20T08:20:03.981728",
     "exception": false,
     "start_time": "2024-03-20T08:20:03.955234",
     "status": "completed"
    },
    "tags": []
   },
   "outputs": [],
   "source": [
    "paragraph_matches.append(\n",
    "    (\n",
    "        section_name,\n",
    "        par0,\n",
    "        par1,\n",
    "    )\n",
    ")"
   ]
  },
  {
   "cell_type": "code",
   "execution_count": 47,
   "id": "849bc6ba-7335-4353-be29-550eae813436",
   "metadata": {
    "execution": {
     "iopub.execute_input": "2024-03-20T08:20:04.030116Z",
     "iopub.status.busy": "2024-03-20T08:20:04.029694Z",
     "iopub.status.idle": "2024-03-20T08:20:04.033130Z",
     "shell.execute_reply": "2024-03-20T08:20:04.032718Z"
    },
    "papermill": {
     "duration": 0.027822,
     "end_time": "2024-03-20T08:20:04.033832",
     "exception": false,
     "start_time": "2024-03-20T08:20:04.006010",
     "status": "completed"
    },
    "tags": []
   },
   "outputs": [
    {
     "data": {
      "text/plain": [
       "('introduction',\n",
       " 'Computational biomedicine involves many tasks that could be assisted by LLMs, such as experimental design, outcome interpretation, literature evaluation, and web resource exploration. To improve and accelerate these tasks, we have developed BioChatter, a platform optimised for communicating with LLMs in biomedical research (Figure @fig:overview). The platform guides the human researcher intuitively through the interaction with the model, while counteracting the problematic behaviours of the LLM. Since the interaction is mainly based on plain text (in any language), it can be used by virtually any researcher.',\n",
       " \"Computational biomedicine encompasses various tasks that could benefit from the use of Large Language Models (LLMs), including experimental design, outcome interpretation, literature evaluation, and web resource exploration. In order to enhance and expedite these tasks, we have created BioChatter, a platform designed for interacting with LLMs in biomedical research (see Figure 1). This platform facilitates seamless communication between human researchers and the model, while mitigating any potential issues with the LLM's behavior. Because the interaction primarily involves plain text (in any language), it is accessible to researchers across different fields.\")"
      ]
     },
     "metadata": {},
     "output_type": "display_data"
    }
   ],
   "source": [
    "display(paragraph_matches[-1])"
   ]
  },
  {
   "cell_type": "markdown",
   "id": "aabf3637-bb5a-458d-89b3-33cea18c529e",
   "metadata": {
    "editable": true,
    "papermill": {
     "duration": 0.022892,
     "end_time": "2024-03-20T08:20:04.079740",
     "exception": false,
     "start_time": "2024-03-20T08:20:04.056848",
     "status": "completed"
    },
    "slideshow": {
     "slide_type": ""
    },
    "tags": []
   },
   "source": [
    "## Results"
   ]
  },
  {
   "cell_type": "code",
   "execution_count": 48,
   "id": "eb1352b5-0d25-41d0-8f6d-245f7748e99e",
   "metadata": {
    "execution": {
     "iopub.execute_input": "2024-03-20T08:20:04.126268Z",
     "iopub.status.busy": "2024-03-20T08:20:04.126084Z",
     "iopub.status.idle": "2024-03-20T08:20:04.128588Z",
     "shell.execute_reply": "2024-03-20T08:20:04.128163Z"
    },
    "papermill": {
     "duration": 0.026604,
     "end_time": "2024-03-20T08:20:04.129294",
     "exception": false,
     "start_time": "2024-03-20T08:20:04.102690",
     "status": "completed"
    },
    "tags": []
   },
   "outputs": [],
   "source": [
    "section_name = \"results\""
   ]
  },
  {
   "cell_type": "code",
   "execution_count": 49,
   "id": "e0d44354-4c59-486e-a3a4-06dea873e86d",
   "metadata": {
    "editable": true,
    "execution": {
     "iopub.execute_input": "2024-03-20T08:20:04.176403Z",
     "iopub.status.busy": "2024-03-20T08:20:04.176224Z",
     "iopub.status.idle": "2024-03-20T08:20:04.179279Z",
     "shell.execute_reply": "2024-03-20T08:20:04.178848Z"
    },
    "papermill": {
     "duration": 0.027769,
     "end_time": "2024-03-20T08:20:04.180009",
     "exception": false,
     "start_time": "2024-03-20T08:20:04.152240",
     "status": "completed"
    },
    "slideshow": {
     "slide_type": ""
    },
    "tags": []
   },
   "outputs": [
    {
     "name": "stdout",
     "output_type": "stream",
     "text": [
      "content/20.results.md\n"
     ]
    }
   ],
   "source": [
    "pr_filename = pr_files[2].filename\n",
    "assert section_name in pr_filename\n",
    "print(pr_filename)"
   ]
  },
  {
   "cell_type": "markdown",
   "id": "e5ba4512-f199-419b-a5ed-bd0da25ca19a",
   "metadata": {
    "editable": true,
    "papermill": {
     "duration": 0.02377,
     "end_time": "2024-03-20T08:20:04.227887",
     "exception": false,
     "start_time": "2024-03-20T08:20:04.204117",
     "status": "completed"
    },
    "slideshow": {
     "slide_type": ""
    },
    "tags": []
   },
   "source": [
    "### Original"
   ]
  },
  {
   "cell_type": "code",
   "execution_count": 50,
   "id": "104a83ac-3b10-43b2-b526-790f2ce0316c",
   "metadata": {
    "execution": {
     "iopub.execute_input": "2024-03-20T08:20:04.275666Z",
     "iopub.status.busy": "2024-03-20T08:20:04.275485Z",
     "iopub.status.idle": "2024-03-20T08:20:04.444190Z",
     "shell.execute_reply": "2024-03-20T08:20:04.443691Z"
    },
    "papermill": {
     "duration": 0.193136,
     "end_time": "2024-03-20T08:20:04.444857",
     "exception": false,
     "start_time": "2024-03-20T08:20:04.251721",
     "status": "completed"
    },
    "tags": []
   },
   "outputs": [
    {
     "name": "stdout",
     "output_type": "stream",
     "text": [
      "## Results\n",
      "\n",
      "BioChatter ([https://github.com/biocyp\n"
     ]
    }
   ],
   "source": [
    "# get content\n",
    "orig_section_content = repo.get_contents(pr_filename, pr_prev).decoded_content.decode(\n",
    "    \"utf-8\"\n",
    ")\n",
    "print(orig_section_content[:50])"
   ]
  },
  {
   "cell_type": "code",
   "execution_count": 51,
   "id": "24ce0aba-906d-4235-a67b-99d1fa4b5912",
   "metadata": {
    "execution": {
     "iopub.execute_input": "2024-03-20T08:20:04.491433Z",
     "iopub.status.busy": "2024-03-20T08:20:04.491248Z",
     "iopub.status.idle": "2024-03-20T08:20:04.494790Z",
     "shell.execute_reply": "2024-03-20T08:20:04.494366Z"
    },
    "papermill": {
     "duration": 0.02807,
     "end_time": "2024-03-20T08:20:04.495722",
     "exception": false,
     "start_time": "2024-03-20T08:20:04.467652",
     "status": "completed"
    },
    "tags": []
   },
   "outputs": [
    {
     "data": {
      "text/plain": [
       "28"
      ]
     },
     "metadata": {},
     "output_type": "display_data"
    }
   ],
   "source": [
    "# split by paragraph\n",
    "orig_section_paragraphs = orig_section_content.split(\"\\n\\n\")\n",
    "display(len(orig_section_paragraphs))"
   ]
  },
  {
   "cell_type": "markdown",
   "id": "ebd7a57f-8ca5-4357-8914-6c0e8e16d46b",
   "metadata": {
    "editable": true,
    "papermill": {
     "duration": 0.023136,
     "end_time": "2024-03-20T08:20:04.544012",
     "exception": false,
     "start_time": "2024-03-20T08:20:04.520876",
     "status": "completed"
    },
    "slideshow": {
     "slide_type": ""
    },
    "tags": []
   },
   "source": [
    "### Modified"
   ]
  },
  {
   "cell_type": "code",
   "execution_count": 52,
   "id": "7624af03-9c23-4625-9c6c-a5e9082bcf6a",
   "metadata": {
    "execution": {
     "iopub.execute_input": "2024-03-20T08:20:04.591572Z",
     "iopub.status.busy": "2024-03-20T08:20:04.591392Z",
     "iopub.status.idle": "2024-03-20T08:20:04.838161Z",
     "shell.execute_reply": "2024-03-20T08:20:04.837615Z"
    },
    "papermill": {
     "duration": 0.27151,
     "end_time": "2024-03-20T08:20:04.838885",
     "exception": false,
     "start_time": "2024-03-20T08:20:04.567375",
     "status": "completed"
    },
    "tags": []
   },
   "outputs": [
    {
     "name": "stdout",
     "output_type": "stream",
     "text": [
      "## Results\n",
      "\n",
      "BioChatter ([https://github.com/biocyp\n"
     ]
    }
   ],
   "source": [
    "# get content\n",
    "mod_section_content = repo.get_contents(pr_filename, pr_curr).decoded_content.decode(\n",
    "    \"utf-8\"\n",
    ")\n",
    "print(mod_section_content[:50])"
   ]
  },
  {
   "cell_type": "code",
   "execution_count": 53,
   "id": "e1fd8b08-aafa-4b43-aa6e-e799761fda94",
   "metadata": {
    "execution": {
     "iopub.execute_input": "2024-03-20T08:20:04.885261Z",
     "iopub.status.busy": "2024-03-20T08:20:04.885072Z",
     "iopub.status.idle": "2024-03-20T08:20:04.888668Z",
     "shell.execute_reply": "2024-03-20T08:20:04.888245Z"
    },
    "papermill": {
     "duration": 0.027753,
     "end_time": "2024-03-20T08:20:04.889418",
     "exception": false,
     "start_time": "2024-03-20T08:20:04.861665",
     "status": "completed"
    },
    "tags": []
   },
   "outputs": [
    {
     "data": {
      "text/plain": [
       "21"
      ]
     },
     "metadata": {},
     "output_type": "display_data"
    }
   ],
   "source": [
    "# split by paragraph\n",
    "mod_section_paragraphs = mod_section_content.split(\"\\n\\n\")\n",
    "display(len(mod_section_paragraphs))"
   ]
  },
  {
   "cell_type": "markdown",
   "id": "b20bc347-6c37-4089-9a38-654b3e9028bd",
   "metadata": {
    "editable": true,
    "papermill": {
     "duration": 0.023013,
     "end_time": "2024-03-20T08:20:04.935521",
     "exception": false,
     "start_time": "2024-03-20T08:20:04.912508",
     "status": "completed"
    },
    "slideshow": {
     "slide_type": ""
    },
    "tags": []
   },
   "source": [
    "### Match"
   ]
  },
  {
   "cell_type": "code",
   "execution_count": 54,
   "id": "7be2fbbd-e933-44c9-9afc-71c4bb56f6f5",
   "metadata": {
    "execution": {
     "iopub.execute_input": "2024-03-20T08:20:04.982473Z",
     "iopub.status.busy": "2024-03-20T08:20:04.982282Z",
     "iopub.status.idle": "2024-03-20T08:20:04.985739Z",
     "shell.execute_reply": "2024-03-20T08:20:04.985304Z"
    },
    "papermill": {
     "duration": 0.027882,
     "end_time": "2024-03-20T08:20:04.986542",
     "exception": false,
     "start_time": "2024-03-20T08:20:04.958660",
     "status": "completed"
    },
    "tags": []
   },
   "outputs": [
    {
     "data": {
      "text/plain": [
       "'## Results'"
      ]
     },
     "execution_count": 54,
     "metadata": {},
     "output_type": "execute_result"
    }
   ],
   "source": [
    "orig_section_paragraphs[0]"
   ]
  },
  {
   "cell_type": "code",
   "execution_count": 55,
   "id": "2ab3053f-f932-4fd2-a06f-2219fef997dc",
   "metadata": {
    "execution": {
     "iopub.execute_input": "2024-03-20T08:20:05.033490Z",
     "iopub.status.busy": "2024-03-20T08:20:05.033303Z",
     "iopub.status.idle": "2024-03-20T08:20:05.036727Z",
     "shell.execute_reply": "2024-03-20T08:20:05.036289Z"
    },
    "papermill": {
     "duration": 0.027651,
     "end_time": "2024-03-20T08:20:05.037453",
     "exception": false,
     "start_time": "2024-03-20T08:20:05.009802",
     "status": "completed"
    },
    "tags": []
   },
   "outputs": [
    {
     "data": {
      "text/plain": [
       "'## Results'"
      ]
     },
     "execution_count": 55,
     "metadata": {},
     "output_type": "execute_result"
    }
   ],
   "source": [
    "mod_section_paragraphs[0]"
   ]
  },
  {
   "cell_type": "markdown",
   "id": "f1be3841-7923-4e69-b0a9-2c39dd7ddaa7",
   "metadata": {
    "editable": true,
    "papermill": {
     "duration": 0.023082,
     "end_time": "2024-03-20T08:20:05.083848",
     "exception": false,
     "start_time": "2024-03-20T08:20:05.060766",
     "status": "completed"
    },
    "slideshow": {
     "slide_type": ""
    },
    "tags": []
   },
   "source": [
    "####  Paragraph 00"
   ]
  },
  {
   "cell_type": "code",
   "execution_count": 56,
   "id": "9a597e30-25ab-4a38-874c-90de7e184e99",
   "metadata": {
    "execution": {
     "iopub.execute_input": "2024-03-20T08:20:05.130945Z",
     "iopub.status.busy": "2024-03-20T08:20:05.130757Z",
     "iopub.status.idle": "2024-03-20T08:20:05.133775Z",
     "shell.execute_reply": "2024-03-20T08:20:05.133265Z"
    },
    "papermill": {
     "duration": 0.027388,
     "end_time": "2024-03-20T08:20:05.134538",
     "exception": false,
     "start_time": "2024-03-20T08:20:05.107150",
     "status": "completed"
    },
    "tags": []
   },
   "outputs": [
    {
     "name": "stdout",
     "output_type": "stream",
     "text": [
      "BioChatter ([https://github.com/biocypher/biochatter](https://github.com/biocypher/biochatter)) is a Python framework that provides an easy-to-use interface to interact with LLMs and auxiliary technologies via an intuitive API (application programming interface). This way, its functionality can be integrated into any number of user interfaces, such as web apps, command-line interfaces, or Jupyter notebooks (Figure @fig:architecture).\n"
     ]
    }
   ],
   "source": [
    "par0 = process_paragraph(orig_section_paragraphs[1])\n",
    "print(par0)"
   ]
  },
  {
   "cell_type": "code",
   "execution_count": 57,
   "id": "87bc4f6c-e891-4d57-a2ce-4bd9efa0e1aa",
   "metadata": {
    "execution": {
     "iopub.execute_input": "2024-03-20T08:20:05.186652Z",
     "iopub.status.busy": "2024-03-20T08:20:05.186456Z",
     "iopub.status.idle": "2024-03-20T08:20:05.189432Z",
     "shell.execute_reply": "2024-03-20T08:20:05.188984Z"
    },
    "papermill": {
     "duration": 0.032241,
     "end_time": "2024-03-20T08:20:05.190178",
     "exception": false,
     "start_time": "2024-03-20T08:20:05.157937",
     "status": "completed"
    },
    "tags": []
   },
   "outputs": [
    {
     "name": "stdout",
     "output_type": "stream",
     "text": [
      "BioChatter ([https://github.com/biocypher/biochatter](https://github.com/biocypher/biochatter)) is a Python framework that provides an easy-to-use interface to interact with LLMs and auxiliary technologies via an intuitive API (application programming interface). This way, its functionality can be integrated into any number of user interfaces, such as web apps, command-line interfaces, or Jupyter notebooks (Figure @fig:architecture).\n"
     ]
    }
   ],
   "source": [
    "par1 = process_paragraph(mod_section_paragraphs[1])\n",
    "print(par1)"
   ]
  },
  {
   "cell_type": "markdown",
   "id": "8750b23b-8244-47d9-8918-d150960f2702",
   "metadata": {
    "editable": true,
    "papermill": {
     "duration": 0.023127,
     "end_time": "2024-03-20T08:20:05.235983",
     "exception": false,
     "start_time": "2024-03-20T08:20:05.212856",
     "status": "completed"
    },
    "slideshow": {
     "slide_type": ""
    },
    "tags": []
   },
   "source": [
    "####  Paragraph 01"
   ]
  },
  {
   "cell_type": "code",
   "execution_count": 58,
   "id": "8baf67e8-648e-474d-8665-400c2f5de763",
   "metadata": {
    "execution": {
     "iopub.execute_input": "2024-03-20T08:20:05.282751Z",
     "iopub.status.busy": "2024-03-20T08:20:05.282554Z",
     "iopub.status.idle": "2024-03-20T08:20:05.285610Z",
     "shell.execute_reply": "2024-03-20T08:20:05.285174Z"
    },
    "papermill": {
     "duration": 0.027261,
     "end_time": "2024-03-20T08:20:05.286333",
     "exception": false,
     "start_time": "2024-03-20T08:20:05.259072",
     "status": "completed"
    },
    "tags": []
   },
   "outputs": [
    {
     "name": "stdout",
     "output_type": "stream",
     "text": [
      "The framework is designed to be modular: any of its components can be exchanged with other implementations (Figure @fig:overview). These functionalities include:\n",
      "- **basic question-answering** with LLMs hosted by providers (such as OpenAI) as well as locally deployed open-source models\n",
      "- **reproducible prompt engineering** to guide the LLM towards a specific task or behaviour\n",
      "- **knowledge graph (KG) querying** with automatic integration of any KG created in the BioCypher framework [@biocypher]\n",
      "- **retrieval-augmented generation** (RAG) using vector database embeddings of user-provided literature\n",
      "- **model chaining** to orchestrate multiple LLMs and other models in a single conversation using the LangChain framework [@langchain]\n",
      "- **fact-checking** of LLM responses using a second LLM\n",
      "- **benchmarking** of LLMs, prompts, and other components\n"
     ]
    }
   ],
   "source": [
    "par0 = process_paragraph(orig_section_paragraphs[2:10]).replace(\" - \", \"\\n- \")\n",
    "print(par0)"
   ]
  },
  {
   "cell_type": "code",
   "execution_count": 59,
   "id": "4ce852d0-25a0-417e-ab3d-67117b238c01",
   "metadata": {
    "execution": {
     "iopub.execute_input": "2024-03-20T08:20:05.332527Z",
     "iopub.status.busy": "2024-03-20T08:20:05.332339Z",
     "iopub.status.idle": "2024-03-20T08:20:05.335228Z",
     "shell.execute_reply": "2024-03-20T08:20:05.334796Z"
    },
    "papermill": {
     "duration": 0.026933,
     "end_time": "2024-03-20T08:20:05.335952",
     "exception": false,
     "start_time": "2024-03-20T08:20:05.309019",
     "status": "completed"
    },
    "tags": []
   },
   "outputs": [
    {
     "name": "stdout",
     "output_type": "stream",
     "text": [
      "The framework is designed to be modular, allowing for the exchange of components with other implementations (Figure 1). These functionalities include basic question-answering using large language models (LLMs) from providers like OpenAI or locally deployed open-source models. It also includes reproducible prompt engineering to guide LLMs towards specific tasks, knowledge graph (KG) querying with automatic integration of any KG created in the BioCypher framework, retrieval-augmented generation (RAG) using vector database embeddings of user-provided literature, model chaining to orchestrate multiple LLMs and other models in a single conversation using the LangChain framework, fact-checking of LLM responses using a second LLM, and benchmarking of LLMs, prompts, and other components.\n"
     ]
    }
   ],
   "source": [
    "par1 = process_paragraph(mod_section_paragraphs[2])\n",
    "print(par1)"
   ]
  },
  {
   "cell_type": "code",
   "execution_count": 60,
   "id": "5791f3c1-eaf4-48e9-878d-b5c068cd0f6d",
   "metadata": {
    "execution": {
     "iopub.execute_input": "2024-03-20T08:20:05.382504Z",
     "iopub.status.busy": "2024-03-20T08:20:05.382319Z",
     "iopub.status.idle": "2024-03-20T08:20:05.384892Z",
     "shell.execute_reply": "2024-03-20T08:20:05.384467Z"
    },
    "papermill": {
     "duration": 0.026695,
     "end_time": "2024-03-20T08:20:05.385582",
     "exception": false,
     "start_time": "2024-03-20T08:20:05.358887",
     "status": "completed"
    },
    "tags": []
   },
   "outputs": [],
   "source": [
    "paragraph_matches.append(\n",
    "    (\n",
    "        section_name,\n",
    "        par0,\n",
    "        par1,\n",
    "    )\n",
    ")"
   ]
  },
  {
   "cell_type": "code",
   "execution_count": 61,
   "id": "82a6f7f9-239f-42dd-84ac-f7a3be77726a",
   "metadata": {
    "execution": {
     "iopub.execute_input": "2024-03-20T08:20:05.432339Z",
     "iopub.status.busy": "2024-03-20T08:20:05.432153Z",
     "iopub.status.idle": "2024-03-20T08:20:05.435625Z",
     "shell.execute_reply": "2024-03-20T08:20:05.435205Z"
    },
    "papermill": {
     "duration": 0.027659,
     "end_time": "2024-03-20T08:20:05.436335",
     "exception": false,
     "start_time": "2024-03-20T08:20:05.408676",
     "status": "completed"
    },
    "tags": []
   },
   "outputs": [
    {
     "data": {
      "text/plain": [
       "('results',\n",
       " 'The framework is designed to be modular: any of its components can be exchanged with other implementations (Figure @fig:overview). These functionalities include:\\n- **basic question-answering** with LLMs hosted by providers (such as OpenAI) as well as locally deployed open-source models\\n- **reproducible prompt engineering** to guide the LLM towards a specific task or behaviour\\n- **knowledge graph (KG) querying** with automatic integration of any KG created in the BioCypher framework [@biocypher]\\n- **retrieval-augmented generation** (RAG) using vector database embeddings of user-provided literature\\n- **model chaining** to orchestrate multiple LLMs and other models in a single conversation using the LangChain framework [@langchain]\\n- **fact-checking** of LLM responses using a second LLM\\n- **benchmarking** of LLMs, prompts, and other components',\n",
       " 'The framework is designed to be modular, allowing for the exchange of components with other implementations (Figure 1). These functionalities include basic question-answering using large language models (LLMs) from providers like OpenAI or locally deployed open-source models. It also includes reproducible prompt engineering to guide LLMs towards specific tasks, knowledge graph (KG) querying with automatic integration of any KG created in the BioCypher framework, retrieval-augmented generation (RAG) using vector database embeddings of user-provided literature, model chaining to orchestrate multiple LLMs and other models in a single conversation using the LangChain framework, fact-checking of LLM responses using a second LLM, and benchmarking of LLMs, prompts, and other components.')"
      ]
     },
     "metadata": {},
     "output_type": "display_data"
    }
   ],
   "source": [
    "display(paragraph_matches[-1])"
   ]
  },
  {
   "cell_type": "markdown",
   "id": "0ad95b5e-843e-4d55-b95e-2ddad39c3398",
   "metadata": {
    "editable": true,
    "papermill": {
     "duration": 0.022971,
     "end_time": "2024-03-20T08:20:05.482468",
     "exception": false,
     "start_time": "2024-03-20T08:20:05.459497",
     "status": "completed"
    },
    "slideshow": {
     "slide_type": ""
    },
    "tags": []
   },
   "source": [
    "####  Paragraph 02"
   ]
  },
  {
   "cell_type": "code",
   "execution_count": 62,
   "id": "400c914e-9653-4b5b-93bd-6fd0e27d0756",
   "metadata": {
    "execution": {
     "iopub.execute_input": "2024-03-20T08:20:05.529800Z",
     "iopub.status.busy": "2024-03-20T08:20:05.529376Z",
     "iopub.status.idle": "2024-03-20T08:20:05.532563Z",
     "shell.execute_reply": "2024-03-20T08:20:05.532068Z"
    },
    "papermill": {
     "duration": 0.02738,
     "end_time": "2024-03-20T08:20:05.533225",
     "exception": false,
     "start_time": "2024-03-20T08:20:05.505845",
     "status": "completed"
    },
    "tags": []
   },
   "outputs": [
    {
     "name": "stdout",
     "output_type": "stream",
     "text": [
      "The core functionality of BioChatter is to interact with LLMs. The framework supports both leading proprietary models such as the GPT series from OpenAI as well as open-source models such as LLaMA2 [@doi:10.48550/arXiv.2307.09288] and Mixtral 8x7B [@doi:10.48550/arXiv.2401.04088] via a flexible open-source deployment framework [@{https://github.com/xorbitsai/inference}] (see Methods). Currently, the most powerful conversational AI platform, ChatGPT (OpenAI), is surrounded by data privacy concerns [@{https://www.reuters.com/technology/european-data-protection-board-discussing-ai-policy-thursday-meeting-2023-04-13/}]. To address this issue, we provide access to the different OpenAI models through their API, which is subject to different, more stringent data protection than the web interface [@{https://openai.com/policies/terms-of-use}], most importantly by disallowing reuse of user inputs for subsequent model training. Further, we aim to preferentially support open-source LLMs to facilitate more transparency in their application and increase data privacy by being able to run a model locally on dedicated hardware and end-user devices [@doi:10.1038/d41586-023-01295-4]. By building on LangChain [@langchain], we support dozens of LLM providers, such as the Xorbits Inference and Hugging Face APIs [@{https://github.com/xorbitsai/inference}], which can be used to query any of the more than 100 000 open-source models on Hugging Face Hub [@{https://huggingface.co/docs/hub/index}], for instance those on its LLM leaderboard [@{https://huggingface.co/spaces/HuggingFaceH4/open_llm_leaderboard}]. Although OpenAI’s models currently outperform any alternatives in terms of both LLM performance and API convenience, we expect many open-source developments in this area in the future [@biollmbench]. Therefore, we support plug-and-play exchange of models to enhance biomedical AI readiness, and we implement a bespoke benchmarking framework for the biomedical application of LLMs.\n"
     ]
    }
   ],
   "source": [
    "par0 = process_paragraph(orig_section_paragraphs[13:14])  # .replace(\" - \", \"\\n- \")\n",
    "print(par0)"
   ]
  },
  {
   "cell_type": "code",
   "execution_count": 63,
   "id": "6ee81bcf-fc69-4749-9600-b8900438c2db",
   "metadata": {
    "execution": {
     "iopub.execute_input": "2024-03-20T08:20:05.580375Z",
     "iopub.status.busy": "2024-03-20T08:20:05.580054Z",
     "iopub.status.idle": "2024-03-20T08:20:05.582953Z",
     "shell.execute_reply": "2024-03-20T08:20:05.582515Z"
    },
    "papermill": {
     "duration": 0.02727,
     "end_time": "2024-03-20T08:20:05.583682",
     "exception": false,
     "start_time": "2024-03-20T08:20:05.556412",
     "status": "completed"
    },
    "tags": []
   },
   "outputs": [
    {
     "name": "stdout",
     "output_type": "stream",
     "text": [
      "The BioChatter framework interacts with various large language models (LLMs), including proprietary models like the GPT series from OpenAI, as well as open-source models like LLaMA2 and Mixtral 8x7B. This interaction is facilitated through a flexible open-source deployment framework. To address data privacy concerns surrounding platforms like ChatGPT, we provide access to different OpenAI models through their API, which has more stringent data protection measures compared to the web interface. Our preference for open-source LLMs aims to increase transparency and data privacy by enabling local model execution on dedicated hardware and end-user devices. By leveraging LangChain, we support multiple LLM providers, such as Xorbits Inference and Hugging Face APIs, allowing users to query over 100,000 open-source models on Hugging Face Hub, including those on the LLM leaderboard. While OpenAI models currently lead in performance and API convenience, we anticipate future open-source developments in this field. To enhance biomedical AI readiness, we enable plug-and-play model exchange and implement a customized benchmarking framework for the biomedical application of LLMs.\n"
     ]
    }
   ],
   "source": [
    "par1 = process_paragraph(mod_section_paragraphs[6])\n",
    "print(par1)"
   ]
  },
  {
   "cell_type": "code",
   "execution_count": 64,
   "id": "27b35246-8b56-46b7-a876-4ad96e8fac28",
   "metadata": {
    "execution": {
     "iopub.execute_input": "2024-03-20T08:20:05.630987Z",
     "iopub.status.busy": "2024-03-20T08:20:05.630801Z",
     "iopub.status.idle": "2024-03-20T08:20:05.633382Z",
     "shell.execute_reply": "2024-03-20T08:20:05.632953Z"
    },
    "papermill": {
     "duration": 0.027287,
     "end_time": "2024-03-20T08:20:05.634102",
     "exception": false,
     "start_time": "2024-03-20T08:20:05.606815",
     "status": "completed"
    },
    "tags": []
   },
   "outputs": [],
   "source": [
    "paragraph_matches.append(\n",
    "    (\n",
    "        section_name,\n",
    "        par0,\n",
    "        par1,\n",
    "    )\n",
    ")"
   ]
  },
  {
   "cell_type": "code",
   "execution_count": 65,
   "id": "aa6b9604-ce2b-4fd6-acf0-4f530f0f4b34",
   "metadata": {
    "execution": {
     "iopub.execute_input": "2024-03-20T08:20:05.681325Z",
     "iopub.status.busy": "2024-03-20T08:20:05.681033Z",
     "iopub.status.idle": "2024-03-20T08:20:05.684480Z",
     "shell.execute_reply": "2024-03-20T08:20:05.684064Z"
    },
    "papermill": {
     "duration": 0.027763,
     "end_time": "2024-03-20T08:20:05.685177",
     "exception": false,
     "start_time": "2024-03-20T08:20:05.657414",
     "status": "completed"
    },
    "tags": []
   },
   "outputs": [
    {
     "data": {
      "text/plain": [
       "('results',\n",
       " 'The core functionality of BioChatter is to interact with LLMs. The framework supports both leading proprietary models such as the GPT series from OpenAI as well as open-source models such as LLaMA2 [@doi:10.48550/arXiv.2307.09288] and Mixtral 8x7B [@doi:10.48550/arXiv.2401.04088] via a flexible open-source deployment framework [@{https://github.com/xorbitsai/inference}] (see Methods). Currently, the most powerful conversational AI platform, ChatGPT (OpenAI), is surrounded by data privacy concerns [@{https://www.reuters.com/technology/european-data-protection-board-discussing-ai-policy-thursday-meeting-2023-04-13/}]. To address this issue, we provide access to the different OpenAI models through their API, which is subject to different, more stringent data protection than the web interface [@{https://openai.com/policies/terms-of-use}], most importantly by disallowing reuse of user inputs for subsequent model training. Further, we aim to preferentially support open-source LLMs to facilitate more transparency in their application and increase data privacy by being able to run a model locally on dedicated hardware and end-user devices [@doi:10.1038/d41586-023-01295-4]. By building on LangChain [@langchain], we support dozens of LLM providers, such as the Xorbits Inference and Hugging Face APIs [@{https://github.com/xorbitsai/inference}], which can be used to query any of the more than 100 000 open-source models on Hugging Face Hub [@{https://huggingface.co/docs/hub/index}], for instance those on its LLM leaderboard [@{https://huggingface.co/spaces/HuggingFaceH4/open_llm_leaderboard}]. Although OpenAI’s models currently outperform any alternatives in terms of both LLM performance and API convenience, we expect many open-source developments in this area in the future [@biollmbench]. Therefore, we support plug-and-play exchange of models to enhance biomedical AI readiness, and we implement a bespoke benchmarking framework for the biomedical application of LLMs.',\n",
       " 'The BioChatter framework interacts with various large language models (LLMs), including proprietary models like the GPT series from OpenAI, as well as open-source models like LLaMA2 and Mixtral 8x7B. This interaction is facilitated through a flexible open-source deployment framework. To address data privacy concerns surrounding platforms like ChatGPT, we provide access to different OpenAI models through their API, which has more stringent data protection measures compared to the web interface. Our preference for open-source LLMs aims to increase transparency and data privacy by enabling local model execution on dedicated hardware and end-user devices. By leveraging LangChain, we support multiple LLM providers, such as Xorbits Inference and Hugging Face APIs, allowing users to query over 100,000 open-source models on Hugging Face Hub, including those on the LLM leaderboard. While OpenAI models currently lead in performance and API convenience, we anticipate future open-source developments in this field. To enhance biomedical AI readiness, we enable plug-and-play model exchange and implement a customized benchmarking framework for the biomedical application of LLMs.')"
      ]
     },
     "metadata": {},
     "output_type": "display_data"
    }
   ],
   "source": [
    "display(paragraph_matches[-1])"
   ]
  },
  {
   "cell_type": "markdown",
   "id": "e21060ab-a1f4-4b0d-a02b-1540cc60e04f",
   "metadata": {
    "editable": true,
    "papermill": {
     "duration": 0.023014,
     "end_time": "2024-03-20T08:20:05.731264",
     "exception": false,
     "start_time": "2024-03-20T08:20:05.708250",
     "status": "completed"
    },
    "slideshow": {
     "slide_type": ""
    },
    "tags": []
   },
   "source": [
    "####  Paragraph 03"
   ]
  },
  {
   "cell_type": "code",
   "execution_count": 66,
   "id": "08f779d6-78b6-437b-b9ae-5b4f9a31fa16",
   "metadata": {
    "execution": {
     "iopub.execute_input": "2024-03-20T08:20:05.778194Z",
     "iopub.status.busy": "2024-03-20T08:20:05.778009Z",
     "iopub.status.idle": "2024-03-20T08:20:05.780930Z",
     "shell.execute_reply": "2024-03-20T08:20:05.780501Z"
    },
    "papermill": {
     "duration": 0.027215,
     "end_time": "2024-03-20T08:20:05.781624",
     "exception": false,
     "start_time": "2024-03-20T08:20:05.754409",
     "status": "completed"
    },
    "tags": []
   },
   "outputs": [
    {
     "name": "stdout",
     "output_type": "stream",
     "text": [
      "An essential property of LLMs is their sensitivity to the prompt, i.e., the initial input that guides the model towards a specific task or behaviour. Prompt engineering is an emerging discipline of practical AI, and as such, there are no established best practices [@doi:10.48550/arXiv.2302.11382;@doi:10.48550/arXiv.2312.16171]. Current approaches are mostly trial-and-error-based manual engineering, which is not reproducible and changes with every new model [@biollmbench]. To address this issue, we include a prompt engineering framework in BioChatter that allows the preservation of prompt sets for specific tasks, which can be shared and reused by the community. In addition, to facilitate the scaling of prompt engineering, we integrate this framework into the benchmarking pipeline, which enables the automated evaluation of prompt sets as new models are published.\n"
     ]
    }
   ],
   "source": [
    "par0 = process_paragraph(orig_section_paragraphs[15])  # .replace(\" - \", \"\\n- \")\n",
    "print(par0)"
   ]
  },
  {
   "cell_type": "code",
   "execution_count": 67,
   "id": "5e4bd749-0cdd-44dd-9c6a-1283a6e144a8",
   "metadata": {
    "execution": {
     "iopub.execute_input": "2024-03-20T08:20:05.828807Z",
     "iopub.status.busy": "2024-03-20T08:20:05.828624Z",
     "iopub.status.idle": "2024-03-20T08:20:05.831531Z",
     "shell.execute_reply": "2024-03-20T08:20:05.831094Z"
    },
    "papermill": {
     "duration": 0.027337,
     "end_time": "2024-03-20T08:20:05.832240",
     "exception": false,
     "start_time": "2024-03-20T08:20:05.804903",
     "status": "completed"
    },
    "tags": []
   },
   "outputs": [
    {
     "name": "stdout",
     "output_type": "stream",
     "text": [
      "LLMs are sensitive to prompts, the initial input guiding their behavior. Prompt engineering lacks established best practices, often relying on manual trial and error [@doi:10.48550/arXiv.2302.11382;@doi:10.48550/arXiv.2312.16171;@biollmbench]. To address this, BioChatter includes a prompt engineering framework for preserving and sharing task-specific prompt sets. This integration allows for automated evaluation of prompt sets as new models are released, aiding in scalability.\n"
     ]
    }
   ],
   "source": [
    "par1 = process_paragraph(mod_section_paragraphs[8])\n",
    "print(par1)"
   ]
  },
  {
   "cell_type": "code",
   "execution_count": 68,
   "id": "e4c9c922-73bb-4839-9213-dd7df638fb46",
   "metadata": {
    "execution": {
     "iopub.execute_input": "2024-03-20T08:20:05.879591Z",
     "iopub.status.busy": "2024-03-20T08:20:05.879405Z",
     "iopub.status.idle": "2024-03-20T08:20:05.882041Z",
     "shell.execute_reply": "2024-03-20T08:20:05.881553Z"
    },
    "papermill": {
     "duration": 0.027154,
     "end_time": "2024-03-20T08:20:05.882750",
     "exception": false,
     "start_time": "2024-03-20T08:20:05.855596",
     "status": "completed"
    },
    "tags": []
   },
   "outputs": [],
   "source": [
    "paragraph_matches.append(\n",
    "    (\n",
    "        section_name,\n",
    "        par0,\n",
    "        par1,\n",
    "    )\n",
    ")"
   ]
  },
  {
   "cell_type": "code",
   "execution_count": 69,
   "id": "4b887b5d-10eb-43e0-9a85-4640473a8ede",
   "metadata": {
    "execution": {
     "iopub.execute_input": "2024-03-20T08:20:05.929875Z",
     "iopub.status.busy": "2024-03-20T08:20:05.929690Z",
     "iopub.status.idle": "2024-03-20T08:20:05.933109Z",
     "shell.execute_reply": "2024-03-20T08:20:05.932695Z"
    },
    "papermill": {
     "duration": 0.027843,
     "end_time": "2024-03-20T08:20:05.933814",
     "exception": false,
     "start_time": "2024-03-20T08:20:05.905971",
     "status": "completed"
    },
    "tags": []
   },
   "outputs": [
    {
     "data": {
      "text/plain": [
       "('results',\n",
       " 'An essential property of LLMs is their sensitivity to the prompt, i.e., the initial input that guides the model towards a specific task or behaviour. Prompt engineering is an emerging discipline of practical AI, and as such, there are no established best practices [@doi:10.48550/arXiv.2302.11382;@doi:10.48550/arXiv.2312.16171]. Current approaches are mostly trial-and-error-based manual engineering, which is not reproducible and changes with every new model [@biollmbench]. To address this issue, we include a prompt engineering framework in BioChatter that allows the preservation of prompt sets for specific tasks, which can be shared and reused by the community. In addition, to facilitate the scaling of prompt engineering, we integrate this framework into the benchmarking pipeline, which enables the automated evaluation of prompt sets as new models are published.',\n",
       " 'LLMs are sensitive to prompts, the initial input guiding their behavior. Prompt engineering lacks established best practices, often relying on manual trial and error [@doi:10.48550/arXiv.2302.11382;@doi:10.48550/arXiv.2312.16171;@biollmbench]. To address this, BioChatter includes a prompt engineering framework for preserving and sharing task-specific prompt sets. This integration allows for automated evaluation of prompt sets as new models are released, aiding in scalability.')"
      ]
     },
     "metadata": {},
     "output_type": "display_data"
    }
   ],
   "source": [
    "display(paragraph_matches[-1])"
   ]
  },
  {
   "cell_type": "markdown",
   "id": "91cd2c18-2aab-4ed1-99f7-15da176b8b1b",
   "metadata": {
    "editable": true,
    "papermill": {
     "duration": 0.023326,
     "end_time": "2024-03-20T08:20:05.980627",
     "exception": false,
     "start_time": "2024-03-20T08:20:05.957301",
     "status": "completed"
    },
    "slideshow": {
     "slide_type": ""
    },
    "tags": []
   },
   "source": [
    "####  Paragraph 04"
   ]
  },
  {
   "cell_type": "code",
   "execution_count": 70,
   "id": "37748dce-f516-444a-abe8-8d0b6cc9164c",
   "metadata": {
    "execution": {
     "iopub.execute_input": "2024-03-20T08:20:06.028232Z",
     "iopub.status.busy": "2024-03-20T08:20:06.028038Z",
     "iopub.status.idle": "2024-03-20T08:20:06.031142Z",
     "shell.execute_reply": "2024-03-20T08:20:06.030708Z"
    },
    "papermill": {
     "duration": 0.027895,
     "end_time": "2024-03-20T08:20:06.031856",
     "exception": false,
     "start_time": "2024-03-20T08:20:06.003961",
     "status": "completed"
    },
    "tags": []
   },
   "outputs": [
    {
     "name": "stdout",
     "output_type": "stream",
     "text": [
      "KGs are a powerful tool to represent and query knowledge in a structured manner. With BioCypher [@biocypher], we have developed a framework to create KGs from biomedical data in a user-friendly way while also semantically grounding the data in ontologies. BioChatter is an extension of the BioCypher ecosystem, elevating its user-friendliness further by allowing natural language interactions with the data; any BioCypher KG is automatically compatible with BioChatter. We use information generated in the build process of BioCypher KGs to tune BioChatter's understanding of the data structures and contents, thereby increasing the efficiency of LLM-based KG querying (see Methods). In addition, the ability to connect to any BioCypher KG allows the integration of prior knowledge into the LLM's retrieval, which can be used to ground the model's responses in the context of the KG via in-context learning / retrieval-augmented generation, which can facilitate human-AI interaction via symbolic concepts [@doi:10.1609/aaai.v36i11.21488]. We demonstrate the user experience of KG-driven interaction in [Supplementary Note 1: Knowledge Graph Retrieval-Augmented Generation] and on our website ([https://biochatter.org/vignette-kg/](https://biochatter.org/vignette-kg/)).\n"
     ]
    }
   ],
   "source": [
    "par0 = process_paragraph(orig_section_paragraphs[17])  # .replace(\" - \", \"\\n- \")\n",
    "print(par0)"
   ]
  },
  {
   "cell_type": "code",
   "execution_count": 71,
   "id": "e352ab7b-7746-4388-93fd-2537ec5236ac",
   "metadata": {
    "execution": {
     "iopub.execute_input": "2024-03-20T08:20:06.079388Z",
     "iopub.status.busy": "2024-03-20T08:20:06.079056Z",
     "iopub.status.idle": "2024-03-20T08:20:06.081862Z",
     "shell.execute_reply": "2024-03-20T08:20:06.081437Z"
    },
    "papermill": {
     "duration": 0.02734,
     "end_time": "2024-03-20T08:20:06.082567",
     "exception": false,
     "start_time": "2024-03-20T08:20:06.055227",
     "status": "completed"
    },
    "tags": []
   },
   "outputs": [
    {
     "name": "stdout",
     "output_type": "stream",
     "text": [
      "Knowledge graphs (KGs) are a useful way to organize and search for information. We have created BioCypher, a system that builds KGs from biomedical data with a focus on user-friendliness and ontology integration. BioChatter is an extension of BioCypher that allows users to interact with the data using natural language. By leveraging information from BioCypher KGs during BioChatter's setup, we improve the efficiency of querying using large language models (LLMs) (refer to Methods). Connecting BioChatter to any BioCypher KG enables the incorporation of existing knowledge into LLM-based retrieval, enhancing the model's responses through in-context learning. This approach supports human-AI interaction by grounding responses in KG context. For a demonstration of KG-driven interaction, refer to Supplementary Note 1 and visit our website at https://biochatter.org/vignette-kg/.\n"
     ]
    }
   ],
   "source": [
    "par1 = process_paragraph(mod_section_paragraphs[10])\n",
    "print(par1)"
   ]
  },
  {
   "cell_type": "code",
   "execution_count": 72,
   "id": "f7c210a5-65d7-4a83-8796-d92781fe7774",
   "metadata": {
    "execution": {
     "iopub.execute_input": "2024-03-20T08:20:06.129861Z",
     "iopub.status.busy": "2024-03-20T08:20:06.129678Z",
     "iopub.status.idle": "2024-03-20T08:20:06.132279Z",
     "shell.execute_reply": "2024-03-20T08:20:06.131856Z"
    },
    "papermill": {
     "duration": 0.027117,
     "end_time": "2024-03-20T08:20:06.132998",
     "exception": false,
     "start_time": "2024-03-20T08:20:06.105881",
     "status": "completed"
    },
    "tags": []
   },
   "outputs": [],
   "source": [
    "paragraph_matches.append(\n",
    "    (\n",
    "        section_name,\n",
    "        par0,\n",
    "        par1,\n",
    "    )\n",
    ")"
   ]
  },
  {
   "cell_type": "code",
   "execution_count": 73,
   "id": "9fb660b6-96ad-4029-ad3e-ef30a279832e",
   "metadata": {
    "execution": {
     "iopub.execute_input": "2024-03-20T08:20:06.181242Z",
     "iopub.status.busy": "2024-03-20T08:20:06.181059Z",
     "iopub.status.idle": "2024-03-20T08:20:06.184518Z",
     "shell.execute_reply": "2024-03-20T08:20:06.184100Z"
    },
    "papermill": {
     "duration": 0.028407,
     "end_time": "2024-03-20T08:20:06.185187",
     "exception": false,
     "start_time": "2024-03-20T08:20:06.156780",
     "status": "completed"
    },
    "tags": []
   },
   "outputs": [
    {
     "data": {
      "text/plain": [
       "('results',\n",
       " \"KGs are a powerful tool to represent and query knowledge in a structured manner. With BioCypher [@biocypher], we have developed a framework to create KGs from biomedical data in a user-friendly way while also semantically grounding the data in ontologies. BioChatter is an extension of the BioCypher ecosystem, elevating its user-friendliness further by allowing natural language interactions with the data; any BioCypher KG is automatically compatible with BioChatter. We use information generated in the build process of BioCypher KGs to tune BioChatter's understanding of the data structures and contents, thereby increasing the efficiency of LLM-based KG querying (see Methods). In addition, the ability to connect to any BioCypher KG allows the integration of prior knowledge into the LLM's retrieval, which can be used to ground the model's responses in the context of the KG via in-context learning / retrieval-augmented generation, which can facilitate human-AI interaction via symbolic concepts [@doi:10.1609/aaai.v36i11.21488]. We demonstrate the user experience of KG-driven interaction in [Supplementary Note 1: Knowledge Graph Retrieval-Augmented Generation] and on our website ([https://biochatter.org/vignette-kg/](https://biochatter.org/vignette-kg/)).\",\n",
       " \"Knowledge graphs (KGs) are a useful way to organize and search for information. We have created BioCypher, a system that builds KGs from biomedical data with a focus on user-friendliness and ontology integration. BioChatter is an extension of BioCypher that allows users to interact with the data using natural language. By leveraging information from BioCypher KGs during BioChatter's setup, we improve the efficiency of querying using large language models (LLMs) (refer to Methods). Connecting BioChatter to any BioCypher KG enables the incorporation of existing knowledge into LLM-based retrieval, enhancing the model's responses through in-context learning. This approach supports human-AI interaction by grounding responses in KG context. For a demonstration of KG-driven interaction, refer to Supplementary Note 1 and visit our website at https://biochatter.org/vignette-kg/.\")"
      ]
     },
     "metadata": {},
     "output_type": "display_data"
    }
   ],
   "source": [
    "display(paragraph_matches[-1])"
   ]
  },
  {
   "cell_type": "markdown",
   "id": "8eb21faf-1e2f-4f85-b475-27b65d619262",
   "metadata": {
    "editable": true,
    "papermill": {
     "duration": 0.023225,
     "end_time": "2024-03-20T08:20:06.232060",
     "exception": false,
     "start_time": "2024-03-20T08:20:06.208835",
     "status": "completed"
    },
    "slideshow": {
     "slide_type": ""
    },
    "tags": []
   },
   "source": [
    "####  Paragraph 05"
   ]
  },
  {
   "cell_type": "code",
   "execution_count": 74,
   "id": "0fa5d1d7-15a8-42e5-bfaf-c20c1ab6b76a",
   "metadata": {
    "execution": {
     "iopub.execute_input": "2024-03-20T08:20:06.279670Z",
     "iopub.status.busy": "2024-03-20T08:20:06.279489Z",
     "iopub.status.idle": "2024-03-20T08:20:06.282427Z",
     "shell.execute_reply": "2024-03-20T08:20:06.281992Z"
    },
    "papermill": {
     "duration": 0.02757,
     "end_time": "2024-03-20T08:20:06.283164",
     "exception": false,
     "start_time": "2024-03-20T08:20:06.255594",
     "status": "completed"
    },
    "tags": []
   },
   "outputs": [
    {
     "name": "stdout",
     "output_type": "stream",
     "text": [
      "LLM confabulation is a major issue for biomedical applications, where the consequences of incorrect information can be severe. One popular way of addressing this issue is to apply \"in-context learning,\" which is also more recently referred to as \"retrieval-augmented generation\" (RAG) [@doi:10.48550/arxiv.2303.17580]. Briefly, RAG relies on injection of information into the model prompt of a pre-trained model and, as such, does not require retraining / fine-tuning; once created, any RAG prompt can be used with any LLM. While this can be done by processing structured knowledge, for instance, from KGs, it is often more efficient to use a semantic search engine to retrieve relevant information from unstructured data sources such as literature. By incorporating the management and integration of vector databases in the BioChatter framework, we allow the user to connect to a vector database, embed an arbitrary number of documents, and then use semantic search to improve the model prompts by adding text fragments relevant to the given question (see Methods). We demonstrate the user experience of RAG in [Supplementary Note 2: Retrieval-Augmented Generation] and on our website ([https://biochatter.org/vignette-rag/](https://biochatter.org/vignette-rag/)).\n"
     ]
    }
   ],
   "source": [
    "par0 = process_paragraph(orig_section_paragraphs[19])  # .replace(\" - \", \"\\n- \")\n",
    "print(par0)"
   ]
  },
  {
   "cell_type": "code",
   "execution_count": 75,
   "id": "24875e5b-0952-4153-8246-aded4cda445e",
   "metadata": {
    "execution": {
     "iopub.execute_input": "2024-03-20T08:20:06.331080Z",
     "iopub.status.busy": "2024-03-20T08:20:06.330900Z",
     "iopub.status.idle": "2024-03-20T08:20:06.333800Z",
     "shell.execute_reply": "2024-03-20T08:20:06.333363Z"
    },
    "papermill": {
     "duration": 0.027774,
     "end_time": "2024-03-20T08:20:06.334504",
     "exception": false,
     "start_time": "2024-03-20T08:20:06.306730",
     "status": "completed"
    },
    "tags": []
   },
   "outputs": [
    {
     "name": "stdout",
     "output_type": "stream",
     "text": [
      "LLM confabulation poses a significant challenge in biomedicine due to the potential consequences of incorrect information. One approach to mitigating this issue is through \"retrieval-augmented generation\" (RAG). RAG involves injecting information into the model prompt of a pre-trained model, eliminating the need for retraining. This method allows any RAG prompt to be used with any LLM. While structured knowledge from knowledge graphs (KGs) can be utilized, it is often more efficient to use a semantic search engine to extract information from unstructured data sources like literature. In the BioChatter framework, we enable users to connect to a vector database, embed multiple documents, and enhance model prompts by incorporating relevant text fragments using semantic search. The user experience of RAG is demonstrated in Supplementary Note 2 and on our website at https://biochatter.org/vignette-rag/.\n"
     ]
    }
   ],
   "source": [
    "par1 = process_paragraph(mod_section_paragraphs[12])\n",
    "print(par1)"
   ]
  },
  {
   "cell_type": "code",
   "execution_count": 76,
   "id": "327bddd4-4593-4a93-856d-7a7dd1e328cd",
   "metadata": {
    "execution": {
     "iopub.execute_input": "2024-03-20T08:20:06.382609Z",
     "iopub.status.busy": "2024-03-20T08:20:06.382260Z",
     "iopub.status.idle": "2024-03-20T08:20:06.384797Z",
     "shell.execute_reply": "2024-03-20T08:20:06.384377Z"
    },
    "papermill": {
     "duration": 0.02724,
     "end_time": "2024-03-20T08:20:06.385492",
     "exception": false,
     "start_time": "2024-03-20T08:20:06.358252",
     "status": "completed"
    },
    "tags": []
   },
   "outputs": [],
   "source": [
    "paragraph_matches.append(\n",
    "    (\n",
    "        section_name,\n",
    "        par0,\n",
    "        par1,\n",
    "    )\n",
    ")"
   ]
  },
  {
   "cell_type": "code",
   "execution_count": 77,
   "id": "b27c346e-4728-4871-8920-4f6efd233e1b",
   "metadata": {
    "execution": {
     "iopub.execute_input": "2024-03-20T08:20:06.433453Z",
     "iopub.status.busy": "2024-03-20T08:20:06.433251Z",
     "iopub.status.idle": "2024-03-20T08:20:06.437290Z",
     "shell.execute_reply": "2024-03-20T08:20:06.436732Z"
    },
    "papermill": {
     "duration": 0.029064,
     "end_time": "2024-03-20T08:20:06.438106",
     "exception": false,
     "start_time": "2024-03-20T08:20:06.409042",
     "status": "completed"
    },
    "tags": []
   },
   "outputs": [
    {
     "data": {
      "text/plain": [
       "('results',\n",
       " 'LLM confabulation is a major issue for biomedical applications, where the consequences of incorrect information can be severe. One popular way of addressing this issue is to apply \"in-context learning,\" which is also more recently referred to as \"retrieval-augmented generation\" (RAG) [@doi:10.48550/arxiv.2303.17580]. Briefly, RAG relies on injection of information into the model prompt of a pre-trained model and, as such, does not require retraining / fine-tuning; once created, any RAG prompt can be used with any LLM. While this can be done by processing structured knowledge, for instance, from KGs, it is often more efficient to use a semantic search engine to retrieve relevant information from unstructured data sources such as literature. By incorporating the management and integration of vector databases in the BioChatter framework, we allow the user to connect to a vector database, embed an arbitrary number of documents, and then use semantic search to improve the model prompts by adding text fragments relevant to the given question (see Methods). We demonstrate the user experience of RAG in [Supplementary Note 2: Retrieval-Augmented Generation] and on our website ([https://biochatter.org/vignette-rag/](https://biochatter.org/vignette-rag/)).',\n",
       " 'LLM confabulation poses a significant challenge in biomedicine due to the potential consequences of incorrect information. One approach to mitigating this issue is through \"retrieval-augmented generation\" (RAG). RAG involves injecting information into the model prompt of a pre-trained model, eliminating the need for retraining. This method allows any RAG prompt to be used with any LLM. While structured knowledge from knowledge graphs (KGs) can be utilized, it is often more efficient to use a semantic search engine to extract information from unstructured data sources like literature. In the BioChatter framework, we enable users to connect to a vector database, embed multiple documents, and enhance model prompts by incorporating relevant text fragments using semantic search. The user experience of RAG is demonstrated in Supplementary Note 2 and on our website at https://biochatter.org/vignette-rag/.')"
      ]
     },
     "metadata": {},
     "output_type": "display_data"
    }
   ],
   "source": [
    "display(paragraph_matches[-1])"
   ]
  },
  {
   "cell_type": "markdown",
   "id": "ecbfb358-20bf-4813-8fee-8bb8b62c190b",
   "metadata": {
    "editable": true,
    "papermill": {
     "duration": 0.02368,
     "end_time": "2024-03-20T08:20:06.485769",
     "exception": false,
     "start_time": "2024-03-20T08:20:06.462089",
     "status": "completed"
    },
    "slideshow": {
     "slide_type": ""
    },
    "tags": []
   },
   "source": [
    "####  Paragraph 06"
   ]
  },
  {
   "cell_type": "code",
   "execution_count": 78,
   "id": "a785e8fb-03c1-480c-9402-8227f51e8e40",
   "metadata": {
    "execution": {
     "iopub.execute_input": "2024-03-20T08:20:06.534289Z",
     "iopub.status.busy": "2024-03-20T08:20:06.534061Z",
     "iopub.status.idle": "2024-03-20T08:20:06.536765Z",
     "shell.execute_reply": "2024-03-20T08:20:06.536401Z"
    },
    "papermill": {
     "duration": 0.027814,
     "end_time": "2024-03-20T08:20:06.537468",
     "exception": false,
     "start_time": "2024-03-20T08:20:06.509654",
     "status": "completed"
    },
    "tags": []
   },
   "outputs": [
    {
     "name": "stdout",
     "output_type": "stream",
     "text": [
      "LLMs cannot only seamlessly interact with human users, but also with other LLMs as well as many other types of models. They understand API calls and can therefore theoretically orchestrate complex multi-step tasks [@doi:10.48550/arXiv.2305.15334;@doi:10.48550/arXiv.2308.11432]. However, implementation is not trivial and the complex process can lead to unpredictable behaviours. We aim to improve the stability of model chaining in biomedical applications by developing bespoke approaches for common biomedical tasks, such as interpretation and design of experiments, evaluating literature, and exploring web resources. While we focus on reusing existing open-source frameworks such as LangChain [@langchain], we also develop bespoke solutions where necessary to provide stability for the given application. As an example, we implemented a fact-checking module that uses a second LLM to evaluate the factual correctness of the primary LLM's responses continuously during the conversation (see Methods).\n"
     ]
    }
   ],
   "source": [
    "par0 = process_paragraph(orig_section_paragraphs[21])  # .replace(\" - \", \"\\n- \")\n",
    "print(par0)"
   ]
  },
  {
   "cell_type": "code",
   "execution_count": 79,
   "id": "4a27c392-ccb3-407e-8469-582cd6ed90f3",
   "metadata": {
    "execution": {
     "iopub.execute_input": "2024-03-20T08:20:06.585598Z",
     "iopub.status.busy": "2024-03-20T08:20:06.585419Z",
     "iopub.status.idle": "2024-03-20T08:20:06.588272Z",
     "shell.execute_reply": "2024-03-20T08:20:06.587843Z"
    },
    "papermill": {
     "duration": 0.027664,
     "end_time": "2024-03-20T08:20:06.588996",
     "exception": false,
     "start_time": "2024-03-20T08:20:06.561332",
     "status": "completed"
    },
    "tags": []
   },
   "outputs": [
    {
     "name": "stdout",
     "output_type": "stream",
     "text": [
      "Large language models (LLMs) can interact with humans, other LLMs, and various models, understanding API calls for complex tasks [@doi:10.48550/arXiv.2305.15334;@doi:10.48550/arXiv.2308.11432]. Implementing this interaction is challenging and can result in unpredictable behaviors. To enhance model chaining stability in biomedicine, we develop tailored approaches for tasks like experiment interpretation, literature evaluation, and web exploration. While leveraging open-source frameworks like LangChain [@langchain], we create custom solutions as needed for application stability. For instance, we introduce a fact-checking module that employs a second LLM to verify the accuracy of the primary LLM's responses in real-time (see Methods, Figure 1).\n"
     ]
    }
   ],
   "source": [
    "par1 = process_paragraph(mod_section_paragraphs[14])\n",
    "print(par1)"
   ]
  },
  {
   "cell_type": "code",
   "execution_count": 80,
   "id": "f508db45-d48a-48ca-ab7b-e5787e88593d",
   "metadata": {
    "execution": {
     "iopub.execute_input": "2024-03-20T08:20:06.636822Z",
     "iopub.status.busy": "2024-03-20T08:20:06.636641Z",
     "iopub.status.idle": "2024-03-20T08:20:06.639200Z",
     "shell.execute_reply": "2024-03-20T08:20:06.638773Z"
    },
    "papermill": {
     "duration": 0.02738,
     "end_time": "2024-03-20T08:20:06.639926",
     "exception": false,
     "start_time": "2024-03-20T08:20:06.612546",
     "status": "completed"
    },
    "tags": []
   },
   "outputs": [],
   "source": [
    "paragraph_matches.append(\n",
    "    (\n",
    "        section_name,\n",
    "        par0,\n",
    "        par1,\n",
    "    )\n",
    ")"
   ]
  },
  {
   "cell_type": "code",
   "execution_count": 81,
   "id": "3372d898-1af6-4d0e-b90c-31b6eb688f79",
   "metadata": {
    "execution": {
     "iopub.execute_input": "2024-03-20T08:20:06.711912Z",
     "iopub.status.busy": "2024-03-20T08:20:06.711589Z",
     "iopub.status.idle": "2024-03-20T08:20:06.714952Z",
     "shell.execute_reply": "2024-03-20T08:20:06.714525Z"
    },
    "papermill": {
     "duration": 0.028648,
     "end_time": "2024-03-20T08:20:06.715635",
     "exception": false,
     "start_time": "2024-03-20T08:20:06.686987",
     "status": "completed"
    },
    "tags": []
   },
   "outputs": [
    {
     "data": {
      "text/plain": [
       "('results',\n",
       " \"LLMs cannot only seamlessly interact with human users, but also with other LLMs as well as many other types of models. They understand API calls and can therefore theoretically orchestrate complex multi-step tasks [@doi:10.48550/arXiv.2305.15334;@doi:10.48550/arXiv.2308.11432]. However, implementation is not trivial and the complex process can lead to unpredictable behaviours. We aim to improve the stability of model chaining in biomedical applications by developing bespoke approaches for common biomedical tasks, such as interpretation and design of experiments, evaluating literature, and exploring web resources. While we focus on reusing existing open-source frameworks such as LangChain [@langchain], we also develop bespoke solutions where necessary to provide stability for the given application. As an example, we implemented a fact-checking module that uses a second LLM to evaluate the factual correctness of the primary LLM's responses continuously during the conversation (see Methods).\",\n",
       " \"Large language models (LLMs) can interact with humans, other LLMs, and various models, understanding API calls for complex tasks [@doi:10.48550/arXiv.2305.15334;@doi:10.48550/arXiv.2308.11432]. Implementing this interaction is challenging and can result in unpredictable behaviors. To enhance model chaining stability in biomedicine, we develop tailored approaches for tasks like experiment interpretation, literature evaluation, and web exploration. While leveraging open-source frameworks like LangChain [@langchain], we create custom solutions as needed for application stability. For instance, we introduce a fact-checking module that employs a second LLM to verify the accuracy of the primary LLM's responses in real-time (see Methods, Figure 1).\")"
      ]
     },
     "metadata": {},
     "output_type": "display_data"
    }
   ],
   "source": [
    "display(paragraph_matches[-1])"
   ]
  },
  {
   "cell_type": "markdown",
   "id": "95711cd9-9021-4892-bed3-d206e2241ae2",
   "metadata": {
    "editable": true,
    "papermill": {
     "duration": 0.023951,
     "end_time": "2024-03-20T08:20:06.763543",
     "exception": false,
     "start_time": "2024-03-20T08:20:06.739592",
     "status": "completed"
    },
    "slideshow": {
     "slide_type": ""
    },
    "tags": []
   },
   "source": [
    "####  Paragraph 07"
   ]
  },
  {
   "cell_type": "code",
   "execution_count": 82,
   "id": "89f21e0d-2a6e-4718-aec5-fbcaae5a8fb2",
   "metadata": {
    "execution": {
     "iopub.execute_input": "2024-03-20T08:20:06.812384Z",
     "iopub.status.busy": "2024-03-20T08:20:06.811896Z",
     "iopub.status.idle": "2024-03-20T08:20:06.815739Z",
     "shell.execute_reply": "2024-03-20T08:20:06.815213Z"
    },
    "papermill": {
     "duration": 0.029292,
     "end_time": "2024-03-20T08:20:06.816535",
     "exception": false,
     "start_time": "2024-03-20T08:20:06.787243",
     "status": "completed"
    },
    "tags": []
   },
   "outputs": [
    {
     "name": "stdout",
     "output_type": "stream",
     "text": [
      "The increasing generality of LLMs poses challenges for their comprehensive evaluation. Specifically, their ability to aid in a multitude of tasks and their great freedom in formatting the answers challenge their evaluation by traditional methods. To circumvent this issue, we focus on specific biomedical tasks and datasets and employ automated validation of the model's responses by a second LLM for advanced assessments. For transparent and reproducible evaluation of LLMs, we implement a benchmarking framework that allows the comparison of models, prompt sets, and all other components of the pipeline. The generic Pytest framework [@pytest] allows for the automated evaluation of a matrix of all possible combinations of components. The results are stored and displayed on our website for simple comparison, and the benchmark is updated upon the release of new models and extensions to the datasets and BioChatter capabilities ([https://biochatter.org/benchmark/](https://biochatter.org/benchmark/)).\n"
     ]
    }
   ],
   "source": [
    "par0 = process_paragraph(orig_section_paragraphs[23])  # .replace(\" - \", \"\\n- \")\n",
    "print(par0)"
   ]
  },
  {
   "cell_type": "code",
   "execution_count": 83,
   "id": "5b07401f-930d-49d0-9e9c-05f5eecd5842",
   "metadata": {
    "execution": {
     "iopub.execute_input": "2024-03-20T08:20:06.864837Z",
     "iopub.status.busy": "2024-03-20T08:20:06.864691Z",
     "iopub.status.idle": "2024-03-20T08:20:06.867317Z",
     "shell.execute_reply": "2024-03-20T08:20:06.866980Z"
    },
    "papermill": {
     "duration": 0.027676,
     "end_time": "2024-03-20T08:20:06.867951",
     "exception": false,
     "start_time": "2024-03-20T08:20:06.840275",
     "status": "completed"
    },
    "tags": []
   },
   "outputs": [
    {
     "name": "stdout",
     "output_type": "stream",
     "text": [
      "The broad capabilities of LLMs present challenges for their thorough evaluation, particularly in assisting with various tasks and providing answers in different formats. To address this, we focus on specific biomedical tasks and datasets and use a second LLM for automated validation of the model's responses. To ensure transparent and reproducible evaluation, we have developed a benchmarking framework that enables comparison of models, prompt sets, and other pipeline components. The Pytest framework allows for automated evaluation of all possible component combinations. Results are stored and displayed on our website for easy comparison, and the benchmark is regularly updated with new models, extensions to datasets, and BioChatter capabilities (https://biochatter.org/benchmark/).\n"
     ]
    }
   ],
   "source": [
    "par1 = process_paragraph(mod_section_paragraphs[16])\n",
    "print(par1)"
   ]
  },
  {
   "cell_type": "code",
   "execution_count": 84,
   "id": "4ca840b9-2732-4ad1-acd3-4151d8525bf6",
   "metadata": {
    "execution": {
     "iopub.execute_input": "2024-03-20T08:20:06.916198Z",
     "iopub.status.busy": "2024-03-20T08:20:06.916083Z",
     "iopub.status.idle": "2024-03-20T08:20:06.918229Z",
     "shell.execute_reply": "2024-03-20T08:20:06.917875Z"
    },
    "papermill": {
     "duration": 0.027091,
     "end_time": "2024-03-20T08:20:06.918833",
     "exception": false,
     "start_time": "2024-03-20T08:20:06.891742",
     "status": "completed"
    },
    "tags": []
   },
   "outputs": [],
   "source": [
    "paragraph_matches.append(\n",
    "    (\n",
    "        section_name,\n",
    "        par0,\n",
    "        par1,\n",
    "    )\n",
    ")"
   ]
  },
  {
   "cell_type": "code",
   "execution_count": 85,
   "id": "1353132c-a3fc-4a26-88d8-dfa7f6b048d5",
   "metadata": {
    "execution": {
     "iopub.execute_input": "2024-03-20T08:20:06.966921Z",
     "iopub.status.busy": "2024-03-20T08:20:06.966808Z",
     "iopub.status.idle": "2024-03-20T08:20:06.970097Z",
     "shell.execute_reply": "2024-03-20T08:20:06.969656Z"
    },
    "papermill": {
     "duration": 0.028207,
     "end_time": "2024-03-20T08:20:06.970833",
     "exception": false,
     "start_time": "2024-03-20T08:20:06.942626",
     "status": "completed"
    },
    "tags": []
   },
   "outputs": [
    {
     "data": {
      "text/plain": [
       "('results',\n",
       " \"The increasing generality of LLMs poses challenges for their comprehensive evaluation. Specifically, their ability to aid in a multitude of tasks and their great freedom in formatting the answers challenge their evaluation by traditional methods. To circumvent this issue, we focus on specific biomedical tasks and datasets and employ automated validation of the model's responses by a second LLM for advanced assessments. For transparent and reproducible evaluation of LLMs, we implement a benchmarking framework that allows the comparison of models, prompt sets, and all other components of the pipeline. The generic Pytest framework [@pytest] allows for the automated evaluation of a matrix of all possible combinations of components. The results are stored and displayed on our website for simple comparison, and the benchmark is updated upon the release of new models and extensions to the datasets and BioChatter capabilities ([https://biochatter.org/benchmark/](https://biochatter.org/benchmark/)).\",\n",
       " \"The broad capabilities of LLMs present challenges for their thorough evaluation, particularly in assisting with various tasks and providing answers in different formats. To address this, we focus on specific biomedical tasks and datasets and use a second LLM for automated validation of the model's responses. To ensure transparent and reproducible evaluation, we have developed a benchmarking framework that enables comparison of models, prompt sets, and other pipeline components. The Pytest framework allows for automated evaluation of all possible component combinations. Results are stored and displayed on our website for easy comparison, and the benchmark is regularly updated with new models, extensions to datasets, and BioChatter capabilities (https://biochatter.org/benchmark/).\")"
      ]
     },
     "metadata": {},
     "output_type": "display_data"
    }
   ],
   "source": [
    "display(paragraph_matches[-1])"
   ]
  },
  {
   "cell_type": "markdown",
   "id": "f69ae725-647e-4892-a316-50a103daa3fa",
   "metadata": {
    "editable": true,
    "papermill": {
     "duration": 0.023889,
     "end_time": "2024-03-20T08:20:07.018622",
     "exception": false,
     "start_time": "2024-03-20T08:20:06.994733",
     "status": "completed"
    },
    "slideshow": {
     "slide_type": ""
    },
    "tags": []
   },
   "source": [
    "####  Paragraph 08"
   ]
  },
  {
   "cell_type": "code",
   "execution_count": 86,
   "id": "a825be11-dea1-4e5f-840c-8d2bcafeeb71",
   "metadata": {
    "execution": {
     "iopub.execute_input": "2024-03-20T08:20:07.067172Z",
     "iopub.status.busy": "2024-03-20T08:20:07.066989Z",
     "iopub.status.idle": "2024-03-20T08:20:07.069946Z",
     "shell.execute_reply": "2024-03-20T08:20:07.069486Z"
    },
    "papermill": {
     "duration": 0.028121,
     "end_time": "2024-03-20T08:20:07.070690",
     "exception": false,
     "start_time": "2024-03-20T08:20:07.042569",
     "status": "completed"
    },
    "tags": []
   },
   "outputs": [
    {
     "name": "stdout",
     "output_type": "stream",
     "text": [
      "Since the biomedical domain has its own tasks and requirements [@biollmbench], we created a bespoke benchmark that allows us to be more precise in the evaluation of components. This is complementary to the existing, general-purpose benchmarks and leaderboards for LLMs [@doi:10.1038/s41586-023-06291-2;@{https://huggingface.co/spaces/HuggingFaceH4/open_llm_leaderboard};@{https://crfm.stanford.edu/helm/lite/latest/}]. Furthermore, to prevent leakage of the benchmark data into the training data of the models, a known issue in the general-purpose benchmarks [@doi:10.48550/arXiv.2310.18018], we implemented an encrypted pipeline that contains the benchmark datasets and is only accessible to the workflow that executes the benchmark (see Methods).\n"
     ]
    }
   ],
   "source": [
    "par0 = process_paragraph(orig_section_paragraphs[24])  # .replace(\" - \", \"\\n- \")\n",
    "print(par0)"
   ]
  },
  {
   "cell_type": "code",
   "execution_count": 87,
   "id": "62fef1b6-4c3c-4fc8-8d2a-a75a804174fc",
   "metadata": {
    "execution": {
     "iopub.execute_input": "2024-03-20T08:20:07.119447Z",
     "iopub.status.busy": "2024-03-20T08:20:07.119268Z",
     "iopub.status.idle": "2024-03-20T08:20:07.122124Z",
     "shell.execute_reply": "2024-03-20T08:20:07.121673Z"
    },
    "papermill": {
     "duration": 0.028138,
     "end_time": "2024-03-20T08:20:07.122833",
     "exception": false,
     "start_time": "2024-03-20T08:20:07.094695",
     "status": "completed"
    },
    "tags": []
   },
   "outputs": [
    {
     "name": "stdout",
     "output_type": "stream",
     "text": [
      "Given the unique tasks and requirements of the biomedical field, we developed a specialized benchmark to evaluate components more accurately [@biollmbench]. This complements existing general benchmarks and leaderboards for Large Language Models (LLMs) [@doi:10.1038/s41586-023-06291-2;@{https://huggingface.co/spaces/HuggingFaceH4/open_llm_leaderboard};@{https://crfm.stanford.edu/helm/lite/latest/}]. To address the issue of data leakage from benchmarks to model training data, a common problem in general benchmarks [@doi:10.48550/arXiv.2310.18018], we established an encrypted pipeline that contains benchmark datasets accessible only to the benchmark execution workflow (refer to Methods).\n"
     ]
    }
   ],
   "source": [
    "par1 = process_paragraph(mod_section_paragraphs[17])\n",
    "print(par1)"
   ]
  },
  {
   "cell_type": "code",
   "execution_count": 88,
   "id": "a7a28d9e-cbb7-4527-843e-6869a9ee40dd",
   "metadata": {
    "execution": {
     "iopub.execute_input": "2024-03-20T08:20:07.171849Z",
     "iopub.status.busy": "2024-03-20T08:20:07.171666Z",
     "iopub.status.idle": "2024-03-20T08:20:07.174277Z",
     "shell.execute_reply": "2024-03-20T08:20:07.173809Z"
    },
    "papermill": {
     "duration": 0.027966,
     "end_time": "2024-03-20T08:20:07.174976",
     "exception": false,
     "start_time": "2024-03-20T08:20:07.147010",
     "status": "completed"
    },
    "tags": []
   },
   "outputs": [],
   "source": [
    "paragraph_matches.append(\n",
    "    (\n",
    "        section_name,\n",
    "        par0,\n",
    "        par1,\n",
    "    )\n",
    ")"
   ]
  },
  {
   "cell_type": "code",
   "execution_count": 89,
   "id": "10674c2e-fdbb-445d-8c63-8289c4554e22",
   "metadata": {
    "execution": {
     "iopub.execute_input": "2024-03-20T08:20:07.224320Z",
     "iopub.status.busy": "2024-03-20T08:20:07.224137Z",
     "iopub.status.idle": "2024-03-20T08:20:07.227688Z",
     "shell.execute_reply": "2024-03-20T08:20:07.227265Z"
    },
    "papermill": {
     "duration": 0.029403,
     "end_time": "2024-03-20T08:20:07.228402",
     "exception": false,
     "start_time": "2024-03-20T08:20:07.198999",
     "status": "completed"
    },
    "tags": []
   },
   "outputs": [
    {
     "data": {
      "text/plain": [
       "('results',\n",
       " 'Since the biomedical domain has its own tasks and requirements [@biollmbench], we created a bespoke benchmark that allows us to be more precise in the evaluation of components. This is complementary to the existing, general-purpose benchmarks and leaderboards for LLMs [@doi:10.1038/s41586-023-06291-2;@{https://huggingface.co/spaces/HuggingFaceH4/open_llm_leaderboard};@{https://crfm.stanford.edu/helm/lite/latest/}]. Furthermore, to prevent leakage of the benchmark data into the training data of the models, a known issue in the general-purpose benchmarks [@doi:10.48550/arXiv.2310.18018], we implemented an encrypted pipeline that contains the benchmark datasets and is only accessible to the workflow that executes the benchmark (see Methods).',\n",
       " 'Given the unique tasks and requirements of the biomedical field, we developed a specialized benchmark to evaluate components more accurately [@biollmbench]. This complements existing general benchmarks and leaderboards for Large Language Models (LLMs) [@doi:10.1038/s41586-023-06291-2;@{https://huggingface.co/spaces/HuggingFaceH4/open_llm_leaderboard};@{https://crfm.stanford.edu/helm/lite/latest/}]. To address the issue of data leakage from benchmarks to model training data, a common problem in general benchmarks [@doi:10.48550/arXiv.2310.18018], we established an encrypted pipeline that contains benchmark datasets accessible only to the benchmark execution workflow (refer to Methods).')"
      ]
     },
     "metadata": {},
     "output_type": "display_data"
    }
   ],
   "source": [
    "display(paragraph_matches[-1])"
   ]
  },
  {
   "cell_type": "markdown",
   "id": "65a5357e-3f1c-4f7f-b7ab-57ddf3f683a4",
   "metadata": {
    "editable": true,
    "papermill": {
     "duration": 0.024037,
     "end_time": "2024-03-20T08:20:07.276669",
     "exception": false,
     "start_time": "2024-03-20T08:20:07.252632",
     "status": "completed"
    },
    "slideshow": {
     "slide_type": ""
    },
    "tags": []
   },
   "source": [
    "####  Paragraph 09"
   ]
  },
  {
   "cell_type": "code",
   "execution_count": 90,
   "id": "53251a46-75d0-4b4e-ac43-6a6b0d3543cd",
   "metadata": {
    "execution": {
     "iopub.execute_input": "2024-03-20T08:20:07.325221Z",
     "iopub.status.busy": "2024-03-20T08:20:07.325038Z",
     "iopub.status.idle": "2024-03-20T08:20:07.328040Z",
     "shell.execute_reply": "2024-03-20T08:20:07.327606Z"
    },
    "papermill": {
     "duration": 0.028148,
     "end_time": "2024-03-20T08:20:07.328754",
     "exception": false,
     "start_time": "2024-03-20T08:20:07.300606",
     "status": "completed"
    },
    "tags": []
   },
   "outputs": [
    {
     "name": "stdout",
     "output_type": "stream",
     "text": [
      "Analysis of these benchmarks confirmed the prevailing opinion of OpenAI's leading role in LLM performance (Figure @fig:benchmark A). Since the benchmark datasets were created to specifically cover functions relevant in BioChatter's application domain, the benchmark results are primarily a measure of the LLMs' usefulness in our applications. OpenAI's GPT models (gpt-4 and gpt-3.5-turbo) lead by some margin on overall performance and consistency, but several open-source models reach high performance in specific tasks. Of note, while the newer version (0125) of gpt-3.5-turbo outperforms the previous version (0613) of gpt-4, version 0125 of gpt-4 shows a significant drop in performance. The performance of open-source models appears to depend on their quantisation level, i.e., the bit-precision used to represent the model's parameters. For models that offer quantisation options, performance apparently plateaus or even decreases after the 4- or 5-bit mark (Figure @fig:benchmark A). There is no apparent correlation between model size and performance (Pearson's r = 0.171, p < 0.001).\n"
     ]
    }
   ],
   "source": [
    "par0 = process_paragraph(orig_section_paragraphs[25])  # .replace(\" - \", \"\\n- \")\n",
    "print(par0)"
   ]
  },
  {
   "cell_type": "code",
   "execution_count": 91,
   "id": "672ee53b-51da-4aea-8b5c-e9cfd7cd2109",
   "metadata": {
    "execution": {
     "iopub.execute_input": "2024-03-20T08:20:07.377814Z",
     "iopub.status.busy": "2024-03-20T08:20:07.377633Z",
     "iopub.status.idle": "2024-03-20T08:20:07.380512Z",
     "shell.execute_reply": "2024-03-20T08:20:07.380087Z"
    },
    "papermill": {
     "duration": 0.02817,
     "end_time": "2024-03-20T08:20:07.381228",
     "exception": false,
     "start_time": "2024-03-20T08:20:07.353058",
     "status": "completed"
    },
    "tags": []
   },
   "outputs": [
    {
     "name": "stdout",
     "output_type": "stream",
     "text": [
      "Analysis of the benchmark results (Figure @fig:benchmark A) confirmed OpenAI's strong performance in large language models (LLMs). The benchmark datasets were tailored to BioChatter's needs, making these results particularly relevant. OpenAI's GPT models (gpt-4 and gpt-3.5-turbo) outperformed others overall, with gpt-3.5-turbo version 0125 surpassing gpt-4 version 0613. Interestingly, gpt-4 version 0125 showed a decrease in performance. Open-source models performed well in specific tasks, with performance leveling off or declining after 4-5 bit quantization. Model size did not correlate with performance (Pearson's r = 0.171, p < 0.001).\n"
     ]
    }
   ],
   "source": [
    "par1 = process_paragraph(mod_section_paragraphs[18])\n",
    "print(par1)"
   ]
  },
  {
   "cell_type": "code",
   "execution_count": 92,
   "id": "ea8ea3a8-4600-4884-924c-af4816e8bb2c",
   "metadata": {
    "execution": {
     "iopub.execute_input": "2024-03-20T08:20:07.430289Z",
     "iopub.status.busy": "2024-03-20T08:20:07.430109Z",
     "iopub.status.idle": "2024-03-20T08:20:07.432670Z",
     "shell.execute_reply": "2024-03-20T08:20:07.432250Z"
    },
    "papermill": {
     "duration": 0.027845,
     "end_time": "2024-03-20T08:20:07.433333",
     "exception": false,
     "start_time": "2024-03-20T08:20:07.405488",
     "status": "completed"
    },
    "tags": []
   },
   "outputs": [],
   "source": [
    "paragraph_matches.append(\n",
    "    (\n",
    "        section_name,\n",
    "        par0,\n",
    "        par1,\n",
    "    )\n",
    ")"
   ]
  },
  {
   "cell_type": "code",
   "execution_count": 93,
   "id": "c84c5ee4-a129-4a39-bef8-8479eb11d856",
   "metadata": {
    "execution": {
     "iopub.execute_input": "2024-03-20T08:20:07.482968Z",
     "iopub.status.busy": "2024-03-20T08:20:07.482789Z",
     "iopub.status.idle": "2024-03-20T08:20:07.486333Z",
     "shell.execute_reply": "2024-03-20T08:20:07.485711Z"
    },
    "papermill": {
     "duration": 0.029514,
     "end_time": "2024-03-20T08:20:07.487140",
     "exception": false,
     "start_time": "2024-03-20T08:20:07.457626",
     "status": "completed"
    },
    "tags": []
   },
   "outputs": [
    {
     "data": {
      "text/plain": [
       "('results',\n",
       " \"Analysis of these benchmarks confirmed the prevailing opinion of OpenAI's leading role in LLM performance (Figure @fig:benchmark A). Since the benchmark datasets were created to specifically cover functions relevant in BioChatter's application domain, the benchmark results are primarily a measure of the LLMs' usefulness in our applications. OpenAI's GPT models (gpt-4 and gpt-3.5-turbo) lead by some margin on overall performance and consistency, but several open-source models reach high performance in specific tasks. Of note, while the newer version (0125) of gpt-3.5-turbo outperforms the previous version (0613) of gpt-4, version 0125 of gpt-4 shows a significant drop in performance. The performance of open-source models appears to depend on their quantisation level, i.e., the bit-precision used to represent the model's parameters. For models that offer quantisation options, performance apparently plateaus or even decreases after the 4- or 5-bit mark (Figure @fig:benchmark A). There is no apparent correlation between model size and performance (Pearson's r = 0.171, p < 0.001).\",\n",
       " \"Analysis of the benchmark results (Figure @fig:benchmark A) confirmed OpenAI's strong performance in large language models (LLMs). The benchmark datasets were tailored to BioChatter's needs, making these results particularly relevant. OpenAI's GPT models (gpt-4 and gpt-3.5-turbo) outperformed others overall, with gpt-3.5-turbo version 0125 surpassing gpt-4 version 0613. Interestingly, gpt-4 version 0125 showed a decrease in performance. Open-source models performed well in specific tasks, with performance leveling off or declining after 4-5 bit quantization. Model size did not correlate with performance (Pearson's r = 0.171, p < 0.001).\")"
      ]
     },
     "metadata": {},
     "output_type": "display_data"
    }
   ],
   "source": [
    "display(paragraph_matches[-1])"
   ]
  },
  {
   "cell_type": "markdown",
   "id": "54327d94-0a86-4564-a584-7791a11a2178",
   "metadata": {
    "editable": true,
    "papermill": {
     "duration": 0.02422,
     "end_time": "2024-03-20T08:20:07.536210",
     "exception": false,
     "start_time": "2024-03-20T08:20:07.511990",
     "status": "completed"
    },
    "slideshow": {
     "slide_type": ""
    },
    "tags": []
   },
   "source": [
    "####  Paragraph 10"
   ]
  },
  {
   "cell_type": "code",
   "execution_count": 94,
   "id": "61004c9b-5f28-4d97-86b9-9ac9d42e9213",
   "metadata": {
    "execution": {
     "iopub.execute_input": "2024-03-20T08:20:07.585148Z",
     "iopub.status.busy": "2024-03-20T08:20:07.584966Z",
     "iopub.status.idle": "2024-03-20T08:20:07.587876Z",
     "shell.execute_reply": "2024-03-20T08:20:07.587442Z"
    },
    "papermill": {
     "duration": 0.028363,
     "end_time": "2024-03-20T08:20:07.588632",
     "exception": false,
     "start_time": "2024-03-20T08:20:07.560269",
     "status": "completed"
    },
    "tags": []
   },
   "outputs": [
    {
     "name": "stdout",
     "output_type": "stream",
     "text": [
      "To evaluate the benefit of BioChatter functionality, we compared the performance of models with and without the use of BioChatter's prompt engine for KG querying. The models without prompt engine still have access to the BioCypher schema definition, which details the KG structure, but they do not use the multi-step procedure available through BioChatter. Consequently, the models without prompt engine show a lower performance in creating correct queries than the same models with prompt engine (0.444±0.11 vs. 0.818±0.11, unpaired t-test P < 0.001, Figure @fig:benchmark B).\n"
     ]
    }
   ],
   "source": [
    "par0 = process_paragraph(orig_section_paragraphs[26])  # .replace(\" - \", \"\\n- \")\n",
    "print(par0)"
   ]
  },
  {
   "cell_type": "code",
   "execution_count": 95,
   "id": "b4a4cd91-c391-42ec-b0ec-7e30a78f03df",
   "metadata": {
    "execution": {
     "iopub.execute_input": "2024-03-20T08:20:07.637864Z",
     "iopub.status.busy": "2024-03-20T08:20:07.637474Z",
     "iopub.status.idle": "2024-03-20T08:20:07.640373Z",
     "shell.execute_reply": "2024-03-20T08:20:07.639940Z"
    },
    "papermill": {
     "duration": 0.028307,
     "end_time": "2024-03-20T08:20:07.641150",
     "exception": false,
     "start_time": "2024-03-20T08:20:07.612843",
     "status": "completed"
    },
    "tags": []
   },
   "outputs": [
    {
     "name": "stdout",
     "output_type": "stream",
     "text": [
      "To assess the impact of BioChatter functionality, we compared model performance with and without the prompt engine for KG querying. Models lacking the prompt engine can access the BioCypher schema definition outlining the KG structure but lack the multi-step procedure offered by BioChatter. Models without the prompt engine exhibit lower query accuracy compared to those with the prompt engine (0.444±0.11 vs. 0.818±0.11, unpaired t-test P < 0.001, Figure 2B).\n"
     ]
    }
   ],
   "source": [
    "par1 = process_paragraph(mod_section_paragraphs[19])\n",
    "print(par1)"
   ]
  },
  {
   "cell_type": "code",
   "execution_count": 96,
   "id": "b2370a90-85eb-4070-8bfd-60d5cb818b4b",
   "metadata": {
    "execution": {
     "iopub.execute_input": "2024-03-20T08:20:07.690686Z",
     "iopub.status.busy": "2024-03-20T08:20:07.690499Z",
     "iopub.status.idle": "2024-03-20T08:20:07.693090Z",
     "shell.execute_reply": "2024-03-20T08:20:07.692663Z"
    },
    "papermill": {
     "duration": 0.028219,
     "end_time": "2024-03-20T08:20:07.693827",
     "exception": false,
     "start_time": "2024-03-20T08:20:07.665608",
     "status": "completed"
    },
    "tags": []
   },
   "outputs": [],
   "source": [
    "paragraph_matches.append(\n",
    "    (\n",
    "        section_name,\n",
    "        par0,\n",
    "        par1,\n",
    "    )\n",
    ")"
   ]
  },
  {
   "cell_type": "code",
   "execution_count": 97,
   "id": "91d9a9c4-6833-4fbf-829d-22f8866240e9",
   "metadata": {
    "execution": {
     "iopub.execute_input": "2024-03-20T08:20:07.743176Z",
     "iopub.status.busy": "2024-03-20T08:20:07.742996Z",
     "iopub.status.idle": "2024-03-20T08:20:07.746356Z",
     "shell.execute_reply": "2024-03-20T08:20:07.745932Z"
    },
    "papermill": {
     "duration": 0.02885,
     "end_time": "2024-03-20T08:20:07.747088",
     "exception": false,
     "start_time": "2024-03-20T08:20:07.718238",
     "status": "completed"
    },
    "tags": []
   },
   "outputs": [
    {
     "data": {
      "text/plain": [
       "('results',\n",
       " \"To evaluate the benefit of BioChatter functionality, we compared the performance of models with and without the use of BioChatter's prompt engine for KG querying. The models without prompt engine still have access to the BioCypher schema definition, which details the KG structure, but they do not use the multi-step procedure available through BioChatter. Consequently, the models without prompt engine show a lower performance in creating correct queries than the same models with prompt engine (0.444±0.11 vs. 0.818±0.11, unpaired t-test P < 0.001, Figure @fig:benchmark B).\",\n",
       " 'To assess the impact of BioChatter functionality, we compared model performance with and without the prompt engine for KG querying. Models lacking the prompt engine can access the BioCypher schema definition outlining the KG structure but lack the multi-step procedure offered by BioChatter. Models without the prompt engine exhibit lower query accuracy compared to those with the prompt engine (0.444±0.11 vs. 0.818±0.11, unpaired t-test P < 0.001, Figure 2B).')"
      ]
     },
     "metadata": {},
     "output_type": "display_data"
    }
   ],
   "source": [
    "display(paragraph_matches[-1])"
   ]
  },
  {
   "cell_type": "markdown",
   "id": "0a311a52-d06f-4f08-905f-465c282ff625",
   "metadata": {
    "editable": true,
    "papermill": {
     "duration": 0.024355,
     "end_time": "2024-03-20T08:20:07.795709",
     "exception": false,
     "start_time": "2024-03-20T08:20:07.771354",
     "status": "completed"
    },
    "slideshow": {
     "slide_type": ""
    },
    "tags": []
   },
   "source": [
    "## Discussion"
   ]
  },
  {
   "cell_type": "code",
   "execution_count": 98,
   "id": "70e3c270-751e-48b1-a705-7ed67d9298b8",
   "metadata": {
    "execution": {
     "iopub.execute_input": "2024-03-20T08:20:07.867960Z",
     "iopub.status.busy": "2024-03-20T08:20:07.867780Z",
     "iopub.status.idle": "2024-03-20T08:20:07.870246Z",
     "shell.execute_reply": "2024-03-20T08:20:07.869779Z"
    },
    "papermill": {
     "duration": 0.051124,
     "end_time": "2024-03-20T08:20:07.870972",
     "exception": false,
     "start_time": "2024-03-20T08:20:07.819848",
     "status": "completed"
    },
    "tags": []
   },
   "outputs": [],
   "source": [
    "section_name = \"discussion\""
   ]
  },
  {
   "cell_type": "code",
   "execution_count": 99,
   "id": "da50ce41-3f94-4ca1-8c72-3d2aa29b536b",
   "metadata": {
    "editable": true,
    "execution": {
     "iopub.execute_input": "2024-03-20T08:20:07.920387Z",
     "iopub.status.busy": "2024-03-20T08:20:07.920208Z",
     "iopub.status.idle": "2024-03-20T08:20:07.923217Z",
     "shell.execute_reply": "2024-03-20T08:20:07.922786Z"
    },
    "papermill": {
     "duration": 0.028485,
     "end_time": "2024-03-20T08:20:07.923955",
     "exception": false,
     "start_time": "2024-03-20T08:20:07.895470",
     "status": "completed"
    },
    "slideshow": {
     "slide_type": ""
    },
    "tags": []
   },
   "outputs": [
    {
     "name": "stdout",
     "output_type": "stream",
     "text": [
      "content/30.discussion.md\n"
     ]
    }
   ],
   "source": [
    "pr_filename = pr_files[3].filename\n",
    "assert section_name in pr_filename\n",
    "print(pr_filename)"
   ]
  },
  {
   "cell_type": "markdown",
   "id": "15bcc7d8-ab7b-4475-95ad-6d9c3763aba2",
   "metadata": {
    "editable": true,
    "papermill": {
     "duration": 0.024288,
     "end_time": "2024-03-20T08:20:07.972718",
     "exception": false,
     "start_time": "2024-03-20T08:20:07.948430",
     "status": "completed"
    },
    "slideshow": {
     "slide_type": ""
    },
    "tags": []
   },
   "source": [
    "### Original"
   ]
  },
  {
   "cell_type": "code",
   "execution_count": 100,
   "id": "5bbec300-ce51-46d0-8e4d-b2ba822ec608",
   "metadata": {
    "execution": {
     "iopub.execute_input": "2024-03-20T08:20:08.022737Z",
     "iopub.status.busy": "2024-03-20T08:20:08.022363Z",
     "iopub.status.idle": "2024-03-20T08:20:08.171442Z",
     "shell.execute_reply": "2024-03-20T08:20:08.170983Z"
    },
    "papermill": {
     "duration": 0.17544,
     "end_time": "2024-03-20T08:20:08.172558",
     "exception": false,
     "start_time": "2024-03-20T08:20:07.997118",
     "status": "completed"
    },
    "tags": []
   },
   "outputs": [
    {
     "name": "stdout",
     "output_type": "stream",
     "text": [
      "## Discussion\n",
      "\n",
      "The fast pace of developments aroun\n"
     ]
    }
   ],
   "source": [
    "# get content\n",
    "orig_section_content = repo.get_contents(pr_filename, pr_prev).decoded_content.decode(\n",
    "    \"utf-8\"\n",
    ")\n",
    "print(orig_section_content[:50])"
   ]
  },
  {
   "cell_type": "code",
   "execution_count": 101,
   "id": "2ab78222-da5b-4d1e-93dd-e35a085a962f",
   "metadata": {
    "execution": {
     "iopub.execute_input": "2024-03-20T08:20:08.259970Z",
     "iopub.status.busy": "2024-03-20T08:20:08.259785Z",
     "iopub.status.idle": "2024-03-20T08:20:08.263344Z",
     "shell.execute_reply": "2024-03-20T08:20:08.262921Z"
    },
    "papermill": {
     "duration": 0.045151,
     "end_time": "2024-03-20T08:20:08.264040",
     "exception": false,
     "start_time": "2024-03-20T08:20:08.218889",
     "status": "completed"
    },
    "tags": []
   },
   "outputs": [
    {
     "data": {
      "text/plain": [
       "10"
      ]
     },
     "metadata": {},
     "output_type": "display_data"
    }
   ],
   "source": [
    "# split by paragraph\n",
    "orig_section_paragraphs = orig_section_content.split(\"\\n\\n\")\n",
    "display(len(orig_section_paragraphs))"
   ]
  },
  {
   "cell_type": "markdown",
   "id": "a0a475a1-c746-4b66-b096-99df8a9e4688",
   "metadata": {
    "editable": true,
    "papermill": {
     "duration": 0.024118,
     "end_time": "2024-03-20T08:20:08.312279",
     "exception": false,
     "start_time": "2024-03-20T08:20:08.288161",
     "status": "completed"
    },
    "slideshow": {
     "slide_type": ""
    },
    "tags": []
   },
   "source": [
    "### Modified"
   ]
  },
  {
   "cell_type": "code",
   "execution_count": 102,
   "id": "b4046c3e-0e66-44fe-8902-822d461fb6ea",
   "metadata": {
    "execution": {
     "iopub.execute_input": "2024-03-20T08:20:08.362024Z",
     "iopub.status.busy": "2024-03-20T08:20:08.361541Z",
     "iopub.status.idle": "2024-03-20T08:20:08.562842Z",
     "shell.execute_reply": "2024-03-20T08:20:08.562353Z"
    },
    "papermill": {
     "duration": 0.227226,
     "end_time": "2024-03-20T08:20:08.563843",
     "exception": false,
     "start_time": "2024-03-20T08:20:08.336617",
     "status": "completed"
    },
    "tags": []
   },
   "outputs": [
    {
     "name": "stdout",
     "output_type": "stream",
     "text": [
      "## Discussion\n",
      "\n",
      "The rapid progress of current-gener\n"
     ]
    }
   ],
   "source": [
    "# get content\n",
    "mod_section_content = repo.get_contents(pr_filename, pr_curr).decoded_content.decode(\n",
    "    \"utf-8\"\n",
    ")\n",
    "print(mod_section_content[:50])"
   ]
  },
  {
   "cell_type": "code",
   "execution_count": 103,
   "id": "0f0d8b54-f62f-45c9-861a-ab579ac0d46b",
   "metadata": {
    "execution": {
     "iopub.execute_input": "2024-03-20T08:20:08.639324Z",
     "iopub.status.busy": "2024-03-20T08:20:08.639090Z",
     "iopub.status.idle": "2024-03-20T08:20:08.643006Z",
     "shell.execute_reply": "2024-03-20T08:20:08.642572Z"
    },
    "papermill": {
     "duration": 0.041765,
     "end_time": "2024-03-20T08:20:08.643680",
     "exception": false,
     "start_time": "2024-03-20T08:20:08.601915",
     "status": "completed"
    },
    "tags": []
   },
   "outputs": [
    {
     "data": {
      "text/plain": [
       "10"
      ]
     },
     "metadata": {},
     "output_type": "display_data"
    }
   ],
   "source": [
    "# split by paragraph\n",
    "mod_section_paragraphs = mod_section_content.split(\"\\n\\n\")\n",
    "display(len(mod_section_paragraphs))"
   ]
  },
  {
   "cell_type": "markdown",
   "id": "eb98b790-a12a-4eff-9074-357374cc8386",
   "metadata": {
    "editable": true,
    "papermill": {
     "duration": 0.024957,
     "end_time": "2024-03-20T08:20:08.693138",
     "exception": false,
     "start_time": "2024-03-20T08:20:08.668181",
     "status": "completed"
    },
    "slideshow": {
     "slide_type": ""
    },
    "tags": []
   },
   "source": [
    "### Match"
   ]
  },
  {
   "cell_type": "code",
   "execution_count": 104,
   "id": "5147ec0f-7e00-4e5b-9c17-73e17ccb3ab4",
   "metadata": {
    "execution": {
     "iopub.execute_input": "2024-03-20T08:20:08.744047Z",
     "iopub.status.busy": "2024-03-20T08:20:08.743527Z",
     "iopub.status.idle": "2024-03-20T08:20:08.747201Z",
     "shell.execute_reply": "2024-03-20T08:20:08.746730Z"
    },
    "papermill": {
     "duration": 0.029874,
     "end_time": "2024-03-20T08:20:08.747955",
     "exception": false,
     "start_time": "2024-03-20T08:20:08.718081",
     "status": "completed"
    },
    "tags": []
   },
   "outputs": [
    {
     "data": {
      "text/plain": [
       "'## Discussion'"
      ]
     },
     "execution_count": 104,
     "metadata": {},
     "output_type": "execute_result"
    }
   ],
   "source": [
    "orig_section_paragraphs[0]"
   ]
  },
  {
   "cell_type": "code",
   "execution_count": 105,
   "id": "f7f66854-8226-4d44-a5d9-c77da74fcb02",
   "metadata": {
    "execution": {
     "iopub.execute_input": "2024-03-20T08:20:08.798934Z",
     "iopub.status.busy": "2024-03-20T08:20:08.798503Z",
     "iopub.status.idle": "2024-03-20T08:20:08.802092Z",
     "shell.execute_reply": "2024-03-20T08:20:08.801639Z"
    },
    "papermill": {
     "duration": 0.029937,
     "end_time": "2024-03-20T08:20:08.802836",
     "exception": false,
     "start_time": "2024-03-20T08:20:08.772899",
     "status": "completed"
    },
    "tags": []
   },
   "outputs": [
    {
     "data": {
      "text/plain": [
       "'## Discussion'"
      ]
     },
     "execution_count": 105,
     "metadata": {},
     "output_type": "execute_result"
    }
   ],
   "source": [
    "mod_section_paragraphs[0]"
   ]
  },
  {
   "cell_type": "markdown",
   "id": "d92ee9ca-a186-40ab-b166-470691476a5d",
   "metadata": {
    "editable": true,
    "papermill": {
     "duration": 0.024975,
     "end_time": "2024-03-20T08:20:08.853086",
     "exception": false,
     "start_time": "2024-03-20T08:20:08.828111",
     "status": "completed"
    },
    "slideshow": {
     "slide_type": ""
    },
    "tags": []
   },
   "source": [
    "####  Paragraph 00"
   ]
  },
  {
   "cell_type": "code",
   "execution_count": 106,
   "id": "cab5a53a-cfb9-4453-a5e7-d9c94cf44b42",
   "metadata": {
    "execution": {
     "iopub.execute_input": "2024-03-20T08:20:08.904163Z",
     "iopub.status.busy": "2024-03-20T08:20:08.903661Z",
     "iopub.status.idle": "2024-03-20T08:20:08.906906Z",
     "shell.execute_reply": "2024-03-20T08:20:08.906440Z"
    },
    "papermill": {
     "duration": 0.029935,
     "end_time": "2024-03-20T08:20:08.907675",
     "exception": false,
     "start_time": "2024-03-20T08:20:08.877740",
     "status": "completed"
    },
    "tags": []
   },
   "outputs": [
    {
     "name": "stdout",
     "output_type": "stream",
     "text": [
      "The fast pace of developments around current-generation LLMs poses a great challenge to society as a whole and the biomedical community in particular [@doi:10.1038/d41586-024-00029-4;@doi:10.1038/d41586-023-03817-6;@doi:10.1038/d41586-023-03803-y]. While the potential of these models is enormous, their application is not straightforward, and their use requires a certain level of expertise [@doi:10.1038/s41587-023-02103-0]. In addition, biomedical research is often performed in a siloed way due to the complexity of the domain and systemic incentives that work against open science and collaboration [@doi:10.1177/1745691612459058;@doi:10.1038/d41586-024-00322-2]. Inspired by the productivity of open source libraries such as LangChain [@langchain], we propose an open framework that allows biomedical researchers to focus on the application of LLMs as opposed to engineering challenges. To keep the framework effective and sustainable, we reuse existing open-source libraries and tools while adapting the advancements from the wider LLM community to the biomedical domain. The transparency we emphasise at every step of the framework is essential to a sustainable application of LLMs in biomedical research and beyond [@doi:10.1038/d41586-024-00029-4].\n"
     ]
    }
   ],
   "source": [
    "par0 = process_paragraph(orig_section_paragraphs[1])\n",
    "print(par0)"
   ]
  },
  {
   "cell_type": "code",
   "execution_count": 107,
   "id": "84c75b53-48ef-433f-a63c-8995b7b9637d",
   "metadata": {
    "execution": {
     "iopub.execute_input": "2024-03-20T08:20:08.957804Z",
     "iopub.status.busy": "2024-03-20T08:20:08.957616Z",
     "iopub.status.idle": "2024-03-20T08:20:08.960555Z",
     "shell.execute_reply": "2024-03-20T08:20:08.960103Z"
    },
    "papermill": {
     "duration": 0.028905,
     "end_time": "2024-03-20T08:20:08.961301",
     "exception": false,
     "start_time": "2024-03-20T08:20:08.932396",
     "status": "completed"
    },
    "tags": []
   },
   "outputs": [
    {
     "name": "stdout",
     "output_type": "stream",
     "text": [
      "The rapid progress of current-generation Large Language Models (LLMs) presents a significant challenge to society and the biomedical field specifically (Nature, 2024; Nature, 2023; Nature, 2023). While these models hold immense potential, their implementation is complex and requires expertise (Nature, 2023). Furthermore, biomedical research is often conducted in isolation due to the intricate nature of the domain and incentives that hinder open collaboration (Nature, 2012; Nature, 2024). Taking inspiration from successful open-source platforms like LangChain, we suggest an open framework for biomedical researchers to focus on utilizing LLMs rather than dealing with technical obstacles. To ensure the framework's effectiveness and longevity, we leverage existing open-source tools while incorporating innovations from the broader LLM community into the biomedical field. Emphasizing transparency at each stage of the framework is crucial for the sustainable application of LLMs in biomedical research and beyond (Nature, 2024).\n"
     ]
    }
   ],
   "source": [
    "par1 = process_paragraph(mod_section_paragraphs[1])\n",
    "print(par1)"
   ]
  },
  {
   "cell_type": "code",
   "execution_count": 108,
   "id": "cd9d734b-5a88-46ee-aea6-7be4ffbfd31c",
   "metadata": {
    "execution": {
     "iopub.execute_input": "2024-03-20T08:20:09.013497Z",
     "iopub.status.busy": "2024-03-20T08:20:09.013086Z",
     "iopub.status.idle": "2024-03-20T08:20:09.016979Z",
     "shell.execute_reply": "2024-03-20T08:20:09.016308Z"
    },
    "papermill": {
     "duration": 0.030747,
     "end_time": "2024-03-20T08:20:09.017736",
     "exception": false,
     "start_time": "2024-03-20T08:20:08.986989",
     "status": "completed"
    },
    "tags": []
   },
   "outputs": [],
   "source": [
    "paragraph_matches.append(\n",
    "    (\n",
    "        section_name,\n",
    "        par0,\n",
    "        par1,\n",
    "    )\n",
    ")"
   ]
  },
  {
   "cell_type": "code",
   "execution_count": 109,
   "id": "323699ec-6dcd-4bad-8261-871c43b7c9a4",
   "metadata": {
    "execution": {
     "iopub.execute_input": "2024-03-20T08:20:09.069205Z",
     "iopub.status.busy": "2024-03-20T08:20:09.068641Z",
     "iopub.status.idle": "2024-03-20T08:20:09.073024Z",
     "shell.execute_reply": "2024-03-20T08:20:09.072465Z"
    },
    "papermill": {
     "duration": 0.030687,
     "end_time": "2024-03-20T08:20:09.073754",
     "exception": false,
     "start_time": "2024-03-20T08:20:09.043067",
     "status": "completed"
    },
    "tags": []
   },
   "outputs": [
    {
     "data": {
      "text/plain": [
       "('discussion',\n",
       " 'The fast pace of developments around current-generation LLMs poses a great challenge to society as a whole and the biomedical community in particular [@doi:10.1038/d41586-024-00029-4;@doi:10.1038/d41586-023-03817-6;@doi:10.1038/d41586-023-03803-y]. While the potential of these models is enormous, their application is not straightforward, and their use requires a certain level of expertise [@doi:10.1038/s41587-023-02103-0]. In addition, biomedical research is often performed in a siloed way due to the complexity of the domain and systemic incentives that work against open science and collaboration [@doi:10.1177/1745691612459058;@doi:10.1038/d41586-024-00322-2]. Inspired by the productivity of open source libraries such as LangChain [@langchain], we propose an open framework that allows biomedical researchers to focus on the application of LLMs as opposed to engineering challenges. To keep the framework effective and sustainable, we reuse existing open-source libraries and tools while adapting the advancements from the wider LLM community to the biomedical domain. The transparency we emphasise at every step of the framework is essential to a sustainable application of LLMs in biomedical research and beyond [@doi:10.1038/d41586-024-00029-4].',\n",
       " \"The rapid progress of current-generation Large Language Models (LLMs) presents a significant challenge to society and the biomedical field specifically (Nature, 2024; Nature, 2023; Nature, 2023). While these models hold immense potential, their implementation is complex and requires expertise (Nature, 2023). Furthermore, biomedical research is often conducted in isolation due to the intricate nature of the domain and incentives that hinder open collaboration (Nature, 2012; Nature, 2024). Taking inspiration from successful open-source platforms like LangChain, we suggest an open framework for biomedical researchers to focus on utilizing LLMs rather than dealing with technical obstacles. To ensure the framework's effectiveness and longevity, we leverage existing open-source tools while incorporating innovations from the broader LLM community into the biomedical field. Emphasizing transparency at each stage of the framework is crucial for the sustainable application of LLMs in biomedical research and beyond (Nature, 2024).\")"
      ]
     },
     "metadata": {},
     "output_type": "display_data"
    }
   ],
   "source": [
    "display(paragraph_matches[-1])"
   ]
  },
  {
   "cell_type": "markdown",
   "id": "c723624a-d413-4331-ae11-7e0fff81f925",
   "metadata": {
    "editable": true,
    "papermill": {
     "duration": 0.024907,
     "end_time": "2024-03-20T08:20:09.123699",
     "exception": false,
     "start_time": "2024-03-20T08:20:09.098792",
     "status": "completed"
    },
    "slideshow": {
     "slide_type": ""
    },
    "tags": []
   },
   "source": [
    "####  Paragraph 01"
   ]
  },
  {
   "cell_type": "code",
   "execution_count": 110,
   "id": "85389552-28ba-4023-a3e7-cad96a96c4e2",
   "metadata": {
    "execution": {
     "iopub.execute_input": "2024-03-20T08:20:09.175899Z",
     "iopub.status.busy": "2024-03-20T08:20:09.175661Z",
     "iopub.status.idle": "2024-03-20T08:20:09.179411Z",
     "shell.execute_reply": "2024-03-20T08:20:09.178819Z"
    },
    "papermill": {
     "duration": 0.030579,
     "end_time": "2024-03-20T08:20:09.180196",
     "exception": false,
     "start_time": "2024-03-20T08:20:09.149617",
     "status": "completed"
    },
    "tags": []
   },
   "outputs": [
    {
     "name": "stdout",
     "output_type": "stream",
     "text": [
      "Efficient human-AI interaction may require a \"lingua franca\": symbolic representations of concepts at least at the surface level of the conversation [@doi:10.1609/aaai.v36i11.21488]. We enable interaction with LLMs on a symbolic level by providing ontological grounding via the synergy of BioChatter with BioCypher KGs. The configuration of BioCypher KGs allows the user to specify the contextual domain by mapping KG concepts to existing ontologies and custom terminology. This way, we guarantee an overlap in the contextual understanding of user and LLM despite the generic nature of most pre-trained models.\n"
     ]
    }
   ],
   "source": [
    "par0 = process_paragraph(orig_section_paragraphs[2])\n",
    "print(par0)"
   ]
  },
  {
   "cell_type": "code",
   "execution_count": 111,
   "id": "2128e3ae-2f52-4975-a5e3-6c5c15d0c43c",
   "metadata": {
    "execution": {
     "iopub.execute_input": "2024-03-20T08:20:09.231061Z",
     "iopub.status.busy": "2024-03-20T08:20:09.230561Z",
     "iopub.status.idle": "2024-03-20T08:20:09.233889Z",
     "shell.execute_reply": "2024-03-20T08:20:09.233322Z"
    },
    "papermill": {
     "duration": 0.029558,
     "end_time": "2024-03-20T08:20:09.234674",
     "exception": false,
     "start_time": "2024-03-20T08:20:09.205116",
     "status": "completed"
    },
    "tags": []
   },
   "outputs": [
    {
     "name": "stdout",
     "output_type": "stream",
     "text": [
      "Efficient communication between humans and artificial intelligence may benefit from a common language: symbolic representations of concepts that are easily understood during conversation (Smith, 2019). Our platform facilitates interaction with large language models (LLMs) using symbolic representations through the integration of BioChatter with BioCypher knowledge graphs (KGs). The setup of BioCypher KGs enables users to define the specific domain context by linking KG concepts to established ontologies and personalized terminology. This approach ensures a shared understanding of the context between the user and the LLM, even though most pre-trained models are generally applicable.\n"
     ]
    }
   ],
   "source": [
    "par1 = process_paragraph(mod_section_paragraphs[2])\n",
    "print(par1)"
   ]
  },
  {
   "cell_type": "code",
   "execution_count": 112,
   "id": "1b63a1b9-3f26-4699-b39c-a1ace66c05ff",
   "metadata": {
    "execution": {
     "iopub.execute_input": "2024-03-20T08:20:09.285553Z",
     "iopub.status.busy": "2024-03-20T08:20:09.285351Z",
     "iopub.status.idle": "2024-03-20T08:20:09.288274Z",
     "shell.execute_reply": "2024-03-20T08:20:09.287708Z"
    },
    "papermill": {
     "duration": 0.029342,
     "end_time": "2024-03-20T08:20:09.289059",
     "exception": false,
     "start_time": "2024-03-20T08:20:09.259717",
     "status": "completed"
    },
    "tags": []
   },
   "outputs": [],
   "source": [
    "paragraph_matches.append(\n",
    "    (\n",
    "        section_name,\n",
    "        par0,\n",
    "        par1,\n",
    "    )\n",
    ")"
   ]
  },
  {
   "cell_type": "code",
   "execution_count": 113,
   "id": "f096fe93-a618-4836-85b5-b011bd9189e4",
   "metadata": {
    "execution": {
     "iopub.execute_input": "2024-03-20T08:20:09.341018Z",
     "iopub.status.busy": "2024-03-20T08:20:09.340546Z",
     "iopub.status.idle": "2024-03-20T08:20:09.344694Z",
     "shell.execute_reply": "2024-03-20T08:20:09.344115Z"
    },
    "papermill": {
     "duration": 0.031064,
     "end_time": "2024-03-20T08:20:09.345497",
     "exception": false,
     "start_time": "2024-03-20T08:20:09.314433",
     "status": "completed"
    },
    "tags": []
   },
   "outputs": [
    {
     "data": {
      "text/plain": [
       "('discussion',\n",
       " 'Efficient human-AI interaction may require a \"lingua franca\": symbolic representations of concepts at least at the surface level of the conversation [@doi:10.1609/aaai.v36i11.21488]. We enable interaction with LLMs on a symbolic level by providing ontological grounding via the synergy of BioChatter with BioCypher KGs. The configuration of BioCypher KGs allows the user to specify the contextual domain by mapping KG concepts to existing ontologies and custom terminology. This way, we guarantee an overlap in the contextual understanding of user and LLM despite the generic nature of most pre-trained models.',\n",
       " 'Efficient communication between humans and artificial intelligence may benefit from a common language: symbolic representations of concepts that are easily understood during conversation (Smith, 2019). Our platform facilitates interaction with large language models (LLMs) using symbolic representations through the integration of BioChatter with BioCypher knowledge graphs (KGs). The setup of BioCypher KGs enables users to define the specific domain context by linking KG concepts to established ontologies and personalized terminology. This approach ensures a shared understanding of the context between the user and the LLM, even though most pre-trained models are generally applicable.')"
      ]
     },
     "metadata": {},
     "output_type": "display_data"
    }
   ],
   "source": [
    "display(paragraph_matches[-1])"
   ]
  },
  {
   "cell_type": "markdown",
   "id": "897b56fb-65f4-47f3-a02d-4c32c91ba5eb",
   "metadata": {
    "editable": true,
    "papermill": {
     "duration": 0.025302,
     "end_time": "2024-03-20T08:20:09.395967",
     "exception": false,
     "start_time": "2024-03-20T08:20:09.370665",
     "status": "completed"
    },
    "slideshow": {
     "slide_type": ""
    },
    "tags": []
   },
   "source": [
    "####  Paragraph 02"
   ]
  },
  {
   "cell_type": "code",
   "execution_count": 114,
   "id": "36f25595-58d4-4f3e-b34b-bf4cc68c0604",
   "metadata": {
    "execution": {
     "iopub.execute_input": "2024-03-20T08:20:09.448744Z",
     "iopub.status.busy": "2024-03-20T08:20:09.448198Z",
     "iopub.status.idle": "2024-03-20T08:20:09.451698Z",
     "shell.execute_reply": "2024-03-20T08:20:09.451142Z"
    },
    "papermill": {
     "duration": 0.030845,
     "end_time": "2024-03-20T08:20:09.452472",
     "exception": false,
     "start_time": "2024-03-20T08:20:09.421627",
     "status": "completed"
    },
    "tags": []
   },
   "outputs": [
    {
     "name": "stdout",
     "output_type": "stream",
     "text": [
      "We emphasise robustness and objective evaluation of LLM behaviour and performance in interaction with other parts of the framework. We achieve this goal by implementing a living benchmarking framework that allows the automated evaluation of LLMs, prompts, and other components ([https://biochatter.org/benchmark/](https://biochatter.org/benchmark/)). Even the most recent biomedicine-specific benchmarking efforts are small-scale manual approaches that do not consider the full matrix of possible combinations of components, and many benchmarks are performed by accessing web interfaces of LLMs, which obfuscates important parameters such as model version and temperature [@biollmbench]. As such, a framework is a necessary step towards the objective and reproducible evaluation of LLMs. We prevent data leakage from the benchmark datasets into the training data of new models by encryption, which is essential for the sustainability of the benchmark as new models are released. The living benchmark will be updated with new questions and tasks as they arise in the community.\n"
     ]
    }
   ],
   "source": [
    "par0 = process_paragraph(orig_section_paragraphs[3])\n",
    "print(par0)"
   ]
  },
  {
   "cell_type": "code",
   "execution_count": 115,
   "id": "0ca440d7-4752-4c1c-a18d-baafb271c30a",
   "metadata": {
    "execution": {
     "iopub.execute_input": "2024-03-20T08:20:09.531775Z",
     "iopub.status.busy": "2024-03-20T08:20:09.531276Z",
     "iopub.status.idle": "2024-03-20T08:20:09.534681Z",
     "shell.execute_reply": "2024-03-20T08:20:09.534121Z"
    },
    "papermill": {
     "duration": 0.031052,
     "end_time": "2024-03-20T08:20:09.535467",
     "exception": false,
     "start_time": "2024-03-20T08:20:09.504415",
     "status": "completed"
    },
    "tags": []
   },
   "outputs": [
    {
     "name": "stdout",
     "output_type": "stream",
     "text": [
      "We prioritize the robustness and objective evaluation of Large Language Models (LLMs) within our framework. To achieve this, we have established a dynamic benchmarking system that enables the automated assessment of LLMs, prompts, and other components (https://biochatter.org/benchmark/). Existing biomedicine-specific benchmarking initiatives are often limited in scope and rely on manual processes that overlook various component combinations. Additionally, many benchmarks utilize web interfaces for LLMs, which can obscure crucial parameters like model version and temperature [@biollmbench]. Therefore, implementing a framework is crucial for ensuring the unbiased and replicable evaluation of LLMs. We safeguard against data leakage from benchmark datasets into the training data of new models through encryption, ensuring the longevity of the benchmark as new models are introduced. The dynamic benchmark will continue to evolve by incorporating new questions and tasks relevant to the community.\n"
     ]
    }
   ],
   "source": [
    "par1 = process_paragraph(mod_section_paragraphs[3])\n",
    "print(par1)"
   ]
  },
  {
   "cell_type": "code",
   "execution_count": 116,
   "id": "23e42c9b-0bec-4243-abf1-4f9b805a7897",
   "metadata": {
    "execution": {
     "iopub.execute_input": "2024-03-20T08:20:09.586893Z",
     "iopub.status.busy": "2024-03-20T08:20:09.586420Z",
     "iopub.status.idle": "2024-03-20T08:20:09.589157Z",
     "shell.execute_reply": "2024-03-20T08:20:09.588704Z"
    },
    "papermill": {
     "duration": 0.029157,
     "end_time": "2024-03-20T08:20:09.589892",
     "exception": false,
     "start_time": "2024-03-20T08:20:09.560735",
     "status": "completed"
    },
    "tags": []
   },
   "outputs": [],
   "source": [
    "paragraph_matches.append(\n",
    "    (\n",
    "        section_name,\n",
    "        par0,\n",
    "        par1,\n",
    "    )\n",
    ")"
   ]
  },
  {
   "cell_type": "code",
   "execution_count": 117,
   "id": "61e5c7e8-bc8c-451f-a7bb-79e5fc93e166",
   "metadata": {
    "execution": {
     "iopub.execute_input": "2024-03-20T08:20:09.641091Z",
     "iopub.status.busy": "2024-03-20T08:20:09.640748Z",
     "iopub.status.idle": "2024-03-20T08:20:09.644285Z",
     "shell.execute_reply": "2024-03-20T08:20:09.643861Z"
    },
    "papermill": {
     "duration": 0.029954,
     "end_time": "2024-03-20T08:20:09.644990",
     "exception": false,
     "start_time": "2024-03-20T08:20:09.615036",
     "status": "completed"
    },
    "tags": []
   },
   "outputs": [
    {
     "data": {
      "text/plain": [
       "('discussion',\n",
       " 'We emphasise robustness and objective evaluation of LLM behaviour and performance in interaction with other parts of the framework. We achieve this goal by implementing a living benchmarking framework that allows the automated evaluation of LLMs, prompts, and other components ([https://biochatter.org/benchmark/](https://biochatter.org/benchmark/)). Even the most recent biomedicine-specific benchmarking efforts are small-scale manual approaches that do not consider the full matrix of possible combinations of components, and many benchmarks are performed by accessing web interfaces of LLMs, which obfuscates important parameters such as model version and temperature [@biollmbench]. As such, a framework is a necessary step towards the objective and reproducible evaluation of LLMs. We prevent data leakage from the benchmark datasets into the training data of new models by encryption, which is essential for the sustainability of the benchmark as new models are released. The living benchmark will be updated with new questions and tasks as they arise in the community.',\n",
       " 'We prioritize the robustness and objective evaluation of Large Language Models (LLMs) within our framework. To achieve this, we have established a dynamic benchmarking system that enables the automated assessment of LLMs, prompts, and other components (https://biochatter.org/benchmark/). Existing biomedicine-specific benchmarking initiatives are often limited in scope and rely on manual processes that overlook various component combinations. Additionally, many benchmarks utilize web interfaces for LLMs, which can obscure crucial parameters like model version and temperature [@biollmbench]. Therefore, implementing a framework is crucial for ensuring the unbiased and replicable evaluation of LLMs. We safeguard against data leakage from benchmark datasets into the training data of new models through encryption, ensuring the longevity of the benchmark as new models are introduced. The dynamic benchmark will continue to evolve by incorporating new questions and tasks relevant to the community.')"
      ]
     },
     "metadata": {},
     "output_type": "display_data"
    }
   ],
   "source": [
    "display(paragraph_matches[-1])"
   ]
  },
  {
   "cell_type": "markdown",
   "id": "b9824a80-2db9-48b3-aebf-39dc5bd310db",
   "metadata": {
    "editable": true,
    "papermill": {
     "duration": 0.025381,
     "end_time": "2024-03-20T08:20:09.695851",
     "exception": false,
     "start_time": "2024-03-20T08:20:09.670470",
     "status": "completed"
    },
    "slideshow": {
     "slide_type": ""
    },
    "tags": []
   },
   "source": [
    "####  Paragraph 03"
   ]
  },
  {
   "cell_type": "code",
   "execution_count": 118,
   "id": "8fea8a5e-a1ef-4146-869b-5f6949e81b36",
   "metadata": {
    "execution": {
     "iopub.execute_input": "2024-03-20T08:20:09.747254Z",
     "iopub.status.busy": "2024-03-20T08:20:09.747055Z",
     "iopub.status.idle": "2024-03-20T08:20:09.750090Z",
     "shell.execute_reply": "2024-03-20T08:20:09.749559Z"
    },
    "papermill": {
     "duration": 0.029652,
     "end_time": "2024-03-20T08:20:09.750825",
     "exception": false,
     "start_time": "2024-03-20T08:20:09.721173",
     "status": "completed"
    },
    "tags": []
   },
   "outputs": [
    {
     "name": "stdout",
     "output_type": "stream",
     "text": [
      "The benchmark's results provide convenient selection criteria and a starting point for exploring why some models perform differently than expected. For instance, the benchmark allowed immediate flagging of the drop in performance from the older (0613) to the newer (0125) version of gpt-4. It also identified a range of pre-trained open-source models suitable for our uses, most notably, the openhermes-2.5 model in 4- or 5-bit quantisation. This model is a fine-tuned (on GPT-4-generated data) variant of Mistral 7B v0.1, whose vanilla variants perform considerably worse in our benchmarks. Of note, BioChatter was developed using gpt-3.5-turbo-0613 and, to a lesser extent, gpt-4-0613 and llama-2-chat (13B); the benchmark performance of, for instance, openhermes-2.5 and the newer GPT models thus has not been influenced by BioChatter development.\n"
     ]
    }
   ],
   "source": [
    "par0 = process_paragraph(orig_section_paragraphs[4])\n",
    "print(par0)"
   ]
  },
  {
   "cell_type": "code",
   "execution_count": 119,
   "id": "66ec1e72-9a45-4a64-bc99-295cd0882f50",
   "metadata": {
    "execution": {
     "iopub.execute_input": "2024-03-20T08:20:09.802228Z",
     "iopub.status.busy": "2024-03-20T08:20:09.802040Z",
     "iopub.status.idle": "2024-03-20T08:20:09.804961Z",
     "shell.execute_reply": "2024-03-20T08:20:09.804515Z"
    },
    "papermill": {
     "duration": 0.029469,
     "end_time": "2024-03-20T08:20:09.805672",
     "exception": false,
     "start_time": "2024-03-20T08:20:09.776203",
     "status": "completed"
    },
    "tags": []
   },
   "outputs": [
    {
     "name": "stdout",
     "output_type": "stream",
     "text": [
      "The results of the benchmark provide useful criteria for selecting models and serve as a starting point for investigating variations in performance. For example, the benchmark quickly highlighted a decrease in performance when transitioning from the older (0613) to the newer (0125) version of GPT-4. It also identified several pre-trained open-source models that are suitable for our purposes, particularly the openhermes-2.5 model with 4- or 5-bit quantization. This model, a fine-tuned variant of Mistral 7B v0.1 on GPT-4-generated data, outperformed the vanilla variants in our benchmarks. Notably, BioChatter was created using GPT-3.5-turbo-0613, and to a lesser extent, GPT-4-0613 and LLAMA-2-CHAT (13B); as a result, the development of BioChatter did not impact the benchmark performance of models like openhermes-2.5 and the newer GPT models.\n"
     ]
    }
   ],
   "source": [
    "par1 = process_paragraph(mod_section_paragraphs[4])\n",
    "print(par1)"
   ]
  },
  {
   "cell_type": "code",
   "execution_count": 120,
   "id": "3d4e0f2a-0d75-47ec-8754-e1ebf6d054d0",
   "metadata": {
    "execution": {
     "iopub.execute_input": "2024-03-20T08:20:09.857108Z",
     "iopub.status.busy": "2024-03-20T08:20:09.856921Z",
     "iopub.status.idle": "2024-03-20T08:20:09.859517Z",
     "shell.execute_reply": "2024-03-20T08:20:09.859082Z"
    },
    "papermill": {
     "duration": 0.02912,
     "end_time": "2024-03-20T08:20:09.860223",
     "exception": false,
     "start_time": "2024-03-20T08:20:09.831103",
     "status": "completed"
    },
    "tags": []
   },
   "outputs": [],
   "source": [
    "paragraph_matches.append(\n",
    "    (\n",
    "        section_name,\n",
    "        par0,\n",
    "        par1,\n",
    "    )\n",
    ")"
   ]
  },
  {
   "cell_type": "code",
   "execution_count": 121,
   "id": "b72cf403-a57e-4ca8-8188-0c4cece1baaf",
   "metadata": {
    "execution": {
     "iopub.execute_input": "2024-03-20T08:20:09.912178Z",
     "iopub.status.busy": "2024-03-20T08:20:09.911702Z",
     "iopub.status.idle": "2024-03-20T08:20:09.915803Z",
     "shell.execute_reply": "2024-03-20T08:20:09.915348Z"
    },
    "papermill": {
     "duration": 0.030868,
     "end_time": "2024-03-20T08:20:09.916524",
     "exception": false,
     "start_time": "2024-03-20T08:20:09.885656",
     "status": "completed"
    },
    "tags": []
   },
   "outputs": [
    {
     "data": {
      "text/plain": [
       "('discussion',\n",
       " \"The benchmark's results provide convenient selection criteria and a starting point for exploring why some models perform differently than expected. For instance, the benchmark allowed immediate flagging of the drop in performance from the older (0613) to the newer (0125) version of gpt-4. It also identified a range of pre-trained open-source models suitable for our uses, most notably, the openhermes-2.5 model in 4- or 5-bit quantisation. This model is a fine-tuned (on GPT-4-generated data) variant of Mistral 7B v0.1, whose vanilla variants perform considerably worse in our benchmarks. Of note, BioChatter was developed using gpt-3.5-turbo-0613 and, to a lesser extent, gpt-4-0613 and llama-2-chat (13B); the benchmark performance of, for instance, openhermes-2.5 and the newer GPT models thus has not been influenced by BioChatter development.\",\n",
       " 'The results of the benchmark provide useful criteria for selecting models and serve as a starting point for investigating variations in performance. For example, the benchmark quickly highlighted a decrease in performance when transitioning from the older (0613) to the newer (0125) version of GPT-4. It also identified several pre-trained open-source models that are suitable for our purposes, particularly the openhermes-2.5 model with 4- or 5-bit quantization. This model, a fine-tuned variant of Mistral 7B v0.1 on GPT-4-generated data, outperformed the vanilla variants in our benchmarks. Notably, BioChatter was created using GPT-3.5-turbo-0613, and to a lesser extent, GPT-4-0613 and LLAMA-2-CHAT (13B); as a result, the development of BioChatter did not impact the benchmark performance of models like openhermes-2.5 and the newer GPT models.')"
      ]
     },
     "metadata": {},
     "output_type": "display_data"
    }
   ],
   "source": [
    "display(paragraph_matches[-1])"
   ]
  },
  {
   "cell_type": "markdown",
   "id": "f6d05397-2768-45e6-a419-027cd619d2a3",
   "metadata": {
    "editable": true,
    "papermill": {
     "duration": 0.025437,
     "end_time": "2024-03-20T08:20:09.967347",
     "exception": false,
     "start_time": "2024-03-20T08:20:09.941910",
     "status": "completed"
    },
    "slideshow": {
     "slide_type": ""
    },
    "tags": []
   },
   "source": [
    "####  Paragraph 04"
   ]
  },
  {
   "cell_type": "code",
   "execution_count": 122,
   "id": "e1ac1feb-f6d3-4e48-8afa-d02ec7149e97",
   "metadata": {
    "execution": {
     "iopub.execute_input": "2024-03-20T08:20:10.018814Z",
     "iopub.status.busy": "2024-03-20T08:20:10.018626Z",
     "iopub.status.idle": "2024-03-20T08:20:10.021593Z",
     "shell.execute_reply": "2024-03-20T08:20:10.021153Z"
    },
    "papermill": {
     "duration": 0.029547,
     "end_time": "2024-03-20T08:20:10.022343",
     "exception": false,
     "start_time": "2024-03-20T08:20:09.992796",
     "status": "completed"
    },
    "tags": []
   },
   "outputs": [
    {
     "name": "stdout",
     "output_type": "stream",
     "text": [
      "We facilitate access to LLMs by enabling the use of both proprietary and open-source models, and we provide a flexible deployment framework for the latter. Proprietary models are currently the most economical solution for accessing state-of-the-art models and, as such, they are suitable for users just starting out or lacking the resources to deploy their own models. In contrast, open-source models are quickly catching up in terms of performance [@biollmbench] and are essential for the sustainability of the field [@doi:10.1038/d41586-024-00029-4]. We allow self-hosting of open-source models on any scale, from dedicated hardware with GPUs, to local deployment on end-user laptops, to browser-based deployment using web technology.\n"
     ]
    }
   ],
   "source": [
    "par0 = process_paragraph(orig_section_paragraphs[5])\n",
    "print(par0)"
   ]
  },
  {
   "cell_type": "code",
   "execution_count": 123,
   "id": "f8da7eba-dcac-4036-9be4-6b51fed928ed",
   "metadata": {
    "execution": {
     "iopub.execute_input": "2024-03-20T08:20:10.074048Z",
     "iopub.status.busy": "2024-03-20T08:20:10.073586Z",
     "iopub.status.idle": "2024-03-20T08:20:10.076504Z",
     "shell.execute_reply": "2024-03-20T08:20:10.076076Z"
    },
    "papermill": {
     "duration": 0.02957,
     "end_time": "2024-03-20T08:20:10.077241",
     "exception": false,
     "start_time": "2024-03-20T08:20:10.047671",
     "status": "completed"
    },
    "tags": []
   },
   "outputs": [
    {
     "name": "stdout",
     "output_type": "stream",
     "text": [
      "We make it easier to use LLMs by allowing access to both proprietary and open-source models. Our framework offers a flexible deployment option for open-source models. Proprietary models are currently the most cost-effective choice for accessing the latest models and are ideal for beginners or those with limited resources. On the other hand, open-source models are rapidly improving in performance and are crucial for the long-term viability of the field (Biollmbench). Our platform enables users to host open-source models themselves, whether on dedicated hardware with GPUs, locally on their laptops, or through browser-based deployment using web technology.\n"
     ]
    }
   ],
   "source": [
    "par1 = process_paragraph(mod_section_paragraphs[5])\n",
    "print(par1)"
   ]
  },
  {
   "cell_type": "code",
   "execution_count": 124,
   "id": "66fcccb7-97ff-4ccc-80ae-6d841c9a4333",
   "metadata": {
    "execution": {
     "iopub.execute_input": "2024-03-20T08:20:10.129118Z",
     "iopub.status.busy": "2024-03-20T08:20:10.128913Z",
     "iopub.status.idle": "2024-03-20T08:20:10.131689Z",
     "shell.execute_reply": "2024-03-20T08:20:10.131256Z"
    },
    "papermill": {
     "duration": 0.029582,
     "end_time": "2024-03-20T08:20:10.132421",
     "exception": false,
     "start_time": "2024-03-20T08:20:10.102839",
     "status": "completed"
    },
    "tags": []
   },
   "outputs": [],
   "source": [
    "paragraph_matches.append(\n",
    "    (\n",
    "        section_name,\n",
    "        par0,\n",
    "        par1,\n",
    "    )\n",
    ")"
   ]
  },
  {
   "cell_type": "code",
   "execution_count": 125,
   "id": "1487d4c6-de99-4cae-857b-430b29f83e1a",
   "metadata": {
    "execution": {
     "iopub.execute_input": "2024-03-20T08:20:10.184841Z",
     "iopub.status.busy": "2024-03-20T08:20:10.184375Z",
     "iopub.status.idle": "2024-03-20T08:20:10.187984Z",
     "shell.execute_reply": "2024-03-20T08:20:10.187514Z"
    },
    "papermill": {
     "duration": 0.030796,
     "end_time": "2024-03-20T08:20:10.188747",
     "exception": false,
     "start_time": "2024-03-20T08:20:10.157951",
     "status": "completed"
    },
    "tags": []
   },
   "outputs": [
    {
     "data": {
      "text/plain": [
       "('discussion',\n",
       " 'We facilitate access to LLMs by enabling the use of both proprietary and open-source models, and we provide a flexible deployment framework for the latter. Proprietary models are currently the most economical solution for accessing state-of-the-art models and, as such, they are suitable for users just starting out or lacking the resources to deploy their own models. In contrast, open-source models are quickly catching up in terms of performance [@biollmbench] and are essential for the sustainability of the field [@doi:10.1038/d41586-024-00029-4]. We allow self-hosting of open-source models on any scale, from dedicated hardware with GPUs, to local deployment on end-user laptops, to browser-based deployment using web technology.',\n",
       " 'We make it easier to use LLMs by allowing access to both proprietary and open-source models. Our framework offers a flexible deployment option for open-source models. Proprietary models are currently the most cost-effective choice for accessing the latest models and are ideal for beginners or those with limited resources. On the other hand, open-source models are rapidly improving in performance and are crucial for the long-term viability of the field (Biollmbench). Our platform enables users to host open-source models themselves, whether on dedicated hardware with GPUs, locally on their laptops, or through browser-based deployment using web technology.')"
      ]
     },
     "metadata": {},
     "output_type": "display_data"
    }
   ],
   "source": [
    "display(paragraph_matches[-1])"
   ]
  },
  {
   "cell_type": "markdown",
   "id": "6490bb55-8004-4e13-963e-1baa8489f6ab",
   "metadata": {
    "editable": true,
    "papermill": {
     "duration": 0.02549,
     "end_time": "2024-03-20T08:20:10.239611",
     "exception": false,
     "start_time": "2024-03-20T08:20:10.214121",
     "status": "completed"
    },
    "slideshow": {
     "slide_type": ""
    },
    "tags": []
   },
   "source": [
    "####  Paragraph 05"
   ]
  },
  {
   "cell_type": "code",
   "execution_count": 126,
   "id": "86ade612-a79b-4270-99d5-b403b0272c17",
   "metadata": {
    "execution": {
     "iopub.execute_input": "2024-03-20T08:20:10.291211Z",
     "iopub.status.busy": "2024-03-20T08:20:10.291025Z",
     "iopub.status.idle": "2024-03-20T08:20:10.294168Z",
     "shell.execute_reply": "2024-03-20T08:20:10.293629Z"
    },
    "papermill": {
     "duration": 0.029881,
     "end_time": "2024-03-20T08:20:10.294922",
     "exception": false,
     "start_time": "2024-03-20T08:20:10.265041",
     "status": "completed"
    },
    "tags": []
   },
   "outputs": [
    {
     "name": "stdout",
     "output_type": "stream",
     "text": [
      "The current generation of LLMs is not yet ready for unsupervised use in biomedical research with its vast array of unique subfields. Effectively supporting this diversity through robust and contextually aware LLM interactions is a daunting task. While we have taken steps to mitigate the risks of using LLMs such as independent benchmarks, fact-checking, and RAG processes, we cannot guarantee that the models will not produce harmful outputs. We see current LLMs, particularly in the scope of the BioCypher ecosystem, as helpful tools to assist human researchers, alleviating menial and repetitive tasks and helping with technical aspects such as query languages. They are not meant to replace human ingenuity and expertise but to augment it with their complementary strengths. Despite the user-friendly design of BioChatter, there may be a learning curve for researchers unfamiliar with LLMs or the specific functionalities of the framework. For maximising its benefit to the community, encouraging adoption and providing adequate training and support will be critical.\n"
     ]
    }
   ],
   "source": [
    "par0 = process_paragraph(orig_section_paragraphs[7])\n",
    "print(par0)"
   ]
  },
  {
   "cell_type": "code",
   "execution_count": 127,
   "id": "0affd988-bc27-498c-b4e6-d8073791510a",
   "metadata": {
    "execution": {
     "iopub.execute_input": "2024-03-20T08:20:10.347217Z",
     "iopub.status.busy": "2024-03-20T08:20:10.346995Z",
     "iopub.status.idle": "2024-03-20T08:20:10.350373Z",
     "shell.execute_reply": "2024-03-20T08:20:10.349759Z"
    },
    "papermill": {
     "duration": 0.030624,
     "end_time": "2024-03-20T08:20:10.351170",
     "exception": false,
     "start_time": "2024-03-20T08:20:10.320546",
     "status": "completed"
    },
    "tags": []
   },
   "outputs": [
    {
     "name": "stdout",
     "output_type": "stream",
     "text": [
      "The current generation of Large Language Models (LLMs) is not yet suitable for unsupervised use in biomedical research due to the vast array of unique subfields within the field. Effectively supporting this diversity through robust and contextually aware interactions with LLMs is a challenging task. While efforts have been made to reduce risks associated with using LLMs, such as independent benchmarks, fact-checking, and Retrieval-Augmented Generation (RAG) processes, there is no guarantee that the models will not produce harmful outputs. Current LLMs, particularly within the BioCypher ecosystem, are viewed as tools to support human researchers by assisting with menial and repetitive tasks, as well as technical aspects like query languages. They are not intended to replace human ingenuity and expertise, but rather to enhance it with their complementary strengths. Despite the user-friendly design of BioChatter, researchers unfamiliar with LLMs or the specific functionalities of the framework may experience a learning curve. To maximize the benefits of BioChatter to the community, it will be crucial to encourage adoption and provide adequate training and support.\n"
     ]
    }
   ],
   "source": [
    "par1 = process_paragraph(mod_section_paragraphs[7])\n",
    "print(par1)"
   ]
  },
  {
   "cell_type": "code",
   "execution_count": 128,
   "id": "66a3ff5c-d563-4bbf-b900-e77fc94cd6bc",
   "metadata": {
    "execution": {
     "iopub.execute_input": "2024-03-20T08:20:10.403665Z",
     "iopub.status.busy": "2024-03-20T08:20:10.403230Z",
     "iopub.status.idle": "2024-03-20T08:20:10.406057Z",
     "shell.execute_reply": "2024-03-20T08:20:10.405667Z"
    },
    "papermill": {
     "duration": 0.029745,
     "end_time": "2024-03-20T08:20:10.406695",
     "exception": false,
     "start_time": "2024-03-20T08:20:10.376950",
     "status": "completed"
    },
    "tags": []
   },
   "outputs": [],
   "source": [
    "paragraph_matches.append(\n",
    "    (\n",
    "        section_name,\n",
    "        par0,\n",
    "        par1,\n",
    "    )\n",
    ")"
   ]
  },
  {
   "cell_type": "code",
   "execution_count": 129,
   "id": "be401e36-b2d9-4533-be76-cb1ba54f6ecb",
   "metadata": {
    "execution": {
     "iopub.execute_input": "2024-03-20T08:20:10.458740Z",
     "iopub.status.busy": "2024-03-20T08:20:10.458599Z",
     "iopub.status.idle": "2024-03-20T08:20:10.461689Z",
     "shell.execute_reply": "2024-03-20T08:20:10.461229Z"
    },
    "papermill": {
     "duration": 0.030749,
     "end_time": "2024-03-20T08:20:10.463075",
     "exception": false,
     "start_time": "2024-03-20T08:20:10.432326",
     "status": "completed"
    },
    "tags": []
   },
   "outputs": [
    {
     "data": {
      "text/plain": [
       "('discussion',\n",
       " 'The current generation of LLMs is not yet ready for unsupervised use in biomedical research with its vast array of unique subfields. Effectively supporting this diversity through robust and contextually aware LLM interactions is a daunting task. While we have taken steps to mitigate the risks of using LLMs such as independent benchmarks, fact-checking, and RAG processes, we cannot guarantee that the models will not produce harmful outputs. We see current LLMs, particularly in the scope of the BioCypher ecosystem, as helpful tools to assist human researchers, alleviating menial and repetitive tasks and helping with technical aspects such as query languages. They are not meant to replace human ingenuity and expertise but to augment it with their complementary strengths. Despite the user-friendly design of BioChatter, there may be a learning curve for researchers unfamiliar with LLMs or the specific functionalities of the framework. For maximising its benefit to the community, encouraging adoption and providing adequate training and support will be critical.',\n",
       " 'The current generation of Large Language Models (LLMs) is not yet suitable for unsupervised use in biomedical research due to the vast array of unique subfields within the field. Effectively supporting this diversity through robust and contextually aware interactions with LLMs is a challenging task. While efforts have been made to reduce risks associated with using LLMs, such as independent benchmarks, fact-checking, and Retrieval-Augmented Generation (RAG) processes, there is no guarantee that the models will not produce harmful outputs. Current LLMs, particularly within the BioCypher ecosystem, are viewed as tools to support human researchers by assisting with menial and repetitive tasks, as well as technical aspects like query languages. They are not intended to replace human ingenuity and expertise, but rather to enhance it with their complementary strengths. Despite the user-friendly design of BioChatter, researchers unfamiliar with LLMs or the specific functionalities of the framework may experience a learning curve. To maximize the benefits of BioChatter to the community, it will be crucial to encourage adoption and provide adequate training and support.')"
      ]
     },
     "metadata": {},
     "output_type": "display_data"
    }
   ],
   "source": [
    "display(paragraph_matches[-1])"
   ]
  },
  {
   "cell_type": "markdown",
   "id": "d080117b-9e27-47ce-9b2f-b01c70e365c7",
   "metadata": {
    "editable": true,
    "papermill": {
     "duration": 0.025905,
     "end_time": "2024-03-20T08:20:10.518157",
     "exception": false,
     "start_time": "2024-03-20T08:20:10.492252",
     "status": "completed"
    },
    "slideshow": {
     "slide_type": ""
    },
    "tags": []
   },
   "source": [
    "####  Paragraph 06"
   ]
  },
  {
   "cell_type": "code",
   "execution_count": 130,
   "id": "4ca66dfa-862c-4ed3-a7ce-ad587271bf8a",
   "metadata": {
    "execution": {
     "iopub.execute_input": "2024-03-20T08:20:10.571585Z",
     "iopub.status.busy": "2024-03-20T08:20:10.571061Z",
     "iopub.status.idle": "2024-03-20T08:20:10.574459Z",
     "shell.execute_reply": "2024-03-20T08:20:10.573923Z"
    },
    "papermill": {
     "duration": 0.030928,
     "end_time": "2024-03-20T08:20:10.575293",
     "exception": false,
     "start_time": "2024-03-20T08:20:10.544365",
     "status": "completed"
    },
    "tags": []
   },
   "outputs": [
    {
     "name": "stdout",
     "output_type": "stream",
     "text": [
      "Multitask learners that can synthesise, for instance, language, vision, and molecular measurements are an emerging field of research [@doi:10.48550/arXiv.2306.04529;@doi:10.48550/arXiv.2211.01786;@doi:10.48550/arXiv.2310.09478]. Autonomous agents for trivial tasks have already been developed on the basis of LLMs, and we expect this field to mature in the future [@doi:10.48550/arXiv.2308.11432]. As research on multimodal learning and agent behaviour progresses, we plan to integrate these developments into the BioChatter framework. All framework developments will be performed in light of the ethical implications of LLMs, and we will continue to support the use of open-source models to increase transparency and data privacy. While we focus on the biomedical field, the concept of our frameworks can easily be extended to other scientific domains by adjusting domain-specific prompts and data inputs, which are accessible in a composable and user-friendly manner in our frameworks [@biocypher]. Our Python library is developed openly on GitHub ([https://github.com/biocypher/biochatter](https://github.com/biocypher/biochatter)) and can be integrated into any downstream user interface solution. We develop under the permissive MIT licence and encourage contributions and suggestions from the community with regard to the addition of bioinformatics tool integrations, prompt engineering, benchmarking, and any other feature.\n"
     ]
    }
   ],
   "source": [
    "par0 = process_paragraph(orig_section_paragraphs[9])\n",
    "print(par0)"
   ]
  },
  {
   "cell_type": "code",
   "execution_count": 131,
   "id": "799fb0c0-15ed-4b7e-8a16-0dd33bdf81b1",
   "metadata": {
    "execution": {
     "iopub.execute_input": "2024-03-20T08:20:10.628058Z",
     "iopub.status.busy": "2024-03-20T08:20:10.627602Z",
     "iopub.status.idle": "2024-03-20T08:20:10.630868Z",
     "shell.execute_reply": "2024-03-20T08:20:10.630354Z"
    },
    "papermill": {
     "duration": 0.030405,
     "end_time": "2024-03-20T08:20:10.631628",
     "exception": false,
     "start_time": "2024-03-20T08:20:10.601223",
     "status": "completed"
    },
    "tags": []
   },
   "outputs": [
    {
     "name": "stdout",
     "output_type": "stream",
     "text": [
      "Emerging research shows that multitask learners, capable of synthesizing language, vision, and molecular measurements, are gaining traction [@doi:10.48550/arXiv.2306.04529;@doi:10.48550/arXiv.2211.01786;@doi:10.48550/arXiv.2310.09478]. Some autonomous agents for basic tasks have already been created using Large Language Models (LLMs), and we anticipate further advancements in this area [@doi:10.48550/arXiv.2308.11432]. As studies on multimodal learning and agent behavior advance, we aim to incorporate these findings into the BioChatter framework. Our framework development prioritizes ethical considerations related to LLMs, emphasizing the use of open-source models to enhance transparency and data privacy. Although our primary focus is on biomedicine, the adaptability of our frameworks allows for easy extension to other scientific fields through adjustments to domain-specific prompts and data inputs, which are conveniently accessible in our frameworks [@biocypher]. Our Python library is openly developed on GitHub ([https://github.com/biocypher/biochatter](https://github.com/biocypher/biochatter)) and can be seamlessly integrated into various user interface solutions. Operating under the permissive MIT license, we welcome community contributions and suggestions for integrating bioinformatics tools, prompt engineering, benchmarking, and other features.\n"
     ]
    }
   ],
   "source": [
    "par1 = process_paragraph(mod_section_paragraphs[9])\n",
    "print(par1)"
   ]
  },
  {
   "cell_type": "code",
   "execution_count": 132,
   "id": "ef6c17fb-7cd6-4690-8bce-3bc17befc326",
   "metadata": {
    "execution": {
     "iopub.execute_input": "2024-03-20T08:20:10.711291Z",
     "iopub.status.busy": "2024-03-20T08:20:10.710694Z",
     "iopub.status.idle": "2024-03-20T08:20:10.713595Z",
     "shell.execute_reply": "2024-03-20T08:20:10.713142Z"
    },
    "papermill": {
     "duration": 0.056685,
     "end_time": "2024-03-20T08:20:10.714346",
     "exception": false,
     "start_time": "2024-03-20T08:20:10.657661",
     "status": "completed"
    },
    "tags": []
   },
   "outputs": [],
   "source": [
    "paragraph_matches.append(\n",
    "    (\n",
    "        section_name,\n",
    "        par0,\n",
    "        par1,\n",
    "    )\n",
    ")"
   ]
  },
  {
   "cell_type": "code",
   "execution_count": 133,
   "id": "480aea1d-08f8-4520-b71b-735a9d57dd1e",
   "metadata": {
    "execution": {
     "iopub.execute_input": "2024-03-20T08:20:10.767698Z",
     "iopub.status.busy": "2024-03-20T08:20:10.767142Z",
     "iopub.status.idle": "2024-03-20T08:20:10.770982Z",
     "shell.execute_reply": "2024-03-20T08:20:10.770538Z"
    },
    "papermill": {
     "duration": 0.031307,
     "end_time": "2024-03-20T08:20:10.771715",
     "exception": false,
     "start_time": "2024-03-20T08:20:10.740408",
     "status": "completed"
    },
    "tags": []
   },
   "outputs": [
    {
     "data": {
      "text/plain": [
       "('discussion',\n",
       " 'Multitask learners that can synthesise, for instance, language, vision, and molecular measurements are an emerging field of research [@doi:10.48550/arXiv.2306.04529;@doi:10.48550/arXiv.2211.01786;@doi:10.48550/arXiv.2310.09478]. Autonomous agents for trivial tasks have already been developed on the basis of LLMs, and we expect this field to mature in the future [@doi:10.48550/arXiv.2308.11432]. As research on multimodal learning and agent behaviour progresses, we plan to integrate these developments into the BioChatter framework. All framework developments will be performed in light of the ethical implications of LLMs, and we will continue to support the use of open-source models to increase transparency and data privacy. While we focus on the biomedical field, the concept of our frameworks can easily be extended to other scientific domains by adjusting domain-specific prompts and data inputs, which are accessible in a composable and user-friendly manner in our frameworks [@biocypher]. Our Python library is developed openly on GitHub ([https://github.com/biocypher/biochatter](https://github.com/biocypher/biochatter)) and can be integrated into any downstream user interface solution. We develop under the permissive MIT licence and encourage contributions and suggestions from the community with regard to the addition of bioinformatics tool integrations, prompt engineering, benchmarking, and any other feature.',\n",
       " 'Emerging research shows that multitask learners, capable of synthesizing language, vision, and molecular measurements, are gaining traction [@doi:10.48550/arXiv.2306.04529;@doi:10.48550/arXiv.2211.01786;@doi:10.48550/arXiv.2310.09478]. Some autonomous agents for basic tasks have already been created using Large Language Models (LLMs), and we anticipate further advancements in this area [@doi:10.48550/arXiv.2308.11432]. As studies on multimodal learning and agent behavior advance, we aim to incorporate these findings into the BioChatter framework. Our framework development prioritizes ethical considerations related to LLMs, emphasizing the use of open-source models to enhance transparency and data privacy. Although our primary focus is on biomedicine, the adaptability of our frameworks allows for easy extension to other scientific fields through adjustments to domain-specific prompts and data inputs, which are conveniently accessible in our frameworks [@biocypher]. Our Python library is openly developed on GitHub ([https://github.com/biocypher/biochatter](https://github.com/biocypher/biochatter)) and can be seamlessly integrated into various user interface solutions. Operating under the permissive MIT license, we welcome community contributions and suggestions for integrating bioinformatics tools, prompt engineering, benchmarking, and other features.')"
      ]
     },
     "metadata": {},
     "output_type": "display_data"
    }
   ],
   "source": [
    "display(paragraph_matches[-1])"
   ]
  },
  {
   "cell_type": "markdown",
   "id": "59e442fb-dfda-434d-b1d4-265fbe96ccfc",
   "metadata": {
    "editable": true,
    "papermill": {
     "duration": 0.025648,
     "end_time": "2024-03-20T08:20:10.823232",
     "exception": false,
     "start_time": "2024-03-20T08:20:10.797584",
     "status": "completed"
    },
    "slideshow": {
     "slide_type": ""
    },
    "tags": []
   },
   "source": [
    "## Methods"
   ]
  },
  {
   "cell_type": "code",
   "execution_count": 134,
   "id": "42676dcc-e716-44d9-a957-db23dd90e123",
   "metadata": {
    "execution": {
     "iopub.execute_input": "2024-03-20T08:20:10.875495Z",
     "iopub.status.busy": "2024-03-20T08:20:10.875310Z",
     "iopub.status.idle": "2024-03-20T08:20:10.877792Z",
     "shell.execute_reply": "2024-03-20T08:20:10.877354Z"
    },
    "papermill": {
     "duration": 0.029578,
     "end_time": "2024-03-20T08:20:10.878501",
     "exception": false,
     "start_time": "2024-03-20T08:20:10.848923",
     "status": "completed"
    },
    "tags": []
   },
   "outputs": [],
   "source": [
    "section_name = \"methods\""
   ]
  },
  {
   "cell_type": "code",
   "execution_count": 135,
   "id": "8f280817-fdf2-447f-b74f-a496c7034555",
   "metadata": {
    "editable": true,
    "execution": {
     "iopub.execute_input": "2024-03-20T08:20:10.930396Z",
     "iopub.status.busy": "2024-03-20T08:20:10.930210Z",
     "iopub.status.idle": "2024-03-20T08:20:10.933260Z",
     "shell.execute_reply": "2024-03-20T08:20:10.932827Z"
    },
    "papermill": {
     "duration": 0.029931,
     "end_time": "2024-03-20T08:20:10.933958",
     "exception": false,
     "start_time": "2024-03-20T08:20:10.904027",
     "status": "completed"
    },
    "slideshow": {
     "slide_type": ""
    },
    "tags": []
   },
   "outputs": [
    {
     "name": "stdout",
     "output_type": "stream",
     "text": [
      "content/40.methods.md\n"
     ]
    }
   ],
   "source": [
    "pr_filename = pr_files[4].filename\n",
    "assert section_name in pr_filename\n",
    "print(pr_filename)"
   ]
  },
  {
   "cell_type": "markdown",
   "id": "c4466db8-9485-49cc-a08f-dfdf243e1f06",
   "metadata": {
    "editable": true,
    "papermill": {
     "duration": 0.025827,
     "end_time": "2024-03-20T08:20:10.986722",
     "exception": false,
     "start_time": "2024-03-20T08:20:10.960895",
     "status": "completed"
    },
    "slideshow": {
     "slide_type": ""
    },
    "tags": []
   },
   "source": [
    "### Original"
   ]
  },
  {
   "cell_type": "code",
   "execution_count": 136,
   "id": "d28b84ac-727b-4412-8504-2cb1d9764a91",
   "metadata": {
    "execution": {
     "iopub.execute_input": "2024-03-20T08:20:11.038666Z",
     "iopub.status.busy": "2024-03-20T08:20:11.038477Z",
     "iopub.status.idle": "2024-03-20T08:20:11.179682Z",
     "shell.execute_reply": "2024-03-20T08:20:11.179234Z"
    },
    "papermill": {
     "duration": 0.168315,
     "end_time": "2024-03-20T08:20:11.180650",
     "exception": false,
     "start_time": "2024-03-20T08:20:11.012335",
     "status": "completed"
    },
    "tags": []
   },
   "outputs": [
    {
     "name": "stdout",
     "output_type": "stream",
     "text": [
      "## (Supplementary / Online) Methods {.page_break_b\n"
     ]
    }
   ],
   "source": [
    "# get content\n",
    "orig_section_content = repo.get_contents(pr_filename, pr_prev).decoded_content.decode(\n",
    "    \"utf-8\"\n",
    ")\n",
    "print(orig_section_content[:50])"
   ]
  },
  {
   "cell_type": "code",
   "execution_count": 137,
   "id": "18fe5c96-6270-45fe-8f3a-2da927318d82",
   "metadata": {
    "execution": {
     "iopub.execute_input": "2024-03-20T08:20:11.256453Z",
     "iopub.status.busy": "2024-03-20T08:20:11.256266Z",
     "iopub.status.idle": "2024-03-20T08:20:11.259893Z",
     "shell.execute_reply": "2024-03-20T08:20:11.259470Z"
    },
    "papermill": {
     "duration": 0.041277,
     "end_time": "2024-03-20T08:20:11.260609",
     "exception": false,
     "start_time": "2024-03-20T08:20:11.219332",
     "status": "completed"
    },
    "tags": []
   },
   "outputs": [
    {
     "data": {
      "text/plain": [
       "36"
      ]
     },
     "metadata": {},
     "output_type": "display_data"
    }
   ],
   "source": [
    "# split by paragraph\n",
    "orig_section_paragraphs = orig_section_content.split(\"\\n\\n\")\n",
    "display(len(orig_section_paragraphs))"
   ]
  },
  {
   "cell_type": "markdown",
   "id": "6066a4d2-2696-4e7d-9da4-d1818871259d",
   "metadata": {
    "editable": true,
    "papermill": {
     "duration": 0.025779,
     "end_time": "2024-03-20T08:20:11.312214",
     "exception": false,
     "start_time": "2024-03-20T08:20:11.286435",
     "status": "completed"
    },
    "slideshow": {
     "slide_type": ""
    },
    "tags": []
   },
   "source": [
    "### Modified"
   ]
  },
  {
   "cell_type": "code",
   "execution_count": 138,
   "id": "4e8d95f9-376b-450b-99d5-67891963f997",
   "metadata": {
    "execution": {
     "iopub.execute_input": "2024-03-20T08:20:11.364521Z",
     "iopub.status.busy": "2024-03-20T08:20:11.364335Z",
     "iopub.status.idle": "2024-03-20T08:20:11.579885Z",
     "shell.execute_reply": "2024-03-20T08:20:11.579341Z"
    },
    "papermill": {
     "duration": 0.243193,
     "end_time": "2024-03-20T08:20:11.581022",
     "exception": false,
     "start_time": "2024-03-20T08:20:11.337829",
     "status": "completed"
    },
    "tags": []
   },
   "outputs": [
    {
     "name": "stdout",
     "output_type": "stream",
     "text": [
      "## (Supplementary / Online) Methods {.page_break_b\n"
     ]
    }
   ],
   "source": [
    "# get content\n",
    "mod_section_content = repo.get_contents(pr_filename, pr_curr).decoded_content.decode(\n",
    "    \"utf-8\"\n",
    ")\n",
    "print(mod_section_content[:50])"
   ]
  },
  {
   "cell_type": "code",
   "execution_count": 139,
   "id": "6c0d91e9-b334-4b74-9ea5-7080c5e7fa6d",
   "metadata": {
    "execution": {
     "iopub.execute_input": "2024-03-20T08:20:11.671341Z",
     "iopub.status.busy": "2024-03-20T08:20:11.671184Z",
     "iopub.status.idle": "2024-03-20T08:20:11.674676Z",
     "shell.execute_reply": "2024-03-20T08:20:11.674237Z"
    },
    "papermill": {
     "duration": 0.04557,
     "end_time": "2024-03-20T08:20:11.675320",
     "exception": false,
     "start_time": "2024-03-20T08:20:11.629750",
     "status": "completed"
    },
    "tags": []
   },
   "outputs": [
    {
     "data": {
      "text/plain": [
       "52"
      ]
     },
     "metadata": {},
     "output_type": "display_data"
    }
   ],
   "source": [
    "# split by paragraph\n",
    "mod_section_paragraphs = mod_section_content.split(\"\\n\\n\")\n",
    "display(len(mod_section_paragraphs))"
   ]
  },
  {
   "cell_type": "markdown",
   "id": "f1da0d8d-adc4-4403-be49-4385ea781ac8",
   "metadata": {
    "editable": true,
    "papermill": {
     "duration": 0.025797,
     "end_time": "2024-03-20T08:20:11.727271",
     "exception": false,
     "start_time": "2024-03-20T08:20:11.701474",
     "status": "completed"
    },
    "slideshow": {
     "slide_type": ""
    },
    "tags": []
   },
   "source": [
    "### Match"
   ]
  },
  {
   "cell_type": "code",
   "execution_count": 140,
   "id": "53720cd3-8e0a-4d31-8883-c206026f9e5f",
   "metadata": {
    "execution": {
     "iopub.execute_input": "2024-03-20T08:20:11.779606Z",
     "iopub.status.busy": "2024-03-20T08:20:11.779415Z",
     "iopub.status.idle": "2024-03-20T08:20:11.783021Z",
     "shell.execute_reply": "2024-03-20T08:20:11.782531Z"
    },
    "papermill": {
     "duration": 0.030557,
     "end_time": "2024-03-20T08:20:11.783696",
     "exception": false,
     "start_time": "2024-03-20T08:20:11.753139",
     "status": "completed"
    },
    "tags": []
   },
   "outputs": [
    {
     "data": {
      "text/plain": [
       "'## (Supplementary / Online) Methods {.page_break_before}'"
      ]
     },
     "execution_count": 140,
     "metadata": {},
     "output_type": "execute_result"
    }
   ],
   "source": [
    "orig_section_paragraphs[0]"
   ]
  },
  {
   "cell_type": "code",
   "execution_count": 141,
   "id": "2638f377-a44a-4d05-8fca-bfa9383ca736",
   "metadata": {
    "execution": {
     "iopub.execute_input": "2024-03-20T08:20:11.837257Z",
     "iopub.status.busy": "2024-03-20T08:20:11.837063Z",
     "iopub.status.idle": "2024-03-20T08:20:11.840697Z",
     "shell.execute_reply": "2024-03-20T08:20:11.840218Z"
    },
    "papermill": {
     "duration": 0.031222,
     "end_time": "2024-03-20T08:20:11.841439",
     "exception": false,
     "start_time": "2024-03-20T08:20:11.810217",
     "status": "completed"
    },
    "tags": []
   },
   "outputs": [
    {
     "data": {
      "text/plain": [
       "'## (Supplementary / Online) Methods {.page_break_before}'"
      ]
     },
     "execution_count": 141,
     "metadata": {},
     "output_type": "execute_result"
    }
   ],
   "source": [
    "mod_section_paragraphs[0]"
   ]
  },
  {
   "cell_type": "markdown",
   "id": "639829e1-1463-41b5-b91d-b2bdd319e04e",
   "metadata": {
    "editable": true,
    "papermill": {
     "duration": 0.026244,
     "end_time": "2024-03-20T08:20:11.894261",
     "exception": false,
     "start_time": "2024-03-20T08:20:11.868017",
     "status": "completed"
    },
    "slideshow": {
     "slide_type": ""
    },
    "tags": []
   },
   "source": [
    "####  Paragraph 00"
   ]
  },
  {
   "cell_type": "code",
   "execution_count": 142,
   "id": "bde47e33-80ca-4c52-a420-868e3721fdf3",
   "metadata": {
    "execution": {
     "iopub.execute_input": "2024-03-20T08:20:11.947343Z",
     "iopub.status.busy": "2024-03-20T08:20:11.946952Z",
     "iopub.status.idle": "2024-03-20T08:20:11.950250Z",
     "shell.execute_reply": "2024-03-20T08:20:11.949697Z"
    },
    "papermill": {
     "duration": 0.03083,
     "end_time": "2024-03-20T08:20:11.950997",
     "exception": false,
     "start_time": "2024-03-20T08:20:11.920167",
     "status": "completed"
    },
    "tags": []
   },
   "outputs": [
    {
     "name": "stdout",
     "output_type": "stream",
     "text": [
      "BioChatter (version 0.4.7 at the time of publication) is a Python library, supporting Python 3.10-3.12, which we ensure with a continuous integration pipeline on GitHub ([https://github.com/biocypher/biochatter](https://github.com/biocypher/biochatter)). We provide documentation at [https://biochatter.org](https://biochatter.org), including a tutorial and API reference. All packages are developed openly and according to modern standards of software development [@doi:10.1038/s41597-020-0486-7]; we use the permissive MIT licence to encourage downstream use and development. We include a code of conduct and contributor guidelines to offer accessibility and inclusivity to all who are interested in contributing to the framework.\n"
     ]
    }
   ],
   "source": [
    "par0 = process_paragraph(orig_section_paragraphs[1])\n",
    "print(par0)"
   ]
  },
  {
   "cell_type": "code",
   "execution_count": 143,
   "id": "a613037a-a64e-43cf-abda-cf0a4a736502",
   "metadata": {
    "execution": {
     "iopub.execute_input": "2024-03-20T08:20:12.004302Z",
     "iopub.status.busy": "2024-03-20T08:20:12.004115Z",
     "iopub.status.idle": "2024-03-20T08:20:12.007769Z",
     "shell.execute_reply": "2024-03-20T08:20:12.007261Z"
    },
    "papermill": {
     "duration": 0.03133,
     "end_time": "2024-03-20T08:20:12.008542",
     "exception": false,
     "start_time": "2024-03-20T08:20:11.977212",
     "status": "completed"
    },
    "tags": []
   },
   "outputs": [
    {
     "name": "stdout",
     "output_type": "stream",
     "text": [
      "BioChatter (version 0.4.7 at the time of publication) is a Python library that supports Python 3.10-3.12. The compatibility with these versions is ensured through a continuous integration pipeline on GitHub (https://github.com/biocypher/biochatter). Documentation for BioChatter can be found at https://biochatter.org, which includes a tutorial and API reference. The development of all packages is done openly and follows modern software development standards [@doi:10.1038/s41597-020-0486-7]. To encourage downstream use and development, we have chosen the permissive MIT license. Additionally, we have included a code of conduct and contributor guidelines to promote accessibility and inclusivity for all individuals interested in contributing to the framework. \n",
      "$$ \n",
      "\\text{Equation (@id): Definition of important symbol} \n",
      "$$\n"
     ]
    }
   ],
   "source": [
    "par1 = (\n",
    "    process_paragraph(mod_section_paragraphs[1:3])\n",
    "    .replace(\"$$\", \"\\n$$\")\n",
    "    .replace(\"\\\\text\", \"\\n\\\\text\")\n",
    ")\n",
    "print(par1)"
   ]
  },
  {
   "cell_type": "code",
   "execution_count": 144,
   "id": "fd5ca3b4-323c-4abf-8cb9-9a9773f4aed1",
   "metadata": {
    "execution": {
     "iopub.execute_input": "2024-03-20T08:20:12.062693Z",
     "iopub.status.busy": "2024-03-20T08:20:12.062508Z",
     "iopub.status.idle": "2024-03-20T08:20:12.065352Z",
     "shell.execute_reply": "2024-03-20T08:20:12.064854Z"
    },
    "papermill": {
     "duration": 0.030351,
     "end_time": "2024-03-20T08:20:12.066087",
     "exception": false,
     "start_time": "2024-03-20T08:20:12.035736",
     "status": "completed"
    },
    "tags": []
   },
   "outputs": [],
   "source": [
    "paragraph_matches.append(\n",
    "    (\n",
    "        section_name,\n",
    "        par0,\n",
    "        par1,\n",
    "    )\n",
    ")"
   ]
  },
  {
   "cell_type": "code",
   "execution_count": 145,
   "id": "1fb17a25-e891-4ae1-a04f-a58e8eb33558",
   "metadata": {
    "execution": {
     "iopub.execute_input": "2024-03-20T08:20:12.119970Z",
     "iopub.status.busy": "2024-03-20T08:20:12.119783Z",
     "iopub.status.idle": "2024-03-20T08:20:12.123469Z",
     "shell.execute_reply": "2024-03-20T08:20:12.122992Z"
    },
    "papermill": {
     "duration": 0.031663,
     "end_time": "2024-03-20T08:20:12.124144",
     "exception": false,
     "start_time": "2024-03-20T08:20:12.092481",
     "status": "completed"
    },
    "tags": []
   },
   "outputs": [
    {
     "data": {
      "text/plain": [
       "('methods',\n",
       " 'BioChatter (version 0.4.7 at the time of publication) is a Python library, supporting Python 3.10-3.12, which we ensure with a continuous integration pipeline on GitHub ([https://github.com/biocypher/biochatter](https://github.com/biocypher/biochatter)). We provide documentation at [https://biochatter.org](https://biochatter.org), including a tutorial and API reference. All packages are developed openly and according to modern standards of software development [@doi:10.1038/s41597-020-0486-7]; we use the permissive MIT licence to encourage downstream use and development. We include a code of conduct and contributor guidelines to offer accessibility and inclusivity to all who are interested in contributing to the framework.',\n",
       " 'BioChatter (version 0.4.7 at the time of publication) is a Python library that supports Python 3.10-3.12. The compatibility with these versions is ensured through a continuous integration pipeline on GitHub (https://github.com/biocypher/biochatter). Documentation for BioChatter can be found at https://biochatter.org, which includes a tutorial and API reference. The development of all packages is done openly and follows modern software development standards [@doi:10.1038/s41597-020-0486-7]. To encourage downstream use and development, we have chosen the permissive MIT license. Additionally, we have included a code of conduct and contributor guidelines to promote accessibility and inclusivity for all individuals interested in contributing to the framework. \\n$$ \\n\\\\text{Equation (@id): Definition of important symbol} \\n$$')"
      ]
     },
     "metadata": {},
     "output_type": "display_data"
    }
   ],
   "source": [
    "display(paragraph_matches[-1])"
   ]
  },
  {
   "cell_type": "markdown",
   "id": "626a2445-2b50-4564-8805-435db74bd47a",
   "metadata": {
    "editable": true,
    "papermill": {
     "duration": 0.02633,
     "end_time": "2024-03-20T08:20:12.176949",
     "exception": false,
     "start_time": "2024-03-20T08:20:12.150619",
     "status": "completed"
    },
    "slideshow": {
     "slide_type": ""
    },
    "tags": []
   },
   "source": [
    "####  Paragraph 01"
   ]
  },
  {
   "cell_type": "code",
   "execution_count": 146,
   "id": "c96448ac-3d15-40aa-8b1d-9d348cb46b46",
   "metadata": {
    "execution": {
     "iopub.execute_input": "2024-03-20T08:20:12.230657Z",
     "iopub.status.busy": "2024-03-20T08:20:12.230448Z",
     "iopub.status.idle": "2024-03-20T08:20:12.233747Z",
     "shell.execute_reply": "2024-03-20T08:20:12.233236Z"
    },
    "papermill": {
     "duration": 0.031283,
     "end_time": "2024-03-20T08:20:12.234438",
     "exception": false,
     "start_time": "2024-03-20T08:20:12.203155",
     "status": "completed"
    },
    "tags": []
   },
   "outputs": [
    {
     "name": "stdout",
     "output_type": "stream",
     "text": [
      "BioChatter Light is a web app based on the Streamlit framework (version 1.31.1, [https://streamlit.io](https://streamlit.io)), which is written in Python and can be deployed locally or on a server ([https://github.com/biocypher/biochatter-light](https://github.com/biocypher/biochatter-light)). The ease with which Streamlit allows the creation of interactive web apps in pure Python enables rapid iteration and agile development of new features, with the tradeoff of limited customisation and scalability. This framework is suitable for rapid prototyping of bespoke solutions for specific use cases. For an up-to-date overview and preview of the current functionality of the platform, please visit the [online preview](https://chat.biocypher.org).\n"
     ]
    }
   ],
   "source": [
    "par0 = process_paragraph(orig_section_paragraphs[4])\n",
    "print(par0)"
   ]
  },
  {
   "cell_type": "code",
   "execution_count": 147,
   "id": "06769dc3-7e49-4f72-8b19-9e71798ddf90",
   "metadata": {
    "execution": {
     "iopub.execute_input": "2024-03-20T08:20:12.311893Z",
     "iopub.status.busy": "2024-03-20T08:20:12.311700Z",
     "iopub.status.idle": "2024-03-20T08:20:12.315027Z",
     "shell.execute_reply": "2024-03-20T08:20:12.314521Z"
    },
    "papermill": {
     "duration": 0.054794,
     "end_time": "2024-03-20T08:20:12.315710",
     "exception": false,
     "start_time": "2024-03-20T08:20:12.260916",
     "status": "completed"
    },
    "tags": []
   },
   "outputs": [
    {
     "name": "stdout",
     "output_type": "stream",
     "text": [
      "BioChatter Light is a web app based on the Streamlit framework (version 1.31.1, [https://streamlit.io](https://streamlit.io)), which is written in Python and can be deployed locally or on a server ([https://github.com/biocypher/biochatter-light](https://github.com/biocypher/biochatter-light)). The ease with which Streamlit allows the creation of interactive web apps in pure Python enables rapid iteration and agile development of new features, with the tradeoff of limited customization and scalability. This framework is suitable for rapid prototyping of bespoke solutions for specific use cases. For an up-to-date overview and preview of the current functionality of the platform, please visit the [online preview](https://chat.biocypher.org).\n"
     ]
    }
   ],
   "source": [
    "par1 = process_paragraph(\n",
    "    mod_section_paragraphs[5]\n",
    ")  # .replace(\"$$\", \"\\n$$\").replace(\"\\\\text\", \"\\n\\\\text\")\n",
    "print(par1)"
   ]
  },
  {
   "cell_type": "code",
   "execution_count": 148,
   "id": "33cc1054-8364-43af-8406-29f7484cb270",
   "metadata": {
    "execution": {
     "iopub.execute_input": "2024-03-20T08:20:12.369826Z",
     "iopub.status.busy": "2024-03-20T08:20:12.369635Z",
     "iopub.status.idle": "2024-03-20T08:20:12.372473Z",
     "shell.execute_reply": "2024-03-20T08:20:12.371978Z"
    },
    "papermill": {
     "duration": 0.03062,
     "end_time": "2024-03-20T08:20:12.373138",
     "exception": false,
     "start_time": "2024-03-20T08:20:12.342518",
     "status": "completed"
    },
    "tags": []
   },
   "outputs": [],
   "source": [
    "paragraph_matches.append(\n",
    "    (\n",
    "        section_name,\n",
    "        par0,\n",
    "        par1,\n",
    "    )\n",
    ")"
   ]
  },
  {
   "cell_type": "code",
   "execution_count": 149,
   "id": "d6057c60-1a37-4785-a2c4-dbd32d55eac1",
   "metadata": {
    "execution": {
     "iopub.execute_input": "2024-03-20T08:20:12.426921Z",
     "iopub.status.busy": "2024-03-20T08:20:12.426730Z",
     "iopub.status.idle": "2024-03-20T08:20:12.430425Z",
     "shell.execute_reply": "2024-03-20T08:20:12.429931Z"
    },
    "papermill": {
     "duration": 0.0314,
     "end_time": "2024-03-20T08:20:12.431115",
     "exception": false,
     "start_time": "2024-03-20T08:20:12.399715",
     "status": "completed"
    },
    "tags": []
   },
   "outputs": [
    {
     "data": {
      "text/plain": [
       "('methods',\n",
       " 'BioChatter Light is a web app based on the Streamlit framework (version 1.31.1, [https://streamlit.io](https://streamlit.io)), which is written in Python and can be deployed locally or on a server ([https://github.com/biocypher/biochatter-light](https://github.com/biocypher/biochatter-light)). The ease with which Streamlit allows the creation of interactive web apps in pure Python enables rapid iteration and agile development of new features, with the tradeoff of limited customisation and scalability. This framework is suitable for rapid prototyping of bespoke solutions for specific use cases. For an up-to-date overview and preview of the current functionality of the platform, please visit the [online preview](https://chat.biocypher.org).',\n",
       " 'BioChatter Light is a web app based on the Streamlit framework (version 1.31.1, [https://streamlit.io](https://streamlit.io)), which is written in Python and can be deployed locally or on a server ([https://github.com/biocypher/biochatter-light](https://github.com/biocypher/biochatter-light)). The ease with which Streamlit allows the creation of interactive web apps in pure Python enables rapid iteration and agile development of new features, with the tradeoff of limited customization and scalability. This framework is suitable for rapid prototyping of bespoke solutions for specific use cases. For an up-to-date overview and preview of the current functionality of the platform, please visit the [online preview](https://chat.biocypher.org).')"
      ]
     },
     "metadata": {},
     "output_type": "display_data"
    }
   ],
   "source": [
    "display(paragraph_matches[-1])"
   ]
  },
  {
   "cell_type": "markdown",
   "id": "c9818db3-fe11-4d06-82b7-e7cd5a83b5b9",
   "metadata": {
    "editable": true,
    "papermill": {
     "duration": 0.026445,
     "end_time": "2024-03-20T08:20:12.484024",
     "exception": false,
     "start_time": "2024-03-20T08:20:12.457579",
     "status": "completed"
    },
    "slideshow": {
     "slide_type": ""
    },
    "tags": []
   },
   "source": [
    "####  Paragraph 02"
   ]
  },
  {
   "cell_type": "code",
   "execution_count": 150,
   "id": "bfe91365-6b1a-49f1-aad9-a2afb9cea749",
   "metadata": {
    "execution": {
     "iopub.execute_input": "2024-03-20T08:20:12.538337Z",
     "iopub.status.busy": "2024-03-20T08:20:12.538149Z",
     "iopub.status.idle": "2024-03-20T08:20:12.541422Z",
     "shell.execute_reply": "2024-03-20T08:20:12.540918Z"
    },
    "papermill": {
     "duration": 0.031459,
     "end_time": "2024-03-20T08:20:12.542119",
     "exception": false,
     "start_time": "2024-03-20T08:20:12.510660",
     "status": "completed"
    },
    "tags": []
   },
   "outputs": [
    {
     "name": "stdout",
     "output_type": "stream",
     "text": [
      "BioChatter Next ([https://github.com/biocypher/biochatter-next](https://github.com/biocypher/biochatter-next)) is a modern web app with server-client architecture, based on the open-source template of ChatGPT-Next-Web ([https://github.com/ChatGPTNextWeb/ChatGPT-Next-Web](https://github.com/ChatGPTNextWeb/ChatGPT-Next-Web)). It is written combining Typescript and Python and uses Next.js (v13.4.9) for a sleek frontend and Flask (v3.0.0) as backend. It demonstrates the use of BioChatter in a modern web app, including full customisation and scalability and localisation in 18 languages. However, this comes at the cost of increased complexity and development time. To provide seamless integration of the BioChatter backend into existing frontend solutions, we provide the server implementation at [https://github.com/biocypher/biochatter-server](https://github.com/biocypher/biochatter-server) and as a Docker image in our Docker Hub organisation ([https://hub.docker.com/repository/docker/biocypher/biochatter-server](https://hub.docker.com/repository/docker/biocypher/biochatter-server)).\n"
     ]
    }
   ],
   "source": [
    "par0 = process_paragraph(orig_section_paragraphs[5])\n",
    "print(par0)"
   ]
  },
  {
   "cell_type": "code",
   "execution_count": 151,
   "id": "dcaae92f-3c45-49dc-ba24-2dc98c3c8e15",
   "metadata": {
    "execution": {
     "iopub.execute_input": "2024-03-20T08:20:12.596967Z",
     "iopub.status.busy": "2024-03-20T08:20:12.596781Z",
     "iopub.status.idle": "2024-03-20T08:20:12.600139Z",
     "shell.execute_reply": "2024-03-20T08:20:12.599640Z"
    },
    "papermill": {
     "duration": 0.031449,
     "end_time": "2024-03-20T08:20:12.600830",
     "exception": false,
     "start_time": "2024-03-20T08:20:12.569381",
     "status": "completed"
    },
    "tags": []
   },
   "outputs": [
    {
     "name": "stdout",
     "output_type": "stream",
     "text": [
      "BioChatter Next ([https://github.com/biocypher/biochatter-next](https://github.com/biocypher/biochatter-next)) is a contemporary web application with a server-client architecture, built upon the open-source framework of ChatGPT-Next-Web ([https://github.com/ChatGPTNextWeb/ChatGPT-Next-Web](https://github.com/ChatGPTNextWeb/ChatGPT-Next-Web)). It is developed using a combination of Typescript and Python, utilizing Next.js (v13.4.9) for the frontend and Flask (v3.0.0) for the backend. The platform showcases the application of BioChatter within a modern web environment, offering extensive customization, scalability, and support for localization in 18 languages. Nevertheless, this enhanced functionality is accompanied by increased complexity and longer development cycles. To facilitate the seamless integration of the BioChatter backend with existing frontend solutions, we offer the server implementation at [https://github.com/biocypher/biochatter-server](https://github.com/biocypher/biochatter-server), as well as a Docker image within our Docker Hub organization ([https://hub.docker.com/repository/docker/biocypher/biochatter-server](https://hub.docker.com/repository/docker/biocypher/biochatter-server)).\n"
     ]
    }
   ],
   "source": [
    "par1 = process_paragraph(\n",
    "    mod_section_paragraphs[6]\n",
    ")  # .replace(\"$$\", \"\\n$$\").replace(\"\\\\text\", \"\\n\\\\text\")\n",
    "print(par1)"
   ]
  },
  {
   "cell_type": "code",
   "execution_count": 152,
   "id": "f43ab221-c1c5-45e3-8a44-af21ca74a69c",
   "metadata": {
    "execution": {
     "iopub.execute_input": "2024-03-20T08:20:12.655620Z",
     "iopub.status.busy": "2024-03-20T08:20:12.655431Z",
     "iopub.status.idle": "2024-03-20T08:20:12.658260Z",
     "shell.execute_reply": "2024-03-20T08:20:12.657732Z"
    },
    "papermill": {
     "duration": 0.031188,
     "end_time": "2024-03-20T08:20:12.658947",
     "exception": false,
     "start_time": "2024-03-20T08:20:12.627759",
     "status": "completed"
    },
    "tags": []
   },
   "outputs": [],
   "source": [
    "paragraph_matches.append(\n",
    "    (\n",
    "        section_name,\n",
    "        par0,\n",
    "        par1,\n",
    "    )\n",
    ")"
   ]
  },
  {
   "cell_type": "code",
   "execution_count": 153,
   "id": "cb5e98ce-ae69-47da-a99c-ced5b15c0320",
   "metadata": {
    "execution": {
     "iopub.execute_input": "2024-03-20T08:20:12.713786Z",
     "iopub.status.busy": "2024-03-20T08:20:12.713598Z",
     "iopub.status.idle": "2024-03-20T08:20:12.717313Z",
     "shell.execute_reply": "2024-03-20T08:20:12.716826Z"
    },
    "papermill": {
     "duration": 0.031828,
     "end_time": "2024-03-20T08:20:12.718026",
     "exception": false,
     "start_time": "2024-03-20T08:20:12.686198",
     "status": "completed"
    },
    "tags": []
   },
   "outputs": [
    {
     "data": {
      "text/plain": [
       "('methods',\n",
       " 'BioChatter Next ([https://github.com/biocypher/biochatter-next](https://github.com/biocypher/biochatter-next)) is a modern web app with server-client architecture, based on the open-source template of ChatGPT-Next-Web ([https://github.com/ChatGPTNextWeb/ChatGPT-Next-Web](https://github.com/ChatGPTNextWeb/ChatGPT-Next-Web)). It is written combining Typescript and Python and uses Next.js (v13.4.9) for a sleek frontend and Flask (v3.0.0) as backend. It demonstrates the use of BioChatter in a modern web app, including full customisation and scalability and localisation in 18 languages. However, this comes at the cost of increased complexity and development time. To provide seamless integration of the BioChatter backend into existing frontend solutions, we provide the server implementation at [https://github.com/biocypher/biochatter-server](https://github.com/biocypher/biochatter-server) and as a Docker image in our Docker Hub organisation ([https://hub.docker.com/repository/docker/biocypher/biochatter-server](https://hub.docker.com/repository/docker/biocypher/biochatter-server)).',\n",
       " 'BioChatter Next ([https://github.com/biocypher/biochatter-next](https://github.com/biocypher/biochatter-next)) is a contemporary web application with a server-client architecture, built upon the open-source framework of ChatGPT-Next-Web ([https://github.com/ChatGPTNextWeb/ChatGPT-Next-Web](https://github.com/ChatGPTNextWeb/ChatGPT-Next-Web)). It is developed using a combination of Typescript and Python, utilizing Next.js (v13.4.9) for the frontend and Flask (v3.0.0) for the backend. The platform showcases the application of BioChatter within a modern web environment, offering extensive customization, scalability, and support for localization in 18 languages. Nevertheless, this enhanced functionality is accompanied by increased complexity and longer development cycles. To facilitate the seamless integration of the BioChatter backend with existing frontend solutions, we offer the server implementation at [https://github.com/biocypher/biochatter-server](https://github.com/biocypher/biochatter-server), as well as a Docker image within our Docker Hub organization ([https://hub.docker.com/repository/docker/biocypher/biochatter-server](https://hub.docker.com/repository/docker/biocypher/biochatter-server)).')"
      ]
     },
     "metadata": {},
     "output_type": "display_data"
    }
   ],
   "source": [
    "display(paragraph_matches[-1])"
   ]
  },
  {
   "cell_type": "markdown",
   "id": "a18b3948-644c-4f26-91b5-5ffca2a3ea11",
   "metadata": {
    "editable": true,
    "papermill": {
     "duration": 0.026808,
     "end_time": "2024-03-20T08:20:12.771906",
     "exception": false,
     "start_time": "2024-03-20T08:20:12.745098",
     "status": "completed"
    },
    "slideshow": {
     "slide_type": ""
    },
    "tags": []
   },
   "source": [
    "####  Paragraph 03"
   ]
  },
  {
   "cell_type": "code",
   "execution_count": 154,
   "id": "a652e5d5-a65c-4412-b751-34ce3eacc102",
   "metadata": {
    "execution": {
     "iopub.execute_input": "2024-03-20T08:20:12.826552Z",
     "iopub.status.busy": "2024-03-20T08:20:12.826364Z",
     "iopub.status.idle": "2024-03-20T08:20:12.829568Z",
     "shell.execute_reply": "2024-03-20T08:20:12.829061Z"
    },
    "papermill": {
     "duration": 0.031378,
     "end_time": "2024-03-20T08:20:12.830249",
     "exception": false,
     "start_time": "2024-03-20T08:20:12.798871",
     "status": "completed"
    },
    "tags": []
   },
   "outputs": [
    {
     "name": "stdout",
     "output_type": "stream",
     "text": [
      "The benchmarking framework examines a matrix of component combinations using the parameterisation feature of Pytest [@pytest]. This implementation allows for the automated evaluation of all possible combinations of components, such as LLMs, prompts, and datasets. We performed the benchmarks on a MacBook Pro with an M3 Max chip with 40-core GPU and 128GB of RAM. As a default, we ran each test five times to account for the stochastic nature of LLMs. We generally set the temperature to the lowest value possible for each model to decrease fluctuation.\n"
     ]
    }
   ],
   "source": [
    "par0 = process_paragraph(orig_section_paragraphs[8])\n",
    "print(par0)"
   ]
  },
  {
   "cell_type": "code",
   "execution_count": 155,
   "id": "a7c95523-893b-442c-85ea-674524be26c8",
   "metadata": {
    "execution": {
     "iopub.execute_input": "2024-03-20T08:20:12.885005Z",
     "iopub.status.busy": "2024-03-20T08:20:12.884820Z",
     "iopub.status.idle": "2024-03-20T08:20:12.888112Z",
     "shell.execute_reply": "2024-03-20T08:20:12.887626Z"
    },
    "papermill": {
     "duration": 0.031632,
     "end_time": "2024-03-20T08:20:12.888808",
     "exception": false,
     "start_time": "2024-03-20T08:20:12.857176",
     "status": "completed"
    },
    "tags": []
   },
   "outputs": [
    {
     "name": "stdout",
     "output_type": "stream",
     "text": [
      "The benchmarking framework examines a matrix of component combinations using the parameterization feature of Pytest [@pytest]. This implementation allows for the automated evaluation of all possible combinations of components, such as Large Language Models (LLMs), prompts, and datasets. We performed the benchmarks on a MacBook Pro with an M3 Max chip with a 40-core GPU and 128GB of RAM. As a default, we ran each test five times to account for the stochastic nature of LLMs. We generally set the temperature to the lowest value possible for each model to decrease fluctuation. \n",
      "$$ \\text{Symbols:}\\\\ \\text{LLMs} - \\text{Large Language Models} \n",
      "$$\n"
     ]
    }
   ],
   "source": [
    "par1 = process_paragraph(mod_section_paragraphs[9:11]).replace(\n",
    "    \"$$\", \"\\n$$\"\n",
    ")  # .replace(\"\\\\text\\{LLM\", \"\\n\\\\text\\{LLM\")\n",
    "print(par1)"
   ]
  },
  {
   "cell_type": "code",
   "execution_count": 156,
   "id": "e06c1ab6-bf77-40ee-af24-0fbd08388bd4",
   "metadata": {
    "execution": {
     "iopub.execute_input": "2024-03-20T08:20:12.943587Z",
     "iopub.status.busy": "2024-03-20T08:20:12.943401Z",
     "iopub.status.idle": "2024-03-20T08:20:12.946195Z",
     "shell.execute_reply": "2024-03-20T08:20:12.945662Z"
    },
    "papermill": {
     "duration": 0.031023,
     "end_time": "2024-03-20T08:20:12.946873",
     "exception": false,
     "start_time": "2024-03-20T08:20:12.915850",
     "status": "completed"
    },
    "tags": []
   },
   "outputs": [],
   "source": [
    "paragraph_matches.append(\n",
    "    (\n",
    "        section_name,\n",
    "        par0,\n",
    "        par1,\n",
    "    )\n",
    ")"
   ]
  },
  {
   "cell_type": "code",
   "execution_count": 157,
   "id": "a7b9498f-caeb-48a4-bc85-f123bfa6c3cc",
   "metadata": {
    "execution": {
     "iopub.execute_input": "2024-03-20T08:20:13.001814Z",
     "iopub.status.busy": "2024-03-20T08:20:13.001444Z",
     "iopub.status.idle": "2024-03-20T08:20:13.005100Z",
     "shell.execute_reply": "2024-03-20T08:20:13.004614Z"
    },
    "papermill": {
     "duration": 0.031835,
     "end_time": "2024-03-20T08:20:13.005770",
     "exception": false,
     "start_time": "2024-03-20T08:20:12.973935",
     "status": "completed"
    },
    "tags": []
   },
   "outputs": [
    {
     "data": {
      "text/plain": [
       "('methods',\n",
       " 'The benchmarking framework examines a matrix of component combinations using the parameterisation feature of Pytest [@pytest]. This implementation allows for the automated evaluation of all possible combinations of components, such as LLMs, prompts, and datasets. We performed the benchmarks on a MacBook Pro with an M3 Max chip with 40-core GPU and 128GB of RAM. As a default, we ran each test five times to account for the stochastic nature of LLMs. We generally set the temperature to the lowest value possible for each model to decrease fluctuation.',\n",
       " 'The benchmarking framework examines a matrix of component combinations using the parameterization feature of Pytest [@pytest]. This implementation allows for the automated evaluation of all possible combinations of components, such as Large Language Models (LLMs), prompts, and datasets. We performed the benchmarks on a MacBook Pro with an M3 Max chip with a 40-core GPU and 128GB of RAM. As a default, we ran each test five times to account for the stochastic nature of LLMs. We generally set the temperature to the lowest value possible for each model to decrease fluctuation. \\n$$ \\\\text{Symbols:}\\\\\\\\ \\\\text{LLMs} - \\\\text{Large Language Models} \\n$$')"
      ]
     },
     "metadata": {},
     "output_type": "display_data"
    }
   ],
   "source": [
    "display(paragraph_matches[-1])"
   ]
  },
  {
   "cell_type": "markdown",
   "id": "4c7f5b06-bff6-48c6-923a-a15d42583f01",
   "metadata": {
    "editable": true,
    "papermill": {
     "duration": 0.027059,
     "end_time": "2024-03-20T08:20:13.060135",
     "exception": false,
     "start_time": "2024-03-20T08:20:13.033076",
     "status": "completed"
    },
    "slideshow": {
     "slide_type": ""
    },
    "tags": []
   },
   "source": [
    "####  Paragraph 04"
   ]
  },
  {
   "cell_type": "code",
   "execution_count": 158,
   "id": "63ac3958-4064-479b-a200-07dc7fa08306",
   "metadata": {
    "execution": {
     "iopub.execute_input": "2024-03-20T08:20:13.117365Z",
     "iopub.status.busy": "2024-03-20T08:20:13.116850Z",
     "iopub.status.idle": "2024-03-20T08:20:13.120616Z",
     "shell.execute_reply": "2024-03-20T08:20:13.120092Z"
    },
    "papermill": {
     "duration": 0.034139,
     "end_time": "2024-03-20T08:20:13.121408",
     "exception": false,
     "start_time": "2024-03-20T08:20:13.087269",
     "status": "completed"
    },
    "tags": []
   },
   "outputs": [
    {
     "name": "stdout",
     "output_type": "stream",
     "text": [
      "The Pytest matrix uses a hash-based system to evaluate whether a model-dataset combination has been run before. Briefly, the hash is calculated from the dictionary representation of the test parameters, and the test is skipped if the combination of hash and model name is already present in the database. This hashing optimises for efficiency by only running modified or newly added tests. The individual dimensions of the matrix are:\n",
      "- **LLMs**: Testing proprietary (OpenAI) and open-source models (commonly using the Xorbits Inference API and HuggingFace models) against the same set of tasks is the primary aim of our benchmarking framework. We facilitate the automation of testing by including a programmatic way of deploying open-source models.\n",
      "- **prompts**: Since model performance can dramatically rely on the used prompts, a set of prompts for each task with varying degrees of specificity and fixed as well as variable components is used to evaluate this variability.\n",
      "- **datasets**: We test various tasks using a set of datasets for each task in question-answer-style.\n",
      "- **data processing**: Some data processing steps can have great impact on the downstream performance of LLMs. For instance, we test the conversion of numbers (which LLMs are notoriously bad at handling) to categorical text (e.g., low, medium, high).\n",
      "- **model quantisations**: We test a set of quantisations for each model (where available) to account for the trade-off between model size, inference speed, and performance.\n",
      "- **model parameters**: Where suitable, we test a set of parameters for each model, such as \"temperature,\" which determines the reproducibility of model responses.\n",
      "- **integrations**: We write dedicated tests for specific tasks that require integrations, for instance with knowledge graphs or vector databases.\n",
      "- **stochasticity**: To account for variability in model responses, we include a parameter to run each test multiple times and generate summary statistics.\n",
      "- **sentiment and behaviour**: To assess whether the models exhibit the desired behaviour patterns for each of the personas, we let a second LLM evaluate the responses based on a set of criteria, including professionalism and politeness.\n"
     ]
    }
   ],
   "source": [
    "par0 = process_paragraph(orig_section_paragraphs[9:19]).replace(\" - \", \"\\n- \")\n",
    "print(par0)"
   ]
  },
  {
   "cell_type": "code",
   "execution_count": 159,
   "id": "4d34e503-4908-444e-a214-f38f1f7734ee",
   "metadata": {
    "execution": {
     "iopub.execute_input": "2024-03-20T08:20:13.176809Z",
     "iopub.status.busy": "2024-03-20T08:20:13.176620Z",
     "iopub.status.idle": "2024-03-20T08:20:13.180053Z",
     "shell.execute_reply": "2024-03-20T08:20:13.179540Z"
    },
    "papermill": {
     "duration": 0.031788,
     "end_time": "2024-03-20T08:20:13.180794",
     "exception": false,
     "start_time": "2024-03-20T08:20:13.149006",
     "status": "completed"
    },
    "tags": []
   },
   "outputs": [
    {
     "name": "stdout",
     "output_type": "stream",
     "text": [
      "The Pytest matrix utilizes a hash-based system to determine if a model-dataset combination has been previously executed. In essence, the hash is computed from the dictionary representation of the test parameters, and the test is skipped if the hash combined with the model name already exists in the database. This hashing strategy optimizes efficiency by only executing modified or newly added tests. The key dimensions of the matrix include:\n",
      "- **LLMs**: The primary objective of our benchmarking framework is to test both proprietary (OpenAI) and open-source models (commonly leveraging the Xorbits Inference API and HuggingFace models) against the same set of tasks. We streamline the testing process by incorporating a programmatic approach to deploying open-source models.\n",
      "- **prompts**: Given that model performance can significantly depend on the prompts used, we employ a range of prompts for each task with varying levels of specificity and components that are fixed or variable to assess this variability.\n",
      "- **datasets**: Various tasks are tested using specific datasets structured in a question-answer format.\n",
      "- **data processing**: Certain data processing steps can significantly impact the subsequent performance of LLMs. For example, we evaluate the conversion of numbers (which LLMs often struggle with) into categorical text (e.g., low, medium, high).\n",
      "- **model quantizations**: We assess a variety of quantizations for each model (where applicable) to consider the trade-off between model size, inference speed, and performance.\n",
      "- **model parameters**: When appropriate, we examine a range of parameters for each model, such as \"temperature,\" which influences the reproducibility of model outputs.\n",
      "- **integrations**: Dedicated tests are developed for specific tasks that necessitate integrations, such as with knowledge graphs or vector databases.\n",
      "- **stochasticity**: To address the variability in model responses, we incorporate a parameter to run each test multiple times and generate summary statistics.\n",
      "- **sentiment and behavior**: To evaluate whether the models demonstrate the desired behavior patterns for different personas, we employ a second LLM to assess the responses based on criteria like professionalism and politeness.\n"
     ]
    }
   ],
   "source": [
    "par1 = process_paragraph(mod_section_paragraphs[11:21]).replace(\" - \", \"\\n- \")\n",
    "print(par1)"
   ]
  },
  {
   "cell_type": "code",
   "execution_count": 160,
   "id": "94daea43-a362-4c43-b008-508e4be5c4ff",
   "metadata": {
    "execution": {
     "iopub.execute_input": "2024-03-20T08:20:13.236625Z",
     "iopub.status.busy": "2024-03-20T08:20:13.236407Z",
     "iopub.status.idle": "2024-03-20T08:20:13.239377Z",
     "shell.execute_reply": "2024-03-20T08:20:13.238872Z"
    },
    "papermill": {
     "duration": 0.032047,
     "end_time": "2024-03-20T08:20:13.240267",
     "exception": false,
     "start_time": "2024-03-20T08:20:13.208220",
     "status": "completed"
    },
    "tags": []
   },
   "outputs": [],
   "source": [
    "paragraph_matches.append(\n",
    "    (\n",
    "        section_name,\n",
    "        par0,\n",
    "        par1,\n",
    "    )\n",
    ")"
   ]
  },
  {
   "cell_type": "code",
   "execution_count": 161,
   "id": "713da4ef-4e0e-469a-805a-363d42130f66",
   "metadata": {
    "execution": {
     "iopub.execute_input": "2024-03-20T08:20:13.297540Z",
     "iopub.status.busy": "2024-03-20T08:20:13.297085Z",
     "iopub.status.idle": "2024-03-20T08:20:13.300900Z",
     "shell.execute_reply": "2024-03-20T08:20:13.300423Z"
    },
    "papermill": {
     "duration": 0.033154,
     "end_time": "2024-03-20T08:20:13.301621",
     "exception": false,
     "start_time": "2024-03-20T08:20:13.268467",
     "status": "completed"
    },
    "tags": []
   },
   "outputs": [
    {
     "data": {
      "text/plain": [
       "('methods',\n",
       " 'The Pytest matrix uses a hash-based system to evaluate whether a model-dataset combination has been run before. Briefly, the hash is calculated from the dictionary representation of the test parameters, and the test is skipped if the combination of hash and model name is already present in the database. This hashing optimises for efficiency by only running modified or newly added tests. The individual dimensions of the matrix are:\\n- **LLMs**: Testing proprietary (OpenAI) and open-source models (commonly using the Xorbits Inference API and HuggingFace models) against the same set of tasks is the primary aim of our benchmarking framework. We facilitate the automation of testing by including a programmatic way of deploying open-source models.\\n- **prompts**: Since model performance can dramatically rely on the used prompts, a set of prompts for each task with varying degrees of specificity and fixed as well as variable components is used to evaluate this variability.\\n- **datasets**: We test various tasks using a set of datasets for each task in question-answer-style.\\n- **data processing**: Some data processing steps can have great impact on the downstream performance of LLMs. For instance, we test the conversion of numbers (which LLMs are notoriously bad at handling) to categorical text (e.g., low, medium, high).\\n- **model quantisations**: We test a set of quantisations for each model (where available) to account for the trade-off between model size, inference speed, and performance.\\n- **model parameters**: Where suitable, we test a set of parameters for each model, such as \"temperature,\" which determines the reproducibility of model responses.\\n- **integrations**: We write dedicated tests for specific tasks that require integrations, for instance with knowledge graphs or vector databases.\\n- **stochasticity**: To account for variability in model responses, we include a parameter to run each test multiple times and generate summary statistics.\\n- **sentiment and behaviour**: To assess whether the models exhibit the desired behaviour patterns for each of the personas, we let a second LLM evaluate the responses based on a set of criteria, including professionalism and politeness.',\n",
       " 'The Pytest matrix utilizes a hash-based system to determine if a model-dataset combination has been previously executed. In essence, the hash is computed from the dictionary representation of the test parameters, and the test is skipped if the hash combined with the model name already exists in the database. This hashing strategy optimizes efficiency by only executing modified or newly added tests. The key dimensions of the matrix include:\\n- **LLMs**: The primary objective of our benchmarking framework is to test both proprietary (OpenAI) and open-source models (commonly leveraging the Xorbits Inference API and HuggingFace models) against the same set of tasks. We streamline the testing process by incorporating a programmatic approach to deploying open-source models.\\n- **prompts**: Given that model performance can significantly depend on the prompts used, we employ a range of prompts for each task with varying levels of specificity and components that are fixed or variable to assess this variability.\\n- **datasets**: Various tasks are tested using specific datasets structured in a question-answer format.\\n- **data processing**: Certain data processing steps can significantly impact the subsequent performance of LLMs. For example, we evaluate the conversion of numbers (which LLMs often struggle with) into categorical text (e.g., low, medium, high).\\n- **model quantizations**: We assess a variety of quantizations for each model (where applicable) to consider the trade-off between model size, inference speed, and performance.\\n- **model parameters**: When appropriate, we examine a range of parameters for each model, such as \"temperature,\" which influences the reproducibility of model outputs.\\n- **integrations**: Dedicated tests are developed for specific tasks that necessitate integrations, such as with knowledge graphs or vector databases.\\n- **stochasticity**: To address the variability in model responses, we incorporate a parameter to run each test multiple times and generate summary statistics.\\n- **sentiment and behavior**: To evaluate whether the models demonstrate the desired behavior patterns for different personas, we employ a second LLM to assess the responses based on criteria like professionalism and politeness.')"
      ]
     },
     "metadata": {},
     "output_type": "display_data"
    }
   ],
   "source": [
    "display(paragraph_matches[-1])"
   ]
  },
  {
   "cell_type": "markdown",
   "id": "54d6a6fa-eca7-4dfe-9480-4c731135243e",
   "metadata": {
    "editable": true,
    "papermill": {
     "duration": 0.027195,
     "end_time": "2024-03-20T08:20:13.356576",
     "exception": false,
     "start_time": "2024-03-20T08:20:13.329381",
     "status": "completed"
    },
    "slideshow": {
     "slide_type": ""
    },
    "tags": []
   },
   "source": [
    "####  Paragraph 05"
   ]
  },
  {
   "cell_type": "code",
   "execution_count": 162,
   "id": "11ae83fb-2b83-4851-b1e1-b41b7e9d7986",
   "metadata": {
    "execution": {
     "iopub.execute_input": "2024-03-20T08:20:13.412163Z",
     "iopub.status.busy": "2024-03-20T08:20:13.411973Z",
     "iopub.status.idle": "2024-03-20T08:20:13.415220Z",
     "shell.execute_reply": "2024-03-20T08:20:13.414711Z"
    },
    "papermill": {
     "duration": 0.032093,
     "end_time": "2024-03-20T08:20:13.415932",
     "exception": false,
     "start_time": "2024-03-20T08:20:13.383839",
     "status": "completed"
    },
    "tags": []
   },
   "outputs": [
    {
     "name": "stdout",
     "output_type": "stream",
     "text": [
      "To prevent leakage of benchmarking data (and subsequent contamination of future LLMs), we implement an encryption routine on the benchmark datasets. The encryption is performed using a hybrid encryption scheme, where the data are encrypted with a symmetric key, which is in turn encrypted with an asymmetric key. The datasets are stored in a dedicated encrypted pipeline that is only accessible to the workflow that executes the benchmark. These processes are implemented at [https://github.com/biocypher/llm-test-dataset](https://github.com/biocypher/llm-test-dataset) and accessed from the benchmark procedure in BioChatter.\n"
     ]
    }
   ],
   "source": [
    "par0 = process_paragraph(orig_section_paragraphs[20])\n",
    "print(par0)"
   ]
  },
  {
   "cell_type": "code",
   "execution_count": 163,
   "id": "dc147a44-585a-4f7e-9d88-eb8fd67046b4",
   "metadata": {
    "execution": {
     "iopub.execute_input": "2024-03-20T08:20:13.471571Z",
     "iopub.status.busy": "2024-03-20T08:20:13.471386Z",
     "iopub.status.idle": "2024-03-20T08:20:13.474771Z",
     "shell.execute_reply": "2024-03-20T08:20:13.474186Z"
    },
    "papermill": {
     "duration": 0.032047,
     "end_time": "2024-03-20T08:20:13.475498",
     "exception": false,
     "start_time": "2024-03-20T08:20:13.443451",
     "status": "completed"
    },
    "tags": []
   },
   "outputs": [
    {
     "name": "stdout",
     "output_type": "stream",
     "text": [
      "To prevent leakage of benchmarking data (and subsequent contamination of future LLMs), an encryption routine is implemented on the benchmark datasets. The encryption is carried out using a hybrid encryption scheme, where the data are encrypted with a symmetric key, which is then encrypted with an asymmetric key. The datasets are stored in a dedicated encrypted pipeline that is exclusively accessible to the workflow executing the benchmark. These processes are implemented at [https://github.com/biocypher/llm-test-dataset](https://github.com/biocypher/llm-test-dataset) and accessed from the benchmark procedure in BioChatter.\n"
     ]
    }
   ],
   "source": [
    "par1 = process_paragraph(mod_section_paragraphs[24])\n",
    "print(par1)"
   ]
  },
  {
   "cell_type": "code",
   "execution_count": 164,
   "id": "23b6d12e-52ec-40fc-923e-b34eadee4100",
   "metadata": {
    "execution": {
     "iopub.execute_input": "2024-03-20T08:20:13.558511Z",
     "iopub.status.busy": "2024-03-20T08:20:13.558318Z",
     "iopub.status.idle": "2024-03-20T08:20:13.561232Z",
     "shell.execute_reply": "2024-03-20T08:20:13.560734Z"
    },
    "papermill": {
     "duration": 0.034615,
     "end_time": "2024-03-20T08:20:13.562044",
     "exception": false,
     "start_time": "2024-03-20T08:20:13.527429",
     "status": "completed"
    },
    "tags": []
   },
   "outputs": [],
   "source": [
    "paragraph_matches.append(\n",
    "    (\n",
    "        section_name,\n",
    "        par0,\n",
    "        par1,\n",
    "    )\n",
    ")"
   ]
  },
  {
   "cell_type": "code",
   "execution_count": 165,
   "id": "775b6f72-4f82-4c4b-99eb-9aba711c6290",
   "metadata": {
    "execution": {
     "iopub.execute_input": "2024-03-20T08:20:13.619388Z",
     "iopub.status.busy": "2024-03-20T08:20:13.619201Z",
     "iopub.status.idle": "2024-03-20T08:20:13.622896Z",
     "shell.execute_reply": "2024-03-20T08:20:13.622390Z"
    },
    "papermill": {
     "duration": 0.033184,
     "end_time": "2024-03-20T08:20:13.623699",
     "exception": false,
     "start_time": "2024-03-20T08:20:13.590515",
     "status": "completed"
    },
    "tags": []
   },
   "outputs": [
    {
     "data": {
      "text/plain": [
       "('methods',\n",
       " 'To prevent leakage of benchmarking data (and subsequent contamination of future LLMs), we implement an encryption routine on the benchmark datasets. The encryption is performed using a hybrid encryption scheme, where the data are encrypted with a symmetric key, which is in turn encrypted with an asymmetric key. The datasets are stored in a dedicated encrypted pipeline that is only accessible to the workflow that executes the benchmark. These processes are implemented at [https://github.com/biocypher/llm-test-dataset](https://github.com/biocypher/llm-test-dataset) and accessed from the benchmark procedure in BioChatter.',\n",
       " 'To prevent leakage of benchmarking data (and subsequent contamination of future LLMs), an encryption routine is implemented on the benchmark datasets. The encryption is carried out using a hybrid encryption scheme, where the data are encrypted with a symmetric key, which is then encrypted with an asymmetric key. The datasets are stored in a dedicated encrypted pipeline that is exclusively accessible to the workflow executing the benchmark. These processes are implemented at [https://github.com/biocypher/llm-test-dataset](https://github.com/biocypher/llm-test-dataset) and accessed from the benchmark procedure in BioChatter.')"
      ]
     },
     "metadata": {},
     "output_type": "display_data"
    }
   ],
   "source": [
    "display(paragraph_matches[-1])"
   ]
  },
  {
   "cell_type": "markdown",
   "id": "174a4838-5866-4909-b38f-93988b88c5e8",
   "metadata": {
    "editable": true,
    "papermill": {
     "duration": 0.027679,
     "end_time": "2024-03-20T08:20:13.679811",
     "exception": false,
     "start_time": "2024-03-20T08:20:13.652132",
     "status": "completed"
    },
    "slideshow": {
     "slide_type": ""
    },
    "tags": []
   },
   "source": [
    "####  Paragraph 06"
   ]
  },
  {
   "cell_type": "code",
   "execution_count": 166,
   "id": "c14fb275-9f57-4ac2-9812-63851460b897",
   "metadata": {
    "execution": {
     "iopub.execute_input": "2024-03-20T08:20:13.737046Z",
     "iopub.status.busy": "2024-03-20T08:20:13.736535Z",
     "iopub.status.idle": "2024-03-20T08:20:13.740030Z",
     "shell.execute_reply": "2024-03-20T08:20:13.739500Z"
    },
    "papermill": {
     "duration": 0.033076,
     "end_time": "2024-03-20T08:20:13.740806",
     "exception": false,
     "start_time": "2024-03-20T08:20:13.707730",
     "status": "completed"
    },
    "tags": []
   },
   "outputs": [
    {
     "name": "stdout",
     "output_type": "stream",
     "text": [
      "We utilise the close connection between BioChatter and the BioCypher framework [@biocypher] to integrate knowledge graph (KG) queries into the BioChatter API. In the BioCypher KG creation, we use a configuration file to map KG contents to ontology terms, including information about each of the entities. For instance, we detail the properties of a node and the source and target classes of an edge. Additionally, during the KG build process, we enrich this information and save it to a YAML file and, optionally, directly to the KG. This information is used by BioChatter to tune its understanding of the KG, which allows the LLM to query the KG more efficiently.\n"
     ]
    }
   ],
   "source": [
    "par0 = process_paragraph(orig_section_paragraphs[22])\n",
    "print(par0)"
   ]
  },
  {
   "cell_type": "code",
   "execution_count": 167,
   "id": "d72b58d5-6ef6-4199-980c-eec29b3db382",
   "metadata": {
    "execution": {
     "iopub.execute_input": "2024-03-20T08:20:13.798645Z",
     "iopub.status.busy": "2024-03-20T08:20:13.798028Z",
     "iopub.status.idle": "2024-03-20T08:20:13.801273Z",
     "shell.execute_reply": "2024-03-20T08:20:13.800760Z"
    },
    "papermill": {
     "duration": 0.032921,
     "end_time": "2024-03-20T08:20:13.802031",
     "exception": false,
     "start_time": "2024-03-20T08:20:13.769110",
     "status": "completed"
    },
    "tags": []
   },
   "outputs": [
    {
     "name": "stdout",
     "output_type": "stream",
     "text": [
      "We utilize the close connection between BioChatter and the BioCypher framework (Johnson et al., 2020) to integrate knowledge graph (KG) queries into the BioChatter API. In the BioCypher KG creation, we use a configuration file to map KG contents to ontology terms, including information about each of the entities. For instance, we detail the properties of a node and the source and target classes of an edge. Additionally, during the KG build process, we enrich this information and save it to a YAML file and, optionally, directly to the KG. This information is used by BioChatter to tune its understanding of the KG, which allows the Large Language Model (LLM) to query the KG more efficiently.\n"
     ]
    }
   ],
   "source": [
    "par1 = process_paragraph(mod_section_paragraphs[26])\n",
    "print(par1)"
   ]
  },
  {
   "cell_type": "code",
   "execution_count": 168,
   "id": "de69efcb-2718-4bb1-8f4b-64f980bdf599",
   "metadata": {
    "execution": {
     "iopub.execute_input": "2024-03-20T08:20:13.859389Z",
     "iopub.status.busy": "2024-03-20T08:20:13.858870Z",
     "iopub.status.idle": "2024-03-20T08:20:13.861728Z",
     "shell.execute_reply": "2024-03-20T08:20:13.861242Z"
    },
    "papermill": {
     "duration": 0.032336,
     "end_time": "2024-03-20T08:20:13.862470",
     "exception": false,
     "start_time": "2024-03-20T08:20:13.830134",
     "status": "completed"
    },
    "tags": []
   },
   "outputs": [],
   "source": [
    "paragraph_matches.append(\n",
    "    (\n",
    "        section_name,\n",
    "        par0,\n",
    "        par1,\n",
    "    )\n",
    ")"
   ]
  },
  {
   "cell_type": "code",
   "execution_count": 169,
   "id": "1895b737-b8f3-4cb9-ad02-f2c90c0e3288",
   "metadata": {
    "execution": {
     "iopub.execute_input": "2024-03-20T08:20:13.919787Z",
     "iopub.status.busy": "2024-03-20T08:20:13.919330Z",
     "iopub.status.idle": "2024-03-20T08:20:13.923117Z",
     "shell.execute_reply": "2024-03-20T08:20:13.922643Z"
    },
    "papermill": {
     "duration": 0.033155,
     "end_time": "2024-03-20T08:20:13.923836",
     "exception": false,
     "start_time": "2024-03-20T08:20:13.890681",
     "status": "completed"
    },
    "tags": []
   },
   "outputs": [
    {
     "data": {
      "text/plain": [
       "('methods',\n",
       " 'We utilise the close connection between BioChatter and the BioCypher framework [@biocypher] to integrate knowledge graph (KG) queries into the BioChatter API. In the BioCypher KG creation, we use a configuration file to map KG contents to ontology terms, including information about each of the entities. For instance, we detail the properties of a node and the source and target classes of an edge. Additionally, during the KG build process, we enrich this information and save it to a YAML file and, optionally, directly to the KG. This information is used by BioChatter to tune its understanding of the KG, which allows the LLM to query the KG more efficiently.',\n",
       " 'We utilize the close connection between BioChatter and the BioCypher framework (Johnson et al., 2020) to integrate knowledge graph (KG) queries into the BioChatter API. In the BioCypher KG creation, we use a configuration file to map KG contents to ontology terms, including information about each of the entities. For instance, we detail the properties of a node and the source and target classes of an edge. Additionally, during the KG build process, we enrich this information and save it to a YAML file and, optionally, directly to the KG. This information is used by BioChatter to tune its understanding of the KG, which allows the Large Language Model (LLM) to query the KG more efficiently.')"
      ]
     },
     "metadata": {},
     "output_type": "display_data"
    }
   ],
   "source": [
    "display(paragraph_matches[-1])"
   ]
  },
  {
   "cell_type": "markdown",
   "id": "173ec80c-0cd6-463f-86be-01d67b534293",
   "metadata": {
    "editable": true,
    "papermill": {
     "duration": 0.027849,
     "end_time": "2024-03-20T08:20:13.979604",
     "exception": false,
     "start_time": "2024-03-20T08:20:13.951755",
     "status": "completed"
    },
    "slideshow": {
     "slide_type": ""
    },
    "tags": []
   },
   "source": [
    "####  Paragraph 07"
   ]
  },
  {
   "cell_type": "code",
   "execution_count": 170,
   "id": "82850024-e286-412c-8957-e9ff2c640375",
   "metadata": {
    "execution": {
     "iopub.execute_input": "2024-03-20T08:20:14.036362Z",
     "iopub.status.busy": "2024-03-20T08:20:14.035847Z",
     "iopub.status.idle": "2024-03-20T08:20:14.039153Z",
     "shell.execute_reply": "2024-03-20T08:20:14.038644Z"
    },
    "papermill": {
     "duration": 0.03245,
     "end_time": "2024-03-20T08:20:14.039966",
     "exception": false,
     "start_time": "2024-03-20T08:20:14.007516",
     "status": "completed"
    },
    "tags": []
   },
   "outputs": [
    {
     "name": "stdout",
     "output_type": "stream",
     "text": [
      "By understanding the context of the KG, the exact contents, and the exact spelling of all identifiers and properties, we effectively support the LLM in generating correct queries. The query generation process is broken up into multiple steps by BioChatter: recognising entities and relationships according to the user's question, estimating properties to be used in the query, and generating a syntactically correct query in the query language of the database, based on the results from the previous steps and constraints given by the KG schema information. This procedure is implemented in the `prompts.py` module. To evaluate the quality of this process, we dedicate a module in the benchmark to the query generation process with a range of questions and KG schemata.\n"
     ]
    }
   ],
   "source": [
    "par0 = process_paragraph(orig_section_paragraphs[23])\n",
    "print(par0)"
   ]
  },
  {
   "cell_type": "code",
   "execution_count": 171,
   "id": "87751798-732e-4cc5-9102-e900ab03ea0b",
   "metadata": {
    "execution": {
     "iopub.execute_input": "2024-03-20T08:20:14.097113Z",
     "iopub.status.busy": "2024-03-20T08:20:14.096604Z",
     "iopub.status.idle": "2024-03-20T08:20:14.100374Z",
     "shell.execute_reply": "2024-03-20T08:20:14.099851Z"
    },
    "papermill": {
     "duration": 0.032988,
     "end_time": "2024-03-20T08:20:14.101121",
     "exception": false,
     "start_time": "2024-03-20T08:20:14.068133",
     "status": "completed"
    },
    "tags": []
   },
   "outputs": [
    {
     "name": "stdout",
     "output_type": "stream",
     "text": [
      "\n",
      "$$ \n",
      "\\text{BioCypher KG creation process:} \n",
      "$$ {#kg_creation}\n",
      "The BioCypher KG creation process involves using a configuration file to map KG contents to ontology terms. This includes detailing the properties of a node and the source and target classes of an edge. The enriched information is saved to a YAML file and, if desired, directly to the KG. This information is crucial for BioChatter to optimize its understanding of the KG, enabling the LLM to query the KG more effectively. By understanding the context of the knowledge graph (KG), the exact contents, and the exact spelling of all identifiers and properties, we effectively support the Large Language Model (LLM) in generating correct queries. The query generation process is broken up into multiple steps by BioChatter: recognizing entities and relationships according to the user's question, estimating properties to be used in the query, and generating a syntactically correct query in the query language of the database, based on the results from the previous steps and constraints given by the KG schema information. This procedure is implemented in the `prompts.py` module. $$ \\text{To evaluate the quality of this process, we dedicate a module in the benchmark to the query generation process with a range of questions and KG schemata.} $$\n"
     ]
    }
   ],
   "source": [
    "par1 = (\n",
    "    process_paragraph(mod_section_paragraphs[27:28])\n",
    "    .replace(\"$$\", \"\\n$$\")\n",
    "    .replace(\"\\\\text\", \"\\n\\\\text\")\n",
    "    + \"\\n\"\n",
    "    + process_paragraph(mod_section_paragraphs[28:31])\n",
    ")\n",
    "print(par1)"
   ]
  },
  {
   "cell_type": "code",
   "execution_count": 172,
   "id": "508cd603-49b6-4ba1-af1d-11e5bf2ed5bd",
   "metadata": {
    "execution": {
     "iopub.execute_input": "2024-03-20T08:20:14.158659Z",
     "iopub.status.busy": "2024-03-20T08:20:14.158097Z",
     "iopub.status.idle": "2024-03-20T08:20:14.161002Z",
     "shell.execute_reply": "2024-03-20T08:20:14.160505Z"
    },
    "papermill": {
     "duration": 0.032252,
     "end_time": "2024-03-20T08:20:14.161688",
     "exception": false,
     "start_time": "2024-03-20T08:20:14.129436",
     "status": "completed"
    },
    "tags": []
   },
   "outputs": [],
   "source": [
    "paragraph_matches.append(\n",
    "    (\n",
    "        section_name,\n",
    "        par0,\n",
    "        par1,\n",
    "    )\n",
    ")"
   ]
  },
  {
   "cell_type": "code",
   "execution_count": 173,
   "id": "e2fb1189-ea4f-488a-bf0c-3e8e4abf8e45",
   "metadata": {
    "execution": {
     "iopub.execute_input": "2024-03-20T08:20:14.219025Z",
     "iopub.status.busy": "2024-03-20T08:20:14.218412Z",
     "iopub.status.idle": "2024-03-20T08:20:14.222249Z",
     "shell.execute_reply": "2024-03-20T08:20:14.221741Z"
    },
    "papermill": {
     "duration": 0.03295,
     "end_time": "2024-03-20T08:20:14.222972",
     "exception": false,
     "start_time": "2024-03-20T08:20:14.190022",
     "status": "completed"
    },
    "tags": []
   },
   "outputs": [
    {
     "data": {
      "text/plain": [
       "('methods',\n",
       " \"By understanding the context of the KG, the exact contents, and the exact spelling of all identifiers and properties, we effectively support the LLM in generating correct queries. The query generation process is broken up into multiple steps by BioChatter: recognising entities and relationships according to the user's question, estimating properties to be used in the query, and generating a syntactically correct query in the query language of the database, based on the results from the previous steps and constraints given by the KG schema information. This procedure is implemented in the `prompts.py` module. To evaluate the quality of this process, we dedicate a module in the benchmark to the query generation process with a range of questions and KG schemata.\",\n",
       " \"\\n$$ \\n\\\\text{BioCypher KG creation process:} \\n$$ {#kg_creation}\\nThe BioCypher KG creation process involves using a configuration file to map KG contents to ontology terms. This includes detailing the properties of a node and the source and target classes of an edge. The enriched information is saved to a YAML file and, if desired, directly to the KG. This information is crucial for BioChatter to optimize its understanding of the KG, enabling the LLM to query the KG more effectively. By understanding the context of the knowledge graph (KG), the exact contents, and the exact spelling of all identifiers and properties, we effectively support the Large Language Model (LLM) in generating correct queries. The query generation process is broken up into multiple steps by BioChatter: recognizing entities and relationships according to the user's question, estimating properties to be used in the query, and generating a syntactically correct query in the query language of the database, based on the results from the previous steps and constraints given by the KG schema information. This procedure is implemented in the `prompts.py` module. $$ \\\\text{To evaluate the quality of this process, we dedicate a module in the benchmark to the query generation process with a range of questions and KG schemata.} $$\")"
      ]
     },
     "metadata": {},
     "output_type": "display_data"
    }
   ],
   "source": [
    "display(paragraph_matches[-1])"
   ]
  },
  {
   "cell_type": "markdown",
   "id": "461f18a6-ad27-4d63-97cd-b0a6b47fad61",
   "metadata": {
    "editable": true,
    "papermill": {
     "duration": 0.028228,
     "end_time": "2024-03-20T08:20:14.279901",
     "exception": false,
     "start_time": "2024-03-20T08:20:14.251673",
     "status": "completed"
    },
    "slideshow": {
     "slide_type": ""
    },
    "tags": []
   },
   "source": [
    "####  Paragraph 08"
   ]
  },
  {
   "cell_type": "code",
   "execution_count": 174,
   "id": "66500345-b007-47cc-94f3-4b422cd13529",
   "metadata": {
    "execution": {
     "iopub.execute_input": "2024-03-20T08:20:14.336610Z",
     "iopub.status.busy": "2024-03-20T08:20:14.336406Z",
     "iopub.status.idle": "2024-03-20T08:20:14.339727Z",
     "shell.execute_reply": "2024-03-20T08:20:14.339207Z"
    },
    "papermill": {
     "duration": 0.032645,
     "end_time": "2024-03-20T08:20:14.340441",
     "exception": false,
     "start_time": "2024-03-20T08:20:14.307796",
     "status": "completed"
    },
    "tags": []
   },
   "outputs": [
    {
     "name": "stdout",
     "output_type": "stream",
     "text": [
      "To illustrate the usage of this feature, we provide a demonstration repository at [https://github.com/biocypher/pole](https://github.com/biocypher/pole) including a KG build procedure and an instance of BioChatter Light, which can be run using a single Docker Compose command. The pole KG can also be used in conjunction with the BioChatter Next app by using the `docker-compose.yaml` file to build the application locally. A demonstration of this use case is available in [Supplementary Note 1: Knowledge Graph Retrieval-Augmented Generation] and on our website ([https://biochatter.org/vignette-kg/](https://biochatter.org/vignette-kg/)).\n"
     ]
    }
   ],
   "source": [
    "par0 = process_paragraph(orig_section_paragraphs[24])\n",
    "print(par0)"
   ]
  },
  {
   "cell_type": "code",
   "execution_count": 175,
   "id": "08baadce-7877-4b62-bebc-de9013d6a16f",
   "metadata": {
    "execution": {
     "iopub.execute_input": "2024-03-20T08:20:14.397794Z",
     "iopub.status.busy": "2024-03-20T08:20:14.397402Z",
     "iopub.status.idle": "2024-03-20T08:20:14.401192Z",
     "shell.execute_reply": "2024-03-20T08:20:14.400659Z"
    },
    "papermill": {
     "duration": 0.033225,
     "end_time": "2024-03-20T08:20:14.401945",
     "exception": false,
     "start_time": "2024-03-20T08:20:14.368720",
     "status": "completed"
    },
    "tags": []
   },
   "outputs": [
    {
     "name": "stdout",
     "output_type": "stream",
     "text": [
      "This evaluation process helps us understand how well the LLM can generate queries based on the information provided by the KG and the user's input. It allows us to assess the accuracy and efficiency of the query generation process in different scenarios and with various types of KG schemata. To demonstrate the utility of this feature, we have created a demonstration repository available at [https://github.com/biocypher/pole](https://github.com/biocypher/pole). This repository includes a procedure for building a knowledge graph (KG) and an instance of BioChatter Light, which can be easily run using a single Docker Compose command. Furthermore, the pole KG can be utilized in combination with the BioChatter Next application by utilizing the `docker-compose.yaml` file to locally build the application. A demonstration showcasing this use case can be found in [Supplementary Note 1: Knowledge Graph Retrieval-Augmented Generation] and is also accessible on our website at [https://biochatter.org/vignette-kg/](https://biochatter.org/vignette-kg/).\n"
     ]
    }
   ],
   "source": [
    "par1 = process_paragraph(\n",
    "    [\n",
    "        process_paragraph(mod_section_paragraphs[31:32])\n",
    "        .replace(\"$$\", \"\\n$$\")\n",
    "        .replace(\"\\\\text\", \"\\n\\\\text\"),\n",
    "        process_paragraph(mod_section_paragraphs[32:33]),\n",
    "    ]\n",
    ")\n",
    "print(par1)"
   ]
  },
  {
   "cell_type": "code",
   "execution_count": 176,
   "id": "41782770-bcc9-451d-ab67-4fc0c17bd7d1",
   "metadata": {
    "execution": {
     "iopub.execute_input": "2024-03-20T08:20:14.458195Z",
     "iopub.status.busy": "2024-03-20T08:20:14.458004Z",
     "iopub.status.idle": "2024-03-20T08:20:14.460791Z",
     "shell.execute_reply": "2024-03-20T08:20:14.460301Z"
    },
    "papermill": {
     "duration": 0.031733,
     "end_time": "2024-03-20T08:20:14.461493",
     "exception": false,
     "start_time": "2024-03-20T08:20:14.429760",
     "status": "completed"
    },
    "tags": []
   },
   "outputs": [],
   "source": [
    "paragraph_matches.append(\n",
    "    (\n",
    "        section_name,\n",
    "        par0,\n",
    "        par1,\n",
    "    )\n",
    ")"
   ]
  },
  {
   "cell_type": "code",
   "execution_count": 177,
   "id": "446db340-f8eb-4410-a0ef-8ada3f8eb95e",
   "metadata": {
    "execution": {
     "iopub.execute_input": "2024-03-20T08:20:14.518320Z",
     "iopub.status.busy": "2024-03-20T08:20:14.517818Z",
     "iopub.status.idle": "2024-03-20T08:20:14.521547Z",
     "shell.execute_reply": "2024-03-20T08:20:14.521063Z"
    },
    "papermill": {
     "duration": 0.032701,
     "end_time": "2024-03-20T08:20:14.522311",
     "exception": false,
     "start_time": "2024-03-20T08:20:14.489610",
     "status": "completed"
    },
    "tags": []
   },
   "outputs": [
    {
     "data": {
      "text/plain": [
       "('methods',\n",
       " 'To illustrate the usage of this feature, we provide a demonstration repository at [https://github.com/biocypher/pole](https://github.com/biocypher/pole) including a KG build procedure and an instance of BioChatter Light, which can be run using a single Docker Compose command. The pole KG can also be used in conjunction with the BioChatter Next app by using the `docker-compose.yaml` file to build the application locally. A demonstration of this use case is available in [Supplementary Note 1: Knowledge Graph Retrieval-Augmented Generation] and on our website ([https://biochatter.org/vignette-kg/](https://biochatter.org/vignette-kg/)).',\n",
       " \"This evaluation process helps us understand how well the LLM can generate queries based on the information provided by the KG and the user's input. It allows us to assess the accuracy and efficiency of the query generation process in different scenarios and with various types of KG schemata. To demonstrate the utility of this feature, we have created a demonstration repository available at [https://github.com/biocypher/pole](https://github.com/biocypher/pole). This repository includes a procedure for building a knowledge graph (KG) and an instance of BioChatter Light, which can be easily run using a single Docker Compose command. Furthermore, the pole KG can be utilized in combination with the BioChatter Next application by utilizing the `docker-compose.yaml` file to locally build the application. A demonstration showcasing this use case can be found in [Supplementary Note 1: Knowledge Graph Retrieval-Augmented Generation] and is also accessible on our website at [https://biochatter.org/vignette-kg/](https://biochatter.org/vignette-kg/).\")"
      ]
     },
     "metadata": {},
     "output_type": "display_data"
    }
   ],
   "source": [
    "display(paragraph_matches[-1])"
   ]
  },
  {
   "cell_type": "markdown",
   "id": "b6f0f1f4-9bea-45e5-80a8-da1b848b2bb7",
   "metadata": {
    "editable": true,
    "papermill": {
     "duration": 0.028386,
     "end_time": "2024-03-20T08:20:14.578364",
     "exception": false,
     "start_time": "2024-03-20T08:20:14.549978",
     "status": "completed"
    },
    "slideshow": {
     "slide_type": ""
    },
    "tags": []
   },
   "source": [
    "####  Paragraph 09"
   ]
  },
  {
   "cell_type": "code",
   "execution_count": 178,
   "id": "a6c5b537-549a-4af8-bfc7-ed3ad060e0f1",
   "metadata": {
    "execution": {
     "iopub.execute_input": "2024-03-20T08:20:14.635631Z",
     "iopub.status.busy": "2024-03-20T08:20:14.635092Z",
     "iopub.status.idle": "2024-03-20T08:20:14.638444Z",
     "shell.execute_reply": "2024-03-20T08:20:14.637895Z"
    },
    "papermill": {
     "duration": 0.032771,
     "end_time": "2024-03-20T08:20:14.639165",
     "exception": false,
     "start_time": "2024-03-20T08:20:14.606394",
     "status": "completed"
    },
    "tags": []
   },
   "outputs": [
    {
     "name": "stdout",
     "output_type": "stream",
     "text": [
      "While current LLMs possess extensive internal general knowledge, they may not know how to prioritise very specific scientific results, or they may not have had access to some research articles in their training data (e.g., due to their recency or licensing issues). To bridge this gap, we can provide additional information from relevant publications to the model via the prompt. However, we frequently cannot add entire publications to the prompt, since the input length of current models is still restricted; we need to isolate the information that is specifically relevant to the question given by the user. To find this information, we perform a semantic similarity search between the user’s question and the contents of user-provided scientific articles (or other texts). The most efficient way to do this mapping is by using a vector database [@doi:10.48550/arxiv.2308.07107].\n"
     ]
    }
   ],
   "source": [
    "par0 = process_paragraph(orig_section_paragraphs[26])\n",
    "print(par0)"
   ]
  },
  {
   "cell_type": "code",
   "execution_count": 179,
   "id": "6ebee10e-5858-4850-954b-876b323a2735",
   "metadata": {
    "execution": {
     "iopub.execute_input": "2024-03-20T08:20:14.696494Z",
     "iopub.status.busy": "2024-03-20T08:20:14.695976Z",
     "iopub.status.idle": "2024-03-20T08:20:14.699470Z",
     "shell.execute_reply": "2024-03-20T08:20:14.698949Z"
    },
    "papermill": {
     "duration": 0.032901,
     "end_time": "2024-03-20T08:20:14.700212",
     "exception": false,
     "start_time": "2024-03-20T08:20:14.667311",
     "status": "completed"
    },
    "tags": []
   },
   "outputs": [
    {
     "name": "stdout",
     "output_type": "stream",
     "text": [
      "While current Large Language Models (LLMs) possess extensive internal general knowledge, they may not prioritize very specific scientific results or have access to all research articles in their training data, possibly due to recency or licensing issues. To address this limitation, we can enhance the model's knowledge by providing additional information from relevant publications through the prompt. However, due to the current input length restrictions of LLMs, we cannot include entire publications in the prompt. Therefore, we must identify and isolate the information that is directly pertinent to the user's query. To achieve this, we conduct a semantic similarity search between the user's question and the content of user-provided scientific articles or other texts. Utilizing a vector database is the most effective method for this mapping process [@doi:10.48550/arxiv.2308.07107].\n"
     ]
    }
   ],
   "source": [
    "par1 = process_paragraph(\n",
    "    [\n",
    "        process_paragraph(\n",
    "            mod_section_paragraphs[34:35]\n",
    "        ),  # .replace(\"$$\", \"\\n$$\").replace(\"\\\\text\", \"\\n\\\\text\"),\n",
    "        # process_paragraph(mod_section_paragraphs[32:33]),\n",
    "    ]\n",
    ")\n",
    "print(par1)"
   ]
  },
  {
   "cell_type": "code",
   "execution_count": 180,
   "id": "821518fe-5d6b-45e4-81d0-a69cbcd696a7",
   "metadata": {
    "execution": {
     "iopub.execute_input": "2024-03-20T08:20:14.756807Z",
     "iopub.status.busy": "2024-03-20T08:20:14.756614Z",
     "iopub.status.idle": "2024-03-20T08:20:14.759364Z",
     "shell.execute_reply": "2024-03-20T08:20:14.758924Z"
    },
    "papermill": {
     "duration": 0.031666,
     "end_time": "2024-03-20T08:20:14.760089",
     "exception": false,
     "start_time": "2024-03-20T08:20:14.728423",
     "status": "completed"
    },
    "tags": []
   },
   "outputs": [],
   "source": [
    "paragraph_matches.append(\n",
    "    (\n",
    "        section_name,\n",
    "        par0,\n",
    "        par1,\n",
    "    )\n",
    ")"
   ]
  },
  {
   "cell_type": "code",
   "execution_count": 181,
   "id": "c7298e1c-f3dc-4128-969b-7500ec2ef2fd",
   "metadata": {
    "execution": {
     "iopub.execute_input": "2024-03-20T08:20:14.839025Z",
     "iopub.status.busy": "2024-03-20T08:20:14.838838Z",
     "iopub.status.idle": "2024-03-20T08:20:14.842457Z",
     "shell.execute_reply": "2024-03-20T08:20:14.841993Z"
    },
    "papermill": {
     "duration": 0.055269,
     "end_time": "2024-03-20T08:20:14.843186",
     "exception": false,
     "start_time": "2024-03-20T08:20:14.787917",
     "status": "completed"
    },
    "tags": []
   },
   "outputs": [
    {
     "data": {
      "text/plain": [
       "('methods',\n",
       " 'While current LLMs possess extensive internal general knowledge, they may not know how to prioritise very specific scientific results, or they may not have had access to some research articles in their training data (e.g., due to their recency or licensing issues). To bridge this gap, we can provide additional information from relevant publications to the model via the prompt. However, we frequently cannot add entire publications to the prompt, since the input length of current models is still restricted; we need to isolate the information that is specifically relevant to the question given by the user. To find this information, we perform a semantic similarity search between the user’s question and the contents of user-provided scientific articles (or other texts). The most efficient way to do this mapping is by using a vector database [@doi:10.48550/arxiv.2308.07107].',\n",
       " \"While current Large Language Models (LLMs) possess extensive internal general knowledge, they may not prioritize very specific scientific results or have access to all research articles in their training data, possibly due to recency or licensing issues. To address this limitation, we can enhance the model's knowledge by providing additional information from relevant publications through the prompt. However, due to the current input length restrictions of LLMs, we cannot include entire publications in the prompt. Therefore, we must identify and isolate the information that is directly pertinent to the user's query. To achieve this, we conduct a semantic similarity search between the user's question and the content of user-provided scientific articles or other texts. Utilizing a vector database is the most effective method for this mapping process [@doi:10.48550/arxiv.2308.07107].\")"
      ]
     },
     "metadata": {},
     "output_type": "display_data"
    }
   ],
   "source": [
    "display(paragraph_matches[-1])"
   ]
  },
  {
   "cell_type": "markdown",
   "id": "c23f16b0-fc6c-4500-a6fa-09f9cd6f6a7a",
   "metadata": {
    "editable": true,
    "papermill": {
     "duration": 0.02764,
     "end_time": "2024-03-20T08:20:14.898802",
     "exception": false,
     "start_time": "2024-03-20T08:20:14.871162",
     "status": "completed"
    },
    "slideshow": {
     "slide_type": ""
    },
    "tags": []
   },
   "source": [
    "####  Paragraph 10"
   ]
  },
  {
   "cell_type": "code",
   "execution_count": 182,
   "id": "1a27d782-282c-4ec1-bf8d-ce5b29bd3ce9",
   "metadata": {
    "execution": {
     "iopub.execute_input": "2024-03-20T08:20:14.955214Z",
     "iopub.status.busy": "2024-03-20T08:20:14.955025Z",
     "iopub.status.idle": "2024-03-20T08:20:14.958131Z",
     "shell.execute_reply": "2024-03-20T08:20:14.957655Z"
    },
    "papermill": {
     "duration": 0.032543,
     "end_time": "2024-03-20T08:20:14.958882",
     "exception": false,
     "start_time": "2024-03-20T08:20:14.926339",
     "status": "completed"
    },
    "tags": []
   },
   "outputs": [
    {
     "name": "stdout",
     "output_type": "stream",
     "text": [
      "The contextual background information provided by the user (e.g., by uploading a scientific article of prior work related to the experiment to be interpreted) is split into pieces suitable to be digested by the LLM, which are individually embedded by the model. These embeddings (represented by vectors) are used to store the text fragments in a vector database; the storage as vectors allows fast and efficient retrieval of similar entities via the comparison of individual vectors. For example, the two sentences “Amyloid beta levels are associated with Alzheimer’s Disease stage.” and “One of the most important clinical markers of AD progression is the amount of deposited A-beta 42.” would be closely associated in a vector database (given the embedding model is of sufficient quality, i.e., similar to GPT-3 or better), while traditional text-based similarity metrics probably would not identify them as highly similar.\n"
     ]
    }
   ],
   "source": [
    "par0 = process_paragraph(orig_section_paragraphs[27])\n",
    "print(par0)"
   ]
  },
  {
   "cell_type": "code",
   "execution_count": 183,
   "id": "8d0ccfde-80db-4579-8b53-865e22114499",
   "metadata": {
    "execution": {
     "iopub.execute_input": "2024-03-20T08:20:15.016828Z",
     "iopub.status.busy": "2024-03-20T08:20:15.016363Z",
     "iopub.status.idle": "2024-03-20T08:20:15.020640Z",
     "shell.execute_reply": "2024-03-20T08:20:15.020075Z"
    },
    "papermill": {
     "duration": 0.034158,
     "end_time": "2024-03-20T08:20:15.021425",
     "exception": false,
     "start_time": "2024-03-20T08:20:14.987267",
     "status": "completed"
    },
    "tags": []
   },
   "outputs": [
    {
     "name": "stdout",
     "output_type": "stream",
     "text": [
      "$$ \n",
      "LLM: Large Language Model\n",
      "$$ \n",
      "The contextual background information provided by the user, such as a scientific article related to the experiment to be interpreted, is divided into segments suitable for processing by the Large Language Model (LLM). Each segment is individually embedded by the model. These embeddings, represented as vectors, are utilized to store the text fragments in a vector database. Storing the information as vectors enables rapid and efficient retrieval of similar entities through the comparison of individual vectors. For instance, the sentences \"Amyloid beta levels are associated with Alzheimer's Disease stage.\" and \"One of the most crucial clinical markers of AD progression is the amount of deposited A-beta 42.\" would be closely linked in a vector database if the embedding model is of high quality, similar to GPT-3 or superior. In contrast, traditional text-based similarity metrics might not recognize them as highly similar.\n"
     ]
    }
   ],
   "source": [
    "par1 = (\n",
    "    process_paragraph(\n",
    "        [\n",
    "            process_paragraph(mod_section_paragraphs[35:36]),\n",
    "            process_paragraph(mod_section_paragraphs[36:37]),\n",
    "        ]\n",
    "    )\n",
    "    .replace(\"Model $$\", \"Model\\n$$\")\n",
    "    .replace(\"LLM:\", \"\\nLLM:\")\n",
    "    .replace(\"The contextual\", \"\\nThe contextual\")\n",
    ")\n",
    "print(par1)"
   ]
  },
  {
   "cell_type": "code",
   "execution_count": 184,
   "id": "eb8cb2e1-fc13-49a0-8b34-812b56570b6d",
   "metadata": {
    "execution": {
     "iopub.execute_input": "2024-03-20T08:20:15.079343Z",
     "iopub.status.busy": "2024-03-20T08:20:15.078935Z",
     "iopub.status.idle": "2024-03-20T08:20:15.081550Z",
     "shell.execute_reply": "2024-03-20T08:20:15.081203Z"
    },
    "papermill": {
     "duration": 0.032388,
     "end_time": "2024-03-20T08:20:15.082266",
     "exception": false,
     "start_time": "2024-03-20T08:20:15.049878",
     "status": "completed"
    },
    "tags": []
   },
   "outputs": [],
   "source": [
    "paragraph_matches.append(\n",
    "    (\n",
    "        section_name,\n",
    "        par0,\n",
    "        par1,\n",
    "    )\n",
    ")"
   ]
  },
  {
   "cell_type": "code",
   "execution_count": 185,
   "id": "cbf82494-1147-44af-800a-81a6677b3076",
   "metadata": {
    "execution": {
     "iopub.execute_input": "2024-03-20T08:20:15.139762Z",
     "iopub.status.busy": "2024-03-20T08:20:15.139371Z",
     "iopub.status.idle": "2024-03-20T08:20:15.143020Z",
     "shell.execute_reply": "2024-03-20T08:20:15.142586Z"
    },
    "papermill": {
     "duration": 0.032981,
     "end_time": "2024-03-20T08:20:15.143741",
     "exception": false,
     "start_time": "2024-03-20T08:20:15.110760",
     "status": "completed"
    },
    "tags": []
   },
   "outputs": [
    {
     "data": {
      "text/plain": [
       "('methods',\n",
       " 'The contextual background information provided by the user (e.g., by uploading a scientific article of prior work related to the experiment to be interpreted) is split into pieces suitable to be digested by the LLM, which are individually embedded by the model. These embeddings (represented by vectors) are used to store the text fragments in a vector database; the storage as vectors allows fast and efficient retrieval of similar entities via the comparison of individual vectors. For example, the two sentences “Amyloid beta levels are associated with Alzheimer’s Disease stage.” and “One of the most important clinical markers of AD progression is the amount of deposited A-beta 42.” would be closely associated in a vector database (given the embedding model is of sufficient quality, i.e., similar to GPT-3 or better), while traditional text-based similarity metrics probably would not identify them as highly similar.',\n",
       " '$$ \\nLLM: Large Language Model\\n$$ \\nThe contextual background information provided by the user, such as a scientific article related to the experiment to be interpreted, is divided into segments suitable for processing by the Large Language Model (LLM). Each segment is individually embedded by the model. These embeddings, represented as vectors, are utilized to store the text fragments in a vector database. Storing the information as vectors enables rapid and efficient retrieval of similar entities through the comparison of individual vectors. For instance, the sentences \"Amyloid beta levels are associated with Alzheimer\\'s Disease stage.\" and \"One of the most crucial clinical markers of AD progression is the amount of deposited A-beta 42.\" would be closely linked in a vector database if the embedding model is of high quality, similar to GPT-3 or superior. In contrast, traditional text-based similarity metrics might not recognize them as highly similar.')"
      ]
     },
     "metadata": {},
     "output_type": "display_data"
    }
   ],
   "source": [
    "display(paragraph_matches[-1])"
   ]
  },
  {
   "cell_type": "markdown",
   "id": "85459dcb-67ad-4e49-8ca5-8e11ca5aaeb5",
   "metadata": {
    "editable": true,
    "papermill": {
     "duration": 0.028588,
     "end_time": "2024-03-20T08:20:15.200412",
     "exception": false,
     "start_time": "2024-03-20T08:20:15.171824",
     "status": "completed"
    },
    "slideshow": {
     "slide_type": ""
    },
    "tags": []
   },
   "source": [
    "####  Paragraph 11"
   ]
  },
  {
   "cell_type": "code",
   "execution_count": 186,
   "id": "fce240b5-e631-4acb-acd5-d30d9c0ae4d0",
   "metadata": {
    "execution": {
     "iopub.execute_input": "2024-03-20T08:20:15.258162Z",
     "iopub.status.busy": "2024-03-20T08:20:15.257653Z",
     "iopub.status.idle": "2024-03-20T08:20:15.260953Z",
     "shell.execute_reply": "2024-03-20T08:20:15.260511Z"
    },
    "papermill": {
     "duration": 0.03317,
     "end_time": "2024-03-20T08:20:15.261688",
     "exception": false,
     "start_time": "2024-03-20T08:20:15.228518",
     "status": "completed"
    },
    "tags": []
   },
   "outputs": [
    {
     "name": "stdout",
     "output_type": "stream",
     "text": [
      "By comparing the user’s question to prior knowledge in the vector database, we can extract the relevant pieces of information from the entire background. Even better, we can first use an LLM to generate an answer to the user's question and then use this answer to query the vector database for relevant information. Regardless of whether the initial answer is correct, it is likely that the \"fake answer\" is more semantically similar to the relevant pieces of information than the user's question [@doi:10.48550/arXiv.2308.07107]. Semantic search results (for instance, single sentences directly related to the topic of the question) are then sufficiently small to be added to the prompt. In this way, the model can learn from additional context without the need for retraining or fine-tuning. This method is sometimes described as in-context learning [@doi:10.48550/arxiv.2303.17580] or retrieval-augmented generation [@rag].\n"
     ]
    }
   ],
   "source": [
    "par0 = process_paragraph(orig_section_paragraphs[28])\n",
    "print(par0)"
   ]
  },
  {
   "cell_type": "code",
   "execution_count": 187,
   "id": "18477820-18f8-48fe-baa1-2acf2b7cb069",
   "metadata": {
    "execution": {
     "iopub.execute_input": "2024-03-20T08:20:15.318886Z",
     "iopub.status.busy": "2024-03-20T08:20:15.318697Z",
     "iopub.status.idle": "2024-03-20T08:20:15.321740Z",
     "shell.execute_reply": "2024-03-20T08:20:15.321297Z"
    },
    "papermill": {
     "duration": 0.032645,
     "end_time": "2024-03-20T08:20:15.322491",
     "exception": false,
     "start_time": "2024-03-20T08:20:15.289846",
     "status": "completed"
    },
    "tags": []
   },
   "outputs": [
    {
     "name": "stdout",
     "output_type": "stream",
     "text": [
      "By comparing the user’s question to prior knowledge in the vector database, we can extract the relevant pieces of information from the entire background. Even better, we can first use a Large Language Model (LLM) to generate an answer to the user's question and then use this answer to query the vector database for relevant information. Regardless of whether the initial answer is correct, it is likely that the \"fake answer\" is more semantically similar to the relevant pieces of information than the user's question [@doi:10.48550/arXiv.2308.07107]. Semantic search results (for instance, single sentences directly related to the topic of the question) are then sufficiently small to be added to the prompt. In this way, the model can learn from additional context without the need for retraining or fine-tuning. This method is sometimes described as in-context learning [@doi:10.48550/arxiv.2303.17580] or retrieval-augmented generation [@rag].\n"
     ]
    }
   ],
   "source": [
    "par1 = process_paragraph(mod_section_paragraphs[38])\n",
    "print(par1)"
   ]
  },
  {
   "cell_type": "code",
   "execution_count": 188,
   "id": "b1daa321-bb72-4218-bbdb-170bf52af562",
   "metadata": {
    "execution": {
     "iopub.execute_input": "2024-03-20T08:20:15.379814Z",
     "iopub.status.busy": "2024-03-20T08:20:15.379387Z",
     "iopub.status.idle": "2024-03-20T08:20:15.382604Z",
     "shell.execute_reply": "2024-03-20T08:20:15.382036Z"
    },
    "papermill": {
     "duration": 0.032846,
     "end_time": "2024-03-20T08:20:15.383426",
     "exception": false,
     "start_time": "2024-03-20T08:20:15.350580",
     "status": "completed"
    },
    "tags": []
   },
   "outputs": [],
   "source": [
    "paragraph_matches.append(\n",
    "    (\n",
    "        section_name,\n",
    "        par0,\n",
    "        par1,\n",
    "    )\n",
    ")"
   ]
  },
  {
   "cell_type": "code",
   "execution_count": 189,
   "id": "7a0d3bf4-1317-46ba-94e7-54e869c11c99",
   "metadata": {
    "execution": {
     "iopub.execute_input": "2024-03-20T08:20:15.440070Z",
     "iopub.status.busy": "2024-03-20T08:20:15.439846Z",
     "iopub.status.idle": "2024-03-20T08:20:15.443222Z",
     "shell.execute_reply": "2024-03-20T08:20:15.442887Z"
    },
    "papermill": {
     "duration": 0.032352,
     "end_time": "2024-03-20T08:20:15.443885",
     "exception": false,
     "start_time": "2024-03-20T08:20:15.411533",
     "status": "completed"
    },
    "tags": []
   },
   "outputs": [
    {
     "data": {
      "text/plain": [
       "('methods',\n",
       " 'By comparing the user’s question to prior knowledge in the vector database, we can extract the relevant pieces of information from the entire background. Even better, we can first use an LLM to generate an answer to the user\\'s question and then use this answer to query the vector database for relevant information. Regardless of whether the initial answer is correct, it is likely that the \"fake answer\" is more semantically similar to the relevant pieces of information than the user\\'s question [@doi:10.48550/arXiv.2308.07107]. Semantic search results (for instance, single sentences directly related to the topic of the question) are then sufficiently small to be added to the prompt. In this way, the model can learn from additional context without the need for retraining or fine-tuning. This method is sometimes described as in-context learning [@doi:10.48550/arxiv.2303.17580] or retrieval-augmented generation [@rag].',\n",
       " 'By comparing the user’s question to prior knowledge in the vector database, we can extract the relevant pieces of information from the entire background. Even better, we can first use a Large Language Model (LLM) to generate an answer to the user\\'s question and then use this answer to query the vector database for relevant information. Regardless of whether the initial answer is correct, it is likely that the \"fake answer\" is more semantically similar to the relevant pieces of information than the user\\'s question [@doi:10.48550/arXiv.2308.07107]. Semantic search results (for instance, single sentences directly related to the topic of the question) are then sufficiently small to be added to the prompt. In this way, the model can learn from additional context without the need for retraining or fine-tuning. This method is sometimes described as in-context learning [@doi:10.48550/arxiv.2303.17580] or retrieval-augmented generation [@rag].')"
      ]
     },
     "metadata": {},
     "output_type": "display_data"
    }
   ],
   "source": [
    "display(paragraph_matches[-1])"
   ]
  },
  {
   "cell_type": "markdown",
   "id": "1bc5a166-fa52-40e7-a0e0-996a10f3c848",
   "metadata": {
    "editable": true,
    "papermill": {
     "duration": 0.027932,
     "end_time": "2024-03-20T08:20:15.500175",
     "exception": false,
     "start_time": "2024-03-20T08:20:15.472243",
     "status": "completed"
    },
    "slideshow": {
     "slide_type": ""
    },
    "tags": []
   },
   "source": [
    "####  Paragraph 12"
   ]
  },
  {
   "cell_type": "code",
   "execution_count": 190,
   "id": "661dafe8-4ec6-4d73-983a-8aa008072e5c",
   "metadata": {
    "execution": {
     "iopub.execute_input": "2024-03-20T08:20:15.556864Z",
     "iopub.status.busy": "2024-03-20T08:20:15.556353Z",
     "iopub.status.idle": "2024-03-20T08:20:15.559595Z",
     "shell.execute_reply": "2024-03-20T08:20:15.559142Z"
    },
    "papermill": {
     "duration": 0.032578,
     "end_time": "2024-03-20T08:20:15.560415",
     "exception": false,
     "start_time": "2024-03-20T08:20:15.527837",
     "status": "completed"
    },
    "tags": []
   },
   "outputs": [
    {
     "name": "stdout",
     "output_type": "stream",
     "text": [
      "To provide access to this functionality in BioChatter, we implement classes for the connection to, and management of, vector database systems (in the `vectorstore.py` module), and for performing semantic search on the vector database and injecting the results into the prompt (in the `vectorstore_agent.py` module). An analogous implementation for KG retrieval is available in the `database_agent.py` module. Both retrieval mechanisms are integrated and provided to the BioChatter API via the `rag_agent.py` module. To demonstrate the use of the API, we add a “Retrieval-Augmented Generation” tab to the preview apps that allows the upload of text documents to be added to a vector database, which then can be queried to add contextual information to the prompt sent to the primary model. This contextual information is transparently displayed. Since this functionality requires a connection to a vector database system, we provide connectivity to a Milvus service, including a way to start the service in conjunction with a BioCypher knowledge graph and the BioChatter Light app in one Docker Compose workflow.\n"
     ]
    }
   ],
   "source": [
    "par0 = process_paragraph(orig_section_paragraphs[29])\n",
    "print(par0)"
   ]
  },
  {
   "cell_type": "code",
   "execution_count": 191,
   "id": "bd1fe885-db17-4e1a-b6a6-f488bc1637cd",
   "metadata": {
    "execution": {
     "iopub.execute_input": "2024-03-20T08:20:15.618002Z",
     "iopub.status.busy": "2024-03-20T08:20:15.617586Z",
     "iopub.status.idle": "2024-03-20T08:20:15.620723Z",
     "shell.execute_reply": "2024-03-20T08:20:15.620285Z"
    },
    "papermill": {
     "duration": 0.03278,
     "end_time": "2024-03-20T08:20:15.621453",
     "exception": false,
     "start_time": "2024-03-20T08:20:15.588673",
     "status": "completed"
    },
    "tags": []
   },
   "outputs": [
    {
     "name": "stdout",
     "output_type": "stream",
     "text": [
      "To provide access to this functionality in BioChatter, we implement classes for the connection to, and management of, vector database systems (in the `vectorstore.py` module), and for performing semantic search on the vector database and injecting the results into the prompt (in the `vectorstore_agent.py` module). An analogous implementation for Knowledge Graph (KG) retrieval is available in the `database_agent.py` module. Both retrieval mechanisms are integrated and provided to the BioChatter API via the `rag_agent.py` module. To demonstrate the use of the API, we add a “Retrieval-Augmented Generation” tab to the preview apps that allows the upload of text documents to be added to a vector database, which then can be queried to add contextual information to the prompt sent to the primary model. This contextual information is transparently displayed. Since this functionality requires a connection to a vector database system, we provide connectivity to a Milvus service, including a way to start the service in conjunction with a BioCypher knowledge graph and the BioChatter Light app in one Docker Compose workflow.\n"
     ]
    }
   ],
   "source": [
    "par1 = process_paragraph(mod_section_paragraphs[40:43])\n",
    "print(par1)"
   ]
  },
  {
   "cell_type": "code",
   "execution_count": 192,
   "id": "ed501ecc-588f-45af-b49c-02a74d682535",
   "metadata": {
    "execution": {
     "iopub.execute_input": "2024-03-20T08:20:15.679506Z",
     "iopub.status.busy": "2024-03-20T08:20:15.679326Z",
     "iopub.status.idle": "2024-03-20T08:20:15.682049Z",
     "shell.execute_reply": "2024-03-20T08:20:15.681547Z"
    },
    "papermill": {
     "duration": 0.033147,
     "end_time": "2024-03-20T08:20:15.682814",
     "exception": false,
     "start_time": "2024-03-20T08:20:15.649667",
     "status": "completed"
    },
    "tags": []
   },
   "outputs": [],
   "source": [
    "paragraph_matches.append(\n",
    "    (\n",
    "        section_name,\n",
    "        par0,\n",
    "        par1,\n",
    "    )\n",
    ")"
   ]
  },
  {
   "cell_type": "code",
   "execution_count": 193,
   "id": "85983bcb-b02c-4cda-a9de-61dfc1d23741",
   "metadata": {
    "execution": {
     "iopub.execute_input": "2024-03-20T08:20:15.741102Z",
     "iopub.status.busy": "2024-03-20T08:20:15.740556Z",
     "iopub.status.idle": "2024-03-20T08:20:15.744833Z",
     "shell.execute_reply": "2024-03-20T08:20:15.744359Z"
    },
    "papermill": {
     "duration": 0.034229,
     "end_time": "2024-03-20T08:20:15.745619",
     "exception": false,
     "start_time": "2024-03-20T08:20:15.711390",
     "status": "completed"
    },
    "tags": []
   },
   "outputs": [
    {
     "data": {
      "text/plain": [
       "('methods',\n",
       " 'To provide access to this functionality in BioChatter, we implement classes for the connection to, and management of, vector database systems (in the `vectorstore.py` module), and for performing semantic search on the vector database and injecting the results into the prompt (in the `vectorstore_agent.py` module). An analogous implementation for KG retrieval is available in the `database_agent.py` module. Both retrieval mechanisms are integrated and provided to the BioChatter API via the `rag_agent.py` module. To demonstrate the use of the API, we add a “Retrieval-Augmented Generation” tab to the preview apps that allows the upload of text documents to be added to a vector database, which then can be queried to add contextual information to the prompt sent to the primary model. This contextual information is transparently displayed. Since this functionality requires a connection to a vector database system, we provide connectivity to a Milvus service, including a way to start the service in conjunction with a BioCypher knowledge graph and the BioChatter Light app in one Docker Compose workflow.',\n",
       " 'To provide access to this functionality in BioChatter, we implement classes for the connection to, and management of, vector database systems (in the `vectorstore.py` module), and for performing semantic search on the vector database and injecting the results into the prompt (in the `vectorstore_agent.py` module). An analogous implementation for Knowledge Graph (KG) retrieval is available in the `database_agent.py` module. Both retrieval mechanisms are integrated and provided to the BioChatter API via the `rag_agent.py` module. To demonstrate the use of the API, we add a “Retrieval-Augmented Generation” tab to the preview apps that allows the upload of text documents to be added to a vector database, which then can be queried to add contextual information to the prompt sent to the primary model. This contextual information is transparently displayed. Since this functionality requires a connection to a vector database system, we provide connectivity to a Milvus service, including a way to start the service in conjunction with a BioCypher knowledge graph and the BioChatter Light app in one Docker Compose workflow.')"
      ]
     },
     "metadata": {},
     "output_type": "display_data"
    }
   ],
   "source": [
    "display(paragraph_matches[-1])"
   ]
  },
  {
   "cell_type": "markdown",
   "id": "268afe6a-8550-4c0e-a667-4f5b4d3e5cee",
   "metadata": {
    "editable": true,
    "papermill": {
     "duration": 0.02897,
     "end_time": "2024-03-20T08:20:15.803114",
     "exception": false,
     "start_time": "2024-03-20T08:20:15.774144",
     "status": "completed"
    },
    "slideshow": {
     "slide_type": ""
    },
    "tags": []
   },
   "source": [
    "####  Paragraph 13"
   ]
  },
  {
   "cell_type": "code",
   "execution_count": 194,
   "id": "d0597d98-6dbf-4eb8-ab9b-2a93ac15cd2c",
   "metadata": {
    "execution": {
     "iopub.execute_input": "2024-03-20T08:20:15.861455Z",
     "iopub.status.busy": "2024-03-20T08:20:15.861263Z",
     "iopub.status.idle": "2024-03-20T08:20:15.864377Z",
     "shell.execute_reply": "2024-03-20T08:20:15.863929Z"
    },
    "papermill": {
     "duration": 0.033186,
     "end_time": "2024-03-20T08:20:15.865103",
     "exception": false,
     "start_time": "2024-03-20T08:20:15.831917",
     "status": "completed"
    },
    "tags": []
   },
   "outputs": [
    {
     "name": "stdout",
     "output_type": "stream",
     "text": [
      "To facilitate access to open-source models, we adopt a flexible deployment framework based on the Xorbits Inference API [@{https://github.com/xorbitsai/inference}]. Xorbits Inference includes a large number of open-source models out of the box, and new models from Hugging Face Hub [@{https://huggingface.co/}] can be added using the intuitive graphical user interface. We used Xorbits Inference version 0.8.4 to deploy the benchmarked models, and we provide a Docker Compose repository to deploy the app on a Linux server with Nvidia GPUs ([https://github.com/biocypher/xinference-docker-builtin/](https://github.com/biocypher/xinference-docker-builtin/)). This Compose uses the multi-architecture image (for ARM64 and AMD64 chips) we provide on our Docker Hub organisation ([https://hub.docker.com/repository/docker/biocypher/xinference-builtin](https://hub.docker.com/repository/docker/biocypher/xinference-builtin)). On Mac OS with Apple Silicon chips, Docker does not have access to the GPU driver, and as such, Xinference needs to be deployed natively.\n"
     ]
    }
   ],
   "source": [
    "par0 = process_paragraph(orig_section_paragraphs[32])\n",
    "print(par0)"
   ]
  },
  {
   "cell_type": "code",
   "execution_count": 195,
   "id": "d0747d6a-3c0e-47bb-b688-3cd618530e39",
   "metadata": {
    "execution": {
     "iopub.execute_input": "2024-03-20T08:20:15.923095Z",
     "iopub.status.busy": "2024-03-20T08:20:15.922909Z",
     "iopub.status.idle": "2024-03-20T08:20:15.926584Z",
     "shell.execute_reply": "2024-03-20T08:20:15.926141Z"
    },
    "papermill": {
     "duration": 0.033516,
     "end_time": "2024-03-20T08:20:15.927348",
     "exception": false,
     "start_time": "2024-03-20T08:20:15.893832",
     "status": "completed"
    },
    "tags": []
   },
   "outputs": [
    {
     "name": "stdout",
     "output_type": "stream",
     "text": [
      "To facilitate access to open-source models, we adopted a flexible deployment framework based on the Xorbits Inference API [@{https://github.com/xorbitsai/inference}]. Xorbits Inference includes a large number of open-source models out of the box, and new models from Hugging Face Hub [@{https://huggingface.co/}] can be added using the intuitive graphical user interface. We utilized Xorbits Inference version 0.8.4 to deploy the benchmarked models, and we provide a Docker Compose repository to deploy the app on a Linux server with Nvidia GPUs ([https://github.com/biocypher/xinference-docker-builtin/](https://github.com/biocypher/xinference-docker-builtin/)). This Compose uses the multi-architecture image (for ARM64 and AMD64 chips) we provide on our Docker Hub organization ([https://hub.docker.com/repository/docker/biocypher/xinference-builtin](https://hub.docker.com/repository/docker/biocypher/xinference-builtin)).\n",
      "\n",
      "$$\n",
      "X = Y + Z \n",
      "$$ {#eq1} \n",
      "\n",
      "On Mac OS with Apple Silicon chips, Docker does not have access to the GPU driver, and as such, Xinference needs to be deployed natively.\n"
     ]
    }
   ],
   "source": [
    "par1 = (\n",
    "    process_paragraph(\n",
    "        [\n",
    "            process_paragraph(mod_section_paragraphs[45:46]),\n",
    "            mod_section_paragraphs[46],\n",
    "            process_paragraph(mod_section_paragraphs[47]),\n",
    "        ]\n",
    "    )\n",
    "    .replace(\" $$ X\", \"\\n\\n$$\\nX\")\n",
    "    .replace(\"$$ {\", \"\\n$$ {\")\n",
    "    .replace(\"On Mac OS\", \"\\n\\nOn Mac OS\")\n",
    ")\n",
    "print(par1)"
   ]
  },
  {
   "cell_type": "code",
   "execution_count": 196,
   "id": "d6b097a7-aec7-4984-95bb-1ce7f5d5c476",
   "metadata": {
    "execution": {
     "iopub.execute_input": "2024-03-20T08:20:15.986043Z",
     "iopub.status.busy": "2024-03-20T08:20:15.985597Z",
     "iopub.status.idle": "2024-03-20T08:20:15.988296Z",
     "shell.execute_reply": "2024-03-20T08:20:15.987869Z"
    },
    "papermill": {
     "duration": 0.032902,
     "end_time": "2024-03-20T08:20:15.989007",
     "exception": false,
     "start_time": "2024-03-20T08:20:15.956105",
     "status": "completed"
    },
    "tags": []
   },
   "outputs": [],
   "source": [
    "paragraph_matches.append(\n",
    "    (\n",
    "        section_name,\n",
    "        par0,\n",
    "        par1,\n",
    "    )\n",
    ")"
   ]
  },
  {
   "cell_type": "code",
   "execution_count": 197,
   "id": "ee20b3ab-dc07-4d49-acb7-46a72d9d4531",
   "metadata": {
    "execution": {
     "iopub.execute_input": "2024-03-20T08:20:16.046698Z",
     "iopub.status.busy": "2024-03-20T08:20:16.046510Z",
     "iopub.status.idle": "2024-03-20T08:20:16.049991Z",
     "shell.execute_reply": "2024-03-20T08:20:16.049560Z"
    },
    "papermill": {
     "duration": 0.032839,
     "end_time": "2024-03-20T08:20:16.050701",
     "exception": false,
     "start_time": "2024-03-20T08:20:16.017862",
     "status": "completed"
    },
    "tags": []
   },
   "outputs": [
    {
     "data": {
      "text/plain": [
       "('methods',\n",
       " 'To facilitate access to open-source models, we adopt a flexible deployment framework based on the Xorbits Inference API [@{https://github.com/xorbitsai/inference}]. Xorbits Inference includes a large number of open-source models out of the box, and new models from Hugging Face Hub [@{https://huggingface.co/}] can be added using the intuitive graphical user interface. We used Xorbits Inference version 0.8.4 to deploy the benchmarked models, and we provide a Docker Compose repository to deploy the app on a Linux server with Nvidia GPUs ([https://github.com/biocypher/xinference-docker-builtin/](https://github.com/biocypher/xinference-docker-builtin/)). This Compose uses the multi-architecture image (for ARM64 and AMD64 chips) we provide on our Docker Hub organisation ([https://hub.docker.com/repository/docker/biocypher/xinference-builtin](https://hub.docker.com/repository/docker/biocypher/xinference-builtin)). On Mac OS with Apple Silicon chips, Docker does not have access to the GPU driver, and as such, Xinference needs to be deployed natively.',\n",
       " 'To facilitate access to open-source models, we adopted a flexible deployment framework based on the Xorbits Inference API [@{https://github.com/xorbitsai/inference}]. Xorbits Inference includes a large number of open-source models out of the box, and new models from Hugging Face Hub [@{https://huggingface.co/}] can be added using the intuitive graphical user interface. We utilized Xorbits Inference version 0.8.4 to deploy the benchmarked models, and we provide a Docker Compose repository to deploy the app on a Linux server with Nvidia GPUs ([https://github.com/biocypher/xinference-docker-builtin/](https://github.com/biocypher/xinference-docker-builtin/)). This Compose uses the multi-architecture image (for ARM64 and AMD64 chips) we provide on our Docker Hub organization ([https://hub.docker.com/repository/docker/biocypher/xinference-builtin](https://hub.docker.com/repository/docker/biocypher/xinference-builtin)).\\n\\n$$\\nX = Y + Z \\n$$ {#eq1} \\n\\nOn Mac OS with Apple Silicon chips, Docker does not have access to the GPU driver, and as such, Xinference needs to be deployed natively.')"
      ]
     },
     "metadata": {},
     "output_type": "display_data"
    }
   ],
   "source": [
    "display(paragraph_matches[-1])"
   ]
  },
  {
   "cell_type": "markdown",
   "id": "0ae437b3-4af8-4e4f-9b50-1228b8449d3c",
   "metadata": {
    "editable": true,
    "papermill": {
     "duration": 0.052594,
     "end_time": "2024-03-20T08:20:16.131576",
     "exception": false,
     "start_time": "2024-03-20T08:20:16.078982",
     "status": "completed"
    },
    "slideshow": {
     "slide_type": ""
    },
    "tags": []
   },
   "source": [
    "####  Paragraph 14"
   ]
  },
  {
   "cell_type": "code",
   "execution_count": 198,
   "id": "ea7f45d7-9c41-49f3-93a0-6b386ea81137",
   "metadata": {
    "execution": {
     "iopub.execute_input": "2024-03-20T08:20:16.189853Z",
     "iopub.status.busy": "2024-03-20T08:20:16.189329Z",
     "iopub.status.idle": "2024-03-20T08:20:16.192545Z",
     "shell.execute_reply": "2024-03-20T08:20:16.192074Z"
    },
    "papermill": {
     "duration": 0.032853,
     "end_time": "2024-03-20T08:20:16.193306",
     "exception": false,
     "start_time": "2024-03-20T08:20:16.160453",
     "status": "completed"
    },
    "tags": []
   },
   "outputs": [
    {
     "name": "stdout",
     "output_type": "stream",
     "text": [
      "The ability of LLMs to control external software, including other LLMs, opens up a wide range of possibilities for the orchestration of complex tasks. A simple example is the implementation of a correcting agent, which receives the output of the primary model and checks it for factual correctness. If the agent detects an error, it can prompt the primary model to correct its output, or forward this correction to the user directly. Since this relies on the internal knowledge base of the correcting agent, the same caveats apply, as the correcting agent may confabulate as well. However, since the agent is independent of the primary model (being set up with dedicated prompts), it is less likely to confabulate in the same way.\n"
     ]
    }
   ],
   "source": [
    "par0 = process_paragraph(orig_section_paragraphs[34])\n",
    "print(par0)"
   ]
  },
  {
   "cell_type": "code",
   "execution_count": 199,
   "id": "1deca811-bc29-4fea-ae02-d1ce3698d2ae",
   "metadata": {
    "execution": {
     "iopub.execute_input": "2024-03-20T08:20:16.251841Z",
     "iopub.status.busy": "2024-03-20T08:20:16.251649Z",
     "iopub.status.idle": "2024-03-20T08:20:16.254862Z",
     "shell.execute_reply": "2024-03-20T08:20:16.254421Z"
    },
    "papermill": {
     "duration": 0.033327,
     "end_time": "2024-03-20T08:20:16.255590",
     "exception": false,
     "start_time": "2024-03-20T08:20:16.222263",
     "status": "completed"
    },
    "tags": []
   },
   "outputs": [
    {
     "name": "stdout",
     "output_type": "stream",
     "text": [
      "The capability of Large Language Models (LLMs) to interact with external software, including other LLMs, presents a multitude of opportunities for orchestrating intricate tasks. An illustrative instance involves the deployment of a correction agent, which receives the primary model's output and verifies its factual accuracy. In case an error is identified, the agent can either prompt the primary model to rectify its output or directly convey the correction to the user. This process is contingent upon the internal knowledge repository of the correction agent, thereby subject to similar limitations, as the agent may also produce incorrect information. Nevertheless, due to the agent's autonomy from the primary model (established with specific prompts), it is less susceptible to generating erroneous data in the same manner.\n"
     ]
    }
   ],
   "source": [
    "par1 = process_paragraph(\n",
    "    [\n",
    "        process_paragraph(mod_section_paragraphs[49]),\n",
    "        # mod_section_paragraphs[46],\n",
    "        # process_paragraph(mod_section_paragraphs[47])\n",
    "    ]\n",
    ")  # .replace(\" $$ X\", \"\\n\\n$$\\nX\").replace(\"$$ {\", \"\\n$$ {\").replace(\"On Mac OS\", \"\\n\\nOn Mac OS\")\n",
    "print(par1)"
   ]
  },
  {
   "cell_type": "code",
   "execution_count": 200,
   "id": "0d6a4164-6116-49f3-9b50-6d107204a8a5",
   "metadata": {
    "execution": {
     "iopub.execute_input": "2024-03-20T08:20:16.314369Z",
     "iopub.status.busy": "2024-03-20T08:20:16.314179Z",
     "iopub.status.idle": "2024-03-20T08:20:16.316840Z",
     "shell.execute_reply": "2024-03-20T08:20:16.316410Z"
    },
    "papermill": {
     "duration": 0.032902,
     "end_time": "2024-03-20T08:20:16.317585",
     "exception": false,
     "start_time": "2024-03-20T08:20:16.284683",
     "status": "completed"
    },
    "tags": []
   },
   "outputs": [],
   "source": [
    "paragraph_matches.append(\n",
    "    (\n",
    "        section_name,\n",
    "        par0,\n",
    "        par1,\n",
    "    )\n",
    ")"
   ]
  },
  {
   "cell_type": "code",
   "execution_count": 201,
   "id": "0cb7edaf-ec14-4280-9811-276e22df8289",
   "metadata": {
    "execution": {
     "iopub.execute_input": "2024-03-20T08:20:16.375485Z",
     "iopub.status.busy": "2024-03-20T08:20:16.375296Z",
     "iopub.status.idle": "2024-03-20T08:20:16.378822Z",
     "shell.execute_reply": "2024-03-20T08:20:16.378388Z"
    },
    "papermill": {
     "duration": 0.033619,
     "end_time": "2024-03-20T08:20:16.379555",
     "exception": false,
     "start_time": "2024-03-20T08:20:16.345936",
     "status": "completed"
    },
    "tags": []
   },
   "outputs": [
    {
     "data": {
      "text/plain": [
       "('methods',\n",
       " 'The ability of LLMs to control external software, including other LLMs, opens up a wide range of possibilities for the orchestration of complex tasks. A simple example is the implementation of a correcting agent, which receives the output of the primary model and checks it for factual correctness. If the agent detects an error, it can prompt the primary model to correct its output, or forward this correction to the user directly. Since this relies on the internal knowledge base of the correcting agent, the same caveats apply, as the correcting agent may confabulate as well. However, since the agent is independent of the primary model (being set up with dedicated prompts), it is less likely to confabulate in the same way.',\n",
       " \"The capability of Large Language Models (LLMs) to interact with external software, including other LLMs, presents a multitude of opportunities for orchestrating intricate tasks. An illustrative instance involves the deployment of a correction agent, which receives the primary model's output and verifies its factual accuracy. In case an error is identified, the agent can either prompt the primary model to rectify its output or directly convey the correction to the user. This process is contingent upon the internal knowledge repository of the correction agent, thereby subject to similar limitations, as the agent may also produce incorrect information. Nevertheless, due to the agent's autonomy from the primary model (established with specific prompts), it is less susceptible to generating erroneous data in the same manner.\")"
      ]
     },
     "metadata": {},
     "output_type": "display_data"
    }
   ],
   "source": [
    "display(paragraph_matches[-1])"
   ]
  },
  {
   "cell_type": "markdown",
   "id": "a8fc7183-77da-4a67-801b-8a5f92687ee0",
   "metadata": {
    "editable": true,
    "papermill": {
     "duration": 0.028712,
     "end_time": "2024-03-20T08:20:16.437306",
     "exception": false,
     "start_time": "2024-03-20T08:20:16.408594",
     "status": "completed"
    },
    "slideshow": {
     "slide_type": ""
    },
    "tags": []
   },
   "source": [
    "####  Paragraph 15"
   ]
  },
  {
   "cell_type": "code",
   "execution_count": 202,
   "id": "ddf1d0d3-7018-4ef2-a2e5-9fce257a19c0",
   "metadata": {
    "execution": {
     "iopub.execute_input": "2024-03-20T08:20:16.496577Z",
     "iopub.status.busy": "2024-03-20T08:20:16.496079Z",
     "iopub.status.idle": "2024-03-20T08:20:16.499176Z",
     "shell.execute_reply": "2024-03-20T08:20:16.498748Z"
    },
    "papermill": {
     "duration": 0.033696,
     "end_time": "2024-03-20T08:20:16.499926",
     "exception": false,
     "start_time": "2024-03-20T08:20:16.466230",
     "status": "completed"
    },
    "tags": []
   },
   "outputs": [
    {
     "name": "stdout",
     "output_type": "stream",
     "text": [
      "This approach can be extended to a more complex model chain, where the correcting agent, for example, can query a knowledge graph or a vector database to ground its responses in prior knowledge. These chains are easy to implement, and some are available out of the box in the LangChain framework [@langchain]. However, they can behave unpredictably, which increases with the number of links in the chain and, as such, should be tightly controlled. They also add to the computational burden of the system, which is particularly relevant for deployments on end-user devices.\n"
     ]
    }
   ],
   "source": [
    "par0 = process_paragraph(orig_section_paragraphs[35])\n",
    "print(par0)"
   ]
  },
  {
   "cell_type": "code",
   "execution_count": 203,
   "id": "e1ef7cfb-439e-4eea-bab1-34e900a6c424",
   "metadata": {
    "execution": {
     "iopub.execute_input": "2024-03-20T08:20:16.558721Z",
     "iopub.status.busy": "2024-03-20T08:20:16.558276Z",
     "iopub.status.idle": "2024-03-20T08:20:16.562162Z",
     "shell.execute_reply": "2024-03-20T08:20:16.561570Z"
    },
    "papermill": {
     "duration": 0.033952,
     "end_time": "2024-03-20T08:20:16.562959",
     "exception": false,
     "start_time": "2024-03-20T08:20:16.529007",
     "status": "completed"
    },
    "tags": []
   },
   "outputs": [
    {
     "name": "stdout",
     "output_type": "stream",
     "text": [
      "This approach can be extended to a more complex model chain, where the correcting agent, for example, can query a knowledge graph or a vector database to ground its responses in prior knowledge. These chains are easy to implement, and some are available out of the box in the LangChain framework (Doe et al., 2020). However, they can behave unpredictably, which increases with the number of links in the chain and, as such, should be tightly controlled. They also add to the computational burden of the system, which is particularly relevant for deployments on end-user devices.\n"
     ]
    }
   ],
   "source": [
    "par1 = process_paragraph(\n",
    "    [\n",
    "        process_paragraph(mod_section_paragraphs[51]),\n",
    "        # mod_section_paragraphs[46],\n",
    "        # process_paragraph(mod_section_paragraphs[47])\n",
    "    ]\n",
    ")  # .replace(\" $$ X\", \"\\n\\n$$\\nX\").replace(\"$$ {\", \"\\n$$ {\").replace(\"On Mac OS\", \"\\n\\nOn Mac OS\")\n",
    "print(par1)"
   ]
  },
  {
   "cell_type": "code",
   "execution_count": 204,
   "id": "c9363e84-d8b7-47df-97f6-863584381112",
   "metadata": {
    "execution": {
     "iopub.execute_input": "2024-03-20T08:20:16.621384Z",
     "iopub.status.busy": "2024-03-20T08:20:16.620954Z",
     "iopub.status.idle": "2024-03-20T08:20:16.623587Z",
     "shell.execute_reply": "2024-03-20T08:20:16.623244Z"
    },
    "papermill": {
     "duration": 0.032503,
     "end_time": "2024-03-20T08:20:16.624264",
     "exception": false,
     "start_time": "2024-03-20T08:20:16.591761",
     "status": "completed"
    },
    "tags": []
   },
   "outputs": [],
   "source": [
    "paragraph_matches.append(\n",
    "    (\n",
    "        section_name,\n",
    "        par0,\n",
    "        par1,\n",
    "    )\n",
    ")"
   ]
  },
  {
   "cell_type": "code",
   "execution_count": 205,
   "id": "c2c5d2b5-aa4a-4efd-9c4f-8edfbf70f5a8",
   "metadata": {
    "editable": true,
    "execution": {
     "iopub.execute_input": "2024-03-20T08:20:16.682212Z",
     "iopub.status.busy": "2024-03-20T08:20:16.682018Z",
     "iopub.status.idle": "2024-03-20T08:20:16.685415Z",
     "shell.execute_reply": "2024-03-20T08:20:16.684993Z"
    },
    "papermill": {
     "duration": 0.033255,
     "end_time": "2024-03-20T08:20:16.686171",
     "exception": false,
     "start_time": "2024-03-20T08:20:16.652916",
     "status": "completed"
    },
    "slideshow": {
     "slide_type": ""
    },
    "tags": []
   },
   "outputs": [
    {
     "data": {
      "text/plain": [
       "('methods',\n",
       " 'This approach can be extended to a more complex model chain, where the correcting agent, for example, can query a knowledge graph or a vector database to ground its responses in prior knowledge. These chains are easy to implement, and some are available out of the box in the LangChain framework [@langchain]. However, they can behave unpredictably, which increases with the number of links in the chain and, as such, should be tightly controlled. They also add to the computational burden of the system, which is particularly relevant for deployments on end-user devices.',\n",
       " 'This approach can be extended to a more complex model chain, where the correcting agent, for example, can query a knowledge graph or a vector database to ground its responses in prior knowledge. These chains are easy to implement, and some are available out of the box in the LangChain framework (Doe et al., 2020). However, they can behave unpredictably, which increases with the number of links in the chain and, as such, should be tightly controlled. They also add to the computational burden of the system, which is particularly relevant for deployments on end-user devices.')"
      ]
     },
     "metadata": {},
     "output_type": "display_data"
    }
   ],
   "source": [
    "display(paragraph_matches[-1])"
   ]
  },
  {
   "cell_type": "markdown",
   "id": "9a45b8eb-9a57-4d0a-b311-b7ce8f6b4ceb",
   "metadata": {
    "editable": true,
    "papermill": {
     "duration": 0.029236,
     "end_time": "2024-03-20T08:20:16.744199",
     "exception": false,
     "start_time": "2024-03-20T08:20:16.714963",
     "status": "completed"
    },
    "slideshow": {
     "slide_type": ""
    },
    "tags": []
   },
   "source": [
    "# Close connections"
   ]
  },
  {
   "cell_type": "code",
   "execution_count": 206,
   "id": "91fcd4bb-131b-42b2-b64f-127441bd608b",
   "metadata": {
    "editable": true,
    "execution": {
     "iopub.execute_input": "2024-03-20T08:20:16.802600Z",
     "iopub.status.busy": "2024-03-20T08:20:16.802201Z",
     "iopub.status.idle": "2024-03-20T08:20:16.805798Z",
     "shell.execute_reply": "2024-03-20T08:20:16.805357Z"
    },
    "papermill": {
     "duration": 0.033797,
     "end_time": "2024-03-20T08:20:16.806524",
     "exception": false,
     "start_time": "2024-03-20T08:20:16.772727",
     "status": "completed"
    },
    "slideshow": {
     "slide_type": ""
    },
    "tags": []
   },
   "outputs": [],
   "source": [
    "g.close()"
   ]
  },
  {
   "cell_type": "markdown",
   "id": "be4b2259-6562-4d79-a0d2-a594c44a7fa8",
   "metadata": {
    "editable": true,
    "papermill": {
     "duration": 0.028373,
     "end_time": "2024-03-20T08:20:16.863356",
     "exception": false,
     "start_time": "2024-03-20T08:20:16.834983",
     "status": "completed"
    },
    "slideshow": {
     "slide_type": ""
    },
    "tags": []
   },
   "source": [
    "# Save"
   ]
  },
  {
   "cell_type": "code",
   "execution_count": 207,
   "id": "6b7e80bd-f678-4047-b0f6-3c4e55de4767",
   "metadata": {
    "editable": true,
    "execution": {
     "iopub.execute_input": "2024-03-20T08:20:16.921630Z",
     "iopub.status.busy": "2024-03-20T08:20:16.921023Z",
     "iopub.status.idle": "2024-03-20T08:20:16.924684Z",
     "shell.execute_reply": "2024-03-20T08:20:16.924256Z"
    },
    "papermill": {
     "duration": 0.033605,
     "end_time": "2024-03-20T08:20:16.925420",
     "exception": false,
     "start_time": "2024-03-20T08:20:16.891815",
     "status": "completed"
    },
    "slideshow": {
     "slide_type": ""
    },
    "tags": []
   },
   "outputs": [
    {
     "data": {
      "text/plain": [
       "37"
      ]
     },
     "execution_count": 207,
     "metadata": {},
     "output_type": "execute_result"
    }
   ],
   "source": [
    "len(paragraph_matches)"
   ]
  },
  {
   "cell_type": "code",
   "execution_count": 208,
   "id": "876f2147-1ea0-4f45-8eb2-722761b5394c",
   "metadata": {
    "execution": {
     "iopub.execute_input": "2024-03-20T08:20:16.984067Z",
     "iopub.status.busy": "2024-03-20T08:20:16.983674Z",
     "iopub.status.idle": "2024-03-20T08:20:16.987319Z",
     "shell.execute_reply": "2024-03-20T08:20:16.986890Z"
    },
    "papermill": {
     "duration": 0.033606,
     "end_time": "2024-03-20T08:20:16.988066",
     "exception": false,
     "start_time": "2024-03-20T08:20:16.954460",
     "status": "completed"
    },
    "tags": []
   },
   "outputs": [
    {
     "data": {
      "text/plain": [
       "[('abstract',\n",
       "  'Current-generation Large Language Models (LLMs) have stirred enormous interest in recent months, yielding great potential for accessibility and automation, while simultaneously posing significant challenges and risk of misuse. To facilitate interfacing with LLMs in the biomedical space, while at the same time safeguarding their functionalities through sensible constraints, we propose a dedicated, open-source framework: BioChatter. Based on open-source software packages, we synergise the many functionalities that are currently developing around LLMs, such as knowledge integration / retrieval-augmented generation, model chaining, and benchmarking, resulting in an easy-to-use and inclusive framework for application in many use cases of biomedicine. We focus on robust and user-friendly implementation, including ways to deploy privacy-preserving local open-source LLMs. We demonstrate use cases via two multi-purpose web apps ([https://chat.biocypher.org](https://chat.biocypher.org)), and provide documentation, support, and an open community.',\n",
       "  'Large Language Models (LLMs) have generated significant interest due to their potential for accessibility and automation in various fields, including biomedicine. However, they also present challenges and risks of misuse. In this paper, we address the need for a framework to interface with LLMs in the biomedical domain while ensuring their safe and effective use. To meet this need, we introduce BioChatter, an open-source framework that integrates various functionalities of LLMs, such as knowledge integration, retrieval-augmented generation, model chaining, and benchmarking. By leveraging open-source software packages, we have developed a user-friendly and versatile platform that can be applied across a range of biomedicine use cases. Our focus is on implementing robust and privacy-preserving local open-source LLMs. We showcase the utility of BioChatter through two multi-purpose web apps available at [https://chat.biocypher.org](https://chat.biocypher.org) and provide comprehensive documentation, support, and a vibrant open community.'),\n",
       " ('introduction',\n",
       "  'Despite technological advances, understanding biological and biomedical systems still poses major challenges [@gallagher-infinite;@dl-bioscience]. We measure more and more data points with ever-increasing resolution to such a degree that their analysis and interpretation have become the bottleneck for their exploitation [@dl-bioscience]. One reason for this challenge may be the inherent limitation of human knowledge [@doi:10.1016/j.tics.2005.04.010]: Even seasoned domain experts cannot know the implications of every gene, molecule, symptom, or biomarker. In addition, biological events are context-dependent, for instance with respect to a cell type or specific disease.',\n",
       "  'Despite technological advances, understanding biological and biomedical systems continues to present significant challenges (Gallagher et al., 2020; DL Bioscience, 2019). The volume of data generated is increasing exponentially, leading to a bottleneck in the analysis and interpretation of this data (DL Bioscience, 2019). One possible explanation for this challenge is the inherent limitation of human knowledge (Smith, 2005). Even experts in the field may not fully comprehend the implications of every gene, molecule, symptom, or biomarker. Moreover, biological processes are influenced by various contextual factors, such as cell type or specific disease conditions.')]"
      ]
     },
     "execution_count": 208,
     "metadata": {},
     "output_type": "execute_result"
    }
   ],
   "source": [
    "paragraph_matches[:2]"
   ]
  },
  {
   "cell_type": "code",
   "execution_count": 209,
   "id": "77d20807-9017-4e10-8cb7-6a3c706e9111",
   "metadata": {
    "execution": {
     "iopub.execute_input": "2024-03-20T08:20:17.046086Z",
     "iopub.status.busy": "2024-03-20T08:20:17.045861Z",
     "iopub.status.idle": "2024-03-20T08:20:17.049620Z",
     "shell.execute_reply": "2024-03-20T08:20:17.049178Z"
    },
    "papermill": {
     "duration": 0.033628,
     "end_time": "2024-03-20T08:20:17.050350",
     "exception": false,
     "start_time": "2024-03-20T08:20:17.016722",
     "status": "completed"
    },
    "tags": []
   },
   "outputs": [],
   "source": [
    "df = pd.DataFrame(paragraph_matches).rename(\n",
    "    columns={\n",
    "        0: \"section\",\n",
    "        1: \"original\",\n",
    "        2: \"modified\",\n",
    "    }\n",
    ")"
   ]
  },
  {
   "cell_type": "code",
   "execution_count": 210,
   "id": "44e31258-2754-49a0-af7a-5f3b4ef3a961",
   "metadata": {
    "execution": {
     "iopub.execute_input": "2024-03-20T08:20:17.108603Z",
     "iopub.status.busy": "2024-03-20T08:20:17.108178Z",
     "iopub.status.idle": "2024-03-20T08:20:17.111621Z",
     "shell.execute_reply": "2024-03-20T08:20:17.111196Z"
    },
    "papermill": {
     "duration": 0.033349,
     "end_time": "2024-03-20T08:20:17.112339",
     "exception": false,
     "start_time": "2024-03-20T08:20:17.078990",
     "status": "completed"
    },
    "tags": []
   },
   "outputs": [
    {
     "data": {
      "text/plain": [
       "(37, 3)"
      ]
     },
     "execution_count": 210,
     "metadata": {},
     "output_type": "execute_result"
    }
   ],
   "source": [
    "df.shape"
   ]
  },
  {
   "cell_type": "code",
   "execution_count": 211,
   "id": "f7612c30-e726-474f-8039-aa4bc44d1f16",
   "metadata": {
    "execution": {
     "iopub.execute_input": "2024-03-20T08:20:17.171177Z",
     "iopub.status.busy": "2024-03-20T08:20:17.170650Z",
     "iopub.status.idle": "2024-03-20T08:20:17.185841Z",
     "shell.execute_reply": "2024-03-20T08:20:17.185238Z"
    },
    "papermill": {
     "duration": 0.045421,
     "end_time": "2024-03-20T08:20:17.186650",
     "exception": false,
     "start_time": "2024-03-20T08:20:17.141229",
     "status": "completed"
    },
    "tags": []
   },
   "outputs": [
    {
     "data": {
      "text/html": [
       "<div>\n",
       "<style scoped>\n",
       "    .dataframe tbody tr th:only-of-type {\n",
       "        vertical-align: middle;\n",
       "    }\n",
       "\n",
       "    .dataframe tbody tr th {\n",
       "        vertical-align: top;\n",
       "    }\n",
       "\n",
       "    .dataframe thead th {\n",
       "        text-align: right;\n",
       "    }\n",
       "</style>\n",
       "<table border=\"1\" class=\"dataframe\">\n",
       "  <thead>\n",
       "    <tr style=\"text-align: right;\">\n",
       "      <th></th>\n",
       "      <th>section</th>\n",
       "      <th>original</th>\n",
       "      <th>modified</th>\n",
       "    </tr>\n",
       "  </thead>\n",
       "  <tbody>\n",
       "    <tr>\n",
       "      <th>0</th>\n",
       "      <td>abstract</td>\n",
       "      <td>Current-generation Large Language Models (LLMs...</td>\n",
       "      <td>Large Language Models (LLMs) have generated si...</td>\n",
       "    </tr>\n",
       "    <tr>\n",
       "      <th>1</th>\n",
       "      <td>introduction</td>\n",
       "      <td>Despite technological advances, understanding ...</td>\n",
       "      <td>Despite technological advances, understanding ...</td>\n",
       "    </tr>\n",
       "    <tr>\n",
       "      <th>2</th>\n",
       "      <td>introduction</td>\n",
       "      <td>Large Language Models (LLMs) of the current ge...</td>\n",
       "      <td>The latest generation of Large Language Models...</td>\n",
       "    </tr>\n",
       "    <tr>\n",
       "      <th>3</th>\n",
       "      <td>introduction</td>\n",
       "      <td>Computational biomedicine involves many tasks ...</td>\n",
       "      <td>Computational biomedicine encompasses various ...</td>\n",
       "    </tr>\n",
       "    <tr>\n",
       "      <th>4</th>\n",
       "      <td>results</td>\n",
       "      <td>The framework is designed to be modular: any o...</td>\n",
       "      <td>The framework is designed to be modular, allow...</td>\n",
       "    </tr>\n",
       "  </tbody>\n",
       "</table>\n",
       "</div>"
      ],
      "text/plain": [
       "        section                                           original  \\\n",
       "0      abstract  Current-generation Large Language Models (LLMs...   \n",
       "1  introduction  Despite technological advances, understanding ...   \n",
       "2  introduction  Large Language Models (LLMs) of the current ge...   \n",
       "3  introduction  Computational biomedicine involves many tasks ...   \n",
       "4       results  The framework is designed to be modular: any o...   \n",
       "\n",
       "                                            modified  \n",
       "0  Large Language Models (LLMs) have generated si...  \n",
       "1  Despite technological advances, understanding ...  \n",
       "2  The latest generation of Large Language Models...  \n",
       "3  Computational biomedicine encompasses various ...  \n",
       "4  The framework is designed to be modular, allow...  "
      ]
     },
     "execution_count": 211,
     "metadata": {},
     "output_type": "execute_result"
    }
   ],
   "source": [
    "df.head()"
   ]
  },
  {
   "cell_type": "code",
   "execution_count": 212,
   "id": "e072fbf8-91bd-4684-8782-9ccb8d6ee565",
   "metadata": {
    "execution": {
     "iopub.execute_input": "2024-03-20T08:20:17.245444Z",
     "iopub.status.busy": "2024-03-20T08:20:17.244980Z",
     "iopub.status.idle": "2024-03-20T08:20:17.248570Z",
     "shell.execute_reply": "2024-03-20T08:20:17.248104Z"
    },
    "papermill": {
     "duration": 0.033933,
     "end_time": "2024-03-20T08:20:17.249339",
     "exception": false,
     "start_time": "2024-03-20T08:20:17.215406",
     "status": "completed"
    },
    "tags": []
   },
   "outputs": [],
   "source": [
    "df.to_pickle(OUTPUT_FILE_PATH)"
   ]
  },
  {
   "cell_type": "code",
   "execution_count": null,
   "id": "02304589-1223-48c7-9c0a-26bfa26392e7",
   "metadata": {
    "editable": true,
    "papermill": {
     "duration": 0.028665,
     "end_time": "2024-03-20T08:20:17.307210",
     "exception": false,
     "start_time": "2024-03-20T08:20:17.278545",
     "status": "completed"
    },
    "slideshow": {
     "slide_type": ""
    },
    "tags": []
   },
   "outputs": [],
   "source": []
  }
 ],
 "metadata": {
  "jupytext": {
   "cell_metadata_filter": "all,-execution,-papermill,-trusted",
   "notebook_metadata_filter": "-jupytext.text_representation.jupytext_version"
  },
  "kernelspec": {
   "display_name": "Python 3 (ipykernel)",
   "language": "python",
   "name": "python3"
  },
  "language_info": {
   "codemirror_mode": {
    "name": "ipython",
    "version": 3
   },
   "file_extension": ".py",
   "mimetype": "text/x-python",
   "name": "python",
   "nbconvert_exporter": "python",
   "pygments_lexer": "ipython3",
   "version": "3.11.8"
  },
  "papermill": {
   "default_parameters": {},
   "duration": 21.586274,
   "end_time": "2024-03-20T08:20:17.853429",
   "environment_variables": {},
   "exception": null,
   "input_path": "/home/miltondp/projects/others/manubot/manubot-ai-editor-code/nbs/01-paragraph_match/00-biochatter-gpt35-par_match.ipynb",
   "output_path": "/home/miltondp/projects/others/manubot/manubot-ai-editor-code/nbs/01-paragraph_match/00-biochatter-gpt35-par_match.run.ipynb",
   "parameters": {
    "OUTPUT_FILE_PATH": "/home/miltondp/projects/others/manubot/manubot-ai-editor-code/base/results/paragraph_match/biochatter-manuscript--gpt-3.5-turbo.pkl"
   },
   "start_time": "2024-03-20T08:19:56.267155",
   "version": "2.5.0"
  }
 },
 "nbformat": 4,
 "nbformat_minor": 5
}
