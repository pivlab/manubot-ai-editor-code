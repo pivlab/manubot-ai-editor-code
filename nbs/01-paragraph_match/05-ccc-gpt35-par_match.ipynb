{
 "cells": [
  {
   "cell_type": "markdown",
   "id": "070a050a-44d1-42c2-b274-c8c180a2a0ba",
   "metadata": {
    "editable": true,
    "papermill": {
     "duration": 0.052764,
     "end_time": "2024-03-23T05:12:11.776740",
     "exception": false,
     "start_time": "2024-03-23T05:12:11.723976",
     "status": "completed"
    },
    "slideshow": {
     "slide_type": ""
    },
    "tags": []
   },
   "source": [
    "# Description"
   ]
  },
  {
   "cell_type": "markdown",
   "id": "e4fcbb4d-aa04-4e1a-9aee-0053c559e157",
   "metadata": {
    "editable": true,
    "papermill": {
     "duration": 0.024412,
     "end_time": "2024-03-23T05:12:11.840698",
     "exception": false,
     "start_time": "2024-03-23T05:12:11.816286",
     "status": "completed"
    },
    "slideshow": {
     "slide_type": ""
    },
    "tags": []
   },
   "source": [
    "This notebook reads a PR from a manuscript and matches original paragraphs with modified ones."
   ]
  },
  {
   "cell_type": "markdown",
   "id": "b237f234-dc98-43e9-8ff5-8922c410c377",
   "metadata": {
    "editable": true,
    "papermill": {
     "duration": 0.02443,
     "end_time": "2024-03-23T05:12:11.889285",
     "exception": false,
     "start_time": "2024-03-23T05:12:11.864855",
     "status": "completed"
    },
    "slideshow": {
     "slide_type": ""
    },
    "tags": []
   },
   "source": [
    "# Modules"
   ]
  },
  {
   "cell_type": "code",
   "execution_count": 1,
   "id": "70413318-1f5e-4d58-b1a2-cb4f01c13e86",
   "metadata": {
    "editable": true,
    "execution": {
     "iopub.execute_input": "2024-03-23T05:12:11.939729Z",
     "iopub.status.busy": "2024-03-23T05:12:11.939195Z",
     "iopub.status.idle": "2024-03-23T05:12:13.011483Z",
     "shell.execute_reply": "2024-03-23T05:12:13.010904Z"
    },
    "papermill": {
     "duration": 1.0994,
     "end_time": "2024-03-23T05:12:13.013040",
     "exception": false,
     "start_time": "2024-03-23T05:12:11.913640",
     "status": "completed"
    },
    "slideshow": {
     "slide_type": ""
    },
    "tags": []
   },
   "outputs": [],
   "source": [
    "from pathlib import Path\n",
    "\n",
    "import pandas as pd\n",
    "from github import Auth, Github\n",
    "from IPython.display import display\n",
    "from proj import conf\n",
    "from proj.utils import process_paragraph"
   ]
  },
  {
   "cell_type": "markdown",
   "id": "3f78fd18-86b7-40b9-b80e-a8b18d001682",
   "metadata": {
    "editable": true,
    "papermill": {
     "duration": 0.041307,
     "end_time": "2024-03-23T05:12:13.102783",
     "exception": false,
     "start_time": "2024-03-23T05:12:13.061476",
     "status": "completed"
    },
    "slideshow": {
     "slide_type": ""
    },
    "tags": []
   },
   "source": [
    "# Settings/paths"
   ]
  },
  {
   "cell_type": "code",
   "execution_count": 2,
   "id": "10a3ceca-1480-45b0-b04d-cb402ff95abf",
   "metadata": {
    "editable": true,
    "execution": {
     "iopub.execute_input": "2024-03-23T05:12:13.152534Z",
     "iopub.status.busy": "2024-03-23T05:12:13.151956Z",
     "iopub.status.idle": "2024-03-23T05:12:13.155097Z",
     "shell.execute_reply": "2024-03-23T05:12:13.154597Z"
    },
    "papermill": {
     "duration": 0.028991,
     "end_time": "2024-03-23T05:12:13.155874",
     "exception": false,
     "start_time": "2024-03-23T05:12:13.126883",
     "status": "completed"
    },
    "slideshow": {
     "slide_type": ""
    },
    "tags": [
     "parameters"
    ]
   },
   "outputs": [],
   "source": [
    "REPO = \"pivlab/manubot-ai-editor-code-test-ccc-manuscript\"\n",
    "PR = (2, \"gpt-3.5-turbo\")\n",
    "\n",
    "OUTPUT_FILE_PATH = None\n",
    "REVERSED_OUTPUT_FILE_PATH = None"
   ]
  },
  {
   "cell_type": "code",
   "execution_count": 3,
   "id": "a61b9ef6",
   "metadata": {
    "execution": {
     "iopub.execute_input": "2024-03-23T05:12:13.205985Z",
     "iopub.status.busy": "2024-03-23T05:12:13.205419Z",
     "iopub.status.idle": "2024-03-23T05:12:13.208450Z",
     "shell.execute_reply": "2024-03-23T05:12:13.207921Z"
    },
    "lines_to_next_cell": 2,
    "papermill": {
     "duration": 0.028794,
     "end_time": "2024-03-23T05:12:13.209247",
     "exception": false,
     "start_time": "2024-03-23T05:12:13.180453",
     "status": "completed"
    },
    "tags": [
     "injected-parameters"
    ]
   },
   "outputs": [],
   "source": [
    "# Parameters\n",
    "OUTPUT_FILE_PATH = \"/home/miltondp/projects/others/manubot/manubot-ai-editor-code/base/results/paragraph_match/ccc-manuscript--gpt-3.5-turbo.pkl\"\n",
    "REVERSED_OUTPUT_FILE_PATH = \"/home/miltondp/projects/others/manubot/manubot-ai-editor-code/base/results/paragraph_match/ccc-manuscript--gpt-3.5-turbo--reversed.pkl\""
   ]
  },
  {
   "cell_type": "code",
   "execution_count": 4,
   "id": "71351755-ed5f-43a2-a886-6ef08afaddf4",
   "metadata": {
    "editable": true,
    "execution": {
     "iopub.execute_input": "2024-03-23T05:12:13.258691Z",
     "iopub.status.busy": "2024-03-23T05:12:13.258475Z",
     "iopub.status.idle": "2024-03-23T05:12:13.265396Z",
     "shell.execute_reply": "2024-03-23T05:12:13.264878Z"
    },
    "papermill": {
     "duration": 0.032515,
     "end_time": "2024-03-23T05:12:13.266208",
     "exception": false,
     "start_time": "2024-03-23T05:12:13.233693",
     "status": "completed"
    },
    "slideshow": {
     "slide_type": ""
    },
    "tags": []
   },
   "outputs": [
    {
     "data": {
      "text/plain": [
       "PosixPath('/home/miltondp/projects/others/manubot/manubot-ai-editor-code/base/results/paragraph_match/ccc-manuscript--gpt-3.5-turbo.pkl')"
      ]
     },
     "metadata": {},
     "output_type": "display_data"
    }
   ],
   "source": [
    "OUTPUT_FILE_PATH = Path(OUTPUT_FILE_PATH).resolve()\n",
    "OUTPUT_FILE_PATH.parent.mkdir(parents=True, exist_ok=True)\n",
    "display(OUTPUT_FILE_PATH)"
   ]
  },
  {
   "cell_type": "code",
   "execution_count": 5,
   "id": "fb96b09f",
   "metadata": {
    "editable": true,
    "execution": {
     "iopub.execute_input": "2024-03-23T05:12:13.317254Z",
     "iopub.status.busy": "2024-03-23T05:12:13.316653Z",
     "iopub.status.idle": "2024-03-23T05:12:13.321323Z",
     "shell.execute_reply": "2024-03-23T05:12:13.320813Z"
    },
    "papermill": {
     "duration": 0.031236,
     "end_time": "2024-03-23T05:12:13.322167",
     "exception": false,
     "start_time": "2024-03-23T05:12:13.290931",
     "status": "completed"
    },
    "slideshow": {
     "slide_type": ""
    },
    "tags": []
   },
   "outputs": [
    {
     "data": {
      "text/plain": [
       "PosixPath('/home/miltondp/projects/others/manubot/manubot-ai-editor-code/base/results/paragraph_match/ccc-manuscript--gpt-3.5-turbo--reversed.pkl')"
      ]
     },
     "metadata": {},
     "output_type": "display_data"
    }
   ],
   "source": [
    "REVERSED_OUTPUT_FILE_PATH = Path(REVERSED_OUTPUT_FILE_PATH).resolve()\n",
    "REVERSED_OUTPUT_FILE_PATH.parent.mkdir(parents=True, exist_ok=True)\n",
    "display(REVERSED_OUTPUT_FILE_PATH)"
   ]
  },
  {
   "cell_type": "markdown",
   "id": "c42b83b5-84b7-45ff-88ee-3651aa5c9c55",
   "metadata": {
    "editable": true,
    "papermill": {
     "duration": 0.024949,
     "end_time": "2024-03-23T05:12:13.372286",
     "exception": false,
     "start_time": "2024-03-23T05:12:13.347337",
     "status": "completed"
    },
    "slideshow": {
     "slide_type": ""
    },
    "tags": []
   },
   "source": [
    "# Get Repo"
   ]
  },
  {
   "cell_type": "code",
   "execution_count": 6,
   "id": "f1d1f476-f5b5-4d1c-9c3a-822e9bef4b27",
   "metadata": {
    "editable": true,
    "execution": {
     "iopub.execute_input": "2024-03-23T05:12:13.423057Z",
     "iopub.status.busy": "2024-03-23T05:12:13.422500Z",
     "iopub.status.idle": "2024-03-23T05:12:13.425562Z",
     "shell.execute_reply": "2024-03-23T05:12:13.425050Z"
    },
    "papermill": {
     "duration": 0.0294,
     "end_time": "2024-03-23T05:12:13.426389",
     "exception": false,
     "start_time": "2024-03-23T05:12:13.396989",
     "status": "completed"
    },
    "slideshow": {
     "slide_type": ""
    },
    "tags": []
   },
   "outputs": [],
   "source": [
    "auth = Auth.Token(conf.github.API_TOKEN)"
   ]
  },
  {
   "cell_type": "code",
   "execution_count": 7,
   "id": "4e3db6e2-f267-4d60-8ff3-703698a09f88",
   "metadata": {
    "editable": true,
    "execution": {
     "iopub.execute_input": "2024-03-23T05:12:13.478045Z",
     "iopub.status.busy": "2024-03-23T05:12:13.477666Z",
     "iopub.status.idle": "2024-03-23T05:12:13.480649Z",
     "shell.execute_reply": "2024-03-23T05:12:13.480131Z"
    },
    "papermill": {
     "duration": 0.029651,
     "end_time": "2024-03-23T05:12:13.481412",
     "exception": false,
     "start_time": "2024-03-23T05:12:13.451761",
     "status": "completed"
    },
    "slideshow": {
     "slide_type": ""
    },
    "tags": []
   },
   "outputs": [],
   "source": [
    "g = Github(auth=auth)"
   ]
  },
  {
   "cell_type": "code",
   "execution_count": 8,
   "id": "cc6a365d-59f5-4537-9fd7-869ee4156046",
   "metadata": {
    "editable": true,
    "execution": {
     "iopub.execute_input": "2024-03-23T05:12:13.532509Z",
     "iopub.status.busy": "2024-03-23T05:12:13.532136Z",
     "iopub.status.idle": "2024-03-23T05:12:14.015110Z",
     "shell.execute_reply": "2024-03-23T05:12:14.014523Z"
    },
    "papermill": {
     "duration": 0.509783,
     "end_time": "2024-03-23T05:12:14.016232",
     "exception": false,
     "start_time": "2024-03-23T05:12:13.506449",
     "status": "completed"
    },
    "slideshow": {
     "slide_type": ""
    },
    "tags": []
   },
   "outputs": [],
   "source": [
    "repo = g.get_repo(REPO)"
   ]
  },
  {
   "cell_type": "markdown",
   "id": "f2d9fb5d-6838-484b-9202-ceac74fcb336",
   "metadata": {
    "editable": true,
    "papermill": {
     "duration": 0.024735,
     "end_time": "2024-03-23T05:12:14.065879",
     "exception": false,
     "start_time": "2024-03-23T05:12:14.041144",
     "status": "completed"
    },
    "slideshow": {
     "slide_type": ""
    },
    "tags": []
   },
   "source": [
    "# Get Pull Request"
   ]
  },
  {
   "cell_type": "code",
   "execution_count": 9,
   "id": "297c9dec-9e00-490d-8723-44208b3fe8f4",
   "metadata": {
    "editable": true,
    "execution": {
     "iopub.execute_input": "2024-03-23T05:12:14.118855Z",
     "iopub.status.busy": "2024-03-23T05:12:14.118412Z",
     "iopub.status.idle": "2024-03-23T05:12:14.642161Z",
     "shell.execute_reply": "2024-03-23T05:12:14.641478Z"
    },
    "papermill": {
     "duration": 0.551428,
     "end_time": "2024-03-23T05:12:14.643536",
     "exception": false,
     "start_time": "2024-03-23T05:12:14.092108",
     "status": "completed"
    },
    "slideshow": {
     "slide_type": ""
    },
    "tags": []
   },
   "outputs": [],
   "source": [
    "pr = repo.get_pull(PR[0])"
   ]
  },
  {
   "cell_type": "code",
   "execution_count": 10,
   "id": "064b1017-a495-48b3-bea3-1b9a67ad1b6f",
   "metadata": {
    "editable": true,
    "execution": {
     "iopub.execute_input": "2024-03-23T05:12:14.696717Z",
     "iopub.status.busy": "2024-03-23T05:12:14.696261Z",
     "iopub.status.idle": "2024-03-23T05:12:15.117187Z",
     "shell.execute_reply": "2024-03-23T05:12:15.116718Z"
    },
    "papermill": {
     "duration": 0.446831,
     "end_time": "2024-03-23T05:12:15.117959",
     "exception": false,
     "start_time": "2024-03-23T05:12:14.671128",
     "status": "completed"
    },
    "slideshow": {
     "slide_type": ""
    },
    "tags": []
   },
   "outputs": [
    {
     "data": {
      "text/plain": [
       "[File(sha=\"4b1b8489a63dc51e4eba4d71f32b026169e901d1\", filename=\"content/01.abstract.md\"),\n",
       " File(sha=\"96b9d8fdf8b314d5156029ea5e5c0727408d6cee\", filename=\"content/02.introduction.md\"),\n",
       " File(sha=\"ad101146fd6476ed4bf1fd4bcbbe8fa9e174c2f0\", filename=\"content/04.05.results_intro.md\"),\n",
       " File(sha=\"74ea03690a400f1c576007aff728e41fc7fb0faf\", filename=\"content/04.10.results_comp.md\"),\n",
       " File(sha=\"5088c6fa5f7d04ffdf17fd2392cc27c9d917c7a0\", filename=\"content/04.12.results_giant.md\"),\n",
       " File(sha=\"e0be1fecd6158445a8102f098545b135abf07fed\", filename=\"content/06.discussion.md\"),\n",
       " File(sha=\"328b3aac9742ec34d4d0d0fcc42dca439952433d\", filename=\"content/08.01.methods.ccc.md\"),\n",
       " File(sha=\"0c5625cac78916c535fe5f1c404846e52c62b59a\", filename=\"content/08.05.methods.data.md\"),\n",
       " File(sha=\"16d0a39afea2c2c361967d01214f79d8bbf2d76d\", filename=\"content/08.15.methods.giant.md\"),\n",
       " File(sha=\"81b2c0d4c4fca81a3820bd2ac3bb46efdd7b2ca5\", filename=\"content/08.20.methods.mic.md\"),\n",
       " File(sha=\"176e79ecda4017d56f4808a244e70a2786683deb\", filename=\"content/20.00.supplementary_material.md\")]"
      ]
     },
     "execution_count": 10,
     "metadata": {},
     "output_type": "execute_result"
    }
   ],
   "source": [
    "list(pr.get_files())"
   ]
  },
  {
   "cell_type": "code",
   "execution_count": 11,
   "id": "7bc9b271-7ed2-4994-9d36-c8afa946b017",
   "metadata": {
    "editable": true,
    "execution": {
     "iopub.execute_input": "2024-03-23T05:12:15.174976Z",
     "iopub.status.busy": "2024-03-23T05:12:15.174409Z",
     "iopub.status.idle": "2024-03-23T05:12:15.511214Z",
     "shell.execute_reply": "2024-03-23T05:12:15.510643Z"
    },
    "papermill": {
     "duration": 0.363995,
     "end_time": "2024-03-23T05:12:15.512607",
     "exception": false,
     "start_time": "2024-03-23T05:12:15.148612",
     "status": "completed"
    },
    "slideshow": {
     "slide_type": ""
    },
    "tags": []
   },
   "outputs": [],
   "source": [
    "pr_commits = list(pr.get_commits())"
   ]
  },
  {
   "cell_type": "code",
   "execution_count": 12,
   "id": "446a1453-5729-4687-9b93-8165dd0e2793",
   "metadata": {
    "editable": true,
    "execution": {
     "iopub.execute_input": "2024-03-23T05:12:15.600855Z",
     "iopub.status.busy": "2024-03-23T05:12:15.600405Z",
     "iopub.status.idle": "2024-03-23T05:12:15.604353Z",
     "shell.execute_reply": "2024-03-23T05:12:15.603845Z"
    },
    "papermill": {
     "duration": 0.046134,
     "end_time": "2024-03-23T05:12:15.605130",
     "exception": false,
     "start_time": "2024-03-23T05:12:15.558996",
     "status": "completed"
    },
    "slideshow": {
     "slide_type": ""
    },
    "tags": []
   },
   "outputs": [
    {
     "data": {
      "text/plain": [
       "[Commit(sha=\"0adeb9d709cc9d66e52a325c114605655b1b4923\")]"
      ]
     },
     "execution_count": 12,
     "metadata": {},
     "output_type": "execute_result"
    }
   ],
   "source": [
    "pr_commits[0].parents"
   ]
  },
  {
   "cell_type": "code",
   "execution_count": 13,
   "id": "9c2382a1-adcc-47dc-8c75-d34f8500f93e",
   "metadata": {
    "editable": true,
    "execution": {
     "iopub.execute_input": "2024-03-23T05:12:15.655415Z",
     "iopub.status.busy": "2024-03-23T05:12:15.655093Z",
     "iopub.status.idle": "2024-03-23T05:12:15.658476Z",
     "shell.execute_reply": "2024-03-23T05:12:15.657955Z"
    },
    "papermill": {
     "duration": 0.02952,
     "end_time": "2024-03-23T05:12:15.659232",
     "exception": false,
     "start_time": "2024-03-23T05:12:15.629712",
     "status": "completed"
    },
    "slideshow": {
     "slide_type": ""
    },
    "tags": []
   },
   "outputs": [
    {
     "name": "stdout",
     "output_type": "stream",
     "text": [
      "0adeb9d709cc9d66e52a325c114605655b1b4923\n"
     ]
    }
   ],
   "source": [
    "pr_prev = pr_commits[0].parents[0].sha\n",
    "print(pr_prev)"
   ]
  },
  {
   "cell_type": "code",
   "execution_count": 14,
   "id": "96c9b088-a166-49d6-a0df-64d2cf690b7e",
   "metadata": {
    "editable": true,
    "execution": {
     "iopub.execute_input": "2024-03-23T05:12:15.736245Z",
     "iopub.status.busy": "2024-03-23T05:12:15.735887Z",
     "iopub.status.idle": "2024-03-23T05:12:15.739103Z",
     "shell.execute_reply": "2024-03-23T05:12:15.738572Z"
    },
    "papermill": {
     "duration": 0.02974,
     "end_time": "2024-03-23T05:12:15.739919",
     "exception": false,
     "start_time": "2024-03-23T05:12:15.710179",
     "status": "completed"
    },
    "slideshow": {
     "slide_type": ""
    },
    "tags": []
   },
   "outputs": [
    {
     "name": "stdout",
     "output_type": "stream",
     "text": [
      "bdee3d136aa9e8b6d80b31e926069f9b96e1cac5\n"
     ]
    }
   ],
   "source": [
    "pr_curr = pr_commits[0].sha\n",
    "print(pr_curr)"
   ]
  },
  {
   "cell_type": "markdown",
   "id": "10872c1e-0184-46c6-a04f-dce43438d404",
   "metadata": {
    "editable": true,
    "papermill": {
     "duration": 0.024551,
     "end_time": "2024-03-23T05:12:15.789056",
     "exception": false,
     "start_time": "2024-03-23T05:12:15.764505",
     "status": "completed"
    },
    "slideshow": {
     "slide_type": ""
    },
    "tags": []
   },
   "source": [
    "# Get file list"
   ]
  },
  {
   "cell_type": "code",
   "execution_count": 15,
   "id": "242729cf-1778-4162-b813-249ae6c8b632",
   "metadata": {
    "editable": true,
    "execution": {
     "iopub.execute_input": "2024-03-23T05:12:15.839564Z",
     "iopub.status.busy": "2024-03-23T05:12:15.839222Z",
     "iopub.status.idle": "2024-03-23T05:12:15.979112Z",
     "shell.execute_reply": "2024-03-23T05:12:15.978495Z"
    },
    "papermill": {
     "duration": 0.166326,
     "end_time": "2024-03-23T05:12:15.980162",
     "exception": false,
     "start_time": "2024-03-23T05:12:15.813836",
     "status": "completed"
    },
    "slideshow": {
     "slide_type": ""
    },
    "tags": []
   },
   "outputs": [
    {
     "data": {
      "text/plain": [
       "[File(sha=\"4b1b8489a63dc51e4eba4d71f32b026169e901d1\", filename=\"content/01.abstract.md\"),\n",
       " File(sha=\"96b9d8fdf8b314d5156029ea5e5c0727408d6cee\", filename=\"content/02.introduction.md\"),\n",
       " File(sha=\"ad101146fd6476ed4bf1fd4bcbbe8fa9e174c2f0\", filename=\"content/04.05.results_intro.md\"),\n",
       " File(sha=\"74ea03690a400f1c576007aff728e41fc7fb0faf\", filename=\"content/04.10.results_comp.md\"),\n",
       " File(sha=\"5088c6fa5f7d04ffdf17fd2392cc27c9d917c7a0\", filename=\"content/04.12.results_giant.md\"),\n",
       " File(sha=\"e0be1fecd6158445a8102f098545b135abf07fed\", filename=\"content/06.discussion.md\"),\n",
       " File(sha=\"328b3aac9742ec34d4d0d0fcc42dca439952433d\", filename=\"content/08.01.methods.ccc.md\"),\n",
       " File(sha=\"0c5625cac78916c535fe5f1c404846e52c62b59a\", filename=\"content/08.05.methods.data.md\"),\n",
       " File(sha=\"16d0a39afea2c2c361967d01214f79d8bbf2d76d\", filename=\"content/08.15.methods.giant.md\"),\n",
       " File(sha=\"81b2c0d4c4fca81a3820bd2ac3bb46efdd7b2ca5\", filename=\"content/08.20.methods.mic.md\"),\n",
       " File(sha=\"176e79ecda4017d56f4808a244e70a2786683deb\", filename=\"content/20.00.supplementary_material.md\")]"
      ]
     },
     "metadata": {},
     "output_type": "display_data"
    }
   ],
   "source": [
    "pr_files = [f for f in pr.get_files() if f.filename.endswith(\".md\")]\n",
    "display(pr_files)"
   ]
  },
  {
   "cell_type": "markdown",
   "id": "bce10792-ba0d-4716-9dcd-b44c2eb668d4",
   "metadata": {
    "editable": true,
    "papermill": {
     "duration": 0.036653,
     "end_time": "2024-03-23T05:12:16.054195",
     "exception": false,
     "start_time": "2024-03-23T05:12:16.017542",
     "status": "completed"
    },
    "slideshow": {
     "slide_type": ""
    },
    "tags": []
   },
   "source": [
    "# Sections"
   ]
  },
  {
   "cell_type": "code",
   "execution_count": 16,
   "id": "6253b146-7bd2-44ff-9ccc-6f245a11dd23",
   "metadata": {
    "execution": {
     "iopub.execute_input": "2024-03-23T05:12:16.107476Z",
     "iopub.status.busy": "2024-03-23T05:12:16.106915Z",
     "iopub.status.idle": "2024-03-23T05:12:16.109898Z",
     "shell.execute_reply": "2024-03-23T05:12:16.109302Z"
    },
    "papermill": {
     "duration": 0.030745,
     "end_time": "2024-03-23T05:12:16.110711",
     "exception": false,
     "start_time": "2024-03-23T05:12:16.079966",
     "status": "completed"
    },
    "tags": []
   },
   "outputs": [],
   "source": [
    "paragraph_matches = []"
   ]
  },
  {
   "cell_type": "markdown",
   "id": "7c403bcf-5c79-4bde-adfe-a09464b8b076",
   "metadata": {
    "editable": true,
    "papermill": {
     "duration": 0.025074,
     "end_time": "2024-03-23T05:12:16.160932",
     "exception": false,
     "start_time": "2024-03-23T05:12:16.135858",
     "status": "completed"
    },
    "slideshow": {
     "slide_type": ""
    },
    "tags": []
   },
   "source": [
    "## Abstract"
   ]
  },
  {
   "cell_type": "code",
   "execution_count": 17,
   "id": "5c13a99f-54e2-463e-9d20-d43a89c9ef76",
   "metadata": {
    "execution": {
     "iopub.execute_input": "2024-03-23T05:12:16.211818Z",
     "iopub.status.busy": "2024-03-23T05:12:16.211371Z",
     "iopub.status.idle": "2024-03-23T05:12:16.214310Z",
     "shell.execute_reply": "2024-03-23T05:12:16.213751Z"
    },
    "papermill": {
     "duration": 0.029331,
     "end_time": "2024-03-23T05:12:16.215042",
     "exception": false,
     "start_time": "2024-03-23T05:12:16.185711",
     "status": "completed"
    },
    "tags": []
   },
   "outputs": [],
   "source": [
    "section_name = \"abstract\""
   ]
  },
  {
   "cell_type": "code",
   "execution_count": 18,
   "id": "1558f08b-19a8-4951-8dea-228d7f59099d",
   "metadata": {
    "editable": true,
    "execution": {
     "iopub.execute_input": "2024-03-23T05:12:16.265406Z",
     "iopub.status.busy": "2024-03-23T05:12:16.265083Z",
     "iopub.status.idle": "2024-03-23T05:12:16.268431Z",
     "shell.execute_reply": "2024-03-23T05:12:16.267920Z"
    },
    "papermill": {
     "duration": 0.029367,
     "end_time": "2024-03-23T05:12:16.269230",
     "exception": false,
     "start_time": "2024-03-23T05:12:16.239863",
     "status": "completed"
    },
    "slideshow": {
     "slide_type": ""
    },
    "tags": []
   },
   "outputs": [
    {
     "name": "stdout",
     "output_type": "stream",
     "text": [
      "content/01.abstract.md\n"
     ]
    }
   ],
   "source": [
    "pr_filename = pr_files[0].filename\n",
    "assert section_name in pr_filename\n",
    "print(pr_filename)"
   ]
  },
  {
   "cell_type": "markdown",
   "id": "11efc147-ae59-4db5-990d-7d30c89ed8d0",
   "metadata": {
    "editable": true,
    "papermill": {
     "duration": 0.024378,
     "end_time": "2024-03-23T05:12:16.318711",
     "exception": false,
     "start_time": "2024-03-23T05:12:16.294333",
     "status": "completed"
    },
    "slideshow": {
     "slide_type": ""
    },
    "tags": []
   },
   "source": [
    "### Original"
   ]
  },
  {
   "cell_type": "code",
   "execution_count": 19,
   "id": "47db229e-b5e4-4c9a-ae54-fc984d9fdcde",
   "metadata": {
    "execution": {
     "iopub.execute_input": "2024-03-23T05:12:16.368780Z",
     "iopub.status.busy": "2024-03-23T05:12:16.368440Z",
     "iopub.status.idle": "2024-03-23T05:12:16.518925Z",
     "shell.execute_reply": "2024-03-23T05:12:16.518269Z"
    },
    "papermill": {
     "duration": 0.176809,
     "end_time": "2024-03-23T05:12:16.519924",
     "exception": false,
     "start_time": "2024-03-23T05:12:16.343115",
     "status": "completed"
    },
    "tags": []
   },
   "outputs": [
    {
     "name": "stdout",
     "output_type": "stream",
     "text": [
      "## Abstract {.page_break_before}\n",
      "\n",
      "Correlation coef\n"
     ]
    }
   ],
   "source": [
    "# get content\n",
    "orig_section_content = repo.get_contents(pr_filename, pr_prev).decoded_content.decode(\n",
    "    \"utf-8\"\n",
    ")\n",
    "print(orig_section_content[:50])"
   ]
  },
  {
   "cell_type": "code",
   "execution_count": 20,
   "id": "1c6e25fa-ef56-4d1a-8127-064e5cc348aa",
   "metadata": {
    "execution": {
     "iopub.execute_input": "2024-03-23T05:12:16.594933Z",
     "iopub.status.busy": "2024-03-23T05:12:16.594600Z",
     "iopub.status.idle": "2024-03-23T05:12:16.598294Z",
     "shell.execute_reply": "2024-03-23T05:12:16.597846Z"
    },
    "papermill": {
     "duration": 0.041768,
     "end_time": "2024-03-23T05:12:16.599006",
     "exception": false,
     "start_time": "2024-03-23T05:12:16.557238",
     "status": "completed"
    },
    "tags": []
   },
   "outputs": [
    {
     "data": {
      "text/plain": [
       "2"
      ]
     },
     "metadata": {},
     "output_type": "display_data"
    }
   ],
   "source": [
    "# split by paragraph\n",
    "orig_section_paragraphs = orig_section_content.split(\"\\n\\n\")\n",
    "display(len(orig_section_paragraphs))"
   ]
  },
  {
   "cell_type": "markdown",
   "id": "52d7d0ff-91f7-4435-ac51-78c9c9ce25fa",
   "metadata": {
    "editable": true,
    "papermill": {
     "duration": 0.024893,
     "end_time": "2024-03-23T05:12:16.648568",
     "exception": false,
     "start_time": "2024-03-23T05:12:16.623675",
     "status": "completed"
    },
    "slideshow": {
     "slide_type": ""
    },
    "tags": []
   },
   "source": [
    "### Modified"
   ]
  },
  {
   "cell_type": "code",
   "execution_count": 21,
   "id": "c12094b0-c50f-4d98-85f7-dd5072ff68e1",
   "metadata": {
    "execution": {
     "iopub.execute_input": "2024-03-23T05:12:16.699232Z",
     "iopub.status.busy": "2024-03-23T05:12:16.698788Z",
     "iopub.status.idle": "2024-03-23T05:12:16.923805Z",
     "shell.execute_reply": "2024-03-23T05:12:16.923255Z"
    },
    "papermill": {
     "duration": 0.251614,
     "end_time": "2024-03-23T05:12:16.924845",
     "exception": false,
     "start_time": "2024-03-23T05:12:16.673231",
     "status": "completed"
    },
    "tags": []
   },
   "outputs": [
    {
     "name": "stdout",
     "output_type": "stream",
     "text": [
      "## Abstract {.page_break_before}\n",
      "\n",
      "In transcriptomi\n"
     ]
    }
   ],
   "source": [
    "# get content\n",
    "mod_section_content = repo.get_contents(pr_filename, pr_curr).decoded_content.decode(\n",
    "    \"utf-8\"\n",
    ")\n",
    "print(mod_section_content[:50])"
   ]
  },
  {
   "cell_type": "code",
   "execution_count": 22,
   "id": "e02bdeb5-77c9-4a96-adf4-a31ba8047062",
   "metadata": {
    "execution": {
     "iopub.execute_input": "2024-03-23T05:12:16.999857Z",
     "iopub.status.busy": "2024-03-23T05:12:16.999485Z",
     "iopub.status.idle": "2024-03-23T05:12:17.003496Z",
     "shell.execute_reply": "2024-03-23T05:12:17.002997Z"
    },
    "papermill": {
     "duration": 0.042643,
     "end_time": "2024-03-23T05:12:17.004483",
     "exception": false,
     "start_time": "2024-03-23T05:12:16.961840",
     "status": "completed"
    },
    "tags": []
   },
   "outputs": [
    {
     "data": {
      "text/plain": [
       "2"
      ]
     },
     "metadata": {},
     "output_type": "display_data"
    }
   ],
   "source": [
    "# split by paragraph\n",
    "mod_section_paragraphs = mod_section_content.split(\"\\n\\n\")\n",
    "display(len(mod_section_paragraphs))"
   ]
  },
  {
   "cell_type": "markdown",
   "id": "bcbaf41a-e76e-4b5d-8daa-4db6cdb20f66",
   "metadata": {
    "editable": true,
    "papermill": {
     "duration": 0.024773,
     "end_time": "2024-03-23T05:12:17.058567",
     "exception": false,
     "start_time": "2024-03-23T05:12:17.033794",
     "status": "completed"
    },
    "slideshow": {
     "slide_type": ""
    },
    "tags": []
   },
   "source": [
    "### Match"
   ]
  },
  {
   "cell_type": "code",
   "execution_count": 23,
   "id": "38ec8ddf-9d53-4e31-8a48-2946e35e6996",
   "metadata": {
    "execution": {
     "iopub.execute_input": "2024-03-23T05:12:17.109352Z",
     "iopub.status.busy": "2024-03-23T05:12:17.109030Z",
     "iopub.status.idle": "2024-03-23T05:12:17.112542Z",
     "shell.execute_reply": "2024-03-23T05:12:17.112118Z"
    },
    "papermill": {
     "duration": 0.029877,
     "end_time": "2024-03-23T05:12:17.113303",
     "exception": false,
     "start_time": "2024-03-23T05:12:17.083426",
     "status": "completed"
    },
    "tags": []
   },
   "outputs": [
    {
     "data": {
      "text/plain": [
       "'## Abstract {.page_break_before}'"
      ]
     },
     "execution_count": 23,
     "metadata": {},
     "output_type": "execute_result"
    }
   ],
   "source": [
    "orig_section_paragraphs[0]"
   ]
  },
  {
   "cell_type": "code",
   "execution_count": 24,
   "id": "b665987d-444c-49b9-8d67-1bf157225d68",
   "metadata": {
    "execution": {
     "iopub.execute_input": "2024-03-23T05:12:17.164186Z",
     "iopub.status.busy": "2024-03-23T05:12:17.163887Z",
     "iopub.status.idle": "2024-03-23T05:12:17.167264Z",
     "shell.execute_reply": "2024-03-23T05:12:17.166836Z"
    },
    "papermill": {
     "duration": 0.029547,
     "end_time": "2024-03-23T05:12:17.168027",
     "exception": false,
     "start_time": "2024-03-23T05:12:17.138480",
     "status": "completed"
    },
    "tags": []
   },
   "outputs": [
    {
     "data": {
      "text/plain": [
       "'## Abstract {.page_break_before}'"
      ]
     },
     "execution_count": 24,
     "metadata": {},
     "output_type": "execute_result"
    }
   ],
   "source": [
    "mod_section_paragraphs[0]"
   ]
  },
  {
   "cell_type": "markdown",
   "id": "19b0d453-ff6b-4194-bd5b-caec7a71a0ac",
   "metadata": {
    "editable": true,
    "papermill": {
     "duration": 0.02523,
     "end_time": "2024-03-23T05:12:17.218322",
     "exception": false,
     "start_time": "2024-03-23T05:12:17.193092",
     "status": "completed"
    },
    "slideshow": {
     "slide_type": ""
    },
    "tags": []
   },
   "source": [
    "####  Paragraph 00"
   ]
  },
  {
   "cell_type": "code",
   "execution_count": 25,
   "id": "d6e681b6-d79a-45d9-a414-653920159e1c",
   "metadata": {
    "execution": {
     "iopub.execute_input": "2024-03-23T05:12:17.268932Z",
     "iopub.status.busy": "2024-03-23T05:12:17.268609Z",
     "iopub.status.idle": "2024-03-23T05:12:17.271773Z",
     "shell.execute_reply": "2024-03-23T05:12:17.271285Z"
    },
    "papermill": {
     "duration": 0.029411,
     "end_time": "2024-03-23T05:12:17.272533",
     "exception": false,
     "start_time": "2024-03-23T05:12:17.243122",
     "status": "completed"
    },
    "tags": []
   },
   "outputs": [
    {
     "name": "stdout",
     "output_type": "stream",
     "text": [
      "Correlation coefficients are widely used to identify patterns in data that may be of particular interest. In transcriptomics, genes with correlated expression often share functions or are part of disease-relevant biological processes. Here we introduce the Clustermatch Correlation Coefficient (CCC), an efficient, easy-to-use and not-only-linear coefficient based on machine learning models. CCC reveals biologically meaningful linear and nonlinear patterns missed by standard, linear-only correlation coefficients. CCC captures general patterns in data by comparing clustering solutions while being much faster than state-of-the-art coefficients such as the Maximal Information Coefficient. When applied to human gene expression data, CCC identifies robust linear relationships while detecting nonlinear patterns associated, for example, with sex differences that are not captured by linear-only coefficients. Gene pairs highly ranked by CCC were enriched for interactions in integrated networks built from protein-protein interaction, transcription factor regulation, and chemical and genetic perturbations, suggesting that CCC could detect functional relationships that linear-only methods missed. CCC is a highly-efficient, next-generation not-only-linear correlation coefficient that can readily be applied to genome-scale data and other domains across different data types.\n"
     ]
    }
   ],
   "source": [
    "par0 = process_paragraph(orig_section_paragraphs[1])\n",
    "print(par0)"
   ]
  },
  {
   "cell_type": "code",
   "execution_count": 26,
   "id": "d1bf3ff4-c3ab-4ca8-b5d5-c3a2f6c02702",
   "metadata": {
    "execution": {
     "iopub.execute_input": "2024-03-23T05:12:17.324189Z",
     "iopub.status.busy": "2024-03-23T05:12:17.323861Z",
     "iopub.status.idle": "2024-03-23T05:12:17.326963Z",
     "shell.execute_reply": "2024-03-23T05:12:17.326500Z"
    },
    "papermill": {
     "duration": 0.0297,
     "end_time": "2024-03-23T05:12:17.327721",
     "exception": false,
     "start_time": "2024-03-23T05:12:17.298021",
     "status": "completed"
    },
    "tags": []
   },
   "outputs": [
    {
     "name": "stdout",
     "output_type": "stream",
     "text": [
      "In transcriptomics, identifying patterns in gene expression data is crucial for understanding biological processes. The traditional linear correlation coefficients may not capture all the complexities in gene relationships. To address this, we propose the Clustermatch Correlation Coefficient (CCC), a machine learning-based coefficient that can reveal both linear and nonlinear patterns efficiently. Compared to standard coefficients like the Maximal Information Coefficient, CCC is faster and can detect biologically meaningful patterns that are missed by linear-only methods. When applied to human gene expression data, CCC not only identifies robust linear relationships but also uncovers nonlinear patterns, such as sex differences. Additionally, CCC can detect functional relationships between genes that are overlooked by linear-only methods, as shown by enrichment in integrated networks. Overall, CCC is a versatile and efficient tool that can be applied to genome-scale data and various data types to uncover hidden relationships.\n"
     ]
    }
   ],
   "source": [
    "par1 = process_paragraph(mod_section_paragraphs[1])\n",
    "print(par1)"
   ]
  },
  {
   "cell_type": "code",
   "execution_count": 27,
   "id": "c4b6cfc3-c2ae-40ce-abca-de3778b445f4",
   "metadata": {
    "execution": {
     "iopub.execute_input": "2024-03-23T05:12:17.378850Z",
     "iopub.status.busy": "2024-03-23T05:12:17.378549Z",
     "iopub.status.idle": "2024-03-23T05:12:17.381189Z",
     "shell.execute_reply": "2024-03-23T05:12:17.380738Z"
    },
    "papermill": {
     "duration": 0.029127,
     "end_time": "2024-03-23T05:12:17.381949",
     "exception": false,
     "start_time": "2024-03-23T05:12:17.352822",
     "status": "completed"
    },
    "tags": []
   },
   "outputs": [],
   "source": [
    "paragraph_matches.append(\n",
    "    (\n",
    "        section_name,\n",
    "        par0,\n",
    "        par1,\n",
    "    )\n",
    ")"
   ]
  },
  {
   "cell_type": "code",
   "execution_count": 28,
   "id": "db738a8d-d527-4607-8994-2a62433d75e6",
   "metadata": {
    "execution": {
     "iopub.execute_input": "2024-03-23T05:12:17.432833Z",
     "iopub.status.busy": "2024-03-23T05:12:17.432430Z",
     "iopub.status.idle": "2024-03-23T05:12:17.436051Z",
     "shell.execute_reply": "2024-03-23T05:12:17.435559Z"
    },
    "papermill": {
     "duration": 0.029933,
     "end_time": "2024-03-23T05:12:17.436818",
     "exception": false,
     "start_time": "2024-03-23T05:12:17.406885",
     "status": "completed"
    },
    "tags": []
   },
   "outputs": [
    {
     "data": {
      "text/plain": [
       "('abstract',\n",
       " 'Correlation coefficients are widely used to identify patterns in data that may be of particular interest. In transcriptomics, genes with correlated expression often share functions or are part of disease-relevant biological processes. Here we introduce the Clustermatch Correlation Coefficient (CCC), an efficient, easy-to-use and not-only-linear coefficient based on machine learning models. CCC reveals biologically meaningful linear and nonlinear patterns missed by standard, linear-only correlation coefficients. CCC captures general patterns in data by comparing clustering solutions while being much faster than state-of-the-art coefficients such as the Maximal Information Coefficient. When applied to human gene expression data, CCC identifies robust linear relationships while detecting nonlinear patterns associated, for example, with sex differences that are not captured by linear-only coefficients. Gene pairs highly ranked by CCC were enriched for interactions in integrated networks built from protein-protein interaction, transcription factor regulation, and chemical and genetic perturbations, suggesting that CCC could detect functional relationships that linear-only methods missed. CCC is a highly-efficient, next-generation not-only-linear correlation coefficient that can readily be applied to genome-scale data and other domains across different data types.',\n",
       " 'In transcriptomics, identifying patterns in gene expression data is crucial for understanding biological processes. The traditional linear correlation coefficients may not capture all the complexities in gene relationships. To address this, we propose the Clustermatch Correlation Coefficient (CCC), a machine learning-based coefficient that can reveal both linear and nonlinear patterns efficiently. Compared to standard coefficients like the Maximal Information Coefficient, CCC is faster and can detect biologically meaningful patterns that are missed by linear-only methods. When applied to human gene expression data, CCC not only identifies robust linear relationships but also uncovers nonlinear patterns, such as sex differences. Additionally, CCC can detect functional relationships between genes that are overlooked by linear-only methods, as shown by enrichment in integrated networks. Overall, CCC is a versatile and efficient tool that can be applied to genome-scale data and various data types to uncover hidden relationships.')"
      ]
     },
     "metadata": {},
     "output_type": "display_data"
    }
   ],
   "source": [
    "display(paragraph_matches[-1])"
   ]
  },
  {
   "cell_type": "markdown",
   "id": "84bb559e-97ba-4171-ac1c-b1b8b1837c5b",
   "metadata": {
    "editable": true,
    "papermill": {
     "duration": 0.025326,
     "end_time": "2024-03-23T05:12:17.486994",
     "exception": false,
     "start_time": "2024-03-23T05:12:17.461668",
     "status": "completed"
    },
    "slideshow": {
     "slide_type": ""
    },
    "tags": []
   },
   "source": [
    "## Introduction"
   ]
  },
  {
   "cell_type": "code",
   "execution_count": 29,
   "id": "2fbfb828-2b12-42da-b724-9d81121dbda3",
   "metadata": {
    "execution": {
     "iopub.execute_input": "2024-03-23T05:12:17.565618Z",
     "iopub.status.busy": "2024-03-23T05:12:17.565203Z",
     "iopub.status.idle": "2024-03-23T05:12:17.567831Z",
     "shell.execute_reply": "2024-03-23T05:12:17.567388Z"
    },
    "papermill": {
     "duration": 0.056674,
     "end_time": "2024-03-23T05:12:17.568590",
     "exception": false,
     "start_time": "2024-03-23T05:12:17.511916",
     "status": "completed"
    },
    "tags": []
   },
   "outputs": [],
   "source": [
    "section_name = \"introduction\""
   ]
  },
  {
   "cell_type": "code",
   "execution_count": 30,
   "id": "802ec3df-6974-42a5-b5a0-9cd621877c5f",
   "metadata": {
    "editable": true,
    "execution": {
     "iopub.execute_input": "2024-03-23T05:12:17.619776Z",
     "iopub.status.busy": "2024-03-23T05:12:17.619466Z",
     "iopub.status.idle": "2024-03-23T05:12:17.622597Z",
     "shell.execute_reply": "2024-03-23T05:12:17.622102Z"
    },
    "papermill": {
     "duration": 0.02952,
     "end_time": "2024-03-23T05:12:17.623356",
     "exception": false,
     "start_time": "2024-03-23T05:12:17.593836",
     "status": "completed"
    },
    "slideshow": {
     "slide_type": ""
    },
    "tags": []
   },
   "outputs": [
    {
     "name": "stdout",
     "output_type": "stream",
     "text": [
      "content/02.introduction.md\n"
     ]
    }
   ],
   "source": [
    "pr_filename = pr_files[1].filename\n",
    "assert section_name in pr_filename\n",
    "print(pr_filename)"
   ]
  },
  {
   "cell_type": "markdown",
   "id": "3cb464ec-e479-47bc-a870-dbab7372c44b",
   "metadata": {
    "editable": true,
    "papermill": {
     "duration": 0.025094,
     "end_time": "2024-03-23T05:12:17.673769",
     "exception": false,
     "start_time": "2024-03-23T05:12:17.648675",
     "status": "completed"
    },
    "slideshow": {
     "slide_type": ""
    },
    "tags": []
   },
   "source": [
    "### Original"
   ]
  },
  {
   "cell_type": "code",
   "execution_count": 31,
   "id": "020b21ef-3aca-4848-8717-ace1083aebf0",
   "metadata": {
    "execution": {
     "iopub.execute_input": "2024-03-23T05:12:17.725201Z",
     "iopub.status.busy": "2024-03-23T05:12:17.724783Z",
     "iopub.status.idle": "2024-03-23T05:12:17.860093Z",
     "shell.execute_reply": "2024-03-23T05:12:17.859652Z"
    },
    "papermill": {
     "duration": 0.161719,
     "end_time": "2024-03-23T05:12:17.860862",
     "exception": false,
     "start_time": "2024-03-23T05:12:17.699143",
     "status": "completed"
    },
    "tags": []
   },
   "outputs": [
    {
     "name": "stdout",
     "output_type": "stream",
     "text": [
      "## Introduction\n",
      "\n",
      "New technologies have vastly impr\n"
     ]
    }
   ],
   "source": [
    "# get content\n",
    "orig_section_content = repo.get_contents(pr_filename, pr_prev).decoded_content.decode(\n",
    "    \"utf-8\"\n",
    ")\n",
    "print(orig_section_content[:50])"
   ]
  },
  {
   "cell_type": "code",
   "execution_count": 32,
   "id": "e1612d62-3f65-43e6-b6cb-4b5538931161",
   "metadata": {
    "execution": {
     "iopub.execute_input": "2024-03-23T05:12:17.913210Z",
     "iopub.status.busy": "2024-03-23T05:12:17.912900Z",
     "iopub.status.idle": "2024-03-23T05:12:17.916488Z",
     "shell.execute_reply": "2024-03-23T05:12:17.916048Z"
    },
    "papermill": {
     "duration": 0.030617,
     "end_time": "2024-03-23T05:12:17.917242",
     "exception": false,
     "start_time": "2024-03-23T05:12:17.886625",
     "status": "completed"
    },
    "tags": []
   },
   "outputs": [
    {
     "data": {
      "text/plain": [
       "4"
      ]
     },
     "metadata": {},
     "output_type": "display_data"
    }
   ],
   "source": [
    "# split by paragraph\n",
    "orig_section_paragraphs = orig_section_content.split(\"\\n\\n\")\n",
    "display(len(orig_section_paragraphs))"
   ]
  },
  {
   "cell_type": "markdown",
   "id": "ee13fe8d-f094-4da4-b2dc-245f595ab964",
   "metadata": {
    "editable": true,
    "papermill": {
     "duration": 0.025189,
     "end_time": "2024-03-23T05:12:17.968015",
     "exception": false,
     "start_time": "2024-03-23T05:12:17.942826",
     "status": "completed"
    },
    "slideshow": {
     "slide_type": ""
    },
    "tags": []
   },
   "source": [
    "### Modified"
   ]
  },
  {
   "cell_type": "code",
   "execution_count": 33,
   "id": "61d1c4b1-c798-433e-9dc4-18313701a1d0",
   "metadata": {
    "execution": {
     "iopub.execute_input": "2024-03-23T05:12:18.019484Z",
     "iopub.status.busy": "2024-03-23T05:12:18.019174Z",
     "iopub.status.idle": "2024-03-23T05:12:18.282623Z",
     "shell.execute_reply": "2024-03-23T05:12:18.282102Z"
    },
    "papermill": {
     "duration": 0.290333,
     "end_time": "2024-03-23T05:12:18.283687",
     "exception": false,
     "start_time": "2024-03-23T05:12:17.993354",
     "status": "completed"
    },
    "tags": []
   },
   "outputs": [
    {
     "name": "stdout",
     "output_type": "stream",
     "text": [
      "## Introduction\n",
      "\n",
      "Recent advancements in data colle\n"
     ]
    }
   ],
   "source": [
    "# get content\n",
    "mod_section_content = repo.get_contents(pr_filename, pr_curr).decoded_content.decode(\n",
    "    \"utf-8\"\n",
    ")\n",
    "print(mod_section_content[:50])"
   ]
  },
  {
   "cell_type": "code",
   "execution_count": 34,
   "id": "edf81c3c-1213-4752-8768-c3158025192d",
   "metadata": {
    "execution": {
     "iopub.execute_input": "2024-03-23T05:12:18.360202Z",
     "iopub.status.busy": "2024-03-23T05:12:18.359831Z",
     "iopub.status.idle": "2024-03-23T05:12:18.363818Z",
     "shell.execute_reply": "2024-03-23T05:12:18.363331Z"
    },
    "papermill": {
     "duration": 0.042971,
     "end_time": "2024-03-23T05:12:18.364822",
     "exception": false,
     "start_time": "2024-03-23T05:12:18.321851",
     "status": "completed"
    },
    "tags": []
   },
   "outputs": [
    {
     "data": {
      "text/plain": [
       "4"
      ]
     },
     "metadata": {},
     "output_type": "display_data"
    }
   ],
   "source": [
    "# split by paragraph\n",
    "mod_section_paragraphs = mod_section_content.split(\"\\n\\n\")\n",
    "display(len(mod_section_paragraphs))"
   ]
  },
  {
   "cell_type": "markdown",
   "id": "1e4efe27-e73d-4cbe-953f-203bac59f5dc",
   "metadata": {
    "editable": true,
    "papermill": {
     "duration": 0.02548,
     "end_time": "2024-03-23T05:12:18.420586",
     "exception": false,
     "start_time": "2024-03-23T05:12:18.395106",
     "status": "completed"
    },
    "slideshow": {
     "slide_type": ""
    },
    "tags": []
   },
   "source": [
    "### Match"
   ]
  },
  {
   "cell_type": "code",
   "execution_count": 35,
   "id": "a80dd51e-9ffb-43e8-9389-d5ed1a28fee0",
   "metadata": {
    "execution": {
     "iopub.execute_input": "2024-03-23T05:12:18.472327Z",
     "iopub.status.busy": "2024-03-23T05:12:18.471873Z",
     "iopub.status.idle": "2024-03-23T05:12:18.475607Z",
     "shell.execute_reply": "2024-03-23T05:12:18.475072Z"
    },
    "papermill": {
     "duration": 0.030516,
     "end_time": "2024-03-23T05:12:18.476378",
     "exception": false,
     "start_time": "2024-03-23T05:12:18.445862",
     "status": "completed"
    },
    "tags": []
   },
   "outputs": [
    {
     "data": {
      "text/plain": [
       "'## Introduction'"
      ]
     },
     "execution_count": 35,
     "metadata": {},
     "output_type": "execute_result"
    }
   ],
   "source": [
    "orig_section_paragraphs[0]"
   ]
  },
  {
   "cell_type": "code",
   "execution_count": 36,
   "id": "0c34cdc7-b226-45d2-8e8b-e375ef9e3d6a",
   "metadata": {
    "execution": {
     "iopub.execute_input": "2024-03-23T05:12:18.528515Z",
     "iopub.status.busy": "2024-03-23T05:12:18.528088Z",
     "iopub.status.idle": "2024-03-23T05:12:18.531653Z",
     "shell.execute_reply": "2024-03-23T05:12:18.531219Z"
    },
    "papermill": {
     "duration": 0.030525,
     "end_time": "2024-03-23T05:12:18.532426",
     "exception": false,
     "start_time": "2024-03-23T05:12:18.501901",
     "status": "completed"
    },
    "tags": []
   },
   "outputs": [
    {
     "data": {
      "text/plain": [
       "'## Introduction'"
      ]
     },
     "execution_count": 36,
     "metadata": {},
     "output_type": "execute_result"
    }
   ],
   "source": [
    "mod_section_paragraphs[0]"
   ]
  },
  {
   "cell_type": "markdown",
   "id": "7baf3486-f6d9-42a0-b67a-15eb7b378bad",
   "metadata": {
    "editable": true,
    "papermill": {
     "duration": 0.025518,
     "end_time": "2024-03-23T05:12:18.583709",
     "exception": false,
     "start_time": "2024-03-23T05:12:18.558191",
     "status": "completed"
    },
    "slideshow": {
     "slide_type": ""
    },
    "tags": []
   },
   "source": [
    "####  Paragraph 00"
   ]
  },
  {
   "cell_type": "code",
   "execution_count": 37,
   "id": "ac1650e5-8298-412d-8a15-bd040748024e",
   "metadata": {
    "execution": {
     "iopub.execute_input": "2024-03-23T05:12:18.635560Z",
     "iopub.status.busy": "2024-03-23T05:12:18.635211Z",
     "iopub.status.idle": "2024-03-23T05:12:18.638357Z",
     "shell.execute_reply": "2024-03-23T05:12:18.637875Z"
    },
    "papermill": {
     "duration": 0.030013,
     "end_time": "2024-03-23T05:12:18.639130",
     "exception": false,
     "start_time": "2024-03-23T05:12:18.609117",
     "status": "completed"
    },
    "tags": []
   },
   "outputs": [
    {
     "name": "stdout",
     "output_type": "stream",
     "text": [
      "New technologies have vastly improved data collection, generating a deluge of information across different disciplines. This large amount of data provides new opportunities to address unanswered scientific questions, provided we have efficient tools capable of identifying multiple types of underlying patterns. Correlation analysis is an essential statistical technique for discovering relationships between variables [@pmid:21310971]. Correlation coefficients are often used in exploratory data mining techniques, such as clustering or community detection algorithms, to compute a similarity value between a pair of objects of interest such as genes [@pmid:27479844] or disease-relevant lifestyle factors [@doi:10.1073/pnas.1217269109]. Correlation methods are also used in supervised tasks, for example, for feature selection to improve prediction accuracy [@pmid:27006077; @pmid:33729976]. The Pearson correlation coefficient is ubiquitously deployed across application domains and diverse scientific areas. Thus, even minor and significant improvements in these techniques could have enormous consequences in industry and research.\n"
     ]
    }
   ],
   "source": [
    "par0 = process_paragraph(orig_section_paragraphs[1])\n",
    "print(par0)"
   ]
  },
  {
   "cell_type": "code",
   "execution_count": 38,
   "id": "d5a26113-dc29-44d2-9458-6e5d8461accb",
   "metadata": {
    "execution": {
     "iopub.execute_input": "2024-03-23T05:12:18.691657Z",
     "iopub.status.busy": "2024-03-23T05:12:18.691269Z",
     "iopub.status.idle": "2024-03-23T05:12:18.694240Z",
     "shell.execute_reply": "2024-03-23T05:12:18.693783Z"
    },
    "papermill": {
     "duration": 0.030015,
     "end_time": "2024-03-23T05:12:18.695002",
     "exception": false,
     "start_time": "2024-03-23T05:12:18.664987",
     "status": "completed"
    },
    "tags": []
   },
   "outputs": [
    {
     "name": "stdout",
     "output_type": "stream",
     "text": [
      "Recent advancements in data collection have led to a significant increase in the amount of information available in various fields. This abundance of data presents an opportunity to explore unanswered scientific questions, but efficient tools are needed to uncover different patterns within the data. Correlation analysis, a fundamental statistical method, is commonly used to identify relationships between variables (Smith et al., 2011). Correlation coefficients play a crucial role in data mining approaches, such as clustering algorithms, to measure the similarity between objects of interest, such as genes (Jones et al., 2016) or lifestyle factors related to diseases (Brown et al., 2013). These methods are also applied in supervised tasks, including feature selection to enhance prediction accuracy (Johnson et al., 2017; White et al., 2021). The widespread use of the Pearson correlation coefficient spans various scientific fields and applications. Therefore, even slight improvements in these methods could have a significant impact on both industry and research.\n"
     ]
    }
   ],
   "source": [
    "par1 = process_paragraph(mod_section_paragraphs[1])\n",
    "print(par1)"
   ]
  },
  {
   "cell_type": "code",
   "execution_count": 39,
   "id": "5d1ae43c-6bc3-4cf8-98e6-5d0191843855",
   "metadata": {
    "execution": {
     "iopub.execute_input": "2024-03-23T05:12:18.747400Z",
     "iopub.status.busy": "2024-03-23T05:12:18.747032Z",
     "iopub.status.idle": "2024-03-23T05:12:18.749654Z",
     "shell.execute_reply": "2024-03-23T05:12:18.749213Z"
    },
    "papermill": {
     "duration": 0.029703,
     "end_time": "2024-03-23T05:12:18.750441",
     "exception": false,
     "start_time": "2024-03-23T05:12:18.720738",
     "status": "completed"
    },
    "tags": []
   },
   "outputs": [],
   "source": [
    "paragraph_matches.append(\n",
    "    (\n",
    "        section_name,\n",
    "        par0,\n",
    "        par1,\n",
    "    )\n",
    ")"
   ]
  },
  {
   "cell_type": "code",
   "execution_count": 40,
   "id": "45f4c986-54f6-406a-860a-9dc2caa9f3bc",
   "metadata": {
    "execution": {
     "iopub.execute_input": "2024-03-23T05:12:18.802854Z",
     "iopub.status.busy": "2024-03-23T05:12:18.802440Z",
     "iopub.status.idle": "2024-03-23T05:12:18.806046Z",
     "shell.execute_reply": "2024-03-23T05:12:18.805538Z"
    },
    "papermill": {
     "duration": 0.030686,
     "end_time": "2024-03-23T05:12:18.806845",
     "exception": false,
     "start_time": "2024-03-23T05:12:18.776159",
     "status": "completed"
    },
    "tags": []
   },
   "outputs": [
    {
     "data": {
      "text/plain": [
       "('introduction',\n",
       " 'New technologies have vastly improved data collection, generating a deluge of information across different disciplines. This large amount of data provides new opportunities to address unanswered scientific questions, provided we have efficient tools capable of identifying multiple types of underlying patterns. Correlation analysis is an essential statistical technique for discovering relationships between variables [@pmid:21310971]. Correlation coefficients are often used in exploratory data mining techniques, such as clustering or community detection algorithms, to compute a similarity value between a pair of objects of interest such as genes [@pmid:27479844] or disease-relevant lifestyle factors [@doi:10.1073/pnas.1217269109]. Correlation methods are also used in supervised tasks, for example, for feature selection to improve prediction accuracy [@pmid:27006077; @pmid:33729976]. The Pearson correlation coefficient is ubiquitously deployed across application domains and diverse scientific areas. Thus, even minor and significant improvements in these techniques could have enormous consequences in industry and research.',\n",
       " 'Recent advancements in data collection have led to a significant increase in the amount of information available in various fields. This abundance of data presents an opportunity to explore unanswered scientific questions, but efficient tools are needed to uncover different patterns within the data. Correlation analysis, a fundamental statistical method, is commonly used to identify relationships between variables (Smith et al., 2011). Correlation coefficients play a crucial role in data mining approaches, such as clustering algorithms, to measure the similarity between objects of interest, such as genes (Jones et al., 2016) or lifestyle factors related to diseases (Brown et al., 2013). These methods are also applied in supervised tasks, including feature selection to enhance prediction accuracy (Johnson et al., 2017; White et al., 2021). The widespread use of the Pearson correlation coefficient spans various scientific fields and applications. Therefore, even slight improvements in these methods could have a significant impact on both industry and research.')"
      ]
     },
     "metadata": {},
     "output_type": "display_data"
    }
   ],
   "source": [
    "display(paragraph_matches[-1])"
   ]
  },
  {
   "cell_type": "markdown",
   "id": "02e1dbd3-437b-457e-b155-ceb7a0aaa0d9",
   "metadata": {
    "editable": true,
    "papermill": {
     "duration": 0.025703,
     "end_time": "2024-03-23T05:12:18.858285",
     "exception": false,
     "start_time": "2024-03-23T05:12:18.832582",
     "status": "completed"
    },
    "slideshow": {
     "slide_type": ""
    },
    "tags": []
   },
   "source": [
    "####  Paragraph 01"
   ]
  },
  {
   "cell_type": "code",
   "execution_count": 41,
   "id": "7420293a-1901-46ca-a795-bc479bee48a6",
   "metadata": {
    "execution": {
     "iopub.execute_input": "2024-03-23T05:12:18.910651Z",
     "iopub.status.busy": "2024-03-23T05:12:18.910344Z",
     "iopub.status.idle": "2024-03-23T05:12:18.913383Z",
     "shell.execute_reply": "2024-03-23T05:12:18.912876Z"
    },
    "papermill": {
     "duration": 0.030147,
     "end_time": "2024-03-23T05:12:18.914114",
     "exception": false,
     "start_time": "2024-03-23T05:12:18.883967",
     "status": "completed"
    },
    "tags": []
   },
   "outputs": [
    {
     "name": "stdout",
     "output_type": "stream",
     "text": [
      "In transcriptomics, many analyses start with estimating the correlation between genes. More sophisticated approaches built on correlation analysis can suggest gene function [@pmid:21241896], aid in discovering common and cell lineage-specific regulatory networks [@pmid:25915600], and capture important interactions in a living organism that can uncover molecular mechanisms in other species [@pmid:21606319; @pmid:16968540]. The analysis of large RNA-seq datasets [@pmid:32913098; @pmid:34844637] can also reveal complex transcriptional mechanisms underlying human diseases [@pmid:27479844; @pmid:31121115; @pmid:30668570; @pmid:32424349; @pmid:34475573]. Since the introduction of the omnigenic model of complex traits [@pmid:28622505; @pmid:31051098], gene-gene relationships are playing an increasingly important role in genetic studies of human diseases [@pmid:34845454; @doi:10.1101/2021.07.05.450786; @doi:10.1101/2021.10.21.21265342; @doi:10.1038/s41588-021-00913-z], even in specific fields such as polygenic risk scores [@doi:10.1016/j.ajhg.2021.07.003]. In this context, recent approaches combine disease-associated genes from genome-wide association studies (GWAS) with gene co-expression networks to prioritize \"core\" genes directly affecting diseases [@doi:10.1186/s13040-020-00216-9; @doi:10.1101/2021.07.05.450786; @doi:10.1101/2021.10.21.21265342]. These core genes are not captured by standard statistical methods but are believed to be part of highly-interconnected, disease-relevant regulatory networks. Therefore, advanced correlation coefficients could immediately find wide applications across many areas of biology, including the prioritization of candidate drug targets in the precision medicine field.\n"
     ]
    }
   ],
   "source": [
    "par0 = process_paragraph(orig_section_paragraphs[2])\n",
    "print(par0)"
   ]
  },
  {
   "cell_type": "code",
   "execution_count": 42,
   "id": "adf7d64e-404e-46ca-a5f2-15a55dfde1e1",
   "metadata": {
    "execution": {
     "iopub.execute_input": "2024-03-23T05:12:18.967045Z",
     "iopub.status.busy": "2024-03-23T05:12:18.966754Z",
     "iopub.status.idle": "2024-03-23T05:12:18.969749Z",
     "shell.execute_reply": "2024-03-23T05:12:18.969298Z"
    },
    "papermill": {
     "duration": 0.030508,
     "end_time": "2024-03-23T05:12:18.970555",
     "exception": false,
     "start_time": "2024-03-23T05:12:18.940047",
     "status": "completed"
    },
    "tags": []
   },
   "outputs": [
    {
     "name": "stdout",
     "output_type": "stream",
     "text": [
      "In the field of transcriptomics, many analyses begin by assessing the correlation between genes. More advanced methods, based on correlation analysis, can provide insights into gene function (Smith et al., 2010), assist in identifying common and cell lineage-specific regulatory networks (Jones et al., 2015), and reveal crucial interactions within living organisms that may shed light on molecular mechanisms in different species (Brown et al., 2011; White et al., 2005). Analyzing extensive RNA-seq datasets (Green et al., 2021; Black et al., 2022) can unveil intricate transcriptional mechanisms linked to human diseases (Gray et al., 2016; Brown et al., 2019; White et al., 2020; Black et al., 2021; Yellow et al., 2023). Following the introduction of the omnigenic model for complex traits (Red et al., 2017; Blue et al., 2019), gene-gene relationships have gained significance in genetic studies of human diseases (Black et al., 2022; Smith et al., 2021; White et al., 2021; Green et al., 2021), even in specific areas like polygenic risk scores (Jones et al., 2021). Recent approaches integrate disease-associated genes from genome-wide association studies (GWAS) with gene co-expression networks to identify \"core\" genes that directly influence diseases (Green et al., 2020; Smith et al., 2021; White et al., 2021). These core genes, not identified by conventional statistical methods, are thought to be part of highly interconnected, disease-relevant regulatory networks. Therefore, advanced correlation coefficients could have broad applications in various biological fields, including the prioritization of potential drug targets in precision medicine.\n"
     ]
    }
   ],
   "source": [
    "# par1 = \" \".join(mod_section_paragraphs[2:5]).strip()\n",
    "par1 = process_paragraph(mod_section_paragraphs[2])\n",
    "print(par1)"
   ]
  },
  {
   "cell_type": "code",
   "execution_count": 43,
   "id": "59eb3aa3-5550-4ff5-b9cf-b2572c9e3320",
   "metadata": {
    "execution": {
     "iopub.execute_input": "2024-03-23T05:12:19.023392Z",
     "iopub.status.busy": "2024-03-23T05:12:19.023058Z",
     "iopub.status.idle": "2024-03-23T05:12:19.025514Z",
     "shell.execute_reply": "2024-03-23T05:12:19.025208Z"
    },
    "papermill": {
     "duration": 0.029566,
     "end_time": "2024-03-23T05:12:19.026291",
     "exception": false,
     "start_time": "2024-03-23T05:12:18.996725",
     "status": "completed"
    },
    "tags": []
   },
   "outputs": [],
   "source": [
    "paragraph_matches.append(\n",
    "    (\n",
    "        section_name,\n",
    "        par0,\n",
    "        par1,\n",
    "    )\n",
    ")"
   ]
  },
  {
   "cell_type": "code",
   "execution_count": 44,
   "id": "7a916bff-4b07-45f5-842f-eaec9bb0d42e",
   "metadata": {
    "execution": {
     "iopub.execute_input": "2024-03-23T05:12:19.079063Z",
     "iopub.status.busy": "2024-03-23T05:12:19.078704Z",
     "iopub.status.idle": "2024-03-23T05:12:19.082182Z",
     "shell.execute_reply": "2024-03-23T05:12:19.081791Z"
    },
    "papermill": {
     "duration": 0.030691,
     "end_time": "2024-03-23T05:12:19.082968",
     "exception": false,
     "start_time": "2024-03-23T05:12:19.052277",
     "status": "completed"
    },
    "tags": []
   },
   "outputs": [
    {
     "data": {
      "text/plain": [
       "('introduction',\n",
       " 'In transcriptomics, many analyses start with estimating the correlation between genes. More sophisticated approaches built on correlation analysis can suggest gene function [@pmid:21241896], aid in discovering common and cell lineage-specific regulatory networks [@pmid:25915600], and capture important interactions in a living organism that can uncover molecular mechanisms in other species [@pmid:21606319; @pmid:16968540]. The analysis of large RNA-seq datasets [@pmid:32913098; @pmid:34844637] can also reveal complex transcriptional mechanisms underlying human diseases [@pmid:27479844; @pmid:31121115; @pmid:30668570; @pmid:32424349; @pmid:34475573]. Since the introduction of the omnigenic model of complex traits [@pmid:28622505; @pmid:31051098], gene-gene relationships are playing an increasingly important role in genetic studies of human diseases [@pmid:34845454; @doi:10.1101/2021.07.05.450786; @doi:10.1101/2021.10.21.21265342; @doi:10.1038/s41588-021-00913-z], even in specific fields such as polygenic risk scores [@doi:10.1016/j.ajhg.2021.07.003]. In this context, recent approaches combine disease-associated genes from genome-wide association studies (GWAS) with gene co-expression networks to prioritize \"core\" genes directly affecting diseases [@doi:10.1186/s13040-020-00216-9; @doi:10.1101/2021.07.05.450786; @doi:10.1101/2021.10.21.21265342]. These core genes are not captured by standard statistical methods but are believed to be part of highly-interconnected, disease-relevant regulatory networks. Therefore, advanced correlation coefficients could immediately find wide applications across many areas of biology, including the prioritization of candidate drug targets in the precision medicine field.',\n",
       " 'In the field of transcriptomics, many analyses begin by assessing the correlation between genes. More advanced methods, based on correlation analysis, can provide insights into gene function (Smith et al., 2010), assist in identifying common and cell lineage-specific regulatory networks (Jones et al., 2015), and reveal crucial interactions within living organisms that may shed light on molecular mechanisms in different species (Brown et al., 2011; White et al., 2005). Analyzing extensive RNA-seq datasets (Green et al., 2021; Black et al., 2022) can unveil intricate transcriptional mechanisms linked to human diseases (Gray et al., 2016; Brown et al., 2019; White et al., 2020; Black et al., 2021; Yellow et al., 2023). Following the introduction of the omnigenic model for complex traits (Red et al., 2017; Blue et al., 2019), gene-gene relationships have gained significance in genetic studies of human diseases (Black et al., 2022; Smith et al., 2021; White et al., 2021; Green et al., 2021), even in specific areas like polygenic risk scores (Jones et al., 2021). Recent approaches integrate disease-associated genes from genome-wide association studies (GWAS) with gene co-expression networks to identify \"core\" genes that directly influence diseases (Green et al., 2020; Smith et al., 2021; White et al., 2021). These core genes, not identified by conventional statistical methods, are thought to be part of highly interconnected, disease-relevant regulatory networks. Therefore, advanced correlation coefficients could have broad applications in various biological fields, including the prioritization of potential drug targets in precision medicine.')"
      ]
     },
     "metadata": {},
     "output_type": "display_data"
    }
   ],
   "source": [
    "display(paragraph_matches[-1])"
   ]
  },
  {
   "cell_type": "markdown",
   "id": "4c1b1437-9b3b-4c56-8708-f54b7a611ee4",
   "metadata": {
    "editable": true,
    "papermill": {
     "duration": 0.025441,
     "end_time": "2024-03-23T05:12:19.134406",
     "exception": false,
     "start_time": "2024-03-23T05:12:19.108965",
     "status": "completed"
    },
    "slideshow": {
     "slide_type": ""
    },
    "tags": []
   },
   "source": [
    "####  Paragraph 02"
   ]
  },
  {
   "cell_type": "code",
   "execution_count": 45,
   "id": "ecb5a5c1-95cf-4c13-82fb-a188170553ff",
   "metadata": {
    "execution": {
     "iopub.execute_input": "2024-03-23T05:12:19.186368Z",
     "iopub.status.busy": "2024-03-23T05:12:19.186244Z",
     "iopub.status.idle": "2024-03-23T05:12:19.188796Z",
     "shell.execute_reply": "2024-03-23T05:12:19.188441Z"
    },
    "papermill": {
     "duration": 0.029627,
     "end_time": "2024-03-23T05:12:19.189528",
     "exception": false,
     "start_time": "2024-03-23T05:12:19.159901",
     "status": "completed"
    },
    "tags": []
   },
   "outputs": [
    {
     "name": "stdout",
     "output_type": "stream",
     "text": [
      "The Pearson and Spearman correlation coefficients are widely used because they reveal intuitive relationships and can be computed quickly. However, they are designed to capture linear or monotonic patterns (referred to as linear-only) and may miss complex yet critical relationships. Novel coefficients have been proposed as metrics that capture nonlinear patterns such as the Maximal Information Coefficient (MIC) [@pmid:22174245] and the Distance Correlation (DC) [@doi:10.1214/009053607000000505]. MIC, in particular, is one of the most commonly used statistics to capture more complex relationships, with successful applications across several domains [@pmid:33972855; @pmid:33001806; @pmid:27006077]. However, the computational complexity makes them impractical for even moderately sized datasets [@pmid:33972855; @pmid:27333001]. Recent implementations of MIC, for example, take several seconds to compute on a single variable pair across a few thousand objects or conditions [@pmid:33972855]. We previously developed a clustering method for highly diverse datasets that significantly outperformed approaches based on Pearson, Spearman, DC and MIC in detecting clusters of simulated linear and nonlinear relationships with varying noise levels [@doi:10.1093/bioinformatics/bty899]. Here we introduce the Clustermatch Correlation Coefficient (CCC), an efficient not-only-linear coefficient that works across quantitative and qualitative variables. CCC has a single parameter that limits the maximum complexity of relationships found (from linear to more general patterns) and computation time. CCC provides a high level of flexibility to detect specific types of patterns that are more important for the user, while providing safe defaults to capture general relationships. We also provide an efficient CCC implementation that is highly parallelizable, allowing to speed up computation across variable pairs with millions of objects or conditions. To assess its performance, we applied our method to gene expression data from the Genotype-Tissue Expression v8 (GTEx) project across different tissues [@doi:10.1126/science.aaz1776]. CCC captured both strong linear relationships and novel nonlinear patterns, which were entirely missed by standard coefficients. For example, some of these nonlinear patterns were associated with sex differences in gene expression, suggesting that CCC can capture strong relationships present only in a subset of samples. We also found that the CCC behaves similarly to MIC in several cases, although it is much faster to compute. Gene pairs detected in expression data by CCC had higher interaction probabilities in tissue-specific gene networks from the Genome-wide Analysis of gene Networks in Tissues (GIANT) [@doi:10.1038/ng.3259]. Furthermore, its ability to efficiently handle diverse data types (including numerical and categorical features) reduces preprocessing steps and makes it appealing to analyze large and heterogeneous repositories.\n"
     ]
    }
   ],
   "source": [
    "par0 = process_paragraph(orig_section_paragraphs[3])\n",
    "print(par0)"
   ]
  },
  {
   "cell_type": "code",
   "execution_count": 46,
   "id": "afb6133d-c94c-44bc-aa0c-6a568ec955aa",
   "metadata": {
    "execution": {
     "iopub.execute_input": "2024-03-23T05:12:19.242069Z",
     "iopub.status.busy": "2024-03-23T05:12:19.241947Z",
     "iopub.status.idle": "2024-03-23T05:12:19.244464Z",
     "shell.execute_reply": "2024-03-23T05:12:19.244101Z"
    },
    "papermill": {
     "duration": 0.02959,
     "end_time": "2024-03-23T05:12:19.245199",
     "exception": false,
     "start_time": "2024-03-23T05:12:19.215609",
     "status": "completed"
    },
    "tags": []
   },
   "outputs": [
    {
     "name": "stdout",
     "output_type": "stream",
     "text": [
      "The Pearson and Spearman correlation coefficients are commonly used to identify relationships quickly, but they are limited to linear or monotonic patterns. New coefficients like the Maximal Information Coefficient (MIC) and Distance Correlation (DC) have been introduced to capture more complex nonlinear relationships. However, these coefficients are computationally intensive, making them impractical for larger datasets. Our previous work introduced a clustering method that outperformed traditional coefficients in detecting linear and nonlinear relationships. In this paper, we present the Clustermatch Correlation Coefficient (CCC), a new and efficient metric that can handle both quantitative and qualitative variables. The CCC has a single parameter that controls the complexity of relationships identified and computation time. Our implementation of CCC is highly parallelizable, allowing for fast computation on large datasets. We applied CCC to gene expression data from the GTEx project and found that it can capture both linear and nonlinear patterns that were missed by traditional coefficients. Additionally, CCC performed similarly to MIC but with much faster computation times. Gene pairs identified by CCC showed higher interaction probabilities in tissue-specific gene networks from the GIANT project. The ability of CCC to handle diverse data types makes it a valuable tool for analyzing large and heterogeneous datasets.\n"
     ]
    }
   ],
   "source": [
    "par1 = process_paragraph(mod_section_paragraphs[3])\n",
    "print(par1)"
   ]
  },
  {
   "cell_type": "code",
   "execution_count": 47,
   "id": "842d5352-043a-493d-9de5-d2dde6b87393",
   "metadata": {
    "execution": {
     "iopub.execute_input": "2024-03-23T05:12:19.297751Z",
     "iopub.status.busy": "2024-03-23T05:12:19.297627Z",
     "iopub.status.idle": "2024-03-23T05:12:19.299835Z",
     "shell.execute_reply": "2024-03-23T05:12:19.299483Z"
    },
    "papermill": {
     "duration": 0.029219,
     "end_time": "2024-03-23T05:12:19.300564",
     "exception": false,
     "start_time": "2024-03-23T05:12:19.271345",
     "status": "completed"
    },
    "tags": []
   },
   "outputs": [],
   "source": [
    "paragraph_matches.append(\n",
    "    (\n",
    "        section_name,\n",
    "        par0,\n",
    "        par1,\n",
    "    )\n",
    ")"
   ]
  },
  {
   "cell_type": "code",
   "execution_count": 48,
   "id": "849bc6ba-7335-4353-be29-550eae813436",
   "metadata": {
    "execution": {
     "iopub.execute_input": "2024-03-23T05:12:19.379361Z",
     "iopub.status.busy": "2024-03-23T05:12:19.379213Z",
     "iopub.status.idle": "2024-03-23T05:12:19.382355Z",
     "shell.execute_reply": "2024-03-23T05:12:19.381989Z"
    },
    "papermill": {
     "duration": 0.056468,
     "end_time": "2024-03-23T05:12:19.383103",
     "exception": false,
     "start_time": "2024-03-23T05:12:19.326635",
     "status": "completed"
    },
    "tags": []
   },
   "outputs": [
    {
     "data": {
      "text/plain": [
       "('introduction',\n",
       " 'The Pearson and Spearman correlation coefficients are widely used because they reveal intuitive relationships and can be computed quickly. However, they are designed to capture linear or monotonic patterns (referred to as linear-only) and may miss complex yet critical relationships. Novel coefficients have been proposed as metrics that capture nonlinear patterns such as the Maximal Information Coefficient (MIC) [@pmid:22174245] and the Distance Correlation (DC) [@doi:10.1214/009053607000000505]. MIC, in particular, is one of the most commonly used statistics to capture more complex relationships, with successful applications across several domains [@pmid:33972855; @pmid:33001806; @pmid:27006077]. However, the computational complexity makes them impractical for even moderately sized datasets [@pmid:33972855; @pmid:27333001]. Recent implementations of MIC, for example, take several seconds to compute on a single variable pair across a few thousand objects or conditions [@pmid:33972855]. We previously developed a clustering method for highly diverse datasets that significantly outperformed approaches based on Pearson, Spearman, DC and MIC in detecting clusters of simulated linear and nonlinear relationships with varying noise levels [@doi:10.1093/bioinformatics/bty899]. Here we introduce the Clustermatch Correlation Coefficient (CCC), an efficient not-only-linear coefficient that works across quantitative and qualitative variables. CCC has a single parameter that limits the maximum complexity of relationships found (from linear to more general patterns) and computation time. CCC provides a high level of flexibility to detect specific types of patterns that are more important for the user, while providing safe defaults to capture general relationships. We also provide an efficient CCC implementation that is highly parallelizable, allowing to speed up computation across variable pairs with millions of objects or conditions. To assess its performance, we applied our method to gene expression data from the Genotype-Tissue Expression v8 (GTEx) project across different tissues [@doi:10.1126/science.aaz1776]. CCC captured both strong linear relationships and novel nonlinear patterns, which were entirely missed by standard coefficients. For example, some of these nonlinear patterns were associated with sex differences in gene expression, suggesting that CCC can capture strong relationships present only in a subset of samples. We also found that the CCC behaves similarly to MIC in several cases, although it is much faster to compute. Gene pairs detected in expression data by CCC had higher interaction probabilities in tissue-specific gene networks from the Genome-wide Analysis of gene Networks in Tissues (GIANT) [@doi:10.1038/ng.3259]. Furthermore, its ability to efficiently handle diverse data types (including numerical and categorical features) reduces preprocessing steps and makes it appealing to analyze large and heterogeneous repositories.',\n",
       " 'The Pearson and Spearman correlation coefficients are commonly used to identify relationships quickly, but they are limited to linear or monotonic patterns. New coefficients like the Maximal Information Coefficient (MIC) and Distance Correlation (DC) have been introduced to capture more complex nonlinear relationships. However, these coefficients are computationally intensive, making them impractical for larger datasets. Our previous work introduced a clustering method that outperformed traditional coefficients in detecting linear and nonlinear relationships. In this paper, we present the Clustermatch Correlation Coefficient (CCC), a new and efficient metric that can handle both quantitative and qualitative variables. The CCC has a single parameter that controls the complexity of relationships identified and computation time. Our implementation of CCC is highly parallelizable, allowing for fast computation on large datasets. We applied CCC to gene expression data from the GTEx project and found that it can capture both linear and nonlinear patterns that were missed by traditional coefficients. Additionally, CCC performed similarly to MIC but with much faster computation times. Gene pairs identified by CCC showed higher interaction probabilities in tissue-specific gene networks from the GIANT project. The ability of CCC to handle diverse data types makes it a valuable tool for analyzing large and heterogeneous datasets.')"
      ]
     },
     "metadata": {},
     "output_type": "display_data"
    }
   ],
   "source": [
    "display(paragraph_matches[-1])"
   ]
  },
  {
   "cell_type": "markdown",
   "id": "aabf3637-bb5a-458d-89b3-33cea18c529e",
   "metadata": {
    "editable": true,
    "papermill": {
     "duration": 0.025666,
     "end_time": "2024-03-23T05:12:19.435059",
     "exception": false,
     "start_time": "2024-03-23T05:12:19.409393",
     "status": "completed"
    },
    "slideshow": {
     "slide_type": ""
    },
    "tags": []
   },
   "source": [
    "## Results (intro)"
   ]
  },
  {
   "cell_type": "code",
   "execution_count": 49,
   "id": "eb1352b5-0d25-41d0-8f6d-245f7748e99e",
   "metadata": {
    "execution": {
     "iopub.execute_input": "2024-03-23T05:12:19.488007Z",
     "iopub.status.busy": "2024-03-23T05:12:19.487869Z",
     "iopub.status.idle": "2024-03-23T05:12:19.490061Z",
     "shell.execute_reply": "2024-03-23T05:12:19.489674Z"
    },
    "papermill": {
     "duration": 0.029473,
     "end_time": "2024-03-23T05:12:19.490815",
     "exception": false,
     "start_time": "2024-03-23T05:12:19.461342",
     "status": "completed"
    },
    "tags": []
   },
   "outputs": [],
   "source": [
    "section_name = \"results\""
   ]
  },
  {
   "cell_type": "code",
   "execution_count": 50,
   "id": "e0d44354-4c59-486e-a3a4-06dea873e86d",
   "metadata": {
    "editable": true,
    "execution": {
     "iopub.execute_input": "2024-03-23T05:12:19.543540Z",
     "iopub.status.busy": "2024-03-23T05:12:19.543414Z",
     "iopub.status.idle": "2024-03-23T05:12:19.546013Z",
     "shell.execute_reply": "2024-03-23T05:12:19.545645Z"
    },
    "papermill": {
     "duration": 0.029695,
     "end_time": "2024-03-23T05:12:19.546726",
     "exception": false,
     "start_time": "2024-03-23T05:12:19.517031",
     "status": "completed"
    },
    "slideshow": {
     "slide_type": ""
    },
    "tags": []
   },
   "outputs": [
    {
     "name": "stdout",
     "output_type": "stream",
     "text": [
      "content/04.05.results_intro.md\n"
     ]
    }
   ],
   "source": [
    "pr_filename = pr_files[2].filename\n",
    "assert section_name in pr_filename\n",
    "assert \"intro\" in pr_filename\n",
    "print(pr_filename)"
   ]
  },
  {
   "cell_type": "markdown",
   "id": "e5ba4512-f199-419b-a5ed-bd0da25ca19a",
   "metadata": {
    "editable": true,
    "papermill": {
     "duration": 0.025772,
     "end_time": "2024-03-23T05:12:19.598784",
     "exception": false,
     "start_time": "2024-03-23T05:12:19.573012",
     "status": "completed"
    },
    "slideshow": {
     "slide_type": ""
    },
    "tags": []
   },
   "source": [
    "### Original"
   ]
  },
  {
   "cell_type": "code",
   "execution_count": 51,
   "id": "104a83ac-3b10-43b2-b526-790f2ce0316c",
   "metadata": {
    "execution": {
     "iopub.execute_input": "2024-03-23T05:12:19.651230Z",
     "iopub.status.busy": "2024-03-23T05:12:19.651100Z",
     "iopub.status.idle": "2024-03-23T05:12:19.802454Z",
     "shell.execute_reply": "2024-03-23T05:12:19.801950Z"
    },
    "papermill": {
     "duration": 0.179005,
     "end_time": "2024-03-23T05:12:19.803514",
     "exception": false,
     "start_time": "2024-03-23T05:12:19.624509",
     "status": "completed"
    },
    "tags": []
   },
   "outputs": [
    {
     "name": "stdout",
     "output_type": "stream",
     "text": [
      "### A robust and efficient not-only-linear depende\n"
     ]
    }
   ],
   "source": [
    "# get content\n",
    "orig_section_content = repo.get_contents(pr_filename, pr_prev).decoded_content.decode(\n",
    "    \"utf-8\"\n",
    ")\n",
    "print(orig_section_content[:50])"
   ]
  },
  {
   "cell_type": "code",
   "execution_count": 52,
   "id": "24ce0aba-906d-4235-a67b-99d1fa4b5912",
   "metadata": {
    "execution": {
     "iopub.execute_input": "2024-03-23T05:12:19.880187Z",
     "iopub.status.busy": "2024-03-23T05:12:19.880066Z",
     "iopub.status.idle": "2024-03-23T05:12:19.882957Z",
     "shell.execute_reply": "2024-03-23T05:12:19.882620Z"
    },
    "papermill": {
     "duration": 0.041892,
     "end_time": "2024-03-23T05:12:19.883644",
     "exception": false,
     "start_time": "2024-03-23T05:12:19.841752",
     "status": "completed"
    },
    "tags": []
   },
   "outputs": [
    {
     "data": {
      "text/plain": [
       "6"
      ]
     },
     "metadata": {},
     "output_type": "display_data"
    }
   ],
   "source": [
    "# split by paragraph\n",
    "orig_section_paragraphs = orig_section_content.split(\"\\n\\n\")\n",
    "display(len(orig_section_paragraphs))"
   ]
  },
  {
   "cell_type": "markdown",
   "id": "ebd7a57f-8ca5-4357-8914-6c0e8e16d46b",
   "metadata": {
    "editable": true,
    "papermill": {
     "duration": 0.025632,
     "end_time": "2024-03-23T05:12:19.935325",
     "exception": false,
     "start_time": "2024-03-23T05:12:19.909693",
     "status": "completed"
    },
    "slideshow": {
     "slide_type": ""
    },
    "tags": []
   },
   "source": [
    "### Modified"
   ]
  },
  {
   "cell_type": "code",
   "execution_count": 53,
   "id": "7624af03-9c23-4625-9c6c-a5e9082bcf6a",
   "metadata": {
    "execution": {
     "iopub.execute_input": "2024-03-23T05:12:19.987765Z",
     "iopub.status.busy": "2024-03-23T05:12:19.987643Z",
     "iopub.status.idle": "2024-03-23T05:12:20.280674Z",
     "shell.execute_reply": "2024-03-23T05:12:20.280054Z"
    },
    "papermill": {
     "duration": 0.321099,
     "end_time": "2024-03-23T05:12:20.282287",
     "exception": false,
     "start_time": "2024-03-23T05:12:19.961188",
     "status": "completed"
    },
    "tags": []
   },
   "outputs": [
    {
     "name": "stdout",
     "output_type": "stream",
     "text": [
      "### A robust and efficient not-only-linear depende\n"
     ]
    }
   ],
   "source": [
    "# get content\n",
    "mod_section_content = repo.get_contents(pr_filename, pr_curr).decoded_content.decode(\n",
    "    \"utf-8\"\n",
    ")\n",
    "print(mod_section_content[:50])"
   ]
  },
  {
   "cell_type": "code",
   "execution_count": 54,
   "id": "e1fd8b08-aafa-4b43-aa6e-e799761fda94",
   "metadata": {
    "execution": {
     "iopub.execute_input": "2024-03-23T05:12:20.373918Z",
     "iopub.status.busy": "2024-03-23T05:12:20.373433Z",
     "iopub.status.idle": "2024-03-23T05:12:20.377362Z",
     "shell.execute_reply": "2024-03-23T05:12:20.376901Z"
    },
    "papermill": {
     "duration": 0.045597,
     "end_time": "2024-03-23T05:12:20.378138",
     "exception": false,
     "start_time": "2024-03-23T05:12:20.332541",
     "status": "completed"
    },
    "tags": []
   },
   "outputs": [
    {
     "data": {
      "text/plain": [
       "6"
      ]
     },
     "metadata": {},
     "output_type": "display_data"
    }
   ],
   "source": [
    "# split by paragraph\n",
    "mod_section_paragraphs = mod_section_content.split(\"\\n\\n\")\n",
    "display(len(mod_section_paragraphs))"
   ]
  },
  {
   "cell_type": "markdown",
   "id": "b20bc347-6c37-4089-9a38-654b3e9028bd",
   "metadata": {
    "editable": true,
    "papermill": {
     "duration": 0.026266,
     "end_time": "2024-03-23T05:12:20.430410",
     "exception": false,
     "start_time": "2024-03-23T05:12:20.404144",
     "status": "completed"
    },
    "slideshow": {
     "slide_type": ""
    },
    "tags": []
   },
   "source": [
    "### Match"
   ]
  },
  {
   "cell_type": "code",
   "execution_count": 55,
   "id": "7be2fbbd-e933-44c9-9afc-71c4bb56f6f5",
   "metadata": {
    "execution": {
     "iopub.execute_input": "2024-03-23T05:12:20.484551Z",
     "iopub.status.busy": "2024-03-23T05:12:20.484117Z",
     "iopub.status.idle": "2024-03-23T05:12:20.487873Z",
     "shell.execute_reply": "2024-03-23T05:12:20.487431Z"
    },
    "papermill": {
     "duration": 0.031566,
     "end_time": "2024-03-23T05:12:20.488608",
     "exception": false,
     "start_time": "2024-03-23T05:12:20.457042",
     "status": "completed"
    },
    "tags": []
   },
   "outputs": [
    {
     "data": {
      "text/plain": [
       "'### A robust and efficient not-only-linear dependence coefficient'"
      ]
     },
     "execution_count": 55,
     "metadata": {},
     "output_type": "execute_result"
    }
   ],
   "source": [
    "orig_section_paragraphs[0]"
   ]
  },
  {
   "cell_type": "code",
   "execution_count": 56,
   "id": "2ab3053f-f932-4fd2-a06f-2219fef997dc",
   "metadata": {
    "execution": {
     "iopub.execute_input": "2024-03-23T05:12:20.542753Z",
     "iopub.status.busy": "2024-03-23T05:12:20.542297Z",
     "iopub.status.idle": "2024-03-23T05:12:20.546011Z",
     "shell.execute_reply": "2024-03-23T05:12:20.545534Z"
    },
    "papermill": {
     "duration": 0.031671,
     "end_time": "2024-03-23T05:12:20.546759",
     "exception": false,
     "start_time": "2024-03-23T05:12:20.515088",
     "status": "completed"
    },
    "tags": []
   },
   "outputs": [
    {
     "data": {
      "text/plain": [
       "'### A robust and efficient not-only-linear dependence coefficient'"
      ]
     },
     "execution_count": 56,
     "metadata": {},
     "output_type": "execute_result"
    }
   ],
   "source": [
    "mod_section_paragraphs[0]"
   ]
  },
  {
   "cell_type": "markdown",
   "id": "f1be3841-7923-4e69-b0a9-2c39dd7ddaa7",
   "metadata": {
    "editable": true,
    "papermill": {
     "duration": 0.025916,
     "end_time": "2024-03-23T05:12:20.598850",
     "exception": false,
     "start_time": "2024-03-23T05:12:20.572934",
     "status": "completed"
    },
    "slideshow": {
     "slide_type": ""
    },
    "tags": []
   },
   "source": [
    "####  Paragraph 00"
   ]
  },
  {
   "cell_type": "code",
   "execution_count": 57,
   "id": "9a597e30-25ab-4a38-874c-90de7e184e99",
   "metadata": {
    "execution": {
     "iopub.execute_input": "2024-03-23T05:12:20.651899Z",
     "iopub.status.busy": "2024-03-23T05:12:20.651532Z",
     "iopub.status.idle": "2024-03-23T05:12:20.654738Z",
     "shell.execute_reply": "2024-03-23T05:12:20.654260Z"
    },
    "papermill": {
     "duration": 0.030836,
     "end_time": "2024-03-23T05:12:20.655528",
     "exception": false,
     "start_time": "2024-03-23T05:12:20.624692",
     "status": "completed"
    },
    "tags": []
   },
   "outputs": [
    {
     "name": "stdout",
     "output_type": "stream",
     "text": [
      "The CCC provides a similarity measure between any pair of variables, either with numerical or categorical values. The method assumes that if there is a relationship between two variables/features describing $n$ data points/objects, then the **cluster**ings of those objects using each variable should **match**. In the case of numerical values, CCC uses quantiles to efficiently separate data points into different clusters (e.g., the median separates numerical data into two clusters). Once all clusterings are generated according to each variable, we define the CCC as the maximum adjusted Rand index (ARI) [@doi:10.1007/BF01908075] between them, ranging between 0 and 1. Details of the CCC algorithm can be found in [Methods](#sec:ccc_algo).\n"
     ]
    }
   ],
   "source": [
    "par0 = process_paragraph(orig_section_paragraphs[2])\n",
    "print(par0)"
   ]
  },
  {
   "cell_type": "code",
   "execution_count": 58,
   "id": "87bc4f6c-e891-4d57-a2ce-4bd9efa0e1aa",
   "metadata": {
    "execution": {
     "iopub.execute_input": "2024-03-23T05:12:20.709539Z",
     "iopub.status.busy": "2024-03-23T05:12:20.709005Z",
     "iopub.status.idle": "2024-03-23T05:12:20.712354Z",
     "shell.execute_reply": "2024-03-23T05:12:20.711842Z"
    },
    "papermill": {
     "duration": 0.031172,
     "end_time": "2024-03-23T05:12:20.713097",
     "exception": false,
     "start_time": "2024-03-23T05:12:20.681925",
     "status": "completed"
    },
    "tags": []
   },
   "outputs": [
    {
     "name": "stdout",
     "output_type": "stream",
     "text": [
      "The CCC calculates the similarity between pairs of variables, whether they have numerical or categorical values. It assumes that if two variables describe n data points, the clusters of those points should align. For numerical values, CCC uses quantiles to create clusters (e.g., the median splits data into two clusters). The CCC is defined as the maximum adjusted Rand index between the clusterings, with a range of 0 to 1. More information on the CCC algorithm is available in the Methods section.\n"
     ]
    }
   ],
   "source": [
    "par1 = process_paragraph(mod_section_paragraphs[2])\n",
    "print(par1)"
   ]
  },
  {
   "cell_type": "code",
   "execution_count": 59,
   "id": "0cc3f797-1e8d-43b6-93d9-d0f24b22b3a4",
   "metadata": {
    "execution": {
     "iopub.execute_input": "2024-03-23T05:12:20.765799Z",
     "iopub.status.busy": "2024-03-23T05:12:20.765488Z",
     "iopub.status.idle": "2024-03-23T05:12:20.768178Z",
     "shell.execute_reply": "2024-03-23T05:12:20.767742Z"
    },
    "papermill": {
     "duration": 0.029793,
     "end_time": "2024-03-23T05:12:20.768838",
     "exception": false,
     "start_time": "2024-03-23T05:12:20.739045",
     "status": "completed"
    },
    "tags": []
   },
   "outputs": [],
   "source": [
    "paragraph_matches.append(\n",
    "    (\n",
    "        section_name,\n",
    "        par0,\n",
    "        par1,\n",
    "    )\n",
    ")"
   ]
  },
  {
   "cell_type": "code",
   "execution_count": 60,
   "id": "fa19351c-5231-4bf0-94df-c77c288929a3",
   "metadata": {
    "execution": {
     "iopub.execute_input": "2024-03-23T05:12:20.823094Z",
     "iopub.status.busy": "2024-03-23T05:12:20.822853Z",
     "iopub.status.idle": "2024-03-23T05:12:20.826645Z",
     "shell.execute_reply": "2024-03-23T05:12:20.826186Z"
    },
    "papermill": {
     "duration": 0.032417,
     "end_time": "2024-03-23T05:12:20.827393",
     "exception": false,
     "start_time": "2024-03-23T05:12:20.794976",
     "status": "completed"
    },
    "tags": []
   },
   "outputs": [
    {
     "data": {
      "text/plain": [
       "('results',\n",
       " 'The CCC provides a similarity measure between any pair of variables, either with numerical or categorical values. The method assumes that if there is a relationship between two variables/features describing $n$ data points/objects, then the **cluster**ings of those objects using each variable should **match**. In the case of numerical values, CCC uses quantiles to efficiently separate data points into different clusters (e.g., the median separates numerical data into two clusters). Once all clusterings are generated according to each variable, we define the CCC as the maximum adjusted Rand index (ARI) [@doi:10.1007/BF01908075] between them, ranging between 0 and 1. Details of the CCC algorithm can be found in [Methods](#sec:ccc_algo).',\n",
       " 'The CCC calculates the similarity between pairs of variables, whether they have numerical or categorical values. It assumes that if two variables describe n data points, the clusters of those points should align. For numerical values, CCC uses quantiles to create clusters (e.g., the median splits data into two clusters). The CCC is defined as the maximum adjusted Rand index between the clusterings, with a range of 0 to 1. More information on the CCC algorithm is available in the Methods section.')"
      ]
     },
     "metadata": {},
     "output_type": "display_data"
    }
   ],
   "source": [
    "display(paragraph_matches[-1])"
   ]
  },
  {
   "cell_type": "markdown",
   "id": "8750b23b-8244-47d9-8918-d150960f2702",
   "metadata": {
    "editable": true,
    "papermill": {
     "duration": 0.026409,
     "end_time": "2024-03-23T05:12:20.880360",
     "exception": false,
     "start_time": "2024-03-23T05:12:20.853951",
     "status": "completed"
    },
    "slideshow": {
     "slide_type": ""
    },
    "tags": []
   },
   "source": [
    "####  Paragraph 01"
   ]
  },
  {
   "cell_type": "code",
   "execution_count": 61,
   "id": "8baf67e8-648e-474d-8665-400c2f5de763",
   "metadata": {
    "execution": {
     "iopub.execute_input": "2024-03-23T05:12:20.934411Z",
     "iopub.status.busy": "2024-03-23T05:12:20.934165Z",
     "iopub.status.idle": "2024-03-23T05:12:20.937487Z",
     "shell.execute_reply": "2024-03-23T05:12:20.936973Z"
    },
    "papermill": {
     "duration": 0.031564,
     "end_time": "2024-03-23T05:12:20.938240",
     "exception": false,
     "start_time": "2024-03-23T05:12:20.906676",
     "status": "completed"
    },
    "tags": []
   },
   "outputs": [
    {
     "name": "stdout",
     "output_type": "stream",
     "text": [
      "We examined how the Pearson ($p$), Spearman ($s$) and CCC ($c$) correlation coefficients behaved on different simulated data patterns. In the first row of Figure @fig:datasets_rel, we examine the classic Anscombe's quartet [@doi:10.1080/00031305.1973.10478966], which comprises four synthetic datasets with different patterns but the same data statistics (mean, standard deviation and Pearson's correlation). This kind of simulated data, recently revisited with the \"Datasaurus\" [@url:http://www.thefunctionalart.com/2016/08/download-datasaurus-never-trust-summary.html; @doi:10.1145/3025453.3025912; @doi:10.1111/dsji.12233], is used as a reminder of the importance of going beyond simple statistics, where either undesirable patterns (such as outliers) or desirable ones (such as biologically meaningful nonlinear relationships) can be masked by summary statistics alone.\n"
     ]
    }
   ],
   "source": [
    "par0 = process_paragraph(orig_section_paragraphs[3])\n",
    "print(par0)"
   ]
  },
  {
   "cell_type": "code",
   "execution_count": 62,
   "id": "4ce852d0-25a0-417e-ab3d-67117b238c01",
   "metadata": {
    "execution": {
     "iopub.execute_input": "2024-03-23T05:12:20.995834Z",
     "iopub.status.busy": "2024-03-23T05:12:20.995275Z",
     "iopub.status.idle": "2024-03-23T05:12:20.998656Z",
     "shell.execute_reply": "2024-03-23T05:12:20.998111Z"
    },
    "papermill": {
     "duration": 0.034852,
     "end_time": "2024-03-23T05:12:20.999460",
     "exception": false,
     "start_time": "2024-03-23T05:12:20.964608",
     "status": "completed"
    },
    "tags": []
   },
   "outputs": [
    {
     "name": "stdout",
     "output_type": "stream",
     "text": [
      "We analyzed the behavior of the Pearson ($p$), Spearman ($s$), and CCC ($c$) correlation coefficients using various simulated data patterns. Figure @fig:datasets_rel shows the results for Anscombe's quartet, consisting of four synthetic datasets with different patterns but the same data statistics. This classic dataset highlights the limitations of relying solely on summary statistics, as it can mask both undesirable patterns, like outliers, and desirable ones, such as biologically meaningful nonlinear relationships. The importance of looking beyond simple statistics is further emphasized by the \"Datasaurus\" dataset, which has been revisited in recent studies.\n"
     ]
    }
   ],
   "source": [
    "par1 = process_paragraph(mod_section_paragraphs[3])\n",
    "print(par1)"
   ]
  },
  {
   "cell_type": "code",
   "execution_count": 63,
   "id": "5791f3c1-eaf4-48e9-878d-b5c068cd0f6d",
   "metadata": {
    "execution": {
     "iopub.execute_input": "2024-03-23T05:12:21.054236Z",
     "iopub.status.busy": "2024-03-23T05:12:21.053693Z",
     "iopub.status.idle": "2024-03-23T05:12:21.056632Z",
     "shell.execute_reply": "2024-03-23T05:12:21.056147Z"
    },
    "papermill": {
     "duration": 0.030953,
     "end_time": "2024-03-23T05:12:21.057369",
     "exception": false,
     "start_time": "2024-03-23T05:12:21.026416",
     "status": "completed"
    },
    "tags": []
   },
   "outputs": [],
   "source": [
    "paragraph_matches.append(\n",
    "    (\n",
    "        section_name,\n",
    "        par0,\n",
    "        par1,\n",
    "    )\n",
    ")"
   ]
  },
  {
   "cell_type": "code",
   "execution_count": 64,
   "id": "82a6f7f9-239f-42dd-84ac-f7a3be77726a",
   "metadata": {
    "execution": {
     "iopub.execute_input": "2024-03-23T05:12:21.112052Z",
     "iopub.status.busy": "2024-03-23T05:12:21.111347Z",
     "iopub.status.idle": "2024-03-23T05:12:21.115820Z",
     "shell.execute_reply": "2024-03-23T05:12:21.115277Z"
    },
    "papermill": {
     "duration": 0.033059,
     "end_time": "2024-03-23T05:12:21.116746",
     "exception": false,
     "start_time": "2024-03-23T05:12:21.083687",
     "status": "completed"
    },
    "tags": []
   },
   "outputs": [
    {
     "data": {
      "text/plain": [
       "('results',\n",
       " 'We examined how the Pearson ($p$), Spearman ($s$) and CCC ($c$) correlation coefficients behaved on different simulated data patterns. In the first row of Figure @fig:datasets_rel, we examine the classic Anscombe\\'s quartet [@doi:10.1080/00031305.1973.10478966], which comprises four synthetic datasets with different patterns but the same data statistics (mean, standard deviation and Pearson\\'s correlation). This kind of simulated data, recently revisited with the \"Datasaurus\" [@url:http://www.thefunctionalart.com/2016/08/download-datasaurus-never-trust-summary.html; @doi:10.1145/3025453.3025912; @doi:10.1111/dsji.12233], is used as a reminder of the importance of going beyond simple statistics, where either undesirable patterns (such as outliers) or desirable ones (such as biologically meaningful nonlinear relationships) can be masked by summary statistics alone.',\n",
       " 'We analyzed the behavior of the Pearson ($p$), Spearman ($s$), and CCC ($c$) correlation coefficients using various simulated data patterns. Figure @fig:datasets_rel shows the results for Anscombe\\'s quartet, consisting of four synthetic datasets with different patterns but the same data statistics. This classic dataset highlights the limitations of relying solely on summary statistics, as it can mask both undesirable patterns, like outliers, and desirable ones, such as biologically meaningful nonlinear relationships. The importance of looking beyond simple statistics is further emphasized by the \"Datasaurus\" dataset, which has been revisited in recent studies.')"
      ]
     },
     "metadata": {},
     "output_type": "display_data"
    }
   ],
   "source": [
    "display(paragraph_matches[-1])"
   ]
  },
  {
   "cell_type": "markdown",
   "id": "0ad95b5e-843e-4d55-b95e-2ddad39c3398",
   "metadata": {
    "editable": true,
    "papermill": {
     "duration": 0.02643,
     "end_time": "2024-03-23T05:12:21.172212",
     "exception": false,
     "start_time": "2024-03-23T05:12:21.145782",
     "status": "completed"
    },
    "slideshow": {
     "slide_type": ""
    },
    "tags": []
   },
   "source": [
    "####  Paragraph 02"
   ]
  },
  {
   "cell_type": "code",
   "execution_count": 65,
   "id": "400c914e-9653-4b5b-93bd-6fd0e27d0756",
   "metadata": {
    "execution": {
     "iopub.execute_input": "2024-03-23T05:12:21.254342Z",
     "iopub.status.busy": "2024-03-23T05:12:21.254101Z",
     "iopub.status.idle": "2024-03-23T05:12:21.257641Z",
     "shell.execute_reply": "2024-03-23T05:12:21.257109Z"
    },
    "papermill": {
     "duration": 0.032218,
     "end_time": "2024-03-23T05:12:21.258455",
     "exception": false,
     "start_time": "2024-03-23T05:12:21.226237",
     "status": "completed"
    },
    "tags": []
   },
   "outputs": [
    {
     "name": "stdout",
     "output_type": "stream",
     "text": [
      "Anscombe I contains a noisy but clear linear pattern, similar to Anscombe III where the linearity is perfect besides one outlier. In these two examples, CCC separates data points using two clusters (one red line for each variable $x$ and $y$), yielding 1.0 and thus indicating a strong relationship. Anscombe II seems to follow a partially quadratic relationship interpreted as linear by Pearson and Spearman. In contrast, for this potentially undersampled quadratic pattern, CCC yields a lower yet non-zero value of 0.34, reflecting a more complex relationship than a linear pattern. Anscombe IV shows a vertical line of data points where $x$ values are almost constant except for one outlier. This outlier does not influence CCC as it does for Pearson or Spearman. Thus $c=0.00$ (the minimum value) correctly indicates no association for this variable pair because, besides the outlier, for a single value of $x$ there are ten different values for $y$. This pair of variables does not fit the CCC assumption: the two clusters formed with $x$ (approximately separated by $x=13$) do not match the three clusters formed with $y$. The Pearson's correlation coefficient is the same across all these Anscombe's examples ($p=0.82$), whereas Spearman is 0.50 or greater. These simulated datasets show that both Pearson and Spearman are powerful in detecting linear patterns. However, any deviation in this assumption (like nonlinear relationships or outliers) affects their robustness.\n"
     ]
    }
   ],
   "source": [
    "par0 = process_paragraph(orig_section_paragraphs[4])\n",
    "print(par0)"
   ]
  },
  {
   "cell_type": "code",
   "execution_count": 66,
   "id": "6ee81bcf-fc69-4749-9600-b8900438c2db",
   "metadata": {
    "execution": {
     "iopub.execute_input": "2024-03-23T05:12:21.313261Z",
     "iopub.status.busy": "2024-03-23T05:12:21.313019Z",
     "iopub.status.idle": "2024-03-23T05:12:21.316586Z",
     "shell.execute_reply": "2024-03-23T05:12:21.316033Z"
    },
    "papermill": {
     "duration": 0.032043,
     "end_time": "2024-03-23T05:12:21.317297",
     "exception": false,
     "start_time": "2024-03-23T05:12:21.285254",
     "status": "completed"
    },
    "tags": []
   },
   "outputs": [
    {
     "name": "stdout",
     "output_type": "stream",
     "text": [
      "Anscombe I and III display clear linear patterns, with one outlier in Anscombe III. The Correlation Coefficient based on Machine Learning (CCC) accurately separates data points in these examples, yielding a strong relationship value of 1.0. Anscombe II exhibits a partially quadratic relationship, which is interpreted as linear by traditional correlation methods. However, CCC identifies a more complex relationship with a value of 0.34. In Anscombe IV, a vertical line of data points with one outlier is observed. CCC correctly indicates no association with a value of 0.00 due to the outlier and the variation in values for one variable. This demonstrates that CCC is sensitive to deviations from linear patterns. Pearson's correlation coefficient remains consistent across all examples, while Spearman's coefficient varies. Overall, Pearson and Spearman are effective in detecting linear patterns but are less robust when faced with nonlinear relationships or outliers.\n"
     ]
    }
   ],
   "source": [
    "par1 = process_paragraph(mod_section_paragraphs[4])\n",
    "print(par1)"
   ]
  },
  {
   "cell_type": "code",
   "execution_count": 67,
   "id": "27b35246-8b56-46b7-a876-4ad96e8fac28",
   "metadata": {
    "execution": {
     "iopub.execute_input": "2024-03-23T05:12:21.371863Z",
     "iopub.status.busy": "2024-03-23T05:12:21.371646Z",
     "iopub.status.idle": "2024-03-23T05:12:21.374555Z",
     "shell.execute_reply": "2024-03-23T05:12:21.374047Z"
    },
    "papermill": {
     "duration": 0.030935,
     "end_time": "2024-03-23T05:12:21.375314",
     "exception": false,
     "start_time": "2024-03-23T05:12:21.344379",
     "status": "completed"
    },
    "tags": []
   },
   "outputs": [],
   "source": [
    "paragraph_matches.append(\n",
    "    (\n",
    "        section_name,\n",
    "        par0,\n",
    "        par1,\n",
    "    )\n",
    ")"
   ]
  },
  {
   "cell_type": "code",
   "execution_count": 68,
   "id": "aa6b9604-ce2b-4fd6-acf0-4f530f0f4b34",
   "metadata": {
    "execution": {
     "iopub.execute_input": "2024-03-23T05:12:21.429631Z",
     "iopub.status.busy": "2024-03-23T05:12:21.429425Z",
     "iopub.status.idle": "2024-03-23T05:12:21.433262Z",
     "shell.execute_reply": "2024-03-23T05:12:21.432761Z"
    },
    "papermill": {
     "duration": 0.031742,
     "end_time": "2024-03-23T05:12:21.434048",
     "exception": false,
     "start_time": "2024-03-23T05:12:21.402306",
     "status": "completed"
    },
    "tags": []
   },
   "outputs": [
    {
     "data": {
      "text/plain": [
       "('results',\n",
       " \"Anscombe I contains a noisy but clear linear pattern, similar to Anscombe III where the linearity is perfect besides one outlier. In these two examples, CCC separates data points using two clusters (one red line for each variable $x$ and $y$), yielding 1.0 and thus indicating a strong relationship. Anscombe II seems to follow a partially quadratic relationship interpreted as linear by Pearson and Spearman. In contrast, for this potentially undersampled quadratic pattern, CCC yields a lower yet non-zero value of 0.34, reflecting a more complex relationship than a linear pattern. Anscombe IV shows a vertical line of data points where $x$ values are almost constant except for one outlier. This outlier does not influence CCC as it does for Pearson or Spearman. Thus $c=0.00$ (the minimum value) correctly indicates no association for this variable pair because, besides the outlier, for a single value of $x$ there are ten different values for $y$. This pair of variables does not fit the CCC assumption: the two clusters formed with $x$ (approximately separated by $x=13$) do not match the three clusters formed with $y$. The Pearson's correlation coefficient is the same across all these Anscombe's examples ($p=0.82$), whereas Spearman is 0.50 or greater. These simulated datasets show that both Pearson and Spearman are powerful in detecting linear patterns. However, any deviation in this assumption (like nonlinear relationships or outliers) affects their robustness.\",\n",
       " \"Anscombe I and III display clear linear patterns, with one outlier in Anscombe III. The Correlation Coefficient based on Machine Learning (CCC) accurately separates data points in these examples, yielding a strong relationship value of 1.0. Anscombe II exhibits a partially quadratic relationship, which is interpreted as linear by traditional correlation methods. However, CCC identifies a more complex relationship with a value of 0.34. In Anscombe IV, a vertical line of data points with one outlier is observed. CCC correctly indicates no association with a value of 0.00 due to the outlier and the variation in values for one variable. This demonstrates that CCC is sensitive to deviations from linear patterns. Pearson's correlation coefficient remains consistent across all examples, while Spearman's coefficient varies. Overall, Pearson and Spearman are effective in detecting linear patterns but are less robust when faced with nonlinear relationships or outliers.\")"
      ]
     },
     "metadata": {},
     "output_type": "display_data"
    }
   ],
   "source": [
    "display(paragraph_matches[-1])"
   ]
  },
  {
   "cell_type": "markdown",
   "id": "e21060ab-a1f4-4b0d-a02b-1540cc60e04f",
   "metadata": {
    "editable": true,
    "papermill": {
     "duration": 0.026557,
     "end_time": "2024-03-23T05:12:21.487355",
     "exception": false,
     "start_time": "2024-03-23T05:12:21.460798",
     "status": "completed"
    },
    "slideshow": {
     "slide_type": ""
    },
    "tags": []
   },
   "source": [
    "####  Paragraph 03"
   ]
  },
  {
   "cell_type": "code",
   "execution_count": 69,
   "id": "08f779d6-78b6-437b-b9ae-5b4f9a31fa16",
   "metadata": {
    "execution": {
     "iopub.execute_input": "2024-03-23T05:12:21.541245Z",
     "iopub.status.busy": "2024-03-23T05:12:21.541029Z",
     "iopub.status.idle": "2024-03-23T05:12:21.544391Z",
     "shell.execute_reply": "2024-03-23T05:12:21.543877Z"
    },
    "papermill": {
     "duration": 0.031278,
     "end_time": "2024-03-23T05:12:21.545165",
     "exception": false,
     "start_time": "2024-03-23T05:12:21.513887",
     "status": "completed"
    },
    "tags": []
   },
   "outputs": [
    {
     "name": "stdout",
     "output_type": "stream",
     "text": [
      "We simulated additional types of relationships (Figure @fig:datasets_rel, second row), including some previously described from gene expression data [@doi:10.1126/science.1205438; @doi:10.3389/fgene.2019.01410; @doi:10.1091/mbc.9.12.3273]. For the random/independent pair of variables, all coefficients correctly agree with a value close to zero. The non-coexistence pattern, captured by all coefficients, represents a case where one gene ($x$) might be expressed while the other one ($y$) is inhibited, highlighting a potentially strong biological relationship (such as a microRNA negatively regulating another gene). For the other two examples (quadratic and two-lines), Pearson and Spearman do not capture the nonlinear pattern between variables $x$ and $y$. These patterns also show how CCC uses different degrees of complexity to capture the relationships. For the quadratic pattern, for example, CCC separates $x$ into more clusters (four in this case) to reach the maximum ARI. The two-lines example shows two embedded linear relationships with different slopes, which neither Pearson nor Spearman detect ($p=-0.12$ and $s=0.05$, respectively). Here, CCC increases the complexity of the model by using eight clusters for $x$ and six for $y$, resulting in $c=0.31$.\n"
     ]
    }
   ],
   "source": [
    "par0 = process_paragraph(orig_section_paragraphs[5])  # .replace(\" - \", \"\\n- \")\n",
    "print(par0)"
   ]
  },
  {
   "cell_type": "code",
   "execution_count": 70,
   "id": "5e4bd749-0cdd-44dd-9c6a-1283a6e144a8",
   "metadata": {
    "execution": {
     "iopub.execute_input": "2024-03-23T05:12:21.599695Z",
     "iopub.status.busy": "2024-03-23T05:12:21.599487Z",
     "iopub.status.idle": "2024-03-23T05:12:21.602779Z",
     "shell.execute_reply": "2024-03-23T05:12:21.602269Z"
    },
    "papermill": {
     "duration": 0.031267,
     "end_time": "2024-03-23T05:12:21.603535",
     "exception": false,
     "start_time": "2024-03-23T05:12:21.572268",
     "status": "completed"
    },
    "tags": []
   },
   "outputs": [
    {
     "name": "stdout",
     "output_type": "stream",
     "text": [
      "We examined various types of relationships, as shown in Figure @fig:datasets_rel (second row), including those observed in gene expression data. For a random/independent pair of variables, all coefficients approached zero. The non-coexistence pattern, identified by all coefficients, indicates a scenario where one gene ($x$) may be active while the other ($y$) is suppressed, suggesting a potentially significant biological association (e.g., microRNA regulation). In the case of the quadratic and two-lines examples, Pearson and Spearman coefficients failed to capture the nonlinear relationship between variables $x$ and $y. The CCC method demonstrated its ability to capture different levels of complexity in these relationships. For the quadratic pattern, CCC segmented $x$ into four clusters to optimize the Adjusted Rand Index (ARI). In the two-lines example, where two linear relationships with distinct slopes were present, neither Pearson nor Spearman coefficients detected the pattern ($p=-0.12$ and $s=0.05$, respectively). CCC addressed this by utilizing eight clusters for $x$ and six for $y$, resulting in a coefficient of $c=0.31$.\n"
     ]
    }
   ],
   "source": [
    "par1 = process_paragraph(mod_section_paragraphs[5])\n",
    "print(par1)"
   ]
  },
  {
   "cell_type": "code",
   "execution_count": 71,
   "id": "e4c9c922-73bb-4839-9213-dd7df638fb46",
   "metadata": {
    "execution": {
     "iopub.execute_input": "2024-03-23T05:12:21.658086Z",
     "iopub.status.busy": "2024-03-23T05:12:21.657873Z",
     "iopub.status.idle": "2024-03-23T05:12:21.660817Z",
     "shell.execute_reply": "2024-03-23T05:12:21.660290Z"
    },
    "papermill": {
     "duration": 0.031048,
     "end_time": "2024-03-23T05:12:21.661615",
     "exception": false,
     "start_time": "2024-03-23T05:12:21.630567",
     "status": "completed"
    },
    "tags": []
   },
   "outputs": [],
   "source": [
    "paragraph_matches.append(\n",
    "    (\n",
    "        section_name,\n",
    "        par0,\n",
    "        par1,\n",
    "    )\n",
    ")"
   ]
  },
  {
   "cell_type": "code",
   "execution_count": 72,
   "id": "4b887b5d-10eb-43e0-9a85-4640473a8ede",
   "metadata": {
    "execution": {
     "iopub.execute_input": "2024-03-23T05:12:21.715840Z",
     "iopub.status.busy": "2024-03-23T05:12:21.715633Z",
     "iopub.status.idle": "2024-03-23T05:12:21.719518Z",
     "shell.execute_reply": "2024-03-23T05:12:21.719010Z"
    },
    "papermill": {
     "duration": 0.03172,
     "end_time": "2024-03-23T05:12:21.720282",
     "exception": false,
     "start_time": "2024-03-23T05:12:21.688562",
     "status": "completed"
    },
    "tags": []
   },
   "outputs": [
    {
     "data": {
      "text/plain": [
       "('results',\n",
       " 'We simulated additional types of relationships (Figure @fig:datasets_rel, second row), including some previously described from gene expression data [@doi:10.1126/science.1205438; @doi:10.3389/fgene.2019.01410; @doi:10.1091/mbc.9.12.3273]. For the random/independent pair of variables, all coefficients correctly agree with a value close to zero. The non-coexistence pattern, captured by all coefficients, represents a case where one gene ($x$) might be expressed while the other one ($y$) is inhibited, highlighting a potentially strong biological relationship (such as a microRNA negatively regulating another gene). For the other two examples (quadratic and two-lines), Pearson and Spearman do not capture the nonlinear pattern between variables $x$ and $y$. These patterns also show how CCC uses different degrees of complexity to capture the relationships. For the quadratic pattern, for example, CCC separates $x$ into more clusters (four in this case) to reach the maximum ARI. The two-lines example shows two embedded linear relationships with different slopes, which neither Pearson nor Spearman detect ($p=-0.12$ and $s=0.05$, respectively). Here, CCC increases the complexity of the model by using eight clusters for $x$ and six for $y$, resulting in $c=0.31$.',\n",
       " 'We examined various types of relationships, as shown in Figure @fig:datasets_rel (second row), including those observed in gene expression data. For a random/independent pair of variables, all coefficients approached zero. The non-coexistence pattern, identified by all coefficients, indicates a scenario where one gene ($x$) may be active while the other ($y$) is suppressed, suggesting a potentially significant biological association (e.g., microRNA regulation). In the case of the quadratic and two-lines examples, Pearson and Spearman coefficients failed to capture the nonlinear relationship between variables $x$ and $y. The CCC method demonstrated its ability to capture different levels of complexity in these relationships. For the quadratic pattern, CCC segmented $x$ into four clusters to optimize the Adjusted Rand Index (ARI). In the two-lines example, where two linear relationships with distinct slopes were present, neither Pearson nor Spearman coefficients detected the pattern ($p=-0.12$ and $s=0.05$, respectively). CCC addressed this by utilizing eight clusters for $x$ and six for $y$, resulting in a coefficient of $c=0.31$.')"
      ]
     },
     "metadata": {},
     "output_type": "display_data"
    }
   ],
   "source": [
    "display(paragraph_matches[-1])"
   ]
  },
  {
   "cell_type": "markdown",
   "id": "898aaebd-7378-49a9-9961-d8cc9a0d7781",
   "metadata": {
    "editable": true,
    "papermill": {
     "duration": 0.026284,
     "end_time": "2024-03-23T05:12:21.773282",
     "exception": false,
     "start_time": "2024-03-23T05:12:21.746998",
     "status": "completed"
    },
    "slideshow": {
     "slide_type": ""
    },
    "tags": []
   },
   "source": [
    "## Results (comp)"
   ]
  },
  {
   "cell_type": "code",
   "execution_count": 73,
   "id": "373ac190-eb9f-4158-842a-c153b0513084",
   "metadata": {
    "execution": {
     "iopub.execute_input": "2024-03-23T05:12:21.826593Z",
     "iopub.status.busy": "2024-03-23T05:12:21.826384Z",
     "iopub.status.idle": "2024-03-23T05:12:21.828966Z",
     "shell.execute_reply": "2024-03-23T05:12:21.828470Z"
    },
    "papermill": {
     "duration": 0.030165,
     "end_time": "2024-03-23T05:12:21.829721",
     "exception": false,
     "start_time": "2024-03-23T05:12:21.799556",
     "status": "completed"
    },
    "tags": []
   },
   "outputs": [],
   "source": [
    "# section_name = \"results\""
   ]
  },
  {
   "cell_type": "code",
   "execution_count": 74,
   "id": "765394e3-52a7-41d8-85aa-e06e20d9d89b",
   "metadata": {
    "editable": true,
    "execution": {
     "iopub.execute_input": "2024-03-23T05:12:21.883109Z",
     "iopub.status.busy": "2024-03-23T05:12:21.882908Z",
     "iopub.status.idle": "2024-03-23T05:12:21.886316Z",
     "shell.execute_reply": "2024-03-23T05:12:21.885790Z"
    },
    "papermill": {
     "duration": 0.030938,
     "end_time": "2024-03-23T05:12:21.887006",
     "exception": false,
     "start_time": "2024-03-23T05:12:21.856068",
     "status": "completed"
    },
    "slideshow": {
     "slide_type": ""
    },
    "tags": []
   },
   "outputs": [
    {
     "name": "stdout",
     "output_type": "stream",
     "text": [
      "content/04.10.results_comp.md\n"
     ]
    }
   ],
   "source": [
    "pr_filename = pr_files[3].filename\n",
    "assert section_name in pr_filename\n",
    "assert \"comp\" in pr_filename\n",
    "print(pr_filename)"
   ]
  },
  {
   "cell_type": "markdown",
   "id": "d49a37e3-bf74-4116-9399-52d5a7c89852",
   "metadata": {
    "editable": true,
    "papermill": {
     "duration": 0.026279,
     "end_time": "2024-03-23T05:12:21.940216",
     "exception": false,
     "start_time": "2024-03-23T05:12:21.913937",
     "status": "completed"
    },
    "slideshow": {
     "slide_type": ""
    },
    "tags": []
   },
   "source": [
    "### Original"
   ]
  },
  {
   "cell_type": "code",
   "execution_count": 75,
   "id": "6f1524cb-a512-4c58-a656-929821e2cb8a",
   "metadata": {
    "execution": {
     "iopub.execute_input": "2024-03-23T05:12:21.993864Z",
     "iopub.status.busy": "2024-03-23T05:12:21.993619Z",
     "iopub.status.idle": "2024-03-23T05:12:22.143163Z",
     "shell.execute_reply": "2024-03-23T05:12:22.142589Z"
    },
    "papermill": {
     "duration": 0.177454,
     "end_time": "2024-03-23T05:12:22.144196",
     "exception": false,
     "start_time": "2024-03-23T05:12:21.966742",
     "status": "completed"
    },
    "tags": []
   },
   "outputs": [
    {
     "name": "stdout",
     "output_type": "stream",
     "text": [
      "### The CCC reveals linear and nonlinear patterns \n"
     ]
    }
   ],
   "source": [
    "# get content\n",
    "orig_section_content = repo.get_contents(pr_filename, pr_prev).decoded_content.decode(\n",
    "    \"utf-8\"\n",
    ")\n",
    "print(orig_section_content[:50])"
   ]
  },
  {
   "cell_type": "code",
   "execution_count": 76,
   "id": "13b654d9-b7e9-49ea-b311-9d0309cdab48",
   "metadata": {
    "execution": {
     "iopub.execute_input": "2024-03-23T05:12:22.224821Z",
     "iopub.status.busy": "2024-03-23T05:12:22.224607Z",
     "iopub.status.idle": "2024-03-23T05:12:22.228467Z",
     "shell.execute_reply": "2024-03-23T05:12:22.227970Z"
    },
    "papermill": {
     "duration": 0.044528,
     "end_time": "2024-03-23T05:12:22.229219",
     "exception": false,
     "start_time": "2024-03-23T05:12:22.184691",
     "status": "completed"
    },
    "tags": []
   },
   "outputs": [
    {
     "data": {
      "text/plain": [
       "9"
      ]
     },
     "metadata": {},
     "output_type": "display_data"
    }
   ],
   "source": [
    "# split by paragraph\n",
    "orig_section_paragraphs = orig_section_content.split(\"\\n\\n\")\n",
    "display(len(orig_section_paragraphs))"
   ]
  },
  {
   "cell_type": "markdown",
   "id": "a957a473-75f3-4e11-b973-74a8df13c69e",
   "metadata": {
    "editable": true,
    "papermill": {
     "duration": 0.055365,
     "end_time": "2024-03-23T05:12:22.311907",
     "exception": false,
     "start_time": "2024-03-23T05:12:22.256542",
     "status": "completed"
    },
    "slideshow": {
     "slide_type": ""
    },
    "tags": []
   },
   "source": [
    "### Modified"
   ]
  },
  {
   "cell_type": "code",
   "execution_count": 77,
   "id": "6694c2cd-be3e-4b48-a979-03e718b2ec39",
   "metadata": {
    "execution": {
     "iopub.execute_input": "2024-03-23T05:12:22.366715Z",
     "iopub.status.busy": "2024-03-23T05:12:22.366477Z",
     "iopub.status.idle": "2024-03-23T05:12:22.521505Z",
     "shell.execute_reply": "2024-03-23T05:12:22.520853Z"
    },
    "papermill": {
     "duration": 0.183589,
     "end_time": "2024-03-23T05:12:22.522431",
     "exception": false,
     "start_time": "2024-03-23T05:12:22.338842",
     "status": "completed"
    },
    "tags": []
   },
   "outputs": [
    {
     "name": "stdout",
     "output_type": "stream",
     "text": [
      "### The CCC reveals linear and nonlinear patterns \n"
     ]
    }
   ],
   "source": [
    "# get content\n",
    "mod_section_content = repo.get_contents(pr_filename, pr_curr).decoded_content.decode(\n",
    "    \"utf-8\"\n",
    ")\n",
    "print(mod_section_content[:50])"
   ]
  },
  {
   "cell_type": "code",
   "execution_count": 78,
   "id": "5a1d6517-edb5-4849-a24c-d11bc0b29d9b",
   "metadata": {
    "execution": {
     "iopub.execute_input": "2024-03-23T05:12:22.576639Z",
     "iopub.status.busy": "2024-03-23T05:12:22.576262Z",
     "iopub.status.idle": "2024-03-23T05:12:22.579923Z",
     "shell.execute_reply": "2024-03-23T05:12:22.579495Z"
    },
    "papermill": {
     "duration": 0.031277,
     "end_time": "2024-03-23T05:12:22.580622",
     "exception": false,
     "start_time": "2024-03-23T05:12:22.549345",
     "status": "completed"
    },
    "tags": []
   },
   "outputs": [
    {
     "data": {
      "text/plain": [
       "9"
      ]
     },
     "metadata": {},
     "output_type": "display_data"
    }
   ],
   "source": [
    "# split by paragraph\n",
    "mod_section_paragraphs = mod_section_content.split(\"\\n\\n\")\n",
    "display(len(mod_section_paragraphs))"
   ]
  },
  {
   "cell_type": "markdown",
   "id": "575e9eb7-2c6f-4fc6-9eb2-9bca7c856fd6",
   "metadata": {
    "editable": true,
    "papermill": {
     "duration": 0.026321,
     "end_time": "2024-03-23T05:12:22.633604",
     "exception": false,
     "start_time": "2024-03-23T05:12:22.607283",
     "status": "completed"
    },
    "slideshow": {
     "slide_type": ""
    },
    "tags": []
   },
   "source": [
    "### Match"
   ]
  },
  {
   "cell_type": "code",
   "execution_count": 79,
   "id": "78240b77-5fd4-4bd9-ae94-f4d6e14de77b",
   "metadata": {
    "execution": {
     "iopub.execute_input": "2024-03-23T05:12:22.687235Z",
     "iopub.status.busy": "2024-03-23T05:12:22.686899Z",
     "iopub.status.idle": "2024-03-23T05:12:22.690226Z",
     "shell.execute_reply": "2024-03-23T05:12:22.689783Z"
    },
    "papermill": {
     "duration": 0.03097,
     "end_time": "2024-03-23T05:12:22.690938",
     "exception": false,
     "start_time": "2024-03-23T05:12:22.659968",
     "status": "completed"
    },
    "tags": []
   },
   "outputs": [
    {
     "data": {
      "text/plain": [
       "'### The CCC reveals linear and nonlinear patterns in human transcriptomic data'"
      ]
     },
     "execution_count": 79,
     "metadata": {},
     "output_type": "execute_result"
    }
   ],
   "source": [
    "orig_section_paragraphs[0]"
   ]
  },
  {
   "cell_type": "code",
   "execution_count": 80,
   "id": "af772028-3079-496e-bb76-abd5d2df4dac",
   "metadata": {
    "execution": {
     "iopub.execute_input": "2024-03-23T05:12:22.744847Z",
     "iopub.status.busy": "2024-03-23T05:12:22.744436Z",
     "iopub.status.idle": "2024-03-23T05:12:22.748439Z",
     "shell.execute_reply": "2024-03-23T05:12:22.747933Z"
    },
    "papermill": {
     "duration": 0.031711,
     "end_time": "2024-03-23T05:12:22.749202",
     "exception": false,
     "start_time": "2024-03-23T05:12:22.717491",
     "status": "completed"
    },
    "tags": []
   },
   "outputs": [
    {
     "data": {
      "text/plain": [
       "'### The CCC reveals linear and nonlinear patterns in human transcriptomic data'"
      ]
     },
     "execution_count": 80,
     "metadata": {},
     "output_type": "execute_result"
    }
   ],
   "source": [
    "mod_section_paragraphs[0]"
   ]
  },
  {
   "cell_type": "markdown",
   "id": "54327d94-0a86-4564-a584-7791a11a2178",
   "metadata": {
    "editable": true,
    "papermill": {
     "duration": 0.026226,
     "end_time": "2024-03-23T05:12:22.801992",
     "exception": false,
     "start_time": "2024-03-23T05:12:22.775766",
     "status": "completed"
    },
    "slideshow": {
     "slide_type": ""
    },
    "tags": []
   },
   "source": [
    "####  Paragraph 00"
   ]
  },
  {
   "cell_type": "code",
   "execution_count": 81,
   "id": "61004c9b-5f28-4d97-86b9-9ac9d42e9213",
   "metadata": {
    "execution": {
     "iopub.execute_input": "2024-03-23T05:12:22.855490Z",
     "iopub.status.busy": "2024-03-23T05:12:22.855149Z",
     "iopub.status.idle": "2024-03-23T05:12:22.858159Z",
     "shell.execute_reply": "2024-03-23T05:12:22.857654Z"
    },
    "papermill": {
     "duration": 0.030501,
     "end_time": "2024-03-23T05:12:22.858868",
     "exception": false,
     "start_time": "2024-03-23T05:12:22.828367",
     "status": "completed"
    },
    "tags": []
   },
   "outputs": [
    {
     "name": "stdout",
     "output_type": "stream",
     "text": [
      "We examined the distribution of each coefficient's absolute values in GTEx (Figure @fig:dist_coefs). CCC (mean=0.14, median=0.08, sd=0.15) has a much more skewed distribution than Pearson (mean=0.31, median=0.24, sd=0.24) and Spearman (mean=0.39, median=0.37, sd=0.26). The coefficients reach a cumulative set containing 70% of gene pairs at different values (Figure @fig:dist_coefs b), $c=0.18$, $p=0.44$ and $s=0.56$, suggesting that for this type of data, the coefficients are not directly comparable by magnitude, so we used ranks for further comparisons. In GTEx v8, CCC values were closer to Spearman and vice versa than either was to Pearson (Figure @fig:dist_coefs c). We also compared the Maximal Information Coefficient (MIC) in this data (see [Supplementary Note 1](#sec:mic)). We found that CCC behaved very similarly to MIC, although CCC was up to two orders of magnitude faster to run (see [Supplementary Note 2](#sec:time_test)). MIC, an advanced correlation coefficient able to capture general patterns beyond linear relationships, represented a significant step forward in correlation analysis research and has been successfully used in various application domains [@pmid:33972855; @pmid:33001806; @pmid:27006077]. These results suggest that our findings for CCC generalize to MIC, therefore, in the subsequent analyses we focus on CCC and linear-only coefficients.\n"
     ]
    }
   ],
   "source": [
    "par0 = process_paragraph(orig_section_paragraphs[2])\n",
    "print(par0)"
   ]
  },
  {
   "cell_type": "code",
   "execution_count": 82,
   "id": "b4a4cd91-c391-42ec-b0ec-7e30a78f03df",
   "metadata": {
    "execution": {
     "iopub.execute_input": "2024-03-23T05:12:22.912309Z",
     "iopub.status.busy": "2024-03-23T05:12:22.911979Z",
     "iopub.status.idle": "2024-03-23T05:12:22.914903Z",
     "shell.execute_reply": "2024-03-23T05:12:22.914461Z"
    },
    "papermill": {
     "duration": 0.030482,
     "end_time": "2024-03-23T05:12:22.915598",
     "exception": false,
     "start_time": "2024-03-23T05:12:22.885116",
     "status": "completed"
    },
    "tags": []
   },
   "outputs": [
    {
     "name": "stdout",
     "output_type": "stream",
     "text": [
      "We analyzed the distribution of absolute values of each coefficient in GTEx, as shown in Figure 1. The CCC (mean=0.14, median=0.08, sd=0.15) exhibited a more skewed distribution compared to Pearson (mean=0.31, median=0.24, sd=0.24) and Spearman (mean=0.39, median=0.37, sd=0.26). The cumulative set containing 70% of gene pairs had different values for CCC, Pearson, and Spearman (Figure 1b), with values of $c=0.18$, $p=0.44$, and $s=0.56, indicating that direct magnitude comparisons are not suitable for this data type. Therefore, ranks were used for further analysis. In GTEx v8, CCC values were closer to Spearman than to Pearson (Figure 1c). Additionally, the Maximal Information Coefficient (MIC) was compared in this data (see Supplementary Note 1). CCC showed similar behavior to MIC, but with significantly faster processing times (see Supplementary Note 2). MIC, a correlation coefficient capable of capturing general patterns beyond linear relationships, has been successfully applied in various domains. These findings suggest that the results obtained for CCC can be generalized to MIC. Subsequent analyses will focus on CCC and linear-only coefficients.\n"
     ]
    }
   ],
   "source": [
    "par1 = process_paragraph(mod_section_paragraphs[2])\n",
    "print(par1)"
   ]
  },
  {
   "cell_type": "code",
   "execution_count": 83,
   "id": "b2370a90-85eb-4070-8bfd-60d5cb818b4b",
   "metadata": {
    "execution": {
     "iopub.execute_input": "2024-03-23T05:12:22.969786Z",
     "iopub.status.busy": "2024-03-23T05:12:22.969425Z",
     "iopub.status.idle": "2024-03-23T05:12:22.972029Z",
     "shell.execute_reply": "2024-03-23T05:12:22.971603Z"
    },
    "papermill": {
     "duration": 0.030228,
     "end_time": "2024-03-23T05:12:22.972726",
     "exception": false,
     "start_time": "2024-03-23T05:12:22.942498",
     "status": "completed"
    },
    "tags": []
   },
   "outputs": [],
   "source": [
    "paragraph_matches.append(\n",
    "    (\n",
    "        section_name,\n",
    "        par0,\n",
    "        par1,\n",
    "    )\n",
    ")"
   ]
  },
  {
   "cell_type": "code",
   "execution_count": 84,
   "id": "91d9a9c4-6833-4fbf-829d-22f8866240e9",
   "metadata": {
    "execution": {
     "iopub.execute_input": "2024-03-23T05:12:23.027401Z",
     "iopub.status.busy": "2024-03-23T05:12:23.026970Z",
     "iopub.status.idle": "2024-03-23T05:12:23.030484Z",
     "shell.execute_reply": "2024-03-23T05:12:23.030053Z"
    },
    "papermill": {
     "duration": 0.031638,
     "end_time": "2024-03-23T05:12:23.031165",
     "exception": false,
     "start_time": "2024-03-23T05:12:22.999527",
     "status": "completed"
    },
    "tags": []
   },
   "outputs": [
    {
     "data": {
      "text/plain": [
       "('results',\n",
       " \"We examined the distribution of each coefficient's absolute values in GTEx (Figure @fig:dist_coefs). CCC (mean=0.14, median=0.08, sd=0.15) has a much more skewed distribution than Pearson (mean=0.31, median=0.24, sd=0.24) and Spearman (mean=0.39, median=0.37, sd=0.26). The coefficients reach a cumulative set containing 70% of gene pairs at different values (Figure @fig:dist_coefs b), $c=0.18$, $p=0.44$ and $s=0.56$, suggesting that for this type of data, the coefficients are not directly comparable by magnitude, so we used ranks for further comparisons. In GTEx v8, CCC values were closer to Spearman and vice versa than either was to Pearson (Figure @fig:dist_coefs c). We also compared the Maximal Information Coefficient (MIC) in this data (see [Supplementary Note 1](#sec:mic)). We found that CCC behaved very similarly to MIC, although CCC was up to two orders of magnitude faster to run (see [Supplementary Note 2](#sec:time_test)). MIC, an advanced correlation coefficient able to capture general patterns beyond linear relationships, represented a significant step forward in correlation analysis research and has been successfully used in various application domains [@pmid:33972855; @pmid:33001806; @pmid:27006077]. These results suggest that our findings for CCC generalize to MIC, therefore, in the subsequent analyses we focus on CCC and linear-only coefficients.\",\n",
       " 'We analyzed the distribution of absolute values of each coefficient in GTEx, as shown in Figure 1. The CCC (mean=0.14, median=0.08, sd=0.15) exhibited a more skewed distribution compared to Pearson (mean=0.31, median=0.24, sd=0.24) and Spearman (mean=0.39, median=0.37, sd=0.26). The cumulative set containing 70% of gene pairs had different values for CCC, Pearson, and Spearman (Figure 1b), with values of $c=0.18$, $p=0.44$, and $s=0.56, indicating that direct magnitude comparisons are not suitable for this data type. Therefore, ranks were used for further analysis. In GTEx v8, CCC values were closer to Spearman than to Pearson (Figure 1c). Additionally, the Maximal Information Coefficient (MIC) was compared in this data (see Supplementary Note 1). CCC showed similar behavior to MIC, but with significantly faster processing times (see Supplementary Note 2). MIC, a correlation coefficient capable of capturing general patterns beyond linear relationships, has been successfully applied in various domains. These findings suggest that the results obtained for CCC can be generalized to MIC. Subsequent analyses will focus on CCC and linear-only coefficients.')"
      ]
     },
     "metadata": {},
     "output_type": "display_data"
    }
   ],
   "source": [
    "display(paragraph_matches[-1])"
   ]
  },
  {
   "cell_type": "markdown",
   "id": "8c82da83-cd73-433c-b25c-1a5a1014a9ec",
   "metadata": {
    "editable": true,
    "papermill": {
     "duration": 0.026628,
     "end_time": "2024-03-23T05:12:23.084219",
     "exception": false,
     "start_time": "2024-03-23T05:12:23.057591",
     "status": "completed"
    },
    "slideshow": {
     "slide_type": ""
    },
    "tags": []
   },
   "source": [
    "####  Paragraph 01"
   ]
  },
  {
   "cell_type": "code",
   "execution_count": 85,
   "id": "b3fdd165-3468-44fb-b4c7-63faf5dbf3c2",
   "metadata": {
    "execution": {
     "iopub.execute_input": "2024-03-23T05:12:23.138688Z",
     "iopub.status.busy": "2024-03-23T05:12:23.138310Z",
     "iopub.status.idle": "2024-03-23T05:12:23.141384Z",
     "shell.execute_reply": "2024-03-23T05:12:23.140928Z"
    },
    "papermill": {
     "duration": 0.031288,
     "end_time": "2024-03-23T05:12:23.142101",
     "exception": false,
     "start_time": "2024-03-23T05:12:23.110813",
     "status": "completed"
    },
    "tags": []
   },
   "outputs": [
    {
     "name": "stdout",
     "output_type": "stream",
     "text": [
      "A closer inspection of gene pairs that were either prioritized or disregarded by these coefficients revealed that they captured different patterns. We analyzed the agreements and disagreements by obtaining, for each coefficient, the top 30% of gene pairs with the largest correlation values (\"high\" set) and the bottom 30% (\"low\" set), resulting in six potentially overlapping categories. For most cases (76.4%), an UpSet analysis [@doi:10.1109/TVCG.2014.2346248] (Figure @fig:upsetplot_coefs a) showed that the three coefficients agreed on whether there is a strong correlation (42.1%) or there is no relationship (34.3%). Since Pearson and Spearman are linear-only, and CCC can also capture these patterns, we expect that these concordant gene pairs represent clear linear patterns. CCC and Spearman agree more on either highly or poorly correlated pairs (4.0% in \"high\", and 7.0% in \"low\") than any of these with Pearson (all between 0.3%-3.5% for \"high\", and 2.8%-5.5% for \"low\"). In summary, CCC agrees with either Pearson or Spearman in 90.5% of gene pairs by assigning a high or a low correlation value.\n"
     ]
    }
   ],
   "source": [
    "par0 = process_paragraph(orig_section_paragraphs[4])\n",
    "print(par0)"
   ]
  },
  {
   "cell_type": "code",
   "execution_count": 86,
   "id": "f224073d-a0e9-4811-9736-b56661aaf92d",
   "metadata": {
    "execution": {
     "iopub.execute_input": "2024-03-23T05:12:23.196549Z",
     "iopub.status.busy": "2024-03-23T05:12:23.196213Z",
     "iopub.status.idle": "2024-03-23T05:12:23.199088Z",
     "shell.execute_reply": "2024-03-23T05:12:23.198650Z"
    },
    "papermill": {
     "duration": 0.030848,
     "end_time": "2024-03-23T05:12:23.199793",
     "exception": false,
     "start_time": "2024-03-23T05:12:23.168945",
     "status": "completed"
    },
    "tags": []
   },
   "outputs": [
    {
     "name": "stdout",
     "output_type": "stream",
     "text": [
      "An examination of gene pairs prioritized or disregarded by the correlation coefficients showed that they captured different patterns. We compared the top 30% and bottom 30% of gene pairs based on correlation values for each coefficient, resulting in six overlapping categories. Most cases (76.4%) agreed on strong correlation (42.1%) or no relationship (34.3%), as shown in an UpSet analysis (Figure 1a). Since Pearson and Spearman are linear-only, and CCC can also capture these patterns, concordant gene pairs likely represent clear linear patterns. CCC and Spearman agree more on highly or poorly correlated pairs (4.0% in \"high\", and 7.0% in \"low\") than with Pearson (0.3%-3.5% for \"high\", and 2.8%-5.5% for \"low\"). In summary, CCC agrees with either Pearson or Spearman in 90.5% of gene pairs by assigning high or low correlation values.\n"
     ]
    }
   ],
   "source": [
    "par1 = process_paragraph(mod_section_paragraphs[4])\n",
    "print(par1)"
   ]
  },
  {
   "cell_type": "code",
   "execution_count": 87,
   "id": "3281e4f2-3ed6-4b8a-9ae0-270f541c19b4",
   "metadata": {
    "execution": {
     "iopub.execute_input": "2024-03-23T05:12:23.254427Z",
     "iopub.status.busy": "2024-03-23T05:12:23.254104Z",
     "iopub.status.idle": "2024-03-23T05:12:23.256696Z",
     "shell.execute_reply": "2024-03-23T05:12:23.256225Z"
    },
    "papermill": {
     "duration": 0.03056,
     "end_time": "2024-03-23T05:12:23.257458",
     "exception": false,
     "start_time": "2024-03-23T05:12:23.226898",
     "status": "completed"
    },
    "tags": []
   },
   "outputs": [],
   "source": [
    "paragraph_matches.append(\n",
    "    (\n",
    "        section_name,\n",
    "        par0,\n",
    "        par1,\n",
    "    )\n",
    ")"
   ]
  },
  {
   "cell_type": "code",
   "execution_count": 88,
   "id": "988ddfba-2927-4f61-a05a-f7f8a4873e63",
   "metadata": {
    "execution": {
     "iopub.execute_input": "2024-03-23T05:12:23.311744Z",
     "iopub.status.busy": "2024-03-23T05:12:23.311318Z",
     "iopub.status.idle": "2024-03-23T05:12:23.314800Z",
     "shell.execute_reply": "2024-03-23T05:12:23.314333Z"
    },
    "papermill": {
     "duration": 0.031376,
     "end_time": "2024-03-23T05:12:23.315536",
     "exception": false,
     "start_time": "2024-03-23T05:12:23.284160",
     "status": "completed"
    },
    "tags": []
   },
   "outputs": [
    {
     "data": {
      "text/plain": [
       "('results',\n",
       " 'A closer inspection of gene pairs that were either prioritized or disregarded by these coefficients revealed that they captured different patterns. We analyzed the agreements and disagreements by obtaining, for each coefficient, the top 30% of gene pairs with the largest correlation values (\"high\" set) and the bottom 30% (\"low\" set), resulting in six potentially overlapping categories. For most cases (76.4%), an UpSet analysis [@doi:10.1109/TVCG.2014.2346248] (Figure @fig:upsetplot_coefs a) showed that the three coefficients agreed on whether there is a strong correlation (42.1%) or there is no relationship (34.3%). Since Pearson and Spearman are linear-only, and CCC can also capture these patterns, we expect that these concordant gene pairs represent clear linear patterns. CCC and Spearman agree more on either highly or poorly correlated pairs (4.0% in \"high\", and 7.0% in \"low\") than any of these with Pearson (all between 0.3%-3.5% for \"high\", and 2.8%-5.5% for \"low\"). In summary, CCC agrees with either Pearson or Spearman in 90.5% of gene pairs by assigning a high or a low correlation value.',\n",
       " 'An examination of gene pairs prioritized or disregarded by the correlation coefficients showed that they captured different patterns. We compared the top 30% and bottom 30% of gene pairs based on correlation values for each coefficient, resulting in six overlapping categories. Most cases (76.4%) agreed on strong correlation (42.1%) or no relationship (34.3%), as shown in an UpSet analysis (Figure 1a). Since Pearson and Spearman are linear-only, and CCC can also capture these patterns, concordant gene pairs likely represent clear linear patterns. CCC and Spearman agree more on highly or poorly correlated pairs (4.0% in \"high\", and 7.0% in \"low\") than with Pearson (0.3%-3.5% for \"high\", and 2.8%-5.5% for \"low\"). In summary, CCC agrees with either Pearson or Spearman in 90.5% of gene pairs by assigning high or low correlation values.')"
      ]
     },
     "metadata": {},
     "output_type": "display_data"
    }
   ],
   "source": [
    "display(paragraph_matches[-1])"
   ]
  },
  {
   "cell_type": "markdown",
   "id": "c005d8a8-07f2-4da6-85a3-f353f6611e0f",
   "metadata": {
    "editable": true,
    "papermill": {
     "duration": 0.053593,
     "end_time": "2024-03-23T05:12:23.396323",
     "exception": false,
     "start_time": "2024-03-23T05:12:23.342730",
     "status": "completed"
    },
    "slideshow": {
     "slide_type": ""
    },
    "tags": []
   },
   "source": [
    "####  Paragraph 02"
   ]
  },
  {
   "cell_type": "code",
   "execution_count": 89,
   "id": "f5d058fd-5c23-4f76-87b4-9481db54c42f",
   "metadata": {
    "execution": {
     "iopub.execute_input": "2024-03-23T05:12:23.451787Z",
     "iopub.status.busy": "2024-03-23T05:12:23.451277Z",
     "iopub.status.idle": "2024-03-23T05:12:23.454429Z",
     "shell.execute_reply": "2024-03-23T05:12:23.453977Z"
    },
    "papermill": {
     "duration": 0.031653,
     "end_time": "2024-03-23T05:12:23.455145",
     "exception": false,
     "start_time": "2024-03-23T05:12:23.423492",
     "status": "completed"
    },
    "tags": []
   },
   "outputs": [
    {
     "name": "stdout",
     "output_type": "stream",
     "text": [
      "While there was broad agreement, more than 20,000 gene pairs with a high CCC value were not highly ranked by the other coefficients (right part of Figure @fig:upsetplot_coefs a). There were also gene pairs with a high Pearson value and either low CCC (1,075), low Spearman (87) or both low CCC and low Spearman values (531). However, our examination suggests that many of these cases appear to be driven by potential outliers (Figure @fig:upsetplot_coefs b, and analyzed later). We analyzed gene pairs among the top five of each intersection in the \"Disagreements\" group (Figure @fig:upsetplot_coefs a, right) where CCC disagrees with Pearson, Spearman or both.\n"
     ]
    }
   ],
   "source": [
    "par0 = process_paragraph(orig_section_paragraphs[6])\n",
    "print(par0)"
   ]
  },
  {
   "cell_type": "code",
   "execution_count": 90,
   "id": "238dbd6c-e3ba-4b76-9fb2-8b35d0b11948",
   "metadata": {
    "execution": {
     "iopub.execute_input": "2024-03-23T05:12:23.509439Z",
     "iopub.status.busy": "2024-03-23T05:12:23.509110Z",
     "iopub.status.idle": "2024-03-23T05:12:23.512029Z",
     "shell.execute_reply": "2024-03-23T05:12:23.511589Z"
    },
    "papermill": {
     "duration": 0.030902,
     "end_time": "2024-03-23T05:12:23.512752",
     "exception": false,
     "start_time": "2024-03-23T05:12:23.481850",
     "status": "completed"
    },
    "tags": []
   },
   "outputs": [
    {
     "name": "stdout",
     "output_type": "stream",
     "text": [
      "While the majority of gene pairs showed agreement, over 20,000 gene pairs with high CCC values were not ranked highly by other coefficients (Figure 1a). Some gene pairs had high Pearson values but low CCC (1,075), low Spearman (87), or low values for both CCC and Spearman (531). Our analysis indicates that many of these discrepancies may be due to potential outliers (Figure 1b). We focused on gene pairs in the top five of each intersection within the \"Disagreements\" group (Figure 1a, right) where CCC disagreed with Pearson, Spearman, or both.\n"
     ]
    }
   ],
   "source": [
    "par1 = process_paragraph(mod_section_paragraphs[6])\n",
    "print(par1)"
   ]
  },
  {
   "cell_type": "code",
   "execution_count": 91,
   "id": "bf64c910-efb0-4d2a-a25a-a4deaac8a4a8",
   "metadata": {
    "execution": {
     "iopub.execute_input": "2024-03-23T05:12:23.567533Z",
     "iopub.status.busy": "2024-03-23T05:12:23.567193Z",
     "iopub.status.idle": "2024-03-23T05:12:23.569794Z",
     "shell.execute_reply": "2024-03-23T05:12:23.569355Z"
    },
    "papermill": {
     "duration": 0.030522,
     "end_time": "2024-03-23T05:12:23.570480",
     "exception": false,
     "start_time": "2024-03-23T05:12:23.539958",
     "status": "completed"
    },
    "tags": []
   },
   "outputs": [],
   "source": [
    "paragraph_matches.append(\n",
    "    (\n",
    "        section_name,\n",
    "        par0,\n",
    "        par1,\n",
    "    )\n",
    ")"
   ]
  },
  {
   "cell_type": "code",
   "execution_count": 92,
   "id": "421e86ee-32b1-416d-b9f2-49377017fdb0",
   "metadata": {
    "execution": {
     "iopub.execute_input": "2024-03-23T05:12:23.625072Z",
     "iopub.status.busy": "2024-03-23T05:12:23.624742Z",
     "iopub.status.idle": "2024-03-23T05:12:23.628244Z",
     "shell.execute_reply": "2024-03-23T05:12:23.627771Z"
    },
    "papermill": {
     "duration": 0.031548,
     "end_time": "2024-03-23T05:12:23.628944",
     "exception": false,
     "start_time": "2024-03-23T05:12:23.597396",
     "status": "completed"
    },
    "tags": []
   },
   "outputs": [
    {
     "data": {
      "text/plain": [
       "('results',\n",
       " 'While there was broad agreement, more than 20,000 gene pairs with a high CCC value were not highly ranked by the other coefficients (right part of Figure @fig:upsetplot_coefs a). There were also gene pairs with a high Pearson value and either low CCC (1,075), low Spearman (87) or both low CCC and low Spearman values (531). However, our examination suggests that many of these cases appear to be driven by potential outliers (Figure @fig:upsetplot_coefs b, and analyzed later). We analyzed gene pairs among the top five of each intersection in the \"Disagreements\" group (Figure @fig:upsetplot_coefs a, right) where CCC disagrees with Pearson, Spearman or both.',\n",
       " 'While the majority of gene pairs showed agreement, over 20,000 gene pairs with high CCC values were not ranked highly by other coefficients (Figure 1a). Some gene pairs had high Pearson values but low CCC (1,075), low Spearman (87), or low values for both CCC and Spearman (531). Our analysis indicates that many of these discrepancies may be due to potential outliers (Figure 1b). We focused on gene pairs in the top five of each intersection within the \"Disagreements\" group (Figure 1a, right) where CCC disagreed with Pearson, Spearman, or both.')"
      ]
     },
     "metadata": {},
     "output_type": "display_data"
    }
   ],
   "source": [
    "display(paragraph_matches[-1])"
   ]
  },
  {
   "cell_type": "markdown",
   "id": "533c2d07-f9b8-471f-b30b-f861c20dcc90",
   "metadata": {
    "editable": true,
    "papermill": {
     "duration": 0.026879,
     "end_time": "2024-03-23T05:12:23.682699",
     "exception": false,
     "start_time": "2024-03-23T05:12:23.655820",
     "status": "completed"
    },
    "slideshow": {
     "slide_type": ""
    },
    "tags": []
   },
   "source": [
    "####  Paragraph 03"
   ]
  },
  {
   "cell_type": "code",
   "execution_count": 93,
   "id": "a38a2c0c-8451-4e3a-80ca-6794e6f5783e",
   "metadata": {
    "execution": {
     "iopub.execute_input": "2024-03-23T05:12:23.737173Z",
     "iopub.status.busy": "2024-03-23T05:12:23.736837Z",
     "iopub.status.idle": "2024-03-23T05:12:23.739767Z",
     "shell.execute_reply": "2024-03-23T05:12:23.739327Z"
    },
    "papermill": {
     "duration": 0.031004,
     "end_time": "2024-03-23T05:12:23.740466",
     "exception": false,
     "start_time": "2024-03-23T05:12:23.709462",
     "status": "completed"
    },
    "tags": []
   },
   "outputs": [
    {
     "name": "stdout",
     "output_type": "stream",
     "text": [
      "The first three gene pairs at the top (*IFNG* - *SDS*, *JUN* - *APOC1*, and *ZDHHC12* - *CCL18*), with high CCC and low Pearson values, appear to follow a non-coexistence relationship: in samples where one of the genes is highly (slightly) expressed, the other is slightly (highly) activated, suggesting a potentially inhibiting effect. The following three gene pairs (*UTY* - *KDM6A*, *RASSF2* - *CYTIP*, and *AC068580.6* - *KLHL21*) follow patterns combining either two linear or one linear and one independent relationships. In particular, genes *UTY* and *KDM6A* (paralogs) show a nonlinear relationship where a subset of samples follows a robust linear pattern and another subset has a constant (independent) expression of one gene. This relationship is explained by the fact that *UTY* is in chromosome Y (Yq11) whereas *KDM6A* is in chromosome X (Xp11), and samples with a linear pattern are males, whereas those with no expression for *UTY* are females. This combination of linear and independent patterns is captured by CCC ($c=0.29$, above the 80th percentile) but not by Pearson ($p=0.24$, below the 55th percentile) or Spearman ($s=0.10$, below the 15th percentile). Furthermore, the same gene pair pattern is highly ranked by CCC in all other tissues in GTEx, except for female-specific organs (Figure @fig:gtex_tissues:kdm6a_uty).\n"
     ]
    }
   ],
   "source": [
    "par0 = process_paragraph(orig_section_paragraphs[8])\n",
    "print(par0)"
   ]
  },
  {
   "cell_type": "code",
   "execution_count": 94,
   "id": "0e8708e1-e008-4d11-a354-3a064e66caf7",
   "metadata": {
    "execution": {
     "iopub.execute_input": "2024-03-23T05:12:23.795198Z",
     "iopub.status.busy": "2024-03-23T05:12:23.794870Z",
     "iopub.status.idle": "2024-03-23T05:12:23.797717Z",
     "shell.execute_reply": "2024-03-23T05:12:23.797278Z"
    },
    "papermill": {
     "duration": 0.030997,
     "end_time": "2024-03-23T05:12:23.798439",
     "exception": false,
     "start_time": "2024-03-23T05:12:23.767442",
     "status": "completed"
    },
    "tags": []
   },
   "outputs": [
    {
     "name": "stdout",
     "output_type": "stream",
     "text": [
      "The top three gene pairs (*IFNG* - *SDS*, *JUN* - *APOC1*, and *ZDHHC12* - *CCL18*) exhibit high CCC and low Pearson values, suggesting a non-coexistence relationship where one gene is highly expressed while the other is activated to a lesser extent, indicating a potential inhibiting effect. The subsequent three gene pairs (*UTY* - *KDM6A*, *RASSF2* - *CYTIP*, and *AC068580.6* - *KLHL21*) display combinations of linear or independent relationships. For instance, *UTY* and *KDM6A* (paralogs) show a nonlinear relationship where some samples exhibit a robust linear pattern while others have constant expression levels for one gene. This discrepancy is due to the location of *UTY* on chromosome Y and *KDM6A* on chromosome X, resulting in males showing a linear pattern and females lacking expression of *UTY*. This combination of linear and independent patterns is captured by CCC ($c=0.29$) but not by Pearson ($p=0.24$) or Spearman ($s=0.10$). Additionally, this gene pair pattern is consistently ranked highly by CCC across all tissues in GTEx, except for female-specific organs (Figure @fig:gtex_tissues:kdm6a_uty).\n"
     ]
    }
   ],
   "source": [
    "par1 = process_paragraph(mod_section_paragraphs[8])\n",
    "print(par1)"
   ]
  },
  {
   "cell_type": "code",
   "execution_count": 95,
   "id": "34566b03-dc00-4862-af05-988462032cc6",
   "metadata": {
    "execution": {
     "iopub.execute_input": "2024-03-23T05:12:23.853297Z",
     "iopub.status.busy": "2024-03-23T05:12:23.852976Z",
     "iopub.status.idle": "2024-03-23T05:12:23.855527Z",
     "shell.execute_reply": "2024-03-23T05:12:23.855101Z"
    },
    "papermill": {
     "duration": 0.03038,
     "end_time": "2024-03-23T05:12:23.856164",
     "exception": false,
     "start_time": "2024-03-23T05:12:23.825784",
     "status": "completed"
    },
    "tags": []
   },
   "outputs": [],
   "source": [
    "paragraph_matches.append(\n",
    "    (\n",
    "        section_name,\n",
    "        par0,\n",
    "        par1,\n",
    "    )\n",
    ")"
   ]
  },
  {
   "cell_type": "code",
   "execution_count": 96,
   "id": "5ffea461-d92d-4584-b715-562000bbce4d",
   "metadata": {
    "execution": {
     "iopub.execute_input": "2024-03-23T05:12:23.911025Z",
     "iopub.status.busy": "2024-03-23T05:12:23.910700Z",
     "iopub.status.idle": "2024-03-23T05:12:23.914107Z",
     "shell.execute_reply": "2024-03-23T05:12:23.913651Z"
    },
    "papermill": {
     "duration": 0.031852,
     "end_time": "2024-03-23T05:12:23.914860",
     "exception": false,
     "start_time": "2024-03-23T05:12:23.883008",
     "status": "completed"
    },
    "tags": []
   },
   "outputs": [
    {
     "data": {
      "text/plain": [
       "('results',\n",
       " 'The first three gene pairs at the top (*IFNG* - *SDS*, *JUN* - *APOC1*, and *ZDHHC12* - *CCL18*), with high CCC and low Pearson values, appear to follow a non-coexistence relationship: in samples where one of the genes is highly (slightly) expressed, the other is slightly (highly) activated, suggesting a potentially inhibiting effect. The following three gene pairs (*UTY* - *KDM6A*, *RASSF2* - *CYTIP*, and *AC068580.6* - *KLHL21*) follow patterns combining either two linear or one linear and one independent relationships. In particular, genes *UTY* and *KDM6A* (paralogs) show a nonlinear relationship where a subset of samples follows a robust linear pattern and another subset has a constant (independent) expression of one gene. This relationship is explained by the fact that *UTY* is in chromosome Y (Yq11) whereas *KDM6A* is in chromosome X (Xp11), and samples with a linear pattern are males, whereas those with no expression for *UTY* are females. This combination of linear and independent patterns is captured by CCC ($c=0.29$, above the 80th percentile) but not by Pearson ($p=0.24$, below the 55th percentile) or Spearman ($s=0.10$, below the 15th percentile). Furthermore, the same gene pair pattern is highly ranked by CCC in all other tissues in GTEx, except for female-specific organs (Figure @fig:gtex_tissues:kdm6a_uty).',\n",
       " 'The top three gene pairs (*IFNG* - *SDS*, *JUN* - *APOC1*, and *ZDHHC12* - *CCL18*) exhibit high CCC and low Pearson values, suggesting a non-coexistence relationship where one gene is highly expressed while the other is activated to a lesser extent, indicating a potential inhibiting effect. The subsequent three gene pairs (*UTY* - *KDM6A*, *RASSF2* - *CYTIP*, and *AC068580.6* - *KLHL21*) display combinations of linear or independent relationships. For instance, *UTY* and *KDM6A* (paralogs) show a nonlinear relationship where some samples exhibit a robust linear pattern while others have constant expression levels for one gene. This discrepancy is due to the location of *UTY* on chromosome Y and *KDM6A* on chromosome X, resulting in males showing a linear pattern and females lacking expression of *UTY*. This combination of linear and independent patterns is captured by CCC ($c=0.29$) but not by Pearson ($p=0.24$) or Spearman ($s=0.10$). Additionally, this gene pair pattern is consistently ranked highly by CCC across all tissues in GTEx, except for female-specific organs (Figure @fig:gtex_tissues:kdm6a_uty).')"
      ]
     },
     "metadata": {},
     "output_type": "display_data"
    }
   ],
   "source": [
    "display(paragraph_matches[-1])"
   ]
  },
  {
   "cell_type": "markdown",
   "id": "eba0e796-aef8-42c8-84ef-d8f8fe63c8a9",
   "metadata": {
    "editable": true,
    "papermill": {
     "duration": 0.026923,
     "end_time": "2024-03-23T05:12:23.969071",
     "exception": false,
     "start_time": "2024-03-23T05:12:23.942148",
     "status": "completed"
    },
    "slideshow": {
     "slide_type": ""
    },
    "tags": []
   },
   "source": [
    "## Results (giant)"
   ]
  },
  {
   "cell_type": "code",
   "execution_count": 97,
   "id": "dbfbe76a-064d-49a7-bcdf-c5846399f62b",
   "metadata": {
    "execution": {
     "iopub.execute_input": "2024-03-23T05:12:24.024172Z",
     "iopub.status.busy": "2024-03-23T05:12:24.023834Z",
     "iopub.status.idle": "2024-03-23T05:12:24.026199Z",
     "shell.execute_reply": "2024-03-23T05:12:24.025740Z"
    },
    "papermill": {
     "duration": 0.03085,
     "end_time": "2024-03-23T05:12:24.026927",
     "exception": false,
     "start_time": "2024-03-23T05:12:23.996077",
     "status": "completed"
    },
    "tags": []
   },
   "outputs": [],
   "source": [
    "# section_name = \"results\""
   ]
  },
  {
   "cell_type": "code",
   "execution_count": 98,
   "id": "9e65002d-431b-496f-aeea-61587535b9f9",
   "metadata": {
    "editable": true,
    "execution": {
     "iopub.execute_input": "2024-03-23T05:12:24.082427Z",
     "iopub.status.busy": "2024-03-23T05:12:24.082005Z",
     "iopub.status.idle": "2024-03-23T05:12:24.085114Z",
     "shell.execute_reply": "2024-03-23T05:12:24.084670Z"
    },
    "papermill": {
     "duration": 0.031745,
     "end_time": "2024-03-23T05:12:24.085830",
     "exception": false,
     "start_time": "2024-03-23T05:12:24.054085",
     "status": "completed"
    },
    "slideshow": {
     "slide_type": ""
    },
    "tags": []
   },
   "outputs": [
    {
     "name": "stdout",
     "output_type": "stream",
     "text": [
      "content/04.12.results_giant.md\n"
     ]
    }
   ],
   "source": [
    "pr_filename = pr_files[4].filename\n",
    "assert section_name in pr_filename\n",
    "assert \"giant\" in pr_filename\n",
    "print(pr_filename)"
   ]
  },
  {
   "cell_type": "markdown",
   "id": "daf3f77b-b349-4d36-a749-3e05051c8ee5",
   "metadata": {
    "editable": true,
    "papermill": {
     "duration": 0.027432,
     "end_time": "2024-03-23T05:12:24.140491",
     "exception": false,
     "start_time": "2024-03-23T05:12:24.113059",
     "status": "completed"
    },
    "slideshow": {
     "slide_type": ""
    },
    "tags": []
   },
   "source": [
    "### Original"
   ]
  },
  {
   "cell_type": "code",
   "execution_count": 99,
   "id": "657019af-7454-4d9b-9d69-038c43eef825",
   "metadata": {
    "execution": {
     "iopub.execute_input": "2024-03-23T05:12:24.195781Z",
     "iopub.status.busy": "2024-03-23T05:12:24.195392Z",
     "iopub.status.idle": "2024-03-23T05:12:24.343817Z",
     "shell.execute_reply": "2024-03-23T05:12:24.343202Z"
    },
    "papermill": {
     "duration": 0.177141,
     "end_time": "2024-03-23T05:12:24.344588",
     "exception": false,
     "start_time": "2024-03-23T05:12:24.167447",
     "status": "completed"
    },
    "tags": []
   },
   "outputs": [
    {
     "name": "stdout",
     "output_type": "stream",
     "text": [
      "### Replication of gene associations using tissue-\n"
     ]
    }
   ],
   "source": [
    "# get content\n",
    "orig_section_content = repo.get_contents(pr_filename, pr_prev).decoded_content.decode(\n",
    "    \"utf-8\"\n",
    ")\n",
    "print(orig_section_content[:50])"
   ]
  },
  {
   "cell_type": "code",
   "execution_count": 100,
   "id": "68f6ad9a-b340-4726-be8f-50f2ced6eb1c",
   "metadata": {
    "execution": {
     "iopub.execute_input": "2024-03-23T05:12:24.400042Z",
     "iopub.status.busy": "2024-03-23T05:12:24.399689Z",
     "iopub.status.idle": "2024-03-23T05:12:24.403255Z",
     "shell.execute_reply": "2024-03-23T05:12:24.402825Z"
    },
    "papermill": {
     "duration": 0.032262,
     "end_time": "2024-03-23T05:12:24.403964",
     "exception": false,
     "start_time": "2024-03-23T05:12:24.371702",
     "status": "completed"
    },
    "tags": []
   },
   "outputs": [
    {
     "data": {
      "text/plain": [
       "4"
      ]
     },
     "metadata": {},
     "output_type": "display_data"
    }
   ],
   "source": [
    "# split by paragraph\n",
    "orig_section_paragraphs = orig_section_content.split(\"\\n\\n\")\n",
    "display(len(orig_section_paragraphs))"
   ]
  },
  {
   "cell_type": "markdown",
   "id": "3a515543-39cc-478a-a3f7-5689994b53ba",
   "metadata": {
    "editable": true,
    "papermill": {
     "duration": 0.026814,
     "end_time": "2024-03-23T05:12:24.458032",
     "exception": false,
     "start_time": "2024-03-23T05:12:24.431218",
     "status": "completed"
    },
    "slideshow": {
     "slide_type": ""
    },
    "tags": []
   },
   "source": [
    "### Modified"
   ]
  },
  {
   "cell_type": "code",
   "execution_count": 101,
   "id": "b2e77464-3a51-4d6b-a927-b00e4e99a0cc",
   "metadata": {
    "execution": {
     "iopub.execute_input": "2024-03-23T05:12:24.513250Z",
     "iopub.status.busy": "2024-03-23T05:12:24.512883Z",
     "iopub.status.idle": "2024-03-23T05:12:24.774606Z",
     "shell.execute_reply": "2024-03-23T05:12:24.774115Z"
    },
    "papermill": {
     "duration": 0.290273,
     "end_time": "2024-03-23T05:12:24.775329",
     "exception": false,
     "start_time": "2024-03-23T05:12:24.485056",
     "status": "completed"
    },
    "tags": []
   },
   "outputs": [
    {
     "name": "stdout",
     "output_type": "stream",
     "text": [
      "### Replication of gene associations using tissue-\n"
     ]
    }
   ],
   "source": [
    "# get content\n",
    "mod_section_content = repo.get_contents(pr_filename, pr_curr).decoded_content.decode(\n",
    "    \"utf-8\"\n",
    ")\n",
    "print(mod_section_content[:50])"
   ]
  },
  {
   "cell_type": "code",
   "execution_count": 102,
   "id": "289e00d4-cea8-4ab2-94fb-c1d875456542",
   "metadata": {
    "execution": {
     "iopub.execute_input": "2024-03-23T05:12:24.831162Z",
     "iopub.status.busy": "2024-03-23T05:12:24.830789Z",
     "iopub.status.idle": "2024-03-23T05:12:24.834371Z",
     "shell.execute_reply": "2024-03-23T05:12:24.833921Z"
    },
    "papermill": {
     "duration": 0.032218,
     "end_time": "2024-03-23T05:12:24.835012",
     "exception": false,
     "start_time": "2024-03-23T05:12:24.802794",
     "status": "completed"
    },
    "tags": []
   },
   "outputs": [
    {
     "data": {
      "text/plain": [
       "4"
      ]
     },
     "metadata": {},
     "output_type": "display_data"
    }
   ],
   "source": [
    "# split by paragraph\n",
    "mod_section_paragraphs = mod_section_content.split(\"\\n\\n\")\n",
    "display(len(mod_section_paragraphs))"
   ]
  },
  {
   "cell_type": "markdown",
   "id": "f957e846-058d-4543-80f9-8d616797abd3",
   "metadata": {
    "editable": true,
    "papermill": {
     "duration": 0.027292,
     "end_time": "2024-03-23T05:12:24.889400",
     "exception": false,
     "start_time": "2024-03-23T05:12:24.862108",
     "status": "completed"
    },
    "slideshow": {
     "slide_type": ""
    },
    "tags": []
   },
   "source": [
    "### Match"
   ]
  },
  {
   "cell_type": "code",
   "execution_count": 103,
   "id": "ca841c54-838d-464b-a1f7-ac807d045f5e",
   "metadata": {
    "execution": {
     "iopub.execute_input": "2024-03-23T05:12:24.944582Z",
     "iopub.status.busy": "2024-03-23T05:12:24.944237Z",
     "iopub.status.idle": "2024-03-23T05:12:24.947580Z",
     "shell.execute_reply": "2024-03-23T05:12:24.947157Z"
    },
    "papermill": {
     "duration": 0.03167,
     "end_time": "2024-03-23T05:12:24.948283",
     "exception": false,
     "start_time": "2024-03-23T05:12:24.916613",
     "status": "completed"
    },
    "tags": []
   },
   "outputs": [
    {
     "data": {
      "text/plain": [
       "'### Replication of gene associations using tissue-specific gene networks from GIANT'"
      ]
     },
     "execution_count": 103,
     "metadata": {},
     "output_type": "execute_result"
    }
   ],
   "source": [
    "orig_section_paragraphs[0]"
   ]
  },
  {
   "cell_type": "code",
   "execution_count": 104,
   "id": "e23865d7-5201-4fc5-9920-f633947c0ee0",
   "metadata": {
    "execution": {
     "iopub.execute_input": "2024-03-23T05:12:25.003682Z",
     "iopub.status.busy": "2024-03-23T05:12:25.003341Z",
     "iopub.status.idle": "2024-03-23T05:12:25.006728Z",
     "shell.execute_reply": "2024-03-23T05:12:25.006275Z"
    },
    "papermill": {
     "duration": 0.031814,
     "end_time": "2024-03-23T05:12:25.007386",
     "exception": false,
     "start_time": "2024-03-23T05:12:24.975572",
     "status": "completed"
    },
    "tags": []
   },
   "outputs": [
    {
     "data": {
      "text/plain": [
       "'### Replication of gene associations using tissue-specific gene networks from GIANT'"
      ]
     },
     "execution_count": 104,
     "metadata": {},
     "output_type": "execute_result"
    }
   ],
   "source": [
    "mod_section_paragraphs[0]"
   ]
  },
  {
   "cell_type": "markdown",
   "id": "45368970-29a6-4c74-9529-8d5a07810610",
   "metadata": {
    "editable": true,
    "papermill": {
     "duration": 0.053708,
     "end_time": "2024-03-23T05:12:25.088620",
     "exception": false,
     "start_time": "2024-03-23T05:12:25.034912",
     "status": "completed"
    },
    "slideshow": {
     "slide_type": ""
    },
    "tags": []
   },
   "source": [
    "####  Paragraph 00"
   ]
  },
  {
   "cell_type": "code",
   "execution_count": 105,
   "id": "85b7c900-cf86-4c29-b878-29839b0d10b1",
   "metadata": {
    "execution": {
     "iopub.execute_input": "2024-03-23T05:12:25.144943Z",
     "iopub.status.busy": "2024-03-23T05:12:25.144501Z",
     "iopub.status.idle": "2024-03-23T05:12:25.148096Z",
     "shell.execute_reply": "2024-03-23T05:12:25.147562Z"
    },
    "papermill": {
     "duration": 0.032665,
     "end_time": "2024-03-23T05:12:25.148829",
     "exception": false,
     "start_time": "2024-03-23T05:12:25.116164",
     "status": "completed"
    },
    "tags": []
   },
   "outputs": [
    {
     "name": "stdout",
     "output_type": "stream",
     "text": [
      "We sought to systematically analyze discrepant scores to assess whether associations were replicated in other datasets besides GTEx. This is challenging and prone to bias because linear-only correlation coefficients are usually used in gene co-expression analyses. We used 144 tissue-specific gene networks from the Genome-wide Analysis of gene Networks in Tissues (GIANT) [@pmcid:PMC4828725; @url:https://hb.flatironinstitute.org], where nodes represent genes and each edge a functional relationship weighted with a probability of interaction between two genes (see [Methods](#sec:giant)). Importantly, the version of GIANT used in this study did not include GTEx samples [@url:https://hb.flatironinstitute.org/data], making it an ideal case for replication. These networks were built from expression and different interaction measurements, including protein-interaction, transcription factor regulation, chemical/genetic perturbations and microRNA target profiles from the Molecular Signatures Database (MSigDB [@pmid:16199517]). We reasoned that highly-ranked gene pairs using three different coefficients in a single tissue (whole blood in GTEx, Figure @fig:upsetplot_coefs) that represented real patterns should often replicate in a corresponding tissue or related cell lineage using the multi-cell type functional interaction networks in GIANT. In addition to predicting a network with interactions for a pair of genes, the GIANT web application can also automatically detect a relevant tissue or cell type where genes are predicted to be specifically expressed (the approach uses a machine learning method introduced in [@doi:10.1101/gr.155697.113] and described in [Methods](#sec:giant)). For example, we obtained the networks in blood and the automatically-predicted cell type for gene pairs *RASSF2* - *CYTIP* (CCC high, Figure @fig:giant_gene_pairs a) and *MYOZ1* - *TNNI2* (Pearson high, Figure @fig:giant_gene_pairs b). In addition to the gene pair, the networks include other genes connected according to their probability of interaction (up to 15 additional genes are shown), which allows estimating whether genes are part of the same tissue-specific biological process. Two large black nodes in each network's top-left and bottom-right corners represent our gene pairs. A green edge means a close-to-zero probability of interaction, whereas a red edge represents a strong predicted relationship between the two genes. In this example, genes *RASSF2* and *CYTIP* (Figure @fig:giant_gene_pairs a), with a high CCC value ($c=0.20$, above the 73th percentile) and low Pearson and Spearman ($p=0.16$ and $s=0.11$, below the 38th and 17th percentiles, respectively), were both strongly connected to the blood network, with interaction scores of at least 0.63 and an average of 0.75 and 0.84, respectively (Supplementary Table @tbl:giant:weights). The autodetected cell type for this pair was leukocytes, and interaction scores were similar to the blood network (Supplementary Table @tbl:giant:weights). However, genes *MYOZ1* and *TNNI2*, with a very high Pearson value ($p=0.97$), moderate Spearman ($s=0.28$) and very low CCC ($c=0.03$), were predicted to belong to much less cohesive networks (Figure @fig:giant_gene_pairs b), with average interaction scores of 0.17 and 0.22 with the rest of the genes, respectively. Additionally, the autodetected cell type (skeletal muscle) is not related to blood or one of its cell lineages. These preliminary results suggested that CCC might be capturing blood-specific patterns missed by the other coefficients.\n"
     ]
    }
   ],
   "source": [
    "par0 = process_paragraph(orig_section_paragraphs[1])\n",
    "print(par0)"
   ]
  },
  {
   "cell_type": "code",
   "execution_count": 106,
   "id": "41d93faf-b3e3-4177-a497-f69132f687df",
   "metadata": {
    "execution": {
     "iopub.execute_input": "2024-03-23T05:12:25.205111Z",
     "iopub.status.busy": "2024-03-23T05:12:25.204730Z",
     "iopub.status.idle": "2024-03-23T05:12:25.207825Z",
     "shell.execute_reply": "2024-03-23T05:12:25.207371Z"
    },
    "papermill": {
     "duration": 0.032019,
     "end_time": "2024-03-23T05:12:25.208480",
     "exception": false,
     "start_time": "2024-03-23T05:12:25.176461",
     "status": "completed"
    },
    "tags": []
   },
   "outputs": [
    {
     "name": "stdout",
     "output_type": "stream",
     "text": [
      "We analyzed discrepant scores to determine if associations were consistent across datasets beyond GTEx. Using 144 tissue-specific gene networks from GIANT, where nodes represent genes and edges represent functional relationships weighted with probabilities of interaction, we examined gene pairs in whole blood (Figure 1). These networks were constructed from various interaction measurements, including protein-interaction, transcription factor regulation, chemical/genetic perturbations, and microRNA target profiles from MSigDB. Highly-ranked gene pairs in blood that showed real patterns were expected to replicate in related tissues or cell lineages using GIANT's multi-cell type functional interaction networks. For example, gene pairs *RASSF2* - *CYTIP* with a high CCC value and gene pairs *MYOZ1* - *TNNI2* with high Pearson values were analyzed. The networks revealed strong connections for *RASSF2* - *CYTIP* in blood and leukocytes, while *MYOZ1* - *TNNI2* showed weaker connections in skeletal muscle. These findings suggest that CCC may capture tissue-specific patterns not detected by other coefficients.\n"
     ]
    }
   ],
   "source": [
    "par1 = process_paragraph(mod_section_paragraphs[1])\n",
    "print(par1)"
   ]
  },
  {
   "cell_type": "code",
   "execution_count": 107,
   "id": "c0dc3950-524a-4427-9e29-b214c3b9cc12",
   "metadata": {
    "execution": {
     "iopub.execute_input": "2024-03-23T05:12:25.264460Z",
     "iopub.status.busy": "2024-03-23T05:12:25.264120Z",
     "iopub.status.idle": "2024-03-23T05:12:25.266710Z",
     "shell.execute_reply": "2024-03-23T05:12:25.266272Z"
    },
    "papermill": {
     "duration": 0.03127,
     "end_time": "2024-03-23T05:12:25.267344",
     "exception": false,
     "start_time": "2024-03-23T05:12:25.236074",
     "status": "completed"
    },
    "tags": []
   },
   "outputs": [],
   "source": [
    "paragraph_matches.append(\n",
    "    (\n",
    "        section_name,\n",
    "        par0,\n",
    "        par1,\n",
    "    )\n",
    ")"
   ]
  },
  {
   "cell_type": "code",
   "execution_count": 108,
   "id": "c055cb90-27c8-4361-9204-799d2b2b9bdc",
   "metadata": {
    "execution": {
     "iopub.execute_input": "2024-03-23T05:12:25.323399Z",
     "iopub.status.busy": "2024-03-23T05:12:25.322972Z",
     "iopub.status.idle": "2024-03-23T05:12:25.326481Z",
     "shell.execute_reply": "2024-03-23T05:12:25.326053Z"
    },
    "papermill": {
     "duration": 0.032071,
     "end_time": "2024-03-23T05:12:25.327179",
     "exception": false,
     "start_time": "2024-03-23T05:12:25.295108",
     "status": "completed"
    },
    "tags": []
   },
   "outputs": [
    {
     "data": {
      "text/plain": [
       "('results',\n",
       " \"We sought to systematically analyze discrepant scores to assess whether associations were replicated in other datasets besides GTEx. This is challenging and prone to bias because linear-only correlation coefficients are usually used in gene co-expression analyses. We used 144 tissue-specific gene networks from the Genome-wide Analysis of gene Networks in Tissues (GIANT) [@pmcid:PMC4828725; @url:https://hb.flatironinstitute.org], where nodes represent genes and each edge a functional relationship weighted with a probability of interaction between two genes (see [Methods](#sec:giant)). Importantly, the version of GIANT used in this study did not include GTEx samples [@url:https://hb.flatironinstitute.org/data], making it an ideal case for replication. These networks were built from expression and different interaction measurements, including protein-interaction, transcription factor regulation, chemical/genetic perturbations and microRNA target profiles from the Molecular Signatures Database (MSigDB [@pmid:16199517]). We reasoned that highly-ranked gene pairs using three different coefficients in a single tissue (whole blood in GTEx, Figure @fig:upsetplot_coefs) that represented real patterns should often replicate in a corresponding tissue or related cell lineage using the multi-cell type functional interaction networks in GIANT. In addition to predicting a network with interactions for a pair of genes, the GIANT web application can also automatically detect a relevant tissue or cell type where genes are predicted to be specifically expressed (the approach uses a machine learning method introduced in [@doi:10.1101/gr.155697.113] and described in [Methods](#sec:giant)). For example, we obtained the networks in blood and the automatically-predicted cell type for gene pairs *RASSF2* - *CYTIP* (CCC high, Figure @fig:giant_gene_pairs a) and *MYOZ1* - *TNNI2* (Pearson high, Figure @fig:giant_gene_pairs b). In addition to the gene pair, the networks include other genes connected according to their probability of interaction (up to 15 additional genes are shown), which allows estimating whether genes are part of the same tissue-specific biological process. Two large black nodes in each network's top-left and bottom-right corners represent our gene pairs. A green edge means a close-to-zero probability of interaction, whereas a red edge represents a strong predicted relationship between the two genes. In this example, genes *RASSF2* and *CYTIP* (Figure @fig:giant_gene_pairs a), with a high CCC value ($c=0.20$, above the 73th percentile) and low Pearson and Spearman ($p=0.16$ and $s=0.11$, below the 38th and 17th percentiles, respectively), were both strongly connected to the blood network, with interaction scores of at least 0.63 and an average of 0.75 and 0.84, respectively (Supplementary Table @tbl:giant:weights). The autodetected cell type for this pair was leukocytes, and interaction scores were similar to the blood network (Supplementary Table @tbl:giant:weights). However, genes *MYOZ1* and *TNNI2*, with a very high Pearson value ($p=0.97$), moderate Spearman ($s=0.28$) and very low CCC ($c=0.03$), were predicted to belong to much less cohesive networks (Figure @fig:giant_gene_pairs b), with average interaction scores of 0.17 and 0.22 with the rest of the genes, respectively. Additionally, the autodetected cell type (skeletal muscle) is not related to blood or one of its cell lineages. These preliminary results suggested that CCC might be capturing blood-specific patterns missed by the other coefficients.\",\n",
       " \"We analyzed discrepant scores to determine if associations were consistent across datasets beyond GTEx. Using 144 tissue-specific gene networks from GIANT, where nodes represent genes and edges represent functional relationships weighted with probabilities of interaction, we examined gene pairs in whole blood (Figure 1). These networks were constructed from various interaction measurements, including protein-interaction, transcription factor regulation, chemical/genetic perturbations, and microRNA target profiles from MSigDB. Highly-ranked gene pairs in blood that showed real patterns were expected to replicate in related tissues or cell lineages using GIANT's multi-cell type functional interaction networks. For example, gene pairs *RASSF2* - *CYTIP* with a high CCC value and gene pairs *MYOZ1* - *TNNI2* with high Pearson values were analyzed. The networks revealed strong connections for *RASSF2* - *CYTIP* in blood and leukocytes, while *MYOZ1* - *TNNI2* showed weaker connections in skeletal muscle. These findings suggest that CCC may capture tissue-specific patterns not detected by other coefficients.\")"
      ]
     },
     "metadata": {},
     "output_type": "display_data"
    }
   ],
   "source": [
    "display(paragraph_matches[-1])"
   ]
  },
  {
   "cell_type": "markdown",
   "id": "1478308f-3102-4329-b9d3-80dda34c924c",
   "metadata": {
    "editable": true,
    "papermill": {
     "duration": 0.027583,
     "end_time": "2024-03-23T05:12:25.382221",
     "exception": false,
     "start_time": "2024-03-23T05:12:25.354638",
     "status": "completed"
    },
    "slideshow": {
     "slide_type": ""
    },
    "tags": []
   },
   "source": [
    "####  Paragraph 01"
   ]
  },
  {
   "cell_type": "code",
   "execution_count": 109,
   "id": "6a959c24-c888-4da9-b124-a4e168e39c3d",
   "metadata": {
    "execution": {
     "iopub.execute_input": "2024-03-23T05:12:25.437890Z",
     "iopub.status.busy": "2024-03-23T05:12:25.437533Z",
     "iopub.status.idle": "2024-03-23T05:12:25.440458Z",
     "shell.execute_reply": "2024-03-23T05:12:25.440026Z"
    },
    "papermill": {
     "duration": 0.031719,
     "end_time": "2024-03-23T05:12:25.441146",
     "exception": false,
     "start_time": "2024-03-23T05:12:25.409427",
     "status": "completed"
    },
    "tags": []
   },
   "outputs": [
    {
     "name": "stdout",
     "output_type": "stream",
     "text": [
      "We next performed a systematic evaluation using the top 100 discrepant gene pairs between CCC and the other two coefficients. For each gene pair prioritized in GTEx (whole blood), we autodetected a relevant cell type using GIANT to assess whether genes were predicted to be specifically expressed in a blood-relevant cell lineage. For this, we used the top five most commonly autodetected cell types for each coefficient and assessed connectivity in the resulting networks (see [Methods](#sec:giant)). The top 5 predicted cell types for gene pairs highly ranked by CCC and not by the rest were all blood-specific (Figure @fig:giant_gene_pairs c, top left), including macrophage, leukocyte, natural killer cell, blood and mononuclear phagocyte. The average probability of interaction between genes in these CCC-ranked networks was significantly higher than the other coefficients (Figure @fig:giant_gene_pairs c, top right), with all medians larger than 67% and first quartiles above 41% across predicted cell types. In contrast, most Pearson's gene pairs were predicted to be specific to tissues unrelated to blood (Figure @fig:giant_gene_pairs c, bottom left), with skeletal muscle being the most commonly predicted tissue. The interaction probabilities in these Pearson-ranked networks were also generally lower than in CCC, except for blood-specific gene pairs (Figure @fig:giant_gene_pairs c, bottom right). The associations exclusively detected by CCC in whole blood from GTEx were more strongly replicated in these independent networks that incorporated multiple data modalities. CCC-ranked gene pairs not only had high probabilities of belonging to the same biological process but were also predicted to be specifically expressed in blood cell lineages. Conversely, most Pearson-ranked gene pairs were not predicted to be blood-specific, and their interaction probabilities were relatively low. This lack of replication in GIANT suggests that top Pearson-ranked gene pairs in GTEx might be driven mainly by outliers, which is consistent with our earlier observations of outlier-driven associations (Figure @fig:upsetplot_coefs b).\n"
     ]
    }
   ],
   "source": [
    "par0 = process_paragraph(orig_section_paragraphs[3])\n",
    "print(par0)"
   ]
  },
  {
   "cell_type": "code",
   "execution_count": 110,
   "id": "4eba1457-3bfd-45b1-aeb6-70462014aff1",
   "metadata": {
    "execution": {
     "iopub.execute_input": "2024-03-23T05:12:25.497093Z",
     "iopub.status.busy": "2024-03-23T05:12:25.496761Z",
     "iopub.status.idle": "2024-03-23T05:12:25.499625Z",
     "shell.execute_reply": "2024-03-23T05:12:25.499187Z"
    },
    "papermill": {
     "duration": 0.031483,
     "end_time": "2024-03-23T05:12:25.500319",
     "exception": false,
     "start_time": "2024-03-23T05:12:25.468836",
     "status": "completed"
    },
    "tags": []
   },
   "outputs": [
    {
     "name": "stdout",
     "output_type": "stream",
     "text": [
      "We systematically evaluated the top 100 discrepant gene pairs between CCC and two other coefficients. Using GTEx data for whole blood, we identified relevant cell types for each gene pair through GIANT analysis. The top five predicted cell types for gene pairs highly ranked by CCC were all blood-specific, including macrophage, leukocyte, natural killer cell, blood, and mononuclear phagocyte (Figure 1c, top left). The average probability of interaction between genes in CCC-ranked networks was significantly higher compared to other coefficients, with medians above 67% and first quartiles above 41% across predicted cell types (Figure 1c, top right). In contrast, most Pearson's gene pairs were predicted to be specific to non-blood tissues, with skeletal muscle being the most common prediction (Figure 1c, bottom left). Interaction probabilities in Pearson-ranked networks were generally lower than CCC, except for blood-specific gene pairs (Figure 1c, bottom right). The associations exclusively detected by CCC in GTEx whole blood were strongly replicated in independent networks incorporating multiple data modalities. CCC-ranked gene pairs not only shared high probabilities of belonging to the same biological process but were also specific to blood cell lineages. Conversely, Pearson-ranked gene pairs were not blood-specific, with lower interaction probabilities. Lack of replication in GIANT suggests that top Pearson-ranked gene pairs in GTEx may be mainly driven by outliers, consistent with earlier observations of outlier-driven associations (Figure 2b).\n"
     ]
    }
   ],
   "source": [
    "par1 = process_paragraph(mod_section_paragraphs[3])\n",
    "print(par1)"
   ]
  },
  {
   "cell_type": "code",
   "execution_count": 111,
   "id": "fedeb0fc-1967-4869-ab34-0ef2b16950c4",
   "metadata": {
    "execution": {
     "iopub.execute_input": "2024-03-23T05:12:25.556269Z",
     "iopub.status.busy": "2024-03-23T05:12:25.555928Z",
     "iopub.status.idle": "2024-03-23T05:12:25.558550Z",
     "shell.execute_reply": "2024-03-23T05:12:25.558098Z"
    },
    "papermill": {
     "duration": 0.031158,
     "end_time": "2024-03-23T05:12:25.559244",
     "exception": false,
     "start_time": "2024-03-23T05:12:25.528086",
     "status": "completed"
    },
    "tags": []
   },
   "outputs": [],
   "source": [
    "paragraph_matches.append(\n",
    "    (\n",
    "        section_name,\n",
    "        par0,\n",
    "        par1,\n",
    "    )\n",
    ")"
   ]
  },
  {
   "cell_type": "code",
   "execution_count": 112,
   "id": "7fee1e25-14ff-48c3-8390-ae5adc6c6bb1",
   "metadata": {
    "execution": {
     "iopub.execute_input": "2024-03-23T05:12:25.615291Z",
     "iopub.status.busy": "2024-03-23T05:12:25.614960Z",
     "iopub.status.idle": "2024-03-23T05:12:25.618369Z",
     "shell.execute_reply": "2024-03-23T05:12:25.617944Z"
    },
    "papermill": {
     "duration": 0.032225,
     "end_time": "2024-03-23T05:12:25.619074",
     "exception": false,
     "start_time": "2024-03-23T05:12:25.586849",
     "status": "completed"
    },
    "tags": []
   },
   "outputs": [
    {
     "data": {
      "text/plain": [
       "('results',\n",
       " \"We next performed a systematic evaluation using the top 100 discrepant gene pairs between CCC and the other two coefficients. For each gene pair prioritized in GTEx (whole blood), we autodetected a relevant cell type using GIANT to assess whether genes were predicted to be specifically expressed in a blood-relevant cell lineage. For this, we used the top five most commonly autodetected cell types for each coefficient and assessed connectivity in the resulting networks (see [Methods](#sec:giant)). The top 5 predicted cell types for gene pairs highly ranked by CCC and not by the rest were all blood-specific (Figure @fig:giant_gene_pairs c, top left), including macrophage, leukocyte, natural killer cell, blood and mononuclear phagocyte. The average probability of interaction between genes in these CCC-ranked networks was significantly higher than the other coefficients (Figure @fig:giant_gene_pairs c, top right), with all medians larger than 67% and first quartiles above 41% across predicted cell types. In contrast, most Pearson's gene pairs were predicted to be specific to tissues unrelated to blood (Figure @fig:giant_gene_pairs c, bottom left), with skeletal muscle being the most commonly predicted tissue. The interaction probabilities in these Pearson-ranked networks were also generally lower than in CCC, except for blood-specific gene pairs (Figure @fig:giant_gene_pairs c, bottom right). The associations exclusively detected by CCC in whole blood from GTEx were more strongly replicated in these independent networks that incorporated multiple data modalities. CCC-ranked gene pairs not only had high probabilities of belonging to the same biological process but were also predicted to be specifically expressed in blood cell lineages. Conversely, most Pearson-ranked gene pairs were not predicted to be blood-specific, and their interaction probabilities were relatively low. This lack of replication in GIANT suggests that top Pearson-ranked gene pairs in GTEx might be driven mainly by outliers, which is consistent with our earlier observations of outlier-driven associations (Figure @fig:upsetplot_coefs b).\",\n",
       " \"We systematically evaluated the top 100 discrepant gene pairs between CCC and two other coefficients. Using GTEx data for whole blood, we identified relevant cell types for each gene pair through GIANT analysis. The top five predicted cell types for gene pairs highly ranked by CCC were all blood-specific, including macrophage, leukocyte, natural killer cell, blood, and mononuclear phagocyte (Figure 1c, top left). The average probability of interaction between genes in CCC-ranked networks was significantly higher compared to other coefficients, with medians above 67% and first quartiles above 41% across predicted cell types (Figure 1c, top right). In contrast, most Pearson's gene pairs were predicted to be specific to non-blood tissues, with skeletal muscle being the most common prediction (Figure 1c, bottom left). Interaction probabilities in Pearson-ranked networks were generally lower than CCC, except for blood-specific gene pairs (Figure 1c, bottom right). The associations exclusively detected by CCC in GTEx whole blood were strongly replicated in independent networks incorporating multiple data modalities. CCC-ranked gene pairs not only shared high probabilities of belonging to the same biological process but were also specific to blood cell lineages. Conversely, Pearson-ranked gene pairs were not blood-specific, with lower interaction probabilities. Lack of replication in GIANT suggests that top Pearson-ranked gene pairs in GTEx may be mainly driven by outliers, consistent with earlier observations of outlier-driven associations (Figure 2b).\")"
      ]
     },
     "metadata": {},
     "output_type": "display_data"
    }
   ],
   "source": [
    "display(paragraph_matches[-1])"
   ]
  },
  {
   "cell_type": "markdown",
   "id": "0a311a52-d06f-4f08-905f-465c282ff625",
   "metadata": {
    "editable": true,
    "papermill": {
     "duration": 0.027794,
     "end_time": "2024-03-23T05:12:25.674702",
     "exception": false,
     "start_time": "2024-03-23T05:12:25.646908",
     "status": "completed"
    },
    "slideshow": {
     "slide_type": ""
    },
    "tags": []
   },
   "source": [
    "## Discussion"
   ]
  },
  {
   "cell_type": "code",
   "execution_count": 113,
   "id": "70e3c270-751e-48b1-a705-7ed67d9298b8",
   "metadata": {
    "execution": {
     "iopub.execute_input": "2024-03-23T05:12:25.730868Z",
     "iopub.status.busy": "2024-03-23T05:12:25.730528Z",
     "iopub.status.idle": "2024-03-23T05:12:25.732956Z",
     "shell.execute_reply": "2024-03-23T05:12:25.732534Z"
    },
    "papermill": {
     "duration": 0.031448,
     "end_time": "2024-03-23T05:12:25.733668",
     "exception": false,
     "start_time": "2024-03-23T05:12:25.702220",
     "status": "completed"
    },
    "tags": []
   },
   "outputs": [],
   "source": [
    "section_name = \"discussion\""
   ]
  },
  {
   "cell_type": "code",
   "execution_count": 114,
   "id": "da50ce41-3f94-4ca1-8c72-3d2aa29b536b",
   "metadata": {
    "editable": true,
    "execution": {
     "iopub.execute_input": "2024-03-23T05:12:25.789603Z",
     "iopub.status.busy": "2024-03-23T05:12:25.789273Z",
     "iopub.status.idle": "2024-03-23T05:12:25.792257Z",
     "shell.execute_reply": "2024-03-23T05:12:25.791814Z"
    },
    "papermill": {
     "duration": 0.031788,
     "end_time": "2024-03-23T05:12:25.792964",
     "exception": false,
     "start_time": "2024-03-23T05:12:25.761176",
     "status": "completed"
    },
    "slideshow": {
     "slide_type": ""
    },
    "tags": []
   },
   "outputs": [
    {
     "name": "stdout",
     "output_type": "stream",
     "text": [
      "content/06.discussion.md\n"
     ]
    }
   ],
   "source": [
    "pr_filename = pr_files[5].filename\n",
    "assert section_name in pr_filename\n",
    "print(pr_filename)"
   ]
  },
  {
   "cell_type": "markdown",
   "id": "15bcc7d8-ab7b-4475-95ad-6d9c3763aba2",
   "metadata": {
    "editable": true,
    "papermill": {
     "duration": 0.027456,
     "end_time": "2024-03-23T05:12:25.848149",
     "exception": false,
     "start_time": "2024-03-23T05:12:25.820693",
     "status": "completed"
    },
    "slideshow": {
     "slide_type": ""
    },
    "tags": []
   },
   "source": [
    "### Original"
   ]
  },
  {
   "cell_type": "code",
   "execution_count": 115,
   "id": "5bbec300-ce51-46d0-8e4d-b2ba822ec608",
   "metadata": {
    "execution": {
     "iopub.execute_input": "2024-03-23T05:12:25.904264Z",
     "iopub.status.busy": "2024-03-23T05:12:25.903917Z",
     "iopub.status.idle": "2024-03-23T05:12:26.057382Z",
     "shell.execute_reply": "2024-03-23T05:12:26.056888Z"
    },
    "papermill": {
     "duration": 0.182466,
     "end_time": "2024-03-23T05:12:26.058107",
     "exception": false,
     "start_time": "2024-03-23T05:12:25.875641",
     "status": "completed"
    },
    "tags": []
   },
   "outputs": [
    {
     "name": "stdout",
     "output_type": "stream",
     "text": [
      "## Discussion\n",
      "\n",
      "We introduce the Clustermatch Corre\n"
     ]
    }
   ],
   "source": [
    "# get content\n",
    "orig_section_content = repo.get_contents(pr_filename, pr_prev).decoded_content.decode(\n",
    "    \"utf-8\"\n",
    ")\n",
    "print(orig_section_content[:50])"
   ]
  },
  {
   "cell_type": "code",
   "execution_count": 116,
   "id": "2ab78222-da5b-4d1e-93dd-e35a085a962f",
   "metadata": {
    "execution": {
     "iopub.execute_input": "2024-03-23T05:12:26.115058Z",
     "iopub.status.busy": "2024-03-23T05:12:26.114674Z",
     "iopub.status.idle": "2024-03-23T05:12:26.118337Z",
     "shell.execute_reply": "2024-03-23T05:12:26.117889Z"
    },
    "papermill": {
     "duration": 0.033311,
     "end_time": "2024-03-23T05:12:26.119095",
     "exception": false,
     "start_time": "2024-03-23T05:12:26.085784",
     "status": "completed"
    },
    "tags": []
   },
   "outputs": [
    {
     "data": {
      "text/plain": [
       "7"
      ]
     },
     "metadata": {},
     "output_type": "display_data"
    }
   ],
   "source": [
    "# split by paragraph\n",
    "orig_section_paragraphs = orig_section_content.split(\"\\n\\n\")\n",
    "display(len(orig_section_paragraphs))"
   ]
  },
  {
   "cell_type": "markdown",
   "id": "a0a475a1-c746-4b66-b096-99df8a9e4688",
   "metadata": {
    "editable": true,
    "papermill": {
     "duration": 0.027989,
     "end_time": "2024-03-23T05:12:26.175341",
     "exception": false,
     "start_time": "2024-03-23T05:12:26.147352",
     "status": "completed"
    },
    "slideshow": {
     "slide_type": ""
    },
    "tags": []
   },
   "source": [
    "### Modified"
   ]
  },
  {
   "cell_type": "code",
   "execution_count": 117,
   "id": "b4046c3e-0e66-44fe-8902-822d461fb6ea",
   "metadata": {
    "execution": {
     "iopub.execute_input": "2024-03-23T05:12:26.231937Z",
     "iopub.status.busy": "2024-03-23T05:12:26.231571Z",
     "iopub.status.idle": "2024-03-23T05:12:26.458805Z",
     "shell.execute_reply": "2024-03-23T05:12:26.458319Z"
    },
    "papermill": {
     "duration": 0.256629,
     "end_time": "2024-03-23T05:12:26.459796",
     "exception": false,
     "start_time": "2024-03-23T05:12:26.203167",
     "status": "completed"
    },
    "tags": []
   },
   "outputs": [
    {
     "name": "stdout",
     "output_type": "stream",
     "text": [
      "## Discussion\n",
      "\n",
      "We present the Clustermatch Correla\n"
     ]
    }
   ],
   "source": [
    "# get content\n",
    "mod_section_content = repo.get_contents(pr_filename, pr_curr).decoded_content.decode(\n",
    "    \"utf-8\"\n",
    ")\n",
    "print(mod_section_content[:50])"
   ]
  },
  {
   "cell_type": "code",
   "execution_count": 118,
   "id": "0f0d8b54-f62f-45c9-861a-ab579ac0d46b",
   "metadata": {
    "execution": {
     "iopub.execute_input": "2024-03-23T05:12:26.542966Z",
     "iopub.status.busy": "2024-03-23T05:12:26.542579Z",
     "iopub.status.idle": "2024-03-23T05:12:26.546284Z",
     "shell.execute_reply": "2024-03-23T05:12:26.545843Z"
    },
    "papermill": {
     "duration": 0.045501,
     "end_time": "2024-03-23T05:12:26.546988",
     "exception": false,
     "start_time": "2024-03-23T05:12:26.501487",
     "status": "completed"
    },
    "tags": []
   },
   "outputs": [
    {
     "data": {
      "text/plain": [
       "10"
      ]
     },
     "metadata": {},
     "output_type": "display_data"
    }
   ],
   "source": [
    "# split by paragraph\n",
    "mod_section_paragraphs = mod_section_content.split(\"\\n\\n\")\n",
    "display(len(mod_section_paragraphs))"
   ]
  },
  {
   "cell_type": "markdown",
   "id": "eb98b790-a12a-4eff-9074-357374cc8386",
   "metadata": {
    "editable": true,
    "papermill": {
     "duration": 0.027658,
     "end_time": "2024-03-23T05:12:26.602700",
     "exception": false,
     "start_time": "2024-03-23T05:12:26.575042",
     "status": "completed"
    },
    "slideshow": {
     "slide_type": ""
    },
    "tags": []
   },
   "source": [
    "### Match"
   ]
  },
  {
   "cell_type": "code",
   "execution_count": 119,
   "id": "5147ec0f-7e00-4e5b-9c17-73e17ccb3ab4",
   "metadata": {
    "execution": {
     "iopub.execute_input": "2024-03-23T05:12:26.659425Z",
     "iopub.status.busy": "2024-03-23T05:12:26.659082Z",
     "iopub.status.idle": "2024-03-23T05:12:26.662452Z",
     "shell.execute_reply": "2024-03-23T05:12:26.662018Z"
    },
    "papermill": {
     "duration": 0.032717,
     "end_time": "2024-03-23T05:12:26.663178",
     "exception": false,
     "start_time": "2024-03-23T05:12:26.630461",
     "status": "completed"
    },
    "tags": []
   },
   "outputs": [
    {
     "data": {
      "text/plain": [
       "'## Discussion'"
      ]
     },
     "execution_count": 119,
     "metadata": {},
     "output_type": "execute_result"
    }
   ],
   "source": [
    "orig_section_paragraphs[0]"
   ]
  },
  {
   "cell_type": "code",
   "execution_count": 120,
   "id": "f7f66854-8226-4d44-a5d9-c77da74fcb02",
   "metadata": {
    "execution": {
     "iopub.execute_input": "2024-03-23T05:12:26.719788Z",
     "iopub.status.busy": "2024-03-23T05:12:26.719450Z",
     "iopub.status.idle": "2024-03-23T05:12:26.722868Z",
     "shell.execute_reply": "2024-03-23T05:12:26.722377Z"
    },
    "papermill": {
     "duration": 0.032828,
     "end_time": "2024-03-23T05:12:26.723595",
     "exception": false,
     "start_time": "2024-03-23T05:12:26.690767",
     "status": "completed"
    },
    "tags": []
   },
   "outputs": [
    {
     "data": {
      "text/plain": [
       "'## Discussion'"
      ]
     },
     "execution_count": 120,
     "metadata": {},
     "output_type": "execute_result"
    }
   ],
   "source": [
    "mod_section_paragraphs[0]"
   ]
  },
  {
   "cell_type": "markdown",
   "id": "d92ee9ca-a186-40ab-b166-470691476a5d",
   "metadata": {
    "editable": true,
    "papermill": {
     "duration": 0.027959,
     "end_time": "2024-03-23T05:12:26.779843",
     "exception": false,
     "start_time": "2024-03-23T05:12:26.751884",
     "status": "completed"
    },
    "slideshow": {
     "slide_type": ""
    },
    "tags": []
   },
   "source": [
    "####  Paragraph 00"
   ]
  },
  {
   "cell_type": "code",
   "execution_count": 121,
   "id": "cab5a53a-cfb9-4453-a5e7-d9c94cf44b42",
   "metadata": {
    "execution": {
     "iopub.execute_input": "2024-03-23T05:12:26.836775Z",
     "iopub.status.busy": "2024-03-23T05:12:26.836359Z",
     "iopub.status.idle": "2024-03-23T05:12:26.839425Z",
     "shell.execute_reply": "2024-03-23T05:12:26.838986Z"
    },
    "papermill": {
     "duration": 0.03224,
     "end_time": "2024-03-23T05:12:26.840118",
     "exception": false,
     "start_time": "2024-03-23T05:12:26.807878",
     "status": "completed"
    },
    "tags": []
   },
   "outputs": [
    {
     "name": "stdout",
     "output_type": "stream",
     "text": [
      "We introduce the Clustermatch Correlation Coefficient (CCC), an efficient not-only-linear machine learning-based statistic. Applying CCC to GTEx v8 revealed that it was robust to outliers and detected linear relationships as well as complex and biologically meaningful patterns that standard coefficients missed. In particular, CCC alone detected gene pairs with complex nonlinear patterns from the sex chromosomes, highlighting the way that not-only-linear coefficients can play in capturing sex-specific differences. The ability to capture these nonlinear patterns, however, extends beyond sex differences: it provides a powerful approach to detect complex relationships where a subset of samples or conditions are explained by other factors (such as differences between health and disease). We found that top CCC-ranked gene pairs in whole blood from GTEx were replicated in independent tissue-specific networks trained from multiple data types and attributed to cell lineages from blood, even though CCC did not have access to any cell lineage-specific information. This suggests that CCC can disentangle intricate cell lineage-specific transcriptional patterns missed by linear-only coefficients. In addition to capturing nonlinear patterns, the CCC was more similar to Spearman than Pearson, highlighting their shared robustness to outliers. The CCC results were concordant with MIC, but much faster to compute and thus practical for large datasets. Another advantage over MIC is that CCC can also process categorical variables together with numerical values. CCC is conceptually easy to interpret and has a single parameter that controls the maximum complexity of the detected relationships while also balancing compute time.\n"
     ]
    }
   ],
   "source": [
    "par0 = process_paragraph(orig_section_paragraphs[1])\n",
    "print(par0)"
   ]
  },
  {
   "cell_type": "code",
   "execution_count": 122,
   "id": "84c75b53-48ef-433f-a63c-8995b7b9637d",
   "metadata": {
    "execution": {
     "iopub.execute_input": "2024-03-23T05:12:26.896897Z",
     "iopub.status.busy": "2024-03-23T05:12:26.896570Z",
     "iopub.status.idle": "2024-03-23T05:12:26.899483Z",
     "shell.execute_reply": "2024-03-23T05:12:26.899040Z"
    },
    "papermill": {
     "duration": 0.032039,
     "end_time": "2024-03-23T05:12:26.900163",
     "exception": false,
     "start_time": "2024-03-23T05:12:26.868124",
     "status": "completed"
    },
    "tags": []
   },
   "outputs": [
    {
     "name": "stdout",
     "output_type": "stream",
     "text": [
      "We present the Clustermatch Correlation Coefficient (CCC), a machine learning-based statistic that is not only efficient but also capable of capturing nonlinear relationships. When applied to GTEx v8 data, CCC demonstrated robustness to outliers and identified both linear and complex biologically relevant patterns that traditional coefficients overlooked. Specifically, CCC was able to identify gene pairs with intricate nonlinear patterns on the sex chromosomes, illustrating its ability to capture sex-specific differences. This capability extends beyond sex differences and provides a powerful tool for detecting complex relationships, such as those between health and disease, where certain samples or conditions are influenced by other factors. Our analysis of CCC's performance on GTEx data showed that top-ranked gene pairs in whole blood were consistent with tissue-specific networks built from diverse data types and cell lineage information, despite CCC not having access to this specific information. This indicates that CCC can uncover subtle cell lineage-specific transcriptional patterns that linear coefficients may miss. In addition to capturing nonlinear relationships, CCC exhibited similarities to Spearman rather than Pearson, indicating shared robustness to outliers. CCC also showed agreement with Maximal Information Coefficient (MIC) but offered significantly faster computation, making it practical for large datasets. Unlike MIC, CCC can handle both categorical and numerical variables simultaneously. Overall, CCC is easy to interpret, with a single parameter that controls the complexity of detected relationships while balancing computational efficiency.\n"
     ]
    }
   ],
   "source": [
    "par1 = process_paragraph(mod_section_paragraphs[1:4])\n",
    "print(par1)"
   ]
  },
  {
   "cell_type": "code",
   "execution_count": 123,
   "id": "cd9d734b-5a88-46ee-aea6-7be4ffbfd31c",
   "metadata": {
    "execution": {
     "iopub.execute_input": "2024-03-23T05:12:26.956891Z",
     "iopub.status.busy": "2024-03-23T05:12:26.956562Z",
     "iopub.status.idle": "2024-03-23T05:12:26.959217Z",
     "shell.execute_reply": "2024-03-23T05:12:26.958754Z"
    },
    "papermill": {
     "duration": 0.031813,
     "end_time": "2024-03-23T05:12:26.959965",
     "exception": false,
     "start_time": "2024-03-23T05:12:26.928152",
     "status": "completed"
    },
    "tags": []
   },
   "outputs": [],
   "source": [
    "paragraph_matches.append(\n",
    "    (\n",
    "        section_name,\n",
    "        par0,\n",
    "        par1,\n",
    "    )\n",
    ")"
   ]
  },
  {
   "cell_type": "code",
   "execution_count": 124,
   "id": "323699ec-6dcd-4bad-8261-871c43b7c9a4",
   "metadata": {
    "execution": {
     "iopub.execute_input": "2024-03-23T05:12:27.016547Z",
     "iopub.status.busy": "2024-03-23T05:12:27.016119Z",
     "iopub.status.idle": "2024-03-23T05:12:27.019552Z",
     "shell.execute_reply": "2024-03-23T05:12:27.019126Z"
    },
    "papermill": {
     "duration": 0.03251,
     "end_time": "2024-03-23T05:12:27.020249",
     "exception": false,
     "start_time": "2024-03-23T05:12:26.987739",
     "status": "completed"
    },
    "tags": []
   },
   "outputs": [
    {
     "data": {
      "text/plain": [
       "('discussion',\n",
       " 'We introduce the Clustermatch Correlation Coefficient (CCC), an efficient not-only-linear machine learning-based statistic. Applying CCC to GTEx v8 revealed that it was robust to outliers and detected linear relationships as well as complex and biologically meaningful patterns that standard coefficients missed. In particular, CCC alone detected gene pairs with complex nonlinear patterns from the sex chromosomes, highlighting the way that not-only-linear coefficients can play in capturing sex-specific differences. The ability to capture these nonlinear patterns, however, extends beyond sex differences: it provides a powerful approach to detect complex relationships where a subset of samples or conditions are explained by other factors (such as differences between health and disease). We found that top CCC-ranked gene pairs in whole blood from GTEx were replicated in independent tissue-specific networks trained from multiple data types and attributed to cell lineages from blood, even though CCC did not have access to any cell lineage-specific information. This suggests that CCC can disentangle intricate cell lineage-specific transcriptional patterns missed by linear-only coefficients. In addition to capturing nonlinear patterns, the CCC was more similar to Spearman than Pearson, highlighting their shared robustness to outliers. The CCC results were concordant with MIC, but much faster to compute and thus practical for large datasets. Another advantage over MIC is that CCC can also process categorical variables together with numerical values. CCC is conceptually easy to interpret and has a single parameter that controls the maximum complexity of the detected relationships while also balancing compute time.',\n",
       " \"We present the Clustermatch Correlation Coefficient (CCC), a machine learning-based statistic that is not only efficient but also capable of capturing nonlinear relationships. When applied to GTEx v8 data, CCC demonstrated robustness to outliers and identified both linear and complex biologically relevant patterns that traditional coefficients overlooked. Specifically, CCC was able to identify gene pairs with intricate nonlinear patterns on the sex chromosomes, illustrating its ability to capture sex-specific differences. This capability extends beyond sex differences and provides a powerful tool for detecting complex relationships, such as those between health and disease, where certain samples or conditions are influenced by other factors. Our analysis of CCC's performance on GTEx data showed that top-ranked gene pairs in whole blood were consistent with tissue-specific networks built from diverse data types and cell lineage information, despite CCC not having access to this specific information. This indicates that CCC can uncover subtle cell lineage-specific transcriptional patterns that linear coefficients may miss. In addition to capturing nonlinear relationships, CCC exhibited similarities to Spearman rather than Pearson, indicating shared robustness to outliers. CCC also showed agreement with Maximal Information Coefficient (MIC) but offered significantly faster computation, making it practical for large datasets. Unlike MIC, CCC can handle both categorical and numerical variables simultaneously. Overall, CCC is easy to interpret, with a single parameter that controls the complexity of detected relationships while balancing computational efficiency.\")"
      ]
     },
     "metadata": {},
     "output_type": "display_data"
    }
   ],
   "source": [
    "display(paragraph_matches[-1])"
   ]
  },
  {
   "cell_type": "markdown",
   "id": "c723624a-d413-4331-ae11-7e0fff81f925",
   "metadata": {
    "editable": true,
    "papermill": {
     "duration": 0.027983,
     "end_time": "2024-03-23T05:12:27.076400",
     "exception": false,
     "start_time": "2024-03-23T05:12:27.048417",
     "status": "completed"
    },
    "slideshow": {
     "slide_type": ""
    },
    "tags": []
   },
   "source": [
    "####  Paragraph 01"
   ]
  },
  {
   "cell_type": "code",
   "execution_count": 125,
   "id": "85389552-28ba-4023-a3e7-cad96a96c4e2",
   "metadata": {
    "execution": {
     "iopub.execute_input": "2024-03-23T05:12:27.133368Z",
     "iopub.status.busy": "2024-03-23T05:12:27.132980Z",
     "iopub.status.idle": "2024-03-23T05:12:27.136150Z",
     "shell.execute_reply": "2024-03-23T05:12:27.135691Z"
    },
    "papermill": {
     "duration": 0.032547,
     "end_time": "2024-03-23T05:12:27.136848",
     "exception": false,
     "start_time": "2024-03-23T05:12:27.104301",
     "status": "completed"
    },
    "tags": []
   },
   "outputs": [
    {
     "name": "stdout",
     "output_type": "stream",
     "text": [
      "Datasets such as Anscombe or \"Datasaurus\" highlight the value of visualization instead of relying on simple data summaries. While visual analysis is helpful, for many datasets examining each possible relationship is infeasible, and this is where more sophisticated and robust correlation coefficients are necessary. Advanced yet interpretable coefficients like CCC can focus human interpretation on patterns that are more likely to reflect real biology. The complexity of these patterns might reflect heterogeneity in samples that mask clear relationships between variables. For example, genes *UTY* - *KDM6A* (from sex chromosomes), detected by CCC, have a strong linear relationship but only in a subset of samples (males), which was not captured by linear-only coefficients. This example, in particular, highlights the importance of considering sex as a biological variable (SABV) [@doi:10.1038/509282a] to avoid overlooking important differences between men and women, for instance, in disease manifestations [@doi:10.1210/endrev/bnaa034; @doi:10.1038/s41593-021-00806-8]. More generally, a not-only-linear correlation coefficient like CCC could identify significant differences between variables (such as genes) that are explained by a third factor (beyond sex differences), that would be entirely missed by linear-only coefficients.\n"
     ]
    }
   ],
   "source": [
    "par0 = process_paragraph(orig_section_paragraphs[2])\n",
    "print(par0)"
   ]
  },
  {
   "cell_type": "code",
   "execution_count": 126,
   "id": "2128e3ae-2f52-4975-a5e3-6c5c15d0c43c",
   "metadata": {
    "execution": {
     "iopub.execute_input": "2024-03-23T05:12:27.194189Z",
     "iopub.status.busy": "2024-03-23T05:12:27.193854Z",
     "iopub.status.idle": "2024-03-23T05:12:27.196725Z",
     "shell.execute_reply": "2024-03-23T05:12:27.196281Z"
    },
    "papermill": {
     "duration": 0.03198,
     "end_time": "2024-03-23T05:12:27.197441",
     "exception": false,
     "start_time": "2024-03-23T05:12:27.165461",
     "status": "completed"
    },
    "tags": []
   },
   "outputs": [
    {
     "name": "stdout",
     "output_type": "stream",
     "text": [
      "Datasets like Anscombe or \"Datasaurus\" demonstrate the importance of visualization over basic data summaries. Visual analysis is beneficial, but for many datasets, exploring every possible relationship is impractical. This is where more advanced and robust correlation coefficients become essential. Coefficients like CCC can guide human interpretation towards patterns that likely reflect actual biological phenomena. The complexity of these patterns may indicate sample heterogeneity that obscures clear relationships between variables. For instance, genes *UTY* - *KDM6A* (from sex chromosomes) exhibit a strong linear relationship in a specific subset of samples (males), which traditional linear coefficients fail to capture. This example emphasizes the significance of considering sex as a biological variable (SABV) to prevent overlooking critical differences between genders, such as in disease presentations. In a broader sense, a correlation coefficient like CCC, which is not solely linear, has the potential to identify substantial differences between variables (like genes) that are influenced by a third factor (beyond sex differences). Linear-only coefficients would entirely miss these distinctions.\n"
     ]
    }
   ],
   "source": [
    "par1 = process_paragraph(mod_section_paragraphs[4])\n",
    "print(par1)"
   ]
  },
  {
   "cell_type": "code",
   "execution_count": 127,
   "id": "1b63a1b9-3f26-4699-b39c-a1ace66c05ff",
   "metadata": {
    "execution": {
     "iopub.execute_input": "2024-03-23T05:12:27.254640Z",
     "iopub.status.busy": "2024-03-23T05:12:27.254311Z",
     "iopub.status.idle": "2024-03-23T05:12:27.256875Z",
     "shell.execute_reply": "2024-03-23T05:12:27.256444Z"
    },
    "papermill": {
     "duration": 0.031729,
     "end_time": "2024-03-23T05:12:27.257566",
     "exception": false,
     "start_time": "2024-03-23T05:12:27.225837",
     "status": "completed"
    },
    "tags": []
   },
   "outputs": [],
   "source": [
    "paragraph_matches.append(\n",
    "    (\n",
    "        section_name,\n",
    "        par0,\n",
    "        par1,\n",
    "    )\n",
    ")"
   ]
  },
  {
   "cell_type": "code",
   "execution_count": 128,
   "id": "f096fe93-a618-4836-85b5-b011bd9189e4",
   "metadata": {
    "execution": {
     "iopub.execute_input": "2024-03-23T05:12:27.342012Z",
     "iopub.status.busy": "2024-03-23T05:12:27.341465Z",
     "iopub.status.idle": "2024-03-23T05:12:27.345086Z",
     "shell.execute_reply": "2024-03-23T05:12:27.344660Z"
    },
    "papermill": {
     "duration": 0.033303,
     "end_time": "2024-03-23T05:12:27.345774",
     "exception": false,
     "start_time": "2024-03-23T05:12:27.312471",
     "status": "completed"
    },
    "tags": []
   },
   "outputs": [
    {
     "data": {
      "text/plain": [
       "('discussion',\n",
       " 'Datasets such as Anscombe or \"Datasaurus\" highlight the value of visualization instead of relying on simple data summaries. While visual analysis is helpful, for many datasets examining each possible relationship is infeasible, and this is where more sophisticated and robust correlation coefficients are necessary. Advanced yet interpretable coefficients like CCC can focus human interpretation on patterns that are more likely to reflect real biology. The complexity of these patterns might reflect heterogeneity in samples that mask clear relationships between variables. For example, genes *UTY* - *KDM6A* (from sex chromosomes), detected by CCC, have a strong linear relationship but only in a subset of samples (males), which was not captured by linear-only coefficients. This example, in particular, highlights the importance of considering sex as a biological variable (SABV) [@doi:10.1038/509282a] to avoid overlooking important differences between men and women, for instance, in disease manifestations [@doi:10.1210/endrev/bnaa034; @doi:10.1038/s41593-021-00806-8]. More generally, a not-only-linear correlation coefficient like CCC could identify significant differences between variables (such as genes) that are explained by a third factor (beyond sex differences), that would be entirely missed by linear-only coefficients.',\n",
       " 'Datasets like Anscombe or \"Datasaurus\" demonstrate the importance of visualization over basic data summaries. Visual analysis is beneficial, but for many datasets, exploring every possible relationship is impractical. This is where more advanced and robust correlation coefficients become essential. Coefficients like CCC can guide human interpretation towards patterns that likely reflect actual biological phenomena. The complexity of these patterns may indicate sample heterogeneity that obscures clear relationships between variables. For instance, genes *UTY* - *KDM6A* (from sex chromosomes) exhibit a strong linear relationship in a specific subset of samples (males), which traditional linear coefficients fail to capture. This example emphasizes the significance of considering sex as a biological variable (SABV) to prevent overlooking critical differences between genders, such as in disease presentations. In a broader sense, a correlation coefficient like CCC, which is not solely linear, has the potential to identify substantial differences between variables (like genes) that are influenced by a third factor (beyond sex differences). Linear-only coefficients would entirely miss these distinctions.')"
      ]
     },
     "metadata": {},
     "output_type": "display_data"
    }
   ],
   "source": [
    "display(paragraph_matches[-1])"
   ]
  },
  {
   "cell_type": "markdown",
   "id": "897b56fb-65f4-47f3-a02d-4c32c91ba5eb",
   "metadata": {
    "editable": true,
    "papermill": {
     "duration": 0.028203,
     "end_time": "2024-03-23T05:12:27.402660",
     "exception": false,
     "start_time": "2024-03-23T05:12:27.374457",
     "status": "completed"
    },
    "slideshow": {
     "slide_type": ""
    },
    "tags": []
   },
   "source": [
    "####  Paragraph 02"
   ]
  },
  {
   "cell_type": "code",
   "execution_count": 129,
   "id": "36f25595-58d4-4f3e-b34b-bf4cc68c0604",
   "metadata": {
    "execution": {
     "iopub.execute_input": "2024-03-23T05:12:27.459981Z",
     "iopub.status.busy": "2024-03-23T05:12:27.459627Z",
     "iopub.status.idle": "2024-03-23T05:12:27.462584Z",
     "shell.execute_reply": "2024-03-23T05:12:27.462131Z"
    },
    "papermill": {
     "duration": 0.032295,
     "end_time": "2024-03-23T05:12:27.463257",
     "exception": false,
     "start_time": "2024-03-23T05:12:27.430962",
     "status": "completed"
    },
    "tags": []
   },
   "outputs": [
    {
     "name": "stdout",
     "output_type": "stream",
     "text": [
      "It is well-known that biomedical research is biased towards a small fraction of human genes [@pmid:17620606; @pmid:17472739]. Some genes highlighted in CCC-ranked pairs (Figure @fig:upsetplot_coefs b), such as *SDS* (12q24) and *ZDHHC12* (9q34), were previously found to be the focus of fewer than expected publications [@pmid:30226837]. It is possible that the widespread use of linear coefficients may bias researchers away from genes with complex coexpression patterns. A beyond-linear gene co-expression analysis on large compendia might shed light on the function of understudied genes. For example, gene *KLHL21* (1p36) and *AC068580.6* (*ENSG00000235027*, in 11p15) have a high CCC value and are missed by the other coefficients. *KLHL21* was suggested as a potential therapeutic target for hepatocellular carcinoma [@pmid:27769251] and other cancers [@pmid:29574153; @pmid:35084622]. Its nonlinear correlation with *AC068580.6* might unveil other important players in cancer initiation or progression, potentially in subsets of samples with specific characteristics (as suggested in Figure @fig:upsetplot_coefs b).\n"
     ]
    }
   ],
   "source": [
    "par0 = process_paragraph(orig_section_paragraphs[3])\n",
    "print(par0)"
   ]
  },
  {
   "cell_type": "code",
   "execution_count": 130,
   "id": "0ca440d7-4752-4c1c-a18d-baafb271c30a",
   "metadata": {
    "execution": {
     "iopub.execute_input": "2024-03-23T05:12:27.521477Z",
     "iopub.status.busy": "2024-03-23T05:12:27.520884Z",
     "iopub.status.idle": "2024-03-23T05:12:27.524440Z",
     "shell.execute_reply": "2024-03-23T05:12:27.523927Z"
    },
    "papermill": {
     "duration": 0.033686,
     "end_time": "2024-03-23T05:12:27.525142",
     "exception": false,
     "start_time": "2024-03-23T05:12:27.491456",
     "status": "completed"
    },
    "tags": []
   },
   "outputs": [
    {
     "name": "stdout",
     "output_type": "stream",
     "text": [
      "Biomedical research tends to focus on a small number of human genes, as indicated by previous studies [@pmid:17620606; @pmid:17472739]. Some genes identified in the CCC-ranked pairs (see Figure 1b) have received less attention in the literature than expected, such as *SDS* (12q24) and *ZDHHC12* (9q34) [@pmid:30226837]. This lack of attention may be due to the common use of linear coefficients, which could overlook genes with complex coexpression patterns. Conducting gene co-expression analyses beyond linear methods on large datasets could provide insights into the functions of underexplored genes. For instance, genes like *KLHL21* (1p36) and *AC068580.6* (*ENSG00000235027*, in 11p15) show high CCC values but are not captured by other coefficients. Previous studies have suggested *KLHL21* as a potential therapeutic target for hepatocellular carcinoma [@pmid:27769251] and other cancers [@pmid:29574153; @pmid:35084622]. Exploring its nonlinear correlation with *AC068580.6* could reveal additional key players in cancer development or progression, particularly in specific subsets of samples with distinct characteristics (as illustrated in Figure 1b).\n"
     ]
    }
   ],
   "source": [
    "par1 = process_paragraph(mod_section_paragraphs[5])\n",
    "print(par1)"
   ]
  },
  {
   "cell_type": "code",
   "execution_count": 131,
   "id": "23e42c9b-0bec-4243-abf1-4f9b805a7897",
   "metadata": {
    "execution": {
     "iopub.execute_input": "2024-03-23T05:12:27.583673Z",
     "iopub.status.busy": "2024-03-23T05:12:27.583336Z",
     "iopub.status.idle": "2024-03-23T05:12:27.586109Z",
     "shell.execute_reply": "2024-03-23T05:12:27.585579Z"
    },
    "papermill": {
     "duration": 0.032949,
     "end_time": "2024-03-23T05:12:27.586861",
     "exception": false,
     "start_time": "2024-03-23T05:12:27.553912",
     "status": "completed"
    },
    "tags": []
   },
   "outputs": [],
   "source": [
    "paragraph_matches.append(\n",
    "    (\n",
    "        section_name,\n",
    "        par0,\n",
    "        par1,\n",
    "    )\n",
    ")"
   ]
  },
  {
   "cell_type": "code",
   "execution_count": 132,
   "id": "61e5c7e8-bc8c-451f-a7bb-79e5fc93e166",
   "metadata": {
    "execution": {
     "iopub.execute_input": "2024-03-23T05:12:27.644627Z",
     "iopub.status.busy": "2024-03-23T05:12:27.644291Z",
     "iopub.status.idle": "2024-03-23T05:12:27.647966Z",
     "shell.execute_reply": "2024-03-23T05:12:27.647476Z"
    },
    "papermill": {
     "duration": 0.03329,
     "end_time": "2024-03-23T05:12:27.648682",
     "exception": false,
     "start_time": "2024-03-23T05:12:27.615392",
     "status": "completed"
    },
    "tags": []
   },
   "outputs": [
    {
     "data": {
      "text/plain": [
       "('discussion',\n",
       " 'It is well-known that biomedical research is biased towards a small fraction of human genes [@pmid:17620606; @pmid:17472739]. Some genes highlighted in CCC-ranked pairs (Figure @fig:upsetplot_coefs b), such as *SDS* (12q24) and *ZDHHC12* (9q34), were previously found to be the focus of fewer than expected publications [@pmid:30226837]. It is possible that the widespread use of linear coefficients may bias researchers away from genes with complex coexpression patterns. A beyond-linear gene co-expression analysis on large compendia might shed light on the function of understudied genes. For example, gene *KLHL21* (1p36) and *AC068580.6* (*ENSG00000235027*, in 11p15) have a high CCC value and are missed by the other coefficients. *KLHL21* was suggested as a potential therapeutic target for hepatocellular carcinoma [@pmid:27769251] and other cancers [@pmid:29574153; @pmid:35084622]. Its nonlinear correlation with *AC068580.6* might unveil other important players in cancer initiation or progression, potentially in subsets of samples with specific characteristics (as suggested in Figure @fig:upsetplot_coefs b).',\n",
       " 'Biomedical research tends to focus on a small number of human genes, as indicated by previous studies [@pmid:17620606; @pmid:17472739]. Some genes identified in the CCC-ranked pairs (see Figure 1b) have received less attention in the literature than expected, such as *SDS* (12q24) and *ZDHHC12* (9q34) [@pmid:30226837]. This lack of attention may be due to the common use of linear coefficients, which could overlook genes with complex coexpression patterns. Conducting gene co-expression analyses beyond linear methods on large datasets could provide insights into the functions of underexplored genes. For instance, genes like *KLHL21* (1p36) and *AC068580.6* (*ENSG00000235027*, in 11p15) show high CCC values but are not captured by other coefficients. Previous studies have suggested *KLHL21* as a potential therapeutic target for hepatocellular carcinoma [@pmid:27769251] and other cancers [@pmid:29574153; @pmid:35084622]. Exploring its nonlinear correlation with *AC068580.6* could reveal additional key players in cancer development or progression, particularly in specific subsets of samples with distinct characteristics (as illustrated in Figure 1b).')"
      ]
     },
     "metadata": {},
     "output_type": "display_data"
    }
   ],
   "source": [
    "display(paragraph_matches[-1])"
   ]
  },
  {
   "cell_type": "markdown",
   "id": "b9824a80-2db9-48b3-aebf-39dc5bd310db",
   "metadata": {
    "editable": true,
    "papermill": {
     "duration": 0.0285,
     "end_time": "2024-03-23T05:12:27.705877",
     "exception": false,
     "start_time": "2024-03-23T05:12:27.677377",
     "status": "completed"
    },
    "slideshow": {
     "slide_type": ""
    },
    "tags": []
   },
   "source": [
    "####  Paragraph 03"
   ]
  },
  {
   "cell_type": "code",
   "execution_count": 133,
   "id": "8fea8a5e-a1ef-4146-869b-5f6949e81b36",
   "metadata": {
    "execution": {
     "iopub.execute_input": "2024-03-23T05:12:27.763519Z",
     "iopub.status.busy": "2024-03-23T05:12:27.763188Z",
     "iopub.status.idle": "2024-03-23T05:12:27.766291Z",
     "shell.execute_reply": "2024-03-23T05:12:27.765783Z"
    },
    "papermill": {
     "duration": 0.032898,
     "end_time": "2024-03-23T05:12:27.767015",
     "exception": false,
     "start_time": "2024-03-23T05:12:27.734117",
     "status": "completed"
    },
    "tags": []
   },
   "outputs": [
    {
     "name": "stdout",
     "output_type": "stream",
     "text": [
      "Not-only-linear correlation coefficients might also be helpful in the field of genetic studies. In this context, genome-wide association studies (GWAS) have been successful in understanding the molecular basis of common diseases by estimating the association between genotype and phenotype [@doi:10.1016/j.ajhg.2017.06.005]. However, the estimated effect sizes of genes identified with GWAS are generally modest, and they explain only a fraction of the phenotype variance, hampering the clinical translation of these findings [@doi:10.1038/s41576-019-0127-1]. Recent theories, like the omnigenic model for complex traits [@pmid:28622505; @pmid:31051098], argue that these observations are explained by highly-interconnected gene regulatory networks, with some core genes having a more direct effect on the phenotype than others. Using this omnigenic perspective, we and others [@doi:10.1101/2021.07.05.450786; @doi:10.1186/s13040-020-00216-9; @doi:10.1101/2021.10.21.21265342] have shown that integrating gene co-expression networks in genetic studies could potentially identify core genes that are missed by linear-only models alone like GWAS. Our results suggest that building these networks with more advanced and efficient correlation coefficients could better estimate gene co-expression profiles and thus more accurately identify these core genes. Approaches like CCC could play a significant role in the precision medicine field by providing the computational tools to focus on more promising genes representing potentially better candidate drug targets.\n"
     ]
    }
   ],
   "source": [
    "par0 = process_paragraph(orig_section_paragraphs[4])\n",
    "print(par0)"
   ]
  },
  {
   "cell_type": "code",
   "execution_count": 134,
   "id": "66ec1e72-9a45-4a64-bc99-295cd0882f50",
   "metadata": {
    "execution": {
     "iopub.execute_input": "2024-03-23T05:12:27.825329Z",
     "iopub.status.busy": "2024-03-23T05:12:27.824903Z",
     "iopub.status.idle": "2024-03-23T05:12:27.828039Z",
     "shell.execute_reply": "2024-03-23T05:12:27.827540Z"
    },
    "papermill": {
     "duration": 0.033141,
     "end_time": "2024-03-23T05:12:27.828784",
     "exception": false,
     "start_time": "2024-03-23T05:12:27.795643",
     "status": "completed"
    },
    "tags": []
   },
   "outputs": [
    {
     "name": "stdout",
     "output_type": "stream",
     "text": [
      "Not-only-linear correlation coefficients could benefit genetic studies, particularly in genome-wide association studies (GWAS) that aim to understand the genetic basis of common diseases by examining the relationship between genotype and phenotype (Smith et al., 2017). However, genes identified through GWAS typically have modest effects and only explain a small portion of the phenotype variance, limiting their clinical implications (Jones et al., 2019). Recent theories, such as the omnigenic model, propose that interconnected gene regulatory networks, where core genes have a more direct impact on the phenotype, can explain these observations (Brown et al., 2017; White et al., 2021). From an omnigenic perspective, integrating gene co-expression networks into genetic studies has the potential to identify core genes overlooked by linear models like GWAS (Black et al., 2021; Green et al., 2020; Red et al., 2021). Our findings suggest that using more advanced and efficient correlation coefficients can improve the estimation of gene co-expression profiles and enhance the identification of these core genes. Techniques like the proposed efficient correlation coefficient could significantly advance precision medicine by providing computational tools to prioritize genes that may serve as better candidate drug targets.\n"
     ]
    }
   ],
   "source": [
    "par1 = process_paragraph(mod_section_paragraphs[6:8])\n",
    "print(par1)"
   ]
  },
  {
   "cell_type": "code",
   "execution_count": 135,
   "id": "3d4e0f2a-0d75-47ec-8754-e1ebf6d054d0",
   "metadata": {
    "execution": {
     "iopub.execute_input": "2024-03-23T05:12:27.887174Z",
     "iopub.status.busy": "2024-03-23T05:12:27.886853Z",
     "iopub.status.idle": "2024-03-23T05:12:27.889557Z",
     "shell.execute_reply": "2024-03-23T05:12:27.889023Z"
    },
    "papermill": {
     "duration": 0.032601,
     "end_time": "2024-03-23T05:12:27.890270",
     "exception": false,
     "start_time": "2024-03-23T05:12:27.857669",
     "status": "completed"
    },
    "tags": []
   },
   "outputs": [],
   "source": [
    "paragraph_matches.append(\n",
    "    (\n",
    "        section_name,\n",
    "        par0,\n",
    "        par1,\n",
    "    )\n",
    ")"
   ]
  },
  {
   "cell_type": "code",
   "execution_count": 136,
   "id": "b72cf403-a57e-4ca8-8188-0c4cece1baaf",
   "metadata": {
    "execution": {
     "iopub.execute_input": "2024-03-23T05:12:27.948374Z",
     "iopub.status.busy": "2024-03-23T05:12:27.948045Z",
     "iopub.status.idle": "2024-03-23T05:12:27.951606Z",
     "shell.execute_reply": "2024-03-23T05:12:27.951128Z"
    },
    "papermill": {
     "duration": 0.033471,
     "end_time": "2024-03-23T05:12:27.952354",
     "exception": false,
     "start_time": "2024-03-23T05:12:27.918883",
     "status": "completed"
    },
    "tags": []
   },
   "outputs": [
    {
     "data": {
      "text/plain": [
       "('discussion',\n",
       " 'Not-only-linear correlation coefficients might also be helpful in the field of genetic studies. In this context, genome-wide association studies (GWAS) have been successful in understanding the molecular basis of common diseases by estimating the association between genotype and phenotype [@doi:10.1016/j.ajhg.2017.06.005]. However, the estimated effect sizes of genes identified with GWAS are generally modest, and they explain only a fraction of the phenotype variance, hampering the clinical translation of these findings [@doi:10.1038/s41576-019-0127-1]. Recent theories, like the omnigenic model for complex traits [@pmid:28622505; @pmid:31051098], argue that these observations are explained by highly-interconnected gene regulatory networks, with some core genes having a more direct effect on the phenotype than others. Using this omnigenic perspective, we and others [@doi:10.1101/2021.07.05.450786; @doi:10.1186/s13040-020-00216-9; @doi:10.1101/2021.10.21.21265342] have shown that integrating gene co-expression networks in genetic studies could potentially identify core genes that are missed by linear-only models alone like GWAS. Our results suggest that building these networks with more advanced and efficient correlation coefficients could better estimate gene co-expression profiles and thus more accurately identify these core genes. Approaches like CCC could play a significant role in the precision medicine field by providing the computational tools to focus on more promising genes representing potentially better candidate drug targets.',\n",
       " 'Not-only-linear correlation coefficients could benefit genetic studies, particularly in genome-wide association studies (GWAS) that aim to understand the genetic basis of common diseases by examining the relationship between genotype and phenotype (Smith et al., 2017). However, genes identified through GWAS typically have modest effects and only explain a small portion of the phenotype variance, limiting their clinical implications (Jones et al., 2019). Recent theories, such as the omnigenic model, propose that interconnected gene regulatory networks, where core genes have a more direct impact on the phenotype, can explain these observations (Brown et al., 2017; White et al., 2021). From an omnigenic perspective, integrating gene co-expression networks into genetic studies has the potential to identify core genes overlooked by linear models like GWAS (Black et al., 2021; Green et al., 2020; Red et al., 2021). Our findings suggest that using more advanced and efficient correlation coefficients can improve the estimation of gene co-expression profiles and enhance the identification of these core genes. Techniques like the proposed efficient correlation coefficient could significantly advance precision medicine by providing computational tools to prioritize genes that may serve as better candidate drug targets.')"
      ]
     },
     "metadata": {},
     "output_type": "display_data"
    }
   ],
   "source": [
    "display(paragraph_matches[-1])"
   ]
  },
  {
   "cell_type": "markdown",
   "id": "f6d05397-2768-45e6-a419-027cd619d2a3",
   "metadata": {
    "editable": true,
    "papermill": {
     "duration": 0.02862,
     "end_time": "2024-03-23T05:12:28.009872",
     "exception": false,
     "start_time": "2024-03-23T05:12:27.981252",
     "status": "completed"
    },
    "slideshow": {
     "slide_type": ""
    },
    "tags": []
   },
   "source": [
    "####  Paragraph 04"
   ]
  },
  {
   "cell_type": "code",
   "execution_count": 137,
   "id": "e1ac1feb-f6d3-4e48-8afa-d02ec7149e97",
   "metadata": {
    "execution": {
     "iopub.execute_input": "2024-03-23T05:12:28.068446Z",
     "iopub.status.busy": "2024-03-23T05:12:28.068068Z",
     "iopub.status.idle": "2024-03-23T05:12:28.071430Z",
     "shell.execute_reply": "2024-03-23T05:12:28.070879Z"
    },
    "papermill": {
     "duration": 0.033681,
     "end_time": "2024-03-23T05:12:28.072185",
     "exception": false,
     "start_time": "2024-03-23T05:12:28.038504",
     "status": "completed"
    },
    "tags": []
   },
   "outputs": [
    {
     "name": "stdout",
     "output_type": "stream",
     "text": [
      "Our analyses have some limitations. We worked on a sample with the top variable genes to keep computation time feasible. Although CCC is much faster than MIC, Pearson and Spearman are still the most computationally efficient since they only rely on simple data statistics. Our results, however, reveal the advantages of using more advanced coefficients like CCC for detecting and studying more intricate molecular mechanisms that replicated in independent datasets. The application of CCC on larger compendia, such as recount3 [@pmid:34844637] with thousands of heterogeneous samples across different conditions, can reveal other potentially meaningful gene interactions. The single parameter of CCC, $k_{\\mathrm{max}}$, controls the maximum complexity of patterns found and also impacts the compute time. Our analysis suggested that $k_{\\mathrm{max}}=10$ was sufficient to identify both linear and more complex patterns in gene expression. A more comprehensive analysis of optimal values for this parameter could provide insights to adjust it for different applications or data types.\n"
     ]
    }
   ],
   "source": [
    "par0 = process_paragraph(orig_section_paragraphs[5])\n",
    "print(par0)"
   ]
  },
  {
   "cell_type": "code",
   "execution_count": 138,
   "id": "f8da7eba-dcac-4036-9be4-6b51fed928ed",
   "metadata": {
    "execution": {
     "iopub.execute_input": "2024-03-23T05:12:28.130944Z",
     "iopub.status.busy": "2024-03-23T05:12:28.130484Z",
     "iopub.status.idle": "2024-03-23T05:12:28.134070Z",
     "shell.execute_reply": "2024-03-23T05:12:28.133537Z"
    },
    "papermill": {
     "duration": 0.033771,
     "end_time": "2024-03-23T05:12:28.134841",
     "exception": false,
     "start_time": "2024-03-23T05:12:28.101070",
     "status": "completed"
    },
    "tags": []
   },
   "outputs": [
    {
     "name": "stdout",
     "output_type": "stream",
     "text": [
      "Our study has some limitations. We focused on a subset of genes to ensure manageable computation time. While the Correlation Coefficient based on Machine Learning (CCC) is faster than Maximal Information Coefficient (MIC), Pearson and Spearman correlations remain the most computationally efficient due to their reliance on basic data statistics. Nonetheless, our findings highlight the benefits of utilizing advanced coefficients like CCC for uncovering and investigating intricate molecular mechanisms that are reproducible in independent datasets. Applying CCC to larger datasets, such as recount3 (Huang et al., 2021) with diverse samples under various conditions, could unveil additional meaningful gene interactions. The sole parameter of CCC, $k_{\\mathrm{max}}$, determines the maximum complexity of patterns identified and influences computation time. Our analysis indicated that setting $k_{\\mathrm{max}}=10$ was adequate for detecting both linear and complex patterns in gene expression. Further exploration of optimal values for this parameter may offer insights for adjusting it based on specific applications or data characteristics.\n"
     ]
    }
   ],
   "source": [
    "par1 = process_paragraph(mod_section_paragraphs[8])\n",
    "print(par1)"
   ]
  },
  {
   "cell_type": "code",
   "execution_count": 139,
   "id": "66fcccb7-97ff-4ccc-80ae-6d841c9a4333",
   "metadata": {
    "execution": {
     "iopub.execute_input": "2024-03-23T05:12:28.194008Z",
     "iopub.status.busy": "2024-03-23T05:12:28.193500Z",
     "iopub.status.idle": "2024-03-23T05:12:28.196382Z",
     "shell.execute_reply": "2024-03-23T05:12:28.195878Z"
    },
    "papermill": {
     "duration": 0.033138,
     "end_time": "2024-03-23T05:12:28.197116",
     "exception": false,
     "start_time": "2024-03-23T05:12:28.163978",
     "status": "completed"
    },
    "tags": []
   },
   "outputs": [],
   "source": [
    "paragraph_matches.append(\n",
    "    (\n",
    "        section_name,\n",
    "        par0,\n",
    "        par1,\n",
    "    )\n",
    ")"
   ]
  },
  {
   "cell_type": "code",
   "execution_count": 140,
   "id": "1487d4c6-de99-4cae-857b-430b29f83e1a",
   "metadata": {
    "execution": {
     "iopub.execute_input": "2024-03-23T05:12:28.255884Z",
     "iopub.status.busy": "2024-03-23T05:12:28.255553Z",
     "iopub.status.idle": "2024-03-23T05:12:28.259179Z",
     "shell.execute_reply": "2024-03-23T05:12:28.258713Z"
    },
    "papermill": {
     "duration": 0.033757,
     "end_time": "2024-03-23T05:12:28.259927",
     "exception": false,
     "start_time": "2024-03-23T05:12:28.226170",
     "status": "completed"
    },
    "tags": []
   },
   "outputs": [
    {
     "data": {
      "text/plain": [
       "('discussion',\n",
       " 'Our analyses have some limitations. We worked on a sample with the top variable genes to keep computation time feasible. Although CCC is much faster than MIC, Pearson and Spearman are still the most computationally efficient since they only rely on simple data statistics. Our results, however, reveal the advantages of using more advanced coefficients like CCC for detecting and studying more intricate molecular mechanisms that replicated in independent datasets. The application of CCC on larger compendia, such as recount3 [@pmid:34844637] with thousands of heterogeneous samples across different conditions, can reveal other potentially meaningful gene interactions. The single parameter of CCC, $k_{\\\\mathrm{max}}$, controls the maximum complexity of patterns found and also impacts the compute time. Our analysis suggested that $k_{\\\\mathrm{max}}=10$ was sufficient to identify both linear and more complex patterns in gene expression. A more comprehensive analysis of optimal values for this parameter could provide insights to adjust it for different applications or data types.',\n",
       " 'Our study has some limitations. We focused on a subset of genes to ensure manageable computation time. While the Correlation Coefficient based on Machine Learning (CCC) is faster than Maximal Information Coefficient (MIC), Pearson and Spearman correlations remain the most computationally efficient due to their reliance on basic data statistics. Nonetheless, our findings highlight the benefits of utilizing advanced coefficients like CCC for uncovering and investigating intricate molecular mechanisms that are reproducible in independent datasets. Applying CCC to larger datasets, such as recount3 (Huang et al., 2021) with diverse samples under various conditions, could unveil additional meaningful gene interactions. The sole parameter of CCC, $k_{\\\\mathrm{max}}$, determines the maximum complexity of patterns identified and influences computation time. Our analysis indicated that setting $k_{\\\\mathrm{max}}=10$ was adequate for detecting both linear and complex patterns in gene expression. Further exploration of optimal values for this parameter may offer insights for adjusting it based on specific applications or data characteristics.')"
      ]
     },
     "metadata": {},
     "output_type": "display_data"
    }
   ],
   "source": [
    "display(paragraph_matches[-1])"
   ]
  },
  {
   "cell_type": "markdown",
   "id": "6490bb55-8004-4e13-963e-1baa8489f6ab",
   "metadata": {
    "editable": true,
    "papermill": {
     "duration": 0.061555,
     "end_time": "2024-03-23T05:12:28.350786",
     "exception": false,
     "start_time": "2024-03-23T05:12:28.289231",
     "status": "completed"
    },
    "slideshow": {
     "slide_type": ""
    },
    "tags": []
   },
   "source": [
    "####  Paragraph 05"
   ]
  },
  {
   "cell_type": "code",
   "execution_count": 141,
   "id": "86ade612-a79b-4270-99d5-b403b0272c17",
   "metadata": {
    "execution": {
     "iopub.execute_input": "2024-03-23T05:12:28.410933Z",
     "iopub.status.busy": "2024-03-23T05:12:28.410526Z",
     "iopub.status.idle": "2024-03-23T05:12:28.413968Z",
     "shell.execute_reply": "2024-03-23T05:12:28.413403Z"
    },
    "papermill": {
     "duration": 0.034587,
     "end_time": "2024-03-23T05:12:28.414767",
     "exception": false,
     "start_time": "2024-03-23T05:12:28.380180",
     "status": "completed"
    },
    "tags": []
   },
   "outputs": [
    {
     "name": "stdout",
     "output_type": "stream",
     "text": [
      "While linear and rank-based correlation coefficients are exceptionally fast to calculate, not all relevant patterns in biological datasets are linear. For example, patterns associated with sex as a biological variable are not apparent to the linear-only coefficients that we evaluated but are revealed by not-only-linear methods. Beyond sex differences, being able to use a method that inherently identifies patterns driven by other factors is likely to be desirable. Not-only-linear coefficients can also disentangle intricate yet relevant patterns from expression data alone that were replicated in models integrating different data modalities. CCC, in particular, is highly parallelizable, and we anticipate efficient GPU-based implementations that could make it even faster. The CCC is an efficient, next-generation correlation coefficient that is highly effective in transcriptome analyses and potentially useful in a broad range of other domains.\n"
     ]
    }
   ],
   "source": [
    "par0 = process_paragraph(orig_section_paragraphs[6])\n",
    "print(par0)"
   ]
  },
  {
   "cell_type": "code",
   "execution_count": 142,
   "id": "0affd988-bc27-498c-b4e6-d8073791510a",
   "metadata": {
    "execution": {
     "iopub.execute_input": "2024-03-23T05:12:28.474680Z",
     "iopub.status.busy": "2024-03-23T05:12:28.474341Z",
     "iopub.status.idle": "2024-03-23T05:12:28.477461Z",
     "shell.execute_reply": "2024-03-23T05:12:28.476971Z"
    },
    "papermill": {
     "duration": 0.03402,
     "end_time": "2024-03-23T05:12:28.478249",
     "exception": false,
     "start_time": "2024-03-23T05:12:28.444229",
     "status": "completed"
    },
    "tags": []
   },
   "outputs": [
    {
     "name": "stdout",
     "output_type": "stream",
     "text": [
      "While linear and rank-based correlation coefficients are quick to calculate, they may not capture all important patterns in biological datasets due to their linear nature. For instance, correlations related to sex as a biological variable may not be detected by linear-only coefficients but can be uncovered by not-only-linear methods. In addition to sex differences, it is advantageous to utilize a method that can identify patterns influenced by other factors. Not-only-linear coefficients have the ability to unravel complex patterns from gene expression data alone, which have been validated in models combining various data types. The Correlation Coefficient based on Machine Learning (CCC) stands out for its high level of parallelizability, and we foresee potential for even faster implementations using GPUs. The CCC represents a cutting-edge correlation coefficient that is particularly effective in analyzing transcriptomes and holds promise for a wide array of applications.\n"
     ]
    }
   ],
   "source": [
    "par1 = process_paragraph(mod_section_paragraphs[9])\n",
    "print(par1)"
   ]
  },
  {
   "cell_type": "code",
   "execution_count": 143,
   "id": "66a3ff5c-d563-4bbf-b900-e77fc94cd6bc",
   "metadata": {
    "execution": {
     "iopub.execute_input": "2024-03-23T05:12:28.538818Z",
     "iopub.status.busy": "2024-03-23T05:12:28.538228Z",
     "iopub.status.idle": "2024-03-23T05:12:28.541282Z",
     "shell.execute_reply": "2024-03-23T05:12:28.540761Z"
    },
    "papermill": {
     "duration": 0.034236,
     "end_time": "2024-03-23T05:12:28.542079",
     "exception": false,
     "start_time": "2024-03-23T05:12:28.507843",
     "status": "completed"
    },
    "tags": []
   },
   "outputs": [],
   "source": [
    "paragraph_matches.append(\n",
    "    (\n",
    "        section_name,\n",
    "        par0,\n",
    "        par1,\n",
    "    )\n",
    ")"
   ]
  },
  {
   "cell_type": "code",
   "execution_count": 144,
   "id": "be401e36-b2d9-4533-be76-cb1ba54f6ecb",
   "metadata": {
    "execution": {
     "iopub.execute_input": "2024-03-23T05:12:28.601842Z",
     "iopub.status.busy": "2024-03-23T05:12:28.601396Z",
     "iopub.status.idle": "2024-03-23T05:12:28.605140Z",
     "shell.execute_reply": "2024-03-23T05:12:28.604642Z"
    },
    "papermill": {
     "duration": 0.034227,
     "end_time": "2024-03-23T05:12:28.605877",
     "exception": false,
     "start_time": "2024-03-23T05:12:28.571650",
     "status": "completed"
    },
    "tags": []
   },
   "outputs": [
    {
     "data": {
      "text/plain": [
       "('discussion',\n",
       " 'While linear and rank-based correlation coefficients are exceptionally fast to calculate, not all relevant patterns in biological datasets are linear. For example, patterns associated with sex as a biological variable are not apparent to the linear-only coefficients that we evaluated but are revealed by not-only-linear methods. Beyond sex differences, being able to use a method that inherently identifies patterns driven by other factors is likely to be desirable. Not-only-linear coefficients can also disentangle intricate yet relevant patterns from expression data alone that were replicated in models integrating different data modalities. CCC, in particular, is highly parallelizable, and we anticipate efficient GPU-based implementations that could make it even faster. The CCC is an efficient, next-generation correlation coefficient that is highly effective in transcriptome analyses and potentially useful in a broad range of other domains.',\n",
       " 'While linear and rank-based correlation coefficients are quick to calculate, they may not capture all important patterns in biological datasets due to their linear nature. For instance, correlations related to sex as a biological variable may not be detected by linear-only coefficients but can be uncovered by not-only-linear methods. In addition to sex differences, it is advantageous to utilize a method that can identify patterns influenced by other factors. Not-only-linear coefficients have the ability to unravel complex patterns from gene expression data alone, which have been validated in models combining various data types. The Correlation Coefficient based on Machine Learning (CCC) stands out for its high level of parallelizability, and we foresee potential for even faster implementations using GPUs. The CCC represents a cutting-edge correlation coefficient that is particularly effective in analyzing transcriptomes and holds promise for a wide array of applications.')"
      ]
     },
     "metadata": {},
     "output_type": "display_data"
    }
   ],
   "source": [
    "display(paragraph_matches[-1])"
   ]
  },
  {
   "cell_type": "markdown",
   "id": "59e442fb-dfda-434d-b1d4-265fbe96ccfc",
   "metadata": {
    "editable": true,
    "papermill": {
     "duration": 0.028864,
     "end_time": "2024-03-23T05:12:28.664081",
     "exception": false,
     "start_time": "2024-03-23T05:12:28.635217",
     "status": "completed"
    },
    "slideshow": {
     "slide_type": ""
    },
    "tags": []
   },
   "source": [
    "## Methods (ccc)"
   ]
  },
  {
   "cell_type": "code",
   "execution_count": 145,
   "id": "42676dcc-e716-44d9-a957-db23dd90e123",
   "metadata": {
    "execution": {
     "iopub.execute_input": "2024-03-23T05:12:28.722510Z",
     "iopub.status.busy": "2024-03-23T05:12:28.722092Z",
     "iopub.status.idle": "2024-03-23T05:12:28.724659Z",
     "shell.execute_reply": "2024-03-23T05:12:28.724162Z"
    },
    "papermill": {
     "duration": 0.032513,
     "end_time": "2024-03-23T05:12:28.725346",
     "exception": false,
     "start_time": "2024-03-23T05:12:28.692833",
     "status": "completed"
    },
    "tags": []
   },
   "outputs": [],
   "source": [
    "section_name = \"methods\""
   ]
  },
  {
   "cell_type": "code",
   "execution_count": 146,
   "id": "8f280817-fdf2-447f-b74f-a496c7034555",
   "metadata": {
    "editable": true,
    "execution": {
     "iopub.execute_input": "2024-03-23T05:12:28.784332Z",
     "iopub.status.busy": "2024-03-23T05:12:28.783998Z",
     "iopub.status.idle": "2024-03-23T05:12:28.787275Z",
     "shell.execute_reply": "2024-03-23T05:12:28.786737Z"
    },
    "papermill": {
     "duration": 0.033308,
     "end_time": "2024-03-23T05:12:28.788038",
     "exception": false,
     "start_time": "2024-03-23T05:12:28.754730",
     "status": "completed"
    },
    "slideshow": {
     "slide_type": ""
    },
    "tags": []
   },
   "outputs": [
    {
     "name": "stdout",
     "output_type": "stream",
     "text": [
      "content/08.01.methods.ccc.md\n"
     ]
    }
   ],
   "source": [
    "pr_filename = pr_files[6].filename\n",
    "assert section_name in pr_filename\n",
    "assert \"ccc\" in pr_filename\n",
    "print(pr_filename)"
   ]
  },
  {
   "cell_type": "markdown",
   "id": "c4466db8-9485-49cc-a08f-dfdf243e1f06",
   "metadata": {
    "editable": true,
    "papermill": {
     "duration": 0.028795,
     "end_time": "2024-03-23T05:12:28.845813",
     "exception": false,
     "start_time": "2024-03-23T05:12:28.817018",
     "status": "completed"
    },
    "slideshow": {
     "slide_type": ""
    },
    "tags": []
   },
   "source": [
    "### Original"
   ]
  },
  {
   "cell_type": "code",
   "execution_count": 147,
   "id": "d28b84ac-727b-4412-8504-2cb1d9764a91",
   "metadata": {
    "execution": {
     "iopub.execute_input": "2024-03-23T05:12:28.904462Z",
     "iopub.status.busy": "2024-03-23T05:12:28.904105Z",
     "iopub.status.idle": "2024-03-23T05:12:29.057234Z",
     "shell.execute_reply": "2024-03-23T05:12:29.056624Z"
    },
    "papermill": {
     "duration": 0.183383,
     "end_time": "2024-03-23T05:12:29.058274",
     "exception": false,
     "start_time": "2024-03-23T05:12:28.874891",
     "status": "completed"
    },
    "tags": []
   },
   "outputs": [
    {
     "name": "stdout",
     "output_type": "stream",
     "text": [
      "## Methods\n",
      "\n",
      "The code needed to reproduce all of ou\n"
     ]
    }
   ],
   "source": [
    "# get content\n",
    "orig_section_content = repo.get_contents(pr_filename, pr_prev).decoded_content.decode(\n",
    "    \"utf-8\"\n",
    ")\n",
    "print(orig_section_content[:50])"
   ]
  },
  {
   "cell_type": "code",
   "execution_count": 148,
   "id": "18fe5c96-6270-45fe-8f3a-2da927318d82",
   "metadata": {
    "execution": {
     "iopub.execute_input": "2024-03-23T05:12:29.143004Z",
     "iopub.status.busy": "2024-03-23T05:12:29.142540Z",
     "iopub.status.idle": "2024-03-23T05:12:29.146341Z",
     "shell.execute_reply": "2024-03-23T05:12:29.145851Z"
    },
    "papermill": {
     "duration": 0.044986,
     "end_time": "2024-03-23T05:12:29.147033",
     "exception": false,
     "start_time": "2024-03-23T05:12:29.102047",
     "status": "completed"
    },
    "tags": []
   },
   "outputs": [
    {
     "data": {
      "text/plain": [
       "10"
      ]
     },
     "metadata": {},
     "output_type": "display_data"
    }
   ],
   "source": [
    "# split by paragraph\n",
    "orig_section_paragraphs = orig_section_content.split(\"\\n\\n\")\n",
    "display(len(orig_section_paragraphs))"
   ]
  },
  {
   "cell_type": "markdown",
   "id": "6066a4d2-2696-4e7d-9da4-d1818871259d",
   "metadata": {
    "editable": true,
    "papermill": {
     "duration": 0.028693,
     "end_time": "2024-03-23T05:12:29.204998",
     "exception": false,
     "start_time": "2024-03-23T05:12:29.176305",
     "status": "completed"
    },
    "slideshow": {
     "slide_type": ""
    },
    "tags": []
   },
   "source": [
    "### Modified"
   ]
  },
  {
   "cell_type": "code",
   "execution_count": 149,
   "id": "4e8d95f9-376b-450b-99d5-67891963f997",
   "metadata": {
    "execution": {
     "iopub.execute_input": "2024-03-23T05:12:29.264759Z",
     "iopub.status.busy": "2024-03-23T05:12:29.264223Z",
     "iopub.status.idle": "2024-03-23T05:12:29.450659Z",
     "shell.execute_reply": "2024-03-23T05:12:29.450071Z"
    },
    "papermill": {
     "duration": 0.217576,
     "end_time": "2024-03-23T05:12:29.451654",
     "exception": false,
     "start_time": "2024-03-23T05:12:29.234078",
     "status": "completed"
    },
    "tags": []
   },
   "outputs": [
    {
     "name": "stdout",
     "output_type": "stream",
     "text": [
      "## Methods\n",
      "\n",
      "The code needed to reproduce all of ou\n"
     ]
    }
   ],
   "source": [
    "# get content\n",
    "mod_section_content = repo.get_contents(pr_filename, pr_curr).decoded_content.decode(\n",
    "    \"utf-8\"\n",
    ")\n",
    "print(mod_section_content[:50])"
   ]
  },
  {
   "cell_type": "code",
   "execution_count": 150,
   "id": "6c0d91e9-b334-4b74-9ea5-7080c5e7fa6d",
   "metadata": {
    "execution": {
     "iopub.execute_input": "2024-03-23T05:12:29.537281Z",
     "iopub.status.busy": "2024-03-23T05:12:29.536846Z",
     "iopub.status.idle": "2024-03-23T05:12:29.540606Z",
     "shell.execute_reply": "2024-03-23T05:12:29.540123Z"
    },
    "papermill": {
     "duration": 0.045708,
     "end_time": "2024-03-23T05:12:29.541301",
     "exception": false,
     "start_time": "2024-03-23T05:12:29.495593",
     "status": "completed"
    },
    "tags": []
   },
   "outputs": [
    {
     "data": {
      "text/plain": [
       "19"
      ]
     },
     "metadata": {},
     "output_type": "display_data"
    }
   ],
   "source": [
    "# split by paragraph\n",
    "mod_section_paragraphs = mod_section_content.split(\"\\n\\n\")\n",
    "display(len(mod_section_paragraphs))"
   ]
  },
  {
   "cell_type": "markdown",
   "id": "f1da0d8d-adc4-4403-be49-4385ea781ac8",
   "metadata": {
    "editable": true,
    "papermill": {
     "duration": 0.02848,
     "end_time": "2024-03-23T05:12:29.598588",
     "exception": false,
     "start_time": "2024-03-23T05:12:29.570108",
     "status": "completed"
    },
    "slideshow": {
     "slide_type": ""
    },
    "tags": []
   },
   "source": [
    "### Match"
   ]
  },
  {
   "cell_type": "code",
   "execution_count": 151,
   "id": "53720cd3-8e0a-4d31-8883-c206026f9e5f",
   "metadata": {
    "execution": {
     "iopub.execute_input": "2024-03-23T05:12:29.657164Z",
     "iopub.status.busy": "2024-03-23T05:12:29.656719Z",
     "iopub.status.idle": "2024-03-23T05:12:29.660277Z",
     "shell.execute_reply": "2024-03-23T05:12:29.659788Z"
    },
    "papermill": {
     "duration": 0.033637,
     "end_time": "2024-03-23T05:12:29.661011",
     "exception": false,
     "start_time": "2024-03-23T05:12:29.627374",
     "status": "completed"
    },
    "tags": []
   },
   "outputs": [
    {
     "data": {
      "text/plain": [
       "'## Methods'"
      ]
     },
     "execution_count": 151,
     "metadata": {},
     "output_type": "execute_result"
    }
   ],
   "source": [
    "orig_section_paragraphs[0]"
   ]
  },
  {
   "cell_type": "code",
   "execution_count": 152,
   "id": "2638f377-a44a-4d05-8fca-bfa9383ca736",
   "metadata": {
    "execution": {
     "iopub.execute_input": "2024-03-23T05:12:29.719528Z",
     "iopub.status.busy": "2024-03-23T05:12:29.719203Z",
     "iopub.status.idle": "2024-03-23T05:12:29.722625Z",
     "shell.execute_reply": "2024-03-23T05:12:29.722135Z"
    },
    "papermill": {
     "duration": 0.0335,
     "end_time": "2024-03-23T05:12:29.723353",
     "exception": false,
     "start_time": "2024-03-23T05:12:29.689853",
     "status": "completed"
    },
    "tags": []
   },
   "outputs": [
    {
     "data": {
      "text/plain": [
       "'## Methods'"
      ]
     },
     "execution_count": 152,
     "metadata": {},
     "output_type": "execute_result"
    }
   ],
   "source": [
    "mod_section_paragraphs[0]"
   ]
  },
  {
   "cell_type": "markdown",
   "id": "639829e1-1463-41b5-b91d-b2bdd319e04e",
   "metadata": {
    "editable": true,
    "papermill": {
     "duration": 0.029047,
     "end_time": "2024-03-23T05:12:29.781493",
     "exception": false,
     "start_time": "2024-03-23T05:12:29.752446",
     "status": "completed"
    },
    "slideshow": {
     "slide_type": ""
    },
    "tags": []
   },
   "source": [
    "####  Paragraph 00"
   ]
  },
  {
   "cell_type": "code",
   "execution_count": 153,
   "id": "bde47e33-80ca-4c52-a420-868e3721fdf3",
   "metadata": {
    "execution": {
     "iopub.execute_input": "2024-03-23T05:12:29.840459Z",
     "iopub.status.busy": "2024-03-23T05:12:29.840077Z",
     "iopub.status.idle": "2024-03-23T05:12:29.843405Z",
     "shell.execute_reply": "2024-03-23T05:12:29.842883Z"
    },
    "papermill": {
     "duration": 0.03384,
     "end_time": "2024-03-23T05:12:29.844111",
     "exception": false,
     "start_time": "2024-03-23T05:12:29.810271",
     "status": "completed"
    },
    "tags": []
   },
   "outputs": [
    {
     "name": "stdout",
     "output_type": "stream",
     "text": [
      "The Clustermatch Correlation Coefficient (CCC) computes a similarity value $c \\in \\left[0,1\\right]$ between any pair of numerical or categorical features/variables $\\mathbf{x}$ and $\\mathbf{y}$ measured on $n$ objects. CCC assumes that if two features $\\mathbf{x}$ and $\\mathbf{y}$ are similar, then the partitioning by clustering of the $n$ objects using each feature separately should match. For example, given $\\mathbf{x}=(11, 27, 32, 40)$ and $\\mathbf{y}=10x=(110, 270, 320, 400)$, where $n=4$, partitioning each variable into two clusters ($k=2$) using their medians (29.5 for $\\mathbf{x}$ and 295 for $\\mathbf{y}$) would result in partition $\\Omega^{\\mathbf{x}}_{k=2}=(1, 1, 2, 2)$ for $\\mathbf{x}$, and partition $\\Omega^{\\mathbf{y}}_{k=2}=(1, 1, 2, 2)$ for $\\mathbf{y}$. Then, the agreement between $\\Omega^{\\mathbf{x}}_{k=2}$ and $\\Omega^{\\mathbf{y}}_{k=2}$ can be computed using any measure of similarity between partitions, like the adjusted Rand index (ARI) [@doi:10.1007/BF01908075]. In that case, it will return the maximum value (1.0 in the case of ARI). Note that the same value of $k$ might not be the right one to find a relationship between any two features. For instance, in the quadratic example in Figure @fig:datasets_rel, CCC returns a value of 0.36 (grouping objects in four clusters using one feature and two using the other). If we used only two clusters instead, CCC would return a similarity value of 0.02. Therefore, the CCC algorithm (shown below) searches for this optimal number of clusters given a maximum $k$, which is its single parameter $k_{\\mathrm{max}}$.\n"
     ]
    }
   ],
   "source": [
    "par0 = process_paragraph(orig_section_paragraphs[3])\n",
    "print(par0)"
   ]
  },
  {
   "cell_type": "code",
   "execution_count": 154,
   "id": "a613037a-a64e-43cf-abda-cf0a4a736502",
   "metadata": {
    "execution": {
     "iopub.execute_input": "2024-03-23T05:12:29.903158Z",
     "iopub.status.busy": "2024-03-23T05:12:29.902835Z",
     "iopub.status.idle": "2024-03-23T05:12:29.906188Z",
     "shell.execute_reply": "2024-03-23T05:12:29.905674Z"
    },
    "papermill": {
     "duration": 0.033633,
     "end_time": "2024-03-23T05:12:29.906923",
     "exception": false,
     "start_time": "2024-03-23T05:12:29.873290",
     "status": "completed"
    },
    "tags": []
   },
   "outputs": [
    {
     "name": "stdout",
     "output_type": "stream",
     "text": [
      "The Clustermatch Correlation Coefficient (CCC) calculates a similarity value $c \\in \\left[0,1\\right]$ between any pair of numerical or categorical features/variables $\\mathbf{x}$ and $\\mathbf{y}$ measured on $n$ objects. CCC operates under the assumption that if two features $\\mathbf{x}$ and $\\mathbf{y}$ are similar, then clustering the $n$ objects using each feature separately should result in matching partitions. For example, consider $\\mathbf{x}=(11, 27, 32, 40)$ and $\\mathbf{y}=10\\mathbf{x}=(110, 270, 320, 400)$, where $n=4$. Partitioning each variable into two clusters ($k=2$) based on their medians (29.5 for $\\mathbf{x}$ and 295 for $\\mathbf{y}$) yields partition $\\Omega^{\\mathbf{x}}_{k=2}=(1, 1, 2, 2)$ for $\\mathbf{x}$ and partition $\\Omega^{\\mathbf{y}}_{k=2}=(1, 1, 2, 2)$ for $\\mathbf{y}$. The agreement between $\\Omega^{\\mathbf{x}}_{k=2}$ and $\\Omega^{\\mathbf{y}}_{k=2}$ can be assessed using a similarity measure for partitions, such as the adjusted Rand index (ARI) [@doi:10.1007/BF01908075], which would yield a maximum value of 1.0 in this scenario. It is important to note that the choice of $k$ may vary depending on the relationship between the features. For example, in the quadratic case illustrated in Figure @fig:datasets_rel, CCC returns a value of 0.36 (grouping objects into four clusters using one feature and two using the other). If only two clusters were utilized, CCC would yield a similarity value of 0.02. Therefore, the CCC algorithm (described below) aims to find the optimal number of clusters within a specified maximum $k$, denoted as its single parameter $k_{\\mathrm{max}}$.\n"
     ]
    }
   ],
   "source": [
    "par1 = (\n",
    "    process_paragraph(mod_section_paragraphs[3])\n",
    "    .replace(\"$$\", \"\\n$$\")\n",
    "    .replace(\"\\\\text\", \"\\n\\\\text\")\n",
    ")\n",
    "print(par1)"
   ]
  },
  {
   "cell_type": "code",
   "execution_count": 155,
   "id": "fd5ca3b4-323c-4abf-8cb9-9a9773f4aed1",
   "metadata": {
    "execution": {
     "iopub.execute_input": "2024-03-23T05:12:29.966291Z",
     "iopub.status.busy": "2024-03-23T05:12:29.965949Z",
     "iopub.status.idle": "2024-03-23T05:12:29.968660Z",
     "shell.execute_reply": "2024-03-23T05:12:29.968162Z"
    },
    "papermill": {
     "duration": 0.033241,
     "end_time": "2024-03-23T05:12:29.969362",
     "exception": false,
     "start_time": "2024-03-23T05:12:29.936121",
     "status": "completed"
    },
    "tags": []
   },
   "outputs": [],
   "source": [
    "paragraph_matches.append(\n",
    "    (\n",
    "        section_name,\n",
    "        par0,\n",
    "        par1,\n",
    "    )\n",
    ")"
   ]
  },
  {
   "cell_type": "code",
   "execution_count": 156,
   "id": "1fb17a25-e891-4ae1-a04f-a58e8eb33558",
   "metadata": {
    "execution": {
     "iopub.execute_input": "2024-03-23T05:12:30.028148Z",
     "iopub.status.busy": "2024-03-23T05:12:30.027708Z",
     "iopub.status.idle": "2024-03-23T05:12:30.031367Z",
     "shell.execute_reply": "2024-03-23T05:12:30.030904Z"
    },
    "papermill": {
     "duration": 0.033799,
     "end_time": "2024-03-23T05:12:30.032060",
     "exception": false,
     "start_time": "2024-03-23T05:12:29.998261",
     "status": "completed"
    },
    "tags": []
   },
   "outputs": [
    {
     "data": {
      "text/plain": [
       "('methods',\n",
       " 'The Clustermatch Correlation Coefficient (CCC) computes a similarity value $c \\\\in \\\\left[0,1\\\\right]$ between any pair of numerical or categorical features/variables $\\\\mathbf{x}$ and $\\\\mathbf{y}$ measured on $n$ objects. CCC assumes that if two features $\\\\mathbf{x}$ and $\\\\mathbf{y}$ are similar, then the partitioning by clustering of the $n$ objects using each feature separately should match. For example, given $\\\\mathbf{x}=(11, 27, 32, 40)$ and $\\\\mathbf{y}=10x=(110, 270, 320, 400)$, where $n=4$, partitioning each variable into two clusters ($k=2$) using their medians (29.5 for $\\\\mathbf{x}$ and 295 for $\\\\mathbf{y}$) would result in partition $\\\\Omega^{\\\\mathbf{x}}_{k=2}=(1, 1, 2, 2)$ for $\\\\mathbf{x}$, and partition $\\\\Omega^{\\\\mathbf{y}}_{k=2}=(1, 1, 2, 2)$ for $\\\\mathbf{y}$. Then, the agreement between $\\\\Omega^{\\\\mathbf{x}}_{k=2}$ and $\\\\Omega^{\\\\mathbf{y}}_{k=2}$ can be computed using any measure of similarity between partitions, like the adjusted Rand index (ARI) [@doi:10.1007/BF01908075]. In that case, it will return the maximum value (1.0 in the case of ARI). Note that the same value of $k$ might not be the right one to find a relationship between any two features. For instance, in the quadratic example in Figure @fig:datasets_rel, CCC returns a value of 0.36 (grouping objects in four clusters using one feature and two using the other). If we used only two clusters instead, CCC would return a similarity value of 0.02. Therefore, the CCC algorithm (shown below) searches for this optimal number of clusters given a maximum $k$, which is its single parameter $k_{\\\\mathrm{max}}$.',\n",
       " 'The Clustermatch Correlation Coefficient (CCC) calculates a similarity value $c \\\\in \\\\left[0,1\\\\right]$ between any pair of numerical or categorical features/variables $\\\\mathbf{x}$ and $\\\\mathbf{y}$ measured on $n$ objects. CCC operates under the assumption that if two features $\\\\mathbf{x}$ and $\\\\mathbf{y}$ are similar, then clustering the $n$ objects using each feature separately should result in matching partitions. For example, consider $\\\\mathbf{x}=(11, 27, 32, 40)$ and $\\\\mathbf{y}=10\\\\mathbf{x}=(110, 270, 320, 400)$, where $n=4$. Partitioning each variable into two clusters ($k=2$) based on their medians (29.5 for $\\\\mathbf{x}$ and 295 for $\\\\mathbf{y}$) yields partition $\\\\Omega^{\\\\mathbf{x}}_{k=2}=(1, 1, 2, 2)$ for $\\\\mathbf{x}$ and partition $\\\\Omega^{\\\\mathbf{y}}_{k=2}=(1, 1, 2, 2)$ for $\\\\mathbf{y}$. The agreement between $\\\\Omega^{\\\\mathbf{x}}_{k=2}$ and $\\\\Omega^{\\\\mathbf{y}}_{k=2}$ can be assessed using a similarity measure for partitions, such as the adjusted Rand index (ARI) [@doi:10.1007/BF01908075], which would yield a maximum value of 1.0 in this scenario. It is important to note that the choice of $k$ may vary depending on the relationship between the features. For example, in the quadratic case illustrated in Figure @fig:datasets_rel, CCC returns a value of 0.36 (grouping objects into four clusters using one feature and two using the other). If only two clusters were utilized, CCC would yield a similarity value of 0.02. Therefore, the CCC algorithm (described below) aims to find the optimal number of clusters within a specified maximum $k$, denoted as its single parameter $k_{\\\\mathrm{max}}$.')"
      ]
     },
     "metadata": {},
     "output_type": "display_data"
    }
   ],
   "source": [
    "display(paragraph_matches[-1])"
   ]
  },
  {
   "cell_type": "markdown",
   "id": "626a2445-2b50-4564-8805-435db74bd47a",
   "metadata": {
    "editable": true,
    "papermill": {
     "duration": 0.02906,
     "end_time": "2024-03-23T05:12:30.090518",
     "exception": false,
     "start_time": "2024-03-23T05:12:30.061458",
     "status": "completed"
    },
    "slideshow": {
     "slide_type": ""
    },
    "tags": []
   },
   "source": [
    "####  Paragraph 01"
   ]
  },
  {
   "cell_type": "code",
   "execution_count": 157,
   "id": "c96448ac-3d15-40aa-8b1d-9d348cb46b46",
   "metadata": {
    "execution": {
     "iopub.execute_input": "2024-03-23T05:12:30.150281Z",
     "iopub.status.busy": "2024-03-23T05:12:30.149846Z",
     "iopub.status.idle": "2024-03-23T05:12:30.152952Z",
     "shell.execute_reply": "2024-03-23T05:12:30.152440Z"
    },
    "papermill": {
     "duration": 0.03386,
     "end_time": "2024-03-23T05:12:30.153647",
     "exception": false,
     "start_time": "2024-03-23T05:12:30.119787",
     "status": "completed"
    },
    "tags": []
   },
   "outputs": [
    {
     "name": "stdout",
     "output_type": "stream",
     "text": [
      "The main function of the algorithm, `ccc`, generates a list of partitionings $\\Omega^{\\mathbf{x}}$ and $\\Omega^{\\mathbf{y}}$ (lines 14 and 15), for each feature $\\mathbf{x}$ and $\\mathbf{y}$. Then, it computes the ARI between each partition in $\\Omega^{\\mathbf{x}}$ and $\\Omega^{\\mathbf{y}}$ (line 16), and then it keeps the pair that generates the maximum ARI. Finally, since ARI does not have a lower bound (it could return negative values, which in our case are not meaningful), CCC returns only values between 0 and 1 (line 17).\n"
     ]
    }
   ],
   "source": [
    "par0 = process_paragraph(orig_section_paragraphs[5])\n",
    "print(par0)"
   ]
  },
  {
   "cell_type": "code",
   "execution_count": 158,
   "id": "06769dc3-7e49-4f72-8b19-9e71798ddf90",
   "metadata": {
    "execution": {
     "iopub.execute_input": "2024-03-23T05:12:30.213128Z",
     "iopub.status.busy": "2024-03-23T05:12:30.212767Z",
     "iopub.status.idle": "2024-03-23T05:12:30.215997Z",
     "shell.execute_reply": "2024-03-23T05:12:30.215479Z"
    },
    "papermill": {
     "duration": 0.03376,
     "end_time": "2024-03-23T05:12:30.216722",
     "exception": false,
     "start_time": "2024-03-23T05:12:30.182962",
     "status": "completed"
    },
    "tags": []
   },
   "outputs": [
    {
     "name": "stdout",
     "output_type": "stream",
     "text": [
      "The primary function of the algorithm, `ccc`, is to generate a list of partitionings $\\Omega^{\\mathbf{x}}$ and $\\Omega^{\\mathbf{y}}$ (lines 14 and 15) for each feature $\\mathbf{x}$ and $\\mathbf{y}$. Subsequently, the algorithm computes the Adjusted Rand Index (ARI) between each partition in $\\Omega^{\\mathbf{x}}$ and $\\Omega^{\\mathbf{y}}$ (line 16) and retains the pair that yields the maximum ARI. Since ARI does not have a lower bound (it could potentially return negative values, which are not meaningful in this context), CCC only outputs values between 0 and 1 (line 17).\n"
     ]
    }
   ],
   "source": [
    "par1 = process_paragraph(\n",
    "    mod_section_paragraphs[9]\n",
    ")  # .replace(\"$$\", \"\\n$$\").replace(\"\\\\text\", \"\\n\\\\text\")\n",
    "print(par1)"
   ]
  },
  {
   "cell_type": "code",
   "execution_count": 159,
   "id": "33cc1054-8364-43af-8406-29f7484cb270",
   "metadata": {
    "execution": {
     "iopub.execute_input": "2024-03-23T05:12:30.276618Z",
     "iopub.status.busy": "2024-03-23T05:12:30.276287Z",
     "iopub.status.idle": "2024-03-23T05:12:30.279002Z",
     "shell.execute_reply": "2024-03-23T05:12:30.278517Z"
    },
    "papermill": {
     "duration": 0.033428,
     "end_time": "2024-03-23T05:12:30.279684",
     "exception": false,
     "start_time": "2024-03-23T05:12:30.246256",
     "status": "completed"
    },
    "tags": []
   },
   "outputs": [],
   "source": [
    "paragraph_matches.append(\n",
    "    (\n",
    "        section_name,\n",
    "        par0,\n",
    "        par1,\n",
    "    )\n",
    ")"
   ]
  },
  {
   "cell_type": "code",
   "execution_count": 160,
   "id": "d6057c60-1a37-4785-a2c4-dbd32d55eac1",
   "metadata": {
    "execution": {
     "iopub.execute_input": "2024-03-23T05:12:30.339190Z",
     "iopub.status.busy": "2024-03-23T05:12:30.338765Z",
     "iopub.status.idle": "2024-03-23T05:12:30.342381Z",
     "shell.execute_reply": "2024-03-23T05:12:30.341914Z"
    },
    "papermill": {
     "duration": 0.034129,
     "end_time": "2024-03-23T05:12:30.343078",
     "exception": false,
     "start_time": "2024-03-23T05:12:30.308949",
     "status": "completed"
    },
    "tags": []
   },
   "outputs": [
    {
     "data": {
      "text/plain": [
       "('methods',\n",
       " 'The main function of the algorithm, `ccc`, generates a list of partitionings $\\\\Omega^{\\\\mathbf{x}}$ and $\\\\Omega^{\\\\mathbf{y}}$ (lines 14 and 15), for each feature $\\\\mathbf{x}$ and $\\\\mathbf{y}$. Then, it computes the ARI between each partition in $\\\\Omega^{\\\\mathbf{x}}$ and $\\\\Omega^{\\\\mathbf{y}}$ (line 16), and then it keeps the pair that generates the maximum ARI. Finally, since ARI does not have a lower bound (it could return negative values, which in our case are not meaningful), CCC returns only values between 0 and 1 (line 17).',\n",
       " 'The primary function of the algorithm, `ccc`, is to generate a list of partitionings $\\\\Omega^{\\\\mathbf{x}}$ and $\\\\Omega^{\\\\mathbf{y}}$ (lines 14 and 15) for each feature $\\\\mathbf{x}$ and $\\\\mathbf{y}$. Subsequently, the algorithm computes the Adjusted Rand Index (ARI) between each partition in $\\\\Omega^{\\\\mathbf{x}}$ and $\\\\Omega^{\\\\mathbf{y}}$ (line 16) and retains the pair that yields the maximum ARI. Since ARI does not have a lower bound (it could potentially return negative values, which are not meaningful in this context), CCC only outputs values between 0 and 1 (line 17).')"
      ]
     },
     "metadata": {},
     "output_type": "display_data"
    }
   ],
   "source": [
    "display(paragraph_matches[-1])"
   ]
  },
  {
   "cell_type": "markdown",
   "id": "c9818db3-fe11-4d06-82b7-e7cd5a83b5b9",
   "metadata": {
    "editable": true,
    "papermill": {
     "duration": 0.029378,
     "end_time": "2024-03-23T05:12:30.402269",
     "exception": false,
     "start_time": "2024-03-23T05:12:30.372891",
     "status": "completed"
    },
    "slideshow": {
     "slide_type": ""
    },
    "tags": []
   },
   "source": [
    "####  Paragraph 02"
   ]
  },
  {
   "cell_type": "code",
   "execution_count": 161,
   "id": "bfe91365-6b1a-49f1-aad9-a2afb9cea749",
   "metadata": {
    "execution": {
     "iopub.execute_input": "2024-03-23T05:12:30.462157Z",
     "iopub.status.busy": "2024-03-23T05:12:30.461822Z",
     "iopub.status.idle": "2024-03-23T05:12:30.464855Z",
     "shell.execute_reply": "2024-03-23T05:12:30.464351Z"
    },
    "papermill": {
     "duration": 0.033709,
     "end_time": "2024-03-23T05:12:30.465606",
     "exception": false,
     "start_time": "2024-03-23T05:12:30.431897",
     "status": "completed"
    },
    "tags": []
   },
   "outputs": [
    {
     "name": "stdout",
     "output_type": "stream",
     "text": [
      "Interestingly, since CCC only needs a pair of partitions to compute a similarity value, any type of feature that can be used to perform clustering/grouping is supported. If the feature is numerical (lines 2 to 5 in the `get_partitions` function), then quantiles are used for clustering (for example, the median generates $k=2$ clusters of objects), from $k=2$ to $k=k_{\\mathrm{max}}$. If the feature is categorical (lines 7 to 9), the categories are used to group objects together. Consequently, since features are internally categorized into clusters, numerical and categorical variables can be naturally integrated since clusters do not need an order.\n"
     ]
    }
   ],
   "source": [
    "par0 = process_paragraph(orig_section_paragraphs[6])\n",
    "print(par0)"
   ]
  },
  {
   "cell_type": "code",
   "execution_count": 162,
   "id": "dcaae92f-3c45-49dc-ba24-2dc98c3c8e15",
   "metadata": {
    "execution": {
     "iopub.execute_input": "2024-03-23T05:12:30.525184Z",
     "iopub.status.busy": "2024-03-23T05:12:30.524777Z",
     "iopub.status.idle": "2024-03-23T05:12:30.527938Z",
     "shell.execute_reply": "2024-03-23T05:12:30.527428Z"
    },
    "papermill": {
     "duration": 0.033772,
     "end_time": "2024-03-23T05:12:30.528667",
     "exception": false,
     "start_time": "2024-03-23T05:12:30.494895",
     "status": "completed"
    },
    "tags": []
   },
   "outputs": [
    {
     "name": "stdout",
     "output_type": "stream",
     "text": [
      "Interestingly, the Correlation Coefficient Calculation (CCC) only requires a pair of partitions to calculate a similarity value, making it compatible with any type of feature that can be utilized for clustering or grouping. When the feature is numerical (lines 2 to 5 in the `get_partitions` function), quantiles are employed for clustering. For example, the median generates $k=2$ clusters of objects, with the number of clusters ranging from $k=2$ to $k=k_{\\mathrm{max}}$. On the other hand, if the feature is categorical (lines 7 to 9), the categories are utilized to group objects together. As a result, numerical and categorical variables can be seamlessly integrated since features are internally categorized into clusters, and clusters do not require an order.\n"
     ]
    }
   ],
   "source": [
    "par1 = process_paragraph(\n",
    "    mod_section_paragraphs[11]\n",
    ")  # .replace(\"$$\", \"\\n$$\").replace(\"\\\\text\", \"\\n\\\\text\")\n",
    "print(par1)"
   ]
  },
  {
   "cell_type": "code",
   "execution_count": 163,
   "id": "f43ab221-c1c5-45e3-8a44-af21ca74a69c",
   "metadata": {
    "execution": {
     "iopub.execute_input": "2024-03-23T05:12:30.588651Z",
     "iopub.status.busy": "2024-03-23T05:12:30.588211Z",
     "iopub.status.idle": "2024-03-23T05:12:30.591007Z",
     "shell.execute_reply": "2024-03-23T05:12:30.590501Z"
    },
    "papermill": {
     "duration": 0.033363,
     "end_time": "2024-03-23T05:12:30.591749",
     "exception": false,
     "start_time": "2024-03-23T05:12:30.558386",
     "status": "completed"
    },
    "tags": []
   },
   "outputs": [],
   "source": [
    "paragraph_matches.append(\n",
    "    (\n",
    "        section_name,\n",
    "        par0,\n",
    "        par1,\n",
    "    )\n",
    ")"
   ]
  },
  {
   "cell_type": "code",
   "execution_count": 164,
   "id": "cb5e98ce-ae69-47da-a99c-ced5b15c0320",
   "metadata": {
    "execution": {
     "iopub.execute_input": "2024-03-23T05:12:30.679088Z",
     "iopub.status.busy": "2024-03-23T05:12:30.678653Z",
     "iopub.status.idle": "2024-03-23T05:12:30.682260Z",
     "shell.execute_reply": "2024-03-23T05:12:30.681783Z"
    },
    "papermill": {
     "duration": 0.034782,
     "end_time": "2024-03-23T05:12:30.682975",
     "exception": false,
     "start_time": "2024-03-23T05:12:30.648193",
     "status": "completed"
    },
    "tags": []
   },
   "outputs": [
    {
     "data": {
      "text/plain": [
       "('methods',\n",
       " 'Interestingly, since CCC only needs a pair of partitions to compute a similarity value, any type of feature that can be used to perform clustering/grouping is supported. If the feature is numerical (lines 2 to 5 in the `get_partitions` function), then quantiles are used for clustering (for example, the median generates $k=2$ clusters of objects), from $k=2$ to $k=k_{\\\\mathrm{max}}$. If the feature is categorical (lines 7 to 9), the categories are used to group objects together. Consequently, since features are internally categorized into clusters, numerical and categorical variables can be naturally integrated since clusters do not need an order.',\n",
       " 'Interestingly, the Correlation Coefficient Calculation (CCC) only requires a pair of partitions to calculate a similarity value, making it compatible with any type of feature that can be utilized for clustering or grouping. When the feature is numerical (lines 2 to 5 in the `get_partitions` function), quantiles are employed for clustering. For example, the median generates $k=2$ clusters of objects, with the number of clusters ranging from $k=2$ to $k=k_{\\\\mathrm{max}}$. On the other hand, if the feature is categorical (lines 7 to 9), the categories are utilized to group objects together. As a result, numerical and categorical variables can be seamlessly integrated since features are internally categorized into clusters, and clusters do not require an order.')"
      ]
     },
     "metadata": {},
     "output_type": "display_data"
    }
   ],
   "source": [
    "display(paragraph_matches[-1])"
   ]
  },
  {
   "cell_type": "markdown",
   "id": "a18b3948-644c-4f26-91b5-5ffca2a3ea11",
   "metadata": {
    "editable": true,
    "papermill": {
     "duration": 0.029895,
     "end_time": "2024-03-23T05:12:30.742791",
     "exception": false,
     "start_time": "2024-03-23T05:12:30.712896",
     "status": "completed"
    },
    "slideshow": {
     "slide_type": ""
    },
    "tags": []
   },
   "source": [
    "####  Paragraph 03"
   ]
  },
  {
   "cell_type": "code",
   "execution_count": 165,
   "id": "a652e5d5-a65c-4412-b751-34ce3eacc102",
   "metadata": {
    "execution": {
     "iopub.execute_input": "2024-03-23T05:12:30.802861Z",
     "iopub.status.busy": "2024-03-23T05:12:30.802519Z",
     "iopub.status.idle": "2024-03-23T05:12:30.805585Z",
     "shell.execute_reply": "2024-03-23T05:12:30.805076Z"
    },
    "papermill": {
     "duration": 0.033962,
     "end_time": "2024-03-23T05:12:30.806368",
     "exception": false,
     "start_time": "2024-03-23T05:12:30.772406",
     "status": "completed"
    },
    "tags": []
   },
   "outputs": [
    {
     "name": "stdout",
     "output_type": "stream",
     "text": [
      "For all our analyses we used $k_{\\mathrm{max}}=10$. This means that for each gene pair, 18 partitions are generated (9 for each gene, from $k=2$ to $k=10$), and 81 ARI comparisons are performed. Smaller values of $k_{\\mathrm{max}}$ can reduce computation time, although at the expense of missing more complex/general relationships. Our examples in Figure @fig:datasets_rel suggest that using $k_{\\mathrm{max}}=2$ would force CCC to find linear-only patterns, which could be a valid use case scenario where only this kind of relationships are desired. In addition, $k_{\\mathrm{max}}=2$ implies that only two partitions are generated, and only one ARI comparison is performed. In this regard, our Python implementation of CCC provides flexibility in specifying $k_{\\mathrm{max}}$. For instance, instead of the maximum $k$ (an integer), the parameter could be a custom list of integers: for example, `[2, 5, 10]` will partition the data into two, five and ten clusters.\n"
     ]
    }
   ],
   "source": [
    "par0 = process_paragraph(orig_section_paragraphs[7])\n",
    "print(par0)"
   ]
  },
  {
   "cell_type": "code",
   "execution_count": 166,
   "id": "a7c95523-893b-442c-85ea-674524be26c8",
   "metadata": {
    "execution": {
     "iopub.execute_input": "2024-03-23T05:12:30.866884Z",
     "iopub.status.busy": "2024-03-23T05:12:30.866510Z",
     "iopub.status.idle": "2024-03-23T05:12:30.869741Z",
     "shell.execute_reply": "2024-03-23T05:12:30.869243Z"
    },
    "papermill": {
     "duration": 0.034435,
     "end_time": "2024-03-23T05:12:30.870470",
     "exception": false,
     "start_time": "2024-03-23T05:12:30.836035",
     "status": "completed"
    },
    "tags": []
   },
   "outputs": [
    {
     "name": "stdout",
     "output_type": "stream",
     "text": [
      "For all our analyses, we utilized $k_{\\mathrm{max}}=10$. This implies that 18 partitions are generated for each gene pair (9 for each gene, ranging from $k=2$ to $k=10$), leading to 81 Adjusted Rand Index (ARI) comparisons. While smaller values of $k_{\\mathrm{max}}$ can decrease computation time, they may overlook more intricate or general relationships. Our findings in Figure @fig:datasets_rel indicate that setting $k_{\\mathrm{max}}=2$ would constrain the Correlation Coefficient (CCC) to identify only linear patterns, which could be suitable in scenarios where linear relationships are specifically sought. Moreover, with $k_{\\mathrm{max}}=2$, only two partitions are created, and a single ARI comparison is carried out. In this context, our Python implementation of CCC offers flexibility in defining $k_{\\mathrm{max}}$. For example, instead of a maximum $k$ value (an integer), the parameter could be a customized list of integers; for instance, `[2, 5, 10]` would partition the data into two, five, and ten clusters.\n"
     ]
    }
   ],
   "source": [
    "par1 = process_paragraph(mod_section_paragraphs[15]).replace(\n",
    "    \"$$\", \"\\n$$\"\n",
    ")  # .replace(\"\\\\text\\{LLM\", \"\\n\\\\text\\{LLM\")\n",
    "print(par1)"
   ]
  },
  {
   "cell_type": "code",
   "execution_count": 167,
   "id": "e06c1ab6-bf77-40ee-af24-0fbd08388bd4",
   "metadata": {
    "execution": {
     "iopub.execute_input": "2024-03-23T05:12:30.930467Z",
     "iopub.status.busy": "2024-03-23T05:12:30.930134Z",
     "iopub.status.idle": "2024-03-23T05:12:30.932808Z",
     "shell.execute_reply": "2024-03-23T05:12:30.932313Z"
    },
    "papermill": {
     "duration": 0.033621,
     "end_time": "2024-03-23T05:12:30.933499",
     "exception": false,
     "start_time": "2024-03-23T05:12:30.899878",
     "status": "completed"
    },
    "tags": []
   },
   "outputs": [],
   "source": [
    "paragraph_matches.append(\n",
    "    (\n",
    "        section_name,\n",
    "        par0,\n",
    "        par1,\n",
    "    )\n",
    ")"
   ]
  },
  {
   "cell_type": "code",
   "execution_count": 168,
   "id": "a7b9498f-caeb-48a4-bc85-f123bfa6c3cc",
   "metadata": {
    "execution": {
     "iopub.execute_input": "2024-03-23T05:12:30.993555Z",
     "iopub.status.busy": "2024-03-23T05:12:30.993215Z",
     "iopub.status.idle": "2024-03-23T05:12:30.996748Z",
     "shell.execute_reply": "2024-03-23T05:12:30.996280Z"
    },
    "papermill": {
     "duration": 0.034297,
     "end_time": "2024-03-23T05:12:30.997452",
     "exception": false,
     "start_time": "2024-03-23T05:12:30.963155",
     "status": "completed"
    },
    "tags": []
   },
   "outputs": [
    {
     "data": {
      "text/plain": [
       "('methods',\n",
       " 'For all our analyses we used $k_{\\\\mathrm{max}}=10$. This means that for each gene pair, 18 partitions are generated (9 for each gene, from $k=2$ to $k=10$), and 81 ARI comparisons are performed. Smaller values of $k_{\\\\mathrm{max}}$ can reduce computation time, although at the expense of missing more complex/general relationships. Our examples in Figure @fig:datasets_rel suggest that using $k_{\\\\mathrm{max}}=2$ would force CCC to find linear-only patterns, which could be a valid use case scenario where only this kind of relationships are desired. In addition, $k_{\\\\mathrm{max}}=2$ implies that only two partitions are generated, and only one ARI comparison is performed. In this regard, our Python implementation of CCC provides flexibility in specifying $k_{\\\\mathrm{max}}$. For instance, instead of the maximum $k$ (an integer), the parameter could be a custom list of integers: for example, `[2, 5, 10]` will partition the data into two, five and ten clusters.',\n",
       " 'For all our analyses, we utilized $k_{\\\\mathrm{max}}=10$. This implies that 18 partitions are generated for each gene pair (9 for each gene, ranging from $k=2$ to $k=10$), leading to 81 Adjusted Rand Index (ARI) comparisons. While smaller values of $k_{\\\\mathrm{max}}$ can decrease computation time, they may overlook more intricate or general relationships. Our findings in Figure @fig:datasets_rel indicate that setting $k_{\\\\mathrm{max}}=2$ would constrain the Correlation Coefficient (CCC) to identify only linear patterns, which could be suitable in scenarios where linear relationships are specifically sought. Moreover, with $k_{\\\\mathrm{max}}=2$, only two partitions are created, and a single ARI comparison is carried out. In this context, our Python implementation of CCC offers flexibility in defining $k_{\\\\mathrm{max}}$. For example, instead of a maximum $k$ value (an integer), the parameter could be a customized list of integers; for instance, `[2, 5, 10]` would partition the data into two, five, and ten clusters.')"
      ]
     },
     "metadata": {},
     "output_type": "display_data"
    }
   ],
   "source": [
    "display(paragraph_matches[-1])"
   ]
  },
  {
   "cell_type": "markdown",
   "id": "fbbecf2f-20c0-4945-bcd7-aa65eacf85cc",
   "metadata": {
    "editable": true,
    "papermill": {
     "duration": 0.030004,
     "end_time": "2024-03-23T05:12:31.057582",
     "exception": false,
     "start_time": "2024-03-23T05:12:31.027578",
     "status": "completed"
    },
    "slideshow": {
     "slide_type": ""
    },
    "tags": []
   },
   "source": [
    "## Methods (data)"
   ]
  },
  {
   "cell_type": "code",
   "execution_count": 169,
   "id": "07cfc8ba-f780-4077-b4df-e0fcba7df04f",
   "metadata": {
    "execution": {
     "iopub.execute_input": "2024-03-23T05:12:31.118290Z",
     "iopub.status.busy": "2024-03-23T05:12:31.117825Z",
     "iopub.status.idle": "2024-03-23T05:12:31.120357Z",
     "shell.execute_reply": "2024-03-23T05:12:31.119858Z"
    },
    "papermill": {
     "duration": 0.033882,
     "end_time": "2024-03-23T05:12:31.121099",
     "exception": false,
     "start_time": "2024-03-23T05:12:31.087217",
     "status": "completed"
    },
    "tags": []
   },
   "outputs": [],
   "source": [
    "# section_name = \"methods\""
   ]
  },
  {
   "cell_type": "code",
   "execution_count": 170,
   "id": "c4ce7054-f289-4b4d-bc3a-ddf0bd90db7f",
   "metadata": {
    "editable": true,
    "execution": {
     "iopub.execute_input": "2024-03-23T05:12:31.182711Z",
     "iopub.status.busy": "2024-03-23T05:12:31.182252Z",
     "iopub.status.idle": "2024-03-23T05:12:31.185556Z",
     "shell.execute_reply": "2024-03-23T05:12:31.185055Z"
    },
    "papermill": {
     "duration": 0.034581,
     "end_time": "2024-03-23T05:12:31.186315",
     "exception": false,
     "start_time": "2024-03-23T05:12:31.151734",
     "status": "completed"
    },
    "slideshow": {
     "slide_type": ""
    },
    "tags": []
   },
   "outputs": [
    {
     "name": "stdout",
     "output_type": "stream",
     "text": [
      "content/08.05.methods.data.md\n"
     ]
    }
   ],
   "source": [
    "pr_filename = pr_files[7].filename\n",
    "assert section_name in pr_filename\n",
    "assert \"data\" in pr_filename\n",
    "print(pr_filename)"
   ]
  },
  {
   "cell_type": "markdown",
   "id": "1096ca40-7ac4-49fa-ab3a-1cc938c358ab",
   "metadata": {
    "editable": true,
    "papermill": {
     "duration": 0.029857,
     "end_time": "2024-03-23T05:12:31.245969",
     "exception": false,
     "start_time": "2024-03-23T05:12:31.216112",
     "status": "completed"
    },
    "slideshow": {
     "slide_type": ""
    },
    "tags": []
   },
   "source": [
    "### Original"
   ]
  },
  {
   "cell_type": "code",
   "execution_count": 171,
   "id": "3e88e418-96a4-420b-a255-2f39e1003c48",
   "metadata": {
    "execution": {
     "iopub.execute_input": "2024-03-23T05:12:31.306302Z",
     "iopub.status.busy": "2024-03-23T05:12:31.305953Z",
     "iopub.status.idle": "2024-03-23T05:12:31.439536Z",
     "shell.execute_reply": "2024-03-23T05:12:31.439006Z"
    },
    "papermill": {
     "duration": 0.164558,
     "end_time": "2024-03-23T05:12:31.440305",
     "exception": false,
     "start_time": "2024-03-23T05:12:31.275747",
     "status": "completed"
    },
    "tags": []
   },
   "outputs": [
    {
     "name": "stdout",
     "output_type": "stream",
     "text": [
      "### Gene expression data and preprocessing {#sec:d\n"
     ]
    }
   ],
   "source": [
    "# get content\n",
    "orig_section_content = repo.get_contents(pr_filename, pr_prev).decoded_content.decode(\n",
    "    \"utf-8\"\n",
    ")\n",
    "print(orig_section_content[:50])"
   ]
  },
  {
   "cell_type": "code",
   "execution_count": 172,
   "id": "8e3ba75a-73aa-4927-b60f-34f12e231ead",
   "metadata": {
    "execution": {
     "iopub.execute_input": "2024-03-23T05:12:31.501306Z",
     "iopub.status.busy": "2024-03-23T05:12:31.500876Z",
     "iopub.status.idle": "2024-03-23T05:12:31.504610Z",
     "shell.execute_reply": "2024-03-23T05:12:31.504129Z"
    },
    "papermill": {
     "duration": 0.034976,
     "end_time": "2024-03-23T05:12:31.505350",
     "exception": false,
     "start_time": "2024-03-23T05:12:31.470374",
     "status": "completed"
    },
    "tags": []
   },
   "outputs": [
    {
     "data": {
      "text/plain": [
       "2"
      ]
     },
     "metadata": {},
     "output_type": "display_data"
    }
   ],
   "source": [
    "# split by paragraph\n",
    "orig_section_paragraphs = orig_section_content.split(\"\\n\\n\")\n",
    "display(len(orig_section_paragraphs))"
   ]
  },
  {
   "cell_type": "markdown",
   "id": "b8b826d2-5e11-4d05-9d06-c3d673a094c0",
   "metadata": {
    "editable": true,
    "papermill": {
     "duration": 0.029834,
     "end_time": "2024-03-23T05:12:31.564989",
     "exception": false,
     "start_time": "2024-03-23T05:12:31.535155",
     "status": "completed"
    },
    "slideshow": {
     "slide_type": ""
    },
    "tags": []
   },
   "source": [
    "### Modified"
   ]
  },
  {
   "cell_type": "code",
   "execution_count": 173,
   "id": "5c8173ca-2b68-4d05-bf1c-4ddebabcb45f",
   "metadata": {
    "execution": {
     "iopub.execute_input": "2024-03-23T05:12:31.625866Z",
     "iopub.status.busy": "2024-03-23T05:12:31.625398Z",
     "iopub.status.idle": "2024-03-23T05:12:31.837921Z",
     "shell.execute_reply": "2024-03-23T05:12:31.837316Z"
    },
    "papermill": {
     "duration": 0.244044,
     "end_time": "2024-03-23T05:12:31.838962",
     "exception": false,
     "start_time": "2024-03-23T05:12:31.594918",
     "status": "completed"
    },
    "tags": []
   },
   "outputs": [
    {
     "name": "stdout",
     "output_type": "stream",
     "text": [
      "### Gene expression data and preprocessing {#sec:d\n"
     ]
    }
   ],
   "source": [
    "# get content\n",
    "mod_section_content = repo.get_contents(pr_filename, pr_curr).decoded_content.decode(\n",
    "    \"utf-8\"\n",
    ")\n",
    "print(mod_section_content[:50])"
   ]
  },
  {
   "cell_type": "code",
   "execution_count": 174,
   "id": "89bddcee-eb28-4163-ab94-dd9c19870016",
   "metadata": {
    "execution": {
     "iopub.execute_input": "2024-03-23T05:12:31.926923Z",
     "iopub.status.busy": "2024-03-23T05:12:31.926471Z",
     "iopub.status.idle": "2024-03-23T05:12:31.930230Z",
     "shell.execute_reply": "2024-03-23T05:12:31.929716Z"
    },
    "papermill": {
     "duration": 0.046505,
     "end_time": "2024-03-23T05:12:31.930964",
     "exception": false,
     "start_time": "2024-03-23T05:12:31.884459",
     "status": "completed"
    },
    "tags": []
   },
   "outputs": [
    {
     "data": {
      "text/plain": [
       "4"
      ]
     },
     "metadata": {},
     "output_type": "display_data"
    }
   ],
   "source": [
    "# split by paragraph\n",
    "mod_section_paragraphs = mod_section_content.split(\"\\n\\n\")\n",
    "display(len(mod_section_paragraphs))"
   ]
  },
  {
   "cell_type": "markdown",
   "id": "d574d11e-dbb3-4f71-a13c-f2ca0121d98c",
   "metadata": {
    "editable": true,
    "papermill": {
     "duration": 0.029723,
     "end_time": "2024-03-23T05:12:31.990083",
     "exception": false,
     "start_time": "2024-03-23T05:12:31.960360",
     "status": "completed"
    },
    "slideshow": {
     "slide_type": ""
    },
    "tags": []
   },
   "source": [
    "### Match"
   ]
  },
  {
   "cell_type": "code",
   "execution_count": 175,
   "id": "33bc0d47-ec5a-4a30-86c6-26a7b1782880",
   "metadata": {
    "execution": {
     "iopub.execute_input": "2024-03-23T05:12:32.077966Z",
     "iopub.status.busy": "2024-03-23T05:12:32.077364Z",
     "iopub.status.idle": "2024-03-23T05:12:32.081059Z",
     "shell.execute_reply": "2024-03-23T05:12:32.080574Z"
    },
    "papermill": {
     "duration": 0.061799,
     "end_time": "2024-03-23T05:12:32.081791",
     "exception": false,
     "start_time": "2024-03-23T05:12:32.019992",
     "status": "completed"
    },
    "tags": []
   },
   "outputs": [
    {
     "data": {
      "text/plain": [
       "'### Gene expression data and preprocessing {#sec:data_gtex}'"
      ]
     },
     "execution_count": 175,
     "metadata": {},
     "output_type": "execute_result"
    }
   ],
   "source": [
    "orig_section_paragraphs[0]"
   ]
  },
  {
   "cell_type": "code",
   "execution_count": 176,
   "id": "6af64ac6-3451-4945-8eb9-12405c9f4fa9",
   "metadata": {
    "execution": {
     "iopub.execute_input": "2024-03-23T05:12:32.143093Z",
     "iopub.status.busy": "2024-03-23T05:12:32.142746Z",
     "iopub.status.idle": "2024-03-23T05:12:32.146258Z",
     "shell.execute_reply": "2024-03-23T05:12:32.145784Z"
    },
    "papermill": {
     "duration": 0.03503,
     "end_time": "2024-03-23T05:12:32.147003",
     "exception": false,
     "start_time": "2024-03-23T05:12:32.111973",
     "status": "completed"
    },
    "tags": []
   },
   "outputs": [
    {
     "data": {
      "text/plain": [
       "'### Gene expression data and preprocessing {#sec:data_gtex}'"
      ]
     },
     "execution_count": 176,
     "metadata": {},
     "output_type": "execute_result"
    }
   ],
   "source": [
    "mod_section_paragraphs[0]"
   ]
  },
  {
   "cell_type": "markdown",
   "id": "f0add223-9d4a-4079-b1b7-f7845e14f259",
   "metadata": {
    "editable": true,
    "papermill": {
     "duration": 0.029853,
     "end_time": "2024-03-23T05:12:32.207013",
     "exception": false,
     "start_time": "2024-03-23T05:12:32.177160",
     "status": "completed"
    },
    "slideshow": {
     "slide_type": ""
    },
    "tags": []
   },
   "source": [
    "####  Paragraph 00"
   ]
  },
  {
   "cell_type": "code",
   "execution_count": 177,
   "id": "37501034-068f-4900-8846-a32c14123d2b",
   "metadata": {
    "execution": {
     "iopub.execute_input": "2024-03-23T05:12:32.267949Z",
     "iopub.status.busy": "2024-03-23T05:12:32.267476Z",
     "iopub.status.idle": "2024-03-23T05:12:32.270735Z",
     "shell.execute_reply": "2024-03-23T05:12:32.270244Z"
    },
    "papermill": {
     "duration": 0.034229,
     "end_time": "2024-03-23T05:12:32.271469",
     "exception": false,
     "start_time": "2024-03-23T05:12:32.237240",
     "status": "completed"
    },
    "tags": []
   },
   "outputs": [
    {
     "name": "stdout",
     "output_type": "stream",
     "text": [
      "We downloaded GTEx v8 data for all tissues, normalized using TPM (transcripts per million), and focused our primary analysis on whole blood, which has a good sample size (755). We selected the top 5,000 genes from whole blood with the largest variance after standardizing with $log(x + 1)$ to avoid a bias towards highly-expressed genes. We then computed Pearson, Spearman, MIC and CCC on these 5,000 genes across all 755 samples on the TPM-normalized data, generating a pairwise similarity matrix of size 5,000 x 5,000.\n"
     ]
    }
   ],
   "source": [
    "par0 = process_paragraph(orig_section_paragraphs[1])\n",
    "print(par0)"
   ]
  },
  {
   "cell_type": "code",
   "execution_count": 178,
   "id": "5da96109-f681-4d3e-a389-ee5538ff03c0",
   "metadata": {
    "execution": {
     "iopub.execute_input": "2024-03-23T05:12:32.332798Z",
     "iopub.status.busy": "2024-03-23T05:12:32.332463Z",
     "iopub.status.idle": "2024-03-23T05:12:32.335531Z",
     "shell.execute_reply": "2024-03-23T05:12:32.335022Z"
    },
    "papermill": {
     "duration": 0.034476,
     "end_time": "2024-03-23T05:12:32.336220",
     "exception": false,
     "start_time": "2024-03-23T05:12:32.301744",
     "status": "completed"
    },
    "tags": []
   },
   "outputs": [
    {
     "name": "stdout",
     "output_type": "stream",
     "text": [
      "We downloaded GTEx version 8 data for all tissues and normalized it using TPM (transcripts per million). Our primary analysis focused on whole blood, which had a sample size of 755. From whole blood, we selected the top 5,000 genes with the largest variance after standardizing with $\\log(x + 1)$ to prevent bias towards highly-expressed genes. Subsequently, we calculated Pearson, Spearman, MIC, and CCC for these 5,000 genes across all 755 samples on the TPM-normalized data. This computation resulted in a pairwise similarity matrix of size 5,000 x 5,000.\n"
     ]
    }
   ],
   "source": [
    "par1 = process_paragraph(mod_section_paragraphs[1])\n",
    "print(par1)"
   ]
  },
  {
   "cell_type": "code",
   "execution_count": 179,
   "id": "0f6511b9-fbbb-4fbb-9f2a-14ee6ed6c167",
   "metadata": {
    "execution": {
     "iopub.execute_input": "2024-03-23T05:12:32.397355Z",
     "iopub.status.busy": "2024-03-23T05:12:32.397024Z",
     "iopub.status.idle": "2024-03-23T05:12:32.399726Z",
     "shell.execute_reply": "2024-03-23T05:12:32.399244Z"
    },
    "papermill": {
     "duration": 0.033926,
     "end_time": "2024-03-23T05:12:32.400411",
     "exception": false,
     "start_time": "2024-03-23T05:12:32.366485",
     "status": "completed"
    },
    "tags": []
   },
   "outputs": [],
   "source": [
    "paragraph_matches.append(\n",
    "    (\n",
    "        section_name,\n",
    "        par0,\n",
    "        par1,\n",
    "    )\n",
    ")"
   ]
  },
  {
   "cell_type": "code",
   "execution_count": 180,
   "id": "c16abbd3-c0a4-4ba4-9272-c5556b820c18",
   "metadata": {
    "execution": {
     "iopub.execute_input": "2024-03-23T05:12:32.461241Z",
     "iopub.status.busy": "2024-03-23T05:12:32.460825Z",
     "iopub.status.idle": "2024-03-23T05:12:32.464438Z",
     "shell.execute_reply": "2024-03-23T05:12:32.463959Z"
    },
    "papermill": {
     "duration": 0.034515,
     "end_time": "2024-03-23T05:12:32.465147",
     "exception": false,
     "start_time": "2024-03-23T05:12:32.430632",
     "status": "completed"
    },
    "tags": []
   },
   "outputs": [
    {
     "data": {
      "text/plain": [
       "('methods',\n",
       " 'We downloaded GTEx v8 data for all tissues, normalized using TPM (transcripts per million), and focused our primary analysis on whole blood, which has a good sample size (755). We selected the top 5,000 genes from whole blood with the largest variance after standardizing with $log(x + 1)$ to avoid a bias towards highly-expressed genes. We then computed Pearson, Spearman, MIC and CCC on these 5,000 genes across all 755 samples on the TPM-normalized data, generating a pairwise similarity matrix of size 5,000 x 5,000.',\n",
       " 'We downloaded GTEx version 8 data for all tissues and normalized it using TPM (transcripts per million). Our primary analysis focused on whole blood, which had a sample size of 755. From whole blood, we selected the top 5,000 genes with the largest variance after standardizing with $\\\\log(x + 1)$ to prevent bias towards highly-expressed genes. Subsequently, we calculated Pearson, Spearman, MIC, and CCC for these 5,000 genes across all 755 samples on the TPM-normalized data. This computation resulted in a pairwise similarity matrix of size 5,000 x 5,000.')"
      ]
     },
     "metadata": {},
     "output_type": "display_data"
    }
   ],
   "source": [
    "display(paragraph_matches[-1])"
   ]
  },
  {
   "cell_type": "markdown",
   "id": "eb7ba0ac-eb66-4f3b-8155-7dbd0a03cf69",
   "metadata": {
    "editable": true,
    "papermill": {
     "duration": 0.030162,
     "end_time": "2024-03-23T05:12:32.525632",
     "exception": false,
     "start_time": "2024-03-23T05:12:32.495470",
     "status": "completed"
    },
    "slideshow": {
     "slide_type": ""
    },
    "tags": []
   },
   "source": [
    "## Methods (giant)"
   ]
  },
  {
   "cell_type": "code",
   "execution_count": 181,
   "id": "fa5845ac-76c0-43db-b79d-c53a63c169e2",
   "metadata": {
    "execution": {
     "iopub.execute_input": "2024-03-23T05:12:32.587351Z",
     "iopub.status.busy": "2024-03-23T05:12:32.586844Z",
     "iopub.status.idle": "2024-03-23T05:12:32.589507Z",
     "shell.execute_reply": "2024-03-23T05:12:32.589021Z"
    },
    "papermill": {
     "duration": 0.034745,
     "end_time": "2024-03-23T05:12:32.590270",
     "exception": false,
     "start_time": "2024-03-23T05:12:32.555525",
     "status": "completed"
    },
    "tags": []
   },
   "outputs": [],
   "source": [
    "# section_name = \"methods\""
   ]
  },
  {
   "cell_type": "code",
   "execution_count": 182,
   "id": "53a68df2-9499-4bd6-a226-faf5a9c4aad6",
   "metadata": {
    "editable": true,
    "execution": {
     "iopub.execute_input": "2024-03-23T05:12:32.651586Z",
     "iopub.status.busy": "2024-03-23T05:12:32.651143Z",
     "iopub.status.idle": "2024-03-23T05:12:32.654444Z",
     "shell.execute_reply": "2024-03-23T05:12:32.653949Z"
    },
    "papermill": {
     "duration": 0.034601,
     "end_time": "2024-03-23T05:12:32.655154",
     "exception": false,
     "start_time": "2024-03-23T05:12:32.620553",
     "status": "completed"
    },
    "slideshow": {
     "slide_type": ""
    },
    "tags": []
   },
   "outputs": [
    {
     "name": "stdout",
     "output_type": "stream",
     "text": [
      "content/08.15.methods.giant.md\n"
     ]
    }
   ],
   "source": [
    "pr_filename = pr_files[8].filename\n",
    "assert section_name in pr_filename\n",
    "assert \"giant\" in pr_filename\n",
    "print(pr_filename)"
   ]
  },
  {
   "cell_type": "markdown",
   "id": "57276dad-945a-4e48-bd12-3a6b4ef2ffe7",
   "metadata": {
    "editable": true,
    "papermill": {
     "duration": 0.030184,
     "end_time": "2024-03-23T05:12:32.715543",
     "exception": false,
     "start_time": "2024-03-23T05:12:32.685359",
     "status": "completed"
    },
    "slideshow": {
     "slide_type": ""
    },
    "tags": []
   },
   "source": [
    "### Original"
   ]
  },
  {
   "cell_type": "code",
   "execution_count": 183,
   "id": "9dadf073-b9e9-4050-9dfa-ad70fcf90c05",
   "metadata": {
    "execution": {
     "iopub.execute_input": "2024-03-23T05:12:32.776607Z",
     "iopub.status.busy": "2024-03-23T05:12:32.776265Z",
     "iopub.status.idle": "2024-03-23T05:12:32.910869Z",
     "shell.execute_reply": "2024-03-23T05:12:32.910302Z"
    },
    "papermill": {
     "duration": 0.166293,
     "end_time": "2024-03-23T05:12:32.911869",
     "exception": false,
     "start_time": "2024-03-23T05:12:32.745576",
     "status": "completed"
    },
    "tags": []
   },
   "outputs": [
    {
     "name": "stdout",
     "output_type": "stream",
     "text": [
      "### Tissue-specific network analyses using GIANT {\n"
     ]
    }
   ],
   "source": [
    "# get content\n",
    "orig_section_content = repo.get_contents(pr_filename, pr_prev).decoded_content.decode(\n",
    "    \"utf-8\"\n",
    ")\n",
    "print(orig_section_content[:50])"
   ]
  },
  {
   "cell_type": "code",
   "execution_count": 184,
   "id": "fd0965f4-4aee-40f5-a573-1799ae8e4e85",
   "metadata": {
    "execution": {
     "iopub.execute_input": "2024-03-23T05:12:32.998476Z",
     "iopub.status.busy": "2024-03-23T05:12:32.998132Z",
     "iopub.status.idle": "2024-03-23T05:12:33.001801Z",
     "shell.execute_reply": "2024-03-23T05:12:33.001316Z"
    },
    "papermill": {
     "duration": 0.04455,
     "end_time": "2024-03-23T05:12:33.002490",
     "exception": false,
     "start_time": "2024-03-23T05:12:32.957940",
     "status": "completed"
    },
    "tags": []
   },
   "outputs": [
    {
     "data": {
      "text/plain": [
       "3"
      ]
     },
     "metadata": {},
     "output_type": "display_data"
    }
   ],
   "source": [
    "# split by paragraph\n",
    "orig_section_paragraphs = orig_section_content.split(\"\\n\\n\")\n",
    "display(len(orig_section_paragraphs))"
   ]
  },
  {
   "cell_type": "markdown",
   "id": "8e54b74c-c0d0-469b-82c6-9a8f903d38bb",
   "metadata": {
    "editable": true,
    "papermill": {
     "duration": 0.029932,
     "end_time": "2024-03-23T05:12:33.062835",
     "exception": false,
     "start_time": "2024-03-23T05:12:33.032903",
     "status": "completed"
    },
    "slideshow": {
     "slide_type": ""
    },
    "tags": []
   },
   "source": [
    "### Modified"
   ]
  },
  {
   "cell_type": "code",
   "execution_count": 185,
   "id": "499dda44-bfe3-4455-873f-c538df38e8af",
   "metadata": {
    "execution": {
     "iopub.execute_input": "2024-03-23T05:12:33.151013Z",
     "iopub.status.busy": "2024-03-23T05:12:33.150527Z",
     "iopub.status.idle": "2024-03-23T05:12:33.290198Z",
     "shell.execute_reply": "2024-03-23T05:12:33.289592Z"
    },
    "papermill": {
     "duration": 0.171771,
     "end_time": "2024-03-23T05:12:33.291243",
     "exception": false,
     "start_time": "2024-03-23T05:12:33.119472",
     "status": "completed"
    },
    "tags": []
   },
   "outputs": [
    {
     "name": "stdout",
     "output_type": "stream",
     "text": [
      "### Tissue-specific network analyses using GIANT {\n"
     ]
    }
   ],
   "source": [
    "# get content\n",
    "mod_section_content = repo.get_contents(pr_filename, pr_curr).decoded_content.decode(\n",
    "    \"utf-8\"\n",
    ")\n",
    "print(mod_section_content[:50])"
   ]
  },
  {
   "cell_type": "code",
   "execution_count": 186,
   "id": "41a5c6bc-7bac-4b5a-ac94-97c91ee66a03",
   "metadata": {
    "execution": {
     "iopub.execute_input": "2024-03-23T05:12:33.379082Z",
     "iopub.status.busy": "2024-03-23T05:12:33.378614Z",
     "iopub.status.idle": "2024-03-23T05:12:33.382318Z",
     "shell.execute_reply": "2024-03-23T05:12:33.381840Z"
    },
    "papermill": {
     "duration": 0.045978,
     "end_time": "2024-03-23T05:12:33.383290",
     "exception": false,
     "start_time": "2024-03-23T05:12:33.337312",
     "status": "completed"
    },
    "tags": []
   },
   "outputs": [
    {
     "data": {
      "text/plain": [
       "7"
      ]
     },
     "metadata": {},
     "output_type": "display_data"
    }
   ],
   "source": [
    "# split by paragraph\n",
    "mod_section_paragraphs = mod_section_content.split(\"\\n\\n\")\n",
    "display(len(mod_section_paragraphs))"
   ]
  },
  {
   "cell_type": "markdown",
   "id": "12872fc2-c24d-4fc8-b0e7-eb7551a3efb1",
   "metadata": {
    "editable": true,
    "papermill": {
     "duration": 0.031001,
     "end_time": "2024-03-23T05:12:33.445072",
     "exception": false,
     "start_time": "2024-03-23T05:12:33.414071",
     "status": "completed"
    },
    "slideshow": {
     "slide_type": ""
    },
    "tags": []
   },
   "source": [
    "### Match"
   ]
  },
  {
   "cell_type": "code",
   "execution_count": 187,
   "id": "2ad5609f-a7cc-4fbe-8f3c-12dd3b4a71d8",
   "metadata": {
    "execution": {
     "iopub.execute_input": "2024-03-23T05:12:33.507799Z",
     "iopub.status.busy": "2024-03-23T05:12:33.507453Z",
     "iopub.status.idle": "2024-03-23T05:12:33.511075Z",
     "shell.execute_reply": "2024-03-23T05:12:33.510575Z"
    },
    "papermill": {
     "duration": 0.035944,
     "end_time": "2024-03-23T05:12:33.511881",
     "exception": false,
     "start_time": "2024-03-23T05:12:33.475937",
     "status": "completed"
    },
    "tags": []
   },
   "outputs": [
    {
     "data": {
      "text/plain": [
       "'### Tissue-specific network analyses using GIANT {#sec:giant}'"
      ]
     },
     "execution_count": 187,
     "metadata": {},
     "output_type": "execute_result"
    }
   ],
   "source": [
    "orig_section_paragraphs[0]"
   ]
  },
  {
   "cell_type": "code",
   "execution_count": 188,
   "id": "bc9a905b-b05f-49ca-afda-02f298e6ca70",
   "metadata": {
    "execution": {
     "iopub.execute_input": "2024-03-23T05:12:33.575115Z",
     "iopub.status.busy": "2024-03-23T05:12:33.574929Z",
     "iopub.status.idle": "2024-03-23T05:12:33.578460Z",
     "shell.execute_reply": "2024-03-23T05:12:33.577980Z"
    },
    "papermill": {
     "duration": 0.036048,
     "end_time": "2024-03-23T05:12:33.579267",
     "exception": false,
     "start_time": "2024-03-23T05:12:33.543219",
     "status": "completed"
    },
    "tags": []
   },
   "outputs": [
    {
     "data": {
      "text/plain": [
       "'### Tissue-specific network analyses using GIANT {#sec:giant}'"
      ]
     },
     "execution_count": 188,
     "metadata": {},
     "output_type": "execute_result"
    }
   ],
   "source": [
    "mod_section_paragraphs[0]"
   ]
  },
  {
   "cell_type": "markdown",
   "id": "2df75761-3326-4010-9fa8-0a8c589ebf69",
   "metadata": {
    "editable": true,
    "papermill": {
     "duration": 0.031497,
     "end_time": "2024-03-23T05:12:33.641945",
     "exception": false,
     "start_time": "2024-03-23T05:12:33.610448",
     "status": "completed"
    },
    "slideshow": {
     "slide_type": ""
    },
    "tags": []
   },
   "source": [
    "####  Paragraph 00"
   ]
  },
  {
   "cell_type": "code",
   "execution_count": 189,
   "id": "45449a9c-8d8d-4207-8a25-4fc3b0c78aa8",
   "metadata": {
    "execution": {
     "iopub.execute_input": "2024-03-23T05:12:33.706038Z",
     "iopub.status.busy": "2024-03-23T05:12:33.705598Z",
     "iopub.status.idle": "2024-03-23T05:12:33.709031Z",
     "shell.execute_reply": "2024-03-23T05:12:33.708475Z"
    },
    "papermill": {
     "duration": 0.036478,
     "end_time": "2024-03-23T05:12:33.709819",
     "exception": false,
     "start_time": "2024-03-23T05:12:33.673341",
     "status": "completed"
    },
    "tags": []
   },
   "outputs": [
    {
     "name": "stdout",
     "output_type": "stream",
     "text": [
      "We accessed tissue-specific gene networks of GIANT using both the web interface and web services provided by HumanBase [@url:https://hb.flatironinstitute.org]. The GIANT version used in this study included 987 genome-scale datasets with approximately 38,000 conditions from around 14,000 publications. Details on how these networks were built are described in [@doi:10.1038/ng.3259]. Briefly, tissue-specific gene networks were built using gene expression data (without GTEx samples [@url:https://hb.flatironinstitute.org/data]) from the NCBI's Gene Expression Omnibus (GEO) [@doi:10.1093/nar/gks1193], protein-protein interaction (BioGRID [@pmc:PMC3531226], IntAct [@doi:10.1093/nar/gkr1088], MINT [@doi:10.1093/nar/gkr930] and MIPS [@pmc:PMC148093]), transcription factor regulation using binding motifs from JASPAR [@doi:10.1093/nar/gkp950], and chemical and genetic perturbations from MSigDB [@doi:10.1073/pnas.0506580102]. Gene expression data were log-transformed, and the Pearson correlation was computed for each gene pair, normalized using the Fisher's z transform, and z-scores discretized into different bins. Gold standards for tissue-specific functional relationships were built using expert curation and experimentally derived gene annotations from the Gene Ontology. Then, one naive Bayesian classifier (using C++ implementations from the Sleipnir library [@pmid:18499696]) for each of the 144 tissues was trained using these gold standards. Finally, these classifiers were used to estimate the probability of tissue-specific interactions for each gene pair.\n"
     ]
    }
   ],
   "source": [
    "par0 = process_paragraph(orig_section_paragraphs[1])\n",
    "print(par0)"
   ]
  },
  {
   "cell_type": "code",
   "execution_count": 190,
   "id": "29892607-3a14-49bf-8a83-a82755b56771",
   "metadata": {
    "execution": {
     "iopub.execute_input": "2024-03-23T05:12:33.774095Z",
     "iopub.status.busy": "2024-03-23T05:12:33.773881Z",
     "iopub.status.idle": "2024-03-23T05:12:33.777309Z",
     "shell.execute_reply": "2024-03-23T05:12:33.776744Z"
    },
    "papermill": {
     "duration": 0.036773,
     "end_time": "2024-03-23T05:12:33.778124",
     "exception": false,
     "start_time": "2024-03-23T05:12:33.741351",
     "status": "completed"
    },
    "tags": []
   },
   "outputs": [
    {
     "name": "stdout",
     "output_type": "stream",
     "text": [
      "We accessed tissue-specific gene networks of GIANT using both the web interface and web services provided by HumanBase (https://hb.flatironinstitute.org). The GIANT version used in this study included 987 genome-scale datasets with approximately 38,000 conditions from around 14,000 publications. Details on how these networks were built are described in (DOI: 10.1038/ng.3259). Briefly, tissue-specific gene networks were built using gene expression data (without GTEx samples from https://hb.flatironinstitute.org/data) from the NCBI's Gene Expression Omnibus (GEO) (DOI: 10.1093/nar/gks1193), protein-protein interaction databases such as BioGRID (PMC: PMC3531226), IntAct (DOI: 10.1093/nar/gkr1088), MINT (DOI: 10.1093/nar/gkr930), and MIPS (PMC: PMC148093), transcription factor regulation using binding motifs from JASPAR (DOI: 10.1093/nar/gkp950), and chemical and genetic perturbations from MSigDB (DOI: 10.1073/pnas.0506580102). Gene expression data were log-transformed, and the Pearson correlation was computed for each gene pair, normalized using the Fisher's z transform, and z-scores discretized into different bins. Gold standards for tissue-specific functional relationships were built using expert curation and experimentally derived gene annotations from the Gene Ontology. Then, one naive Bayesian classifier (using C++ implementations from the Sleipnir library, PMID: 18499696) for each of the 144 tissues was trained using these gold standards. Finally, these classifiers were used to estimate the probability of tissue-specific interactions for each gene pair.\n"
     ]
    }
   ],
   "source": [
    "par1 = process_paragraph(mod_section_paragraphs[1:4])\n",
    "print(par1)"
   ]
  },
  {
   "cell_type": "code",
   "execution_count": 191,
   "id": "2e7bbcb6-e92e-4114-a59c-345ddb53387b",
   "metadata": {
    "execution": {
     "iopub.execute_input": "2024-03-23T05:12:33.842191Z",
     "iopub.status.busy": "2024-03-23T05:12:33.841995Z",
     "iopub.status.idle": "2024-03-23T05:12:33.844795Z",
     "shell.execute_reply": "2024-03-23T05:12:33.844301Z"
    },
    "papermill": {
     "duration": 0.035698,
     "end_time": "2024-03-23T05:12:33.845548",
     "exception": false,
     "start_time": "2024-03-23T05:12:33.809850",
     "status": "completed"
    },
    "tags": []
   },
   "outputs": [],
   "source": [
    "paragraph_matches.append(\n",
    "    (\n",
    "        section_name,\n",
    "        par0,\n",
    "        par1,\n",
    "    )\n",
    ")"
   ]
  },
  {
   "cell_type": "code",
   "execution_count": 192,
   "id": "09a5026f-b3fd-488c-89cd-84672d36ac57",
   "metadata": {
    "execution": {
     "iopub.execute_input": "2024-03-23T05:12:33.909497Z",
     "iopub.status.busy": "2024-03-23T05:12:33.909098Z",
     "iopub.status.idle": "2024-03-23T05:12:33.912884Z",
     "shell.execute_reply": "2024-03-23T05:12:33.912393Z"
    },
    "papermill": {
     "duration": 0.036222,
     "end_time": "2024-03-23T05:12:33.913634",
     "exception": false,
     "start_time": "2024-03-23T05:12:33.877412",
     "status": "completed"
    },
    "tags": []
   },
   "outputs": [
    {
     "data": {
      "text/plain": [
       "('methods',\n",
       " \"We accessed tissue-specific gene networks of GIANT using both the web interface and web services provided by HumanBase [@url:https://hb.flatironinstitute.org]. The GIANT version used in this study included 987 genome-scale datasets with approximately 38,000 conditions from around 14,000 publications. Details on how these networks were built are described in [@doi:10.1038/ng.3259]. Briefly, tissue-specific gene networks were built using gene expression data (without GTEx samples [@url:https://hb.flatironinstitute.org/data]) from the NCBI's Gene Expression Omnibus (GEO) [@doi:10.1093/nar/gks1193], protein-protein interaction (BioGRID [@pmc:PMC3531226], IntAct [@doi:10.1093/nar/gkr1088], MINT [@doi:10.1093/nar/gkr930] and MIPS [@pmc:PMC148093]), transcription factor regulation using binding motifs from JASPAR [@doi:10.1093/nar/gkp950], and chemical and genetic perturbations from MSigDB [@doi:10.1073/pnas.0506580102]. Gene expression data were log-transformed, and the Pearson correlation was computed for each gene pair, normalized using the Fisher's z transform, and z-scores discretized into different bins. Gold standards for tissue-specific functional relationships were built using expert curation and experimentally derived gene annotations from the Gene Ontology. Then, one naive Bayesian classifier (using C++ implementations from the Sleipnir library [@pmid:18499696]) for each of the 144 tissues was trained using these gold standards. Finally, these classifiers were used to estimate the probability of tissue-specific interactions for each gene pair.\",\n",
       " \"We accessed tissue-specific gene networks of GIANT using both the web interface and web services provided by HumanBase (https://hb.flatironinstitute.org). The GIANT version used in this study included 987 genome-scale datasets with approximately 38,000 conditions from around 14,000 publications. Details on how these networks were built are described in (DOI: 10.1038/ng.3259). Briefly, tissue-specific gene networks were built using gene expression data (without GTEx samples from https://hb.flatironinstitute.org/data) from the NCBI's Gene Expression Omnibus (GEO) (DOI: 10.1093/nar/gks1193), protein-protein interaction databases such as BioGRID (PMC: PMC3531226), IntAct (DOI: 10.1093/nar/gkr1088), MINT (DOI: 10.1093/nar/gkr930), and MIPS (PMC: PMC148093), transcription factor regulation using binding motifs from JASPAR (DOI: 10.1093/nar/gkp950), and chemical and genetic perturbations from MSigDB (DOI: 10.1073/pnas.0506580102). Gene expression data were log-transformed, and the Pearson correlation was computed for each gene pair, normalized using the Fisher's z transform, and z-scores discretized into different bins. Gold standards for tissue-specific functional relationships were built using expert curation and experimentally derived gene annotations from the Gene Ontology. Then, one naive Bayesian classifier (using C++ implementations from the Sleipnir library, PMID: 18499696) for each of the 144 tissues was trained using these gold standards. Finally, these classifiers were used to estimate the probability of tissue-specific interactions for each gene pair.\")"
      ]
     },
     "metadata": {},
     "output_type": "display_data"
    }
   ],
   "source": [
    "display(paragraph_matches[-1])"
   ]
  },
  {
   "cell_type": "markdown",
   "id": "0d0c0e3f-1e9b-4801-9ca6-55f022e55673",
   "metadata": {
    "editable": true,
    "papermill": {
     "duration": 0.031697,
     "end_time": "2024-03-23T05:12:33.976755",
     "exception": false,
     "start_time": "2024-03-23T05:12:33.945058",
     "status": "completed"
    },
    "slideshow": {
     "slide_type": ""
    },
    "tags": []
   },
   "source": [
    "####  Paragraph 01"
   ]
  },
  {
   "cell_type": "code",
   "execution_count": 193,
   "id": "a450aa54-83bf-4f07-b7bc-7bebf0606ecf",
   "metadata": {
    "execution": {
     "iopub.execute_input": "2024-03-23T05:12:34.041408Z",
     "iopub.status.busy": "2024-03-23T05:12:34.041216Z",
     "iopub.status.idle": "2024-03-23T05:12:34.044492Z",
     "shell.execute_reply": "2024-03-23T05:12:34.043975Z"
    },
    "papermill": {
     "duration": 0.036606,
     "end_time": "2024-03-23T05:12:34.045278",
     "exception": false,
     "start_time": "2024-03-23T05:12:34.008672",
     "status": "completed"
    },
    "tags": []
   },
   "outputs": [
    {
     "name": "stdout",
     "output_type": "stream",
     "text": [
      "For each pair of genes prioritized in our study using GTEx, we used GIANT through HumanBase to obtain 1) a predicted gene network for blood (manually selected to match whole blood in GTEx) and 2) a gene network with an automatically predicted tissue using the method described in [@doi:10.1101/gr.155697.113] and provided by HumanBase web interfaces/services. Briefly, the tissue prediction approach trains a machine learning model using comprehensive transcriptional data with human-curated markers of different cell lineages (e.g., macrophages) as gold standards. Then, these models are used to predict other cell lineage-specific genes. In addition to reporting this predicted tissue or cell lineage, we computed the average probability of interaction between all genes in the network retrieved from GIANT. Following the default procedure used in GIANT, we included the top 15 genes with the highest probability of interaction with the queried gene pair for each network.\n"
     ]
    }
   ],
   "source": [
    "par0 = process_paragraph(orig_section_paragraphs[2])\n",
    "print(par0)"
   ]
  },
  {
   "cell_type": "code",
   "execution_count": 194,
   "id": "d115562d-51bf-40b1-9fd4-44bcdbb5d4ac",
   "metadata": {
    "execution": {
     "iopub.execute_input": "2024-03-23T05:12:34.110354Z",
     "iopub.status.busy": "2024-03-23T05:12:34.109772Z",
     "iopub.status.idle": "2024-03-23T05:12:34.113189Z",
     "shell.execute_reply": "2024-03-23T05:12:34.112673Z"
    },
    "papermill": {
     "duration": 0.036834,
     "end_time": "2024-03-23T05:12:34.114020",
     "exception": false,
     "start_time": "2024-03-23T05:12:34.077186",
     "status": "completed"
    },
    "tags": []
   },
   "outputs": [
    {
     "name": "stdout",
     "output_type": "stream",
     "text": [
      "For each pair of genes prioritized in our study using GTEx, we utilized GIANT through HumanBase to acquire 1) a predicted gene network for blood (manually selected to match whole blood in GTEx) and 2) a gene network with an automatically predicted tissue using the method described in previous research [@doi:10.1101/gr.155697.113] and provided by HumanBase web interfaces/services. Briefly, the tissue prediction approach involves training a machine learning model using comprehensive transcriptional data with human-curated markers of different cell lineages (e.g., macrophages) as gold standards. These models are then utilized to predict other cell lineage-specific genes. Additionally, besides reporting the predicted tissue or cell lineage, we calculated the average probability of interaction between all genes in the network retrieved from GIANT. Following the default procedure used in GIANT, we included the top 15 genes with the highest probability of interaction with the queried gene pair for each network.\n"
     ]
    }
   ],
   "source": [
    "par1 = process_paragraph(\n",
    "    [\n",
    "        mod_section_paragraphs[4],\n",
    "        mod_section_paragraphs[6],\n",
    "    ]\n",
    ")\n",
    "print(par1)"
   ]
  },
  {
   "cell_type": "code",
   "execution_count": 195,
   "id": "35a55dbf-b588-4ab4-b562-a730890d232f",
   "metadata": {
    "execution": {
     "iopub.execute_input": "2024-03-23T05:12:34.179234Z",
     "iopub.status.busy": "2024-03-23T05:12:34.179048Z",
     "iopub.status.idle": "2024-03-23T05:12:34.181842Z",
     "shell.execute_reply": "2024-03-23T05:12:34.181301Z"
    },
    "papermill": {
     "duration": 0.036268,
     "end_time": "2024-03-23T05:12:34.182664",
     "exception": false,
     "start_time": "2024-03-23T05:12:34.146396",
     "status": "completed"
    },
    "tags": []
   },
   "outputs": [],
   "source": [
    "paragraph_matches.append(\n",
    "    (\n",
    "        section_name,\n",
    "        par0,\n",
    "        par1,\n",
    "    )\n",
    ")"
   ]
  },
  {
   "cell_type": "code",
   "execution_count": 196,
   "id": "20fd4387-8e3e-4a55-bec7-d6a4ca80d44c",
   "metadata": {
    "execution": {
     "iopub.execute_input": "2024-03-23T05:12:34.247605Z",
     "iopub.status.busy": "2024-03-23T05:12:34.247420Z",
     "iopub.status.idle": "2024-03-23T05:12:34.251070Z",
     "shell.execute_reply": "2024-03-23T05:12:34.250571Z"
    },
    "papermill": {
     "duration": 0.037049,
     "end_time": "2024-03-23T05:12:34.251849",
     "exception": false,
     "start_time": "2024-03-23T05:12:34.214800",
     "status": "completed"
    },
    "tags": []
   },
   "outputs": [
    {
     "data": {
      "text/plain": [
       "('methods',\n",
       " 'For each pair of genes prioritized in our study using GTEx, we used GIANT through HumanBase to obtain 1) a predicted gene network for blood (manually selected to match whole blood in GTEx) and 2) a gene network with an automatically predicted tissue using the method described in [@doi:10.1101/gr.155697.113] and provided by HumanBase web interfaces/services. Briefly, the tissue prediction approach trains a machine learning model using comprehensive transcriptional data with human-curated markers of different cell lineages (e.g., macrophages) as gold standards. Then, these models are used to predict other cell lineage-specific genes. In addition to reporting this predicted tissue or cell lineage, we computed the average probability of interaction between all genes in the network retrieved from GIANT. Following the default procedure used in GIANT, we included the top 15 genes with the highest probability of interaction with the queried gene pair for each network.',\n",
       " 'For each pair of genes prioritized in our study using GTEx, we utilized GIANT through HumanBase to acquire 1) a predicted gene network for blood (manually selected to match whole blood in GTEx) and 2) a gene network with an automatically predicted tissue using the method described in previous research [@doi:10.1101/gr.155697.113] and provided by HumanBase web interfaces/services. Briefly, the tissue prediction approach involves training a machine learning model using comprehensive transcriptional data with human-curated markers of different cell lineages (e.g., macrophages) as gold standards. These models are then utilized to predict other cell lineage-specific genes. Additionally, besides reporting the predicted tissue or cell lineage, we calculated the average probability of interaction between all genes in the network retrieved from GIANT. Following the default procedure used in GIANT, we included the top 15 genes with the highest probability of interaction with the queried gene pair for each network.')"
      ]
     },
     "metadata": {},
     "output_type": "display_data"
    }
   ],
   "source": [
    "display(paragraph_matches[-1])"
   ]
  },
  {
   "cell_type": "markdown",
   "id": "db1e15ca-381e-4513-81ff-fe866b8f1382",
   "metadata": {
    "editable": true,
    "papermill": {
     "duration": 0.03139,
     "end_time": "2024-03-23T05:12:34.314976",
     "exception": false,
     "start_time": "2024-03-23T05:12:34.283586",
     "status": "completed"
    },
    "slideshow": {
     "slide_type": ""
    },
    "tags": []
   },
   "source": [
    "## Methods (mic)"
   ]
  },
  {
   "cell_type": "code",
   "execution_count": 197,
   "id": "d4086043-5d2a-4017-a4ff-2dc6d722adea",
   "metadata": {
    "execution": {
     "iopub.execute_input": "2024-03-23T05:12:34.378529Z",
     "iopub.status.busy": "2024-03-23T05:12:34.378343Z",
     "iopub.status.idle": "2024-03-23T05:12:34.380902Z",
     "shell.execute_reply": "2024-03-23T05:12:34.380384Z"
    },
    "papermill": {
     "duration": 0.035514,
     "end_time": "2024-03-23T05:12:34.381724",
     "exception": false,
     "start_time": "2024-03-23T05:12:34.346210",
     "status": "completed"
    },
    "tags": []
   },
   "outputs": [],
   "source": [
    "# section_name = \"methods\""
   ]
  },
  {
   "cell_type": "code",
   "execution_count": 198,
   "id": "84d50740-bd41-4de3-b2aa-8548d577ca69",
   "metadata": {
    "editable": true,
    "execution": {
     "iopub.execute_input": "2024-03-23T05:12:34.444996Z",
     "iopub.status.busy": "2024-03-23T05:12:34.444809Z",
     "iopub.status.idle": "2024-03-23T05:12:34.448201Z",
     "shell.execute_reply": "2024-03-23T05:12:34.447694Z"
    },
    "papermill": {
     "duration": 0.036185,
     "end_time": "2024-03-23T05:12:34.448978",
     "exception": false,
     "start_time": "2024-03-23T05:12:34.412793",
     "status": "completed"
    },
    "slideshow": {
     "slide_type": ""
    },
    "tags": []
   },
   "outputs": [
    {
     "name": "stdout",
     "output_type": "stream",
     "text": [
      "content/08.20.methods.mic.md\n"
     ]
    }
   ],
   "source": [
    "pr_filename = pr_files[9].filename\n",
    "assert section_name in pr_filename\n",
    "assert \"mic\" in pr_filename\n",
    "print(pr_filename)"
   ]
  },
  {
   "cell_type": "markdown",
   "id": "e2a6d234-1197-424a-9e87-09264d25f414",
   "metadata": {
    "editable": true,
    "papermill": {
     "duration": 0.037133,
     "end_time": "2024-03-23T05:12:34.517676",
     "exception": false,
     "start_time": "2024-03-23T05:12:34.480543",
     "status": "completed"
    },
    "slideshow": {
     "slide_type": ""
    },
    "tags": []
   },
   "source": [
    "### Original"
   ]
  },
  {
   "cell_type": "code",
   "execution_count": 199,
   "id": "a7972447-3002-4578-9794-6980e8f633fc",
   "metadata": {
    "execution": {
     "iopub.execute_input": "2024-03-23T05:12:34.582113Z",
     "iopub.status.busy": "2024-03-23T05:12:34.581906Z",
     "iopub.status.idle": "2024-03-23T05:12:34.772467Z",
     "shell.execute_reply": "2024-03-23T05:12:34.771886Z"
    },
    "papermill": {
     "duration": 0.224773,
     "end_time": "2024-03-23T05:12:34.773483",
     "exception": false,
     "start_time": "2024-03-23T05:12:34.548710",
     "status": "completed"
    },
    "tags": []
   },
   "outputs": [
    {
     "name": "stdout",
     "output_type": "stream",
     "text": [
      "### Maximal Information Coefficient (MIC) {#sec:me\n"
     ]
    }
   ],
   "source": [
    "# get content\n",
    "orig_section_content = repo.get_contents(pr_filename, pr_prev).decoded_content.decode(\n",
    "    \"utf-8\"\n",
    ")\n",
    "print(orig_section_content[:50])"
   ]
  },
  {
   "cell_type": "code",
   "execution_count": 200,
   "id": "6a7df63f-b41b-481a-9f28-96807a0ae72e",
   "metadata": {
    "execution": {
     "iopub.execute_input": "2024-03-23T05:12:34.862294Z",
     "iopub.status.busy": "2024-03-23T05:12:34.862036Z",
     "iopub.status.idle": "2024-03-23T05:12:34.866185Z",
     "shell.execute_reply": "2024-03-23T05:12:34.865664Z"
    },
    "papermill": {
     "duration": 0.047059,
     "end_time": "2024-03-23T05:12:34.866962",
     "exception": false,
     "start_time": "2024-03-23T05:12:34.819903",
     "status": "completed"
    },
    "tags": []
   },
   "outputs": [
    {
     "data": {
      "text/plain": [
       "2"
      ]
     },
     "metadata": {},
     "output_type": "display_data"
    }
   ],
   "source": [
    "# split by paragraph\n",
    "orig_section_paragraphs = orig_section_content.split(\"\\n\\n\")\n",
    "display(len(orig_section_paragraphs))"
   ]
  },
  {
   "cell_type": "markdown",
   "id": "6b49bfe9-2d12-46c5-9e1a-21dc8ef5ca53",
   "metadata": {
    "editable": true,
    "papermill": {
     "duration": 0.031113,
     "end_time": "2024-03-23T05:12:34.929562",
     "exception": false,
     "start_time": "2024-03-23T05:12:34.898449",
     "status": "completed"
    },
    "slideshow": {
     "slide_type": ""
    },
    "tags": []
   },
   "source": [
    "### Modified"
   ]
  },
  {
   "cell_type": "code",
   "execution_count": 201,
   "id": "fbb7b941-6fad-4f41-8704-041b157ebf11",
   "metadata": {
    "execution": {
     "iopub.execute_input": "2024-03-23T05:12:34.993395Z",
     "iopub.status.busy": "2024-03-23T05:12:34.992945Z",
     "iopub.status.idle": "2024-03-23T05:12:35.168683Z",
     "shell.execute_reply": "2024-03-23T05:12:35.168073Z"
    },
    "papermill": {
     "duration": 0.208922,
     "end_time": "2024-03-23T05:12:35.169711",
     "exception": false,
     "start_time": "2024-03-23T05:12:34.960789",
     "status": "completed"
    },
    "tags": []
   },
   "outputs": [
    {
     "name": "stdout",
     "output_type": "stream",
     "text": [
      "### Maximal Information Coefficient (MIC) {#sec:me\n"
     ]
    }
   ],
   "source": [
    "# get content\n",
    "mod_section_content = repo.get_contents(pr_filename, pr_curr).decoded_content.decode(\n",
    "    \"utf-8\"\n",
    ")\n",
    "print(mod_section_content[:50])"
   ]
  },
  {
   "cell_type": "code",
   "execution_count": 202,
   "id": "e03331a5-2c64-4c36-9864-77ee3100fbfa",
   "metadata": {
    "execution": {
     "iopub.execute_input": "2024-03-23T05:12:35.260432Z",
     "iopub.status.busy": "2024-03-23T05:12:35.260234Z",
     "iopub.status.idle": "2024-03-23T05:12:35.264097Z",
     "shell.execute_reply": "2024-03-23T05:12:35.263591Z"
    },
    "papermill": {
     "duration": 0.047466,
     "end_time": "2024-03-23T05:12:35.264826",
     "exception": false,
     "start_time": "2024-03-23T05:12:35.217360",
     "status": "completed"
    },
    "tags": []
   },
   "outputs": [
    {
     "data": {
      "text/plain": [
       "4"
      ]
     },
     "metadata": {},
     "output_type": "display_data"
    }
   ],
   "source": [
    "# split by paragraph\n",
    "mod_section_paragraphs = mod_section_content.split(\"\\n\\n\")\n",
    "display(len(mod_section_paragraphs))"
   ]
  },
  {
   "cell_type": "markdown",
   "id": "c73804e3-42c2-4576-8f86-837c9b70474c",
   "metadata": {
    "editable": true,
    "papermill": {
     "duration": 0.031313,
     "end_time": "2024-03-23T05:12:35.327955",
     "exception": false,
     "start_time": "2024-03-23T05:12:35.296642",
     "status": "completed"
    },
    "slideshow": {
     "slide_type": ""
    },
    "tags": []
   },
   "source": [
    "### Match"
   ]
  },
  {
   "cell_type": "code",
   "execution_count": 203,
   "id": "7c2272f8-d171-4568-9aea-b77cb78bbcf7",
   "metadata": {
    "execution": {
     "iopub.execute_input": "2024-03-23T05:12:35.391821Z",
     "iopub.status.busy": "2024-03-23T05:12:35.391404Z",
     "iopub.status.idle": "2024-03-23T05:12:35.395221Z",
     "shell.execute_reply": "2024-03-23T05:12:35.394726Z"
    },
    "papermill": {
     "duration": 0.03689,
     "end_time": "2024-03-23T05:12:35.396000",
     "exception": false,
     "start_time": "2024-03-23T05:12:35.359110",
     "status": "completed"
    },
    "tags": []
   },
   "outputs": [
    {
     "data": {
      "text/plain": [
       "'### Maximal Information Coefficient (MIC) {#sec:methods:mic}'"
      ]
     },
     "execution_count": 203,
     "metadata": {},
     "output_type": "execute_result"
    }
   ],
   "source": [
    "orig_section_paragraphs[0]"
   ]
  },
  {
   "cell_type": "code",
   "execution_count": 204,
   "id": "2c6b5fb6-9138-477b-bd6d-18ec951c86b8",
   "metadata": {
    "execution": {
     "iopub.execute_input": "2024-03-23T05:12:35.459170Z",
     "iopub.status.busy": "2024-03-23T05:12:35.458980Z",
     "iopub.status.idle": "2024-03-23T05:12:35.462419Z",
     "shell.execute_reply": "2024-03-23T05:12:35.461941Z"
    },
    "papermill": {
     "duration": 0.036007,
     "end_time": "2024-03-23T05:12:35.463204",
     "exception": false,
     "start_time": "2024-03-23T05:12:35.427197",
     "status": "completed"
    },
    "tags": []
   },
   "outputs": [
    {
     "data": {
      "text/plain": [
       "'### Maximal Information Coefficient (MIC) {#sec:methods:mic}'"
      ]
     },
     "execution_count": 204,
     "metadata": {},
     "output_type": "execute_result"
    }
   ],
   "source": [
    "mod_section_paragraphs[0]"
   ]
  },
  {
   "cell_type": "markdown",
   "id": "67c5a38b-967a-4cdb-be7d-4e4e006422de",
   "metadata": {
    "editable": true,
    "papermill": {
     "duration": 0.031387,
     "end_time": "2024-03-23T05:12:35.526105",
     "exception": false,
     "start_time": "2024-03-23T05:12:35.494718",
     "status": "completed"
    },
    "slideshow": {
     "slide_type": ""
    },
    "tags": []
   },
   "source": [
    "####  Paragraph 00"
   ]
  },
  {
   "cell_type": "code",
   "execution_count": 205,
   "id": "fc15031c-84d9-4af3-99b4-2e691707b746",
   "metadata": {
    "execution": {
     "iopub.execute_input": "2024-03-23T05:12:35.589940Z",
     "iopub.status.busy": "2024-03-23T05:12:35.589494Z",
     "iopub.status.idle": "2024-03-23T05:12:35.592739Z",
     "shell.execute_reply": "2024-03-23T05:12:35.592232Z"
    },
    "papermill": {
     "duration": 0.036194,
     "end_time": "2024-03-23T05:12:35.593521",
     "exception": false,
     "start_time": "2024-03-23T05:12:35.557327",
     "status": "completed"
    },
    "tags": []
   },
   "outputs": [
    {
     "name": "stdout",
     "output_type": "stream",
     "text": [
      "We used the Python package `minepy` [@doi:10.1093/bioinformatics/bts707; @url:https://github.com/minepy/minepy] (version 1.2.5) to estimate the MIC coefficient. In GTEx v8 (whole blood), we used MIC<sub>e</sub> (an improved implementation of the original MIC introduced in [@Reshef2016]) with the default parameters `alpha=0.6`, `c=15` and `estimator='mic_e'`. We used the `pairwise_distances` function from `scikit-learn` [@Sklearn2011] to parallelize the computation of MIC on GTEx. For our computational complexity analyses (see [Supplementary Material](#sec:time_test)), we ran the original MIC (using parameter `estimator='mic_approx'`) and MIC<sub>e</sub> (`estimator='mic_e'`).\n"
     ]
    }
   ],
   "source": [
    "par0 = process_paragraph(orig_section_paragraphs[1])\n",
    "print(par0)"
   ]
  },
  {
   "cell_type": "code",
   "execution_count": 206,
   "id": "829749f2-1cb7-45c1-b897-7d721c79bf66",
   "metadata": {
    "execution": {
     "iopub.execute_input": "2024-03-23T05:12:35.658016Z",
     "iopub.status.busy": "2024-03-23T05:12:35.657549Z",
     "iopub.status.idle": "2024-03-23T05:12:35.660754Z",
     "shell.execute_reply": "2024-03-23T05:12:35.660234Z"
    },
    "papermill": {
     "duration": 0.036042,
     "end_time": "2024-03-23T05:12:35.661540",
     "exception": false,
     "start_time": "2024-03-23T05:12:35.625498",
     "status": "completed"
    },
    "tags": []
   },
   "outputs": [
    {
     "name": "stdout",
     "output_type": "stream",
     "text": [
      "We used the Python package `minepy` [@doi:10.1093/bioinformatics/bts707; @url:https://github.com/minepy/minepy] (version 1.2.5) to estimate the Maximal Information Coefficient (MIC) coefficient. In GTEx v8 (whole blood), we used MIC<sub>e</sub>, an improved implementation of the original MIC introduced in Reshef et al. (2016) with the default parameters `alpha=0.6`, `c=15`, and `estimator='mic_e'`. We utilized the `pairwise_distances` function from `scikit-learn` [@Sklearn2011] to parallelize the computation of MIC on GTEx. For our computational complexity analyses (see Supplementary Material), we ran the original MIC (using parameter `estimator='mic_approx'`) and MIC<sub>e</sub> (with `estimator='mic_e'`).\n"
     ]
    }
   ],
   "source": [
    "par1 = process_paragraph(mod_section_paragraphs[1])\n",
    "print(par1)"
   ]
  },
  {
   "cell_type": "code",
   "execution_count": 207,
   "id": "c3054236-fc40-4d23-8cf3-48b81a2e78c2",
   "metadata": {
    "execution": {
     "iopub.execute_input": "2024-03-23T05:12:35.725476Z",
     "iopub.status.busy": "2024-03-23T05:12:35.725286Z",
     "iopub.status.idle": "2024-03-23T05:12:35.728018Z",
     "shell.execute_reply": "2024-03-23T05:12:35.727523Z"
    },
    "papermill": {
     "duration": 0.035442,
     "end_time": "2024-03-23T05:12:35.728806",
     "exception": false,
     "start_time": "2024-03-23T05:12:35.693364",
     "status": "completed"
    },
    "tags": []
   },
   "outputs": [],
   "source": [
    "paragraph_matches.append(\n",
    "    (\n",
    "        section_name,\n",
    "        par0,\n",
    "        par1,\n",
    "    )\n",
    ")"
   ]
  },
  {
   "cell_type": "code",
   "execution_count": 208,
   "id": "bba7fc51-97e3-4100-8bc2-922881f26556",
   "metadata": {
    "execution": {
     "iopub.execute_input": "2024-03-23T05:12:35.819531Z",
     "iopub.status.busy": "2024-03-23T05:12:35.819341Z",
     "iopub.status.idle": "2024-03-23T05:12:35.822940Z",
     "shell.execute_reply": "2024-03-23T05:12:35.822478Z"
    },
    "papermill": {
     "duration": 0.036631,
     "end_time": "2024-03-23T05:12:35.823744",
     "exception": false,
     "start_time": "2024-03-23T05:12:35.787113",
     "status": "completed"
    },
    "tags": []
   },
   "outputs": [
    {
     "data": {
      "text/plain": [
       "('methods',\n",
       " \"We used the Python package `minepy` [@doi:10.1093/bioinformatics/bts707; @url:https://github.com/minepy/minepy] (version 1.2.5) to estimate the MIC coefficient. In GTEx v8 (whole blood), we used MIC<sub>e</sub> (an improved implementation of the original MIC introduced in [@Reshef2016]) with the default parameters `alpha=0.6`, `c=15` and `estimator='mic_e'`. We used the `pairwise_distances` function from `scikit-learn` [@Sklearn2011] to parallelize the computation of MIC on GTEx. For our computational complexity analyses (see [Supplementary Material](#sec:time_test)), we ran the original MIC (using parameter `estimator='mic_approx'`) and MIC<sub>e</sub> (`estimator='mic_e'`).\",\n",
       " \"We used the Python package `minepy` [@doi:10.1093/bioinformatics/bts707; @url:https://github.com/minepy/minepy] (version 1.2.5) to estimate the Maximal Information Coefficient (MIC) coefficient. In GTEx v8 (whole blood), we used MIC<sub>e</sub>, an improved implementation of the original MIC introduced in Reshef et al. (2016) with the default parameters `alpha=0.6`, `c=15`, and `estimator='mic_e'`. We utilized the `pairwise_distances` function from `scikit-learn` [@Sklearn2011] to parallelize the computation of MIC on GTEx. For our computational complexity analyses (see Supplementary Material), we ran the original MIC (using parameter `estimator='mic_approx'`) and MIC<sub>e</sub> (with `estimator='mic_e'`).\")"
      ]
     },
     "metadata": {},
     "output_type": "display_data"
    }
   ],
   "source": [
    "display(paragraph_matches[-1])"
   ]
  },
  {
   "cell_type": "markdown",
   "id": "6d45b21f-dc1f-470c-aa18-8281551f08ea",
   "metadata": {
    "editable": true,
    "papermill": {
     "duration": 0.03168,
     "end_time": "2024-03-23T05:12:35.887399",
     "exception": false,
     "start_time": "2024-03-23T05:12:35.855719",
     "status": "completed"
    },
    "slideshow": {
     "slide_type": ""
    },
    "tags": []
   },
   "source": [
    "## Supplementary material"
   ]
  },
  {
   "cell_type": "code",
   "execution_count": 209,
   "id": "eb506c88-55d9-45cf-8967-b8dc5ee991d4",
   "metadata": {
    "execution": {
     "iopub.execute_input": "2024-03-23T05:12:35.950958Z",
     "iopub.status.busy": "2024-03-23T05:12:35.950767Z",
     "iopub.status.idle": "2024-03-23T05:12:35.953334Z",
     "shell.execute_reply": "2024-03-23T05:12:35.952847Z"
    },
    "papermill": {
     "duration": 0.035284,
     "end_time": "2024-03-23T05:12:35.954052",
     "exception": false,
     "start_time": "2024-03-23T05:12:35.918768",
     "status": "completed"
    },
    "tags": []
   },
   "outputs": [],
   "source": [
    "section_name = \"supplementary material\""
   ]
  },
  {
   "cell_type": "code",
   "execution_count": 210,
   "id": "80f48a6c-8bb6-4cc6-9c59-b331faa12e4a",
   "metadata": {
    "editable": true,
    "execution": {
     "iopub.execute_input": "2024-03-23T05:12:36.019556Z",
     "iopub.status.busy": "2024-03-23T05:12:36.018987Z",
     "iopub.status.idle": "2024-03-23T05:12:36.022277Z",
     "shell.execute_reply": "2024-03-23T05:12:36.021769Z"
    },
    "papermill": {
     "duration": 0.037041,
     "end_time": "2024-03-23T05:12:36.023087",
     "exception": false,
     "start_time": "2024-03-23T05:12:35.986046",
     "status": "completed"
    },
    "slideshow": {
     "slide_type": ""
    },
    "tags": []
   },
   "outputs": [
    {
     "name": "stdout",
     "output_type": "stream",
     "text": [
      "content/20.00.supplementary_material.md\n"
     ]
    }
   ],
   "source": [
    "pr_filename = pr_files[10].filename\n",
    "assert \"supplementary\" in pr_filename\n",
    "print(pr_filename)"
   ]
  },
  {
   "cell_type": "markdown",
   "id": "f8f778d6-b726-44cd-965a-deabc1e43df6",
   "metadata": {
    "editable": true,
    "papermill": {
     "duration": 0.031942,
     "end_time": "2024-03-23T05:12:36.087402",
     "exception": false,
     "start_time": "2024-03-23T05:12:36.055460",
     "status": "completed"
    },
    "slideshow": {
     "slide_type": ""
    },
    "tags": []
   },
   "source": [
    "### Original"
   ]
  },
  {
   "cell_type": "code",
   "execution_count": 211,
   "id": "5326b431-733c-4824-b11b-06e1c93d5332",
   "metadata": {
    "execution": {
     "iopub.execute_input": "2024-03-23T05:12:36.151598Z",
     "iopub.status.busy": "2024-03-23T05:12:36.151403Z",
     "iopub.status.idle": "2024-03-23T05:12:36.300853Z",
     "shell.execute_reply": "2024-03-23T05:12:36.300273Z"
    },
    "papermill": {
     "duration": 0.182551,
     "end_time": "2024-03-23T05:12:36.301666",
     "exception": false,
     "start_time": "2024-03-23T05:12:36.119115",
     "status": "completed"
    },
    "tags": []
   },
   "outputs": [
    {
     "name": "stdout",
     "output_type": "stream",
     "text": [
      "## Supplementary material {.page_break_before}\n",
      "\n",
      "##\n"
     ]
    }
   ],
   "source": [
    "# get content\n",
    "orig_section_content = repo.get_contents(pr_filename, pr_prev).decoded_content.decode(\n",
    "    \"utf-8\"\n",
    ")\n",
    "print(orig_section_content[:50])"
   ]
  },
  {
   "cell_type": "code",
   "execution_count": 212,
   "id": "ecae7b08-e1a6-446e-891c-9d8df471e07b",
   "metadata": {
    "execution": {
     "iopub.execute_input": "2024-03-23T05:12:36.366337Z",
     "iopub.status.busy": "2024-03-23T05:12:36.366132Z",
     "iopub.status.idle": "2024-03-23T05:12:36.369891Z",
     "shell.execute_reply": "2024-03-23T05:12:36.369391Z"
    },
    "papermill": {
     "duration": 0.037166,
     "end_time": "2024-03-23T05:12:36.370681",
     "exception": false,
     "start_time": "2024-03-23T05:12:36.333515",
     "status": "completed"
    },
    "tags": []
   },
   "outputs": [
    {
     "data": {
      "text/plain": [
       "14"
      ]
     },
     "metadata": {},
     "output_type": "display_data"
    }
   ],
   "source": [
    "# split by paragraph\n",
    "orig_section_paragraphs = orig_section_content.split(\"\\n\\n\")\n",
    "display(len(orig_section_paragraphs))"
   ]
  },
  {
   "cell_type": "markdown",
   "id": "6233852e-953c-4acd-9f8b-f845ce267431",
   "metadata": {
    "editable": true,
    "papermill": {
     "duration": 0.03167,
     "end_time": "2024-03-23T05:12:36.435057",
     "exception": false,
     "start_time": "2024-03-23T05:12:36.403387",
     "status": "completed"
    },
    "slideshow": {
     "slide_type": ""
    },
    "tags": []
   },
   "source": [
    "### Modified"
   ]
  },
  {
   "cell_type": "code",
   "execution_count": 213,
   "id": "8f929b17-a144-4301-b40b-c10ef24bfd09",
   "metadata": {
    "execution": {
     "iopub.execute_input": "2024-03-23T05:12:36.500378Z",
     "iopub.status.busy": "2024-03-23T05:12:36.499873Z",
     "iopub.status.idle": "2024-03-23T05:12:36.690754Z",
     "shell.execute_reply": "2024-03-23T05:12:36.690213Z"
    },
    "papermill": {
     "duration": 0.2249,
     "end_time": "2024-03-23T05:12:36.691752",
     "exception": false,
     "start_time": "2024-03-23T05:12:36.466852",
     "status": "completed"
    },
    "tags": []
   },
   "outputs": [
    {
     "name": "stdout",
     "output_type": "stream",
     "text": [
      "## Supplementary material {.page_break_before}\n",
      "\n",
      "##\n"
     ]
    }
   ],
   "source": [
    "# get content\n",
    "mod_section_content = repo.get_contents(pr_filename, pr_curr).decoded_content.decode(\n",
    "    \"utf-8\"\n",
    ")\n",
    "print(mod_section_content[:50])"
   ]
  },
  {
   "cell_type": "code",
   "execution_count": 214,
   "id": "bfa5e191-05b6-4f0d-802b-5625d233d8a2",
   "metadata": {
    "execution": {
     "iopub.execute_input": "2024-03-23T05:12:36.782717Z",
     "iopub.status.busy": "2024-03-23T05:12:36.782265Z",
     "iopub.status.idle": "2024-03-23T05:12:36.786153Z",
     "shell.execute_reply": "2024-03-23T05:12:36.785547Z"
    },
    "papermill": {
     "duration": 0.04783,
     "end_time": "2024-03-23T05:12:36.786864",
     "exception": false,
     "start_time": "2024-03-23T05:12:36.739034",
     "status": "completed"
    },
    "tags": []
   },
   "outputs": [
    {
     "data": {
      "text/plain": [
       "14"
      ]
     },
     "metadata": {},
     "output_type": "display_data"
    }
   ],
   "source": [
    "# split by paragraph\n",
    "mod_section_paragraphs = mod_section_content.split(\"\\n\\n\")\n",
    "display(len(mod_section_paragraphs))"
   ]
  },
  {
   "cell_type": "markdown",
   "id": "a64b872b-1c89-4e59-9744-77431d80c867",
   "metadata": {
    "editable": true,
    "papermill": {
     "duration": 0.032051,
     "end_time": "2024-03-23T05:12:36.850970",
     "exception": false,
     "start_time": "2024-03-23T05:12:36.818919",
     "status": "completed"
    },
    "slideshow": {
     "slide_type": ""
    },
    "tags": []
   },
   "source": [
    "### Match"
   ]
  },
  {
   "cell_type": "code",
   "execution_count": 215,
   "id": "da56bb66-a1aa-4bb8-9706-41a66db00310",
   "metadata": {
    "execution": {
     "iopub.execute_input": "2024-03-23T05:12:36.915577Z",
     "iopub.status.busy": "2024-03-23T05:12:36.915183Z",
     "iopub.status.idle": "2024-03-23T05:12:36.918688Z",
     "shell.execute_reply": "2024-03-23T05:12:36.918257Z"
    },
    "papermill": {
     "duration": 0.036574,
     "end_time": "2024-03-23T05:12:36.919357",
     "exception": false,
     "start_time": "2024-03-23T05:12:36.882783",
     "status": "completed"
    },
    "tags": []
   },
   "outputs": [
    {
     "data": {
      "text/plain": [
       "'## Supplementary material {.page_break_before}'"
      ]
     },
     "execution_count": 215,
     "metadata": {},
     "output_type": "execute_result"
    }
   ],
   "source": [
    "orig_section_paragraphs[0]"
   ]
  },
  {
   "cell_type": "code",
   "execution_count": 216,
   "id": "7c647270-f58a-4cf0-ada7-fd45aea16193",
   "metadata": {
    "execution": {
     "iopub.execute_input": "2024-03-23T05:12:36.984026Z",
     "iopub.status.busy": "2024-03-23T05:12:36.983618Z",
     "iopub.status.idle": "2024-03-23T05:12:36.986992Z",
     "shell.execute_reply": "2024-03-23T05:12:36.986566Z"
    },
    "papermill": {
     "duration": 0.036546,
     "end_time": "2024-03-23T05:12:36.987720",
     "exception": false,
     "start_time": "2024-03-23T05:12:36.951174",
     "status": "completed"
    },
    "tags": []
   },
   "outputs": [
    {
     "data": {
      "text/plain": [
       "'## Supplementary material {.page_break_before}'"
      ]
     },
     "execution_count": 216,
     "metadata": {},
     "output_type": "execute_result"
    }
   ],
   "source": [
    "mod_section_paragraphs[0]"
   ]
  },
  {
   "cell_type": "markdown",
   "id": "469a6a3c-e8c5-49c5-a1eb-2314a7b2302a",
   "metadata": {
    "editable": true,
    "papermill": {
     "duration": 0.032033,
     "end_time": "2024-03-23T05:12:37.051723",
     "exception": false,
     "start_time": "2024-03-23T05:12:37.019690",
     "status": "completed"
    },
    "slideshow": {
     "slide_type": ""
    },
    "tags": []
   },
   "source": [
    "####  Paragraph 00"
   ]
  },
  {
   "cell_type": "code",
   "execution_count": 217,
   "id": "efa5226e-5064-4bfa-965d-2cd12e0aab4a",
   "metadata": {
    "execution": {
     "iopub.execute_input": "2024-03-23T05:12:37.116296Z",
     "iopub.status.busy": "2024-03-23T05:12:37.116088Z",
     "iopub.status.idle": "2024-03-23T05:12:37.119066Z",
     "shell.execute_reply": "2024-03-23T05:12:37.118621Z"
    },
    "papermill": {
     "duration": 0.036125,
     "end_time": "2024-03-23T05:12:37.119803",
     "exception": false,
     "start_time": "2024-03-23T05:12:37.083678",
     "status": "completed"
    },
    "tags": []
   },
   "outputs": [
    {
     "name": "stdout",
     "output_type": "stream",
     "text": [
      "We compared all the coefficients in this study with MIC [@pmid:22174245], a popular nonlinear method that can find complex relationships in data, although very computationally intensive [@doi:10.1098/rsos.201424]. We ran MIC<sub>e</sub> (see Methods) on all possible pairwise comparisons of our 5,000 highly variable genes from whole blood in GTEx v8. This took 4 days and 19 hours to finish (compared with 9 hours for CCC). Then we performed the analysis on the distribution of coefficients (the same as in the main text), shown in Figure @fig:dist_coefs_mic. We verified that CCC and MIC behave similarly in this dataset, with essentially the same distribution but only shifted. Figure @fig:dist_coefs_mic c shows that these two coefficients relate almost linearly, and both compare very similarly with Pearson and Spearman.\n"
     ]
    }
   ],
   "source": [
    "par0 = process_paragraph(orig_section_paragraphs[2])\n",
    "print(par0)"
   ]
  },
  {
   "cell_type": "code",
   "execution_count": 218,
   "id": "71f77d77-644e-4442-a351-ad6548544d4d",
   "metadata": {
    "execution": {
     "iopub.execute_input": "2024-03-23T05:12:37.185461Z",
     "iopub.status.busy": "2024-03-23T05:12:37.185034Z",
     "iopub.status.idle": "2024-03-23T05:12:37.187943Z",
     "shell.execute_reply": "2024-03-23T05:12:37.187509Z"
    },
    "papermill": {
     "duration": 0.036938,
     "end_time": "2024-03-23T05:12:37.188685",
     "exception": false,
     "start_time": "2024-03-23T05:12:37.151747",
     "status": "completed"
    },
    "tags": []
   },
   "outputs": [
    {
     "name": "stdout",
     "output_type": "stream",
     "text": [
      "We compared the coefficients from our study with the MIC method, which is known for identifying complex relationships in data but is computationally intensive. We applied MICe to all possible pairwise comparisons of 5,000 highly variable genes from whole blood in GTEx v8. This process took 4 days and 19 hours to complete, significantly longer than the 9 hours required for CCC. The analysis of coefficient distribution, as described in the main text, is shown in Figure 1. We found that CCC and MIC exhibited similar behavior in this dataset, with comparable distributions that were only slightly shifted. Figure 1c illustrates a nearly linear relationship between these two coefficients, which also showed similarities with Pearson and Spearman correlations.\n"
     ]
    }
   ],
   "source": [
    "par1 = process_paragraph(mod_section_paragraphs[2])\n",
    "print(par1)"
   ]
  },
  {
   "cell_type": "code",
   "execution_count": 219,
   "id": "b2424cd0-b116-462c-ab7b-7d9b558eaf8b",
   "metadata": {
    "execution": {
     "iopub.execute_input": "2024-03-23T05:12:37.254860Z",
     "iopub.status.busy": "2024-03-23T05:12:37.254654Z",
     "iopub.status.idle": "2024-03-23T05:12:37.257320Z",
     "shell.execute_reply": "2024-03-23T05:12:37.256869Z"
    },
    "papermill": {
     "duration": 0.037003,
     "end_time": "2024-03-23T05:12:37.258107",
     "exception": false,
     "start_time": "2024-03-23T05:12:37.221104",
     "status": "completed"
    },
    "tags": []
   },
   "outputs": [],
   "source": [
    "paragraph_matches.append(\n",
    "    (\n",
    "        section_name,\n",
    "        par0,\n",
    "        par1,\n",
    "    )\n",
    ")"
   ]
  },
  {
   "cell_type": "code",
   "execution_count": 220,
   "id": "95819616-d4c8-4297-8f39-908533eef881",
   "metadata": {
    "execution": {
     "iopub.execute_input": "2024-03-23T05:12:37.354766Z",
     "iopub.status.busy": "2024-03-23T05:12:37.354281Z",
     "iopub.status.idle": "2024-03-23T05:12:37.357923Z",
     "shell.execute_reply": "2024-03-23T05:12:37.357443Z"
    },
    "papermill": {
     "duration": 0.0409,
     "end_time": "2024-03-23T05:12:37.358631",
     "exception": false,
     "start_time": "2024-03-23T05:12:37.317731",
     "status": "completed"
    },
    "tags": []
   },
   "outputs": [
    {
     "data": {
      "text/plain": [
       "('supplementary material',\n",
       " 'We compared all the coefficients in this study with MIC [@pmid:22174245], a popular nonlinear method that can find complex relationships in data, although very computationally intensive [@doi:10.1098/rsos.201424]. We ran MIC<sub>e</sub> (see Methods) on all possible pairwise comparisons of our 5,000 highly variable genes from whole blood in GTEx v8. This took 4 days and 19 hours to finish (compared with 9 hours for CCC). Then we performed the analysis on the distribution of coefficients (the same as in the main text), shown in Figure @fig:dist_coefs_mic. We verified that CCC and MIC behave similarly in this dataset, with essentially the same distribution but only shifted. Figure @fig:dist_coefs_mic c shows that these two coefficients relate almost linearly, and both compare very similarly with Pearson and Spearman.',\n",
       " 'We compared the coefficients from our study with the MIC method, which is known for identifying complex relationships in data but is computationally intensive. We applied MICe to all possible pairwise comparisons of 5,000 highly variable genes from whole blood in GTEx v8. This process took 4 days and 19 hours to complete, significantly longer than the 9 hours required for CCC. The analysis of coefficient distribution, as described in the main text, is shown in Figure 1. We found that CCC and MIC exhibited similar behavior in this dataset, with comparable distributions that were only slightly shifted. Figure 1c illustrates a nearly linear relationship between these two coefficients, which also showed similarities with Pearson and Spearman correlations.')"
      ]
     },
     "metadata": {},
     "output_type": "display_data"
    }
   ],
   "source": [
    "display(paragraph_matches[-1])"
   ]
  },
  {
   "cell_type": "markdown",
   "id": "886bb81d-36e0-4c67-a888-453cd6e38127",
   "metadata": {
    "editable": true,
    "papermill": {
     "duration": 0.032538,
     "end_time": "2024-03-23T05:12:37.423799",
     "exception": false,
     "start_time": "2024-03-23T05:12:37.391261",
     "status": "completed"
    },
    "slideshow": {
     "slide_type": ""
    },
    "tags": []
   },
   "source": [
    "####  Paragraph 01"
   ]
  },
  {
   "cell_type": "code",
   "execution_count": 221,
   "id": "1efff32a-48b6-478e-8747-05cdcb08ee5a",
   "metadata": {
    "execution": {
     "iopub.execute_input": "2024-03-23T05:12:37.489001Z",
     "iopub.status.busy": "2024-03-23T05:12:37.488810Z",
     "iopub.status.idle": "2024-03-23T05:12:37.491784Z",
     "shell.execute_reply": "2024-03-23T05:12:37.491335Z"
    },
    "papermill": {
     "duration": 0.036658,
     "end_time": "2024-03-23T05:12:37.492534",
     "exception": false,
     "start_time": "2024-03-23T05:12:37.455876",
     "status": "completed"
    },
    "tags": []
   },
   "outputs": [
    {
     "name": "stdout",
     "output_type": "stream",
     "text": [
      "We also compared CCC with the other coefficients in terms of computational complexity. Although CCC and MIC might identify similar gene pairs in gene expression data (see [here](#sec:mic)), the use of MIC in large datasets remains limited due to its very long computation time, despite some methodological/implementation improvements [@doi:10.1093/bioinformatics/bts707; @doi:10.1371/journal.pone.0157567; @doi:10.4137/EBO.S13121; @doi:10.1038/srep06662; @doi:10.1098/rsos.201424]. The original MIC implementation uses ApproxMaxMI, a computationally demanding heuristic estimator [@doi:10.1126/science.1205438]. Recently, a more efficient implementation called MIC<sub>e</sub> was proposed [@Reshef2016]. These two MIC estimators are provided by the `minepy` package [@doi:10.1093/bioinformatics/bts707], a C implementation available for Python. We compared all these coefficients in terms of computation time on randomly generated variables of different sizes, which simulates a scenario of gene expression data with different numbers of conditions. Differently from the rest, CCC allows us to easily parallelize the computation of a single gene pair (see [Methods](#sec:ccc_algo)), so we also tested the cases using 1 and 3 CPU cores. Figure @fig:time_test shows the time in seconds in log scale.\n"
     ]
    }
   ],
   "source": [
    "par0 = process_paragraph(orig_section_paragraphs[6])\n",
    "print(par0)"
   ]
  },
  {
   "cell_type": "code",
   "execution_count": 222,
   "id": "9dab826c-06db-4a69-9a3c-81d3d44f6857",
   "metadata": {
    "execution": {
     "iopub.execute_input": "2024-03-23T05:12:37.558272Z",
     "iopub.status.busy": "2024-03-23T05:12:37.557850Z",
     "iopub.status.idle": "2024-03-23T05:12:37.560853Z",
     "shell.execute_reply": "2024-03-23T05:12:37.560402Z"
    },
    "papermill": {
     "duration": 0.036794,
     "end_time": "2024-03-23T05:12:37.561613",
     "exception": false,
     "start_time": "2024-03-23T05:12:37.524819",
     "status": "completed"
    },
    "tags": []
   },
   "outputs": [
    {
     "name": "stdout",
     "output_type": "stream",
     "text": [
      "We compared CCC with other correlation coefficients in terms of computational complexity. While CCC and MIC may identify similar gene pairs in gene expression data, MIC is limited in large datasets due to its long computation time. Some improvements have been made to the MIC method, but its original implementation, which uses ApproxMaxMI, is computationally demanding. A more efficient implementation called MICe has been proposed. Both MIC estimators are included in the minepy package, a C implementation available for Python. We compared these coefficients in terms of computation time on randomly generated variables of different sizes to simulate scenarios of gene expression data with varying numbers of conditions. Unlike other coefficients, CCC allows for easy parallelization of the computation of a single gene pair. We tested the cases using 1 and 3 CPU cores. The results are shown in Figure 1.\n"
     ]
    }
   ],
   "source": [
    "par1 = process_paragraph(mod_section_paragraphs[6])\n",
    "print(par1)"
   ]
  },
  {
   "cell_type": "code",
   "execution_count": 223,
   "id": "925380f8-424e-4ad4-a785-7c1cf03dec70",
   "metadata": {
    "execution": {
     "iopub.execute_input": "2024-03-23T05:12:37.627408Z",
     "iopub.status.busy": "2024-03-23T05:12:37.627220Z",
     "iopub.status.idle": "2024-03-23T05:12:37.629888Z",
     "shell.execute_reply": "2024-03-23T05:12:37.629410Z"
    },
    "papermill": {
     "duration": 0.03651,
     "end_time": "2024-03-23T05:12:37.630625",
     "exception": false,
     "start_time": "2024-03-23T05:12:37.594115",
     "status": "completed"
    },
    "tags": []
   },
   "outputs": [],
   "source": [
    "paragraph_matches.append(\n",
    "    (\n",
    "        section_name,\n",
    "        par0,\n",
    "        par1,\n",
    "    )\n",
    ")"
   ]
  },
  {
   "cell_type": "code",
   "execution_count": 224,
   "id": "cf9819c9-d8ad-4c64-9937-05b88634ff71",
   "metadata": {
    "execution": {
     "iopub.execute_input": "2024-03-23T05:12:37.696250Z",
     "iopub.status.busy": "2024-03-23T05:12:37.696063Z",
     "iopub.status.idle": "2024-03-23T05:12:37.699533Z",
     "shell.execute_reply": "2024-03-23T05:12:37.699106Z"
    },
    "papermill": {
     "duration": 0.037176,
     "end_time": "2024-03-23T05:12:37.700213",
     "exception": false,
     "start_time": "2024-03-23T05:12:37.663037",
     "status": "completed"
    },
    "tags": []
   },
   "outputs": [
    {
     "data": {
      "text/plain": [
       "('supplementary material',\n",
       " 'We also compared CCC with the other coefficients in terms of computational complexity. Although CCC and MIC might identify similar gene pairs in gene expression data (see [here](#sec:mic)), the use of MIC in large datasets remains limited due to its very long computation time, despite some methodological/implementation improvements [@doi:10.1093/bioinformatics/bts707; @doi:10.1371/journal.pone.0157567; @doi:10.4137/EBO.S13121; @doi:10.1038/srep06662; @doi:10.1098/rsos.201424]. The original MIC implementation uses ApproxMaxMI, a computationally demanding heuristic estimator [@doi:10.1126/science.1205438]. Recently, a more efficient implementation called MIC<sub>e</sub> was proposed [@Reshef2016]. These two MIC estimators are provided by the `minepy` package [@doi:10.1093/bioinformatics/bts707], a C implementation available for Python. We compared all these coefficients in terms of computation time on randomly generated variables of different sizes, which simulates a scenario of gene expression data with different numbers of conditions. Differently from the rest, CCC allows us to easily parallelize the computation of a single gene pair (see [Methods](#sec:ccc_algo)), so we also tested the cases using 1 and 3 CPU cores. Figure @fig:time_test shows the time in seconds in log scale.',\n",
       " 'We compared CCC with other correlation coefficients in terms of computational complexity. While CCC and MIC may identify similar gene pairs in gene expression data, MIC is limited in large datasets due to its long computation time. Some improvements have been made to the MIC method, but its original implementation, which uses ApproxMaxMI, is computationally demanding. A more efficient implementation called MICe has been proposed. Both MIC estimators are included in the minepy package, a C implementation available for Python. We compared these coefficients in terms of computation time on randomly generated variables of different sizes to simulate scenarios of gene expression data with varying numbers of conditions. Unlike other coefficients, CCC allows for easy parallelization of the computation of a single gene pair. We tested the cases using 1 and 3 CPU cores. The results are shown in Figure 1.')"
      ]
     },
     "metadata": {},
     "output_type": "display_data"
    }
   ],
   "source": [
    "display(paragraph_matches[-1])"
   ]
  },
  {
   "cell_type": "markdown",
   "id": "b657d1c7-105f-41cf-be52-84abfe78027e",
   "metadata": {
    "editable": true,
    "papermill": {
     "duration": 0.032473,
     "end_time": "2024-03-23T05:12:37.765240",
     "exception": false,
     "start_time": "2024-03-23T05:12:37.732767",
     "status": "completed"
    },
    "slideshow": {
     "slide_type": ""
    },
    "tags": []
   },
   "source": [
    "####  Paragraph 02"
   ]
  },
  {
   "cell_type": "code",
   "execution_count": 225,
   "id": "db092b9a-b322-42a3-b871-5a7009ffbb44",
   "metadata": {
    "execution": {
     "iopub.execute_input": "2024-03-23T05:12:37.831090Z",
     "iopub.status.busy": "2024-03-23T05:12:37.830529Z",
     "iopub.status.idle": "2024-03-23T05:12:37.834280Z",
     "shell.execute_reply": "2024-03-23T05:12:37.833715Z"
    },
    "papermill": {
     "duration": 0.03775,
     "end_time": "2024-03-23T05:12:37.835068",
     "exception": false,
     "start_time": "2024-03-23T05:12:37.797318",
     "status": "completed"
    },
    "tags": []
   },
   "outputs": [
    {
     "name": "stdout",
     "output_type": "stream",
     "text": [
      "As we already expected, Pearson and Spearman were the fastest, given that they only need to compute basic summary statistics from the data. For example, Pearson is three orders of magnitude faster than CCC. Among the nonlinear coefficients, CCC was faster than the two MIC variations (up to two orders of magnitude), with the only exception in very small data sizes. The difference is important because both MIC variants were implemented in C [@doi:10.1093/bioinformatics/bts707], a high-performance programming language, whereas CCC was implemented in Python (optimized with `numba`). For a data size of a million, the multi-core CCC was twice as fast as the single-core CCC. This suggests that new implementations using more advanced processing units (such as GPUs) are feasible and could make CCC reach speeds closer to Pearson.\n"
     ]
    }
   ],
   "source": [
    "par0 = process_paragraph(orig_section_paragraphs[8])\n",
    "print(par0)"
   ]
  },
  {
   "cell_type": "code",
   "execution_count": 226,
   "id": "26d3a58b-62c5-4de7-a566-9b25eec680c6",
   "metadata": {
    "execution": {
     "iopub.execute_input": "2024-03-23T05:12:37.901239Z",
     "iopub.status.busy": "2024-03-23T05:12:37.901031Z",
     "iopub.status.idle": "2024-03-23T05:12:37.904143Z",
     "shell.execute_reply": "2024-03-23T05:12:37.903692Z"
    },
    "papermill": {
     "duration": 0.037288,
     "end_time": "2024-03-23T05:12:37.904888",
     "exception": false,
     "start_time": "2024-03-23T05:12:37.867600",
     "status": "completed"
    },
    "tags": []
   },
   "outputs": [
    {
     "name": "stdout",
     "output_type": "stream",
     "text": [
      "As we anticipated, Pearson and Spearman were the quickest as they only require basic summary statistics from the data. For instance, Pearson is significantly faster than CCC. Among the nonlinear coefficients, CCC was quicker than the two MIC variations (up to two orders of magnitude), except for very small data sizes. This difference is noteworthy because both MIC variants were coded in C, a high-performance programming language, while CCC was coded in Python (optimized with `numba`). For a dataset of a million, the multi-core CCC was twice as fast as the single-core CCC. This indicates that new implementations utilizing more advanced processing units (such as GPUs) are possible and could potentially increase CCC's speed closer to that of Pearson.\n"
     ]
    }
   ],
   "source": [
    "par1 = process_paragraph(mod_section_paragraphs[8])\n",
    "print(par1)"
   ]
  },
  {
   "cell_type": "code",
   "execution_count": 227,
   "id": "97b9a412-f131-45b1-8667-f6355fb3e6ae",
   "metadata": {
    "execution": {
     "iopub.execute_input": "2024-03-23T05:12:37.970180Z",
     "iopub.status.busy": "2024-03-23T05:12:37.969993Z",
     "iopub.status.idle": "2024-03-23T05:12:37.972656Z",
     "shell.execute_reply": "2024-03-23T05:12:37.972209Z"
    },
    "papermill": {
     "duration": 0.036548,
     "end_time": "2024-03-23T05:12:37.973430",
     "exception": false,
     "start_time": "2024-03-23T05:12:37.936882",
     "status": "completed"
    },
    "tags": []
   },
   "outputs": [],
   "source": [
    "paragraph_matches.append(\n",
    "    (\n",
    "        section_name,\n",
    "        par0,\n",
    "        par1,\n",
    "    )\n",
    ")"
   ]
  },
  {
   "cell_type": "code",
   "execution_count": 228,
   "id": "ad8b2ec9-cb0d-4d2c-b545-0cdac789c00f",
   "metadata": {
    "execution": {
     "iopub.execute_input": "2024-03-23T05:12:38.039400Z",
     "iopub.status.busy": "2024-03-23T05:12:38.039058Z",
     "iopub.status.idle": "2024-03-23T05:12:38.042522Z",
     "shell.execute_reply": "2024-03-23T05:12:38.042070Z"
    },
    "papermill": {
     "duration": 0.037187,
     "end_time": "2024-03-23T05:12:38.043216",
     "exception": false,
     "start_time": "2024-03-23T05:12:38.006029",
     "status": "completed"
    },
    "tags": []
   },
   "outputs": [
    {
     "data": {
      "text/plain": [
       "('supplementary material',\n",
       " 'As we already expected, Pearson and Spearman were the fastest, given that they only need to compute basic summary statistics from the data. For example, Pearson is three orders of magnitude faster than CCC. Among the nonlinear coefficients, CCC was faster than the two MIC variations (up to two orders of magnitude), with the only exception in very small data sizes. The difference is important because both MIC variants were implemented in C [@doi:10.1093/bioinformatics/bts707], a high-performance programming language, whereas CCC was implemented in Python (optimized with `numba`). For a data size of a million, the multi-core CCC was twice as fast as the single-core CCC. This suggests that new implementations using more advanced processing units (such as GPUs) are feasible and could make CCC reach speeds closer to Pearson.',\n",
       " \"As we anticipated, Pearson and Spearman were the quickest as they only require basic summary statistics from the data. For instance, Pearson is significantly faster than CCC. Among the nonlinear coefficients, CCC was quicker than the two MIC variations (up to two orders of magnitude), except for very small data sizes. This difference is noteworthy because both MIC variants were coded in C, a high-performance programming language, while CCC was coded in Python (optimized with `numba`). For a dataset of a million, the multi-core CCC was twice as fast as the single-core CCC. This indicates that new implementations utilizing more advanced processing units (such as GPUs) are possible and could potentially increase CCC's speed closer to that of Pearson.\")"
      ]
     },
     "metadata": {},
     "output_type": "display_data"
    }
   ],
   "source": [
    "display(paragraph_matches[-1])"
   ]
  },
  {
   "cell_type": "markdown",
   "id": "9a45b8eb-9a57-4d0a-b311-b7ce8f6b4ceb",
   "metadata": {
    "editable": true,
    "papermill": {
     "duration": 0.032777,
     "end_time": "2024-03-23T05:12:38.108272",
     "exception": false,
     "start_time": "2024-03-23T05:12:38.075495",
     "status": "completed"
    },
    "slideshow": {
     "slide_type": ""
    },
    "tags": []
   },
   "source": [
    "# Close connections"
   ]
  },
  {
   "cell_type": "code",
   "execution_count": 229,
   "id": "91fcd4bb-131b-42b2-b64f-127441bd608b",
   "metadata": {
    "editable": true,
    "execution": {
     "iopub.execute_input": "2024-03-23T05:12:38.173731Z",
     "iopub.status.busy": "2024-03-23T05:12:38.173547Z",
     "iopub.status.idle": "2024-03-23T05:12:38.177230Z",
     "shell.execute_reply": "2024-03-23T05:12:38.176764Z"
    },
    "papermill": {
     "duration": 0.037494,
     "end_time": "2024-03-23T05:12:38.178018",
     "exception": false,
     "start_time": "2024-03-23T05:12:38.140524",
     "status": "completed"
    },
    "slideshow": {
     "slide_type": ""
    },
    "tags": []
   },
   "outputs": [],
   "source": [
    "g.close()"
   ]
  },
  {
   "cell_type": "markdown",
   "id": "be4b2259-6562-4d79-a0d2-a594c44a7fa8",
   "metadata": {
    "editable": true,
    "papermill": {
     "duration": 0.032617,
     "end_time": "2024-03-23T05:12:38.243161",
     "exception": false,
     "start_time": "2024-03-23T05:12:38.210544",
     "status": "completed"
    },
    "slideshow": {
     "slide_type": ""
    },
    "tags": []
   },
   "source": [
    "# Save"
   ]
  },
  {
   "cell_type": "code",
   "execution_count": 230,
   "id": "6b7e80bd-f678-4047-b0f6-3c4e55de4767",
   "metadata": {
    "editable": true,
    "execution": {
     "iopub.execute_input": "2024-03-23T05:12:38.309679Z",
     "iopub.status.busy": "2024-03-23T05:12:38.309160Z",
     "iopub.status.idle": "2024-03-23T05:12:38.313343Z",
     "shell.execute_reply": "2024-03-23T05:12:38.312829Z"
    },
    "papermill": {
     "duration": 0.038434,
     "end_time": "2024-03-23T05:12:38.314191",
     "exception": false,
     "start_time": "2024-03-23T05:12:38.275757",
     "status": "completed"
    },
    "slideshow": {
     "slide_type": ""
    },
    "tags": []
   },
   "outputs": [
    {
     "data": {
      "text/plain": [
       "31"
      ]
     },
     "execution_count": 230,
     "metadata": {},
     "output_type": "execute_result"
    }
   ],
   "source": [
    "len(paragraph_matches)"
   ]
  },
  {
   "cell_type": "code",
   "execution_count": 231,
   "id": "876f2147-1ea0-4f45-8eb2-722761b5394c",
   "metadata": {
    "execution": {
     "iopub.execute_input": "2024-03-23T05:12:38.381715Z",
     "iopub.status.busy": "2024-03-23T05:12:38.381281Z",
     "iopub.status.idle": "2024-03-23T05:12:38.384900Z",
     "shell.execute_reply": "2024-03-23T05:12:38.384479Z"
    },
    "papermill": {
     "duration": 0.038307,
     "end_time": "2024-03-23T05:12:38.385682",
     "exception": false,
     "start_time": "2024-03-23T05:12:38.347375",
     "status": "completed"
    },
    "tags": []
   },
   "outputs": [
    {
     "data": {
      "text/plain": [
       "[('abstract',\n",
       "  'Correlation coefficients are widely used to identify patterns in data that may be of particular interest. In transcriptomics, genes with correlated expression often share functions or are part of disease-relevant biological processes. Here we introduce the Clustermatch Correlation Coefficient (CCC), an efficient, easy-to-use and not-only-linear coefficient based on machine learning models. CCC reveals biologically meaningful linear and nonlinear patterns missed by standard, linear-only correlation coefficients. CCC captures general patterns in data by comparing clustering solutions while being much faster than state-of-the-art coefficients such as the Maximal Information Coefficient. When applied to human gene expression data, CCC identifies robust linear relationships while detecting nonlinear patterns associated, for example, with sex differences that are not captured by linear-only coefficients. Gene pairs highly ranked by CCC were enriched for interactions in integrated networks built from protein-protein interaction, transcription factor regulation, and chemical and genetic perturbations, suggesting that CCC could detect functional relationships that linear-only methods missed. CCC is a highly-efficient, next-generation not-only-linear correlation coefficient that can readily be applied to genome-scale data and other domains across different data types.',\n",
       "  'In transcriptomics, identifying patterns in gene expression data is crucial for understanding biological processes. The traditional linear correlation coefficients may not capture all the complexities in gene relationships. To address this, we propose the Clustermatch Correlation Coefficient (CCC), a machine learning-based coefficient that can reveal both linear and nonlinear patterns efficiently. Compared to standard coefficients like the Maximal Information Coefficient, CCC is faster and can detect biologically meaningful patterns that are missed by linear-only methods. When applied to human gene expression data, CCC not only identifies robust linear relationships but also uncovers nonlinear patterns, such as sex differences. Additionally, CCC can detect functional relationships between genes that are overlooked by linear-only methods, as shown by enrichment in integrated networks. Overall, CCC is a versatile and efficient tool that can be applied to genome-scale data and various data types to uncover hidden relationships.'),\n",
       " ('introduction',\n",
       "  'New technologies have vastly improved data collection, generating a deluge of information across different disciplines. This large amount of data provides new opportunities to address unanswered scientific questions, provided we have efficient tools capable of identifying multiple types of underlying patterns. Correlation analysis is an essential statistical technique for discovering relationships between variables [@pmid:21310971]. Correlation coefficients are often used in exploratory data mining techniques, such as clustering or community detection algorithms, to compute a similarity value between a pair of objects of interest such as genes [@pmid:27479844] or disease-relevant lifestyle factors [@doi:10.1073/pnas.1217269109]. Correlation methods are also used in supervised tasks, for example, for feature selection to improve prediction accuracy [@pmid:27006077; @pmid:33729976]. The Pearson correlation coefficient is ubiquitously deployed across application domains and diverse scientific areas. Thus, even minor and significant improvements in these techniques could have enormous consequences in industry and research.',\n",
       "  'Recent advancements in data collection have led to a significant increase in the amount of information available in various fields. This abundance of data presents an opportunity to explore unanswered scientific questions, but efficient tools are needed to uncover different patterns within the data. Correlation analysis, a fundamental statistical method, is commonly used to identify relationships between variables (Smith et al., 2011). Correlation coefficients play a crucial role in data mining approaches, such as clustering algorithms, to measure the similarity between objects of interest, such as genes (Jones et al., 2016) or lifestyle factors related to diseases (Brown et al., 2013). These methods are also applied in supervised tasks, including feature selection to enhance prediction accuracy (Johnson et al., 2017; White et al., 2021). The widespread use of the Pearson correlation coefficient spans various scientific fields and applications. Therefore, even slight improvements in these methods could have a significant impact on both industry and research.')]"
      ]
     },
     "execution_count": 231,
     "metadata": {},
     "output_type": "execute_result"
    }
   ],
   "source": [
    "paragraph_matches[:2]"
   ]
  },
  {
   "cell_type": "code",
   "execution_count": 232,
   "id": "77d20807-9017-4e10-8cb7-6a3c706e9111",
   "metadata": {
    "execution": {
     "iopub.execute_input": "2024-03-23T05:12:38.481638Z",
     "iopub.status.busy": "2024-03-23T05:12:38.481352Z",
     "iopub.status.idle": "2024-03-23T05:12:38.485077Z",
     "shell.execute_reply": "2024-03-23T05:12:38.484640Z"
    },
    "papermill": {
     "duration": 0.03838,
     "end_time": "2024-03-23T05:12:38.485839",
     "exception": false,
     "start_time": "2024-03-23T05:12:38.447459",
     "status": "completed"
    },
    "tags": []
   },
   "outputs": [],
   "source": [
    "df = pd.DataFrame(paragraph_matches).rename(\n",
    "    columns={\n",
    "        0: \"section\",\n",
    "        1: \"original\",\n",
    "        2: \"modified\",\n",
    "    }\n",
    ")"
   ]
  },
  {
   "cell_type": "code",
   "execution_count": 233,
   "id": "44e31258-2754-49a0-af7a-5f3b4ef3a961",
   "metadata": {
    "execution": {
     "iopub.execute_input": "2024-03-23T05:12:38.552779Z",
     "iopub.status.busy": "2024-03-23T05:12:38.552590Z",
     "iopub.status.idle": "2024-03-23T05:12:38.555995Z",
     "shell.execute_reply": "2024-03-23T05:12:38.555563Z"
    },
    "papermill": {
     "duration": 0.037875,
     "end_time": "2024-03-23T05:12:38.556788",
     "exception": false,
     "start_time": "2024-03-23T05:12:38.518913",
     "status": "completed"
    },
    "tags": []
   },
   "outputs": [
    {
     "data": {
      "text/plain": [
       "(31, 3)"
      ]
     },
     "execution_count": 233,
     "metadata": {},
     "output_type": "execute_result"
    }
   ],
   "source": [
    "df.shape"
   ]
  },
  {
   "cell_type": "code",
   "execution_count": 234,
   "id": "f7612c30-e726-474f-8039-aa4bc44d1f16",
   "metadata": {
    "execution": {
     "iopub.execute_input": "2024-03-23T05:12:38.624632Z",
     "iopub.status.busy": "2024-03-23T05:12:38.624277Z",
     "iopub.status.idle": "2024-03-23T05:12:38.631905Z",
     "shell.execute_reply": "2024-03-23T05:12:38.631422Z"
    },
    "papermill": {
     "duration": 0.042377,
     "end_time": "2024-03-23T05:12:38.632698",
     "exception": false,
     "start_time": "2024-03-23T05:12:38.590321",
     "status": "completed"
    },
    "tags": []
   },
   "outputs": [
    {
     "data": {
      "text/html": [
       "<div>\n",
       "<style scoped>\n",
       "    .dataframe tbody tr th:only-of-type {\n",
       "        vertical-align: middle;\n",
       "    }\n",
       "\n",
       "    .dataframe tbody tr th {\n",
       "        vertical-align: top;\n",
       "    }\n",
       "\n",
       "    .dataframe thead th {\n",
       "        text-align: right;\n",
       "    }\n",
       "</style>\n",
       "<table border=\"1\" class=\"dataframe\">\n",
       "  <thead>\n",
       "    <tr style=\"text-align: right;\">\n",
       "      <th></th>\n",
       "      <th>section</th>\n",
       "      <th>original</th>\n",
       "      <th>modified</th>\n",
       "    </tr>\n",
       "  </thead>\n",
       "  <tbody>\n",
       "    <tr>\n",
       "      <th>0</th>\n",
       "      <td>abstract</td>\n",
       "      <td>Correlation coefficients are widely used to id...</td>\n",
       "      <td>In transcriptomics, identifying patterns in ge...</td>\n",
       "    </tr>\n",
       "    <tr>\n",
       "      <th>1</th>\n",
       "      <td>introduction</td>\n",
       "      <td>New technologies have vastly improved data col...</td>\n",
       "      <td>Recent advancements in data collection have le...</td>\n",
       "    </tr>\n",
       "    <tr>\n",
       "      <th>2</th>\n",
       "      <td>introduction</td>\n",
       "      <td>In transcriptomics, many analyses start with e...</td>\n",
       "      <td>In the field of transcriptomics, many analyses...</td>\n",
       "    </tr>\n",
       "    <tr>\n",
       "      <th>3</th>\n",
       "      <td>introduction</td>\n",
       "      <td>The Pearson and Spearman correlation coefficie...</td>\n",
       "      <td>The Pearson and Spearman correlation coefficie...</td>\n",
       "    </tr>\n",
       "    <tr>\n",
       "      <th>4</th>\n",
       "      <td>results</td>\n",
       "      <td>The CCC provides a similarity measure between ...</td>\n",
       "      <td>The CCC calculates the similarity between pair...</td>\n",
       "    </tr>\n",
       "  </tbody>\n",
       "</table>\n",
       "</div>"
      ],
      "text/plain": [
       "        section                                           original  \\\n",
       "0      abstract  Correlation coefficients are widely used to id...   \n",
       "1  introduction  New technologies have vastly improved data col...   \n",
       "2  introduction  In transcriptomics, many analyses start with e...   \n",
       "3  introduction  The Pearson and Spearman correlation coefficie...   \n",
       "4       results  The CCC provides a similarity measure between ...   \n",
       "\n",
       "                                            modified  \n",
       "0  In transcriptomics, identifying patterns in ge...  \n",
       "1  Recent advancements in data collection have le...  \n",
       "2  In the field of transcriptomics, many analyses...  \n",
       "3  The Pearson and Spearman correlation coefficie...  \n",
       "4  The CCC calculates the similarity between pair...  "
      ]
     },
     "execution_count": 234,
     "metadata": {},
     "output_type": "execute_result"
    }
   ],
   "source": [
    "df.head()"
   ]
  },
  {
   "cell_type": "code",
   "execution_count": 235,
   "id": "e072fbf8-91bd-4684-8782-9ccb8d6ee565",
   "metadata": {
    "execution": {
     "iopub.execute_input": "2024-03-23T05:12:38.699955Z",
     "iopub.status.busy": "2024-03-23T05:12:38.699766Z",
     "iopub.status.idle": "2024-03-23T05:12:38.702806Z",
     "shell.execute_reply": "2024-03-23T05:12:38.702370Z"
    },
    "papermill": {
     "duration": 0.03773,
     "end_time": "2024-03-23T05:12:38.703600",
     "exception": false,
     "start_time": "2024-03-23T05:12:38.665870",
     "status": "completed"
    },
    "tags": []
   },
   "outputs": [],
   "source": [
    "df.to_pickle(OUTPUT_FILE_PATH)"
   ]
  },
  {
   "cell_type": "markdown",
   "id": "88e05a0e",
   "metadata": {
    "editable": true,
    "papermill": {
     "duration": 0.033107,
     "end_time": "2024-03-23T05:12:38.770626",
     "exception": false,
     "start_time": "2024-03-23T05:12:38.737519",
     "status": "completed"
    },
    "slideshow": {
     "slide_type": ""
    },
    "tags": []
   },
   "source": [
    "# Reverse original/modified columns"
   ]
  },
  {
   "cell_type": "code",
   "execution_count": 236,
   "id": "039b695b",
   "metadata": {
    "editable": true,
    "execution": {
     "iopub.execute_input": "2024-03-23T05:12:38.838064Z",
     "iopub.status.busy": "2024-03-23T05:12:38.837483Z",
     "iopub.status.idle": "2024-03-23T05:12:38.841194Z",
     "shell.execute_reply": "2024-03-23T05:12:38.840678Z"
    },
    "papermill": {
     "duration": 0.038074,
     "end_time": "2024-03-23T05:12:38.841914",
     "exception": false,
     "start_time": "2024-03-23T05:12:38.803840",
     "status": "completed"
    },
    "slideshow": {
     "slide_type": ""
    },
    "tags": []
   },
   "outputs": [],
   "source": [
    "df_reversed = df.rename(columns={\"original\": \"modified2\"}).rename(\n",
    "    columns={\"modified\": \"original\", \"modified2\": \"modified\"}\n",
    ")"
   ]
  },
  {
   "cell_type": "code",
   "execution_count": 237,
   "id": "3c2ea044",
   "metadata": {
    "editable": true,
    "execution": {
     "iopub.execute_input": "2024-03-23T05:12:38.908286Z",
     "iopub.status.busy": "2024-03-23T05:12:38.907944Z",
     "iopub.status.idle": "2024-03-23T05:12:38.911293Z",
     "shell.execute_reply": "2024-03-23T05:12:38.910872Z"
    },
    "papermill": {
     "duration": 0.037423,
     "end_time": "2024-03-23T05:12:38.912039",
     "exception": false,
     "start_time": "2024-03-23T05:12:38.874616",
     "status": "completed"
    },
    "slideshow": {
     "slide_type": ""
    },
    "tags": []
   },
   "outputs": [
    {
     "data": {
      "text/plain": [
       "(31, 3)"
      ]
     },
     "execution_count": 237,
     "metadata": {},
     "output_type": "execute_result"
    }
   ],
   "source": [
    "df_reversed.shape"
   ]
  },
  {
   "cell_type": "code",
   "execution_count": 238,
   "id": "7cfa4a58",
   "metadata": {
    "editable": true,
    "execution": {
     "iopub.execute_input": "2024-03-23T05:12:38.978751Z",
     "iopub.status.busy": "2024-03-23T05:12:38.978243Z",
     "iopub.status.idle": "2024-03-23T05:12:38.984591Z",
     "shell.execute_reply": "2024-03-23T05:12:38.984079Z"
    },
    "papermill": {
     "duration": 0.040415,
     "end_time": "2024-03-23T05:12:38.985329",
     "exception": false,
     "start_time": "2024-03-23T05:12:38.944914",
     "status": "completed"
    },
    "slideshow": {
     "slide_type": ""
    },
    "tags": []
   },
   "outputs": [
    {
     "data": {
      "text/html": [
       "<div>\n",
       "<style scoped>\n",
       "    .dataframe tbody tr th:only-of-type {\n",
       "        vertical-align: middle;\n",
       "    }\n",
       "\n",
       "    .dataframe tbody tr th {\n",
       "        vertical-align: top;\n",
       "    }\n",
       "\n",
       "    .dataframe thead th {\n",
       "        text-align: right;\n",
       "    }\n",
       "</style>\n",
       "<table border=\"1\" class=\"dataframe\">\n",
       "  <thead>\n",
       "    <tr style=\"text-align: right;\">\n",
       "      <th></th>\n",
       "      <th>section</th>\n",
       "      <th>modified</th>\n",
       "      <th>original</th>\n",
       "    </tr>\n",
       "  </thead>\n",
       "  <tbody>\n",
       "    <tr>\n",
       "      <th>0</th>\n",
       "      <td>abstract</td>\n",
       "      <td>Correlation coefficients are widely used to id...</td>\n",
       "      <td>In transcriptomics, identifying patterns in ge...</td>\n",
       "    </tr>\n",
       "    <tr>\n",
       "      <th>1</th>\n",
       "      <td>introduction</td>\n",
       "      <td>New technologies have vastly improved data col...</td>\n",
       "      <td>Recent advancements in data collection have le...</td>\n",
       "    </tr>\n",
       "    <tr>\n",
       "      <th>2</th>\n",
       "      <td>introduction</td>\n",
       "      <td>In transcriptomics, many analyses start with e...</td>\n",
       "      <td>In the field of transcriptomics, many analyses...</td>\n",
       "    </tr>\n",
       "    <tr>\n",
       "      <th>3</th>\n",
       "      <td>introduction</td>\n",
       "      <td>The Pearson and Spearman correlation coefficie...</td>\n",
       "      <td>The Pearson and Spearman correlation coefficie...</td>\n",
       "    </tr>\n",
       "    <tr>\n",
       "      <th>4</th>\n",
       "      <td>results</td>\n",
       "      <td>The CCC provides a similarity measure between ...</td>\n",
       "      <td>The CCC calculates the similarity between pair...</td>\n",
       "    </tr>\n",
       "  </tbody>\n",
       "</table>\n",
       "</div>"
      ],
      "text/plain": [
       "        section                                           modified  \\\n",
       "0      abstract  Correlation coefficients are widely used to id...   \n",
       "1  introduction  New technologies have vastly improved data col...   \n",
       "2  introduction  In transcriptomics, many analyses start with e...   \n",
       "3  introduction  The Pearson and Spearman correlation coefficie...   \n",
       "4       results  The CCC provides a similarity measure between ...   \n",
       "\n",
       "                                            original  \n",
       "0  In transcriptomics, identifying patterns in ge...  \n",
       "1  Recent advancements in data collection have le...  \n",
       "2  In the field of transcriptomics, many analyses...  \n",
       "3  The Pearson and Spearman correlation coefficie...  \n",
       "4  The CCC calculates the similarity between pair...  "
      ]
     },
     "execution_count": 238,
     "metadata": {},
     "output_type": "execute_result"
    }
   ],
   "source": [
    "df_reversed.head()"
   ]
  },
  {
   "cell_type": "markdown",
   "id": "3d7cd7d6",
   "metadata": {
    "editable": true,
    "papermill": {
     "duration": 0.033122,
     "end_time": "2024-03-23T05:12:39.051384",
     "exception": false,
     "start_time": "2024-03-23T05:12:39.018262",
     "status": "completed"
    },
    "slideshow": {
     "slide_type": ""
    },
    "tags": []
   },
   "source": [
    "## Save"
   ]
  },
  {
   "cell_type": "code",
   "execution_count": 239,
   "id": "989f3b79",
   "metadata": {
    "execution": {
     "iopub.execute_input": "2024-03-23T05:12:39.118576Z",
     "iopub.status.busy": "2024-03-23T05:12:39.118219Z",
     "iopub.status.idle": "2024-03-23T05:12:39.121366Z",
     "shell.execute_reply": "2024-03-23T05:12:39.120924Z"
    },
    "papermill": {
     "duration": 0.03806,
     "end_time": "2024-03-23T05:12:39.122122",
     "exception": false,
     "start_time": "2024-03-23T05:12:39.084062",
     "status": "completed"
    },
    "tags": []
   },
   "outputs": [],
   "source": [
    "df_reversed.to_pickle(REVERSED_OUTPUT_FILE_PATH)"
   ]
  },
  {
   "cell_type": "code",
   "execution_count": null,
   "id": "02304589-1223-48c7-9c0a-26bfa26392e7",
   "metadata": {
    "editable": true,
    "papermill": {
     "duration": 0.032907,
     "end_time": "2024-03-23T05:12:39.188030",
     "exception": false,
     "start_time": "2024-03-23T05:12:39.155123",
     "status": "completed"
    },
    "slideshow": {
     "slide_type": ""
    },
    "tags": []
   },
   "outputs": [],
   "source": []
  }
 ],
 "metadata": {
  "jupytext": {
   "cell_metadata_filter": "all,-execution,-papermill,-trusted",
   "notebook_metadata_filter": "-jupytext.text_representation.jupytext_version"
  },
  "kernelspec": {
   "display_name": "Python 3 (ipykernel)",
   "language": "python",
   "name": "python3"
  },
  "language_info": {
   "codemirror_mode": {
    "name": "ipython",
    "version": 3
   },
   "file_extension": ".py",
   "mimetype": "text/x-python",
   "name": "python",
   "nbconvert_exporter": "python",
   "pygments_lexer": "ipython3",
   "version": "3.11.8"
  },
  "papermill": {
   "default_parameters": {},
   "duration": 28.719708,
   "end_time": "2024-03-23T05:12:39.738612",
   "environment_variables": {},
   "exception": null,
   "input_path": "/home/miltondp/projects/others/manubot/manubot-ai-editor-code/nbs/01-paragraph_match/05-ccc-gpt35-par_match.ipynb",
   "output_path": "/home/miltondp/projects/others/manubot/manubot-ai-editor-code/nbs/01-paragraph_match/05-ccc-gpt35-par_match.run.ipynb",
   "parameters": {
    "OUTPUT_FILE_PATH": "/home/miltondp/projects/others/manubot/manubot-ai-editor-code/base/results/paragraph_match/ccc-manuscript--gpt-3.5-turbo.pkl",
    "REVERSED_OUTPUT_FILE_PATH": "/home/miltondp/projects/others/manubot/manubot-ai-editor-code/base/results/paragraph_match/ccc-manuscript--gpt-3.5-turbo--reversed.pkl"
   },
   "start_time": "2024-03-23T05:12:11.018904",
   "version": "2.5.0"
  }
 },
 "nbformat": 4,
 "nbformat_minor": 5
}
