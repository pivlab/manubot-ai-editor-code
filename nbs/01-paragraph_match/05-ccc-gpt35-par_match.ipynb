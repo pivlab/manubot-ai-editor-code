{
 "cells": [
  {
   "cell_type": "markdown",
   "id": "070a050a-44d1-42c2-b274-c8c180a2a0ba",
   "metadata": {
    "editable": true,
    "papermill": {
     "duration": 0.048375,
     "end_time": "2024-03-20T21:47:11.125071",
     "exception": false,
     "start_time": "2024-03-20T21:47:11.076696",
     "status": "completed"
    },
    "slideshow": {
     "slide_type": ""
    },
    "tags": []
   },
   "source": [
    "# Description"
   ]
  },
  {
   "cell_type": "markdown",
   "id": "e4fcbb4d-aa04-4e1a-9aee-0053c559e157",
   "metadata": {
    "editable": true,
    "papermill": {
     "duration": 0.023716,
     "end_time": "2024-03-20T21:47:11.189099",
     "exception": false,
     "start_time": "2024-03-20T21:47:11.165383",
     "status": "completed"
    },
    "slideshow": {
     "slide_type": ""
    },
    "tags": []
   },
   "source": [
    "This notebook reads a PR from a manuscript and matches original paragraphs with modified ones."
   ]
  },
  {
   "cell_type": "markdown",
   "id": "b237f234-dc98-43e9-8ff5-8922c410c377",
   "metadata": {
    "editable": true,
    "papermill": {
     "duration": 0.023718,
     "end_time": "2024-03-20T21:47:11.236603",
     "exception": false,
     "start_time": "2024-03-20T21:47:11.212885",
     "status": "completed"
    },
    "slideshow": {
     "slide_type": ""
    },
    "tags": []
   },
   "source": [
    "# Modules"
   ]
  },
  {
   "cell_type": "code",
   "execution_count": 1,
   "id": "70413318-1f5e-4d58-b1a2-cb4f01c13e86",
   "metadata": {
    "editable": true,
    "execution": {
     "iopub.execute_input": "2024-03-20T21:47:11.285727Z",
     "iopub.status.busy": "2024-03-20T21:47:11.285071Z",
     "iopub.status.idle": "2024-03-20T21:47:12.305177Z",
     "shell.execute_reply": "2024-03-20T21:47:12.304607Z"
    },
    "papermill": {
     "duration": 1.045911,
     "end_time": "2024-03-20T21:47:12.306390",
     "exception": false,
     "start_time": "2024-03-20T21:47:11.260479",
     "status": "completed"
    },
    "slideshow": {
     "slide_type": ""
    },
    "tags": []
   },
   "outputs": [],
   "source": [
    "from pathlib import Path\n",
    "\n",
    "import pandas as pd\n",
    "from github import Auth, Github\n",
    "from IPython.display import display\n",
    "from proj import conf\n",
    "from proj.utils import process_paragraph"
   ]
  },
  {
   "cell_type": "markdown",
   "id": "3f78fd18-86b7-40b9-b80e-a8b18d001682",
   "metadata": {
    "editable": true,
    "papermill": {
     "duration": 0.035391,
     "end_time": "2024-03-20T21:47:12.377771",
     "exception": false,
     "start_time": "2024-03-20T21:47:12.342380",
     "status": "completed"
    },
    "slideshow": {
     "slide_type": ""
    },
    "tags": []
   },
   "source": [
    "# Settings/paths"
   ]
  },
  {
   "cell_type": "code",
   "execution_count": 2,
   "id": "10a3ceca-1480-45b0-b04d-cb402ff95abf",
   "metadata": {
    "editable": true,
    "execution": {
     "iopub.execute_input": "2024-03-20T21:47:12.429737Z",
     "iopub.status.busy": "2024-03-20T21:47:12.429467Z",
     "iopub.status.idle": "2024-03-20T21:47:12.432535Z",
     "shell.execute_reply": "2024-03-20T21:47:12.432022Z"
    },
    "papermill": {
     "duration": 0.029203,
     "end_time": "2024-03-20T21:47:12.433373",
     "exception": false,
     "start_time": "2024-03-20T21:47:12.404170",
     "status": "completed"
    },
    "slideshow": {
     "slide_type": ""
    },
    "tags": [
     "parameters"
    ]
   },
   "outputs": [],
   "source": [
    "REPO = \"pivlab/manubot-ai-editor-code-test-ccc-manuscript\"\n",
    "PR = (2, \"gpt-3.5-turbo\")\n",
    "\n",
    "OUTPUT_FILE_PATH = None\n",
    "REVERSED_OUTPUT_FILE_PATH = None"
   ]
  },
  {
   "cell_type": "code",
   "execution_count": 3,
   "id": "eeceb6d2",
   "metadata": {
    "execution": {
     "iopub.execute_input": "2024-03-20T21:47:12.481934Z",
     "iopub.status.busy": "2024-03-20T21:47:12.481553Z",
     "iopub.status.idle": "2024-03-20T21:47:12.484573Z",
     "shell.execute_reply": "2024-03-20T21:47:12.483982Z"
    },
    "papermill": {
     "duration": 0.027998,
     "end_time": "2024-03-20T21:47:12.485372",
     "exception": false,
     "start_time": "2024-03-20T21:47:12.457374",
     "status": "completed"
    },
    "tags": [
     "injected-parameters"
    ]
   },
   "outputs": [],
   "source": [
    "# Parameters\n",
    "OUTPUT_FILE_PATH = \"/home/miltondp/projects/others/manubot/manubot-ai-editor-code/base/results/paragraph_match/ccc-manuscript--gpt-3.5-turbo.pkl\"\n",
    "REVERSED_OUTPUT_FILE_PATH = \"/home/miltondp/projects/others/manubot/manubot-ai-editor-code/base/results/paragraph_match/ccc-manuscript--gpt-3.5-turbo--reversed.pkl\"\n"
   ]
  },
  {
   "cell_type": "code",
   "execution_count": 4,
   "id": "71351755-ed5f-43a2-a886-6ef08afaddf4",
   "metadata": {
    "editable": true,
    "execution": {
     "iopub.execute_input": "2024-03-20T21:47:12.534437Z",
     "iopub.status.busy": "2024-03-20T21:47:12.533944Z",
     "iopub.status.idle": "2024-03-20T21:47:12.540812Z",
     "shell.execute_reply": "2024-03-20T21:47:12.540299Z"
    },
    "papermill": {
     "duration": 0.032124,
     "end_time": "2024-03-20T21:47:12.541595",
     "exception": false,
     "start_time": "2024-03-20T21:47:12.509471",
     "status": "completed"
    },
    "slideshow": {
     "slide_type": ""
    },
    "tags": []
   },
   "outputs": [
    {
     "data": {
      "text/plain": [
       "PosixPath('/home/miltondp/projects/others/manubot/manubot-ai-editor-code/base/results/paragraph_match/ccc-manuscript--gpt-3.5-turbo.pkl')"
      ]
     },
     "metadata": {},
     "output_type": "display_data"
    }
   ],
   "source": [
    "OUTPUT_FILE_PATH = Path(OUTPUT_FILE_PATH).resolve()\n",
    "OUTPUT_FILE_PATH.parent.mkdir(parents=True, exist_ok=True)\n",
    "display(OUTPUT_FILE_PATH)"
   ]
  },
  {
   "cell_type": "code",
   "execution_count": 5,
   "id": "fb96b09f",
   "metadata": {
    "editable": true,
    "execution": {
     "iopub.execute_input": "2024-03-20T21:47:12.590393Z",
     "iopub.status.busy": "2024-03-20T21:47:12.590025Z",
     "iopub.status.idle": "2024-03-20T21:47:12.594354Z",
     "shell.execute_reply": "2024-03-20T21:47:12.593790Z"
    },
    "papermill": {
     "duration": 0.029536,
     "end_time": "2024-03-20T21:47:12.595140",
     "exception": false,
     "start_time": "2024-03-20T21:47:12.565604",
     "status": "completed"
    },
    "slideshow": {
     "slide_type": ""
    },
    "tags": []
   },
   "outputs": [
    {
     "data": {
      "text/plain": [
       "PosixPath('/home/miltondp/projects/others/manubot/manubot-ai-editor-code/base/results/paragraph_match/ccc-manuscript--gpt-3.5-turbo--reversed.pkl')"
      ]
     },
     "metadata": {},
     "output_type": "display_data"
    }
   ],
   "source": [
    "REVERSED_OUTPUT_FILE_PATH = Path(REVERSED_OUTPUT_FILE_PATH).resolve()\n",
    "REVERSED_OUTPUT_FILE_PATH.parent.mkdir(parents=True, exist_ok=True)\n",
    "display(REVERSED_OUTPUT_FILE_PATH)"
   ]
  },
  {
   "cell_type": "markdown",
   "id": "c42b83b5-84b7-45ff-88ee-3651aa5c9c55",
   "metadata": {
    "editable": true,
    "papermill": {
     "duration": 0.023874,
     "end_time": "2024-03-20T21:47:12.643005",
     "exception": false,
     "start_time": "2024-03-20T21:47:12.619131",
     "status": "completed"
    },
    "slideshow": {
     "slide_type": ""
    },
    "tags": []
   },
   "source": [
    "# Get Repo"
   ]
  },
  {
   "cell_type": "code",
   "execution_count": 6,
   "id": "f1d1f476-f5b5-4d1c-9c3a-822e9bef4b27",
   "metadata": {
    "editable": true,
    "execution": {
     "iopub.execute_input": "2024-03-20T21:47:12.692176Z",
     "iopub.status.busy": "2024-03-20T21:47:12.691756Z",
     "iopub.status.idle": "2024-03-20T21:47:12.694811Z",
     "shell.execute_reply": "2024-03-20T21:47:12.694220Z"
    },
    "papermill": {
     "duration": 0.028485,
     "end_time": "2024-03-20T21:47:12.695578",
     "exception": false,
     "start_time": "2024-03-20T21:47:12.667093",
     "status": "completed"
    },
    "slideshow": {
     "slide_type": ""
    },
    "tags": []
   },
   "outputs": [],
   "source": [
    "auth = Auth.Token(conf.github.API_TOKEN)"
   ]
  },
  {
   "cell_type": "code",
   "execution_count": 7,
   "id": "4e3db6e2-f267-4d60-8ff3-703698a09f88",
   "metadata": {
    "editable": true,
    "execution": {
     "iopub.execute_input": "2024-03-20T21:47:12.744454Z",
     "iopub.status.busy": "2024-03-20T21:47:12.744253Z",
     "iopub.status.idle": "2024-03-20T21:47:12.747058Z",
     "shell.execute_reply": "2024-03-20T21:47:12.746547Z"
    },
    "papermill": {
     "duration": 0.028125,
     "end_time": "2024-03-20T21:47:12.747837",
     "exception": false,
     "start_time": "2024-03-20T21:47:12.719712",
     "status": "completed"
    },
    "slideshow": {
     "slide_type": ""
    },
    "tags": []
   },
   "outputs": [],
   "source": [
    "g = Github(auth=auth)"
   ]
  },
  {
   "cell_type": "code",
   "execution_count": 8,
   "id": "cc6a365d-59f5-4537-9fd7-869ee4156046",
   "metadata": {
    "editable": true,
    "execution": {
     "iopub.execute_input": "2024-03-20T21:47:12.796767Z",
     "iopub.status.busy": "2024-03-20T21:47:12.796565Z",
     "iopub.status.idle": "2024-03-20T21:47:13.171423Z",
     "shell.execute_reply": "2024-03-20T21:47:13.170841Z"
    },
    "papermill": {
     "duration": 0.400603,
     "end_time": "2024-03-20T21:47:13.172522",
     "exception": false,
     "start_time": "2024-03-20T21:47:12.771919",
     "status": "completed"
    },
    "slideshow": {
     "slide_type": ""
    },
    "tags": []
   },
   "outputs": [],
   "source": [
    "repo = g.get_repo(REPO)"
   ]
  },
  {
   "cell_type": "markdown",
   "id": "f2d9fb5d-6838-484b-9202-ceac74fcb336",
   "metadata": {
    "editable": true,
    "papermill": {
     "duration": 0.023931,
     "end_time": "2024-03-20T21:47:13.220680",
     "exception": false,
     "start_time": "2024-03-20T21:47:13.196749",
     "status": "completed"
    },
    "slideshow": {
     "slide_type": ""
    },
    "tags": []
   },
   "source": [
    "# Get Pull Request"
   ]
  },
  {
   "cell_type": "code",
   "execution_count": 9,
   "id": "297c9dec-9e00-490d-8723-44208b3fe8f4",
   "metadata": {
    "editable": true,
    "execution": {
     "iopub.execute_input": "2024-03-20T21:47:13.269371Z",
     "iopub.status.busy": "2024-03-20T21:47:13.269169Z",
     "iopub.status.idle": "2024-03-20T21:47:13.800548Z",
     "shell.execute_reply": "2024-03-20T21:47:13.799865Z"
    },
    "papermill": {
     "duration": 0.557289,
     "end_time": "2024-03-20T21:47:13.801950",
     "exception": false,
     "start_time": "2024-03-20T21:47:13.244661",
     "status": "completed"
    },
    "slideshow": {
     "slide_type": ""
    },
    "tags": []
   },
   "outputs": [],
   "source": [
    "pr = repo.get_pull(PR[0])"
   ]
  },
  {
   "cell_type": "code",
   "execution_count": 10,
   "id": "064b1017-a495-48b3-bea3-1b9a67ad1b6f",
   "metadata": {
    "editable": true,
    "execution": {
     "iopub.execute_input": "2024-03-20T21:47:13.874605Z",
     "iopub.status.busy": "2024-03-20T21:47:13.874120Z",
     "iopub.status.idle": "2024-03-20T21:47:14.312439Z",
     "shell.execute_reply": "2024-03-20T21:47:14.311864Z"
    },
    "papermill": {
     "duration": 0.48622,
     "end_time": "2024-03-20T21:47:14.313505",
     "exception": false,
     "start_time": "2024-03-20T21:47:13.827285",
     "status": "completed"
    },
    "slideshow": {
     "slide_type": ""
    },
    "tags": []
   },
   "outputs": [
    {
     "data": {
      "text/plain": [
       "[File(sha=\"4b1b8489a63dc51e4eba4d71f32b026169e901d1\", filename=\"content/01.abstract.md\"),\n",
       " File(sha=\"96b9d8fdf8b314d5156029ea5e5c0727408d6cee\", filename=\"content/02.introduction.md\"),\n",
       " File(sha=\"ad101146fd6476ed4bf1fd4bcbbe8fa9e174c2f0\", filename=\"content/04.05.results_intro.md\"),\n",
       " File(sha=\"74ea03690a400f1c576007aff728e41fc7fb0faf\", filename=\"content/04.10.results_comp.md\"),\n",
       " File(sha=\"5088c6fa5f7d04ffdf17fd2392cc27c9d917c7a0\", filename=\"content/04.12.results_giant.md\"),\n",
       " File(sha=\"e0be1fecd6158445a8102f098545b135abf07fed\", filename=\"content/06.discussion.md\"),\n",
       " File(sha=\"328b3aac9742ec34d4d0d0fcc42dca439952433d\", filename=\"content/08.01.methods.ccc.md\"),\n",
       " File(sha=\"0c5625cac78916c535fe5f1c404846e52c62b59a\", filename=\"content/08.05.methods.data.md\"),\n",
       " File(sha=\"16d0a39afea2c2c361967d01214f79d8bbf2d76d\", filename=\"content/08.15.methods.giant.md\"),\n",
       " File(sha=\"81b2c0d4c4fca81a3820bd2ac3bb46efdd7b2ca5\", filename=\"content/08.20.methods.mic.md\"),\n",
       " File(sha=\"176e79ecda4017d56f4808a244e70a2786683deb\", filename=\"content/20.00.supplementary_material.md\")]"
      ]
     },
     "execution_count": 10,
     "metadata": {},
     "output_type": "execute_result"
    }
   ],
   "source": [
    "list(pr.get_files())"
   ]
  },
  {
   "cell_type": "code",
   "execution_count": 11,
   "id": "7bc9b271-7ed2-4994-9d36-c8afa946b017",
   "metadata": {
    "editable": true,
    "execution": {
     "iopub.execute_input": "2024-03-20T21:47:14.386942Z",
     "iopub.status.busy": "2024-03-20T21:47:14.386722Z",
     "iopub.status.idle": "2024-03-20T21:47:14.719016Z",
     "shell.execute_reply": "2024-03-20T21:47:14.718459Z"
    },
    "papermill": {
     "duration": 0.370404,
     "end_time": "2024-03-20T21:47:14.720427",
     "exception": false,
     "start_time": "2024-03-20T21:47:14.350023",
     "status": "completed"
    },
    "slideshow": {
     "slide_type": ""
    },
    "tags": []
   },
   "outputs": [],
   "source": [
    "pr_commits = list(pr.get_commits())"
   ]
  },
  {
   "cell_type": "code",
   "execution_count": 12,
   "id": "446a1453-5729-4687-9b93-8165dd0e2793",
   "metadata": {
    "editable": true,
    "execution": {
     "iopub.execute_input": "2024-03-20T21:47:14.808605Z",
     "iopub.status.busy": "2024-03-20T21:47:14.808411Z",
     "iopub.status.idle": "2024-03-20T21:47:14.812194Z",
     "shell.execute_reply": "2024-03-20T21:47:14.811717Z"
    },
    "papermill": {
     "duration": 0.046711,
     "end_time": "2024-03-20T21:47:14.812986",
     "exception": false,
     "start_time": "2024-03-20T21:47:14.766275",
     "status": "completed"
    },
    "slideshow": {
     "slide_type": ""
    },
    "tags": []
   },
   "outputs": [
    {
     "data": {
      "text/plain": [
       "[Commit(sha=\"0adeb9d709cc9d66e52a325c114605655b1b4923\")]"
      ]
     },
     "execution_count": 12,
     "metadata": {},
     "output_type": "execute_result"
    }
   ],
   "source": [
    "pr_commits[0].parents"
   ]
  },
  {
   "cell_type": "code",
   "execution_count": 13,
   "id": "9c2382a1-adcc-47dc-8c75-d34f8500f93e",
   "metadata": {
    "editable": true,
    "execution": {
     "iopub.execute_input": "2024-03-20T21:47:14.862009Z",
     "iopub.status.busy": "2024-03-20T21:47:14.861626Z",
     "iopub.status.idle": "2024-03-20T21:47:14.864958Z",
     "shell.execute_reply": "2024-03-20T21:47:14.864443Z"
    },
    "papermill": {
     "duration": 0.028652,
     "end_time": "2024-03-20T21:47:14.865676",
     "exception": false,
     "start_time": "2024-03-20T21:47:14.837024",
     "status": "completed"
    },
    "slideshow": {
     "slide_type": ""
    },
    "tags": []
   },
   "outputs": [
    {
     "name": "stdout",
     "output_type": "stream",
     "text": [
      "0adeb9d709cc9d66e52a325c114605655b1b4923\n"
     ]
    }
   ],
   "source": [
    "pr_prev = pr_commits[0].parents[0].sha\n",
    "print(pr_prev)"
   ]
  },
  {
   "cell_type": "code",
   "execution_count": 14,
   "id": "96c9b088-a166-49d6-a0df-64d2cf690b7e",
   "metadata": {
    "editable": true,
    "execution": {
     "iopub.execute_input": "2024-03-20T21:47:14.914752Z",
     "iopub.status.busy": "2024-03-20T21:47:14.914557Z",
     "iopub.status.idle": "2024-03-20T21:47:14.917616Z",
     "shell.execute_reply": "2024-03-20T21:47:14.917116Z"
    },
    "papermill": {
     "duration": 0.028529,
     "end_time": "2024-03-20T21:47:14.918399",
     "exception": false,
     "start_time": "2024-03-20T21:47:14.889870",
     "status": "completed"
    },
    "slideshow": {
     "slide_type": ""
    },
    "tags": []
   },
   "outputs": [
    {
     "name": "stdout",
     "output_type": "stream",
     "text": [
      "bdee3d136aa9e8b6d80b31e926069f9b96e1cac5\n"
     ]
    }
   ],
   "source": [
    "pr_curr = pr_commits[0].sha\n",
    "print(pr_curr)"
   ]
  },
  {
   "cell_type": "markdown",
   "id": "10872c1e-0184-46c6-a04f-dce43438d404",
   "metadata": {
    "editable": true,
    "papermill": {
     "duration": 0.024028,
     "end_time": "2024-03-20T21:47:14.966624",
     "exception": false,
     "start_time": "2024-03-20T21:47:14.942596",
     "status": "completed"
    },
    "slideshow": {
     "slide_type": ""
    },
    "tags": []
   },
   "source": [
    "# Get file list"
   ]
  },
  {
   "cell_type": "code",
   "execution_count": 15,
   "id": "242729cf-1778-4162-b813-249ae6c8b632",
   "metadata": {
    "editable": true,
    "execution": {
     "iopub.execute_input": "2024-03-20T21:47:15.015870Z",
     "iopub.status.busy": "2024-03-20T21:47:15.015440Z",
     "iopub.status.idle": "2024-03-20T21:47:15.170260Z",
     "shell.execute_reply": "2024-03-20T21:47:15.169765Z"
    },
    "papermill": {
     "duration": 0.180601,
     "end_time": "2024-03-20T21:47:15.171392",
     "exception": false,
     "start_time": "2024-03-20T21:47:14.990791",
     "status": "completed"
    },
    "slideshow": {
     "slide_type": ""
    },
    "tags": []
   },
   "outputs": [
    {
     "data": {
      "text/plain": [
       "[File(sha=\"4b1b8489a63dc51e4eba4d71f32b026169e901d1\", filename=\"content/01.abstract.md\"),\n",
       " File(sha=\"96b9d8fdf8b314d5156029ea5e5c0727408d6cee\", filename=\"content/02.introduction.md\"),\n",
       " File(sha=\"ad101146fd6476ed4bf1fd4bcbbe8fa9e174c2f0\", filename=\"content/04.05.results_intro.md\"),\n",
       " File(sha=\"74ea03690a400f1c576007aff728e41fc7fb0faf\", filename=\"content/04.10.results_comp.md\"),\n",
       " File(sha=\"5088c6fa5f7d04ffdf17fd2392cc27c9d917c7a0\", filename=\"content/04.12.results_giant.md\"),\n",
       " File(sha=\"e0be1fecd6158445a8102f098545b135abf07fed\", filename=\"content/06.discussion.md\"),\n",
       " File(sha=\"328b3aac9742ec34d4d0d0fcc42dca439952433d\", filename=\"content/08.01.methods.ccc.md\"),\n",
       " File(sha=\"0c5625cac78916c535fe5f1c404846e52c62b59a\", filename=\"content/08.05.methods.data.md\"),\n",
       " File(sha=\"16d0a39afea2c2c361967d01214f79d8bbf2d76d\", filename=\"content/08.15.methods.giant.md\"),\n",
       " File(sha=\"81b2c0d4c4fca81a3820bd2ac3bb46efdd7b2ca5\", filename=\"content/08.20.methods.mic.md\"),\n",
       " File(sha=\"176e79ecda4017d56f4808a244e70a2786683deb\", filename=\"content/20.00.supplementary_material.md\")]"
      ]
     },
     "metadata": {},
     "output_type": "display_data"
    }
   ],
   "source": [
    "pr_files = [f for f in pr.get_files() if f.filename.endswith(\".md\")]\n",
    "display(pr_files)"
   ]
  },
  {
   "cell_type": "markdown",
   "id": "bce10792-ba0d-4716-9dcd-b44c2eb668d4",
   "metadata": {
    "editable": true,
    "papermill": {
     "duration": 0.040084,
     "end_time": "2024-03-20T21:47:15.257466",
     "exception": false,
     "start_time": "2024-03-20T21:47:15.217382",
     "status": "completed"
    },
    "slideshow": {
     "slide_type": ""
    },
    "tags": []
   },
   "source": [
    "# Sections"
   ]
  },
  {
   "cell_type": "code",
   "execution_count": 16,
   "id": "6253b146-7bd2-44ff-9ccc-6f245a11dd23",
   "metadata": {
    "execution": {
     "iopub.execute_input": "2024-03-20T21:47:15.306716Z",
     "iopub.status.busy": "2024-03-20T21:47:15.306493Z",
     "iopub.status.idle": "2024-03-20T21:47:15.309313Z",
     "shell.execute_reply": "2024-03-20T21:47:15.308803Z"
    },
    "papermill": {
     "duration": 0.028488,
     "end_time": "2024-03-20T21:47:15.310108",
     "exception": false,
     "start_time": "2024-03-20T21:47:15.281620",
     "status": "completed"
    },
    "tags": []
   },
   "outputs": [],
   "source": [
    "paragraph_matches = []"
   ]
  },
  {
   "cell_type": "markdown",
   "id": "7c403bcf-5c79-4bde-adfe-a09464b8b076",
   "metadata": {
    "editable": true,
    "papermill": {
     "duration": 0.024338,
     "end_time": "2024-03-20T21:47:15.358793",
     "exception": false,
     "start_time": "2024-03-20T21:47:15.334455",
     "status": "completed"
    },
    "slideshow": {
     "slide_type": ""
    },
    "tags": []
   },
   "source": [
    "## Abstract"
   ]
  },
  {
   "cell_type": "code",
   "execution_count": 17,
   "id": "5c13a99f-54e2-463e-9d20-d43a89c9ef76",
   "metadata": {
    "execution": {
     "iopub.execute_input": "2024-03-20T21:47:15.408993Z",
     "iopub.status.busy": "2024-03-20T21:47:15.408789Z",
     "iopub.status.idle": "2024-03-20T21:47:15.411540Z",
     "shell.execute_reply": "2024-03-20T21:47:15.411036Z"
    },
    "papermill": {
     "duration": 0.028992,
     "end_time": "2024-03-20T21:47:15.412268",
     "exception": false,
     "start_time": "2024-03-20T21:47:15.383276",
     "status": "completed"
    },
    "tags": []
   },
   "outputs": [],
   "source": [
    "section_name = \"abstract\""
   ]
  },
  {
   "cell_type": "code",
   "execution_count": 18,
   "id": "1558f08b-19a8-4951-8dea-228d7f59099d",
   "metadata": {
    "editable": true,
    "execution": {
     "iopub.execute_input": "2024-03-20T21:47:15.461598Z",
     "iopub.status.busy": "2024-03-20T21:47:15.461414Z",
     "iopub.status.idle": "2024-03-20T21:47:15.464798Z",
     "shell.execute_reply": "2024-03-20T21:47:15.464225Z"
    },
    "papermill": {
     "duration": 0.02899,
     "end_time": "2024-03-20T21:47:15.465612",
     "exception": false,
     "start_time": "2024-03-20T21:47:15.436622",
     "status": "completed"
    },
    "slideshow": {
     "slide_type": ""
    },
    "tags": []
   },
   "outputs": [
    {
     "name": "stdout",
     "output_type": "stream",
     "text": [
      "content/01.abstract.md\n"
     ]
    }
   ],
   "source": [
    "pr_filename = pr_files[0].filename\n",
    "assert section_name in pr_filename\n",
    "print(pr_filename)"
   ]
  },
  {
   "cell_type": "markdown",
   "id": "11efc147-ae59-4db5-990d-7d30c89ed8d0",
   "metadata": {
    "editable": true,
    "papermill": {
     "duration": 0.02432,
     "end_time": "2024-03-20T21:47:15.514392",
     "exception": false,
     "start_time": "2024-03-20T21:47:15.490072",
     "status": "completed"
    },
    "slideshow": {
     "slide_type": ""
    },
    "tags": []
   },
   "source": [
    "### Original"
   ]
  },
  {
   "cell_type": "code",
   "execution_count": 19,
   "id": "47db229e-b5e4-4c9a-ae54-fc984d9fdcde",
   "metadata": {
    "execution": {
     "iopub.execute_input": "2024-03-20T21:47:15.564593Z",
     "iopub.status.busy": "2024-03-20T21:47:15.564113Z",
     "iopub.status.idle": "2024-03-20T21:47:15.716901Z",
     "shell.execute_reply": "2024-03-20T21:47:15.716247Z"
    },
    "papermill": {
     "duration": 0.179036,
     "end_time": "2024-03-20T21:47:15.717935",
     "exception": false,
     "start_time": "2024-03-20T21:47:15.538899",
     "status": "completed"
    },
    "tags": []
   },
   "outputs": [
    {
     "name": "stdout",
     "output_type": "stream",
     "text": [
      "## Abstract {.page_break_before}\n",
      "\n",
      "Correlation coef\n"
     ]
    }
   ],
   "source": [
    "# get content\n",
    "orig_section_content = repo.get_contents(pr_filename, pr_prev).decoded_content.decode(\n",
    "    \"utf-8\"\n",
    ")\n",
    "print(orig_section_content[:50])"
   ]
  },
  {
   "cell_type": "code",
   "execution_count": 20,
   "id": "1c6e25fa-ef56-4d1a-8127-064e5cc348aa",
   "metadata": {
    "execution": {
     "iopub.execute_input": "2024-03-20T21:47:15.790942Z",
     "iopub.status.busy": "2024-03-20T21:47:15.790753Z",
     "iopub.status.idle": "2024-03-20T21:47:15.795041Z",
     "shell.execute_reply": "2024-03-20T21:47:15.794440Z"
    },
    "papermill": {
     "duration": 0.041762,
     "end_time": "2024-03-20T21:47:15.795979",
     "exception": false,
     "start_time": "2024-03-20T21:47:15.754217",
     "status": "completed"
    },
    "tags": []
   },
   "outputs": [
    {
     "data": {
      "text/plain": [
       "2"
      ]
     },
     "metadata": {},
     "output_type": "display_data"
    }
   ],
   "source": [
    "# split by paragraph\n",
    "orig_section_paragraphs = orig_section_content.split(\"\\n\\n\")\n",
    "display(len(orig_section_paragraphs))"
   ]
  },
  {
   "cell_type": "markdown",
   "id": "52d7d0ff-91f7-4435-ac51-78c9c9ce25fa",
   "metadata": {
    "editable": true,
    "papermill": {
     "duration": 0.024275,
     "end_time": "2024-03-20T21:47:15.848646",
     "exception": false,
     "start_time": "2024-03-20T21:47:15.824371",
     "status": "completed"
    },
    "slideshow": {
     "slide_type": ""
    },
    "tags": []
   },
   "source": [
    "### Modified"
   ]
  },
  {
   "cell_type": "code",
   "execution_count": 21,
   "id": "c12094b0-c50f-4d98-85f7-dd5072ff68e1",
   "metadata": {
    "execution": {
     "iopub.execute_input": "2024-03-20T21:47:15.898342Z",
     "iopub.status.busy": "2024-03-20T21:47:15.897802Z",
     "iopub.status.idle": "2024-03-20T21:47:16.112719Z",
     "shell.execute_reply": "2024-03-20T21:47:16.112179Z"
    },
    "papermill": {
     "duration": 0.240673,
     "end_time": "2024-03-20T21:47:16.113650",
     "exception": false,
     "start_time": "2024-03-20T21:47:15.872977",
     "status": "completed"
    },
    "tags": []
   },
   "outputs": [
    {
     "name": "stdout",
     "output_type": "stream",
     "text": [
      "## Abstract {.page_break_before}\n",
      "\n",
      "In transcriptomi\n"
     ]
    }
   ],
   "source": [
    "# get content\n",
    "mod_section_content = repo.get_contents(pr_filename, pr_curr).decoded_content.decode(\n",
    "    \"utf-8\"\n",
    ")\n",
    "print(mod_section_content[:50])"
   ]
  },
  {
   "cell_type": "code",
   "execution_count": 22,
   "id": "e02bdeb5-77c9-4a96-adf4-a31ba8047062",
   "metadata": {
    "execution": {
     "iopub.execute_input": "2024-03-20T21:47:16.183623Z",
     "iopub.status.busy": "2024-03-20T21:47:16.183437Z",
     "iopub.status.idle": "2024-03-20T21:47:16.187130Z",
     "shell.execute_reply": "2024-03-20T21:47:16.186651Z"
    },
    "papermill": {
     "duration": 0.038042,
     "end_time": "2024-03-20T21:47:16.187834",
     "exception": false,
     "start_time": "2024-03-20T21:47:16.149792",
     "status": "completed"
    },
    "tags": []
   },
   "outputs": [
    {
     "data": {
      "text/plain": [
       "2"
      ]
     },
     "metadata": {},
     "output_type": "display_data"
    }
   ],
   "source": [
    "# split by paragraph\n",
    "mod_section_paragraphs = mod_section_content.split(\"\\n\\n\")\n",
    "display(len(mod_section_paragraphs))"
   ]
  },
  {
   "cell_type": "markdown",
   "id": "bcbaf41a-e76e-4b5d-8daa-4db6cdb20f66",
   "metadata": {
    "editable": true,
    "papermill": {
     "duration": 0.024255,
     "end_time": "2024-03-20T21:47:16.236376",
     "exception": false,
     "start_time": "2024-03-20T21:47:16.212121",
     "status": "completed"
    },
    "slideshow": {
     "slide_type": ""
    },
    "tags": []
   },
   "source": [
    "### Match"
   ]
  },
  {
   "cell_type": "code",
   "execution_count": 23,
   "id": "38ec8ddf-9d53-4e31-8a48-2946e35e6996",
   "metadata": {
    "execution": {
     "iopub.execute_input": "2024-03-20T21:47:16.286141Z",
     "iopub.status.busy": "2024-03-20T21:47:16.285932Z",
     "iopub.status.idle": "2024-03-20T21:47:16.289537Z",
     "shell.execute_reply": "2024-03-20T21:47:16.289053Z"
    },
    "papermill": {
     "duration": 0.029316,
     "end_time": "2024-03-20T21:47:16.290226",
     "exception": false,
     "start_time": "2024-03-20T21:47:16.260910",
     "status": "completed"
    },
    "tags": []
   },
   "outputs": [
    {
     "data": {
      "text/plain": [
       "'## Abstract {.page_break_before}'"
      ]
     },
     "execution_count": 23,
     "metadata": {},
     "output_type": "execute_result"
    }
   ],
   "source": [
    "orig_section_paragraphs[0]"
   ]
  },
  {
   "cell_type": "code",
   "execution_count": 24,
   "id": "b665987d-444c-49b9-8d67-1bf157225d68",
   "metadata": {
    "execution": {
     "iopub.execute_input": "2024-03-20T21:47:16.340371Z",
     "iopub.status.busy": "2024-03-20T21:47:16.339905Z",
     "iopub.status.idle": "2024-03-20T21:47:16.343510Z",
     "shell.execute_reply": "2024-03-20T21:47:16.343032Z"
    },
    "papermill": {
     "duration": 0.029431,
     "end_time": "2024-03-20T21:47:16.344258",
     "exception": false,
     "start_time": "2024-03-20T21:47:16.314827",
     "status": "completed"
    },
    "tags": []
   },
   "outputs": [
    {
     "data": {
      "text/plain": [
       "'## Abstract {.page_break_before}'"
      ]
     },
     "execution_count": 24,
     "metadata": {},
     "output_type": "execute_result"
    }
   ],
   "source": [
    "mod_section_paragraphs[0]"
   ]
  },
  {
   "cell_type": "markdown",
   "id": "19b0d453-ff6b-4194-bd5b-caec7a71a0ac",
   "metadata": {
    "editable": true,
    "papermill": {
     "duration": 0.024569,
     "end_time": "2024-03-20T21:47:16.393407",
     "exception": false,
     "start_time": "2024-03-20T21:47:16.368838",
     "status": "completed"
    },
    "slideshow": {
     "slide_type": ""
    },
    "tags": []
   },
   "source": [
    "####  Paragraph 00"
   ]
  },
  {
   "cell_type": "code",
   "execution_count": 25,
   "id": "d6e681b6-d79a-45d9-a414-653920159e1c",
   "metadata": {
    "execution": {
     "iopub.execute_input": "2024-03-20T21:47:16.466440Z",
     "iopub.status.busy": "2024-03-20T21:47:16.465910Z",
     "iopub.status.idle": "2024-03-20T21:47:16.469054Z",
     "shell.execute_reply": "2024-03-20T21:47:16.468552Z"
    },
    "papermill": {
     "duration": 0.029128,
     "end_time": "2024-03-20T21:47:16.469765",
     "exception": false,
     "start_time": "2024-03-20T21:47:16.440637",
     "status": "completed"
    },
    "tags": []
   },
   "outputs": [
    {
     "name": "stdout",
     "output_type": "stream",
     "text": [
      "Correlation coefficients are widely used to identify patterns in data that may be of particular interest. In transcriptomics, genes with correlated expression often share functions or are part of disease-relevant biological processes. Here we introduce the Clustermatch Correlation Coefficient (CCC), an efficient, easy-to-use and not-only-linear coefficient based on machine learning models. CCC reveals biologically meaningful linear and nonlinear patterns missed by standard, linear-only correlation coefficients. CCC captures general patterns in data by comparing clustering solutions while being much faster than state-of-the-art coefficients such as the Maximal Information Coefficient. When applied to human gene expression data, CCC identifies robust linear relationships while detecting nonlinear patterns associated, for example, with sex differences that are not captured by linear-only coefficients. Gene pairs highly ranked by CCC were enriched for interactions in integrated networks built from protein-protein interaction, transcription factor regulation, and chemical and genetic perturbations, suggesting that CCC could detect functional relationships that linear-only methods missed. CCC is a highly-efficient, next-generation not-only-linear correlation coefficient that can readily be applied to genome-scale data and other domains across different data types.\n"
     ]
    }
   ],
   "source": [
    "par0 = process_paragraph(orig_section_paragraphs[1])\n",
    "print(par0)"
   ]
  },
  {
   "cell_type": "code",
   "execution_count": 26,
   "id": "d1bf3ff4-c3ab-4ca8-b5d5-c3a2f6c02702",
   "metadata": {
    "execution": {
     "iopub.execute_input": "2024-03-20T21:47:16.520229Z",
     "iopub.status.busy": "2024-03-20T21:47:16.519755Z",
     "iopub.status.idle": "2024-03-20T21:47:16.522901Z",
     "shell.execute_reply": "2024-03-20T21:47:16.522411Z"
    },
    "papermill": {
     "duration": 0.029042,
     "end_time": "2024-03-20T21:47:16.523609",
     "exception": false,
     "start_time": "2024-03-20T21:47:16.494567",
     "status": "completed"
    },
    "tags": []
   },
   "outputs": [
    {
     "name": "stdout",
     "output_type": "stream",
     "text": [
      "In transcriptomics, identifying patterns in gene expression data is crucial for understanding biological processes. The traditional linear correlation coefficients may not capture all the complexities in gene relationships. To address this, we propose the Clustermatch Correlation Coefficient (CCC), a machine learning-based coefficient that can reveal both linear and nonlinear patterns efficiently. Compared to standard coefficients like the Maximal Information Coefficient, CCC is faster and can detect biologically meaningful patterns that are missed by linear-only methods. When applied to human gene expression data, CCC not only identifies robust linear relationships but also uncovers nonlinear patterns, such as sex differences. Additionally, CCC can detect functional relationships between genes that are overlooked by linear-only methods, as shown by enrichment in integrated networks. Overall, CCC is a versatile and efficient tool that can be applied to genome-scale data and various data types to uncover hidden relationships.\n"
     ]
    }
   ],
   "source": [
    "par1 = process_paragraph(mod_section_paragraphs[1])\n",
    "print(par1)"
   ]
  },
  {
   "cell_type": "code",
   "execution_count": 27,
   "id": "c4b6cfc3-c2ae-40ce-abca-de3778b445f4",
   "metadata": {
    "execution": {
     "iopub.execute_input": "2024-03-20T21:47:16.574388Z",
     "iopub.status.busy": "2024-03-20T21:47:16.573995Z",
     "iopub.status.idle": "2024-03-20T21:47:16.576765Z",
     "shell.execute_reply": "2024-03-20T21:47:16.576268Z"
    },
    "papermill": {
     "duration": 0.028694,
     "end_time": "2024-03-20T21:47:16.577517",
     "exception": false,
     "start_time": "2024-03-20T21:47:16.548823",
     "status": "completed"
    },
    "tags": []
   },
   "outputs": [],
   "source": [
    "paragraph_matches.append(\n",
    "    (\n",
    "        section_name,\n",
    "        par0,\n",
    "        par1,\n",
    "    )\n",
    ")"
   ]
  },
  {
   "cell_type": "code",
   "execution_count": 28,
   "id": "db738a8d-d527-4607-8994-2a62433d75e6",
   "metadata": {
    "execution": {
     "iopub.execute_input": "2024-03-20T21:47:16.627682Z",
     "iopub.status.busy": "2024-03-20T21:47:16.627306Z",
     "iopub.status.idle": "2024-03-20T21:47:16.630925Z",
     "shell.execute_reply": "2024-03-20T21:47:16.630449Z"
    },
    "papermill": {
     "duration": 0.029484,
     "end_time": "2024-03-20T21:47:16.631708",
     "exception": false,
     "start_time": "2024-03-20T21:47:16.602224",
     "status": "completed"
    },
    "tags": []
   },
   "outputs": [
    {
     "data": {
      "text/plain": [
       "('abstract',\n",
       " 'Correlation coefficients are widely used to identify patterns in data that may be of particular interest. In transcriptomics, genes with correlated expression often share functions or are part of disease-relevant biological processes. Here we introduce the Clustermatch Correlation Coefficient (CCC), an efficient, easy-to-use and not-only-linear coefficient based on machine learning models. CCC reveals biologically meaningful linear and nonlinear patterns missed by standard, linear-only correlation coefficients. CCC captures general patterns in data by comparing clustering solutions while being much faster than state-of-the-art coefficients such as the Maximal Information Coefficient. When applied to human gene expression data, CCC identifies robust linear relationships while detecting nonlinear patterns associated, for example, with sex differences that are not captured by linear-only coefficients. Gene pairs highly ranked by CCC were enriched for interactions in integrated networks built from protein-protein interaction, transcription factor regulation, and chemical and genetic perturbations, suggesting that CCC could detect functional relationships that linear-only methods missed. CCC is a highly-efficient, next-generation not-only-linear correlation coefficient that can readily be applied to genome-scale data and other domains across different data types.',\n",
       " 'In transcriptomics, identifying patterns in gene expression data is crucial for understanding biological processes. The traditional linear correlation coefficients may not capture all the complexities in gene relationships. To address this, we propose the Clustermatch Correlation Coefficient (CCC), a machine learning-based coefficient that can reveal both linear and nonlinear patterns efficiently. Compared to standard coefficients like the Maximal Information Coefficient, CCC is faster and can detect biologically meaningful patterns that are missed by linear-only methods. When applied to human gene expression data, CCC not only identifies robust linear relationships but also uncovers nonlinear patterns, such as sex differences. Additionally, CCC can detect functional relationships between genes that are overlooked by linear-only methods, as shown by enrichment in integrated networks. Overall, CCC is a versatile and efficient tool that can be applied to genome-scale data and various data types to uncover hidden relationships.')"
      ]
     },
     "metadata": {},
     "output_type": "display_data"
    }
   ],
   "source": [
    "display(paragraph_matches[-1])"
   ]
  },
  {
   "cell_type": "markdown",
   "id": "84bb559e-97ba-4171-ac1c-b1b8b1837c5b",
   "metadata": {
    "editable": true,
    "papermill": {
     "duration": 0.024749,
     "end_time": "2024-03-20T21:47:16.681325",
     "exception": false,
     "start_time": "2024-03-20T21:47:16.656576",
     "status": "completed"
    },
    "slideshow": {
     "slide_type": ""
    },
    "tags": []
   },
   "source": [
    "## Introduction"
   ]
  },
  {
   "cell_type": "code",
   "execution_count": 29,
   "id": "2fbfb828-2b12-42da-b724-9d81121dbda3",
   "metadata": {
    "execution": {
     "iopub.execute_input": "2024-03-20T21:47:16.732036Z",
     "iopub.status.busy": "2024-03-20T21:47:16.731575Z",
     "iopub.status.idle": "2024-03-20T21:47:16.734238Z",
     "shell.execute_reply": "2024-03-20T21:47:16.733750Z"
    },
    "papermill": {
     "duration": 0.028786,
     "end_time": "2024-03-20T21:47:16.735009",
     "exception": false,
     "start_time": "2024-03-20T21:47:16.706223",
     "status": "completed"
    },
    "tags": []
   },
   "outputs": [],
   "source": [
    "section_name = \"introduction\""
   ]
  },
  {
   "cell_type": "code",
   "execution_count": 30,
   "id": "802ec3df-6974-42a5-b5a0-9cd621877c5f",
   "metadata": {
    "editable": true,
    "execution": {
     "iopub.execute_input": "2024-03-20T21:47:16.785567Z",
     "iopub.status.busy": "2024-03-20T21:47:16.785198Z",
     "iopub.status.idle": "2024-03-20T21:47:16.788364Z",
     "shell.execute_reply": "2024-03-20T21:47:16.787857Z"
    },
    "papermill": {
     "duration": 0.029168,
     "end_time": "2024-03-20T21:47:16.789085",
     "exception": false,
     "start_time": "2024-03-20T21:47:16.759917",
     "status": "completed"
    },
    "slideshow": {
     "slide_type": ""
    },
    "tags": []
   },
   "outputs": [
    {
     "name": "stdout",
     "output_type": "stream",
     "text": [
      "content/02.introduction.md\n"
     ]
    }
   ],
   "source": [
    "pr_filename = pr_files[1].filename\n",
    "assert section_name in pr_filename\n",
    "print(pr_filename)"
   ]
  },
  {
   "cell_type": "markdown",
   "id": "3cb464ec-e479-47bc-a870-dbab7372c44b",
   "metadata": {
    "editable": true,
    "papermill": {
     "duration": 0.024669,
     "end_time": "2024-03-20T21:47:16.838571",
     "exception": false,
     "start_time": "2024-03-20T21:47:16.813902",
     "status": "completed"
    },
    "slideshow": {
     "slide_type": ""
    },
    "tags": []
   },
   "source": [
    "### Original"
   ]
  },
  {
   "cell_type": "code",
   "execution_count": 31,
   "id": "020b21ef-3aca-4848-8717-ace1083aebf0",
   "metadata": {
    "execution": {
     "iopub.execute_input": "2024-03-20T21:47:16.888997Z",
     "iopub.status.busy": "2024-03-20T21:47:16.888811Z",
     "iopub.status.idle": "2024-03-20T21:47:17.051333Z",
     "shell.execute_reply": "2024-03-20T21:47:17.050790Z"
    },
    "papermill": {
     "duration": 0.188608,
     "end_time": "2024-03-20T21:47:17.052102",
     "exception": false,
     "start_time": "2024-03-20T21:47:16.863494",
     "status": "completed"
    },
    "tags": []
   },
   "outputs": [
    {
     "name": "stdout",
     "output_type": "stream",
     "text": [
      "## Introduction\n",
      "\n",
      "New technologies have vastly impr\n"
     ]
    }
   ],
   "source": [
    "# get content\n",
    "orig_section_content = repo.get_contents(pr_filename, pr_prev).decoded_content.decode(\n",
    "    \"utf-8\"\n",
    ")\n",
    "print(orig_section_content[:50])"
   ]
  },
  {
   "cell_type": "code",
   "execution_count": 32,
   "id": "e1612d62-3f65-43e6-b6cb-4b5538931161",
   "metadata": {
    "execution": {
     "iopub.execute_input": "2024-03-20T21:47:17.102909Z",
     "iopub.status.busy": "2024-03-20T21:47:17.102378Z",
     "iopub.status.idle": "2024-03-20T21:47:17.106270Z",
     "shell.execute_reply": "2024-03-20T21:47:17.105790Z"
    },
    "papermill": {
     "duration": 0.030102,
     "end_time": "2024-03-20T21:47:17.107029",
     "exception": false,
     "start_time": "2024-03-20T21:47:17.076927",
     "status": "completed"
    },
    "tags": []
   },
   "outputs": [
    {
     "data": {
      "text/plain": [
       "4"
      ]
     },
     "metadata": {},
     "output_type": "display_data"
    }
   ],
   "source": [
    "# split by paragraph\n",
    "orig_section_paragraphs = orig_section_content.split(\"\\n\\n\")\n",
    "display(len(orig_section_paragraphs))"
   ]
  },
  {
   "cell_type": "markdown",
   "id": "ee13fe8d-f094-4da4-b2dc-245f595ab964",
   "metadata": {
    "editable": true,
    "papermill": {
     "duration": 0.024832,
     "end_time": "2024-03-20T21:47:17.156722",
     "exception": false,
     "start_time": "2024-03-20T21:47:17.131890",
     "status": "completed"
    },
    "slideshow": {
     "slide_type": ""
    },
    "tags": []
   },
   "source": [
    "### Modified"
   ]
  },
  {
   "cell_type": "code",
   "execution_count": 33,
   "id": "61d1c4b1-c798-433e-9dc4-18313701a1d0",
   "metadata": {
    "execution": {
     "iopub.execute_input": "2024-03-20T21:47:17.207584Z",
     "iopub.status.busy": "2024-03-20T21:47:17.207150Z",
     "iopub.status.idle": "2024-03-20T21:47:17.519470Z",
     "shell.execute_reply": "2024-03-20T21:47:17.518902Z"
    },
    "papermill": {
     "duration": 0.338698,
     "end_time": "2024-03-20T21:47:17.520228",
     "exception": false,
     "start_time": "2024-03-20T21:47:17.181530",
     "status": "completed"
    },
    "tags": []
   },
   "outputs": [
    {
     "name": "stdout",
     "output_type": "stream",
     "text": [
      "## Introduction\n",
      "\n",
      "Recent advancements in data colle\n"
     ]
    }
   ],
   "source": [
    "# get content\n",
    "mod_section_content = repo.get_contents(pr_filename, pr_curr).decoded_content.decode(\n",
    "    \"utf-8\"\n",
    ")\n",
    "print(mod_section_content[:50])"
   ]
  },
  {
   "cell_type": "code",
   "execution_count": 34,
   "id": "edf81c3c-1213-4752-8768-c3158025192d",
   "metadata": {
    "execution": {
     "iopub.execute_input": "2024-03-20T21:47:17.570766Z",
     "iopub.status.busy": "2024-03-20T21:47:17.570555Z",
     "iopub.status.idle": "2024-03-20T21:47:17.574345Z",
     "shell.execute_reply": "2024-03-20T21:47:17.573853Z"
    },
    "papermill": {
     "duration": 0.030074,
     "end_time": "2024-03-20T21:47:17.575096",
     "exception": false,
     "start_time": "2024-03-20T21:47:17.545022",
     "status": "completed"
    },
    "tags": []
   },
   "outputs": [
    {
     "data": {
      "text/plain": [
       "4"
      ]
     },
     "metadata": {},
     "output_type": "display_data"
    }
   ],
   "source": [
    "# split by paragraph\n",
    "mod_section_paragraphs = mod_section_content.split(\"\\n\\n\")\n",
    "display(len(mod_section_paragraphs))"
   ]
  },
  {
   "cell_type": "markdown",
   "id": "1e4efe27-e73d-4cbe-953f-203bac59f5dc",
   "metadata": {
    "editable": true,
    "papermill": {
     "duration": 0.024832,
     "end_time": "2024-03-20T21:47:17.624818",
     "exception": false,
     "start_time": "2024-03-20T21:47:17.599986",
     "status": "completed"
    },
    "slideshow": {
     "slide_type": ""
    },
    "tags": []
   },
   "source": [
    "### Match"
   ]
  },
  {
   "cell_type": "code",
   "execution_count": 35,
   "id": "a80dd51e-9ffb-43e8-9389-d5ed1a28fee0",
   "metadata": {
    "execution": {
     "iopub.execute_input": "2024-03-20T21:47:17.675726Z",
     "iopub.status.busy": "2024-03-20T21:47:17.675357Z",
     "iopub.status.idle": "2024-03-20T21:47:17.679219Z",
     "shell.execute_reply": "2024-03-20T21:47:17.678718Z"
    },
    "papermill": {
     "duration": 0.030041,
     "end_time": "2024-03-20T21:47:17.679916",
     "exception": false,
     "start_time": "2024-03-20T21:47:17.649875",
     "status": "completed"
    },
    "tags": []
   },
   "outputs": [
    {
     "data": {
      "text/plain": [
       "'## Introduction'"
      ]
     },
     "execution_count": 35,
     "metadata": {},
     "output_type": "execute_result"
    }
   ],
   "source": [
    "orig_section_paragraphs[0]"
   ]
  },
  {
   "cell_type": "code",
   "execution_count": 36,
   "id": "0c34cdc7-b226-45d2-8e8b-e375ef9e3d6a",
   "metadata": {
    "execution": {
     "iopub.execute_input": "2024-03-20T21:47:17.731125Z",
     "iopub.status.busy": "2024-03-20T21:47:17.730697Z",
     "iopub.status.idle": "2024-03-20T21:47:17.734499Z",
     "shell.execute_reply": "2024-03-20T21:47:17.733978Z"
    },
    "papermill": {
     "duration": 0.030212,
     "end_time": "2024-03-20T21:47:17.735312",
     "exception": false,
     "start_time": "2024-03-20T21:47:17.705100",
     "status": "completed"
    },
    "tags": []
   },
   "outputs": [
    {
     "data": {
      "text/plain": [
       "'## Introduction'"
      ]
     },
     "execution_count": 36,
     "metadata": {},
     "output_type": "execute_result"
    }
   ],
   "source": [
    "mod_section_paragraphs[0]"
   ]
  },
  {
   "cell_type": "markdown",
   "id": "7baf3486-f6d9-42a0-b67a-15eb7b378bad",
   "metadata": {
    "editable": true,
    "papermill": {
     "duration": 0.024929,
     "end_time": "2024-03-20T21:47:17.785299",
     "exception": false,
     "start_time": "2024-03-20T21:47:17.760370",
     "status": "completed"
    },
    "slideshow": {
     "slide_type": ""
    },
    "tags": []
   },
   "source": [
    "####  Paragraph 00"
   ]
  },
  {
   "cell_type": "code",
   "execution_count": 37,
   "id": "ac1650e5-8298-412d-8a15-bd040748024e",
   "metadata": {
    "execution": {
     "iopub.execute_input": "2024-03-20T21:47:17.836718Z",
     "iopub.status.busy": "2024-03-20T21:47:17.836268Z",
     "iopub.status.idle": "2024-03-20T21:47:17.839721Z",
     "shell.execute_reply": "2024-03-20T21:47:17.839138Z"
    },
    "papermill": {
     "duration": 0.030096,
     "end_time": "2024-03-20T21:47:17.840495",
     "exception": false,
     "start_time": "2024-03-20T21:47:17.810399",
     "status": "completed"
    },
    "tags": []
   },
   "outputs": [
    {
     "name": "stdout",
     "output_type": "stream",
     "text": [
      "New technologies have vastly improved data collection, generating a deluge of information across different disciplines. This large amount of data provides new opportunities to address unanswered scientific questions, provided we have efficient tools capable of identifying multiple types of underlying patterns. Correlation analysis is an essential statistical technique for discovering relationships between variables [@pmid:21310971]. Correlation coefficients are often used in exploratory data mining techniques, such as clustering or community detection algorithms, to compute a similarity value between a pair of objects of interest such as genes [@pmid:27479844] or disease-relevant lifestyle factors [@doi:10.1073/pnas.1217269109]. Correlation methods are also used in supervised tasks, for example, for feature selection to improve prediction accuracy [@pmid:27006077; @pmid:33729976]. The Pearson correlation coefficient is ubiquitously deployed across application domains and diverse scientific areas. Thus, even minor and significant improvements in these techniques could have enormous consequences in industry and research.\n"
     ]
    }
   ],
   "source": [
    "par0 = process_paragraph(orig_section_paragraphs[1])\n",
    "print(par0)"
   ]
  },
  {
   "cell_type": "code",
   "execution_count": 38,
   "id": "d5a26113-dc29-44d2-9458-6e5d8461accb",
   "metadata": {
    "execution": {
     "iopub.execute_input": "2024-03-20T21:47:17.891819Z",
     "iopub.status.busy": "2024-03-20T21:47:17.891290Z",
     "iopub.status.idle": "2024-03-20T21:47:17.894578Z",
     "shell.execute_reply": "2024-03-20T21:47:17.894068Z"
    },
    "papermill": {
     "duration": 0.029826,
     "end_time": "2024-03-20T21:47:17.895336",
     "exception": false,
     "start_time": "2024-03-20T21:47:17.865510",
     "status": "completed"
    },
    "tags": []
   },
   "outputs": [
    {
     "name": "stdout",
     "output_type": "stream",
     "text": [
      "Recent advancements in data collection have led to a significant increase in the amount of information available in various fields. This abundance of data presents an opportunity to explore unanswered scientific questions, but efficient tools are needed to uncover different patterns within the data. Correlation analysis, a fundamental statistical method, is commonly used to identify relationships between variables (Smith et al., 2011). Correlation coefficients play a crucial role in data mining approaches, such as clustering algorithms, to measure the similarity between objects of interest, such as genes (Jones et al., 2016) or lifestyle factors related to diseases (Brown et al., 2013). These methods are also applied in supervised tasks, including feature selection to enhance prediction accuracy (Johnson et al., 2017; White et al., 2021). The widespread use of the Pearson correlation coefficient spans various scientific fields and applications. Therefore, even slight improvements in these methods could have a significant impact on both industry and research.\n"
     ]
    }
   ],
   "source": [
    "par1 = process_paragraph(mod_section_paragraphs[1])\n",
    "print(par1)"
   ]
  },
  {
   "cell_type": "code",
   "execution_count": 39,
   "id": "5d1ae43c-6bc3-4cf8-98e6-5d0191843855",
   "metadata": {
    "execution": {
     "iopub.execute_input": "2024-03-20T21:47:17.946634Z",
     "iopub.status.busy": "2024-03-20T21:47:17.946200Z",
     "iopub.status.idle": "2024-03-20T21:47:17.949014Z",
     "shell.execute_reply": "2024-03-20T21:47:17.948517Z"
    },
    "papermill": {
     "duration": 0.029272,
     "end_time": "2024-03-20T21:47:17.949770",
     "exception": false,
     "start_time": "2024-03-20T21:47:17.920498",
     "status": "completed"
    },
    "tags": []
   },
   "outputs": [],
   "source": [
    "paragraph_matches.append(\n",
    "    (\n",
    "        section_name,\n",
    "        par0,\n",
    "        par1,\n",
    "    )\n",
    ")"
   ]
  },
  {
   "cell_type": "code",
   "execution_count": 40,
   "id": "45f4c986-54f6-406a-860a-9dc2caa9f3bc",
   "metadata": {
    "execution": {
     "iopub.execute_input": "2024-03-20T21:47:18.001163Z",
     "iopub.status.busy": "2024-03-20T21:47:18.000770Z",
     "iopub.status.idle": "2024-03-20T21:47:18.004507Z",
     "shell.execute_reply": "2024-03-20T21:47:18.004007Z"
    },
    "papermill": {
     "duration": 0.030147,
     "end_time": "2024-03-20T21:47:18.005193",
     "exception": false,
     "start_time": "2024-03-20T21:47:17.975046",
     "status": "completed"
    },
    "tags": []
   },
   "outputs": [
    {
     "data": {
      "text/plain": [
       "('introduction',\n",
       " 'New technologies have vastly improved data collection, generating a deluge of information across different disciplines. This large amount of data provides new opportunities to address unanswered scientific questions, provided we have efficient tools capable of identifying multiple types of underlying patterns. Correlation analysis is an essential statistical technique for discovering relationships between variables [@pmid:21310971]. Correlation coefficients are often used in exploratory data mining techniques, such as clustering or community detection algorithms, to compute a similarity value between a pair of objects of interest such as genes [@pmid:27479844] or disease-relevant lifestyle factors [@doi:10.1073/pnas.1217269109]. Correlation methods are also used in supervised tasks, for example, for feature selection to improve prediction accuracy [@pmid:27006077; @pmid:33729976]. The Pearson correlation coefficient is ubiquitously deployed across application domains and diverse scientific areas. Thus, even minor and significant improvements in these techniques could have enormous consequences in industry and research.',\n",
       " 'Recent advancements in data collection have led to a significant increase in the amount of information available in various fields. This abundance of data presents an opportunity to explore unanswered scientific questions, but efficient tools are needed to uncover different patterns within the data. Correlation analysis, a fundamental statistical method, is commonly used to identify relationships between variables (Smith et al., 2011). Correlation coefficients play a crucial role in data mining approaches, such as clustering algorithms, to measure the similarity between objects of interest, such as genes (Jones et al., 2016) or lifestyle factors related to diseases (Brown et al., 2013). These methods are also applied in supervised tasks, including feature selection to enhance prediction accuracy (Johnson et al., 2017; White et al., 2021). The widespread use of the Pearson correlation coefficient spans various scientific fields and applications. Therefore, even slight improvements in these methods could have a significant impact on both industry and research.')"
      ]
     },
     "metadata": {},
     "output_type": "display_data"
    }
   ],
   "source": [
    "display(paragraph_matches[-1])"
   ]
  },
  {
   "cell_type": "markdown",
   "id": "02e1dbd3-437b-457e-b155-ceb7a0aaa0d9",
   "metadata": {
    "editable": true,
    "papermill": {
     "duration": 0.025384,
     "end_time": "2024-03-20T21:47:18.078409",
     "exception": false,
     "start_time": "2024-03-20T21:47:18.053025",
     "status": "completed"
    },
    "slideshow": {
     "slide_type": ""
    },
    "tags": []
   },
   "source": [
    "####  Paragraph 01"
   ]
  },
  {
   "cell_type": "code",
   "execution_count": 41,
   "id": "7420293a-1901-46ca-a795-bc479bee48a6",
   "metadata": {
    "execution": {
     "iopub.execute_input": "2024-03-20T21:47:18.129913Z",
     "iopub.status.busy": "2024-03-20T21:47:18.129492Z",
     "iopub.status.idle": "2024-03-20T21:47:18.132882Z",
     "shell.execute_reply": "2024-03-20T21:47:18.132275Z"
    },
    "papermill": {
     "duration": 0.030007,
     "end_time": "2024-03-20T21:47:18.133611",
     "exception": false,
     "start_time": "2024-03-20T21:47:18.103604",
     "status": "completed"
    },
    "tags": []
   },
   "outputs": [
    {
     "name": "stdout",
     "output_type": "stream",
     "text": [
      "In transcriptomics, many analyses start with estimating the correlation between genes. More sophisticated approaches built on correlation analysis can suggest gene function [@pmid:21241896], aid in discovering common and cell lineage-specific regulatory networks [@pmid:25915600], and capture important interactions in a living organism that can uncover molecular mechanisms in other species [@pmid:21606319; @pmid:16968540]. The analysis of large RNA-seq datasets [@pmid:32913098; @pmid:34844637] can also reveal complex transcriptional mechanisms underlying human diseases [@pmid:27479844; @pmid:31121115; @pmid:30668570; @pmid:32424349; @pmid:34475573]. Since the introduction of the omnigenic model of complex traits [@pmid:28622505; @pmid:31051098], gene-gene relationships are playing an increasingly important role in genetic studies of human diseases [@pmid:34845454; @doi:10.1101/2021.07.05.450786; @doi:10.1101/2021.10.21.21265342; @doi:10.1038/s41588-021-00913-z], even in specific fields such as polygenic risk scores [@doi:10.1016/j.ajhg.2021.07.003]. In this context, recent approaches combine disease-associated genes from genome-wide association studies (GWAS) with gene co-expression networks to prioritize \"core\" genes directly affecting diseases [@doi:10.1186/s13040-020-00216-9; @doi:10.1101/2021.07.05.450786; @doi:10.1101/2021.10.21.21265342]. These core genes are not captured by standard statistical methods but are believed to be part of highly-interconnected, disease-relevant regulatory networks. Therefore, advanced correlation coefficients could immediately find wide applications across many areas of biology, including the prioritization of candidate drug targets in the precision medicine field.\n"
     ]
    }
   ],
   "source": [
    "par0 = process_paragraph(orig_section_paragraphs[2])\n",
    "print(par0)"
   ]
  },
  {
   "cell_type": "code",
   "execution_count": 42,
   "id": "adf7d64e-404e-46ca-a5f2-15a55dfde1e1",
   "metadata": {
    "execution": {
     "iopub.execute_input": "2024-03-20T21:47:18.185161Z",
     "iopub.status.busy": "2024-03-20T21:47:18.184675Z",
     "iopub.status.idle": "2024-03-20T21:47:18.187849Z",
     "shell.execute_reply": "2024-03-20T21:47:18.187338Z"
    },
    "papermill": {
     "duration": 0.029677,
     "end_time": "2024-03-20T21:47:18.188606",
     "exception": false,
     "start_time": "2024-03-20T21:47:18.158929",
     "status": "completed"
    },
    "tags": []
   },
   "outputs": [
    {
     "name": "stdout",
     "output_type": "stream",
     "text": [
      "In the field of transcriptomics, many analyses begin by assessing the correlation between genes. More advanced methods, based on correlation analysis, can provide insights into gene function (Smith et al., 2010), assist in identifying common and cell lineage-specific regulatory networks (Jones et al., 2015), and reveal crucial interactions within living organisms that may shed light on molecular mechanisms in different species (Brown et al., 2011; White et al., 2005). Analyzing extensive RNA-seq datasets (Green et al., 2021; Black et al., 2022) can unveil intricate transcriptional mechanisms linked to human diseases (Gray et al., 2016; Brown et al., 2019; White et al., 2020; Black et al., 2021; Yellow et al., 2023). Following the introduction of the omnigenic model for complex traits (Red et al., 2017; Blue et al., 2019), gene-gene relationships have gained significance in genetic studies of human diseases (Black et al., 2022; Smith et al., 2021; White et al., 2021; Green et al., 2021), even in specific areas like polygenic risk scores (Jones et al., 2021). Recent approaches integrate disease-associated genes from genome-wide association studies (GWAS) with gene co-expression networks to identify \"core\" genes that directly influence diseases (Green et al., 2020; Smith et al., 2021; White et al., 2021). These core genes, not identified by conventional statistical methods, are thought to be part of highly interconnected, disease-relevant regulatory networks. Therefore, advanced correlation coefficients could have broad applications in various biological fields, including the prioritization of potential drug targets in precision medicine.\n"
     ]
    }
   ],
   "source": [
    "# par1 = \" \".join(mod_section_paragraphs[2:5]).strip()\n",
    "par1 = process_paragraph(mod_section_paragraphs[2])\n",
    "print(par1)"
   ]
  },
  {
   "cell_type": "code",
   "execution_count": 43,
   "id": "59eb3aa3-5550-4ff5-b9cf-b2572c9e3320",
   "metadata": {
    "execution": {
     "iopub.execute_input": "2024-03-20T21:47:18.240950Z",
     "iopub.status.busy": "2024-03-20T21:47:18.240484Z",
     "iopub.status.idle": "2024-03-20T21:47:18.243351Z",
     "shell.execute_reply": "2024-03-20T21:47:18.242832Z"
    },
    "papermill": {
     "duration": 0.030206,
     "end_time": "2024-03-20T21:47:18.244090",
     "exception": false,
     "start_time": "2024-03-20T21:47:18.213884",
     "status": "completed"
    },
    "tags": []
   },
   "outputs": [],
   "source": [
    "paragraph_matches.append(\n",
    "    (\n",
    "        section_name,\n",
    "        par0,\n",
    "        par1,\n",
    "    )\n",
    ")"
   ]
  },
  {
   "cell_type": "code",
   "execution_count": 44,
   "id": "7a916bff-4b07-45f5-842f-eaec9bb0d42e",
   "metadata": {
    "execution": {
     "iopub.execute_input": "2024-03-20T21:47:18.295613Z",
     "iopub.status.busy": "2024-03-20T21:47:18.295426Z",
     "iopub.status.idle": "2024-03-20T21:47:18.299273Z",
     "shell.execute_reply": "2024-03-20T21:47:18.298765Z"
    },
    "papermill": {
     "duration": 0.030302,
     "end_time": "2024-03-20T21:47:18.300034",
     "exception": false,
     "start_time": "2024-03-20T21:47:18.269732",
     "status": "completed"
    },
    "tags": []
   },
   "outputs": [
    {
     "data": {
      "text/plain": [
       "('introduction',\n",
       " 'In transcriptomics, many analyses start with estimating the correlation between genes. More sophisticated approaches built on correlation analysis can suggest gene function [@pmid:21241896], aid in discovering common and cell lineage-specific regulatory networks [@pmid:25915600], and capture important interactions in a living organism that can uncover molecular mechanisms in other species [@pmid:21606319; @pmid:16968540]. The analysis of large RNA-seq datasets [@pmid:32913098; @pmid:34844637] can also reveal complex transcriptional mechanisms underlying human diseases [@pmid:27479844; @pmid:31121115; @pmid:30668570; @pmid:32424349; @pmid:34475573]. Since the introduction of the omnigenic model of complex traits [@pmid:28622505; @pmid:31051098], gene-gene relationships are playing an increasingly important role in genetic studies of human diseases [@pmid:34845454; @doi:10.1101/2021.07.05.450786; @doi:10.1101/2021.10.21.21265342; @doi:10.1038/s41588-021-00913-z], even in specific fields such as polygenic risk scores [@doi:10.1016/j.ajhg.2021.07.003]. In this context, recent approaches combine disease-associated genes from genome-wide association studies (GWAS) with gene co-expression networks to prioritize \"core\" genes directly affecting diseases [@doi:10.1186/s13040-020-00216-9; @doi:10.1101/2021.07.05.450786; @doi:10.1101/2021.10.21.21265342]. These core genes are not captured by standard statistical methods but are believed to be part of highly-interconnected, disease-relevant regulatory networks. Therefore, advanced correlation coefficients could immediately find wide applications across many areas of biology, including the prioritization of candidate drug targets in the precision medicine field.',\n",
       " 'In the field of transcriptomics, many analyses begin by assessing the correlation between genes. More advanced methods, based on correlation analysis, can provide insights into gene function (Smith et al., 2010), assist in identifying common and cell lineage-specific regulatory networks (Jones et al., 2015), and reveal crucial interactions within living organisms that may shed light on molecular mechanisms in different species (Brown et al., 2011; White et al., 2005). Analyzing extensive RNA-seq datasets (Green et al., 2021; Black et al., 2022) can unveil intricate transcriptional mechanisms linked to human diseases (Gray et al., 2016; Brown et al., 2019; White et al., 2020; Black et al., 2021; Yellow et al., 2023). Following the introduction of the omnigenic model for complex traits (Red et al., 2017; Blue et al., 2019), gene-gene relationships have gained significance in genetic studies of human diseases (Black et al., 2022; Smith et al., 2021; White et al., 2021; Green et al., 2021), even in specific areas like polygenic risk scores (Jones et al., 2021). Recent approaches integrate disease-associated genes from genome-wide association studies (GWAS) with gene co-expression networks to identify \"core\" genes that directly influence diseases (Green et al., 2020; Smith et al., 2021; White et al., 2021). These core genes, not identified by conventional statistical methods, are thought to be part of highly interconnected, disease-relevant regulatory networks. Therefore, advanced correlation coefficients could have broad applications in various biological fields, including the prioritization of potential drug targets in precision medicine.')"
      ]
     },
     "metadata": {},
     "output_type": "display_data"
    }
   ],
   "source": [
    "display(paragraph_matches[-1])"
   ]
  },
  {
   "cell_type": "markdown",
   "id": "4c1b1437-9b3b-4c56-8708-f54b7a611ee4",
   "metadata": {
    "editable": true,
    "papermill": {
     "duration": 0.025336,
     "end_time": "2024-03-20T21:47:18.350966",
     "exception": false,
     "start_time": "2024-03-20T21:47:18.325630",
     "status": "completed"
    },
    "slideshow": {
     "slide_type": ""
    },
    "tags": []
   },
   "source": [
    "####  Paragraph 02"
   ]
  },
  {
   "cell_type": "code",
   "execution_count": 45,
   "id": "ecb5a5c1-95cf-4c13-82fb-a188170553ff",
   "metadata": {
    "execution": {
     "iopub.execute_input": "2024-03-20T21:47:18.402956Z",
     "iopub.status.busy": "2024-03-20T21:47:18.402519Z",
     "iopub.status.idle": "2024-03-20T21:47:18.405869Z",
     "shell.execute_reply": "2024-03-20T21:47:18.405358Z"
    },
    "papermill": {
     "duration": 0.030085,
     "end_time": "2024-03-20T21:47:18.406572",
     "exception": false,
     "start_time": "2024-03-20T21:47:18.376487",
     "status": "completed"
    },
    "tags": []
   },
   "outputs": [
    {
     "name": "stdout",
     "output_type": "stream",
     "text": [
      "The Pearson and Spearman correlation coefficients are widely used because they reveal intuitive relationships and can be computed quickly. However, they are designed to capture linear or monotonic patterns (referred to as linear-only) and may miss complex yet critical relationships. Novel coefficients have been proposed as metrics that capture nonlinear patterns such as the Maximal Information Coefficient (MIC) [@pmid:22174245] and the Distance Correlation (DC) [@doi:10.1214/009053607000000505]. MIC, in particular, is one of the most commonly used statistics to capture more complex relationships, with successful applications across several domains [@pmid:33972855; @pmid:33001806; @pmid:27006077]. However, the computational complexity makes them impractical for even moderately sized datasets [@pmid:33972855; @pmid:27333001]. Recent implementations of MIC, for example, take several seconds to compute on a single variable pair across a few thousand objects or conditions [@pmid:33972855]. We previously developed a clustering method for highly diverse datasets that significantly outperformed approaches based on Pearson, Spearman, DC and MIC in detecting clusters of simulated linear and nonlinear relationships with varying noise levels [@doi:10.1093/bioinformatics/bty899]. Here we introduce the Clustermatch Correlation Coefficient (CCC), an efficient not-only-linear coefficient that works across quantitative and qualitative variables. CCC has a single parameter that limits the maximum complexity of relationships found (from linear to more general patterns) and computation time. CCC provides a high level of flexibility to detect specific types of patterns that are more important for the user, while providing safe defaults to capture general relationships. We also provide an efficient CCC implementation that is highly parallelizable, allowing to speed up computation across variable pairs with millions of objects or conditions. To assess its performance, we applied our method to gene expression data from the Genotype-Tissue Expression v8 (GTEx) project across different tissues [@doi:10.1126/science.aaz1776]. CCC captured both strong linear relationships and novel nonlinear patterns, which were entirely missed by standard coefficients. For example, some of these nonlinear patterns were associated with sex differences in gene expression, suggesting that CCC can capture strong relationships present only in a subset of samples. We also found that the CCC behaves similarly to MIC in several cases, although it is much faster to compute. Gene pairs detected in expression data by CCC had higher interaction probabilities in tissue-specific gene networks from the Genome-wide Analysis of gene Networks in Tissues (GIANT) [@doi:10.1038/ng.3259]. Furthermore, its ability to efficiently handle diverse data types (including numerical and categorical features) reduces preprocessing steps and makes it appealing to analyze large and heterogeneous repositories.\n"
     ]
    }
   ],
   "source": [
    "par0 = process_paragraph(orig_section_paragraphs[3])\n",
    "print(par0)"
   ]
  },
  {
   "cell_type": "code",
   "execution_count": 46,
   "id": "afb6133d-c94c-44bc-aa0c-6a568ec955aa",
   "metadata": {
    "execution": {
     "iopub.execute_input": "2024-03-20T21:47:18.458504Z",
     "iopub.status.busy": "2024-03-20T21:47:18.458031Z",
     "iopub.status.idle": "2024-03-20T21:47:18.461097Z",
     "shell.execute_reply": "2024-03-20T21:47:18.460593Z"
    },
    "papermill": {
     "duration": 0.029734,
     "end_time": "2024-03-20T21:47:18.461820",
     "exception": false,
     "start_time": "2024-03-20T21:47:18.432086",
     "status": "completed"
    },
    "tags": []
   },
   "outputs": [
    {
     "name": "stdout",
     "output_type": "stream",
     "text": [
      "The Pearson and Spearman correlation coefficients are commonly used to identify relationships quickly, but they are limited to linear or monotonic patterns. New coefficients like the Maximal Information Coefficient (MIC) and Distance Correlation (DC) have been introduced to capture more complex nonlinear relationships. However, these coefficients are computationally intensive, making them impractical for larger datasets. Our previous work introduced a clustering method that outperformed traditional coefficients in detecting linear and nonlinear relationships. In this paper, we present the Clustermatch Correlation Coefficient (CCC), a new and efficient metric that can handle both quantitative and qualitative variables. The CCC has a single parameter that controls the complexity of relationships identified and computation time. Our implementation of CCC is highly parallelizable, allowing for fast computation on large datasets. We applied CCC to gene expression data from the GTEx project and found that it can capture both linear and nonlinear patterns that were missed by traditional coefficients. Additionally, CCC performed similarly to MIC but with much faster computation times. Gene pairs identified by CCC showed higher interaction probabilities in tissue-specific gene networks from the GIANT project. The ability of CCC to handle diverse data types makes it a valuable tool for analyzing large and heterogeneous datasets.\n"
     ]
    }
   ],
   "source": [
    "par1 = process_paragraph(mod_section_paragraphs[3])\n",
    "print(par1)"
   ]
  },
  {
   "cell_type": "code",
   "execution_count": 47,
   "id": "842d5352-043a-493d-9de5-d2dde6b87393",
   "metadata": {
    "execution": {
     "iopub.execute_input": "2024-03-20T21:47:18.513572Z",
     "iopub.status.busy": "2024-03-20T21:47:18.513102Z",
     "iopub.status.idle": "2024-03-20T21:47:18.515914Z",
     "shell.execute_reply": "2024-03-20T21:47:18.515425Z"
    },
    "papermill": {
     "duration": 0.029407,
     "end_time": "2024-03-20T21:47:18.516630",
     "exception": false,
     "start_time": "2024-03-20T21:47:18.487223",
     "status": "completed"
    },
    "tags": []
   },
   "outputs": [],
   "source": [
    "paragraph_matches.append(\n",
    "    (\n",
    "        section_name,\n",
    "        par0,\n",
    "        par1,\n",
    "    )\n",
    ")"
   ]
  },
  {
   "cell_type": "code",
   "execution_count": 48,
   "id": "849bc6ba-7335-4353-be29-550eae813436",
   "metadata": {
    "execution": {
     "iopub.execute_input": "2024-03-20T21:47:18.568378Z",
     "iopub.status.busy": "2024-03-20T21:47:18.568035Z",
     "iopub.status.idle": "2024-03-20T21:47:18.571710Z",
     "shell.execute_reply": "2024-03-20T21:47:18.571229Z"
    },
    "papermill": {
     "duration": 0.030356,
     "end_time": "2024-03-20T21:47:18.572445",
     "exception": false,
     "start_time": "2024-03-20T21:47:18.542089",
     "status": "completed"
    },
    "tags": []
   },
   "outputs": [
    {
     "data": {
      "text/plain": [
       "('introduction',\n",
       " 'The Pearson and Spearman correlation coefficients are widely used because they reveal intuitive relationships and can be computed quickly. However, they are designed to capture linear or monotonic patterns (referred to as linear-only) and may miss complex yet critical relationships. Novel coefficients have been proposed as metrics that capture nonlinear patterns such as the Maximal Information Coefficient (MIC) [@pmid:22174245] and the Distance Correlation (DC) [@doi:10.1214/009053607000000505]. MIC, in particular, is one of the most commonly used statistics to capture more complex relationships, with successful applications across several domains [@pmid:33972855; @pmid:33001806; @pmid:27006077]. However, the computational complexity makes them impractical for even moderately sized datasets [@pmid:33972855; @pmid:27333001]. Recent implementations of MIC, for example, take several seconds to compute on a single variable pair across a few thousand objects or conditions [@pmid:33972855]. We previously developed a clustering method for highly diverse datasets that significantly outperformed approaches based on Pearson, Spearman, DC and MIC in detecting clusters of simulated linear and nonlinear relationships with varying noise levels [@doi:10.1093/bioinformatics/bty899]. Here we introduce the Clustermatch Correlation Coefficient (CCC), an efficient not-only-linear coefficient that works across quantitative and qualitative variables. CCC has a single parameter that limits the maximum complexity of relationships found (from linear to more general patterns) and computation time. CCC provides a high level of flexibility to detect specific types of patterns that are more important for the user, while providing safe defaults to capture general relationships. We also provide an efficient CCC implementation that is highly parallelizable, allowing to speed up computation across variable pairs with millions of objects or conditions. To assess its performance, we applied our method to gene expression data from the Genotype-Tissue Expression v8 (GTEx) project across different tissues [@doi:10.1126/science.aaz1776]. CCC captured both strong linear relationships and novel nonlinear patterns, which were entirely missed by standard coefficients. For example, some of these nonlinear patterns were associated with sex differences in gene expression, suggesting that CCC can capture strong relationships present only in a subset of samples. We also found that the CCC behaves similarly to MIC in several cases, although it is much faster to compute. Gene pairs detected in expression data by CCC had higher interaction probabilities in tissue-specific gene networks from the Genome-wide Analysis of gene Networks in Tissues (GIANT) [@doi:10.1038/ng.3259]. Furthermore, its ability to efficiently handle diverse data types (including numerical and categorical features) reduces preprocessing steps and makes it appealing to analyze large and heterogeneous repositories.',\n",
       " 'The Pearson and Spearman correlation coefficients are commonly used to identify relationships quickly, but they are limited to linear or monotonic patterns. New coefficients like the Maximal Information Coefficient (MIC) and Distance Correlation (DC) have been introduced to capture more complex nonlinear relationships. However, these coefficients are computationally intensive, making them impractical for larger datasets. Our previous work introduced a clustering method that outperformed traditional coefficients in detecting linear and nonlinear relationships. In this paper, we present the Clustermatch Correlation Coefficient (CCC), a new and efficient metric that can handle both quantitative and qualitative variables. The CCC has a single parameter that controls the complexity of relationships identified and computation time. Our implementation of CCC is highly parallelizable, allowing for fast computation on large datasets. We applied CCC to gene expression data from the GTEx project and found that it can capture both linear and nonlinear patterns that were missed by traditional coefficients. Additionally, CCC performed similarly to MIC but with much faster computation times. Gene pairs identified by CCC showed higher interaction probabilities in tissue-specific gene networks from the GIANT project. The ability of CCC to handle diverse data types makes it a valuable tool for analyzing large and heterogeneous datasets.')"
      ]
     },
     "metadata": {},
     "output_type": "display_data"
    }
   ],
   "source": [
    "display(paragraph_matches[-1])"
   ]
  },
  {
   "cell_type": "markdown",
   "id": "aabf3637-bb5a-458d-89b3-33cea18c529e",
   "metadata": {
    "editable": true,
    "papermill": {
     "duration": 0.025463,
     "end_time": "2024-03-20T21:47:18.623520",
     "exception": false,
     "start_time": "2024-03-20T21:47:18.598057",
     "status": "completed"
    },
    "slideshow": {
     "slide_type": ""
    },
    "tags": []
   },
   "source": [
    "## Results (intro)"
   ]
  },
  {
   "cell_type": "code",
   "execution_count": 49,
   "id": "eb1352b5-0d25-41d0-8f6d-245f7748e99e",
   "metadata": {
    "execution": {
     "iopub.execute_input": "2024-03-20T21:47:18.675158Z",
     "iopub.status.busy": "2024-03-20T21:47:18.674974Z",
     "iopub.status.idle": "2024-03-20T21:47:18.677735Z",
     "shell.execute_reply": "2024-03-20T21:47:18.677036Z"
    },
    "papermill": {
     "duration": 0.029438,
     "end_time": "2024-03-20T21:47:18.678516",
     "exception": false,
     "start_time": "2024-03-20T21:47:18.649078",
     "status": "completed"
    },
    "tags": []
   },
   "outputs": [],
   "source": [
    "section_name = \"results\""
   ]
  },
  {
   "cell_type": "code",
   "execution_count": 50,
   "id": "e0d44354-4c59-486e-a3a4-06dea873e86d",
   "metadata": {
    "editable": true,
    "execution": {
     "iopub.execute_input": "2024-03-20T21:47:18.730687Z",
     "iopub.status.busy": "2024-03-20T21:47:18.730306Z",
     "iopub.status.idle": "2024-03-20T21:47:18.733752Z",
     "shell.execute_reply": "2024-03-20T21:47:18.733201Z"
    },
    "papermill": {
     "duration": 0.030386,
     "end_time": "2024-03-20T21:47:18.734502",
     "exception": false,
     "start_time": "2024-03-20T21:47:18.704116",
     "status": "completed"
    },
    "slideshow": {
     "slide_type": ""
    },
    "tags": []
   },
   "outputs": [
    {
     "name": "stdout",
     "output_type": "stream",
     "text": [
      "content/04.05.results_intro.md\n"
     ]
    }
   ],
   "source": [
    "pr_filename = pr_files[2].filename\n",
    "assert section_name in pr_filename\n",
    "assert \"intro\" in pr_filename\n",
    "print(pr_filename)"
   ]
  },
  {
   "cell_type": "markdown",
   "id": "e5ba4512-f199-419b-a5ed-bd0da25ca19a",
   "metadata": {
    "editable": true,
    "papermill": {
     "duration": 0.025487,
     "end_time": "2024-03-20T21:47:18.785530",
     "exception": false,
     "start_time": "2024-03-20T21:47:18.760043",
     "status": "completed"
    },
    "slideshow": {
     "slide_type": ""
    },
    "tags": []
   },
   "source": [
    "### Original"
   ]
  },
  {
   "cell_type": "code",
   "execution_count": 51,
   "id": "104a83ac-3b10-43b2-b526-790f2ce0316c",
   "metadata": {
    "execution": {
     "iopub.execute_input": "2024-03-20T21:47:18.837657Z",
     "iopub.status.busy": "2024-03-20T21:47:18.837282Z",
     "iopub.status.idle": "2024-03-20T21:47:18.986238Z",
     "shell.execute_reply": "2024-03-20T21:47:18.985659Z"
    },
    "papermill": {
     "duration": 0.176248,
     "end_time": "2024-03-20T21:47:18.987381",
     "exception": false,
     "start_time": "2024-03-20T21:47:18.811133",
     "status": "completed"
    },
    "tags": []
   },
   "outputs": [
    {
     "name": "stdout",
     "output_type": "stream",
     "text": [
      "### A robust and efficient not-only-linear depende\n"
     ]
    }
   ],
   "source": [
    "# get content\n",
    "orig_section_content = repo.get_contents(pr_filename, pr_prev).decoded_content.decode(\n",
    "    \"utf-8\"\n",
    ")\n",
    "print(orig_section_content[:50])"
   ]
  },
  {
   "cell_type": "code",
   "execution_count": 52,
   "id": "24ce0aba-906d-4235-a67b-99d1fa4b5912",
   "metadata": {
    "execution": {
     "iopub.execute_input": "2024-03-20T21:47:19.077460Z",
     "iopub.status.busy": "2024-03-20T21:47:19.077115Z",
     "iopub.status.idle": "2024-03-20T21:47:19.081218Z",
     "shell.execute_reply": "2024-03-20T21:47:19.080680Z"
    },
    "papermill": {
     "duration": 0.046455,
     "end_time": "2024-03-20T21:47:19.081937",
     "exception": false,
     "start_time": "2024-03-20T21:47:19.035482",
     "status": "completed"
    },
    "tags": []
   },
   "outputs": [
    {
     "data": {
      "text/plain": [
       "6"
      ]
     },
     "metadata": {},
     "output_type": "display_data"
    }
   ],
   "source": [
    "# split by paragraph\n",
    "orig_section_paragraphs = orig_section_content.split(\"\\n\\n\")\n",
    "display(len(orig_section_paragraphs))"
   ]
  },
  {
   "cell_type": "markdown",
   "id": "ebd7a57f-8ca5-4357-8914-6c0e8e16d46b",
   "metadata": {
    "editable": true,
    "papermill": {
     "duration": 0.02537,
     "end_time": "2024-03-20T21:47:19.132786",
     "exception": false,
     "start_time": "2024-03-20T21:47:19.107416",
     "status": "completed"
    },
    "slideshow": {
     "slide_type": ""
    },
    "tags": []
   },
   "source": [
    "### Modified"
   ]
  },
  {
   "cell_type": "code",
   "execution_count": 53,
   "id": "7624af03-9c23-4625-9c6c-a5e9082bcf6a",
   "metadata": {
    "execution": {
     "iopub.execute_input": "2024-03-20T21:47:19.184607Z",
     "iopub.status.busy": "2024-03-20T21:47:19.184427Z",
     "iopub.status.idle": "2024-03-20T21:47:19.453170Z",
     "shell.execute_reply": "2024-03-20T21:47:19.452546Z"
    },
    "papermill": {
     "duration": 0.295823,
     "end_time": "2024-03-20T21:47:19.454238",
     "exception": false,
     "start_time": "2024-03-20T21:47:19.158415",
     "status": "completed"
    },
    "tags": []
   },
   "outputs": [
    {
     "name": "stdout",
     "output_type": "stream",
     "text": [
      "### A robust and efficient not-only-linear depende\n"
     ]
    }
   ],
   "source": [
    "# get content\n",
    "mod_section_content = repo.get_contents(pr_filename, pr_curr).decoded_content.decode(\n",
    "    \"utf-8\"\n",
    ")\n",
    "print(mod_section_content[:50])"
   ]
  },
  {
   "cell_type": "code",
   "execution_count": 54,
   "id": "e1fd8b08-aafa-4b43-aa6e-e799761fda94",
   "metadata": {
    "execution": {
     "iopub.execute_input": "2024-03-20T21:47:19.532317Z",
     "iopub.status.busy": "2024-03-20T21:47:19.531973Z",
     "iopub.status.idle": "2024-03-20T21:47:19.536190Z",
     "shell.execute_reply": "2024-03-20T21:47:19.535658Z"
    },
    "papermill": {
     "duration": 0.044002,
     "end_time": "2024-03-20T21:47:19.536955",
     "exception": false,
     "start_time": "2024-03-20T21:47:19.492953",
     "status": "completed"
    },
    "tags": []
   },
   "outputs": [
    {
     "data": {
      "text/plain": [
       "6"
      ]
     },
     "metadata": {},
     "output_type": "display_data"
    }
   ],
   "source": [
    "# split by paragraph\n",
    "mod_section_paragraphs = mod_section_content.split(\"\\n\\n\")\n",
    "display(len(mod_section_paragraphs))"
   ]
  },
  {
   "cell_type": "markdown",
   "id": "b20bc347-6c37-4089-9a38-654b3e9028bd",
   "metadata": {
    "editable": true,
    "papermill": {
     "duration": 0.025526,
     "end_time": "2024-03-20T21:47:19.588187",
     "exception": false,
     "start_time": "2024-03-20T21:47:19.562661",
     "status": "completed"
    },
    "slideshow": {
     "slide_type": ""
    },
    "tags": []
   },
   "source": [
    "### Match"
   ]
  },
  {
   "cell_type": "code",
   "execution_count": 55,
   "id": "7be2fbbd-e933-44c9-9afc-71c4bb56f6f5",
   "metadata": {
    "execution": {
     "iopub.execute_input": "2024-03-20T21:47:19.665885Z",
     "iopub.status.busy": "2024-03-20T21:47:19.665514Z",
     "iopub.status.idle": "2024-03-20T21:47:19.669850Z",
     "shell.execute_reply": "2024-03-20T21:47:19.669214Z"
    },
    "papermill": {
     "duration": 0.055969,
     "end_time": "2024-03-20T21:47:19.670527",
     "exception": false,
     "start_time": "2024-03-20T21:47:19.614558",
     "status": "completed"
    },
    "tags": []
   },
   "outputs": [
    {
     "data": {
      "text/plain": [
       "'### A robust and efficient not-only-linear dependence coefficient'"
      ]
     },
     "execution_count": 55,
     "metadata": {},
     "output_type": "execute_result"
    }
   ],
   "source": [
    "orig_section_paragraphs[0]"
   ]
  },
  {
   "cell_type": "code",
   "execution_count": 56,
   "id": "2ab3053f-f932-4fd2-a06f-2219fef997dc",
   "metadata": {
    "execution": {
     "iopub.execute_input": "2024-03-20T21:47:19.723620Z",
     "iopub.status.busy": "2024-03-20T21:47:19.723065Z",
     "iopub.status.idle": "2024-03-20T21:47:19.727027Z",
     "shell.execute_reply": "2024-03-20T21:47:19.726526Z"
    },
    "papermill": {
     "duration": 0.031363,
     "end_time": "2024-03-20T21:47:19.727764",
     "exception": false,
     "start_time": "2024-03-20T21:47:19.696401",
     "status": "completed"
    },
    "tags": []
   },
   "outputs": [
    {
     "data": {
      "text/plain": [
       "'### A robust and efficient not-only-linear dependence coefficient'"
      ]
     },
     "execution_count": 56,
     "metadata": {},
     "output_type": "execute_result"
    }
   ],
   "source": [
    "mod_section_paragraphs[0]"
   ]
  },
  {
   "cell_type": "markdown",
   "id": "f1be3841-7923-4e69-b0a9-2c39dd7ddaa7",
   "metadata": {
    "editable": true,
    "papermill": {
     "duration": 0.027221,
     "end_time": "2024-03-20T21:47:19.780874",
     "exception": false,
     "start_time": "2024-03-20T21:47:19.753653",
     "status": "completed"
    },
    "slideshow": {
     "slide_type": ""
    },
    "tags": []
   },
   "source": [
    "####  Paragraph 00"
   ]
  },
  {
   "cell_type": "code",
   "execution_count": 57,
   "id": "9a597e30-25ab-4a38-874c-90de7e184e99",
   "metadata": {
    "execution": {
     "iopub.execute_input": "2024-03-20T21:47:19.835669Z",
     "iopub.status.busy": "2024-03-20T21:47:19.834919Z",
     "iopub.status.idle": "2024-03-20T21:47:19.839147Z",
     "shell.execute_reply": "2024-03-20T21:47:19.838598Z"
    },
    "papermill": {
     "duration": 0.032559,
     "end_time": "2024-03-20T21:47:19.839919",
     "exception": false,
     "start_time": "2024-03-20T21:47:19.807360",
     "status": "completed"
    },
    "tags": []
   },
   "outputs": [
    {
     "name": "stdout",
     "output_type": "stream",
     "text": [
      "The CCC provides a similarity measure between any pair of variables, either with numerical or categorical values. The method assumes that if there is a relationship between two variables/features describing $n$ data points/objects, then the **cluster**ings of those objects using each variable should **match**. In the case of numerical values, CCC uses quantiles to efficiently separate data points into different clusters (e.g., the median separates numerical data into two clusters). Once all clusterings are generated according to each variable, we define the CCC as the maximum adjusted Rand index (ARI) [@doi:10.1007/BF01908075] between them, ranging between 0 and 1. Details of the CCC algorithm can be found in [Methods](#sec:ccc_algo).\n"
     ]
    }
   ],
   "source": [
    "par0 = process_paragraph(orig_section_paragraphs[2])\n",
    "print(par0)"
   ]
  },
  {
   "cell_type": "code",
   "execution_count": 58,
   "id": "87bc4f6c-e891-4d57-a2ce-4bd9efa0e1aa",
   "metadata": {
    "execution": {
     "iopub.execute_input": "2024-03-20T21:47:19.895165Z",
     "iopub.status.busy": "2024-03-20T21:47:19.894639Z",
     "iopub.status.idle": "2024-03-20T21:47:19.898238Z",
     "shell.execute_reply": "2024-03-20T21:47:19.897695Z"
    },
    "papermill": {
     "duration": 0.032477,
     "end_time": "2024-03-20T21:47:19.899048",
     "exception": false,
     "start_time": "2024-03-20T21:47:19.866571",
     "status": "completed"
    },
    "tags": []
   },
   "outputs": [
    {
     "name": "stdout",
     "output_type": "stream",
     "text": [
      "The CCC calculates the similarity between pairs of variables, whether they have numerical or categorical values. It assumes that if two variables describe n data points, the clusters of those points should align. For numerical values, CCC uses quantiles to create clusters (e.g., the median splits data into two clusters). The CCC is defined as the maximum adjusted Rand index between the clusterings, with a range of 0 to 1. More information on the CCC algorithm is available in the Methods section.\n"
     ]
    }
   ],
   "source": [
    "par1 = process_paragraph(mod_section_paragraphs[2])\n",
    "print(par1)"
   ]
  },
  {
   "cell_type": "code",
   "execution_count": 59,
   "id": "0cc3f797-1e8d-43b6-93d9-d0f24b22b3a4",
   "metadata": {
    "execution": {
     "iopub.execute_input": "2024-03-20T21:47:19.953368Z",
     "iopub.status.busy": "2024-03-20T21:47:19.952984Z",
     "iopub.status.idle": "2024-03-20T21:47:19.955902Z",
     "shell.execute_reply": "2024-03-20T21:47:19.955372Z"
    },
    "papermill": {
     "duration": 0.030386,
     "end_time": "2024-03-20T21:47:19.956609",
     "exception": false,
     "start_time": "2024-03-20T21:47:19.926223",
     "status": "completed"
    },
    "tags": []
   },
   "outputs": [],
   "source": [
    "paragraph_matches.append(\n",
    "    (\n",
    "        section_name,\n",
    "        par0,\n",
    "        par1,\n",
    "    )\n",
    ")"
   ]
  },
  {
   "cell_type": "code",
   "execution_count": 60,
   "id": "fa19351c-5231-4bf0-94df-c77c288929a3",
   "metadata": {
    "execution": {
     "iopub.execute_input": "2024-03-20T21:47:20.010612Z",
     "iopub.status.busy": "2024-03-20T21:47:20.010225Z",
     "iopub.status.idle": "2024-03-20T21:47:20.014156Z",
     "shell.execute_reply": "2024-03-20T21:47:20.013658Z"
    },
    "papermill": {
     "duration": 0.032236,
     "end_time": "2024-03-20T21:47:20.014903",
     "exception": false,
     "start_time": "2024-03-20T21:47:19.982667",
     "status": "completed"
    },
    "tags": []
   },
   "outputs": [
    {
     "data": {
      "text/plain": [
       "('results',\n",
       " 'The CCC provides a similarity measure between any pair of variables, either with numerical or categorical values. The method assumes that if there is a relationship between two variables/features describing $n$ data points/objects, then the **cluster**ings of those objects using each variable should **match**. In the case of numerical values, CCC uses quantiles to efficiently separate data points into different clusters (e.g., the median separates numerical data into two clusters). Once all clusterings are generated according to each variable, we define the CCC as the maximum adjusted Rand index (ARI) [@doi:10.1007/BF01908075] between them, ranging between 0 and 1. Details of the CCC algorithm can be found in [Methods](#sec:ccc_algo).',\n",
       " 'The CCC calculates the similarity between pairs of variables, whether they have numerical or categorical values. It assumes that if two variables describe n data points, the clusters of those points should align. For numerical values, CCC uses quantiles to create clusters (e.g., the median splits data into two clusters). The CCC is defined as the maximum adjusted Rand index between the clusterings, with a range of 0 to 1. More information on the CCC algorithm is available in the Methods section.')"
      ]
     },
     "metadata": {},
     "output_type": "display_data"
    }
   ],
   "source": [
    "display(paragraph_matches[-1])"
   ]
  },
  {
   "cell_type": "markdown",
   "id": "8750b23b-8244-47d9-8918-d150960f2702",
   "metadata": {
    "editable": true,
    "papermill": {
     "duration": 0.025777,
     "end_time": "2024-03-20T21:47:20.067135",
     "exception": false,
     "start_time": "2024-03-20T21:47:20.041358",
     "status": "completed"
    },
    "slideshow": {
     "slide_type": ""
    },
    "tags": []
   },
   "source": [
    "####  Paragraph 01"
   ]
  },
  {
   "cell_type": "code",
   "execution_count": 61,
   "id": "8baf67e8-648e-474d-8665-400c2f5de763",
   "metadata": {
    "execution": {
     "iopub.execute_input": "2024-03-20T21:47:20.120279Z",
     "iopub.status.busy": "2024-03-20T21:47:20.119871Z",
     "iopub.status.idle": "2024-03-20T21:47:20.123302Z",
     "shell.execute_reply": "2024-03-20T21:47:20.122759Z"
    },
    "papermill": {
     "duration": 0.03083,
     "end_time": "2024-03-20T21:47:20.124059",
     "exception": false,
     "start_time": "2024-03-20T21:47:20.093229",
     "status": "completed"
    },
    "tags": []
   },
   "outputs": [
    {
     "name": "stdout",
     "output_type": "stream",
     "text": [
      "We examined how the Pearson ($p$), Spearman ($s$) and CCC ($c$) correlation coefficients behaved on different simulated data patterns. In the first row of Figure @fig:datasets_rel, we examine the classic Anscombe's quartet [@doi:10.1080/00031305.1973.10478966], which comprises four synthetic datasets with different patterns but the same data statistics (mean, standard deviation and Pearson's correlation). This kind of simulated data, recently revisited with the \"Datasaurus\" [@url:http://www.thefunctionalart.com/2016/08/download-datasaurus-never-trust-summary.html; @doi:10.1145/3025453.3025912; @doi:10.1111/dsji.12233], is used as a reminder of the importance of going beyond simple statistics, where either undesirable patterns (such as outliers) or desirable ones (such as biologically meaningful nonlinear relationships) can be masked by summary statistics alone.\n"
     ]
    }
   ],
   "source": [
    "par0 = process_paragraph(orig_section_paragraphs[3])\n",
    "print(par0)"
   ]
  },
  {
   "cell_type": "code",
   "execution_count": 62,
   "id": "4ce852d0-25a0-417e-ab3d-67117b238c01",
   "metadata": {
    "execution": {
     "iopub.execute_input": "2024-03-20T21:47:20.177072Z",
     "iopub.status.busy": "2024-03-20T21:47:20.176649Z",
     "iopub.status.idle": "2024-03-20T21:47:20.180152Z",
     "shell.execute_reply": "2024-03-20T21:47:20.179616Z"
    },
    "papermill": {
     "duration": 0.030802,
     "end_time": "2024-03-20T21:47:20.180936",
     "exception": false,
     "start_time": "2024-03-20T21:47:20.150134",
     "status": "completed"
    },
    "tags": []
   },
   "outputs": [
    {
     "name": "stdout",
     "output_type": "stream",
     "text": [
      "We analyzed the behavior of the Pearson ($p$), Spearman ($s$), and CCC ($c$) correlation coefficients using various simulated data patterns. Figure @fig:datasets_rel shows the results for Anscombe's quartet, consisting of four synthetic datasets with different patterns but the same data statistics. This classic dataset highlights the limitations of relying solely on summary statistics, as it can mask both undesirable patterns, like outliers, and desirable ones, such as biologically meaningful nonlinear relationships. The importance of looking beyond simple statistics is further emphasized by the \"Datasaurus\" dataset, which has been revisited in recent studies.\n"
     ]
    }
   ],
   "source": [
    "par1 = process_paragraph(mod_section_paragraphs[3])\n",
    "print(par1)"
   ]
  },
  {
   "cell_type": "code",
   "execution_count": 63,
   "id": "5791f3c1-eaf4-48e9-878d-b5c068cd0f6d",
   "metadata": {
    "execution": {
     "iopub.execute_input": "2024-03-20T21:47:20.233659Z",
     "iopub.status.busy": "2024-03-20T21:47:20.233310Z",
     "iopub.status.idle": "2024-03-20T21:47:20.236113Z",
     "shell.execute_reply": "2024-03-20T21:47:20.235610Z"
    },
    "papermill": {
     "duration": 0.029996,
     "end_time": "2024-03-20T21:47:20.236877",
     "exception": false,
     "start_time": "2024-03-20T21:47:20.206881",
     "status": "completed"
    },
    "tags": []
   },
   "outputs": [],
   "source": [
    "paragraph_matches.append(\n",
    "    (\n",
    "        section_name,\n",
    "        par0,\n",
    "        par1,\n",
    "    )\n",
    ")"
   ]
  },
  {
   "cell_type": "code",
   "execution_count": 64,
   "id": "82a6f7f9-239f-42dd-84ac-f7a3be77726a",
   "metadata": {
    "execution": {
     "iopub.execute_input": "2024-03-20T21:47:20.289557Z",
     "iopub.status.busy": "2024-03-20T21:47:20.289202Z",
     "iopub.status.idle": "2024-03-20T21:47:20.292981Z",
     "shell.execute_reply": "2024-03-20T21:47:20.292477Z"
    },
    "papermill": {
     "duration": 0.03079,
     "end_time": "2024-03-20T21:47:20.293652",
     "exception": false,
     "start_time": "2024-03-20T21:47:20.262862",
     "status": "completed"
    },
    "tags": []
   },
   "outputs": [
    {
     "data": {
      "text/plain": [
       "('results',\n",
       " 'We examined how the Pearson ($p$), Spearman ($s$) and CCC ($c$) correlation coefficients behaved on different simulated data patterns. In the first row of Figure @fig:datasets_rel, we examine the classic Anscombe\\'s quartet [@doi:10.1080/00031305.1973.10478966], which comprises four synthetic datasets with different patterns but the same data statistics (mean, standard deviation and Pearson\\'s correlation). This kind of simulated data, recently revisited with the \"Datasaurus\" [@url:http://www.thefunctionalart.com/2016/08/download-datasaurus-never-trust-summary.html; @doi:10.1145/3025453.3025912; @doi:10.1111/dsji.12233], is used as a reminder of the importance of going beyond simple statistics, where either undesirable patterns (such as outliers) or desirable ones (such as biologically meaningful nonlinear relationships) can be masked by summary statistics alone.',\n",
       " 'We analyzed the behavior of the Pearson ($p$), Spearman ($s$), and CCC ($c$) correlation coefficients using various simulated data patterns. Figure @fig:datasets_rel shows the results for Anscombe\\'s quartet, consisting of four synthetic datasets with different patterns but the same data statistics. This classic dataset highlights the limitations of relying solely on summary statistics, as it can mask both undesirable patterns, like outliers, and desirable ones, such as biologically meaningful nonlinear relationships. The importance of looking beyond simple statistics is further emphasized by the \"Datasaurus\" dataset, which has been revisited in recent studies.')"
      ]
     },
     "metadata": {},
     "output_type": "display_data"
    }
   ],
   "source": [
    "display(paragraph_matches[-1])"
   ]
  },
  {
   "cell_type": "markdown",
   "id": "0ad95b5e-843e-4d55-b95e-2ddad39c3398",
   "metadata": {
    "editable": true,
    "papermill": {
     "duration": 0.025947,
     "end_time": "2024-03-20T21:47:20.346181",
     "exception": false,
     "start_time": "2024-03-20T21:47:20.320234",
     "status": "completed"
    },
    "slideshow": {
     "slide_type": ""
    },
    "tags": []
   },
   "source": [
    "####  Paragraph 02"
   ]
  },
  {
   "cell_type": "code",
   "execution_count": 65,
   "id": "400c914e-9653-4b5b-93bd-6fd0e27d0756",
   "metadata": {
    "execution": {
     "iopub.execute_input": "2024-03-20T21:47:20.400157Z",
     "iopub.status.busy": "2024-03-20T21:47:20.399762Z",
     "iopub.status.idle": "2024-03-20T21:47:20.403219Z",
     "shell.execute_reply": "2024-03-20T21:47:20.402693Z"
    },
    "papermill": {
     "duration": 0.031549,
     "end_time": "2024-03-20T21:47:20.404008",
     "exception": false,
     "start_time": "2024-03-20T21:47:20.372459",
     "status": "completed"
    },
    "tags": []
   },
   "outputs": [
    {
     "name": "stdout",
     "output_type": "stream",
     "text": [
      "Anscombe I contains a noisy but clear linear pattern, similar to Anscombe III where the linearity is perfect besides one outlier. In these two examples, CCC separates data points using two clusters (one red line for each variable $x$ and $y$), yielding 1.0 and thus indicating a strong relationship. Anscombe II seems to follow a partially quadratic relationship interpreted as linear by Pearson and Spearman. In contrast, for this potentially undersampled quadratic pattern, CCC yields a lower yet non-zero value of 0.34, reflecting a more complex relationship than a linear pattern. Anscombe IV shows a vertical line of data points where $x$ values are almost constant except for one outlier. This outlier does not influence CCC as it does for Pearson or Spearman. Thus $c=0.00$ (the minimum value) correctly indicates no association for this variable pair because, besides the outlier, for a single value of $x$ there are ten different values for $y$. This pair of variables does not fit the CCC assumption: the two clusters formed with $x$ (approximately separated by $x=13$) do not match the three clusters formed with $y$. The Pearson's correlation coefficient is the same across all these Anscombe's examples ($p=0.82$), whereas Spearman is 0.50 or greater. These simulated datasets show that both Pearson and Spearman are powerful in detecting linear patterns. However, any deviation in this assumption (like nonlinear relationships or outliers) affects their robustness.\n"
     ]
    }
   ],
   "source": [
    "par0 = process_paragraph(orig_section_paragraphs[4])\n",
    "print(par0)"
   ]
  },
  {
   "cell_type": "code",
   "execution_count": 66,
   "id": "6ee81bcf-fc69-4749-9600-b8900438c2db",
   "metadata": {
    "execution": {
     "iopub.execute_input": "2024-03-20T21:47:20.457839Z",
     "iopub.status.busy": "2024-03-20T21:47:20.457493Z",
     "iopub.status.idle": "2024-03-20T21:47:20.460675Z",
     "shell.execute_reply": "2024-03-20T21:47:20.460153Z"
    },
    "papermill": {
     "duration": 0.031143,
     "end_time": "2024-03-20T21:47:20.461390",
     "exception": false,
     "start_time": "2024-03-20T21:47:20.430247",
     "status": "completed"
    },
    "tags": []
   },
   "outputs": [
    {
     "name": "stdout",
     "output_type": "stream",
     "text": [
      "Anscombe I and III display clear linear patterns, with one outlier in Anscombe III. The Correlation Coefficient based on Machine Learning (CCC) accurately separates data points in these examples, yielding a strong relationship value of 1.0. Anscombe II exhibits a partially quadratic relationship, which is interpreted as linear by traditional correlation methods. However, CCC identifies a more complex relationship with a value of 0.34. In Anscombe IV, a vertical line of data points with one outlier is observed. CCC correctly indicates no association with a value of 0.00 due to the outlier and the variation in values for one variable. This demonstrates that CCC is sensitive to deviations from linear patterns. Pearson's correlation coefficient remains consistent across all examples, while Spearman's coefficient varies. Overall, Pearson and Spearman are effective in detecting linear patterns but are less robust when faced with nonlinear relationships or outliers.\n"
     ]
    }
   ],
   "source": [
    "par1 = process_paragraph(mod_section_paragraphs[4])\n",
    "print(par1)"
   ]
  },
  {
   "cell_type": "code",
   "execution_count": 67,
   "id": "27b35246-8b56-46b7-a876-4ad96e8fac28",
   "metadata": {
    "execution": {
     "iopub.execute_input": "2024-03-20T21:47:20.514689Z",
     "iopub.status.busy": "2024-03-20T21:47:20.514204Z",
     "iopub.status.idle": "2024-03-20T21:47:20.516981Z",
     "shell.execute_reply": "2024-03-20T21:47:20.516487Z"
    },
    "papermill": {
     "duration": 0.030192,
     "end_time": "2024-03-20T21:47:20.517734",
     "exception": false,
     "start_time": "2024-03-20T21:47:20.487542",
     "status": "completed"
    },
    "tags": []
   },
   "outputs": [],
   "source": [
    "paragraph_matches.append(\n",
    "    (\n",
    "        section_name,\n",
    "        par0,\n",
    "        par1,\n",
    "    )\n",
    ")"
   ]
  },
  {
   "cell_type": "code",
   "execution_count": 68,
   "id": "aa6b9604-ce2b-4fd6-acf0-4f530f0f4b34",
   "metadata": {
    "execution": {
     "iopub.execute_input": "2024-03-20T21:47:20.571035Z",
     "iopub.status.busy": "2024-03-20T21:47:20.570664Z",
     "iopub.status.idle": "2024-03-20T21:47:20.574521Z",
     "shell.execute_reply": "2024-03-20T21:47:20.574030Z"
    },
    "papermill": {
     "duration": 0.031357,
     "end_time": "2024-03-20T21:47:20.575217",
     "exception": false,
     "start_time": "2024-03-20T21:47:20.543860",
     "status": "completed"
    },
    "tags": []
   },
   "outputs": [
    {
     "data": {
      "text/plain": [
       "('results',\n",
       " \"Anscombe I contains a noisy but clear linear pattern, similar to Anscombe III where the linearity is perfect besides one outlier. In these two examples, CCC separates data points using two clusters (one red line for each variable $x$ and $y$), yielding 1.0 and thus indicating a strong relationship. Anscombe II seems to follow a partially quadratic relationship interpreted as linear by Pearson and Spearman. In contrast, for this potentially undersampled quadratic pattern, CCC yields a lower yet non-zero value of 0.34, reflecting a more complex relationship than a linear pattern. Anscombe IV shows a vertical line of data points where $x$ values are almost constant except for one outlier. This outlier does not influence CCC as it does for Pearson or Spearman. Thus $c=0.00$ (the minimum value) correctly indicates no association for this variable pair because, besides the outlier, for a single value of $x$ there are ten different values for $y$. This pair of variables does not fit the CCC assumption: the two clusters formed with $x$ (approximately separated by $x=13$) do not match the three clusters formed with $y$. The Pearson's correlation coefficient is the same across all these Anscombe's examples ($p=0.82$), whereas Spearman is 0.50 or greater. These simulated datasets show that both Pearson and Spearman are powerful in detecting linear patterns. However, any deviation in this assumption (like nonlinear relationships or outliers) affects their robustness.\",\n",
       " \"Anscombe I and III display clear linear patterns, with one outlier in Anscombe III. The Correlation Coefficient based on Machine Learning (CCC) accurately separates data points in these examples, yielding a strong relationship value of 1.0. Anscombe II exhibits a partially quadratic relationship, which is interpreted as linear by traditional correlation methods. However, CCC identifies a more complex relationship with a value of 0.34. In Anscombe IV, a vertical line of data points with one outlier is observed. CCC correctly indicates no association with a value of 0.00 due to the outlier and the variation in values for one variable. This demonstrates that CCC is sensitive to deviations from linear patterns. Pearson's correlation coefficient remains consistent across all examples, while Spearman's coefficient varies. Overall, Pearson and Spearman are effective in detecting linear patterns but are less robust when faced with nonlinear relationships or outliers.\")"
      ]
     },
     "metadata": {},
     "output_type": "display_data"
    }
   ],
   "source": [
    "display(paragraph_matches[-1])"
   ]
  },
  {
   "cell_type": "markdown",
   "id": "e21060ab-a1f4-4b0d-a02b-1540cc60e04f",
   "metadata": {
    "editable": true,
    "papermill": {
     "duration": 0.026025,
     "end_time": "2024-03-20T21:47:20.627448",
     "exception": false,
     "start_time": "2024-03-20T21:47:20.601423",
     "status": "completed"
    },
    "slideshow": {
     "slide_type": ""
    },
    "tags": []
   },
   "source": [
    "####  Paragraph 03"
   ]
  },
  {
   "cell_type": "code",
   "execution_count": 69,
   "id": "08f779d6-78b6-437b-b9ae-5b4f9a31fa16",
   "metadata": {
    "execution": {
     "iopub.execute_input": "2024-03-20T21:47:20.681227Z",
     "iopub.status.busy": "2024-03-20T21:47:20.680865Z",
     "iopub.status.idle": "2024-03-20T21:47:20.684140Z",
     "shell.execute_reply": "2024-03-20T21:47:20.683617Z"
    },
    "papermill": {
     "duration": 0.031095,
     "end_time": "2024-03-20T21:47:20.684857",
     "exception": false,
     "start_time": "2024-03-20T21:47:20.653762",
     "status": "completed"
    },
    "tags": []
   },
   "outputs": [
    {
     "name": "stdout",
     "output_type": "stream",
     "text": [
      "We simulated additional types of relationships (Figure @fig:datasets_rel, second row), including some previously described from gene expression data [@doi:10.1126/science.1205438; @doi:10.3389/fgene.2019.01410; @doi:10.1091/mbc.9.12.3273]. For the random/independent pair of variables, all coefficients correctly agree with a value close to zero. The non-coexistence pattern, captured by all coefficients, represents a case where one gene ($x$) might be expressed while the other one ($y$) is inhibited, highlighting a potentially strong biological relationship (such as a microRNA negatively regulating another gene). For the other two examples (quadratic and two-lines), Pearson and Spearman do not capture the nonlinear pattern between variables $x$ and $y$. These patterns also show how CCC uses different degrees of complexity to capture the relationships. For the quadratic pattern, for example, CCC separates $x$ into more clusters (four in this case) to reach the maximum ARI. The two-lines example shows two embedded linear relationships with different slopes, which neither Pearson nor Spearman detect ($p=-0.12$ and $s=0.05$, respectively). Here, CCC increases the complexity of the model by using eight clusters for $x$ and six for $y$, resulting in $c=0.31$.\n"
     ]
    }
   ],
   "source": [
    "par0 = process_paragraph(orig_section_paragraphs[5])  # .replace(\" - \", \"\\n- \")\n",
    "print(par0)"
   ]
  },
  {
   "cell_type": "code",
   "execution_count": 70,
   "id": "5e4bd749-0cdd-44dd-9c6a-1283a6e144a8",
   "metadata": {
    "execution": {
     "iopub.execute_input": "2024-03-20T21:47:20.738161Z",
     "iopub.status.busy": "2024-03-20T21:47:20.737830Z",
     "iopub.status.idle": "2024-03-20T21:47:20.741037Z",
     "shell.execute_reply": "2024-03-20T21:47:20.740481Z"
    },
    "papermill": {
     "duration": 0.030621,
     "end_time": "2024-03-20T21:47:20.741768",
     "exception": false,
     "start_time": "2024-03-20T21:47:20.711147",
     "status": "completed"
    },
    "tags": []
   },
   "outputs": [
    {
     "name": "stdout",
     "output_type": "stream",
     "text": [
      "We examined various types of relationships, as shown in Figure @fig:datasets_rel (second row), including those observed in gene expression data. For a random/independent pair of variables, all coefficients approached zero. The non-coexistence pattern, identified by all coefficients, indicates a scenario where one gene ($x$) may be active while the other ($y$) is suppressed, suggesting a potentially significant biological association (e.g., microRNA regulation). In the case of the quadratic and two-lines examples, Pearson and Spearman coefficients failed to capture the nonlinear relationship between variables $x$ and $y. The CCC method demonstrated its ability to capture different levels of complexity in these relationships. For the quadratic pattern, CCC segmented $x$ into four clusters to optimize the Adjusted Rand Index (ARI). In the two-lines example, where two linear relationships with distinct slopes were present, neither Pearson nor Spearman coefficients detected the pattern ($p=-0.12$ and $s=0.05$, respectively). CCC addressed this by utilizing eight clusters for $x$ and six for $y$, resulting in a coefficient of $c=0.31$.\n"
     ]
    }
   ],
   "source": [
    "par1 = process_paragraph(mod_section_paragraphs[5])\n",
    "print(par1)"
   ]
  },
  {
   "cell_type": "code",
   "execution_count": 71,
   "id": "e4c9c922-73bb-4839-9213-dd7df638fb46",
   "metadata": {
    "execution": {
     "iopub.execute_input": "2024-03-20T21:47:20.795103Z",
     "iopub.status.busy": "2024-03-20T21:47:20.794786Z",
     "iopub.status.idle": "2024-03-20T21:47:20.797512Z",
     "shell.execute_reply": "2024-03-20T21:47:20.797024Z"
    },
    "papermill": {
     "duration": 0.030095,
     "end_time": "2024-03-20T21:47:20.798234",
     "exception": false,
     "start_time": "2024-03-20T21:47:20.768139",
     "status": "completed"
    },
    "tags": []
   },
   "outputs": [],
   "source": [
    "paragraph_matches.append(\n",
    "    (\n",
    "        section_name,\n",
    "        par0,\n",
    "        par1,\n",
    "    )\n",
    ")"
   ]
  },
  {
   "cell_type": "code",
   "execution_count": 72,
   "id": "4b887b5d-10eb-43e0-9a85-4640473a8ede",
   "metadata": {
    "execution": {
     "iopub.execute_input": "2024-03-20T21:47:20.875771Z",
     "iopub.status.busy": "2024-03-20T21:47:20.875303Z",
     "iopub.status.idle": "2024-03-20T21:47:20.879049Z",
     "shell.execute_reply": "2024-03-20T21:47:20.878564Z"
    },
    "papermill": {
     "duration": 0.054807,
     "end_time": "2024-03-20T21:47:20.879755",
     "exception": false,
     "start_time": "2024-03-20T21:47:20.824948",
     "status": "completed"
    },
    "tags": []
   },
   "outputs": [
    {
     "data": {
      "text/plain": [
       "('results',\n",
       " 'We simulated additional types of relationships (Figure @fig:datasets_rel, second row), including some previously described from gene expression data [@doi:10.1126/science.1205438; @doi:10.3389/fgene.2019.01410; @doi:10.1091/mbc.9.12.3273]. For the random/independent pair of variables, all coefficients correctly agree with a value close to zero. The non-coexistence pattern, captured by all coefficients, represents a case where one gene ($x$) might be expressed while the other one ($y$) is inhibited, highlighting a potentially strong biological relationship (such as a microRNA negatively regulating another gene). For the other two examples (quadratic and two-lines), Pearson and Spearman do not capture the nonlinear pattern between variables $x$ and $y$. These patterns also show how CCC uses different degrees of complexity to capture the relationships. For the quadratic pattern, for example, CCC separates $x$ into more clusters (four in this case) to reach the maximum ARI. The two-lines example shows two embedded linear relationships with different slopes, which neither Pearson nor Spearman detect ($p=-0.12$ and $s=0.05$, respectively). Here, CCC increases the complexity of the model by using eight clusters for $x$ and six for $y$, resulting in $c=0.31$.',\n",
       " 'We examined various types of relationships, as shown in Figure @fig:datasets_rel (second row), including those observed in gene expression data. For a random/independent pair of variables, all coefficients approached zero. The non-coexistence pattern, identified by all coefficients, indicates a scenario where one gene ($x$) may be active while the other ($y$) is suppressed, suggesting a potentially significant biological association (e.g., microRNA regulation). In the case of the quadratic and two-lines examples, Pearson and Spearman coefficients failed to capture the nonlinear relationship between variables $x$ and $y. The CCC method demonstrated its ability to capture different levels of complexity in these relationships. For the quadratic pattern, CCC segmented $x$ into four clusters to optimize the Adjusted Rand Index (ARI). In the two-lines example, where two linear relationships with distinct slopes were present, neither Pearson nor Spearman coefficients detected the pattern ($p=-0.12$ and $s=0.05$, respectively). CCC addressed this by utilizing eight clusters for $x$ and six for $y$, resulting in a coefficient of $c=0.31$.')"
      ]
     },
     "metadata": {},
     "output_type": "display_data"
    }
   ],
   "source": [
    "display(paragraph_matches[-1])"
   ]
  },
  {
   "cell_type": "markdown",
   "id": "898aaebd-7378-49a9-9961-d8cc9a0d7781",
   "metadata": {
    "editable": true,
    "papermill": {
     "duration": 0.026278,
     "end_time": "2024-03-20T21:47:20.932602",
     "exception": false,
     "start_time": "2024-03-20T21:47:20.906324",
     "status": "completed"
    },
    "slideshow": {
     "slide_type": ""
    },
    "tags": []
   },
   "source": [
    "## Results (comp)"
   ]
  },
  {
   "cell_type": "code",
   "execution_count": 73,
   "id": "373ac190-eb9f-4158-842a-c153b0513084",
   "metadata": {
    "execution": {
     "iopub.execute_input": "2024-03-20T21:47:20.986015Z",
     "iopub.status.busy": "2024-03-20T21:47:20.985829Z",
     "iopub.status.idle": "2024-03-20T21:47:20.988426Z",
     "shell.execute_reply": "2024-03-20T21:47:20.987904Z"
    },
    "papermill": {
     "duration": 0.030222,
     "end_time": "2024-03-20T21:47:20.989196",
     "exception": false,
     "start_time": "2024-03-20T21:47:20.958974",
     "status": "completed"
    },
    "tags": []
   },
   "outputs": [],
   "source": [
    "# section_name = \"results\""
   ]
  },
  {
   "cell_type": "code",
   "execution_count": 74,
   "id": "765394e3-52a7-41d8-85aa-e06e20d9d89b",
   "metadata": {
    "editable": true,
    "execution": {
     "iopub.execute_input": "2024-03-20T21:47:21.042850Z",
     "iopub.status.busy": "2024-03-20T21:47:21.042515Z",
     "iopub.status.idle": "2024-03-20T21:47:21.045896Z",
     "shell.execute_reply": "2024-03-20T21:47:21.045389Z"
    },
    "papermill": {
     "duration": 0.030991,
     "end_time": "2024-03-20T21:47:21.046594",
     "exception": false,
     "start_time": "2024-03-20T21:47:21.015603",
     "status": "completed"
    },
    "slideshow": {
     "slide_type": ""
    },
    "tags": []
   },
   "outputs": [
    {
     "name": "stdout",
     "output_type": "stream",
     "text": [
      "content/04.10.results_comp.md\n"
     ]
    }
   ],
   "source": [
    "pr_filename = pr_files[3].filename\n",
    "assert section_name in pr_filename\n",
    "assert \"comp\" in pr_filename\n",
    "print(pr_filename)"
   ]
  },
  {
   "cell_type": "markdown",
   "id": "d49a37e3-bf74-4116-9399-52d5a7c89852",
   "metadata": {
    "editable": true,
    "papermill": {
     "duration": 0.026165,
     "end_time": "2024-03-20T21:47:21.099119",
     "exception": false,
     "start_time": "2024-03-20T21:47:21.072954",
     "status": "completed"
    },
    "slideshow": {
     "slide_type": ""
    },
    "tags": []
   },
   "source": [
    "### Original"
   ]
  },
  {
   "cell_type": "code",
   "execution_count": 75,
   "id": "6f1524cb-a512-4c58-a656-929821e2cb8a",
   "metadata": {
    "execution": {
     "iopub.execute_input": "2024-03-20T21:47:21.152519Z",
     "iopub.status.busy": "2024-03-20T21:47:21.152158Z",
     "iopub.status.idle": "2024-03-20T21:47:21.308423Z",
     "shell.execute_reply": "2024-03-20T21:47:21.307808Z"
    },
    "papermill": {
     "duration": 0.183936,
     "end_time": "2024-03-20T21:47:21.309450",
     "exception": false,
     "start_time": "2024-03-20T21:47:21.125514",
     "status": "completed"
    },
    "tags": []
   },
   "outputs": [
    {
     "name": "stdout",
     "output_type": "stream",
     "text": [
      "### The CCC reveals linear and nonlinear patterns \n"
     ]
    }
   ],
   "source": [
    "# get content\n",
    "orig_section_content = repo.get_contents(pr_filename, pr_prev).decoded_content.decode(\n",
    "    \"utf-8\"\n",
    ")\n",
    "print(orig_section_content[:50])"
   ]
  },
  {
   "cell_type": "code",
   "execution_count": 76,
   "id": "13b654d9-b7e9-49ea-b311-9d0309cdab48",
   "metadata": {
    "execution": {
     "iopub.execute_input": "2024-03-20T21:47:21.387833Z",
     "iopub.status.busy": "2024-03-20T21:47:21.387629Z",
     "iopub.status.idle": "2024-03-20T21:47:21.391477Z",
     "shell.execute_reply": "2024-03-20T21:47:21.390985Z"
    },
    "papermill": {
     "duration": 0.043023,
     "end_time": "2024-03-20T21:47:21.392181",
     "exception": false,
     "start_time": "2024-03-20T21:47:21.349158",
     "status": "completed"
    },
    "tags": []
   },
   "outputs": [
    {
     "data": {
      "text/plain": [
       "9"
      ]
     },
     "metadata": {},
     "output_type": "display_data"
    }
   ],
   "source": [
    "# split by paragraph\n",
    "orig_section_paragraphs = orig_section_content.split(\"\\n\\n\")\n",
    "display(len(orig_section_paragraphs))"
   ]
  },
  {
   "cell_type": "markdown",
   "id": "a957a473-75f3-4e11-b973-74a8df13c69e",
   "metadata": {
    "editable": true,
    "papermill": {
     "duration": 0.026127,
     "end_time": "2024-03-20T21:47:21.445330",
     "exception": false,
     "start_time": "2024-03-20T21:47:21.419203",
     "status": "completed"
    },
    "slideshow": {
     "slide_type": ""
    },
    "tags": []
   },
   "source": [
    "### Modified"
   ]
  },
  {
   "cell_type": "code",
   "execution_count": 77,
   "id": "6694c2cd-be3e-4b48-a979-03e718b2ec39",
   "metadata": {
    "execution": {
     "iopub.execute_input": "2024-03-20T21:47:21.504449Z",
     "iopub.status.busy": "2024-03-20T21:47:21.504043Z",
     "iopub.status.idle": "2024-03-20T21:47:21.716850Z",
     "shell.execute_reply": "2024-03-20T21:47:21.716239Z"
    },
    "papermill": {
     "duration": 0.245761,
     "end_time": "2024-03-20T21:47:21.717776",
     "exception": false,
     "start_time": "2024-03-20T21:47:21.472015",
     "status": "completed"
    },
    "tags": []
   },
   "outputs": [
    {
     "name": "stdout",
     "output_type": "stream",
     "text": [
      "### The CCC reveals linear and nonlinear patterns \n"
     ]
    }
   ],
   "source": [
    "# get content\n",
    "mod_section_content = repo.get_contents(pr_filename, pr_curr).decoded_content.decode(\n",
    "    \"utf-8\"\n",
    ")\n",
    "print(mod_section_content[:50])"
   ]
  },
  {
   "cell_type": "code",
   "execution_count": 78,
   "id": "5a1d6517-edb5-4849-a24c-d11bc0b29d9b",
   "metadata": {
    "execution": {
     "iopub.execute_input": "2024-03-20T21:47:21.797824Z",
     "iopub.status.busy": "2024-03-20T21:47:21.797611Z",
     "iopub.status.idle": "2024-03-20T21:47:21.801466Z",
     "shell.execute_reply": "2024-03-20T21:47:21.800970Z"
    },
    "papermill": {
     "duration": 0.044557,
     "end_time": "2024-03-20T21:47:21.802170",
     "exception": false,
     "start_time": "2024-03-20T21:47:21.757613",
     "status": "completed"
    },
    "tags": []
   },
   "outputs": [
    {
     "data": {
      "text/plain": [
       "9"
      ]
     },
     "metadata": {},
     "output_type": "display_data"
    }
   ],
   "source": [
    "# split by paragraph\n",
    "mod_section_paragraphs = mod_section_content.split(\"\\n\\n\")\n",
    "display(len(mod_section_paragraphs))"
   ]
  },
  {
   "cell_type": "markdown",
   "id": "575e9eb7-2c6f-4fc6-9eb2-9bca7c856fd6",
   "metadata": {
    "editable": true,
    "papermill": {
     "duration": 0.026416,
     "end_time": "2024-03-20T21:47:21.855133",
     "exception": false,
     "start_time": "2024-03-20T21:47:21.828717",
     "status": "completed"
    },
    "slideshow": {
     "slide_type": ""
    },
    "tags": []
   },
   "source": [
    "### Match"
   ]
  },
  {
   "cell_type": "code",
   "execution_count": 79,
   "id": "78240b77-5fd4-4bd9-ae94-f4d6e14de77b",
   "metadata": {
    "execution": {
     "iopub.execute_input": "2024-03-20T21:47:21.908978Z",
     "iopub.status.busy": "2024-03-20T21:47:21.908787Z",
     "iopub.status.idle": "2024-03-20T21:47:21.912401Z",
     "shell.execute_reply": "2024-03-20T21:47:21.911886Z"
    },
    "papermill": {
     "duration": 0.031323,
     "end_time": "2024-03-20T21:47:21.913141",
     "exception": false,
     "start_time": "2024-03-20T21:47:21.881818",
     "status": "completed"
    },
    "tags": []
   },
   "outputs": [
    {
     "data": {
      "text/plain": [
       "'### The CCC reveals linear and nonlinear patterns in human transcriptomic data'"
      ]
     },
     "execution_count": 79,
     "metadata": {},
     "output_type": "execute_result"
    }
   ],
   "source": [
    "orig_section_paragraphs[0]"
   ]
  },
  {
   "cell_type": "code",
   "execution_count": 80,
   "id": "af772028-3079-496e-bb76-abd5d2df4dac",
   "metadata": {
    "execution": {
     "iopub.execute_input": "2024-03-20T21:47:21.967203Z",
     "iopub.status.busy": "2024-03-20T21:47:21.967017Z",
     "iopub.status.idle": "2024-03-20T21:47:21.970570Z",
     "shell.execute_reply": "2024-03-20T21:47:21.970078Z"
    },
    "papermill": {
     "duration": 0.031372,
     "end_time": "2024-03-20T21:47:21.971287",
     "exception": false,
     "start_time": "2024-03-20T21:47:21.939915",
     "status": "completed"
    },
    "tags": []
   },
   "outputs": [
    {
     "data": {
      "text/plain": [
       "'### The CCC reveals linear and nonlinear patterns in human transcriptomic data'"
      ]
     },
     "execution_count": 80,
     "metadata": {},
     "output_type": "execute_result"
    }
   ],
   "source": [
    "mod_section_paragraphs[0]"
   ]
  },
  {
   "cell_type": "markdown",
   "id": "54327d94-0a86-4564-a584-7791a11a2178",
   "metadata": {
    "editable": true,
    "papermill": {
     "duration": 0.026503,
     "end_time": "2024-03-20T21:47:22.024434",
     "exception": false,
     "start_time": "2024-03-20T21:47:21.997931",
     "status": "completed"
    },
    "slideshow": {
     "slide_type": ""
    },
    "tags": []
   },
   "source": [
    "####  Paragraph 00"
   ]
  },
  {
   "cell_type": "code",
   "execution_count": 81,
   "id": "61004c9b-5f28-4d97-86b9-9ac9d42e9213",
   "metadata": {
    "execution": {
     "iopub.execute_input": "2024-03-20T21:47:22.078660Z",
     "iopub.status.busy": "2024-03-20T21:47:22.078469Z",
     "iopub.status.idle": "2024-03-20T21:47:22.081736Z",
     "shell.execute_reply": "2024-03-20T21:47:22.081220Z"
    },
    "papermill": {
     "duration": 0.03127,
     "end_time": "2024-03-20T21:47:22.082488",
     "exception": false,
     "start_time": "2024-03-20T21:47:22.051218",
     "status": "completed"
    },
    "tags": []
   },
   "outputs": [
    {
     "name": "stdout",
     "output_type": "stream",
     "text": [
      "We examined the distribution of each coefficient's absolute values in GTEx (Figure @fig:dist_coefs). CCC (mean=0.14, median=0.08, sd=0.15) has a much more skewed distribution than Pearson (mean=0.31, median=0.24, sd=0.24) and Spearman (mean=0.39, median=0.37, sd=0.26). The coefficients reach a cumulative set containing 70% of gene pairs at different values (Figure @fig:dist_coefs b), $c=0.18$, $p=0.44$ and $s=0.56$, suggesting that for this type of data, the coefficients are not directly comparable by magnitude, so we used ranks for further comparisons. In GTEx v8, CCC values were closer to Spearman and vice versa than either was to Pearson (Figure @fig:dist_coefs c). We also compared the Maximal Information Coefficient (MIC) in this data (see [Supplementary Note 1](#sec:mic)). We found that CCC behaved very similarly to MIC, although CCC was up to two orders of magnitude faster to run (see [Supplementary Note 2](#sec:time_test)). MIC, an advanced correlation coefficient able to capture general patterns beyond linear relationships, represented a significant step forward in correlation analysis research and has been successfully used in various application domains [@pmid:33972855; @pmid:33001806; @pmid:27006077]. These results suggest that our findings for CCC generalize to MIC, therefore, in the subsequent analyses we focus on CCC and linear-only coefficients.\n"
     ]
    }
   ],
   "source": [
    "par0 = process_paragraph(orig_section_paragraphs[2])\n",
    "print(par0)"
   ]
  },
  {
   "cell_type": "code",
   "execution_count": 82,
   "id": "b4a4cd91-c391-42ec-b0ec-7e30a78f03df",
   "metadata": {
    "execution": {
     "iopub.execute_input": "2024-03-20T21:47:22.136697Z",
     "iopub.status.busy": "2024-03-20T21:47:22.136512Z",
     "iopub.status.idle": "2024-03-20T21:47:22.139700Z",
     "shell.execute_reply": "2024-03-20T21:47:22.139191Z"
    },
    "papermill": {
     "duration": 0.031108,
     "end_time": "2024-03-20T21:47:22.140430",
     "exception": false,
     "start_time": "2024-03-20T21:47:22.109322",
     "status": "completed"
    },
    "tags": []
   },
   "outputs": [
    {
     "name": "stdout",
     "output_type": "stream",
     "text": [
      "We analyzed the distribution of absolute values of each coefficient in GTEx, as shown in Figure 1. The CCC (mean=0.14, median=0.08, sd=0.15) exhibited a more skewed distribution compared to Pearson (mean=0.31, median=0.24, sd=0.24) and Spearman (mean=0.39, median=0.37, sd=0.26). The cumulative set containing 70% of gene pairs had different values for CCC, Pearson, and Spearman (Figure 1b), with values of $c=0.18$, $p=0.44$, and $s=0.56, indicating that direct magnitude comparisons are not suitable for this data type. Therefore, ranks were used for further analysis. In GTEx v8, CCC values were closer to Spearman than to Pearson (Figure 1c). Additionally, the Maximal Information Coefficient (MIC) was compared in this data (see Supplementary Note 1). CCC showed similar behavior to MIC, but with significantly faster processing times (see Supplementary Note 2). MIC, a correlation coefficient capable of capturing general patterns beyond linear relationships, has been successfully applied in various domains. These findings suggest that the results obtained for CCC can be generalized to MIC. Subsequent analyses will focus on CCC and linear-only coefficients.\n"
     ]
    }
   ],
   "source": [
    "par1 = process_paragraph(mod_section_paragraphs[2])\n",
    "print(par1)"
   ]
  },
  {
   "cell_type": "code",
   "execution_count": 83,
   "id": "b2370a90-85eb-4070-8bfd-60d5cb818b4b",
   "metadata": {
    "execution": {
     "iopub.execute_input": "2024-03-20T21:47:22.194957Z",
     "iopub.status.busy": "2024-03-20T21:47:22.194606Z",
     "iopub.status.idle": "2024-03-20T21:47:22.197321Z",
     "shell.execute_reply": "2024-03-20T21:47:22.196828Z"
    },
    "papermill": {
     "duration": 0.030653,
     "end_time": "2024-03-20T21:47:22.198064",
     "exception": false,
     "start_time": "2024-03-20T21:47:22.167411",
     "status": "completed"
    },
    "tags": []
   },
   "outputs": [],
   "source": [
    "paragraph_matches.append(\n",
    "    (\n",
    "        section_name,\n",
    "        par0,\n",
    "        par1,\n",
    "    )\n",
    ")"
   ]
  },
  {
   "cell_type": "code",
   "execution_count": 84,
   "id": "91d9a9c4-6833-4fbf-829d-22f8866240e9",
   "metadata": {
    "execution": {
     "iopub.execute_input": "2024-03-20T21:47:22.252514Z",
     "iopub.status.busy": "2024-03-20T21:47:22.252140Z",
     "iopub.status.idle": "2024-03-20T21:47:22.255878Z",
     "shell.execute_reply": "2024-03-20T21:47:22.255375Z"
    },
    "papermill": {
     "duration": 0.031603,
     "end_time": "2024-03-20T21:47:22.256558",
     "exception": false,
     "start_time": "2024-03-20T21:47:22.224955",
     "status": "completed"
    },
    "tags": []
   },
   "outputs": [
    {
     "data": {
      "text/plain": [
       "('results',\n",
       " \"We examined the distribution of each coefficient's absolute values in GTEx (Figure @fig:dist_coefs). CCC (mean=0.14, median=0.08, sd=0.15) has a much more skewed distribution than Pearson (mean=0.31, median=0.24, sd=0.24) and Spearman (mean=0.39, median=0.37, sd=0.26). The coefficients reach a cumulative set containing 70% of gene pairs at different values (Figure @fig:dist_coefs b), $c=0.18$, $p=0.44$ and $s=0.56$, suggesting that for this type of data, the coefficients are not directly comparable by magnitude, so we used ranks for further comparisons. In GTEx v8, CCC values were closer to Spearman and vice versa than either was to Pearson (Figure @fig:dist_coefs c). We also compared the Maximal Information Coefficient (MIC) in this data (see [Supplementary Note 1](#sec:mic)). We found that CCC behaved very similarly to MIC, although CCC was up to two orders of magnitude faster to run (see [Supplementary Note 2](#sec:time_test)). MIC, an advanced correlation coefficient able to capture general patterns beyond linear relationships, represented a significant step forward in correlation analysis research and has been successfully used in various application domains [@pmid:33972855; @pmid:33001806; @pmid:27006077]. These results suggest that our findings for CCC generalize to MIC, therefore, in the subsequent analyses we focus on CCC and linear-only coefficients.\",\n",
       " 'We analyzed the distribution of absolute values of each coefficient in GTEx, as shown in Figure 1. The CCC (mean=0.14, median=0.08, sd=0.15) exhibited a more skewed distribution compared to Pearson (mean=0.31, median=0.24, sd=0.24) and Spearman (mean=0.39, median=0.37, sd=0.26). The cumulative set containing 70% of gene pairs had different values for CCC, Pearson, and Spearman (Figure 1b), with values of $c=0.18$, $p=0.44$, and $s=0.56, indicating that direct magnitude comparisons are not suitable for this data type. Therefore, ranks were used for further analysis. In GTEx v8, CCC values were closer to Spearman than to Pearson (Figure 1c). Additionally, the Maximal Information Coefficient (MIC) was compared in this data (see Supplementary Note 1). CCC showed similar behavior to MIC, but with significantly faster processing times (see Supplementary Note 2). MIC, a correlation coefficient capable of capturing general patterns beyond linear relationships, has been successfully applied in various domains. These findings suggest that the results obtained for CCC can be generalized to MIC. Subsequent analyses will focus on CCC and linear-only coefficients.')"
      ]
     },
     "metadata": {},
     "output_type": "display_data"
    }
   ],
   "source": [
    "display(paragraph_matches[-1])"
   ]
  },
  {
   "cell_type": "markdown",
   "id": "8c82da83-cd73-433c-b25c-1a5a1014a9ec",
   "metadata": {
    "editable": true,
    "papermill": {
     "duration": 0.026768,
     "end_time": "2024-03-20T21:47:22.310276",
     "exception": false,
     "start_time": "2024-03-20T21:47:22.283508",
     "status": "completed"
    },
    "slideshow": {
     "slide_type": ""
    },
    "tags": []
   },
   "source": [
    "####  Paragraph 01"
   ]
  },
  {
   "cell_type": "code",
   "execution_count": 85,
   "id": "b3fdd165-3468-44fb-b4c7-63faf5dbf3c2",
   "metadata": {
    "execution": {
     "iopub.execute_input": "2024-03-20T21:47:22.364864Z",
     "iopub.status.busy": "2024-03-20T21:47:22.364660Z",
     "iopub.status.idle": "2024-03-20T21:47:22.367960Z",
     "shell.execute_reply": "2024-03-20T21:47:22.367412Z"
    },
    "papermill": {
     "duration": 0.03152,
     "end_time": "2024-03-20T21:47:22.368716",
     "exception": false,
     "start_time": "2024-03-20T21:47:22.337196",
     "status": "completed"
    },
    "tags": []
   },
   "outputs": [
    {
     "name": "stdout",
     "output_type": "stream",
     "text": [
      "A closer inspection of gene pairs that were either prioritized or disregarded by these coefficients revealed that they captured different patterns. We analyzed the agreements and disagreements by obtaining, for each coefficient, the top 30% of gene pairs with the largest correlation values (\"high\" set) and the bottom 30% (\"low\" set), resulting in six potentially overlapping categories. For most cases (76.4%), an UpSet analysis [@doi:10.1109/TVCG.2014.2346248] (Figure @fig:upsetplot_coefs a) showed that the three coefficients agreed on whether there is a strong correlation (42.1%) or there is no relationship (34.3%). Since Pearson and Spearman are linear-only, and CCC can also capture these patterns, we expect that these concordant gene pairs represent clear linear patterns. CCC and Spearman agree more on either highly or poorly correlated pairs (4.0% in \"high\", and 7.0% in \"low\") than any of these with Pearson (all between 0.3%-3.5% for \"high\", and 2.8%-5.5% for \"low\"). In summary, CCC agrees with either Pearson or Spearman in 90.5% of gene pairs by assigning a high or a low correlation value.\n"
     ]
    }
   ],
   "source": [
    "par0 = process_paragraph(orig_section_paragraphs[4])\n",
    "print(par0)"
   ]
  },
  {
   "cell_type": "code",
   "execution_count": 86,
   "id": "f224073d-a0e9-4811-9736-b56661aaf92d",
   "metadata": {
    "execution": {
     "iopub.execute_input": "2024-03-20T21:47:22.423123Z",
     "iopub.status.busy": "2024-03-20T21:47:22.422937Z",
     "iopub.status.idle": "2024-03-20T21:47:22.426029Z",
     "shell.execute_reply": "2024-03-20T21:47:22.425521Z"
    },
    "papermill": {
     "duration": 0.031163,
     "end_time": "2024-03-20T21:47:22.426778",
     "exception": false,
     "start_time": "2024-03-20T21:47:22.395615",
     "status": "completed"
    },
    "tags": []
   },
   "outputs": [
    {
     "name": "stdout",
     "output_type": "stream",
     "text": [
      "An examination of gene pairs prioritized or disregarded by the correlation coefficients showed that they captured different patterns. We compared the top 30% and bottom 30% of gene pairs based on correlation values for each coefficient, resulting in six overlapping categories. Most cases (76.4%) agreed on strong correlation (42.1%) or no relationship (34.3%), as shown in an UpSet analysis (Figure 1a). Since Pearson and Spearman are linear-only, and CCC can also capture these patterns, concordant gene pairs likely represent clear linear patterns. CCC and Spearman agree more on highly or poorly correlated pairs (4.0% in \"high\", and 7.0% in \"low\") than with Pearson (0.3%-3.5% for \"high\", and 2.8%-5.5% for \"low\"). In summary, CCC agrees with either Pearson or Spearman in 90.5% of gene pairs by assigning high or low correlation values.\n"
     ]
    }
   ],
   "source": [
    "par1 = process_paragraph(mod_section_paragraphs[4])\n",
    "print(par1)"
   ]
  },
  {
   "cell_type": "code",
   "execution_count": 87,
   "id": "3281e4f2-3ed6-4b8a-9ae0-270f541c19b4",
   "metadata": {
    "execution": {
     "iopub.execute_input": "2024-03-20T21:47:22.481566Z",
     "iopub.status.busy": "2024-03-20T21:47:22.481381Z",
     "iopub.status.idle": "2024-03-20T21:47:22.484122Z",
     "shell.execute_reply": "2024-03-20T21:47:22.483634Z"
    },
    "papermill": {
     "duration": 0.031192,
     "end_time": "2024-03-20T21:47:22.484879",
     "exception": false,
     "start_time": "2024-03-20T21:47:22.453687",
     "status": "completed"
    },
    "tags": []
   },
   "outputs": [],
   "source": [
    "paragraph_matches.append(\n",
    "    (\n",
    "        section_name,\n",
    "        par0,\n",
    "        par1,\n",
    "    )\n",
    ")"
   ]
  },
  {
   "cell_type": "code",
   "execution_count": 88,
   "id": "988ddfba-2927-4f61-a05a-f7f8a4873e63",
   "metadata": {
    "execution": {
     "iopub.execute_input": "2024-03-20T21:47:22.539794Z",
     "iopub.status.busy": "2024-03-20T21:47:22.539571Z",
     "iopub.status.idle": "2024-03-20T21:47:22.543558Z",
     "shell.execute_reply": "2024-03-20T21:47:22.543040Z"
    },
    "papermill": {
     "duration": 0.032325,
     "end_time": "2024-03-20T21:47:22.544300",
     "exception": false,
     "start_time": "2024-03-20T21:47:22.511975",
     "status": "completed"
    },
    "tags": []
   },
   "outputs": [
    {
     "data": {
      "text/plain": [
       "('results',\n",
       " 'A closer inspection of gene pairs that were either prioritized or disregarded by these coefficients revealed that they captured different patterns. We analyzed the agreements and disagreements by obtaining, for each coefficient, the top 30% of gene pairs with the largest correlation values (\"high\" set) and the bottom 30% (\"low\" set), resulting in six potentially overlapping categories. For most cases (76.4%), an UpSet analysis [@doi:10.1109/TVCG.2014.2346248] (Figure @fig:upsetplot_coefs a) showed that the three coefficients agreed on whether there is a strong correlation (42.1%) or there is no relationship (34.3%). Since Pearson and Spearman are linear-only, and CCC can also capture these patterns, we expect that these concordant gene pairs represent clear linear patterns. CCC and Spearman agree more on either highly or poorly correlated pairs (4.0% in \"high\", and 7.0% in \"low\") than any of these with Pearson (all between 0.3%-3.5% for \"high\", and 2.8%-5.5% for \"low\"). In summary, CCC agrees with either Pearson or Spearman in 90.5% of gene pairs by assigning a high or a low correlation value.',\n",
       " 'An examination of gene pairs prioritized or disregarded by the correlation coefficients showed that they captured different patterns. We compared the top 30% and bottom 30% of gene pairs based on correlation values for each coefficient, resulting in six overlapping categories. Most cases (76.4%) agreed on strong correlation (42.1%) or no relationship (34.3%), as shown in an UpSet analysis (Figure 1a). Since Pearson and Spearman are linear-only, and CCC can also capture these patterns, concordant gene pairs likely represent clear linear patterns. CCC and Spearman agree more on highly or poorly correlated pairs (4.0% in \"high\", and 7.0% in \"low\") than with Pearson (0.3%-3.5% for \"high\", and 2.8%-5.5% for \"low\"). In summary, CCC agrees with either Pearson or Spearman in 90.5% of gene pairs by assigning high or low correlation values.')"
      ]
     },
     "metadata": {},
     "output_type": "display_data"
    }
   ],
   "source": [
    "display(paragraph_matches[-1])"
   ]
  },
  {
   "cell_type": "markdown",
   "id": "c005d8a8-07f2-4da6-85a3-f353f6611e0f",
   "metadata": {
    "editable": true,
    "papermill": {
     "duration": 0.026956,
     "end_time": "2024-03-20T21:47:22.598456",
     "exception": false,
     "start_time": "2024-03-20T21:47:22.571500",
     "status": "completed"
    },
    "slideshow": {
     "slide_type": ""
    },
    "tags": []
   },
   "source": [
    "####  Paragraph 02"
   ]
  },
  {
   "cell_type": "code",
   "execution_count": 89,
   "id": "f5d058fd-5c23-4f76-87b4-9481db54c42f",
   "metadata": {
    "execution": {
     "iopub.execute_input": "2024-03-20T21:47:22.653297Z",
     "iopub.status.busy": "2024-03-20T21:47:22.653104Z",
     "iopub.status.idle": "2024-03-20T21:47:22.656305Z",
     "shell.execute_reply": "2024-03-20T21:47:22.655810Z"
    },
    "papermill": {
     "duration": 0.031527,
     "end_time": "2024-03-20T21:47:22.657104",
     "exception": false,
     "start_time": "2024-03-20T21:47:22.625577",
     "status": "completed"
    },
    "tags": []
   },
   "outputs": [
    {
     "name": "stdout",
     "output_type": "stream",
     "text": [
      "While there was broad agreement, more than 20,000 gene pairs with a high CCC value were not highly ranked by the other coefficients (right part of Figure @fig:upsetplot_coefs a). There were also gene pairs with a high Pearson value and either low CCC (1,075), low Spearman (87) or both low CCC and low Spearman values (531). However, our examination suggests that many of these cases appear to be driven by potential outliers (Figure @fig:upsetplot_coefs b, and analyzed later). We analyzed gene pairs among the top five of each intersection in the \"Disagreements\" group (Figure @fig:upsetplot_coefs a, right) where CCC disagrees with Pearson, Spearman or both.\n"
     ]
    }
   ],
   "source": [
    "par0 = process_paragraph(orig_section_paragraphs[6])\n",
    "print(par0)"
   ]
  },
  {
   "cell_type": "code",
   "execution_count": 90,
   "id": "238dbd6c-e3ba-4b76-9fb2-8b35d0b11948",
   "metadata": {
    "execution": {
     "iopub.execute_input": "2024-03-20T21:47:22.711858Z",
     "iopub.status.busy": "2024-03-20T21:47:22.711674Z",
     "iopub.status.idle": "2024-03-20T21:47:22.714779Z",
     "shell.execute_reply": "2024-03-20T21:47:22.714265Z"
    },
    "papermill": {
     "duration": 0.031299,
     "end_time": "2024-03-20T21:47:22.715506",
     "exception": false,
     "start_time": "2024-03-20T21:47:22.684207",
     "status": "completed"
    },
    "tags": []
   },
   "outputs": [
    {
     "name": "stdout",
     "output_type": "stream",
     "text": [
      "While the majority of gene pairs showed agreement, over 20,000 gene pairs with high CCC values were not ranked highly by other coefficients (Figure 1a). Some gene pairs had high Pearson values but low CCC (1,075), low Spearman (87), or low values for both CCC and Spearman (531). Our analysis indicates that many of these discrepancies may be due to potential outliers (Figure 1b). We focused on gene pairs in the top five of each intersection within the \"Disagreements\" group (Figure 1a, right) where CCC disagreed with Pearson, Spearman, or both.\n"
     ]
    }
   ],
   "source": [
    "par1 = process_paragraph(mod_section_paragraphs[6])\n",
    "print(par1)"
   ]
  },
  {
   "cell_type": "code",
   "execution_count": 91,
   "id": "bf64c910-efb0-4d2a-a25a-a4deaac8a4a8",
   "metadata": {
    "execution": {
     "iopub.execute_input": "2024-03-20T21:47:22.770716Z",
     "iopub.status.busy": "2024-03-20T21:47:22.770531Z",
     "iopub.status.idle": "2024-03-20T21:47:22.773302Z",
     "shell.execute_reply": "2024-03-20T21:47:22.772798Z"
    },
    "papermill": {
     "duration": 0.031018,
     "end_time": "2024-03-20T21:47:22.773992",
     "exception": false,
     "start_time": "2024-03-20T21:47:22.742974",
     "status": "completed"
    },
    "tags": []
   },
   "outputs": [],
   "source": [
    "paragraph_matches.append(\n",
    "    (\n",
    "        section_name,\n",
    "        par0,\n",
    "        par1,\n",
    "    )\n",
    ")"
   ]
  },
  {
   "cell_type": "code",
   "execution_count": 92,
   "id": "421e86ee-32b1-416d-b9f2-49377017fdb0",
   "metadata": {
    "execution": {
     "iopub.execute_input": "2024-03-20T21:47:22.829827Z",
     "iopub.status.busy": "2024-03-20T21:47:22.829305Z",
     "iopub.status.idle": "2024-03-20T21:47:22.833173Z",
     "shell.execute_reply": "2024-03-20T21:47:22.832658Z"
    },
    "papermill": {
     "duration": 0.032714,
     "end_time": "2024-03-20T21:47:22.833945",
     "exception": false,
     "start_time": "2024-03-20T21:47:22.801231",
     "status": "completed"
    },
    "tags": []
   },
   "outputs": [
    {
     "data": {
      "text/plain": [
       "('results',\n",
       " 'While there was broad agreement, more than 20,000 gene pairs with a high CCC value were not highly ranked by the other coefficients (right part of Figure @fig:upsetplot_coefs a). There were also gene pairs with a high Pearson value and either low CCC (1,075), low Spearman (87) or both low CCC and low Spearman values (531). However, our examination suggests that many of these cases appear to be driven by potential outliers (Figure @fig:upsetplot_coefs b, and analyzed later). We analyzed gene pairs among the top five of each intersection in the \"Disagreements\" group (Figure @fig:upsetplot_coefs a, right) where CCC disagrees with Pearson, Spearman or both.',\n",
       " 'While the majority of gene pairs showed agreement, over 20,000 gene pairs with high CCC values were not ranked highly by other coefficients (Figure 1a). Some gene pairs had high Pearson values but low CCC (1,075), low Spearman (87), or low values for both CCC and Spearman (531). Our analysis indicates that many of these discrepancies may be due to potential outliers (Figure 1b). We focused on gene pairs in the top five of each intersection within the \"Disagreements\" group (Figure 1a, right) where CCC disagreed with Pearson, Spearman, or both.')"
      ]
     },
     "metadata": {},
     "output_type": "display_data"
    }
   ],
   "source": [
    "display(paragraph_matches[-1])"
   ]
  },
  {
   "cell_type": "markdown",
   "id": "533c2d07-f9b8-471f-b30b-f861c20dcc90",
   "metadata": {
    "editable": true,
    "papermill": {
     "duration": 0.026914,
     "end_time": "2024-03-20T21:47:22.888132",
     "exception": false,
     "start_time": "2024-03-20T21:47:22.861218",
     "status": "completed"
    },
    "slideshow": {
     "slide_type": ""
    },
    "tags": []
   },
   "source": [
    "####  Paragraph 03"
   ]
  },
  {
   "cell_type": "code",
   "execution_count": 93,
   "id": "a38a2c0c-8451-4e3a-80ca-6794e6f5783e",
   "metadata": {
    "execution": {
     "iopub.execute_input": "2024-03-20T21:47:22.966806Z",
     "iopub.status.busy": "2024-03-20T21:47:22.966466Z",
     "iopub.status.idle": "2024-03-20T21:47:22.969643Z",
     "shell.execute_reply": "2024-03-20T21:47:22.969126Z"
    },
    "papermill": {
     "duration": 0.031868,
     "end_time": "2024-03-20T21:47:22.970335",
     "exception": false,
     "start_time": "2024-03-20T21:47:22.938467",
     "status": "completed"
    },
    "tags": []
   },
   "outputs": [
    {
     "name": "stdout",
     "output_type": "stream",
     "text": [
      "The first three gene pairs at the top (*IFNG* - *SDS*, *JUN* - *APOC1*, and *ZDHHC12* - *CCL18*), with high CCC and low Pearson values, appear to follow a non-coexistence relationship: in samples where one of the genes is highly (slightly) expressed, the other is slightly (highly) activated, suggesting a potentially inhibiting effect. The following three gene pairs (*UTY* - *KDM6A*, *RASSF2* - *CYTIP*, and *AC068580.6* - *KLHL21*) follow patterns combining either two linear or one linear and one independent relationships. In particular, genes *UTY* and *KDM6A* (paralogs) show a nonlinear relationship where a subset of samples follows a robust linear pattern and another subset has a constant (independent) expression of one gene. This relationship is explained by the fact that *UTY* is in chromosome Y (Yq11) whereas *KDM6A* is in chromosome X (Xp11), and samples with a linear pattern are males, whereas those with no expression for *UTY* are females. This combination of linear and independent patterns is captured by CCC ($c=0.29$, above the 80th percentile) but not by Pearson ($p=0.24$, below the 55th percentile) or Spearman ($s=0.10$, below the 15th percentile). Furthermore, the same gene pair pattern is highly ranked by CCC in all other tissues in GTEx, except for female-specific organs (Figure @fig:gtex_tissues:kdm6a_uty).\n"
     ]
    }
   ],
   "source": [
    "par0 = process_paragraph(orig_section_paragraphs[8])\n",
    "print(par0)"
   ]
  },
  {
   "cell_type": "code",
   "execution_count": 94,
   "id": "0e8708e1-e008-4d11-a354-3a064e66caf7",
   "metadata": {
    "execution": {
     "iopub.execute_input": "2024-03-20T21:47:23.025811Z",
     "iopub.status.busy": "2024-03-20T21:47:23.025486Z",
     "iopub.status.idle": "2024-03-20T21:47:23.028565Z",
     "shell.execute_reply": "2024-03-20T21:47:23.028049Z"
    },
    "papermill": {
     "duration": 0.031551,
     "end_time": "2024-03-20T21:47:23.029331",
     "exception": false,
     "start_time": "2024-03-20T21:47:22.997780",
     "status": "completed"
    },
    "tags": []
   },
   "outputs": [
    {
     "name": "stdout",
     "output_type": "stream",
     "text": [
      "The top three gene pairs (*IFNG* - *SDS*, *JUN* - *APOC1*, and *ZDHHC12* - *CCL18*) exhibit high CCC and low Pearson values, suggesting a non-coexistence relationship where one gene is highly expressed while the other is activated to a lesser extent, indicating a potential inhibiting effect. The subsequent three gene pairs (*UTY* - *KDM6A*, *RASSF2* - *CYTIP*, and *AC068580.6* - *KLHL21*) display combinations of linear or independent relationships. For instance, *UTY* and *KDM6A* (paralogs) show a nonlinear relationship where some samples exhibit a robust linear pattern while others have constant expression levels for one gene. This discrepancy is due to the location of *UTY* on chromosome Y and *KDM6A* on chromosome X, resulting in males showing a linear pattern and females lacking expression of *UTY*. This combination of linear and independent patterns is captured by CCC ($c=0.29$) but not by Pearson ($p=0.24$) or Spearman ($s=0.10$). Additionally, this gene pair pattern is consistently ranked highly by CCC across all tissues in GTEx, except for female-specific organs (Figure @fig:gtex_tissues:kdm6a_uty).\n"
     ]
    }
   ],
   "source": [
    "par1 = process_paragraph(mod_section_paragraphs[8])\n",
    "print(par1)"
   ]
  },
  {
   "cell_type": "code",
   "execution_count": 95,
   "id": "34566b03-dc00-4862-af05-988462032cc6",
   "metadata": {
    "execution": {
     "iopub.execute_input": "2024-03-20T21:47:23.084714Z",
     "iopub.status.busy": "2024-03-20T21:47:23.084395Z",
     "iopub.status.idle": "2024-03-20T21:47:23.087086Z",
     "shell.execute_reply": "2024-03-20T21:47:23.086581Z"
    },
    "papermill": {
     "duration": 0.031099,
     "end_time": "2024-03-20T21:47:23.087830",
     "exception": false,
     "start_time": "2024-03-20T21:47:23.056731",
     "status": "completed"
    },
    "tags": []
   },
   "outputs": [],
   "source": [
    "paragraph_matches.append(\n",
    "    (\n",
    "        section_name,\n",
    "        par0,\n",
    "        par1,\n",
    "    )\n",
    ")"
   ]
  },
  {
   "cell_type": "code",
   "execution_count": 96,
   "id": "5ffea461-d92d-4584-b715-562000bbce4d",
   "metadata": {
    "execution": {
     "iopub.execute_input": "2024-03-20T21:47:23.143402Z",
     "iopub.status.busy": "2024-03-20T21:47:23.142966Z",
     "iopub.status.idle": "2024-03-20T21:47:23.146663Z",
     "shell.execute_reply": "2024-03-20T21:47:23.146178Z"
    },
    "papermill": {
     "duration": 0.032201,
     "end_time": "2024-03-20T21:47:23.147348",
     "exception": false,
     "start_time": "2024-03-20T21:47:23.115147",
     "status": "completed"
    },
    "tags": []
   },
   "outputs": [
    {
     "data": {
      "text/plain": [
       "('results',\n",
       " 'The first three gene pairs at the top (*IFNG* - *SDS*, *JUN* - *APOC1*, and *ZDHHC12* - *CCL18*), with high CCC and low Pearson values, appear to follow a non-coexistence relationship: in samples where one of the genes is highly (slightly) expressed, the other is slightly (highly) activated, suggesting a potentially inhibiting effect. The following three gene pairs (*UTY* - *KDM6A*, *RASSF2* - *CYTIP*, and *AC068580.6* - *KLHL21*) follow patterns combining either two linear or one linear and one independent relationships. In particular, genes *UTY* and *KDM6A* (paralogs) show a nonlinear relationship where a subset of samples follows a robust linear pattern and another subset has a constant (independent) expression of one gene. This relationship is explained by the fact that *UTY* is in chromosome Y (Yq11) whereas *KDM6A* is in chromosome X (Xp11), and samples with a linear pattern are males, whereas those with no expression for *UTY* are females. This combination of linear and independent patterns is captured by CCC ($c=0.29$, above the 80th percentile) but not by Pearson ($p=0.24$, below the 55th percentile) or Spearman ($s=0.10$, below the 15th percentile). Furthermore, the same gene pair pattern is highly ranked by CCC in all other tissues in GTEx, except for female-specific organs (Figure @fig:gtex_tissues:kdm6a_uty).',\n",
       " 'The top three gene pairs (*IFNG* - *SDS*, *JUN* - *APOC1*, and *ZDHHC12* - *CCL18*) exhibit high CCC and low Pearson values, suggesting a non-coexistence relationship where one gene is highly expressed while the other is activated to a lesser extent, indicating a potential inhibiting effect. The subsequent three gene pairs (*UTY* - *KDM6A*, *RASSF2* - *CYTIP*, and *AC068580.6* - *KLHL21*) display combinations of linear or independent relationships. For instance, *UTY* and *KDM6A* (paralogs) show a nonlinear relationship where some samples exhibit a robust linear pattern while others have constant expression levels for one gene. This discrepancy is due to the location of *UTY* on chromosome Y and *KDM6A* on chromosome X, resulting in males showing a linear pattern and females lacking expression of *UTY*. This combination of linear and independent patterns is captured by CCC ($c=0.29$) but not by Pearson ($p=0.24$) or Spearman ($s=0.10$). Additionally, this gene pair pattern is consistently ranked highly by CCC across all tissues in GTEx, except for female-specific organs (Figure @fig:gtex_tissues:kdm6a_uty).')"
      ]
     },
     "metadata": {},
     "output_type": "display_data"
    }
   ],
   "source": [
    "display(paragraph_matches[-1])"
   ]
  },
  {
   "cell_type": "markdown",
   "id": "eba0e796-aef8-42c8-84ef-d8f8fe63c8a9",
   "metadata": {
    "editable": true,
    "papermill": {
     "duration": 0.027118,
     "end_time": "2024-03-20T21:47:23.201855",
     "exception": false,
     "start_time": "2024-03-20T21:47:23.174737",
     "status": "completed"
    },
    "slideshow": {
     "slide_type": ""
    },
    "tags": []
   },
   "source": [
    "## Results (giant)"
   ]
  },
  {
   "cell_type": "code",
   "execution_count": 97,
   "id": "dbfbe76a-064d-49a7-bcdf-c5846399f62b",
   "metadata": {
    "execution": {
     "iopub.execute_input": "2024-03-20T21:47:23.257405Z",
     "iopub.status.busy": "2024-03-20T21:47:23.257069Z",
     "iopub.status.idle": "2024-03-20T21:47:23.259505Z",
     "shell.execute_reply": "2024-03-20T21:47:23.259025Z"
    },
    "papermill": {
     "duration": 0.031013,
     "end_time": "2024-03-20T21:47:23.260241",
     "exception": false,
     "start_time": "2024-03-20T21:47:23.229228",
     "status": "completed"
    },
    "tags": []
   },
   "outputs": [],
   "source": [
    "# section_name = \"results\""
   ]
  },
  {
   "cell_type": "code",
   "execution_count": 98,
   "id": "9e65002d-431b-496f-aeea-61587535b9f9",
   "metadata": {
    "editable": true,
    "execution": {
     "iopub.execute_input": "2024-03-20T21:47:23.315863Z",
     "iopub.status.busy": "2024-03-20T21:47:23.315523Z",
     "iopub.status.idle": "2024-03-20T21:47:23.318874Z",
     "shell.execute_reply": "2024-03-20T21:47:23.318360Z"
    },
    "papermill": {
     "duration": 0.031964,
     "end_time": "2024-03-20T21:47:23.319563",
     "exception": false,
     "start_time": "2024-03-20T21:47:23.287599",
     "status": "completed"
    },
    "slideshow": {
     "slide_type": ""
    },
    "tags": []
   },
   "outputs": [
    {
     "name": "stdout",
     "output_type": "stream",
     "text": [
      "content/04.12.results_giant.md\n"
     ]
    }
   ],
   "source": [
    "pr_filename = pr_files[4].filename\n",
    "assert section_name in pr_filename\n",
    "assert \"giant\" in pr_filename\n",
    "print(pr_filename)"
   ]
  },
  {
   "cell_type": "markdown",
   "id": "daf3f77b-b349-4d36-a749-3e05051c8ee5",
   "metadata": {
    "editable": true,
    "papermill": {
     "duration": 0.027338,
     "end_time": "2024-03-20T21:47:23.374331",
     "exception": false,
     "start_time": "2024-03-20T21:47:23.346993",
     "status": "completed"
    },
    "slideshow": {
     "slide_type": ""
    },
    "tags": []
   },
   "source": [
    "### Original"
   ]
  },
  {
   "cell_type": "code",
   "execution_count": 99,
   "id": "657019af-7454-4d9b-9d69-038c43eef825",
   "metadata": {
    "execution": {
     "iopub.execute_input": "2024-03-20T21:47:23.430007Z",
     "iopub.status.busy": "2024-03-20T21:47:23.429637Z",
     "iopub.status.idle": "2024-03-20T21:47:23.582526Z",
     "shell.execute_reply": "2024-03-20T21:47:23.581967Z"
    },
    "papermill": {
     "duration": 0.181829,
     "end_time": "2024-03-20T21:47:23.583684",
     "exception": false,
     "start_time": "2024-03-20T21:47:23.401855",
     "status": "completed"
    },
    "tags": []
   },
   "outputs": [
    {
     "name": "stdout",
     "output_type": "stream",
     "text": [
      "### Replication of gene associations using tissue-\n"
     ]
    }
   ],
   "source": [
    "# get content\n",
    "orig_section_content = repo.get_contents(pr_filename, pr_prev).decoded_content.decode(\n",
    "    \"utf-8\"\n",
    ")\n",
    "print(orig_section_content[:50])"
   ]
  },
  {
   "cell_type": "code",
   "execution_count": 100,
   "id": "68f6ad9a-b340-4726-be8f-50f2ced6eb1c",
   "metadata": {
    "execution": {
     "iopub.execute_input": "2024-03-20T21:47:23.677316Z",
     "iopub.status.busy": "2024-03-20T21:47:23.676971Z",
     "iopub.status.idle": "2024-03-20T21:47:23.680707Z",
     "shell.execute_reply": "2024-03-20T21:47:23.680187Z"
    },
    "papermill": {
     "duration": 0.046014,
     "end_time": "2024-03-20T21:47:23.681437",
     "exception": false,
     "start_time": "2024-03-20T21:47:23.635423",
     "status": "completed"
    },
    "tags": []
   },
   "outputs": [
    {
     "data": {
      "text/plain": [
       "4"
      ]
     },
     "metadata": {},
     "output_type": "display_data"
    }
   ],
   "source": [
    "# split by paragraph\n",
    "orig_section_paragraphs = orig_section_content.split(\"\\n\\n\")\n",
    "display(len(orig_section_paragraphs))"
   ]
  },
  {
   "cell_type": "markdown",
   "id": "3a515543-39cc-478a-a3f7-5689994b53ba",
   "metadata": {
    "editable": true,
    "papermill": {
     "duration": 0.027387,
     "end_time": "2024-03-20T21:47:23.736239",
     "exception": false,
     "start_time": "2024-03-20T21:47:23.708852",
     "status": "completed"
    },
    "slideshow": {
     "slide_type": ""
    },
    "tags": []
   },
   "source": [
    "### Modified"
   ]
  },
  {
   "cell_type": "code",
   "execution_count": 101,
   "id": "b2e77464-3a51-4d6b-a927-b00e4e99a0cc",
   "metadata": {
    "execution": {
     "iopub.execute_input": "2024-03-20T21:47:23.792292Z",
     "iopub.status.busy": "2024-03-20T21:47:23.791913Z",
     "iopub.status.idle": "2024-03-20T21:47:24.077233Z",
     "shell.execute_reply": "2024-03-20T21:47:24.076644Z"
    },
    "papermill": {
     "duration": 0.314411,
     "end_time": "2024-03-20T21:47:24.078188",
     "exception": false,
     "start_time": "2024-03-20T21:47:23.763777",
     "status": "completed"
    },
    "tags": []
   },
   "outputs": [
    {
     "name": "stdout",
     "output_type": "stream",
     "text": [
      "### Replication of gene associations using tissue-\n"
     ]
    }
   ],
   "source": [
    "# get content\n",
    "mod_section_content = repo.get_contents(pr_filename, pr_curr).decoded_content.decode(\n",
    "    \"utf-8\"\n",
    ")\n",
    "print(mod_section_content[:50])"
   ]
  },
  {
   "cell_type": "code",
   "execution_count": 102,
   "id": "289e00d4-cea8-4ab2-94fb-c1d875456542",
   "metadata": {
    "execution": {
     "iopub.execute_input": "2024-03-20T21:47:24.177401Z",
     "iopub.status.busy": "2024-03-20T21:47:24.176904Z",
     "iopub.status.idle": "2024-03-20T21:47:24.180744Z",
     "shell.execute_reply": "2024-03-20T21:47:24.180204Z"
    },
    "papermill": {
     "duration": 0.0364,
     "end_time": "2024-03-20T21:47:24.181483",
     "exception": false,
     "start_time": "2024-03-20T21:47:24.145083",
     "status": "completed"
    },
    "tags": []
   },
   "outputs": [
    {
     "data": {
      "text/plain": [
       "4"
      ]
     },
     "metadata": {},
     "output_type": "display_data"
    }
   ],
   "source": [
    "# split by paragraph\n",
    "mod_section_paragraphs = mod_section_content.split(\"\\n\\n\")\n",
    "display(len(mod_section_paragraphs))"
   ]
  },
  {
   "cell_type": "markdown",
   "id": "f957e846-058d-4543-80f9-8d616797abd3",
   "metadata": {
    "editable": true,
    "papermill": {
     "duration": 0.027477,
     "end_time": "2024-03-20T21:47:24.236469",
     "exception": false,
     "start_time": "2024-03-20T21:47:24.208992",
     "status": "completed"
    },
    "slideshow": {
     "slide_type": ""
    },
    "tags": []
   },
   "source": [
    "### Match"
   ]
  },
  {
   "cell_type": "code",
   "execution_count": 103,
   "id": "ca841c54-838d-464b-a1f7-ac807d045f5e",
   "metadata": {
    "execution": {
     "iopub.execute_input": "2024-03-20T21:47:24.292615Z",
     "iopub.status.busy": "2024-03-20T21:47:24.292163Z",
     "iopub.status.idle": "2024-03-20T21:47:24.295997Z",
     "shell.execute_reply": "2024-03-20T21:47:24.295512Z"
    },
    "papermill": {
     "duration": 0.032585,
     "end_time": "2024-03-20T21:47:24.296710",
     "exception": false,
     "start_time": "2024-03-20T21:47:24.264125",
     "status": "completed"
    },
    "tags": []
   },
   "outputs": [
    {
     "data": {
      "text/plain": [
       "'### Replication of gene associations using tissue-specific gene networks from GIANT'"
      ]
     },
     "execution_count": 103,
     "metadata": {},
     "output_type": "execute_result"
    }
   ],
   "source": [
    "orig_section_paragraphs[0]"
   ]
  },
  {
   "cell_type": "code",
   "execution_count": 104,
   "id": "e23865d7-5201-4fc5-9920-f633947c0ee0",
   "metadata": {
    "execution": {
     "iopub.execute_input": "2024-03-20T21:47:24.352878Z",
     "iopub.status.busy": "2024-03-20T21:47:24.352678Z",
     "iopub.status.idle": "2024-03-20T21:47:24.356169Z",
     "shell.execute_reply": "2024-03-20T21:47:24.355740Z"
    },
    "papermill": {
     "duration": 0.032551,
     "end_time": "2024-03-20T21:47:24.356887",
     "exception": false,
     "start_time": "2024-03-20T21:47:24.324336",
     "status": "completed"
    },
    "tags": []
   },
   "outputs": [
    {
     "data": {
      "text/plain": [
       "'### Replication of gene associations using tissue-specific gene networks from GIANT'"
      ]
     },
     "execution_count": 104,
     "metadata": {},
     "output_type": "execute_result"
    }
   ],
   "source": [
    "mod_section_paragraphs[0]"
   ]
  },
  {
   "cell_type": "markdown",
   "id": "45368970-29a6-4c74-9529-8d5a07810610",
   "metadata": {
    "editable": true,
    "papermill": {
     "duration": 0.027383,
     "end_time": "2024-03-20T21:47:24.411978",
     "exception": false,
     "start_time": "2024-03-20T21:47:24.384595",
     "status": "completed"
    },
    "slideshow": {
     "slide_type": ""
    },
    "tags": []
   },
   "source": [
    "####  Paragraph 00"
   ]
  },
  {
   "cell_type": "code",
   "execution_count": 105,
   "id": "85b7c900-cf86-4c29-b878-29839b0d10b1",
   "metadata": {
    "execution": {
     "iopub.execute_input": "2024-03-20T21:47:24.468293Z",
     "iopub.status.busy": "2024-03-20T21:47:24.467818Z",
     "iopub.status.idle": "2024-03-20T21:47:24.470943Z",
     "shell.execute_reply": "2024-03-20T21:47:24.470510Z"
    },
    "papermill": {
     "duration": 0.031845,
     "end_time": "2024-03-20T21:47:24.471638",
     "exception": false,
     "start_time": "2024-03-20T21:47:24.439793",
     "status": "completed"
    },
    "tags": []
   },
   "outputs": [
    {
     "name": "stdout",
     "output_type": "stream",
     "text": [
      "We sought to systematically analyze discrepant scores to assess whether associations were replicated in other datasets besides GTEx. This is challenging and prone to bias because linear-only correlation coefficients are usually used in gene co-expression analyses. We used 144 tissue-specific gene networks from the Genome-wide Analysis of gene Networks in Tissues (GIANT) [@pmcid:PMC4828725; @url:https://hb.flatironinstitute.org], where nodes represent genes and each edge a functional relationship weighted with a probability of interaction between two genes (see [Methods](#sec:giant)). Importantly, the version of GIANT used in this study did not include GTEx samples [@url:https://hb.flatironinstitute.org/data], making it an ideal case for replication. These networks were built from expression and different interaction measurements, including protein-interaction, transcription factor regulation, chemical/genetic perturbations and microRNA target profiles from the Molecular Signatures Database (MSigDB [@pmid:16199517]). We reasoned that highly-ranked gene pairs using three different coefficients in a single tissue (whole blood in GTEx, Figure @fig:upsetplot_coefs) that represented real patterns should often replicate in a corresponding tissue or related cell lineage using the multi-cell type functional interaction networks in GIANT. In addition to predicting a network with interactions for a pair of genes, the GIANT web application can also automatically detect a relevant tissue or cell type where genes are predicted to be specifically expressed (the approach uses a machine learning method introduced in [@doi:10.1101/gr.155697.113] and described in [Methods](#sec:giant)). For example, we obtained the networks in blood and the automatically-predicted cell type for gene pairs *RASSF2* - *CYTIP* (CCC high, Figure @fig:giant_gene_pairs a) and *MYOZ1* - *TNNI2* (Pearson high, Figure @fig:giant_gene_pairs b). In addition to the gene pair, the networks include other genes connected according to their probability of interaction (up to 15 additional genes are shown), which allows estimating whether genes are part of the same tissue-specific biological process. Two large black nodes in each network's top-left and bottom-right corners represent our gene pairs. A green edge means a close-to-zero probability of interaction, whereas a red edge represents a strong predicted relationship between the two genes. In this example, genes *RASSF2* and *CYTIP* (Figure @fig:giant_gene_pairs a), with a high CCC value ($c=0.20$, above the 73th percentile) and low Pearson and Spearman ($p=0.16$ and $s=0.11$, below the 38th and 17th percentiles, respectively), were both strongly connected to the blood network, with interaction scores of at least 0.63 and an average of 0.75 and 0.84, respectively (Supplementary Table @tbl:giant:weights). The autodetected cell type for this pair was leukocytes, and interaction scores were similar to the blood network (Supplementary Table @tbl:giant:weights). However, genes *MYOZ1* and *TNNI2*, with a very high Pearson value ($p=0.97$), moderate Spearman ($s=0.28$) and very low CCC ($c=0.03$), were predicted to belong to much less cohesive networks (Figure @fig:giant_gene_pairs b), with average interaction scores of 0.17 and 0.22 with the rest of the genes, respectively. Additionally, the autodetected cell type (skeletal muscle) is not related to blood or one of its cell lineages. These preliminary results suggested that CCC might be capturing blood-specific patterns missed by the other coefficients.\n"
     ]
    }
   ],
   "source": [
    "par0 = process_paragraph(orig_section_paragraphs[1])\n",
    "print(par0)"
   ]
  },
  {
   "cell_type": "code",
   "execution_count": 106,
   "id": "41d93faf-b3e3-4177-a497-f69132f687df",
   "metadata": {
    "execution": {
     "iopub.execute_input": "2024-03-20T21:47:24.528293Z",
     "iopub.status.busy": "2024-03-20T21:47:24.527950Z",
     "iopub.status.idle": "2024-03-20T21:47:24.530820Z",
     "shell.execute_reply": "2024-03-20T21:47:24.530373Z"
    },
    "papermill": {
     "duration": 0.031819,
     "end_time": "2024-03-20T21:47:24.531562",
     "exception": false,
     "start_time": "2024-03-20T21:47:24.499743",
     "status": "completed"
    },
    "tags": []
   },
   "outputs": [
    {
     "name": "stdout",
     "output_type": "stream",
     "text": [
      "We analyzed discrepant scores to determine if associations were consistent across datasets beyond GTEx. Using 144 tissue-specific gene networks from GIANT, where nodes represent genes and edges represent functional relationships weighted with probabilities of interaction, we examined gene pairs in whole blood (Figure 1). These networks were constructed from various interaction measurements, including protein-interaction, transcription factor regulation, chemical/genetic perturbations, and microRNA target profiles from MSigDB. Highly-ranked gene pairs in blood that showed real patterns were expected to replicate in related tissues or cell lineages using GIANT's multi-cell type functional interaction networks. For example, gene pairs *RASSF2* - *CYTIP* with a high CCC value and gene pairs *MYOZ1* - *TNNI2* with high Pearson values were analyzed. The networks revealed strong connections for *RASSF2* - *CYTIP* in blood and leukocytes, while *MYOZ1* - *TNNI2* showed weaker connections in skeletal muscle. These findings suggest that CCC may capture tissue-specific patterns not detected by other coefficients.\n"
     ]
    }
   ],
   "source": [
    "par1 = process_paragraph(mod_section_paragraphs[1])\n",
    "print(par1)"
   ]
  },
  {
   "cell_type": "code",
   "execution_count": 107,
   "id": "c0dc3950-524a-4427-9e29-b214c3b9cc12",
   "metadata": {
    "execution": {
     "iopub.execute_input": "2024-03-20T21:47:24.587689Z",
     "iopub.status.busy": "2024-03-20T21:47:24.587503Z",
     "iopub.status.idle": "2024-03-20T21:47:24.590137Z",
     "shell.execute_reply": "2024-03-20T21:47:24.589706Z"
    },
    "papermill": {
     "duration": 0.031556,
     "end_time": "2024-03-20T21:47:24.590840",
     "exception": false,
     "start_time": "2024-03-20T21:47:24.559284",
     "status": "completed"
    },
    "tags": []
   },
   "outputs": [],
   "source": [
    "paragraph_matches.append(\n",
    "    (\n",
    "        section_name,\n",
    "        par0,\n",
    "        par1,\n",
    "    )\n",
    ")"
   ]
  },
  {
   "cell_type": "code",
   "execution_count": 108,
   "id": "c055cb90-27c8-4361-9204-799d2b2b9bdc",
   "metadata": {
    "execution": {
     "iopub.execute_input": "2024-03-20T21:47:24.652251Z",
     "iopub.status.busy": "2024-03-20T21:47:24.651799Z",
     "iopub.status.idle": "2024-03-20T21:47:24.655346Z",
     "shell.execute_reply": "2024-03-20T21:47:24.654914Z"
    },
    "papermill": {
     "duration": 0.034187,
     "end_time": "2024-03-20T21:47:24.656049",
     "exception": false,
     "start_time": "2024-03-20T21:47:24.621862",
     "status": "completed"
    },
    "tags": []
   },
   "outputs": [
    {
     "data": {
      "text/plain": [
       "('results',\n",
       " \"We sought to systematically analyze discrepant scores to assess whether associations were replicated in other datasets besides GTEx. This is challenging and prone to bias because linear-only correlation coefficients are usually used in gene co-expression analyses. We used 144 tissue-specific gene networks from the Genome-wide Analysis of gene Networks in Tissues (GIANT) [@pmcid:PMC4828725; @url:https://hb.flatironinstitute.org], where nodes represent genes and each edge a functional relationship weighted with a probability of interaction between two genes (see [Methods](#sec:giant)). Importantly, the version of GIANT used in this study did not include GTEx samples [@url:https://hb.flatironinstitute.org/data], making it an ideal case for replication. These networks were built from expression and different interaction measurements, including protein-interaction, transcription factor regulation, chemical/genetic perturbations and microRNA target profiles from the Molecular Signatures Database (MSigDB [@pmid:16199517]). We reasoned that highly-ranked gene pairs using three different coefficients in a single tissue (whole blood in GTEx, Figure @fig:upsetplot_coefs) that represented real patterns should often replicate in a corresponding tissue or related cell lineage using the multi-cell type functional interaction networks in GIANT. In addition to predicting a network with interactions for a pair of genes, the GIANT web application can also automatically detect a relevant tissue or cell type where genes are predicted to be specifically expressed (the approach uses a machine learning method introduced in [@doi:10.1101/gr.155697.113] and described in [Methods](#sec:giant)). For example, we obtained the networks in blood and the automatically-predicted cell type for gene pairs *RASSF2* - *CYTIP* (CCC high, Figure @fig:giant_gene_pairs a) and *MYOZ1* - *TNNI2* (Pearson high, Figure @fig:giant_gene_pairs b). In addition to the gene pair, the networks include other genes connected according to their probability of interaction (up to 15 additional genes are shown), which allows estimating whether genes are part of the same tissue-specific biological process. Two large black nodes in each network's top-left and bottom-right corners represent our gene pairs. A green edge means a close-to-zero probability of interaction, whereas a red edge represents a strong predicted relationship between the two genes. In this example, genes *RASSF2* and *CYTIP* (Figure @fig:giant_gene_pairs a), with a high CCC value ($c=0.20$, above the 73th percentile) and low Pearson and Spearman ($p=0.16$ and $s=0.11$, below the 38th and 17th percentiles, respectively), were both strongly connected to the blood network, with interaction scores of at least 0.63 and an average of 0.75 and 0.84, respectively (Supplementary Table @tbl:giant:weights). The autodetected cell type for this pair was leukocytes, and interaction scores were similar to the blood network (Supplementary Table @tbl:giant:weights). However, genes *MYOZ1* and *TNNI2*, with a very high Pearson value ($p=0.97$), moderate Spearman ($s=0.28$) and very low CCC ($c=0.03$), were predicted to belong to much less cohesive networks (Figure @fig:giant_gene_pairs b), with average interaction scores of 0.17 and 0.22 with the rest of the genes, respectively. Additionally, the autodetected cell type (skeletal muscle) is not related to blood or one of its cell lineages. These preliminary results suggested that CCC might be capturing blood-specific patterns missed by the other coefficients.\",\n",
       " \"We analyzed discrepant scores to determine if associations were consistent across datasets beyond GTEx. Using 144 tissue-specific gene networks from GIANT, where nodes represent genes and edges represent functional relationships weighted with probabilities of interaction, we examined gene pairs in whole blood (Figure 1). These networks were constructed from various interaction measurements, including protein-interaction, transcription factor regulation, chemical/genetic perturbations, and microRNA target profiles from MSigDB. Highly-ranked gene pairs in blood that showed real patterns were expected to replicate in related tissues or cell lineages using GIANT's multi-cell type functional interaction networks. For example, gene pairs *RASSF2* - *CYTIP* with a high CCC value and gene pairs *MYOZ1* - *TNNI2* with high Pearson values were analyzed. The networks revealed strong connections for *RASSF2* - *CYTIP* in blood and leukocytes, while *MYOZ1* - *TNNI2* showed weaker connections in skeletal muscle. These findings suggest that CCC may capture tissue-specific patterns not detected by other coefficients.\")"
      ]
     },
     "metadata": {},
     "output_type": "display_data"
    }
   ],
   "source": [
    "display(paragraph_matches[-1])"
   ]
  },
  {
   "cell_type": "markdown",
   "id": "1478308f-3102-4329-b9d3-80dda34c924c",
   "metadata": {
    "editable": true,
    "papermill": {
     "duration": 0.027819,
     "end_time": "2024-03-20T21:47:24.712182",
     "exception": false,
     "start_time": "2024-03-20T21:47:24.684363",
     "status": "completed"
    },
    "slideshow": {
     "slide_type": ""
    },
    "tags": []
   },
   "source": [
    "####  Paragraph 01"
   ]
  },
  {
   "cell_type": "code",
   "execution_count": 109,
   "id": "6a959c24-c888-4da9-b124-a4e168e39c3d",
   "metadata": {
    "execution": {
     "iopub.execute_input": "2024-03-20T21:47:24.768527Z",
     "iopub.status.busy": "2024-03-20T21:47:24.768075Z",
     "iopub.status.idle": "2024-03-20T21:47:24.771195Z",
     "shell.execute_reply": "2024-03-20T21:47:24.770770Z"
    },
    "papermill": {
     "duration": 0.031979,
     "end_time": "2024-03-20T21:47:24.771905",
     "exception": false,
     "start_time": "2024-03-20T21:47:24.739926",
     "status": "completed"
    },
    "tags": []
   },
   "outputs": [
    {
     "name": "stdout",
     "output_type": "stream",
     "text": [
      "We next performed a systematic evaluation using the top 100 discrepant gene pairs between CCC and the other two coefficients. For each gene pair prioritized in GTEx (whole blood), we autodetected a relevant cell type using GIANT to assess whether genes were predicted to be specifically expressed in a blood-relevant cell lineage. For this, we used the top five most commonly autodetected cell types for each coefficient and assessed connectivity in the resulting networks (see [Methods](#sec:giant)). The top 5 predicted cell types for gene pairs highly ranked by CCC and not by the rest were all blood-specific (Figure @fig:giant_gene_pairs c, top left), including macrophage, leukocyte, natural killer cell, blood and mononuclear phagocyte. The average probability of interaction between genes in these CCC-ranked networks was significantly higher than the other coefficients (Figure @fig:giant_gene_pairs c, top right), with all medians larger than 67% and first quartiles above 41% across predicted cell types. In contrast, most Pearson's gene pairs were predicted to be specific to tissues unrelated to blood (Figure @fig:giant_gene_pairs c, bottom left), with skeletal muscle being the most commonly predicted tissue. The interaction probabilities in these Pearson-ranked networks were also generally lower than in CCC, except for blood-specific gene pairs (Figure @fig:giant_gene_pairs c, bottom right). The associations exclusively detected by CCC in whole blood from GTEx were more strongly replicated in these independent networks that incorporated multiple data modalities. CCC-ranked gene pairs not only had high probabilities of belonging to the same biological process but were also predicted to be specifically expressed in blood cell lineages. Conversely, most Pearson-ranked gene pairs were not predicted to be blood-specific, and their interaction probabilities were relatively low. This lack of replication in GIANT suggests that top Pearson-ranked gene pairs in GTEx might be driven mainly by outliers, which is consistent with our earlier observations of outlier-driven associations (Figure @fig:upsetplot_coefs b).\n"
     ]
    }
   ],
   "source": [
    "par0 = process_paragraph(orig_section_paragraphs[3])\n",
    "print(par0)"
   ]
  },
  {
   "cell_type": "code",
   "execution_count": 110,
   "id": "4eba1457-3bfd-45b1-aeb6-70462014aff1",
   "metadata": {
    "execution": {
     "iopub.execute_input": "2024-03-20T21:47:24.828279Z",
     "iopub.status.busy": "2024-03-20T21:47:24.828097Z",
     "iopub.status.idle": "2024-03-20T21:47:24.831016Z",
     "shell.execute_reply": "2024-03-20T21:47:24.830578Z"
    },
    "papermill": {
     "duration": 0.031859,
     "end_time": "2024-03-20T21:47:24.831733",
     "exception": false,
     "start_time": "2024-03-20T21:47:24.799874",
     "status": "completed"
    },
    "tags": []
   },
   "outputs": [
    {
     "name": "stdout",
     "output_type": "stream",
     "text": [
      "We systematically evaluated the top 100 discrepant gene pairs between CCC and two other coefficients. Using GTEx data for whole blood, we identified relevant cell types for each gene pair through GIANT analysis. The top five predicted cell types for gene pairs highly ranked by CCC were all blood-specific, including macrophage, leukocyte, natural killer cell, blood, and mononuclear phagocyte (Figure 1c, top left). The average probability of interaction between genes in CCC-ranked networks was significantly higher compared to other coefficients, with medians above 67% and first quartiles above 41% across predicted cell types (Figure 1c, top right). In contrast, most Pearson's gene pairs were predicted to be specific to non-blood tissues, with skeletal muscle being the most common prediction (Figure 1c, bottom left). Interaction probabilities in Pearson-ranked networks were generally lower than CCC, except for blood-specific gene pairs (Figure 1c, bottom right). The associations exclusively detected by CCC in GTEx whole blood were strongly replicated in independent networks incorporating multiple data modalities. CCC-ranked gene pairs not only shared high probabilities of belonging to the same biological process but were also specific to blood cell lineages. Conversely, Pearson-ranked gene pairs were not blood-specific, with lower interaction probabilities. Lack of replication in GIANT suggests that top Pearson-ranked gene pairs in GTEx may be mainly driven by outliers, consistent with earlier observations of outlier-driven associations (Figure 2b).\n"
     ]
    }
   ],
   "source": [
    "par1 = process_paragraph(mod_section_paragraphs[3])\n",
    "print(par1)"
   ]
  },
  {
   "cell_type": "code",
   "execution_count": 111,
   "id": "fedeb0fc-1967-4869-ab34-0ef2b16950c4",
   "metadata": {
    "execution": {
     "iopub.execute_input": "2024-03-20T21:47:24.888612Z",
     "iopub.status.busy": "2024-03-20T21:47:24.888215Z",
     "iopub.status.idle": "2024-03-20T21:47:24.890848Z",
     "shell.execute_reply": "2024-03-20T21:47:24.890409Z"
    },
    "papermill": {
     "duration": 0.031776,
     "end_time": "2024-03-20T21:47:24.891489",
     "exception": false,
     "start_time": "2024-03-20T21:47:24.859713",
     "status": "completed"
    },
    "tags": []
   },
   "outputs": [],
   "source": [
    "paragraph_matches.append(\n",
    "    (\n",
    "        section_name,\n",
    "        par0,\n",
    "        par1,\n",
    "    )\n",
    ")"
   ]
  },
  {
   "cell_type": "code",
   "execution_count": 112,
   "id": "7fee1e25-14ff-48c3-8390-ae5adc6c6bb1",
   "metadata": {
    "execution": {
     "iopub.execute_input": "2024-03-20T21:47:24.948245Z",
     "iopub.status.busy": "2024-03-20T21:47:24.947903Z",
     "iopub.status.idle": "2024-03-20T21:47:24.951385Z",
     "shell.execute_reply": "2024-03-20T21:47:24.950924Z"
    },
    "papermill": {
     "duration": 0.032618,
     "end_time": "2024-03-20T21:47:24.952068",
     "exception": false,
     "start_time": "2024-03-20T21:47:24.919450",
     "status": "completed"
    },
    "tags": []
   },
   "outputs": [
    {
     "data": {
      "text/plain": [
       "('results',\n",
       " \"We next performed a systematic evaluation using the top 100 discrepant gene pairs between CCC and the other two coefficients. For each gene pair prioritized in GTEx (whole blood), we autodetected a relevant cell type using GIANT to assess whether genes were predicted to be specifically expressed in a blood-relevant cell lineage. For this, we used the top five most commonly autodetected cell types for each coefficient and assessed connectivity in the resulting networks (see [Methods](#sec:giant)). The top 5 predicted cell types for gene pairs highly ranked by CCC and not by the rest were all blood-specific (Figure @fig:giant_gene_pairs c, top left), including macrophage, leukocyte, natural killer cell, blood and mononuclear phagocyte. The average probability of interaction between genes in these CCC-ranked networks was significantly higher than the other coefficients (Figure @fig:giant_gene_pairs c, top right), with all medians larger than 67% and first quartiles above 41% across predicted cell types. In contrast, most Pearson's gene pairs were predicted to be specific to tissues unrelated to blood (Figure @fig:giant_gene_pairs c, bottom left), with skeletal muscle being the most commonly predicted tissue. The interaction probabilities in these Pearson-ranked networks were also generally lower than in CCC, except for blood-specific gene pairs (Figure @fig:giant_gene_pairs c, bottom right). The associations exclusively detected by CCC in whole blood from GTEx were more strongly replicated in these independent networks that incorporated multiple data modalities. CCC-ranked gene pairs not only had high probabilities of belonging to the same biological process but were also predicted to be specifically expressed in blood cell lineages. Conversely, most Pearson-ranked gene pairs were not predicted to be blood-specific, and their interaction probabilities were relatively low. This lack of replication in GIANT suggests that top Pearson-ranked gene pairs in GTEx might be driven mainly by outliers, which is consistent with our earlier observations of outlier-driven associations (Figure @fig:upsetplot_coefs b).\",\n",
       " \"We systematically evaluated the top 100 discrepant gene pairs between CCC and two other coefficients. Using GTEx data for whole blood, we identified relevant cell types for each gene pair through GIANT analysis. The top five predicted cell types for gene pairs highly ranked by CCC were all blood-specific, including macrophage, leukocyte, natural killer cell, blood, and mononuclear phagocyte (Figure 1c, top left). The average probability of interaction between genes in CCC-ranked networks was significantly higher compared to other coefficients, with medians above 67% and first quartiles above 41% across predicted cell types (Figure 1c, top right). In contrast, most Pearson's gene pairs were predicted to be specific to non-blood tissues, with skeletal muscle being the most common prediction (Figure 1c, bottom left). Interaction probabilities in Pearson-ranked networks were generally lower than CCC, except for blood-specific gene pairs (Figure 1c, bottom right). The associations exclusively detected by CCC in GTEx whole blood were strongly replicated in independent networks incorporating multiple data modalities. CCC-ranked gene pairs not only shared high probabilities of belonging to the same biological process but were also specific to blood cell lineages. Conversely, Pearson-ranked gene pairs were not blood-specific, with lower interaction probabilities. Lack of replication in GIANT suggests that top Pearson-ranked gene pairs in GTEx may be mainly driven by outliers, consistent with earlier observations of outlier-driven associations (Figure 2b).\")"
      ]
     },
     "metadata": {},
     "output_type": "display_data"
    }
   ],
   "source": [
    "display(paragraph_matches[-1])"
   ]
  },
  {
   "cell_type": "markdown",
   "id": "0a311a52-d06f-4f08-905f-465c282ff625",
   "metadata": {
    "editable": true,
    "papermill": {
     "duration": 0.027873,
     "end_time": "2024-03-20T21:47:25.008072",
     "exception": false,
     "start_time": "2024-03-20T21:47:24.980199",
     "status": "completed"
    },
    "slideshow": {
     "slide_type": ""
    },
    "tags": []
   },
   "source": [
    "## Discussion"
   ]
  },
  {
   "cell_type": "code",
   "execution_count": 113,
   "id": "70e3c270-751e-48b1-a705-7ed67d9298b8",
   "metadata": {
    "execution": {
     "iopub.execute_input": "2024-03-20T21:47:25.064626Z",
     "iopub.status.busy": "2024-03-20T21:47:25.064205Z",
     "iopub.status.idle": "2024-03-20T21:47:25.066760Z",
     "shell.execute_reply": "2024-03-20T21:47:25.066333Z"
    },
    "papermill": {
     "duration": 0.031534,
     "end_time": "2024-03-20T21:47:25.067480",
     "exception": false,
     "start_time": "2024-03-20T21:47:25.035946",
     "status": "completed"
    },
    "tags": []
   },
   "outputs": [],
   "source": [
    "section_name = \"discussion\""
   ]
  },
  {
   "cell_type": "code",
   "execution_count": 114,
   "id": "da50ce41-3f94-4ca1-8c72-3d2aa29b536b",
   "metadata": {
    "editable": true,
    "execution": {
     "iopub.execute_input": "2024-03-20T21:47:25.123437Z",
     "iopub.status.busy": "2024-03-20T21:47:25.123249Z",
     "iopub.status.idle": "2024-03-20T21:47:25.126708Z",
     "shell.execute_reply": "2024-03-20T21:47:25.126148Z"
    },
    "papermill": {
     "duration": 0.032453,
     "end_time": "2024-03-20T21:47:25.127585",
     "exception": false,
     "start_time": "2024-03-20T21:47:25.095132",
     "status": "completed"
    },
    "slideshow": {
     "slide_type": ""
    },
    "tags": []
   },
   "outputs": [
    {
     "name": "stdout",
     "output_type": "stream",
     "text": [
      "content/06.discussion.md\n"
     ]
    }
   ],
   "source": [
    "pr_filename = pr_files[5].filename\n",
    "assert section_name in pr_filename\n",
    "print(pr_filename)"
   ]
  },
  {
   "cell_type": "markdown",
   "id": "15bcc7d8-ab7b-4475-95ad-6d9c3763aba2",
   "metadata": {
    "editable": true,
    "papermill": {
     "duration": 0.027518,
     "end_time": "2024-03-20T21:47:25.182986",
     "exception": false,
     "start_time": "2024-03-20T21:47:25.155468",
     "status": "completed"
    },
    "slideshow": {
     "slide_type": ""
    },
    "tags": []
   },
   "source": [
    "### Original"
   ]
  },
  {
   "cell_type": "code",
   "execution_count": 115,
   "id": "5bbec300-ce51-46d0-8e4d-b2ba822ec608",
   "metadata": {
    "execution": {
     "iopub.execute_input": "2024-03-20T21:47:25.262597Z",
     "iopub.status.busy": "2024-03-20T21:47:25.262384Z",
     "iopub.status.idle": "2024-03-20T21:47:25.424548Z",
     "shell.execute_reply": "2024-03-20T21:47:25.423919Z"
    },
    "papermill": {
     "duration": 0.214784,
     "end_time": "2024-03-20T21:47:25.425574",
     "exception": false,
     "start_time": "2024-03-20T21:47:25.210790",
     "status": "completed"
    },
    "tags": []
   },
   "outputs": [
    {
     "name": "stdout",
     "output_type": "stream",
     "text": [
      "## Discussion\n",
      "\n",
      "We introduce the Clustermatch Corre\n"
     ]
    }
   ],
   "source": [
    "# get content\n",
    "orig_section_content = repo.get_contents(pr_filename, pr_prev).decoded_content.decode(\n",
    "    \"utf-8\"\n",
    ")\n",
    "print(orig_section_content[:50])"
   ]
  },
  {
   "cell_type": "code",
   "execution_count": 116,
   "id": "2ab78222-da5b-4d1e-93dd-e35a085a962f",
   "metadata": {
    "execution": {
     "iopub.execute_input": "2024-03-20T21:47:25.504385Z",
     "iopub.status.busy": "2024-03-20T21:47:25.504043Z",
     "iopub.status.idle": "2024-03-20T21:47:25.507986Z",
     "shell.execute_reply": "2024-03-20T21:47:25.507430Z"
    },
    "papermill": {
     "duration": 0.041557,
     "end_time": "2024-03-20T21:47:25.508775",
     "exception": false,
     "start_time": "2024-03-20T21:47:25.467218",
     "status": "completed"
    },
    "tags": []
   },
   "outputs": [
    {
     "data": {
      "text/plain": [
       "7"
      ]
     },
     "metadata": {},
     "output_type": "display_data"
    }
   ],
   "source": [
    "# split by paragraph\n",
    "orig_section_paragraphs = orig_section_content.split(\"\\n\\n\")\n",
    "display(len(orig_section_paragraphs))"
   ]
  },
  {
   "cell_type": "markdown",
   "id": "a0a475a1-c746-4b66-b096-99df8a9e4688",
   "metadata": {
    "editable": true,
    "papermill": {
     "duration": 0.027808,
     "end_time": "2024-03-20T21:47:25.564583",
     "exception": false,
     "start_time": "2024-03-20T21:47:25.536775",
     "status": "completed"
    },
    "slideshow": {
     "slide_type": ""
    },
    "tags": []
   },
   "source": [
    "### Modified"
   ]
  },
  {
   "cell_type": "code",
   "execution_count": 117,
   "id": "b4046c3e-0e66-44fe-8902-822d461fb6ea",
   "metadata": {
    "execution": {
     "iopub.execute_input": "2024-03-20T21:47:25.621196Z",
     "iopub.status.busy": "2024-03-20T21:47:25.621002Z",
     "iopub.status.idle": "2024-03-20T21:47:25.829825Z",
     "shell.execute_reply": "2024-03-20T21:47:25.829244Z"
    },
    "papermill": {
     "duration": 0.238451,
     "end_time": "2024-03-20T21:47:25.830937",
     "exception": false,
     "start_time": "2024-03-20T21:47:25.592486",
     "status": "completed"
    },
    "tags": []
   },
   "outputs": [
    {
     "name": "stdout",
     "output_type": "stream",
     "text": [
      "## Discussion\n",
      "\n",
      "We present the Clustermatch Correla\n"
     ]
    }
   ],
   "source": [
    "# get content\n",
    "mod_section_content = repo.get_contents(pr_filename, pr_curr).decoded_content.decode(\n",
    "    \"utf-8\"\n",
    ")\n",
    "print(mod_section_content[:50])"
   ]
  },
  {
   "cell_type": "code",
   "execution_count": 118,
   "id": "0f0d8b54-f62f-45c9-861a-ab579ac0d46b",
   "metadata": {
    "execution": {
     "iopub.execute_input": "2024-03-20T21:47:25.925846Z",
     "iopub.status.busy": "2024-03-20T21:47:25.925651Z",
     "iopub.status.idle": "2024-03-20T21:47:25.929584Z",
     "shell.execute_reply": "2024-03-20T21:47:25.929035Z"
    },
    "papermill": {
     "duration": 0.046369,
     "end_time": "2024-03-20T21:47:25.930321",
     "exception": false,
     "start_time": "2024-03-20T21:47:25.883952",
     "status": "completed"
    },
    "tags": []
   },
   "outputs": [
    {
     "data": {
      "text/plain": [
       "10"
      ]
     },
     "metadata": {},
     "output_type": "display_data"
    }
   ],
   "source": [
    "# split by paragraph\n",
    "mod_section_paragraphs = mod_section_content.split(\"\\n\\n\")\n",
    "display(len(mod_section_paragraphs))"
   ]
  },
  {
   "cell_type": "markdown",
   "id": "eb98b790-a12a-4eff-9074-357374cc8386",
   "metadata": {
    "editable": true,
    "papermill": {
     "duration": 0.027939,
     "end_time": "2024-03-20T21:47:25.986370",
     "exception": false,
     "start_time": "2024-03-20T21:47:25.958431",
     "status": "completed"
    },
    "slideshow": {
     "slide_type": ""
    },
    "tags": []
   },
   "source": [
    "### Match"
   ]
  },
  {
   "cell_type": "code",
   "execution_count": 119,
   "id": "5147ec0f-7e00-4e5b-9c17-73e17ccb3ab4",
   "metadata": {
    "execution": {
     "iopub.execute_input": "2024-03-20T21:47:26.043017Z",
     "iopub.status.busy": "2024-03-20T21:47:26.042806Z",
     "iopub.status.idle": "2024-03-20T21:47:26.046588Z",
     "shell.execute_reply": "2024-03-20T21:47:26.046030Z"
    },
    "papermill": {
     "duration": 0.033011,
     "end_time": "2024-03-20T21:47:26.047344",
     "exception": false,
     "start_time": "2024-03-20T21:47:26.014333",
     "status": "completed"
    },
    "tags": []
   },
   "outputs": [
    {
     "data": {
      "text/plain": [
       "'## Discussion'"
      ]
     },
     "execution_count": 119,
     "metadata": {},
     "output_type": "execute_result"
    }
   ],
   "source": [
    "orig_section_paragraphs[0]"
   ]
  },
  {
   "cell_type": "code",
   "execution_count": 120,
   "id": "f7f66854-8226-4d44-a5d9-c77da74fcb02",
   "metadata": {
    "execution": {
     "iopub.execute_input": "2024-03-20T21:47:26.103697Z",
     "iopub.status.busy": "2024-03-20T21:47:26.103500Z",
     "iopub.status.idle": "2024-03-20T21:47:26.107195Z",
     "shell.execute_reply": "2024-03-20T21:47:26.106637Z"
    },
    "papermill": {
     "duration": 0.032747,
     "end_time": "2024-03-20T21:47:26.107879",
     "exception": false,
     "start_time": "2024-03-20T21:47:26.075132",
     "status": "completed"
    },
    "tags": []
   },
   "outputs": [
    {
     "data": {
      "text/plain": [
       "'## Discussion'"
      ]
     },
     "execution_count": 120,
     "metadata": {},
     "output_type": "execute_result"
    }
   ],
   "source": [
    "mod_section_paragraphs[0]"
   ]
  },
  {
   "cell_type": "markdown",
   "id": "d92ee9ca-a186-40ab-b166-470691476a5d",
   "metadata": {
    "editable": true,
    "papermill": {
     "duration": 0.027983,
     "end_time": "2024-03-20T21:47:26.164104",
     "exception": false,
     "start_time": "2024-03-20T21:47:26.136121",
     "status": "completed"
    },
    "slideshow": {
     "slide_type": ""
    },
    "tags": []
   },
   "source": [
    "####  Paragraph 00"
   ]
  },
  {
   "cell_type": "code",
   "execution_count": 121,
   "id": "cab5a53a-cfb9-4453-a5e7-d9c94cf44b42",
   "metadata": {
    "execution": {
     "iopub.execute_input": "2024-03-20T21:47:26.220903Z",
     "iopub.status.busy": "2024-03-20T21:47:26.220711Z",
     "iopub.status.idle": "2024-03-20T21:47:26.223856Z",
     "shell.execute_reply": "2024-03-20T21:47:26.223293Z"
    },
    "papermill": {
     "duration": 0.032445,
     "end_time": "2024-03-20T21:47:26.224642",
     "exception": false,
     "start_time": "2024-03-20T21:47:26.192197",
     "status": "completed"
    },
    "tags": []
   },
   "outputs": [
    {
     "name": "stdout",
     "output_type": "stream",
     "text": [
      "We introduce the Clustermatch Correlation Coefficient (CCC), an efficient not-only-linear machine learning-based statistic. Applying CCC to GTEx v8 revealed that it was robust to outliers and detected linear relationships as well as complex and biologically meaningful patterns that standard coefficients missed. In particular, CCC alone detected gene pairs with complex nonlinear patterns from the sex chromosomes, highlighting the way that not-only-linear coefficients can play in capturing sex-specific differences. The ability to capture these nonlinear patterns, however, extends beyond sex differences: it provides a powerful approach to detect complex relationships where a subset of samples or conditions are explained by other factors (such as differences between health and disease). We found that top CCC-ranked gene pairs in whole blood from GTEx were replicated in independent tissue-specific networks trained from multiple data types and attributed to cell lineages from blood, even though CCC did not have access to any cell lineage-specific information. This suggests that CCC can disentangle intricate cell lineage-specific transcriptional patterns missed by linear-only coefficients. In addition to capturing nonlinear patterns, the CCC was more similar to Spearman than Pearson, highlighting their shared robustness to outliers. The CCC results were concordant with MIC, but much faster to compute and thus practical for large datasets. Another advantage over MIC is that CCC can also process categorical variables together with numerical values. CCC is conceptually easy to interpret and has a single parameter that controls the maximum complexity of the detected relationships while also balancing compute time.\n"
     ]
    }
   ],
   "source": [
    "par0 = process_paragraph(orig_section_paragraphs[1])\n",
    "print(par0)"
   ]
  },
  {
   "cell_type": "code",
   "execution_count": 122,
   "id": "84c75b53-48ef-433f-a63c-8995b7b9637d",
   "metadata": {
    "execution": {
     "iopub.execute_input": "2024-03-20T21:47:26.287632Z",
     "iopub.status.busy": "2024-03-20T21:47:26.287440Z",
     "iopub.status.idle": "2024-03-20T21:47:26.290631Z",
     "shell.execute_reply": "2024-03-20T21:47:26.290071Z"
    },
    "papermill": {
     "duration": 0.037697,
     "end_time": "2024-03-20T21:47:26.291478",
     "exception": false,
     "start_time": "2024-03-20T21:47:26.253781",
     "status": "completed"
    },
    "tags": []
   },
   "outputs": [
    {
     "name": "stdout",
     "output_type": "stream",
     "text": [
      "We present the Clustermatch Correlation Coefficient (CCC), a machine learning-based statistic that is not only efficient but also capable of capturing nonlinear relationships. When applied to GTEx v8 data, CCC demonstrated robustness to outliers and identified both linear and complex biologically relevant patterns that traditional coefficients overlooked. Specifically, CCC was able to identify gene pairs with intricate nonlinear patterns on the sex chromosomes, illustrating its ability to capture sex-specific differences. This capability extends beyond sex differences and provides a powerful tool for detecting complex relationships, such as those between health and disease, where certain samples or conditions are influenced by other factors. Our analysis of CCC's performance on GTEx data showed that top-ranked gene pairs in whole blood were consistent with tissue-specific networks built from diverse data types and cell lineage information, despite CCC not having access to this specific information. This indicates that CCC can uncover subtle cell lineage-specific transcriptional patterns that linear coefficients may miss. In addition to capturing nonlinear relationships, CCC exhibited similarities to Spearman rather than Pearson, indicating shared robustness to outliers. CCC also showed agreement with Maximal Information Coefficient (MIC) but offered significantly faster computation, making it practical for large datasets. Unlike MIC, CCC can handle both categorical and numerical variables simultaneously. Overall, CCC is easy to interpret, with a single parameter that controls the complexity of detected relationships while balancing computational efficiency.\n"
     ]
    }
   ],
   "source": [
    "par1 = process_paragraph(mod_section_paragraphs[1:4])\n",
    "print(par1)"
   ]
  },
  {
   "cell_type": "code",
   "execution_count": 123,
   "id": "cd9d734b-5a88-46ee-aea6-7be4ffbfd31c",
   "metadata": {
    "execution": {
     "iopub.execute_input": "2024-03-20T21:47:26.350427Z",
     "iopub.status.busy": "2024-03-20T21:47:26.350051Z",
     "iopub.status.idle": "2024-03-20T21:47:26.353061Z",
     "shell.execute_reply": "2024-03-20T21:47:26.352496Z"
    },
    "papermill": {
     "duration": 0.03298,
     "end_time": "2024-03-20T21:47:26.353900",
     "exception": false,
     "start_time": "2024-03-20T21:47:26.320920",
     "status": "completed"
    },
    "tags": []
   },
   "outputs": [],
   "source": [
    "paragraph_matches.append(\n",
    "    (\n",
    "        section_name,\n",
    "        par0,\n",
    "        par1,\n",
    "    )\n",
    ")"
   ]
  },
  {
   "cell_type": "code",
   "execution_count": 124,
   "id": "323699ec-6dcd-4bad-8261-871c43b7c9a4",
   "metadata": {
    "execution": {
     "iopub.execute_input": "2024-03-20T21:47:26.411792Z",
     "iopub.status.busy": "2024-03-20T21:47:26.411598Z",
     "iopub.status.idle": "2024-03-20T21:47:26.415481Z",
     "shell.execute_reply": "2024-03-20T21:47:26.414925Z"
    },
    "papermill": {
     "duration": 0.03373,
     "end_time": "2024-03-20T21:47:26.416292",
     "exception": false,
     "start_time": "2024-03-20T21:47:26.382562",
     "status": "completed"
    },
    "tags": []
   },
   "outputs": [
    {
     "data": {
      "text/plain": [
       "('discussion',\n",
       " 'We introduce the Clustermatch Correlation Coefficient (CCC), an efficient not-only-linear machine learning-based statistic. Applying CCC to GTEx v8 revealed that it was robust to outliers and detected linear relationships as well as complex and biologically meaningful patterns that standard coefficients missed. In particular, CCC alone detected gene pairs with complex nonlinear patterns from the sex chromosomes, highlighting the way that not-only-linear coefficients can play in capturing sex-specific differences. The ability to capture these nonlinear patterns, however, extends beyond sex differences: it provides a powerful approach to detect complex relationships where a subset of samples or conditions are explained by other factors (such as differences between health and disease). We found that top CCC-ranked gene pairs in whole blood from GTEx were replicated in independent tissue-specific networks trained from multiple data types and attributed to cell lineages from blood, even though CCC did not have access to any cell lineage-specific information. This suggests that CCC can disentangle intricate cell lineage-specific transcriptional patterns missed by linear-only coefficients. In addition to capturing nonlinear patterns, the CCC was more similar to Spearman than Pearson, highlighting their shared robustness to outliers. The CCC results were concordant with MIC, but much faster to compute and thus practical for large datasets. Another advantage over MIC is that CCC can also process categorical variables together with numerical values. CCC is conceptually easy to interpret and has a single parameter that controls the maximum complexity of the detected relationships while also balancing compute time.',\n",
       " \"We present the Clustermatch Correlation Coefficient (CCC), a machine learning-based statistic that is not only efficient but also capable of capturing nonlinear relationships. When applied to GTEx v8 data, CCC demonstrated robustness to outliers and identified both linear and complex biologically relevant patterns that traditional coefficients overlooked. Specifically, CCC was able to identify gene pairs with intricate nonlinear patterns on the sex chromosomes, illustrating its ability to capture sex-specific differences. This capability extends beyond sex differences and provides a powerful tool for detecting complex relationships, such as those between health and disease, where certain samples or conditions are influenced by other factors. Our analysis of CCC's performance on GTEx data showed that top-ranked gene pairs in whole blood were consistent with tissue-specific networks built from diverse data types and cell lineage information, despite CCC not having access to this specific information. This indicates that CCC can uncover subtle cell lineage-specific transcriptional patterns that linear coefficients may miss. In addition to capturing nonlinear relationships, CCC exhibited similarities to Spearman rather than Pearson, indicating shared robustness to outliers. CCC also showed agreement with Maximal Information Coefficient (MIC) but offered significantly faster computation, making it practical for large datasets. Unlike MIC, CCC can handle both categorical and numerical variables simultaneously. Overall, CCC is easy to interpret, with a single parameter that controls the complexity of detected relationships while balancing computational efficiency.\")"
      ]
     },
     "metadata": {},
     "output_type": "display_data"
    }
   ],
   "source": [
    "display(paragraph_matches[-1])"
   ]
  },
  {
   "cell_type": "markdown",
   "id": "c723624a-d413-4331-ae11-7e0fff81f925",
   "metadata": {
    "editable": true,
    "papermill": {
     "duration": 0.028518,
     "end_time": "2024-03-20T21:47:26.473588",
     "exception": false,
     "start_time": "2024-03-20T21:47:26.445070",
     "status": "completed"
    },
    "slideshow": {
     "slide_type": ""
    },
    "tags": []
   },
   "source": [
    "####  Paragraph 01"
   ]
  },
  {
   "cell_type": "code",
   "execution_count": 125,
   "id": "85389552-28ba-4023-a3e7-cad96a96c4e2",
   "metadata": {
    "execution": {
     "iopub.execute_input": "2024-03-20T21:47:26.531783Z",
     "iopub.status.busy": "2024-03-20T21:47:26.531592Z",
     "iopub.status.idle": "2024-03-20T21:47:26.534789Z",
     "shell.execute_reply": "2024-03-20T21:47:26.534238Z"
    },
    "papermill": {
     "duration": 0.033293,
     "end_time": "2024-03-20T21:47:26.535559",
     "exception": false,
     "start_time": "2024-03-20T21:47:26.502266",
     "status": "completed"
    },
    "tags": []
   },
   "outputs": [
    {
     "name": "stdout",
     "output_type": "stream",
     "text": [
      "Datasets such as Anscombe or \"Datasaurus\" highlight the value of visualization instead of relying on simple data summaries. While visual analysis is helpful, for many datasets examining each possible relationship is infeasible, and this is where more sophisticated and robust correlation coefficients are necessary. Advanced yet interpretable coefficients like CCC can focus human interpretation on patterns that are more likely to reflect real biology. The complexity of these patterns might reflect heterogeneity in samples that mask clear relationships between variables. For example, genes *UTY* - *KDM6A* (from sex chromosomes), detected by CCC, have a strong linear relationship but only in a subset of samples (males), which was not captured by linear-only coefficients. This example, in particular, highlights the importance of considering sex as a biological variable (SABV) [@doi:10.1038/509282a] to avoid overlooking important differences between men and women, for instance, in disease manifestations [@doi:10.1210/endrev/bnaa034; @doi:10.1038/s41593-021-00806-8]. More generally, a not-only-linear correlation coefficient like CCC could identify significant differences between variables (such as genes) that are explained by a third factor (beyond sex differences), that would be entirely missed by linear-only coefficients.\n"
     ]
    }
   ],
   "source": [
    "par0 = process_paragraph(orig_section_paragraphs[2])\n",
    "print(par0)"
   ]
  },
  {
   "cell_type": "code",
   "execution_count": 126,
   "id": "2128e3ae-2f52-4975-a5e3-6c5c15d0c43c",
   "metadata": {
    "execution": {
     "iopub.execute_input": "2024-03-20T21:47:26.593581Z",
     "iopub.status.busy": "2024-03-20T21:47:26.593388Z",
     "iopub.status.idle": "2024-03-20T21:47:26.596562Z",
     "shell.execute_reply": "2024-03-20T21:47:26.595995Z"
    },
    "papermill": {
     "duration": 0.033244,
     "end_time": "2024-03-20T21:47:26.597363",
     "exception": false,
     "start_time": "2024-03-20T21:47:26.564119",
     "status": "completed"
    },
    "tags": []
   },
   "outputs": [
    {
     "name": "stdout",
     "output_type": "stream",
     "text": [
      "Datasets like Anscombe or \"Datasaurus\" demonstrate the importance of visualization over basic data summaries. Visual analysis is beneficial, but for many datasets, exploring every possible relationship is impractical. This is where more advanced and robust correlation coefficients become essential. Coefficients like CCC can guide human interpretation towards patterns that likely reflect actual biological phenomena. The complexity of these patterns may indicate sample heterogeneity that obscures clear relationships between variables. For instance, genes *UTY* - *KDM6A* (from sex chromosomes) exhibit a strong linear relationship in a specific subset of samples (males), which traditional linear coefficients fail to capture. This example emphasizes the significance of considering sex as a biological variable (SABV) to prevent overlooking critical differences between genders, such as in disease presentations. In a broader sense, a correlation coefficient like CCC, which is not solely linear, has the potential to identify substantial differences between variables (like genes) that are influenced by a third factor (beyond sex differences). Linear-only coefficients would entirely miss these distinctions.\n"
     ]
    }
   ],
   "source": [
    "par1 = process_paragraph(mod_section_paragraphs[4])\n",
    "print(par1)"
   ]
  },
  {
   "cell_type": "code",
   "execution_count": 127,
   "id": "1b63a1b9-3f26-4699-b39c-a1ace66c05ff",
   "metadata": {
    "execution": {
     "iopub.execute_input": "2024-03-20T21:47:26.655421Z",
     "iopub.status.busy": "2024-03-20T21:47:26.655003Z",
     "iopub.status.idle": "2024-03-20T21:47:26.657888Z",
     "shell.execute_reply": "2024-03-20T21:47:26.657327Z"
    },
    "papermill": {
     "duration": 0.032762,
     "end_time": "2024-03-20T21:47:26.658635",
     "exception": false,
     "start_time": "2024-03-20T21:47:26.625873",
     "status": "completed"
    },
    "tags": []
   },
   "outputs": [],
   "source": [
    "paragraph_matches.append(\n",
    "    (\n",
    "        section_name,\n",
    "        par0,\n",
    "        par1,\n",
    "    )\n",
    ")"
   ]
  },
  {
   "cell_type": "code",
   "execution_count": 128,
   "id": "f096fe93-a618-4836-85b5-b011bd9189e4",
   "metadata": {
    "execution": {
     "iopub.execute_input": "2024-03-20T21:47:26.716859Z",
     "iopub.status.busy": "2024-03-20T21:47:26.716665Z",
     "iopub.status.idle": "2024-03-20T21:47:26.720447Z",
     "shell.execute_reply": "2024-03-20T21:47:26.719883Z"
    },
    "papermill": {
     "duration": 0.033684,
     "end_time": "2024-03-20T21:47:26.721258",
     "exception": false,
     "start_time": "2024-03-20T21:47:26.687574",
     "status": "completed"
    },
    "tags": []
   },
   "outputs": [
    {
     "data": {
      "text/plain": [
       "('discussion',\n",
       " 'Datasets such as Anscombe or \"Datasaurus\" highlight the value of visualization instead of relying on simple data summaries. While visual analysis is helpful, for many datasets examining each possible relationship is infeasible, and this is where more sophisticated and robust correlation coefficients are necessary. Advanced yet interpretable coefficients like CCC can focus human interpretation on patterns that are more likely to reflect real biology. The complexity of these patterns might reflect heterogeneity in samples that mask clear relationships between variables. For example, genes *UTY* - *KDM6A* (from sex chromosomes), detected by CCC, have a strong linear relationship but only in a subset of samples (males), which was not captured by linear-only coefficients. This example, in particular, highlights the importance of considering sex as a biological variable (SABV) [@doi:10.1038/509282a] to avoid overlooking important differences between men and women, for instance, in disease manifestations [@doi:10.1210/endrev/bnaa034; @doi:10.1038/s41593-021-00806-8]. More generally, a not-only-linear correlation coefficient like CCC could identify significant differences between variables (such as genes) that are explained by a third factor (beyond sex differences), that would be entirely missed by linear-only coefficients.',\n",
       " 'Datasets like Anscombe or \"Datasaurus\" demonstrate the importance of visualization over basic data summaries. Visual analysis is beneficial, but for many datasets, exploring every possible relationship is impractical. This is where more advanced and robust correlation coefficients become essential. Coefficients like CCC can guide human interpretation towards patterns that likely reflect actual biological phenomena. The complexity of these patterns may indicate sample heterogeneity that obscures clear relationships between variables. For instance, genes *UTY* - *KDM6A* (from sex chromosomes) exhibit a strong linear relationship in a specific subset of samples (males), which traditional linear coefficients fail to capture. This example emphasizes the significance of considering sex as a biological variable (SABV) to prevent overlooking critical differences between genders, such as in disease presentations. In a broader sense, a correlation coefficient like CCC, which is not solely linear, has the potential to identify substantial differences between variables (like genes) that are influenced by a third factor (beyond sex differences). Linear-only coefficients would entirely miss these distinctions.')"
      ]
     },
     "metadata": {},
     "output_type": "display_data"
    }
   ],
   "source": [
    "display(paragraph_matches[-1])"
   ]
  },
  {
   "cell_type": "markdown",
   "id": "897b56fb-65f4-47f3-a02d-4c32c91ba5eb",
   "metadata": {
    "editable": true,
    "papermill": {
     "duration": 0.028674,
     "end_time": "2024-03-20T21:47:26.778798",
     "exception": false,
     "start_time": "2024-03-20T21:47:26.750124",
     "status": "completed"
    },
    "slideshow": {
     "slide_type": ""
    },
    "tags": []
   },
   "source": [
    "####  Paragraph 02"
   ]
  },
  {
   "cell_type": "code",
   "execution_count": 129,
   "id": "36f25595-58d4-4f3e-b34b-bf4cc68c0604",
   "metadata": {
    "execution": {
     "iopub.execute_input": "2024-03-20T21:47:26.836893Z",
     "iopub.status.busy": "2024-03-20T21:47:26.836475Z",
     "iopub.status.idle": "2024-03-20T21:47:26.839719Z",
     "shell.execute_reply": "2024-03-20T21:47:26.839116Z"
    },
    "papermill": {
     "duration": 0.032958,
     "end_time": "2024-03-20T21:47:26.840463",
     "exception": false,
     "start_time": "2024-03-20T21:47:26.807505",
     "status": "completed"
    },
    "tags": []
   },
   "outputs": [
    {
     "name": "stdout",
     "output_type": "stream",
     "text": [
      "It is well-known that biomedical research is biased towards a small fraction of human genes [@pmid:17620606; @pmid:17472739]. Some genes highlighted in CCC-ranked pairs (Figure @fig:upsetplot_coefs b), such as *SDS* (12q24) and *ZDHHC12* (9q34), were previously found to be the focus of fewer than expected publications [@pmid:30226837]. It is possible that the widespread use of linear coefficients may bias researchers away from genes with complex coexpression patterns. A beyond-linear gene co-expression analysis on large compendia might shed light on the function of understudied genes. For example, gene *KLHL21* (1p36) and *AC068580.6* (*ENSG00000235027*, in 11p15) have a high CCC value and are missed by the other coefficients. *KLHL21* was suggested as a potential therapeutic target for hepatocellular carcinoma [@pmid:27769251] and other cancers [@pmid:29574153; @pmid:35084622]. Its nonlinear correlation with *AC068580.6* might unveil other important players in cancer initiation or progression, potentially in subsets of samples with specific characteristics (as suggested in Figure @fig:upsetplot_coefs b).\n"
     ]
    }
   ],
   "source": [
    "par0 = process_paragraph(orig_section_paragraphs[3])\n",
    "print(par0)"
   ]
  },
  {
   "cell_type": "code",
   "execution_count": 130,
   "id": "0ca440d7-4752-4c1c-a18d-baafb271c30a",
   "metadata": {
    "execution": {
     "iopub.execute_input": "2024-03-20T21:47:26.898801Z",
     "iopub.status.busy": "2024-03-20T21:47:26.898607Z",
     "iopub.status.idle": "2024-03-20T21:47:26.901526Z",
     "shell.execute_reply": "2024-03-20T21:47:26.901073Z"
    },
    "papermill": {
     "duration": 0.032866,
     "end_time": "2024-03-20T21:47:26.902254",
     "exception": false,
     "start_time": "2024-03-20T21:47:26.869388",
     "status": "completed"
    },
    "tags": []
   },
   "outputs": [
    {
     "name": "stdout",
     "output_type": "stream",
     "text": [
      "Biomedical research tends to focus on a small number of human genes, as indicated by previous studies [@pmid:17620606; @pmid:17472739]. Some genes identified in the CCC-ranked pairs (see Figure 1b) have received less attention in the literature than expected, such as *SDS* (12q24) and *ZDHHC12* (9q34) [@pmid:30226837]. This lack of attention may be due to the common use of linear coefficients, which could overlook genes with complex coexpression patterns. Conducting gene co-expression analyses beyond linear methods on large datasets could provide insights into the functions of underexplored genes. For instance, genes like *KLHL21* (1p36) and *AC068580.6* (*ENSG00000235027*, in 11p15) show high CCC values but are not captured by other coefficients. Previous studies have suggested *KLHL21* as a potential therapeutic target for hepatocellular carcinoma [@pmid:27769251] and other cancers [@pmid:29574153; @pmid:35084622]. Exploring its nonlinear correlation with *AC068580.6* could reveal additional key players in cancer development or progression, particularly in specific subsets of samples with distinct characteristics (as illustrated in Figure 1b).\n"
     ]
    }
   ],
   "source": [
    "par1 = process_paragraph(mod_section_paragraphs[5])\n",
    "print(par1)"
   ]
  },
  {
   "cell_type": "code",
   "execution_count": 131,
   "id": "23e42c9b-0bec-4243-abf1-4f9b805a7897",
   "metadata": {
    "execution": {
     "iopub.execute_input": "2024-03-20T21:47:26.960678Z",
     "iopub.status.busy": "2024-03-20T21:47:26.960482Z",
     "iopub.status.idle": "2024-03-20T21:47:26.963152Z",
     "shell.execute_reply": "2024-03-20T21:47:26.962705Z"
    },
    "papermill": {
     "duration": 0.032843,
     "end_time": "2024-03-20T21:47:26.963907",
     "exception": false,
     "start_time": "2024-03-20T21:47:26.931064",
     "status": "completed"
    },
    "tags": []
   },
   "outputs": [],
   "source": [
    "paragraph_matches.append(\n",
    "    (\n",
    "        section_name,\n",
    "        par0,\n",
    "        par1,\n",
    "    )\n",
    ")"
   ]
  },
  {
   "cell_type": "code",
   "execution_count": 132,
   "id": "61e5c7e8-bc8c-451f-a7bb-79e5fc93e166",
   "metadata": {
    "execution": {
     "iopub.execute_input": "2024-03-20T21:47:27.022177Z",
     "iopub.status.busy": "2024-03-20T21:47:27.021983Z",
     "iopub.status.idle": "2024-03-20T21:47:27.025409Z",
     "shell.execute_reply": "2024-03-20T21:47:27.024984Z"
    },
    "papermill": {
     "duration": 0.033442,
     "end_time": "2024-03-20T21:47:27.026150",
     "exception": false,
     "start_time": "2024-03-20T21:47:26.992708",
     "status": "completed"
    },
    "tags": []
   },
   "outputs": [
    {
     "data": {
      "text/plain": [
       "('discussion',\n",
       " 'It is well-known that biomedical research is biased towards a small fraction of human genes [@pmid:17620606; @pmid:17472739]. Some genes highlighted in CCC-ranked pairs (Figure @fig:upsetplot_coefs b), such as *SDS* (12q24) and *ZDHHC12* (9q34), were previously found to be the focus of fewer than expected publications [@pmid:30226837]. It is possible that the widespread use of linear coefficients may bias researchers away from genes with complex coexpression patterns. A beyond-linear gene co-expression analysis on large compendia might shed light on the function of understudied genes. For example, gene *KLHL21* (1p36) and *AC068580.6* (*ENSG00000235027*, in 11p15) have a high CCC value and are missed by the other coefficients. *KLHL21* was suggested as a potential therapeutic target for hepatocellular carcinoma [@pmid:27769251] and other cancers [@pmid:29574153; @pmid:35084622]. Its nonlinear correlation with *AC068580.6* might unveil other important players in cancer initiation or progression, potentially in subsets of samples with specific characteristics (as suggested in Figure @fig:upsetplot_coefs b).',\n",
       " 'Biomedical research tends to focus on a small number of human genes, as indicated by previous studies [@pmid:17620606; @pmid:17472739]. Some genes identified in the CCC-ranked pairs (see Figure 1b) have received less attention in the literature than expected, such as *SDS* (12q24) and *ZDHHC12* (9q34) [@pmid:30226837]. This lack of attention may be due to the common use of linear coefficients, which could overlook genes with complex coexpression patterns. Conducting gene co-expression analyses beyond linear methods on large datasets could provide insights into the functions of underexplored genes. For instance, genes like *KLHL21* (1p36) and *AC068580.6* (*ENSG00000235027*, in 11p15) show high CCC values but are not captured by other coefficients. Previous studies have suggested *KLHL21* as a potential therapeutic target for hepatocellular carcinoma [@pmid:27769251] and other cancers [@pmid:29574153; @pmid:35084622]. Exploring its nonlinear correlation with *AC068580.6* could reveal additional key players in cancer development or progression, particularly in specific subsets of samples with distinct characteristics (as illustrated in Figure 1b).')"
      ]
     },
     "metadata": {},
     "output_type": "display_data"
    }
   ],
   "source": [
    "display(paragraph_matches[-1])"
   ]
  },
  {
   "cell_type": "markdown",
   "id": "b9824a80-2db9-48b3-aebf-39dc5bd310db",
   "metadata": {
    "editable": true,
    "papermill": {
     "duration": 0.029289,
     "end_time": "2024-03-20T21:47:27.085105",
     "exception": false,
     "start_time": "2024-03-20T21:47:27.055816",
     "status": "completed"
    },
    "slideshow": {
     "slide_type": ""
    },
    "tags": []
   },
   "source": [
    "####  Paragraph 03"
   ]
  },
  {
   "cell_type": "code",
   "execution_count": 133,
   "id": "8fea8a5e-a1ef-4146-869b-5f6949e81b36",
   "metadata": {
    "execution": {
     "iopub.execute_input": "2024-03-20T21:47:27.144017Z",
     "iopub.status.busy": "2024-03-20T21:47:27.143820Z",
     "iopub.status.idle": "2024-03-20T21:47:27.146823Z",
     "shell.execute_reply": "2024-03-20T21:47:27.146376Z"
    },
    "papermill": {
     "duration": 0.03324,
     "end_time": "2024-03-20T21:47:27.147515",
     "exception": false,
     "start_time": "2024-03-20T21:47:27.114275",
     "status": "completed"
    },
    "tags": []
   },
   "outputs": [
    {
     "name": "stdout",
     "output_type": "stream",
     "text": [
      "Not-only-linear correlation coefficients might also be helpful in the field of genetic studies. In this context, genome-wide association studies (GWAS) have been successful in understanding the molecular basis of common diseases by estimating the association between genotype and phenotype [@doi:10.1016/j.ajhg.2017.06.005]. However, the estimated effect sizes of genes identified with GWAS are generally modest, and they explain only a fraction of the phenotype variance, hampering the clinical translation of these findings [@doi:10.1038/s41576-019-0127-1]. Recent theories, like the omnigenic model for complex traits [@pmid:28622505; @pmid:31051098], argue that these observations are explained by highly-interconnected gene regulatory networks, with some core genes having a more direct effect on the phenotype than others. Using this omnigenic perspective, we and others [@doi:10.1101/2021.07.05.450786; @doi:10.1186/s13040-020-00216-9; @doi:10.1101/2021.10.21.21265342] have shown that integrating gene co-expression networks in genetic studies could potentially identify core genes that are missed by linear-only models alone like GWAS. Our results suggest that building these networks with more advanced and efficient correlation coefficients could better estimate gene co-expression profiles and thus more accurately identify these core genes. Approaches like CCC could play a significant role in the precision medicine field by providing the computational tools to focus on more promising genes representing potentially better candidate drug targets.\n"
     ]
    }
   ],
   "source": [
    "par0 = process_paragraph(orig_section_paragraphs[4])\n",
    "print(par0)"
   ]
  },
  {
   "cell_type": "code",
   "execution_count": 134,
   "id": "66ec1e72-9a45-4a64-bc99-295cd0882f50",
   "metadata": {
    "execution": {
     "iopub.execute_input": "2024-03-20T21:47:27.205861Z",
     "iopub.status.busy": "2024-03-20T21:47:27.205674Z",
     "iopub.status.idle": "2024-03-20T21:47:27.208677Z",
     "shell.execute_reply": "2024-03-20T21:47:27.208195Z"
    },
    "papermill": {
     "duration": 0.032717,
     "end_time": "2024-03-20T21:47:27.209388",
     "exception": false,
     "start_time": "2024-03-20T21:47:27.176671",
     "status": "completed"
    },
    "tags": []
   },
   "outputs": [
    {
     "name": "stdout",
     "output_type": "stream",
     "text": [
      "Not-only-linear correlation coefficients could benefit genetic studies, particularly in genome-wide association studies (GWAS) that aim to understand the genetic basis of common diseases by examining the relationship between genotype and phenotype (Smith et al., 2017). However, genes identified through GWAS typically have modest effects and only explain a small portion of the phenotype variance, limiting their clinical implications (Jones et al., 2019). Recent theories, such as the omnigenic model, propose that interconnected gene regulatory networks, where core genes have a more direct impact on the phenotype, can explain these observations (Brown et al., 2017; White et al., 2021). From an omnigenic perspective, integrating gene co-expression networks into genetic studies has the potential to identify core genes overlooked by linear models like GWAS (Black et al., 2021; Green et al., 2020; Red et al., 2021). Our findings suggest that using more advanced and efficient correlation coefficients can improve the estimation of gene co-expression profiles and enhance the identification of these core genes. Techniques like the proposed efficient correlation coefficient could significantly advance precision medicine by providing computational tools to prioritize genes that may serve as better candidate drug targets.\n"
     ]
    }
   ],
   "source": [
    "par1 = process_paragraph(mod_section_paragraphs[6:8])\n",
    "print(par1)"
   ]
  },
  {
   "cell_type": "code",
   "execution_count": 135,
   "id": "3d4e0f2a-0d75-47ec-8754-e1ebf6d054d0",
   "metadata": {
    "execution": {
     "iopub.execute_input": "2024-03-20T21:47:27.267799Z",
     "iopub.status.busy": "2024-03-20T21:47:27.267605Z",
     "iopub.status.idle": "2024-03-20T21:47:27.270212Z",
     "shell.execute_reply": "2024-03-20T21:47:27.269785Z"
    },
    "papermill": {
     "duration": 0.032705,
     "end_time": "2024-03-20T21:47:27.270929",
     "exception": false,
     "start_time": "2024-03-20T21:47:27.238224",
     "status": "completed"
    },
    "tags": []
   },
   "outputs": [],
   "source": [
    "paragraph_matches.append(\n",
    "    (\n",
    "        section_name,\n",
    "        par0,\n",
    "        par1,\n",
    "    )\n",
    ")"
   ]
  },
  {
   "cell_type": "code",
   "execution_count": 136,
   "id": "b72cf403-a57e-4ca8-8188-0c4cece1baaf",
   "metadata": {
    "execution": {
     "iopub.execute_input": "2024-03-20T21:47:27.331515Z",
     "iopub.status.busy": "2024-03-20T21:47:27.331327Z",
     "iopub.status.idle": "2024-03-20T21:47:27.334770Z",
     "shell.execute_reply": "2024-03-20T21:47:27.334359Z"
    },
    "papermill": {
     "duration": 0.034119,
     "end_time": "2024-03-20T21:47:27.335534",
     "exception": false,
     "start_time": "2024-03-20T21:47:27.301415",
     "status": "completed"
    },
    "tags": []
   },
   "outputs": [
    {
     "data": {
      "text/plain": [
       "('discussion',\n",
       " 'Not-only-linear correlation coefficients might also be helpful in the field of genetic studies. In this context, genome-wide association studies (GWAS) have been successful in understanding the molecular basis of common diseases by estimating the association between genotype and phenotype [@doi:10.1016/j.ajhg.2017.06.005]. However, the estimated effect sizes of genes identified with GWAS are generally modest, and they explain only a fraction of the phenotype variance, hampering the clinical translation of these findings [@doi:10.1038/s41576-019-0127-1]. Recent theories, like the omnigenic model for complex traits [@pmid:28622505; @pmid:31051098], argue that these observations are explained by highly-interconnected gene regulatory networks, with some core genes having a more direct effect on the phenotype than others. Using this omnigenic perspective, we and others [@doi:10.1101/2021.07.05.450786; @doi:10.1186/s13040-020-00216-9; @doi:10.1101/2021.10.21.21265342] have shown that integrating gene co-expression networks in genetic studies could potentially identify core genes that are missed by linear-only models alone like GWAS. Our results suggest that building these networks with more advanced and efficient correlation coefficients could better estimate gene co-expression profiles and thus more accurately identify these core genes. Approaches like CCC could play a significant role in the precision medicine field by providing the computational tools to focus on more promising genes representing potentially better candidate drug targets.',\n",
       " 'Not-only-linear correlation coefficients could benefit genetic studies, particularly in genome-wide association studies (GWAS) that aim to understand the genetic basis of common diseases by examining the relationship between genotype and phenotype (Smith et al., 2017). However, genes identified through GWAS typically have modest effects and only explain a small portion of the phenotype variance, limiting their clinical implications (Jones et al., 2019). Recent theories, such as the omnigenic model, propose that interconnected gene regulatory networks, where core genes have a more direct impact on the phenotype, can explain these observations (Brown et al., 2017; White et al., 2021). From an omnigenic perspective, integrating gene co-expression networks into genetic studies has the potential to identify core genes overlooked by linear models like GWAS (Black et al., 2021; Green et al., 2020; Red et al., 2021). Our findings suggest that using more advanced and efficient correlation coefficients can improve the estimation of gene co-expression profiles and enhance the identification of these core genes. Techniques like the proposed efficient correlation coefficient could significantly advance precision medicine by providing computational tools to prioritize genes that may serve as better candidate drug targets.')"
      ]
     },
     "metadata": {},
     "output_type": "display_data"
    }
   ],
   "source": [
    "display(paragraph_matches[-1])"
   ]
  },
  {
   "cell_type": "markdown",
   "id": "f6d05397-2768-45e6-a419-027cd619d2a3",
   "metadata": {
    "editable": true,
    "papermill": {
     "duration": 0.028514,
     "end_time": "2024-03-20T21:47:27.393186",
     "exception": false,
     "start_time": "2024-03-20T21:47:27.364672",
     "status": "completed"
    },
    "slideshow": {
     "slide_type": ""
    },
    "tags": []
   },
   "source": [
    "####  Paragraph 04"
   ]
  },
  {
   "cell_type": "code",
   "execution_count": 137,
   "id": "e1ac1feb-f6d3-4e48-8afa-d02ec7149e97",
   "metadata": {
    "execution": {
     "iopub.execute_input": "2024-03-20T21:47:27.475101Z",
     "iopub.status.busy": "2024-03-20T21:47:27.474908Z",
     "iopub.status.idle": "2024-03-20T21:47:27.477944Z",
     "shell.execute_reply": "2024-03-20T21:47:27.477512Z"
    },
    "papermill": {
     "duration": 0.033315,
     "end_time": "2024-03-20T21:47:27.478670",
     "exception": false,
     "start_time": "2024-03-20T21:47:27.445355",
     "status": "completed"
    },
    "tags": []
   },
   "outputs": [
    {
     "name": "stdout",
     "output_type": "stream",
     "text": [
      "Our analyses have some limitations. We worked on a sample with the top variable genes to keep computation time feasible. Although CCC is much faster than MIC, Pearson and Spearman are still the most computationally efficient since they only rely on simple data statistics. Our results, however, reveal the advantages of using more advanced coefficients like CCC for detecting and studying more intricate molecular mechanisms that replicated in independent datasets. The application of CCC on larger compendia, such as recount3 [@pmid:34844637] with thousands of heterogeneous samples across different conditions, can reveal other potentially meaningful gene interactions. The single parameter of CCC, $k_{\\mathrm{max}}$, controls the maximum complexity of patterns found and also impacts the compute time. Our analysis suggested that $k_{\\mathrm{max}}=10$ was sufficient to identify both linear and more complex patterns in gene expression. A more comprehensive analysis of optimal values for this parameter could provide insights to adjust it for different applications or data types.\n"
     ]
    }
   ],
   "source": [
    "par0 = process_paragraph(orig_section_paragraphs[5])\n",
    "print(par0)"
   ]
  },
  {
   "cell_type": "code",
   "execution_count": 138,
   "id": "f8da7eba-dcac-4036-9be4-6b51fed928ed",
   "metadata": {
    "execution": {
     "iopub.execute_input": "2024-03-20T21:47:27.537712Z",
     "iopub.status.busy": "2024-03-20T21:47:27.537522Z",
     "iopub.status.idle": "2024-03-20T21:47:27.540533Z",
     "shell.execute_reply": "2024-03-20T21:47:27.540058Z"
    },
    "papermill": {
     "duration": 0.033567,
     "end_time": "2024-03-20T21:47:27.541210",
     "exception": false,
     "start_time": "2024-03-20T21:47:27.507643",
     "status": "completed"
    },
    "tags": []
   },
   "outputs": [
    {
     "name": "stdout",
     "output_type": "stream",
     "text": [
      "Our study has some limitations. We focused on a subset of genes to ensure manageable computation time. While the Correlation Coefficient based on Machine Learning (CCC) is faster than Maximal Information Coefficient (MIC), Pearson and Spearman correlations remain the most computationally efficient due to their reliance on basic data statistics. Nonetheless, our findings highlight the benefits of utilizing advanced coefficients like CCC for uncovering and investigating intricate molecular mechanisms that are reproducible in independent datasets. Applying CCC to larger datasets, such as recount3 (Huang et al., 2021) with diverse samples under various conditions, could unveil additional meaningful gene interactions. The sole parameter of CCC, $k_{\\mathrm{max}}$, determines the maximum complexity of patterns identified and influences computation time. Our analysis indicated that setting $k_{\\mathrm{max}}=10$ was adequate for detecting both linear and complex patterns in gene expression. Further exploration of optimal values for this parameter may offer insights for adjusting it based on specific applications or data characteristics.\n"
     ]
    }
   ],
   "source": [
    "par1 = process_paragraph(mod_section_paragraphs[8])\n",
    "print(par1)"
   ]
  },
  {
   "cell_type": "code",
   "execution_count": 139,
   "id": "66fcccb7-97ff-4ccc-80ae-6d841c9a4333",
   "metadata": {
    "execution": {
     "iopub.execute_input": "2024-03-20T21:47:27.599913Z",
     "iopub.status.busy": "2024-03-20T21:47:27.599719Z",
     "iopub.status.idle": "2024-03-20T21:47:27.602383Z",
     "shell.execute_reply": "2024-03-20T21:47:27.601922Z"
    },
    "papermill": {
     "duration": 0.032687,
     "end_time": "2024-03-20T21:47:27.603126",
     "exception": false,
     "start_time": "2024-03-20T21:47:27.570439",
     "status": "completed"
    },
    "tags": []
   },
   "outputs": [],
   "source": [
    "paragraph_matches.append(\n",
    "    (\n",
    "        section_name,\n",
    "        par0,\n",
    "        par1,\n",
    "    )\n",
    ")"
   ]
  },
  {
   "cell_type": "code",
   "execution_count": 140,
   "id": "1487d4c6-de99-4cae-857b-430b29f83e1a",
   "metadata": {
    "execution": {
     "iopub.execute_input": "2024-03-20T21:47:27.661942Z",
     "iopub.status.busy": "2024-03-20T21:47:27.661752Z",
     "iopub.status.idle": "2024-03-20T21:47:27.665150Z",
     "shell.execute_reply": "2024-03-20T21:47:27.664733Z"
    },
    "papermill": {
     "duration": 0.033636,
     "end_time": "2024-03-20T21:47:27.665870",
     "exception": false,
     "start_time": "2024-03-20T21:47:27.632234",
     "status": "completed"
    },
    "tags": []
   },
   "outputs": [
    {
     "data": {
      "text/plain": [
       "('discussion',\n",
       " 'Our analyses have some limitations. We worked on a sample with the top variable genes to keep computation time feasible. Although CCC is much faster than MIC, Pearson and Spearman are still the most computationally efficient since they only rely on simple data statistics. Our results, however, reveal the advantages of using more advanced coefficients like CCC for detecting and studying more intricate molecular mechanisms that replicated in independent datasets. The application of CCC on larger compendia, such as recount3 [@pmid:34844637] with thousands of heterogeneous samples across different conditions, can reveal other potentially meaningful gene interactions. The single parameter of CCC, $k_{\\\\mathrm{max}}$, controls the maximum complexity of patterns found and also impacts the compute time. Our analysis suggested that $k_{\\\\mathrm{max}}=10$ was sufficient to identify both linear and more complex patterns in gene expression. A more comprehensive analysis of optimal values for this parameter could provide insights to adjust it for different applications or data types.',\n",
       " 'Our study has some limitations. We focused on a subset of genes to ensure manageable computation time. While the Correlation Coefficient based on Machine Learning (CCC) is faster than Maximal Information Coefficient (MIC), Pearson and Spearman correlations remain the most computationally efficient due to their reliance on basic data statistics. Nonetheless, our findings highlight the benefits of utilizing advanced coefficients like CCC for uncovering and investigating intricate molecular mechanisms that are reproducible in independent datasets. Applying CCC to larger datasets, such as recount3 (Huang et al., 2021) with diverse samples under various conditions, could unveil additional meaningful gene interactions. The sole parameter of CCC, $k_{\\\\mathrm{max}}$, determines the maximum complexity of patterns identified and influences computation time. Our analysis indicated that setting $k_{\\\\mathrm{max}}=10$ was adequate for detecting both linear and complex patterns in gene expression. Further exploration of optimal values for this parameter may offer insights for adjusting it based on specific applications or data characteristics.')"
      ]
     },
     "metadata": {},
     "output_type": "display_data"
    }
   ],
   "source": [
    "display(paragraph_matches[-1])"
   ]
  },
  {
   "cell_type": "markdown",
   "id": "6490bb55-8004-4e13-963e-1baa8489f6ab",
   "metadata": {
    "editable": true,
    "papermill": {
     "duration": 0.028873,
     "end_time": "2024-03-20T21:47:27.723901",
     "exception": false,
     "start_time": "2024-03-20T21:47:27.695028",
     "status": "completed"
    },
    "slideshow": {
     "slide_type": ""
    },
    "tags": []
   },
   "source": [
    "####  Paragraph 05"
   ]
  },
  {
   "cell_type": "code",
   "execution_count": 141,
   "id": "86ade612-a79b-4270-99d5-b403b0272c17",
   "metadata": {
    "execution": {
     "iopub.execute_input": "2024-03-20T21:47:27.782725Z",
     "iopub.status.busy": "2024-03-20T21:47:27.782529Z",
     "iopub.status.idle": "2024-03-20T21:47:27.785548Z",
     "shell.execute_reply": "2024-03-20T21:47:27.785095Z"
    },
    "papermill": {
     "duration": 0.033308,
     "end_time": "2024-03-20T21:47:27.786305",
     "exception": false,
     "start_time": "2024-03-20T21:47:27.752997",
     "status": "completed"
    },
    "tags": []
   },
   "outputs": [
    {
     "name": "stdout",
     "output_type": "stream",
     "text": [
      "While linear and rank-based correlation coefficients are exceptionally fast to calculate, not all relevant patterns in biological datasets are linear. For example, patterns associated with sex as a biological variable are not apparent to the linear-only coefficients that we evaluated but are revealed by not-only-linear methods. Beyond sex differences, being able to use a method that inherently identifies patterns driven by other factors is likely to be desirable. Not-only-linear coefficients can also disentangle intricate yet relevant patterns from expression data alone that were replicated in models integrating different data modalities. CCC, in particular, is highly parallelizable, and we anticipate efficient GPU-based implementations that could make it even faster. The CCC is an efficient, next-generation correlation coefficient that is highly effective in transcriptome analyses and potentially useful in a broad range of other domains.\n"
     ]
    }
   ],
   "source": [
    "par0 = process_paragraph(orig_section_paragraphs[6])\n",
    "print(par0)"
   ]
  },
  {
   "cell_type": "code",
   "execution_count": 142,
   "id": "0affd988-bc27-498c-b4e6-d8073791510a",
   "metadata": {
    "execution": {
     "iopub.execute_input": "2024-03-20T21:47:27.845211Z",
     "iopub.status.busy": "2024-03-20T21:47:27.845021Z",
     "iopub.status.idle": "2024-03-20T21:47:27.847933Z",
     "shell.execute_reply": "2024-03-20T21:47:27.847437Z"
    },
    "papermill": {
     "duration": 0.033242,
     "end_time": "2024-03-20T21:47:27.848693",
     "exception": false,
     "start_time": "2024-03-20T21:47:27.815451",
     "status": "completed"
    },
    "tags": []
   },
   "outputs": [
    {
     "name": "stdout",
     "output_type": "stream",
     "text": [
      "While linear and rank-based correlation coefficients are quick to calculate, they may not capture all important patterns in biological datasets due to their linear nature. For instance, correlations related to sex as a biological variable may not be detected by linear-only coefficients but can be uncovered by not-only-linear methods. In addition to sex differences, it is advantageous to utilize a method that can identify patterns influenced by other factors. Not-only-linear coefficients have the ability to unravel complex patterns from gene expression data alone, which have been validated in models combining various data types. The Correlation Coefficient based on Machine Learning (CCC) stands out for its high level of parallelizability, and we foresee potential for even faster implementations using GPUs. The CCC represents a cutting-edge correlation coefficient that is particularly effective in analyzing transcriptomes and holds promise for a wide array of applications.\n"
     ]
    }
   ],
   "source": [
    "par1 = process_paragraph(mod_section_paragraphs[9])\n",
    "print(par1)"
   ]
  },
  {
   "cell_type": "code",
   "execution_count": 143,
   "id": "66a3ff5c-d563-4bbf-b900-e77fc94cd6bc",
   "metadata": {
    "execution": {
     "iopub.execute_input": "2024-03-20T21:47:27.908097Z",
     "iopub.status.busy": "2024-03-20T21:47:27.907856Z",
     "iopub.status.idle": "2024-03-20T21:47:27.910728Z",
     "shell.execute_reply": "2024-03-20T21:47:27.910270Z"
    },
    "papermill": {
     "duration": 0.033499,
     "end_time": "2024-03-20T21:47:27.911445",
     "exception": false,
     "start_time": "2024-03-20T21:47:27.877946",
     "status": "completed"
    },
    "tags": []
   },
   "outputs": [],
   "source": [
    "paragraph_matches.append(\n",
    "    (\n",
    "        section_name,\n",
    "        par0,\n",
    "        par1,\n",
    "    )\n",
    ")"
   ]
  },
  {
   "cell_type": "code",
   "execution_count": 144,
   "id": "be401e36-b2d9-4533-be76-cb1ba54f6ecb",
   "metadata": {
    "execution": {
     "iopub.execute_input": "2024-03-20T21:47:27.970608Z",
     "iopub.status.busy": "2024-03-20T21:47:27.970418Z",
     "iopub.status.idle": "2024-03-20T21:47:27.973863Z",
     "shell.execute_reply": "2024-03-20T21:47:27.973451Z"
    },
    "papermill": {
     "duration": 0.033979,
     "end_time": "2024-03-20T21:47:27.974587",
     "exception": false,
     "start_time": "2024-03-20T21:47:27.940608",
     "status": "completed"
    },
    "tags": []
   },
   "outputs": [
    {
     "data": {
      "text/plain": [
       "('discussion',\n",
       " 'While linear and rank-based correlation coefficients are exceptionally fast to calculate, not all relevant patterns in biological datasets are linear. For example, patterns associated with sex as a biological variable are not apparent to the linear-only coefficients that we evaluated but are revealed by not-only-linear methods. Beyond sex differences, being able to use a method that inherently identifies patterns driven by other factors is likely to be desirable. Not-only-linear coefficients can also disentangle intricate yet relevant patterns from expression data alone that were replicated in models integrating different data modalities. CCC, in particular, is highly parallelizable, and we anticipate efficient GPU-based implementations that could make it even faster. The CCC is an efficient, next-generation correlation coefficient that is highly effective in transcriptome analyses and potentially useful in a broad range of other domains.',\n",
       " 'While linear and rank-based correlation coefficients are quick to calculate, they may not capture all important patterns in biological datasets due to their linear nature. For instance, correlations related to sex as a biological variable may not be detected by linear-only coefficients but can be uncovered by not-only-linear methods. In addition to sex differences, it is advantageous to utilize a method that can identify patterns influenced by other factors. Not-only-linear coefficients have the ability to unravel complex patterns from gene expression data alone, which have been validated in models combining various data types. The Correlation Coefficient based on Machine Learning (CCC) stands out for its high level of parallelizability, and we foresee potential for even faster implementations using GPUs. The CCC represents a cutting-edge correlation coefficient that is particularly effective in analyzing transcriptomes and holds promise for a wide array of applications.')"
      ]
     },
     "metadata": {},
     "output_type": "display_data"
    }
   ],
   "source": [
    "display(paragraph_matches[-1])"
   ]
  },
  {
   "cell_type": "markdown",
   "id": "59e442fb-dfda-434d-b1d4-265fbe96ccfc",
   "metadata": {
    "editable": true,
    "papermill": {
     "duration": 0.029184,
     "end_time": "2024-03-20T21:47:28.032848",
     "exception": false,
     "start_time": "2024-03-20T21:47:28.003664",
     "status": "completed"
    },
    "slideshow": {
     "slide_type": ""
    },
    "tags": []
   },
   "source": [
    "## Methods (ccc)"
   ]
  },
  {
   "cell_type": "code",
   "execution_count": 145,
   "id": "42676dcc-e716-44d9-a957-db23dd90e123",
   "metadata": {
    "execution": {
     "iopub.execute_input": "2024-03-20T21:47:28.091956Z",
     "iopub.status.busy": "2024-03-20T21:47:28.091761Z",
     "iopub.status.idle": "2024-03-20T21:47:28.094254Z",
     "shell.execute_reply": "2024-03-20T21:47:28.093809Z"
    },
    "papermill": {
     "duration": 0.032918,
     "end_time": "2024-03-20T21:47:28.094997",
     "exception": false,
     "start_time": "2024-03-20T21:47:28.062079",
     "status": "completed"
    },
    "tags": []
   },
   "outputs": [],
   "source": [
    "section_name = \"methods\""
   ]
  },
  {
   "cell_type": "code",
   "execution_count": 146,
   "id": "8f280817-fdf2-447f-b74f-a496c7034555",
   "metadata": {
    "editable": true,
    "execution": {
     "iopub.execute_input": "2024-03-20T21:47:28.154123Z",
     "iopub.status.busy": "2024-03-20T21:47:28.153934Z",
     "iopub.status.idle": "2024-03-20T21:47:28.157013Z",
     "shell.execute_reply": "2024-03-20T21:47:28.156541Z"
    },
    "papermill": {
     "duration": 0.033511,
     "end_time": "2024-03-20T21:47:28.157775",
     "exception": false,
     "start_time": "2024-03-20T21:47:28.124264",
     "status": "completed"
    },
    "slideshow": {
     "slide_type": ""
    },
    "tags": []
   },
   "outputs": [
    {
     "name": "stdout",
     "output_type": "stream",
     "text": [
      "content/08.01.methods.ccc.md\n"
     ]
    }
   ],
   "source": [
    "pr_filename = pr_files[6].filename\n",
    "assert section_name in pr_filename\n",
    "assert \"ccc\" in pr_filename\n",
    "print(pr_filename)"
   ]
  },
  {
   "cell_type": "markdown",
   "id": "c4466db8-9485-49cc-a08f-dfdf243e1f06",
   "metadata": {
    "editable": true,
    "papermill": {
     "duration": 0.029144,
     "end_time": "2024-03-20T21:47:28.216093",
     "exception": false,
     "start_time": "2024-03-20T21:47:28.186949",
     "status": "completed"
    },
    "slideshow": {
     "slide_type": ""
    },
    "tags": []
   },
   "source": [
    "### Original"
   ]
  },
  {
   "cell_type": "code",
   "execution_count": 147,
   "id": "d28b84ac-727b-4412-8504-2cb1d9764a91",
   "metadata": {
    "execution": {
     "iopub.execute_input": "2024-03-20T21:47:28.275152Z",
     "iopub.status.busy": "2024-03-20T21:47:28.274960Z",
     "iopub.status.idle": "2024-03-20T21:47:28.418343Z",
     "shell.execute_reply": "2024-03-20T21:47:28.417895Z"
    },
    "papermill": {
     "duration": 0.173719,
     "end_time": "2024-03-20T21:47:28.419078",
     "exception": false,
     "start_time": "2024-03-20T21:47:28.245359",
     "status": "completed"
    },
    "tags": []
   },
   "outputs": [
    {
     "name": "stdout",
     "output_type": "stream",
     "text": [
      "## Methods\n",
      "\n",
      "The code needed to reproduce all of ou\n"
     ]
    }
   ],
   "source": [
    "# get content\n",
    "orig_section_content = repo.get_contents(pr_filename, pr_prev).decoded_content.decode(\n",
    "    \"utf-8\"\n",
    ")\n",
    "print(orig_section_content[:50])"
   ]
  },
  {
   "cell_type": "code",
   "execution_count": 148,
   "id": "18fe5c96-6270-45fe-8f3a-2da927318d82",
   "metadata": {
    "execution": {
     "iopub.execute_input": "2024-03-20T21:47:28.501692Z",
     "iopub.status.busy": "2024-03-20T21:47:28.501501Z",
     "iopub.status.idle": "2024-03-20T21:47:28.504914Z",
     "shell.execute_reply": "2024-03-20T21:47:28.504487Z"
    },
    "papermill": {
     "duration": 0.033892,
     "end_time": "2024-03-20T21:47:28.505628",
     "exception": false,
     "start_time": "2024-03-20T21:47:28.471736",
     "status": "completed"
    },
    "tags": []
   },
   "outputs": [
    {
     "data": {
      "text/plain": [
       "10"
      ]
     },
     "metadata": {},
     "output_type": "display_data"
    }
   ],
   "source": [
    "# split by paragraph\n",
    "orig_section_paragraphs = orig_section_content.split(\"\\n\\n\")\n",
    "display(len(orig_section_paragraphs))"
   ]
  },
  {
   "cell_type": "markdown",
   "id": "6066a4d2-2696-4e7d-9da4-d1818871259d",
   "metadata": {
    "editable": true,
    "papermill": {
     "duration": 0.029072,
     "end_time": "2024-03-20T21:47:28.564227",
     "exception": false,
     "start_time": "2024-03-20T21:47:28.535155",
     "status": "completed"
    },
    "slideshow": {
     "slide_type": ""
    },
    "tags": []
   },
   "source": [
    "### Modified"
   ]
  },
  {
   "cell_type": "code",
   "execution_count": 149,
   "id": "4e8d95f9-376b-450b-99d5-67891963f997",
   "metadata": {
    "execution": {
     "iopub.execute_input": "2024-03-20T21:47:28.623183Z",
     "iopub.status.busy": "2024-03-20T21:47:28.622987Z",
     "iopub.status.idle": "2024-03-20T21:47:28.809271Z",
     "shell.execute_reply": "2024-03-20T21:47:28.808703Z"
    },
    "papermill": {
     "duration": 0.217063,
     "end_time": "2024-03-20T21:47:28.810281",
     "exception": false,
     "start_time": "2024-03-20T21:47:28.593218",
     "status": "completed"
    },
    "tags": []
   },
   "outputs": [
    {
     "name": "stdout",
     "output_type": "stream",
     "text": [
      "## Methods\n",
      "\n",
      "The code needed to reproduce all of ou\n"
     ]
    }
   ],
   "source": [
    "# get content\n",
    "mod_section_content = repo.get_contents(pr_filename, pr_curr).decoded_content.decode(\n",
    "    \"utf-8\"\n",
    ")\n",
    "print(mod_section_content[:50])"
   ]
  },
  {
   "cell_type": "code",
   "execution_count": 150,
   "id": "6c0d91e9-b334-4b74-9ea5-7080c5e7fa6d",
   "metadata": {
    "execution": {
     "iopub.execute_input": "2024-03-20T21:47:28.898290Z",
     "iopub.status.busy": "2024-03-20T21:47:28.898097Z",
     "iopub.status.idle": "2024-03-20T21:47:28.901936Z",
     "shell.execute_reply": "2024-03-20T21:47:28.901389Z"
    },
    "papermill": {
     "duration": 0.044133,
     "end_time": "2024-03-20T21:47:28.902701",
     "exception": false,
     "start_time": "2024-03-20T21:47:28.858568",
     "status": "completed"
    },
    "tags": []
   },
   "outputs": [
    {
     "data": {
      "text/plain": [
       "19"
      ]
     },
     "metadata": {},
     "output_type": "display_data"
    }
   ],
   "source": [
    "# split by paragraph\n",
    "mod_section_paragraphs = mod_section_content.split(\"\\n\\n\")\n",
    "display(len(mod_section_paragraphs))"
   ]
  },
  {
   "cell_type": "markdown",
   "id": "f1da0d8d-adc4-4403-be49-4385ea781ac8",
   "metadata": {
    "editable": true,
    "papermill": {
     "duration": 0.029121,
     "end_time": "2024-03-20T21:47:28.961035",
     "exception": false,
     "start_time": "2024-03-20T21:47:28.931914",
     "status": "completed"
    },
    "slideshow": {
     "slide_type": ""
    },
    "tags": []
   },
   "source": [
    "### Match"
   ]
  },
  {
   "cell_type": "code",
   "execution_count": 151,
   "id": "53720cd3-8e0a-4d31-8883-c206026f9e5f",
   "metadata": {
    "execution": {
     "iopub.execute_input": "2024-03-20T21:47:29.020009Z",
     "iopub.status.busy": "2024-03-20T21:47:29.019690Z",
     "iopub.status.idle": "2024-03-20T21:47:29.023459Z",
     "shell.execute_reply": "2024-03-20T21:47:29.022899Z"
    },
    "papermill": {
     "duration": 0.034077,
     "end_time": "2024-03-20T21:47:29.024258",
     "exception": false,
     "start_time": "2024-03-20T21:47:28.990181",
     "status": "completed"
    },
    "tags": []
   },
   "outputs": [
    {
     "data": {
      "text/plain": [
       "'## Methods'"
      ]
     },
     "execution_count": 151,
     "metadata": {},
     "output_type": "execute_result"
    }
   ],
   "source": [
    "orig_section_paragraphs[0]"
   ]
  },
  {
   "cell_type": "code",
   "execution_count": 152,
   "id": "2638f377-a44a-4d05-8fca-bfa9383ca736",
   "metadata": {
    "execution": {
     "iopub.execute_input": "2024-03-20T21:47:29.083602Z",
     "iopub.status.busy": "2024-03-20T21:47:29.083397Z",
     "iopub.status.idle": "2024-03-20T21:47:29.087051Z",
     "shell.execute_reply": "2024-03-20T21:47:29.086502Z"
    },
    "papermill": {
     "duration": 0.034108,
     "end_time": "2024-03-20T21:47:29.087807",
     "exception": false,
     "start_time": "2024-03-20T21:47:29.053699",
     "status": "completed"
    },
    "tags": []
   },
   "outputs": [
    {
     "data": {
      "text/plain": [
       "'## Methods'"
      ]
     },
     "execution_count": 152,
     "metadata": {},
     "output_type": "execute_result"
    }
   ],
   "source": [
    "mod_section_paragraphs[0]"
   ]
  },
  {
   "cell_type": "markdown",
   "id": "639829e1-1463-41b5-b91d-b2bdd319e04e",
   "metadata": {
    "editable": true,
    "papermill": {
     "duration": 0.029466,
     "end_time": "2024-03-20T21:47:29.146706",
     "exception": false,
     "start_time": "2024-03-20T21:47:29.117240",
     "status": "completed"
    },
    "slideshow": {
     "slide_type": ""
    },
    "tags": []
   },
   "source": [
    "####  Paragraph 00"
   ]
  },
  {
   "cell_type": "code",
   "execution_count": 153,
   "id": "bde47e33-80ca-4c52-a420-868e3721fdf3",
   "metadata": {
    "execution": {
     "iopub.execute_input": "2024-03-20T21:47:29.206189Z",
     "iopub.status.busy": "2024-03-20T21:47:29.205986Z",
     "iopub.status.idle": "2024-03-20T21:47:29.209185Z",
     "shell.execute_reply": "2024-03-20T21:47:29.208614Z"
    },
    "papermill": {
     "duration": 0.033785,
     "end_time": "2024-03-20T21:47:29.209952",
     "exception": false,
     "start_time": "2024-03-20T21:47:29.176167",
     "status": "completed"
    },
    "tags": []
   },
   "outputs": [
    {
     "name": "stdout",
     "output_type": "stream",
     "text": [
      "The Clustermatch Correlation Coefficient (CCC) computes a similarity value $c \\in \\left[0,1\\right]$ between any pair of numerical or categorical features/variables $\\mathbf{x}$ and $\\mathbf{y}$ measured on $n$ objects. CCC assumes that if two features $\\mathbf{x}$ and $\\mathbf{y}$ are similar, then the partitioning by clustering of the $n$ objects using each feature separately should match. For example, given $\\mathbf{x}=(11, 27, 32, 40)$ and $\\mathbf{y}=10x=(110, 270, 320, 400)$, where $n=4$, partitioning each variable into two clusters ($k=2$) using their medians (29.5 for $\\mathbf{x}$ and 295 for $\\mathbf{y}$) would result in partition $\\Omega^{\\mathbf{x}}_{k=2}=(1, 1, 2, 2)$ for $\\mathbf{x}$, and partition $\\Omega^{\\mathbf{y}}_{k=2}=(1, 1, 2, 2)$ for $\\mathbf{y}$. Then, the agreement between $\\Omega^{\\mathbf{x}}_{k=2}$ and $\\Omega^{\\mathbf{y}}_{k=2}$ can be computed using any measure of similarity between partitions, like the adjusted Rand index (ARI) [@doi:10.1007/BF01908075]. In that case, it will return the maximum value (1.0 in the case of ARI). Note that the same value of $k$ might not be the right one to find a relationship between any two features. For instance, in the quadratic example in Figure @fig:datasets_rel, CCC returns a value of 0.36 (grouping objects in four clusters using one feature and two using the other). If we used only two clusters instead, CCC would return a similarity value of 0.02. Therefore, the CCC algorithm (shown below) searches for this optimal number of clusters given a maximum $k$, which is its single parameter $k_{\\mathrm{max}}$.\n"
     ]
    }
   ],
   "source": [
    "par0 = process_paragraph(orig_section_paragraphs[3])\n",
    "print(par0)"
   ]
  },
  {
   "cell_type": "code",
   "execution_count": 154,
   "id": "a613037a-a64e-43cf-abda-cf0a4a736502",
   "metadata": {
    "execution": {
     "iopub.execute_input": "2024-03-20T21:47:29.269649Z",
     "iopub.status.busy": "2024-03-20T21:47:29.269446Z",
     "iopub.status.idle": "2024-03-20T21:47:29.272891Z",
     "shell.execute_reply": "2024-03-20T21:47:29.272306Z"
    },
    "papermill": {
     "duration": 0.034011,
     "end_time": "2024-03-20T21:47:29.273670",
     "exception": false,
     "start_time": "2024-03-20T21:47:29.239659",
     "status": "completed"
    },
    "tags": []
   },
   "outputs": [
    {
     "name": "stdout",
     "output_type": "stream",
     "text": [
      "The Clustermatch Correlation Coefficient (CCC) calculates a similarity value $c \\in \\left[0,1\\right]$ between any pair of numerical or categorical features/variables $\\mathbf{x}$ and $\\mathbf{y}$ measured on $n$ objects. CCC operates under the assumption that if two features $\\mathbf{x}$ and $\\mathbf{y}$ are similar, then clustering the $n$ objects using each feature separately should result in matching partitions. For example, consider $\\mathbf{x}=(11, 27, 32, 40)$ and $\\mathbf{y}=10\\mathbf{x}=(110, 270, 320, 400)$, where $n=4$. Partitioning each variable into two clusters ($k=2$) based on their medians (29.5 for $\\mathbf{x}$ and 295 for $\\mathbf{y}$) yields partition $\\Omega^{\\mathbf{x}}_{k=2}=(1, 1, 2, 2)$ for $\\mathbf{x}$ and partition $\\Omega^{\\mathbf{y}}_{k=2}=(1, 1, 2, 2)$ for $\\mathbf{y}$. The agreement between $\\Omega^{\\mathbf{x}}_{k=2}$ and $\\Omega^{\\mathbf{y}}_{k=2}$ can be assessed using a similarity measure for partitions, such as the adjusted Rand index (ARI) [@doi:10.1007/BF01908075], which would yield a maximum value of 1.0 in this scenario. It is important to note that the choice of $k$ may vary depending on the relationship between the features. For example, in the quadratic case illustrated in Figure @fig:datasets_rel, CCC returns a value of 0.36 (grouping objects into four clusters using one feature and two using the other). If only two clusters were utilized, CCC would yield a similarity value of 0.02. Therefore, the CCC algorithm (described below) aims to find the optimal number of clusters within a specified maximum $k$, denoted as its single parameter $k_{\\mathrm{max}}$.\n"
     ]
    }
   ],
   "source": [
    "par1 = (\n",
    "    process_paragraph(mod_section_paragraphs[3])\n",
    "    .replace(\"$$\", \"\\n$$\")\n",
    "    .replace(\"\\\\text\", \"\\n\\\\text\")\n",
    ")\n",
    "print(par1)"
   ]
  },
  {
   "cell_type": "code",
   "execution_count": 155,
   "id": "fd5ca3b4-323c-4abf-8cb9-9a9773f4aed1",
   "metadata": {
    "execution": {
     "iopub.execute_input": "2024-03-20T21:47:29.334243Z",
     "iopub.status.busy": "2024-03-20T21:47:29.333901Z",
     "iopub.status.idle": "2024-03-20T21:47:29.336730Z",
     "shell.execute_reply": "2024-03-20T21:47:29.336153Z"
    },
    "papermill": {
     "duration": 0.033545,
     "end_time": "2024-03-20T21:47:29.337498",
     "exception": false,
     "start_time": "2024-03-20T21:47:29.303953",
     "status": "completed"
    },
    "tags": []
   },
   "outputs": [],
   "source": [
    "paragraph_matches.append(\n",
    "    (\n",
    "        section_name,\n",
    "        par0,\n",
    "        par1,\n",
    "    )\n",
    ")"
   ]
  },
  {
   "cell_type": "code",
   "execution_count": 156,
   "id": "1fb17a25-e891-4ae1-a04f-a58e8eb33558",
   "metadata": {
    "execution": {
     "iopub.execute_input": "2024-03-20T21:47:29.396967Z",
     "iopub.status.busy": "2024-03-20T21:47:29.396772Z",
     "iopub.status.idle": "2024-03-20T21:47:29.400534Z",
     "shell.execute_reply": "2024-03-20T21:47:29.399965Z"
    },
    "papermill": {
     "duration": 0.034302,
     "end_time": "2024-03-20T21:47:29.401327",
     "exception": false,
     "start_time": "2024-03-20T21:47:29.367025",
     "status": "completed"
    },
    "tags": []
   },
   "outputs": [
    {
     "data": {
      "text/plain": [
       "('methods',\n",
       " 'The Clustermatch Correlation Coefficient (CCC) computes a similarity value $c \\\\in \\\\left[0,1\\\\right]$ between any pair of numerical or categorical features/variables $\\\\mathbf{x}$ and $\\\\mathbf{y}$ measured on $n$ objects. CCC assumes that if two features $\\\\mathbf{x}$ and $\\\\mathbf{y}$ are similar, then the partitioning by clustering of the $n$ objects using each feature separately should match. For example, given $\\\\mathbf{x}=(11, 27, 32, 40)$ and $\\\\mathbf{y}=10x=(110, 270, 320, 400)$, where $n=4$, partitioning each variable into two clusters ($k=2$) using their medians (29.5 for $\\\\mathbf{x}$ and 295 for $\\\\mathbf{y}$) would result in partition $\\\\Omega^{\\\\mathbf{x}}_{k=2}=(1, 1, 2, 2)$ for $\\\\mathbf{x}$, and partition $\\\\Omega^{\\\\mathbf{y}}_{k=2}=(1, 1, 2, 2)$ for $\\\\mathbf{y}$. Then, the agreement between $\\\\Omega^{\\\\mathbf{x}}_{k=2}$ and $\\\\Omega^{\\\\mathbf{y}}_{k=2}$ can be computed using any measure of similarity between partitions, like the adjusted Rand index (ARI) [@doi:10.1007/BF01908075]. In that case, it will return the maximum value (1.0 in the case of ARI). Note that the same value of $k$ might not be the right one to find a relationship between any two features. For instance, in the quadratic example in Figure @fig:datasets_rel, CCC returns a value of 0.36 (grouping objects in four clusters using one feature and two using the other). If we used only two clusters instead, CCC would return a similarity value of 0.02. Therefore, the CCC algorithm (shown below) searches for this optimal number of clusters given a maximum $k$, which is its single parameter $k_{\\\\mathrm{max}}$.',\n",
       " 'The Clustermatch Correlation Coefficient (CCC) calculates a similarity value $c \\\\in \\\\left[0,1\\\\right]$ between any pair of numerical or categorical features/variables $\\\\mathbf{x}$ and $\\\\mathbf{y}$ measured on $n$ objects. CCC operates under the assumption that if two features $\\\\mathbf{x}$ and $\\\\mathbf{y}$ are similar, then clustering the $n$ objects using each feature separately should result in matching partitions. For example, consider $\\\\mathbf{x}=(11, 27, 32, 40)$ and $\\\\mathbf{y}=10\\\\mathbf{x}=(110, 270, 320, 400)$, where $n=4$. Partitioning each variable into two clusters ($k=2$) based on their medians (29.5 for $\\\\mathbf{x}$ and 295 for $\\\\mathbf{y}$) yields partition $\\\\Omega^{\\\\mathbf{x}}_{k=2}=(1, 1, 2, 2)$ for $\\\\mathbf{x}$ and partition $\\\\Omega^{\\\\mathbf{y}}_{k=2}=(1, 1, 2, 2)$ for $\\\\mathbf{y}$. The agreement between $\\\\Omega^{\\\\mathbf{x}}_{k=2}$ and $\\\\Omega^{\\\\mathbf{y}}_{k=2}$ can be assessed using a similarity measure for partitions, such as the adjusted Rand index (ARI) [@doi:10.1007/BF01908075], which would yield a maximum value of 1.0 in this scenario. It is important to note that the choice of $k$ may vary depending on the relationship between the features. For example, in the quadratic case illustrated in Figure @fig:datasets_rel, CCC returns a value of 0.36 (grouping objects into four clusters using one feature and two using the other). If only two clusters were utilized, CCC would yield a similarity value of 0.02. Therefore, the CCC algorithm (described below) aims to find the optimal number of clusters within a specified maximum $k$, denoted as its single parameter $k_{\\\\mathrm{max}}$.')"
      ]
     },
     "metadata": {},
     "output_type": "display_data"
    }
   ],
   "source": [
    "display(paragraph_matches[-1])"
   ]
  },
  {
   "cell_type": "markdown",
   "id": "626a2445-2b50-4564-8805-435db74bd47a",
   "metadata": {
    "editable": true,
    "papermill": {
     "duration": 0.029091,
     "end_time": "2024-03-20T21:47:29.459908",
     "exception": false,
     "start_time": "2024-03-20T21:47:29.430817",
     "status": "completed"
    },
    "slideshow": {
     "slide_type": ""
    },
    "tags": []
   },
   "source": [
    "####  Paragraph 01"
   ]
  },
  {
   "cell_type": "code",
   "execution_count": 157,
   "id": "c96448ac-3d15-40aa-8b1d-9d348cb46b46",
   "metadata": {
    "execution": {
     "iopub.execute_input": "2024-03-20T21:47:29.519606Z",
     "iopub.status.busy": "2024-03-20T21:47:29.519414Z",
     "iopub.status.idle": "2024-03-20T21:47:29.522509Z",
     "shell.execute_reply": "2024-03-20T21:47:29.521967Z"
    },
    "papermill": {
     "duration": 0.033885,
     "end_time": "2024-03-20T21:47:29.523308",
     "exception": false,
     "start_time": "2024-03-20T21:47:29.489423",
     "status": "completed"
    },
    "tags": []
   },
   "outputs": [
    {
     "name": "stdout",
     "output_type": "stream",
     "text": [
      "The main function of the algorithm, `ccc`, generates a list of partitionings $\\Omega^{\\mathbf{x}}$ and $\\Omega^{\\mathbf{y}}$ (lines 14 and 15), for each feature $\\mathbf{x}$ and $\\mathbf{y}$. Then, it computes the ARI between each partition in $\\Omega^{\\mathbf{x}}$ and $\\Omega^{\\mathbf{y}}$ (line 16), and then it keeps the pair that generates the maximum ARI. Finally, since ARI does not have a lower bound (it could return negative values, which in our case are not meaningful), CCC returns only values between 0 and 1 (line 17).\n"
     ]
    }
   ],
   "source": [
    "par0 = process_paragraph(orig_section_paragraphs[5])\n",
    "print(par0)"
   ]
  },
  {
   "cell_type": "code",
   "execution_count": 158,
   "id": "06769dc3-7e49-4f72-8b19-9e71798ddf90",
   "metadata": {
    "execution": {
     "iopub.execute_input": "2024-03-20T21:47:29.583484Z",
     "iopub.status.busy": "2024-03-20T21:47:29.583295Z",
     "iopub.status.idle": "2024-03-20T21:47:29.586473Z",
     "shell.execute_reply": "2024-03-20T21:47:29.585912Z"
    },
    "papermill": {
     "duration": 0.034123,
     "end_time": "2024-03-20T21:47:29.587334",
     "exception": false,
     "start_time": "2024-03-20T21:47:29.553211",
     "status": "completed"
    },
    "tags": []
   },
   "outputs": [
    {
     "name": "stdout",
     "output_type": "stream",
     "text": [
      "The primary function of the algorithm, `ccc`, is to generate a list of partitionings $\\Omega^{\\mathbf{x}}$ and $\\Omega^{\\mathbf{y}}$ (lines 14 and 15) for each feature $\\mathbf{x}$ and $\\mathbf{y}$. Subsequently, the algorithm computes the Adjusted Rand Index (ARI) between each partition in $\\Omega^{\\mathbf{x}}$ and $\\Omega^{\\mathbf{y}}$ (line 16) and retains the pair that yields the maximum ARI. Since ARI does not have a lower bound (it could potentially return negative values, which are not meaningful in this context), CCC only outputs values between 0 and 1 (line 17).\n"
     ]
    }
   ],
   "source": [
    "par1 = process_paragraph(\n",
    "    mod_section_paragraphs[9]\n",
    ")  # .replace(\"$$\", \"\\n$$\").replace(\"\\\\text\", \"\\n\\\\text\")\n",
    "print(par1)"
   ]
  },
  {
   "cell_type": "code",
   "execution_count": 159,
   "id": "33cc1054-8364-43af-8406-29f7484cb270",
   "metadata": {
    "execution": {
     "iopub.execute_input": "2024-03-20T21:47:29.647259Z",
     "iopub.status.busy": "2024-03-20T21:47:29.647073Z",
     "iopub.status.idle": "2024-03-20T21:47:29.649806Z",
     "shell.execute_reply": "2024-03-20T21:47:29.649277Z"
    },
    "papermill": {
     "duration": 0.033385,
     "end_time": "2024-03-20T21:47:29.650464",
     "exception": false,
     "start_time": "2024-03-20T21:47:29.617079",
     "status": "completed"
    },
    "tags": []
   },
   "outputs": [],
   "source": [
    "paragraph_matches.append(\n",
    "    (\n",
    "        section_name,\n",
    "        par0,\n",
    "        par1,\n",
    "    )\n",
    ")"
   ]
  },
  {
   "cell_type": "code",
   "execution_count": 160,
   "id": "d6057c60-1a37-4785-a2c4-dbd32d55eac1",
   "metadata": {
    "execution": {
     "iopub.execute_input": "2024-03-20T21:47:29.710658Z",
     "iopub.status.busy": "2024-03-20T21:47:29.710307Z",
     "iopub.status.idle": "2024-03-20T21:47:29.713776Z",
     "shell.execute_reply": "2024-03-20T21:47:29.713343Z"
    },
    "papermill": {
     "duration": 0.034213,
     "end_time": "2024-03-20T21:47:29.714430",
     "exception": false,
     "start_time": "2024-03-20T21:47:29.680217",
     "status": "completed"
    },
    "tags": []
   },
   "outputs": [
    {
     "data": {
      "text/plain": [
       "('methods',\n",
       " 'The main function of the algorithm, `ccc`, generates a list of partitionings $\\\\Omega^{\\\\mathbf{x}}$ and $\\\\Omega^{\\\\mathbf{y}}$ (lines 14 and 15), for each feature $\\\\mathbf{x}$ and $\\\\mathbf{y}$. Then, it computes the ARI between each partition in $\\\\Omega^{\\\\mathbf{x}}$ and $\\\\Omega^{\\\\mathbf{y}}$ (line 16), and then it keeps the pair that generates the maximum ARI. Finally, since ARI does not have a lower bound (it could return negative values, which in our case are not meaningful), CCC returns only values between 0 and 1 (line 17).',\n",
       " 'The primary function of the algorithm, `ccc`, is to generate a list of partitionings $\\\\Omega^{\\\\mathbf{x}}$ and $\\\\Omega^{\\\\mathbf{y}}$ (lines 14 and 15) for each feature $\\\\mathbf{x}$ and $\\\\mathbf{y}$. Subsequently, the algorithm computes the Adjusted Rand Index (ARI) between each partition in $\\\\Omega^{\\\\mathbf{x}}$ and $\\\\Omega^{\\\\mathbf{y}}$ (line 16) and retains the pair that yields the maximum ARI. Since ARI does not have a lower bound (it could potentially return negative values, which are not meaningful in this context), CCC only outputs values between 0 and 1 (line 17).')"
      ]
     },
     "metadata": {},
     "output_type": "display_data"
    }
   ],
   "source": [
    "display(paragraph_matches[-1])"
   ]
  },
  {
   "cell_type": "markdown",
   "id": "c9818db3-fe11-4d06-82b7-e7cd5a83b5b9",
   "metadata": {
    "editable": true,
    "papermill": {
     "duration": 0.0296,
     "end_time": "2024-03-20T21:47:29.773688",
     "exception": false,
     "start_time": "2024-03-20T21:47:29.744088",
     "status": "completed"
    },
    "slideshow": {
     "slide_type": ""
    },
    "tags": []
   },
   "source": [
    "####  Paragraph 02"
   ]
  },
  {
   "cell_type": "code",
   "execution_count": 161,
   "id": "bfe91365-6b1a-49f1-aad9-a2afb9cea749",
   "metadata": {
    "execution": {
     "iopub.execute_input": "2024-03-20T21:47:29.834057Z",
     "iopub.status.busy": "2024-03-20T21:47:29.833707Z",
     "iopub.status.idle": "2024-03-20T21:47:29.836628Z",
     "shell.execute_reply": "2024-03-20T21:47:29.836159Z"
    },
    "papermill": {
     "duration": 0.03372,
     "end_time": "2024-03-20T21:47:29.837341",
     "exception": false,
     "start_time": "2024-03-20T21:47:29.803621",
     "status": "completed"
    },
    "tags": []
   },
   "outputs": [
    {
     "name": "stdout",
     "output_type": "stream",
     "text": [
      "Interestingly, since CCC only needs a pair of partitions to compute a similarity value, any type of feature that can be used to perform clustering/grouping is supported. If the feature is numerical (lines 2 to 5 in the `get_partitions` function), then quantiles are used for clustering (for example, the median generates $k=2$ clusters of objects), from $k=2$ to $k=k_{\\mathrm{max}}$. If the feature is categorical (lines 7 to 9), the categories are used to group objects together. Consequently, since features are internally categorized into clusters, numerical and categorical variables can be naturally integrated since clusters do not need an order.\n"
     ]
    }
   ],
   "source": [
    "par0 = process_paragraph(orig_section_paragraphs[6])\n",
    "print(par0)"
   ]
  },
  {
   "cell_type": "code",
   "execution_count": 162,
   "id": "dcaae92f-3c45-49dc-ba24-2dc98c3c8e15",
   "metadata": {
    "execution": {
     "iopub.execute_input": "2024-03-20T21:47:29.921346Z",
     "iopub.status.busy": "2024-03-20T21:47:29.920989Z",
     "iopub.status.idle": "2024-03-20T21:47:29.923942Z",
     "shell.execute_reply": "2024-03-20T21:47:29.923497Z"
    },
    "papermill": {
     "duration": 0.057426,
     "end_time": "2024-03-20T21:47:29.924679",
     "exception": false,
     "start_time": "2024-03-20T21:47:29.867253",
     "status": "completed"
    },
    "tags": []
   },
   "outputs": [
    {
     "name": "stdout",
     "output_type": "stream",
     "text": [
      "Interestingly, the Correlation Coefficient Calculation (CCC) only requires a pair of partitions to calculate a similarity value, making it compatible with any type of feature that can be utilized for clustering or grouping. When the feature is numerical (lines 2 to 5 in the `get_partitions` function), quantiles are employed for clustering. For example, the median generates $k=2$ clusters of objects, with the number of clusters ranging from $k=2$ to $k=k_{\\mathrm{max}}$. On the other hand, if the feature is categorical (lines 7 to 9), the categories are utilized to group objects together. As a result, numerical and categorical variables can be seamlessly integrated since features are internally categorized into clusters, and clusters do not require an order.\n"
     ]
    }
   ],
   "source": [
    "par1 = process_paragraph(\n",
    "    mod_section_paragraphs[11]\n",
    ")  # .replace(\"$$\", \"\\n$$\").replace(\"\\\\text\", \"\\n\\\\text\")\n",
    "print(par1)"
   ]
  },
  {
   "cell_type": "code",
   "execution_count": 163,
   "id": "f43ab221-c1c5-45e3-8a44-af21ca74a69c",
   "metadata": {
    "execution": {
     "iopub.execute_input": "2024-03-20T21:47:29.985018Z",
     "iopub.status.busy": "2024-03-20T21:47:29.984662Z",
     "iopub.status.idle": "2024-03-20T21:47:29.987229Z",
     "shell.execute_reply": "2024-03-20T21:47:29.986816Z"
    },
    "papermill": {
     "duration": 0.033369,
     "end_time": "2024-03-20T21:47:29.987943",
     "exception": false,
     "start_time": "2024-03-20T21:47:29.954574",
     "status": "completed"
    },
    "tags": []
   },
   "outputs": [],
   "source": [
    "paragraph_matches.append(\n",
    "    (\n",
    "        section_name,\n",
    "        par0,\n",
    "        par1,\n",
    "    )\n",
    ")"
   ]
  },
  {
   "cell_type": "code",
   "execution_count": 164,
   "id": "cb5e98ce-ae69-47da-a99c-ced5b15c0320",
   "metadata": {
    "execution": {
     "iopub.execute_input": "2024-03-20T21:47:30.047908Z",
     "iopub.status.busy": "2024-03-20T21:47:30.047727Z",
     "iopub.status.idle": "2024-03-20T21:47:30.051215Z",
     "shell.execute_reply": "2024-03-20T21:47:30.050802Z"
    },
    "papermill": {
     "duration": 0.034349,
     "end_time": "2024-03-20T21:47:30.051918",
     "exception": false,
     "start_time": "2024-03-20T21:47:30.017569",
     "status": "completed"
    },
    "tags": []
   },
   "outputs": [
    {
     "data": {
      "text/plain": [
       "('methods',\n",
       " 'Interestingly, since CCC only needs a pair of partitions to compute a similarity value, any type of feature that can be used to perform clustering/grouping is supported. If the feature is numerical (lines 2 to 5 in the `get_partitions` function), then quantiles are used for clustering (for example, the median generates $k=2$ clusters of objects), from $k=2$ to $k=k_{\\\\mathrm{max}}$. If the feature is categorical (lines 7 to 9), the categories are used to group objects together. Consequently, since features are internally categorized into clusters, numerical and categorical variables can be naturally integrated since clusters do not need an order.',\n",
       " 'Interestingly, the Correlation Coefficient Calculation (CCC) only requires a pair of partitions to calculate a similarity value, making it compatible with any type of feature that can be utilized for clustering or grouping. When the feature is numerical (lines 2 to 5 in the `get_partitions` function), quantiles are employed for clustering. For example, the median generates $k=2$ clusters of objects, with the number of clusters ranging from $k=2$ to $k=k_{\\\\mathrm{max}}$. On the other hand, if the feature is categorical (lines 7 to 9), the categories are utilized to group objects together. As a result, numerical and categorical variables can be seamlessly integrated since features are internally categorized into clusters, and clusters do not require an order.')"
      ]
     },
     "metadata": {},
     "output_type": "display_data"
    }
   ],
   "source": [
    "display(paragraph_matches[-1])"
   ]
  },
  {
   "cell_type": "markdown",
   "id": "a18b3948-644c-4f26-91b5-5ffca2a3ea11",
   "metadata": {
    "editable": true,
    "papermill": {
     "duration": 0.02973,
     "end_time": "2024-03-20T21:47:30.111463",
     "exception": false,
     "start_time": "2024-03-20T21:47:30.081733",
     "status": "completed"
    },
    "slideshow": {
     "slide_type": ""
    },
    "tags": []
   },
   "source": [
    "####  Paragraph 03"
   ]
  },
  {
   "cell_type": "code",
   "execution_count": 165,
   "id": "a652e5d5-a65c-4412-b751-34ce3eacc102",
   "metadata": {
    "execution": {
     "iopub.execute_input": "2024-03-20T21:47:30.171688Z",
     "iopub.status.busy": "2024-03-20T21:47:30.171507Z",
     "iopub.status.idle": "2024-03-20T21:47:30.174556Z",
     "shell.execute_reply": "2024-03-20T21:47:30.174110Z"
    },
    "papermill": {
     "duration": 0.033924,
     "end_time": "2024-03-20T21:47:30.175275",
     "exception": false,
     "start_time": "2024-03-20T21:47:30.141351",
     "status": "completed"
    },
    "tags": []
   },
   "outputs": [
    {
     "name": "stdout",
     "output_type": "stream",
     "text": [
      "For all our analyses we used $k_{\\mathrm{max}}=10$. This means that for each gene pair, 18 partitions are generated (9 for each gene, from $k=2$ to $k=10$), and 81 ARI comparisons are performed. Smaller values of $k_{\\mathrm{max}}$ can reduce computation time, although at the expense of missing more complex/general relationships. Our examples in Figure @fig:datasets_rel suggest that using $k_{\\mathrm{max}}=2$ would force CCC to find linear-only patterns, which could be a valid use case scenario where only this kind of relationships are desired. In addition, $k_{\\mathrm{max}}=2$ implies that only two partitions are generated, and only one ARI comparison is performed. In this regard, our Python implementation of CCC provides flexibility in specifying $k_{\\mathrm{max}}$. For instance, instead of the maximum $k$ (an integer), the parameter could be a custom list of integers: for example, `[2, 5, 10]` will partition the data into two, five and ten clusters.\n"
     ]
    }
   ],
   "source": [
    "par0 = process_paragraph(orig_section_paragraphs[7])\n",
    "print(par0)"
   ]
  },
  {
   "cell_type": "code",
   "execution_count": 166,
   "id": "a7c95523-893b-442c-85ea-674524be26c8",
   "metadata": {
    "execution": {
     "iopub.execute_input": "2024-03-20T21:47:30.235785Z",
     "iopub.status.busy": "2024-03-20T21:47:30.235605Z",
     "iopub.status.idle": "2024-03-20T21:47:30.238685Z",
     "shell.execute_reply": "2024-03-20T21:47:30.238245Z"
    },
    "papermill": {
     "duration": 0.034274,
     "end_time": "2024-03-20T21:47:30.239424",
     "exception": false,
     "start_time": "2024-03-20T21:47:30.205150",
     "status": "completed"
    },
    "tags": []
   },
   "outputs": [
    {
     "name": "stdout",
     "output_type": "stream",
     "text": [
      "For all our analyses, we utilized $k_{\\mathrm{max}}=10$. This implies that 18 partitions are generated for each gene pair (9 for each gene, ranging from $k=2$ to $k=10$), leading to 81 Adjusted Rand Index (ARI) comparisons. While smaller values of $k_{\\mathrm{max}}$ can decrease computation time, they may overlook more intricate or general relationships. Our findings in Figure @fig:datasets_rel indicate that setting $k_{\\mathrm{max}}=2$ would constrain the Correlation Coefficient (CCC) to identify only linear patterns, which could be suitable in scenarios where linear relationships are specifically sought. Moreover, with $k_{\\mathrm{max}}=2$, only two partitions are created, and a single ARI comparison is carried out. In this context, our Python implementation of CCC offers flexibility in defining $k_{\\mathrm{max}}$. For example, instead of a maximum $k$ value (an integer), the parameter could be a customized list of integers; for instance, `[2, 5, 10]` would partition the data into two, five, and ten clusters.\n"
     ]
    }
   ],
   "source": [
    "par1 = process_paragraph(mod_section_paragraphs[15]).replace(\n",
    "    \"$$\", \"\\n$$\"\n",
    ")  # .replace(\"\\\\text\\{LLM\", \"\\n\\\\text\\{LLM\")\n",
    "print(par1)"
   ]
  },
  {
   "cell_type": "code",
   "execution_count": 167,
   "id": "e06c1ab6-bf77-40ee-af24-0fbd08388bd4",
   "metadata": {
    "execution": {
     "iopub.execute_input": "2024-03-20T21:47:30.301462Z",
     "iopub.status.busy": "2024-03-20T21:47:30.301132Z",
     "iopub.status.idle": "2024-03-20T21:47:30.303641Z",
     "shell.execute_reply": "2024-03-20T21:47:30.303220Z"
    },
    "papermill": {
     "duration": 0.035046,
     "end_time": "2024-03-20T21:47:30.304389",
     "exception": false,
     "start_time": "2024-03-20T21:47:30.269343",
     "status": "completed"
    },
    "tags": []
   },
   "outputs": [],
   "source": [
    "paragraph_matches.append(\n",
    "    (\n",
    "        section_name,\n",
    "        par0,\n",
    "        par1,\n",
    "    )\n",
    ")"
   ]
  },
  {
   "cell_type": "code",
   "execution_count": 168,
   "id": "a7b9498f-caeb-48a4-bc85-f123bfa6c3cc",
   "metadata": {
    "execution": {
     "iopub.execute_input": "2024-03-20T21:47:30.365409Z",
     "iopub.status.busy": "2024-03-20T21:47:30.365223Z",
     "iopub.status.idle": "2024-03-20T21:47:30.368594Z",
     "shell.execute_reply": "2024-03-20T21:47:30.368139Z"
    },
    "papermill": {
     "duration": 0.034618,
     "end_time": "2024-03-20T21:47:30.369320",
     "exception": false,
     "start_time": "2024-03-20T21:47:30.334702",
     "status": "completed"
    },
    "tags": []
   },
   "outputs": [
    {
     "data": {
      "text/plain": [
       "('methods',\n",
       " 'For all our analyses we used $k_{\\\\mathrm{max}}=10$. This means that for each gene pair, 18 partitions are generated (9 for each gene, from $k=2$ to $k=10$), and 81 ARI comparisons are performed. Smaller values of $k_{\\\\mathrm{max}}$ can reduce computation time, although at the expense of missing more complex/general relationships. Our examples in Figure @fig:datasets_rel suggest that using $k_{\\\\mathrm{max}}=2$ would force CCC to find linear-only patterns, which could be a valid use case scenario where only this kind of relationships are desired. In addition, $k_{\\\\mathrm{max}}=2$ implies that only two partitions are generated, and only one ARI comparison is performed. In this regard, our Python implementation of CCC provides flexibility in specifying $k_{\\\\mathrm{max}}$. For instance, instead of the maximum $k$ (an integer), the parameter could be a custom list of integers: for example, `[2, 5, 10]` will partition the data into two, five and ten clusters.',\n",
       " 'For all our analyses, we utilized $k_{\\\\mathrm{max}}=10$. This implies that 18 partitions are generated for each gene pair (9 for each gene, ranging from $k=2$ to $k=10$), leading to 81 Adjusted Rand Index (ARI) comparisons. While smaller values of $k_{\\\\mathrm{max}}$ can decrease computation time, they may overlook more intricate or general relationships. Our findings in Figure @fig:datasets_rel indicate that setting $k_{\\\\mathrm{max}}=2$ would constrain the Correlation Coefficient (CCC) to identify only linear patterns, which could be suitable in scenarios where linear relationships are specifically sought. Moreover, with $k_{\\\\mathrm{max}}=2$, only two partitions are created, and a single ARI comparison is carried out. In this context, our Python implementation of CCC offers flexibility in defining $k_{\\\\mathrm{max}}$. For example, instead of a maximum $k$ value (an integer), the parameter could be a customized list of integers; for instance, `[2, 5, 10]` would partition the data into two, five, and ten clusters.')"
      ]
     },
     "metadata": {},
     "output_type": "display_data"
    }
   ],
   "source": [
    "display(paragraph_matches[-1])"
   ]
  },
  {
   "cell_type": "markdown",
   "id": "fbbecf2f-20c0-4945-bcd7-aa65eacf85cc",
   "metadata": {
    "editable": true,
    "papermill": {
     "duration": 0.030213,
     "end_time": "2024-03-20T21:47:30.429656",
     "exception": false,
     "start_time": "2024-03-20T21:47:30.399443",
     "status": "completed"
    },
    "slideshow": {
     "slide_type": ""
    },
    "tags": []
   },
   "source": [
    "## Methods (data)"
   ]
  },
  {
   "cell_type": "code",
   "execution_count": 169,
   "id": "07cfc8ba-f780-4077-b4df-e0fcba7df04f",
   "metadata": {
    "execution": {
     "iopub.execute_input": "2024-03-20T21:47:30.490104Z",
     "iopub.status.busy": "2024-03-20T21:47:30.489918Z",
     "iopub.status.idle": "2024-03-20T21:47:30.492270Z",
     "shell.execute_reply": "2024-03-20T21:47:30.491835Z"
    },
    "papermill": {
     "duration": 0.033535,
     "end_time": "2024-03-20T21:47:30.493078",
     "exception": false,
     "start_time": "2024-03-20T21:47:30.459543",
     "status": "completed"
    },
    "tags": []
   },
   "outputs": [],
   "source": [
    "# section_name = \"methods\""
   ]
  },
  {
   "cell_type": "code",
   "execution_count": 170,
   "id": "c4ce7054-f289-4b4d-bc3a-ddf0bd90db7f",
   "metadata": {
    "editable": true,
    "execution": {
     "iopub.execute_input": "2024-03-20T21:47:30.553304Z",
     "iopub.status.busy": "2024-03-20T21:47:30.553102Z",
     "iopub.status.idle": "2024-03-20T21:47:30.556491Z",
     "shell.execute_reply": "2024-03-20T21:47:30.555914Z"
    },
    "papermill": {
     "duration": 0.034482,
     "end_time": "2024-03-20T21:47:30.557287",
     "exception": false,
     "start_time": "2024-03-20T21:47:30.522805",
     "status": "completed"
    },
    "slideshow": {
     "slide_type": ""
    },
    "tags": []
   },
   "outputs": [
    {
     "name": "stdout",
     "output_type": "stream",
     "text": [
      "content/08.05.methods.data.md\n"
     ]
    }
   ],
   "source": [
    "pr_filename = pr_files[7].filename\n",
    "assert section_name in pr_filename\n",
    "assert \"data\" in pr_filename\n",
    "print(pr_filename)"
   ]
  },
  {
   "cell_type": "markdown",
   "id": "1096ca40-7ac4-49fa-ab3a-1cc938c358ab",
   "metadata": {
    "editable": true,
    "papermill": {
     "duration": 0.029978,
     "end_time": "2024-03-20T21:47:30.617390",
     "exception": false,
     "start_time": "2024-03-20T21:47:30.587412",
     "status": "completed"
    },
    "slideshow": {
     "slide_type": ""
    },
    "tags": []
   },
   "source": [
    "### Original"
   ]
  },
  {
   "cell_type": "code",
   "execution_count": 171,
   "id": "3e88e418-96a4-420b-a255-2f39e1003c48",
   "metadata": {
    "execution": {
     "iopub.execute_input": "2024-03-20T21:47:30.701199Z",
     "iopub.status.busy": "2024-03-20T21:47:30.701000Z",
     "iopub.status.idle": "2024-03-20T21:47:30.872949Z",
     "shell.execute_reply": "2024-03-20T21:47:30.872328Z"
    },
    "papermill": {
     "duration": 0.226478,
     "end_time": "2024-03-20T21:47:30.873740",
     "exception": false,
     "start_time": "2024-03-20T21:47:30.647262",
     "status": "completed"
    },
    "tags": []
   },
   "outputs": [
    {
     "name": "stdout",
     "output_type": "stream",
     "text": [
      "### Gene expression data and preprocessing {#sec:d\n"
     ]
    }
   ],
   "source": [
    "# get content\n",
    "orig_section_content = repo.get_contents(pr_filename, pr_prev).decoded_content.decode(\n",
    "    \"utf-8\"\n",
    ")\n",
    "print(orig_section_content[:50])"
   ]
  },
  {
   "cell_type": "code",
   "execution_count": 172,
   "id": "8e3ba75a-73aa-4927-b60f-34f12e231ead",
   "metadata": {
    "execution": {
     "iopub.execute_input": "2024-03-20T21:47:30.934368Z",
     "iopub.status.busy": "2024-03-20T21:47:30.934036Z",
     "iopub.status.idle": "2024-03-20T21:47:30.937866Z",
     "shell.execute_reply": "2024-03-20T21:47:30.937317Z"
    },
    "papermill": {
     "duration": 0.034933,
     "end_time": "2024-03-20T21:47:30.938645",
     "exception": false,
     "start_time": "2024-03-20T21:47:30.903712",
     "status": "completed"
    },
    "tags": []
   },
   "outputs": [
    {
     "data": {
      "text/plain": [
       "2"
      ]
     },
     "metadata": {},
     "output_type": "display_data"
    }
   ],
   "source": [
    "# split by paragraph\n",
    "orig_section_paragraphs = orig_section_content.split(\"\\n\\n\")\n",
    "display(len(orig_section_paragraphs))"
   ]
  },
  {
   "cell_type": "markdown",
   "id": "b8b826d2-5e11-4d05-9d06-c3d673a094c0",
   "metadata": {
    "editable": true,
    "papermill": {
     "duration": 0.029883,
     "end_time": "2024-03-20T21:47:30.998532",
     "exception": false,
     "start_time": "2024-03-20T21:47:30.968649",
     "status": "completed"
    },
    "slideshow": {
     "slide_type": ""
    },
    "tags": []
   },
   "source": [
    "### Modified"
   ]
  },
  {
   "cell_type": "code",
   "execution_count": 173,
   "id": "5c8173ca-2b68-4d05-bf1c-4ddebabcb45f",
   "metadata": {
    "execution": {
     "iopub.execute_input": "2024-03-20T21:47:31.059181Z",
     "iopub.status.busy": "2024-03-20T21:47:31.058973Z",
     "iopub.status.idle": "2024-03-20T21:47:31.261859Z",
     "shell.execute_reply": "2024-03-20T21:47:31.261400Z"
    },
    "papermill": {
     "duration": 0.234359,
     "end_time": "2024-03-20T21:47:31.262989",
     "exception": false,
     "start_time": "2024-03-20T21:47:31.028630",
     "status": "completed"
    },
    "tags": []
   },
   "outputs": [
    {
     "name": "stdout",
     "output_type": "stream",
     "text": [
      "### Gene expression data and preprocessing {#sec:d\n"
     ]
    }
   ],
   "source": [
    "# get content\n",
    "mod_section_content = repo.get_contents(pr_filename, pr_curr).decoded_content.decode(\n",
    "    \"utf-8\"\n",
    ")\n",
    "print(mod_section_content[:50])"
   ]
  },
  {
   "cell_type": "code",
   "execution_count": 174,
   "id": "89bddcee-eb28-4163-ab94-dd9c19870016",
   "metadata": {
    "execution": {
     "iopub.execute_input": "2024-03-20T21:47:31.364228Z",
     "iopub.status.busy": "2024-03-20T21:47:31.363881Z",
     "iopub.status.idle": "2024-03-20T21:47:31.367404Z",
     "shell.execute_reply": "2024-03-20T21:47:31.366958Z"
    },
    "papermill": {
     "duration": 0.043471,
     "end_time": "2024-03-20T21:47:31.368121",
     "exception": false,
     "start_time": "2024-03-20T21:47:31.324650",
     "status": "completed"
    },
    "tags": []
   },
   "outputs": [
    {
     "data": {
      "text/plain": [
       "4"
      ]
     },
     "metadata": {},
     "output_type": "display_data"
    }
   ],
   "source": [
    "# split by paragraph\n",
    "mod_section_paragraphs = mod_section_content.split(\"\\n\\n\")\n",
    "display(len(mod_section_paragraphs))"
   ]
  },
  {
   "cell_type": "markdown",
   "id": "d574d11e-dbb3-4f71-a13c-f2ca0121d98c",
   "metadata": {
    "editable": true,
    "papermill": {
     "duration": 0.029777,
     "end_time": "2024-03-20T21:47:31.427932",
     "exception": false,
     "start_time": "2024-03-20T21:47:31.398155",
     "status": "completed"
    },
    "slideshow": {
     "slide_type": ""
    },
    "tags": []
   },
   "source": [
    "### Match"
   ]
  },
  {
   "cell_type": "code",
   "execution_count": 175,
   "id": "33bc0d47-ec5a-4a30-86c6-26a7b1782880",
   "metadata": {
    "execution": {
     "iopub.execute_input": "2024-03-20T21:47:31.488952Z",
     "iopub.status.busy": "2024-03-20T21:47:31.488758Z",
     "iopub.status.idle": "2024-03-20T21:47:31.492119Z",
     "shell.execute_reply": "2024-03-20T21:47:31.491685Z"
    },
    "papermill": {
     "duration": 0.034683,
     "end_time": "2024-03-20T21:47:31.492864",
     "exception": false,
     "start_time": "2024-03-20T21:47:31.458181",
     "status": "completed"
    },
    "tags": []
   },
   "outputs": [
    {
     "data": {
      "text/plain": [
       "'### Gene expression data and preprocessing {#sec:data_gtex}'"
      ]
     },
     "execution_count": 175,
     "metadata": {},
     "output_type": "execute_result"
    }
   ],
   "source": [
    "orig_section_paragraphs[0]"
   ]
  },
  {
   "cell_type": "code",
   "execution_count": 176,
   "id": "6af64ac6-3451-4945-8eb9-12405c9f4fa9",
   "metadata": {
    "execution": {
     "iopub.execute_input": "2024-03-20T21:47:31.553607Z",
     "iopub.status.busy": "2024-03-20T21:47:31.553426Z",
     "iopub.status.idle": "2024-03-20T21:47:31.556769Z",
     "shell.execute_reply": "2024-03-20T21:47:31.556326Z"
    },
    "papermill": {
     "duration": 0.034453,
     "end_time": "2024-03-20T21:47:31.557511",
     "exception": false,
     "start_time": "2024-03-20T21:47:31.523058",
     "status": "completed"
    },
    "tags": []
   },
   "outputs": [
    {
     "data": {
      "text/plain": [
       "'### Gene expression data and preprocessing {#sec:data_gtex}'"
      ]
     },
     "execution_count": 176,
     "metadata": {},
     "output_type": "execute_result"
    }
   ],
   "source": [
    "mod_section_paragraphs[0]"
   ]
  },
  {
   "cell_type": "markdown",
   "id": "f0add223-9d4a-4079-b1b7-f7845e14f259",
   "metadata": {
    "editable": true,
    "papermill": {
     "duration": 0.029946,
     "end_time": "2024-03-20T21:47:31.617862",
     "exception": false,
     "start_time": "2024-03-20T21:47:31.587916",
     "status": "completed"
    },
    "slideshow": {
     "slide_type": ""
    },
    "tags": []
   },
   "source": [
    "####  Paragraph 00"
   ]
  },
  {
   "cell_type": "code",
   "execution_count": 177,
   "id": "37501034-068f-4900-8846-a32c14123d2b",
   "metadata": {
    "execution": {
     "iopub.execute_input": "2024-03-20T21:47:31.678678Z",
     "iopub.status.busy": "2024-03-20T21:47:31.678327Z",
     "iopub.status.idle": "2024-03-20T21:47:31.681210Z",
     "shell.execute_reply": "2024-03-20T21:47:31.680747Z"
    },
    "papermill": {
     "duration": 0.034081,
     "end_time": "2024-03-20T21:47:31.681935",
     "exception": false,
     "start_time": "2024-03-20T21:47:31.647854",
     "status": "completed"
    },
    "tags": []
   },
   "outputs": [
    {
     "name": "stdout",
     "output_type": "stream",
     "text": [
      "We downloaded GTEx v8 data for all tissues, normalized using TPM (transcripts per million), and focused our primary analysis on whole blood, which has a good sample size (755). We selected the top 5,000 genes from whole blood with the largest variance after standardizing with $log(x + 1)$ to avoid a bias towards highly-expressed genes. We then computed Pearson, Spearman, MIC and CCC on these 5,000 genes across all 755 samples on the TPM-normalized data, generating a pairwise similarity matrix of size 5,000 x 5,000.\n"
     ]
    }
   ],
   "source": [
    "par0 = process_paragraph(orig_section_paragraphs[1])\n",
    "print(par0)"
   ]
  },
  {
   "cell_type": "code",
   "execution_count": 178,
   "id": "5da96109-f681-4d3e-a389-ee5538ff03c0",
   "metadata": {
    "execution": {
     "iopub.execute_input": "2024-03-20T21:47:31.743117Z",
     "iopub.status.busy": "2024-03-20T21:47:31.742831Z",
     "iopub.status.idle": "2024-03-20T21:47:31.745870Z",
     "shell.execute_reply": "2024-03-20T21:47:31.745424Z"
    },
    "papermill": {
     "duration": 0.034347,
     "end_time": "2024-03-20T21:47:31.746606",
     "exception": false,
     "start_time": "2024-03-20T21:47:31.712259",
     "status": "completed"
    },
    "tags": []
   },
   "outputs": [
    {
     "name": "stdout",
     "output_type": "stream",
     "text": [
      "We downloaded GTEx version 8 data for all tissues and normalized it using TPM (transcripts per million). Our primary analysis focused on whole blood, which had a sample size of 755. From whole blood, we selected the top 5,000 genes with the largest variance after standardizing with $\\log(x + 1)$ to prevent bias towards highly-expressed genes. Subsequently, we calculated Pearson, Spearman, MIC, and CCC for these 5,000 genes across all 755 samples on the TPM-normalized data. This computation resulted in a pairwise similarity matrix of size 5,000 x 5,000.\n"
     ]
    }
   ],
   "source": [
    "par1 = process_paragraph(mod_section_paragraphs[1])\n",
    "print(par1)"
   ]
  },
  {
   "cell_type": "code",
   "execution_count": 179,
   "id": "0f6511b9-fbbb-4fbb-9f2a-14ee6ed6c167",
   "metadata": {
    "execution": {
     "iopub.execute_input": "2024-03-20T21:47:31.807855Z",
     "iopub.status.busy": "2024-03-20T21:47:31.807674Z",
     "iopub.status.idle": "2024-03-20T21:47:31.810271Z",
     "shell.execute_reply": "2024-03-20T21:47:31.809844Z"
    },
    "papermill": {
     "duration": 0.034174,
     "end_time": "2024-03-20T21:47:31.811031",
     "exception": false,
     "start_time": "2024-03-20T21:47:31.776857",
     "status": "completed"
    },
    "tags": []
   },
   "outputs": [],
   "source": [
    "paragraph_matches.append(\n",
    "    (\n",
    "        section_name,\n",
    "        par0,\n",
    "        par1,\n",
    "    )\n",
    ")"
   ]
  },
  {
   "cell_type": "code",
   "execution_count": 180,
   "id": "c16abbd3-c0a4-4ba4-9272-c5556b820c18",
   "metadata": {
    "execution": {
     "iopub.execute_input": "2024-03-20T21:47:31.872284Z",
     "iopub.status.busy": "2024-03-20T21:47:31.872101Z",
     "iopub.status.idle": "2024-03-20T21:47:31.875584Z",
     "shell.execute_reply": "2024-03-20T21:47:31.875142Z"
    },
    "papermill": {
     "duration": 0.034925,
     "end_time": "2024-03-20T21:47:31.876309",
     "exception": false,
     "start_time": "2024-03-20T21:47:31.841384",
     "status": "completed"
    },
    "tags": []
   },
   "outputs": [
    {
     "data": {
      "text/plain": [
       "('methods',\n",
       " 'We downloaded GTEx v8 data for all tissues, normalized using TPM (transcripts per million), and focused our primary analysis on whole blood, which has a good sample size (755). We selected the top 5,000 genes from whole blood with the largest variance after standardizing with $log(x + 1)$ to avoid a bias towards highly-expressed genes. We then computed Pearson, Spearman, MIC and CCC on these 5,000 genes across all 755 samples on the TPM-normalized data, generating a pairwise similarity matrix of size 5,000 x 5,000.',\n",
       " 'We downloaded GTEx version 8 data for all tissues and normalized it using TPM (transcripts per million). Our primary analysis focused on whole blood, which had a sample size of 755. From whole blood, we selected the top 5,000 genes with the largest variance after standardizing with $\\\\log(x + 1)$ to prevent bias towards highly-expressed genes. Subsequently, we calculated Pearson, Spearman, MIC, and CCC for these 5,000 genes across all 755 samples on the TPM-normalized data. This computation resulted in a pairwise similarity matrix of size 5,000 x 5,000.')"
      ]
     },
     "metadata": {},
     "output_type": "display_data"
    }
   ],
   "source": [
    "display(paragraph_matches[-1])"
   ]
  },
  {
   "cell_type": "markdown",
   "id": "eb7ba0ac-eb66-4f3b-8155-7dbd0a03cf69",
   "metadata": {
    "editable": true,
    "papermill": {
     "duration": 0.030372,
     "end_time": "2024-03-20T21:47:31.937363",
     "exception": false,
     "start_time": "2024-03-20T21:47:31.906991",
     "status": "completed"
    },
    "slideshow": {
     "slide_type": ""
    },
    "tags": []
   },
   "source": [
    "## Methods (giant)"
   ]
  },
  {
   "cell_type": "code",
   "execution_count": 181,
   "id": "fa5845ac-76c0-43db-b79d-c53a63c169e2",
   "metadata": {
    "execution": {
     "iopub.execute_input": "2024-03-20T21:47:31.999499Z",
     "iopub.status.busy": "2024-03-20T21:47:31.998963Z",
     "iopub.status.idle": "2024-03-20T21:47:32.001635Z",
     "shell.execute_reply": "2024-03-20T21:47:32.001182Z"
    },
    "papermill": {
     "duration": 0.034595,
     "end_time": "2024-03-20T21:47:32.002372",
     "exception": false,
     "start_time": "2024-03-20T21:47:31.967777",
     "status": "completed"
    },
    "tags": []
   },
   "outputs": [],
   "source": [
    "# section_name = \"methods\""
   ]
  },
  {
   "cell_type": "code",
   "execution_count": 182,
   "id": "53a68df2-9499-4bd6-a226-faf5a9c4aad6",
   "metadata": {
    "editable": true,
    "execution": {
     "iopub.execute_input": "2024-03-20T21:47:32.063952Z",
     "iopub.status.busy": "2024-03-20T21:47:32.063770Z",
     "iopub.status.idle": "2024-03-20T21:47:32.066919Z",
     "shell.execute_reply": "2024-03-20T21:47:32.066481Z"
    },
    "papermill": {
     "duration": 0.034794,
     "end_time": "2024-03-20T21:47:32.067649",
     "exception": false,
     "start_time": "2024-03-20T21:47:32.032855",
     "status": "completed"
    },
    "slideshow": {
     "slide_type": ""
    },
    "tags": []
   },
   "outputs": [
    {
     "name": "stdout",
     "output_type": "stream",
     "text": [
      "content/08.15.methods.giant.md\n"
     ]
    }
   ],
   "source": [
    "pr_filename = pr_files[8].filename\n",
    "assert section_name in pr_filename\n",
    "assert \"giant\" in pr_filename\n",
    "print(pr_filename)"
   ]
  },
  {
   "cell_type": "markdown",
   "id": "57276dad-945a-4e48-bd12-3a6b4ef2ffe7",
   "metadata": {
    "editable": true,
    "papermill": {
     "duration": 0.030261,
     "end_time": "2024-03-20T21:47:32.128502",
     "exception": false,
     "start_time": "2024-03-20T21:47:32.098241",
     "status": "completed"
    },
    "slideshow": {
     "slide_type": ""
    },
    "tags": []
   },
   "source": [
    "### Original"
   ]
  },
  {
   "cell_type": "code",
   "execution_count": 183,
   "id": "9dadf073-b9e9-4050-9dfa-ad70fcf90c05",
   "metadata": {
    "execution": {
     "iopub.execute_input": "2024-03-20T21:47:32.190390Z",
     "iopub.status.busy": "2024-03-20T21:47:32.189938Z",
     "iopub.status.idle": "2024-03-20T21:47:32.352693Z",
     "shell.execute_reply": "2024-03-20T21:47:32.352179Z"
    },
    "papermill": {
     "duration": 0.194502,
     "end_time": "2024-03-20T21:47:32.353449",
     "exception": false,
     "start_time": "2024-03-20T21:47:32.158947",
     "status": "completed"
    },
    "tags": []
   },
   "outputs": [
    {
     "name": "stdout",
     "output_type": "stream",
     "text": [
      "### Tissue-specific network analyses using GIANT {\n"
     ]
    }
   ],
   "source": [
    "# get content\n",
    "orig_section_content = repo.get_contents(pr_filename, pr_prev).decoded_content.decode(\n",
    "    \"utf-8\"\n",
    ")\n",
    "print(orig_section_content[:50])"
   ]
  },
  {
   "cell_type": "code",
   "execution_count": 184,
   "id": "fd0965f4-4aee-40f5-a573-1799ae8e4e85",
   "metadata": {
    "execution": {
     "iopub.execute_input": "2024-03-20T21:47:32.415001Z",
     "iopub.status.busy": "2024-03-20T21:47:32.414818Z",
     "iopub.status.idle": "2024-03-20T21:47:32.418244Z",
     "shell.execute_reply": "2024-03-20T21:47:32.417852Z"
    },
    "papermill": {
     "duration": 0.035143,
     "end_time": "2024-03-20T21:47:32.419188",
     "exception": false,
     "start_time": "2024-03-20T21:47:32.384045",
     "status": "completed"
    },
    "tags": []
   },
   "outputs": [
    {
     "data": {
      "text/plain": [
       "3"
      ]
     },
     "metadata": {},
     "output_type": "display_data"
    }
   ],
   "source": [
    "# split by paragraph\n",
    "orig_section_paragraphs = orig_section_content.split(\"\\n\\n\")\n",
    "display(len(orig_section_paragraphs))"
   ]
  },
  {
   "cell_type": "markdown",
   "id": "8e54b74c-c0d0-469b-82c6-9a8f903d38bb",
   "metadata": {
    "editable": true,
    "papermill": {
     "duration": 0.031402,
     "end_time": "2024-03-20T21:47:32.508492",
     "exception": false,
     "start_time": "2024-03-20T21:47:32.477090",
     "status": "completed"
    },
    "slideshow": {
     "slide_type": ""
    },
    "tags": []
   },
   "source": [
    "### Modified"
   ]
  },
  {
   "cell_type": "code",
   "execution_count": 185,
   "id": "499dda44-bfe3-4455-873f-c538df38e8af",
   "metadata": {
    "execution": {
     "iopub.execute_input": "2024-03-20T21:47:32.572331Z",
     "iopub.status.busy": "2024-03-20T21:47:32.572005Z",
     "iopub.status.idle": "2024-03-20T21:47:32.796387Z",
     "shell.execute_reply": "2024-03-20T21:47:32.795773Z"
    },
    "papermill": {
     "duration": 0.257467,
     "end_time": "2024-03-20T21:47:32.797137",
     "exception": false,
     "start_time": "2024-03-20T21:47:32.539670",
     "status": "completed"
    },
    "tags": []
   },
   "outputs": [
    {
     "name": "stdout",
     "output_type": "stream",
     "text": [
      "### Tissue-specific network analyses using GIANT {\n"
     ]
    }
   ],
   "source": [
    "# get content\n",
    "mod_section_content = repo.get_contents(pr_filename, pr_curr).decoded_content.decode(\n",
    "    \"utf-8\"\n",
    ")\n",
    "print(mod_section_content[:50])"
   ]
  },
  {
   "cell_type": "code",
   "execution_count": 186,
   "id": "41a5c6bc-7bac-4b5a-ac94-97c91ee66a03",
   "metadata": {
    "execution": {
     "iopub.execute_input": "2024-03-20T21:47:32.864538Z",
     "iopub.status.busy": "2024-03-20T21:47:32.864333Z",
     "iopub.status.idle": "2024-03-20T21:47:32.868069Z",
     "shell.execute_reply": "2024-03-20T21:47:32.867569Z"
    },
    "papermill": {
     "duration": 0.035444,
     "end_time": "2024-03-20T21:47:32.868836",
     "exception": false,
     "start_time": "2024-03-20T21:47:32.833392",
     "status": "completed"
    },
    "tags": []
   },
   "outputs": [
    {
     "data": {
      "text/plain": [
       "7"
      ]
     },
     "metadata": {},
     "output_type": "display_data"
    }
   ],
   "source": [
    "# split by paragraph\n",
    "mod_section_paragraphs = mod_section_content.split(\"\\n\\n\")\n",
    "display(len(mod_section_paragraphs))"
   ]
  },
  {
   "cell_type": "markdown",
   "id": "12872fc2-c24d-4fc8-b0e7-eb7551a3efb1",
   "metadata": {
    "editable": true,
    "papermill": {
     "duration": 0.030706,
     "end_time": "2024-03-20T21:47:32.930476",
     "exception": false,
     "start_time": "2024-03-20T21:47:32.899770",
     "status": "completed"
    },
    "slideshow": {
     "slide_type": ""
    },
    "tags": []
   },
   "source": [
    "### Match"
   ]
  },
  {
   "cell_type": "code",
   "execution_count": 187,
   "id": "2ad5609f-a7cc-4fbe-8f3c-12dd3b4a71d8",
   "metadata": {
    "execution": {
     "iopub.execute_input": "2024-03-20T21:47:32.992973Z",
     "iopub.status.busy": "2024-03-20T21:47:32.992787Z",
     "iopub.status.idle": "2024-03-20T21:47:32.996399Z",
     "shell.execute_reply": "2024-03-20T21:47:32.995880Z"
    },
    "papermill": {
     "duration": 0.035325,
     "end_time": "2024-03-20T21:47:32.997133",
     "exception": false,
     "start_time": "2024-03-20T21:47:32.961808",
     "status": "completed"
    },
    "tags": []
   },
   "outputs": [
    {
     "data": {
      "text/plain": [
       "'### Tissue-specific network analyses using GIANT {#sec:giant}'"
      ]
     },
     "execution_count": 187,
     "metadata": {},
     "output_type": "execute_result"
    }
   ],
   "source": [
    "orig_section_paragraphs[0]"
   ]
  },
  {
   "cell_type": "code",
   "execution_count": 188,
   "id": "bc9a905b-b05f-49ca-afda-02f298e6ca70",
   "metadata": {
    "execution": {
     "iopub.execute_input": "2024-03-20T21:47:33.059579Z",
     "iopub.status.busy": "2024-03-20T21:47:33.059395Z",
     "iopub.status.idle": "2024-03-20T21:47:33.062890Z",
     "shell.execute_reply": "2024-03-20T21:47:33.062397Z"
    },
    "papermill": {
     "duration": 0.035233,
     "end_time": "2024-03-20T21:47:33.063597",
     "exception": false,
     "start_time": "2024-03-20T21:47:33.028364",
     "status": "completed"
    },
    "tags": []
   },
   "outputs": [
    {
     "data": {
      "text/plain": [
       "'### Tissue-specific network analyses using GIANT {#sec:giant}'"
      ]
     },
     "execution_count": 188,
     "metadata": {},
     "output_type": "execute_result"
    }
   ],
   "source": [
    "mod_section_paragraphs[0]"
   ]
  },
  {
   "cell_type": "markdown",
   "id": "2df75761-3326-4010-9fa8-0a8c589ebf69",
   "metadata": {
    "editable": true,
    "papermill": {
     "duration": 0.031285,
     "end_time": "2024-03-20T21:47:33.126082",
     "exception": false,
     "start_time": "2024-03-20T21:47:33.094797",
     "status": "completed"
    },
    "slideshow": {
     "slide_type": ""
    },
    "tags": []
   },
   "source": [
    "####  Paragraph 00"
   ]
  },
  {
   "cell_type": "code",
   "execution_count": 189,
   "id": "45449a9c-8d8d-4207-8a25-4fc3b0c78aa8",
   "metadata": {
    "execution": {
     "iopub.execute_input": "2024-03-20T21:47:33.188416Z",
     "iopub.status.busy": "2024-03-20T21:47:33.188199Z",
     "iopub.status.idle": "2024-03-20T21:47:33.191404Z",
     "shell.execute_reply": "2024-03-20T21:47:33.190896Z"
    },
    "papermill": {
     "duration": 0.035158,
     "end_time": "2024-03-20T21:47:33.192159",
     "exception": false,
     "start_time": "2024-03-20T21:47:33.157001",
     "status": "completed"
    },
    "tags": []
   },
   "outputs": [
    {
     "name": "stdout",
     "output_type": "stream",
     "text": [
      "We accessed tissue-specific gene networks of GIANT using both the web interface and web services provided by HumanBase [@url:https://hb.flatironinstitute.org]. The GIANT version used in this study included 987 genome-scale datasets with approximately 38,000 conditions from around 14,000 publications. Details on how these networks were built are described in [@doi:10.1038/ng.3259]. Briefly, tissue-specific gene networks were built using gene expression data (without GTEx samples [@url:https://hb.flatironinstitute.org/data]) from the NCBI's Gene Expression Omnibus (GEO) [@doi:10.1093/nar/gks1193], protein-protein interaction (BioGRID [@pmc:PMC3531226], IntAct [@doi:10.1093/nar/gkr1088], MINT [@doi:10.1093/nar/gkr930] and MIPS [@pmc:PMC148093]), transcription factor regulation using binding motifs from JASPAR [@doi:10.1093/nar/gkp950], and chemical and genetic perturbations from MSigDB [@doi:10.1073/pnas.0506580102]. Gene expression data were log-transformed, and the Pearson correlation was computed for each gene pair, normalized using the Fisher's z transform, and z-scores discretized into different bins. Gold standards for tissue-specific functional relationships were built using expert curation and experimentally derived gene annotations from the Gene Ontology. Then, one naive Bayesian classifier (using C++ implementations from the Sleipnir library [@pmid:18499696]) for each of the 144 tissues was trained using these gold standards. Finally, these classifiers were used to estimate the probability of tissue-specific interactions for each gene pair.\n"
     ]
    }
   ],
   "source": [
    "par0 = process_paragraph(orig_section_paragraphs[1])\n",
    "print(par0)"
   ]
  },
  {
   "cell_type": "code",
   "execution_count": 190,
   "id": "29892607-3a14-49bf-8a83-a82755b56771",
   "metadata": {
    "execution": {
     "iopub.execute_input": "2024-03-20T21:47:33.255244Z",
     "iopub.status.busy": "2024-03-20T21:47:33.255059Z",
     "iopub.status.idle": "2024-03-20T21:47:33.258241Z",
     "shell.execute_reply": "2024-03-20T21:47:33.257722Z"
    },
    "papermill": {
     "duration": 0.035139,
     "end_time": "2024-03-20T21:47:33.259004",
     "exception": false,
     "start_time": "2024-03-20T21:47:33.223865",
     "status": "completed"
    },
    "tags": []
   },
   "outputs": [
    {
     "name": "stdout",
     "output_type": "stream",
     "text": [
      "We accessed tissue-specific gene networks of GIANT using both the web interface and web services provided by HumanBase (https://hb.flatironinstitute.org). The GIANT version used in this study included 987 genome-scale datasets with approximately 38,000 conditions from around 14,000 publications. Details on how these networks were built are described in (DOI: 10.1038/ng.3259). Briefly, tissue-specific gene networks were built using gene expression data (without GTEx samples from https://hb.flatironinstitute.org/data) from the NCBI's Gene Expression Omnibus (GEO) (DOI: 10.1093/nar/gks1193), protein-protein interaction databases such as BioGRID (PMC: PMC3531226), IntAct (DOI: 10.1093/nar/gkr1088), MINT (DOI: 10.1093/nar/gkr930), and MIPS (PMC: PMC148093), transcription factor regulation using binding motifs from JASPAR (DOI: 10.1093/nar/gkp950), and chemical and genetic perturbations from MSigDB (DOI: 10.1073/pnas.0506580102). Gene expression data were log-transformed, and the Pearson correlation was computed for each gene pair, normalized using the Fisher's z transform, and z-scores discretized into different bins. Gold standards for tissue-specific functional relationships were built using expert curation and experimentally derived gene annotations from the Gene Ontology. Then, one naive Bayesian classifier (using C++ implementations from the Sleipnir library, PMID: 18499696) for each of the 144 tissues was trained using these gold standards. Finally, these classifiers were used to estimate the probability of tissue-specific interactions for each gene pair.\n"
     ]
    }
   ],
   "source": [
    "par1 = process_paragraph(mod_section_paragraphs[1:4])\n",
    "print(par1)"
   ]
  },
  {
   "cell_type": "code",
   "execution_count": 191,
   "id": "2e7bbcb6-e92e-4114-a59c-345ddb53387b",
   "metadata": {
    "execution": {
     "iopub.execute_input": "2024-03-20T21:47:33.321888Z",
     "iopub.status.busy": "2024-03-20T21:47:33.321707Z",
     "iopub.status.idle": "2024-03-20T21:47:33.324476Z",
     "shell.execute_reply": "2024-03-20T21:47:33.323962Z"
    },
    "papermill": {
     "duration": 0.035227,
     "end_time": "2024-03-20T21:47:33.325200",
     "exception": false,
     "start_time": "2024-03-20T21:47:33.289973",
     "status": "completed"
    },
    "tags": []
   },
   "outputs": [],
   "source": [
    "paragraph_matches.append(\n",
    "    (\n",
    "        section_name,\n",
    "        par0,\n",
    "        par1,\n",
    "    )\n",
    ")"
   ]
  },
  {
   "cell_type": "code",
   "execution_count": 192,
   "id": "09a5026f-b3fd-488c-89cd-84672d36ac57",
   "metadata": {
    "execution": {
     "iopub.execute_input": "2024-03-20T21:47:33.387884Z",
     "iopub.status.busy": "2024-03-20T21:47:33.387684Z",
     "iopub.status.idle": "2024-03-20T21:47:33.391443Z",
     "shell.execute_reply": "2024-03-20T21:47:33.390960Z"
    },
    "papermill": {
     "duration": 0.035903,
     "end_time": "2024-03-20T21:47:33.392175",
     "exception": false,
     "start_time": "2024-03-20T21:47:33.356272",
     "status": "completed"
    },
    "tags": []
   },
   "outputs": [
    {
     "data": {
      "text/plain": [
       "('methods',\n",
       " \"We accessed tissue-specific gene networks of GIANT using both the web interface and web services provided by HumanBase [@url:https://hb.flatironinstitute.org]. The GIANT version used in this study included 987 genome-scale datasets with approximately 38,000 conditions from around 14,000 publications. Details on how these networks were built are described in [@doi:10.1038/ng.3259]. Briefly, tissue-specific gene networks were built using gene expression data (without GTEx samples [@url:https://hb.flatironinstitute.org/data]) from the NCBI's Gene Expression Omnibus (GEO) [@doi:10.1093/nar/gks1193], protein-protein interaction (BioGRID [@pmc:PMC3531226], IntAct [@doi:10.1093/nar/gkr1088], MINT [@doi:10.1093/nar/gkr930] and MIPS [@pmc:PMC148093]), transcription factor regulation using binding motifs from JASPAR [@doi:10.1093/nar/gkp950], and chemical and genetic perturbations from MSigDB [@doi:10.1073/pnas.0506580102]. Gene expression data were log-transformed, and the Pearson correlation was computed for each gene pair, normalized using the Fisher's z transform, and z-scores discretized into different bins. Gold standards for tissue-specific functional relationships were built using expert curation and experimentally derived gene annotations from the Gene Ontology. Then, one naive Bayesian classifier (using C++ implementations from the Sleipnir library [@pmid:18499696]) for each of the 144 tissues was trained using these gold standards. Finally, these classifiers were used to estimate the probability of tissue-specific interactions for each gene pair.\",\n",
       " \"We accessed tissue-specific gene networks of GIANT using both the web interface and web services provided by HumanBase (https://hb.flatironinstitute.org). The GIANT version used in this study included 987 genome-scale datasets with approximately 38,000 conditions from around 14,000 publications. Details on how these networks were built are described in (DOI: 10.1038/ng.3259). Briefly, tissue-specific gene networks were built using gene expression data (without GTEx samples from https://hb.flatironinstitute.org/data) from the NCBI's Gene Expression Omnibus (GEO) (DOI: 10.1093/nar/gks1193), protein-protein interaction databases such as BioGRID (PMC: PMC3531226), IntAct (DOI: 10.1093/nar/gkr1088), MINT (DOI: 10.1093/nar/gkr930), and MIPS (PMC: PMC148093), transcription factor regulation using binding motifs from JASPAR (DOI: 10.1093/nar/gkp950), and chemical and genetic perturbations from MSigDB (DOI: 10.1073/pnas.0506580102). Gene expression data were log-transformed, and the Pearson correlation was computed for each gene pair, normalized using the Fisher's z transform, and z-scores discretized into different bins. Gold standards for tissue-specific functional relationships were built using expert curation and experimentally derived gene annotations from the Gene Ontology. Then, one naive Bayesian classifier (using C++ implementations from the Sleipnir library, PMID: 18499696) for each of the 144 tissues was trained using these gold standards. Finally, these classifiers were used to estimate the probability of tissue-specific interactions for each gene pair.\")"
      ]
     },
     "metadata": {},
     "output_type": "display_data"
    }
   ],
   "source": [
    "display(paragraph_matches[-1])"
   ]
  },
  {
   "cell_type": "markdown",
   "id": "0d0c0e3f-1e9b-4801-9ca6-55f022e55673",
   "metadata": {
    "editable": true,
    "papermill": {
     "duration": 0.030837,
     "end_time": "2024-03-20T21:47:33.454885",
     "exception": false,
     "start_time": "2024-03-20T21:47:33.424048",
     "status": "completed"
    },
    "slideshow": {
     "slide_type": ""
    },
    "tags": []
   },
   "source": [
    "####  Paragraph 01"
   ]
  },
  {
   "cell_type": "code",
   "execution_count": 193,
   "id": "a450aa54-83bf-4f07-b7bc-7bebf0606ecf",
   "metadata": {
    "execution": {
     "iopub.execute_input": "2024-03-20T21:47:33.518521Z",
     "iopub.status.busy": "2024-03-20T21:47:33.518182Z",
     "iopub.status.idle": "2024-03-20T21:47:33.521355Z",
     "shell.execute_reply": "2024-03-20T21:47:33.520837Z"
    },
    "papermill": {
     "duration": 0.035824,
     "end_time": "2024-03-20T21:47:33.522127",
     "exception": false,
     "start_time": "2024-03-20T21:47:33.486303",
     "status": "completed"
    },
    "tags": []
   },
   "outputs": [
    {
     "name": "stdout",
     "output_type": "stream",
     "text": [
      "For each pair of genes prioritized in our study using GTEx, we used GIANT through HumanBase to obtain 1) a predicted gene network for blood (manually selected to match whole blood in GTEx) and 2) a gene network with an automatically predicted tissue using the method described in [@doi:10.1101/gr.155697.113] and provided by HumanBase web interfaces/services. Briefly, the tissue prediction approach trains a machine learning model using comprehensive transcriptional data with human-curated markers of different cell lineages (e.g., macrophages) as gold standards. Then, these models are used to predict other cell lineage-specific genes. In addition to reporting this predicted tissue or cell lineage, we computed the average probability of interaction between all genes in the network retrieved from GIANT. Following the default procedure used in GIANT, we included the top 15 genes with the highest probability of interaction with the queried gene pair for each network.\n"
     ]
    }
   ],
   "source": [
    "par0 = process_paragraph(orig_section_paragraphs[2])\n",
    "print(par0)"
   ]
  },
  {
   "cell_type": "code",
   "execution_count": 194,
   "id": "d115562d-51bf-40b1-9fd4-44bcdbb5d4ac",
   "metadata": {
    "execution": {
     "iopub.execute_input": "2024-03-20T21:47:33.586265Z",
     "iopub.status.busy": "2024-03-20T21:47:33.585750Z",
     "iopub.status.idle": "2024-03-20T21:47:33.589114Z",
     "shell.execute_reply": "2024-03-20T21:47:33.588594Z"
    },
    "papermill": {
     "duration": 0.035821,
     "end_time": "2024-03-20T21:47:33.589913",
     "exception": false,
     "start_time": "2024-03-20T21:47:33.554092",
     "status": "completed"
    },
    "tags": []
   },
   "outputs": [
    {
     "name": "stdout",
     "output_type": "stream",
     "text": [
      "For each pair of genes prioritized in our study using GTEx, we utilized GIANT through HumanBase to acquire 1) a predicted gene network for blood (manually selected to match whole blood in GTEx) and 2) a gene network with an automatically predicted tissue using the method described in previous research [@doi:10.1101/gr.155697.113] and provided by HumanBase web interfaces/services. Briefly, the tissue prediction approach involves training a machine learning model using comprehensive transcriptional data with human-curated markers of different cell lineages (e.g., macrophages) as gold standards. These models are then utilized to predict other cell lineage-specific genes. Additionally, besides reporting the predicted tissue or cell lineage, we calculated the average probability of interaction between all genes in the network retrieved from GIANT. Following the default procedure used in GIANT, we included the top 15 genes with the highest probability of interaction with the queried gene pair for each network.\n"
     ]
    }
   ],
   "source": [
    "par1 = process_paragraph(\n",
    "    [\n",
    "        mod_section_paragraphs[4],\n",
    "        mod_section_paragraphs[6],\n",
    "    ]\n",
    ")\n",
    "print(par1)"
   ]
  },
  {
   "cell_type": "code",
   "execution_count": 195,
   "id": "35a55dbf-b588-4ab4-b562-a730890d232f",
   "metadata": {
    "execution": {
     "iopub.execute_input": "2024-03-20T21:47:33.676833Z",
     "iopub.status.busy": "2024-03-20T21:47:33.676499Z",
     "iopub.status.idle": "2024-03-20T21:47:33.679260Z",
     "shell.execute_reply": "2024-03-20T21:47:33.678769Z"
    },
    "papermill": {
     "duration": 0.03547,
     "end_time": "2024-03-20T21:47:33.679983",
     "exception": false,
     "start_time": "2024-03-20T21:47:33.644513",
     "status": "completed"
    },
    "tags": []
   },
   "outputs": [],
   "source": [
    "paragraph_matches.append(\n",
    "    (\n",
    "        section_name,\n",
    "        par0,\n",
    "        par1,\n",
    "    )\n",
    ")"
   ]
  },
  {
   "cell_type": "code",
   "execution_count": 196,
   "id": "20fd4387-8e3e-4a55-bec7-d6a4ca80d44c",
   "metadata": {
    "execution": {
     "iopub.execute_input": "2024-03-20T21:47:33.743034Z",
     "iopub.status.busy": "2024-03-20T21:47:33.742659Z",
     "iopub.status.idle": "2024-03-20T21:47:33.746376Z",
     "shell.execute_reply": "2024-03-20T21:47:33.745879Z"
    },
    "papermill": {
     "duration": 0.036117,
     "end_time": "2024-03-20T21:47:33.747081",
     "exception": false,
     "start_time": "2024-03-20T21:47:33.710964",
     "status": "completed"
    },
    "tags": []
   },
   "outputs": [
    {
     "data": {
      "text/plain": [
       "('methods',\n",
       " 'For each pair of genes prioritized in our study using GTEx, we used GIANT through HumanBase to obtain 1) a predicted gene network for blood (manually selected to match whole blood in GTEx) and 2) a gene network with an automatically predicted tissue using the method described in [@doi:10.1101/gr.155697.113] and provided by HumanBase web interfaces/services. Briefly, the tissue prediction approach trains a machine learning model using comprehensive transcriptional data with human-curated markers of different cell lineages (e.g., macrophages) as gold standards. Then, these models are used to predict other cell lineage-specific genes. In addition to reporting this predicted tissue or cell lineage, we computed the average probability of interaction between all genes in the network retrieved from GIANT. Following the default procedure used in GIANT, we included the top 15 genes with the highest probability of interaction with the queried gene pair for each network.',\n",
       " 'For each pair of genes prioritized in our study using GTEx, we utilized GIANT through HumanBase to acquire 1) a predicted gene network for blood (manually selected to match whole blood in GTEx) and 2) a gene network with an automatically predicted tissue using the method described in previous research [@doi:10.1101/gr.155697.113] and provided by HumanBase web interfaces/services. Briefly, the tissue prediction approach involves training a machine learning model using comprehensive transcriptional data with human-curated markers of different cell lineages (e.g., macrophages) as gold standards. These models are then utilized to predict other cell lineage-specific genes. Additionally, besides reporting the predicted tissue or cell lineage, we calculated the average probability of interaction between all genes in the network retrieved from GIANT. Following the default procedure used in GIANT, we included the top 15 genes with the highest probability of interaction with the queried gene pair for each network.')"
      ]
     },
     "metadata": {},
     "output_type": "display_data"
    }
   ],
   "source": [
    "display(paragraph_matches[-1])"
   ]
  },
  {
   "cell_type": "markdown",
   "id": "db1e15ca-381e-4513-81ff-fe866b8f1382",
   "metadata": {
    "editable": true,
    "papermill": {
     "duration": 0.030976,
     "end_time": "2024-03-20T21:47:33.809343",
     "exception": false,
     "start_time": "2024-03-20T21:47:33.778367",
     "status": "completed"
    },
    "slideshow": {
     "slide_type": ""
    },
    "tags": []
   },
   "source": [
    "## Methods (mic)"
   ]
  },
  {
   "cell_type": "code",
   "execution_count": 197,
   "id": "d4086043-5d2a-4017-a4ff-2dc6d722adea",
   "metadata": {
    "execution": {
     "iopub.execute_input": "2024-03-20T21:47:33.872474Z",
     "iopub.status.busy": "2024-03-20T21:47:33.872101Z",
     "iopub.status.idle": "2024-03-20T21:47:33.874660Z",
     "shell.execute_reply": "2024-03-20T21:47:33.874143Z"
    },
    "papermill": {
     "duration": 0.035038,
     "end_time": "2024-03-20T21:47:33.875403",
     "exception": false,
     "start_time": "2024-03-20T21:47:33.840365",
     "status": "completed"
    },
    "tags": []
   },
   "outputs": [],
   "source": [
    "# section_name = \"methods\""
   ]
  },
  {
   "cell_type": "code",
   "execution_count": 198,
   "id": "84d50740-bd41-4de3-b2aa-8548d577ca69",
   "metadata": {
    "editable": true,
    "execution": {
     "iopub.execute_input": "2024-03-20T21:47:33.938340Z",
     "iopub.status.busy": "2024-03-20T21:47:33.937946Z",
     "iopub.status.idle": "2024-03-20T21:47:33.941294Z",
     "shell.execute_reply": "2024-03-20T21:47:33.940777Z"
    },
    "papermill": {
     "duration": 0.035645,
     "end_time": "2024-03-20T21:47:33.942069",
     "exception": false,
     "start_time": "2024-03-20T21:47:33.906424",
     "status": "completed"
    },
    "slideshow": {
     "slide_type": ""
    },
    "tags": []
   },
   "outputs": [
    {
     "name": "stdout",
     "output_type": "stream",
     "text": [
      "content/08.20.methods.mic.md\n"
     ]
    }
   ],
   "source": [
    "pr_filename = pr_files[9].filename\n",
    "assert section_name in pr_filename\n",
    "assert \"mic\" in pr_filename\n",
    "print(pr_filename)"
   ]
  },
  {
   "cell_type": "markdown",
   "id": "e2a6d234-1197-424a-9e87-09264d25f414",
   "metadata": {
    "editable": true,
    "papermill": {
     "duration": 0.030922,
     "end_time": "2024-03-20T21:47:34.004326",
     "exception": false,
     "start_time": "2024-03-20T21:47:33.973404",
     "status": "completed"
    },
    "slideshow": {
     "slide_type": ""
    },
    "tags": []
   },
   "source": [
    "### Original"
   ]
  },
  {
   "cell_type": "code",
   "execution_count": 199,
   "id": "a7972447-3002-4578-9794-6980e8f633fc",
   "metadata": {
    "execution": {
     "iopub.execute_input": "2024-03-20T21:47:34.067395Z",
     "iopub.status.busy": "2024-03-20T21:47:34.067028Z",
     "iopub.status.idle": "2024-03-20T21:47:34.254623Z",
     "shell.execute_reply": "2024-03-20T21:47:34.254042Z"
    },
    "papermill": {
     "duration": 0.220021,
     "end_time": "2024-03-20T21:47:34.255363",
     "exception": false,
     "start_time": "2024-03-20T21:47:34.035342",
     "status": "completed"
    },
    "tags": []
   },
   "outputs": [
    {
     "name": "stdout",
     "output_type": "stream",
     "text": [
      "### Maximal Information Coefficient (MIC) {#sec:me\n"
     ]
    }
   ],
   "source": [
    "# get content\n",
    "orig_section_content = repo.get_contents(pr_filename, pr_prev).decoded_content.decode(\n",
    "    \"utf-8\"\n",
    ")\n",
    "print(orig_section_content[:50])"
   ]
  },
  {
   "cell_type": "code",
   "execution_count": 200,
   "id": "6a7df63f-b41b-481a-9f28-96807a0ae72e",
   "metadata": {
    "execution": {
     "iopub.execute_input": "2024-03-20T21:47:34.333153Z",
     "iopub.status.busy": "2024-03-20T21:47:34.332794Z",
     "iopub.status.idle": "2024-03-20T21:47:34.336514Z",
     "shell.execute_reply": "2024-03-20T21:47:34.336013Z"
    },
    "papermill": {
     "duration": 0.050823,
     "end_time": "2024-03-20T21:47:34.337210",
     "exception": false,
     "start_time": "2024-03-20T21:47:34.286387",
     "status": "completed"
    },
    "tags": []
   },
   "outputs": [
    {
     "data": {
      "text/plain": [
       "2"
      ]
     },
     "metadata": {},
     "output_type": "display_data"
    }
   ],
   "source": [
    "# split by paragraph\n",
    "orig_section_paragraphs = orig_section_content.split(\"\\n\\n\")\n",
    "display(len(orig_section_paragraphs))"
   ]
  },
  {
   "cell_type": "markdown",
   "id": "6b49bfe9-2d12-46c5-9e1a-21dc8ef5ca53",
   "metadata": {
    "editable": true,
    "papermill": {
     "duration": 0.030716,
     "end_time": "2024-03-20T21:47:34.398775",
     "exception": false,
     "start_time": "2024-03-20T21:47:34.368059",
     "status": "completed"
    },
    "slideshow": {
     "slide_type": ""
    },
    "tags": []
   },
   "source": [
    "### Modified"
   ]
  },
  {
   "cell_type": "code",
   "execution_count": 201,
   "id": "fbb7b941-6fad-4f41-8704-041b157ebf11",
   "metadata": {
    "execution": {
     "iopub.execute_input": "2024-03-20T21:47:34.461809Z",
     "iopub.status.busy": "2024-03-20T21:47:34.461472Z",
     "iopub.status.idle": "2024-03-20T21:47:34.670593Z",
     "shell.execute_reply": "2024-03-20T21:47:34.670066Z"
    },
    "papermill": {
     "duration": 0.241548,
     "end_time": "2024-03-20T21:47:34.671264",
     "exception": false,
     "start_time": "2024-03-20T21:47:34.429716",
     "status": "completed"
    },
    "tags": []
   },
   "outputs": [
    {
     "name": "stdout",
     "output_type": "stream",
     "text": [
      "### Maximal Information Coefficient (MIC) {#sec:me\n"
     ]
    }
   ],
   "source": [
    "# get content\n",
    "mod_section_content = repo.get_contents(pr_filename, pr_curr).decoded_content.decode(\n",
    "    \"utf-8\"\n",
    ")\n",
    "print(mod_section_content[:50])"
   ]
  },
  {
   "cell_type": "code",
   "execution_count": 202,
   "id": "e03331a5-2c64-4c36-9864-77ee3100fbfa",
   "metadata": {
    "execution": {
     "iopub.execute_input": "2024-03-20T21:47:34.740766Z",
     "iopub.status.busy": "2024-03-20T21:47:34.740426Z",
     "iopub.status.idle": "2024-03-20T21:47:34.744117Z",
     "shell.execute_reply": "2024-03-20T21:47:34.743609Z"
    },
    "papermill": {
     "duration": 0.042689,
     "end_time": "2024-03-20T21:47:34.744865",
     "exception": false,
     "start_time": "2024-03-20T21:47:34.702176",
     "status": "completed"
    },
    "tags": []
   },
   "outputs": [
    {
     "data": {
      "text/plain": [
       "4"
      ]
     },
     "metadata": {},
     "output_type": "display_data"
    }
   ],
   "source": [
    "# split by paragraph\n",
    "mod_section_paragraphs = mod_section_content.split(\"\\n\\n\")\n",
    "display(len(mod_section_paragraphs))"
   ]
  },
  {
   "cell_type": "markdown",
   "id": "c73804e3-42c2-4576-8f86-837c9b70474c",
   "metadata": {
    "editable": true,
    "papermill": {
     "duration": 0.03084,
     "end_time": "2024-03-20T21:47:34.811750",
     "exception": false,
     "start_time": "2024-03-20T21:47:34.780910",
     "status": "completed"
    },
    "slideshow": {
     "slide_type": ""
    },
    "tags": []
   },
   "source": [
    "### Match"
   ]
  },
  {
   "cell_type": "code",
   "execution_count": 203,
   "id": "7c2272f8-d171-4568-9aea-b77cb78bbcf7",
   "metadata": {
    "execution": {
     "iopub.execute_input": "2024-03-20T21:47:34.898163Z",
     "iopub.status.busy": "2024-03-20T21:47:34.897834Z",
     "iopub.status.idle": "2024-03-20T21:47:34.901331Z",
     "shell.execute_reply": "2024-03-20T21:47:34.900850Z"
    },
    "papermill": {
     "duration": 0.035992,
     "end_time": "2024-03-20T21:47:34.902021",
     "exception": false,
     "start_time": "2024-03-20T21:47:34.866029",
     "status": "completed"
    },
    "tags": []
   },
   "outputs": [
    {
     "data": {
      "text/plain": [
       "'### Maximal Information Coefficient (MIC) {#sec:methods:mic}'"
      ]
     },
     "execution_count": 203,
     "metadata": {},
     "output_type": "execute_result"
    }
   ],
   "source": [
    "orig_section_paragraphs[0]"
   ]
  },
  {
   "cell_type": "code",
   "execution_count": 204,
   "id": "2c6b5fb6-9138-477b-bd6d-18ec951c86b8",
   "metadata": {
    "execution": {
     "iopub.execute_input": "2024-03-20T21:47:34.965213Z",
     "iopub.status.busy": "2024-03-20T21:47:34.964888Z",
     "iopub.status.idle": "2024-03-20T21:47:34.968308Z",
     "shell.execute_reply": "2024-03-20T21:47:34.967820Z"
    },
    "papermill": {
     "duration": 0.035809,
     "end_time": "2024-03-20T21:47:34.969057",
     "exception": false,
     "start_time": "2024-03-20T21:47:34.933248",
     "status": "completed"
    },
    "tags": []
   },
   "outputs": [
    {
     "data": {
      "text/plain": [
       "'### Maximal Information Coefficient (MIC) {#sec:methods:mic}'"
      ]
     },
     "execution_count": 204,
     "metadata": {},
     "output_type": "execute_result"
    }
   ],
   "source": [
    "mod_section_paragraphs[0]"
   ]
  },
  {
   "cell_type": "markdown",
   "id": "67c5a38b-967a-4cdb-be7d-4e4e006422de",
   "metadata": {
    "editable": true,
    "papermill": {
     "duration": 0.031988,
     "end_time": "2024-03-20T21:47:35.032687",
     "exception": false,
     "start_time": "2024-03-20T21:47:35.000699",
     "status": "completed"
    },
    "slideshow": {
     "slide_type": ""
    },
    "tags": []
   },
   "source": [
    "####  Paragraph 00"
   ]
  },
  {
   "cell_type": "code",
   "execution_count": 205,
   "id": "fc15031c-84d9-4af3-99b4-2e691707b746",
   "metadata": {
    "execution": {
     "iopub.execute_input": "2024-03-20T21:47:35.097891Z",
     "iopub.status.busy": "2024-03-20T21:47:35.097551Z",
     "iopub.status.idle": "2024-03-20T21:47:35.100679Z",
     "shell.execute_reply": "2024-03-20T21:47:35.100131Z"
    },
    "papermill": {
     "duration": 0.036809,
     "end_time": "2024-03-20T21:47:35.101437",
     "exception": false,
     "start_time": "2024-03-20T21:47:35.064628",
     "status": "completed"
    },
    "tags": []
   },
   "outputs": [
    {
     "name": "stdout",
     "output_type": "stream",
     "text": [
      "We used the Python package `minepy` [@doi:10.1093/bioinformatics/bts707; @url:https://github.com/minepy/minepy] (version 1.2.5) to estimate the MIC coefficient. In GTEx v8 (whole blood), we used MIC<sub>e</sub> (an improved implementation of the original MIC introduced in [@Reshef2016]) with the default parameters `alpha=0.6`, `c=15` and `estimator='mic_e'`. We used the `pairwise_distances` function from `scikit-learn` [@Sklearn2011] to parallelize the computation of MIC on GTEx. For our computational complexity analyses (see [Supplementary Material](#sec:time_test)), we ran the original MIC (using parameter `estimator='mic_approx'`) and MIC<sub>e</sub> (`estimator='mic_e'`).\n"
     ]
    }
   ],
   "source": [
    "par0 = process_paragraph(orig_section_paragraphs[1])\n",
    "print(par0)"
   ]
  },
  {
   "cell_type": "code",
   "execution_count": 206,
   "id": "829749f2-1cb7-45c1-b897-7d721c79bf66",
   "metadata": {
    "execution": {
     "iopub.execute_input": "2024-03-20T21:47:35.167313Z",
     "iopub.status.busy": "2024-03-20T21:47:35.166986Z",
     "iopub.status.idle": "2024-03-20T21:47:35.170006Z",
     "shell.execute_reply": "2024-03-20T21:47:35.169504Z"
    },
    "papermill": {
     "duration": 0.036649,
     "end_time": "2024-03-20T21:47:35.170732",
     "exception": false,
     "start_time": "2024-03-20T21:47:35.134083",
     "status": "completed"
    },
    "tags": []
   },
   "outputs": [
    {
     "name": "stdout",
     "output_type": "stream",
     "text": [
      "We used the Python package `minepy` [@doi:10.1093/bioinformatics/bts707; @url:https://github.com/minepy/minepy] (version 1.2.5) to estimate the Maximal Information Coefficient (MIC) coefficient. In GTEx v8 (whole blood), we used MIC<sub>e</sub>, an improved implementation of the original MIC introduced in Reshef et al. (2016) with the default parameters `alpha=0.6`, `c=15`, and `estimator='mic_e'`. We utilized the `pairwise_distances` function from `scikit-learn` [@Sklearn2011] to parallelize the computation of MIC on GTEx. For our computational complexity analyses (see Supplementary Material), we ran the original MIC (using parameter `estimator='mic_approx'`) and MIC<sub>e</sub> (with `estimator='mic_e'`).\n"
     ]
    }
   ],
   "source": [
    "par1 = process_paragraph(mod_section_paragraphs[1])\n",
    "print(par1)"
   ]
  },
  {
   "cell_type": "code",
   "execution_count": 207,
   "id": "c3054236-fc40-4d23-8cf3-48b81a2e78c2",
   "metadata": {
    "execution": {
     "iopub.execute_input": "2024-03-20T21:47:35.235169Z",
     "iopub.status.busy": "2024-03-20T21:47:35.234987Z",
     "iopub.status.idle": "2024-03-20T21:47:35.237700Z",
     "shell.execute_reply": "2024-03-20T21:47:35.237204Z"
    },
    "papermill": {
     "duration": 0.035854,
     "end_time": "2024-03-20T21:47:35.238348",
     "exception": false,
     "start_time": "2024-03-20T21:47:35.202494",
     "status": "completed"
    },
    "tags": []
   },
   "outputs": [],
   "source": [
    "paragraph_matches.append(\n",
    "    (\n",
    "        section_name,\n",
    "        par0,\n",
    "        par1,\n",
    "    )\n",
    ")"
   ]
  },
  {
   "cell_type": "code",
   "execution_count": 208,
   "id": "bba7fc51-97e3-4100-8bc2-922881f26556",
   "metadata": {
    "execution": {
     "iopub.execute_input": "2024-03-20T21:47:35.303440Z",
     "iopub.status.busy": "2024-03-20T21:47:35.303107Z",
     "iopub.status.idle": "2024-03-20T21:47:35.306836Z",
     "shell.execute_reply": "2024-03-20T21:47:35.306333Z"
    },
    "papermill": {
     "duration": 0.037078,
     "end_time": "2024-03-20T21:47:35.307580",
     "exception": false,
     "start_time": "2024-03-20T21:47:35.270502",
     "status": "completed"
    },
    "tags": []
   },
   "outputs": [
    {
     "data": {
      "text/plain": [
       "('methods',\n",
       " \"We used the Python package `minepy` [@doi:10.1093/bioinformatics/bts707; @url:https://github.com/minepy/minepy] (version 1.2.5) to estimate the MIC coefficient. In GTEx v8 (whole blood), we used MIC<sub>e</sub> (an improved implementation of the original MIC introduced in [@Reshef2016]) with the default parameters `alpha=0.6`, `c=15` and `estimator='mic_e'`. We used the `pairwise_distances` function from `scikit-learn` [@Sklearn2011] to parallelize the computation of MIC on GTEx. For our computational complexity analyses (see [Supplementary Material](#sec:time_test)), we ran the original MIC (using parameter `estimator='mic_approx'`) and MIC<sub>e</sub> (`estimator='mic_e'`).\",\n",
       " \"We used the Python package `minepy` [@doi:10.1093/bioinformatics/bts707; @url:https://github.com/minepy/minepy] (version 1.2.5) to estimate the Maximal Information Coefficient (MIC) coefficient. In GTEx v8 (whole blood), we used MIC<sub>e</sub>, an improved implementation of the original MIC introduced in Reshef et al. (2016) with the default parameters `alpha=0.6`, `c=15`, and `estimator='mic_e'`. We utilized the `pairwise_distances` function from `scikit-learn` [@Sklearn2011] to parallelize the computation of MIC on GTEx. For our computational complexity analyses (see Supplementary Material), we ran the original MIC (using parameter `estimator='mic_approx'`) and MIC<sub>e</sub> (with `estimator='mic_e'`).\")"
      ]
     },
     "metadata": {},
     "output_type": "display_data"
    }
   ],
   "source": [
    "display(paragraph_matches[-1])"
   ]
  },
  {
   "cell_type": "markdown",
   "id": "6d45b21f-dc1f-470c-aa18-8281551f08ea",
   "metadata": {
    "editable": true,
    "papermill": {
     "duration": 0.032465,
     "end_time": "2024-03-20T21:47:35.372425",
     "exception": false,
     "start_time": "2024-03-20T21:47:35.339960",
     "status": "completed"
    },
    "slideshow": {
     "slide_type": ""
    },
    "tags": []
   },
   "source": [
    "## Supplementary material"
   ]
  },
  {
   "cell_type": "code",
   "execution_count": 209,
   "id": "eb506c88-55d9-45cf-8967-b8dc5ee991d4",
   "metadata": {
    "execution": {
     "iopub.execute_input": "2024-03-20T21:47:35.437234Z",
     "iopub.status.busy": "2024-03-20T21:47:35.436898Z",
     "iopub.status.idle": "2024-03-20T21:47:35.439465Z",
     "shell.execute_reply": "2024-03-20T21:47:35.438978Z"
    },
    "papermill": {
     "duration": 0.035881,
     "end_time": "2024-03-20T21:47:35.440163",
     "exception": false,
     "start_time": "2024-03-20T21:47:35.404282",
     "status": "completed"
    },
    "tags": []
   },
   "outputs": [],
   "source": [
    "section_name = \"supplementary material\""
   ]
  },
  {
   "cell_type": "code",
   "execution_count": 210,
   "id": "80f48a6c-8bb6-4cc6-9c59-b331faa12e4a",
   "metadata": {
    "editable": true,
    "execution": {
     "iopub.execute_input": "2024-03-20T21:47:35.505333Z",
     "iopub.status.busy": "2024-03-20T21:47:35.504881Z",
     "iopub.status.idle": "2024-03-20T21:47:35.507979Z",
     "shell.execute_reply": "2024-03-20T21:47:35.507547Z"
    },
    "papermill": {
     "duration": 0.03596,
     "end_time": "2024-03-20T21:47:35.508708",
     "exception": false,
     "start_time": "2024-03-20T21:47:35.472748",
     "status": "completed"
    },
    "slideshow": {
     "slide_type": ""
    },
    "tags": []
   },
   "outputs": [
    {
     "name": "stdout",
     "output_type": "stream",
     "text": [
      "content/20.00.supplementary_material.md\n"
     ]
    }
   ],
   "source": [
    "pr_filename = pr_files[10].filename\n",
    "assert \"supplementary\" in pr_filename\n",
    "print(pr_filename)"
   ]
  },
  {
   "cell_type": "markdown",
   "id": "f8f778d6-b726-44cd-965a-deabc1e43df6",
   "metadata": {
    "editable": true,
    "papermill": {
     "duration": 0.031455,
     "end_time": "2024-03-20T21:47:35.571503",
     "exception": false,
     "start_time": "2024-03-20T21:47:35.540048",
     "status": "completed"
    },
    "slideshow": {
     "slide_type": ""
    },
    "tags": []
   },
   "source": [
    "### Original"
   ]
  },
  {
   "cell_type": "code",
   "execution_count": 211,
   "id": "5326b431-733c-4824-b11b-06e1c93d5332",
   "metadata": {
    "execution": {
     "iopub.execute_input": "2024-03-20T21:47:35.636970Z",
     "iopub.status.busy": "2024-03-20T21:47:35.636645Z",
     "iopub.status.idle": "2024-03-20T21:47:35.801040Z",
     "shell.execute_reply": "2024-03-20T21:47:35.800588Z"
    },
    "papermill": {
     "duration": 0.197679,
     "end_time": "2024-03-20T21:47:35.801783",
     "exception": false,
     "start_time": "2024-03-20T21:47:35.604104",
     "status": "completed"
    },
    "tags": []
   },
   "outputs": [
    {
     "name": "stdout",
     "output_type": "stream",
     "text": [
      "## Supplementary material {.page_break_before}\n",
      "\n",
      "##\n"
     ]
    }
   ],
   "source": [
    "# get content\n",
    "orig_section_content = repo.get_contents(pr_filename, pr_prev).decoded_content.decode(\n",
    "    \"utf-8\"\n",
    ")\n",
    "print(orig_section_content[:50])"
   ]
  },
  {
   "cell_type": "code",
   "execution_count": 212,
   "id": "ecae7b08-e1a6-446e-891c-9d8df471e07b",
   "metadata": {
    "execution": {
     "iopub.execute_input": "2024-03-20T21:47:35.875465Z",
     "iopub.status.busy": "2024-03-20T21:47:35.875085Z",
     "iopub.status.idle": "2024-03-20T21:47:35.879041Z",
     "shell.execute_reply": "2024-03-20T21:47:35.878507Z"
    },
    "papermill": {
     "duration": 0.046051,
     "end_time": "2024-03-20T21:47:35.879803",
     "exception": false,
     "start_time": "2024-03-20T21:47:35.833752",
     "status": "completed"
    },
    "tags": []
   },
   "outputs": [
    {
     "data": {
      "text/plain": [
       "14"
      ]
     },
     "metadata": {},
     "output_type": "display_data"
    }
   ],
   "source": [
    "# split by paragraph\n",
    "orig_section_paragraphs = orig_section_content.split(\"\\n\\n\")\n",
    "display(len(orig_section_paragraphs))"
   ]
  },
  {
   "cell_type": "markdown",
   "id": "6233852e-953c-4acd-9f8b-f845ce267431",
   "metadata": {
    "editable": true,
    "papermill": {
     "duration": 0.032029,
     "end_time": "2024-03-20T21:47:35.943959",
     "exception": false,
     "start_time": "2024-03-20T21:47:35.911930",
     "status": "completed"
    },
    "slideshow": {
     "slide_type": ""
    },
    "tags": []
   },
   "source": [
    "### Modified"
   ]
  },
  {
   "cell_type": "code",
   "execution_count": 213,
   "id": "8f929b17-a144-4301-b40b-c10ef24bfd09",
   "metadata": {
    "execution": {
     "iopub.execute_input": "2024-03-20T21:47:36.010577Z",
     "iopub.status.busy": "2024-03-20T21:47:36.010200Z",
     "iopub.status.idle": "2024-03-20T21:47:36.274183Z",
     "shell.execute_reply": "2024-03-20T21:47:36.273690Z"
    },
    "papermill": {
     "duration": 0.299298,
     "end_time": "2024-03-20T21:47:36.274927",
     "exception": false,
     "start_time": "2024-03-20T21:47:35.975629",
     "status": "completed"
    },
    "tags": []
   },
   "outputs": [
    {
     "name": "stdout",
     "output_type": "stream",
     "text": [
      "## Supplementary material {.page_break_before}\n",
      "\n",
      "##\n"
     ]
    }
   ],
   "source": [
    "# get content\n",
    "mod_section_content = repo.get_contents(pr_filename, pr_curr).decoded_content.decode(\n",
    "    \"utf-8\"\n",
    ")\n",
    "print(mod_section_content[:50])"
   ]
  },
  {
   "cell_type": "code",
   "execution_count": 214,
   "id": "bfa5e191-05b6-4f0d-802b-5625d233d8a2",
   "metadata": {
    "execution": {
     "iopub.execute_input": "2024-03-20T21:47:36.353098Z",
     "iopub.status.busy": "2024-03-20T21:47:36.352750Z",
     "iopub.status.idle": "2024-03-20T21:47:36.356218Z",
     "shell.execute_reply": "2024-03-20T21:47:36.355789Z"
    },
    "papermill": {
     "duration": 0.046423,
     "end_time": "2024-03-20T21:47:36.357000",
     "exception": false,
     "start_time": "2024-03-20T21:47:36.310577",
     "status": "completed"
    },
    "tags": []
   },
   "outputs": [
    {
     "data": {
      "text/plain": [
       "14"
      ]
     },
     "metadata": {},
     "output_type": "display_data"
    }
   ],
   "source": [
    "# split by paragraph\n",
    "mod_section_paragraphs = mod_section_content.split(\"\\n\\n\")\n",
    "display(len(mod_section_paragraphs))"
   ]
  },
  {
   "cell_type": "markdown",
   "id": "a64b872b-1c89-4e59-9744-77431d80c867",
   "metadata": {
    "editable": true,
    "papermill": {
     "duration": 0.031744,
     "end_time": "2024-03-20T21:47:36.420718",
     "exception": false,
     "start_time": "2024-03-20T21:47:36.388974",
     "status": "completed"
    },
    "slideshow": {
     "slide_type": ""
    },
    "tags": []
   },
   "source": [
    "### Match"
   ]
  },
  {
   "cell_type": "code",
   "execution_count": 215,
   "id": "da56bb66-a1aa-4bb8-9706-41a66db00310",
   "metadata": {
    "execution": {
     "iopub.execute_input": "2024-03-20T21:47:36.486144Z",
     "iopub.status.busy": "2024-03-20T21:47:36.485728Z",
     "iopub.status.idle": "2024-03-20T21:47:36.489042Z",
     "shell.execute_reply": "2024-03-20T21:47:36.488617Z"
    },
    "papermill": {
     "duration": 0.036362,
     "end_time": "2024-03-20T21:47:36.489771",
     "exception": false,
     "start_time": "2024-03-20T21:47:36.453409",
     "status": "completed"
    },
    "tags": []
   },
   "outputs": [
    {
     "data": {
      "text/plain": [
       "'## Supplementary material {.page_break_before}'"
      ]
     },
     "execution_count": 215,
     "metadata": {},
     "output_type": "execute_result"
    }
   ],
   "source": [
    "orig_section_paragraphs[0]"
   ]
  },
  {
   "cell_type": "code",
   "execution_count": 216,
   "id": "7c647270-f58a-4cf0-ada7-fd45aea16193",
   "metadata": {
    "execution": {
     "iopub.execute_input": "2024-03-20T21:47:36.577969Z",
     "iopub.status.busy": "2024-03-20T21:47:36.577666Z",
     "iopub.status.idle": "2024-03-20T21:47:36.580954Z",
     "shell.execute_reply": "2024-03-20T21:47:36.580515Z"
    },
    "papermill": {
     "duration": 0.060144,
     "end_time": "2024-03-20T21:47:36.581630",
     "exception": false,
     "start_time": "2024-03-20T21:47:36.521486",
     "status": "completed"
    },
    "tags": []
   },
   "outputs": [
    {
     "data": {
      "text/plain": [
       "'## Supplementary material {.page_break_before}'"
      ]
     },
     "execution_count": 216,
     "metadata": {},
     "output_type": "execute_result"
    }
   ],
   "source": [
    "mod_section_paragraphs[0]"
   ]
  },
  {
   "cell_type": "markdown",
   "id": "469a6a3c-e8c5-49c5-a1eb-2314a7b2302a",
   "metadata": {
    "editable": true,
    "papermill": {
     "duration": 0.031727,
     "end_time": "2024-03-20T21:47:36.645821",
     "exception": false,
     "start_time": "2024-03-20T21:47:36.614094",
     "status": "completed"
    },
    "slideshow": {
     "slide_type": ""
    },
    "tags": []
   },
   "source": [
    "####  Paragraph 00"
   ]
  },
  {
   "cell_type": "code",
   "execution_count": 217,
   "id": "efa5226e-5064-4bfa-965d-2cd12e0aab4a",
   "metadata": {
    "execution": {
     "iopub.execute_input": "2024-03-20T21:47:36.710714Z",
     "iopub.status.busy": "2024-03-20T21:47:36.710289Z",
     "iopub.status.idle": "2024-03-20T21:47:36.713423Z",
     "shell.execute_reply": "2024-03-20T21:47:36.712965Z"
    },
    "papermill": {
     "duration": 0.036272,
     "end_time": "2024-03-20T21:47:36.714152",
     "exception": false,
     "start_time": "2024-03-20T21:47:36.677880",
     "status": "completed"
    },
    "tags": []
   },
   "outputs": [
    {
     "name": "stdout",
     "output_type": "stream",
     "text": [
      "We compared all the coefficients in this study with MIC [@pmid:22174245], a popular nonlinear method that can find complex relationships in data, although very computationally intensive [@doi:10.1098/rsos.201424]. We ran MIC<sub>e</sub> (see Methods) on all possible pairwise comparisons of our 5,000 highly variable genes from whole blood in GTEx v8. This took 4 days and 19 hours to finish (compared with 9 hours for CCC). Then we performed the analysis on the distribution of coefficients (the same as in the main text), shown in Figure @fig:dist_coefs_mic. We verified that CCC and MIC behave similarly in this dataset, with essentially the same distribution but only shifted. Figure @fig:dist_coefs_mic c shows that these two coefficients relate almost linearly, and both compare very similarly with Pearson and Spearman.\n"
     ]
    }
   ],
   "source": [
    "par0 = process_paragraph(orig_section_paragraphs[2])\n",
    "print(par0)"
   ]
  },
  {
   "cell_type": "code",
   "execution_count": 218,
   "id": "71f77d77-644e-4442-a351-ad6548544d4d",
   "metadata": {
    "execution": {
     "iopub.execute_input": "2024-03-20T21:47:36.780240Z",
     "iopub.status.busy": "2024-03-20T21:47:36.779930Z",
     "iopub.status.idle": "2024-03-20T21:47:36.782830Z",
     "shell.execute_reply": "2024-03-20T21:47:36.782393Z"
    },
    "papermill": {
     "duration": 0.037056,
     "end_time": "2024-03-20T21:47:36.783549",
     "exception": false,
     "start_time": "2024-03-20T21:47:36.746493",
     "status": "completed"
    },
    "tags": []
   },
   "outputs": [
    {
     "name": "stdout",
     "output_type": "stream",
     "text": [
      "We compared the coefficients from our study with the MIC method, which is known for identifying complex relationships in data but is computationally intensive. We applied MICe to all possible pairwise comparisons of 5,000 highly variable genes from whole blood in GTEx v8. This process took 4 days and 19 hours to complete, significantly longer than the 9 hours required for CCC. The analysis of coefficient distribution, as described in the main text, is shown in Figure 1. We found that CCC and MIC exhibited similar behavior in this dataset, with comparable distributions that were only slightly shifted. Figure 1c illustrates a nearly linear relationship between these two coefficients, which also showed similarities with Pearson and Spearman correlations.\n"
     ]
    }
   ],
   "source": [
    "par1 = process_paragraph(mod_section_paragraphs[2])\n",
    "print(par1)"
   ]
  },
  {
   "cell_type": "code",
   "execution_count": 219,
   "id": "b2424cd0-b116-462c-ab7b-7d9b558eaf8b",
   "metadata": {
    "execution": {
     "iopub.execute_input": "2024-03-20T21:47:36.848581Z",
     "iopub.status.busy": "2024-03-20T21:47:36.848224Z",
     "iopub.status.idle": "2024-03-20T21:47:36.851148Z",
     "shell.execute_reply": "2024-03-20T21:47:36.850571Z"
    },
    "papermill": {
     "duration": 0.036254,
     "end_time": "2024-03-20T21:47:36.851959",
     "exception": false,
     "start_time": "2024-03-20T21:47:36.815705",
     "status": "completed"
    },
    "tags": []
   },
   "outputs": [],
   "source": [
    "paragraph_matches.append(\n",
    "    (\n",
    "        section_name,\n",
    "        par0,\n",
    "        par1,\n",
    "    )\n",
    ")"
   ]
  },
  {
   "cell_type": "code",
   "execution_count": 220,
   "id": "95819616-d4c8-4297-8f39-908533eef881",
   "metadata": {
    "execution": {
     "iopub.execute_input": "2024-03-20T21:47:36.918144Z",
     "iopub.status.busy": "2024-03-20T21:47:36.917917Z",
     "iopub.status.idle": "2024-03-20T21:47:36.921581Z",
     "shell.execute_reply": "2024-03-20T21:47:36.921149Z"
    },
    "papermill": {
     "duration": 0.037631,
     "end_time": "2024-03-20T21:47:36.922319",
     "exception": false,
     "start_time": "2024-03-20T21:47:36.884688",
     "status": "completed"
    },
    "tags": []
   },
   "outputs": [
    {
     "data": {
      "text/plain": [
       "('supplementary material',\n",
       " 'We compared all the coefficients in this study with MIC [@pmid:22174245], a popular nonlinear method that can find complex relationships in data, although very computationally intensive [@doi:10.1098/rsos.201424]. We ran MIC<sub>e</sub> (see Methods) on all possible pairwise comparisons of our 5,000 highly variable genes from whole blood in GTEx v8. This took 4 days and 19 hours to finish (compared with 9 hours for CCC). Then we performed the analysis on the distribution of coefficients (the same as in the main text), shown in Figure @fig:dist_coefs_mic. We verified that CCC and MIC behave similarly in this dataset, with essentially the same distribution but only shifted. Figure @fig:dist_coefs_mic c shows that these two coefficients relate almost linearly, and both compare very similarly with Pearson and Spearman.',\n",
       " 'We compared the coefficients from our study with the MIC method, which is known for identifying complex relationships in data but is computationally intensive. We applied MICe to all possible pairwise comparisons of 5,000 highly variable genes from whole blood in GTEx v8. This process took 4 days and 19 hours to complete, significantly longer than the 9 hours required for CCC. The analysis of coefficient distribution, as described in the main text, is shown in Figure 1. We found that CCC and MIC exhibited similar behavior in this dataset, with comparable distributions that were only slightly shifted. Figure 1c illustrates a nearly linear relationship between these two coefficients, which also showed similarities with Pearson and Spearman correlations.')"
      ]
     },
     "metadata": {},
     "output_type": "display_data"
    }
   ],
   "source": [
    "display(paragraph_matches[-1])"
   ]
  },
  {
   "cell_type": "markdown",
   "id": "886bb81d-36e0-4c67-a888-453cd6e38127",
   "metadata": {
    "editable": true,
    "papermill": {
     "duration": 0.032687,
     "end_time": "2024-03-20T21:47:36.987191",
     "exception": false,
     "start_time": "2024-03-20T21:47:36.954504",
     "status": "completed"
    },
    "slideshow": {
     "slide_type": ""
    },
    "tags": []
   },
   "source": [
    "####  Paragraph 01"
   ]
  },
  {
   "cell_type": "code",
   "execution_count": 221,
   "id": "1efff32a-48b6-478e-8747-05cdcb08ee5a",
   "metadata": {
    "execution": {
     "iopub.execute_input": "2024-03-20T21:47:37.052962Z",
     "iopub.status.busy": "2024-03-20T21:47:37.052754Z",
     "iopub.status.idle": "2024-03-20T21:47:37.055900Z",
     "shell.execute_reply": "2024-03-20T21:47:37.055449Z"
    },
    "papermill": {
     "duration": 0.036546,
     "end_time": "2024-03-20T21:47:37.056591",
     "exception": false,
     "start_time": "2024-03-20T21:47:37.020045",
     "status": "completed"
    },
    "tags": []
   },
   "outputs": [
    {
     "name": "stdout",
     "output_type": "stream",
     "text": [
      "We also compared CCC with the other coefficients in terms of computational complexity. Although CCC and MIC might identify similar gene pairs in gene expression data (see [here](#sec:mic)), the use of MIC in large datasets remains limited due to its very long computation time, despite some methodological/implementation improvements [@doi:10.1093/bioinformatics/bts707; @doi:10.1371/journal.pone.0157567; @doi:10.4137/EBO.S13121; @doi:10.1038/srep06662; @doi:10.1098/rsos.201424]. The original MIC implementation uses ApproxMaxMI, a computationally demanding heuristic estimator [@doi:10.1126/science.1205438]. Recently, a more efficient implementation called MIC<sub>e</sub> was proposed [@Reshef2016]. These two MIC estimators are provided by the `minepy` package [@doi:10.1093/bioinformatics/bts707], a C implementation available for Python. We compared all these coefficients in terms of computation time on randomly generated variables of different sizes, which simulates a scenario of gene expression data with different numbers of conditions. Differently from the rest, CCC allows us to easily parallelize the computation of a single gene pair (see [Methods](#sec:ccc_algo)), so we also tested the cases using 1 and 3 CPU cores. Figure @fig:time_test shows the time in seconds in log scale.\n"
     ]
    }
   ],
   "source": [
    "par0 = process_paragraph(orig_section_paragraphs[6])\n",
    "print(par0)"
   ]
  },
  {
   "cell_type": "code",
   "execution_count": 222,
   "id": "9dab826c-06db-4a69-9a3c-81d3d44f6857",
   "metadata": {
    "execution": {
     "iopub.execute_input": "2024-03-20T21:47:37.123081Z",
     "iopub.status.busy": "2024-03-20T21:47:37.122887Z",
     "iopub.status.idle": "2024-03-20T21:47:37.125797Z",
     "shell.execute_reply": "2024-03-20T21:47:37.125358Z"
    },
    "papermill": {
     "duration": 0.037141,
     "end_time": "2024-03-20T21:47:37.126539",
     "exception": false,
     "start_time": "2024-03-20T21:47:37.089398",
     "status": "completed"
    },
    "tags": []
   },
   "outputs": [
    {
     "name": "stdout",
     "output_type": "stream",
     "text": [
      "We compared CCC with other correlation coefficients in terms of computational complexity. While CCC and MIC may identify similar gene pairs in gene expression data, MIC is limited in large datasets due to its long computation time. Some improvements have been made to the MIC method, but its original implementation, which uses ApproxMaxMI, is computationally demanding. A more efficient implementation called MICe has been proposed. Both MIC estimators are included in the minepy package, a C implementation available for Python. We compared these coefficients in terms of computation time on randomly generated variables of different sizes to simulate scenarios of gene expression data with varying numbers of conditions. Unlike other coefficients, CCC allows for easy parallelization of the computation of a single gene pair. We tested the cases using 1 and 3 CPU cores. The results are shown in Figure 1.\n"
     ]
    }
   ],
   "source": [
    "par1 = process_paragraph(mod_section_paragraphs[6])\n",
    "print(par1)"
   ]
  },
  {
   "cell_type": "code",
   "execution_count": 223,
   "id": "925380f8-424e-4ad4-a785-7c1cf03dec70",
   "metadata": {
    "execution": {
     "iopub.execute_input": "2024-03-20T21:47:37.192438Z",
     "iopub.status.busy": "2024-03-20T21:47:37.192220Z",
     "iopub.status.idle": "2024-03-20T21:47:37.194858Z",
     "shell.execute_reply": "2024-03-20T21:47:37.194428Z"
    },
    "papermill": {
     "duration": 0.036891,
     "end_time": "2024-03-20T21:47:37.195586",
     "exception": false,
     "start_time": "2024-03-20T21:47:37.158695",
     "status": "completed"
    },
    "tags": []
   },
   "outputs": [],
   "source": [
    "paragraph_matches.append(\n",
    "    (\n",
    "        section_name,\n",
    "        par0,\n",
    "        par1,\n",
    "    )\n",
    ")"
   ]
  },
  {
   "cell_type": "code",
   "execution_count": 224,
   "id": "cf9819c9-d8ad-4c64-9937-05b88634ff71",
   "metadata": {
    "execution": {
     "iopub.execute_input": "2024-03-20T21:47:37.261360Z",
     "iopub.status.busy": "2024-03-20T21:47:37.261113Z",
     "iopub.status.idle": "2024-03-20T21:47:37.265097Z",
     "shell.execute_reply": "2024-03-20T21:47:37.264539Z"
    },
    "papermill": {
     "duration": 0.038708,
     "end_time": "2024-03-20T21:47:37.266752",
     "exception": false,
     "start_time": "2024-03-20T21:47:37.228044",
     "status": "completed"
    },
    "tags": []
   },
   "outputs": [
    {
     "data": {
      "text/plain": [
       "('supplementary material',\n",
       " 'We also compared CCC with the other coefficients in terms of computational complexity. Although CCC and MIC might identify similar gene pairs in gene expression data (see [here](#sec:mic)), the use of MIC in large datasets remains limited due to its very long computation time, despite some methodological/implementation improvements [@doi:10.1093/bioinformatics/bts707; @doi:10.1371/journal.pone.0157567; @doi:10.4137/EBO.S13121; @doi:10.1038/srep06662; @doi:10.1098/rsos.201424]. The original MIC implementation uses ApproxMaxMI, a computationally demanding heuristic estimator [@doi:10.1126/science.1205438]. Recently, a more efficient implementation called MIC<sub>e</sub> was proposed [@Reshef2016]. These two MIC estimators are provided by the `minepy` package [@doi:10.1093/bioinformatics/bts707], a C implementation available for Python. We compared all these coefficients in terms of computation time on randomly generated variables of different sizes, which simulates a scenario of gene expression data with different numbers of conditions. Differently from the rest, CCC allows us to easily parallelize the computation of a single gene pair (see [Methods](#sec:ccc_algo)), so we also tested the cases using 1 and 3 CPU cores. Figure @fig:time_test shows the time in seconds in log scale.',\n",
       " 'We compared CCC with other correlation coefficients in terms of computational complexity. While CCC and MIC may identify similar gene pairs in gene expression data, MIC is limited in large datasets due to its long computation time. Some improvements have been made to the MIC method, but its original implementation, which uses ApproxMaxMI, is computationally demanding. A more efficient implementation called MICe has been proposed. Both MIC estimators are included in the minepy package, a C implementation available for Python. We compared these coefficients in terms of computation time on randomly generated variables of different sizes to simulate scenarios of gene expression data with varying numbers of conditions. Unlike other coefficients, CCC allows for easy parallelization of the computation of a single gene pair. We tested the cases using 1 and 3 CPU cores. The results are shown in Figure 1.')"
      ]
     },
     "metadata": {},
     "output_type": "display_data"
    }
   ],
   "source": [
    "display(paragraph_matches[-1])"
   ]
  },
  {
   "cell_type": "markdown",
   "id": "b657d1c7-105f-41cf-be52-84abfe78027e",
   "metadata": {
    "editable": true,
    "papermill": {
     "duration": 0.032152,
     "end_time": "2024-03-20T21:47:37.334446",
     "exception": false,
     "start_time": "2024-03-20T21:47:37.302294",
     "status": "completed"
    },
    "slideshow": {
     "slide_type": ""
    },
    "tags": []
   },
   "source": [
    "####  Paragraph 02"
   ]
  },
  {
   "cell_type": "code",
   "execution_count": 225,
   "id": "db092b9a-b322-42a3-b871-5a7009ffbb44",
   "metadata": {
    "execution": {
     "iopub.execute_input": "2024-03-20T21:47:37.399490Z",
     "iopub.status.busy": "2024-03-20T21:47:37.399093Z",
     "iopub.status.idle": "2024-03-20T21:47:37.402516Z",
     "shell.execute_reply": "2024-03-20T21:47:37.401949Z"
    },
    "papermill": {
     "duration": 0.036885,
     "end_time": "2024-03-20T21:47:37.403295",
     "exception": false,
     "start_time": "2024-03-20T21:47:37.366410",
     "status": "completed"
    },
    "tags": []
   },
   "outputs": [
    {
     "name": "stdout",
     "output_type": "stream",
     "text": [
      "As we already expected, Pearson and Spearman were the fastest, given that they only need to compute basic summary statistics from the data. For example, Pearson is three orders of magnitude faster than CCC. Among the nonlinear coefficients, CCC was faster than the two MIC variations (up to two orders of magnitude), with the only exception in very small data sizes. The difference is important because both MIC variants were implemented in C [@doi:10.1093/bioinformatics/bts707], a high-performance programming language, whereas CCC was implemented in Python (optimized with `numba`). For a data size of a million, the multi-core CCC was twice as fast as the single-core CCC. This suggests that new implementations using more advanced processing units (such as GPUs) are feasible and could make CCC reach speeds closer to Pearson.\n"
     ]
    }
   ],
   "source": [
    "par0 = process_paragraph(orig_section_paragraphs[8])\n",
    "print(par0)"
   ]
  },
  {
   "cell_type": "code",
   "execution_count": 226,
   "id": "26d3a58b-62c5-4de7-a566-9b25eec680c6",
   "metadata": {
    "execution": {
     "iopub.execute_input": "2024-03-20T21:47:37.468140Z",
     "iopub.status.busy": "2024-03-20T21:47:37.467625Z",
     "iopub.status.idle": "2024-03-20T21:47:37.470944Z",
     "shell.execute_reply": "2024-03-20T21:47:37.470392Z"
    },
    "papermill": {
     "duration": 0.036491,
     "end_time": "2024-03-20T21:47:37.471720",
     "exception": false,
     "start_time": "2024-03-20T21:47:37.435229",
     "status": "completed"
    },
    "tags": []
   },
   "outputs": [
    {
     "name": "stdout",
     "output_type": "stream",
     "text": [
      "As we anticipated, Pearson and Spearman were the quickest as they only require basic summary statistics from the data. For instance, Pearson is significantly faster than CCC. Among the nonlinear coefficients, CCC was quicker than the two MIC variations (up to two orders of magnitude), except for very small data sizes. This difference is noteworthy because both MIC variants were coded in C, a high-performance programming language, while CCC was coded in Python (optimized with `numba`). For a dataset of a million, the multi-core CCC was twice as fast as the single-core CCC. This indicates that new implementations utilizing more advanced processing units (such as GPUs) are possible and could potentially increase CCC's speed closer to that of Pearson.\n"
     ]
    }
   ],
   "source": [
    "par1 = process_paragraph(mod_section_paragraphs[8])\n",
    "print(par1)"
   ]
  },
  {
   "cell_type": "code",
   "execution_count": 227,
   "id": "97b9a412-f131-45b1-8667-f6355fb3e6ae",
   "metadata": {
    "execution": {
     "iopub.execute_input": "2024-03-20T21:47:37.536687Z",
     "iopub.status.busy": "2024-03-20T21:47:37.536307Z",
     "iopub.status.idle": "2024-03-20T21:47:37.539164Z",
     "shell.execute_reply": "2024-03-20T21:47:37.538599Z"
    },
    "papermill": {
     "duration": 0.036139,
     "end_time": "2024-03-20T21:47:37.539930",
     "exception": false,
     "start_time": "2024-03-20T21:47:37.503791",
     "status": "completed"
    },
    "tags": []
   },
   "outputs": [],
   "source": [
    "paragraph_matches.append(\n",
    "    (\n",
    "        section_name,\n",
    "        par0,\n",
    "        par1,\n",
    "    )\n",
    ")"
   ]
  },
  {
   "cell_type": "code",
   "execution_count": 228,
   "id": "ad8b2ec9-cb0d-4d2c-b545-0cdac789c00f",
   "metadata": {
    "execution": {
     "iopub.execute_input": "2024-03-20T21:47:37.628743Z",
     "iopub.status.busy": "2024-03-20T21:47:37.628401Z",
     "iopub.status.idle": "2024-03-20T21:47:37.632195Z",
     "shell.execute_reply": "2024-03-20T21:47:37.631645Z"
    },
    "papermill": {
     "duration": 0.037349,
     "end_time": "2024-03-20T21:47:37.632928",
     "exception": false,
     "start_time": "2024-03-20T21:47:37.595579",
     "status": "completed"
    },
    "tags": []
   },
   "outputs": [
    {
     "data": {
      "text/plain": [
       "('supplementary material',\n",
       " 'As we already expected, Pearson and Spearman were the fastest, given that they only need to compute basic summary statistics from the data. For example, Pearson is three orders of magnitude faster than CCC. Among the nonlinear coefficients, CCC was faster than the two MIC variations (up to two orders of magnitude), with the only exception in very small data sizes. The difference is important because both MIC variants were implemented in C [@doi:10.1093/bioinformatics/bts707], a high-performance programming language, whereas CCC was implemented in Python (optimized with `numba`). For a data size of a million, the multi-core CCC was twice as fast as the single-core CCC. This suggests that new implementations using more advanced processing units (such as GPUs) are feasible and could make CCC reach speeds closer to Pearson.',\n",
       " \"As we anticipated, Pearson and Spearman were the quickest as they only require basic summary statistics from the data. For instance, Pearson is significantly faster than CCC. Among the nonlinear coefficients, CCC was quicker than the two MIC variations (up to two orders of magnitude), except for very small data sizes. This difference is noteworthy because both MIC variants were coded in C, a high-performance programming language, while CCC was coded in Python (optimized with `numba`). For a dataset of a million, the multi-core CCC was twice as fast as the single-core CCC. This indicates that new implementations utilizing more advanced processing units (such as GPUs) are possible and could potentially increase CCC's speed closer to that of Pearson.\")"
      ]
     },
     "metadata": {},
     "output_type": "display_data"
    }
   ],
   "source": [
    "display(paragraph_matches[-1])"
   ]
  },
  {
   "cell_type": "markdown",
   "id": "9a45b8eb-9a57-4d0a-b311-b7ce8f6b4ceb",
   "metadata": {
    "editable": true,
    "papermill": {
     "duration": 0.032004,
     "end_time": "2024-03-20T21:47:37.697149",
     "exception": false,
     "start_time": "2024-03-20T21:47:37.665145",
     "status": "completed"
    },
    "slideshow": {
     "slide_type": ""
    },
    "tags": []
   },
   "source": [
    "# Close connections"
   ]
  },
  {
   "cell_type": "code",
   "execution_count": 229,
   "id": "91fcd4bb-131b-42b2-b64f-127441bd608b",
   "metadata": {
    "editable": true,
    "execution": {
     "iopub.execute_input": "2024-03-20T21:47:37.762742Z",
     "iopub.status.busy": "2024-03-20T21:47:37.762285Z",
     "iopub.status.idle": "2024-03-20T21:47:37.766133Z",
     "shell.execute_reply": "2024-03-20T21:47:37.765565Z"
    },
    "papermill": {
     "duration": 0.037421,
     "end_time": "2024-03-20T21:47:37.766918",
     "exception": false,
     "start_time": "2024-03-20T21:47:37.729497",
     "status": "completed"
    },
    "slideshow": {
     "slide_type": ""
    },
    "tags": []
   },
   "outputs": [],
   "source": [
    "g.close()"
   ]
  },
  {
   "cell_type": "markdown",
   "id": "be4b2259-6562-4d79-a0d2-a594c44a7fa8",
   "metadata": {
    "editable": true,
    "papermill": {
     "duration": 0.032016,
     "end_time": "2024-03-20T21:47:37.831753",
     "exception": false,
     "start_time": "2024-03-20T21:47:37.799737",
     "status": "completed"
    },
    "slideshow": {
     "slide_type": ""
    },
    "tags": []
   },
   "source": [
    "# Save"
   ]
  },
  {
   "cell_type": "code",
   "execution_count": 230,
   "id": "6b7e80bd-f678-4047-b0f6-3c4e55de4767",
   "metadata": {
    "editable": true,
    "execution": {
     "iopub.execute_input": "2024-03-20T21:47:37.896968Z",
     "iopub.status.busy": "2024-03-20T21:47:37.896513Z",
     "iopub.status.idle": "2024-03-20T21:47:37.900220Z",
     "shell.execute_reply": "2024-03-20T21:47:37.899662Z"
    },
    "papermill": {
     "duration": 0.037186,
     "end_time": "2024-03-20T21:47:37.901046",
     "exception": false,
     "start_time": "2024-03-20T21:47:37.863860",
     "status": "completed"
    },
    "slideshow": {
     "slide_type": ""
    },
    "tags": []
   },
   "outputs": [
    {
     "data": {
      "text/plain": [
       "31"
      ]
     },
     "execution_count": 230,
     "metadata": {},
     "output_type": "execute_result"
    }
   ],
   "source": [
    "len(paragraph_matches)"
   ]
  },
  {
   "cell_type": "code",
   "execution_count": 231,
   "id": "876f2147-1ea0-4f45-8eb2-722761b5394c",
   "metadata": {
    "execution": {
     "iopub.execute_input": "2024-03-20T21:47:37.965679Z",
     "iopub.status.busy": "2024-03-20T21:47:37.965330Z",
     "iopub.status.idle": "2024-03-20T21:47:37.969230Z",
     "shell.execute_reply": "2024-03-20T21:47:37.968679Z"
    },
    "papermill": {
     "duration": 0.037172,
     "end_time": "2024-03-20T21:47:37.970003",
     "exception": false,
     "start_time": "2024-03-20T21:47:37.932831",
     "status": "completed"
    },
    "tags": []
   },
   "outputs": [
    {
     "data": {
      "text/plain": [
       "[('abstract',\n",
       "  'Correlation coefficients are widely used to identify patterns in data that may be of particular interest. In transcriptomics, genes with correlated expression often share functions or are part of disease-relevant biological processes. Here we introduce the Clustermatch Correlation Coefficient (CCC), an efficient, easy-to-use and not-only-linear coefficient based on machine learning models. CCC reveals biologically meaningful linear and nonlinear patterns missed by standard, linear-only correlation coefficients. CCC captures general patterns in data by comparing clustering solutions while being much faster than state-of-the-art coefficients such as the Maximal Information Coefficient. When applied to human gene expression data, CCC identifies robust linear relationships while detecting nonlinear patterns associated, for example, with sex differences that are not captured by linear-only coefficients. Gene pairs highly ranked by CCC were enriched for interactions in integrated networks built from protein-protein interaction, transcription factor regulation, and chemical and genetic perturbations, suggesting that CCC could detect functional relationships that linear-only methods missed. CCC is a highly-efficient, next-generation not-only-linear correlation coefficient that can readily be applied to genome-scale data and other domains across different data types.',\n",
       "  'In transcriptomics, identifying patterns in gene expression data is crucial for understanding biological processes. The traditional linear correlation coefficients may not capture all the complexities in gene relationships. To address this, we propose the Clustermatch Correlation Coefficient (CCC), a machine learning-based coefficient that can reveal both linear and nonlinear patterns efficiently. Compared to standard coefficients like the Maximal Information Coefficient, CCC is faster and can detect biologically meaningful patterns that are missed by linear-only methods. When applied to human gene expression data, CCC not only identifies robust linear relationships but also uncovers nonlinear patterns, such as sex differences. Additionally, CCC can detect functional relationships between genes that are overlooked by linear-only methods, as shown by enrichment in integrated networks. Overall, CCC is a versatile and efficient tool that can be applied to genome-scale data and various data types to uncover hidden relationships.'),\n",
       " ('introduction',\n",
       "  'New technologies have vastly improved data collection, generating a deluge of information across different disciplines. This large amount of data provides new opportunities to address unanswered scientific questions, provided we have efficient tools capable of identifying multiple types of underlying patterns. Correlation analysis is an essential statistical technique for discovering relationships between variables [@pmid:21310971]. Correlation coefficients are often used in exploratory data mining techniques, such as clustering or community detection algorithms, to compute a similarity value between a pair of objects of interest such as genes [@pmid:27479844] or disease-relevant lifestyle factors [@doi:10.1073/pnas.1217269109]. Correlation methods are also used in supervised tasks, for example, for feature selection to improve prediction accuracy [@pmid:27006077; @pmid:33729976]. The Pearson correlation coefficient is ubiquitously deployed across application domains and diverse scientific areas. Thus, even minor and significant improvements in these techniques could have enormous consequences in industry and research.',\n",
       "  'Recent advancements in data collection have led to a significant increase in the amount of information available in various fields. This abundance of data presents an opportunity to explore unanswered scientific questions, but efficient tools are needed to uncover different patterns within the data. Correlation analysis, a fundamental statistical method, is commonly used to identify relationships between variables (Smith et al., 2011). Correlation coefficients play a crucial role in data mining approaches, such as clustering algorithms, to measure the similarity between objects of interest, such as genes (Jones et al., 2016) or lifestyle factors related to diseases (Brown et al., 2013). These methods are also applied in supervised tasks, including feature selection to enhance prediction accuracy (Johnson et al., 2017; White et al., 2021). The widespread use of the Pearson correlation coefficient spans various scientific fields and applications. Therefore, even slight improvements in these methods could have a significant impact on both industry and research.')]"
      ]
     },
     "execution_count": 231,
     "metadata": {},
     "output_type": "execute_result"
    }
   ],
   "source": [
    "paragraph_matches[:2]"
   ]
  },
  {
   "cell_type": "code",
   "execution_count": 232,
   "id": "77d20807-9017-4e10-8cb7-6a3c706e9111",
   "metadata": {
    "execution": {
     "iopub.execute_input": "2024-03-20T21:47:38.034968Z",
     "iopub.status.busy": "2024-03-20T21:47:38.034625Z",
     "iopub.status.idle": "2024-03-20T21:47:38.038518Z",
     "shell.execute_reply": "2024-03-20T21:47:38.037953Z"
    },
    "papermill": {
     "duration": 0.0371,
     "end_time": "2024-03-20T21:47:38.039290",
     "exception": false,
     "start_time": "2024-03-20T21:47:38.002190",
     "status": "completed"
    },
    "tags": []
   },
   "outputs": [],
   "source": [
    "df = pd.DataFrame(paragraph_matches).rename(\n",
    "    columns={\n",
    "        0: \"section\",\n",
    "        1: \"original\",\n",
    "        2: \"modified\",\n",
    "    }\n",
    ")"
   ]
  },
  {
   "cell_type": "code",
   "execution_count": 233,
   "id": "44e31258-2754-49a0-af7a-5f3b4ef3a961",
   "metadata": {
    "execution": {
     "iopub.execute_input": "2024-03-20T21:47:38.104935Z",
     "iopub.status.busy": "2024-03-20T21:47:38.104468Z",
     "iopub.status.idle": "2024-03-20T21:47:38.108294Z",
     "shell.execute_reply": "2024-03-20T21:47:38.107740Z"
    },
    "papermill": {
     "duration": 0.037486,
     "end_time": "2024-03-20T21:47:38.109123",
     "exception": false,
     "start_time": "2024-03-20T21:47:38.071637",
     "status": "completed"
    },
    "tags": []
   },
   "outputs": [
    {
     "data": {
      "text/plain": [
       "(31, 3)"
      ]
     },
     "execution_count": 233,
     "metadata": {},
     "output_type": "execute_result"
    }
   ],
   "source": [
    "df.shape"
   ]
  },
  {
   "cell_type": "code",
   "execution_count": 234,
   "id": "f7612c30-e726-474f-8039-aa4bc44d1f16",
   "metadata": {
    "execution": {
     "iopub.execute_input": "2024-03-20T21:47:38.174544Z",
     "iopub.status.busy": "2024-03-20T21:47:38.174080Z",
     "iopub.status.idle": "2024-03-20T21:47:38.187314Z",
     "shell.execute_reply": "2024-03-20T21:47:38.186831Z"
    },
    "papermill": {
     "duration": 0.04676,
     "end_time": "2024-03-20T21:47:38.188017",
     "exception": false,
     "start_time": "2024-03-20T21:47:38.141257",
     "status": "completed"
    },
    "tags": []
   },
   "outputs": [
    {
     "data": {
      "text/html": [
       "<div>\n",
       "<style scoped>\n",
       "    .dataframe tbody tr th:only-of-type {\n",
       "        vertical-align: middle;\n",
       "    }\n",
       "\n",
       "    .dataframe tbody tr th {\n",
       "        vertical-align: top;\n",
       "    }\n",
       "\n",
       "    .dataframe thead th {\n",
       "        text-align: right;\n",
       "    }\n",
       "</style>\n",
       "<table border=\"1\" class=\"dataframe\">\n",
       "  <thead>\n",
       "    <tr style=\"text-align: right;\">\n",
       "      <th></th>\n",
       "      <th>section</th>\n",
       "      <th>original</th>\n",
       "      <th>modified</th>\n",
       "    </tr>\n",
       "  </thead>\n",
       "  <tbody>\n",
       "    <tr>\n",
       "      <th>0</th>\n",
       "      <td>abstract</td>\n",
       "      <td>Correlation coefficients are widely used to id...</td>\n",
       "      <td>In transcriptomics, identifying patterns in ge...</td>\n",
       "    </tr>\n",
       "    <tr>\n",
       "      <th>1</th>\n",
       "      <td>introduction</td>\n",
       "      <td>New technologies have vastly improved data col...</td>\n",
       "      <td>Recent advancements in data collection have le...</td>\n",
       "    </tr>\n",
       "    <tr>\n",
       "      <th>2</th>\n",
       "      <td>introduction</td>\n",
       "      <td>In transcriptomics, many analyses start with e...</td>\n",
       "      <td>In the field of transcriptomics, many analyses...</td>\n",
       "    </tr>\n",
       "    <tr>\n",
       "      <th>3</th>\n",
       "      <td>introduction</td>\n",
       "      <td>The Pearson and Spearman correlation coefficie...</td>\n",
       "      <td>The Pearson and Spearman correlation coefficie...</td>\n",
       "    </tr>\n",
       "    <tr>\n",
       "      <th>4</th>\n",
       "      <td>results</td>\n",
       "      <td>The CCC provides a similarity measure between ...</td>\n",
       "      <td>The CCC calculates the similarity between pair...</td>\n",
       "    </tr>\n",
       "  </tbody>\n",
       "</table>\n",
       "</div>"
      ],
      "text/plain": [
       "        section                                           original  \\\n",
       "0      abstract  Correlation coefficients are widely used to id...   \n",
       "1  introduction  New technologies have vastly improved data col...   \n",
       "2  introduction  In transcriptomics, many analyses start with e...   \n",
       "3  introduction  The Pearson and Spearman correlation coefficie...   \n",
       "4       results  The CCC provides a similarity measure between ...   \n",
       "\n",
       "                                            modified  \n",
       "0  In transcriptomics, identifying patterns in ge...  \n",
       "1  Recent advancements in data collection have le...  \n",
       "2  In the field of transcriptomics, many analyses...  \n",
       "3  The Pearson and Spearman correlation coefficie...  \n",
       "4  The CCC calculates the similarity between pair...  "
      ]
     },
     "execution_count": 234,
     "metadata": {},
     "output_type": "execute_result"
    }
   ],
   "source": [
    "df.head()"
   ]
  },
  {
   "cell_type": "code",
   "execution_count": 235,
   "id": "e072fbf8-91bd-4684-8782-9ccb8d6ee565",
   "metadata": {
    "execution": {
     "iopub.execute_input": "2024-03-20T21:47:38.253567Z",
     "iopub.status.busy": "2024-03-20T21:47:38.253173Z",
     "iopub.status.idle": "2024-03-20T21:47:38.256304Z",
     "shell.execute_reply": "2024-03-20T21:47:38.255865Z"
    },
    "papermill": {
     "duration": 0.036661,
     "end_time": "2024-03-20T21:47:38.257145",
     "exception": false,
     "start_time": "2024-03-20T21:47:38.220484",
     "status": "completed"
    },
    "tags": []
   },
   "outputs": [],
   "source": [
    "df.to_pickle(OUTPUT_FILE_PATH)"
   ]
  },
  {
   "cell_type": "markdown",
   "id": "88e05a0e",
   "metadata": {
    "editable": true,
    "papermill": {
     "duration": 0.033687,
     "end_time": "2024-03-20T21:47:38.323374",
     "exception": false,
     "start_time": "2024-03-20T21:47:38.289687",
     "status": "completed"
    },
    "slideshow": {
     "slide_type": ""
    },
    "tags": []
   },
   "source": [
    "# Reverse original/modified columns"
   ]
  },
  {
   "cell_type": "code",
   "execution_count": 236,
   "id": "039b695b",
   "metadata": {
    "editable": true,
    "execution": {
     "iopub.execute_input": "2024-03-20T21:47:38.415280Z",
     "iopub.status.busy": "2024-03-20T21:47:38.414788Z",
     "iopub.status.idle": "2024-03-20T21:47:38.418945Z",
     "shell.execute_reply": "2024-03-20T21:47:38.418327Z"
    },
    "papermill": {
     "duration": 0.039223,
     "end_time": "2024-03-20T21:47:38.419834",
     "exception": false,
     "start_time": "2024-03-20T21:47:38.380611",
     "status": "completed"
    },
    "slideshow": {
     "slide_type": ""
    },
    "tags": []
   },
   "outputs": [],
   "source": [
    "df_reversed = df.rename(columns={\"original\": \"modified2\"}).rename(\n",
    "    columns={\"modified\": \"original\", \"modified2\": \"modified\"}\n",
    ")"
   ]
  },
  {
   "cell_type": "code",
   "execution_count": 237,
   "id": "3c2ea044",
   "metadata": {
    "editable": true,
    "execution": {
     "iopub.execute_input": "2024-03-20T21:47:38.492298Z",
     "iopub.status.busy": "2024-03-20T21:47:38.491855Z",
     "iopub.status.idle": "2024-03-20T21:47:38.495883Z",
     "shell.execute_reply": "2024-03-20T21:47:38.495318Z"
    },
    "papermill": {
     "duration": 0.039324,
     "end_time": "2024-03-20T21:47:38.496680",
     "exception": false,
     "start_time": "2024-03-20T21:47:38.457356",
     "status": "completed"
    },
    "slideshow": {
     "slide_type": ""
    },
    "tags": []
   },
   "outputs": [
    {
     "data": {
      "text/plain": [
       "(31, 3)"
      ]
     },
     "execution_count": 237,
     "metadata": {},
     "output_type": "execute_result"
    }
   ],
   "source": [
    "df_reversed.shape"
   ]
  },
  {
   "cell_type": "code",
   "execution_count": 238,
   "id": "7cfa4a58",
   "metadata": {
    "editable": true,
    "execution": {
     "iopub.execute_input": "2024-03-20T21:47:38.562970Z",
     "iopub.status.busy": "2024-03-20T21:47:38.562517Z",
     "iopub.status.idle": "2024-03-20T21:47:38.569384Z",
     "shell.execute_reply": "2024-03-20T21:47:38.568878Z"
    },
    "papermill": {
     "duration": 0.04073,
     "end_time": "2024-03-20T21:47:38.570161",
     "exception": false,
     "start_time": "2024-03-20T21:47:38.529431",
     "status": "completed"
    },
    "slideshow": {
     "slide_type": ""
    },
    "tags": []
   },
   "outputs": [
    {
     "data": {
      "text/html": [
       "<div>\n",
       "<style scoped>\n",
       "    .dataframe tbody tr th:only-of-type {\n",
       "        vertical-align: middle;\n",
       "    }\n",
       "\n",
       "    .dataframe tbody tr th {\n",
       "        vertical-align: top;\n",
       "    }\n",
       "\n",
       "    .dataframe thead th {\n",
       "        text-align: right;\n",
       "    }\n",
       "</style>\n",
       "<table border=\"1\" class=\"dataframe\">\n",
       "  <thead>\n",
       "    <tr style=\"text-align: right;\">\n",
       "      <th></th>\n",
       "      <th>section</th>\n",
       "      <th>modified</th>\n",
       "      <th>original</th>\n",
       "    </tr>\n",
       "  </thead>\n",
       "  <tbody>\n",
       "    <tr>\n",
       "      <th>0</th>\n",
       "      <td>abstract</td>\n",
       "      <td>Correlation coefficients are widely used to id...</td>\n",
       "      <td>In transcriptomics, identifying patterns in ge...</td>\n",
       "    </tr>\n",
       "    <tr>\n",
       "      <th>1</th>\n",
       "      <td>introduction</td>\n",
       "      <td>New technologies have vastly improved data col...</td>\n",
       "      <td>Recent advancements in data collection have le...</td>\n",
       "    </tr>\n",
       "    <tr>\n",
       "      <th>2</th>\n",
       "      <td>introduction</td>\n",
       "      <td>In transcriptomics, many analyses start with e...</td>\n",
       "      <td>In the field of transcriptomics, many analyses...</td>\n",
       "    </tr>\n",
       "    <tr>\n",
       "      <th>3</th>\n",
       "      <td>introduction</td>\n",
       "      <td>The Pearson and Spearman correlation coefficie...</td>\n",
       "      <td>The Pearson and Spearman correlation coefficie...</td>\n",
       "    </tr>\n",
       "    <tr>\n",
       "      <th>4</th>\n",
       "      <td>results</td>\n",
       "      <td>The CCC provides a similarity measure between ...</td>\n",
       "      <td>The CCC calculates the similarity between pair...</td>\n",
       "    </tr>\n",
       "  </tbody>\n",
       "</table>\n",
       "</div>"
      ],
      "text/plain": [
       "        section                                           modified  \\\n",
       "0      abstract  Correlation coefficients are widely used to id...   \n",
       "1  introduction  New technologies have vastly improved data col...   \n",
       "2  introduction  In transcriptomics, many analyses start with e...   \n",
       "3  introduction  The Pearson and Spearman correlation coefficie...   \n",
       "4       results  The CCC provides a similarity measure between ...   \n",
       "\n",
       "                                            original  \n",
       "0  In transcriptomics, identifying patterns in ge...  \n",
       "1  Recent advancements in data collection have le...  \n",
       "2  In the field of transcriptomics, many analyses...  \n",
       "3  The Pearson and Spearman correlation coefficie...  \n",
       "4  The CCC calculates the similarity between pair...  "
      ]
     },
     "execution_count": 238,
     "metadata": {},
     "output_type": "execute_result"
    }
   ],
   "source": [
    "df_reversed.head()"
   ]
  },
  {
   "cell_type": "markdown",
   "id": "3d7cd7d6",
   "metadata": {
    "editable": true,
    "papermill": {
     "duration": 0.034769,
     "end_time": "2024-03-20T21:47:38.637786",
     "exception": false,
     "start_time": "2024-03-20T21:47:38.603017",
     "status": "completed"
    },
    "slideshow": {
     "slide_type": ""
    },
    "tags": []
   },
   "source": [
    "## Save"
   ]
  },
  {
   "cell_type": "code",
   "execution_count": 239,
   "id": "989f3b79",
   "metadata": {
    "execution": {
     "iopub.execute_input": "2024-03-20T21:47:38.704328Z",
     "iopub.status.busy": "2024-03-20T21:47:38.703902Z",
     "iopub.status.idle": "2024-03-20T21:47:38.707049Z",
     "shell.execute_reply": "2024-03-20T21:47:38.706602Z"
    },
    "papermill": {
     "duration": 0.037367,
     "end_time": "2024-03-20T21:47:38.707806",
     "exception": false,
     "start_time": "2024-03-20T21:47:38.670439",
     "status": "completed"
    },
    "tags": []
   },
   "outputs": [],
   "source": [
    "df_reversed.to_pickle(REVERSED_OUTPUT_FILE_PATH)"
   ]
  },
  {
   "cell_type": "code",
   "execution_count": null,
   "id": "02304589-1223-48c7-9c0a-26bfa26392e7",
   "metadata": {
    "editable": true,
    "papermill": {
     "duration": 0.03281,
     "end_time": "2024-03-20T21:47:38.773449",
     "exception": false,
     "start_time": "2024-03-20T21:47:38.740639",
     "status": "completed"
    },
    "slideshow": {
     "slide_type": ""
    },
    "tags": []
   },
   "outputs": [],
   "source": []
  }
 ],
 "metadata": {
  "jupytext": {
   "cell_metadata_filter": "all,-execution,-papermill,-trusted",
   "notebook_metadata_filter": "-jupytext.text_representation.jupytext_version"
  },
  "kernelspec": {
   "display_name": "Python 3 (ipykernel)",
   "language": "python",
   "name": "python3"
  },
  "language_info": {
   "codemirror_mode": {
    "name": "ipython",
    "version": 3
   },
   "file_extension": ".py",
   "mimetype": "text/x-python",
   "name": "python",
   "nbconvert_exporter": "python",
   "pygments_lexer": "ipython3",
   "version": "3.11.8"
  },
  "papermill": {
   "default_parameters": {},
   "duration": 29.158584,
   "end_time": "2024-03-20T21:47:39.323558",
   "environment_variables": {},
   "exception": null,
   "input_path": "/home/miltondp/projects/others/manubot/manubot-ai-editor-code/nbs/01-paragraph_match/05-ccc-gpt35-par_match.ipynb",
   "output_path": "/home/miltondp/projects/others/manubot/manubot-ai-editor-code/nbs/01-paragraph_match/05-ccc-gpt35-par_match.run.ipynb",
   "parameters": {
    "OUTPUT_FILE_PATH": "/home/miltondp/projects/others/manubot/manubot-ai-editor-code/base/results/paragraph_match/ccc-manuscript--gpt-3.5-turbo.pkl",
    "REVERSED_OUTPUT_FILE_PATH": "/home/miltondp/projects/others/manubot/manubot-ai-editor-code/base/results/paragraph_match/ccc-manuscript--gpt-3.5-turbo--reversed.pkl"
   },
   "start_time": "2024-03-20T21:47:10.164974",
   "version": "2.5.0"
  }
 },
 "nbformat": 4,
 "nbformat_minor": 5
}
