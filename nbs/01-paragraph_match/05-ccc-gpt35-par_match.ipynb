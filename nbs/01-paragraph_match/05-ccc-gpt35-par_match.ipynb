{
 "cells": [
  {
   "cell_type": "markdown",
   "id": "070a050a-44d1-42c2-b274-c8c180a2a0ba",
   "metadata": {
    "editable": true,
    "papermill": {
     "duration": 0.039612,
     "end_time": "2024-03-20T15:53:43.728313",
     "exception": false,
     "start_time": "2024-03-20T15:53:43.688701",
     "status": "completed"
    },
    "slideshow": {
     "slide_type": ""
    },
    "tags": []
   },
   "source": [
    "# Description"
   ]
  },
  {
   "cell_type": "markdown",
   "id": "e4fcbb4d-aa04-4e1a-9aee-0053c559e157",
   "metadata": {
    "editable": true,
    "papermill": {
     "duration": 0.021787,
     "end_time": "2024-03-20T15:53:43.787423",
     "exception": false,
     "start_time": "2024-03-20T15:53:43.765636",
     "status": "completed"
    },
    "slideshow": {
     "slide_type": ""
    },
    "tags": []
   },
   "source": [
    "This notebook reads a PR from a manuscript and matches original paragraphs with modified ones."
   ]
  },
  {
   "cell_type": "markdown",
   "id": "b237f234-dc98-43e9-8ff5-8922c410c377",
   "metadata": {
    "editable": true,
    "papermill": {
     "duration": 0.018956,
     "end_time": "2024-03-20T15:53:43.825558",
     "exception": false,
     "start_time": "2024-03-20T15:53:43.806602",
     "status": "completed"
    },
    "slideshow": {
     "slide_type": ""
    },
    "tags": []
   },
   "source": [
    "# Modules"
   ]
  },
  {
   "cell_type": "code",
   "execution_count": 1,
   "id": "70413318-1f5e-4d58-b1a2-cb4f01c13e86",
   "metadata": {
    "editable": true,
    "execution": {
     "iopub.execute_input": "2024-03-20T15:53:43.865052Z",
     "iopub.status.busy": "2024-03-20T15:53:43.864846Z",
     "iopub.status.idle": "2024-03-20T15:53:44.877265Z",
     "shell.execute_reply": "2024-03-20T15:53:44.876786Z"
    },
    "papermill": {
     "duration": 1.033663,
     "end_time": "2024-03-20T15:53:44.878575",
     "exception": false,
     "start_time": "2024-03-20T15:53:43.844912",
     "status": "completed"
    },
    "slideshow": {
     "slide_type": ""
    },
    "tags": []
   },
   "outputs": [],
   "source": [
    "from pathlib import Path\n",
    "\n",
    "import pandas as pd\n",
    "from github import Auth, Github\n",
    "from IPython.display import display\n",
    "from proj import conf\n",
    "from proj.utils import process_paragraph"
   ]
  },
  {
   "cell_type": "markdown",
   "id": "3f78fd18-86b7-40b9-b80e-a8b18d001682",
   "metadata": {
    "editable": true,
    "papermill": {
     "duration": 0.028324,
     "end_time": "2024-03-20T15:53:44.936206",
     "exception": false,
     "start_time": "2024-03-20T15:53:44.907882",
     "status": "completed"
    },
    "slideshow": {
     "slide_type": ""
    },
    "tags": []
   },
   "source": [
    "# Settings/paths"
   ]
  },
  {
   "cell_type": "code",
   "execution_count": 2,
   "id": "10a3ceca-1480-45b0-b04d-cb402ff95abf",
   "metadata": {
    "editable": true,
    "execution": {
     "iopub.execute_input": "2024-03-20T15:53:44.982028Z",
     "iopub.status.busy": "2024-03-20T15:53:44.981845Z",
     "iopub.status.idle": "2024-03-20T15:53:44.984304Z",
     "shell.execute_reply": "2024-03-20T15:53:44.983916Z"
    },
    "papermill": {
     "duration": 0.022618,
     "end_time": "2024-03-20T15:53:44.984966",
     "exception": false,
     "start_time": "2024-03-20T15:53:44.962348",
     "status": "completed"
    },
    "slideshow": {
     "slide_type": ""
    },
    "tags": [
     "parameters"
    ]
   },
   "outputs": [],
   "source": [
    "REPO = \"pivlab/manubot-ai-editor-code-test-ccc-manuscript\"\n",
    "PR = (2, \"gpt-3.5-turbo\")\n",
    "\n",
    "OUTPUT_FILE_PATH = None\n",
    "REVERSED_OUTPUT_FILE_PATH = None"
   ]
  },
  {
   "cell_type": "code",
   "execution_count": 4,
   "id": "71351755-ed5f-43a2-a886-6ef08afaddf4",
   "metadata": {
    "editable": true,
    "execution": {
     "iopub.execute_input": "2024-03-20T15:53:45.066426Z",
     "iopub.status.busy": "2024-03-20T15:53:45.066197Z",
     "iopub.status.idle": "2024-03-20T15:53:45.072804Z",
     "shell.execute_reply": "2024-03-20T15:53:45.072289Z"
    },
    "papermill": {
     "duration": 0.027265,
     "end_time": "2024-03-20T15:53:45.073575",
     "exception": false,
     "start_time": "2024-03-20T15:53:45.046310",
     "status": "completed"
    },
    "slideshow": {
     "slide_type": ""
    },
    "tags": []
   },
   "outputs": [
    {
     "data": {
      "text/plain": [
       "PosixPath('/home/miltondp/projects/others/manubot/manubot-ai-editor-code/base/results/paragraph_match/ccc-manuscript--gpt-3.5-turbo.pkl')"
      ]
     },
     "metadata": {},
     "output_type": "display_data"
    }
   ],
   "source": [
    "OUTPUT_FILE_PATH = Path(OUTPUT_FILE_PATH).resolve()\n",
    "OUTPUT_FILE_PATH.parent.mkdir(parents=True, exist_ok=True)\n",
    "display(OUTPUT_FILE_PATH)"
   ]
  },
  {
   "cell_type": "code",
   "execution_count": null,
   "id": "fb96b09f",
   "metadata": {
    "editable": true,
    "slideshow": {
     "slide_type": ""
    },
    "tags": []
   },
   "outputs": [],
   "source": [
    "REVERSED_OUTPUT_FILE_PATH = Path(REVERSED_OUTPUT_FILE_PATH).resolve()\n",
    "REVERSED_OUTPUT_FILE_PATH.parent.mkdir(parents=True, exist_ok=True)\n",
    "display(REVERSED_OUTPUT_FILE_PATH)"
   ]
  },
  {
   "cell_type": "markdown",
   "id": "c42b83b5-84b7-45ff-88ee-3651aa5c9c55",
   "metadata": {
    "editable": true,
    "papermill": {
     "duration": 0.019321,
     "end_time": "2024-03-20T15:53:45.112434",
     "exception": false,
     "start_time": "2024-03-20T15:53:45.093113",
     "status": "completed"
    },
    "slideshow": {
     "slide_type": ""
    },
    "tags": []
   },
   "source": [
    "# Get Repo"
   ]
  },
  {
   "cell_type": "code",
   "execution_count": 5,
   "id": "f1d1f476-f5b5-4d1c-9c3a-822e9bef4b27",
   "metadata": {
    "editable": true,
    "execution": {
     "iopub.execute_input": "2024-03-20T15:53:45.152242Z",
     "iopub.status.busy": "2024-03-20T15:53:45.151698Z",
     "iopub.status.idle": "2024-03-20T15:53:45.154602Z",
     "shell.execute_reply": "2024-03-20T15:53:45.154099Z"
    },
    "papermill": {
     "duration": 0.023452,
     "end_time": "2024-03-20T15:53:45.155323",
     "exception": false,
     "start_time": "2024-03-20T15:53:45.131871",
     "status": "completed"
    },
    "slideshow": {
     "slide_type": ""
    },
    "tags": []
   },
   "outputs": [],
   "source": [
    "auth = Auth.Token(conf.github.API_TOKEN)"
   ]
  },
  {
   "cell_type": "code",
   "execution_count": 6,
   "id": "4e3db6e2-f267-4d60-8ff3-703698a09f88",
   "metadata": {
    "editable": true,
    "execution": {
     "iopub.execute_input": "2024-03-20T15:53:45.195519Z",
     "iopub.status.busy": "2024-03-20T15:53:45.195331Z",
     "iopub.status.idle": "2024-03-20T15:53:45.198100Z",
     "shell.execute_reply": "2024-03-20T15:53:45.197592Z"
    },
    "papermill": {
     "duration": 0.023541,
     "end_time": "2024-03-20T15:53:45.198829",
     "exception": false,
     "start_time": "2024-03-20T15:53:45.175288",
     "status": "completed"
    },
    "slideshow": {
     "slide_type": ""
    },
    "tags": []
   },
   "outputs": [],
   "source": [
    "g = Github(auth=auth)"
   ]
  },
  {
   "cell_type": "code",
   "execution_count": 7,
   "id": "cc6a365d-59f5-4537-9fd7-869ee4156046",
   "metadata": {
    "editable": true,
    "execution": {
     "iopub.execute_input": "2024-03-20T15:53:45.238707Z",
     "iopub.status.busy": "2024-03-20T15:53:45.238517Z",
     "iopub.status.idle": "2024-03-20T15:53:45.701197Z",
     "shell.execute_reply": "2024-03-20T15:53:45.700532Z"
    },
    "papermill": {
     "duration": 0.484439,
     "end_time": "2024-03-20T15:53:45.703018",
     "exception": false,
     "start_time": "2024-03-20T15:53:45.218579",
     "status": "completed"
    },
    "slideshow": {
     "slide_type": ""
    },
    "tags": []
   },
   "outputs": [],
   "source": [
    "repo = g.get_repo(REPO)"
   ]
  },
  {
   "cell_type": "markdown",
   "id": "f2d9fb5d-6838-484b-9202-ceac74fcb336",
   "metadata": {
    "editable": true,
    "papermill": {
     "duration": 0.042348,
     "end_time": "2024-03-20T15:53:45.770476",
     "exception": false,
     "start_time": "2024-03-20T15:53:45.728128",
     "status": "completed"
    },
    "slideshow": {
     "slide_type": ""
    },
    "tags": []
   },
   "source": [
    "# Get Pull Request"
   ]
  },
  {
   "cell_type": "code",
   "execution_count": 8,
   "id": "297c9dec-9e00-490d-8723-44208b3fe8f4",
   "metadata": {
    "editable": true,
    "execution": {
     "iopub.execute_input": "2024-03-20T15:53:45.811525Z",
     "iopub.status.busy": "2024-03-20T15:53:45.810975Z",
     "iopub.status.idle": "2024-03-20T15:53:46.277695Z",
     "shell.execute_reply": "2024-03-20T15:53:46.277111Z"
    },
    "papermill": {
     "duration": 0.488828,
     "end_time": "2024-03-20T15:53:46.279021",
     "exception": false,
     "start_time": "2024-03-20T15:53:45.790193",
     "status": "completed"
    },
    "slideshow": {
     "slide_type": ""
    },
    "tags": []
   },
   "outputs": [],
   "source": [
    "pr = repo.get_pull(PR[0])"
   ]
  },
  {
   "cell_type": "code",
   "execution_count": 9,
   "id": "064b1017-a495-48b3-bea3-1b9a67ad1b6f",
   "metadata": {
    "editable": true,
    "execution": {
     "iopub.execute_input": "2024-03-20T15:53:46.319257Z",
     "iopub.status.busy": "2024-03-20T15:53:46.319141Z",
     "iopub.status.idle": "2024-03-20T15:53:46.749610Z",
     "shell.execute_reply": "2024-03-20T15:53:46.749001Z"
    },
    "papermill": {
     "duration": 0.451445,
     "end_time": "2024-03-20T15:53:46.750815",
     "exception": false,
     "start_time": "2024-03-20T15:53:46.299370",
     "status": "completed"
    },
    "slideshow": {
     "slide_type": ""
    },
    "tags": []
   },
   "outputs": [
    {
     "data": {
      "text/plain": [
       "[File(sha=\"4b1b8489a63dc51e4eba4d71f32b026169e901d1\", filename=\"content/01.abstract.md\"),\n",
       " File(sha=\"96b9d8fdf8b314d5156029ea5e5c0727408d6cee\", filename=\"content/02.introduction.md\"),\n",
       " File(sha=\"ad101146fd6476ed4bf1fd4bcbbe8fa9e174c2f0\", filename=\"content/04.05.results_intro.md\"),\n",
       " File(sha=\"74ea03690a400f1c576007aff728e41fc7fb0faf\", filename=\"content/04.10.results_comp.md\"),\n",
       " File(sha=\"5088c6fa5f7d04ffdf17fd2392cc27c9d917c7a0\", filename=\"content/04.12.results_giant.md\"),\n",
       " File(sha=\"e0be1fecd6158445a8102f098545b135abf07fed\", filename=\"content/06.discussion.md\"),\n",
       " File(sha=\"328b3aac9742ec34d4d0d0fcc42dca439952433d\", filename=\"content/08.01.methods.ccc.md\"),\n",
       " File(sha=\"0c5625cac78916c535fe5f1c404846e52c62b59a\", filename=\"content/08.05.methods.data.md\"),\n",
       " File(sha=\"16d0a39afea2c2c361967d01214f79d8bbf2d76d\", filename=\"content/08.15.methods.giant.md\"),\n",
       " File(sha=\"81b2c0d4c4fca81a3820bd2ac3bb46efdd7b2ca5\", filename=\"content/08.20.methods.mic.md\"),\n",
       " File(sha=\"176e79ecda4017d56f4808a244e70a2786683deb\", filename=\"content/20.00.supplementary_material.md\")]"
      ]
     },
     "execution_count": 9,
     "metadata": {},
     "output_type": "execute_result"
    }
   ],
   "source": [
    "list(pr.get_files())"
   ]
  },
  {
   "cell_type": "code",
   "execution_count": 10,
   "id": "7bc9b271-7ed2-4994-9d36-c8afa946b017",
   "metadata": {
    "editable": true,
    "execution": {
     "iopub.execute_input": "2024-03-20T15:53:46.826421Z",
     "iopub.status.busy": "2024-03-20T15:53:46.826217Z",
     "iopub.status.idle": "2024-03-20T15:53:47.154808Z",
     "shell.execute_reply": "2024-03-20T15:53:47.154246Z"
    },
    "papermill": {
     "duration": 0.367539,
     "end_time": "2024-03-20T15:53:47.156237",
     "exception": false,
     "start_time": "2024-03-20T15:53:46.788698",
     "status": "completed"
    },
    "slideshow": {
     "slide_type": ""
    },
    "tags": []
   },
   "outputs": [],
   "source": [
    "pr_commits = list(pr.get_commits())"
   ]
  },
  {
   "cell_type": "code",
   "execution_count": 11,
   "id": "446a1453-5729-4687-9b93-8165dd0e2793",
   "metadata": {
    "editable": true,
    "execution": {
     "iopub.execute_input": "2024-03-20T15:53:47.232958Z",
     "iopub.status.busy": "2024-03-20T15:53:47.232272Z",
     "iopub.status.idle": "2024-03-20T15:53:47.236276Z",
     "shell.execute_reply": "2024-03-20T15:53:47.235751Z"
    },
    "papermill": {
     "duration": 0.042763,
     "end_time": "2024-03-20T15:53:47.237480",
     "exception": false,
     "start_time": "2024-03-20T15:53:47.194717",
     "status": "completed"
    },
    "slideshow": {
     "slide_type": ""
    },
    "tags": []
   },
   "outputs": [
    {
     "data": {
      "text/plain": [
       "[Commit(sha=\"0adeb9d709cc9d66e52a325c114605655b1b4923\")]"
      ]
     },
     "execution_count": 11,
     "metadata": {},
     "output_type": "execute_result"
    }
   ],
   "source": [
    "pr_commits[0].parents"
   ]
  },
  {
   "cell_type": "code",
   "execution_count": 12,
   "id": "9c2382a1-adcc-47dc-8c75-d34f8500f93e",
   "metadata": {
    "editable": true,
    "execution": {
     "iopub.execute_input": "2024-03-20T15:53:47.284004Z",
     "iopub.status.busy": "2024-03-20T15:53:47.283483Z",
     "iopub.status.idle": "2024-03-20T15:53:47.286920Z",
     "shell.execute_reply": "2024-03-20T15:53:47.286425Z"
    },
    "papermill": {
     "duration": 0.024221,
     "end_time": "2024-03-20T15:53:47.287691",
     "exception": false,
     "start_time": "2024-03-20T15:53:47.263470",
     "status": "completed"
    },
    "slideshow": {
     "slide_type": ""
    },
    "tags": []
   },
   "outputs": [
    {
     "name": "stdout",
     "output_type": "stream",
     "text": [
      "0adeb9d709cc9d66e52a325c114605655b1b4923\n"
     ]
    }
   ],
   "source": [
    "pr_prev = pr_commits[0].parents[0].sha\n",
    "print(pr_prev)"
   ]
  },
  {
   "cell_type": "code",
   "execution_count": 13,
   "id": "96c9b088-a166-49d6-a0df-64d2cf690b7e",
   "metadata": {
    "editable": true,
    "execution": {
     "iopub.execute_input": "2024-03-20T15:53:47.327561Z",
     "iopub.status.busy": "2024-03-20T15:53:47.327225Z",
     "iopub.status.idle": "2024-03-20T15:53:47.330280Z",
     "shell.execute_reply": "2024-03-20T15:53:47.329764Z"
    },
    "papermill": {
     "duration": 0.023849,
     "end_time": "2024-03-20T15:53:47.330992",
     "exception": false,
     "start_time": "2024-03-20T15:53:47.307143",
     "status": "completed"
    },
    "slideshow": {
     "slide_type": ""
    },
    "tags": []
   },
   "outputs": [
    {
     "name": "stdout",
     "output_type": "stream",
     "text": [
      "bdee3d136aa9e8b6d80b31e926069f9b96e1cac5\n"
     ]
    }
   ],
   "source": [
    "pr_curr = pr_commits[0].sha\n",
    "print(pr_curr)"
   ]
  },
  {
   "cell_type": "markdown",
   "id": "10872c1e-0184-46c6-a04f-dce43438d404",
   "metadata": {
    "editable": true,
    "papermill": {
     "duration": 0.019448,
     "end_time": "2024-03-20T15:53:47.370133",
     "exception": false,
     "start_time": "2024-03-20T15:53:47.350685",
     "status": "completed"
    },
    "slideshow": {
     "slide_type": ""
    },
    "tags": []
   },
   "source": [
    "# Get file list"
   ]
  },
  {
   "cell_type": "code",
   "execution_count": 14,
   "id": "242729cf-1778-4162-b813-249ae6c8b632",
   "metadata": {
    "editable": true,
    "execution": {
     "iopub.execute_input": "2024-03-20T15:53:47.410551Z",
     "iopub.status.busy": "2024-03-20T15:53:47.410213Z",
     "iopub.status.idle": "2024-03-20T15:53:47.554543Z",
     "shell.execute_reply": "2024-03-20T15:53:47.554041Z"
    },
    "papermill": {
     "duration": 0.165655,
     "end_time": "2024-03-20T15:53:47.555468",
     "exception": false,
     "start_time": "2024-03-20T15:53:47.389813",
     "status": "completed"
    },
    "slideshow": {
     "slide_type": ""
    },
    "tags": []
   },
   "outputs": [
    {
     "data": {
      "text/plain": [
       "[File(sha=\"4b1b8489a63dc51e4eba4d71f32b026169e901d1\", filename=\"content/01.abstract.md\"),\n",
       " File(sha=\"96b9d8fdf8b314d5156029ea5e5c0727408d6cee\", filename=\"content/02.introduction.md\"),\n",
       " File(sha=\"ad101146fd6476ed4bf1fd4bcbbe8fa9e174c2f0\", filename=\"content/04.05.results_intro.md\"),\n",
       " File(sha=\"74ea03690a400f1c576007aff728e41fc7fb0faf\", filename=\"content/04.10.results_comp.md\"),\n",
       " File(sha=\"5088c6fa5f7d04ffdf17fd2392cc27c9d917c7a0\", filename=\"content/04.12.results_giant.md\"),\n",
       " File(sha=\"e0be1fecd6158445a8102f098545b135abf07fed\", filename=\"content/06.discussion.md\"),\n",
       " File(sha=\"328b3aac9742ec34d4d0d0fcc42dca439952433d\", filename=\"content/08.01.methods.ccc.md\"),\n",
       " File(sha=\"0c5625cac78916c535fe5f1c404846e52c62b59a\", filename=\"content/08.05.methods.data.md\"),\n",
       " File(sha=\"16d0a39afea2c2c361967d01214f79d8bbf2d76d\", filename=\"content/08.15.methods.giant.md\"),\n",
       " File(sha=\"81b2c0d4c4fca81a3820bd2ac3bb46efdd7b2ca5\", filename=\"content/08.20.methods.mic.md\"),\n",
       " File(sha=\"176e79ecda4017d56f4808a244e70a2786683deb\", filename=\"content/20.00.supplementary_material.md\")]"
      ]
     },
     "metadata": {},
     "output_type": "display_data"
    }
   ],
   "source": [
    "pr_files = [f for f in pr.get_files() if f.filename.endswith(\".md\")]\n",
    "display(pr_files)"
   ]
  },
  {
   "cell_type": "markdown",
   "id": "bce10792-ba0d-4716-9dcd-b44c2eb668d4",
   "metadata": {
    "editable": true,
    "papermill": {
     "duration": 0.029171,
     "end_time": "2024-03-20T15:53:47.614314",
     "exception": false,
     "start_time": "2024-03-20T15:53:47.585143",
     "status": "completed"
    },
    "slideshow": {
     "slide_type": ""
    },
    "tags": []
   },
   "source": [
    "# Sections"
   ]
  },
  {
   "cell_type": "code",
   "execution_count": 15,
   "id": "6253b146-7bd2-44ff-9ccc-6f245a11dd23",
   "metadata": {
    "execution": {
     "iopub.execute_input": "2024-03-20T15:53:47.660715Z",
     "iopub.status.busy": "2024-03-20T15:53:47.660374Z",
     "iopub.status.idle": "2024-03-20T15:53:47.662905Z",
     "shell.execute_reply": "2024-03-20T15:53:47.662408Z"
    },
    "papermill": {
     "duration": 0.023424,
     "end_time": "2024-03-20T15:53:47.663653",
     "exception": false,
     "start_time": "2024-03-20T15:53:47.640229",
     "status": "completed"
    },
    "tags": []
   },
   "outputs": [],
   "source": [
    "paragraph_matches = []"
   ]
  },
  {
   "cell_type": "markdown",
   "id": "7c403bcf-5c79-4bde-adfe-a09464b8b076",
   "metadata": {
    "editable": true,
    "papermill": {
     "duration": 0.019848,
     "end_time": "2024-03-20T15:53:47.703495",
     "exception": false,
     "start_time": "2024-03-20T15:53:47.683647",
     "status": "completed"
    },
    "slideshow": {
     "slide_type": ""
    },
    "tags": []
   },
   "source": [
    "## Abstract"
   ]
  },
  {
   "cell_type": "code",
   "execution_count": 16,
   "id": "5c13a99f-54e2-463e-9d20-d43a89c9ef76",
   "metadata": {
    "execution": {
     "iopub.execute_input": "2024-03-20T15:53:47.743929Z",
     "iopub.status.busy": "2024-03-20T15:53:47.743590Z",
     "iopub.status.idle": "2024-03-20T15:53:47.746218Z",
     "shell.execute_reply": "2024-03-20T15:53:47.745707Z"
    },
    "papermill": {
     "duration": 0.02364,
     "end_time": "2024-03-20T15:53:47.746951",
     "exception": false,
     "start_time": "2024-03-20T15:53:47.723311",
     "status": "completed"
    },
    "tags": []
   },
   "outputs": [],
   "source": [
    "section_name = \"abstract\""
   ]
  },
  {
   "cell_type": "code",
   "execution_count": 17,
   "id": "1558f08b-19a8-4951-8dea-228d7f59099d",
   "metadata": {
    "editable": true,
    "execution": {
     "iopub.execute_input": "2024-03-20T15:53:47.787426Z",
     "iopub.status.busy": "2024-03-20T15:53:47.787023Z",
     "iopub.status.idle": "2024-03-20T15:53:47.790335Z",
     "shell.execute_reply": "2024-03-20T15:53:47.789759Z"
    },
    "papermill": {
     "duration": 0.024477,
     "end_time": "2024-03-20T15:53:47.791084",
     "exception": false,
     "start_time": "2024-03-20T15:53:47.766607",
     "status": "completed"
    },
    "slideshow": {
     "slide_type": ""
    },
    "tags": []
   },
   "outputs": [
    {
     "name": "stdout",
     "output_type": "stream",
     "text": [
      "content/01.abstract.md\n"
     ]
    }
   ],
   "source": [
    "pr_filename = pr_files[0].filename\n",
    "assert section_name in pr_filename\n",
    "print(pr_filename)"
   ]
  },
  {
   "cell_type": "markdown",
   "id": "11efc147-ae59-4db5-990d-7d30c89ed8d0",
   "metadata": {
    "editable": true,
    "papermill": {
     "duration": 0.019897,
     "end_time": "2024-03-20T15:53:47.831369",
     "exception": false,
     "start_time": "2024-03-20T15:53:47.811472",
     "status": "completed"
    },
    "slideshow": {
     "slide_type": ""
    },
    "tags": []
   },
   "source": [
    "### Original"
   ]
  },
  {
   "cell_type": "code",
   "execution_count": 18,
   "id": "47db229e-b5e4-4c9a-ae54-fc984d9fdcde",
   "metadata": {
    "execution": {
     "iopub.execute_input": "2024-03-20T15:53:47.871960Z",
     "iopub.status.busy": "2024-03-20T15:53:47.871632Z",
     "iopub.status.idle": "2024-03-20T15:53:48.021886Z",
     "shell.execute_reply": "2024-03-20T15:53:48.021375Z"
    },
    "papermill": {
     "duration": 0.171291,
     "end_time": "2024-03-20T15:53:48.022589",
     "exception": false,
     "start_time": "2024-03-20T15:53:47.851298",
     "status": "completed"
    },
    "tags": []
   },
   "outputs": [
    {
     "name": "stdout",
     "output_type": "stream",
     "text": [
      "## Abstract {.page_break_before}\n",
      "\n",
      "Correlation coef\n"
     ]
    }
   ],
   "source": [
    "# get content\n",
    "orig_section_content = repo.get_contents(pr_filename, pr_prev).decoded_content.decode(\n",
    "    \"utf-8\"\n",
    ")\n",
    "print(orig_section_content[:50])"
   ]
  },
  {
   "cell_type": "code",
   "execution_count": 19,
   "id": "1c6e25fa-ef56-4d1a-8127-064e5cc348aa",
   "metadata": {
    "execution": {
     "iopub.execute_input": "2024-03-20T15:53:48.063414Z",
     "iopub.status.busy": "2024-03-20T15:53:48.062949Z",
     "iopub.status.idle": "2024-03-20T15:53:48.066645Z",
     "shell.execute_reply": "2024-03-20T15:53:48.066154Z"
    },
    "papermill": {
     "duration": 0.024951,
     "end_time": "2024-03-20T15:53:48.067392",
     "exception": false,
     "start_time": "2024-03-20T15:53:48.042441",
     "status": "completed"
    },
    "tags": []
   },
   "outputs": [
    {
     "data": {
      "text/plain": [
       "2"
      ]
     },
     "metadata": {},
     "output_type": "display_data"
    }
   ],
   "source": [
    "# split by paragraph\n",
    "orig_section_paragraphs = orig_section_content.split(\"\\n\\n\")\n",
    "display(len(orig_section_paragraphs))"
   ]
  },
  {
   "cell_type": "markdown",
   "id": "52d7d0ff-91f7-4435-ac51-78c9c9ce25fa",
   "metadata": {
    "editable": true,
    "papermill": {
     "duration": 0.019888,
     "end_time": "2024-03-20T15:53:48.107592",
     "exception": false,
     "start_time": "2024-03-20T15:53:48.087704",
     "status": "completed"
    },
    "slideshow": {
     "slide_type": ""
    },
    "tags": []
   },
   "source": [
    "### Modified"
   ]
  },
  {
   "cell_type": "code",
   "execution_count": 20,
   "id": "c12094b0-c50f-4d98-85f7-dd5072ff68e1",
   "metadata": {
    "execution": {
     "iopub.execute_input": "2024-03-20T15:53:48.148233Z",
     "iopub.status.busy": "2024-03-20T15:53:48.147906Z",
     "iopub.status.idle": "2024-03-20T15:53:48.458688Z",
     "shell.execute_reply": "2024-03-20T15:53:48.458041Z"
    },
    "papermill": {
     "duration": 0.331934,
     "end_time": "2024-03-20T15:53:48.459471",
     "exception": false,
     "start_time": "2024-03-20T15:53:48.127537",
     "status": "completed"
    },
    "tags": []
   },
   "outputs": [
    {
     "name": "stdout",
     "output_type": "stream",
     "text": [
      "## Abstract {.page_break_before}\n",
      "\n",
      "In transcriptomi\n"
     ]
    }
   ],
   "source": [
    "# get content\n",
    "mod_section_content = repo.get_contents(pr_filename, pr_curr).decoded_content.decode(\n",
    "    \"utf-8\"\n",
    ")\n",
    "print(mod_section_content[:50])"
   ]
  },
  {
   "cell_type": "code",
   "execution_count": 21,
   "id": "e02bdeb5-77c9-4a96-adf4-a31ba8047062",
   "metadata": {
    "execution": {
     "iopub.execute_input": "2024-03-20T15:53:48.500539Z",
     "iopub.status.busy": "2024-03-20T15:53:48.500336Z",
     "iopub.status.idle": "2024-03-20T15:53:48.504094Z",
     "shell.execute_reply": "2024-03-20T15:53:48.503608Z"
    },
    "papermill": {
     "duration": 0.025178,
     "end_time": "2024-03-20T15:53:48.504806",
     "exception": false,
     "start_time": "2024-03-20T15:53:48.479628",
     "status": "completed"
    },
    "tags": []
   },
   "outputs": [
    {
     "data": {
      "text/plain": [
       "2"
      ]
     },
     "metadata": {},
     "output_type": "display_data"
    }
   ],
   "source": [
    "# split by paragraph\n",
    "mod_section_paragraphs = mod_section_content.split(\"\\n\\n\")\n",
    "display(len(mod_section_paragraphs))"
   ]
  },
  {
   "cell_type": "markdown",
   "id": "bcbaf41a-e76e-4b5d-8daa-4db6cdb20f66",
   "metadata": {
    "editable": true,
    "papermill": {
     "duration": 0.019946,
     "end_time": "2024-03-20T15:53:48.545038",
     "exception": false,
     "start_time": "2024-03-20T15:53:48.525092",
     "status": "completed"
    },
    "slideshow": {
     "slide_type": ""
    },
    "tags": []
   },
   "source": [
    "### Match"
   ]
  },
  {
   "cell_type": "code",
   "execution_count": 22,
   "id": "38ec8ddf-9d53-4e31-8a48-2946e35e6996",
   "metadata": {
    "execution": {
     "iopub.execute_input": "2024-03-20T15:53:48.587248Z",
     "iopub.status.busy": "2024-03-20T15:53:48.586792Z",
     "iopub.status.idle": "2024-03-20T15:53:48.590424Z",
     "shell.execute_reply": "2024-03-20T15:53:48.589869Z"
    },
    "papermill": {
     "duration": 0.02573,
     "end_time": "2024-03-20T15:53:48.591130",
     "exception": false,
     "start_time": "2024-03-20T15:53:48.565400",
     "status": "completed"
    },
    "tags": []
   },
   "outputs": [
    {
     "data": {
      "text/plain": [
       "'## Abstract {.page_break_before}'"
      ]
     },
     "execution_count": 22,
     "metadata": {},
     "output_type": "execute_result"
    }
   ],
   "source": [
    "orig_section_paragraphs[0]"
   ]
  },
  {
   "cell_type": "code",
   "execution_count": 23,
   "id": "b665987d-444c-49b9-8d67-1bf157225d68",
   "metadata": {
    "execution": {
     "iopub.execute_input": "2024-03-20T15:53:48.632436Z",
     "iopub.status.busy": "2024-03-20T15:53:48.632147Z",
     "iopub.status.idle": "2024-03-20T15:53:48.635648Z",
     "shell.execute_reply": "2024-03-20T15:53:48.635176Z"
    },
    "papermill": {
     "duration": 0.024832,
     "end_time": "2024-03-20T15:53:48.636344",
     "exception": false,
     "start_time": "2024-03-20T15:53:48.611512",
     "status": "completed"
    },
    "tags": []
   },
   "outputs": [
    {
     "data": {
      "text/plain": [
       "'## Abstract {.page_break_before}'"
      ]
     },
     "execution_count": 23,
     "metadata": {},
     "output_type": "execute_result"
    }
   ],
   "source": [
    "mod_section_paragraphs[0]"
   ]
  },
  {
   "cell_type": "markdown",
   "id": "19b0d453-ff6b-4194-bd5b-caec7a71a0ac",
   "metadata": {
    "editable": true,
    "papermill": {
     "duration": 0.020089,
     "end_time": "2024-03-20T15:53:48.676716",
     "exception": false,
     "start_time": "2024-03-20T15:53:48.656627",
     "status": "completed"
    },
    "slideshow": {
     "slide_type": ""
    },
    "tags": []
   },
   "source": [
    "####  Paragraph 00"
   ]
  },
  {
   "cell_type": "code",
   "execution_count": 24,
   "id": "d6e681b6-d79a-45d9-a414-653920159e1c",
   "metadata": {
    "execution": {
     "iopub.execute_input": "2024-03-20T15:53:48.742138Z",
     "iopub.status.busy": "2024-03-20T15:53:48.741945Z",
     "iopub.status.idle": "2024-03-20T15:53:48.745161Z",
     "shell.execute_reply": "2024-03-20T15:53:48.744652Z"
    },
    "papermill": {
     "duration": 0.024905,
     "end_time": "2024-03-20T15:53:48.745866",
     "exception": false,
     "start_time": "2024-03-20T15:53:48.720961",
     "status": "completed"
    },
    "tags": []
   },
   "outputs": [
    {
     "name": "stdout",
     "output_type": "stream",
     "text": [
      "Correlation coefficients are widely used to identify patterns in data that may be of particular interest. In transcriptomics, genes with correlated expression often share functions or are part of disease-relevant biological processes. Here we introduce the Clustermatch Correlation Coefficient (CCC), an efficient, easy-to-use and not-only-linear coefficient based on machine learning models. CCC reveals biologically meaningful linear and nonlinear patterns missed by standard, linear-only correlation coefficients. CCC captures general patterns in data by comparing clustering solutions while being much faster than state-of-the-art coefficients such as the Maximal Information Coefficient. When applied to human gene expression data, CCC identifies robust linear relationships while detecting nonlinear patterns associated, for example, with sex differences that are not captured by linear-only coefficients. Gene pairs highly ranked by CCC were enriched for interactions in integrated networks built from protein-protein interaction, transcription factor regulation, and chemical and genetic perturbations, suggesting that CCC could detect functional relationships that linear-only methods missed. CCC is a highly-efficient, next-generation not-only-linear correlation coefficient that can readily be applied to genome-scale data and other domains across different data types.\n"
     ]
    }
   ],
   "source": [
    "par0 = process_paragraph(orig_section_paragraphs[1])\n",
    "print(par0)"
   ]
  },
  {
   "cell_type": "code",
   "execution_count": 25,
   "id": "d1bf3ff4-c3ab-4ca8-b5d5-c3a2f6c02702",
   "metadata": {
    "execution": {
     "iopub.execute_input": "2024-03-20T15:53:48.787192Z",
     "iopub.status.busy": "2024-03-20T15:53:48.786863Z",
     "iopub.status.idle": "2024-03-20T15:53:48.789991Z",
     "shell.execute_reply": "2024-03-20T15:53:48.789425Z"
    },
    "papermill": {
     "duration": 0.024698,
     "end_time": "2024-03-20T15:53:48.790773",
     "exception": false,
     "start_time": "2024-03-20T15:53:48.766075",
     "status": "completed"
    },
    "tags": []
   },
   "outputs": [
    {
     "name": "stdout",
     "output_type": "stream",
     "text": [
      "In transcriptomics, identifying patterns in gene expression data is crucial for understanding biological processes. The traditional linear correlation coefficients may not capture all the complexities in gene relationships. To address this, we propose the Clustermatch Correlation Coefficient (CCC), a machine learning-based coefficient that can reveal both linear and nonlinear patterns efficiently. Compared to standard coefficients like the Maximal Information Coefficient, CCC is faster and can detect biologically meaningful patterns that are missed by linear-only methods. When applied to human gene expression data, CCC not only identifies robust linear relationships but also uncovers nonlinear patterns, such as sex differences. Additionally, CCC can detect functional relationships between genes that are overlooked by linear-only methods, as shown by enrichment in integrated networks. Overall, CCC is a versatile and efficient tool that can be applied to genome-scale data and various data types to uncover hidden relationships.\n"
     ]
    }
   ],
   "source": [
    "par1 = process_paragraph(mod_section_paragraphs[1])\n",
    "print(par1)"
   ]
  },
  {
   "cell_type": "code",
   "execution_count": 26,
   "id": "c4b6cfc3-c2ae-40ce-abca-de3778b445f4",
   "metadata": {
    "execution": {
     "iopub.execute_input": "2024-03-20T15:53:48.832409Z",
     "iopub.status.busy": "2024-03-20T15:53:48.831982Z",
     "iopub.status.idle": "2024-03-20T15:53:48.834879Z",
     "shell.execute_reply": "2024-03-20T15:53:48.834317Z"
    },
    "papermill": {
     "duration": 0.024482,
     "end_time": "2024-03-20T15:53:48.835614",
     "exception": false,
     "start_time": "2024-03-20T15:53:48.811132",
     "status": "completed"
    },
    "tags": []
   },
   "outputs": [],
   "source": [
    "paragraph_matches.append(\n",
    "    (\n",
    "        section_name,\n",
    "        par0,\n",
    "        par1,\n",
    "    )\n",
    ")"
   ]
  },
  {
   "cell_type": "code",
   "execution_count": 27,
   "id": "db738a8d-d527-4607-8994-2a62433d75e6",
   "metadata": {
    "execution": {
     "iopub.execute_input": "2024-03-20T15:53:48.877317Z",
     "iopub.status.busy": "2024-03-20T15:53:48.876805Z",
     "iopub.status.idle": "2024-03-20T15:53:48.880647Z",
     "shell.execute_reply": "2024-03-20T15:53:48.880092Z"
    },
    "papermill": {
     "duration": 0.02543,
     "end_time": "2024-03-20T15:53:48.881354",
     "exception": false,
     "start_time": "2024-03-20T15:53:48.855924",
     "status": "completed"
    },
    "tags": []
   },
   "outputs": [
    {
     "data": {
      "text/plain": [
       "('abstract',\n",
       " 'Correlation coefficients are widely used to identify patterns in data that may be of particular interest. In transcriptomics, genes with correlated expression often share functions or are part of disease-relevant biological processes. Here we introduce the Clustermatch Correlation Coefficient (CCC), an efficient, easy-to-use and not-only-linear coefficient based on machine learning models. CCC reveals biologically meaningful linear and nonlinear patterns missed by standard, linear-only correlation coefficients. CCC captures general patterns in data by comparing clustering solutions while being much faster than state-of-the-art coefficients such as the Maximal Information Coefficient. When applied to human gene expression data, CCC identifies robust linear relationships while detecting nonlinear patterns associated, for example, with sex differences that are not captured by linear-only coefficients. Gene pairs highly ranked by CCC were enriched for interactions in integrated networks built from protein-protein interaction, transcription factor regulation, and chemical and genetic perturbations, suggesting that CCC could detect functional relationships that linear-only methods missed. CCC is a highly-efficient, next-generation not-only-linear correlation coefficient that can readily be applied to genome-scale data and other domains across different data types.',\n",
       " 'In transcriptomics, identifying patterns in gene expression data is crucial for understanding biological processes. The traditional linear correlation coefficients may not capture all the complexities in gene relationships. To address this, we propose the Clustermatch Correlation Coefficient (CCC), a machine learning-based coefficient that can reveal both linear and nonlinear patterns efficiently. Compared to standard coefficients like the Maximal Information Coefficient, CCC is faster and can detect biologically meaningful patterns that are missed by linear-only methods. When applied to human gene expression data, CCC not only identifies robust linear relationships but also uncovers nonlinear patterns, such as sex differences. Additionally, CCC can detect functional relationships between genes that are overlooked by linear-only methods, as shown by enrichment in integrated networks. Overall, CCC is a versatile and efficient tool that can be applied to genome-scale data and various data types to uncover hidden relationships.')"
      ]
     },
     "metadata": {},
     "output_type": "display_data"
    }
   ],
   "source": [
    "display(paragraph_matches[-1])"
   ]
  },
  {
   "cell_type": "markdown",
   "id": "84bb559e-97ba-4171-ac1c-b1b8b1837c5b",
   "metadata": {
    "editable": true,
    "papermill": {
     "duration": 0.020315,
     "end_time": "2024-03-20T15:53:48.922216",
     "exception": false,
     "start_time": "2024-03-20T15:53:48.901901",
     "status": "completed"
    },
    "slideshow": {
     "slide_type": ""
    },
    "tags": []
   },
   "source": [
    "## Introduction"
   ]
  },
  {
   "cell_type": "code",
   "execution_count": 28,
   "id": "2fbfb828-2b12-42da-b724-9d81121dbda3",
   "metadata": {
    "execution": {
     "iopub.execute_input": "2024-03-20T15:53:48.964521Z",
     "iopub.status.busy": "2024-03-20T15:53:48.964137Z",
     "iopub.status.idle": "2024-03-20T15:53:48.966867Z",
     "shell.execute_reply": "2024-03-20T15:53:48.966308Z"
    },
    "papermill": {
     "duration": 0.024955,
     "end_time": "2024-03-20T15:53:48.967699",
     "exception": false,
     "start_time": "2024-03-20T15:53:48.942744",
     "status": "completed"
    },
    "tags": []
   },
   "outputs": [],
   "source": [
    "section_name = \"introduction\""
   ]
  },
  {
   "cell_type": "code",
   "execution_count": 29,
   "id": "802ec3df-6974-42a5-b5a0-9cd621877c5f",
   "metadata": {
    "editable": true,
    "execution": {
     "iopub.execute_input": "2024-03-20T15:53:49.010091Z",
     "iopub.status.busy": "2024-03-20T15:53:49.009771Z",
     "iopub.status.idle": "2024-03-20T15:53:49.012960Z",
     "shell.execute_reply": "2024-03-20T15:53:49.012379Z"
    },
    "papermill": {
     "duration": 0.02503,
     "end_time": "2024-03-20T15:53:49.013675",
     "exception": false,
     "start_time": "2024-03-20T15:53:48.988645",
     "status": "completed"
    },
    "slideshow": {
     "slide_type": ""
    },
    "tags": []
   },
   "outputs": [
    {
     "name": "stdout",
     "output_type": "stream",
     "text": [
      "content/02.introduction.md\n"
     ]
    }
   ],
   "source": [
    "pr_filename = pr_files[1].filename\n",
    "assert section_name in pr_filename\n",
    "print(pr_filename)"
   ]
  },
  {
   "cell_type": "markdown",
   "id": "3cb464ec-e479-47bc-a870-dbab7372c44b",
   "metadata": {
    "editable": true,
    "papermill": {
     "duration": 0.020441,
     "end_time": "2024-03-20T15:53:49.054819",
     "exception": false,
     "start_time": "2024-03-20T15:53:49.034378",
     "status": "completed"
    },
    "slideshow": {
     "slide_type": ""
    },
    "tags": []
   },
   "source": [
    "### Original"
   ]
  },
  {
   "cell_type": "code",
   "execution_count": 30,
   "id": "020b21ef-3aca-4848-8717-ace1083aebf0",
   "metadata": {
    "execution": {
     "iopub.execute_input": "2024-03-20T15:53:49.096817Z",
     "iopub.status.busy": "2024-03-20T15:53:49.096488Z",
     "iopub.status.idle": "2024-03-20T15:53:49.241910Z",
     "shell.execute_reply": "2024-03-20T15:53:49.241306Z"
    },
    "papermill": {
     "duration": 0.167664,
     "end_time": "2024-03-20T15:53:49.243066",
     "exception": false,
     "start_time": "2024-03-20T15:53:49.075402",
     "status": "completed"
    },
    "tags": []
   },
   "outputs": [
    {
     "name": "stdout",
     "output_type": "stream",
     "text": [
      "## Introduction\n",
      "\n",
      "New technologies have vastly impr\n"
     ]
    }
   ],
   "source": [
    "# get content\n",
    "orig_section_content = repo.get_contents(pr_filename, pr_prev).decoded_content.decode(\n",
    "    \"utf-8\"\n",
    ")\n",
    "print(orig_section_content[:50])"
   ]
  },
  {
   "cell_type": "code",
   "execution_count": 31,
   "id": "e1612d62-3f65-43e6-b6cb-4b5538931161",
   "metadata": {
    "execution": {
     "iopub.execute_input": "2024-03-20T15:53:49.322463Z",
     "iopub.status.busy": "2024-03-20T15:53:49.322125Z",
     "iopub.status.idle": "2024-03-20T15:53:49.325885Z",
     "shell.execute_reply": "2024-03-20T15:53:49.325328Z"
    },
    "papermill": {
     "duration": 0.04413,
     "end_time": "2024-03-20T15:53:49.326610",
     "exception": false,
     "start_time": "2024-03-20T15:53:49.282480",
     "status": "completed"
    },
    "tags": []
   },
   "outputs": [
    {
     "data": {
      "text/plain": [
       "4"
      ]
     },
     "metadata": {},
     "output_type": "display_data"
    }
   ],
   "source": [
    "# split by paragraph\n",
    "orig_section_paragraphs = orig_section_content.split(\"\\n\\n\")\n",
    "display(len(orig_section_paragraphs))"
   ]
  },
  {
   "cell_type": "markdown",
   "id": "ee13fe8d-f094-4da4-b2dc-245f595ab964",
   "metadata": {
    "editable": true,
    "papermill": {
     "duration": 0.020973,
     "end_time": "2024-03-20T15:53:49.368421",
     "exception": false,
     "start_time": "2024-03-20T15:53:49.347448",
     "status": "completed"
    },
    "slideshow": {
     "slide_type": ""
    },
    "tags": []
   },
   "source": [
    "### Modified"
   ]
  },
  {
   "cell_type": "code",
   "execution_count": 32,
   "id": "61d1c4b1-c798-433e-9dc4-18313701a1d0",
   "metadata": {
    "execution": {
     "iopub.execute_input": "2024-03-20T15:53:49.410847Z",
     "iopub.status.busy": "2024-03-20T15:53:49.410513Z",
     "iopub.status.idle": "2024-03-20T15:53:49.628540Z",
     "shell.execute_reply": "2024-03-20T15:53:49.627925Z"
    },
    "papermill": {
     "duration": 0.240418,
     "end_time": "2024-03-20T15:53:49.629600",
     "exception": false,
     "start_time": "2024-03-20T15:53:49.389182",
     "status": "completed"
    },
    "tags": []
   },
   "outputs": [
    {
     "name": "stdout",
     "output_type": "stream",
     "text": [
      "## Introduction\n",
      "\n",
      "Recent advancements in data colle\n"
     ]
    }
   ],
   "source": [
    "# get content\n",
    "mod_section_content = repo.get_contents(pr_filename, pr_curr).decoded_content.decode(\n",
    "    \"utf-8\"\n",
    ")\n",
    "print(mod_section_content[:50])"
   ]
  },
  {
   "cell_type": "code",
   "execution_count": 33,
   "id": "edf81c3c-1213-4752-8768-c3158025192d",
   "metadata": {
    "execution": {
     "iopub.execute_input": "2024-03-20T15:53:49.693080Z",
     "iopub.status.busy": "2024-03-20T15:53:49.692735Z",
     "iopub.status.idle": "2024-03-20T15:53:49.696493Z",
     "shell.execute_reply": "2024-03-20T15:53:49.695925Z"
    },
    "papermill": {
     "duration": 0.036659,
     "end_time": "2024-03-20T15:53:49.697550",
     "exception": false,
     "start_time": "2024-03-20T15:53:49.660891",
     "status": "completed"
    },
    "tags": []
   },
   "outputs": [
    {
     "data": {
      "text/plain": [
       "4"
      ]
     },
     "metadata": {},
     "output_type": "display_data"
    }
   ],
   "source": [
    "# split by paragraph\n",
    "mod_section_paragraphs = mod_section_content.split(\"\\n\\n\")\n",
    "display(len(mod_section_paragraphs))"
   ]
  },
  {
   "cell_type": "markdown",
   "id": "1e4efe27-e73d-4cbe-953f-203bac59f5dc",
   "metadata": {
    "editable": true,
    "papermill": {
     "duration": 0.020472,
     "end_time": "2024-03-20T15:53:49.746754",
     "exception": false,
     "start_time": "2024-03-20T15:53:49.726282",
     "status": "completed"
    },
    "slideshow": {
     "slide_type": ""
    },
    "tags": []
   },
   "source": [
    "### Match"
   ]
  },
  {
   "cell_type": "code",
   "execution_count": 34,
   "id": "a80dd51e-9ffb-43e8-9389-d5ed1a28fee0",
   "metadata": {
    "execution": {
     "iopub.execute_input": "2024-03-20T15:53:49.789758Z",
     "iopub.status.busy": "2024-03-20T15:53:49.789234Z",
     "iopub.status.idle": "2024-03-20T15:53:49.792932Z",
     "shell.execute_reply": "2024-03-20T15:53:49.792376Z"
    },
    "papermill": {
     "duration": 0.026072,
     "end_time": "2024-03-20T15:53:49.793743",
     "exception": false,
     "start_time": "2024-03-20T15:53:49.767671",
     "status": "completed"
    },
    "tags": []
   },
   "outputs": [
    {
     "data": {
      "text/plain": [
       "'## Introduction'"
      ]
     },
     "execution_count": 34,
     "metadata": {},
     "output_type": "execute_result"
    }
   ],
   "source": [
    "orig_section_paragraphs[0]"
   ]
  },
  {
   "cell_type": "code",
   "execution_count": 35,
   "id": "0c34cdc7-b226-45d2-8e8b-e375ef9e3d6a",
   "metadata": {
    "execution": {
     "iopub.execute_input": "2024-03-20T15:53:49.836778Z",
     "iopub.status.busy": "2024-03-20T15:53:49.836451Z",
     "iopub.status.idle": "2024-03-20T15:53:49.839957Z",
     "shell.execute_reply": "2024-03-20T15:53:49.839402Z"
    },
    "papermill": {
     "duration": 0.026089,
     "end_time": "2024-03-20T15:53:49.840833",
     "exception": false,
     "start_time": "2024-03-20T15:53:49.814744",
     "status": "completed"
    },
    "tags": []
   },
   "outputs": [
    {
     "data": {
      "text/plain": [
       "'## Introduction'"
      ]
     },
     "execution_count": 35,
     "metadata": {},
     "output_type": "execute_result"
    }
   ],
   "source": [
    "mod_section_paragraphs[0]"
   ]
  },
  {
   "cell_type": "markdown",
   "id": "7baf3486-f6d9-42a0-b67a-15eb7b378bad",
   "metadata": {
    "editable": true,
    "papermill": {
     "duration": 0.020995,
     "end_time": "2024-03-20T15:53:49.882892",
     "exception": false,
     "start_time": "2024-03-20T15:53:49.861897",
     "status": "completed"
    },
    "slideshow": {
     "slide_type": ""
    },
    "tags": []
   },
   "source": [
    "####  Paragraph 00"
   ]
  },
  {
   "cell_type": "code",
   "execution_count": 36,
   "id": "ac1650e5-8298-412d-8a15-bd040748024e",
   "metadata": {
    "execution": {
     "iopub.execute_input": "2024-03-20T15:53:49.925577Z",
     "iopub.status.busy": "2024-03-20T15:53:49.925309Z",
     "iopub.status.idle": "2024-03-20T15:53:49.928442Z",
     "shell.execute_reply": "2024-03-20T15:53:49.927859Z"
    },
    "papermill": {
     "duration": 0.025418,
     "end_time": "2024-03-20T15:53:49.929201",
     "exception": false,
     "start_time": "2024-03-20T15:53:49.903783",
     "status": "completed"
    },
    "tags": []
   },
   "outputs": [
    {
     "name": "stdout",
     "output_type": "stream",
     "text": [
      "New technologies have vastly improved data collection, generating a deluge of information across different disciplines. This large amount of data provides new opportunities to address unanswered scientific questions, provided we have efficient tools capable of identifying multiple types of underlying patterns. Correlation analysis is an essential statistical technique for discovering relationships between variables [@pmid:21310971]. Correlation coefficients are often used in exploratory data mining techniques, such as clustering or community detection algorithms, to compute a similarity value between a pair of objects of interest such as genes [@pmid:27479844] or disease-relevant lifestyle factors [@doi:10.1073/pnas.1217269109]. Correlation methods are also used in supervised tasks, for example, for feature selection to improve prediction accuracy [@pmid:27006077; @pmid:33729976]. The Pearson correlation coefficient is ubiquitously deployed across application domains and diverse scientific areas. Thus, even minor and significant improvements in these techniques could have enormous consequences in industry and research.\n"
     ]
    }
   ],
   "source": [
    "par0 = process_paragraph(orig_section_paragraphs[1])\n",
    "print(par0)"
   ]
  },
  {
   "cell_type": "code",
   "execution_count": 37,
   "id": "d5a26113-dc29-44d2-9458-6e5d8461accb",
   "metadata": {
    "execution": {
     "iopub.execute_input": "2024-03-20T15:53:49.972554Z",
     "iopub.status.busy": "2024-03-20T15:53:49.972092Z",
     "iopub.status.idle": "2024-03-20T15:53:49.975263Z",
     "shell.execute_reply": "2024-03-20T15:53:49.974697Z"
    },
    "papermill": {
     "duration": 0.025689,
     "end_time": "2024-03-20T15:53:49.976076",
     "exception": false,
     "start_time": "2024-03-20T15:53:49.950387",
     "status": "completed"
    },
    "tags": []
   },
   "outputs": [
    {
     "name": "stdout",
     "output_type": "stream",
     "text": [
      "Recent advancements in data collection have led to a significant increase in the amount of information available in various fields. This abundance of data presents an opportunity to explore unanswered scientific questions, but efficient tools are needed to uncover different patterns within the data. Correlation analysis, a fundamental statistical method, is commonly used to identify relationships between variables (Smith et al., 2011). Correlation coefficients play a crucial role in data mining approaches, such as clustering algorithms, to measure the similarity between objects of interest, such as genes (Jones et al., 2016) or lifestyle factors related to diseases (Brown et al., 2013). These methods are also applied in supervised tasks, including feature selection to enhance prediction accuracy (Johnson et al., 2017; White et al., 2021). The widespread use of the Pearson correlation coefficient spans various scientific fields and applications. Therefore, even slight improvements in these methods could have a significant impact on both industry and research.\n"
     ]
    }
   ],
   "source": [
    "par1 = process_paragraph(mod_section_paragraphs[1])\n",
    "print(par1)"
   ]
  },
  {
   "cell_type": "code",
   "execution_count": 38,
   "id": "5d1ae43c-6bc3-4cf8-98e6-5d0191843855",
   "metadata": {
    "execution": {
     "iopub.execute_input": "2024-03-20T15:53:50.019541Z",
     "iopub.status.busy": "2024-03-20T15:53:50.019279Z",
     "iopub.status.idle": "2024-03-20T15:53:50.022030Z",
     "shell.execute_reply": "2024-03-20T15:53:50.021535Z"
    },
    "papermill": {
     "duration": 0.025423,
     "end_time": "2024-03-20T15:53:50.022783",
     "exception": false,
     "start_time": "2024-03-20T15:53:49.997360",
     "status": "completed"
    },
    "tags": []
   },
   "outputs": [],
   "source": [
    "paragraph_matches.append(\n",
    "    (\n",
    "        section_name,\n",
    "        par0,\n",
    "        par1,\n",
    "    )\n",
    ")"
   ]
  },
  {
   "cell_type": "code",
   "execution_count": 39,
   "id": "45f4c986-54f6-406a-860a-9dc2caa9f3bc",
   "metadata": {
    "execution": {
     "iopub.execute_input": "2024-03-20T15:53:50.065994Z",
     "iopub.status.busy": "2024-03-20T15:53:50.065519Z",
     "iopub.status.idle": "2024-03-20T15:53:50.069227Z",
     "shell.execute_reply": "2024-03-20T15:53:50.068668Z"
    },
    "papermill": {
     "duration": 0.026041,
     "end_time": "2024-03-20T15:53:50.069992",
     "exception": false,
     "start_time": "2024-03-20T15:53:50.043951",
     "status": "completed"
    },
    "tags": []
   },
   "outputs": [
    {
     "data": {
      "text/plain": [
       "('introduction',\n",
       " 'New technologies have vastly improved data collection, generating a deluge of information across different disciplines. This large amount of data provides new opportunities to address unanswered scientific questions, provided we have efficient tools capable of identifying multiple types of underlying patterns. Correlation analysis is an essential statistical technique for discovering relationships between variables [@pmid:21310971]. Correlation coefficients are often used in exploratory data mining techniques, such as clustering or community detection algorithms, to compute a similarity value between a pair of objects of interest such as genes [@pmid:27479844] or disease-relevant lifestyle factors [@doi:10.1073/pnas.1217269109]. Correlation methods are also used in supervised tasks, for example, for feature selection to improve prediction accuracy [@pmid:27006077; @pmid:33729976]. The Pearson correlation coefficient is ubiquitously deployed across application domains and diverse scientific areas. Thus, even minor and significant improvements in these techniques could have enormous consequences in industry and research.',\n",
       " 'Recent advancements in data collection have led to a significant increase in the amount of information available in various fields. This abundance of data presents an opportunity to explore unanswered scientific questions, but efficient tools are needed to uncover different patterns within the data. Correlation analysis, a fundamental statistical method, is commonly used to identify relationships between variables (Smith et al., 2011). Correlation coefficients play a crucial role in data mining approaches, such as clustering algorithms, to measure the similarity between objects of interest, such as genes (Jones et al., 2016) or lifestyle factors related to diseases (Brown et al., 2013). These methods are also applied in supervised tasks, including feature selection to enhance prediction accuracy (Johnson et al., 2017; White et al., 2021). The widespread use of the Pearson correlation coefficient spans various scientific fields and applications. Therefore, even slight improvements in these methods could have a significant impact on both industry and research.')"
      ]
     },
     "metadata": {},
     "output_type": "display_data"
    }
   ],
   "source": [
    "display(paragraph_matches[-1])"
   ]
  },
  {
   "cell_type": "markdown",
   "id": "02e1dbd3-437b-457e-b155-ceb7a0aaa0d9",
   "metadata": {
    "editable": true,
    "papermill": {
     "duration": 0.021139,
     "end_time": "2024-03-20T15:53:50.112088",
     "exception": false,
     "start_time": "2024-03-20T15:53:50.090949",
     "status": "completed"
    },
    "slideshow": {
     "slide_type": ""
    },
    "tags": []
   },
   "source": [
    "####  Paragraph 01"
   ]
  },
  {
   "cell_type": "code",
   "execution_count": 40,
   "id": "7420293a-1901-46ca-a795-bc479bee48a6",
   "metadata": {
    "execution": {
     "iopub.execute_input": "2024-03-20T15:53:50.155644Z",
     "iopub.status.busy": "2024-03-20T15:53:50.155321Z",
     "iopub.status.idle": "2024-03-20T15:53:50.158453Z",
     "shell.execute_reply": "2024-03-20T15:53:50.157887Z"
    },
    "papermill": {
     "duration": 0.025833,
     "end_time": "2024-03-20T15:53:50.159253",
     "exception": false,
     "start_time": "2024-03-20T15:53:50.133420",
     "status": "completed"
    },
    "tags": []
   },
   "outputs": [
    {
     "name": "stdout",
     "output_type": "stream",
     "text": [
      "In transcriptomics, many analyses start with estimating the correlation between genes. More sophisticated approaches built on correlation analysis can suggest gene function [@pmid:21241896], aid in discovering common and cell lineage-specific regulatory networks [@pmid:25915600], and capture important interactions in a living organism that can uncover molecular mechanisms in other species [@pmid:21606319; @pmid:16968540]. The analysis of large RNA-seq datasets [@pmid:32913098; @pmid:34844637] can also reveal complex transcriptional mechanisms underlying human diseases [@pmid:27479844; @pmid:31121115; @pmid:30668570; @pmid:32424349; @pmid:34475573]. Since the introduction of the omnigenic model of complex traits [@pmid:28622505; @pmid:31051098], gene-gene relationships are playing an increasingly important role in genetic studies of human diseases [@pmid:34845454; @doi:10.1101/2021.07.05.450786; @doi:10.1101/2021.10.21.21265342; @doi:10.1038/s41588-021-00913-z], even in specific fields such as polygenic risk scores [@doi:10.1016/j.ajhg.2021.07.003]. In this context, recent approaches combine disease-associated genes from genome-wide association studies (GWAS) with gene co-expression networks to prioritize \"core\" genes directly affecting diseases [@doi:10.1186/s13040-020-00216-9; @doi:10.1101/2021.07.05.450786; @doi:10.1101/2021.10.21.21265342]. These core genes are not captured by standard statistical methods but are believed to be part of highly-interconnected, disease-relevant regulatory networks. Therefore, advanced correlation coefficients could immediately find wide applications across many areas of biology, including the prioritization of candidate drug targets in the precision medicine field.\n"
     ]
    }
   ],
   "source": [
    "par0 = process_paragraph(orig_section_paragraphs[2])\n",
    "print(par0)"
   ]
  },
  {
   "cell_type": "code",
   "execution_count": 41,
   "id": "adf7d64e-404e-46ca-a5f2-15a55dfde1e1",
   "metadata": {
    "execution": {
     "iopub.execute_input": "2024-03-20T15:53:50.202812Z",
     "iopub.status.busy": "2024-03-20T15:53:50.202488Z",
     "iopub.status.idle": "2024-03-20T15:53:50.205650Z",
     "shell.execute_reply": "2024-03-20T15:53:50.205077Z"
    },
    "papermill": {
     "duration": 0.025717,
     "end_time": "2024-03-20T15:53:50.206381",
     "exception": false,
     "start_time": "2024-03-20T15:53:50.180664",
     "status": "completed"
    },
    "tags": []
   },
   "outputs": [
    {
     "name": "stdout",
     "output_type": "stream",
     "text": [
      "In the field of transcriptomics, many analyses begin by assessing the correlation between genes. More advanced methods, based on correlation analysis, can provide insights into gene function (Smith et al., 2010), assist in identifying common and cell lineage-specific regulatory networks (Jones et al., 2015), and reveal crucial interactions within living organisms that may shed light on molecular mechanisms in different species (Brown et al., 2011; White et al., 2005). Analyzing extensive RNA-seq datasets (Green et al., 2021; Black et al., 2022) can unveil intricate transcriptional mechanisms linked to human diseases (Gray et al., 2016; Brown et al., 2019; White et al., 2020; Black et al., 2021; Yellow et al., 2023). Following the introduction of the omnigenic model for complex traits (Red et al., 2017; Blue et al., 2019), gene-gene relationships have gained significance in genetic studies of human diseases (Black et al., 2022; Smith et al., 2021; White et al., 2021; Green et al., 2021), even in specific areas like polygenic risk scores (Jones et al., 2021). Recent approaches integrate disease-associated genes from genome-wide association studies (GWAS) with gene co-expression networks to identify \"core\" genes that directly influence diseases (Green et al., 2020; Smith et al., 2021; White et al., 2021). These core genes, not identified by conventional statistical methods, are thought to be part of highly interconnected, disease-relevant regulatory networks. Therefore, advanced correlation coefficients could have broad applications in various biological fields, including the prioritization of potential drug targets in precision medicine.\n"
     ]
    }
   ],
   "source": [
    "# par1 = \" \".join(mod_section_paragraphs[2:5]).strip()\n",
    "par1 = process_paragraph(mod_section_paragraphs[2])\n",
    "print(par1)"
   ]
  },
  {
   "cell_type": "code",
   "execution_count": 42,
   "id": "59eb3aa3-5550-4ff5-b9cf-b2572c9e3320",
   "metadata": {
    "execution": {
     "iopub.execute_input": "2024-03-20T15:53:50.250173Z",
     "iopub.status.busy": "2024-03-20T15:53:50.249854Z",
     "iopub.status.idle": "2024-03-20T15:53:50.252623Z",
     "shell.execute_reply": "2024-03-20T15:53:50.252043Z"
    },
    "papermill": {
     "duration": 0.025443,
     "end_time": "2024-03-20T15:53:50.253433",
     "exception": false,
     "start_time": "2024-03-20T15:53:50.227990",
     "status": "completed"
    },
    "tags": []
   },
   "outputs": [],
   "source": [
    "paragraph_matches.append(\n",
    "    (\n",
    "        section_name,\n",
    "        par0,\n",
    "        par1,\n",
    "    )\n",
    ")"
   ]
  },
  {
   "cell_type": "code",
   "execution_count": 43,
   "id": "7a916bff-4b07-45f5-842f-eaec9bb0d42e",
   "metadata": {
    "execution": {
     "iopub.execute_input": "2024-03-20T15:53:50.296689Z",
     "iopub.status.busy": "2024-03-20T15:53:50.296318Z",
     "iopub.status.idle": "2024-03-20T15:53:50.300068Z",
     "shell.execute_reply": "2024-03-20T15:53:50.299511Z"
    },
    "papermill": {
     "duration": 0.026302,
     "end_time": "2024-03-20T15:53:50.300888",
     "exception": false,
     "start_time": "2024-03-20T15:53:50.274586",
     "status": "completed"
    },
    "tags": []
   },
   "outputs": [
    {
     "data": {
      "text/plain": [
       "('introduction',\n",
       " 'In transcriptomics, many analyses start with estimating the correlation between genes. More sophisticated approaches built on correlation analysis can suggest gene function [@pmid:21241896], aid in discovering common and cell lineage-specific regulatory networks [@pmid:25915600], and capture important interactions in a living organism that can uncover molecular mechanisms in other species [@pmid:21606319; @pmid:16968540]. The analysis of large RNA-seq datasets [@pmid:32913098; @pmid:34844637] can also reveal complex transcriptional mechanisms underlying human diseases [@pmid:27479844; @pmid:31121115; @pmid:30668570; @pmid:32424349; @pmid:34475573]. Since the introduction of the omnigenic model of complex traits [@pmid:28622505; @pmid:31051098], gene-gene relationships are playing an increasingly important role in genetic studies of human diseases [@pmid:34845454; @doi:10.1101/2021.07.05.450786; @doi:10.1101/2021.10.21.21265342; @doi:10.1038/s41588-021-00913-z], even in specific fields such as polygenic risk scores [@doi:10.1016/j.ajhg.2021.07.003]. In this context, recent approaches combine disease-associated genes from genome-wide association studies (GWAS) with gene co-expression networks to prioritize \"core\" genes directly affecting diseases [@doi:10.1186/s13040-020-00216-9; @doi:10.1101/2021.07.05.450786; @doi:10.1101/2021.10.21.21265342]. These core genes are not captured by standard statistical methods but are believed to be part of highly-interconnected, disease-relevant regulatory networks. Therefore, advanced correlation coefficients could immediately find wide applications across many areas of biology, including the prioritization of candidate drug targets in the precision medicine field.',\n",
       " 'In the field of transcriptomics, many analyses begin by assessing the correlation between genes. More advanced methods, based on correlation analysis, can provide insights into gene function (Smith et al., 2010), assist in identifying common and cell lineage-specific regulatory networks (Jones et al., 2015), and reveal crucial interactions within living organisms that may shed light on molecular mechanisms in different species (Brown et al., 2011; White et al., 2005). Analyzing extensive RNA-seq datasets (Green et al., 2021; Black et al., 2022) can unveil intricate transcriptional mechanisms linked to human diseases (Gray et al., 2016; Brown et al., 2019; White et al., 2020; Black et al., 2021; Yellow et al., 2023). Following the introduction of the omnigenic model for complex traits (Red et al., 2017; Blue et al., 2019), gene-gene relationships have gained significance in genetic studies of human diseases (Black et al., 2022; Smith et al., 2021; White et al., 2021; Green et al., 2021), even in specific areas like polygenic risk scores (Jones et al., 2021). Recent approaches integrate disease-associated genes from genome-wide association studies (GWAS) with gene co-expression networks to identify \"core\" genes that directly influence diseases (Green et al., 2020; Smith et al., 2021; White et al., 2021). These core genes, not identified by conventional statistical methods, are thought to be part of highly interconnected, disease-relevant regulatory networks. Therefore, advanced correlation coefficients could have broad applications in various biological fields, including the prioritization of potential drug targets in precision medicine.')"
      ]
     },
     "metadata": {},
     "output_type": "display_data"
    }
   ],
   "source": [
    "display(paragraph_matches[-1])"
   ]
  },
  {
   "cell_type": "markdown",
   "id": "4c1b1437-9b3b-4c56-8708-f54b7a611ee4",
   "metadata": {
    "editable": true,
    "papermill": {
     "duration": 0.021295,
     "end_time": "2024-03-20T15:53:50.343581",
     "exception": false,
     "start_time": "2024-03-20T15:53:50.322286",
     "status": "completed"
    },
    "slideshow": {
     "slide_type": ""
    },
    "tags": []
   },
   "source": [
    "####  Paragraph 02"
   ]
  },
  {
   "cell_type": "code",
   "execution_count": 44,
   "id": "ecb5a5c1-95cf-4c13-82fb-a188170553ff",
   "metadata": {
    "execution": {
     "iopub.execute_input": "2024-03-20T15:53:50.387456Z",
     "iopub.status.busy": "2024-03-20T15:53:50.386995Z",
     "iopub.status.idle": "2024-03-20T15:53:50.390261Z",
     "shell.execute_reply": "2024-03-20T15:53:50.389688Z"
    },
    "papermill": {
     "duration": 0.025926,
     "end_time": "2024-03-20T15:53:50.391038",
     "exception": false,
     "start_time": "2024-03-20T15:53:50.365112",
     "status": "completed"
    },
    "tags": []
   },
   "outputs": [
    {
     "name": "stdout",
     "output_type": "stream",
     "text": [
      "The Pearson and Spearman correlation coefficients are widely used because they reveal intuitive relationships and can be computed quickly. However, they are designed to capture linear or monotonic patterns (referred to as linear-only) and may miss complex yet critical relationships. Novel coefficients have been proposed as metrics that capture nonlinear patterns such as the Maximal Information Coefficient (MIC) [@pmid:22174245] and the Distance Correlation (DC) [@doi:10.1214/009053607000000505]. MIC, in particular, is one of the most commonly used statistics to capture more complex relationships, with successful applications across several domains [@pmid:33972855; @pmid:33001806; @pmid:27006077]. However, the computational complexity makes them impractical for even moderately sized datasets [@pmid:33972855; @pmid:27333001]. Recent implementations of MIC, for example, take several seconds to compute on a single variable pair across a few thousand objects or conditions [@pmid:33972855]. We previously developed a clustering method for highly diverse datasets that significantly outperformed approaches based on Pearson, Spearman, DC and MIC in detecting clusters of simulated linear and nonlinear relationships with varying noise levels [@doi:10.1093/bioinformatics/bty899]. Here we introduce the Clustermatch Correlation Coefficient (CCC), an efficient not-only-linear coefficient that works across quantitative and qualitative variables. CCC has a single parameter that limits the maximum complexity of relationships found (from linear to more general patterns) and computation time. CCC provides a high level of flexibility to detect specific types of patterns that are more important for the user, while providing safe defaults to capture general relationships. We also provide an efficient CCC implementation that is highly parallelizable, allowing to speed up computation across variable pairs with millions of objects or conditions. To assess its performance, we applied our method to gene expression data from the Genotype-Tissue Expression v8 (GTEx) project across different tissues [@doi:10.1126/science.aaz1776]. CCC captured both strong linear relationships and novel nonlinear patterns, which were entirely missed by standard coefficients. For example, some of these nonlinear patterns were associated with sex differences in gene expression, suggesting that CCC can capture strong relationships present only in a subset of samples. We also found that the CCC behaves similarly to MIC in several cases, although it is much faster to compute. Gene pairs detected in expression data by CCC had higher interaction probabilities in tissue-specific gene networks from the Genome-wide Analysis of gene Networks in Tissues (GIANT) [@doi:10.1038/ng.3259]. Furthermore, its ability to efficiently handle diverse data types (including numerical and categorical features) reduces preprocessing steps and makes it appealing to analyze large and heterogeneous repositories.\n"
     ]
    }
   ],
   "source": [
    "par0 = process_paragraph(orig_section_paragraphs[3])\n",
    "print(par0)"
   ]
  },
  {
   "cell_type": "code",
   "execution_count": 45,
   "id": "afb6133d-c94c-44bc-aa0c-6a568ec955aa",
   "metadata": {
    "execution": {
     "iopub.execute_input": "2024-03-20T15:53:50.435118Z",
     "iopub.status.busy": "2024-03-20T15:53:50.434773Z",
     "iopub.status.idle": "2024-03-20T15:53:50.437948Z",
     "shell.execute_reply": "2024-03-20T15:53:50.437446Z"
    },
    "papermill": {
     "duration": 0.026293,
     "end_time": "2024-03-20T15:53:50.438765",
     "exception": false,
     "start_time": "2024-03-20T15:53:50.412472",
     "status": "completed"
    },
    "tags": []
   },
   "outputs": [
    {
     "name": "stdout",
     "output_type": "stream",
     "text": [
      "The Pearson and Spearman correlation coefficients are commonly used to identify relationships quickly, but they are limited to linear or monotonic patterns. New coefficients like the Maximal Information Coefficient (MIC) and Distance Correlation (DC) have been introduced to capture more complex nonlinear relationships. However, these coefficients are computationally intensive, making them impractical for larger datasets. Our previous work introduced a clustering method that outperformed traditional coefficients in detecting linear and nonlinear relationships. In this paper, we present the Clustermatch Correlation Coefficient (CCC), a new and efficient metric that can handle both quantitative and qualitative variables. The CCC has a single parameter that controls the complexity of relationships identified and computation time. Our implementation of CCC is highly parallelizable, allowing for fast computation on large datasets. We applied CCC to gene expression data from the GTEx project and found that it can capture both linear and nonlinear patterns that were missed by traditional coefficients. Additionally, CCC performed similarly to MIC but with much faster computation times. Gene pairs identified by CCC showed higher interaction probabilities in tissue-specific gene networks from the GIANT project. The ability of CCC to handle diverse data types makes it a valuable tool for analyzing large and heterogeneous datasets.\n"
     ]
    }
   ],
   "source": [
    "par1 = process_paragraph(mod_section_paragraphs[3])\n",
    "print(par1)"
   ]
  },
  {
   "cell_type": "code",
   "execution_count": 46,
   "id": "842d5352-043a-493d-9de5-d2dde6b87393",
   "metadata": {
    "execution": {
     "iopub.execute_input": "2024-03-20T15:53:50.483087Z",
     "iopub.status.busy": "2024-03-20T15:53:50.482766Z",
     "iopub.status.idle": "2024-03-20T15:53:50.485520Z",
     "shell.execute_reply": "2024-03-20T15:53:50.484961Z"
    },
    "papermill": {
     "duration": 0.025767,
     "end_time": "2024-03-20T15:53:50.486287",
     "exception": false,
     "start_time": "2024-03-20T15:53:50.460520",
     "status": "completed"
    },
    "tags": []
   },
   "outputs": [],
   "source": [
    "paragraph_matches.append(\n",
    "    (\n",
    "        section_name,\n",
    "        par0,\n",
    "        par1,\n",
    "    )\n",
    ")"
   ]
  },
  {
   "cell_type": "code",
   "execution_count": 47,
   "id": "849bc6ba-7335-4353-be29-550eae813436",
   "metadata": {
    "execution": {
     "iopub.execute_input": "2024-03-20T15:53:50.531061Z",
     "iopub.status.busy": "2024-03-20T15:53:50.530741Z",
     "iopub.status.idle": "2024-03-20T15:53:50.534401Z",
     "shell.execute_reply": "2024-03-20T15:53:50.533915Z"
    },
    "papermill": {
     "duration": 0.026809,
     "end_time": "2024-03-20T15:53:50.535172",
     "exception": false,
     "start_time": "2024-03-20T15:53:50.508363",
     "status": "completed"
    },
    "tags": []
   },
   "outputs": [
    {
     "data": {
      "text/plain": [
       "('introduction',\n",
       " 'The Pearson and Spearman correlation coefficients are widely used because they reveal intuitive relationships and can be computed quickly. However, they are designed to capture linear or monotonic patterns (referred to as linear-only) and may miss complex yet critical relationships. Novel coefficients have been proposed as metrics that capture nonlinear patterns such as the Maximal Information Coefficient (MIC) [@pmid:22174245] and the Distance Correlation (DC) [@doi:10.1214/009053607000000505]. MIC, in particular, is one of the most commonly used statistics to capture more complex relationships, with successful applications across several domains [@pmid:33972855; @pmid:33001806; @pmid:27006077]. However, the computational complexity makes them impractical for even moderately sized datasets [@pmid:33972855; @pmid:27333001]. Recent implementations of MIC, for example, take several seconds to compute on a single variable pair across a few thousand objects or conditions [@pmid:33972855]. We previously developed a clustering method for highly diverse datasets that significantly outperformed approaches based on Pearson, Spearman, DC and MIC in detecting clusters of simulated linear and nonlinear relationships with varying noise levels [@doi:10.1093/bioinformatics/bty899]. Here we introduce the Clustermatch Correlation Coefficient (CCC), an efficient not-only-linear coefficient that works across quantitative and qualitative variables. CCC has a single parameter that limits the maximum complexity of relationships found (from linear to more general patterns) and computation time. CCC provides a high level of flexibility to detect specific types of patterns that are more important for the user, while providing safe defaults to capture general relationships. We also provide an efficient CCC implementation that is highly parallelizable, allowing to speed up computation across variable pairs with millions of objects or conditions. To assess its performance, we applied our method to gene expression data from the Genotype-Tissue Expression v8 (GTEx) project across different tissues [@doi:10.1126/science.aaz1776]. CCC captured both strong linear relationships and novel nonlinear patterns, which were entirely missed by standard coefficients. For example, some of these nonlinear patterns were associated with sex differences in gene expression, suggesting that CCC can capture strong relationships present only in a subset of samples. We also found that the CCC behaves similarly to MIC in several cases, although it is much faster to compute. Gene pairs detected in expression data by CCC had higher interaction probabilities in tissue-specific gene networks from the Genome-wide Analysis of gene Networks in Tissues (GIANT) [@doi:10.1038/ng.3259]. Furthermore, its ability to efficiently handle diverse data types (including numerical and categorical features) reduces preprocessing steps and makes it appealing to analyze large and heterogeneous repositories.',\n",
       " 'The Pearson and Spearman correlation coefficients are commonly used to identify relationships quickly, but they are limited to linear or monotonic patterns. New coefficients like the Maximal Information Coefficient (MIC) and Distance Correlation (DC) have been introduced to capture more complex nonlinear relationships. However, these coefficients are computationally intensive, making them impractical for larger datasets. Our previous work introduced a clustering method that outperformed traditional coefficients in detecting linear and nonlinear relationships. In this paper, we present the Clustermatch Correlation Coefficient (CCC), a new and efficient metric that can handle both quantitative and qualitative variables. The CCC has a single parameter that controls the complexity of relationships identified and computation time. Our implementation of CCC is highly parallelizable, allowing for fast computation on large datasets. We applied CCC to gene expression data from the GTEx project and found that it can capture both linear and nonlinear patterns that were missed by traditional coefficients. Additionally, CCC performed similarly to MIC but with much faster computation times. Gene pairs identified by CCC showed higher interaction probabilities in tissue-specific gene networks from the GIANT project. The ability of CCC to handle diverse data types makes it a valuable tool for analyzing large and heterogeneous datasets.')"
      ]
     },
     "metadata": {},
     "output_type": "display_data"
    }
   ],
   "source": [
    "display(paragraph_matches[-1])"
   ]
  },
  {
   "cell_type": "markdown",
   "id": "aabf3637-bb5a-458d-89b3-33cea18c529e",
   "metadata": {
    "editable": true,
    "papermill": {
     "duration": 0.022005,
     "end_time": "2024-03-20T15:53:50.579188",
     "exception": false,
     "start_time": "2024-03-20T15:53:50.557183",
     "status": "completed"
    },
    "slideshow": {
     "slide_type": ""
    },
    "tags": []
   },
   "source": [
    "## Results (intro)"
   ]
  },
  {
   "cell_type": "code",
   "execution_count": 48,
   "id": "eb1352b5-0d25-41d0-8f6d-245f7748e99e",
   "metadata": {
    "execution": {
     "iopub.execute_input": "2024-03-20T15:53:50.624076Z",
     "iopub.status.busy": "2024-03-20T15:53:50.623805Z",
     "iopub.status.idle": "2024-03-20T15:53:50.626518Z",
     "shell.execute_reply": "2024-03-20T15:53:50.625949Z"
    },
    "papermill": {
     "duration": 0.026062,
     "end_time": "2024-03-20T15:53:50.627284",
     "exception": false,
     "start_time": "2024-03-20T15:53:50.601222",
     "status": "completed"
    },
    "tags": []
   },
   "outputs": [],
   "source": [
    "section_name = \"results\""
   ]
  },
  {
   "cell_type": "code",
   "execution_count": 49,
   "id": "e0d44354-4c59-486e-a3a4-06dea873e86d",
   "metadata": {
    "editable": true,
    "execution": {
     "iopub.execute_input": "2024-03-20T15:53:50.672158Z",
     "iopub.status.busy": "2024-03-20T15:53:50.671797Z",
     "iopub.status.idle": "2024-03-20T15:53:50.675141Z",
     "shell.execute_reply": "2024-03-20T15:53:50.674566Z"
    },
    "papermill": {
     "duration": 0.026718,
     "end_time": "2024-03-20T15:53:50.675982",
     "exception": false,
     "start_time": "2024-03-20T15:53:50.649264",
     "status": "completed"
    },
    "slideshow": {
     "slide_type": ""
    },
    "tags": []
   },
   "outputs": [
    {
     "name": "stdout",
     "output_type": "stream",
     "text": [
      "content/04.05.results_intro.md\n"
     ]
    }
   ],
   "source": [
    "pr_filename = pr_files[2].filename\n",
    "assert section_name in pr_filename\n",
    "assert \"intro\" in pr_filename\n",
    "print(pr_filename)"
   ]
  },
  {
   "cell_type": "markdown",
   "id": "e5ba4512-f199-419b-a5ed-bd0da25ca19a",
   "metadata": {
    "editable": true,
    "papermill": {
     "duration": 0.021789,
     "end_time": "2024-03-20T15:53:50.719654",
     "exception": false,
     "start_time": "2024-03-20T15:53:50.697865",
     "status": "completed"
    },
    "slideshow": {
     "slide_type": ""
    },
    "tags": []
   },
   "source": [
    "### Original"
   ]
  },
  {
   "cell_type": "code",
   "execution_count": 50,
   "id": "104a83ac-3b10-43b2-b526-790f2ce0316c",
   "metadata": {
    "execution": {
     "iopub.execute_input": "2024-03-20T15:53:50.764627Z",
     "iopub.status.busy": "2024-03-20T15:53:50.764102Z",
     "iopub.status.idle": "2024-03-20T15:53:50.903558Z",
     "shell.execute_reply": "2024-03-20T15:53:50.902953Z"
    },
    "papermill": {
     "duration": 0.163019,
     "end_time": "2024-03-20T15:53:50.904653",
     "exception": false,
     "start_time": "2024-03-20T15:53:50.741634",
     "status": "completed"
    },
    "tags": []
   },
   "outputs": [
    {
     "name": "stdout",
     "output_type": "stream",
     "text": [
      "### A robust and efficient not-only-linear depende\n"
     ]
    }
   ],
   "source": [
    "# get content\n",
    "orig_section_content = repo.get_contents(pr_filename, pr_prev).decoded_content.decode(\n",
    "    \"utf-8\"\n",
    ")\n",
    "print(orig_section_content[:50])"
   ]
  },
  {
   "cell_type": "code",
   "execution_count": 51,
   "id": "24ce0aba-906d-4235-a67b-99d1fa4b5912",
   "metadata": {
    "execution": {
     "iopub.execute_input": "2024-03-20T15:53:50.971753Z",
     "iopub.status.busy": "2024-03-20T15:53:50.971251Z",
     "iopub.status.idle": "2024-03-20T15:53:50.975261Z",
     "shell.execute_reply": "2024-03-20T15:53:50.974705Z"
    },
    "papermill": {
     "duration": 0.038516,
     "end_time": "2024-03-20T15:53:50.976329",
     "exception": false,
     "start_time": "2024-03-20T15:53:50.937813",
     "status": "completed"
    },
    "tags": []
   },
   "outputs": [
    {
     "data": {
      "text/plain": [
       "6"
      ]
     },
     "metadata": {},
     "output_type": "display_data"
    }
   ],
   "source": [
    "# split by paragraph\n",
    "orig_section_paragraphs = orig_section_content.split(\"\\n\\n\")\n",
    "display(len(orig_section_paragraphs))"
   ]
  },
  {
   "cell_type": "markdown",
   "id": "ebd7a57f-8ca5-4357-8914-6c0e8e16d46b",
   "metadata": {
    "editable": true,
    "papermill": {
     "duration": 0.0218,
     "end_time": "2024-03-20T15:53:51.025460",
     "exception": false,
     "start_time": "2024-03-20T15:53:51.003660",
     "status": "completed"
    },
    "slideshow": {
     "slide_type": ""
    },
    "tags": []
   },
   "source": [
    "### Modified"
   ]
  },
  {
   "cell_type": "code",
   "execution_count": 52,
   "id": "7624af03-9c23-4625-9c6c-a5e9082bcf6a",
   "metadata": {
    "execution": {
     "iopub.execute_input": "2024-03-20T15:53:51.070283Z",
     "iopub.status.busy": "2024-03-20T15:53:51.069948Z",
     "iopub.status.idle": "2024-03-20T15:53:51.312777Z",
     "shell.execute_reply": "2024-03-20T15:53:51.312101Z"
    },
    "papermill": {
     "duration": 0.266492,
     "end_time": "2024-03-20T15:53:51.313845",
     "exception": false,
     "start_time": "2024-03-20T15:53:51.047353",
     "status": "completed"
    },
    "tags": []
   },
   "outputs": [
    {
     "name": "stdout",
     "output_type": "stream",
     "text": [
      "### A robust and efficient not-only-linear depende\n"
     ]
    }
   ],
   "source": [
    "# get content\n",
    "mod_section_content = repo.get_contents(pr_filename, pr_curr).decoded_content.decode(\n",
    "    \"utf-8\"\n",
    ")\n",
    "print(mod_section_content[:50])"
   ]
  },
  {
   "cell_type": "code",
   "execution_count": 53,
   "id": "e1fd8b08-aafa-4b43-aa6e-e799761fda94",
   "metadata": {
    "execution": {
     "iopub.execute_input": "2024-03-20T15:53:51.381411Z",
     "iopub.status.busy": "2024-03-20T15:53:51.381085Z",
     "iopub.status.idle": "2024-03-20T15:53:51.385065Z",
     "shell.execute_reply": "2024-03-20T15:53:51.384501Z"
    },
    "papermill": {
     "duration": 0.038755,
     "end_time": "2024-03-20T15:53:51.386093",
     "exception": false,
     "start_time": "2024-03-20T15:53:51.347338",
     "status": "completed"
    },
    "tags": []
   },
   "outputs": [
    {
     "data": {
      "text/plain": [
       "6"
      ]
     },
     "metadata": {},
     "output_type": "display_data"
    }
   ],
   "source": [
    "# split by paragraph\n",
    "mod_section_paragraphs = mod_section_content.split(\"\\n\\n\")\n",
    "display(len(mod_section_paragraphs))"
   ]
  },
  {
   "cell_type": "markdown",
   "id": "b20bc347-6c37-4089-9a38-654b3e9028bd",
   "metadata": {
    "editable": true,
    "papermill": {
     "duration": 0.021912,
     "end_time": "2024-03-20T15:53:51.436246",
     "exception": false,
     "start_time": "2024-03-20T15:53:51.414334",
     "status": "completed"
    },
    "slideshow": {
     "slide_type": ""
    },
    "tags": []
   },
   "source": [
    "### Match"
   ]
  },
  {
   "cell_type": "code",
   "execution_count": 54,
   "id": "7be2fbbd-e933-44c9-9afc-71c4bb56f6f5",
   "metadata": {
    "execution": {
     "iopub.execute_input": "2024-03-20T15:53:51.481236Z",
     "iopub.status.busy": "2024-03-20T15:53:51.481049Z",
     "iopub.status.idle": "2024-03-20T15:53:51.484618Z",
     "shell.execute_reply": "2024-03-20T15:53:51.484106Z"
    },
    "papermill": {
     "duration": 0.026956,
     "end_time": "2024-03-20T15:53:51.485363",
     "exception": false,
     "start_time": "2024-03-20T15:53:51.458407",
     "status": "completed"
    },
    "tags": []
   },
   "outputs": [
    {
     "data": {
      "text/plain": [
       "'### A robust and efficient not-only-linear dependence coefficient'"
      ]
     },
     "execution_count": 54,
     "metadata": {},
     "output_type": "execute_result"
    }
   ],
   "source": [
    "orig_section_paragraphs[0]"
   ]
  },
  {
   "cell_type": "code",
   "execution_count": 55,
   "id": "2ab3053f-f932-4fd2-a06f-2219fef997dc",
   "metadata": {
    "execution": {
     "iopub.execute_input": "2024-03-20T15:53:51.530535Z",
     "iopub.status.busy": "2024-03-20T15:53:51.530183Z",
     "iopub.status.idle": "2024-03-20T15:53:51.533770Z",
     "shell.execute_reply": "2024-03-20T15:53:51.533286Z"
    },
    "papermill": {
     "duration": 0.027118,
     "end_time": "2024-03-20T15:53:51.534575",
     "exception": false,
     "start_time": "2024-03-20T15:53:51.507457",
     "status": "completed"
    },
    "tags": []
   },
   "outputs": [
    {
     "data": {
      "text/plain": [
       "'### A robust and efficient not-only-linear dependence coefficient'"
      ]
     },
     "execution_count": 55,
     "metadata": {},
     "output_type": "execute_result"
    }
   ],
   "source": [
    "mod_section_paragraphs[0]"
   ]
  },
  {
   "cell_type": "markdown",
   "id": "f1be3841-7923-4e69-b0a9-2c39dd7ddaa7",
   "metadata": {
    "editable": true,
    "papermill": {
     "duration": 0.022278,
     "end_time": "2024-03-20T15:53:51.579224",
     "exception": false,
     "start_time": "2024-03-20T15:53:51.556946",
     "status": "completed"
    },
    "slideshow": {
     "slide_type": ""
    },
    "tags": []
   },
   "source": [
    "####  Paragraph 00"
   ]
  },
  {
   "cell_type": "code",
   "execution_count": 56,
   "id": "9a597e30-25ab-4a38-874c-90de7e184e99",
   "metadata": {
    "execution": {
     "iopub.execute_input": "2024-03-20T15:53:51.624388Z",
     "iopub.status.busy": "2024-03-20T15:53:51.623956Z",
     "iopub.status.idle": "2024-03-20T15:53:51.627239Z",
     "shell.execute_reply": "2024-03-20T15:53:51.626645Z"
    },
    "papermill": {
     "duration": 0.026714,
     "end_time": "2024-03-20T15:53:51.627984",
     "exception": false,
     "start_time": "2024-03-20T15:53:51.601270",
     "status": "completed"
    },
    "tags": []
   },
   "outputs": [
    {
     "name": "stdout",
     "output_type": "stream",
     "text": [
      "The CCC provides a similarity measure between any pair of variables, either with numerical or categorical values. The method assumes that if there is a relationship between two variables/features describing $n$ data points/objects, then the **cluster**ings of those objects using each variable should **match**. In the case of numerical values, CCC uses quantiles to efficiently separate data points into different clusters (e.g., the median separates numerical data into two clusters). Once all clusterings are generated according to each variable, we define the CCC as the maximum adjusted Rand index (ARI) [@doi:10.1007/BF01908075] between them, ranging between 0 and 1. Details of the CCC algorithm can be found in [Methods](#sec:ccc_algo).\n"
     ]
    }
   ],
   "source": [
    "par0 = process_paragraph(orig_section_paragraphs[2])\n",
    "print(par0)"
   ]
  },
  {
   "cell_type": "code",
   "execution_count": 57,
   "id": "87bc4f6c-e891-4d57-a2ce-4bd9efa0e1aa",
   "metadata": {
    "execution": {
     "iopub.execute_input": "2024-03-20T15:53:51.673153Z",
     "iopub.status.busy": "2024-03-20T15:53:51.672720Z",
     "iopub.status.idle": "2024-03-20T15:53:51.675897Z",
     "shell.execute_reply": "2024-03-20T15:53:51.675328Z"
    },
    "papermill": {
     "duration": 0.026708,
     "end_time": "2024-03-20T15:53:51.676666",
     "exception": false,
     "start_time": "2024-03-20T15:53:51.649958",
     "status": "completed"
    },
    "tags": []
   },
   "outputs": [
    {
     "name": "stdout",
     "output_type": "stream",
     "text": [
      "The CCC calculates the similarity between pairs of variables, whether they have numerical or categorical values. It assumes that if two variables describe n data points, the clusters of those points should align. For numerical values, CCC uses quantiles to create clusters (e.g., the median splits data into two clusters). The CCC is defined as the maximum adjusted Rand index between the clusterings, with a range of 0 to 1. More information on the CCC algorithm is available in the Methods section.\n"
     ]
    }
   ],
   "source": [
    "par1 = process_paragraph(mod_section_paragraphs[2])\n",
    "print(par1)"
   ]
  },
  {
   "cell_type": "code",
   "execution_count": 58,
   "id": "0cc3f797-1e8d-43b6-93d9-d0f24b22b3a4",
   "metadata": {
    "execution": {
     "iopub.execute_input": "2024-03-20T15:53:51.722222Z",
     "iopub.status.busy": "2024-03-20T15:53:51.721865Z",
     "iopub.status.idle": "2024-03-20T15:53:51.724783Z",
     "shell.execute_reply": "2024-03-20T15:53:51.724173Z"
    },
    "papermill": {
     "duration": 0.026648,
     "end_time": "2024-03-20T15:53:51.725587",
     "exception": false,
     "start_time": "2024-03-20T15:53:51.698939",
     "status": "completed"
    },
    "tags": []
   },
   "outputs": [],
   "source": [
    "paragraph_matches.append(\n",
    "    (\n",
    "        section_name,\n",
    "        par0,\n",
    "        par1,\n",
    "    )\n",
    ")"
   ]
  },
  {
   "cell_type": "code",
   "execution_count": 59,
   "id": "fa19351c-5231-4bf0-94df-c77c288929a3",
   "metadata": {
    "execution": {
     "iopub.execute_input": "2024-03-20T15:53:51.771013Z",
     "iopub.status.busy": "2024-03-20T15:53:51.770681Z",
     "iopub.status.idle": "2024-03-20T15:53:51.774331Z",
     "shell.execute_reply": "2024-03-20T15:53:51.773859Z"
    },
    "papermill": {
     "duration": 0.027168,
     "end_time": "2024-03-20T15:53:51.775058",
     "exception": false,
     "start_time": "2024-03-20T15:53:51.747890",
     "status": "completed"
    },
    "tags": []
   },
   "outputs": [
    {
     "data": {
      "text/plain": [
       "('results',\n",
       " 'The CCC provides a similarity measure between any pair of variables, either with numerical or categorical values. The method assumes that if there is a relationship between two variables/features describing $n$ data points/objects, then the **cluster**ings of those objects using each variable should **match**. In the case of numerical values, CCC uses quantiles to efficiently separate data points into different clusters (e.g., the median separates numerical data into two clusters). Once all clusterings are generated according to each variable, we define the CCC as the maximum adjusted Rand index (ARI) [@doi:10.1007/BF01908075] between them, ranging between 0 and 1. Details of the CCC algorithm can be found in [Methods](#sec:ccc_algo).',\n",
       " 'The CCC calculates the similarity between pairs of variables, whether they have numerical or categorical values. It assumes that if two variables describe n data points, the clusters of those points should align. For numerical values, CCC uses quantiles to create clusters (e.g., the median splits data into two clusters). The CCC is defined as the maximum adjusted Rand index between the clusterings, with a range of 0 to 1. More information on the CCC algorithm is available in the Methods section.')"
      ]
     },
     "metadata": {},
     "output_type": "display_data"
    }
   ],
   "source": [
    "display(paragraph_matches[-1])"
   ]
  },
  {
   "cell_type": "markdown",
   "id": "8750b23b-8244-47d9-8918-d150960f2702",
   "metadata": {
    "editable": true,
    "papermill": {
     "duration": 0.021958,
     "end_time": "2024-03-20T15:53:51.819256",
     "exception": false,
     "start_time": "2024-03-20T15:53:51.797298",
     "status": "completed"
    },
    "slideshow": {
     "slide_type": ""
    },
    "tags": []
   },
   "source": [
    "####  Paragraph 01"
   ]
  },
  {
   "cell_type": "code",
   "execution_count": 60,
   "id": "8baf67e8-648e-474d-8665-400c2f5de763",
   "metadata": {
    "execution": {
     "iopub.execute_input": "2024-03-20T15:53:51.864542Z",
     "iopub.status.busy": "2024-03-20T15:53:51.864188Z",
     "iopub.status.idle": "2024-03-20T15:53:51.867265Z",
     "shell.execute_reply": "2024-03-20T15:53:51.866764Z"
    },
    "papermill": {
     "duration": 0.026602,
     "end_time": "2024-03-20T15:53:51.868071",
     "exception": false,
     "start_time": "2024-03-20T15:53:51.841469",
     "status": "completed"
    },
    "tags": []
   },
   "outputs": [
    {
     "name": "stdout",
     "output_type": "stream",
     "text": [
      "We examined how the Pearson ($p$), Spearman ($s$) and CCC ($c$) correlation coefficients behaved on different simulated data patterns. In the first row of Figure @fig:datasets_rel, we examine the classic Anscombe's quartet [@doi:10.1080/00031305.1973.10478966], which comprises four synthetic datasets with different patterns but the same data statistics (mean, standard deviation and Pearson's correlation). This kind of simulated data, recently revisited with the \"Datasaurus\" [@url:http://www.thefunctionalart.com/2016/08/download-datasaurus-never-trust-summary.html; @doi:10.1145/3025453.3025912; @doi:10.1111/dsji.12233], is used as a reminder of the importance of going beyond simple statistics, where either undesirable patterns (such as outliers) or desirable ones (such as biologically meaningful nonlinear relationships) can be masked by summary statistics alone.\n"
     ]
    }
   ],
   "source": [
    "par0 = process_paragraph(orig_section_paragraphs[3])\n",
    "print(par0)"
   ]
  },
  {
   "cell_type": "code",
   "execution_count": 61,
   "id": "4ce852d0-25a0-417e-ab3d-67117b238c01",
   "metadata": {
    "execution": {
     "iopub.execute_input": "2024-03-20T15:53:51.913649Z",
     "iopub.status.busy": "2024-03-20T15:53:51.913314Z",
     "iopub.status.idle": "2024-03-20T15:53:51.916399Z",
     "shell.execute_reply": "2024-03-20T15:53:51.915877Z"
    },
    "papermill": {
     "duration": 0.026763,
     "end_time": "2024-03-20T15:53:51.917217",
     "exception": false,
     "start_time": "2024-03-20T15:53:51.890454",
     "status": "completed"
    },
    "tags": []
   },
   "outputs": [
    {
     "name": "stdout",
     "output_type": "stream",
     "text": [
      "We analyzed the behavior of the Pearson ($p$), Spearman ($s$), and CCC ($c$) correlation coefficients using various simulated data patterns. Figure @fig:datasets_rel shows the results for Anscombe's quartet, consisting of four synthetic datasets with different patterns but the same data statistics. This classic dataset highlights the limitations of relying solely on summary statistics, as it can mask both undesirable patterns, like outliers, and desirable ones, such as biologically meaningful nonlinear relationships. The importance of looking beyond simple statistics is further emphasized by the \"Datasaurus\" dataset, which has been revisited in recent studies.\n"
     ]
    }
   ],
   "source": [
    "par1 = process_paragraph(mod_section_paragraphs[3])\n",
    "print(par1)"
   ]
  },
  {
   "cell_type": "code",
   "execution_count": 62,
   "id": "5791f3c1-eaf4-48e9-878d-b5c068cd0f6d",
   "metadata": {
    "execution": {
     "iopub.execute_input": "2024-03-20T15:53:51.962924Z",
     "iopub.status.busy": "2024-03-20T15:53:51.962609Z",
     "iopub.status.idle": "2024-03-20T15:53:51.965267Z",
     "shell.execute_reply": "2024-03-20T15:53:51.964776Z"
    },
    "papermill": {
     "duration": 0.026427,
     "end_time": "2024-03-20T15:53:51.966060",
     "exception": false,
     "start_time": "2024-03-20T15:53:51.939633",
     "status": "completed"
    },
    "tags": []
   },
   "outputs": [],
   "source": [
    "paragraph_matches.append(\n",
    "    (\n",
    "        section_name,\n",
    "        par0,\n",
    "        par1,\n",
    "    )\n",
    ")"
   ]
  },
  {
   "cell_type": "code",
   "execution_count": 63,
   "id": "82a6f7f9-239f-42dd-84ac-f7a3be77726a",
   "metadata": {
    "execution": {
     "iopub.execute_input": "2024-03-20T15:53:52.012042Z",
     "iopub.status.busy": "2024-03-20T15:53:52.011712Z",
     "iopub.status.idle": "2024-03-20T15:53:52.015367Z",
     "shell.execute_reply": "2024-03-20T15:53:52.014877Z"
    },
    "papermill": {
     "duration": 0.027579,
     "end_time": "2024-03-20T15:53:52.016171",
     "exception": false,
     "start_time": "2024-03-20T15:53:51.988592",
     "status": "completed"
    },
    "tags": []
   },
   "outputs": [
    {
     "data": {
      "text/plain": [
       "('results',\n",
       " 'We examined how the Pearson ($p$), Spearman ($s$) and CCC ($c$) correlation coefficients behaved on different simulated data patterns. In the first row of Figure @fig:datasets_rel, we examine the classic Anscombe\\'s quartet [@doi:10.1080/00031305.1973.10478966], which comprises four synthetic datasets with different patterns but the same data statistics (mean, standard deviation and Pearson\\'s correlation). This kind of simulated data, recently revisited with the \"Datasaurus\" [@url:http://www.thefunctionalart.com/2016/08/download-datasaurus-never-trust-summary.html; @doi:10.1145/3025453.3025912; @doi:10.1111/dsji.12233], is used as a reminder of the importance of going beyond simple statistics, where either undesirable patterns (such as outliers) or desirable ones (such as biologically meaningful nonlinear relationships) can be masked by summary statistics alone.',\n",
       " 'We analyzed the behavior of the Pearson ($p$), Spearman ($s$), and CCC ($c$) correlation coefficients using various simulated data patterns. Figure @fig:datasets_rel shows the results for Anscombe\\'s quartet, consisting of four synthetic datasets with different patterns but the same data statistics. This classic dataset highlights the limitations of relying solely on summary statistics, as it can mask both undesirable patterns, like outliers, and desirable ones, such as biologically meaningful nonlinear relationships. The importance of looking beyond simple statistics is further emphasized by the \"Datasaurus\" dataset, which has been revisited in recent studies.')"
      ]
     },
     "metadata": {},
     "output_type": "display_data"
    }
   ],
   "source": [
    "display(paragraph_matches[-1])"
   ]
  },
  {
   "cell_type": "markdown",
   "id": "0ad95b5e-843e-4d55-b95e-2ddad39c3398",
   "metadata": {
    "editable": true,
    "papermill": {
     "duration": 0.022315,
     "end_time": "2024-03-20T15:53:52.060962",
     "exception": false,
     "start_time": "2024-03-20T15:53:52.038647",
     "status": "completed"
    },
    "slideshow": {
     "slide_type": ""
    },
    "tags": []
   },
   "source": [
    "####  Paragraph 02"
   ]
  },
  {
   "cell_type": "code",
   "execution_count": 64,
   "id": "400c914e-9653-4b5b-93bd-6fd0e27d0756",
   "metadata": {
    "execution": {
     "iopub.execute_input": "2024-03-20T15:53:52.107153Z",
     "iopub.status.busy": "2024-03-20T15:53:52.106821Z",
     "iopub.status.idle": "2024-03-20T15:53:52.109937Z",
     "shell.execute_reply": "2024-03-20T15:53:52.109439Z"
    },
    "papermill": {
     "duration": 0.0271,
     "end_time": "2024-03-20T15:53:52.110676",
     "exception": false,
     "start_time": "2024-03-20T15:53:52.083576",
     "status": "completed"
    },
    "tags": []
   },
   "outputs": [
    {
     "name": "stdout",
     "output_type": "stream",
     "text": [
      "Anscombe I contains a noisy but clear linear pattern, similar to Anscombe III where the linearity is perfect besides one outlier. In these two examples, CCC separates data points using two clusters (one red line for each variable $x$ and $y$), yielding 1.0 and thus indicating a strong relationship. Anscombe II seems to follow a partially quadratic relationship interpreted as linear by Pearson and Spearman. In contrast, for this potentially undersampled quadratic pattern, CCC yields a lower yet non-zero value of 0.34, reflecting a more complex relationship than a linear pattern. Anscombe IV shows a vertical line of data points where $x$ values are almost constant except for one outlier. This outlier does not influence CCC as it does for Pearson or Spearman. Thus $c=0.00$ (the minimum value) correctly indicates no association for this variable pair because, besides the outlier, for a single value of $x$ there are ten different values for $y$. This pair of variables does not fit the CCC assumption: the two clusters formed with $x$ (approximately separated by $x=13$) do not match the three clusters formed with $y$. The Pearson's correlation coefficient is the same across all these Anscombe's examples ($p=0.82$), whereas Spearman is 0.50 or greater. These simulated datasets show that both Pearson and Spearman are powerful in detecting linear patterns. However, any deviation in this assumption (like nonlinear relationships or outliers) affects their robustness.\n"
     ]
    }
   ],
   "source": [
    "par0 = process_paragraph(orig_section_paragraphs[4])\n",
    "print(par0)"
   ]
  },
  {
   "cell_type": "code",
   "execution_count": 65,
   "id": "6ee81bcf-fc69-4749-9600-b8900438c2db",
   "metadata": {
    "execution": {
     "iopub.execute_input": "2024-03-20T15:53:52.157199Z",
     "iopub.status.busy": "2024-03-20T15:53:52.156868Z",
     "iopub.status.idle": "2024-03-20T15:53:52.159901Z",
     "shell.execute_reply": "2024-03-20T15:53:52.159409Z"
    },
    "papermill": {
     "duration": 0.027084,
     "end_time": "2024-03-20T15:53:52.160670",
     "exception": false,
     "start_time": "2024-03-20T15:53:52.133586",
     "status": "completed"
    },
    "tags": []
   },
   "outputs": [
    {
     "name": "stdout",
     "output_type": "stream",
     "text": [
      "Anscombe I and III display clear linear patterns, with one outlier in Anscombe III. The Correlation Coefficient based on Machine Learning (CCC) accurately separates data points in these examples, yielding a strong relationship value of 1.0. Anscombe II exhibits a partially quadratic relationship, which is interpreted as linear by traditional correlation methods. However, CCC identifies a more complex relationship with a value of 0.34. In Anscombe IV, a vertical line of data points with one outlier is observed. CCC correctly indicates no association with a value of 0.00 due to the outlier and the variation in values for one variable. This demonstrates that CCC is sensitive to deviations from linear patterns. Pearson's correlation coefficient remains consistent across all examples, while Spearman's coefficient varies. Overall, Pearson and Spearman are effective in detecting linear patterns but are less robust when faced with nonlinear relationships or outliers.\n"
     ]
    }
   ],
   "source": [
    "par1 = process_paragraph(mod_section_paragraphs[4])\n",
    "print(par1)"
   ]
  },
  {
   "cell_type": "code",
   "execution_count": 66,
   "id": "27b35246-8b56-46b7-a876-4ad96e8fac28",
   "metadata": {
    "execution": {
     "iopub.execute_input": "2024-03-20T15:53:52.207248Z",
     "iopub.status.busy": "2024-03-20T15:53:52.206918Z",
     "iopub.status.idle": "2024-03-20T15:53:52.209633Z",
     "shell.execute_reply": "2024-03-20T15:53:52.209137Z"
    },
    "papermill": {
     "duration": 0.026834,
     "end_time": "2024-03-20T15:53:52.210373",
     "exception": false,
     "start_time": "2024-03-20T15:53:52.183539",
     "status": "completed"
    },
    "tags": []
   },
   "outputs": [],
   "source": [
    "paragraph_matches.append(\n",
    "    (\n",
    "        section_name,\n",
    "        par0,\n",
    "        par1,\n",
    "    )\n",
    ")"
   ]
  },
  {
   "cell_type": "code",
   "execution_count": 67,
   "id": "aa6b9604-ce2b-4fd6-acf0-4f530f0f4b34",
   "metadata": {
    "execution": {
     "iopub.execute_input": "2024-03-20T15:53:52.257393Z",
     "iopub.status.busy": "2024-03-20T15:53:52.257080Z",
     "iopub.status.idle": "2024-03-20T15:53:52.260629Z",
     "shell.execute_reply": "2024-03-20T15:53:52.260108Z"
    },
    "papermill": {
     "duration": 0.02789,
     "end_time": "2024-03-20T15:53:52.261387",
     "exception": false,
     "start_time": "2024-03-20T15:53:52.233497",
     "status": "completed"
    },
    "tags": []
   },
   "outputs": [
    {
     "data": {
      "text/plain": [
       "('results',\n",
       " \"Anscombe I contains a noisy but clear linear pattern, similar to Anscombe III where the linearity is perfect besides one outlier. In these two examples, CCC separates data points using two clusters (one red line for each variable $x$ and $y$), yielding 1.0 and thus indicating a strong relationship. Anscombe II seems to follow a partially quadratic relationship interpreted as linear by Pearson and Spearman. In contrast, for this potentially undersampled quadratic pattern, CCC yields a lower yet non-zero value of 0.34, reflecting a more complex relationship than a linear pattern. Anscombe IV shows a vertical line of data points where $x$ values are almost constant except for one outlier. This outlier does not influence CCC as it does for Pearson or Spearman. Thus $c=0.00$ (the minimum value) correctly indicates no association for this variable pair because, besides the outlier, for a single value of $x$ there are ten different values for $y$. This pair of variables does not fit the CCC assumption: the two clusters formed with $x$ (approximately separated by $x=13$) do not match the three clusters formed with $y$. The Pearson's correlation coefficient is the same across all these Anscombe's examples ($p=0.82$), whereas Spearman is 0.50 or greater. These simulated datasets show that both Pearson and Spearman are powerful in detecting linear patterns. However, any deviation in this assumption (like nonlinear relationships or outliers) affects their robustness.\",\n",
       " \"Anscombe I and III display clear linear patterns, with one outlier in Anscombe III. The Correlation Coefficient based on Machine Learning (CCC) accurately separates data points in these examples, yielding a strong relationship value of 1.0. Anscombe II exhibits a partially quadratic relationship, which is interpreted as linear by traditional correlation methods. However, CCC identifies a more complex relationship with a value of 0.34. In Anscombe IV, a vertical line of data points with one outlier is observed. CCC correctly indicates no association with a value of 0.00 due to the outlier and the variation in values for one variable. This demonstrates that CCC is sensitive to deviations from linear patterns. Pearson's correlation coefficient remains consistent across all examples, while Spearman's coefficient varies. Overall, Pearson and Spearman are effective in detecting linear patterns but are less robust when faced with nonlinear relationships or outliers.\")"
      ]
     },
     "metadata": {},
     "output_type": "display_data"
    }
   ],
   "source": [
    "display(paragraph_matches[-1])"
   ]
  },
  {
   "cell_type": "markdown",
   "id": "e21060ab-a1f4-4b0d-a02b-1540cc60e04f",
   "metadata": {
    "editable": true,
    "papermill": {
     "duration": 0.022882,
     "end_time": "2024-03-20T15:53:52.307262",
     "exception": false,
     "start_time": "2024-03-20T15:53:52.284380",
     "status": "completed"
    },
    "slideshow": {
     "slide_type": ""
    },
    "tags": []
   },
   "source": [
    "####  Paragraph 03"
   ]
  },
  {
   "cell_type": "code",
   "execution_count": 68,
   "id": "08f779d6-78b6-437b-b9ae-5b4f9a31fa16",
   "metadata": {
    "execution": {
     "iopub.execute_input": "2024-03-20T15:53:52.354366Z",
     "iopub.status.busy": "2024-03-20T15:53:52.354031Z",
     "iopub.status.idle": "2024-03-20T15:53:52.357131Z",
     "shell.execute_reply": "2024-03-20T15:53:52.356629Z"
    },
    "papermill": {
     "duration": 0.027417,
     "end_time": "2024-03-20T15:53:52.357879",
     "exception": false,
     "start_time": "2024-03-20T15:53:52.330462",
     "status": "completed"
    },
    "tags": []
   },
   "outputs": [
    {
     "name": "stdout",
     "output_type": "stream",
     "text": [
      "We simulated additional types of relationships (Figure @fig:datasets_rel, second row), including some previously described from gene expression data [@doi:10.1126/science.1205438; @doi:10.3389/fgene.2019.01410; @doi:10.1091/mbc.9.12.3273]. For the random/independent pair of variables, all coefficients correctly agree with a value close to zero. The non-coexistence pattern, captured by all coefficients, represents a case where one gene ($x$) might be expressed while the other one ($y$) is inhibited, highlighting a potentially strong biological relationship (such as a microRNA negatively regulating another gene). For the other two examples (quadratic and two-lines), Pearson and Spearman do not capture the nonlinear pattern between variables $x$ and $y$. These patterns also show how CCC uses different degrees of complexity to capture the relationships. For the quadratic pattern, for example, CCC separates $x$ into more clusters (four in this case) to reach the maximum ARI. The two-lines example shows two embedded linear relationships with different slopes, which neither Pearson nor Spearman detect ($p=-0.12$ and $s=0.05$, respectively). Here, CCC increases the complexity of the model by using eight clusters for $x$ and six for $y$, resulting in $c=0.31$.\n"
     ]
    }
   ],
   "source": [
    "par0 = process_paragraph(orig_section_paragraphs[5])  # .replace(\" - \", \"\\n- \")\n",
    "print(par0)"
   ]
  },
  {
   "cell_type": "code",
   "execution_count": 69,
   "id": "5e4bd749-0cdd-44dd-9c6a-1283a6e144a8",
   "metadata": {
    "execution": {
     "iopub.execute_input": "2024-03-20T15:53:52.404970Z",
     "iopub.status.busy": "2024-03-20T15:53:52.404633Z",
     "iopub.status.idle": "2024-03-20T15:53:52.407664Z",
     "shell.execute_reply": "2024-03-20T15:53:52.407172Z"
    },
    "papermill": {
     "duration": 0.027414,
     "end_time": "2024-03-20T15:53:52.408469",
     "exception": false,
     "start_time": "2024-03-20T15:53:52.381055",
     "status": "completed"
    },
    "tags": []
   },
   "outputs": [
    {
     "name": "stdout",
     "output_type": "stream",
     "text": [
      "We examined various types of relationships, as shown in Figure @fig:datasets_rel (second row), including those observed in gene expression data. For a random/independent pair of variables, all coefficients approached zero. The non-coexistence pattern, identified by all coefficients, indicates a scenario where one gene ($x$) may be active while the other ($y$) is suppressed, suggesting a potentially significant biological association (e.g., microRNA regulation). In the case of the quadratic and two-lines examples, Pearson and Spearman coefficients failed to capture the nonlinear relationship between variables $x$ and $y. The CCC method demonstrated its ability to capture different levels of complexity in these relationships. For the quadratic pattern, CCC segmented $x$ into four clusters to optimize the Adjusted Rand Index (ARI). In the two-lines example, where two linear relationships with distinct slopes were present, neither Pearson nor Spearman coefficients detected the pattern ($p=-0.12$ and $s=0.05$, respectively). CCC addressed this by utilizing eight clusters for $x$ and six for $y$, resulting in a coefficient of $c=0.31$.\n"
     ]
    }
   ],
   "source": [
    "par1 = process_paragraph(mod_section_paragraphs[5])\n",
    "print(par1)"
   ]
  },
  {
   "cell_type": "code",
   "execution_count": 70,
   "id": "e4c9c922-73bb-4839-9213-dd7df638fb46",
   "metadata": {
    "execution": {
     "iopub.execute_input": "2024-03-20T15:53:52.455765Z",
     "iopub.status.busy": "2024-03-20T15:53:52.455325Z",
     "iopub.status.idle": "2024-03-20T15:53:52.458105Z",
     "shell.execute_reply": "2024-03-20T15:53:52.457616Z"
    },
    "papermill": {
     "duration": 0.027107,
     "end_time": "2024-03-20T15:53:52.458823",
     "exception": false,
     "start_time": "2024-03-20T15:53:52.431716",
     "status": "completed"
    },
    "tags": []
   },
   "outputs": [],
   "source": [
    "paragraph_matches.append(\n",
    "    (\n",
    "        section_name,\n",
    "        par0,\n",
    "        par1,\n",
    "    )\n",
    ")"
   ]
  },
  {
   "cell_type": "code",
   "execution_count": 71,
   "id": "4b887b5d-10eb-43e0-9a85-4640473a8ede",
   "metadata": {
    "execution": {
     "iopub.execute_input": "2024-03-20T15:53:52.505798Z",
     "iopub.status.busy": "2024-03-20T15:53:52.505466Z",
     "iopub.status.idle": "2024-03-20T15:53:52.509049Z",
     "shell.execute_reply": "2024-03-20T15:53:52.508559Z"
    },
    "papermill": {
     "duration": 0.027861,
     "end_time": "2024-03-20T15:53:52.509855",
     "exception": false,
     "start_time": "2024-03-20T15:53:52.481994",
     "status": "completed"
    },
    "tags": []
   },
   "outputs": [
    {
     "data": {
      "text/plain": [
       "('results',\n",
       " 'We simulated additional types of relationships (Figure @fig:datasets_rel, second row), including some previously described from gene expression data [@doi:10.1126/science.1205438; @doi:10.3389/fgene.2019.01410; @doi:10.1091/mbc.9.12.3273]. For the random/independent pair of variables, all coefficients correctly agree with a value close to zero. The non-coexistence pattern, captured by all coefficients, represents a case where one gene ($x$) might be expressed while the other one ($y$) is inhibited, highlighting a potentially strong biological relationship (such as a microRNA negatively regulating another gene). For the other two examples (quadratic and two-lines), Pearson and Spearman do not capture the nonlinear pattern between variables $x$ and $y$. These patterns also show how CCC uses different degrees of complexity to capture the relationships. For the quadratic pattern, for example, CCC separates $x$ into more clusters (four in this case) to reach the maximum ARI. The two-lines example shows two embedded linear relationships with different slopes, which neither Pearson nor Spearman detect ($p=-0.12$ and $s=0.05$, respectively). Here, CCC increases the complexity of the model by using eight clusters for $x$ and six for $y$, resulting in $c=0.31$.',\n",
       " 'We examined various types of relationships, as shown in Figure @fig:datasets_rel (second row), including those observed in gene expression data. For a random/independent pair of variables, all coefficients approached zero. The non-coexistence pattern, identified by all coefficients, indicates a scenario where one gene ($x$) may be active while the other ($y$) is suppressed, suggesting a potentially significant biological association (e.g., microRNA regulation). In the case of the quadratic and two-lines examples, Pearson and Spearman coefficients failed to capture the nonlinear relationship between variables $x$ and $y. The CCC method demonstrated its ability to capture different levels of complexity in these relationships. For the quadratic pattern, CCC segmented $x$ into four clusters to optimize the Adjusted Rand Index (ARI). In the two-lines example, where two linear relationships with distinct slopes were present, neither Pearson nor Spearman coefficients detected the pattern ($p=-0.12$ and $s=0.05$, respectively). CCC addressed this by utilizing eight clusters for $x$ and six for $y$, resulting in a coefficient of $c=0.31$.')"
      ]
     },
     "metadata": {},
     "output_type": "display_data"
    }
   ],
   "source": [
    "display(paragraph_matches[-1])"
   ]
  },
  {
   "cell_type": "markdown",
   "id": "898aaebd-7378-49a9-9961-d8cc9a0d7781",
   "metadata": {
    "editable": true,
    "papermill": {
     "duration": 0.023025,
     "end_time": "2024-03-20T15:53:52.556034",
     "exception": false,
     "start_time": "2024-03-20T15:53:52.533009",
     "status": "completed"
    },
    "slideshow": {
     "slide_type": ""
    },
    "tags": []
   },
   "source": [
    "## Results (comp)"
   ]
  },
  {
   "cell_type": "code",
   "execution_count": 72,
   "id": "373ac190-eb9f-4158-842a-c153b0513084",
   "metadata": {
    "execution": {
     "iopub.execute_input": "2024-03-20T15:53:52.603185Z",
     "iopub.status.busy": "2024-03-20T15:53:52.602855Z",
     "iopub.status.idle": "2024-03-20T15:53:52.605292Z",
     "shell.execute_reply": "2024-03-20T15:53:52.604804Z"
    },
    "papermill": {
     "duration": 0.026824,
     "end_time": "2024-03-20T15:53:52.606023",
     "exception": false,
     "start_time": "2024-03-20T15:53:52.579199",
     "status": "completed"
    },
    "tags": []
   },
   "outputs": [],
   "source": [
    "# section_name = \"results\""
   ]
  },
  {
   "cell_type": "code",
   "execution_count": 73,
   "id": "765394e3-52a7-41d8-85aa-e06e20d9d89b",
   "metadata": {
    "editable": true,
    "execution": {
     "iopub.execute_input": "2024-03-20T15:53:52.653331Z",
     "iopub.status.busy": "2024-03-20T15:53:52.653009Z",
     "iopub.status.idle": "2024-03-20T15:53:52.656216Z",
     "shell.execute_reply": "2024-03-20T15:53:52.655708Z"
    },
    "papermill": {
     "duration": 0.027857,
     "end_time": "2024-03-20T15:53:52.657065",
     "exception": false,
     "start_time": "2024-03-20T15:53:52.629208",
     "status": "completed"
    },
    "slideshow": {
     "slide_type": ""
    },
    "tags": []
   },
   "outputs": [
    {
     "name": "stdout",
     "output_type": "stream",
     "text": [
      "content/04.10.results_comp.md\n"
     ]
    }
   ],
   "source": [
    "pr_filename = pr_files[3].filename\n",
    "assert section_name in pr_filename\n",
    "assert \"comp\" in pr_filename\n",
    "print(pr_filename)"
   ]
  },
  {
   "cell_type": "markdown",
   "id": "d49a37e3-bf74-4116-9399-52d5a7c89852",
   "metadata": {
    "editable": true,
    "papermill": {
     "duration": 0.023216,
     "end_time": "2024-03-20T15:53:52.703703",
     "exception": false,
     "start_time": "2024-03-20T15:53:52.680487",
     "status": "completed"
    },
    "slideshow": {
     "slide_type": ""
    },
    "tags": []
   },
   "source": [
    "### Original"
   ]
  },
  {
   "cell_type": "code",
   "execution_count": 74,
   "id": "6f1524cb-a512-4c58-a656-929821e2cb8a",
   "metadata": {
    "execution": {
     "iopub.execute_input": "2024-03-20T15:53:52.775279Z",
     "iopub.status.busy": "2024-03-20T15:53:52.774935Z",
     "iopub.status.idle": "2024-03-20T15:53:52.918842Z",
     "shell.execute_reply": "2024-03-20T15:53:52.918210Z"
    },
    "papermill": {
     "duration": 0.169005,
     "end_time": "2024-03-20T15:53:52.919914",
     "exception": false,
     "start_time": "2024-03-20T15:53:52.750909",
     "status": "completed"
    },
    "tags": []
   },
   "outputs": [
    {
     "name": "stdout",
     "output_type": "stream",
     "text": [
      "### The CCC reveals linear and nonlinear patterns \n"
     ]
    }
   ],
   "source": [
    "# get content\n",
    "orig_section_content = repo.get_contents(pr_filename, pr_prev).decoded_content.decode(\n",
    "    \"utf-8\"\n",
    ")\n",
    "print(orig_section_content[:50])"
   ]
  },
  {
   "cell_type": "code",
   "execution_count": 75,
   "id": "13b654d9-b7e9-49ea-b311-9d0309cdab48",
   "metadata": {
    "execution": {
     "iopub.execute_input": "2024-03-20T15:53:52.991122Z",
     "iopub.status.busy": "2024-03-20T15:53:52.990904Z",
     "iopub.status.idle": "2024-03-20T15:53:52.994723Z",
     "shell.execute_reply": "2024-03-20T15:53:52.994253Z"
    },
    "papermill": {
     "duration": 0.040506,
     "end_time": "2024-03-20T15:53:52.995750",
     "exception": false,
     "start_time": "2024-03-20T15:53:52.955244",
     "status": "completed"
    },
    "tags": []
   },
   "outputs": [
    {
     "data": {
      "text/plain": [
       "9"
      ]
     },
     "metadata": {},
     "output_type": "display_data"
    }
   ],
   "source": [
    "# split by paragraph\n",
    "orig_section_paragraphs = orig_section_content.split(\"\\n\\n\")\n",
    "display(len(orig_section_paragraphs))"
   ]
  },
  {
   "cell_type": "markdown",
   "id": "a957a473-75f3-4e11-b973-74a8df13c69e",
   "metadata": {
    "editable": true,
    "papermill": {
     "duration": 0.023226,
     "end_time": "2024-03-20T15:53:53.046696",
     "exception": false,
     "start_time": "2024-03-20T15:53:53.023470",
     "status": "completed"
    },
    "slideshow": {
     "slide_type": ""
    },
    "tags": []
   },
   "source": [
    "### Modified"
   ]
  },
  {
   "cell_type": "code",
   "execution_count": 76,
   "id": "6694c2cd-be3e-4b48-a979-03e718b2ec39",
   "metadata": {
    "execution": {
     "iopub.execute_input": "2024-03-20T15:53:53.094224Z",
     "iopub.status.busy": "2024-03-20T15:53:53.093889Z",
     "iopub.status.idle": "2024-03-20T15:53:53.310494Z",
     "shell.execute_reply": "2024-03-20T15:53:53.309870Z"
    },
    "papermill": {
     "duration": 0.241418,
     "end_time": "2024-03-20T15:53:53.311546",
     "exception": false,
     "start_time": "2024-03-20T15:53:53.070128",
     "status": "completed"
    },
    "tags": []
   },
   "outputs": [
    {
     "name": "stdout",
     "output_type": "stream",
     "text": [
      "### The CCC reveals linear and nonlinear patterns \n"
     ]
    }
   ],
   "source": [
    "# get content\n",
    "mod_section_content = repo.get_contents(pr_filename, pr_curr).decoded_content.decode(\n",
    "    \"utf-8\"\n",
    ")\n",
    "print(mod_section_content[:50])"
   ]
  },
  {
   "cell_type": "code",
   "execution_count": 77,
   "id": "5a1d6517-edb5-4849-a24c-d11bc0b29d9b",
   "metadata": {
    "execution": {
     "iopub.execute_input": "2024-03-20T15:53:53.382108Z",
     "iopub.status.busy": "2024-03-20T15:53:53.381613Z",
     "iopub.status.idle": "2024-03-20T15:53:53.385526Z",
     "shell.execute_reply": "2024-03-20T15:53:53.385032Z"
    },
    "papermill": {
     "duration": 0.040012,
     "end_time": "2024-03-20T15:53:53.386525",
     "exception": false,
     "start_time": "2024-03-20T15:53:53.346513",
     "status": "completed"
    },
    "tags": []
   },
   "outputs": [
    {
     "data": {
      "text/plain": [
       "9"
      ]
     },
     "metadata": {},
     "output_type": "display_data"
    }
   ],
   "source": [
    "# split by paragraph\n",
    "mod_section_paragraphs = mod_section_content.split(\"\\n\\n\")\n",
    "display(len(mod_section_paragraphs))"
   ]
  },
  {
   "cell_type": "markdown",
   "id": "575e9eb7-2c6f-4fc6-9eb2-9bca7c856fd6",
   "metadata": {
    "editable": true,
    "papermill": {
     "duration": 0.022744,
     "end_time": "2024-03-20T15:53:53.439041",
     "exception": false,
     "start_time": "2024-03-20T15:53:53.416297",
     "status": "completed"
    },
    "slideshow": {
     "slide_type": ""
    },
    "tags": []
   },
   "source": [
    "### Match"
   ]
  },
  {
   "cell_type": "code",
   "execution_count": 78,
   "id": "78240b77-5fd4-4bd9-ae94-f4d6e14de77b",
   "metadata": {
    "execution": {
     "iopub.execute_input": "2024-03-20T15:53:53.486408Z",
     "iopub.status.busy": "2024-03-20T15:53:53.486062Z",
     "iopub.status.idle": "2024-03-20T15:53:53.489577Z",
     "shell.execute_reply": "2024-03-20T15:53:53.489106Z"
    },
    "papermill": {
     "duration": 0.027892,
     "end_time": "2024-03-20T15:53:53.490333",
     "exception": false,
     "start_time": "2024-03-20T15:53:53.462441",
     "status": "completed"
    },
    "tags": []
   },
   "outputs": [
    {
     "data": {
      "text/plain": [
       "'### The CCC reveals linear and nonlinear patterns in human transcriptomic data'"
      ]
     },
     "execution_count": 78,
     "metadata": {},
     "output_type": "execute_result"
    }
   ],
   "source": [
    "orig_section_paragraphs[0]"
   ]
  },
  {
   "cell_type": "code",
   "execution_count": 79,
   "id": "af772028-3079-496e-bb76-abd5d2df4dac",
   "metadata": {
    "execution": {
     "iopub.execute_input": "2024-03-20T15:53:53.537994Z",
     "iopub.status.busy": "2024-03-20T15:53:53.537674Z",
     "iopub.status.idle": "2024-03-20T15:53:53.541099Z",
     "shell.execute_reply": "2024-03-20T15:53:53.540615Z"
    },
    "papermill": {
     "duration": 0.028023,
     "end_time": "2024-03-20T15:53:53.541792",
     "exception": false,
     "start_time": "2024-03-20T15:53:53.513769",
     "status": "completed"
    },
    "tags": []
   },
   "outputs": [
    {
     "data": {
      "text/plain": [
       "'### The CCC reveals linear and nonlinear patterns in human transcriptomic data'"
      ]
     },
     "execution_count": 79,
     "metadata": {},
     "output_type": "execute_result"
    }
   ],
   "source": [
    "mod_section_paragraphs[0]"
   ]
  },
  {
   "cell_type": "markdown",
   "id": "54327d94-0a86-4564-a584-7791a11a2178",
   "metadata": {
    "editable": true,
    "papermill": {
     "duration": 0.023358,
     "end_time": "2024-03-20T15:53:53.588724",
     "exception": false,
     "start_time": "2024-03-20T15:53:53.565366",
     "status": "completed"
    },
    "slideshow": {
     "slide_type": ""
    },
    "tags": []
   },
   "source": [
    "####  Paragraph 00"
   ]
  },
  {
   "cell_type": "code",
   "execution_count": 80,
   "id": "61004c9b-5f28-4d97-86b9-9ac9d42e9213",
   "metadata": {
    "execution": {
     "iopub.execute_input": "2024-03-20T15:53:53.636448Z",
     "iopub.status.busy": "2024-03-20T15:53:53.636058Z",
     "iopub.status.idle": "2024-03-20T15:53:53.639234Z",
     "shell.execute_reply": "2024-03-20T15:53:53.638728Z"
    },
    "papermill": {
     "duration": 0.027923,
     "end_time": "2024-03-20T15:53:53.640010",
     "exception": false,
     "start_time": "2024-03-20T15:53:53.612087",
     "status": "completed"
    },
    "tags": []
   },
   "outputs": [
    {
     "name": "stdout",
     "output_type": "stream",
     "text": [
      "We examined the distribution of each coefficient's absolute values in GTEx (Figure @fig:dist_coefs). CCC (mean=0.14, median=0.08, sd=0.15) has a much more skewed distribution than Pearson (mean=0.31, median=0.24, sd=0.24) and Spearman (mean=0.39, median=0.37, sd=0.26). The coefficients reach a cumulative set containing 70% of gene pairs at different values (Figure @fig:dist_coefs b), $c=0.18$, $p=0.44$ and $s=0.56$, suggesting that for this type of data, the coefficients are not directly comparable by magnitude, so we used ranks for further comparisons. In GTEx v8, CCC values were closer to Spearman and vice versa than either was to Pearson (Figure @fig:dist_coefs c). We also compared the Maximal Information Coefficient (MIC) in this data (see [Supplementary Note 1](#sec:mic)). We found that CCC behaved very similarly to MIC, although CCC was up to two orders of magnitude faster to run (see [Supplementary Note 2](#sec:time_test)). MIC, an advanced correlation coefficient able to capture general patterns beyond linear relationships, represented a significant step forward in correlation analysis research and has been successfully used in various application domains [@pmid:33972855; @pmid:33001806; @pmid:27006077]. These results suggest that our findings for CCC generalize to MIC, therefore, in the subsequent analyses we focus on CCC and linear-only coefficients.\n"
     ]
    }
   ],
   "source": [
    "par0 = process_paragraph(orig_section_paragraphs[2])\n",
    "print(par0)"
   ]
  },
  {
   "cell_type": "code",
   "execution_count": 81,
   "id": "b4a4cd91-c391-42ec-b0ec-7e30a78f03df",
   "metadata": {
    "execution": {
     "iopub.execute_input": "2024-03-20T15:53:53.688141Z",
     "iopub.status.busy": "2024-03-20T15:53:53.687831Z",
     "iopub.status.idle": "2024-03-20T15:53:53.690910Z",
     "shell.execute_reply": "2024-03-20T15:53:53.690406Z"
    },
    "papermill": {
     "duration": 0.028034,
     "end_time": "2024-03-20T15:53:53.691714",
     "exception": false,
     "start_time": "2024-03-20T15:53:53.663680",
     "status": "completed"
    },
    "tags": []
   },
   "outputs": [
    {
     "name": "stdout",
     "output_type": "stream",
     "text": [
      "We analyzed the distribution of absolute values of each coefficient in GTEx, as shown in Figure 1. The CCC (mean=0.14, median=0.08, sd=0.15) exhibited a more skewed distribution compared to Pearson (mean=0.31, median=0.24, sd=0.24) and Spearman (mean=0.39, median=0.37, sd=0.26). The cumulative set containing 70% of gene pairs had different values for CCC, Pearson, and Spearman (Figure 1b), with values of $c=0.18$, $p=0.44$, and $s=0.56, indicating that direct magnitude comparisons are not suitable for this data type. Therefore, ranks were used for further analysis. In GTEx v8, CCC values were closer to Spearman than to Pearson (Figure 1c). Additionally, the Maximal Information Coefficient (MIC) was compared in this data (see Supplementary Note 1). CCC showed similar behavior to MIC, but with significantly faster processing times (see Supplementary Note 2). MIC, a correlation coefficient capable of capturing general patterns beyond linear relationships, has been successfully applied in various domains. These findings suggest that the results obtained for CCC can be generalized to MIC. Subsequent analyses will focus on CCC and linear-only coefficients.\n"
     ]
    }
   ],
   "source": [
    "par1 = process_paragraph(mod_section_paragraphs[2])\n",
    "print(par1)"
   ]
  },
  {
   "cell_type": "code",
   "execution_count": 82,
   "id": "b2370a90-85eb-4070-8bfd-60d5cb818b4b",
   "metadata": {
    "execution": {
     "iopub.execute_input": "2024-03-20T15:53:53.740260Z",
     "iopub.status.busy": "2024-03-20T15:53:53.739941Z",
     "iopub.status.idle": "2024-03-20T15:53:53.742698Z",
     "shell.execute_reply": "2024-03-20T15:53:53.742198Z"
    },
    "papermill": {
     "duration": 0.027789,
     "end_time": "2024-03-20T15:53:53.743445",
     "exception": false,
     "start_time": "2024-03-20T15:53:53.715656",
     "status": "completed"
    },
    "tags": []
   },
   "outputs": [],
   "source": [
    "paragraph_matches.append(\n",
    "    (\n",
    "        section_name,\n",
    "        par0,\n",
    "        par1,\n",
    "    )\n",
    ")"
   ]
  },
  {
   "cell_type": "code",
   "execution_count": 83,
   "id": "91d9a9c4-6833-4fbf-829d-22f8866240e9",
   "metadata": {
    "execution": {
     "iopub.execute_input": "2024-03-20T15:53:53.791838Z",
     "iopub.status.busy": "2024-03-20T15:53:53.791534Z",
     "iopub.status.idle": "2024-03-20T15:53:53.795041Z",
     "shell.execute_reply": "2024-03-20T15:53:53.794575Z"
    },
    "papermill": {
     "duration": 0.028406,
     "end_time": "2024-03-20T15:53:53.795814",
     "exception": false,
     "start_time": "2024-03-20T15:53:53.767408",
     "status": "completed"
    },
    "tags": []
   },
   "outputs": [
    {
     "data": {
      "text/plain": [
       "('results',\n",
       " \"We examined the distribution of each coefficient's absolute values in GTEx (Figure @fig:dist_coefs). CCC (mean=0.14, median=0.08, sd=0.15) has a much more skewed distribution than Pearson (mean=0.31, median=0.24, sd=0.24) and Spearman (mean=0.39, median=0.37, sd=0.26). The coefficients reach a cumulative set containing 70% of gene pairs at different values (Figure @fig:dist_coefs b), $c=0.18$, $p=0.44$ and $s=0.56$, suggesting that for this type of data, the coefficients are not directly comparable by magnitude, so we used ranks for further comparisons. In GTEx v8, CCC values were closer to Spearman and vice versa than either was to Pearson (Figure @fig:dist_coefs c). We also compared the Maximal Information Coefficient (MIC) in this data (see [Supplementary Note 1](#sec:mic)). We found that CCC behaved very similarly to MIC, although CCC was up to two orders of magnitude faster to run (see [Supplementary Note 2](#sec:time_test)). MIC, an advanced correlation coefficient able to capture general patterns beyond linear relationships, represented a significant step forward in correlation analysis research and has been successfully used in various application domains [@pmid:33972855; @pmid:33001806; @pmid:27006077]. These results suggest that our findings for CCC generalize to MIC, therefore, in the subsequent analyses we focus on CCC and linear-only coefficients.\",\n",
       " 'We analyzed the distribution of absolute values of each coefficient in GTEx, as shown in Figure 1. The CCC (mean=0.14, median=0.08, sd=0.15) exhibited a more skewed distribution compared to Pearson (mean=0.31, median=0.24, sd=0.24) and Spearman (mean=0.39, median=0.37, sd=0.26). The cumulative set containing 70% of gene pairs had different values for CCC, Pearson, and Spearman (Figure 1b), with values of $c=0.18$, $p=0.44$, and $s=0.56, indicating that direct magnitude comparisons are not suitable for this data type. Therefore, ranks were used for further analysis. In GTEx v8, CCC values were closer to Spearman than to Pearson (Figure 1c). Additionally, the Maximal Information Coefficient (MIC) was compared in this data (see Supplementary Note 1). CCC showed similar behavior to MIC, but with significantly faster processing times (see Supplementary Note 2). MIC, a correlation coefficient capable of capturing general patterns beyond linear relationships, has been successfully applied in various domains. These findings suggest that the results obtained for CCC can be generalized to MIC. Subsequent analyses will focus on CCC and linear-only coefficients.')"
      ]
     },
     "metadata": {},
     "output_type": "display_data"
    }
   ],
   "source": [
    "display(paragraph_matches[-1])"
   ]
  },
  {
   "cell_type": "markdown",
   "id": "8c82da83-cd73-433c-b25c-1a5a1014a9ec",
   "metadata": {
    "editable": true,
    "papermill": {
     "duration": 0.023404,
     "end_time": "2024-03-20T15:53:53.843160",
     "exception": false,
     "start_time": "2024-03-20T15:53:53.819756",
     "status": "completed"
    },
    "slideshow": {
     "slide_type": ""
    },
    "tags": []
   },
   "source": [
    "####  Paragraph 01"
   ]
  },
  {
   "cell_type": "code",
   "execution_count": 84,
   "id": "b3fdd165-3468-44fb-b4c7-63faf5dbf3c2",
   "metadata": {
    "execution": {
     "iopub.execute_input": "2024-03-20T15:53:53.891489Z",
     "iopub.status.busy": "2024-03-20T15:53:53.891162Z",
     "iopub.status.idle": "2024-03-20T15:53:53.894195Z",
     "shell.execute_reply": "2024-03-20T15:53:53.893687Z"
    },
    "papermill": {
     "duration": 0.028059,
     "end_time": "2024-03-20T15:53:53.894912",
     "exception": false,
     "start_time": "2024-03-20T15:53:53.866853",
     "status": "completed"
    },
    "tags": []
   },
   "outputs": [
    {
     "name": "stdout",
     "output_type": "stream",
     "text": [
      "A closer inspection of gene pairs that were either prioritized or disregarded by these coefficients revealed that they captured different patterns. We analyzed the agreements and disagreements by obtaining, for each coefficient, the top 30% of gene pairs with the largest correlation values (\"high\" set) and the bottom 30% (\"low\" set), resulting in six potentially overlapping categories. For most cases (76.4%), an UpSet analysis [@doi:10.1109/TVCG.2014.2346248] (Figure @fig:upsetplot_coefs a) showed that the three coefficients agreed on whether there is a strong correlation (42.1%) or there is no relationship (34.3%). Since Pearson and Spearman are linear-only, and CCC can also capture these patterns, we expect that these concordant gene pairs represent clear linear patterns. CCC and Spearman agree more on either highly or poorly correlated pairs (4.0% in \"high\", and 7.0% in \"low\") than any of these with Pearson (all between 0.3%-3.5% for \"high\", and 2.8%-5.5% for \"low\"). In summary, CCC agrees with either Pearson or Spearman in 90.5% of gene pairs by assigning a high or a low correlation value.\n"
     ]
    }
   ],
   "source": [
    "par0 = process_paragraph(orig_section_paragraphs[4])\n",
    "print(par0)"
   ]
  },
  {
   "cell_type": "code",
   "execution_count": 85,
   "id": "f224073d-a0e9-4811-9736-b56661aaf92d",
   "metadata": {
    "execution": {
     "iopub.execute_input": "2024-03-20T15:53:53.943697Z",
     "iopub.status.busy": "2024-03-20T15:53:53.943289Z",
     "iopub.status.idle": "2024-03-20T15:53:53.946386Z",
     "shell.execute_reply": "2024-03-20T15:53:53.945883Z"
    },
    "papermill": {
     "duration": 0.028252,
     "end_time": "2024-03-20T15:53:53.947104",
     "exception": false,
     "start_time": "2024-03-20T15:53:53.918852",
     "status": "completed"
    },
    "tags": []
   },
   "outputs": [
    {
     "name": "stdout",
     "output_type": "stream",
     "text": [
      "An examination of gene pairs prioritized or disregarded by the correlation coefficients showed that they captured different patterns. We compared the top 30% and bottom 30% of gene pairs based on correlation values for each coefficient, resulting in six overlapping categories. Most cases (76.4%) agreed on strong correlation (42.1%) or no relationship (34.3%), as shown in an UpSet analysis (Figure 1a). Since Pearson and Spearman are linear-only, and CCC can also capture these patterns, concordant gene pairs likely represent clear linear patterns. CCC and Spearman agree more on highly or poorly correlated pairs (4.0% in \"high\", and 7.0% in \"low\") than with Pearson (0.3%-3.5% for \"high\", and 2.8%-5.5% for \"low\"). In summary, CCC agrees with either Pearson or Spearman in 90.5% of gene pairs by assigning high or low correlation values.\n"
     ]
    }
   ],
   "source": [
    "par1 = process_paragraph(mod_section_paragraphs[4])\n",
    "print(par1)"
   ]
  },
  {
   "cell_type": "code",
   "execution_count": 86,
   "id": "3281e4f2-3ed6-4b8a-9ae0-270f541c19b4",
   "metadata": {
    "execution": {
     "iopub.execute_input": "2024-03-20T15:53:53.995721Z",
     "iopub.status.busy": "2024-03-20T15:53:53.995408Z",
     "iopub.status.idle": "2024-03-20T15:53:53.998080Z",
     "shell.execute_reply": "2024-03-20T15:53:53.997605Z"
    },
    "papermill": {
     "duration": 0.027755,
     "end_time": "2024-03-20T15:53:53.998852",
     "exception": false,
     "start_time": "2024-03-20T15:53:53.971097",
     "status": "completed"
    },
    "tags": []
   },
   "outputs": [],
   "source": [
    "paragraph_matches.append(\n",
    "    (\n",
    "        section_name,\n",
    "        par0,\n",
    "        par1,\n",
    "    )\n",
    ")"
   ]
  },
  {
   "cell_type": "code",
   "execution_count": 87,
   "id": "988ddfba-2927-4f61-a05a-f7f8a4873e63",
   "metadata": {
    "execution": {
     "iopub.execute_input": "2024-03-20T15:53:54.047342Z",
     "iopub.status.busy": "2024-03-20T15:53:54.047156Z",
     "iopub.status.idle": "2024-03-20T15:53:54.050526Z",
     "shell.execute_reply": "2024-03-20T15:53:54.050110Z"
    },
    "papermill": {
     "duration": 0.028326,
     "end_time": "2024-03-20T15:53:54.051219",
     "exception": false,
     "start_time": "2024-03-20T15:53:54.022893",
     "status": "completed"
    },
    "tags": []
   },
   "outputs": [
    {
     "data": {
      "text/plain": [
       "('results',\n",
       " 'A closer inspection of gene pairs that were either prioritized or disregarded by these coefficients revealed that they captured different patterns. We analyzed the agreements and disagreements by obtaining, for each coefficient, the top 30% of gene pairs with the largest correlation values (\"high\" set) and the bottom 30% (\"low\" set), resulting in six potentially overlapping categories. For most cases (76.4%), an UpSet analysis [@doi:10.1109/TVCG.2014.2346248] (Figure @fig:upsetplot_coefs a) showed that the three coefficients agreed on whether there is a strong correlation (42.1%) or there is no relationship (34.3%). Since Pearson and Spearman are linear-only, and CCC can also capture these patterns, we expect that these concordant gene pairs represent clear linear patterns. CCC and Spearman agree more on either highly or poorly correlated pairs (4.0% in \"high\", and 7.0% in \"low\") than any of these with Pearson (all between 0.3%-3.5% for \"high\", and 2.8%-5.5% for \"low\"). In summary, CCC agrees with either Pearson or Spearman in 90.5% of gene pairs by assigning a high or a low correlation value.',\n",
       " 'An examination of gene pairs prioritized or disregarded by the correlation coefficients showed that they captured different patterns. We compared the top 30% and bottom 30% of gene pairs based on correlation values for each coefficient, resulting in six overlapping categories. Most cases (76.4%) agreed on strong correlation (42.1%) or no relationship (34.3%), as shown in an UpSet analysis (Figure 1a). Since Pearson and Spearman are linear-only, and CCC can also capture these patterns, concordant gene pairs likely represent clear linear patterns. CCC and Spearman agree more on highly or poorly correlated pairs (4.0% in \"high\", and 7.0% in \"low\") than with Pearson (0.3%-3.5% for \"high\", and 2.8%-5.5% for \"low\"). In summary, CCC agrees with either Pearson or Spearman in 90.5% of gene pairs by assigning high or low correlation values.')"
      ]
     },
     "metadata": {},
     "output_type": "display_data"
    }
   ],
   "source": [
    "display(paragraph_matches[-1])"
   ]
  },
  {
   "cell_type": "markdown",
   "id": "c005d8a8-07f2-4da6-85a3-f353f6611e0f",
   "metadata": {
    "editable": true,
    "papermill": {
     "duration": 0.023523,
     "end_time": "2024-03-20T15:53:54.098907",
     "exception": false,
     "start_time": "2024-03-20T15:53:54.075384",
     "status": "completed"
    },
    "slideshow": {
     "slide_type": ""
    },
    "tags": []
   },
   "source": [
    "####  Paragraph 02"
   ]
  },
  {
   "cell_type": "code",
   "execution_count": 88,
   "id": "f5d058fd-5c23-4f76-87b4-9481db54c42f",
   "metadata": {
    "execution": {
     "iopub.execute_input": "2024-03-20T15:53:54.147164Z",
     "iopub.status.busy": "2024-03-20T15:53:54.146982Z",
     "iopub.status.idle": "2024-03-20T15:53:54.149827Z",
     "shell.execute_reply": "2024-03-20T15:53:54.149397Z"
    },
    "papermill": {
     "duration": 0.028013,
     "end_time": "2024-03-20T15:53:54.150572",
     "exception": false,
     "start_time": "2024-03-20T15:53:54.122559",
     "status": "completed"
    },
    "tags": []
   },
   "outputs": [
    {
     "name": "stdout",
     "output_type": "stream",
     "text": [
      "While there was broad agreement, more than 20,000 gene pairs with a high CCC value were not highly ranked by the other coefficients (right part of Figure @fig:upsetplot_coefs a). There were also gene pairs with a high Pearson value and either low CCC (1,075), low Spearman (87) or both low CCC and low Spearman values (531). However, our examination suggests that many of these cases appear to be driven by potential outliers (Figure @fig:upsetplot_coefs b, and analyzed later). We analyzed gene pairs among the top five of each intersection in the \"Disagreements\" group (Figure @fig:upsetplot_coefs a, right) where CCC disagrees with Pearson, Spearman or both.\n"
     ]
    }
   ],
   "source": [
    "par0 = process_paragraph(orig_section_paragraphs[6])\n",
    "print(par0)"
   ]
  },
  {
   "cell_type": "code",
   "execution_count": 89,
   "id": "238dbd6c-e3ba-4b76-9fb2-8b35d0b11948",
   "metadata": {
    "execution": {
     "iopub.execute_input": "2024-03-20T15:53:54.199451Z",
     "iopub.status.busy": "2024-03-20T15:53:54.199270Z",
     "iopub.status.idle": "2024-03-20T15:53:54.202046Z",
     "shell.execute_reply": "2024-03-20T15:53:54.201611Z"
    },
    "papermill": {
     "duration": 0.028059,
     "end_time": "2024-03-20T15:53:54.202735",
     "exception": false,
     "start_time": "2024-03-20T15:53:54.174676",
     "status": "completed"
    },
    "tags": []
   },
   "outputs": [
    {
     "name": "stdout",
     "output_type": "stream",
     "text": [
      "While the majority of gene pairs showed agreement, over 20,000 gene pairs with high CCC values were not ranked highly by other coefficients (Figure 1a). Some gene pairs had high Pearson values but low CCC (1,075), low Spearman (87), or low values for both CCC and Spearman (531). Our analysis indicates that many of these discrepancies may be due to potential outliers (Figure 1b). We focused on gene pairs in the top five of each intersection within the \"Disagreements\" group (Figure 1a, right) where CCC disagreed with Pearson, Spearman, or both.\n"
     ]
    }
   ],
   "source": [
    "par1 = process_paragraph(mod_section_paragraphs[6])\n",
    "print(par1)"
   ]
  },
  {
   "cell_type": "code",
   "execution_count": 90,
   "id": "bf64c910-efb0-4d2a-a25a-a4deaac8a4a8",
   "metadata": {
    "execution": {
     "iopub.execute_input": "2024-03-20T15:53:54.252191Z",
     "iopub.status.busy": "2024-03-20T15:53:54.251889Z",
     "iopub.status.idle": "2024-03-20T15:53:54.254441Z",
     "shell.execute_reply": "2024-03-20T15:53:54.254015Z"
    },
    "papermill": {
     "duration": 0.027911,
     "end_time": "2024-03-20T15:53:54.255123",
     "exception": false,
     "start_time": "2024-03-20T15:53:54.227212",
     "status": "completed"
    },
    "tags": []
   },
   "outputs": [],
   "source": [
    "paragraph_matches.append(\n",
    "    (\n",
    "        section_name,\n",
    "        par0,\n",
    "        par1,\n",
    "    )\n",
    ")"
   ]
  },
  {
   "cell_type": "code",
   "execution_count": 91,
   "id": "421e86ee-32b1-416d-b9f2-49377017fdb0",
   "metadata": {
    "execution": {
     "iopub.execute_input": "2024-03-20T15:53:54.327652Z",
     "iopub.status.busy": "2024-03-20T15:53:54.327310Z",
     "iopub.status.idle": "2024-03-20T15:53:54.330635Z",
     "shell.execute_reply": "2024-03-20T15:53:54.330229Z"
    },
    "papermill": {
     "duration": 0.052,
     "end_time": "2024-03-20T15:53:54.331394",
     "exception": false,
     "start_time": "2024-03-20T15:53:54.279394",
     "status": "completed"
    },
    "tags": []
   },
   "outputs": [
    {
     "data": {
      "text/plain": [
       "('results',\n",
       " 'While there was broad agreement, more than 20,000 gene pairs with a high CCC value were not highly ranked by the other coefficients (right part of Figure @fig:upsetplot_coefs a). There were also gene pairs with a high Pearson value and either low CCC (1,075), low Spearman (87) or both low CCC and low Spearman values (531). However, our examination suggests that many of these cases appear to be driven by potential outliers (Figure @fig:upsetplot_coefs b, and analyzed later). We analyzed gene pairs among the top five of each intersection in the \"Disagreements\" group (Figure @fig:upsetplot_coefs a, right) where CCC disagrees with Pearson, Spearman or both.',\n",
       " 'While the majority of gene pairs showed agreement, over 20,000 gene pairs with high CCC values were not ranked highly by other coefficients (Figure 1a). Some gene pairs had high Pearson values but low CCC (1,075), low Spearman (87), or low values for both CCC and Spearman (531). Our analysis indicates that many of these discrepancies may be due to potential outliers (Figure 1b). We focused on gene pairs in the top five of each intersection within the \"Disagreements\" group (Figure 1a, right) where CCC disagreed with Pearson, Spearman, or both.')"
      ]
     },
     "metadata": {},
     "output_type": "display_data"
    }
   ],
   "source": [
    "display(paragraph_matches[-1])"
   ]
  },
  {
   "cell_type": "markdown",
   "id": "533c2d07-f9b8-471f-b30b-f861c20dcc90",
   "metadata": {
    "editable": true,
    "papermill": {
     "duration": 0.023868,
     "end_time": "2024-03-20T15:53:54.379572",
     "exception": false,
     "start_time": "2024-03-20T15:53:54.355704",
     "status": "completed"
    },
    "slideshow": {
     "slide_type": ""
    },
    "tags": []
   },
   "source": [
    "####  Paragraph 03"
   ]
  },
  {
   "cell_type": "code",
   "execution_count": 92,
   "id": "a38a2c0c-8451-4e3a-80ca-6794e6f5783e",
   "metadata": {
    "execution": {
     "iopub.execute_input": "2024-03-20T15:53:54.428550Z",
     "iopub.status.busy": "2024-03-20T15:53:54.428106Z",
     "iopub.status.idle": "2024-03-20T15:53:54.430999Z",
     "shell.execute_reply": "2024-03-20T15:53:54.430569Z"
    },
    "papermill": {
     "duration": 0.028317,
     "end_time": "2024-03-20T15:53:54.431747",
     "exception": false,
     "start_time": "2024-03-20T15:53:54.403430",
     "status": "completed"
    },
    "tags": []
   },
   "outputs": [
    {
     "name": "stdout",
     "output_type": "stream",
     "text": [
      "The first three gene pairs at the top (*IFNG* - *SDS*, *JUN* - *APOC1*, and *ZDHHC12* - *CCL18*), with high CCC and low Pearson values, appear to follow a non-coexistence relationship: in samples where one of the genes is highly (slightly) expressed, the other is slightly (highly) activated, suggesting a potentially inhibiting effect. The following three gene pairs (*UTY* - *KDM6A*, *RASSF2* - *CYTIP*, and *AC068580.6* - *KLHL21*) follow patterns combining either two linear or one linear and one independent relationships. In particular, genes *UTY* and *KDM6A* (paralogs) show a nonlinear relationship where a subset of samples follows a robust linear pattern and another subset has a constant (independent) expression of one gene. This relationship is explained by the fact that *UTY* is in chromosome Y (Yq11) whereas *KDM6A* is in chromosome X (Xp11), and samples with a linear pattern are males, whereas those with no expression for *UTY* are females. This combination of linear and independent patterns is captured by CCC ($c=0.29$, above the 80th percentile) but not by Pearson ($p=0.24$, below the 55th percentile) or Spearman ($s=0.10$, below the 15th percentile). Furthermore, the same gene pair pattern is highly ranked by CCC in all other tissues in GTEx, except for female-specific organs (Figure @fig:gtex_tissues:kdm6a_uty).\n"
     ]
    }
   ],
   "source": [
    "par0 = process_paragraph(orig_section_paragraphs[8])\n",
    "print(par0)"
   ]
  },
  {
   "cell_type": "code",
   "execution_count": 93,
   "id": "0e8708e1-e008-4d11-a354-3a064e66caf7",
   "metadata": {
    "execution": {
     "iopub.execute_input": "2024-03-20T15:53:54.481657Z",
     "iopub.status.busy": "2024-03-20T15:53:54.481271Z",
     "iopub.status.idle": "2024-03-20T15:53:54.484103Z",
     "shell.execute_reply": "2024-03-20T15:53:54.483670Z"
    },
    "papermill": {
     "duration": 0.028753,
     "end_time": "2024-03-20T15:53:54.484855",
     "exception": false,
     "start_time": "2024-03-20T15:53:54.456102",
     "status": "completed"
    },
    "tags": []
   },
   "outputs": [
    {
     "name": "stdout",
     "output_type": "stream",
     "text": [
      "The top three gene pairs (*IFNG* - *SDS*, *JUN* - *APOC1*, and *ZDHHC12* - *CCL18*) exhibit high CCC and low Pearson values, suggesting a non-coexistence relationship where one gene is highly expressed while the other is activated to a lesser extent, indicating a potential inhibiting effect. The subsequent three gene pairs (*UTY* - *KDM6A*, *RASSF2* - *CYTIP*, and *AC068580.6* - *KLHL21*) display combinations of linear or independent relationships. For instance, *UTY* and *KDM6A* (paralogs) show a nonlinear relationship where some samples exhibit a robust linear pattern while others have constant expression levels for one gene. This discrepancy is due to the location of *UTY* on chromosome Y and *KDM6A* on chromosome X, resulting in males showing a linear pattern and females lacking expression of *UTY*. This combination of linear and independent patterns is captured by CCC ($c=0.29$) but not by Pearson ($p=0.24$) or Spearman ($s=0.10$). Additionally, this gene pair pattern is consistently ranked highly by CCC across all tissues in GTEx, except for female-specific organs (Figure @fig:gtex_tissues:kdm6a_uty).\n"
     ]
    }
   ],
   "source": [
    "par1 = process_paragraph(mod_section_paragraphs[8])\n",
    "print(par1)"
   ]
  },
  {
   "cell_type": "code",
   "execution_count": 94,
   "id": "34566b03-dc00-4862-af05-988462032cc6",
   "metadata": {
    "execution": {
     "iopub.execute_input": "2024-03-20T15:53:54.534821Z",
     "iopub.status.busy": "2024-03-20T15:53:54.534498Z",
     "iopub.status.idle": "2024-03-20T15:53:54.536996Z",
     "shell.execute_reply": "2024-03-20T15:53:54.536578Z"
    },
    "papermill": {
     "duration": 0.028222,
     "end_time": "2024-03-20T15:53:54.537741",
     "exception": false,
     "start_time": "2024-03-20T15:53:54.509519",
     "status": "completed"
    },
    "tags": []
   },
   "outputs": [],
   "source": [
    "paragraph_matches.append(\n",
    "    (\n",
    "        section_name,\n",
    "        par0,\n",
    "        par1,\n",
    "    )\n",
    ")"
   ]
  },
  {
   "cell_type": "code",
   "execution_count": 95,
   "id": "5ffea461-d92d-4584-b715-562000bbce4d",
   "metadata": {
    "execution": {
     "iopub.execute_input": "2024-03-20T15:53:54.587299Z",
     "iopub.status.busy": "2024-03-20T15:53:54.587119Z",
     "iopub.status.idle": "2024-03-20T15:53:54.590457Z",
     "shell.execute_reply": "2024-03-20T15:53:54.590038Z"
    },
    "papermill": {
     "duration": 0.029124,
     "end_time": "2024-03-20T15:53:54.591229",
     "exception": false,
     "start_time": "2024-03-20T15:53:54.562105",
     "status": "completed"
    },
    "tags": []
   },
   "outputs": [
    {
     "data": {
      "text/plain": [
       "('results',\n",
       " 'The first three gene pairs at the top (*IFNG* - *SDS*, *JUN* - *APOC1*, and *ZDHHC12* - *CCL18*), with high CCC and low Pearson values, appear to follow a non-coexistence relationship: in samples where one of the genes is highly (slightly) expressed, the other is slightly (highly) activated, suggesting a potentially inhibiting effect. The following three gene pairs (*UTY* - *KDM6A*, *RASSF2* - *CYTIP*, and *AC068580.6* - *KLHL21*) follow patterns combining either two linear or one linear and one independent relationships. In particular, genes *UTY* and *KDM6A* (paralogs) show a nonlinear relationship where a subset of samples follows a robust linear pattern and another subset has a constant (independent) expression of one gene. This relationship is explained by the fact that *UTY* is in chromosome Y (Yq11) whereas *KDM6A* is in chromosome X (Xp11), and samples with a linear pattern are males, whereas those with no expression for *UTY* are females. This combination of linear and independent patterns is captured by CCC ($c=0.29$, above the 80th percentile) but not by Pearson ($p=0.24$, below the 55th percentile) or Spearman ($s=0.10$, below the 15th percentile). Furthermore, the same gene pair pattern is highly ranked by CCC in all other tissues in GTEx, except for female-specific organs (Figure @fig:gtex_tissues:kdm6a_uty).',\n",
       " 'The top three gene pairs (*IFNG* - *SDS*, *JUN* - *APOC1*, and *ZDHHC12* - *CCL18*) exhibit high CCC and low Pearson values, suggesting a non-coexistence relationship where one gene is highly expressed while the other is activated to a lesser extent, indicating a potential inhibiting effect. The subsequent three gene pairs (*UTY* - *KDM6A*, *RASSF2* - *CYTIP*, and *AC068580.6* - *KLHL21*) display combinations of linear or independent relationships. For instance, *UTY* and *KDM6A* (paralogs) show a nonlinear relationship where some samples exhibit a robust linear pattern while others have constant expression levels for one gene. This discrepancy is due to the location of *UTY* on chromosome Y and *KDM6A* on chromosome X, resulting in males showing a linear pattern and females lacking expression of *UTY*. This combination of linear and independent patterns is captured by CCC ($c=0.29$) but not by Pearson ($p=0.24$) or Spearman ($s=0.10$). Additionally, this gene pair pattern is consistently ranked highly by CCC across all tissues in GTEx, except for female-specific organs (Figure @fig:gtex_tissues:kdm6a_uty).')"
      ]
     },
     "metadata": {},
     "output_type": "display_data"
    }
   ],
   "source": [
    "display(paragraph_matches[-1])"
   ]
  },
  {
   "cell_type": "markdown",
   "id": "eba0e796-aef8-42c8-84ef-d8f8fe63c8a9",
   "metadata": {
    "editable": true,
    "papermill": {
     "duration": 0.023966,
     "end_time": "2024-03-20T15:53:54.639649",
     "exception": false,
     "start_time": "2024-03-20T15:53:54.615683",
     "status": "completed"
    },
    "slideshow": {
     "slide_type": ""
    },
    "tags": []
   },
   "source": [
    "## Results (giant)"
   ]
  },
  {
   "cell_type": "code",
   "execution_count": 96,
   "id": "dbfbe76a-064d-49a7-bcdf-c5846399f62b",
   "metadata": {
    "execution": {
     "iopub.execute_input": "2024-03-20T15:53:54.689203Z",
     "iopub.status.busy": "2024-03-20T15:53:54.688849Z",
     "iopub.status.idle": "2024-03-20T15:53:54.691195Z",
     "shell.execute_reply": "2024-03-20T15:53:54.690772Z"
    },
    "papermill": {
     "duration": 0.027994,
     "end_time": "2024-03-20T15:53:54.691926",
     "exception": false,
     "start_time": "2024-03-20T15:53:54.663932",
     "status": "completed"
    },
    "tags": []
   },
   "outputs": [],
   "source": [
    "# section_name = \"results\""
   ]
  },
  {
   "cell_type": "code",
   "execution_count": 97,
   "id": "9e65002d-431b-496f-aeea-61587535b9f9",
   "metadata": {
    "editable": true,
    "execution": {
     "iopub.execute_input": "2024-03-20T15:53:54.741463Z",
     "iopub.status.busy": "2024-03-20T15:53:54.741028Z",
     "iopub.status.idle": "2024-03-20T15:53:54.744132Z",
     "shell.execute_reply": "2024-03-20T15:53:54.743671Z"
    },
    "papermill": {
     "duration": 0.028511,
     "end_time": "2024-03-20T15:53:54.744903",
     "exception": false,
     "start_time": "2024-03-20T15:53:54.716392",
     "status": "completed"
    },
    "slideshow": {
     "slide_type": ""
    },
    "tags": []
   },
   "outputs": [
    {
     "name": "stdout",
     "output_type": "stream",
     "text": [
      "content/04.12.results_giant.md\n"
     ]
    }
   ],
   "source": [
    "pr_filename = pr_files[4].filename\n",
    "assert section_name in pr_filename\n",
    "assert \"giant\" in pr_filename\n",
    "print(pr_filename)"
   ]
  },
  {
   "cell_type": "markdown",
   "id": "daf3f77b-b349-4d36-a749-3e05051c8ee5",
   "metadata": {
    "editable": true,
    "papermill": {
     "duration": 0.024173,
     "end_time": "2024-03-20T15:53:54.793331",
     "exception": false,
     "start_time": "2024-03-20T15:53:54.769158",
     "status": "completed"
    },
    "slideshow": {
     "slide_type": ""
    },
    "tags": []
   },
   "source": [
    "### Original"
   ]
  },
  {
   "cell_type": "code",
   "execution_count": 98,
   "id": "657019af-7454-4d9b-9d69-038c43eef825",
   "metadata": {
    "execution": {
     "iopub.execute_input": "2024-03-20T15:53:54.844538Z",
     "iopub.status.busy": "2024-03-20T15:53:54.843861Z",
     "iopub.status.idle": "2024-03-20T15:53:55.008264Z",
     "shell.execute_reply": "2024-03-20T15:53:55.007786Z"
    },
    "papermill": {
     "duration": 0.191221,
     "end_time": "2024-03-20T15:53:55.009051",
     "exception": false,
     "start_time": "2024-03-20T15:53:54.817830",
     "status": "completed"
    },
    "tags": []
   },
   "outputs": [
    {
     "name": "stdout",
     "output_type": "stream",
     "text": [
      "### Replication of gene associations using tissue-\n"
     ]
    }
   ],
   "source": [
    "# get content\n",
    "orig_section_content = repo.get_contents(pr_filename, pr_prev).decoded_content.decode(\n",
    "    \"utf-8\"\n",
    ")\n",
    "print(orig_section_content[:50])"
   ]
  },
  {
   "cell_type": "code",
   "execution_count": 99,
   "id": "68f6ad9a-b340-4726-be8f-50f2ced6eb1c",
   "metadata": {
    "execution": {
     "iopub.execute_input": "2024-03-20T15:53:55.058335Z",
     "iopub.status.busy": "2024-03-20T15:53:55.058146Z",
     "iopub.status.idle": "2024-03-20T15:53:55.061696Z",
     "shell.execute_reply": "2024-03-20T15:53:55.061277Z"
    },
    "papermill": {
     "duration": 0.029099,
     "end_time": "2024-03-20T15:53:55.062456",
     "exception": false,
     "start_time": "2024-03-20T15:53:55.033357",
     "status": "completed"
    },
    "tags": []
   },
   "outputs": [
    {
     "data": {
      "text/plain": [
       "4"
      ]
     },
     "metadata": {},
     "output_type": "display_data"
    }
   ],
   "source": [
    "# split by paragraph\n",
    "orig_section_paragraphs = orig_section_content.split(\"\\n\\n\")\n",
    "display(len(orig_section_paragraphs))"
   ]
  },
  {
   "cell_type": "markdown",
   "id": "3a515543-39cc-478a-a3f7-5689994b53ba",
   "metadata": {
    "editable": true,
    "papermill": {
     "duration": 0.024749,
     "end_time": "2024-03-20T15:53:55.112127",
     "exception": false,
     "start_time": "2024-03-20T15:53:55.087378",
     "status": "completed"
    },
    "slideshow": {
     "slide_type": ""
    },
    "tags": []
   },
   "source": [
    "### Modified"
   ]
  },
  {
   "cell_type": "code",
   "execution_count": 100,
   "id": "b2e77464-3a51-4d6b-a927-b00e4e99a0cc",
   "metadata": {
    "execution": {
     "iopub.execute_input": "2024-03-20T15:53:55.171554Z",
     "iopub.status.busy": "2024-03-20T15:53:55.171084Z",
     "iopub.status.idle": "2024-03-20T15:53:55.389488Z",
     "shell.execute_reply": "2024-03-20T15:53:55.389015Z"
    },
    "papermill": {
     "duration": 0.244694,
     "end_time": "2024-03-20T15:53:55.390438",
     "exception": false,
     "start_time": "2024-03-20T15:53:55.145744",
     "status": "completed"
    },
    "tags": []
   },
   "outputs": [
    {
     "name": "stdout",
     "output_type": "stream",
     "text": [
      "### Replication of gene associations using tissue-\n"
     ]
    }
   ],
   "source": [
    "# get content\n",
    "mod_section_content = repo.get_contents(pr_filename, pr_curr).decoded_content.decode(\n",
    "    \"utf-8\"\n",
    ")\n",
    "print(mod_section_content[:50])"
   ]
  },
  {
   "cell_type": "code",
   "execution_count": 101,
   "id": "289e00d4-cea8-4ab2-94fb-c1d875456542",
   "metadata": {
    "execution": {
     "iopub.execute_input": "2024-03-20T15:53:55.467935Z",
     "iopub.status.busy": "2024-03-20T15:53:55.467711Z",
     "iopub.status.idle": "2024-03-20T15:53:55.471412Z",
     "shell.execute_reply": "2024-03-20T15:53:55.470878Z"
    },
    "papermill": {
     "duration": 0.042516,
     "end_time": "2024-03-20T15:53:55.472102",
     "exception": false,
     "start_time": "2024-03-20T15:53:55.429586",
     "status": "completed"
    },
    "tags": []
   },
   "outputs": [
    {
     "data": {
      "text/plain": [
       "4"
      ]
     },
     "metadata": {},
     "output_type": "display_data"
    }
   ],
   "source": [
    "# split by paragraph\n",
    "mod_section_paragraphs = mod_section_content.split(\"\\n\\n\")\n",
    "display(len(mod_section_paragraphs))"
   ]
  },
  {
   "cell_type": "markdown",
   "id": "f957e846-058d-4543-80f9-8d616797abd3",
   "metadata": {
    "editable": true,
    "papermill": {
     "duration": 0.024567,
     "end_time": "2024-03-20T15:53:55.521607",
     "exception": false,
     "start_time": "2024-03-20T15:53:55.497040",
     "status": "completed"
    },
    "slideshow": {
     "slide_type": ""
    },
    "tags": []
   },
   "source": [
    "### Match"
   ]
  },
  {
   "cell_type": "code",
   "execution_count": 102,
   "id": "ca841c54-838d-464b-a1f7-ac807d045f5e",
   "metadata": {
    "execution": {
     "iopub.execute_input": "2024-03-20T15:53:55.572225Z",
     "iopub.status.busy": "2024-03-20T15:53:55.571734Z",
     "iopub.status.idle": "2024-03-20T15:53:55.575381Z",
     "shell.execute_reply": "2024-03-20T15:53:55.574945Z"
    },
    "papermill": {
     "duration": 0.029921,
     "end_time": "2024-03-20T15:53:55.576136",
     "exception": false,
     "start_time": "2024-03-20T15:53:55.546215",
     "status": "completed"
    },
    "tags": []
   },
   "outputs": [
    {
     "data": {
      "text/plain": [
       "'### Replication of gene associations using tissue-specific gene networks from GIANT'"
      ]
     },
     "execution_count": 102,
     "metadata": {},
     "output_type": "execute_result"
    }
   ],
   "source": [
    "orig_section_paragraphs[0]"
   ]
  },
  {
   "cell_type": "code",
   "execution_count": 103,
   "id": "e23865d7-5201-4fc5-9920-f633947c0ee0",
   "metadata": {
    "execution": {
     "iopub.execute_input": "2024-03-20T15:53:55.626583Z",
     "iopub.status.busy": "2024-03-20T15:53:55.626242Z",
     "iopub.status.idle": "2024-03-20T15:53:55.629579Z",
     "shell.execute_reply": "2024-03-20T15:53:55.629139Z"
    },
    "papermill": {
     "duration": 0.029414,
     "end_time": "2024-03-20T15:53:55.630341",
     "exception": false,
     "start_time": "2024-03-20T15:53:55.600927",
     "status": "completed"
    },
    "tags": []
   },
   "outputs": [
    {
     "data": {
      "text/plain": [
       "'### Replication of gene associations using tissue-specific gene networks from GIANT'"
      ]
     },
     "execution_count": 103,
     "metadata": {},
     "output_type": "execute_result"
    }
   ],
   "source": [
    "mod_section_paragraphs[0]"
   ]
  },
  {
   "cell_type": "markdown",
   "id": "45368970-29a6-4c74-9529-8d5a07810610",
   "metadata": {
    "editable": true,
    "papermill": {
     "duration": 0.026684,
     "end_time": "2024-03-20T15:53:55.681722",
     "exception": false,
     "start_time": "2024-03-20T15:53:55.655038",
     "status": "completed"
    },
    "slideshow": {
     "slide_type": ""
    },
    "tags": []
   },
   "source": [
    "####  Paragraph 00"
   ]
  },
  {
   "cell_type": "code",
   "execution_count": 104,
   "id": "85b7c900-cf86-4c29-b878-29839b0d10b1",
   "metadata": {
    "execution": {
     "iopub.execute_input": "2024-03-20T15:53:55.732576Z",
     "iopub.status.busy": "2024-03-20T15:53:55.732066Z",
     "iopub.status.idle": "2024-03-20T15:53:55.735720Z",
     "shell.execute_reply": "2024-03-20T15:53:55.735173Z"
    },
    "papermill": {
     "duration": 0.029878,
     "end_time": "2024-03-20T15:53:55.736493",
     "exception": false,
     "start_time": "2024-03-20T15:53:55.706615",
     "status": "completed"
    },
    "tags": []
   },
   "outputs": [
    {
     "name": "stdout",
     "output_type": "stream",
     "text": [
      "We sought to systematically analyze discrepant scores to assess whether associations were replicated in other datasets besides GTEx. This is challenging and prone to bias because linear-only correlation coefficients are usually used in gene co-expression analyses. We used 144 tissue-specific gene networks from the Genome-wide Analysis of gene Networks in Tissues (GIANT) [@pmcid:PMC4828725; @url:https://hb.flatironinstitute.org], where nodes represent genes and each edge a functional relationship weighted with a probability of interaction between two genes (see [Methods](#sec:giant)). Importantly, the version of GIANT used in this study did not include GTEx samples [@url:https://hb.flatironinstitute.org/data], making it an ideal case for replication. These networks were built from expression and different interaction measurements, including protein-interaction, transcription factor regulation, chemical/genetic perturbations and microRNA target profiles from the Molecular Signatures Database (MSigDB [@pmid:16199517]). We reasoned that highly-ranked gene pairs using three different coefficients in a single tissue (whole blood in GTEx, Figure @fig:upsetplot_coefs) that represented real patterns should often replicate in a corresponding tissue or related cell lineage using the multi-cell type functional interaction networks in GIANT. In addition to predicting a network with interactions for a pair of genes, the GIANT web application can also automatically detect a relevant tissue or cell type where genes are predicted to be specifically expressed (the approach uses a machine learning method introduced in [@doi:10.1101/gr.155697.113] and described in [Methods](#sec:giant)). For example, we obtained the networks in blood and the automatically-predicted cell type for gene pairs *RASSF2* - *CYTIP* (CCC high, Figure @fig:giant_gene_pairs a) and *MYOZ1* - *TNNI2* (Pearson high, Figure @fig:giant_gene_pairs b). In addition to the gene pair, the networks include other genes connected according to their probability of interaction (up to 15 additional genes are shown), which allows estimating whether genes are part of the same tissue-specific biological process. Two large black nodes in each network's top-left and bottom-right corners represent our gene pairs. A green edge means a close-to-zero probability of interaction, whereas a red edge represents a strong predicted relationship between the two genes. In this example, genes *RASSF2* and *CYTIP* (Figure @fig:giant_gene_pairs a), with a high CCC value ($c=0.20$, above the 73th percentile) and low Pearson and Spearman ($p=0.16$ and $s=0.11$, below the 38th and 17th percentiles, respectively), were both strongly connected to the blood network, with interaction scores of at least 0.63 and an average of 0.75 and 0.84, respectively (Supplementary Table @tbl:giant:weights). The autodetected cell type for this pair was leukocytes, and interaction scores were similar to the blood network (Supplementary Table @tbl:giant:weights). However, genes *MYOZ1* and *TNNI2*, with a very high Pearson value ($p=0.97$), moderate Spearman ($s=0.28$) and very low CCC ($c=0.03$), were predicted to belong to much less cohesive networks (Figure @fig:giant_gene_pairs b), with average interaction scores of 0.17 and 0.22 with the rest of the genes, respectively. Additionally, the autodetected cell type (skeletal muscle) is not related to blood or one of its cell lineages. These preliminary results suggested that CCC might be capturing blood-specific patterns missed by the other coefficients.\n"
     ]
    }
   ],
   "source": [
    "par0 = process_paragraph(orig_section_paragraphs[1])\n",
    "print(par0)"
   ]
  },
  {
   "cell_type": "code",
   "execution_count": 105,
   "id": "41d93faf-b3e3-4177-a497-f69132f687df",
   "metadata": {
    "execution": {
     "iopub.execute_input": "2024-03-20T15:53:55.786716Z",
     "iopub.status.busy": "2024-03-20T15:53:55.786501Z",
     "iopub.status.idle": "2024-03-20T15:53:55.789788Z",
     "shell.execute_reply": "2024-03-20T15:53:55.789291Z"
    },
    "papermill": {
     "duration": 0.029212,
     "end_time": "2024-03-20T15:53:55.790535",
     "exception": false,
     "start_time": "2024-03-20T15:53:55.761323",
     "status": "completed"
    },
    "tags": []
   },
   "outputs": [
    {
     "name": "stdout",
     "output_type": "stream",
     "text": [
      "We analyzed discrepant scores to determine if associations were consistent across datasets beyond GTEx. Using 144 tissue-specific gene networks from GIANT, where nodes represent genes and edges represent functional relationships weighted with probabilities of interaction, we examined gene pairs in whole blood (Figure 1). These networks were constructed from various interaction measurements, including protein-interaction, transcription factor regulation, chemical/genetic perturbations, and microRNA target profiles from MSigDB. Highly-ranked gene pairs in blood that showed real patterns were expected to replicate in related tissues or cell lineages using GIANT's multi-cell type functional interaction networks. For example, gene pairs *RASSF2* - *CYTIP* with a high CCC value and gene pairs *MYOZ1* - *TNNI2* with high Pearson values were analyzed. The networks revealed strong connections for *RASSF2* - *CYTIP* in blood and leukocytes, while *MYOZ1* - *TNNI2* showed weaker connections in skeletal muscle. These findings suggest that CCC may capture tissue-specific patterns not detected by other coefficients.\n"
     ]
    }
   ],
   "source": [
    "par1 = process_paragraph(mod_section_paragraphs[1])\n",
    "print(par1)"
   ]
  },
  {
   "cell_type": "code",
   "execution_count": 106,
   "id": "c0dc3950-524a-4427-9e29-b214c3b9cc12",
   "metadata": {
    "execution": {
     "iopub.execute_input": "2024-03-20T15:53:55.840954Z",
     "iopub.status.busy": "2024-03-20T15:53:55.840772Z",
     "iopub.status.idle": "2024-03-20T15:53:55.843349Z",
     "shell.execute_reply": "2024-03-20T15:53:55.842914Z"
    },
    "papermill": {
     "duration": 0.028717,
     "end_time": "2024-03-20T15:53:55.844051",
     "exception": false,
     "start_time": "2024-03-20T15:53:55.815334",
     "status": "completed"
    },
    "tags": []
   },
   "outputs": [],
   "source": [
    "paragraph_matches.append(\n",
    "    (\n",
    "        section_name,\n",
    "        par0,\n",
    "        par1,\n",
    "    )\n",
    ")"
   ]
  },
  {
   "cell_type": "code",
   "execution_count": 107,
   "id": "c055cb90-27c8-4361-9204-799d2b2b9bdc",
   "metadata": {
    "execution": {
     "iopub.execute_input": "2024-03-20T15:53:55.917851Z",
     "iopub.status.busy": "2024-03-20T15:53:55.917670Z",
     "iopub.status.idle": "2024-03-20T15:53:55.921165Z",
     "shell.execute_reply": "2024-03-20T15:53:55.920744Z"
    },
    "papermill": {
     "duration": 0.029893,
     "end_time": "2024-03-20T15:53:55.921887",
     "exception": false,
     "start_time": "2024-03-20T15:53:55.891994",
     "status": "completed"
    },
    "tags": []
   },
   "outputs": [
    {
     "data": {
      "text/plain": [
       "('results',\n",
       " \"We sought to systematically analyze discrepant scores to assess whether associations were replicated in other datasets besides GTEx. This is challenging and prone to bias because linear-only correlation coefficients are usually used in gene co-expression analyses. We used 144 tissue-specific gene networks from the Genome-wide Analysis of gene Networks in Tissues (GIANT) [@pmcid:PMC4828725; @url:https://hb.flatironinstitute.org], where nodes represent genes and each edge a functional relationship weighted with a probability of interaction between two genes (see [Methods](#sec:giant)). Importantly, the version of GIANT used in this study did not include GTEx samples [@url:https://hb.flatironinstitute.org/data], making it an ideal case for replication. These networks were built from expression and different interaction measurements, including protein-interaction, transcription factor regulation, chemical/genetic perturbations and microRNA target profiles from the Molecular Signatures Database (MSigDB [@pmid:16199517]). We reasoned that highly-ranked gene pairs using three different coefficients in a single tissue (whole blood in GTEx, Figure @fig:upsetplot_coefs) that represented real patterns should often replicate in a corresponding tissue or related cell lineage using the multi-cell type functional interaction networks in GIANT. In addition to predicting a network with interactions for a pair of genes, the GIANT web application can also automatically detect a relevant tissue or cell type where genes are predicted to be specifically expressed (the approach uses a machine learning method introduced in [@doi:10.1101/gr.155697.113] and described in [Methods](#sec:giant)). For example, we obtained the networks in blood and the automatically-predicted cell type for gene pairs *RASSF2* - *CYTIP* (CCC high, Figure @fig:giant_gene_pairs a) and *MYOZ1* - *TNNI2* (Pearson high, Figure @fig:giant_gene_pairs b). In addition to the gene pair, the networks include other genes connected according to their probability of interaction (up to 15 additional genes are shown), which allows estimating whether genes are part of the same tissue-specific biological process. Two large black nodes in each network's top-left and bottom-right corners represent our gene pairs. A green edge means a close-to-zero probability of interaction, whereas a red edge represents a strong predicted relationship between the two genes. In this example, genes *RASSF2* and *CYTIP* (Figure @fig:giant_gene_pairs a), with a high CCC value ($c=0.20$, above the 73th percentile) and low Pearson and Spearman ($p=0.16$ and $s=0.11$, below the 38th and 17th percentiles, respectively), were both strongly connected to the blood network, with interaction scores of at least 0.63 and an average of 0.75 and 0.84, respectively (Supplementary Table @tbl:giant:weights). The autodetected cell type for this pair was leukocytes, and interaction scores were similar to the blood network (Supplementary Table @tbl:giant:weights). However, genes *MYOZ1* and *TNNI2*, with a very high Pearson value ($p=0.97$), moderate Spearman ($s=0.28$) and very low CCC ($c=0.03$), were predicted to belong to much less cohesive networks (Figure @fig:giant_gene_pairs b), with average interaction scores of 0.17 and 0.22 with the rest of the genes, respectively. Additionally, the autodetected cell type (skeletal muscle) is not related to blood or one of its cell lineages. These preliminary results suggested that CCC might be capturing blood-specific patterns missed by the other coefficients.\",\n",
       " \"We analyzed discrepant scores to determine if associations were consistent across datasets beyond GTEx. Using 144 tissue-specific gene networks from GIANT, where nodes represent genes and edges represent functional relationships weighted with probabilities of interaction, we examined gene pairs in whole blood (Figure 1). These networks were constructed from various interaction measurements, including protein-interaction, transcription factor regulation, chemical/genetic perturbations, and microRNA target profiles from MSigDB. Highly-ranked gene pairs in blood that showed real patterns were expected to replicate in related tissues or cell lineages using GIANT's multi-cell type functional interaction networks. For example, gene pairs *RASSF2* - *CYTIP* with a high CCC value and gene pairs *MYOZ1* - *TNNI2* with high Pearson values were analyzed. The networks revealed strong connections for *RASSF2* - *CYTIP* in blood and leukocytes, while *MYOZ1* - *TNNI2* showed weaker connections in skeletal muscle. These findings suggest that CCC may capture tissue-specific patterns not detected by other coefficients.\")"
      ]
     },
     "metadata": {},
     "output_type": "display_data"
    }
   ],
   "source": [
    "display(paragraph_matches[-1])"
   ]
  },
  {
   "cell_type": "markdown",
   "id": "1478308f-3102-4329-b9d3-80dda34c924c",
   "metadata": {
    "editable": true,
    "papermill": {
     "duration": 0.025175,
     "end_time": "2024-03-20T15:53:55.972249",
     "exception": false,
     "start_time": "2024-03-20T15:53:55.947074",
     "status": "completed"
    },
    "slideshow": {
     "slide_type": ""
    },
    "tags": []
   },
   "source": [
    "####  Paragraph 01"
   ]
  },
  {
   "cell_type": "code",
   "execution_count": 108,
   "id": "6a959c24-c888-4da9-b124-a4e168e39c3d",
   "metadata": {
    "execution": {
     "iopub.execute_input": "2024-03-20T15:53:56.023164Z",
     "iopub.status.busy": "2024-03-20T15:53:56.022970Z",
     "iopub.status.idle": "2024-03-20T15:53:56.025993Z",
     "shell.execute_reply": "2024-03-20T15:53:56.025560Z"
    },
    "papermill": {
     "duration": 0.029349,
     "end_time": "2024-03-20T15:53:56.026731",
     "exception": false,
     "start_time": "2024-03-20T15:53:55.997382",
     "status": "completed"
    },
    "tags": []
   },
   "outputs": [
    {
     "name": "stdout",
     "output_type": "stream",
     "text": [
      "We next performed a systematic evaluation using the top 100 discrepant gene pairs between CCC and the other two coefficients. For each gene pair prioritized in GTEx (whole blood), we autodetected a relevant cell type using GIANT to assess whether genes were predicted to be specifically expressed in a blood-relevant cell lineage. For this, we used the top five most commonly autodetected cell types for each coefficient and assessed connectivity in the resulting networks (see [Methods](#sec:giant)). The top 5 predicted cell types for gene pairs highly ranked by CCC and not by the rest were all blood-specific (Figure @fig:giant_gene_pairs c, top left), including macrophage, leukocyte, natural killer cell, blood and mononuclear phagocyte. The average probability of interaction between genes in these CCC-ranked networks was significantly higher than the other coefficients (Figure @fig:giant_gene_pairs c, top right), with all medians larger than 67% and first quartiles above 41% across predicted cell types. In contrast, most Pearson's gene pairs were predicted to be specific to tissues unrelated to blood (Figure @fig:giant_gene_pairs c, bottom left), with skeletal muscle being the most commonly predicted tissue. The interaction probabilities in these Pearson-ranked networks were also generally lower than in CCC, except for blood-specific gene pairs (Figure @fig:giant_gene_pairs c, bottom right). The associations exclusively detected by CCC in whole blood from GTEx were more strongly replicated in these independent networks that incorporated multiple data modalities. CCC-ranked gene pairs not only had high probabilities of belonging to the same biological process but were also predicted to be specifically expressed in blood cell lineages. Conversely, most Pearson-ranked gene pairs were not predicted to be blood-specific, and their interaction probabilities were relatively low. This lack of replication in GIANT suggests that top Pearson-ranked gene pairs in GTEx might be driven mainly by outliers, which is consistent with our earlier observations of outlier-driven associations (Figure @fig:upsetplot_coefs b).\n"
     ]
    }
   ],
   "source": [
    "par0 = process_paragraph(orig_section_paragraphs[3])\n",
    "print(par0)"
   ]
  },
  {
   "cell_type": "code",
   "execution_count": 109,
   "id": "4eba1457-3bfd-45b1-aeb6-70462014aff1",
   "metadata": {
    "execution": {
     "iopub.execute_input": "2024-03-20T15:53:56.077896Z",
     "iopub.status.busy": "2024-03-20T15:53:56.077535Z",
     "iopub.status.idle": "2024-03-20T15:53:56.080546Z",
     "shell.execute_reply": "2024-03-20T15:53:56.079976Z"
    },
    "papermill": {
     "duration": 0.029352,
     "end_time": "2024-03-20T15:53:56.081271",
     "exception": false,
     "start_time": "2024-03-20T15:53:56.051919",
     "status": "completed"
    },
    "tags": []
   },
   "outputs": [
    {
     "name": "stdout",
     "output_type": "stream",
     "text": [
      "We systematically evaluated the top 100 discrepant gene pairs between CCC and two other coefficients. Using GTEx data for whole blood, we identified relevant cell types for each gene pair through GIANT analysis. The top five predicted cell types for gene pairs highly ranked by CCC were all blood-specific, including macrophage, leukocyte, natural killer cell, blood, and mononuclear phagocyte (Figure 1c, top left). The average probability of interaction between genes in CCC-ranked networks was significantly higher compared to other coefficients, with medians above 67% and first quartiles above 41% across predicted cell types (Figure 1c, top right). In contrast, most Pearson's gene pairs were predicted to be specific to non-blood tissues, with skeletal muscle being the most common prediction (Figure 1c, bottom left). Interaction probabilities in Pearson-ranked networks were generally lower than CCC, except for blood-specific gene pairs (Figure 1c, bottom right). The associations exclusively detected by CCC in GTEx whole blood were strongly replicated in independent networks incorporating multiple data modalities. CCC-ranked gene pairs not only shared high probabilities of belonging to the same biological process but were also specific to blood cell lineages. Conversely, Pearson-ranked gene pairs were not blood-specific, with lower interaction probabilities. Lack of replication in GIANT suggests that top Pearson-ranked gene pairs in GTEx may be mainly driven by outliers, consistent with earlier observations of outlier-driven associations (Figure 2b).\n"
     ]
    }
   ],
   "source": [
    "par1 = process_paragraph(mod_section_paragraphs[3])\n",
    "print(par1)"
   ]
  },
  {
   "cell_type": "code",
   "execution_count": 110,
   "id": "fedeb0fc-1967-4869-ab34-0ef2b16950c4",
   "metadata": {
    "execution": {
     "iopub.execute_input": "2024-03-20T15:53:56.132995Z",
     "iopub.status.busy": "2024-03-20T15:53:56.132504Z",
     "iopub.status.idle": "2024-03-20T15:53:56.135139Z",
     "shell.execute_reply": "2024-03-20T15:53:56.134710Z"
    },
    "papermill": {
     "duration": 0.029224,
     "end_time": "2024-03-20T15:53:56.135867",
     "exception": false,
     "start_time": "2024-03-20T15:53:56.106643",
     "status": "completed"
    },
    "tags": []
   },
   "outputs": [],
   "source": [
    "paragraph_matches.append(\n",
    "    (\n",
    "        section_name,\n",
    "        par0,\n",
    "        par1,\n",
    "    )\n",
    ")"
   ]
  },
  {
   "cell_type": "code",
   "execution_count": 111,
   "id": "7fee1e25-14ff-48c3-8390-ae5adc6c6bb1",
   "metadata": {
    "execution": {
     "iopub.execute_input": "2024-03-20T15:53:56.186949Z",
     "iopub.status.busy": "2024-03-20T15:53:56.186767Z",
     "iopub.status.idle": "2024-03-20T15:53:56.190197Z",
     "shell.execute_reply": "2024-03-20T15:53:56.189777Z"
    },
    "papermill": {
     "duration": 0.029815,
     "end_time": "2024-03-20T15:53:56.190935",
     "exception": false,
     "start_time": "2024-03-20T15:53:56.161120",
     "status": "completed"
    },
    "tags": []
   },
   "outputs": [
    {
     "data": {
      "text/plain": [
       "('results',\n",
       " \"We next performed a systematic evaluation using the top 100 discrepant gene pairs between CCC and the other two coefficients. For each gene pair prioritized in GTEx (whole blood), we autodetected a relevant cell type using GIANT to assess whether genes were predicted to be specifically expressed in a blood-relevant cell lineage. For this, we used the top five most commonly autodetected cell types for each coefficient and assessed connectivity in the resulting networks (see [Methods](#sec:giant)). The top 5 predicted cell types for gene pairs highly ranked by CCC and not by the rest were all blood-specific (Figure @fig:giant_gene_pairs c, top left), including macrophage, leukocyte, natural killer cell, blood and mononuclear phagocyte. The average probability of interaction between genes in these CCC-ranked networks was significantly higher than the other coefficients (Figure @fig:giant_gene_pairs c, top right), with all medians larger than 67% and first quartiles above 41% across predicted cell types. In contrast, most Pearson's gene pairs were predicted to be specific to tissues unrelated to blood (Figure @fig:giant_gene_pairs c, bottom left), with skeletal muscle being the most commonly predicted tissue. The interaction probabilities in these Pearson-ranked networks were also generally lower than in CCC, except for blood-specific gene pairs (Figure @fig:giant_gene_pairs c, bottom right). The associations exclusively detected by CCC in whole blood from GTEx were more strongly replicated in these independent networks that incorporated multiple data modalities. CCC-ranked gene pairs not only had high probabilities of belonging to the same biological process but were also predicted to be specifically expressed in blood cell lineages. Conversely, most Pearson-ranked gene pairs were not predicted to be blood-specific, and their interaction probabilities were relatively low. This lack of replication in GIANT suggests that top Pearson-ranked gene pairs in GTEx might be driven mainly by outliers, which is consistent with our earlier observations of outlier-driven associations (Figure @fig:upsetplot_coefs b).\",\n",
       " \"We systematically evaluated the top 100 discrepant gene pairs between CCC and two other coefficients. Using GTEx data for whole blood, we identified relevant cell types for each gene pair through GIANT analysis. The top five predicted cell types for gene pairs highly ranked by CCC were all blood-specific, including macrophage, leukocyte, natural killer cell, blood, and mononuclear phagocyte (Figure 1c, top left). The average probability of interaction between genes in CCC-ranked networks was significantly higher compared to other coefficients, with medians above 67% and first quartiles above 41% across predicted cell types (Figure 1c, top right). In contrast, most Pearson's gene pairs were predicted to be specific to non-blood tissues, with skeletal muscle being the most common prediction (Figure 1c, bottom left). Interaction probabilities in Pearson-ranked networks were generally lower than CCC, except for blood-specific gene pairs (Figure 1c, bottom right). The associations exclusively detected by CCC in GTEx whole blood were strongly replicated in independent networks incorporating multiple data modalities. CCC-ranked gene pairs not only shared high probabilities of belonging to the same biological process but were also specific to blood cell lineages. Conversely, Pearson-ranked gene pairs were not blood-specific, with lower interaction probabilities. Lack of replication in GIANT suggests that top Pearson-ranked gene pairs in GTEx may be mainly driven by outliers, consistent with earlier observations of outlier-driven associations (Figure 2b).\")"
      ]
     },
     "metadata": {},
     "output_type": "display_data"
    }
   ],
   "source": [
    "display(paragraph_matches[-1])"
   ]
  },
  {
   "cell_type": "markdown",
   "id": "0a311a52-d06f-4f08-905f-465c282ff625",
   "metadata": {
    "editable": true,
    "papermill": {
     "duration": 0.02536,
     "end_time": "2024-03-20T15:53:56.241557",
     "exception": false,
     "start_time": "2024-03-20T15:53:56.216197",
     "status": "completed"
    },
    "slideshow": {
     "slide_type": ""
    },
    "tags": []
   },
   "source": [
    "## Discussion"
   ]
  },
  {
   "cell_type": "code",
   "execution_count": 112,
   "id": "70e3c270-751e-48b1-a705-7ed67d9298b8",
   "metadata": {
    "execution": {
     "iopub.execute_input": "2024-03-20T15:53:56.292674Z",
     "iopub.status.busy": "2024-03-20T15:53:56.292492Z",
     "iopub.status.idle": "2024-03-20T15:53:56.294969Z",
     "shell.execute_reply": "2024-03-20T15:53:56.294535Z"
    },
    "papermill": {
     "duration": 0.02883,
     "end_time": "2024-03-20T15:53:56.295707",
     "exception": false,
     "start_time": "2024-03-20T15:53:56.266877",
     "status": "completed"
    },
    "tags": []
   },
   "outputs": [],
   "source": [
    "section_name = \"discussion\""
   ]
  },
  {
   "cell_type": "code",
   "execution_count": 113,
   "id": "da50ce41-3f94-4ca1-8c72-3d2aa29b536b",
   "metadata": {
    "editable": true,
    "execution": {
     "iopub.execute_input": "2024-03-20T15:53:56.348410Z",
     "iopub.status.busy": "2024-03-20T15:53:56.347997Z",
     "iopub.status.idle": "2024-03-20T15:53:56.351417Z",
     "shell.execute_reply": "2024-03-20T15:53:56.350847Z"
    },
    "papermill": {
     "duration": 0.030663,
     "end_time": "2024-03-20T15:53:56.352152",
     "exception": false,
     "start_time": "2024-03-20T15:53:56.321489",
     "status": "completed"
    },
    "slideshow": {
     "slide_type": ""
    },
    "tags": []
   },
   "outputs": [
    {
     "name": "stdout",
     "output_type": "stream",
     "text": [
      "content/06.discussion.md\n"
     ]
    }
   ],
   "source": [
    "pr_filename = pr_files[5].filename\n",
    "assert section_name in pr_filename\n",
    "print(pr_filename)"
   ]
  },
  {
   "cell_type": "markdown",
   "id": "15bcc7d8-ab7b-4475-95ad-6d9c3763aba2",
   "metadata": {
    "editable": true,
    "papermill": {
     "duration": 0.028547,
     "end_time": "2024-03-20T15:53:56.406334",
     "exception": false,
     "start_time": "2024-03-20T15:53:56.377787",
     "status": "completed"
    },
    "slideshow": {
     "slide_type": ""
    },
    "tags": []
   },
   "source": [
    "### Original"
   ]
  },
  {
   "cell_type": "code",
   "execution_count": 114,
   "id": "5bbec300-ce51-46d0-8e4d-b2ba822ec608",
   "metadata": {
    "execution": {
     "iopub.execute_input": "2024-03-20T15:53:56.458388Z",
     "iopub.status.busy": "2024-03-20T15:53:56.457822Z",
     "iopub.status.idle": "2024-03-20T15:53:56.615808Z",
     "shell.execute_reply": "2024-03-20T15:53:56.615340Z"
    },
    "papermill": {
     "duration": 0.18513,
     "end_time": "2024-03-20T15:53:56.616840",
     "exception": false,
     "start_time": "2024-03-20T15:53:56.431710",
     "status": "completed"
    },
    "tags": []
   },
   "outputs": [
    {
     "name": "stdout",
     "output_type": "stream",
     "text": [
      "## Discussion\n",
      "\n",
      "We introduce the Clustermatch Corre\n"
     ]
    }
   ],
   "source": [
    "# get content\n",
    "orig_section_content = repo.get_contents(pr_filename, pr_prev).decoded_content.decode(\n",
    "    \"utf-8\"\n",
    ")\n",
    "print(orig_section_content[:50])"
   ]
  },
  {
   "cell_type": "code",
   "execution_count": 115,
   "id": "2ab78222-da5b-4d1e-93dd-e35a085a962f",
   "metadata": {
    "execution": {
     "iopub.execute_input": "2024-03-20T15:53:56.693223Z",
     "iopub.status.busy": "2024-03-20T15:53:56.693029Z",
     "iopub.status.idle": "2024-03-20T15:53:56.696642Z",
     "shell.execute_reply": "2024-03-20T15:53:56.696183Z"
    },
    "papermill": {
     "duration": 0.042568,
     "end_time": "2024-03-20T15:53:56.697326",
     "exception": false,
     "start_time": "2024-03-20T15:53:56.654758",
     "status": "completed"
    },
    "tags": []
   },
   "outputs": [
    {
     "data": {
      "text/plain": [
       "7"
      ]
     },
     "metadata": {},
     "output_type": "display_data"
    }
   ],
   "source": [
    "# split by paragraph\n",
    "orig_section_paragraphs = orig_section_content.split(\"\\n\\n\")\n",
    "display(len(orig_section_paragraphs))"
   ]
  },
  {
   "cell_type": "markdown",
   "id": "a0a475a1-c746-4b66-b096-99df8a9e4688",
   "metadata": {
    "editable": true,
    "papermill": {
     "duration": 0.025142,
     "end_time": "2024-03-20T15:53:56.747575",
     "exception": false,
     "start_time": "2024-03-20T15:53:56.722433",
     "status": "completed"
    },
    "slideshow": {
     "slide_type": ""
    },
    "tags": []
   },
   "source": [
    "### Modified"
   ]
  },
  {
   "cell_type": "code",
   "execution_count": 116,
   "id": "b4046c3e-0e66-44fe-8902-822d461fb6ea",
   "metadata": {
    "execution": {
     "iopub.execute_input": "2024-03-20T15:53:56.798716Z",
     "iopub.status.busy": "2024-03-20T15:53:56.798363Z",
     "iopub.status.idle": "2024-03-20T15:53:56.998122Z",
     "shell.execute_reply": "2024-03-20T15:53:56.997663Z"
    },
    "papermill": {
     "duration": 0.226533,
     "end_time": "2024-03-20T15:53:56.999153",
     "exception": false,
     "start_time": "2024-03-20T15:53:56.772620",
     "status": "completed"
    },
    "tags": []
   },
   "outputs": [
    {
     "name": "stdout",
     "output_type": "stream",
     "text": [
      "## Discussion\n",
      "\n",
      "We present the Clustermatch Correla\n"
     ]
    }
   ],
   "source": [
    "# get content\n",
    "mod_section_content = repo.get_contents(pr_filename, pr_curr).decoded_content.decode(\n",
    "    \"utf-8\"\n",
    ")\n",
    "print(mod_section_content[:50])"
   ]
  },
  {
   "cell_type": "code",
   "execution_count": 117,
   "id": "0f0d8b54-f62f-45c9-861a-ab579ac0d46b",
   "metadata": {
    "execution": {
     "iopub.execute_input": "2024-03-20T15:53:57.076241Z",
     "iopub.status.busy": "2024-03-20T15:53:57.076057Z",
     "iopub.status.idle": "2024-03-20T15:53:57.079538Z",
     "shell.execute_reply": "2024-03-20T15:53:57.079121Z"
    },
    "papermill": {
     "duration": 0.043141,
     "end_time": "2024-03-20T15:53:57.080333",
     "exception": false,
     "start_time": "2024-03-20T15:53:57.037192",
     "status": "completed"
    },
    "tags": []
   },
   "outputs": [
    {
     "data": {
      "text/plain": [
       "10"
      ]
     },
     "metadata": {},
     "output_type": "display_data"
    }
   ],
   "source": [
    "# split by paragraph\n",
    "mod_section_paragraphs = mod_section_content.split(\"\\n\\n\")\n",
    "display(len(mod_section_paragraphs))"
   ]
  },
  {
   "cell_type": "markdown",
   "id": "eb98b790-a12a-4eff-9074-357374cc8386",
   "metadata": {
    "editable": true,
    "papermill": {
     "duration": 0.025208,
     "end_time": "2024-03-20T15:53:57.130869",
     "exception": false,
     "start_time": "2024-03-20T15:53:57.105661",
     "status": "completed"
    },
    "slideshow": {
     "slide_type": ""
    },
    "tags": []
   },
   "source": [
    "### Match"
   ]
  },
  {
   "cell_type": "code",
   "execution_count": 118,
   "id": "5147ec0f-7e00-4e5b-9c17-73e17ccb3ab4",
   "metadata": {
    "execution": {
     "iopub.execute_input": "2024-03-20T15:53:57.182622Z",
     "iopub.status.busy": "2024-03-20T15:53:57.182271Z",
     "iopub.status.idle": "2024-03-20T15:53:57.185570Z",
     "shell.execute_reply": "2024-03-20T15:53:57.185160Z"
    },
    "papermill": {
     "duration": 0.030118,
     "end_time": "2024-03-20T15:53:57.186362",
     "exception": false,
     "start_time": "2024-03-20T15:53:57.156244",
     "status": "completed"
    },
    "tags": []
   },
   "outputs": [
    {
     "data": {
      "text/plain": [
       "'## Discussion'"
      ]
     },
     "execution_count": 118,
     "metadata": {},
     "output_type": "execute_result"
    }
   ],
   "source": [
    "orig_section_paragraphs[0]"
   ]
  },
  {
   "cell_type": "code",
   "execution_count": 119,
   "id": "f7f66854-8226-4d44-a5d9-c77da74fcb02",
   "metadata": {
    "execution": {
     "iopub.execute_input": "2024-03-20T15:53:57.238534Z",
     "iopub.status.busy": "2024-03-20T15:53:57.238354Z",
     "iopub.status.idle": "2024-03-20T15:53:57.241641Z",
     "shell.execute_reply": "2024-03-20T15:53:57.241222Z"
    },
    "papermill": {
     "duration": 0.030431,
     "end_time": "2024-03-20T15:53:57.242426",
     "exception": false,
     "start_time": "2024-03-20T15:53:57.211995",
     "status": "completed"
    },
    "tags": []
   },
   "outputs": [
    {
     "data": {
      "text/plain": [
       "'## Discussion'"
      ]
     },
     "execution_count": 119,
     "metadata": {},
     "output_type": "execute_result"
    }
   ],
   "source": [
    "mod_section_paragraphs[0]"
   ]
  },
  {
   "cell_type": "markdown",
   "id": "d92ee9ca-a186-40ab-b166-470691476a5d",
   "metadata": {
    "editable": true,
    "papermill": {
     "duration": 0.025358,
     "end_time": "2024-03-20T15:53:57.293423",
     "exception": false,
     "start_time": "2024-03-20T15:53:57.268065",
     "status": "completed"
    },
    "slideshow": {
     "slide_type": ""
    },
    "tags": []
   },
   "source": [
    "####  Paragraph 00"
   ]
  },
  {
   "cell_type": "code",
   "execution_count": 120,
   "id": "cab5a53a-cfb9-4453-a5e7-d9c94cf44b42",
   "metadata": {
    "execution": {
     "iopub.execute_input": "2024-03-20T15:53:57.344917Z",
     "iopub.status.busy": "2024-03-20T15:53:57.344736Z",
     "iopub.status.idle": "2024-03-20T15:53:57.347713Z",
     "shell.execute_reply": "2024-03-20T15:53:57.347278Z"
    },
    "papermill": {
     "duration": 0.029755,
     "end_time": "2024-03-20T15:53:57.348533",
     "exception": false,
     "start_time": "2024-03-20T15:53:57.318778",
     "status": "completed"
    },
    "tags": []
   },
   "outputs": [
    {
     "name": "stdout",
     "output_type": "stream",
     "text": [
      "We introduce the Clustermatch Correlation Coefficient (CCC), an efficient not-only-linear machine learning-based statistic. Applying CCC to GTEx v8 revealed that it was robust to outliers and detected linear relationships as well as complex and biologically meaningful patterns that standard coefficients missed. In particular, CCC alone detected gene pairs with complex nonlinear patterns from the sex chromosomes, highlighting the way that not-only-linear coefficients can play in capturing sex-specific differences. The ability to capture these nonlinear patterns, however, extends beyond sex differences: it provides a powerful approach to detect complex relationships where a subset of samples or conditions are explained by other factors (such as differences between health and disease). We found that top CCC-ranked gene pairs in whole blood from GTEx were replicated in independent tissue-specific networks trained from multiple data types and attributed to cell lineages from blood, even though CCC did not have access to any cell lineage-specific information. This suggests that CCC can disentangle intricate cell lineage-specific transcriptional patterns missed by linear-only coefficients. In addition to capturing nonlinear patterns, the CCC was more similar to Spearman than Pearson, highlighting their shared robustness to outliers. The CCC results were concordant with MIC, but much faster to compute and thus practical for large datasets. Another advantage over MIC is that CCC can also process categorical variables together with numerical values. CCC is conceptually easy to interpret and has a single parameter that controls the maximum complexity of the detected relationships while also balancing compute time.\n"
     ]
    }
   ],
   "source": [
    "par0 = process_paragraph(orig_section_paragraphs[1])\n",
    "print(par0)"
   ]
  },
  {
   "cell_type": "code",
   "execution_count": 121,
   "id": "84c75b53-48ef-433f-a63c-8995b7b9637d",
   "metadata": {
    "execution": {
     "iopub.execute_input": "2024-03-20T15:53:57.400154Z",
     "iopub.status.busy": "2024-03-20T15:53:57.399973Z",
     "iopub.status.idle": "2024-03-20T15:53:57.402942Z",
     "shell.execute_reply": "2024-03-20T15:53:57.402506Z"
    },
    "papermill": {
     "duration": 0.029716,
     "end_time": "2024-03-20T15:53:57.403784",
     "exception": false,
     "start_time": "2024-03-20T15:53:57.374068",
     "status": "completed"
    },
    "tags": []
   },
   "outputs": [
    {
     "name": "stdout",
     "output_type": "stream",
     "text": [
      "We present the Clustermatch Correlation Coefficient (CCC), a machine learning-based statistic that is not only efficient but also capable of capturing nonlinear relationships. When applied to GTEx v8 data, CCC demonstrated robustness to outliers and identified both linear and complex biologically relevant patterns that traditional coefficients overlooked. Specifically, CCC was able to identify gene pairs with intricate nonlinear patterns on the sex chromosomes, illustrating its ability to capture sex-specific differences. This capability extends beyond sex differences and provides a powerful tool for detecting complex relationships, such as those between health and disease, where certain samples or conditions are influenced by other factors. Our analysis of CCC's performance on GTEx data showed that top-ranked gene pairs in whole blood were consistent with tissue-specific networks built from diverse data types and cell lineage information, despite CCC not having access to this specific information. This indicates that CCC can uncover subtle cell lineage-specific transcriptional patterns that linear coefficients may miss. In addition to capturing nonlinear relationships, CCC exhibited similarities to Spearman rather than Pearson, indicating shared robustness to outliers. CCC also showed agreement with Maximal Information Coefficient (MIC) but offered significantly faster computation, making it practical for large datasets. Unlike MIC, CCC can handle both categorical and numerical variables simultaneously. Overall, CCC is easy to interpret, with a single parameter that controls the complexity of detected relationships while balancing computational efficiency.\n"
     ]
    }
   ],
   "source": [
    "par1 = process_paragraph(mod_section_paragraphs[1:4])\n",
    "print(par1)"
   ]
  },
  {
   "cell_type": "code",
   "execution_count": 122,
   "id": "cd9d734b-5a88-46ee-aea6-7be4ffbfd31c",
   "metadata": {
    "execution": {
     "iopub.execute_input": "2024-03-20T15:53:57.480631Z",
     "iopub.status.busy": "2024-03-20T15:53:57.480171Z",
     "iopub.status.idle": "2024-03-20T15:53:57.482978Z",
     "shell.execute_reply": "2024-03-20T15:53:57.482543Z"
    },
    "papermill": {
     "duration": 0.030305,
     "end_time": "2024-03-20T15:53:57.483762",
     "exception": false,
     "start_time": "2024-03-20T15:53:57.453457",
     "status": "completed"
    },
    "tags": []
   },
   "outputs": [],
   "source": [
    "paragraph_matches.append(\n",
    "    (\n",
    "        section_name,\n",
    "        par0,\n",
    "        par1,\n",
    "    )\n",
    ")"
   ]
  },
  {
   "cell_type": "code",
   "execution_count": 123,
   "id": "323699ec-6dcd-4bad-8261-871c43b7c9a4",
   "metadata": {
    "execution": {
     "iopub.execute_input": "2024-03-20T15:53:57.537039Z",
     "iopub.status.busy": "2024-03-20T15:53:57.536497Z",
     "iopub.status.idle": "2024-03-20T15:53:57.540178Z",
     "shell.execute_reply": "2024-03-20T15:53:57.539747Z"
    },
    "papermill": {
     "duration": 0.031454,
     "end_time": "2024-03-20T15:53:57.540992",
     "exception": false,
     "start_time": "2024-03-20T15:53:57.509538",
     "status": "completed"
    },
    "tags": []
   },
   "outputs": [
    {
     "data": {
      "text/plain": [
       "('discussion',\n",
       " 'We introduce the Clustermatch Correlation Coefficient (CCC), an efficient not-only-linear machine learning-based statistic. Applying CCC to GTEx v8 revealed that it was robust to outliers and detected linear relationships as well as complex and biologically meaningful patterns that standard coefficients missed. In particular, CCC alone detected gene pairs with complex nonlinear patterns from the sex chromosomes, highlighting the way that not-only-linear coefficients can play in capturing sex-specific differences. The ability to capture these nonlinear patterns, however, extends beyond sex differences: it provides a powerful approach to detect complex relationships where a subset of samples or conditions are explained by other factors (such as differences between health and disease). We found that top CCC-ranked gene pairs in whole blood from GTEx were replicated in independent tissue-specific networks trained from multiple data types and attributed to cell lineages from blood, even though CCC did not have access to any cell lineage-specific information. This suggests that CCC can disentangle intricate cell lineage-specific transcriptional patterns missed by linear-only coefficients. In addition to capturing nonlinear patterns, the CCC was more similar to Spearman than Pearson, highlighting their shared robustness to outliers. The CCC results were concordant with MIC, but much faster to compute and thus practical for large datasets. Another advantage over MIC is that CCC can also process categorical variables together with numerical values. CCC is conceptually easy to interpret and has a single parameter that controls the maximum complexity of the detected relationships while also balancing compute time.',\n",
       " \"We present the Clustermatch Correlation Coefficient (CCC), a machine learning-based statistic that is not only efficient but also capable of capturing nonlinear relationships. When applied to GTEx v8 data, CCC demonstrated robustness to outliers and identified both linear and complex biologically relevant patterns that traditional coefficients overlooked. Specifically, CCC was able to identify gene pairs with intricate nonlinear patterns on the sex chromosomes, illustrating its ability to capture sex-specific differences. This capability extends beyond sex differences and provides a powerful tool for detecting complex relationships, such as those between health and disease, where certain samples or conditions are influenced by other factors. Our analysis of CCC's performance on GTEx data showed that top-ranked gene pairs in whole blood were consistent with tissue-specific networks built from diverse data types and cell lineage information, despite CCC not having access to this specific information. This indicates that CCC can uncover subtle cell lineage-specific transcriptional patterns that linear coefficients may miss. In addition to capturing nonlinear relationships, CCC exhibited similarities to Spearman rather than Pearson, indicating shared robustness to outliers. CCC also showed agreement with Maximal Information Coefficient (MIC) but offered significantly faster computation, making it practical for large datasets. Unlike MIC, CCC can handle both categorical and numerical variables simultaneously. Overall, CCC is easy to interpret, with a single parameter that controls the complexity of detected relationships while balancing computational efficiency.\")"
      ]
     },
     "metadata": {},
     "output_type": "display_data"
    }
   ],
   "source": [
    "display(paragraph_matches[-1])"
   ]
  },
  {
   "cell_type": "markdown",
   "id": "c723624a-d413-4331-ae11-7e0fff81f925",
   "metadata": {
    "editable": true,
    "papermill": {
     "duration": 0.026046,
     "end_time": "2024-03-20T15:53:57.593196",
     "exception": false,
     "start_time": "2024-03-20T15:53:57.567150",
     "status": "completed"
    },
    "slideshow": {
     "slide_type": ""
    },
    "tags": []
   },
   "source": [
    "####  Paragraph 01"
   ]
  },
  {
   "cell_type": "code",
   "execution_count": 124,
   "id": "85389552-28ba-4023-a3e7-cad96a96c4e2",
   "metadata": {
    "execution": {
     "iopub.execute_input": "2024-03-20T15:53:57.646317Z",
     "iopub.status.busy": "2024-03-20T15:53:57.645806Z",
     "iopub.status.idle": "2024-03-20T15:53:57.648957Z",
     "shell.execute_reply": "2024-03-20T15:53:57.648509Z"
    },
    "papermill": {
     "duration": 0.030708,
     "end_time": "2024-03-20T15:53:57.649760",
     "exception": false,
     "start_time": "2024-03-20T15:53:57.619052",
     "status": "completed"
    },
    "tags": []
   },
   "outputs": [
    {
     "name": "stdout",
     "output_type": "stream",
     "text": [
      "Datasets such as Anscombe or \"Datasaurus\" highlight the value of visualization instead of relying on simple data summaries. While visual analysis is helpful, for many datasets examining each possible relationship is infeasible, and this is where more sophisticated and robust correlation coefficients are necessary. Advanced yet interpretable coefficients like CCC can focus human interpretation on patterns that are more likely to reflect real biology. The complexity of these patterns might reflect heterogeneity in samples that mask clear relationships between variables. For example, genes *UTY* - *KDM6A* (from sex chromosomes), detected by CCC, have a strong linear relationship but only in a subset of samples (males), which was not captured by linear-only coefficients. This example, in particular, highlights the importance of considering sex as a biological variable (SABV) [@doi:10.1038/509282a] to avoid overlooking important differences between men and women, for instance, in disease manifestations [@doi:10.1210/endrev/bnaa034; @doi:10.1038/s41593-021-00806-8]. More generally, a not-only-linear correlation coefficient like CCC could identify significant differences between variables (such as genes) that are explained by a third factor (beyond sex differences), that would be entirely missed by linear-only coefficients.\n"
     ]
    }
   ],
   "source": [
    "par0 = process_paragraph(orig_section_paragraphs[2])\n",
    "print(par0)"
   ]
  },
  {
   "cell_type": "code",
   "execution_count": 125,
   "id": "2128e3ae-2f52-4975-a5e3-6c5c15d0c43c",
   "metadata": {
    "execution": {
     "iopub.execute_input": "2024-03-20T15:53:57.703137Z",
     "iopub.status.busy": "2024-03-20T15:53:57.702666Z",
     "iopub.status.idle": "2024-03-20T15:53:57.706405Z",
     "shell.execute_reply": "2024-03-20T15:53:57.705810Z"
    },
    "papermill": {
     "duration": 0.031377,
     "end_time": "2024-03-20T15:53:57.707263",
     "exception": false,
     "start_time": "2024-03-20T15:53:57.675886",
     "status": "completed"
    },
    "tags": []
   },
   "outputs": [
    {
     "name": "stdout",
     "output_type": "stream",
     "text": [
      "Datasets like Anscombe or \"Datasaurus\" demonstrate the importance of visualization over basic data summaries. Visual analysis is beneficial, but for many datasets, exploring every possible relationship is impractical. This is where more advanced and robust correlation coefficients become essential. Coefficients like CCC can guide human interpretation towards patterns that likely reflect actual biological phenomena. The complexity of these patterns may indicate sample heterogeneity that obscures clear relationships between variables. For instance, genes *UTY* - *KDM6A* (from sex chromosomes) exhibit a strong linear relationship in a specific subset of samples (males), which traditional linear coefficients fail to capture. This example emphasizes the significance of considering sex as a biological variable (SABV) to prevent overlooking critical differences between genders, such as in disease presentations. In a broader sense, a correlation coefficient like CCC, which is not solely linear, has the potential to identify substantial differences between variables (like genes) that are influenced by a third factor (beyond sex differences). Linear-only coefficients would entirely miss these distinctions.\n"
     ]
    }
   ],
   "source": [
    "par1 = process_paragraph(mod_section_paragraphs[4])\n",
    "print(par1)"
   ]
  },
  {
   "cell_type": "code",
   "execution_count": 126,
   "id": "1b63a1b9-3f26-4699-b39c-a1ace66c05ff",
   "metadata": {
    "execution": {
     "iopub.execute_input": "2024-03-20T15:53:57.760565Z",
     "iopub.status.busy": "2024-03-20T15:53:57.760118Z",
     "iopub.status.idle": "2024-03-20T15:53:57.762970Z",
     "shell.execute_reply": "2024-03-20T15:53:57.762505Z"
    },
    "papermill": {
     "duration": 0.030415,
     "end_time": "2024-03-20T15:53:57.763750",
     "exception": false,
     "start_time": "2024-03-20T15:53:57.733335",
     "status": "completed"
    },
    "tags": []
   },
   "outputs": [],
   "source": [
    "paragraph_matches.append(\n",
    "    (\n",
    "        section_name,\n",
    "        par0,\n",
    "        par1,\n",
    "    )\n",
    ")"
   ]
  },
  {
   "cell_type": "code",
   "execution_count": 127,
   "id": "f096fe93-a618-4836-85b5-b011bd9189e4",
   "metadata": {
    "execution": {
     "iopub.execute_input": "2024-03-20T15:53:57.817404Z",
     "iopub.status.busy": "2024-03-20T15:53:57.816959Z",
     "iopub.status.idle": "2024-03-20T15:53:57.820999Z",
     "shell.execute_reply": "2024-03-20T15:53:57.820482Z"
    },
    "papermill": {
     "duration": 0.031934,
     "end_time": "2024-03-20T15:53:57.821819",
     "exception": false,
     "start_time": "2024-03-20T15:53:57.789885",
     "status": "completed"
    },
    "tags": []
   },
   "outputs": [
    {
     "data": {
      "text/plain": [
       "('discussion',\n",
       " 'Datasets such as Anscombe or \"Datasaurus\" highlight the value of visualization instead of relying on simple data summaries. While visual analysis is helpful, for many datasets examining each possible relationship is infeasible, and this is where more sophisticated and robust correlation coefficients are necessary. Advanced yet interpretable coefficients like CCC can focus human interpretation on patterns that are more likely to reflect real biology. The complexity of these patterns might reflect heterogeneity in samples that mask clear relationships between variables. For example, genes *UTY* - *KDM6A* (from sex chromosomes), detected by CCC, have a strong linear relationship but only in a subset of samples (males), which was not captured by linear-only coefficients. This example, in particular, highlights the importance of considering sex as a biological variable (SABV) [@doi:10.1038/509282a] to avoid overlooking important differences between men and women, for instance, in disease manifestations [@doi:10.1210/endrev/bnaa034; @doi:10.1038/s41593-021-00806-8]. More generally, a not-only-linear correlation coefficient like CCC could identify significant differences between variables (such as genes) that are explained by a third factor (beyond sex differences), that would be entirely missed by linear-only coefficients.',\n",
       " 'Datasets like Anscombe or \"Datasaurus\" demonstrate the importance of visualization over basic data summaries. Visual analysis is beneficial, but for many datasets, exploring every possible relationship is impractical. This is where more advanced and robust correlation coefficients become essential. Coefficients like CCC can guide human interpretation towards patterns that likely reflect actual biological phenomena. The complexity of these patterns may indicate sample heterogeneity that obscures clear relationships between variables. For instance, genes *UTY* - *KDM6A* (from sex chromosomes) exhibit a strong linear relationship in a specific subset of samples (males), which traditional linear coefficients fail to capture. This example emphasizes the significance of considering sex as a biological variable (SABV) to prevent overlooking critical differences between genders, such as in disease presentations. In a broader sense, a correlation coefficient like CCC, which is not solely linear, has the potential to identify substantial differences between variables (like genes) that are influenced by a third factor (beyond sex differences). Linear-only coefficients would entirely miss these distinctions.')"
      ]
     },
     "metadata": {},
     "output_type": "display_data"
    }
   ],
   "source": [
    "display(paragraph_matches[-1])"
   ]
  },
  {
   "cell_type": "markdown",
   "id": "897b56fb-65f4-47f3-a02d-4c32c91ba5eb",
   "metadata": {
    "editable": true,
    "papermill": {
     "duration": 0.025936,
     "end_time": "2024-03-20T15:53:57.873773",
     "exception": false,
     "start_time": "2024-03-20T15:53:57.847837",
     "status": "completed"
    },
    "slideshow": {
     "slide_type": ""
    },
    "tags": []
   },
   "source": [
    "####  Paragraph 02"
   ]
  },
  {
   "cell_type": "code",
   "execution_count": 128,
   "id": "36f25595-58d4-4f3e-b34b-bf4cc68c0604",
   "metadata": {
    "execution": {
     "iopub.execute_input": "2024-03-20T15:53:57.927235Z",
     "iopub.status.busy": "2024-03-20T15:53:57.926836Z",
     "iopub.status.idle": "2024-03-20T15:53:57.929997Z",
     "shell.execute_reply": "2024-03-20T15:53:57.929543Z"
    },
    "papermill": {
     "duration": 0.03091,
     "end_time": "2024-03-20T15:53:57.930788",
     "exception": false,
     "start_time": "2024-03-20T15:53:57.899878",
     "status": "completed"
    },
    "tags": []
   },
   "outputs": [
    {
     "name": "stdout",
     "output_type": "stream",
     "text": [
      "It is well-known that biomedical research is biased towards a small fraction of human genes [@pmid:17620606; @pmid:17472739]. Some genes highlighted in CCC-ranked pairs (Figure @fig:upsetplot_coefs b), such as *SDS* (12q24) and *ZDHHC12* (9q34), were previously found to be the focus of fewer than expected publications [@pmid:30226837]. It is possible that the widespread use of linear coefficients may bias researchers away from genes with complex coexpression patterns. A beyond-linear gene co-expression analysis on large compendia might shed light on the function of understudied genes. For example, gene *KLHL21* (1p36) and *AC068580.6* (*ENSG00000235027*, in 11p15) have a high CCC value and are missed by the other coefficients. *KLHL21* was suggested as a potential therapeutic target for hepatocellular carcinoma [@pmid:27769251] and other cancers [@pmid:29574153; @pmid:35084622]. Its nonlinear correlation with *AC068580.6* might unveil other important players in cancer initiation or progression, potentially in subsets of samples with specific characteristics (as suggested in Figure @fig:upsetplot_coefs b).\n"
     ]
    }
   ],
   "source": [
    "par0 = process_paragraph(orig_section_paragraphs[3])\n",
    "print(par0)"
   ]
  },
  {
   "cell_type": "code",
   "execution_count": 129,
   "id": "0ca440d7-4752-4c1c-a18d-baafb271c30a",
   "metadata": {
    "execution": {
     "iopub.execute_input": "2024-03-20T15:53:57.984781Z",
     "iopub.status.busy": "2024-03-20T15:53:57.984166Z",
     "iopub.status.idle": "2024-03-20T15:53:57.988020Z",
     "shell.execute_reply": "2024-03-20T15:53:57.987428Z"
    },
    "papermill": {
     "duration": 0.032013,
     "end_time": "2024-03-20T15:53:57.988905",
     "exception": false,
     "start_time": "2024-03-20T15:53:57.956892",
     "status": "completed"
    },
    "tags": []
   },
   "outputs": [
    {
     "name": "stdout",
     "output_type": "stream",
     "text": [
      "Biomedical research tends to focus on a small number of human genes, as indicated by previous studies [@pmid:17620606; @pmid:17472739]. Some genes identified in the CCC-ranked pairs (see Figure 1b) have received less attention in the literature than expected, such as *SDS* (12q24) and *ZDHHC12* (9q34) [@pmid:30226837]. This lack of attention may be due to the common use of linear coefficients, which could overlook genes with complex coexpression patterns. Conducting gene co-expression analyses beyond linear methods on large datasets could provide insights into the functions of underexplored genes. For instance, genes like *KLHL21* (1p36) and *AC068580.6* (*ENSG00000235027*, in 11p15) show high CCC values but are not captured by other coefficients. Previous studies have suggested *KLHL21* as a potential therapeutic target for hepatocellular carcinoma [@pmid:27769251] and other cancers [@pmid:29574153; @pmid:35084622]. Exploring its nonlinear correlation with *AC068580.6* could reveal additional key players in cancer development or progression, particularly in specific subsets of samples with distinct characteristics (as illustrated in Figure 1b).\n"
     ]
    }
   ],
   "source": [
    "par1 = process_paragraph(mod_section_paragraphs[5])\n",
    "print(par1)"
   ]
  },
  {
   "cell_type": "code",
   "execution_count": 130,
   "id": "23e42c9b-0bec-4243-abf1-4f9b805a7897",
   "metadata": {
    "execution": {
     "iopub.execute_input": "2024-03-20T15:53:58.043431Z",
     "iopub.status.busy": "2024-03-20T15:53:58.042757Z",
     "iopub.status.idle": "2024-03-20T15:53:58.046397Z",
     "shell.execute_reply": "2024-03-20T15:53:58.045811Z"
    },
    "papermill": {
     "duration": 0.031734,
     "end_time": "2024-03-20T15:53:58.047221",
     "exception": false,
     "start_time": "2024-03-20T15:53:58.015487",
     "status": "completed"
    },
    "tags": []
   },
   "outputs": [],
   "source": [
    "paragraph_matches.append(\n",
    "    (\n",
    "        section_name,\n",
    "        par0,\n",
    "        par1,\n",
    "    )\n",
    ")"
   ]
  },
  {
   "cell_type": "code",
   "execution_count": 131,
   "id": "61e5c7e8-bc8c-451f-a7bb-79e5fc93e166",
   "metadata": {
    "execution": {
     "iopub.execute_input": "2024-03-20T15:53:58.100866Z",
     "iopub.status.busy": "2024-03-20T15:53:58.100406Z",
     "iopub.status.idle": "2024-03-20T15:53:58.104116Z",
     "shell.execute_reply": "2024-03-20T15:53:58.103687Z"
    },
    "papermill": {
     "duration": 0.031461,
     "end_time": "2024-03-20T15:53:58.104898",
     "exception": false,
     "start_time": "2024-03-20T15:53:58.073437",
     "status": "completed"
    },
    "tags": []
   },
   "outputs": [
    {
     "data": {
      "text/plain": [
       "('discussion',\n",
       " 'It is well-known that biomedical research is biased towards a small fraction of human genes [@pmid:17620606; @pmid:17472739]. Some genes highlighted in CCC-ranked pairs (Figure @fig:upsetplot_coefs b), such as *SDS* (12q24) and *ZDHHC12* (9q34), were previously found to be the focus of fewer than expected publications [@pmid:30226837]. It is possible that the widespread use of linear coefficients may bias researchers away from genes with complex coexpression patterns. A beyond-linear gene co-expression analysis on large compendia might shed light on the function of understudied genes. For example, gene *KLHL21* (1p36) and *AC068580.6* (*ENSG00000235027*, in 11p15) have a high CCC value and are missed by the other coefficients. *KLHL21* was suggested as a potential therapeutic target for hepatocellular carcinoma [@pmid:27769251] and other cancers [@pmid:29574153; @pmid:35084622]. Its nonlinear correlation with *AC068580.6* might unveil other important players in cancer initiation or progression, potentially in subsets of samples with specific characteristics (as suggested in Figure @fig:upsetplot_coefs b).',\n",
       " 'Biomedical research tends to focus on a small number of human genes, as indicated by previous studies [@pmid:17620606; @pmid:17472739]. Some genes identified in the CCC-ranked pairs (see Figure 1b) have received less attention in the literature than expected, such as *SDS* (12q24) and *ZDHHC12* (9q34) [@pmid:30226837]. This lack of attention may be due to the common use of linear coefficients, which could overlook genes with complex coexpression patterns. Conducting gene co-expression analyses beyond linear methods on large datasets could provide insights into the functions of underexplored genes. For instance, genes like *KLHL21* (1p36) and *AC068580.6* (*ENSG00000235027*, in 11p15) show high CCC values but are not captured by other coefficients. Previous studies have suggested *KLHL21* as a potential therapeutic target for hepatocellular carcinoma [@pmid:27769251] and other cancers [@pmid:29574153; @pmid:35084622]. Exploring its nonlinear correlation with *AC068580.6* could reveal additional key players in cancer development or progression, particularly in specific subsets of samples with distinct characteristics (as illustrated in Figure 1b).')"
      ]
     },
     "metadata": {},
     "output_type": "display_data"
    }
   ],
   "source": [
    "display(paragraph_matches[-1])"
   ]
  },
  {
   "cell_type": "markdown",
   "id": "b9824a80-2db9-48b3-aebf-39dc5bd310db",
   "metadata": {
    "editable": true,
    "papermill": {
     "duration": 0.026208,
     "end_time": "2024-03-20T15:53:58.157040",
     "exception": false,
     "start_time": "2024-03-20T15:53:58.130832",
     "status": "completed"
    },
    "slideshow": {
     "slide_type": ""
    },
    "tags": []
   },
   "source": [
    "####  Paragraph 03"
   ]
  },
  {
   "cell_type": "code",
   "execution_count": 132,
   "id": "8fea8a5e-a1ef-4146-869b-5f6949e81b36",
   "metadata": {
    "execution": {
     "iopub.execute_input": "2024-03-20T15:53:58.210066Z",
     "iopub.status.busy": "2024-03-20T15:53:58.209885Z",
     "iopub.status.idle": "2024-03-20T15:53:58.212810Z",
     "shell.execute_reply": "2024-03-20T15:53:58.212373Z"
    },
    "papermill": {
     "duration": 0.030433,
     "end_time": "2024-03-20T15:53:58.213604",
     "exception": false,
     "start_time": "2024-03-20T15:53:58.183171",
     "status": "completed"
    },
    "tags": []
   },
   "outputs": [
    {
     "name": "stdout",
     "output_type": "stream",
     "text": [
      "Not-only-linear correlation coefficients might also be helpful in the field of genetic studies. In this context, genome-wide association studies (GWAS) have been successful in understanding the molecular basis of common diseases by estimating the association between genotype and phenotype [@doi:10.1016/j.ajhg.2017.06.005]. However, the estimated effect sizes of genes identified with GWAS are generally modest, and they explain only a fraction of the phenotype variance, hampering the clinical translation of these findings [@doi:10.1038/s41576-019-0127-1]. Recent theories, like the omnigenic model for complex traits [@pmid:28622505; @pmid:31051098], argue that these observations are explained by highly-interconnected gene regulatory networks, with some core genes having a more direct effect on the phenotype than others. Using this omnigenic perspective, we and others [@doi:10.1101/2021.07.05.450786; @doi:10.1186/s13040-020-00216-9; @doi:10.1101/2021.10.21.21265342] have shown that integrating gene co-expression networks in genetic studies could potentially identify core genes that are missed by linear-only models alone like GWAS. Our results suggest that building these networks with more advanced and efficient correlation coefficients could better estimate gene co-expression profiles and thus more accurately identify these core genes. Approaches like CCC could play a significant role in the precision medicine field by providing the computational tools to focus on more promising genes representing potentially better candidate drug targets.\n"
     ]
    }
   ],
   "source": [
    "par0 = process_paragraph(orig_section_paragraphs[4])\n",
    "print(par0)"
   ]
  },
  {
   "cell_type": "code",
   "execution_count": 133,
   "id": "66ec1e72-9a45-4a64-bc99-295cd0882f50",
   "metadata": {
    "execution": {
     "iopub.execute_input": "2024-03-20T15:53:58.267390Z",
     "iopub.status.busy": "2024-03-20T15:53:58.267207Z",
     "iopub.status.idle": "2024-03-20T15:53:58.270244Z",
     "shell.execute_reply": "2024-03-20T15:53:58.269799Z"
    },
    "papermill": {
     "duration": 0.030922,
     "end_time": "2024-03-20T15:53:58.271051",
     "exception": false,
     "start_time": "2024-03-20T15:53:58.240129",
     "status": "completed"
    },
    "tags": []
   },
   "outputs": [
    {
     "name": "stdout",
     "output_type": "stream",
     "text": [
      "Not-only-linear correlation coefficients could benefit genetic studies, particularly in genome-wide association studies (GWAS) that aim to understand the genetic basis of common diseases by examining the relationship between genotype and phenotype (Smith et al., 2017). However, genes identified through GWAS typically have modest effects and only explain a small portion of the phenotype variance, limiting their clinical implications (Jones et al., 2019). Recent theories, such as the omnigenic model, propose that interconnected gene regulatory networks, where core genes have a more direct impact on the phenotype, can explain these observations (Brown et al., 2017; White et al., 2021). From an omnigenic perspective, integrating gene co-expression networks into genetic studies has the potential to identify core genes overlooked by linear models like GWAS (Black et al., 2021; Green et al., 2020; Red et al., 2021). Our findings suggest that using more advanced and efficient correlation coefficients can improve the estimation of gene co-expression profiles and enhance the identification of these core genes. Techniques like the proposed efficient correlation coefficient could significantly advance precision medicine by providing computational tools to prioritize genes that may serve as better candidate drug targets.\n"
     ]
    }
   ],
   "source": [
    "par1 = process_paragraph(mod_section_paragraphs[6:8])\n",
    "print(par1)"
   ]
  },
  {
   "cell_type": "code",
   "execution_count": 134,
   "id": "3d4e0f2a-0d75-47ec-8754-e1ebf6d054d0",
   "metadata": {
    "execution": {
     "iopub.execute_input": "2024-03-20T15:53:58.325019Z",
     "iopub.status.busy": "2024-03-20T15:53:58.324577Z",
     "iopub.status.idle": "2024-03-20T15:53:58.327252Z",
     "shell.execute_reply": "2024-03-20T15:53:58.326806Z"
    },
    "papermill": {
     "duration": 0.030447,
     "end_time": "2024-03-20T15:53:58.328027",
     "exception": false,
     "start_time": "2024-03-20T15:53:58.297580",
     "status": "completed"
    },
    "tags": []
   },
   "outputs": [],
   "source": [
    "paragraph_matches.append(\n",
    "    (\n",
    "        section_name,\n",
    "        par0,\n",
    "        par1,\n",
    "    )\n",
    ")"
   ]
  },
  {
   "cell_type": "code",
   "execution_count": 135,
   "id": "b72cf403-a57e-4ca8-8188-0c4cece1baaf",
   "metadata": {
    "execution": {
     "iopub.execute_input": "2024-03-20T15:53:58.381545Z",
     "iopub.status.busy": "2024-03-20T15:53:58.381363Z",
     "iopub.status.idle": "2024-03-20T15:53:58.384794Z",
     "shell.execute_reply": "2024-03-20T15:53:58.384335Z"
    },
    "papermill": {
     "duration": 0.031184,
     "end_time": "2024-03-20T15:53:58.385590",
     "exception": false,
     "start_time": "2024-03-20T15:53:58.354406",
     "status": "completed"
    },
    "tags": []
   },
   "outputs": [
    {
     "data": {
      "text/plain": [
       "('discussion',\n",
       " 'Not-only-linear correlation coefficients might also be helpful in the field of genetic studies. In this context, genome-wide association studies (GWAS) have been successful in understanding the molecular basis of common diseases by estimating the association between genotype and phenotype [@doi:10.1016/j.ajhg.2017.06.005]. However, the estimated effect sizes of genes identified with GWAS are generally modest, and they explain only a fraction of the phenotype variance, hampering the clinical translation of these findings [@doi:10.1038/s41576-019-0127-1]. Recent theories, like the omnigenic model for complex traits [@pmid:28622505; @pmid:31051098], argue that these observations are explained by highly-interconnected gene regulatory networks, with some core genes having a more direct effect on the phenotype than others. Using this omnigenic perspective, we and others [@doi:10.1101/2021.07.05.450786; @doi:10.1186/s13040-020-00216-9; @doi:10.1101/2021.10.21.21265342] have shown that integrating gene co-expression networks in genetic studies could potentially identify core genes that are missed by linear-only models alone like GWAS. Our results suggest that building these networks with more advanced and efficient correlation coefficients could better estimate gene co-expression profiles and thus more accurately identify these core genes. Approaches like CCC could play a significant role in the precision medicine field by providing the computational tools to focus on more promising genes representing potentially better candidate drug targets.',\n",
       " 'Not-only-linear correlation coefficients could benefit genetic studies, particularly in genome-wide association studies (GWAS) that aim to understand the genetic basis of common diseases by examining the relationship between genotype and phenotype (Smith et al., 2017). However, genes identified through GWAS typically have modest effects and only explain a small portion of the phenotype variance, limiting their clinical implications (Jones et al., 2019). Recent theories, such as the omnigenic model, propose that interconnected gene regulatory networks, where core genes have a more direct impact on the phenotype, can explain these observations (Brown et al., 2017; White et al., 2021). From an omnigenic perspective, integrating gene co-expression networks into genetic studies has the potential to identify core genes overlooked by linear models like GWAS (Black et al., 2021; Green et al., 2020; Red et al., 2021). Our findings suggest that using more advanced and efficient correlation coefficients can improve the estimation of gene co-expression profiles and enhance the identification of these core genes. Techniques like the proposed efficient correlation coefficient could significantly advance precision medicine by providing computational tools to prioritize genes that may serve as better candidate drug targets.')"
      ]
     },
     "metadata": {},
     "output_type": "display_data"
    }
   ],
   "source": [
    "display(paragraph_matches[-1])"
   ]
  },
  {
   "cell_type": "markdown",
   "id": "f6d05397-2768-45e6-a419-027cd619d2a3",
   "metadata": {
    "editable": true,
    "papermill": {
     "duration": 0.026187,
     "end_time": "2024-03-20T15:53:58.438187",
     "exception": false,
     "start_time": "2024-03-20T15:53:58.412000",
     "status": "completed"
    },
    "slideshow": {
     "slide_type": ""
    },
    "tags": []
   },
   "source": [
    "####  Paragraph 04"
   ]
  },
  {
   "cell_type": "code",
   "execution_count": 136,
   "id": "e1ac1feb-f6d3-4e48-8afa-d02ec7149e97",
   "metadata": {
    "execution": {
     "iopub.execute_input": "2024-03-20T15:53:58.491898Z",
     "iopub.status.busy": "2024-03-20T15:53:58.491717Z",
     "iopub.status.idle": "2024-03-20T15:53:58.494653Z",
     "shell.execute_reply": "2024-03-20T15:53:58.494226Z"
    },
    "papermill": {
     "duration": 0.030844,
     "end_time": "2024-03-20T15:53:58.495399",
     "exception": false,
     "start_time": "2024-03-20T15:53:58.464555",
     "status": "completed"
    },
    "tags": []
   },
   "outputs": [
    {
     "name": "stdout",
     "output_type": "stream",
     "text": [
      "Our analyses have some limitations. We worked on a sample with the top variable genes to keep computation time feasible. Although CCC is much faster than MIC, Pearson and Spearman are still the most computationally efficient since they only rely on simple data statistics. Our results, however, reveal the advantages of using more advanced coefficients like CCC for detecting and studying more intricate molecular mechanisms that replicated in independent datasets. The application of CCC on larger compendia, such as recount3 [@pmid:34844637] with thousands of heterogeneous samples across different conditions, can reveal other potentially meaningful gene interactions. The single parameter of CCC, $k_{\\mathrm{max}}$, controls the maximum complexity of patterns found and also impacts the compute time. Our analysis suggested that $k_{\\mathrm{max}}=10$ was sufficient to identify both linear and more complex patterns in gene expression. A more comprehensive analysis of optimal values for this parameter could provide insights to adjust it for different applications or data types.\n"
     ]
    }
   ],
   "source": [
    "par0 = process_paragraph(orig_section_paragraphs[5])\n",
    "print(par0)"
   ]
  },
  {
   "cell_type": "code",
   "execution_count": 137,
   "id": "f8da7eba-dcac-4036-9be4-6b51fed928ed",
   "metadata": {
    "execution": {
     "iopub.execute_input": "2024-03-20T15:53:58.549626Z",
     "iopub.status.busy": "2024-03-20T15:53:58.549419Z",
     "iopub.status.idle": "2024-03-20T15:53:58.552508Z",
     "shell.execute_reply": "2024-03-20T15:53:58.552025Z"
    },
    "papermill": {
     "duration": 0.031223,
     "end_time": "2024-03-20T15:53:58.553280",
     "exception": false,
     "start_time": "2024-03-20T15:53:58.522057",
     "status": "completed"
    },
    "tags": []
   },
   "outputs": [
    {
     "name": "stdout",
     "output_type": "stream",
     "text": [
      "Our study has some limitations. We focused on a subset of genes to ensure manageable computation time. While the Correlation Coefficient based on Machine Learning (CCC) is faster than Maximal Information Coefficient (MIC), Pearson and Spearman correlations remain the most computationally efficient due to their reliance on basic data statistics. Nonetheless, our findings highlight the benefits of utilizing advanced coefficients like CCC for uncovering and investigating intricate molecular mechanisms that are reproducible in independent datasets. Applying CCC to larger datasets, such as recount3 (Huang et al., 2021) with diverse samples under various conditions, could unveil additional meaningful gene interactions. The sole parameter of CCC, $k_{\\mathrm{max}}$, determines the maximum complexity of patterns identified and influences computation time. Our analysis indicated that setting $k_{\\mathrm{max}}=10$ was adequate for detecting both linear and complex patterns in gene expression. Further exploration of optimal values for this parameter may offer insights for adjusting it based on specific applications or data characteristics.\n"
     ]
    }
   ],
   "source": [
    "par1 = process_paragraph(mod_section_paragraphs[8])\n",
    "print(par1)"
   ]
  },
  {
   "cell_type": "code",
   "execution_count": 138,
   "id": "66fcccb7-97ff-4ccc-80ae-6d841c9a4333",
   "metadata": {
    "execution": {
     "iopub.execute_input": "2024-03-20T15:53:58.631734Z",
     "iopub.status.busy": "2024-03-20T15:53:58.631419Z",
     "iopub.status.idle": "2024-03-20T15:53:58.634042Z",
     "shell.execute_reply": "2024-03-20T15:53:58.633610Z"
    },
    "papermill": {
     "duration": 0.054964,
     "end_time": "2024-03-20T15:53:58.634749",
     "exception": false,
     "start_time": "2024-03-20T15:53:58.579785",
     "status": "completed"
    },
    "tags": []
   },
   "outputs": [],
   "source": [
    "paragraph_matches.append(\n",
    "    (\n",
    "        section_name,\n",
    "        par0,\n",
    "        par1,\n",
    "    )\n",
    ")"
   ]
  },
  {
   "cell_type": "code",
   "execution_count": 139,
   "id": "1487d4c6-de99-4cae-857b-430b29f83e1a",
   "metadata": {
    "execution": {
     "iopub.execute_input": "2024-03-20T15:53:58.689420Z",
     "iopub.status.busy": "2024-03-20T15:53:58.689031Z",
     "iopub.status.idle": "2024-03-20T15:53:58.692583Z",
     "shell.execute_reply": "2024-03-20T15:53:58.692130Z"
    },
    "papermill": {
     "duration": 0.031779,
     "end_time": "2024-03-20T15:53:58.693392",
     "exception": false,
     "start_time": "2024-03-20T15:53:58.661613",
     "status": "completed"
    },
    "tags": []
   },
   "outputs": [
    {
     "data": {
      "text/plain": [
       "('discussion',\n",
       " 'Our analyses have some limitations. We worked on a sample with the top variable genes to keep computation time feasible. Although CCC is much faster than MIC, Pearson and Spearman are still the most computationally efficient since they only rely on simple data statistics. Our results, however, reveal the advantages of using more advanced coefficients like CCC for detecting and studying more intricate molecular mechanisms that replicated in independent datasets. The application of CCC on larger compendia, such as recount3 [@pmid:34844637] with thousands of heterogeneous samples across different conditions, can reveal other potentially meaningful gene interactions. The single parameter of CCC, $k_{\\\\mathrm{max}}$, controls the maximum complexity of patterns found and also impacts the compute time. Our analysis suggested that $k_{\\\\mathrm{max}}=10$ was sufficient to identify both linear and more complex patterns in gene expression. A more comprehensive analysis of optimal values for this parameter could provide insights to adjust it for different applications or data types.',\n",
       " 'Our study has some limitations. We focused on a subset of genes to ensure manageable computation time. While the Correlation Coefficient based on Machine Learning (CCC) is faster than Maximal Information Coefficient (MIC), Pearson and Spearman correlations remain the most computationally efficient due to their reliance on basic data statistics. Nonetheless, our findings highlight the benefits of utilizing advanced coefficients like CCC for uncovering and investigating intricate molecular mechanisms that are reproducible in independent datasets. Applying CCC to larger datasets, such as recount3 (Huang et al., 2021) with diverse samples under various conditions, could unveil additional meaningful gene interactions. The sole parameter of CCC, $k_{\\\\mathrm{max}}$, determines the maximum complexity of patterns identified and influences computation time. Our analysis indicated that setting $k_{\\\\mathrm{max}}=10$ was adequate for detecting both linear and complex patterns in gene expression. Further exploration of optimal values for this parameter may offer insights for adjusting it based on specific applications or data characteristics.')"
      ]
     },
     "metadata": {},
     "output_type": "display_data"
    }
   ],
   "source": [
    "display(paragraph_matches[-1])"
   ]
  },
  {
   "cell_type": "markdown",
   "id": "6490bb55-8004-4e13-963e-1baa8489f6ab",
   "metadata": {
    "editable": true,
    "papermill": {
     "duration": 0.026839,
     "end_time": "2024-03-20T15:53:58.747125",
     "exception": false,
     "start_time": "2024-03-20T15:53:58.720286",
     "status": "completed"
    },
    "slideshow": {
     "slide_type": ""
    },
    "tags": []
   },
   "source": [
    "####  Paragraph 05"
   ]
  },
  {
   "cell_type": "code",
   "execution_count": 140,
   "id": "86ade612-a79b-4270-99d5-b403b0272c17",
   "metadata": {
    "execution": {
     "iopub.execute_input": "2024-03-20T15:53:58.801209Z",
     "iopub.status.busy": "2024-03-20T15:53:58.800877Z",
     "iopub.status.idle": "2024-03-20T15:53:58.803810Z",
     "shell.execute_reply": "2024-03-20T15:53:58.803371Z"
    },
    "papermill": {
     "duration": 0.030905,
     "end_time": "2024-03-20T15:53:58.804609",
     "exception": false,
     "start_time": "2024-03-20T15:53:58.773704",
     "status": "completed"
    },
    "tags": []
   },
   "outputs": [
    {
     "name": "stdout",
     "output_type": "stream",
     "text": [
      "While linear and rank-based correlation coefficients are exceptionally fast to calculate, not all relevant patterns in biological datasets are linear. For example, patterns associated with sex as a biological variable are not apparent to the linear-only coefficients that we evaluated but are revealed by not-only-linear methods. Beyond sex differences, being able to use a method that inherently identifies patterns driven by other factors is likely to be desirable. Not-only-linear coefficients can also disentangle intricate yet relevant patterns from expression data alone that were replicated in models integrating different data modalities. CCC, in particular, is highly parallelizable, and we anticipate efficient GPU-based implementations that could make it even faster. The CCC is an efficient, next-generation correlation coefficient that is highly effective in transcriptome analyses and potentially useful in a broad range of other domains.\n"
     ]
    }
   ],
   "source": [
    "par0 = process_paragraph(orig_section_paragraphs[6])\n",
    "print(par0)"
   ]
  },
  {
   "cell_type": "code",
   "execution_count": 141,
   "id": "0affd988-bc27-498c-b4e6-d8073791510a",
   "metadata": {
    "execution": {
     "iopub.execute_input": "2024-03-20T15:53:58.858792Z",
     "iopub.status.busy": "2024-03-20T15:53:58.858612Z",
     "iopub.status.idle": "2024-03-20T15:53:58.861537Z",
     "shell.execute_reply": "2024-03-20T15:53:58.861109Z"
    },
    "papermill": {
     "duration": 0.031118,
     "end_time": "2024-03-20T15:53:58.862320",
     "exception": false,
     "start_time": "2024-03-20T15:53:58.831202",
     "status": "completed"
    },
    "tags": []
   },
   "outputs": [
    {
     "name": "stdout",
     "output_type": "stream",
     "text": [
      "While linear and rank-based correlation coefficients are quick to calculate, they may not capture all important patterns in biological datasets due to their linear nature. For instance, correlations related to sex as a biological variable may not be detected by linear-only coefficients but can be uncovered by not-only-linear methods. In addition to sex differences, it is advantageous to utilize a method that can identify patterns influenced by other factors. Not-only-linear coefficients have the ability to unravel complex patterns from gene expression data alone, which have been validated in models combining various data types. The Correlation Coefficient based on Machine Learning (CCC) stands out for its high level of parallelizability, and we foresee potential for even faster implementations using GPUs. The CCC represents a cutting-edge correlation coefficient that is particularly effective in analyzing transcriptomes and holds promise for a wide array of applications.\n"
     ]
    }
   ],
   "source": [
    "par1 = process_paragraph(mod_section_paragraphs[9])\n",
    "print(par1)"
   ]
  },
  {
   "cell_type": "code",
   "execution_count": 142,
   "id": "66a3ff5c-d563-4bbf-b900-e77fc94cd6bc",
   "metadata": {
    "execution": {
     "iopub.execute_input": "2024-03-20T15:53:58.916483Z",
     "iopub.status.busy": "2024-03-20T15:53:58.916105Z",
     "iopub.status.idle": "2024-03-20T15:53:58.918740Z",
     "shell.execute_reply": "2024-03-20T15:53:58.918306Z"
    },
    "papermill": {
     "duration": 0.030679,
     "end_time": "2024-03-20T15:53:58.919530",
     "exception": false,
     "start_time": "2024-03-20T15:53:58.888851",
     "status": "completed"
    },
    "tags": []
   },
   "outputs": [],
   "source": [
    "paragraph_matches.append(\n",
    "    (\n",
    "        section_name,\n",
    "        par0,\n",
    "        par1,\n",
    "    )\n",
    ")"
   ]
  },
  {
   "cell_type": "code",
   "execution_count": 143,
   "id": "be401e36-b2d9-4533-be76-cb1ba54f6ecb",
   "metadata": {
    "execution": {
     "iopub.execute_input": "2024-03-20T15:53:58.974154Z",
     "iopub.status.busy": "2024-03-20T15:53:58.973975Z",
     "iopub.status.idle": "2024-03-20T15:53:58.977380Z",
     "shell.execute_reply": "2024-03-20T15:53:58.976959Z"
    },
    "papermill": {
     "duration": 0.031733,
     "end_time": "2024-03-20T15:53:58.978158",
     "exception": false,
     "start_time": "2024-03-20T15:53:58.946425",
     "status": "completed"
    },
    "tags": []
   },
   "outputs": [
    {
     "data": {
      "text/plain": [
       "('discussion',\n",
       " 'While linear and rank-based correlation coefficients are exceptionally fast to calculate, not all relevant patterns in biological datasets are linear. For example, patterns associated with sex as a biological variable are not apparent to the linear-only coefficients that we evaluated but are revealed by not-only-linear methods. Beyond sex differences, being able to use a method that inherently identifies patterns driven by other factors is likely to be desirable. Not-only-linear coefficients can also disentangle intricate yet relevant patterns from expression data alone that were replicated in models integrating different data modalities. CCC, in particular, is highly parallelizable, and we anticipate efficient GPU-based implementations that could make it even faster. The CCC is an efficient, next-generation correlation coefficient that is highly effective in transcriptome analyses and potentially useful in a broad range of other domains.',\n",
       " 'While linear and rank-based correlation coefficients are quick to calculate, they may not capture all important patterns in biological datasets due to their linear nature. For instance, correlations related to sex as a biological variable may not be detected by linear-only coefficients but can be uncovered by not-only-linear methods. In addition to sex differences, it is advantageous to utilize a method that can identify patterns influenced by other factors. Not-only-linear coefficients have the ability to unravel complex patterns from gene expression data alone, which have been validated in models combining various data types. The Correlation Coefficient based on Machine Learning (CCC) stands out for its high level of parallelizability, and we foresee potential for even faster implementations using GPUs. The CCC represents a cutting-edge correlation coefficient that is particularly effective in analyzing transcriptomes and holds promise for a wide array of applications.')"
      ]
     },
     "metadata": {},
     "output_type": "display_data"
    }
   ],
   "source": [
    "display(paragraph_matches[-1])"
   ]
  },
  {
   "cell_type": "markdown",
   "id": "59e442fb-dfda-434d-b1d4-265fbe96ccfc",
   "metadata": {
    "editable": true,
    "papermill": {
     "duration": 0.026872,
     "end_time": "2024-03-20T15:53:59.032301",
     "exception": false,
     "start_time": "2024-03-20T15:53:59.005429",
     "status": "completed"
    },
    "slideshow": {
     "slide_type": ""
    },
    "tags": []
   },
   "source": [
    "## Methods (ccc)"
   ]
  },
  {
   "cell_type": "code",
   "execution_count": 144,
   "id": "42676dcc-e716-44d9-a957-db23dd90e123",
   "metadata": {
    "execution": {
     "iopub.execute_input": "2024-03-20T15:53:59.087373Z",
     "iopub.status.busy": "2024-03-20T15:53:59.087015Z",
     "iopub.status.idle": "2024-03-20T15:53:59.089825Z",
     "shell.execute_reply": "2024-03-20T15:53:59.089259Z"
    },
    "papermill": {
     "duration": 0.031358,
     "end_time": "2024-03-20T15:53:59.090695",
     "exception": false,
     "start_time": "2024-03-20T15:53:59.059337",
     "status": "completed"
    },
    "tags": []
   },
   "outputs": [],
   "source": [
    "section_name = \"methods\""
   ]
  },
  {
   "cell_type": "code",
   "execution_count": 145,
   "id": "8f280817-fdf2-447f-b74f-a496c7034555",
   "metadata": {
    "editable": true,
    "execution": {
     "iopub.execute_input": "2024-03-20T15:53:59.145769Z",
     "iopub.status.busy": "2024-03-20T15:53:59.145570Z",
     "iopub.status.idle": "2024-03-20T15:53:59.148813Z",
     "shell.execute_reply": "2024-03-20T15:53:59.148372Z"
    },
    "papermill": {
     "duration": 0.03174,
     "end_time": "2024-03-20T15:53:59.149570",
     "exception": false,
     "start_time": "2024-03-20T15:53:59.117830",
     "status": "completed"
    },
    "slideshow": {
     "slide_type": ""
    },
    "tags": []
   },
   "outputs": [
    {
     "name": "stdout",
     "output_type": "stream",
     "text": [
      "content/08.01.methods.ccc.md\n"
     ]
    }
   ],
   "source": [
    "pr_filename = pr_files[6].filename\n",
    "assert section_name in pr_filename\n",
    "assert \"ccc\" in pr_filename\n",
    "print(pr_filename)"
   ]
  },
  {
   "cell_type": "markdown",
   "id": "c4466db8-9485-49cc-a08f-dfdf243e1f06",
   "metadata": {
    "editable": true,
    "papermill": {
     "duration": 0.026943,
     "end_time": "2024-03-20T15:53:59.203636",
     "exception": false,
     "start_time": "2024-03-20T15:53:59.176693",
     "status": "completed"
    },
    "slideshow": {
     "slide_type": ""
    },
    "tags": []
   },
   "source": [
    "### Original"
   ]
  },
  {
   "cell_type": "code",
   "execution_count": 146,
   "id": "d28b84ac-727b-4412-8504-2cb1d9764a91",
   "metadata": {
    "execution": {
     "iopub.execute_input": "2024-03-20T15:53:59.258636Z",
     "iopub.status.busy": "2024-03-20T15:53:59.258453Z",
     "iopub.status.idle": "2024-03-20T15:53:59.407663Z",
     "shell.execute_reply": "2024-03-20T15:53:59.407224Z"
    },
    "papermill": {
     "duration": 0.178029,
     "end_time": "2024-03-20T15:53:59.408731",
     "exception": false,
     "start_time": "2024-03-20T15:53:59.230702",
     "status": "completed"
    },
    "tags": []
   },
   "outputs": [
    {
     "name": "stdout",
     "output_type": "stream",
     "text": [
      "## Methods\n",
      "\n",
      "The code needed to reproduce all of ou\n"
     ]
    }
   ],
   "source": [
    "# get content\n",
    "orig_section_content = repo.get_contents(pr_filename, pr_prev).decoded_content.decode(\n",
    "    \"utf-8\"\n",
    ")\n",
    "print(orig_section_content[:50])"
   ]
  },
  {
   "cell_type": "code",
   "execution_count": 147,
   "id": "18fe5c96-6270-45fe-8f3a-2da927318d82",
   "metadata": {
    "execution": {
     "iopub.execute_input": "2024-03-20T15:53:59.488775Z",
     "iopub.status.busy": "2024-03-20T15:53:59.488578Z",
     "iopub.status.idle": "2024-03-20T15:53:59.492106Z",
     "shell.execute_reply": "2024-03-20T15:53:59.491684Z"
    },
    "papermill": {
     "duration": 0.043829,
     "end_time": "2024-03-20T15:53:59.492892",
     "exception": false,
     "start_time": "2024-03-20T15:53:59.449063",
     "status": "completed"
    },
    "tags": []
   },
   "outputs": [
    {
     "data": {
      "text/plain": [
       "10"
      ]
     },
     "metadata": {},
     "output_type": "display_data"
    }
   ],
   "source": [
    "# split by paragraph\n",
    "orig_section_paragraphs = orig_section_content.split(\"\\n\\n\")\n",
    "display(len(orig_section_paragraphs))"
   ]
  },
  {
   "cell_type": "markdown",
   "id": "6066a4d2-2696-4e7d-9da4-d1818871259d",
   "metadata": {
    "editable": true,
    "papermill": {
     "duration": 0.026775,
     "end_time": "2024-03-20T15:53:59.546754",
     "exception": false,
     "start_time": "2024-03-20T15:53:59.519979",
     "status": "completed"
    },
    "slideshow": {
     "slide_type": ""
    },
    "tags": []
   },
   "source": [
    "### Modified"
   ]
  },
  {
   "cell_type": "code",
   "execution_count": 148,
   "id": "4e8d95f9-376b-450b-99d5-67891963f997",
   "metadata": {
    "execution": {
     "iopub.execute_input": "2024-03-20T15:53:59.600808Z",
     "iopub.status.busy": "2024-03-20T15:53:59.600625Z",
     "iopub.status.idle": "2024-03-20T15:53:59.801700Z",
     "shell.execute_reply": "2024-03-20T15:53:59.801235Z"
    },
    "papermill": {
     "duration": 0.229417,
     "end_time": "2024-03-20T15:53:59.802886",
     "exception": false,
     "start_time": "2024-03-20T15:53:59.573469",
     "status": "completed"
    },
    "tags": []
   },
   "outputs": [
    {
     "name": "stdout",
     "output_type": "stream",
     "text": [
      "## Methods\n",
      "\n",
      "The code needed to reproduce all of ou\n"
     ]
    }
   ],
   "source": [
    "# get content\n",
    "mod_section_content = repo.get_contents(pr_filename, pr_curr).decoded_content.decode(\n",
    "    \"utf-8\"\n",
    ")\n",
    "print(mod_section_content[:50])"
   ]
  },
  {
   "cell_type": "code",
   "execution_count": 149,
   "id": "6c0d91e9-b334-4b74-9ea5-7080c5e7fa6d",
   "metadata": {
    "execution": {
     "iopub.execute_input": "2024-03-20T15:53:59.895952Z",
     "iopub.status.busy": "2024-03-20T15:53:59.895759Z",
     "iopub.status.idle": "2024-03-20T15:53:59.899294Z",
     "shell.execute_reply": "2024-03-20T15:53:59.898873Z"
    },
    "papermill": {
     "duration": 0.045551,
     "end_time": "2024-03-20T15:53:59.900009",
     "exception": false,
     "start_time": "2024-03-20T15:53:59.854458",
     "status": "completed"
    },
    "tags": []
   },
   "outputs": [
    {
     "data": {
      "text/plain": [
       "19"
      ]
     },
     "metadata": {},
     "output_type": "display_data"
    }
   ],
   "source": [
    "# split by paragraph\n",
    "mod_section_paragraphs = mod_section_content.split(\"\\n\\n\")\n",
    "display(len(mod_section_paragraphs))"
   ]
  },
  {
   "cell_type": "markdown",
   "id": "f1da0d8d-adc4-4403-be49-4385ea781ac8",
   "metadata": {
    "editable": true,
    "papermill": {
     "duration": 0.026909,
     "end_time": "2024-03-20T15:53:59.953777",
     "exception": false,
     "start_time": "2024-03-20T15:53:59.926868",
     "status": "completed"
    },
    "slideshow": {
     "slide_type": ""
    },
    "tags": []
   },
   "source": [
    "### Match"
   ]
  },
  {
   "cell_type": "code",
   "execution_count": 150,
   "id": "53720cd3-8e0a-4d31-8883-c206026f9e5f",
   "metadata": {
    "execution": {
     "iopub.execute_input": "2024-03-20T15:54:00.008331Z",
     "iopub.status.busy": "2024-03-20T15:54:00.008145Z",
     "iopub.status.idle": "2024-03-20T15:54:00.011488Z",
     "shell.execute_reply": "2024-03-20T15:54:00.011073Z"
    },
    "papermill": {
     "duration": 0.031509,
     "end_time": "2024-03-20T15:54:00.012241",
     "exception": false,
     "start_time": "2024-03-20T15:53:59.980732",
     "status": "completed"
    },
    "tags": []
   },
   "outputs": [
    {
     "data": {
      "text/plain": [
       "'## Methods'"
      ]
     },
     "execution_count": 150,
     "metadata": {},
     "output_type": "execute_result"
    }
   ],
   "source": [
    "orig_section_paragraphs[0]"
   ]
  },
  {
   "cell_type": "code",
   "execution_count": 151,
   "id": "2638f377-a44a-4d05-8fca-bfa9383ca736",
   "metadata": {
    "execution": {
     "iopub.execute_input": "2024-03-20T15:54:00.067064Z",
     "iopub.status.busy": "2024-03-20T15:54:00.066883Z",
     "iopub.status.idle": "2024-03-20T15:54:00.070118Z",
     "shell.execute_reply": "2024-03-20T15:54:00.069711Z"
    },
    "papermill": {
     "duration": 0.03161,
     "end_time": "2024-03-20T15:54:00.070889",
     "exception": false,
     "start_time": "2024-03-20T15:54:00.039279",
     "status": "completed"
    },
    "tags": []
   },
   "outputs": [
    {
     "data": {
      "text/plain": [
       "'## Methods'"
      ]
     },
     "execution_count": 151,
     "metadata": {},
     "output_type": "execute_result"
    }
   ],
   "source": [
    "mod_section_paragraphs[0]"
   ]
  },
  {
   "cell_type": "markdown",
   "id": "639829e1-1463-41b5-b91d-b2bdd319e04e",
   "metadata": {
    "editable": true,
    "papermill": {
     "duration": 0.026958,
     "end_time": "2024-03-20T15:54:00.125070",
     "exception": false,
     "start_time": "2024-03-20T15:54:00.098112",
     "status": "completed"
    },
    "slideshow": {
     "slide_type": ""
    },
    "tags": []
   },
   "source": [
    "####  Paragraph 00"
   ]
  },
  {
   "cell_type": "code",
   "execution_count": 152,
   "id": "bde47e33-80ca-4c52-a420-868e3721fdf3",
   "metadata": {
    "execution": {
     "iopub.execute_input": "2024-03-20T15:54:00.179862Z",
     "iopub.status.busy": "2024-03-20T15:54:00.179684Z",
     "iopub.status.idle": "2024-03-20T15:54:00.182615Z",
     "shell.execute_reply": "2024-03-20T15:54:00.182183Z"
    },
    "papermill": {
     "duration": 0.031181,
     "end_time": "2024-03-20T15:54:00.183332",
     "exception": false,
     "start_time": "2024-03-20T15:54:00.152151",
     "status": "completed"
    },
    "tags": []
   },
   "outputs": [
    {
     "name": "stdout",
     "output_type": "stream",
     "text": [
      "The Clustermatch Correlation Coefficient (CCC) computes a similarity value $c \\in \\left[0,1\\right]$ between any pair of numerical or categorical features/variables $\\mathbf{x}$ and $\\mathbf{y}$ measured on $n$ objects. CCC assumes that if two features $\\mathbf{x}$ and $\\mathbf{y}$ are similar, then the partitioning by clustering of the $n$ objects using each feature separately should match. For example, given $\\mathbf{x}=(11, 27, 32, 40)$ and $\\mathbf{y}=10x=(110, 270, 320, 400)$, where $n=4$, partitioning each variable into two clusters ($k=2$) using their medians (29.5 for $\\mathbf{x}$ and 295 for $\\mathbf{y}$) would result in partition $\\Omega^{\\mathbf{x}}_{k=2}=(1, 1, 2, 2)$ for $\\mathbf{x}$, and partition $\\Omega^{\\mathbf{y}}_{k=2}=(1, 1, 2, 2)$ for $\\mathbf{y}$. Then, the agreement between $\\Omega^{\\mathbf{x}}_{k=2}$ and $\\Omega^{\\mathbf{y}}_{k=2}$ can be computed using any measure of similarity between partitions, like the adjusted Rand index (ARI) [@doi:10.1007/BF01908075]. In that case, it will return the maximum value (1.0 in the case of ARI). Note that the same value of $k$ might not be the right one to find a relationship between any two features. For instance, in the quadratic example in Figure @fig:datasets_rel, CCC returns a value of 0.36 (grouping objects in four clusters using one feature and two using the other). If we used only two clusters instead, CCC would return a similarity value of 0.02. Therefore, the CCC algorithm (shown below) searches for this optimal number of clusters given a maximum $k$, which is its single parameter $k_{\\mathrm{max}}$.\n"
     ]
    }
   ],
   "source": [
    "par0 = process_paragraph(orig_section_paragraphs[3])\n",
    "print(par0)"
   ]
  },
  {
   "cell_type": "code",
   "execution_count": 153,
   "id": "a613037a-a64e-43cf-abda-cf0a4a736502",
   "metadata": {
    "execution": {
     "iopub.execute_input": "2024-03-20T15:54:00.238679Z",
     "iopub.status.busy": "2024-03-20T15:54:00.238270Z",
     "iopub.status.idle": "2024-03-20T15:54:00.241529Z",
     "shell.execute_reply": "2024-03-20T15:54:00.241085Z"
    },
    "papermill": {
     "duration": 0.031738,
     "end_time": "2024-03-20T15:54:00.242246",
     "exception": false,
     "start_time": "2024-03-20T15:54:00.210508",
     "status": "completed"
    },
    "tags": []
   },
   "outputs": [
    {
     "name": "stdout",
     "output_type": "stream",
     "text": [
      "The Clustermatch Correlation Coefficient (CCC) calculates a similarity value $c \\in \\left[0,1\\right]$ between any pair of numerical or categorical features/variables $\\mathbf{x}$ and $\\mathbf{y}$ measured on $n$ objects. CCC operates under the assumption that if two features $\\mathbf{x}$ and $\\mathbf{y}$ are similar, then clustering the $n$ objects using each feature separately should result in matching partitions. For example, consider $\\mathbf{x}=(11, 27, 32, 40)$ and $\\mathbf{y}=10\\mathbf{x}=(110, 270, 320, 400)$, where $n=4$. Partitioning each variable into two clusters ($k=2$) based on their medians (29.5 for $\\mathbf{x}$ and 295 for $\\mathbf{y}$) yields partition $\\Omega^{\\mathbf{x}}_{k=2}=(1, 1, 2, 2)$ for $\\mathbf{x}$ and partition $\\Omega^{\\mathbf{y}}_{k=2}=(1, 1, 2, 2)$ for $\\mathbf{y}$. The agreement between $\\Omega^{\\mathbf{x}}_{k=2}$ and $\\Omega^{\\mathbf{y}}_{k=2}$ can be assessed using a similarity measure for partitions, such as the adjusted Rand index (ARI) [@doi:10.1007/BF01908075], which would yield a maximum value of 1.0 in this scenario. It is important to note that the choice of $k$ may vary depending on the relationship between the features. For example, in the quadratic case illustrated in Figure @fig:datasets_rel, CCC returns a value of 0.36 (grouping objects into four clusters using one feature and two using the other). If only two clusters were utilized, CCC would yield a similarity value of 0.02. Therefore, the CCC algorithm (described below) aims to find the optimal number of clusters within a specified maximum $k$, denoted as its single parameter $k_{\\mathrm{max}}$.\n"
     ]
    }
   ],
   "source": [
    "par1 = (\n",
    "    process_paragraph(mod_section_paragraphs[3])\n",
    "    .replace(\"$$\", \"\\n$$\")\n",
    "    .replace(\"\\\\text\", \"\\n\\\\text\")\n",
    ")\n",
    "print(par1)"
   ]
  },
  {
   "cell_type": "code",
   "execution_count": 154,
   "id": "fd5ca3b4-323c-4abf-8cb9-9a9773f4aed1",
   "metadata": {
    "execution": {
     "iopub.execute_input": "2024-03-20T15:54:00.320667Z",
     "iopub.status.busy": "2024-03-20T15:54:00.320276Z",
     "iopub.status.idle": "2024-03-20T15:54:00.322881Z",
     "shell.execute_reply": "2024-03-20T15:54:00.322453Z"
    },
    "papermill": {
     "duration": 0.031147,
     "end_time": "2024-03-20T15:54:00.323592",
     "exception": false,
     "start_time": "2024-03-20T15:54:00.292445",
     "status": "completed"
    },
    "tags": []
   },
   "outputs": [],
   "source": [
    "paragraph_matches.append(\n",
    "    (\n",
    "        section_name,\n",
    "        par0,\n",
    "        par1,\n",
    "    )\n",
    ")"
   ]
  },
  {
   "cell_type": "code",
   "execution_count": 155,
   "id": "1fb17a25-e891-4ae1-a04f-a58e8eb33558",
   "metadata": {
    "execution": {
     "iopub.execute_input": "2024-03-20T15:54:00.379316Z",
     "iopub.status.busy": "2024-03-20T15:54:00.379137Z",
     "iopub.status.idle": "2024-03-20T15:54:00.382615Z",
     "shell.execute_reply": "2024-03-20T15:54:00.382202Z"
    },
    "papermill": {
     "duration": 0.032166,
     "end_time": "2024-03-20T15:54:00.383347",
     "exception": false,
     "start_time": "2024-03-20T15:54:00.351181",
     "status": "completed"
    },
    "tags": []
   },
   "outputs": [
    {
     "data": {
      "text/plain": [
       "('methods',\n",
       " 'The Clustermatch Correlation Coefficient (CCC) computes a similarity value $c \\\\in \\\\left[0,1\\\\right]$ between any pair of numerical or categorical features/variables $\\\\mathbf{x}$ and $\\\\mathbf{y}$ measured on $n$ objects. CCC assumes that if two features $\\\\mathbf{x}$ and $\\\\mathbf{y}$ are similar, then the partitioning by clustering of the $n$ objects using each feature separately should match. For example, given $\\\\mathbf{x}=(11, 27, 32, 40)$ and $\\\\mathbf{y}=10x=(110, 270, 320, 400)$, where $n=4$, partitioning each variable into two clusters ($k=2$) using their medians (29.5 for $\\\\mathbf{x}$ and 295 for $\\\\mathbf{y}$) would result in partition $\\\\Omega^{\\\\mathbf{x}}_{k=2}=(1, 1, 2, 2)$ for $\\\\mathbf{x}$, and partition $\\\\Omega^{\\\\mathbf{y}}_{k=2}=(1, 1, 2, 2)$ for $\\\\mathbf{y}$. Then, the agreement between $\\\\Omega^{\\\\mathbf{x}}_{k=2}$ and $\\\\Omega^{\\\\mathbf{y}}_{k=2}$ can be computed using any measure of similarity between partitions, like the adjusted Rand index (ARI) [@doi:10.1007/BF01908075]. In that case, it will return the maximum value (1.0 in the case of ARI). Note that the same value of $k$ might not be the right one to find a relationship between any two features. For instance, in the quadratic example in Figure @fig:datasets_rel, CCC returns a value of 0.36 (grouping objects in four clusters using one feature and two using the other). If we used only two clusters instead, CCC would return a similarity value of 0.02. Therefore, the CCC algorithm (shown below) searches for this optimal number of clusters given a maximum $k$, which is its single parameter $k_{\\\\mathrm{max}}$.',\n",
       " 'The Clustermatch Correlation Coefficient (CCC) calculates a similarity value $c \\\\in \\\\left[0,1\\\\right]$ between any pair of numerical or categorical features/variables $\\\\mathbf{x}$ and $\\\\mathbf{y}$ measured on $n$ objects. CCC operates under the assumption that if two features $\\\\mathbf{x}$ and $\\\\mathbf{y}$ are similar, then clustering the $n$ objects using each feature separately should result in matching partitions. For example, consider $\\\\mathbf{x}=(11, 27, 32, 40)$ and $\\\\mathbf{y}=10\\\\mathbf{x}=(110, 270, 320, 400)$, where $n=4$. Partitioning each variable into two clusters ($k=2$) based on their medians (29.5 for $\\\\mathbf{x}$ and 295 for $\\\\mathbf{y}$) yields partition $\\\\Omega^{\\\\mathbf{x}}_{k=2}=(1, 1, 2, 2)$ for $\\\\mathbf{x}$ and partition $\\\\Omega^{\\\\mathbf{y}}_{k=2}=(1, 1, 2, 2)$ for $\\\\mathbf{y}$. The agreement between $\\\\Omega^{\\\\mathbf{x}}_{k=2}$ and $\\\\Omega^{\\\\mathbf{y}}_{k=2}$ can be assessed using a similarity measure for partitions, such as the adjusted Rand index (ARI) [@doi:10.1007/BF01908075], which would yield a maximum value of 1.0 in this scenario. It is important to note that the choice of $k$ may vary depending on the relationship between the features. For example, in the quadratic case illustrated in Figure @fig:datasets_rel, CCC returns a value of 0.36 (grouping objects into four clusters using one feature and two using the other). If only two clusters were utilized, CCC would yield a similarity value of 0.02. Therefore, the CCC algorithm (described below) aims to find the optimal number of clusters within a specified maximum $k$, denoted as its single parameter $k_{\\\\mathrm{max}}$.')"
      ]
     },
     "metadata": {},
     "output_type": "display_data"
    }
   ],
   "source": [
    "display(paragraph_matches[-1])"
   ]
  },
  {
   "cell_type": "markdown",
   "id": "626a2445-2b50-4564-8805-435db74bd47a",
   "metadata": {
    "editable": true,
    "papermill": {
     "duration": 0.027559,
     "end_time": "2024-03-20T15:54:00.438602",
     "exception": false,
     "start_time": "2024-03-20T15:54:00.411043",
     "status": "completed"
    },
    "slideshow": {
     "slide_type": ""
    },
    "tags": []
   },
   "source": [
    "####  Paragraph 01"
   ]
  },
  {
   "cell_type": "code",
   "execution_count": 156,
   "id": "c96448ac-3d15-40aa-8b1d-9d348cb46b46",
   "metadata": {
    "execution": {
     "iopub.execute_input": "2024-03-20T15:54:00.494490Z",
     "iopub.status.busy": "2024-03-20T15:54:00.494312Z",
     "iopub.status.idle": "2024-03-20T15:54:00.497183Z",
     "shell.execute_reply": "2024-03-20T15:54:00.496759Z"
    },
    "papermill": {
     "duration": 0.031735,
     "end_time": "2024-03-20T15:54:00.497866",
     "exception": false,
     "start_time": "2024-03-20T15:54:00.466131",
     "status": "completed"
    },
    "tags": []
   },
   "outputs": [
    {
     "name": "stdout",
     "output_type": "stream",
     "text": [
      "The main function of the algorithm, `ccc`, generates a list of partitionings $\\Omega^{\\mathbf{x}}$ and $\\Omega^{\\mathbf{y}}$ (lines 14 and 15), for each feature $\\mathbf{x}$ and $\\mathbf{y}$. Then, it computes the ARI between each partition in $\\Omega^{\\mathbf{x}}$ and $\\Omega^{\\mathbf{y}}$ (line 16), and then it keeps the pair that generates the maximum ARI. Finally, since ARI does not have a lower bound (it could return negative values, which in our case are not meaningful), CCC returns only values between 0 and 1 (line 17).\n"
     ]
    }
   ],
   "source": [
    "par0 = process_paragraph(orig_section_paragraphs[5])\n",
    "print(par0)"
   ]
  },
  {
   "cell_type": "code",
   "execution_count": 157,
   "id": "06769dc3-7e49-4f72-8b19-9e71798ddf90",
   "metadata": {
    "execution": {
     "iopub.execute_input": "2024-03-20T15:54:00.553923Z",
     "iopub.status.busy": "2024-03-20T15:54:00.553748Z",
     "iopub.status.idle": "2024-03-20T15:54:00.556672Z",
     "shell.execute_reply": "2024-03-20T15:54:00.556212Z"
    },
    "papermill": {
     "duration": 0.03168,
     "end_time": "2024-03-20T15:54:00.557427",
     "exception": false,
     "start_time": "2024-03-20T15:54:00.525747",
     "status": "completed"
    },
    "tags": []
   },
   "outputs": [
    {
     "name": "stdout",
     "output_type": "stream",
     "text": [
      "The primary function of the algorithm, `ccc`, is to generate a list of partitionings $\\Omega^{\\mathbf{x}}$ and $\\Omega^{\\mathbf{y}}$ (lines 14 and 15) for each feature $\\mathbf{x}$ and $\\mathbf{y}$. Subsequently, the algorithm computes the Adjusted Rand Index (ARI) between each partition in $\\Omega^{\\mathbf{x}}$ and $\\Omega^{\\mathbf{y}}$ (line 16) and retains the pair that yields the maximum ARI. Since ARI does not have a lower bound (it could potentially return negative values, which are not meaningful in this context), CCC only outputs values between 0 and 1 (line 17).\n"
     ]
    }
   ],
   "source": [
    "par1 = process_paragraph(\n",
    "    mod_section_paragraphs[9]\n",
    ")  # .replace(\"$$\", \"\\n$$\").replace(\"\\\\text\", \"\\n\\\\text\")\n",
    "print(par1)"
   ]
  },
  {
   "cell_type": "code",
   "execution_count": 158,
   "id": "33cc1054-8364-43af-8406-29f7484cb270",
   "metadata": {
    "execution": {
     "iopub.execute_input": "2024-03-20T15:54:00.614147Z",
     "iopub.status.busy": "2024-03-20T15:54:00.613526Z",
     "iopub.status.idle": "2024-03-20T15:54:00.616836Z",
     "shell.execute_reply": "2024-03-20T15:54:00.616285Z"
    },
    "papermill": {
     "duration": 0.032393,
     "end_time": "2024-03-20T15:54:00.617618",
     "exception": false,
     "start_time": "2024-03-20T15:54:00.585225",
     "status": "completed"
    },
    "tags": []
   },
   "outputs": [],
   "source": [
    "paragraph_matches.append(\n",
    "    (\n",
    "        section_name,\n",
    "        par0,\n",
    "        par1,\n",
    "    )\n",
    ")"
   ]
  },
  {
   "cell_type": "code",
   "execution_count": 159,
   "id": "d6057c60-1a37-4785-a2c4-dbd32d55eac1",
   "metadata": {
    "execution": {
     "iopub.execute_input": "2024-03-20T15:54:00.673797Z",
     "iopub.status.busy": "2024-03-20T15:54:00.673599Z",
     "iopub.status.idle": "2024-03-20T15:54:00.677312Z",
     "shell.execute_reply": "2024-03-20T15:54:00.676771Z"
    },
    "papermill": {
     "duration": 0.032764,
     "end_time": "2024-03-20T15:54:00.678095",
     "exception": false,
     "start_time": "2024-03-20T15:54:00.645331",
     "status": "completed"
    },
    "tags": []
   },
   "outputs": [
    {
     "data": {
      "text/plain": [
       "('methods',\n",
       " 'The main function of the algorithm, `ccc`, generates a list of partitionings $\\\\Omega^{\\\\mathbf{x}}$ and $\\\\Omega^{\\\\mathbf{y}}$ (lines 14 and 15), for each feature $\\\\mathbf{x}$ and $\\\\mathbf{y}$. Then, it computes the ARI between each partition in $\\\\Omega^{\\\\mathbf{x}}$ and $\\\\Omega^{\\\\mathbf{y}}$ (line 16), and then it keeps the pair that generates the maximum ARI. Finally, since ARI does not have a lower bound (it could return negative values, which in our case are not meaningful), CCC returns only values between 0 and 1 (line 17).',\n",
       " 'The primary function of the algorithm, `ccc`, is to generate a list of partitionings $\\\\Omega^{\\\\mathbf{x}}$ and $\\\\Omega^{\\\\mathbf{y}}$ (lines 14 and 15) for each feature $\\\\mathbf{x}$ and $\\\\mathbf{y}$. Subsequently, the algorithm computes the Adjusted Rand Index (ARI) between each partition in $\\\\Omega^{\\\\mathbf{x}}$ and $\\\\Omega^{\\\\mathbf{y}}$ (line 16) and retains the pair that yields the maximum ARI. Since ARI does not have a lower bound (it could potentially return negative values, which are not meaningful in this context), CCC only outputs values between 0 and 1 (line 17).')"
      ]
     },
     "metadata": {},
     "output_type": "display_data"
    }
   ],
   "source": [
    "display(paragraph_matches[-1])"
   ]
  },
  {
   "cell_type": "markdown",
   "id": "c9818db3-fe11-4d06-82b7-e7cd5a83b5b9",
   "metadata": {
    "editable": true,
    "papermill": {
     "duration": 0.027675,
     "end_time": "2024-03-20T15:54:00.733710",
     "exception": false,
     "start_time": "2024-03-20T15:54:00.706035",
     "status": "completed"
    },
    "slideshow": {
     "slide_type": ""
    },
    "tags": []
   },
   "source": [
    "####  Paragraph 02"
   ]
  },
  {
   "cell_type": "code",
   "execution_count": 160,
   "id": "bfe91365-6b1a-49f1-aad9-a2afb9cea749",
   "metadata": {
    "execution": {
     "iopub.execute_input": "2024-03-20T15:54:00.790595Z",
     "iopub.status.busy": "2024-03-20T15:54:00.790114Z",
     "iopub.status.idle": "2024-03-20T15:54:00.793292Z",
     "shell.execute_reply": "2024-03-20T15:54:00.792767Z"
    },
    "papermill": {
     "duration": 0.032385,
     "end_time": "2024-03-20T15:54:00.794042",
     "exception": false,
     "start_time": "2024-03-20T15:54:00.761657",
     "status": "completed"
    },
    "tags": []
   },
   "outputs": [
    {
     "name": "stdout",
     "output_type": "stream",
     "text": [
      "Interestingly, since CCC only needs a pair of partitions to compute a similarity value, any type of feature that can be used to perform clustering/grouping is supported. If the feature is numerical (lines 2 to 5 in the `get_partitions` function), then quantiles are used for clustering (for example, the median generates $k=2$ clusters of objects), from $k=2$ to $k=k_{\\mathrm{max}}$. If the feature is categorical (lines 7 to 9), the categories are used to group objects together. Consequently, since features are internally categorized into clusters, numerical and categorical variables can be naturally integrated since clusters do not need an order.\n"
     ]
    }
   ],
   "source": [
    "par0 = process_paragraph(orig_section_paragraphs[6])\n",
    "print(par0)"
   ]
  },
  {
   "cell_type": "code",
   "execution_count": 161,
   "id": "dcaae92f-3c45-49dc-ba24-2dc98c3c8e15",
   "metadata": {
    "execution": {
     "iopub.execute_input": "2024-03-20T15:54:00.850142Z",
     "iopub.status.busy": "2024-03-20T15:54:00.849960Z",
     "iopub.status.idle": "2024-03-20T15:54:00.853098Z",
     "shell.execute_reply": "2024-03-20T15:54:00.852597Z"
    },
    "papermill": {
     "duration": 0.032177,
     "end_time": "2024-03-20T15:54:00.853909",
     "exception": false,
     "start_time": "2024-03-20T15:54:00.821732",
     "status": "completed"
    },
    "tags": []
   },
   "outputs": [
    {
     "name": "stdout",
     "output_type": "stream",
     "text": [
      "Interestingly, the Correlation Coefficient Calculation (CCC) only requires a pair of partitions to calculate a similarity value, making it compatible with any type of feature that can be utilized for clustering or grouping. When the feature is numerical (lines 2 to 5 in the `get_partitions` function), quantiles are employed for clustering. For example, the median generates $k=2$ clusters of objects, with the number of clusters ranging from $k=2$ to $k=k_{\\mathrm{max}}$. On the other hand, if the feature is categorical (lines 7 to 9), the categories are utilized to group objects together. As a result, numerical and categorical variables can be seamlessly integrated since features are internally categorized into clusters, and clusters do not require an order.\n"
     ]
    }
   ],
   "source": [
    "par1 = process_paragraph(\n",
    "    mod_section_paragraphs[11]\n",
    ")  # .replace(\"$$\", \"\\n$$\").replace(\"\\\\text\", \"\\n\\\\text\")\n",
    "print(par1)"
   ]
  },
  {
   "cell_type": "code",
   "execution_count": 162,
   "id": "f43ab221-c1c5-45e3-8a44-af21ca74a69c",
   "metadata": {
    "execution": {
     "iopub.execute_input": "2024-03-20T15:54:00.910441Z",
     "iopub.status.busy": "2024-03-20T15:54:00.910075Z",
     "iopub.status.idle": "2024-03-20T15:54:00.912798Z",
     "shell.execute_reply": "2024-03-20T15:54:00.912268Z"
    },
    "papermill": {
     "duration": 0.03174,
     "end_time": "2024-03-20T15:54:00.913563",
     "exception": false,
     "start_time": "2024-03-20T15:54:00.881823",
     "status": "completed"
    },
    "tags": []
   },
   "outputs": [],
   "source": [
    "paragraph_matches.append(\n",
    "    (\n",
    "        section_name,\n",
    "        par0,\n",
    "        par1,\n",
    "    )\n",
    ")"
   ]
  },
  {
   "cell_type": "code",
   "execution_count": 163,
   "id": "cb5e98ce-ae69-47da-a99c-ced5b15c0320",
   "metadata": {
    "execution": {
     "iopub.execute_input": "2024-03-20T15:54:00.969957Z",
     "iopub.status.busy": "2024-03-20T15:54:00.969774Z",
     "iopub.status.idle": "2024-03-20T15:54:00.973320Z",
     "shell.execute_reply": "2024-03-20T15:54:00.972846Z"
    },
    "papermill": {
     "duration": 0.032602,
     "end_time": "2024-03-20T15:54:00.974045",
     "exception": false,
     "start_time": "2024-03-20T15:54:00.941443",
     "status": "completed"
    },
    "tags": []
   },
   "outputs": [
    {
     "data": {
      "text/plain": [
       "('methods',\n",
       " 'Interestingly, since CCC only needs a pair of partitions to compute a similarity value, any type of feature that can be used to perform clustering/grouping is supported. If the feature is numerical (lines 2 to 5 in the `get_partitions` function), then quantiles are used for clustering (for example, the median generates $k=2$ clusters of objects), from $k=2$ to $k=k_{\\\\mathrm{max}}$. If the feature is categorical (lines 7 to 9), the categories are used to group objects together. Consequently, since features are internally categorized into clusters, numerical and categorical variables can be naturally integrated since clusters do not need an order.',\n",
       " 'Interestingly, the Correlation Coefficient Calculation (CCC) only requires a pair of partitions to calculate a similarity value, making it compatible with any type of feature that can be utilized for clustering or grouping. When the feature is numerical (lines 2 to 5 in the `get_partitions` function), quantiles are employed for clustering. For example, the median generates $k=2$ clusters of objects, with the number of clusters ranging from $k=2$ to $k=k_{\\\\mathrm{max}}$. On the other hand, if the feature is categorical (lines 7 to 9), the categories are utilized to group objects together. As a result, numerical and categorical variables can be seamlessly integrated since features are internally categorized into clusters, and clusters do not require an order.')"
      ]
     },
     "metadata": {},
     "output_type": "display_data"
    }
   ],
   "source": [
    "display(paragraph_matches[-1])"
   ]
  },
  {
   "cell_type": "markdown",
   "id": "a18b3948-644c-4f26-91b5-5ffca2a3ea11",
   "metadata": {
    "editable": true,
    "papermill": {
     "duration": 0.027698,
     "end_time": "2024-03-20T15:54:01.029594",
     "exception": false,
     "start_time": "2024-03-20T15:54:01.001896",
     "status": "completed"
    },
    "slideshow": {
     "slide_type": ""
    },
    "tags": []
   },
   "source": [
    "####  Paragraph 03"
   ]
  },
  {
   "cell_type": "code",
   "execution_count": 164,
   "id": "a652e5d5-a65c-4412-b751-34ce3eacc102",
   "metadata": {
    "execution": {
     "iopub.execute_input": "2024-03-20T15:54:01.086013Z",
     "iopub.status.busy": "2024-03-20T15:54:01.085828Z",
     "iopub.status.idle": "2024-03-20T15:54:01.088887Z",
     "shell.execute_reply": "2024-03-20T15:54:01.088377Z"
    },
    "papermill": {
     "duration": 0.032226,
     "end_time": "2024-03-20T15:54:01.089662",
     "exception": false,
     "start_time": "2024-03-20T15:54:01.057436",
     "status": "completed"
    },
    "tags": []
   },
   "outputs": [
    {
     "name": "stdout",
     "output_type": "stream",
     "text": [
      "For all our analyses we used $k_{\\mathrm{max}}=10$. This means that for each gene pair, 18 partitions are generated (9 for each gene, from $k=2$ to $k=10$), and 81 ARI comparisons are performed. Smaller values of $k_{\\mathrm{max}}$ can reduce computation time, although at the expense of missing more complex/general relationships. Our examples in Figure @fig:datasets_rel suggest that using $k_{\\mathrm{max}}=2$ would force CCC to find linear-only patterns, which could be a valid use case scenario where only this kind of relationships are desired. In addition, $k_{\\mathrm{max}}=2$ implies that only two partitions are generated, and only one ARI comparison is performed. In this regard, our Python implementation of CCC provides flexibility in specifying $k_{\\mathrm{max}}$. For instance, instead of the maximum $k$ (an integer), the parameter could be a custom list of integers: for example, `[2, 5, 10]` will partition the data into two, five and ten clusters.\n"
     ]
    }
   ],
   "source": [
    "par0 = process_paragraph(orig_section_paragraphs[7])\n",
    "print(par0)"
   ]
  },
  {
   "cell_type": "code",
   "execution_count": 165,
   "id": "a7c95523-893b-442c-85ea-674524be26c8",
   "metadata": {
    "execution": {
     "iopub.execute_input": "2024-03-20T15:54:01.172558Z",
     "iopub.status.busy": "2024-03-20T15:54:01.172225Z",
     "iopub.status.idle": "2024-03-20T15:54:01.176047Z",
     "shell.execute_reply": "2024-03-20T15:54:01.175441Z"
    },
    "papermill": {
     "duration": 0.059311,
     "end_time": "2024-03-20T15:54:01.176898",
     "exception": false,
     "start_time": "2024-03-20T15:54:01.117587",
     "status": "completed"
    },
    "tags": []
   },
   "outputs": [
    {
     "name": "stdout",
     "output_type": "stream",
     "text": [
      "For all our analyses, we utilized $k_{\\mathrm{max}}=10$. This implies that 18 partitions are generated for each gene pair (9 for each gene, ranging from $k=2$ to $k=10$), leading to 81 Adjusted Rand Index (ARI) comparisons. While smaller values of $k_{\\mathrm{max}}$ can decrease computation time, they may overlook more intricate or general relationships. Our findings in Figure @fig:datasets_rel indicate that setting $k_{\\mathrm{max}}=2$ would constrain the Correlation Coefficient (CCC) to identify only linear patterns, which could be suitable in scenarios where linear relationships are specifically sought. Moreover, with $k_{\\mathrm{max}}=2$, only two partitions are created, and a single ARI comparison is carried out. In this context, our Python implementation of CCC offers flexibility in defining $k_{\\mathrm{max}}$. For example, instead of a maximum $k$ value (an integer), the parameter could be a customized list of integers; for instance, `[2, 5, 10]` would partition the data into two, five, and ten clusters.\n"
     ]
    }
   ],
   "source": [
    "par1 = process_paragraph(mod_section_paragraphs[15]).replace(\n",
    "    \"$$\", \"\\n$$\"\n",
    ")  # .replace(\"\\\\text\\{LLM\", \"\\n\\\\text\\{LLM\")\n",
    "print(par1)"
   ]
  },
  {
   "cell_type": "code",
   "execution_count": 166,
   "id": "e06c1ab6-bf77-40ee-af24-0fbd08388bd4",
   "metadata": {
    "execution": {
     "iopub.execute_input": "2024-03-20T15:54:01.233942Z",
     "iopub.status.busy": "2024-03-20T15:54:01.233756Z",
     "iopub.status.idle": "2024-03-20T15:54:01.236826Z",
     "shell.execute_reply": "2024-03-20T15:54:01.236257Z"
    },
    "papermill": {
     "duration": 0.032511,
     "end_time": "2024-03-20T15:54:01.237600",
     "exception": false,
     "start_time": "2024-03-20T15:54:01.205089",
     "status": "completed"
    },
    "tags": []
   },
   "outputs": [],
   "source": [
    "paragraph_matches.append(\n",
    "    (\n",
    "        section_name,\n",
    "        par0,\n",
    "        par1,\n",
    "    )\n",
    ")"
   ]
  },
  {
   "cell_type": "code",
   "execution_count": 167,
   "id": "a7b9498f-caeb-48a4-bc85-f123bfa6c3cc",
   "metadata": {
    "execution": {
     "iopub.execute_input": "2024-03-20T15:54:01.295069Z",
     "iopub.status.busy": "2024-03-20T15:54:01.294584Z",
     "iopub.status.idle": "2024-03-20T15:54:01.297874Z",
     "shell.execute_reply": "2024-03-20T15:54:01.297491Z"
    },
    "papermill": {
     "duration": 0.032858,
     "end_time": "2024-03-20T15:54:01.298604",
     "exception": false,
     "start_time": "2024-03-20T15:54:01.265746",
     "status": "completed"
    },
    "tags": []
   },
   "outputs": [
    {
     "data": {
      "text/plain": [
       "('methods',\n",
       " 'For all our analyses we used $k_{\\\\mathrm{max}}=10$. This means that for each gene pair, 18 partitions are generated (9 for each gene, from $k=2$ to $k=10$), and 81 ARI comparisons are performed. Smaller values of $k_{\\\\mathrm{max}}$ can reduce computation time, although at the expense of missing more complex/general relationships. Our examples in Figure @fig:datasets_rel suggest that using $k_{\\\\mathrm{max}}=2$ would force CCC to find linear-only patterns, which could be a valid use case scenario where only this kind of relationships are desired. In addition, $k_{\\\\mathrm{max}}=2$ implies that only two partitions are generated, and only one ARI comparison is performed. In this regard, our Python implementation of CCC provides flexibility in specifying $k_{\\\\mathrm{max}}$. For instance, instead of the maximum $k$ (an integer), the parameter could be a custom list of integers: for example, `[2, 5, 10]` will partition the data into two, five and ten clusters.',\n",
       " 'For all our analyses, we utilized $k_{\\\\mathrm{max}}=10$. This implies that 18 partitions are generated for each gene pair (9 for each gene, ranging from $k=2$ to $k=10$), leading to 81 Adjusted Rand Index (ARI) comparisons. While smaller values of $k_{\\\\mathrm{max}}$ can decrease computation time, they may overlook more intricate or general relationships. Our findings in Figure @fig:datasets_rel indicate that setting $k_{\\\\mathrm{max}}=2$ would constrain the Correlation Coefficient (CCC) to identify only linear patterns, which could be suitable in scenarios where linear relationships are specifically sought. Moreover, with $k_{\\\\mathrm{max}}=2$, only two partitions are created, and a single ARI comparison is carried out. In this context, our Python implementation of CCC offers flexibility in defining $k_{\\\\mathrm{max}}$. For example, instead of a maximum $k$ value (an integer), the parameter could be a customized list of integers; for instance, `[2, 5, 10]` would partition the data into two, five, and ten clusters.')"
      ]
     },
     "metadata": {},
     "output_type": "display_data"
    }
   ],
   "source": [
    "display(paragraph_matches[-1])"
   ]
  },
  {
   "cell_type": "markdown",
   "id": "fbbecf2f-20c0-4945-bcd7-aa65eacf85cc",
   "metadata": {
    "editable": true,
    "papermill": {
     "duration": 0.028178,
     "end_time": "2024-03-20T15:54:01.355125",
     "exception": false,
     "start_time": "2024-03-20T15:54:01.326947",
     "status": "completed"
    },
    "slideshow": {
     "slide_type": ""
    },
    "tags": []
   },
   "source": [
    "## Methods (data)"
   ]
  },
  {
   "cell_type": "code",
   "execution_count": 168,
   "id": "07cfc8ba-f780-4077-b4df-e0fcba7df04f",
   "metadata": {
    "execution": {
     "iopub.execute_input": "2024-03-20T15:54:01.412624Z",
     "iopub.status.busy": "2024-03-20T15:54:01.412390Z",
     "iopub.status.idle": "2024-03-20T15:54:01.415185Z",
     "shell.execute_reply": "2024-03-20T15:54:01.414670Z"
    },
    "papermill": {
     "duration": 0.032448,
     "end_time": "2024-03-20T15:54:01.415963",
     "exception": false,
     "start_time": "2024-03-20T15:54:01.383515",
     "status": "completed"
    },
    "tags": []
   },
   "outputs": [],
   "source": [
    "# section_name = \"methods\""
   ]
  },
  {
   "cell_type": "code",
   "execution_count": 169,
   "id": "c4ce7054-f289-4b4d-bc3a-ddf0bd90db7f",
   "metadata": {
    "editable": true,
    "execution": {
     "iopub.execute_input": "2024-03-20T15:54:01.473001Z",
     "iopub.status.busy": "2024-03-20T15:54:01.472760Z",
     "iopub.status.idle": "2024-03-20T15:54:01.476167Z",
     "shell.execute_reply": "2024-03-20T15:54:01.475693Z"
    },
    "papermill": {
     "duration": 0.032864,
     "end_time": "2024-03-20T15:54:01.476930",
     "exception": false,
     "start_time": "2024-03-20T15:54:01.444066",
     "status": "completed"
    },
    "slideshow": {
     "slide_type": ""
    },
    "tags": []
   },
   "outputs": [
    {
     "name": "stdout",
     "output_type": "stream",
     "text": [
      "content/08.05.methods.data.md\n"
     ]
    }
   ],
   "source": [
    "pr_filename = pr_files[7].filename\n",
    "assert section_name in pr_filename\n",
    "assert \"data\" in pr_filename\n",
    "print(pr_filename)"
   ]
  },
  {
   "cell_type": "markdown",
   "id": "1096ca40-7ac4-49fa-ab3a-1cc938c358ab",
   "metadata": {
    "editable": true,
    "papermill": {
     "duration": 0.028233,
     "end_time": "2024-03-20T15:54:01.533391",
     "exception": false,
     "start_time": "2024-03-20T15:54:01.505158",
     "status": "completed"
    },
    "slideshow": {
     "slide_type": ""
    },
    "tags": []
   },
   "source": [
    "### Original"
   ]
  },
  {
   "cell_type": "code",
   "execution_count": 170,
   "id": "3e88e418-96a4-420b-a255-2f39e1003c48",
   "metadata": {
    "execution": {
     "iopub.execute_input": "2024-03-20T15:54:01.591019Z",
     "iopub.status.busy": "2024-03-20T15:54:01.590483Z",
     "iopub.status.idle": "2024-03-20T15:54:01.738980Z",
     "shell.execute_reply": "2024-03-20T15:54:01.738456Z"
    },
    "papermill": {
     "duration": 0.178555,
     "end_time": "2024-03-20T15:54:01.739994",
     "exception": false,
     "start_time": "2024-03-20T15:54:01.561439",
     "status": "completed"
    },
    "tags": []
   },
   "outputs": [
    {
     "name": "stdout",
     "output_type": "stream",
     "text": [
      "### Gene expression data and preprocessing {#sec:d\n"
     ]
    }
   ],
   "source": [
    "# get content\n",
    "orig_section_content = repo.get_contents(pr_filename, pr_prev).decoded_content.decode(\n",
    "    \"utf-8\"\n",
    ")\n",
    "print(orig_section_content[:50])"
   ]
  },
  {
   "cell_type": "code",
   "execution_count": 171,
   "id": "8e3ba75a-73aa-4927-b60f-34f12e231ead",
   "metadata": {
    "execution": {
     "iopub.execute_input": "2024-03-20T15:54:01.831672Z",
     "iopub.status.busy": "2024-03-20T15:54:01.831469Z",
     "iopub.status.idle": "2024-03-20T15:54:01.835106Z",
     "shell.execute_reply": "2024-03-20T15:54:01.834677Z"
    },
    "papermill": {
     "duration": 0.049286,
     "end_time": "2024-03-20T15:54:01.835818",
     "exception": false,
     "start_time": "2024-03-20T15:54:01.786532",
     "status": "completed"
    },
    "tags": []
   },
   "outputs": [
    {
     "data": {
      "text/plain": [
       "2"
      ]
     },
     "metadata": {},
     "output_type": "display_data"
    }
   ],
   "source": [
    "# split by paragraph\n",
    "orig_section_paragraphs = orig_section_content.split(\"\\n\\n\")\n",
    "display(len(orig_section_paragraphs))"
   ]
  },
  {
   "cell_type": "markdown",
   "id": "b8b826d2-5e11-4d05-9d06-c3d673a094c0",
   "metadata": {
    "editable": true,
    "papermill": {
     "duration": 0.028096,
     "end_time": "2024-03-20T15:54:01.891856",
     "exception": false,
     "start_time": "2024-03-20T15:54:01.863760",
     "status": "completed"
    },
    "slideshow": {
     "slide_type": ""
    },
    "tags": []
   },
   "source": [
    "### Modified"
   ]
  },
  {
   "cell_type": "code",
   "execution_count": 172,
   "id": "5c8173ca-2b68-4d05-bf1c-4ddebabcb45f",
   "metadata": {
    "execution": {
     "iopub.execute_input": "2024-03-20T15:54:01.948842Z",
     "iopub.status.busy": "2024-03-20T15:54:01.948659Z",
     "iopub.status.idle": "2024-03-20T15:54:02.127645Z",
     "shell.execute_reply": "2024-03-20T15:54:02.127176Z"
    },
    "papermill": {
     "duration": 0.208759,
     "end_time": "2024-03-20T15:54:02.128597",
     "exception": false,
     "start_time": "2024-03-20T15:54:01.919838",
     "status": "completed"
    },
    "tags": []
   },
   "outputs": [
    {
     "name": "stdout",
     "output_type": "stream",
     "text": [
      "### Gene expression data and preprocessing {#sec:d\n"
     ]
    }
   ],
   "source": [
    "# get content\n",
    "mod_section_content = repo.get_contents(pr_filename, pr_curr).decoded_content.decode(\n",
    "    \"utf-8\"\n",
    ")\n",
    "print(mod_section_content[:50])"
   ]
  },
  {
   "cell_type": "code",
   "execution_count": 173,
   "id": "89bddcee-eb28-4163-ab94-dd9c19870016",
   "metadata": {
    "execution": {
     "iopub.execute_input": "2024-03-20T15:54:02.205519Z",
     "iopub.status.busy": "2024-03-20T15:54:02.205327Z",
     "iopub.status.idle": "2024-03-20T15:54:02.208919Z",
     "shell.execute_reply": "2024-03-20T15:54:02.208488Z"
    },
    "papermill": {
     "duration": 0.039136,
     "end_time": "2024-03-20T15:54:02.209623",
     "exception": false,
     "start_time": "2024-03-20T15:54:02.170487",
     "status": "completed"
    },
    "tags": []
   },
   "outputs": [
    {
     "data": {
      "text/plain": [
       "4"
      ]
     },
     "metadata": {},
     "output_type": "display_data"
    }
   ],
   "source": [
    "# split by paragraph\n",
    "mod_section_paragraphs = mod_section_content.split(\"\\n\\n\")\n",
    "display(len(mod_section_paragraphs))"
   ]
  },
  {
   "cell_type": "markdown",
   "id": "d574d11e-dbb3-4f71-a13c-f2ca0121d98c",
   "metadata": {
    "editable": true,
    "papermill": {
     "duration": 0.028045,
     "end_time": "2024-03-20T15:54:02.265757",
     "exception": false,
     "start_time": "2024-03-20T15:54:02.237712",
     "status": "completed"
    },
    "slideshow": {
     "slide_type": ""
    },
    "tags": []
   },
   "source": [
    "### Match"
   ]
  },
  {
   "cell_type": "code",
   "execution_count": 174,
   "id": "33bc0d47-ec5a-4a30-86c6-26a7b1782880",
   "metadata": {
    "execution": {
     "iopub.execute_input": "2024-03-20T15:54:02.336621Z",
     "iopub.status.busy": "2024-03-20T15:54:02.336220Z",
     "iopub.status.idle": "2024-03-20T15:54:02.339777Z",
     "shell.execute_reply": "2024-03-20T15:54:02.339202Z"
    },
    "papermill": {
     "duration": 0.046741,
     "end_time": "2024-03-20T15:54:02.340590",
     "exception": false,
     "start_time": "2024-03-20T15:54:02.293849",
     "status": "completed"
    },
    "tags": []
   },
   "outputs": [
    {
     "data": {
      "text/plain": [
       "'### Gene expression data and preprocessing {#sec:data_gtex}'"
      ]
     },
     "execution_count": 174,
     "metadata": {},
     "output_type": "execute_result"
    }
   ],
   "source": [
    "orig_section_paragraphs[0]"
   ]
  },
  {
   "cell_type": "code",
   "execution_count": 175,
   "id": "6af64ac6-3451-4945-8eb9-12405c9f4fa9",
   "metadata": {
    "execution": {
     "iopub.execute_input": "2024-03-20T15:54:02.399825Z",
     "iopub.status.busy": "2024-03-20T15:54:02.399381Z",
     "iopub.status.idle": "2024-03-20T15:54:02.403217Z",
     "shell.execute_reply": "2024-03-20T15:54:02.402657Z"
    },
    "papermill": {
     "duration": 0.033883,
     "end_time": "2024-03-20T15:54:02.403986",
     "exception": false,
     "start_time": "2024-03-20T15:54:02.370103",
     "status": "completed"
    },
    "tags": []
   },
   "outputs": [
    {
     "data": {
      "text/plain": [
       "'### Gene expression data and preprocessing {#sec:data_gtex}'"
      ]
     },
     "execution_count": 175,
     "metadata": {},
     "output_type": "execute_result"
    }
   ],
   "source": [
    "mod_section_paragraphs[0]"
   ]
  },
  {
   "cell_type": "markdown",
   "id": "f0add223-9d4a-4079-b1b7-f7845e14f259",
   "metadata": {
    "editable": true,
    "papermill": {
     "duration": 0.028313,
     "end_time": "2024-03-20T15:54:02.460870",
     "exception": false,
     "start_time": "2024-03-20T15:54:02.432557",
     "status": "completed"
    },
    "slideshow": {
     "slide_type": ""
    },
    "tags": []
   },
   "source": [
    "####  Paragraph 00"
   ]
  },
  {
   "cell_type": "code",
   "execution_count": 176,
   "id": "37501034-068f-4900-8846-a32c14123d2b",
   "metadata": {
    "execution": {
     "iopub.execute_input": "2024-03-20T15:54:02.518448Z",
     "iopub.status.busy": "2024-03-20T15:54:02.518063Z",
     "iopub.status.idle": "2024-03-20T15:54:02.521325Z",
     "shell.execute_reply": "2024-03-20T15:54:02.520740Z"
    },
    "papermill": {
     "duration": 0.032927,
     "end_time": "2024-03-20T15:54:02.522092",
     "exception": false,
     "start_time": "2024-03-20T15:54:02.489165",
     "status": "completed"
    },
    "tags": []
   },
   "outputs": [
    {
     "name": "stdout",
     "output_type": "stream",
     "text": [
      "We downloaded GTEx v8 data for all tissues, normalized using TPM (transcripts per million), and focused our primary analysis on whole blood, which has a good sample size (755). We selected the top 5,000 genes from whole blood with the largest variance after standardizing with $log(x + 1)$ to avoid a bias towards highly-expressed genes. We then computed Pearson, Spearman, MIC and CCC on these 5,000 genes across all 755 samples on the TPM-normalized data, generating a pairwise similarity matrix of size 5,000 x 5,000.\n"
     ]
    }
   ],
   "source": [
    "par0 = process_paragraph(orig_section_paragraphs[1])\n",
    "print(par0)"
   ]
  },
  {
   "cell_type": "code",
   "execution_count": 177,
   "id": "5da96109-f681-4d3e-a389-ee5538ff03c0",
   "metadata": {
    "execution": {
     "iopub.execute_input": "2024-03-20T15:54:02.579834Z",
     "iopub.status.busy": "2024-03-20T15:54:02.579473Z",
     "iopub.status.idle": "2024-03-20T15:54:02.582456Z",
     "shell.execute_reply": "2024-03-20T15:54:02.582025Z"
    },
    "papermill": {
     "duration": 0.032598,
     "end_time": "2024-03-20T15:54:02.583148",
     "exception": false,
     "start_time": "2024-03-20T15:54:02.550550",
     "status": "completed"
    },
    "tags": []
   },
   "outputs": [
    {
     "name": "stdout",
     "output_type": "stream",
     "text": [
      "We downloaded GTEx version 8 data for all tissues and normalized it using TPM (transcripts per million). Our primary analysis focused on whole blood, which had a sample size of 755. From whole blood, we selected the top 5,000 genes with the largest variance after standardizing with $\\log(x + 1)$ to prevent bias towards highly-expressed genes. Subsequently, we calculated Pearson, Spearman, MIC, and CCC for these 5,000 genes across all 755 samples on the TPM-normalized data. This computation resulted in a pairwise similarity matrix of size 5,000 x 5,000.\n"
     ]
    }
   ],
   "source": [
    "par1 = process_paragraph(mod_section_paragraphs[1])\n",
    "print(par1)"
   ]
  },
  {
   "cell_type": "code",
   "execution_count": 178,
   "id": "0f6511b9-fbbb-4fbb-9f2a-14ee6ed6c167",
   "metadata": {
    "execution": {
     "iopub.execute_input": "2024-03-20T15:54:02.640575Z",
     "iopub.status.busy": "2024-03-20T15:54:02.640388Z",
     "iopub.status.idle": "2024-03-20T15:54:02.642944Z",
     "shell.execute_reply": "2024-03-20T15:54:02.642515Z"
    },
    "papermill": {
     "duration": 0.032311,
     "end_time": "2024-03-20T15:54:02.643657",
     "exception": false,
     "start_time": "2024-03-20T15:54:02.611346",
     "status": "completed"
    },
    "tags": []
   },
   "outputs": [],
   "source": [
    "paragraph_matches.append(\n",
    "    (\n",
    "        section_name,\n",
    "        par0,\n",
    "        par1,\n",
    "    )\n",
    ")"
   ]
  },
  {
   "cell_type": "code",
   "execution_count": 179,
   "id": "c16abbd3-c0a4-4ba4-9272-c5556b820c18",
   "metadata": {
    "execution": {
     "iopub.execute_input": "2024-03-20T15:54:02.701631Z",
     "iopub.status.busy": "2024-03-20T15:54:02.701199Z",
     "iopub.status.idle": "2024-03-20T15:54:02.704726Z",
     "shell.execute_reply": "2024-03-20T15:54:02.704237Z"
    },
    "papermill": {
     "duration": 0.033429,
     "end_time": "2024-03-20T15:54:02.705445",
     "exception": false,
     "start_time": "2024-03-20T15:54:02.672016",
     "status": "completed"
    },
    "tags": []
   },
   "outputs": [
    {
     "data": {
      "text/plain": [
       "('methods',\n",
       " 'We downloaded GTEx v8 data for all tissues, normalized using TPM (transcripts per million), and focused our primary analysis on whole blood, which has a good sample size (755). We selected the top 5,000 genes from whole blood with the largest variance after standardizing with $log(x + 1)$ to avoid a bias towards highly-expressed genes. We then computed Pearson, Spearman, MIC and CCC on these 5,000 genes across all 755 samples on the TPM-normalized data, generating a pairwise similarity matrix of size 5,000 x 5,000.',\n",
       " 'We downloaded GTEx version 8 data for all tissues and normalized it using TPM (transcripts per million). Our primary analysis focused on whole blood, which had a sample size of 755. From whole blood, we selected the top 5,000 genes with the largest variance after standardizing with $\\\\log(x + 1)$ to prevent bias towards highly-expressed genes. Subsequently, we calculated Pearson, Spearman, MIC, and CCC for these 5,000 genes across all 755 samples on the TPM-normalized data. This computation resulted in a pairwise similarity matrix of size 5,000 x 5,000.')"
      ]
     },
     "metadata": {},
     "output_type": "display_data"
    }
   ],
   "source": [
    "display(paragraph_matches[-1])"
   ]
  },
  {
   "cell_type": "markdown",
   "id": "eb7ba0ac-eb66-4f3b-8155-7dbd0a03cf69",
   "metadata": {
    "editable": true,
    "papermill": {
     "duration": 0.028812,
     "end_time": "2024-03-20T15:54:02.786185",
     "exception": false,
     "start_time": "2024-03-20T15:54:02.757373",
     "status": "completed"
    },
    "slideshow": {
     "slide_type": ""
    },
    "tags": []
   },
   "source": [
    "## Methods (giant)"
   ]
  },
  {
   "cell_type": "code",
   "execution_count": 180,
   "id": "fa5845ac-76c0-43db-b79d-c53a63c169e2",
   "metadata": {
    "execution": {
     "iopub.execute_input": "2024-03-20T15:54:02.844230Z",
     "iopub.status.busy": "2024-03-20T15:54:02.844025Z",
     "iopub.status.idle": "2024-03-20T15:54:02.846464Z",
     "shell.execute_reply": "2024-03-20T15:54:02.846033Z"
    },
    "papermill": {
     "duration": 0.032227,
     "end_time": "2024-03-20T15:54:02.847181",
     "exception": false,
     "start_time": "2024-03-20T15:54:02.814954",
     "status": "completed"
    },
    "tags": []
   },
   "outputs": [],
   "source": [
    "# section_name = \"methods\""
   ]
  },
  {
   "cell_type": "code",
   "execution_count": 181,
   "id": "53a68df2-9499-4bd6-a226-faf5a9c4aad6",
   "metadata": {
    "editable": true,
    "execution": {
     "iopub.execute_input": "2024-03-20T15:54:02.905377Z",
     "iopub.status.busy": "2024-03-20T15:54:02.905033Z",
     "iopub.status.idle": "2024-03-20T15:54:02.908318Z",
     "shell.execute_reply": "2024-03-20T15:54:02.907701Z"
    },
    "papermill": {
     "duration": 0.033335,
     "end_time": "2024-03-20T15:54:02.909132",
     "exception": false,
     "start_time": "2024-03-20T15:54:02.875797",
     "status": "completed"
    },
    "slideshow": {
     "slide_type": ""
    },
    "tags": []
   },
   "outputs": [
    {
     "name": "stdout",
     "output_type": "stream",
     "text": [
      "content/08.15.methods.giant.md\n"
     ]
    }
   ],
   "source": [
    "pr_filename = pr_files[8].filename\n",
    "assert section_name in pr_filename\n",
    "assert \"giant\" in pr_filename\n",
    "print(pr_filename)"
   ]
  },
  {
   "cell_type": "markdown",
   "id": "57276dad-945a-4e48-bd12-3a6b4ef2ffe7",
   "metadata": {
    "editable": true,
    "papermill": {
     "duration": 0.028455,
     "end_time": "2024-03-20T15:54:02.966215",
     "exception": false,
     "start_time": "2024-03-20T15:54:02.937760",
     "status": "completed"
    },
    "slideshow": {
     "slide_type": ""
    },
    "tags": []
   },
   "source": [
    "### Original"
   ]
  },
  {
   "cell_type": "code",
   "execution_count": 182,
   "id": "9dadf073-b9e9-4050-9dfa-ad70fcf90c05",
   "metadata": {
    "execution": {
     "iopub.execute_input": "2024-03-20T15:54:03.024707Z",
     "iopub.status.busy": "2024-03-20T15:54:03.024144Z",
     "iopub.status.idle": "2024-03-20T15:54:03.440335Z",
     "shell.execute_reply": "2024-03-20T15:54:03.439859Z"
    },
    "papermill": {
     "duration": 0.446512,
     "end_time": "2024-03-20T15:54:03.441376",
     "exception": false,
     "start_time": "2024-03-20T15:54:02.994864",
     "status": "completed"
    },
    "tags": []
   },
   "outputs": [
    {
     "name": "stdout",
     "output_type": "stream",
     "text": [
      "### Tissue-specific network analyses using GIANT {\n"
     ]
    }
   ],
   "source": [
    "# get content\n",
    "orig_section_content = repo.get_contents(pr_filename, pr_prev).decoded_content.decode(\n",
    "    \"utf-8\"\n",
    ")\n",
    "print(orig_section_content[:50])"
   ]
  },
  {
   "cell_type": "code",
   "execution_count": 183,
   "id": "fd0965f4-4aee-40f5-a573-1799ae8e4e85",
   "metadata": {
    "execution": {
     "iopub.execute_input": "2024-03-20T15:54:03.525709Z",
     "iopub.status.busy": "2024-03-20T15:54:03.525507Z",
     "iopub.status.idle": "2024-03-20T15:54:03.529100Z",
     "shell.execute_reply": "2024-03-20T15:54:03.528678Z"
    },
    "papermill": {
     "duration": 0.045086,
     "end_time": "2024-03-20T15:54:03.529744",
     "exception": false,
     "start_time": "2024-03-20T15:54:03.484658",
     "status": "completed"
    },
    "tags": []
   },
   "outputs": [
    {
     "data": {
      "text/plain": [
       "3"
      ]
     },
     "metadata": {},
     "output_type": "display_data"
    }
   ],
   "source": [
    "# split by paragraph\n",
    "orig_section_paragraphs = orig_section_content.split(\"\\n\\n\")\n",
    "display(len(orig_section_paragraphs))"
   ]
  },
  {
   "cell_type": "markdown",
   "id": "8e54b74c-c0d0-469b-82c6-9a8f903d38bb",
   "metadata": {
    "editable": true,
    "papermill": {
     "duration": 0.028524,
     "end_time": "2024-03-20T15:54:03.586711",
     "exception": false,
     "start_time": "2024-03-20T15:54:03.558187",
     "status": "completed"
    },
    "slideshow": {
     "slide_type": ""
    },
    "tags": []
   },
   "source": [
    "### Modified"
   ]
  },
  {
   "cell_type": "code",
   "execution_count": 184,
   "id": "499dda44-bfe3-4455-873f-c538df38e8af",
   "metadata": {
    "execution": {
     "iopub.execute_input": "2024-03-20T15:54:03.645166Z",
     "iopub.status.busy": "2024-03-20T15:54:03.644954Z",
     "iopub.status.idle": "2024-03-20T15:54:03.825853Z",
     "shell.execute_reply": "2024-03-20T15:54:03.825392Z"
    },
    "papermill": {
     "duration": 0.211565,
     "end_time": "2024-03-20T15:54:03.826846",
     "exception": false,
     "start_time": "2024-03-20T15:54:03.615281",
     "status": "completed"
    },
    "tags": []
   },
   "outputs": [
    {
     "name": "stdout",
     "output_type": "stream",
     "text": [
      "### Tissue-specific network analyses using GIANT {\n"
     ]
    }
   ],
   "source": [
    "# get content\n",
    "mod_section_content = repo.get_contents(pr_filename, pr_curr).decoded_content.decode(\n",
    "    \"utf-8\"\n",
    ")\n",
    "print(mod_section_content[:50])"
   ]
  },
  {
   "cell_type": "code",
   "execution_count": 185,
   "id": "41a5c6bc-7bac-4b5a-ac94-97c91ee66a03",
   "metadata": {
    "execution": {
     "iopub.execute_input": "2024-03-20T15:54:03.910663Z",
     "iopub.status.busy": "2024-03-20T15:54:03.910467Z",
     "iopub.status.idle": "2024-03-20T15:54:03.914008Z",
     "shell.execute_reply": "2024-03-20T15:54:03.913589Z"
    },
    "papermill": {
     "duration": 0.044735,
     "end_time": "2024-03-20T15:54:03.914729",
     "exception": false,
     "start_time": "2024-03-20T15:54:03.869994",
     "status": "completed"
    },
    "tags": []
   },
   "outputs": [
    {
     "data": {
      "text/plain": [
       "7"
      ]
     },
     "metadata": {},
     "output_type": "display_data"
    }
   ],
   "source": [
    "# split by paragraph\n",
    "mod_section_paragraphs = mod_section_content.split(\"\\n\\n\")\n",
    "display(len(mod_section_paragraphs))"
   ]
  },
  {
   "cell_type": "markdown",
   "id": "12872fc2-c24d-4fc8-b0e7-eb7551a3efb1",
   "metadata": {
    "editable": true,
    "papermill": {
     "duration": 0.028366,
     "end_time": "2024-03-20T15:54:03.971924",
     "exception": false,
     "start_time": "2024-03-20T15:54:03.943558",
     "status": "completed"
    },
    "slideshow": {
     "slide_type": ""
    },
    "tags": []
   },
   "source": [
    "### Match"
   ]
  },
  {
   "cell_type": "code",
   "execution_count": 186,
   "id": "2ad5609f-a7cc-4fbe-8f3c-12dd3b4a71d8",
   "metadata": {
    "execution": {
     "iopub.execute_input": "2024-03-20T15:54:04.030186Z",
     "iopub.status.busy": "2024-03-20T15:54:04.029992Z",
     "iopub.status.idle": "2024-03-20T15:54:04.033287Z",
     "shell.execute_reply": "2024-03-20T15:54:04.032867Z"
    },
    "papermill": {
     "duration": 0.033281,
     "end_time": "2024-03-20T15:54:04.034018",
     "exception": false,
     "start_time": "2024-03-20T15:54:04.000737",
     "status": "completed"
    },
    "tags": []
   },
   "outputs": [
    {
     "data": {
      "text/plain": [
       "'### Tissue-specific network analyses using GIANT {#sec:giant}'"
      ]
     },
     "execution_count": 186,
     "metadata": {},
     "output_type": "execute_result"
    }
   ],
   "source": [
    "orig_section_paragraphs[0]"
   ]
  },
  {
   "cell_type": "code",
   "execution_count": 187,
   "id": "bc9a905b-b05f-49ca-afda-02f298e6ca70",
   "metadata": {
    "execution": {
     "iopub.execute_input": "2024-03-20T15:54:04.092502Z",
     "iopub.status.busy": "2024-03-20T15:54:04.092257Z",
     "iopub.status.idle": "2024-03-20T15:54:04.095584Z",
     "shell.execute_reply": "2024-03-20T15:54:04.095162Z"
    },
    "papermill": {
     "duration": 0.033541,
     "end_time": "2024-03-20T15:54:04.096326",
     "exception": false,
     "start_time": "2024-03-20T15:54:04.062785",
     "status": "completed"
    },
    "tags": []
   },
   "outputs": [
    {
     "data": {
      "text/plain": [
       "'### Tissue-specific network analyses using GIANT {#sec:giant}'"
      ]
     },
     "execution_count": 187,
     "metadata": {},
     "output_type": "execute_result"
    }
   ],
   "source": [
    "mod_section_paragraphs[0]"
   ]
  },
  {
   "cell_type": "markdown",
   "id": "2df75761-3326-4010-9fa8-0a8c589ebf69",
   "metadata": {
    "editable": true,
    "papermill": {
     "duration": 0.029246,
     "end_time": "2024-03-20T15:54:04.155069",
     "exception": false,
     "start_time": "2024-03-20T15:54:04.125823",
     "status": "completed"
    },
    "slideshow": {
     "slide_type": ""
    },
    "tags": []
   },
   "source": [
    "####  Paragraph 00"
   ]
  },
  {
   "cell_type": "code",
   "execution_count": 188,
   "id": "45449a9c-8d8d-4207-8a25-4fc3b0c78aa8",
   "metadata": {
    "execution": {
     "iopub.execute_input": "2024-03-20T15:54:04.222502Z",
     "iopub.status.busy": "2024-03-20T15:54:04.221987Z",
     "iopub.status.idle": "2024-03-20T15:54:04.225283Z",
     "shell.execute_reply": "2024-03-20T15:54:04.224814Z"
    },
    "papermill": {
     "duration": 0.035402,
     "end_time": "2024-03-20T15:54:04.226065",
     "exception": false,
     "start_time": "2024-03-20T15:54:04.190663",
     "status": "completed"
    },
    "tags": []
   },
   "outputs": [
    {
     "name": "stdout",
     "output_type": "stream",
     "text": [
      "We accessed tissue-specific gene networks of GIANT using both the web interface and web services provided by HumanBase [@url:https://hb.flatironinstitute.org]. The GIANT version used in this study included 987 genome-scale datasets with approximately 38,000 conditions from around 14,000 publications. Details on how these networks were built are described in [@doi:10.1038/ng.3259]. Briefly, tissue-specific gene networks were built using gene expression data (without GTEx samples [@url:https://hb.flatironinstitute.org/data]) from the NCBI's Gene Expression Omnibus (GEO) [@doi:10.1093/nar/gks1193], protein-protein interaction (BioGRID [@pmc:PMC3531226], IntAct [@doi:10.1093/nar/gkr1088], MINT [@doi:10.1093/nar/gkr930] and MIPS [@pmc:PMC148093]), transcription factor regulation using binding motifs from JASPAR [@doi:10.1093/nar/gkp950], and chemical and genetic perturbations from MSigDB [@doi:10.1073/pnas.0506580102]. Gene expression data were log-transformed, and the Pearson correlation was computed for each gene pair, normalized using the Fisher's z transform, and z-scores discretized into different bins. Gold standards for tissue-specific functional relationships were built using expert curation and experimentally derived gene annotations from the Gene Ontology. Then, one naive Bayesian classifier (using C++ implementations from the Sleipnir library [@pmid:18499696]) for each of the 144 tissues was trained using these gold standards. Finally, these classifiers were used to estimate the probability of tissue-specific interactions for each gene pair.\n"
     ]
    }
   ],
   "source": [
    "par0 = process_paragraph(orig_section_paragraphs[1])\n",
    "print(par0)"
   ]
  },
  {
   "cell_type": "code",
   "execution_count": 189,
   "id": "29892607-3a14-49bf-8a83-a82755b56771",
   "metadata": {
    "execution": {
     "iopub.execute_input": "2024-03-20T15:54:04.288231Z",
     "iopub.status.busy": "2024-03-20T15:54:04.288039Z",
     "iopub.status.idle": "2024-03-20T15:54:04.291039Z",
     "shell.execute_reply": "2024-03-20T15:54:04.290602Z"
    },
    "papermill": {
     "duration": 0.034315,
     "end_time": "2024-03-20T15:54:04.291800",
     "exception": false,
     "start_time": "2024-03-20T15:54:04.257485",
     "status": "completed"
    },
    "tags": []
   },
   "outputs": [
    {
     "name": "stdout",
     "output_type": "stream",
     "text": [
      "We accessed tissue-specific gene networks of GIANT using both the web interface and web services provided by HumanBase (https://hb.flatironinstitute.org). The GIANT version used in this study included 987 genome-scale datasets with approximately 38,000 conditions from around 14,000 publications. Details on how these networks were built are described in (DOI: 10.1038/ng.3259). Briefly, tissue-specific gene networks were built using gene expression data (without GTEx samples from https://hb.flatironinstitute.org/data) from the NCBI's Gene Expression Omnibus (GEO) (DOI: 10.1093/nar/gks1193), protein-protein interaction databases such as BioGRID (PMC: PMC3531226), IntAct (DOI: 10.1093/nar/gkr1088), MINT (DOI: 10.1093/nar/gkr930), and MIPS (PMC: PMC148093), transcription factor regulation using binding motifs from JASPAR (DOI: 10.1093/nar/gkp950), and chemical and genetic perturbations from MSigDB (DOI: 10.1073/pnas.0506580102). Gene expression data were log-transformed, and the Pearson correlation was computed for each gene pair, normalized using the Fisher's z transform, and z-scores discretized into different bins. Gold standards for tissue-specific functional relationships were built using expert curation and experimentally derived gene annotations from the Gene Ontology. Then, one naive Bayesian classifier (using C++ implementations from the Sleipnir library, PMID: 18499696) for each of the 144 tissues was trained using these gold standards. Finally, these classifiers were used to estimate the probability of tissue-specific interactions for each gene pair.\n"
     ]
    }
   ],
   "source": [
    "par1 = process_paragraph(mod_section_paragraphs[1:4])\n",
    "print(par1)"
   ]
  },
  {
   "cell_type": "code",
   "execution_count": 190,
   "id": "2e7bbcb6-e92e-4114-a59c-345ddb53387b",
   "metadata": {
    "execution": {
     "iopub.execute_input": "2024-03-20T15:54:04.352328Z",
     "iopub.status.busy": "2024-03-20T15:54:04.352135Z",
     "iopub.status.idle": "2024-03-20T15:54:04.354750Z",
     "shell.execute_reply": "2024-03-20T15:54:04.354315Z"
    },
    "papermill": {
     "duration": 0.033663,
     "end_time": "2024-03-20T15:54:04.355494",
     "exception": false,
     "start_time": "2024-03-20T15:54:04.321831",
     "status": "completed"
    },
    "tags": []
   },
   "outputs": [],
   "source": [
    "paragraph_matches.append(\n",
    "    (\n",
    "        section_name,\n",
    "        par0,\n",
    "        par1,\n",
    "    )\n",
    ")"
   ]
  },
  {
   "cell_type": "code",
   "execution_count": 191,
   "id": "09a5026f-b3fd-488c-89cd-84672d36ac57",
   "metadata": {
    "execution": {
     "iopub.execute_input": "2024-03-20T15:54:04.415296Z",
     "iopub.status.busy": "2024-03-20T15:54:04.415108Z",
     "iopub.status.idle": "2024-03-20T15:54:04.418569Z",
     "shell.execute_reply": "2024-03-20T15:54:04.418163Z"
    },
    "papermill": {
     "duration": 0.033807,
     "end_time": "2024-03-20T15:54:04.419260",
     "exception": false,
     "start_time": "2024-03-20T15:54:04.385453",
     "status": "completed"
    },
    "tags": []
   },
   "outputs": [
    {
     "data": {
      "text/plain": [
       "('methods',\n",
       " \"We accessed tissue-specific gene networks of GIANT using both the web interface and web services provided by HumanBase [@url:https://hb.flatironinstitute.org]. The GIANT version used in this study included 987 genome-scale datasets with approximately 38,000 conditions from around 14,000 publications. Details on how these networks were built are described in [@doi:10.1038/ng.3259]. Briefly, tissue-specific gene networks were built using gene expression data (without GTEx samples [@url:https://hb.flatironinstitute.org/data]) from the NCBI's Gene Expression Omnibus (GEO) [@doi:10.1093/nar/gks1193], protein-protein interaction (BioGRID [@pmc:PMC3531226], IntAct [@doi:10.1093/nar/gkr1088], MINT [@doi:10.1093/nar/gkr930] and MIPS [@pmc:PMC148093]), transcription factor regulation using binding motifs from JASPAR [@doi:10.1093/nar/gkp950], and chemical and genetic perturbations from MSigDB [@doi:10.1073/pnas.0506580102]. Gene expression data were log-transformed, and the Pearson correlation was computed for each gene pair, normalized using the Fisher's z transform, and z-scores discretized into different bins. Gold standards for tissue-specific functional relationships were built using expert curation and experimentally derived gene annotations from the Gene Ontology. Then, one naive Bayesian classifier (using C++ implementations from the Sleipnir library [@pmid:18499696]) for each of the 144 tissues was trained using these gold standards. Finally, these classifiers were used to estimate the probability of tissue-specific interactions for each gene pair.\",\n",
       " \"We accessed tissue-specific gene networks of GIANT using both the web interface and web services provided by HumanBase (https://hb.flatironinstitute.org). The GIANT version used in this study included 987 genome-scale datasets with approximately 38,000 conditions from around 14,000 publications. Details on how these networks were built are described in (DOI: 10.1038/ng.3259). Briefly, tissue-specific gene networks were built using gene expression data (without GTEx samples from https://hb.flatironinstitute.org/data) from the NCBI's Gene Expression Omnibus (GEO) (DOI: 10.1093/nar/gks1193), protein-protein interaction databases such as BioGRID (PMC: PMC3531226), IntAct (DOI: 10.1093/nar/gkr1088), MINT (DOI: 10.1093/nar/gkr930), and MIPS (PMC: PMC148093), transcription factor regulation using binding motifs from JASPAR (DOI: 10.1093/nar/gkp950), and chemical and genetic perturbations from MSigDB (DOI: 10.1073/pnas.0506580102). Gene expression data were log-transformed, and the Pearson correlation was computed for each gene pair, normalized using the Fisher's z transform, and z-scores discretized into different bins. Gold standards for tissue-specific functional relationships were built using expert curation and experimentally derived gene annotations from the Gene Ontology. Then, one naive Bayesian classifier (using C++ implementations from the Sleipnir library, PMID: 18499696) for each of the 144 tissues was trained using these gold standards. Finally, these classifiers were used to estimate the probability of tissue-specific interactions for each gene pair.\")"
      ]
     },
     "metadata": {},
     "output_type": "display_data"
    }
   ],
   "source": [
    "display(paragraph_matches[-1])"
   ]
  },
  {
   "cell_type": "markdown",
   "id": "0d0c0e3f-1e9b-4801-9ca6-55f022e55673",
   "metadata": {
    "editable": true,
    "papermill": {
     "duration": 0.029019,
     "end_time": "2024-03-20T15:54:04.477630",
     "exception": false,
     "start_time": "2024-03-20T15:54:04.448611",
     "status": "completed"
    },
    "slideshow": {
     "slide_type": ""
    },
    "tags": []
   },
   "source": [
    "####  Paragraph 01"
   ]
  },
  {
   "cell_type": "code",
   "execution_count": 192,
   "id": "a450aa54-83bf-4f07-b7bc-7bebf0606ecf",
   "metadata": {
    "execution": {
     "iopub.execute_input": "2024-03-20T15:54:04.536924Z",
     "iopub.status.busy": "2024-03-20T15:54:04.536718Z",
     "iopub.status.idle": "2024-03-20T15:54:04.539711Z",
     "shell.execute_reply": "2024-03-20T15:54:04.539266Z"
    },
    "papermill": {
     "duration": 0.033502,
     "end_time": "2024-03-20T15:54:04.540397",
     "exception": false,
     "start_time": "2024-03-20T15:54:04.506895",
     "status": "completed"
    },
    "tags": []
   },
   "outputs": [
    {
     "name": "stdout",
     "output_type": "stream",
     "text": [
      "For each pair of genes prioritized in our study using GTEx, we used GIANT through HumanBase to obtain 1) a predicted gene network for blood (manually selected to match whole blood in GTEx) and 2) a gene network with an automatically predicted tissue using the method described in [@doi:10.1101/gr.155697.113] and provided by HumanBase web interfaces/services. Briefly, the tissue prediction approach trains a machine learning model using comprehensive transcriptional data with human-curated markers of different cell lineages (e.g., macrophages) as gold standards. Then, these models are used to predict other cell lineage-specific genes. In addition to reporting this predicted tissue or cell lineage, we computed the average probability of interaction between all genes in the network retrieved from GIANT. Following the default procedure used in GIANT, we included the top 15 genes with the highest probability of interaction with the queried gene pair for each network.\n"
     ]
    }
   ],
   "source": [
    "par0 = process_paragraph(orig_section_paragraphs[2])\n",
    "print(par0)"
   ]
  },
  {
   "cell_type": "code",
   "execution_count": 193,
   "id": "d115562d-51bf-40b1-9fd4-44bcdbb5d4ac",
   "metadata": {
    "execution": {
     "iopub.execute_input": "2024-03-20T15:54:04.599633Z",
     "iopub.status.busy": "2024-03-20T15:54:04.599442Z",
     "iopub.status.idle": "2024-03-20T15:54:04.602583Z",
     "shell.execute_reply": "2024-03-20T15:54:04.602148Z"
    },
    "papermill": {
     "duration": 0.033618,
     "end_time": "2024-03-20T15:54:04.603299",
     "exception": false,
     "start_time": "2024-03-20T15:54:04.569681",
     "status": "completed"
    },
    "tags": []
   },
   "outputs": [
    {
     "name": "stdout",
     "output_type": "stream",
     "text": [
      "For each pair of genes prioritized in our study using GTEx, we utilized GIANT through HumanBase to acquire 1) a predicted gene network for blood (manually selected to match whole blood in GTEx) and 2) a gene network with an automatically predicted tissue using the method described in previous research [@doi:10.1101/gr.155697.113] and provided by HumanBase web interfaces/services. Briefly, the tissue prediction approach involves training a machine learning model using comprehensive transcriptional data with human-curated markers of different cell lineages (e.g., macrophages) as gold standards. These models are then utilized to predict other cell lineage-specific genes. Additionally, besides reporting the predicted tissue or cell lineage, we calculated the average probability of interaction between all genes in the network retrieved from GIANT. Following the default procedure used in GIANT, we included the top 15 genes with the highest probability of interaction with the queried gene pair for each network.\n"
     ]
    }
   ],
   "source": [
    "par1 = process_paragraph(\n",
    "    [\n",
    "        mod_section_paragraphs[4],\n",
    "        mod_section_paragraphs[6],\n",
    "    ]\n",
    ")\n",
    "print(par1)"
   ]
  },
  {
   "cell_type": "code",
   "execution_count": 194,
   "id": "35a55dbf-b588-4ab4-b562-a730890d232f",
   "metadata": {
    "execution": {
     "iopub.execute_input": "2024-03-20T15:54:04.662762Z",
     "iopub.status.busy": "2024-03-20T15:54:04.662570Z",
     "iopub.status.idle": "2024-03-20T15:54:04.665196Z",
     "shell.execute_reply": "2024-03-20T15:54:04.664724Z"
    },
    "papermill": {
     "duration": 0.033227,
     "end_time": "2024-03-20T15:54:04.665919",
     "exception": false,
     "start_time": "2024-03-20T15:54:04.632692",
     "status": "completed"
    },
    "tags": []
   },
   "outputs": [],
   "source": [
    "paragraph_matches.append(\n",
    "    (\n",
    "        section_name,\n",
    "        par0,\n",
    "        par1,\n",
    "    )\n",
    ")"
   ]
  },
  {
   "cell_type": "code",
   "execution_count": 195,
   "id": "20fd4387-8e3e-4a55-bec7-d6a4ca80d44c",
   "metadata": {
    "execution": {
     "iopub.execute_input": "2024-03-20T15:54:04.725445Z",
     "iopub.status.busy": "2024-03-20T15:54:04.725255Z",
     "iopub.status.idle": "2024-03-20T15:54:04.728705Z",
     "shell.execute_reply": "2024-03-20T15:54:04.728244Z"
    },
    "papermill": {
     "duration": 0.034093,
     "end_time": "2024-03-20T15:54:04.729424",
     "exception": false,
     "start_time": "2024-03-20T15:54:04.695331",
     "status": "completed"
    },
    "tags": []
   },
   "outputs": [
    {
     "data": {
      "text/plain": [
       "('methods',\n",
       " 'For each pair of genes prioritized in our study using GTEx, we used GIANT through HumanBase to obtain 1) a predicted gene network for blood (manually selected to match whole blood in GTEx) and 2) a gene network with an automatically predicted tissue using the method described in [@doi:10.1101/gr.155697.113] and provided by HumanBase web interfaces/services. Briefly, the tissue prediction approach trains a machine learning model using comprehensive transcriptional data with human-curated markers of different cell lineages (e.g., macrophages) as gold standards. Then, these models are used to predict other cell lineage-specific genes. In addition to reporting this predicted tissue or cell lineage, we computed the average probability of interaction between all genes in the network retrieved from GIANT. Following the default procedure used in GIANT, we included the top 15 genes with the highest probability of interaction with the queried gene pair for each network.',\n",
       " 'For each pair of genes prioritized in our study using GTEx, we utilized GIANT through HumanBase to acquire 1) a predicted gene network for blood (manually selected to match whole blood in GTEx) and 2) a gene network with an automatically predicted tissue using the method described in previous research [@doi:10.1101/gr.155697.113] and provided by HumanBase web interfaces/services. Briefly, the tissue prediction approach involves training a machine learning model using comprehensive transcriptional data with human-curated markers of different cell lineages (e.g., macrophages) as gold standards. These models are then utilized to predict other cell lineage-specific genes. Additionally, besides reporting the predicted tissue or cell lineage, we calculated the average probability of interaction between all genes in the network retrieved from GIANT. Following the default procedure used in GIANT, we included the top 15 genes with the highest probability of interaction with the queried gene pair for each network.')"
      ]
     },
     "metadata": {},
     "output_type": "display_data"
    }
   ],
   "source": [
    "display(paragraph_matches[-1])"
   ]
  },
  {
   "cell_type": "markdown",
   "id": "db1e15ca-381e-4513-81ff-fe866b8f1382",
   "metadata": {
    "editable": true,
    "papermill": {
     "duration": 0.02933,
     "end_time": "2024-03-20T15:54:04.788150",
     "exception": false,
     "start_time": "2024-03-20T15:54:04.758820",
     "status": "completed"
    },
    "slideshow": {
     "slide_type": ""
    },
    "tags": []
   },
   "source": [
    "## Methods (mic)"
   ]
  },
  {
   "cell_type": "code",
   "execution_count": 196,
   "id": "d4086043-5d2a-4017-a4ff-2dc6d722adea",
   "metadata": {
    "execution": {
     "iopub.execute_input": "2024-03-20T15:54:04.847875Z",
     "iopub.status.busy": "2024-03-20T15:54:04.847566Z",
     "iopub.status.idle": "2024-03-20T15:54:04.849929Z",
     "shell.execute_reply": "2024-03-20T15:54:04.849502Z"
    },
    "papermill": {
     "duration": 0.033023,
     "end_time": "2024-03-20T15:54:04.850642",
     "exception": false,
     "start_time": "2024-03-20T15:54:04.817619",
     "status": "completed"
    },
    "tags": []
   },
   "outputs": [],
   "source": [
    "# section_name = \"methods\""
   ]
  },
  {
   "cell_type": "code",
   "execution_count": 197,
   "id": "84d50740-bd41-4de3-b2aa-8548d577ca69",
   "metadata": {
    "editable": true,
    "execution": {
     "iopub.execute_input": "2024-03-20T15:54:04.910649Z",
     "iopub.status.busy": "2024-03-20T15:54:04.910257Z",
     "iopub.status.idle": "2024-03-20T15:54:04.913373Z",
     "shell.execute_reply": "2024-03-20T15:54:04.912946Z"
    },
    "papermill": {
     "duration": 0.033487,
     "end_time": "2024-03-20T15:54:04.914094",
     "exception": false,
     "start_time": "2024-03-20T15:54:04.880607",
     "status": "completed"
    },
    "slideshow": {
     "slide_type": ""
    },
    "tags": []
   },
   "outputs": [
    {
     "name": "stdout",
     "output_type": "stream",
     "text": [
      "content/08.20.methods.mic.md\n"
     ]
    }
   ],
   "source": [
    "pr_filename = pr_files[9].filename\n",
    "assert section_name in pr_filename\n",
    "assert \"mic\" in pr_filename\n",
    "print(pr_filename)"
   ]
  },
  {
   "cell_type": "markdown",
   "id": "e2a6d234-1197-424a-9e87-09264d25f414",
   "metadata": {
    "editable": true,
    "papermill": {
     "duration": 0.029465,
     "end_time": "2024-03-20T15:54:04.972960",
     "exception": false,
     "start_time": "2024-03-20T15:54:04.943495",
     "status": "completed"
    },
    "slideshow": {
     "slide_type": ""
    },
    "tags": []
   },
   "source": [
    "### Original"
   ]
  },
  {
   "cell_type": "code",
   "execution_count": 198,
   "id": "a7972447-3002-4578-9794-6980e8f633fc",
   "metadata": {
    "execution": {
     "iopub.execute_input": "2024-03-20T15:54:05.032630Z",
     "iopub.status.busy": "2024-03-20T15:54:05.032446Z",
     "iopub.status.idle": "2024-03-20T15:54:05.197272Z",
     "shell.execute_reply": "2024-03-20T15:54:05.196820Z"
    },
    "papermill": {
     "duration": 0.195689,
     "end_time": "2024-03-20T15:54:05.198218",
     "exception": false,
     "start_time": "2024-03-20T15:54:05.002529",
     "status": "completed"
    },
    "tags": []
   },
   "outputs": [
    {
     "name": "stdout",
     "output_type": "stream",
     "text": [
      "### Maximal Information Coefficient (MIC) {#sec:me\n"
     ]
    }
   ],
   "source": [
    "# get content\n",
    "orig_section_content = repo.get_contents(pr_filename, pr_prev).decoded_content.decode(\n",
    "    \"utf-8\"\n",
    ")\n",
    "print(orig_section_content[:50])"
   ]
  },
  {
   "cell_type": "code",
   "execution_count": 199,
   "id": "6a7df63f-b41b-481a-9f28-96807a0ae72e",
   "metadata": {
    "execution": {
     "iopub.execute_input": "2024-03-20T15:54:05.284094Z",
     "iopub.status.busy": "2024-03-20T15:54:05.283746Z",
     "iopub.status.idle": "2024-03-20T15:54:05.287308Z",
     "shell.execute_reply": "2024-03-20T15:54:05.286888Z"
    },
    "papermill": {
     "duration": 0.045885,
     "end_time": "2024-03-20T15:54:05.288048",
     "exception": false,
     "start_time": "2024-03-20T15:54:05.242163",
     "status": "completed"
    },
    "tags": []
   },
   "outputs": [
    {
     "data": {
      "text/plain": [
       "2"
      ]
     },
     "metadata": {},
     "output_type": "display_data"
    }
   ],
   "source": [
    "# split by paragraph\n",
    "orig_section_paragraphs = orig_section_content.split(\"\\n\\n\")\n",
    "display(len(orig_section_paragraphs))"
   ]
  },
  {
   "cell_type": "markdown",
   "id": "6b49bfe9-2d12-46c5-9e1a-21dc8ef5ca53",
   "metadata": {
    "editable": true,
    "papermill": {
     "duration": 0.063978,
     "end_time": "2024-03-20T15:54:05.382819",
     "exception": false,
     "start_time": "2024-03-20T15:54:05.318841",
     "status": "completed"
    },
    "slideshow": {
     "slide_type": ""
    },
    "tags": []
   },
   "source": [
    "### Modified"
   ]
  },
  {
   "cell_type": "code",
   "execution_count": 200,
   "id": "fbb7b941-6fad-4f41-8704-041b157ebf11",
   "metadata": {
    "execution": {
     "iopub.execute_input": "2024-03-20T15:54:05.445538Z",
     "iopub.status.busy": "2024-03-20T15:54:05.445146Z",
     "iopub.status.idle": "2024-03-20T15:54:05.594602Z",
     "shell.execute_reply": "2024-03-20T15:54:05.594113Z"
    },
    "papermill": {
     "duration": 0.18124,
     "end_time": "2024-03-20T15:54:05.595349",
     "exception": false,
     "start_time": "2024-03-20T15:54:05.414109",
     "status": "completed"
    },
    "tags": []
   },
   "outputs": [
    {
     "name": "stdout",
     "output_type": "stream",
     "text": [
      "### Maximal Information Coefficient (MIC) {#sec:me\n"
     ]
    }
   ],
   "source": [
    "# get content\n",
    "mod_section_content = repo.get_contents(pr_filename, pr_curr).decoded_content.decode(\n",
    "    \"utf-8\"\n",
    ")\n",
    "print(mod_section_content[:50])"
   ]
  },
  {
   "cell_type": "code",
   "execution_count": 201,
   "id": "e03331a5-2c64-4c36-9864-77ee3100fbfa",
   "metadata": {
    "execution": {
     "iopub.execute_input": "2024-03-20T15:54:05.656729Z",
     "iopub.status.busy": "2024-03-20T15:54:05.656522Z",
     "iopub.status.idle": "2024-03-20T15:54:05.660113Z",
     "shell.execute_reply": "2024-03-20T15:54:05.659673Z"
    },
    "papermill": {
     "duration": 0.035101,
     "end_time": "2024-03-20T15:54:05.660849",
     "exception": false,
     "start_time": "2024-03-20T15:54:05.625748",
     "status": "completed"
    },
    "tags": []
   },
   "outputs": [
    {
     "data": {
      "text/plain": [
       "4"
      ]
     },
     "metadata": {},
     "output_type": "display_data"
    }
   ],
   "source": [
    "# split by paragraph\n",
    "mod_section_paragraphs = mod_section_content.split(\"\\n\\n\")\n",
    "display(len(mod_section_paragraphs))"
   ]
  },
  {
   "cell_type": "markdown",
   "id": "c73804e3-42c2-4576-8f86-837c9b70474c",
   "metadata": {
    "editable": true,
    "papermill": {
     "duration": 0.030151,
     "end_time": "2024-03-20T15:54:05.720983",
     "exception": false,
     "start_time": "2024-03-20T15:54:05.690832",
     "status": "completed"
    },
    "slideshow": {
     "slide_type": ""
    },
    "tags": []
   },
   "source": [
    "### Match"
   ]
  },
  {
   "cell_type": "code",
   "execution_count": 202,
   "id": "7c2272f8-d171-4568-9aea-b77cb78bbcf7",
   "metadata": {
    "execution": {
     "iopub.execute_input": "2024-03-20T15:54:05.783347Z",
     "iopub.status.busy": "2024-03-20T15:54:05.782979Z",
     "iopub.status.idle": "2024-03-20T15:54:05.786441Z",
     "shell.execute_reply": "2024-03-20T15:54:05.786003Z"
    },
    "papermill": {
     "duration": 0.035994,
     "end_time": "2024-03-20T15:54:05.787181",
     "exception": false,
     "start_time": "2024-03-20T15:54:05.751187",
     "status": "completed"
    },
    "tags": []
   },
   "outputs": [
    {
     "data": {
      "text/plain": [
       "'### Maximal Information Coefficient (MIC) {#sec:methods:mic}'"
      ]
     },
     "execution_count": 202,
     "metadata": {},
     "output_type": "execute_result"
    }
   ],
   "source": [
    "orig_section_paragraphs[0]"
   ]
  },
  {
   "cell_type": "code",
   "execution_count": 203,
   "id": "2c6b5fb6-9138-477b-bd6d-18ec951c86b8",
   "metadata": {
    "execution": {
     "iopub.execute_input": "2024-03-20T15:54:05.850047Z",
     "iopub.status.busy": "2024-03-20T15:54:05.849721Z",
     "iopub.status.idle": "2024-03-20T15:54:05.852992Z",
     "shell.execute_reply": "2024-03-20T15:54:05.852536Z"
    },
    "papermill": {
     "duration": 0.035725,
     "end_time": "2024-03-20T15:54:05.853838",
     "exception": false,
     "start_time": "2024-03-20T15:54:05.818113",
     "status": "completed"
    },
    "tags": []
   },
   "outputs": [
    {
     "data": {
      "text/plain": [
       "'### Maximal Information Coefficient (MIC) {#sec:methods:mic}'"
      ]
     },
     "execution_count": 203,
     "metadata": {},
     "output_type": "execute_result"
    }
   ],
   "source": [
    "mod_section_paragraphs[0]"
   ]
  },
  {
   "cell_type": "markdown",
   "id": "67c5a38b-967a-4cdb-be7d-4e4e006422de",
   "metadata": {
    "editable": true,
    "papermill": {
     "duration": 0.030762,
     "end_time": "2024-03-20T15:54:05.915446",
     "exception": false,
     "start_time": "2024-03-20T15:54:05.884684",
     "status": "completed"
    },
    "slideshow": {
     "slide_type": ""
    },
    "tags": []
   },
   "source": [
    "####  Paragraph 00"
   ]
  },
  {
   "cell_type": "code",
   "execution_count": 204,
   "id": "fc15031c-84d9-4af3-99b4-2e691707b746",
   "metadata": {
    "execution": {
     "iopub.execute_input": "2024-03-20T15:54:05.979236Z",
     "iopub.status.busy": "2024-03-20T15:54:05.978799Z",
     "iopub.status.idle": "2024-03-20T15:54:05.981806Z",
     "shell.execute_reply": "2024-03-20T15:54:05.981367Z"
    },
    "papermill": {
     "duration": 0.035624,
     "end_time": "2024-03-20T15:54:05.982590",
     "exception": false,
     "start_time": "2024-03-20T15:54:05.946966",
     "status": "completed"
    },
    "tags": []
   },
   "outputs": [
    {
     "name": "stdout",
     "output_type": "stream",
     "text": [
      "We used the Python package `minepy` [@doi:10.1093/bioinformatics/bts707; @url:https://github.com/minepy/minepy] (version 1.2.5) to estimate the MIC coefficient. In GTEx v8 (whole blood), we used MIC<sub>e</sub> (an improved implementation of the original MIC introduced in [@Reshef2016]) with the default parameters `alpha=0.6`, `c=15` and `estimator='mic_e'`. We used the `pairwise_distances` function from `scikit-learn` [@Sklearn2011] to parallelize the computation of MIC on GTEx. For our computational complexity analyses (see [Supplementary Material](#sec:time_test)), we ran the original MIC (using parameter `estimator='mic_approx'`) and MIC<sub>e</sub> (`estimator='mic_e'`).\n"
     ]
    }
   ],
   "source": [
    "par0 = process_paragraph(orig_section_paragraphs[1])\n",
    "print(par0)"
   ]
  },
  {
   "cell_type": "code",
   "execution_count": 205,
   "id": "829749f2-1cb7-45c1-b897-7d721c79bf66",
   "metadata": {
    "execution": {
     "iopub.execute_input": "2024-03-20T15:54:06.046393Z",
     "iopub.status.busy": "2024-03-20T15:54:06.045999Z",
     "iopub.status.idle": "2024-03-20T15:54:06.049070Z",
     "shell.execute_reply": "2024-03-20T15:54:06.048623Z"
    },
    "papermill": {
     "duration": 0.035918,
     "end_time": "2024-03-20T15:54:06.049801",
     "exception": false,
     "start_time": "2024-03-20T15:54:06.013883",
     "status": "completed"
    },
    "tags": []
   },
   "outputs": [
    {
     "name": "stdout",
     "output_type": "stream",
     "text": [
      "We used the Python package `minepy` [@doi:10.1093/bioinformatics/bts707; @url:https://github.com/minepy/minepy] (version 1.2.5) to estimate the Maximal Information Coefficient (MIC) coefficient. In GTEx v8 (whole blood), we used MIC<sub>e</sub>, an improved implementation of the original MIC introduced in Reshef et al. (2016) with the default parameters `alpha=0.6`, `c=15`, and `estimator='mic_e'`. We utilized the `pairwise_distances` function from `scikit-learn` [@Sklearn2011] to parallelize the computation of MIC on GTEx. For our computational complexity analyses (see Supplementary Material), we ran the original MIC (using parameter `estimator='mic_approx'`) and MIC<sub>e</sub> (with `estimator='mic_e'`).\n"
     ]
    }
   ],
   "source": [
    "par1 = process_paragraph(mod_section_paragraphs[1])\n",
    "print(par1)"
   ]
  },
  {
   "cell_type": "code",
   "execution_count": 206,
   "id": "c3054236-fc40-4d23-8cf3-48b81a2e78c2",
   "metadata": {
    "execution": {
     "iopub.execute_input": "2024-03-20T15:54:06.112786Z",
     "iopub.status.busy": "2024-03-20T15:54:06.112601Z",
     "iopub.status.idle": "2024-03-20T15:54:06.115198Z",
     "shell.execute_reply": "2024-03-20T15:54:06.114757Z"
    },
    "papermill": {
     "duration": 0.034648,
     "end_time": "2024-03-20T15:54:06.115914",
     "exception": false,
     "start_time": "2024-03-20T15:54:06.081266",
     "status": "completed"
    },
    "tags": []
   },
   "outputs": [],
   "source": [
    "paragraph_matches.append(\n",
    "    (\n",
    "        section_name,\n",
    "        par0,\n",
    "        par1,\n",
    "    )\n",
    ")"
   ]
  },
  {
   "cell_type": "code",
   "execution_count": 207,
   "id": "bba7fc51-97e3-4100-8bc2-922881f26556",
   "metadata": {
    "execution": {
     "iopub.execute_input": "2024-03-20T15:54:06.180747Z",
     "iopub.status.busy": "2024-03-20T15:54:06.180188Z",
     "iopub.status.idle": "2024-03-20T15:54:06.185186Z",
     "shell.execute_reply": "2024-03-20T15:54:06.184450Z"
    },
    "papermill": {
     "duration": 0.038734,
     "end_time": "2024-03-20T15:54:06.186037",
     "exception": false,
     "start_time": "2024-03-20T15:54:06.147303",
     "status": "completed"
    },
    "tags": []
   },
   "outputs": [
    {
     "data": {
      "text/plain": [
       "('methods',\n",
       " \"We used the Python package `minepy` [@doi:10.1093/bioinformatics/bts707; @url:https://github.com/minepy/minepy] (version 1.2.5) to estimate the MIC coefficient. In GTEx v8 (whole blood), we used MIC<sub>e</sub> (an improved implementation of the original MIC introduced in [@Reshef2016]) with the default parameters `alpha=0.6`, `c=15` and `estimator='mic_e'`. We used the `pairwise_distances` function from `scikit-learn` [@Sklearn2011] to parallelize the computation of MIC on GTEx. For our computational complexity analyses (see [Supplementary Material](#sec:time_test)), we ran the original MIC (using parameter `estimator='mic_approx'`) and MIC<sub>e</sub> (`estimator='mic_e'`).\",\n",
       " \"We used the Python package `minepy` [@doi:10.1093/bioinformatics/bts707; @url:https://github.com/minepy/minepy] (version 1.2.5) to estimate the Maximal Information Coefficient (MIC) coefficient. In GTEx v8 (whole blood), we used MIC<sub>e</sub>, an improved implementation of the original MIC introduced in Reshef et al. (2016) with the default parameters `alpha=0.6`, `c=15`, and `estimator='mic_e'`. We utilized the `pairwise_distances` function from `scikit-learn` [@Sklearn2011] to parallelize the computation of MIC on GTEx. For our computational complexity analyses (see Supplementary Material), we ran the original MIC (using parameter `estimator='mic_approx'`) and MIC<sub>e</sub> (with `estimator='mic_e'`).\")"
      ]
     },
     "metadata": {},
     "output_type": "display_data"
    }
   ],
   "source": [
    "display(paragraph_matches[-1])"
   ]
  },
  {
   "cell_type": "markdown",
   "id": "6d45b21f-dc1f-470c-aa18-8281551f08ea",
   "metadata": {
    "editable": true,
    "papermill": {
     "duration": 0.030204,
     "end_time": "2024-03-20T15:54:06.247637",
     "exception": false,
     "start_time": "2024-03-20T15:54:06.217433",
     "status": "completed"
    },
    "slideshow": {
     "slide_type": ""
    },
    "tags": []
   },
   "source": [
    "## Supplementary material"
   ]
  },
  {
   "cell_type": "code",
   "execution_count": 208,
   "id": "eb506c88-55d9-45cf-8967-b8dc5ee991d4",
   "metadata": {
    "execution": {
     "iopub.execute_input": "2024-03-20T15:54:06.309405Z",
     "iopub.status.busy": "2024-03-20T15:54:06.308953Z",
     "iopub.status.idle": "2024-03-20T15:54:06.311735Z",
     "shell.execute_reply": "2024-03-20T15:54:06.311267Z"
    },
    "papermill": {
     "duration": 0.03444,
     "end_time": "2024-03-20T15:54:06.312478",
     "exception": false,
     "start_time": "2024-03-20T15:54:06.278038",
     "status": "completed"
    },
    "tags": []
   },
   "outputs": [],
   "source": [
    "section_name = \"supplementary material\""
   ]
  },
  {
   "cell_type": "code",
   "execution_count": 209,
   "id": "80f48a6c-8bb6-4cc6-9c59-b331faa12e4a",
   "metadata": {
    "editable": true,
    "execution": {
     "iopub.execute_input": "2024-03-20T15:54:06.374119Z",
     "iopub.status.busy": "2024-03-20T15:54:06.373748Z",
     "iopub.status.idle": "2024-03-20T15:54:06.376796Z",
     "shell.execute_reply": "2024-03-20T15:54:06.376356Z"
    },
    "papermill": {
     "duration": 0.034387,
     "end_time": "2024-03-20T15:54:06.377543",
     "exception": false,
     "start_time": "2024-03-20T15:54:06.343156",
     "status": "completed"
    },
    "slideshow": {
     "slide_type": ""
    },
    "tags": []
   },
   "outputs": [
    {
     "name": "stdout",
     "output_type": "stream",
     "text": [
      "content/20.00.supplementary_material.md\n"
     ]
    }
   ],
   "source": [
    "pr_filename = pr_files[10].filename\n",
    "assert \"supplementary\" in pr_filename\n",
    "print(pr_filename)"
   ]
  },
  {
   "cell_type": "markdown",
   "id": "f8f778d6-b726-44cd-965a-deabc1e43df6",
   "metadata": {
    "editable": true,
    "papermill": {
     "duration": 0.055267,
     "end_time": "2024-03-20T15:54:06.463489",
     "exception": false,
     "start_time": "2024-03-20T15:54:06.408222",
     "status": "completed"
    },
    "slideshow": {
     "slide_type": ""
    },
    "tags": []
   },
   "source": [
    "### Original"
   ]
  },
  {
   "cell_type": "code",
   "execution_count": 210,
   "id": "5326b431-733c-4824-b11b-06e1c93d5332",
   "metadata": {
    "execution": {
     "iopub.execute_input": "2024-03-20T15:54:06.526004Z",
     "iopub.status.busy": "2024-03-20T15:54:06.525802Z",
     "iopub.status.idle": "2024-03-20T15:54:06.701308Z",
     "shell.execute_reply": "2024-03-20T15:54:06.700849Z"
    },
    "papermill": {
     "duration": 0.207713,
     "end_time": "2024-03-20T15:54:06.702254",
     "exception": false,
     "start_time": "2024-03-20T15:54:06.494541",
     "status": "completed"
    },
    "tags": []
   },
   "outputs": [
    {
     "name": "stdout",
     "output_type": "stream",
     "text": [
      "## Supplementary material {.page_break_before}\n",
      "\n",
      "##\n"
     ]
    }
   ],
   "source": [
    "# get content\n",
    "orig_section_content = repo.get_contents(pr_filename, pr_prev).decoded_content.decode(\n",
    "    \"utf-8\"\n",
    ")\n",
    "print(orig_section_content[:50])"
   ]
  },
  {
   "cell_type": "code",
   "execution_count": 211,
   "id": "ecae7b08-e1a6-446e-891c-9d8df471e07b",
   "metadata": {
    "execution": {
     "iopub.execute_input": "2024-03-20T15:54:06.786040Z",
     "iopub.status.busy": "2024-03-20T15:54:06.785846Z",
     "iopub.status.idle": "2024-03-20T15:54:06.789450Z",
     "shell.execute_reply": "2024-03-20T15:54:06.789019Z"
    },
    "papermill": {
     "duration": 0.042167,
     "end_time": "2024-03-20T15:54:06.790162",
     "exception": false,
     "start_time": "2024-03-20T15:54:06.747995",
     "status": "completed"
    },
    "tags": []
   },
   "outputs": [
    {
     "data": {
      "text/plain": [
       "14"
      ]
     },
     "metadata": {},
     "output_type": "display_data"
    }
   ],
   "source": [
    "# split by paragraph\n",
    "orig_section_paragraphs = orig_section_content.split(\"\\n\\n\")\n",
    "display(len(orig_section_paragraphs))"
   ]
  },
  {
   "cell_type": "markdown",
   "id": "6233852e-953c-4acd-9f8b-f845ce267431",
   "metadata": {
    "editable": true,
    "papermill": {
     "duration": 0.030396,
     "end_time": "2024-03-20T15:54:06.850969",
     "exception": false,
     "start_time": "2024-03-20T15:54:06.820573",
     "status": "completed"
    },
    "slideshow": {
     "slide_type": ""
    },
    "tags": []
   },
   "source": [
    "### Modified"
   ]
  },
  {
   "cell_type": "code",
   "execution_count": 212,
   "id": "8f929b17-a144-4301-b40b-c10ef24bfd09",
   "metadata": {
    "execution": {
     "iopub.execute_input": "2024-03-20T15:54:06.913103Z",
     "iopub.status.busy": "2024-03-20T15:54:06.912699Z",
     "iopub.status.idle": "2024-03-20T15:54:07.080056Z",
     "shell.execute_reply": "2024-03-20T15:54:07.079601Z"
    },
    "papermill": {
     "duration": 0.199563,
     "end_time": "2024-03-20T15:54:07.081089",
     "exception": false,
     "start_time": "2024-03-20T15:54:06.881526",
     "status": "completed"
    },
    "tags": []
   },
   "outputs": [
    {
     "name": "stdout",
     "output_type": "stream",
     "text": [
      "## Supplementary material {.page_break_before}\n",
      "\n",
      "##\n"
     ]
    }
   ],
   "source": [
    "# get content\n",
    "mod_section_content = repo.get_contents(pr_filename, pr_curr).decoded_content.decode(\n",
    "    \"utf-8\"\n",
    ")\n",
    "print(mod_section_content[:50])"
   ]
  },
  {
   "cell_type": "code",
   "execution_count": 213,
   "id": "bfa5e191-05b6-4f0d-802b-5625d233d8a2",
   "metadata": {
    "execution": {
     "iopub.execute_input": "2024-03-20T15:54:07.167518Z",
     "iopub.status.busy": "2024-03-20T15:54:07.167329Z",
     "iopub.status.idle": "2024-03-20T15:54:07.170975Z",
     "shell.execute_reply": "2024-03-20T15:54:07.170540Z"
    },
    "papermill": {
     "duration": 0.045373,
     "end_time": "2024-03-20T15:54:07.171733",
     "exception": false,
     "start_time": "2024-03-20T15:54:07.126360",
     "status": "completed"
    },
    "tags": []
   },
   "outputs": [
    {
     "data": {
      "text/plain": [
       "14"
      ]
     },
     "metadata": {},
     "output_type": "display_data"
    }
   ],
   "source": [
    "# split by paragraph\n",
    "mod_section_paragraphs = mod_section_content.split(\"\\n\\n\")\n",
    "display(len(mod_section_paragraphs))"
   ]
  },
  {
   "cell_type": "markdown",
   "id": "a64b872b-1c89-4e59-9744-77431d80c867",
   "metadata": {
    "editable": true,
    "papermill": {
     "duration": 0.030157,
     "end_time": "2024-03-20T15:54:07.232327",
     "exception": false,
     "start_time": "2024-03-20T15:54:07.202170",
     "status": "completed"
    },
    "slideshow": {
     "slide_type": ""
    },
    "tags": []
   },
   "source": [
    "### Match"
   ]
  },
  {
   "cell_type": "code",
   "execution_count": 214,
   "id": "da56bb66-a1aa-4bb8-9706-41a66db00310",
   "metadata": {
    "execution": {
     "iopub.execute_input": "2024-03-20T15:54:07.294046Z",
     "iopub.status.busy": "2024-03-20T15:54:07.293851Z",
     "iopub.status.idle": "2024-03-20T15:54:07.298025Z",
     "shell.execute_reply": "2024-03-20T15:54:07.297295Z"
    },
    "papermill": {
     "duration": 0.036029,
     "end_time": "2024-03-20T15:54:07.298819",
     "exception": false,
     "start_time": "2024-03-20T15:54:07.262790",
     "status": "completed"
    },
    "tags": []
   },
   "outputs": [
    {
     "data": {
      "text/plain": [
       "'## Supplementary material {.page_break_before}'"
      ]
     },
     "execution_count": 214,
     "metadata": {},
     "output_type": "execute_result"
    }
   ],
   "source": [
    "orig_section_paragraphs[0]"
   ]
  },
  {
   "cell_type": "code",
   "execution_count": 215,
   "id": "7c647270-f58a-4cf0-ada7-fd45aea16193",
   "metadata": {
    "execution": {
     "iopub.execute_input": "2024-03-20T15:54:07.363005Z",
     "iopub.status.busy": "2024-03-20T15:54:07.362397Z",
     "iopub.status.idle": "2024-03-20T15:54:07.366343Z",
     "shell.execute_reply": "2024-03-20T15:54:07.365845Z"
    },
    "papermill": {
     "duration": 0.036441,
     "end_time": "2024-03-20T15:54:07.367116",
     "exception": false,
     "start_time": "2024-03-20T15:54:07.330675",
     "status": "completed"
    },
    "tags": []
   },
   "outputs": [
    {
     "data": {
      "text/plain": [
       "'## Supplementary material {.page_break_before}'"
      ]
     },
     "execution_count": 215,
     "metadata": {},
     "output_type": "execute_result"
    }
   ],
   "source": [
    "mod_section_paragraphs[0]"
   ]
  },
  {
   "cell_type": "markdown",
   "id": "469a6a3c-e8c5-49c5-a1eb-2314a7b2302a",
   "metadata": {
    "editable": true,
    "papermill": {
     "duration": 0.031093,
     "end_time": "2024-03-20T15:54:07.429505",
     "exception": false,
     "start_time": "2024-03-20T15:54:07.398412",
     "status": "completed"
    },
    "slideshow": {
     "slide_type": ""
    },
    "tags": []
   },
   "source": [
    "####  Paragraph 00"
   ]
  },
  {
   "cell_type": "code",
   "execution_count": 216,
   "id": "efa5226e-5064-4bfa-965d-2cd12e0aab4a",
   "metadata": {
    "execution": {
     "iopub.execute_input": "2024-03-20T15:54:07.492240Z",
     "iopub.status.busy": "2024-03-20T15:54:07.491609Z",
     "iopub.status.idle": "2024-03-20T15:54:07.495172Z",
     "shell.execute_reply": "2024-03-20T15:54:07.494653Z"
    },
    "papermill": {
     "duration": 0.035608,
     "end_time": "2024-03-20T15:54:07.495904",
     "exception": false,
     "start_time": "2024-03-20T15:54:07.460296",
     "status": "completed"
    },
    "tags": []
   },
   "outputs": [
    {
     "name": "stdout",
     "output_type": "stream",
     "text": [
      "We compared all the coefficients in this study with MIC [@pmid:22174245], a popular nonlinear method that can find complex relationships in data, although very computationally intensive [@doi:10.1098/rsos.201424]. We ran MIC<sub>e</sub> (see Methods) on all possible pairwise comparisons of our 5,000 highly variable genes from whole blood in GTEx v8. This took 4 days and 19 hours to finish (compared with 9 hours for CCC). Then we performed the analysis on the distribution of coefficients (the same as in the main text), shown in Figure @fig:dist_coefs_mic. We verified that CCC and MIC behave similarly in this dataset, with essentially the same distribution but only shifted. Figure @fig:dist_coefs_mic c shows that these two coefficients relate almost linearly, and both compare very similarly with Pearson and Spearman.\n"
     ]
    }
   ],
   "source": [
    "par0 = process_paragraph(orig_section_paragraphs[2])\n",
    "print(par0)"
   ]
  },
  {
   "cell_type": "code",
   "execution_count": 217,
   "id": "71f77d77-644e-4442-a351-ad6548544d4d",
   "metadata": {
    "execution": {
     "iopub.execute_input": "2024-03-20T15:54:07.558503Z",
     "iopub.status.busy": "2024-03-20T15:54:07.558086Z",
     "iopub.status.idle": "2024-03-20T15:54:07.561314Z",
     "shell.execute_reply": "2024-03-20T15:54:07.560812Z"
    },
    "papermill": {
     "duration": 0.035186,
     "end_time": "2024-03-20T15:54:07.562052",
     "exception": false,
     "start_time": "2024-03-20T15:54:07.526866",
     "status": "completed"
    },
    "tags": []
   },
   "outputs": [
    {
     "name": "stdout",
     "output_type": "stream",
     "text": [
      "We compared the coefficients from our study with the MIC method, which is known for identifying complex relationships in data but is computationally intensive. We applied MICe to all possible pairwise comparisons of 5,000 highly variable genes from whole blood in GTEx v8. This process took 4 days and 19 hours to complete, significantly longer than the 9 hours required for CCC. The analysis of coefficient distribution, as described in the main text, is shown in Figure 1. We found that CCC and MIC exhibited similar behavior in this dataset, with comparable distributions that were only slightly shifted. Figure 1c illustrates a nearly linear relationship between these two coefficients, which also showed similarities with Pearson and Spearman correlations.\n"
     ]
    }
   ],
   "source": [
    "par1 = process_paragraph(mod_section_paragraphs[2])\n",
    "print(par1)"
   ]
  },
  {
   "cell_type": "code",
   "execution_count": 218,
   "id": "b2424cd0-b116-462c-ab7b-7d9b558eaf8b",
   "metadata": {
    "execution": {
     "iopub.execute_input": "2024-03-20T15:54:07.624566Z",
     "iopub.status.busy": "2024-03-20T15:54:07.624334Z",
     "iopub.status.idle": "2024-03-20T15:54:07.627206Z",
     "shell.execute_reply": "2024-03-20T15:54:07.626712Z"
    },
    "papermill": {
     "duration": 0.03508,
     "end_time": "2024-03-20T15:54:07.627928",
     "exception": false,
     "start_time": "2024-03-20T15:54:07.592848",
     "status": "completed"
    },
    "tags": []
   },
   "outputs": [],
   "source": [
    "paragraph_matches.append(\n",
    "    (\n",
    "        section_name,\n",
    "        par0,\n",
    "        par1,\n",
    "    )\n",
    ")"
   ]
  },
  {
   "cell_type": "code",
   "execution_count": 219,
   "id": "95819616-d4c8-4297-8f39-908533eef881",
   "metadata": {
    "execution": {
     "iopub.execute_input": "2024-03-20T15:54:07.690286Z",
     "iopub.status.busy": "2024-03-20T15:54:07.690092Z",
     "iopub.status.idle": "2024-03-20T15:54:07.693846Z",
     "shell.execute_reply": "2024-03-20T15:54:07.693348Z"
    },
    "papermill": {
     "duration": 0.035821,
     "end_time": "2024-03-20T15:54:07.694550",
     "exception": false,
     "start_time": "2024-03-20T15:54:07.658729",
     "status": "completed"
    },
    "tags": []
   },
   "outputs": [
    {
     "data": {
      "text/plain": [
       "('supplementary material',\n",
       " 'We compared all the coefficients in this study with MIC [@pmid:22174245], a popular nonlinear method that can find complex relationships in data, although very computationally intensive [@doi:10.1098/rsos.201424]. We ran MIC<sub>e</sub> (see Methods) on all possible pairwise comparisons of our 5,000 highly variable genes from whole blood in GTEx v8. This took 4 days and 19 hours to finish (compared with 9 hours for CCC). Then we performed the analysis on the distribution of coefficients (the same as in the main text), shown in Figure @fig:dist_coefs_mic. We verified that CCC and MIC behave similarly in this dataset, with essentially the same distribution but only shifted. Figure @fig:dist_coefs_mic c shows that these two coefficients relate almost linearly, and both compare very similarly with Pearson and Spearman.',\n",
       " 'We compared the coefficients from our study with the MIC method, which is known for identifying complex relationships in data but is computationally intensive. We applied MICe to all possible pairwise comparisons of 5,000 highly variable genes from whole blood in GTEx v8. This process took 4 days and 19 hours to complete, significantly longer than the 9 hours required for CCC. The analysis of coefficient distribution, as described in the main text, is shown in Figure 1. We found that CCC and MIC exhibited similar behavior in this dataset, with comparable distributions that were only slightly shifted. Figure 1c illustrates a nearly linear relationship between these two coefficients, which also showed similarities with Pearson and Spearman correlations.')"
      ]
     },
     "metadata": {},
     "output_type": "display_data"
    }
   ],
   "source": [
    "display(paragraph_matches[-1])"
   ]
  },
  {
   "cell_type": "markdown",
   "id": "886bb81d-36e0-4c67-a888-453cd6e38127",
   "metadata": {
    "editable": true,
    "papermill": {
     "duration": 0.030653,
     "end_time": "2024-03-20T15:54:07.756443",
     "exception": false,
     "start_time": "2024-03-20T15:54:07.725790",
     "status": "completed"
    },
    "slideshow": {
     "slide_type": ""
    },
    "tags": []
   },
   "source": [
    "####  Paragraph 01"
   ]
  },
  {
   "cell_type": "code",
   "execution_count": 220,
   "id": "1efff32a-48b6-478e-8747-05cdcb08ee5a",
   "metadata": {
    "execution": {
     "iopub.execute_input": "2024-03-20T15:54:07.819603Z",
     "iopub.status.busy": "2024-03-20T15:54:07.819413Z",
     "iopub.status.idle": "2024-03-20T15:54:07.822646Z",
     "shell.execute_reply": "2024-03-20T15:54:07.822143Z"
    },
    "papermill": {
     "duration": 0.03564,
     "end_time": "2024-03-20T15:54:07.823356",
     "exception": false,
     "start_time": "2024-03-20T15:54:07.787716",
     "status": "completed"
    },
    "tags": []
   },
   "outputs": [
    {
     "name": "stdout",
     "output_type": "stream",
     "text": [
      "We also compared CCC with the other coefficients in terms of computational complexity. Although CCC and MIC might identify similar gene pairs in gene expression data (see [here](#sec:mic)), the use of MIC in large datasets remains limited due to its very long computation time, despite some methodological/implementation improvements [@doi:10.1093/bioinformatics/bts707; @doi:10.1371/journal.pone.0157567; @doi:10.4137/EBO.S13121; @doi:10.1038/srep06662; @doi:10.1098/rsos.201424]. The original MIC implementation uses ApproxMaxMI, a computationally demanding heuristic estimator [@doi:10.1126/science.1205438]. Recently, a more efficient implementation called MIC<sub>e</sub> was proposed [@Reshef2016]. These two MIC estimators are provided by the `minepy` package [@doi:10.1093/bioinformatics/bts707], a C implementation available for Python. We compared all these coefficients in terms of computation time on randomly generated variables of different sizes, which simulates a scenario of gene expression data with different numbers of conditions. Differently from the rest, CCC allows us to easily parallelize the computation of a single gene pair (see [Methods](#sec:ccc_algo)), so we also tested the cases using 1 and 3 CPU cores. Figure @fig:time_test shows the time in seconds in log scale.\n"
     ]
    }
   ],
   "source": [
    "par0 = process_paragraph(orig_section_paragraphs[6])\n",
    "print(par0)"
   ]
  },
  {
   "cell_type": "code",
   "execution_count": 221,
   "id": "9dab826c-06db-4a69-9a3c-81d3d44f6857",
   "metadata": {
    "execution": {
     "iopub.execute_input": "2024-03-20T15:54:07.886559Z",
     "iopub.status.busy": "2024-03-20T15:54:07.886374Z",
     "iopub.status.idle": "2024-03-20T15:54:07.889478Z",
     "shell.execute_reply": "2024-03-20T15:54:07.888982Z"
    },
    "papermill": {
     "duration": 0.035597,
     "end_time": "2024-03-20T15:54:07.890174",
     "exception": false,
     "start_time": "2024-03-20T15:54:07.854577",
     "status": "completed"
    },
    "tags": []
   },
   "outputs": [
    {
     "name": "stdout",
     "output_type": "stream",
     "text": [
      "We compared CCC with other correlation coefficients in terms of computational complexity. While CCC and MIC may identify similar gene pairs in gene expression data, MIC is limited in large datasets due to its long computation time. Some improvements have been made to the MIC method, but its original implementation, which uses ApproxMaxMI, is computationally demanding. A more efficient implementation called MICe has been proposed. Both MIC estimators are included in the minepy package, a C implementation available for Python. We compared these coefficients in terms of computation time on randomly generated variables of different sizes to simulate scenarios of gene expression data with varying numbers of conditions. Unlike other coefficients, CCC allows for easy parallelization of the computation of a single gene pair. We tested the cases using 1 and 3 CPU cores. The results are shown in Figure 1.\n"
     ]
    }
   ],
   "source": [
    "par1 = process_paragraph(mod_section_paragraphs[6])\n",
    "print(par1)"
   ]
  },
  {
   "cell_type": "code",
   "execution_count": 222,
   "id": "925380f8-424e-4ad4-a785-7c1cf03dec70",
   "metadata": {
    "execution": {
     "iopub.execute_input": "2024-03-20T15:54:07.953606Z",
     "iopub.status.busy": "2024-03-20T15:54:07.953080Z",
     "iopub.status.idle": "2024-03-20T15:54:07.956140Z",
     "shell.execute_reply": "2024-03-20T15:54:07.955529Z"
    },
    "papermill": {
     "duration": 0.035528,
     "end_time": "2024-03-20T15:54:07.956922",
     "exception": false,
     "start_time": "2024-03-20T15:54:07.921394",
     "status": "completed"
    },
    "tags": []
   },
   "outputs": [],
   "source": [
    "paragraph_matches.append(\n",
    "    (\n",
    "        section_name,\n",
    "        par0,\n",
    "        par1,\n",
    "    )\n",
    ")"
   ]
  },
  {
   "cell_type": "code",
   "execution_count": 223,
   "id": "cf9819c9-d8ad-4c64-9937-05b88634ff71",
   "metadata": {
    "execution": {
     "iopub.execute_input": "2024-03-20T15:54:08.020318Z",
     "iopub.status.busy": "2024-03-20T15:54:08.019871Z",
     "iopub.status.idle": "2024-03-20T15:54:08.023678Z",
     "shell.execute_reply": "2024-03-20T15:54:08.023243Z"
    },
    "papermill": {
     "duration": 0.036377,
     "end_time": "2024-03-20T15:54:08.024437",
     "exception": false,
     "start_time": "2024-03-20T15:54:07.988060",
     "status": "completed"
    },
    "tags": []
   },
   "outputs": [
    {
     "data": {
      "text/plain": [
       "('supplementary material',\n",
       " 'We also compared CCC with the other coefficients in terms of computational complexity. Although CCC and MIC might identify similar gene pairs in gene expression data (see [here](#sec:mic)), the use of MIC in large datasets remains limited due to its very long computation time, despite some methodological/implementation improvements [@doi:10.1093/bioinformatics/bts707; @doi:10.1371/journal.pone.0157567; @doi:10.4137/EBO.S13121; @doi:10.1038/srep06662; @doi:10.1098/rsos.201424]. The original MIC implementation uses ApproxMaxMI, a computationally demanding heuristic estimator [@doi:10.1126/science.1205438]. Recently, a more efficient implementation called MIC<sub>e</sub> was proposed [@Reshef2016]. These two MIC estimators are provided by the `minepy` package [@doi:10.1093/bioinformatics/bts707], a C implementation available for Python. We compared all these coefficients in terms of computation time on randomly generated variables of different sizes, which simulates a scenario of gene expression data with different numbers of conditions. Differently from the rest, CCC allows us to easily parallelize the computation of a single gene pair (see [Methods](#sec:ccc_algo)), so we also tested the cases using 1 and 3 CPU cores. Figure @fig:time_test shows the time in seconds in log scale.',\n",
       " 'We compared CCC with other correlation coefficients in terms of computational complexity. While CCC and MIC may identify similar gene pairs in gene expression data, MIC is limited in large datasets due to its long computation time. Some improvements have been made to the MIC method, but its original implementation, which uses ApproxMaxMI, is computationally demanding. A more efficient implementation called MICe has been proposed. Both MIC estimators are included in the minepy package, a C implementation available for Python. We compared these coefficients in terms of computation time on randomly generated variables of different sizes to simulate scenarios of gene expression data with varying numbers of conditions. Unlike other coefficients, CCC allows for easy parallelization of the computation of a single gene pair. We tested the cases using 1 and 3 CPU cores. The results are shown in Figure 1.')"
      ]
     },
     "metadata": {},
     "output_type": "display_data"
    }
   ],
   "source": [
    "display(paragraph_matches[-1])"
   ]
  },
  {
   "cell_type": "markdown",
   "id": "b657d1c7-105f-41cf-be52-84abfe78027e",
   "metadata": {
    "editable": true,
    "papermill": {
     "duration": 0.031112,
     "end_time": "2024-03-20T15:54:08.086937",
     "exception": false,
     "start_time": "2024-03-20T15:54:08.055825",
     "status": "completed"
    },
    "slideshow": {
     "slide_type": ""
    },
    "tags": []
   },
   "source": [
    "####  Paragraph 02"
   ]
  },
  {
   "cell_type": "code",
   "execution_count": 224,
   "id": "db092b9a-b322-42a3-b871-5a7009ffbb44",
   "metadata": {
    "execution": {
     "iopub.execute_input": "2024-03-20T15:54:08.150073Z",
     "iopub.status.busy": "2024-03-20T15:54:08.149871Z",
     "iopub.status.idle": "2024-03-20T15:54:08.153002Z",
     "shell.execute_reply": "2024-03-20T15:54:08.152529Z"
    },
    "papermill": {
     "duration": 0.035519,
     "end_time": "2024-03-20T15:54:08.153735",
     "exception": false,
     "start_time": "2024-03-20T15:54:08.118216",
     "status": "completed"
    },
    "tags": []
   },
   "outputs": [
    {
     "name": "stdout",
     "output_type": "stream",
     "text": [
      "As we already expected, Pearson and Spearman were the fastest, given that they only need to compute basic summary statistics from the data. For example, Pearson is three orders of magnitude faster than CCC. Among the nonlinear coefficients, CCC was faster than the two MIC variations (up to two orders of magnitude), with the only exception in very small data sizes. The difference is important because both MIC variants were implemented in C [@doi:10.1093/bioinformatics/bts707], a high-performance programming language, whereas CCC was implemented in Python (optimized with `numba`). For a data size of a million, the multi-core CCC was twice as fast as the single-core CCC. This suggests that new implementations using more advanced processing units (such as GPUs) are feasible and could make CCC reach speeds closer to Pearson.\n"
     ]
    }
   ],
   "source": [
    "par0 = process_paragraph(orig_section_paragraphs[8])\n",
    "print(par0)"
   ]
  },
  {
   "cell_type": "code",
   "execution_count": 225,
   "id": "26d3a58b-62c5-4de7-a566-9b25eec680c6",
   "metadata": {
    "execution": {
     "iopub.execute_input": "2024-03-20T15:54:08.216904Z",
     "iopub.status.busy": "2024-03-20T15:54:08.216713Z",
     "iopub.status.idle": "2024-03-20T15:54:08.219648Z",
     "shell.execute_reply": "2024-03-20T15:54:08.219211Z"
    },
    "papermill": {
     "duration": 0.035401,
     "end_time": "2024-03-20T15:54:08.220385",
     "exception": false,
     "start_time": "2024-03-20T15:54:08.184984",
     "status": "completed"
    },
    "tags": []
   },
   "outputs": [
    {
     "name": "stdout",
     "output_type": "stream",
     "text": [
      "As we anticipated, Pearson and Spearman were the quickest as they only require basic summary statistics from the data. For instance, Pearson is significantly faster than CCC. Among the nonlinear coefficients, CCC was quicker than the two MIC variations (up to two orders of magnitude), except for very small data sizes. This difference is noteworthy because both MIC variants were coded in C, a high-performance programming language, while CCC was coded in Python (optimized with `numba`). For a dataset of a million, the multi-core CCC was twice as fast as the single-core CCC. This indicates that new implementations utilizing more advanced processing units (such as GPUs) are possible and could potentially increase CCC's speed closer to that of Pearson.\n"
     ]
    }
   ],
   "source": [
    "par1 = process_paragraph(mod_section_paragraphs[8])\n",
    "print(par1)"
   ]
  },
  {
   "cell_type": "code",
   "execution_count": 226,
   "id": "97b9a412-f131-45b1-8667-f6355fb3e6ae",
   "metadata": {
    "execution": {
     "iopub.execute_input": "2024-03-20T15:54:08.284552Z",
     "iopub.status.busy": "2024-03-20T15:54:08.283976Z",
     "iopub.status.idle": "2024-03-20T15:54:08.287003Z",
     "shell.execute_reply": "2024-03-20T15:54:08.286563Z"
    },
    "papermill": {
     "duration": 0.03593,
     "end_time": "2024-03-20T15:54:08.287751",
     "exception": false,
     "start_time": "2024-03-20T15:54:08.251821",
     "status": "completed"
    },
    "tags": []
   },
   "outputs": [],
   "source": [
    "paragraph_matches.append(\n",
    "    (\n",
    "        section_name,\n",
    "        par0,\n",
    "        par1,\n",
    "    )\n",
    ")"
   ]
  },
  {
   "cell_type": "code",
   "execution_count": 227,
   "id": "ad8b2ec9-cb0d-4d2c-b545-0cdac789c00f",
   "metadata": {
    "execution": {
     "iopub.execute_input": "2024-03-20T15:54:08.352784Z",
     "iopub.status.busy": "2024-03-20T15:54:08.352242Z",
     "iopub.status.idle": "2024-03-20T15:54:08.356386Z",
     "shell.execute_reply": "2024-03-20T15:54:08.355841Z"
    },
    "papermill": {
     "duration": 0.037885,
     "end_time": "2024-03-20T15:54:08.357172",
     "exception": false,
     "start_time": "2024-03-20T15:54:08.319287",
     "status": "completed"
    },
    "tags": []
   },
   "outputs": [
    {
     "data": {
      "text/plain": [
       "('supplementary material',\n",
       " 'As we already expected, Pearson and Spearman were the fastest, given that they only need to compute basic summary statistics from the data. For example, Pearson is three orders of magnitude faster than CCC. Among the nonlinear coefficients, CCC was faster than the two MIC variations (up to two orders of magnitude), with the only exception in very small data sizes. The difference is important because both MIC variants were implemented in C [@doi:10.1093/bioinformatics/bts707], a high-performance programming language, whereas CCC was implemented in Python (optimized with `numba`). For a data size of a million, the multi-core CCC was twice as fast as the single-core CCC. This suggests that new implementations using more advanced processing units (such as GPUs) are feasible and could make CCC reach speeds closer to Pearson.',\n",
       " \"As we anticipated, Pearson and Spearman were the quickest as they only require basic summary statistics from the data. For instance, Pearson is significantly faster than CCC. Among the nonlinear coefficients, CCC was quicker than the two MIC variations (up to two orders of magnitude), except for very small data sizes. This difference is noteworthy because both MIC variants were coded in C, a high-performance programming language, while CCC was coded in Python (optimized with `numba`). For a dataset of a million, the multi-core CCC was twice as fast as the single-core CCC. This indicates that new implementations utilizing more advanced processing units (such as GPUs) are possible and could potentially increase CCC's speed closer to that of Pearson.\")"
      ]
     },
     "metadata": {},
     "output_type": "display_data"
    }
   ],
   "source": [
    "display(paragraph_matches[-1])"
   ]
  },
  {
   "cell_type": "markdown",
   "id": "9a45b8eb-9a57-4d0a-b311-b7ce8f6b4ceb",
   "metadata": {
    "editable": true,
    "papermill": {
     "duration": 0.031725,
     "end_time": "2024-03-20T15:54:08.420950",
     "exception": false,
     "start_time": "2024-03-20T15:54:08.389225",
     "status": "completed"
    },
    "slideshow": {
     "slide_type": ""
    },
    "tags": []
   },
   "source": [
    "# Close connections"
   ]
  },
  {
   "cell_type": "code",
   "execution_count": 228,
   "id": "91fcd4bb-131b-42b2-b64f-127441bd608b",
   "metadata": {
    "editable": true,
    "execution": {
     "iopub.execute_input": "2024-03-20T15:54:08.485210Z",
     "iopub.status.busy": "2024-03-20T15:54:08.484608Z",
     "iopub.status.idle": "2024-03-20T15:54:08.488484Z",
     "shell.execute_reply": "2024-03-20T15:54:08.488028Z"
    },
    "papermill": {
     "duration": 0.036975,
     "end_time": "2024-03-20T15:54:08.489455",
     "exception": false,
     "start_time": "2024-03-20T15:54:08.452480",
     "status": "completed"
    },
    "slideshow": {
     "slide_type": ""
    },
    "tags": []
   },
   "outputs": [],
   "source": [
    "g.close()"
   ]
  },
  {
   "cell_type": "markdown",
   "id": "be4b2259-6562-4d79-a0d2-a594c44a7fa8",
   "metadata": {
    "editable": true,
    "papermill": {
     "duration": 0.031146,
     "end_time": "2024-03-20T15:54:08.552276",
     "exception": false,
     "start_time": "2024-03-20T15:54:08.521130",
     "status": "completed"
    },
    "slideshow": {
     "slide_type": ""
    },
    "tags": []
   },
   "source": [
    "# Save"
   ]
  },
  {
   "cell_type": "code",
   "execution_count": 229,
   "id": "6b7e80bd-f678-4047-b0f6-3c4e55de4767",
   "metadata": {
    "editable": true,
    "execution": {
     "iopub.execute_input": "2024-03-20T15:54:08.616095Z",
     "iopub.status.busy": "2024-03-20T15:54:08.615612Z",
     "iopub.status.idle": "2024-03-20T15:54:08.619121Z",
     "shell.execute_reply": "2024-03-20T15:54:08.618694Z"
    },
    "papermill": {
     "duration": 0.036138,
     "end_time": "2024-03-20T15:54:08.619852",
     "exception": false,
     "start_time": "2024-03-20T15:54:08.583714",
     "status": "completed"
    },
    "slideshow": {
     "slide_type": ""
    },
    "tags": []
   },
   "outputs": [
    {
     "data": {
      "text/plain": [
       "31"
      ]
     },
     "execution_count": 229,
     "metadata": {},
     "output_type": "execute_result"
    }
   ],
   "source": [
    "len(paragraph_matches)"
   ]
  },
  {
   "cell_type": "code",
   "execution_count": 230,
   "id": "876f2147-1ea0-4f45-8eb2-722761b5394c",
   "metadata": {
    "execution": {
     "iopub.execute_input": "2024-03-20T15:54:08.683606Z",
     "iopub.status.busy": "2024-03-20T15:54:08.683423Z",
     "iopub.status.idle": "2024-03-20T15:54:08.686892Z",
     "shell.execute_reply": "2024-03-20T15:54:08.686471Z"
    },
    "papermill": {
     "duration": 0.036026,
     "end_time": "2024-03-20T15:54:08.687568",
     "exception": false,
     "start_time": "2024-03-20T15:54:08.651542",
     "status": "completed"
    },
    "tags": []
   },
   "outputs": [
    {
     "data": {
      "text/plain": [
       "[('abstract',\n",
       "  'Correlation coefficients are widely used to identify patterns in data that may be of particular interest. In transcriptomics, genes with correlated expression often share functions or are part of disease-relevant biological processes. Here we introduce the Clustermatch Correlation Coefficient (CCC), an efficient, easy-to-use and not-only-linear coefficient based on machine learning models. CCC reveals biologically meaningful linear and nonlinear patterns missed by standard, linear-only correlation coefficients. CCC captures general patterns in data by comparing clustering solutions while being much faster than state-of-the-art coefficients such as the Maximal Information Coefficient. When applied to human gene expression data, CCC identifies robust linear relationships while detecting nonlinear patterns associated, for example, with sex differences that are not captured by linear-only coefficients. Gene pairs highly ranked by CCC were enriched for interactions in integrated networks built from protein-protein interaction, transcription factor regulation, and chemical and genetic perturbations, suggesting that CCC could detect functional relationships that linear-only methods missed. CCC is a highly-efficient, next-generation not-only-linear correlation coefficient that can readily be applied to genome-scale data and other domains across different data types.',\n",
       "  'In transcriptomics, identifying patterns in gene expression data is crucial for understanding biological processes. The traditional linear correlation coefficients may not capture all the complexities in gene relationships. To address this, we propose the Clustermatch Correlation Coefficient (CCC), a machine learning-based coefficient that can reveal both linear and nonlinear patterns efficiently. Compared to standard coefficients like the Maximal Information Coefficient, CCC is faster and can detect biologically meaningful patterns that are missed by linear-only methods. When applied to human gene expression data, CCC not only identifies robust linear relationships but also uncovers nonlinear patterns, such as sex differences. Additionally, CCC can detect functional relationships between genes that are overlooked by linear-only methods, as shown by enrichment in integrated networks. Overall, CCC is a versatile and efficient tool that can be applied to genome-scale data and various data types to uncover hidden relationships.'),\n",
       " ('introduction',\n",
       "  'New technologies have vastly improved data collection, generating a deluge of information across different disciplines. This large amount of data provides new opportunities to address unanswered scientific questions, provided we have efficient tools capable of identifying multiple types of underlying patterns. Correlation analysis is an essential statistical technique for discovering relationships between variables [@pmid:21310971]. Correlation coefficients are often used in exploratory data mining techniques, such as clustering or community detection algorithms, to compute a similarity value between a pair of objects of interest such as genes [@pmid:27479844] or disease-relevant lifestyle factors [@doi:10.1073/pnas.1217269109]. Correlation methods are also used in supervised tasks, for example, for feature selection to improve prediction accuracy [@pmid:27006077; @pmid:33729976]. The Pearson correlation coefficient is ubiquitously deployed across application domains and diverse scientific areas. Thus, even minor and significant improvements in these techniques could have enormous consequences in industry and research.',\n",
       "  'Recent advancements in data collection have led to a significant increase in the amount of information available in various fields. This abundance of data presents an opportunity to explore unanswered scientific questions, but efficient tools are needed to uncover different patterns within the data. Correlation analysis, a fundamental statistical method, is commonly used to identify relationships between variables (Smith et al., 2011). Correlation coefficients play a crucial role in data mining approaches, such as clustering algorithms, to measure the similarity between objects of interest, such as genes (Jones et al., 2016) or lifestyle factors related to diseases (Brown et al., 2013). These methods are also applied in supervised tasks, including feature selection to enhance prediction accuracy (Johnson et al., 2017; White et al., 2021). The widespread use of the Pearson correlation coefficient spans various scientific fields and applications. Therefore, even slight improvements in these methods could have a significant impact on both industry and research.')]"
      ]
     },
     "execution_count": 230,
     "metadata": {},
     "output_type": "execute_result"
    }
   ],
   "source": [
    "paragraph_matches[:2]"
   ]
  },
  {
   "cell_type": "code",
   "execution_count": 231,
   "id": "77d20807-9017-4e10-8cb7-6a3c706e9111",
   "metadata": {
    "execution": {
     "iopub.execute_input": "2024-03-20T15:54:08.776649Z",
     "iopub.status.busy": "2024-03-20T15:54:08.776449Z",
     "iopub.status.idle": "2024-03-20T15:54:08.780130Z",
     "shell.execute_reply": "2024-03-20T15:54:08.779688Z"
    },
    "papermill": {
     "duration": 0.036841,
     "end_time": "2024-03-20T15:54:08.780879",
     "exception": false,
     "start_time": "2024-03-20T15:54:08.744038",
     "status": "completed"
    },
    "tags": []
   },
   "outputs": [],
   "source": [
    "df = pd.DataFrame(paragraph_matches).rename(\n",
    "    columns={\n",
    "        0: \"section\",\n",
    "        1: \"original\",\n",
    "        2: \"modified\",\n",
    "    }\n",
    ")"
   ]
  },
  {
   "cell_type": "code",
   "execution_count": 232,
   "id": "44e31258-2754-49a0-af7a-5f3b4ef3a961",
   "metadata": {
    "execution": {
     "iopub.execute_input": "2024-03-20T15:54:08.844537Z",
     "iopub.status.busy": "2024-03-20T15:54:08.844333Z",
     "iopub.status.idle": "2024-03-20T15:54:08.847604Z",
     "shell.execute_reply": "2024-03-20T15:54:08.847188Z"
    },
    "papermill": {
     "duration": 0.035848,
     "end_time": "2024-03-20T15:54:08.848311",
     "exception": false,
     "start_time": "2024-03-20T15:54:08.812463",
     "status": "completed"
    },
    "tags": []
   },
   "outputs": [
    {
     "data": {
      "text/plain": [
       "(31, 3)"
      ]
     },
     "execution_count": 232,
     "metadata": {},
     "output_type": "execute_result"
    }
   ],
   "source": [
    "df.shape"
   ]
  },
  {
   "cell_type": "code",
   "execution_count": 233,
   "id": "f7612c30-e726-474f-8039-aa4bc44d1f16",
   "metadata": {
    "execution": {
     "iopub.execute_input": "2024-03-20T15:54:08.912024Z",
     "iopub.status.busy": "2024-03-20T15:54:08.911841Z",
     "iopub.status.idle": "2024-03-20T15:54:08.924416Z",
     "shell.execute_reply": "2024-03-20T15:54:08.923936Z"
    },
    "papermill": {
     "duration": 0.045113,
     "end_time": "2024-03-20T15:54:08.925122",
     "exception": false,
     "start_time": "2024-03-20T15:54:08.880009",
     "status": "completed"
    },
    "tags": []
   },
   "outputs": [
    {
     "data": {
      "text/html": [
       "<div>\n",
       "<style scoped>\n",
       "    .dataframe tbody tr th:only-of-type {\n",
       "        vertical-align: middle;\n",
       "    }\n",
       "\n",
       "    .dataframe tbody tr th {\n",
       "        vertical-align: top;\n",
       "    }\n",
       "\n",
       "    .dataframe thead th {\n",
       "        text-align: right;\n",
       "    }\n",
       "</style>\n",
       "<table border=\"1\" class=\"dataframe\">\n",
       "  <thead>\n",
       "    <tr style=\"text-align: right;\">\n",
       "      <th></th>\n",
       "      <th>section</th>\n",
       "      <th>original</th>\n",
       "      <th>modified</th>\n",
       "    </tr>\n",
       "  </thead>\n",
       "  <tbody>\n",
       "    <tr>\n",
       "      <th>0</th>\n",
       "      <td>abstract</td>\n",
       "      <td>Correlation coefficients are widely used to id...</td>\n",
       "      <td>In transcriptomics, identifying patterns in ge...</td>\n",
       "    </tr>\n",
       "    <tr>\n",
       "      <th>1</th>\n",
       "      <td>introduction</td>\n",
       "      <td>New technologies have vastly improved data col...</td>\n",
       "      <td>Recent advancements in data collection have le...</td>\n",
       "    </tr>\n",
       "    <tr>\n",
       "      <th>2</th>\n",
       "      <td>introduction</td>\n",
       "      <td>In transcriptomics, many analyses start with e...</td>\n",
       "      <td>In the field of transcriptomics, many analyses...</td>\n",
       "    </tr>\n",
       "    <tr>\n",
       "      <th>3</th>\n",
       "      <td>introduction</td>\n",
       "      <td>The Pearson and Spearman correlation coefficie...</td>\n",
       "      <td>The Pearson and Spearman correlation coefficie...</td>\n",
       "    </tr>\n",
       "    <tr>\n",
       "      <th>4</th>\n",
       "      <td>results</td>\n",
       "      <td>The CCC provides a similarity measure between ...</td>\n",
       "      <td>The CCC calculates the similarity between pair...</td>\n",
       "    </tr>\n",
       "  </tbody>\n",
       "</table>\n",
       "</div>"
      ],
      "text/plain": [
       "        section                                           original  \\\n",
       "0      abstract  Correlation coefficients are widely used to id...   \n",
       "1  introduction  New technologies have vastly improved data col...   \n",
       "2  introduction  In transcriptomics, many analyses start with e...   \n",
       "3  introduction  The Pearson and Spearman correlation coefficie...   \n",
       "4       results  The CCC provides a similarity measure between ...   \n",
       "\n",
       "                                            modified  \n",
       "0  In transcriptomics, identifying patterns in ge...  \n",
       "1  Recent advancements in data collection have le...  \n",
       "2  In the field of transcriptomics, many analyses...  \n",
       "3  The Pearson and Spearman correlation coefficie...  \n",
       "4  The CCC calculates the similarity between pair...  "
      ]
     },
     "execution_count": 233,
     "metadata": {},
     "output_type": "execute_result"
    }
   ],
   "source": [
    "df.head()"
   ]
  },
  {
   "cell_type": "code",
   "execution_count": 234,
   "id": "e072fbf8-91bd-4684-8782-9ccb8d6ee565",
   "metadata": {
    "execution": {
     "iopub.execute_input": "2024-03-20T15:54:08.989285Z",
     "iopub.status.busy": "2024-03-20T15:54:08.989098Z",
     "iopub.status.idle": "2024-03-20T15:54:08.992260Z",
     "shell.execute_reply": "2024-03-20T15:54:08.991833Z"
    },
    "papermill": {
     "duration": 0.036122,
     "end_time": "2024-03-20T15:54:08.993011",
     "exception": false,
     "start_time": "2024-03-20T15:54:08.956889",
     "status": "completed"
    },
    "tags": []
   },
   "outputs": [],
   "source": [
    "df.to_pickle(OUTPUT_FILE_PATH)"
   ]
  },
  {
   "cell_type": "markdown",
   "id": "88e05a0e",
   "metadata": {
    "editable": true,
    "slideshow": {
     "slide_type": ""
    },
    "tags": []
   },
   "source": [
    "# Reverse original/modified columns"
   ]
  },
  {
   "cell_type": "code",
   "execution_count": null,
   "id": "039b695b",
   "metadata": {
    "editable": true,
    "slideshow": {
     "slide_type": ""
    },
    "tags": []
   },
   "outputs": [],
   "source": [
    "df_reversed = df.rename(columns={\"original\": \"modified2\"}).rename(\n",
    "    columns={\"modified\": \"original\", \"modified2\": \"modified\"}\n",
    ")"
   ]
  },
  {
   "cell_type": "code",
   "execution_count": null,
   "id": "3c2ea044",
   "metadata": {
    "editable": true,
    "slideshow": {
     "slide_type": ""
    },
    "tags": []
   },
   "outputs": [],
   "source": [
    "df_reversed.shape"
   ]
  },
  {
   "cell_type": "code",
   "execution_count": null,
   "id": "7cfa4a58",
   "metadata": {
    "editable": true,
    "slideshow": {
     "slide_type": ""
    },
    "tags": []
   },
   "outputs": [],
   "source": [
    "df_reversed.head()"
   ]
  },
  {
   "cell_type": "markdown",
   "id": "3d7cd7d6",
   "metadata": {
    "editable": true,
    "slideshow": {
     "slide_type": ""
    },
    "tags": []
   },
   "source": [
    "## Save"
   ]
  },
  {
   "cell_type": "code",
   "execution_count": null,
   "id": "989f3b79",
   "metadata": {
    "tags": []
   },
   "outputs": [],
   "source": [
    "df_reversed.to_pickle(REVERSED_OUTPUT_FILE_PATH)"
   ]
  },
  {
   "cell_type": "code",
   "execution_count": null,
   "id": "02304589-1223-48c7-9c0a-26bfa26392e7",
   "metadata": {
    "editable": true,
    "papermill": {
     "duration": 0.031503,
     "end_time": "2024-03-20T15:54:09.056052",
     "exception": false,
     "start_time": "2024-03-20T15:54:09.024549",
     "status": "completed"
    },
    "slideshow": {
     "slide_type": ""
    },
    "tags": []
   },
   "outputs": [],
   "source": []
  }
 ],
 "metadata": {
  "jupytext": {
   "cell_metadata_filter": "all,-execution,-papermill,-trusted",
   "notebook_metadata_filter": "-jupytext.text_representation.jupytext_version"
  },
  "kernelspec": {
   "display_name": "Python 3 (ipykernel)",
   "language": "python",
   "name": "python3"
  },
  "language_info": {
   "codemirror_mode": {
    "name": "ipython",
    "version": 3
   },
   "file_extension": ".py",
   "mimetype": "text/x-python",
   "name": "python",
   "nbconvert_exporter": "python",
   "pygments_lexer": "ipython3",
   "version": "3.11.8"
  },
  "papermill": {
   "default_parameters": {},
   "duration": 26.615048,
   "end_time": "2024-03-20T15:54:09.605588",
   "environment_variables": {},
   "exception": null,
   "input_path": "/home/miltondp/projects/others/manubot/manubot-ai-editor-code/nbs/01-paragraph_match/05-ccc-gpt35-par_match.ipynb",
   "output_path": "/home/miltondp/projects/others/manubot/manubot-ai-editor-code/nbs/01-paragraph_match/05-ccc-gpt35-par_match.run.ipynb",
   "parameters": {
    "OUTPUT_FILE_PATH": "/home/miltondp/projects/others/manubot/manubot-ai-editor-code/base/results/paragraph_match/ccc-manuscript--gpt-3.5-turbo.pkl"
   },
   "start_time": "2024-03-20T15:53:42.990540",
   "version": "2.5.0"
  }
 },
 "nbformat": 4,
 "nbformat_minor": 5
}
